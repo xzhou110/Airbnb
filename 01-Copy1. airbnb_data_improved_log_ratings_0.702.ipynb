{
 "cells": [
  {
   "cell_type": "code",
   "execution_count": null,
   "metadata": {
    "ExecuteTime": {
     "end_time": "2018-09-17T01:20:35.621737Z",
     "start_time": "2018-09-17T01:20:33.189921Z"
    }
   },
   "outputs": [],
   "source": [
    "import pandas as pd\n",
    "import csv\n",
    "import re\n",
    "import statsmodels.api as sm\n",
    "\n",
    "\n",
    "from datetime import datetime\n",
    "import matplotlib.pyplot as plt\n",
    "import numpy as np\n",
    "from sklearn import datasets, linear_model\n",
    "from sklearn.metrics import mean_squared_error, r2_score\n",
    "from sklearn.preprocessing import StandardScaler\n",
    "from sklearn.model_selection import train_test_split"
   ]
  },
  {
   "cell_type": "code",
   "execution_count": null,
   "metadata": {
    "ExecuteTime": {
     "end_time": "2018-09-17T01:20:35.628278Z",
     "start_time": "2018-09-17T01:20:35.624284Z"
    }
   },
   "outputs": [],
   "source": [
    "file_url = '/Users/xzhou/github/project_archives/files_airbnb/sc_airbnb/{}.csv'\n",
    "\n",
    "listings_file = file_url.format('listings_details')\n",
    "reviews_file = file_url.format('reviews_details')\n",
    "calendar_file = file_url.format('calendar_details')"
   ]
  },
  {
   "cell_type": "code",
   "execution_count": null,
   "metadata": {
    "ExecuteTime": {
     "end_time": "2018-09-17T01:20:35.635449Z",
     "start_time": "2018-09-17T01:20:35.630736Z"
    }
   },
   "outputs": [],
   "source": [
    "file_url = '/Users/xzhou/github/project_archives/files_airbnb/{}.csv'\n",
    "\n",
    "sf_file = file_url.format('sf_airbnb/listings_details')\n",
    "ok_file = file_url.format('ok_airbnb/listings_details')\n",
    "sc_file = file_url.format('sc_airbnb/listings_details')\n",
    "scz_file = file_url.format('scz_airbnb/listings_details')"
   ]
  },
  {
   "cell_type": "code",
   "execution_count": null,
   "metadata": {
    "ExecuteTime": {
     "end_time": "2018-09-17T01:20:45.360387Z",
     "start_time": "2018-09-17T01:20:35.646706Z"
    }
   },
   "outputs": [],
   "source": [
    "date_to_parse = ['last_scraped','host_since', 'first_review', 'last_review']\n",
    "\n",
    "listings_sf = pd.read_csv(sf_file, parse_dates=date_to_parse)\n",
    "listings_ok = pd.read_csv(ok_file, parse_dates=date_to_parse)\n",
    "listings_sc = pd.read_csv(sc_file, parse_dates=date_to_parse)\n",
    "listings_scz = pd.read_csv(scz_file, parse_dates=date_to_parse)"
   ]
  },
  {
   "cell_type": "code",
   "execution_count": null,
   "metadata": {
    "ExecuteTime": {
     "end_time": "2018-09-17T01:20:45.368529Z",
     "start_time": "2018-09-17T01:20:45.362805Z"
    }
   },
   "outputs": [],
   "source": [
    "print(listings_sf.shape,listings_ok.shape,listings_sc.shape,listings_scz.shape,listings_sd.shape,listings_la.shape,)"
   ]
  },
  {
   "cell_type": "code",
   "execution_count": null,
   "metadata": {
    "ExecuteTime": {
     "end_time": "2018-09-17T01:20:45.375100Z",
     "start_time": "2018-09-17T01:20:45.371180Z"
    }
   },
   "outputs": [],
   "source": [
    "# Created keys for future references\n",
    "\n",
    "frames = [listings_sf, listings_ok, listings_sc, listings_scz]\n",
    "keys = ['listings_sf', 'listings_ok', 'listings_sc', 'listings_scz']"
   ]
  },
  {
   "cell_type": "code",
   "execution_count": null,
   "metadata": {
    "ExecuteTime": {
     "end_time": "2018-09-17T01:20:45.511218Z",
     "start_time": "2018-09-17T01:20:45.377716Z"
    }
   },
   "outputs": [],
   "source": [
    "df_listings = pd.concat(frames, key=keys)"
   ]
  },
  {
   "cell_type": "code",
   "execution_count": null,
   "metadata": {
    "ExecuteTime": {
     "end_time": "2018-09-17T01:20:45.823695Z",
     "start_time": "2018-09-17T01:20:45.514397Z"
    }
   },
   "outputs": [],
   "source": [
    "df_listings.reset_index()"
   ]
  },
  {
   "cell_type": "code",
   "execution_count": null,
   "metadata": {
    "ExecuteTime": {
     "end_time": "2018-09-17T01:20:45.864871Z",
     "start_time": "2018-09-17T01:20:45.831928Z"
    }
   },
   "outputs": [],
   "source": [
    "df_listings.head()"
   ]
  },
  {
   "cell_type": "code",
   "execution_count": null,
   "metadata": {
    "ExecuteTime": {
     "end_time": "2018-09-17T01:20:45.871372Z",
     "start_time": "2018-09-17T01:20:45.867820Z"
    },
    "scrolled": true
   },
   "outputs": [],
   "source": [
    "# df_listings = pd.read_csv(listings_file, parse_dates=['last_scraped','host_since', 'first_review', 'last_review'])\n",
    "\n",
    "# print (df_listings.shape)\n",
    "# df_listings.head()"
   ]
  },
  {
   "cell_type": "code",
   "execution_count": null,
   "metadata": {
    "ExecuteTime": {
     "end_time": "2018-09-17T01:20:45.961772Z",
     "start_time": "2018-09-17T01:20:45.874037Z"
    }
   },
   "outputs": [],
   "source": [
    "df_listings.isnull().sum()"
   ]
  },
  {
   "cell_type": "code",
   "execution_count": null,
   "metadata": {
    "ExecuteTime": {
     "end_time": "2018-09-17T01:20:45.973456Z",
     "start_time": "2018-09-17T01:20:45.965220Z"
    }
   },
   "outputs": [],
   "source": [
    "df_listings.columns"
   ]
  },
  {
   "cell_type": "code",
   "execution_count": null,
   "metadata": {
    "ExecuteTime": {
     "end_time": "2018-09-17T01:20:45.984550Z",
     "start_time": "2018-09-17T01:20:45.976078Z"
    }
   },
   "outputs": [],
   "source": [
    "# Noted >90% null value in 'experience_offered', 'host_acceptance_rate', 'neighbourhood_group_cleansed', 'square_feet'\n",
    "# Remove 'jurisdiction_names'\n",
    "# # removed 'neighbourhood',  kept'neighbourhood_cleansed',\n",
    "# # both city and 'smart location' provides city level information, and 'smart_location can be dropped\n",
    "# # country code and country can be dropped, as all data located within US\n",
    "# city is parent of neighbourhood_cleansed\n",
    "\n",
    "columns_to_keep =[\n",
    "       'id','host_since','host_response_time', 'host_response_rate',\n",
    "        'host_is_superhost', 'host_listings_count',\n",
    "       'host_total_listings_count', \n",
    "       'host_has_profile_pic', 'host_identity_verified', \n",
    "        'neighbourhood_cleansed',\n",
    "       'city', \n",
    "       'is_location_exact', 'property_type', 'room_type', 'accommodates',\n",
    "       'bathrooms', 'bedrooms', 'beds', 'bed_type','amenities', \n",
    "       'price', 'security_deposit',\n",
    "       'cleaning_fee', 'guests_included',  'minimum_nights','number_of_reviews',\n",
    "       'first_review', 'review_scores_rating',\n",
    "       'review_scores_accuracy', 'review_scores_cleanliness',\n",
    "       'review_scores_checkin', 'review_scores_communication',\n",
    "       'review_scores_location', 'review_scores_value',  'jurisdiction_names', 'instant_bookable',\n",
    "       'is_business_travel_ready', 'cancellation_policy',\n",
    "       'require_guest_profile_picture', 'require_guest_phone_verification',\n",
    "       'calculated_host_listings_count', 'reviews_per_month']"
   ]
  },
  {
   "cell_type": "code",
   "execution_count": null,
   "metadata": {
    "ExecuteTime": {
     "end_time": "2018-09-17T01:20:45.992096Z",
     "start_time": "2018-09-17T01:20:45.987394Z"
    }
   },
   "outputs": [],
   "source": [
    "# # Noted >90% null value in 'experience_offered', 'host_acceptance_rate', 'neighbourhood_group_cleansed'\n",
    "# # removed 'neighbourhood',  kept'neighbourhood_cleansed',\n",
    "# # both city and 'smart location' provides city level information, and 'smart_location can be dropped\n",
    "# # country code and country can be dropped, as all data located within US\n",
    "# columns_to_drop =['listing_url', 'scrape_id', 'last_scraped', 'experiences_offered', \n",
    "#                   'thumbnail_url', 'medium_url', 'xl_picture_url', 'host_acceptance_rate','street',\n",
    "#                   'neighbourhood', \n",
    "#        'neighbourhood_group_cleansed','zipcode','smart_location','country_code', \n",
    "#                   'country', 'square_feet','weekly_price', 'monthly_price','calendar_updated', \n",
    "#                   'calendar_last_scraped', 'requires_license', 'license']"
   ]
  },
  {
   "cell_type": "code",
   "execution_count": null,
   "metadata": {
    "ExecuteTime": {
     "end_time": "2018-09-17T01:20:45.998384Z",
     "start_time": "2018-09-17T01:20:45.995045Z"
    }
   },
   "outputs": [],
   "source": [
    "# # 'host_since', 'host_location',\n",
    "\n",
    "# host_related_info_to_drop = ['host_id', 'host_url', 'host_name', 'host_since',\n",
    "#                              'host_location', 'host_about', 'host_thumbnail_url',\n",
    "#                              'host_picture_url', 'host_neighbourhood']"
   ]
  },
  {
   "cell_type": "code",
   "execution_count": null,
   "metadata": {},
   "outputs": [],
   "source": []
  },
  {
   "cell_type": "code",
   "execution_count": null,
   "metadata": {
    "ExecuteTime": {
     "end_time": "2018-09-17T01:20:46.004065Z",
     "start_time": "2018-09-17T01:20:46.001189Z"
    }
   },
   "outputs": [],
   "source": [
    "# # The information is useful for now, but can be dropped during modeling\n",
    "\n",
    "# extra_info_to_drop = []"
   ]
  },
  {
   "cell_type": "code",
   "execution_count": null,
   "metadata": {
    "ExecuteTime": {
     "end_time": "2018-09-17T01:20:46.011444Z",
     "start_time": "2018-09-17T01:20:46.007120Z"
    }
   },
   "outputs": [],
   "source": [
    "# df_smaller_listings = df_listings.drop (columns_to_drop, axis=1)"
   ]
  },
  {
   "cell_type": "code",
   "execution_count": null,
   "metadata": {
    "ExecuteTime": {
     "end_time": "2018-09-17T01:20:46.023804Z",
     "start_time": "2018-09-17T01:20:46.014214Z"
    }
   },
   "outputs": [],
   "source": [
    "df_smaller_listings = df_listings[columns_to_keep]"
   ]
  },
  {
   "cell_type": "code",
   "execution_count": null,
   "metadata": {
    "ExecuteTime": {
     "end_time": "2018-09-17T01:20:46.137169Z",
     "start_time": "2018-09-17T01:20:46.026547Z"
    }
   },
   "outputs": [],
   "source": [
    "df_smaller_listings"
   ]
  },
  {
   "cell_type": "code",
   "execution_count": null,
   "metadata": {
    "ExecuteTime": {
     "end_time": "2018-09-17T01:20:46.146274Z",
     "start_time": "2018-09-17T01:20:46.141701Z"
    }
   },
   "outputs": [],
   "source": [
    "# This is to onvert strings with percentage sign to float\n",
    "\n",
    "def percent_to_float(string):\n",
    "    \"\"\"\n",
    "    Convert strings with percentage sign to float\n",
    "    \"\"\"\n",
    "    percentage = float(str(string).strip('%'))/100\n",
    "    return percentage"
   ]
  },
  {
   "cell_type": "code",
   "execution_count": null,
   "metadata": {
    "ExecuteTime": {
     "end_time": "2018-09-17T01:20:46.232890Z",
     "start_time": "2018-09-17T01:20:46.149883Z"
    }
   },
   "outputs": [],
   "source": [
    "# Convert host_response_rate to float\n",
    "\n",
    "df_smaller_listings['host_response_rate'] = df_smaller_listings['host_response_rate'].apply(lambda x: percent_to_float(x))"
   ]
  },
  {
   "cell_type": "code",
   "execution_count": null,
   "metadata": {
    "ExecuteTime": {
     "end_time": "2018-09-17T01:20:46.239581Z",
     "start_time": "2018-09-17T01:20:46.235694Z"
    }
   },
   "outputs": [],
   "source": [
    "def currency_to_float(string):\n",
    "    \"\"\"\n",
    "    Convert currency to float\n",
    "    \"\"\"\n",
    "    float_ = float(str(string).strip('$').replace(',',''))\n",
    "    return float_"
   ]
  },
  {
   "cell_type": "code",
   "execution_count": null,
   "metadata": {
    "ExecuteTime": {
     "end_time": "2018-09-17T01:20:46.475474Z",
     "start_time": "2018-09-17T01:20:46.242509Z"
    }
   },
   "outputs": [],
   "source": [
    "# Convert host_response_rate to float\n",
    "\n",
    "df_smaller_listings['price'] = df_smaller_listings['price'].apply(lambda x: currency_to_float(x))\n",
    "df_smaller_listings['security_deposit'] = df_smaller_listings['security_deposit'].apply(lambda x: currency_to_float(x))\n",
    "df_smaller_listings['cleaning_fee'] = df_smaller_listings['cleaning_fee'].apply(lambda x: currency_to_float(x))"
   ]
  },
  {
   "cell_type": "code",
   "execution_count": null,
   "metadata": {},
   "outputs": [],
   "source": []
  },
  {
   "cell_type": "code",
   "execution_count": null,
   "metadata": {
    "ExecuteTime": {
     "end_time": "2018-09-17T01:20:46.488024Z",
     "start_time": "2018-09-17T01:20:46.477964Z"
    }
   },
   "outputs": [],
   "source": [
    "df_smaller_listings.columns"
   ]
  },
  {
   "cell_type": "code",
   "execution_count": null,
   "metadata": {
    "ExecuteTime": {
     "end_time": "2018-09-17T01:20:46.527877Z",
     "start_time": "2018-09-17T01:20:46.492052Z"
    }
   },
   "outputs": [],
   "source": [
    "df_smaller_listings.head()"
   ]
  },
  {
   "cell_type": "code",
   "execution_count": null,
   "metadata": {
    "ExecuteTime": {
     "end_time": "2018-09-17T01:20:46.537853Z",
     "start_time": "2018-09-17T01:20:46.531300Z"
    }
   },
   "outputs": [],
   "source": [
    "df_smaller_listings.shape"
   ]
  },
  {
   "cell_type": "code",
   "execution_count": null,
   "metadata": {
    "ExecuteTime": {
     "end_time": "2018-09-17T01:20:46.560083Z",
     "start_time": "2018-09-17T01:20:46.541284Z"
    }
   },
   "outputs": [],
   "source": [
    "df_smaller_listings.price.describe(percentiles=[.05, .10, .25, .5, .75, .90, .95])"
   ]
  },
  {
   "cell_type": "code",
   "execution_count": null,
   "metadata": {
    "ExecuteTime": {
     "end_time": "2018-09-17T01:20:46.579022Z",
     "start_time": "2018-09-17T01:20:46.564832Z"
    }
   },
   "outputs": [],
   "source": [
    "# Remove outliers. Use 5% and 95% percentiles as cutoff\n",
    "\n",
    "df_smaller_listings = df_smaller_listings[(df_smaller_listings['price']<=500) \n",
    "                                         & (df_smaller_listings['price']>=40)]"
   ]
  },
  {
   "cell_type": "code",
   "execution_count": null,
   "metadata": {
    "ExecuteTime": {
     "end_time": "2018-09-17T01:20:46.588309Z",
     "start_time": "2018-09-17T01:20:46.581884Z"
    }
   },
   "outputs": [],
   "source": [
    "df_smaller_listings.shape"
   ]
  },
  {
   "cell_type": "code",
   "execution_count": null,
   "metadata": {
    "ExecuteTime": {
     "end_time": "2018-09-17T01:20:46.595395Z",
     "start_time": "2018-09-17T01:20:46.591486Z"
    }
   },
   "outputs": [],
   "source": [
    "\n",
    "# df_amenities = df_smaller_listings.amenities.str.replace(\"[{}]\", \"\") \n",
    "# print(df_amenities"
   ]
  },
  {
   "cell_type": "code",
   "execution_count": null,
   "metadata": {
    "ExecuteTime": {
     "end_time": "2018-09-17T01:20:46.601625Z",
     "start_time": "2018-09-17T01:20:46.598357Z"
    }
   },
   "outputs": [],
   "source": [
    "# print(df_amentities[29])"
   ]
  },
  {
   "cell_type": "code",
   "execution_count": null,
   "metadata": {
    "ExecuteTime": {
     "end_time": "2018-09-17T01:20:46.607799Z",
     "start_time": "2018-09-17T01:20:46.604114Z"
    }
   },
   "outputs": [],
   "source": [
    "# amenity_ohe = df_amenities.str.get_dummies(sep = \",\")"
   ]
  },
  {
   "cell_type": "code",
   "execution_count": null,
   "metadata": {
    "ExecuteTime": {
     "end_time": "2018-09-17T01:20:46.613205Z",
     "start_time": "2018-09-17T01:20:46.610139Z"
    }
   },
   "outputs": [],
   "source": [
    "# amenity_ohe"
   ]
  },
  {
   "cell_type": "code",
   "execution_count": null,
   "metadata": {
    "ExecuteTime": {
     "end_time": "2018-09-17T01:20:46.619640Z",
     "start_time": "2018-09-17T01:20:46.616398Z"
    }
   },
   "outputs": [],
   "source": [
    "# drop_for_simple_model=['id', 'name', 'summary', 'space', 'description', \n",
    "#                        'neighborhood_overview', 'notes', 'transit', 'access', 'interaction',\n",
    "#                        'house_rules', 'picture_url', 'host_id', 'host_url', 'host_name','host_about',\n",
    "#                       'host_thumbnail_url', 'host_picture_url', 'latitude', 'longitude',]"
   ]
  },
  {
   "cell_type": "code",
   "execution_count": null,
   "metadata": {},
   "outputs": [],
   "source": []
  },
  {
   "cell_type": "code",
   "execution_count": null,
   "metadata": {},
   "outputs": [],
   "source": []
  },
  {
   "cell_type": "code",
   "execution_count": null,
   "metadata": {
    "ExecuteTime": {
     "end_time": "2018-09-17T01:20:47.045114Z",
     "start_time": "2018-09-17T01:20:46.622298Z"
    }
   },
   "outputs": [],
   "source": [
    "df_smaller_listings['jurisdiction_names'] = df_smaller_listings['jurisdiction_names'].str.replace('[^\\w\\s,]', '')\n",
    "df_smaller_listings['amenities'] = df_smaller_listings['amenities'].str.replace('[^\\w\\s,]', '')"
   ]
  },
  {
   "cell_type": "code",
   "execution_count": null,
   "metadata": {
    "ExecuteTime": {
     "end_time": "2018-09-17T01:20:47.056550Z",
     "start_time": "2018-09-17T01:20:47.048235Z"
    }
   },
   "outputs": [],
   "source": [
    "df_smaller_listings.amenities"
   ]
  },
  {
   "cell_type": "code",
   "execution_count": null,
   "metadata": {
    "ExecuteTime": {
     "end_time": "2018-09-17T01:20:59.338100Z",
     "start_time": "2018-09-17T01:20:47.068536Z"
    }
   },
   "outputs": [],
   "source": [
    "df_amenities = df_smaller_listings.amenities.str.get_dummies(sep = \",\")"
   ]
  },
  {
   "cell_type": "code",
   "execution_count": null,
   "metadata": {
    "ExecuteTime": {
     "end_time": "2018-09-17T01:20:59.410663Z",
     "start_time": "2018-09-17T01:20:59.340849Z"
    }
   },
   "outputs": [],
   "source": [
    "df_amenities"
   ]
  },
  {
   "cell_type": "code",
   "execution_count": null,
   "metadata": {
    "ExecuteTime": {
     "end_time": "2018-09-17T01:20:59.511683Z",
     "start_time": "2018-09-17T01:20:59.415082Z"
    }
   },
   "outputs": [],
   "source": [
    "common_amenities=[]\n",
    "\n",
    "for column in df_amenities.columns:\n",
    "    value = df_amenities[column].quantile(0.75)\n",
    "    if value>0:\n",
    "        common_amenities.append(column)\n",
    "\n",
    "common_amenities"
   ]
  },
  {
   "cell_type": "code",
   "execution_count": null,
   "metadata": {
    "ExecuteTime": {
     "end_time": "2018-09-17T01:20:59.542298Z",
     "start_time": "2018-09-17T01:20:59.514325Z"
    }
   },
   "outputs": [],
   "source": [
    "df_common_amenities = df_amenities[common_amenities]\n",
    "df_common_amenities.head()"
   ]
  },
  {
   "cell_type": "code",
   "execution_count": null,
   "metadata": {
    "ExecuteTime": {
     "end_time": "2018-09-17T01:20:59.550855Z",
     "start_time": "2018-09-17T01:20:59.545144Z"
    }
   },
   "outputs": [],
   "source": [
    "df_smaller_listings.shape"
   ]
  },
  {
   "cell_type": "code",
   "execution_count": null,
   "metadata": {
    "ExecuteTime": {
     "end_time": "2018-09-17T01:20:59.578919Z",
     "start_time": "2018-09-17T01:20:59.555648Z"
    }
   },
   "outputs": [],
   "source": [
    "df_simple_model = pd.concat([df_smaller_listings, df_common_amenities], axis=1)"
   ]
  },
  {
   "cell_type": "code",
   "execution_count": null,
   "metadata": {
    "ExecuteTime": {
     "end_time": "2018-09-17T01:20:59.588026Z",
     "start_time": "2018-09-17T01:20:59.581311Z"
    }
   },
   "outputs": [],
   "source": [
    "df_simple_model.shape"
   ]
  },
  {
   "cell_type": "code",
   "execution_count": null,
   "metadata": {
    "ExecuteTime": {
     "end_time": "2018-09-17T01:20:59.641311Z",
     "start_time": "2018-09-17T01:20:59.590860Z"
    }
   },
   "outputs": [],
   "source": [
    "df_simple_model.drop('amenities', axis=1, inplace=True)"
   ]
  },
  {
   "cell_type": "code",
   "execution_count": null,
   "metadata": {
    "ExecuteTime": {
     "end_time": "2018-09-17T01:20:59.652548Z",
     "start_time": "2018-09-17T01:20:59.644247Z"
    }
   },
   "outputs": [],
   "source": [
    "df_simple_model.shape"
   ]
  },
  {
   "cell_type": "code",
   "execution_count": null,
   "metadata": {
    "ExecuteTime": {
     "end_time": "2018-09-17T01:20:59.663342Z",
     "start_time": "2018-09-17T01:20:59.655612Z"
    }
   },
   "outputs": [],
   "source": [
    "df_simple_model.columns"
   ]
  },
  {
   "cell_type": "code",
   "execution_count": null,
   "metadata": {
    "ExecuteTime": {
     "end_time": "2018-09-17T01:20:59.671123Z",
     "start_time": "2018-09-17T01:20:59.666719Z"
    }
   },
   "outputs": [],
   "source": [
    "# df_simple_model['host_since']   = pd.to_datetime(df_smaller_listings['host_since'])\n",
    "# df_simple_model['first_review'] = pd.to_datetime(df_smaller_listings['first_review'])\n",
    "# df_simple_model['last_review']  = pd.to_datetime(df_smaller_listings['last_review'])"
   ]
  },
  {
   "cell_type": "code",
   "execution_count": null,
   "metadata": {
    "ExecuteTime": {
     "end_time": "2018-09-17T01:20:59.680792Z",
     "start_time": "2018-09-17T01:20:59.675892Z"
    }
   },
   "outputs": [],
   "source": [
    "def duration(starting_time):\n",
    "    \"\"\"\n",
    "    Calculate duration or number of years between current year and input years\n",
    "    \"\"\"\n",
    "    starting_year = starting_time.year\n",
    "    current_year = datetime.now().year\n",
    "    duration = current_year - starting_year + 1\n",
    "    \n",
    "    return duration"
   ]
  },
  {
   "cell_type": "code",
   "execution_count": null,
   "metadata": {
    "ExecuteTime": {
     "end_time": "2018-09-17T01:20:59.898025Z",
     "start_time": "2018-09-17T01:20:59.684032Z"
    }
   },
   "outputs": [],
   "source": [
    "# Calculate durations for timestamp columns\n",
    "\n",
    "df_simple_model['host_duration'] = df_simple_model['host_since'].apply(lambda x: duration(x))\n",
    "df_simple_model['yrs_since_first_review'] = df_simple_model['first_review'].apply(lambda x: duration(x))"
   ]
  },
  {
   "cell_type": "code",
   "execution_count": null,
   "metadata": {
    "ExecuteTime": {
     "end_time": "2018-09-17T01:20:59.938299Z",
     "start_time": "2018-09-17T01:20:59.900700Z"
    }
   },
   "outputs": [],
   "source": [
    "time_stamps =['host_since', 'first_review']\n",
    "df_simple_model.drop(time_stamps, axis=1, inplace=True)"
   ]
  },
  {
   "cell_type": "code",
   "execution_count": null,
   "metadata": {
    "ExecuteTime": {
     "end_time": "2018-09-17T01:20:59.945377Z",
     "start_time": "2018-09-17T01:20:59.941045Z"
    }
   },
   "outputs": [],
   "source": [
    "# Replace special characters in columns\n",
    "\n",
    "# df_simple_model.host_verifications = df_simple_model.host_verifications.str.replace('[^\\w\\s]', '')\n",
    "# df_simple_model.jurisdiction_names = df_simple_model.jurisdiction_names.str.replace('[^\\w\\s]', '')\n",
    "# df_simple_model.amenities = df_simple_model.amenities.str.replace('[^\\w\\s]', '')\n"
   ]
  },
  {
   "cell_type": "code",
   "execution_count": null,
   "metadata": {
    "ExecuteTime": {
     "end_time": "2018-09-17T01:20:59.954879Z",
     "start_time": "2018-09-17T01:20:59.948421Z"
    }
   },
   "outputs": [],
   "source": [
    "df_simple_model.shape"
   ]
  },
  {
   "cell_type": "code",
   "execution_count": null,
   "metadata": {
    "ExecuteTime": {
     "end_time": "2018-09-17T01:20:59.967420Z",
     "start_time": "2018-09-17T01:20:59.958767Z"
    }
   },
   "outputs": [],
   "source": [
    "df_simple_model.columns"
   ]
  },
  {
   "cell_type": "code",
   "execution_count": null,
   "metadata": {
    "ExecuteTime": {
     "end_time": "2018-09-17T01:21:00.025777Z",
     "start_time": "2018-09-17T01:20:59.974280Z"
    }
   },
   "outputs": [],
   "source": [
    "df_simple_model.isnull().sum()"
   ]
  },
  {
   "cell_type": "code",
   "execution_count": null,
   "metadata": {
    "ExecuteTime": {
     "end_time": "2018-09-17T01:21:00.077026Z",
     "start_time": "2018-09-17T01:21:00.028641Z"
    }
   },
   "outputs": [],
   "source": [
    "df_simple_model.isnull().sum()"
   ]
  },
  {
   "cell_type": "code",
   "execution_count": null,
   "metadata": {
    "ExecuteTime": {
     "end_time": "2018-09-17T01:21:00.087910Z",
     "start_time": "2018-09-17T01:21:00.080202Z"
    }
   },
   "outputs": [],
   "source": [
    "# Filled null values with average value\n",
    "\n",
    "df_simple_model['security_deposit'].fillna(\n",
    "    value=df_simple_model['security_deposit'].mean(),\n",
    "    inplace=True)\n",
    "\n",
    "df_simple_model['cleaning_fee'].fillna(\n",
    "    value=df_simple_model['cleaning_fee'].mean(),\n",
    "    inplace=True)"
   ]
  },
  {
   "cell_type": "code",
   "execution_count": null,
   "metadata": {
    "ExecuteTime": {
     "end_time": "2018-09-17T01:21:00.098970Z",
     "start_time": "2018-09-17T01:21:00.091795Z"
    }
   },
   "outputs": [],
   "source": [
    "# Convert security deposit to dummy varialbes\n",
    "df_simple_model['security_deposit'] = (df_simple_model['security_deposit']>0).astype(int)\n",
    "# df_simple_model['cleaning_fee'] = (df_simple_model['cleaning_fee']>0).astype(int)"
   ]
  },
  {
   "cell_type": "code",
   "execution_count": null,
   "metadata": {},
   "outputs": [],
   "source": []
  },
  {
   "cell_type": "code",
   "execution_count": null,
   "metadata": {
    "ExecuteTime": {
     "end_time": "2018-09-17T01:21:00.531736Z",
     "start_time": "2018-09-17T01:21:00.101961Z"
    }
   },
   "outputs": [],
   "source": [
    "df_simple_model.describe(include='all')"
   ]
  },
  {
   "cell_type": "code",
   "execution_count": null,
   "metadata": {
    "ExecuteTime": {
     "end_time": "2018-09-17T01:21:00.558074Z",
     "start_time": "2018-09-17T01:21:00.537537Z"
    }
   },
   "outputs": [],
   "source": [
    "df_simple_model.review_scores_rating.describe(include='all')"
   ]
  },
  {
   "cell_type": "code",
   "execution_count": null,
   "metadata": {
    "ExecuteTime": {
     "end_time": "2018-09-17T01:21:00.572476Z",
     "start_time": "2018-09-17T01:21:00.562822Z"
    }
   },
   "outputs": [],
   "source": [
    "df_simple_model.review_scores_accuracy.describe(include='all')"
   ]
  },
  {
   "cell_type": "code",
   "execution_count": null,
   "metadata": {
    "ExecuteTime": {
     "end_time": "2018-09-17T01:21:00.788905Z",
     "start_time": "2018-09-17T01:21:00.575416Z"
    }
   },
   "outputs": [],
   "source": [
    "# Those varialbes have big range. Need to narrow down range to enable better modeling\n",
    "\n",
    "\n",
    "df_simple_model['cleaning_fee'] = df_simple_model['cleaning_fee'].apply(lambda x: np.log10(x) if x>0 else 0)\n",
    "df_simple_model['review_scores_rating_log10'] = df_simple_model['review_scores_rating'].apply(lambda x: np.log10(x) if x>0 else 0)\n",
    "df_simple_model['review_scores_accuracy_log10'] = df_simple_model['review_scores_accuracy'].apply(lambda x: np.log10(x) if x>0 else 0)\n",
    "df_simple_model['review_scores_checkin_log10'] = df_simple_model['review_scores_checkin'].apply(lambda x: np.log10(x) if x>0 else 0)\n",
    "df_simple_model['review_scores_cleanliness_log10'] = df_simple_model['review_scores_cleanliness'].apply(lambda x: np.log10(x) if x>0 else 0)\n",
    "df_simple_model['review_scores_communication_log10'] = df_simple_model['review_scores_communication'].apply(lambda x: np.log10(x) if x>0 else 0)\n",
    "df_simple_model['review_scores_location_log10'] = df_simple_model['review_scores_location'].apply(lambda x: np.log10(x) if x>0 else 0)\n",
    "df_simple_model['review_scores_value_log10'] = df_simple_model['review_scores_value'].apply(lambda x: np.log10(x) if x>0 else 0)\n"
   ]
  },
  {
   "cell_type": "code",
   "execution_count": null,
   "metadata": {
    "ExecuteTime": {
     "end_time": "2018-09-17T01:21:00.811541Z",
     "start_time": "2018-09-17T01:21:00.793156Z"
    }
   },
   "outputs": [],
   "source": [
    "df_simple_model.cleaning_fee.describe(include='all')"
   ]
  },
  {
   "cell_type": "code",
   "execution_count": null,
   "metadata": {
    "ExecuteTime": {
     "end_time": "2018-09-17T01:21:00.849531Z",
     "start_time": "2018-09-17T01:21:00.814828Z"
    }
   },
   "outputs": [],
   "source": [
    "review_scores =['review_scores_rating','review_scores_accuracy',\n",
    "                'review_scores_checkin','review_scores_cleanliness', \n",
    "                'review_scores_communication', 'review_scores_location', \n",
    "                'review_scores_value']\n",
    "df_simple_model.drop(review_scores, axis=1, inplace=True)"
   ]
  },
  {
   "cell_type": "code",
   "execution_count": null,
   "metadata": {
    "ExecuteTime": {
     "end_time": "2018-09-17T01:21:00.857949Z",
     "start_time": "2018-09-17T01:21:00.852339Z"
    }
   },
   "outputs": [],
   "source": [
    "df_simple_model['minimum_nights'] = (df_simple_model['minimum_nights']>1).astype(int)"
   ]
  },
  {
   "cell_type": "code",
   "execution_count": null,
   "metadata": {
    "ExecuteTime": {
     "end_time": "2018-09-17T01:21:00.871183Z",
     "start_time": "2018-09-17T01:21:00.861450Z"
    }
   },
   "outputs": [],
   "source": [
    "df_simple_model.minimum_nights"
   ]
  },
  {
   "cell_type": "code",
   "execution_count": null,
   "metadata": {
    "ExecuteTime": {
     "end_time": "2018-09-17T01:21:00.924983Z",
     "start_time": "2018-09-17T01:21:00.874229Z"
    }
   },
   "outputs": [],
   "source": [
    "df_simple_model.isnull().sum()"
   ]
  },
  {
   "cell_type": "code",
   "execution_count": null,
   "metadata": {
    "ExecuteTime": {
     "end_time": "2018-09-17T01:21:00.977202Z",
     "start_time": "2018-09-17T01:21:00.928346Z"
    }
   },
   "outputs": [],
   "source": [
    "df_simple_model_cleaned = df_simple_model.dropna()"
   ]
  },
  {
   "cell_type": "code",
   "execution_count": null,
   "metadata": {
    "ExecuteTime": {
     "end_time": "2018-09-17T01:21:00.985810Z",
     "start_time": "2018-09-17T01:21:00.979944Z"
    }
   },
   "outputs": [],
   "source": [
    "df_simple_model_cleaned.shape"
   ]
  },
  {
   "cell_type": "code",
   "execution_count": null,
   "metadata": {
    "ExecuteTime": {
     "end_time": "2018-09-17T01:21:01.026966Z",
     "start_time": "2018-09-17T01:21:00.989065Z"
    }
   },
   "outputs": [],
   "source": [
    "df_simple_model_cleaned.isnull().sum()"
   ]
  },
  {
   "cell_type": "code",
   "execution_count": null,
   "metadata": {
    "ExecuteTime": {
     "end_time": "2018-09-17T01:21:01.037607Z",
     "start_time": "2018-09-17T01:21:01.029743Z"
    }
   },
   "outputs": [],
   "source": [
    "df_simple_model_cleaned.columns"
   ]
  },
  {
   "cell_type": "code",
   "execution_count": null,
   "metadata": {
    "ExecuteTime": {
     "end_time": "2018-09-17T01:21:01.088671Z",
     "start_time": "2018-09-17T01:21:01.040283Z"
    }
   },
   "outputs": [],
   "source": [
    "# select non-numeric variables and create dummies\n",
    "categorical_variables = df_simple_model_cleaned.select_dtypes(include=['object']).columns\n",
    "df_simple_model_cleaned[categorical_variables].head()"
   ]
  },
  {
   "cell_type": "code",
   "execution_count": null,
   "metadata": {
    "ExecuteTime": {
     "end_time": "2018-09-17T01:21:01.097455Z",
     "start_time": "2018-09-17T01:21:01.091599Z"
    }
   },
   "outputs": [],
   "source": [
    "categorical_variables.shape"
   ]
  },
  {
   "cell_type": "code",
   "execution_count": null,
   "metadata": {
    "ExecuteTime": {
     "end_time": "2018-09-17T01:21:01.104608Z",
     "start_time": "2018-09-17T01:21:01.099774Z"
    }
   },
   "outputs": [],
   "source": [
    "df_simple_model_cleaned.shape"
   ]
  },
  {
   "cell_type": "code",
   "execution_count": null,
   "metadata": {
    "ExecuteTime": {
     "end_time": "2018-09-17T01:21:01.209413Z",
     "start_time": "2018-09-17T01:21:01.107422Z"
    }
   },
   "outputs": [],
   "source": [
    "df_simple_model_cleaned[categorical_variables].describe()"
   ]
  },
  {
   "cell_type": "code",
   "execution_count": null,
   "metadata": {
    "ExecuteTime": {
     "end_time": "2018-09-17T01:21:01.331125Z",
     "start_time": "2018-09-17T01:21:01.212351Z"
    },
    "scrolled": true
   },
   "outputs": [],
   "source": [
    "df_categorical = pd.get_dummies(df_simple_model_cleaned[categorical_variables])\n",
    "df_categorical"
   ]
  },
  {
   "cell_type": "code",
   "execution_count": null,
   "metadata": {
    "ExecuteTime": {
     "end_time": "2018-09-17T01:21:01.340014Z",
     "start_time": "2018-09-17T01:21:01.333570Z"
    }
   },
   "outputs": [],
   "source": [
    "df_categorical.columns"
   ]
  },
  {
   "cell_type": "code",
   "execution_count": null,
   "metadata": {
    "ExecuteTime": {
     "end_time": "2018-09-17T01:21:01.391704Z",
     "start_time": "2018-09-17T01:21:01.342128Z"
    }
   },
   "outputs": [],
   "source": [
    "df_model = pd.get_dummies(data=df_simple_model_cleaned,columns=categorical_variables)"
   ]
  },
  {
   "cell_type": "code",
   "execution_count": null,
   "metadata": {
    "ExecuteTime": {
     "end_time": "2018-09-17T01:21:01.399634Z",
     "start_time": "2018-09-17T01:21:01.394436Z"
    }
   },
   "outputs": [],
   "source": [
    "df_model.shape"
   ]
  },
  {
   "cell_type": "code",
   "execution_count": null,
   "metadata": {
    "ExecuteTime": {
     "end_time": "2018-09-17T01:21:01.409351Z",
     "start_time": "2018-09-17T01:21:01.402244Z"
    }
   },
   "outputs": [],
   "source": [
    "df_model.columns"
   ]
  },
  {
   "cell_type": "code",
   "execution_count": null,
   "metadata": {
    "ExecuteTime": {
     "end_time": "2018-09-17T01:21:01.415684Z",
     "start_time": "2018-09-17T01:21:01.412055Z"
    }
   },
   "outputs": [],
   "source": [
    "# dummy_variables = pd.get_dummies(df_simple_model_cleaned[categorical_vars])"
   ]
  },
  {
   "cell_type": "code",
   "execution_count": null,
   "metadata": {
    "ExecuteTime": {
     "end_time": "2018-09-17T01:21:01.423854Z",
     "start_time": "2018-09-17T01:21:01.418893Z"
    }
   },
   "outputs": [],
   "source": [
    "# df_model = df_simple_model_cleaned.drop(categorical_vars, axis=1)\n",
    "# df_model = pd.merge(df_model, dummy_vars, left_index=True, right_index=True)"
   ]
  },
  {
   "cell_type": "code",
   "execution_count": null,
   "metadata": {
    "ExecuteTime": {
     "end_time": "2018-09-17T01:21:01.431581Z",
     "start_time": "2018-09-17T01:21:01.427405Z"
    }
   },
   "outputs": [],
   "source": [
    "# # 'host_verifications','amenities',\n",
    "\n",
    "# categorical_data = ['host_location', 'host_response_time', \n",
    "#        'host_is_superhost', 'host_neighbourhood', \n",
    "#        'host_has_profile_pic', 'host_identity_verified',\n",
    "#        'neighbourhood_cleansed', 'city', 'state', 'market',\n",
    "#        'is_location_exact', 'property_type', 'room_type',  'bed_type', 'has_availability',\n",
    "#         'jurisdiction_names',\n",
    "#        'instant_bookable', 'is_business_travel_ready', 'cancellation_policy',\n",
    "#        'require_guest_profile_picture', 'require_guest_phone_verification',\n",
    "#        ]"
   ]
  },
  {
   "cell_type": "code",
   "execution_count": null,
   "metadata": {
    "ExecuteTime": {
     "end_time": "2018-09-17T01:21:01.438157Z",
     "start_time": "2018-09-17T01:21:01.434797Z"
    }
   },
   "outputs": [],
   "source": [
    "# df_model = pd.get_dummies(df_model, prefix = categorical_data, columns = categorical_data )"
   ]
  },
  {
   "cell_type": "code",
   "execution_count": null,
   "metadata": {
    "ExecuteTime": {
     "end_time": "2018-09-17T01:21:04.558410Z",
     "start_time": "2018-09-17T01:21:01.441142Z"
    }
   },
   "outputs": [],
   "source": [
    "# Create correlation matrix\n",
    "corr_matrix = df_model.corr().abs()\n",
    "\n",
    "# Select upper triangle of correlation matrix\n",
    "upper = corr_matrix.where(np.triu(np.ones(corr_matrix.shape), k=1).astype(np.bool))\n",
    "\n",
    "# Find index of feature columns with correlation greater than 0.90\n",
    "to_drop = [column for column in upper.columns if any(upper[column] > 0.90)]"
   ]
  },
  {
   "cell_type": "code",
   "execution_count": null,
   "metadata": {
    "ExecuteTime": {
     "end_time": "2018-09-17T01:21:04.569199Z",
     "start_time": "2018-09-17T01:21:04.561164Z"
    }
   },
   "outputs": [],
   "source": [
    "to_drop"
   ]
  },
  {
   "cell_type": "code",
   "execution_count": null,
   "metadata": {
    "ExecuteTime": {
     "end_time": "2018-09-17T01:21:04.587654Z",
     "start_time": "2018-09-17T01:21:04.572357Z"
    }
   },
   "outputs": [],
   "source": [
    "# Drop features \n",
    "df_model.drop(to_drop, axis=1, inplace=True)"
   ]
  },
  {
   "cell_type": "code",
   "execution_count": null,
   "metadata": {
    "ExecuteTime": {
     "end_time": "2018-09-17T01:21:04.730938Z",
     "start_time": "2018-09-17T01:21:04.595938Z"
    }
   },
   "outputs": [],
   "source": [
    "df_model.dropna(inplace=True)"
   ]
  },
  {
   "cell_type": "code",
   "execution_count": null,
   "metadata": {
    "ExecuteTime": {
     "end_time": "2018-09-17T01:23:29.273272Z",
     "start_time": "2018-09-17T01:23:29.267856Z"
    }
   },
   "outputs": [],
   "source": [
    "df_model.columns"
   ]
  },
  {
   "cell_type": "code",
   "execution_count": null,
   "metadata": {
    "ExecuteTime": {
     "end_time": "2018-09-17T01:27:07.943419Z",
     "start_time": "2018-09-17T01:27:04.561649Z"
    }
   },
   "outputs": [],
   "source": [
    "# Store as csv file for feature investigation\n",
    "\n",
    "csv_path = '/Users/xzhou/github/project_archives/files_airbnb/columns_check.csv'\n",
    "\n",
    "df_model.to_csv(csv_path)"
   ]
  },
  {
   "cell_type": "code",
   "execution_count": null,
   "metadata": {
    "ExecuteTime": {
     "end_time": "2018-09-17T01:21:04.769521Z",
     "start_time": "2018-09-17T01:21:04.733890Z"
    }
   },
   "outputs": [],
   "source": [
    "pkl_file = '/Users/xzhou/github/project_archives/files_airbnb/{}.csv'\n",
    "\n",
    "pkl_listings = pkl_file.format('all_listings')\n",
    "\n",
    "df_model.to_pickle(pkl_listings)"
   ]
  },
  {
   "cell_type": "code",
   "execution_count": null,
   "metadata": {
    "ExecuteTime": {
     "end_time": "2018-09-17T01:21:04.784682Z",
     "start_time": "2018-09-17T01:21:04.774239Z"
    }
   },
   "outputs": [],
   "source": [
    "# Perform initial modelings to get a sense of performance, and for future selection\n",
    "\n",
    "X = df_model.drop(['id','price'], axis=1)\n",
    "y = df_model['price']"
   ]
  },
  {
   "cell_type": "code",
   "execution_count": null,
   "metadata": {
    "ExecuteTime": {
     "end_time": "2018-09-17T01:21:04.833516Z",
     "start_time": "2018-09-17T01:21:04.806636Z"
    }
   },
   "outputs": [],
   "source": [
    "X_train, X_test, y_train, y_test = train_test_split(X, y, test_size =0.3, random_state=42)"
   ]
  },
  {
   "cell_type": "code",
   "execution_count": null,
   "metadata": {
    "ExecuteTime": {
     "end_time": "2018-09-17T01:21:04.976118Z",
     "start_time": "2018-09-17T01:21:04.850299Z"
    }
   },
   "outputs": [],
   "source": [
    "ss = StandardScaler()\n",
    "X_train_trans = ss.fit_transform(X_train)\n",
    "X_test_trans = ss.transform (X_test)"
   ]
  },
  {
   "cell_type": "code",
   "execution_count": null,
   "metadata": {
    "ExecuteTime": {
     "end_time": "2018-09-17T01:21:05.260842Z",
     "start_time": "2018-09-17T01:21:04.979872Z"
    }
   },
   "outputs": [],
   "source": [
    "lr = linear_model.LinearRegression()\n",
    "lr.fit(X_train_trans, y_train)"
   ]
  },
  {
   "cell_type": "code",
   "execution_count": null,
   "metadata": {
    "ExecuteTime": {
     "end_time": "2018-09-17T01:21:05.281735Z",
     "start_time": "2018-09-17T01:21:05.269795Z"
    }
   },
   "outputs": [],
   "source": [
    "lr.score(X_test_trans, y_test)"
   ]
  },
  {
   "cell_type": "code",
   "execution_count": null,
   "metadata": {
    "ExecuteTime": {
     "end_time": "2018-09-17T01:21:05.291827Z",
     "start_time": "2018-09-17T01:21:05.284973Z"
    }
   },
   "outputs": [],
   "source": [
    "y_predict = lr.predict(X_test_trans)"
   ]
  },
  {
   "cell_type": "code",
   "execution_count": null,
   "metadata": {
    "ExecuteTime": {
     "end_time": "2018-09-17T01:21:05.305495Z",
     "start_time": "2018-09-17T01:21:05.295281Z"
    }
   },
   "outputs": [],
   "source": [
    "r2_score(y_predict, y_test)"
   ]
  },
  {
   "cell_type": "code",
   "execution_count": null,
   "metadata": {
    "ExecuteTime": {
     "end_time": "2018-09-17T01:21:05.323320Z",
     "start_time": "2018-09-17T01:21:05.314394Z"
    }
   },
   "outputs": [],
   "source": [
    "mean_squared_error(y_predict, y_test)"
   ]
  },
  {
   "cell_type": "code",
   "execution_count": null,
   "metadata": {
    "ExecuteTime": {
     "end_time": "2018-09-17T01:21:06.277584Z",
     "start_time": "2018-09-17T01:21:05.326474Z"
    }
   },
   "outputs": [],
   "source": [
    "model = sm.OLS(y_train, sm.add_constant(X_train_trans))\n",
    "fit = model.fit()\n",
    "fit.summary()"
   ]
  },
  {
   "cell_type": "code",
   "execution_count": null,
   "metadata": {
    "ExecuteTime": {
     "end_time": "2018-09-17T01:21:06.294958Z",
     "start_time": "2018-09-17T01:21:06.286521Z"
    }
   },
   "outputs": [],
   "source": [
    "X_train_trans"
   ]
  },
  {
   "cell_type": "code",
   "execution_count": null,
   "metadata": {
    "ExecuteTime": {
     "end_time": "2018-09-17T06:03:36.293868Z",
     "start_time": "2018-09-17T06:02:52.584676Z"
    }
   },
   "outputs": [],
   "source": [
    "from sklearn.ensemble import RandomForestRegressor\n",
    "rf = RandomForestRegressor(n_estimators=500, \n",
    "                               criterion='mse', \n",
    "                               random_state=3, \n",
    "                               n_jobs=-1)\n",
    "rf.fit(X_train_trans, y_train)\n",
    "y_train_pred = rf.predict(X_train_trans)\n",
    "y_test_pred = rf.predict(X_test_trans)\n",
    "\n",
    "print('MSE train: %.3f, test: %.3f' % (\n",
    "        mean_squared_error(y_train, y_train_pred),\n",
    "        mean_squared_error(y_test, y_test_pred)))\n",
    "print('R^2 train: %.3f, test: %.3f' % (\n",
    "        r2_score(y_train, y_train_pred),\n",
    "        r2_score(y_test, y_test_pred)))"
   ]
  },
  {
   "cell_type": "code",
   "execution_count": null,
   "metadata": {
    "ExecuteTime": {
     "end_time": "2018-09-17T06:12:04.536554Z",
     "start_time": "2018-09-17T06:12:04.311651Z"
    }
   },
   "outputs": [],
   "source": [
    "feature_labels = X.columns\n",
    "feature_tuples = zip (feature_labels, rf.feature_importances_)\n",
    "feature_lists = [list(feature_tuple) for feature_tuple in feature_tuples]"
   ]
  },
  {
   "cell_type": "code",
   "execution_count": null,
   "metadata": {
    "ExecuteTime": {
     "end_time": "2018-09-17T06:13:15.931833Z",
     "start_time": "2018-09-17T06:13:15.928274Z"
    }
   },
   "outputs": [],
   "source": [
    "feature_lists.sort(key=lambda x: abs(x[1]), reverse=True)"
   ]
  },
  {
   "cell_type": "code",
   "execution_count": null,
   "metadata": {
    "ExecuteTime": {
     "end_time": "2018-09-17T06:13:30.245976Z",
     "start_time": "2018-09-17T06:13:30.220838Z"
    }
   },
   "outputs": [],
   "source": [
    "feature_lists"
   ]
  },
  {
   "cell_type": "code",
   "execution_count": null,
   "metadata": {
    "ExecuteTime": {
     "end_time": "2018-09-17T06:35:34.375871Z",
     "start_time": "2018-09-17T06:35:34.369550Z"
    }
   },
   "outputs": [],
   "source": [
    "features_to_keep=[]\n",
    "\n",
    "for (feature, importance) in feature_lists:\n",
    "    if importance>=0.003:\n",
    "        features_to_keep.append(feature)\n",
    "    else:\n",
    "        break\n",
    "\n",
    "features_to_keep"
   ]
  },
  {
   "cell_type": "code",
   "execution_count": null,
   "metadata": {
    "ExecuteTime": {
     "end_time": "2018-09-17T06:35:42.320426Z",
     "start_time": "2018-09-17T06:35:42.315148Z"
    }
   },
   "outputs": [],
   "source": [
    "len(features_to_keep)"
   ]
  },
  {
   "cell_type": "code",
   "execution_count": null,
   "metadata": {
    "ExecuteTime": {
     "end_time": "2018-09-17T06:36:44.675080Z",
     "start_time": "2018-09-17T06:36:44.667350Z"
    }
   },
   "outputs": [],
   "source": [
    "no_features_kept = len(features_to_keep)\n",
    "features_w_importance = feature_lists[0: no_features_kept]\n",
    "features_w_importance"
   ]
  },
  {
   "cell_type": "code",
   "execution_count": null,
   "metadata": {},
   "outputs": [],
   "source": []
  },
  {
   "cell_type": "code",
   "execution_count": null,
   "metadata": {
    "ExecuteTime": {
     "end_time": "2018-09-17T06:23:03.762827Z",
     "start_time": "2018-09-17T06:23:03.693476Z"
    }
   },
   "outputs": [],
   "source": [
    "X_updated = df_model[features_to_keep]\n",
    "y_updated = df_model['price']"
   ]
  },
  {
   "cell_type": "code",
   "execution_count": null,
   "metadata": {
    "ExecuteTime": {
     "end_time": "2018-09-17T06:24:57.759191Z",
     "start_time": "2018-09-17T06:24:57.713282Z"
    }
   },
   "outputs": [],
   "source": [
    "X_updated_train, X_updated_test, y_updated_train, y_updated_test = train_test_split(\n",
    "    X_updated, y_updated, test_size =0.3, random_state=42)"
   ]
  },
  {
   "cell_type": "code",
   "execution_count": null,
   "metadata": {
    "ExecuteTime": {
     "end_time": "2018-09-17T06:25:06.781266Z",
     "start_time": "2018-09-17T06:25:06.736253Z"
    }
   },
   "outputs": [],
   "source": [
    "ssX2 = StandardScaler()\n",
    "X_updated_train_trans = ssX2.fit_transform(X_updated_train)\n",
    "X_updated_test_trans = ssX2.transform (X_updated_test)"
   ]
  },
  {
   "cell_type": "code",
   "execution_count": null,
   "metadata": {
    "ExecuteTime": {
     "end_time": "2018-09-17T06:28:21.056693Z",
     "start_time": "2018-09-17T06:28:08.546296Z"
    }
   },
   "outputs": [],
   "source": [
    "rf_updated = RandomForestRegressor(n_estimators=500, \n",
    "                                   criterion='mse', \n",
    "                                   random_state=3, \n",
    "                                   n_jobs=-1)\n",
    "rf_updated.fit(X_updated_train_trans, y_updated_train)\n",
    "y_updated_train_pred = rf_updated.predict(X_updated_train_trans)\n",
    "y_updated_test_pred = rf_updated.predict(X_updated_test_trans)\n",
    "\n",
    "print('MSE train: %.3f, test: %.3f' % (\n",
    "        mean_squared_error(y_updated_train, y_updated_train_pred),\n",
    "        mean_squared_error(y_updated_test, y_updated_test_pred)))\n",
    "print('R^2 train: %.3f, test: %.3f' % (\n",
    "        r2_score(y_updated_train, y_updated_train_pred),\n",
    "        r2_score(y_updated_test, y_updated_test_pred)))"
   ]
  },
  {
   "cell_type": "code",
   "execution_count": null,
   "metadata": {},
   "outputs": [],
   "source": []
  },
  {
   "cell_type": "code",
   "execution_count": null,
   "metadata": {},
   "outputs": [],
   "source": [
    "# Store selected feautre for future use\n",
    "\n",
    "pkl_file = '/Users/xzhou/github/project_archives/files_airbnb/{}.csv'\n",
    "\n",
    "pkl_listings = pkl_file.format('all_listings')\n",
    "\n",
    "df_test_model.to_pickle(pkl_listings)"
   ]
  }
 ],
 "metadata": {
  "kernelspec": {
   "display_name": "Python 3",
   "language": "python",
   "name": "python3"
  },
  "language_info": {
   "codemirror_mode": {
    "name": "ipython",
    "version": 3
   },
   "file_extension": ".py",
   "mimetype": "text/x-python",
   "name": "python",
   "nbconvert_exporter": "python",
   "pygments_lexer": "ipython3",
   "version": "3.6.6"
  },
  "varInspector": {
   "cols": {
    "lenName": 16,
    "lenType": 16,
    "lenVar": 40
   },
   "kernels_config": {
    "python": {
     "delete_cmd_postfix": "",
     "delete_cmd_prefix": "del ",
     "library": "var_list.py",
     "varRefreshCmd": "print(var_dic_list())"
    },
    "r": {
     "delete_cmd_postfix": ") ",
     "delete_cmd_prefix": "rm(",
     "library": "var_list.r",
     "varRefreshCmd": "cat(var_dic_list()) "
    }
   },
   "types_to_exclude": [
    "module",
    "function",
    "builtin_function_or_method",
    "instance",
    "_Feature"
   ],
   "window_display": false
  }
 },
 "nbformat": 4,
 "nbformat_minor": 2
}
