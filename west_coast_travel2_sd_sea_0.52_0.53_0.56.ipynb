{
 "cells": [
  {
   "cell_type": "code",
   "execution_count": 1,
   "metadata": {
    "ExecuteTime": {
     "end_time": "2018-09-16T05:00:54.517017Z",
     "start_time": "2018-09-16T05:00:52.677414Z"
    }
   },
   "outputs": [],
   "source": [
    "import pandas as pd\n",
    "import csv\n",
    "import statsmodels.api as sm\n",
    "from datetime import datetime\n",
    "import matplotlib.pyplot as plt\n",
    "import numpy as np\n",
    "from sklearn import datasets, linear_model\n",
    "from sklearn.metrics import mean_squared_error, r2_score\n",
    "from sklearn.preprocessing import StandardScaler\n",
    "from sklearn.model_selection import train_test_split"
   ]
  },
  {
   "cell_type": "code",
   "execution_count": 2,
   "metadata": {
    "ExecuteTime": {
     "end_time": "2018-09-16T05:00:54.525586Z",
     "start_time": "2018-09-16T05:00:54.519715Z"
    }
   },
   "outputs": [],
   "source": [
    "file_url = '/Users/xzhou/github/project_archives/files_airbnb/la_airbnb/{}.csv'\n",
    "\n",
    "listings_file = file_url.format('listings_details')\n",
    "reviews_file = file_url.format('reviews_details')\n",
    "calendar_file = file_url.format('calendar_details')"
   ]
  },
  {
   "cell_type": "code",
   "execution_count": 3,
   "metadata": {
    "ExecuteTime": {
     "end_time": "2018-09-16T05:00:54.535816Z",
     "start_time": "2018-09-16T05:00:54.528784Z"
    }
   },
   "outputs": [],
   "source": [
    "file_url = '/Users/xzhou/github/project_archives/files_airbnb/{}.csv'\n",
    "\n",
    "sf_file = file_url.format('sf_airbnb/listings_details')\n",
    "ok_file = file_url.format('ok_airbnb/listings_details')\n",
    "sc_file = file_url.format('sc_airbnb/listings_details')\n",
    "scz_file = file_url.format('scz_airbnb/listings_details')\n",
    "pg_file = file_url.format('pg_airbnb/listings_details')\n",
    "sd_file = file_url.format('sd_airbnb/listings_details')\n",
    "la_file = file_url.format('la_airbnb/listings_details')\n",
    "\n",
    "sea_file = file_url.format('sea_airbnb/listings_details')"
   ]
  },
  {
   "cell_type": "code",
   "execution_count": 4,
   "metadata": {
    "ExecuteTime": {
     "end_time": "2018-09-16T05:01:06.646284Z",
     "start_time": "2018-09-16T05:00:54.538869Z"
    }
   },
   "outputs": [],
   "source": [
    "listings_sf = pd.read_csv(sf_file, parse_dates=['last_scraped','host_since', 'first_review', 'last_review'])\n",
    "listings_ok = pd.read_csv(ok_file, parse_dates=['last_scraped','host_since', 'first_review', 'last_review'])\n",
    "listings_sc = pd.read_csv(sc_file, parse_dates=['last_scraped','host_since', 'first_review', 'last_review'])\n",
    "listings_scz = pd.read_csv(scz_file, parse_dates=['last_scraped','host_since', 'first_review', 'last_review'])\n",
    "listings_sd = pd.read_csv(sd_file, parse_dates=['last_scraped','host_since', 'first_review', 'last_review'])\n",
    "listings_la = pd.read_csv(la_file, parse_dates=['last_scraped','host_since', 'first_review', 'last_review'])\n",
    "\n",
    "listings_sea = pd.read_csv(sea_file, parse_dates=['last_scraped','host_since', 'first_review', 'last_review'])"
   ]
  },
  {
   "cell_type": "code",
   "execution_count": 5,
   "metadata": {
    "ExecuteTime": {
     "end_time": "2018-09-16T05:01:06.653820Z",
     "start_time": "2018-09-16T05:01:06.648473Z"
    }
   },
   "outputs": [
    {
     "name": "stdout",
     "output_type": "stream",
     "text": [
      "(6633, 96) (2898, 96) (5668, 96) (1570, 96) (3818, 92) (42337, 96)\n"
     ]
    }
   ],
   "source": [
    "print (listings_sf.shape, listings_ok.shape, listings_sc.shape, listings_scz.shape, listings_sea.shape,listings_la.shape)"
   ]
  },
  {
   "cell_type": "code",
   "execution_count": 6,
   "metadata": {
    "ExecuteTime": {
     "end_time": "2018-09-16T05:01:06.661076Z",
     "start_time": "2018-09-16T05:01:06.656644Z"
    }
   },
   "outputs": [],
   "source": [
    "frames = [listings_sd, listings_sea]"
   ]
  },
  {
   "cell_type": "code",
   "execution_count": 7,
   "metadata": {
    "ExecuteTime": {
     "end_time": "2018-09-16T05:01:06.766795Z",
     "start_time": "2018-09-16T05:01:06.664076Z"
    }
   },
   "outputs": [
    {
     "name": "stderr",
     "output_type": "stream",
     "text": [
      "/Users/xzhou/anaconda3/lib/python3.6/site-packages/ipykernel_launcher.py:1: FutureWarning: Sorting because non-concatenation axis is not aligned. A future version\n",
      "of pandas will change to not sort by default.\n",
      "\n",
      "To accept the future behavior, pass 'sort=False'.\n",
      "\n",
      "To retain the current behavior and silence the warning, pass 'sort=True'.\n",
      "\n",
      "  \"\"\"Entry point for launching an IPython kernel.\n"
     ]
    }
   ],
   "source": [
    "listings = pd.concat(frames)"
   ]
  },
  {
   "cell_type": "code",
   "execution_count": 8,
   "metadata": {
    "ExecuteTime": {
     "end_time": "2018-09-16T05:01:06.778851Z",
     "start_time": "2018-09-16T05:01:06.769484Z"
    }
   },
   "outputs": [
    {
     "data": {
      "text/plain": [
       "array(['access', 'accommodates', 'amenities', 'availability_30',\n",
       "       'availability_365', 'availability_60', 'availability_90',\n",
       "       'bathrooms', 'bed_type', 'bedrooms', 'beds',\n",
       "       'calculated_host_listings_count', 'calendar_last_scraped',\n",
       "       'calendar_updated', 'cancellation_policy', 'city', 'cleaning_fee',\n",
       "       'country', 'country_code', 'description', 'experiences_offered',\n",
       "       'extra_people', 'first_review', 'guests_included',\n",
       "       'has_availability', 'host_about', 'host_acceptance_rate',\n",
       "       'host_has_profile_pic', 'host_id', 'host_identity_verified',\n",
       "       'host_is_superhost', 'host_listings_count', 'host_location',\n",
       "       'host_name', 'host_neighbourhood', 'host_picture_url',\n",
       "       'host_response_rate', 'host_response_time', 'host_since',\n",
       "       'host_thumbnail_url', 'host_total_listings_count', 'host_url',\n",
       "       'host_verifications', 'house_rules', 'id', 'instant_bookable',\n",
       "       'interaction', 'is_business_travel_ready', 'is_location_exact',\n",
       "       'jurisdiction_names', 'last_review', 'last_scraped', 'latitude',\n",
       "       'license', 'listing_url', 'longitude', 'market', 'maximum_nights',\n",
       "       'medium_url', 'minimum_nights', 'monthly_price', 'name',\n",
       "       'neighborhood_overview', 'neighbourhood', 'neighbourhood_cleansed',\n",
       "       'neighbourhood_group_cleansed', 'notes', 'number_of_reviews',\n",
       "       'picture_url', 'price', 'property_type',\n",
       "       'require_guest_phone_verification',\n",
       "       'require_guest_profile_picture', 'requires_license',\n",
       "       'review_scores_accuracy', 'review_scores_checkin',\n",
       "       'review_scores_cleanliness', 'review_scores_communication',\n",
       "       'review_scores_location', 'review_scores_rating',\n",
       "       'review_scores_value', 'reviews_per_month', 'room_type',\n",
       "       'scrape_id', 'security_deposit', 'smart_location', 'space',\n",
       "       'square_feet', 'state', 'street', 'summary', 'thumbnail_url',\n",
       "       'transit', 'weekly_price', 'xl_picture_url', 'zipcode'],\n",
       "      dtype=object)"
      ]
     },
     "execution_count": 8,
     "metadata": {},
     "output_type": "execute_result"
    }
   ],
   "source": [
    "listings.columns.values"
   ]
  },
  {
   "cell_type": "code",
   "execution_count": 9,
   "metadata": {
    "ExecuteTime": {
     "end_time": "2018-09-16T05:01:06.870144Z",
     "start_time": "2018-09-16T05:01:06.782398Z"
    }
   },
   "outputs": [],
   "source": [
    "df = listings[[\"host_response_rate\", \"host_acceptance_rate\", \"host_is_superhost\",\n",
    "               \"host_listings_count\", \"zipcode\", \"property_type\",\"room_type\", \"accommodates\", \"bathrooms\", \"bedrooms\", \n",
    "               \"beds\", \"price\", \"number_of_reviews\", \"review_scores_rating\", \"cancellation_policy\", \n",
    "               \"reviews_per_month\"]]"
   ]
  },
  {
   "cell_type": "code",
   "execution_count": 10,
   "metadata": {
    "ExecuteTime": {
     "end_time": "2018-09-16T05:01:06.896873Z",
     "start_time": "2018-09-16T05:01:06.872574Z"
    }
   },
   "outputs": [
    {
     "data": {
      "text/html": [
       "<div>\n",
       "<style scoped>\n",
       "    .dataframe tbody tr th:only-of-type {\n",
       "        vertical-align: middle;\n",
       "    }\n",
       "\n",
       "    .dataframe tbody tr th {\n",
       "        vertical-align: top;\n",
       "    }\n",
       "\n",
       "    .dataframe thead th {\n",
       "        text-align: right;\n",
       "    }\n",
       "</style>\n",
       "<table border=\"1\" class=\"dataframe\">\n",
       "  <thead>\n",
       "    <tr style=\"text-align: right;\">\n",
       "      <th></th>\n",
       "      <th>host_response_rate</th>\n",
       "      <th>host_acceptance_rate</th>\n",
       "      <th>host_is_superhost</th>\n",
       "      <th>host_listings_count</th>\n",
       "      <th>zipcode</th>\n",
       "      <th>property_type</th>\n",
       "      <th>room_type</th>\n",
       "      <th>accommodates</th>\n",
       "      <th>bathrooms</th>\n",
       "      <th>bedrooms</th>\n",
       "      <th>beds</th>\n",
       "      <th>price</th>\n",
       "      <th>number_of_reviews</th>\n",
       "      <th>review_scores_rating</th>\n",
       "      <th>cancellation_policy</th>\n",
       "      <th>reviews_per_month</th>\n",
       "    </tr>\n",
       "  </thead>\n",
       "  <tbody>\n",
       "    <tr>\n",
       "      <th>0</th>\n",
       "      <td>100%</td>\n",
       "      <td>NaN</td>\n",
       "      <td>t</td>\n",
       "      <td>1.0</td>\n",
       "      <td>92104</td>\n",
       "      <td>House</td>\n",
       "      <td>Entire home/apt</td>\n",
       "      <td>6</td>\n",
       "      <td>2.0</td>\n",
       "      <td>3.0</td>\n",
       "      <td>4.0</td>\n",
       "      <td>$295.00</td>\n",
       "      <td>145</td>\n",
       "      <td>96.0</td>\n",
       "      <td>strict_14_with_grace_period</td>\n",
       "      <td>1.17</td>\n",
       "    </tr>\n",
       "    <tr>\n",
       "      <th>1</th>\n",
       "      <td>100%</td>\n",
       "      <td>NaN</td>\n",
       "      <td>f</td>\n",
       "      <td>3.0</td>\n",
       "      <td>92109</td>\n",
       "      <td>Condominium</td>\n",
       "      <td>Entire home/apt</td>\n",
       "      <td>6</td>\n",
       "      <td>1.0</td>\n",
       "      <td>2.0</td>\n",
       "      <td>4.0</td>\n",
       "      <td>$2,050.00</td>\n",
       "      <td>0</td>\n",
       "      <td>NaN</td>\n",
       "      <td>strict_14_with_grace_period</td>\n",
       "      <td>NaN</td>\n",
       "    </tr>\n",
       "    <tr>\n",
       "      <th>2</th>\n",
       "      <td>NaN</td>\n",
       "      <td>NaN</td>\n",
       "      <td>f</td>\n",
       "      <td>1.0</td>\n",
       "      <td>92107</td>\n",
       "      <td>Guesthouse</td>\n",
       "      <td>Entire home/apt</td>\n",
       "      <td>2</td>\n",
       "      <td>1.0</td>\n",
       "      <td>0.0</td>\n",
       "      <td>1.0</td>\n",
       "      <td>$84.00</td>\n",
       "      <td>178</td>\n",
       "      <td>93.0</td>\n",
       "      <td>strict_14_with_grace_period</td>\n",
       "      <td>1.60</td>\n",
       "    </tr>\n",
       "    <tr>\n",
       "      <th>3</th>\n",
       "      <td>100%</td>\n",
       "      <td>NaN</td>\n",
       "      <td>t</td>\n",
       "      <td>1.0</td>\n",
       "      <td>92126</td>\n",
       "      <td>House</td>\n",
       "      <td>Private room</td>\n",
       "      <td>2</td>\n",
       "      <td>1.0</td>\n",
       "      <td>1.0</td>\n",
       "      <td>1.0</td>\n",
       "      <td>$72.00</td>\n",
       "      <td>187</td>\n",
       "      <td>98.0</td>\n",
       "      <td>moderate</td>\n",
       "      <td>1.81</td>\n",
       "    </tr>\n",
       "    <tr>\n",
       "      <th>4</th>\n",
       "      <td>100%</td>\n",
       "      <td>NaN</td>\n",
       "      <td>f</td>\n",
       "      <td>3.0</td>\n",
       "      <td>92106</td>\n",
       "      <td>House</td>\n",
       "      <td>Private room</td>\n",
       "      <td>2</td>\n",
       "      <td>1.0</td>\n",
       "      <td>1.0</td>\n",
       "      <td>1.0</td>\n",
       "      <td>$75.00</td>\n",
       "      <td>136</td>\n",
       "      <td>87.0</td>\n",
       "      <td>moderate</td>\n",
       "      <td>1.41</td>\n",
       "    </tr>\n",
       "  </tbody>\n",
       "</table>\n",
       "</div>"
      ],
      "text/plain": [
       "  host_response_rate host_acceptance_rate host_is_superhost  \\\n",
       "0               100%                  NaN                 t   \n",
       "1               100%                  NaN                 f   \n",
       "2                NaN                  NaN                 f   \n",
       "3               100%                  NaN                 t   \n",
       "4               100%                  NaN                 f   \n",
       "\n",
       "   host_listings_count zipcode property_type        room_type  accommodates  \\\n",
       "0                  1.0   92104         House  Entire home/apt             6   \n",
       "1                  3.0   92109   Condominium  Entire home/apt             6   \n",
       "2                  1.0   92107    Guesthouse  Entire home/apt             2   \n",
       "3                  1.0   92126         House     Private room             2   \n",
       "4                  3.0   92106         House     Private room             2   \n",
       "\n",
       "   bathrooms  bedrooms  beds      price  number_of_reviews  \\\n",
       "0        2.0       3.0   4.0    $295.00                145   \n",
       "1        1.0       2.0   4.0  $2,050.00                  0   \n",
       "2        1.0       0.0   1.0     $84.00                178   \n",
       "3        1.0       1.0   1.0     $72.00                187   \n",
       "4        1.0       1.0   1.0     $75.00                136   \n",
       "\n",
       "   review_scores_rating          cancellation_policy  reviews_per_month  \n",
       "0                  96.0  strict_14_with_grace_period               1.17  \n",
       "1                   NaN  strict_14_with_grace_period                NaN  \n",
       "2                  93.0  strict_14_with_grace_period               1.60  \n",
       "3                  98.0                     moderate               1.81  \n",
       "4                  87.0                     moderate               1.41  "
      ]
     },
     "execution_count": 10,
     "metadata": {},
     "output_type": "execute_result"
    }
   ],
   "source": [
    "df.head()"
   ]
  },
  {
   "cell_type": "code",
   "execution_count": 11,
   "metadata": {
    "ExecuteTime": {
     "end_time": "2018-09-16T05:01:06.929144Z",
     "start_time": "2018-09-16T05:01:06.899596Z"
    }
   },
   "outputs": [
    {
     "data": {
      "text/plain": [
       "host_response_rate      16.179876\n",
       "host_acceptance_rate    80.410448\n",
       "host_is_superhost        0.070767\n",
       "host_listings_count      0.070767\n",
       "zipcode                  1.016469\n",
       "property_type            0.006433\n",
       "room_type                0.000000\n",
       "accommodates             0.000000\n",
       "bathrooms                0.135100\n",
       "bedrooms                 0.064334\n",
       "beds                     0.038600\n",
       "price                    0.000000\n",
       "number_of_reviews        0.000000\n",
       "review_scores_rating    18.875450\n",
       "cancellation_policy      0.000000\n",
       "reviews_per_month       17.858981\n",
       "dtype: float64"
      ]
     },
     "execution_count": 11,
     "metadata": {},
     "output_type": "execute_result"
    }
   ],
   "source": [
    "# % of NaN values\n",
    "(len(df)-df.count())/len(df)*100"
   ]
  },
  {
   "cell_type": "code",
   "execution_count": 12,
   "metadata": {
    "ExecuteTime": {
     "end_time": "2018-09-16T05:01:06.937925Z",
     "start_time": "2018-09-16T05:01:06.932259Z"
    }
   },
   "outputs": [],
   "source": [
    "df = df.drop(['host_acceptance_rate'], axis=1)"
   ]
  },
  {
   "cell_type": "code",
   "execution_count": 13,
   "metadata": {
    "ExecuteTime": {
     "end_time": "2018-09-16T05:01:06.957066Z",
     "start_time": "2018-09-16T05:01:06.941165Z"
    }
   },
   "outputs": [],
   "source": [
    "# drop NaN rows\n",
    "df2=df.dropna(axis=0)"
   ]
  },
  {
   "cell_type": "code",
   "execution_count": 14,
   "metadata": {
    "ExecuteTime": {
     "end_time": "2018-09-16T05:01:06.965985Z",
     "start_time": "2018-09-16T05:01:06.959754Z"
    }
   },
   "outputs": [
    {
     "data": {
      "text/plain": [
       "28.306742151312402"
      ]
     },
     "execution_count": 14,
     "metadata": {},
     "output_type": "execute_result"
    }
   ],
   "source": [
    "# % of rows droppped\n",
    "(len(df)-len(df2))/len(df)*100"
   ]
  },
  {
   "cell_type": "code",
   "execution_count": 15,
   "metadata": {
    "ExecuteTime": {
     "end_time": "2018-09-16T05:01:06.974308Z",
     "start_time": "2018-09-16T05:01:06.968740Z"
    }
   },
   "outputs": [
    {
     "data": {
      "text/plain": [
       "(11144, 15)"
      ]
     },
     "execution_count": 15,
     "metadata": {},
     "output_type": "execute_result"
    }
   ],
   "source": [
    "df2.shape"
   ]
  },
  {
   "cell_type": "code",
   "execution_count": 16,
   "metadata": {
    "ExecuteTime": {
     "end_time": "2018-09-16T05:01:06.986976Z",
     "start_time": "2018-09-16T05:01:06.977103Z"
    }
   },
   "outputs": [],
   "source": [
    "pd.options.mode.chained_assignment = None  # default='warn'\n",
    "\n",
    "df2['host_response_rate'] = df2['host_response_rate'].astype(str)\n",
    "df2['price'] = df2['price'].astype(str)"
   ]
  },
  {
   "cell_type": "code",
   "execution_count": 17,
   "metadata": {
    "ExecuteTime": {
     "end_time": "2018-09-16T05:01:07.022347Z",
     "start_time": "2018-09-16T05:01:06.989763Z"
    }
   },
   "outputs": [],
   "source": [
    "# clean data\n",
    "pd.options.mode.chained_assignment = None  # default='warn'\n",
    "\n",
    "df2['price'] = df2['price'].str.replace(\"[$, ]\", \"\").astype(\"float\")\n",
    "df2['host_response_rate'] = df2['host_response_rate'].str.replace(\"%\", \"\").astype(\"float\")"
   ]
  },
  {
   "cell_type": "code",
   "execution_count": 18,
   "metadata": {
    "ExecuteTime": {
     "end_time": "2018-09-16T05:01:07.034437Z",
     "start_time": "2018-09-16T05:01:07.024836Z"
    }
   },
   "outputs": [],
   "source": [
    "df2['superhost']=np.where(df2['host_is_superhost']=='t',1,0)\n",
    "del df2['host_is_superhost']"
   ]
  },
  {
   "cell_type": "code",
   "execution_count": 19,
   "metadata": {
    "ExecuteTime": {
     "end_time": "2018-09-16T05:01:07.059006Z",
     "start_time": "2018-09-16T05:01:07.037134Z"
    }
   },
   "outputs": [
    {
     "data": {
      "text/html": [
       "<div>\n",
       "<style scoped>\n",
       "    .dataframe tbody tr th:only-of-type {\n",
       "        vertical-align: middle;\n",
       "    }\n",
       "\n",
       "    .dataframe tbody tr th {\n",
       "        vertical-align: top;\n",
       "    }\n",
       "\n",
       "    .dataframe thead th {\n",
       "        text-align: right;\n",
       "    }\n",
       "</style>\n",
       "<table border=\"1\" class=\"dataframe\">\n",
       "  <thead>\n",
       "    <tr style=\"text-align: right;\">\n",
       "      <th></th>\n",
       "      <th>zipcode</th>\n",
       "      <th>property_type</th>\n",
       "      <th>room_type</th>\n",
       "      <th>cancellation_policy</th>\n",
       "    </tr>\n",
       "  </thead>\n",
       "  <tbody>\n",
       "    <tr>\n",
       "      <th>0</th>\n",
       "      <td>92104</td>\n",
       "      <td>House</td>\n",
       "      <td>Entire home/apt</td>\n",
       "      <td>strict_14_with_grace_period</td>\n",
       "    </tr>\n",
       "    <tr>\n",
       "      <th>3</th>\n",
       "      <td>92126</td>\n",
       "      <td>House</td>\n",
       "      <td>Private room</td>\n",
       "      <td>moderate</td>\n",
       "    </tr>\n",
       "    <tr>\n",
       "      <th>4</th>\n",
       "      <td>92106</td>\n",
       "      <td>House</td>\n",
       "      <td>Private room</td>\n",
       "      <td>moderate</td>\n",
       "    </tr>\n",
       "    <tr>\n",
       "      <th>5</th>\n",
       "      <td>92104</td>\n",
       "      <td>Tiny house</td>\n",
       "      <td>Entire home/apt</td>\n",
       "      <td>strict_14_with_grace_period</td>\n",
       "    </tr>\n",
       "    <tr>\n",
       "      <th>7</th>\n",
       "      <td>92037</td>\n",
       "      <td>House</td>\n",
       "      <td>Private room</td>\n",
       "      <td>flexible</td>\n",
       "    </tr>\n",
       "  </tbody>\n",
       "</table>\n",
       "</div>"
      ],
      "text/plain": [
       "  zipcode property_type        room_type          cancellation_policy\n",
       "0   92104         House  Entire home/apt  strict_14_with_grace_period\n",
       "3   92126         House     Private room                     moderate\n",
       "4   92106         House     Private room                     moderate\n",
       "5   92104    Tiny house  Entire home/apt  strict_14_with_grace_period\n",
       "7   92037         House     Private room                     flexible"
      ]
     },
     "execution_count": 19,
     "metadata": {},
     "output_type": "execute_result"
    }
   ],
   "source": [
    "# select non-numeric variables and create dummies\n",
    "non_num_vars = df2.select_dtypes(include=['object']).columns\n",
    "df2[non_num_vars].head()"
   ]
  },
  {
   "cell_type": "code",
   "execution_count": 20,
   "metadata": {
    "ExecuteTime": {
     "end_time": "2018-09-16T05:01:07.096778Z",
     "start_time": "2018-09-16T05:01:07.061759Z"
    }
   },
   "outputs": [],
   "source": [
    "dummy_vars = pd.get_dummies(df2[non_num_vars])"
   ]
  },
  {
   "cell_type": "code",
   "execution_count": 21,
   "metadata": {
    "ExecuteTime": {
     "end_time": "2018-09-16T05:01:07.137323Z",
     "start_time": "2018-09-16T05:01:07.099545Z"
    }
   },
   "outputs": [
    {
     "data": {
      "text/html": [
       "<div>\n",
       "<style scoped>\n",
       "    .dataframe tbody tr th:only-of-type {\n",
       "        vertical-align: middle;\n",
       "    }\n",
       "\n",
       "    .dataframe tbody tr th {\n",
       "        vertical-align: top;\n",
       "    }\n",
       "\n",
       "    .dataframe thead th {\n",
       "        text-align: right;\n",
       "    }\n",
       "</style>\n",
       "<table border=\"1\" class=\"dataframe\">\n",
       "  <thead>\n",
       "    <tr style=\"text-align: right;\">\n",
       "      <th></th>\n",
       "      <th>zipcode_12345</th>\n",
       "      <th>zipcode_22404</th>\n",
       "      <th>zipcode_91901</th>\n",
       "      <th>zipcode_91902</th>\n",
       "      <th>zipcode_91910</th>\n",
       "      <th>zipcode_91911</th>\n",
       "      <th>zipcode_91913</th>\n",
       "      <th>zipcode_91914</th>\n",
       "      <th>zipcode_91915</th>\n",
       "      <th>zipcode_91942</th>\n",
       "      <th>...</th>\n",
       "      <th>property_type_Yurt</th>\n",
       "      <th>room_type_Entire home/apt</th>\n",
       "      <th>room_type_Private room</th>\n",
       "      <th>room_type_Shared room</th>\n",
       "      <th>cancellation_policy_flexible</th>\n",
       "      <th>cancellation_policy_moderate</th>\n",
       "      <th>cancellation_policy_strict</th>\n",
       "      <th>cancellation_policy_strict_14_with_grace_period</th>\n",
       "      <th>cancellation_policy_super_strict_30</th>\n",
       "      <th>cancellation_policy_super_strict_60</th>\n",
       "    </tr>\n",
       "  </thead>\n",
       "  <tbody>\n",
       "    <tr>\n",
       "      <th>0</th>\n",
       "      <td>0</td>\n",
       "      <td>0</td>\n",
       "      <td>0</td>\n",
       "      <td>0</td>\n",
       "      <td>0</td>\n",
       "      <td>0</td>\n",
       "      <td>0</td>\n",
       "      <td>0</td>\n",
       "      <td>0</td>\n",
       "      <td>0</td>\n",
       "      <td>...</td>\n",
       "      <td>0</td>\n",
       "      <td>1</td>\n",
       "      <td>0</td>\n",
       "      <td>0</td>\n",
       "      <td>0</td>\n",
       "      <td>0</td>\n",
       "      <td>0</td>\n",
       "      <td>1</td>\n",
       "      <td>0</td>\n",
       "      <td>0</td>\n",
       "    </tr>\n",
       "    <tr>\n",
       "      <th>3</th>\n",
       "      <td>0</td>\n",
       "      <td>0</td>\n",
       "      <td>0</td>\n",
       "      <td>0</td>\n",
       "      <td>0</td>\n",
       "      <td>0</td>\n",
       "      <td>0</td>\n",
       "      <td>0</td>\n",
       "      <td>0</td>\n",
       "      <td>0</td>\n",
       "      <td>...</td>\n",
       "      <td>0</td>\n",
       "      <td>0</td>\n",
       "      <td>1</td>\n",
       "      <td>0</td>\n",
       "      <td>0</td>\n",
       "      <td>1</td>\n",
       "      <td>0</td>\n",
       "      <td>0</td>\n",
       "      <td>0</td>\n",
       "      <td>0</td>\n",
       "    </tr>\n",
       "    <tr>\n",
       "      <th>4</th>\n",
       "      <td>0</td>\n",
       "      <td>0</td>\n",
       "      <td>0</td>\n",
       "      <td>0</td>\n",
       "      <td>0</td>\n",
       "      <td>0</td>\n",
       "      <td>0</td>\n",
       "      <td>0</td>\n",
       "      <td>0</td>\n",
       "      <td>0</td>\n",
       "      <td>...</td>\n",
       "      <td>0</td>\n",
       "      <td>0</td>\n",
       "      <td>1</td>\n",
       "      <td>0</td>\n",
       "      <td>0</td>\n",
       "      <td>1</td>\n",
       "      <td>0</td>\n",
       "      <td>0</td>\n",
       "      <td>0</td>\n",
       "      <td>0</td>\n",
       "    </tr>\n",
       "    <tr>\n",
       "      <th>5</th>\n",
       "      <td>0</td>\n",
       "      <td>0</td>\n",
       "      <td>0</td>\n",
       "      <td>0</td>\n",
       "      <td>0</td>\n",
       "      <td>0</td>\n",
       "      <td>0</td>\n",
       "      <td>0</td>\n",
       "      <td>0</td>\n",
       "      <td>0</td>\n",
       "      <td>...</td>\n",
       "      <td>0</td>\n",
       "      <td>1</td>\n",
       "      <td>0</td>\n",
       "      <td>0</td>\n",
       "      <td>0</td>\n",
       "      <td>0</td>\n",
       "      <td>0</td>\n",
       "      <td>1</td>\n",
       "      <td>0</td>\n",
       "      <td>0</td>\n",
       "    </tr>\n",
       "    <tr>\n",
       "      <th>7</th>\n",
       "      <td>0</td>\n",
       "      <td>0</td>\n",
       "      <td>0</td>\n",
       "      <td>0</td>\n",
       "      <td>0</td>\n",
       "      <td>0</td>\n",
       "      <td>0</td>\n",
       "      <td>0</td>\n",
       "      <td>0</td>\n",
       "      <td>0</td>\n",
       "      <td>...</td>\n",
       "      <td>0</td>\n",
       "      <td>0</td>\n",
       "      <td>1</td>\n",
       "      <td>0</td>\n",
       "      <td>1</td>\n",
       "      <td>0</td>\n",
       "      <td>0</td>\n",
       "      <td>0</td>\n",
       "      <td>0</td>\n",
       "      <td>0</td>\n",
       "    </tr>\n",
       "  </tbody>\n",
       "</table>\n",
       "<p>5 rows × 120 columns</p>\n",
       "</div>"
      ],
      "text/plain": [
       "   zipcode_12345  zipcode_22404  zipcode_91901  zipcode_91902  zipcode_91910  \\\n",
       "0              0              0              0              0              0   \n",
       "3              0              0              0              0              0   \n",
       "4              0              0              0              0              0   \n",
       "5              0              0              0              0              0   \n",
       "7              0              0              0              0              0   \n",
       "\n",
       "   zipcode_91911  zipcode_91913  zipcode_91914  zipcode_91915  zipcode_91942  \\\n",
       "0              0              0              0              0              0   \n",
       "3              0              0              0              0              0   \n",
       "4              0              0              0              0              0   \n",
       "5              0              0              0              0              0   \n",
       "7              0              0              0              0              0   \n",
       "\n",
       "                  ...                   property_type_Yurt  \\\n",
       "0                 ...                                    0   \n",
       "3                 ...                                    0   \n",
       "4                 ...                                    0   \n",
       "5                 ...                                    0   \n",
       "7                 ...                                    0   \n",
       "\n",
       "   room_type_Entire home/apt  room_type_Private room  room_type_Shared room  \\\n",
       "0                          1                       0                      0   \n",
       "3                          0                       1                      0   \n",
       "4                          0                       1                      0   \n",
       "5                          1                       0                      0   \n",
       "7                          0                       1                      0   \n",
       "\n",
       "   cancellation_policy_flexible  cancellation_policy_moderate  \\\n",
       "0                             0                             0   \n",
       "3                             0                             1   \n",
       "4                             0                             1   \n",
       "5                             0                             0   \n",
       "7                             1                             0   \n",
       "\n",
       "   cancellation_policy_strict  \\\n",
       "0                           0   \n",
       "3                           0   \n",
       "4                           0   \n",
       "5                           0   \n",
       "7                           0   \n",
       "\n",
       "   cancellation_policy_strict_14_with_grace_period  \\\n",
       "0                                                1   \n",
       "3                                                0   \n",
       "4                                                0   \n",
       "5                                                1   \n",
       "7                                                0   \n",
       "\n",
       "   cancellation_policy_super_strict_30  cancellation_policy_super_strict_60  \n",
       "0                                    0                                    0  \n",
       "3                                    0                                    0  \n",
       "4                                    0                                    0  \n",
       "5                                    0                                    0  \n",
       "7                                    0                                    0  \n",
       "\n",
       "[5 rows x 120 columns]"
      ]
     },
     "execution_count": 21,
     "metadata": {},
     "output_type": "execute_result"
    }
   ],
   "source": [
    "dummy_vars.head()"
   ]
  },
  {
   "cell_type": "code",
   "execution_count": 22,
   "metadata": {
    "ExecuteTime": {
     "end_time": "2018-09-16T05:01:07.194749Z",
     "start_time": "2018-09-16T05:01:07.141801Z"
    }
   },
   "outputs": [
    {
     "data": {
      "text/html": [
       "<div>\n",
       "<style scoped>\n",
       "    .dataframe tbody tr th:only-of-type {\n",
       "        vertical-align: middle;\n",
       "    }\n",
       "\n",
       "    .dataframe tbody tr th {\n",
       "        vertical-align: top;\n",
       "    }\n",
       "\n",
       "    .dataframe thead th {\n",
       "        text-align: right;\n",
       "    }\n",
       "</style>\n",
       "<table border=\"1\" class=\"dataframe\">\n",
       "  <thead>\n",
       "    <tr style=\"text-align: right;\">\n",
       "      <th></th>\n",
       "      <th>host_response_rate</th>\n",
       "      <th>host_listings_count</th>\n",
       "      <th>accommodates</th>\n",
       "      <th>bathrooms</th>\n",
       "      <th>bedrooms</th>\n",
       "      <th>beds</th>\n",
       "      <th>price</th>\n",
       "      <th>number_of_reviews</th>\n",
       "      <th>review_scores_rating</th>\n",
       "      <th>reviews_per_month</th>\n",
       "      <th>...</th>\n",
       "      <th>property_type_Yurt</th>\n",
       "      <th>room_type_Entire home/apt</th>\n",
       "      <th>room_type_Private room</th>\n",
       "      <th>room_type_Shared room</th>\n",
       "      <th>cancellation_policy_flexible</th>\n",
       "      <th>cancellation_policy_moderate</th>\n",
       "      <th>cancellation_policy_strict</th>\n",
       "      <th>cancellation_policy_strict_14_with_grace_period</th>\n",
       "      <th>cancellation_policy_super_strict_30</th>\n",
       "      <th>cancellation_policy_super_strict_60</th>\n",
       "    </tr>\n",
       "  </thead>\n",
       "  <tbody>\n",
       "    <tr>\n",
       "      <th>0</th>\n",
       "      <td>100.0</td>\n",
       "      <td>1.0</td>\n",
       "      <td>6</td>\n",
       "      <td>2.0</td>\n",
       "      <td>3.0</td>\n",
       "      <td>4.0</td>\n",
       "      <td>295.0</td>\n",
       "      <td>145</td>\n",
       "      <td>96.0</td>\n",
       "      <td>1.17</td>\n",
       "      <td>...</td>\n",
       "      <td>0</td>\n",
       "      <td>1</td>\n",
       "      <td>0</td>\n",
       "      <td>0</td>\n",
       "      <td>0</td>\n",
       "      <td>0</td>\n",
       "      <td>0</td>\n",
       "      <td>1</td>\n",
       "      <td>0</td>\n",
       "      <td>0</td>\n",
       "    </tr>\n",
       "    <tr>\n",
       "      <th>0</th>\n",
       "      <td>100.0</td>\n",
       "      <td>1.0</td>\n",
       "      <td>6</td>\n",
       "      <td>2.0</td>\n",
       "      <td>3.0</td>\n",
       "      <td>4.0</td>\n",
       "      <td>295.0</td>\n",
       "      <td>145</td>\n",
       "      <td>96.0</td>\n",
       "      <td>1.17</td>\n",
       "      <td>...</td>\n",
       "      <td>0</td>\n",
       "      <td>1</td>\n",
       "      <td>0</td>\n",
       "      <td>0</td>\n",
       "      <td>0</td>\n",
       "      <td>1</td>\n",
       "      <td>0</td>\n",
       "      <td>0</td>\n",
       "      <td>0</td>\n",
       "      <td>0</td>\n",
       "    </tr>\n",
       "    <tr>\n",
       "      <th>0</th>\n",
       "      <td>96.0</td>\n",
       "      <td>3.0</td>\n",
       "      <td>4</td>\n",
       "      <td>1.0</td>\n",
       "      <td>1.0</td>\n",
       "      <td>1.0</td>\n",
       "      <td>85.0</td>\n",
       "      <td>207</td>\n",
       "      <td>95.0</td>\n",
       "      <td>4.07</td>\n",
       "      <td>...</td>\n",
       "      <td>0</td>\n",
       "      <td>1</td>\n",
       "      <td>0</td>\n",
       "      <td>0</td>\n",
       "      <td>0</td>\n",
       "      <td>0</td>\n",
       "      <td>0</td>\n",
       "      <td>1</td>\n",
       "      <td>0</td>\n",
       "      <td>0</td>\n",
       "    </tr>\n",
       "    <tr>\n",
       "      <th>0</th>\n",
       "      <td>96.0</td>\n",
       "      <td>3.0</td>\n",
       "      <td>4</td>\n",
       "      <td>1.0</td>\n",
       "      <td>1.0</td>\n",
       "      <td>1.0</td>\n",
       "      <td>85.0</td>\n",
       "      <td>207</td>\n",
       "      <td>95.0</td>\n",
       "      <td>4.07</td>\n",
       "      <td>...</td>\n",
       "      <td>0</td>\n",
       "      <td>1</td>\n",
       "      <td>0</td>\n",
       "      <td>0</td>\n",
       "      <td>0</td>\n",
       "      <td>1</td>\n",
       "      <td>0</td>\n",
       "      <td>0</td>\n",
       "      <td>0</td>\n",
       "      <td>0</td>\n",
       "    </tr>\n",
       "    <tr>\n",
       "      <th>1</th>\n",
       "      <td>98.0</td>\n",
       "      <td>6.0</td>\n",
       "      <td>4</td>\n",
       "      <td>1.0</td>\n",
       "      <td>1.0</td>\n",
       "      <td>1.0</td>\n",
       "      <td>150.0</td>\n",
       "      <td>43</td>\n",
       "      <td>96.0</td>\n",
       "      <td>1.48</td>\n",
       "      <td>...</td>\n",
       "      <td>0</td>\n",
       "      <td>1</td>\n",
       "      <td>0</td>\n",
       "      <td>0</td>\n",
       "      <td>0</td>\n",
       "      <td>0</td>\n",
       "      <td>1</td>\n",
       "      <td>0</td>\n",
       "      <td>0</td>\n",
       "      <td>0</td>\n",
       "    </tr>\n",
       "  </tbody>\n",
       "</table>\n",
       "<p>5 rows × 131 columns</p>\n",
       "</div>"
      ],
      "text/plain": [
       "   host_response_rate  host_listings_count  accommodates  bathrooms  bedrooms  \\\n",
       "0               100.0                  1.0             6        2.0       3.0   \n",
       "0               100.0                  1.0             6        2.0       3.0   \n",
       "0                96.0                  3.0             4        1.0       1.0   \n",
       "0                96.0                  3.0             4        1.0       1.0   \n",
       "1                98.0                  6.0             4        1.0       1.0   \n",
       "\n",
       "   beds  price  number_of_reviews  review_scores_rating  reviews_per_month  \\\n",
       "0   4.0  295.0                145                  96.0               1.17   \n",
       "0   4.0  295.0                145                  96.0               1.17   \n",
       "0   1.0   85.0                207                  95.0               4.07   \n",
       "0   1.0   85.0                207                  95.0               4.07   \n",
       "1   1.0  150.0                 43                  96.0               1.48   \n",
       "\n",
       "                  ...                   property_type_Yurt  \\\n",
       "0                 ...                                    0   \n",
       "0                 ...                                    0   \n",
       "0                 ...                                    0   \n",
       "0                 ...                                    0   \n",
       "1                 ...                                    0   \n",
       "\n",
       "   room_type_Entire home/apt  room_type_Private room  room_type_Shared room  \\\n",
       "0                          1                       0                      0   \n",
       "0                          1                       0                      0   \n",
       "0                          1                       0                      0   \n",
       "0                          1                       0                      0   \n",
       "1                          1                       0                      0   \n",
       "\n",
       "   cancellation_policy_flexible  cancellation_policy_moderate  \\\n",
       "0                             0                             0   \n",
       "0                             0                             1   \n",
       "0                             0                             0   \n",
       "0                             0                             1   \n",
       "1                             0                             0   \n",
       "\n",
       "   cancellation_policy_strict  \\\n",
       "0                           0   \n",
       "0                           0   \n",
       "0                           0   \n",
       "0                           0   \n",
       "1                           1   \n",
       "\n",
       "   cancellation_policy_strict_14_with_grace_period  \\\n",
       "0                                                1   \n",
       "0                                                0   \n",
       "0                                                1   \n",
       "0                                                0   \n",
       "1                                                0   \n",
       "\n",
       "   cancellation_policy_super_strict_30  cancellation_policy_super_strict_60  \n",
       "0                                    0                                    0  \n",
       "0                                    0                                    0  \n",
       "0                                    0                                    0  \n",
       "0                                    0                                    0  \n",
       "1                                    0                                    0  \n",
       "\n",
       "[5 rows x 131 columns]"
      ]
     },
     "execution_count": 22,
     "metadata": {},
     "output_type": "execute_result"
    }
   ],
   "source": [
    "# drop non-numeric variables from df2 and add the dummies\n",
    "df3=df2.drop(non_num_vars,axis=1)\n",
    "df3 = pd.merge(df3,dummy_vars, left_index=True, right_index=True)\n",
    "df3.head()"
   ]
  },
  {
   "cell_type": "code",
   "execution_count": 28,
   "metadata": {
    "ExecuteTime": {
     "end_time": "2018-09-16T05:01:39.070690Z",
     "start_time": "2018-09-16T05:01:39.063370Z"
    }
   },
   "outputs": [
    {
     "data": {
      "text/plain": [
       "(15190, 131)"
      ]
     },
     "execution_count": 28,
     "metadata": {},
     "output_type": "execute_result"
    }
   ],
   "source": [
    "df3.shape"
   ]
  },
  {
   "cell_type": "code",
   "execution_count": 23,
   "metadata": {
    "ExecuteTime": {
     "end_time": "2018-09-16T05:01:07.223701Z",
     "start_time": "2018-09-16T05:01:07.197999Z"
    }
   },
   "outputs": [
    {
     "data": {
      "text/plain": [
       "(11144, 131)"
      ]
     },
     "execution_count": 23,
     "metadata": {},
     "output_type": "execute_result"
    }
   ],
   "source": [
    "df4 = pd.get_dummies(df2, prefix=non_num_vars, columns=non_num_vars)\n",
    "df4.shape"
   ]
  },
  {
   "cell_type": "code",
   "execution_count": 24,
   "metadata": {
    "ExecuteTime": {
     "end_time": "2018-09-16T05:01:07.255678Z",
     "start_time": "2018-09-16T05:01:07.225962Z"
    }
   },
   "outputs": [
    {
     "name": "stderr",
     "output_type": "stream",
     "text": [
      "/Users/xzhou/anaconda3/lib/python3.6/site-packages/ipykernel_launcher.py:10: UserWarning: Pandas doesn't allow columns to be created via a new attribute name - see https://pandas.pydata.org/pandas-docs/stable/indexing.html#attribute-access\n",
      "  # Remove the CWD from sys.path while we load stuff.\n",
      "/Users/xzhou/anaconda3/lib/python3.6/site-packages/ipykernel_launcher.py:12: UserWarning: Pandas doesn't allow columns to be created via a new attribute name - see https://pandas.pydata.org/pandas-docs/stable/indexing.html#attribute-access\n",
      "  if sys.path[0] == '':\n",
      "/Users/xzhou/anaconda3/lib/python3.6/site-packages/ipykernel_launcher.py:15: FutureWarning: Method .as_matrix will be removed in a future version. Use .values instead.\n",
      "  from ipykernel import kernelapp as app\n",
      "/Users/xzhou/anaconda3/lib/python3.6/site-packages/ipykernel_launcher.py:16: FutureWarning: Method .as_matrix will be removed in a future version. Use .values instead.\n",
      "  app.launch_new_instance()\n"
     ]
    }
   ],
   "source": [
    "# split into test and training data\n",
    "np.random.seed(1)\n",
    "indices = np.random.permutation(len(df4))\n",
    "train_size = int(round(0.8*len(df4)))\n",
    "test_size = len(df4)-train_size\n",
    "\n",
    "y = df4['price']\n",
    "x = df4.drop('price', axis =1)\n",
    "\n",
    "x.train = x.iloc[indices[0:train_size]]\n",
    "y.train = y.iloc[indices[0:train_size]]\n",
    "x.test = x.iloc[indices[train_size+1:]]\n",
    "y.test = y.iloc[indices[train_size+1:]]\n",
    "\n",
    "x2 = x.train.as_matrix()\n",
    "y2 = y.train.as_matrix()"
   ]
  },
  {
   "cell_type": "code",
   "execution_count": 25,
   "metadata": {
    "ExecuteTime": {
     "end_time": "2018-09-16T05:01:07.570782Z",
     "start_time": "2018-09-16T05:01:07.262814Z"
    }
   },
   "outputs": [
    {
     "name": "stdout",
     "output_type": "stream",
     "text": [
      "                            OLS Regression Results                            \n",
      "==============================================================================\n",
      "Dep. Variable:                      y   R-squared:                       0.562\n",
      "Model:                            OLS   Adj. R-squared:                  0.556\n",
      "Method:                 Least Squares   F-statistic:                     91.00\n",
      "Date:                Sat, 15 Sep 2018   Prob (F-statistic):               0.00\n",
      "Time:                        22:01:07   Log-Likelihood:                -56426.\n",
      "No. Observations:                8915   AIC:                         1.131e+05\n",
      "Df Residuals:                    8790   BIC:                         1.140e+05\n",
      "Df Model:                         124                                         \n",
      "Covariance Type:            nonrobust                                         \n",
      "==============================================================================\n",
      "                 coef    std err          t      P>|t|      [0.025      0.975]\n",
      "------------------------------------------------------------------------------\n",
      "x1             0.1335      0.141      0.944      0.345      -0.144       0.410\n",
      "x2             0.0985      0.012      8.065      0.000       0.075       0.122\n",
      "x3            12.0392      1.386      8.686      0.000       9.322      14.756\n",
      "x4            93.9812      3.114     30.183      0.000      87.878     100.085\n",
      "x5            22.5849      2.733      8.265      0.000      17.228      27.941\n",
      "x6             0.7981      1.853      0.431      0.667      -2.834       4.430\n",
      "x7            -0.1608      0.034     -4.702      0.000      -0.228      -0.094\n",
      "x8             0.8897      0.226      3.943      0.000       0.447       1.332\n",
      "x9            -4.5686      0.874     -5.227      0.000      -6.282      -2.855\n",
      "x10            5.3608      3.353      1.599      0.110      -1.213      11.934\n",
      "x11           64.0787    137.092      0.467      0.640    -204.653     332.810\n",
      "x12          -89.5181    135.381     -0.661      0.508    -354.896     175.860\n",
      "x13          163.8519     67.289      2.435      0.015      31.951     295.753\n",
      "x14          119.1942     60.937      1.956      0.050      -0.256     238.644\n",
      "x15          -27.6245     19.223     -1.437      0.151     -65.305      10.056\n",
      "x16          -18.2894     28.255     -0.647      0.517     -73.677      37.098\n",
      "x17          -39.1491     25.406     -1.541      0.123     -88.950      10.652\n",
      "x18            7.3097     60.851      0.120      0.904    -111.973     126.593\n",
      "x19          -61.6467     26.704     -2.309      0.021    -113.992      -9.301\n",
      "x20          -44.8689     60.682     -0.739      0.460    -163.820      74.082\n",
      "x21            9.8130     95.711      0.103      0.918    -177.803     197.429\n",
      "x22          -15.0581    135.652     -0.111      0.912    -280.968     250.852\n",
      "x23           76.5521     21.334      3.588      0.000      34.732     118.372\n",
      "x24          -58.1062     95.668     -0.607      0.544    -245.637     129.425\n",
      "x25         -246.6802     98.360     -2.508      0.012    -439.489     -53.872\n",
      "x26          106.6990      8.965     11.901      0.000      89.125     124.273\n",
      "const      -1.717e-13   3.92e-13     -0.438      0.661    -9.4e-13    5.97e-13\n",
      "x27          -75.8868     95.729     -0.793      0.428    -263.538     111.765\n",
      "x28           44.5522      8.025      5.552      0.000      28.822      60.283\n",
      "x29           18.2034      9.464      1.923      0.054      -0.349      36.756\n",
      "x30           13.0369      9.006      1.448      0.148      -4.617      30.691\n",
      "x31            0.7837      8.962      0.087      0.930     -16.783      18.351\n",
      "x32           81.3230    135.157      0.602      0.547    -183.617     346.263\n",
      "x33          -18.8384     15.701     -1.200      0.230     -49.615      11.939\n",
      "x34           12.1212     14.196      0.854      0.393     -15.706      39.948\n",
      "x35           46.3164      8.957      5.171      0.000      28.759      63.874\n",
      "x36           -0.3645     16.037     -0.023      0.982     -31.800      31.071\n",
      "x37           55.6990      7.292      7.638      0.000      41.405      69.993\n",
      "x38           14.3920     11.505      1.251      0.211      -8.160      36.944\n",
      "x39           -5.8723     13.486     -0.435      0.663     -32.307      20.563\n",
      "x40          -25.1370    135.172     -0.186      0.852    -290.106     239.832\n",
      "x41            4.7647     16.108      0.296      0.767     -26.811      36.340\n",
      "x42          -55.9509     20.476     -2.732      0.006     -96.089     -15.812\n",
      "x43            6.7124     13.776      0.487      0.626     -20.292      33.717\n",
      "x44            5.7043     10.992      0.519      0.604     -15.842      27.250\n",
      "x45           -4.3468     11.589     -0.375      0.708     -27.064      18.370\n",
      "x46          -37.5163     39.475     -0.950      0.342    -114.896      39.864\n",
      "x47          -33.4995     17.840     -1.878      0.060     -68.470       1.471\n",
      "x48          -37.1449     43.212     -0.860      0.390    -121.850      47.560\n",
      "x49          -28.0700     12.924     -2.172      0.030     -53.403      -2.737\n",
      "x50          -38.5524     19.201     -2.008      0.045     -76.192      -0.913\n",
      "x51          -16.3151     37.943     -0.430      0.667     -90.693      58.063\n",
      "x52          -40.2001     16.314     -2.464      0.014     -72.180      -8.220\n",
      "x53          -27.8300     27.164     -1.025      0.306     -81.079      25.419\n",
      "x54          -17.0319     26.240     -0.649      0.516     -68.468      34.404\n",
      "x55          -31.4787     22.220     -1.417      0.157     -75.035      12.078\n",
      "x56           -3.5717     15.615     -0.229      0.819     -34.180      27.037\n",
      "x57          -63.6355     28.874     -2.204      0.028    -120.236      -7.035\n",
      "x58          -24.6491     26.682     -0.924      0.356     -76.952      27.654\n",
      "x59          -41.3010     24.275     -1.701      0.089     -88.885       6.283\n",
      "x60           -6.2348     78.206     -0.080      0.936    -159.538     147.068\n",
      "x61           37.7490     13.833      2.729      0.006      10.633      64.865\n",
      "x62           23.8138     11.753      2.026      0.043       0.776      46.852\n",
      "x63            1.8520     10.685      0.173      0.862     -19.094      22.798\n",
      "x64           59.1874     18.533      3.194      0.001      22.859      95.516\n",
      "x65           -2.1520     13.504     -0.159      0.873     -28.623      24.319\n",
      "x66          -13.1022     22.763     -0.576      0.565     -57.724      31.519\n",
      "x67            8.8680     14.080      0.630      0.529     -18.733      36.469\n",
      "x68          -44.0451     26.001     -1.694      0.090     -95.013       6.923\n",
      "x69           34.0898     14.117      2.415      0.016       6.418      61.762\n",
      "x70            6.3592     14.853      0.428      0.669     -22.757      35.475\n",
      "x71           -5.9953     14.521     -0.413      0.680     -34.460      22.469\n",
      "x72            6.9890     18.027      0.388      0.698     -28.348      42.326\n",
      "x73            0.3804     14.880      0.026      0.980     -28.787      29.548\n",
      "x74          -12.2830     15.554     -0.790      0.430     -42.772      18.206\n",
      "x75           24.4151     16.684      1.463      0.143      -8.289      57.119\n",
      "x76           38.7023     14.297      2.707      0.007      10.678      66.727\n",
      "x77            5.3835     10.677      0.504      0.614     -15.545      26.312\n",
      "x78           -8.1299     22.246     -0.365      0.715     -51.738      35.478\n",
      "x79           -4.1634     27.739     -0.150      0.881     -58.538      50.211\n",
      "x80          -30.6426     29.439     -1.041      0.298     -88.350      27.064\n",
      "x81           50.8010     68.169      0.745      0.456     -82.826     184.428\n",
      "x82           -4.4746     27.203     -0.164      0.869     -57.800      48.851\n",
      "x83          -11.9780     13.698     -0.874      0.382     -38.828      14.872\n",
      "x84          -17.5821     95.667     -0.184      0.854    -205.112     169.948\n",
      "x85          -28.9239     41.199     -0.702      0.483    -109.684      51.837\n",
      "x86          -23.9152     68.066     -0.351      0.725    -157.341     109.511\n",
      "x87           -1.9863     21.534     -0.092      0.927     -44.198      40.226\n",
      "x88           -2.9644    135.189     -0.022      0.983    -267.966     262.037\n",
      "x89          109.7041     94.573      1.160      0.246     -75.681     295.089\n",
      "x90           -4.3191     11.632     -0.371      0.710     -27.121      18.483\n",
      "x91          -20.5832     33.641     -0.612      0.541     -86.528      45.362\n",
      "x92          -22.1289     29.164     -0.759      0.448     -79.298      35.040\n",
      "x93            9.4214     28.657      0.329      0.742     -46.752      65.595\n",
      "x94           38.1070     33.940      1.123      0.262     -28.422     104.636\n",
      "x95           -1.9171     14.408     -0.133      0.894     -30.161      26.326\n",
      "x96           24.1357     29.141      0.828      0.408     -32.988      81.259\n",
      "x97          -14.0219     25.720     -0.545      0.586     -64.438      36.395\n",
      "x98          163.8519     67.289      2.435      0.015      31.951     295.753\n",
      "x99           11.6374     94.515      0.123      0.902    -173.634     196.909\n",
      "x100          -7.0825     94.800     -0.075      0.940    -192.913     178.748\n",
      "x101          -6.3094     12.279     -0.514      0.607     -30.380      17.761\n",
      "x102          -4.1629     15.752     -0.264      0.792     -35.040      26.714\n",
      "x103        -743.8675    135.511     -5.489      0.000   -1009.500    -478.235\n",
      "x104          18.1496    133.812      0.136      0.892    -244.152     280.451\n",
      "x105          -2.6715     14.270     -0.187      0.851     -30.644      25.300\n",
      "x106           4.5218     14.093      0.321      0.748     -23.104      32.148\n",
      "x107        -176.8560     27.093     -6.528      0.000    -229.965    -123.747\n",
      "x108         122.1818     60.549      2.018      0.044       3.491     240.872\n",
      "x109          -1.9235     11.690     -0.165      0.869     -24.839      20.992\n",
      "x110         -20.7090    133.218     -0.155      0.876    -281.847     240.429\n",
      "x111          19.1345     15.533      1.232      0.218     -11.313      49.582\n",
      "x112         -12.5630     21.269     -0.591      0.555     -54.255      29.129\n",
      "x113          79.5220     60.597      1.312      0.189     -39.262     198.306\n",
      "x114           2.8434     26.158      0.109      0.913     -48.433      54.120\n",
      "x115         -43.6604     60.504     -0.722      0.471    -162.263      74.943\n",
      "x116          26.8108     40.052      0.669      0.503     -51.700     105.322\n",
      "x117         -43.1140     12.997     -3.317      0.001     -68.591     -17.637\n",
      "x118          49.0931     94.984      0.517      0.605    -137.098     235.285\n",
      "x119         129.8649     25.259      5.141      0.000      80.352     179.378\n",
      "x120          19.9018    134.075      0.148      0.882    -242.917     282.721\n",
      "x121         -65.1654     17.658     -3.690      0.000     -99.780     -30.551\n",
      "x122         -92.6021     17.575     -5.269      0.000    -127.053     -58.151\n",
      "x123        -139.2412     19.582     -7.111      0.000    -177.627    -100.855\n",
      "x124         -69.4998      9.294     -7.478      0.000     -87.718     -51.281\n",
      "x125         -75.4788      9.248     -8.161      0.000     -93.608     -57.350\n",
      "x126         -84.7251     10.251     -8.265      0.000    -104.819     -64.632\n",
      "x127         -71.5928      9.169     -7.808      0.000     -89.567     -53.619\n",
      "x128         -14.3148     15.228     -0.940      0.347     -44.164      15.535\n",
      "x129          18.6026     12.058      1.543      0.123      -5.034      42.239\n",
      "==============================================================================\n",
      "Omnibus:                    13126.845   Durbin-Watson:                   1.987\n",
      "Prob(Omnibus):                  0.000   Jarque-Bera (JB):         12301892.879\n",
      "Skew:                           8.582   Prob(JB):                         0.00\n",
      "Kurtosis:                     184.172   Cond. No.                     1.43e+16\n",
      "==============================================================================\n",
      "\n",
      "Warnings:\n",
      "[1] Standard Errors assume that the covariance matrix of the errors is correctly specified.\n",
      "[2] The smallest eigenvalue is 9.77e-25. This might indicate that there are\n",
      "strong multicollinearity problems or that the design matrix is singular.\n"
     ]
    }
   ],
   "source": [
    "import statsmodels.api as sm\n",
    "olsmod = sm.OLS(y2,x2)\n",
    "olsres = olsmod.fit()\n",
    "print(olsres.summary())"
   ]
  },
  {
   "cell_type": "code",
   "execution_count": 26,
   "metadata": {
    "ExecuteTime": {
     "end_time": "2018-09-16T05:01:07.592269Z",
     "start_time": "2018-09-16T05:01:07.575573Z"
    }
   },
   "outputs": [],
   "source": [
    "# different method\n",
    "from sklearn import linear_model\n",
    "from sklearn.model_selection import train_test_split\n",
    "X_train, X_test, y_train, y_test = train_test_split(x, y, test_size = 0.25, random_state=1)"
   ]
  },
  {
   "cell_type": "code",
   "execution_count": 27,
   "metadata": {
    "ExecuteTime": {
     "end_time": "2018-09-16T05:01:18.647550Z",
     "start_time": "2018-09-16T05:01:07.595439Z"
    }
   },
   "outputs": [
    {
     "name": "stdout",
     "output_type": "stream",
     "text": [
      "MSE train: 2955.413, test: 17226.882\n",
      "R^2 train: 0.940, test: 0.532\n"
     ]
    }
   ],
   "source": [
    "from sklearn.ensemble import RandomForestRegressor\n",
    "forest = RandomForestRegressor(n_estimators=200, \n",
    "                               criterion='mse', \n",
    "                               random_state=3, \n",
    "                               n_jobs=-1)\n",
    "forest.fit(X_train, y_train)\n",
    "y_train_pred = forest.predict(X_train)\n",
    "y_test_pred = forest.predict(X_test)\n",
    "\n",
    "print('MSE train: %.3f, test: %.3f' % (\n",
    "        mean_squared_error(y_train, y_train_pred),\n",
    "        mean_squared_error(y_test, y_test_pred)))\n",
    "print('R^2 train: %.3f, test: %.3f' % (\n",
    "        r2_score(y_train, y_train_pred),\n",
    "        r2_score(y_test, y_test_pred)))"
   ]
  },
  {
   "cell_type": "code",
   "execution_count": null,
   "metadata": {},
   "outputs": [],
   "source": []
  },
  {
   "cell_type": "code",
   "execution_count": null,
   "metadata": {},
   "outputs": [],
   "source": []
  },
  {
   "cell_type": "code",
   "execution_count": null,
   "metadata": {},
   "outputs": [],
   "source": []
  }
 ],
 "metadata": {
  "kernelspec": {
   "display_name": "Python 3",
   "language": "python",
   "name": "python3"
  },
  "language_info": {
   "codemirror_mode": {
    "name": "ipython",
    "version": 3
   },
   "file_extension": ".py",
   "mimetype": "text/x-python",
   "name": "python",
   "nbconvert_exporter": "python",
   "pygments_lexer": "ipython3",
   "version": "3.6.6"
  },
  "varInspector": {
   "cols": {
    "lenName": 16,
    "lenType": 16,
    "lenVar": 40
   },
   "kernels_config": {
    "python": {
     "delete_cmd_postfix": "",
     "delete_cmd_prefix": "del ",
     "library": "var_list.py",
     "varRefreshCmd": "print(var_dic_list())"
    },
    "r": {
     "delete_cmd_postfix": ") ",
     "delete_cmd_prefix": "rm(",
     "library": "var_list.r",
     "varRefreshCmd": "cat(var_dic_list()) "
    }
   },
   "types_to_exclude": [
    "module",
    "function",
    "builtin_function_or_method",
    "instance",
    "_Feature"
   ],
   "window_display": false
  }
 },
 "nbformat": 4,
 "nbformat_minor": 2
}
