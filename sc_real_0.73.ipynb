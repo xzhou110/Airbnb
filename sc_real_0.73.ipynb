{
 "cells": [
  {
   "cell_type": "code",
   "execution_count": 1,
   "metadata": {
    "ExecuteTime": {
     "end_time": "2018-09-16T04:57:58.568939Z",
     "start_time": "2018-09-16T04:57:56.749502Z"
    }
   },
   "outputs": [],
   "source": [
    "import pandas as pd\n",
    "import csv\n",
    "import statsmodels.api as sm\n",
    "from datetime import datetime\n",
    "import matplotlib.pyplot as plt\n",
    "import numpy as np\n",
    "from sklearn import datasets, linear_model\n",
    "from sklearn.metrics import mean_squared_error, r2_score\n",
    "from sklearn.preprocessing import StandardScaler\n",
    "from sklearn.model_selection import train_test_split"
   ]
  },
  {
   "cell_type": "code",
   "execution_count": 2,
   "metadata": {
    "ExecuteTime": {
     "end_time": "2018-09-16T04:57:58.597710Z",
     "start_time": "2018-09-16T04:57:58.592298Z"
    }
   },
   "outputs": [],
   "source": [
    "file_url = '/Users/xzhou/github/project_archives/files_airbnb/sc_airbnb/{}.csv'\n",
    "\n",
    "listings_file = file_url.format('listings_details')\n",
    "reviews_file = file_url.format('reviews_details')\n",
    "calendar_file = file_url.format('calendar_details')"
   ]
  },
  {
   "cell_type": "code",
   "execution_count": 3,
   "metadata": {
    "ExecuteTime": {
     "end_time": "2018-09-16T04:57:59.374898Z",
     "start_time": "2018-09-16T04:57:58.623956Z"
    }
   },
   "outputs": [],
   "source": [
    "listings = pd.read_csv(listings_file, parse_dates=['last_scraped','host_since', 'first_review', 'last_review'])"
   ]
  },
  {
   "cell_type": "code",
   "execution_count": 4,
   "metadata": {
    "ExecuteTime": {
     "end_time": "2018-09-16T04:57:59.497242Z",
     "start_time": "2018-09-16T04:57:59.487636Z"
    }
   },
   "outputs": [
    {
     "data": {
      "text/plain": [
       "array(['id', 'listing_url', 'scrape_id', 'last_scraped', 'name',\n",
       "       'summary', 'space', 'description', 'experiences_offered',\n",
       "       'neighborhood_overview', 'notes', 'transit', 'access',\n",
       "       'interaction', 'house_rules', 'thumbnail_url', 'medium_url',\n",
       "       'picture_url', 'xl_picture_url', 'host_id', 'host_url',\n",
       "       'host_name', 'host_since', 'host_location', 'host_about',\n",
       "       'host_response_time', 'host_response_rate', 'host_acceptance_rate',\n",
       "       'host_is_superhost', 'host_thumbnail_url', 'host_picture_url',\n",
       "       'host_neighbourhood', 'host_listings_count',\n",
       "       'host_total_listings_count', 'host_verifications',\n",
       "       'host_has_profile_pic', 'host_identity_verified', 'street',\n",
       "       'neighbourhood', 'neighbourhood_cleansed',\n",
       "       'neighbourhood_group_cleansed', 'city', 'state', 'zipcode',\n",
       "       'market', 'smart_location', 'country_code', 'country', 'latitude',\n",
       "       'longitude', 'is_location_exact', 'property_type', 'room_type',\n",
       "       'accommodates', 'bathrooms', 'bedrooms', 'beds', 'bed_type',\n",
       "       'amenities', 'square_feet', 'price', 'weekly_price',\n",
       "       'monthly_price', 'security_deposit', 'cleaning_fee',\n",
       "       'guests_included', 'extra_people', 'minimum_nights',\n",
       "       'maximum_nights', 'calendar_updated', 'has_availability',\n",
       "       'availability_30', 'availability_60', 'availability_90',\n",
       "       'availability_365', 'calendar_last_scraped', 'number_of_reviews',\n",
       "       'first_review', 'last_review', 'review_scores_rating',\n",
       "       'review_scores_accuracy', 'review_scores_cleanliness',\n",
       "       'review_scores_checkin', 'review_scores_communication',\n",
       "       'review_scores_location', 'review_scores_value',\n",
       "       'requires_license', 'license', 'jurisdiction_names',\n",
       "       'instant_bookable', 'is_business_travel_ready',\n",
       "       'cancellation_policy', 'require_guest_profile_picture',\n",
       "       'require_guest_phone_verification',\n",
       "       'calculated_host_listings_count', 'reviews_per_month'],\n",
       "      dtype=object)"
      ]
     },
     "execution_count": 4,
     "metadata": {},
     "output_type": "execute_result"
    }
   ],
   "source": [
    "listings.columns.values"
   ]
  },
  {
   "cell_type": "code",
   "execution_count": 5,
   "metadata": {
    "ExecuteTime": {
     "end_time": "2018-09-16T04:57:59.635120Z",
     "start_time": "2018-09-16T04:57:59.628351Z"
    }
   },
   "outputs": [],
   "source": [
    "df = listings[[\"host_response_rate\", \"host_acceptance_rate\", \"host_is_superhost\",\n",
    "               \"host_listings_count\", \"zipcode\", \"property_type\",\"room_type\", \"accommodates\", \"bathrooms\", \"bedrooms\", \n",
    "               \"beds\", \"price\", \"number_of_reviews\", \"review_scores_rating\", \"cancellation_policy\", \n",
    "               \"reviews_per_month\"]]"
   ]
  },
  {
   "cell_type": "code",
   "execution_count": 6,
   "metadata": {
    "ExecuteTime": {
     "end_time": "2018-09-16T04:57:59.826701Z",
     "start_time": "2018-09-16T04:57:59.800024Z"
    }
   },
   "outputs": [
    {
     "data": {
      "text/html": [
       "<div>\n",
       "<style scoped>\n",
       "    .dataframe tbody tr th:only-of-type {\n",
       "        vertical-align: middle;\n",
       "    }\n",
       "\n",
       "    .dataframe tbody tr th {\n",
       "        vertical-align: top;\n",
       "    }\n",
       "\n",
       "    .dataframe thead th {\n",
       "        text-align: right;\n",
       "    }\n",
       "</style>\n",
       "<table border=\"1\" class=\"dataframe\">\n",
       "  <thead>\n",
       "    <tr style=\"text-align: right;\">\n",
       "      <th></th>\n",
       "      <th>host_response_rate</th>\n",
       "      <th>host_acceptance_rate</th>\n",
       "      <th>host_is_superhost</th>\n",
       "      <th>host_listings_count</th>\n",
       "      <th>zipcode</th>\n",
       "      <th>property_type</th>\n",
       "      <th>room_type</th>\n",
       "      <th>accommodates</th>\n",
       "      <th>bathrooms</th>\n",
       "      <th>bedrooms</th>\n",
       "      <th>beds</th>\n",
       "      <th>price</th>\n",
       "      <th>number_of_reviews</th>\n",
       "      <th>review_scores_rating</th>\n",
       "      <th>cancellation_policy</th>\n",
       "      <th>reviews_per_month</th>\n",
       "    </tr>\n",
       "  </thead>\n",
       "  <tbody>\n",
       "    <tr>\n",
       "      <th>0</th>\n",
       "      <td>100%</td>\n",
       "      <td>NaN</td>\n",
       "      <td>f</td>\n",
       "      <td>15</td>\n",
       "      <td>95051</td>\n",
       "      <td>Apartment</td>\n",
       "      <td>Entire home/apt</td>\n",
       "      <td>1</td>\n",
       "      <td>1.0</td>\n",
       "      <td>NaN</td>\n",
       "      <td>1.0</td>\n",
       "      <td>$85.00</td>\n",
       "      <td>4</td>\n",
       "      <td>85.0</td>\n",
       "      <td>strict_14_with_grace_period</td>\n",
       "      <td>0.08</td>\n",
       "    </tr>\n",
       "    <tr>\n",
       "      <th>1</th>\n",
       "      <td>100%</td>\n",
       "      <td>NaN</td>\n",
       "      <td>f</td>\n",
       "      <td>15</td>\n",
       "      <td>95051</td>\n",
       "      <td>Apartment</td>\n",
       "      <td>Entire home/apt</td>\n",
       "      <td>3</td>\n",
       "      <td>1.0</td>\n",
       "      <td>1.0</td>\n",
       "      <td>1.0</td>\n",
       "      <td>$95.00</td>\n",
       "      <td>10</td>\n",
       "      <td>94.0</td>\n",
       "      <td>strict_14_with_grace_period</td>\n",
       "      <td>0.13</td>\n",
       "    </tr>\n",
       "    <tr>\n",
       "      <th>2</th>\n",
       "      <td>80%</td>\n",
       "      <td>NaN</td>\n",
       "      <td>f</td>\n",
       "      <td>2</td>\n",
       "      <td>94041</td>\n",
       "      <td>House</td>\n",
       "      <td>Private room</td>\n",
       "      <td>2</td>\n",
       "      <td>1.0</td>\n",
       "      <td>1.0</td>\n",
       "      <td>1.0</td>\n",
       "      <td>$80.00</td>\n",
       "      <td>0</td>\n",
       "      <td>NaN</td>\n",
       "      <td>strict_14_with_grace_period</td>\n",
       "      <td>NaN</td>\n",
       "    </tr>\n",
       "    <tr>\n",
       "      <th>3</th>\n",
       "      <td>100%</td>\n",
       "      <td>NaN</td>\n",
       "      <td>t</td>\n",
       "      <td>9</td>\n",
       "      <td>94301</td>\n",
       "      <td>House</td>\n",
       "      <td>Private room</td>\n",
       "      <td>1</td>\n",
       "      <td>2.0</td>\n",
       "      <td>1.0</td>\n",
       "      <td>1.0</td>\n",
       "      <td>$99.00</td>\n",
       "      <td>179</td>\n",
       "      <td>96.0</td>\n",
       "      <td>moderate</td>\n",
       "      <td>1.79</td>\n",
       "    </tr>\n",
       "    <tr>\n",
       "      <th>4</th>\n",
       "      <td>100%</td>\n",
       "      <td>NaN</td>\n",
       "      <td>f</td>\n",
       "      <td>1</td>\n",
       "      <td>94043</td>\n",
       "      <td>House</td>\n",
       "      <td>Private room</td>\n",
       "      <td>2</td>\n",
       "      <td>1.0</td>\n",
       "      <td>1.0</td>\n",
       "      <td>1.0</td>\n",
       "      <td>$299.00</td>\n",
       "      <td>3</td>\n",
       "      <td>100.0</td>\n",
       "      <td>moderate</td>\n",
       "      <td>0.03</td>\n",
       "    </tr>\n",
       "  </tbody>\n",
       "</table>\n",
       "</div>"
      ],
      "text/plain": [
       "  host_response_rate  host_acceptance_rate host_is_superhost  \\\n",
       "0               100%                   NaN                 f   \n",
       "1               100%                   NaN                 f   \n",
       "2                80%                   NaN                 f   \n",
       "3               100%                   NaN                 t   \n",
       "4               100%                   NaN                 f   \n",
       "\n",
       "   host_listings_count zipcode property_type        room_type  accommodates  \\\n",
       "0                   15   95051     Apartment  Entire home/apt             1   \n",
       "1                   15   95051     Apartment  Entire home/apt             3   \n",
       "2                    2   94041         House     Private room             2   \n",
       "3                    9   94301         House     Private room             1   \n",
       "4                    1   94043         House     Private room             2   \n",
       "\n",
       "   bathrooms  bedrooms  beds    price  number_of_reviews  \\\n",
       "0        1.0       NaN   1.0   $85.00                  4   \n",
       "1        1.0       1.0   1.0   $95.00                 10   \n",
       "2        1.0       1.0   1.0   $80.00                  0   \n",
       "3        2.0       1.0   1.0   $99.00                179   \n",
       "4        1.0       1.0   1.0  $299.00                  3   \n",
       "\n",
       "   review_scores_rating          cancellation_policy  reviews_per_month  \n",
       "0                  85.0  strict_14_with_grace_period               0.08  \n",
       "1                  94.0  strict_14_with_grace_period               0.13  \n",
       "2                   NaN  strict_14_with_grace_period                NaN  \n",
       "3                  96.0                     moderate               1.79  \n",
       "4                 100.0                     moderate               0.03  "
      ]
     },
     "execution_count": 6,
     "metadata": {},
     "output_type": "execute_result"
    }
   ],
   "source": [
    "df.head()"
   ]
  },
  {
   "cell_type": "code",
   "execution_count": 7,
   "metadata": {
    "ExecuteTime": {
     "end_time": "2018-09-16T04:58:00.023032Z",
     "start_time": "2018-09-16T04:57:59.994378Z"
    }
   },
   "outputs": [
    {
     "data": {
      "text/plain": [
       "host_response_rate        7.745236\n",
       "host_acceptance_rate    100.000000\n",
       "host_is_superhost         0.000000\n",
       "host_listings_count       0.000000\n",
       "zipcode                   3.087509\n",
       "property_type             0.000000\n",
       "room_type                 0.000000\n",
       "accommodates              0.000000\n",
       "bathrooms                 0.088215\n",
       "bedrooms                  0.035286\n",
       "beds                      0.194072\n",
       "price                     0.000000\n",
       "number_of_reviews         0.000000\n",
       "review_scores_rating     18.966126\n",
       "cancellation_policy       0.000000\n",
       "reviews_per_month        18.207481\n",
       "dtype: float64"
      ]
     },
     "execution_count": 7,
     "metadata": {},
     "output_type": "execute_result"
    }
   ],
   "source": [
    "# % of NaN values\n",
    "(len(df)-df.count())/len(df)*100"
   ]
  },
  {
   "cell_type": "code",
   "execution_count": 8,
   "metadata": {
    "ExecuteTime": {
     "end_time": "2018-09-16T04:58:00.222575Z",
     "start_time": "2018-09-16T04:58:00.210690Z"
    }
   },
   "outputs": [],
   "source": [
    "df = df.drop(['host_acceptance_rate'], axis=1)"
   ]
  },
  {
   "cell_type": "code",
   "execution_count": 9,
   "metadata": {
    "ExecuteTime": {
     "end_time": "2018-09-16T04:58:00.571307Z",
     "start_time": "2018-09-16T04:58:00.544590Z"
    }
   },
   "outputs": [],
   "source": [
    "# drop NaN rows\n",
    "df2=df.dropna(axis=0)"
   ]
  },
  {
   "cell_type": "code",
   "execution_count": 10,
   "metadata": {
    "ExecuteTime": {
     "end_time": "2018-09-16T04:58:01.055519Z",
     "start_time": "2018-09-16T04:58:01.031218Z"
    }
   },
   "outputs": [
    {
     "data": {
      "text/plain": [
       "23.341566690190543"
      ]
     },
     "execution_count": 10,
     "metadata": {},
     "output_type": "execute_result"
    }
   ],
   "source": [
    "# % of rows droppped\n",
    "(len(df)-len(df2))/len(df)*100"
   ]
  },
  {
   "cell_type": "code",
   "execution_count": 11,
   "metadata": {
    "ExecuteTime": {
     "end_time": "2018-09-16T04:58:01.327727Z",
     "start_time": "2018-09-16T04:58:01.321116Z"
    }
   },
   "outputs": [
    {
     "data": {
      "text/plain": [
       "(4345, 15)"
      ]
     },
     "execution_count": 11,
     "metadata": {},
     "output_type": "execute_result"
    }
   ],
   "source": [
    "df2.shape"
   ]
  },
  {
   "cell_type": "code",
   "execution_count": 12,
   "metadata": {
    "ExecuteTime": {
     "end_time": "2018-09-16T04:58:01.591344Z",
     "start_time": "2018-09-16T04:58:01.579705Z"
    }
   },
   "outputs": [],
   "source": [
    "pd.options.mode.chained_assignment = None  # default='warn'\n",
    "\n",
    "df2['host_response_rate'] = df2['host_response_rate'].astype(str)\n",
    "df2['price'] = df2['price'].astype(str)"
   ]
  },
  {
   "cell_type": "code",
   "execution_count": 13,
   "metadata": {
    "ExecuteTime": {
     "end_time": "2018-09-16T04:58:01.914166Z",
     "start_time": "2018-09-16T04:58:01.880993Z"
    }
   },
   "outputs": [],
   "source": [
    "# clean data\n",
    "pd.options.mode.chained_assignment = None  # default='warn'\n",
    "\n",
    "df2['price'] = df2['price'].str.replace(\"[$, ]\", \"\").astype(\"float\")\n",
    "df2['host_response_rate'] = df2['host_response_rate'].str.replace(\"%\", \"\").astype(\"float\")"
   ]
  },
  {
   "cell_type": "code",
   "execution_count": 14,
   "metadata": {
    "ExecuteTime": {
     "end_time": "2018-09-16T04:58:02.425772Z",
     "start_time": "2018-09-16T04:58:02.412278Z"
    }
   },
   "outputs": [],
   "source": [
    "df2['superhost']=np.where(df2['host_is_superhost']=='t',1,0)\n",
    "del df2['host_is_superhost']"
   ]
  },
  {
   "cell_type": "code",
   "execution_count": 15,
   "metadata": {
    "ExecuteTime": {
     "end_time": "2018-09-16T04:58:02.780448Z",
     "start_time": "2018-09-16T04:58:02.755629Z"
    }
   },
   "outputs": [
    {
     "data": {
      "text/html": [
       "<div>\n",
       "<style scoped>\n",
       "    .dataframe tbody tr th:only-of-type {\n",
       "        vertical-align: middle;\n",
       "    }\n",
       "\n",
       "    .dataframe tbody tr th {\n",
       "        vertical-align: top;\n",
       "    }\n",
       "\n",
       "    .dataframe thead th {\n",
       "        text-align: right;\n",
       "    }\n",
       "</style>\n",
       "<table border=\"1\" class=\"dataframe\">\n",
       "  <thead>\n",
       "    <tr style=\"text-align: right;\">\n",
       "      <th></th>\n",
       "      <th>zipcode</th>\n",
       "      <th>property_type</th>\n",
       "      <th>room_type</th>\n",
       "      <th>cancellation_policy</th>\n",
       "    </tr>\n",
       "  </thead>\n",
       "  <tbody>\n",
       "    <tr>\n",
       "      <th>1</th>\n",
       "      <td>95051</td>\n",
       "      <td>Apartment</td>\n",
       "      <td>Entire home/apt</td>\n",
       "      <td>strict_14_with_grace_period</td>\n",
       "    </tr>\n",
       "    <tr>\n",
       "      <th>3</th>\n",
       "      <td>94301</td>\n",
       "      <td>House</td>\n",
       "      <td>Private room</td>\n",
       "      <td>moderate</td>\n",
       "    </tr>\n",
       "    <tr>\n",
       "      <th>4</th>\n",
       "      <td>94043</td>\n",
       "      <td>House</td>\n",
       "      <td>Private room</td>\n",
       "      <td>moderate</td>\n",
       "    </tr>\n",
       "    <tr>\n",
       "      <th>5</th>\n",
       "      <td>94041</td>\n",
       "      <td>House</td>\n",
       "      <td>Private room</td>\n",
       "      <td>flexible</td>\n",
       "    </tr>\n",
       "    <tr>\n",
       "      <th>6</th>\n",
       "      <td>95117</td>\n",
       "      <td>Townhouse</td>\n",
       "      <td>Private room</td>\n",
       "      <td>flexible</td>\n",
       "    </tr>\n",
       "  </tbody>\n",
       "</table>\n",
       "</div>"
      ],
      "text/plain": [
       "  zipcode property_type        room_type          cancellation_policy\n",
       "1   95051     Apartment  Entire home/apt  strict_14_with_grace_period\n",
       "3   94301         House     Private room                     moderate\n",
       "4   94043         House     Private room                     moderate\n",
       "5   94041         House     Private room                     flexible\n",
       "6   95117     Townhouse     Private room                     flexible"
      ]
     },
     "execution_count": 15,
     "metadata": {},
     "output_type": "execute_result"
    }
   ],
   "source": [
    "# select non-numeric variables and create dummies\n",
    "non_num_vars = df2.select_dtypes(include=['object']).columns\n",
    "df2[non_num_vars].head()"
   ]
  },
  {
   "cell_type": "code",
   "execution_count": 16,
   "metadata": {
    "ExecuteTime": {
     "end_time": "2018-09-16T04:58:03.054319Z",
     "start_time": "2018-09-16T04:58:03.031584Z"
    }
   },
   "outputs": [],
   "source": [
    "dummy_vars = pd.get_dummies(df2[non_num_vars])"
   ]
  },
  {
   "cell_type": "code",
   "execution_count": 17,
   "metadata": {
    "ExecuteTime": {
     "end_time": "2018-09-16T04:58:03.360346Z",
     "start_time": "2018-09-16T04:58:03.332102Z"
    }
   },
   "outputs": [
    {
     "data": {
      "text/html": [
       "<div>\n",
       "<style scoped>\n",
       "    .dataframe tbody tr th:only-of-type {\n",
       "        vertical-align: middle;\n",
       "    }\n",
       "\n",
       "    .dataframe tbody tr th {\n",
       "        vertical-align: top;\n",
       "    }\n",
       "\n",
       "    .dataframe thead th {\n",
       "        text-align: right;\n",
       "    }\n",
       "</style>\n",
       "<table border=\"1\" class=\"dataframe\">\n",
       "  <thead>\n",
       "    <tr style=\"text-align: right;\">\n",
       "      <th></th>\n",
       "      <th>zipcode_94022</th>\n",
       "      <th>zipcode_94024</th>\n",
       "      <th>zipcode_94025</th>\n",
       "      <th>zipcode_94028</th>\n",
       "      <th>zipcode_94030</th>\n",
       "      <th>zipcode_94040</th>\n",
       "      <th>zipcode_94041</th>\n",
       "      <th>zipcode_94043</th>\n",
       "      <th>zipcode_94085</th>\n",
       "      <th>zipcode_94086</th>\n",
       "      <th>...</th>\n",
       "      <th>property_type_Yurt</th>\n",
       "      <th>room_type_Entire home/apt</th>\n",
       "      <th>room_type_Private room</th>\n",
       "      <th>room_type_Shared room</th>\n",
       "      <th>cancellation_policy_flexible</th>\n",
       "      <th>cancellation_policy_moderate</th>\n",
       "      <th>cancellation_policy_strict</th>\n",
       "      <th>cancellation_policy_strict_14_with_grace_period</th>\n",
       "      <th>cancellation_policy_super_strict_30</th>\n",
       "      <th>cancellation_policy_super_strict_60</th>\n",
       "    </tr>\n",
       "  </thead>\n",
       "  <tbody>\n",
       "    <tr>\n",
       "      <th>1</th>\n",
       "      <td>0</td>\n",
       "      <td>0</td>\n",
       "      <td>0</td>\n",
       "      <td>0</td>\n",
       "      <td>0</td>\n",
       "      <td>0</td>\n",
       "      <td>0</td>\n",
       "      <td>0</td>\n",
       "      <td>0</td>\n",
       "      <td>0</td>\n",
       "      <td>...</td>\n",
       "      <td>0</td>\n",
       "      <td>1</td>\n",
       "      <td>0</td>\n",
       "      <td>0</td>\n",
       "      <td>0</td>\n",
       "      <td>0</td>\n",
       "      <td>0</td>\n",
       "      <td>1</td>\n",
       "      <td>0</td>\n",
       "      <td>0</td>\n",
       "    </tr>\n",
       "    <tr>\n",
       "      <th>3</th>\n",
       "      <td>0</td>\n",
       "      <td>0</td>\n",
       "      <td>0</td>\n",
       "      <td>0</td>\n",
       "      <td>0</td>\n",
       "      <td>0</td>\n",
       "      <td>0</td>\n",
       "      <td>0</td>\n",
       "      <td>0</td>\n",
       "      <td>0</td>\n",
       "      <td>...</td>\n",
       "      <td>0</td>\n",
       "      <td>0</td>\n",
       "      <td>1</td>\n",
       "      <td>0</td>\n",
       "      <td>0</td>\n",
       "      <td>1</td>\n",
       "      <td>0</td>\n",
       "      <td>0</td>\n",
       "      <td>0</td>\n",
       "      <td>0</td>\n",
       "    </tr>\n",
       "    <tr>\n",
       "      <th>4</th>\n",
       "      <td>0</td>\n",
       "      <td>0</td>\n",
       "      <td>0</td>\n",
       "      <td>0</td>\n",
       "      <td>0</td>\n",
       "      <td>0</td>\n",
       "      <td>0</td>\n",
       "      <td>1</td>\n",
       "      <td>0</td>\n",
       "      <td>0</td>\n",
       "      <td>...</td>\n",
       "      <td>0</td>\n",
       "      <td>0</td>\n",
       "      <td>1</td>\n",
       "      <td>0</td>\n",
       "      <td>0</td>\n",
       "      <td>1</td>\n",
       "      <td>0</td>\n",
       "      <td>0</td>\n",
       "      <td>0</td>\n",
       "      <td>0</td>\n",
       "    </tr>\n",
       "    <tr>\n",
       "      <th>5</th>\n",
       "      <td>0</td>\n",
       "      <td>0</td>\n",
       "      <td>0</td>\n",
       "      <td>0</td>\n",
       "      <td>0</td>\n",
       "      <td>0</td>\n",
       "      <td>1</td>\n",
       "      <td>0</td>\n",
       "      <td>0</td>\n",
       "      <td>0</td>\n",
       "      <td>...</td>\n",
       "      <td>0</td>\n",
       "      <td>0</td>\n",
       "      <td>1</td>\n",
       "      <td>0</td>\n",
       "      <td>1</td>\n",
       "      <td>0</td>\n",
       "      <td>0</td>\n",
       "      <td>0</td>\n",
       "      <td>0</td>\n",
       "      <td>0</td>\n",
       "    </tr>\n",
       "    <tr>\n",
       "      <th>6</th>\n",
       "      <td>0</td>\n",
       "      <td>0</td>\n",
       "      <td>0</td>\n",
       "      <td>0</td>\n",
       "      <td>0</td>\n",
       "      <td>0</td>\n",
       "      <td>0</td>\n",
       "      <td>0</td>\n",
       "      <td>0</td>\n",
       "      <td>0</td>\n",
       "      <td>...</td>\n",
       "      <td>0</td>\n",
       "      <td>0</td>\n",
       "      <td>1</td>\n",
       "      <td>0</td>\n",
       "      <td>1</td>\n",
       "      <td>0</td>\n",
       "      <td>0</td>\n",
       "      <td>0</td>\n",
       "      <td>0</td>\n",
       "      <td>0</td>\n",
       "    </tr>\n",
       "  </tbody>\n",
       "</table>\n",
       "<p>5 rows × 103 columns</p>\n",
       "</div>"
      ],
      "text/plain": [
       "   zipcode_94022  zipcode_94024  zipcode_94025  zipcode_94028  zipcode_94030  \\\n",
       "1              0              0              0              0              0   \n",
       "3              0              0              0              0              0   \n",
       "4              0              0              0              0              0   \n",
       "5              0              0              0              0              0   \n",
       "6              0              0              0              0              0   \n",
       "\n",
       "   zipcode_94040  zipcode_94041  zipcode_94043  zipcode_94085  zipcode_94086  \\\n",
       "1              0              0              0              0              0   \n",
       "3              0              0              0              0              0   \n",
       "4              0              0              1              0              0   \n",
       "5              0              1              0              0              0   \n",
       "6              0              0              0              0              0   \n",
       "\n",
       "                  ...                   property_type_Yurt  \\\n",
       "1                 ...                                    0   \n",
       "3                 ...                                    0   \n",
       "4                 ...                                    0   \n",
       "5                 ...                                    0   \n",
       "6                 ...                                    0   \n",
       "\n",
       "   room_type_Entire home/apt  room_type_Private room  room_type_Shared room  \\\n",
       "1                          1                       0                      0   \n",
       "3                          0                       1                      0   \n",
       "4                          0                       1                      0   \n",
       "5                          0                       1                      0   \n",
       "6                          0                       1                      0   \n",
       "\n",
       "   cancellation_policy_flexible  cancellation_policy_moderate  \\\n",
       "1                             0                             0   \n",
       "3                             0                             1   \n",
       "4                             0                             1   \n",
       "5                             1                             0   \n",
       "6                             1                             0   \n",
       "\n",
       "   cancellation_policy_strict  \\\n",
       "1                           0   \n",
       "3                           0   \n",
       "4                           0   \n",
       "5                           0   \n",
       "6                           0   \n",
       "\n",
       "   cancellation_policy_strict_14_with_grace_period  \\\n",
       "1                                                1   \n",
       "3                                                0   \n",
       "4                                                0   \n",
       "5                                                0   \n",
       "6                                                0   \n",
       "\n",
       "   cancellation_policy_super_strict_30  cancellation_policy_super_strict_60  \n",
       "1                                    0                                    0  \n",
       "3                                    0                                    0  \n",
       "4                                    0                                    0  \n",
       "5                                    0                                    0  \n",
       "6                                    0                                    0  \n",
       "\n",
       "[5 rows x 103 columns]"
      ]
     },
     "execution_count": 17,
     "metadata": {},
     "output_type": "execute_result"
    }
   ],
   "source": [
    "dummy_vars.head()"
   ]
  },
  {
   "cell_type": "code",
   "execution_count": 18,
   "metadata": {
    "ExecuteTime": {
     "end_time": "2018-09-16T04:58:07.249938Z",
     "start_time": "2018-09-16T04:58:07.217321Z"
    }
   },
   "outputs": [
    {
     "data": {
      "text/html": [
       "<div>\n",
       "<style scoped>\n",
       "    .dataframe tbody tr th:only-of-type {\n",
       "        vertical-align: middle;\n",
       "    }\n",
       "\n",
       "    .dataframe tbody tr th {\n",
       "        vertical-align: top;\n",
       "    }\n",
       "\n",
       "    .dataframe thead th {\n",
       "        text-align: right;\n",
       "    }\n",
       "</style>\n",
       "<table border=\"1\" class=\"dataframe\">\n",
       "  <thead>\n",
       "    <tr style=\"text-align: right;\">\n",
       "      <th></th>\n",
       "      <th>host_response_rate</th>\n",
       "      <th>host_listings_count</th>\n",
       "      <th>accommodates</th>\n",
       "      <th>bathrooms</th>\n",
       "      <th>bedrooms</th>\n",
       "      <th>beds</th>\n",
       "      <th>price</th>\n",
       "      <th>number_of_reviews</th>\n",
       "      <th>review_scores_rating</th>\n",
       "      <th>reviews_per_month</th>\n",
       "      <th>...</th>\n",
       "      <th>property_type_Yurt</th>\n",
       "      <th>room_type_Entire home/apt</th>\n",
       "      <th>room_type_Private room</th>\n",
       "      <th>room_type_Shared room</th>\n",
       "      <th>cancellation_policy_flexible</th>\n",
       "      <th>cancellation_policy_moderate</th>\n",
       "      <th>cancellation_policy_strict</th>\n",
       "      <th>cancellation_policy_strict_14_with_grace_period</th>\n",
       "      <th>cancellation_policy_super_strict_30</th>\n",
       "      <th>cancellation_policy_super_strict_60</th>\n",
       "    </tr>\n",
       "  </thead>\n",
       "  <tbody>\n",
       "    <tr>\n",
       "      <th>1</th>\n",
       "      <td>100.0</td>\n",
       "      <td>15</td>\n",
       "      <td>3</td>\n",
       "      <td>1.0</td>\n",
       "      <td>1.0</td>\n",
       "      <td>1.0</td>\n",
       "      <td>95.0</td>\n",
       "      <td>10</td>\n",
       "      <td>94.0</td>\n",
       "      <td>0.13</td>\n",
       "      <td>...</td>\n",
       "      <td>0</td>\n",
       "      <td>1</td>\n",
       "      <td>0</td>\n",
       "      <td>0</td>\n",
       "      <td>0</td>\n",
       "      <td>0</td>\n",
       "      <td>0</td>\n",
       "      <td>1</td>\n",
       "      <td>0</td>\n",
       "      <td>0</td>\n",
       "    </tr>\n",
       "    <tr>\n",
       "      <th>3</th>\n",
       "      <td>100.0</td>\n",
       "      <td>9</td>\n",
       "      <td>1</td>\n",
       "      <td>2.0</td>\n",
       "      <td>1.0</td>\n",
       "      <td>1.0</td>\n",
       "      <td>99.0</td>\n",
       "      <td>179</td>\n",
       "      <td>96.0</td>\n",
       "      <td>1.79</td>\n",
       "      <td>...</td>\n",
       "      <td>0</td>\n",
       "      <td>0</td>\n",
       "      <td>1</td>\n",
       "      <td>0</td>\n",
       "      <td>0</td>\n",
       "      <td>1</td>\n",
       "      <td>0</td>\n",
       "      <td>0</td>\n",
       "      <td>0</td>\n",
       "      <td>0</td>\n",
       "    </tr>\n",
       "    <tr>\n",
       "      <th>4</th>\n",
       "      <td>100.0</td>\n",
       "      <td>1</td>\n",
       "      <td>2</td>\n",
       "      <td>1.0</td>\n",
       "      <td>1.0</td>\n",
       "      <td>1.0</td>\n",
       "      <td>299.0</td>\n",
       "      <td>3</td>\n",
       "      <td>100.0</td>\n",
       "      <td>0.03</td>\n",
       "      <td>...</td>\n",
       "      <td>0</td>\n",
       "      <td>0</td>\n",
       "      <td>1</td>\n",
       "      <td>0</td>\n",
       "      <td>0</td>\n",
       "      <td>1</td>\n",
       "      <td>0</td>\n",
       "      <td>0</td>\n",
       "      <td>0</td>\n",
       "      <td>0</td>\n",
       "    </tr>\n",
       "    <tr>\n",
       "      <th>5</th>\n",
       "      <td>100.0</td>\n",
       "      <td>1</td>\n",
       "      <td>2</td>\n",
       "      <td>1.0</td>\n",
       "      <td>1.0</td>\n",
       "      <td>1.0</td>\n",
       "      <td>99.0</td>\n",
       "      <td>61</td>\n",
       "      <td>91.0</td>\n",
       "      <td>1.00</td>\n",
       "      <td>...</td>\n",
       "      <td>0</td>\n",
       "      <td>0</td>\n",
       "      <td>1</td>\n",
       "      <td>0</td>\n",
       "      <td>1</td>\n",
       "      <td>0</td>\n",
       "      <td>0</td>\n",
       "      <td>0</td>\n",
       "      <td>0</td>\n",
       "      <td>0</td>\n",
       "    </tr>\n",
       "    <tr>\n",
       "      <th>6</th>\n",
       "      <td>100.0</td>\n",
       "      <td>1</td>\n",
       "      <td>3</td>\n",
       "      <td>1.0</td>\n",
       "      <td>0.0</td>\n",
       "      <td>2.0</td>\n",
       "      <td>61.0</td>\n",
       "      <td>6</td>\n",
       "      <td>93.0</td>\n",
       "      <td>3.60</td>\n",
       "      <td>...</td>\n",
       "      <td>0</td>\n",
       "      <td>0</td>\n",
       "      <td>1</td>\n",
       "      <td>0</td>\n",
       "      <td>1</td>\n",
       "      <td>0</td>\n",
       "      <td>0</td>\n",
       "      <td>0</td>\n",
       "      <td>0</td>\n",
       "      <td>0</td>\n",
       "    </tr>\n",
       "  </tbody>\n",
       "</table>\n",
       "<p>5 rows × 114 columns</p>\n",
       "</div>"
      ],
      "text/plain": [
       "   host_response_rate  host_listings_count  accommodates  bathrooms  bedrooms  \\\n",
       "1               100.0                   15             3        1.0       1.0   \n",
       "3               100.0                    9             1        2.0       1.0   \n",
       "4               100.0                    1             2        1.0       1.0   \n",
       "5               100.0                    1             2        1.0       1.0   \n",
       "6               100.0                    1             3        1.0       0.0   \n",
       "\n",
       "   beds  price  number_of_reviews  review_scores_rating  reviews_per_month  \\\n",
       "1   1.0   95.0                 10                  94.0               0.13   \n",
       "3   1.0   99.0                179                  96.0               1.79   \n",
       "4   1.0  299.0                  3                 100.0               0.03   \n",
       "5   1.0   99.0                 61                  91.0               1.00   \n",
       "6   2.0   61.0                  6                  93.0               3.60   \n",
       "\n",
       "                  ...                   property_type_Yurt  \\\n",
       "1                 ...                                    0   \n",
       "3                 ...                                    0   \n",
       "4                 ...                                    0   \n",
       "5                 ...                                    0   \n",
       "6                 ...                                    0   \n",
       "\n",
       "   room_type_Entire home/apt  room_type_Private room  room_type_Shared room  \\\n",
       "1                          1                       0                      0   \n",
       "3                          0                       1                      0   \n",
       "4                          0                       1                      0   \n",
       "5                          0                       1                      0   \n",
       "6                          0                       1                      0   \n",
       "\n",
       "   cancellation_policy_flexible  cancellation_policy_moderate  \\\n",
       "1                             0                             0   \n",
       "3                             0                             1   \n",
       "4                             0                             1   \n",
       "5                             1                             0   \n",
       "6                             1                             0   \n",
       "\n",
       "   cancellation_policy_strict  \\\n",
       "1                           0   \n",
       "3                           0   \n",
       "4                           0   \n",
       "5                           0   \n",
       "6                           0   \n",
       "\n",
       "   cancellation_policy_strict_14_with_grace_period  \\\n",
       "1                                                1   \n",
       "3                                                0   \n",
       "4                                                0   \n",
       "5                                                0   \n",
       "6                                                0   \n",
       "\n",
       "   cancellation_policy_super_strict_30  cancellation_policy_super_strict_60  \n",
       "1                                    0                                    0  \n",
       "3                                    0                                    0  \n",
       "4                                    0                                    0  \n",
       "5                                    0                                    0  \n",
       "6                                    0                                    0  \n",
       "\n",
       "[5 rows x 114 columns]"
      ]
     },
     "execution_count": 18,
     "metadata": {},
     "output_type": "execute_result"
    }
   ],
   "source": [
    "# drop non-numeric variables from df2 and add the dummies\n",
    "df3=df2.drop(non_num_vars,axis=1)\n",
    "df3 = pd.merge(df3,dummy_vars, left_index=True, right_index=True)\n",
    "df3.head()"
   ]
  },
  {
   "cell_type": "code",
   "execution_count": 19,
   "metadata": {
    "ExecuteTime": {
     "end_time": "2018-09-16T04:58:26.018835Z",
     "start_time": "2018-09-16T04:58:26.001283Z"
    }
   },
   "outputs": [
    {
     "data": {
      "text/plain": [
       "(4345, 114)"
      ]
     },
     "execution_count": 19,
     "metadata": {},
     "output_type": "execute_result"
    }
   ],
   "source": [
    "df4 = pd.get_dummies(df2, prefix=non_num_vars, columns=non_num_vars)\n",
    "df4.shape"
   ]
  },
  {
   "cell_type": "code",
   "execution_count": 20,
   "metadata": {
    "ExecuteTime": {
     "end_time": "2018-09-16T04:58:50.000418Z",
     "start_time": "2018-09-16T04:58:49.983329Z"
    }
   },
   "outputs": [
    {
     "name": "stderr",
     "output_type": "stream",
     "text": [
      "/Users/xzhou/anaconda3/lib/python3.6/site-packages/ipykernel_launcher.py:10: UserWarning: Pandas doesn't allow columns to be created via a new attribute name - see https://pandas.pydata.org/pandas-docs/stable/indexing.html#attribute-access\n",
      "  # Remove the CWD from sys.path while we load stuff.\n",
      "/Users/xzhou/anaconda3/lib/python3.6/site-packages/ipykernel_launcher.py:12: UserWarning: Pandas doesn't allow columns to be created via a new attribute name - see https://pandas.pydata.org/pandas-docs/stable/indexing.html#attribute-access\n",
      "  if sys.path[0] == '':\n",
      "/Users/xzhou/anaconda3/lib/python3.6/site-packages/ipykernel_launcher.py:15: FutureWarning: Method .as_matrix will be removed in a future version. Use .values instead.\n",
      "  from ipykernel import kernelapp as app\n",
      "/Users/xzhou/anaconda3/lib/python3.6/site-packages/ipykernel_launcher.py:16: FutureWarning: Method .as_matrix will be removed in a future version. Use .values instead.\n",
      "  app.launch_new_instance()\n"
     ]
    }
   ],
   "source": [
    "# split into test and training data\n",
    "np.random.seed(1)\n",
    "indices = np.random.permutation(len(df4))\n",
    "train_size = int(round(0.8*len(df4)))\n",
    "test_size = len(df4)-train_size\n",
    "\n",
    "y = df4['price']\n",
    "x = df4.drop('price', axis =1)\n",
    "\n",
    "x.train = x.iloc[indices[0:train_size]]\n",
    "y.train = y.iloc[indices[0:train_size]]\n",
    "x.test = x.iloc[indices[train_size+1:]]\n",
    "y.test = y.iloc[indices[train_size+1:]]\n",
    "\n",
    "x2 = x.train.as_matrix()\n",
    "y2 = y.train.as_matrix()"
   ]
  },
  {
   "cell_type": "code",
   "execution_count": 21,
   "metadata": {
    "ExecuteTime": {
     "end_time": "2018-09-16T04:58:50.639320Z",
     "start_time": "2018-09-16T04:58:50.497403Z"
    }
   },
   "outputs": [
    {
     "name": "stdout",
     "output_type": "stream",
     "text": [
      "                            OLS Regression Results                            \n",
      "==============================================================================\n",
      "Dep. Variable:                      y   R-squared:                       0.492\n",
      "Model:                            OLS   Adj. R-squared:                  0.477\n",
      "Method:                 Least Squares   F-statistic:                     31.43\n",
      "Date:                Sat, 15 Sep 2018   Prob (F-statistic):               0.00\n",
      "Time:                        21:58:50   Log-Likelihood:                -21749.\n",
      "No. Observations:                3476   AIC:                         4.371e+04\n",
      "Df Residuals:                    3371   BIC:                         4.435e+04\n",
      "Df Model:                         104                                         \n",
      "Covariance Type:            nonrobust                                         \n",
      "==============================================================================\n",
      "                 coef    std err          t      P>|t|      [0.025      0.975]\n",
      "------------------------------------------------------------------------------\n",
      "x1             0.1699      0.247      0.688      0.491      -0.314       0.654\n",
      "x2             0.0528      0.037      1.408      0.159      -0.021       0.126\n",
      "x3            23.5027      2.087     11.261      0.000      19.411      27.595\n",
      "x4            47.0283      4.430     10.617      0.000      38.343      55.713\n",
      "x5            22.9092      4.388      5.221      0.000      14.305      31.513\n",
      "x6            -0.5379      2.884     -0.187      0.852      -6.192       5.116\n",
      "x7            -0.0472      0.067     -0.705      0.481      -0.178       0.084\n",
      "x8             0.7829      0.322      2.431      0.015       0.151       1.414\n",
      "x9            -6.1554      1.448     -4.250      0.000      -8.995      -3.315\n",
      "x10           -2.5256      5.065     -0.499      0.618     -12.457       7.406\n",
      "x11           65.1085     16.763      3.884      0.000      32.242      97.975\n",
      "x12           76.3416     20.558      3.713      0.000      36.034     116.649\n",
      "x13           31.1428     48.464      0.643      0.521     -63.880     126.165\n",
      "x14           18.6791    126.561      0.148      0.883    -229.465     266.823\n",
      "const       1.304e-11   1.95e-11      0.667      0.505   -2.53e-11    5.13e-11\n",
      "x15           -5.7346     12.534     -0.458      0.647     -30.310      18.841\n",
      "x16           14.7562     12.407      1.189      0.234      -9.571      39.083\n",
      "x17            6.8590     11.307      0.607      0.544     -15.310      29.028\n",
      "x18          -46.2492     15.478     -2.988      0.003     -76.597     -15.901\n",
      "x19           -4.3156     13.595     -0.317      0.751     -30.971      22.340\n",
      "x20           20.3669     15.759      1.292      0.196     -10.531      51.265\n",
      "x21          -17.9275     18.289     -0.980      0.327     -53.785      17.930\n",
      "x22           57.9995     11.555      5.019      0.000      35.343      80.656\n",
      "x23           21.5124     14.942      1.440      0.150      -7.784      50.809\n",
      "x24           41.2602     73.283      0.563      0.573    -102.424     184.944\n",
      "x25           86.3496     89.623      0.963      0.335     -89.372     262.071\n",
      "x26           28.8394     11.118      2.594      0.010       7.040      50.639\n",
      "x27          -17.7281    126.452     -0.140      0.889    -265.658     230.202\n",
      "x28          -16.6514     38.705     -0.430      0.667     -92.539      59.236\n",
      "x29          -26.4300     17.506     -1.510      0.131     -60.754       7.894\n",
      "x30          -16.0644     11.630     -1.381      0.167     -38.866       6.738\n",
      "x31          -94.7320     33.514     -2.827      0.005    -160.441     -29.022\n",
      "x32         -159.8424     91.991     -1.738      0.082    -340.205      20.521\n",
      "x33          -36.8906    126.448     -0.292      0.770    -284.813     211.031\n",
      "x34           55.3807     25.602      2.163      0.031       5.183     105.579\n",
      "x35           -5.5146     22.850     -0.241      0.809     -50.317      39.287\n",
      "x36           44.8874    126.466      0.355      0.723    -203.070     292.845\n",
      "x37           56.3341     30.744      1.832      0.067      -3.946     116.614\n",
      "x38          -27.5832     13.709     -2.012      0.044     -54.462      -0.704\n",
      "x39           13.2663     21.301      0.623      0.533     -28.497      55.030\n",
      "x40          -36.0527     53.025     -0.680      0.497    -140.018      67.913\n",
      "x41            5.8493     16.311      0.359      0.720     -26.131      37.830\n",
      "x42          -28.3523     13.113     -2.162      0.031     -54.062      -2.643\n",
      "x43           -0.7253     13.647     -0.053      0.958     -27.483      26.032\n",
      "x44          -15.5226     23.282     -0.667      0.505     -61.170      30.125\n",
      "x45          -28.5292     19.803     -1.441      0.150     -67.357      10.298\n",
      "x46          -32.7359     37.029     -0.884      0.377    -105.337      39.865\n",
      "x47          -13.3039     11.312     -1.176      0.240     -35.482       8.874\n",
      "x48           54.4930     40.952      1.331      0.183     -25.799     134.785\n",
      "x49          -45.0604     22.062     -2.042      0.041     -88.318      -1.803\n",
      "x50          -12.1666     18.961     -0.642      0.521     -49.342      25.009\n",
      "x51          -35.9409     32.225     -1.115      0.265     -99.123      27.241\n",
      "x52          -19.5347     51.975     -0.376      0.707    -121.441      82.372\n",
      "x53           -8.0220     26.138     -0.307      0.759     -59.269      43.225\n",
      "x54           64.2412     26.148      2.457      0.014      12.974     115.509\n",
      "x55          -67.1134     24.970     -2.688      0.007    -116.071     -18.155\n",
      "x56          -67.9573     20.253     -3.355      0.001    -107.666     -28.249\n",
      "x57          -15.3710     20.800     -0.739      0.460     -56.152      25.410\n",
      "x58           26.3479     17.116      1.539      0.124      -7.210      59.906\n",
      "x59           -9.3190     15.687     -0.594      0.553     -40.076      21.438\n",
      "x60          -19.6998     16.768     -1.175      0.240     -52.577      13.177\n",
      "x61          -12.2496     15.182     -0.807      0.420     -42.016      17.517\n",
      "x62          -36.2361     20.067     -1.806      0.071     -75.581       3.108\n",
      "x63          -30.0130     24.450     -1.228      0.220     -77.951      17.925\n",
      "x64          -37.9407     20.213     -1.877      0.061     -77.572       1.691\n",
      "x65          -11.1902     15.541     -0.720      0.472     -41.660      19.280\n",
      "x66          -23.2723     23.852     -0.976      0.329     -70.038      23.493\n",
      "x67           -2.9777     15.484     -0.192      0.848     -33.338      27.382\n",
      "x68          -22.6786     38.686     -0.586      0.558     -98.529      53.171\n",
      "x69          -35.4744     18.102     -1.960      0.050     -70.967       0.018\n",
      "x70          127.1409     40.742      3.121      0.002      47.260     207.021\n",
      "x71           -3.6447     56.823     -0.064      0.949    -115.057     107.767\n",
      "x72           85.4304     98.616      0.866      0.386    -107.923     278.783\n",
      "x73           -5.4599     20.192     -0.270      0.787     -45.049      34.130\n",
      "x74         1.995e-13   1.43e-13      1.396      0.163   -8.07e-14     4.8e-13\n",
      "x75          -53.6998    126.480     -0.425      0.671    -301.686     194.286\n",
      "x76          -28.4157     15.657     -1.815      0.070     -59.114       2.282\n",
      "x77         4.251e-14   2.05e-13      0.207      0.836    -3.6e-13    4.45e-13\n",
      "x78           -0.7796     31.284     -0.025      0.980     -62.117      60.558\n",
      "x79           21.3231     55.414      0.385      0.700     -87.325     129.971\n",
      "x80          -16.5330     20.445     -0.809      0.419     -56.619      23.553\n",
      "x81          -45.5489     49.750     -0.916      0.360    -143.092      51.994\n",
      "x82          -91.4480     44.122     -2.073      0.038    -177.957      -4.939\n",
      "x83           23.4150    126.624      0.185      0.853    -224.852     271.682\n",
      "x84          -50.2550    124.713     -0.403      0.687    -294.776     194.266\n",
      "x85         2.064e-13   1.87e-13      1.101      0.271   -1.61e-13    5.74e-13\n",
      "x86          -25.2105     18.378     -1.372      0.170     -61.244      10.823\n",
      "x87          -20.8123     36.840     -0.565      0.572     -93.043      51.419\n",
      "x88          157.6605    127.213      1.239      0.215     -91.762     407.083\n",
      "x89         -156.4224    125.924     -1.242      0.214    -403.318      90.473\n",
      "x90          -26.3564     17.896     -1.473      0.141     -61.444       8.731\n",
      "x91          -27.1470     17.677     -1.536      0.125     -61.805       7.511\n",
      "x92          -24.4814     15.456     -1.584      0.113     -54.786       5.823\n",
      "x93          -56.6511    129.864     -0.436      0.663    -311.272     197.970\n",
      "x94            7.3303     31.566      0.232      0.816     -54.559      69.220\n",
      "x95          -38.9059     65.287     -0.596      0.551    -166.912      89.100\n",
      "x96          -20.0779     24.660     -0.814      0.416     -68.428      28.273\n",
      "x97           -8.8473    124.987     -0.071      0.944    -253.905     236.210\n",
      "x98           -6.9153     63.888     -0.108      0.914    -132.179     118.349\n",
      "x99          -30.8200     17.123     -1.800      0.072     -64.393       2.753\n",
      "x100          16.8467    124.890      0.135      0.893    -228.021     261.714\n",
      "x101          41.9923     80.786      0.520      0.603    -116.401     200.386\n",
      "x102         203.7384     25.578      7.965      0.000     153.589     253.888\n",
      "x103       -1.226e-15   1.75e-14     -0.070      0.944   -3.55e-14     3.3e-14\n",
      "x104          -8.8184     28.971     -0.304      0.761     -65.622      47.985\n",
      "x105         -51.3132     28.550     -1.797      0.072    -107.289       4.663\n",
      "x106        -143.1896     28.999     -4.938      0.000    -200.048     -86.331\n",
      "x107         -31.1575     20.194     -1.543      0.123     -70.751       8.436\n",
      "x108         -42.0628     20.049     -2.098      0.036     -81.372      -2.753\n",
      "x109           3.3179     82.523      0.040      0.968    -158.482     165.118\n",
      "x110         -46.5439     19.906     -2.338      0.019     -85.573      -7.515\n",
      "x111         -16.6481     29.107     -0.572      0.567     -73.717      40.421\n",
      "x112         -70.2268     82.111     -0.855      0.392    -231.219      90.765\n",
      "==============================================================================\n",
      "Omnibus:                     6438.020   Durbin-Watson:                   1.986\n",
      "Prob(Omnibus):                  0.000   Jarque-Bera (JB):         18982779.215\n",
      "Skew:                          13.359   Prob(JB):                         0.00\n",
      "Kurtosis:                     364.044   Cond. No.                     1.32e+18\n",
      "==============================================================================\n",
      "\n",
      "Warnings:\n",
      "[1] Standard Errors assume that the covariance matrix of the errors is correctly specified.\n",
      "[2] The smallest eigenvalue is 3.98e-29. This might indicate that there are\n",
      "strong multicollinearity problems or that the design matrix is singular.\n"
     ]
    }
   ],
   "source": [
    "import statsmodels.api as sm\n",
    "olsmod = sm.OLS(y2,x2)\n",
    "olsres = olsmod.fit()\n",
    "print(olsres.summary())"
   ]
  },
  {
   "cell_type": "code",
   "execution_count": 22,
   "metadata": {
    "ExecuteTime": {
     "end_time": "2018-09-16T04:58:51.068614Z",
     "start_time": "2018-09-16T04:58:51.059482Z"
    }
   },
   "outputs": [],
   "source": [
    "# different method\n",
    "from sklearn import linear_model\n",
    "from sklearn.model_selection import train_test_split\n",
    "X_train, X_test, y_train, y_test = train_test_split(x, y, test_size = 0.25, random_state=1)"
   ]
  },
  {
   "cell_type": "code",
   "execution_count": 23,
   "metadata": {
    "ExecuteTime": {
     "end_time": "2018-09-16T04:58:59.313483Z",
     "start_time": "2018-09-16T04:58:51.636870Z"
    }
   },
   "outputs": [
    {
     "name": "stdout",
     "output_type": "stream",
     "text": [
      "MSE train: 2870.698, test: 6131.234\n",
      "R^2 train: 0.918, test: 0.733\n"
     ]
    }
   ],
   "source": [
    "from sklearn.ensemble import RandomForestRegressor\n",
    "forest = RandomForestRegressor(n_estimators=500, \n",
    "                               criterion='mse', \n",
    "                               random_state=3, \n",
    "                               n_jobs=-1)\n",
    "forest.fit(X_train, y_train)\n",
    "y_train_pred = forest.predict(X_train)\n",
    "y_test_pred = forest.predict(X_test)\n",
    "\n",
    "print('MSE train: %.3f, test: %.3f' % (\n",
    "        mean_squared_error(y_train, y_train_pred),\n",
    "        mean_squared_error(y_test, y_test_pred)))\n",
    "print('R^2 train: %.3f, test: %.3f' % (\n",
    "        r2_score(y_train, y_train_pred),\n",
    "        r2_score(y_test, y_test_pred)))"
   ]
  },
  {
   "cell_type": "code",
   "execution_count": null,
   "metadata": {},
   "outputs": [],
   "source": []
  },
  {
   "cell_type": "code",
   "execution_count": null,
   "metadata": {},
   "outputs": [],
   "source": []
  },
  {
   "cell_type": "code",
   "execution_count": null,
   "metadata": {},
   "outputs": [],
   "source": []
  }
 ],
 "metadata": {
  "kernelspec": {
   "display_name": "Python 3",
   "language": "python",
   "name": "python3"
  },
  "language_info": {
   "codemirror_mode": {
    "name": "ipython",
    "version": 3
   },
   "file_extension": ".py",
   "mimetype": "text/x-python",
   "name": "python",
   "nbconvert_exporter": "python",
   "pygments_lexer": "ipython3",
   "version": "3.6.6"
  },
  "varInspector": {
   "cols": {
    "lenName": 16,
    "lenType": 16,
    "lenVar": 40
   },
   "kernels_config": {
    "python": {
     "delete_cmd_postfix": "",
     "delete_cmd_prefix": "del ",
     "library": "var_list.py",
     "varRefreshCmd": "print(var_dic_list())"
    },
    "r": {
     "delete_cmd_postfix": ") ",
     "delete_cmd_prefix": "rm(",
     "library": "var_list.r",
     "varRefreshCmd": "cat(var_dic_list()) "
    }
   },
   "types_to_exclude": [
    "module",
    "function",
    "builtin_function_or_method",
    "instance",
    "_Feature"
   ],
   "window_display": false
  }
 },
 "nbformat": 4,
 "nbformat_minor": 2
}
