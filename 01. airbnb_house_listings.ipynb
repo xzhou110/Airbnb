{
 "cells": [
  {
   "cell_type": "markdown",
   "metadata": {},
   "source": [
    "# Data Retrieval"
   ]
  },
  {
   "cell_type": "code",
   "execution_count": 1,
   "metadata": {
    "ExecuteTime": {
     "end_time": "2019-02-18T02:51:05.678060Z",
     "start_time": "2019-02-18T02:51:05.674066Z"
    }
   },
   "outputs": [],
   "source": [
    "import warnings\n",
    "warnings.simplefilter(action='ignore', category=Warning)"
   ]
  },
  {
   "cell_type": "code",
   "execution_count": 2,
   "metadata": {
    "ExecuteTime": {
     "end_time": "2019-02-18T02:51:07.888516Z",
     "start_time": "2019-02-18T02:51:05.681298Z"
    }
   },
   "outputs": [],
   "source": [
    "import pandas as pd\n",
    "import IPython.display\n",
    "import matplotlib.pyplot as plt\n",
    "import csv\n",
    "import re\n",
    "import numpy as np\n",
    "from datetime import datetime\n",
    "import statsmodels.api as sm\n",
    "\n",
    "from sklearn import datasets, linear_model\n",
    "from sklearn.metrics import mean_squared_error, r2_score\n",
    "from sklearn.preprocessing import StandardScaler\n",
    "from sklearn.model_selection import train_test_split\n",
    "from sklearn.ensemble import RandomForestRegressor"
   ]
  },
  {
   "cell_type": "code",
   "execution_count": 3,
   "metadata": {
    "ExecuteTime": {
     "end_time": "2019-02-18T02:51:07.894941Z",
     "start_time": "2019-02-18T02:51:07.890789Z"
    }
   },
   "outputs": [],
   "source": [
    "plt.style.use('seaborn')"
   ]
  },
  {
   "cell_type": "code",
   "execution_count": 4,
   "metadata": {
    "ExecuteTime": {
     "end_time": "2019-02-18T02:51:07.902187Z",
     "start_time": "2019-02-18T02:51:07.897779Z"
    }
   },
   "outputs": [],
   "source": [
    "# File path for cities: San Francisco(sf), Okaland(ok), and Santa Clara(sc)\n",
    "\n",
    "file_url = '/Users/xzhou/github/project_archives/files_airbnb/{}.csv'\n",
    "\n",
    "sf_file = file_url.format('sf_airbnb/listings_details')\n",
    "ok_file = file_url.format('ok_airbnb/listings_details')\n",
    "sc_file = file_url.format('sc_airbnb/listings_details')"
   ]
  },
  {
   "cell_type": "code",
   "execution_count": 5,
   "metadata": {
    "ExecuteTime": {
     "end_time": "2019-02-18T02:51:10.953954Z",
     "start_time": "2019-02-18T02:51:07.905514Z"
    }
   },
   "outputs": [
    {
     "name": "stdout",
     "output_type": "stream",
     "text": [
      "sf file dimensions:  (6633, 96)\n",
      "ok file dimensions:  (2898, 96)\n",
      "sc file dimensions:  (5668, 96)\n"
     ]
    }
   ],
   "source": [
    "# Loaded files as DataFrame\n",
    "\n",
    "date_to_parse = ['last_scraped','host_since', 'first_review', 'last_review']\n",
    "\n",
    "listings_sf = pd.read_csv(sf_file, parse_dates=date_to_parse)\n",
    "listings_ok = pd.read_csv(ok_file, parse_dates=date_to_parse)\n",
    "listings_sc = pd.read_csv(sc_file, parse_dates=date_to_parse)\n",
    "\n",
    "print('sf file dimensions: ', listings_sf.shape) \n",
    "print('ok file dimensions: ', listings_ok.shape) \n",
    "print('sc file dimensions: ', listings_sc.shape) "
   ]
  },
  {
   "cell_type": "code",
   "execution_count": 6,
   "metadata": {
    "ExecuteTime": {
     "end_time": "2019-02-18T02:51:11.205896Z",
     "start_time": "2019-02-18T02:51:10.957090Z"
    },
    "scrolled": true
   },
   "outputs": [
    {
     "data": {
      "text/html": [
       "<div>\n",
       "<style scoped>\n",
       "    .dataframe tbody tr th:only-of-type {\n",
       "        vertical-align: middle;\n",
       "    }\n",
       "\n",
       "    .dataframe tbody tr th {\n",
       "        vertical-align: top;\n",
       "    }\n",
       "\n",
       "    .dataframe thead th {\n",
       "        text-align: right;\n",
       "    }\n",
       "</style>\n",
       "<table border=\"1\" class=\"dataframe\">\n",
       "  <thead>\n",
       "    <tr style=\"text-align: right;\">\n",
       "      <th></th>\n",
       "      <th></th>\n",
       "      <th>id</th>\n",
       "      <th>listing_url</th>\n",
       "      <th>scrape_id</th>\n",
       "      <th>last_scraped</th>\n",
       "      <th>name</th>\n",
       "      <th>summary</th>\n",
       "      <th>space</th>\n",
       "      <th>description</th>\n",
       "      <th>experiences_offered</th>\n",
       "      <th>neighborhood_overview</th>\n",
       "      <th>...</th>\n",
       "      <th>requires_license</th>\n",
       "      <th>license</th>\n",
       "      <th>jurisdiction_names</th>\n",
       "      <th>instant_bookable</th>\n",
       "      <th>is_business_travel_ready</th>\n",
       "      <th>cancellation_policy</th>\n",
       "      <th>require_guest_profile_picture</th>\n",
       "      <th>require_guest_phone_verification</th>\n",
       "      <th>calculated_host_listings_count</th>\n",
       "      <th>reviews_per_month</th>\n",
       "    </tr>\n",
       "  </thead>\n",
       "  <tbody>\n",
       "    <tr>\n",
       "      <th rowspan=\"5\" valign=\"top\">sf</th>\n",
       "      <th>0</th>\n",
       "      <td>958</td>\n",
       "      <td>https://www.airbnb.com/rooms/958</td>\n",
       "      <td>2.018080e+13</td>\n",
       "      <td>2018-08-06</td>\n",
       "      <td>Bright, Modern Garden Unit - 1BR/1B</td>\n",
       "      <td>Our bright garden unit overlooks a grassy back...</td>\n",
       "      <td>Newly remodeled, modern, and bright garden uni...</td>\n",
       "      <td>Our bright garden unit overlooks a grassy back...</td>\n",
       "      <td>none</td>\n",
       "      <td>*Quiet cul de sac in friendly neighborhood *St...</td>\n",
       "      <td>...</td>\n",
       "      <td>t</td>\n",
       "      <td>STR-0001256</td>\n",
       "      <td>{\"SAN FRANCISCO\"}</td>\n",
       "      <td>f</td>\n",
       "      <td>f</td>\n",
       "      <td>moderate</td>\n",
       "      <td>f</td>\n",
       "      <td>f</td>\n",
       "      <td>1</td>\n",
       "      <td>1.38</td>\n",
       "    </tr>\n",
       "    <tr>\n",
       "      <th>1</th>\n",
       "      <td>5858</td>\n",
       "      <td>https://www.airbnb.com/rooms/5858</td>\n",
       "      <td>2.018080e+13</td>\n",
       "      <td>2018-08-06</td>\n",
       "      <td>Creative Sanctuary</td>\n",
       "      <td>NaN</td>\n",
       "      <td>We live in a large Victorian house on a quiet ...</td>\n",
       "      <td>We live in a large Victorian house on a quiet ...</td>\n",
       "      <td>none</td>\n",
       "      <td>I love how our neighborhood feels quiet but is...</td>\n",
       "      <td>...</td>\n",
       "      <td>t</td>\n",
       "      <td>NaN</td>\n",
       "      <td>{\"SAN FRANCISCO\"}</td>\n",
       "      <td>f</td>\n",
       "      <td>f</td>\n",
       "      <td>strict_14_with_grace_period</td>\n",
       "      <td>f</td>\n",
       "      <td>f</td>\n",
       "      <td>1</td>\n",
       "      <td>0.99</td>\n",
       "    </tr>\n",
       "    <tr>\n",
       "      <th>2</th>\n",
       "      <td>7918</td>\n",
       "      <td>https://www.airbnb.com/rooms/7918</td>\n",
       "      <td>2.018080e+13</td>\n",
       "      <td>2018-08-06</td>\n",
       "      <td>A Friendly Room - UCSF/USF - San Francisco</td>\n",
       "      <td>Nice and good public transportation.  7 minute...</td>\n",
       "      <td>Room rental-sunny view room/sink/Wi Fi (inner ...</td>\n",
       "      <td>Nice and good public transportation.  7 minute...</td>\n",
       "      <td>none</td>\n",
       "      <td>Shopping old town, restaurants, McDonald, Whol...</td>\n",
       "      <td>...</td>\n",
       "      <td>t</td>\n",
       "      <td>NaN</td>\n",
       "      <td>{\"SAN FRANCISCO\"}</td>\n",
       "      <td>f</td>\n",
       "      <td>f</td>\n",
       "      <td>strict_14_with_grace_period</td>\n",
       "      <td>f</td>\n",
       "      <td>f</td>\n",
       "      <td>9</td>\n",
       "      <td>0.16</td>\n",
       "    </tr>\n",
       "    <tr>\n",
       "      <th>3</th>\n",
       "      <td>8142</td>\n",
       "      <td>https://www.airbnb.com/rooms/8142</td>\n",
       "      <td>2.018080e+13</td>\n",
       "      <td>2018-08-06</td>\n",
       "      <td>Friendly Room Apt. Style -UCSF/USF - San Franc...</td>\n",
       "      <td>Nice and good public transportation.  7 minute...</td>\n",
       "      <td>Room rental Sunny view Rm/Wi-Fi/TV/sink/large ...</td>\n",
       "      <td>Nice and good public transportation.  7 minute...</td>\n",
       "      <td>none</td>\n",
       "      <td>NaN</td>\n",
       "      <td>...</td>\n",
       "      <td>t</td>\n",
       "      <td>NaN</td>\n",
       "      <td>{\"SAN FRANCISCO\"}</td>\n",
       "      <td>f</td>\n",
       "      <td>f</td>\n",
       "      <td>strict_14_with_grace_period</td>\n",
       "      <td>f</td>\n",
       "      <td>f</td>\n",
       "      <td>9</td>\n",
       "      <td>0.15</td>\n",
       "    </tr>\n",
       "    <tr>\n",
       "      <th>4</th>\n",
       "      <td>8339</td>\n",
       "      <td>https://www.airbnb.com/rooms/8339</td>\n",
       "      <td>2.018080e+13</td>\n",
       "      <td>2018-08-06</td>\n",
       "      <td>Historic Alamo Square Victorian</td>\n",
       "      <td>Pls email before booking.  Interior featured i...</td>\n",
       "      <td>Please send us a quick message before booking ...</td>\n",
       "      <td>Pls email before booking.  Interior featured i...</td>\n",
       "      <td>none</td>\n",
       "      <td>NaN</td>\n",
       "      <td>...</td>\n",
       "      <td>t</td>\n",
       "      <td>STR-0000264</td>\n",
       "      <td>{\"SAN FRANCISCO\"}</td>\n",
       "      <td>f</td>\n",
       "      <td>f</td>\n",
       "      <td>strict_14_with_grace_period</td>\n",
       "      <td>t</td>\n",
       "      <td>t</td>\n",
       "      <td>2</td>\n",
       "      <td>0.24</td>\n",
       "    </tr>\n",
       "  </tbody>\n",
       "</table>\n",
       "<p>5 rows × 96 columns</p>\n",
       "</div>"
      ],
      "text/plain": [
       "        id                        listing_url     scrape_id last_scraped  \\\n",
       "sf 0   958   https://www.airbnb.com/rooms/958  2.018080e+13   2018-08-06   \n",
       "   1  5858  https://www.airbnb.com/rooms/5858  2.018080e+13   2018-08-06   \n",
       "   2  7918  https://www.airbnb.com/rooms/7918  2.018080e+13   2018-08-06   \n",
       "   3  8142  https://www.airbnb.com/rooms/8142  2.018080e+13   2018-08-06   \n",
       "   4  8339  https://www.airbnb.com/rooms/8339  2.018080e+13   2018-08-06   \n",
       "\n",
       "                                                   name  \\\n",
       "sf 0                Bright, Modern Garden Unit - 1BR/1B   \n",
       "   1                                 Creative Sanctuary   \n",
       "   2         A Friendly Room - UCSF/USF - San Francisco   \n",
       "   3  Friendly Room Apt. Style -UCSF/USF - San Franc...   \n",
       "   4                    Historic Alamo Square Victorian   \n",
       "\n",
       "                                                summary  \\\n",
       "sf 0  Our bright garden unit overlooks a grassy back...   \n",
       "   1                                                NaN   \n",
       "   2  Nice and good public transportation.  7 minute...   \n",
       "   3  Nice and good public transportation.  7 minute...   \n",
       "   4  Pls email before booking.  Interior featured i...   \n",
       "\n",
       "                                                  space  \\\n",
       "sf 0  Newly remodeled, modern, and bright garden uni...   \n",
       "   1  We live in a large Victorian house on a quiet ...   \n",
       "   2  Room rental-sunny view room/sink/Wi Fi (inner ...   \n",
       "   3  Room rental Sunny view Rm/Wi-Fi/TV/sink/large ...   \n",
       "   4  Please send us a quick message before booking ...   \n",
       "\n",
       "                                            description experiences_offered  \\\n",
       "sf 0  Our bright garden unit overlooks a grassy back...                none   \n",
       "   1  We live in a large Victorian house on a quiet ...                none   \n",
       "   2  Nice and good public transportation.  7 minute...                none   \n",
       "   3  Nice and good public transportation.  7 minute...                none   \n",
       "   4  Pls email before booking.  Interior featured i...                none   \n",
       "\n",
       "                                  neighborhood_overview        ...          \\\n",
       "sf 0  *Quiet cul de sac in friendly neighborhood *St...        ...           \n",
       "   1  I love how our neighborhood feels quiet but is...        ...           \n",
       "   2  Shopping old town, restaurants, McDonald, Whol...        ...           \n",
       "   3                                                NaN        ...           \n",
       "   4                                                NaN        ...           \n",
       "\n",
       "     requires_license      license jurisdiction_names instant_bookable  \\\n",
       "sf 0                t  STR-0001256  {\"SAN FRANCISCO\"}                f   \n",
       "   1                t          NaN  {\"SAN FRANCISCO\"}                f   \n",
       "   2                t          NaN  {\"SAN FRANCISCO\"}                f   \n",
       "   3                t          NaN  {\"SAN FRANCISCO\"}                f   \n",
       "   4                t  STR-0000264  {\"SAN FRANCISCO\"}                f   \n",
       "\n",
       "     is_business_travel_ready          cancellation_policy  \\\n",
       "sf 0                        f                     moderate   \n",
       "   1                        f  strict_14_with_grace_period   \n",
       "   2                        f  strict_14_with_grace_period   \n",
       "   3                        f  strict_14_with_grace_period   \n",
       "   4                        f  strict_14_with_grace_period   \n",
       "\n",
       "      require_guest_profile_picture require_guest_phone_verification  \\\n",
       "sf 0                              f                                f   \n",
       "   1                              f                                f   \n",
       "   2                              f                                f   \n",
       "   3                              f                                f   \n",
       "   4                              t                                t   \n",
       "\n",
       "      calculated_host_listings_count  reviews_per_month  \n",
       "sf 0                               1               1.38  \n",
       "   1                               1               0.99  \n",
       "   2                               9               0.16  \n",
       "   3                               9               0.15  \n",
       "   4                               2               0.24  \n",
       "\n",
       "[5 rows x 96 columns]"
      ]
     },
     "execution_count": 6,
     "metadata": {},
     "output_type": "execute_result"
    }
   ],
   "source": [
    "# Concatenated four files into one\n",
    "# Created keys for each file for future references\n",
    "\n",
    "frames = [listings_sf, listings_ok, listings_sc]\n",
    "keys = ['sf', 'ok', 'sc']\n",
    "\n",
    "df_listings = pd.concat(frames, keys=keys)\n",
    "df_listings.reset_index()\n",
    "\n",
    "df_listings.head()"
   ]
  },
  {
   "cell_type": "code",
   "execution_count": 7,
   "metadata": {
    "ExecuteTime": {
     "end_time": "2019-02-18T02:51:11.459478Z",
     "start_time": "2019-02-18T02:51:11.209417Z"
    }
   },
   "outputs": [],
   "source": [
    "# Added additional column to keep track of original district\n",
    "\n",
    "df_listings['district'] = ''\n",
    "\n",
    "df_listings.loc['sf']['district'] = 'San Francisco'\n",
    "df_listings.loc['ok']['district'] = 'Oakland'\n",
    "df_listings.loc['sc']['district'] = 'Santa Clara'\n",
    "# df_listings.loc['scz']['district'] = 'Santa Cruz'"
   ]
  },
  {
   "cell_type": "code",
   "execution_count": 8,
   "metadata": {
    "ExecuteTime": {
     "end_time": "2019-02-18T02:51:11.480186Z",
     "start_time": "2019-02-18T02:51:11.462611Z"
    }
   },
   "outputs": [
    {
     "data": {
      "text/html": [
       "<div>\n",
       "<style scoped>\n",
       "    .dataframe tbody tr th:only-of-type {\n",
       "        vertical-align: middle;\n",
       "    }\n",
       "\n",
       "    .dataframe tbody tr th {\n",
       "        vertical-align: top;\n",
       "    }\n",
       "\n",
       "    .dataframe thead th {\n",
       "        text-align: right;\n",
       "    }\n",
       "</style>\n",
       "<table border=\"1\" class=\"dataframe\">\n",
       "  <thead>\n",
       "    <tr style=\"text-align: right;\">\n",
       "      <th></th>\n",
       "      <th></th>\n",
       "      <th>id</th>\n",
       "      <th>district</th>\n",
       "    </tr>\n",
       "  </thead>\n",
       "  <tbody>\n",
       "    <tr>\n",
       "      <th rowspan=\"5\" valign=\"top\">sf</th>\n",
       "      <th>0</th>\n",
       "      <td>958</td>\n",
       "      <td>San Francisco</td>\n",
       "    </tr>\n",
       "    <tr>\n",
       "      <th>1</th>\n",
       "      <td>5858</td>\n",
       "      <td>San Francisco</td>\n",
       "    </tr>\n",
       "    <tr>\n",
       "      <th>2</th>\n",
       "      <td>7918</td>\n",
       "      <td>San Francisco</td>\n",
       "    </tr>\n",
       "    <tr>\n",
       "      <th>3</th>\n",
       "      <td>8142</td>\n",
       "      <td>San Francisco</td>\n",
       "    </tr>\n",
       "    <tr>\n",
       "      <th>4</th>\n",
       "      <td>8339</td>\n",
       "      <td>San Francisco</td>\n",
       "    </tr>\n",
       "  </tbody>\n",
       "</table>\n",
       "</div>"
      ],
      "text/plain": [
       "        id       district\n",
       "sf 0   958  San Francisco\n",
       "   1  5858  San Francisco\n",
       "   2  7918  San Francisco\n",
       "   3  8142  San Francisco\n",
       "   4  8339  San Francisco"
      ]
     },
     "execution_count": 8,
     "metadata": {},
     "output_type": "execute_result"
    }
   ],
   "source": [
    "# Created a separate dataframe to keep track of district\n",
    "# The data frame will be used in later stage\n",
    "\n",
    "df_district =  df_listings.loc[:, ['id', 'district']]\n",
    "df_district.head()"
   ]
  },
  {
   "cell_type": "markdown",
   "metadata": {
    "ExecuteTime": {
     "end_time": "2019-02-17T07:21:58.910805Z",
     "start_time": "2019-02-17T07:21:58.906832Z"
    }
   },
   "source": [
    "# Data Exploration"
   ]
  },
  {
   "cell_type": "markdown",
   "metadata": {
    "ExecuteTime": {
     "end_time": "2019-02-17T07:23:36.535268Z",
     "start_time": "2019-02-17T07:23:36.531980Z"
    }
   },
   "source": [
    "## Smaller Set of Features"
   ]
  },
  {
   "cell_type": "code",
   "execution_count": 9,
   "metadata": {
    "ExecuteTime": {
     "end_time": "2019-02-18T02:51:11.560638Z",
     "start_time": "2019-02-18T02:51:11.483161Z"
    }
   },
   "outputs": [
    {
     "data": {
      "text/plain": [
       "id                                      0\n",
       "listing_url                             0\n",
       "scrape_id                               0\n",
       "last_scraped                            0\n",
       "name                                    2\n",
       "summary                               442\n",
       "space                                3216\n",
       "description                           124\n",
       "experiences_offered                     0\n",
       "neighborhood_overview                4934\n",
       "notes                                6690\n",
       "transit                              4937\n",
       "access                               4817\n",
       "interaction                          5375\n",
       "house_rules                          4416\n",
       "thumbnail_url                       15199\n",
       "medium_url                          15199\n",
       "picture_url                             0\n",
       "xl_picture_url                      15199\n",
       "host_id                                 0\n",
       "host_url                                0\n",
       "host_name                               0\n",
       "host_since                              0\n",
       "host_location                          32\n",
       "host_about                           4418\n",
       "host_response_time                   1792\n",
       "host_response_rate                   1792\n",
       "host_acceptance_rate                15199\n",
       "host_is_superhost                       0\n",
       "host_thumbnail_url                      0\n",
       "                                    ...  \n",
       "minimum_nights                          0\n",
       "maximum_nights                          0\n",
       "calendar_updated                        0\n",
       "has_availability                        0\n",
       "availability_30                         0\n",
       "availability_60                         0\n",
       "availability_90                         0\n",
       "availability_365                        0\n",
       "calendar_last_scraped                   0\n",
       "number_of_reviews                       0\n",
       "first_review                         2678\n",
       "last_review                          2678\n",
       "review_scores_rating                 2797\n",
       "review_scores_accuracy               2804\n",
       "review_scores_cleanliness            2801\n",
       "review_scores_checkin                2811\n",
       "review_scores_communication          2804\n",
       "review_scores_location               2808\n",
       "review_scores_value                  2810\n",
       "requires_license                        0\n",
       "license                             10857\n",
       "jurisdiction_names                   1979\n",
       "instant_bookable                        0\n",
       "is_business_travel_ready                0\n",
       "cancellation_policy                     0\n",
       "require_guest_profile_picture           0\n",
       "require_guest_phone_verification        0\n",
       "calculated_host_listings_count          0\n",
       "reviews_per_month                    2678\n",
       "district                                0\n",
       "Length: 97, dtype: int64"
      ]
     },
     "metadata": {},
     "output_type": "display_data"
    }
   ],
   "source": [
    "# Checked for Null vales within data\n",
    "\n",
    "display(df_listings.isnull().sum())"
   ]
  },
  {
   "cell_type": "code",
   "execution_count": 10,
   "metadata": {
    "ExecuteTime": {
     "end_time": "2019-02-18T02:51:11.608350Z",
     "start_time": "2019-02-18T02:51:11.562633Z"
    }
   },
   "outputs": [
    {
     "data": {
      "text/plain": [
       "'Dimensions after drilling down: '"
      ]
     },
     "metadata": {},
     "output_type": "display_data"
    },
    {
     "data": {
      "text/plain": [
       "(15199, 43)"
      ]
     },
     "metadata": {},
     "output_type": "display_data"
    },
    {
     "data": {
      "text/html": [
       "<div>\n",
       "<style scoped>\n",
       "    .dataframe tbody tr th:only-of-type {\n",
       "        vertical-align: middle;\n",
       "    }\n",
       "\n",
       "    .dataframe tbody tr th {\n",
       "        vertical-align: top;\n",
       "    }\n",
       "\n",
       "    .dataframe thead th {\n",
       "        text-align: right;\n",
       "    }\n",
       "</style>\n",
       "<table border=\"1\" class=\"dataframe\">\n",
       "  <thead>\n",
       "    <tr style=\"text-align: right;\">\n",
       "      <th></th>\n",
       "      <th></th>\n",
       "      <th>id</th>\n",
       "      <th>host_since</th>\n",
       "      <th>host_response_time</th>\n",
       "      <th>host_response_rate</th>\n",
       "      <th>host_is_superhost</th>\n",
       "      <th>host_listings_count</th>\n",
       "      <th>host_total_listings_count</th>\n",
       "      <th>host_has_profile_pic</th>\n",
       "      <th>host_identity_verified</th>\n",
       "      <th>neighbourhood_cleansed</th>\n",
       "      <th>...</th>\n",
       "      <th>review_scores_value</th>\n",
       "      <th>jurisdiction_names</th>\n",
       "      <th>instant_bookable</th>\n",
       "      <th>is_business_travel_ready</th>\n",
       "      <th>cancellation_policy</th>\n",
       "      <th>require_guest_profile_picture</th>\n",
       "      <th>require_guest_phone_verification</th>\n",
       "      <th>calculated_host_listings_count</th>\n",
       "      <th>reviews_per_month</th>\n",
       "      <th>district</th>\n",
       "    </tr>\n",
       "  </thead>\n",
       "  <tbody>\n",
       "    <tr>\n",
       "      <th rowspan=\"5\" valign=\"top\">sf</th>\n",
       "      <th>0</th>\n",
       "      <td>958</td>\n",
       "      <td>2008-07-31</td>\n",
       "      <td>within an hour</td>\n",
       "      <td>92%</td>\n",
       "      <td>t</td>\n",
       "      <td>1</td>\n",
       "      <td>1</td>\n",
       "      <td>t</td>\n",
       "      <td>t</td>\n",
       "      <td>Western Addition</td>\n",
       "      <td>...</td>\n",
       "      <td>10.0</td>\n",
       "      <td>{\"SAN FRANCISCO\"}</td>\n",
       "      <td>f</td>\n",
       "      <td>f</td>\n",
       "      <td>moderate</td>\n",
       "      <td>f</td>\n",
       "      <td>f</td>\n",
       "      <td>1</td>\n",
       "      <td>1.38</td>\n",
       "      <td>San Francisco</td>\n",
       "    </tr>\n",
       "    <tr>\n",
       "      <th>1</th>\n",
       "      <td>5858</td>\n",
       "      <td>2009-03-02</td>\n",
       "      <td>within an hour</td>\n",
       "      <td>100%</td>\n",
       "      <td>f</td>\n",
       "      <td>2</td>\n",
       "      <td>2</td>\n",
       "      <td>t</td>\n",
       "      <td>t</td>\n",
       "      <td>Bernal Heights</td>\n",
       "      <td>...</td>\n",
       "      <td>9.0</td>\n",
       "      <td>{\"SAN FRANCISCO\"}</td>\n",
       "      <td>f</td>\n",
       "      <td>f</td>\n",
       "      <td>strict_14_with_grace_period</td>\n",
       "      <td>f</td>\n",
       "      <td>f</td>\n",
       "      <td>1</td>\n",
       "      <td>0.99</td>\n",
       "      <td>San Francisco</td>\n",
       "    </tr>\n",
       "    <tr>\n",
       "      <th>2</th>\n",
       "      <td>7918</td>\n",
       "      <td>2009-06-17</td>\n",
       "      <td>within a few hours</td>\n",
       "      <td>100%</td>\n",
       "      <td>f</td>\n",
       "      <td>10</td>\n",
       "      <td>10</td>\n",
       "      <td>t</td>\n",
       "      <td>t</td>\n",
       "      <td>Haight Ashbury</td>\n",
       "      <td>...</td>\n",
       "      <td>8.0</td>\n",
       "      <td>{\"SAN FRANCISCO\"}</td>\n",
       "      <td>f</td>\n",
       "      <td>f</td>\n",
       "      <td>strict_14_with_grace_period</td>\n",
       "      <td>f</td>\n",
       "      <td>f</td>\n",
       "      <td>9</td>\n",
       "      <td>0.16</td>\n",
       "      <td>San Francisco</td>\n",
       "    </tr>\n",
       "    <tr>\n",
       "      <th>3</th>\n",
       "      <td>8142</td>\n",
       "      <td>2009-06-17</td>\n",
       "      <td>within a few hours</td>\n",
       "      <td>100%</td>\n",
       "      <td>f</td>\n",
       "      <td>10</td>\n",
       "      <td>10</td>\n",
       "      <td>t</td>\n",
       "      <td>t</td>\n",
       "      <td>Haight Ashbury</td>\n",
       "      <td>...</td>\n",
       "      <td>9.0</td>\n",
       "      <td>{\"SAN FRANCISCO\"}</td>\n",
       "      <td>f</td>\n",
       "      <td>f</td>\n",
       "      <td>strict_14_with_grace_period</td>\n",
       "      <td>f</td>\n",
       "      <td>f</td>\n",
       "      <td>9</td>\n",
       "      <td>0.15</td>\n",
       "      <td>San Francisco</td>\n",
       "    </tr>\n",
       "    <tr>\n",
       "      <th>4</th>\n",
       "      <td>8339</td>\n",
       "      <td>2009-07-02</td>\n",
       "      <td>within an hour</td>\n",
       "      <td>100%</td>\n",
       "      <td>f</td>\n",
       "      <td>2</td>\n",
       "      <td>2</td>\n",
       "      <td>t</td>\n",
       "      <td>t</td>\n",
       "      <td>Western Addition</td>\n",
       "      <td>...</td>\n",
       "      <td>10.0</td>\n",
       "      <td>{\"SAN FRANCISCO\"}</td>\n",
       "      <td>f</td>\n",
       "      <td>f</td>\n",
       "      <td>strict_14_with_grace_period</td>\n",
       "      <td>t</td>\n",
       "      <td>t</td>\n",
       "      <td>2</td>\n",
       "      <td>0.24</td>\n",
       "      <td>San Francisco</td>\n",
       "    </tr>\n",
       "  </tbody>\n",
       "</table>\n",
       "<p>5 rows × 43 columns</p>\n",
       "</div>"
      ],
      "text/plain": [
       "        id host_since  host_response_time host_response_rate  \\\n",
       "sf 0   958 2008-07-31      within an hour                92%   \n",
       "   1  5858 2009-03-02      within an hour               100%   \n",
       "   2  7918 2009-06-17  within a few hours               100%   \n",
       "   3  8142 2009-06-17  within a few hours               100%   \n",
       "   4  8339 2009-07-02      within an hour               100%   \n",
       "\n",
       "     host_is_superhost  host_listings_count  host_total_listings_count  \\\n",
       "sf 0                 t                    1                          1   \n",
       "   1                 f                    2                          2   \n",
       "   2                 f                   10                         10   \n",
       "   3                 f                   10                         10   \n",
       "   4                 f                    2                          2   \n",
       "\n",
       "     host_has_profile_pic host_identity_verified neighbourhood_cleansed  \\\n",
       "sf 0                    t                      t       Western Addition   \n",
       "   1                    t                      t         Bernal Heights   \n",
       "   2                    t                      t         Haight Ashbury   \n",
       "   3                    t                      t         Haight Ashbury   \n",
       "   4                    t                      t       Western Addition   \n",
       "\n",
       "          ...       review_scores_value jurisdiction_names instant_bookable  \\\n",
       "sf 0      ...                      10.0  {\"SAN FRANCISCO\"}                f   \n",
       "   1      ...                       9.0  {\"SAN FRANCISCO\"}                f   \n",
       "   2      ...                       8.0  {\"SAN FRANCISCO\"}                f   \n",
       "   3      ...                       9.0  {\"SAN FRANCISCO\"}                f   \n",
       "   4      ...                      10.0  {\"SAN FRANCISCO\"}                f   \n",
       "\n",
       "     is_business_travel_ready          cancellation_policy  \\\n",
       "sf 0                        f                     moderate   \n",
       "   1                        f  strict_14_with_grace_period   \n",
       "   2                        f  strict_14_with_grace_period   \n",
       "   3                        f  strict_14_with_grace_period   \n",
       "   4                        f  strict_14_with_grace_period   \n",
       "\n",
       "      require_guest_profile_picture  require_guest_phone_verification  \\\n",
       "sf 0                              f                                 f   \n",
       "   1                              f                                 f   \n",
       "   2                              f                                 f   \n",
       "   3                              f                                 f   \n",
       "   4                              t                                 t   \n",
       "\n",
       "      calculated_host_listings_count reviews_per_month       district  \n",
       "sf 0                               1              1.38  San Francisco  \n",
       "   1                               1              0.99  San Francisco  \n",
       "   2                               9              0.16  San Francisco  \n",
       "   3                               9              0.15  San Francisco  \n",
       "   4                               2              0.24  San Francisco  \n",
       "\n",
       "[5 rows x 43 columns]"
      ]
     },
     "execution_count": 10,
     "metadata": {},
     "output_type": "execute_result"
    }
   ],
   "source": [
    "# Columns removed/dropped:\n",
    "# Removed columns with >90% null values: 'experience_offered', 'host_acceptance_rate', \\ \n",
    "#'neighbourhood_group_cleansed', 'square_feet'\n",
    "# Removed 'jurisdiction_names', 'neighbourhood', kept'neighbourhood_cleansed'\n",
    "# Noted'city' and 'smart location' provide duplicate information, removed 'smart location'\n",
    "# Removed 'Country code' and 'country', as all instances locate within US\n",
    "\n",
    "\n",
    "columns_to_keep =[\n",
    "       'id','host_since','host_response_time', 'host_response_rate',\n",
    "        'host_is_superhost', 'host_listings_count',\n",
    "       'host_total_listings_count', \n",
    "       'host_has_profile_pic', 'host_identity_verified', \n",
    "        'neighbourhood_cleansed',\n",
    "       'city', \n",
    "       'is_location_exact', 'property_type', 'room_type', 'accommodates',\n",
    "       'bathrooms', 'bedrooms', 'beds', 'bed_type','amenities', \n",
    "       'price', 'security_deposit',\n",
    "       'cleaning_fee', 'guests_included',  'minimum_nights','number_of_reviews',\n",
    "       'first_review', 'review_scores_rating',\n",
    "       'review_scores_accuracy', 'review_scores_cleanliness',\n",
    "       'review_scores_checkin', 'review_scores_communication',\n",
    "       'review_scores_location', 'review_scores_value', 'jurisdiction_names', 'instant_bookable',\n",
    "       'is_business_travel_ready', 'cancellation_policy',\n",
    "       'require_guest_profile_picture', 'require_guest_phone_verification',\n",
    "       'calculated_host_listings_count', 'reviews_per_month', 'district']\n",
    "\n",
    "\n",
    "df_listings_smaller = df_listings[columns_to_keep]\n",
    "display ('Dimensions after drilling down: ' ,df_listings_smaller.shape)\n",
    "df_listings_smaller.head()"
   ]
  },
  {
   "cell_type": "markdown",
   "metadata": {},
   "source": [
    "## Data Format"
   ]
  },
  {
   "cell_type": "code",
   "execution_count": 11,
   "metadata": {
    "ExecuteTime": {
     "end_time": "2019-02-18T02:51:11.616478Z",
     "start_time": "2019-02-18T02:51:11.611729Z"
    }
   },
   "outputs": [],
   "source": [
    "def apply2df(df, column_names, function):\n",
    "    \"\"\"\n",
    "    This enables various functions to be applied to multiple columns of dataframe.\n",
    "    Input: dataframe, columns to apply function to, function\n",
    "    Return: updated dataframe\n",
    "    \"\"\"\n",
    "    for column in column_names:\n",
    "        df[column] = df[column].apply(lambda x: function(x))\n",
    "    return df"
   ]
  },
  {
   "cell_type": "markdown",
   "metadata": {
    "ExecuteTime": {
     "end_time": "2019-02-17T08:45:45.634174Z",
     "start_time": "2019-02-17T08:45:45.630559Z"
    }
   },
   "source": [
    "### Percentage"
   ]
  },
  {
   "cell_type": "code",
   "execution_count": 12,
   "metadata": {
    "ExecuteTime": {
     "end_time": "2019-02-18T02:51:11.624896Z",
     "start_time": "2019-02-18T02:51:11.619696Z"
    }
   },
   "outputs": [],
   "source": [
    "# Noted percentage features are formated as strings, and need to be converted\n",
    "# to float format\n",
    "\n",
    "def percent2float(string):\n",
    "    \"\"\"\n",
    "    Convert strings with percentage sign to float\n",
    "    \"\"\"\n",
    "    percentage = float(str(string).strip('%'))/100.0\n",
    "    return percentage"
   ]
  },
  {
   "cell_type": "code",
   "execution_count": 13,
   "metadata": {
    "ExecuteTime": {
     "end_time": "2019-02-18T02:51:11.639641Z",
     "start_time": "2019-02-18T02:51:11.628645Z"
    }
   },
   "outputs": [
    {
     "name": "stdout",
     "output_type": "stream",
     "text": [
      "Type:  <class 'str'>\n"
     ]
    },
    {
     "data": {
      "text/plain": [
       "sf  0     92%\n",
       "    1    100%\n",
       "    2    100%\n",
       "    3    100%\n",
       "    4    100%\n",
       "Name: host_response_rate, dtype: object"
      ]
     },
     "execution_count": 13,
     "metadata": {},
     "output_type": "execute_result"
    }
   ],
   "source": [
    "print ('Type: ', type(df_listings_smaller.host_response_rate[0]))\n",
    "df_listings_smaller.host_response_rate[0:5]"
   ]
  },
  {
   "cell_type": "code",
   "execution_count": 14,
   "metadata": {
    "ExecuteTime": {
     "end_time": "2019-02-18T02:51:11.721318Z",
     "start_time": "2019-02-18T02:51:11.642393Z"
    }
   },
   "outputs": [],
   "source": [
    "# Converted percentage features to float format\n",
    "\n",
    "percents = ['host_response_rate']\n",
    "\n",
    "df_listings_smaller = apply2df(df_listings_smaller, percents, percent2float)"
   ]
  },
  {
   "cell_type": "code",
   "execution_count": 15,
   "metadata": {
    "ExecuteTime": {
     "end_time": "2019-02-18T02:51:11.730755Z",
     "start_time": "2019-02-18T02:51:11.723587Z"
    }
   },
   "outputs": [
    {
     "data": {
      "text/plain": [
       "sf  0    0.92\n",
       "    1    1.00\n",
       "    2    1.00\n",
       "    3    1.00\n",
       "    4    1.00\n",
       "Name: host_response_rate, dtype: float64"
      ]
     },
     "execution_count": 15,
     "metadata": {},
     "output_type": "execute_result"
    }
   ],
   "source": [
    "df_listings_smaller.host_response_rate[0:5]"
   ]
  },
  {
   "cell_type": "markdown",
   "metadata": {
    "ExecuteTime": {
     "end_time": "2019-02-17T08:53:41.153251Z",
     "start_time": "2019-02-17T08:53:41.150357Z"
    }
   },
   "source": [
    "### Currency"
   ]
  },
  {
   "cell_type": "code",
   "execution_count": 16,
   "metadata": {
    "ExecuteTime": {
     "end_time": "2019-02-18T02:51:11.737550Z",
     "start_time": "2019-02-18T02:51:11.733322Z"
    }
   },
   "outputs": [],
   "source": [
    "# Noted currency features are formated as strings, and need to be converted \n",
    "# to float format\n",
    "\n",
    "def currency2float(string):\n",
    "    \"\"\"\n",
    "    Convert currency to float\n",
    "    \"\"\"\n",
    "    string = str(string).strip(' ').replace(' \\\\n', '')\n",
    "    float_ = float(string.strip('$').replace(',',''))\n",
    "    return float_"
   ]
  },
  {
   "cell_type": "code",
   "execution_count": 17,
   "metadata": {
    "ExecuteTime": {
     "end_time": "2019-02-18T02:51:11.759832Z",
     "start_time": "2019-02-18T02:51:11.740661Z"
    }
   },
   "outputs": [
    {
     "name": "stdout",
     "output_type": "stream",
     "text": [
      "Type of price:  <class 'str'>\n"
     ]
    },
    {
     "data": {
      "text/plain": [
       "sf  0    $170.00 \n",
       "    1    $235.00 \n",
       "    2     $65.00 \n",
       "    3     $65.00 \n",
       "    4    $675.00 \n",
       "Name: price, dtype: object"
      ]
     },
     "metadata": {},
     "output_type": "display_data"
    },
    {
     "name": "stdout",
     "output_type": "stream",
     "text": [
      "Type of security deposit:  <class 'str'>\n"
     ]
    },
    {
     "data": {
      "text/plain": [
       "sf  0    $100.00 \n",
       "    1         NaN\n",
       "    2    $200.00 \n",
       "    3    $200.00 \n",
       "    4      $0.00 \n",
       "Name: security_deposit, dtype: object"
      ]
     },
     "metadata": {},
     "output_type": "display_data"
    },
    {
     "name": "stdout",
     "output_type": "stream",
     "text": [
      "Type of security deposit:  <class 'str'>\n"
     ]
    },
    {
     "data": {
      "text/plain": [
       "sf  0    $100.00 \n",
       "    1    $100.00 \n",
       "    2     $50.00 \n",
       "    3     $50.00 \n",
       "    4    $225.00 \n",
       "Name: cleaning_fee, dtype: object"
      ]
     },
     "metadata": {},
     "output_type": "display_data"
    }
   ],
   "source": [
    "print ('Type of price: ', type(df_listings_smaller.price[0]))\n",
    "display (df_listings_smaller.price[0:5])\n",
    "\n",
    "print ('Type of security deposit: ', type(df_listings_smaller.security_deposit[0]))\n",
    "display(df_listings_smaller.security_deposit[0:5])\n",
    "\n",
    "print ('Type of security deposit: ', type(df_listings_smaller.cleaning_fee[0]))\n",
    "display(df_listings_smaller.cleaning_fee[0:5])"
   ]
  },
  {
   "cell_type": "code",
   "execution_count": 18,
   "metadata": {
    "ExecuteTime": {
     "end_time": "2019-02-18T02:51:12.003426Z",
     "start_time": "2019-02-18T02:51:11.763067Z"
    }
   },
   "outputs": [],
   "source": [
    "# Converted currency features to float\n",
    "\n",
    "curriencies = ['price', 'security_deposit', 'cleaning_fee']\n",
    "\n",
    "df_listings_smaller = apply2df(df_listings_smaller, curriencies, currency2float)"
   ]
  },
  {
   "cell_type": "markdown",
   "metadata": {},
   "source": [
    "### Timestamp"
   ]
  },
  {
   "cell_type": "code",
   "execution_count": 19,
   "metadata": {
    "ExecuteTime": {
     "end_time": "2019-02-18T02:51:12.010892Z",
     "start_time": "2019-02-18T02:51:12.006465Z"
    }
   },
   "outputs": [],
   "source": [
    "# This is to convert timestamp features to duration\n",
    "# Duration is calculated by: \n",
    "# number of years between original timestamp and current year\n",
    "\n",
    "def duration(starting_time):\n",
    "    \"\"\"\n",
    "    Calculate duration or number of years between current year and starting_time\n",
    "    \"\"\"\n",
    "    starting_year = starting_time.year\n",
    "    current_year = datetime.now().year\n",
    "    duration = current_year - starting_year + 1\n",
    "    \n",
    "    return duration"
   ]
  },
  {
   "cell_type": "code",
   "execution_count": 20,
   "metadata": {
    "ExecuteTime": {
     "end_time": "2019-02-18T02:51:12.257209Z",
     "start_time": "2019-02-18T02:51:12.014107Z"
    }
   },
   "outputs": [],
   "source": [
    "# Converted timestamp features to duration\n",
    "\n",
    "timestamps = ['host_since', 'first_review']\n",
    "\n",
    "df_listings_smaller = apply2df(df_listings_smaller, timestamps, duration)"
   ]
  },
  {
   "cell_type": "code",
   "execution_count": 21,
   "metadata": {
    "ExecuteTime": {
     "end_time": "2019-02-18T02:51:12.330291Z",
     "start_time": "2019-02-18T02:51:12.259689Z"
    }
   },
   "outputs": [],
   "source": [
    "# Rename columns to reflect duration nature\n",
    "\n",
    "mapper = {'host_since' : 'host_yrs', 'first_review': 'yrs_since_1st_review'}\n",
    "\n",
    "df_listings_smaller.rename(columns=mapper, inplace=True)"
   ]
  },
  {
   "cell_type": "code",
   "execution_count": 22,
   "metadata": {
    "ExecuteTime": {
     "end_time": "2019-02-18T02:51:12.339981Z",
     "start_time": "2019-02-18T02:51:12.333131Z"
    }
   },
   "outputs": [
    {
     "data": {
      "text/plain": [
       "Index(['id', 'host_yrs', 'host_response_time', 'host_response_rate',\n",
       "       'host_is_superhost', 'host_listings_count', 'host_total_listings_count',\n",
       "       'host_has_profile_pic', 'host_identity_verified',\n",
       "       'neighbourhood_cleansed', 'city', 'is_location_exact', 'property_type',\n",
       "       'room_type', 'accommodates', 'bathrooms', 'bedrooms', 'beds',\n",
       "       'bed_type', 'amenities', 'price', 'security_deposit', 'cleaning_fee',\n",
       "       'guests_included', 'minimum_nights', 'number_of_reviews',\n",
       "       'yrs_since_1st_review', 'review_scores_rating',\n",
       "       'review_scores_accuracy', 'review_scores_cleanliness',\n",
       "       'review_scores_checkin', 'review_scores_communication',\n",
       "       'review_scores_location', 'review_scores_value', 'jurisdiction_names',\n",
       "       'instant_bookable', 'is_business_travel_ready', 'cancellation_policy',\n",
       "       'require_guest_profile_picture', 'require_guest_phone_verification',\n",
       "       'calculated_host_listings_count', 'reviews_per_month', 'district'],\n",
       "      dtype='object')"
      ]
     },
     "execution_count": 22,
     "metadata": {},
     "output_type": "execute_result"
    }
   ],
   "source": [
    "df_listings_smaller.columns"
   ]
  },
  {
   "cell_type": "markdown",
   "metadata": {
    "ExecuteTime": {
     "end_time": "2019-02-17T07:25:29.888261Z",
     "start_time": "2019-02-17T07:25:29.885574Z"
    }
   },
   "source": [
    "## Outliers"
   ]
  },
  {
   "cell_type": "code",
   "execution_count": 23,
   "metadata": {
    "ExecuteTime": {
     "end_time": "2019-02-18T02:51:12.358465Z",
     "start_time": "2019-02-18T02:51:12.343482Z"
    }
   },
   "outputs": [
    {
     "data": {
      "text/plain": [
       "count    15199.000000\n",
       "mean       182.285019\n",
       "std        279.583024\n",
       "min          0.000000\n",
       "5%          40.000000\n",
       "10%         50.000000\n",
       "25%         75.000000\n",
       "50%        124.000000\n",
       "75%        200.000000\n",
       "90%        325.000000\n",
       "95%        480.000000\n",
       "max      10000.000000\n",
       "Name: price, dtype: float64"
      ]
     },
     "execution_count": 23,
     "metadata": {},
     "output_type": "execute_result"
    }
   ],
   "source": [
    "df_listings_smaller.price.describe(percentiles=[.05, .10, .25, .50, .75, .90, .95])"
   ]
  },
  {
   "cell_type": "code",
   "execution_count": 24,
   "metadata": {
    "ExecuteTime": {
     "end_time": "2019-02-18T02:51:12.374718Z",
     "start_time": "2019-02-18T02:51:12.360933Z"
    }
   },
   "outputs": [
    {
     "data": {
      "text/plain": [
       "(13789, 43)"
      ]
     },
     "metadata": {},
     "output_type": "display_data"
    }
   ],
   "source": [
    "# Outliers removal. Kept only values between 5% and 95% percentiles\n",
    "\n",
    "five_percentitle = np.percentile(df_listings_smaller['price'], 5)\n",
    "ninety_five_percentitle = np.percentile(df_listings_smaller['price'], 95)\n",
    "\n",
    "df_listings_smaller = df_listings_smaller[\n",
    "                     (df_listings_smaller['price']<=ninety_five_percentitle) \n",
    "                      & (df_listings_smaller['price']>=five_percentitle)]\n",
    "\n",
    "display(df_listings_smaller.shape)"
   ]
  },
  {
   "cell_type": "code",
   "execution_count": 25,
   "metadata": {
    "ExecuteTime": {
     "end_time": "2019-02-18T02:51:12.388749Z",
     "start_time": "2019-02-18T02:51:12.377938Z"
    }
   },
   "outputs": [
    {
     "data": {
      "text/plain": [
       "count    13789.000000\n",
       "mean       146.076945\n",
       "std         89.295031\n",
       "min         40.000000\n",
       "25%         79.000000\n",
       "50%        121.000000\n",
       "75%        190.000000\n",
       "max        480.000000\n",
       "Name: price, dtype: float64"
      ]
     },
     "execution_count": 25,
     "metadata": {},
     "output_type": "execute_result"
    }
   ],
   "source": [
    "df_listings_smaller.price.describe()"
   ]
  },
  {
   "cell_type": "code",
   "execution_count": 26,
   "metadata": {
    "ExecuteTime": {
     "end_time": "2019-02-18T02:51:12.588004Z",
     "start_time": "2019-02-18T02:51:12.391710Z"
    }
   },
   "outputs": [
    {
     "data": {
      "text/plain": [
       "<matplotlib.axes._subplots.AxesSubplot at 0x1c1e4c1208>"
      ]
     },
     "execution_count": 26,
     "metadata": {},
     "output_type": "execute_result"
    },
    {
     "data": {
      "image/png": "[encoded data removed]",
      "text/plain": [
       "<Figure size 576x396 with 1 Axes>"
      ]
     },
     "metadata": {},
     "output_type": "display_data"
    }
   ],
   "source": [
    "df_listings_smaller.price.hist()"
   ]
  },
  {
   "cell_type": "markdown",
   "metadata": {},
   "source": [
    "## Null Values"
   ]
  },
  {
   "cell_type": "code",
   "execution_count": 27,
   "metadata": {
    "ExecuteTime": {
     "end_time": "2019-02-18T02:51:12.624858Z",
     "start_time": "2019-02-18T02:51:12.591982Z"
    }
   },
   "outputs": [
    {
     "data": {
      "text/plain": [
       "id                                     0\n",
       "host_yrs                               0\n",
       "host_response_time                  1579\n",
       "host_response_rate                  1579\n",
       "host_is_superhost                      0\n",
       "host_listings_count                    0\n",
       "host_total_listings_count              0\n",
       "host_has_profile_pic                   0\n",
       "host_identity_verified                 0\n",
       "neighbourhood_cleansed                 0\n",
       "city                                  14\n",
       "is_location_exact                      0\n",
       "property_type                          0\n",
       "room_type                              0\n",
       "accommodates                           0\n",
       "bathrooms                             28\n",
       "bedrooms                               4\n",
       "beds                                  15\n",
       "bed_type                               0\n",
       "amenities                              0\n",
       "price                                  0\n",
       "security_deposit                    3367\n",
       "cleaning_fee                        1849\n",
       "guests_included                        0\n",
       "minimum_nights                         0\n",
       "number_of_reviews                      0\n",
       "yrs_since_1st_review                2285\n",
       "review_scores_rating                2388\n",
       "review_scores_accuracy              2394\n",
       "review_scores_cleanliness           2391\n",
       "review_scores_checkin               2401\n",
       "review_scores_communication         2394\n",
       "review_scores_location              2398\n",
       "review_scores_value                 2400\n",
       "jurisdiction_names                  1792\n",
       "instant_bookable                       0\n",
       "is_business_travel_ready               0\n",
       "cancellation_policy                    0\n",
       "require_guest_profile_picture          0\n",
       "require_guest_phone_verification       0\n",
       "calculated_host_listings_count         0\n",
       "reviews_per_month                   2285\n",
       "district                               0\n",
       "dtype: int64"
      ]
     },
     "execution_count": 27,
     "metadata": {},
     "output_type": "execute_result"
    }
   ],
   "source": [
    "# Checked for null values\n",
    "\n",
    "df_listings_smaller.isnull().sum()"
   ]
  },
  {
   "cell_type": "code",
   "execution_count": 28,
   "metadata": {
    "ExecuteTime": {
     "end_time": "2019-02-18T02:51:12.751708Z",
     "start_time": "2019-02-18T02:51:12.630351Z"
    }
   },
   "outputs": [],
   "source": [
    "# Filled null values with average\n",
    "\n",
    "df_listings_smaller['security_deposit'].fillna(\n",
    "                    value=df_listings_smaller['security_deposit'].mean(),\n",
    "                    inplace=True)\n",
    "\n",
    "df_listings_smaller['cleaning_fee'].fillna(\n",
    "                    value=df_listings_smaller['cleaning_fee'].mean(),\n",
    "                    inplace=True)"
   ]
  },
  {
   "cell_type": "code",
   "execution_count": 29,
   "metadata": {
    "ExecuteTime": {
     "end_time": "2019-02-18T02:51:12.803419Z",
     "start_time": "2019-02-18T02:51:12.754619Z"
    }
   },
   "outputs": [
    {
     "data": {
      "text/plain": [
       "'Dimensions after dropping null values: '"
      ]
     },
     "metadata": {},
     "output_type": "display_data"
    },
    {
     "data": {
      "text/plain": [
       "(9062, 43)"
      ]
     },
     "metadata": {},
     "output_type": "display_data"
    },
    {
     "data": {
      "text/plain": [
       "id                                  0\n",
       "host_yrs                            0\n",
       "host_response_time                  0\n",
       "host_response_rate                  0\n",
       "host_is_superhost                   0\n",
       "host_listings_count                 0\n",
       "host_total_listings_count           0\n",
       "host_has_profile_pic                0\n",
       "host_identity_verified              0\n",
       "neighbourhood_cleansed              0\n",
       "city                                0\n",
       "is_location_exact                   0\n",
       "property_type                       0\n",
       "room_type                           0\n",
       "accommodates                        0\n",
       "bathrooms                           0\n",
       "bedrooms                            0\n",
       "beds                                0\n",
       "bed_type                            0\n",
       "amenities                           0\n",
       "price                               0\n",
       "security_deposit                    0\n",
       "cleaning_fee                        0\n",
       "guests_included                     0\n",
       "minimum_nights                      0\n",
       "number_of_reviews                   0\n",
       "yrs_since_1st_review                0\n",
       "review_scores_rating                0\n",
       "review_scores_accuracy              0\n",
       "review_scores_cleanliness           0\n",
       "review_scores_checkin               0\n",
       "review_scores_communication         0\n",
       "review_scores_location              0\n",
       "review_scores_value                 0\n",
       "jurisdiction_names                  0\n",
       "instant_bookable                    0\n",
       "is_business_travel_ready            0\n",
       "cancellation_policy                 0\n",
       "require_guest_profile_picture       0\n",
       "require_guest_phone_verification    0\n",
       "calculated_host_listings_count      0\n",
       "reviews_per_month                   0\n",
       "district                            0\n",
       "dtype: int64"
      ]
     },
     "execution_count": 29,
     "metadata": {},
     "output_type": "execute_result"
    }
   ],
   "source": [
    "# Dropped remaining null values\n",
    "\n",
    "df_listings_clean = df_listings_smaller.dropna()\n",
    "\n",
    "display('Dimensions after dropping null values: ', df_listings_clean.shape)\n",
    "df_listings_clean.isnull().sum()"
   ]
  },
  {
   "cell_type": "code",
   "execution_count": 30,
   "metadata": {
    "ExecuteTime": {
     "end_time": "2019-02-18T02:51:12.896299Z",
     "start_time": "2019-02-18T02:51:12.806362Z"
    }
   },
   "outputs": [],
   "source": [
    "# Removed special characters within jurisdiction\n",
    "# Created a separate dataframe to keep track of juristiction info\n",
    "# The dataframe will be used in later stage\n",
    "\n",
    "df_listings_clean['jurisdiction_names'] = df_listings_clean['jurisdiction_names']  \\\n",
    "                                            .str.replace('[^\\w\\s,]', '')\n",
    "df_jurisdiction = df_listings_clean.loc[:, ['id', 'jurisdiction_names']]"
   ]
  },
  {
   "cell_type": "markdown",
   "metadata": {
    "ExecuteTime": {
     "end_time": "2019-02-17T07:30:53.891861Z",
     "start_time": "2019-02-17T07:30:53.889164Z"
    }
   },
   "source": [
    "## Categorical Data"
   ]
  },
  {
   "cell_type": "code",
   "execution_count": 31,
   "metadata": {
    "ExecuteTime": {
     "end_time": "2019-02-18T02:51:12.938513Z",
     "start_time": "2019-02-18T02:51:12.898811Z"
    }
   },
   "outputs": [
    {
     "name": "stdout",
     "output_type": "stream",
     "text": [
      "Categorical data dimensions:  17\n"
     ]
    },
    {
     "data": {
      "text/html": [
       "<div>\n",
       "<style scoped>\n",
       "    .dataframe tbody tr th:only-of-type {\n",
       "        vertical-align: middle;\n",
       "    }\n",
       "\n",
       "    .dataframe tbody tr th {\n",
       "        vertical-align: top;\n",
       "    }\n",
       "\n",
       "    .dataframe thead th {\n",
       "        text-align: right;\n",
       "    }\n",
       "</style>\n",
       "<table border=\"1\" class=\"dataframe\">\n",
       "  <thead>\n",
       "    <tr style=\"text-align: right;\">\n",
       "      <th></th>\n",
       "      <th></th>\n",
       "      <th>host_response_time</th>\n",
       "      <th>host_is_superhost</th>\n",
       "      <th>host_has_profile_pic</th>\n",
       "      <th>host_identity_verified</th>\n",
       "      <th>neighbourhood_cleansed</th>\n",
       "      <th>city</th>\n",
       "      <th>is_location_exact</th>\n",
       "      <th>property_type</th>\n",
       "      <th>room_type</th>\n",
       "      <th>bed_type</th>\n",
       "      <th>jurisdiction_names</th>\n",
       "      <th>instant_bookable</th>\n",
       "      <th>is_business_travel_ready</th>\n",
       "      <th>cancellation_policy</th>\n",
       "      <th>require_guest_profile_picture</th>\n",
       "      <th>require_guest_phone_verification</th>\n",
       "      <th>district</th>\n",
       "    </tr>\n",
       "  </thead>\n",
       "  <tbody>\n",
       "    <tr>\n",
       "      <th rowspan=\"5\" valign=\"top\">sf</th>\n",
       "      <th>0</th>\n",
       "      <td>within an hour</td>\n",
       "      <td>t</td>\n",
       "      <td>t</td>\n",
       "      <td>t</td>\n",
       "      <td>Western Addition</td>\n",
       "      <td>San Francisco</td>\n",
       "      <td>t</td>\n",
       "      <td>Apartment</td>\n",
       "      <td>Entire home/apt</td>\n",
       "      <td>Real Bed</td>\n",
       "      <td>SAN FRANCISCO</td>\n",
       "      <td>f</td>\n",
       "      <td>f</td>\n",
       "      <td>moderate</td>\n",
       "      <td>f</td>\n",
       "      <td>f</td>\n",
       "      <td>San Francisco</td>\n",
       "    </tr>\n",
       "    <tr>\n",
       "      <th>1</th>\n",
       "      <td>within an hour</td>\n",
       "      <td>f</td>\n",
       "      <td>t</td>\n",
       "      <td>t</td>\n",
       "      <td>Bernal Heights</td>\n",
       "      <td>San Francisco</td>\n",
       "      <td>t</td>\n",
       "      <td>Apartment</td>\n",
       "      <td>Entire home/apt</td>\n",
       "      <td>Real Bed</td>\n",
       "      <td>SAN FRANCISCO</td>\n",
       "      <td>f</td>\n",
       "      <td>f</td>\n",
       "      <td>strict_14_with_grace_period</td>\n",
       "      <td>f</td>\n",
       "      <td>f</td>\n",
       "      <td>San Francisco</td>\n",
       "    </tr>\n",
       "    <tr>\n",
       "      <th>2</th>\n",
       "      <td>within a few hours</td>\n",
       "      <td>f</td>\n",
       "      <td>t</td>\n",
       "      <td>t</td>\n",
       "      <td>Haight Ashbury</td>\n",
       "      <td>San Francisco</td>\n",
       "      <td>t</td>\n",
       "      <td>Apartment</td>\n",
       "      <td>Private room</td>\n",
       "      <td>Real Bed</td>\n",
       "      <td>SAN FRANCISCO</td>\n",
       "      <td>f</td>\n",
       "      <td>f</td>\n",
       "      <td>strict_14_with_grace_period</td>\n",
       "      <td>f</td>\n",
       "      <td>f</td>\n",
       "      <td>San Francisco</td>\n",
       "    </tr>\n",
       "    <tr>\n",
       "      <th>3</th>\n",
       "      <td>within a few hours</td>\n",
       "      <td>f</td>\n",
       "      <td>t</td>\n",
       "      <td>t</td>\n",
       "      <td>Haight Ashbury</td>\n",
       "      <td>San Francisco</td>\n",
       "      <td>t</td>\n",
       "      <td>Apartment</td>\n",
       "      <td>Private room</td>\n",
       "      <td>Real Bed</td>\n",
       "      <td>SAN FRANCISCO</td>\n",
       "      <td>f</td>\n",
       "      <td>f</td>\n",
       "      <td>strict_14_with_grace_period</td>\n",
       "      <td>f</td>\n",
       "      <td>f</td>\n",
       "      <td>San Francisco</td>\n",
       "    </tr>\n",
       "    <tr>\n",
       "      <th>5</th>\n",
       "      <td>within a day</td>\n",
       "      <td>f</td>\n",
       "      <td>t</td>\n",
       "      <td>f</td>\n",
       "      <td>Western Addition</td>\n",
       "      <td>San Francisco</td>\n",
       "      <td>t</td>\n",
       "      <td>Apartment</td>\n",
       "      <td>Entire home/apt</td>\n",
       "      <td>Real Bed</td>\n",
       "      <td>SAN FRANCISCO</td>\n",
       "      <td>f</td>\n",
       "      <td>f</td>\n",
       "      <td>moderate</td>\n",
       "      <td>f</td>\n",
       "      <td>f</td>\n",
       "      <td>San Francisco</td>\n",
       "    </tr>\n",
       "  </tbody>\n",
       "</table>\n",
       "</div>"
      ],
      "text/plain": [
       "      host_response_time host_is_superhost host_has_profile_pic  \\\n",
       "sf 0      within an hour                 t                    t   \n",
       "   1      within an hour                 f                    t   \n",
       "   2  within a few hours                 f                    t   \n",
       "   3  within a few hours                 f                    t   \n",
       "   5        within a day                 f                    t   \n",
       "\n",
       "     host_identity_verified neighbourhood_cleansed           city  \\\n",
       "sf 0                      t       Western Addition  San Francisco   \n",
       "   1                      t         Bernal Heights  San Francisco   \n",
       "   2                      t         Haight Ashbury  San Francisco   \n",
       "   3                      t         Haight Ashbury  San Francisco   \n",
       "   5                      f       Western Addition  San Francisco   \n",
       "\n",
       "     is_location_exact property_type        room_type  bed_type  \\\n",
       "sf 0                 t     Apartment  Entire home/apt  Real Bed   \n",
       "   1                 t     Apartment  Entire home/apt  Real Bed   \n",
       "   2                 t     Apartment     Private room  Real Bed   \n",
       "   3                 t     Apartment     Private room  Real Bed   \n",
       "   5                 t     Apartment  Entire home/apt  Real Bed   \n",
       "\n",
       "     jurisdiction_names instant_bookable is_business_travel_ready  \\\n",
       "sf 0      SAN FRANCISCO                f                        f   \n",
       "   1      SAN FRANCISCO                f                        f   \n",
       "   2      SAN FRANCISCO                f                        f   \n",
       "   3      SAN FRANCISCO                f                        f   \n",
       "   5      SAN FRANCISCO                f                        f   \n",
       "\n",
       "              cancellation_policy require_guest_profile_picture  \\\n",
       "sf 0                     moderate                             f   \n",
       "   1  strict_14_with_grace_period                             f   \n",
       "   2  strict_14_with_grace_period                             f   \n",
       "   3  strict_14_with_grace_period                             f   \n",
       "   5                     moderate                             f   \n",
       "\n",
       "     require_guest_phone_verification       district  \n",
       "sf 0                                f  San Francisco  \n",
       "   1                                f  San Francisco  \n",
       "   2                                f  San Francisco  \n",
       "   3                                f  San Francisco  \n",
       "   5                                f  San Francisco  "
      ]
     },
     "execution_count": 31,
     "metadata": {},
     "output_type": "execute_result"
    }
   ],
   "source": [
    "# Selected categorical variables\n",
    "# Amenities feature contains a long list of amenties and will be handled separately\n",
    "\n",
    "categorical_variables = list(df_listings_clean\n",
    "                             .select_dtypes(include=['object']).columns)\n",
    "categorical_variables.remove('amenities')\n",
    "\n",
    "print ('Categorical data dimensions: ', len(categorical_variables))\n",
    "df_listings_clean[categorical_variables].head()"
   ]
  },
  {
   "cell_type": "code",
   "execution_count": 32,
   "metadata": {
    "ExecuteTime": {
     "end_time": "2019-02-18T02:51:12.992140Z",
     "start_time": "2019-02-18T02:51:12.941719Z"
    }
   },
   "outputs": [],
   "source": [
    "# Converted categorical data to dummy variables\n",
    "\n",
    "df_refined = pd.get_dummies(data=df_listings_clean,columns=categorical_variables)"
   ]
  },
  {
   "cell_type": "code",
   "execution_count": 33,
   "metadata": {
    "ExecuteTime": {
     "end_time": "2019-02-18T02:51:13.001352Z",
     "start_time": "2019-02-18T02:51:12.994216Z"
    }
   },
   "outputs": [
    {
     "name": "stdout",
     "output_type": "stream",
     "text": [
      "df_refined dimensions : (9062, 283)\n"
     ]
    },
    {
     "data": {
      "text/plain": [
       "Index(['id', 'host_yrs', 'host_response_rate', 'host_listings_count',\n",
       "       'host_total_listings_count', 'accommodates', 'bathrooms', 'bedrooms',\n",
       "       'beds', 'amenities',\n",
       "       ...\n",
       "       'cancellation_policy_strict_14_with_grace_period',\n",
       "       'cancellation_policy_super_strict_30',\n",
       "       'cancellation_policy_super_strict_60',\n",
       "       'require_guest_profile_picture_f', 'require_guest_profile_picture_t',\n",
       "       'require_guest_phone_verification_f',\n",
       "       'require_guest_phone_verification_t', 'district_Oakland',\n",
       "       'district_San Francisco', 'district_Santa Clara'],\n",
       "      dtype='object', length=283)"
      ]
     },
     "metadata": {},
     "output_type": "display_data"
    }
   ],
   "source": [
    "print('df_refined dimensions :', df_refined.shape)\n",
    "display(df_refined.columns)"
   ]
  },
  {
   "cell_type": "markdown",
   "metadata": {
    "ExecuteTime": {
     "end_time": "2019-02-17T10:32:00.559412Z",
     "start_time": "2019-02-17T10:32:00.556219Z"
    }
   },
   "source": [
    "## Other Feature Engineering"
   ]
  },
  {
   "cell_type": "markdown",
   "metadata": {},
   "source": [
    "### List of Amenities"
   ]
  },
  {
   "cell_type": "code",
   "execution_count": 34,
   "metadata": {
    "ExecuteTime": {
     "end_time": "2019-02-18T02:51:13.179752Z",
     "start_time": "2019-02-18T02:51:13.004460Z"
    }
   },
   "outputs": [],
   "source": [
    "# Removed special characters within amenities\n",
    "\n",
    "df_refined['amenities'] = df_refined['amenities'].str.replace('[^\\w\\s,]', '')"
   ]
  },
  {
   "cell_type": "code",
   "execution_count": 35,
   "metadata": {
    "ExecuteTime": {
     "end_time": "2019-02-18T02:51:13.195624Z",
     "start_time": "2019-02-18T02:51:13.182653Z"
    }
   },
   "outputs": [
    {
     "name": "stdout",
     "output_type": "stream",
     "text": [
      "Original list of amenities: \n"
     ]
    },
    {
     "data": {
      "text/plain": [
       "sf  0    TV,Cable TV,Internet,Wifi,Kitchen,Pets live on...\n",
       "    1    Internet,Wifi,Kitchen,Heating,Familykid friend...\n",
       "    2    TV,Internet,Wifi,Kitchen,Free street parking,H...\n",
       "    3    TV,Internet,Wifi,Kitchen,Free street parking,H...\n",
       "    5    TV,Cable TV,Internet,Wifi,Kitchen,Free parking...\n",
       "Name: amenities, dtype: object"
      ]
     },
     "execution_count": 35,
     "metadata": {},
     "output_type": "execute_result"
    }
   ],
   "source": [
    "# Converted list of amenities to a dataframe\n",
    "\n",
    "print ('Original list of amenities: ')\n",
    "df_refined.amenities.head()"
   ]
  },
  {
   "cell_type": "code",
   "execution_count": 36,
   "metadata": {
    "ExecuteTime": {
     "end_time": "2019-02-18T02:51:18.716939Z",
     "start_time": "2019-02-18T02:51:13.198578Z"
    }
   },
   "outputs": [
    {
     "name": "stdout",
     "output_type": "stream",
     "text": [
      "df_ammenities dimension:  (9062, 182)\n"
     ]
    },
    {
     "data": {
      "text/html": [
       "<div>\n",
       "<style scoped>\n",
       "    .dataframe tbody tr th:only-of-type {\n",
       "        vertical-align: middle;\n",
       "    }\n",
       "\n",
       "    .dataframe tbody tr th {\n",
       "        vertical-align: top;\n",
       "    }\n",
       "\n",
       "    .dataframe thead th {\n",
       "        text-align: right;\n",
       "    }\n",
       "</style>\n",
       "<table border=\"1\" class=\"dataframe\">\n",
       "  <thead>\n",
       "    <tr style=\"text-align: right;\">\n",
       "      <th></th>\n",
       "      <th></th>\n",
       "      <th>amenities_ toilet</th>\n",
       "      <th>amenities_24hour checkin</th>\n",
       "      <th>amenities_Accessibleheight bed</th>\n",
       "      <th>amenities_Accessibleheight toilet</th>\n",
       "      <th>amenities_Air conditioning</th>\n",
       "      <th>amenities_Air purifier</th>\n",
       "      <th>amenities_Amazon Echo</th>\n",
       "      <th>amenities_BBQ grill</th>\n",
       "      <th>amenities_Baby bath</th>\n",
       "      <th>amenities_Baby monitor</th>\n",
       "      <th>...</th>\n",
       "      <th>amenities_Wide clearance to bed</th>\n",
       "      <th>amenities_Wide clearance to shower</th>\n",
       "      <th>amenities_Wide doorway</th>\n",
       "      <th>amenities_Wide entryway</th>\n",
       "      <th>amenities_Wide hallway clearance</th>\n",
       "      <th>amenities_Wifi</th>\n",
       "      <th>amenities_Window guards</th>\n",
       "      <th>amenities_Wine cooler</th>\n",
       "      <th>amenities_translation missing enhosting_amenity_49</th>\n",
       "      <th>amenities_translation missing enhosting_amenity_50</th>\n",
       "    </tr>\n",
       "  </thead>\n",
       "  <tbody>\n",
       "    <tr>\n",
       "      <th rowspan=\"5\" valign=\"top\">sf</th>\n",
       "      <th>0</th>\n",
       "      <td>0</td>\n",
       "      <td>1</td>\n",
       "      <td>0</td>\n",
       "      <td>0</td>\n",
       "      <td>0</td>\n",
       "      <td>0</td>\n",
       "      <td>0</td>\n",
       "      <td>0</td>\n",
       "      <td>0</td>\n",
       "      <td>0</td>\n",
       "      <td>...</td>\n",
       "      <td>0</td>\n",
       "      <td>0</td>\n",
       "      <td>0</td>\n",
       "      <td>0</td>\n",
       "      <td>0</td>\n",
       "      <td>1</td>\n",
       "      <td>0</td>\n",
       "      <td>0</td>\n",
       "      <td>0</td>\n",
       "      <td>0</td>\n",
       "    </tr>\n",
       "    <tr>\n",
       "      <th>1</th>\n",
       "      <td>0</td>\n",
       "      <td>0</td>\n",
       "      <td>0</td>\n",
       "      <td>0</td>\n",
       "      <td>0</td>\n",
       "      <td>0</td>\n",
       "      <td>0</td>\n",
       "      <td>0</td>\n",
       "      <td>0</td>\n",
       "      <td>0</td>\n",
       "      <td>...</td>\n",
       "      <td>0</td>\n",
       "      <td>0</td>\n",
       "      <td>0</td>\n",
       "      <td>0</td>\n",
       "      <td>0</td>\n",
       "      <td>1</td>\n",
       "      <td>0</td>\n",
       "      <td>0</td>\n",
       "      <td>0</td>\n",
       "      <td>0</td>\n",
       "    </tr>\n",
       "    <tr>\n",
       "      <th>2</th>\n",
       "      <td>0</td>\n",
       "      <td>0</td>\n",
       "      <td>0</td>\n",
       "      <td>0</td>\n",
       "      <td>0</td>\n",
       "      <td>0</td>\n",
       "      <td>0</td>\n",
       "      <td>0</td>\n",
       "      <td>0</td>\n",
       "      <td>0</td>\n",
       "      <td>...</td>\n",
       "      <td>0</td>\n",
       "      <td>0</td>\n",
       "      <td>0</td>\n",
       "      <td>0</td>\n",
       "      <td>0</td>\n",
       "      <td>1</td>\n",
       "      <td>0</td>\n",
       "      <td>0</td>\n",
       "      <td>1</td>\n",
       "      <td>1</td>\n",
       "    </tr>\n",
       "    <tr>\n",
       "      <th>3</th>\n",
       "      <td>0</td>\n",
       "      <td>0</td>\n",
       "      <td>0</td>\n",
       "      <td>0</td>\n",
       "      <td>0</td>\n",
       "      <td>0</td>\n",
       "      <td>0</td>\n",
       "      <td>0</td>\n",
       "      <td>0</td>\n",
       "      <td>0</td>\n",
       "      <td>...</td>\n",
       "      <td>0</td>\n",
       "      <td>0</td>\n",
       "      <td>0</td>\n",
       "      <td>0</td>\n",
       "      <td>0</td>\n",
       "      <td>1</td>\n",
       "      <td>0</td>\n",
       "      <td>0</td>\n",
       "      <td>0</td>\n",
       "      <td>0</td>\n",
       "    </tr>\n",
       "    <tr>\n",
       "      <th>5</th>\n",
       "      <td>0</td>\n",
       "      <td>0</td>\n",
       "      <td>0</td>\n",
       "      <td>0</td>\n",
       "      <td>0</td>\n",
       "      <td>0</td>\n",
       "      <td>0</td>\n",
       "      <td>1</td>\n",
       "      <td>0</td>\n",
       "      <td>0</td>\n",
       "      <td>...</td>\n",
       "      <td>0</td>\n",
       "      <td>0</td>\n",
       "      <td>0</td>\n",
       "      <td>0</td>\n",
       "      <td>0</td>\n",
       "      <td>1</td>\n",
       "      <td>0</td>\n",
       "      <td>0</td>\n",
       "      <td>0</td>\n",
       "      <td>0</td>\n",
       "    </tr>\n",
       "  </tbody>\n",
       "</table>\n",
       "<p>5 rows × 182 columns</p>\n",
       "</div>"
      ],
      "text/plain": [
       "      amenities_ toilet  amenities_24hour checkin  \\\n",
       "sf 0                  0                         1   \n",
       "   1                  0                         0   \n",
       "   2                  0                         0   \n",
       "   3                  0                         0   \n",
       "   5                  0                         0   \n",
       "\n",
       "      amenities_Accessibleheight bed  amenities_Accessibleheight toilet  \\\n",
       "sf 0                               0                                  0   \n",
       "   1                               0                                  0   \n",
       "   2                               0                                  0   \n",
       "   3                               0                                  0   \n",
       "   5                               0                                  0   \n",
       "\n",
       "      amenities_Air conditioning  amenities_Air purifier  \\\n",
       "sf 0                           0                       0   \n",
       "   1                           0                       0   \n",
       "   2                           0                       0   \n",
       "   3                           0                       0   \n",
       "   5                           0                       0   \n",
       "\n",
       "      amenities_Amazon Echo  amenities_BBQ grill  amenities_Baby bath  \\\n",
       "sf 0                      0                    0                    0   \n",
       "   1                      0                    0                    0   \n",
       "   2                      0                    0                    0   \n",
       "   3                      0                    0                    0   \n",
       "   5                      0                    1                    0   \n",
       "\n",
       "      amenities_Baby monitor  \\\n",
       "sf 0                       0   \n",
       "   1                       0   \n",
       "   2                       0   \n",
       "   3                       0   \n",
       "   5                       0   \n",
       "\n",
       "                             ...                          \\\n",
       "sf 0                         ...                           \n",
       "   1                         ...                           \n",
       "   2                         ...                           \n",
       "   3                         ...                           \n",
       "   5                         ...                           \n",
       "\n",
       "      amenities_Wide clearance to bed  amenities_Wide clearance to shower  \\\n",
       "sf 0                                0                                   0   \n",
       "   1                                0                                   0   \n",
       "   2                                0                                   0   \n",
       "   3                                0                                   0   \n",
       "   5                                0                                   0   \n",
       "\n",
       "      amenities_Wide doorway  amenities_Wide entryway  \\\n",
       "sf 0                       0                        0   \n",
       "   1                       0                        0   \n",
       "   2                       0                        0   \n",
       "   3                       0                        0   \n",
       "   5                       0                        0   \n",
       "\n",
       "      amenities_Wide hallway clearance  amenities_Wifi  \\\n",
       "sf 0                                 0               1   \n",
       "   1                                 0               1   \n",
       "   2                                 0               1   \n",
       "   3                                 0               1   \n",
       "   5                                 0               1   \n",
       "\n",
       "      amenities_Window guards  amenities_Wine cooler  \\\n",
       "sf 0                        0                      0   \n",
       "   1                        0                      0   \n",
       "   2                        0                      0   \n",
       "   3                        0                      0   \n",
       "   5                        0                      0   \n",
       "\n",
       "      amenities_translation missing enhosting_amenity_49  \\\n",
       "sf 0                                                  0    \n",
       "   1                                                  0    \n",
       "   2                                                  1    \n",
       "   3                                                  0    \n",
       "   5                                                  0    \n",
       "\n",
       "      amenities_translation missing enhosting_amenity_50  \n",
       "sf 0                                                  0   \n",
       "   1                                                  0   \n",
       "   2                                                  1   \n",
       "   3                                                  0   \n",
       "   5                                                  0   \n",
       "\n",
       "[5 rows x 182 columns]"
      ]
     },
     "metadata": {},
     "output_type": "display_data"
    }
   ],
   "source": [
    "# Created a list captures every single amenities\n",
    "# Built a dataframe based on the list\n",
    "# Converted amenities to dummy variables\n",
    "\n",
    "df_amenities = df_refined  \\\n",
    "               .amenities  \\\n",
    "               .str.get_dummies(sep = \",\")  \\\n",
    "               .add_prefix('amenities_')\n",
    "\n",
    "print('df_ammenities dimension: ', df_amenities.shape)\n",
    "display(df_amenities.head())"
   ]
  },
  {
   "cell_type": "code",
   "execution_count": 37,
   "metadata": {
    "ExecuteTime": {
     "end_time": "2019-02-18T02:51:18.832351Z",
     "start_time": "2019-02-18T02:51:18.719774Z"
    }
   },
   "outputs": [
    {
     "name": "stdout",
     "output_type": "stream",
     "text": [
      "['amenities_24hour checkin', 'amenities_Air conditioning', 'amenities_BBQ grill', 'amenities_Bathtub', 'amenities_Bed linens', 'amenities_Breakfast', 'amenities_Cable TV', 'amenities_Carbon monoxide detector', 'amenities_Coffee maker', 'amenities_Cooking basics', 'amenities_Dishes and silverware', 'amenities_Dishwasher', 'amenities_Dryer', 'amenities_Elevator', 'amenities_Essentials', 'amenities_Extra pillows and blankets', 'amenities_Familykid friendly', 'amenities_Fire extinguisher', 'amenities_First aid kit', 'amenities_Free parking on premises', 'amenities_Free street parking', 'amenities_Garden or backyard', 'amenities_Hair dryer', 'amenities_Hangers', 'amenities_Heating', 'amenities_Host greets you', 'amenities_Hot water', 'amenities_Indoor fireplace', 'amenities_Internet', 'amenities_Iron', 'amenities_Keypad', 'amenities_Kitchen', 'amenities_Laptop friendly workspace', 'amenities_Lock on bedroom door', 'amenities_Lockbox', 'amenities_Long term stays allowed', 'amenities_Luggage dropoff allowed', 'amenities_Microwave', 'amenities_Oven', 'amenities_Patio or balcony', 'amenities_Pets allowed', 'amenities_Pets live on this property', 'amenities_Private entrance', 'amenities_Private living room', 'amenities_Refrigerator', 'amenities_Safety card', 'amenities_Self checkin', 'amenities_Shampoo', 'amenities_Single level home', 'amenities_Smoke detector', 'amenities_Stepfree access', 'amenities_Stove', 'amenities_TV', 'amenities_Washer', 'amenities_Wifi', 'amenities_translation missing enhosting_amenity_49', 'amenities_translation missing enhosting_amenity_50']\n"
     ]
    }
   ],
   "source": [
    "# There are over 150+ types of amenities. \n",
    "# This is to filter down to common owned amenities.\n",
    "\n",
    "common_amenities = []\n",
    "filter_percentile = 0.90\n",
    "\n",
    "for column in df_amenities.columns:\n",
    "    value = df_amenities[column].quantile(filter_percentile)\n",
    "    if value > 0:\n",
    "        common_amenities.append(column)\n",
    "\n",
    "df_common_amenities = df_amenities[common_amenities]\n",
    "\n",
    "print (common_amenities)"
   ]
  },
  {
   "cell_type": "code",
   "execution_count": 38,
   "metadata": {
    "ExecuteTime": {
     "end_time": "2019-02-18T02:51:18.865846Z",
     "start_time": "2019-02-18T02:51:18.835043Z"
    }
   },
   "outputs": [
    {
     "data": {
      "text/html": [
       "<div>\n",
       "<style scoped>\n",
       "    .dataframe tbody tr th:only-of-type {\n",
       "        vertical-align: middle;\n",
       "    }\n",
       "\n",
       "    .dataframe tbody tr th {\n",
       "        vertical-align: top;\n",
       "    }\n",
       "\n",
       "    .dataframe thead th {\n",
       "        text-align: right;\n",
       "    }\n",
       "</style>\n",
       "<table border=\"1\" class=\"dataframe\">\n",
       "  <thead>\n",
       "    <tr style=\"text-align: right;\">\n",
       "      <th></th>\n",
       "      <th></th>\n",
       "      <th>amenities_24hour checkin</th>\n",
       "      <th>amenities_Air conditioning</th>\n",
       "      <th>amenities_BBQ grill</th>\n",
       "      <th>amenities_Bathtub</th>\n",
       "      <th>amenities_Bed linens</th>\n",
       "      <th>amenities_Breakfast</th>\n",
       "      <th>amenities_Cable TV</th>\n",
       "      <th>amenities_Carbon monoxide detector</th>\n",
       "      <th>amenities_Coffee maker</th>\n",
       "      <th>amenities_Cooking basics</th>\n",
       "      <th>...</th>\n",
       "      <th>amenities_Shampoo</th>\n",
       "      <th>amenities_Single level home</th>\n",
       "      <th>amenities_Smoke detector</th>\n",
       "      <th>amenities_Stepfree access</th>\n",
       "      <th>amenities_Stove</th>\n",
       "      <th>amenities_TV</th>\n",
       "      <th>amenities_Washer</th>\n",
       "      <th>amenities_Wifi</th>\n",
       "      <th>amenities_translation missing enhosting_amenity_49</th>\n",
       "      <th>amenities_translation missing enhosting_amenity_50</th>\n",
       "    </tr>\n",
       "  </thead>\n",
       "  <tbody>\n",
       "    <tr>\n",
       "      <th rowspan=\"5\" valign=\"top\">sf</th>\n",
       "      <th>0</th>\n",
       "      <td>1</td>\n",
       "      <td>0</td>\n",
       "      <td>0</td>\n",
       "      <td>0</td>\n",
       "      <td>0</td>\n",
       "      <td>0</td>\n",
       "      <td>1</td>\n",
       "      <td>1</td>\n",
       "      <td>0</td>\n",
       "      <td>0</td>\n",
       "      <td>...</td>\n",
       "      <td>1</td>\n",
       "      <td>0</td>\n",
       "      <td>1</td>\n",
       "      <td>0</td>\n",
       "      <td>0</td>\n",
       "      <td>1</td>\n",
       "      <td>1</td>\n",
       "      <td>1</td>\n",
       "      <td>0</td>\n",
       "      <td>0</td>\n",
       "    </tr>\n",
       "    <tr>\n",
       "      <th>1</th>\n",
       "      <td>0</td>\n",
       "      <td>0</td>\n",
       "      <td>0</td>\n",
       "      <td>0</td>\n",
       "      <td>0</td>\n",
       "      <td>0</td>\n",
       "      <td>0</td>\n",
       "      <td>0</td>\n",
       "      <td>0</td>\n",
       "      <td>0</td>\n",
       "      <td>...</td>\n",
       "      <td>1</td>\n",
       "      <td>0</td>\n",
       "      <td>1</td>\n",
       "      <td>0</td>\n",
       "      <td>0</td>\n",
       "      <td>0</td>\n",
       "      <td>1</td>\n",
       "      <td>1</td>\n",
       "      <td>0</td>\n",
       "      <td>0</td>\n",
       "    </tr>\n",
       "    <tr>\n",
       "      <th>2</th>\n",
       "      <td>0</td>\n",
       "      <td>0</td>\n",
       "      <td>0</td>\n",
       "      <td>0</td>\n",
       "      <td>0</td>\n",
       "      <td>0</td>\n",
       "      <td>0</td>\n",
       "      <td>1</td>\n",
       "      <td>0</td>\n",
       "      <td>0</td>\n",
       "      <td>...</td>\n",
       "      <td>0</td>\n",
       "      <td>0</td>\n",
       "      <td>1</td>\n",
       "      <td>0</td>\n",
       "      <td>0</td>\n",
       "      <td>1</td>\n",
       "      <td>1</td>\n",
       "      <td>1</td>\n",
       "      <td>1</td>\n",
       "      <td>1</td>\n",
       "    </tr>\n",
       "    <tr>\n",
       "      <th>3</th>\n",
       "      <td>0</td>\n",
       "      <td>0</td>\n",
       "      <td>0</td>\n",
       "      <td>0</td>\n",
       "      <td>0</td>\n",
       "      <td>0</td>\n",
       "      <td>0</td>\n",
       "      <td>1</td>\n",
       "      <td>0</td>\n",
       "      <td>0</td>\n",
       "      <td>...</td>\n",
       "      <td>0</td>\n",
       "      <td>0</td>\n",
       "      <td>1</td>\n",
       "      <td>0</td>\n",
       "      <td>0</td>\n",
       "      <td>1</td>\n",
       "      <td>1</td>\n",
       "      <td>1</td>\n",
       "      <td>0</td>\n",
       "      <td>0</td>\n",
       "    </tr>\n",
       "    <tr>\n",
       "      <th>5</th>\n",
       "      <td>0</td>\n",
       "      <td>0</td>\n",
       "      <td>1</td>\n",
       "      <td>0</td>\n",
       "      <td>0</td>\n",
       "      <td>0</td>\n",
       "      <td>1</td>\n",
       "      <td>1</td>\n",
       "      <td>1</td>\n",
       "      <td>1</td>\n",
       "      <td>...</td>\n",
       "      <td>1</td>\n",
       "      <td>0</td>\n",
       "      <td>1</td>\n",
       "      <td>0</td>\n",
       "      <td>1</td>\n",
       "      <td>1</td>\n",
       "      <td>1</td>\n",
       "      <td>1</td>\n",
       "      <td>0</td>\n",
       "      <td>0</td>\n",
       "    </tr>\n",
       "  </tbody>\n",
       "</table>\n",
       "<p>5 rows × 57 columns</p>\n",
       "</div>"
      ],
      "text/plain": [
       "      amenities_24hour checkin  amenities_Air conditioning  \\\n",
       "sf 0                         1                           0   \n",
       "   1                         0                           0   \n",
       "   2                         0                           0   \n",
       "   3                         0                           0   \n",
       "   5                         0                           0   \n",
       "\n",
       "      amenities_BBQ grill  amenities_Bathtub  amenities_Bed linens  \\\n",
       "sf 0                    0                  0                     0   \n",
       "   1                    0                  0                     0   \n",
       "   2                    0                  0                     0   \n",
       "   3                    0                  0                     0   \n",
       "   5                    1                  0                     0   \n",
       "\n",
       "      amenities_Breakfast  amenities_Cable TV  \\\n",
       "sf 0                    0                   1   \n",
       "   1                    0                   0   \n",
       "   2                    0                   0   \n",
       "   3                    0                   0   \n",
       "   5                    0                   1   \n",
       "\n",
       "      amenities_Carbon monoxide detector  amenities_Coffee maker  \\\n",
       "sf 0                                   1                       0   \n",
       "   1                                   0                       0   \n",
       "   2                                   1                       0   \n",
       "   3                                   1                       0   \n",
       "   5                                   1                       1   \n",
       "\n",
       "      amenities_Cooking basics  \\\n",
       "sf 0                         0   \n",
       "   1                         0   \n",
       "   2                         0   \n",
       "   3                         0   \n",
       "   5                         1   \n",
       "\n",
       "                             ...                          amenities_Shampoo  \\\n",
       "sf 0                         ...                                          1   \n",
       "   1                         ...                                          1   \n",
       "   2                         ...                                          0   \n",
       "   3                         ...                                          0   \n",
       "   5                         ...                                          1   \n",
       "\n",
       "      amenities_Single level home  amenities_Smoke detector  \\\n",
       "sf 0                            0                         1   \n",
       "   1                            0                         1   \n",
       "   2                            0                         1   \n",
       "   3                            0                         1   \n",
       "   5                            0                         1   \n",
       "\n",
       "      amenities_Stepfree access  amenities_Stove  amenities_TV  \\\n",
       "sf 0                          0                0             1   \n",
       "   1                          0                0             0   \n",
       "   2                          0                0             1   \n",
       "   3                          0                0             1   \n",
       "   5                          0                1             1   \n",
       "\n",
       "      amenities_Washer  amenities_Wifi  \\\n",
       "sf 0                 1               1   \n",
       "   1                 1               1   \n",
       "   2                 1               1   \n",
       "   3                 1               1   \n",
       "   5                 1               1   \n",
       "\n",
       "      amenities_translation missing enhosting_amenity_49  \\\n",
       "sf 0                                                  0    \n",
       "   1                                                  0    \n",
       "   2                                                  1    \n",
       "   3                                                  0    \n",
       "   5                                                  0    \n",
       "\n",
       "      amenities_translation missing enhosting_amenity_50  \n",
       "sf 0                                                  0   \n",
       "   1                                                  0   \n",
       "   2                                                  1   \n",
       "   3                                                  0   \n",
       "   5                                                  0   \n",
       "\n",
       "[5 rows x 57 columns]"
      ]
     },
     "metadata": {},
     "output_type": "display_data"
    }
   ],
   "source": [
    "display (df_common_amenities.head())"
   ]
  },
  {
   "cell_type": "code",
   "execution_count": 39,
   "metadata": {
    "ExecuteTime": {
     "end_time": "2019-02-18T02:51:18.890274Z",
     "start_time": "2019-02-18T02:51:18.869424Z"
    }
   },
   "outputs": [],
   "source": [
    "# Concatenated common amenities dataframe with original dataframe\n",
    "\n",
    "df_refined = pd.concat([df_refined, df_common_amenities], axis=1)"
   ]
  },
  {
   "cell_type": "code",
   "execution_count": 40,
   "metadata": {
    "ExecuteTime": {
     "end_time": "2019-02-18T02:51:18.916274Z",
     "start_time": "2019-02-18T02:51:18.892951Z"
    }
   },
   "outputs": [
    {
     "data": {
      "text/plain": [
       "(9062, 339)"
      ]
     },
     "execution_count": 40,
     "metadata": {},
     "output_type": "execute_result"
    }
   ],
   "source": [
    "# Dropped original amenities feature, which is a list of amenities\n",
    "\n",
    "df_refined.drop('amenities', axis=1, inplace=True)\n",
    "df_refined.shape"
   ]
  },
  {
   "cell_type": "markdown",
   "metadata": {},
   "source": [
    "### Boolean Variables"
   ]
  },
  {
   "cell_type": "code",
   "execution_count": 41,
   "metadata": {
    "ExecuteTime": {
     "end_time": "2019-02-18T02:51:19.129913Z",
     "start_time": "2019-02-18T02:51:18.919234Z"
    }
   },
   "outputs": [
    {
     "data": {
      "text/plain": [
       "<matplotlib.axes._subplots.AxesSubplot at 0x1c2493f860>"
      ]
     },
     "execution_count": 41,
     "metadata": {},
     "output_type": "execute_result"
    },
    {
     "data": {
      "image/png": "[encoded data removed]",
      "text/plain": [
       "<Figure size 576x396 with 1 Axes>"
      ]
     },
     "metadata": {},
     "output_type": "display_data"
    }
   ],
   "source": [
    "# Noted security_deposite amount can vary considerably among postings\n",
    "\n",
    "df_model = df_refined.copy()\n",
    "df_model.security_deposit.hist()"
   ]
  },
  {
   "cell_type": "code",
   "execution_count": 42,
   "metadata": {
    "ExecuteTime": {
     "end_time": "2019-02-18T02:51:19.279812Z",
     "start_time": "2019-02-18T02:51:19.133139Z"
    }
   },
   "outputs": [
    {
     "data": {
      "text/plain": [
       "<matplotlib.axes._subplots.AxesSubplot at 0x1c24552550>"
      ]
     },
     "execution_count": 42,
     "metadata": {},
     "output_type": "execute_result"
    },
    {
     "data": {
      "image/png": "[encoded data removed]",
      "text/plain": [
       "<Figure size 576x396 with 1 Axes>"
      ]
     },
     "metadata": {},
     "output_type": "display_data"
    }
   ],
   "source": [
    "# Noted minimum night amount can vary considerably among postings\n",
    "\n",
    "df_model.minimum_nights.hist()"
   ]
  },
  {
   "cell_type": "code",
   "execution_count": 43,
   "metadata": {
    "ExecuteTime": {
     "end_time": "2019-02-18T02:51:19.289894Z",
     "start_time": "2019-02-18T02:51:19.282918Z"
    }
   },
   "outputs": [],
   "source": [
    "# Their numerical values do not provide meaningful information for price prediction\n",
    "# Converted to boolean variables instead\n",
    "\n",
    "df_model['security_deposit'] = (df_model['security_deposit']>0) \\\n",
    "                                          .astype(int)\n",
    "\n",
    "df_model['minimum_nights'] = (df_model['minimum_nights']>1)  \\\n",
    "                                        .astype(int)"
   ]
  },
  {
   "cell_type": "code",
   "execution_count": 44,
   "metadata": {
    "ExecuteTime": {
     "end_time": "2019-02-18T02:51:19.298195Z",
     "start_time": "2019-02-18T02:51:19.292221Z"
    }
   },
   "outputs": [
    {
     "data": {
      "text/plain": [
       "(9062, 339)"
      ]
     },
     "execution_count": 44,
     "metadata": {},
     "output_type": "execute_result"
    }
   ],
   "source": [
    "df_model.shape"
   ]
  },
  {
   "cell_type": "markdown",
   "metadata": {
    "ExecuteTime": {
     "end_time": "2019-02-17T07:31:21.291326Z",
     "start_time": "2019-02-17T07:31:21.288223Z"
    }
   },
   "source": [
    "## Features with High Correlation"
   ]
  },
  {
   "cell_type": "code",
   "execution_count": 45,
   "metadata": {
    "ExecuteTime": {
     "end_time": "2019-02-18T02:51:21.003932Z",
     "start_time": "2019-02-18T02:51:19.301544Z"
    }
   },
   "outputs": [],
   "source": [
    "# Created correlation matrix\n",
    "# Selected upper triangle of correlation matrix\n",
    "\n",
    "corr_matrix = df_model.corr().abs()\n",
    "upper = corr_matrix.where(np.triu(np.ones(corr_matrix.shape), k=1).astype(np.bool))"
   ]
  },
  {
   "cell_type": "code",
   "execution_count": 46,
   "metadata": {
    "ExecuteTime": {
     "end_time": "2019-02-18T02:51:21.085406Z",
     "start_time": "2019-02-18T02:51:21.006358Z"
    }
   },
   "outputs": [
    {
     "data": {
      "text/plain": [
       "['host_total_listings_count',\n",
       " 'host_is_superhost_t',\n",
       " 'host_has_profile_pic_t',\n",
       " 'host_identity_verified_t',\n",
       " 'city_Cupertino',\n",
       " 'city_Palo Alto',\n",
       " 'city_San Jose',\n",
       " 'city_Santa Clara',\n",
       " 'city_Sunnyvale',\n",
       " 'is_location_exact_t',\n",
       " 'room_type_Private room',\n",
       " 'jurisdiction_names_Cupertino, CA',\n",
       " 'jurisdiction_names_OAKLAND',\n",
       " 'jurisdiction_names_PALO ALTO',\n",
       " 'jurisdiction_names_SAN FRANCISCO',\n",
       " 'jurisdiction_names_SAN JOSE',\n",
       " 'jurisdiction_names_SANTA CLARA',\n",
       " 'jurisdiction_names_Santa Cruz County, CA',\n",
       " 'jurisdiction_names_Sunnyvale, CA',\n",
       " 'instant_bookable_t',\n",
       " 'require_guest_profile_picture_t',\n",
       " 'require_guest_phone_verification_t',\n",
       " 'district_Oakland',\n",
       " 'district_San Francisco',\n",
       " 'amenities_Refrigerator',\n",
       " 'amenities_Stove',\n",
       " 'amenities_Washer']"
      ]
     },
     "metadata": {},
     "output_type": "display_data"
    }
   ],
   "source": [
    "# Identified index of feature columns with correlation greater than 0.90\n",
    "\n",
    "cor_thresold = 0.90\n",
    "\n",
    "to_drop = [column for column in upper.columns if any(upper[column] >= cor_thresold)]\n",
    "\n",
    "display (to_drop)"
   ]
  },
  {
   "cell_type": "code",
   "execution_count": 47,
   "metadata": {
    "ExecuteTime": {
     "end_time": "2019-02-18T02:51:21.105247Z",
     "start_time": "2019-02-18T02:51:21.088139Z"
    }
   },
   "outputs": [
    {
     "data": {
      "text/plain": [
       "'Dimensions after dropping high correlated features'"
      ]
     },
     "metadata": {},
     "output_type": "display_data"
    },
    {
     "data": {
      "text/plain": [
       "(9062, 312)"
      ]
     },
     "metadata": {},
     "output_type": "display_data"
    }
   ],
   "source": [
    "# Dropped features with high corrleation \n",
    "\n",
    "df_model.drop(columns = to_drop, inplace = True)\n",
    "\n",
    "df_model = df_model.copy()\n",
    "display('Dimensions after dropping high correlated features', df_model.shape)"
   ]
  },
  {
   "cell_type": "code",
   "execution_count": 48,
   "metadata": {
    "ExecuteTime": {
     "end_time": "2019-02-18T02:51:21.131481Z",
     "start_time": "2019-02-18T02:51:21.108420Z"
    }
   },
   "outputs": [],
   "source": [
    "# Stored the complete set of features\n",
    "\n",
    "pkl_file = '/Users/xzhou/github/project_archives/files_airbnb/{}.pkl'\n",
    "\n",
    "pkl_file_name = pkl_file.format('listings_all_features')\n",
    "\n",
    "df_model.to_pickle(pkl_file_name)"
   ]
  },
  {
   "cell_type": "markdown",
   "metadata": {
    "ExecuteTime": {
     "end_time": "2019-02-17T07:31:56.178971Z",
     "start_time": "2019-02-17T07:31:56.176281Z"
    }
   },
   "source": [
    "# Modeling"
   ]
  },
  {
   "cell_type": "markdown",
   "metadata": {
    "ExecuteTime": {
     "end_time": "2019-02-17T10:39:49.812357Z",
     "start_time": "2019-02-17T10:39:49.809411Z"
    }
   },
   "source": [
    "## Model Preprocessing"
   ]
  },
  {
   "cell_type": "markdown",
   "metadata": {
    "ExecuteTime": {
     "end_time": "2019-02-17T07:32:32.978891Z",
     "start_time": "2019-02-17T07:32:32.975749Z"
    }
   },
   "source": [
    "### Train and Test Splits"
   ]
  },
  {
   "cell_type": "code",
   "execution_count": 49,
   "metadata": {
    "ExecuteTime": {
     "end_time": "2019-02-18T02:51:21.144095Z",
     "start_time": "2019-02-18T02:51:21.134796Z"
    }
   },
   "outputs": [],
   "source": [
    "# Performed quick regression models to get a big picture of performance, \n",
    "# and prepare for feature slections\n",
    "\n",
    "X = df_model.drop(['id','price'], axis=1)\n",
    "y = df_model['price']"
   ]
  },
  {
   "cell_type": "code",
   "execution_count": 50,
   "metadata": {
    "ExecuteTime": {
     "end_time": "2019-02-18T02:51:21.169257Z",
     "start_time": "2019-02-18T02:51:21.147027Z"
    }
   },
   "outputs": [],
   "source": [
    "X_train, X_test, y_train, y_test = train_test_split(\n",
    "                                   X, y, test_size =0.3, random_state=42)"
   ]
  },
  {
   "cell_type": "markdown",
   "metadata": {
    "ExecuteTime": {
     "end_time": "2019-02-17T10:40:37.567774Z",
     "start_time": "2019-02-17T10:40:37.561499Z"
    }
   },
   "source": [
    "### Feature Normalization"
   ]
  },
  {
   "cell_type": "code",
   "execution_count": 51,
   "metadata": {
    "ExecuteTime": {
     "end_time": "2019-02-18T02:51:21.244298Z",
     "start_time": "2019-02-18T02:51:21.172126Z"
    }
   },
   "outputs": [],
   "source": [
    "# Normalize features \n",
    "\n",
    "ss = StandardScaler()\n",
    "X_train_trans = ss.fit_transform(X_train)\n",
    "X_test_trans = ss.transform (X_test)"
   ]
  },
  {
   "cell_type": "markdown",
   "metadata": {
    "ExecuteTime": {
     "end_time": "2019-02-17T07:32:54.344320Z",
     "start_time": "2019-02-17T07:32:54.340034Z"
    }
   },
   "source": [
    "## Linear Regression"
   ]
  },
  {
   "cell_type": "code",
   "execution_count": 52,
   "metadata": {
    "ExecuteTime": {
     "end_time": "2019-02-18T02:51:21.808077Z",
     "start_time": "2019-02-18T02:51:21.246806Z"
    }
   },
   "outputs": [
    {
     "data": {
      "text/html": [
       "<table class=\"simpletable\">\n",
       "<caption>OLS Regression Results</caption>\n",
       "<tr>\n",
       "  <th>Dep. Variable:</th>          <td>price</td>      <th>  R-squared:         </th> <td>   0.691</td> \n",
       "</tr>\n",
       "<tr>\n",
       "  <th>Model:</th>                   <td>OLS</td>       <th>  Adj. R-squared:    </th> <td>   0.676</td> \n",
       "</tr>\n",
       "<tr>\n",
       "  <th>Method:</th>             <td>Least Squares</td>  <th>  F-statistic:       </th> <td>   46.31</td> \n",
       "</tr>\n",
       "<tr>\n",
       "  <th>Date:</th>             <td>Sun, 17 Feb 2019</td> <th>  Prob (F-statistic):</th>  <td>  0.00</td>  \n",
       "</tr>\n",
       "<tr>\n",
       "  <th>Time:</th>                 <td>18:51:21</td>     <th>  Log-Likelihood:    </th> <td> -33767.</td> \n",
       "</tr>\n",
       "<tr>\n",
       "  <th>No. Observations:</th>      <td>  6343</td>      <th>  AIC:               </th> <td>6.812e+04</td>\n",
       "</tr>\n",
       "<tr>\n",
       "  <th>Df Residuals:</th>          <td>  6050</td>      <th>  BIC:               </th> <td>7.010e+04</td>\n",
       "</tr>\n",
       "<tr>\n",
       "  <th>Df Model:</th>              <td>   292</td>      <th>                     </th>     <td> </td>    \n",
       "</tr>\n",
       "<tr>\n",
       "  <th>Covariance Type:</th>      <td>nonrobust</td>    <th>                     </th>     <td> </td>    \n",
       "</tr>\n",
       "</table>\n",
       "<table class=\"simpletable\">\n",
       "<tr>\n",
       "    <td></td>       <th>coef</th>     <th>std err</th>      <th>t</th>      <th>P>|t|</th>  <th>[0.025</th>    <th>0.975]</th>  \n",
       "</tr>\n",
       "<tr>\n",
       "  <th>const</th> <td>  144.5004</td> <td>    0.638</td> <td>  226.472</td> <td> 0.000</td> <td>  143.250</td> <td>  145.751</td>\n",
       "</tr>\n",
       "<tr>\n",
       "  <th>x1</th>    <td>   -1.0718</td> <td>    0.870</td> <td>   -1.231</td> <td> 0.218</td> <td>   -2.778</td> <td>    0.634</td>\n",
       "</tr>\n",
       "<tr>\n",
       "  <th>x2</th>    <td>   -0.0348</td> <td>    1.149</td> <td>   -0.030</td> <td> 0.976</td> <td>   -2.286</td> <td>    2.217</td>\n",
       "</tr>\n",
       "<tr>\n",
       "  <th>x3</th>    <td>    3.3668</td> <td>    0.955</td> <td>    3.525</td> <td> 0.000</td> <td>    1.494</td> <td>    5.239</td>\n",
       "</tr>\n",
       "<tr>\n",
       "  <th>x4</th>    <td>   22.7893</td> <td>    1.461</td> <td>   15.603</td> <td> 0.000</td> <td>   19.926</td> <td>   25.652</td>\n",
       "</tr>\n",
       "<tr>\n",
       "  <th>x5</th>    <td>    2.7437</td> <td>    0.801</td> <td>    3.425</td> <td> 0.001</td> <td>    1.173</td> <td>    4.314</td>\n",
       "</tr>\n",
       "<tr>\n",
       "  <th>x6</th>    <td>   18.3480</td> <td>    1.189</td> <td>   15.433</td> <td> 0.000</td> <td>   16.017</td> <td>   20.679</td>\n",
       "</tr>\n",
       "<tr>\n",
       "  <th>x7</th>    <td>   -3.2389</td> <td>    1.257</td> <td>   -2.577</td> <td> 0.010</td> <td>   -5.703</td> <td>   -0.775</td>\n",
       "</tr>\n",
       "<tr>\n",
       "  <th>x8</th>    <td>   -0.5852</td> <td>    0.697</td> <td>   -0.839</td> <td> 0.402</td> <td>   -1.952</td> <td>    0.782</td>\n",
       "</tr>\n",
       "<tr>\n",
       "  <th>x9</th>    <td>    9.2186</td> <td>    0.929</td> <td>    9.919</td> <td> 0.000</td> <td>    7.397</td> <td>   11.041</td>\n",
       "</tr>\n",
       "<tr>\n",
       "  <th>x10</th>   <td>    7.0823</td> <td>    0.867</td> <td>    8.167</td> <td> 0.000</td> <td>    5.382</td> <td>    8.782</td>\n",
       "</tr>\n",
       "<tr>\n",
       "  <th>x11</th>   <td>   -1.7917</td> <td>    0.772</td> <td>   -2.321</td> <td> 0.020</td> <td>   -3.305</td> <td>   -0.278</td>\n",
       "</tr>\n",
       "<tr>\n",
       "  <th>x12</th>   <td>   -2.7294</td> <td>    1.171</td> <td>   -2.330</td> <td> 0.020</td> <td>   -5.025</td> <td>   -0.433</td>\n",
       "</tr>\n",
       "<tr>\n",
       "  <th>x13</th>   <td>   -2.8604</td> <td>    1.148</td> <td>   -2.491</td> <td> 0.013</td> <td>   -5.111</td> <td>   -0.610</td>\n",
       "</tr>\n",
       "<tr>\n",
       "  <th>x14</th>   <td>    3.7700</td> <td>    1.313</td> <td>    2.872</td> <td> 0.004</td> <td>    1.197</td> <td>    6.343</td>\n",
       "</tr>\n",
       "<tr>\n",
       "  <th>x15</th>   <td>    1.1524</td> <td>    1.059</td> <td>    1.088</td> <td> 0.277</td> <td>   -0.924</td> <td>    3.229</td>\n",
       "</tr>\n",
       "<tr>\n",
       "  <th>x16</th>   <td>    5.0383</td> <td>    0.933</td> <td>    5.401</td> <td> 0.000</td> <td>    3.210</td> <td>    6.867</td>\n",
       "</tr>\n",
       "<tr>\n",
       "  <th>x17</th>   <td>   -2.6001</td> <td>    0.950</td> <td>   -2.736</td> <td> 0.006</td> <td>   -4.463</td> <td>   -0.737</td>\n",
       "</tr>\n",
       "<tr>\n",
       "  <th>x18</th>   <td>   -0.2243</td> <td>    1.027</td> <td>   -0.218</td> <td> 0.827</td> <td>   -2.237</td> <td>    1.789</td>\n",
       "</tr>\n",
       "<tr>\n",
       "  <th>x19</th>   <td>    4.0483</td> <td>    0.902</td> <td>    4.489</td> <td> 0.000</td> <td>    2.280</td> <td>    5.816</td>\n",
       "</tr>\n",
       "<tr>\n",
       "  <th>x20</th>   <td>   -4.8526</td> <td>    1.052</td> <td>   -4.614</td> <td> 0.000</td> <td>   -6.914</td> <td>   -2.791</td>\n",
       "</tr>\n",
       "<tr>\n",
       "  <th>x21</th>   <td>  -10.4004</td> <td>    1.014</td> <td>  -10.257</td> <td> 0.000</td> <td>  -12.388</td> <td>   -8.413</td>\n",
       "</tr>\n",
       "<tr>\n",
       "  <th>x22</th>   <td>   -5.3751</td> <td>    1.117</td> <td>   -4.813</td> <td> 0.000</td> <td>   -7.565</td> <td>   -3.186</td>\n",
       "</tr>\n",
       "<tr>\n",
       "  <th>x23</th>   <td>   -0.1775</td> <td>    1.039</td> <td>   -0.171</td> <td> 0.864</td> <td>   -2.214</td> <td>    1.860</td>\n",
       "</tr>\n",
       "<tr>\n",
       "  <th>x24</th>   <td>   -0.7745</td> <td>    0.589</td> <td>   -1.314</td> <td> 0.189</td> <td>   -1.930</td> <td>    0.381</td>\n",
       "</tr>\n",
       "<tr>\n",
       "  <th>x25</th>   <td>   -1.3443</td> <td>    0.483</td> <td>   -2.785</td> <td> 0.005</td> <td>   -2.290</td> <td>   -0.398</td>\n",
       "</tr>\n",
       "<tr>\n",
       "  <th>x26</th>   <td>    1.6990</td> <td>    0.447</td> <td>    3.803</td> <td> 0.000</td> <td>    0.823</td> <td>    2.575</td>\n",
       "</tr>\n",
       "<tr>\n",
       "  <th>x27</th>   <td>   -4.3637</td> <td>    0.764</td> <td>   -5.712</td> <td> 0.000</td> <td>   -5.861</td> <td>   -2.866</td>\n",
       "</tr>\n",
       "<tr>\n",
       "  <th>x28</th>   <td>    0.4196</td> <td>    0.686</td> <td>    0.611</td> <td> 0.541</td> <td>   -0.926</td> <td>    1.765</td>\n",
       "</tr>\n",
       "<tr>\n",
       "  <th>x29</th>   <td>   -2.5603</td> <td>    0.763</td> <td>   -3.354</td> <td> 0.001</td> <td>   -4.057</td> <td>   -1.064</td>\n",
       "</tr>\n",
       "<tr>\n",
       "  <th>x30</th>   <td>    0.8793</td> <td>    0.654</td> <td>    1.344</td> <td> 0.179</td> <td>   -0.404</td> <td>    2.162</td>\n",
       "</tr>\n",
       "<tr>\n",
       "  <th>x31</th>   <td>   -1.6237</td> <td>    0.839</td> <td>   -1.935</td> <td> 0.053</td> <td>   -3.268</td> <td>    0.021</td>\n",
       "</tr>\n",
       "<tr>\n",
       "  <th>x32</th>   <td>   -1.0959</td> <td>    0.696</td> <td>   -1.573</td> <td> 0.116</td> <td>   -2.461</td> <td>    0.269</td>\n",
       "</tr>\n",
       "<tr>\n",
       "  <th>x33</th>   <td>   -0.9677</td> <td>    0.674</td> <td>   -1.436</td> <td> 0.151</td> <td>   -2.288</td> <td>    0.353</td>\n",
       "</tr>\n",
       "<tr>\n",
       "  <th>x34</th>   <td>   -0.5047</td> <td>    0.658</td> <td>   -0.767</td> <td> 0.443</td> <td>   -1.795</td> <td>    0.785</td>\n",
       "</tr>\n",
       "<tr>\n",
       "  <th>x35</th>   <td>   -0.5085</td> <td>    0.650</td> <td>   -0.783</td> <td> 0.434</td> <td>   -1.782</td> <td>    0.765</td>\n",
       "</tr>\n",
       "<tr>\n",
       "  <th>x36</th>   <td>   -2.3037</td> <td>    0.730</td> <td>   -3.156</td> <td> 0.002</td> <td>   -3.735</td> <td>   -0.873</td>\n",
       "</tr>\n",
       "<tr>\n",
       "  <th>x37</th>   <td>    0.4322</td> <td>    0.665</td> <td>    0.650</td> <td> 0.516</td> <td>   -0.871</td> <td>    1.735</td>\n",
       "</tr>\n",
       "<tr>\n",
       "  <th>x38</th>   <td>   -0.2734</td> <td>    0.856</td> <td>   -0.319</td> <td> 0.749</td> <td>   -1.951</td> <td>    1.404</td>\n",
       "</tr>\n",
       "<tr>\n",
       "  <th>x39</th>   <td>   -0.3273</td> <td>    0.687</td> <td>   -0.476</td> <td> 0.634</td> <td>   -1.675</td> <td>    1.020</td>\n",
       "</tr>\n",
       "<tr>\n",
       "  <th>x40</th>   <td>   -1.9161</td> <td>    1.008</td> <td>   -1.901</td> <td> 0.057</td> <td>   -3.892</td> <td>    0.060</td>\n",
       "</tr>\n",
       "<tr>\n",
       "  <th>x41</th>   <td>   -0.7941</td> <td>    0.731</td> <td>   -1.086</td> <td> 0.277</td> <td>   -2.227</td> <td>    0.639</td>\n",
       "</tr>\n",
       "<tr>\n",
       "  <th>x42</th>   <td>   -0.5470</td> <td>    0.658</td> <td>   -0.832</td> <td> 0.406</td> <td>   -1.836</td> <td>    0.742</td>\n",
       "</tr>\n",
       "<tr>\n",
       "  <th>x43</th>   <td>   -0.8133</td> <td>    0.658</td> <td>   -1.237</td> <td> 0.216</td> <td>   -2.102</td> <td>    0.476</td>\n",
       "</tr>\n",
       "<tr>\n",
       "  <th>x44</th>   <td>    5.8259</td> <td>    0.846</td> <td>    6.889</td> <td> 0.000</td> <td>    4.168</td> <td>    7.484</td>\n",
       "</tr>\n",
       "<tr>\n",
       "  <th>x45</th>   <td>   -1.2118</td> <td>    0.701</td> <td>   -1.729</td> <td> 0.084</td> <td>   -2.586</td> <td>    0.162</td>\n",
       "</tr>\n",
       "<tr>\n",
       "  <th>x46</th>   <td>    1.7983</td> <td>    0.667</td> <td>    2.696</td> <td> 0.007</td> <td>    0.491</td> <td>    3.106</td>\n",
       "</tr>\n",
       "<tr>\n",
       "  <th>x47</th>   <td>   -0.9454</td> <td>    0.837</td> <td>   -1.129</td> <td> 0.259</td> <td>   -2.587</td> <td>    0.696</td>\n",
       "</tr>\n",
       "<tr>\n",
       "  <th>x48</th>   <td>    0.4112</td> <td>    0.764</td> <td>    0.538</td> <td> 0.591</td> <td>   -1.087</td> <td>    1.910</td>\n",
       "</tr>\n",
       "<tr>\n",
       "  <th>x49</th>   <td>   -1.9485</td> <td>    0.903</td> <td>   -2.159</td> <td> 0.031</td> <td>   -3.718</td> <td>   -0.179</td>\n",
       "</tr>\n",
       "<tr>\n",
       "  <th>x50</th>   <td>    0.8510</td> <td>    0.679</td> <td>    1.253</td> <td> 0.210</td> <td>   -0.481</td> <td>    2.182</td>\n",
       "</tr>\n",
       "<tr>\n",
       "  <th>x51</th>   <td>-1.698e-15</td> <td> 1.07e-15</td> <td>   -1.588</td> <td> 0.112</td> <td>-3.79e-15</td> <td> 3.98e-16</td>\n",
       "</tr>\n",
       "<tr>\n",
       "  <th>x52</th>   <td>   -1.9675</td> <td>    0.677</td> <td>   -2.904</td> <td> 0.004</td> <td>   -3.296</td> <td>   -0.639</td>\n",
       "</tr>\n",
       "<tr>\n",
       "  <th>x53</th>   <td>   -0.8334</td> <td>    0.714</td> <td>   -1.168</td> <td> 0.243</td> <td>   -2.233</td> <td>    0.566</td>\n",
       "</tr>\n",
       "<tr>\n",
       "  <th>x54</th>   <td>   -1.4081</td> <td>    0.627</td> <td>   -2.246</td> <td> 0.025</td> <td>   -2.637</td> <td>   -0.179</td>\n",
       "</tr>\n",
       "<tr>\n",
       "  <th>x55</th>   <td>    0.4711</td> <td>    0.649</td> <td>    0.726</td> <td> 0.468</td> <td>   -0.800</td> <td>    1.742</td>\n",
       "</tr>\n",
       "<tr>\n",
       "  <th>x56</th>   <td>   -0.9937</td> <td>    0.665</td> <td>   -1.494</td> <td> 0.135</td> <td>   -2.298</td> <td>    0.310</td>\n",
       "</tr>\n",
       "<tr>\n",
       "  <th>x57</th>   <td>   -1.1642</td> <td>    0.675</td> <td>   -1.724</td> <td> 0.085</td> <td>   -2.488</td> <td>    0.160</td>\n",
       "</tr>\n",
       "<tr>\n",
       "  <th>x58</th>   <td>    2.3371</td> <td>    1.026</td> <td>    2.278</td> <td> 0.023</td> <td>    0.326</td> <td>    4.348</td>\n",
       "</tr>\n",
       "<tr>\n",
       "  <th>x59</th>   <td>   -0.1614</td> <td>    0.673</td> <td>   -0.240</td> <td> 0.810</td> <td>   -1.480</td> <td>    1.157</td>\n",
       "</tr>\n",
       "<tr>\n",
       "  <th>x60</th>   <td>    0.1335</td> <td>    0.694</td> <td>    0.193</td> <td> 0.847</td> <td>   -1.226</td> <td>    1.493</td>\n",
       "</tr>\n",
       "<tr>\n",
       "  <th>x61</th>   <td>   -0.1311</td> <td>    0.659</td> <td>   -0.199</td> <td> 0.842</td> <td>   -1.422</td> <td>    1.160</td>\n",
       "</tr>\n",
       "<tr>\n",
       "  <th>x62</th>   <td>   -1.3671</td> <td>    0.746</td> <td>   -1.833</td> <td> 0.067</td> <td>   -2.829</td> <td>    0.095</td>\n",
       "</tr>\n",
       "<tr>\n",
       "  <th>x63</th>   <td>   -0.5356</td> <td>    0.658</td> <td>   -0.814</td> <td> 0.416</td> <td>   -1.825</td> <td>    0.754</td>\n",
       "</tr>\n",
       "<tr>\n",
       "  <th>x64</th>   <td>   -3.3001</td> <td>    0.727</td> <td>   -4.539</td> <td> 0.000</td> <td>   -4.725</td> <td>   -1.875</td>\n",
       "</tr>\n",
       "<tr>\n",
       "  <th>x65</th>   <td>   -0.4478</td> <td>    0.679</td> <td>   -0.660</td> <td> 0.509</td> <td>   -1.778</td> <td>    0.882</td>\n",
       "</tr>\n",
       "<tr>\n",
       "  <th>x66</th>   <td>   -1.5686</td> <td>    0.673</td> <td>   -2.332</td> <td> 0.020</td> <td>   -2.887</td> <td>   -0.250</td>\n",
       "</tr>\n",
       "<tr>\n",
       "  <th>x67</th>   <td>   -0.7336</td> <td>    0.821</td> <td>   -0.894</td> <td> 0.371</td> <td>   -2.342</td> <td>    0.875</td>\n",
       "</tr>\n",
       "<tr>\n",
       "  <th>x68</th>   <td>    0.3937</td> <td>    0.727</td> <td>    0.541</td> <td> 0.588</td> <td>   -1.032</td> <td>    1.819</td>\n",
       "</tr>\n",
       "<tr>\n",
       "  <th>x69</th>   <td>   -0.2257</td> <td>    0.666</td> <td>   -0.339</td> <td> 0.735</td> <td>   -1.532</td> <td>    1.081</td>\n",
       "</tr>\n",
       "<tr>\n",
       "  <th>x70</th>   <td>    1.1363</td> <td>    0.707</td> <td>    1.608</td> <td> 0.108</td> <td>   -0.249</td> <td>    2.522</td>\n",
       "</tr>\n",
       "<tr>\n",
       "  <th>x71</th>   <td>   -1.1795</td> <td>    0.652</td> <td>   -1.808</td> <td> 0.071</td> <td>   -2.458</td> <td>    0.099</td>\n",
       "</tr>\n",
       "<tr>\n",
       "  <th>x72</th>   <td>   -1.3242</td> <td>    0.717</td> <td>   -1.846</td> <td> 0.065</td> <td>   -2.730</td> <td>    0.082</td>\n",
       "</tr>\n",
       "<tr>\n",
       "  <th>x73</th>   <td>   -0.5030</td> <td>    0.657</td> <td>   -0.766</td> <td> 0.444</td> <td>   -1.790</td> <td>    0.784</td>\n",
       "</tr>\n",
       "<tr>\n",
       "  <th>x74</th>   <td>   -0.1941</td> <td>    0.694</td> <td>   -0.279</td> <td> 0.780</td> <td>   -1.555</td> <td>    1.167</td>\n",
       "</tr>\n",
       "<tr>\n",
       "  <th>x75</th>   <td>   -0.7166</td> <td>    0.704</td> <td>   -1.018</td> <td> 0.309</td> <td>   -2.097</td> <td>    0.664</td>\n",
       "</tr>\n",
       "<tr>\n",
       "  <th>x76</th>   <td>    0.8706</td> <td>    0.681</td> <td>    1.279</td> <td> 0.201</td> <td>   -0.464</td> <td>    2.205</td>\n",
       "</tr>\n",
       "<tr>\n",
       "  <th>x77</th>   <td>   -2.6548</td> <td>    0.820</td> <td>   -3.237</td> <td> 0.001</td> <td>   -4.262</td> <td>   -1.047</td>\n",
       "</tr>\n",
       "<tr>\n",
       "  <th>x78</th>   <td>   -1.6483</td> <td>    0.865</td> <td>   -1.905</td> <td> 0.057</td> <td>   -3.344</td> <td>    0.048</td>\n",
       "</tr>\n",
       "<tr>\n",
       "  <th>x79</th>   <td>    0.2176</td> <td>    0.645</td> <td>    0.337</td> <td> 0.736</td> <td>   -1.046</td> <td>    1.482</td>\n",
       "</tr>\n",
       "<tr>\n",
       "  <th>x80</th>   <td>   -1.3863</td> <td>    0.694</td> <td>   -1.997</td> <td> 0.046</td> <td>   -2.747</td> <td>   -0.025</td>\n",
       "</tr>\n",
       "<tr>\n",
       "  <th>x81</th>   <td>    0.0524</td> <td>    0.805</td> <td>    0.065</td> <td> 0.948</td> <td>   -1.526</td> <td>    1.630</td>\n",
       "</tr>\n",
       "<tr>\n",
       "  <th>x82</th>   <td>    4.2852</td> <td>    0.804</td> <td>    5.331</td> <td> 0.000</td> <td>    2.709</td> <td>    5.861</td>\n",
       "</tr>\n",
       "<tr>\n",
       "  <th>x83</th>   <td>   -1.6072</td> <td>    0.667</td> <td>   -2.408</td> <td> 0.016</td> <td>   -2.916</td> <td>   -0.299</td>\n",
       "</tr>\n",
       "<tr>\n",
       "  <th>x84</th>   <td>   -0.1698</td> <td>    0.649</td> <td>   -0.262</td> <td> 0.794</td> <td>   -1.442</td> <td>    1.103</td>\n",
       "</tr>\n",
       "<tr>\n",
       "  <th>x85</th>   <td>    0.0897</td> <td>    0.651</td> <td>    0.138</td> <td> 0.890</td> <td>   -1.186</td> <td>    1.365</td>\n",
       "</tr>\n",
       "<tr>\n",
       "  <th>x86</th>   <td>   -1.8035</td> <td>    0.650</td> <td>   -2.775</td> <td> 0.006</td> <td>   -3.077</td> <td>   -0.530</td>\n",
       "</tr>\n",
       "<tr>\n",
       "  <th>x87</th>   <td>   -0.0104</td> <td>    0.696</td> <td>   -0.015</td> <td> 0.988</td> <td>   -1.375</td> <td>    1.354</td>\n",
       "</tr>\n",
       "<tr>\n",
       "  <th>x88</th>   <td> -1.61e-15</td> <td> 1.21e-15</td> <td>   -1.329</td> <td> 0.184</td> <td>-3.98e-15</td> <td> 7.64e-16</td>\n",
       "</tr>\n",
       "<tr>\n",
       "  <th>x89</th>   <td>   -0.7367</td> <td>    0.770</td> <td>   -0.956</td> <td> 0.339</td> <td>   -2.247</td> <td>    0.773</td>\n",
       "</tr>\n",
       "<tr>\n",
       "  <th>x90</th>   <td>    0.9036</td> <td>    0.769</td> <td>    1.175</td> <td> 0.240</td> <td>   -0.604</td> <td>    2.411</td>\n",
       "</tr>\n",
       "<tr>\n",
       "  <th>x91</th>   <td>   -0.9968</td> <td>    0.719</td> <td>   -1.385</td> <td> 0.166</td> <td>   -2.407</td> <td>    0.414</td>\n",
       "</tr>\n",
       "<tr>\n",
       "  <th>x92</th>   <td>   -1.7419</td> <td>    0.721</td> <td>   -2.417</td> <td> 0.016</td> <td>   -3.155</td> <td>   -0.329</td>\n",
       "</tr>\n",
       "<tr>\n",
       "  <th>x93</th>   <td>   -1.1690</td> <td>    0.676</td> <td>   -1.730</td> <td> 0.084</td> <td>   -2.494</td> <td>    0.156</td>\n",
       "</tr>\n",
       "<tr>\n",
       "  <th>x94</th>   <td>   -0.3137</td> <td>    0.664</td> <td>   -0.473</td> <td> 0.637</td> <td>   -1.615</td> <td>    0.988</td>\n",
       "</tr>\n",
       "<tr>\n",
       "  <th>x95</th>   <td>   -2.2152</td> <td>    0.675</td> <td>   -3.282</td> <td> 0.001</td> <td>   -3.538</td> <td>   -0.892</td>\n",
       "</tr>\n",
       "<tr>\n",
       "  <th>x96</th>   <td>   -0.3780</td> <td>    0.701</td> <td>   -0.540</td> <td> 0.590</td> <td>   -1.752</td> <td>    0.996</td>\n",
       "</tr>\n",
       "<tr>\n",
       "  <th>x97</th>   <td>   -0.7123</td> <td>    0.655</td> <td>   -1.088</td> <td> 0.277</td> <td>   -1.996</td> <td>    0.571</td>\n",
       "</tr>\n",
       "<tr>\n",
       "  <th>x98</th>   <td>   -1.2987</td> <td>    0.653</td> <td>   -1.989</td> <td> 0.047</td> <td>   -2.578</td> <td>   -0.019</td>\n",
       "</tr>\n",
       "<tr>\n",
       "  <th>x99</th>   <td>   -0.5600</td> <td>    0.658</td> <td>   -0.852</td> <td> 0.395</td> <td>   -1.849</td> <td>    0.729</td>\n",
       "</tr>\n",
       "<tr>\n",
       "  <th>x100</th>  <td>   -1.7825</td> <td>    0.762</td> <td>   -2.338</td> <td> 0.019</td> <td>   -3.277</td> <td>   -0.288</td>\n",
       "</tr>\n",
       "<tr>\n",
       "  <th>x101</th>  <td>   -0.7356</td> <td>    0.653</td> <td>   -1.127</td> <td> 0.260</td> <td>   -2.016</td> <td>    0.544</td>\n",
       "</tr>\n",
       "<tr>\n",
       "  <th>x102</th>  <td>   -2.2878</td> <td>    0.948</td> <td>   -2.415</td> <td> 0.016</td> <td>   -4.145</td> <td>   -0.430</td>\n",
       "</tr>\n",
       "<tr>\n",
       "  <th>x103</th>  <td>   -0.3982</td> <td>    0.643</td> <td>   -0.620</td> <td> 0.535</td> <td>   -1.658</td> <td>    0.862</td>\n",
       "</tr>\n",
       "<tr>\n",
       "  <th>x104</th>  <td>   -0.6001</td> <td>    0.694</td> <td>   -0.865</td> <td> 0.387</td> <td>   -1.960</td> <td>    0.760</td>\n",
       "</tr>\n",
       "<tr>\n",
       "  <th>x105</th>  <td>    2.6935</td> <td>    0.730</td> <td>    3.688</td> <td> 0.000</td> <td>    1.262</td> <td>    4.125</td>\n",
       "</tr>\n",
       "<tr>\n",
       "  <th>x106</th>  <td>   -1.1506</td> <td>    0.739</td> <td>   -1.558</td> <td> 0.119</td> <td>   -2.599</td> <td>    0.297</td>\n",
       "</tr>\n",
       "<tr>\n",
       "  <th>x107</th>  <td>   -0.3217</td> <td>    0.723</td> <td>   -0.445</td> <td> 0.656</td> <td>   -1.740</td> <td>    1.096</td>\n",
       "</tr>\n",
       "<tr>\n",
       "  <th>x108</th>  <td>   -0.4087</td> <td>    0.653</td> <td>   -0.626</td> <td> 0.531</td> <td>   -1.688</td> <td>    0.871</td>\n",
       "</tr>\n",
       "<tr>\n",
       "  <th>x109</th>  <td>   -1.0764</td> <td>    0.720</td> <td>   -1.495</td> <td> 0.135</td> <td>   -2.487</td> <td>    0.335</td>\n",
       "</tr>\n",
       "<tr>\n",
       "  <th>x110</th>  <td>   -0.9900</td> <td>    0.789</td> <td>   -1.254</td> <td> 0.210</td> <td>   -2.537</td> <td>    0.557</td>\n",
       "</tr>\n",
       "<tr>\n",
       "  <th>x111</th>  <td>   -0.6020</td> <td>    0.666</td> <td>   -0.904</td> <td> 0.366</td> <td>   -1.907</td> <td>    0.703</td>\n",
       "</tr>\n",
       "<tr>\n",
       "  <th>x112</th>  <td>   -1.7211</td> <td>    0.762</td> <td>   -2.260</td> <td> 0.024</td> <td>   -3.214</td> <td>   -0.228</td>\n",
       "</tr>\n",
       "<tr>\n",
       "  <th>x113</th>  <td>    6.0871</td> <td>    0.976</td> <td>    6.234</td> <td> 0.000</td> <td>    4.173</td> <td>    8.001</td>\n",
       "</tr>\n",
       "<tr>\n",
       "  <th>x114</th>  <td>   -0.0758</td> <td>    0.781</td> <td>   -0.097</td> <td> 0.923</td> <td>   -1.606</td> <td>    1.455</td>\n",
       "</tr>\n",
       "<tr>\n",
       "  <th>x115</th>  <td>    0.1029</td> <td>    0.657</td> <td>    0.157</td> <td> 0.876</td> <td>   -1.186</td> <td>    1.391</td>\n",
       "</tr>\n",
       "<tr>\n",
       "  <th>x116</th>  <td>   -0.8709</td> <td>    0.714</td> <td>   -1.220</td> <td> 0.223</td> <td>   -2.271</td> <td>    0.529</td>\n",
       "</tr>\n",
       "<tr>\n",
       "  <th>x117</th>  <td>-4.174e-15</td> <td> 9.24e-16</td> <td>   -4.518</td> <td> 0.000</td> <td>-5.98e-15</td> <td>-2.36e-15</td>\n",
       "</tr>\n",
       "<tr>\n",
       "  <th>x118</th>  <td> 5.039e-16</td> <td> 9.52e-16</td> <td>    0.529</td> <td> 0.597</td> <td>-1.36e-15</td> <td> 2.37e-15</td>\n",
       "</tr>\n",
       "<tr>\n",
       "  <th>x119</th>  <td>    0.2418</td> <td>    0.740</td> <td>    0.327</td> <td> 0.744</td> <td>   -1.208</td> <td>    1.692</td>\n",
       "</tr>\n",
       "<tr>\n",
       "  <th>x120</th>  <td>    4.2453</td> <td>    0.798</td> <td>    5.319</td> <td> 0.000</td> <td>    2.681</td> <td>    5.810</td>\n",
       "</tr>\n",
       "<tr>\n",
       "  <th>x121</th>  <td>    3.1848</td> <td>    0.724</td> <td>    4.396</td> <td> 0.000</td> <td>    1.765</td> <td>    4.605</td>\n",
       "</tr>\n",
       "<tr>\n",
       "  <th>x122</th>  <td>   -0.5363</td> <td>    0.666</td> <td>   -0.805</td> <td> 0.421</td> <td>   -1.842</td> <td>    0.770</td>\n",
       "</tr>\n",
       "<tr>\n",
       "  <th>x123</th>  <td>   -1.2038</td> <td>    0.780</td> <td>   -1.544</td> <td> 0.123</td> <td>   -2.733</td> <td>    0.325</td>\n",
       "</tr>\n",
       "<tr>\n",
       "  <th>x124</th>  <td>   -0.9249</td> <td>    0.668</td> <td>   -1.384</td> <td> 0.167</td> <td>   -2.235</td> <td>    0.386</td>\n",
       "</tr>\n",
       "<tr>\n",
       "  <th>x125</th>  <td>   -0.8893</td> <td>    0.814</td> <td>   -1.092</td> <td> 0.275</td> <td>   -2.485</td> <td>    0.707</td>\n",
       "</tr>\n",
       "<tr>\n",
       "  <th>x126</th>  <td>   -1.9273</td> <td>    0.786</td> <td>   -2.451</td> <td> 0.014</td> <td>   -3.469</td> <td>   -0.386</td>\n",
       "</tr>\n",
       "<tr>\n",
       "  <th>x127</th>  <td>   -3.2433</td> <td>    0.697</td> <td>   -4.653</td> <td> 0.000</td> <td>   -4.610</td> <td>   -1.877</td>\n",
       "</tr>\n",
       "<tr>\n",
       "  <th>x128</th>  <td>   -0.8977</td> <td>    0.697</td> <td>   -1.289</td> <td> 0.198</td> <td>   -2.263</td> <td>    0.468</td>\n",
       "</tr>\n",
       "<tr>\n",
       "  <th>x129</th>  <td>   -1.8758</td> <td>    0.737</td> <td>   -2.547</td> <td> 0.011</td> <td>   -3.320</td> <td>   -0.432</td>\n",
       "</tr>\n",
       "<tr>\n",
       "  <th>x130</th>  <td>   -0.2468</td> <td>    0.721</td> <td>   -0.342</td> <td> 0.732</td> <td>   -1.660</td> <td>    1.167</td>\n",
       "</tr>\n",
       "<tr>\n",
       "  <th>x131</th>  <td>   -1.4269</td> <td>    0.793</td> <td>   -1.799</td> <td> 0.072</td> <td>   -2.981</td> <td>    0.128</td>\n",
       "</tr>\n",
       "<tr>\n",
       "  <th>x132</th>  <td>    5.1433</td> <td>    0.719</td> <td>    7.152</td> <td> 0.000</td> <td>    3.733</td> <td>    6.553</td>\n",
       "</tr>\n",
       "<tr>\n",
       "  <th>x133</th>  <td>    5.2656</td> <td>    0.597</td> <td>    8.825</td> <td> 0.000</td> <td>    4.096</td> <td>    6.435</td>\n",
       "</tr>\n",
       "<tr>\n",
       "  <th>x134</th>  <td>    1.1152</td> <td>    0.730</td> <td>    1.529</td> <td> 0.126</td> <td>   -0.315</td> <td>    2.545</td>\n",
       "</tr>\n",
       "<tr>\n",
       "  <th>x135</th>  <td>   -1.5349</td> <td>    0.769</td> <td>   -1.995</td> <td> 0.046</td> <td>   -3.043</td> <td>   -0.027</td>\n",
       "</tr>\n",
       "<tr>\n",
       "  <th>x136</th>  <td>   -2.7345</td> <td>    0.720</td> <td>   -3.800</td> <td> 0.000</td> <td>   -4.145</td> <td>   -1.324</td>\n",
       "</tr>\n",
       "<tr>\n",
       "  <th>x137</th>  <td>   -0.9496</td> <td>    0.673</td> <td>   -1.412</td> <td> 0.158</td> <td>   -2.269</td> <td>    0.369</td>\n",
       "</tr>\n",
       "<tr>\n",
       "  <th>x138</th>  <td>   -0.7841</td> <td>    0.650</td> <td>   -1.206</td> <td> 0.228</td> <td>   -2.059</td> <td>    0.491</td>\n",
       "</tr>\n",
       "<tr>\n",
       "  <th>x139</th>  <td>    0.2266</td> <td>    0.807</td> <td>    0.281</td> <td> 0.779</td> <td>   -1.355</td> <td>    1.809</td>\n",
       "</tr>\n",
       "<tr>\n",
       "  <th>x140</th>  <td>   -1.3224</td> <td>    0.865</td> <td>   -1.529</td> <td> 0.126</td> <td>   -3.017</td> <td>    0.373</td>\n",
       "</tr>\n",
       "<tr>\n",
       "  <th>x141</th>  <td>   -0.1290</td> <td>    0.749</td> <td>   -0.172</td> <td> 0.863</td> <td>   -1.598</td> <td>    1.340</td>\n",
       "</tr>\n",
       "<tr>\n",
       "  <th>x142</th>  <td>   -0.0162</td> <td>    0.674</td> <td>   -0.024</td> <td> 0.981</td> <td>   -1.338</td> <td>    1.306</td>\n",
       "</tr>\n",
       "<tr>\n",
       "  <th>x143</th>  <td>    2.5029</td> <td>    0.742</td> <td>    3.371</td> <td> 0.001</td> <td>    1.047</td> <td>    3.958</td>\n",
       "</tr>\n",
       "<tr>\n",
       "  <th>x144</th>  <td>   -1.4913</td> <td>    0.847</td> <td>   -1.760</td> <td> 0.079</td> <td>   -3.153</td> <td>    0.170</td>\n",
       "</tr>\n",
       "<tr>\n",
       "  <th>x145</th>  <td>   -0.0845</td> <td>    0.647</td> <td>   -0.131</td> <td> 0.896</td> <td>   -1.352</td> <td>    1.183</td>\n",
       "</tr>\n",
       "<tr>\n",
       "  <th>x146</th>  <td>    0.0542</td> <td>    0.654</td> <td>    0.083</td> <td> 0.934</td> <td>   -1.228</td> <td>    1.337</td>\n",
       "</tr>\n",
       "<tr>\n",
       "  <th>x147</th>  <td>   -0.0295</td> <td>    0.709</td> <td>   -0.042</td> <td> 0.967</td> <td>   -1.420</td> <td>    1.361</td>\n",
       "</tr>\n",
       "<tr>\n",
       "  <th>x148</th>  <td>    0.0235</td> <td>    0.690</td> <td>    0.034</td> <td> 0.973</td> <td>   -1.330</td> <td>    1.377</td>\n",
       "</tr>\n",
       "<tr>\n",
       "  <th>x149</th>  <td>   -0.8728</td> <td>    0.665</td> <td>   -1.312</td> <td> 0.189</td> <td>   -2.177</td> <td>    0.431</td>\n",
       "</tr>\n",
       "<tr>\n",
       "  <th>x150</th>  <td>   -1.9733</td> <td>    0.768</td> <td>   -2.570</td> <td> 0.010</td> <td>   -3.478</td> <td>   -0.468</td>\n",
       "</tr>\n",
       "<tr>\n",
       "  <th>x151</th>  <td>   -0.5716</td> <td>    0.823</td> <td>   -0.694</td> <td> 0.488</td> <td>   -2.186</td> <td>    1.042</td>\n",
       "</tr>\n",
       "<tr>\n",
       "  <th>x152</th>  <td>   -0.1324</td> <td>    0.804</td> <td>   -0.165</td> <td> 0.869</td> <td>   -1.708</td> <td>    1.444</td>\n",
       "</tr>\n",
       "<tr>\n",
       "  <th>x153</th>  <td>    4.0805</td> <td>    0.706</td> <td>    5.779</td> <td> 0.000</td> <td>    2.696</td> <td>    5.465</td>\n",
       "</tr>\n",
       "<tr>\n",
       "  <th>x154</th>  <td>   -0.6213</td> <td>    0.652</td> <td>   -0.953</td> <td> 0.340</td> <td>   -1.899</td> <td>    0.656</td>\n",
       "</tr>\n",
       "<tr>\n",
       "  <th>x155</th>  <td>   -5.3033</td> <td>    0.545</td> <td>   -9.739</td> <td> 0.000</td> <td>   -6.371</td> <td>   -4.236</td>\n",
       "</tr>\n",
       "<tr>\n",
       "  <th>x156</th>  <td>    0.3930</td> <td>    0.681</td> <td>    0.578</td> <td> 0.564</td> <td>   -0.941</td> <td>    1.727</td>\n",
       "</tr>\n",
       "<tr>\n",
       "  <th>x157</th>  <td>   -2.8558</td> <td>    0.622</td> <td>   -4.592</td> <td> 0.000</td> <td>   -4.075</td> <td>   -1.637</td>\n",
       "</tr>\n",
       "<tr>\n",
       "  <th>x158</th>  <td>   -1.6788</td> <td>    0.859</td> <td>   -1.953</td> <td> 0.051</td> <td>   -3.364</td> <td>    0.006</td>\n",
       "</tr>\n",
       "<tr>\n",
       "  <th>x159</th>  <td>   -0.9177</td> <td>    0.673</td> <td>   -1.363</td> <td> 0.173</td> <td>   -2.237</td> <td>    0.402</td>\n",
       "</tr>\n",
       "<tr>\n",
       "  <th>x160</th>  <td>    0.1156</td> <td>    0.651</td> <td>    0.178</td> <td> 0.859</td> <td>   -1.160</td> <td>    1.391</td>\n",
       "</tr>\n",
       "<tr>\n",
       "  <th>x161</th>  <td>   -0.7994</td> <td>    0.654</td> <td>   -1.223</td> <td> 0.221</td> <td>   -2.081</td> <td>    0.482</td>\n",
       "</tr>\n",
       "<tr>\n",
       "  <th>x162</th>  <td>   -1.4997</td> <td>    0.661</td> <td>   -2.269</td> <td> 0.023</td> <td>   -2.796</td> <td>   -0.204</td>\n",
       "</tr>\n",
       "<tr>\n",
       "  <th>x163</th>  <td>   -2.1242</td> <td>    0.693</td> <td>   -3.066</td> <td> 0.002</td> <td>   -3.482</td> <td>   -0.766</td>\n",
       "</tr>\n",
       "<tr>\n",
       "  <th>x164</th>  <td>   -0.2607</td> <td>    0.883</td> <td>   -0.295</td> <td> 0.768</td> <td>   -1.993</td> <td>    1.471</td>\n",
       "</tr>\n",
       "<tr>\n",
       "  <th>x165</th>  <td>   -0.3536</td> <td>    0.690</td> <td>   -0.512</td> <td> 0.608</td> <td>   -1.707</td> <td>    1.000</td>\n",
       "</tr>\n",
       "<tr>\n",
       "  <th>x166</th>  <td>   -2.6737</td> <td>    0.765</td> <td>   -3.497</td> <td> 0.000</td> <td>   -4.172</td> <td>   -1.175</td>\n",
       "</tr>\n",
       "<tr>\n",
       "  <th>x167</th>  <td>    0.0733</td> <td>    0.659</td> <td>    0.111</td> <td> 0.912</td> <td>   -1.219</td> <td>    1.366</td>\n",
       "</tr>\n",
       "<tr>\n",
       "  <th>x168</th>  <td>   -0.9545</td> <td>    0.746</td> <td>   -1.279</td> <td> 0.201</td> <td>   -2.418</td> <td>    0.509</td>\n",
       "</tr>\n",
       "<tr>\n",
       "  <th>x169</th>  <td>    1.5865</td> <td>    0.756</td> <td>    2.099</td> <td> 0.036</td> <td>    0.105</td> <td>    3.068</td>\n",
       "</tr>\n",
       "<tr>\n",
       "  <th>x170</th>  <td>    3.1043</td> <td>    0.883</td> <td>    3.517</td> <td> 0.000</td> <td>    1.374</td> <td>    4.835</td>\n",
       "</tr>\n",
       "<tr>\n",
       "  <th>x171</th>  <td>   -1.2483</td> <td>    0.603</td> <td>   -2.068</td> <td> 0.039</td> <td>   -2.431</td> <td>   -0.065</td>\n",
       "</tr>\n",
       "<tr>\n",
       "  <th>x172</th>  <td>   -2.2320</td> <td>    0.945</td> <td>   -2.363</td> <td> 0.018</td> <td>   -4.084</td> <td>   -0.380</td>\n",
       "</tr>\n",
       "<tr>\n",
       "  <th>x173</th>  <td>   -0.8649</td> <td>    0.674</td> <td>   -1.283</td> <td> 0.200</td> <td>   -2.187</td> <td>    0.457</td>\n",
       "</tr>\n",
       "<tr>\n",
       "  <th>x174</th>  <td>   -0.4780</td> <td>    0.702</td> <td>   -0.681</td> <td> 0.496</td> <td>   -1.853</td> <td>    0.897</td>\n",
       "</tr>\n",
       "<tr>\n",
       "  <th>x175</th>  <td>   -1.0696</td> <td>    0.686</td> <td>   -1.560</td> <td> 0.119</td> <td>   -2.414</td> <td>    0.275</td>\n",
       "</tr>\n",
       "<tr>\n",
       "  <th>x176</th>  <td>    1.1994</td> <td>    0.680</td> <td>    1.763</td> <td> 0.078</td> <td>   -0.135</td> <td>    2.533</td>\n",
       "</tr>\n",
       "<tr>\n",
       "  <th>x177</th>  <td>   -0.8594</td> <td>    0.689</td> <td>   -1.248</td> <td> 0.212</td> <td>   -2.210</td> <td>    0.491</td>\n",
       "</tr>\n",
       "<tr>\n",
       "  <th>x178</th>  <td>   -1.5308</td> <td>    0.707</td> <td>   -2.164</td> <td> 0.031</td> <td>   -2.917</td> <td>   -0.144</td>\n",
       "</tr>\n",
       "<tr>\n",
       "  <th>x179</th>  <td>   -2.0577</td> <td>    0.723</td> <td>   -2.846</td> <td> 0.004</td> <td>   -3.475</td> <td>   -0.640</td>\n",
       "</tr>\n",
       "<tr>\n",
       "  <th>x180</th>  <td>   -1.1410</td> <td>    0.672</td> <td>   -1.698</td> <td> 0.090</td> <td>   -2.458</td> <td>    0.176</td>\n",
       "</tr>\n",
       "<tr>\n",
       "  <th>x181</th>  <td>   -0.1886</td> <td>    0.814</td> <td>   -0.232</td> <td> 0.817</td> <td>   -1.784</td> <td>    1.407</td>\n",
       "</tr>\n",
       "<tr>\n",
       "  <th>x182</th>  <td>   -1.6087</td> <td>    0.696</td> <td>   -2.310</td> <td> 0.021</td> <td>   -2.974</td> <td>   -0.244</td>\n",
       "</tr>\n",
       "<tr>\n",
       "  <th>x183</th>  <td>   -0.6668</td> <td>    0.659</td> <td>   -1.012</td> <td> 0.312</td> <td>   -1.958</td> <td>    0.625</td>\n",
       "</tr>\n",
       "<tr>\n",
       "  <th>x184</th>  <td>   -0.3507</td> <td>    0.652</td> <td>   -0.538</td> <td> 0.590</td> <td>   -1.628</td> <td>    0.927</td>\n",
       "</tr>\n",
       "<tr>\n",
       "  <th>x185</th>  <td>   -1.0187</td> <td>    0.709</td> <td>   -1.437</td> <td> 0.151</td> <td>   -2.408</td> <td>    0.371</td>\n",
       "</tr>\n",
       "<tr>\n",
       "  <th>x186</th>  <td>    4.2551</td> <td>    0.865</td> <td>    4.921</td> <td> 0.000</td> <td>    2.560</td> <td>    5.950</td>\n",
       "</tr>\n",
       "<tr>\n",
       "  <th>x187</th>  <td>   -0.0077</td> <td>    0.651</td> <td>   -0.012</td> <td> 0.991</td> <td>   -1.285</td> <td>    1.269</td>\n",
       "</tr>\n",
       "<tr>\n",
       "  <th>x188</th>  <td>   -0.3642</td> <td>    0.657</td> <td>   -0.554</td> <td> 0.580</td> <td>   -1.653</td> <td>    0.925</td>\n",
       "</tr>\n",
       "<tr>\n",
       "  <th>x189</th>  <td> 1.137e-15</td> <td> 8.36e-16</td> <td>    1.360</td> <td> 0.174</td> <td>-5.02e-16</td> <td> 2.78e-15</td>\n",
       "</tr>\n",
       "<tr>\n",
       "  <th>x190</th>  <td>   -0.3536</td> <td>    1.415</td> <td>   -0.250</td> <td> 0.803</td> <td>   -3.128</td> <td>    2.420</td>\n",
       "</tr>\n",
       "<tr>\n",
       "  <th>x191</th>  <td>    0.0184</td> <td>    0.646</td> <td>    0.029</td> <td> 0.977</td> <td>   -1.247</td> <td>    1.284</td>\n",
       "</tr>\n",
       "<tr>\n",
       "  <th>x192</th>  <td>   -0.3691</td> <td>    0.643</td> <td>   -0.575</td> <td> 0.566</td> <td>   -1.629</td> <td>    0.890</td>\n",
       "</tr>\n",
       "<tr>\n",
       "  <th>x193</th>  <td>   -0.2466</td> <td>    0.647</td> <td>   -0.381</td> <td> 0.703</td> <td>   -1.515</td> <td>    1.021</td>\n",
       "</tr>\n",
       "<tr>\n",
       "  <th>x194</th>  <td>    0.5888</td> <td>    0.810</td> <td>    0.727</td> <td> 0.467</td> <td>   -0.998</td> <td>    2.176</td>\n",
       "</tr>\n",
       "<tr>\n",
       "  <th>x195</th>  <td>    0.1489</td> <td>    0.658</td> <td>    0.226</td> <td> 0.821</td> <td>   -1.141</td> <td>    1.439</td>\n",
       "</tr>\n",
       "<tr>\n",
       "  <th>x196</th>  <td>    0.7339</td> <td>    0.690</td> <td>    1.064</td> <td> 0.287</td> <td>   -0.618</td> <td>    2.086</td>\n",
       "</tr>\n",
       "<tr>\n",
       "  <th>x197</th>  <td> 2.865e-16</td> <td> 8.17e-16</td> <td>    0.351</td> <td> 0.726</td> <td>-1.32e-15</td> <td> 1.89e-15</td>\n",
       "</tr>\n",
       "<tr>\n",
       "  <th>x198</th>  <td>   -4.2636</td> <td>    2.719</td> <td>   -1.568</td> <td> 0.117</td> <td>   -9.594</td> <td>    1.066</td>\n",
       "</tr>\n",
       "<tr>\n",
       "  <th>x199</th>  <td>    0.4567</td> <td>    0.834</td> <td>    0.548</td> <td> 0.584</td> <td>   -1.178</td> <td>    2.091</td>\n",
       "</tr>\n",
       "<tr>\n",
       "  <th>x200</th>  <td>    0.0178</td> <td>    0.659</td> <td>    0.027</td> <td> 0.978</td> <td>   -1.274</td> <td>    1.309</td>\n",
       "</tr>\n",
       "<tr>\n",
       "  <th>x201</th>  <td>    6.7076</td> <td>    1.986</td> <td>    3.378</td> <td> 0.001</td> <td>    2.815</td> <td>   10.600</td>\n",
       "</tr>\n",
       "<tr>\n",
       "  <th>x202</th>  <td>   -0.7731</td> <td>    0.644</td> <td>   -1.201</td> <td> 0.230</td> <td>   -2.035</td> <td>    0.489</td>\n",
       "</tr>\n",
       "<tr>\n",
       "  <th>x203</th>  <td>    0.0924</td> <td>    0.642</td> <td>    0.144</td> <td> 0.886</td> <td>   -1.166</td> <td>    1.351</td>\n",
       "</tr>\n",
       "<tr>\n",
       "  <th>x204</th>  <td>   -1.0311</td> <td>    0.650</td> <td>   -1.585</td> <td> 0.113</td> <td>   -2.306</td> <td>    0.244</td>\n",
       "</tr>\n",
       "<tr>\n",
       "  <th>x205</th>  <td>-1.256e-15</td> <td> 8.61e-16</td> <td>   -1.459</td> <td> 0.145</td> <td>-2.94e-15</td> <td> 4.32e-16</td>\n",
       "</tr>\n",
       "<tr>\n",
       "  <th>x206</th>  <td>    0.2061</td> <td>    0.647</td> <td>    0.319</td> <td> 0.750</td> <td>   -1.062</td> <td>    1.474</td>\n",
       "</tr>\n",
       "<tr>\n",
       "  <th>x207</th>  <td>   -0.5287</td> <td>    0.676</td> <td>   -0.782</td> <td> 0.434</td> <td>   -1.854</td> <td>    0.797</td>\n",
       "</tr>\n",
       "<tr>\n",
       "  <th>x208</th>  <td>    2.5272</td> <td>    0.684</td> <td>    3.693</td> <td> 0.000</td> <td>    1.186</td> <td>    3.869</td>\n",
       "</tr>\n",
       "<tr>\n",
       "  <th>x209</th>  <td>   -4.3358</td> <td>    0.541</td> <td>   -8.019</td> <td> 0.000</td> <td>   -5.396</td> <td>   -3.276</td>\n",
       "</tr>\n",
       "<tr>\n",
       "  <th>x210</th>  <td>   -0.6220</td> <td>    0.647</td> <td>   -0.961</td> <td> 0.337</td> <td>   -1.891</td> <td>    0.647</td>\n",
       "</tr>\n",
       "<tr>\n",
       "  <th>x211</th>  <td>    0.8307</td> <td>    0.681</td> <td>    1.220</td> <td> 0.222</td> <td>   -0.504</td> <td>    2.165</td>\n",
       "</tr>\n",
       "<tr>\n",
       "  <th>x212</th>  <td>    0.1781</td> <td>    0.748</td> <td>    0.238</td> <td> 0.812</td> <td>   -1.288</td> <td>    1.644</td>\n",
       "</tr>\n",
       "<tr>\n",
       "  <th>x213</th>  <td>    1.9389</td> <td>    0.799</td> <td>    2.426</td> <td> 0.015</td> <td>    0.372</td> <td>    3.506</td>\n",
       "</tr>\n",
       "<tr>\n",
       "  <th>x214</th>  <td>   -0.0367</td> <td>    0.657</td> <td>   -0.056</td> <td> 0.955</td> <td>   -1.325</td> <td>    1.251</td>\n",
       "</tr>\n",
       "<tr>\n",
       "  <th>x215</th>  <td>   -0.1454</td> <td>    0.671</td> <td>   -0.217</td> <td> 0.828</td> <td>   -1.461</td> <td>    1.170</td>\n",
       "</tr>\n",
       "<tr>\n",
       "  <th>x216</th>  <td>   -0.0476</td> <td>    0.646</td> <td>   -0.074</td> <td> 0.941</td> <td>   -1.314</td> <td>    1.219</td>\n",
       "</tr>\n",
       "<tr>\n",
       "  <th>x217</th>  <td>   -0.4087</td> <td>    0.657</td> <td>   -0.622</td> <td> 0.534</td> <td>   -1.696</td> <td>    0.879</td>\n",
       "</tr>\n",
       "<tr>\n",
       "  <th>x218</th>  <td>   -0.1994</td> <td>    0.647</td> <td>   -0.308</td> <td> 0.758</td> <td>   -1.468</td> <td>    1.069</td>\n",
       "</tr>\n",
       "<tr>\n",
       "  <th>x219</th>  <td>    1.2530</td> <td>    0.692</td> <td>    1.811</td> <td> 0.070</td> <td>   -0.103</td> <td>    2.609</td>\n",
       "</tr>\n",
       "<tr>\n",
       "  <th>x220</th>  <td>    1.8045</td> <td>    0.630</td> <td>    2.863</td> <td> 0.004</td> <td>    0.569</td> <td>    3.040</td>\n",
       "</tr>\n",
       "<tr>\n",
       "  <th>x221</th>  <td>   -0.3724</td> <td>    0.661</td> <td>   -0.563</td> <td> 0.573</td> <td>   -1.668</td> <td>    0.923</td>\n",
       "</tr>\n",
       "<tr>\n",
       "  <th>x222</th>  <td>   -2.3032</td> <td>    0.675</td> <td>   -3.411</td> <td> 0.001</td> <td>   -3.627</td> <td>   -0.980</td>\n",
       "</tr>\n",
       "<tr>\n",
       "  <th>x223</th>  <td>    0.5329</td> <td>    0.676</td> <td>    0.789</td> <td> 0.430</td> <td>   -0.792</td> <td>    1.858</td>\n",
       "</tr>\n",
       "<tr>\n",
       "  <th>x224</th>  <td>   -1.0380</td> <td>    0.721</td> <td>   -1.440</td> <td> 0.150</td> <td>   -2.451</td> <td>    0.375</td>\n",
       "</tr>\n",
       "<tr>\n",
       "  <th>x225</th>  <td>    2.2858</td> <td>    0.736</td> <td>    3.106</td> <td> 0.002</td> <td>    0.843</td> <td>    3.729</td>\n",
       "</tr>\n",
       "<tr>\n",
       "  <th>x226</th>  <td>    2.2443</td> <td>    0.567</td> <td>    3.957</td> <td> 0.000</td> <td>    1.132</td> <td>    3.356</td>\n",
       "</tr>\n",
       "<tr>\n",
       "  <th>x227</th>  <td>   -1.1383</td> <td>    0.644</td> <td>   -1.767</td> <td> 0.077</td> <td>   -2.401</td> <td>    0.125</td>\n",
       "</tr>\n",
       "<tr>\n",
       "  <th>x228</th>  <td>   -0.2235</td> <td>    0.642</td> <td>   -0.348</td> <td> 0.728</td> <td>   -1.482</td> <td>    1.035</td>\n",
       "</tr>\n",
       "<tr>\n",
       "  <th>x229</th>  <td>    2.3272</td> <td>    0.686</td> <td>    3.394</td> <td> 0.001</td> <td>    0.983</td> <td>    3.671</td>\n",
       "</tr>\n",
       "<tr>\n",
       "  <th>x230</th>  <td>    0.6533</td> <td>    0.667</td> <td>    0.980</td> <td> 0.327</td> <td>   -0.654</td> <td>    1.960</td>\n",
       "</tr>\n",
       "<tr>\n",
       "  <th>x231</th>  <td>    3.5236</td> <td>    0.660</td> <td>    5.337</td> <td> 0.000</td> <td>    2.229</td> <td>    4.818</td>\n",
       "</tr>\n",
       "<tr>\n",
       "  <th>x232</th>  <td>    0.2312</td> <td>    0.694</td> <td>    0.333</td> <td> 0.739</td> <td>   -1.129</td> <td>    1.592</td>\n",
       "</tr>\n",
       "<tr>\n",
       "  <th>x233</th>  <td>    0.1575</td> <td>    0.651</td> <td>    0.242</td> <td> 0.809</td> <td>   -1.119</td> <td>    1.434</td>\n",
       "</tr>\n",
       "<tr>\n",
       "  <th>x234</th>  <td>    0.2345</td> <td>    0.646</td> <td>    0.363</td> <td> 0.717</td> <td>   -1.032</td> <td>    1.501</td>\n",
       "</tr>\n",
       "<tr>\n",
       "  <th>x235</th>  <td> 4.727e-16</td> <td> 7.25e-16</td> <td>    0.652</td> <td> 0.514</td> <td>-9.48e-16</td> <td> 1.89e-15</td>\n",
       "</tr>\n",
       "<tr>\n",
       "  <th>x236</th>  <td>    0.3207</td> <td>    0.664</td> <td>    0.483</td> <td> 0.629</td> <td>   -0.982</td> <td>    1.623</td>\n",
       "</tr>\n",
       "<tr>\n",
       "  <th>x237</th>  <td> 1.985e-16</td> <td> 8.57e-16</td> <td>    0.232</td> <td> 0.817</td> <td>-1.48e-15</td> <td> 1.88e-15</td>\n",
       "</tr>\n",
       "<tr>\n",
       "  <th>x238</th>  <td>   21.8750</td> <td>    1.053</td> <td>   20.767</td> <td> 0.000</td> <td>   19.810</td> <td>   23.940</td>\n",
       "</tr>\n",
       "<tr>\n",
       "  <th>x239</th>  <td>   -3.8209</td> <td>    0.740</td> <td>   -5.165</td> <td> 0.000</td> <td>   -5.271</td> <td>   -2.371</td>\n",
       "</tr>\n",
       "<tr>\n",
       "  <th>x240</th>  <td>    0.1136</td> <td>    0.600</td> <td>    0.189</td> <td> 0.850</td> <td>   -1.063</td> <td>    1.291</td>\n",
       "</tr>\n",
       "<tr>\n",
       "  <th>x241</th>  <td>    0.1457</td> <td>    0.649</td> <td>    0.224</td> <td> 0.822</td> <td>   -1.128</td> <td>    1.419</td>\n",
       "</tr>\n",
       "<tr>\n",
       "  <th>x242</th>  <td>    0.1362</td> <td>    0.520</td> <td>    0.262</td> <td> 0.793</td> <td>   -0.883</td> <td>    1.155</td>\n",
       "</tr>\n",
       "<tr>\n",
       "  <th>x243</th>  <td>   -1.2458</td> <td>    0.586</td> <td>   -2.126</td> <td> 0.034</td> <td>   -2.395</td> <td>   -0.097</td>\n",
       "</tr>\n",
       "<tr>\n",
       "  <th>x244</th>  <td>    0.4529</td> <td>    0.332</td> <td>    1.366</td> <td> 0.172</td> <td>   -0.197</td> <td>    1.103</td>\n",
       "</tr>\n",
       "<tr>\n",
       "  <th>x245</th>  <td>   -1.0513</td> <td>    1.168</td> <td>   -0.900</td> <td> 0.368</td> <td>   -3.340</td> <td>    1.238</td>\n",
       "</tr>\n",
       "<tr>\n",
       "  <th>x246</th>  <td>    1.4651</td> <td>    0.740</td> <td>    1.980</td> <td> 0.048</td> <td>    0.015</td> <td>    2.915</td>\n",
       "</tr>\n",
       "<tr>\n",
       "  <th>x247</th>  <td>-9.498e-16</td> <td> 6.09e-16</td> <td>   -1.559</td> <td> 0.119</td> <td>-2.14e-15</td> <td> 2.45e-16</td>\n",
       "</tr>\n",
       "<tr>\n",
       "  <th>x248</th>  <td>   -0.6087</td> <td>    0.542</td> <td>   -1.124</td> <td> 0.261</td> <td>   -1.671</td> <td>    0.453</td>\n",
       "</tr>\n",
       "<tr>\n",
       "  <th>x249</th>  <td>    0.3356</td> <td>    0.437</td> <td>    0.767</td> <td> 0.443</td> <td>   -0.522</td> <td>    1.193</td>\n",
       "</tr>\n",
       "<tr>\n",
       "  <th>x250</th>  <td>    1.7472</td> <td>    0.644</td> <td>    2.712</td> <td> 0.007</td> <td>    0.484</td> <td>    3.010</td>\n",
       "</tr>\n",
       "<tr>\n",
       "  <th>x251</th>  <td>   -0.0117</td> <td>    0.452</td> <td>   -0.026</td> <td> 0.979</td> <td>   -0.898</td> <td>    0.874</td>\n",
       "</tr>\n",
       "<tr>\n",
       "  <th>x252</th>  <td>    0.6624</td> <td>    0.675</td> <td>    0.981</td> <td> 0.327</td> <td>   -0.662</td> <td>    1.986</td>\n",
       "</tr>\n",
       "<tr>\n",
       "  <th>x253</th>  <td> 8.685e-16</td> <td> 5.47e-16</td> <td>    1.587</td> <td> 0.113</td> <td>-2.04e-16</td> <td> 1.94e-15</td>\n",
       "</tr>\n",
       "<tr>\n",
       "  <th>x254</th>  <td>   -3.3251</td> <td>    1.054</td> <td>   -3.154</td> <td> 0.002</td> <td>   -5.392</td> <td>   -1.259</td>\n",
       "</tr>\n",
       "<tr>\n",
       "  <th>x255</th>  <td>    2.6816</td> <td>    1.065</td> <td>    2.518</td> <td> 0.012</td> <td>    0.593</td> <td>    4.770</td>\n",
       "</tr>\n",
       "<tr>\n",
       "  <th>x256</th>  <td>   -3.7671</td> <td>    0.433</td> <td>   -8.692</td> <td> 0.000</td> <td>   -4.617</td> <td>   -2.918</td>\n",
       "</tr>\n",
       "<tr>\n",
       "  <th>x257</th>  <td>   -1.0271</td> <td>    0.798</td> <td>   -1.287</td> <td> 0.198</td> <td>   -2.591</td> <td>    0.537</td>\n",
       "</tr>\n",
       "<tr>\n",
       "  <th>x258</th>  <td>    2.1686</td> <td>    0.854</td> <td>    2.539</td> <td> 0.011</td> <td>    0.494</td> <td>    3.843</td>\n",
       "</tr>\n",
       "<tr>\n",
       "  <th>x259</th>  <td>    1.5782</td> <td>    0.806</td> <td>    1.959</td> <td> 0.050</td> <td>   -0.001</td> <td>    3.158</td>\n",
       "</tr>\n",
       "<tr>\n",
       "  <th>x260</th>  <td>    1.2626</td> <td>    0.736</td> <td>    1.714</td> <td> 0.086</td> <td>   -0.181</td> <td>    2.706</td>\n",
       "</tr>\n",
       "<tr>\n",
       "  <th>x261</th>  <td>    1.5421</td> <td>    1.250</td> <td>    1.233</td> <td> 0.217</td> <td>   -0.909</td> <td>    3.993</td>\n",
       "</tr>\n",
       "<tr>\n",
       "  <th>x262</th>  <td>   -1.0858</td> <td>    0.688</td> <td>   -1.578</td> <td> 0.115</td> <td>   -2.434</td> <td>    0.263</td>\n",
       "</tr>\n",
       "<tr>\n",
       "  <th>x263</th>  <td>    2.8056</td> <td>    0.783</td> <td>    3.582</td> <td> 0.000</td> <td>    1.270</td> <td>    4.341</td>\n",
       "</tr>\n",
       "<tr>\n",
       "  <th>x264</th>  <td>   -0.6240</td> <td>    0.805</td> <td>   -0.775</td> <td> 0.438</td> <td>   -2.202</td> <td>    0.954</td>\n",
       "</tr>\n",
       "<tr>\n",
       "  <th>x265</th>  <td>    1.9491</td> <td>    1.314</td> <td>    1.484</td> <td> 0.138</td> <td>   -0.626</td> <td>    4.524</td>\n",
       "</tr>\n",
       "<tr>\n",
       "  <th>x266</th>  <td>    1.2345</td> <td>    1.762</td> <td>    0.701</td> <td> 0.484</td> <td>   -2.219</td> <td>    4.688</td>\n",
       "</tr>\n",
       "<tr>\n",
       "  <th>x267</th>  <td>   -0.4386</td> <td>    1.846</td> <td>   -0.238</td> <td> 0.812</td> <td>   -4.058</td> <td>    3.180</td>\n",
       "</tr>\n",
       "<tr>\n",
       "  <th>x268</th>  <td>    3.1075</td> <td>    1.103</td> <td>    2.817</td> <td> 0.005</td> <td>    0.945</td> <td>    5.270</td>\n",
       "</tr>\n",
       "<tr>\n",
       "  <th>x269</th>  <td>   -0.0123</td> <td>    0.768</td> <td>   -0.016</td> <td> 0.987</td> <td>   -1.517</td> <td>    1.493</td>\n",
       "</tr>\n",
       "<tr>\n",
       "  <th>x270</th>  <td>    5.7111</td> <td>    0.907</td> <td>    6.299</td> <td> 0.000</td> <td>    3.934</td> <td>    7.489</td>\n",
       "</tr>\n",
       "<tr>\n",
       "  <th>x271</th>  <td>   -3.0208</td> <td>    0.746</td> <td>   -4.051</td> <td> 0.000</td> <td>   -4.483</td> <td>   -1.559</td>\n",
       "</tr>\n",
       "<tr>\n",
       "  <th>x272</th>  <td>   -1.4601</td> <td>    1.149</td> <td>   -1.271</td> <td> 0.204</td> <td>   -3.712</td> <td>    0.792</td>\n",
       "</tr>\n",
       "<tr>\n",
       "  <th>x273</th>  <td>    0.1322</td> <td>    0.838</td> <td>    0.158</td> <td> 0.875</td> <td>   -1.512</td> <td>    1.776</td>\n",
       "</tr>\n",
       "<tr>\n",
       "  <th>x274</th>  <td>   -0.7558</td> <td>    0.787</td> <td>   -0.961</td> <td> 0.337</td> <td>   -2.298</td> <td>    0.786</td>\n",
       "</tr>\n",
       "<tr>\n",
       "  <th>x275</th>  <td>    0.2774</td> <td>    0.791</td> <td>    0.351</td> <td> 0.726</td> <td>   -1.272</td> <td>    1.827</td>\n",
       "</tr>\n",
       "<tr>\n",
       "  <th>x276</th>  <td>    0.9728</td> <td>    0.826</td> <td>    1.177</td> <td> 0.239</td> <td>   -0.647</td> <td>    2.593</td>\n",
       "</tr>\n",
       "<tr>\n",
       "  <th>x277</th>  <td>    1.7881</td> <td>    0.883</td> <td>    2.024</td> <td> 0.043</td> <td>    0.057</td> <td>    3.519</td>\n",
       "</tr>\n",
       "<tr>\n",
       "  <th>x278</th>  <td>   -1.6572</td> <td>    0.933</td> <td>   -1.777</td> <td> 0.076</td> <td>   -3.485</td> <td>    0.171</td>\n",
       "</tr>\n",
       "<tr>\n",
       "  <th>x279</th>  <td>    1.1168</td> <td>    0.874</td> <td>    1.277</td> <td> 0.201</td> <td>   -0.597</td> <td>    2.831</td>\n",
       "</tr>\n",
       "<tr>\n",
       "  <th>x280</th>  <td>   -0.5718</td> <td>    0.873</td> <td>   -0.655</td> <td> 0.512</td> <td>   -2.283</td> <td>    1.139</td>\n",
       "</tr>\n",
       "<tr>\n",
       "  <th>x281</th>  <td>   -0.1030</td> <td>    0.693</td> <td>   -0.148</td> <td> 0.882</td> <td>   -1.462</td> <td>    1.256</td>\n",
       "</tr>\n",
       "<tr>\n",
       "  <th>x282</th>  <td>   -0.9505</td> <td>    0.776</td> <td>   -1.225</td> <td> 0.221</td> <td>   -2.472</td> <td>    0.571</td>\n",
       "</tr>\n",
       "<tr>\n",
       "  <th>x283</th>  <td>   -0.8038</td> <td>    0.962</td> <td>   -0.836</td> <td> 0.403</td> <td>   -2.689</td> <td>    1.081</td>\n",
       "</tr>\n",
       "<tr>\n",
       "  <th>x284</th>  <td>    2.2859</td> <td>    0.706</td> <td>    3.239</td> <td> 0.001</td> <td>    0.902</td> <td>    3.669</td>\n",
       "</tr>\n",
       "<tr>\n",
       "  <th>x285</th>  <td>    2.7688</td> <td>    0.854</td> <td>    3.244</td> <td> 0.001</td> <td>    1.095</td> <td>    4.442</td>\n",
       "</tr>\n",
       "<tr>\n",
       "  <th>x286</th>  <td>   -1.4224</td> <td>    0.880</td> <td>   -1.617</td> <td> 0.106</td> <td>   -3.147</td> <td>    0.302</td>\n",
       "</tr>\n",
       "<tr>\n",
       "  <th>x287</th>  <td>   -1.9502</td> <td>    1.043</td> <td>   -1.870</td> <td> 0.062</td> <td>   -3.995</td> <td>    0.094</td>\n",
       "</tr>\n",
       "<tr>\n",
       "  <th>x288</th>  <td>   -0.6467</td> <td>    0.826</td> <td>   -0.783</td> <td> 0.434</td> <td>   -2.266</td> <td>    0.973</td>\n",
       "</tr>\n",
       "<tr>\n",
       "  <th>x289</th>  <td>    0.9298</td> <td>    0.807</td> <td>    1.152</td> <td> 0.249</td> <td>   -0.652</td> <td>    2.512</td>\n",
       "</tr>\n",
       "<tr>\n",
       "  <th>x290</th>  <td>   -2.1709</td> <td>    0.786</td> <td>   -2.762</td> <td> 0.006</td> <td>   -3.712</td> <td>   -0.630</td>\n",
       "</tr>\n",
       "<tr>\n",
       "  <th>x291</th>  <td>   -0.9480</td> <td>    1.115</td> <td>   -0.850</td> <td> 0.395</td> <td>   -3.134</td> <td>    1.238</td>\n",
       "</tr>\n",
       "<tr>\n",
       "  <th>x292</th>  <td>   -3.4838</td> <td>    0.811</td> <td>   -4.295</td> <td> 0.000</td> <td>   -5.074</td> <td>   -1.894</td>\n",
       "</tr>\n",
       "<tr>\n",
       "  <th>x293</th>  <td>    2.2501</td> <td>    0.816</td> <td>    2.759</td> <td> 0.006</td> <td>    0.651</td> <td>    3.849</td>\n",
       "</tr>\n",
       "<tr>\n",
       "  <th>x294</th>  <td>   -1.2977</td> <td>    1.496</td> <td>   -0.868</td> <td> 0.386</td> <td>   -4.229</td> <td>    1.634</td>\n",
       "</tr>\n",
       "<tr>\n",
       "  <th>x295</th>  <td>   -2.7934</td> <td>    1.586</td> <td>   -1.761</td> <td> 0.078</td> <td>   -5.903</td> <td>    0.316</td>\n",
       "</tr>\n",
       "<tr>\n",
       "  <th>x296</th>  <td>   -0.2710</td> <td>    0.868</td> <td>   -0.312</td> <td> 0.755</td> <td>   -1.972</td> <td>    1.430</td>\n",
       "</tr>\n",
       "<tr>\n",
       "  <th>x297</th>  <td>   -2.2812</td> <td>    0.692</td> <td>   -3.296</td> <td> 0.001</td> <td>   -3.638</td> <td>   -0.924</td>\n",
       "</tr>\n",
       "<tr>\n",
       "  <th>x298</th>  <td>   -0.0077</td> <td>    0.703</td> <td>   -0.011</td> <td> 0.991</td> <td>   -1.385</td> <td>    1.370</td>\n",
       "</tr>\n",
       "<tr>\n",
       "  <th>x299</th>  <td>    1.0617</td> <td>    0.770</td> <td>    1.380</td> <td> 0.168</td> <td>   -0.447</td> <td>    2.570</td>\n",
       "</tr>\n",
       "<tr>\n",
       "  <th>x300</th>  <td>    2.4534</td> <td>    0.694</td> <td>    3.535</td> <td> 0.000</td> <td>    1.093</td> <td>    3.814</td>\n",
       "</tr>\n",
       "<tr>\n",
       "  <th>x301</th>  <td>    1.7263</td> <td>    0.734</td> <td>    2.351</td> <td> 0.019</td> <td>    0.287</td> <td>    3.166</td>\n",
       "</tr>\n",
       "<tr>\n",
       "  <th>x302</th>  <td>   -0.0784</td> <td>    1.298</td> <td>   -0.060</td> <td> 0.952</td> <td>   -2.624</td> <td>    2.467</td>\n",
       "</tr>\n",
       "<tr>\n",
       "  <th>x303</th>  <td>    4.7136</td> <td>    0.785</td> <td>    6.007</td> <td> 0.000</td> <td>    3.175</td> <td>    6.252</td>\n",
       "</tr>\n",
       "<tr>\n",
       "  <th>x304</th>  <td>   -2.0688</td> <td>    0.785</td> <td>   -2.635</td> <td> 0.008</td> <td>   -3.608</td> <td>   -0.530</td>\n",
       "</tr>\n",
       "<tr>\n",
       "  <th>x305</th>  <td>    0.0220</td> <td>    0.795</td> <td>    0.028</td> <td> 0.978</td> <td>   -1.537</td> <td>    1.581</td>\n",
       "</tr>\n",
       "<tr>\n",
       "  <th>x306</th>  <td>   -1.2679</td> <td>    0.767</td> <td>   -1.653</td> <td> 0.098</td> <td>   -2.771</td> <td>    0.236</td>\n",
       "</tr>\n",
       "<tr>\n",
       "  <th>x307</th>  <td>    2.0941</td> <td>    0.781</td> <td>    2.683</td> <td> 0.007</td> <td>    0.564</td> <td>    3.624</td>\n",
       "</tr>\n",
       "<tr>\n",
       "  <th>x308</th>  <td>   -1.3535</td> <td>    0.716</td> <td>   -1.889</td> <td> 0.059</td> <td>   -2.758</td> <td>    0.051</td>\n",
       "</tr>\n",
       "<tr>\n",
       "  <th>x309</th>  <td>   -0.5834</td> <td>    1.121</td> <td>   -0.520</td> <td> 0.603</td> <td>   -2.782</td> <td>    1.615</td>\n",
       "</tr>\n",
       "<tr>\n",
       "  <th>x310</th>  <td>   -2.4231</td> <td>    1.050</td> <td>   -2.308</td> <td> 0.021</td> <td>   -4.481</td> <td>   -0.365</td>\n",
       "</tr>\n",
       "</table>\n",
       "<table class=\"simpletable\">\n",
       "<tr>\n",
       "  <th>Omnibus:</th>       <td>1029.473</td> <th>  Durbin-Watson:     </th> <td>   1.990</td>\n",
       "</tr>\n",
       "<tr>\n",
       "  <th>Prob(Omnibus):</th>  <td> 0.000</td>  <th>  Jarque-Bera (JB):  </th> <td>4016.682</td>\n",
       "</tr>\n",
       "<tr>\n",
       "  <th>Skew:</th>           <td> 0.768</td>  <th>  Prob(JB):          </th> <td>    0.00</td>\n",
       "</tr>\n",
       "<tr>\n",
       "  <th>Kurtosis:</th>       <td> 6.583</td>  <th>  Cond. No.          </th> <td>4.28e+16</td>\n",
       "</tr>\n",
       "</table><br/><br/>Warnings:<br/>[1] Standard Errors assume that the covariance matrix of the errors is correctly specified.<br/>[2] The smallest eigenvalue is 3.43e-29. This might indicate that there are<br/>strong multicollinearity problems or that the design matrix is singular."
      ],
      "text/plain": [
       "<class 'statsmodels.iolib.summary.Summary'>\n",
       "\"\"\"\n",
       "                            OLS Regression Results                            \n",
       "==============================================================================\n",
       "Dep. Variable:                  price   R-squared:                       0.691\n",
       "Model:                            OLS   Adj. R-squared:                  0.676\n",
       "Method:                 Least Squares   F-statistic:                     46.31\n",
       "Date:                Sun, 17 Feb 2019   Prob (F-statistic):               0.00\n",
       "Time:                        18:51:21   Log-Likelihood:                -33767.\n",
       "No. Observations:                6343   AIC:                         6.812e+04\n",
       "Df Residuals:                    6050   BIC:                         7.010e+04\n",
       "Df Model:                         292                                         \n",
       "Covariance Type:            nonrobust                                         \n",
       "==============================================================================\n",
       "                 coef    std err          t      P>|t|      [0.025      0.975]\n",
       "------------------------------------------------------------------------------\n",
       "const        144.5004      0.638    226.472      0.000     143.250     145.751\n",
       "x1            -1.0718      0.870     -1.231      0.218      -2.778       0.634\n",
       "x2            -0.0348      1.149     -0.030      0.976      -2.286       2.217\n",
       "x3             3.3668      0.955      3.525      0.000       1.494       5.239\n",
       "x4            22.7893      1.461     15.603      0.000      19.926      25.652\n",
       "x5             2.7437      0.801      3.425      0.001       1.173       4.314\n",
       "x6            18.3480      1.189     15.433      0.000      16.017      20.679\n",
       "x7            -3.2389      1.257     -2.577      0.010      -5.703      -0.775\n",
       "x8            -0.5852      0.697     -0.839      0.402      -1.952       0.782\n",
       "x9             9.2186      0.929      9.919      0.000       7.397      11.041\n",
       "x10            7.0823      0.867      8.167      0.000       5.382       8.782\n",
       "x11           -1.7917      0.772     -2.321      0.020      -3.305      -0.278\n",
       "x12           -2.7294      1.171     -2.330      0.020      -5.025      -0.433\n",
       "x13           -2.8604      1.148     -2.491      0.013      -5.111      -0.610\n",
       "x14            3.7700      1.313      2.872      0.004       1.197       6.343\n",
       "x15            1.1524      1.059      1.088      0.277      -0.924       3.229\n",
       "x16            5.0383      0.933      5.401      0.000       3.210       6.867\n",
       "x17           -2.6001      0.950     -2.736      0.006      -4.463      -0.737\n",
       "x18           -0.2243      1.027     -0.218      0.827      -2.237       1.789\n",
       "x19            4.0483      0.902      4.489      0.000       2.280       5.816\n",
       "x20           -4.8526      1.052     -4.614      0.000      -6.914      -2.791\n",
       "x21          -10.4004      1.014    -10.257      0.000     -12.388      -8.413\n",
       "x22           -5.3751      1.117     -4.813      0.000      -7.565      -3.186\n",
       "x23           -0.1775      1.039     -0.171      0.864      -2.214       1.860\n",
       "x24           -0.7745      0.589     -1.314      0.189      -1.930       0.381\n",
       "x25           -1.3443      0.483     -2.785      0.005      -2.290      -0.398\n",
       "x26            1.6990      0.447      3.803      0.000       0.823       2.575\n",
       "x27           -4.3637      0.764     -5.712      0.000      -5.861      -2.866\n",
       "x28            0.4196      0.686      0.611      0.541      -0.926       1.765\n",
       "x29           -2.5603      0.763     -3.354      0.001      -4.057      -1.064\n",
       "x30            0.8793      0.654      1.344      0.179      -0.404       2.162\n",
       "x31           -1.6237      0.839     -1.935      0.053      -3.268       0.021\n",
       "x32           -1.0959      0.696     -1.573      0.116      -2.461       0.269\n",
       "x33           -0.9677      0.674     -1.436      0.151      -2.288       0.353\n",
       "x34           -0.5047      0.658     -0.767      0.443      -1.795       0.785\n",
       "x35           -0.5085      0.650     -0.783      0.434      -1.782       0.765\n",
       "x36           -2.3037      0.730     -3.156      0.002      -3.735      -0.873\n",
       "x37            0.4322      0.665      0.650      0.516      -0.871       1.735\n",
       "x38           -0.2734      0.856     -0.319      0.749      -1.951       1.404\n",
       "x39           -0.3273      0.687     -0.476      0.634      -1.675       1.020\n",
       "x40           -1.9161      1.008     -1.901      0.057      -3.892       0.060\n",
       "x41           -0.7941      0.731     -1.086      0.277      -2.227       0.639\n",
       "x42           -0.5470      0.658     -0.832      0.406      -1.836       0.742\n",
       "x43           -0.8133      0.658     -1.237      0.216      -2.102       0.476\n",
       "x44            5.8259      0.846      6.889      0.000       4.168       7.484\n",
       "x45           -1.2118      0.701     -1.729      0.084      -2.586       0.162\n",
       "x46            1.7983      0.667      2.696      0.007       0.491       3.106\n",
       "x47           -0.9454      0.837     -1.129      0.259      -2.587       0.696\n",
       "x48            0.4112      0.764      0.538      0.591      -1.087       1.910\n",
       "x49           -1.9485      0.903     -2.159      0.031      -3.718      -0.179\n",
       "x50            0.8510      0.679      1.253      0.210      -0.481       2.182\n",
       "x51        -1.698e-15   1.07e-15     -1.588      0.112   -3.79e-15    3.98e-16\n",
       "x52           -1.9675      0.677     -2.904      0.004      -3.296      -0.639\n",
       "x53           -0.8334      0.714     -1.168      0.243      -2.233       0.566\n",
       "x54           -1.4081      0.627     -2.246      0.025      -2.637      -0.179\n",
       "x55            0.4711      0.649      0.726      0.468      -0.800       1.742\n",
       "x56           -0.9937      0.665     -1.494      0.135      -2.298       0.310\n",
       "x57           -1.1642      0.675     -1.724      0.085      -2.488       0.160\n",
       "x58            2.3371      1.026      2.278      0.023       0.326       4.348\n",
       "x59           -0.1614      0.673     -0.240      0.810      -1.480       1.157\n",
       "x60            0.1335      0.694      0.193      0.847      -1.226       1.493\n",
       "x61           -0.1311      0.659     -0.199      0.842      -1.422       1.160\n",
       "x62           -1.3671      0.746     -1.833      0.067      -2.829       0.095\n",
       "x63           -0.5356      0.658     -0.814      0.416      -1.825       0.754\n",
       "x64           -3.3001      0.727     -4.539      0.000      -4.725      -1.875\n",
       "x65           -0.4478      0.679     -0.660      0.509      -1.778       0.882\n",
       "x66           -1.5686      0.673     -2.332      0.020      -2.887      -0.250\n",
       "x67           -0.7336      0.821     -0.894      0.371      -2.342       0.875\n",
       "x68            0.3937      0.727      0.541      0.588      -1.032       1.819\n",
       "x69           -0.2257      0.666     -0.339      0.735      -1.532       1.081\n",
       "x70            1.1363      0.707      1.608      0.108      -0.249       2.522\n",
       "x71           -1.1795      0.652     -1.808      0.071      -2.458       0.099\n",
       "x72           -1.3242      0.717     -1.846      0.065      -2.730       0.082\n",
       "x73           -0.5030      0.657     -0.766      0.444      -1.790       0.784\n",
       "x74           -0.1941      0.694     -0.279      0.780      -1.555       1.167\n",
       "x75           -0.7166      0.704     -1.018      0.309      -2.097       0.664\n",
       "x76            0.8706      0.681      1.279      0.201      -0.464       2.205\n",
       "x77           -2.6548      0.820     -3.237      0.001      -4.262      -1.047\n",
       "x78           -1.6483      0.865     -1.905      0.057      -3.344       0.048\n",
       "x79            0.2176      0.645      0.337      0.736      -1.046       1.482\n",
       "x80           -1.3863      0.694     -1.997      0.046      -2.747      -0.025\n",
       "x81            0.0524      0.805      0.065      0.948      -1.526       1.630\n",
       "x82            4.2852      0.804      5.331      0.000       2.709       5.861\n",
       "x83           -1.6072      0.667     -2.408      0.016      -2.916      -0.299\n",
       "x84           -0.1698      0.649     -0.262      0.794      -1.442       1.103\n",
       "x85            0.0897      0.651      0.138      0.890      -1.186       1.365\n",
       "x86           -1.8035      0.650     -2.775      0.006      -3.077      -0.530\n",
       "x87           -0.0104      0.696     -0.015      0.988      -1.375       1.354\n",
       "x88         -1.61e-15   1.21e-15     -1.329      0.184   -3.98e-15    7.64e-16\n",
       "x89           -0.7367      0.770     -0.956      0.339      -2.247       0.773\n",
       "x90            0.9036      0.769      1.175      0.240      -0.604       2.411\n",
       "x91           -0.9968      0.719     -1.385      0.166      -2.407       0.414\n",
       "x92           -1.7419      0.721     -2.417      0.016      -3.155      -0.329\n",
       "x93           -1.1690      0.676     -1.730      0.084      -2.494       0.156\n",
       "x94           -0.3137      0.664     -0.473      0.637      -1.615       0.988\n",
       "x95           -2.2152      0.675     -3.282      0.001      -3.538      -0.892\n",
       "x96           -0.3780      0.701     -0.540      0.590      -1.752       0.996\n",
       "x97           -0.7123      0.655     -1.088      0.277      -1.996       0.571\n",
       "x98           -1.2987      0.653     -1.989      0.047      -2.578      -0.019\n",
       "x99           -0.5600      0.658     -0.852      0.395      -1.849       0.729\n",
       "x100          -1.7825      0.762     -2.338      0.019      -3.277      -0.288\n",
       "x101          -0.7356      0.653     -1.127      0.260      -2.016       0.544\n",
       "x102          -2.2878      0.948     -2.415      0.016      -4.145      -0.430\n",
       "x103          -0.3982      0.643     -0.620      0.535      -1.658       0.862\n",
       "x104          -0.6001      0.694     -0.865      0.387      -1.960       0.760\n",
       "x105           2.6935      0.730      3.688      0.000       1.262       4.125\n",
       "x106          -1.1506      0.739     -1.558      0.119      -2.599       0.297\n",
       "x107          -0.3217      0.723     -0.445      0.656      -1.740       1.096\n",
       "x108          -0.4087      0.653     -0.626      0.531      -1.688       0.871\n",
       "x109          -1.0764      0.720     -1.495      0.135      -2.487       0.335\n",
       "x110          -0.9900      0.789     -1.254      0.210      -2.537       0.557\n",
       "x111          -0.6020      0.666     -0.904      0.366      -1.907       0.703\n",
       "x112          -1.7211      0.762     -2.260      0.024      -3.214      -0.228\n",
       "x113           6.0871      0.976      6.234      0.000       4.173       8.001\n",
       "x114          -0.0758      0.781     -0.097      0.923      -1.606       1.455\n",
       "x115           0.1029      0.657      0.157      0.876      -1.186       1.391\n",
       "x116          -0.8709      0.714     -1.220      0.223      -2.271       0.529\n",
       "x117       -4.174e-15   9.24e-16     -4.518      0.000   -5.98e-15   -2.36e-15\n",
       "x118        5.039e-16   9.52e-16      0.529      0.597   -1.36e-15    2.37e-15\n",
       "x119           0.2418      0.740      0.327      0.744      -1.208       1.692\n",
       "x120           4.2453      0.798      5.319      0.000       2.681       5.810\n",
       "x121           3.1848      0.724      4.396      0.000       1.765       4.605\n",
       "x122          -0.5363      0.666     -0.805      0.421      -1.842       0.770\n",
       "x123          -1.2038      0.780     -1.544      0.123      -2.733       0.325\n",
       "x124          -0.9249      0.668     -1.384      0.167      -2.235       0.386\n",
       "x125          -0.8893      0.814     -1.092      0.275      -2.485       0.707\n",
       "x126          -1.9273      0.786     -2.451      0.014      -3.469      -0.386\n",
       "x127          -3.2433      0.697     -4.653      0.000      -4.610      -1.877\n",
       "x128          -0.8977      0.697     -1.289      0.198      -2.263       0.468\n",
       "x129          -1.8758      0.737     -2.547      0.011      -3.320      -0.432\n",
       "x130          -0.2468      0.721     -0.342      0.732      -1.660       1.167\n",
       "x131          -1.4269      0.793     -1.799      0.072      -2.981       0.128\n",
       "x132           5.1433      0.719      7.152      0.000       3.733       6.553\n",
       "x133           5.2656      0.597      8.825      0.000       4.096       6.435\n",
       "x134           1.1152      0.730      1.529      0.126      -0.315       2.545\n",
       "x135          -1.5349      0.769     -1.995      0.046      -3.043      -0.027\n",
       "x136          -2.7345      0.720     -3.800      0.000      -4.145      -1.324\n",
       "x137          -0.9496      0.673     -1.412      0.158      -2.269       0.369\n",
       "x138          -0.7841      0.650     -1.206      0.228      -2.059       0.491\n",
       "x139           0.2266      0.807      0.281      0.779      -1.355       1.809\n",
       "x140          -1.3224      0.865     -1.529      0.126      -3.017       0.373\n",
       "x141          -0.1290      0.749     -0.172      0.863      -1.598       1.340\n",
       "x142          -0.0162      0.674     -0.024      0.981      -1.338       1.306\n",
       "x143           2.5029      0.742      3.371      0.001       1.047       3.958\n",
       "x144          -1.4913      0.847     -1.760      0.079      -3.153       0.170\n",
       "x145          -0.0845      0.647     -0.131      0.896      -1.352       1.183\n",
       "x146           0.0542      0.654      0.083      0.934      -1.228       1.337\n",
       "x147          -0.0295      0.709     -0.042      0.967      -1.420       1.361\n",
       "x148           0.0235      0.690      0.034      0.973      -1.330       1.377\n",
       "x149          -0.8728      0.665     -1.312      0.189      -2.177       0.431\n",
       "x150          -1.9733      0.768     -2.570      0.010      -3.478      -0.468\n",
       "x151          -0.5716      0.823     -0.694      0.488      -2.186       1.042\n",
       "x152          -0.1324      0.804     -0.165      0.869      -1.708       1.444\n",
       "x153           4.0805      0.706      5.779      0.000       2.696       5.465\n",
       "x154          -0.6213      0.652     -0.953      0.340      -1.899       0.656\n",
       "x155          -5.3033      0.545     -9.739      0.000      -6.371      -4.236\n",
       "x156           0.3930      0.681      0.578      0.564      -0.941       1.727\n",
       "x157          -2.8558      0.622     -4.592      0.000      -4.075      -1.637\n",
       "x158          -1.6788      0.859     -1.953      0.051      -3.364       0.006\n",
       "x159          -0.9177      0.673     -1.363      0.173      -2.237       0.402\n",
       "x160           0.1156      0.651      0.178      0.859      -1.160       1.391\n",
       "x161          -0.7994      0.654     -1.223      0.221      -2.081       0.482\n",
       "x162          -1.4997      0.661     -2.269      0.023      -2.796      -0.204\n",
       "x163          -2.1242      0.693     -3.066      0.002      -3.482      -0.766\n",
       "x164          -0.2607      0.883     -0.295      0.768      -1.993       1.471\n",
       "x165          -0.3536      0.690     -0.512      0.608      -1.707       1.000\n",
       "x166          -2.6737      0.765     -3.497      0.000      -4.172      -1.175\n",
       "x167           0.0733      0.659      0.111      0.912      -1.219       1.366\n",
       "x168          -0.9545      0.746     -1.279      0.201      -2.418       0.509\n",
       "x169           1.5865      0.756      2.099      0.036       0.105       3.068\n",
       "x170           3.1043      0.883      3.517      0.000       1.374       4.835\n",
       "x171          -1.2483      0.603     -2.068      0.039      -2.431      -0.065\n",
       "x172          -2.2320      0.945     -2.363      0.018      -4.084      -0.380\n",
       "x173          -0.8649      0.674     -1.283      0.200      -2.187       0.457\n",
       "x174          -0.4780      0.702     -0.681      0.496      -1.853       0.897\n",
       "x175          -1.0696      0.686     -1.560      0.119      -2.414       0.275\n",
       "x176           1.1994      0.680      1.763      0.078      -0.135       2.533\n",
       "x177          -0.8594      0.689     -1.248      0.212      -2.210       0.491\n",
       "x178          -1.5308      0.707     -2.164      0.031      -2.917      -0.144\n",
       "x179          -2.0577      0.723     -2.846      0.004      -3.475      -0.640\n",
       "x180          -1.1410      0.672     -1.698      0.090      -2.458       0.176\n",
       "x181          -0.1886      0.814     -0.232      0.817      -1.784       1.407\n",
       "x182          -1.6087      0.696     -2.310      0.021      -2.974      -0.244\n",
       "x183          -0.6668      0.659     -1.012      0.312      -1.958       0.625\n",
       "x184          -0.3507      0.652     -0.538      0.590      -1.628       0.927\n",
       "x185          -1.0187      0.709     -1.437      0.151      -2.408       0.371\n",
       "x186           4.2551      0.865      4.921      0.000       2.560       5.950\n",
       "x187          -0.0077      0.651     -0.012      0.991      -1.285       1.269\n",
       "x188          -0.3642      0.657     -0.554      0.580      -1.653       0.925\n",
       "x189        1.137e-15   8.36e-16      1.360      0.174   -5.02e-16    2.78e-15\n",
       "x190          -0.3536      1.415     -0.250      0.803      -3.128       2.420\n",
       "x191           0.0184      0.646      0.029      0.977      -1.247       1.284\n",
       "x192          -0.3691      0.643     -0.575      0.566      -1.629       0.890\n",
       "x193          -0.2466      0.647     -0.381      0.703      -1.515       1.021\n",
       "x194           0.5888      0.810      0.727      0.467      -0.998       2.176\n",
       "x195           0.1489      0.658      0.226      0.821      -1.141       1.439\n",
       "x196           0.7339      0.690      1.064      0.287      -0.618       2.086\n",
       "x197        2.865e-16   8.17e-16      0.351      0.726   -1.32e-15    1.89e-15\n",
       "x198          -4.2636      2.719     -1.568      0.117      -9.594       1.066\n",
       "x199           0.4567      0.834      0.548      0.584      -1.178       2.091\n",
       "x200           0.0178      0.659      0.027      0.978      -1.274       1.309\n",
       "x201           6.7076      1.986      3.378      0.001       2.815      10.600\n",
       "x202          -0.7731      0.644     -1.201      0.230      -2.035       0.489\n",
       "x203           0.0924      0.642      0.144      0.886      -1.166       1.351\n",
       "x204          -1.0311      0.650     -1.585      0.113      -2.306       0.244\n",
       "x205       -1.256e-15   8.61e-16     -1.459      0.145   -2.94e-15    4.32e-16\n",
       "x206           0.2061      0.647      0.319      0.750      -1.062       1.474\n",
       "x207          -0.5287      0.676     -0.782      0.434      -1.854       0.797\n",
       "x208           2.5272      0.684      3.693      0.000       1.186       3.869\n",
       "x209          -4.3358      0.541     -8.019      0.000      -5.396      -3.276\n",
       "x210          -0.6220      0.647     -0.961      0.337      -1.891       0.647\n",
       "x211           0.8307      0.681      1.220      0.222      -0.504       2.165\n",
       "x212           0.1781      0.748      0.238      0.812      -1.288       1.644\n",
       "x213           1.9389      0.799      2.426      0.015       0.372       3.506\n",
       "x214          -0.0367      0.657     -0.056      0.955      -1.325       1.251\n",
       "x215          -0.1454      0.671     -0.217      0.828      -1.461       1.170\n",
       "x216          -0.0476      0.646     -0.074      0.941      -1.314       1.219\n",
       "x217          -0.4087      0.657     -0.622      0.534      -1.696       0.879\n",
       "x218          -0.1994      0.647     -0.308      0.758      -1.468       1.069\n",
       "x219           1.2530      0.692      1.811      0.070      -0.103       2.609\n",
       "x220           1.8045      0.630      2.863      0.004       0.569       3.040\n",
       "x221          -0.3724      0.661     -0.563      0.573      -1.668       0.923\n",
       "x222          -2.3032      0.675     -3.411      0.001      -3.627      -0.980\n",
       "x223           0.5329      0.676      0.789      0.430      -0.792       1.858\n",
       "x224          -1.0380      0.721     -1.440      0.150      -2.451       0.375\n",
       "x225           2.2858      0.736      3.106      0.002       0.843       3.729\n",
       "x226           2.2443      0.567      3.957      0.000       1.132       3.356\n",
       "x227          -1.1383      0.644     -1.767      0.077      -2.401       0.125\n",
       "x228          -0.2235      0.642     -0.348      0.728      -1.482       1.035\n",
       "x229           2.3272      0.686      3.394      0.001       0.983       3.671\n",
       "x230           0.6533      0.667      0.980      0.327      -0.654       1.960\n",
       "x231           3.5236      0.660      5.337      0.000       2.229       4.818\n",
       "x232           0.2312      0.694      0.333      0.739      -1.129       1.592\n",
       "x233           0.1575      0.651      0.242      0.809      -1.119       1.434\n",
       "x234           0.2345      0.646      0.363      0.717      -1.032       1.501\n",
       "x235        4.727e-16   7.25e-16      0.652      0.514   -9.48e-16    1.89e-15\n",
       "x236           0.3207      0.664      0.483      0.629      -0.982       1.623\n",
       "x237        1.985e-16   8.57e-16      0.232      0.817   -1.48e-15    1.88e-15\n",
       "x238          21.8750      1.053     20.767      0.000      19.810      23.940\n",
       "x239          -3.8209      0.740     -5.165      0.000      -5.271      -2.371\n",
       "x240           0.1136      0.600      0.189      0.850      -1.063       1.291\n",
       "x241           0.1457      0.649      0.224      0.822      -1.128       1.419\n",
       "x242           0.1362      0.520      0.262      0.793      -0.883       1.155\n",
       "x243          -1.2458      0.586     -2.126      0.034      -2.395      -0.097\n",
       "x244           0.4529      0.332      1.366      0.172      -0.197       1.103\n",
       "x245          -1.0513      1.168     -0.900      0.368      -3.340       1.238\n",
       "x246           1.4651      0.740      1.980      0.048       0.015       2.915\n",
       "x247       -9.498e-16   6.09e-16     -1.559      0.119   -2.14e-15    2.45e-16\n",
       "x248          -0.6087      0.542     -1.124      0.261      -1.671       0.453\n",
       "x249           0.3356      0.437      0.767      0.443      -0.522       1.193\n",
       "x250           1.7472      0.644      2.712      0.007       0.484       3.010\n",
       "x251          -0.0117      0.452     -0.026      0.979      -0.898       0.874\n",
       "x252           0.6624      0.675      0.981      0.327      -0.662       1.986\n",
       "x253        8.685e-16   5.47e-16      1.587      0.113   -2.04e-16    1.94e-15\n",
       "x254          -3.3251      1.054     -3.154      0.002      -5.392      -1.259\n",
       "x255           2.6816      1.065      2.518      0.012       0.593       4.770\n",
       "x256          -3.7671      0.433     -8.692      0.000      -4.617      -2.918\n",
       "x257          -1.0271      0.798     -1.287      0.198      -2.591       0.537\n",
       "x258           2.1686      0.854      2.539      0.011       0.494       3.843\n",
       "x259           1.5782      0.806      1.959      0.050      -0.001       3.158\n",
       "x260           1.2626      0.736      1.714      0.086      -0.181       2.706\n",
       "x261           1.5421      1.250      1.233      0.217      -0.909       3.993\n",
       "x262          -1.0858      0.688     -1.578      0.115      -2.434       0.263\n",
       "x263           2.8056      0.783      3.582      0.000       1.270       4.341\n",
       "x264          -0.6240      0.805     -0.775      0.438      -2.202       0.954\n",
       "x265           1.9491      1.314      1.484      0.138      -0.626       4.524\n",
       "x266           1.2345      1.762      0.701      0.484      -2.219       4.688\n",
       "x267          -0.4386      1.846     -0.238      0.812      -4.058       3.180\n",
       "x268           3.1075      1.103      2.817      0.005       0.945       5.270\n",
       "x269          -0.0123      0.768     -0.016      0.987      -1.517       1.493\n",
       "x270           5.7111      0.907      6.299      0.000       3.934       7.489\n",
       "x271          -3.0208      0.746     -4.051      0.000      -4.483      -1.559\n",
       "x272          -1.4601      1.149     -1.271      0.204      -3.712       0.792\n",
       "x273           0.1322      0.838      0.158      0.875      -1.512       1.776\n",
       "x274          -0.7558      0.787     -0.961      0.337      -2.298       0.786\n",
       "x275           0.2774      0.791      0.351      0.726      -1.272       1.827\n",
       "x276           0.9728      0.826      1.177      0.239      -0.647       2.593\n",
       "x277           1.7881      0.883      2.024      0.043       0.057       3.519\n",
       "x278          -1.6572      0.933     -1.777      0.076      -3.485       0.171\n",
       "x279           1.1168      0.874      1.277      0.201      -0.597       2.831\n",
       "x280          -0.5718      0.873     -0.655      0.512      -2.283       1.139\n",
       "x281          -0.1030      0.693     -0.148      0.882      -1.462       1.256\n",
       "x282          -0.9505      0.776     -1.225      0.221      -2.472       0.571\n",
       "x283          -0.8038      0.962     -0.836      0.403      -2.689       1.081\n",
       "x284           2.2859      0.706      3.239      0.001       0.902       3.669\n",
       "x285           2.7688      0.854      3.244      0.001       1.095       4.442\n",
       "x286          -1.4224      0.880     -1.617      0.106      -3.147       0.302\n",
       "x287          -1.9502      1.043     -1.870      0.062      -3.995       0.094\n",
       "x288          -0.6467      0.826     -0.783      0.434      -2.266       0.973\n",
       "x289           0.9298      0.807      1.152      0.249      -0.652       2.512\n",
       "x290          -2.1709      0.786     -2.762      0.006      -3.712      -0.630\n",
       "x291          -0.9480      1.115     -0.850      0.395      -3.134       1.238\n",
       "x292          -3.4838      0.811     -4.295      0.000      -5.074      -1.894\n",
       "x293           2.2501      0.816      2.759      0.006       0.651       3.849\n",
       "x294          -1.2977      1.496     -0.868      0.386      -4.229       1.634\n",
       "x295          -2.7934      1.586     -1.761      0.078      -5.903       0.316\n",
       "x296          -0.2710      0.868     -0.312      0.755      -1.972       1.430\n",
       "x297          -2.2812      0.692     -3.296      0.001      -3.638      -0.924\n",
       "x298          -0.0077      0.703     -0.011      0.991      -1.385       1.370\n",
       "x299           1.0617      0.770      1.380      0.168      -0.447       2.570\n",
       "x300           2.4534      0.694      3.535      0.000       1.093       3.814\n",
       "x301           1.7263      0.734      2.351      0.019       0.287       3.166\n",
       "x302          -0.0784      1.298     -0.060      0.952      -2.624       2.467\n",
       "x303           4.7136      0.785      6.007      0.000       3.175       6.252\n",
       "x304          -2.0688      0.785     -2.635      0.008      -3.608      -0.530\n",
       "x305           0.0220      0.795      0.028      0.978      -1.537       1.581\n",
       "x306          -1.2679      0.767     -1.653      0.098      -2.771       0.236\n",
       "x307           2.0941      0.781      2.683      0.007       0.564       3.624\n",
       "x308          -1.3535      0.716     -1.889      0.059      -2.758       0.051\n",
       "x309          -0.5834      1.121     -0.520      0.603      -2.782       1.615\n",
       "x310          -2.4231      1.050     -2.308      0.021      -4.481      -0.365\n",
       "==============================================================================\n",
       "Omnibus:                     1029.473   Durbin-Watson:                   1.990\n",
       "Prob(Omnibus):                  0.000   Jarque-Bera (JB):             4016.682\n",
       "Skew:                           0.768   Prob(JB):                         0.00\n",
       "Kurtosis:                       6.583   Cond. No.                     4.28e+16\n",
       "==============================================================================\n",
       "\n",
       "Warnings:\n",
       "[1] Standard Errors assume that the covariance matrix of the errors is correctly specified.\n",
       "[2] The smallest eigenvalue is 3.43e-29. This might indicate that there are\n",
       "strong multicollinearity problems or that the design matrix is singular.\n",
       "\"\"\""
      ]
     },
     "execution_count": 52,
     "metadata": {},
     "output_type": "execute_result"
    }
   ],
   "source": [
    "model = sm.OLS(y_train, sm.add_constant(X_train_trans))\n",
    "fit = model.fit()\n",
    "fit.summary()"
   ]
  },
  {
   "cell_type": "markdown",
   "metadata": {},
   "source": [
    "## Random Forest"
   ]
  },
  {
   "cell_type": "code",
   "execution_count": null,
   "metadata": {
    "ExecuteTime": {
     "start_time": "2019-02-18T02:51:06.113Z"
    }
   },
   "outputs": [],
   "source": [
    "rf = RandomForestRegressor(n_estimators=500, \n",
    "                               criterion='mse', \n",
    "                               random_state=42, \n",
    "                               n_jobs=-1)\n",
    "rf.fit(X_train_trans, y_train)\n",
    "y_train_pred = rf.predict(X_train_trans)\n",
    "y_test_pred = rf.predict(X_test_trans)\n",
    "\n",
    "print('MSE train: %.3f, test: %.3f' % (\n",
    "        mean_squared_error(y_train, y_train_pred),\n",
    "        mean_squared_error(y_test, y_test_pred)))\n",
    "print('R^2 train: %.3f, test: %.3f' % (\n",
    "        r2_score(y_train, y_train_pred),\n",
    "        r2_score(y_test, y_test_pred)))"
   ]
  },
  {
   "cell_type": "markdown",
   "metadata": {},
   "source": [
    "## Feature Selection"
   ]
  },
  {
   "cell_type": "code",
   "execution_count": null,
   "metadata": {
    "ExecuteTime": {
     "start_time": "2019-02-18T02:51:06.122Z"
    }
   },
   "outputs": [],
   "source": [
    "# Sorted feature by importance\n",
    "\n",
    "feature_labels = X.columns\n",
    "feature_tuples = zip (feature_labels, rf.feature_importances_)\n",
    "feature_lists = [list(feature_tuple) for feature_tuple in feature_tuples]\n",
    "\n",
    "feature_lists.sort(key=lambda x: abs(x[1]), reverse=True)\n",
    "\n",
    "display (feature_lists[0:5])"
   ]
  },
  {
   "cell_type": "code",
   "execution_count": null,
   "metadata": {
    "ExecuteTime": {
     "start_time": "2019-02-18T02:51:06.131Z"
    }
   },
   "outputs": [],
   "source": [
    "# Kept features that are above 0.001 thresold\n",
    "\n",
    "features_selected = [feature for feature, importance in feature_lists\n",
    "                    if importance >= 0.001]\n",
    "\n",
    "nums_features_selected = len(features_selected)\n",
    "\n",
    "print ('Number of features kept: ', nums_features_selected)"
   ]
  },
  {
   "cell_type": "markdown",
   "metadata": {},
   "source": [
    "## Model with Selected Features"
   ]
  },
  {
   "cell_type": "code",
   "execution_count": null,
   "metadata": {
    "ExecuteTime": {
     "start_time": "2019-02-18T02:51:06.139Z"
    }
   },
   "outputs": [],
   "source": [
    "# Performed another model(Random Forest) based on selected features\n",
    "\n",
    "X_updated = df_model[features_selected]\n",
    "y_updated = df_model['price']"
   ]
  },
  {
   "cell_type": "code",
   "execution_count": null,
   "metadata": {
    "ExecuteTime": {
     "start_time": "2019-02-18T02:51:06.147Z"
    }
   },
   "outputs": [],
   "source": [
    "X_updated_train, X_updated_test, y_updated_train, y_updated_test = train_test_split(\n",
    "    X_updated, y_updated, test_size =0.3, random_state=42)"
   ]
  },
  {
   "cell_type": "code",
   "execution_count": null,
   "metadata": {
    "ExecuteTime": {
     "start_time": "2019-02-18T02:51:06.154Z"
    }
   },
   "outputs": [],
   "source": [
    "ssX2 = StandardScaler()\n",
    "X_updated_train_trans = ssX2.fit_transform(X_updated_train)\n",
    "X_updated_test_trans = ssX2.transform (X_updated_test)"
   ]
  },
  {
   "cell_type": "code",
   "execution_count": null,
   "metadata": {
    "ExecuteTime": {
     "start_time": "2019-02-18T02:51:06.162Z"
    }
   },
   "outputs": [],
   "source": [
    "rf_updated = RandomForestRegressor(n_estimators=500, \n",
    "                                   criterion='mse', \n",
    "                                   random_state=3, \n",
    "                                   n_jobs=-1)\n",
    "rf_updated.fit(X_updated_train_trans, y_updated_train)\n",
    "y_updated_train_pred = rf_updated.predict(X_updated_train_trans)\n",
    "y_updated_test_pred = rf_updated.predict(X_updated_test_trans)\n",
    "\n",
    "print('MSE train: %.3f, test: %.3f' % (\n",
    "        mean_squared_error(y_updated_train, y_updated_train_pred),\n",
    "        mean_squared_error(y_updated_test, y_updated_test_pred)))\n",
    "print('R^2 train: %.3f, test: %.3f' % (\n",
    "        r2_score(y_updated_train, y_updated_train_pred),\n",
    "        r2_score(y_updated_test, y_updated_test_pred)))"
   ]
  },
  {
   "cell_type": "markdown",
   "metadata": {
    "ExecuteTime": {
     "end_time": "2019-02-17T07:34:35.723451Z",
     "start_time": "2019-02-17T07:34:35.720778Z"
    }
   },
   "source": [
    "# Data Storage"
   ]
  },
  {
   "cell_type": "code",
   "execution_count": null,
   "metadata": {
    "ExecuteTime": {
     "start_time": "2019-02-18T02:51:06.171Z"
    }
   },
   "outputs": [],
   "source": [
    "# Kept 'id', and all selected features\n",
    "\n",
    "columns = ['id'] + features_selected\n",
    "df_important_features = df_model[columns]\n",
    "df_important_features.head()"
   ]
  },
  {
   "cell_type": "code",
   "execution_count": null,
   "metadata": {
    "ExecuteTime": {
     "start_time": "2019-02-18T02:51:06.180Z"
    }
   },
   "outputs": [],
   "source": [
    "# Added District and jurisdiction informaiton for future use\n",
    "\n",
    "df_listings_selected_features = pd.merge(left=df_important_features, \n",
    "                                    right=df_district, \n",
    "                                    how ='left', \n",
    "                                    left_on='id',\n",
    "                                    right_on='id')\n",
    "\n",
    "\n",
    "df_listings_selected_features = pd.merge(left=df_listings_selected_features, \n",
    "                                    right=df_jurisdiction, \n",
    "                                    how ='left', \n",
    "                                    left_on='id',\n",
    "                                    right_on='id')\n",
    "\n",
    "\n",
    "# Renamed columns used for furture reference\n",
    "\n",
    "df_listings_selected_features.rename(columns={'district':'ref_district',\n",
    "                                             'jurisdiction_names': 'ref_jurisdiction'},\n",
    "                                     inplace=True)\n",
    "\n",
    "print('df_listings_selected_features dimensions: ', \n",
    "       df_listings_selected_features.shape)\n",
    "display(df_listings_selected_features.head())"
   ]
  },
  {
   "cell_type": "code",
   "execution_count": null,
   "metadata": {
    "ExecuteTime": {
     "start_time": "2019-02-18T02:51:06.186Z"
    }
   },
   "outputs": [],
   "source": [
    "# Checked for null values before data storage\n",
    "\n",
    "# df_listings_selected_features.isnull().sum()"
   ]
  },
  {
   "cell_type": "code",
   "execution_count": null,
   "metadata": {
    "ExecuteTime": {
     "start_time": "2019-02-18T02:51:06.194Z"
    }
   },
   "outputs": [],
   "source": [
    "# Stored data post feature selection\n",
    "\n",
    "pkl_file = '/Users/xzhou/github/project_archives/files_airbnb/{}.pkl'\n",
    "\n",
    "pkl_path = pkl_file.format('df_listings_selected_features')\n",
    "\n",
    "df_listings_selected_features.to_pickle(pkl_path)"
   ]
  }
 ],
 "metadata": {
  "kernelspec": {
   "display_name": "Python 3",
   "language": "python",
   "name": "python3"
  },
  "language_info": {
   "codemirror_mode": {
    "name": "ipython",
    "version": 3
   },
   "file_extension": ".py",
   "mimetype": "text/x-python",
   "name": "python",
   "nbconvert_exporter": "python",
   "pygments_lexer": "ipython3",
   "version": "3.6.6"
  },
  "toc": {
   "base_numbering": 1,
   "nav_menu": {},
   "number_sections": true,
   "sideBar": true,
   "skip_h1_title": false,
   "title_cell": "Table of Contents",
   "title_sidebar": "Contents",
   "toc_cell": false,
   "toc_position": {
    "height": "946px",
    "left": "568px",
    "top": "199px",
    "width": "386px"
   },
   "toc_section_display": true,
   "toc_window_display": true
  },
  "varInspector": {
   "cols": {
    "lenName": 16,
    "lenType": 16,
    "lenVar": 40
   },
   "kernels_config": {
    "python": {
     "delete_cmd_postfix": "",
     "delete_cmd_prefix": "del ",
     "library": "var_list.py",
     "varRefreshCmd": "print(var_dic_list())"
    },
    "r": {
     "delete_cmd_postfix": ") ",
     "delete_cmd_prefix": "rm(",
     "library": "var_list.r",
     "varRefreshCmd": "cat(var_dic_list()) "
    }
   },
   "types_to_exclude": [
    "module",
    "function",
    "builtin_function_or_method",
    "instance",
    "_Feature"
   ],
   "window_display": false
  }
 },
 "nbformat": 4,
 "nbformat_minor": 2
}
