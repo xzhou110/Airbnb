{
 "cells": [
  {
   "cell_type": "markdown",
   "metadata": {},
   "source": [
    "# Data Retrieval"
   ]
  },
  {
   "cell_type": "code",
   "execution_count": 1,
   "metadata": {
    "ExecuteTime": {
     "end_time": "2019-02-17T09:25:10.219818Z",
     "start_time": "2019-02-17T09:25:10.216546Z"
    }
   },
   "outputs": [],
   "source": [
    "import warnings\n",
    "warnings.simplefilter(action='ignore', category=Warning)"
   ]
  },
  {
   "cell_type": "code",
   "execution_count": 2,
   "metadata": {
    "ExecuteTime": {
     "end_time": "2019-02-17T09:25:12.662362Z",
     "start_time": "2019-02-17T09:25:10.696750Z"
    }
   },
   "outputs": [],
   "source": [
    "import pandas as pd\n",
    "import IPython.display\n",
    "import matplotlib.pyplot as plt\n",
    "import csv\n",
    "import re\n",
    "import numpy as np\n",
    "from datetime import datetime\n",
    "import statsmodels.api as sm\n",
    "\n",
    "from sklearn import datasets, linear_model\n",
    "from sklearn.metrics import mean_squared_error, r2_score\n",
    "from sklearn.preprocessing import StandardScaler\n",
    "from sklearn.model_selection import train_test_split\n",
    "from sklearn.ensemble import RandomForestRegressor"
   ]
  },
  {
   "cell_type": "code",
   "execution_count": 33,
   "metadata": {
    "ExecuteTime": {
     "end_time": "2019-02-17T09:40:56.368366Z",
     "start_time": "2019-02-17T09:40:56.365025Z"
    }
   },
   "outputs": [],
   "source": [
    "plt.style.use('seaborn')"
   ]
  },
  {
   "cell_type": "code",
   "execution_count": 3,
   "metadata": {
    "ExecuteTime": {
     "end_time": "2019-02-17T09:25:12.892797Z",
     "start_time": "2019-02-17T09:25:12.888457Z"
    }
   },
   "outputs": [],
   "source": [
    "# File path for cities: San Francisco(sf), Okaland(ok), Santa Clara(sc), \n",
    "# Santa Cruze(scz)\n",
    "\n",
    "file_url = '/Users/xzhou/github/project_archives/files_airbnb/{}.csv'\n",
    "\n",
    "sf_file = file_url.format('sf_airbnb/listings_details')\n",
    "ok_file = file_url.format('ok_airbnb/listings_details')\n",
    "sc_file = file_url.format('sc_airbnb/listings_details')\n",
    "scz_file = file_url.format('scz_airbnb/listings_details')"
   ]
  },
  {
   "cell_type": "code",
   "execution_count": 4,
   "metadata": {
    "ExecuteTime": {
     "end_time": "2019-02-17T09:25:17.078677Z",
     "start_time": "2019-02-17T09:25:13.362069Z"
    }
   },
   "outputs": [
    {
     "name": "stdout",
     "output_type": "stream",
     "text": [
      "sf file dimensions:  (6633, 96)\n",
      "ok file dimensions:  (2898, 96)\n",
      "sc file dimensions:  (5668, 96)\n",
      "scz file dimensions:  (1570, 96)\n"
     ]
    }
   ],
   "source": [
    "# Loaded files as DataFrame\n",
    "\n",
    "date_to_parse = ['last_scraped','host_since', 'first_review', 'last_review']\n",
    "\n",
    "listings_sf = pd.read_csv(sf_file, parse_dates=date_to_parse)\n",
    "listings_ok = pd.read_csv(ok_file, parse_dates=date_to_parse)\n",
    "listings_sc = pd.read_csv(sc_file, parse_dates=date_to_parse)\n",
    "listings_scz = pd.read_csv(scz_file, parse_dates=date_to_parse)\n",
    "\n",
    "print('sf file dimensions: ', listings_sf.shape) \n",
    "print('ok file dimensions: ', listings_ok.shape) \n",
    "print('sc file dimensions: ', listings_sc.shape) \n",
    "print('scz file dimensions: ', listings_scz.shape) "
   ]
  },
  {
   "cell_type": "code",
   "execution_count": 5,
   "metadata": {
    "ExecuteTime": {
     "end_time": "2019-02-17T09:25:19.202789Z",
     "start_time": "2019-02-17T09:25:18.942027Z"
    },
    "scrolled": true
   },
   "outputs": [
    {
     "data": {
      "text/html": [
       "<div>\n",
       "<style scoped>\n",
       "    .dataframe tbody tr th:only-of-type {\n",
       "        vertical-align: middle;\n",
       "    }\n",
       "\n",
       "    .dataframe tbody tr th {\n",
       "        vertical-align: top;\n",
       "    }\n",
       "\n",
       "    .dataframe thead th {\n",
       "        text-align: right;\n",
       "    }\n",
       "</style>\n",
       "<table border=\"1\" class=\"dataframe\">\n",
       "  <thead>\n",
       "    <tr style=\"text-align: right;\">\n",
       "      <th></th>\n",
       "      <th></th>\n",
       "      <th>id</th>\n",
       "      <th>listing_url</th>\n",
       "      <th>scrape_id</th>\n",
       "      <th>last_scraped</th>\n",
       "      <th>name</th>\n",
       "      <th>summary</th>\n",
       "      <th>space</th>\n",
       "      <th>description</th>\n",
       "      <th>experiences_offered</th>\n",
       "      <th>neighborhood_overview</th>\n",
       "      <th>...</th>\n",
       "      <th>requires_license</th>\n",
       "      <th>license</th>\n",
       "      <th>jurisdiction_names</th>\n",
       "      <th>instant_bookable</th>\n",
       "      <th>is_business_travel_ready</th>\n",
       "      <th>cancellation_policy</th>\n",
       "      <th>require_guest_profile_picture</th>\n",
       "      <th>require_guest_phone_verification</th>\n",
       "      <th>calculated_host_listings_count</th>\n",
       "      <th>reviews_per_month</th>\n",
       "    </tr>\n",
       "  </thead>\n",
       "  <tbody>\n",
       "    <tr>\n",
       "      <th rowspan=\"5\" valign=\"top\">sf</th>\n",
       "      <th>0</th>\n",
       "      <td>958</td>\n",
       "      <td>https://www.airbnb.com/rooms/958</td>\n",
       "      <td>2.018080e+13</td>\n",
       "      <td>2018-08-06</td>\n",
       "      <td>Bright, Modern Garden Unit - 1BR/1B</td>\n",
       "      <td>Our bright garden unit overlooks a grassy back...</td>\n",
       "      <td>Newly remodeled, modern, and bright garden uni...</td>\n",
       "      <td>Our bright garden unit overlooks a grassy back...</td>\n",
       "      <td>none</td>\n",
       "      <td>*Quiet cul de sac in friendly neighborhood *St...</td>\n",
       "      <td>...</td>\n",
       "      <td>t</td>\n",
       "      <td>STR-0001256</td>\n",
       "      <td>{\"SAN FRANCISCO\"}</td>\n",
       "      <td>f</td>\n",
       "      <td>f</td>\n",
       "      <td>moderate</td>\n",
       "      <td>f</td>\n",
       "      <td>f</td>\n",
       "      <td>1</td>\n",
       "      <td>1.38</td>\n",
       "    </tr>\n",
       "    <tr>\n",
       "      <th>1</th>\n",
       "      <td>5858</td>\n",
       "      <td>https://www.airbnb.com/rooms/5858</td>\n",
       "      <td>2.018080e+13</td>\n",
       "      <td>2018-08-06</td>\n",
       "      <td>Creative Sanctuary</td>\n",
       "      <td>NaN</td>\n",
       "      <td>We live in a large Victorian house on a quiet ...</td>\n",
       "      <td>We live in a large Victorian house on a quiet ...</td>\n",
       "      <td>none</td>\n",
       "      <td>I love how our neighborhood feels quiet but is...</td>\n",
       "      <td>...</td>\n",
       "      <td>t</td>\n",
       "      <td>NaN</td>\n",
       "      <td>{\"SAN FRANCISCO\"}</td>\n",
       "      <td>f</td>\n",
       "      <td>f</td>\n",
       "      <td>strict_14_with_grace_period</td>\n",
       "      <td>f</td>\n",
       "      <td>f</td>\n",
       "      <td>1</td>\n",
       "      <td>0.99</td>\n",
       "    </tr>\n",
       "    <tr>\n",
       "      <th>2</th>\n",
       "      <td>7918</td>\n",
       "      <td>https://www.airbnb.com/rooms/7918</td>\n",
       "      <td>2.018080e+13</td>\n",
       "      <td>2018-08-06</td>\n",
       "      <td>A Friendly Room - UCSF/USF - San Francisco</td>\n",
       "      <td>Nice and good public transportation.  7 minute...</td>\n",
       "      <td>Room rental-sunny view room/sink/Wi Fi (inner ...</td>\n",
       "      <td>Nice and good public transportation.  7 minute...</td>\n",
       "      <td>none</td>\n",
       "      <td>Shopping old town, restaurants, McDonald, Whol...</td>\n",
       "      <td>...</td>\n",
       "      <td>t</td>\n",
       "      <td>NaN</td>\n",
       "      <td>{\"SAN FRANCISCO\"}</td>\n",
       "      <td>f</td>\n",
       "      <td>f</td>\n",
       "      <td>strict_14_with_grace_period</td>\n",
       "      <td>f</td>\n",
       "      <td>f</td>\n",
       "      <td>9</td>\n",
       "      <td>0.16</td>\n",
       "    </tr>\n",
       "    <tr>\n",
       "      <th>3</th>\n",
       "      <td>8142</td>\n",
       "      <td>https://www.airbnb.com/rooms/8142</td>\n",
       "      <td>2.018080e+13</td>\n",
       "      <td>2018-08-06</td>\n",
       "      <td>Friendly Room Apt. Style -UCSF/USF - San Franc...</td>\n",
       "      <td>Nice and good public transportation.  7 minute...</td>\n",
       "      <td>Room rental Sunny view Rm/Wi-Fi/TV/sink/large ...</td>\n",
       "      <td>Nice and good public transportation.  7 minute...</td>\n",
       "      <td>none</td>\n",
       "      <td>NaN</td>\n",
       "      <td>...</td>\n",
       "      <td>t</td>\n",
       "      <td>NaN</td>\n",
       "      <td>{\"SAN FRANCISCO\"}</td>\n",
       "      <td>f</td>\n",
       "      <td>f</td>\n",
       "      <td>strict_14_with_grace_period</td>\n",
       "      <td>f</td>\n",
       "      <td>f</td>\n",
       "      <td>9</td>\n",
       "      <td>0.15</td>\n",
       "    </tr>\n",
       "    <tr>\n",
       "      <th>4</th>\n",
       "      <td>8339</td>\n",
       "      <td>https://www.airbnb.com/rooms/8339</td>\n",
       "      <td>2.018080e+13</td>\n",
       "      <td>2018-08-06</td>\n",
       "      <td>Historic Alamo Square Victorian</td>\n",
       "      <td>Pls email before booking.  Interior featured i...</td>\n",
       "      <td>Please send us a quick message before booking ...</td>\n",
       "      <td>Pls email before booking.  Interior featured i...</td>\n",
       "      <td>none</td>\n",
       "      <td>NaN</td>\n",
       "      <td>...</td>\n",
       "      <td>t</td>\n",
       "      <td>STR-0000264</td>\n",
       "      <td>{\"SAN FRANCISCO\"}</td>\n",
       "      <td>f</td>\n",
       "      <td>f</td>\n",
       "      <td>strict_14_with_grace_period</td>\n",
       "      <td>t</td>\n",
       "      <td>t</td>\n",
       "      <td>2</td>\n",
       "      <td>0.24</td>\n",
       "    </tr>\n",
       "  </tbody>\n",
       "</table>\n",
       "<p>5 rows × 96 columns</p>\n",
       "</div>"
      ],
      "text/plain": [
       "        id                        listing_url     scrape_id last_scraped  \\\n",
       "sf 0   958   https://www.airbnb.com/rooms/958  2.018080e+13   2018-08-06   \n",
       "   1  5858  https://www.airbnb.com/rooms/5858  2.018080e+13   2018-08-06   \n",
       "   2  7918  https://www.airbnb.com/rooms/7918  2.018080e+13   2018-08-06   \n",
       "   3  8142  https://www.airbnb.com/rooms/8142  2.018080e+13   2018-08-06   \n",
       "   4  8339  https://www.airbnb.com/rooms/8339  2.018080e+13   2018-08-06   \n",
       "\n",
       "                                                   name  \\\n",
       "sf 0                Bright, Modern Garden Unit - 1BR/1B   \n",
       "   1                                 Creative Sanctuary   \n",
       "   2         A Friendly Room - UCSF/USF - San Francisco   \n",
       "   3  Friendly Room Apt. Style -UCSF/USF - San Franc...   \n",
       "   4                    Historic Alamo Square Victorian   \n",
       "\n",
       "                                                summary  \\\n",
       "sf 0  Our bright garden unit overlooks a grassy back...   \n",
       "   1                                                NaN   \n",
       "   2  Nice and good public transportation.  7 minute...   \n",
       "   3  Nice and good public transportation.  7 minute...   \n",
       "   4  Pls email before booking.  Interior featured i...   \n",
       "\n",
       "                                                  space  \\\n",
       "sf 0  Newly remodeled, modern, and bright garden uni...   \n",
       "   1  We live in a large Victorian house on a quiet ...   \n",
       "   2  Room rental-sunny view room/sink/Wi Fi (inner ...   \n",
       "   3  Room rental Sunny view Rm/Wi-Fi/TV/sink/large ...   \n",
       "   4  Please send us a quick message before booking ...   \n",
       "\n",
       "                                            description experiences_offered  \\\n",
       "sf 0  Our bright garden unit overlooks a grassy back...                none   \n",
       "   1  We live in a large Victorian house on a quiet ...                none   \n",
       "   2  Nice and good public transportation.  7 minute...                none   \n",
       "   3  Nice and good public transportation.  7 minute...                none   \n",
       "   4  Pls email before booking.  Interior featured i...                none   \n",
       "\n",
       "                                  neighborhood_overview        ...          \\\n",
       "sf 0  *Quiet cul de sac in friendly neighborhood *St...        ...           \n",
       "   1  I love how our neighborhood feels quiet but is...        ...           \n",
       "   2  Shopping old town, restaurants, McDonald, Whol...        ...           \n",
       "   3                                                NaN        ...           \n",
       "   4                                                NaN        ...           \n",
       "\n",
       "     requires_license      license jurisdiction_names instant_bookable  \\\n",
       "sf 0                t  STR-0001256  {\"SAN FRANCISCO\"}                f   \n",
       "   1                t          NaN  {\"SAN FRANCISCO\"}                f   \n",
       "   2                t          NaN  {\"SAN FRANCISCO\"}                f   \n",
       "   3                t          NaN  {\"SAN FRANCISCO\"}                f   \n",
       "   4                t  STR-0000264  {\"SAN FRANCISCO\"}                f   \n",
       "\n",
       "     is_business_travel_ready          cancellation_policy  \\\n",
       "sf 0                        f                     moderate   \n",
       "   1                        f  strict_14_with_grace_period   \n",
       "   2                        f  strict_14_with_grace_period   \n",
       "   3                        f  strict_14_with_grace_period   \n",
       "   4                        f  strict_14_with_grace_period   \n",
       "\n",
       "      require_guest_profile_picture require_guest_phone_verification  \\\n",
       "sf 0                              f                                f   \n",
       "   1                              f                                f   \n",
       "   2                              f                                f   \n",
       "   3                              f                                f   \n",
       "   4                              t                                t   \n",
       "\n",
       "      calculated_host_listings_count  reviews_per_month  \n",
       "sf 0                               1               1.38  \n",
       "   1                               1               0.99  \n",
       "   2                               9               0.16  \n",
       "   3                               9               0.15  \n",
       "   4                               2               0.24  \n",
       "\n",
       "[5 rows x 96 columns]"
      ]
     },
     "execution_count": 5,
     "metadata": {},
     "output_type": "execute_result"
    }
   ],
   "source": [
    "# Concatenated four files into one\n",
    "# Created keys for each file for future references\n",
    "\n",
    "frames = [listings_sf, listings_ok, listings_sc, listings_scz]\n",
    "keys = ['sf', 'ok', 'sc', 'scz']\n",
    "\n",
    "df_listings = pd.concat(frames, keys=keys)\n",
    "df_listings.reset_index()\n",
    "\n",
    "df_listings.head()"
   ]
  },
  {
   "cell_type": "code",
   "execution_count": 6,
   "metadata": {
    "ExecuteTime": {
     "end_time": "2019-02-17T09:25:23.101835Z",
     "start_time": "2019-02-17T09:25:22.848836Z"
    }
   },
   "outputs": [],
   "source": [
    "# Added additional column to keep track of original district\n",
    "\n",
    "df_listings['district'] = ''\n",
    "\n",
    "df_listings.loc['sf']['district'] = 'San Francisco'\n",
    "df_listings.loc['ok']['district'] = 'Oakland'\n",
    "df_listings.loc['sc']['district'] = 'Santa Clara'\n",
    "df_listings.loc['scz']['district'] = 'Santa Cruz'"
   ]
  },
  {
   "cell_type": "code",
   "execution_count": 7,
   "metadata": {
    "ExecuteTime": {
     "end_time": "2019-02-17T09:25:26.500403Z",
     "start_time": "2019-02-17T09:25:26.487614Z"
    }
   },
   "outputs": [
    {
     "data": {
      "text/html": [
       "<div>\n",
       "<style scoped>\n",
       "    .dataframe tbody tr th:only-of-type {\n",
       "        vertical-align: middle;\n",
       "    }\n",
       "\n",
       "    .dataframe tbody tr th {\n",
       "        vertical-align: top;\n",
       "    }\n",
       "\n",
       "    .dataframe thead th {\n",
       "        text-align: right;\n",
       "    }\n",
       "</style>\n",
       "<table border=\"1\" class=\"dataframe\">\n",
       "  <thead>\n",
       "    <tr style=\"text-align: right;\">\n",
       "      <th></th>\n",
       "      <th></th>\n",
       "      <th>id</th>\n",
       "      <th>district</th>\n",
       "    </tr>\n",
       "  </thead>\n",
       "  <tbody>\n",
       "    <tr>\n",
       "      <th rowspan=\"5\" valign=\"top\">sf</th>\n",
       "      <th>0</th>\n",
       "      <td>958</td>\n",
       "      <td>San Francisco</td>\n",
       "    </tr>\n",
       "    <tr>\n",
       "      <th>1</th>\n",
       "      <td>5858</td>\n",
       "      <td>San Francisco</td>\n",
       "    </tr>\n",
       "    <tr>\n",
       "      <th>2</th>\n",
       "      <td>7918</td>\n",
       "      <td>San Francisco</td>\n",
       "    </tr>\n",
       "    <tr>\n",
       "      <th>3</th>\n",
       "      <td>8142</td>\n",
       "      <td>San Francisco</td>\n",
       "    </tr>\n",
       "    <tr>\n",
       "      <th>4</th>\n",
       "      <td>8339</td>\n",
       "      <td>San Francisco</td>\n",
       "    </tr>\n",
       "  </tbody>\n",
       "</table>\n",
       "</div>"
      ],
      "text/plain": [
       "        id       district\n",
       "sf 0   958  San Francisco\n",
       "   1  5858  San Francisco\n",
       "   2  7918  San Francisco\n",
       "   3  8142  San Francisco\n",
       "   4  8339  San Francisco"
      ]
     },
     "execution_count": 7,
     "metadata": {},
     "output_type": "execute_result"
    }
   ],
   "source": [
    "# Created a separate dataframe to keep track of district\n",
    "# The data frame will be used in later stage\n",
    "\n",
    "df_district =  df_listings.loc[:, ['id', 'district']]\n",
    "df_district.head()"
   ]
  },
  {
   "cell_type": "markdown",
   "metadata": {
    "ExecuteTime": {
     "end_time": "2019-02-17T07:21:58.910805Z",
     "start_time": "2019-02-17T07:21:58.906832Z"
    }
   },
   "source": [
    "# Data Exploration"
   ]
  },
  {
   "cell_type": "markdown",
   "metadata": {
    "ExecuteTime": {
     "end_time": "2019-02-17T07:23:36.535268Z",
     "start_time": "2019-02-17T07:23:36.531980Z"
    }
   },
   "source": [
    "## Drill down to smaller set of features"
   ]
  },
  {
   "cell_type": "code",
   "execution_count": 8,
   "metadata": {
    "ExecuteTime": {
     "end_time": "2019-02-17T09:26:21.146183Z",
     "start_time": "2019-02-17T09:26:21.053146Z"
    }
   },
   "outputs": [
    {
     "data": {
      "text/plain": [
       "id                                      0\n",
       "listing_url                             0\n",
       "scrape_id                               0\n",
       "last_scraped                            0\n",
       "name                                    2\n",
       "summary                               468\n",
       "space                                3489\n",
       "description                           124\n",
       "experiences_offered                     0\n",
       "neighborhood_overview                5398\n",
       "notes                                7321\n",
       "transit                              5550\n",
       "access                               5261\n",
       "interaction                          5880\n",
       "house_rules                          4658\n",
       "thumbnail_url                       16769\n",
       "medium_url                          16769\n",
       "picture_url                             0\n",
       "xl_picture_url                      16769\n",
       "host_id                                 0\n",
       "host_url                                0\n",
       "host_name                               0\n",
       "host_since                              0\n",
       "host_location                          33\n",
       "host_about                           4894\n",
       "host_response_time                   1996\n",
       "host_response_rate                   1996\n",
       "host_acceptance_rate                16769\n",
       "host_is_superhost                       0\n",
       "host_thumbnail_url                      0\n",
       "                                    ...  \n",
       "minimum_nights                          0\n",
       "maximum_nights                          0\n",
       "calendar_updated                        0\n",
       "has_availability                        0\n",
       "availability_30                         0\n",
       "availability_60                         0\n",
       "availability_90                         0\n",
       "availability_365                        0\n",
       "calendar_last_scraped                   0\n",
       "number_of_reviews                       0\n",
       "first_review                         2882\n",
       "last_review                          2882\n",
       "review_scores_rating                 3009\n",
       "review_scores_accuracy               3019\n",
       "review_scores_cleanliness            3015\n",
       "review_scores_checkin                3028\n",
       "review_scores_communication          3018\n",
       "review_scores_location               3024\n",
       "review_scores_value                  3026\n",
       "requires_license                        0\n",
       "license                             12425\n",
       "jurisdiction_names                   2000\n",
       "instant_bookable                        0\n",
       "is_business_travel_ready                0\n",
       "cancellation_policy                     0\n",
       "require_guest_profile_picture           0\n",
       "require_guest_phone_verification        0\n",
       "calculated_host_listings_count          0\n",
       "reviews_per_month                    2882\n",
       "district                                0\n",
       "Length: 97, dtype: int64"
      ]
     },
     "metadata": {},
     "output_type": "display_data"
    }
   ],
   "source": [
    "# Checked for Null vales within data\n",
    "\n",
    "display(df_listings.isnull().sum())"
   ]
  },
  {
   "cell_type": "code",
   "execution_count": 9,
   "metadata": {
    "ExecuteTime": {
     "end_time": "2019-02-17T09:26:28.224445Z",
     "start_time": "2019-02-17T09:26:28.149124Z"
    }
   },
   "outputs": [
    {
     "data": {
      "text/plain": [
       "'Dimensions after clean up: '"
      ]
     },
     "metadata": {},
     "output_type": "display_data"
    },
    {
     "data": {
      "text/plain": [
       "(16769, 43)"
      ]
     },
     "metadata": {},
     "output_type": "display_data"
    },
    {
     "data": {
      "text/html": [
       "<div>\n",
       "<style scoped>\n",
       "    .dataframe tbody tr th:only-of-type {\n",
       "        vertical-align: middle;\n",
       "    }\n",
       "\n",
       "    .dataframe tbody tr th {\n",
       "        vertical-align: top;\n",
       "    }\n",
       "\n",
       "    .dataframe thead th {\n",
       "        text-align: right;\n",
       "    }\n",
       "</style>\n",
       "<table border=\"1\" class=\"dataframe\">\n",
       "  <thead>\n",
       "    <tr style=\"text-align: right;\">\n",
       "      <th></th>\n",
       "      <th></th>\n",
       "      <th>id</th>\n",
       "      <th>host_since</th>\n",
       "      <th>host_response_time</th>\n",
       "      <th>host_response_rate</th>\n",
       "      <th>host_is_superhost</th>\n",
       "      <th>host_listings_count</th>\n",
       "      <th>host_total_listings_count</th>\n",
       "      <th>host_has_profile_pic</th>\n",
       "      <th>host_identity_verified</th>\n",
       "      <th>neighbourhood_cleansed</th>\n",
       "      <th>...</th>\n",
       "      <th>review_scores_value</th>\n",
       "      <th>jurisdiction_names</th>\n",
       "      <th>instant_bookable</th>\n",
       "      <th>is_business_travel_ready</th>\n",
       "      <th>cancellation_policy</th>\n",
       "      <th>require_guest_profile_picture</th>\n",
       "      <th>require_guest_phone_verification</th>\n",
       "      <th>calculated_host_listings_count</th>\n",
       "      <th>reviews_per_month</th>\n",
       "      <th>district</th>\n",
       "    </tr>\n",
       "  </thead>\n",
       "  <tbody>\n",
       "    <tr>\n",
       "      <th rowspan=\"5\" valign=\"top\">sf</th>\n",
       "      <th>0</th>\n",
       "      <td>958</td>\n",
       "      <td>2008-07-31</td>\n",
       "      <td>within an hour</td>\n",
       "      <td>92%</td>\n",
       "      <td>t</td>\n",
       "      <td>1</td>\n",
       "      <td>1</td>\n",
       "      <td>t</td>\n",
       "      <td>t</td>\n",
       "      <td>Western Addition</td>\n",
       "      <td>...</td>\n",
       "      <td>10.0</td>\n",
       "      <td>{\"SAN FRANCISCO\"}</td>\n",
       "      <td>f</td>\n",
       "      <td>f</td>\n",
       "      <td>moderate</td>\n",
       "      <td>f</td>\n",
       "      <td>f</td>\n",
       "      <td>1</td>\n",
       "      <td>1.38</td>\n",
       "      <td>San Francisco</td>\n",
       "    </tr>\n",
       "    <tr>\n",
       "      <th>1</th>\n",
       "      <td>5858</td>\n",
       "      <td>2009-03-02</td>\n",
       "      <td>within an hour</td>\n",
       "      <td>100%</td>\n",
       "      <td>f</td>\n",
       "      <td>2</td>\n",
       "      <td>2</td>\n",
       "      <td>t</td>\n",
       "      <td>t</td>\n",
       "      <td>Bernal Heights</td>\n",
       "      <td>...</td>\n",
       "      <td>9.0</td>\n",
       "      <td>{\"SAN FRANCISCO\"}</td>\n",
       "      <td>f</td>\n",
       "      <td>f</td>\n",
       "      <td>strict_14_with_grace_period</td>\n",
       "      <td>f</td>\n",
       "      <td>f</td>\n",
       "      <td>1</td>\n",
       "      <td>0.99</td>\n",
       "      <td>San Francisco</td>\n",
       "    </tr>\n",
       "    <tr>\n",
       "      <th>2</th>\n",
       "      <td>7918</td>\n",
       "      <td>2009-06-17</td>\n",
       "      <td>within a few hours</td>\n",
       "      <td>100%</td>\n",
       "      <td>f</td>\n",
       "      <td>10</td>\n",
       "      <td>10</td>\n",
       "      <td>t</td>\n",
       "      <td>t</td>\n",
       "      <td>Haight Ashbury</td>\n",
       "      <td>...</td>\n",
       "      <td>8.0</td>\n",
       "      <td>{\"SAN FRANCISCO\"}</td>\n",
       "      <td>f</td>\n",
       "      <td>f</td>\n",
       "      <td>strict_14_with_grace_period</td>\n",
       "      <td>f</td>\n",
       "      <td>f</td>\n",
       "      <td>9</td>\n",
       "      <td>0.16</td>\n",
       "      <td>San Francisco</td>\n",
       "    </tr>\n",
       "    <tr>\n",
       "      <th>3</th>\n",
       "      <td>8142</td>\n",
       "      <td>2009-06-17</td>\n",
       "      <td>within a few hours</td>\n",
       "      <td>100%</td>\n",
       "      <td>f</td>\n",
       "      <td>10</td>\n",
       "      <td>10</td>\n",
       "      <td>t</td>\n",
       "      <td>t</td>\n",
       "      <td>Haight Ashbury</td>\n",
       "      <td>...</td>\n",
       "      <td>9.0</td>\n",
       "      <td>{\"SAN FRANCISCO\"}</td>\n",
       "      <td>f</td>\n",
       "      <td>f</td>\n",
       "      <td>strict_14_with_grace_period</td>\n",
       "      <td>f</td>\n",
       "      <td>f</td>\n",
       "      <td>9</td>\n",
       "      <td>0.15</td>\n",
       "      <td>San Francisco</td>\n",
       "    </tr>\n",
       "    <tr>\n",
       "      <th>4</th>\n",
       "      <td>8339</td>\n",
       "      <td>2009-07-02</td>\n",
       "      <td>within an hour</td>\n",
       "      <td>100%</td>\n",
       "      <td>f</td>\n",
       "      <td>2</td>\n",
       "      <td>2</td>\n",
       "      <td>t</td>\n",
       "      <td>t</td>\n",
       "      <td>Western Addition</td>\n",
       "      <td>...</td>\n",
       "      <td>10.0</td>\n",
       "      <td>{\"SAN FRANCISCO\"}</td>\n",
       "      <td>f</td>\n",
       "      <td>f</td>\n",
       "      <td>strict_14_with_grace_period</td>\n",
       "      <td>t</td>\n",
       "      <td>t</td>\n",
       "      <td>2</td>\n",
       "      <td>0.24</td>\n",
       "      <td>San Francisco</td>\n",
       "    </tr>\n",
       "  </tbody>\n",
       "</table>\n",
       "<p>5 rows × 43 columns</p>\n",
       "</div>"
      ],
      "text/plain": [
       "        id host_since  host_response_time host_response_rate  \\\n",
       "sf 0   958 2008-07-31      within an hour                92%   \n",
       "   1  5858 2009-03-02      within an hour               100%   \n",
       "   2  7918 2009-06-17  within a few hours               100%   \n",
       "   3  8142 2009-06-17  within a few hours               100%   \n",
       "   4  8339 2009-07-02      within an hour               100%   \n",
       "\n",
       "     host_is_superhost  host_listings_count  host_total_listings_count  \\\n",
       "sf 0                 t                    1                          1   \n",
       "   1                 f                    2                          2   \n",
       "   2                 f                   10                         10   \n",
       "   3                 f                   10                         10   \n",
       "   4                 f                    2                          2   \n",
       "\n",
       "     host_has_profile_pic host_identity_verified neighbourhood_cleansed  \\\n",
       "sf 0                    t                      t       Western Addition   \n",
       "   1                    t                      t         Bernal Heights   \n",
       "   2                    t                      t         Haight Ashbury   \n",
       "   3                    t                      t         Haight Ashbury   \n",
       "   4                    t                      t       Western Addition   \n",
       "\n",
       "          ...       review_scores_value jurisdiction_names instant_bookable  \\\n",
       "sf 0      ...                      10.0  {\"SAN FRANCISCO\"}                f   \n",
       "   1      ...                       9.0  {\"SAN FRANCISCO\"}                f   \n",
       "   2      ...                       8.0  {\"SAN FRANCISCO\"}                f   \n",
       "   3      ...                       9.0  {\"SAN FRANCISCO\"}                f   \n",
       "   4      ...                      10.0  {\"SAN FRANCISCO\"}                f   \n",
       "\n",
       "     is_business_travel_ready          cancellation_policy  \\\n",
       "sf 0                        f                     moderate   \n",
       "   1                        f  strict_14_with_grace_period   \n",
       "   2                        f  strict_14_with_grace_period   \n",
       "   3                        f  strict_14_with_grace_period   \n",
       "   4                        f  strict_14_with_grace_period   \n",
       "\n",
       "      require_guest_profile_picture  require_guest_phone_verification  \\\n",
       "sf 0                              f                                 f   \n",
       "   1                              f                                 f   \n",
       "   2                              f                                 f   \n",
       "   3                              f                                 f   \n",
       "   4                              t                                 t   \n",
       "\n",
       "      calculated_host_listings_count reviews_per_month       district  \n",
       "sf 0                               1              1.38  San Francisco  \n",
       "   1                               1              0.99  San Francisco  \n",
       "   2                               9              0.16  San Francisco  \n",
       "   3                               9              0.15  San Francisco  \n",
       "   4                               2              0.24  San Francisco  \n",
       "\n",
       "[5 rows x 43 columns]"
      ]
     },
     "execution_count": 9,
     "metadata": {},
     "output_type": "execute_result"
    }
   ],
   "source": [
    "# Columns removed/dropped:\n",
    "# Removed columns with >90% null values: 'experience_offered', 'host_acceptance_rate', \n",
    "#'neighbourhood_group_cleansed', 'square_feet'\n",
    "# Removed 'jurisdiction_names', 'neighbourhood', kept'neighbourhood_cleansed'\n",
    "# Noted'city' and 'smart location' provide duplicate information, removed 'smart location'\n",
    "# Removed 'Country code' and 'country', as all instances locate within US\n",
    "\n",
    "\n",
    "columns_to_keep =[\n",
    "       'id','host_since','host_response_time', 'host_response_rate',\n",
    "        'host_is_superhost', 'host_listings_count',\n",
    "       'host_total_listings_count', \n",
    "       'host_has_profile_pic', 'host_identity_verified', \n",
    "        'neighbourhood_cleansed',\n",
    "       'city', \n",
    "       'is_location_exact', 'property_type', 'room_type', 'accommodates',\n",
    "       'bathrooms', 'bedrooms', 'beds', 'bed_type','amenities', \n",
    "       'price', 'security_deposit',\n",
    "       'cleaning_fee', 'guests_included',  'minimum_nights','number_of_reviews',\n",
    "       'first_review', 'review_scores_rating',\n",
    "       'review_scores_accuracy', 'review_scores_cleanliness',\n",
    "       'review_scores_checkin', 'review_scores_communication',\n",
    "       'review_scores_location', 'review_scores_value', 'jurisdiction_names', 'instant_bookable',\n",
    "       'is_business_travel_ready', 'cancellation_policy',\n",
    "       'require_guest_profile_picture', 'require_guest_phone_verification',\n",
    "       'calculated_host_listings_count', 'reviews_per_month', 'district']\n",
    "\n",
    "\n",
    "df_listings_smaller = df_listings[columns_to_keep]\n",
    "display ('Dimensions after drilling down: ' ,df_listings_smaller.shape)\n",
    "df_listings_smaller.head()"
   ]
  },
  {
   "cell_type": "markdown",
   "metadata": {},
   "source": [
    "## Format data appropriately"
   ]
  },
  {
   "cell_type": "markdown",
   "metadata": {
    "ExecuteTime": {
     "end_time": "2019-02-17T08:45:45.634174Z",
     "start_time": "2019-02-17T08:45:45.630559Z"
    }
   },
   "source": [
    "### Percentage"
   ]
  },
  {
   "cell_type": "code",
   "execution_count": 10,
   "metadata": {
    "ExecuteTime": {
     "end_time": "2019-02-17T09:26:46.105370Z",
     "start_time": "2019-02-17T09:26:46.101602Z"
    }
   },
   "outputs": [],
   "source": [
    "def apply2df(df, column_names, function):\n",
    "    \"\"\"\n",
    "    This enables function to be applied to multiple columns of dataframe.\n",
    "    Input: dataframe, columns to apply function to, function\n",
    "    Return: updated dataframe\n",
    "    \"\"\"\n",
    "    for column in column_names:\n",
    "        df[column] = df[column].apply(lambda x: function(x))\n",
    "    return df"
   ]
  },
  {
   "cell_type": "code",
   "execution_count": 11,
   "metadata": {
    "ExecuteTime": {
     "end_time": "2019-02-17T09:26:50.028588Z",
     "start_time": "2019-02-17T09:26:50.024382Z"
    }
   },
   "outputs": [],
   "source": [
    "# Noted columns with percentage information are formated as strings, \n",
    "# and need to convert to float\n",
    "\n",
    "def percent2float(string):\n",
    "    \"\"\"\n",
    "    Convert strings with percentage sign to float\n",
    "    \"\"\"\n",
    "    percentage = float(str(string).strip('%'))/100.0\n",
    "    return percentage"
   ]
  },
  {
   "cell_type": "code",
   "execution_count": 12,
   "metadata": {
    "ExecuteTime": {
     "end_time": "2019-02-17T09:26:54.079941Z",
     "start_time": "2019-02-17T09:26:54.070689Z"
    }
   },
   "outputs": [
    {
     "name": "stdout",
     "output_type": "stream",
     "text": [
      "<class 'str'>\n"
     ]
    },
    {
     "data": {
      "text/plain": [
       "sf  0     92%\n",
       "    1    100%\n",
       "    2    100%\n",
       "    3    100%\n",
       "    4    100%\n",
       "Name: host_response_rate, dtype: object"
      ]
     },
     "execution_count": 12,
     "metadata": {},
     "output_type": "execute_result"
    }
   ],
   "source": [
    "print ('Type: ', type(df_listings_smaller.host_response_rate[0]))\n",
    "df_listings_smaller.host_response_rate[0:5]"
   ]
  },
  {
   "cell_type": "code",
   "execution_count": 13,
   "metadata": {
    "ExecuteTime": {
     "end_time": "2019-02-17T09:27:16.297222Z",
     "start_time": "2019-02-17T09:27:16.213677Z"
    }
   },
   "outputs": [],
   "source": [
    "# Converted percentage features to float\n",
    "\n",
    "columns = ['host_response_rate']\n",
    "\n",
    "df_listings_smaller = apply2df(df_listings_smaller, columns, percent2float)"
   ]
  },
  {
   "cell_type": "code",
   "execution_count": 14,
   "metadata": {
    "ExecuteTime": {
     "end_time": "2019-02-17T09:27:24.366752Z",
     "start_time": "2019-02-17T09:27:24.358920Z"
    }
   },
   "outputs": [
    {
     "data": {
      "text/plain": [
       "sf  0    0.92\n",
       "    1    1.00\n",
       "    2    1.00\n",
       "    3    1.00\n",
       "    4    1.00\n",
       "Name: host_response_rate, dtype: float64"
      ]
     },
     "execution_count": 14,
     "metadata": {},
     "output_type": "execute_result"
    }
   ],
   "source": [
    "df_listings_smaller.host_response_rate[0:5]"
   ]
  },
  {
   "cell_type": "markdown",
   "metadata": {
    "ExecuteTime": {
     "end_time": "2019-02-17T08:53:41.153251Z",
     "start_time": "2019-02-17T08:53:41.150357Z"
    }
   },
   "source": [
    "### Currency"
   ]
  },
  {
   "cell_type": "code",
   "execution_count": 15,
   "metadata": {
    "ExecuteTime": {
     "end_time": "2019-02-17T09:27:45.184411Z",
     "start_time": "2019-02-17T09:27:45.180444Z"
    }
   },
   "outputs": [],
   "source": [
    "# Noted columns with currency information are formated as strings, \n",
    "# and need to convert to float\n",
    "\n",
    "def currency2float(string):\n",
    "    \"\"\"\n",
    "    Convert currency to float\n",
    "    \"\"\"\n",
    "    string = str(string).strip(' ').replace(' \\\\n', '')\n",
    "    float_ = float(string.strip('$').replace(',',''))\n",
    "    return float_"
   ]
  },
  {
   "cell_type": "code",
   "execution_count": 19,
   "metadata": {
    "ExecuteTime": {
     "end_time": "2019-02-17T09:31:19.384991Z",
     "start_time": "2019-02-17T09:31:19.364323Z"
    }
   },
   "outputs": [
    {
     "name": "stdout",
     "output_type": "stream",
     "text": [
      "Type of price:  <class 'str'>\n"
     ]
    },
    {
     "data": {
      "text/plain": [
       "sf  0    $170.00 \n",
       "    1    $235.00 \n",
       "    2     $65.00 \n",
       "    3     $65.00 \n",
       "    4    $675.00 \n",
       "Name: price, dtype: object"
      ]
     },
     "metadata": {},
     "output_type": "display_data"
    },
    {
     "name": "stdout",
     "output_type": "stream",
     "text": [
      "Type of security deposit:  <class 'str'>\n"
     ]
    },
    {
     "data": {
      "text/plain": [
       "sf  0    $100.00 \n",
       "    1         NaN\n",
       "    2    $200.00 \n",
       "    3    $200.00 \n",
       "    4      $0.00 \n",
       "Name: security_deposit, dtype: object"
      ]
     },
     "metadata": {},
     "output_type": "display_data"
    },
    {
     "name": "stdout",
     "output_type": "stream",
     "text": [
      "Type of security deposit:  <class 'str'>\n"
     ]
    },
    {
     "data": {
      "text/plain": [
       "sf  0    $100.00 \n",
       "    1    $100.00 \n",
       "    2     $50.00 \n",
       "    3     $50.00 \n",
       "    4    $225.00 \n",
       "Name: cleaning_fee, dtype: object"
      ]
     },
     "metadata": {},
     "output_type": "display_data"
    }
   ],
   "source": [
    "print ('Type of price: ', type(df_listings_smaller.price[0]))\n",
    "display (df_listings_smaller.price[0:5])\n",
    "\n",
    "print ('Type of security deposit: ', type(df_listings_smaller.security_deposit[0]))\n",
    "display(df_listings_smaller.security_deposit[0:5])\n",
    "\n",
    "print ('Type of security deposit: ', type(df_listings_smaller.cleaning_fee[0]))\n",
    "display(df_listings_smaller.cleaning_fee[0:5])"
   ]
  },
  {
   "cell_type": "code",
   "execution_count": 20,
   "metadata": {
    "ExecuteTime": {
     "end_time": "2019-02-17T09:32:23.035279Z",
     "start_time": "2019-02-17T09:32:22.790107Z"
    }
   },
   "outputs": [],
   "source": [
    "# Converted currency features to float\n",
    "\n",
    "columns = ['price', 'security_deposit', 'cleaning_fee']\n",
    "\n",
    "df_listings_smaller = apply2df(df_listings_smaller, columns, currency2float)"
   ]
  },
  {
   "cell_type": "markdown",
   "metadata": {},
   "source": [
    "### Timestamp"
   ]
  },
  {
   "cell_type": "code",
   "execution_count": 21,
   "metadata": {
    "ExecuteTime": {
     "end_time": "2019-02-17T09:33:56.656106Z",
     "start_time": "2019-02-17T09:33:56.652347Z"
    }
   },
   "outputs": [],
   "source": [
    "# This is to convert timestamp features to duration\n",
    "# Duration is calculated by: \n",
    "# number of years between original timestamp and current year\n",
    "\n",
    "def duration(starting_time):\n",
    "    \"\"\"\n",
    "    Calculate duration or number of years between current year and starting_time\n",
    "    \"\"\"\n",
    "    starting_year = starting_time.year\n",
    "    current_year = datetime.now().year\n",
    "    duration = current_year - starting_year + 1\n",
    "    \n",
    "    return duration"
   ]
  },
  {
   "cell_type": "code",
   "execution_count": 22,
   "metadata": {
    "ExecuteTime": {
     "end_time": "2019-02-17T09:35:52.533863Z",
     "start_time": "2019-02-17T09:35:52.270329Z"
    }
   },
   "outputs": [],
   "source": [
    "# Converted timestamp features to duration\n",
    "\n",
    "columns = ['host_since', 'first_review']\n",
    "\n",
    "df_listings_smaller = apply2df(df_listings_smaller, columns, duration)"
   ]
  },
  {
   "cell_type": "code",
   "execution_count": 23,
   "metadata": {
    "ExecuteTime": {
     "end_time": "2019-02-17T09:37:51.519667Z",
     "start_time": "2019-02-17T09:37:51.436326Z"
    }
   },
   "outputs": [],
   "source": [
    "mapper = {'host_since' : 'host_yrs', 'first_review': 'yrs_since_1st_review'}\n",
    "\n",
    "df_listings_smaller.rename(columns=mapper, inplace=True)"
   ]
  },
  {
   "cell_type": "code",
   "execution_count": 25,
   "metadata": {
    "ExecuteTime": {
     "end_time": "2019-02-17T09:38:25.428710Z",
     "start_time": "2019-02-17T09:38:25.422073Z"
    }
   },
   "outputs": [
    {
     "data": {
      "text/plain": [
       "Index(['id', 'host_yrs', 'host_response_time', 'host_response_rate',\n",
       "       'host_is_superhost', 'host_listings_count', 'host_total_listings_count',\n",
       "       'host_has_profile_pic', 'host_identity_verified',\n",
       "       'neighbourhood_cleansed', 'city', 'is_location_exact', 'property_type',\n",
       "       'room_type', 'accommodates', 'bathrooms', 'bedrooms', 'beds',\n",
       "       'bed_type', 'amenities', 'price', 'security_deposit', 'cleaning_fee',\n",
       "       'guests_included', 'minimum_nights', 'number_of_reviews',\n",
       "       'yrs_since_1st_review', 'review_scores_rating',\n",
       "       'review_scores_accuracy', 'review_scores_cleanliness',\n",
       "       'review_scores_checkin', 'review_scores_communication',\n",
       "       'review_scores_location', 'review_scores_value', 'jurisdiction_names',\n",
       "       'instant_bookable', 'is_business_travel_ready', 'cancellation_policy',\n",
       "       'require_guest_profile_picture', 'require_guest_phone_verification',\n",
       "       'calculated_host_listings_count', 'reviews_per_month', 'district'],\n",
       "      dtype='object')"
      ]
     },
     "execution_count": 25,
     "metadata": {},
     "output_type": "execute_result"
    }
   ],
   "source": [
    "df_listings_smaller.columns"
   ]
  },
  {
   "cell_type": "markdown",
   "metadata": {
    "ExecuteTime": {
     "end_time": "2019-02-17T07:25:29.888261Z",
     "start_time": "2019-02-17T07:25:29.885574Z"
    }
   },
   "source": [
    "## Remove Outliers"
   ]
  },
  {
   "cell_type": "code",
   "execution_count": 26,
   "metadata": {
    "ExecuteTime": {
     "end_time": "2019-02-17T09:38:56.695469Z",
     "start_time": "2019-02-17T09:38:56.681068Z"
    }
   },
   "outputs": [
    {
     "data": {
      "text/plain": [
       "count    16769.000000\n",
       "mean       188.023555\n",
       "std        274.564274\n",
       "min          0.000000\n",
       "5%          41.000000\n",
       "10%         52.000000\n",
       "25%         79.000000\n",
       "50%        125.000000\n",
       "75%        201.000000\n",
       "90%        350.000000\n",
       "95%        499.000000\n",
       "max      10000.000000\n",
       "Name: price, dtype: float64"
      ]
     },
     "execution_count": 26,
     "metadata": {},
     "output_type": "execute_result"
    }
   ],
   "source": [
    "df_listings_smaller.price.describe(percentiles=[.05, .10, .25, .50, .75, .90, .95])"
   ]
  },
  {
   "cell_type": "code",
   "execution_count": 34,
   "metadata": {
    "ExecuteTime": {
     "end_time": "2019-02-17T09:41:07.979355Z",
     "start_time": "2019-02-17T09:41:07.965378Z"
    }
   },
   "outputs": [
    {
     "data": {
      "text/plain": [
       "(11248, 43)"
      ]
     },
     "metadata": {},
     "output_type": "display_data"
    }
   ],
   "source": [
    "# Removed outliers. Kept values between 5% and 95% percentiles\n",
    "\n",
    "five_percentitle = np.percentile(df_listings_smaller['price'], 5)\n",
    "ninety_five_percentitle = np.percentile(df_listings_smaller['price'], 95)\n",
    "\n",
    "df_listings_smaller = df_listings_smaller[\n",
    "                     (df_listings_smaller['price']<=ninety_five_percentitle) \n",
    "                      & (df_listings_smaller['price']>=five_percentitle)]\n",
    "\n",
    "display(df_listings_smaller.shape)"
   ]
  },
  {
   "cell_type": "code",
   "execution_count": 35,
   "metadata": {
    "ExecuteTime": {
     "end_time": "2019-02-17T09:41:12.118567Z",
     "start_time": "2019-02-17T09:41:11.943429Z"
    }
   },
   "outputs": [
    {
     "data": {
      "text/plain": [
       "<matplotlib.axes._subplots.AxesSubplot at 0x1c22ab16a0>"
      ]
     },
     "execution_count": 35,
     "metadata": {},
     "output_type": "execute_result"
    },
    {
     "data": {
      "image/png": "[encoded data removed]",
      "text/plain": [
       "<Figure size 576x396 with 1 Axes>"
      ]
     },
     "metadata": {},
     "output_type": "display_data"
    }
   ],
   "source": [
    "df_listings_smaller.price.hist()"
   ]
  },
  {
   "cell_type": "markdown",
   "metadata": {},
   "source": [
    "## Handle null values"
   ]
  },
  {
   "cell_type": "code",
   "execution_count": 37,
   "metadata": {
    "ExecuteTime": {
     "end_time": "2019-02-17T09:47:41.224902Z",
     "start_time": "2019-02-17T09:47:41.201953Z"
    }
   },
   "outputs": [
    {
     "data": {
      "text/plain": [
       "id                                     0\n",
       "host_yrs                               0\n",
       "host_response_time                  1312\n",
       "host_response_rate                  1312\n",
       "host_is_superhost                      0\n",
       "host_listings_count                    0\n",
       "host_total_listings_count              0\n",
       "host_has_profile_pic                   0\n",
       "host_identity_verified                 0\n",
       "neighbourhood_cleansed                 0\n",
       "city                                  12\n",
       "is_location_exact                      0\n",
       "property_type                          0\n",
       "room_type                              0\n",
       "accommodates                           0\n",
       "bathrooms                             14\n",
       "bedrooms                               3\n",
       "beds                                   7\n",
       "bed_type                               0\n",
       "amenities                              0\n",
       "price                                  0\n",
       "security_deposit                    2744\n",
       "cleaning_fee                        1487\n",
       "guests_included                        0\n",
       "minimum_nights                         0\n",
       "number_of_reviews                      0\n",
       "yrs_since_1st_review                1811\n",
       "review_scores_rating                1888\n",
       "review_scores_accuracy              1894\n",
       "review_scores_cleanliness           1892\n",
       "review_scores_checkin               1900\n",
       "review_scores_communication         1893\n",
       "review_scores_location              1897\n",
       "review_scores_value                 1898\n",
       "jurisdiction_names                  1319\n",
       "instant_bookable                       0\n",
       "is_business_travel_ready               0\n",
       "cancellation_policy                    0\n",
       "require_guest_profile_picture          0\n",
       "require_guest_phone_verification       0\n",
       "calculated_host_listings_count         0\n",
       "reviews_per_month                   1811\n",
       "district                               0\n",
       "dtype: int64"
      ]
     },
     "execution_count": 37,
     "metadata": {},
     "output_type": "execute_result"
    }
   ],
   "source": [
    "# Check for null values\n",
    "\n",
    "df_listings_smaller.isnull().sum()"
   ]
  },
  {
   "cell_type": "code",
   "execution_count": 38,
   "metadata": {
    "ExecuteTime": {
     "end_time": "2019-02-17T09:47:51.227264Z",
     "start_time": "2019-02-17T09:47:51.111994Z"
    }
   },
   "outputs": [],
   "source": [
    "# Filled null values with average for security deposits and cleaning fee\n",
    "\n",
    "df_listings_smaller['security_deposit'].fillna(\n",
    "                    value=df_listings_smaller['security_deposit'].mean(),\n",
    "                    inplace=True)\n",
    "\n",
    "df_listings_smaller['cleaning_fee'].fillna(\n",
    "                    value=df_listings_smaller['cleaning_fee'].mean(),\n",
    "                    inplace=True)"
   ]
  },
  {
   "cell_type": "code",
   "execution_count": null,
   "metadata": {
    "ExecuteTime": {
     "end_time": "2019-02-12T03:27:59.639726Z",
     "start_time": "2019-02-12T03:27:59.627106Z"
    }
   },
   "outputs": [],
   "source": [
    "# Noted 'security deposit', 'minimum nights' can vary considerably among postings \n",
    "# Converted them to boolean variables\n",
    "\n",
    "df_listings_smaller['security_deposit'] = (df_listings_smaller['security_deposit']>0) \\\n",
    "                                          .astype(int)\n",
    "\n",
    "df_listings_smaller['minimum_nights'] = (df_listings_smaller['minimum_nights']>1)  \\\n",
    "                                        .astype(int)"
   ]
  },
  {
   "cell_type": "code",
   "execution_count": 39,
   "metadata": {
    "ExecuteTime": {
     "end_time": "2019-02-17T09:48:40.454076Z",
     "start_time": "2019-02-17T09:48:40.430820Z"
    }
   },
   "outputs": [
    {
     "data": {
      "text/plain": [
       "id                                     0\n",
       "host_yrs                               0\n",
       "host_response_time                  1312\n",
       "host_response_rate                  1312\n",
       "host_is_superhost                      0\n",
       "host_listings_count                    0\n",
       "host_total_listings_count              0\n",
       "host_has_profile_pic                   0\n",
       "host_identity_verified                 0\n",
       "neighbourhood_cleansed                 0\n",
       "city                                  12\n",
       "is_location_exact                      0\n",
       "property_type                          0\n",
       "room_type                              0\n",
       "accommodates                           0\n",
       "bathrooms                             14\n",
       "bedrooms                               3\n",
       "beds                                   7\n",
       "bed_type                               0\n",
       "amenities                              0\n",
       "price                                  0\n",
       "security_deposit                       0\n",
       "cleaning_fee                           0\n",
       "guests_included                        0\n",
       "minimum_nights                         0\n",
       "number_of_reviews                      0\n",
       "yrs_since_1st_review                1811\n",
       "review_scores_rating                1888\n",
       "review_scores_accuracy              1894\n",
       "review_scores_cleanliness           1892\n",
       "review_scores_checkin               1900\n",
       "review_scores_communication         1893\n",
       "review_scores_location              1897\n",
       "review_scores_value                 1898\n",
       "jurisdiction_names                  1319\n",
       "instant_bookable                       0\n",
       "is_business_travel_ready               0\n",
       "cancellation_policy                    0\n",
       "require_guest_profile_picture          0\n",
       "require_guest_phone_verification       0\n",
       "calculated_host_listings_count         0\n",
       "reviews_per_month                   1811\n",
       "district                               0\n",
       "dtype: int64"
      ]
     },
     "execution_count": 39,
     "metadata": {},
     "output_type": "execute_result"
    }
   ],
   "source": [
    "df_listings_smaller.isnull().sum()"
   ]
  },
  {
   "cell_type": "code",
   "execution_count": 43,
   "metadata": {
    "ExecuteTime": {
     "end_time": "2019-02-17T09:51:14.190896Z",
     "start_time": "2019-02-17T09:51:14.146257Z"
    }
   },
   "outputs": [
    {
     "data": {
      "text/plain": [
       "'Dimensions after dropping null values: '"
      ]
     },
     "metadata": {},
     "output_type": "display_data"
    },
    {
     "data": {
      "text/plain": [
       "(7559, 43)"
      ]
     },
     "metadata": {},
     "output_type": "display_data"
    },
    {
     "data": {
      "text/plain": [
       "id                                  0\n",
       "host_yrs                            0\n",
       "host_response_time                  0\n",
       "host_response_rate                  0\n",
       "host_is_superhost                   0\n",
       "host_listings_count                 0\n",
       "host_total_listings_count           0\n",
       "host_has_profile_pic                0\n",
       "host_identity_verified              0\n",
       "neighbourhood_cleansed              0\n",
       "city                                0\n",
       "is_location_exact                   0\n",
       "property_type                       0\n",
       "room_type                           0\n",
       "accommodates                        0\n",
       "bathrooms                           0\n",
       "bedrooms                            0\n",
       "beds                                0\n",
       "bed_type                            0\n",
       "amenities                           0\n",
       "price                               0\n",
       "security_deposit                    0\n",
       "cleaning_fee                        0\n",
       "guests_included                     0\n",
       "minimum_nights                      0\n",
       "number_of_reviews                   0\n",
       "yrs_since_1st_review                0\n",
       "review_scores_rating                0\n",
       "review_scores_accuracy              0\n",
       "review_scores_cleanliness           0\n",
       "review_scores_checkin               0\n",
       "review_scores_communication         0\n",
       "review_scores_location              0\n",
       "review_scores_value                 0\n",
       "jurisdiction_names                  0\n",
       "instant_bookable                    0\n",
       "is_business_travel_ready            0\n",
       "cancellation_policy                 0\n",
       "require_guest_profile_picture       0\n",
       "require_guest_phone_verification    0\n",
       "calculated_host_listings_count      0\n",
       "reviews_per_month                   0\n",
       "district                            0\n",
       "dtype: int64"
      ]
     },
     "execution_count": 43,
     "metadata": {},
     "output_type": "execute_result"
    }
   ],
   "source": [
    "# Dropped remaining null values\n",
    "\n",
    "df_listings_clean = df_listings_smaller.dropna()\n",
    "\n",
    "display('Dimensions after dropping null values: ', df_listings_clean.shape)\n",
    "df_listings_clean.isnull().sum()"
   ]
  },
  {
   "cell_type": "code",
   "execution_count": 41,
   "metadata": {
    "ExecuteTime": {
     "end_time": "2019-02-17T09:49:08.317379Z",
     "start_time": "2019-02-17T09:49:08.310346Z"
    }
   },
   "outputs": [
    {
     "data": {
      "text/plain": [
       "Index(['id', 'host_yrs', 'host_response_time', 'host_response_rate',\n",
       "       'host_is_superhost', 'host_listings_count', 'host_total_listings_count',\n",
       "       'host_has_profile_pic', 'host_identity_verified',\n",
       "       'neighbourhood_cleansed', 'city', 'is_location_exact', 'property_type',\n",
       "       'room_type', 'accommodates', 'bathrooms', 'bedrooms', 'beds',\n",
       "       'bed_type', 'amenities', 'price', 'security_deposit', 'cleaning_fee',\n",
       "       'guests_included', 'minimum_nights', 'number_of_reviews',\n",
       "       'yrs_since_1st_review', 'review_scores_rating',\n",
       "       'review_scores_accuracy', 'review_scores_cleanliness',\n",
       "       'review_scores_checkin', 'review_scores_communication',\n",
       "       'review_scores_location', 'review_scores_value', 'jurisdiction_names',\n",
       "       'instant_bookable', 'is_business_travel_ready', 'cancellation_policy',\n",
       "       'require_guest_profile_picture', 'require_guest_phone_verification',\n",
       "       'calculated_host_listings_count', 'reviews_per_month', 'district'],\n",
       "      dtype='object')"
      ]
     },
     "execution_count": 41,
     "metadata": {},
     "output_type": "execute_result"
    }
   ],
   "source": [
    "df_listings_cleaned.columns"
   ]
  },
  {
   "cell_type": "code",
   "execution_count": 44,
   "metadata": {
    "ExecuteTime": {
     "end_time": "2019-02-17T09:51:19.913002Z",
     "start_time": "2019-02-17T09:51:19.907746Z"
    }
   },
   "outputs": [],
   "source": [
    "# Created a separate dataframe to keep track of juristiction info\n",
    "# The df will be used in later stage\n",
    "\n",
    "df_jur = df_listings_clean.loc[:, ['id', 'jurisdiction_names']]"
   ]
  },
  {
   "cell_type": "markdown",
   "metadata": {
    "ExecuteTime": {
     "end_time": "2019-02-17T07:30:53.891861Z",
     "start_time": "2019-02-17T07:30:53.889164Z"
    }
   },
   "source": [
    "## Handle categorical data"
   ]
  },
  {
   "cell_type": "markdown",
   "metadata": {},
   "source": [
    "## Convert list of amenities to features"
   ]
  },
  {
   "cell_type": "code",
   "execution_count": null,
   "metadata": {
    "ExecuteTime": {
     "end_time": "2019-02-12T03:24:13.950524Z",
     "start_time": "2019-02-12T03:24:13.590714Z"
    }
   },
   "outputs": [],
   "source": [
    "# Removed special characters within Amenities\n",
    "\n",
    "df_listings_smaller['jurisdiction_names'] = df_listings_smaller['jurisdiction_names'].str.replace('[^\\w\\s,]', '')\n",
    "df_listings_smaller['amenities'] = df_listings_smaller['amenities'].str.replace('[^\\w\\s,]', '')"
   ]
  },
  {
   "cell_type": "code",
   "execution_count": null,
   "metadata": {
    "ExecuteTime": {
     "end_time": "2019-02-12T03:24:48.248034Z",
     "start_time": "2019-02-12T03:24:38.089304Z"
    }
   },
   "outputs": [],
   "source": [
    "# Converted list of amenities to a dataframe\n",
    "\n",
    "display ('Original list of amenities: ', df_listings_smaller.amenities.head())\n",
    "\n",
    "df_amenities = df_listings_smaller  \\\n",
    "               .amenities  \\\n",
    "               .str.get_dummies(sep = \",\")  \\\n",
    "               .add_prefix('amenities_')\n",
    "\n",
    "print('df_ammenities dimension: ', df_amenities.shape)\n",
    "display(df_amenities.head())"
   ]
  },
  {
   "cell_type": "code",
   "execution_count": null,
   "metadata": {
    "ExecuteTime": {
     "end_time": "2019-02-12T03:24:49.162842Z",
     "start_time": "2019-02-12T03:24:49.068922Z"
    }
   },
   "outputs": [],
   "source": [
    "# There are 100+ types of amenities. \n",
    "# This is to filter down to common owned amenities.\n",
    "\n",
    "common_amenities = []\n",
    "\n",
    "for column in df_amenities.columns:\n",
    "    value = df_amenities[column].quantile(0.75)\n",
    "    if value > 0:\n",
    "        common_amenities.append(column)\n",
    "\n",
    "df_common_amenities = df_amenities[common_amenities]\n",
    "\n",
    "display (common_amenities)\n",
    "display (df_common_amenities.head())"
   ]
  },
  {
   "cell_type": "code",
   "execution_count": null,
   "metadata": {
    "ExecuteTime": {
     "end_time": "2019-02-12T03:24:55.695029Z",
     "start_time": "2019-02-12T03:24:55.621685Z"
    }
   },
   "outputs": [],
   "source": [
    "# Added common amenities dataframe to original dataframe\n",
    "# Drop original amenties columns, which is a list of amenities\n",
    "\n",
    "df_listings_refined = pd.concat([df_smaller_listings, df_common_amenities], axis=1)\n",
    "\n",
    "df_listings_refined.drop('amenities', axis=1, inplace=True)\n",
    "df_listings_refined.columns"
   ]
  },
  {
   "cell_type": "code",
   "execution_count": null,
   "metadata": {
    "ExecuteTime": {
     "end_time": "2019-02-12T03:29:43.791339Z",
     "start_time": "2019-02-12T03:29:43.705282Z"
    },
    "hidden": true
   },
   "outputs": [],
   "source": [
    "# Selected all non-numeric variables and converted to dummy varialbes\n",
    "\n",
    "categorical_variables = df_listings_cleaned.select_dtypes(include=['object']).columns\n",
    "df_model = pd.get_dummies(data=df_listings_cleaned,columns=categorical_variables)\n",
    "\n",
    "display(df_listings_cleaned[categorical_variables].head())\n",
    "print('Dimension after converted categorical features to dummy values: ', df_model.shape)"
   ]
  },
  {
   "cell_type": "markdown",
   "metadata": {
    "ExecuteTime": {
     "end_time": "2019-02-17T07:31:21.291326Z",
     "start_time": "2019-02-17T07:31:21.288223Z"
    }
   },
   "source": [
    "## Handle features with high correlation"
   ]
  },
  {
   "cell_type": "code",
   "execution_count": null,
   "metadata": {
    "ExecuteTime": {
     "end_time": "2019-02-12T03:30:34.581819Z",
     "start_time": "2019-02-12T03:30:32.477502Z"
    }
   },
   "outputs": [],
   "source": [
    "# Identified features with high correlations, and dropped accordingly\n",
    "\n",
    "# Created correlation matrix\n",
    "corr_matrix = df_model.corr().abs()\n",
    "\n",
    "# Selected upper triangle of correlation matrix\n",
    "upper = corr_matrix.where(np.triu(np.ones(corr_matrix.shape), k=1).astype(np.bool))\n",
    "\n",
    "# Identified index of feature columns with correlation greater than 0.90\n",
    "to_drop = [column for column in upper.columns if any(upper[column] > 0.90)]\n",
    "\n",
    "display (to_drop)\n",
    "\n",
    "# Dropped features with high corrleation \n",
    "df_model.drop(columns = to_drop, inplace = True)\n",
    "display('Dimension after drop high correlated fetures', df_model.shape)"
   ]
  },
  {
   "cell_type": "code",
   "execution_count": null,
   "metadata": {
    "ExecuteTime": {
     "end_time": "2019-02-10T07:01:45.476270Z",
     "start_time": "2019-02-10T07:01:45.450090Z"
    }
   },
   "outputs": [],
   "source": [
    "# Stored the complete set of features\n",
    "\n",
    "pkl_file = '/Users/xzhou/github/project_archives/files_airbnb/{}.pkl'\n",
    "\n",
    "pkl_file_name = pkl_file.format('all_listings')\n",
    "\n",
    "df_model.to_pickle(pkl_file_name)"
   ]
  },
  {
   "cell_type": "markdown",
   "metadata": {
    "ExecuteTime": {
     "end_time": "2019-02-17T07:31:56.178971Z",
     "start_time": "2019-02-17T07:31:56.176281Z"
    }
   },
   "source": [
    "# Modeling"
   ]
  },
  {
   "cell_type": "markdown",
   "metadata": {
    "ExecuteTime": {
     "end_time": "2019-02-17T07:32:32.978891Z",
     "start_time": "2019-02-17T07:32:32.975749Z"
    }
   },
   "source": [
    "## Feature normalization and train, test splits"
   ]
  },
  {
   "cell_type": "code",
   "execution_count": null,
   "metadata": {
    "ExecuteTime": {
     "end_time": "2019-02-12T03:31:05.988337Z",
     "start_time": "2019-02-12T03:31:05.976019Z"
    }
   },
   "outputs": [],
   "source": [
    "# Performed quick regression models to get a big picture of performance, \n",
    "# and prepare for feature slections\n",
    "\n",
    "X = df_model.drop(['id','price'], axis=1)\n",
    "y = df_model['price']"
   ]
  },
  {
   "cell_type": "code",
   "execution_count": null,
   "metadata": {
    "ExecuteTime": {
     "end_time": "2019-02-12T03:31:07.251309Z",
     "start_time": "2019-02-12T03:31:07.228119Z"
    }
   },
   "outputs": [],
   "source": [
    "X_train, X_test, y_train, y_test = train_test_split(X, y, test_size =0.3, random_state=42)"
   ]
  },
  {
   "cell_type": "code",
   "execution_count": null,
   "metadata": {
    "ExecuteTime": {
     "end_time": "2019-02-12T03:31:11.258267Z",
     "start_time": "2019-02-12T03:31:11.125131Z"
    }
   },
   "outputs": [],
   "source": [
    "# Normalize features \n",
    "\n",
    "ss = StandardScaler()\n",
    "X_train_trans = ss.fit_transform(X_train)\n",
    "X_test_trans = ss.transform (X_test)"
   ]
  },
  {
   "cell_type": "markdown",
   "metadata": {
    "ExecuteTime": {
     "end_time": "2019-02-17T07:32:54.344320Z",
     "start_time": "2019-02-17T07:32:54.340034Z"
    }
   },
   "source": [
    "## Linear Regression"
   ]
  },
  {
   "cell_type": "code",
   "execution_count": null,
   "metadata": {
    "ExecuteTime": {
     "end_time": "2019-02-12T03:31:13.587316Z",
     "start_time": "2019-02-12T03:31:12.628755Z"
    }
   },
   "outputs": [],
   "source": [
    "model = sm.OLS(y_train, sm.add_constant(X_train_trans))\n",
    "fit = model.fit()\n",
    "fit.summary()"
   ]
  },
  {
   "cell_type": "markdown",
   "metadata": {},
   "source": [
    "## Random Forest"
   ]
  },
  {
   "cell_type": "code",
   "execution_count": null,
   "metadata": {
    "ExecuteTime": {
     "end_time": "2019-02-12T03:31:48.355220Z",
     "start_time": "2019-02-12T03:31:18.013120Z"
    }
   },
   "outputs": [],
   "source": [
    "rf = RandomForestRegressor(n_estimators=500, \n",
    "                               criterion='mse', \n",
    "                               random_state=3, \n",
    "                               n_jobs=-1)\n",
    "rf.fit(X_train_trans, y_train)\n",
    "y_train_pred = rf.predict(X_train_trans)\n",
    "y_test_pred = rf.predict(X_test_trans)\n",
    "\n",
    "print('MSE train: %.3f, test: %.3f' % (\n",
    "        mean_squared_error(y_train, y_train_pred),\n",
    "        mean_squared_error(y_test, y_test_pred)))\n",
    "print('R^2 train: %.3f, test: %.3f' % (\n",
    "        r2_score(y_train, y_train_pred),\n",
    "        r2_score(y_test, y_test_pred)))"
   ]
  },
  {
   "cell_type": "markdown",
   "metadata": {},
   "source": [
    "## Feature selection"
   ]
  },
  {
   "cell_type": "code",
   "execution_count": null,
   "metadata": {
    "ExecuteTime": {
     "end_time": "2019-02-12T03:31:52.060764Z",
     "start_time": "2019-02-12T03:31:51.830848Z"
    }
   },
   "outputs": [],
   "source": [
    "# Sorted feature by importance\n",
    "\n",
    "feature_labels = X.columns\n",
    "feature_tuples = zip (feature_labels, rf.feature_importances_)\n",
    "feature_lists = [list(feature_tuple) for feature_tuple in feature_tuples]\n",
    "\n",
    "feature_lists.sort(key=lambda x: abs(x[1]), reverse=True)\n",
    "\n",
    "display (feature_lists)"
   ]
  },
  {
   "cell_type": "code",
   "execution_count": null,
   "metadata": {
    "ExecuteTime": {
     "end_time": "2019-02-12T03:33:33.322619Z",
     "start_time": "2019-02-12T03:33:33.312703Z"
    }
   },
   "outputs": [],
   "source": [
    "# Kept features that are above 0.001 thresold\n",
    "\n",
    "features_selected = [feature for feature, importance in feature_lists\n",
    "                    if importance >= 0.001]\n",
    "\n",
    "nums_features_selected = len(features_selected)\n",
    "\n",
    "print ('Number of features kept: ', nums_features_selected)\n",
    "display(feature_lists[0:nums_features_selected])"
   ]
  },
  {
   "cell_type": "markdown",
   "metadata": {},
   "source": [
    "## Random Forest with slected features"
   ]
  },
  {
   "cell_type": "code",
   "execution_count": null,
   "metadata": {
    "ExecuteTime": {
     "end_time": "2019-02-12T03:33:52.294691Z",
     "start_time": "2019-02-12T03:33:52.285913Z"
    }
   },
   "outputs": [],
   "source": [
    "# Perform another model(Random Forest) based on selected features\n",
    "\n",
    "X_updated = df_model[features_selected]\n",
    "y_updated = df_model['price']"
   ]
  },
  {
   "cell_type": "code",
   "execution_count": null,
   "metadata": {
    "ExecuteTime": {
     "end_time": "2019-02-12T03:33:53.704474Z",
     "start_time": "2019-02-12T03:33:53.692344Z"
    }
   },
   "outputs": [],
   "source": [
    "X_updated_train, X_updated_test, y_updated_train, y_updated_test = train_test_split(\n",
    "    X_updated, y_updated, test_size =0.3, random_state=42)"
   ]
  },
  {
   "cell_type": "code",
   "execution_count": null,
   "metadata": {
    "ExecuteTime": {
     "end_time": "2019-02-12T03:33:55.280036Z",
     "start_time": "2019-02-12T03:33:55.248962Z"
    }
   },
   "outputs": [],
   "source": [
    "ssX2 = StandardScaler()\n",
    "X_updated_train_trans = ssX2.fit_transform(X_updated_train)\n",
    "X_updated_test_trans = ssX2.transform (X_updated_test)"
   ]
  },
  {
   "cell_type": "code",
   "execution_count": null,
   "metadata": {
    "ExecuteTime": {
     "end_time": "2019-02-12T03:34:15.762208Z",
     "start_time": "2019-02-12T03:33:56.974380Z"
    }
   },
   "outputs": [],
   "source": [
    "rf_updated = RandomForestRegressor(n_estimators=500, \n",
    "                                   criterion='mse', \n",
    "                                   random_state=3, \n",
    "                                   n_jobs=-1)\n",
    "rf_updated.fit(X_updated_train_trans, y_updated_train)\n",
    "y_updated_train_pred = rf_updated.predict(X_updated_train_trans)\n",
    "y_updated_test_pred = rf_updated.predict(X_updated_test_trans)\n",
    "\n",
    "print('MSE train: %.3f, test: %.3f' % (\n",
    "        mean_squared_error(y_updated_train, y_updated_train_pred),\n",
    "        mean_squared_error(y_updated_test, y_updated_test_pred)))\n",
    "print('R^2 train: %.3f, test: %.3f' % (\n",
    "        r2_score(y_updated_train, y_updated_train_pred),\n",
    "        r2_score(y_updated_test, y_updated_test_pred)))"
   ]
  },
  {
   "cell_type": "code",
   "execution_count": null,
   "metadata": {
    "ExecuteTime": {
     "end_time": "2019-02-12T03:34:31.454343Z",
     "start_time": "2019-02-12T03:34:31.423415Z"
    }
   },
   "outputs": [],
   "source": [
    "# Kept 'id', and all selected features\n",
    "\n",
    "columns =['id'] + features_selected\n",
    "df_listings_top_features = df_model[columns]\n",
    "df_listings_top_features.head()"
   ]
  },
  {
   "cell_type": "code",
   "execution_count": null,
   "metadata": {
    "ExecuteTime": {
     "end_time": "2019-02-12T03:34:33.458696Z",
     "start_time": "2019-02-12T03:34:33.288593Z"
    }
   },
   "outputs": [],
   "source": [
    "# Added District and jurisdiction informaiton for future use\n",
    "\n",
    "df_listings_top_features = pd.merge(left=df_listings_top_features, \n",
    "                                    right=df_district, \n",
    "                                    how ='left', \n",
    "                                    left_on='id',\n",
    "                                    right_on='id')\n",
    "\n",
    "\n",
    "df_listings_top_features = pd.merge(left=df_listings_top_features, \n",
    "                                    right=df_jurisdiction, \n",
    "                                    how ='left', \n",
    "                                    left_on='id',\n",
    "                                    right_on='id')\n",
    "\n",
    "\n",
    "# Renamed columns used for furture reference to avoid confusion\n",
    "\n",
    "df_listings_top_features.rename(columns={'district':'ref_district',\n",
    "                                        'jurisdiction_names': 'ref_jurisdiction'},\n",
    "                               inplace=True)\n",
    "df_listings_top_features"
   ]
  },
  {
   "cell_type": "code",
   "execution_count": null,
   "metadata": {
    "ExecuteTime": {
     "end_time": "2019-02-12T03:35:29.148845Z",
     "start_time": "2019-02-12T03:35:29.121644Z"
    }
   },
   "outputs": [],
   "source": [
    "# Checked for null values before data storage\n",
    "\n",
    "df_listings_top_features.isnull().sum()"
   ]
  },
  {
   "cell_type": "markdown",
   "metadata": {
    "ExecuteTime": {
     "end_time": "2019-02-17T07:34:35.723451Z",
     "start_time": "2019-02-17T07:34:35.720778Z"
    }
   },
   "source": [
    "# Data storage"
   ]
  },
  {
   "cell_type": "code",
   "execution_count": null,
   "metadata": {
    "ExecuteTime": {
     "end_time": "2019-02-12T03:35:32.284332Z",
     "start_time": "2019-02-12T03:35:32.255900Z"
    }
   },
   "outputs": [],
   "source": [
    "# Stored data post feature selection\n",
    "\n",
    "pkl_file = '/Users/xzhou/github/project_archives/files_airbnb/{}.pkl'\n",
    "\n",
    "pkl_path = pkl_file.format('listings_post_feature_selection')\n",
    "\n",
    "df_listings_top_features.to_pickle(pkl_path)"
   ]
  }
 ],
 "metadata": {
  "kernelspec": {
   "display_name": "Python 3",
   "language": "python",
   "name": "python3"
  },
  "language_info": {
   "codemirror_mode": {
    "name": "ipython",
    "version": 3
   },
   "file_extension": ".py",
   "mimetype": "text/x-python",
   "name": "python",
   "nbconvert_exporter": "python",
   "pygments_lexer": "ipython3",
   "version": "3.6.6"
  },
  "toc": {
   "base_numbering": 1,
   "nav_menu": {},
   "number_sections": true,
   "sideBar": true,
   "skip_h1_title": false,
   "title_cell": "Table of Contents",
   "title_sidebar": "Contents",
   "toc_cell": false,
   "toc_position": {
    "height": "946px",
    "left": "568px",
    "top": "199px",
    "width": "386px"
   },
   "toc_section_display": true,
   "toc_window_display": true
  },
  "varInspector": {
   "cols": {
    "lenName": 16,
    "lenType": 16,
    "lenVar": 40
   },
   "kernels_config": {
    "python": {
     "delete_cmd_postfix": "",
     "delete_cmd_prefix": "del ",
     "library": "var_list.py",
     "varRefreshCmd": "print(var_dic_list())"
    },
    "r": {
     "delete_cmd_postfix": ") ",
     "delete_cmd_prefix": "rm(",
     "library": "var_list.r",
     "varRefreshCmd": "cat(var_dic_list()) "
    }
   },
   "types_to_exclude": [
    "module",
    "function",
    "builtin_function_or_method",
    "instance",
    "_Feature"
   ],
   "window_display": false
  }
 },
 "nbformat": 4,
 "nbformat_minor": 2
}
