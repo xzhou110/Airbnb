{
 "cells": [
  {
   "cell_type": "code",
   "execution_count": 1,
   "metadata": {
    "ExecuteTime": {
     "end_time": "2018-09-13T18:44:17.720255Z",
     "start_time": "2018-09-13T18:44:15.412254Z"
    }
   },
   "outputs": [],
   "source": [
    "import pandas as pd\n",
    "import csv\n",
    "import statsmodels.api as sm\n",
    "from datetime import datetime\n",
    "import matplotlib.pyplot as plt\n",
    "import numpy as np\n",
    "from sklearn import datasets, linear_model\n",
    "from sklearn.metrics import mean_squared_error, r2_score\n",
    "from sklearn.preprocessing import StandardScaler\n",
    "from sklearn.model_selection import train_test_split"
   ]
  },
  {
   "cell_type": "code",
   "execution_count": 2,
   "metadata": {
    "ExecuteTime": {
     "end_time": "2018-09-13T18:44:17.730084Z",
     "start_time": "2018-09-13T18:44:17.722864Z"
    }
   },
   "outputs": [],
   "source": [
    "file_url = '/Users/xzhou/github/project_archives/files_airbnb/ok_airbnb/{}.csv'\n",
    "\n",
    "listings_file = file_url.format('listings_details')\n",
    "reviews_file = file_url.format('reviews_details')\n",
    "calendar_file = file_url.format('calendar_details')"
   ]
  },
  {
   "cell_type": "code",
   "execution_count": 3,
   "metadata": {
    "ExecuteTime": {
     "end_time": "2018-09-13T18:44:18.024292Z",
     "start_time": "2018-09-13T18:44:17.734412Z"
    }
   },
   "outputs": [],
   "source": [
    "listings = pd.read_csv(listings_file, parse_dates=['last_scraped','host_since', 'first_review', 'last_review'])"
   ]
  },
  {
   "cell_type": "code",
   "execution_count": 4,
   "metadata": {
    "ExecuteTime": {
     "end_time": "2018-09-13T18:44:18.038274Z",
     "start_time": "2018-09-13T18:44:18.026569Z"
    }
   },
   "outputs": [
    {
     "data": {
      "text/plain": [
       "array(['id', 'listing_url', 'scrape_id', 'last_scraped', 'name',\n",
       "       'summary', 'space', 'description', 'experiences_offered',\n",
       "       'neighborhood_overview', 'notes', 'transit', 'access',\n",
       "       'interaction', 'house_rules', 'thumbnail_url', 'medium_url',\n",
       "       'picture_url', 'xl_picture_url', 'host_id', 'host_url',\n",
       "       'host_name', 'host_since', 'host_location', 'host_about',\n",
       "       'host_response_time', 'host_response_rate', 'host_acceptance_rate',\n",
       "       'host_is_superhost', 'host_thumbnail_url', 'host_picture_url',\n",
       "       'host_neighbourhood', 'host_listings_count',\n",
       "       'host_total_listings_count', 'host_verifications',\n",
       "       'host_has_profile_pic', 'host_identity_verified', 'street',\n",
       "       'neighbourhood', 'neighbourhood_cleansed',\n",
       "       'neighbourhood_group_cleansed', 'city', 'state', 'zipcode',\n",
       "       'market', 'smart_location', 'country_code', 'country', 'latitude',\n",
       "       'longitude', 'is_location_exact', 'property_type', 'room_type',\n",
       "       'accommodates', 'bathrooms', 'bedrooms', 'beds', 'bed_type',\n",
       "       'amenities', 'square_feet', 'price', 'weekly_price',\n",
       "       'monthly_price', 'security_deposit', 'cleaning_fee',\n",
       "       'guests_included', 'extra_people', 'minimum_nights',\n",
       "       'maximum_nights', 'calendar_updated', 'has_availability',\n",
       "       'availability_30', 'availability_60', 'availability_90',\n",
       "       'availability_365', 'calendar_last_scraped', 'number_of_reviews',\n",
       "       'first_review', 'last_review', 'review_scores_rating',\n",
       "       'review_scores_accuracy', 'review_scores_cleanliness',\n",
       "       'review_scores_checkin', 'review_scores_communication',\n",
       "       'review_scores_location', 'review_scores_value',\n",
       "       'requires_license', 'license', 'jurisdiction_names',\n",
       "       'instant_bookable', 'is_business_travel_ready',\n",
       "       'cancellation_policy', 'require_guest_profile_picture',\n",
       "       'require_guest_phone_verification',\n",
       "       'calculated_host_listings_count', 'reviews_per_month'],\n",
       "      dtype=object)"
      ]
     },
     "execution_count": 4,
     "metadata": {},
     "output_type": "execute_result"
    }
   ],
   "source": [
    "listings.columns.values"
   ]
  },
  {
   "cell_type": "code",
   "execution_count": 5,
   "metadata": {
    "ExecuteTime": {
     "end_time": "2018-09-13T18:44:18.048530Z",
     "start_time": "2018-09-13T18:44:18.041610Z"
    }
   },
   "outputs": [],
   "source": [
    "df = listings[[\"host_response_rate\", \"host_acceptance_rate\", \"host_is_superhost\",\n",
    "               \"host_listings_count\", \"zipcode\", \"property_type\",\"room_type\", \"accommodates\", \"bathrooms\", \"bedrooms\", \n",
    "               \"beds\", \"price\", \"number_of_reviews\", \"review_scores_rating\", \"cancellation_policy\", \n",
    "               \"reviews_per_month\"]]"
   ]
  },
  {
   "cell_type": "code",
   "execution_count": 6,
   "metadata": {
    "ExecuteTime": {
     "end_time": "2018-09-13T18:44:18.090572Z",
     "start_time": "2018-09-13T18:44:18.051468Z"
    }
   },
   "outputs": [
    {
     "data": {
      "text/html": [
       "<div>\n",
       "<style scoped>\n",
       "    .dataframe tbody tr th:only-of-type {\n",
       "        vertical-align: middle;\n",
       "    }\n",
       "\n",
       "    .dataframe tbody tr th {\n",
       "        vertical-align: top;\n",
       "    }\n",
       "\n",
       "    .dataframe thead th {\n",
       "        text-align: right;\n",
       "    }\n",
       "</style>\n",
       "<table border=\"1\" class=\"dataframe\">\n",
       "  <thead>\n",
       "    <tr style=\"text-align: right;\">\n",
       "      <th></th>\n",
       "      <th>host_response_rate</th>\n",
       "      <th>host_acceptance_rate</th>\n",
       "      <th>host_is_superhost</th>\n",
       "      <th>host_listings_count</th>\n",
       "      <th>zipcode</th>\n",
       "      <th>property_type</th>\n",
       "      <th>room_type</th>\n",
       "      <th>accommodates</th>\n",
       "      <th>bathrooms</th>\n",
       "      <th>bedrooms</th>\n",
       "      <th>beds</th>\n",
       "      <th>price</th>\n",
       "      <th>number_of_reviews</th>\n",
       "      <th>review_scores_rating</th>\n",
       "      <th>cancellation_policy</th>\n",
       "      <th>reviews_per_month</th>\n",
       "    </tr>\n",
       "  </thead>\n",
       "  <tbody>\n",
       "    <tr>\n",
       "      <th>0</th>\n",
       "      <td>100%</td>\n",
       "      <td>NaN</td>\n",
       "      <td>f</td>\n",
       "      <td>6</td>\n",
       "      <td>94607.0</td>\n",
       "      <td>House</td>\n",
       "      <td>Private room</td>\n",
       "      <td>2</td>\n",
       "      <td>1.0</td>\n",
       "      <td>1.0</td>\n",
       "      <td>1.0</td>\n",
       "      <td>$65.00</td>\n",
       "      <td>25</td>\n",
       "      <td>91.0</td>\n",
       "      <td>strict_14_with_grace_period</td>\n",
       "      <td>0.51</td>\n",
       "    </tr>\n",
       "    <tr>\n",
       "      <th>1</th>\n",
       "      <td>92%</td>\n",
       "      <td>NaN</td>\n",
       "      <td>t</td>\n",
       "      <td>7</td>\n",
       "      <td>94609.0</td>\n",
       "      <td>House</td>\n",
       "      <td>Private room</td>\n",
       "      <td>1</td>\n",
       "      <td>1.0</td>\n",
       "      <td>1.0</td>\n",
       "      <td>1.0</td>\n",
       "      <td>$53.00</td>\n",
       "      <td>36</td>\n",
       "      <td>90.0</td>\n",
       "      <td>strict_14_with_grace_period</td>\n",
       "      <td>0.33</td>\n",
       "    </tr>\n",
       "    <tr>\n",
       "      <th>2</th>\n",
       "      <td>100%</td>\n",
       "      <td>NaN</td>\n",
       "      <td>t</td>\n",
       "      <td>1</td>\n",
       "      <td>94610.0</td>\n",
       "      <td>Guest suite</td>\n",
       "      <td>Entire home/apt</td>\n",
       "      <td>2</td>\n",
       "      <td>1.0</td>\n",
       "      <td>0.0</td>\n",
       "      <td>1.0</td>\n",
       "      <td>$100.00</td>\n",
       "      <td>193</td>\n",
       "      <td>99.0</td>\n",
       "      <td>moderate</td>\n",
       "      <td>1.74</td>\n",
       "    </tr>\n",
       "    <tr>\n",
       "      <th>3</th>\n",
       "      <td>100%</td>\n",
       "      <td>NaN</td>\n",
       "      <td>t</td>\n",
       "      <td>3</td>\n",
       "      <td>94618.0</td>\n",
       "      <td>Guest suite</td>\n",
       "      <td>Entire home/apt</td>\n",
       "      <td>3</td>\n",
       "      <td>1.0</td>\n",
       "      <td>1.0</td>\n",
       "      <td>1.0</td>\n",
       "      <td>$135.00</td>\n",
       "      <td>101</td>\n",
       "      <td>95.0</td>\n",
       "      <td>moderate</td>\n",
       "      <td>1.38</td>\n",
       "    </tr>\n",
       "    <tr>\n",
       "      <th>4</th>\n",
       "      <td>100%</td>\n",
       "      <td>NaN</td>\n",
       "      <td>f</td>\n",
       "      <td>1</td>\n",
       "      <td>94608.0</td>\n",
       "      <td>Bungalow</td>\n",
       "      <td>Private room</td>\n",
       "      <td>1</td>\n",
       "      <td>1.0</td>\n",
       "      <td>1.0</td>\n",
       "      <td>1.0</td>\n",
       "      <td>$70.00</td>\n",
       "      <td>51</td>\n",
       "      <td>94.0</td>\n",
       "      <td>moderate</td>\n",
       "      <td>0.51</td>\n",
       "    </tr>\n",
       "  </tbody>\n",
       "</table>\n",
       "</div>"
      ],
      "text/plain": [
       "  host_response_rate  host_acceptance_rate host_is_superhost  \\\n",
       "0               100%                   NaN                 f   \n",
       "1                92%                   NaN                 t   \n",
       "2               100%                   NaN                 t   \n",
       "3               100%                   NaN                 t   \n",
       "4               100%                   NaN                 f   \n",
       "\n",
       "   host_listings_count  zipcode property_type        room_type  accommodates  \\\n",
       "0                    6  94607.0         House     Private room             2   \n",
       "1                    7  94609.0         House     Private room             1   \n",
       "2                    1  94610.0   Guest suite  Entire home/apt             2   \n",
       "3                    3  94618.0   Guest suite  Entire home/apt             3   \n",
       "4                    1  94608.0      Bungalow     Private room             1   \n",
       "\n",
       "   bathrooms  bedrooms  beds    price  number_of_reviews  \\\n",
       "0        1.0       1.0   1.0   $65.00                 25   \n",
       "1        1.0       1.0   1.0   $53.00                 36   \n",
       "2        1.0       0.0   1.0  $100.00                193   \n",
       "3        1.0       1.0   1.0  $135.00                101   \n",
       "4        1.0       1.0   1.0   $70.00                 51   \n",
       "\n",
       "   review_scores_rating          cancellation_policy  reviews_per_month  \n",
       "0                  91.0  strict_14_with_grace_period               0.51  \n",
       "1                  90.0  strict_14_with_grace_period               0.33  \n",
       "2                  99.0                     moderate               1.74  \n",
       "3                  95.0                     moderate               1.38  \n",
       "4                  94.0                     moderate               0.51  "
      ]
     },
     "execution_count": 6,
     "metadata": {},
     "output_type": "execute_result"
    }
   ],
   "source": [
    "df.head()"
   ]
  },
  {
   "cell_type": "code",
   "execution_count": 7,
   "metadata": {
    "ExecuteTime": {
     "end_time": "2018-09-13T18:44:18.123316Z",
     "start_time": "2018-09-13T18:44:18.093824Z"
    }
   },
   "outputs": [
    {
     "data": {
      "text/plain": [
       "host_response_rate       26.846101\n",
       "host_acceptance_rate    100.000000\n",
       "host_is_superhost         0.000000\n",
       "host_listings_count       0.000000\n",
       "zipcode                   1.000690\n",
       "property_type             0.000000\n",
       "room_type                 0.000000\n",
       "accommodates              0.000000\n",
       "bathrooms                 0.138026\n",
       "bedrooms                  0.069013\n",
       "beds                      0.172533\n",
       "price                     0.000000\n",
       "number_of_reviews         0.000000\n",
       "review_scores_rating     18.564527\n",
       "cancellation_policy       0.000000\n",
       "reviews_per_month        17.391304\n",
       "dtype: float64"
      ]
     },
     "execution_count": 7,
     "metadata": {},
     "output_type": "execute_result"
    }
   ],
   "source": [
    "# % of NaN values\n",
    "(len(df)-df.count())/len(df)*100"
   ]
  },
  {
   "cell_type": "code",
   "execution_count": 8,
   "metadata": {
    "ExecuteTime": {
     "end_time": "2018-09-13T18:44:18.134498Z",
     "start_time": "2018-09-13T18:44:18.126942Z"
    }
   },
   "outputs": [],
   "source": [
    "df = df.drop(['host_acceptance_rate'], axis=1)"
   ]
  },
  {
   "cell_type": "code",
   "execution_count": 9,
   "metadata": {
    "ExecuteTime": {
     "end_time": "2018-09-13T18:44:18.148255Z",
     "start_time": "2018-09-13T18:44:18.137860Z"
    }
   },
   "outputs": [],
   "source": [
    "# drop NaN rows\n",
    "df2=df.dropna(axis=0)"
   ]
  },
  {
   "cell_type": "code",
   "execution_count": 10,
   "metadata": {
    "ExecuteTime": {
     "end_time": "2018-09-13T18:44:18.156656Z",
     "start_time": "2018-09-13T18:44:18.150597Z"
    }
   },
   "outputs": [
    {
     "data": {
      "text/plain": [
       "34.78260869565217"
      ]
     },
     "execution_count": 10,
     "metadata": {},
     "output_type": "execute_result"
    }
   ],
   "source": [
    "# % of rows droppped\n",
    "(len(df)-len(df2))/len(df)*100"
   ]
  },
  {
   "cell_type": "code",
   "execution_count": 11,
   "metadata": {
    "ExecuteTime": {
     "end_time": "2018-09-13T18:44:18.167616Z",
     "start_time": "2018-09-13T18:44:18.159970Z"
    }
   },
   "outputs": [
    {
     "data": {
      "text/plain": [
       "(1890, 15)"
      ]
     },
     "execution_count": 11,
     "metadata": {},
     "output_type": "execute_result"
    }
   ],
   "source": [
    "df2.shape"
   ]
  },
  {
   "cell_type": "code",
   "execution_count": 12,
   "metadata": {
    "ExecuteTime": {
     "end_time": "2018-09-13T18:44:18.177113Z",
     "start_time": "2018-09-13T18:44:18.170330Z"
    }
   },
   "outputs": [],
   "source": [
    "pd.options.mode.chained_assignment = None  # default='warn'\n",
    "\n",
    "df2['host_response_rate'] = df2['host_response_rate'].astype(str)\n",
    "df2['price'] = df2['price'].astype(str)"
   ]
  },
  {
   "cell_type": "code",
   "execution_count": 13,
   "metadata": {
    "ExecuteTime": {
     "end_time": "2018-09-13T18:44:18.193398Z",
     "start_time": "2018-09-13T18:44:18.181714Z"
    }
   },
   "outputs": [],
   "source": [
    "# clean data\n",
    "pd.options.mode.chained_assignment = None  # default='warn'\n",
    "\n",
    "df2['price'] = df2['price'].str.replace(\"[$, ]\", \"\").astype(\"float\")\n",
    "df2['host_response_rate'] = df2['host_response_rate'].str.replace(\"%\", \"\").astype(\"float\")"
   ]
  },
  {
   "cell_type": "code",
   "execution_count": 14,
   "metadata": {
    "ExecuteTime": {
     "end_time": "2018-09-13T18:44:18.204798Z",
     "start_time": "2018-09-13T18:44:18.198033Z"
    }
   },
   "outputs": [],
   "source": [
    "df2['superhost']=np.where(df2['host_is_superhost']=='t',1,0)\n",
    "del df2['host_is_superhost']"
   ]
  },
  {
   "cell_type": "code",
   "execution_count": 15,
   "metadata": {
    "ExecuteTime": {
     "end_time": "2018-09-13T18:44:18.228541Z",
     "start_time": "2018-09-13T18:44:18.207598Z"
    }
   },
   "outputs": [
    {
     "data": {
      "text/html": [
       "<div>\n",
       "<style scoped>\n",
       "    .dataframe tbody tr th:only-of-type {\n",
       "        vertical-align: middle;\n",
       "    }\n",
       "\n",
       "    .dataframe tbody tr th {\n",
       "        vertical-align: top;\n",
       "    }\n",
       "\n",
       "    .dataframe thead th {\n",
       "        text-align: right;\n",
       "    }\n",
       "</style>\n",
       "<table border=\"1\" class=\"dataframe\">\n",
       "  <thead>\n",
       "    <tr style=\"text-align: right;\">\n",
       "      <th></th>\n",
       "      <th>property_type</th>\n",
       "      <th>room_type</th>\n",
       "      <th>cancellation_policy</th>\n",
       "    </tr>\n",
       "  </thead>\n",
       "  <tbody>\n",
       "    <tr>\n",
       "      <th>0</th>\n",
       "      <td>House</td>\n",
       "      <td>Private room</td>\n",
       "      <td>strict_14_with_grace_period</td>\n",
       "    </tr>\n",
       "    <tr>\n",
       "      <th>1</th>\n",
       "      <td>House</td>\n",
       "      <td>Private room</td>\n",
       "      <td>strict_14_with_grace_period</td>\n",
       "    </tr>\n",
       "    <tr>\n",
       "      <th>2</th>\n",
       "      <td>Guest suite</td>\n",
       "      <td>Entire home/apt</td>\n",
       "      <td>moderate</td>\n",
       "    </tr>\n",
       "    <tr>\n",
       "      <th>3</th>\n",
       "      <td>Guest suite</td>\n",
       "      <td>Entire home/apt</td>\n",
       "      <td>moderate</td>\n",
       "    </tr>\n",
       "    <tr>\n",
       "      <th>4</th>\n",
       "      <td>Bungalow</td>\n",
       "      <td>Private room</td>\n",
       "      <td>moderate</td>\n",
       "    </tr>\n",
       "  </tbody>\n",
       "</table>\n",
       "</div>"
      ],
      "text/plain": [
       "  property_type        room_type          cancellation_policy\n",
       "0         House     Private room  strict_14_with_grace_period\n",
       "1         House     Private room  strict_14_with_grace_period\n",
       "2   Guest suite  Entire home/apt                     moderate\n",
       "3   Guest suite  Entire home/apt                     moderate\n",
       "4      Bungalow     Private room                     moderate"
      ]
     },
     "execution_count": 15,
     "metadata": {},
     "output_type": "execute_result"
    }
   ],
   "source": [
    "# select non-numeric variables and create dummies\n",
    "non_num_vars = df2.select_dtypes(include=['object']).columns\n",
    "df2[non_num_vars].head()"
   ]
  },
  {
   "cell_type": "code",
   "execution_count": 16,
   "metadata": {
    "ExecuteTime": {
     "end_time": "2018-09-13T18:44:18.247808Z",
     "start_time": "2018-09-13T18:44:18.233132Z"
    }
   },
   "outputs": [],
   "source": [
    "dummy_vars = pd.get_dummies(df2[non_num_vars])"
   ]
  },
  {
   "cell_type": "code",
   "execution_count": 17,
   "metadata": {
    "ExecuteTime": {
     "end_time": "2018-09-13T18:44:18.274388Z",
     "start_time": "2018-09-13T18:44:18.250798Z"
    }
   },
   "outputs": [
    {
     "data": {
      "text/html": [
       "<div>\n",
       "<style scoped>\n",
       "    .dataframe tbody tr th:only-of-type {\n",
       "        vertical-align: middle;\n",
       "    }\n",
       "\n",
       "    .dataframe tbody tr th {\n",
       "        vertical-align: top;\n",
       "    }\n",
       "\n",
       "    .dataframe thead th {\n",
       "        text-align: right;\n",
       "    }\n",
       "</style>\n",
       "<table border=\"1\" class=\"dataframe\">\n",
       "  <thead>\n",
       "    <tr style=\"text-align: right;\">\n",
       "      <th></th>\n",
       "      <th>property_type_Apartment</th>\n",
       "      <th>property_type_Barn</th>\n",
       "      <th>property_type_Bed and breakfast</th>\n",
       "      <th>property_type_Boat</th>\n",
       "      <th>property_type_Bungalow</th>\n",
       "      <th>property_type_Cabin</th>\n",
       "      <th>property_type_Camper/RV</th>\n",
       "      <th>property_type_Chalet</th>\n",
       "      <th>property_type_Condominium</th>\n",
       "      <th>property_type_Cottage</th>\n",
       "      <th>...</th>\n",
       "      <th>property_type_Tiny house</th>\n",
       "      <th>property_type_Townhouse</th>\n",
       "      <th>property_type_Villa</th>\n",
       "      <th>property_type_Yurt</th>\n",
       "      <th>room_type_Entire home/apt</th>\n",
       "      <th>room_type_Private room</th>\n",
       "      <th>room_type_Shared room</th>\n",
       "      <th>cancellation_policy_flexible</th>\n",
       "      <th>cancellation_policy_moderate</th>\n",
       "      <th>cancellation_policy_strict_14_with_grace_period</th>\n",
       "    </tr>\n",
       "  </thead>\n",
       "  <tbody>\n",
       "    <tr>\n",
       "      <th>0</th>\n",
       "      <td>0</td>\n",
       "      <td>0</td>\n",
       "      <td>0</td>\n",
       "      <td>0</td>\n",
       "      <td>0</td>\n",
       "      <td>0</td>\n",
       "      <td>0</td>\n",
       "      <td>0</td>\n",
       "      <td>0</td>\n",
       "      <td>0</td>\n",
       "      <td>...</td>\n",
       "      <td>0</td>\n",
       "      <td>0</td>\n",
       "      <td>0</td>\n",
       "      <td>0</td>\n",
       "      <td>0</td>\n",
       "      <td>1</td>\n",
       "      <td>0</td>\n",
       "      <td>0</td>\n",
       "      <td>0</td>\n",
       "      <td>1</td>\n",
       "    </tr>\n",
       "    <tr>\n",
       "      <th>1</th>\n",
       "      <td>0</td>\n",
       "      <td>0</td>\n",
       "      <td>0</td>\n",
       "      <td>0</td>\n",
       "      <td>0</td>\n",
       "      <td>0</td>\n",
       "      <td>0</td>\n",
       "      <td>0</td>\n",
       "      <td>0</td>\n",
       "      <td>0</td>\n",
       "      <td>...</td>\n",
       "      <td>0</td>\n",
       "      <td>0</td>\n",
       "      <td>0</td>\n",
       "      <td>0</td>\n",
       "      <td>0</td>\n",
       "      <td>1</td>\n",
       "      <td>0</td>\n",
       "      <td>0</td>\n",
       "      <td>0</td>\n",
       "      <td>1</td>\n",
       "    </tr>\n",
       "    <tr>\n",
       "      <th>2</th>\n",
       "      <td>0</td>\n",
       "      <td>0</td>\n",
       "      <td>0</td>\n",
       "      <td>0</td>\n",
       "      <td>0</td>\n",
       "      <td>0</td>\n",
       "      <td>0</td>\n",
       "      <td>0</td>\n",
       "      <td>0</td>\n",
       "      <td>0</td>\n",
       "      <td>...</td>\n",
       "      <td>0</td>\n",
       "      <td>0</td>\n",
       "      <td>0</td>\n",
       "      <td>0</td>\n",
       "      <td>1</td>\n",
       "      <td>0</td>\n",
       "      <td>0</td>\n",
       "      <td>0</td>\n",
       "      <td>1</td>\n",
       "      <td>0</td>\n",
       "    </tr>\n",
       "    <tr>\n",
       "      <th>3</th>\n",
       "      <td>0</td>\n",
       "      <td>0</td>\n",
       "      <td>0</td>\n",
       "      <td>0</td>\n",
       "      <td>0</td>\n",
       "      <td>0</td>\n",
       "      <td>0</td>\n",
       "      <td>0</td>\n",
       "      <td>0</td>\n",
       "      <td>0</td>\n",
       "      <td>...</td>\n",
       "      <td>0</td>\n",
       "      <td>0</td>\n",
       "      <td>0</td>\n",
       "      <td>0</td>\n",
       "      <td>1</td>\n",
       "      <td>0</td>\n",
       "      <td>0</td>\n",
       "      <td>0</td>\n",
       "      <td>1</td>\n",
       "      <td>0</td>\n",
       "    </tr>\n",
       "    <tr>\n",
       "      <th>4</th>\n",
       "      <td>0</td>\n",
       "      <td>0</td>\n",
       "      <td>0</td>\n",
       "      <td>0</td>\n",
       "      <td>1</td>\n",
       "      <td>0</td>\n",
       "      <td>0</td>\n",
       "      <td>0</td>\n",
       "      <td>0</td>\n",
       "      <td>0</td>\n",
       "      <td>...</td>\n",
       "      <td>0</td>\n",
       "      <td>0</td>\n",
       "      <td>0</td>\n",
       "      <td>0</td>\n",
       "      <td>0</td>\n",
       "      <td>1</td>\n",
       "      <td>0</td>\n",
       "      <td>0</td>\n",
       "      <td>1</td>\n",
       "      <td>0</td>\n",
       "    </tr>\n",
       "  </tbody>\n",
       "</table>\n",
       "<p>5 rows × 28 columns</p>\n",
       "</div>"
      ],
      "text/plain": [
       "   property_type_Apartment  property_type_Barn  \\\n",
       "0                        0                   0   \n",
       "1                        0                   0   \n",
       "2                        0                   0   \n",
       "3                        0                   0   \n",
       "4                        0                   0   \n",
       "\n",
       "   property_type_Bed and breakfast  property_type_Boat  \\\n",
       "0                                0                   0   \n",
       "1                                0                   0   \n",
       "2                                0                   0   \n",
       "3                                0                   0   \n",
       "4                                0                   0   \n",
       "\n",
       "   property_type_Bungalow  property_type_Cabin  property_type_Camper/RV  \\\n",
       "0                       0                    0                        0   \n",
       "1                       0                    0                        0   \n",
       "2                       0                    0                        0   \n",
       "3                       0                    0                        0   \n",
       "4                       1                    0                        0   \n",
       "\n",
       "   property_type_Chalet  property_type_Condominium  property_type_Cottage  \\\n",
       "0                     0                          0                      0   \n",
       "1                     0                          0                      0   \n",
       "2                     0                          0                      0   \n",
       "3                     0                          0                      0   \n",
       "4                     0                          0                      0   \n",
       "\n",
       "                        ...                         property_type_Tiny house  \\\n",
       "0                       ...                                                0   \n",
       "1                       ...                                                0   \n",
       "2                       ...                                                0   \n",
       "3                       ...                                                0   \n",
       "4                       ...                                                0   \n",
       "\n",
       "   property_type_Townhouse  property_type_Villa  property_type_Yurt  \\\n",
       "0                        0                    0                   0   \n",
       "1                        0                    0                   0   \n",
       "2                        0                    0                   0   \n",
       "3                        0                    0                   0   \n",
       "4                        0                    0                   0   \n",
       "\n",
       "   room_type_Entire home/apt  room_type_Private room  room_type_Shared room  \\\n",
       "0                          0                       1                      0   \n",
       "1                          0                       1                      0   \n",
       "2                          1                       0                      0   \n",
       "3                          1                       0                      0   \n",
       "4                          0                       1                      0   \n",
       "\n",
       "   cancellation_policy_flexible  cancellation_policy_moderate  \\\n",
       "0                             0                             0   \n",
       "1                             0                             0   \n",
       "2                             0                             1   \n",
       "3                             0                             1   \n",
       "4                             0                             1   \n",
       "\n",
       "   cancellation_policy_strict_14_with_grace_period  \n",
       "0                                                1  \n",
       "1                                                1  \n",
       "2                                                0  \n",
       "3                                                0  \n",
       "4                                                0  \n",
       "\n",
       "[5 rows x 28 columns]"
      ]
     },
     "execution_count": 17,
     "metadata": {},
     "output_type": "execute_result"
    }
   ],
   "source": [
    "dummy_vars.head()"
   ]
  },
  {
   "cell_type": "code",
   "execution_count": 18,
   "metadata": {
    "ExecuteTime": {
     "end_time": "2018-09-13T18:44:18.316489Z",
     "start_time": "2018-09-13T18:44:18.277416Z"
    }
   },
   "outputs": [
    {
     "data": {
      "text/html": [
       "<div>\n",
       "<style scoped>\n",
       "    .dataframe tbody tr th:only-of-type {\n",
       "        vertical-align: middle;\n",
       "    }\n",
       "\n",
       "    .dataframe tbody tr th {\n",
       "        vertical-align: top;\n",
       "    }\n",
       "\n",
       "    .dataframe thead th {\n",
       "        text-align: right;\n",
       "    }\n",
       "</style>\n",
       "<table border=\"1\" class=\"dataframe\">\n",
       "  <thead>\n",
       "    <tr style=\"text-align: right;\">\n",
       "      <th></th>\n",
       "      <th>host_response_rate</th>\n",
       "      <th>host_listings_count</th>\n",
       "      <th>zipcode</th>\n",
       "      <th>accommodates</th>\n",
       "      <th>bathrooms</th>\n",
       "      <th>bedrooms</th>\n",
       "      <th>beds</th>\n",
       "      <th>price</th>\n",
       "      <th>number_of_reviews</th>\n",
       "      <th>review_scores_rating</th>\n",
       "      <th>...</th>\n",
       "      <th>property_type_Tiny house</th>\n",
       "      <th>property_type_Townhouse</th>\n",
       "      <th>property_type_Villa</th>\n",
       "      <th>property_type_Yurt</th>\n",
       "      <th>room_type_Entire home/apt</th>\n",
       "      <th>room_type_Private room</th>\n",
       "      <th>room_type_Shared room</th>\n",
       "      <th>cancellation_policy_flexible</th>\n",
       "      <th>cancellation_policy_moderate</th>\n",
       "      <th>cancellation_policy_strict_14_with_grace_period</th>\n",
       "    </tr>\n",
       "  </thead>\n",
       "  <tbody>\n",
       "    <tr>\n",
       "      <th>0</th>\n",
       "      <td>100.0</td>\n",
       "      <td>6</td>\n",
       "      <td>94607.0</td>\n",
       "      <td>2</td>\n",
       "      <td>1.0</td>\n",
       "      <td>1.0</td>\n",
       "      <td>1.0</td>\n",
       "      <td>65.0</td>\n",
       "      <td>25</td>\n",
       "      <td>91.0</td>\n",
       "      <td>...</td>\n",
       "      <td>0</td>\n",
       "      <td>0</td>\n",
       "      <td>0</td>\n",
       "      <td>0</td>\n",
       "      <td>0</td>\n",
       "      <td>1</td>\n",
       "      <td>0</td>\n",
       "      <td>0</td>\n",
       "      <td>0</td>\n",
       "      <td>1</td>\n",
       "    </tr>\n",
       "    <tr>\n",
       "      <th>1</th>\n",
       "      <td>92.0</td>\n",
       "      <td>7</td>\n",
       "      <td>94609.0</td>\n",
       "      <td>1</td>\n",
       "      <td>1.0</td>\n",
       "      <td>1.0</td>\n",
       "      <td>1.0</td>\n",
       "      <td>53.0</td>\n",
       "      <td>36</td>\n",
       "      <td>90.0</td>\n",
       "      <td>...</td>\n",
       "      <td>0</td>\n",
       "      <td>0</td>\n",
       "      <td>0</td>\n",
       "      <td>0</td>\n",
       "      <td>0</td>\n",
       "      <td>1</td>\n",
       "      <td>0</td>\n",
       "      <td>0</td>\n",
       "      <td>0</td>\n",
       "      <td>1</td>\n",
       "    </tr>\n",
       "    <tr>\n",
       "      <th>2</th>\n",
       "      <td>100.0</td>\n",
       "      <td>1</td>\n",
       "      <td>94610.0</td>\n",
       "      <td>2</td>\n",
       "      <td>1.0</td>\n",
       "      <td>0.0</td>\n",
       "      <td>1.0</td>\n",
       "      <td>100.0</td>\n",
       "      <td>193</td>\n",
       "      <td>99.0</td>\n",
       "      <td>...</td>\n",
       "      <td>0</td>\n",
       "      <td>0</td>\n",
       "      <td>0</td>\n",
       "      <td>0</td>\n",
       "      <td>1</td>\n",
       "      <td>0</td>\n",
       "      <td>0</td>\n",
       "      <td>0</td>\n",
       "      <td>1</td>\n",
       "      <td>0</td>\n",
       "    </tr>\n",
       "    <tr>\n",
       "      <th>3</th>\n",
       "      <td>100.0</td>\n",
       "      <td>3</td>\n",
       "      <td>94618.0</td>\n",
       "      <td>3</td>\n",
       "      <td>1.0</td>\n",
       "      <td>1.0</td>\n",
       "      <td>1.0</td>\n",
       "      <td>135.0</td>\n",
       "      <td>101</td>\n",
       "      <td>95.0</td>\n",
       "      <td>...</td>\n",
       "      <td>0</td>\n",
       "      <td>0</td>\n",
       "      <td>0</td>\n",
       "      <td>0</td>\n",
       "      <td>1</td>\n",
       "      <td>0</td>\n",
       "      <td>0</td>\n",
       "      <td>0</td>\n",
       "      <td>1</td>\n",
       "      <td>0</td>\n",
       "    </tr>\n",
       "    <tr>\n",
       "      <th>4</th>\n",
       "      <td>100.0</td>\n",
       "      <td>1</td>\n",
       "      <td>94608.0</td>\n",
       "      <td>1</td>\n",
       "      <td>1.0</td>\n",
       "      <td>1.0</td>\n",
       "      <td>1.0</td>\n",
       "      <td>70.0</td>\n",
       "      <td>51</td>\n",
       "      <td>94.0</td>\n",
       "      <td>...</td>\n",
       "      <td>0</td>\n",
       "      <td>0</td>\n",
       "      <td>0</td>\n",
       "      <td>0</td>\n",
       "      <td>0</td>\n",
       "      <td>1</td>\n",
       "      <td>0</td>\n",
       "      <td>0</td>\n",
       "      <td>1</td>\n",
       "      <td>0</td>\n",
       "    </tr>\n",
       "  </tbody>\n",
       "</table>\n",
       "<p>5 rows × 40 columns</p>\n",
       "</div>"
      ],
      "text/plain": [
       "   host_response_rate  host_listings_count  zipcode  accommodates  bathrooms  \\\n",
       "0               100.0                    6  94607.0             2        1.0   \n",
       "1                92.0                    7  94609.0             1        1.0   \n",
       "2               100.0                    1  94610.0             2        1.0   \n",
       "3               100.0                    3  94618.0             3        1.0   \n",
       "4               100.0                    1  94608.0             1        1.0   \n",
       "\n",
       "   bedrooms  beds  price  number_of_reviews  review_scores_rating  \\\n",
       "0       1.0   1.0   65.0                 25                  91.0   \n",
       "1       1.0   1.0   53.0                 36                  90.0   \n",
       "2       0.0   1.0  100.0                193                  99.0   \n",
       "3       1.0   1.0  135.0                101                  95.0   \n",
       "4       1.0   1.0   70.0                 51                  94.0   \n",
       "\n",
       "                        ...                         property_type_Tiny house  \\\n",
       "0                       ...                                                0   \n",
       "1                       ...                                                0   \n",
       "2                       ...                                                0   \n",
       "3                       ...                                                0   \n",
       "4                       ...                                                0   \n",
       "\n",
       "   property_type_Townhouse  property_type_Villa  property_type_Yurt  \\\n",
       "0                        0                    0                   0   \n",
       "1                        0                    0                   0   \n",
       "2                        0                    0                   0   \n",
       "3                        0                    0                   0   \n",
       "4                        0                    0                   0   \n",
       "\n",
       "   room_type_Entire home/apt  room_type_Private room  room_type_Shared room  \\\n",
       "0                          0                       1                      0   \n",
       "1                          0                       1                      0   \n",
       "2                          1                       0                      0   \n",
       "3                          1                       0                      0   \n",
       "4                          0                       1                      0   \n",
       "\n",
       "   cancellation_policy_flexible  cancellation_policy_moderate  \\\n",
       "0                             0                             0   \n",
       "1                             0                             0   \n",
       "2                             0                             1   \n",
       "3                             0                             1   \n",
       "4                             0                             1   \n",
       "\n",
       "   cancellation_policy_strict_14_with_grace_period  \n",
       "0                                                1  \n",
       "1                                                1  \n",
       "2                                                0  \n",
       "3                                                0  \n",
       "4                                                0  \n",
       "\n",
       "[5 rows x 40 columns]"
      ]
     },
     "execution_count": 18,
     "metadata": {},
     "output_type": "execute_result"
    }
   ],
   "source": [
    "# drop non-numeric variables from df2 and add the dummies\n",
    "df3=df2.drop(non_num_vars,axis=1)\n",
    "df3 = pd.merge(df3,dummy_vars, left_index=True, right_index=True)\n",
    "df3.head()"
   ]
  },
  {
   "cell_type": "code",
   "execution_count": 19,
   "metadata": {
    "ExecuteTime": {
     "end_time": "2018-09-13T18:44:18.334524Z",
     "start_time": "2018-09-13T18:44:18.319290Z"
    }
   },
   "outputs": [
    {
     "name": "stderr",
     "output_type": "stream",
     "text": [
      "/Users/xzhou/anaconda3/lib/python3.6/site-packages/ipykernel_launcher.py:10: UserWarning: Pandas doesn't allow columns to be created via a new attribute name - see https://pandas.pydata.org/pandas-docs/stable/indexing.html#attribute-access\n",
      "  # Remove the CWD from sys.path while we load stuff.\n",
      "/Users/xzhou/anaconda3/lib/python3.6/site-packages/ipykernel_launcher.py:12: UserWarning: Pandas doesn't allow columns to be created via a new attribute name - see https://pandas.pydata.org/pandas-docs/stable/indexing.html#attribute-access\n",
      "  if sys.path[0] == '':\n",
      "/Users/xzhou/anaconda3/lib/python3.6/site-packages/ipykernel_launcher.py:15: FutureWarning: Method .as_matrix will be removed in a future version. Use .values instead.\n",
      "  from ipykernel import kernelapp as app\n",
      "/Users/xzhou/anaconda3/lib/python3.6/site-packages/ipykernel_launcher.py:16: FutureWarning: Method .as_matrix will be removed in a future version. Use .values instead.\n",
      "  app.launch_new_instance()\n"
     ]
    }
   ],
   "source": [
    "# split into test and training data\n",
    "np.random.seed(1)\n",
    "indices = np.random.permutation(len(df3))\n",
    "train_size = int(round(0.8*len(df3)))\n",
    "test_size = len(df3)-train_size\n",
    "\n",
    "y = df3['price']\n",
    "x = df3.drop('price', axis =1)\n",
    "\n",
    "x.train = x.iloc[indices[0:train_size]]\n",
    "y.train = y.iloc[indices[0:train_size]]\n",
    "x.test = x.iloc[indices[train_size+1:]]\n",
    "y.test = y.iloc[indices[train_size+1:]]\n",
    "\n",
    "x2 = x.train.as_matrix()\n",
    "y2 = y.train.as_matrix()"
   ]
  },
  {
   "cell_type": "code",
   "execution_count": 20,
   "metadata": {
    "ExecuteTime": {
     "end_time": "2018-09-13T18:44:18.394603Z",
     "start_time": "2018-09-13T18:44:18.338001Z"
    }
   },
   "outputs": [
    {
     "name": "stdout",
     "output_type": "stream",
     "text": [
      "                            OLS Regression Results                            \n",
      "==============================================================================\n",
      "Dep. Variable:                      y   R-squared:                       0.577\n",
      "Model:                            OLS   Adj. R-squared:                  0.567\n",
      "Method:                 Least Squares   F-statistic:                     57.42\n",
      "Date:                Thu, 13 Sep 2018   Prob (F-statistic):          1.27e-246\n",
      "Time:                        11:44:18   Log-Likelihood:                -8676.9\n",
      "No. Observations:                1512   AIC:                         1.743e+04\n",
      "Df Residuals:                    1476   BIC:                         1.762e+04\n",
      "Df Model:                          35                                         \n",
      "Covariance Type:            nonrobust                                         \n",
      "==============================================================================\n",
      "                 coef    std err          t      P>|t|      [0.025      0.975]\n",
      "------------------------------------------------------------------------------\n",
      "x1            -0.1887      0.180     -1.051      0.293      -0.541       0.163\n",
      "x2            -0.6144      0.252     -2.442      0.015      -1.108      -0.121\n",
      "x3             0.6238      0.171      3.647      0.000       0.288       0.959\n",
      "x4            29.2123      2.010     14.533      0.000      25.269      33.155\n",
      "x5            39.0102      4.755      8.204      0.000      29.683      48.337\n",
      "x6            19.8232      4.061      4.882      0.000      11.858      27.788\n",
      "x7           -18.7906      3.172     -5.924      0.000     -25.013     -12.569\n",
      "x8             0.0642      0.044      1.466      0.143      -0.022       0.150\n",
      "x9             1.2792      0.380      3.369      0.001       0.534       2.024\n",
      "x10           -6.0914      1.203     -5.064      0.000      -8.451      -3.732\n",
      "x11           -2.4600      4.594     -0.536      0.592     -11.471       6.551\n",
      "x12        -3977.7372   1078.788     -3.687      0.000   -6093.859   -1861.615\n",
      "x13        -4031.9130   1081.161     -3.729      0.000   -6152.688   -1911.138\n",
      "x14        -3987.9146   1079.458     -3.694      0.000   -6105.350   -1870.479\n",
      "x15        -3953.6867   1078.463     -3.666      0.000   -6069.170   -1838.203\n",
      "x16        -3975.0643   1078.723     -3.685      0.000   -6091.058   -1859.071\n",
      "x17        -3960.4463   1081.032     -3.664      0.000   -6080.969   -1839.924\n",
      "x18        -3983.0137   1079.507     -3.690      0.000   -6100.544   -1865.483\n",
      "x19        -3894.2446   1079.107     -3.609      0.000   -6010.990   -1777.499\n",
      "x20        -3974.8518   1078.775     -3.685      0.000   -6090.948   -1858.756\n",
      "x21        -3946.8295   1079.005     -3.658      0.000   -6063.377   -1830.282\n",
      "x22        -3971.4564   1078.894     -3.681      0.000   -6087.786   -1855.127\n",
      "x23        -3964.2435   1078.766     -3.675      0.000   -6080.321   -1848.166\n",
      "x24        -3907.8589   1080.864     -3.615      0.000   -6028.052   -1787.666\n",
      "x25        -3984.0268   1078.996     -3.692      0.000   -6100.556   -1867.497\n",
      "x26        -3985.8591   1078.393     -3.696      0.000   -6101.206   -1870.513\n",
      "x27        -3966.4916   1078.650     -3.677      0.000   -6082.342   -1850.641\n",
      "x28        -3881.5493   1080.931     -3.591      0.000   -6001.875   -1761.224\n",
      "const      -3.346e-10   9.17e-11     -3.651      0.000   -5.14e-10   -1.55e-10\n",
      "x29        -3952.3198   1080.269     -3.659      0.000   -6071.347   -1833.293\n",
      "x30        -3978.5787   1078.530     -3.689      0.000   -6094.193   -1862.964\n",
      "x31        -3473.1276   1082.195     -3.209      0.001   -5595.932   -1350.323\n",
      "x32        -3977.8715   1079.578     -3.685      0.000   -6095.542   -1860.201\n",
      "x33        -2.756e+04   7550.750     -3.650      0.000   -4.24e+04   -1.27e+04\n",
      "x34        -2.758e+04   7550.505     -3.653      0.000   -4.24e+04   -1.28e+04\n",
      "x35        -2.759e+04   7550.182     -3.654      0.000   -4.24e+04   -1.28e+04\n",
      "x36        -2.757e+04   7550.539     -3.652      0.000   -4.24e+04   -1.28e+04\n",
      "x37        -2.758e+04   7550.399     -3.653      0.000   -4.24e+04   -1.28e+04\n",
      "x38        -2.758e+04   7550.496     -3.652      0.000   -4.24e+04   -1.28e+04\n",
      "==============================================================================\n",
      "Omnibus:                     2172.023   Durbin-Watson:                   2.117\n",
      "Prob(Omnibus):                  0.000   Jarque-Bera (JB):          1857876.297\n",
      "Skew:                           7.770   Prob(JB):                         0.00\n",
      "Kurtosis:                     174.022   Cond. No.                     1.01e+16\n",
      "==============================================================================\n",
      "\n",
      "Warnings:\n",
      "[1] Standard Errors assume that the covariance matrix of the errors is correctly specified.\n",
      "[2] The smallest eigenvalue is 1.33e-19. This might indicate that there are\n",
      "strong multicollinearity problems or that the design matrix is singular.\n"
     ]
    }
   ],
   "source": [
    "import statsmodels.api as sm\n",
    "olsmod = sm.OLS(y2,x2)\n",
    "olsres = olsmod.fit()\n",
    "print(olsres.summary())"
   ]
  },
  {
   "cell_type": "code",
   "execution_count": 21,
   "metadata": {
    "ExecuteTime": {
     "end_time": "2018-09-13T18:44:18.409151Z",
     "start_time": "2018-09-13T18:44:18.399068Z"
    }
   },
   "outputs": [],
   "source": [
    "# different method\n",
    "from sklearn import linear_model\n",
    "from sklearn.model_selection import train_test_split\n",
    "X_train, X_test, y_train, y_test = train_test_split(x, y, test_size = 0.25, random_state=1)"
   ]
  },
  {
   "cell_type": "code",
   "execution_count": 22,
   "metadata": {
    "ExecuteTime": {
     "end_time": "2018-09-13T18:44:20.672762Z",
     "start_time": "2018-09-13T18:44:18.411895Z"
    }
   },
   "outputs": [
    {
     "name": "stdout",
     "output_type": "stream",
     "text": [
      "MSE train: 1190.705, test: 4749.283\n",
      "R^2 train: 0.922, test: 0.665\n"
     ]
    }
   ],
   "source": [
    "from sklearn.ensemble import RandomForestRegressor\n",
    "forest = RandomForestRegressor(n_estimators=500, \n",
    "                               criterion='mse', \n",
    "                               random_state=3, \n",
    "                               n_jobs=-1)\n",
    "forest.fit(X_train, y_train)\n",
    "y_train_pred = forest.predict(X_train)\n",
    "y_test_pred = forest.predict(X_test)\n",
    "\n",
    "print('MSE train: %.3f, test: %.3f' % (\n",
    "        mean_squared_error(y_train, y_train_pred),\n",
    "        mean_squared_error(y_test, y_test_pred)))\n",
    "print('R^2 train: %.3f, test: %.3f' % (\n",
    "        r2_score(y_train, y_train_pred),\n",
    "        r2_score(y_test, y_test_pred)))"
   ]
  },
  {
   "cell_type": "code",
   "execution_count": null,
   "metadata": {},
   "outputs": [],
   "source": []
  },
  {
   "cell_type": "code",
   "execution_count": null,
   "metadata": {},
   "outputs": [],
   "source": []
  },
  {
   "cell_type": "code",
   "execution_count": null,
   "metadata": {},
   "outputs": [],
   "source": []
  }
 ],
 "metadata": {
  "kernelspec": {
   "display_name": "Python 3",
   "language": "python",
   "name": "python3"
  },
  "language_info": {
   "codemirror_mode": {
    "name": "ipython",
    "version": 3
   },
   "file_extension": ".py",
   "mimetype": "text/x-python",
   "name": "python",
   "nbconvert_exporter": "python",
   "pygments_lexer": "ipython3",
   "version": "3.6.6"
  },
  "varInspector": {
   "cols": {
    "lenName": 16,
    "lenType": 16,
    "lenVar": 40
   },
   "kernels_config": {
    "python": {
     "delete_cmd_postfix": "",
     "delete_cmd_prefix": "del ",
     "library": "var_list.py",
     "varRefreshCmd": "print(var_dic_list())"
    },
    "r": {
     "delete_cmd_postfix": ") ",
     "delete_cmd_prefix": "rm(",
     "library": "var_list.r",
     "varRefreshCmd": "cat(var_dic_list()) "
    }
   },
   "types_to_exclude": [
    "module",
    "function",
    "builtin_function_or_method",
    "instance",
    "_Feature"
   ],
   "window_display": false
  }
 },
 "nbformat": 4,
 "nbformat_minor": 2
}
