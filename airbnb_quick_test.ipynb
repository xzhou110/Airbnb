{
 "cells": [
  {
   "cell_type": "code",
   "execution_count": 69,
   "metadata": {
    "ExecuteTime": {
     "end_time": "2018-09-13T17:25:08.029838Z",
     "start_time": "2018-09-13T17:25:07.491737Z"
    }
   },
   "outputs": [],
   "source": [
    "import pandas as pd\n",
    "import csv\n",
    "import statsmodels.api as sm\n",
    "from datetime import datetime\n",
    "import matplotlib.pyplot as plt\n",
    "import numpy as np\n",
    "from sklearn import datasets, linear_model\n",
    "from sklearn.metrics import mean_squared_error, r2_score\n",
    "from sklearn.preprocessing import StandardScaler\n",
    "from sklearn.model_selection import train_test_split"
   ]
  },
  {
   "cell_type": "code",
   "execution_count": 2,
   "metadata": {
    "ExecuteTime": {
     "end_time": "2018-09-13T15:17:56.133853Z",
     "start_time": "2018-09-13T15:17:56.127241Z"
    }
   },
   "outputs": [],
   "source": [
    "file_url = '/Users/xzhou/github/project_archives/files_airbnb/sf_airbnb/{}.csv'\n",
    "\n",
    "listings_summary = file_url.format('listings_summary')\n",
    "reviews_file = file_url.format('reviews_details')\n",
    "calendar_file = file_url.format('calendar_details')"
   ]
  },
  {
   "cell_type": "code",
   "execution_count": 3,
   "metadata": {
    "ExecuteTime": {
     "end_time": "2018-09-13T15:17:56.301435Z",
     "start_time": "2018-09-13T15:17:56.177649Z"
    }
   },
   "outputs": [],
   "source": [
    "df_listings = pd.read_csv(listings_summary, parse_dates=['last_review'])"
   ]
  },
  {
   "cell_type": "code",
   "execution_count": 4,
   "metadata": {
    "ExecuteTime": {
     "end_time": "2018-09-13T15:17:56.479188Z",
     "start_time": "2018-09-13T15:17:56.467220Z"
    }
   },
   "outputs": [
    {
     "data": {
      "text/plain": [
       "(6633, 16)"
      ]
     },
     "execution_count": 4,
     "metadata": {},
     "output_type": "execute_result"
    }
   ],
   "source": [
    "df_listings.shape"
   ]
  },
  {
   "cell_type": "code",
   "execution_count": 5,
   "metadata": {
    "ExecuteTime": {
     "end_time": "2018-09-13T15:17:56.694410Z",
     "start_time": "2018-09-13T15:17:56.670369Z"
    }
   },
   "outputs": [
    {
     "data": {
      "text/html": [
       "<div>\n",
       "<style scoped>\n",
       "    .dataframe tbody tr th:only-of-type {\n",
       "        vertical-align: middle;\n",
       "    }\n",
       "\n",
       "    .dataframe tbody tr th {\n",
       "        vertical-align: top;\n",
       "    }\n",
       "\n",
       "    .dataframe thead th {\n",
       "        text-align: right;\n",
       "    }\n",
       "</style>\n",
       "<table border=\"1\" class=\"dataframe\">\n",
       "  <thead>\n",
       "    <tr style=\"text-align: right;\">\n",
       "      <th></th>\n",
       "      <th>id</th>\n",
       "      <th>name</th>\n",
       "      <th>host_id</th>\n",
       "      <th>host_name</th>\n",
       "      <th>neighbourhood_group</th>\n",
       "      <th>neighbourhood</th>\n",
       "      <th>latitude</th>\n",
       "      <th>longitude</th>\n",
       "      <th>room_type</th>\n",
       "      <th>price</th>\n",
       "      <th>minimum_nights</th>\n",
       "      <th>number_of_reviews</th>\n",
       "      <th>last_review</th>\n",
       "      <th>reviews_per_month</th>\n",
       "      <th>calculated_host_listings_count</th>\n",
       "      <th>availability_365</th>\n",
       "    </tr>\n",
       "  </thead>\n",
       "  <tbody>\n",
       "    <tr>\n",
       "      <th>0</th>\n",
       "      <td>958</td>\n",
       "      <td>Bright, Modern Garden Unit - 1BR/1B</td>\n",
       "      <td>1169</td>\n",
       "      <td>Holly</td>\n",
       "      <td>NaN</td>\n",
       "      <td>Western Addition</td>\n",
       "      <td>37.769310</td>\n",
       "      <td>-122.433856</td>\n",
       "      <td>Entire home/apt</td>\n",
       "      <td>170</td>\n",
       "      <td>1</td>\n",
       "      <td>152</td>\n",
       "      <td>2018-07-29</td>\n",
       "      <td>1.38</td>\n",
       "      <td>1</td>\n",
       "      <td>122</td>\n",
       "    </tr>\n",
       "    <tr>\n",
       "      <th>1</th>\n",
       "      <td>5858</td>\n",
       "      <td>Creative Sanctuary</td>\n",
       "      <td>8904</td>\n",
       "      <td>Philip And Tania</td>\n",
       "      <td>NaN</td>\n",
       "      <td>Bernal Heights</td>\n",
       "      <td>37.745112</td>\n",
       "      <td>-122.421018</td>\n",
       "      <td>Entire home/apt</td>\n",
       "      <td>235</td>\n",
       "      <td>30</td>\n",
       "      <td>112</td>\n",
       "      <td>2017-08-06</td>\n",
       "      <td>0.99</td>\n",
       "      <td>1</td>\n",
       "      <td>365</td>\n",
       "    </tr>\n",
       "    <tr>\n",
       "      <th>2</th>\n",
       "      <td>7918</td>\n",
       "      <td>A Friendly Room - UCSF/USF - San Francisco</td>\n",
       "      <td>21994</td>\n",
       "      <td>Aaron</td>\n",
       "      <td>NaN</td>\n",
       "      <td>Haight Ashbury</td>\n",
       "      <td>37.766690</td>\n",
       "      <td>-122.452505</td>\n",
       "      <td>Private room</td>\n",
       "      <td>65</td>\n",
       "      <td>32</td>\n",
       "      <td>17</td>\n",
       "      <td>2016-11-21</td>\n",
       "      <td>0.16</td>\n",
       "      <td>9</td>\n",
       "      <td>365</td>\n",
       "    </tr>\n",
       "    <tr>\n",
       "      <th>3</th>\n",
       "      <td>8142</td>\n",
       "      <td>Friendly Room Apt. Style -UCSF/USF - San Franc...</td>\n",
       "      <td>21994</td>\n",
       "      <td>Aaron</td>\n",
       "      <td>NaN</td>\n",
       "      <td>Haight Ashbury</td>\n",
       "      <td>37.764872</td>\n",
       "      <td>-122.451828</td>\n",
       "      <td>Private room</td>\n",
       "      <td>65</td>\n",
       "      <td>32</td>\n",
       "      <td>7</td>\n",
       "      <td>2017-08-12</td>\n",
       "      <td>0.15</td>\n",
       "      <td>9</td>\n",
       "      <td>328</td>\n",
       "    </tr>\n",
       "    <tr>\n",
       "      <th>4</th>\n",
       "      <td>8339</td>\n",
       "      <td>Historic Alamo Square Victorian</td>\n",
       "      <td>24215</td>\n",
       "      <td>Rosy</td>\n",
       "      <td>NaN</td>\n",
       "      <td>Western Addition</td>\n",
       "      <td>37.775249</td>\n",
       "      <td>-122.436374</td>\n",
       "      <td>Entire home/apt</td>\n",
       "      <td>675</td>\n",
       "      <td>7</td>\n",
       "      <td>26</td>\n",
       "      <td>2017-11-10</td>\n",
       "      <td>0.24</td>\n",
       "      <td>2</td>\n",
       "      <td>78</td>\n",
       "    </tr>\n",
       "  </tbody>\n",
       "</table>\n",
       "</div>"
      ],
      "text/plain": [
       "     id                                               name  host_id  \\\n",
       "0   958                Bright, Modern Garden Unit - 1BR/1B     1169   \n",
       "1  5858                                 Creative Sanctuary     8904   \n",
       "2  7918         A Friendly Room - UCSF/USF - San Francisco    21994   \n",
       "3  8142  Friendly Room Apt. Style -UCSF/USF - San Franc...    21994   \n",
       "4  8339                    Historic Alamo Square Victorian    24215   \n",
       "\n",
       "          host_name  neighbourhood_group     neighbourhood   latitude  \\\n",
       "0             Holly                  NaN  Western Addition  37.769310   \n",
       "1  Philip And Tania                  NaN    Bernal Heights  37.745112   \n",
       "2             Aaron                  NaN    Haight Ashbury  37.766690   \n",
       "3             Aaron                  NaN    Haight Ashbury  37.764872   \n",
       "4              Rosy                  NaN  Western Addition  37.775249   \n",
       "\n",
       "    longitude        room_type  price  minimum_nights  number_of_reviews  \\\n",
       "0 -122.433856  Entire home/apt    170               1                152   \n",
       "1 -122.421018  Entire home/apt    235              30                112   \n",
       "2 -122.452505     Private room     65              32                 17   \n",
       "3 -122.451828     Private room     65              32                  7   \n",
       "4 -122.436374  Entire home/apt    675               7                 26   \n",
       "\n",
       "  last_review  reviews_per_month  calculated_host_listings_count  \\\n",
       "0  2018-07-29               1.38                               1   \n",
       "1  2017-08-06               0.99                               1   \n",
       "2  2016-11-21               0.16                               9   \n",
       "3  2017-08-12               0.15                               9   \n",
       "4  2017-11-10               0.24                               2   \n",
       "\n",
       "   availability_365  \n",
       "0               122  \n",
       "1               365  \n",
       "2               365  \n",
       "3               328  \n",
       "4                78  "
      ]
     },
     "execution_count": 5,
     "metadata": {},
     "output_type": "execute_result"
    }
   ],
   "source": [
    "df_listings.head()"
   ]
  },
  {
   "cell_type": "code",
   "execution_count": 6,
   "metadata": {
    "ExecuteTime": {
     "end_time": "2018-09-13T15:17:59.773792Z",
     "start_time": "2018-09-13T15:17:59.767470Z"
    }
   },
   "outputs": [
    {
     "data": {
      "text/plain": [
       "Index(['id', 'name', 'host_id', 'host_name', 'neighbourhood_group',\n",
       "       'neighbourhood', 'latitude', 'longitude', 'room_type', 'price',\n",
       "       'minimum_nights', 'number_of_reviews', 'last_review',\n",
       "       'reviews_per_month', 'calculated_host_listings_count',\n",
       "       'availability_365'],\n",
       "      dtype='object')"
      ]
     },
     "execution_count": 6,
     "metadata": {},
     "output_type": "execute_result"
    }
   ],
   "source": [
    "df_listings.columns"
   ]
  },
  {
   "cell_type": "code",
   "execution_count": 7,
   "metadata": {
    "ExecuteTime": {
     "end_time": "2018-09-13T15:17:59.985590Z",
     "start_time": "2018-09-13T15:17:59.981996Z"
    }
   },
   "outputs": [],
   "source": [
    "irrlevant_columns_to_drop = ['name', 'host_id', 'host_name', 'neighbourhood_group']"
   ]
  },
  {
   "cell_type": "code",
   "execution_count": 8,
   "metadata": {
    "ExecuteTime": {
     "end_time": "2018-09-13T15:18:00.882369Z",
     "start_time": "2018-09-13T15:18:00.877130Z"
    }
   },
   "outputs": [],
   "source": [
    "df_listings_smaller = df_listings.drop(irrlevant_columns_to_drop, axis=1)"
   ]
  },
  {
   "cell_type": "code",
   "execution_count": 9,
   "metadata": {
    "ExecuteTime": {
     "end_time": "2018-09-13T15:18:01.420890Z",
     "start_time": "2018-09-13T15:18:01.413397Z"
    }
   },
   "outputs": [
    {
     "data": {
      "text/plain": [
       "id                                         int64\n",
       "neighbourhood                             object\n",
       "latitude                                 float64\n",
       "longitude                                float64\n",
       "room_type                                 object\n",
       "price                                      int64\n",
       "minimum_nights                             int64\n",
       "number_of_reviews                          int64\n",
       "last_review                       datetime64[ns]\n",
       "reviews_per_month                        float64\n",
       "calculated_host_listings_count             int64\n",
       "availability_365                           int64\n",
       "dtype: object"
      ]
     },
     "execution_count": 9,
     "metadata": {},
     "output_type": "execute_result"
    }
   ],
   "source": [
    "df_listings_smaller.dtypes"
   ]
  },
  {
   "cell_type": "code",
   "execution_count": 10,
   "metadata": {
    "ExecuteTime": {
     "end_time": "2018-09-13T15:18:05.652112Z",
     "start_time": "2018-09-13T15:18:05.645601Z"
    }
   },
   "outputs": [
    {
     "data": {
      "text/plain": [
       "2018"
      ]
     },
     "execution_count": 10,
     "metadata": {},
     "output_type": "execute_result"
    }
   ],
   "source": [
    "datetime.now().year"
   ]
  },
  {
   "cell_type": "code",
   "execution_count": 11,
   "metadata": {
    "ExecuteTime": {
     "end_time": "2018-09-13T15:18:05.938483Z",
     "start_time": "2018-09-13T15:18:05.934419Z"
    }
   },
   "outputs": [],
   "source": [
    "def duration(starting_time):\n",
    "    duration =0\n",
    "    starting_year = starting_time.year\n",
    "    duration = datetime.now().year - starting_year + 1\n",
    "    return duration"
   ]
  },
  {
   "cell_type": "code",
   "execution_count": 12,
   "metadata": {
    "ExecuteTime": {
     "end_time": "2018-09-13T15:18:06.468806Z",
     "start_time": "2018-09-13T15:18:06.422889Z"
    }
   },
   "outputs": [],
   "source": [
    "df_listings_smaller['yrs_since_last_review'] = df_listings_smaller.last_review.apply(lambda x: duration(x))"
   ]
  },
  {
   "cell_type": "code",
   "execution_count": 13,
   "metadata": {
    "ExecuteTime": {
     "end_time": "2018-09-13T15:18:09.425273Z",
     "start_time": "2018-09-13T15:18:09.404956Z"
    }
   },
   "outputs": [
    {
     "data": {
      "text/html": [
       "<div>\n",
       "<style scoped>\n",
       "    .dataframe tbody tr th:only-of-type {\n",
       "        vertical-align: middle;\n",
       "    }\n",
       "\n",
       "    .dataframe tbody tr th {\n",
       "        vertical-align: top;\n",
       "    }\n",
       "\n",
       "    .dataframe thead th {\n",
       "        text-align: right;\n",
       "    }\n",
       "</style>\n",
       "<table border=\"1\" class=\"dataframe\">\n",
       "  <thead>\n",
       "    <tr style=\"text-align: right;\">\n",
       "      <th></th>\n",
       "      <th>id</th>\n",
       "      <th>neighbourhood</th>\n",
       "      <th>latitude</th>\n",
       "      <th>longitude</th>\n",
       "      <th>room_type</th>\n",
       "      <th>price</th>\n",
       "      <th>minimum_nights</th>\n",
       "      <th>number_of_reviews</th>\n",
       "      <th>last_review</th>\n",
       "      <th>reviews_per_month</th>\n",
       "      <th>calculated_host_listings_count</th>\n",
       "      <th>availability_365</th>\n",
       "      <th>yrs_since_last_review</th>\n",
       "    </tr>\n",
       "  </thead>\n",
       "  <tbody>\n",
       "    <tr>\n",
       "      <th>0</th>\n",
       "      <td>958</td>\n",
       "      <td>Western Addition</td>\n",
       "      <td>37.769310</td>\n",
       "      <td>-122.433856</td>\n",
       "      <td>Entire home/apt</td>\n",
       "      <td>170</td>\n",
       "      <td>1</td>\n",
       "      <td>152</td>\n",
       "      <td>2018-07-29</td>\n",
       "      <td>1.38</td>\n",
       "      <td>1</td>\n",
       "      <td>122</td>\n",
       "      <td>1.0</td>\n",
       "    </tr>\n",
       "    <tr>\n",
       "      <th>1</th>\n",
       "      <td>5858</td>\n",
       "      <td>Bernal Heights</td>\n",
       "      <td>37.745112</td>\n",
       "      <td>-122.421018</td>\n",
       "      <td>Entire home/apt</td>\n",
       "      <td>235</td>\n",
       "      <td>30</td>\n",
       "      <td>112</td>\n",
       "      <td>2017-08-06</td>\n",
       "      <td>0.99</td>\n",
       "      <td>1</td>\n",
       "      <td>365</td>\n",
       "      <td>2.0</td>\n",
       "    </tr>\n",
       "    <tr>\n",
       "      <th>2</th>\n",
       "      <td>7918</td>\n",
       "      <td>Haight Ashbury</td>\n",
       "      <td>37.766690</td>\n",
       "      <td>-122.452505</td>\n",
       "      <td>Private room</td>\n",
       "      <td>65</td>\n",
       "      <td>32</td>\n",
       "      <td>17</td>\n",
       "      <td>2016-11-21</td>\n",
       "      <td>0.16</td>\n",
       "      <td>9</td>\n",
       "      <td>365</td>\n",
       "      <td>3.0</td>\n",
       "    </tr>\n",
       "    <tr>\n",
       "      <th>3</th>\n",
       "      <td>8142</td>\n",
       "      <td>Haight Ashbury</td>\n",
       "      <td>37.764872</td>\n",
       "      <td>-122.451828</td>\n",
       "      <td>Private room</td>\n",
       "      <td>65</td>\n",
       "      <td>32</td>\n",
       "      <td>7</td>\n",
       "      <td>2017-08-12</td>\n",
       "      <td>0.15</td>\n",
       "      <td>9</td>\n",
       "      <td>328</td>\n",
       "      <td>2.0</td>\n",
       "    </tr>\n",
       "    <tr>\n",
       "      <th>4</th>\n",
       "      <td>8339</td>\n",
       "      <td>Western Addition</td>\n",
       "      <td>37.775249</td>\n",
       "      <td>-122.436374</td>\n",
       "      <td>Entire home/apt</td>\n",
       "      <td>675</td>\n",
       "      <td>7</td>\n",
       "      <td>26</td>\n",
       "      <td>2017-11-10</td>\n",
       "      <td>0.24</td>\n",
       "      <td>2</td>\n",
       "      <td>78</td>\n",
       "      <td>2.0</td>\n",
       "    </tr>\n",
       "  </tbody>\n",
       "</table>\n",
       "</div>"
      ],
      "text/plain": [
       "     id     neighbourhood   latitude   longitude        room_type  price  \\\n",
       "0   958  Western Addition  37.769310 -122.433856  Entire home/apt    170   \n",
       "1  5858    Bernal Heights  37.745112 -122.421018  Entire home/apt    235   \n",
       "2  7918    Haight Ashbury  37.766690 -122.452505     Private room     65   \n",
       "3  8142    Haight Ashbury  37.764872 -122.451828     Private room     65   \n",
       "4  8339  Western Addition  37.775249 -122.436374  Entire home/apt    675   \n",
       "\n",
       "   minimum_nights  number_of_reviews last_review  reviews_per_month  \\\n",
       "0               1                152  2018-07-29               1.38   \n",
       "1              30                112  2017-08-06               0.99   \n",
       "2              32                 17  2016-11-21               0.16   \n",
       "3              32                  7  2017-08-12               0.15   \n",
       "4               7                 26  2017-11-10               0.24   \n",
       "\n",
       "   calculated_host_listings_count  availability_365  yrs_since_last_review  \n",
       "0                               1               122                    1.0  \n",
       "1                               1               365                    2.0  \n",
       "2                               9               365                    3.0  \n",
       "3                               9               328                    2.0  \n",
       "4                               2                78                    2.0  "
      ]
     },
     "execution_count": 13,
     "metadata": {},
     "output_type": "execute_result"
    }
   ],
   "source": [
    "df_listings_smaller.head()"
   ]
  },
  {
   "cell_type": "code",
   "execution_count": 14,
   "metadata": {
    "ExecuteTime": {
     "end_time": "2018-09-13T15:18:10.011617Z",
     "start_time": "2018-09-13T15:18:10.005547Z"
    }
   },
   "outputs": [],
   "source": [
    "df_listings_smaller.drop('last_review', axis=1, inplace=True)"
   ]
  },
  {
   "cell_type": "code",
   "execution_count": 15,
   "metadata": {
    "ExecuteTime": {
     "end_time": "2018-09-13T15:18:11.951955Z",
     "start_time": "2018-09-13T15:18:11.941576Z"
    }
   },
   "outputs": [
    {
     "data": {
      "text/plain": [
       "id                                   0\n",
       "neighbourhood                        0\n",
       "latitude                             0\n",
       "longitude                            0\n",
       "room_type                            0\n",
       "price                                0\n",
       "minimum_nights                       0\n",
       "number_of_reviews                    0\n",
       "reviews_per_month                 1142\n",
       "calculated_host_listings_count       0\n",
       "availability_365                     0\n",
       "yrs_since_last_review             1142\n",
       "dtype: int64"
      ]
     },
     "execution_count": 15,
     "metadata": {},
     "output_type": "execute_result"
    }
   ],
   "source": [
    "df_listings_smaller.isnull().sum()"
   ]
  },
  {
   "cell_type": "code",
   "execution_count": 16,
   "metadata": {
    "ExecuteTime": {
     "end_time": "2018-09-13T15:18:12.217378Z",
     "start_time": "2018-09-13T15:18:12.207540Z"
    }
   },
   "outputs": [],
   "source": [
    "df_listings_smaller.dropna(inplace=True)"
   ]
  },
  {
   "cell_type": "code",
   "execution_count": 17,
   "metadata": {
    "ExecuteTime": {
     "end_time": "2018-09-13T15:18:12.447563Z",
     "start_time": "2018-09-13T15:18:12.439236Z"
    }
   },
   "outputs": [
    {
     "data": {
      "text/plain": [
       "(5491, 12)"
      ]
     },
     "execution_count": 17,
     "metadata": {},
     "output_type": "execute_result"
    }
   ],
   "source": [
    "df_listings_smaller.shape"
   ]
  },
  {
   "cell_type": "code",
   "execution_count": 18,
   "metadata": {
    "ExecuteTime": {
     "end_time": "2018-09-13T15:18:14.667330Z",
     "start_time": "2018-09-13T15:18:14.660592Z"
    }
   },
   "outputs": [
    {
     "data": {
      "text/plain": [
       "id                                  int64\n",
       "neighbourhood                      object\n",
       "latitude                          float64\n",
       "longitude                         float64\n",
       "room_type                          object\n",
       "price                               int64\n",
       "minimum_nights                      int64\n",
       "number_of_reviews                   int64\n",
       "reviews_per_month                 float64\n",
       "calculated_host_listings_count      int64\n",
       "availability_365                    int64\n",
       "yrs_since_last_review             float64\n",
       "dtype: object"
      ]
     },
     "execution_count": 18,
     "metadata": {},
     "output_type": "execute_result"
    }
   ],
   "source": [
    "df_listings_smaller.dtypes"
   ]
  },
  {
   "cell_type": "code",
   "execution_count": 19,
   "metadata": {
    "ExecuteTime": {
     "end_time": "2018-09-13T15:18:14.923557Z",
     "start_time": "2018-09-13T15:18:14.919367Z"
    }
   },
   "outputs": [],
   "source": [
    "categorical_data = ['neighbourhood', 'room_type']"
   ]
  },
  {
   "cell_type": "code",
   "execution_count": 20,
   "metadata": {
    "ExecuteTime": {
     "end_time": "2018-09-13T15:18:24.095910Z",
     "start_time": "2018-09-13T15:18:24.084390Z"
    }
   },
   "outputs": [],
   "source": [
    "df_listings_cleaned = pd.get_dummies(df_listings_smaller, prefix=categorical_data, columns=categorical_data,)"
   ]
  },
  {
   "cell_type": "code",
   "execution_count": 21,
   "metadata": {
    "ExecuteTime": {
     "end_time": "2018-09-13T15:18:24.684795Z",
     "start_time": "2018-09-13T15:18:24.677919Z"
    }
   },
   "outputs": [
    {
     "data": {
      "text/plain": [
       "Index(['id', 'latitude', 'longitude', 'price', 'minimum_nights',\n",
       "       'number_of_reviews', 'reviews_per_month',\n",
       "       'calculated_host_listings_count', 'availability_365',\n",
       "       'yrs_since_last_review', 'neighbourhood_Bayview',\n",
       "       'neighbourhood_Bernal Heights', 'neighbourhood_Castro/Upper Market',\n",
       "       'neighbourhood_Chinatown', 'neighbourhood_Crocker Amazon',\n",
       "       'neighbourhood_Diamond Heights', 'neighbourhood_Downtown/Civic Center',\n",
       "       'neighbourhood_Excelsior', 'neighbourhood_Financial District',\n",
       "       'neighbourhood_Glen Park', 'neighbourhood_Golden Gate Park',\n",
       "       'neighbourhood_Haight Ashbury', 'neighbourhood_Inner Richmond',\n",
       "       'neighbourhood_Inner Sunset', 'neighbourhood_Lakeshore',\n",
       "       'neighbourhood_Marina', 'neighbourhood_Mission',\n",
       "       'neighbourhood_Nob Hill', 'neighbourhood_Noe Valley',\n",
       "       'neighbourhood_North Beach', 'neighbourhood_Ocean View',\n",
       "       'neighbourhood_Outer Mission', 'neighbourhood_Outer Richmond',\n",
       "       'neighbourhood_Outer Sunset', 'neighbourhood_Pacific Heights',\n",
       "       'neighbourhood_Parkside', 'neighbourhood_Potrero Hill',\n",
       "       'neighbourhood_Presidio', 'neighbourhood_Presidio Heights',\n",
       "       'neighbourhood_Russian Hill', 'neighbourhood_Seacliff',\n",
       "       'neighbourhood_South of Market', 'neighbourhood_Twin Peaks',\n",
       "       'neighbourhood_Visitacion Valley', 'neighbourhood_West of Twin Peaks',\n",
       "       'neighbourhood_Western Addition', 'room_type_Entire home/apt',\n",
       "       'room_type_Private room', 'room_type_Shared room'],\n",
       "      dtype='object')"
      ]
     },
     "execution_count": 21,
     "metadata": {},
     "output_type": "execute_result"
    }
   ],
   "source": [
    "df_listings_cleaned.columns"
   ]
  },
  {
   "cell_type": "code",
   "execution_count": 22,
   "metadata": {
    "ExecuteTime": {
     "end_time": "2018-09-13T15:18:25.775838Z",
     "start_time": "2018-09-13T15:18:25.749838Z"
    }
   },
   "outputs": [
    {
     "data": {
      "text/html": [
       "<div>\n",
       "<style scoped>\n",
       "    .dataframe tbody tr th:only-of-type {\n",
       "        vertical-align: middle;\n",
       "    }\n",
       "\n",
       "    .dataframe tbody tr th {\n",
       "        vertical-align: top;\n",
       "    }\n",
       "\n",
       "    .dataframe thead th {\n",
       "        text-align: right;\n",
       "    }\n",
       "</style>\n",
       "<table border=\"1\" class=\"dataframe\">\n",
       "  <thead>\n",
       "    <tr style=\"text-align: right;\">\n",
       "      <th></th>\n",
       "      <th>id</th>\n",
       "      <th>latitude</th>\n",
       "      <th>longitude</th>\n",
       "      <th>price</th>\n",
       "      <th>minimum_nights</th>\n",
       "      <th>number_of_reviews</th>\n",
       "      <th>reviews_per_month</th>\n",
       "      <th>calculated_host_listings_count</th>\n",
       "      <th>availability_365</th>\n",
       "      <th>yrs_since_last_review</th>\n",
       "      <th>...</th>\n",
       "      <th>neighbourhood_Russian Hill</th>\n",
       "      <th>neighbourhood_Seacliff</th>\n",
       "      <th>neighbourhood_South of Market</th>\n",
       "      <th>neighbourhood_Twin Peaks</th>\n",
       "      <th>neighbourhood_Visitacion Valley</th>\n",
       "      <th>neighbourhood_West of Twin Peaks</th>\n",
       "      <th>neighbourhood_Western Addition</th>\n",
       "      <th>room_type_Entire home/apt</th>\n",
       "      <th>room_type_Private room</th>\n",
       "      <th>room_type_Shared room</th>\n",
       "    </tr>\n",
       "  </thead>\n",
       "  <tbody>\n",
       "    <tr>\n",
       "      <th>0</th>\n",
       "      <td>958</td>\n",
       "      <td>37.769310</td>\n",
       "      <td>-122.433856</td>\n",
       "      <td>170</td>\n",
       "      <td>1</td>\n",
       "      <td>152</td>\n",
       "      <td>1.38</td>\n",
       "      <td>1</td>\n",
       "      <td>122</td>\n",
       "      <td>1.0</td>\n",
       "      <td>...</td>\n",
       "      <td>0</td>\n",
       "      <td>0</td>\n",
       "      <td>0</td>\n",
       "      <td>0</td>\n",
       "      <td>0</td>\n",
       "      <td>0</td>\n",
       "      <td>1</td>\n",
       "      <td>1</td>\n",
       "      <td>0</td>\n",
       "      <td>0</td>\n",
       "    </tr>\n",
       "    <tr>\n",
       "      <th>1</th>\n",
       "      <td>5858</td>\n",
       "      <td>37.745112</td>\n",
       "      <td>-122.421018</td>\n",
       "      <td>235</td>\n",
       "      <td>30</td>\n",
       "      <td>112</td>\n",
       "      <td>0.99</td>\n",
       "      <td>1</td>\n",
       "      <td>365</td>\n",
       "      <td>2.0</td>\n",
       "      <td>...</td>\n",
       "      <td>0</td>\n",
       "      <td>0</td>\n",
       "      <td>0</td>\n",
       "      <td>0</td>\n",
       "      <td>0</td>\n",
       "      <td>0</td>\n",
       "      <td>0</td>\n",
       "      <td>1</td>\n",
       "      <td>0</td>\n",
       "      <td>0</td>\n",
       "    </tr>\n",
       "    <tr>\n",
       "      <th>2</th>\n",
       "      <td>7918</td>\n",
       "      <td>37.766690</td>\n",
       "      <td>-122.452505</td>\n",
       "      <td>65</td>\n",
       "      <td>32</td>\n",
       "      <td>17</td>\n",
       "      <td>0.16</td>\n",
       "      <td>9</td>\n",
       "      <td>365</td>\n",
       "      <td>3.0</td>\n",
       "      <td>...</td>\n",
       "      <td>0</td>\n",
       "      <td>0</td>\n",
       "      <td>0</td>\n",
       "      <td>0</td>\n",
       "      <td>0</td>\n",
       "      <td>0</td>\n",
       "      <td>0</td>\n",
       "      <td>0</td>\n",
       "      <td>1</td>\n",
       "      <td>0</td>\n",
       "    </tr>\n",
       "    <tr>\n",
       "      <th>3</th>\n",
       "      <td>8142</td>\n",
       "      <td>37.764872</td>\n",
       "      <td>-122.451828</td>\n",
       "      <td>65</td>\n",
       "      <td>32</td>\n",
       "      <td>7</td>\n",
       "      <td>0.15</td>\n",
       "      <td>9</td>\n",
       "      <td>328</td>\n",
       "      <td>2.0</td>\n",
       "      <td>...</td>\n",
       "      <td>0</td>\n",
       "      <td>0</td>\n",
       "      <td>0</td>\n",
       "      <td>0</td>\n",
       "      <td>0</td>\n",
       "      <td>0</td>\n",
       "      <td>0</td>\n",
       "      <td>0</td>\n",
       "      <td>1</td>\n",
       "      <td>0</td>\n",
       "    </tr>\n",
       "    <tr>\n",
       "      <th>4</th>\n",
       "      <td>8339</td>\n",
       "      <td>37.775249</td>\n",
       "      <td>-122.436374</td>\n",
       "      <td>675</td>\n",
       "      <td>7</td>\n",
       "      <td>26</td>\n",
       "      <td>0.24</td>\n",
       "      <td>2</td>\n",
       "      <td>78</td>\n",
       "      <td>2.0</td>\n",
       "      <td>...</td>\n",
       "      <td>0</td>\n",
       "      <td>0</td>\n",
       "      <td>0</td>\n",
       "      <td>0</td>\n",
       "      <td>0</td>\n",
       "      <td>0</td>\n",
       "      <td>1</td>\n",
       "      <td>1</td>\n",
       "      <td>0</td>\n",
       "      <td>0</td>\n",
       "    </tr>\n",
       "  </tbody>\n",
       "</table>\n",
       "<p>5 rows × 49 columns</p>\n",
       "</div>"
      ],
      "text/plain": [
       "     id   latitude   longitude  price  minimum_nights  number_of_reviews  \\\n",
       "0   958  37.769310 -122.433856    170               1                152   \n",
       "1  5858  37.745112 -122.421018    235              30                112   \n",
       "2  7918  37.766690 -122.452505     65              32                 17   \n",
       "3  8142  37.764872 -122.451828     65              32                  7   \n",
       "4  8339  37.775249 -122.436374    675               7                 26   \n",
       "\n",
       "   reviews_per_month  calculated_host_listings_count  availability_365  \\\n",
       "0               1.38                               1               122   \n",
       "1               0.99                               1               365   \n",
       "2               0.16                               9               365   \n",
       "3               0.15                               9               328   \n",
       "4               0.24                               2                78   \n",
       "\n",
       "   yrs_since_last_review          ...            neighbourhood_Russian Hill  \\\n",
       "0                    1.0          ...                                     0   \n",
       "1                    2.0          ...                                     0   \n",
       "2                    3.0          ...                                     0   \n",
       "3                    2.0          ...                                     0   \n",
       "4                    2.0          ...                                     0   \n",
       "\n",
       "   neighbourhood_Seacliff  neighbourhood_South of Market  \\\n",
       "0                       0                              0   \n",
       "1                       0                              0   \n",
       "2                       0                              0   \n",
       "3                       0                              0   \n",
       "4                       0                              0   \n",
       "\n",
       "   neighbourhood_Twin Peaks  neighbourhood_Visitacion Valley  \\\n",
       "0                         0                                0   \n",
       "1                         0                                0   \n",
       "2                         0                                0   \n",
       "3                         0                                0   \n",
       "4                         0                                0   \n",
       "\n",
       "   neighbourhood_West of Twin Peaks  neighbourhood_Western Addition  \\\n",
       "0                                 0                               1   \n",
       "1                                 0                               0   \n",
       "2                                 0                               0   \n",
       "3                                 0                               0   \n",
       "4                                 0                               1   \n",
       "\n",
       "   room_type_Entire home/apt  room_type_Private room  room_type_Shared room  \n",
       "0                          1                       0                      0  \n",
       "1                          1                       0                      0  \n",
       "2                          0                       1                      0  \n",
       "3                          0                       1                      0  \n",
       "4                          1                       0                      0  \n",
       "\n",
       "[5 rows x 49 columns]"
      ]
     },
     "execution_count": 22,
     "metadata": {},
     "output_type": "execute_result"
    }
   ],
   "source": [
    "df_listings_cleaned.head()"
   ]
  },
  {
   "cell_type": "code",
   "execution_count": 23,
   "metadata": {
    "ExecuteTime": {
     "end_time": "2018-09-13T15:18:29.499565Z",
     "start_time": "2018-09-13T15:18:29.429763Z"
    }
   },
   "outputs": [],
   "source": [
    "# Create correlation matrix\n",
    "corr_matrix = df_listings_cleaned.corr().abs()\n",
    "\n",
    "# Select upper triangle of correlation matrix\n",
    "upper = corr_matrix.where(np.triu(np.ones(corr_matrix.shape), k=1).astype(np.bool))\n",
    "\n",
    "# Find index of feature columns with correlation greater than 0.95\n",
    "to_drop = [column for column in upper.columns if any(upper[column] > 0.95)]"
   ]
  },
  {
   "cell_type": "code",
   "execution_count": 24,
   "metadata": {
    "ExecuteTime": {
     "end_time": "2018-09-13T15:18:32.243890Z",
     "start_time": "2018-09-13T15:18:32.238746Z"
    }
   },
   "outputs": [
    {
     "data": {
      "text/plain": [
       "['room_type_Private room']"
      ]
     },
     "execution_count": 24,
     "metadata": {},
     "output_type": "execute_result"
    }
   ],
   "source": [
    "to_drop"
   ]
  },
  {
   "cell_type": "code",
   "execution_count": 26,
   "metadata": {
    "ExecuteTime": {
     "end_time": "2018-09-13T15:18:51.653688Z",
     "start_time": "2018-09-13T15:18:51.648360Z"
    }
   },
   "outputs": [],
   "source": [
    "# Drop features \n",
    "df_listings_cleaned.drop(to_drop, axis=1, inplace=True)"
   ]
  },
  {
   "cell_type": "code",
   "execution_count": 27,
   "metadata": {
    "ExecuteTime": {
     "end_time": "2018-09-13T15:18:57.375555Z",
     "start_time": "2018-09-13T15:18:57.367790Z"
    }
   },
   "outputs": [
    {
     "data": {
      "text/plain": [
       "Index(['id', 'latitude', 'longitude', 'price', 'minimum_nights',\n",
       "       'number_of_reviews', 'reviews_per_month',\n",
       "       'calculated_host_listings_count', 'availability_365',\n",
       "       'yrs_since_last_review', 'neighbourhood_Bayview',\n",
       "       'neighbourhood_Bernal Heights', 'neighbourhood_Castro/Upper Market',\n",
       "       'neighbourhood_Chinatown', 'neighbourhood_Crocker Amazon',\n",
       "       'neighbourhood_Diamond Heights', 'neighbourhood_Downtown/Civic Center',\n",
       "       'neighbourhood_Excelsior', 'neighbourhood_Financial District',\n",
       "       'neighbourhood_Glen Park', 'neighbourhood_Golden Gate Park',\n",
       "       'neighbourhood_Haight Ashbury', 'neighbourhood_Inner Richmond',\n",
       "       'neighbourhood_Inner Sunset', 'neighbourhood_Lakeshore',\n",
       "       'neighbourhood_Marina', 'neighbourhood_Mission',\n",
       "       'neighbourhood_Nob Hill', 'neighbourhood_Noe Valley',\n",
       "       'neighbourhood_North Beach', 'neighbourhood_Ocean View',\n",
       "       'neighbourhood_Outer Mission', 'neighbourhood_Outer Richmond',\n",
       "       'neighbourhood_Outer Sunset', 'neighbourhood_Pacific Heights',\n",
       "       'neighbourhood_Parkside', 'neighbourhood_Potrero Hill',\n",
       "       'neighbourhood_Presidio', 'neighbourhood_Presidio Heights',\n",
       "       'neighbourhood_Russian Hill', 'neighbourhood_Seacliff',\n",
       "       'neighbourhood_South of Market', 'neighbourhood_Twin Peaks',\n",
       "       'neighbourhood_Visitacion Valley', 'neighbourhood_West of Twin Peaks',\n",
       "       'neighbourhood_Western Addition', 'room_type_Entire home/apt',\n",
       "       'room_type_Shared room'],\n",
       "      dtype='object')"
      ]
     },
     "execution_count": 27,
     "metadata": {},
     "output_type": "execute_result"
    }
   ],
   "source": [
    "df_listings_cleaned.columns"
   ]
  },
  {
   "cell_type": "code",
   "execution_count": 71,
   "metadata": {
    "ExecuteTime": {
     "end_time": "2018-09-13T17:38:26.768123Z",
     "start_time": "2018-09-13T17:38:26.764399Z"
    }
   },
   "outputs": [],
   "source": [
    "test=['id', 'latitude', 'longitude', 'price']"
   ]
  },
  {
   "cell_type": "code",
   "execution_count": 72,
   "metadata": {
    "ExecuteTime": {
     "end_time": "2018-09-13T17:38:27.634474Z",
     "start_time": "2018-09-13T17:38:27.628394Z"
    }
   },
   "outputs": [],
   "source": [
    "X = df_listings_cleaned.drop(test, axis=1)\n",
    "y = df_listings_cleaned['price']"
   ]
  },
  {
   "cell_type": "code",
   "execution_count": 73,
   "metadata": {
    "ExecuteTime": {
     "end_time": "2018-09-13T17:38:28.469174Z",
     "start_time": "2018-09-13T17:38:28.459665Z"
    }
   },
   "outputs": [],
   "source": [
    "X_train, X_test, y_train, y_test = train_test_split(X, y, test_size=0.3, random_state=42)"
   ]
  },
  {
   "cell_type": "code",
   "execution_count": 74,
   "metadata": {
    "ExecuteTime": {
     "end_time": "2018-09-13T17:38:29.301161Z",
     "start_time": "2018-09-13T17:38:29.288823Z"
    }
   },
   "outputs": [],
   "source": [
    "ss = StandardScaler()\n",
    "X_train_trans = ss.fit_transform(X_train)\n",
    "X_test_trans = ss.transform(X_test)"
   ]
  },
  {
   "cell_type": "code",
   "execution_count": 75,
   "metadata": {
    "ExecuteTime": {
     "end_time": "2018-09-13T17:38:30.090857Z",
     "start_time": "2018-09-13T17:38:30.077035Z"
    }
   },
   "outputs": [
    {
     "data": {
      "text/plain": [
       "LinearRegression(copy_X=True, fit_intercept=True, n_jobs=1, normalize=False)"
      ]
     },
     "execution_count": 75,
     "metadata": {},
     "output_type": "execute_result"
    }
   ],
   "source": [
    "lm = linear_model.LinearRegression()\n",
    "lm.fit(X_train_trans, y_train)"
   ]
  },
  {
   "cell_type": "code",
   "execution_count": 76,
   "metadata": {
    "ExecuteTime": {
     "end_time": "2018-09-13T17:38:30.883225Z",
     "start_time": "2018-09-13T17:38:30.876079Z"
    }
   },
   "outputs": [
    {
     "data": {
      "text/plain": [
       "0.15315145685105247"
      ]
     },
     "execution_count": 76,
     "metadata": {},
     "output_type": "execute_result"
    }
   ],
   "source": [
    "lm.score(X_test_trans, y_test)"
   ]
  },
  {
   "cell_type": "code",
   "execution_count": 77,
   "metadata": {
    "ExecuteTime": {
     "end_time": "2018-09-13T17:38:31.753100Z",
     "start_time": "2018-09-13T17:38:31.673621Z"
    }
   },
   "outputs": [
    {
     "data": {
      "text/html": [
       "<table class=\"simpletable\">\n",
       "<caption>OLS Regression Results</caption>\n",
       "<tr>\n",
       "  <th>Dep. Variable:</th>          <td>price</td>      <th>  R-squared:         </th> <td>   0.086</td> \n",
       "</tr>\n",
       "<tr>\n",
       "  <th>Model:</th>                   <td>OLS</td>       <th>  Adj. R-squared:    </th> <td>   0.076</td> \n",
       "</tr>\n",
       "<tr>\n",
       "  <th>Method:</th>             <td>Least Squares</td>  <th>  F-statistic:       </th> <td>   8.492</td> \n",
       "</tr>\n",
       "<tr>\n",
       "  <th>Date:</th>             <td>Thu, 13 Sep 2018</td> <th>  Prob (F-statistic):</th> <td>8.58e-49</td> \n",
       "</tr>\n",
       "<tr>\n",
       "  <th>Time:</th>                 <td>10:38:31</td>     <th>  Log-Likelihood:    </th> <td> -27363.</td> \n",
       "</tr>\n",
       "<tr>\n",
       "  <th>No. Observations:</th>      <td>  3843</td>      <th>  AIC:               </th> <td>5.481e+04</td>\n",
       "</tr>\n",
       "<tr>\n",
       "  <th>Df Residuals:</th>          <td>  3800</td>      <th>  BIC:               </th> <td>5.508e+04</td>\n",
       "</tr>\n",
       "<tr>\n",
       "  <th>Df Model:</th>              <td>    42</td>      <th>                     </th>     <td> </td>    \n",
       "</tr>\n",
       "<tr>\n",
       "  <th>Covariance Type:</th>      <td>nonrobust</td>    <th>                     </th>     <td> </td>    \n",
       "</tr>\n",
       "</table>\n",
       "<table class=\"simpletable\">\n",
       "<tr>\n",
       "    <td></td>       <th>coef</th>     <th>std err</th>      <th>t</th>      <th>P>|t|</th>  <th>[0.025</th>    <th>0.975]</th>  \n",
       "</tr>\n",
       "<tr>\n",
       "  <th>const</th> <td>  209.0874</td> <td>    4.854</td> <td>   43.071</td> <td> 0.000</td> <td>  199.570</td> <td>  218.605</td>\n",
       "</tr>\n",
       "<tr>\n",
       "  <th>x1</th>    <td>   -2.2048</td> <td>    4.871</td> <td>   -0.453</td> <td> 0.651</td> <td>  -11.754</td> <td>    7.344</td>\n",
       "</tr>\n",
       "<tr>\n",
       "  <th>x2</th>    <td>  -15.7446</td> <td>    6.349</td> <td>   -2.480</td> <td> 0.013</td> <td>  -28.192</td> <td>   -3.297</td>\n",
       "</tr>\n",
       "<tr>\n",
       "  <th>x3</th>    <td>  -12.9162</td> <td>    6.725</td> <td>   -1.921</td> <td> 0.055</td> <td>  -26.102</td> <td>    0.269</td>\n",
       "</tr>\n",
       "<tr>\n",
       "  <th>x4</th>    <td>  -21.4462</td> <td>    5.316</td> <td>   -4.034</td> <td> 0.000</td> <td>  -31.868</td> <td>  -11.024</td>\n",
       "</tr>\n",
       "<tr>\n",
       "  <th>x5</th>    <td>  -10.3098</td> <td>    5.121</td> <td>   -2.013</td> <td> 0.044</td> <td>  -20.351</td> <td>   -0.269</td>\n",
       "</tr>\n",
       "<tr>\n",
       "  <th>x6</th>    <td>    3.8634</td> <td>    5.149</td> <td>    0.750</td> <td> 0.453</td> <td>   -6.232</td> <td>   13.959</td>\n",
       "</tr>\n",
       "<tr>\n",
       "  <th>x7</th>    <td>  -10.1639</td> <td>    4.787</td> <td>   -2.123</td> <td> 0.034</td> <td>  -19.550</td> <td>   -0.778</td>\n",
       "</tr>\n",
       "<tr>\n",
       "  <th>x8</th>    <td>  -11.9507</td> <td>    4.571</td> <td>   -2.614</td> <td> 0.009</td> <td>  -20.913</td> <td>   -2.988</td>\n",
       "</tr>\n",
       "<tr>\n",
       "  <th>x9</th>    <td>    3.4858</td> <td>    4.573</td> <td>    0.762</td> <td> 0.446</td> <td>   -5.481</td> <td>   12.453</td>\n",
       "</tr>\n",
       "<tr>\n",
       "  <th>x10</th>   <td>   -2.1459</td> <td>    4.871</td> <td>   -0.440</td> <td> 0.660</td> <td>  -11.697</td> <td>    7.405</td>\n",
       "</tr>\n",
       "<tr>\n",
       "  <th>x11</th>   <td>   -5.0335</td> <td>    4.836</td> <td>   -1.041</td> <td> 0.298</td> <td>  -14.516</td> <td>    4.449</td>\n",
       "</tr>\n",
       "<tr>\n",
       "  <th>x12</th>   <td>    1.8918</td> <td>    4.839</td> <td>    0.391</td> <td> 0.696</td> <td>   -7.596</td> <td>   11.380</td>\n",
       "</tr>\n",
       "<tr>\n",
       "  <th>x13</th>   <td>   -5.4802</td> <td>    4.740</td> <td>   -1.156</td> <td> 0.248</td> <td>  -14.773</td> <td>    3.813</td>\n",
       "</tr>\n",
       "<tr>\n",
       "  <th>x14</th>   <td>  -11.9705</td> <td>    4.761</td> <td>   -2.515</td> <td> 0.012</td> <td>  -21.304</td> <td>   -2.637</td>\n",
       "</tr>\n",
       "<tr>\n",
       "  <th>x15</th>   <td>    2.3061</td> <td>    4.844</td> <td>    0.476</td> <td> 0.634</td> <td>   -7.191</td> <td>   11.803</td>\n",
       "</tr>\n",
       "<tr>\n",
       "  <th>x16</th>   <td>   -2.2985</td> <td>    4.815</td> <td>   -0.477</td> <td> 0.633</td> <td>  -11.739</td> <td>    7.142</td>\n",
       "</tr>\n",
       "<tr>\n",
       "  <th>x17</th>   <td>    2.8567</td> <td>    4.851</td> <td>    0.589</td> <td> 0.556</td> <td>   -6.653</td> <td>   12.367</td>\n",
       "</tr>\n",
       "<tr>\n",
       "  <th>x18</th>   <td>   -1.5141</td> <td>    4.653</td> <td>   -0.325</td> <td> 0.745</td> <td>  -10.637</td> <td>    7.609</td>\n",
       "</tr>\n",
       "<tr>\n",
       "  <th>x19</th>   <td>   -3.2981</td> <td>    4.695</td> <td>   -0.702</td> <td> 0.482</td> <td>  -12.504</td> <td>    5.908</td>\n",
       "</tr>\n",
       "<tr>\n",
       "  <th>x20</th>   <td>   -4.5981</td> <td>    4.766</td> <td>   -0.965</td> <td> 0.335</td> <td>  -13.942</td> <td>    4.746</td>\n",
       "</tr>\n",
       "<tr>\n",
       "  <th>x21</th>   <td>   -4.5731</td> <td>    4.874</td> <td>   -0.938</td> <td> 0.348</td> <td>  -14.129</td> <td>    4.983</td>\n",
       "</tr>\n",
       "<tr>\n",
       "  <th>x22</th>   <td>   11.0338</td> <td>    4.746</td> <td>    2.325</td> <td> 0.020</td> <td>    1.730</td> <td>   20.338</td>\n",
       "</tr>\n",
       "<tr>\n",
       "  <th>x23</th>   <td>   -3.1676</td> <td>    4.375</td> <td>   -0.724</td> <td> 0.469</td> <td>  -11.746</td> <td>    5.411</td>\n",
       "</tr>\n",
       "<tr>\n",
       "  <th>x24</th>   <td>   10.9702</td> <td>    4.754</td> <td>    2.307</td> <td> 0.021</td> <td>    1.649</td> <td>   20.291</td>\n",
       "</tr>\n",
       "<tr>\n",
       "  <th>x25</th>   <td>    5.1812</td> <td>    4.646</td> <td>    1.115</td> <td> 0.265</td> <td>   -3.928</td> <td>   14.290</td>\n",
       "</tr>\n",
       "<tr>\n",
       "  <th>x26</th>   <td>   -2.0063</td> <td>    4.763</td> <td>   -0.421</td> <td> 0.674</td> <td>  -11.345</td> <td>    7.332</td>\n",
       "</tr>\n",
       "<tr>\n",
       "  <th>x27</th>   <td>   -7.8580</td> <td>    4.810</td> <td>   -1.634</td> <td> 0.102</td> <td>  -17.289</td> <td>    1.573</td>\n",
       "</tr>\n",
       "<tr>\n",
       "  <th>x28</th>   <td>   -6.0513</td> <td>    4.742</td> <td>   -1.276</td> <td> 0.202</td> <td>  -15.349</td> <td>    3.246</td>\n",
       "</tr>\n",
       "<tr>\n",
       "  <th>x29</th>   <td>   -4.6112</td> <td>    4.778</td> <td>   -0.965</td> <td> 0.335</td> <td>  -13.979</td> <td>    4.757</td>\n",
       "</tr>\n",
       "<tr>\n",
       "  <th>x30</th>   <td>  -10.0347</td> <td>    4.726</td> <td>   -2.123</td> <td> 0.034</td> <td>  -19.300</td> <td>   -0.769</td>\n",
       "</tr>\n",
       "<tr>\n",
       "  <th>x31</th>   <td>    7.2439</td> <td>    4.746</td> <td>    1.526</td> <td> 0.127</td> <td>   -2.061</td> <td>   16.549</td>\n",
       "</tr>\n",
       "<tr>\n",
       "  <th>x32</th>   <td>    7.2609</td> <td>    4.776</td> <td>    1.520</td> <td> 0.129</td> <td>   -2.103</td> <td>   16.625</td>\n",
       "</tr>\n",
       "<tr>\n",
       "  <th>x33</th>   <td>    1.7991</td> <td>    4.712</td> <td>    0.382</td> <td> 0.703</td> <td>   -7.440</td> <td>   11.038</td>\n",
       "</tr>\n",
       "<tr>\n",
       "  <th>x34</th>   <td> 2.461e-15</td> <td> 1.62e-15</td> <td>    1.519</td> <td> 0.129</td> <td>-7.16e-16</td> <td> 5.64e-15</td>\n",
       "</tr>\n",
       "<tr>\n",
       "  <th>x35</th>   <td>   12.5846</td> <td>    4.838</td> <td>    2.601</td> <td> 0.009</td> <td>    3.099</td> <td>   22.071</td>\n",
       "</tr>\n",
       "<tr>\n",
       "  <th>x36</th>   <td>   11.2972</td> <td>    4.761</td> <td>    2.373</td> <td> 0.018</td> <td>    1.963</td> <td>   20.631</td>\n",
       "</tr>\n",
       "<tr>\n",
       "  <th>x37</th>   <td>   18.4052</td> <td>    4.842</td> <td>    3.801</td> <td> 0.000</td> <td>    8.911</td> <td>   27.899</td>\n",
       "</tr>\n",
       "<tr>\n",
       "  <th>x38</th>   <td>    2.7557</td> <td>    4.740</td> <td>    0.581</td> <td> 0.561</td> <td>   -6.537</td> <td>   12.048</td>\n",
       "</tr>\n",
       "<tr>\n",
       "  <th>x39</th>   <td>   -2.1196</td> <td>    4.807</td> <td>   -0.441</td> <td> 0.659</td> <td>  -11.545</td> <td>    7.306</td>\n",
       "</tr>\n",
       "<tr>\n",
       "  <th>x40</th>   <td>   -6.3243</td> <td>    4.841</td> <td>   -1.306</td> <td> 0.192</td> <td>  -15.816</td> <td>    3.168</td>\n",
       "</tr>\n",
       "<tr>\n",
       "  <th>x41</th>   <td>   -3.2422</td> <td>    4.780</td> <td>   -0.678</td> <td> 0.498</td> <td>  -12.614</td> <td>    6.130</td>\n",
       "</tr>\n",
       "<tr>\n",
       "  <th>x42</th>   <td>   18.4031</td> <td>    4.498</td> <td>    4.091</td> <td> 0.000</td> <td>    9.584</td> <td>   27.222</td>\n",
       "</tr>\n",
       "<tr>\n",
       "  <th>x43</th>   <td>   60.0275</td> <td>    5.144</td> <td>   11.670</td> <td> 0.000</td> <td>   49.943</td> <td>   70.112</td>\n",
       "</tr>\n",
       "<tr>\n",
       "  <th>x44</th>   <td>   -8.8367</td> <td>    5.175</td> <td>   -1.707</td> <td> 0.088</td> <td>  -18.984</td> <td>    1.310</td>\n",
       "</tr>\n",
       "</table>\n",
       "<table class=\"simpletable\">\n",
       "<tr>\n",
       "  <th>Omnibus:</th>       <td>8601.895</td> <th>  Durbin-Watson:     </th>   <td>   2.019</td>  \n",
       "</tr>\n",
       "<tr>\n",
       "  <th>Prob(Omnibus):</th>  <td> 0.000</td>  <th>  Jarque-Bera (JB):  </th> <td>55205877.458</td>\n",
       "</tr>\n",
       "<tr>\n",
       "  <th>Skew:</th>           <td>20.652</td>  <th>  Prob(JB):          </th>   <td>    0.00</td>  \n",
       "</tr>\n",
       "<tr>\n",
       "  <th>Kurtosis:</th>       <td>588.714</td> <th>  Cond. No.          </th>   <td>2.01e+16</td>  \n",
       "</tr>\n",
       "</table><br/><br/>Warnings:<br/>[1] Standard Errors assume that the covariance matrix of the errors is correctly specified.<br/>[2] The smallest eigenvalue is  2e-29. This might indicate that there are<br/>strong multicollinearity problems or that the design matrix is singular."
      ],
      "text/plain": [
       "<class 'statsmodels.iolib.summary.Summary'>\n",
       "\"\"\"\n",
       "                            OLS Regression Results                            \n",
       "==============================================================================\n",
       "Dep. Variable:                  price   R-squared:                       0.086\n",
       "Model:                            OLS   Adj. R-squared:                  0.076\n",
       "Method:                 Least Squares   F-statistic:                     8.492\n",
       "Date:                Thu, 13 Sep 2018   Prob (F-statistic):           8.58e-49\n",
       "Time:                        10:38:31   Log-Likelihood:                -27363.\n",
       "No. Observations:                3843   AIC:                         5.481e+04\n",
       "Df Residuals:                    3800   BIC:                         5.508e+04\n",
       "Df Model:                          42                                         \n",
       "Covariance Type:            nonrobust                                         \n",
       "==============================================================================\n",
       "                 coef    std err          t      P>|t|      [0.025      0.975]\n",
       "------------------------------------------------------------------------------\n",
       "const        209.0874      4.854     43.071      0.000     199.570     218.605\n",
       "x1            -2.2048      4.871     -0.453      0.651     -11.754       7.344\n",
       "x2           -15.7446      6.349     -2.480      0.013     -28.192      -3.297\n",
       "x3           -12.9162      6.725     -1.921      0.055     -26.102       0.269\n",
       "x4           -21.4462      5.316     -4.034      0.000     -31.868     -11.024\n",
       "x5           -10.3098      5.121     -2.013      0.044     -20.351      -0.269\n",
       "x6             3.8634      5.149      0.750      0.453      -6.232      13.959\n",
       "x7           -10.1639      4.787     -2.123      0.034     -19.550      -0.778\n",
       "x8           -11.9507      4.571     -2.614      0.009     -20.913      -2.988\n",
       "x9             3.4858      4.573      0.762      0.446      -5.481      12.453\n",
       "x10           -2.1459      4.871     -0.440      0.660     -11.697       7.405\n",
       "x11           -5.0335      4.836     -1.041      0.298     -14.516       4.449\n",
       "x12            1.8918      4.839      0.391      0.696      -7.596      11.380\n",
       "x13           -5.4802      4.740     -1.156      0.248     -14.773       3.813\n",
       "x14          -11.9705      4.761     -2.515      0.012     -21.304      -2.637\n",
       "x15            2.3061      4.844      0.476      0.634      -7.191      11.803\n",
       "x16           -2.2985      4.815     -0.477      0.633     -11.739       7.142\n",
       "x17            2.8567      4.851      0.589      0.556      -6.653      12.367\n",
       "x18           -1.5141      4.653     -0.325      0.745     -10.637       7.609\n",
       "x19           -3.2981      4.695     -0.702      0.482     -12.504       5.908\n",
       "x20           -4.5981      4.766     -0.965      0.335     -13.942       4.746\n",
       "x21           -4.5731      4.874     -0.938      0.348     -14.129       4.983\n",
       "x22           11.0338      4.746      2.325      0.020       1.730      20.338\n",
       "x23           -3.1676      4.375     -0.724      0.469     -11.746       5.411\n",
       "x24           10.9702      4.754      2.307      0.021       1.649      20.291\n",
       "x25            5.1812      4.646      1.115      0.265      -3.928      14.290\n",
       "x26           -2.0063      4.763     -0.421      0.674     -11.345       7.332\n",
       "x27           -7.8580      4.810     -1.634      0.102     -17.289       1.573\n",
       "x28           -6.0513      4.742     -1.276      0.202     -15.349       3.246\n",
       "x29           -4.6112      4.778     -0.965      0.335     -13.979       4.757\n",
       "x30          -10.0347      4.726     -2.123      0.034     -19.300      -0.769\n",
       "x31            7.2439      4.746      1.526      0.127      -2.061      16.549\n",
       "x32            7.2609      4.776      1.520      0.129      -2.103      16.625\n",
       "x33            1.7991      4.712      0.382      0.703      -7.440      11.038\n",
       "x34         2.461e-15   1.62e-15      1.519      0.129   -7.16e-16    5.64e-15\n",
       "x35           12.5846      4.838      2.601      0.009       3.099      22.071\n",
       "x36           11.2972      4.761      2.373      0.018       1.963      20.631\n",
       "x37           18.4052      4.842      3.801      0.000       8.911      27.899\n",
       "x38            2.7557      4.740      0.581      0.561      -6.537      12.048\n",
       "x39           -2.1196      4.807     -0.441      0.659     -11.545       7.306\n",
       "x40           -6.3243      4.841     -1.306      0.192     -15.816       3.168\n",
       "x41           -3.2422      4.780     -0.678      0.498     -12.614       6.130\n",
       "x42           18.4031      4.498      4.091      0.000       9.584      27.222\n",
       "x43           60.0275      5.144     11.670      0.000      49.943      70.112\n",
       "x44           -8.8367      5.175     -1.707      0.088     -18.984       1.310\n",
       "==============================================================================\n",
       "Omnibus:                     8601.895   Durbin-Watson:                   2.019\n",
       "Prob(Omnibus):                  0.000   Jarque-Bera (JB):         55205877.458\n",
       "Skew:                          20.652   Prob(JB):                         0.00\n",
       "Kurtosis:                     588.714   Cond. No.                     2.01e+16\n",
       "==============================================================================\n",
       "\n",
       "Warnings:\n",
       "[1] Standard Errors assume that the covariance matrix of the errors is correctly specified.\n",
       "[2] The smallest eigenvalue is  2e-29. This might indicate that there are\n",
       "strong multicollinearity problems or that the design matrix is singular.\n",
       "\"\"\""
      ]
     },
     "execution_count": 77,
     "metadata": {},
     "output_type": "execute_result"
    }
   ],
   "source": [
    "model=sm.OLS(y_train, sm.add_constant(X_train_trans))\n",
    "fit=model.fit()\n",
    "fit.summary()"
   ]
  },
  {
   "cell_type": "code",
   "execution_count": null,
   "metadata": {},
   "outputs": [],
   "source": []
  }
 ],
 "metadata": {
  "kernelspec": {
   "display_name": "Python 3",
   "language": "python",
   "name": "python3"
  },
  "language_info": {
   "codemirror_mode": {
    "name": "ipython",
    "version": 3
   },
   "file_extension": ".py",
   "mimetype": "text/x-python",
   "name": "python",
   "nbconvert_exporter": "python",
   "pygments_lexer": "ipython3",
   "version": "3.6.6"
  },
  "varInspector": {
   "cols": {
    "lenName": 16,
    "lenType": 16,
    "lenVar": 40
   },
   "kernels_config": {
    "python": {
     "delete_cmd_postfix": "",
     "delete_cmd_prefix": "del ",
     "library": "var_list.py",
     "varRefreshCmd": "print(var_dic_list())"
    },
    "r": {
     "delete_cmd_postfix": ") ",
     "delete_cmd_prefix": "rm(",
     "library": "var_list.r",
     "varRefreshCmd": "cat(var_dic_list()) "
    }
   },
   "types_to_exclude": [
    "module",
    "function",
    "builtin_function_or_method",
    "instance",
    "_Feature"
   ],
   "window_display": false
  }
 },
 "nbformat": 4,
 "nbformat_minor": 2
}
