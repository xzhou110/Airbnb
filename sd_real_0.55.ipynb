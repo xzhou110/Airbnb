{
 "cells": [
  {
   "cell_type": "code",
   "execution_count": 1,
   "metadata": {
    "ExecuteTime": {
     "end_time": "2018-09-13T18:50:17.469906Z",
     "start_time": "2018-09-13T18:50:14.923168Z"
    }
   },
   "outputs": [],
   "source": [
    "import pandas as pd\n",
    "import csv\n",
    "import statsmodels.api as sm\n",
    "from datetime import datetime\n",
    "import matplotlib.pyplot as plt\n",
    "import numpy as np\n",
    "from sklearn import datasets, linear_model\n",
    "from sklearn.metrics import mean_squared_error, r2_score\n",
    "from sklearn.preprocessing import StandardScaler\n",
    "from sklearn.model_selection import train_test_split"
   ]
  },
  {
   "cell_type": "code",
   "execution_count": 2,
   "metadata": {
    "ExecuteTime": {
     "end_time": "2018-09-13T18:50:17.480594Z",
     "start_time": "2018-09-13T18:50:17.473476Z"
    }
   },
   "outputs": [],
   "source": [
    "file_url = '/Users/xzhou/github/project_archives/files_airbnb/sd_airbnb/{}.csv'\n",
    "\n",
    "listings_file = file_url.format('listings_details')\n",
    "reviews_file = file_url.format('reviews_details')\n",
    "calendar_file = file_url.format('calendar_details')"
   ]
  },
  {
   "cell_type": "code",
   "execution_count": 3,
   "metadata": {
    "ExecuteTime": {
     "end_time": "2018-09-13T18:50:18.790890Z",
     "start_time": "2018-09-13T18:50:17.489285Z"
    }
   },
   "outputs": [],
   "source": [
    "listings = pd.read_csv(listings_file, parse_dates=['last_scraped','host_since', 'first_review', 'last_review'])"
   ]
  },
  {
   "cell_type": "code",
   "execution_count": 4,
   "metadata": {
    "ExecuteTime": {
     "end_time": "2018-09-13T18:50:18.804299Z",
     "start_time": "2018-09-13T18:50:18.794773Z"
    }
   },
   "outputs": [
    {
     "data": {
      "text/plain": [
       "array(['id', 'listing_url', 'scrape_id', 'last_scraped', 'name',\n",
       "       'summary', 'space', 'description', 'experiences_offered',\n",
       "       'neighborhood_overview', 'notes', 'transit', 'access',\n",
       "       'interaction', 'house_rules', 'thumbnail_url', 'medium_url',\n",
       "       'picture_url', 'xl_picture_url', 'host_id', 'host_url',\n",
       "       'host_name', 'host_since', 'host_location', 'host_about',\n",
       "       'host_response_time', 'host_response_rate', 'host_acceptance_rate',\n",
       "       'host_is_superhost', 'host_thumbnail_url', 'host_picture_url',\n",
       "       'host_neighbourhood', 'host_listings_count',\n",
       "       'host_total_listings_count', 'host_verifications',\n",
       "       'host_has_profile_pic', 'host_identity_verified', 'street',\n",
       "       'neighbourhood', 'neighbourhood_cleansed',\n",
       "       'neighbourhood_group_cleansed', 'city', 'state', 'zipcode',\n",
       "       'market', 'smart_location', 'country_code', 'country', 'latitude',\n",
       "       'longitude', 'is_location_exact', 'property_type', 'room_type',\n",
       "       'accommodates', 'bathrooms', 'bedrooms', 'beds', 'bed_type',\n",
       "       'amenities', 'square_feet', 'price', 'weekly_price',\n",
       "       'monthly_price', 'security_deposit', 'cleaning_fee',\n",
       "       'guests_included', 'extra_people', 'minimum_nights',\n",
       "       'maximum_nights', 'calendar_updated', 'has_availability',\n",
       "       'availability_30', 'availability_60', 'availability_90',\n",
       "       'availability_365', 'calendar_last_scraped', 'number_of_reviews',\n",
       "       'first_review', 'last_review', 'review_scores_rating',\n",
       "       'review_scores_accuracy', 'review_scores_cleanliness',\n",
       "       'review_scores_checkin', 'review_scores_communication',\n",
       "       'review_scores_location', 'review_scores_value',\n",
       "       'requires_license', 'license', 'jurisdiction_names',\n",
       "       'instant_bookable', 'is_business_travel_ready',\n",
       "       'cancellation_policy', 'require_guest_profile_picture',\n",
       "       'require_guest_phone_verification',\n",
       "       'calculated_host_listings_count', 'reviews_per_month'],\n",
       "      dtype=object)"
      ]
     },
     "execution_count": 4,
     "metadata": {},
     "output_type": "execute_result"
    }
   ],
   "source": [
    "listings.columns.values"
   ]
  },
  {
   "cell_type": "code",
   "execution_count": 5,
   "metadata": {
    "ExecuteTime": {
     "end_time": "2018-09-13T18:50:18.819666Z",
     "start_time": "2018-09-13T18:50:18.807513Z"
    }
   },
   "outputs": [],
   "source": [
    "df = listings[[\"host_response_rate\", \"host_acceptance_rate\", \"host_is_superhost\",\n",
    "               \"host_listings_count\", \"zipcode\", \"property_type\",\"room_type\", \"accommodates\", \"bathrooms\", \"bedrooms\", \n",
    "               \"beds\", \"price\", \"number_of_reviews\", \"review_scores_rating\", \"cancellation_policy\", \n",
    "               \"reviews_per_month\"]]"
   ]
  },
  {
   "cell_type": "code",
   "execution_count": 6,
   "metadata": {
    "ExecuteTime": {
     "end_time": "2018-09-13T18:50:18.863807Z",
     "start_time": "2018-09-13T18:50:18.822261Z"
    }
   },
   "outputs": [
    {
     "data": {
      "text/html": [
       "<div>\n",
       "<style scoped>\n",
       "    .dataframe tbody tr th:only-of-type {\n",
       "        vertical-align: middle;\n",
       "    }\n",
       "\n",
       "    .dataframe tbody tr th {\n",
       "        vertical-align: top;\n",
       "    }\n",
       "\n",
       "    .dataframe thead th {\n",
       "        text-align: right;\n",
       "    }\n",
       "</style>\n",
       "<table border=\"1\" class=\"dataframe\">\n",
       "  <thead>\n",
       "    <tr style=\"text-align: right;\">\n",
       "      <th></th>\n",
       "      <th>host_response_rate</th>\n",
       "      <th>host_acceptance_rate</th>\n",
       "      <th>host_is_superhost</th>\n",
       "      <th>host_listings_count</th>\n",
       "      <th>zipcode</th>\n",
       "      <th>property_type</th>\n",
       "      <th>room_type</th>\n",
       "      <th>accommodates</th>\n",
       "      <th>bathrooms</th>\n",
       "      <th>bedrooms</th>\n",
       "      <th>beds</th>\n",
       "      <th>price</th>\n",
       "      <th>number_of_reviews</th>\n",
       "      <th>review_scores_rating</th>\n",
       "      <th>cancellation_policy</th>\n",
       "      <th>reviews_per_month</th>\n",
       "    </tr>\n",
       "  </thead>\n",
       "  <tbody>\n",
       "    <tr>\n",
       "      <th>0</th>\n",
       "      <td>100%</td>\n",
       "      <td>NaN</td>\n",
       "      <td>t</td>\n",
       "      <td>1.0</td>\n",
       "      <td>92104</td>\n",
       "      <td>House</td>\n",
       "      <td>Entire home/apt</td>\n",
       "      <td>6</td>\n",
       "      <td>2.0</td>\n",
       "      <td>3.0</td>\n",
       "      <td>4.0</td>\n",
       "      <td>$295.00</td>\n",
       "      <td>145</td>\n",
       "      <td>96.0</td>\n",
       "      <td>strict_14_with_grace_period</td>\n",
       "      <td>1.17</td>\n",
       "    </tr>\n",
       "    <tr>\n",
       "      <th>1</th>\n",
       "      <td>100%</td>\n",
       "      <td>NaN</td>\n",
       "      <td>f</td>\n",
       "      <td>3.0</td>\n",
       "      <td>92109</td>\n",
       "      <td>Condominium</td>\n",
       "      <td>Entire home/apt</td>\n",
       "      <td>6</td>\n",
       "      <td>1.0</td>\n",
       "      <td>2.0</td>\n",
       "      <td>4.0</td>\n",
       "      <td>$2,050.00</td>\n",
       "      <td>0</td>\n",
       "      <td>NaN</td>\n",
       "      <td>strict_14_with_grace_period</td>\n",
       "      <td>NaN</td>\n",
       "    </tr>\n",
       "    <tr>\n",
       "      <th>2</th>\n",
       "      <td>NaN</td>\n",
       "      <td>NaN</td>\n",
       "      <td>f</td>\n",
       "      <td>1.0</td>\n",
       "      <td>92107</td>\n",
       "      <td>Guesthouse</td>\n",
       "      <td>Entire home/apt</td>\n",
       "      <td>2</td>\n",
       "      <td>1.0</td>\n",
       "      <td>0.0</td>\n",
       "      <td>1.0</td>\n",
       "      <td>$84.00</td>\n",
       "      <td>178</td>\n",
       "      <td>93.0</td>\n",
       "      <td>strict_14_with_grace_period</td>\n",
       "      <td>1.60</td>\n",
       "    </tr>\n",
       "    <tr>\n",
       "      <th>3</th>\n",
       "      <td>100%</td>\n",
       "      <td>NaN</td>\n",
       "      <td>t</td>\n",
       "      <td>1.0</td>\n",
       "      <td>92126</td>\n",
       "      <td>House</td>\n",
       "      <td>Private room</td>\n",
       "      <td>2</td>\n",
       "      <td>1.0</td>\n",
       "      <td>1.0</td>\n",
       "      <td>1.0</td>\n",
       "      <td>$72.00</td>\n",
       "      <td>187</td>\n",
       "      <td>98.0</td>\n",
       "      <td>moderate</td>\n",
       "      <td>1.81</td>\n",
       "    </tr>\n",
       "    <tr>\n",
       "      <th>4</th>\n",
       "      <td>100%</td>\n",
       "      <td>NaN</td>\n",
       "      <td>f</td>\n",
       "      <td>3.0</td>\n",
       "      <td>92106</td>\n",
       "      <td>House</td>\n",
       "      <td>Private room</td>\n",
       "      <td>2</td>\n",
       "      <td>1.0</td>\n",
       "      <td>1.0</td>\n",
       "      <td>1.0</td>\n",
       "      <td>$75.00</td>\n",
       "      <td>136</td>\n",
       "      <td>87.0</td>\n",
       "      <td>moderate</td>\n",
       "      <td>1.41</td>\n",
       "    </tr>\n",
       "  </tbody>\n",
       "</table>\n",
       "</div>"
      ],
      "text/plain": [
       "  host_response_rate  host_acceptance_rate host_is_superhost  \\\n",
       "0               100%                   NaN                 t   \n",
       "1               100%                   NaN                 f   \n",
       "2                NaN                   NaN                 f   \n",
       "3               100%                   NaN                 t   \n",
       "4               100%                   NaN                 f   \n",
       "\n",
       "   host_listings_count zipcode property_type        room_type  accommodates  \\\n",
       "0                  1.0   92104         House  Entire home/apt             6   \n",
       "1                  3.0   92109   Condominium  Entire home/apt             6   \n",
       "2                  1.0   92107    Guesthouse  Entire home/apt             2   \n",
       "3                  1.0   92126         House     Private room             2   \n",
       "4                  3.0   92106         House     Private room             2   \n",
       "\n",
       "   bathrooms  bedrooms  beds      price  number_of_reviews  \\\n",
       "0        2.0       3.0   4.0    $295.00                145   \n",
       "1        1.0       2.0   4.0  $2,050.00                  0   \n",
       "2        1.0       0.0   1.0     $84.00                178   \n",
       "3        1.0       1.0   1.0     $72.00                187   \n",
       "4        1.0       1.0   1.0     $75.00                136   \n",
       "\n",
       "   review_scores_rating          cancellation_policy  reviews_per_month  \n",
       "0                  96.0  strict_14_with_grace_period               1.17  \n",
       "1                   NaN  strict_14_with_grace_period                NaN  \n",
       "2                  93.0  strict_14_with_grace_period               1.60  \n",
       "3                  98.0                     moderate               1.81  \n",
       "4                  87.0                     moderate               1.41  "
      ]
     },
     "execution_count": 6,
     "metadata": {},
     "output_type": "execute_result"
    }
   ],
   "source": [
    "df.head()"
   ]
  },
  {
   "cell_type": "code",
   "execution_count": 7,
   "metadata": {
    "ExecuteTime": {
     "end_time": "2018-09-13T18:50:18.910311Z",
     "start_time": "2018-09-13T18:50:18.872809Z"
    }
   },
   "outputs": [
    {
     "data": {
      "text/plain": [
       "host_response_rate       16.987890\n",
       "host_acceptance_rate    100.000000\n",
       "host_is_superhost         0.076753\n",
       "host_listings_count       0.076753\n",
       "zipcode                   1.287737\n",
       "property_type             0.000000\n",
       "room_type                 0.000000\n",
       "accommodates              0.000000\n",
       "bathrooms                 0.042640\n",
       "bedrooms                  0.034112\n",
       "beds                      0.042640\n",
       "price                     0.000000\n",
       "number_of_reviews         0.000000\n",
       "review_scores_rating     19.503667\n",
       "cancellation_policy       0.000000\n",
       "reviews_per_month        18.326795\n",
       "dtype: float64"
      ]
     },
     "execution_count": 7,
     "metadata": {},
     "output_type": "execute_result"
    }
   ],
   "source": [
    "# % of NaN values\n",
    "(len(df)-df.count())/len(df)*100"
   ]
  },
  {
   "cell_type": "code",
   "execution_count": 8,
   "metadata": {
    "ExecuteTime": {
     "end_time": "2018-09-13T18:50:18.932083Z",
     "start_time": "2018-09-13T18:50:18.916401Z"
    }
   },
   "outputs": [],
   "source": [
    "df = df.drop(['host_acceptance_rate'], axis=1)"
   ]
  },
  {
   "cell_type": "code",
   "execution_count": 9,
   "metadata": {
    "ExecuteTime": {
     "end_time": "2018-09-13T18:50:18.953661Z",
     "start_time": "2018-09-13T18:50:18.935594Z"
    }
   },
   "outputs": [],
   "source": [
    "# drop NaN rows\n",
    "df2=df.dropna(axis=0)"
   ]
  },
  {
   "cell_type": "code",
   "execution_count": 10,
   "metadata": {
    "ExecuteTime": {
     "end_time": "2018-09-13T18:50:18.966290Z",
     "start_time": "2018-09-13T18:50:18.957683Z"
    }
   },
   "outputs": [
    {
     "data": {
      "text/plain": [
       "29.1488998806072"
      ]
     },
     "execution_count": 10,
     "metadata": {},
     "output_type": "execute_result"
    }
   ],
   "source": [
    "# % of rows droppped\n",
    "(len(df)-len(df2))/len(df)*100"
   ]
  },
  {
   "cell_type": "code",
   "execution_count": 11,
   "metadata": {
    "ExecuteTime": {
     "end_time": "2018-09-13T18:50:18.979133Z",
     "start_time": "2018-09-13T18:50:18.970854Z"
    }
   },
   "outputs": [
    {
     "data": {
      "text/plain": [
       "(8308, 15)"
      ]
     },
     "execution_count": 11,
     "metadata": {},
     "output_type": "execute_result"
    }
   ],
   "source": [
    "df2.shape"
   ]
  },
  {
   "cell_type": "code",
   "execution_count": 12,
   "metadata": {
    "ExecuteTime": {
     "end_time": "2018-09-13T18:50:18.992729Z",
     "start_time": "2018-09-13T18:50:18.983086Z"
    }
   },
   "outputs": [],
   "source": [
    "pd.options.mode.chained_assignment = None  # default='warn'\n",
    "\n",
    "df2['host_response_rate'] = df2['host_response_rate'].astype(str)\n",
    "df2['price'] = df2['price'].astype(str)"
   ]
  },
  {
   "cell_type": "code",
   "execution_count": 13,
   "metadata": {
    "ExecuteTime": {
     "end_time": "2018-09-13T18:50:19.026447Z",
     "start_time": "2018-09-13T18:50:18.999063Z"
    }
   },
   "outputs": [],
   "source": [
    "# clean data\n",
    "pd.options.mode.chained_assignment = None  # default='warn'\n",
    "\n",
    "df2['price'] = df2['price'].str.replace(\"[$, ]\", \"\").astype(\"float\")\n",
    "df2['host_response_rate'] = df2['host_response_rate'].str.replace(\"%\", \"\").astype(\"float\")"
   ]
  },
  {
   "cell_type": "code",
   "execution_count": 14,
   "metadata": {
    "ExecuteTime": {
     "end_time": "2018-09-13T18:50:19.040932Z",
     "start_time": "2018-09-13T18:50:19.030870Z"
    }
   },
   "outputs": [],
   "source": [
    "df2['superhost']=np.where(df2['host_is_superhost']=='t',1,0)\n",
    "del df2['host_is_superhost']"
   ]
  },
  {
   "cell_type": "code",
   "execution_count": 15,
   "metadata": {
    "ExecuteTime": {
     "end_time": "2018-09-13T18:50:19.073033Z",
     "start_time": "2018-09-13T18:50:19.046054Z"
    }
   },
   "outputs": [
    {
     "data": {
      "text/html": [
       "<div>\n",
       "<style scoped>\n",
       "    .dataframe tbody tr th:only-of-type {\n",
       "        vertical-align: middle;\n",
       "    }\n",
       "\n",
       "    .dataframe tbody tr th {\n",
       "        vertical-align: top;\n",
       "    }\n",
       "\n",
       "    .dataframe thead th {\n",
       "        text-align: right;\n",
       "    }\n",
       "</style>\n",
       "<table border=\"1\" class=\"dataframe\">\n",
       "  <thead>\n",
       "    <tr style=\"text-align: right;\">\n",
       "      <th></th>\n",
       "      <th>zipcode</th>\n",
       "      <th>property_type</th>\n",
       "      <th>room_type</th>\n",
       "      <th>cancellation_policy</th>\n",
       "    </tr>\n",
       "  </thead>\n",
       "  <tbody>\n",
       "    <tr>\n",
       "      <th>0</th>\n",
       "      <td>92104</td>\n",
       "      <td>House</td>\n",
       "      <td>Entire home/apt</td>\n",
       "      <td>strict_14_with_grace_period</td>\n",
       "    </tr>\n",
       "    <tr>\n",
       "      <th>3</th>\n",
       "      <td>92126</td>\n",
       "      <td>House</td>\n",
       "      <td>Private room</td>\n",
       "      <td>moderate</td>\n",
       "    </tr>\n",
       "    <tr>\n",
       "      <th>4</th>\n",
       "      <td>92106</td>\n",
       "      <td>House</td>\n",
       "      <td>Private room</td>\n",
       "      <td>moderate</td>\n",
       "    </tr>\n",
       "    <tr>\n",
       "      <th>5</th>\n",
       "      <td>92104</td>\n",
       "      <td>Tiny house</td>\n",
       "      <td>Entire home/apt</td>\n",
       "      <td>strict_14_with_grace_period</td>\n",
       "    </tr>\n",
       "    <tr>\n",
       "      <th>7</th>\n",
       "      <td>92037</td>\n",
       "      <td>House</td>\n",
       "      <td>Private room</td>\n",
       "      <td>flexible</td>\n",
       "    </tr>\n",
       "  </tbody>\n",
       "</table>\n",
       "</div>"
      ],
      "text/plain": [
       "  zipcode property_type        room_type          cancellation_policy\n",
       "0   92104         House  Entire home/apt  strict_14_with_grace_period\n",
       "3   92126         House     Private room                     moderate\n",
       "4   92106         House     Private room                     moderate\n",
       "5   92104    Tiny house  Entire home/apt  strict_14_with_grace_period\n",
       "7   92037         House     Private room                     flexible"
      ]
     },
     "execution_count": 15,
     "metadata": {},
     "output_type": "execute_result"
    }
   ],
   "source": [
    "# select non-numeric variables and create dummies\n",
    "non_num_vars = df2.select_dtypes(include=['object']).columns\n",
    "df2[non_num_vars].head()"
   ]
  },
  {
   "cell_type": "code",
   "execution_count": 16,
   "metadata": {
    "ExecuteTime": {
     "end_time": "2018-09-13T18:50:19.100797Z",
     "start_time": "2018-09-13T18:50:19.076593Z"
    }
   },
   "outputs": [],
   "source": [
    "dummy_vars = pd.get_dummies(df2[non_num_vars])"
   ]
  },
  {
   "cell_type": "code",
   "execution_count": 17,
   "metadata": {
    "ExecuteTime": {
     "end_time": "2018-09-13T18:50:19.136043Z",
     "start_time": "2018-09-13T18:50:19.104246Z"
    }
   },
   "outputs": [
    {
     "data": {
      "text/html": [
       "<div>\n",
       "<style scoped>\n",
       "    .dataframe tbody tr th:only-of-type {\n",
       "        vertical-align: middle;\n",
       "    }\n",
       "\n",
       "    .dataframe tbody tr th {\n",
       "        vertical-align: top;\n",
       "    }\n",
       "\n",
       "    .dataframe thead th {\n",
       "        text-align: right;\n",
       "    }\n",
       "</style>\n",
       "<table border=\"1\" class=\"dataframe\">\n",
       "  <thead>\n",
       "    <tr style=\"text-align: right;\">\n",
       "      <th></th>\n",
       "      <th>zipcode_12345</th>\n",
       "      <th>zipcode_22404</th>\n",
       "      <th>zipcode_91901</th>\n",
       "      <th>zipcode_91902</th>\n",
       "      <th>zipcode_91910</th>\n",
       "      <th>zipcode_91911</th>\n",
       "      <th>zipcode_91913</th>\n",
       "      <th>zipcode_91914</th>\n",
       "      <th>zipcode_91915</th>\n",
       "      <th>zipcode_91942</th>\n",
       "      <th>...</th>\n",
       "      <th>property_type_Villa</th>\n",
       "      <th>room_type_Entire home/apt</th>\n",
       "      <th>room_type_Private room</th>\n",
       "      <th>room_type_Shared room</th>\n",
       "      <th>cancellation_policy_flexible</th>\n",
       "      <th>cancellation_policy_moderate</th>\n",
       "      <th>cancellation_policy_strict</th>\n",
       "      <th>cancellation_policy_strict_14_with_grace_period</th>\n",
       "      <th>cancellation_policy_super_strict_30</th>\n",
       "      <th>cancellation_policy_super_strict_60</th>\n",
       "    </tr>\n",
       "  </thead>\n",
       "  <tbody>\n",
       "    <tr>\n",
       "      <th>0</th>\n",
       "      <td>0</td>\n",
       "      <td>0</td>\n",
       "      <td>0</td>\n",
       "      <td>0</td>\n",
       "      <td>0</td>\n",
       "      <td>0</td>\n",
       "      <td>0</td>\n",
       "      <td>0</td>\n",
       "      <td>0</td>\n",
       "      <td>0</td>\n",
       "      <td>...</td>\n",
       "      <td>0</td>\n",
       "      <td>1</td>\n",
       "      <td>0</td>\n",
       "      <td>0</td>\n",
       "      <td>0</td>\n",
       "      <td>0</td>\n",
       "      <td>0</td>\n",
       "      <td>1</td>\n",
       "      <td>0</td>\n",
       "      <td>0</td>\n",
       "    </tr>\n",
       "    <tr>\n",
       "      <th>3</th>\n",
       "      <td>0</td>\n",
       "      <td>0</td>\n",
       "      <td>0</td>\n",
       "      <td>0</td>\n",
       "      <td>0</td>\n",
       "      <td>0</td>\n",
       "      <td>0</td>\n",
       "      <td>0</td>\n",
       "      <td>0</td>\n",
       "      <td>0</td>\n",
       "      <td>...</td>\n",
       "      <td>0</td>\n",
       "      <td>0</td>\n",
       "      <td>1</td>\n",
       "      <td>0</td>\n",
       "      <td>0</td>\n",
       "      <td>1</td>\n",
       "      <td>0</td>\n",
       "      <td>0</td>\n",
       "      <td>0</td>\n",
       "      <td>0</td>\n",
       "    </tr>\n",
       "    <tr>\n",
       "      <th>4</th>\n",
       "      <td>0</td>\n",
       "      <td>0</td>\n",
       "      <td>0</td>\n",
       "      <td>0</td>\n",
       "      <td>0</td>\n",
       "      <td>0</td>\n",
       "      <td>0</td>\n",
       "      <td>0</td>\n",
       "      <td>0</td>\n",
       "      <td>0</td>\n",
       "      <td>...</td>\n",
       "      <td>0</td>\n",
       "      <td>0</td>\n",
       "      <td>1</td>\n",
       "      <td>0</td>\n",
       "      <td>0</td>\n",
       "      <td>1</td>\n",
       "      <td>0</td>\n",
       "      <td>0</td>\n",
       "      <td>0</td>\n",
       "      <td>0</td>\n",
       "    </tr>\n",
       "    <tr>\n",
       "      <th>5</th>\n",
       "      <td>0</td>\n",
       "      <td>0</td>\n",
       "      <td>0</td>\n",
       "      <td>0</td>\n",
       "      <td>0</td>\n",
       "      <td>0</td>\n",
       "      <td>0</td>\n",
       "      <td>0</td>\n",
       "      <td>0</td>\n",
       "      <td>0</td>\n",
       "      <td>...</td>\n",
       "      <td>0</td>\n",
       "      <td>1</td>\n",
       "      <td>0</td>\n",
       "      <td>0</td>\n",
       "      <td>0</td>\n",
       "      <td>0</td>\n",
       "      <td>0</td>\n",
       "      <td>1</td>\n",
       "      <td>0</td>\n",
       "      <td>0</td>\n",
       "    </tr>\n",
       "    <tr>\n",
       "      <th>7</th>\n",
       "      <td>0</td>\n",
       "      <td>0</td>\n",
       "      <td>0</td>\n",
       "      <td>0</td>\n",
       "      <td>0</td>\n",
       "      <td>0</td>\n",
       "      <td>0</td>\n",
       "      <td>0</td>\n",
       "      <td>0</td>\n",
       "      <td>0</td>\n",
       "      <td>...</td>\n",
       "      <td>0</td>\n",
       "      <td>0</td>\n",
       "      <td>1</td>\n",
       "      <td>0</td>\n",
       "      <td>1</td>\n",
       "      <td>0</td>\n",
       "      <td>0</td>\n",
       "      <td>0</td>\n",
       "      <td>0</td>\n",
       "      <td>0</td>\n",
       "    </tr>\n",
       "  </tbody>\n",
       "</table>\n",
       "<p>5 rows × 89 columns</p>\n",
       "</div>"
      ],
      "text/plain": [
       "   zipcode_12345  zipcode_22404  zipcode_91901  zipcode_91902  zipcode_91910  \\\n",
       "0              0              0              0              0              0   \n",
       "3              0              0              0              0              0   \n",
       "4              0              0              0              0              0   \n",
       "5              0              0              0              0              0   \n",
       "7              0              0              0              0              0   \n",
       "\n",
       "   zipcode_91911  zipcode_91913  zipcode_91914  zipcode_91915  zipcode_91942  \\\n",
       "0              0              0              0              0              0   \n",
       "3              0              0              0              0              0   \n",
       "4              0              0              0              0              0   \n",
       "5              0              0              0              0              0   \n",
       "7              0              0              0              0              0   \n",
       "\n",
       "                  ...                   property_type_Villa  \\\n",
       "0                 ...                                     0   \n",
       "3                 ...                                     0   \n",
       "4                 ...                                     0   \n",
       "5                 ...                                     0   \n",
       "7                 ...                                     0   \n",
       "\n",
       "   room_type_Entire home/apt  room_type_Private room  room_type_Shared room  \\\n",
       "0                          1                       0                      0   \n",
       "3                          0                       1                      0   \n",
       "4                          0                       1                      0   \n",
       "5                          1                       0                      0   \n",
       "7                          0                       1                      0   \n",
       "\n",
       "   cancellation_policy_flexible  cancellation_policy_moderate  \\\n",
       "0                             0                             0   \n",
       "3                             0                             1   \n",
       "4                             0                             1   \n",
       "5                             0                             0   \n",
       "7                             1                             0   \n",
       "\n",
       "   cancellation_policy_strict  \\\n",
       "0                           0   \n",
       "3                           0   \n",
       "4                           0   \n",
       "5                           0   \n",
       "7                           0   \n",
       "\n",
       "   cancellation_policy_strict_14_with_grace_period  \\\n",
       "0                                                1   \n",
       "3                                                0   \n",
       "4                                                0   \n",
       "5                                                1   \n",
       "7                                                0   \n",
       "\n",
       "   cancellation_policy_super_strict_30  cancellation_policy_super_strict_60  \n",
       "0                                    0                                    0  \n",
       "3                                    0                                    0  \n",
       "4                                    0                                    0  \n",
       "5                                    0                                    0  \n",
       "7                                    0                                    0  \n",
       "\n",
       "[5 rows x 89 columns]"
      ]
     },
     "execution_count": 17,
     "metadata": {},
     "output_type": "execute_result"
    }
   ],
   "source": [
    "dummy_vars.head()"
   ]
  },
  {
   "cell_type": "code",
   "execution_count": 18,
   "metadata": {
    "ExecuteTime": {
     "end_time": "2018-09-13T18:50:19.178162Z",
     "start_time": "2018-09-13T18:50:19.139340Z"
    }
   },
   "outputs": [
    {
     "data": {
      "text/html": [
       "<div>\n",
       "<style scoped>\n",
       "    .dataframe tbody tr th:only-of-type {\n",
       "        vertical-align: middle;\n",
       "    }\n",
       "\n",
       "    .dataframe tbody tr th {\n",
       "        vertical-align: top;\n",
       "    }\n",
       "\n",
       "    .dataframe thead th {\n",
       "        text-align: right;\n",
       "    }\n",
       "</style>\n",
       "<table border=\"1\" class=\"dataframe\">\n",
       "  <thead>\n",
       "    <tr style=\"text-align: right;\">\n",
       "      <th></th>\n",
       "      <th>host_response_rate</th>\n",
       "      <th>host_listings_count</th>\n",
       "      <th>accommodates</th>\n",
       "      <th>bathrooms</th>\n",
       "      <th>bedrooms</th>\n",
       "      <th>beds</th>\n",
       "      <th>price</th>\n",
       "      <th>number_of_reviews</th>\n",
       "      <th>review_scores_rating</th>\n",
       "      <th>reviews_per_month</th>\n",
       "      <th>...</th>\n",
       "      <th>property_type_Villa</th>\n",
       "      <th>room_type_Entire home/apt</th>\n",
       "      <th>room_type_Private room</th>\n",
       "      <th>room_type_Shared room</th>\n",
       "      <th>cancellation_policy_flexible</th>\n",
       "      <th>cancellation_policy_moderate</th>\n",
       "      <th>cancellation_policy_strict</th>\n",
       "      <th>cancellation_policy_strict_14_with_grace_period</th>\n",
       "      <th>cancellation_policy_super_strict_30</th>\n",
       "      <th>cancellation_policy_super_strict_60</th>\n",
       "    </tr>\n",
       "  </thead>\n",
       "  <tbody>\n",
       "    <tr>\n",
       "      <th>0</th>\n",
       "      <td>100.0</td>\n",
       "      <td>1.0</td>\n",
       "      <td>6</td>\n",
       "      <td>2.0</td>\n",
       "      <td>3.0</td>\n",
       "      <td>4.0</td>\n",
       "      <td>295.0</td>\n",
       "      <td>145</td>\n",
       "      <td>96.0</td>\n",
       "      <td>1.17</td>\n",
       "      <td>...</td>\n",
       "      <td>0</td>\n",
       "      <td>1</td>\n",
       "      <td>0</td>\n",
       "      <td>0</td>\n",
       "      <td>0</td>\n",
       "      <td>0</td>\n",
       "      <td>0</td>\n",
       "      <td>1</td>\n",
       "      <td>0</td>\n",
       "      <td>0</td>\n",
       "    </tr>\n",
       "    <tr>\n",
       "      <th>3</th>\n",
       "      <td>100.0</td>\n",
       "      <td>1.0</td>\n",
       "      <td>2</td>\n",
       "      <td>1.0</td>\n",
       "      <td>1.0</td>\n",
       "      <td>1.0</td>\n",
       "      <td>72.0</td>\n",
       "      <td>187</td>\n",
       "      <td>98.0</td>\n",
       "      <td>1.81</td>\n",
       "      <td>...</td>\n",
       "      <td>0</td>\n",
       "      <td>0</td>\n",
       "      <td>1</td>\n",
       "      <td>0</td>\n",
       "      <td>0</td>\n",
       "      <td>1</td>\n",
       "      <td>0</td>\n",
       "      <td>0</td>\n",
       "      <td>0</td>\n",
       "      <td>0</td>\n",
       "    </tr>\n",
       "    <tr>\n",
       "      <th>4</th>\n",
       "      <td>100.0</td>\n",
       "      <td>3.0</td>\n",
       "      <td>2</td>\n",
       "      <td>1.0</td>\n",
       "      <td>1.0</td>\n",
       "      <td>1.0</td>\n",
       "      <td>75.0</td>\n",
       "      <td>136</td>\n",
       "      <td>87.0</td>\n",
       "      <td>1.41</td>\n",
       "      <td>...</td>\n",
       "      <td>0</td>\n",
       "      <td>0</td>\n",
       "      <td>1</td>\n",
       "      <td>0</td>\n",
       "      <td>0</td>\n",
       "      <td>1</td>\n",
       "      <td>0</td>\n",
       "      <td>0</td>\n",
       "      <td>0</td>\n",
       "      <td>0</td>\n",
       "    </tr>\n",
       "    <tr>\n",
       "      <th>5</th>\n",
       "      <td>100.0</td>\n",
       "      <td>1.0</td>\n",
       "      <td>2</td>\n",
       "      <td>1.0</td>\n",
       "      <td>1.0</td>\n",
       "      <td>1.0</td>\n",
       "      <td>69.0</td>\n",
       "      <td>329</td>\n",
       "      <td>98.0</td>\n",
       "      <td>3.35</td>\n",
       "      <td>...</td>\n",
       "      <td>0</td>\n",
       "      <td>1</td>\n",
       "      <td>0</td>\n",
       "      <td>0</td>\n",
       "      <td>0</td>\n",
       "      <td>0</td>\n",
       "      <td>0</td>\n",
       "      <td>1</td>\n",
       "      <td>0</td>\n",
       "      <td>0</td>\n",
       "    </tr>\n",
       "    <tr>\n",
       "      <th>7</th>\n",
       "      <td>100.0</td>\n",
       "      <td>4.0</td>\n",
       "      <td>2</td>\n",
       "      <td>1.0</td>\n",
       "      <td>1.0</td>\n",
       "      <td>1.0</td>\n",
       "      <td>135.0</td>\n",
       "      <td>161</td>\n",
       "      <td>98.0</td>\n",
       "      <td>1.74</td>\n",
       "      <td>...</td>\n",
       "      <td>0</td>\n",
       "      <td>0</td>\n",
       "      <td>1</td>\n",
       "      <td>0</td>\n",
       "      <td>1</td>\n",
       "      <td>0</td>\n",
       "      <td>0</td>\n",
       "      <td>0</td>\n",
       "      <td>0</td>\n",
       "      <td>0</td>\n",
       "    </tr>\n",
       "  </tbody>\n",
       "</table>\n",
       "<p>5 rows × 100 columns</p>\n",
       "</div>"
      ],
      "text/plain": [
       "   host_response_rate  host_listings_count  accommodates  bathrooms  bedrooms  \\\n",
       "0               100.0                  1.0             6        2.0       3.0   \n",
       "3               100.0                  1.0             2        1.0       1.0   \n",
       "4               100.0                  3.0             2        1.0       1.0   \n",
       "5               100.0                  1.0             2        1.0       1.0   \n",
       "7               100.0                  4.0             2        1.0       1.0   \n",
       "\n",
       "   beds  price  number_of_reviews  review_scores_rating  reviews_per_month  \\\n",
       "0   4.0  295.0                145                  96.0               1.17   \n",
       "3   1.0   72.0                187                  98.0               1.81   \n",
       "4   1.0   75.0                136                  87.0               1.41   \n",
       "5   1.0   69.0                329                  98.0               3.35   \n",
       "7   1.0  135.0                161                  98.0               1.74   \n",
       "\n",
       "                  ...                   property_type_Villa  \\\n",
       "0                 ...                                     0   \n",
       "3                 ...                                     0   \n",
       "4                 ...                                     0   \n",
       "5                 ...                                     0   \n",
       "7                 ...                                     0   \n",
       "\n",
       "   room_type_Entire home/apt  room_type_Private room  room_type_Shared room  \\\n",
       "0                          1                       0                      0   \n",
       "3                          0                       1                      0   \n",
       "4                          0                       1                      0   \n",
       "5                          1                       0                      0   \n",
       "7                          0                       1                      0   \n",
       "\n",
       "   cancellation_policy_flexible  cancellation_policy_moderate  \\\n",
       "0                             0                             0   \n",
       "3                             0                             1   \n",
       "4                             0                             1   \n",
       "5                             0                             0   \n",
       "7                             1                             0   \n",
       "\n",
       "   cancellation_policy_strict  \\\n",
       "0                           0   \n",
       "3                           0   \n",
       "4                           0   \n",
       "5                           0   \n",
       "7                           0   \n",
       "\n",
       "   cancellation_policy_strict_14_with_grace_period  \\\n",
       "0                                                1   \n",
       "3                                                0   \n",
       "4                                                0   \n",
       "5                                                1   \n",
       "7                                                0   \n",
       "\n",
       "   cancellation_policy_super_strict_30  cancellation_policy_super_strict_60  \n",
       "0                                    0                                    0  \n",
       "3                                    0                                    0  \n",
       "4                                    0                                    0  \n",
       "5                                    0                                    0  \n",
       "7                                    0                                    0  \n",
       "\n",
       "[5 rows x 100 columns]"
      ]
     },
     "execution_count": 18,
     "metadata": {},
     "output_type": "execute_result"
    }
   ],
   "source": [
    "# drop non-numeric variables from df2 and add the dummies\n",
    "df3=df2.drop(non_num_vars,axis=1)\n",
    "df3 = pd.merge(df3,dummy_vars, left_index=True, right_index=True)\n",
    "df3.head()"
   ]
  },
  {
   "cell_type": "code",
   "execution_count": 19,
   "metadata": {
    "ExecuteTime": {
     "end_time": "2018-09-13T18:50:19.219520Z",
     "start_time": "2018-09-13T18:50:19.184346Z"
    }
   },
   "outputs": [
    {
     "name": "stderr",
     "output_type": "stream",
     "text": [
      "/Users/xzhou/anaconda3/lib/python3.6/site-packages/ipykernel_launcher.py:10: UserWarning: Pandas doesn't allow columns to be created via a new attribute name - see https://pandas.pydata.org/pandas-docs/stable/indexing.html#attribute-access\n",
      "  # Remove the CWD from sys.path while we load stuff.\n",
      "/Users/xzhou/anaconda3/lib/python3.6/site-packages/ipykernel_launcher.py:12: UserWarning: Pandas doesn't allow columns to be created via a new attribute name - see https://pandas.pydata.org/pandas-docs/stable/indexing.html#attribute-access\n",
      "  if sys.path[0] == '':\n",
      "/Users/xzhou/anaconda3/lib/python3.6/site-packages/ipykernel_launcher.py:15: FutureWarning: Method .as_matrix will be removed in a future version. Use .values instead.\n",
      "  from ipykernel import kernelapp as app\n",
      "/Users/xzhou/anaconda3/lib/python3.6/site-packages/ipykernel_launcher.py:16: FutureWarning: Method .as_matrix will be removed in a future version. Use .values instead.\n",
      "  app.launch_new_instance()\n"
     ]
    }
   ],
   "source": [
    "# split into test and training data\n",
    "np.random.seed(1)\n",
    "indices = np.random.permutation(len(df3))\n",
    "train_size = int(round(0.8*len(df3)))\n",
    "test_size = len(df3)-train_size\n",
    "\n",
    "y = df3['price']\n",
    "x = df3.drop('price', axis =1)\n",
    "\n",
    "x.train = x.iloc[indices[0:train_size]]\n",
    "y.train = y.iloc[indices[0:train_size]]\n",
    "x.test = x.iloc[indices[train_size+1:]]\n",
    "y.test = y.iloc[indices[train_size+1:]]\n",
    "\n",
    "x2 = x.train.as_matrix()\n",
    "y2 = y.train.as_matrix()"
   ]
  },
  {
   "cell_type": "code",
   "execution_count": 20,
   "metadata": {
    "ExecuteTime": {
     "end_time": "2018-09-13T18:50:19.396038Z",
     "start_time": "2018-09-13T18:50:19.222919Z"
    }
   },
   "outputs": [
    {
     "name": "stdout",
     "output_type": "stream",
     "text": [
      "                            OLS Regression Results                            \n",
      "==============================================================================\n",
      "Dep. Variable:                      y   R-squared:                       0.522\n",
      "Model:                            OLS   Adj. R-squared:                  0.515\n",
      "Method:                 Least Squares   F-statistic:                     77.78\n",
      "Date:                Thu, 13 Sep 2018   Prob (F-statistic):               0.00\n",
      "Time:                        11:50:19   Log-Likelihood:                -43108.\n",
      "No. Observations:                6646   AIC:                         8.640e+04\n",
      "Df Residuals:                    6553   BIC:                         8.703e+04\n",
      "Df Model:                          92                                         \n",
      "Covariance Type:            nonrobust                                         \n",
      "==============================================================================\n",
      "                 coef    std err          t      P>|t|      [0.025      0.975]\n",
      "------------------------------------------------------------------------------\n",
      "x1             0.4262      0.197      2.161      0.031       0.040       0.813\n",
      "x2             0.1059      0.014      7.446      0.000       0.078       0.134\n",
      "x3            12.6276      1.788      7.064      0.000       9.123      16.132\n",
      "x4            96.9367      4.231     22.909      0.000      88.642     105.231\n",
      "x5            27.7174      3.784      7.325      0.000      20.299      35.135\n",
      "x6            -2.6690      2.325     -1.148      0.251      -7.226       1.888\n",
      "x7            -0.1780      0.044     -4.070      0.000      -0.264      -0.092\n",
      "x8             0.9328      0.304      3.070      0.002       0.337       1.528\n",
      "x9            -5.4994      1.139     -4.829      0.000      -7.732      -3.267\n",
      "x10            2.9246      4.453      0.657      0.511      -5.805      11.654\n",
      "x11           72.5814    159.874      0.454      0.650    -240.823     385.986\n",
      "x12          -90.0765    157.411     -0.572      0.567    -398.654     218.501\n",
      "const      -1.938e-13   8.94e-12     -0.022      0.983   -1.77e-11    1.73e-11\n",
      "x13          122.6071     91.631      1.338      0.181     -57.019     302.233\n",
      "x14          -23.6423     23.156     -1.021      0.307     -69.036      21.751\n",
      "x15          -13.9375     32.965     -0.423      0.672     -78.560      50.685\n",
      "x16          -43.5975     31.296     -1.393      0.164    -104.949      17.754\n",
      "x17            6.6135     71.009      0.093      0.926    -132.586     145.813\n",
      "x18          -64.0202     31.768     -2.015      0.044    -126.295      -1.745\n",
      "x19          -57.0368     64.765     -0.881      0.379    -183.997      69.923\n",
      "x20            9.5150    157.134      0.061      0.952    -298.518     317.548\n",
      "x21           18.8891    158.421      0.119      0.905    -291.667     329.445\n",
      "x22           74.2303     26.241      2.829      0.005      22.790     125.671\n",
      "x23          -52.8344    111.369     -0.474      0.635    -271.153     165.485\n",
      "x24         -250.1939    114.350     -2.188      0.029    -474.357     -26.031\n",
      "x25          114.7275     12.392      9.258      0.000      90.435     139.020\n",
      "x26         3.281e-13   3.86e-13      0.850      0.396   -4.29e-13    1.09e-12\n",
      "x27          -74.5066    111.415     -0.669      0.504    -292.916     143.903\n",
      "x28           58.4257     11.773      4.963      0.000      35.347      81.504\n",
      "x29           19.7249     12.925      1.526      0.127      -5.611      45.061\n",
      "x30           17.0086     12.525      1.358      0.175      -7.545      41.562\n",
      "x31            5.9466     12.479      0.477      0.634     -18.515      30.409\n",
      "x32           85.7363    157.211      0.545      0.586    -222.448     393.921\n",
      "x33          -17.1533     19.557     -0.877      0.380     -55.492      21.185\n",
      "x34           10.1836     17.879      0.570      0.569     -24.866      45.233\n",
      "x35           55.6696     12.449      4.472      0.000      31.266      80.073\n",
      "x36           -4.5923     20.313     -0.226      0.821     -44.413      35.228\n",
      "x37           60.3862     10.875      5.553      0.000      39.068      81.704\n",
      "x38           12.3167     14.967      0.823      0.411     -17.024      41.657\n",
      "x39           -3.0035     17.339     -0.173      0.862     -36.993      30.986\n",
      "x40          -16.4991    157.209     -0.105      0.916    -324.680     291.682\n",
      "x41            8.0618     20.434      0.395      0.693     -31.995      48.119\n",
      "x42          -45.3229     23.930     -1.894      0.058     -92.233       1.587\n",
      "x43            9.8894     17.076      0.579      0.563     -23.585      43.364\n",
      "x44            8.3308     14.565      0.572      0.567     -20.221      36.882\n",
      "x45            0.2338     15.141      0.015      0.988     -29.448      29.916\n",
      "x46          -42.5461     43.096     -0.987      0.324    -127.029      41.937\n",
      "x47          -20.8057     21.847     -0.952      0.341     -63.632      22.021\n",
      "x48          -30.1489     50.676     -0.595      0.552    -129.490      69.192\n",
      "x49          -19.7493     16.707     -1.182      0.237     -52.500      13.001\n",
      "x50          -35.0638     22.394     -1.566      0.117     -78.964       8.836\n",
      "x51          -11.5942     41.679     -0.278      0.781     -93.298      70.110\n",
      "x52          -28.6515     19.427     -1.475      0.140     -66.735       9.432\n",
      "x53          -38.4506     32.903     -1.169      0.243    -102.951      26.050\n",
      "x54          -10.7007     30.742     -0.348      0.728     -70.965      49.564\n",
      "x55          -29.6145     27.665     -1.070      0.284     -83.847      24.618\n",
      "x56            3.3772     19.817      0.170      0.865     -35.471      42.226\n",
      "x57          -43.9316     34.909     -1.258      0.208    -112.364      24.501\n",
      "x58          -24.1894     31.227     -0.775      0.439     -85.404      37.025\n",
      "x59          -44.4492     30.284     -1.468      0.142    -103.816      14.918\n",
      "x60           -2.4445     91.126     -0.027      0.979    -181.082     176.193\n",
      "x61           75.2361    155.469      0.484      0.628    -229.533     380.005\n",
      "x62          -33.6451     14.216     -2.367      0.018     -61.514      -5.777\n",
      "x63          -41.2897     34.417     -1.200      0.230    -108.758      26.178\n",
      "x64          -22.3005     36.117     -0.617      0.537     -93.101      48.500\n",
      "x65           23.4868     42.959      0.547      0.585     -60.726     107.700\n",
      "x66          -25.7967     17.432     -1.480      0.139     -59.969       8.375\n",
      "x67          -35.8099     60.129     -0.596      0.551    -153.682      82.062\n",
      "x68          -39.0434     32.698     -1.194      0.232    -103.142      25.055\n",
      "x69        -7.371e-14   2.32e-13     -0.318      0.751   -5.29e-13    3.81e-13\n",
      "x70          -11.0431    110.272     -0.100      0.920    -227.212     205.125\n",
      "x71          -39.2132    155.319     -0.252      0.801    -343.689     265.263\n",
      "x72          -24.8305     14.897     -1.667      0.096     -54.034       4.373\n",
      "x73          -32.9659     18.752     -1.758      0.079     -69.725       3.794\n",
      "x74           -2.9501    156.087     -0.019      0.985    -308.932     303.032\n",
      "x75          -18.7065     17.220     -1.086      0.277     -52.464      15.051\n",
      "x76          -16.6709     16.923     -0.985      0.325     -49.846      16.504\n",
      "x77         -164.1951     30.734     -5.342      0.000    -224.445    -103.946\n",
      "x78           91.1176     78.849      1.156      0.248     -63.453     245.688\n",
      "x79          -26.2872     14.369     -1.829      0.067     -54.455       1.881\n",
      "x80          -49.9286    155.353     -0.321      0.748    -354.470     254.613\n",
      "x81          -10.8237     19.162     -0.565      0.572     -48.387      26.739\n",
      "x82          -26.0148     28.027     -0.928      0.353     -80.957      28.928\n",
      "x83           94.2912     78.835      1.196      0.232     -60.251     248.833\n",
      "x84          -18.5624     30.097     -0.617      0.537     -77.562      40.437\n",
      "x85          -80.1886     78.607     -1.020      0.308    -234.283      73.906\n",
      "x86            5.9986     48.732      0.123      0.902     -89.531     101.528\n",
      "x87          -72.8051     16.006     -4.548      0.000    -104.183     -41.427\n",
      "x88           24.2701    110.815      0.219      0.827    -192.964     241.504\n",
      "x89          114.3687     29.343      3.898      0.000      56.847     171.891\n",
      "x90          -80.3081     23.803     -3.374      0.001    -126.970     -33.647\n",
      "x91         -108.9621     23.739     -4.590      0.000    -155.498     -62.426\n",
      "x92         -175.0316     28.624     -6.115      0.000    -231.143    -118.920\n",
      "x93          -66.3098     13.060     -5.077      0.000     -91.911     -40.708\n",
      "x94          -72.7290     13.036     -5.579      0.000     -98.284     -47.174\n",
      "x95         -127.0776     28.982     -4.385      0.000    -183.891     -70.264\n",
      "x96          -76.6593     12.598     -6.085      0.000    -101.356     -51.962\n",
      "x97          -32.7769     19.242     -1.703      0.089     -70.498       4.944\n",
      "x98           11.2507     15.646      0.719      0.472     -19.420      41.922\n",
      "==============================================================================\n",
      "Omnibus:                    11748.737   Durbin-Watson:                   1.995\n",
      "Prob(Omnibus):                  0.000   Jarque-Bera (JB):         31638145.207\n",
      "Skew:                          12.204   Prob(JB):                         0.00\n",
      "Kurtosis:                     340.129   Cond. No.                     6.70e+17\n",
      "==============================================================================\n",
      "\n",
      "Warnings:\n",
      "[1] Standard Errors assume that the covariance matrix of the errors is correctly specified.\n",
      "[2] The smallest eigenvalue is 4.14e-28. This might indicate that there are\n",
      "strong multicollinearity problems or that the design matrix is singular.\n"
     ]
    }
   ],
   "source": [
    "import statsmodels.api as sm\n",
    "olsmod = sm.OLS(y2,x2)\n",
    "olsres = olsmod.fit()\n",
    "print(olsres.summary())"
   ]
  },
  {
   "cell_type": "code",
   "execution_count": 21,
   "metadata": {
    "ExecuteTime": {
     "end_time": "2018-09-13T18:50:19.410757Z",
     "start_time": "2018-09-13T18:50:19.398558Z"
    }
   },
   "outputs": [],
   "source": [
    "# different method\n",
    "from sklearn import linear_model\n",
    "from sklearn.model_selection import train_test_split\n",
    "X_train, X_test, y_train, y_test = train_test_split(x, y, test_size = 0.25, random_state=1)"
   ]
  },
  {
   "cell_type": "code",
   "execution_count": 22,
   "metadata": {
    "ExecuteTime": {
     "end_time": "2018-09-13T18:50:34.841200Z",
     "start_time": "2018-09-13T18:50:19.413953Z"
    }
   },
   "outputs": [
    {
     "name": "stdout",
     "output_type": "stream",
     "text": [
      "MSE train: 3275.819, test: 32966.356\n",
      "R^2 train: 0.941, test: 0.471\n"
     ]
    }
   ],
   "source": [
    "from sklearn.ensemble import RandomForestRegressor\n",
    "forest = RandomForestRegressor(n_estimators=500, \n",
    "                               criterion='mse', \n",
    "                               random_state=3, \n",
    "                               n_jobs=-1)\n",
    "forest.fit(X_train, y_train)\n",
    "y_train_pred = forest.predict(X_train)\n",
    "y_test_pred = forest.predict(X_test)\n",
    "\n",
    "print('MSE train: %.3f, test: %.3f' % (\n",
    "        mean_squared_error(y_train, y_train_pred),\n",
    "        mean_squared_error(y_test, y_test_pred)))\n",
    "print('R^2 train: %.3f, test: %.3f' % (\n",
    "        r2_score(y_train, y_train_pred),\n",
    "        r2_score(y_test, y_test_pred)))"
   ]
  },
  {
   "cell_type": "code",
   "execution_count": null,
   "metadata": {},
   "outputs": [],
   "source": []
  },
  {
   "cell_type": "code",
   "execution_count": null,
   "metadata": {},
   "outputs": [],
   "source": []
  },
  {
   "cell_type": "code",
   "execution_count": null,
   "metadata": {},
   "outputs": [],
   "source": []
  }
 ],
 "metadata": {
  "kernelspec": {
   "display_name": "Python 3",
   "language": "python",
   "name": "python3"
  },
  "language_info": {
   "codemirror_mode": {
    "name": "ipython",
    "version": 3
   },
   "file_extension": ".py",
   "mimetype": "text/x-python",
   "name": "python",
   "nbconvert_exporter": "python",
   "pygments_lexer": "ipython3",
   "version": "3.6.6"
  },
  "varInspector": {
   "cols": {
    "lenName": 16,
    "lenType": 16,
    "lenVar": 40
   },
   "kernels_config": {
    "python": {
     "delete_cmd_postfix": "",
     "delete_cmd_prefix": "del ",
     "library": "var_list.py",
     "varRefreshCmd": "print(var_dic_list())"
    },
    "r": {
     "delete_cmd_postfix": ") ",
     "delete_cmd_prefix": "rm(",
     "library": "var_list.r",
     "varRefreshCmd": "cat(var_dic_list()) "
    }
   },
   "types_to_exclude": [
    "module",
    "function",
    "builtin_function_or_method",
    "instance",
    "_Feature"
   ],
   "window_display": false
  }
 },
 "nbformat": 4,
 "nbformat_minor": 2
}
