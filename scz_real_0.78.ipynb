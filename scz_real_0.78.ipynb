{
 "cells": [
  {
   "cell_type": "code",
   "execution_count": 1,
   "metadata": {
    "ExecuteTime": {
     "end_time": "2018-09-13T18:52:25.232800Z",
     "start_time": "2018-09-13T18:52:22.789352Z"
    }
   },
   "outputs": [],
   "source": [
    "import pandas as pd\n",
    "import csv\n",
    "import statsmodels.api as sm\n",
    "from datetime import datetime\n",
    "import matplotlib.pyplot as plt\n",
    "import numpy as np\n",
    "from sklearn import datasets, linear_model\n",
    "from sklearn.metrics import mean_squared_error, r2_score\n",
    "from sklearn.preprocessing import StandardScaler\n",
    "from sklearn.model_selection import train_test_split"
   ]
  },
  {
   "cell_type": "code",
   "execution_count": 2,
   "metadata": {
    "ExecuteTime": {
     "end_time": "2018-09-13T18:52:25.239870Z",
     "start_time": "2018-09-13T18:52:25.235329Z"
    }
   },
   "outputs": [],
   "source": [
    "file_url = '/Users/xzhou/github/project_archives/files_airbnb/scz_airbnb/{}.csv'\n",
    "\n",
    "listings_file = file_url.format('listings_details')\n",
    "reviews_file = file_url.format('reviews_details')\n",
    "calendar_file = file_url.format('calendar_details')"
   ]
  },
  {
   "cell_type": "code",
   "execution_count": 3,
   "metadata": {
    "ExecuteTime": {
     "end_time": "2018-09-13T18:52:25.424668Z",
     "start_time": "2018-09-13T18:52:25.244781Z"
    }
   },
   "outputs": [],
   "source": [
    "listings = pd.read_csv(listings_file, parse_dates=['last_scraped','host_since', 'first_review', 'last_review'])"
   ]
  },
  {
   "cell_type": "code",
   "execution_count": 4,
   "metadata": {
    "ExecuteTime": {
     "end_time": "2018-09-13T18:52:25.437472Z",
     "start_time": "2018-09-13T18:52:25.428297Z"
    }
   },
   "outputs": [
    {
     "data": {
      "text/plain": [
       "array(['id', 'listing_url', 'scrape_id', 'last_scraped', 'name',\n",
       "       'summary', 'space', 'description', 'experiences_offered',\n",
       "       'neighborhood_overview', 'notes', 'transit', 'access',\n",
       "       'interaction', 'house_rules', 'thumbnail_url', 'medium_url',\n",
       "       'picture_url', 'xl_picture_url', 'host_id', 'host_url',\n",
       "       'host_name', 'host_since', 'host_location', 'host_about',\n",
       "       'host_response_time', 'host_response_rate', 'host_acceptance_rate',\n",
       "       'host_is_superhost', 'host_thumbnail_url', 'host_picture_url',\n",
       "       'host_neighbourhood', 'host_listings_count',\n",
       "       'host_total_listings_count', 'host_verifications',\n",
       "       'host_has_profile_pic', 'host_identity_verified', 'street',\n",
       "       'neighbourhood', 'neighbourhood_cleansed',\n",
       "       'neighbourhood_group_cleansed', 'city', 'state', 'zipcode',\n",
       "       'market', 'smart_location', 'country_code', 'country', 'latitude',\n",
       "       'longitude', 'is_location_exact', 'property_type', 'room_type',\n",
       "       'accommodates', 'bathrooms', 'bedrooms', 'beds', 'bed_type',\n",
       "       'amenities', 'square_feet', 'price', 'weekly_price',\n",
       "       'monthly_price', 'security_deposit', 'cleaning_fee',\n",
       "       'guests_included', 'extra_people', 'minimum_nights',\n",
       "       'maximum_nights', 'calendar_updated', 'has_availability',\n",
       "       'availability_30', 'availability_60', 'availability_90',\n",
       "       'availability_365', 'calendar_last_scraped', 'number_of_reviews',\n",
       "       'first_review', 'last_review', 'review_scores_rating',\n",
       "       'review_scores_accuracy', 'review_scores_cleanliness',\n",
       "       'review_scores_checkin', 'review_scores_communication',\n",
       "       'review_scores_location', 'review_scores_value',\n",
       "       'requires_license', 'license', 'jurisdiction_names',\n",
       "       'instant_bookable', 'is_business_travel_ready',\n",
       "       'cancellation_policy', 'require_guest_profile_picture',\n",
       "       'require_guest_phone_verification',\n",
       "       'calculated_host_listings_count', 'reviews_per_month'],\n",
       "      dtype=object)"
      ]
     },
     "execution_count": 4,
     "metadata": {},
     "output_type": "execute_result"
    }
   ],
   "source": [
    "listings.columns.values"
   ]
  },
  {
   "cell_type": "code",
   "execution_count": 5,
   "metadata": {
    "ExecuteTime": {
     "end_time": "2018-09-13T18:52:25.449214Z",
     "start_time": "2018-09-13T18:52:25.441500Z"
    }
   },
   "outputs": [],
   "source": [
    "df = listings[[\"host_response_rate\", \"host_acceptance_rate\", \"host_is_superhost\",\n",
    "               \"host_listings_count\", \"zipcode\", \"property_type\",\"room_type\", \"accommodates\", \"bathrooms\", \"bedrooms\", \n",
    "               \"beds\", \"price\", \"number_of_reviews\", \"review_scores_rating\", \"cancellation_policy\", \n",
    "               \"reviews_per_month\"]]"
   ]
  },
  {
   "cell_type": "code",
   "execution_count": 6,
   "metadata": {
    "ExecuteTime": {
     "end_time": "2018-09-13T18:52:25.499247Z",
     "start_time": "2018-09-13T18:52:25.451889Z"
    }
   },
   "outputs": [
    {
     "data": {
      "text/html": [
       "<div>\n",
       "<style scoped>\n",
       "    .dataframe tbody tr th:only-of-type {\n",
       "        vertical-align: middle;\n",
       "    }\n",
       "\n",
       "    .dataframe tbody tr th {\n",
       "        vertical-align: top;\n",
       "    }\n",
       "\n",
       "    .dataframe thead th {\n",
       "        text-align: right;\n",
       "    }\n",
       "</style>\n",
       "<table border=\"1\" class=\"dataframe\">\n",
       "  <thead>\n",
       "    <tr style=\"text-align: right;\">\n",
       "      <th></th>\n",
       "      <th>host_response_rate</th>\n",
       "      <th>host_acceptance_rate</th>\n",
       "      <th>host_is_superhost</th>\n",
       "      <th>host_listings_count</th>\n",
       "      <th>zipcode</th>\n",
       "      <th>property_type</th>\n",
       "      <th>room_type</th>\n",
       "      <th>accommodates</th>\n",
       "      <th>bathrooms</th>\n",
       "      <th>bedrooms</th>\n",
       "      <th>beds</th>\n",
       "      <th>price</th>\n",
       "      <th>number_of_reviews</th>\n",
       "      <th>review_scores_rating</th>\n",
       "      <th>cancellation_policy</th>\n",
       "      <th>reviews_per_month</th>\n",
       "    </tr>\n",
       "  </thead>\n",
       "  <tbody>\n",
       "    <tr>\n",
       "      <th>0</th>\n",
       "      <td>92%</td>\n",
       "      <td>NaN</td>\n",
       "      <td>f</td>\n",
       "      <td>2</td>\n",
       "      <td>95003</td>\n",
       "      <td>House</td>\n",
       "      <td>Private room</td>\n",
       "      <td>2</td>\n",
       "      <td>1.0</td>\n",
       "      <td>1</td>\n",
       "      <td>1</td>\n",
       "      <td>$60.00</td>\n",
       "      <td>24</td>\n",
       "      <td>95.0</td>\n",
       "      <td>moderate</td>\n",
       "      <td>0.24</td>\n",
       "    </tr>\n",
       "    <tr>\n",
       "      <th>1</th>\n",
       "      <td>100%</td>\n",
       "      <td>NaN</td>\n",
       "      <td>t</td>\n",
       "      <td>1</td>\n",
       "      <td>95062</td>\n",
       "      <td>Cottage</td>\n",
       "      <td>Private room</td>\n",
       "      <td>2</td>\n",
       "      <td>1.0</td>\n",
       "      <td>1</td>\n",
       "      <td>1</td>\n",
       "      <td>$85.00</td>\n",
       "      <td>325</td>\n",
       "      <td>99.0</td>\n",
       "      <td>flexible</td>\n",
       "      <td>3.20</td>\n",
       "    </tr>\n",
       "    <tr>\n",
       "      <th>2</th>\n",
       "      <td>100%</td>\n",
       "      <td>NaN</td>\n",
       "      <td>t</td>\n",
       "      <td>1</td>\n",
       "      <td>95062</td>\n",
       "      <td>Cottage</td>\n",
       "      <td>Entire home/apt</td>\n",
       "      <td>2</td>\n",
       "      <td>1.0</td>\n",
       "      <td>1</td>\n",
       "      <td>1</td>\n",
       "      <td>$190.00</td>\n",
       "      <td>105</td>\n",
       "      <td>97.0</td>\n",
       "      <td>strict_14_with_grace_period</td>\n",
       "      <td>1.50</td>\n",
       "    </tr>\n",
       "    <tr>\n",
       "      <th>3</th>\n",
       "      <td>100%</td>\n",
       "      <td>NaN</td>\n",
       "      <td>t</td>\n",
       "      <td>1</td>\n",
       "      <td>95060</td>\n",
       "      <td>House</td>\n",
       "      <td>Private room</td>\n",
       "      <td>2</td>\n",
       "      <td>1.0</td>\n",
       "      <td>1</td>\n",
       "      <td>2</td>\n",
       "      <td>$85.00</td>\n",
       "      <td>291</td>\n",
       "      <td>97.0</td>\n",
       "      <td>moderate</td>\n",
       "      <td>2.99</td>\n",
       "    </tr>\n",
       "    <tr>\n",
       "      <th>4</th>\n",
       "      <td>100%</td>\n",
       "      <td>NaN</td>\n",
       "      <td>t</td>\n",
       "      <td>2</td>\n",
       "      <td>95076</td>\n",
       "      <td>Apartment</td>\n",
       "      <td>Private room</td>\n",
       "      <td>2</td>\n",
       "      <td>NaN</td>\n",
       "      <td>1</td>\n",
       "      <td>1</td>\n",
       "      <td>$95.00</td>\n",
       "      <td>141</td>\n",
       "      <td>94.0</td>\n",
       "      <td>strict_14_with_grace_period</td>\n",
       "      <td>1.61</td>\n",
       "    </tr>\n",
       "  </tbody>\n",
       "</table>\n",
       "</div>"
      ],
      "text/plain": [
       "  host_response_rate  host_acceptance_rate host_is_superhost  \\\n",
       "0                92%                   NaN                 f   \n",
       "1               100%                   NaN                 t   \n",
       "2               100%                   NaN                 t   \n",
       "3               100%                   NaN                 t   \n",
       "4               100%                   NaN                 t   \n",
       "\n",
       "   host_listings_count zipcode property_type        room_type  accommodates  \\\n",
       "0                    2   95003         House     Private room             2   \n",
       "1                    1   95062       Cottage     Private room             2   \n",
       "2                    1   95062       Cottage  Entire home/apt             2   \n",
       "3                    1   95060         House     Private room             2   \n",
       "4                    2   95076     Apartment     Private room             2   \n",
       "\n",
       "   bathrooms  bedrooms  beds    price  number_of_reviews  \\\n",
       "0        1.0         1     1   $60.00                 24   \n",
       "1        1.0         1     1   $85.00                325   \n",
       "2        1.0         1     1  $190.00                105   \n",
       "3        1.0         1     2   $85.00                291   \n",
       "4        NaN         1     1   $95.00                141   \n",
       "\n",
       "   review_scores_rating          cancellation_policy  reviews_per_month  \n",
       "0                  95.0                     moderate               0.24  \n",
       "1                  99.0                     flexible               3.20  \n",
       "2                  97.0  strict_14_with_grace_period               1.50  \n",
       "3                  97.0                     moderate               2.99  \n",
       "4                  94.0  strict_14_with_grace_period               1.61  "
      ]
     },
     "execution_count": 6,
     "metadata": {},
     "output_type": "execute_result"
    }
   ],
   "source": [
    "df.head()"
   ]
  },
  {
   "cell_type": "code",
   "execution_count": 7,
   "metadata": {
    "ExecuteTime": {
     "end_time": "2018-09-13T18:52:25.540212Z",
     "start_time": "2018-09-13T18:52:25.503125Z"
    }
   },
   "outputs": [
    {
     "data": {
      "text/plain": [
       "host_response_rate       12.993631\n",
       "host_acceptance_rate    100.000000\n",
       "host_is_superhost         0.000000\n",
       "host_listings_count       0.000000\n",
       "zipcode                   0.700637\n",
       "property_type             0.000000\n",
       "room_type                 0.000000\n",
       "accommodates              0.000000\n",
       "bathrooms                 0.127389\n",
       "bedrooms                  0.000000\n",
       "beds                      0.000000\n",
       "price                     0.000000\n",
       "number_of_reviews         0.000000\n",
       "review_scores_rating     13.503185\n",
       "cancellation_policy       0.000000\n",
       "reviews_per_month        12.993631\n",
       "dtype: float64"
      ]
     },
     "execution_count": 7,
     "metadata": {},
     "output_type": "execute_result"
    }
   ],
   "source": [
    "# % of NaN values\n",
    "(len(df)-df.count())/len(df)*100"
   ]
  },
  {
   "cell_type": "code",
   "execution_count": 8,
   "metadata": {
    "ExecuteTime": {
     "end_time": "2018-09-13T18:52:25.556854Z",
     "start_time": "2018-09-13T18:52:25.546989Z"
    }
   },
   "outputs": [],
   "source": [
    "df = df.drop(['host_acceptance_rate'], axis=1)"
   ]
  },
  {
   "cell_type": "code",
   "execution_count": 9,
   "metadata": {
    "ExecuteTime": {
     "end_time": "2018-09-13T18:52:25.577682Z",
     "start_time": "2018-09-13T18:52:25.560640Z"
    }
   },
   "outputs": [],
   "source": [
    "# drop NaN rows\n",
    "df2=df.dropna(axis=0)"
   ]
  },
  {
   "cell_type": "code",
   "execution_count": 10,
   "metadata": {
    "ExecuteTime": {
     "end_time": "2018-09-13T18:52:25.595194Z",
     "start_time": "2018-09-13T18:52:25.581702Z"
    }
   },
   "outputs": [
    {
     "data": {
      "text/plain": [
       "21.847133757961785"
      ]
     },
     "execution_count": 10,
     "metadata": {},
     "output_type": "execute_result"
    }
   ],
   "source": [
    "# % of rows droppped\n",
    "(len(df)-len(df2))/len(df)*100"
   ]
  },
  {
   "cell_type": "code",
   "execution_count": 11,
   "metadata": {
    "ExecuteTime": {
     "end_time": "2018-09-13T18:52:25.612653Z",
     "start_time": "2018-09-13T18:52:25.599697Z"
    }
   },
   "outputs": [
    {
     "data": {
      "text/plain": [
       "(1227, 15)"
      ]
     },
     "execution_count": 11,
     "metadata": {},
     "output_type": "execute_result"
    }
   ],
   "source": [
    "df2.shape"
   ]
  },
  {
   "cell_type": "code",
   "execution_count": 12,
   "metadata": {
    "ExecuteTime": {
     "end_time": "2018-09-13T18:52:25.632410Z",
     "start_time": "2018-09-13T18:52:25.616279Z"
    }
   },
   "outputs": [],
   "source": [
    "pd.options.mode.chained_assignment = None  # default='warn'\n",
    "\n",
    "df2['host_response_rate'] = df2['host_response_rate'].astype(str)\n",
    "df2['price'] = df2['price'].astype(str)"
   ]
  },
  {
   "cell_type": "code",
   "execution_count": 13,
   "metadata": {
    "ExecuteTime": {
     "end_time": "2018-09-13T18:52:25.668584Z",
     "start_time": "2018-09-13T18:52:25.637174Z"
    }
   },
   "outputs": [],
   "source": [
    "# clean data\n",
    "pd.options.mode.chained_assignment = None  # default='warn'\n",
    "\n",
    "df2['price'] = df2['price'].str.replace(\"[$, ]\", \"\").astype(\"float\")\n",
    "df2['host_response_rate'] = df2['host_response_rate'].str.replace(\"%\", \"\").astype(\"float\")"
   ]
  },
  {
   "cell_type": "code",
   "execution_count": 14,
   "metadata": {
    "ExecuteTime": {
     "end_time": "2018-09-13T18:52:25.681834Z",
     "start_time": "2018-09-13T18:52:25.671841Z"
    }
   },
   "outputs": [],
   "source": [
    "df2['superhost']=np.where(df2['host_is_superhost']=='t',1,0)\n",
    "del df2['host_is_superhost']"
   ]
  },
  {
   "cell_type": "code",
   "execution_count": 15,
   "metadata": {
    "ExecuteTime": {
     "end_time": "2018-09-13T18:52:25.709021Z",
     "start_time": "2018-09-13T18:52:25.685109Z"
    }
   },
   "outputs": [
    {
     "data": {
      "text/html": [
       "<div>\n",
       "<style scoped>\n",
       "    .dataframe tbody tr th:only-of-type {\n",
       "        vertical-align: middle;\n",
       "    }\n",
       "\n",
       "    .dataframe tbody tr th {\n",
       "        vertical-align: top;\n",
       "    }\n",
       "\n",
       "    .dataframe thead th {\n",
       "        text-align: right;\n",
       "    }\n",
       "</style>\n",
       "<table border=\"1\" class=\"dataframe\">\n",
       "  <thead>\n",
       "    <tr style=\"text-align: right;\">\n",
       "      <th></th>\n",
       "      <th>zipcode</th>\n",
       "      <th>property_type</th>\n",
       "      <th>room_type</th>\n",
       "      <th>cancellation_policy</th>\n",
       "    </tr>\n",
       "  </thead>\n",
       "  <tbody>\n",
       "    <tr>\n",
       "      <th>0</th>\n",
       "      <td>95003</td>\n",
       "      <td>House</td>\n",
       "      <td>Private room</td>\n",
       "      <td>moderate</td>\n",
       "    </tr>\n",
       "    <tr>\n",
       "      <th>1</th>\n",
       "      <td>95062</td>\n",
       "      <td>Cottage</td>\n",
       "      <td>Private room</td>\n",
       "      <td>flexible</td>\n",
       "    </tr>\n",
       "    <tr>\n",
       "      <th>2</th>\n",
       "      <td>95062</td>\n",
       "      <td>Cottage</td>\n",
       "      <td>Entire home/apt</td>\n",
       "      <td>strict_14_with_grace_period</td>\n",
       "    </tr>\n",
       "    <tr>\n",
       "      <th>3</th>\n",
       "      <td>95060</td>\n",
       "      <td>House</td>\n",
       "      <td>Private room</td>\n",
       "      <td>moderate</td>\n",
       "    </tr>\n",
       "    <tr>\n",
       "      <th>6</th>\n",
       "      <td>95062</td>\n",
       "      <td>Cottage</td>\n",
       "      <td>Entire home/apt</td>\n",
       "      <td>moderate</td>\n",
       "    </tr>\n",
       "  </tbody>\n",
       "</table>\n",
       "</div>"
      ],
      "text/plain": [
       "  zipcode property_type        room_type          cancellation_policy\n",
       "0   95003         House     Private room                     moderate\n",
       "1   95062       Cottage     Private room                     flexible\n",
       "2   95062       Cottage  Entire home/apt  strict_14_with_grace_period\n",
       "3   95060         House     Private room                     moderate\n",
       "6   95062       Cottage  Entire home/apt                     moderate"
      ]
     },
     "execution_count": 15,
     "metadata": {},
     "output_type": "execute_result"
    }
   ],
   "source": [
    "# select non-numeric variables and create dummies\n",
    "non_num_vars = df2.select_dtypes(include=['object']).columns\n",
    "df2[non_num_vars].head()"
   ]
  },
  {
   "cell_type": "code",
   "execution_count": 16,
   "metadata": {
    "ExecuteTime": {
     "end_time": "2018-09-13T18:52:25.730752Z",
     "start_time": "2018-09-13T18:52:25.713215Z"
    }
   },
   "outputs": [],
   "source": [
    "dummy_vars = pd.get_dummies(df2[non_num_vars])"
   ]
  },
  {
   "cell_type": "code",
   "execution_count": 17,
   "metadata": {
    "ExecuteTime": {
     "end_time": "2018-09-13T18:52:25.757119Z",
     "start_time": "2018-09-13T18:52:25.733074Z"
    }
   },
   "outputs": [
    {
     "data": {
      "text/html": [
       "<div>\n",
       "<style scoped>\n",
       "    .dataframe tbody tr th:only-of-type {\n",
       "        vertical-align: middle;\n",
       "    }\n",
       "\n",
       "    .dataframe tbody tr th {\n",
       "        vertical-align: top;\n",
       "    }\n",
       "\n",
       "    .dataframe thead th {\n",
       "        text-align: right;\n",
       "    }\n",
       "</style>\n",
       "<table border=\"1\" class=\"dataframe\">\n",
       "  <thead>\n",
       "    <tr style=\"text-align: right;\">\n",
       "      <th></th>\n",
       "      <th>zipcode_94060</th>\n",
       "      <th>zipcode_95003</th>\n",
       "      <th>zipcode_95005</th>\n",
       "      <th>zipcode_95006</th>\n",
       "      <th>zipcode_95007</th>\n",
       "      <th>zipcode_95010</th>\n",
       "      <th>zipcode_95017</th>\n",
       "      <th>zipcode_95018</th>\n",
       "      <th>zipcode_95033</th>\n",
       "      <th>zipcode_95041</th>\n",
       "      <th>...</th>\n",
       "      <th>property_type_Windmill</th>\n",
       "      <th>property_type_Yurt</th>\n",
       "      <th>room_type_Entire home/apt</th>\n",
       "      <th>room_type_Private room</th>\n",
       "      <th>room_type_Shared room</th>\n",
       "      <th>cancellation_policy_flexible</th>\n",
       "      <th>cancellation_policy_moderate</th>\n",
       "      <th>cancellation_policy_strict_14_with_grace_period</th>\n",
       "      <th>cancellation_policy_super_strict_30</th>\n",
       "      <th>cancellation_policy_super_strict_60</th>\n",
       "    </tr>\n",
       "  </thead>\n",
       "  <tbody>\n",
       "    <tr>\n",
       "      <th>0</th>\n",
       "      <td>0</td>\n",
       "      <td>1</td>\n",
       "      <td>0</td>\n",
       "      <td>0</td>\n",
       "      <td>0</td>\n",
       "      <td>0</td>\n",
       "      <td>0</td>\n",
       "      <td>0</td>\n",
       "      <td>0</td>\n",
       "      <td>0</td>\n",
       "      <td>...</td>\n",
       "      <td>0</td>\n",
       "      <td>0</td>\n",
       "      <td>0</td>\n",
       "      <td>1</td>\n",
       "      <td>0</td>\n",
       "      <td>0</td>\n",
       "      <td>1</td>\n",
       "      <td>0</td>\n",
       "      <td>0</td>\n",
       "      <td>0</td>\n",
       "    </tr>\n",
       "    <tr>\n",
       "      <th>1</th>\n",
       "      <td>0</td>\n",
       "      <td>0</td>\n",
       "      <td>0</td>\n",
       "      <td>0</td>\n",
       "      <td>0</td>\n",
       "      <td>0</td>\n",
       "      <td>0</td>\n",
       "      <td>0</td>\n",
       "      <td>0</td>\n",
       "      <td>0</td>\n",
       "      <td>...</td>\n",
       "      <td>0</td>\n",
       "      <td>0</td>\n",
       "      <td>0</td>\n",
       "      <td>1</td>\n",
       "      <td>0</td>\n",
       "      <td>1</td>\n",
       "      <td>0</td>\n",
       "      <td>0</td>\n",
       "      <td>0</td>\n",
       "      <td>0</td>\n",
       "    </tr>\n",
       "    <tr>\n",
       "      <th>2</th>\n",
       "      <td>0</td>\n",
       "      <td>0</td>\n",
       "      <td>0</td>\n",
       "      <td>0</td>\n",
       "      <td>0</td>\n",
       "      <td>0</td>\n",
       "      <td>0</td>\n",
       "      <td>0</td>\n",
       "      <td>0</td>\n",
       "      <td>0</td>\n",
       "      <td>...</td>\n",
       "      <td>0</td>\n",
       "      <td>0</td>\n",
       "      <td>1</td>\n",
       "      <td>0</td>\n",
       "      <td>0</td>\n",
       "      <td>0</td>\n",
       "      <td>0</td>\n",
       "      <td>1</td>\n",
       "      <td>0</td>\n",
       "      <td>0</td>\n",
       "    </tr>\n",
       "    <tr>\n",
       "      <th>3</th>\n",
       "      <td>0</td>\n",
       "      <td>0</td>\n",
       "      <td>0</td>\n",
       "      <td>0</td>\n",
       "      <td>0</td>\n",
       "      <td>0</td>\n",
       "      <td>0</td>\n",
       "      <td>0</td>\n",
       "      <td>0</td>\n",
       "      <td>0</td>\n",
       "      <td>...</td>\n",
       "      <td>0</td>\n",
       "      <td>0</td>\n",
       "      <td>0</td>\n",
       "      <td>1</td>\n",
       "      <td>0</td>\n",
       "      <td>0</td>\n",
       "      <td>1</td>\n",
       "      <td>0</td>\n",
       "      <td>0</td>\n",
       "      <td>0</td>\n",
       "    </tr>\n",
       "    <tr>\n",
       "      <th>6</th>\n",
       "      <td>0</td>\n",
       "      <td>0</td>\n",
       "      <td>0</td>\n",
       "      <td>0</td>\n",
       "      <td>0</td>\n",
       "      <td>0</td>\n",
       "      <td>0</td>\n",
       "      <td>0</td>\n",
       "      <td>0</td>\n",
       "      <td>0</td>\n",
       "      <td>...</td>\n",
       "      <td>0</td>\n",
       "      <td>0</td>\n",
       "      <td>1</td>\n",
       "      <td>0</td>\n",
       "      <td>0</td>\n",
       "      <td>0</td>\n",
       "      <td>1</td>\n",
       "      <td>0</td>\n",
       "      <td>0</td>\n",
       "      <td>0</td>\n",
       "    </tr>\n",
       "  </tbody>\n",
       "</table>\n",
       "<p>5 rows × 55 columns</p>\n",
       "</div>"
      ],
      "text/plain": [
       "   zipcode_94060  zipcode_95003  zipcode_95005  zipcode_95006  zipcode_95007  \\\n",
       "0              0              1              0              0              0   \n",
       "1              0              0              0              0              0   \n",
       "2              0              0              0              0              0   \n",
       "3              0              0              0              0              0   \n",
       "6              0              0              0              0              0   \n",
       "\n",
       "   zipcode_95010  zipcode_95017  zipcode_95018  zipcode_95033  zipcode_95041  \\\n",
       "0              0              0              0              0              0   \n",
       "1              0              0              0              0              0   \n",
       "2              0              0              0              0              0   \n",
       "3              0              0              0              0              0   \n",
       "6              0              0              0              0              0   \n",
       "\n",
       "                  ...                   property_type_Windmill  \\\n",
       "0                 ...                                        0   \n",
       "1                 ...                                        0   \n",
       "2                 ...                                        0   \n",
       "3                 ...                                        0   \n",
       "6                 ...                                        0   \n",
       "\n",
       "   property_type_Yurt  room_type_Entire home/apt  room_type_Private room  \\\n",
       "0                   0                          0                       1   \n",
       "1                   0                          0                       1   \n",
       "2                   0                          1                       0   \n",
       "3                   0                          0                       1   \n",
       "6                   0                          1                       0   \n",
       "\n",
       "   room_type_Shared room  cancellation_policy_flexible  \\\n",
       "0                      0                             0   \n",
       "1                      0                             1   \n",
       "2                      0                             0   \n",
       "3                      0                             0   \n",
       "6                      0                             0   \n",
       "\n",
       "   cancellation_policy_moderate  \\\n",
       "0                             1   \n",
       "1                             0   \n",
       "2                             0   \n",
       "3                             1   \n",
       "6                             1   \n",
       "\n",
       "   cancellation_policy_strict_14_with_grace_period  \\\n",
       "0                                                0   \n",
       "1                                                0   \n",
       "2                                                1   \n",
       "3                                                0   \n",
       "6                                                0   \n",
       "\n",
       "   cancellation_policy_super_strict_30  cancellation_policy_super_strict_60  \n",
       "0                                    0                                    0  \n",
       "1                                    0                                    0  \n",
       "2                                    0                                    0  \n",
       "3                                    0                                    0  \n",
       "6                                    0                                    0  \n",
       "\n",
       "[5 rows x 55 columns]"
      ]
     },
     "execution_count": 17,
     "metadata": {},
     "output_type": "execute_result"
    }
   ],
   "source": [
    "dummy_vars.head()"
   ]
  },
  {
   "cell_type": "code",
   "execution_count": 18,
   "metadata": {
    "ExecuteTime": {
     "end_time": "2018-09-13T18:52:25.798826Z",
     "start_time": "2018-09-13T18:52:25.762140Z"
    }
   },
   "outputs": [
    {
     "data": {
      "text/html": [
       "<div>\n",
       "<style scoped>\n",
       "    .dataframe tbody tr th:only-of-type {\n",
       "        vertical-align: middle;\n",
       "    }\n",
       "\n",
       "    .dataframe tbody tr th {\n",
       "        vertical-align: top;\n",
       "    }\n",
       "\n",
       "    .dataframe thead th {\n",
       "        text-align: right;\n",
       "    }\n",
       "</style>\n",
       "<table border=\"1\" class=\"dataframe\">\n",
       "  <thead>\n",
       "    <tr style=\"text-align: right;\">\n",
       "      <th></th>\n",
       "      <th>host_response_rate</th>\n",
       "      <th>host_listings_count</th>\n",
       "      <th>accommodates</th>\n",
       "      <th>bathrooms</th>\n",
       "      <th>bedrooms</th>\n",
       "      <th>beds</th>\n",
       "      <th>price</th>\n",
       "      <th>number_of_reviews</th>\n",
       "      <th>review_scores_rating</th>\n",
       "      <th>reviews_per_month</th>\n",
       "      <th>...</th>\n",
       "      <th>property_type_Windmill</th>\n",
       "      <th>property_type_Yurt</th>\n",
       "      <th>room_type_Entire home/apt</th>\n",
       "      <th>room_type_Private room</th>\n",
       "      <th>room_type_Shared room</th>\n",
       "      <th>cancellation_policy_flexible</th>\n",
       "      <th>cancellation_policy_moderate</th>\n",
       "      <th>cancellation_policy_strict_14_with_grace_period</th>\n",
       "      <th>cancellation_policy_super_strict_30</th>\n",
       "      <th>cancellation_policy_super_strict_60</th>\n",
       "    </tr>\n",
       "  </thead>\n",
       "  <tbody>\n",
       "    <tr>\n",
       "      <th>0</th>\n",
       "      <td>92.0</td>\n",
       "      <td>2</td>\n",
       "      <td>2</td>\n",
       "      <td>1.0</td>\n",
       "      <td>1</td>\n",
       "      <td>1</td>\n",
       "      <td>60.0</td>\n",
       "      <td>24</td>\n",
       "      <td>95.0</td>\n",
       "      <td>0.24</td>\n",
       "      <td>...</td>\n",
       "      <td>0</td>\n",
       "      <td>0</td>\n",
       "      <td>0</td>\n",
       "      <td>1</td>\n",
       "      <td>0</td>\n",
       "      <td>0</td>\n",
       "      <td>1</td>\n",
       "      <td>0</td>\n",
       "      <td>0</td>\n",
       "      <td>0</td>\n",
       "    </tr>\n",
       "    <tr>\n",
       "      <th>1</th>\n",
       "      <td>100.0</td>\n",
       "      <td>1</td>\n",
       "      <td>2</td>\n",
       "      <td>1.0</td>\n",
       "      <td>1</td>\n",
       "      <td>1</td>\n",
       "      <td>85.0</td>\n",
       "      <td>325</td>\n",
       "      <td>99.0</td>\n",
       "      <td>3.20</td>\n",
       "      <td>...</td>\n",
       "      <td>0</td>\n",
       "      <td>0</td>\n",
       "      <td>0</td>\n",
       "      <td>1</td>\n",
       "      <td>0</td>\n",
       "      <td>1</td>\n",
       "      <td>0</td>\n",
       "      <td>0</td>\n",
       "      <td>0</td>\n",
       "      <td>0</td>\n",
       "    </tr>\n",
       "    <tr>\n",
       "      <th>2</th>\n",
       "      <td>100.0</td>\n",
       "      <td>1</td>\n",
       "      <td>2</td>\n",
       "      <td>1.0</td>\n",
       "      <td>1</td>\n",
       "      <td>1</td>\n",
       "      <td>190.0</td>\n",
       "      <td>105</td>\n",
       "      <td>97.0</td>\n",
       "      <td>1.50</td>\n",
       "      <td>...</td>\n",
       "      <td>0</td>\n",
       "      <td>0</td>\n",
       "      <td>1</td>\n",
       "      <td>0</td>\n",
       "      <td>0</td>\n",
       "      <td>0</td>\n",
       "      <td>0</td>\n",
       "      <td>1</td>\n",
       "      <td>0</td>\n",
       "      <td>0</td>\n",
       "    </tr>\n",
       "    <tr>\n",
       "      <th>3</th>\n",
       "      <td>100.0</td>\n",
       "      <td>1</td>\n",
       "      <td>2</td>\n",
       "      <td>1.0</td>\n",
       "      <td>1</td>\n",
       "      <td>2</td>\n",
       "      <td>85.0</td>\n",
       "      <td>291</td>\n",
       "      <td>97.0</td>\n",
       "      <td>2.99</td>\n",
       "      <td>...</td>\n",
       "      <td>0</td>\n",
       "      <td>0</td>\n",
       "      <td>0</td>\n",
       "      <td>1</td>\n",
       "      <td>0</td>\n",
       "      <td>0</td>\n",
       "      <td>1</td>\n",
       "      <td>0</td>\n",
       "      <td>0</td>\n",
       "      <td>0</td>\n",
       "    </tr>\n",
       "    <tr>\n",
       "      <th>6</th>\n",
       "      <td>100.0</td>\n",
       "      <td>4</td>\n",
       "      <td>3</td>\n",
       "      <td>1.0</td>\n",
       "      <td>1</td>\n",
       "      <td>2</td>\n",
       "      <td>200.0</td>\n",
       "      <td>97</td>\n",
       "      <td>98.0</td>\n",
       "      <td>1.02</td>\n",
       "      <td>...</td>\n",
       "      <td>0</td>\n",
       "      <td>0</td>\n",
       "      <td>1</td>\n",
       "      <td>0</td>\n",
       "      <td>0</td>\n",
       "      <td>0</td>\n",
       "      <td>1</td>\n",
       "      <td>0</td>\n",
       "      <td>0</td>\n",
       "      <td>0</td>\n",
       "    </tr>\n",
       "  </tbody>\n",
       "</table>\n",
       "<p>5 rows × 66 columns</p>\n",
       "</div>"
      ],
      "text/plain": [
       "   host_response_rate  host_listings_count  accommodates  bathrooms  bedrooms  \\\n",
       "0                92.0                    2             2        1.0         1   \n",
       "1               100.0                    1             2        1.0         1   \n",
       "2               100.0                    1             2        1.0         1   \n",
       "3               100.0                    1             2        1.0         1   \n",
       "6               100.0                    4             3        1.0         1   \n",
       "\n",
       "   beds  price  number_of_reviews  review_scores_rating  reviews_per_month  \\\n",
       "0     1   60.0                 24                  95.0               0.24   \n",
       "1     1   85.0                325                  99.0               3.20   \n",
       "2     1  190.0                105                  97.0               1.50   \n",
       "3     2   85.0                291                  97.0               2.99   \n",
       "6     2  200.0                 97                  98.0               1.02   \n",
       "\n",
       "                  ...                   property_type_Windmill  \\\n",
       "0                 ...                                        0   \n",
       "1                 ...                                        0   \n",
       "2                 ...                                        0   \n",
       "3                 ...                                        0   \n",
       "6                 ...                                        0   \n",
       "\n",
       "   property_type_Yurt  room_type_Entire home/apt  room_type_Private room  \\\n",
       "0                   0                          0                       1   \n",
       "1                   0                          0                       1   \n",
       "2                   0                          1                       0   \n",
       "3                   0                          0                       1   \n",
       "6                   0                          1                       0   \n",
       "\n",
       "   room_type_Shared room  cancellation_policy_flexible  \\\n",
       "0                      0                             0   \n",
       "1                      0                             1   \n",
       "2                      0                             0   \n",
       "3                      0                             0   \n",
       "6                      0                             0   \n",
       "\n",
       "   cancellation_policy_moderate  \\\n",
       "0                             1   \n",
       "1                             0   \n",
       "2                             0   \n",
       "3                             1   \n",
       "6                             1   \n",
       "\n",
       "   cancellation_policy_strict_14_with_grace_period  \\\n",
       "0                                                0   \n",
       "1                                                0   \n",
       "2                                                1   \n",
       "3                                                0   \n",
       "6                                                0   \n",
       "\n",
       "   cancellation_policy_super_strict_30  cancellation_policy_super_strict_60  \n",
       "0                                    0                                    0  \n",
       "1                                    0                                    0  \n",
       "2                                    0                                    0  \n",
       "3                                    0                                    0  \n",
       "6                                    0                                    0  \n",
       "\n",
       "[5 rows x 66 columns]"
      ]
     },
     "execution_count": 18,
     "metadata": {},
     "output_type": "execute_result"
    }
   ],
   "source": [
    "# drop non-numeric variables from df2 and add the dummies\n",
    "df3=df2.drop(non_num_vars,axis=1)\n",
    "df3 = pd.merge(df3,dummy_vars, left_index=True, right_index=True)\n",
    "df3.head()"
   ]
  },
  {
   "cell_type": "code",
   "execution_count": 19,
   "metadata": {
    "ExecuteTime": {
     "end_time": "2018-09-13T18:52:25.818819Z",
     "start_time": "2018-09-13T18:52:25.802287Z"
    }
   },
   "outputs": [
    {
     "name": "stderr",
     "output_type": "stream",
     "text": [
      "/Users/xzhou/anaconda3/lib/python3.6/site-packages/ipykernel_launcher.py:10: UserWarning: Pandas doesn't allow columns to be created via a new attribute name - see https://pandas.pydata.org/pandas-docs/stable/indexing.html#attribute-access\n",
      "  # Remove the CWD from sys.path while we load stuff.\n",
      "/Users/xzhou/anaconda3/lib/python3.6/site-packages/ipykernel_launcher.py:12: UserWarning: Pandas doesn't allow columns to be created via a new attribute name - see https://pandas.pydata.org/pandas-docs/stable/indexing.html#attribute-access\n",
      "  if sys.path[0] == '':\n",
      "/Users/xzhou/anaconda3/lib/python3.6/site-packages/ipykernel_launcher.py:15: FutureWarning: Method .as_matrix will be removed in a future version. Use .values instead.\n",
      "  from ipykernel import kernelapp as app\n",
      "/Users/xzhou/anaconda3/lib/python3.6/site-packages/ipykernel_launcher.py:16: FutureWarning: Method .as_matrix will be removed in a future version. Use .values instead.\n",
      "  app.launch_new_instance()\n"
     ]
    }
   ],
   "source": [
    "# split into test and training data\n",
    "np.random.seed(1)\n",
    "indices = np.random.permutation(len(df3))\n",
    "train_size = int(round(0.8*len(df3)))\n",
    "test_size = len(df3)-train_size\n",
    "\n",
    "y = df3['price']\n",
    "x = df3.drop('price', axis =1)\n",
    "\n",
    "x.train = x.iloc[indices[0:train_size]]\n",
    "y.train = y.iloc[indices[0:train_size]]\n",
    "x.test = x.iloc[indices[train_size+1:]]\n",
    "y.test = y.iloc[indices[train_size+1:]]\n",
    "\n",
    "x2 = x.train.as_matrix()\n",
    "y2 = y.train.as_matrix()"
   ]
  },
  {
   "cell_type": "code",
   "execution_count": 20,
   "metadata": {
    "ExecuteTime": {
     "end_time": "2018-09-13T18:52:25.890397Z",
     "start_time": "2018-09-13T18:52:25.822306Z"
    }
   },
   "outputs": [
    {
     "name": "stdout",
     "output_type": "stream",
     "text": [
      "                            OLS Regression Results                            \n",
      "==============================================================================\n",
      "Dep. Variable:                      y   R-squared:                       0.797\n",
      "Model:                            OLS   Adj. R-squared:                  0.784\n",
      "Method:                 Least Squares   F-statistic:                     60.35\n",
      "Date:                Thu, 13 Sep 2018   Prob (F-statistic):          5.19e-276\n",
      "Time:                        11:52:25   Log-Likelihood:                -5748.0\n",
      "No. Observations:                 982   AIC:                         1.162e+04\n",
      "Df Residuals:                     921   BIC:                         1.192e+04\n",
      "Df Model:                          60                                         \n",
      "Covariance Type:            nonrobust                                         \n",
      "==============================================================================\n",
      "                 coef    std err          t      P>|t|      [0.025      0.975]\n",
      "------------------------------------------------------------------------------\n",
      "x1            -0.0478      0.331     -0.145      0.885      -0.697       0.601\n",
      "x2             0.1252      0.120      1.040      0.299      -0.111       0.361\n",
      "x3            13.3547      2.425      5.508      0.000       8.596      18.113\n",
      "x4            75.3956      6.973     10.812      0.000      61.710      89.081\n",
      "x5            29.9957      5.330      5.628      0.000      19.536      40.456\n",
      "x6            -1.5393      2.651     -0.581      0.562      -6.742       3.663\n",
      "x7            -0.0816      0.045     -1.812      0.070      -0.170       0.007\n",
      "x8             0.6024      0.578      1.043      0.297      -0.531       1.736\n",
      "x9            -4.8728      1.377     -3.538      0.000      -7.576      -2.170\n",
      "x10            0.2710      6.740      0.040      0.968     -12.956      13.498\n",
      "x11         1257.4840     93.477     13.452      0.000    1074.031    1440.937\n",
      "x12          -63.8750     13.374     -4.776      0.000     -90.123     -37.627\n",
      "x13          -88.9756     22.098     -4.026      0.000    -132.344     -45.608\n",
      "x14         -119.8257     19.838     -6.040      0.000    -158.759     -80.892\n",
      "x15          -59.8893     84.965     -0.705      0.481    -226.637     106.859\n",
      "x16          -32.9603     19.452     -1.694      0.091     -71.136       5.215\n",
      "x17          -10.7993     29.118     -0.371      0.711     -67.944      46.346\n",
      "x18          -87.6603     18.988     -4.617      0.000    -124.925     -50.395\n",
      "x19          -27.4103     22.982     -1.193      0.233     -72.513      17.692\n",
      "x20         -109.0458     34.298     -3.179      0.002    -176.357     -41.734\n",
      "x21          -49.4260     12.982     -3.807      0.000     -74.903     -23.949\n",
      "x22          -40.1084     13.087     -3.065      0.002     -65.792     -14.425\n",
      "x23         -190.0376     84.833     -2.240      0.025    -356.525     -23.550\n",
      "x24          -66.3191     23.442     -2.829      0.005    -112.325     -20.314\n",
      "x25          -94.0944     22.360     -4.208      0.000    -137.978     -50.211\n",
      "x26          -50.4628     17.167     -2.940      0.003     -84.154     -16.772\n",
      "x27          -54.6643     15.035     -3.636      0.000     -84.171     -25.157\n",
      "x28           51.1903     85.564      0.598      0.550    -116.733     219.113\n",
      "x29          -77.7736     87.172     -0.892      0.373    -248.853      93.306\n",
      "x30          -31.8176     13.728     -2.318      0.021     -58.759      -4.877\n",
      "x31           -0.6021     61.794     -0.010      0.992    -121.875     120.671\n",
      "x32           10.5236     24.757      0.425      0.671     -38.063      59.110\n",
      "x33          643.4592     97.910      6.572      0.000     451.306     835.612\n",
      "x34          -49.7459     18.891     -2.633      0.009     -86.820     -12.672\n",
      "const       6.323e-13   8.98e-14      7.041      0.000    4.56e-13    8.09e-13\n",
      "x35          -26.3949     20.042     -1.317      0.188     -65.728      12.938\n",
      "x36          -58.2280     25.964     -2.243      0.025    -109.183      -7.273\n",
      "x37         -135.3330     46.115     -2.935      0.003    -225.836     -44.830\n",
      "x38          -32.2628     16.537     -1.951      0.051     -64.718       0.192\n",
      "x39          -19.6532     18.306     -1.074      0.283     -55.580      16.273\n",
      "x40         -291.9987     85.786     -3.404      0.001    -460.358    -123.639\n",
      "x41           -9.1772     43.842     -0.209      0.834     -95.220      76.865\n",
      "x42          -25.7105     14.564     -1.765      0.078     -54.292       2.871\n",
      "x43          -37.1880     15.566     -2.389      0.017     -67.737      -6.639\n",
      "x44          -40.7471     10.933     -3.727      0.000     -62.203     -19.291\n",
      "x45            6.7802     85.545      0.079      0.937    -161.105     174.665\n",
      "x46          -19.2654     63.546     -0.303      0.762    -143.978     105.447\n",
      "x47          -10.4413     39.552     -0.264      0.792     -88.064      67.181\n",
      "x48           51.0596     85.503      0.597      0.551    -116.744     218.863\n",
      "x49          -33.3498     60.469     -0.552      0.581    -152.023      85.323\n",
      "x50          -18.6979     50.368     -0.371      0.711    -117.546      80.151\n",
      "x51            3.2457     32.107      0.101      0.920     -59.766      66.257\n",
      "x52          -55.3119     17.739     -3.118      0.002     -90.126     -20.498\n",
      "x53           86.8266     36.540      2.376      0.018      15.116     158.537\n",
      "x54           36.6233     26.477      1.383      0.167     -15.338      88.585\n",
      "x55          197.2493     87.480      2.255      0.024      25.566     368.932\n",
      "x56          -54.4955     39.031     -1.396      0.163    -131.096      22.105\n",
      "x57           67.6204     36.632      1.846      0.065      -4.272     139.513\n",
      "x58           30.5956     36.054      0.849      0.396     -40.162     101.353\n",
      "x59          -12.8696     51.545     -0.250      0.803    -114.029      88.289\n",
      "x60          -17.1179     22.706     -0.754      0.451     -61.680      27.444\n",
      "x61           -9.5125     22.922     -0.415      0.678     -54.497      35.472\n",
      "x62           17.0187     22.456      0.758      0.449     -27.053      61.090\n",
      "x63          -18.6494     38.466     -0.485      0.628     -94.140      56.841\n",
      "x64          113.6076     29.335      3.873      0.000      56.036     171.179\n",
      "==============================================================================\n",
      "Omnibus:                      278.864   Durbin-Watson:                   1.952\n",
      "Prob(Omnibus):                  0.000   Jarque-Bera (JB):             1515.177\n",
      "Skew:                           1.191   Prob(JB):                         0.00\n",
      "Kurtosis:                       8.600   Cond. No.                     3.61e+17\n",
      "==============================================================================\n",
      "\n",
      "Warnings:\n",
      "[1] Standard Errors assume that the covariance matrix of the errors is correctly specified.\n",
      "[2] The smallest eigenvalue is 1.81e-28. This might indicate that there are\n",
      "strong multicollinearity problems or that the design matrix is singular.\n"
     ]
    }
   ],
   "source": [
    "import statsmodels.api as sm\n",
    "olsmod = sm.OLS(y2,x2)\n",
    "olsres = olsmod.fit()\n",
    "print(olsres.summary())"
   ]
  },
  {
   "cell_type": "code",
   "execution_count": 21,
   "metadata": {
    "ExecuteTime": {
     "end_time": "2018-09-13T18:52:25.903154Z",
     "start_time": "2018-09-13T18:52:25.893986Z"
    }
   },
   "outputs": [],
   "source": [
    "# different method\n",
    "from sklearn import linear_model\n",
    "from sklearn.model_selection import train_test_split\n",
    "X_train, X_test, y_train, y_test = train_test_split(x, y, test_size = 0.25, random_state=1)"
   ]
  },
  {
   "cell_type": "code",
   "execution_count": 22,
   "metadata": {
    "ExecuteTime": {
     "end_time": "2018-09-13T18:52:27.659716Z",
     "start_time": "2018-09-13T18:52:25.906764Z"
    }
   },
   "outputs": [
    {
     "name": "stdout",
     "output_type": "stream",
     "text": [
      "MSE train: 1363.122, test: 11120.276\n",
      "R^2 train: 0.958, test: 0.740\n"
     ]
    }
   ],
   "source": [
    "from sklearn.ensemble import RandomForestRegressor\n",
    "forest = RandomForestRegressor(n_estimators=500, \n",
    "                               criterion='mse', \n",
    "                               random_state=3, \n",
    "                               n_jobs=-1)\n",
    "forest.fit(X_train, y_train)\n",
    "y_train_pred = forest.predict(X_train)\n",
    "y_test_pred = forest.predict(X_test)\n",
    "\n",
    "print('MSE train: %.3f, test: %.3f' % (\n",
    "        mean_squared_error(y_train, y_train_pred),\n",
    "        mean_squared_error(y_test, y_test_pred)))\n",
    "print('R^2 train: %.3f, test: %.3f' % (\n",
    "        r2_score(y_train, y_train_pred),\n",
    "        r2_score(y_test, y_test_pred)))"
   ]
  },
  {
   "cell_type": "code",
   "execution_count": null,
   "metadata": {},
   "outputs": [],
   "source": []
  },
  {
   "cell_type": "code",
   "execution_count": null,
   "metadata": {},
   "outputs": [],
   "source": []
  },
  {
   "cell_type": "code",
   "execution_count": null,
   "metadata": {},
   "outputs": [],
   "source": []
  }
 ],
 "metadata": {
  "kernelspec": {
   "display_name": "Python 3",
   "language": "python",
   "name": "python3"
  },
  "language_info": {
   "codemirror_mode": {
    "name": "ipython",
    "version": 3
   },
   "file_extension": ".py",
   "mimetype": "text/x-python",
   "name": "python",
   "nbconvert_exporter": "python",
   "pygments_lexer": "ipython3",
   "version": "3.6.6"
  },
  "varInspector": {
   "cols": {
    "lenName": 16,
    "lenType": 16,
    "lenVar": 40
   },
   "kernels_config": {
    "python": {
     "delete_cmd_postfix": "",
     "delete_cmd_prefix": "del ",
     "library": "var_list.py",
     "varRefreshCmd": "print(var_dic_list())"
    },
    "r": {
     "delete_cmd_postfix": ") ",
     "delete_cmd_prefix": "rm(",
     "library": "var_list.r",
     "varRefreshCmd": "cat(var_dic_list()) "
    }
   },
   "types_to_exclude": [
    "module",
    "function",
    "builtin_function_or_method",
    "instance",
    "_Feature"
   ],
   "window_display": false
  }
 },
 "nbformat": 4,
 "nbformat_minor": 2
}
