{
 "cells": [
  {
   "cell_type": "markdown",
   "metadata": {},
   "source": [
    "# Data Retrieval"
   ]
  },
  {
   "cell_type": "code",
   "execution_count": 1,
   "metadata": {
    "ExecuteTime": {
     "end_time": "2019-02-22T00:42:47.416541Z",
     "start_time": "2019-02-22T00:42:47.410909Z"
    }
   },
   "outputs": [],
   "source": [
    "import warnings\n",
    "warnings.simplefilter(action='ignore', category=Warning)"
   ]
  },
  {
   "cell_type": "code",
   "execution_count": 2,
   "metadata": {
    "ExecuteTime": {
     "end_time": "2019-02-22T00:42:49.351634Z",
     "start_time": "2019-02-22T00:42:47.420754Z"
    }
   },
   "outputs": [],
   "source": [
    "import pandas as pd\n",
    "import IPython.display\n",
    "import matplotlib.pyplot as plt\n",
    "import csv\n",
    "import re\n",
    "import numpy as np\n",
    "from datetime import datetime\n",
    "import statsmodels.api as sm\n",
    "\n",
    "from sklearn import datasets, linear_model\n",
    "from sklearn.metrics import mean_squared_error, r2_score\n",
    "from sklearn.preprocessing import StandardScaler\n",
    "from sklearn.model_selection import train_test_split\n",
    "from sklearn.ensemble import RandomForestRegressor\n",
    "from sklearn.ensemble import GradientBoostingRegressor"
   ]
  },
  {
   "cell_type": "code",
   "execution_count": 3,
   "metadata": {
    "ExecuteTime": {
     "end_time": "2019-02-22T00:42:49.358612Z",
     "start_time": "2019-02-22T00:42:49.354261Z"
    }
   },
   "outputs": [],
   "source": [
    "plt.style.use('seaborn')"
   ]
  },
  {
   "cell_type": "code",
   "execution_count": 4,
   "metadata": {
    "ExecuteTime": {
     "end_time": "2019-02-22T00:42:49.366795Z",
     "start_time": "2019-02-22T00:42:49.361970Z"
    }
   },
   "outputs": [],
   "source": [
    "# File path for cities: San Francisco(sf), Okaland(ok), and Santa Clara(sc)\n",
    "\n",
    "file_url = '/Users/xzhou/github/project_archives/files_airbnb/{}.csv'\n",
    "\n",
    "sf_file = file_url.format('sf_airbnb/listings_details')\n",
    "ok_file = file_url.format('ok_airbnb/listings_details')\n",
    "sc_file = file_url.format('sc_airbnb/listings_details')"
   ]
  },
  {
   "cell_type": "code",
   "execution_count": 5,
   "metadata": {
    "ExecuteTime": {
     "end_time": "2019-02-22T00:42:52.593041Z",
     "start_time": "2019-02-22T00:42:49.370518Z"
    }
   },
   "outputs": [
    {
     "name": "stdout",
     "output_type": "stream",
     "text": [
      "sf file dimensions:  (6633, 96)\n",
      "ok file dimensions:  (2898, 96)\n",
      "sc file dimensions:  (5668, 96)\n"
     ]
    }
   ],
   "source": [
    "# Loaded files as DataFrame\n",
    "\n",
    "date_to_parse = ['last_scraped','host_since', 'first_review', 'last_review']\n",
    "\n",
    "listings_sf = pd.read_csv(sf_file, parse_dates=date_to_parse)\n",
    "listings_ok = pd.read_csv(ok_file, parse_dates=date_to_parse)\n",
    "listings_sc = pd.read_csv(sc_file, parse_dates=date_to_parse)\n",
    "\n",
    "print('sf file dimensions: ', listings_sf.shape) \n",
    "print('ok file dimensions: ', listings_ok.shape) \n",
    "print('sc file dimensions: ', listings_sc.shape) "
   ]
  },
  {
   "cell_type": "code",
   "execution_count": 6,
   "metadata": {
    "ExecuteTime": {
     "end_time": "2019-02-22T00:42:52.837081Z",
     "start_time": "2019-02-22T00:42:52.596734Z"
    },
    "scrolled": true
   },
   "outputs": [
    {
     "data": {
      "text/html": [
       "<div>\n",
       "<style scoped>\n",
       "    .dataframe tbody tr th:only-of-type {\n",
       "        vertical-align: middle;\n",
       "    }\n",
       "\n",
       "    .dataframe tbody tr th {\n",
       "        vertical-align: top;\n",
       "    }\n",
       "\n",
       "    .dataframe thead th {\n",
       "        text-align: right;\n",
       "    }\n",
       "</style>\n",
       "<table border=\"1\" class=\"dataframe\">\n",
       "  <thead>\n",
       "    <tr style=\"text-align: right;\">\n",
       "      <th></th>\n",
       "      <th></th>\n",
       "      <th>id</th>\n",
       "      <th>listing_url</th>\n",
       "      <th>scrape_id</th>\n",
       "      <th>last_scraped</th>\n",
       "      <th>name</th>\n",
       "      <th>summary</th>\n",
       "      <th>space</th>\n",
       "      <th>description</th>\n",
       "      <th>experiences_offered</th>\n",
       "      <th>neighborhood_overview</th>\n",
       "      <th>...</th>\n",
       "      <th>requires_license</th>\n",
       "      <th>license</th>\n",
       "      <th>jurisdiction_names</th>\n",
       "      <th>instant_bookable</th>\n",
       "      <th>is_business_travel_ready</th>\n",
       "      <th>cancellation_policy</th>\n",
       "      <th>require_guest_profile_picture</th>\n",
       "      <th>require_guest_phone_verification</th>\n",
       "      <th>calculated_host_listings_count</th>\n",
       "      <th>reviews_per_month</th>\n",
       "    </tr>\n",
       "  </thead>\n",
       "  <tbody>\n",
       "    <tr>\n",
       "      <th rowspan=\"5\" valign=\"top\">sf</th>\n",
       "      <th>0</th>\n",
       "      <td>958</td>\n",
       "      <td>https://www.airbnb.com/rooms/958</td>\n",
       "      <td>2.018080e+13</td>\n",
       "      <td>2018-08-06</td>\n",
       "      <td>Bright, Modern Garden Unit - 1BR/1B</td>\n",
       "      <td>Our bright garden unit overlooks a grassy back...</td>\n",
       "      <td>Newly remodeled, modern, and bright garden uni...</td>\n",
       "      <td>Our bright garden unit overlooks a grassy back...</td>\n",
       "      <td>none</td>\n",
       "      <td>*Quiet cul de sac in friendly neighborhood *St...</td>\n",
       "      <td>...</td>\n",
       "      <td>t</td>\n",
       "      <td>STR-0001256</td>\n",
       "      <td>{\"SAN FRANCISCO\"}</td>\n",
       "      <td>f</td>\n",
       "      <td>f</td>\n",
       "      <td>moderate</td>\n",
       "      <td>f</td>\n",
       "      <td>f</td>\n",
       "      <td>1</td>\n",
       "      <td>1.38</td>\n",
       "    </tr>\n",
       "    <tr>\n",
       "      <th>1</th>\n",
       "      <td>5858</td>\n",
       "      <td>https://www.airbnb.com/rooms/5858</td>\n",
       "      <td>2.018080e+13</td>\n",
       "      <td>2018-08-06</td>\n",
       "      <td>Creative Sanctuary</td>\n",
       "      <td>NaN</td>\n",
       "      <td>We live in a large Victorian house on a quiet ...</td>\n",
       "      <td>We live in a large Victorian house on a quiet ...</td>\n",
       "      <td>none</td>\n",
       "      <td>I love how our neighborhood feels quiet but is...</td>\n",
       "      <td>...</td>\n",
       "      <td>t</td>\n",
       "      <td>NaN</td>\n",
       "      <td>{\"SAN FRANCISCO\"}</td>\n",
       "      <td>f</td>\n",
       "      <td>f</td>\n",
       "      <td>strict_14_with_grace_period</td>\n",
       "      <td>f</td>\n",
       "      <td>f</td>\n",
       "      <td>1</td>\n",
       "      <td>0.99</td>\n",
       "    </tr>\n",
       "    <tr>\n",
       "      <th>2</th>\n",
       "      <td>7918</td>\n",
       "      <td>https://www.airbnb.com/rooms/7918</td>\n",
       "      <td>2.018080e+13</td>\n",
       "      <td>2018-08-06</td>\n",
       "      <td>A Friendly Room - UCSF/USF - San Francisco</td>\n",
       "      <td>Nice and good public transportation.  7 minute...</td>\n",
       "      <td>Room rental-sunny view room/sink/Wi Fi (inner ...</td>\n",
       "      <td>Nice and good public transportation.  7 minute...</td>\n",
       "      <td>none</td>\n",
       "      <td>Shopping old town, restaurants, McDonald, Whol...</td>\n",
       "      <td>...</td>\n",
       "      <td>t</td>\n",
       "      <td>NaN</td>\n",
       "      <td>{\"SAN FRANCISCO\"}</td>\n",
       "      <td>f</td>\n",
       "      <td>f</td>\n",
       "      <td>strict_14_with_grace_period</td>\n",
       "      <td>f</td>\n",
       "      <td>f</td>\n",
       "      <td>9</td>\n",
       "      <td>0.16</td>\n",
       "    </tr>\n",
       "    <tr>\n",
       "      <th>3</th>\n",
       "      <td>8142</td>\n",
       "      <td>https://www.airbnb.com/rooms/8142</td>\n",
       "      <td>2.018080e+13</td>\n",
       "      <td>2018-08-06</td>\n",
       "      <td>Friendly Room Apt. Style -UCSF/USF - San Franc...</td>\n",
       "      <td>Nice and good public transportation.  7 minute...</td>\n",
       "      <td>Room rental Sunny view Rm/Wi-Fi/TV/sink/large ...</td>\n",
       "      <td>Nice and good public transportation.  7 minute...</td>\n",
       "      <td>none</td>\n",
       "      <td>NaN</td>\n",
       "      <td>...</td>\n",
       "      <td>t</td>\n",
       "      <td>NaN</td>\n",
       "      <td>{\"SAN FRANCISCO\"}</td>\n",
       "      <td>f</td>\n",
       "      <td>f</td>\n",
       "      <td>strict_14_with_grace_period</td>\n",
       "      <td>f</td>\n",
       "      <td>f</td>\n",
       "      <td>9</td>\n",
       "      <td>0.15</td>\n",
       "    </tr>\n",
       "    <tr>\n",
       "      <th>4</th>\n",
       "      <td>8339</td>\n",
       "      <td>https://www.airbnb.com/rooms/8339</td>\n",
       "      <td>2.018080e+13</td>\n",
       "      <td>2018-08-06</td>\n",
       "      <td>Historic Alamo Square Victorian</td>\n",
       "      <td>Pls email before booking.  Interior featured i...</td>\n",
       "      <td>Please send us a quick message before booking ...</td>\n",
       "      <td>Pls email before booking.  Interior featured i...</td>\n",
       "      <td>none</td>\n",
       "      <td>NaN</td>\n",
       "      <td>...</td>\n",
       "      <td>t</td>\n",
       "      <td>STR-0000264</td>\n",
       "      <td>{\"SAN FRANCISCO\"}</td>\n",
       "      <td>f</td>\n",
       "      <td>f</td>\n",
       "      <td>strict_14_with_grace_period</td>\n",
       "      <td>t</td>\n",
       "      <td>t</td>\n",
       "      <td>2</td>\n",
       "      <td>0.24</td>\n",
       "    </tr>\n",
       "  </tbody>\n",
       "</table>\n",
       "<p>5 rows × 96 columns</p>\n",
       "</div>"
      ],
      "text/plain": [
       "        id                        listing_url     scrape_id last_scraped  \\\n",
       "sf 0   958   https://www.airbnb.com/rooms/958  2.018080e+13   2018-08-06   \n",
       "   1  5858  https://www.airbnb.com/rooms/5858  2.018080e+13   2018-08-06   \n",
       "   2  7918  https://www.airbnb.com/rooms/7918  2.018080e+13   2018-08-06   \n",
       "   3  8142  https://www.airbnb.com/rooms/8142  2.018080e+13   2018-08-06   \n",
       "   4  8339  https://www.airbnb.com/rooms/8339  2.018080e+13   2018-08-06   \n",
       "\n",
       "                                                   name  \\\n",
       "sf 0                Bright, Modern Garden Unit - 1BR/1B   \n",
       "   1                                 Creative Sanctuary   \n",
       "   2         A Friendly Room - UCSF/USF - San Francisco   \n",
       "   3  Friendly Room Apt. Style -UCSF/USF - San Franc...   \n",
       "   4                    Historic Alamo Square Victorian   \n",
       "\n",
       "                                                summary  \\\n",
       "sf 0  Our bright garden unit overlooks a grassy back...   \n",
       "   1                                                NaN   \n",
       "   2  Nice and good public transportation.  7 minute...   \n",
       "   3  Nice and good public transportation.  7 minute...   \n",
       "   4  Pls email before booking.  Interior featured i...   \n",
       "\n",
       "                                                  space  \\\n",
       "sf 0  Newly remodeled, modern, and bright garden uni...   \n",
       "   1  We live in a large Victorian house on a quiet ...   \n",
       "   2  Room rental-sunny view room/sink/Wi Fi (inner ...   \n",
       "   3  Room rental Sunny view Rm/Wi-Fi/TV/sink/large ...   \n",
       "   4  Please send us a quick message before booking ...   \n",
       "\n",
       "                                            description experiences_offered  \\\n",
       "sf 0  Our bright garden unit overlooks a grassy back...                none   \n",
       "   1  We live in a large Victorian house on a quiet ...                none   \n",
       "   2  Nice and good public transportation.  7 minute...                none   \n",
       "   3  Nice and good public transportation.  7 minute...                none   \n",
       "   4  Pls email before booking.  Interior featured i...                none   \n",
       "\n",
       "                                  neighborhood_overview        ...          \\\n",
       "sf 0  *Quiet cul de sac in friendly neighborhood *St...        ...           \n",
       "   1  I love how our neighborhood feels quiet but is...        ...           \n",
       "   2  Shopping old town, restaurants, McDonald, Whol...        ...           \n",
       "   3                                                NaN        ...           \n",
       "   4                                                NaN        ...           \n",
       "\n",
       "     requires_license      license jurisdiction_names instant_bookable  \\\n",
       "sf 0                t  STR-0001256  {\"SAN FRANCISCO\"}                f   \n",
       "   1                t          NaN  {\"SAN FRANCISCO\"}                f   \n",
       "   2                t          NaN  {\"SAN FRANCISCO\"}                f   \n",
       "   3                t          NaN  {\"SAN FRANCISCO\"}                f   \n",
       "   4                t  STR-0000264  {\"SAN FRANCISCO\"}                f   \n",
       "\n",
       "     is_business_travel_ready          cancellation_policy  \\\n",
       "sf 0                        f                     moderate   \n",
       "   1                        f  strict_14_with_grace_period   \n",
       "   2                        f  strict_14_with_grace_period   \n",
       "   3                        f  strict_14_with_grace_period   \n",
       "   4                        f  strict_14_with_grace_period   \n",
       "\n",
       "      require_guest_profile_picture require_guest_phone_verification  \\\n",
       "sf 0                              f                                f   \n",
       "   1                              f                                f   \n",
       "   2                              f                                f   \n",
       "   3                              f                                f   \n",
       "   4                              t                                t   \n",
       "\n",
       "      calculated_host_listings_count  reviews_per_month  \n",
       "sf 0                               1               1.38  \n",
       "   1                               1               0.99  \n",
       "   2                               9               0.16  \n",
       "   3                               9               0.15  \n",
       "   4                               2               0.24  \n",
       "\n",
       "[5 rows x 96 columns]"
      ]
     },
     "execution_count": 6,
     "metadata": {},
     "output_type": "execute_result"
    }
   ],
   "source": [
    "# Concatenated four files into one\n",
    "# Created keys for each file for future references\n",
    "\n",
    "frames = [listings_sf, listings_ok, listings_sc]\n",
    "keys = ['sf', 'ok', 'sc']\n",
    "\n",
    "df_listings = pd.concat(frames, keys=keys)\n",
    "df_listings.reset_index()\n",
    "\n",
    "df_listings.head()"
   ]
  },
  {
   "cell_type": "code",
   "execution_count": 7,
   "metadata": {
    "ExecuteTime": {
     "end_time": "2019-02-22T00:42:53.072756Z",
     "start_time": "2019-02-22T00:42:52.840727Z"
    }
   },
   "outputs": [],
   "source": [
    "# Added additional column to keep track of original district\n",
    "\n",
    "df_listings['district'] = ''\n",
    "\n",
    "df_listings.loc['sf']['district'] = 'San Francisco'\n",
    "df_listings.loc['ok']['district'] = 'Oakland'\n",
    "df_listings.loc['sc']['district'] = 'Santa Clara'\n",
    "# df_listings.loc['scz']['district'] = 'Santa Cruz'"
   ]
  },
  {
   "cell_type": "code",
   "execution_count": 8,
   "metadata": {
    "ExecuteTime": {
     "end_time": "2019-02-22T00:42:53.090346Z",
     "start_time": "2019-02-22T00:42:53.074744Z"
    }
   },
   "outputs": [
    {
     "data": {
      "text/html": [
       "<div>\n",
       "<style scoped>\n",
       "    .dataframe tbody tr th:only-of-type {\n",
       "        vertical-align: middle;\n",
       "    }\n",
       "\n",
       "    .dataframe tbody tr th {\n",
       "        vertical-align: top;\n",
       "    }\n",
       "\n",
       "    .dataframe thead th {\n",
       "        text-align: right;\n",
       "    }\n",
       "</style>\n",
       "<table border=\"1\" class=\"dataframe\">\n",
       "  <thead>\n",
       "    <tr style=\"text-align: right;\">\n",
       "      <th></th>\n",
       "      <th></th>\n",
       "      <th>id</th>\n",
       "      <th>district</th>\n",
       "    </tr>\n",
       "  </thead>\n",
       "  <tbody>\n",
       "    <tr>\n",
       "      <th rowspan=\"5\" valign=\"top\">sf</th>\n",
       "      <th>0</th>\n",
       "      <td>958</td>\n",
       "      <td>San Francisco</td>\n",
       "    </tr>\n",
       "    <tr>\n",
       "      <th>1</th>\n",
       "      <td>5858</td>\n",
       "      <td>San Francisco</td>\n",
       "    </tr>\n",
       "    <tr>\n",
       "      <th>2</th>\n",
       "      <td>7918</td>\n",
       "      <td>San Francisco</td>\n",
       "    </tr>\n",
       "    <tr>\n",
       "      <th>3</th>\n",
       "      <td>8142</td>\n",
       "      <td>San Francisco</td>\n",
       "    </tr>\n",
       "    <tr>\n",
       "      <th>4</th>\n",
       "      <td>8339</td>\n",
       "      <td>San Francisco</td>\n",
       "    </tr>\n",
       "  </tbody>\n",
       "</table>\n",
       "</div>"
      ],
      "text/plain": [
       "        id       district\n",
       "sf 0   958  San Francisco\n",
       "   1  5858  San Francisco\n",
       "   2  7918  San Francisco\n",
       "   3  8142  San Francisco\n",
       "   4  8339  San Francisco"
      ]
     },
     "execution_count": 8,
     "metadata": {},
     "output_type": "execute_result"
    }
   ],
   "source": [
    "# Created a separate dataframe to keep track of district\n",
    "# The data frame will be used in later stage\n",
    "\n",
    "df_district =  df_listings.loc[:, ['id', 'district']]\n",
    "df_district.head()"
   ]
  },
  {
   "cell_type": "markdown",
   "metadata": {
    "ExecuteTime": {
     "end_time": "2019-02-17T07:21:58.910805Z",
     "start_time": "2019-02-17T07:21:58.906832Z"
    }
   },
   "source": [
    "# Data Exploration"
   ]
  },
  {
   "cell_type": "markdown",
   "metadata": {
    "ExecuteTime": {
     "end_time": "2019-02-17T07:23:36.535268Z",
     "start_time": "2019-02-17T07:23:36.531980Z"
    }
   },
   "source": [
    "## Smaller Set of Features"
   ]
  },
  {
   "cell_type": "code",
   "execution_count": 9,
   "metadata": {
    "ExecuteTime": {
     "end_time": "2019-02-22T00:42:53.169226Z",
     "start_time": "2019-02-22T00:42:53.093323Z"
    }
   },
   "outputs": [
    {
     "data": {
      "text/plain": [
       "id                                      0\n",
       "listing_url                             0\n",
       "scrape_id                               0\n",
       "last_scraped                            0\n",
       "name                                    2\n",
       "summary                               442\n",
       "space                                3216\n",
       "description                           124\n",
       "experiences_offered                     0\n",
       "neighborhood_overview                4934\n",
       "notes                                6690\n",
       "transit                              4937\n",
       "access                               4817\n",
       "interaction                          5375\n",
       "house_rules                          4416\n",
       "thumbnail_url                       15199\n",
       "medium_url                          15199\n",
       "picture_url                             0\n",
       "xl_picture_url                      15199\n",
       "host_id                                 0\n",
       "host_url                                0\n",
       "host_name                               0\n",
       "host_since                              0\n",
       "host_location                          32\n",
       "host_about                           4418\n",
       "host_response_time                   1792\n",
       "host_response_rate                   1792\n",
       "host_acceptance_rate                15199\n",
       "host_is_superhost                       0\n",
       "host_thumbnail_url                      0\n",
       "                                    ...  \n",
       "minimum_nights                          0\n",
       "maximum_nights                          0\n",
       "calendar_updated                        0\n",
       "has_availability                        0\n",
       "availability_30                         0\n",
       "availability_60                         0\n",
       "availability_90                         0\n",
       "availability_365                        0\n",
       "calendar_last_scraped                   0\n",
       "number_of_reviews                       0\n",
       "first_review                         2678\n",
       "last_review                          2678\n",
       "review_scores_rating                 2797\n",
       "review_scores_accuracy               2804\n",
       "review_scores_cleanliness            2801\n",
       "review_scores_checkin                2811\n",
       "review_scores_communication          2804\n",
       "review_scores_location               2808\n",
       "review_scores_value                  2810\n",
       "requires_license                        0\n",
       "license                             10857\n",
       "jurisdiction_names                   1979\n",
       "instant_bookable                        0\n",
       "is_business_travel_ready                0\n",
       "cancellation_policy                     0\n",
       "require_guest_profile_picture           0\n",
       "require_guest_phone_verification        0\n",
       "calculated_host_listings_count          0\n",
       "reviews_per_month                    2678\n",
       "district                                0\n",
       "Length: 97, dtype: int64"
      ]
     },
     "metadata": {},
     "output_type": "display_data"
    }
   ],
   "source": [
    "# Checked for Null vales within data\n",
    "\n",
    "display(df_listings.isnull().sum())"
   ]
  },
  {
   "cell_type": "code",
   "execution_count": 10,
   "metadata": {
    "ExecuteTime": {
     "end_time": "2019-02-22T00:42:53.216779Z",
     "start_time": "2019-02-22T00:42:53.171238Z"
    }
   },
   "outputs": [
    {
     "data": {
      "text/plain": [
       "'Dimensions after drilling down: '"
      ]
     },
     "metadata": {},
     "output_type": "display_data"
    },
    {
     "data": {
      "text/plain": [
       "(15199, 43)"
      ]
     },
     "metadata": {},
     "output_type": "display_data"
    },
    {
     "data": {
      "text/html": [
       "<div>\n",
       "<style scoped>\n",
       "    .dataframe tbody tr th:only-of-type {\n",
       "        vertical-align: middle;\n",
       "    }\n",
       "\n",
       "    .dataframe tbody tr th {\n",
       "        vertical-align: top;\n",
       "    }\n",
       "\n",
       "    .dataframe thead th {\n",
       "        text-align: right;\n",
       "    }\n",
       "</style>\n",
       "<table border=\"1\" class=\"dataframe\">\n",
       "  <thead>\n",
       "    <tr style=\"text-align: right;\">\n",
       "      <th></th>\n",
       "      <th></th>\n",
       "      <th>id</th>\n",
       "      <th>host_since</th>\n",
       "      <th>host_response_time</th>\n",
       "      <th>host_response_rate</th>\n",
       "      <th>host_is_superhost</th>\n",
       "      <th>host_listings_count</th>\n",
       "      <th>host_total_listings_count</th>\n",
       "      <th>host_has_profile_pic</th>\n",
       "      <th>host_identity_verified</th>\n",
       "      <th>neighbourhood_cleansed</th>\n",
       "      <th>...</th>\n",
       "      <th>review_scores_value</th>\n",
       "      <th>jurisdiction_names</th>\n",
       "      <th>instant_bookable</th>\n",
       "      <th>is_business_travel_ready</th>\n",
       "      <th>cancellation_policy</th>\n",
       "      <th>require_guest_profile_picture</th>\n",
       "      <th>require_guest_phone_verification</th>\n",
       "      <th>calculated_host_listings_count</th>\n",
       "      <th>reviews_per_month</th>\n",
       "      <th>district</th>\n",
       "    </tr>\n",
       "  </thead>\n",
       "  <tbody>\n",
       "    <tr>\n",
       "      <th rowspan=\"5\" valign=\"top\">sf</th>\n",
       "      <th>0</th>\n",
       "      <td>958</td>\n",
       "      <td>2008-07-31</td>\n",
       "      <td>within an hour</td>\n",
       "      <td>92%</td>\n",
       "      <td>t</td>\n",
       "      <td>1</td>\n",
       "      <td>1</td>\n",
       "      <td>t</td>\n",
       "      <td>t</td>\n",
       "      <td>Western Addition</td>\n",
       "      <td>...</td>\n",
       "      <td>10.0</td>\n",
       "      <td>{\"SAN FRANCISCO\"}</td>\n",
       "      <td>f</td>\n",
       "      <td>f</td>\n",
       "      <td>moderate</td>\n",
       "      <td>f</td>\n",
       "      <td>f</td>\n",
       "      <td>1</td>\n",
       "      <td>1.38</td>\n",
       "      <td>San Francisco</td>\n",
       "    </tr>\n",
       "    <tr>\n",
       "      <th>1</th>\n",
       "      <td>5858</td>\n",
       "      <td>2009-03-02</td>\n",
       "      <td>within an hour</td>\n",
       "      <td>100%</td>\n",
       "      <td>f</td>\n",
       "      <td>2</td>\n",
       "      <td>2</td>\n",
       "      <td>t</td>\n",
       "      <td>t</td>\n",
       "      <td>Bernal Heights</td>\n",
       "      <td>...</td>\n",
       "      <td>9.0</td>\n",
       "      <td>{\"SAN FRANCISCO\"}</td>\n",
       "      <td>f</td>\n",
       "      <td>f</td>\n",
       "      <td>strict_14_with_grace_period</td>\n",
       "      <td>f</td>\n",
       "      <td>f</td>\n",
       "      <td>1</td>\n",
       "      <td>0.99</td>\n",
       "      <td>San Francisco</td>\n",
       "    </tr>\n",
       "    <tr>\n",
       "      <th>2</th>\n",
       "      <td>7918</td>\n",
       "      <td>2009-06-17</td>\n",
       "      <td>within a few hours</td>\n",
       "      <td>100%</td>\n",
       "      <td>f</td>\n",
       "      <td>10</td>\n",
       "      <td>10</td>\n",
       "      <td>t</td>\n",
       "      <td>t</td>\n",
       "      <td>Haight Ashbury</td>\n",
       "      <td>...</td>\n",
       "      <td>8.0</td>\n",
       "      <td>{\"SAN FRANCISCO\"}</td>\n",
       "      <td>f</td>\n",
       "      <td>f</td>\n",
       "      <td>strict_14_with_grace_period</td>\n",
       "      <td>f</td>\n",
       "      <td>f</td>\n",
       "      <td>9</td>\n",
       "      <td>0.16</td>\n",
       "      <td>San Francisco</td>\n",
       "    </tr>\n",
       "    <tr>\n",
       "      <th>3</th>\n",
       "      <td>8142</td>\n",
       "      <td>2009-06-17</td>\n",
       "      <td>within a few hours</td>\n",
       "      <td>100%</td>\n",
       "      <td>f</td>\n",
       "      <td>10</td>\n",
       "      <td>10</td>\n",
       "      <td>t</td>\n",
       "      <td>t</td>\n",
       "      <td>Haight Ashbury</td>\n",
       "      <td>...</td>\n",
       "      <td>9.0</td>\n",
       "      <td>{\"SAN FRANCISCO\"}</td>\n",
       "      <td>f</td>\n",
       "      <td>f</td>\n",
       "      <td>strict_14_with_grace_period</td>\n",
       "      <td>f</td>\n",
       "      <td>f</td>\n",
       "      <td>9</td>\n",
       "      <td>0.15</td>\n",
       "      <td>San Francisco</td>\n",
       "    </tr>\n",
       "    <tr>\n",
       "      <th>4</th>\n",
       "      <td>8339</td>\n",
       "      <td>2009-07-02</td>\n",
       "      <td>within an hour</td>\n",
       "      <td>100%</td>\n",
       "      <td>f</td>\n",
       "      <td>2</td>\n",
       "      <td>2</td>\n",
       "      <td>t</td>\n",
       "      <td>t</td>\n",
       "      <td>Western Addition</td>\n",
       "      <td>...</td>\n",
       "      <td>10.0</td>\n",
       "      <td>{\"SAN FRANCISCO\"}</td>\n",
       "      <td>f</td>\n",
       "      <td>f</td>\n",
       "      <td>strict_14_with_grace_period</td>\n",
       "      <td>t</td>\n",
       "      <td>t</td>\n",
       "      <td>2</td>\n",
       "      <td>0.24</td>\n",
       "      <td>San Francisco</td>\n",
       "    </tr>\n",
       "  </tbody>\n",
       "</table>\n",
       "<p>5 rows × 43 columns</p>\n",
       "</div>"
      ],
      "text/plain": [
       "        id host_since  host_response_time host_response_rate  \\\n",
       "sf 0   958 2008-07-31      within an hour                92%   \n",
       "   1  5858 2009-03-02      within an hour               100%   \n",
       "   2  7918 2009-06-17  within a few hours               100%   \n",
       "   3  8142 2009-06-17  within a few hours               100%   \n",
       "   4  8339 2009-07-02      within an hour               100%   \n",
       "\n",
       "     host_is_superhost  host_listings_count  host_total_listings_count  \\\n",
       "sf 0                 t                    1                          1   \n",
       "   1                 f                    2                          2   \n",
       "   2                 f                   10                         10   \n",
       "   3                 f                   10                         10   \n",
       "   4                 f                    2                          2   \n",
       "\n",
       "     host_has_profile_pic host_identity_verified neighbourhood_cleansed  \\\n",
       "sf 0                    t                      t       Western Addition   \n",
       "   1                    t                      t         Bernal Heights   \n",
       "   2                    t                      t         Haight Ashbury   \n",
       "   3                    t                      t         Haight Ashbury   \n",
       "   4                    t                      t       Western Addition   \n",
       "\n",
       "          ...       review_scores_value jurisdiction_names instant_bookable  \\\n",
       "sf 0      ...                      10.0  {\"SAN FRANCISCO\"}                f   \n",
       "   1      ...                       9.0  {\"SAN FRANCISCO\"}                f   \n",
       "   2      ...                       8.0  {\"SAN FRANCISCO\"}                f   \n",
       "   3      ...                       9.0  {\"SAN FRANCISCO\"}                f   \n",
       "   4      ...                      10.0  {\"SAN FRANCISCO\"}                f   \n",
       "\n",
       "     is_business_travel_ready          cancellation_policy  \\\n",
       "sf 0                        f                     moderate   \n",
       "   1                        f  strict_14_with_grace_period   \n",
       "   2                        f  strict_14_with_grace_period   \n",
       "   3                        f  strict_14_with_grace_period   \n",
       "   4                        f  strict_14_with_grace_period   \n",
       "\n",
       "      require_guest_profile_picture  require_guest_phone_verification  \\\n",
       "sf 0                              f                                 f   \n",
       "   1                              f                                 f   \n",
       "   2                              f                                 f   \n",
       "   3                              f                                 f   \n",
       "   4                              t                                 t   \n",
       "\n",
       "      calculated_host_listings_count reviews_per_month       district  \n",
       "sf 0                               1              1.38  San Francisco  \n",
       "   1                               1              0.99  San Francisco  \n",
       "   2                               9              0.16  San Francisco  \n",
       "   3                               9              0.15  San Francisco  \n",
       "   4                               2              0.24  San Francisco  \n",
       "\n",
       "[5 rows x 43 columns]"
      ]
     },
     "execution_count": 10,
     "metadata": {},
     "output_type": "execute_result"
    }
   ],
   "source": [
    "# Columns removed/dropped:\n",
    "# Removed columns with >90% null values: 'experience_offered', 'host_acceptance_rate', \\ \n",
    "#'neighbourhood_group_cleansed', 'square_feet'\n",
    "# Removed 'jurisdiction_names', 'neighbourhood', kept'neighbourhood_cleansed'\n",
    "# Noted'city' and 'smart location' provide duplicate information, removed 'smart location'\n",
    "# Removed 'Country code' and 'country', as all instances locate within US\n",
    "\n",
    "\n",
    "columns_to_keep =[\n",
    "       'id','host_since','host_response_time', 'host_response_rate',\n",
    "        'host_is_superhost', 'host_listings_count',\n",
    "       'host_total_listings_count', \n",
    "       'host_has_profile_pic', 'host_identity_verified', \n",
    "        'neighbourhood_cleansed',\n",
    "       'city', \n",
    "       'is_location_exact', 'property_type', 'room_type', 'accommodates',\n",
    "       'bathrooms', 'bedrooms', 'beds', 'bed_type','amenities', \n",
    "       'price', 'security_deposit',\n",
    "       'cleaning_fee', 'guests_included',  'minimum_nights','number_of_reviews',\n",
    "       'first_review', 'review_scores_rating',\n",
    "       'review_scores_accuracy', 'review_scores_cleanliness',\n",
    "       'review_scores_checkin', 'review_scores_communication',\n",
    "       'review_scores_location', 'review_scores_value', 'jurisdiction_names', 'instant_bookable',\n",
    "       'is_business_travel_ready', 'cancellation_policy',\n",
    "       'require_guest_profile_picture', 'require_guest_phone_verification',\n",
    "       'calculated_host_listings_count', 'reviews_per_month', 'district']\n",
    "\n",
    "\n",
    "df_listings_smaller = df_listings[columns_to_keep]\n",
    "display ('Dimensions after drilling down: ' ,df_listings_smaller.shape)\n",
    "df_listings_smaller.head()"
   ]
  },
  {
   "cell_type": "markdown",
   "metadata": {},
   "source": [
    "## Data Format"
   ]
  },
  {
   "cell_type": "code",
   "execution_count": 11,
   "metadata": {
    "ExecuteTime": {
     "end_time": "2019-02-22T00:42:53.225792Z",
     "start_time": "2019-02-22T00:42:53.220215Z"
    }
   },
   "outputs": [],
   "source": [
    "def apply2df(df, column_names, function):\n",
    "    \"\"\"\n",
    "    This enables various functions to be applied to multiple columns of dataframe.\n",
    "    Input: dataframe, columns to apply function to(list), function\n",
    "    Return: updated dataframe\n",
    "    \"\"\"\n",
    "    for column in column_names:\n",
    "        df[column] = df[column].apply(lambda x: function(x))\n",
    "    return df"
   ]
  },
  {
   "cell_type": "markdown",
   "metadata": {
    "ExecuteTime": {
     "end_time": "2019-02-17T08:45:45.634174Z",
     "start_time": "2019-02-17T08:45:45.630559Z"
    }
   },
   "source": [
    "### Percentage"
   ]
  },
  {
   "cell_type": "code",
   "execution_count": 12,
   "metadata": {
    "ExecuteTime": {
     "end_time": "2019-02-22T00:42:53.233469Z",
     "start_time": "2019-02-22T00:42:53.228836Z"
    }
   },
   "outputs": [],
   "source": [
    "# Noted percentage features are formated as strings, and need to be converted\n",
    "# to float format\n",
    "\n",
    "def percent2float(string):\n",
    "    \"\"\"\n",
    "    Convert strings with percentage sign to float\n",
    "    \"\"\"\n",
    "    percentage = float(str(string).strip('%'))/100.0\n",
    "    return percentage"
   ]
  },
  {
   "cell_type": "code",
   "execution_count": 13,
   "metadata": {
    "ExecuteTime": {
     "end_time": "2019-02-22T00:42:53.248220Z",
     "start_time": "2019-02-22T00:42:53.236395Z"
    }
   },
   "outputs": [
    {
     "name": "stdout",
     "output_type": "stream",
     "text": [
      "Type:  <class 'str'>\n"
     ]
    },
    {
     "data": {
      "text/plain": [
       "sf  0     92%\n",
       "    1    100%\n",
       "    2    100%\n",
       "    3    100%\n",
       "    4    100%\n",
       "Name: host_response_rate, dtype: object"
      ]
     },
     "execution_count": 13,
     "metadata": {},
     "output_type": "execute_result"
    }
   ],
   "source": [
    "print ('Type: ', type(df_listings_smaller.host_response_rate[0]))\n",
    "df_listings_smaller.host_response_rate[0:5]"
   ]
  },
  {
   "cell_type": "code",
   "execution_count": 14,
   "metadata": {
    "ExecuteTime": {
     "end_time": "2019-02-22T00:42:53.331567Z",
     "start_time": "2019-02-22T00:42:53.252152Z"
    }
   },
   "outputs": [],
   "source": [
    "# Converted percentage features to float format\n",
    "\n",
    "percents = ['host_response_rate']\n",
    "\n",
    "df_listings_smaller = apply2df(df_listings_smaller, percents, percent2float)"
   ]
  },
  {
   "cell_type": "code",
   "execution_count": 15,
   "metadata": {
    "ExecuteTime": {
     "end_time": "2019-02-22T00:42:53.352386Z",
     "start_time": "2019-02-22T00:42:53.334566Z"
    }
   },
   "outputs": [
    {
     "data": {
      "text/plain": [
       "sf  0    0.92\n",
       "    1    1.00\n",
       "    2    1.00\n",
       "    3    1.00\n",
       "    4    1.00\n",
       "Name: host_response_rate, dtype: float64"
      ]
     },
     "execution_count": 15,
     "metadata": {},
     "output_type": "execute_result"
    }
   ],
   "source": [
    "df_listings_smaller.host_response_rate[0:5]"
   ]
  },
  {
   "cell_type": "markdown",
   "metadata": {
    "ExecuteTime": {
     "end_time": "2019-02-17T08:53:41.153251Z",
     "start_time": "2019-02-17T08:53:41.150357Z"
    }
   },
   "source": [
    "### Currency"
   ]
  },
  {
   "cell_type": "code",
   "execution_count": 16,
   "metadata": {
    "ExecuteTime": {
     "end_time": "2019-02-22T00:42:53.360657Z",
     "start_time": "2019-02-22T00:42:53.355035Z"
    }
   },
   "outputs": [],
   "source": [
    "# Noted currency features are formated as strings, and need to be converted \n",
    "# to float format\n",
    "\n",
    "def currency2float(string):\n",
    "    \"\"\"\n",
    "    Convert currency to float\n",
    "    \"\"\"\n",
    "    string = str(string).strip(' ').replace(' \\\\n', '')\n",
    "    float_ = float(string.strip('$').replace(',',''))\n",
    "    return float_"
   ]
  },
  {
   "cell_type": "code",
   "execution_count": 17,
   "metadata": {
    "ExecuteTime": {
     "end_time": "2019-02-22T00:42:53.383577Z",
     "start_time": "2019-02-22T00:42:53.363543Z"
    }
   },
   "outputs": [
    {
     "name": "stdout",
     "output_type": "stream",
     "text": [
      "Type of price:  <class 'str'>\n"
     ]
    },
    {
     "data": {
      "text/plain": [
       "sf  0    $170.00 \n",
       "    1    $235.00 \n",
       "    2     $65.00 \n",
       "    3     $65.00 \n",
       "    4    $675.00 \n",
       "Name: price, dtype: object"
      ]
     },
     "metadata": {},
     "output_type": "display_data"
    },
    {
     "name": "stdout",
     "output_type": "stream",
     "text": [
      "Type of security deposit:  <class 'str'>\n"
     ]
    },
    {
     "data": {
      "text/plain": [
       "sf  0    $100.00 \n",
       "    1         NaN\n",
       "    2    $200.00 \n",
       "    3    $200.00 \n",
       "    4      $0.00 \n",
       "Name: security_deposit, dtype: object"
      ]
     },
     "metadata": {},
     "output_type": "display_data"
    },
    {
     "name": "stdout",
     "output_type": "stream",
     "text": [
      "Type of security deposit:  <class 'str'>\n"
     ]
    },
    {
     "data": {
      "text/plain": [
       "sf  0    $100.00 \n",
       "    1    $100.00 \n",
       "    2     $50.00 \n",
       "    3     $50.00 \n",
       "    4    $225.00 \n",
       "Name: cleaning_fee, dtype: object"
      ]
     },
     "metadata": {},
     "output_type": "display_data"
    }
   ],
   "source": [
    "print ('Type of price: ', type(df_listings_smaller.price[0]))\n",
    "display (df_listings_smaller.price[0:5])\n",
    "\n",
    "print ('Type of security deposit: ', type(df_listings_smaller.security_deposit[0]))\n",
    "display(df_listings_smaller.security_deposit[0:5])\n",
    "\n",
    "print ('Type of security deposit: ', type(df_listings_smaller.cleaning_fee[0]))\n",
    "display(df_listings_smaller.cleaning_fee[0:5])"
   ]
  },
  {
   "cell_type": "code",
   "execution_count": 18,
   "metadata": {
    "ExecuteTime": {
     "end_time": "2019-02-22T00:42:53.614994Z",
     "start_time": "2019-02-22T00:42:53.386471Z"
    }
   },
   "outputs": [],
   "source": [
    "# Converted currency features to float\n",
    "\n",
    "curriencies = ['price', 'security_deposit', 'cleaning_fee']\n",
    "\n",
    "df_listings_smaller = apply2df(df_listings_smaller, curriencies, currency2float)"
   ]
  },
  {
   "cell_type": "markdown",
   "metadata": {},
   "source": [
    "### Timestamp"
   ]
  },
  {
   "cell_type": "code",
   "execution_count": 19,
   "metadata": {
    "ExecuteTime": {
     "end_time": "2019-02-22T00:42:53.622628Z",
     "start_time": "2019-02-22T00:42:53.617539Z"
    }
   },
   "outputs": [],
   "source": [
    "# This is to convert timestamp features to duration\n",
    "# Duration is calculated by: \n",
    "# number of years between original timestamp and current year\n",
    "\n",
    "def duration(starting_time):\n",
    "    \"\"\"\n",
    "    Calculate duration or number of years between current year and starting_time\n",
    "    \"\"\"\n",
    "    starting_year = starting_time.year\n",
    "    current_year = datetime.now().year\n",
    "    duration = current_year - starting_year + 1\n",
    "    \n",
    "    return duration"
   ]
  },
  {
   "cell_type": "code",
   "execution_count": 20,
   "metadata": {
    "ExecuteTime": {
     "end_time": "2019-02-22T00:42:53.872940Z",
     "start_time": "2019-02-22T00:42:53.626412Z"
    }
   },
   "outputs": [],
   "source": [
    "# Converted timestamp features to duration\n",
    "\n",
    "timestamps = ['host_since', 'first_review']\n",
    "\n",
    "df_listings_smaller = apply2df(df_listings_smaller, timestamps, duration)"
   ]
  },
  {
   "cell_type": "code",
   "execution_count": 21,
   "metadata": {
    "ExecuteTime": {
     "end_time": "2019-02-22T00:42:53.938771Z",
     "start_time": "2019-02-22T00:42:53.875542Z"
    }
   },
   "outputs": [],
   "source": [
    "# Rename columns to reflect duration nature\n",
    "\n",
    "mapper = {'host_since' : 'host_yrs', 'first_review': 'yrs_since_1st_review'}\n",
    "\n",
    "df_listings_smaller.rename(columns=mapper, inplace=True)"
   ]
  },
  {
   "cell_type": "code",
   "execution_count": 22,
   "metadata": {
    "ExecuteTime": {
     "end_time": "2019-02-22T00:42:53.947179Z",
     "start_time": "2019-02-22T00:42:53.941232Z"
    }
   },
   "outputs": [
    {
     "data": {
      "text/plain": [
       "Index(['id', 'host_yrs', 'host_response_time', 'host_response_rate',\n",
       "       'host_is_superhost', 'host_listings_count', 'host_total_listings_count',\n",
       "       'host_has_profile_pic', 'host_identity_verified',\n",
       "       'neighbourhood_cleansed', 'city', 'is_location_exact', 'property_type',\n",
       "       'room_type', 'accommodates', 'bathrooms', 'bedrooms', 'beds',\n",
       "       'bed_type', 'amenities', 'price', 'security_deposit', 'cleaning_fee',\n",
       "       'guests_included', 'minimum_nights', 'number_of_reviews',\n",
       "       'yrs_since_1st_review', 'review_scores_rating',\n",
       "       'review_scores_accuracy', 'review_scores_cleanliness',\n",
       "       'review_scores_checkin', 'review_scores_communication',\n",
       "       'review_scores_location', 'review_scores_value', 'jurisdiction_names',\n",
       "       'instant_bookable', 'is_business_travel_ready', 'cancellation_policy',\n",
       "       'require_guest_profile_picture', 'require_guest_phone_verification',\n",
       "       'calculated_host_listings_count', 'reviews_per_month', 'district'],\n",
       "      dtype='object')"
      ]
     },
     "execution_count": 22,
     "metadata": {},
     "output_type": "execute_result"
    }
   ],
   "source": [
    "df_listings_smaller.columns"
   ]
  },
  {
   "cell_type": "markdown",
   "metadata": {
    "ExecuteTime": {
     "end_time": "2019-02-17T07:25:29.888261Z",
     "start_time": "2019-02-17T07:25:29.885574Z"
    }
   },
   "source": [
    "## Outliers"
   ]
  },
  {
   "cell_type": "code",
   "execution_count": 23,
   "metadata": {
    "ExecuteTime": {
     "end_time": "2019-02-22T00:42:53.965413Z",
     "start_time": "2019-02-22T00:42:53.949399Z"
    }
   },
   "outputs": [
    {
     "data": {
      "text/plain": [
       "count    15199.000000\n",
       "mean       182.285019\n",
       "std        279.583024\n",
       "min          0.000000\n",
       "5%          40.000000\n",
       "10%         50.000000\n",
       "25%         75.000000\n",
       "50%        124.000000\n",
       "75%        200.000000\n",
       "90%        325.000000\n",
       "95%        480.000000\n",
       "max      10000.000000\n",
       "Name: price, dtype: float64"
      ]
     },
     "execution_count": 23,
     "metadata": {},
     "output_type": "execute_result"
    }
   ],
   "source": [
    "df_listings_smaller.price.describe(percentiles=[.05, .10, .25, .50, .75, .90, .95])"
   ]
  },
  {
   "cell_type": "code",
   "execution_count": 24,
   "metadata": {
    "ExecuteTime": {
     "end_time": "2019-02-22T00:42:53.981618Z",
     "start_time": "2019-02-22T00:42:53.968572Z"
    }
   },
   "outputs": [
    {
     "data": {
      "text/plain": [
       "(13789, 43)"
      ]
     },
     "metadata": {},
     "output_type": "display_data"
    }
   ],
   "source": [
    "# Outliers removal. Kept only values between 5% and 95% percentiles\n",
    "\n",
    "five_percentitle = np.percentile(df_listings_smaller['price'], 5)\n",
    "ninety_five_percentitle = np.percentile(df_listings_smaller['price'], 95)\n",
    "\n",
    "df_listings_smaller = df_listings_smaller[\n",
    "                     (df_listings_smaller['price']<=ninety_five_percentitle) \n",
    "                      & (df_listings_smaller['price']>=five_percentitle)]\n",
    "\n",
    "display(df_listings_smaller.shape)"
   ]
  },
  {
   "cell_type": "code",
   "execution_count": 25,
   "metadata": {
    "ExecuteTime": {
     "end_time": "2019-02-22T00:42:53.995231Z",
     "start_time": "2019-02-22T00:42:53.984646Z"
    }
   },
   "outputs": [
    {
     "data": {
      "text/plain": [
       "count    13789.000000\n",
       "mean       146.076945\n",
       "std         89.295031\n",
       "min         40.000000\n",
       "25%         79.000000\n",
       "50%        121.000000\n",
       "75%        190.000000\n",
       "max        480.000000\n",
       "Name: price, dtype: float64"
      ]
     },
     "execution_count": 25,
     "metadata": {},
     "output_type": "execute_result"
    }
   ],
   "source": [
    "df_listings_smaller.price.describe()"
   ]
  },
  {
   "cell_type": "code",
   "execution_count": 26,
   "metadata": {
    "ExecuteTime": {
     "end_time": "2019-02-22T00:42:54.181698Z",
     "start_time": "2019-02-22T00:42:53.998700Z"
    }
   },
   "outputs": [
    {
     "data": {
      "text/plain": [
       "<matplotlib.axes._subplots.AxesSubplot at 0x1c1af0d390>"
      ]
     },
     "execution_count": 26,
     "metadata": {},
     "output_type": "execute_result"
    },
    {
     "data": {
      "image/png": "[encoded data removed]",
      "text/plain": [
       "<Figure size 576x396 with 1 Axes>"
      ]
     },
     "metadata": {},
     "output_type": "display_data"
    }
   ],
   "source": [
    "df_listings_smaller.price.hist()"
   ]
  },
  {
   "cell_type": "markdown",
   "metadata": {},
   "source": [
    "## Null Values"
   ]
  },
  {
   "cell_type": "code",
   "execution_count": 27,
   "metadata": {
    "ExecuteTime": {
     "end_time": "2019-02-22T00:42:54.219192Z",
     "start_time": "2019-02-22T00:42:54.186020Z"
    }
   },
   "outputs": [
    {
     "data": {
      "text/plain": [
       "id                                     0\n",
       "host_yrs                               0\n",
       "host_response_time                  1579\n",
       "host_response_rate                  1579\n",
       "host_is_superhost                      0\n",
       "host_listings_count                    0\n",
       "host_total_listings_count              0\n",
       "host_has_profile_pic                   0\n",
       "host_identity_verified                 0\n",
       "neighbourhood_cleansed                 0\n",
       "city                                  14\n",
       "is_location_exact                      0\n",
       "property_type                          0\n",
       "room_type                              0\n",
       "accommodates                           0\n",
       "bathrooms                             28\n",
       "bedrooms                               4\n",
       "beds                                  15\n",
       "bed_type                               0\n",
       "amenities                              0\n",
       "price                                  0\n",
       "security_deposit                    3367\n",
       "cleaning_fee                        1849\n",
       "guests_included                        0\n",
       "minimum_nights                         0\n",
       "number_of_reviews                      0\n",
       "yrs_since_1st_review                2285\n",
       "review_scores_rating                2388\n",
       "review_scores_accuracy              2394\n",
       "review_scores_cleanliness           2391\n",
       "review_scores_checkin               2401\n",
       "review_scores_communication         2394\n",
       "review_scores_location              2398\n",
       "review_scores_value                 2400\n",
       "jurisdiction_names                  1792\n",
       "instant_bookable                       0\n",
       "is_business_travel_ready               0\n",
       "cancellation_policy                    0\n",
       "require_guest_profile_picture          0\n",
       "require_guest_phone_verification       0\n",
       "calculated_host_listings_count         0\n",
       "reviews_per_month                   2285\n",
       "district                               0\n",
       "dtype: int64"
      ]
     },
     "execution_count": 27,
     "metadata": {},
     "output_type": "execute_result"
    }
   ],
   "source": [
    "# Checked for null values\n",
    "\n",
    "df_listings_smaller.isnull().sum()"
   ]
  },
  {
   "cell_type": "code",
   "execution_count": 28,
   "metadata": {
    "ExecuteTime": {
     "end_time": "2019-02-22T00:42:54.335785Z",
     "start_time": "2019-02-22T00:42:54.222287Z"
    }
   },
   "outputs": [],
   "source": [
    "# Filled null values with average\n",
    "\n",
    "df_listings_smaller['security_deposit'].fillna(\n",
    "                    value=df_listings_smaller['security_deposit'].mean(),\n",
    "                    inplace=True)\n",
    "\n",
    "df_listings_smaller['cleaning_fee'].fillna(\n",
    "                    value=df_listings_smaller['cleaning_fee'].mean(),\n",
    "                    inplace=True)"
   ]
  },
  {
   "cell_type": "code",
   "execution_count": 29,
   "metadata": {
    "ExecuteTime": {
     "end_time": "2019-02-22T00:42:54.390623Z",
     "start_time": "2019-02-22T00:42:54.339387Z"
    }
   },
   "outputs": [
    {
     "data": {
      "text/plain": [
       "'Dimensions after dropping null values: '"
      ]
     },
     "metadata": {},
     "output_type": "display_data"
    },
    {
     "data": {
      "text/plain": [
       "(9062, 43)"
      ]
     },
     "metadata": {},
     "output_type": "display_data"
    },
    {
     "data": {
      "text/plain": [
       "id                                  0\n",
       "host_yrs                            0\n",
       "host_response_time                  0\n",
       "host_response_rate                  0\n",
       "host_is_superhost                   0\n",
       "host_listings_count                 0\n",
       "host_total_listings_count           0\n",
       "host_has_profile_pic                0\n",
       "host_identity_verified              0\n",
       "neighbourhood_cleansed              0\n",
       "city                                0\n",
       "is_location_exact                   0\n",
       "property_type                       0\n",
       "room_type                           0\n",
       "accommodates                        0\n",
       "bathrooms                           0\n",
       "bedrooms                            0\n",
       "beds                                0\n",
       "bed_type                            0\n",
       "amenities                           0\n",
       "price                               0\n",
       "security_deposit                    0\n",
       "cleaning_fee                        0\n",
       "guests_included                     0\n",
       "minimum_nights                      0\n",
       "number_of_reviews                   0\n",
       "yrs_since_1st_review                0\n",
       "review_scores_rating                0\n",
       "review_scores_accuracy              0\n",
       "review_scores_cleanliness           0\n",
       "review_scores_checkin               0\n",
       "review_scores_communication         0\n",
       "review_scores_location              0\n",
       "review_scores_value                 0\n",
       "jurisdiction_names                  0\n",
       "instant_bookable                    0\n",
       "is_business_travel_ready            0\n",
       "cancellation_policy                 0\n",
       "require_guest_profile_picture       0\n",
       "require_guest_phone_verification    0\n",
       "calculated_host_listings_count      0\n",
       "reviews_per_month                   0\n",
       "district                            0\n",
       "dtype: int64"
      ]
     },
     "execution_count": 29,
     "metadata": {},
     "output_type": "execute_result"
    }
   ],
   "source": [
    "# Dropped remaining null values\n",
    "\n",
    "df_listings_clean = df_listings_smaller.dropna()\n",
    "\n",
    "display('Dimensions after dropping null values: ', df_listings_clean.shape)\n",
    "df_listings_clean.isnull().sum()"
   ]
  },
  {
   "cell_type": "code",
   "execution_count": 30,
   "metadata": {
    "ExecuteTime": {
     "end_time": "2019-02-22T00:42:54.475592Z",
     "start_time": "2019-02-22T00:42:54.394125Z"
    }
   },
   "outputs": [],
   "source": [
    "# Removed special characters within jurisdiction\n",
    "# Created a separate dataframe to keep track of juristiction info\n",
    "# The dataframe will be used in later stage\n",
    "\n",
    "df_listings_clean['jurisdiction_names'] = df_listings_clean['jurisdiction_names']  \\\n",
    "                                            .str.replace('[^\\w\\s,]', '')\n",
    "df_jurisdiction = df_listings_clean.loc[:, ['id', 'jurisdiction_names']]"
   ]
  },
  {
   "cell_type": "markdown",
   "metadata": {
    "ExecuteTime": {
     "end_time": "2019-02-17T07:30:53.891861Z",
     "start_time": "2019-02-17T07:30:53.889164Z"
    }
   },
   "source": [
    "## Categorical Data"
   ]
  },
  {
   "cell_type": "code",
   "execution_count": 31,
   "metadata": {
    "ExecuteTime": {
     "end_time": "2019-02-22T00:42:54.518607Z",
     "start_time": "2019-02-22T00:42:54.478387Z"
    }
   },
   "outputs": [
    {
     "name": "stdout",
     "output_type": "stream",
     "text": [
      "Categorical data dimensions:  17\n"
     ]
    },
    {
     "data": {
      "text/html": [
       "<div>\n",
       "<style scoped>\n",
       "    .dataframe tbody tr th:only-of-type {\n",
       "        vertical-align: middle;\n",
       "    }\n",
       "\n",
       "    .dataframe tbody tr th {\n",
       "        vertical-align: top;\n",
       "    }\n",
       "\n",
       "    .dataframe thead th {\n",
       "        text-align: right;\n",
       "    }\n",
       "</style>\n",
       "<table border=\"1\" class=\"dataframe\">\n",
       "  <thead>\n",
       "    <tr style=\"text-align: right;\">\n",
       "      <th></th>\n",
       "      <th></th>\n",
       "      <th>host_response_time</th>\n",
       "      <th>host_is_superhost</th>\n",
       "      <th>host_has_profile_pic</th>\n",
       "      <th>host_identity_verified</th>\n",
       "      <th>neighbourhood_cleansed</th>\n",
       "      <th>city</th>\n",
       "      <th>is_location_exact</th>\n",
       "      <th>property_type</th>\n",
       "      <th>room_type</th>\n",
       "      <th>bed_type</th>\n",
       "      <th>jurisdiction_names</th>\n",
       "      <th>instant_bookable</th>\n",
       "      <th>is_business_travel_ready</th>\n",
       "      <th>cancellation_policy</th>\n",
       "      <th>require_guest_profile_picture</th>\n",
       "      <th>require_guest_phone_verification</th>\n",
       "      <th>district</th>\n",
       "    </tr>\n",
       "  </thead>\n",
       "  <tbody>\n",
       "    <tr>\n",
       "      <th rowspan=\"5\" valign=\"top\">sf</th>\n",
       "      <th>0</th>\n",
       "      <td>within an hour</td>\n",
       "      <td>t</td>\n",
       "      <td>t</td>\n",
       "      <td>t</td>\n",
       "      <td>Western Addition</td>\n",
       "      <td>San Francisco</td>\n",
       "      <td>t</td>\n",
       "      <td>Apartment</td>\n",
       "      <td>Entire home/apt</td>\n",
       "      <td>Real Bed</td>\n",
       "      <td>SAN FRANCISCO</td>\n",
       "      <td>f</td>\n",
       "      <td>f</td>\n",
       "      <td>moderate</td>\n",
       "      <td>f</td>\n",
       "      <td>f</td>\n",
       "      <td>San Francisco</td>\n",
       "    </tr>\n",
       "    <tr>\n",
       "      <th>1</th>\n",
       "      <td>within an hour</td>\n",
       "      <td>f</td>\n",
       "      <td>t</td>\n",
       "      <td>t</td>\n",
       "      <td>Bernal Heights</td>\n",
       "      <td>San Francisco</td>\n",
       "      <td>t</td>\n",
       "      <td>Apartment</td>\n",
       "      <td>Entire home/apt</td>\n",
       "      <td>Real Bed</td>\n",
       "      <td>SAN FRANCISCO</td>\n",
       "      <td>f</td>\n",
       "      <td>f</td>\n",
       "      <td>strict_14_with_grace_period</td>\n",
       "      <td>f</td>\n",
       "      <td>f</td>\n",
       "      <td>San Francisco</td>\n",
       "    </tr>\n",
       "    <tr>\n",
       "      <th>2</th>\n",
       "      <td>within a few hours</td>\n",
       "      <td>f</td>\n",
       "      <td>t</td>\n",
       "      <td>t</td>\n",
       "      <td>Haight Ashbury</td>\n",
       "      <td>San Francisco</td>\n",
       "      <td>t</td>\n",
       "      <td>Apartment</td>\n",
       "      <td>Private room</td>\n",
       "      <td>Real Bed</td>\n",
       "      <td>SAN FRANCISCO</td>\n",
       "      <td>f</td>\n",
       "      <td>f</td>\n",
       "      <td>strict_14_with_grace_period</td>\n",
       "      <td>f</td>\n",
       "      <td>f</td>\n",
       "      <td>San Francisco</td>\n",
       "    </tr>\n",
       "    <tr>\n",
       "      <th>3</th>\n",
       "      <td>within a few hours</td>\n",
       "      <td>f</td>\n",
       "      <td>t</td>\n",
       "      <td>t</td>\n",
       "      <td>Haight Ashbury</td>\n",
       "      <td>San Francisco</td>\n",
       "      <td>t</td>\n",
       "      <td>Apartment</td>\n",
       "      <td>Private room</td>\n",
       "      <td>Real Bed</td>\n",
       "      <td>SAN FRANCISCO</td>\n",
       "      <td>f</td>\n",
       "      <td>f</td>\n",
       "      <td>strict_14_with_grace_period</td>\n",
       "      <td>f</td>\n",
       "      <td>f</td>\n",
       "      <td>San Francisco</td>\n",
       "    </tr>\n",
       "    <tr>\n",
       "      <th>5</th>\n",
       "      <td>within a day</td>\n",
       "      <td>f</td>\n",
       "      <td>t</td>\n",
       "      <td>f</td>\n",
       "      <td>Western Addition</td>\n",
       "      <td>San Francisco</td>\n",
       "      <td>t</td>\n",
       "      <td>Apartment</td>\n",
       "      <td>Entire home/apt</td>\n",
       "      <td>Real Bed</td>\n",
       "      <td>SAN FRANCISCO</td>\n",
       "      <td>f</td>\n",
       "      <td>f</td>\n",
       "      <td>moderate</td>\n",
       "      <td>f</td>\n",
       "      <td>f</td>\n",
       "      <td>San Francisco</td>\n",
       "    </tr>\n",
       "  </tbody>\n",
       "</table>\n",
       "</div>"
      ],
      "text/plain": [
       "      host_response_time host_is_superhost host_has_profile_pic  \\\n",
       "sf 0      within an hour                 t                    t   \n",
       "   1      within an hour                 f                    t   \n",
       "   2  within a few hours                 f                    t   \n",
       "   3  within a few hours                 f                    t   \n",
       "   5        within a day                 f                    t   \n",
       "\n",
       "     host_identity_verified neighbourhood_cleansed           city  \\\n",
       "sf 0                      t       Western Addition  San Francisco   \n",
       "   1                      t         Bernal Heights  San Francisco   \n",
       "   2                      t         Haight Ashbury  San Francisco   \n",
       "   3                      t         Haight Ashbury  San Francisco   \n",
       "   5                      f       Western Addition  San Francisco   \n",
       "\n",
       "     is_location_exact property_type        room_type  bed_type  \\\n",
       "sf 0                 t     Apartment  Entire home/apt  Real Bed   \n",
       "   1                 t     Apartment  Entire home/apt  Real Bed   \n",
       "   2                 t     Apartment     Private room  Real Bed   \n",
       "   3                 t     Apartment     Private room  Real Bed   \n",
       "   5                 t     Apartment  Entire home/apt  Real Bed   \n",
       "\n",
       "     jurisdiction_names instant_bookable is_business_travel_ready  \\\n",
       "sf 0      SAN FRANCISCO                f                        f   \n",
       "   1      SAN FRANCISCO                f                        f   \n",
       "   2      SAN FRANCISCO                f                        f   \n",
       "   3      SAN FRANCISCO                f                        f   \n",
       "   5      SAN FRANCISCO                f                        f   \n",
       "\n",
       "              cancellation_policy require_guest_profile_picture  \\\n",
       "sf 0                     moderate                             f   \n",
       "   1  strict_14_with_grace_period                             f   \n",
       "   2  strict_14_with_grace_period                             f   \n",
       "   3  strict_14_with_grace_period                             f   \n",
       "   5                     moderate                             f   \n",
       "\n",
       "     require_guest_phone_verification       district  \n",
       "sf 0                                f  San Francisco  \n",
       "   1                                f  San Francisco  \n",
       "   2                                f  San Francisco  \n",
       "   3                                f  San Francisco  \n",
       "   5                                f  San Francisco  "
      ]
     },
     "execution_count": 31,
     "metadata": {},
     "output_type": "execute_result"
    }
   ],
   "source": [
    "# Selected categorical variables\n",
    "# Amenities feature contains a long list of amenties and will be handled separately\n",
    "\n",
    "categorical_variables = list(df_listings_clean\n",
    "                             .select_dtypes(include=['object']).columns)\n",
    "categorical_variables.remove('amenities')\n",
    "\n",
    "print ('Categorical data dimensions: ', len(categorical_variables))\n",
    "df_listings_clean[categorical_variables].head()"
   ]
  },
  {
   "cell_type": "code",
   "execution_count": 32,
   "metadata": {
    "ExecuteTime": {
     "end_time": "2019-02-22T00:42:54.572037Z",
     "start_time": "2019-02-22T00:42:54.521186Z"
    }
   },
   "outputs": [],
   "source": [
    "# Converted categorical data to dummy variables\n",
    "\n",
    "df_refined = pd.get_dummies(data=df_listings_clean,columns=categorical_variables)"
   ]
  },
  {
   "cell_type": "code",
   "execution_count": 33,
   "metadata": {
    "ExecuteTime": {
     "end_time": "2019-02-22T00:42:54.581202Z",
     "start_time": "2019-02-22T00:42:54.574403Z"
    }
   },
   "outputs": [
    {
     "name": "stdout",
     "output_type": "stream",
     "text": [
      "df_refined dimensions : (9062, 283)\n"
     ]
    },
    {
     "data": {
      "text/plain": [
       "Index(['id', 'host_yrs', 'host_response_rate', 'host_listings_count',\n",
       "       'host_total_listings_count', 'accommodates', 'bathrooms', 'bedrooms',\n",
       "       'beds', 'amenities',\n",
       "       ...\n",
       "       'cancellation_policy_strict_14_with_grace_period',\n",
       "       'cancellation_policy_super_strict_30',\n",
       "       'cancellation_policy_super_strict_60',\n",
       "       'require_guest_profile_picture_f', 'require_guest_profile_picture_t',\n",
       "       'require_guest_phone_verification_f',\n",
       "       'require_guest_phone_verification_t', 'district_Oakland',\n",
       "       'district_San Francisco', 'district_Santa Clara'],\n",
       "      dtype='object', length=283)"
      ]
     },
     "metadata": {},
     "output_type": "display_data"
    }
   ],
   "source": [
    "print('df_refined dimensions :', df_refined.shape)\n",
    "display(df_refined.columns)"
   ]
  },
  {
   "cell_type": "markdown",
   "metadata": {},
   "source": [
    "## Data Transformation"
   ]
  },
  {
   "cell_type": "code",
   "execution_count": 34,
   "metadata": {
    "ExecuteTime": {
     "end_time": "2019-02-22T00:42:54.765012Z",
     "start_time": "2019-02-22T00:42:54.584426Z"
    }
   },
   "outputs": [
    {
     "data": {
      "text/plain": [
       "<matplotlib.axes._subplots.AxesSubplot at 0x1c1dc4bbe0>"
      ]
     },
     "execution_count": 34,
     "metadata": {},
     "output_type": "execute_result"
    },
    {
     "data": {
      "image/png": "[encoded data removed]",
      "text/plain": [
       "<Figure size 576x396 with 1 Axes>"
      ]
     },
     "metadata": {},
     "output_type": "display_data"
    }
   ],
   "source": [
    "df_refined.price.hist()"
   ]
  },
  {
   "cell_type": "code",
   "execution_count": 35,
   "metadata": {
    "ExecuteTime": {
     "end_time": "2019-02-22T00:42:54.789259Z",
     "start_time": "2019-02-22T00:42:54.768283Z"
    }
   },
   "outputs": [],
   "source": [
    "df_refined['price_log'] = df_refined['price'].apply(lambda x: np.log(x))"
   ]
  },
  {
   "cell_type": "code",
   "execution_count": 36,
   "metadata": {
    "ExecuteTime": {
     "end_time": "2019-02-22T00:42:54.965303Z",
     "start_time": "2019-02-22T00:42:54.792015Z"
    }
   },
   "outputs": [
    {
     "data": {
      "text/plain": [
       "<matplotlib.axes._subplots.AxesSubplot at 0x1c1ccc7be0>"
      ]
     },
     "execution_count": 36,
     "metadata": {},
     "output_type": "execute_result"
    },
    {
     "data": {
      "image/png": "[encoded data removed]",
      "text/plain": [
       "<Figure size 576x396 with 1 Axes>"
      ]
     },
     "metadata": {},
     "output_type": "display_data"
    }
   ],
   "source": [
    "df_refined.price_log.hist()"
   ]
  },
  {
   "cell_type": "markdown",
   "metadata": {
    "ExecuteTime": {
     "end_time": "2019-02-17T10:32:00.559412Z",
     "start_time": "2019-02-17T10:32:00.556219Z"
    }
   },
   "source": [
    "## Other Feature Engineering"
   ]
  },
  {
   "cell_type": "markdown",
   "metadata": {},
   "source": [
    "### List of Amenities"
   ]
  },
  {
   "cell_type": "code",
   "execution_count": 37,
   "metadata": {
    "ExecuteTime": {
     "end_time": "2019-02-22T00:42:55.137807Z",
     "start_time": "2019-02-22T00:42:54.969406Z"
    }
   },
   "outputs": [],
   "source": [
    "# Removed special characters within amenities\n",
    "\n",
    "df_refined['amenities'] = df_refined['amenities'].str.replace('[^\\w\\s,]', '')"
   ]
  },
  {
   "cell_type": "code",
   "execution_count": 38,
   "metadata": {
    "ExecuteTime": {
     "end_time": "2019-02-22T00:42:55.150457Z",
     "start_time": "2019-02-22T00:42:55.141252Z"
    }
   },
   "outputs": [
    {
     "name": "stdout",
     "output_type": "stream",
     "text": [
      "Original list of amenities: \n"
     ]
    },
    {
     "data": {
      "text/plain": [
       "sf  0    TV,Cable TV,Internet,Wifi,Kitchen,Pets live on...\n",
       "    1    Internet,Wifi,Kitchen,Heating,Familykid friend...\n",
       "    2    TV,Internet,Wifi,Kitchen,Free street parking,H...\n",
       "    3    TV,Internet,Wifi,Kitchen,Free street parking,H...\n",
       "    5    TV,Cable TV,Internet,Wifi,Kitchen,Free parking...\n",
       "Name: amenities, dtype: object"
      ]
     },
     "execution_count": 38,
     "metadata": {},
     "output_type": "execute_result"
    }
   ],
   "source": [
    "# Converted list of amenities to a dataframe\n",
    "\n",
    "print ('Original list of amenities: ')\n",
    "df_refined.amenities.head()"
   ]
  },
  {
   "cell_type": "code",
   "execution_count": 39,
   "metadata": {
    "ExecuteTime": {
     "end_time": "2019-02-22T00:43:00.904414Z",
     "start_time": "2019-02-22T00:42:55.154577Z"
    }
   },
   "outputs": [
    {
     "name": "stdout",
     "output_type": "stream",
     "text": [
      "df_ammenities dimension:  (9062, 182)\n"
     ]
    },
    {
     "data": {
      "text/html": [
       "<div>\n",
       "<style scoped>\n",
       "    .dataframe tbody tr th:only-of-type {\n",
       "        vertical-align: middle;\n",
       "    }\n",
       "\n",
       "    .dataframe tbody tr th {\n",
       "        vertical-align: top;\n",
       "    }\n",
       "\n",
       "    .dataframe thead th {\n",
       "        text-align: right;\n",
       "    }\n",
       "</style>\n",
       "<table border=\"1\" class=\"dataframe\">\n",
       "  <thead>\n",
       "    <tr style=\"text-align: right;\">\n",
       "      <th></th>\n",
       "      <th></th>\n",
       "      <th>amenities_ toilet</th>\n",
       "      <th>amenities_24hour checkin</th>\n",
       "      <th>amenities_Accessibleheight bed</th>\n",
       "      <th>amenities_Accessibleheight toilet</th>\n",
       "      <th>amenities_Air conditioning</th>\n",
       "      <th>amenities_Air purifier</th>\n",
       "      <th>amenities_Amazon Echo</th>\n",
       "      <th>amenities_BBQ grill</th>\n",
       "      <th>amenities_Baby bath</th>\n",
       "      <th>amenities_Baby monitor</th>\n",
       "      <th>...</th>\n",
       "      <th>amenities_Wide clearance to bed</th>\n",
       "      <th>amenities_Wide clearance to shower</th>\n",
       "      <th>amenities_Wide doorway</th>\n",
       "      <th>amenities_Wide entryway</th>\n",
       "      <th>amenities_Wide hallway clearance</th>\n",
       "      <th>amenities_Wifi</th>\n",
       "      <th>amenities_Window guards</th>\n",
       "      <th>amenities_Wine cooler</th>\n",
       "      <th>amenities_translation missing enhosting_amenity_49</th>\n",
       "      <th>amenities_translation missing enhosting_amenity_50</th>\n",
       "    </tr>\n",
       "  </thead>\n",
       "  <tbody>\n",
       "    <tr>\n",
       "      <th rowspan=\"5\" valign=\"top\">sf</th>\n",
       "      <th>0</th>\n",
       "      <td>0</td>\n",
       "      <td>1</td>\n",
       "      <td>0</td>\n",
       "      <td>0</td>\n",
       "      <td>0</td>\n",
       "      <td>0</td>\n",
       "      <td>0</td>\n",
       "      <td>0</td>\n",
       "      <td>0</td>\n",
       "      <td>0</td>\n",
       "      <td>...</td>\n",
       "      <td>0</td>\n",
       "      <td>0</td>\n",
       "      <td>0</td>\n",
       "      <td>0</td>\n",
       "      <td>0</td>\n",
       "      <td>1</td>\n",
       "      <td>0</td>\n",
       "      <td>0</td>\n",
       "      <td>0</td>\n",
       "      <td>0</td>\n",
       "    </tr>\n",
       "    <tr>\n",
       "      <th>1</th>\n",
       "      <td>0</td>\n",
       "      <td>0</td>\n",
       "      <td>0</td>\n",
       "      <td>0</td>\n",
       "      <td>0</td>\n",
       "      <td>0</td>\n",
       "      <td>0</td>\n",
       "      <td>0</td>\n",
       "      <td>0</td>\n",
       "      <td>0</td>\n",
       "      <td>...</td>\n",
       "      <td>0</td>\n",
       "      <td>0</td>\n",
       "      <td>0</td>\n",
       "      <td>0</td>\n",
       "      <td>0</td>\n",
       "      <td>1</td>\n",
       "      <td>0</td>\n",
       "      <td>0</td>\n",
       "      <td>0</td>\n",
       "      <td>0</td>\n",
       "    </tr>\n",
       "    <tr>\n",
       "      <th>2</th>\n",
       "      <td>0</td>\n",
       "      <td>0</td>\n",
       "      <td>0</td>\n",
       "      <td>0</td>\n",
       "      <td>0</td>\n",
       "      <td>0</td>\n",
       "      <td>0</td>\n",
       "      <td>0</td>\n",
       "      <td>0</td>\n",
       "      <td>0</td>\n",
       "      <td>...</td>\n",
       "      <td>0</td>\n",
       "      <td>0</td>\n",
       "      <td>0</td>\n",
       "      <td>0</td>\n",
       "      <td>0</td>\n",
       "      <td>1</td>\n",
       "      <td>0</td>\n",
       "      <td>0</td>\n",
       "      <td>1</td>\n",
       "      <td>1</td>\n",
       "    </tr>\n",
       "    <tr>\n",
       "      <th>3</th>\n",
       "      <td>0</td>\n",
       "      <td>0</td>\n",
       "      <td>0</td>\n",
       "      <td>0</td>\n",
       "      <td>0</td>\n",
       "      <td>0</td>\n",
       "      <td>0</td>\n",
       "      <td>0</td>\n",
       "      <td>0</td>\n",
       "      <td>0</td>\n",
       "      <td>...</td>\n",
       "      <td>0</td>\n",
       "      <td>0</td>\n",
       "      <td>0</td>\n",
       "      <td>0</td>\n",
       "      <td>0</td>\n",
       "      <td>1</td>\n",
       "      <td>0</td>\n",
       "      <td>0</td>\n",
       "      <td>0</td>\n",
       "      <td>0</td>\n",
       "    </tr>\n",
       "    <tr>\n",
       "      <th>5</th>\n",
       "      <td>0</td>\n",
       "      <td>0</td>\n",
       "      <td>0</td>\n",
       "      <td>0</td>\n",
       "      <td>0</td>\n",
       "      <td>0</td>\n",
       "      <td>0</td>\n",
       "      <td>1</td>\n",
       "      <td>0</td>\n",
       "      <td>0</td>\n",
       "      <td>...</td>\n",
       "      <td>0</td>\n",
       "      <td>0</td>\n",
       "      <td>0</td>\n",
       "      <td>0</td>\n",
       "      <td>0</td>\n",
       "      <td>1</td>\n",
       "      <td>0</td>\n",
       "      <td>0</td>\n",
       "      <td>0</td>\n",
       "      <td>0</td>\n",
       "    </tr>\n",
       "  </tbody>\n",
       "</table>\n",
       "<p>5 rows × 182 columns</p>\n",
       "</div>"
      ],
      "text/plain": [
       "      amenities_ toilet  amenities_24hour checkin  \\\n",
       "sf 0                  0                         1   \n",
       "   1                  0                         0   \n",
       "   2                  0                         0   \n",
       "   3                  0                         0   \n",
       "   5                  0                         0   \n",
       "\n",
       "      amenities_Accessibleheight bed  amenities_Accessibleheight toilet  \\\n",
       "sf 0                               0                                  0   \n",
       "   1                               0                                  0   \n",
       "   2                               0                                  0   \n",
       "   3                               0                                  0   \n",
       "   5                               0                                  0   \n",
       "\n",
       "      amenities_Air conditioning  amenities_Air purifier  \\\n",
       "sf 0                           0                       0   \n",
       "   1                           0                       0   \n",
       "   2                           0                       0   \n",
       "   3                           0                       0   \n",
       "   5                           0                       0   \n",
       "\n",
       "      amenities_Amazon Echo  amenities_BBQ grill  amenities_Baby bath  \\\n",
       "sf 0                      0                    0                    0   \n",
       "   1                      0                    0                    0   \n",
       "   2                      0                    0                    0   \n",
       "   3                      0                    0                    0   \n",
       "   5                      0                    1                    0   \n",
       "\n",
       "      amenities_Baby monitor  \\\n",
       "sf 0                       0   \n",
       "   1                       0   \n",
       "   2                       0   \n",
       "   3                       0   \n",
       "   5                       0   \n",
       "\n",
       "                             ...                          \\\n",
       "sf 0                         ...                           \n",
       "   1                         ...                           \n",
       "   2                         ...                           \n",
       "   3                         ...                           \n",
       "   5                         ...                           \n",
       "\n",
       "      amenities_Wide clearance to bed  amenities_Wide clearance to shower  \\\n",
       "sf 0                                0                                   0   \n",
       "   1                                0                                   0   \n",
       "   2                                0                                   0   \n",
       "   3                                0                                   0   \n",
       "   5                                0                                   0   \n",
       "\n",
       "      amenities_Wide doorway  amenities_Wide entryway  \\\n",
       "sf 0                       0                        0   \n",
       "   1                       0                        0   \n",
       "   2                       0                        0   \n",
       "   3                       0                        0   \n",
       "   5                       0                        0   \n",
       "\n",
       "      amenities_Wide hallway clearance  amenities_Wifi  \\\n",
       "sf 0                                 0               1   \n",
       "   1                                 0               1   \n",
       "   2                                 0               1   \n",
       "   3                                 0               1   \n",
       "   5                                 0               1   \n",
       "\n",
       "      amenities_Window guards  amenities_Wine cooler  \\\n",
       "sf 0                        0                      0   \n",
       "   1                        0                      0   \n",
       "   2                        0                      0   \n",
       "   3                        0                      0   \n",
       "   5                        0                      0   \n",
       "\n",
       "      amenities_translation missing enhosting_amenity_49  \\\n",
       "sf 0                                                  0    \n",
       "   1                                                  0    \n",
       "   2                                                  1    \n",
       "   3                                                  0    \n",
       "   5                                                  0    \n",
       "\n",
       "      amenities_translation missing enhosting_amenity_50  \n",
       "sf 0                                                  0   \n",
       "   1                                                  0   \n",
       "   2                                                  1   \n",
       "   3                                                  0   \n",
       "   5                                                  0   \n",
       "\n",
       "[5 rows x 182 columns]"
      ]
     },
     "metadata": {},
     "output_type": "display_data"
    }
   ],
   "source": [
    "# Created a list captures every single amenities\n",
    "# Built a dataframe based on the list\n",
    "# Converted amenities to dummy variables\n",
    "\n",
    "df_amenities = df_refined  \\\n",
    "               .amenities  \\\n",
    "               .str.get_dummies(sep = \",\")  \\\n",
    "               .add_prefix('amenities_')\n",
    "\n",
    "print('df_ammenities dimension: ', df_amenities.shape)\n",
    "display(df_amenities.head())"
   ]
  },
  {
   "cell_type": "code",
   "execution_count": 40,
   "metadata": {
    "ExecuteTime": {
     "end_time": "2019-02-22T00:43:01.029914Z",
     "start_time": "2019-02-22T00:43:00.907398Z"
    }
   },
   "outputs": [
    {
     "name": "stdout",
     "output_type": "stream",
     "text": [
      "['amenities_24hour checkin', 'amenities_Air conditioning', 'amenities_BBQ grill', 'amenities_Bathtub', 'amenities_Bed linens', 'amenities_Breakfast', 'amenities_Cable TV', 'amenities_Carbon monoxide detector', 'amenities_Coffee maker', 'amenities_Cooking basics', 'amenities_Dishes and silverware', 'amenities_Dishwasher', 'amenities_Dryer', 'amenities_Elevator', 'amenities_Essentials', 'amenities_Extra pillows and blankets', 'amenities_Familykid friendly', 'amenities_Fire extinguisher', 'amenities_First aid kit', 'amenities_Free parking on premises', 'amenities_Free street parking', 'amenities_Garden or backyard', 'amenities_Hair dryer', 'amenities_Hangers', 'amenities_Heating', 'amenities_Host greets you', 'amenities_Hot water', 'amenities_Indoor fireplace', 'amenities_Internet', 'amenities_Iron', 'amenities_Keypad', 'amenities_Kitchen', 'amenities_Laptop friendly workspace', 'amenities_Lock on bedroom door', 'amenities_Lockbox', 'amenities_Long term stays allowed', 'amenities_Luggage dropoff allowed', 'amenities_Microwave', 'amenities_Oven', 'amenities_Patio or balcony', 'amenities_Pets allowed', 'amenities_Pets live on this property', 'amenities_Private entrance', 'amenities_Private living room', 'amenities_Refrigerator', 'amenities_Safety card', 'amenities_Self checkin', 'amenities_Shampoo', 'amenities_Single level home', 'amenities_Smoke detector', 'amenities_Stepfree access', 'amenities_Stove', 'amenities_TV', 'amenities_Washer', 'amenities_Wifi', 'amenities_translation missing enhosting_amenity_49', 'amenities_translation missing enhosting_amenity_50']\n"
     ]
    }
   ],
   "source": [
    "# There are over 150+ types of amenities. \n",
    "# This is to filter down to common owned amenities.\n",
    "\n",
    "common_amenities = []\n",
    "filter_percentile = 0.90\n",
    "\n",
    "for column in df_amenities.columns:\n",
    "    value = df_amenities[column].quantile(filter_percentile)\n",
    "    if value > 0:\n",
    "        common_amenities.append(column)\n",
    "\n",
    "df_common_amenities = df_amenities[common_amenities]\n",
    "\n",
    "print (common_amenities)"
   ]
  },
  {
   "cell_type": "code",
   "execution_count": 41,
   "metadata": {
    "ExecuteTime": {
     "end_time": "2019-02-22T00:43:01.061521Z",
     "start_time": "2019-02-22T00:43:01.033498Z"
    }
   },
   "outputs": [
    {
     "data": {
      "text/html": [
       "<div>\n",
       "<style scoped>\n",
       "    .dataframe tbody tr th:only-of-type {\n",
       "        vertical-align: middle;\n",
       "    }\n",
       "\n",
       "    .dataframe tbody tr th {\n",
       "        vertical-align: top;\n",
       "    }\n",
       "\n",
       "    .dataframe thead th {\n",
       "        text-align: right;\n",
       "    }\n",
       "</style>\n",
       "<table border=\"1\" class=\"dataframe\">\n",
       "  <thead>\n",
       "    <tr style=\"text-align: right;\">\n",
       "      <th></th>\n",
       "      <th></th>\n",
       "      <th>amenities_24hour checkin</th>\n",
       "      <th>amenities_Air conditioning</th>\n",
       "      <th>amenities_BBQ grill</th>\n",
       "      <th>amenities_Bathtub</th>\n",
       "      <th>amenities_Bed linens</th>\n",
       "      <th>amenities_Breakfast</th>\n",
       "      <th>amenities_Cable TV</th>\n",
       "      <th>amenities_Carbon monoxide detector</th>\n",
       "      <th>amenities_Coffee maker</th>\n",
       "      <th>amenities_Cooking basics</th>\n",
       "      <th>...</th>\n",
       "      <th>amenities_Shampoo</th>\n",
       "      <th>amenities_Single level home</th>\n",
       "      <th>amenities_Smoke detector</th>\n",
       "      <th>amenities_Stepfree access</th>\n",
       "      <th>amenities_Stove</th>\n",
       "      <th>amenities_TV</th>\n",
       "      <th>amenities_Washer</th>\n",
       "      <th>amenities_Wifi</th>\n",
       "      <th>amenities_translation missing enhosting_amenity_49</th>\n",
       "      <th>amenities_translation missing enhosting_amenity_50</th>\n",
       "    </tr>\n",
       "  </thead>\n",
       "  <tbody>\n",
       "    <tr>\n",
       "      <th rowspan=\"5\" valign=\"top\">sf</th>\n",
       "      <th>0</th>\n",
       "      <td>1</td>\n",
       "      <td>0</td>\n",
       "      <td>0</td>\n",
       "      <td>0</td>\n",
       "      <td>0</td>\n",
       "      <td>0</td>\n",
       "      <td>1</td>\n",
       "      <td>1</td>\n",
       "      <td>0</td>\n",
       "      <td>0</td>\n",
       "      <td>...</td>\n",
       "      <td>1</td>\n",
       "      <td>0</td>\n",
       "      <td>1</td>\n",
       "      <td>0</td>\n",
       "      <td>0</td>\n",
       "      <td>1</td>\n",
       "      <td>1</td>\n",
       "      <td>1</td>\n",
       "      <td>0</td>\n",
       "      <td>0</td>\n",
       "    </tr>\n",
       "    <tr>\n",
       "      <th>1</th>\n",
       "      <td>0</td>\n",
       "      <td>0</td>\n",
       "      <td>0</td>\n",
       "      <td>0</td>\n",
       "      <td>0</td>\n",
       "      <td>0</td>\n",
       "      <td>0</td>\n",
       "      <td>0</td>\n",
       "      <td>0</td>\n",
       "      <td>0</td>\n",
       "      <td>...</td>\n",
       "      <td>1</td>\n",
       "      <td>0</td>\n",
       "      <td>1</td>\n",
       "      <td>0</td>\n",
       "      <td>0</td>\n",
       "      <td>0</td>\n",
       "      <td>1</td>\n",
       "      <td>1</td>\n",
       "      <td>0</td>\n",
       "      <td>0</td>\n",
       "    </tr>\n",
       "    <tr>\n",
       "      <th>2</th>\n",
       "      <td>0</td>\n",
       "      <td>0</td>\n",
       "      <td>0</td>\n",
       "      <td>0</td>\n",
       "      <td>0</td>\n",
       "      <td>0</td>\n",
       "      <td>0</td>\n",
       "      <td>1</td>\n",
       "      <td>0</td>\n",
       "      <td>0</td>\n",
       "      <td>...</td>\n",
       "      <td>0</td>\n",
       "      <td>0</td>\n",
       "      <td>1</td>\n",
       "      <td>0</td>\n",
       "      <td>0</td>\n",
       "      <td>1</td>\n",
       "      <td>1</td>\n",
       "      <td>1</td>\n",
       "      <td>1</td>\n",
       "      <td>1</td>\n",
       "    </tr>\n",
       "    <tr>\n",
       "      <th>3</th>\n",
       "      <td>0</td>\n",
       "      <td>0</td>\n",
       "      <td>0</td>\n",
       "      <td>0</td>\n",
       "      <td>0</td>\n",
       "      <td>0</td>\n",
       "      <td>0</td>\n",
       "      <td>1</td>\n",
       "      <td>0</td>\n",
       "      <td>0</td>\n",
       "      <td>...</td>\n",
       "      <td>0</td>\n",
       "      <td>0</td>\n",
       "      <td>1</td>\n",
       "      <td>0</td>\n",
       "      <td>0</td>\n",
       "      <td>1</td>\n",
       "      <td>1</td>\n",
       "      <td>1</td>\n",
       "      <td>0</td>\n",
       "      <td>0</td>\n",
       "    </tr>\n",
       "    <tr>\n",
       "      <th>5</th>\n",
       "      <td>0</td>\n",
       "      <td>0</td>\n",
       "      <td>1</td>\n",
       "      <td>0</td>\n",
       "      <td>0</td>\n",
       "      <td>0</td>\n",
       "      <td>1</td>\n",
       "      <td>1</td>\n",
       "      <td>1</td>\n",
       "      <td>1</td>\n",
       "      <td>...</td>\n",
       "      <td>1</td>\n",
       "      <td>0</td>\n",
       "      <td>1</td>\n",
       "      <td>0</td>\n",
       "      <td>1</td>\n",
       "      <td>1</td>\n",
       "      <td>1</td>\n",
       "      <td>1</td>\n",
       "      <td>0</td>\n",
       "      <td>0</td>\n",
       "    </tr>\n",
       "  </tbody>\n",
       "</table>\n",
       "<p>5 rows × 57 columns</p>\n",
       "</div>"
      ],
      "text/plain": [
       "      amenities_24hour checkin  amenities_Air conditioning  \\\n",
       "sf 0                         1                           0   \n",
       "   1                         0                           0   \n",
       "   2                         0                           0   \n",
       "   3                         0                           0   \n",
       "   5                         0                           0   \n",
       "\n",
       "      amenities_BBQ grill  amenities_Bathtub  amenities_Bed linens  \\\n",
       "sf 0                    0                  0                     0   \n",
       "   1                    0                  0                     0   \n",
       "   2                    0                  0                     0   \n",
       "   3                    0                  0                     0   \n",
       "   5                    1                  0                     0   \n",
       "\n",
       "      amenities_Breakfast  amenities_Cable TV  \\\n",
       "sf 0                    0                   1   \n",
       "   1                    0                   0   \n",
       "   2                    0                   0   \n",
       "   3                    0                   0   \n",
       "   5                    0                   1   \n",
       "\n",
       "      amenities_Carbon monoxide detector  amenities_Coffee maker  \\\n",
       "sf 0                                   1                       0   \n",
       "   1                                   0                       0   \n",
       "   2                                   1                       0   \n",
       "   3                                   1                       0   \n",
       "   5                                   1                       1   \n",
       "\n",
       "      amenities_Cooking basics  \\\n",
       "sf 0                         0   \n",
       "   1                         0   \n",
       "   2                         0   \n",
       "   3                         0   \n",
       "   5                         1   \n",
       "\n",
       "                             ...                          amenities_Shampoo  \\\n",
       "sf 0                         ...                                          1   \n",
       "   1                         ...                                          1   \n",
       "   2                         ...                                          0   \n",
       "   3                         ...                                          0   \n",
       "   5                         ...                                          1   \n",
       "\n",
       "      amenities_Single level home  amenities_Smoke detector  \\\n",
       "sf 0                            0                         1   \n",
       "   1                            0                         1   \n",
       "   2                            0                         1   \n",
       "   3                            0                         1   \n",
       "   5                            0                         1   \n",
       "\n",
       "      amenities_Stepfree access  amenities_Stove  amenities_TV  \\\n",
       "sf 0                          0                0             1   \n",
       "   1                          0                0             0   \n",
       "   2                          0                0             1   \n",
       "   3                          0                0             1   \n",
       "   5                          0                1             1   \n",
       "\n",
       "      amenities_Washer  amenities_Wifi  \\\n",
       "sf 0                 1               1   \n",
       "   1                 1               1   \n",
       "   2                 1               1   \n",
       "   3                 1               1   \n",
       "   5                 1               1   \n",
       "\n",
       "      amenities_translation missing enhosting_amenity_49  \\\n",
       "sf 0                                                  0    \n",
       "   1                                                  0    \n",
       "   2                                                  1    \n",
       "   3                                                  0    \n",
       "   5                                                  0    \n",
       "\n",
       "      amenities_translation missing enhosting_amenity_50  \n",
       "sf 0                                                  0   \n",
       "   1                                                  0   \n",
       "   2                                                  1   \n",
       "   3                                                  0   \n",
       "   5                                                  0   \n",
       "\n",
       "[5 rows x 57 columns]"
      ]
     },
     "metadata": {},
     "output_type": "display_data"
    }
   ],
   "source": [
    "display (df_common_amenities.head())"
   ]
  },
  {
   "cell_type": "code",
   "execution_count": 42,
   "metadata": {
    "ExecuteTime": {
     "end_time": "2019-02-22T00:43:01.086458Z",
     "start_time": "2019-02-22T00:43:01.065414Z"
    }
   },
   "outputs": [],
   "source": [
    "# Concatenated common amenities dataframe with original dataframe\n",
    "\n",
    "df_refined = pd.concat([df_refined, df_common_amenities], axis=1)"
   ]
  },
  {
   "cell_type": "code",
   "execution_count": 43,
   "metadata": {
    "ExecuteTime": {
     "end_time": "2019-02-22T00:43:01.113992Z",
     "start_time": "2019-02-22T00:43:01.089536Z"
    }
   },
   "outputs": [
    {
     "data": {
      "text/plain": [
       "(9062, 340)"
      ]
     },
     "execution_count": 43,
     "metadata": {},
     "output_type": "execute_result"
    }
   ],
   "source": [
    "# Dropped original amenities feature, which is a list of amenities\n",
    "\n",
    "df_refined.drop('amenities', axis=1, inplace=True)\n",
    "df_refined.shape"
   ]
  },
  {
   "cell_type": "markdown",
   "metadata": {},
   "source": [
    "### Boolean Variables"
   ]
  },
  {
   "cell_type": "code",
   "execution_count": 44,
   "metadata": {
    "ExecuteTime": {
     "end_time": "2019-02-22T00:43:01.326107Z",
     "start_time": "2019-02-22T00:43:01.117608Z"
    }
   },
   "outputs": [
    {
     "data": {
      "text/plain": [
       "<matplotlib.axes._subplots.AxesSubplot at 0x1c211f0780>"
      ]
     },
     "execution_count": 44,
     "metadata": {},
     "output_type": "execute_result"
    },
    {
     "data": {
      "image/png": "[encoded data removed]",
      "text/plain": [
       "<Figure size 576x396 with 1 Axes>"
      ]
     },
     "metadata": {},
     "output_type": "display_data"
    }
   ],
   "source": [
    "# Noted security_deposite amount can vary considerably among postings\n",
    "\n",
    "df_model = df_refined.copy()\n",
    "df_model.security_deposit.hist()"
   ]
  },
  {
   "cell_type": "code",
   "execution_count": 45,
   "metadata": {
    "ExecuteTime": {
     "end_time": "2019-02-22T00:43:01.479300Z",
     "start_time": "2019-02-22T00:43:01.328934Z"
    }
   },
   "outputs": [
    {
     "data": {
      "text/plain": [
       "<matplotlib.axes._subplots.AxesSubplot at 0x1c210edef0>"
      ]
     },
     "execution_count": 45,
     "metadata": {},
     "output_type": "execute_result"
    },
    {
     "data": {
      "image/png": "[encoded data removed]",
      "text/plain": [
       "<Figure size 576x396 with 1 Axes>"
      ]
     },
     "metadata": {},
     "output_type": "display_data"
    }
   ],
   "source": [
    "# Noted minimum night amount can vary considerably among postings\n",
    "\n",
    "df_model.minimum_nights.hist()"
   ]
  },
  {
   "cell_type": "code",
   "execution_count": 46,
   "metadata": {
    "ExecuteTime": {
     "end_time": "2019-02-22T00:43:01.490411Z",
     "start_time": "2019-02-22T00:43:01.483074Z"
    }
   },
   "outputs": [],
   "source": [
    "# Their numerical values do not provide meaningful information for price prediction\n",
    "# Converted to boolean variables instead\n",
    "\n",
    "df_model['security_deposit'] = (df_model['security_deposit']>0) \\\n",
    "                                          .astype(int)\n",
    "\n",
    "df_model['minimum_nights'] = (df_model['minimum_nights']>1)  \\\n",
    "                                        .astype(int)"
   ]
  },
  {
   "cell_type": "code",
   "execution_count": 47,
   "metadata": {
    "ExecuteTime": {
     "end_time": "2019-02-22T00:43:01.508247Z",
     "start_time": "2019-02-22T00:43:01.493176Z"
    }
   },
   "outputs": [
    {
     "data": {
      "text/plain": [
       "(9062, 340)"
      ]
     },
     "execution_count": 47,
     "metadata": {},
     "output_type": "execute_result"
    }
   ],
   "source": [
    "df_model.shape"
   ]
  },
  {
   "cell_type": "markdown",
   "metadata": {
    "ExecuteTime": {
     "end_time": "2019-02-17T07:31:21.291326Z",
     "start_time": "2019-02-17T07:31:21.288223Z"
    }
   },
   "source": [
    "## Features with High Correlation"
   ]
  },
  {
   "cell_type": "code",
   "execution_count": 48,
   "metadata": {
    "ExecuteTime": {
     "end_time": "2019-02-22T00:43:03.261574Z",
     "start_time": "2019-02-22T00:43:01.514279Z"
    }
   },
   "outputs": [],
   "source": [
    "# Created correlation matrix\n",
    "# Selected upper triangle of correlation matrix\n",
    "\n",
    "corr_matrix = df_model.corr().abs()\n",
    "upper = corr_matrix.where(np.triu(np.ones(corr_matrix.shape), k=1).astype(np.bool))"
   ]
  },
  {
   "cell_type": "code",
   "execution_count": 51,
   "metadata": {
    "ExecuteTime": {
     "end_time": "2019-02-22T00:45:29.580143Z",
     "start_time": "2019-02-22T00:45:29.489236Z"
    }
   },
   "outputs": [
    {
     "data": {
      "text/plain": [
       "['host_total_listings_count',\n",
       " 'host_is_superhost_t',\n",
       " 'host_has_profile_pic_t',\n",
       " 'host_identity_verified_t',\n",
       " 'city_Cupertino',\n",
       " 'city_Palo Alto',\n",
       " 'city_San Jose',\n",
       " 'city_Santa Clara',\n",
       " 'city_Sunnyvale',\n",
       " 'is_location_exact_t',\n",
       " 'room_type_Private room',\n",
       " 'jurisdiction_names_Cupertino, CA',\n",
       " 'jurisdiction_names_OAKLAND',\n",
       " 'jurisdiction_names_PALO ALTO',\n",
       " 'jurisdiction_names_SAN FRANCISCO',\n",
       " 'jurisdiction_names_SAN JOSE',\n",
       " 'jurisdiction_names_SANTA CLARA',\n",
       " 'jurisdiction_names_Santa Cruz County, CA',\n",
       " 'jurisdiction_names_Sunnyvale, CA',\n",
       " 'instant_bookable_t',\n",
       " 'require_guest_profile_picture_t',\n",
       " 'require_guest_phone_verification_t',\n",
       " 'district_Oakland',\n",
       " 'district_San Francisco',\n",
       " 'amenities_Refrigerator',\n",
       " 'amenities_Stove',\n",
       " 'amenities_Washer']"
      ]
     },
     "metadata": {},
     "output_type": "display_data"
    }
   ],
   "source": [
    "# Identified index of feature columns with correlation greater than 0.90\n",
    "# Excluded 'price_log'and 'price'\n",
    "\n",
    "cor_thresold = 0.90\n",
    "exclusion = ['price_log', 'price']\n",
    "\n",
    "to_drop = [column for column in upper.columns if any(upper[column] >= cor_thresold)\n",
    "           and (column not in exclusion)]\n",
    "\n",
    "display (to_drop)"
   ]
  },
  {
   "cell_type": "code",
   "execution_count": 52,
   "metadata": {
    "ExecuteTime": {
     "end_time": "2019-02-22T00:45:43.874995Z",
     "start_time": "2019-02-22T00:45:43.857759Z"
    }
   },
   "outputs": [
    {
     "data": {
      "text/plain": [
       "'Dimensions after dropping high correlated features'"
      ]
     },
     "metadata": {},
     "output_type": "display_data"
    },
    {
     "data": {
      "text/plain": [
       "(9062, 313)"
      ]
     },
     "metadata": {},
     "output_type": "display_data"
    }
   ],
   "source": [
    "# Dropped features with high corrleation \n",
    "\n",
    "df_model.drop(columns = to_drop, inplace = True)\n",
    "\n",
    "df_model = df_model.copy()\n",
    "display('Dimensions after dropping high correlated features', df_model.shape)"
   ]
  },
  {
   "cell_type": "code",
   "execution_count": null,
   "metadata": {
    "ExecuteTime": {
     "end_time": "2019-02-22T00:45:44.087745Z",
     "start_time": "2019-02-22T00:45:44.073Z"
    }
   },
   "outputs": [],
   "source": [
    "# Stored the complete set of features\n",
    "\n",
    "pkl_file = '/Users/xzhou/github/project_archives/files_airbnb/{}.pkl'\n",
    "\n",
    "pkl_file_name = pkl_file.format('listings_all_features')\n",
    "\n",
    "df_model.to_pickle(pkl_file_name)"
   ]
  },
  {
   "cell_type": "markdown",
   "metadata": {
    "ExecuteTime": {
     "end_time": "2019-02-17T07:31:56.178971Z",
     "start_time": "2019-02-17T07:31:56.176281Z"
    }
   },
   "source": [
    "# Initial Modeling"
   ]
  },
  {
   "cell_type": "markdown",
   "metadata": {
    "ExecuteTime": {
     "end_time": "2019-02-17T10:39:49.812357Z",
     "start_time": "2019-02-17T10:39:49.809411Z"
    }
   },
   "source": [
    "## Model Preprocessing"
   ]
  },
  {
   "cell_type": "markdown",
   "metadata": {
    "ExecuteTime": {
     "end_time": "2019-02-17T07:32:32.978891Z",
     "start_time": "2019-02-17T07:32:32.975749Z"
    }
   },
   "source": [
    "### Train and Test Splits"
   ]
  },
  {
   "cell_type": "code",
   "execution_count": 53,
   "metadata": {
    "ExecuteTime": {
     "end_time": "2019-02-22T00:45:45.207183Z",
     "start_time": "2019-02-22T00:45:45.199206Z"
    }
   },
   "outputs": [],
   "source": [
    "# Performed quick regression models to get a big picture of performance, \n",
    "# and prepare for feature slections\n",
    "\n",
    "X = df_model.drop(['id', 'price', 'price_log'], axis=1)\n",
    "y = df_model['price_log']"
   ]
  },
  {
   "cell_type": "code",
   "execution_count": 56,
   "metadata": {
    "ExecuteTime": {
     "end_time": "2019-02-22T00:45:51.802100Z",
     "start_time": "2019-02-22T00:45:51.783526Z"
    }
   },
   "outputs": [],
   "source": [
    "X_train, X_test, y_train, y_test = train_test_split(\n",
    "                                   X, y, test_size =0.3, random_state=42)"
   ]
  },
  {
   "cell_type": "markdown",
   "metadata": {
    "ExecuteTime": {
     "end_time": "2019-02-17T10:40:37.567774Z",
     "start_time": "2019-02-17T10:40:37.561499Z"
    }
   },
   "source": [
    "### Feature Normalization"
   ]
  },
  {
   "cell_type": "code",
   "execution_count": 57,
   "metadata": {
    "ExecuteTime": {
     "end_time": "2019-02-22T00:45:52.927814Z",
     "start_time": "2019-02-22T00:45:52.831109Z"
    }
   },
   "outputs": [],
   "source": [
    "# Normalize features \n",
    "\n",
    "ss = StandardScaler()\n",
    "X_train_trans = ss.fit_transform(X_train)\n",
    "X_test_trans = ss.transform (X_test)"
   ]
  },
  {
   "cell_type": "markdown",
   "metadata": {
    "ExecuteTime": {
     "end_time": "2019-02-17T07:32:54.344320Z",
     "start_time": "2019-02-17T07:32:54.340034Z"
    }
   },
   "source": [
    "## Linear Regression"
   ]
  },
  {
   "cell_type": "code",
   "execution_count": 58,
   "metadata": {
    "ExecuteTime": {
     "end_time": "2019-02-22T00:45:54.309137Z",
     "start_time": "2019-02-22T00:45:53.656070Z"
    }
   },
   "outputs": [
    {
     "data": {
      "text/html": [
       "<table class=\"simpletable\">\n",
       "<caption>OLS Regression Results</caption>\n",
       "<tr>\n",
       "  <th>Dep. Variable:</th>        <td>price_log</td>    <th>  R-squared:         </th> <td>   0.737</td>\n",
       "</tr>\n",
       "<tr>\n",
       "  <th>Model:</th>                   <td>OLS</td>       <th>  Adj. R-squared:    </th> <td>   0.724</td>\n",
       "</tr>\n",
       "<tr>\n",
       "  <th>Method:</th>             <td>Least Squares</td>  <th>  F-statistic:       </th> <td>   58.02</td>\n",
       "</tr>\n",
       "<tr>\n",
       "  <th>Date:</th>             <td>Thu, 21 Feb 2019</td> <th>  Prob (F-statistic):</th>  <td>  0.00</td> \n",
       "</tr>\n",
       "<tr>\n",
       "  <th>Time:</th>                 <td>16:45:54</td>     <th>  Log-Likelihood:    </th> <td> -1297.4</td>\n",
       "</tr>\n",
       "<tr>\n",
       "  <th>No. Observations:</th>      <td>  6343</td>      <th>  AIC:               </th> <td>   3181.</td>\n",
       "</tr>\n",
       "<tr>\n",
       "  <th>Df Residuals:</th>          <td>  6050</td>      <th>  BIC:               </th> <td>   5160.</td>\n",
       "</tr>\n",
       "<tr>\n",
       "  <th>Df Model:</th>              <td>   292</td>      <th>                     </th>     <td> </td>   \n",
       "</tr>\n",
       "<tr>\n",
       "  <th>Covariance Type:</th>      <td>nonrobust</td>    <th>                     </th>     <td> </td>   \n",
       "</tr>\n",
       "</table>\n",
       "<table class=\"simpletable\">\n",
       "<tr>\n",
       "    <td></td>       <th>coef</th>     <th>std err</th>      <th>t</th>      <th>P>|t|</th>  <th>[0.025</th>    <th>0.975]</th>  \n",
       "</tr>\n",
       "<tr>\n",
       "  <th>const</th> <td>    4.8031</td> <td>    0.004</td> <td> 1258.381</td> <td> 0.000</td> <td>    4.796</td> <td>    4.811</td>\n",
       "</tr>\n",
       "<tr>\n",
       "  <th>x1</th>    <td>   -0.0021</td> <td>    0.005</td> <td>   -0.404</td> <td> 0.686</td> <td>   -0.012</td> <td>    0.008</td>\n",
       "</tr>\n",
       "<tr>\n",
       "  <th>x2</th>    <td>    0.0124</td> <td>    0.007</td> <td>    1.800</td> <td> 0.072</td> <td>   -0.001</td> <td>    0.026</td>\n",
       "</tr>\n",
       "<tr>\n",
       "  <th>x3</th>    <td>    0.0184</td> <td>    0.006</td> <td>    3.217</td> <td> 0.001</td> <td>    0.007</td> <td>    0.030</td>\n",
       "</tr>\n",
       "<tr>\n",
       "  <th>x4</th>    <td>    0.1394</td> <td>    0.009</td> <td>   15.949</td> <td> 0.000</td> <td>    0.122</td> <td>    0.156</td>\n",
       "</tr>\n",
       "<tr>\n",
       "  <th>x5</th>    <td>   -0.0075</td> <td>    0.005</td> <td>   -1.568</td> <td> 0.117</td> <td>   -0.017</td> <td>    0.002</td>\n",
       "</tr>\n",
       "<tr>\n",
       "  <th>x6</th>    <td>    0.0903</td> <td>    0.007</td> <td>   12.701</td> <td> 0.000</td> <td>    0.076</td> <td>    0.104</td>\n",
       "</tr>\n",
       "<tr>\n",
       "  <th>x7</th>    <td>   -0.0137</td> <td>    0.008</td> <td>   -1.823</td> <td> 0.068</td> <td>   -0.028</td> <td>    0.001</td>\n",
       "</tr>\n",
       "<tr>\n",
       "  <th>x8</th>    <td>   -0.0015</td> <td>    0.004</td> <td>   -0.359</td> <td> 0.720</td> <td>   -0.010</td> <td>    0.007</td>\n",
       "</tr>\n",
       "<tr>\n",
       "  <th>x9</th>    <td>    0.0456</td> <td>    0.006</td> <td>    8.208</td> <td> 0.000</td> <td>    0.035</td> <td>    0.057</td>\n",
       "</tr>\n",
       "<tr>\n",
       "  <th>x10</th>   <td>    0.0371</td> <td>    0.005</td> <td>    7.146</td> <td> 0.000</td> <td>    0.027</td> <td>    0.047</td>\n",
       "</tr>\n",
       "<tr>\n",
       "  <th>x11</th>   <td>   -0.0087</td> <td>    0.005</td> <td>   -1.892</td> <td> 0.058</td> <td>   -0.018</td> <td>    0.000</td>\n",
       "</tr>\n",
       "<tr>\n",
       "  <th>x12</th>   <td>   -0.0098</td> <td>    0.007</td> <td>   -1.396</td> <td> 0.163</td> <td>   -0.024</td> <td>    0.004</td>\n",
       "</tr>\n",
       "<tr>\n",
       "  <th>x13</th>   <td>   -0.0171</td> <td>    0.007</td> <td>   -2.489</td> <td> 0.013</td> <td>   -0.031</td> <td>   -0.004</td>\n",
       "</tr>\n",
       "<tr>\n",
       "  <th>x14</th>   <td>    0.0238</td> <td>    0.008</td> <td>    3.025</td> <td> 0.002</td> <td>    0.008</td> <td>    0.039</td>\n",
       "</tr>\n",
       "<tr>\n",
       "  <th>x15</th>   <td>    0.0082</td> <td>    0.006</td> <td>    1.301</td> <td> 0.193</td> <td>   -0.004</td> <td>    0.021</td>\n",
       "</tr>\n",
       "<tr>\n",
       "  <th>x16</th>   <td>    0.0388</td> <td>    0.006</td> <td>    6.962</td> <td> 0.000</td> <td>    0.028</td> <td>    0.050</td>\n",
       "</tr>\n",
       "<tr>\n",
       "  <th>x17</th>   <td>   -0.0164</td> <td>    0.006</td> <td>   -2.880</td> <td> 0.004</td> <td>   -0.028</td> <td>   -0.005</td>\n",
       "</tr>\n",
       "<tr>\n",
       "  <th>x18</th>   <td>   -0.0027</td> <td>    0.006</td> <td>   -0.434</td> <td> 0.664</td> <td>   -0.015</td> <td>    0.009</td>\n",
       "</tr>\n",
       "<tr>\n",
       "  <th>x19</th>   <td>    0.0257</td> <td>    0.005</td> <td>    4.773</td> <td> 0.000</td> <td>    0.015</td> <td>    0.036</td>\n",
       "</tr>\n",
       "<tr>\n",
       "  <th>x20</th>   <td>   -0.0319</td> <td>    0.006</td> <td>   -5.063</td> <td> 0.000</td> <td>   -0.044</td> <td>   -0.020</td>\n",
       "</tr>\n",
       "<tr>\n",
       "  <th>x21</th>   <td>   -0.0544</td> <td>    0.006</td> <td>   -8.962</td> <td> 0.000</td> <td>   -0.066</td> <td>   -0.042</td>\n",
       "</tr>\n",
       "<tr>\n",
       "  <th>x22</th>   <td>   -0.0324</td> <td>    0.007</td> <td>   -4.850</td> <td> 0.000</td> <td>   -0.046</td> <td>   -0.019</td>\n",
       "</tr>\n",
       "<tr>\n",
       "  <th>x23</th>   <td>    0.0060</td> <td>    0.006</td> <td>    0.964</td> <td> 0.335</td> <td>   -0.006</td> <td>    0.018</td>\n",
       "</tr>\n",
       "<tr>\n",
       "  <th>x24</th>   <td>   -0.0036</td> <td>    0.004</td> <td>   -1.028</td> <td> 0.304</td> <td>   -0.011</td> <td>    0.003</td>\n",
       "</tr>\n",
       "<tr>\n",
       "  <th>x25</th>   <td>   -0.0079</td> <td>    0.003</td> <td>   -2.720</td> <td> 0.007</td> <td>   -0.014</td> <td>   -0.002</td>\n",
       "</tr>\n",
       "<tr>\n",
       "  <th>x26</th>   <td>    0.0080</td> <td>    0.003</td> <td>    2.979</td> <td> 0.003</td> <td>    0.003</td> <td>    0.013</td>\n",
       "</tr>\n",
       "<tr>\n",
       "  <th>x27</th>   <td>   -0.0306</td> <td>    0.005</td> <td>   -6.700</td> <td> 0.000</td> <td>   -0.040</td> <td>   -0.022</td>\n",
       "</tr>\n",
       "<tr>\n",
       "  <th>x28</th>   <td>    0.0052</td> <td>    0.004</td> <td>    1.260</td> <td> 0.208</td> <td>   -0.003</td> <td>    0.013</td>\n",
       "</tr>\n",
       "<tr>\n",
       "  <th>x29</th>   <td>   -0.0142</td> <td>    0.005</td> <td>   -3.116</td> <td> 0.002</td> <td>   -0.023</td> <td>   -0.005</td>\n",
       "</tr>\n",
       "<tr>\n",
       "  <th>x30</th>   <td>    0.0090</td> <td>    0.004</td> <td>    2.304</td> <td> 0.021</td> <td>    0.001</td> <td>    0.017</td>\n",
       "</tr>\n",
       "<tr>\n",
       "  <th>x31</th>   <td>   -0.0139</td> <td>    0.005</td> <td>   -2.768</td> <td> 0.006</td> <td>   -0.024</td> <td>   -0.004</td>\n",
       "</tr>\n",
       "<tr>\n",
       "  <th>x32</th>   <td>   -0.0116</td> <td>    0.004</td> <td>   -2.794</td> <td> 0.005</td> <td>   -0.020</td> <td>   -0.003</td>\n",
       "</tr>\n",
       "<tr>\n",
       "  <th>x33</th>   <td>   -0.0126</td> <td>    0.004</td> <td>   -3.139</td> <td> 0.002</td> <td>   -0.021</td> <td>   -0.005</td>\n",
       "</tr>\n",
       "<tr>\n",
       "  <th>x34</th>   <td>   -0.0076</td> <td>    0.004</td> <td>   -1.924</td> <td> 0.054</td> <td>   -0.015</td> <td>    0.000</td>\n",
       "</tr>\n",
       "<tr>\n",
       "  <th>x35</th>   <td>   -0.0079</td> <td>    0.004</td> <td>   -2.035</td> <td> 0.042</td> <td>   -0.016</td> <td>   -0.000</td>\n",
       "</tr>\n",
       "<tr>\n",
       "  <th>x36</th>   <td>   -0.0098</td> <td>    0.004</td> <td>   -2.247</td> <td> 0.025</td> <td>   -0.018</td> <td>   -0.001</td>\n",
       "</tr>\n",
       "<tr>\n",
       "  <th>x37</th>   <td>    0.0024</td> <td>    0.004</td> <td>    0.599</td> <td> 0.549</td> <td>   -0.005</td> <td>    0.010</td>\n",
       "</tr>\n",
       "<tr>\n",
       "  <th>x38</th>   <td>    0.0062</td> <td>    0.005</td> <td>    1.204</td> <td> 0.229</td> <td>   -0.004</td> <td>    0.016</td>\n",
       "</tr>\n",
       "<tr>\n",
       "  <th>x39</th>   <td>   -0.0100</td> <td>    0.004</td> <td>   -2.425</td> <td> 0.015</td> <td>   -0.018</td> <td>   -0.002</td>\n",
       "</tr>\n",
       "<tr>\n",
       "  <th>x40</th>   <td>   -0.0161</td> <td>    0.006</td> <td>   -2.667</td> <td> 0.008</td> <td>   -0.028</td> <td>   -0.004</td>\n",
       "</tr>\n",
       "<tr>\n",
       "  <th>x41</th>   <td>   -0.0074</td> <td>    0.004</td> <td>   -1.682</td> <td> 0.093</td> <td>   -0.016</td> <td>    0.001</td>\n",
       "</tr>\n",
       "<tr>\n",
       "  <th>x42</th>   <td>   -0.0029</td> <td>    0.004</td> <td>   -0.743</td> <td> 0.458</td> <td>   -0.011</td> <td>    0.005</td>\n",
       "</tr>\n",
       "<tr>\n",
       "  <th>x43</th>   <td>   -0.0023</td> <td>    0.004</td> <td>   -0.578</td> <td> 0.563</td> <td>   -0.010</td> <td>    0.005</td>\n",
       "</tr>\n",
       "<tr>\n",
       "  <th>x44</th>   <td>    0.0378</td> <td>    0.005</td> <td>    7.473</td> <td> 0.000</td> <td>    0.028</td> <td>    0.048</td>\n",
       "</tr>\n",
       "<tr>\n",
       "  <th>x45</th>   <td>   -0.0121</td> <td>    0.004</td> <td>   -2.885</td> <td> 0.004</td> <td>   -0.020</td> <td>   -0.004</td>\n",
       "</tr>\n",
       "<tr>\n",
       "  <th>x46</th>   <td>    0.0101</td> <td>    0.004</td> <td>    2.523</td> <td> 0.012</td> <td>    0.002</td> <td>    0.018</td>\n",
       "</tr>\n",
       "<tr>\n",
       "  <th>x47</th>   <td>   -0.0080</td> <td>    0.005</td> <td>   -1.598</td> <td> 0.110</td> <td>   -0.018</td> <td>    0.002</td>\n",
       "</tr>\n",
       "<tr>\n",
       "  <th>x48</th>   <td>    0.0009</td> <td>    0.005</td> <td>    0.197</td> <td> 0.844</td> <td>   -0.008</td> <td>    0.010</td>\n",
       "</tr>\n",
       "<tr>\n",
       "  <th>x49</th>   <td>   -0.0173</td> <td>    0.005</td> <td>   -3.202</td> <td> 0.001</td> <td>   -0.028</td> <td>   -0.007</td>\n",
       "</tr>\n",
       "<tr>\n",
       "  <th>x50</th>   <td>    0.0065</td> <td>    0.004</td> <td>    1.608</td> <td> 0.108</td> <td>   -0.001</td> <td>    0.015</td>\n",
       "</tr>\n",
       "<tr>\n",
       "  <th>x51</th>   <td>-7.121e-18</td> <td>  6.4e-18</td> <td>   -1.113</td> <td> 0.266</td> <td>-1.97e-17</td> <td> 5.42e-18</td>\n",
       "</tr>\n",
       "<tr>\n",
       "  <th>x52</th>   <td>   -0.0127</td> <td>    0.004</td> <td>   -3.131</td> <td> 0.002</td> <td>   -0.021</td> <td>   -0.005</td>\n",
       "</tr>\n",
       "<tr>\n",
       "  <th>x53</th>   <td>   -0.0086</td> <td>    0.004</td> <td>   -2.021</td> <td> 0.043</td> <td>   -0.017</td> <td>   -0.000</td>\n",
       "</tr>\n",
       "<tr>\n",
       "  <th>x54</th>   <td>   -0.0083</td> <td>    0.004</td> <td>   -2.205</td> <td> 0.027</td> <td>   -0.016</td> <td>   -0.001</td>\n",
       "</tr>\n",
       "<tr>\n",
       "  <th>x55</th>   <td>    0.0040</td> <td>    0.004</td> <td>    1.028</td> <td> 0.304</td> <td>   -0.004</td> <td>    0.012</td>\n",
       "</tr>\n",
       "<tr>\n",
       "  <th>x56</th>   <td>   -0.0090</td> <td>    0.004</td> <td>   -2.257</td> <td> 0.024</td> <td>   -0.017</td> <td>   -0.001</td>\n",
       "</tr>\n",
       "<tr>\n",
       "  <th>x57</th>   <td>   -0.0067</td> <td>    0.004</td> <td>   -1.668</td> <td> 0.095</td> <td>   -0.015</td> <td>    0.001</td>\n",
       "</tr>\n",
       "<tr>\n",
       "  <th>x58</th>   <td>    0.0147</td> <td>    0.006</td> <td>    2.401</td> <td> 0.016</td> <td>    0.003</td> <td>    0.027</td>\n",
       "</tr>\n",
       "<tr>\n",
       "  <th>x59</th>   <td>   -0.0033</td> <td>    0.004</td> <td>   -0.829</td> <td> 0.407</td> <td>   -0.011</td> <td>    0.005</td>\n",
       "</tr>\n",
       "<tr>\n",
       "  <th>x60</th>   <td>   -0.0043</td> <td>    0.004</td> <td>   -1.039</td> <td> 0.299</td> <td>   -0.012</td> <td>    0.004</td>\n",
       "</tr>\n",
       "<tr>\n",
       "  <th>x61</th>   <td>   -0.0029</td> <td>    0.004</td> <td>   -0.739</td> <td> 0.460</td> <td>   -0.011</td> <td>    0.005</td>\n",
       "</tr>\n",
       "<tr>\n",
       "  <th>x62</th>   <td>   -0.0124</td> <td>    0.004</td> <td>   -2.773</td> <td> 0.006</td> <td>   -0.021</td> <td>   -0.004</td>\n",
       "</tr>\n",
       "<tr>\n",
       "  <th>x63</th>   <td>   -0.0056</td> <td>    0.004</td> <td>   -1.417</td> <td> 0.157</td> <td>   -0.013</td> <td>    0.002</td>\n",
       "</tr>\n",
       "<tr>\n",
       "  <th>x64</th>   <td>   -0.0248</td> <td>    0.004</td> <td>   -5.703</td> <td> 0.000</td> <td>   -0.033</td> <td>   -0.016</td>\n",
       "</tr>\n",
       "<tr>\n",
       "  <th>x65</th>   <td>   -0.0091</td> <td>    0.004</td> <td>   -2.252</td> <td> 0.024</td> <td>   -0.017</td> <td>   -0.001</td>\n",
       "</tr>\n",
       "<tr>\n",
       "  <th>x66</th>   <td>   -0.0162</td> <td>    0.004</td> <td>   -4.032</td> <td> 0.000</td> <td>   -0.024</td> <td>   -0.008</td>\n",
       "</tr>\n",
       "<tr>\n",
       "  <th>x67</th>   <td>   -0.0035</td> <td>    0.005</td> <td>   -0.722</td> <td> 0.471</td> <td>   -0.013</td> <td>    0.006</td>\n",
       "</tr>\n",
       "<tr>\n",
       "  <th>x68</th>   <td>    0.0021</td> <td>    0.004</td> <td>    0.475</td> <td> 0.635</td> <td>   -0.006</td> <td>    0.011</td>\n",
       "</tr>\n",
       "<tr>\n",
       "  <th>x69</th>   <td>   -0.0076</td> <td>    0.004</td> <td>   -1.901</td> <td> 0.057</td> <td>   -0.015</td> <td>    0.000</td>\n",
       "</tr>\n",
       "<tr>\n",
       "  <th>x70</th>   <td>    0.0013</td> <td>    0.004</td> <td>    0.299</td> <td> 0.765</td> <td>   -0.007</td> <td>    0.010</td>\n",
       "</tr>\n",
       "<tr>\n",
       "  <th>x71</th>   <td>   -0.0072</td> <td>    0.004</td> <td>   -1.852</td> <td> 0.064</td> <td>   -0.015</td> <td>    0.000</td>\n",
       "</tr>\n",
       "<tr>\n",
       "  <th>x72</th>   <td>   -0.0137</td> <td>    0.004</td> <td>   -3.193</td> <td> 0.001</td> <td>   -0.022</td> <td>   -0.005</td>\n",
       "</tr>\n",
       "<tr>\n",
       "  <th>x73</th>   <td>   -0.0042</td> <td>    0.004</td> <td>   -1.069</td> <td> 0.285</td> <td>   -0.012</td> <td>    0.004</td>\n",
       "</tr>\n",
       "<tr>\n",
       "  <th>x74</th>   <td>    0.0011</td> <td>    0.004</td> <td>    0.255</td> <td> 0.799</td> <td>   -0.007</td> <td>    0.009</td>\n",
       "</tr>\n",
       "<tr>\n",
       "  <th>x75</th>   <td>   -0.0055</td> <td>    0.004</td> <td>   -1.306</td> <td> 0.192</td> <td>   -0.014</td> <td>    0.003</td>\n",
       "</tr>\n",
       "<tr>\n",
       "  <th>x76</th>   <td>    0.0065</td> <td>    0.004</td> <td>    1.602</td> <td> 0.109</td> <td>   -0.001</td> <td>    0.015</td>\n",
       "</tr>\n",
       "<tr>\n",
       "  <th>x77</th>   <td>   -0.0161</td> <td>    0.005</td> <td>   -3.279</td> <td> 0.001</td> <td>   -0.026</td> <td>   -0.006</td>\n",
       "</tr>\n",
       "<tr>\n",
       "  <th>x78</th>   <td>   -0.0081</td> <td>    0.005</td> <td>   -1.559</td> <td> 0.119</td> <td>   -0.018</td> <td>    0.002</td>\n",
       "</tr>\n",
       "<tr>\n",
       "  <th>x79</th>   <td>    0.0036</td> <td>    0.004</td> <td>    0.940</td> <td> 0.347</td> <td>   -0.004</td> <td>    0.011</td>\n",
       "</tr>\n",
       "<tr>\n",
       "  <th>x80</th>   <td>   -0.0116</td> <td>    0.004</td> <td>   -2.796</td> <td> 0.005</td> <td>   -0.020</td> <td>   -0.003</td>\n",
       "</tr>\n",
       "<tr>\n",
       "  <th>x81</th>   <td>   -0.0009</td> <td>    0.005</td> <td>   -0.196</td> <td> 0.845</td> <td>   -0.010</td> <td>    0.008</td>\n",
       "</tr>\n",
       "<tr>\n",
       "  <th>x82</th>   <td>    0.0308</td> <td>    0.005</td> <td>    6.411</td> <td> 0.000</td> <td>    0.021</td> <td>    0.040</td>\n",
       "</tr>\n",
       "<tr>\n",
       "  <th>x83</th>   <td>   -0.0151</td> <td>    0.004</td> <td>   -3.779</td> <td> 0.000</td> <td>   -0.023</td> <td>   -0.007</td>\n",
       "</tr>\n",
       "<tr>\n",
       "  <th>x84</th>   <td>   -0.0032</td> <td>    0.004</td> <td>   -0.829</td> <td> 0.407</td> <td>   -0.011</td> <td>    0.004</td>\n",
       "</tr>\n",
       "<tr>\n",
       "  <th>x85</th>   <td>   -0.0046</td> <td>    0.004</td> <td>   -1.187</td> <td> 0.235</td> <td>   -0.012</td> <td>    0.003</td>\n",
       "</tr>\n",
       "<tr>\n",
       "  <th>x86</th>   <td>   -0.0080</td> <td>    0.004</td> <td>   -2.054</td> <td> 0.040</td> <td>   -0.016</td> <td>   -0.000</td>\n",
       "</tr>\n",
       "<tr>\n",
       "  <th>x87</th>   <td>   -0.0038</td> <td>    0.004</td> <td>   -0.902</td> <td> 0.367</td> <td>   -0.012</td> <td>    0.004</td>\n",
       "</tr>\n",
       "<tr>\n",
       "  <th>x88</th>   <td>-5.012e-18</td> <td> 7.25e-18</td> <td>   -0.692</td> <td> 0.489</td> <td>-1.92e-17</td> <td> 9.19e-18</td>\n",
       "</tr>\n",
       "<tr>\n",
       "  <th>x89</th>   <td>   -0.0078</td> <td>    0.005</td> <td>   -1.703</td> <td> 0.089</td> <td>   -0.017</td> <td>    0.001</td>\n",
       "</tr>\n",
       "<tr>\n",
       "  <th>x90</th>   <td>    0.0075</td> <td>    0.005</td> <td>    1.627</td> <td> 0.104</td> <td>   -0.002</td> <td>    0.017</td>\n",
       "</tr>\n",
       "<tr>\n",
       "  <th>x91</th>   <td>   -0.0036</td> <td>    0.004</td> <td>   -0.844</td> <td> 0.399</td> <td>   -0.012</td> <td>    0.005</td>\n",
       "</tr>\n",
       "<tr>\n",
       "  <th>x92</th>   <td>   -0.0094</td> <td>    0.004</td> <td>   -2.189</td> <td> 0.029</td> <td>   -0.018</td> <td>   -0.001</td>\n",
       "</tr>\n",
       "<tr>\n",
       "  <th>x93</th>   <td>   -0.0112</td> <td>    0.004</td> <td>   -2.761</td> <td> 0.006</td> <td>   -0.019</td> <td>   -0.003</td>\n",
       "</tr>\n",
       "<tr>\n",
       "  <th>x94</th>   <td>   -0.0022</td> <td>    0.004</td> <td>   -0.554</td> <td> 0.580</td> <td>   -0.010</td> <td>    0.006</td>\n",
       "</tr>\n",
       "<tr>\n",
       "  <th>x95</th>   <td>   -0.0158</td> <td>    0.004</td> <td>   -3.901</td> <td> 0.000</td> <td>   -0.024</td> <td>   -0.008</td>\n",
       "</tr>\n",
       "<tr>\n",
       "  <th>x96</th>   <td>   -0.0037</td> <td>    0.004</td> <td>   -0.874</td> <td> 0.382</td> <td>   -0.012</td> <td>    0.005</td>\n",
       "</tr>\n",
       "<tr>\n",
       "  <th>x97</th>   <td>   -0.0035</td> <td>    0.004</td> <td>   -0.889</td> <td> 0.374</td> <td>   -0.011</td> <td>    0.004</td>\n",
       "</tr>\n",
       "<tr>\n",
       "  <th>x98</th>   <td>   -0.0046</td> <td>    0.004</td> <td>   -1.176</td> <td> 0.240</td> <td>   -0.012</td> <td>    0.003</td>\n",
       "</tr>\n",
       "<tr>\n",
       "  <th>x99</th>   <td>   -0.0072</td> <td>    0.004</td> <td>   -1.842</td> <td> 0.066</td> <td>   -0.015</td> <td>    0.000</td>\n",
       "</tr>\n",
       "<tr>\n",
       "  <th>x100</th>  <td>   -0.0141</td> <td>    0.005</td> <td>   -3.098</td> <td> 0.002</td> <td>   -0.023</td> <td>   -0.005</td>\n",
       "</tr>\n",
       "<tr>\n",
       "  <th>x101</th>  <td>   -0.0068</td> <td>    0.004</td> <td>   -1.749</td> <td> 0.080</td> <td>   -0.014</td> <td>    0.001</td>\n",
       "</tr>\n",
       "<tr>\n",
       "  <th>x102</th>  <td>   -0.0201</td> <td>    0.006</td> <td>   -3.552</td> <td> 0.000</td> <td>   -0.031</td> <td>   -0.009</td>\n",
       "</tr>\n",
       "<tr>\n",
       "  <th>x103</th>  <td>   -0.0047</td> <td>    0.004</td> <td>   -1.211</td> <td> 0.226</td> <td>   -0.012</td> <td>    0.003</td>\n",
       "</tr>\n",
       "<tr>\n",
       "  <th>x104</th>  <td>   -0.0061</td> <td>    0.004</td> <td>   -1.462</td> <td> 0.144</td> <td>   -0.014</td> <td>    0.002</td>\n",
       "</tr>\n",
       "<tr>\n",
       "  <th>x105</th>  <td>    0.0189</td> <td>    0.004</td> <td>    4.324</td> <td> 0.000</td> <td>    0.010</td> <td>    0.027</td>\n",
       "</tr>\n",
       "<tr>\n",
       "  <th>x106</th>  <td>   -0.0085</td> <td>    0.004</td> <td>   -1.926</td> <td> 0.054</td> <td>   -0.017</td> <td>    0.000</td>\n",
       "</tr>\n",
       "<tr>\n",
       "  <th>x107</th>  <td>   -0.0039</td> <td>    0.004</td> <td>   -0.893</td> <td> 0.372</td> <td>   -0.012</td> <td>    0.005</td>\n",
       "</tr>\n",
       "<tr>\n",
       "  <th>x108</th>  <td>   -0.0048</td> <td>    0.004</td> <td>   -1.242</td> <td> 0.214</td> <td>   -0.013</td> <td>    0.003</td>\n",
       "</tr>\n",
       "<tr>\n",
       "  <th>x109</th>  <td>   -0.0068</td> <td>    0.004</td> <td>   -1.581</td> <td> 0.114</td> <td>   -0.015</td> <td>    0.002</td>\n",
       "</tr>\n",
       "<tr>\n",
       "  <th>x110</th>  <td>   -0.0079</td> <td>    0.005</td> <td>   -1.668</td> <td> 0.095</td> <td>   -0.017</td> <td>    0.001</td>\n",
       "</tr>\n",
       "<tr>\n",
       "  <th>x111</th>  <td>   -0.0074</td> <td>    0.004</td> <td>   -1.849</td> <td> 0.064</td> <td>   -0.015</td> <td>    0.000</td>\n",
       "</tr>\n",
       "<tr>\n",
       "  <th>x112</th>  <td>   -0.0131</td> <td>    0.005</td> <td>   -2.874</td> <td> 0.004</td> <td>   -0.022</td> <td>   -0.004</td>\n",
       "</tr>\n",
       "<tr>\n",
       "  <th>x113</th>  <td>    0.0470</td> <td>    0.006</td> <td>    8.048</td> <td> 0.000</td> <td>    0.036</td> <td>    0.058</td>\n",
       "</tr>\n",
       "<tr>\n",
       "  <th>x114</th>  <td>   -0.0017</td> <td>    0.005</td> <td>   -0.354</td> <td> 0.723</td> <td>   -0.011</td> <td>    0.008</td>\n",
       "</tr>\n",
       "<tr>\n",
       "  <th>x115</th>  <td>    0.0027</td> <td>    0.004</td> <td>    0.691</td> <td> 0.490</td> <td>   -0.005</td> <td>    0.010</td>\n",
       "</tr>\n",
       "<tr>\n",
       "  <th>x116</th>  <td>   -0.0096</td> <td>    0.004</td> <td>   -2.251</td> <td> 0.024</td> <td>   -0.018</td> <td>   -0.001</td>\n",
       "</tr>\n",
       "<tr>\n",
       "  <th>x117</th>  <td>-2.835e-17</td> <td> 5.53e-18</td> <td>   -5.129</td> <td> 0.000</td> <td>-3.92e-17</td> <td>-1.75e-17</td>\n",
       "</tr>\n",
       "<tr>\n",
       "  <th>x118</th>  <td> 9.283e-18</td> <td> 5.69e-18</td> <td>    1.630</td> <td> 0.103</td> <td>-1.88e-18</td> <td> 2.04e-17</td>\n",
       "</tr>\n",
       "<tr>\n",
       "  <th>x119</th>  <td>    0.0055</td> <td>    0.004</td> <td>    1.248</td> <td> 0.212</td> <td>   -0.003</td> <td>    0.014</td>\n",
       "</tr>\n",
       "<tr>\n",
       "  <th>x120</th>  <td>    0.0307</td> <td>    0.005</td> <td>    6.439</td> <td> 0.000</td> <td>    0.021</td> <td>    0.040</td>\n",
       "</tr>\n",
       "<tr>\n",
       "  <th>x121</th>  <td>    0.0205</td> <td>    0.004</td> <td>    4.726</td> <td> 0.000</td> <td>    0.012</td> <td>    0.029</td>\n",
       "</tr>\n",
       "<tr>\n",
       "  <th>x122</th>  <td>   -0.0062</td> <td>    0.004</td> <td>   -1.566</td> <td> 0.117</td> <td>   -0.014</td> <td>    0.002</td>\n",
       "</tr>\n",
       "<tr>\n",
       "  <th>x123</th>  <td>   -0.0135</td> <td>    0.005</td> <td>   -2.887</td> <td> 0.004</td> <td>   -0.023</td> <td>   -0.004</td>\n",
       "</tr>\n",
       "<tr>\n",
       "  <th>x124</th>  <td>   -0.0082</td> <td>    0.004</td> <td>   -2.061</td> <td> 0.039</td> <td>   -0.016</td> <td>   -0.000</td>\n",
       "</tr>\n",
       "<tr>\n",
       "  <th>x125</th>  <td>   -0.0084</td> <td>    0.005</td> <td>   -1.731</td> <td> 0.084</td> <td>   -0.018</td> <td>    0.001</td>\n",
       "</tr>\n",
       "<tr>\n",
       "  <th>x126</th>  <td>   -0.0158</td> <td>    0.005</td> <td>   -3.354</td> <td> 0.001</td> <td>   -0.025</td> <td>   -0.007</td>\n",
       "</tr>\n",
       "<tr>\n",
       "  <th>x127</th>  <td>   -0.0172</td> <td>    0.004</td> <td>   -4.118</td> <td> 0.000</td> <td>   -0.025</td> <td>   -0.009</td>\n",
       "</tr>\n",
       "<tr>\n",
       "  <th>x128</th>  <td>   -0.0069</td> <td>    0.004</td> <td>   -1.666</td> <td> 0.096</td> <td>   -0.015</td> <td>    0.001</td>\n",
       "</tr>\n",
       "<tr>\n",
       "  <th>x129</th>  <td>   -0.0092</td> <td>    0.004</td> <td>   -2.093</td> <td> 0.036</td> <td>   -0.018</td> <td>   -0.001</td>\n",
       "</tr>\n",
       "<tr>\n",
       "  <th>x130</th>  <td>    0.0010</td> <td>    0.004</td> <td>    0.226</td> <td> 0.821</td> <td>   -0.007</td> <td>    0.009</td>\n",
       "</tr>\n",
       "<tr>\n",
       "  <th>x131</th>  <td>   -0.0032</td> <td>    0.005</td> <td>   -0.668</td> <td> 0.504</td> <td>   -0.012</td> <td>    0.006</td>\n",
       "</tr>\n",
       "<tr>\n",
       "  <th>x132</th>  <td>    0.0313</td> <td>    0.004</td> <td>    7.265</td> <td> 0.000</td> <td>    0.023</td> <td>    0.040</td>\n",
       "</tr>\n",
       "<tr>\n",
       "  <th>x133</th>  <td>    0.0427</td> <td>    0.004</td> <td>   11.969</td> <td> 0.000</td> <td>    0.036</td> <td>    0.050</td>\n",
       "</tr>\n",
       "<tr>\n",
       "  <th>x134</th>  <td> 1.641e-05</td> <td>    0.004</td> <td>    0.004</td> <td> 0.997</td> <td>   -0.009</td> <td>    0.009</td>\n",
       "</tr>\n",
       "<tr>\n",
       "  <th>x135</th>  <td>   -0.0122</td> <td>    0.005</td> <td>   -2.653</td> <td> 0.008</td> <td>   -0.021</td> <td>   -0.003</td>\n",
       "</tr>\n",
       "<tr>\n",
       "  <th>x136</th>  <td>   -0.0141</td> <td>    0.004</td> <td>   -3.268</td> <td> 0.001</td> <td>   -0.023</td> <td>   -0.006</td>\n",
       "</tr>\n",
       "<tr>\n",
       "  <th>x137</th>  <td>   -0.0081</td> <td>    0.004</td> <td>   -2.025</td> <td> 0.043</td> <td>   -0.016</td> <td>   -0.000</td>\n",
       "</tr>\n",
       "<tr>\n",
       "  <th>x138</th>  <td>   -0.0072</td> <td>    0.004</td> <td>   -1.846</td> <td> 0.065</td> <td>   -0.015</td> <td>    0.000</td>\n",
       "</tr>\n",
       "<tr>\n",
       "  <th>x139</th>  <td>   -0.0021</td> <td>    0.005</td> <td>   -0.445</td> <td> 0.657</td> <td>   -0.012</td> <td>    0.007</td>\n",
       "</tr>\n",
       "<tr>\n",
       "  <th>x140</th>  <td>   -0.0065</td> <td>    0.005</td> <td>   -1.250</td> <td> 0.212</td> <td>   -0.017</td> <td>    0.004</td>\n",
       "</tr>\n",
       "<tr>\n",
       "  <th>x141</th>  <td>   -0.0029</td> <td>    0.004</td> <td>   -0.641</td> <td> 0.522</td> <td>   -0.012</td> <td>    0.006</td>\n",
       "</tr>\n",
       "<tr>\n",
       "  <th>x142</th>  <td>   -0.0017</td> <td>    0.004</td> <td>   -0.422</td> <td> 0.673</td> <td>   -0.010</td> <td>    0.006</td>\n",
       "</tr>\n",
       "<tr>\n",
       "  <th>x143</th>  <td>    0.0233</td> <td>    0.004</td> <td>    5.248</td> <td> 0.000</td> <td>    0.015</td> <td>    0.032</td>\n",
       "</tr>\n",
       "<tr>\n",
       "  <th>x144</th>  <td>   -0.0153</td> <td>    0.005</td> <td>   -3.023</td> <td> 0.003</td> <td>   -0.025</td> <td>   -0.005</td>\n",
       "</tr>\n",
       "<tr>\n",
       "  <th>x145</th>  <td>    0.0009</td> <td>    0.004</td> <td>    0.243</td> <td> 0.808</td> <td>   -0.007</td> <td>    0.009</td>\n",
       "</tr>\n",
       "<tr>\n",
       "  <th>x146</th>  <td>    0.0013</td> <td>    0.004</td> <td>    0.333</td> <td> 0.740</td> <td>   -0.006</td> <td>    0.009</td>\n",
       "</tr>\n",
       "<tr>\n",
       "  <th>x147</th>  <td>   -0.0001</td> <td>    0.004</td> <td>   -0.024</td> <td> 0.981</td> <td>   -0.008</td> <td>    0.008</td>\n",
       "</tr>\n",
       "<tr>\n",
       "  <th>x148</th>  <td>    0.0004</td> <td>    0.004</td> <td>    0.087</td> <td> 0.931</td> <td>   -0.008</td> <td>    0.008</td>\n",
       "</tr>\n",
       "<tr>\n",
       "  <th>x149</th>  <td>   -0.0118</td> <td>    0.004</td> <td>   -2.972</td> <td> 0.003</td> <td>   -0.020</td> <td>   -0.004</td>\n",
       "</tr>\n",
       "<tr>\n",
       "  <th>x150</th>  <td>   -0.0152</td> <td>    0.005</td> <td>   -3.314</td> <td> 0.001</td> <td>   -0.024</td> <td>   -0.006</td>\n",
       "</tr>\n",
       "<tr>\n",
       "  <th>x151</th>  <td>   -0.0093</td> <td>    0.005</td> <td>   -1.882</td> <td> 0.060</td> <td>   -0.019</td> <td>    0.000</td>\n",
       "</tr>\n",
       "<tr>\n",
       "  <th>x152</th>  <td>   -0.0021</td> <td>    0.005</td> <td>   -0.441</td> <td> 0.659</td> <td>   -0.012</td> <td>    0.007</td>\n",
       "</tr>\n",
       "<tr>\n",
       "  <th>x153</th>  <td>    0.0246</td> <td>    0.004</td> <td>    5.832</td> <td> 0.000</td> <td>    0.016</td> <td>    0.033</td>\n",
       "</tr>\n",
       "<tr>\n",
       "  <th>x154</th>  <td>   -0.0022</td> <td>    0.004</td> <td>   -0.568</td> <td> 0.570</td> <td>   -0.010</td> <td>    0.005</td>\n",
       "</tr>\n",
       "<tr>\n",
       "  <th>x155</th>  <td>   -0.0439</td> <td>    0.003</td> <td>  -13.475</td> <td> 0.000</td> <td>   -0.050</td> <td>   -0.038</td>\n",
       "</tr>\n",
       "<tr>\n",
       "  <th>x156</th>  <td>    0.0024</td> <td>    0.004</td> <td>    0.590</td> <td> 0.555</td> <td>   -0.006</td> <td>    0.010</td>\n",
       "</tr>\n",
       "<tr>\n",
       "  <th>x157</th>  <td>   -0.0197</td> <td>    0.004</td> <td>   -5.305</td> <td> 0.000</td> <td>   -0.027</td> <td>   -0.012</td>\n",
       "</tr>\n",
       "<tr>\n",
       "  <th>x158</th>  <td>   -0.0156</td> <td>    0.005</td> <td>   -3.034</td> <td> 0.002</td> <td>   -0.026</td> <td>   -0.006</td>\n",
       "</tr>\n",
       "<tr>\n",
       "  <th>x159</th>  <td>   -0.0082</td> <td>    0.004</td> <td>   -2.027</td> <td> 0.043</td> <td>   -0.016</td> <td>   -0.000</td>\n",
       "</tr>\n",
       "<tr>\n",
       "  <th>x160</th>  <td>    0.0006</td> <td>    0.004</td> <td>    0.143</td> <td> 0.886</td> <td>   -0.007</td> <td>    0.008</td>\n",
       "</tr>\n",
       "<tr>\n",
       "  <th>x161</th>  <td>   -0.0010</td> <td>    0.004</td> <td>   -0.260</td> <td> 0.795</td> <td>   -0.009</td> <td>    0.007</td>\n",
       "</tr>\n",
       "<tr>\n",
       "  <th>x162</th>  <td>   -0.0092</td> <td>    0.004</td> <td>   -2.317</td> <td> 0.021</td> <td>   -0.017</td> <td>   -0.001</td>\n",
       "</tr>\n",
       "<tr>\n",
       "  <th>x163</th>  <td>   -0.0184</td> <td>    0.004</td> <td>   -4.451</td> <td> 0.000</td> <td>   -0.027</td> <td>   -0.010</td>\n",
       "</tr>\n",
       "<tr>\n",
       "  <th>x164</th>  <td>   -0.0041</td> <td>    0.005</td> <td>   -0.771</td> <td> 0.441</td> <td>   -0.014</td> <td>    0.006</td>\n",
       "</tr>\n",
       "<tr>\n",
       "  <th>x165</th>  <td>   -0.0071</td> <td>    0.004</td> <td>   -1.724</td> <td> 0.085</td> <td>   -0.015</td> <td>    0.001</td>\n",
       "</tr>\n",
       "<tr>\n",
       "  <th>x166</th>  <td>   -0.0168</td> <td>    0.005</td> <td>   -3.681</td> <td> 0.000</td> <td>   -0.026</td> <td>   -0.008</td>\n",
       "</tr>\n",
       "<tr>\n",
       "  <th>x167</th>  <td>   -0.0014</td> <td>    0.004</td> <td>   -0.359</td> <td> 0.719</td> <td>   -0.009</td> <td>    0.006</td>\n",
       "</tr>\n",
       "<tr>\n",
       "  <th>x168</th>  <td>   -0.0087</td> <td>    0.004</td> <td>   -1.953</td> <td> 0.051</td> <td>   -0.017</td> <td> 3.19e-05</td>\n",
       "</tr>\n",
       "<tr>\n",
       "  <th>x169</th>  <td>    0.0081</td> <td>    0.005</td> <td>    1.791</td> <td> 0.073</td> <td>   -0.001</td> <td>    0.017</td>\n",
       "</tr>\n",
       "<tr>\n",
       "  <th>x170</th>  <td>    0.0242</td> <td>    0.005</td> <td>    4.581</td> <td> 0.000</td> <td>    0.014</td> <td>    0.035</td>\n",
       "</tr>\n",
       "<tr>\n",
       "  <th>x171</th>  <td>   -0.0090</td> <td>    0.004</td> <td>   -2.485</td> <td> 0.013</td> <td>   -0.016</td> <td>   -0.002</td>\n",
       "</tr>\n",
       "<tr>\n",
       "  <th>x172</th>  <td>   -0.0164</td> <td>    0.006</td> <td>   -2.911</td> <td> 0.004</td> <td>   -0.028</td> <td>   -0.005</td>\n",
       "</tr>\n",
       "<tr>\n",
       "  <th>x173</th>  <td>   -0.0058</td> <td>    0.004</td> <td>   -1.447</td> <td> 0.148</td> <td>   -0.014</td> <td>    0.002</td>\n",
       "</tr>\n",
       "<tr>\n",
       "  <th>x174</th>  <td>   -0.0017</td> <td>    0.004</td> <td>   -0.404</td> <td> 0.686</td> <td>   -0.010</td> <td>    0.007</td>\n",
       "</tr>\n",
       "<tr>\n",
       "  <th>x175</th>  <td>   -0.0124</td> <td>    0.004</td> <td>   -3.012</td> <td> 0.003</td> <td>   -0.020</td> <td>   -0.004</td>\n",
       "</tr>\n",
       "<tr>\n",
       "  <th>x176</th>  <td>    0.0076</td> <td>    0.004</td> <td>    1.859</td> <td> 0.063</td> <td>   -0.000</td> <td>    0.016</td>\n",
       "</tr>\n",
       "<tr>\n",
       "  <th>x177</th>  <td>   -0.0072</td> <td>    0.004</td> <td>   -1.740</td> <td> 0.082</td> <td>   -0.015</td> <td>    0.001</td>\n",
       "</tr>\n",
       "<tr>\n",
       "  <th>x178</th>  <td>   -0.0091</td> <td>    0.004</td> <td>   -2.154</td> <td> 0.031</td> <td>   -0.017</td> <td>   -0.001</td>\n",
       "</tr>\n",
       "<tr>\n",
       "  <th>x179</th>  <td>   -0.0167</td> <td>    0.004</td> <td>   -3.858</td> <td> 0.000</td> <td>   -0.025</td> <td>   -0.008</td>\n",
       "</tr>\n",
       "<tr>\n",
       "  <th>x180</th>  <td>   -0.0109</td> <td>    0.004</td> <td>   -2.715</td> <td> 0.007</td> <td>   -0.019</td> <td>   -0.003</td>\n",
       "</tr>\n",
       "<tr>\n",
       "  <th>x181</th>  <td>   -0.0036</td> <td>    0.005</td> <td>   -0.730</td> <td> 0.465</td> <td>   -0.013</td> <td>    0.006</td>\n",
       "</tr>\n",
       "<tr>\n",
       "  <th>x182</th>  <td>   -0.0080</td> <td>    0.004</td> <td>   -1.925</td> <td> 0.054</td> <td>   -0.016</td> <td>    0.000</td>\n",
       "</tr>\n",
       "<tr>\n",
       "  <th>x183</th>  <td>   -0.0041</td> <td>    0.004</td> <td>   -1.037</td> <td> 0.300</td> <td>   -0.012</td> <td>    0.004</td>\n",
       "</tr>\n",
       "<tr>\n",
       "  <th>x184</th>  <td>   -0.0037</td> <td>    0.004</td> <td>   -0.942</td> <td> 0.346</td> <td>   -0.011</td> <td>    0.004</td>\n",
       "</tr>\n",
       "<tr>\n",
       "  <th>x185</th>  <td>   -0.0028</td> <td>    0.004</td> <td>   -0.653</td> <td> 0.514</td> <td>   -0.011</td> <td>    0.006</td>\n",
       "</tr>\n",
       "<tr>\n",
       "  <th>x186</th>  <td>    0.0342</td> <td>    0.005</td> <td>    6.615</td> <td> 0.000</td> <td>    0.024</td> <td>    0.044</td>\n",
       "</tr>\n",
       "<tr>\n",
       "  <th>x187</th>  <td>   -0.0026</td> <td>    0.004</td> <td>   -0.674</td> <td> 0.501</td> <td>   -0.010</td> <td>    0.005</td>\n",
       "</tr>\n",
       "<tr>\n",
       "  <th>x188</th>  <td>   -0.0018</td> <td>    0.004</td> <td>   -0.459</td> <td> 0.646</td> <td>   -0.010</td> <td>    0.006</td>\n",
       "</tr>\n",
       "<tr>\n",
       "  <th>x189</th>  <td> 5.521e-18</td> <td>    5e-18</td> <td>    1.104</td> <td> 0.270</td> <td>-4.28e-18</td> <td> 1.53e-17</td>\n",
       "</tr>\n",
       "<tr>\n",
       "  <th>x190</th>  <td>    0.0038</td> <td>    0.008</td> <td>    0.454</td> <td> 0.649</td> <td>   -0.013</td> <td>    0.020</td>\n",
       "</tr>\n",
       "<tr>\n",
       "  <th>x191</th>  <td>    0.0009</td> <td>    0.004</td> <td>    0.246</td> <td> 0.806</td> <td>   -0.007</td> <td>    0.009</td>\n",
       "</tr>\n",
       "<tr>\n",
       "  <th>x192</th>  <td> 4.457e-05</td> <td>    0.004</td> <td>    0.012</td> <td> 0.991</td> <td>   -0.007</td> <td>    0.008</td>\n",
       "</tr>\n",
       "<tr>\n",
       "  <th>x193</th>  <td>   -0.0048</td> <td>    0.004</td> <td>   -1.235</td> <td> 0.217</td> <td>   -0.012</td> <td>    0.003</td>\n",
       "</tr>\n",
       "<tr>\n",
       "  <th>x194</th>  <td>    0.0059</td> <td>    0.005</td> <td>    1.223</td> <td> 0.221</td> <td>   -0.004</td> <td>    0.015</td>\n",
       "</tr>\n",
       "<tr>\n",
       "  <th>x195</th>  <td>   -0.0009</td> <td>    0.004</td> <td>   -0.241</td> <td> 0.810</td> <td>   -0.009</td> <td>    0.007</td>\n",
       "</tr>\n",
       "<tr>\n",
       "  <th>x196</th>  <td>    0.0060</td> <td>    0.004</td> <td>    1.464</td> <td> 0.143</td> <td>   -0.002</td> <td>    0.014</td>\n",
       "</tr>\n",
       "<tr>\n",
       "  <th>x197</th>  <td> 3.357e-18</td> <td> 4.89e-18</td> <td>    0.687</td> <td> 0.492</td> <td>-6.23e-18</td> <td> 1.29e-17</td>\n",
       "</tr>\n",
       "<tr>\n",
       "  <th>x198</th>  <td>   -0.0175</td> <td>    0.016</td> <td>   -1.079</td> <td> 0.281</td> <td>   -0.049</td> <td>    0.014</td>\n",
       "</tr>\n",
       "<tr>\n",
       "  <th>x199</th>  <td>-7.501e-05</td> <td>    0.005</td> <td>   -0.015</td> <td> 0.988</td> <td>   -0.010</td> <td>    0.010</td>\n",
       "</tr>\n",
       "<tr>\n",
       "  <th>x200</th>  <td>    0.0021</td> <td>    0.004</td> <td>    0.522</td> <td> 0.601</td> <td>   -0.006</td> <td>    0.010</td>\n",
       "</tr>\n",
       "<tr>\n",
       "  <th>x201</th>  <td>    0.0386</td> <td>    0.012</td> <td>    3.249</td> <td> 0.001</td> <td>    0.015</td> <td>    0.062</td>\n",
       "</tr>\n",
       "<tr>\n",
       "  <th>x202</th>  <td>   -0.0035</td> <td>    0.004</td> <td>   -0.905</td> <td> 0.365</td> <td>   -0.011</td> <td>    0.004</td>\n",
       "</tr>\n",
       "<tr>\n",
       "  <th>x203</th>  <td>    0.0014</td> <td>    0.004</td> <td>    0.354</td> <td> 0.723</td> <td>   -0.006</td> <td>    0.009</td>\n",
       "</tr>\n",
       "<tr>\n",
       "  <th>x204</th>  <td>   -0.0094</td> <td>    0.004</td> <td>   -2.427</td> <td> 0.015</td> <td>   -0.017</td> <td>   -0.002</td>\n",
       "</tr>\n",
       "<tr>\n",
       "  <th>x205</th>  <td> -1.34e-17</td> <td> 5.15e-18</td> <td>   -2.600</td> <td> 0.009</td> <td>-2.35e-17</td> <td> -3.3e-18</td>\n",
       "</tr>\n",
       "<tr>\n",
       "  <th>x206</th>  <td>    0.0019</td> <td>    0.004</td> <td>    0.492</td> <td> 0.623</td> <td>   -0.006</td> <td>    0.009</td>\n",
       "</tr>\n",
       "<tr>\n",
       "  <th>x207</th>  <td>   -0.0036</td> <td>    0.004</td> <td>   -0.894</td> <td> 0.371</td> <td>   -0.012</td> <td>    0.004</td>\n",
       "</tr>\n",
       "<tr>\n",
       "  <th>x208</th>  <td>    0.0207</td> <td>    0.004</td> <td>    5.049</td> <td> 0.000</td> <td>    0.013</td> <td>    0.029</td>\n",
       "</tr>\n",
       "<tr>\n",
       "  <th>x209</th>  <td>   -0.0159</td> <td>    0.003</td> <td>   -4.916</td> <td> 0.000</td> <td>   -0.022</td> <td>   -0.010</td>\n",
       "</tr>\n",
       "<tr>\n",
       "  <th>x210</th>  <td>   -0.0020</td> <td>    0.004</td> <td>   -0.510</td> <td> 0.610</td> <td>   -0.010</td> <td>    0.006</td>\n",
       "</tr>\n",
       "<tr>\n",
       "  <th>x211</th>  <td>    0.0031</td> <td>    0.004</td> <td>    0.750</td> <td> 0.454</td> <td>   -0.005</td> <td>    0.011</td>\n",
       "</tr>\n",
       "<tr>\n",
       "  <th>x212</th>  <td>    0.0042</td> <td>    0.004</td> <td>    0.949</td> <td> 0.343</td> <td>   -0.005</td> <td>    0.013</td>\n",
       "</tr>\n",
       "<tr>\n",
       "  <th>x213</th>  <td>    0.0120</td> <td>    0.005</td> <td>    2.514</td> <td> 0.012</td> <td>    0.003</td> <td>    0.021</td>\n",
       "</tr>\n",
       "<tr>\n",
       "  <th>x214</th>  <td>   -0.0041</td> <td>    0.004</td> <td>   -1.055</td> <td> 0.291</td> <td>   -0.012</td> <td>    0.004</td>\n",
       "</tr>\n",
       "<tr>\n",
       "  <th>x215</th>  <td>   -0.0026</td> <td>    0.004</td> <td>   -0.644</td> <td> 0.520</td> <td>   -0.010</td> <td>    0.005</td>\n",
       "</tr>\n",
       "<tr>\n",
       "  <th>x216</th>  <td>    0.0004</td> <td>    0.004</td> <td>    0.113</td> <td> 0.910</td> <td>   -0.007</td> <td>    0.008</td>\n",
       "</tr>\n",
       "<tr>\n",
       "  <th>x217</th>  <td>   -0.0015</td> <td>    0.004</td> <td>   -0.371</td> <td> 0.711</td> <td>   -0.009</td> <td>    0.006</td>\n",
       "</tr>\n",
       "<tr>\n",
       "  <th>x218</th>  <td>   -0.0004</td> <td>    0.004</td> <td>   -0.102</td> <td> 0.919</td> <td>   -0.008</td> <td>    0.007</td>\n",
       "</tr>\n",
       "<tr>\n",
       "  <th>x219</th>  <td>    0.0086</td> <td>    0.004</td> <td>    2.068</td> <td> 0.039</td> <td>    0.000</td> <td>    0.017</td>\n",
       "</tr>\n",
       "<tr>\n",
       "  <th>x220</th>  <td>    0.0115</td> <td>    0.004</td> <td>    3.060</td> <td> 0.002</td> <td>    0.004</td> <td>    0.019</td>\n",
       "</tr>\n",
       "<tr>\n",
       "  <th>x221</th>  <td>    0.0005</td> <td>    0.004</td> <td>    0.114</td> <td> 0.909</td> <td>   -0.007</td> <td>    0.008</td>\n",
       "</tr>\n",
       "<tr>\n",
       "  <th>x222</th>  <td>   -0.0148</td> <td>    0.004</td> <td>   -3.658</td> <td> 0.000</td> <td>   -0.023</td> <td>   -0.007</td>\n",
       "</tr>\n",
       "<tr>\n",
       "  <th>x223</th>  <td>    0.0052</td> <td>    0.004</td> <td>    1.290</td> <td> 0.197</td> <td>   -0.003</td> <td>    0.013</td>\n",
       "</tr>\n",
       "<tr>\n",
       "  <th>x224</th>  <td>   -0.0032</td> <td>    0.004</td> <td>   -0.746</td> <td> 0.456</td> <td>   -0.012</td> <td>    0.005</td>\n",
       "</tr>\n",
       "<tr>\n",
       "  <th>x225</th>  <td>    0.0202</td> <td>    0.004</td> <td>    4.580</td> <td> 0.000</td> <td>    0.012</td> <td>    0.029</td>\n",
       "</tr>\n",
       "<tr>\n",
       "  <th>x226</th>  <td>    0.0029</td> <td>    0.003</td> <td>    0.867</td> <td> 0.386</td> <td>   -0.004</td> <td>    0.010</td>\n",
       "</tr>\n",
       "<tr>\n",
       "  <th>x227</th>  <td>   -0.0071</td> <td>    0.004</td> <td>   -1.848</td> <td> 0.065</td> <td>   -0.015</td> <td>    0.000</td>\n",
       "</tr>\n",
       "<tr>\n",
       "  <th>x228</th>  <td>   -0.0002</td> <td>    0.004</td> <td>   -0.047</td> <td> 0.963</td> <td>   -0.008</td> <td>    0.007</td>\n",
       "</tr>\n",
       "<tr>\n",
       "  <th>x229</th>  <td>    0.0114</td> <td>    0.004</td> <td>    2.789</td> <td> 0.005</td> <td>    0.003</td> <td>    0.019</td>\n",
       "</tr>\n",
       "<tr>\n",
       "  <th>x230</th>  <td>    0.0047</td> <td>    0.004</td> <td>    1.182</td> <td> 0.237</td> <td>   -0.003</td> <td>    0.013</td>\n",
       "</tr>\n",
       "<tr>\n",
       "  <th>x231</th>  <td>    0.0164</td> <td>    0.004</td> <td>    4.161</td> <td> 0.000</td> <td>    0.009</td> <td>    0.024</td>\n",
       "</tr>\n",
       "<tr>\n",
       "  <th>x232</th>  <td>    0.0050</td> <td>    0.004</td> <td>    1.215</td> <td> 0.224</td> <td>   -0.003</td> <td>    0.013</td>\n",
       "</tr>\n",
       "<tr>\n",
       "  <th>x233</th>  <td>-8.919e-05</td> <td>    0.004</td> <td>   -0.023</td> <td> 0.982</td> <td>   -0.008</td> <td>    0.008</td>\n",
       "</tr>\n",
       "<tr>\n",
       "  <th>x234</th>  <td>   -0.0004</td> <td>    0.004</td> <td>   -0.092</td> <td> 0.927</td> <td>   -0.008</td> <td>    0.007</td>\n",
       "</tr>\n",
       "<tr>\n",
       "  <th>x235</th>  <td> 4.797e-19</td> <td> 4.34e-18</td> <td>    0.111</td> <td> 0.912</td> <td>-8.02e-18</td> <td> 8.98e-18</td>\n",
       "</tr>\n",
       "<tr>\n",
       "  <th>x236</th>  <td>   -0.0019</td> <td>    0.004</td> <td>   -0.468</td> <td> 0.640</td> <td>   -0.010</td> <td>    0.006</td>\n",
       "</tr>\n",
       "<tr>\n",
       "  <th>x237</th>  <td> 1.787e-18</td> <td> 5.12e-18</td> <td>    0.349</td> <td> 0.727</td> <td>-8.26e-18</td> <td> 1.18e-17</td>\n",
       "</tr>\n",
       "<tr>\n",
       "  <th>x238</th>  <td>    0.1795</td> <td>    0.006</td> <td>   28.489</td> <td> 0.000</td> <td>    0.167</td> <td>    0.192</td>\n",
       "</tr>\n",
       "<tr>\n",
       "  <th>x239</th>  <td>   -0.0497</td> <td>    0.004</td> <td>  -11.238</td> <td> 0.000</td> <td>   -0.058</td> <td>   -0.041</td>\n",
       "</tr>\n",
       "<tr>\n",
       "  <th>x240</th>  <td>   -0.0020</td> <td>    0.004</td> <td>   -0.557</td> <td> 0.577</td> <td>   -0.009</td> <td>    0.005</td>\n",
       "</tr>\n",
       "<tr>\n",
       "  <th>x241</th>  <td>    0.0008</td> <td>    0.004</td> <td>    0.216</td> <td> 0.829</td> <td>   -0.007</td> <td>    0.008</td>\n",
       "</tr>\n",
       "<tr>\n",
       "  <th>x242</th>  <td>   -0.0027</td> <td>    0.003</td> <td>   -0.853</td> <td> 0.394</td> <td>   -0.009</td> <td>    0.003</td>\n",
       "</tr>\n",
       "<tr>\n",
       "  <th>x243</th>  <td>   -0.0066</td> <td>    0.004</td> <td>   -1.872</td> <td> 0.061</td> <td>   -0.013</td> <td>    0.000</td>\n",
       "</tr>\n",
       "<tr>\n",
       "  <th>x244</th>  <td>    0.0059</td> <td>    0.002</td> <td>    2.991</td> <td> 0.003</td> <td>    0.002</td> <td>    0.010</td>\n",
       "</tr>\n",
       "<tr>\n",
       "  <th>x245</th>  <td>   -0.0098</td> <td>    0.007</td> <td>   -1.404</td> <td> 0.160</td> <td>   -0.023</td> <td>    0.004</td>\n",
       "</tr>\n",
       "<tr>\n",
       "  <th>x246</th>  <td>    0.0089</td> <td>    0.004</td> <td>    2.007</td> <td> 0.045</td> <td>    0.000</td> <td>    0.018</td>\n",
       "</tr>\n",
       "<tr>\n",
       "  <th>x247</th>  <td>-5.485e-18</td> <td> 3.65e-18</td> <td>   -1.504</td> <td> 0.133</td> <td>-1.26e-17</td> <td> 1.66e-18</td>\n",
       "</tr>\n",
       "<tr>\n",
       "  <th>x248</th>  <td>   -0.0020</td> <td>    0.003</td> <td>   -0.629</td> <td> 0.529</td> <td>   -0.008</td> <td>    0.004</td>\n",
       "</tr>\n",
       "<tr>\n",
       "  <th>x249</th>  <td>    0.0035</td> <td>    0.003</td> <td>    1.330</td> <td> 0.184</td> <td>   -0.002</td> <td>    0.009</td>\n",
       "</tr>\n",
       "<tr>\n",
       "  <th>x250</th>  <td>    0.0073</td> <td>    0.004</td> <td>    1.882</td> <td> 0.060</td> <td>   -0.000</td> <td>    0.015</td>\n",
       "</tr>\n",
       "<tr>\n",
       "  <th>x251</th>  <td>   -0.0025</td> <td>    0.003</td> <td>   -0.942</td> <td> 0.346</td> <td>   -0.008</td> <td>    0.003</td>\n",
       "</tr>\n",
       "<tr>\n",
       "  <th>x252</th>  <td>    0.0027</td> <td>    0.004</td> <td>    0.671</td> <td> 0.502</td> <td>   -0.005</td> <td>    0.011</td>\n",
       "</tr>\n",
       "<tr>\n",
       "  <th>x253</th>  <td> 7.766e-18</td> <td> 3.27e-18</td> <td>    2.372</td> <td> 0.018</td> <td> 1.35e-18</td> <td> 1.42e-17</td>\n",
       "</tr>\n",
       "<tr>\n",
       "  <th>x254</th>  <td>   -0.0206</td> <td>    0.006</td> <td>   -3.265</td> <td> 0.001</td> <td>   -0.033</td> <td>   -0.008</td>\n",
       "</tr>\n",
       "<tr>\n",
       "  <th>x255</th>  <td>    0.0141</td> <td>    0.006</td> <td>    2.215</td> <td> 0.027</td> <td>    0.002</td> <td>    0.027</td>\n",
       "</tr>\n",
       "<tr>\n",
       "  <th>x256</th>  <td>   -0.0283</td> <td>    0.003</td> <td>  -10.908</td> <td> 0.000</td> <td>   -0.033</td> <td>   -0.023</td>\n",
       "</tr>\n",
       "<tr>\n",
       "  <th>x257</th>  <td>   -0.0089</td> <td>    0.005</td> <td>   -1.856</td> <td> 0.064</td> <td>   -0.018</td> <td>    0.000</td>\n",
       "</tr>\n",
       "<tr>\n",
       "  <th>x258</th>  <td>    0.0189</td> <td>    0.005</td> <td>    3.700</td> <td> 0.000</td> <td>    0.009</td> <td>    0.029</td>\n",
       "</tr>\n",
       "<tr>\n",
       "  <th>x259</th>  <td>    0.0057</td> <td>    0.005</td> <td>    1.181</td> <td> 0.238</td> <td>   -0.004</td> <td>    0.015</td>\n",
       "</tr>\n",
       "<tr>\n",
       "  <th>x260</th>  <td>    0.0048</td> <td>    0.004</td> <td>    1.092</td> <td> 0.275</td> <td>   -0.004</td> <td>    0.013</td>\n",
       "</tr>\n",
       "<tr>\n",
       "  <th>x261</th>  <td>    0.0080</td> <td>    0.007</td> <td>    1.073</td> <td> 0.283</td> <td>   -0.007</td> <td>    0.023</td>\n",
       "</tr>\n",
       "<tr>\n",
       "  <th>x262</th>  <td>    0.0008</td> <td>    0.004</td> <td>    0.186</td> <td> 0.852</td> <td>   -0.007</td> <td>    0.009</td>\n",
       "</tr>\n",
       "<tr>\n",
       "  <th>x263</th>  <td>    0.0215</td> <td>    0.005</td> <td>    4.583</td> <td> 0.000</td> <td>    0.012</td> <td>    0.031</td>\n",
       "</tr>\n",
       "<tr>\n",
       "  <th>x264</th>  <td>   -0.0037</td> <td>    0.005</td> <td>   -0.762</td> <td> 0.446</td> <td>   -0.013</td> <td>    0.006</td>\n",
       "</tr>\n",
       "<tr>\n",
       "  <th>x265</th>  <td>    0.0188</td> <td>    0.008</td> <td>    2.387</td> <td> 0.017</td> <td>    0.003</td> <td>    0.034</td>\n",
       "</tr>\n",
       "<tr>\n",
       "  <th>x266</th>  <td>    0.0070</td> <td>    0.011</td> <td>    0.660</td> <td> 0.509</td> <td>   -0.014</td> <td>    0.028</td>\n",
       "</tr>\n",
       "<tr>\n",
       "  <th>x267</th>  <td>   -0.0011</td> <td>    0.011</td> <td>   -0.097</td> <td> 0.923</td> <td>   -0.023</td> <td>    0.021</td>\n",
       "</tr>\n",
       "<tr>\n",
       "  <th>x268</th>  <td>    0.0177</td> <td>    0.007</td> <td>    2.678</td> <td> 0.007</td> <td>    0.005</td> <td>    0.031</td>\n",
       "</tr>\n",
       "<tr>\n",
       "  <th>x269</th>  <td>   -0.0035</td> <td>    0.005</td> <td>   -0.765</td> <td> 0.444</td> <td>   -0.013</td> <td>    0.005</td>\n",
       "</tr>\n",
       "<tr>\n",
       "  <th>x270</th>  <td>    0.0445</td> <td>    0.005</td> <td>    8.213</td> <td> 0.000</td> <td>    0.034</td> <td>    0.055</td>\n",
       "</tr>\n",
       "<tr>\n",
       "  <th>x271</th>  <td>   -0.0120</td> <td>    0.004</td> <td>   -2.690</td> <td> 0.007</td> <td>   -0.021</td> <td>   -0.003</td>\n",
       "</tr>\n",
       "<tr>\n",
       "  <th>x272</th>  <td>   -0.0074</td> <td>    0.007</td> <td>   -1.069</td> <td> 0.285</td> <td>   -0.021</td> <td>    0.006</td>\n",
       "</tr>\n",
       "<tr>\n",
       "  <th>x273</th>  <td>    0.0110</td> <td>    0.005</td> <td>    2.201</td> <td> 0.028</td> <td>    0.001</td> <td>    0.021</td>\n",
       "</tr>\n",
       "<tr>\n",
       "  <th>x274</th>  <td>   -0.0020</td> <td>    0.005</td> <td>   -0.415</td> <td> 0.678</td> <td>   -0.011</td> <td>    0.007</td>\n",
       "</tr>\n",
       "<tr>\n",
       "  <th>x275</th>  <td>   -0.0069</td> <td>    0.005</td> <td>   -1.463</td> <td> 0.144</td> <td>   -0.016</td> <td>    0.002</td>\n",
       "</tr>\n",
       "<tr>\n",
       "  <th>x276</th>  <td>    0.0123</td> <td>    0.005</td> <td>    2.484</td> <td> 0.013</td> <td>    0.003</td> <td>    0.022</td>\n",
       "</tr>\n",
       "<tr>\n",
       "  <th>x277</th>  <td>    0.0104</td> <td>    0.005</td> <td>    1.977</td> <td> 0.048</td> <td> 8.75e-05</td> <td>    0.021</td>\n",
       "</tr>\n",
       "<tr>\n",
       "  <th>x278</th>  <td>   -0.0148</td> <td>    0.006</td> <td>   -2.647</td> <td> 0.008</td> <td>   -0.026</td> <td>   -0.004</td>\n",
       "</tr>\n",
       "<tr>\n",
       "  <th>x279</th>  <td>    0.0143</td> <td>    0.005</td> <td>    2.734</td> <td> 0.006</td> <td>    0.004</td> <td>    0.025</td>\n",
       "</tr>\n",
       "<tr>\n",
       "  <th>x280</th>  <td>   -0.0066</td> <td>    0.005</td> <td>   -1.258</td> <td> 0.208</td> <td>   -0.017</td> <td>    0.004</td>\n",
       "</tr>\n",
       "<tr>\n",
       "  <th>x281</th>  <td>   -0.0004</td> <td>    0.004</td> <td>   -0.105</td> <td> 0.917</td> <td>   -0.009</td> <td>    0.008</td>\n",
       "</tr>\n",
       "<tr>\n",
       "  <th>x282</th>  <td>   -0.0060</td> <td>    0.005</td> <td>   -1.293</td> <td> 0.196</td> <td>   -0.015</td> <td>    0.003</td>\n",
       "</tr>\n",
       "<tr>\n",
       "  <th>x283</th>  <td>   -0.0132</td> <td>    0.006</td> <td>   -2.303</td> <td> 0.021</td> <td>   -0.025</td> <td>   -0.002</td>\n",
       "</tr>\n",
       "<tr>\n",
       "  <th>x284</th>  <td>    0.0158</td> <td>    0.004</td> <td>    3.731</td> <td> 0.000</td> <td>    0.007</td> <td>    0.024</td>\n",
       "</tr>\n",
       "<tr>\n",
       "  <th>x285</th>  <td>    0.0159</td> <td>    0.005</td> <td>    3.107</td> <td> 0.002</td> <td>    0.006</td> <td>    0.026</td>\n",
       "</tr>\n",
       "<tr>\n",
       "  <th>x286</th>  <td>   -0.0026</td> <td>    0.005</td> <td>   -0.491</td> <td> 0.624</td> <td>   -0.013</td> <td>    0.008</td>\n",
       "</tr>\n",
       "<tr>\n",
       "  <th>x287</th>  <td>   -0.0063</td> <td>    0.006</td> <td>   -1.016</td> <td> 0.310</td> <td>   -0.019</td> <td>    0.006</td>\n",
       "</tr>\n",
       "<tr>\n",
       "  <th>x288</th>  <td>   -0.0083</td> <td>    0.005</td> <td>   -1.685</td> <td> 0.092</td> <td>   -0.018</td> <td>    0.001</td>\n",
       "</tr>\n",
       "<tr>\n",
       "  <th>x289</th>  <td>    0.0021</td> <td>    0.005</td> <td>    0.435</td> <td> 0.664</td> <td>   -0.007</td> <td>    0.012</td>\n",
       "</tr>\n",
       "<tr>\n",
       "  <th>x290</th>  <td>   -0.0167</td> <td>    0.005</td> <td>   -3.559</td> <td> 0.000</td> <td>   -0.026</td> <td>   -0.008</td>\n",
       "</tr>\n",
       "<tr>\n",
       "  <th>x291</th>  <td>    0.0010</td> <td>    0.007</td> <td>    0.153</td> <td> 0.878</td> <td>   -0.012</td> <td>    0.014</td>\n",
       "</tr>\n",
       "<tr>\n",
       "  <th>x292</th>  <td>   -0.0180</td> <td>    0.005</td> <td>   -3.715</td> <td> 0.000</td> <td>   -0.028</td> <td>   -0.009</td>\n",
       "</tr>\n",
       "<tr>\n",
       "  <th>x293</th>  <td>    0.0190</td> <td>    0.005</td> <td>    3.884</td> <td> 0.000</td> <td>    0.009</td> <td>    0.029</td>\n",
       "</tr>\n",
       "<tr>\n",
       "  <th>x294</th>  <td>   -0.0127</td> <td>    0.009</td> <td>   -1.418</td> <td> 0.156</td> <td>   -0.030</td> <td>    0.005</td>\n",
       "</tr>\n",
       "<tr>\n",
       "  <th>x295</th>  <td>   -0.0189</td> <td>    0.009</td> <td>   -1.992</td> <td> 0.046</td> <td>   -0.038</td> <td>   -0.000</td>\n",
       "</tr>\n",
       "<tr>\n",
       "  <th>x296</th>  <td>    0.0070</td> <td>    0.005</td> <td>    1.350</td> <td> 0.177</td> <td>   -0.003</td> <td>    0.017</td>\n",
       "</tr>\n",
       "<tr>\n",
       "  <th>x297</th>  <td>   -0.0051</td> <td>    0.004</td> <td>   -1.243</td> <td> 0.214</td> <td>   -0.013</td> <td>    0.003</td>\n",
       "</tr>\n",
       "<tr>\n",
       "  <th>x298</th>  <td>    0.0035</td> <td>    0.004</td> <td>    0.834</td> <td> 0.404</td> <td>   -0.005</td> <td>    0.012</td>\n",
       "</tr>\n",
       "<tr>\n",
       "  <th>x299</th>  <td>    0.0097</td> <td>    0.005</td> <td>    2.107</td> <td> 0.035</td> <td>    0.001</td> <td>    0.019</td>\n",
       "</tr>\n",
       "<tr>\n",
       "  <th>x300</th>  <td>    0.0190</td> <td>    0.004</td> <td>    4.580</td> <td> 0.000</td> <td>    0.011</td> <td>    0.027</td>\n",
       "</tr>\n",
       "<tr>\n",
       "  <th>x301</th>  <td>    0.0180</td> <td>    0.004</td> <td>    4.108</td> <td> 0.000</td> <td>    0.009</td> <td>    0.027</td>\n",
       "</tr>\n",
       "<tr>\n",
       "  <th>x302</th>  <td>   -0.0066</td> <td>    0.008</td> <td>   -0.855</td> <td> 0.393</td> <td>   -0.022</td> <td>    0.009</td>\n",
       "</tr>\n",
       "<tr>\n",
       "  <th>x303</th>  <td>    0.0343</td> <td>    0.005</td> <td>    7.315</td> <td> 0.000</td> <td>    0.025</td> <td>    0.044</td>\n",
       "</tr>\n",
       "<tr>\n",
       "  <th>x304</th>  <td>   -0.0137</td> <td>    0.005</td> <td>   -2.923</td> <td> 0.003</td> <td>   -0.023</td> <td>   -0.005</td>\n",
       "</tr>\n",
       "<tr>\n",
       "  <th>x305</th>  <td>    0.0014</td> <td>    0.005</td> <td>    0.301</td> <td> 0.763</td> <td>   -0.008</td> <td>    0.011</td>\n",
       "</tr>\n",
       "<tr>\n",
       "  <th>x306</th>  <td>   -0.0072</td> <td>    0.005</td> <td>   -1.566</td> <td> 0.117</td> <td>   -0.016</td> <td>    0.002</td>\n",
       "</tr>\n",
       "<tr>\n",
       "  <th>x307</th>  <td>    0.0197</td> <td>    0.005</td> <td>    4.211</td> <td> 0.000</td> <td>    0.011</td> <td>    0.029</td>\n",
       "</tr>\n",
       "<tr>\n",
       "  <th>x308</th>  <td>   -0.0083</td> <td>    0.004</td> <td>   -1.926</td> <td> 0.054</td> <td>   -0.017</td> <td>    0.000</td>\n",
       "</tr>\n",
       "<tr>\n",
       "  <th>x309</th>  <td>   -0.0028</td> <td>    0.007</td> <td>   -0.423</td> <td> 0.672</td> <td>   -0.016</td> <td>    0.010</td>\n",
       "</tr>\n",
       "<tr>\n",
       "  <th>x310</th>  <td>   -0.0184</td> <td>    0.006</td> <td>   -2.937</td> <td> 0.003</td> <td>   -0.031</td> <td>   -0.006</td>\n",
       "</tr>\n",
       "</table>\n",
       "<table class=\"simpletable\">\n",
       "<tr>\n",
       "  <th>Omnibus:</th>       <td>224.624</td> <th>  Durbin-Watson:     </th> <td>   1.980</td> \n",
       "</tr>\n",
       "<tr>\n",
       "  <th>Prob(Omnibus):</th> <td> 0.000</td>  <th>  Jarque-Bera (JB):  </th> <td> 577.029</td> \n",
       "</tr>\n",
       "<tr>\n",
       "  <th>Skew:</th>          <td> 0.145</td>  <th>  Prob(JB):          </th> <td>5.01e-126</td>\n",
       "</tr>\n",
       "<tr>\n",
       "  <th>Kurtosis:</th>      <td> 4.449</td>  <th>  Cond. No.          </th> <td>4.28e+16</td> \n",
       "</tr>\n",
       "</table><br/><br/>Warnings:<br/>[1] Standard Errors assume that the covariance matrix of the errors is correctly specified.<br/>[2] The smallest eigenvalue is 3.43e-29. This might indicate that there are<br/>strong multicollinearity problems or that the design matrix is singular."
      ],
      "text/plain": [
       "<class 'statsmodels.iolib.summary.Summary'>\n",
       "\"\"\"\n",
       "                            OLS Regression Results                            \n",
       "==============================================================================\n",
       "Dep. Variable:              price_log   R-squared:                       0.737\n",
       "Model:                            OLS   Adj. R-squared:                  0.724\n",
       "Method:                 Least Squares   F-statistic:                     58.02\n",
       "Date:                Thu, 21 Feb 2019   Prob (F-statistic):               0.00\n",
       "Time:                        16:45:54   Log-Likelihood:                -1297.4\n",
       "No. Observations:                6343   AIC:                             3181.\n",
       "Df Residuals:                    6050   BIC:                             5160.\n",
       "Df Model:                         292                                         \n",
       "Covariance Type:            nonrobust                                         \n",
       "==============================================================================\n",
       "                 coef    std err          t      P>|t|      [0.025      0.975]\n",
       "------------------------------------------------------------------------------\n",
       "const          4.8031      0.004   1258.381      0.000       4.796       4.811\n",
       "x1            -0.0021      0.005     -0.404      0.686      -0.012       0.008\n",
       "x2             0.0124      0.007      1.800      0.072      -0.001       0.026\n",
       "x3             0.0184      0.006      3.217      0.001       0.007       0.030\n",
       "x4             0.1394      0.009     15.949      0.000       0.122       0.156\n",
       "x5            -0.0075      0.005     -1.568      0.117      -0.017       0.002\n",
       "x6             0.0903      0.007     12.701      0.000       0.076       0.104\n",
       "x7            -0.0137      0.008     -1.823      0.068      -0.028       0.001\n",
       "x8            -0.0015      0.004     -0.359      0.720      -0.010       0.007\n",
       "x9             0.0456      0.006      8.208      0.000       0.035       0.057\n",
       "x10            0.0371      0.005      7.146      0.000       0.027       0.047\n",
       "x11           -0.0087      0.005     -1.892      0.058      -0.018       0.000\n",
       "x12           -0.0098      0.007     -1.396      0.163      -0.024       0.004\n",
       "x13           -0.0171      0.007     -2.489      0.013      -0.031      -0.004\n",
       "x14            0.0238      0.008      3.025      0.002       0.008       0.039\n",
       "x15            0.0082      0.006      1.301      0.193      -0.004       0.021\n",
       "x16            0.0388      0.006      6.962      0.000       0.028       0.050\n",
       "x17           -0.0164      0.006     -2.880      0.004      -0.028      -0.005\n",
       "x18           -0.0027      0.006     -0.434      0.664      -0.015       0.009\n",
       "x19            0.0257      0.005      4.773      0.000       0.015       0.036\n",
       "x20           -0.0319      0.006     -5.063      0.000      -0.044      -0.020\n",
       "x21           -0.0544      0.006     -8.962      0.000      -0.066      -0.042\n",
       "x22           -0.0324      0.007     -4.850      0.000      -0.046      -0.019\n",
       "x23            0.0060      0.006      0.964      0.335      -0.006       0.018\n",
       "x24           -0.0036      0.004     -1.028      0.304      -0.011       0.003\n",
       "x25           -0.0079      0.003     -2.720      0.007      -0.014      -0.002\n",
       "x26            0.0080      0.003      2.979      0.003       0.003       0.013\n",
       "x27           -0.0306      0.005     -6.700      0.000      -0.040      -0.022\n",
       "x28            0.0052      0.004      1.260      0.208      -0.003       0.013\n",
       "x29           -0.0142      0.005     -3.116      0.002      -0.023      -0.005\n",
       "x30            0.0090      0.004      2.304      0.021       0.001       0.017\n",
       "x31           -0.0139      0.005     -2.768      0.006      -0.024      -0.004\n",
       "x32           -0.0116      0.004     -2.794      0.005      -0.020      -0.003\n",
       "x33           -0.0126      0.004     -3.139      0.002      -0.021      -0.005\n",
       "x34           -0.0076      0.004     -1.924      0.054      -0.015       0.000\n",
       "x35           -0.0079      0.004     -2.035      0.042      -0.016      -0.000\n",
       "x36           -0.0098      0.004     -2.247      0.025      -0.018      -0.001\n",
       "x37            0.0024      0.004      0.599      0.549      -0.005       0.010\n",
       "x38            0.0062      0.005      1.204      0.229      -0.004       0.016\n",
       "x39           -0.0100      0.004     -2.425      0.015      -0.018      -0.002\n",
       "x40           -0.0161      0.006     -2.667      0.008      -0.028      -0.004\n",
       "x41           -0.0074      0.004     -1.682      0.093      -0.016       0.001\n",
       "x42           -0.0029      0.004     -0.743      0.458      -0.011       0.005\n",
       "x43           -0.0023      0.004     -0.578      0.563      -0.010       0.005\n",
       "x44            0.0378      0.005      7.473      0.000       0.028       0.048\n",
       "x45           -0.0121      0.004     -2.885      0.004      -0.020      -0.004\n",
       "x46            0.0101      0.004      2.523      0.012       0.002       0.018\n",
       "x47           -0.0080      0.005     -1.598      0.110      -0.018       0.002\n",
       "x48            0.0009      0.005      0.197      0.844      -0.008       0.010\n",
       "x49           -0.0173      0.005     -3.202      0.001      -0.028      -0.007\n",
       "x50            0.0065      0.004      1.608      0.108      -0.001       0.015\n",
       "x51        -7.121e-18    6.4e-18     -1.113      0.266   -1.97e-17    5.42e-18\n",
       "x52           -0.0127      0.004     -3.131      0.002      -0.021      -0.005\n",
       "x53           -0.0086      0.004     -2.021      0.043      -0.017      -0.000\n",
       "x54           -0.0083      0.004     -2.205      0.027      -0.016      -0.001\n",
       "x55            0.0040      0.004      1.028      0.304      -0.004       0.012\n",
       "x56           -0.0090      0.004     -2.257      0.024      -0.017      -0.001\n",
       "x57           -0.0067      0.004     -1.668      0.095      -0.015       0.001\n",
       "x58            0.0147      0.006      2.401      0.016       0.003       0.027\n",
       "x59           -0.0033      0.004     -0.829      0.407      -0.011       0.005\n",
       "x60           -0.0043      0.004     -1.039      0.299      -0.012       0.004\n",
       "x61           -0.0029      0.004     -0.739      0.460      -0.011       0.005\n",
       "x62           -0.0124      0.004     -2.773      0.006      -0.021      -0.004\n",
       "x63           -0.0056      0.004     -1.417      0.157      -0.013       0.002\n",
       "x64           -0.0248      0.004     -5.703      0.000      -0.033      -0.016\n",
       "x65           -0.0091      0.004     -2.252      0.024      -0.017      -0.001\n",
       "x66           -0.0162      0.004     -4.032      0.000      -0.024      -0.008\n",
       "x67           -0.0035      0.005     -0.722      0.471      -0.013       0.006\n",
       "x68            0.0021      0.004      0.475      0.635      -0.006       0.011\n",
       "x69           -0.0076      0.004     -1.901      0.057      -0.015       0.000\n",
       "x70            0.0013      0.004      0.299      0.765      -0.007       0.010\n",
       "x71           -0.0072      0.004     -1.852      0.064      -0.015       0.000\n",
       "x72           -0.0137      0.004     -3.193      0.001      -0.022      -0.005\n",
       "x73           -0.0042      0.004     -1.069      0.285      -0.012       0.004\n",
       "x74            0.0011      0.004      0.255      0.799      -0.007       0.009\n",
       "x75           -0.0055      0.004     -1.306      0.192      -0.014       0.003\n",
       "x76            0.0065      0.004      1.602      0.109      -0.001       0.015\n",
       "x77           -0.0161      0.005     -3.279      0.001      -0.026      -0.006\n",
       "x78           -0.0081      0.005     -1.559      0.119      -0.018       0.002\n",
       "x79            0.0036      0.004      0.940      0.347      -0.004       0.011\n",
       "x80           -0.0116      0.004     -2.796      0.005      -0.020      -0.003\n",
       "x81           -0.0009      0.005     -0.196      0.845      -0.010       0.008\n",
       "x82            0.0308      0.005      6.411      0.000       0.021       0.040\n",
       "x83           -0.0151      0.004     -3.779      0.000      -0.023      -0.007\n",
       "x84           -0.0032      0.004     -0.829      0.407      -0.011       0.004\n",
       "x85           -0.0046      0.004     -1.187      0.235      -0.012       0.003\n",
       "x86           -0.0080      0.004     -2.054      0.040      -0.016      -0.000\n",
       "x87           -0.0038      0.004     -0.902      0.367      -0.012       0.004\n",
       "x88        -5.012e-18   7.25e-18     -0.692      0.489   -1.92e-17    9.19e-18\n",
       "x89           -0.0078      0.005     -1.703      0.089      -0.017       0.001\n",
       "x90            0.0075      0.005      1.627      0.104      -0.002       0.017\n",
       "x91           -0.0036      0.004     -0.844      0.399      -0.012       0.005\n",
       "x92           -0.0094      0.004     -2.189      0.029      -0.018      -0.001\n",
       "x93           -0.0112      0.004     -2.761      0.006      -0.019      -0.003\n",
       "x94           -0.0022      0.004     -0.554      0.580      -0.010       0.006\n",
       "x95           -0.0158      0.004     -3.901      0.000      -0.024      -0.008\n",
       "x96           -0.0037      0.004     -0.874      0.382      -0.012       0.005\n",
       "x97           -0.0035      0.004     -0.889      0.374      -0.011       0.004\n",
       "x98           -0.0046      0.004     -1.176      0.240      -0.012       0.003\n",
       "x99           -0.0072      0.004     -1.842      0.066      -0.015       0.000\n",
       "x100          -0.0141      0.005     -3.098      0.002      -0.023      -0.005\n",
       "x101          -0.0068      0.004     -1.749      0.080      -0.014       0.001\n",
       "x102          -0.0201      0.006     -3.552      0.000      -0.031      -0.009\n",
       "x103          -0.0047      0.004     -1.211      0.226      -0.012       0.003\n",
       "x104          -0.0061      0.004     -1.462      0.144      -0.014       0.002\n",
       "x105           0.0189      0.004      4.324      0.000       0.010       0.027\n",
       "x106          -0.0085      0.004     -1.926      0.054      -0.017       0.000\n",
       "x107          -0.0039      0.004     -0.893      0.372      -0.012       0.005\n",
       "x108          -0.0048      0.004     -1.242      0.214      -0.013       0.003\n",
       "x109          -0.0068      0.004     -1.581      0.114      -0.015       0.002\n",
       "x110          -0.0079      0.005     -1.668      0.095      -0.017       0.001\n",
       "x111          -0.0074      0.004     -1.849      0.064      -0.015       0.000\n",
       "x112          -0.0131      0.005     -2.874      0.004      -0.022      -0.004\n",
       "x113           0.0470      0.006      8.048      0.000       0.036       0.058\n",
       "x114          -0.0017      0.005     -0.354      0.723      -0.011       0.008\n",
       "x115           0.0027      0.004      0.691      0.490      -0.005       0.010\n",
       "x116          -0.0096      0.004     -2.251      0.024      -0.018      -0.001\n",
       "x117       -2.835e-17   5.53e-18     -5.129      0.000   -3.92e-17   -1.75e-17\n",
       "x118        9.283e-18   5.69e-18      1.630      0.103   -1.88e-18    2.04e-17\n",
       "x119           0.0055      0.004      1.248      0.212      -0.003       0.014\n",
       "x120           0.0307      0.005      6.439      0.000       0.021       0.040\n",
       "x121           0.0205      0.004      4.726      0.000       0.012       0.029\n",
       "x122          -0.0062      0.004     -1.566      0.117      -0.014       0.002\n",
       "x123          -0.0135      0.005     -2.887      0.004      -0.023      -0.004\n",
       "x124          -0.0082      0.004     -2.061      0.039      -0.016      -0.000\n",
       "x125          -0.0084      0.005     -1.731      0.084      -0.018       0.001\n",
       "x126          -0.0158      0.005     -3.354      0.001      -0.025      -0.007\n",
       "x127          -0.0172      0.004     -4.118      0.000      -0.025      -0.009\n",
       "x128          -0.0069      0.004     -1.666      0.096      -0.015       0.001\n",
       "x129          -0.0092      0.004     -2.093      0.036      -0.018      -0.001\n",
       "x130           0.0010      0.004      0.226      0.821      -0.007       0.009\n",
       "x131          -0.0032      0.005     -0.668      0.504      -0.012       0.006\n",
       "x132           0.0313      0.004      7.265      0.000       0.023       0.040\n",
       "x133           0.0427      0.004     11.969      0.000       0.036       0.050\n",
       "x134        1.641e-05      0.004      0.004      0.997      -0.009       0.009\n",
       "x135          -0.0122      0.005     -2.653      0.008      -0.021      -0.003\n",
       "x136          -0.0141      0.004     -3.268      0.001      -0.023      -0.006\n",
       "x137          -0.0081      0.004     -2.025      0.043      -0.016      -0.000\n",
       "x138          -0.0072      0.004     -1.846      0.065      -0.015       0.000\n",
       "x139          -0.0021      0.005     -0.445      0.657      -0.012       0.007\n",
       "x140          -0.0065      0.005     -1.250      0.212      -0.017       0.004\n",
       "x141          -0.0029      0.004     -0.641      0.522      -0.012       0.006\n",
       "x142          -0.0017      0.004     -0.422      0.673      -0.010       0.006\n",
       "x143           0.0233      0.004      5.248      0.000       0.015       0.032\n",
       "x144          -0.0153      0.005     -3.023      0.003      -0.025      -0.005\n",
       "x145           0.0009      0.004      0.243      0.808      -0.007       0.009\n",
       "x146           0.0013      0.004      0.333      0.740      -0.006       0.009\n",
       "x147          -0.0001      0.004     -0.024      0.981      -0.008       0.008\n",
       "x148           0.0004      0.004      0.087      0.931      -0.008       0.008\n",
       "x149          -0.0118      0.004     -2.972      0.003      -0.020      -0.004\n",
       "x150          -0.0152      0.005     -3.314      0.001      -0.024      -0.006\n",
       "x151          -0.0093      0.005     -1.882      0.060      -0.019       0.000\n",
       "x152          -0.0021      0.005     -0.441      0.659      -0.012       0.007\n",
       "x153           0.0246      0.004      5.832      0.000       0.016       0.033\n",
       "x154          -0.0022      0.004     -0.568      0.570      -0.010       0.005\n",
       "x155          -0.0439      0.003    -13.475      0.000      -0.050      -0.038\n",
       "x156           0.0024      0.004      0.590      0.555      -0.006       0.010\n",
       "x157          -0.0197      0.004     -5.305      0.000      -0.027      -0.012\n",
       "x158          -0.0156      0.005     -3.034      0.002      -0.026      -0.006\n",
       "x159          -0.0082      0.004     -2.027      0.043      -0.016      -0.000\n",
       "x160           0.0006      0.004      0.143      0.886      -0.007       0.008\n",
       "x161          -0.0010      0.004     -0.260      0.795      -0.009       0.007\n",
       "x162          -0.0092      0.004     -2.317      0.021      -0.017      -0.001\n",
       "x163          -0.0184      0.004     -4.451      0.000      -0.027      -0.010\n",
       "x164          -0.0041      0.005     -0.771      0.441      -0.014       0.006\n",
       "x165          -0.0071      0.004     -1.724      0.085      -0.015       0.001\n",
       "x166          -0.0168      0.005     -3.681      0.000      -0.026      -0.008\n",
       "x167          -0.0014      0.004     -0.359      0.719      -0.009       0.006\n",
       "x168          -0.0087      0.004     -1.953      0.051      -0.017    3.19e-05\n",
       "x169           0.0081      0.005      1.791      0.073      -0.001       0.017\n",
       "x170           0.0242      0.005      4.581      0.000       0.014       0.035\n",
       "x171          -0.0090      0.004     -2.485      0.013      -0.016      -0.002\n",
       "x172          -0.0164      0.006     -2.911      0.004      -0.028      -0.005\n",
       "x173          -0.0058      0.004     -1.447      0.148      -0.014       0.002\n",
       "x174          -0.0017      0.004     -0.404      0.686      -0.010       0.007\n",
       "x175          -0.0124      0.004     -3.012      0.003      -0.020      -0.004\n",
       "x176           0.0076      0.004      1.859      0.063      -0.000       0.016\n",
       "x177          -0.0072      0.004     -1.740      0.082      -0.015       0.001\n",
       "x178          -0.0091      0.004     -2.154      0.031      -0.017      -0.001\n",
       "x179          -0.0167      0.004     -3.858      0.000      -0.025      -0.008\n",
       "x180          -0.0109      0.004     -2.715      0.007      -0.019      -0.003\n",
       "x181          -0.0036      0.005     -0.730      0.465      -0.013       0.006\n",
       "x182          -0.0080      0.004     -1.925      0.054      -0.016       0.000\n",
       "x183          -0.0041      0.004     -1.037      0.300      -0.012       0.004\n",
       "x184          -0.0037      0.004     -0.942      0.346      -0.011       0.004\n",
       "x185          -0.0028      0.004     -0.653      0.514      -0.011       0.006\n",
       "x186           0.0342      0.005      6.615      0.000       0.024       0.044\n",
       "x187          -0.0026      0.004     -0.674      0.501      -0.010       0.005\n",
       "x188          -0.0018      0.004     -0.459      0.646      -0.010       0.006\n",
       "x189        5.521e-18      5e-18      1.104      0.270   -4.28e-18    1.53e-17\n",
       "x190           0.0038      0.008      0.454      0.649      -0.013       0.020\n",
       "x191           0.0009      0.004      0.246      0.806      -0.007       0.009\n",
       "x192        4.457e-05      0.004      0.012      0.991      -0.007       0.008\n",
       "x193          -0.0048      0.004     -1.235      0.217      -0.012       0.003\n",
       "x194           0.0059      0.005      1.223      0.221      -0.004       0.015\n",
       "x195          -0.0009      0.004     -0.241      0.810      -0.009       0.007\n",
       "x196           0.0060      0.004      1.464      0.143      -0.002       0.014\n",
       "x197        3.357e-18   4.89e-18      0.687      0.492   -6.23e-18    1.29e-17\n",
       "x198          -0.0175      0.016     -1.079      0.281      -0.049       0.014\n",
       "x199       -7.501e-05      0.005     -0.015      0.988      -0.010       0.010\n",
       "x200           0.0021      0.004      0.522      0.601      -0.006       0.010\n",
       "x201           0.0386      0.012      3.249      0.001       0.015       0.062\n",
       "x202          -0.0035      0.004     -0.905      0.365      -0.011       0.004\n",
       "x203           0.0014      0.004      0.354      0.723      -0.006       0.009\n",
       "x204          -0.0094      0.004     -2.427      0.015      -0.017      -0.002\n",
       "x205        -1.34e-17   5.15e-18     -2.600      0.009   -2.35e-17    -3.3e-18\n",
       "x206           0.0019      0.004      0.492      0.623      -0.006       0.009\n",
       "x207          -0.0036      0.004     -0.894      0.371      -0.012       0.004\n",
       "x208           0.0207      0.004      5.049      0.000       0.013       0.029\n",
       "x209          -0.0159      0.003     -4.916      0.000      -0.022      -0.010\n",
       "x210          -0.0020      0.004     -0.510      0.610      -0.010       0.006\n",
       "x211           0.0031      0.004      0.750      0.454      -0.005       0.011\n",
       "x212           0.0042      0.004      0.949      0.343      -0.005       0.013\n",
       "x213           0.0120      0.005      2.514      0.012       0.003       0.021\n",
       "x214          -0.0041      0.004     -1.055      0.291      -0.012       0.004\n",
       "x215          -0.0026      0.004     -0.644      0.520      -0.010       0.005\n",
       "x216           0.0004      0.004      0.113      0.910      -0.007       0.008\n",
       "x217          -0.0015      0.004     -0.371      0.711      -0.009       0.006\n",
       "x218          -0.0004      0.004     -0.102      0.919      -0.008       0.007\n",
       "x219           0.0086      0.004      2.068      0.039       0.000       0.017\n",
       "x220           0.0115      0.004      3.060      0.002       0.004       0.019\n",
       "x221           0.0005      0.004      0.114      0.909      -0.007       0.008\n",
       "x222          -0.0148      0.004     -3.658      0.000      -0.023      -0.007\n",
       "x223           0.0052      0.004      1.290      0.197      -0.003       0.013\n",
       "x224          -0.0032      0.004     -0.746      0.456      -0.012       0.005\n",
       "x225           0.0202      0.004      4.580      0.000       0.012       0.029\n",
       "x226           0.0029      0.003      0.867      0.386      -0.004       0.010\n",
       "x227          -0.0071      0.004     -1.848      0.065      -0.015       0.000\n",
       "x228          -0.0002      0.004     -0.047      0.963      -0.008       0.007\n",
       "x229           0.0114      0.004      2.789      0.005       0.003       0.019\n",
       "x230           0.0047      0.004      1.182      0.237      -0.003       0.013\n",
       "x231           0.0164      0.004      4.161      0.000       0.009       0.024\n",
       "x232           0.0050      0.004      1.215      0.224      -0.003       0.013\n",
       "x233       -8.919e-05      0.004     -0.023      0.982      -0.008       0.008\n",
       "x234          -0.0004      0.004     -0.092      0.927      -0.008       0.007\n",
       "x235        4.797e-19   4.34e-18      0.111      0.912   -8.02e-18    8.98e-18\n",
       "x236          -0.0019      0.004     -0.468      0.640      -0.010       0.006\n",
       "x237        1.787e-18   5.12e-18      0.349      0.727   -8.26e-18    1.18e-17\n",
       "x238           0.1795      0.006     28.489      0.000       0.167       0.192\n",
       "x239          -0.0497      0.004    -11.238      0.000      -0.058      -0.041\n",
       "x240          -0.0020      0.004     -0.557      0.577      -0.009       0.005\n",
       "x241           0.0008      0.004      0.216      0.829      -0.007       0.008\n",
       "x242          -0.0027      0.003     -0.853      0.394      -0.009       0.003\n",
       "x243          -0.0066      0.004     -1.872      0.061      -0.013       0.000\n",
       "x244           0.0059      0.002      2.991      0.003       0.002       0.010\n",
       "x245          -0.0098      0.007     -1.404      0.160      -0.023       0.004\n",
       "x246           0.0089      0.004      2.007      0.045       0.000       0.018\n",
       "x247       -5.485e-18   3.65e-18     -1.504      0.133   -1.26e-17    1.66e-18\n",
       "x248          -0.0020      0.003     -0.629      0.529      -0.008       0.004\n",
       "x249           0.0035      0.003      1.330      0.184      -0.002       0.009\n",
       "x250           0.0073      0.004      1.882      0.060      -0.000       0.015\n",
       "x251          -0.0025      0.003     -0.942      0.346      -0.008       0.003\n",
       "x252           0.0027      0.004      0.671      0.502      -0.005       0.011\n",
       "x253        7.766e-18   3.27e-18      2.372      0.018    1.35e-18    1.42e-17\n",
       "x254          -0.0206      0.006     -3.265      0.001      -0.033      -0.008\n",
       "x255           0.0141      0.006      2.215      0.027       0.002       0.027\n",
       "x256          -0.0283      0.003    -10.908      0.000      -0.033      -0.023\n",
       "x257          -0.0089      0.005     -1.856      0.064      -0.018       0.000\n",
       "x258           0.0189      0.005      3.700      0.000       0.009       0.029\n",
       "x259           0.0057      0.005      1.181      0.238      -0.004       0.015\n",
       "x260           0.0048      0.004      1.092      0.275      -0.004       0.013\n",
       "x261           0.0080      0.007      1.073      0.283      -0.007       0.023\n",
       "x262           0.0008      0.004      0.186      0.852      -0.007       0.009\n",
       "x263           0.0215      0.005      4.583      0.000       0.012       0.031\n",
       "x264          -0.0037      0.005     -0.762      0.446      -0.013       0.006\n",
       "x265           0.0188      0.008      2.387      0.017       0.003       0.034\n",
       "x266           0.0070      0.011      0.660      0.509      -0.014       0.028\n",
       "x267          -0.0011      0.011     -0.097      0.923      -0.023       0.021\n",
       "x268           0.0177      0.007      2.678      0.007       0.005       0.031\n",
       "x269          -0.0035      0.005     -0.765      0.444      -0.013       0.005\n",
       "x270           0.0445      0.005      8.213      0.000       0.034       0.055\n",
       "x271          -0.0120      0.004     -2.690      0.007      -0.021      -0.003\n",
       "x272          -0.0074      0.007     -1.069      0.285      -0.021       0.006\n",
       "x273           0.0110      0.005      2.201      0.028       0.001       0.021\n",
       "x274          -0.0020      0.005     -0.415      0.678      -0.011       0.007\n",
       "x275          -0.0069      0.005     -1.463      0.144      -0.016       0.002\n",
       "x276           0.0123      0.005      2.484      0.013       0.003       0.022\n",
       "x277           0.0104      0.005      1.977      0.048    8.75e-05       0.021\n",
       "x278          -0.0148      0.006     -2.647      0.008      -0.026      -0.004\n",
       "x279           0.0143      0.005      2.734      0.006       0.004       0.025\n",
       "x280          -0.0066      0.005     -1.258      0.208      -0.017       0.004\n",
       "x281          -0.0004      0.004     -0.105      0.917      -0.009       0.008\n",
       "x282          -0.0060      0.005     -1.293      0.196      -0.015       0.003\n",
       "x283          -0.0132      0.006     -2.303      0.021      -0.025      -0.002\n",
       "x284           0.0158      0.004      3.731      0.000       0.007       0.024\n",
       "x285           0.0159      0.005      3.107      0.002       0.006       0.026\n",
       "x286          -0.0026      0.005     -0.491      0.624      -0.013       0.008\n",
       "x287          -0.0063      0.006     -1.016      0.310      -0.019       0.006\n",
       "x288          -0.0083      0.005     -1.685      0.092      -0.018       0.001\n",
       "x289           0.0021      0.005      0.435      0.664      -0.007       0.012\n",
       "x290          -0.0167      0.005     -3.559      0.000      -0.026      -0.008\n",
       "x291           0.0010      0.007      0.153      0.878      -0.012       0.014\n",
       "x292          -0.0180      0.005     -3.715      0.000      -0.028      -0.009\n",
       "x293           0.0190      0.005      3.884      0.000       0.009       0.029\n",
       "x294          -0.0127      0.009     -1.418      0.156      -0.030       0.005\n",
       "x295          -0.0189      0.009     -1.992      0.046      -0.038      -0.000\n",
       "x296           0.0070      0.005      1.350      0.177      -0.003       0.017\n",
       "x297          -0.0051      0.004     -1.243      0.214      -0.013       0.003\n",
       "x298           0.0035      0.004      0.834      0.404      -0.005       0.012\n",
       "x299           0.0097      0.005      2.107      0.035       0.001       0.019\n",
       "x300           0.0190      0.004      4.580      0.000       0.011       0.027\n",
       "x301           0.0180      0.004      4.108      0.000       0.009       0.027\n",
       "x302          -0.0066      0.008     -0.855      0.393      -0.022       0.009\n",
       "x303           0.0343      0.005      7.315      0.000       0.025       0.044\n",
       "x304          -0.0137      0.005     -2.923      0.003      -0.023      -0.005\n",
       "x305           0.0014      0.005      0.301      0.763      -0.008       0.011\n",
       "x306          -0.0072      0.005     -1.566      0.117      -0.016       0.002\n",
       "x307           0.0197      0.005      4.211      0.000       0.011       0.029\n",
       "x308          -0.0083      0.004     -1.926      0.054      -0.017       0.000\n",
       "x309          -0.0028      0.007     -0.423      0.672      -0.016       0.010\n",
       "x310          -0.0184      0.006     -2.937      0.003      -0.031      -0.006\n",
       "==============================================================================\n",
       "Omnibus:                      224.624   Durbin-Watson:                   1.980\n",
       "Prob(Omnibus):                  0.000   Jarque-Bera (JB):              577.029\n",
       "Skew:                           0.145   Prob(JB):                    5.01e-126\n",
       "Kurtosis:                       4.449   Cond. No.                     4.28e+16\n",
       "==============================================================================\n",
       "\n",
       "Warnings:\n",
       "[1] Standard Errors assume that the covariance matrix of the errors is correctly specified.\n",
       "[2] The smallest eigenvalue is 3.43e-29. This might indicate that there are\n",
       "strong multicollinearity problems or that the design matrix is singular.\n",
       "\"\"\""
      ]
     },
     "execution_count": 58,
     "metadata": {},
     "output_type": "execute_result"
    }
   ],
   "source": [
    "model = sm.OLS(y_train, sm.add_constant(X_train_trans))\n",
    "fit = model.fit()\n",
    "fit.summary()"
   ]
  },
  {
   "cell_type": "markdown",
   "metadata": {
    "ExecuteTime": {
     "end_time": "2019-02-22T00:09:03.613676Z",
     "start_time": "2019-02-22T00:09:03.555192Z"
    }
   },
   "source": [
    "## Tree Based Regression"
   ]
  },
  {
   "cell_type": "markdown",
   "metadata": {},
   "source": [
    "### Random Forest"
   ]
  },
  {
   "cell_type": "code",
   "execution_count": 59,
   "metadata": {
    "ExecuteTime": {
     "end_time": "2019-02-22T00:46:26.305850Z",
     "start_time": "2019-02-22T00:45:55.956143Z"
    }
   },
   "outputs": [
    {
     "name": "stdout",
     "output_type": "stream",
     "text": [
      "MSE train: 0.012, test: 0.082\n",
      "R^2 train: 0.965, test: 0.761\n"
     ]
    }
   ],
   "source": [
    "rf = RandomForestRegressor(n_estimators=500, \n",
    "                               criterion='mse', \n",
    "                               random_state=42, \n",
    "                               n_jobs=-1)\n",
    "rf.fit(X_train_trans, y_train)\n",
    "y_train_pred = rf.predict(X_train_trans)\n",
    "y_test_pred = rf.predict(X_test_trans)\n",
    "\n",
    "print('MSE train: %.3f, test: %.3f' % (\n",
    "        mean_squared_error(y_train, y_train_pred),\n",
    "        mean_squared_error(y_test, y_test_pred)))\n",
    "print('R^2 train: %.3f, test: %.3f' % (\n",
    "        r2_score(y_train, y_train_pred),\n",
    "        r2_score(y_test, y_test_pred)))"
   ]
  },
  {
   "cell_type": "markdown",
   "metadata": {
    "ExecuteTime": {
     "end_time": "2019-02-22T00:10:32.506451Z",
     "start_time": "2019-02-22T00:10:32.503109Z"
    }
   },
   "source": [
    "### Boosting Tree"
   ]
  },
  {
   "cell_type": "code",
   "execution_count": 60,
   "metadata": {
    "ExecuteTime": {
     "end_time": "2019-02-22T00:46:57.765420Z",
     "start_time": "2019-02-22T00:46:46.084912Z"
    }
   },
   "outputs": [
    {
     "data": {
      "text/plain": [
       "GradientBoostingRegressor(alpha=0.9, criterion='friedman_mse', init=None,\n",
       "             learning_rate=0.1, loss='ls', max_depth=5, max_features=None,\n",
       "             max_leaf_nodes=None, min_impurity_decrease=0.0,\n",
       "             min_impurity_split=None, min_samples_leaf=1,\n",
       "             min_samples_split=2, min_weight_fraction_leaf=0.0,\n",
       "             n_estimators=100, presort='auto', random_state=42,\n",
       "             subsample=1.0, verbose=0, warm_start=False)"
      ]
     },
     "execution_count": 60,
     "metadata": {},
     "output_type": "execute_result"
    }
   ],
   "source": [
    "gbr = GradientBoostingRegressor(random_state=42, max_depth=5)\n",
    "gbr.fit(X_train_trans, y_train)"
   ]
  },
  {
   "cell_type": "code",
   "execution_count": 61,
   "metadata": {
    "ExecuteTime": {
     "end_time": "2019-02-22T00:47:22.398154Z",
     "start_time": "2019-02-22T00:47:22.317981Z"
    }
   },
   "outputs": [
    {
     "name": "stdout",
     "output_type": "stream",
     "text": [
      "MSE train: 0.055, test: 0.083\n",
      "R^2 train: 0.835, test: 0.759\n"
     ]
    }
   ],
   "source": [
    "y_train_pred = gbr.predict(X_train_trans)\n",
    "y_test_pred = gbr.predict(X_test_trans)\n",
    "\n",
    "\n",
    "print('MSE train: %.3f, test: %.3f' % (\n",
    "        mean_squared_error(y_train, y_train_pred),\n",
    "        mean_squared_error(y_test, y_test_pred)))\n",
    "print('R^2 train: %.3f, test: %.3f' % (\n",
    "        r2_score(y_train, y_train_pred),\n",
    "        r2_score(y_test, y_test_pred)))"
   ]
  },
  {
   "cell_type": "markdown",
   "metadata": {
    "ExecuteTime": {
     "end_time": "2019-02-17T07:34:35.723451Z",
     "start_time": "2019-02-17T07:34:35.720778Z"
    }
   },
   "source": [
    "# Data Storage"
   ]
  },
  {
   "cell_type": "code",
   "execution_count": 71,
   "metadata": {
    "ExecuteTime": {
     "end_time": "2019-02-22T00:51:09.673933Z",
     "start_time": "2019-02-22T00:51:09.479071Z"
    }
   },
   "outputs": [
    {
     "name": "stdout",
     "output_type": "stream",
     "text": [
      "df_listings_selected_features dimensions:  (9062, 315)\n"
     ]
    },
    {
     "data": {
      "text/html": [
       "<div>\n",
       "<style scoped>\n",
       "    .dataframe tbody tr th:only-of-type {\n",
       "        vertical-align: middle;\n",
       "    }\n",
       "\n",
       "    .dataframe tbody tr th {\n",
       "        vertical-align: top;\n",
       "    }\n",
       "\n",
       "    .dataframe thead th {\n",
       "        text-align: right;\n",
       "    }\n",
       "</style>\n",
       "<table border=\"1\" class=\"dataframe\">\n",
       "  <thead>\n",
       "    <tr style=\"text-align: right;\">\n",
       "      <th></th>\n",
       "      <th>id</th>\n",
       "      <th>host_yrs</th>\n",
       "      <th>host_response_rate</th>\n",
       "      <th>host_listings_count</th>\n",
       "      <th>accommodates</th>\n",
       "      <th>bathrooms</th>\n",
       "      <th>bedrooms</th>\n",
       "      <th>beds</th>\n",
       "      <th>price</th>\n",
       "      <th>security_deposit</th>\n",
       "      <th>...</th>\n",
       "      <th>amenities_Shampoo</th>\n",
       "      <th>amenities_Single level home</th>\n",
       "      <th>amenities_Smoke detector</th>\n",
       "      <th>amenities_Stepfree access</th>\n",
       "      <th>amenities_TV</th>\n",
       "      <th>amenities_Wifi</th>\n",
       "      <th>amenities_translation missing enhosting_amenity_49</th>\n",
       "      <th>amenities_translation missing enhosting_amenity_50</th>\n",
       "      <th>ref_district</th>\n",
       "      <th>ref_jurisdiction</th>\n",
       "    </tr>\n",
       "  </thead>\n",
       "  <tbody>\n",
       "    <tr>\n",
       "      <th>0</th>\n",
       "      <td>958</td>\n",
       "      <td>12</td>\n",
       "      <td>0.92</td>\n",
       "      <td>1</td>\n",
       "      <td>3</td>\n",
       "      <td>1.0</td>\n",
       "      <td>1.0</td>\n",
       "      <td>2.0</td>\n",
       "      <td>170.0</td>\n",
       "      <td>1</td>\n",
       "      <td>...</td>\n",
       "      <td>1</td>\n",
       "      <td>0</td>\n",
       "      <td>1</td>\n",
       "      <td>0</td>\n",
       "      <td>1</td>\n",
       "      <td>1</td>\n",
       "      <td>0</td>\n",
       "      <td>0</td>\n",
       "      <td>San Francisco</td>\n",
       "      <td>SAN FRANCISCO</td>\n",
       "    </tr>\n",
       "    <tr>\n",
       "      <th>1</th>\n",
       "      <td>5858</td>\n",
       "      <td>11</td>\n",
       "      <td>1.00</td>\n",
       "      <td>2</td>\n",
       "      <td>5</td>\n",
       "      <td>1.0</td>\n",
       "      <td>2.0</td>\n",
       "      <td>3.0</td>\n",
       "      <td>235.0</td>\n",
       "      <td>1</td>\n",
       "      <td>...</td>\n",
       "      <td>1</td>\n",
       "      <td>0</td>\n",
       "      <td>1</td>\n",
       "      <td>0</td>\n",
       "      <td>0</td>\n",
       "      <td>1</td>\n",
       "      <td>0</td>\n",
       "      <td>0</td>\n",
       "      <td>San Francisco</td>\n",
       "      <td>SAN FRANCISCO</td>\n",
       "    </tr>\n",
       "    <tr>\n",
       "      <th>2</th>\n",
       "      <td>7918</td>\n",
       "      <td>11</td>\n",
       "      <td>1.00</td>\n",
       "      <td>10</td>\n",
       "      <td>2</td>\n",
       "      <td>4.0</td>\n",
       "      <td>1.0</td>\n",
       "      <td>1.0</td>\n",
       "      <td>65.0</td>\n",
       "      <td>1</td>\n",
       "      <td>...</td>\n",
       "      <td>0</td>\n",
       "      <td>0</td>\n",
       "      <td>1</td>\n",
       "      <td>0</td>\n",
       "      <td>1</td>\n",
       "      <td>1</td>\n",
       "      <td>1</td>\n",
       "      <td>1</td>\n",
       "      <td>San Francisco</td>\n",
       "      <td>SAN FRANCISCO</td>\n",
       "    </tr>\n",
       "    <tr>\n",
       "      <th>3</th>\n",
       "      <td>8142</td>\n",
       "      <td>11</td>\n",
       "      <td>1.00</td>\n",
       "      <td>10</td>\n",
       "      <td>2</td>\n",
       "      <td>4.0</td>\n",
       "      <td>1.0</td>\n",
       "      <td>1.0</td>\n",
       "      <td>65.0</td>\n",
       "      <td>1</td>\n",
       "      <td>...</td>\n",
       "      <td>0</td>\n",
       "      <td>0</td>\n",
       "      <td>1</td>\n",
       "      <td>0</td>\n",
       "      <td>1</td>\n",
       "      <td>1</td>\n",
       "      <td>0</td>\n",
       "      <td>0</td>\n",
       "      <td>San Francisco</td>\n",
       "      <td>SAN FRANCISCO</td>\n",
       "    </tr>\n",
       "    <tr>\n",
       "      <th>4</th>\n",
       "      <td>8567</td>\n",
       "      <td>11</td>\n",
       "      <td>0.80</td>\n",
       "      <td>1</td>\n",
       "      <td>6</td>\n",
       "      <td>1.0</td>\n",
       "      <td>2.0</td>\n",
       "      <td>3.0</td>\n",
       "      <td>255.0</td>\n",
       "      <td>0</td>\n",
       "      <td>...</td>\n",
       "      <td>1</td>\n",
       "      <td>0</td>\n",
       "      <td>1</td>\n",
       "      <td>0</td>\n",
       "      <td>1</td>\n",
       "      <td>1</td>\n",
       "      <td>0</td>\n",
       "      <td>0</td>\n",
       "      <td>San Francisco</td>\n",
       "      <td>SAN FRANCISCO</td>\n",
       "    </tr>\n",
       "  </tbody>\n",
       "</table>\n",
       "<p>5 rows × 315 columns</p>\n",
       "</div>"
      ],
      "text/plain": [
       "     id  host_yrs  host_response_rate  host_listings_count  accommodates  \\\n",
       "0   958        12                0.92                    1             3   \n",
       "1  5858        11                1.00                    2             5   \n",
       "2  7918        11                1.00                   10             2   \n",
       "3  8142        11                1.00                   10             2   \n",
       "4  8567        11                0.80                    1             6   \n",
       "\n",
       "   bathrooms  bedrooms  beds  price  security_deposit        ...         \\\n",
       "0        1.0       1.0   2.0  170.0                 1        ...          \n",
       "1        1.0       2.0   3.0  235.0                 1        ...          \n",
       "2        4.0       1.0   1.0   65.0                 1        ...          \n",
       "3        4.0       1.0   1.0   65.0                 1        ...          \n",
       "4        1.0       2.0   3.0  255.0                 0        ...          \n",
       "\n",
       "   amenities_Shampoo  amenities_Single level home  amenities_Smoke detector  \\\n",
       "0                  1                            0                         1   \n",
       "1                  1                            0                         1   \n",
       "2                  0                            0                         1   \n",
       "3                  0                            0                         1   \n",
       "4                  1                            0                         1   \n",
       "\n",
       "   amenities_Stepfree access  amenities_TV  amenities_Wifi  \\\n",
       "0                          0             1               1   \n",
       "1                          0             0               1   \n",
       "2                          0             1               1   \n",
       "3                          0             1               1   \n",
       "4                          0             1               1   \n",
       "\n",
       "   amenities_translation missing enhosting_amenity_49  \\\n",
       "0                                                  0    \n",
       "1                                                  0    \n",
       "2                                                  1    \n",
       "3                                                  0    \n",
       "4                                                  0    \n",
       "\n",
       "   amenities_translation missing enhosting_amenity_50   ref_district  \\\n",
       "0                                                  0   San Francisco   \n",
       "1                                                  0   San Francisco   \n",
       "2                                                  1   San Francisco   \n",
       "3                                                  0   San Francisco   \n",
       "4                                                  0   San Francisco   \n",
       "\n",
       "   ref_jurisdiction  \n",
       "0     SAN FRANCISCO  \n",
       "1     SAN FRANCISCO  \n",
       "2     SAN FRANCISCO  \n",
       "3     SAN FRANCISCO  \n",
       "4     SAN FRANCISCO  \n",
       "\n",
       "[5 rows x 315 columns]"
      ]
     },
     "metadata": {},
     "output_type": "display_data"
    }
   ],
   "source": [
    "# Added District and jurisdiction informaiton for future use\n",
    "\n",
    "df_data = pd.merge(left=df_model, right=df_district, \n",
    "                    how ='left', left_on='id', right_on='id')\n",
    "\n",
    "\n",
    "df_data = pd.merge(left=df_data, right=df_jurisdiction, \n",
    "                   how ='left', left_on='id', right_on='id')\n",
    "\n",
    "\n",
    "# Renamed columns used for furture reference\n",
    "\n",
    "df_data.rename(columns={'district':'ref_district',\n",
    "                        'jurisdiction_names': 'ref_jurisdiction'},\n",
    "                        inplace=True)\n",
    "\n",
    "print('df_data dimensions: ',  df_data.shape)\n",
    "display(df_data.head())"
   ]
  },
  {
   "cell_type": "code",
   "execution_count": 72,
   "metadata": {
    "ExecuteTime": {
     "end_time": "2019-02-22T00:51:42.242753Z",
     "start_time": "2019-02-22T00:51:42.238539Z"
    }
   },
   "outputs": [],
   "source": [
    "# Checked for null values before data storage\n",
    "\n",
    "# df_data.isnull().sum()"
   ]
  },
  {
   "cell_type": "code",
   "execution_count": 73,
   "metadata": {
    "ExecuteTime": {
     "end_time": "2019-02-22T00:52:09.580121Z",
     "start_time": "2019-02-22T00:52:09.536577Z"
    }
   },
   "outputs": [],
   "source": [
    "# Stored data post feature selection\n",
    "\n",
    "pkl_file = '/Users/xzhou/github/project_archives/files_airbnb/{}.pkl'\n",
    "\n",
    "pkl_path = pkl_file.format('df_data')\n",
    "\n",
    "df_data.to_pickle(pkl_path)"
   ]
  }
 ],
 "metadata": {
  "kernelspec": {
   "display_name": "Python 3",
   "language": "python",
   "name": "python3"
  },
  "language_info": {
   "codemirror_mode": {
    "name": "ipython",
    "version": 3
   },
   "file_extension": ".py",
   "mimetype": "text/x-python",
   "name": "python",
   "nbconvert_exporter": "python",
   "pygments_lexer": "ipython3",
   "version": "3.6.8"
  },
  "toc": {
   "base_numbering": 1,
   "nav_menu": {},
   "number_sections": true,
   "sideBar": true,
   "skip_h1_title": false,
   "title_cell": "Table of Contents",
   "title_sidebar": "Contents",
   "toc_cell": false,
   "toc_position": {
    "height": "946px",
    "left": "568px",
    "top": "199px",
    "width": "386px"
   },
   "toc_section_display": true,
   "toc_window_display": true
  },
  "varInspector": {
   "cols": {
    "lenName": 16,
    "lenType": 16,
    "lenVar": 40
   },
   "kernels_config": {
    "python": {
     "delete_cmd_postfix": "",
     "delete_cmd_prefix": "del ",
     "library": "var_list.py",
     "varRefreshCmd": "print(var_dic_list())"
    },
    "r": {
     "delete_cmd_postfix": ") ",
     "delete_cmd_prefix": "rm(",
     "library": "var_list.r",
     "varRefreshCmd": "cat(var_dic_list()) "
    }
   },
   "types_to_exclude": [
    "module",
    "function",
    "builtin_function_or_method",
    "instance",
    "_Feature"
   ],
   "window_display": false
  }
 },
 "nbformat": 4,
 "nbformat_minor": 2
}
