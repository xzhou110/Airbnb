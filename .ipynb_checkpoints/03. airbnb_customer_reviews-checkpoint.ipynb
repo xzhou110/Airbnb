{
 "cells": [
  {
   "cell_type": "markdown",
   "metadata": {
    "ExecuteTime": {
     "end_time": "2019-02-19T01:06:33.354803Z",
     "start_time": "2019-02-19T01:06:33.350458Z"
    }
   },
   "source": [
    "# Data Retrieval"
   ]
  },
  {
   "cell_type": "code",
   "execution_count": 19,
   "metadata": {
    "ExecuteTime": {
     "end_time": "2019-02-19T05:04:50.509469Z",
     "start_time": "2019-02-19T05:04:50.505627Z"
    }
   },
   "outputs": [],
   "source": [
    "#ignore warnings\n",
    "import warnings\n",
    "warnings.filterwarnings('ignore')"
   ]
  },
  {
   "cell_type": "code",
   "execution_count": 1,
   "metadata": {
    "ExecuteTime": {
     "end_time": "2019-02-19T05:03:39.077767Z",
     "start_time": "2019-02-19T05:03:31.518088Z"
    }
   },
   "outputs": [
    {
     "name": "stdout",
     "output_type": "stream",
     "text": [
      "[nltk_data] Downloading package wordnet to /Users/xzhou/nltk_data...\n",
      "[nltk_data]   Package wordnet is already up-to-date!\n",
      "[nltk_data] Downloading package stopwords to /Users/xzhou/nltk_data...\n",
      "[nltk_data]   Package stopwords is already up-to-date!\n"
     ]
    }
   ],
   "source": [
    "import pandas as pd\n",
    "import csv\n",
    "import statsmodels.api as sm\n",
    "from datetime import datetime\n",
    "import matplotlib.pyplot as plt\n",
    "import numpy as np\n",
    "import json\n",
    "import pandas as pd\n",
    "import itertools\n",
    "import csv\n",
    "import string\n",
    "import pickle\n",
    "import matplotlib.pyplot as plt\n",
    "\n",
    "from collections import Counter\n",
    "import re\n",
    "import spacy\n",
    "import nltk\n",
    "from spacy.lang.en import English\n",
    "from nltk.util import ngrams\n",
    "from nltk.corpus import wordnet as wn\n",
    "from nltk.corpus import stopwords\n",
    "from nltk.stem.wordnet import WordNetLemmatizer\n",
    "from nltk.tokenize import word_tokenize\n",
    "from nltk.tokenize import RegexpTokenizer\n",
    "from wordcloud import WordCloud\n",
    "import gensim\n",
    "from gensim import corpora\n",
    "from gensim.models.ldamodel import LdaModel\n",
    "nltk.download('wordnet')\n",
    "nltk.download('stopwords')\n",
    "\n",
    "from sklearn import datasets, linear_model\n",
    "from sklearn.metrics import mean_squared_error, r2_score\n",
    "from sklearn.preprocessing import StandardScaler\n",
    "from sklearn.model_selection import train_test_split\n",
    "from sklearn.cluster import KMeans\n",
    "from sklearn.feature_extraction.text import CountVectorizer, TfidfVectorizer\n",
    "from sklearn.decomposition import NMF, TruncatedSVD\n",
    "from sklearn.decomposition import PCA\n",
    "from sklearn.model_selection import train_test_split\n",
    "from sklearn.metrics import silhouette_score"
   ]
  },
  {
   "cell_type": "code",
   "execution_count": 30,
   "metadata": {
    "ExecuteTime": {
     "end_time": "2019-02-19T05:07:41.449319Z",
     "start_time": "2019-02-19T05:07:41.445285Z"
    }
   },
   "outputs": [],
   "source": [
    "# Use seaborn style for plotting\n",
    "\n",
    "plt.style.use('seaborn')"
   ]
  },
  {
   "cell_type": "code",
   "execution_count": 2,
   "metadata": {
    "ExecuteTime": {
     "end_time": "2019-02-19T05:03:41.052294Z",
     "start_time": "2019-02-19T05:03:41.048429Z"
    }
   },
   "outputs": [],
   "source": [
    "# File path for cities: San Francisco(sf), Okaland(ok), and Santa Clara(sc)\n",
    "\n",
    "file_url = '/Users/xzhou/github/project_archives/files_airbnb/{}.csv'\n",
    "\n",
    "sf_file = file_url.format('sf_airbnb/reviews')\n",
    "ok_file = file_url.format('ok_airbnb/reviews')\n",
    "sc_file = file_url.format('sc_airbnb/reviews')"
   ]
  },
  {
   "cell_type": "code",
   "execution_count": 3,
   "metadata": {
    "ExecuteTime": {
     "end_time": "2019-02-19T05:03:43.484323Z",
     "start_time": "2019-02-19T05:03:41.100562Z"
    }
   },
   "outputs": [],
   "source": [
    "# Loaded review information for each city\n",
    "\n",
    "reviews_sf = pd.read_csv(sf_file)\n",
    "reviews_ok = pd.read_csv(ok_file)\n",
    "reviews_sc = pd.read_csv(sc_file)"
   ]
  },
  {
   "cell_type": "code",
   "execution_count": 4,
   "metadata": {
    "ExecuteTime": {
     "end_time": "2019-02-19T05:03:43.724878Z",
     "start_time": "2019-02-19T05:03:43.719663Z"
    }
   },
   "outputs": [
    {
     "name": "stdout",
     "output_type": "stream",
     "text": [
      "(278884, 6) (78491, 6) (135238, 6)\n"
     ]
    }
   ],
   "source": [
    "print (reviews_sf.shape, reviews_ok.shape, reviews_sc.shape)"
   ]
  },
  {
   "cell_type": "code",
   "execution_count": 5,
   "metadata": {
    "ExecuteTime": {
     "end_time": "2019-02-19T05:03:44.180145Z",
     "start_time": "2019-02-19T05:03:43.987059Z"
    }
   },
   "outputs": [],
   "source": [
    "# Concatenated all files into one\n",
    "# Created keys for each file for future references\n",
    "\n",
    "frames = [reviews_sf, reviews_ok, reviews_sc]\n",
    "keys = ['reviews_sf', 'reviews_ok', 'reviews_sc']\n",
    "df_reviews = pd.concat(frames, keys=keys)"
   ]
  },
  {
   "cell_type": "code",
   "execution_count": 6,
   "metadata": {
    "ExecuteTime": {
     "end_time": "2019-02-19T05:03:44.710136Z",
     "start_time": "2019-02-19T05:03:44.687846Z"
    }
   },
   "outputs": [
    {
     "name": "stdout",
     "output_type": "stream",
     "text": [
      "df_reviews dimensions:  (492613, 6)\n"
     ]
    },
    {
     "data": {
      "text/html": [
       "<div>\n",
       "<style scoped>\n",
       "    .dataframe tbody tr th:only-of-type {\n",
       "        vertical-align: middle;\n",
       "    }\n",
       "\n",
       "    .dataframe tbody tr th {\n",
       "        vertical-align: top;\n",
       "    }\n",
       "\n",
       "    .dataframe thead th {\n",
       "        text-align: right;\n",
       "    }\n",
       "</style>\n",
       "<table border=\"1\" class=\"dataframe\">\n",
       "  <thead>\n",
       "    <tr style=\"text-align: right;\">\n",
       "      <th></th>\n",
       "      <th></th>\n",
       "      <th>listing_id</th>\n",
       "      <th>id</th>\n",
       "      <th>date</th>\n",
       "      <th>reviewer_id</th>\n",
       "      <th>reviewer_name</th>\n",
       "      <th>comments</th>\n",
       "    </tr>\n",
       "  </thead>\n",
       "  <tbody>\n",
       "    <tr>\n",
       "      <th rowspan=\"5\" valign=\"top\">reviews_sf</th>\n",
       "      <th>0</th>\n",
       "      <td>958</td>\n",
       "      <td>5977</td>\n",
       "      <td>2009-07-23</td>\n",
       "      <td>15695</td>\n",
       "      <td>Edmund C</td>\n",
       "      <td>Our experience was, without a doubt, a five st...</td>\n",
       "    </tr>\n",
       "    <tr>\n",
       "      <th>1</th>\n",
       "      <td>958</td>\n",
       "      <td>6660</td>\n",
       "      <td>2009-08-03</td>\n",
       "      <td>26145</td>\n",
       "      <td>Simon</td>\n",
       "      <td>Returning to San Francisco is a rejuvenating t...</td>\n",
       "    </tr>\n",
       "    <tr>\n",
       "      <th>2</th>\n",
       "      <td>958</td>\n",
       "      <td>11519</td>\n",
       "      <td>2009-09-27</td>\n",
       "      <td>25839</td>\n",
       "      <td>Denis</td>\n",
       "      <td>We were very pleased with the accommodations a...</td>\n",
       "    </tr>\n",
       "    <tr>\n",
       "      <th>3</th>\n",
       "      <td>958</td>\n",
       "      <td>16282</td>\n",
       "      <td>2009-11-05</td>\n",
       "      <td>33750</td>\n",
       "      <td>Anna</td>\n",
       "      <td>We highly recommend this accomodation and agre...</td>\n",
       "    </tr>\n",
       "    <tr>\n",
       "      <th>4</th>\n",
       "      <td>958</td>\n",
       "      <td>26008</td>\n",
       "      <td>2010-02-13</td>\n",
       "      <td>15416</td>\n",
       "      <td>Venetia</td>\n",
       "      <td>Holly's place was great. It was exactly what I...</td>\n",
       "    </tr>\n",
       "  </tbody>\n",
       "</table>\n",
       "</div>"
      ],
      "text/plain": [
       "              listing_id     id        date  reviewer_id reviewer_name  \\\n",
       "reviews_sf 0         958   5977  2009-07-23        15695      Edmund C   \n",
       "           1         958   6660  2009-08-03        26145         Simon   \n",
       "           2         958  11519  2009-09-27        25839         Denis   \n",
       "           3         958  16282  2009-11-05        33750          Anna   \n",
       "           4         958  26008  2010-02-13        15416       Venetia   \n",
       "\n",
       "                                                       comments  \n",
       "reviews_sf 0  Our experience was, without a doubt, a five st...  \n",
       "           1  Returning to San Francisco is a rejuvenating t...  \n",
       "           2  We were very pleased with the accommodations a...  \n",
       "           3  We highly recommend this accomodation and agre...  \n",
       "           4  Holly's place was great. It was exactly what I...  "
      ]
     },
     "execution_count": 6,
     "metadata": {},
     "output_type": "execute_result"
    }
   ],
   "source": [
    "print('df_reviews dimensions: ', df_reviews.shape )\n",
    "df_reviews.head()"
   ]
  },
  {
   "cell_type": "markdown",
   "metadata": {},
   "source": [
    "# Data Exploration"
   ]
  },
  {
   "cell_type": "markdown",
   "metadata": {},
   "source": [
    "## Smaller Set of Features"
   ]
  },
  {
   "cell_type": "code",
   "execution_count": 7,
   "metadata": {
    "ExecuteTime": {
     "end_time": "2019-02-19T05:03:45.225012Z",
     "start_time": "2019-02-19T05:03:45.217876Z"
    },
    "scrolled": true
   },
   "outputs": [
    {
     "data": {
      "text/plain": [
       "Index(['listing_id', 'id', 'date', 'reviewer_id', 'reviewer_name', 'comments'], dtype='object')"
      ]
     },
     "execution_count": 7,
     "metadata": {},
     "output_type": "execute_result"
    }
   ],
   "source": [
    "df_reviews.columns"
   ]
  },
  {
   "cell_type": "code",
   "execution_count": 8,
   "metadata": {
    "ExecuteTime": {
     "end_time": "2019-02-19T05:03:45.885081Z",
     "start_time": "2019-02-19T05:03:45.707653Z"
    }
   },
   "outputs": [],
   "source": [
    "# Kept only 'listing_id' and 'comments' for topic analysis\n",
    "\n",
    "columns_to_drop=['id', 'date', 'reviewer_id', 'reviewer_name']\n",
    "df_reviews.drop(columns_to_drop, axis=1, inplace=True)"
   ]
  },
  {
   "cell_type": "code",
   "execution_count": 9,
   "metadata": {
    "ExecuteTime": {
     "end_time": "2019-02-19T05:03:46.322760Z",
     "start_time": "2019-02-19T05:03:46.317572Z"
    }
   },
   "outputs": [
    {
     "data": {
      "text/plain": [
       "(492613, 2)"
      ]
     },
     "execution_count": 9,
     "metadata": {},
     "output_type": "execute_result"
    }
   ],
   "source": [
    "df_reviews.shape"
   ]
  },
  {
   "cell_type": "markdown",
   "metadata": {
    "ExecuteTime": {
     "end_time": "2019-02-19T01:19:28.728188Z",
     "start_time": "2019-02-19T01:19:28.725511Z"
    }
   },
   "source": [
    "## Add Review Rating Feature"
   ]
  },
  {
   "cell_type": "code",
   "execution_count": 10,
   "metadata": {
    "ExecuteTime": {
     "end_time": "2019-02-19T05:04:03.022187Z",
     "start_time": "2019-02-19T05:04:02.975619Z"
    }
   },
   "outputs": [
    {
     "name": "stdout",
     "output_type": "stream",
     "text": [
      "df_listings dimensions: : (9062, 314)\n"
     ]
    },
    {
     "data": {
      "text/html": [
       "<div>\n",
       "<style scoped>\n",
       "    .dataframe tbody tr th:only-of-type {\n",
       "        vertical-align: middle;\n",
       "    }\n",
       "\n",
       "    .dataframe tbody tr th {\n",
       "        vertical-align: top;\n",
       "    }\n",
       "\n",
       "    .dataframe thead th {\n",
       "        text-align: right;\n",
       "    }\n",
       "</style>\n",
       "<table border=\"1\" class=\"dataframe\">\n",
       "  <thead>\n",
       "    <tr style=\"text-align: right;\">\n",
       "      <th></th>\n",
       "      <th>id</th>\n",
       "      <th>host_yrs</th>\n",
       "      <th>host_response_rate</th>\n",
       "      <th>host_listings_count</th>\n",
       "      <th>accommodates</th>\n",
       "      <th>bathrooms</th>\n",
       "      <th>bedrooms</th>\n",
       "      <th>beds</th>\n",
       "      <th>price</th>\n",
       "      <th>security_deposit</th>\n",
       "      <th>...</th>\n",
       "      <th>amenities_Shampoo</th>\n",
       "      <th>amenities_Single level home</th>\n",
       "      <th>amenities_Smoke detector</th>\n",
       "      <th>amenities_Stepfree access</th>\n",
       "      <th>amenities_TV</th>\n",
       "      <th>amenities_Wifi</th>\n",
       "      <th>amenities_translation missing enhosting_amenity_49</th>\n",
       "      <th>amenities_translation missing enhosting_amenity_50</th>\n",
       "      <th>ref_district</th>\n",
       "      <th>ref_jurisdiction</th>\n",
       "    </tr>\n",
       "  </thead>\n",
       "  <tbody>\n",
       "    <tr>\n",
       "      <th>0</th>\n",
       "      <td>958</td>\n",
       "      <td>12</td>\n",
       "      <td>0.92</td>\n",
       "      <td>1</td>\n",
       "      <td>3</td>\n",
       "      <td>1.0</td>\n",
       "      <td>1.0</td>\n",
       "      <td>2.0</td>\n",
       "      <td>5.135798</td>\n",
       "      <td>1</td>\n",
       "      <td>...</td>\n",
       "      <td>1</td>\n",
       "      <td>0</td>\n",
       "      <td>1</td>\n",
       "      <td>0</td>\n",
       "      <td>1</td>\n",
       "      <td>1</td>\n",
       "      <td>0</td>\n",
       "      <td>0</td>\n",
       "      <td>San Francisco</td>\n",
       "      <td>SAN FRANCISCO</td>\n",
       "    </tr>\n",
       "    <tr>\n",
       "      <th>1</th>\n",
       "      <td>5858</td>\n",
       "      <td>11</td>\n",
       "      <td>1.00</td>\n",
       "      <td>2</td>\n",
       "      <td>5</td>\n",
       "      <td>1.0</td>\n",
       "      <td>2.0</td>\n",
       "      <td>3.0</td>\n",
       "      <td>5.459586</td>\n",
       "      <td>1</td>\n",
       "      <td>...</td>\n",
       "      <td>1</td>\n",
       "      <td>0</td>\n",
       "      <td>1</td>\n",
       "      <td>0</td>\n",
       "      <td>0</td>\n",
       "      <td>1</td>\n",
       "      <td>0</td>\n",
       "      <td>0</td>\n",
       "      <td>San Francisco</td>\n",
       "      <td>SAN FRANCISCO</td>\n",
       "    </tr>\n",
       "    <tr>\n",
       "      <th>2</th>\n",
       "      <td>7918</td>\n",
       "      <td>11</td>\n",
       "      <td>1.00</td>\n",
       "      <td>10</td>\n",
       "      <td>2</td>\n",
       "      <td>4.0</td>\n",
       "      <td>1.0</td>\n",
       "      <td>1.0</td>\n",
       "      <td>4.174387</td>\n",
       "      <td>1</td>\n",
       "      <td>...</td>\n",
       "      <td>0</td>\n",
       "      <td>0</td>\n",
       "      <td>1</td>\n",
       "      <td>0</td>\n",
       "      <td>1</td>\n",
       "      <td>1</td>\n",
       "      <td>1</td>\n",
       "      <td>1</td>\n",
       "      <td>San Francisco</td>\n",
       "      <td>SAN FRANCISCO</td>\n",
       "    </tr>\n",
       "    <tr>\n",
       "      <th>3</th>\n",
       "      <td>8142</td>\n",
       "      <td>11</td>\n",
       "      <td>1.00</td>\n",
       "      <td>10</td>\n",
       "      <td>2</td>\n",
       "      <td>4.0</td>\n",
       "      <td>1.0</td>\n",
       "      <td>1.0</td>\n",
       "      <td>4.174387</td>\n",
       "      <td>1</td>\n",
       "      <td>...</td>\n",
       "      <td>0</td>\n",
       "      <td>0</td>\n",
       "      <td>1</td>\n",
       "      <td>0</td>\n",
       "      <td>1</td>\n",
       "      <td>1</td>\n",
       "      <td>0</td>\n",
       "      <td>0</td>\n",
       "      <td>San Francisco</td>\n",
       "      <td>SAN FRANCISCO</td>\n",
       "    </tr>\n",
       "    <tr>\n",
       "      <th>4</th>\n",
       "      <td>8567</td>\n",
       "      <td>11</td>\n",
       "      <td>0.80</td>\n",
       "      <td>1</td>\n",
       "      <td>6</td>\n",
       "      <td>1.0</td>\n",
       "      <td>2.0</td>\n",
       "      <td>3.0</td>\n",
       "      <td>5.541264</td>\n",
       "      <td>0</td>\n",
       "      <td>...</td>\n",
       "      <td>1</td>\n",
       "      <td>0</td>\n",
       "      <td>1</td>\n",
       "      <td>0</td>\n",
       "      <td>1</td>\n",
       "      <td>1</td>\n",
       "      <td>0</td>\n",
       "      <td>0</td>\n",
       "      <td>San Francisco</td>\n",
       "      <td>SAN FRANCISCO</td>\n",
       "    </tr>\n",
       "  </tbody>\n",
       "</table>\n",
       "<p>5 rows × 314 columns</p>\n",
       "</div>"
      ],
      "text/plain": [
       "     id  host_yrs  host_response_rate  host_listings_count  accommodates  \\\n",
       "0   958        12                0.92                    1             3   \n",
       "1  5858        11                1.00                    2             5   \n",
       "2  7918        11                1.00                   10             2   \n",
       "3  8142        11                1.00                   10             2   \n",
       "4  8567        11                0.80                    1             6   \n",
       "\n",
       "   bathrooms  bedrooms  beds     price  security_deposit        ...         \\\n",
       "0        1.0       1.0   2.0  5.135798                 1        ...          \n",
       "1        1.0       2.0   3.0  5.459586                 1        ...          \n",
       "2        4.0       1.0   1.0  4.174387                 1        ...          \n",
       "3        4.0       1.0   1.0  4.174387                 1        ...          \n",
       "4        1.0       2.0   3.0  5.541264                 0        ...          \n",
       "\n",
       "   amenities_Shampoo  amenities_Single level home  amenities_Smoke detector  \\\n",
       "0                  1                            0                         1   \n",
       "1                  1                            0                         1   \n",
       "2                  0                            0                         1   \n",
       "3                  0                            0                         1   \n",
       "4                  1                            0                         1   \n",
       "\n",
       "   amenities_Stepfree access  amenities_TV  amenities_Wifi  \\\n",
       "0                          0             1               1   \n",
       "1                          0             0               1   \n",
       "2                          0             1               1   \n",
       "3                          0             1               1   \n",
       "4                          0             1               1   \n",
       "\n",
       "   amenities_translation missing enhosting_amenity_49  \\\n",
       "0                                                  0    \n",
       "1                                                  0    \n",
       "2                                                  1    \n",
       "3                                                  0    \n",
       "4                                                  0    \n",
       "\n",
       "   amenities_translation missing enhosting_amenity_50   ref_district  \\\n",
       "0                                                  0   San Francisco   \n",
       "1                                                  0   San Francisco   \n",
       "2                                                  1   San Francisco   \n",
       "3                                                  0   San Francisco   \n",
       "4                                                  0   San Francisco   \n",
       "\n",
       "   ref_jurisdiction  \n",
       "0     SAN FRANCISCO  \n",
       "1     SAN FRANCISCO  \n",
       "2     SAN FRANCISCO  \n",
       "3     SAN FRANCISCO  \n",
       "4     SAN FRANCISCO  \n",
       "\n",
       "[5 rows x 314 columns]"
      ]
     },
     "execution_count": 10,
     "metadata": {},
     "output_type": "execute_result"
    }
   ],
   "source": [
    "# Pull the dataset from previous step, which has the rating information\n",
    "\n",
    "pkl_file = '/Users/xzhou/github/project_archives/files_airbnb/{}.pkl'\n",
    "listings = pkl_file.format('df_listings_selected_features')\n",
    "\n",
    "df_listings = pd.read_pickle(listings)\n",
    "\n",
    "print('df_listings dimensions: :', df_listings.shape)\n",
    "df_listings.head()"
   ]
  },
  {
   "cell_type": "code",
   "execution_count": 11,
   "metadata": {
    "ExecuteTime": {
     "end_time": "2019-02-19T05:04:08.310338Z",
     "start_time": "2019-02-19T05:04:08.303676Z"
    }
   },
   "outputs": [
    {
     "name": "stdout",
     "output_type": "stream",
     "text": [
      "Number of unique IDs with rating:  9062\n"
     ]
    }
   ],
   "source": [
    "# Extract unique IDs from above dataset. Focus analysis on those IDs\n",
    "\n",
    "unique_ids = df_listings.id.unique()\n",
    "\n",
    "print('Number of unique IDs with rating: ', len(unique_ids))"
   ]
  },
  {
   "cell_type": "code",
   "execution_count": 12,
   "metadata": {
    "ExecuteTime": {
     "end_time": "2019-02-19T05:04:09.282066Z",
     "start_time": "2019-02-19T05:04:09.231072Z"
    }
   },
   "outputs": [
    {
     "data": {
      "text/plain": [
       "(413281, 2)"
      ]
     },
     "execution_count": 12,
     "metadata": {},
     "output_type": "execute_result"
    }
   ],
   "source": [
    "# Filter to smaller datasets for topic analysis\n",
    "\n",
    "df_reviews = df_reviews[df_reviews['listing_id'].isin(unique_ids)]\n",
    "\n",
    "df_reviews.shape"
   ]
  },
  {
   "cell_type": "code",
   "execution_count": 42,
   "metadata": {
    "ExecuteTime": {
     "end_time": "2019-02-19T05:22:10.286115Z",
     "start_time": "2019-02-19T05:22:08.084770Z"
    },
    "scrolled": true
   },
   "outputs": [
    {
     "name": "stdout",
     "output_type": "stream",
     "text": [
      "df_listings_reviews dimensions:  (413281, 316)\n"
     ]
    }
   ],
   "source": [
    "df_listings_reviews = pd.merge(left = df_reviews, \n",
    "                               right = df_listings,\n",
    "                               how = 'inner',\n",
    "                               left_on='listing_id', \n",
    "                               right_on='id')\n",
    "\n",
    "print('df_listings_reviews dimensions: ', df_listings_reviews.shape)"
   ]
  },
  {
   "cell_type": "code",
   "execution_count": 14,
   "metadata": {
    "ExecuteTime": {
     "end_time": "2019-02-19T05:04:15.247556Z",
     "start_time": "2019-02-19T05:04:14.580752Z"
    }
   },
   "outputs": [
    {
     "data": {
      "text/html": [
       "<div>\n",
       "<style scoped>\n",
       "    .dataframe tbody tr th:only-of-type {\n",
       "        vertical-align: middle;\n",
       "    }\n",
       "\n",
       "    .dataframe tbody tr th {\n",
       "        vertical-align: top;\n",
       "    }\n",
       "\n",
       "    .dataframe thead th {\n",
       "        text-align: right;\n",
       "    }\n",
       "</style>\n",
       "<table border=\"1\" class=\"dataframe\">\n",
       "  <thead>\n",
       "    <tr style=\"text-align: right;\">\n",
       "      <th></th>\n",
       "      <th>listing_id</th>\n",
       "      <th>review_scores_rating</th>\n",
       "      <th>comments</th>\n",
       "    </tr>\n",
       "  </thead>\n",
       "  <tbody>\n",
       "    <tr>\n",
       "      <th>0</th>\n",
       "      <td>958</td>\n",
       "      <td>97.0</td>\n",
       "      <td>Our experience was, without a doubt, a five st...</td>\n",
       "    </tr>\n",
       "    <tr>\n",
       "      <th>1</th>\n",
       "      <td>958</td>\n",
       "      <td>97.0</td>\n",
       "      <td>Returning to San Francisco is a rejuvenating t...</td>\n",
       "    </tr>\n",
       "    <tr>\n",
       "      <th>2</th>\n",
       "      <td>958</td>\n",
       "      <td>97.0</td>\n",
       "      <td>We were very pleased with the accommodations a...</td>\n",
       "    </tr>\n",
       "    <tr>\n",
       "      <th>3</th>\n",
       "      <td>958</td>\n",
       "      <td>97.0</td>\n",
       "      <td>We highly recommend this accomodation and agre...</td>\n",
       "    </tr>\n",
       "    <tr>\n",
       "      <th>4</th>\n",
       "      <td>958</td>\n",
       "      <td>97.0</td>\n",
       "      <td>Holly's place was great. It was exactly what I...</td>\n",
       "    </tr>\n",
       "  </tbody>\n",
       "</table>\n",
       "</div>"
      ],
      "text/plain": [
       "   listing_id  review_scores_rating  \\\n",
       "0         958                  97.0   \n",
       "1         958                  97.0   \n",
       "2         958                  97.0   \n",
       "3         958                  97.0   \n",
       "4         958                  97.0   \n",
       "\n",
       "                                            comments  \n",
       "0  Our experience was, without a doubt, a five st...  \n",
       "1  Returning to San Francisco is a rejuvenating t...  \n",
       "2  We were very pleased with the accommodations a...  \n",
       "3  We highly recommend this accomodation and agre...  \n",
       "4  Holly's place was great. It was exactly what I...  "
      ]
     },
     "execution_count": 14,
     "metadata": {},
     "output_type": "execute_result"
    }
   ],
   "source": [
    "# Filter to smaller set of features. \n",
    "# The goal is to identify main topics within each sentiment\n",
    "\n",
    "columns_to_keep = ['listing_id', 'review_scores_rating', 'comments']\n",
    "df_reviews_smaller = df_listings_reviews[columns_to_keep]\n",
    "df_reviews_smaller.head()"
   ]
  },
  {
   "cell_type": "markdown",
   "metadata": {
    "ExecuteTime": {
     "end_time": "2019-02-19T04:45:50.941298Z",
     "start_time": "2019-02-19T04:45:50.928712Z"
    }
   },
   "source": [
    "## Null Values"
   ]
  },
  {
   "cell_type": "code",
   "execution_count": 20,
   "metadata": {
    "ExecuteTime": {
     "end_time": "2019-02-19T05:05:02.534502Z",
     "start_time": "2019-02-19T05:05:02.288293Z"
    }
   },
   "outputs": [],
   "source": [
    "df_reviews_smaller.dropna(inplace=True)"
   ]
  },
  {
   "cell_type": "code",
   "execution_count": 21,
   "metadata": {
    "ExecuteTime": {
     "end_time": "2019-02-19T05:05:04.294338Z",
     "start_time": "2019-02-19T05:05:04.205866Z"
    }
   },
   "outputs": [
    {
     "data": {
      "text/plain": [
       "listing_id              0\n",
       "review_scores_rating    0\n",
       "comments                0\n",
       "dtype: int64"
      ]
     },
     "execution_count": 21,
     "metadata": {},
     "output_type": "execute_result"
    }
   ],
   "source": [
    "df_reviews_smaller.isnull().sum()"
   ]
  },
  {
   "cell_type": "markdown",
   "metadata": {},
   "source": [
    "## Duplicates"
   ]
  },
  {
   "cell_type": "code",
   "execution_count": 22,
   "metadata": {
    "ExecuteTime": {
     "end_time": "2019-02-19T05:05:07.876173Z",
     "start_time": "2019-02-19T05:05:07.064957Z"
    }
   },
   "outputs": [
    {
     "data": {
      "text/plain": [
       "(412697, 3)"
      ]
     },
     "execution_count": 22,
     "metadata": {},
     "output_type": "execute_result"
    }
   ],
   "source": [
    "# Drop any possible duplicate lines before saving the result\n",
    "\n",
    "df_reviews_smaller.drop_duplicates(inplace=True)\n",
    "df_reviews_smaller.shape"
   ]
  },
  {
   "cell_type": "markdown",
   "metadata": {},
   "source": [
    "## Sentiment Distribution"
   ]
  },
  {
   "cell_type": "code",
   "execution_count": 48,
   "metadata": {
    "ExecuteTime": {
     "end_time": "2019-02-19T05:25:24.772226Z",
     "start_time": "2019-02-19T05:25:24.768478Z"
    }
   },
   "outputs": [],
   "source": [
    "# Assign sentiment score based on review ratings\n",
    "\n",
    "def sentiment_score(x):\n",
    "    \"\"\"\n",
    "    This is to assignment sentiment score based on rating.\n",
    "    Input: ratings, ranging from 1 to 100\n",
    "    Ouput: sentimant score, ranging from 0 to +1\n",
    "           Postive: +1; negative: -1\n",
    "\n",
    "    \"\"\"\n",
    "    if x >= 80:\n",
    "        return +1\n",
    "    elif x < 80:\n",
    "        return 0\n",
    "    else:\n",
    "        return 'error'"
   ]
  },
  {
   "cell_type": "code",
   "execution_count": 49,
   "metadata": {
    "ExecuteTime": {
     "end_time": "2019-02-19T05:25:27.294153Z",
     "start_time": "2019-02-19T05:25:27.028887Z"
    }
   },
   "outputs": [
    {
     "name": "stdout",
     "output_type": "stream",
     "text": [
      "(411471, 6) (1226, 6)\n"
     ]
    }
   ],
   "source": [
    "# Break down ratings to positive, neutral, and negative sentiments\n",
    "# This is to perform analysis for each sentiment\n",
    "\n",
    "df_reviews_smaller['sentiment_score'] = df_reviews_smaller['review_scores_rating']  \\\n",
    "                                      .apply(lambda x: sentiment_score(x))\n",
    "\n",
    "df_pos = df_reviews_smaller[df_reviews_smaller['sentiment_score']==1]\n",
    "df_neg = df_reviews_smaller[df_reviews_smaller['sentiment_score']==0]\n",
    "\n",
    "print(df_pos.shape, df_neg.shape)"
   ]
  },
  {
   "cell_type": "code",
   "execution_count": 32,
   "metadata": {
    "ExecuteTime": {
     "end_time": "2019-02-19T05:09:19.173001Z",
     "start_time": "2019-02-19T05:09:19.134391Z"
    }
   },
   "outputs": [
    {
     "data": {
      "text/plain": [
       "count    412697.000000\n",
       "mean         95.914017\n",
       "std           3.658173\n",
       "min          20.000000\n",
       "25%          95.000000\n",
       "50%          97.000000\n",
       "75%          98.000000\n",
       "max         100.000000\n",
       "Name: review_scores_rating, dtype: float64"
      ]
     },
     "execution_count": 32,
     "metadata": {},
     "output_type": "execute_result"
    }
   ],
   "source": [
    "# Noted ratings scores are highly skewed. \n",
    "# Topic modeling based on positive and negative sentiment may not work as expected\n",
    "\n",
    "df_reviews_smaller.review_scores_rating.describe (include='all')"
   ]
  },
  {
   "cell_type": "code",
   "execution_count": 29,
   "metadata": {
    "ExecuteTime": {
     "end_time": "2019-02-19T05:07:06.812055Z",
     "start_time": "2019-02-19T05:07:06.588123Z"
    }
   },
   "outputs": [
    {
     "data": {
      "text/plain": [
       "<matplotlib.axes._subplots.AxesSubplot at 0x1c27486400>"
      ]
     },
     "execution_count": 29,
     "metadata": {},
     "output_type": "execute_result"
    },
    {
     "data": {
      "image/png": "[encoded data removed]",
      "text/plain": [
       "<Figure size 432x288 with 1 Axes>"
      ]
     },
     "metadata": {},
     "output_type": "display_data"
    }
   ],
   "source": [
    "df_reviews_smaller.review_scores_rating.hist(bins=10)"
   ]
  },
  {
   "cell_type": "code",
   "execution_count": 51,
   "metadata": {
    "ExecuteTime": {
     "end_time": "2019-02-19T05:26:39.322150Z",
     "start_time": "2019-02-19T05:26:39.303054Z"
    }
   },
   "outputs": [
    {
     "data": {
      "text/html": [
       "<div>\n",
       "<style scoped>\n",
       "    .dataframe tbody tr th:only-of-type {\n",
       "        vertical-align: middle;\n",
       "    }\n",
       "\n",
       "    .dataframe tbody tr th {\n",
       "        vertical-align: top;\n",
       "    }\n",
       "\n",
       "    .dataframe thead th {\n",
       "        text-align: right;\n",
       "    }\n",
       "</style>\n",
       "<table border=\"1\" class=\"dataframe\">\n",
       "  <thead>\n",
       "    <tr style=\"text-align: right;\">\n",
       "      <th></th>\n",
       "      <th>listing_id</th>\n",
       "      <th>review_scores_rating</th>\n",
       "      <th>comments</th>\n",
       "      <th>sentiment_score</th>\n",
       "      <th>comments_words</th>\n",
       "      <th>word_count</th>\n",
       "    </tr>\n",
       "  </thead>\n",
       "  <tbody>\n",
       "    <tr>\n",
       "      <th>1719</th>\n",
       "      <td>12041</td>\n",
       "      <td>75.0</td>\n",
       "      <td>Note: this review is for the Carl St. property...</td>\n",
       "      <td>0</td>\n",
       "      <td>[Note, :, this, review, is, for, the, Carl, St...</td>\n",
       "      <td>166</td>\n",
       "    </tr>\n",
       "    <tr>\n",
       "      <th>1720</th>\n",
       "      <td>12041</td>\n",
       "      <td>75.0</td>\n",
       "      <td>Aaron was a great host for during my first wee...</td>\n",
       "      <td>0</td>\n",
       "      <td>[Aaron, was, a, great, host, for, during, my, ...</td>\n",
       "      <td>156</td>\n",
       "    </tr>\n",
       "    <tr>\n",
       "      <th>1721</th>\n",
       "      <td>12041</td>\n",
       "      <td>75.0</td>\n",
       "      <td>I was looking for a temporary place to stay in...</td>\n",
       "      <td>0</td>\n",
       "      <td>[I, was, looking, for, a, temporary, place, to...</td>\n",
       "      <td>144</td>\n",
       "    </tr>\n",
       "    <tr>\n",
       "      <th>1722</th>\n",
       "      <td>12041</td>\n",
       "      <td>75.0</td>\n",
       "      <td>This place is run like a hostel although I nev...</td>\n",
       "      <td>0</td>\n",
       "      <td>[This, place, is, run, like, a, hostel, althou...</td>\n",
       "      <td>100</td>\n",
       "    </tr>\n",
       "    <tr>\n",
       "      <th>1723</th>\n",
       "      <td>12041</td>\n",
       "      <td>75.0</td>\n",
       "      <td>Muy buena ubicación, y muy bien comunicado. El...</td>\n",
       "      <td>0</td>\n",
       "      <td>[Muy, buena, ubicación, ,, y, muy, bien, comun...</td>\n",
       "      <td>40</td>\n",
       "    </tr>\n",
       "  </tbody>\n",
       "</table>\n",
       "</div>"
      ],
      "text/plain": [
       "      listing_id  review_scores_rating  \\\n",
       "1719       12041                  75.0   \n",
       "1720       12041                  75.0   \n",
       "1721       12041                  75.0   \n",
       "1722       12041                  75.0   \n",
       "1723       12041                  75.0   \n",
       "\n",
       "                                               comments  sentiment_score  \\\n",
       "1719  Note: this review is for the Carl St. property...                0   \n",
       "1720  Aaron was a great host for during my first wee...                0   \n",
       "1721  I was looking for a temporary place to stay in...                0   \n",
       "1722  This place is run like a hostel although I nev...                0   \n",
       "1723  Muy buena ubicación, y muy bien comunicado. El...                0   \n",
       "\n",
       "                                         comments_words  word_count  \n",
       "1719  [Note, :, this, review, is, for, the, Carl, St...         166  \n",
       "1720  [Aaron, was, a, great, host, for, during, my, ...         156  \n",
       "1721  [I, was, looking, for, a, temporary, place, to...         144  \n",
       "1722  [This, place, is, run, like, a, hostel, althou...         100  \n",
       "1723  [Muy, buena, ubicación, ,, y, muy, bien, comun...          40  "
      ]
     },
     "execution_count": 51,
     "metadata": {},
     "output_type": "execute_result"
    }
   ],
   "source": [
    "# A few examples for reviews with rating < 80\n",
    "\n",
    "df_reviews_smaller[df_reviews_smaller.review_scores_rating<80].head()"
   ]
  },
  {
   "cell_type": "markdown",
   "metadata": {},
   "source": [
    "## Text Preprocessing"
   ]
  },
  {
   "cell_type": "markdown",
   "metadata": {},
   "source": [
    "### Review Length"
   ]
  },
  {
   "cell_type": "code",
   "execution_count": 36,
   "metadata": {
    "ExecuteTime": {
     "end_time": "2019-02-19T05:18:09.363325Z",
     "start_time": "2019-02-19T05:14:17.589802Z"
    }
   },
   "outputs": [],
   "source": [
    "# Break down reviews by word. \n",
    "\n",
    "df_reviews_smaller['comments_words'] = df_reviews_smaller['comments']  \\\n",
    "                                       .apply(nltk.word_tokenize)"
   ]
  },
  {
   "cell_type": "code",
   "execution_count": 37,
   "metadata": {
    "ExecuteTime": {
     "end_time": "2019-02-19T05:18:30.254324Z",
     "start_time": "2019-02-19T05:18:29.500381Z"
    }
   },
   "outputs": [
    {
     "data": {
      "text/html": [
       "<div>\n",
       "<style scoped>\n",
       "    .dataframe tbody tr th:only-of-type {\n",
       "        vertical-align: middle;\n",
       "    }\n",
       "\n",
       "    .dataframe tbody tr th {\n",
       "        vertical-align: top;\n",
       "    }\n",
       "\n",
       "    .dataframe thead th {\n",
       "        text-align: right;\n",
       "    }\n",
       "</style>\n",
       "<table border=\"1\" class=\"dataframe\">\n",
       "  <thead>\n",
       "    <tr style=\"text-align: right;\">\n",
       "      <th></th>\n",
       "      <th>listing_id</th>\n",
       "      <th>review_scores_rating</th>\n",
       "      <th>comments</th>\n",
       "      <th>sentiment_score</th>\n",
       "      <th>comments_words</th>\n",
       "      <th>word_count</th>\n",
       "    </tr>\n",
       "  </thead>\n",
       "  <tbody>\n",
       "    <tr>\n",
       "      <th>0</th>\n",
       "      <td>958</td>\n",
       "      <td>97.0</td>\n",
       "      <td>Our experience was, without a doubt, a five st...</td>\n",
       "      <td>1</td>\n",
       "      <td>[Our, experience, was, ,, without, a, doubt, ,...</td>\n",
       "      <td>96</td>\n",
       "    </tr>\n",
       "    <tr>\n",
       "      <th>1</th>\n",
       "      <td>958</td>\n",
       "      <td>97.0</td>\n",
       "      <td>Returning to San Francisco is a rejuvenating t...</td>\n",
       "      <td>1</td>\n",
       "      <td>[Returning, to, San, Francisco, is, a, rejuven...</td>\n",
       "      <td>77</td>\n",
       "    </tr>\n",
       "    <tr>\n",
       "      <th>2</th>\n",
       "      <td>958</td>\n",
       "      <td>97.0</td>\n",
       "      <td>We were very pleased with the accommodations a...</td>\n",
       "      <td>1</td>\n",
       "      <td>[We, were, very, pleased, with, the, accommoda...</td>\n",
       "      <td>149</td>\n",
       "    </tr>\n",
       "    <tr>\n",
       "      <th>3</th>\n",
       "      <td>958</td>\n",
       "      <td>97.0</td>\n",
       "      <td>We highly recommend this accomodation and agre...</td>\n",
       "      <td>1</td>\n",
       "      <td>[We, highly, recommend, this, accomodation, an...</td>\n",
       "      <td>96</td>\n",
       "    </tr>\n",
       "    <tr>\n",
       "      <th>4</th>\n",
       "      <td>958</td>\n",
       "      <td>97.0</td>\n",
       "      <td>Holly's place was great. It was exactly what I...</td>\n",
       "      <td>1</td>\n",
       "      <td>[Holly, 's, place, was, great, ., It, was, exa...</td>\n",
       "      <td>53</td>\n",
       "    </tr>\n",
       "  </tbody>\n",
       "</table>\n",
       "</div>"
      ],
      "text/plain": [
       "   listing_id  review_scores_rating  \\\n",
       "0         958                  97.0   \n",
       "1         958                  97.0   \n",
       "2         958                  97.0   \n",
       "3         958                  97.0   \n",
       "4         958                  97.0   \n",
       "\n",
       "                                            comments  sentiment_score  \\\n",
       "0  Our experience was, without a doubt, a five st...                1   \n",
       "1  Returning to San Francisco is a rejuvenating t...                1   \n",
       "2  We were very pleased with the accommodations a...                1   \n",
       "3  We highly recommend this accomodation and agre...                1   \n",
       "4  Holly's place was great. It was exactly what I...                1   \n",
       "\n",
       "                                      comments_words  word_count  \n",
       "0  [Our, experience, was, ,, without, a, doubt, ,...          96  \n",
       "1  [Returning, to, San, Francisco, is, a, rejuven...          77  \n",
       "2  [We, were, very, pleased, with, the, accommoda...         149  \n",
       "3  [We, highly, recommend, this, accomodation, an...          96  \n",
       "4  [Holly, 's, place, was, great, ., It, was, exa...          53  "
      ]
     },
     "execution_count": 37,
     "metadata": {},
     "output_type": "execute_result"
    }
   ],
   "source": [
    "# Perform word count for each review. \n",
    "# This is to remove reviews that do not have meaningful leangh\n",
    "\n",
    "df_reviews_smaller['word_count'] = df_reviews_smaller['comments_words'].apply(len)\n",
    "df_reviews_smaller.head()"
   ]
  },
  {
   "cell_type": "code",
   "execution_count": 52,
   "metadata": {
    "ExecuteTime": {
     "end_time": "2019-02-19T05:27:03.063379Z",
     "start_time": "2019-02-19T05:27:03.015426Z"
    }
   },
   "outputs": [
    {
     "data": {
      "text/plain": [
       "(378367, 6)"
      ]
     },
     "execution_count": 52,
     "metadata": {},
     "output_type": "execute_result"
    }
   ],
   "source": [
    "# Keep only comments that have meaningful length\n",
    "\n",
    "meaningful_length = 10\n",
    "df_reviews_smaller = df_reviews_smaller[\n",
    "                     df_reviews_smaller['word_count'] >= meaningful_length]\n",
    "\n",
    "df_reviews_smaller.shape"
   ]
  },
  {
   "cell_type": "markdown",
   "metadata": {
    "ExecuteTime": {
     "end_time": "2019-02-19T05:40:15.783870Z",
     "start_time": "2019-02-19T05:40:15.781048Z"
    }
   },
   "source": [
    "### Consolidate Reviews for Each Apartment"
   ]
  },
  {
   "cell_type": "code",
   "execution_count": 57,
   "metadata": {
    "ExecuteTime": {
     "end_time": "2019-02-19T05:35:23.600921Z",
     "start_time": "2019-02-19T05:35:22.158859Z"
    }
   },
   "outputs": [
    {
     "data": {
      "text/html": [
       "<div>\n",
       "<style scoped>\n",
       "    .dataframe tbody tr th:only-of-type {\n",
       "        vertical-align: middle;\n",
       "    }\n",
       "\n",
       "    .dataframe tbody tr th {\n",
       "        vertical-align: top;\n",
       "    }\n",
       "\n",
       "    .dataframe thead th {\n",
       "        text-align: right;\n",
       "    }\n",
       "</style>\n",
       "<table border=\"1\" class=\"dataframe\">\n",
       "  <thead>\n",
       "    <tr style=\"text-align: right;\">\n",
       "      <th></th>\n",
       "      <th>listing_id</th>\n",
       "      <th>comments</th>\n",
       "    </tr>\n",
       "  </thead>\n",
       "  <tbody>\n",
       "    <tr>\n",
       "      <th>0</th>\n",
       "      <td>958</td>\n",
       "      <td>Our experience was, without a doubt, a five st...</td>\n",
       "    </tr>\n",
       "    <tr>\n",
       "      <th>1</th>\n",
       "      <td>3083</td>\n",
       "      <td>B- love guest house is a pretty good place, ev...</td>\n",
       "    </tr>\n",
       "    <tr>\n",
       "      <th>2</th>\n",
       "      <td>3264</td>\n",
       "      <td>The Garden Camper is totally Berkeley. It's ni...</td>\n",
       "    </tr>\n",
       "    <tr>\n",
       "      <th>3</th>\n",
       "      <td>5739</td>\n",
       "      <td>My wife and I were absolutely thrilled with ou...</td>\n",
       "    </tr>\n",
       "    <tr>\n",
       "      <th>4</th>\n",
       "      <td>5858</td>\n",
       "      <td>We had a fabulous time staying with Philip and...</td>\n",
       "    </tr>\n",
       "  </tbody>\n",
       "</table>\n",
       "</div>"
      ],
      "text/plain": [
       "   listing_id                                           comments\n",
       "0         958  Our experience was, without a doubt, a five st...\n",
       "1        3083  B- love guest house is a pretty good place, ev...\n",
       "2        3264  The Garden Camper is totally Berkeley. It's ni...\n",
       "3        5739  My wife and I were absolutely thrilled with ou...\n",
       "4        5858  We had a fabulous time staying with Philip and..."
      ]
     },
     "execution_count": 57,
     "metadata": {},
     "output_type": "execute_result"
    }
   ],
   "source": [
    "# Concolidated all reviews belong to a single 'id' to one big comment. \n",
    "# This for easier processing later on\n",
    "\n",
    "df_consol_reviews = df_reviews_smaller  \\\n",
    "                    .groupby('listing_id')  \\\n",
    "                    .comments.apply(lambda x: ' ,'.join(x))  \\\n",
    "                    .reset_index()\n",
    "\n",
    "df_consol_reviews.head()"
   ]
  },
  {
   "cell_type": "code",
   "execution_count": 58,
   "metadata": {
    "ExecuteTime": {
     "end_time": "2019-02-19T05:35:28.797497Z",
     "start_time": "2019-02-19T05:35:28.791439Z"
    }
   },
   "outputs": [
    {
     "data": {
      "text/plain": [
       "(8950, 2)"
      ]
     },
     "execution_count": 58,
     "metadata": {},
     "output_type": "execute_result"
    }
   ],
   "source": [
    "df_consol_reviews.shape"
   ]
  },
  {
   "cell_type": "code",
   "execution_count": 61,
   "metadata": {
    "ExecuteTime": {
     "end_time": "2019-02-19T05:37:49.362629Z",
     "start_time": "2019-02-19T05:37:49.061435Z"
    }
   },
   "outputs": [
    {
     "data": {
      "text/plain": [
       "(378367, 7)"
      ]
     },
     "execution_count": 61,
     "metadata": {},
     "output_type": "execute_result"
    }
   ],
   "source": [
    "df_final = pd.merge(left = df_consol_reviews, \n",
    "                    right = df_reviews_smaller, \n",
    "                    how='left', \n",
    "                    left_on ='listing_id', \n",
    "                    right_on = 'listing_id')\n",
    "\n",
    "df_final.shape"
   ]
  },
  {
   "cell_type": "code",
   "execution_count": 62,
   "metadata": {
    "ExecuteTime": {
     "end_time": "2019-02-19T05:37:52.656312Z",
     "start_time": "2019-02-19T05:37:52.635399Z"
    }
   },
   "outputs": [
    {
     "data": {
      "text/html": [
       "<div>\n",
       "<style scoped>\n",
       "    .dataframe tbody tr th:only-of-type {\n",
       "        vertical-align: middle;\n",
       "    }\n",
       "\n",
       "    .dataframe tbody tr th {\n",
       "        vertical-align: top;\n",
       "    }\n",
       "\n",
       "    .dataframe thead th {\n",
       "        text-align: right;\n",
       "    }\n",
       "</style>\n",
       "<table border=\"1\" class=\"dataframe\">\n",
       "  <thead>\n",
       "    <tr style=\"text-align: right;\">\n",
       "      <th></th>\n",
       "      <th>listing_id</th>\n",
       "      <th>comments_x</th>\n",
       "      <th>review_scores_rating</th>\n",
       "      <th>comments_y</th>\n",
       "      <th>sentiment_score</th>\n",
       "      <th>comments_words</th>\n",
       "      <th>word_count</th>\n",
       "    </tr>\n",
       "  </thead>\n",
       "  <tbody>\n",
       "    <tr>\n",
       "      <th>0</th>\n",
       "      <td>958</td>\n",
       "      <td>Our experience was, without a doubt, a five st...</td>\n",
       "      <td>97.0</td>\n",
       "      <td>Our experience was, without a doubt, a five st...</td>\n",
       "      <td>1</td>\n",
       "      <td>[Our, experience, was, ,, without, a, doubt, ,...</td>\n",
       "      <td>96</td>\n",
       "    </tr>\n",
       "    <tr>\n",
       "      <th>1</th>\n",
       "      <td>958</td>\n",
       "      <td>Our experience was, without a doubt, a five st...</td>\n",
       "      <td>97.0</td>\n",
       "      <td>Returning to San Francisco is a rejuvenating t...</td>\n",
       "      <td>1</td>\n",
       "      <td>[Returning, to, San, Francisco, is, a, rejuven...</td>\n",
       "      <td>77</td>\n",
       "    </tr>\n",
       "    <tr>\n",
       "      <th>2</th>\n",
       "      <td>958</td>\n",
       "      <td>Our experience was, without a doubt, a five st...</td>\n",
       "      <td>97.0</td>\n",
       "      <td>We were very pleased with the accommodations a...</td>\n",
       "      <td>1</td>\n",
       "      <td>[We, were, very, pleased, with, the, accommoda...</td>\n",
       "      <td>149</td>\n",
       "    </tr>\n",
       "    <tr>\n",
       "      <th>3</th>\n",
       "      <td>958</td>\n",
       "      <td>Our experience was, without a doubt, a five st...</td>\n",
       "      <td>97.0</td>\n",
       "      <td>We highly recommend this accomodation and agre...</td>\n",
       "      <td>1</td>\n",
       "      <td>[We, highly, recommend, this, accomodation, an...</td>\n",
       "      <td>96</td>\n",
       "    </tr>\n",
       "    <tr>\n",
       "      <th>4</th>\n",
       "      <td>958</td>\n",
       "      <td>Our experience was, without a doubt, a five st...</td>\n",
       "      <td>97.0</td>\n",
       "      <td>Holly's place was great. It was exactly what I...</td>\n",
       "      <td>1</td>\n",
       "      <td>[Holly, 's, place, was, great, ., It, was, exa...</td>\n",
       "      <td>53</td>\n",
       "    </tr>\n",
       "  </tbody>\n",
       "</table>\n",
       "</div>"
      ],
      "text/plain": [
       "   listing_id                                         comments_x  \\\n",
       "0         958  Our experience was, without a doubt, a five st...   \n",
       "1         958  Our experience was, without a doubt, a five st...   \n",
       "2         958  Our experience was, without a doubt, a five st...   \n",
       "3         958  Our experience was, without a doubt, a five st...   \n",
       "4         958  Our experience was, without a doubt, a five st...   \n",
       "\n",
       "   review_scores_rating                                         comments_y  \\\n",
       "0                  97.0  Our experience was, without a doubt, a five st...   \n",
       "1                  97.0  Returning to San Francisco is a rejuvenating t...   \n",
       "2                  97.0  We were very pleased with the accommodations a...   \n",
       "3                  97.0  We highly recommend this accomodation and agre...   \n",
       "4                  97.0  Holly's place was great. It was exactly what I...   \n",
       "\n",
       "   sentiment_score                                     comments_words  \\\n",
       "0                1  [Our, experience, was, ,, without, a, doubt, ,...   \n",
       "1                1  [Returning, to, San, Francisco, is, a, rejuven...   \n",
       "2                1  [We, were, very, pleased, with, the, accommoda...   \n",
       "3                1  [We, highly, recommend, this, accomodation, an...   \n",
       "4                1  [Holly, 's, place, was, great, ., It, was, exa...   \n",
       "\n",
       "   word_count  \n",
       "0          96  \n",
       "1          77  \n",
       "2         149  \n",
       "3          96  \n",
       "4          53  "
      ]
     },
     "execution_count": 62,
     "metadata": {},
     "output_type": "execute_result"
    }
   ],
   "source": [
    "df_final.head()"
   ]
  },
  {
   "cell_type": "code",
   "execution_count": 64,
   "metadata": {
    "ExecuteTime": {
     "end_time": "2019-02-19T05:39:16.739940Z",
     "start_time": "2019-02-19T05:38:59.370532Z"
    }
   },
   "outputs": [
    {
     "data": {
      "text/plain": [
       "(8949, 7)"
      ]
     },
     "execution_count": 64,
     "metadata": {},
     "output_type": "execute_result"
    }
   ],
   "source": [
    "# Only keep one consolidated review per Listing ID\n",
    "\n",
    "df_final.drop_duplicates(subset=['comments_x'], keep='first', inplace=True)\n",
    "\n",
    "df_final.shape"
   ]
  },
  {
   "cell_type": "code",
   "execution_count": 67,
   "metadata": {
    "ExecuteTime": {
     "end_time": "2019-02-19T05:45:05.751343Z",
     "start_time": "2019-02-19T05:45:05.736897Z"
    }
   },
   "outputs": [
    {
     "data": {
      "text/html": [
       "<div>\n",
       "<style scoped>\n",
       "    .dataframe tbody tr th:only-of-type {\n",
       "        vertical-align: middle;\n",
       "    }\n",
       "\n",
       "    .dataframe tbody tr th {\n",
       "        vertical-align: top;\n",
       "    }\n",
       "\n",
       "    .dataframe thead th {\n",
       "        text-align: right;\n",
       "    }\n",
       "</style>\n",
       "<table border=\"1\" class=\"dataframe\">\n",
       "  <thead>\n",
       "    <tr style=\"text-align: right;\">\n",
       "      <th></th>\n",
       "      <th>listing_id</th>\n",
       "      <th>review_scores_rating</th>\n",
       "      <th>comments_y</th>\n",
       "      <th>sentiment_score</th>\n",
       "    </tr>\n",
       "  </thead>\n",
       "  <tbody>\n",
       "    <tr>\n",
       "      <th>0</th>\n",
       "      <td>958</td>\n",
       "      <td>97.0</td>\n",
       "      <td>Our experience was, without a doubt, a five st...</td>\n",
       "      <td>1</td>\n",
       "    </tr>\n",
       "    <tr>\n",
       "      <th>144</th>\n",
       "      <td>3083</td>\n",
       "      <td>91.0</td>\n",
       "      <td>B- love guest house is a pretty good place, ev...</td>\n",
       "      <td>1</td>\n",
       "    </tr>\n",
       "    <tr>\n",
       "      <th>168</th>\n",
       "      <td>3264</td>\n",
       "      <td>90.0</td>\n",
       "      <td>The Garden Camper is totally Berkeley. It's ni...</td>\n",
       "      <td>1</td>\n",
       "    </tr>\n",
       "    <tr>\n",
       "      <th>203</th>\n",
       "      <td>5739</td>\n",
       "      <td>99.0</td>\n",
       "      <td>My wife and I were absolutely thrilled with ou...</td>\n",
       "      <td>1</td>\n",
       "    </tr>\n",
       "    <tr>\n",
       "      <th>386</th>\n",
       "      <td>5858</td>\n",
       "      <td>98.0</td>\n",
       "      <td>We had a fabulous time staying with Philip and...</td>\n",
       "      <td>1</td>\n",
       "    </tr>\n",
       "  </tbody>\n",
       "</table>\n",
       "</div>"
      ],
      "text/plain": [
       "     listing_id  review_scores_rating  \\\n",
       "0           958                  97.0   \n",
       "144        3083                  91.0   \n",
       "168        3264                  90.0   \n",
       "203        5739                  99.0   \n",
       "386        5858                  98.0   \n",
       "\n",
       "                                            comments_y  sentiment_score  \n",
       "0    Our experience was, without a doubt, a five st...                1  \n",
       "144  B- love guest house is a pretty good place, ev...                1  \n",
       "168  The Garden Camper is totally Berkeley. It's ni...                1  \n",
       "203  My wife and I were absolutely thrilled with ou...                1  \n",
       "386  We had a fabulous time staying with Philip and...                1  "
      ]
     },
     "execution_count": 67,
     "metadata": {},
     "output_type": "execute_result"
    }
   ],
   "source": [
    "# Drop columns. 'Comments-words' need to be dropped, as this is\n",
    "# for individual review, not consolidated review.\n",
    "\n",
    "columns_to_drop = ['comments_x', 'comments_words', 'word_count']\n",
    "df_final.drop (columns_to_drop, axis=1, inplace=True)\n",
    "df_final.head()"
   ]
  },
  {
   "cell_type": "code",
   "execution_count": 68,
   "metadata": {
    "ExecuteTime": {
     "end_time": "2019-02-19T05:45:33.295853Z",
     "start_time": "2019-02-19T05:45:33.277328Z"
    }
   },
   "outputs": [
    {
     "data": {
      "text/html": [
       "<div>\n",
       "<style scoped>\n",
       "    .dataframe tbody tr th:only-of-type {\n",
       "        vertical-align: middle;\n",
       "    }\n",
       "\n",
       "    .dataframe tbody tr th {\n",
       "        vertical-align: top;\n",
       "    }\n",
       "\n",
       "    .dataframe thead th {\n",
       "        text-align: right;\n",
       "    }\n",
       "</style>\n",
       "<table border=\"1\" class=\"dataframe\">\n",
       "  <thead>\n",
       "    <tr style=\"text-align: right;\">\n",
       "      <th></th>\n",
       "      <th>listing_id</th>\n",
       "      <th>review_scores_rating</th>\n",
       "      <th>consol_reviews</th>\n",
       "      <th>sentiment_score</th>\n",
       "    </tr>\n",
       "  </thead>\n",
       "  <tbody>\n",
       "    <tr>\n",
       "      <th>0</th>\n",
       "      <td>958</td>\n",
       "      <td>97.0</td>\n",
       "      <td>Our experience was, without a doubt, a five st...</td>\n",
       "      <td>1</td>\n",
       "    </tr>\n",
       "    <tr>\n",
       "      <th>144</th>\n",
       "      <td>3083</td>\n",
       "      <td>91.0</td>\n",
       "      <td>B- love guest house is a pretty good place, ev...</td>\n",
       "      <td>1</td>\n",
       "    </tr>\n",
       "    <tr>\n",
       "      <th>168</th>\n",
       "      <td>3264</td>\n",
       "      <td>90.0</td>\n",
       "      <td>The Garden Camper is totally Berkeley. It's ni...</td>\n",
       "      <td>1</td>\n",
       "    </tr>\n",
       "    <tr>\n",
       "      <th>203</th>\n",
       "      <td>5739</td>\n",
       "      <td>99.0</td>\n",
       "      <td>My wife and I were absolutely thrilled with ou...</td>\n",
       "      <td>1</td>\n",
       "    </tr>\n",
       "    <tr>\n",
       "      <th>386</th>\n",
       "      <td>5858</td>\n",
       "      <td>98.0</td>\n",
       "      <td>We had a fabulous time staying with Philip and...</td>\n",
       "      <td>1</td>\n",
       "    </tr>\n",
       "  </tbody>\n",
       "</table>\n",
       "</div>"
      ],
      "text/plain": [
       "     listing_id  review_scores_rating  \\\n",
       "0           958                  97.0   \n",
       "144        3083                  91.0   \n",
       "168        3264                  90.0   \n",
       "203        5739                  99.0   \n",
       "386        5858                  98.0   \n",
       "\n",
       "                                        consol_reviews  sentiment_score  \n",
       "0    Our experience was, without a doubt, a five st...                1  \n",
       "144  B- love guest house is a pretty good place, ev...                1  \n",
       "168  The Garden Camper is totally Berkeley. It's ni...                1  \n",
       "203  My wife and I were absolutely thrilled with ou...                1  \n",
       "386  We had a fabulous time staying with Philip and...                1  "
      ]
     },
     "execution_count": 68,
     "metadata": {},
     "output_type": "execute_result"
    }
   ],
   "source": [
    "df_final.rename( index=str, columns ={'comments_y': 'consol_reviews'}, inplace=True)\n",
    "df_final.head()"
   ]
  },
  {
   "cell_type": "code",
   "execution_count": 69,
   "metadata": {
    "ExecuteTime": {
     "end_time": "2019-02-19T05:47:14.351115Z",
     "start_time": "2019-02-19T05:47:07.968786Z"
    }
   },
   "outputs": [],
   "source": [
    "# Break down consolidated reviews by word. \n",
    "\n",
    "df_final['words'] = df_final['consol_reviews'].apply(nltk.word_tokenize)"
   ]
  },
  {
   "cell_type": "code",
   "execution_count": 70,
   "metadata": {
    "ExecuteTime": {
     "end_time": "2019-02-19T05:50:17.112756Z",
     "start_time": "2019-02-19T05:50:16.853062Z"
    }
   },
   "outputs": [],
   "source": [
    "# Store the data prior to modeling\n",
    "# When there are changes, mark file_updated as true. Changes will be\n",
    "# written to local files. Otherwise, mark file_updated as false. \n",
    "# Data will be loaded from existing files\n",
    "\n",
    "file_updated = True\n",
    "pkl_file = '/Users/xzhou/github/project_archives/files_airbnb/{}.pkl'\n",
    "reviews = pkl_file.format('reviews_final')\n",
    "\n",
    "\n",
    "if file_updated:\n",
    "    with open(reviews, 'wb') as file:\n",
    "        pd.to_pickle(df_final, file)\n",
    "else:\n",
    "    try: \n",
    "        with open(reviews, 'rb') as file:\n",
    "            df_final = pd.read_pickle(file)\n",
    "    except:\n",
    "        with open(reviews, 'wb') as file:\n",
    "            pd.to_pickle(df_final, file)"
   ]
  },
  {
   "cell_type": "markdown",
   "metadata": {},
   "source": [
    "# Modeling"
   ]
  },
  {
   "cell_type": "code",
   "execution_count": 71,
   "metadata": {
    "ExecuteTime": {
     "end_time": "2019-02-19T05:50:35.347482Z",
     "start_time": "2019-02-19T05:50:35.343399Z"
    }
   },
   "outputs": [],
   "source": [
    "X = df_final['consol_reviews']"
   ]
  },
  {
   "cell_type": "code",
   "execution_count": null,
   "metadata": {
    "ExecuteTime": {
     "end_time": "2018-09-17T21:35:46.246363Z",
     "start_time": "2018-09-17T21:35:46.225394Z"
    }
   },
   "outputs": [],
   "source": [
    "# Define a topic modeling engine for intensive modeling. \n",
    "# This can help test out models and identify optimal result.\n",
    "\n",
    "class TopicModelEngine:\n",
    "    \n",
    "    def __init__(self, raw_data):\n",
    "        self.raw_data = raw_data\n",
    "\n",
    "    def get_lemma(self, word):\n",
    "        \"\"\"\n",
    "        Get the root words\n",
    "        \"\"\"\n",
    "        try:\n",
    "            lemma = wn.morphy(word)\n",
    "        except:\n",
    "            lemma = word\n",
    "        return lemma\n",
    "            \n",
    "    def tokenize(self, text):\n",
    "        \"\"\"\n",
    "        This is to perform word tokenizing. It performs ngram (1,2)\n",
    "        \"\"\"\n",
    "        lda_tokens = []\n",
    "        text=text.strip().lower()\n",
    "\n",
    "        # Extract word portion out of sentence and excludes spaace\n",
    "        tokenizer = RegexpTokenizer(r'\\w+')\n",
    "        tokens = tokenizer.tokenize(text)\n",
    "        tokens = [token for token in tokens if (not token.isspace())]\n",
    "\n",
    "        for token in tokens:\n",
    "            lda_tokens.append(token)\n",
    "\n",
    "        # Extract bigrams for additional analysis\n",
    "        bigrams = ngrams(tokens, 2)\n",
    "\n",
    "        for bg, count in Counter(bigrams).most_common():\n",
    "            token_string = []\n",
    "            token_string = str(bg[0]) + \" \" + str(bg[1])\n",
    "            lda_tokens.append(token_string)\n",
    "\n",
    "        return lda_tokens\n",
    "    \n",
    "    def text_processing(self, sentence, stop_words):\n",
    "        \"\"\"\n",
    "        This is to break down text sentence into words, and \n",
    "        clean up the words to prepare for LDA modeling.\n",
    "        \"\"\"\n",
    "    \n",
    "        tokens = self.tokenize(sentence)\n",
    "        tokens = [word for word in tokens if len(tokens)>5]\n",
    "        tokens = [word for word in tokens if word.strip() not in stop_words]\n",
    "        tokens = [self.get_lemma(word) for word in tokens]\n",
    "\n",
    "        return tokens \n",
    "    \n",
    "    def LDA_preprocessing(self, stop_words):\n",
    "        \"\"\"\n",
    "        Provided with raw data, the proprocessing will automatically prepare and\n",
    "        clean up the data, and generate necessay documents for LDA's use.\n",
    "        \"\"\"\n",
    "        self.text_data = []\n",
    "\n",
    "        for line in self.raw_data:\n",
    "            tokens = self.text_processing(line, stop_words)\n",
    "            tokens=[token for token in tokens if token is not None]\n",
    "            self.text_data.append(tokens)\n",
    "        \n",
    "        # Create Dictionary\n",
    "        self.dictionary = corpora.Dictionary(self.text_data)\n",
    "        # Term Document Frequency\n",
    "        self.corpus = [self.dictionary.doc2bow(text) for text in self.text_data]\n",
    "\n",
    "    def LDA_model(self, num_of_topics, num_passes, stop_words):\n",
    "        \"\"\"\n",
    "        This is to perform topic modeling and save the model under the name\n",
    "        user provides\n",
    "        \"\"\"\n",
    "        self.LDA_preprocessing(stop_words)\n",
    "        num_topics = num_of_topics\n",
    "        self.lda = LdaModel(corpus=self.corpus,  \n",
    "                            num_topics=num_topics, \n",
    "                            id2word=self.dictionary, \n",
    "                            passes=num_passes) \n",
    "        \n",
    "        #self.lda_corpus = self.lda(self.corpus)\n",
    "        \n",
    "        #self.lda.save(file_name_to_save_as)\n",
    "        \n",
    "        return self.lda\n",
    "    \n",
    "    def print_topics(self, num_of_words):\n",
    "        \"\"\"\n",
    "        Print out topics for users's decision making. \n",
    "        User can specify number of words to print out\n",
    "        \"\"\"\n",
    "        topics = self.lda.print_topics(num_words=num_of_words)\n",
    "        for topic in topics:\n",
    "            print('Topic ' + str(topic[0]+1)+': '+str(topic[1]))\n",
    "            \n",
    "    def word_cloud(self, num_of_topics):\n",
    "        for topic in range(num_of_topics):\n",
    "            plt.figure(figsize=(14,8))\n",
    "            plt.imshow(WordCloud().fit_words(dict(self.lda.show_topic(topic, 200))))\n",
    "            plt.axis(\"off\")\n",
    "            plt.title(\"Topic #\" + str(topic))\n",
    "            plt.show()"
   ]
  },
  {
   "cell_type": "code",
   "execution_count": null,
   "metadata": {
    "ExecuteTime": {
     "end_time": "2018-09-17T21:35:47.854319Z",
     "start_time": "2018-09-17T21:35:47.846449Z"
    }
   },
   "outputs": [],
   "source": [
    "# Default stop_words\n",
    "stop_words = set(stopwords.words('English'))"
   ]
  },
  {
   "cell_type": "code",
   "execution_count": null,
   "metadata": {
    "ExecuteTime": {
     "end_time": "2018-09-17T22:10:27.740970Z",
     "start_time": "2018-09-17T22:10:27.730607Z"
    }
   },
   "outputs": [],
   "source": [
    "# This is to add additional words to default stop words\n",
    "# Additional words: through multiple iterations, addtional stop words were identified\n",
    "# Default stop: provided by nltk\n",
    "\n",
    "additional_words_to_exclude = set(['get', 'one', 'say', 'still', 'try', 'david', 'john',\n",
    "                                   'good', 'area', 'oakland','recommend', 'nice', 'la', 'area',\n",
    "                                   'also', 'thing', 'michael', 'stay', 'us', 'de', 'place', \n",
    "                                   'house', 'great','enjoy','tings', 'another','maybe','around',\n",
    "                                  'santa', 'perfect', 'love', 'well', 'feel', 'amaze', 'even',\n",
    "                                  'definitely', 'check', 'make', 'like', 'take', 'back', 'felt',\n",
    "                                  'really', 'need', 'highly', 'lovely'])"
   ]
  },
  {
   "cell_type": "code",
   "execution_count": null,
   "metadata": {
    "ExecuteTime": {
     "end_time": "2018-09-17T22:10:30.306561Z",
     "start_time": "2018-09-17T22:10:30.303174Z"
    }
   },
   "outputs": [],
   "source": [
    "# Add additional words to default stop words\n",
    "\n",
    "total_words_to_exclude = stop_words.union(additional_words_to_exclude)"
   ]
  },
  {
   "cell_type": "code",
   "execution_count": null,
   "metadata": {
    "ExecuteTime": {
     "end_time": "2018-09-17T22:14:56.833517Z",
     "start_time": "2018-09-17T22:10:32.049151Z"
    }
   },
   "outputs": [],
   "source": [
    "# Identify top 3 topics\n",
    "\n",
    "topics_3 = TopicModelEngine(X)\n",
    "lda_3 = topics_3.LDA_model(num_of_topics=3, \n",
    "                              num_passes=10,\n",
    "                              stop_words=total_words_to_exclude)\n",
    "topics_3.print_topics(num_of_words=10)"
   ]
  },
  {
   "cell_type": "code",
   "execution_count": null,
   "metadata": {
    "ExecuteTime": {
     "end_time": "2018-09-17T22:15:02.354435Z",
     "start_time": "2018-09-17T22:14:59.703214Z"
    }
   },
   "outputs": [],
   "source": [
    "topics_3.word_cloud(num_of_topics=3)"
   ]
  },
  {
   "cell_type": "code",
   "execution_count": null,
   "metadata": {
    "ExecuteTime": {
     "end_time": "2018-09-17T21:50:05.731161Z",
     "start_time": "2018-09-17T21:49:56.883078Z"
    }
   },
   "outputs": [],
   "source": [
    "# Find out topic for each individual review\n",
    "\n",
    "for i in lda_3.get_document_topics(topics_3.corpus):\n",
    "    print (i)"
   ]
  },
  {
   "cell_type": "code",
   "execution_count": null,
   "metadata": {
    "ExecuteTime": {
     "end_time": "2018-09-17T21:44:29.041681Z",
     "start_time": "2018-09-17T21:40:26.283797Z"
    }
   },
   "outputs": [],
   "source": [
    "# Identify top 5 topics\n",
    "\n",
    "topics_5 = TopicModelEngine(X)\n",
    "lda_5 = topics_5.LDA_model(num_of_topics=5, \n",
    "                              num_passes=10,\n",
    "                              stop_words=total_words_to_exclude)\n",
    "topics_5.print_topics(num_of_words=10)"
   ]
  },
  {
   "cell_type": "code",
   "execution_count": null,
   "metadata": {
    "ExecuteTime": {
     "end_time": "2018-09-17T21:44:33.497871Z",
     "start_time": "2018-09-17T21:44:30.907328Z"
    }
   },
   "outputs": [],
   "source": [
    "topics_5.word_cloud(num_of_topics=5)"
   ]
  },
  {
   "cell_type": "code",
   "execution_count": null,
   "metadata": {
    "ExecuteTime": {
     "end_time": "2018-09-17T21:48:34.711933Z",
     "start_time": "2018-09-17T21:44:35.072646Z"
    }
   },
   "outputs": [],
   "source": [
    "# Identify top 10 topics\n",
    "\n",
    "topics_10 = TopicModelEngine(X)\n",
    "lda_10 = topics_10.LDA_model(num_of_topics=10, \n",
    "                              num_passes=10,\n",
    "                              stop_words=total_words_to_exclude)\n",
    "topics_10.print_topics(num_of_words=10)"
   ]
  },
  {
   "cell_type": "code",
   "execution_count": null,
   "metadata": {
    "ExecuteTime": {
     "end_time": "2018-09-17T21:48:47.272773Z",
     "start_time": "2018-09-17T21:48:38.479229Z"
    }
   },
   "outputs": [],
   "source": [
    "topics_10.word_cloud(num_of_topics=10)"
   ]
  },
  {
   "cell_type": "code",
   "execution_count": null,
   "metadata": {},
   "outputs": [],
   "source": []
  }
 ],
 "metadata": {
  "kernelspec": {
   "display_name": "Python 3",
   "language": "python",
   "name": "python3"
  },
  "language_info": {
   "codemirror_mode": {
    "name": "ipython",
    "version": 3
   },
   "file_extension": ".py",
   "mimetype": "text/x-python",
   "name": "python",
   "nbconvert_exporter": "python",
   "pygments_lexer": "ipython3",
   "version": "3.6.6"
  },
  "toc": {
   "base_numbering": 1,
   "nav_menu": {},
   "number_sections": true,
   "sideBar": true,
   "skip_h1_title": false,
   "title_cell": "Table of Contents",
   "title_sidebar": "Contents",
   "toc_cell": false,
   "toc_position": {},
   "toc_section_display": true,
   "toc_window_display": true
  },
  "varInspector": {
   "cols": {
    "lenName": 16,
    "lenType": 16,
    "lenVar": 40
   },
   "kernels_config": {
    "python": {
     "delete_cmd_postfix": "",
     "delete_cmd_prefix": "del ",
     "library": "var_list.py",
     "varRefreshCmd": "print(var_dic_list())"
    },
    "r": {
     "delete_cmd_postfix": ") ",
     "delete_cmd_prefix": "rm(",
     "library": "var_list.r",
     "varRefreshCmd": "cat(var_dic_list()) "
    }
   },
   "types_to_exclude": [
    "module",
    "function",
    "builtin_function_or_method",
    "instance",
    "_Feature"
   ],
   "window_display": false
  }
 },
 "nbformat": 4,
 "nbformat_minor": 2
}
