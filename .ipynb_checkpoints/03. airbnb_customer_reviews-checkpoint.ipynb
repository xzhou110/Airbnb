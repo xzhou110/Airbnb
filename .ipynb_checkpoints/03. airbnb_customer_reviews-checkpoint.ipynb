{
 "cells": [
  {
   "cell_type": "markdown",
   "metadata": {
    "ExecuteTime": {
     "end_time": "2019-02-19T01:06:33.354803Z",
     "start_time": "2019-02-19T01:06:33.350458Z"
    }
   },
   "source": [
    "# Data Retrieval"
   ]
  },
  {
   "cell_type": "code",
   "execution_count": 1,
   "metadata": {
    "ExecuteTime": {
     "end_time": "2019-02-19T01:05:00.379403Z",
     "start_time": "2019-02-19T01:04:56.787349Z"
    }
   },
   "outputs": [
    {
     "name": "stdout",
     "output_type": "stream",
     "text": [
      "[nltk_data] Downloading package wordnet to /Users/xzhou/nltk_data...\n",
      "[nltk_data]   Package wordnet is already up-to-date!\n",
      "[nltk_data] Downloading package stopwords to /Users/xzhou/nltk_data...\n",
      "[nltk_data]   Package stopwords is already up-to-date!\n"
     ]
    }
   ],
   "source": [
    "import pandas as pd\n",
    "import csv\n",
    "import statsmodels.api as sm\n",
    "from datetime import datetime\n",
    "import matplotlib.pyplot as plt\n",
    "import numpy as np\n",
    "import json\n",
    "import pandas as pd\n",
    "import itertools\n",
    "import csv\n",
    "import string\n",
    "import pickle\n",
    "import matplotlib.pyplot as plt\n",
    "\n",
    "from collections import Counter\n",
    "import re\n",
    "import spacy\n",
    "import nltk\n",
    "from spacy.lang.en import English\n",
    "from nltk.util import ngrams\n",
    "from nltk.corpus import wordnet as wn\n",
    "from nltk.corpus import stopwords\n",
    "from nltk.stem.wordnet import WordNetLemmatizer\n",
    "from nltk.tokenize import word_tokenize\n",
    "from nltk.tokenize import RegexpTokenizer\n",
    "from wordcloud import WordCloud\n",
    "import gensim\n",
    "from gensim import corpora\n",
    "from gensim.models.ldamodel import LdaModel\n",
    "nltk.download('wordnet')\n",
    "nltk.download('stopwords')\n",
    "\n",
    "from sklearn import datasets, linear_model\n",
    "from sklearn.metrics import mean_squared_error, r2_score\n",
    "from sklearn.preprocessing import StandardScaler\n",
    "from sklearn.model_selection import train_test_split\n",
    "from sklearn.cluster import KMeans\n",
    "from sklearn.feature_extraction.text import CountVectorizer, TfidfVectorizer\n",
    "from sklearn.decomposition import NMF, TruncatedSVD\n",
    "from sklearn.decomposition import PCA\n",
    "from sklearn.model_selection import train_test_split\n",
    "from sklearn.metrics import silhouette_score"
   ]
  },
  {
   "cell_type": "code",
   "execution_count": 2,
   "metadata": {
    "ExecuteTime": {
     "end_time": "2019-02-19T01:05:07.102081Z",
     "start_time": "2019-02-19T01:05:07.098277Z"
    }
   },
   "outputs": [],
   "source": [
    "file_url = '/Users/xzhou/github/project_archives/files_airbnb/{}.csv'\n",
    "\n",
    "sf_file = file_url.format('sf_airbnb/reviews')\n",
    "ok_file = file_url.format('ok_airbnb/reviews')\n",
    "sc_file = file_url.format('sc_airbnb/reviews')"
   ]
  },
  {
   "cell_type": "code",
   "execution_count": 3,
   "metadata": {
    "ExecuteTime": {
     "end_time": "2019-02-19T01:05:10.646426Z",
     "start_time": "2019-02-19T01:05:08.360809Z"
    }
   },
   "outputs": [],
   "source": [
    "reviews_sf = pd.read_csv(sf_file)\n",
    "reviews_ok = pd.read_csv(ok_file)\n",
    "reviews_sc = pd.read_csv(sc_file)"
   ]
  },
  {
   "cell_type": "code",
   "execution_count": 4,
   "metadata": {
    "ExecuteTime": {
     "end_time": "2019-02-19T01:05:18.931091Z",
     "start_time": "2019-02-19T01:05:18.926067Z"
    }
   },
   "outputs": [
    {
     "name": "stdout",
     "output_type": "stream",
     "text": [
      "(278884, 6) (78491, 6) (135238, 6)\n"
     ]
    }
   ],
   "source": [
    "print (reviews_sf.shape, reviews_ok.shape, reviews_sc.shape)"
   ]
  },
  {
   "cell_type": "code",
   "execution_count": 5,
   "metadata": {
    "ExecuteTime": {
     "end_time": "2019-02-19T01:05:47.595316Z",
     "start_time": "2019-02-19T01:05:47.591989Z"
    }
   },
   "outputs": [],
   "source": [
    "frames = [reviews_sf, reviews_ok, reviews_sc]\n",
    "keys = ['reviews_sf', 'reviews_ok', 'reviews_sc']"
   ]
  },
  {
   "cell_type": "code",
   "execution_count": 6,
   "metadata": {
    "ExecuteTime": {
     "end_time": "2019-02-19T01:05:49.304976Z",
     "start_time": "2019-02-19T01:05:49.102814Z"
    }
   },
   "outputs": [
    {
     "data": {
      "text/html": [
       "<div>\n",
       "<style scoped>\n",
       "    .dataframe tbody tr th:only-of-type {\n",
       "        vertical-align: middle;\n",
       "    }\n",
       "\n",
       "    .dataframe tbody tr th {\n",
       "        vertical-align: top;\n",
       "    }\n",
       "\n",
       "    .dataframe thead th {\n",
       "        text-align: right;\n",
       "    }\n",
       "</style>\n",
       "<table border=\"1\" class=\"dataframe\">\n",
       "  <thead>\n",
       "    <tr style=\"text-align: right;\">\n",
       "      <th></th>\n",
       "      <th></th>\n",
       "      <th>listing_id</th>\n",
       "      <th>id</th>\n",
       "      <th>date</th>\n",
       "      <th>reviewer_id</th>\n",
       "      <th>reviewer_name</th>\n",
       "      <th>comments</th>\n",
       "    </tr>\n",
       "  </thead>\n",
       "  <tbody>\n",
       "    <tr>\n",
       "      <th rowspan=\"10\" valign=\"top\">reviews_sf</th>\n",
       "      <th>0</th>\n",
       "      <td>958</td>\n",
       "      <td>5977</td>\n",
       "      <td>2009-07-23</td>\n",
       "      <td>15695</td>\n",
       "      <td>Edmund C</td>\n",
       "      <td>Our experience was, without a doubt, a five st...</td>\n",
       "    </tr>\n",
       "    <tr>\n",
       "      <th>1</th>\n",
       "      <td>958</td>\n",
       "      <td>6660</td>\n",
       "      <td>2009-08-03</td>\n",
       "      <td>26145</td>\n",
       "      <td>Simon</td>\n",
       "      <td>Returning to San Francisco is a rejuvenating t...</td>\n",
       "    </tr>\n",
       "    <tr>\n",
       "      <th>2</th>\n",
       "      <td>958</td>\n",
       "      <td>11519</td>\n",
       "      <td>2009-09-27</td>\n",
       "      <td>25839</td>\n",
       "      <td>Denis</td>\n",
       "      <td>We were very pleased with the accommodations a...</td>\n",
       "    </tr>\n",
       "    <tr>\n",
       "      <th>3</th>\n",
       "      <td>958</td>\n",
       "      <td>16282</td>\n",
       "      <td>2009-11-05</td>\n",
       "      <td>33750</td>\n",
       "      <td>Anna</td>\n",
       "      <td>We highly recommend this accomodation and agre...</td>\n",
       "    </tr>\n",
       "    <tr>\n",
       "      <th>4</th>\n",
       "      <td>958</td>\n",
       "      <td>26008</td>\n",
       "      <td>2010-02-13</td>\n",
       "      <td>15416</td>\n",
       "      <td>Venetia</td>\n",
       "      <td>Holly's place was great. It was exactly what I...</td>\n",
       "    </tr>\n",
       "    <tr>\n",
       "      <th>5</th>\n",
       "      <td>958</td>\n",
       "      <td>29240</td>\n",
       "      <td>2010-03-13</td>\n",
       "      <td>78623</td>\n",
       "      <td>Mathieu</td>\n",
       "      <td>On top of all that has been said previously, I...</td>\n",
       "    </tr>\n",
       "    <tr>\n",
       "      <th>6</th>\n",
       "      <td>958</td>\n",
       "      <td>32988</td>\n",
       "      <td>2010-04-03</td>\n",
       "      <td>96027</td>\n",
       "      <td>Lauren</td>\n",
       "      <td>This apartment was everything I could have hop...</td>\n",
       "    </tr>\n",
       "    <tr>\n",
       "      <th>7</th>\n",
       "      <td>958</td>\n",
       "      <td>220443</td>\n",
       "      <td>2011-04-08</td>\n",
       "      <td>426888</td>\n",
       "      <td>Michelle</td>\n",
       "      <td>Great place to stay.  I would highly recommend...</td>\n",
       "    </tr>\n",
       "    <tr>\n",
       "      <th>8</th>\n",
       "      <td>958</td>\n",
       "      <td>567690</td>\n",
       "      <td>2011-09-26</td>\n",
       "      <td>539189</td>\n",
       "      <td>Sarah</td>\n",
       "      <td>Great location in San Francisco, really felt l...</td>\n",
       "    </tr>\n",
       "    <tr>\n",
       "      <th>9</th>\n",
       "      <td>958</td>\n",
       "      <td>1786860</td>\n",
       "      <td>2012-07-24</td>\n",
       "      <td>2059845</td>\n",
       "      <td>Jörg</td>\n",
       "      <td>We had a wonderful time at Holly &amp; Davids plac...</td>\n",
       "    </tr>\n",
       "  </tbody>\n",
       "</table>\n",
       "</div>"
      ],
      "text/plain": [
       "              listing_id       id        date  reviewer_id reviewer_name  \\\n",
       "reviews_sf 0         958     5977  2009-07-23        15695      Edmund C   \n",
       "           1         958     6660  2009-08-03        26145         Simon   \n",
       "           2         958    11519  2009-09-27        25839         Denis   \n",
       "           3         958    16282  2009-11-05        33750          Anna   \n",
       "           4         958    26008  2010-02-13        15416       Venetia   \n",
       "           5         958    29240  2010-03-13        78623       Mathieu   \n",
       "           6         958    32988  2010-04-03        96027        Lauren   \n",
       "           7         958   220443  2011-04-08       426888      Michelle   \n",
       "           8         958   567690  2011-09-26       539189         Sarah   \n",
       "           9         958  1786860  2012-07-24      2059845          Jörg   \n",
       "\n",
       "                                                       comments  \n",
       "reviews_sf 0  Our experience was, without a doubt, a five st...  \n",
       "           1  Returning to San Francisco is a rejuvenating t...  \n",
       "           2  We were very pleased with the accommodations a...  \n",
       "           3  We highly recommend this accomodation and agre...  \n",
       "           4  Holly's place was great. It was exactly what I...  \n",
       "           5  On top of all that has been said previously, I...  \n",
       "           6  This apartment was everything I could have hop...  \n",
       "           7  Great place to stay.  I would highly recommend...  \n",
       "           8  Great location in San Francisco, really felt l...  \n",
       "           9  We had a wonderful time at Holly & Davids plac...  "
      ]
     },
     "execution_count": 6,
     "metadata": {},
     "output_type": "execute_result"
    }
   ],
   "source": [
    "df_reviews = pd.concat(frames, keys=keys)\n",
    "df_reviews.head(10)"
   ]
  },
  {
   "cell_type": "markdown",
   "metadata": {},
   "source": [
    "# Data Exploration"
   ]
  },
  {
   "cell_type": "markdown",
   "metadata": {},
   "source": [
    "## Smaller Set of Features"
   ]
  },
  {
   "cell_type": "code",
   "execution_count": 8,
   "metadata": {
    "ExecuteTime": {
     "end_time": "2019-02-19T01:08:05.400253Z",
     "start_time": "2019-02-19T01:08:05.393023Z"
    },
    "scrolled": true
   },
   "outputs": [
    {
     "data": {
      "text/plain": [
       "Index(['listing_id', 'id', 'date', 'reviewer_id', 'reviewer_name', 'comments'], dtype='object')"
      ]
     },
     "execution_count": 8,
     "metadata": {},
     "output_type": "execute_result"
    }
   ],
   "source": [
    "df_reviews.columns"
   ]
  },
  {
   "cell_type": "code",
   "execution_count": 9,
   "metadata": {
    "ExecuteTime": {
     "end_time": "2019-02-19T01:08:52.194333Z",
     "start_time": "2019-02-19T01:08:52.001805Z"
    }
   },
   "outputs": [],
   "source": [
    "columns_to_drop=['id', 'date', 'reviewer_id', 'reviewer_name']\n",
    "df_reviews.drop(columns_to_drop, axis=1, inplace=True)"
   ]
  },
  {
   "cell_type": "markdown",
   "metadata": {},
   "source": [
    "## Null Value"
   ]
  },
  {
   "cell_type": "code",
   "execution_count": 10,
   "metadata": {
    "ExecuteTime": {
     "end_time": "2019-02-19T01:09:17.704322Z",
     "start_time": "2019-02-19T01:09:17.563871Z"
    }
   },
   "outputs": [],
   "source": [
    "# Drop Null values in reviews\n",
    "\n",
    "df_reviews.dropna(inplace=True)"
   ]
  },
  {
   "cell_type": "code",
   "execution_count": 11,
   "metadata": {
    "ExecuteTime": {
     "end_time": "2019-02-19T01:09:17.975119Z",
     "start_time": "2019-02-19T01:09:17.966726Z"
    }
   },
   "outputs": [
    {
     "data": {
      "text/plain": [
       "(492150, 2)"
      ]
     },
     "execution_count": 11,
     "metadata": {},
     "output_type": "execute_result"
    }
   ],
   "source": [
    "df_reviews.shape"
   ]
  },
  {
   "cell_type": "markdown",
   "metadata": {
    "ExecuteTime": {
     "end_time": "2019-02-19T01:19:28.728188Z",
     "start_time": "2019-02-19T01:19:28.725511Z"
    }
   },
   "source": [
    "## Pull the rating of aprtments"
   ]
  },
  {
   "cell_type": "code",
   "execution_count": 25,
   "metadata": {
    "ExecuteTime": {
     "end_time": "2019-02-19T01:38:40.257661Z",
     "start_time": "2019-02-19T01:38:40.213735Z"
    }
   },
   "outputs": [
    {
     "data": {
      "text/html": [
       "<div>\n",
       "<style scoped>\n",
       "    .dataframe tbody tr th:only-of-type {\n",
       "        vertical-align: middle;\n",
       "    }\n",
       "\n",
       "    .dataframe tbody tr th {\n",
       "        vertical-align: top;\n",
       "    }\n",
       "\n",
       "    .dataframe thead th {\n",
       "        text-align: right;\n",
       "    }\n",
       "</style>\n",
       "<table border=\"1\" class=\"dataframe\">\n",
       "  <thead>\n",
       "    <tr style=\"text-align: right;\">\n",
       "      <th></th>\n",
       "      <th>id</th>\n",
       "      <th>host_yrs</th>\n",
       "      <th>host_response_rate</th>\n",
       "      <th>host_listings_count</th>\n",
       "      <th>accommodates</th>\n",
       "      <th>bathrooms</th>\n",
       "      <th>bedrooms</th>\n",
       "      <th>beds</th>\n",
       "      <th>price</th>\n",
       "      <th>security_deposit</th>\n",
       "      <th>...</th>\n",
       "      <th>amenities_Shampoo</th>\n",
       "      <th>amenities_Single level home</th>\n",
       "      <th>amenities_Smoke detector</th>\n",
       "      <th>amenities_Stepfree access</th>\n",
       "      <th>amenities_TV</th>\n",
       "      <th>amenities_Wifi</th>\n",
       "      <th>amenities_translation missing enhosting_amenity_49</th>\n",
       "      <th>amenities_translation missing enhosting_amenity_50</th>\n",
       "      <th>ref_district</th>\n",
       "      <th>ref_jurisdiction</th>\n",
       "    </tr>\n",
       "  </thead>\n",
       "  <tbody>\n",
       "    <tr>\n",
       "      <th>0</th>\n",
       "      <td>958</td>\n",
       "      <td>12</td>\n",
       "      <td>0.92</td>\n",
       "      <td>1</td>\n",
       "      <td>3</td>\n",
       "      <td>1.0</td>\n",
       "      <td>1.0</td>\n",
       "      <td>2.0</td>\n",
       "      <td>5.135798</td>\n",
       "      <td>1</td>\n",
       "      <td>...</td>\n",
       "      <td>1</td>\n",
       "      <td>0</td>\n",
       "      <td>1</td>\n",
       "      <td>0</td>\n",
       "      <td>1</td>\n",
       "      <td>1</td>\n",
       "      <td>0</td>\n",
       "      <td>0</td>\n",
       "      <td>San Francisco</td>\n",
       "      <td>SAN FRANCISCO</td>\n",
       "    </tr>\n",
       "    <tr>\n",
       "      <th>1</th>\n",
       "      <td>5858</td>\n",
       "      <td>11</td>\n",
       "      <td>1.00</td>\n",
       "      <td>2</td>\n",
       "      <td>5</td>\n",
       "      <td>1.0</td>\n",
       "      <td>2.0</td>\n",
       "      <td>3.0</td>\n",
       "      <td>5.459586</td>\n",
       "      <td>1</td>\n",
       "      <td>...</td>\n",
       "      <td>1</td>\n",
       "      <td>0</td>\n",
       "      <td>1</td>\n",
       "      <td>0</td>\n",
       "      <td>0</td>\n",
       "      <td>1</td>\n",
       "      <td>0</td>\n",
       "      <td>0</td>\n",
       "      <td>San Francisco</td>\n",
       "      <td>SAN FRANCISCO</td>\n",
       "    </tr>\n",
       "    <tr>\n",
       "      <th>2</th>\n",
       "      <td>7918</td>\n",
       "      <td>11</td>\n",
       "      <td>1.00</td>\n",
       "      <td>10</td>\n",
       "      <td>2</td>\n",
       "      <td>4.0</td>\n",
       "      <td>1.0</td>\n",
       "      <td>1.0</td>\n",
       "      <td>4.174387</td>\n",
       "      <td>1</td>\n",
       "      <td>...</td>\n",
       "      <td>0</td>\n",
       "      <td>0</td>\n",
       "      <td>1</td>\n",
       "      <td>0</td>\n",
       "      <td>1</td>\n",
       "      <td>1</td>\n",
       "      <td>1</td>\n",
       "      <td>1</td>\n",
       "      <td>San Francisco</td>\n",
       "      <td>SAN FRANCISCO</td>\n",
       "    </tr>\n",
       "    <tr>\n",
       "      <th>3</th>\n",
       "      <td>8142</td>\n",
       "      <td>11</td>\n",
       "      <td>1.00</td>\n",
       "      <td>10</td>\n",
       "      <td>2</td>\n",
       "      <td>4.0</td>\n",
       "      <td>1.0</td>\n",
       "      <td>1.0</td>\n",
       "      <td>4.174387</td>\n",
       "      <td>1</td>\n",
       "      <td>...</td>\n",
       "      <td>0</td>\n",
       "      <td>0</td>\n",
       "      <td>1</td>\n",
       "      <td>0</td>\n",
       "      <td>1</td>\n",
       "      <td>1</td>\n",
       "      <td>0</td>\n",
       "      <td>0</td>\n",
       "      <td>San Francisco</td>\n",
       "      <td>SAN FRANCISCO</td>\n",
       "    </tr>\n",
       "    <tr>\n",
       "      <th>4</th>\n",
       "      <td>8567</td>\n",
       "      <td>11</td>\n",
       "      <td>0.80</td>\n",
       "      <td>1</td>\n",
       "      <td>6</td>\n",
       "      <td>1.0</td>\n",
       "      <td>2.0</td>\n",
       "      <td>3.0</td>\n",
       "      <td>5.541264</td>\n",
       "      <td>0</td>\n",
       "      <td>...</td>\n",
       "      <td>1</td>\n",
       "      <td>0</td>\n",
       "      <td>1</td>\n",
       "      <td>0</td>\n",
       "      <td>1</td>\n",
       "      <td>1</td>\n",
       "      <td>0</td>\n",
       "      <td>0</td>\n",
       "      <td>San Francisco</td>\n",
       "      <td>SAN FRANCISCO</td>\n",
       "    </tr>\n",
       "  </tbody>\n",
       "</table>\n",
       "<p>5 rows × 314 columns</p>\n",
       "</div>"
      ],
      "text/plain": [
       "     id  host_yrs  host_response_rate  host_listings_count  accommodates  \\\n",
       "0   958        12                0.92                    1             3   \n",
       "1  5858        11                1.00                    2             5   \n",
       "2  7918        11                1.00                   10             2   \n",
       "3  8142        11                1.00                   10             2   \n",
       "4  8567        11                0.80                    1             6   \n",
       "\n",
       "   bathrooms  bedrooms  beds     price  security_deposit        ...         \\\n",
       "0        1.0       1.0   2.0  5.135798                 1        ...          \n",
       "1        1.0       2.0   3.0  5.459586                 1        ...          \n",
       "2        4.0       1.0   1.0  4.174387                 1        ...          \n",
       "3        4.0       1.0   1.0  4.174387                 1        ...          \n",
       "4        1.0       2.0   3.0  5.541264                 0        ...          \n",
       "\n",
       "   amenities_Shampoo  amenities_Single level home  amenities_Smoke detector  \\\n",
       "0                  1                            0                         1   \n",
       "1                  1                            0                         1   \n",
       "2                  0                            0                         1   \n",
       "3                  0                            0                         1   \n",
       "4                  1                            0                         1   \n",
       "\n",
       "   amenities_Stepfree access  amenities_TV  amenities_Wifi  \\\n",
       "0                          0             1               1   \n",
       "1                          0             0               1   \n",
       "2                          0             1               1   \n",
       "3                          0             1               1   \n",
       "4                          0             1               1   \n",
       "\n",
       "   amenities_translation missing enhosting_amenity_49  \\\n",
       "0                                                  0    \n",
       "1                                                  0    \n",
       "2                                                  1    \n",
       "3                                                  0    \n",
       "4                                                  0    \n",
       "\n",
       "   amenities_translation missing enhosting_amenity_50   ref_district  \\\n",
       "0                                                  0   San Francisco   \n",
       "1                                                  0   San Francisco   \n",
       "2                                                  1   San Francisco   \n",
       "3                                                  0   San Francisco   \n",
       "4                                                  0   San Francisco   \n",
       "\n",
       "   ref_jurisdiction  \n",
       "0     SAN FRANCISCO  \n",
       "1     SAN FRANCISCO  \n",
       "2     SAN FRANCISCO  \n",
       "3     SAN FRANCISCO  \n",
       "4     SAN FRANCISCO  \n",
       "\n",
       "[5 rows x 314 columns]"
      ]
     },
     "execution_count": 25,
     "metadata": {},
     "output_type": "execute_result"
    }
   ],
   "source": [
    "# Pull the datasets from last step, which includes the ratings of apartment\n",
    "\n",
    "pkl_file = '/Users/xzhou/github/project_archives/files_airbnb/{}.pkl'\n",
    "\n",
    "pkl_path = pkl_file.format('df_listings_selected_features')\n",
    "\n",
    "df_listings = pd.read_pickle(pkl_path)\n",
    "df_listings.head()"
   ]
  },
  {
   "cell_type": "code",
   "execution_count": 26,
   "metadata": {
    "ExecuteTime": {
     "end_time": "2019-02-19T01:38:50.194096Z",
     "start_time": "2019-02-19T01:38:50.188995Z"
    }
   },
   "outputs": [
    {
     "data": {
      "text/plain": [
       "(9062, 314)"
      ]
     },
     "execution_count": 26,
     "metadata": {},
     "output_type": "execute_result"
    }
   ],
   "source": [
    "df_listings.shape"
   ]
  },
  {
   "cell_type": "code",
   "execution_count": 27,
   "metadata": {
    "ExecuteTime": {
     "end_time": "2019-02-19T01:39:00.508267Z",
     "start_time": "2019-02-19T01:39:00.501769Z"
    }
   },
   "outputs": [
    {
     "data": {
      "text/plain": [
       "9062"
      ]
     },
     "execution_count": 27,
     "metadata": {},
     "output_type": "execute_result"
    }
   ],
   "source": [
    "# Get a list of unique IDs. This is to narrow down reviews that need to analyze\n",
    "\n",
    "listing_id_interested = df_listings.id.unique()\n",
    "len(listing_id_interested)"
   ]
  },
  {
   "cell_type": "code",
   "execution_count": 28,
   "metadata": {
    "ExecuteTime": {
     "end_time": "2019-02-19T01:39:15.555806Z",
     "start_time": "2019-02-19T01:39:15.482207Z"
    }
   },
   "outputs": [],
   "source": [
    "# Filter to smaller datasets for analysis\n",
    "\n",
    "df_reviews = df_reviews[df_reviews['listing_id'].isin(listing_id_interested)]"
   ]
  },
  {
   "cell_type": "code",
   "execution_count": 29,
   "metadata": {
    "ExecuteTime": {
     "end_time": "2019-02-19T01:39:16.637792Z",
     "start_time": "2019-02-19T01:39:16.629845Z"
    }
   },
   "outputs": [
    {
     "data": {
      "text/plain": [
       "(395108, 2)"
      ]
     },
     "execution_count": 29,
     "metadata": {},
     "output_type": "execute_result"
    }
   ],
   "source": [
    "df_reviews.shape"
   ]
  },
  {
   "cell_type": "code",
   "execution_count": 24,
   "metadata": {
    "ExecuteTime": {
     "end_time": "2019-02-19T01:37:23.352066Z",
     "start_time": "2019-02-19T01:37:23.345956Z"
    }
   },
   "outputs": [
    {
     "data": {
      "text/plain": [
       "Index(['listing_id', 'comments'], dtype='object')"
      ]
     },
     "execution_count": 24,
     "metadata": {},
     "output_type": "execute_result"
    }
   ],
   "source": [
    "df_reviews.columns"
   ]
  },
  {
   "cell_type": "code",
   "execution_count": 30,
   "metadata": {
    "ExecuteTime": {
     "end_time": "2019-02-19T01:39:52.686429Z",
     "start_time": "2019-02-19T01:39:50.834039Z"
    },
    "scrolled": true
   },
   "outputs": [
    {
     "data": {
      "text/html": [
       "<div>\n",
       "<style scoped>\n",
       "    .dataframe tbody tr th:only-of-type {\n",
       "        vertical-align: middle;\n",
       "    }\n",
       "\n",
       "    .dataframe tbody tr th {\n",
       "        vertical-align: top;\n",
       "    }\n",
       "\n",
       "    .dataframe thead th {\n",
       "        text-align: right;\n",
       "    }\n",
       "</style>\n",
       "<table border=\"1\" class=\"dataframe\">\n",
       "  <thead>\n",
       "    <tr style=\"text-align: right;\">\n",
       "      <th></th>\n",
       "      <th>listing_id</th>\n",
       "      <th>comments</th>\n",
       "      <th>id</th>\n",
       "      <th>host_yrs</th>\n",
       "      <th>host_response_rate</th>\n",
       "      <th>host_listings_count</th>\n",
       "      <th>accommodates</th>\n",
       "      <th>bathrooms</th>\n",
       "      <th>bedrooms</th>\n",
       "      <th>beds</th>\n",
       "      <th>...</th>\n",
       "      <th>amenities_Shampoo</th>\n",
       "      <th>amenities_Single level home</th>\n",
       "      <th>amenities_Smoke detector</th>\n",
       "      <th>amenities_Stepfree access</th>\n",
       "      <th>amenities_TV</th>\n",
       "      <th>amenities_Wifi</th>\n",
       "      <th>amenities_translation missing enhosting_amenity_49</th>\n",
       "      <th>amenities_translation missing enhosting_amenity_50</th>\n",
       "      <th>ref_district</th>\n",
       "      <th>ref_jurisdiction</th>\n",
       "    </tr>\n",
       "  </thead>\n",
       "  <tbody>\n",
       "    <tr>\n",
       "      <th>0</th>\n",
       "      <td>958</td>\n",
       "      <td>Our experience was, without a doubt, a five st...</td>\n",
       "      <td>958</td>\n",
       "      <td>12</td>\n",
       "      <td>0.92</td>\n",
       "      <td>1</td>\n",
       "      <td>3</td>\n",
       "      <td>1.0</td>\n",
       "      <td>1.0</td>\n",
       "      <td>2.0</td>\n",
       "      <td>...</td>\n",
       "      <td>1</td>\n",
       "      <td>0</td>\n",
       "      <td>1</td>\n",
       "      <td>0</td>\n",
       "      <td>1</td>\n",
       "      <td>1</td>\n",
       "      <td>0</td>\n",
       "      <td>0</td>\n",
       "      <td>San Francisco</td>\n",
       "      <td>SAN FRANCISCO</td>\n",
       "    </tr>\n",
       "    <tr>\n",
       "      <th>1</th>\n",
       "      <td>958</td>\n",
       "      <td>Returning to San Francisco is a rejuvenating t...</td>\n",
       "      <td>958</td>\n",
       "      <td>12</td>\n",
       "      <td>0.92</td>\n",
       "      <td>1</td>\n",
       "      <td>3</td>\n",
       "      <td>1.0</td>\n",
       "      <td>1.0</td>\n",
       "      <td>2.0</td>\n",
       "      <td>...</td>\n",
       "      <td>1</td>\n",
       "      <td>0</td>\n",
       "      <td>1</td>\n",
       "      <td>0</td>\n",
       "      <td>1</td>\n",
       "      <td>1</td>\n",
       "      <td>0</td>\n",
       "      <td>0</td>\n",
       "      <td>San Francisco</td>\n",
       "      <td>SAN FRANCISCO</td>\n",
       "    </tr>\n",
       "    <tr>\n",
       "      <th>2</th>\n",
       "      <td>958</td>\n",
       "      <td>We were very pleased with the accommodations a...</td>\n",
       "      <td>958</td>\n",
       "      <td>12</td>\n",
       "      <td>0.92</td>\n",
       "      <td>1</td>\n",
       "      <td>3</td>\n",
       "      <td>1.0</td>\n",
       "      <td>1.0</td>\n",
       "      <td>2.0</td>\n",
       "      <td>...</td>\n",
       "      <td>1</td>\n",
       "      <td>0</td>\n",
       "      <td>1</td>\n",
       "      <td>0</td>\n",
       "      <td>1</td>\n",
       "      <td>1</td>\n",
       "      <td>0</td>\n",
       "      <td>0</td>\n",
       "      <td>San Francisco</td>\n",
       "      <td>SAN FRANCISCO</td>\n",
       "    </tr>\n",
       "    <tr>\n",
       "      <th>3</th>\n",
       "      <td>958</td>\n",
       "      <td>We highly recommend this accomodation and agre...</td>\n",
       "      <td>958</td>\n",
       "      <td>12</td>\n",
       "      <td>0.92</td>\n",
       "      <td>1</td>\n",
       "      <td>3</td>\n",
       "      <td>1.0</td>\n",
       "      <td>1.0</td>\n",
       "      <td>2.0</td>\n",
       "      <td>...</td>\n",
       "      <td>1</td>\n",
       "      <td>0</td>\n",
       "      <td>1</td>\n",
       "      <td>0</td>\n",
       "      <td>1</td>\n",
       "      <td>1</td>\n",
       "      <td>0</td>\n",
       "      <td>0</td>\n",
       "      <td>San Francisco</td>\n",
       "      <td>SAN FRANCISCO</td>\n",
       "    </tr>\n",
       "    <tr>\n",
       "      <th>4</th>\n",
       "      <td>958</td>\n",
       "      <td>Holly's place was great. It was exactly what I...</td>\n",
       "      <td>958</td>\n",
       "      <td>12</td>\n",
       "      <td>0.92</td>\n",
       "      <td>1</td>\n",
       "      <td>3</td>\n",
       "      <td>1.0</td>\n",
       "      <td>1.0</td>\n",
       "      <td>2.0</td>\n",
       "      <td>...</td>\n",
       "      <td>1</td>\n",
       "      <td>0</td>\n",
       "      <td>1</td>\n",
       "      <td>0</td>\n",
       "      <td>1</td>\n",
       "      <td>1</td>\n",
       "      <td>0</td>\n",
       "      <td>0</td>\n",
       "      <td>San Francisco</td>\n",
       "      <td>SAN FRANCISCO</td>\n",
       "    </tr>\n",
       "  </tbody>\n",
       "</table>\n",
       "<p>5 rows × 316 columns</p>\n",
       "</div>"
      ],
      "text/plain": [
       "   listing_id                                           comments   id  \\\n",
       "0         958  Our experience was, without a doubt, a five st...  958   \n",
       "1         958  Returning to San Francisco is a rejuvenating t...  958   \n",
       "2         958  We were very pleased with the accommodations a...  958   \n",
       "3         958  We highly recommend this accomodation and agre...  958   \n",
       "4         958  Holly's place was great. It was exactly what I...  958   \n",
       "\n",
       "   host_yrs  host_response_rate  host_listings_count  accommodates  bathrooms  \\\n",
       "0        12                0.92                    1             3        1.0   \n",
       "1        12                0.92                    1             3        1.0   \n",
       "2        12                0.92                    1             3        1.0   \n",
       "3        12                0.92                    1             3        1.0   \n",
       "4        12                0.92                    1             3        1.0   \n",
       "\n",
       "   bedrooms  beds        ...         amenities_Shampoo  \\\n",
       "0       1.0   2.0        ...                         1   \n",
       "1       1.0   2.0        ...                         1   \n",
       "2       1.0   2.0        ...                         1   \n",
       "3       1.0   2.0        ...                         1   \n",
       "4       1.0   2.0        ...                         1   \n",
       "\n",
       "   amenities_Single level home  amenities_Smoke detector  \\\n",
       "0                            0                         1   \n",
       "1                            0                         1   \n",
       "2                            0                         1   \n",
       "3                            0                         1   \n",
       "4                            0                         1   \n",
       "\n",
       "   amenities_Stepfree access  amenities_TV  amenities_Wifi  \\\n",
       "0                          0             1               1   \n",
       "1                          0             1               1   \n",
       "2                          0             1               1   \n",
       "3                          0             1               1   \n",
       "4                          0             1               1   \n",
       "\n",
       "   amenities_translation missing enhosting_amenity_49  \\\n",
       "0                                                  0    \n",
       "1                                                  0    \n",
       "2                                                  0    \n",
       "3                                                  0    \n",
       "4                                                  0    \n",
       "\n",
       "   amenities_translation missing enhosting_amenity_50   ref_district  \\\n",
       "0                                                  0   San Francisco   \n",
       "1                                                  0   San Francisco   \n",
       "2                                                  0   San Francisco   \n",
       "3                                                  0   San Francisco   \n",
       "4                                                  0   San Francisco   \n",
       "\n",
       "   ref_jurisdiction  \n",
       "0     SAN FRANCISCO  \n",
       "1     SAN FRANCISCO  \n",
       "2     SAN FRANCISCO  \n",
       "3     SAN FRANCISCO  \n",
       "4     SAN FRANCISCO  \n",
       "\n",
       "[5 rows x 316 columns]"
      ]
     },
     "execution_count": 30,
     "metadata": {},
     "output_type": "execute_result"
    }
   ],
   "source": [
    "df_listings_reviews = pd.merge(left = df_reviews, \n",
    "                               right = df_listings,\n",
    "                               how = 'inner',\n",
    "                               left_on='listing_id', \n",
    "                               right_on='id')\n",
    "df_listings_reviews.head()"
   ]
  },
  {
   "cell_type": "code",
   "execution_count": 39,
   "metadata": {
    "ExecuteTime": {
     "end_time": "2019-02-19T01:48:55.429808Z",
     "start_time": "2019-02-19T01:48:55.421990Z"
    }
   },
   "outputs": [
    {
     "data": {
      "text/plain": [
       "0          97.0\n",
       "1          97.0\n",
       "2          97.0\n",
       "3          97.0\n",
       "4          97.0\n",
       "5          97.0\n",
       "6          97.0\n",
       "7          97.0\n",
       "8          97.0\n",
       "9          97.0\n",
       "10         97.0\n",
       "11         97.0\n",
       "12         97.0\n",
       "13         97.0\n",
       "14         97.0\n",
       "15         97.0\n",
       "16         97.0\n",
       "17         97.0\n",
       "18         97.0\n",
       "19         97.0\n",
       "20         97.0\n",
       "21         97.0\n",
       "22         97.0\n",
       "23         97.0\n",
       "24         97.0\n",
       "25         97.0\n",
       "26         97.0\n",
       "27         97.0\n",
       "28         97.0\n",
       "29         97.0\n",
       "          ...  \n",
       "395078    100.0\n",
       "395079    100.0\n",
       "395080    100.0\n",
       "395081    100.0\n",
       "395082    100.0\n",
       "395083    100.0\n",
       "395084    100.0\n",
       "395085    100.0\n",
       "395086    100.0\n",
       "395087    100.0\n",
       "395088     20.0\n",
       "395089    100.0\n",
       "395090    100.0\n",
       "395091    100.0\n",
       "395092    100.0\n",
       "395093    100.0\n",
       "395094    100.0\n",
       "395095    100.0\n",
       "395096    100.0\n",
       "395097    100.0\n",
       "395098    100.0\n",
       "395099    100.0\n",
       "395100    100.0\n",
       "395101     60.0\n",
       "395102    100.0\n",
       "395103    100.0\n",
       "395104    100.0\n",
       "395105    100.0\n",
       "395106    100.0\n",
       "395107    100.0\n",
       "Name: review_scores_rating, Length: 394908, dtype: float64"
      ]
     },
     "execution_count": 39,
     "metadata": {},
     "output_type": "execute_result"
    }
   ],
   "source": [
    "df_listings_reviews.review_scores_rating"
   ]
  },
  {
   "cell_type": "markdown",
   "metadata": {},
   "source": [
    "## Smaller Set of Features"
   ]
  },
  {
   "cell_type": "code",
   "execution_count": 40,
   "metadata": {
    "ExecuteTime": {
     "end_time": "2019-02-19T01:49:10.743838Z",
     "start_time": "2019-02-19T01:49:10.719059Z"
    }
   },
   "outputs": [
    {
     "data": {
      "text/html": [
       "<div>\n",
       "<style scoped>\n",
       "    .dataframe tbody tr th:only-of-type {\n",
       "        vertical-align: middle;\n",
       "    }\n",
       "\n",
       "    .dataframe tbody tr th {\n",
       "        vertical-align: top;\n",
       "    }\n",
       "\n",
       "    .dataframe thead th {\n",
       "        text-align: right;\n",
       "    }\n",
       "</style>\n",
       "<table border=\"1\" class=\"dataframe\">\n",
       "  <thead>\n",
       "    <tr style=\"text-align: right;\">\n",
       "      <th></th>\n",
       "      <th>listing_id</th>\n",
       "      <th>review_scores_rating</th>\n",
       "      <th>comments</th>\n",
       "    </tr>\n",
       "  </thead>\n",
       "  <tbody>\n",
       "    <tr>\n",
       "      <th>0</th>\n",
       "      <td>958</td>\n",
       "      <td>97.0</td>\n",
       "      <td>Our experience was, without a doubt, a five st...</td>\n",
       "    </tr>\n",
       "    <tr>\n",
       "      <th>1</th>\n",
       "      <td>958</td>\n",
       "      <td>97.0</td>\n",
       "      <td>Returning to San Francisco is a rejuvenating t...</td>\n",
       "    </tr>\n",
       "    <tr>\n",
       "      <th>2</th>\n",
       "      <td>958</td>\n",
       "      <td>97.0</td>\n",
       "      <td>We were very pleased with the accommodations a...</td>\n",
       "    </tr>\n",
       "    <tr>\n",
       "      <th>3</th>\n",
       "      <td>958</td>\n",
       "      <td>97.0</td>\n",
       "      <td>We highly recommend this accomodation and agre...</td>\n",
       "    </tr>\n",
       "    <tr>\n",
       "      <th>4</th>\n",
       "      <td>958</td>\n",
       "      <td>97.0</td>\n",
       "      <td>Holly's place was great. It was exactly what I...</td>\n",
       "    </tr>\n",
       "  </tbody>\n",
       "</table>\n",
       "</div>"
      ],
      "text/plain": [
       "   listing_id  review_scores_rating  \\\n",
       "0         958                  97.0   \n",
       "1         958                  97.0   \n",
       "2         958                  97.0   \n",
       "3         958                  97.0   \n",
       "4         958                  97.0   \n",
       "\n",
       "                                            comments  \n",
       "0  Our experience was, without a doubt, a five st...  \n",
       "1  Returning to San Francisco is a rejuvenating t...  \n",
       "2  We were very pleased with the accommodations a...  \n",
       "3  We highly recommend this accomodation and agre...  \n",
       "4  Holly's place was great. It was exactly what I...  "
      ]
     },
     "execution_count": 40,
     "metadata": {},
     "output_type": "execute_result"
    }
   ],
   "source": [
    "# Filter to smaller subset of data. Goal is to understand the main topics within each sentiment\n",
    "\n",
    "columns_to_keep = ['listing_id', 'review_scores_rating', 'comments']\n",
    "df_smaller = df_listings_reviews[columns_to_keep]\n",
    "df_smaller.head()"
   ]
  },
  {
   "cell_type": "markdown",
   "metadata": {
    "ExecuteTime": {
     "end_time": "2019-02-19T01:49:47.961630Z",
     "start_time": "2019-02-19T01:49:47.958529Z"
    }
   },
   "source": [
    "## Null Value"
   ]
  },
  {
   "cell_type": "code",
   "execution_count": 32,
   "metadata": {
    "ExecuteTime": {
     "end_time": "2019-02-19T01:40:20.546754Z",
     "start_time": "2019-02-19T01:40:17.159721Z"
    }
   },
   "outputs": [],
   "source": [
    "df_smaller.dropna(inplace=True)"
   ]
  },
  {
   "cell_type": "code",
   "execution_count": 44,
   "metadata": {
    "ExecuteTime": {
     "end_time": "2019-02-19T01:50:11.136722Z",
     "start_time": "2019-02-19T01:50:11.039896Z"
    }
   },
   "outputs": [
    {
     "data": {
      "text/plain": [
       "listing_id              0\n",
       "review_scores_rating    0\n",
       "comments                0\n",
       "dtype: int64"
      ]
     },
     "execution_count": 44,
     "metadata": {},
     "output_type": "execute_result"
    }
   ],
   "source": [
    "df_smaller.isnull().sum()"
   ]
  },
  {
   "cell_type": "code",
   "execution_count": null,
   "metadata": {},
   "outputs": [],
   "source": [
    "## Duplicates"
   ]
  },
  {
   "cell_type": "code",
   "execution_count": 45,
   "metadata": {
    "ExecuteTime": {
     "end_time": "2019-02-19T01:51:13.357269Z",
     "start_time": "2019-02-19T01:51:12.493945Z"
    }
   },
   "outputs": [
    {
     "name": "stderr",
     "output_type": "stream",
     "text": [
      "/Users/xzhou/anaconda3/lib/python3.6/site-packages/ipykernel_launcher.py:3: SettingWithCopyWarning: \n",
      "A value is trying to be set on a copy of a slice from a DataFrame\n",
      "\n",
      "See the caveats in the documentation: http://pandas.pydata.org/pandas-docs/stable/indexing.html#indexing-view-versus-copy\n",
      "  This is separate from the ipykernel package so we can avoid doing imports until\n"
     ]
    },
    {
     "data": {
      "text/plain": [
       "(394908, 3)"
      ]
     },
     "execution_count": 45,
     "metadata": {},
     "output_type": "execute_result"
    }
   ],
   "source": [
    "# Drop any possible duplicate lines before saving the result\n",
    "\n",
    "df_smaller.drop_duplicates(inplace=True)\n",
    "df_smaller.shape"
   ]
  },
  {
   "cell_type": "code",
   "execution_count": null,
   "metadata": {
    "ExecuteTime": {
     "end_time": "2018-09-17T21:30:43.908267Z",
     "start_time": "2018-09-17T21:30:43.606260Z"
    }
   },
   "outputs": [],
   "source": [
    "pkl_file = '/Users/xzhou/github/project_archives/files_airbnb/{}.pkl'\n",
    "\n",
    "pkl_path = pkl_file.format('listings_reviews')\n",
    "\n",
    "pd.to_pickle(df_listings_reviews, pkl_path)"
   ]
  },
  {
   "cell_type": "code",
   "execution_count": 52,
   "metadata": {
    "ExecuteTime": {
     "end_time": "2019-02-19T02:11:51.817485Z",
     "start_time": "2019-02-19T02:11:51.574506Z"
    }
   },
   "outputs": [
    {
     "data": {
      "text/plain": [
       "<matplotlib.axes._subplots.AxesSubplot at 0x1c2801fbe0>"
      ]
     },
     "execution_count": 52,
     "metadata": {},
     "output_type": "execute_result"
    },
    {
     "data": {
      "image/png": "[encoded data removed]",
      "text/plain": [
       "<Figure size 432x288 with 1 Axes>"
      ]
     },
     "metadata": {},
     "output_type": "display_data"
    }
   ],
   "source": [
    "df_smaller.review_scores_rating.hist(bins =10)"
   ]
  },
  {
   "cell_type": "code",
   "execution_count": 58,
   "metadata": {
    "ExecuteTime": {
     "end_time": "2019-02-19T02:23:35.098756Z",
     "start_time": "2019-02-19T02:23:35.091009Z"
    }
   },
   "outputs": [
    {
     "data": {
      "text/plain": [
       "(122, 4)"
      ]
     },
     "execution_count": 58,
     "metadata": {},
     "output_type": "execute_result"
    }
   ],
   "source": [
    "# Get an understanding of rating distribution. It seems majority of ratings are very positive\n",
    "# The data wouldn't be helpful to understand customers' negatie sentiment\n",
    "\n",
    "df_smaller[df_smaller.review_scores_rating<=60]"
   ]
  },
  {
   "cell_type": "code",
   "execution_count": 46,
   "metadata": {
    "ExecuteTime": {
     "end_time": "2019-02-19T01:56:38.725673Z",
     "start_time": "2019-02-19T01:56:38.719800Z"
    }
   },
   "outputs": [],
   "source": [
    "# Not used, as data is highly inbalanced. Only few records have a rating of less than 60\n",
    "\n",
    "def sentiment_score(x):\n",
    "    \"\"\"\n",
    "    This is to assignment sentiment score based on rating.\n",
    "    Input: ratings, ranging from 1 to 100\n",
    "    Ouput: sentimant score, ranging from -1 to +1\n",
    "           Postive: +1; neutral: 0; negative: -1\n",
    "\n",
    "    \"\"\"\n",
    "    if x>=50 and x<=70:\n",
    "        return 0\n",
    "    elif x>70:\n",
    "        return +1\n",
    "    elif x<50:\n",
    "        return -1\n",
    "    else:\n",
    "        return 'error'"
   ]
  },
  {
   "cell_type": "code",
   "execution_count": 48,
   "metadata": {
    "ExecuteTime": {
     "end_time": "2019-02-19T01:57:32.082219Z",
     "start_time": "2019-02-19T01:57:31.736791Z"
    }
   },
   "outputs": [
    {
     "name": "stderr",
     "output_type": "stream",
     "text": [
      "/Users/xzhou/anaconda3/lib/python3.6/site-packages/ipykernel_launcher.py:1: SettingWithCopyWarning: \n",
      "A value is trying to be set on a copy of a slice from a DataFrame.\n",
      "Try using .loc[row_indexer,col_indexer] = value instead\n",
      "\n",
      "See the caveats in the documentation: http://pandas.pydata.org/pandas-docs/stable/indexing.html#indexing-view-versus-copy\n",
      "  \"\"\"Entry point for launching an IPython kernel.\n"
     ]
    }
   ],
   "source": [
    "df_smaller['sentiment_score'] = df_smaller['review_scores_rating']  \\\n",
    "                              .apply(lambda x: sentiment_score(x))\n",
    "\n",
    "df_pos = df_smaller[df_smaller['sentiment_score']==1]\n",
    "df_neg = df_smaller[df_smaller['sentiment_score']==-1]\n",
    "\n",
    "print(df_pos.shape, df_neg.shape)"
   ]
  },
  {
   "cell_type": "code",
   "execution_count": null,
   "metadata": {
    "ExecuteTime": {
     "end_time": "2018-09-17T21:30:54.241441Z",
     "start_time": "2018-09-17T21:30:53.838869Z"
    }
   },
   "outputs": [],
   "source": [
    "df_smaller.describe (include='all')"
   ]
  },
  {
   "cell_type": "code",
   "execution_count": null,
   "metadata": {
    "ExecuteTime": {
     "end_time": "2018-09-17T21:30:56.724179Z",
     "start_time": "2018-09-17T21:30:56.720071Z"
    }
   },
   "outputs": [],
   "source": [
    "# # File after comparing listings and seasonality. \n",
    "# # Because there are too many reviews to process, \n",
    "# # this is to help narrow down number of reviews to analyze\n",
    "\n",
    "# pkl_file = '/Users/xzhou/github/project_archives/files_airbnb/{}.pkl'\n",
    "# pkl_path = pkl_file.format('listings_seasonality')\n",
    "\n",
    "# try: \n",
    "#     with open(pkl_path, 'rb') as file:\n",
    "#         df_listings_seasonality = pd.read_pickle(file)\n",
    "# except:\n",
    "#     with open(pkl_path, 'wb') as file:\n",
    "#         pd.to_pickle(df_final, file)"
   ]
  },
  {
   "cell_type": "code",
   "execution_count": null,
   "metadata": {
    "ExecuteTime": {
     "end_time": "2018-09-17T21:30:58.310593Z",
     "start_time": "2018-09-17T21:30:58.307135Z"
    }
   },
   "outputs": [],
   "source": [
    "# # Get a list of unique IDs. This is to narrow down reviews that need to analyze\n",
    "\n",
    "# listing_id_interested = df_listings_seasonality.listing_id.unique()"
   ]
  },
  {
   "cell_type": "code",
   "execution_count": null,
   "metadata": {
    "ExecuteTime": {
     "end_time": "2018-09-17T21:30:59.468490Z",
     "start_time": "2018-09-17T21:30:59.465190Z"
    }
   },
   "outputs": [],
   "source": [
    "# len(listing_id_interested)"
   ]
  },
  {
   "cell_type": "code",
   "execution_count": null,
   "metadata": {
    "ExecuteTime": {
     "end_time": "2018-09-17T21:31:00.596463Z",
     "start_time": "2018-09-17T21:31:00.592715Z"
    }
   },
   "outputs": [],
   "source": [
    "# df_smaller = df_smaller[df_smaller['id'].isin(listing_id_interested)]"
   ]
  },
  {
   "cell_type": "code",
   "execution_count": null,
   "metadata": {
    "ExecuteTime": {
     "end_time": "2018-09-17T21:31:01.759842Z",
     "start_time": "2018-09-17T21:31:01.753950Z"
    }
   },
   "outputs": [],
   "source": [
    "df_smaller.shape"
   ]
  },
  {
   "cell_type": "code",
   "execution_count": null,
   "metadata": {
    "ExecuteTime": {
     "end_time": "2018-09-17T21:33:06.594770Z",
     "start_time": "2018-09-17T21:31:02.897993Z"
    }
   },
   "outputs": [],
   "source": [
    "# Break down reviews by word. \n",
    "# Goal is to remove reviews that don't have meaningful length\n",
    "\n",
    "df_smaller['comments_words_ind_review'] = df_smaller['comments'].apply(nltk.word_tokenize)"
   ]
  },
  {
   "cell_type": "code",
   "execution_count": null,
   "metadata": {
    "ExecuteTime": {
     "end_time": "2018-09-17T21:33:08.708539Z",
     "start_time": "2018-09-17T21:33:08.606941Z"
    }
   },
   "outputs": [],
   "source": [
    "# Perform a word count for each review. \n",
    "# This is to remove reviews that don't have meaningful leangh\n",
    "\n",
    "df_smaller['word_count_ind_review'] = df_smaller['comments_words_ind_review'].apply(len)\n",
    "df_smaller.head()"
   ]
  },
  {
   "cell_type": "code",
   "execution_count": null,
   "metadata": {
    "ExecuteTime": {
     "end_time": "2018-09-17T21:33:09.935294Z",
     "start_time": "2018-09-17T21:33:09.929299Z"
    }
   },
   "outputs": [],
   "source": [
    "df_smaller.shape"
   ]
  },
  {
   "cell_type": "code",
   "execution_count": null,
   "metadata": {
    "ExecuteTime": {
     "end_time": "2018-09-17T21:33:11.248266Z",
     "start_time": "2018-09-17T21:33:11.138124Z"
    }
   },
   "outputs": [],
   "source": [
    "# Keep only comments that have meaningful length\n",
    "\n",
    "df_smaller = df_smaller[df_smaller['word_count_ind_review']>=10]\n",
    "df_smaller.shape"
   ]
  },
  {
   "cell_type": "code",
   "execution_count": null,
   "metadata": {
    "ExecuteTime": {
     "end_time": "2018-09-17T21:33:12.974388Z",
     "start_time": "2018-09-17T21:33:12.490352Z"
    }
   },
   "outputs": [],
   "source": [
    "# Concolidate all reviews belong to a single 'id' to one big comment. \n",
    "# This for easier processing later on\n",
    "\n",
    "df_consolicated_reviews = df_smaller.groupby('listing_id').comments.apply(lambda x: ' ,'.join(x)).reset_index()"
   ]
  },
  {
   "cell_type": "code",
   "execution_count": null,
   "metadata": {
    "ExecuteTime": {
     "end_time": "2018-09-17T21:33:14.356313Z",
     "start_time": "2018-09-17T21:33:14.345063Z"
    }
   },
   "outputs": [],
   "source": [
    "df_consolicated_reviews.head()"
   ]
  },
  {
   "cell_type": "code",
   "execution_count": null,
   "metadata": {
    "ExecuteTime": {
     "end_time": "2018-09-17T21:33:15.733629Z",
     "start_time": "2018-09-17T21:33:15.726093Z"
    }
   },
   "outputs": [],
   "source": [
    "df_consolicated_reviews.shape"
   ]
  },
  {
   "cell_type": "code",
   "execution_count": null,
   "metadata": {
    "ExecuteTime": {
     "end_time": "2018-09-17T21:33:17.090746Z",
     "start_time": "2018-09-17T21:33:17.004514Z"
    }
   },
   "outputs": [],
   "source": [
    "df_final = pd.merge(left = df_smaller, \n",
    "                    right = df_consolicated_reviews, \n",
    "                    how='left', \n",
    "                    left_on ='listing_id', \n",
    "                    right_on = 'listing_id')"
   ]
  },
  {
   "cell_type": "code",
   "execution_count": null,
   "metadata": {
    "ExecuteTime": {
     "end_time": "2018-09-17T21:33:18.528382Z",
     "start_time": "2018-09-17T21:33:18.522531Z"
    }
   },
   "outputs": [],
   "source": [
    "df_final.shape"
   ]
  },
  {
   "cell_type": "code",
   "execution_count": null,
   "metadata": {
    "ExecuteTime": {
     "end_time": "2018-09-17T21:33:20.045483Z",
     "start_time": "2018-09-17T21:33:20.021780Z"
    }
   },
   "outputs": [],
   "source": [
    "df_final.head()"
   ]
  },
  {
   "cell_type": "code",
   "execution_count": null,
   "metadata": {
    "ExecuteTime": {
     "end_time": "2018-09-17T21:33:30.664713Z",
     "start_time": "2018-09-17T21:33:21.525844Z"
    }
   },
   "outputs": [],
   "source": [
    "# Since we have consolidated reviews. Only keep one consolidated review per Listing ID\n",
    "\n",
    "df_final.drop_duplicates(subset=['comments_y'], keep='first', inplace=True)"
   ]
  },
  {
   "cell_type": "code",
   "execution_count": null,
   "metadata": {
    "ExecuteTime": {
     "end_time": "2018-09-17T21:33:33.713653Z",
     "start_time": "2018-09-17T21:33:33.679851Z"
    }
   },
   "outputs": [],
   "source": [
    "df_final.head(10)"
   ]
  },
  {
   "cell_type": "code",
   "execution_count": null,
   "metadata": {
    "ExecuteTime": {
     "end_time": "2018-09-17T21:33:35.277159Z",
     "start_time": "2018-09-17T21:33:35.258350Z"
    }
   },
   "outputs": [],
   "source": [
    "# Drop un-used columns. 'Comments-words' need to be dropped, as this is\n",
    "# for individual review, not consolidated review.\n",
    "\n",
    "columns_to_drop = ['comments_x', 'comments_words_ind_review', 'word_count_ind_review']\n",
    "df_final.drop (columns_to_drop, axis=1, inplace=True)\n",
    "df_final.head()"
   ]
  },
  {
   "cell_type": "code",
   "execution_count": null,
   "metadata": {
    "ExecuteTime": {
     "end_time": "2018-09-17T21:33:40.409355Z",
     "start_time": "2018-09-17T21:33:40.369420Z"
    }
   },
   "outputs": [],
   "source": [
    "df_final.rename( index=str, columns ={'comments_y': 'reviews_consol'}, inplace=True)\n",
    "df_final.head()"
   ]
  },
  {
   "cell_type": "code",
   "execution_count": null,
   "metadata": {
    "ExecuteTime": {
     "end_time": "2018-09-17T21:35:32.250339Z",
     "start_time": "2018-09-17T21:33:42.323144Z"
    }
   },
   "outputs": [],
   "source": [
    "# Break down consolidated reviews by word. \n",
    "\n",
    "df_final['review_words_consol'] = df_final['reviews_consol'].apply(nltk.word_tokenize)"
   ]
  },
  {
   "cell_type": "code",
   "execution_count": null,
   "metadata": {
    "ExecuteTime": {
     "end_time": "2018-09-17T21:35:34.109925Z",
     "start_time": "2018-09-17T21:35:34.083235Z"
    }
   },
   "outputs": [],
   "source": [
    "# Perform a word count for each review. \n",
    "# This is to remove reviews that don't have meaningful leangh\n",
    "\n",
    "df_final['word_count_consol'] = df_final['review_words_consol'].apply(len)\n",
    "df_final.head()"
   ]
  },
  {
   "cell_type": "code",
   "execution_count": null,
   "metadata": {
    "ExecuteTime": {
     "end_time": "2018-09-17T21:35:40.923676Z",
     "start_time": "2018-09-17T21:35:35.615422Z"
    }
   },
   "outputs": [],
   "source": [
    "pkl_file = '/Users/xzhou/github/project_archives/files_airbnb/{}.pkl'\n",
    "pkl_path = pkl_file.format('reviews_final')\n",
    "\n",
    "try: \n",
    "    with open(pkl_path, 'rb') as file:\n",
    "        df_final = pd.read_pickle(file)\n",
    "except:\n",
    "    with open(pkl_path, 'wb') as file:\n",
    "        pd.to_pickle(df_final, file)"
   ]
  },
  {
   "cell_type": "code",
   "execution_count": null,
   "metadata": {
    "ExecuteTime": {
     "end_time": "2018-09-17T21:35:42.901469Z",
     "start_time": "2018-09-17T21:35:42.897594Z"
    }
   },
   "outputs": [],
   "source": [
    "X = df_final['reviews_consol']"
   ]
  },
  {
   "cell_type": "code",
   "execution_count": null,
   "metadata": {
    "ExecuteTime": {
     "end_time": "2018-09-17T21:35:46.246363Z",
     "start_time": "2018-09-17T21:35:46.225394Z"
    }
   },
   "outputs": [],
   "source": [
    "# Define a topic modeling engine for intensive modeling. \n",
    "# This can help test out models and identify optimal result.\n",
    "\n",
    "class TopicModelEngine:\n",
    "    \n",
    "    def __init__(self, raw_data):\n",
    "        self.raw_data = raw_data\n",
    "\n",
    "    def get_lemma(self, word):\n",
    "        \"\"\"\n",
    "        Get the root words\n",
    "        \"\"\"\n",
    "        try:\n",
    "            lemma = wn.morphy(word)\n",
    "        except:\n",
    "            lemma = word\n",
    "        return lemma\n",
    "            \n",
    "    def tokenize(self, text):\n",
    "        \"\"\"\n",
    "        This is to perform word tokenizing. It performs ngram (1,2)\n",
    "        \"\"\"\n",
    "        lda_tokens = []\n",
    "        text=text.strip().lower()\n",
    "\n",
    "        # Extract word portion out of sentence and excludes spaace\n",
    "        tokenizer = RegexpTokenizer(r'\\w+')\n",
    "        tokens = tokenizer.tokenize(text)\n",
    "        tokens = [token for token in tokens if (not token.isspace())]\n",
    "\n",
    "        for token in tokens:\n",
    "            lda_tokens.append(token)\n",
    "\n",
    "        # Extract bigrams for additional analysis\n",
    "        bigrams = ngrams(tokens, 2)\n",
    "\n",
    "        for bg, count in Counter(bigrams).most_common():\n",
    "            token_string = []\n",
    "            token_string = str(bg[0]) + \" \" + str(bg[1])\n",
    "            lda_tokens.append(token_string)\n",
    "\n",
    "        return lda_tokens\n",
    "    \n",
    "    def text_processing(self, sentence, stop_words):\n",
    "        \"\"\"\n",
    "        This is to break down text sentence into words, and \n",
    "        clean up the words to prepare for LDA modeling.\n",
    "        \"\"\"\n",
    "    \n",
    "        tokens = self.tokenize(sentence)\n",
    "        tokens = [word for word in tokens if len(tokens)>5]\n",
    "        tokens = [word for word in tokens if word.strip() not in stop_words]\n",
    "        tokens = [self.get_lemma(word) for word in tokens]\n",
    "\n",
    "        return tokens \n",
    "    \n",
    "    def LDA_preprocessing(self, stop_words):\n",
    "        \"\"\"\n",
    "        Provided with raw data, the proprocessing will automatically prepare and\n",
    "        clean up the data, and generate necessay documents for LDA's use.\n",
    "        \"\"\"\n",
    "        self.text_data = []\n",
    "\n",
    "        for line in self.raw_data:\n",
    "            tokens = self.text_processing(line, stop_words)\n",
    "            tokens=[token for token in tokens if token is not None]\n",
    "            self.text_data.append(tokens)\n",
    "        \n",
    "        # Create Dictionary\n",
    "        self.dictionary = corpora.Dictionary(self.text_data)\n",
    "        # Term Document Frequency\n",
    "        self.corpus = [self.dictionary.doc2bow(text) for text in self.text_data]\n",
    "\n",
    "    def LDA_model(self, num_of_topics, num_passes, stop_words):\n",
    "        \"\"\"\n",
    "        This is to perform topic modeling and save the model under the name\n",
    "        user provides\n",
    "        \"\"\"\n",
    "        self.LDA_preprocessing(stop_words)\n",
    "        num_topics = num_of_topics\n",
    "        self.lda = LdaModel(corpus=self.corpus,  \n",
    "                            num_topics=num_topics, \n",
    "                            id2word=self.dictionary, \n",
    "                            passes=num_passes) \n",
    "        \n",
    "        #self.lda_corpus = self.lda(self.corpus)\n",
    "        \n",
    "        #self.lda.save(file_name_to_save_as)\n",
    "        \n",
    "        return self.lda\n",
    "    \n",
    "    def print_topics(self, num_of_words):\n",
    "        \"\"\"\n",
    "        Print out topics for users's decision making. \n",
    "        User can specify number of words to print out\n",
    "        \"\"\"\n",
    "        topics = self.lda.print_topics(num_words=num_of_words)\n",
    "        for topic in topics:\n",
    "            print('Topic ' + str(topic[0]+1)+': '+str(topic[1]))\n",
    "            \n",
    "    def word_cloud(self, num_of_topics):\n",
    "        for topic in range(num_of_topics):\n",
    "            plt.figure(figsize=(14,8))\n",
    "            plt.imshow(WordCloud().fit_words(dict(self.lda.show_topic(topic, 200))))\n",
    "            plt.axis(\"off\")\n",
    "            plt.title(\"Topic #\" + str(topic))\n",
    "            plt.show()"
   ]
  },
  {
   "cell_type": "code",
   "execution_count": null,
   "metadata": {
    "ExecuteTime": {
     "end_time": "2018-09-17T21:35:47.854319Z",
     "start_time": "2018-09-17T21:35:47.846449Z"
    }
   },
   "outputs": [],
   "source": [
    "# Default stop_words\n",
    "stop_words = set(stopwords.words('English'))"
   ]
  },
  {
   "cell_type": "code",
   "execution_count": null,
   "metadata": {
    "ExecuteTime": {
     "end_time": "2018-09-17T22:10:27.740970Z",
     "start_time": "2018-09-17T22:10:27.730607Z"
    }
   },
   "outputs": [],
   "source": [
    "# This is to add additional words to default stop words\n",
    "# Additional words: through multiple iterations, addtional stop words were identified\n",
    "# Default stop: provided by nltk\n",
    "\n",
    "additional_words_to_exclude = set(['get', 'one', 'say', 'still', 'try', 'david', 'john',\n",
    "                                   'good', 'area', 'oakland','recommend', 'nice', 'la', 'area',\n",
    "                                   'also', 'thing', 'michael', 'stay', 'us', 'de', 'place', \n",
    "                                   'house', 'great','enjoy','tings', 'another','maybe','around',\n",
    "                                  'santa', 'perfect', 'love', 'well', 'feel', 'amaze', 'even',\n",
    "                                  'definitely', 'check', 'make', 'like', 'take', 'back', 'felt',\n",
    "                                  'really', 'need', 'highly', 'lovely'])"
   ]
  },
  {
   "cell_type": "code",
   "execution_count": null,
   "metadata": {
    "ExecuteTime": {
     "end_time": "2018-09-17T22:10:30.306561Z",
     "start_time": "2018-09-17T22:10:30.303174Z"
    }
   },
   "outputs": [],
   "source": [
    "# Add additional words to default stop words\n",
    "\n",
    "total_words_to_exclude = stop_words.union(additional_words_to_exclude)"
   ]
  },
  {
   "cell_type": "code",
   "execution_count": null,
   "metadata": {
    "ExecuteTime": {
     "end_time": "2018-09-17T22:14:56.833517Z",
     "start_time": "2018-09-17T22:10:32.049151Z"
    }
   },
   "outputs": [],
   "source": [
    "# Identify top 3 topics\n",
    "\n",
    "topics_3 = TopicModelEngine(X)\n",
    "lda_3 = topics_3.LDA_model(num_of_topics=3, \n",
    "                              num_passes=10,\n",
    "                              stop_words=total_words_to_exclude)\n",
    "topics_3.print_topics(num_of_words=10)"
   ]
  },
  {
   "cell_type": "code",
   "execution_count": null,
   "metadata": {
    "ExecuteTime": {
     "end_time": "2018-09-17T22:15:02.354435Z",
     "start_time": "2018-09-17T22:14:59.703214Z"
    }
   },
   "outputs": [],
   "source": [
    "topics_3.word_cloud(num_of_topics=3)"
   ]
  },
  {
   "cell_type": "code",
   "execution_count": null,
   "metadata": {
    "ExecuteTime": {
     "end_time": "2018-09-17T21:50:05.731161Z",
     "start_time": "2018-09-17T21:49:56.883078Z"
    }
   },
   "outputs": [],
   "source": [
    "# Find out topic for each individual review\n",
    "\n",
    "for i in lda_3.get_document_topics(topics_3.corpus):\n",
    "    print (i)"
   ]
  },
  {
   "cell_type": "code",
   "execution_count": null,
   "metadata": {
    "ExecuteTime": {
     "end_time": "2018-09-17T21:44:29.041681Z",
     "start_time": "2018-09-17T21:40:26.283797Z"
    }
   },
   "outputs": [],
   "source": [
    "# Identify top 5 topics\n",
    "\n",
    "topics_5 = TopicModelEngine(X)\n",
    "lda_5 = topics_5.LDA_model(num_of_topics=5, \n",
    "                              num_passes=10,\n",
    "                              stop_words=total_words_to_exclude)\n",
    "topics_5.print_topics(num_of_words=10)"
   ]
  },
  {
   "cell_type": "code",
   "execution_count": null,
   "metadata": {
    "ExecuteTime": {
     "end_time": "2018-09-17T21:44:33.497871Z",
     "start_time": "2018-09-17T21:44:30.907328Z"
    }
   },
   "outputs": [],
   "source": [
    "topics_5.word_cloud(num_of_topics=5)"
   ]
  },
  {
   "cell_type": "code",
   "execution_count": null,
   "metadata": {
    "ExecuteTime": {
     "end_time": "2018-09-17T21:48:34.711933Z",
     "start_time": "2018-09-17T21:44:35.072646Z"
    }
   },
   "outputs": [],
   "source": [
    "# Identify top 10 topics\n",
    "\n",
    "topics_10 = TopicModelEngine(X)\n",
    "lda_10 = topics_10.LDA_model(num_of_topics=10, \n",
    "                              num_passes=10,\n",
    "                              stop_words=total_words_to_exclude)\n",
    "topics_10.print_topics(num_of_words=10)"
   ]
  },
  {
   "cell_type": "code",
   "execution_count": null,
   "metadata": {
    "ExecuteTime": {
     "end_time": "2018-09-17T21:48:47.272773Z",
     "start_time": "2018-09-17T21:48:38.479229Z"
    }
   },
   "outputs": [],
   "source": [
    "topics_10.word_cloud(num_of_topics=10)"
   ]
  },
  {
   "cell_type": "code",
   "execution_count": null,
   "metadata": {},
   "outputs": [],
   "source": []
  }
 ],
 "metadata": {
  "kernelspec": {
   "display_name": "Python 3",
   "language": "python",
   "name": "python3"
  },
  "language_info": {
   "codemirror_mode": {
    "name": "ipython",
    "version": 3
   },
   "file_extension": ".py",
   "mimetype": "text/x-python",
   "name": "python",
   "nbconvert_exporter": "python",
   "pygments_lexer": "ipython3",
   "version": "3.6.6"
  },
  "toc": {
   "base_numbering": 1,
   "nav_menu": {},
   "number_sections": true,
   "sideBar": true,
   "skip_h1_title": false,
   "title_cell": "Table of Contents",
   "title_sidebar": "Contents",
   "toc_cell": false,
   "toc_position": {},
   "toc_section_display": true,
   "toc_window_display": true
  },
  "varInspector": {
   "cols": {
    "lenName": 16,
    "lenType": 16,
    "lenVar": 40
   },
   "kernels_config": {
    "python": {
     "delete_cmd_postfix": "",
     "delete_cmd_prefix": "del ",
     "library": "var_list.py",
     "varRefreshCmd": "print(var_dic_list())"
    },
    "r": {
     "delete_cmd_postfix": ") ",
     "delete_cmd_prefix": "rm(",
     "library": "var_list.r",
     "varRefreshCmd": "cat(var_dic_list()) "
    }
   },
   "types_to_exclude": [
    "module",
    "function",
    "builtin_function_or_method",
    "instance",
    "_Feature"
   ],
   "window_display": false
  }
 },
 "nbformat": 4,
 "nbformat_minor": 2
}
