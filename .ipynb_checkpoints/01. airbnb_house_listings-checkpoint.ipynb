{
 "cells": [
  {
   "cell_type": "markdown",
   "metadata": {},
   "source": [
    "# Data Retrieval"
   ]
  },
  {
   "cell_type": "code",
   "execution_count": 1,
   "metadata": {
    "ExecuteTime": {
     "end_time": "2019-02-18T02:45:30.224900Z",
     "start_time": "2019-02-18T02:45:30.220215Z"
    }
   },
   "outputs": [],
   "source": [
    "import warnings\n",
    "warnings.simplefilter(action='ignore', category=Warning)"
   ]
  },
  {
   "cell_type": "code",
   "execution_count": 2,
   "metadata": {
    "ExecuteTime": {
     "end_time": "2019-02-18T02:45:32.447759Z",
     "start_time": "2019-02-18T02:45:30.228497Z"
    }
   },
   "outputs": [],
   "source": [
    "import pandas as pd\n",
    "import IPython.display\n",
    "import matplotlib.pyplot as plt\n",
    "import csv\n",
    "import re\n",
    "import numpy as np\n",
    "from datetime import datetime\n",
    "import statsmodels.api as sm\n",
    "\n",
    "from sklearn import datasets, linear_model\n",
    "from sklearn.metrics import mean_squared_error, r2_score\n",
    "from sklearn.preprocessing import StandardScaler\n",
    "from sklearn.model_selection import train_test_split\n",
    "from sklearn.ensemble import RandomForestRegressor"
   ]
  },
  {
   "cell_type": "code",
   "execution_count": 3,
   "metadata": {
    "ExecuteTime": {
     "end_time": "2019-02-18T02:45:32.454850Z",
     "start_time": "2019-02-18T02:45:32.450413Z"
    }
   },
   "outputs": [],
   "source": [
    "plt.style.use('seaborn')"
   ]
  },
  {
   "cell_type": "code",
   "execution_count": 4,
   "metadata": {
    "ExecuteTime": {
     "end_time": "2019-02-18T02:45:32.461427Z",
     "start_time": "2019-02-18T02:45:32.457827Z"
    }
   },
   "outputs": [],
   "source": [
    "# File path for cities: San Francisco(sf), Okaland(ok), and Santa Clara(sc)\n",
    "\n",
    "file_url = '/Users/xzhou/github/project_archives/files_airbnb/{}.csv'\n",
    "\n",
    "sf_file = file_url.format('sf_airbnb/listings_details')\n",
    "ok_file = file_url.format('ok_airbnb/listings_details')\n",
    "sc_file = file_url.format('sc_airbnb/listings_details')"
   ]
  },
  {
   "cell_type": "code",
   "execution_count": 5,
   "metadata": {
    "ExecuteTime": {
     "end_time": "2019-02-18T02:45:35.513027Z",
     "start_time": "2019-02-18T02:45:32.464907Z"
    }
   },
   "outputs": [
    {
     "name": "stdout",
     "output_type": "stream",
     "text": [
      "sf file dimensions:  (6633, 96)\n",
      "ok file dimensions:  (2898, 96)\n",
      "sc file dimensions:  (5668, 96)\n"
     ]
    }
   ],
   "source": [
    "# Loaded files as DataFrame\n",
    "\n",
    "date_to_parse = ['last_scraped','host_since', 'first_review', 'last_review']\n",
    "\n",
    "listings_sf = pd.read_csv(sf_file, parse_dates=date_to_parse)\n",
    "listings_ok = pd.read_csv(ok_file, parse_dates=date_to_parse)\n",
    "listings_sc = pd.read_csv(sc_file, parse_dates=date_to_parse)\n",
    "\n",
    "print('sf file dimensions: ', listings_sf.shape) \n",
    "print('ok file dimensions: ', listings_ok.shape) \n",
    "print('sc file dimensions: ', listings_sc.shape) "
   ]
  },
  {
   "cell_type": "code",
   "execution_count": 6,
   "metadata": {
    "ExecuteTime": {
     "end_time": "2019-02-18T02:45:35.748147Z",
     "start_time": "2019-02-18T02:45:35.516221Z"
    },
    "scrolled": true
   },
   "outputs": [
    {
     "data": {
      "text/html": [
       "<div>\n",
       "<style scoped>\n",
       "    .dataframe tbody tr th:only-of-type {\n",
       "        vertical-align: middle;\n",
       "    }\n",
       "\n",
       "    .dataframe tbody tr th {\n",
       "        vertical-align: top;\n",
       "    }\n",
       "\n",
       "    .dataframe thead th {\n",
       "        text-align: right;\n",
       "    }\n",
       "</style>\n",
       "<table border=\"1\" class=\"dataframe\">\n",
       "  <thead>\n",
       "    <tr style=\"text-align: right;\">\n",
       "      <th></th>\n",
       "      <th></th>\n",
       "      <th>id</th>\n",
       "      <th>listing_url</th>\n",
       "      <th>scrape_id</th>\n",
       "      <th>last_scraped</th>\n",
       "      <th>name</th>\n",
       "      <th>summary</th>\n",
       "      <th>space</th>\n",
       "      <th>description</th>\n",
       "      <th>experiences_offered</th>\n",
       "      <th>neighborhood_overview</th>\n",
       "      <th>...</th>\n",
       "      <th>requires_license</th>\n",
       "      <th>license</th>\n",
       "      <th>jurisdiction_names</th>\n",
       "      <th>instant_bookable</th>\n",
       "      <th>is_business_travel_ready</th>\n",
       "      <th>cancellation_policy</th>\n",
       "      <th>require_guest_profile_picture</th>\n",
       "      <th>require_guest_phone_verification</th>\n",
       "      <th>calculated_host_listings_count</th>\n",
       "      <th>reviews_per_month</th>\n",
       "    </tr>\n",
       "  </thead>\n",
       "  <tbody>\n",
       "    <tr>\n",
       "      <th rowspan=\"5\" valign=\"top\">sf</th>\n",
       "      <th>0</th>\n",
       "      <td>958</td>\n",
       "      <td>https://www.airbnb.com/rooms/958</td>\n",
       "      <td>2.018080e+13</td>\n",
       "      <td>2018-08-06</td>\n",
       "      <td>Bright, Modern Garden Unit - 1BR/1B</td>\n",
       "      <td>Our bright garden unit overlooks a grassy back...</td>\n",
       "      <td>Newly remodeled, modern, and bright garden uni...</td>\n",
       "      <td>Our bright garden unit overlooks a grassy back...</td>\n",
       "      <td>none</td>\n",
       "      <td>*Quiet cul de sac in friendly neighborhood *St...</td>\n",
       "      <td>...</td>\n",
       "      <td>t</td>\n",
       "      <td>STR-0001256</td>\n",
       "      <td>{\"SAN FRANCISCO\"}</td>\n",
       "      <td>f</td>\n",
       "      <td>f</td>\n",
       "      <td>moderate</td>\n",
       "      <td>f</td>\n",
       "      <td>f</td>\n",
       "      <td>1</td>\n",
       "      <td>1.38</td>\n",
       "    </tr>\n",
       "    <tr>\n",
       "      <th>1</th>\n",
       "      <td>5858</td>\n",
       "      <td>https://www.airbnb.com/rooms/5858</td>\n",
       "      <td>2.018080e+13</td>\n",
       "      <td>2018-08-06</td>\n",
       "      <td>Creative Sanctuary</td>\n",
       "      <td>NaN</td>\n",
       "      <td>We live in a large Victorian house on a quiet ...</td>\n",
       "      <td>We live in a large Victorian house on a quiet ...</td>\n",
       "      <td>none</td>\n",
       "      <td>I love how our neighborhood feels quiet but is...</td>\n",
       "      <td>...</td>\n",
       "      <td>t</td>\n",
       "      <td>NaN</td>\n",
       "      <td>{\"SAN FRANCISCO\"}</td>\n",
       "      <td>f</td>\n",
       "      <td>f</td>\n",
       "      <td>strict_14_with_grace_period</td>\n",
       "      <td>f</td>\n",
       "      <td>f</td>\n",
       "      <td>1</td>\n",
       "      <td>0.99</td>\n",
       "    </tr>\n",
       "    <tr>\n",
       "      <th>2</th>\n",
       "      <td>7918</td>\n",
       "      <td>https://www.airbnb.com/rooms/7918</td>\n",
       "      <td>2.018080e+13</td>\n",
       "      <td>2018-08-06</td>\n",
       "      <td>A Friendly Room - UCSF/USF - San Francisco</td>\n",
       "      <td>Nice and good public transportation.  7 minute...</td>\n",
       "      <td>Room rental-sunny view room/sink/Wi Fi (inner ...</td>\n",
       "      <td>Nice and good public transportation.  7 minute...</td>\n",
       "      <td>none</td>\n",
       "      <td>Shopping old town, restaurants, McDonald, Whol...</td>\n",
       "      <td>...</td>\n",
       "      <td>t</td>\n",
       "      <td>NaN</td>\n",
       "      <td>{\"SAN FRANCISCO\"}</td>\n",
       "      <td>f</td>\n",
       "      <td>f</td>\n",
       "      <td>strict_14_with_grace_period</td>\n",
       "      <td>f</td>\n",
       "      <td>f</td>\n",
       "      <td>9</td>\n",
       "      <td>0.16</td>\n",
       "    </tr>\n",
       "    <tr>\n",
       "      <th>3</th>\n",
       "      <td>8142</td>\n",
       "      <td>https://www.airbnb.com/rooms/8142</td>\n",
       "      <td>2.018080e+13</td>\n",
       "      <td>2018-08-06</td>\n",
       "      <td>Friendly Room Apt. Style -UCSF/USF - San Franc...</td>\n",
       "      <td>Nice and good public transportation.  7 minute...</td>\n",
       "      <td>Room rental Sunny view Rm/Wi-Fi/TV/sink/large ...</td>\n",
       "      <td>Nice and good public transportation.  7 minute...</td>\n",
       "      <td>none</td>\n",
       "      <td>NaN</td>\n",
       "      <td>...</td>\n",
       "      <td>t</td>\n",
       "      <td>NaN</td>\n",
       "      <td>{\"SAN FRANCISCO\"}</td>\n",
       "      <td>f</td>\n",
       "      <td>f</td>\n",
       "      <td>strict_14_with_grace_period</td>\n",
       "      <td>f</td>\n",
       "      <td>f</td>\n",
       "      <td>9</td>\n",
       "      <td>0.15</td>\n",
       "    </tr>\n",
       "    <tr>\n",
       "      <th>4</th>\n",
       "      <td>8339</td>\n",
       "      <td>https://www.airbnb.com/rooms/8339</td>\n",
       "      <td>2.018080e+13</td>\n",
       "      <td>2018-08-06</td>\n",
       "      <td>Historic Alamo Square Victorian</td>\n",
       "      <td>Pls email before booking.  Interior featured i...</td>\n",
       "      <td>Please send us a quick message before booking ...</td>\n",
       "      <td>Pls email before booking.  Interior featured i...</td>\n",
       "      <td>none</td>\n",
       "      <td>NaN</td>\n",
       "      <td>...</td>\n",
       "      <td>t</td>\n",
       "      <td>STR-0000264</td>\n",
       "      <td>{\"SAN FRANCISCO\"}</td>\n",
       "      <td>f</td>\n",
       "      <td>f</td>\n",
       "      <td>strict_14_with_grace_period</td>\n",
       "      <td>t</td>\n",
       "      <td>t</td>\n",
       "      <td>2</td>\n",
       "      <td>0.24</td>\n",
       "    </tr>\n",
       "  </tbody>\n",
       "</table>\n",
       "<p>5 rows × 96 columns</p>\n",
       "</div>"
      ],
      "text/plain": [
       "        id                        listing_url     scrape_id last_scraped  \\\n",
       "sf 0   958   https://www.airbnb.com/rooms/958  2.018080e+13   2018-08-06   \n",
       "   1  5858  https://www.airbnb.com/rooms/5858  2.018080e+13   2018-08-06   \n",
       "   2  7918  https://www.airbnb.com/rooms/7918  2.018080e+13   2018-08-06   \n",
       "   3  8142  https://www.airbnb.com/rooms/8142  2.018080e+13   2018-08-06   \n",
       "   4  8339  https://www.airbnb.com/rooms/8339  2.018080e+13   2018-08-06   \n",
       "\n",
       "                                                   name  \\\n",
       "sf 0                Bright, Modern Garden Unit - 1BR/1B   \n",
       "   1                                 Creative Sanctuary   \n",
       "   2         A Friendly Room - UCSF/USF - San Francisco   \n",
       "   3  Friendly Room Apt. Style -UCSF/USF - San Franc...   \n",
       "   4                    Historic Alamo Square Victorian   \n",
       "\n",
       "                                                summary  \\\n",
       "sf 0  Our bright garden unit overlooks a grassy back...   \n",
       "   1                                                NaN   \n",
       "   2  Nice and good public transportation.  7 minute...   \n",
       "   3  Nice and good public transportation.  7 minute...   \n",
       "   4  Pls email before booking.  Interior featured i...   \n",
       "\n",
       "                                                  space  \\\n",
       "sf 0  Newly remodeled, modern, and bright garden uni...   \n",
       "   1  We live in a large Victorian house on a quiet ...   \n",
       "   2  Room rental-sunny view room/sink/Wi Fi (inner ...   \n",
       "   3  Room rental Sunny view Rm/Wi-Fi/TV/sink/large ...   \n",
       "   4  Please send us a quick message before booking ...   \n",
       "\n",
       "                                            description experiences_offered  \\\n",
       "sf 0  Our bright garden unit overlooks a grassy back...                none   \n",
       "   1  We live in a large Victorian house on a quiet ...                none   \n",
       "   2  Nice and good public transportation.  7 minute...                none   \n",
       "   3  Nice and good public transportation.  7 minute...                none   \n",
       "   4  Pls email before booking.  Interior featured i...                none   \n",
       "\n",
       "                                  neighborhood_overview        ...          \\\n",
       "sf 0  *Quiet cul de sac in friendly neighborhood *St...        ...           \n",
       "   1  I love how our neighborhood feels quiet but is...        ...           \n",
       "   2  Shopping old town, restaurants, McDonald, Whol...        ...           \n",
       "   3                                                NaN        ...           \n",
       "   4                                                NaN        ...           \n",
       "\n",
       "     requires_license      license jurisdiction_names instant_bookable  \\\n",
       "sf 0                t  STR-0001256  {\"SAN FRANCISCO\"}                f   \n",
       "   1                t          NaN  {\"SAN FRANCISCO\"}                f   \n",
       "   2                t          NaN  {\"SAN FRANCISCO\"}                f   \n",
       "   3                t          NaN  {\"SAN FRANCISCO\"}                f   \n",
       "   4                t  STR-0000264  {\"SAN FRANCISCO\"}                f   \n",
       "\n",
       "     is_business_travel_ready          cancellation_policy  \\\n",
       "sf 0                        f                     moderate   \n",
       "   1                        f  strict_14_with_grace_period   \n",
       "   2                        f  strict_14_with_grace_period   \n",
       "   3                        f  strict_14_with_grace_period   \n",
       "   4                        f  strict_14_with_grace_period   \n",
       "\n",
       "      require_guest_profile_picture require_guest_phone_verification  \\\n",
       "sf 0                              f                                f   \n",
       "   1                              f                                f   \n",
       "   2                              f                                f   \n",
       "   3                              f                                f   \n",
       "   4                              t                                t   \n",
       "\n",
       "      calculated_host_listings_count  reviews_per_month  \n",
       "sf 0                               1               1.38  \n",
       "   1                               1               0.99  \n",
       "   2                               9               0.16  \n",
       "   3                               9               0.15  \n",
       "   4                               2               0.24  \n",
       "\n",
       "[5 rows x 96 columns]"
      ]
     },
     "execution_count": 6,
     "metadata": {},
     "output_type": "execute_result"
    }
   ],
   "source": [
    "# Concatenated four files into one\n",
    "# Created keys for each file for future references\n",
    "\n",
    "frames = [listings_sf, listings_ok, listings_sc]\n",
    "keys = ['sf', 'ok', 'sc']\n",
    "\n",
    "df_listings = pd.concat(frames, keys=keys)\n",
    "df_listings.reset_index()\n",
    "\n",
    "df_listings.head()"
   ]
  },
  {
   "cell_type": "code",
   "execution_count": 7,
   "metadata": {
    "ExecuteTime": {
     "end_time": "2019-02-18T02:45:36.011818Z",
     "start_time": "2019-02-18T02:45:35.750647Z"
    }
   },
   "outputs": [],
   "source": [
    "# Added additional column to keep track of original district\n",
    "\n",
    "df_listings['district'] = ''\n",
    "\n",
    "df_listings.loc['sf']['district'] = 'San Francisco'\n",
    "df_listings.loc['ok']['district'] = 'Oakland'\n",
    "df_listings.loc['sc']['district'] = 'Santa Clara'\n",
    "# df_listings.loc['scz']['district'] = 'Santa Cruz'"
   ]
  },
  {
   "cell_type": "code",
   "execution_count": 8,
   "metadata": {
    "ExecuteTime": {
     "end_time": "2019-02-18T02:45:36.026016Z",
     "start_time": "2019-02-18T02:45:36.014277Z"
    }
   },
   "outputs": [
    {
     "data": {
      "text/html": [
       "<div>\n",
       "<style scoped>\n",
       "    .dataframe tbody tr th:only-of-type {\n",
       "        vertical-align: middle;\n",
       "    }\n",
       "\n",
       "    .dataframe tbody tr th {\n",
       "        vertical-align: top;\n",
       "    }\n",
       "\n",
       "    .dataframe thead th {\n",
       "        text-align: right;\n",
       "    }\n",
       "</style>\n",
       "<table border=\"1\" class=\"dataframe\">\n",
       "  <thead>\n",
       "    <tr style=\"text-align: right;\">\n",
       "      <th></th>\n",
       "      <th></th>\n",
       "      <th>id</th>\n",
       "      <th>district</th>\n",
       "    </tr>\n",
       "  </thead>\n",
       "  <tbody>\n",
       "    <tr>\n",
       "      <th rowspan=\"5\" valign=\"top\">sf</th>\n",
       "      <th>0</th>\n",
       "      <td>958</td>\n",
       "      <td>San Francisco</td>\n",
       "    </tr>\n",
       "    <tr>\n",
       "      <th>1</th>\n",
       "      <td>5858</td>\n",
       "      <td>San Francisco</td>\n",
       "    </tr>\n",
       "    <tr>\n",
       "      <th>2</th>\n",
       "      <td>7918</td>\n",
       "      <td>San Francisco</td>\n",
       "    </tr>\n",
       "    <tr>\n",
       "      <th>3</th>\n",
       "      <td>8142</td>\n",
       "      <td>San Francisco</td>\n",
       "    </tr>\n",
       "    <tr>\n",
       "      <th>4</th>\n",
       "      <td>8339</td>\n",
       "      <td>San Francisco</td>\n",
       "    </tr>\n",
       "  </tbody>\n",
       "</table>\n",
       "</div>"
      ],
      "text/plain": [
       "        id       district\n",
       "sf 0   958  San Francisco\n",
       "   1  5858  San Francisco\n",
       "   2  7918  San Francisco\n",
       "   3  8142  San Francisco\n",
       "   4  8339  San Francisco"
      ]
     },
     "execution_count": 8,
     "metadata": {},
     "output_type": "execute_result"
    }
   ],
   "source": [
    "# Created a separate dataframe to keep track of district\n",
    "# The data frame will be used in later stage\n",
    "\n",
    "df_district =  df_listings.loc[:, ['id', 'district']]\n",
    "df_district.head()"
   ]
  },
  {
   "cell_type": "markdown",
   "metadata": {
    "ExecuteTime": {
     "end_time": "2019-02-17T07:21:58.910805Z",
     "start_time": "2019-02-17T07:21:58.906832Z"
    }
   },
   "source": [
    "# Data Exploration"
   ]
  },
  {
   "cell_type": "markdown",
   "metadata": {
    "ExecuteTime": {
     "end_time": "2019-02-17T07:23:36.535268Z",
     "start_time": "2019-02-17T07:23:36.531980Z"
    }
   },
   "source": [
    "## Smaller Set of Features"
   ]
  },
  {
   "cell_type": "code",
   "execution_count": 9,
   "metadata": {
    "ExecuteTime": {
     "end_time": "2019-02-18T02:45:36.163570Z",
     "start_time": "2019-02-18T02:45:36.029331Z"
    }
   },
   "outputs": [
    {
     "data": {
      "text/plain": [
       "id                                      0\n",
       "listing_url                             0\n",
       "scrape_id                               0\n",
       "last_scraped                            0\n",
       "name                                    2\n",
       "summary                               442\n",
       "space                                3216\n",
       "description                           124\n",
       "experiences_offered                     0\n",
       "neighborhood_overview                4934\n",
       "notes                                6690\n",
       "transit                              4937\n",
       "access                               4817\n",
       "interaction                          5375\n",
       "house_rules                          4416\n",
       "thumbnail_url                       15199\n",
       "medium_url                          15199\n",
       "picture_url                             0\n",
       "xl_picture_url                      15199\n",
       "host_id                                 0\n",
       "host_url                                0\n",
       "host_name                               0\n",
       "host_since                              0\n",
       "host_location                          32\n",
       "host_about                           4418\n",
       "host_response_time                   1792\n",
       "host_response_rate                   1792\n",
       "host_acceptance_rate                15199\n",
       "host_is_superhost                       0\n",
       "host_thumbnail_url                      0\n",
       "                                    ...  \n",
       "minimum_nights                          0\n",
       "maximum_nights                          0\n",
       "calendar_updated                        0\n",
       "has_availability                        0\n",
       "availability_30                         0\n",
       "availability_60                         0\n",
       "availability_90                         0\n",
       "availability_365                        0\n",
       "calendar_last_scraped                   0\n",
       "number_of_reviews                       0\n",
       "first_review                         2678\n",
       "last_review                          2678\n",
       "review_scores_rating                 2797\n",
       "review_scores_accuracy               2804\n",
       "review_scores_cleanliness            2801\n",
       "review_scores_checkin                2811\n",
       "review_scores_communication          2804\n",
       "review_scores_location               2808\n",
       "review_scores_value                  2810\n",
       "requires_license                        0\n",
       "license                             10857\n",
       "jurisdiction_names                   1979\n",
       "instant_bookable                        0\n",
       "is_business_travel_ready                0\n",
       "cancellation_policy                     0\n",
       "require_guest_profile_picture           0\n",
       "require_guest_phone_verification        0\n",
       "calculated_host_listings_count          0\n",
       "reviews_per_month                    2678\n",
       "district                                0\n",
       "Length: 97, dtype: int64"
      ]
     },
     "metadata": {},
     "output_type": "display_data"
    }
   ],
   "source": [
    "# Checked for Null vales within data\n",
    "\n",
    "display(df_listings.isnull().sum())"
   ]
  },
  {
   "cell_type": "code",
   "execution_count": 10,
   "metadata": {
    "ExecuteTime": {
     "end_time": "2019-02-18T02:45:36.213826Z",
     "start_time": "2019-02-18T02:45:36.166338Z"
    }
   },
   "outputs": [
    {
     "data": {
      "text/plain": [
       "'Dimensions after drilling down: '"
      ]
     },
     "metadata": {},
     "output_type": "display_data"
    },
    {
     "data": {
      "text/plain": [
       "(15199, 43)"
      ]
     },
     "metadata": {},
     "output_type": "display_data"
    },
    {
     "data": {
      "text/html": [
       "<div>\n",
       "<style scoped>\n",
       "    .dataframe tbody tr th:only-of-type {\n",
       "        vertical-align: middle;\n",
       "    }\n",
       "\n",
       "    .dataframe tbody tr th {\n",
       "        vertical-align: top;\n",
       "    }\n",
       "\n",
       "    .dataframe thead th {\n",
       "        text-align: right;\n",
       "    }\n",
       "</style>\n",
       "<table border=\"1\" class=\"dataframe\">\n",
       "  <thead>\n",
       "    <tr style=\"text-align: right;\">\n",
       "      <th></th>\n",
       "      <th></th>\n",
       "      <th>id</th>\n",
       "      <th>host_since</th>\n",
       "      <th>host_response_time</th>\n",
       "      <th>host_response_rate</th>\n",
       "      <th>host_is_superhost</th>\n",
       "      <th>host_listings_count</th>\n",
       "      <th>host_total_listings_count</th>\n",
       "      <th>host_has_profile_pic</th>\n",
       "      <th>host_identity_verified</th>\n",
       "      <th>neighbourhood_cleansed</th>\n",
       "      <th>...</th>\n",
       "      <th>review_scores_value</th>\n",
       "      <th>jurisdiction_names</th>\n",
       "      <th>instant_bookable</th>\n",
       "      <th>is_business_travel_ready</th>\n",
       "      <th>cancellation_policy</th>\n",
       "      <th>require_guest_profile_picture</th>\n",
       "      <th>require_guest_phone_verification</th>\n",
       "      <th>calculated_host_listings_count</th>\n",
       "      <th>reviews_per_month</th>\n",
       "      <th>district</th>\n",
       "    </tr>\n",
       "  </thead>\n",
       "  <tbody>\n",
       "    <tr>\n",
       "      <th rowspan=\"5\" valign=\"top\">sf</th>\n",
       "      <th>0</th>\n",
       "      <td>958</td>\n",
       "      <td>2008-07-31</td>\n",
       "      <td>within an hour</td>\n",
       "      <td>92%</td>\n",
       "      <td>t</td>\n",
       "      <td>1</td>\n",
       "      <td>1</td>\n",
       "      <td>t</td>\n",
       "      <td>t</td>\n",
       "      <td>Western Addition</td>\n",
       "      <td>...</td>\n",
       "      <td>10.0</td>\n",
       "      <td>{\"SAN FRANCISCO\"}</td>\n",
       "      <td>f</td>\n",
       "      <td>f</td>\n",
       "      <td>moderate</td>\n",
       "      <td>f</td>\n",
       "      <td>f</td>\n",
       "      <td>1</td>\n",
       "      <td>1.38</td>\n",
       "      <td>San Francisco</td>\n",
       "    </tr>\n",
       "    <tr>\n",
       "      <th>1</th>\n",
       "      <td>5858</td>\n",
       "      <td>2009-03-02</td>\n",
       "      <td>within an hour</td>\n",
       "      <td>100%</td>\n",
       "      <td>f</td>\n",
       "      <td>2</td>\n",
       "      <td>2</td>\n",
       "      <td>t</td>\n",
       "      <td>t</td>\n",
       "      <td>Bernal Heights</td>\n",
       "      <td>...</td>\n",
       "      <td>9.0</td>\n",
       "      <td>{\"SAN FRANCISCO\"}</td>\n",
       "      <td>f</td>\n",
       "      <td>f</td>\n",
       "      <td>strict_14_with_grace_period</td>\n",
       "      <td>f</td>\n",
       "      <td>f</td>\n",
       "      <td>1</td>\n",
       "      <td>0.99</td>\n",
       "      <td>San Francisco</td>\n",
       "    </tr>\n",
       "    <tr>\n",
       "      <th>2</th>\n",
       "      <td>7918</td>\n",
       "      <td>2009-06-17</td>\n",
       "      <td>within a few hours</td>\n",
       "      <td>100%</td>\n",
       "      <td>f</td>\n",
       "      <td>10</td>\n",
       "      <td>10</td>\n",
       "      <td>t</td>\n",
       "      <td>t</td>\n",
       "      <td>Haight Ashbury</td>\n",
       "      <td>...</td>\n",
       "      <td>8.0</td>\n",
       "      <td>{\"SAN FRANCISCO\"}</td>\n",
       "      <td>f</td>\n",
       "      <td>f</td>\n",
       "      <td>strict_14_with_grace_period</td>\n",
       "      <td>f</td>\n",
       "      <td>f</td>\n",
       "      <td>9</td>\n",
       "      <td>0.16</td>\n",
       "      <td>San Francisco</td>\n",
       "    </tr>\n",
       "    <tr>\n",
       "      <th>3</th>\n",
       "      <td>8142</td>\n",
       "      <td>2009-06-17</td>\n",
       "      <td>within a few hours</td>\n",
       "      <td>100%</td>\n",
       "      <td>f</td>\n",
       "      <td>10</td>\n",
       "      <td>10</td>\n",
       "      <td>t</td>\n",
       "      <td>t</td>\n",
       "      <td>Haight Ashbury</td>\n",
       "      <td>...</td>\n",
       "      <td>9.0</td>\n",
       "      <td>{\"SAN FRANCISCO\"}</td>\n",
       "      <td>f</td>\n",
       "      <td>f</td>\n",
       "      <td>strict_14_with_grace_period</td>\n",
       "      <td>f</td>\n",
       "      <td>f</td>\n",
       "      <td>9</td>\n",
       "      <td>0.15</td>\n",
       "      <td>San Francisco</td>\n",
       "    </tr>\n",
       "    <tr>\n",
       "      <th>4</th>\n",
       "      <td>8339</td>\n",
       "      <td>2009-07-02</td>\n",
       "      <td>within an hour</td>\n",
       "      <td>100%</td>\n",
       "      <td>f</td>\n",
       "      <td>2</td>\n",
       "      <td>2</td>\n",
       "      <td>t</td>\n",
       "      <td>t</td>\n",
       "      <td>Western Addition</td>\n",
       "      <td>...</td>\n",
       "      <td>10.0</td>\n",
       "      <td>{\"SAN FRANCISCO\"}</td>\n",
       "      <td>f</td>\n",
       "      <td>f</td>\n",
       "      <td>strict_14_with_grace_period</td>\n",
       "      <td>t</td>\n",
       "      <td>t</td>\n",
       "      <td>2</td>\n",
       "      <td>0.24</td>\n",
       "      <td>San Francisco</td>\n",
       "    </tr>\n",
       "  </tbody>\n",
       "</table>\n",
       "<p>5 rows × 43 columns</p>\n",
       "</div>"
      ],
      "text/plain": [
       "        id host_since  host_response_time host_response_rate  \\\n",
       "sf 0   958 2008-07-31      within an hour                92%   \n",
       "   1  5858 2009-03-02      within an hour               100%   \n",
       "   2  7918 2009-06-17  within a few hours               100%   \n",
       "   3  8142 2009-06-17  within a few hours               100%   \n",
       "   4  8339 2009-07-02      within an hour               100%   \n",
       "\n",
       "     host_is_superhost  host_listings_count  host_total_listings_count  \\\n",
       "sf 0                 t                    1                          1   \n",
       "   1                 f                    2                          2   \n",
       "   2                 f                   10                         10   \n",
       "   3                 f                   10                         10   \n",
       "   4                 f                    2                          2   \n",
       "\n",
       "     host_has_profile_pic host_identity_verified neighbourhood_cleansed  \\\n",
       "sf 0                    t                      t       Western Addition   \n",
       "   1                    t                      t         Bernal Heights   \n",
       "   2                    t                      t         Haight Ashbury   \n",
       "   3                    t                      t         Haight Ashbury   \n",
       "   4                    t                      t       Western Addition   \n",
       "\n",
       "          ...       review_scores_value jurisdiction_names instant_bookable  \\\n",
       "sf 0      ...                      10.0  {\"SAN FRANCISCO\"}                f   \n",
       "   1      ...                       9.0  {\"SAN FRANCISCO\"}                f   \n",
       "   2      ...                       8.0  {\"SAN FRANCISCO\"}                f   \n",
       "   3      ...                       9.0  {\"SAN FRANCISCO\"}                f   \n",
       "   4      ...                      10.0  {\"SAN FRANCISCO\"}                f   \n",
       "\n",
       "     is_business_travel_ready          cancellation_policy  \\\n",
       "sf 0                        f                     moderate   \n",
       "   1                        f  strict_14_with_grace_period   \n",
       "   2                        f  strict_14_with_grace_period   \n",
       "   3                        f  strict_14_with_grace_period   \n",
       "   4                        f  strict_14_with_grace_period   \n",
       "\n",
       "      require_guest_profile_picture  require_guest_phone_verification  \\\n",
       "sf 0                              f                                 f   \n",
       "   1                              f                                 f   \n",
       "   2                              f                                 f   \n",
       "   3                              f                                 f   \n",
       "   4                              t                                 t   \n",
       "\n",
       "      calculated_host_listings_count reviews_per_month       district  \n",
       "sf 0                               1              1.38  San Francisco  \n",
       "   1                               1              0.99  San Francisco  \n",
       "   2                               9              0.16  San Francisco  \n",
       "   3                               9              0.15  San Francisco  \n",
       "   4                               2              0.24  San Francisco  \n",
       "\n",
       "[5 rows x 43 columns]"
      ]
     },
     "execution_count": 10,
     "metadata": {},
     "output_type": "execute_result"
    }
   ],
   "source": [
    "# Columns removed/dropped:\n",
    "# Removed columns with >90% null values: 'experience_offered', 'host_acceptance_rate', \\ \n",
    "#'neighbourhood_group_cleansed', 'square_feet'\n",
    "# Removed 'jurisdiction_names', 'neighbourhood', kept'neighbourhood_cleansed'\n",
    "# Noted'city' and 'smart location' provide duplicate information, removed 'smart location'\n",
    "# Removed 'Country code' and 'country', as all instances locate within US\n",
    "\n",
    "\n",
    "columns_to_keep =[\n",
    "       'id','host_since','host_response_time', 'host_response_rate',\n",
    "        'host_is_superhost', 'host_listings_count',\n",
    "       'host_total_listings_count', \n",
    "       'host_has_profile_pic', 'host_identity_verified', \n",
    "        'neighbourhood_cleansed',\n",
    "       'city', \n",
    "       'is_location_exact', 'property_type', 'room_type', 'accommodates',\n",
    "       'bathrooms', 'bedrooms', 'beds', 'bed_type','amenities', \n",
    "       'price', 'security_deposit',\n",
    "       'cleaning_fee', 'guests_included',  'minimum_nights','number_of_reviews',\n",
    "       'first_review', 'review_scores_rating',\n",
    "       'review_scores_accuracy', 'review_scores_cleanliness',\n",
    "       'review_scores_checkin', 'review_scores_communication',\n",
    "       'review_scores_location', 'review_scores_value', 'jurisdiction_names', 'instant_bookable',\n",
    "       'is_business_travel_ready', 'cancellation_policy',\n",
    "       'require_guest_profile_picture', 'require_guest_phone_verification',\n",
    "       'calculated_host_listings_count', 'reviews_per_month', 'district']\n",
    "\n",
    "\n",
    "df_listings_smaller = df_listings[columns_to_keep]\n",
    "display ('Dimensions after drilling down: ' ,df_listings_smaller.shape)\n",
    "df_listings_smaller.head()"
   ]
  },
  {
   "cell_type": "markdown",
   "metadata": {},
   "source": [
    "## Data Format"
   ]
  },
  {
   "cell_type": "code",
   "execution_count": 11,
   "metadata": {
    "ExecuteTime": {
     "end_time": "2019-02-18T02:45:36.222460Z",
     "start_time": "2019-02-18T02:45:36.218369Z"
    }
   },
   "outputs": [],
   "source": [
    "def apply2df(df, column_names, function):\n",
    "    \"\"\"\n",
    "    This enables various functions to be applied to multiple columns of dataframe.\n",
    "    Input: dataframe, columns to apply function to, function\n",
    "    Return: updated dataframe\n",
    "    \"\"\"\n",
    "    for column in column_names:\n",
    "        df[column] = df[column].apply(lambda x: function(x))\n",
    "    return df"
   ]
  },
  {
   "cell_type": "markdown",
   "metadata": {
    "ExecuteTime": {
     "end_time": "2019-02-17T08:45:45.634174Z",
     "start_time": "2019-02-17T08:45:45.630559Z"
    }
   },
   "source": [
    "### Percentage"
   ]
  },
  {
   "cell_type": "code",
   "execution_count": 12,
   "metadata": {
    "ExecuteTime": {
     "end_time": "2019-02-18T02:45:36.229558Z",
     "start_time": "2019-02-18T02:45:36.225798Z"
    }
   },
   "outputs": [],
   "source": [
    "# Noted percentage features are formated as strings, and need to be converted\n",
    "# to float format\n",
    "\n",
    "def percent2float(string):\n",
    "    \"\"\"\n",
    "    Convert strings with percentage sign to float\n",
    "    \"\"\"\n",
    "    percentage = float(str(string).strip('%'))/100.0\n",
    "    return percentage"
   ]
  },
  {
   "cell_type": "code",
   "execution_count": 13,
   "metadata": {
    "ExecuteTime": {
     "end_time": "2019-02-18T02:45:36.250568Z",
     "start_time": "2019-02-18T02:45:36.236274Z"
    }
   },
   "outputs": [
    {
     "name": "stdout",
     "output_type": "stream",
     "text": [
      "Type:  <class 'str'>\n"
     ]
    },
    {
     "data": {
      "text/plain": [
       "sf  0     92%\n",
       "    1    100%\n",
       "    2    100%\n",
       "    3    100%\n",
       "    4    100%\n",
       "Name: host_response_rate, dtype: object"
      ]
     },
     "execution_count": 13,
     "metadata": {},
     "output_type": "execute_result"
    }
   ],
   "source": [
    "print ('Type: ', type(df_listings_smaller.host_response_rate[0]))\n",
    "df_listings_smaller.host_response_rate[0:5]"
   ]
  },
  {
   "cell_type": "code",
   "execution_count": 14,
   "metadata": {
    "ExecuteTime": {
     "end_time": "2019-02-18T02:45:36.325272Z",
     "start_time": "2019-02-18T02:45:36.252799Z"
    }
   },
   "outputs": [],
   "source": [
    "# Converted percentage features to float format\n",
    "\n",
    "percents = ['host_response_rate']\n",
    "\n",
    "df_listings_smaller = apply2df(df_listings_smaller, percents, percent2float)"
   ]
  },
  {
   "cell_type": "code",
   "execution_count": 15,
   "metadata": {
    "ExecuteTime": {
     "end_time": "2019-02-18T02:45:36.335083Z",
     "start_time": "2019-02-18T02:45:36.327714Z"
    }
   },
   "outputs": [
    {
     "data": {
      "text/plain": [
       "sf  0    0.92\n",
       "    1    1.00\n",
       "    2    1.00\n",
       "    3    1.00\n",
       "    4    1.00\n",
       "Name: host_response_rate, dtype: float64"
      ]
     },
     "execution_count": 15,
     "metadata": {},
     "output_type": "execute_result"
    }
   ],
   "source": [
    "df_listings_smaller.host_response_rate[0:5]"
   ]
  },
  {
   "cell_type": "markdown",
   "metadata": {
    "ExecuteTime": {
     "end_time": "2019-02-17T08:53:41.153251Z",
     "start_time": "2019-02-17T08:53:41.150357Z"
    }
   },
   "source": [
    "### Currency"
   ]
  },
  {
   "cell_type": "code",
   "execution_count": 16,
   "metadata": {
    "ExecuteTime": {
     "end_time": "2019-02-18T02:45:36.342431Z",
     "start_time": "2019-02-18T02:45:36.338199Z"
    }
   },
   "outputs": [],
   "source": [
    "# Noted currency features are formated as strings, and need to be converted \n",
    "# to float format\n",
    "\n",
    "def currency2float(string):\n",
    "    \"\"\"\n",
    "    Convert currency to float\n",
    "    \"\"\"\n",
    "    string = str(string).strip(' ').replace(' \\\\n', '')\n",
    "    float_ = float(string.strip('$').replace(',',''))\n",
    "    return float_"
   ]
  },
  {
   "cell_type": "code",
   "execution_count": 17,
   "metadata": {
    "ExecuteTime": {
     "end_time": "2019-02-18T02:45:36.365998Z",
     "start_time": "2019-02-18T02:45:36.345767Z"
    }
   },
   "outputs": [
    {
     "name": "stdout",
     "output_type": "stream",
     "text": [
      "Type of price:  <class 'str'>\n"
     ]
    },
    {
     "data": {
      "text/plain": [
       "sf  0    $170.00 \n",
       "    1    $235.00 \n",
       "    2     $65.00 \n",
       "    3     $65.00 \n",
       "    4    $675.00 \n",
       "Name: price, dtype: object"
      ]
     },
     "metadata": {},
     "output_type": "display_data"
    },
    {
     "name": "stdout",
     "output_type": "stream",
     "text": [
      "Type of security deposit:  <class 'str'>\n"
     ]
    },
    {
     "data": {
      "text/plain": [
       "sf  0    $100.00 \n",
       "    1         NaN\n",
       "    2    $200.00 \n",
       "    3    $200.00 \n",
       "    4      $0.00 \n",
       "Name: security_deposit, dtype: object"
      ]
     },
     "metadata": {},
     "output_type": "display_data"
    },
    {
     "name": "stdout",
     "output_type": "stream",
     "text": [
      "Type of security deposit:  <class 'str'>\n"
     ]
    },
    {
     "data": {
      "text/plain": [
       "sf  0    $100.00 \n",
       "    1    $100.00 \n",
       "    2     $50.00 \n",
       "    3     $50.00 \n",
       "    4    $225.00 \n",
       "Name: cleaning_fee, dtype: object"
      ]
     },
     "metadata": {},
     "output_type": "display_data"
    }
   ],
   "source": [
    "print ('Type of price: ', type(df_listings_smaller.price[0]))\n",
    "display (df_listings_smaller.price[0:5])\n",
    "\n",
    "print ('Type of security deposit: ', type(df_listings_smaller.security_deposit[0]))\n",
    "display(df_listings_smaller.security_deposit[0:5])\n",
    "\n",
    "print ('Type of security deposit: ', type(df_listings_smaller.cleaning_fee[0]))\n",
    "display(df_listings_smaller.cleaning_fee[0:5])"
   ]
  },
  {
   "cell_type": "code",
   "execution_count": 18,
   "metadata": {
    "ExecuteTime": {
     "end_time": "2019-02-18T02:45:36.604397Z",
     "start_time": "2019-02-18T02:45:36.369161Z"
    }
   },
   "outputs": [],
   "source": [
    "# Converted currency features to float\n",
    "\n",
    "curriencies = ['price', 'security_deposit', 'cleaning_fee']\n",
    "\n",
    "df_listings_smaller = apply2df(df_listings_smaller, curriencies, currency2float)"
   ]
  },
  {
   "cell_type": "markdown",
   "metadata": {},
   "source": [
    "### Timestamp"
   ]
  },
  {
   "cell_type": "code",
   "execution_count": 19,
   "metadata": {
    "ExecuteTime": {
     "end_time": "2019-02-18T02:45:36.611605Z",
     "start_time": "2019-02-18T02:45:36.607187Z"
    }
   },
   "outputs": [],
   "source": [
    "# This is to convert timestamp features to duration\n",
    "# Duration is calculated by: \n",
    "# number of years between original timestamp and current year\n",
    "\n",
    "def duration(starting_time):\n",
    "    \"\"\"\n",
    "    Calculate duration or number of years between current year and starting_time\n",
    "    \"\"\"\n",
    "    starting_year = starting_time.year\n",
    "    current_year = datetime.now().year\n",
    "    duration = current_year - starting_year + 1\n",
    "    \n",
    "    return duration"
   ]
  },
  {
   "cell_type": "code",
   "execution_count": 20,
   "metadata": {
    "ExecuteTime": {
     "end_time": "2019-02-18T02:45:36.854985Z",
     "start_time": "2019-02-18T02:45:36.614787Z"
    }
   },
   "outputs": [],
   "source": [
    "# Converted timestamp features to duration\n",
    "\n",
    "timestamps = ['host_since', 'first_review']\n",
    "\n",
    "df_listings_smaller = apply2df(df_listings_smaller, timestamps, duration)"
   ]
  },
  {
   "cell_type": "code",
   "execution_count": 21,
   "metadata": {
    "ExecuteTime": {
     "end_time": "2019-02-18T02:45:36.922641Z",
     "start_time": "2019-02-18T02:45:36.857484Z"
    }
   },
   "outputs": [],
   "source": [
    "# Rename columns to reflect duration nature\n",
    "\n",
    "mapper = {'host_since' : 'host_yrs', 'first_review': 'yrs_since_1st_review'}\n",
    "\n",
    "df_listings_smaller.rename(columns=mapper, inplace=True)"
   ]
  },
  {
   "cell_type": "code",
   "execution_count": 22,
   "metadata": {
    "ExecuteTime": {
     "end_time": "2019-02-18T02:45:36.931290Z",
     "start_time": "2019-02-18T02:45:36.925334Z"
    }
   },
   "outputs": [
    {
     "data": {
      "text/plain": [
       "Index(['id', 'host_yrs', 'host_response_time', 'host_response_rate',\n",
       "       'host_is_superhost', 'host_listings_count', 'host_total_listings_count',\n",
       "       'host_has_profile_pic', 'host_identity_verified',\n",
       "       'neighbourhood_cleansed', 'city', 'is_location_exact', 'property_type',\n",
       "       'room_type', 'accommodates', 'bathrooms', 'bedrooms', 'beds',\n",
       "       'bed_type', 'amenities', 'price', 'security_deposit', 'cleaning_fee',\n",
       "       'guests_included', 'minimum_nights', 'number_of_reviews',\n",
       "       'yrs_since_1st_review', 'review_scores_rating',\n",
       "       'review_scores_accuracy', 'review_scores_cleanliness',\n",
       "       'review_scores_checkin', 'review_scores_communication',\n",
       "       'review_scores_location', 'review_scores_value', 'jurisdiction_names',\n",
       "       'instant_bookable', 'is_business_travel_ready', 'cancellation_policy',\n",
       "       'require_guest_profile_picture', 'require_guest_phone_verification',\n",
       "       'calculated_host_listings_count', 'reviews_per_month', 'district'],\n",
       "      dtype='object')"
      ]
     },
     "execution_count": 22,
     "metadata": {},
     "output_type": "execute_result"
    }
   ],
   "source": [
    "df_listings_smaller.columns"
   ]
  },
  {
   "cell_type": "markdown",
   "metadata": {
    "ExecuteTime": {
     "end_time": "2019-02-17T07:25:29.888261Z",
     "start_time": "2019-02-17T07:25:29.885574Z"
    }
   },
   "source": [
    "## Outliers"
   ]
  },
  {
   "cell_type": "code",
   "execution_count": 23,
   "metadata": {
    "ExecuteTime": {
     "end_time": "2019-02-18T02:45:36.948487Z",
     "start_time": "2019-02-18T02:45:36.934377Z"
    }
   },
   "outputs": [
    {
     "data": {
      "text/plain": [
       "count    15199.000000\n",
       "mean       182.285019\n",
       "std        279.583024\n",
       "min          0.000000\n",
       "5%          40.000000\n",
       "10%         50.000000\n",
       "25%         75.000000\n",
       "50%        124.000000\n",
       "75%        200.000000\n",
       "90%        325.000000\n",
       "95%        480.000000\n",
       "max      10000.000000\n",
       "Name: price, dtype: float64"
      ]
     },
     "execution_count": 23,
     "metadata": {},
     "output_type": "execute_result"
    }
   ],
   "source": [
    "df_listings_smaller.price.describe(percentiles=[.05, .10, .25, .50, .75, .90, .95])"
   ]
  },
  {
   "cell_type": "code",
   "execution_count": 24,
   "metadata": {
    "ExecuteTime": {
     "end_time": "2019-02-18T02:45:36.964582Z",
     "start_time": "2019-02-18T02:45:36.951059Z"
    }
   },
   "outputs": [
    {
     "data": {
      "text/plain": [
       "(12334, 43)"
      ]
     },
     "metadata": {},
     "output_type": "display_data"
    }
   ],
   "source": [
    "# Outliers removal. Kept only values between 5% and 95% percentiles\n",
    "\n",
    "five_percentitle = np.percentile(df_listings_smaller['price'], 5)\n",
    "ninety_five_percentitle = np.percentile(df_listings_smaller['price'], 95)\n",
    "\n",
    "df_listings_smaller = df_listings_smaller[\n",
    "                     (df_listings_smaller['price']<=ninety_five_percentitle) \n",
    "                      & (df_listings_smaller['price']>=five_percentitle)]\n",
    "\n",
    "display(df_listings_smaller.shape)"
   ]
  },
  {
   "cell_type": "code",
   "execution_count": 25,
   "metadata": {
    "ExecuteTime": {
     "end_time": "2019-02-18T02:45:36.977207Z",
     "start_time": "2019-02-18T02:45:36.967322Z"
    }
   },
   "outputs": [
    {
     "data": {
      "text/plain": [
       "count    12334.000000\n",
       "mean       137.256040\n",
       "std         67.810834\n",
       "min         50.000000\n",
       "25%         80.000000\n",
       "50%        120.000000\n",
       "75%        180.000000\n",
       "max        325.000000\n",
       "Name: price, dtype: float64"
      ]
     },
     "execution_count": 25,
     "metadata": {},
     "output_type": "execute_result"
    }
   ],
   "source": [
    "df_listings_smaller.price.describe()"
   ]
  },
  {
   "cell_type": "code",
   "execution_count": 26,
   "metadata": {
    "ExecuteTime": {
     "end_time": "2019-02-18T02:45:37.151702Z",
     "start_time": "2019-02-18T02:45:36.980314Z"
    }
   },
   "outputs": [
    {
     "data": {
      "text/plain": [
       "<matplotlib.axes._subplots.AxesSubplot at 0x1c23e92320>"
      ]
     },
     "execution_count": 26,
     "metadata": {},
     "output_type": "execute_result"
    },
    {
     "data": {
      "image/png": "[encoded data removed]",
      "text/plain": [
       "<Figure size 576x396 with 1 Axes>"
      ]
     },
     "metadata": {},
     "output_type": "display_data"
    }
   ],
   "source": [
    "df_listings_smaller.price.hist()"
   ]
  },
  {
   "cell_type": "markdown",
   "metadata": {},
   "source": [
    "## Null Values"
   ]
  },
  {
   "cell_type": "code",
   "execution_count": 27,
   "metadata": {
    "ExecuteTime": {
     "end_time": "2019-02-18T02:45:37.190667Z",
     "start_time": "2019-02-18T02:45:37.156177Z"
    }
   },
   "outputs": [
    {
     "data": {
      "text/plain": [
       "id                                     0\n",
       "host_yrs                               0\n",
       "host_response_time                  1434\n",
       "host_response_rate                  1434\n",
       "host_is_superhost                      0\n",
       "host_listings_count                    0\n",
       "host_total_listings_count              0\n",
       "host_has_profile_pic                   0\n",
       "host_identity_verified                 0\n",
       "neighbourhood_cleansed                 0\n",
       "city                                  13\n",
       "is_location_exact                      0\n",
       "property_type                          0\n",
       "room_type                              0\n",
       "accommodates                           0\n",
       "bathrooms                             19\n",
       "bedrooms                               3\n",
       "beds                                  10\n",
       "bed_type                               0\n",
       "amenities                              0\n",
       "price                                  0\n",
       "security_deposit                    3022\n",
       "cleaning_fee                        1636\n",
       "guests_included                        0\n",
       "minimum_nights                         0\n",
       "number_of_reviews                      0\n",
       "yrs_since_1st_review                2054\n",
       "review_scores_rating                2145\n",
       "review_scores_accuracy              2150\n",
       "review_scores_cleanliness           2148\n",
       "review_scores_checkin               2156\n",
       "review_scores_communication         2150\n",
       "review_scores_location              2153\n",
       "review_scores_value                 2155\n",
       "jurisdiction_names                  1605\n",
       "instant_bookable                       0\n",
       "is_business_travel_ready               0\n",
       "cancellation_policy                    0\n",
       "require_guest_profile_picture          0\n",
       "require_guest_phone_verification       0\n",
       "calculated_host_listings_count         0\n",
       "reviews_per_month                   2054\n",
       "district                               0\n",
       "dtype: int64"
      ]
     },
     "execution_count": 27,
     "metadata": {},
     "output_type": "execute_result"
    }
   ],
   "source": [
    "# Checked for null values\n",
    "\n",
    "df_listings_smaller.isnull().sum()"
   ]
  },
  {
   "cell_type": "code",
   "execution_count": 28,
   "metadata": {
    "ExecuteTime": {
     "end_time": "2019-02-18T02:45:37.308949Z",
     "start_time": "2019-02-18T02:45:37.193388Z"
    }
   },
   "outputs": [],
   "source": [
    "# Filled null values with average\n",
    "\n",
    "df_listings_smaller['security_deposit'].fillna(\n",
    "                    value=df_listings_smaller['security_deposit'].mean(),\n",
    "                    inplace=True)\n",
    "\n",
    "df_listings_smaller['cleaning_fee'].fillna(\n",
    "                    value=df_listings_smaller['cleaning_fee'].mean(),\n",
    "                    inplace=True)"
   ]
  },
  {
   "cell_type": "code",
   "execution_count": 29,
   "metadata": {
    "ExecuteTime": {
     "end_time": "2019-02-18T02:45:37.361084Z",
     "start_time": "2019-02-18T02:45:37.311568Z"
    }
   },
   "outputs": [
    {
     "data": {
      "text/plain": [
       "'Dimensions after dropping null values: '"
      ]
     },
     "metadata": {},
     "output_type": "display_data"
    },
    {
     "data": {
      "text/plain": [
       "(8092, 43)"
      ]
     },
     "metadata": {},
     "output_type": "display_data"
    },
    {
     "data": {
      "text/plain": [
       "id                                  0\n",
       "host_yrs                            0\n",
       "host_response_time                  0\n",
       "host_response_rate                  0\n",
       "host_is_superhost                   0\n",
       "host_listings_count                 0\n",
       "host_total_listings_count           0\n",
       "host_has_profile_pic                0\n",
       "host_identity_verified              0\n",
       "neighbourhood_cleansed              0\n",
       "city                                0\n",
       "is_location_exact                   0\n",
       "property_type                       0\n",
       "room_type                           0\n",
       "accommodates                        0\n",
       "bathrooms                           0\n",
       "bedrooms                            0\n",
       "beds                                0\n",
       "bed_type                            0\n",
       "amenities                           0\n",
       "price                               0\n",
       "security_deposit                    0\n",
       "cleaning_fee                        0\n",
       "guests_included                     0\n",
       "minimum_nights                      0\n",
       "number_of_reviews                   0\n",
       "yrs_since_1st_review                0\n",
       "review_scores_rating                0\n",
       "review_scores_accuracy              0\n",
       "review_scores_cleanliness           0\n",
       "review_scores_checkin               0\n",
       "review_scores_communication         0\n",
       "review_scores_location              0\n",
       "review_scores_value                 0\n",
       "jurisdiction_names                  0\n",
       "instant_bookable                    0\n",
       "is_business_travel_ready            0\n",
       "cancellation_policy                 0\n",
       "require_guest_profile_picture       0\n",
       "require_guest_phone_verification    0\n",
       "calculated_host_listings_count      0\n",
       "reviews_per_month                   0\n",
       "district                            0\n",
       "dtype: int64"
      ]
     },
     "execution_count": 29,
     "metadata": {},
     "output_type": "execute_result"
    }
   ],
   "source": [
    "# Dropped remaining null values\n",
    "\n",
    "df_listings_clean = df_listings_smaller.dropna()\n",
    "\n",
    "display('Dimensions after dropping null values: ', df_listings_clean.shape)\n",
    "df_listings_clean.isnull().sum()"
   ]
  },
  {
   "cell_type": "code",
   "execution_count": 30,
   "metadata": {
    "ExecuteTime": {
     "end_time": "2019-02-18T02:45:37.445032Z",
     "start_time": "2019-02-18T02:45:37.366107Z"
    }
   },
   "outputs": [],
   "source": [
    "# Removed special characters within jurisdiction\n",
    "# Created a separate dataframe to keep track of juristiction info\n",
    "# The dataframe will be used in later stage\n",
    "\n",
    "df_listings_clean['jurisdiction_names'] = df_listings_clean['jurisdiction_names']  \\\n",
    "                                            .str.replace('[^\\w\\s,]', '')\n",
    "df_jurisdiction = df_listings_clean.loc[:, ['id', 'jurisdiction_names']]"
   ]
  },
  {
   "cell_type": "markdown",
   "metadata": {
    "ExecuteTime": {
     "end_time": "2019-02-17T07:30:53.891861Z",
     "start_time": "2019-02-17T07:30:53.889164Z"
    }
   },
   "source": [
    "## Categorical Data"
   ]
  },
  {
   "cell_type": "code",
   "execution_count": 31,
   "metadata": {
    "ExecuteTime": {
     "end_time": "2019-02-18T02:45:37.485015Z",
     "start_time": "2019-02-18T02:45:37.447381Z"
    }
   },
   "outputs": [
    {
     "name": "stdout",
     "output_type": "stream",
     "text": [
      "Categorical data dimensions:  17\n"
     ]
    },
    {
     "data": {
      "text/html": [
       "<div>\n",
       "<style scoped>\n",
       "    .dataframe tbody tr th:only-of-type {\n",
       "        vertical-align: middle;\n",
       "    }\n",
       "\n",
       "    .dataframe tbody tr th {\n",
       "        vertical-align: top;\n",
       "    }\n",
       "\n",
       "    .dataframe thead th {\n",
       "        text-align: right;\n",
       "    }\n",
       "</style>\n",
       "<table border=\"1\" class=\"dataframe\">\n",
       "  <thead>\n",
       "    <tr style=\"text-align: right;\">\n",
       "      <th></th>\n",
       "      <th></th>\n",
       "      <th>host_response_time</th>\n",
       "      <th>host_is_superhost</th>\n",
       "      <th>host_has_profile_pic</th>\n",
       "      <th>host_identity_verified</th>\n",
       "      <th>neighbourhood_cleansed</th>\n",
       "      <th>city</th>\n",
       "      <th>is_location_exact</th>\n",
       "      <th>property_type</th>\n",
       "      <th>room_type</th>\n",
       "      <th>bed_type</th>\n",
       "      <th>jurisdiction_names</th>\n",
       "      <th>instant_bookable</th>\n",
       "      <th>is_business_travel_ready</th>\n",
       "      <th>cancellation_policy</th>\n",
       "      <th>require_guest_profile_picture</th>\n",
       "      <th>require_guest_phone_verification</th>\n",
       "      <th>district</th>\n",
       "    </tr>\n",
       "  </thead>\n",
       "  <tbody>\n",
       "    <tr>\n",
       "      <th rowspan=\"5\" valign=\"top\">sf</th>\n",
       "      <th>0</th>\n",
       "      <td>within an hour</td>\n",
       "      <td>t</td>\n",
       "      <td>t</td>\n",
       "      <td>t</td>\n",
       "      <td>Western Addition</td>\n",
       "      <td>San Francisco</td>\n",
       "      <td>t</td>\n",
       "      <td>Apartment</td>\n",
       "      <td>Entire home/apt</td>\n",
       "      <td>Real Bed</td>\n",
       "      <td>SAN FRANCISCO</td>\n",
       "      <td>f</td>\n",
       "      <td>f</td>\n",
       "      <td>moderate</td>\n",
       "      <td>f</td>\n",
       "      <td>f</td>\n",
       "      <td>San Francisco</td>\n",
       "    </tr>\n",
       "    <tr>\n",
       "      <th>1</th>\n",
       "      <td>within an hour</td>\n",
       "      <td>f</td>\n",
       "      <td>t</td>\n",
       "      <td>t</td>\n",
       "      <td>Bernal Heights</td>\n",
       "      <td>San Francisco</td>\n",
       "      <td>t</td>\n",
       "      <td>Apartment</td>\n",
       "      <td>Entire home/apt</td>\n",
       "      <td>Real Bed</td>\n",
       "      <td>SAN FRANCISCO</td>\n",
       "      <td>f</td>\n",
       "      <td>f</td>\n",
       "      <td>strict_14_with_grace_period</td>\n",
       "      <td>f</td>\n",
       "      <td>f</td>\n",
       "      <td>San Francisco</td>\n",
       "    </tr>\n",
       "    <tr>\n",
       "      <th>2</th>\n",
       "      <td>within a few hours</td>\n",
       "      <td>f</td>\n",
       "      <td>t</td>\n",
       "      <td>t</td>\n",
       "      <td>Haight Ashbury</td>\n",
       "      <td>San Francisco</td>\n",
       "      <td>t</td>\n",
       "      <td>Apartment</td>\n",
       "      <td>Private room</td>\n",
       "      <td>Real Bed</td>\n",
       "      <td>SAN FRANCISCO</td>\n",
       "      <td>f</td>\n",
       "      <td>f</td>\n",
       "      <td>strict_14_with_grace_period</td>\n",
       "      <td>f</td>\n",
       "      <td>f</td>\n",
       "      <td>San Francisco</td>\n",
       "    </tr>\n",
       "    <tr>\n",
       "      <th>3</th>\n",
       "      <td>within a few hours</td>\n",
       "      <td>f</td>\n",
       "      <td>t</td>\n",
       "      <td>t</td>\n",
       "      <td>Haight Ashbury</td>\n",
       "      <td>San Francisco</td>\n",
       "      <td>t</td>\n",
       "      <td>Apartment</td>\n",
       "      <td>Private room</td>\n",
       "      <td>Real Bed</td>\n",
       "      <td>SAN FRANCISCO</td>\n",
       "      <td>f</td>\n",
       "      <td>f</td>\n",
       "      <td>strict_14_with_grace_period</td>\n",
       "      <td>f</td>\n",
       "      <td>f</td>\n",
       "      <td>San Francisco</td>\n",
       "    </tr>\n",
       "    <tr>\n",
       "      <th>5</th>\n",
       "      <td>within a day</td>\n",
       "      <td>f</td>\n",
       "      <td>t</td>\n",
       "      <td>f</td>\n",
       "      <td>Western Addition</td>\n",
       "      <td>San Francisco</td>\n",
       "      <td>t</td>\n",
       "      <td>Apartment</td>\n",
       "      <td>Entire home/apt</td>\n",
       "      <td>Real Bed</td>\n",
       "      <td>SAN FRANCISCO</td>\n",
       "      <td>f</td>\n",
       "      <td>f</td>\n",
       "      <td>moderate</td>\n",
       "      <td>f</td>\n",
       "      <td>f</td>\n",
       "      <td>San Francisco</td>\n",
       "    </tr>\n",
       "  </tbody>\n",
       "</table>\n",
       "</div>"
      ],
      "text/plain": [
       "      host_response_time host_is_superhost host_has_profile_pic  \\\n",
       "sf 0      within an hour                 t                    t   \n",
       "   1      within an hour                 f                    t   \n",
       "   2  within a few hours                 f                    t   \n",
       "   3  within a few hours                 f                    t   \n",
       "   5        within a day                 f                    t   \n",
       "\n",
       "     host_identity_verified neighbourhood_cleansed           city  \\\n",
       "sf 0                      t       Western Addition  San Francisco   \n",
       "   1                      t         Bernal Heights  San Francisco   \n",
       "   2                      t         Haight Ashbury  San Francisco   \n",
       "   3                      t         Haight Ashbury  San Francisco   \n",
       "   5                      f       Western Addition  San Francisco   \n",
       "\n",
       "     is_location_exact property_type        room_type  bed_type  \\\n",
       "sf 0                 t     Apartment  Entire home/apt  Real Bed   \n",
       "   1                 t     Apartment  Entire home/apt  Real Bed   \n",
       "   2                 t     Apartment     Private room  Real Bed   \n",
       "   3                 t     Apartment     Private room  Real Bed   \n",
       "   5                 t     Apartment  Entire home/apt  Real Bed   \n",
       "\n",
       "     jurisdiction_names instant_bookable is_business_travel_ready  \\\n",
       "sf 0      SAN FRANCISCO                f                        f   \n",
       "   1      SAN FRANCISCO                f                        f   \n",
       "   2      SAN FRANCISCO                f                        f   \n",
       "   3      SAN FRANCISCO                f                        f   \n",
       "   5      SAN FRANCISCO                f                        f   \n",
       "\n",
       "              cancellation_policy require_guest_profile_picture  \\\n",
       "sf 0                     moderate                             f   \n",
       "   1  strict_14_with_grace_period                             f   \n",
       "   2  strict_14_with_grace_period                             f   \n",
       "   3  strict_14_with_grace_period                             f   \n",
       "   5                     moderate                             f   \n",
       "\n",
       "     require_guest_phone_verification       district  \n",
       "sf 0                                f  San Francisco  \n",
       "   1                                f  San Francisco  \n",
       "   2                                f  San Francisco  \n",
       "   3                                f  San Francisco  \n",
       "   5                                f  San Francisco  "
      ]
     },
     "execution_count": 31,
     "metadata": {},
     "output_type": "execute_result"
    }
   ],
   "source": [
    "# Selected categorical variables\n",
    "# Amenities feature contains a long list of amenties and will be handled separately\n",
    "\n",
    "categorical_variables = list(df_listings_clean\n",
    "                             .select_dtypes(include=['object']).columns)\n",
    "categorical_variables.remove('amenities')\n",
    "\n",
    "print ('Categorical data dimensions: ', len(categorical_variables))\n",
    "df_listings_clean[categorical_variables].head()"
   ]
  },
  {
   "cell_type": "code",
   "execution_count": 32,
   "metadata": {
    "ExecuteTime": {
     "end_time": "2019-02-18T02:45:37.544569Z",
     "start_time": "2019-02-18T02:45:37.488084Z"
    }
   },
   "outputs": [],
   "source": [
    "# Converted categorical data to dummy variables\n",
    "\n",
    "df_refined = pd.get_dummies(data=df_listings_clean,columns=categorical_variables)"
   ]
  },
  {
   "cell_type": "code",
   "execution_count": 33,
   "metadata": {
    "ExecuteTime": {
     "end_time": "2019-02-18T02:45:37.554498Z",
     "start_time": "2019-02-18T02:45:37.546991Z"
    }
   },
   "outputs": [
    {
     "name": "stdout",
     "output_type": "stream",
     "text": [
      "df_refined dimensions : (8092, 279)\n"
     ]
    },
    {
     "data": {
      "text/plain": [
       "Index(['id', 'host_yrs', 'host_response_rate', 'host_listings_count',\n",
       "       'host_total_listings_count', 'accommodates', 'bathrooms', 'bedrooms',\n",
       "       'beds', 'amenities',\n",
       "       ...\n",
       "       'cancellation_policy_strict_14_with_grace_period',\n",
       "       'cancellation_policy_super_strict_30',\n",
       "       'cancellation_policy_super_strict_60',\n",
       "       'require_guest_profile_picture_f', 'require_guest_profile_picture_t',\n",
       "       'require_guest_phone_verification_f',\n",
       "       'require_guest_phone_verification_t', 'district_Oakland',\n",
       "       'district_San Francisco', 'district_Santa Clara'],\n",
       "      dtype='object', length=279)"
      ]
     },
     "metadata": {},
     "output_type": "display_data"
    }
   ],
   "source": [
    "print('df_refined dimensions :', df_refined.shape)\n",
    "display(df_refined.columns)"
   ]
  },
  {
   "cell_type": "markdown",
   "metadata": {
    "ExecuteTime": {
     "end_time": "2019-02-17T10:32:00.559412Z",
     "start_time": "2019-02-17T10:32:00.556219Z"
    }
   },
   "source": [
    "## Other Feature Engineering"
   ]
  },
  {
   "cell_type": "markdown",
   "metadata": {},
   "source": [
    "### List of Amenities"
   ]
  },
  {
   "cell_type": "code",
   "execution_count": 34,
   "metadata": {
    "ExecuteTime": {
     "end_time": "2019-02-18T02:45:37.708392Z",
     "start_time": "2019-02-18T02:45:37.557152Z"
    }
   },
   "outputs": [],
   "source": [
    "# Removed special characters within amenities\n",
    "\n",
    "df_refined['amenities'] = df_refined['amenities'].str.replace('[^\\w\\s,]', '')"
   ]
  },
  {
   "cell_type": "code",
   "execution_count": 35,
   "metadata": {
    "ExecuteTime": {
     "end_time": "2019-02-18T02:45:37.721163Z",
     "start_time": "2019-02-18T02:45:37.710680Z"
    }
   },
   "outputs": [
    {
     "name": "stdout",
     "output_type": "stream",
     "text": [
      "Original list of amenities: \n"
     ]
    },
    {
     "data": {
      "text/plain": [
       "sf  0    TV,Cable TV,Internet,Wifi,Kitchen,Pets live on...\n",
       "    1    Internet,Wifi,Kitchen,Heating,Familykid friend...\n",
       "    2    TV,Internet,Wifi,Kitchen,Free street parking,H...\n",
       "    3    TV,Internet,Wifi,Kitchen,Free street parking,H...\n",
       "    5    TV,Cable TV,Internet,Wifi,Kitchen,Free parking...\n",
       "Name: amenities, dtype: object"
      ]
     },
     "execution_count": 35,
     "metadata": {},
     "output_type": "execute_result"
    }
   ],
   "source": [
    "# Converted list of amenities to a dataframe\n",
    "\n",
    "print ('Original list of amenities: ')\n",
    "df_refined.amenities.head()"
   ]
  },
  {
   "cell_type": "code",
   "execution_count": 36,
   "metadata": {
    "ExecuteTime": {
     "end_time": "2019-02-18T02:45:42.663538Z",
     "start_time": "2019-02-18T02:45:37.723765Z"
    }
   },
   "outputs": [
    {
     "name": "stdout",
     "output_type": "stream",
     "text": [
      "df_ammenities dimension:  (8092, 181)\n"
     ]
    },
    {
     "data": {
      "text/html": [
       "<div>\n",
       "<style scoped>\n",
       "    .dataframe tbody tr th:only-of-type {\n",
       "        vertical-align: middle;\n",
       "    }\n",
       "\n",
       "    .dataframe tbody tr th {\n",
       "        vertical-align: top;\n",
       "    }\n",
       "\n",
       "    .dataframe thead th {\n",
       "        text-align: right;\n",
       "    }\n",
       "</style>\n",
       "<table border=\"1\" class=\"dataframe\">\n",
       "  <thead>\n",
       "    <tr style=\"text-align: right;\">\n",
       "      <th></th>\n",
       "      <th></th>\n",
       "      <th>amenities_ toilet</th>\n",
       "      <th>amenities_24hour checkin</th>\n",
       "      <th>amenities_Accessibleheight bed</th>\n",
       "      <th>amenities_Accessibleheight toilet</th>\n",
       "      <th>amenities_Air conditioning</th>\n",
       "      <th>amenities_Air purifier</th>\n",
       "      <th>amenities_Amazon Echo</th>\n",
       "      <th>amenities_BBQ grill</th>\n",
       "      <th>amenities_Baby bath</th>\n",
       "      <th>amenities_Baby monitor</th>\n",
       "      <th>...</th>\n",
       "      <th>amenities_Wide clearance to bed</th>\n",
       "      <th>amenities_Wide clearance to shower</th>\n",
       "      <th>amenities_Wide doorway</th>\n",
       "      <th>amenities_Wide entryway</th>\n",
       "      <th>amenities_Wide hallway clearance</th>\n",
       "      <th>amenities_Wifi</th>\n",
       "      <th>amenities_Window guards</th>\n",
       "      <th>amenities_Wine cooler</th>\n",
       "      <th>amenities_translation missing enhosting_amenity_49</th>\n",
       "      <th>amenities_translation missing enhosting_amenity_50</th>\n",
       "    </tr>\n",
       "  </thead>\n",
       "  <tbody>\n",
       "    <tr>\n",
       "      <th rowspan=\"5\" valign=\"top\">sf</th>\n",
       "      <th>0</th>\n",
       "      <td>0</td>\n",
       "      <td>1</td>\n",
       "      <td>0</td>\n",
       "      <td>0</td>\n",
       "      <td>0</td>\n",
       "      <td>0</td>\n",
       "      <td>0</td>\n",
       "      <td>0</td>\n",
       "      <td>0</td>\n",
       "      <td>0</td>\n",
       "      <td>...</td>\n",
       "      <td>0</td>\n",
       "      <td>0</td>\n",
       "      <td>0</td>\n",
       "      <td>0</td>\n",
       "      <td>0</td>\n",
       "      <td>1</td>\n",
       "      <td>0</td>\n",
       "      <td>0</td>\n",
       "      <td>0</td>\n",
       "      <td>0</td>\n",
       "    </tr>\n",
       "    <tr>\n",
       "      <th>1</th>\n",
       "      <td>0</td>\n",
       "      <td>0</td>\n",
       "      <td>0</td>\n",
       "      <td>0</td>\n",
       "      <td>0</td>\n",
       "      <td>0</td>\n",
       "      <td>0</td>\n",
       "      <td>0</td>\n",
       "      <td>0</td>\n",
       "      <td>0</td>\n",
       "      <td>...</td>\n",
       "      <td>0</td>\n",
       "      <td>0</td>\n",
       "      <td>0</td>\n",
       "      <td>0</td>\n",
       "      <td>0</td>\n",
       "      <td>1</td>\n",
       "      <td>0</td>\n",
       "      <td>0</td>\n",
       "      <td>0</td>\n",
       "      <td>0</td>\n",
       "    </tr>\n",
       "    <tr>\n",
       "      <th>2</th>\n",
       "      <td>0</td>\n",
       "      <td>0</td>\n",
       "      <td>0</td>\n",
       "      <td>0</td>\n",
       "      <td>0</td>\n",
       "      <td>0</td>\n",
       "      <td>0</td>\n",
       "      <td>0</td>\n",
       "      <td>0</td>\n",
       "      <td>0</td>\n",
       "      <td>...</td>\n",
       "      <td>0</td>\n",
       "      <td>0</td>\n",
       "      <td>0</td>\n",
       "      <td>0</td>\n",
       "      <td>0</td>\n",
       "      <td>1</td>\n",
       "      <td>0</td>\n",
       "      <td>0</td>\n",
       "      <td>1</td>\n",
       "      <td>1</td>\n",
       "    </tr>\n",
       "    <tr>\n",
       "      <th>3</th>\n",
       "      <td>0</td>\n",
       "      <td>0</td>\n",
       "      <td>0</td>\n",
       "      <td>0</td>\n",
       "      <td>0</td>\n",
       "      <td>0</td>\n",
       "      <td>0</td>\n",
       "      <td>0</td>\n",
       "      <td>0</td>\n",
       "      <td>0</td>\n",
       "      <td>...</td>\n",
       "      <td>0</td>\n",
       "      <td>0</td>\n",
       "      <td>0</td>\n",
       "      <td>0</td>\n",
       "      <td>0</td>\n",
       "      <td>1</td>\n",
       "      <td>0</td>\n",
       "      <td>0</td>\n",
       "      <td>0</td>\n",
       "      <td>0</td>\n",
       "    </tr>\n",
       "    <tr>\n",
       "      <th>5</th>\n",
       "      <td>0</td>\n",
       "      <td>0</td>\n",
       "      <td>0</td>\n",
       "      <td>0</td>\n",
       "      <td>0</td>\n",
       "      <td>0</td>\n",
       "      <td>0</td>\n",
       "      <td>1</td>\n",
       "      <td>0</td>\n",
       "      <td>0</td>\n",
       "      <td>...</td>\n",
       "      <td>0</td>\n",
       "      <td>0</td>\n",
       "      <td>0</td>\n",
       "      <td>0</td>\n",
       "      <td>0</td>\n",
       "      <td>1</td>\n",
       "      <td>0</td>\n",
       "      <td>0</td>\n",
       "      <td>0</td>\n",
       "      <td>0</td>\n",
       "    </tr>\n",
       "  </tbody>\n",
       "</table>\n",
       "<p>5 rows × 181 columns</p>\n",
       "</div>"
      ],
      "text/plain": [
       "      amenities_ toilet  amenities_24hour checkin  \\\n",
       "sf 0                  0                         1   \n",
       "   1                  0                         0   \n",
       "   2                  0                         0   \n",
       "   3                  0                         0   \n",
       "   5                  0                         0   \n",
       "\n",
       "      amenities_Accessibleheight bed  amenities_Accessibleheight toilet  \\\n",
       "sf 0                               0                                  0   \n",
       "   1                               0                                  0   \n",
       "   2                               0                                  0   \n",
       "   3                               0                                  0   \n",
       "   5                               0                                  0   \n",
       "\n",
       "      amenities_Air conditioning  amenities_Air purifier  \\\n",
       "sf 0                           0                       0   \n",
       "   1                           0                       0   \n",
       "   2                           0                       0   \n",
       "   3                           0                       0   \n",
       "   5                           0                       0   \n",
       "\n",
       "      amenities_Amazon Echo  amenities_BBQ grill  amenities_Baby bath  \\\n",
       "sf 0                      0                    0                    0   \n",
       "   1                      0                    0                    0   \n",
       "   2                      0                    0                    0   \n",
       "   3                      0                    0                    0   \n",
       "   5                      0                    1                    0   \n",
       "\n",
       "      amenities_Baby monitor  \\\n",
       "sf 0                       0   \n",
       "   1                       0   \n",
       "   2                       0   \n",
       "   3                       0   \n",
       "   5                       0   \n",
       "\n",
       "                             ...                          \\\n",
       "sf 0                         ...                           \n",
       "   1                         ...                           \n",
       "   2                         ...                           \n",
       "   3                         ...                           \n",
       "   5                         ...                           \n",
       "\n",
       "      amenities_Wide clearance to bed  amenities_Wide clearance to shower  \\\n",
       "sf 0                                0                                   0   \n",
       "   1                                0                                   0   \n",
       "   2                                0                                   0   \n",
       "   3                                0                                   0   \n",
       "   5                                0                                   0   \n",
       "\n",
       "      amenities_Wide doorway  amenities_Wide entryway  \\\n",
       "sf 0                       0                        0   \n",
       "   1                       0                        0   \n",
       "   2                       0                        0   \n",
       "   3                       0                        0   \n",
       "   5                       0                        0   \n",
       "\n",
       "      amenities_Wide hallway clearance  amenities_Wifi  \\\n",
       "sf 0                                 0               1   \n",
       "   1                                 0               1   \n",
       "   2                                 0               1   \n",
       "   3                                 0               1   \n",
       "   5                                 0               1   \n",
       "\n",
       "      amenities_Window guards  amenities_Wine cooler  \\\n",
       "sf 0                        0                      0   \n",
       "   1                        0                      0   \n",
       "   2                        0                      0   \n",
       "   3                        0                      0   \n",
       "   5                        0                      0   \n",
       "\n",
       "      amenities_translation missing enhosting_amenity_49  \\\n",
       "sf 0                                                  0    \n",
       "   1                                                  0    \n",
       "   2                                                  1    \n",
       "   3                                                  0    \n",
       "   5                                                  0    \n",
       "\n",
       "      amenities_translation missing enhosting_amenity_50  \n",
       "sf 0                                                  0   \n",
       "   1                                                  0   \n",
       "   2                                                  1   \n",
       "   3                                                  0   \n",
       "   5                                                  0   \n",
       "\n",
       "[5 rows x 181 columns]"
      ]
     },
     "metadata": {},
     "output_type": "display_data"
    }
   ],
   "source": [
    "# Created a list captures every single amenities\n",
    "# Built a dataframe based on the list\n",
    "# Converted amenities to dummy variables\n",
    "\n",
    "df_amenities = df_refined  \\\n",
    "               .amenities  \\\n",
    "               .str.get_dummies(sep = \",\")  \\\n",
    "               .add_prefix('amenities_')\n",
    "\n",
    "print('df_ammenities dimension: ', df_amenities.shape)\n",
    "display(df_amenities.head())"
   ]
  },
  {
   "cell_type": "code",
   "execution_count": 37,
   "metadata": {
    "ExecuteTime": {
     "end_time": "2019-02-18T02:45:42.765589Z",
     "start_time": "2019-02-18T02:45:42.666925Z"
    }
   },
   "outputs": [
    {
     "name": "stdout",
     "output_type": "stream",
     "text": [
      "['amenities_24hour checkin', 'amenities_Air conditioning', 'amenities_BBQ grill', 'amenities_Bathtub', 'amenities_Bed linens', 'amenities_Breakfast', 'amenities_Cable TV', 'amenities_Carbon monoxide detector', 'amenities_Coffee maker', 'amenities_Cooking basics', 'amenities_Dishes and silverware', 'amenities_Dishwasher', 'amenities_Dryer', 'amenities_Elevator', 'amenities_Essentials', 'amenities_Extra pillows and blankets', 'amenities_Familykid friendly', 'amenities_Fire extinguisher', 'amenities_First aid kit', 'amenities_Free parking on premises', 'amenities_Free street parking', 'amenities_Garden or backyard', 'amenities_Hair dryer', 'amenities_Hangers', 'amenities_Heating', 'amenities_Host greets you', 'amenities_Hot water', 'amenities_Indoor fireplace', 'amenities_Internet', 'amenities_Iron', 'amenities_Keypad', 'amenities_Kitchen', 'amenities_Laptop friendly workspace', 'amenities_Lock on bedroom door', 'amenities_Lockbox', 'amenities_Long term stays allowed', 'amenities_Luggage dropoff allowed', 'amenities_Microwave', 'amenities_Oven', 'amenities_Patio or balcony', 'amenities_Pets allowed', 'amenities_Pets live on this property', 'amenities_Private entrance', 'amenities_Private living room', 'amenities_Refrigerator', 'amenities_Safety card', 'amenities_Self checkin', 'amenities_Shampoo', 'amenities_Single level home', 'amenities_Smoke detector', 'amenities_Stepfree access', 'amenities_Stove', 'amenities_TV', 'amenities_Washer', 'amenities_Wifi', 'amenities_translation missing enhosting_amenity_49', 'amenities_translation missing enhosting_amenity_50']\n"
     ]
    }
   ],
   "source": [
    "# There are over 150+ types of amenities. \n",
    "# This is to filter down to common owned amenities.\n",
    "\n",
    "common_amenities = []\n",
    "filter_percentile = 0.90\n",
    "\n",
    "for column in df_amenities.columns:\n",
    "    value = df_amenities[column].quantile(filter_percentile)\n",
    "    if value > 0:\n",
    "        common_amenities.append(column)\n",
    "\n",
    "df_common_amenities = df_amenities[common_amenities]\n",
    "\n",
    "print (common_amenities)"
   ]
  },
  {
   "cell_type": "code",
   "execution_count": 38,
   "metadata": {
    "ExecuteTime": {
     "end_time": "2019-02-18T02:45:42.798213Z",
     "start_time": "2019-02-18T02:45:42.768262Z"
    }
   },
   "outputs": [
    {
     "data": {
      "text/html": [
       "<div>\n",
       "<style scoped>\n",
       "    .dataframe tbody tr th:only-of-type {\n",
       "        vertical-align: middle;\n",
       "    }\n",
       "\n",
       "    .dataframe tbody tr th {\n",
       "        vertical-align: top;\n",
       "    }\n",
       "\n",
       "    .dataframe thead th {\n",
       "        text-align: right;\n",
       "    }\n",
       "</style>\n",
       "<table border=\"1\" class=\"dataframe\">\n",
       "  <thead>\n",
       "    <tr style=\"text-align: right;\">\n",
       "      <th></th>\n",
       "      <th></th>\n",
       "      <th>amenities_24hour checkin</th>\n",
       "      <th>amenities_Air conditioning</th>\n",
       "      <th>amenities_BBQ grill</th>\n",
       "      <th>amenities_Bathtub</th>\n",
       "      <th>amenities_Bed linens</th>\n",
       "      <th>amenities_Breakfast</th>\n",
       "      <th>amenities_Cable TV</th>\n",
       "      <th>amenities_Carbon monoxide detector</th>\n",
       "      <th>amenities_Coffee maker</th>\n",
       "      <th>amenities_Cooking basics</th>\n",
       "      <th>...</th>\n",
       "      <th>amenities_Shampoo</th>\n",
       "      <th>amenities_Single level home</th>\n",
       "      <th>amenities_Smoke detector</th>\n",
       "      <th>amenities_Stepfree access</th>\n",
       "      <th>amenities_Stove</th>\n",
       "      <th>amenities_TV</th>\n",
       "      <th>amenities_Washer</th>\n",
       "      <th>amenities_Wifi</th>\n",
       "      <th>amenities_translation missing enhosting_amenity_49</th>\n",
       "      <th>amenities_translation missing enhosting_amenity_50</th>\n",
       "    </tr>\n",
       "  </thead>\n",
       "  <tbody>\n",
       "    <tr>\n",
       "      <th rowspan=\"5\" valign=\"top\">sf</th>\n",
       "      <th>0</th>\n",
       "      <td>1</td>\n",
       "      <td>0</td>\n",
       "      <td>0</td>\n",
       "      <td>0</td>\n",
       "      <td>0</td>\n",
       "      <td>0</td>\n",
       "      <td>1</td>\n",
       "      <td>1</td>\n",
       "      <td>0</td>\n",
       "      <td>0</td>\n",
       "      <td>...</td>\n",
       "      <td>1</td>\n",
       "      <td>0</td>\n",
       "      <td>1</td>\n",
       "      <td>0</td>\n",
       "      <td>0</td>\n",
       "      <td>1</td>\n",
       "      <td>1</td>\n",
       "      <td>1</td>\n",
       "      <td>0</td>\n",
       "      <td>0</td>\n",
       "    </tr>\n",
       "    <tr>\n",
       "      <th>1</th>\n",
       "      <td>0</td>\n",
       "      <td>0</td>\n",
       "      <td>0</td>\n",
       "      <td>0</td>\n",
       "      <td>0</td>\n",
       "      <td>0</td>\n",
       "      <td>0</td>\n",
       "      <td>0</td>\n",
       "      <td>0</td>\n",
       "      <td>0</td>\n",
       "      <td>...</td>\n",
       "      <td>1</td>\n",
       "      <td>0</td>\n",
       "      <td>1</td>\n",
       "      <td>0</td>\n",
       "      <td>0</td>\n",
       "      <td>0</td>\n",
       "      <td>1</td>\n",
       "      <td>1</td>\n",
       "      <td>0</td>\n",
       "      <td>0</td>\n",
       "    </tr>\n",
       "    <tr>\n",
       "      <th>2</th>\n",
       "      <td>0</td>\n",
       "      <td>0</td>\n",
       "      <td>0</td>\n",
       "      <td>0</td>\n",
       "      <td>0</td>\n",
       "      <td>0</td>\n",
       "      <td>0</td>\n",
       "      <td>1</td>\n",
       "      <td>0</td>\n",
       "      <td>0</td>\n",
       "      <td>...</td>\n",
       "      <td>0</td>\n",
       "      <td>0</td>\n",
       "      <td>1</td>\n",
       "      <td>0</td>\n",
       "      <td>0</td>\n",
       "      <td>1</td>\n",
       "      <td>1</td>\n",
       "      <td>1</td>\n",
       "      <td>1</td>\n",
       "      <td>1</td>\n",
       "    </tr>\n",
       "    <tr>\n",
       "      <th>3</th>\n",
       "      <td>0</td>\n",
       "      <td>0</td>\n",
       "      <td>0</td>\n",
       "      <td>0</td>\n",
       "      <td>0</td>\n",
       "      <td>0</td>\n",
       "      <td>0</td>\n",
       "      <td>1</td>\n",
       "      <td>0</td>\n",
       "      <td>0</td>\n",
       "      <td>...</td>\n",
       "      <td>0</td>\n",
       "      <td>0</td>\n",
       "      <td>1</td>\n",
       "      <td>0</td>\n",
       "      <td>0</td>\n",
       "      <td>1</td>\n",
       "      <td>1</td>\n",
       "      <td>1</td>\n",
       "      <td>0</td>\n",
       "      <td>0</td>\n",
       "    </tr>\n",
       "    <tr>\n",
       "      <th>5</th>\n",
       "      <td>0</td>\n",
       "      <td>0</td>\n",
       "      <td>1</td>\n",
       "      <td>0</td>\n",
       "      <td>0</td>\n",
       "      <td>0</td>\n",
       "      <td>1</td>\n",
       "      <td>1</td>\n",
       "      <td>1</td>\n",
       "      <td>1</td>\n",
       "      <td>...</td>\n",
       "      <td>1</td>\n",
       "      <td>0</td>\n",
       "      <td>1</td>\n",
       "      <td>0</td>\n",
       "      <td>1</td>\n",
       "      <td>1</td>\n",
       "      <td>1</td>\n",
       "      <td>1</td>\n",
       "      <td>0</td>\n",
       "      <td>0</td>\n",
       "    </tr>\n",
       "  </tbody>\n",
       "</table>\n",
       "<p>5 rows × 57 columns</p>\n",
       "</div>"
      ],
      "text/plain": [
       "      amenities_24hour checkin  amenities_Air conditioning  \\\n",
       "sf 0                         1                           0   \n",
       "   1                         0                           0   \n",
       "   2                         0                           0   \n",
       "   3                         0                           0   \n",
       "   5                         0                           0   \n",
       "\n",
       "      amenities_BBQ grill  amenities_Bathtub  amenities_Bed linens  \\\n",
       "sf 0                    0                  0                     0   \n",
       "   1                    0                  0                     0   \n",
       "   2                    0                  0                     0   \n",
       "   3                    0                  0                     0   \n",
       "   5                    1                  0                     0   \n",
       "\n",
       "      amenities_Breakfast  amenities_Cable TV  \\\n",
       "sf 0                    0                   1   \n",
       "   1                    0                   0   \n",
       "   2                    0                   0   \n",
       "   3                    0                   0   \n",
       "   5                    0                   1   \n",
       "\n",
       "      amenities_Carbon monoxide detector  amenities_Coffee maker  \\\n",
       "sf 0                                   1                       0   \n",
       "   1                                   0                       0   \n",
       "   2                                   1                       0   \n",
       "   3                                   1                       0   \n",
       "   5                                   1                       1   \n",
       "\n",
       "      amenities_Cooking basics  \\\n",
       "sf 0                         0   \n",
       "   1                         0   \n",
       "   2                         0   \n",
       "   3                         0   \n",
       "   5                         1   \n",
       "\n",
       "                             ...                          amenities_Shampoo  \\\n",
       "sf 0                         ...                                          1   \n",
       "   1                         ...                                          1   \n",
       "   2                         ...                                          0   \n",
       "   3                         ...                                          0   \n",
       "   5                         ...                                          1   \n",
       "\n",
       "      amenities_Single level home  amenities_Smoke detector  \\\n",
       "sf 0                            0                         1   \n",
       "   1                            0                         1   \n",
       "   2                            0                         1   \n",
       "   3                            0                         1   \n",
       "   5                            0                         1   \n",
       "\n",
       "      amenities_Stepfree access  amenities_Stove  amenities_TV  \\\n",
       "sf 0                          0                0             1   \n",
       "   1                          0                0             0   \n",
       "   2                          0                0             1   \n",
       "   3                          0                0             1   \n",
       "   5                          0                1             1   \n",
       "\n",
       "      amenities_Washer  amenities_Wifi  \\\n",
       "sf 0                 1               1   \n",
       "   1                 1               1   \n",
       "   2                 1               1   \n",
       "   3                 1               1   \n",
       "   5                 1               1   \n",
       "\n",
       "      amenities_translation missing enhosting_amenity_49  \\\n",
       "sf 0                                                  0    \n",
       "   1                                                  0    \n",
       "   2                                                  1    \n",
       "   3                                                  0    \n",
       "   5                                                  0    \n",
       "\n",
       "      amenities_translation missing enhosting_amenity_50  \n",
       "sf 0                                                  0   \n",
       "   1                                                  0   \n",
       "   2                                                  1   \n",
       "   3                                                  0   \n",
       "   5                                                  0   \n",
       "\n",
       "[5 rows x 57 columns]"
      ]
     },
     "metadata": {},
     "output_type": "display_data"
    }
   ],
   "source": [
    "display (df_common_amenities.head())"
   ]
  },
  {
   "cell_type": "code",
   "execution_count": 39,
   "metadata": {
    "ExecuteTime": {
     "end_time": "2019-02-18T02:45:42.821498Z",
     "start_time": "2019-02-18T02:45:42.801793Z"
    }
   },
   "outputs": [],
   "source": [
    "# Concatenated common amenities dataframe with original dataframe\n",
    "\n",
    "df_refined = pd.concat([df_refined, df_common_amenities], axis=1)"
   ]
  },
  {
   "cell_type": "code",
   "execution_count": 40,
   "metadata": {
    "ExecuteTime": {
     "end_time": "2019-02-18T02:45:42.846121Z",
     "start_time": "2019-02-18T02:45:42.824749Z"
    }
   },
   "outputs": [
    {
     "data": {
      "text/plain": [
       "(8092, 335)"
      ]
     },
     "execution_count": 40,
     "metadata": {},
     "output_type": "execute_result"
    }
   ],
   "source": [
    "# Dropped original amenities feature, which is a list of amenities\n",
    "\n",
    "df_refined.drop('amenities', axis=1, inplace=True)\n",
    "df_refined.shape"
   ]
  },
  {
   "cell_type": "markdown",
   "metadata": {},
   "source": [
    "### Boolean Variables"
   ]
  },
  {
   "cell_type": "code",
   "execution_count": 41,
   "metadata": {
    "ExecuteTime": {
     "end_time": "2019-02-18T02:45:43.051176Z",
     "start_time": "2019-02-18T02:45:42.849384Z"
    }
   },
   "outputs": [
    {
     "data": {
      "text/plain": [
       "<matplotlib.axes._subplots.AxesSubplot at 0x1c2a241f98>"
      ]
     },
     "execution_count": 41,
     "metadata": {},
     "output_type": "execute_result"
    },
    {
     "data": {
      "image/png": "[encoded data removed]",
      "text/plain": [
       "<Figure size 576x396 with 1 Axes>"
      ]
     },
     "metadata": {},
     "output_type": "display_data"
    }
   ],
   "source": [
    "# Noted security_deposite amount can vary considerably among postings\n",
    "\n",
    "df_model = df_refined.copy()\n",
    "df_model.security_deposit.hist()"
   ]
  },
  {
   "cell_type": "code",
   "execution_count": 42,
   "metadata": {
    "ExecuteTime": {
     "end_time": "2019-02-18T02:45:43.224847Z",
     "start_time": "2019-02-18T02:45:43.054307Z"
    }
   },
   "outputs": [
    {
     "data": {
      "text/plain": [
       "<matplotlib.axes._subplots.AxesSubplot at 0x1c26c187b8>"
      ]
     },
     "execution_count": 42,
     "metadata": {},
     "output_type": "execute_result"
    },
    {
     "data": {
      "image/png": "[encoded data removed]",
      "text/plain": [
       "<Figure size 576x396 with 1 Axes>"
      ]
     },
     "metadata": {},
     "output_type": "display_data"
    }
   ],
   "source": [
    "# Noted minimum night amount can vary considerably among postings\n",
    "\n",
    "df_model.minimum_nights.hist()"
   ]
  },
  {
   "cell_type": "code",
   "execution_count": 43,
   "metadata": {
    "ExecuteTime": {
     "end_time": "2019-02-18T02:45:43.235409Z",
     "start_time": "2019-02-18T02:45:43.227875Z"
    }
   },
   "outputs": [],
   "source": [
    "# Their numerical values do not provide meaningful information for price prediction\n",
    "# Converted to boolean variables instead\n",
    "\n",
    "df_model['security_deposit'] = (df_model['security_deposit']>0) \\\n",
    "                                          .astype(int)\n",
    "\n",
    "df_model['minimum_nights'] = (df_model['minimum_nights']>1)  \\\n",
    "                                        .astype(int)"
   ]
  },
  {
   "cell_type": "code",
   "execution_count": 44,
   "metadata": {
    "ExecuteTime": {
     "end_time": "2019-02-18T02:45:43.244170Z",
     "start_time": "2019-02-18T02:45:43.238178Z"
    }
   },
   "outputs": [
    {
     "data": {
      "text/plain": [
       "(8092, 335)"
      ]
     },
     "execution_count": 44,
     "metadata": {},
     "output_type": "execute_result"
    }
   ],
   "source": [
    "df_model.shape"
   ]
  },
  {
   "cell_type": "markdown",
   "metadata": {
    "ExecuteTime": {
     "end_time": "2019-02-17T07:31:21.291326Z",
     "start_time": "2019-02-17T07:31:21.288223Z"
    }
   },
   "source": [
    "## Features with High Correlation"
   ]
  },
  {
   "cell_type": "code",
   "execution_count": 45,
   "metadata": {
    "ExecuteTime": {
     "end_time": "2019-02-18T02:45:45.542446Z",
     "start_time": "2019-02-18T02:45:43.247064Z"
    }
   },
   "outputs": [],
   "source": [
    "# Created correlation matrix\n",
    "# Selected upper triangle of correlation matrix\n",
    "\n",
    "corr_matrix = df_model.corr().abs()\n",
    "upper = corr_matrix.where(np.triu(np.ones(corr_matrix.shape), k=1).astype(np.bool))"
   ]
  },
  {
   "cell_type": "code",
   "execution_count": 46,
   "metadata": {
    "ExecuteTime": {
     "end_time": "2019-02-18T02:45:45.690090Z",
     "start_time": "2019-02-18T02:45:45.549820Z"
    }
   },
   "outputs": [
    {
     "data": {
      "text/plain": [
       "['host_total_listings_count',\n",
       " 'host_is_superhost_t',\n",
       " 'host_has_profile_pic_t',\n",
       " 'host_identity_verified_t',\n",
       " 'city_Cupertino',\n",
       " 'city_Palo Alto',\n",
       " 'city_San Jose',\n",
       " 'city_Santa Clara',\n",
       " 'city_Sunnyvale',\n",
       " 'is_location_exact_t',\n",
       " 'room_type_Private room',\n",
       " 'jurisdiction_names_Cupertino, CA',\n",
       " 'jurisdiction_names_OAKLAND',\n",
       " 'jurisdiction_names_PALO ALTO',\n",
       " 'jurisdiction_names_SAN FRANCISCO',\n",
       " 'jurisdiction_names_SAN JOSE',\n",
       " 'jurisdiction_names_SANTA CLARA',\n",
       " 'jurisdiction_names_Santa Cruz County, CA',\n",
       " 'jurisdiction_names_Sunnyvale, CA',\n",
       " 'instant_bookable_t',\n",
       " 'require_guest_profile_picture_t',\n",
       " 'require_guest_phone_verification_t',\n",
       " 'district_Oakland',\n",
       " 'district_San Francisco',\n",
       " 'amenities_Refrigerator',\n",
       " 'amenities_Stove',\n",
       " 'amenities_Washer']"
      ]
     },
     "metadata": {},
     "output_type": "display_data"
    }
   ],
   "source": [
    "# Identified index of feature columns with correlation greater than 0.90\n",
    "\n",
    "cor_thresold = 0.90\n",
    "\n",
    "to_drop = [column for column in upper.columns if any(upper[column] >= cor_thresold)]\n",
    "\n",
    "display (to_drop)"
   ]
  },
  {
   "cell_type": "code",
   "execution_count": 47,
   "metadata": {
    "ExecuteTime": {
     "end_time": "2019-02-18T02:45:45.714477Z",
     "start_time": "2019-02-18T02:45:45.692786Z"
    }
   },
   "outputs": [
    {
     "data": {
      "text/plain": [
       "'Dimension after drop high correlated fetures'"
      ]
     },
     "metadata": {},
     "output_type": "display_data"
    },
    {
     "data": {
      "text/plain": [
       "(8092, 308)"
      ]
     },
     "metadata": {},
     "output_type": "display_data"
    }
   ],
   "source": [
    "# Dropped features with high corrleation \n",
    "\n",
    "df_model.drop(columns = to_drop, inplace = True)\n",
    "\n",
    "df_model = df_model.copy()\n",
    "display('Dimensions after dropping high correlated features', df_model.shape)"
   ]
  },
  {
   "cell_type": "code",
   "execution_count": 48,
   "metadata": {
    "ExecuteTime": {
     "end_time": "2019-02-18T02:45:45.742297Z",
     "start_time": "2019-02-18T02:45:45.717556Z"
    }
   },
   "outputs": [],
   "source": [
    "# Stored the complete set of features\n",
    "\n",
    "pkl_file = '/Users/xzhou/github/project_archives/files_airbnb/{}.pkl'\n",
    "\n",
    "pkl_file_name = pkl_file.format('listings_all_features')\n",
    "\n",
    "df_model.to_pickle(pkl_file_name)"
   ]
  },
  {
   "cell_type": "markdown",
   "metadata": {
    "ExecuteTime": {
     "end_time": "2019-02-17T07:31:56.178971Z",
     "start_time": "2019-02-17T07:31:56.176281Z"
    }
   },
   "source": [
    "# Modeling"
   ]
  },
  {
   "cell_type": "markdown",
   "metadata": {
    "ExecuteTime": {
     "end_time": "2019-02-17T10:39:49.812357Z",
     "start_time": "2019-02-17T10:39:49.809411Z"
    }
   },
   "source": [
    "## Model Preprocessing"
   ]
  },
  {
   "cell_type": "markdown",
   "metadata": {
    "ExecuteTime": {
     "end_time": "2019-02-17T07:32:32.978891Z",
     "start_time": "2019-02-17T07:32:32.975749Z"
    }
   },
   "source": [
    "### Train and Test Splits"
   ]
  },
  {
   "cell_type": "code",
   "execution_count": 49,
   "metadata": {
    "ExecuteTime": {
     "end_time": "2019-02-18T02:45:45.757793Z",
     "start_time": "2019-02-18T02:45:45.745013Z"
    }
   },
   "outputs": [],
   "source": [
    "# Performed quick regression models to get a big picture of performance, \n",
    "# and prepare for feature slections\n",
    "\n",
    "X = df_model.drop(['id','price'], axis=1)\n",
    "y = df_model['price']"
   ]
  },
  {
   "cell_type": "code",
   "execution_count": 50,
   "metadata": {
    "ExecuteTime": {
     "end_time": "2019-02-18T02:45:45.788805Z",
     "start_time": "2019-02-18T02:45:45.761080Z"
    }
   },
   "outputs": [],
   "source": [
    "X_train, X_test, y_train, y_test = train_test_split(\n",
    "                                   X, y, test_size =0.3, random_state=42)"
   ]
  },
  {
   "cell_type": "markdown",
   "metadata": {
    "ExecuteTime": {
     "end_time": "2019-02-17T10:40:37.567774Z",
     "start_time": "2019-02-17T10:40:37.561499Z"
    }
   },
   "source": [
    "### Feature Normalization"
   ]
  },
  {
   "cell_type": "code",
   "execution_count": 51,
   "metadata": {
    "ExecuteTime": {
     "end_time": "2019-02-18T02:45:45.882648Z",
     "start_time": "2019-02-18T02:45:45.791586Z"
    }
   },
   "outputs": [],
   "source": [
    "# Normalize features \n",
    "\n",
    "ss = StandardScaler()\n",
    "X_train_trans = ss.fit_transform(X_train)\n",
    "X_test_trans = ss.transform (X_test)"
   ]
  },
  {
   "cell_type": "markdown",
   "metadata": {
    "ExecuteTime": {
     "end_time": "2019-02-17T07:32:54.344320Z",
     "start_time": "2019-02-17T07:32:54.340034Z"
    }
   },
   "source": [
    "## Linear Regression"
   ]
  },
  {
   "cell_type": "code",
   "execution_count": 52,
   "metadata": {
    "ExecuteTime": {
     "end_time": "2019-02-18T02:45:46.433530Z",
     "start_time": "2019-02-18T02:45:45.886734Z"
    }
   },
   "outputs": [
    {
     "data": {
      "text/html": [
       "<table class=\"simpletable\">\n",
       "<caption>OLS Regression Results</caption>\n",
       "<tr>\n",
       "  <th>Dep. Variable:</th>          <td>price</td>      <th>  R-squared:         </th> <td>   0.641</td> \n",
       "</tr>\n",
       "<tr>\n",
       "  <th>Model:</th>                   <td>OLS</td>       <th>  Adj. R-squared:    </th> <td>   0.622</td> \n",
       "</tr>\n",
       "<tr>\n",
       "  <th>Method:</th>             <td>Least Squares</td>  <th>  F-statistic:       </th> <td>   33.66</td> \n",
       "</tr>\n",
       "<tr>\n",
       "  <th>Date:</th>             <td>Sun, 17 Feb 2019</td> <th>  Prob (F-statistic):</th>  <td>  0.00</td>  \n",
       "</tr>\n",
       "<tr>\n",
       "  <th>Time:</th>                 <td>18:45:46</td>     <th>  Log-Likelihood:    </th> <td> -28943.</td> \n",
       "</tr>\n",
       "<tr>\n",
       "  <th>No. Observations:</th>      <td>  5664</td>      <th>  AIC:               </th> <td>5.846e+04</td>\n",
       "</tr>\n",
       "<tr>\n",
       "  <th>Df Residuals:</th>          <td>  5378</td>      <th>  BIC:               </th> <td>6.036e+04</td>\n",
       "</tr>\n",
       "<tr>\n",
       "  <th>Df Model:</th>              <td>   285</td>      <th>                     </th>     <td> </td>    \n",
       "</tr>\n",
       "<tr>\n",
       "  <th>Covariance Type:</th>      <td>nonrobust</td>    <th>                     </th>     <td> </td>    \n",
       "</tr>\n",
       "</table>\n",
       "<table class=\"simpletable\">\n",
       "<tr>\n",
       "    <td></td>       <th>coef</th>     <th>std err</th>      <th>t</th>      <th>P>|t|</th>  <th>[0.025</th>    <th>0.975]</th>  \n",
       "</tr>\n",
       "<tr>\n",
       "  <th>const</th> <td>  135.3752</td> <td>    0.547</td> <td>  247.671</td> <td> 0.000</td> <td>  134.304</td> <td>  136.447</td>\n",
       "</tr>\n",
       "<tr>\n",
       "  <th>x1</th>    <td>   -1.5708</td> <td>    0.744</td> <td>   -2.112</td> <td> 0.035</td> <td>   -3.029</td> <td>   -0.113</td>\n",
       "</tr>\n",
       "<tr>\n",
       "  <th>x2</th>    <td>    2.8461</td> <td>    0.995</td> <td>    2.861</td> <td> 0.004</td> <td>    0.896</td> <td>    4.796</td>\n",
       "</tr>\n",
       "<tr>\n",
       "  <th>x3</th>    <td>    2.7135</td> <td>    0.835</td> <td>    3.248</td> <td> 0.001</td> <td>    1.076</td> <td>    4.351</td>\n",
       "</tr>\n",
       "<tr>\n",
       "  <th>x4</th>    <td>   16.2596</td> <td>    1.262</td> <td>   12.887</td> <td> 0.000</td> <td>   13.786</td> <td>   18.733</td>\n",
       "</tr>\n",
       "<tr>\n",
       "  <th>x5</th>    <td>   -0.5167</td> <td>    0.678</td> <td>   -0.762</td> <td> 0.446</td> <td>   -1.846</td> <td>    0.812</td>\n",
       "</tr>\n",
       "<tr>\n",
       "  <th>x6</th>    <td>   13.0427</td> <td>    0.958</td> <td>   13.612</td> <td> 0.000</td> <td>   11.164</td> <td>   14.921</td>\n",
       "</tr>\n",
       "<tr>\n",
       "  <th>x7</th>    <td>   -1.8803</td> <td>    1.091</td> <td>   -1.724</td> <td> 0.085</td> <td>   -4.019</td> <td>    0.258</td>\n",
       "</tr>\n",
       "<tr>\n",
       "  <th>x8</th>    <td>    0.0504</td> <td>    0.602</td> <td>    0.084</td> <td> 0.933</td> <td>   -1.129</td> <td>    1.230</td>\n",
       "</tr>\n",
       "<tr>\n",
       "  <th>x9</th>    <td>    5.7852</td> <td>    0.774</td> <td>    7.476</td> <td> 0.000</td> <td>    4.268</td> <td>    7.302</td>\n",
       "</tr>\n",
       "<tr>\n",
       "  <th>x10</th>   <td>    4.6448</td> <td>    0.729</td> <td>    6.374</td> <td> 0.000</td> <td>    3.216</td> <td>    6.073</td>\n",
       "</tr>\n",
       "<tr>\n",
       "  <th>x11</th>   <td>   -1.3250</td> <td>    0.665</td> <td>   -1.992</td> <td> 0.046</td> <td>   -2.629</td> <td>   -0.021</td>\n",
       "</tr>\n",
       "<tr>\n",
       "  <th>x12</th>   <td>   -1.4711</td> <td>    1.005</td> <td>   -1.464</td> <td> 0.143</td> <td>   -3.442</td> <td>    0.499</td>\n",
       "</tr>\n",
       "<tr>\n",
       "  <th>x13</th>   <td>   -1.4265</td> <td>    1.000</td> <td>   -1.427</td> <td> 0.154</td> <td>   -3.386</td> <td>    0.533</td>\n",
       "</tr>\n",
       "<tr>\n",
       "  <th>x14</th>   <td>    2.3243</td> <td>    1.136</td> <td>    2.046</td> <td> 0.041</td> <td>    0.098</td> <td>    4.551</td>\n",
       "</tr>\n",
       "<tr>\n",
       "  <th>x15</th>   <td>    2.0168</td> <td>    0.915</td> <td>    2.204</td> <td> 0.028</td> <td>    0.223</td> <td>    3.811</td>\n",
       "</tr>\n",
       "<tr>\n",
       "  <th>x16</th>   <td>    3.1090</td> <td>    0.810</td> <td>    3.838</td> <td> 0.000</td> <td>    1.521</td> <td>    4.697</td>\n",
       "</tr>\n",
       "<tr>\n",
       "  <th>x17</th>   <td>   -1.4658</td> <td>    0.783</td> <td>   -1.871</td> <td> 0.061</td> <td>   -3.001</td> <td>    0.070</td>\n",
       "</tr>\n",
       "<tr>\n",
       "  <th>x18</th>   <td>   -0.9303</td> <td>    0.861</td> <td>   -1.080</td> <td> 0.280</td> <td>   -2.618</td> <td>    0.758</td>\n",
       "</tr>\n",
       "<tr>\n",
       "  <th>x19</th>   <td>    3.2579</td> <td>    0.780</td> <td>    4.176</td> <td> 0.000</td> <td>    1.729</td> <td>    4.787</td>\n",
       "</tr>\n",
       "<tr>\n",
       "  <th>x20</th>   <td>   -4.0599</td> <td>    0.890</td> <td>   -4.564</td> <td> 0.000</td> <td>   -5.804</td> <td>   -2.316</td>\n",
       "</tr>\n",
       "<tr>\n",
       "  <th>x21</th>   <td>   -7.3760</td> <td>    0.880</td> <td>   -8.377</td> <td> 0.000</td> <td>   -9.102</td> <td>   -5.650</td>\n",
       "</tr>\n",
       "<tr>\n",
       "  <th>x22</th>   <td>   -5.0243</td> <td>    0.954</td> <td>   -5.268</td> <td> 0.000</td> <td>   -6.894</td> <td>   -3.155</td>\n",
       "</tr>\n",
       "<tr>\n",
       "  <th>x23</th>   <td>    2.2399</td> <td>    0.903</td> <td>    2.480</td> <td> 0.013</td> <td>    0.469</td> <td>    4.011</td>\n",
       "</tr>\n",
       "<tr>\n",
       "  <th>x24</th>   <td>   -0.0366</td> <td>    0.502</td> <td>   -0.073</td> <td> 0.942</td> <td>   -1.021</td> <td>    0.948</td>\n",
       "</tr>\n",
       "<tr>\n",
       "  <th>x25</th>   <td>   -0.9969</td> <td>    0.417</td> <td>   -2.393</td> <td> 0.017</td> <td>   -1.813</td> <td>   -0.180</td>\n",
       "</tr>\n",
       "<tr>\n",
       "  <th>x26</th>   <td>    0.4355</td> <td>    0.388</td> <td>    1.123</td> <td> 0.262</td> <td>   -0.325</td> <td>    1.196</td>\n",
       "</tr>\n",
       "<tr>\n",
       "  <th>x27</th>   <td>   -3.8689</td> <td>    0.664</td> <td>   -5.830</td> <td> 0.000</td> <td>   -5.170</td> <td>   -2.568</td>\n",
       "</tr>\n",
       "<tr>\n",
       "  <th>x28</th>   <td>   -0.1329</td> <td>    0.593</td> <td>   -0.224</td> <td> 0.823</td> <td>   -1.296</td> <td>    1.030</td>\n",
       "</tr>\n",
       "<tr>\n",
       "  <th>x29</th>   <td>   -1.8355</td> <td>    0.654</td> <td>   -2.805</td> <td> 0.005</td> <td>   -3.118</td> <td>   -0.553</td>\n",
       "</tr>\n",
       "<tr>\n",
       "  <th>x30</th>   <td>    0.7253</td> <td>    0.565</td> <td>    1.283</td> <td> 0.199</td> <td>   -0.383</td> <td>    1.833</td>\n",
       "</tr>\n",
       "<tr>\n",
       "  <th>x31</th>   <td>   -1.3373</td> <td>    0.792</td> <td>   -1.690</td> <td> 0.091</td> <td>   -2.889</td> <td>    0.214</td>\n",
       "</tr>\n",
       "<tr>\n",
       "  <th>x32</th>   <td>   -1.1375</td> <td>    0.584</td> <td>   -1.947</td> <td> 0.052</td> <td>   -2.283</td> <td>    0.008</td>\n",
       "</tr>\n",
       "<tr>\n",
       "  <th>x33</th>   <td>   -1.0498</td> <td>    0.558</td> <td>   -1.880</td> <td> 0.060</td> <td>   -2.145</td> <td>    0.045</td>\n",
       "</tr>\n",
       "<tr>\n",
       "  <th>x34</th>   <td>   -0.8383</td> <td>    0.576</td> <td>   -1.456</td> <td> 0.145</td> <td>   -1.967</td> <td>    0.290</td>\n",
       "</tr>\n",
       "<tr>\n",
       "  <th>x35</th>   <td>   -1.4479</td> <td>    0.653</td> <td>   -2.216</td> <td> 0.027</td> <td>   -2.729</td> <td>   -0.167</td>\n",
       "</tr>\n",
       "<tr>\n",
       "  <th>x36</th>   <td>    0.2121</td> <td>    0.579</td> <td>    0.366</td> <td> 0.714</td> <td>   -0.923</td> <td>    1.347</td>\n",
       "</tr>\n",
       "<tr>\n",
       "  <th>x37</th>   <td>    0.0962</td> <td>    0.741</td> <td>    0.130</td> <td> 0.897</td> <td>   -1.356</td> <td>    1.549</td>\n",
       "</tr>\n",
       "<tr>\n",
       "  <th>x38</th>   <td>   -1.8641</td> <td>    0.871</td> <td>   -2.140</td> <td> 0.032</td> <td>   -3.572</td> <td>   -0.156</td>\n",
       "</tr>\n",
       "<tr>\n",
       "  <th>x39</th>   <td>   -0.3224</td> <td>    0.619</td> <td>   -0.521</td> <td> 0.603</td> <td>   -1.536</td> <td>    0.892</td>\n",
       "</tr>\n",
       "<tr>\n",
       "  <th>x40</th>   <td>    0.8750</td> <td>    0.551</td> <td>    1.589</td> <td> 0.112</td> <td>   -0.205</td> <td>    1.955</td>\n",
       "</tr>\n",
       "<tr>\n",
       "  <th>x41</th>   <td>   -1.6599</td> <td>    0.578</td> <td>   -2.874</td> <td> 0.004</td> <td>   -2.792</td> <td>   -0.528</td>\n",
       "</tr>\n",
       "<tr>\n",
       "  <th>x42</th>   <td>    3.9955</td> <td>    0.742</td> <td>    5.388</td> <td> 0.000</td> <td>    2.542</td> <td>    5.449</td>\n",
       "</tr>\n",
       "<tr>\n",
       "  <th>x43</th>   <td>   -0.7618</td> <td>    0.607</td> <td>   -1.256</td> <td> 0.209</td> <td>   -1.951</td> <td>    0.428</td>\n",
       "</tr>\n",
       "<tr>\n",
       "  <th>x44</th>   <td>    1.1728</td> <td>    0.572</td> <td>    2.049</td> <td> 0.041</td> <td>    0.051</td> <td>    2.295</td>\n",
       "</tr>\n",
       "<tr>\n",
       "  <th>x45</th>   <td>   -0.0054</td> <td>    0.712</td> <td>   -0.008</td> <td> 0.994</td> <td>   -1.402</td> <td>    1.391</td>\n",
       "</tr>\n",
       "<tr>\n",
       "  <th>x46</th>   <td>   -0.1480</td> <td>    0.674</td> <td>   -0.220</td> <td> 0.826</td> <td>   -1.469</td> <td>    1.173</td>\n",
       "</tr>\n",
       "<tr>\n",
       "  <th>x47</th>   <td>   -2.2006</td> <td>    0.766</td> <td>   -2.874</td> <td> 0.004</td> <td>   -3.702</td> <td>   -0.700</td>\n",
       "</tr>\n",
       "<tr>\n",
       "  <th>x48</th>   <td>    0.1321</td> <td>    0.607</td> <td>    0.218</td> <td> 0.828</td> <td>   -1.058</td> <td>    1.322</td>\n",
       "</tr>\n",
       "<tr>\n",
       "  <th>x49</th>   <td> 5.806e-16</td> <td> 1.21e-15</td> <td>    0.481</td> <td> 0.631</td> <td>-1.79e-15</td> <td> 2.95e-15</td>\n",
       "</tr>\n",
       "<tr>\n",
       "  <th>x50</th>   <td>   -1.0997</td> <td>    0.581</td> <td>   -1.893</td> <td> 0.058</td> <td>   -2.239</td> <td>    0.039</td>\n",
       "</tr>\n",
       "<tr>\n",
       "  <th>x51</th>   <td>   -0.4636</td> <td>    0.622</td> <td>   -0.746</td> <td> 0.456</td> <td>   -1.682</td> <td>    0.755</td>\n",
       "</tr>\n",
       "<tr>\n",
       "  <th>x52</th>   <td>   -0.8145</td> <td>    0.537</td> <td>   -1.515</td> <td> 0.130</td> <td>   -1.868</td> <td>    0.239</td>\n",
       "</tr>\n",
       "<tr>\n",
       "  <th>x53</th>   <td>    0.5712</td> <td>    0.560</td> <td>    1.019</td> <td> 0.308</td> <td>   -0.528</td> <td>    1.670</td>\n",
       "</tr>\n",
       "<tr>\n",
       "  <th>x54</th>   <td>   -1.1470</td> <td>    0.592</td> <td>   -1.939</td> <td> 0.053</td> <td>   -2.307</td> <td>    0.013</td>\n",
       "</tr>\n",
       "<tr>\n",
       "  <th>x55</th>   <td>   -0.5631</td> <td>    0.574</td> <td>   -0.981</td> <td> 0.326</td> <td>   -1.688</td> <td>    0.562</td>\n",
       "</tr>\n",
       "<tr>\n",
       "  <th>x56</th>   <td>    3.3065</td> <td>    0.917</td> <td>    3.604</td> <td> 0.000</td> <td>    1.508</td> <td>    5.105</td>\n",
       "</tr>\n",
       "<tr>\n",
       "  <th>x57</th>   <td>    0.1636</td> <td>    0.592</td> <td>    0.276</td> <td> 0.782</td> <td>   -0.996</td> <td>    1.324</td>\n",
       "</tr>\n",
       "<tr>\n",
       "  <th>x58</th>   <td>   -0.7044</td> <td>    0.602</td> <td>   -1.171</td> <td> 0.242</td> <td>   -1.884</td> <td>    0.475</td>\n",
       "</tr>\n",
       "<tr>\n",
       "  <th>x59</th>   <td>-1.425e-17</td> <td>  8.3e-16</td> <td>   -0.017</td> <td> 0.986</td> <td>-1.64e-15</td> <td> 1.61e-15</td>\n",
       "</tr>\n",
       "<tr>\n",
       "  <th>x60</th>   <td>   -1.1962</td> <td>    0.648</td> <td>   -1.847</td> <td> 0.065</td> <td>   -2.466</td> <td>    0.073</td>\n",
       "</tr>\n",
       "<tr>\n",
       "  <th>x61</th>   <td>   -0.6721</td> <td>    0.568</td> <td>   -1.184</td> <td> 0.236</td> <td>   -1.785</td> <td>    0.441</td>\n",
       "</tr>\n",
       "<tr>\n",
       "  <th>x62</th>   <td>   -1.8524</td> <td>    0.622</td> <td>   -2.980</td> <td> 0.003</td> <td>   -3.071</td> <td>   -0.634</td>\n",
       "</tr>\n",
       "<tr>\n",
       "  <th>x63</th>   <td>   -0.3495</td> <td>    0.568</td> <td>   -0.615</td> <td> 0.538</td> <td>   -1.463</td> <td>    0.764</td>\n",
       "</tr>\n",
       "<tr>\n",
       "  <th>x64</th>   <td>   -1.4802</td> <td>    0.570</td> <td>   -2.598</td> <td> 0.009</td> <td>   -2.597</td> <td>   -0.363</td>\n",
       "</tr>\n",
       "<tr>\n",
       "  <th>x65</th>   <td>   -0.7825</td> <td>    0.716</td> <td>   -1.093</td> <td> 0.275</td> <td>   -2.187</td> <td>    0.622</td>\n",
       "</tr>\n",
       "<tr>\n",
       "  <th>x66</th>   <td>    0.4119</td> <td>    0.618</td> <td>    0.666</td> <td> 0.505</td> <td>   -0.800</td> <td>    1.624</td>\n",
       "</tr>\n",
       "<tr>\n",
       "  <th>x67</th>   <td>   -0.5471</td> <td>    0.569</td> <td>   -0.961</td> <td> 0.337</td> <td>   -1.663</td> <td>    0.569</td>\n",
       "</tr>\n",
       "<tr>\n",
       "  <th>x68</th>   <td>   -0.7286</td> <td>    0.597</td> <td>   -1.220</td> <td> 0.222</td> <td>   -1.899</td> <td>    0.442</td>\n",
       "</tr>\n",
       "<tr>\n",
       "  <th>x69</th>   <td> 1.025e-15</td> <td> 8.85e-16</td> <td>    1.159</td> <td> 0.246</td> <td>-7.09e-16</td> <td> 2.76e-15</td>\n",
       "</tr>\n",
       "<tr>\n",
       "  <th>x70</th>   <td>   -1.6730</td> <td>    0.623</td> <td>   -2.683</td> <td> 0.007</td> <td>   -2.895</td> <td>   -0.451</td>\n",
       "</tr>\n",
       "<tr>\n",
       "  <th>x71</th>   <td>   -0.3550</td> <td>    0.560</td> <td>   -0.634</td> <td> 0.526</td> <td>   -1.452</td> <td>    0.742</td>\n",
       "</tr>\n",
       "<tr>\n",
       "  <th>x72</th>   <td>    0.4139</td> <td>    0.608</td> <td>    0.681</td> <td> 0.496</td> <td>   -0.778</td> <td>    1.605</td>\n",
       "</tr>\n",
       "<tr>\n",
       "  <th>x73</th>   <td>   -1.0116</td> <td>    0.607</td> <td>   -1.666</td> <td> 0.096</td> <td>   -2.202</td> <td>    0.179</td>\n",
       "</tr>\n",
       "<tr>\n",
       "  <th>x74</th>   <td>    0.6048</td> <td>    0.590</td> <td>    1.024</td> <td> 0.306</td> <td>   -0.553</td> <td>    1.762</td>\n",
       "</tr>\n",
       "<tr>\n",
       "  <th>x75</th>   <td>   -1.8723</td> <td>    0.726</td> <td>   -2.580</td> <td> 0.010</td> <td>   -3.295</td> <td>   -0.450</td>\n",
       "</tr>\n",
       "<tr>\n",
       "  <th>x76</th>   <td>   -1.9199</td> <td>    0.793</td> <td>   -2.421</td> <td> 0.016</td> <td>   -3.474</td> <td>   -0.365</td>\n",
       "</tr>\n",
       "<tr>\n",
       "  <th>x77</th>   <td>    0.5434</td> <td>    0.552</td> <td>    0.985</td> <td> 0.325</td> <td>   -0.538</td> <td>    1.625</td>\n",
       "</tr>\n",
       "<tr>\n",
       "  <th>x78</th>   <td>   -0.3024</td> <td>    0.600</td> <td>   -0.504</td> <td> 0.614</td> <td>   -1.479</td> <td>    0.874</td>\n",
       "</tr>\n",
       "<tr>\n",
       "  <th>x79</th>   <td>   -0.2789</td> <td>    0.695</td> <td>   -0.401</td> <td> 0.688</td> <td>   -1.641</td> <td>    1.084</td>\n",
       "</tr>\n",
       "<tr>\n",
       "  <th>x80</th>   <td>    2.9924</td> <td>    0.713</td> <td>    4.199</td> <td> 0.000</td> <td>    1.595</td> <td>    4.390</td>\n",
       "</tr>\n",
       "<tr>\n",
       "  <th>x81</th>   <td>   -1.3996</td> <td>    0.559</td> <td>   -2.504</td> <td> 0.012</td> <td>   -2.495</td> <td>   -0.304</td>\n",
       "</tr>\n",
       "<tr>\n",
       "  <th>x82</th>   <td>   -0.2320</td> <td>    0.559</td> <td>   -0.415</td> <td> 0.678</td> <td>   -1.328</td> <td>    0.864</td>\n",
       "</tr>\n",
       "<tr>\n",
       "  <th>x83</th>   <td>   -1.3544</td> <td>    0.559</td> <td>   -2.424</td> <td> 0.015</td> <td>   -2.450</td> <td>   -0.259</td>\n",
       "</tr>\n",
       "<tr>\n",
       "  <th>x84</th>   <td>   -0.9332</td> <td>    0.609</td> <td>   -1.532</td> <td> 0.126</td> <td>   -2.128</td> <td>    0.261</td>\n",
       "</tr>\n",
       "<tr>\n",
       "  <th>x85</th>   <td>   -0.3685</td> <td>    0.559</td> <td>   -0.659</td> <td> 0.510</td> <td>   -1.464</td> <td>    0.727</td>\n",
       "</tr>\n",
       "<tr>\n",
       "  <th>x86</th>   <td>   -1.0701</td> <td>    0.660</td> <td>   -1.621</td> <td> 0.105</td> <td>   -2.364</td> <td>    0.224</td>\n",
       "</tr>\n",
       "<tr>\n",
       "  <th>x87</th>   <td>    0.3116</td> <td>    0.656</td> <td>    0.475</td> <td> 0.635</td> <td>   -0.975</td> <td>    1.599</td>\n",
       "</tr>\n",
       "<tr>\n",
       "  <th>x88</th>   <td>   -1.0163</td> <td>    0.625</td> <td>   -1.626</td> <td> 0.104</td> <td>   -2.242</td> <td>    0.209</td>\n",
       "</tr>\n",
       "<tr>\n",
       "  <th>x89</th>   <td>   -1.5651</td> <td>    0.645</td> <td>   -2.428</td> <td> 0.015</td> <td>   -2.829</td> <td>   -0.301</td>\n",
       "</tr>\n",
       "<tr>\n",
       "  <th>x90</th>   <td>   -0.4048</td> <td>    0.563</td> <td>   -0.719</td> <td> 0.472</td> <td>   -1.509</td> <td>    0.699</td>\n",
       "</tr>\n",
       "<tr>\n",
       "  <th>x91</th>   <td>    0.4652</td> <td>    0.585</td> <td>    0.796</td> <td> 0.426</td> <td>   -0.681</td> <td>    1.611</td>\n",
       "</tr>\n",
       "<tr>\n",
       "  <th>x92</th>   <td>   -1.1440</td> <td>    0.602</td> <td>   -1.900</td> <td> 0.057</td> <td>   -2.324</td> <td>    0.036</td>\n",
       "</tr>\n",
       "<tr>\n",
       "  <th>x93</th>   <td>   -0.7169</td> <td>    0.635</td> <td>   -1.129</td> <td> 0.259</td> <td>   -1.961</td> <td>    0.527</td>\n",
       "</tr>\n",
       "<tr>\n",
       "  <th>x94</th>   <td>   -0.7623</td> <td>    0.565</td> <td>   -1.350</td> <td> 0.177</td> <td>   -1.869</td> <td>    0.344</td>\n",
       "</tr>\n",
       "<tr>\n",
       "  <th>x95</th>   <td> 7.281e-16</td> <td> 8.37e-16</td> <td>    0.870</td> <td> 0.384</td> <td>-9.13e-16</td> <td> 2.37e-15</td>\n",
       "</tr>\n",
       "<tr>\n",
       "  <th>x96</th>   <td>   -0.2871</td> <td>    0.584</td> <td>   -0.491</td> <td> 0.623</td> <td>   -1.433</td> <td>    0.859</td>\n",
       "</tr>\n",
       "<tr>\n",
       "  <th>x97</th>   <td>   -1.1384</td> <td>    0.657</td> <td>   -1.732</td> <td> 0.083</td> <td>   -2.427</td> <td>    0.150</td>\n",
       "</tr>\n",
       "<tr>\n",
       "  <th>x98</th>   <td>   -0.6732</td> <td>    0.561</td> <td>   -1.199</td> <td> 0.231</td> <td>   -1.774</td> <td>    0.427</td>\n",
       "</tr>\n",
       "<tr>\n",
       "  <th>x99</th>   <td>   -2.2516</td> <td>    0.846</td> <td>   -2.660</td> <td> 0.008</td> <td>   -3.911</td> <td>   -0.592</td>\n",
       "</tr>\n",
       "<tr>\n",
       "  <th>x100</th>  <td>   -0.2018</td> <td>    0.550</td> <td>   -0.367</td> <td> 0.714</td> <td>   -1.279</td> <td>    0.876</td>\n",
       "</tr>\n",
       "<tr>\n",
       "  <th>x101</th>  <td>   -0.4858</td> <td>    0.599</td> <td>   -0.811</td> <td> 0.418</td> <td>   -1.661</td> <td>    0.689</td>\n",
       "</tr>\n",
       "<tr>\n",
       "  <th>x102</th>  <td>    1.5553</td> <td>    0.641</td> <td>    2.425</td> <td> 0.015</td> <td>    0.298</td> <td>    2.812</td>\n",
       "</tr>\n",
       "<tr>\n",
       "  <th>x103</th>  <td>   -1.4697</td> <td>    0.667</td> <td>   -2.204</td> <td> 0.028</td> <td>   -2.777</td> <td>   -0.162</td>\n",
       "</tr>\n",
       "<tr>\n",
       "  <th>x104</th>  <td>   -0.4444</td> <td>    0.603</td> <td>   -0.737</td> <td> 0.461</td> <td>   -1.626</td> <td>    0.737</td>\n",
       "</tr>\n",
       "<tr>\n",
       "  <th>x105</th>  <td>-1.479e-15</td> <td> 6.51e-16</td> <td>   -2.272</td> <td> 0.023</td> <td>-2.75e-15</td> <td>-2.03e-16</td>\n",
       "</tr>\n",
       "<tr>\n",
       "  <th>x106</th>  <td>   -0.0121</td> <td>    0.621</td> <td>   -0.019</td> <td> 0.984</td> <td>   -1.230</td> <td>    1.206</td>\n",
       "</tr>\n",
       "<tr>\n",
       "  <th>x107</th>  <td>   -1.5999</td> <td>    0.717</td> <td>   -2.233</td> <td> 0.026</td> <td>   -3.005</td> <td>   -0.195</td>\n",
       "</tr>\n",
       "<tr>\n",
       "  <th>x108</th>  <td>   -0.4711</td> <td>    0.558</td> <td>   -0.844</td> <td> 0.399</td> <td>   -1.566</td> <td>    0.624</td>\n",
       "</tr>\n",
       "<tr>\n",
       "  <th>x109</th>  <td>   -1.6546</td> <td>    0.679</td> <td>   -2.436</td> <td> 0.015</td> <td>   -2.986</td> <td>   -0.323</td>\n",
       "</tr>\n",
       "<tr>\n",
       "  <th>x110</th>  <td>    5.5053</td> <td>    0.857</td> <td>    6.423</td> <td> 0.000</td> <td>    3.825</td> <td>    7.186</td>\n",
       "</tr>\n",
       "<tr>\n",
       "  <th>x111</th>  <td>   -0.4796</td> <td>    0.737</td> <td>   -0.650</td> <td> 0.515</td> <td>   -1.925</td> <td>    0.966</td>\n",
       "</tr>\n",
       "<tr>\n",
       "  <th>x112</th>  <td>-3.588e-16</td> <td> 7.41e-16</td> <td>   -0.484</td> <td> 0.628</td> <td>-1.81e-15</td> <td> 1.09e-15</td>\n",
       "</tr>\n",
       "<tr>\n",
       "  <th>x113</th>  <td>   -0.9396</td> <td>    0.600</td> <td>   -1.565</td> <td> 0.118</td> <td>   -2.116</td> <td>    0.237</td>\n",
       "</tr>\n",
       "<tr>\n",
       "  <th>x114</th>  <td>   -0.1411</td> <td>    0.551</td> <td>   -0.256</td> <td> 0.798</td> <td>   -1.221</td> <td>    0.939</td>\n",
       "</tr>\n",
       "<tr>\n",
       "  <th>x115</th>  <td>   -0.2676</td> <td>    0.557</td> <td>   -0.480</td> <td> 0.631</td> <td>   -1.360</td> <td>    0.825</td>\n",
       "</tr>\n",
       "<tr>\n",
       "  <th>x116</th>  <td>    0.5120</td> <td>    0.648</td> <td>    0.790</td> <td> 0.430</td> <td>   -0.759</td> <td>    1.783</td>\n",
       "</tr>\n",
       "<tr>\n",
       "  <th>x117</th>  <td>    3.8907</td> <td>    0.696</td> <td>    5.587</td> <td> 0.000</td> <td>    2.526</td> <td>    5.256</td>\n",
       "</tr>\n",
       "<tr>\n",
       "  <th>x118</th>  <td>    1.0543</td> <td>    0.631</td> <td>    1.672</td> <td> 0.095</td> <td>   -0.182</td> <td>    2.291</td>\n",
       "</tr>\n",
       "<tr>\n",
       "  <th>x119</th>  <td>   -0.2869</td> <td>    0.579</td> <td>   -0.495</td> <td> 0.620</td> <td>   -1.422</td> <td>    0.849</td>\n",
       "</tr>\n",
       "<tr>\n",
       "  <th>x120</th>  <td>   -0.7616</td> <td>    0.666</td> <td>   -1.144</td> <td> 0.253</td> <td>   -2.067</td> <td>    0.543</td>\n",
       "</tr>\n",
       "<tr>\n",
       "  <th>x121</th>  <td>   -1.2491</td> <td>    0.568</td> <td>   -2.198</td> <td> 0.028</td> <td>   -2.363</td> <td>   -0.135</td>\n",
       "</tr>\n",
       "<tr>\n",
       "  <th>x122</th>  <td>   -1.4145</td> <td>    0.730</td> <td>   -1.938</td> <td> 0.053</td> <td>   -2.845</td> <td>    0.016</td>\n",
       "</tr>\n",
       "<tr>\n",
       "  <th>x123</th>  <td>   -1.9784</td> <td>    0.711</td> <td>   -2.784</td> <td> 0.005</td> <td>   -3.371</td> <td>   -0.585</td>\n",
       "</tr>\n",
       "<tr>\n",
       "  <th>x124</th>  <td>   -2.6408</td> <td>    0.607</td> <td>   -4.348</td> <td> 0.000</td> <td>   -3.831</td> <td>   -1.450</td>\n",
       "</tr>\n",
       "<tr>\n",
       "  <th>x125</th>  <td>   -0.8147</td> <td>    0.629</td> <td>   -1.296</td> <td> 0.195</td> <td>   -2.047</td> <td>    0.418</td>\n",
       "</tr>\n",
       "<tr>\n",
       "  <th>x126</th>  <td>   -1.0564</td> <td>    0.643</td> <td>   -1.642</td> <td> 0.101</td> <td>   -2.317</td> <td>    0.204</td>\n",
       "</tr>\n",
       "<tr>\n",
       "  <th>x127</th>  <td>    0.3690</td> <td>    0.627</td> <td>    0.588</td> <td> 0.556</td> <td>   -0.861</td> <td>    1.599</td>\n",
       "</tr>\n",
       "<tr>\n",
       "  <th>x128</th>  <td>   -0.6575</td> <td>    0.693</td> <td>   -0.949</td> <td> 0.343</td> <td>   -2.016</td> <td>    0.701</td>\n",
       "</tr>\n",
       "<tr>\n",
       "  <th>x129</th>  <td>    3.6249</td> <td>    0.599</td> <td>    6.053</td> <td> 0.000</td> <td>    2.451</td> <td>    4.799</td>\n",
       "</tr>\n",
       "<tr>\n",
       "  <th>x130</th>  <td>    3.2358</td> <td>    0.514</td> <td>    6.300</td> <td> 0.000</td> <td>    2.229</td> <td>    4.243</td>\n",
       "</tr>\n",
       "<tr>\n",
       "  <th>x131</th>  <td>    0.2352</td> <td>    0.633</td> <td>    0.372</td> <td> 0.710</td> <td>   -1.005</td> <td>    1.476</td>\n",
       "</tr>\n",
       "<tr>\n",
       "  <th>x132</th>  <td>   -1.1627</td> <td>    0.655</td> <td>   -1.776</td> <td> 0.076</td> <td>   -2.446</td> <td>    0.121</td>\n",
       "</tr>\n",
       "<tr>\n",
       "  <th>x133</th>  <td>   -2.0734</td> <td>    0.629</td> <td>   -3.295</td> <td> 0.001</td> <td>   -3.307</td> <td>   -0.840</td>\n",
       "</tr>\n",
       "<tr>\n",
       "  <th>x134</th>  <td>   -0.6363</td> <td>    0.696</td> <td>   -0.914</td> <td> 0.361</td> <td>   -2.000</td> <td>    0.728</td>\n",
       "</tr>\n",
       "<tr>\n",
       "  <th>x135</th>  <td> 2.215e-16</td> <td>  7.2e-16</td> <td>    0.308</td> <td> 0.758</td> <td>-1.19e-15</td> <td> 1.63e-15</td>\n",
       "</tr>\n",
       "<tr>\n",
       "  <th>x136</th>  <td> 2.333e-15</td> <td> 6.97e-16</td> <td>    3.349</td> <td> 0.001</td> <td> 9.67e-16</td> <td>  3.7e-15</td>\n",
       "</tr>\n",
       "<tr>\n",
       "  <th>x137</th>  <td>   -0.9020</td> <td>    0.732</td> <td>   -1.232</td> <td> 0.218</td> <td>   -2.337</td> <td>    0.533</td>\n",
       "</tr>\n",
       "<tr>\n",
       "  <th>x138</th>  <td>   -0.8487</td> <td>    0.643</td> <td>   -1.319</td> <td> 0.187</td> <td>   -2.110</td> <td>    0.412</td>\n",
       "</tr>\n",
       "<tr>\n",
       "  <th>x139</th>  <td>   -0.2369</td> <td>    0.585</td> <td>   -0.405</td> <td> 0.686</td> <td>   -1.384</td> <td>    0.911</td>\n",
       "</tr>\n",
       "<tr>\n",
       "  <th>x140</th>  <td>    2.7783</td> <td>    0.653</td> <td>    4.254</td> <td> 0.000</td> <td>    1.498</td> <td>    4.059</td>\n",
       "</tr>\n",
       "<tr>\n",
       "  <th>x141</th>  <td>   -1.2184</td> <td>    0.798</td> <td>   -1.527</td> <td> 0.127</td> <td>   -2.783</td> <td>    0.346</td>\n",
       "</tr>\n",
       "<tr>\n",
       "  <th>x142</th>  <td>   -0.1287</td> <td>    0.555</td> <td>   -0.232</td> <td> 0.817</td> <td>   -1.216</td> <td>    0.959</td>\n",
       "</tr>\n",
       "<tr>\n",
       "  <th>x143</th>  <td>   -0.4680</td> <td>    0.560</td> <td>   -0.836</td> <td> 0.403</td> <td>   -1.566</td> <td>    0.630</td>\n",
       "</tr>\n",
       "<tr>\n",
       "  <th>x144</th>  <td>   -0.2389</td> <td>    0.603</td> <td>   -0.396</td> <td> 0.692</td> <td>   -1.421</td> <td>    0.943</td>\n",
       "</tr>\n",
       "<tr>\n",
       "  <th>x145</th>  <td>   -0.0054</td> <td>    0.579</td> <td>   -0.009</td> <td> 0.993</td> <td>   -1.140</td> <td>    1.129</td>\n",
       "</tr>\n",
       "<tr>\n",
       "  <th>x146</th>  <td>-1.171e-15</td> <td> 7.19e-16</td> <td>   -1.628</td> <td> 0.104</td> <td>-2.58e-15</td> <td> 2.39e-16</td>\n",
       "</tr>\n",
       "<tr>\n",
       "  <th>x147</th>  <td>   -2.3915</td> <td>    0.724</td> <td>   -3.303</td> <td> 0.001</td> <td>   -3.811</td> <td>   -0.972</td>\n",
       "</tr>\n",
       "<tr>\n",
       "  <th>x148</th>  <td>    0.0662</td> <td>    0.600</td> <td>    0.110</td> <td> 0.912</td> <td>   -1.110</td> <td>    1.243</td>\n",
       "</tr>\n",
       "<tr>\n",
       "  <th>x149</th>  <td>   -0.6449</td> <td>    0.723</td> <td>   -0.892</td> <td> 0.372</td> <td>   -2.062</td> <td>    0.772</td>\n",
       "</tr>\n",
       "<tr>\n",
       "  <th>x150</th>  <td>    2.4500</td> <td>    0.613</td> <td>    3.999</td> <td> 0.000</td> <td>    1.249</td> <td>    3.651</td>\n",
       "</tr>\n",
       "<tr>\n",
       "  <th>x151</th>  <td>   -0.2080</td> <td>    0.568</td> <td>   -0.366</td> <td> 0.714</td> <td>   -1.322</td> <td>    0.905</td>\n",
       "</tr>\n",
       "<tr>\n",
       "  <th>x152</th>  <td>   -3.8404</td> <td>    0.468</td> <td>   -8.205</td> <td> 0.000</td> <td>   -4.758</td> <td>   -2.923</td>\n",
       "</tr>\n",
       "<tr>\n",
       "  <th>x153</th>  <td>    0.2616</td> <td>    0.585</td> <td>    0.447</td> <td> 0.655</td> <td>   -0.885</td> <td>    1.408</td>\n",
       "</tr>\n",
       "<tr>\n",
       "  <th>x154</th>  <td>   -2.1373</td> <td>    0.528</td> <td>   -4.047</td> <td> 0.000</td> <td>   -3.173</td> <td>   -1.102</td>\n",
       "</tr>\n",
       "<tr>\n",
       "  <th>x155</th>  <td>   -1.7710</td> <td>    0.771</td> <td>   -2.298</td> <td> 0.022</td> <td>   -3.282</td> <td>   -0.260</td>\n",
       "</tr>\n",
       "<tr>\n",
       "  <th>x156</th>  <td>   -0.9910</td> <td>    0.591</td> <td>   -1.677</td> <td> 0.094</td> <td>   -2.150</td> <td>    0.168</td>\n",
       "</tr>\n",
       "<tr>\n",
       "  <th>x157</th>  <td>   -0.0577</td> <td>    0.560</td> <td>   -0.103</td> <td> 0.918</td> <td>   -1.156</td> <td>    1.041</td>\n",
       "</tr>\n",
       "<tr>\n",
       "  <th>x158</th>  <td>   -0.6597</td> <td>    0.566</td> <td>   -1.165</td> <td> 0.244</td> <td>   -1.770</td> <td>    0.450</td>\n",
       "</tr>\n",
       "<tr>\n",
       "  <th>x159</th>  <td>   -1.3427</td> <td>    0.571</td> <td>   -2.352</td> <td> 0.019</td> <td>   -2.462</td> <td>   -0.223</td>\n",
       "</tr>\n",
       "<tr>\n",
       "  <th>x160</th>  <td>   -1.7009</td> <td>    0.613</td> <td>   -2.773</td> <td> 0.006</td> <td>   -2.904</td> <td>   -0.498</td>\n",
       "</tr>\n",
       "<tr>\n",
       "  <th>x161</th>  <td>   -0.4701</td> <td>    0.787</td> <td>   -0.597</td> <td> 0.550</td> <td>   -2.013</td> <td>    1.072</td>\n",
       "</tr>\n",
       "<tr>\n",
       "  <th>x162</th>  <td>    0.1759</td> <td>    0.600</td> <td>    0.293</td> <td> 0.770</td> <td>   -1.001</td> <td>    1.353</td>\n",
       "</tr>\n",
       "<tr>\n",
       "  <th>x163</th>  <td>   -2.0271</td> <td>    0.639</td> <td>   -3.174</td> <td> 0.002</td> <td>   -3.279</td> <td>   -0.775</td>\n",
       "</tr>\n",
       "<tr>\n",
       "  <th>x164</th>  <td>   -1.0217</td> <td>    0.570</td> <td>   -1.793</td> <td> 0.073</td> <td>   -2.139</td> <td>    0.095</td>\n",
       "</tr>\n",
       "<tr>\n",
       "  <th>x165</th>  <td>   -1.1170</td> <td>    0.652</td> <td>   -1.714</td> <td> 0.087</td> <td>   -2.395</td> <td>    0.161</td>\n",
       "</tr>\n",
       "<tr>\n",
       "  <th>x166</th>  <td>    1.8217</td> <td>    0.637</td> <td>    2.862</td> <td> 0.004</td> <td>    0.574</td> <td>    3.070</td>\n",
       "</tr>\n",
       "<tr>\n",
       "  <th>x167</th>  <td>    3.5571</td> <td>    0.770</td> <td>    4.620</td> <td> 0.000</td> <td>    2.048</td> <td>    5.067</td>\n",
       "</tr>\n",
       "<tr>\n",
       "  <th>x168</th>  <td>   -0.5176</td> <td>    0.523</td> <td>   -0.990</td> <td> 0.322</td> <td>   -1.542</td> <td>    0.507</td>\n",
       "</tr>\n",
       "<tr>\n",
       "  <th>x169</th>  <td>   -2.1851</td> <td>    0.802</td> <td>   -2.725</td> <td> 0.006</td> <td>   -3.757</td> <td>   -0.613</td>\n",
       "</tr>\n",
       "<tr>\n",
       "  <th>x170</th>  <td>   -0.5485</td> <td>    0.588</td> <td>   -0.933</td> <td> 0.351</td> <td>   -1.701</td> <td>    0.604</td>\n",
       "</tr>\n",
       "<tr>\n",
       "  <th>x171</th>  <td>   -0.3884</td> <td>    0.622</td> <td>   -0.625</td> <td> 0.532</td> <td>   -1.607</td> <td>    0.830</td>\n",
       "</tr>\n",
       "<tr>\n",
       "  <th>x172</th>  <td>   -1.1543</td> <td>    0.591</td> <td>   -1.955</td> <td> 0.051</td> <td>   -2.312</td> <td>    0.003</td>\n",
       "</tr>\n",
       "<tr>\n",
       "  <th>x173</th>  <td>   -0.0096</td> <td>    0.584</td> <td>   -0.017</td> <td> 0.987</td> <td>   -1.155</td> <td>    1.136</td>\n",
       "</tr>\n",
       "<tr>\n",
       "  <th>x174</th>  <td>   -1.4192</td> <td>    0.587</td> <td>   -2.417</td> <td> 0.016</td> <td>   -2.570</td> <td>   -0.268</td>\n",
       "</tr>\n",
       "<tr>\n",
       "  <th>x175</th>  <td>   -1.2871</td> <td>    0.609</td> <td>   -2.113</td> <td> 0.035</td> <td>   -2.481</td> <td>   -0.093</td>\n",
       "</tr>\n",
       "<tr>\n",
       "  <th>x176</th>  <td>   -1.4713</td> <td>    0.629</td> <td>   -2.339</td> <td> 0.019</td> <td>   -2.705</td> <td>   -0.238</td>\n",
       "</tr>\n",
       "<tr>\n",
       "  <th>x177</th>  <td>   -0.2614</td> <td>    0.574</td> <td>   -0.455</td> <td> 0.649</td> <td>   -1.387</td> <td>    0.864</td>\n",
       "</tr>\n",
       "<tr>\n",
       "  <th>x178</th>  <td>   -0.6490</td> <td>    0.723</td> <td>   -0.898</td> <td> 0.369</td> <td>   -2.066</td> <td>    0.768</td>\n",
       "</tr>\n",
       "<tr>\n",
       "  <th>x179</th>  <td>   -0.4369</td> <td>    0.599</td> <td>   -0.730</td> <td> 0.466</td> <td>   -1.611</td> <td>    0.737</td>\n",
       "</tr>\n",
       "<tr>\n",
       "  <th>x180</th>  <td>   -0.1921</td> <td>    0.567</td> <td>   -0.339</td> <td> 0.735</td> <td>   -1.304</td> <td>    0.920</td>\n",
       "</tr>\n",
       "<tr>\n",
       "  <th>x181</th>  <td>   -1.1309</td> <td>    0.570</td> <td>   -1.985</td> <td> 0.047</td> <td>   -2.248</td> <td>   -0.014</td>\n",
       "</tr>\n",
       "<tr>\n",
       "  <th>x182</th>  <td>   -0.4720</td> <td>    0.613</td> <td>   -0.770</td> <td> 0.442</td> <td>   -1.674</td> <td>    0.730</td>\n",
       "</tr>\n",
       "<tr>\n",
       "  <th>x183</th>  <td>    2.7999</td> <td>    0.759</td> <td>    3.691</td> <td> 0.000</td> <td>    1.313</td> <td>    4.287</td>\n",
       "</tr>\n",
       "<tr>\n",
       "  <th>x184</th>  <td>   -0.1960</td> <td>    0.560</td> <td>   -0.350</td> <td> 0.726</td> <td>   -1.294</td> <td>    0.902</td>\n",
       "</tr>\n",
       "<tr>\n",
       "  <th>x185</th>  <td>    0.1620</td> <td>    0.560</td> <td>    0.289</td> <td> 0.772</td> <td>   -0.936</td> <td>    1.260</td>\n",
       "</tr>\n",
       "<tr>\n",
       "  <th>x186</th>  <td>   -0.2851</td> <td>    0.557</td> <td>   -0.512</td> <td> 0.609</td> <td>   -1.376</td> <td>    0.806</td>\n",
       "</tr>\n",
       "<tr>\n",
       "  <th>x187</th>  <td>   -0.6207</td> <td>    0.990</td> <td>   -0.627</td> <td> 0.531</td> <td>   -2.562</td> <td>    1.321</td>\n",
       "</tr>\n",
       "<tr>\n",
       "  <th>x188</th>  <td>    0.2854</td> <td>    0.554</td> <td>    0.515</td> <td> 0.607</td> <td>   -0.802</td> <td>    1.372</td>\n",
       "</tr>\n",
       "<tr>\n",
       "  <th>x189</th>  <td>    0.2463</td> <td>    0.554</td> <td>    0.445</td> <td> 0.656</td> <td>   -0.839</td> <td>    1.332</td>\n",
       "</tr>\n",
       "<tr>\n",
       "  <th>x190</th>  <td>   -0.3423</td> <td>    0.555</td> <td>   -0.617</td> <td> 0.537</td> <td>   -1.430</td> <td>    0.746</td>\n",
       "</tr>\n",
       "<tr>\n",
       "  <th>x191</th>  <td>    0.9218</td> <td>    0.744</td> <td>    1.240</td> <td> 0.215</td> <td>   -0.536</td> <td>    2.379</td>\n",
       "</tr>\n",
       "<tr>\n",
       "  <th>x192</th>  <td>    -5e-16</td> <td> 5.32e-16</td> <td>   -0.939</td> <td> 0.348</td> <td>-1.54e-15</td> <td> 5.44e-16</td>\n",
       "</tr>\n",
       "<tr>\n",
       "  <th>x193</th>  <td>    0.8563</td> <td>    0.587</td> <td>    1.460</td> <td> 0.144</td> <td>   -0.294</td> <td>    2.006</td>\n",
       "</tr>\n",
       "<tr>\n",
       "  <th>x194</th>  <td>   -0.1242</td> <td>    0.553</td> <td>   -0.225</td> <td> 0.822</td> <td>   -1.209</td> <td>    0.960</td>\n",
       "</tr>\n",
       "<tr>\n",
       "  <th>x195</th>  <td>   -2.5325</td> <td>    2.489</td> <td>   -1.017</td> <td> 0.309</td> <td>   -7.412</td> <td>    2.347</td>\n",
       "</tr>\n",
       "<tr>\n",
       "  <th>x196</th>  <td>   -0.1974</td> <td>    0.573</td> <td>   -0.344</td> <td> 0.731</td> <td>   -1.321</td> <td>    0.926</td>\n",
       "</tr>\n",
       "<tr>\n",
       "  <th>x197</th>  <td>-7.048e-16</td> <td> 6.07e-16</td> <td>   -1.162</td> <td> 0.245</td> <td>-1.89e-15</td> <td> 4.84e-16</td>\n",
       "</tr>\n",
       "<tr>\n",
       "  <th>x198</th>  <td>    4.5164</td> <td>    1.795</td> <td>    2.517</td> <td> 0.012</td> <td>    0.998</td> <td>    8.035</td>\n",
       "</tr>\n",
       "<tr>\n",
       "  <th>x199</th>  <td>   -0.5782</td> <td>    0.552</td> <td>   -1.047</td> <td> 0.295</td> <td>   -1.661</td> <td>    0.505</td>\n",
       "</tr>\n",
       "<tr>\n",
       "  <th>x200</th>  <td>    0.3560</td> <td>    0.550</td> <td>    0.647</td> <td> 0.518</td> <td>   -0.723</td> <td>    1.435</td>\n",
       "</tr>\n",
       "<tr>\n",
       "  <th>x201</th>  <td>    0.3534</td> <td>    0.555</td> <td>    0.637</td> <td> 0.524</td> <td>   -0.734</td> <td>    1.441</td>\n",
       "</tr>\n",
       "<tr>\n",
       "  <th>x202</th>  <td>    0.0285</td> <td>    0.555</td> <td>    0.051</td> <td> 0.959</td> <td>   -1.060</td> <td>    1.117</td>\n",
       "</tr>\n",
       "<tr>\n",
       "  <th>x203</th>  <td>    0.4111</td> <td>    0.580</td> <td>    0.708</td> <td> 0.479</td> <td>   -0.727</td> <td>    1.549</td>\n",
       "</tr>\n",
       "<tr>\n",
       "  <th>x204</th>  <td>    1.8467</td> <td>    0.575</td> <td>    3.210</td> <td> 0.001</td> <td>    0.719</td> <td>    2.974</td>\n",
       "</tr>\n",
       "<tr>\n",
       "  <th>x205</th>  <td>   -1.8103</td> <td>    0.462</td> <td>   -3.915</td> <td> 0.000</td> <td>   -2.717</td> <td>   -0.904</td>\n",
       "</tr>\n",
       "<tr>\n",
       "  <th>x206</th>  <td>   -0.4271</td> <td>    0.557</td> <td>   -0.767</td> <td> 0.443</td> <td>   -1.518</td> <td>    0.664</td>\n",
       "</tr>\n",
       "<tr>\n",
       "  <th>x207</th>  <td>    0.0625</td> <td>    0.582</td> <td>    0.107</td> <td> 0.915</td> <td>   -1.079</td> <td>    1.203</td>\n",
       "</tr>\n",
       "<tr>\n",
       "  <th>x208</th>  <td>    0.4797</td> <td>    0.627</td> <td>    0.765</td> <td> 0.444</td> <td>   -0.749</td> <td>    1.709</td>\n",
       "</tr>\n",
       "<tr>\n",
       "  <th>x209</th>  <td>    1.9906</td> <td>    0.700</td> <td>    2.842</td> <td> 0.004</td> <td>    0.618</td> <td>    3.364</td>\n",
       "</tr>\n",
       "<tr>\n",
       "  <th>x210</th>  <td>    0.1507</td> <td>    0.564</td> <td>    0.267</td> <td> 0.789</td> <td>   -0.955</td> <td>    1.257</td>\n",
       "</tr>\n",
       "<tr>\n",
       "  <th>x211</th>  <td>-9.124e-16</td> <td> 4.98e-16</td> <td>   -1.833</td> <td> 0.067</td> <td>-1.89e-15</td> <td> 6.32e-17</td>\n",
       "</tr>\n",
       "<tr>\n",
       "  <th>x212</th>  <td>   -0.4153</td> <td>    0.555</td> <td>   -0.748</td> <td> 0.455</td> <td>   -1.504</td> <td>    0.673</td>\n",
       "</tr>\n",
       "<tr>\n",
       "  <th>x213</th>  <td>   -1.0725</td> <td>    0.562</td> <td>   -1.909</td> <td> 0.056</td> <td>   -2.174</td> <td>    0.029</td>\n",
       "</tr>\n",
       "<tr>\n",
       "  <th>x214</th>  <td>   -0.1378</td> <td>    0.556</td> <td>   -0.248</td> <td> 0.804</td> <td>   -1.227</td> <td>    0.951</td>\n",
       "</tr>\n",
       "<tr>\n",
       "  <th>x215</th>  <td>    0.1955</td> <td>    0.598</td> <td>    0.327</td> <td> 0.744</td> <td>   -0.976</td> <td>    1.368</td>\n",
       "</tr>\n",
       "<tr>\n",
       "  <th>x216</th>  <td>    0.6185</td> <td>    0.544</td> <td>    1.138</td> <td> 0.255</td> <td>   -0.447</td> <td>    1.684</td>\n",
       "</tr>\n",
       "<tr>\n",
       "  <th>x217</th>  <td>    0.0813</td> <td>    0.569</td> <td>    0.143</td> <td> 0.886</td> <td>   -1.033</td> <td>    1.196</td>\n",
       "</tr>\n",
       "<tr>\n",
       "  <th>x218</th>  <td>   -1.1491</td> <td>    0.581</td> <td>   -1.979</td> <td> 0.048</td> <td>   -2.287</td> <td>   -0.011</td>\n",
       "</tr>\n",
       "<tr>\n",
       "  <th>x219</th>  <td>    0.5330</td> <td>    0.586</td> <td>    0.910</td> <td> 0.363</td> <td>   -0.616</td> <td>    1.682</td>\n",
       "</tr>\n",
       "<tr>\n",
       "  <th>x220</th>  <td>   -1.2777</td> <td>    0.668</td> <td>   -1.911</td> <td> 0.056</td> <td>   -2.588</td> <td>    0.033</td>\n",
       "</tr>\n",
       "<tr>\n",
       "  <th>x221</th>  <td>    2.2755</td> <td>    0.639</td> <td>    3.560</td> <td> 0.000</td> <td>    1.022</td> <td>    3.529</td>\n",
       "</tr>\n",
       "<tr>\n",
       "  <th>x222</th>  <td>    0.1803</td> <td>    0.491</td> <td>    0.367</td> <td> 0.714</td> <td>   -0.783</td> <td>    1.144</td>\n",
       "</tr>\n",
       "<tr>\n",
       "  <th>x223</th>  <td>   -1.0937</td> <td>    0.553</td> <td>   -1.978</td> <td> 0.048</td> <td>   -2.178</td> <td>   -0.010</td>\n",
       "</tr>\n",
       "<tr>\n",
       "  <th>x224</th>  <td> 4.289e-16</td> <td>  4.8e-16</td> <td>    0.893</td> <td> 0.372</td> <td>-5.13e-16</td> <td> 1.37e-15</td>\n",
       "</tr>\n",
       "<tr>\n",
       "  <th>x225</th>  <td>    1.1376</td> <td>    0.592</td> <td>    1.921</td> <td> 0.055</td> <td>   -0.023</td> <td>    2.299</td>\n",
       "</tr>\n",
       "<tr>\n",
       "  <th>x226</th>  <td>    0.6990</td> <td>    0.558</td> <td>    1.252</td> <td> 0.210</td> <td>   -0.395</td> <td>    1.793</td>\n",
       "</tr>\n",
       "<tr>\n",
       "  <th>x227</th>  <td>    2.7268</td> <td>    0.570</td> <td>    4.785</td> <td> 0.000</td> <td>    1.610</td> <td>    3.844</td>\n",
       "</tr>\n",
       "<tr>\n",
       "  <th>x228</th>  <td>    1.4356</td> <td>    0.597</td> <td>    2.406</td> <td> 0.016</td> <td>    0.266</td> <td>    2.605</td>\n",
       "</tr>\n",
       "<tr>\n",
       "  <th>x229</th>  <td>    0.4784</td> <td>    0.555</td> <td>    0.862</td> <td> 0.389</td> <td>   -0.610</td> <td>    1.567</td>\n",
       "</tr>\n",
       "<tr>\n",
       "  <th>x230</th>  <td>    0.1082</td> <td>    0.552</td> <td>    0.196</td> <td> 0.845</td> <td>   -0.974</td> <td>    1.191</td>\n",
       "</tr>\n",
       "<tr>\n",
       "  <th>x231</th>  <td>   -0.4351</td> <td>    0.556</td> <td>   -0.783</td> <td> 0.434</td> <td>   -1.524</td> <td>    0.654</td>\n",
       "</tr>\n",
       "<tr>\n",
       "  <th>x232</th>  <td>   -0.1550</td> <td>    0.566</td> <td>   -0.274</td> <td> 0.784</td> <td>   -1.264</td> <td>    0.954</td>\n",
       "</tr>\n",
       "<tr>\n",
       "  <th>x233</th>  <td>   -0.3995</td> <td>    0.679</td> <td>   -0.588</td> <td> 0.556</td> <td>   -1.731</td> <td>    0.932</td>\n",
       "</tr>\n",
       "<tr>\n",
       "  <th>x234</th>  <td>   19.4190</td> <td>    0.895</td> <td>   21.701</td> <td> 0.000</td> <td>   17.665</td> <td>   21.173</td>\n",
       "</tr>\n",
       "<tr>\n",
       "  <th>x235</th>  <td>   -1.8715</td> <td>    0.623</td> <td>   -3.005</td> <td> 0.003</td> <td>   -3.093</td> <td>   -0.650</td>\n",
       "</tr>\n",
       "<tr>\n",
       "  <th>x236</th>  <td>   -0.3648</td> <td>    0.529</td> <td>   -0.689</td> <td> 0.491</td> <td>   -1.402</td> <td>    0.673</td>\n",
       "</tr>\n",
       "<tr>\n",
       "  <th>x237</th>  <td>   -0.2019</td> <td>    0.550</td> <td>   -0.367</td> <td> 0.714</td> <td>   -1.281</td> <td>    0.877</td>\n",
       "</tr>\n",
       "<tr>\n",
       "  <th>x238</th>  <td>   -0.1588</td> <td>    0.448</td> <td>   -0.355</td> <td> 0.723</td> <td>   -1.037</td> <td>    0.719</td>\n",
       "</tr>\n",
       "<tr>\n",
       "  <th>x239</th>  <td>   -0.5711</td> <td>    0.501</td> <td>   -1.141</td> <td> 0.254</td> <td>   -1.553</td> <td>    0.410</td>\n",
       "</tr>\n",
       "<tr>\n",
       "  <th>x240</th>  <td>    0.6134</td> <td>    0.287</td> <td>    2.137</td> <td> 0.033</td> <td>    0.051</td> <td>    1.176</td>\n",
       "</tr>\n",
       "<tr>\n",
       "  <th>x241</th>  <td>   -0.7545</td> <td>    0.768</td> <td>   -0.982</td> <td> 0.326</td> <td>   -2.261</td> <td>    0.752</td>\n",
       "</tr>\n",
       "<tr>\n",
       "  <th>x242</th>  <td>    0.6941</td> <td>    0.633</td> <td>    1.097</td> <td> 0.273</td> <td>   -0.546</td> <td>    1.934</td>\n",
       "</tr>\n",
       "<tr>\n",
       "  <th>x243</th>  <td>-3.869e-16</td> <td>  4.6e-16</td> <td>   -0.842</td> <td> 0.400</td> <td>-1.29e-15</td> <td> 5.14e-16</td>\n",
       "</tr>\n",
       "<tr>\n",
       "  <th>x244</th>  <td>    0.1934</td> <td>    0.467</td> <td>    0.414</td> <td> 0.679</td> <td>   -0.723</td> <td>    1.110</td>\n",
       "</tr>\n",
       "<tr>\n",
       "  <th>x245</th>  <td>    0.4104</td> <td>    0.374</td> <td>    1.098</td> <td> 0.272</td> <td>   -0.322</td> <td>    1.143</td>\n",
       "</tr>\n",
       "<tr>\n",
       "  <th>x246</th>  <td>    0.1674</td> <td>    0.554</td> <td>    0.302</td> <td> 0.763</td> <td>   -0.918</td> <td>    1.253</td>\n",
       "</tr>\n",
       "<tr>\n",
       "  <th>x247</th>  <td>   -0.9483</td> <td>    0.388</td> <td>   -2.444</td> <td> 0.015</td> <td>   -1.709</td> <td>   -0.188</td>\n",
       "</tr>\n",
       "<tr>\n",
       "  <th>x248</th>  <td>    2.0422</td> <td>    0.587</td> <td>    3.479</td> <td> 0.001</td> <td>    0.891</td> <td>    3.193</td>\n",
       "</tr>\n",
       "<tr>\n",
       "  <th>x249</th>  <td>    0.7622</td> <td>    0.551</td> <td>    1.384</td> <td> 0.167</td> <td>   -0.318</td> <td>    1.842</td>\n",
       "</tr>\n",
       "<tr>\n",
       "  <th>x250</th>  <td>   -3.7994</td> <td>    0.892</td> <td>   -4.258</td> <td> 0.000</td> <td>   -5.549</td> <td>   -2.050</td>\n",
       "</tr>\n",
       "<tr>\n",
       "  <th>x251</th>  <td>    2.4792</td> <td>    0.900</td> <td>    2.755</td> <td> 0.006</td> <td>    0.715</td> <td>    4.243</td>\n",
       "</tr>\n",
       "<tr>\n",
       "  <th>x252</th>  <td>   -2.8081</td> <td>    0.377</td> <td>   -7.452</td> <td> 0.000</td> <td>   -3.547</td> <td>   -2.069</td>\n",
       "</tr>\n",
       "<tr>\n",
       "  <th>x253</th>  <td>   -0.8931</td> <td>    0.682</td> <td>   -1.309</td> <td> 0.191</td> <td>   -2.230</td> <td>    0.444</td>\n",
       "</tr>\n",
       "<tr>\n",
       "  <th>x254</th>  <td>    3.1275</td> <td>    0.728</td> <td>    4.298</td> <td> 0.000</td> <td>    1.701</td> <td>    4.554</td>\n",
       "</tr>\n",
       "<tr>\n",
       "  <th>x255</th>  <td>    0.4706</td> <td>    0.699</td> <td>    0.674</td> <td> 0.501</td> <td>   -0.899</td> <td>    1.840</td>\n",
       "</tr>\n",
       "<tr>\n",
       "  <th>x256</th>  <td>    0.1532</td> <td>    0.630</td> <td>    0.243</td> <td> 0.808</td> <td>   -1.082</td> <td>    1.388</td>\n",
       "</tr>\n",
       "<tr>\n",
       "  <th>x257</th>  <td>    1.4809</td> <td>    1.067</td> <td>    1.388</td> <td> 0.165</td> <td>   -0.611</td> <td>    3.573</td>\n",
       "</tr>\n",
       "<tr>\n",
       "  <th>x258</th>  <td>    0.0990</td> <td>    0.592</td> <td>    0.167</td> <td> 0.867</td> <td>   -1.062</td> <td>    1.261</td>\n",
       "</tr>\n",
       "<tr>\n",
       "  <th>x259</th>  <td>    2.2746</td> <td>    0.670</td> <td>    3.393</td> <td> 0.001</td> <td>    0.961</td> <td>    3.589</td>\n",
       "</tr>\n",
       "<tr>\n",
       "  <th>x260</th>  <td>    0.3246</td> <td>    0.696</td> <td>    0.467</td> <td> 0.641</td> <td>   -1.039</td> <td>    1.688</td>\n",
       "</tr>\n",
       "<tr>\n",
       "  <th>x261</th>  <td>    3.7692</td> <td>    1.110</td> <td>    3.395</td> <td> 0.001</td> <td>    1.593</td> <td>    5.946</td>\n",
       "</tr>\n",
       "<tr>\n",
       "  <th>x262</th>  <td>   -0.6006</td> <td>    1.485</td> <td>   -0.404</td> <td> 0.686</td> <td>   -3.512</td> <td>    2.310</td>\n",
       "</tr>\n",
       "<tr>\n",
       "  <th>x263</th>  <td>   -0.8641</td> <td>    1.536</td> <td>   -0.563</td> <td> 0.574</td> <td>   -3.875</td> <td>    2.147</td>\n",
       "</tr>\n",
       "<tr>\n",
       "  <th>x264</th>  <td>    2.9721</td> <td>    0.946</td> <td>    3.140</td> <td> 0.002</td> <td>    1.117</td> <td>    4.827</td>\n",
       "</tr>\n",
       "<tr>\n",
       "  <th>x265</th>  <td>   -1.1126</td> <td>    0.661</td> <td>   -1.683</td> <td> 0.092</td> <td>   -2.408</td> <td>    0.183</td>\n",
       "</tr>\n",
       "<tr>\n",
       "  <th>x266</th>  <td>    4.2801</td> <td>    0.782</td> <td>    5.471</td> <td> 0.000</td> <td>    2.746</td> <td>    5.814</td>\n",
       "</tr>\n",
       "<tr>\n",
       "  <th>x267</th>  <td>   -1.0698</td> <td>    0.644</td> <td>   -1.660</td> <td> 0.097</td> <td>   -2.333</td> <td>    0.193</td>\n",
       "</tr>\n",
       "<tr>\n",
       "  <th>x268</th>  <td>   -0.9762</td> <td>    0.982</td> <td>   -0.994</td> <td> 0.320</td> <td>   -2.902</td> <td>    0.949</td>\n",
       "</tr>\n",
       "<tr>\n",
       "  <th>x269</th>  <td>    1.2378</td> <td>    0.713</td> <td>    1.737</td> <td> 0.082</td> <td>   -0.159</td> <td>    2.635</td>\n",
       "</tr>\n",
       "<tr>\n",
       "  <th>x270</th>  <td>   -1.0002</td> <td>    0.669</td> <td>   -1.495</td> <td> 0.135</td> <td>   -2.312</td> <td>    0.311</td>\n",
       "</tr>\n",
       "<tr>\n",
       "  <th>x271</th>  <td>   -0.7710</td> <td>    0.682</td> <td>   -1.131</td> <td> 0.258</td> <td>   -2.107</td> <td>    0.565</td>\n",
       "</tr>\n",
       "<tr>\n",
       "  <th>x272</th>  <td>    0.8320</td> <td>    0.725</td> <td>    1.147</td> <td> 0.251</td> <td>   -0.590</td> <td>    2.254</td>\n",
       "</tr>\n",
       "<tr>\n",
       "  <th>x273</th>  <td>    0.1555</td> <td>    0.759</td> <td>    0.205</td> <td> 0.838</td> <td>   -1.333</td> <td>    1.644</td>\n",
       "</tr>\n",
       "<tr>\n",
       "  <th>x274</th>  <td>   -0.0688</td> <td>    0.794</td> <td>   -0.087</td> <td> 0.931</td> <td>   -1.625</td> <td>    1.488</td>\n",
       "</tr>\n",
       "<tr>\n",
       "  <th>x275</th>  <td>    1.4178</td> <td>    0.741</td> <td>    1.913</td> <td> 0.056</td> <td>   -0.035</td> <td>    2.871</td>\n",
       "</tr>\n",
       "<tr>\n",
       "  <th>x276</th>  <td>   -0.3049</td> <td>    0.756</td> <td>   -0.403</td> <td> 0.687</td> <td>   -1.787</td> <td>    1.177</td>\n",
       "</tr>\n",
       "<tr>\n",
       "  <th>x277</th>  <td>   -0.6115</td> <td>    0.595</td> <td>   -1.027</td> <td> 0.304</td> <td>   -1.778</td> <td>    0.555</td>\n",
       "</tr>\n",
       "<tr>\n",
       "  <th>x278</th>  <td>   -1.0351</td> <td>    0.673</td> <td>   -1.539</td> <td> 0.124</td> <td>   -2.354</td> <td>    0.284</td>\n",
       "</tr>\n",
       "<tr>\n",
       "  <th>x279</th>  <td>   -1.1243</td> <td>    0.822</td> <td>   -1.368</td> <td> 0.171</td> <td>   -2.735</td> <td>    0.486</td>\n",
       "</tr>\n",
       "<tr>\n",
       "  <th>x280</th>  <td>    2.2288</td> <td>    0.605</td> <td>    3.683</td> <td> 0.000</td> <td>    1.042</td> <td>    3.415</td>\n",
       "</tr>\n",
       "<tr>\n",
       "  <th>x281</th>  <td>    2.0701</td> <td>    0.740</td> <td>    2.798</td> <td> 0.005</td> <td>    0.619</td> <td>    3.521</td>\n",
       "</tr>\n",
       "<tr>\n",
       "  <th>x282</th>  <td>   -0.0360</td> <td>    0.752</td> <td>   -0.048</td> <td> 0.962</td> <td>   -1.510</td> <td>    1.438</td>\n",
       "</tr>\n",
       "<tr>\n",
       "  <th>x283</th>  <td>   -1.3329</td> <td>    0.911</td> <td>   -1.463</td> <td> 0.143</td> <td>   -3.119</td> <td>    0.453</td>\n",
       "</tr>\n",
       "<tr>\n",
       "  <th>x284</th>  <td>    1.0769</td> <td>    0.714</td> <td>    1.507</td> <td> 0.132</td> <td>   -0.324</td> <td>    2.478</td>\n",
       "</tr>\n",
       "<tr>\n",
       "  <th>x285</th>  <td>   -0.0001</td> <td>    0.691</td> <td>   -0.000</td> <td> 1.000</td> <td>   -1.354</td> <td>    1.354</td>\n",
       "</tr>\n",
       "<tr>\n",
       "  <th>x286</th>  <td>   -1.4902</td> <td>    0.673</td> <td>   -2.213</td> <td> 0.027</td> <td>   -2.810</td> <td>   -0.170</td>\n",
       "</tr>\n",
       "<tr>\n",
       "  <th>x287</th>  <td>    0.1109</td> <td>    0.972</td> <td>    0.114</td> <td> 0.909</td> <td>   -1.794</td> <td>    2.016</td>\n",
       "</tr>\n",
       "<tr>\n",
       "  <th>x288</th>  <td>   -2.3419</td> <td>    0.702</td> <td>   -3.335</td> <td> 0.001</td> <td>   -3.719</td> <td>   -0.965</td>\n",
       "</tr>\n",
       "<tr>\n",
       "  <th>x289</th>  <td>    1.1192</td> <td>    0.709</td> <td>    1.579</td> <td> 0.114</td> <td>   -0.270</td> <td>    2.509</td>\n",
       "</tr>\n",
       "<tr>\n",
       "  <th>x290</th>  <td>   -1.3968</td> <td>    1.265</td> <td>   -1.105</td> <td> 0.269</td> <td>   -3.876</td> <td>    1.082</td>\n",
       "</tr>\n",
       "<tr>\n",
       "  <th>x291</th>  <td>   -1.8828</td> <td>    1.350</td> <td>   -1.394</td> <td> 0.163</td> <td>   -4.530</td> <td>    0.765</td>\n",
       "</tr>\n",
       "<tr>\n",
       "  <th>x292</th>  <td>    0.2063</td> <td>    0.750</td> <td>    0.275</td> <td> 0.783</td> <td>   -1.264</td> <td>    1.676</td>\n",
       "</tr>\n",
       "<tr>\n",
       "  <th>x293</th>  <td>   -0.4514</td> <td>    0.598</td> <td>   -0.755</td> <td> 0.450</td> <td>   -1.623</td> <td>    0.720</td>\n",
       "</tr>\n",
       "<tr>\n",
       "  <th>x294</th>  <td>   -0.2810</td> <td>    0.610</td> <td>   -0.461</td> <td> 0.645</td> <td>   -1.476</td> <td>    0.914</td>\n",
       "</tr>\n",
       "<tr>\n",
       "  <th>x295</th>  <td>    1.7220</td> <td>    0.659</td> <td>    2.611</td> <td> 0.009</td> <td>    0.429</td> <td>    3.015</td>\n",
       "</tr>\n",
       "<tr>\n",
       "  <th>x296</th>  <td>    1.4056</td> <td>    0.598</td> <td>    2.350</td> <td> 0.019</td> <td>    0.233</td> <td>    2.578</td>\n",
       "</tr>\n",
       "<tr>\n",
       "  <th>x297</th>  <td>    2.4860</td> <td>    0.633</td> <td>    3.928</td> <td> 0.000</td> <td>    1.245</td> <td>    3.727</td>\n",
       "</tr>\n",
       "<tr>\n",
       "  <th>x298</th>  <td>   -0.5208</td> <td>    1.133</td> <td>   -0.460</td> <td> 0.646</td> <td>   -2.742</td> <td>    1.700</td>\n",
       "</tr>\n",
       "<tr>\n",
       "  <th>x299</th>  <td>    3.3908</td> <td>    0.661</td> <td>    5.126</td> <td> 0.000</td> <td>    2.094</td> <td>    4.688</td>\n",
       "</tr>\n",
       "<tr>\n",
       "  <th>x300</th>  <td>   -1.7682</td> <td>    0.673</td> <td>   -2.627</td> <td> 0.009</td> <td>   -3.088</td> <td>   -0.449</td>\n",
       "</tr>\n",
       "<tr>\n",
       "  <th>x301</th>  <td>   -0.3241</td> <td>    0.687</td> <td>   -0.472</td> <td> 0.637</td> <td>   -1.671</td> <td>    1.023</td>\n",
       "</tr>\n",
       "<tr>\n",
       "  <th>x302</th>  <td>   -0.6331</td> <td>    0.655</td> <td>   -0.967</td> <td> 0.334</td> <td>   -1.917</td> <td>    0.651</td>\n",
       "</tr>\n",
       "<tr>\n",
       "  <th>x303</th>  <td>    1.6348</td> <td>    0.664</td> <td>    2.462</td> <td> 0.014</td> <td>    0.333</td> <td>    2.936</td>\n",
       "</tr>\n",
       "<tr>\n",
       "  <th>x304</th>  <td>   -1.1620</td> <td>    0.624</td> <td>   -1.862</td> <td> 0.063</td> <td>   -2.385</td> <td>    0.061</td>\n",
       "</tr>\n",
       "<tr>\n",
       "  <th>x305</th>  <td>    0.5181</td> <td>    0.951</td> <td>    0.545</td> <td> 0.586</td> <td>   -1.346</td> <td>    2.382</td>\n",
       "</tr>\n",
       "<tr>\n",
       "  <th>x306</th>  <td>   -1.6079</td> <td>    0.895</td> <td>   -1.797</td> <td> 0.072</td> <td>   -3.362</td> <td>    0.146</td>\n",
       "</tr>\n",
       "</table>\n",
       "<table class=\"simpletable\">\n",
       "<tr>\n",
       "  <th>Omnibus:</th>       <td>535.404</td> <th>  Durbin-Watson:     </th> <td>   1.969</td> \n",
       "</tr>\n",
       "<tr>\n",
       "  <th>Prob(Omnibus):</th> <td> 0.000</td>  <th>  Jarque-Bera (JB):  </th> <td>1186.496</td> \n",
       "</tr>\n",
       "<tr>\n",
       "  <th>Skew:</th>          <td> 0.590</td>  <th>  Prob(JB):          </th> <td>2.27e-258</td>\n",
       "</tr>\n",
       "<tr>\n",
       "  <th>Kurtosis:</th>      <td> 4.907</td>  <th>  Cond. No.          </th> <td>3.66e+16</td> \n",
       "</tr>\n",
       "</table><br/><br/>Warnings:<br/>[1] Standard Errors assume that the covariance matrix of the errors is correctly specified.<br/>[2] The smallest eigenvalue is 4.17e-29. This might indicate that there are<br/>strong multicollinearity problems or that the design matrix is singular."
      ],
      "text/plain": [
       "<class 'statsmodels.iolib.summary.Summary'>\n",
       "\"\"\"\n",
       "                            OLS Regression Results                            \n",
       "==============================================================================\n",
       "Dep. Variable:                  price   R-squared:                       0.641\n",
       "Model:                            OLS   Adj. R-squared:                  0.622\n",
       "Method:                 Least Squares   F-statistic:                     33.66\n",
       "Date:                Sun, 17 Feb 2019   Prob (F-statistic):               0.00\n",
       "Time:                        18:45:46   Log-Likelihood:                -28943.\n",
       "No. Observations:                5664   AIC:                         5.846e+04\n",
       "Df Residuals:                    5378   BIC:                         6.036e+04\n",
       "Df Model:                         285                                         \n",
       "Covariance Type:            nonrobust                                         \n",
       "==============================================================================\n",
       "                 coef    std err          t      P>|t|      [0.025      0.975]\n",
       "------------------------------------------------------------------------------\n",
       "const        135.3752      0.547    247.671      0.000     134.304     136.447\n",
       "x1            -1.5708      0.744     -2.112      0.035      -3.029      -0.113\n",
       "x2             2.8461      0.995      2.861      0.004       0.896       4.796\n",
       "x3             2.7135      0.835      3.248      0.001       1.076       4.351\n",
       "x4            16.2596      1.262     12.887      0.000      13.786      18.733\n",
       "x5            -0.5167      0.678     -0.762      0.446      -1.846       0.812\n",
       "x6            13.0427      0.958     13.612      0.000      11.164      14.921\n",
       "x7            -1.8803      1.091     -1.724      0.085      -4.019       0.258\n",
       "x8             0.0504      0.602      0.084      0.933      -1.129       1.230\n",
       "x9             5.7852      0.774      7.476      0.000       4.268       7.302\n",
       "x10            4.6448      0.729      6.374      0.000       3.216       6.073\n",
       "x11           -1.3250      0.665     -1.992      0.046      -2.629      -0.021\n",
       "x12           -1.4711      1.005     -1.464      0.143      -3.442       0.499\n",
       "x13           -1.4265      1.000     -1.427      0.154      -3.386       0.533\n",
       "x14            2.3243      1.136      2.046      0.041       0.098       4.551\n",
       "x15            2.0168      0.915      2.204      0.028       0.223       3.811\n",
       "x16            3.1090      0.810      3.838      0.000       1.521       4.697\n",
       "x17           -1.4658      0.783     -1.871      0.061      -3.001       0.070\n",
       "x18           -0.9303      0.861     -1.080      0.280      -2.618       0.758\n",
       "x19            3.2579      0.780      4.176      0.000       1.729       4.787\n",
       "x20           -4.0599      0.890     -4.564      0.000      -5.804      -2.316\n",
       "x21           -7.3760      0.880     -8.377      0.000      -9.102      -5.650\n",
       "x22           -5.0243      0.954     -5.268      0.000      -6.894      -3.155\n",
       "x23            2.2399      0.903      2.480      0.013       0.469       4.011\n",
       "x24           -0.0366      0.502     -0.073      0.942      -1.021       0.948\n",
       "x25           -0.9969      0.417     -2.393      0.017      -1.813      -0.180\n",
       "x26            0.4355      0.388      1.123      0.262      -0.325       1.196\n",
       "x27           -3.8689      0.664     -5.830      0.000      -5.170      -2.568\n",
       "x28           -0.1329      0.593     -0.224      0.823      -1.296       1.030\n",
       "x29           -1.8355      0.654     -2.805      0.005      -3.118      -0.553\n",
       "x30            0.7253      0.565      1.283      0.199      -0.383       1.833\n",
       "x31           -1.3373      0.792     -1.690      0.091      -2.889       0.214\n",
       "x32           -1.1375      0.584     -1.947      0.052      -2.283       0.008\n",
       "x33           -1.0498      0.558     -1.880      0.060      -2.145       0.045\n",
       "x34           -0.8383      0.576     -1.456      0.145      -1.967       0.290\n",
       "x35           -1.4479      0.653     -2.216      0.027      -2.729      -0.167\n",
       "x36            0.2121      0.579      0.366      0.714      -0.923       1.347\n",
       "x37            0.0962      0.741      0.130      0.897      -1.356       1.549\n",
       "x38           -1.8641      0.871     -2.140      0.032      -3.572      -0.156\n",
       "x39           -0.3224      0.619     -0.521      0.603      -1.536       0.892\n",
       "x40            0.8750      0.551      1.589      0.112      -0.205       1.955\n",
       "x41           -1.6599      0.578     -2.874      0.004      -2.792      -0.528\n",
       "x42            3.9955      0.742      5.388      0.000       2.542       5.449\n",
       "x43           -0.7618      0.607     -1.256      0.209      -1.951       0.428\n",
       "x44            1.1728      0.572      2.049      0.041       0.051       2.295\n",
       "x45           -0.0054      0.712     -0.008      0.994      -1.402       1.391\n",
       "x46           -0.1480      0.674     -0.220      0.826      -1.469       1.173\n",
       "x47           -2.2006      0.766     -2.874      0.004      -3.702      -0.700\n",
       "x48            0.1321      0.607      0.218      0.828      -1.058       1.322\n",
       "x49         5.806e-16   1.21e-15      0.481      0.631   -1.79e-15    2.95e-15\n",
       "x50           -1.0997      0.581     -1.893      0.058      -2.239       0.039\n",
       "x51           -0.4636      0.622     -0.746      0.456      -1.682       0.755\n",
       "x52           -0.8145      0.537     -1.515      0.130      -1.868       0.239\n",
       "x53            0.5712      0.560      1.019      0.308      -0.528       1.670\n",
       "x54           -1.1470      0.592     -1.939      0.053      -2.307       0.013\n",
       "x55           -0.5631      0.574     -0.981      0.326      -1.688       0.562\n",
       "x56            3.3065      0.917      3.604      0.000       1.508       5.105\n",
       "x57            0.1636      0.592      0.276      0.782      -0.996       1.324\n",
       "x58           -0.7044      0.602     -1.171      0.242      -1.884       0.475\n",
       "x59        -1.425e-17    8.3e-16     -0.017      0.986   -1.64e-15    1.61e-15\n",
       "x60           -1.1962      0.648     -1.847      0.065      -2.466       0.073\n",
       "x61           -0.6721      0.568     -1.184      0.236      -1.785       0.441\n",
       "x62           -1.8524      0.622     -2.980      0.003      -3.071      -0.634\n",
       "x63           -0.3495      0.568     -0.615      0.538      -1.463       0.764\n",
       "x64           -1.4802      0.570     -2.598      0.009      -2.597      -0.363\n",
       "x65           -0.7825      0.716     -1.093      0.275      -2.187       0.622\n",
       "x66            0.4119      0.618      0.666      0.505      -0.800       1.624\n",
       "x67           -0.5471      0.569     -0.961      0.337      -1.663       0.569\n",
       "x68           -0.7286      0.597     -1.220      0.222      -1.899       0.442\n",
       "x69         1.025e-15   8.85e-16      1.159      0.246   -7.09e-16    2.76e-15\n",
       "x70           -1.6730      0.623     -2.683      0.007      -2.895      -0.451\n",
       "x71           -0.3550      0.560     -0.634      0.526      -1.452       0.742\n",
       "x72            0.4139      0.608      0.681      0.496      -0.778       1.605\n",
       "x73           -1.0116      0.607     -1.666      0.096      -2.202       0.179\n",
       "x74            0.6048      0.590      1.024      0.306      -0.553       1.762\n",
       "x75           -1.8723      0.726     -2.580      0.010      -3.295      -0.450\n",
       "x76           -1.9199      0.793     -2.421      0.016      -3.474      -0.365\n",
       "x77            0.5434      0.552      0.985      0.325      -0.538       1.625\n",
       "x78           -0.3024      0.600     -0.504      0.614      -1.479       0.874\n",
       "x79           -0.2789      0.695     -0.401      0.688      -1.641       1.084\n",
       "x80            2.9924      0.713      4.199      0.000       1.595       4.390\n",
       "x81           -1.3996      0.559     -2.504      0.012      -2.495      -0.304\n",
       "x82           -0.2320      0.559     -0.415      0.678      -1.328       0.864\n",
       "x83           -1.3544      0.559     -2.424      0.015      -2.450      -0.259\n",
       "x84           -0.9332      0.609     -1.532      0.126      -2.128       0.261\n",
       "x85           -0.3685      0.559     -0.659      0.510      -1.464       0.727\n",
       "x86           -1.0701      0.660     -1.621      0.105      -2.364       0.224\n",
       "x87            0.3116      0.656      0.475      0.635      -0.975       1.599\n",
       "x88           -1.0163      0.625     -1.626      0.104      -2.242       0.209\n",
       "x89           -1.5651      0.645     -2.428      0.015      -2.829      -0.301\n",
       "x90           -0.4048      0.563     -0.719      0.472      -1.509       0.699\n",
       "x91            0.4652      0.585      0.796      0.426      -0.681       1.611\n",
       "x92           -1.1440      0.602     -1.900      0.057      -2.324       0.036\n",
       "x93           -0.7169      0.635     -1.129      0.259      -1.961       0.527\n",
       "x94           -0.7623      0.565     -1.350      0.177      -1.869       0.344\n",
       "x95         7.281e-16   8.37e-16      0.870      0.384   -9.13e-16    2.37e-15\n",
       "x96           -0.2871      0.584     -0.491      0.623      -1.433       0.859\n",
       "x97           -1.1384      0.657     -1.732      0.083      -2.427       0.150\n",
       "x98           -0.6732      0.561     -1.199      0.231      -1.774       0.427\n",
       "x99           -2.2516      0.846     -2.660      0.008      -3.911      -0.592\n",
       "x100          -0.2018      0.550     -0.367      0.714      -1.279       0.876\n",
       "x101          -0.4858      0.599     -0.811      0.418      -1.661       0.689\n",
       "x102           1.5553      0.641      2.425      0.015       0.298       2.812\n",
       "x103          -1.4697      0.667     -2.204      0.028      -2.777      -0.162\n",
       "x104          -0.4444      0.603     -0.737      0.461      -1.626       0.737\n",
       "x105       -1.479e-15   6.51e-16     -2.272      0.023   -2.75e-15   -2.03e-16\n",
       "x106          -0.0121      0.621     -0.019      0.984      -1.230       1.206\n",
       "x107          -1.5999      0.717     -2.233      0.026      -3.005      -0.195\n",
       "x108          -0.4711      0.558     -0.844      0.399      -1.566       0.624\n",
       "x109          -1.6546      0.679     -2.436      0.015      -2.986      -0.323\n",
       "x110           5.5053      0.857      6.423      0.000       3.825       7.186\n",
       "x111          -0.4796      0.737     -0.650      0.515      -1.925       0.966\n",
       "x112       -3.588e-16   7.41e-16     -0.484      0.628   -1.81e-15    1.09e-15\n",
       "x113          -0.9396      0.600     -1.565      0.118      -2.116       0.237\n",
       "x114          -0.1411      0.551     -0.256      0.798      -1.221       0.939\n",
       "x115          -0.2676      0.557     -0.480      0.631      -1.360       0.825\n",
       "x116           0.5120      0.648      0.790      0.430      -0.759       1.783\n",
       "x117           3.8907      0.696      5.587      0.000       2.526       5.256\n",
       "x118           1.0543      0.631      1.672      0.095      -0.182       2.291\n",
       "x119          -0.2869      0.579     -0.495      0.620      -1.422       0.849\n",
       "x120          -0.7616      0.666     -1.144      0.253      -2.067       0.543\n",
       "x121          -1.2491      0.568     -2.198      0.028      -2.363      -0.135\n",
       "x122          -1.4145      0.730     -1.938      0.053      -2.845       0.016\n",
       "x123          -1.9784      0.711     -2.784      0.005      -3.371      -0.585\n",
       "x124          -2.6408      0.607     -4.348      0.000      -3.831      -1.450\n",
       "x125          -0.8147      0.629     -1.296      0.195      -2.047       0.418\n",
       "x126          -1.0564      0.643     -1.642      0.101      -2.317       0.204\n",
       "x127           0.3690      0.627      0.588      0.556      -0.861       1.599\n",
       "x128          -0.6575      0.693     -0.949      0.343      -2.016       0.701\n",
       "x129           3.6249      0.599      6.053      0.000       2.451       4.799\n",
       "x130           3.2358      0.514      6.300      0.000       2.229       4.243\n",
       "x131           0.2352      0.633      0.372      0.710      -1.005       1.476\n",
       "x132          -1.1627      0.655     -1.776      0.076      -2.446       0.121\n",
       "x133          -2.0734      0.629     -3.295      0.001      -3.307      -0.840\n",
       "x134          -0.6363      0.696     -0.914      0.361      -2.000       0.728\n",
       "x135        2.215e-16    7.2e-16      0.308      0.758   -1.19e-15    1.63e-15\n",
       "x136        2.333e-15   6.97e-16      3.349      0.001    9.67e-16     3.7e-15\n",
       "x137          -0.9020      0.732     -1.232      0.218      -2.337       0.533\n",
       "x138          -0.8487      0.643     -1.319      0.187      -2.110       0.412\n",
       "x139          -0.2369      0.585     -0.405      0.686      -1.384       0.911\n",
       "x140           2.7783      0.653      4.254      0.000       1.498       4.059\n",
       "x141          -1.2184      0.798     -1.527      0.127      -2.783       0.346\n",
       "x142          -0.1287      0.555     -0.232      0.817      -1.216       0.959\n",
       "x143          -0.4680      0.560     -0.836      0.403      -1.566       0.630\n",
       "x144          -0.2389      0.603     -0.396      0.692      -1.421       0.943\n",
       "x145          -0.0054      0.579     -0.009      0.993      -1.140       1.129\n",
       "x146       -1.171e-15   7.19e-16     -1.628      0.104   -2.58e-15    2.39e-16\n",
       "x147          -2.3915      0.724     -3.303      0.001      -3.811      -0.972\n",
       "x148           0.0662      0.600      0.110      0.912      -1.110       1.243\n",
       "x149          -0.6449      0.723     -0.892      0.372      -2.062       0.772\n",
       "x150           2.4500      0.613      3.999      0.000       1.249       3.651\n",
       "x151          -0.2080      0.568     -0.366      0.714      -1.322       0.905\n",
       "x152          -3.8404      0.468     -8.205      0.000      -4.758      -2.923\n",
       "x153           0.2616      0.585      0.447      0.655      -0.885       1.408\n",
       "x154          -2.1373      0.528     -4.047      0.000      -3.173      -1.102\n",
       "x155          -1.7710      0.771     -2.298      0.022      -3.282      -0.260\n",
       "x156          -0.9910      0.591     -1.677      0.094      -2.150       0.168\n",
       "x157          -0.0577      0.560     -0.103      0.918      -1.156       1.041\n",
       "x158          -0.6597      0.566     -1.165      0.244      -1.770       0.450\n",
       "x159          -1.3427      0.571     -2.352      0.019      -2.462      -0.223\n",
       "x160          -1.7009      0.613     -2.773      0.006      -2.904      -0.498\n",
       "x161          -0.4701      0.787     -0.597      0.550      -2.013       1.072\n",
       "x162           0.1759      0.600      0.293      0.770      -1.001       1.353\n",
       "x163          -2.0271      0.639     -3.174      0.002      -3.279      -0.775\n",
       "x164          -1.0217      0.570     -1.793      0.073      -2.139       0.095\n",
       "x165          -1.1170      0.652     -1.714      0.087      -2.395       0.161\n",
       "x166           1.8217      0.637      2.862      0.004       0.574       3.070\n",
       "x167           3.5571      0.770      4.620      0.000       2.048       5.067\n",
       "x168          -0.5176      0.523     -0.990      0.322      -1.542       0.507\n",
       "x169          -2.1851      0.802     -2.725      0.006      -3.757      -0.613\n",
       "x170          -0.5485      0.588     -0.933      0.351      -1.701       0.604\n",
       "x171          -0.3884      0.622     -0.625      0.532      -1.607       0.830\n",
       "x172          -1.1543      0.591     -1.955      0.051      -2.312       0.003\n",
       "x173          -0.0096      0.584     -0.017      0.987      -1.155       1.136\n",
       "x174          -1.4192      0.587     -2.417      0.016      -2.570      -0.268\n",
       "x175          -1.2871      0.609     -2.113      0.035      -2.481      -0.093\n",
       "x176          -1.4713      0.629     -2.339      0.019      -2.705      -0.238\n",
       "x177          -0.2614      0.574     -0.455      0.649      -1.387       0.864\n",
       "x178          -0.6490      0.723     -0.898      0.369      -2.066       0.768\n",
       "x179          -0.4369      0.599     -0.730      0.466      -1.611       0.737\n",
       "x180          -0.1921      0.567     -0.339      0.735      -1.304       0.920\n",
       "x181          -1.1309      0.570     -1.985      0.047      -2.248      -0.014\n",
       "x182          -0.4720      0.613     -0.770      0.442      -1.674       0.730\n",
       "x183           2.7999      0.759      3.691      0.000       1.313       4.287\n",
       "x184          -0.1960      0.560     -0.350      0.726      -1.294       0.902\n",
       "x185           0.1620      0.560      0.289      0.772      -0.936       1.260\n",
       "x186          -0.2851      0.557     -0.512      0.609      -1.376       0.806\n",
       "x187          -0.6207      0.990     -0.627      0.531      -2.562       1.321\n",
       "x188           0.2854      0.554      0.515      0.607      -0.802       1.372\n",
       "x189           0.2463      0.554      0.445      0.656      -0.839       1.332\n",
       "x190          -0.3423      0.555     -0.617      0.537      -1.430       0.746\n",
       "x191           0.9218      0.744      1.240      0.215      -0.536       2.379\n",
       "x192           -5e-16   5.32e-16     -0.939      0.348   -1.54e-15    5.44e-16\n",
       "x193           0.8563      0.587      1.460      0.144      -0.294       2.006\n",
       "x194          -0.1242      0.553     -0.225      0.822      -1.209       0.960\n",
       "x195          -2.5325      2.489     -1.017      0.309      -7.412       2.347\n",
       "x196          -0.1974      0.573     -0.344      0.731      -1.321       0.926\n",
       "x197       -7.048e-16   6.07e-16     -1.162      0.245   -1.89e-15    4.84e-16\n",
       "x198           4.5164      1.795      2.517      0.012       0.998       8.035\n",
       "x199          -0.5782      0.552     -1.047      0.295      -1.661       0.505\n",
       "x200           0.3560      0.550      0.647      0.518      -0.723       1.435\n",
       "x201           0.3534      0.555      0.637      0.524      -0.734       1.441\n",
       "x202           0.0285      0.555      0.051      0.959      -1.060       1.117\n",
       "x203           0.4111      0.580      0.708      0.479      -0.727       1.549\n",
       "x204           1.8467      0.575      3.210      0.001       0.719       2.974\n",
       "x205          -1.8103      0.462     -3.915      0.000      -2.717      -0.904\n",
       "x206          -0.4271      0.557     -0.767      0.443      -1.518       0.664\n",
       "x207           0.0625      0.582      0.107      0.915      -1.079       1.203\n",
       "x208           0.4797      0.627      0.765      0.444      -0.749       1.709\n",
       "x209           1.9906      0.700      2.842      0.004       0.618       3.364\n",
       "x210           0.1507      0.564      0.267      0.789      -0.955       1.257\n",
       "x211       -9.124e-16   4.98e-16     -1.833      0.067   -1.89e-15    6.32e-17\n",
       "x212          -0.4153      0.555     -0.748      0.455      -1.504       0.673\n",
       "x213          -1.0725      0.562     -1.909      0.056      -2.174       0.029\n",
       "x214          -0.1378      0.556     -0.248      0.804      -1.227       0.951\n",
       "x215           0.1955      0.598      0.327      0.744      -0.976       1.368\n",
       "x216           0.6185      0.544      1.138      0.255      -0.447       1.684\n",
       "x217           0.0813      0.569      0.143      0.886      -1.033       1.196\n",
       "x218          -1.1491      0.581     -1.979      0.048      -2.287      -0.011\n",
       "x219           0.5330      0.586      0.910      0.363      -0.616       1.682\n",
       "x220          -1.2777      0.668     -1.911      0.056      -2.588       0.033\n",
       "x221           2.2755      0.639      3.560      0.000       1.022       3.529\n",
       "x222           0.1803      0.491      0.367      0.714      -0.783       1.144\n",
       "x223          -1.0937      0.553     -1.978      0.048      -2.178      -0.010\n",
       "x224        4.289e-16    4.8e-16      0.893      0.372   -5.13e-16    1.37e-15\n",
       "x225           1.1376      0.592      1.921      0.055      -0.023       2.299\n",
       "x226           0.6990      0.558      1.252      0.210      -0.395       1.793\n",
       "x227           2.7268      0.570      4.785      0.000       1.610       3.844\n",
       "x228           1.4356      0.597      2.406      0.016       0.266       2.605\n",
       "x229           0.4784      0.555      0.862      0.389      -0.610       1.567\n",
       "x230           0.1082      0.552      0.196      0.845      -0.974       1.191\n",
       "x231          -0.4351      0.556     -0.783      0.434      -1.524       0.654\n",
       "x232          -0.1550      0.566     -0.274      0.784      -1.264       0.954\n",
       "x233          -0.3995      0.679     -0.588      0.556      -1.731       0.932\n",
       "x234          19.4190      0.895     21.701      0.000      17.665      21.173\n",
       "x235          -1.8715      0.623     -3.005      0.003      -3.093      -0.650\n",
       "x236          -0.3648      0.529     -0.689      0.491      -1.402       0.673\n",
       "x237          -0.2019      0.550     -0.367      0.714      -1.281       0.877\n",
       "x238          -0.1588      0.448     -0.355      0.723      -1.037       0.719\n",
       "x239          -0.5711      0.501     -1.141      0.254      -1.553       0.410\n",
       "x240           0.6134      0.287      2.137      0.033       0.051       1.176\n",
       "x241          -0.7545      0.768     -0.982      0.326      -2.261       0.752\n",
       "x242           0.6941      0.633      1.097      0.273      -0.546       1.934\n",
       "x243       -3.869e-16    4.6e-16     -0.842      0.400   -1.29e-15    5.14e-16\n",
       "x244           0.1934      0.467      0.414      0.679      -0.723       1.110\n",
       "x245           0.4104      0.374      1.098      0.272      -0.322       1.143\n",
       "x246           0.1674      0.554      0.302      0.763      -0.918       1.253\n",
       "x247          -0.9483      0.388     -2.444      0.015      -1.709      -0.188\n",
       "x248           2.0422      0.587      3.479      0.001       0.891       3.193\n",
       "x249           0.7622      0.551      1.384      0.167      -0.318       1.842\n",
       "x250          -3.7994      0.892     -4.258      0.000      -5.549      -2.050\n",
       "x251           2.4792      0.900      2.755      0.006       0.715       4.243\n",
       "x252          -2.8081      0.377     -7.452      0.000      -3.547      -2.069\n",
       "x253          -0.8931      0.682     -1.309      0.191      -2.230       0.444\n",
       "x254           3.1275      0.728      4.298      0.000       1.701       4.554\n",
       "x255           0.4706      0.699      0.674      0.501      -0.899       1.840\n",
       "x256           0.1532      0.630      0.243      0.808      -1.082       1.388\n",
       "x257           1.4809      1.067      1.388      0.165      -0.611       3.573\n",
       "x258           0.0990      0.592      0.167      0.867      -1.062       1.261\n",
       "x259           2.2746      0.670      3.393      0.001       0.961       3.589\n",
       "x260           0.3246      0.696      0.467      0.641      -1.039       1.688\n",
       "x261           3.7692      1.110      3.395      0.001       1.593       5.946\n",
       "x262          -0.6006      1.485     -0.404      0.686      -3.512       2.310\n",
       "x263          -0.8641      1.536     -0.563      0.574      -3.875       2.147\n",
       "x264           2.9721      0.946      3.140      0.002       1.117       4.827\n",
       "x265          -1.1126      0.661     -1.683      0.092      -2.408       0.183\n",
       "x266           4.2801      0.782      5.471      0.000       2.746       5.814\n",
       "x267          -1.0698      0.644     -1.660      0.097      -2.333       0.193\n",
       "x268          -0.9762      0.982     -0.994      0.320      -2.902       0.949\n",
       "x269           1.2378      0.713      1.737      0.082      -0.159       2.635\n",
       "x270          -1.0002      0.669     -1.495      0.135      -2.312       0.311\n",
       "x271          -0.7710      0.682     -1.131      0.258      -2.107       0.565\n",
       "x272           0.8320      0.725      1.147      0.251      -0.590       2.254\n",
       "x273           0.1555      0.759      0.205      0.838      -1.333       1.644\n",
       "x274          -0.0688      0.794     -0.087      0.931      -1.625       1.488\n",
       "x275           1.4178      0.741      1.913      0.056      -0.035       2.871\n",
       "x276          -0.3049      0.756     -0.403      0.687      -1.787       1.177\n",
       "x277          -0.6115      0.595     -1.027      0.304      -1.778       0.555\n",
       "x278          -1.0351      0.673     -1.539      0.124      -2.354       0.284\n",
       "x279          -1.1243      0.822     -1.368      0.171      -2.735       0.486\n",
       "x280           2.2288      0.605      3.683      0.000       1.042       3.415\n",
       "x281           2.0701      0.740      2.798      0.005       0.619       3.521\n",
       "x282          -0.0360      0.752     -0.048      0.962      -1.510       1.438\n",
       "x283          -1.3329      0.911     -1.463      0.143      -3.119       0.453\n",
       "x284           1.0769      0.714      1.507      0.132      -0.324       2.478\n",
       "x285          -0.0001      0.691     -0.000      1.000      -1.354       1.354\n",
       "x286          -1.4902      0.673     -2.213      0.027      -2.810      -0.170\n",
       "x287           0.1109      0.972      0.114      0.909      -1.794       2.016\n",
       "x288          -2.3419      0.702     -3.335      0.001      -3.719      -0.965\n",
       "x289           1.1192      0.709      1.579      0.114      -0.270       2.509\n",
       "x290          -1.3968      1.265     -1.105      0.269      -3.876       1.082\n",
       "x291          -1.8828      1.350     -1.394      0.163      -4.530       0.765\n",
       "x292           0.2063      0.750      0.275      0.783      -1.264       1.676\n",
       "x293          -0.4514      0.598     -0.755      0.450      -1.623       0.720\n",
       "x294          -0.2810      0.610     -0.461      0.645      -1.476       0.914\n",
       "x295           1.7220      0.659      2.611      0.009       0.429       3.015\n",
       "x296           1.4056      0.598      2.350      0.019       0.233       2.578\n",
       "x297           2.4860      0.633      3.928      0.000       1.245       3.727\n",
       "x298          -0.5208      1.133     -0.460      0.646      -2.742       1.700\n",
       "x299           3.3908      0.661      5.126      0.000       2.094       4.688\n",
       "x300          -1.7682      0.673     -2.627      0.009      -3.088      -0.449\n",
       "x301          -0.3241      0.687     -0.472      0.637      -1.671       1.023\n",
       "x302          -0.6331      0.655     -0.967      0.334      -1.917       0.651\n",
       "x303           1.6348      0.664      2.462      0.014       0.333       2.936\n",
       "x304          -1.1620      0.624     -1.862      0.063      -2.385       0.061\n",
       "x305           0.5181      0.951      0.545      0.586      -1.346       2.382\n",
       "x306          -1.6079      0.895     -1.797      0.072      -3.362       0.146\n",
       "==============================================================================\n",
       "Omnibus:                      535.404   Durbin-Watson:                   1.969\n",
       "Prob(Omnibus):                  0.000   Jarque-Bera (JB):             1186.496\n",
       "Skew:                           0.590   Prob(JB):                    2.27e-258\n",
       "Kurtosis:                       4.907   Cond. No.                     3.66e+16\n",
       "==============================================================================\n",
       "\n",
       "Warnings:\n",
       "[1] Standard Errors assume that the covariance matrix of the errors is correctly specified.\n",
       "[2] The smallest eigenvalue is 4.17e-29. This might indicate that there are\n",
       "strong multicollinearity problems or that the design matrix is singular.\n",
       "\"\"\""
      ]
     },
     "execution_count": 52,
     "metadata": {},
     "output_type": "execute_result"
    }
   ],
   "source": [
    "model = sm.OLS(y_train, sm.add_constant(X_train_trans))\n",
    "fit = model.fit()\n",
    "fit.summary()"
   ]
  },
  {
   "cell_type": "markdown",
   "metadata": {},
   "source": [
    "## Random Forest"
   ]
  },
  {
   "cell_type": "code",
   "execution_count": 53,
   "metadata": {
    "ExecuteTime": {
     "end_time": "2019-02-18T02:46:13.138008Z",
     "start_time": "2019-02-18T02:45:46.436194Z"
    }
   },
   "outputs": [
    {
     "name": "stdout",
     "output_type": "stream",
     "text": [
      "MSE train: 208.551, test: 1481.984\n",
      "R^2 train: 0.953, test: 0.676\n"
     ]
    }
   ],
   "source": [
    "rf = RandomForestRegressor(n_estimators=500, \n",
    "                               criterion='mse', \n",
    "                               random_state=42, \n",
    "                               n_jobs=-1)\n",
    "rf.fit(X_train_trans, y_train)\n",
    "y_train_pred = rf.predict(X_train_trans)\n",
    "y_test_pred = rf.predict(X_test_trans)\n",
    "\n",
    "print('MSE train: %.3f, test: %.3f' % (\n",
    "        mean_squared_error(y_train, y_train_pred),\n",
    "        mean_squared_error(y_test, y_test_pred)))\n",
    "print('R^2 train: %.3f, test: %.3f' % (\n",
    "        r2_score(y_train, y_train_pred),\n",
    "        r2_score(y_test, y_test_pred)))"
   ]
  },
  {
   "cell_type": "markdown",
   "metadata": {},
   "source": [
    "## Feature Selection"
   ]
  },
  {
   "cell_type": "code",
   "execution_count": 54,
   "metadata": {
    "ExecuteTime": {
     "end_time": "2019-02-18T02:46:13.354388Z",
     "start_time": "2019-02-18T02:46:13.141185Z"
    }
   },
   "outputs": [
    {
     "data": {
      "text/plain": [
       "[['bedrooms', 0.2554848124853813],\n",
       " ['room_type_Entire home/apt', 0.09454177752765902],\n",
       " ['accommodates', 0.09007804178422553],\n",
       " ['cleaning_fee', 0.06100971387220935],\n",
       " ['city_Oakland', 0.04523190708317474]]"
      ]
     },
     "metadata": {},
     "output_type": "display_data"
    }
   ],
   "source": [
    "# Sorted feature by importance\n",
    "\n",
    "feature_labels = X.columns\n",
    "feature_tuples = zip (feature_labels, rf.feature_importances_)\n",
    "feature_lists = [list(feature_tuple) for feature_tuple in feature_tuples]\n",
    "\n",
    "feature_lists.sort(key=lambda x: abs(x[1]), reverse=True)\n",
    "\n",
    "display (feature_lists[0:5])"
   ]
  },
  {
   "cell_type": "code",
   "execution_count": 55,
   "metadata": {
    "ExecuteTime": {
     "end_time": "2019-02-18T02:46:13.363030Z",
     "start_time": "2019-02-18T02:46:13.357401Z"
    }
   },
   "outputs": [
    {
     "name": "stdout",
     "output_type": "stream",
     "text": [
      "Number of features kept:  110\n"
     ]
    }
   ],
   "source": [
    "# Kept features that are above 0.001 thresold\n",
    "\n",
    "features_selected = [feature for feature, importance in feature_lists\n",
    "                    if importance >= 0.001]\n",
    "\n",
    "nums_features_selected = len(features_selected)\n",
    "\n",
    "print ('Number of features kept: ', nums_features_selected)"
   ]
  },
  {
   "cell_type": "markdown",
   "metadata": {},
   "source": [
    "## Model with Selected Features"
   ]
  },
  {
   "cell_type": "code",
   "execution_count": 56,
   "metadata": {
    "ExecuteTime": {
     "end_time": "2019-02-18T02:46:13.376165Z",
     "start_time": "2019-02-18T02:46:13.366563Z"
    }
   },
   "outputs": [],
   "source": [
    "# Performed another model(Random Forest) based on selected features\n",
    "\n",
    "X_updated = df_model[features_selected]\n",
    "y_updated = df_model['price']"
   ]
  },
  {
   "cell_type": "code",
   "execution_count": 57,
   "metadata": {
    "ExecuteTime": {
     "end_time": "2019-02-18T02:46:13.400690Z",
     "start_time": "2019-02-18T02:46:13.380857Z"
    }
   },
   "outputs": [],
   "source": [
    "X_updated_train, X_updated_test, y_updated_train, y_updated_test = train_test_split(\n",
    "    X_updated, y_updated, test_size =0.3, random_state=42)"
   ]
  },
  {
   "cell_type": "code",
   "execution_count": 58,
   "metadata": {
    "ExecuteTime": {
     "end_time": "2019-02-18T02:46:13.430635Z",
     "start_time": "2019-02-18T02:46:13.403639Z"
    }
   },
   "outputs": [],
   "source": [
    "ssX2 = StandardScaler()\n",
    "X_updated_train_trans = ssX2.fit_transform(X_updated_train)\n",
    "X_updated_test_trans = ssX2.transform (X_updated_test)"
   ]
  },
  {
   "cell_type": "code",
   "execution_count": 59,
   "metadata": {
    "ExecuteTime": {
     "end_time": "2019-02-18T02:46:31.604195Z",
     "start_time": "2019-02-18T02:46:13.433628Z"
    }
   },
   "outputs": [
    {
     "name": "stdout",
     "output_type": "stream",
     "text": [
      "MSE train: 208.662, test: 1476.641\n",
      "R^2 train: 0.953, test: 0.678\n"
     ]
    }
   ],
   "source": [
    "rf_updated = RandomForestRegressor(n_estimators=500, \n",
    "                                   criterion='mse', \n",
    "                                   random_state=3, \n",
    "                                   n_jobs=-1)\n",
    "rf_updated.fit(X_updated_train_trans, y_updated_train)\n",
    "y_updated_train_pred = rf_updated.predict(X_updated_train_trans)\n",
    "y_updated_test_pred = rf_updated.predict(X_updated_test_trans)\n",
    "\n",
    "print('MSE train: %.3f, test: %.3f' % (\n",
    "        mean_squared_error(y_updated_train, y_updated_train_pred),\n",
    "        mean_squared_error(y_updated_test, y_updated_test_pred)))\n",
    "print('R^2 train: %.3f, test: %.3f' % (\n",
    "        r2_score(y_updated_train, y_updated_train_pred),\n",
    "        r2_score(y_updated_test, y_updated_test_pred)))"
   ]
  },
  {
   "cell_type": "markdown",
   "metadata": {
    "ExecuteTime": {
     "end_time": "2019-02-17T07:34:35.723451Z",
     "start_time": "2019-02-17T07:34:35.720778Z"
    }
   },
   "source": [
    "# Data Storage"
   ]
  },
  {
   "cell_type": "code",
   "execution_count": 60,
   "metadata": {
    "ExecuteTime": {
     "end_time": "2019-02-18T02:46:31.713049Z",
     "start_time": "2019-02-18T02:46:31.608232Z"
    }
   },
   "outputs": [
    {
     "data": {
      "text/html": [
       "<div>\n",
       "<style scoped>\n",
       "    .dataframe tbody tr th:only-of-type {\n",
       "        vertical-align: middle;\n",
       "    }\n",
       "\n",
       "    .dataframe tbody tr th {\n",
       "        vertical-align: top;\n",
       "    }\n",
       "\n",
       "    .dataframe thead th {\n",
       "        text-align: right;\n",
       "    }\n",
       "</style>\n",
       "<table border=\"1\" class=\"dataframe\">\n",
       "  <thead>\n",
       "    <tr style=\"text-align: right;\">\n",
       "      <th></th>\n",
       "      <th></th>\n",
       "      <th>id</th>\n",
       "      <th>bedrooms</th>\n",
       "      <th>room_type_Entire home/apt</th>\n",
       "      <th>accommodates</th>\n",
       "      <th>cleaning_fee</th>\n",
       "      <th>city_Oakland</th>\n",
       "      <th>city_San Francisco</th>\n",
       "      <th>reviews_per_month</th>\n",
       "      <th>host_listings_count</th>\n",
       "      <th>number_of_reviews</th>\n",
       "      <th>...</th>\n",
       "      <th>amenities_Cooking basics</th>\n",
       "      <th>property_type_Serviced apartment</th>\n",
       "      <th>property_type_Other</th>\n",
       "      <th>amenities_Microwave</th>\n",
       "      <th>amenities_Hangers</th>\n",
       "      <th>neighbourhood_cleansed_Potrero Hill</th>\n",
       "      <th>amenities_Oven</th>\n",
       "      <th>neighbourhood_cleansed_Bernal Heights</th>\n",
       "      <th>property_type_Loft</th>\n",
       "      <th>neighbourhood_cleansed_Russian Hill</th>\n",
       "    </tr>\n",
       "  </thead>\n",
       "  <tbody>\n",
       "    <tr>\n",
       "      <th rowspan=\"5\" valign=\"top\">sf</th>\n",
       "      <th>0</th>\n",
       "      <td>958</td>\n",
       "      <td>1.0</td>\n",
       "      <td>1</td>\n",
       "      <td>3</td>\n",
       "      <td>100.0</td>\n",
       "      <td>0</td>\n",
       "      <td>1</td>\n",
       "      <td>1.38</td>\n",
       "      <td>1</td>\n",
       "      <td>152</td>\n",
       "      <td>...</td>\n",
       "      <td>0</td>\n",
       "      <td>0</td>\n",
       "      <td>0</td>\n",
       "      <td>0</td>\n",
       "      <td>1</td>\n",
       "      <td>0</td>\n",
       "      <td>0</td>\n",
       "      <td>0</td>\n",
       "      <td>0</td>\n",
       "      <td>0</td>\n",
       "    </tr>\n",
       "    <tr>\n",
       "      <th>1</th>\n",
       "      <td>5858</td>\n",
       "      <td>2.0</td>\n",
       "      <td>1</td>\n",
       "      <td>5</td>\n",
       "      <td>100.0</td>\n",
       "      <td>0</td>\n",
       "      <td>1</td>\n",
       "      <td>0.99</td>\n",
       "      <td>2</td>\n",
       "      <td>112</td>\n",
       "      <td>...</td>\n",
       "      <td>0</td>\n",
       "      <td>0</td>\n",
       "      <td>0</td>\n",
       "      <td>0</td>\n",
       "      <td>1</td>\n",
       "      <td>0</td>\n",
       "      <td>0</td>\n",
       "      <td>1</td>\n",
       "      <td>0</td>\n",
       "      <td>0</td>\n",
       "    </tr>\n",
       "    <tr>\n",
       "      <th>2</th>\n",
       "      <td>7918</td>\n",
       "      <td>1.0</td>\n",
       "      <td>0</td>\n",
       "      <td>2</td>\n",
       "      <td>50.0</td>\n",
       "      <td>0</td>\n",
       "      <td>1</td>\n",
       "      <td>0.16</td>\n",
       "      <td>10</td>\n",
       "      <td>17</td>\n",
       "      <td>...</td>\n",
       "      <td>0</td>\n",
       "      <td>0</td>\n",
       "      <td>0</td>\n",
       "      <td>0</td>\n",
       "      <td>1</td>\n",
       "      <td>0</td>\n",
       "      <td>0</td>\n",
       "      <td>0</td>\n",
       "      <td>0</td>\n",
       "      <td>0</td>\n",
       "    </tr>\n",
       "    <tr>\n",
       "      <th>3</th>\n",
       "      <td>8142</td>\n",
       "      <td>1.0</td>\n",
       "      <td>0</td>\n",
       "      <td>2</td>\n",
       "      <td>50.0</td>\n",
       "      <td>0</td>\n",
       "      <td>1</td>\n",
       "      <td>0.15</td>\n",
       "      <td>10</td>\n",
       "      <td>7</td>\n",
       "      <td>...</td>\n",
       "      <td>0</td>\n",
       "      <td>0</td>\n",
       "      <td>0</td>\n",
       "      <td>0</td>\n",
       "      <td>0</td>\n",
       "      <td>0</td>\n",
       "      <td>0</td>\n",
       "      <td>0</td>\n",
       "      <td>0</td>\n",
       "      <td>0</td>\n",
       "    </tr>\n",
       "    <tr>\n",
       "      <th>5</th>\n",
       "      <td>8567</td>\n",
       "      <td>2.0</td>\n",
       "      <td>1</td>\n",
       "      <td>6</td>\n",
       "      <td>125.0</td>\n",
       "      <td>0</td>\n",
       "      <td>1</td>\n",
       "      <td>0.27</td>\n",
       "      <td>1</td>\n",
       "      <td>30</td>\n",
       "      <td>...</td>\n",
       "      <td>1</td>\n",
       "      <td>0</td>\n",
       "      <td>0</td>\n",
       "      <td>1</td>\n",
       "      <td>0</td>\n",
       "      <td>0</td>\n",
       "      <td>1</td>\n",
       "      <td>0</td>\n",
       "      <td>0</td>\n",
       "      <td>0</td>\n",
       "    </tr>\n",
       "  </tbody>\n",
       "</table>\n",
       "<p>5 rows × 111 columns</p>\n",
       "</div>"
      ],
      "text/plain": [
       "        id  bedrooms  room_type_Entire home/apt  accommodates  cleaning_fee  \\\n",
       "sf 0   958       1.0                          1             3         100.0   \n",
       "   1  5858       2.0                          1             5         100.0   \n",
       "   2  7918       1.0                          0             2          50.0   \n",
       "   3  8142       1.0                          0             2          50.0   \n",
       "   5  8567       2.0                          1             6         125.0   \n",
       "\n",
       "      city_Oakland  city_San Francisco  reviews_per_month  \\\n",
       "sf 0             0                   1               1.38   \n",
       "   1             0                   1               0.99   \n",
       "   2             0                   1               0.16   \n",
       "   3             0                   1               0.15   \n",
       "   5             0                   1               0.27   \n",
       "\n",
       "      host_listings_count  number_of_reviews  \\\n",
       "sf 0                    1                152   \n",
       "   1                    2                112   \n",
       "   2                   10                 17   \n",
       "   3                   10                  7   \n",
       "   5                    1                 30   \n",
       "\n",
       "                     ...                   amenities_Cooking basics  \\\n",
       "sf 0                 ...                                          0   \n",
       "   1                 ...                                          0   \n",
       "   2                 ...                                          0   \n",
       "   3                 ...                                          0   \n",
       "   5                 ...                                          1   \n",
       "\n",
       "      property_type_Serviced apartment  property_type_Other  \\\n",
       "sf 0                                 0                    0   \n",
       "   1                                 0                    0   \n",
       "   2                                 0                    0   \n",
       "   3                                 0                    0   \n",
       "   5                                 0                    0   \n",
       "\n",
       "      amenities_Microwave  amenities_Hangers  \\\n",
       "sf 0                    0                  1   \n",
       "   1                    0                  1   \n",
       "   2                    0                  1   \n",
       "   3                    0                  0   \n",
       "   5                    1                  0   \n",
       "\n",
       "      neighbourhood_cleansed_Potrero Hill  amenities_Oven  \\\n",
       "sf 0                                    0               0   \n",
       "   1                                    0               0   \n",
       "   2                                    0               0   \n",
       "   3                                    0               0   \n",
       "   5                                    0               1   \n",
       "\n",
       "      neighbourhood_cleansed_Bernal Heights  property_type_Loft  \\\n",
       "sf 0                                      0                   0   \n",
       "   1                                      1                   0   \n",
       "   2                                      0                   0   \n",
       "   3                                      0                   0   \n",
       "   5                                      0                   0   \n",
       "\n",
       "      neighbourhood_cleansed_Russian Hill  \n",
       "sf 0                                    0  \n",
       "   1                                    0  \n",
       "   2                                    0  \n",
       "   3                                    0  \n",
       "   5                                    0  \n",
       "\n",
       "[5 rows x 111 columns]"
      ]
     },
     "execution_count": 60,
     "metadata": {},
     "output_type": "execute_result"
    }
   ],
   "source": [
    "# Kept 'id', and all selected features\n",
    "\n",
    "columns = ['id'] + features_selected\n",
    "df_important_features = df_model[columns]\n",
    "df_important_features.head()"
   ]
  },
  {
   "cell_type": "code",
   "execution_count": 61,
   "metadata": {
    "ExecuteTime": {
     "end_time": "2019-02-18T02:46:32.467019Z",
     "start_time": "2019-02-18T02:46:31.724480Z"
    }
   },
   "outputs": [
    {
     "name": "stdout",
     "output_type": "stream",
     "text": [
      "df_listings_selected_features dimensions:  (8092, 113)\n"
     ]
    },
    {
     "data": {
      "text/html": [
       "<div>\n",
       "<style scoped>\n",
       "    .dataframe tbody tr th:only-of-type {\n",
       "        vertical-align: middle;\n",
       "    }\n",
       "\n",
       "    .dataframe tbody tr th {\n",
       "        vertical-align: top;\n",
       "    }\n",
       "\n",
       "    .dataframe thead th {\n",
       "        text-align: right;\n",
       "    }\n",
       "</style>\n",
       "<table border=\"1\" class=\"dataframe\">\n",
       "  <thead>\n",
       "    <tr style=\"text-align: right;\">\n",
       "      <th></th>\n",
       "      <th>id</th>\n",
       "      <th>bedrooms</th>\n",
       "      <th>room_type_Entire home/apt</th>\n",
       "      <th>accommodates</th>\n",
       "      <th>cleaning_fee</th>\n",
       "      <th>city_Oakland</th>\n",
       "      <th>city_San Francisco</th>\n",
       "      <th>reviews_per_month</th>\n",
       "      <th>host_listings_count</th>\n",
       "      <th>number_of_reviews</th>\n",
       "      <th>...</th>\n",
       "      <th>property_type_Other</th>\n",
       "      <th>amenities_Microwave</th>\n",
       "      <th>amenities_Hangers</th>\n",
       "      <th>neighbourhood_cleansed_Potrero Hill</th>\n",
       "      <th>amenities_Oven</th>\n",
       "      <th>neighbourhood_cleansed_Bernal Heights</th>\n",
       "      <th>property_type_Loft</th>\n",
       "      <th>neighbourhood_cleansed_Russian Hill</th>\n",
       "      <th>ref_district</th>\n",
       "      <th>ref_jurisdiction</th>\n",
       "    </tr>\n",
       "  </thead>\n",
       "  <tbody>\n",
       "    <tr>\n",
       "      <th>0</th>\n",
       "      <td>958</td>\n",
       "      <td>1.0</td>\n",
       "      <td>1</td>\n",
       "      <td>3</td>\n",
       "      <td>100.0</td>\n",
       "      <td>0</td>\n",
       "      <td>1</td>\n",
       "      <td>1.38</td>\n",
       "      <td>1</td>\n",
       "      <td>152</td>\n",
       "      <td>...</td>\n",
       "      <td>0</td>\n",
       "      <td>0</td>\n",
       "      <td>1</td>\n",
       "      <td>0</td>\n",
       "      <td>0</td>\n",
       "      <td>0</td>\n",
       "      <td>0</td>\n",
       "      <td>0</td>\n",
       "      <td>San Francisco</td>\n",
       "      <td>SAN FRANCISCO</td>\n",
       "    </tr>\n",
       "    <tr>\n",
       "      <th>1</th>\n",
       "      <td>5858</td>\n",
       "      <td>2.0</td>\n",
       "      <td>1</td>\n",
       "      <td>5</td>\n",
       "      <td>100.0</td>\n",
       "      <td>0</td>\n",
       "      <td>1</td>\n",
       "      <td>0.99</td>\n",
       "      <td>2</td>\n",
       "      <td>112</td>\n",
       "      <td>...</td>\n",
       "      <td>0</td>\n",
       "      <td>0</td>\n",
       "      <td>1</td>\n",
       "      <td>0</td>\n",
       "      <td>0</td>\n",
       "      <td>1</td>\n",
       "      <td>0</td>\n",
       "      <td>0</td>\n",
       "      <td>San Francisco</td>\n",
       "      <td>SAN FRANCISCO</td>\n",
       "    </tr>\n",
       "    <tr>\n",
       "      <th>2</th>\n",
       "      <td>7918</td>\n",
       "      <td>1.0</td>\n",
       "      <td>0</td>\n",
       "      <td>2</td>\n",
       "      <td>50.0</td>\n",
       "      <td>0</td>\n",
       "      <td>1</td>\n",
       "      <td>0.16</td>\n",
       "      <td>10</td>\n",
       "      <td>17</td>\n",
       "      <td>...</td>\n",
       "      <td>0</td>\n",
       "      <td>0</td>\n",
       "      <td>1</td>\n",
       "      <td>0</td>\n",
       "      <td>0</td>\n",
       "      <td>0</td>\n",
       "      <td>0</td>\n",
       "      <td>0</td>\n",
       "      <td>San Francisco</td>\n",
       "      <td>SAN FRANCISCO</td>\n",
       "    </tr>\n",
       "    <tr>\n",
       "      <th>3</th>\n",
       "      <td>8142</td>\n",
       "      <td>1.0</td>\n",
       "      <td>0</td>\n",
       "      <td>2</td>\n",
       "      <td>50.0</td>\n",
       "      <td>0</td>\n",
       "      <td>1</td>\n",
       "      <td>0.15</td>\n",
       "      <td>10</td>\n",
       "      <td>7</td>\n",
       "      <td>...</td>\n",
       "      <td>0</td>\n",
       "      <td>0</td>\n",
       "      <td>0</td>\n",
       "      <td>0</td>\n",
       "      <td>0</td>\n",
       "      <td>0</td>\n",
       "      <td>0</td>\n",
       "      <td>0</td>\n",
       "      <td>San Francisco</td>\n",
       "      <td>SAN FRANCISCO</td>\n",
       "    </tr>\n",
       "    <tr>\n",
       "      <th>4</th>\n",
       "      <td>8567</td>\n",
       "      <td>2.0</td>\n",
       "      <td>1</td>\n",
       "      <td>6</td>\n",
       "      <td>125.0</td>\n",
       "      <td>0</td>\n",
       "      <td>1</td>\n",
       "      <td>0.27</td>\n",
       "      <td>1</td>\n",
       "      <td>30</td>\n",
       "      <td>...</td>\n",
       "      <td>0</td>\n",
       "      <td>1</td>\n",
       "      <td>0</td>\n",
       "      <td>0</td>\n",
       "      <td>1</td>\n",
       "      <td>0</td>\n",
       "      <td>0</td>\n",
       "      <td>0</td>\n",
       "      <td>San Francisco</td>\n",
       "      <td>SAN FRANCISCO</td>\n",
       "    </tr>\n",
       "  </tbody>\n",
       "</table>\n",
       "<p>5 rows × 113 columns</p>\n",
       "</div>"
      ],
      "text/plain": [
       "     id  bedrooms  room_type_Entire home/apt  accommodates  cleaning_fee  \\\n",
       "0   958       1.0                          1             3         100.0   \n",
       "1  5858       2.0                          1             5         100.0   \n",
       "2  7918       1.0                          0             2          50.0   \n",
       "3  8142       1.0                          0             2          50.0   \n",
       "4  8567       2.0                          1             6         125.0   \n",
       "\n",
       "   city_Oakland  city_San Francisco  reviews_per_month  host_listings_count  \\\n",
       "0             0                   1               1.38                    1   \n",
       "1             0                   1               0.99                    2   \n",
       "2             0                   1               0.16                   10   \n",
       "3             0                   1               0.15                   10   \n",
       "4             0                   1               0.27                    1   \n",
       "\n",
       "   number_of_reviews        ...         property_type_Other  \\\n",
       "0                152        ...                           0   \n",
       "1                112        ...                           0   \n",
       "2                 17        ...                           0   \n",
       "3                  7        ...                           0   \n",
       "4                 30        ...                           0   \n",
       "\n",
       "   amenities_Microwave  amenities_Hangers  \\\n",
       "0                    0                  1   \n",
       "1                    0                  1   \n",
       "2                    0                  1   \n",
       "3                    0                  0   \n",
       "4                    1                  0   \n",
       "\n",
       "   neighbourhood_cleansed_Potrero Hill  amenities_Oven  \\\n",
       "0                                    0               0   \n",
       "1                                    0               0   \n",
       "2                                    0               0   \n",
       "3                                    0               0   \n",
       "4                                    0               1   \n",
       "\n",
       "   neighbourhood_cleansed_Bernal Heights  property_type_Loft  \\\n",
       "0                                      0                   0   \n",
       "1                                      1                   0   \n",
       "2                                      0                   0   \n",
       "3                                      0                   0   \n",
       "4                                      0                   0   \n",
       "\n",
       "   neighbourhood_cleansed_Russian Hill   ref_district  ref_jurisdiction  \n",
       "0                                    0  San Francisco     SAN FRANCISCO  \n",
       "1                                    0  San Francisco     SAN FRANCISCO  \n",
       "2                                    0  San Francisco     SAN FRANCISCO  \n",
       "3                                    0  San Francisco     SAN FRANCISCO  \n",
       "4                                    0  San Francisco     SAN FRANCISCO  \n",
       "\n",
       "[5 rows x 113 columns]"
      ]
     },
     "metadata": {},
     "output_type": "display_data"
    }
   ],
   "source": [
    "# Added District and jurisdiction informaiton for future use\n",
    "\n",
    "df_listings_selected_features = pd.merge(left=df_important_features, \n",
    "                                    right=df_district, \n",
    "                                    how ='left', \n",
    "                                    left_on='id',\n",
    "                                    right_on='id')\n",
    "\n",
    "\n",
    "df_listings_selected_features = pd.merge(left=df_listings_selected_features, \n",
    "                                    right=df_jurisdiction, \n",
    "                                    how ='left', \n",
    "                                    left_on='id',\n",
    "                                    right_on='id')\n",
    "\n",
    "\n",
    "# Renamed columns used for furture reference\n",
    "\n",
    "df_listings_selected_features.rename(columns={'district':'ref_district',\n",
    "                                             'jurisdiction_names': 'ref_jurisdiction'},\n",
    "                                     inplace=True)\n",
    "\n",
    "print('df_listings_selected_features dimensions: ', \n",
    "       df_listings_selected_features.shape)\n",
    "display(df_listings_selected_features.head())"
   ]
  },
  {
   "cell_type": "code",
   "execution_count": 62,
   "metadata": {
    "ExecuteTime": {
     "end_time": "2019-02-18T02:46:32.499661Z",
     "start_time": "2019-02-18T02:46:32.487516Z"
    }
   },
   "outputs": [],
   "source": [
    "# Checked for null values before data storage\n",
    "\n",
    "# df_listings_selected_features.isnull().sum()"
   ]
  },
  {
   "cell_type": "code",
   "execution_count": 63,
   "metadata": {
    "ExecuteTime": {
     "end_time": "2019-02-18T02:46:32.549716Z",
     "start_time": "2019-02-18T02:46:32.502892Z"
    }
   },
   "outputs": [],
   "source": [
    "# Stored data post feature selection\n",
    "\n",
    "pkl_file = '/Users/xzhou/github/project_archives/files_airbnb/{}.pkl'\n",
    "\n",
    "pkl_path = pkl_file.format('df_listings_selected_features')\n",
    "\n",
    "df_listings_selected_features.to_pickle(pkl_path)"
   ]
  }
 ],
 "metadata": {
  "kernelspec": {
   "display_name": "Python 3",
   "language": "python",
   "name": "python3"
  },
  "language_info": {
   "codemirror_mode": {
    "name": "ipython",
    "version": 3
   },
   "file_extension": ".py",
   "mimetype": "text/x-python",
   "name": "python",
   "nbconvert_exporter": "python",
   "pygments_lexer": "ipython3",
   "version": "3.6.6"
  },
  "toc": {
   "base_numbering": 1,
   "nav_menu": {},
   "number_sections": true,
   "sideBar": true,
   "skip_h1_title": false,
   "title_cell": "Table of Contents",
   "title_sidebar": "Contents",
   "toc_cell": false,
   "toc_position": {
    "height": "946px",
    "left": "568px",
    "top": "199px",
    "width": "386px"
   },
   "toc_section_display": true,
   "toc_window_display": true
  },
  "varInspector": {
   "cols": {
    "lenName": 16,
    "lenType": 16,
    "lenVar": 40
   },
   "kernels_config": {
    "python": {
     "delete_cmd_postfix": "",
     "delete_cmd_prefix": "del ",
     "library": "var_list.py",
     "varRefreshCmd": "print(var_dic_list())"
    },
    "r": {
     "delete_cmd_postfix": ") ",
     "delete_cmd_prefix": "rm(",
     "library": "var_list.r",
     "varRefreshCmd": "cat(var_dic_list()) "
    }
   },
   "types_to_exclude": [
    "module",
    "function",
    "builtin_function_or_method",
    "instance",
    "_Feature"
   ],
   "window_display": false
  }
 },
 "nbformat": 4,
 "nbformat_minor": 2
}
