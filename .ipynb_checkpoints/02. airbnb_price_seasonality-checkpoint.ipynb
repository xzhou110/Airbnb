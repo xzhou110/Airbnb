{
 "cells": [
  {
   "cell_type": "markdown",
   "metadata": {},
   "source": [
    "# Data Retrieval"
   ]
  },
  {
   "cell_type": "code",
   "execution_count": 1,
   "metadata": {
    "ExecuteTime": {
     "end_time": "2019-02-17T20:52:02.052200Z",
     "start_time": "2019-02-17T20:52:00.088138Z"
    }
   },
   "outputs": [],
   "source": [
    "import pandas as pd\n",
    "import csv\n",
    "import re\n",
    "import statsmodels.api as sm\n",
    "from datetime import datetime\n",
    "import matplotlib.pyplot as plt\n",
    "import numpy as np\n",
    "\n",
    "from sklearn import datasets, linear_model\n",
    "from sklearn.metrics import mean_squared_error, r2_score\n",
    "from sklearn.preprocessing import StandardScaler\n",
    "from sklearn.model_selection import train_test_split, GroupShuffleSplit\n",
    "from sklearn.ensemble import RandomForestRegressor"
   ]
  },
  {
   "cell_type": "code",
   "execution_count": 2,
   "metadata": {
    "ExecuteTime": {
     "end_time": "2019-02-17T20:52:02.113651Z",
     "start_time": "2019-02-17T20:52:02.110067Z"
    }
   },
   "outputs": [],
   "source": [
    "# File path for cities: San Francisco(sf), \n",
    "# Okaland(ok), Santa Clara(sc), Santa Cruze(scz)\n",
    "\n",
    "file_url = '/Users/xzhou/github/project_archives/files_airbnb/{}/calendar.csv'\n",
    "\n",
    "sf_file = file_url.format('sf_airbnb')\n",
    "ok_file = file_url.format('ok_airbnb')\n",
    "sc_file = file_url.format('sc_airbnb')\n",
    "scz_file = file_url.format('scz_airbnb')"
   ]
  },
  {
   "cell_type": "code",
   "execution_count": 3,
   "metadata": {
    "ExecuteTime": {
     "end_time": "2019-02-17T20:52:30.501035Z",
     "start_time": "2019-02-17T20:52:24.463816Z"
    }
   },
   "outputs": [
    {
     "name": "stdout",
     "output_type": "stream",
     "text": [
      "(2420680, 4) (1057770, 4) (2068820, 4) (573050, 4)\n"
     ]
    }
   ],
   "source": [
    "# Loaded price by date information for each city\n",
    "\n",
    "pricing_sf = pd.read_csv(sf_file, parse_dates=['date'])\n",
    "pricing_ok = pd.read_csv(ok_file, parse_dates=['date'])\n",
    "pricing_sc = pd.read_csv(sc_file, parse_dates=['date'])\n",
    "pricing_scz = pd.read_csv(scz_file, parse_dates=['date'])\n",
    "\n",
    "print(pricing_sf.shape, pricing_ok.shape, pricing_sc.shape, pricing_scz.shape)"
   ]
  },
  {
   "cell_type": "code",
   "execution_count": 4,
   "metadata": {
    "ExecuteTime": {
     "end_time": "2019-02-17T20:52:31.853523Z",
     "start_time": "2019-02-17T20:52:30.663263Z"
    }
   },
   "outputs": [
    {
     "data": {
      "text/html": [
       "<div>\n",
       "<style scoped>\n",
       "    .dataframe tbody tr th:only-of-type {\n",
       "        vertical-align: middle;\n",
       "    }\n",
       "\n",
       "    .dataframe tbody tr th {\n",
       "        vertical-align: top;\n",
       "    }\n",
       "\n",
       "    .dataframe thead th {\n",
       "        text-align: right;\n",
       "    }\n",
       "</style>\n",
       "<table border=\"1\" class=\"dataframe\">\n",
       "  <thead>\n",
       "    <tr style=\"text-align: right;\">\n",
       "      <th></th>\n",
       "      <th></th>\n",
       "      <th>listing_id</th>\n",
       "      <th>date</th>\n",
       "      <th>available</th>\n",
       "      <th>price</th>\n",
       "    </tr>\n",
       "  </thead>\n",
       "  <tbody>\n",
       "    <tr>\n",
       "      <th rowspan=\"10\" valign=\"top\">pricing_sf</th>\n",
       "      <th>0</th>\n",
       "      <td>958</td>\n",
       "      <td>2019-08-05</td>\n",
       "      <td>f</td>\n",
       "      <td>NaN</td>\n",
       "    </tr>\n",
       "    <tr>\n",
       "      <th>1</th>\n",
       "      <td>958</td>\n",
       "      <td>2019-08-04</td>\n",
       "      <td>f</td>\n",
       "      <td>NaN</td>\n",
       "    </tr>\n",
       "    <tr>\n",
       "      <th>2</th>\n",
       "      <td>958</td>\n",
       "      <td>2019-08-03</td>\n",
       "      <td>f</td>\n",
       "      <td>NaN</td>\n",
       "    </tr>\n",
       "    <tr>\n",
       "      <th>3</th>\n",
       "      <td>958</td>\n",
       "      <td>2019-08-02</td>\n",
       "      <td>f</td>\n",
       "      <td>NaN</td>\n",
       "    </tr>\n",
       "    <tr>\n",
       "      <th>4</th>\n",
       "      <td>958</td>\n",
       "      <td>2019-08-01</td>\n",
       "      <td>f</td>\n",
       "      <td>NaN</td>\n",
       "    </tr>\n",
       "    <tr>\n",
       "      <th>5</th>\n",
       "      <td>958</td>\n",
       "      <td>2019-07-31</td>\n",
       "      <td>f</td>\n",
       "      <td>NaN</td>\n",
       "    </tr>\n",
       "    <tr>\n",
       "      <th>6</th>\n",
       "      <td>958</td>\n",
       "      <td>2019-07-30</td>\n",
       "      <td>f</td>\n",
       "      <td>NaN</td>\n",
       "    </tr>\n",
       "    <tr>\n",
       "      <th>7</th>\n",
       "      <td>958</td>\n",
       "      <td>2019-07-29</td>\n",
       "      <td>f</td>\n",
       "      <td>NaN</td>\n",
       "    </tr>\n",
       "    <tr>\n",
       "      <th>8</th>\n",
       "      <td>958</td>\n",
       "      <td>2019-07-28</td>\n",
       "      <td>f</td>\n",
       "      <td>NaN</td>\n",
       "    </tr>\n",
       "    <tr>\n",
       "      <th>9</th>\n",
       "      <td>958</td>\n",
       "      <td>2019-07-27</td>\n",
       "      <td>f</td>\n",
       "      <td>NaN</td>\n",
       "    </tr>\n",
       "  </tbody>\n",
       "</table>\n",
       "</div>"
      ],
      "text/plain": [
       "              listing_id       date available price\n",
       "pricing_sf 0         958 2019-08-05         f   NaN\n",
       "           1         958 2019-08-04         f   NaN\n",
       "           2         958 2019-08-03         f   NaN\n",
       "           3         958 2019-08-02         f   NaN\n",
       "           4         958 2019-08-01         f   NaN\n",
       "           5         958 2019-07-31         f   NaN\n",
       "           6         958 2019-07-30         f   NaN\n",
       "           7         958 2019-07-29         f   NaN\n",
       "           8         958 2019-07-28         f   NaN\n",
       "           9         958 2019-07-27         f   NaN"
      ]
     },
     "execution_count": 4,
     "metadata": {},
     "output_type": "execute_result"
    }
   ],
   "source": [
    "# Concatenate four files into one\n",
    "# Created keys for each file for future references\n",
    "\n",
    "frames = [pricing_sf, pricing_ok, pricing_sc, pricing_scz]\n",
    "keys = ['pricing_sf', 'pricing_ok', 'pricing_sc', 'pricing_scz']\n",
    "\n",
    "df_pricing = pd.concat(frames, keys=keys)\n",
    "\n",
    "df_pricing.head(10)"
   ]
  },
  {
   "cell_type": "markdown",
   "metadata": {},
   "source": [
    "# Data Exploration"
   ]
  },
  {
   "cell_type": "markdown",
   "metadata": {
    "ExecuteTime": {
     "end_time": "2019-02-16T06:04:55.761610Z",
     "start_time": "2019-02-16T06:04:55.757951Z"
    }
   },
   "source": [
    "## Smaller Set of Data"
   ]
  },
  {
   "cell_type": "code",
   "execution_count": 5,
   "metadata": {
    "ExecuteTime": {
     "end_time": "2019-02-17T20:52:54.127557Z",
     "start_time": "2019-02-17T20:52:53.396877Z"
    }
   },
   "outputs": [
    {
     "name": "stdout",
     "output_type": "stream",
     "text": [
      "Dimension for df_pricing_smaller:  (2853357, 4)\n",
      "\n",
      "Number of Unique ids:  14770\n"
     ]
    }
   ],
   "source": [
    "# Filter to houses that are available and have listing prices\n",
    "\n",
    "df_pricing_smaller = df_pricing[df_pricing['available']=='t']\n",
    "df_pricing_smaller = df_pricing_smaller.copy()\n",
    "\n",
    "print('Dimension for df_pricing_smaller: ', df_pricing_smaller.shape)\n",
    "print ('\\nNumber of Unique ids: ', df_pricing_smaller.listing_id.nunique())"
   ]
  },
  {
   "cell_type": "code",
   "execution_count": 6,
   "metadata": {
    "ExecuteTime": {
     "end_time": "2019-02-17T20:52:56.603301Z",
     "start_time": "2019-02-17T20:52:56.597290Z"
    }
   },
   "outputs": [
    {
     "data": {
      "text/plain": [
       "Index(['listing_id', 'date', 'available', 'price'], dtype='object')"
      ]
     },
     "execution_count": 6,
     "metadata": {},
     "output_type": "execute_result"
    }
   ],
   "source": [
    "df_pricing_smaller.columns"
   ]
  },
  {
   "cell_type": "code",
   "execution_count": 7,
   "metadata": {
    "ExecuteTime": {
     "end_time": "2019-02-17T20:52:57.810554Z",
     "start_time": "2019-02-17T20:52:57.733500Z"
    }
   },
   "outputs": [
    {
     "data": {
      "text/plain": [
       "count                 2853357\n",
       "unique                    389\n",
       "top       2018-11-03 00:00:00\n",
       "freq                    10393\n",
       "first     2018-08-06 00:00:00\n",
       "last      2019-08-29 00:00:00\n",
       "Name: date, dtype: object"
      ]
     },
     "metadata": {},
     "output_type": "display_data"
    }
   ],
   "source": [
    "display( df_pricing_smaller.date.describe(include='all'))"
   ]
  },
  {
   "cell_type": "markdown",
   "metadata": {},
   "source": [
    "## Data Format"
   ]
  },
  {
   "cell_type": "code",
   "execution_count": 10,
   "metadata": {
    "ExecuteTime": {
     "end_time": "2019-02-17T20:55:08.423226Z",
     "start_time": "2019-02-17T20:55:08.418223Z"
    }
   },
   "outputs": [],
   "source": [
    "def apply2df(df, column_names, function):\n",
    "    \"\"\"\n",
    "    This enables various functions to be applied to multiple columns of dataframe.\n",
    "    Input: dataframe, columns to apply function to, function\n",
    "    Return: updated dataframe\n",
    "    \"\"\"\n",
    "    for column in column_names:\n",
    "        df[column] = df[column].apply(lambda x: function(x))\n",
    "    return df"
   ]
  },
  {
   "cell_type": "markdown",
   "metadata": {
    "ExecuteTime": {
     "end_time": "2019-02-17T20:54:05.091473Z",
     "start_time": "2019-02-17T20:54:05.088212Z"
    }
   },
   "source": [
    "### Currency"
   ]
  },
  {
   "cell_type": "code",
   "execution_count": 9,
   "metadata": {
    "ExecuteTime": {
     "end_time": "2019-02-17T20:54:24.155877Z",
     "start_time": "2019-02-17T20:54:24.152309Z"
    }
   },
   "outputs": [],
   "source": [
    "# Noted currencies are formated as strings and need to be converted to float\n",
    "\n",
    "def currency2float(string):\n",
    "    \"\"\"\n",
    "    Convert currency to float\n",
    "    \"\"\"\n",
    "    float_ = float(str(string).strip('$').replace(',',''))\n",
    "    return float_"
   ]
  },
  {
   "cell_type": "code",
   "execution_count": 11,
   "metadata": {
    "ExecuteTime": {
     "end_time": "2019-02-17T20:56:20.978117Z",
     "start_time": "2019-02-17T20:56:18.024900Z"
    }
   },
   "outputs": [],
   "source": [
    "# Converted price to float format\n",
    "\n",
    "curriencies = ['price']\n",
    "\n",
    "df_pricing_smaller = apply2df(df_pricing_smaller, curriencies, currency2float)"
   ]
  },
  {
   "cell_type": "markdown",
   "metadata": {},
   "source": [
    "### Outliers"
   ]
  },
  {
   "cell_type": "code",
   "execution_count": 13,
   "metadata": {
    "ExecuteTime": {
     "end_time": "2019-02-17T20:58:28.027270Z",
     "start_time": "2019-02-17T20:58:27.766032Z"
    }
   },
   "outputs": [
    {
     "data": {
      "text/plain": [
       "count    2.853357e+06\n",
       "mean     2.132333e+02\n",
       "std      7.035042e+02\n",
       "min      1.000000e+01\n",
       "5%       4.100000e+01\n",
       "10%      5.400000e+01\n",
       "25%      8.000000e+01\n",
       "50%      1.350000e+02\n",
       "75%      2.250000e+02\n",
       "90%      3.850000e+02\n",
       "95%      5.500000e+02\n",
       "max      1.024520e+05\n",
       "Name: price, dtype: float64"
      ]
     },
     "execution_count": 13,
     "metadata": {},
     "output_type": "execute_result"
    }
   ],
   "source": [
    "percentiles = [0.05, 0.10, 0.25, 0.50, 0.75, 0.90, 0.95]\n",
    "\n",
    "df_pricing_smaller.price.describe(percentiles=percentiles)"
   ]
  },
  {
   "cell_type": "code",
   "execution_count": 14,
   "metadata": {
    "ExecuteTime": {
     "end_time": "2019-02-17T20:59:24.577248Z",
     "start_time": "2019-02-17T20:59:24.340918Z"
    }
   },
   "outputs": [],
   "source": [
    "# Removed outliers based on 'price'. Use 5% and 95% percentiles as cutoff\n",
    "\n",
    "five_percentile = np.percentile(df_pricing_smaller.price, 5)\n",
    "ninety_five_percentile = np.percentile(df_pricing_smaller.price, 95)\n",
    "\n",
    "df_pricing_smaller = df_pricing_smaller[(\n",
    "                        df_pricing_smaller.price>=five_percentile)\n",
    "                        & (df_pricing_smaller.price<=ninety_five_percentile)]"
   ]
  },
  {
   "cell_type": "code",
   "execution_count": 15,
   "metadata": {
    "ExecuteTime": {
     "end_time": "2019-02-17T20:59:25.584286Z",
     "start_time": "2019-02-17T20:59:25.580162Z"
    }
   },
   "outputs": [
    {
     "name": "stdout",
     "output_type": "stream",
     "text": [
      "df_pricing_smaller dimensions:  (2573002, 4)\n"
     ]
    }
   ],
   "source": [
    "print ('df_pricing_smaller dimensions: ', df_pricing_smaller.shape)"
   ]
  },
  {
   "cell_type": "markdown",
   "metadata": {
    "ExecuteTime": {
     "end_time": "2019-02-16T06:10:40.512514Z",
     "start_time": "2019-02-16T06:10:40.509754Z"
    }
   },
   "source": [
    "## Seasonality Data"
   ]
  },
  {
   "cell_type": "code",
   "execution_count": null,
   "metadata": {
    "ExecuteTime": {
     "end_time": "2019-02-16T07:43:21.947996Z",
     "start_time": "2019-02-16T07:43:21.652014Z"
    }
   },
   "outputs": [],
   "source": [
    "# Added 'month' column to extract of month of date\n",
    "# Added 'day_of_week' column to extact day of week. \n",
    "# Default format: Monday=0, ..., Sunday=6\n",
    "\n",
    "df_pricing_smaller['month'] = df_pricing_smaller['date'].dt.month\n",
    "df_pricing_smaller['day_of_week'] = df_pricing_smaller['date'].dt.weekday\n",
    "\n",
    "\n",
    "print('df_pricing_smaller dimensions', df_pricing_smaller.shape)\n",
    "display(df_pricing_smaller.head())"
   ]
  },
  {
   "cell_type": "code",
   "execution_count": null,
   "metadata": {
    "ExecuteTime": {
     "end_time": "2019-02-16T07:44:17.855137Z",
     "start_time": "2019-02-16T07:44:17.360535Z"
    }
   },
   "outputs": [],
   "source": [
    "df_pricing_smaller.isnull().sum()"
   ]
  },
  {
   "cell_type": "code",
   "execution_count": null,
   "metadata": {
    "ExecuteTime": {
     "end_time": "2019-02-16T06:45:14.872540Z",
     "start_time": "2019-02-16T06:45:14.221150Z"
    }
   },
   "outputs": [],
   "source": [
    "display(df_pricing_smaller.describe(include ='all'))"
   ]
  },
  {
   "cell_type": "code",
   "execution_count": null,
   "metadata": {
    "ExecuteTime": {
     "end_time": "2019-02-16T07:11:42.303703Z",
     "start_time": "2019-02-16T07:11:41.753359Z"
    }
   },
   "outputs": [],
   "source": [
    "df_by_month_day = df_pricing_smaller.groupby(['listing_id', 'month', 'day_of_week'])  \\\n",
    "                                    .price.mean()  \\\n",
    "                                    .reset_index()\n",
    "df_by_month_day.head()"
   ]
  },
  {
   "cell_type": "code",
   "execution_count": null,
   "metadata": {
    "ExecuteTime": {
     "end_time": "2019-02-16T07:26:13.465169Z",
     "start_time": "2019-02-16T07:26:13.431591Z"
    }
   },
   "outputs": [],
   "source": [
    "df_month_day_counts = df_by_month_day.groupby(['listing_id'])  \\\n",
    "                                     .price.count()  \\\n",
    "                                 .reset_index()\n",
    "df_month_day_counts.rename(columns = {'price':'counts'}, inplace=True)\n",
    "df_month_day_counts.head()"
   ]
  },
  {
   "cell_type": "code",
   "execution_count": null,
   "metadata": {
    "ExecuteTime": {
     "end_time": "2019-02-16T07:26:28.545195Z",
     "start_time": "2019-02-16T07:26:28.539247Z"
    }
   },
   "outputs": [],
   "source": [
    "# Find out listings that have full price information (12 months and 7 days/week)\n",
    "\n",
    "listing_with_12m_7d_price = list(df_month_day_counts[\n",
    "                                df_month_day_counts.counts==12*7]\n",
    "                                .listing_id)"
   ]
  },
  {
   "cell_type": "code",
   "execution_count": null,
   "metadata": {
    "ExecuteTime": {
     "end_time": "2019-02-16T07:26:35.799012Z",
     "start_time": "2019-02-16T07:26:35.513532Z"
    }
   },
   "outputs": [],
   "source": [
    "df_pricing_available = df_pricing_smaller[df_pricing_smaller.listing_id.isin(\n",
    "                                          listing_with_12m_7d_price)]\n",
    "df_pricing_available.shape"
   ]
  },
  {
   "cell_type": "code",
   "execution_count": null,
   "metadata": {
    "ExecuteTime": {
     "end_time": "2019-02-16T07:27:15.110138Z",
     "start_time": "2019-02-16T07:27:14.777887Z"
    }
   },
   "outputs": [],
   "source": [
    "df_pricing_available.describe(include='all')"
   ]
  },
  {
   "cell_type": "code",
   "execution_count": null,
   "metadata": {
    "ExecuteTime": {
     "end_time": "2019-02-16T07:29:43.774615Z",
     "start_time": "2019-02-16T07:29:43.619042Z"
    }
   },
   "outputs": [],
   "source": [
    "# Group by month by weekday, and calculate an average pricing\n",
    "\n",
    "df_pricing_by_month_weekday = df_pricing_available.groupby(  \\\n",
    "                              ['listing_id', 'month', 'day_of_week']) \\\n",
    "                              .price.mean()  \\\n",
    "                              .reset_index()\n",
    "df_pricing_by_month_weekday.head()"
   ]
  },
  {
   "cell_type": "code",
   "execution_count": null,
   "metadata": {
    "ExecuteTime": {
     "end_time": "2019-02-16T07:29:50.919024Z",
     "start_time": "2019-02-16T07:29:50.875727Z"
    }
   },
   "outputs": [],
   "source": [
    "df_pricing_by_month_weekday.describe(include='all')"
   ]
  },
  {
   "cell_type": "code",
   "execution_count": null,
   "metadata": {
    "ExecuteTime": {
     "end_time": "2019-02-16T07:29:53.908670Z",
     "start_time": "2019-02-16T07:29:53.884060Z"
    }
   },
   "outputs": [],
   "source": [
    "# Check for null values if any\n",
    "\n",
    "df_pricing_by_month_weekday.isnull().sum()"
   ]
  },
  {
   "cell_type": "code",
   "execution_count": null,
   "metadata": {
    "ExecuteTime": {
     "end_time": "2019-02-16T07:30:07.170803Z",
     "start_time": "2019-02-16T07:30:07.164788Z"
    }
   },
   "outputs": [],
   "source": [
    "# Rename the average price column to avoid confusion\n",
    "\n",
    "df_pricing_by_month_weekday.rename(columns={'price':'price_by_month_week'}, inplace=True)"
   ]
  },
  {
   "cell_type": "code",
   "execution_count": null,
   "metadata": {
    "ExecuteTime": {
     "end_time": "2019-02-16T07:30:08.165994Z",
     "start_time": "2019-02-16T07:30:08.159699Z"
    }
   },
   "outputs": [],
   "source": [
    "df_pricing_by_month_weekday.shape"
   ]
  },
  {
   "cell_type": "code",
   "execution_count": null,
   "metadata": {
    "ExecuteTime": {
     "end_time": "2019-02-16T07:30:15.780429Z",
     "start_time": "2019-02-16T07:30:15.770848Z"
    }
   },
   "outputs": [],
   "source": [
    "df_pricing_by_month_weekday.head()"
   ]
  },
  {
   "cell_type": "code",
   "execution_count": null,
   "metadata": {},
   "outputs": [],
   "source": []
  },
  {
   "cell_type": "code",
   "execution_count": null,
   "metadata": {},
   "outputs": [],
   "source": []
  },
  {
   "cell_type": "code",
   "execution_count": null,
   "metadata": {
    "ExecuteTime": {
     "end_time": "2019-02-16T07:45:21.494853Z",
     "start_time": "2019-02-16T07:45:21.492056Z"
    }
   },
   "outputs": [],
   "source": [
    "df_pricing_by_month_weekday = df_pricing_smaller"
   ]
  },
  {
   "cell_type": "code",
   "execution_count": null,
   "metadata": {
    "ExecuteTime": {
     "end_time": "2019-02-16T07:45:22.970556Z",
     "start_time": "2019-02-16T07:45:22.965833Z"
    }
   },
   "outputs": [],
   "source": [
    "def get_month(number):\n",
    "    \"\"\"\n",
    "    Given a number, return the name of month.\n",
    "    \n",
    "    \"\"\"\n",
    "    month_lookup = {1:'Jan.', 2:'Feb.', 3:'Mar.', 4:'Apr.', 5:'May.', 6:'Jun.',\n",
    "                    7:'Jul.', 8:'Aug.', 9:'Sep.', 10:'Oct.', 11:'Nov.', 12:'Dec.'}\n",
    "    \n",
    "    return month_lookup[number]"
   ]
  },
  {
   "cell_type": "code",
   "execution_count": null,
   "metadata": {
    "ExecuteTime": {
     "end_time": "2019-02-16T07:45:24.281255Z",
     "start_time": "2019-02-16T07:45:24.277002Z"
    }
   },
   "outputs": [],
   "source": [
    "def get_weekdays(number):\n",
    "    \"\"\"\n",
    "    Given a number, return the name of month.\n",
    "    \n",
    "    \"\"\"\n",
    "    weekday_lookup = {0:'Monday', 1:'Tuesday', 2:'Wednesday', 3:'Thursday', \n",
    "                      4:'Friday', 5:'Saturday', 6:'Sunday'}\n",
    "    \n",
    "    return weekday_lookup[number]"
   ]
  },
  {
   "cell_type": "code",
   "execution_count": null,
   "metadata": {
    "ExecuteTime": {
     "end_time": "2019-02-16T07:45:31.611002Z",
     "start_time": "2019-02-16T07:45:29.482959Z"
    }
   },
   "outputs": [],
   "source": [
    "df_pricing_by_month_weekday['month'] = df_pricing_by_month_weekday['month']  \\\n",
    "                                       .apply(lambda x: get_month(x))"
   ]
  },
  {
   "cell_type": "code",
   "execution_count": null,
   "metadata": {
    "ExecuteTime": {
     "end_time": "2019-02-16T07:45:34.201269Z",
     "start_time": "2019-02-16T07:45:32.827042Z"
    }
   },
   "outputs": [],
   "source": [
    "df_pricing_by_month_weekday['day_of_week'] = df_pricing_by_month_weekday['day_of_week']  \\\n",
    "                                             .apply(lambda x: get_weekdays(x))"
   ]
  },
  {
   "cell_type": "code",
   "execution_count": null,
   "metadata": {},
   "outputs": [],
   "source": []
  },
  {
   "cell_type": "code",
   "execution_count": null,
   "metadata": {
    "ExecuteTime": {
     "end_time": "2019-02-16T07:45:43.034388Z",
     "start_time": "2019-02-16T07:45:42.131415Z"
    }
   },
   "outputs": [],
   "source": [
    "df_pricing_final = pd.get_dummies(df_pricing_by_month_weekday, \n",
    "                                  prefix='',\n",
    "                                  prefix_sep='',\n",
    "                                  columns=['month', 'day_of_week'])"
   ]
  },
  {
   "cell_type": "code",
   "execution_count": null,
   "metadata": {
    "ExecuteTime": {
     "end_time": "2019-02-16T07:45:44.620243Z",
     "start_time": "2019-02-16T07:45:44.613612Z"
    }
   },
   "outputs": [],
   "source": [
    "df_pricing_final.columns"
   ]
  },
  {
   "cell_type": "code",
   "execution_count": null,
   "metadata": {
    "ExecuteTime": {
     "end_time": "2019-02-16T07:45:46.169647Z",
     "start_time": "2019-02-16T07:45:46.163194Z"
    }
   },
   "outputs": [],
   "source": [
    "df_pricing_final.shape"
   ]
  },
  {
   "cell_type": "code",
   "execution_count": null,
   "metadata": {
    "ExecuteTime": {
     "end_time": "2019-02-16T07:47:08.364726Z",
     "start_time": "2019-02-16T07:47:08.322366Z"
    }
   },
   "outputs": [],
   "source": [
    "pkl_file = '/Users/xzhou/github/project_archives/files_airbnb/{}.pkl'\n",
    "\n",
    "pkl_path = pkl_file.format('listings_with_selected_features')\n",
    "\n",
    "df_listings_reviews = pd.read_pickle(pkl_path)\n",
    "df_listings_reviews.head()"
   ]
  },
  {
   "cell_type": "code",
   "execution_count": null,
   "metadata": {
    "ExecuteTime": {
     "end_time": "2019-02-16T07:47:10.272627Z",
     "start_time": "2019-02-16T07:47:10.266869Z"
    }
   },
   "outputs": [],
   "source": [
    "df_listings_reviews.shape"
   ]
  },
  {
   "cell_type": "code",
   "execution_count": null,
   "metadata": {
    "ExecuteTime": {
     "end_time": "2019-02-16T07:47:16.310937Z",
     "start_time": "2019-02-16T07:47:13.938067Z"
    }
   },
   "outputs": [],
   "source": [
    "df_final = pd.merge(left=df_pricing_final, \n",
    "                    right=df_listings_reviews,\n",
    "                    how='inner',\n",
    "                    left_on='listing_id',\n",
    "                    right_on='id')"
   ]
  },
  {
   "cell_type": "code",
   "execution_count": null,
   "metadata": {
    "ExecuteTime": {
     "end_time": "2019-02-16T07:47:21.011811Z",
     "start_time": "2019-02-16T07:47:21.006176Z"
    }
   },
   "outputs": [],
   "source": [
    "df_final.shape"
   ]
  },
  {
   "cell_type": "code",
   "execution_count": null,
   "metadata": {
    "ExecuteTime": {
     "end_time": "2019-02-16T07:47:29.146421Z",
     "start_time": "2019-02-16T07:47:25.714195Z"
    }
   },
   "outputs": [],
   "source": [
    "df_final.isnull().sum()"
   ]
  },
  {
   "cell_type": "code",
   "execution_count": null,
   "metadata": {
    "ExecuteTime": {
     "end_time": "2019-02-16T07:47:33.350053Z",
     "start_time": "2019-02-16T07:47:33.343189Z"
    }
   },
   "outputs": [],
   "source": [
    "df_final.shape"
   ]
  },
  {
   "cell_type": "code",
   "execution_count": null,
   "metadata": {
    "ExecuteTime": {
     "end_time": "2019-02-16T07:47:36.732213Z",
     "start_time": "2019-02-16T07:47:36.725104Z"
    }
   },
   "outputs": [],
   "source": [
    "df_final.columns"
   ]
  },
  {
   "cell_type": "code",
   "execution_count": null,
   "metadata": {
    "ExecuteTime": {
     "end_time": "2019-02-16T07:47:43.951214Z",
     "start_time": "2019-02-16T07:47:43.156057Z"
    }
   },
   "outputs": [],
   "source": [
    "# Drop duplicate columns\n",
    "\n",
    "df_final.drop(['id'], axis=1, inplace=True)"
   ]
  },
  {
   "cell_type": "code",
   "execution_count": null,
   "metadata": {
    "ExecuteTime": {
     "end_time": "2019-02-16T07:47:47.572552Z",
     "start_time": "2019-02-16T07:47:47.566937Z"
    }
   },
   "outputs": [],
   "source": [
    "df_final.shape"
   ]
  },
  {
   "cell_type": "code",
   "execution_count": null,
   "metadata": {
    "ExecuteTime": {
     "end_time": "2019-02-16T07:47:59.985169Z",
     "start_time": "2019-02-16T07:47:50.863493Z"
    }
   },
   "outputs": [],
   "source": [
    "# Create correlation matrix\n",
    "corr_matrix = df_final.corr().abs()\n",
    "\n",
    "# Select upper triangle of correlation matrix\n",
    "upper = corr_matrix.where(np.triu(np.ones(corr_matrix.shape), k=1).astype(np.bool))\n",
    "\n",
    "# Find index of feature columns with correlation greater than 0.90\n",
    "to_drop = [column for column in upper.columns if any(upper[column] > 0.90)]\n",
    "\n",
    "to_drop"
   ]
  },
  {
   "cell_type": "code",
   "execution_count": null,
   "metadata": {
    "ExecuteTime": {
     "end_time": "2019-02-16T07:48:03.992432Z",
     "start_time": "2019-02-16T07:48:03.640556Z"
    }
   },
   "outputs": [],
   "source": [
    "# Drop features that have high correlation\n",
    "\n",
    "df_final.drop(to_drop, axis=1, inplace=True)"
   ]
  },
  {
   "cell_type": "code",
   "execution_count": null,
   "metadata": {
    "ExecuteTime": {
     "end_time": "2019-02-16T07:48:07.740269Z",
     "start_time": "2019-02-16T07:48:07.734165Z"
    }
   },
   "outputs": [],
   "source": [
    "df_final.shape"
   ]
  },
  {
   "cell_type": "code",
   "execution_count": null,
   "metadata": {
    "ExecuteTime": {
     "end_time": "2019-02-16T07:32:20.939087Z",
     "start_time": "2019-02-16T07:32:20.849015Z"
    }
   },
   "outputs": [],
   "source": [
    "pkl_file = '/Users/xzhou/github/project_archives/files_airbnb/{}.pkl'\n",
    "pkl_path = pkl_file.format('listings_seasonality')\n",
    "\n",
    "with open(pkl_path, 'wb') as file:\n",
    "        pd.to_pickle(df_final, file)"
   ]
  },
  {
   "cell_type": "code",
   "execution_count": null,
   "metadata": {
    "ExecuteTime": {
     "end_time": "2018-09-17T22:15:16.184217Z",
     "start_time": "2018-09-17T22:15:16.030213Z"
    }
   },
   "outputs": [],
   "source": [
    "file_updated = True\n",
    "pkl_file = '/Users/xzhou/github/project_archives/files_airbnb/{}.pkl'\n",
    "pkl_path = pkl_file.format('listings_seasonality')\n",
    "\n",
    "\n",
    "if file_updated:\n",
    "    with open(pkl_path, 'wb') as file:\n",
    "        pd.to_pickle(df_final, file)\n",
    "else:\n",
    "    try: \n",
    "        with open(pkl_path, 'rb') as file:\n",
    "            df_final = pd.read_pickle(file)\n",
    "    except:\n",
    "        with open(pkl_path, 'wb') as file:\n",
    "            pd.to_pickle(df_final, file)"
   ]
  },
  {
   "cell_type": "code",
   "execution_count": null,
   "metadata": {
    "ExecuteTime": {
     "end_time": "2019-02-16T07:51:14.499858Z",
     "start_time": "2019-02-16T07:51:14.046915Z"
    }
   },
   "outputs": [],
   "source": [
    "# Perform multiple modeling for price prediction\n",
    "\n",
    "X = df_final.drop(['price', 'date', 'available','ref_district', 'ref_jurisdiction'], axis=1)\n",
    "y = df_final.loc[:, ['listing_id', 'price']]"
   ]
  },
  {
   "cell_type": "code",
   "execution_count": null,
   "metadata": {
    "ExecuteTime": {
     "end_time": "2019-02-16T07:51:21.439098Z",
     "start_time": "2019-02-16T07:51:20.184537Z"
    }
   },
   "outputs": [],
   "source": [
    "grp_by_listing_ids = df_final.groupby('listing_id').first().reset_index().listing_id"
   ]
  },
  {
   "cell_type": "code",
   "execution_count": null,
   "metadata": {
    "ExecuteTime": {
     "end_time": "2019-02-16T07:51:27.547401Z",
     "start_time": "2019-02-16T07:51:27.542973Z"
    }
   },
   "outputs": [],
   "source": [
    "listing_ids = list (grp_by_listing_ids)"
   ]
  },
  {
   "cell_type": "code",
   "execution_count": null,
   "metadata": {
    "ExecuteTime": {
     "end_time": "2019-02-16T07:51:33.173083Z",
     "start_time": "2019-02-16T07:51:33.163705Z"
    }
   },
   "outputs": [],
   "source": [
    "num_of_grps = len(grp_by_listing_ids)\n",
    "\n",
    "training_ids = np.random.choice(listing_ids, int(num_of_grps*0.75), replace=False)\n",
    "print(len(training_ids))\n",
    "training_ids"
   ]
  },
  {
   "cell_type": "code",
   "execution_count": null,
   "metadata": {
    "ExecuteTime": {
     "end_time": "2019-02-16T07:51:38.822931Z",
     "start_time": "2019-02-16T07:51:38.807263Z"
    }
   },
   "outputs": [],
   "source": [
    "testing_ids = set(grp_by_listing_ids) - set (training_ids)\n",
    "len(testing_ids)"
   ]
  },
  {
   "cell_type": "code",
   "execution_count": null,
   "metadata": {
    "ExecuteTime": {
     "end_time": "2019-02-16T07:51:45.599694Z",
     "start_time": "2019-02-16T07:51:44.636313Z"
    }
   },
   "outputs": [],
   "source": [
    "X_train = X[X['listing_id'].isin(training_ids)].drop('listing_id', axis=1)\n",
    "X_test = X[X['listing_id'].isin(testing_ids)].drop('listing_id', axis=1)\n",
    "y_train = y[y['listing_id'].isin(training_ids)].drop('listing_id', axis=1).values.ravel()\n",
    "y_test = y[y['listing_id'].isin(testing_ids)].drop('listing_id', axis=1).values.ravel()\n",
    "\n",
    "print(len(X_train), len(X_test), len(y_train), len(y_test))"
   ]
  },
  {
   "cell_type": "code",
   "execution_count": null,
   "metadata": {
    "ExecuteTime": {
     "end_time": "2019-02-16T07:51:54.518811Z",
     "start_time": "2019-02-16T07:51:50.711872Z"
    }
   },
   "outputs": [],
   "source": [
    "ss = StandardScaler()\n",
    "X_train_trans = ss.fit_transform(X_train)\n",
    "X_test_trans = ss.transform (X_test)"
   ]
  },
  {
   "cell_type": "code",
   "execution_count": null,
   "metadata": {
    "ExecuteTime": {
     "end_time": "2019-02-16T07:52:07.438286Z",
     "start_time": "2019-02-16T07:51:59.762819Z"
    }
   },
   "outputs": [],
   "source": [
    "# Model-LR\n",
    "\n",
    "model=sm.OLS(y_train, sm.add_constant(X_train_trans))\n",
    "fit=model.fit()\n",
    "fit.summary()"
   ]
  },
  {
   "cell_type": "code",
   "execution_count": null,
   "metadata": {
    "ExecuteTime": {
     "end_time": "2019-02-16T11:15:14.913895Z",
     "start_time": "2019-02-16T08:03:49.683049Z"
    }
   },
   "outputs": [],
   "source": [
    "# Model-Random Forest\n",
    "\n",
    "rf = RandomForestRegressor(n_estimators=50, \n",
    "                           criterion='mse', \n",
    "                           random_state=42, \n",
    "                           n_jobs=-1)\n",
    "rf.fit(X_train_trans, y_train.ravel())\n",
    "\n",
    "y_train_pred = rf.predict(X_train_trans)\n",
    "y_test_pred = rf.predict(X_test_trans)\n",
    "\n",
    "print('MSE train: %.3f, test: %.3f' % (\n",
    "        mean_squared_error(y_train, y_train_pred),\n",
    "        mean_squared_error(y_test, y_test_pred)))\n",
    "print('R^2 train: %.3f, test: %.3f' % (\n",
    "        r2_score(y_train, y_train_pred),\n",
    "        r2_score(y_test, y_test_pred)))"
   ]
  },
  {
   "cell_type": "code",
   "execution_count": null,
   "metadata": {
    "ExecuteTime": {
     "end_time": "2019-02-17T07:15:30.418928Z",
     "start_time": "2019-02-17T07:15:30.396856Z"
    }
   },
   "outputs": [],
   "source": [
    "RMSE = 1043.202**0.5\n",
    "RMSE"
   ]
  },
  {
   "cell_type": "code",
   "execution_count": null,
   "metadata": {
    "ExecuteTime": {
     "end_time": "2019-02-17T07:15:35.687639Z",
     "start_time": "2019-02-17T07:15:35.661859Z"
    }
   },
   "outputs": [],
   "source": [
    "df_final.listing_id.nunique()"
   ]
  },
  {
   "cell_type": "code",
   "execution_count": null,
   "metadata": {
    "ExecuteTime": {
     "end_time": "2019-02-17T07:15:41.038373Z",
     "start_time": "2019-02-17T07:15:40.753802Z"
    }
   },
   "outputs": [],
   "source": [
    "# Double check on price range. The range is as expected\n",
    "\n",
    "y.describe(include='all')"
   ]
  },
  {
   "cell_type": "code",
   "execution_count": null,
   "metadata": {
    "ExecuteTime": {
     "end_time": "2019-02-17T07:15:48.972377Z",
     "start_time": "2019-02-17T07:15:48.450764Z"
    }
   },
   "outputs": [],
   "source": [
    "# Map feature importance with labels\n",
    "\n",
    "feature_labels = X.columns\n",
    "feature_tuples = zip (feature_labels, rf.feature_importances_)\n",
    "feature_lists = [list(feature_tuple) for feature_tuple in feature_tuples]"
   ]
  },
  {
   "cell_type": "code",
   "execution_count": null,
   "metadata": {
    "ExecuteTime": {
     "end_time": "2019-02-17T07:15:54.227605Z",
     "start_time": "2019-02-17T07:15:54.215380Z"
    }
   },
   "outputs": [],
   "source": [
    "# Order features based on importance\n",
    "\n",
    "feature_lists.sort(key=lambda x: abs(x[1]), reverse=True)\n",
    "feature_lists"
   ]
  },
  {
   "cell_type": "code",
   "execution_count": null,
   "metadata": {
    "ExecuteTime": {
     "end_time": "2019-02-17T07:16:07.190231Z",
     "start_time": "2019-02-17T07:16:07.181677Z"
    }
   },
   "outputs": [],
   "source": [
    "features = [list_[0] for list_ in feature_lists]\n",
    "features"
   ]
  },
  {
   "cell_type": "code",
   "execution_count": null,
   "metadata": {
    "ExecuteTime": {
     "end_time": "2019-02-17T07:16:20.056458Z",
     "start_time": "2019-02-17T07:16:20.052548Z"
    }
   },
   "outputs": [],
   "source": [
    "columns =['listing_id']\n",
    "columns.extend(features)\n",
    "columns.extend(['ref_district', 'ref_jurisdiction', 'price_by_month_week'])"
   ]
  },
  {
   "cell_type": "code",
   "execution_count": null,
   "metadata": {
    "ExecuteTime": {
     "end_time": "2019-02-17T07:16:25.297070Z",
     "start_time": "2019-02-17T07:16:25.230294Z"
    }
   },
   "outputs": [],
   "source": [
    "df_data = df_final[columns]\n",
    "df_data.head()"
   ]
  },
  {
   "cell_type": "code",
   "execution_count": null,
   "metadata": {
    "ExecuteTime": {
     "end_time": "2018-09-17T22:38:53.449764Z",
     "start_time": "2018-09-17T22:38:53.442621Z"
    }
   },
   "outputs": [],
   "source": [
    "df_data.shape"
   ]
  },
  {
   "cell_type": "code",
   "execution_count": null,
   "metadata": {
    "ExecuteTime": {
     "end_time": "2018-09-17T22:38:56.566129Z",
     "start_time": "2018-09-17T22:38:56.288147Z"
    }
   },
   "outputs": [],
   "source": [
    "df_data.rename(columns={'price_by_month_week':'price'}, inplace=True)"
   ]
  },
  {
   "cell_type": "code",
   "execution_count": null,
   "metadata": {
    "ExecuteTime": {
     "end_time": "2018-09-17T22:38:59.578990Z",
     "start_time": "2018-09-17T22:38:59.287780Z"
    }
   },
   "outputs": [],
   "source": [
    "df_data.isnull().sum()"
   ]
  },
  {
   "cell_type": "code",
   "execution_count": null,
   "metadata": {
    "ExecuteTime": {
     "end_time": "2018-09-17T22:47:55.787349Z",
     "start_time": "2018-09-17T22:47:38.185171Z"
    },
    "scrolled": false
   },
   "outputs": [],
   "source": [
    "temp_df = df_data[['Monday', 'Tuesday', 'Wednesday', 'Thursday', 'Friday', 'Saturday', 'Sunday']].copy()\n",
    "\n",
    "days = temp_df.apply(lambda x: x.idxmax(), axis=1)\n",
    "days"
   ]
  },
  {
   "cell_type": "code",
   "execution_count": null,
   "metadata": {
    "ExecuteTime": {
     "end_time": "2018-09-17T22:12:55.258059Z",
     "start_time": "2018-09-17T22:12:27.019Z"
    }
   },
   "outputs": [],
   "source": [
    "csv_file = '/Users/xzhou/github/project_archives/files_airbnb/{}.csv'\n",
    "\n",
    "csv_path = csv_file.format('airbnb_data')\n",
    "\n",
    "df_data.to_csv(csv_path)"
   ]
  },
  {
   "cell_type": "code",
   "execution_count": null,
   "metadata": {},
   "outputs": [],
   "source": []
  },
  {
   "cell_type": "code",
   "execution_count": null,
   "metadata": {
    "ExecuteTime": {
     "end_time": "2019-02-16T06:17:06.744029Z",
     "start_time": "2019-02-16T06:17:06.527886Z"
    }
   },
   "outputs": [],
   "source": [
    "# This is to create visual to show seasonality\n",
    "\n",
    "df_visual = pd.merge(left=df_pricing_by_month_weekday, \n",
    "                    right=df_listings_reviews,\n",
    "                    how='inner',\n",
    "                    left_on='listing_id',\n",
    "                    right_on='id')"
   ]
  },
  {
   "cell_type": "code",
   "execution_count": null,
   "metadata": {
    "ExecuteTime": {
     "end_time": "2019-02-16T06:17:07.585839Z",
     "start_time": "2019-02-16T06:17:07.580166Z"
    }
   },
   "outputs": [],
   "source": [
    "df_visual.shape"
   ]
  },
  {
   "cell_type": "code",
   "execution_count": null,
   "metadata": {
    "ExecuteTime": {
     "end_time": "2019-02-16T06:17:08.338245Z",
     "start_time": "2019-02-16T06:17:08.332513Z"
    }
   },
   "outputs": [],
   "source": [
    "df_visual.columns"
   ]
  },
  {
   "cell_type": "code",
   "execution_count": null,
   "metadata": {},
   "outputs": [],
   "source": []
  },
  {
   "cell_type": "code",
   "execution_count": null,
   "metadata": {
    "ExecuteTime": {
     "end_time": "2019-02-16T06:17:15.308923Z",
     "start_time": "2019-02-16T06:17:15.045878Z"
    }
   },
   "outputs": [],
   "source": [
    "df_visual_entire_apartment = df_visual[df_visual['room_type_Entire home/apt']==1 ]\n",
    "df_visual_single_room = df_visual[df_visual['room_type_Entire home/apt']!=1 ]\n",
    "\n",
    "print(df_visual_entire_apartment.shape, df_visual_single_room.shape )"
   ]
  },
  {
   "cell_type": "code",
   "execution_count": null,
   "metadata": {
    "ExecuteTime": {
     "end_time": "2019-02-16T06:17:15.881772Z",
     "start_time": "2019-02-16T06:17:15.873422Z"
    }
   },
   "outputs": [],
   "source": [
    "df_visual_entire_apartment.ref_district.describe"
   ]
  },
  {
   "cell_type": "code",
   "execution_count": null,
   "metadata": {
    "ExecuteTime": {
     "end_time": "2019-02-16T06:17:18.344646Z",
     "start_time": "2019-02-16T06:17:18.297939Z"
    }
   },
   "outputs": [],
   "source": [
    "df_visual_entire_apartment_sf = df_visual_entire_apartment[df_visual_entire_apartment['ref_district']=='San Francisco']\n",
    "df_visual_entire_apartment_scz = df_visual_entire_apartment[df_visual_entire_apartment['ref_district']=='Santa Clara']\n",
    "\n",
    "print(df_visual_entire_apartment_sf.shape, df_visual_entire_apartment_scz.shape )"
   ]
  },
  {
   "cell_type": "code",
   "execution_count": null,
   "metadata": {
    "ExecuteTime": {
     "end_time": "2019-02-16T06:17:19.184677Z",
     "start_time": "2019-02-16T06:17:19.177815Z"
    }
   },
   "outputs": [],
   "source": [
    "df_visual_entire_apartment_sf.id.nunique()"
   ]
  },
  {
   "cell_type": "code",
   "execution_count": null,
   "metadata": {
    "ExecuteTime": {
     "end_time": "2019-02-16T06:17:19.951679Z",
     "start_time": "2019-02-16T06:17:19.945768Z"
    }
   },
   "outputs": [],
   "source": [
    "df_visual_entire_apartment_scz.id.nunique()"
   ]
  },
  {
   "cell_type": "code",
   "execution_count": null,
   "metadata": {
    "ExecuteTime": {
     "end_time": "2019-02-16T06:17:21.157330Z",
     "start_time": "2019-02-16T06:17:21.129605Z"
    }
   },
   "outputs": [],
   "source": [
    "# Weekly pattern for entire apartment\n",
    "\n",
    "df_week_entire_apartment = df_visual_entire_apartment.groupby(['ref_district', 'day_of_week'])  \\\n",
    "                                                     .price_by_month_week.mean()\n",
    "df_week_entire_apartment"
   ]
  },
  {
   "cell_type": "code",
   "execution_count": null,
   "metadata": {
    "ExecuteTime": {
     "end_time": "2019-02-16T06:17:28.799186Z",
     "start_time": "2019-02-16T06:17:28.775249Z"
    }
   },
   "outputs": [],
   "source": [
    "# Weekly pattern for single room\n",
    "\n",
    "df_week_single_room = df_visual_single_room.groupby(['ref_district', 'day_of_week'])  \\\n",
    "                                           .price_by_month_week.mean()\n",
    "df_week_single_room"
   ]
  },
  {
   "cell_type": "code",
   "execution_count": null,
   "metadata": {
    "ExecuteTime": {
     "end_time": "2019-02-16T06:17:38.353352Z",
     "start_time": "2019-02-16T06:17:38.324980Z"
    }
   },
   "outputs": [],
   "source": [
    "# Montly Pattern for entire apartment\n",
    "\n",
    "df_visual_entire_apartment.groupby(['ref_district', 'month']).price_by_month_week.mean()"
   ]
  },
  {
   "cell_type": "code",
   "execution_count": null,
   "metadata": {
    "ExecuteTime": {
     "end_time": "2019-02-16T06:17:40.819982Z",
     "start_time": "2019-02-16T06:17:40.796677Z"
    }
   },
   "outputs": [],
   "source": [
    "# Montly Pattern for single room\n",
    "\n",
    "df_visual_single_room.groupby(['ref_district', 'month']).price_by_month_week.mean()"
   ]
  }
 ],
 "metadata": {
  "kernelspec": {
   "display_name": "Python 3",
   "language": "python",
   "name": "python3"
  },
  "language_info": {
   "codemirror_mode": {
    "name": "ipython",
    "version": 3
   },
   "file_extension": ".py",
   "mimetype": "text/x-python",
   "name": "python",
   "nbconvert_exporter": "python",
   "pygments_lexer": "ipython3",
   "version": "3.6.6"
  },
  "toc": {
   "base_numbering": 1,
   "nav_menu": {},
   "number_sections": true,
   "sideBar": true,
   "skip_h1_title": false,
   "title_cell": "Table of Contents",
   "title_sidebar": "Contents",
   "toc_cell": false,
   "toc_position": {},
   "toc_section_display": true,
   "toc_window_display": true
  },
  "varInspector": {
   "cols": {
    "lenName": 16,
    "lenType": 16,
    "lenVar": 40
   },
   "kernels_config": {
    "python": {
     "delete_cmd_postfix": "",
     "delete_cmd_prefix": "del ",
     "library": "var_list.py",
     "varRefreshCmd": "print(var_dic_list())"
    },
    "r": {
     "delete_cmd_postfix": ") ",
     "delete_cmd_prefix": "rm(",
     "library": "var_list.r",
     "varRefreshCmd": "cat(var_dic_list()) "
    }
   },
   "types_to_exclude": [
    "module",
    "function",
    "builtin_function_or_method",
    "instance",
    "_Feature"
   ],
   "window_display": false
  }
 },
 "nbformat": 4,
 "nbformat_minor": 2
}
