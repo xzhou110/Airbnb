{
 "cells": [
  {
   "cell_type": "markdown",
   "metadata": {},
   "source": [
    "# Data Retrieval"
   ]
  },
  {
   "cell_type": "code",
   "execution_count": 1,
   "metadata": {
    "ExecuteTime": {
     "end_time": "2019-02-18T00:30:17.360189Z",
     "start_time": "2019-02-18T00:30:15.425966Z"
    }
   },
   "outputs": [],
   "source": [
    "import pandas as pd\n",
    "import csv\n",
    "import re\n",
    "import statsmodels.api as sm\n",
    "from datetime import datetime\n",
    "import matplotlib.pyplot as plt\n",
    "import numpy as np\n",
    "\n",
    "from sklearn import datasets, linear_model\n",
    "from sklearn.metrics import mean_squared_error, r2_score\n",
    "from sklearn.preprocessing import StandardScaler\n",
    "from sklearn.model_selection import train_test_split, GroupShuffleSplit\n",
    "from sklearn.ensemble import RandomForestRegressor"
   ]
  },
  {
   "cell_type": "code",
   "execution_count": 2,
   "metadata": {
    "ExecuteTime": {
     "end_time": "2019-02-18T00:30:17.403573Z",
     "start_time": "2019-02-18T00:30:17.398666Z"
    }
   },
   "outputs": [],
   "source": [
    "# File path for cities: San Francisco(sf), \n",
    "# Okaland(ok), Santa Clara(sc), Santa Cruze(scz)\n",
    "\n",
    "file_url = '/Users/xzhou/github/project_archives/files_airbnb/{}/calendar.csv'\n",
    "\n",
    "sf_file = file_url.format('sf_airbnb')\n",
    "ok_file = file_url.format('ok_airbnb')\n",
    "sc_file = file_url.format('sc_airbnb')\n",
    "scz_file = file_url.format('scz_airbnb')"
   ]
  },
  {
   "cell_type": "code",
   "execution_count": 3,
   "metadata": {
    "ExecuteTime": {
     "end_time": "2019-02-18T00:30:23.127447Z",
     "start_time": "2019-02-18T00:30:17.443456Z"
    }
   },
   "outputs": [
    {
     "name": "stdout",
     "output_type": "stream",
     "text": [
      "(2420680, 4) (1057770, 4) (2068820, 4) (573050, 4)\n"
     ]
    }
   ],
   "source": [
    "# Loaded price by date information for each city\n",
    "\n",
    "pricing_sf = pd.read_csv(sf_file, parse_dates=['date'])\n",
    "pricing_ok = pd.read_csv(ok_file, parse_dates=['date'])\n",
    "pricing_sc = pd.read_csv(sc_file, parse_dates=['date'])\n",
    "pricing_scz = pd.read_csv(scz_file, parse_dates=['date'])\n",
    "\n",
    "print(pricing_sf.shape, pricing_ok.shape, pricing_sc.shape, pricing_scz.shape)"
   ]
  },
  {
   "cell_type": "code",
   "execution_count": 4,
   "metadata": {
    "ExecuteTime": {
     "end_time": "2019-02-18T00:30:24.474755Z",
     "start_time": "2019-02-18T00:30:23.362617Z"
    }
   },
   "outputs": [
    {
     "data": {
      "text/html": [
       "<div>\n",
       "<style scoped>\n",
       "    .dataframe tbody tr th:only-of-type {\n",
       "        vertical-align: middle;\n",
       "    }\n",
       "\n",
       "    .dataframe tbody tr th {\n",
       "        vertical-align: top;\n",
       "    }\n",
       "\n",
       "    .dataframe thead th {\n",
       "        text-align: right;\n",
       "    }\n",
       "</style>\n",
       "<table border=\"1\" class=\"dataframe\">\n",
       "  <thead>\n",
       "    <tr style=\"text-align: right;\">\n",
       "      <th></th>\n",
       "      <th></th>\n",
       "      <th>listing_id</th>\n",
       "      <th>date</th>\n",
       "      <th>available</th>\n",
       "      <th>price</th>\n",
       "    </tr>\n",
       "  </thead>\n",
       "  <tbody>\n",
       "    <tr>\n",
       "      <th rowspan=\"10\" valign=\"top\">pricing_sf</th>\n",
       "      <th>0</th>\n",
       "      <td>958</td>\n",
       "      <td>2019-08-05</td>\n",
       "      <td>f</td>\n",
       "      <td>NaN</td>\n",
       "    </tr>\n",
       "    <tr>\n",
       "      <th>1</th>\n",
       "      <td>958</td>\n",
       "      <td>2019-08-04</td>\n",
       "      <td>f</td>\n",
       "      <td>NaN</td>\n",
       "    </tr>\n",
       "    <tr>\n",
       "      <th>2</th>\n",
       "      <td>958</td>\n",
       "      <td>2019-08-03</td>\n",
       "      <td>f</td>\n",
       "      <td>NaN</td>\n",
       "    </tr>\n",
       "    <tr>\n",
       "      <th>3</th>\n",
       "      <td>958</td>\n",
       "      <td>2019-08-02</td>\n",
       "      <td>f</td>\n",
       "      <td>NaN</td>\n",
       "    </tr>\n",
       "    <tr>\n",
       "      <th>4</th>\n",
       "      <td>958</td>\n",
       "      <td>2019-08-01</td>\n",
       "      <td>f</td>\n",
       "      <td>NaN</td>\n",
       "    </tr>\n",
       "    <tr>\n",
       "      <th>5</th>\n",
       "      <td>958</td>\n",
       "      <td>2019-07-31</td>\n",
       "      <td>f</td>\n",
       "      <td>NaN</td>\n",
       "    </tr>\n",
       "    <tr>\n",
       "      <th>6</th>\n",
       "      <td>958</td>\n",
       "      <td>2019-07-30</td>\n",
       "      <td>f</td>\n",
       "      <td>NaN</td>\n",
       "    </tr>\n",
       "    <tr>\n",
       "      <th>7</th>\n",
       "      <td>958</td>\n",
       "      <td>2019-07-29</td>\n",
       "      <td>f</td>\n",
       "      <td>NaN</td>\n",
       "    </tr>\n",
       "    <tr>\n",
       "      <th>8</th>\n",
       "      <td>958</td>\n",
       "      <td>2019-07-28</td>\n",
       "      <td>f</td>\n",
       "      <td>NaN</td>\n",
       "    </tr>\n",
       "    <tr>\n",
       "      <th>9</th>\n",
       "      <td>958</td>\n",
       "      <td>2019-07-27</td>\n",
       "      <td>f</td>\n",
       "      <td>NaN</td>\n",
       "    </tr>\n",
       "  </tbody>\n",
       "</table>\n",
       "</div>"
      ],
      "text/plain": [
       "              listing_id       date available price\n",
       "pricing_sf 0         958 2019-08-05         f   NaN\n",
       "           1         958 2019-08-04         f   NaN\n",
       "           2         958 2019-08-03         f   NaN\n",
       "           3         958 2019-08-02         f   NaN\n",
       "           4         958 2019-08-01         f   NaN\n",
       "           5         958 2019-07-31         f   NaN\n",
       "           6         958 2019-07-30         f   NaN\n",
       "           7         958 2019-07-29         f   NaN\n",
       "           8         958 2019-07-28         f   NaN\n",
       "           9         958 2019-07-27         f   NaN"
      ]
     },
     "execution_count": 4,
     "metadata": {},
     "output_type": "execute_result"
    }
   ],
   "source": [
    "# Concatenated four files into one\n",
    "# Created keys for each file for future references\n",
    "\n",
    "frames = [pricing_sf, pricing_ok, pricing_sc, pricing_scz]\n",
    "keys = ['pricing_sf', 'pricing_ok', 'pricing_sc', 'pricing_scz']\n",
    "\n",
    "df_pricing = pd.concat(frames, keys=keys)\n",
    "\n",
    "df_pricing.head(10)"
   ]
  },
  {
   "cell_type": "markdown",
   "metadata": {},
   "source": [
    "# Data Exploration"
   ]
  },
  {
   "cell_type": "markdown",
   "metadata": {
    "ExecuteTime": {
     "end_time": "2019-02-16T06:04:55.761610Z",
     "start_time": "2019-02-16T06:04:55.757951Z"
    }
   },
   "source": [
    "## Smaller Set of Data"
   ]
  },
  {
   "cell_type": "code",
   "execution_count": 5,
   "metadata": {
    "ExecuteTime": {
     "end_time": "2019-02-18T00:30:35.088836Z",
     "start_time": "2019-02-18T00:30:34.400283Z"
    }
   },
   "outputs": [
    {
     "name": "stdout",
     "output_type": "stream",
     "text": [
      "Dimension for df_pricing_smaller:  (2853357, 4)\n",
      "\n",
      "Number of Unique ids:  14770\n"
     ]
    }
   ],
   "source": [
    "# Filter to houses that are available and have listing prices\n",
    "\n",
    "df_pricing_smaller = df_pricing[df_pricing['available']=='t']\n",
    "df_pricing_smaller = df_pricing_smaller.copy()\n",
    "\n",
    "print('Dimension for df_pricing_smaller: ', df_pricing_smaller.shape)\n",
    "print ('\\nNumber of Unique ids: ', df_pricing_smaller.listing_id.nunique())"
   ]
  },
  {
   "cell_type": "code",
   "execution_count": 6,
   "metadata": {
    "ExecuteTime": {
     "end_time": "2019-02-18T00:30:36.943663Z",
     "start_time": "2019-02-18T00:30:36.937075Z"
    }
   },
   "outputs": [
    {
     "data": {
      "text/plain": [
       "Index(['listing_id', 'date', 'available', 'price'], dtype='object')"
      ]
     },
     "execution_count": 6,
     "metadata": {},
     "output_type": "execute_result"
    }
   ],
   "source": [
    "df_pricing_smaller.columns"
   ]
  },
  {
   "cell_type": "code",
   "execution_count": 16,
   "metadata": {
    "ExecuteTime": {
     "end_time": "2019-02-18T00:33:23.861252Z",
     "start_time": "2019-02-18T00:33:23.779749Z"
    }
   },
   "outputs": [
    {
     "data": {
      "text/html": [
       "<div>\n",
       "<style scoped>\n",
       "    .dataframe tbody tr th:only-of-type {\n",
       "        vertical-align: middle;\n",
       "    }\n",
       "\n",
       "    .dataframe tbody tr th {\n",
       "        vertical-align: top;\n",
       "    }\n",
       "\n",
       "    .dataframe thead th {\n",
       "        text-align: right;\n",
       "    }\n",
       "</style>\n",
       "<table border=\"1\" class=\"dataframe\">\n",
       "  <thead>\n",
       "    <tr style=\"text-align: right;\">\n",
       "      <th></th>\n",
       "      <th>date</th>\n",
       "    </tr>\n",
       "  </thead>\n",
       "  <tbody>\n",
       "    <tr>\n",
       "      <th>count</th>\n",
       "      <td>2573002</td>\n",
       "    </tr>\n",
       "    <tr>\n",
       "      <th>unique</th>\n",
       "      <td>389</td>\n",
       "    </tr>\n",
       "    <tr>\n",
       "      <th>top</th>\n",
       "      <td>2018-11-03 00:00:00</td>\n",
       "    </tr>\n",
       "    <tr>\n",
       "      <th>freq</th>\n",
       "      <td>9381</td>\n",
       "    </tr>\n",
       "    <tr>\n",
       "      <th>first</th>\n",
       "      <td>2018-08-06 00:00:00</td>\n",
       "    </tr>\n",
       "    <tr>\n",
       "      <th>last</th>\n",
       "      <td>2019-08-29 00:00:00</td>\n",
       "    </tr>\n",
       "  </tbody>\n",
       "</table>\n",
       "</div>"
      ],
      "text/plain": [
       "                       date\n",
       "count               2573002\n",
       "unique                  389\n",
       "top     2018-11-03 00:00:00\n",
       "freq                   9381\n",
       "first   2018-08-06 00:00:00\n",
       "last    2019-08-29 00:00:00"
      ]
     },
     "execution_count": 16,
     "metadata": {},
     "output_type": "execute_result"
    }
   ],
   "source": [
    "columns2display = ['date']\n",
    "\n",
    "df_pricing_smaller[columns2display].describe(include='all')"
   ]
  },
  {
   "cell_type": "markdown",
   "metadata": {},
   "source": [
    "## Data Format"
   ]
  },
  {
   "cell_type": "code",
   "execution_count": 10,
   "metadata": {
    "ExecuteTime": {
     "end_time": "2019-02-18T00:32:16.805792Z",
     "start_time": "2019-02-18T00:32:16.801381Z"
    }
   },
   "outputs": [],
   "source": [
    "def apply2df(df, column_names, function):\n",
    "    \"\"\"\n",
    "    This enables various functions to be applied to multiple columns of dataframe.\n",
    "    Input: dataframe, columns to apply function to, function\n",
    "    Return: updated dataframe\n",
    "    \"\"\"\n",
    "    for column in column_names:\n",
    "        df[column] = df[column].apply(lambda x: function(x))\n",
    "    return df"
   ]
  },
  {
   "cell_type": "markdown",
   "metadata": {
    "ExecuteTime": {
     "end_time": "2019-02-17T20:54:05.091473Z",
     "start_time": "2019-02-17T20:54:05.088212Z"
    }
   },
   "source": [
    "### Currency"
   ]
  },
  {
   "cell_type": "code",
   "execution_count": 11,
   "metadata": {
    "ExecuteTime": {
     "end_time": "2019-02-18T00:32:21.973544Z",
     "start_time": "2019-02-18T00:32:21.969942Z"
    }
   },
   "outputs": [],
   "source": [
    "# Noted currencies are formated as strings and need to be converted to float\n",
    "\n",
    "def currency2float(string):\n",
    "    \"\"\"\n",
    "    Convert currency to float\n",
    "    \"\"\"\n",
    "    float_ = float(str(string).strip('$').replace(',',''))\n",
    "    return float_"
   ]
  },
  {
   "cell_type": "code",
   "execution_count": 12,
   "metadata": {
    "ExecuteTime": {
     "end_time": "2019-02-18T00:32:25.557311Z",
     "start_time": "2019-02-18T00:32:22.634455Z"
    }
   },
   "outputs": [],
   "source": [
    "# Converted price to float format\n",
    "\n",
    "curriencies = ['price']\n",
    "\n",
    "df_pricing_smaller = apply2df(df_pricing_smaller, curriencies, currency2float)"
   ]
  },
  {
   "cell_type": "markdown",
   "metadata": {},
   "source": [
    "## Outliers"
   ]
  },
  {
   "cell_type": "code",
   "execution_count": 13,
   "metadata": {
    "ExecuteTime": {
     "end_time": "2019-02-18T00:32:29.065614Z",
     "start_time": "2019-02-18T00:32:28.826618Z"
    }
   },
   "outputs": [
    {
     "data": {
      "text/plain": [
       "count    2.853357e+06\n",
       "mean     2.132333e+02\n",
       "std      7.035042e+02\n",
       "min      1.000000e+01\n",
       "5%       4.100000e+01\n",
       "10%      5.400000e+01\n",
       "25%      8.000000e+01\n",
       "50%      1.350000e+02\n",
       "75%      2.250000e+02\n",
       "90%      3.850000e+02\n",
       "95%      5.500000e+02\n",
       "max      1.024520e+05\n",
       "Name: price, dtype: float64"
      ]
     },
     "execution_count": 13,
     "metadata": {},
     "output_type": "execute_result"
    }
   ],
   "source": [
    "percentiles = [0.05, 0.10, 0.25, 0.50, 0.75, 0.90, 0.95]\n",
    "\n",
    "df_pricing_smaller.price.describe(percentiles=percentiles)"
   ]
  },
  {
   "cell_type": "code",
   "execution_count": 14,
   "metadata": {
    "ExecuteTime": {
     "end_time": "2019-02-18T00:32:31.527962Z",
     "start_time": "2019-02-18T00:32:31.290266Z"
    }
   },
   "outputs": [],
   "source": [
    "# Removed outliers based on 'price'. Use 5% and 95% percentiles as cutoff\n",
    "\n",
    "five_percentile = np.percentile(df_pricing_smaller.price, 5)\n",
    "ninety_five_percentile = np.percentile(df_pricing_smaller.price, 95)\n",
    "\n",
    "df_pricing_smaller = df_pricing_smaller[(\n",
    "                        df_pricing_smaller.price>=five_percentile)\n",
    "                        & (df_pricing_smaller.price<=ninety_five_percentile)]"
   ]
  },
  {
   "cell_type": "code",
   "execution_count": 15,
   "metadata": {
    "ExecuteTime": {
     "end_time": "2019-02-18T00:32:32.416950Z",
     "start_time": "2019-02-18T00:32:32.409396Z"
    }
   },
   "outputs": [
    {
     "name": "stdout",
     "output_type": "stream",
     "text": [
      "df_pricing_smaller dimensions:  (2573002, 4)\n"
     ]
    }
   ],
   "source": [
    "print ('df_pricing_smaller dimensions: ', df_pricing_smaller.shape)"
   ]
  },
  {
   "cell_type": "markdown",
   "metadata": {
    "ExecuteTime": {
     "end_time": "2019-02-18T00:50:22.129335Z",
     "start_time": "2019-02-18T00:50:22.113843Z"
    }
   },
   "source": [
    "## Null Values"
   ]
  },
  {
   "cell_type": "code",
   "execution_count": 23,
   "metadata": {
    "ExecuteTime": {
     "end_time": "2019-02-18T00:53:26.654343Z",
     "start_time": "2019-02-18T00:53:26.230476Z"
    }
   },
   "outputs": [
    {
     "data": {
      "text/plain": [
       "listing_id    0\n",
       "date          0\n",
       "available     0\n",
       "price         0\n",
       "dtype: int64"
      ]
     },
     "execution_count": 23,
     "metadata": {},
     "output_type": "execute_result"
    }
   ],
   "source": [
    "df_pricing_smaller.isnull().sum()"
   ]
  },
  {
   "cell_type": "code",
   "execution_count": 22,
   "metadata": {
    "ExecuteTime": {
     "end_time": "2019-02-18T00:52:58.210931Z",
     "start_time": "2019-02-18T00:52:58.204592Z"
    }
   },
   "outputs": [
    {
     "data": {
      "text/plain": [
       "(2853357, 4)"
      ]
     },
     "execution_count": 22,
     "metadata": {},
     "output_type": "execute_result"
    }
   ],
   "source": [
    "df_pricing_smaller.shape"
   ]
  },
  {
   "cell_type": "code",
   "execution_count": 18,
   "metadata": {
    "ExecuteTime": {
     "end_time": "2019-02-18T00:34:12.066362Z",
     "start_time": "2019-02-18T00:34:11.866418Z"
    }
   },
   "outputs": [
    {
     "data": {
      "text/html": [
       "<div>\n",
       "<style scoped>\n",
       "    .dataframe tbody tr th:only-of-type {\n",
       "        vertical-align: middle;\n",
       "    }\n",
       "\n",
       "    .dataframe tbody tr th {\n",
       "        vertical-align: top;\n",
       "    }\n",
       "\n",
       "    .dataframe thead th {\n",
       "        text-align: right;\n",
       "    }\n",
       "</style>\n",
       "<table border=\"1\" class=\"dataframe\">\n",
       "  <thead>\n",
       "    <tr style=\"text-align: right;\">\n",
       "      <th></th>\n",
       "      <th>date</th>\n",
       "      <th>price</th>\n",
       "    </tr>\n",
       "  </thead>\n",
       "  <tbody>\n",
       "    <tr>\n",
       "      <th>count</th>\n",
       "      <td>2573002</td>\n",
       "      <td>2.573002e+06</td>\n",
       "    </tr>\n",
       "    <tr>\n",
       "      <th>unique</th>\n",
       "      <td>389</td>\n",
       "      <td>NaN</td>\n",
       "    </tr>\n",
       "    <tr>\n",
       "      <th>top</th>\n",
       "      <td>2018-11-03 00:00:00</td>\n",
       "      <td>NaN</td>\n",
       "    </tr>\n",
       "    <tr>\n",
       "      <th>freq</th>\n",
       "      <td>9381</td>\n",
       "      <td>NaN</td>\n",
       "    </tr>\n",
       "    <tr>\n",
       "      <th>first</th>\n",
       "      <td>2018-08-06 00:00:00</td>\n",
       "      <td>NaN</td>\n",
       "    </tr>\n",
       "    <tr>\n",
       "      <th>last</th>\n",
       "      <td>2019-08-29 00:00:00</td>\n",
       "      <td>NaN</td>\n",
       "    </tr>\n",
       "    <tr>\n",
       "      <th>mean</th>\n",
       "      <td>NaN</td>\n",
       "      <td>1.641822e+02</td>\n",
       "    </tr>\n",
       "    <tr>\n",
       "      <th>std</th>\n",
       "      <td>NaN</td>\n",
       "      <td>1.056804e+02</td>\n",
       "    </tr>\n",
       "    <tr>\n",
       "      <th>min</th>\n",
       "      <td>NaN</td>\n",
       "      <td>4.100000e+01</td>\n",
       "    </tr>\n",
       "    <tr>\n",
       "      <th>25%</th>\n",
       "      <td>NaN</td>\n",
       "      <td>8.500000e+01</td>\n",
       "    </tr>\n",
       "    <tr>\n",
       "      <th>50%</th>\n",
       "      <td>NaN</td>\n",
       "      <td>1.350000e+02</td>\n",
       "    </tr>\n",
       "    <tr>\n",
       "      <th>75%</th>\n",
       "      <td>NaN</td>\n",
       "      <td>2.100000e+02</td>\n",
       "    </tr>\n",
       "    <tr>\n",
       "      <th>max</th>\n",
       "      <td>NaN</td>\n",
       "      <td>5.500000e+02</td>\n",
       "    </tr>\n",
       "  </tbody>\n",
       "</table>\n",
       "</div>"
      ],
      "text/plain": [
       "                       date         price\n",
       "count               2573002  2.573002e+06\n",
       "unique                  389           NaN\n",
       "top     2018-11-03 00:00:00           NaN\n",
       "freq                   9381           NaN\n",
       "first   2018-08-06 00:00:00           NaN\n",
       "last    2019-08-29 00:00:00           NaN\n",
       "mean                    NaN  1.641822e+02\n",
       "std                     NaN  1.056804e+02\n",
       "min                     NaN  4.100000e+01\n",
       "25%                     NaN  8.500000e+01\n",
       "50%                     NaN  1.350000e+02\n",
       "75%                     NaN  2.100000e+02\n",
       "max                     NaN  5.500000e+02"
      ]
     },
     "execution_count": 18,
     "metadata": {},
     "output_type": "execute_result"
    }
   ],
   "source": [
    "columns2display = ['date', 'price']\n",
    "\n",
    "df_pricing_smaller[columns2display].describe(include='all')"
   ]
  },
  {
   "cell_type": "markdown",
   "metadata": {
    "ExecuteTime": {
     "end_time": "2019-02-16T06:10:40.512514Z",
     "start_time": "2019-02-16T06:10:40.509754Z"
    }
   },
   "source": [
    "## Seasonality Data"
   ]
  },
  {
   "cell_type": "markdown",
   "metadata": {},
   "source": [
    "### Month, DayOfWeek information"
   ]
  },
  {
   "cell_type": "code",
   "execution_count": 24,
   "metadata": {
    "ExecuteTime": {
     "end_time": "2019-02-18T00:54:50.162762Z",
     "start_time": "2019-02-18T00:54:49.711501Z"
    }
   },
   "outputs": [
    {
     "name": "stdout",
     "output_type": "stream",
     "text": [
      "df_pricing_smaller dimensions (2573002, 6)\n"
     ]
    },
    {
     "data": {
      "text/html": [
       "<div>\n",
       "<style scoped>\n",
       "    .dataframe tbody tr th:only-of-type {\n",
       "        vertical-align: middle;\n",
       "    }\n",
       "\n",
       "    .dataframe tbody tr th {\n",
       "        vertical-align: top;\n",
       "    }\n",
       "\n",
       "    .dataframe thead th {\n",
       "        text-align: right;\n",
       "    }\n",
       "</style>\n",
       "<table border=\"1\" class=\"dataframe\">\n",
       "  <thead>\n",
       "    <tr style=\"text-align: right;\">\n",
       "      <th></th>\n",
       "      <th></th>\n",
       "      <th>listing_id</th>\n",
       "      <th>date</th>\n",
       "      <th>available</th>\n",
       "      <th>price</th>\n",
       "      <th>month</th>\n",
       "      <th>day_of_week</th>\n",
       "    </tr>\n",
       "  </thead>\n",
       "  <tbody>\n",
       "    <tr>\n",
       "      <th rowspan=\"5\" valign=\"top\">pricing_sf</th>\n",
       "      <th>63</th>\n",
       "      <td>958</td>\n",
       "      <td>2019-05-02</td>\n",
       "      <td>t</td>\n",
       "      <td>181.0</td>\n",
       "      <td>5</td>\n",
       "      <td>3</td>\n",
       "    </tr>\n",
       "    <tr>\n",
       "      <th>64</th>\n",
       "      <td>958</td>\n",
       "      <td>2019-05-01</td>\n",
       "      <td>t</td>\n",
       "      <td>181.0</td>\n",
       "      <td>5</td>\n",
       "      <td>2</td>\n",
       "    </tr>\n",
       "    <tr>\n",
       "      <th>65</th>\n",
       "      <td>958</td>\n",
       "      <td>2019-04-30</td>\n",
       "      <td>t</td>\n",
       "      <td>181.0</td>\n",
       "      <td>4</td>\n",
       "      <td>1</td>\n",
       "    </tr>\n",
       "    <tr>\n",
       "      <th>66</th>\n",
       "      <td>958</td>\n",
       "      <td>2019-04-29</td>\n",
       "      <td>t</td>\n",
       "      <td>181.0</td>\n",
       "      <td>4</td>\n",
       "      <td>0</td>\n",
       "    </tr>\n",
       "    <tr>\n",
       "      <th>67</th>\n",
       "      <td>958</td>\n",
       "      <td>2019-04-28</td>\n",
       "      <td>t</td>\n",
       "      <td>181.0</td>\n",
       "      <td>4</td>\n",
       "      <td>6</td>\n",
       "    </tr>\n",
       "  </tbody>\n",
       "</table>\n",
       "</div>"
      ],
      "text/plain": [
       "               listing_id       date available  price  month  day_of_week\n",
       "pricing_sf 63         958 2019-05-02         t  181.0      5            3\n",
       "           64         958 2019-05-01         t  181.0      5            2\n",
       "           65         958 2019-04-30         t  181.0      4            1\n",
       "           66         958 2019-04-29         t  181.0      4            0\n",
       "           67         958 2019-04-28         t  181.0      4            6"
      ]
     },
     "metadata": {},
     "output_type": "display_data"
    }
   ],
   "source": [
    "# Added 'month' column to extract month of date\n",
    "# Added 'day_of_week' column to extact day of week. \n",
    "# Default format: Monday=0, Sunday=6\n",
    "\n",
    "df_pricing_smaller['month'] = df_pricing_smaller['date'].dt.month\n",
    "df_pricing_smaller['day_of_week'] = df_pricing_smaller['date'].dt.weekday\n",
    "\n",
    "\n",
    "print('df_pricing_smaller dimensions', df_pricing_smaller.shape)\n",
    "display(df_pricing_smaller.head())"
   ]
  },
  {
   "cell_type": "code",
   "execution_count": 29,
   "metadata": {
    "ExecuteTime": {
     "end_time": "2019-02-18T00:55:55.214593Z",
     "start_time": "2019-02-18T00:55:54.946718Z"
    }
   },
   "outputs": [
    {
     "data": {
      "text/plain": [
       "<matplotlib.axes._subplots.AxesSubplot at 0x1c181fe588>"
      ]
     },
     "execution_count": 29,
     "metadata": {},
     "output_type": "execute_result"
    },
    {
     "data": {
      "image/png": "[encoded data removed]",
      "text/plain": [
       "<Figure size 432x288 with 1 Axes>"
      ]
     },
     "metadata": {},
     "output_type": "display_data"
    }
   ],
   "source": [
    "df_pricing_smaller.month.hist()"
   ]
  },
  {
   "cell_type": "code",
   "execution_count": 33,
   "metadata": {
    "ExecuteTime": {
     "end_time": "2019-02-18T00:56:41.125334Z",
     "start_time": "2019-02-18T00:56:40.875188Z"
    }
   },
   "outputs": [
    {
     "data": {
      "text/plain": [
       "<matplotlib.axes._subplots.AxesSubplot at 0x1c19114a58>"
      ]
     },
     "execution_count": 33,
     "metadata": {},
     "output_type": "execute_result"
    },
    {
     "data": {
      "image/png": "[encoded data removed]",
      "text/plain": [
       "<Figure size 432x288 with 1 Axes>"
      ]
     },
     "metadata": {},
     "output_type": "display_data"
    }
   ],
   "source": [
    "df_pricing_smaller.day_of_week.hist(bins=7)"
   ]
  },
  {
   "cell_type": "markdown",
   "metadata": {},
   "source": [
    "### By Month by DayOfWeek Drill"
   ]
  },
  {
   "cell_type": "code",
   "execution_count": 34,
   "metadata": {
    "ExecuteTime": {
     "end_time": "2019-02-18T00:58:30.032688Z",
     "start_time": "2019-02-18T00:58:29.563475Z"
    }
   },
   "outputs": [
    {
     "data": {
      "text/html": [
       "<div>\n",
       "<style scoped>\n",
       "    .dataframe tbody tr th:only-of-type {\n",
       "        vertical-align: middle;\n",
       "    }\n",
       "\n",
       "    .dataframe tbody tr th {\n",
       "        vertical-align: top;\n",
       "    }\n",
       "\n",
       "    .dataframe thead th {\n",
       "        text-align: right;\n",
       "    }\n",
       "</style>\n",
       "<table border=\"1\" class=\"dataframe\">\n",
       "  <thead>\n",
       "    <tr style=\"text-align: right;\">\n",
       "      <th></th>\n",
       "      <th>listing_id</th>\n",
       "      <th>month</th>\n",
       "      <th>day_of_week</th>\n",
       "      <th>price</th>\n",
       "    </tr>\n",
       "  </thead>\n",
       "  <tbody>\n",
       "    <tr>\n",
       "      <th>0</th>\n",
       "      <td>958</td>\n",
       "      <td>1</td>\n",
       "      <td>0</td>\n",
       "      <td>180.0</td>\n",
       "    </tr>\n",
       "    <tr>\n",
       "      <th>1</th>\n",
       "      <td>958</td>\n",
       "      <td>1</td>\n",
       "      <td>1</td>\n",
       "      <td>179.5</td>\n",
       "    </tr>\n",
       "    <tr>\n",
       "      <th>2</th>\n",
       "      <td>958</td>\n",
       "      <td>1</td>\n",
       "      <td>2</td>\n",
       "      <td>179.5</td>\n",
       "    </tr>\n",
       "    <tr>\n",
       "      <th>3</th>\n",
       "      <td>958</td>\n",
       "      <td>1</td>\n",
       "      <td>3</td>\n",
       "      <td>179.0</td>\n",
       "    </tr>\n",
       "    <tr>\n",
       "      <th>4</th>\n",
       "      <td>958</td>\n",
       "      <td>1</td>\n",
       "      <td>4</td>\n",
       "      <td>183.0</td>\n",
       "    </tr>\n",
       "  </tbody>\n",
       "</table>\n",
       "</div>"
      ],
      "text/plain": [
       "   listing_id  month  day_of_week  price\n",
       "0         958      1            0  180.0\n",
       "1         958      1            1  179.5\n",
       "2         958      1            2  179.5\n",
       "3         958      1            3  179.0\n",
       "4         958      1            4  183.0"
      ]
     },
     "execution_count": 34,
     "metadata": {},
     "output_type": "execute_result"
    }
   ],
   "source": [
    "df_by_month_day = df_pricing_smaller.groupby(['listing_id', 'month', 'day_of_week'])  \\\n",
    "                                    .price.mean()  \\\n",
    "                                    .reset_index()\n",
    "df_by_month_day.head()"
   ]
  },
  {
   "cell_type": "code",
   "execution_count": null,
   "metadata": {
    "ExecuteTime": {
     "end_time": "2019-02-18T00:21:11.633276Z",
     "start_time": "2019-02-18T00:21:11.578159Z"
    }
   },
   "outputs": [],
   "source": [
    "# df_month_day_counts = df_by_month_day.groupby(['listing_id'])  \\\n",
    "#                                      .price.count()  \\\n",
    "#                                  .reset_index()\n",
    "# df_month_day_counts.rename(columns = {'price':'counts'}, inplace=True)\n",
    "# df_month_day_counts.head()"
   ]
  },
  {
   "cell_type": "code",
   "execution_count": null,
   "metadata": {
    "ExecuteTime": {
     "end_time": "2019-02-17T23:48:52.122649Z",
     "start_time": "2019-02-17T23:48:52.117230Z"
    }
   },
   "outputs": [],
   "source": [
    "# # Find out listings that have full price information (12 months and 7 days/week)\n",
    "\n",
    "# listing_with_12m_7d_price = list(df_month_day_counts[\n",
    "#                                 df_month_day_counts.counts==12*7]\n",
    "#                                 .listing_id)"
   ]
  },
  {
   "cell_type": "code",
   "execution_count": null,
   "metadata": {
    "ExecuteTime": {
     "end_time": "2019-02-17T23:49:03.666791Z",
     "start_time": "2019-02-17T23:49:03.389949Z"
    }
   },
   "outputs": [],
   "source": [
    "# df_pricing_available = df_pricing_smaller[df_pricing_smaller.listing_id.isin(\n",
    "#                                           listing_with_12m_7d_price)]\n",
    "# df_pricing_available.shape"
   ]
  },
  {
   "cell_type": "code",
   "execution_count": 35,
   "metadata": {
    "ExecuteTime": {
     "end_time": "2019-02-18T00:59:12.272161Z",
     "start_time": "2019-02-18T00:59:12.256376Z"
    }
   },
   "outputs": [],
   "source": [
    "df_pricing_available = df_by_month_day.copy()"
   ]
  },
  {
   "cell_type": "code",
   "execution_count": 36,
   "metadata": {
    "ExecuteTime": {
     "end_time": "2019-02-18T00:59:15.924303Z",
     "start_time": "2019-02-18T00:59:15.761335Z"
    }
   },
   "outputs": [
    {
     "data": {
      "text/html": [
       "<div>\n",
       "<style scoped>\n",
       "    .dataframe tbody tr th:only-of-type {\n",
       "        vertical-align: middle;\n",
       "    }\n",
       "\n",
       "    .dataframe tbody tr th {\n",
       "        vertical-align: top;\n",
       "    }\n",
       "\n",
       "    .dataframe thead th {\n",
       "        text-align: right;\n",
       "    }\n",
       "</style>\n",
       "<table border=\"1\" class=\"dataframe\">\n",
       "  <thead>\n",
       "    <tr style=\"text-align: right;\">\n",
       "      <th></th>\n",
       "      <th>listing_id</th>\n",
       "      <th>month</th>\n",
       "      <th>day_of_week</th>\n",
       "      <th>price</th>\n",
       "    </tr>\n",
       "  </thead>\n",
       "  <tbody>\n",
       "    <tr>\n",
       "      <th>count</th>\n",
       "      <td>6.848440e+05</td>\n",
       "      <td>684844.000000</td>\n",
       "      <td>684844.000000</td>\n",
       "      <td>684844.000000</td>\n",
       "    </tr>\n",
       "    <tr>\n",
       "      <th>mean</th>\n",
       "      <td>1.420659e+07</td>\n",
       "      <td>6.762311</td>\n",
       "      <td>3.006374</td>\n",
       "      <td>164.325133</td>\n",
       "    </tr>\n",
       "    <tr>\n",
       "      <th>std</th>\n",
       "      <td>8.618231e+06</td>\n",
       "      <td>3.577188</td>\n",
       "      <td>1.999795</td>\n",
       "      <td>105.814563</td>\n",
       "    </tr>\n",
       "    <tr>\n",
       "      <th>min</th>\n",
       "      <td>9.580000e+02</td>\n",
       "      <td>1.000000</td>\n",
       "      <td>0.000000</td>\n",
       "      <td>41.000000</td>\n",
       "    </tr>\n",
       "    <tr>\n",
       "      <th>25%</th>\n",
       "      <td>6.466473e+06</td>\n",
       "      <td>4.000000</td>\n",
       "      <td>1.000000</td>\n",
       "      <td>85.000000</td>\n",
       "    </tr>\n",
       "    <tr>\n",
       "      <th>50%</th>\n",
       "      <td>1.499315e+07</td>\n",
       "      <td>7.000000</td>\n",
       "      <td>3.000000</td>\n",
       "      <td>135.000000</td>\n",
       "    </tr>\n",
       "    <tr>\n",
       "      <th>75%</th>\n",
       "      <td>2.183853e+07</td>\n",
       "      <td>10.000000</td>\n",
       "      <td>5.000000</td>\n",
       "      <td>210.000000</td>\n",
       "    </tr>\n",
       "    <tr>\n",
       "      <th>max</th>\n",
       "      <td>2.815247e+07</td>\n",
       "      <td>12.000000</td>\n",
       "      <td>6.000000</td>\n",
       "      <td>550.000000</td>\n",
       "    </tr>\n",
       "  </tbody>\n",
       "</table>\n",
       "</div>"
      ],
      "text/plain": [
       "         listing_id          month    day_of_week          price\n",
       "count  6.848440e+05  684844.000000  684844.000000  684844.000000\n",
       "mean   1.420659e+07       6.762311       3.006374     164.325133\n",
       "std    8.618231e+06       3.577188       1.999795     105.814563\n",
       "min    9.580000e+02       1.000000       0.000000      41.000000\n",
       "25%    6.466473e+06       4.000000       1.000000      85.000000\n",
       "50%    1.499315e+07       7.000000       3.000000     135.000000\n",
       "75%    2.183853e+07      10.000000       5.000000     210.000000\n",
       "max    2.815247e+07      12.000000       6.000000     550.000000"
      ]
     },
     "execution_count": 36,
     "metadata": {},
     "output_type": "execute_result"
    }
   ],
   "source": [
    "df_pricing_available.describe(include='all')"
   ]
  },
  {
   "cell_type": "code",
   "execution_count": 37,
   "metadata": {
    "ExecuteTime": {
     "end_time": "2019-02-18T00:59:45.923257Z",
     "start_time": "2019-02-18T00:59:45.658222Z"
    }
   },
   "outputs": [
    {
     "data": {
      "text/html": [
       "<div>\n",
       "<style scoped>\n",
       "    .dataframe tbody tr th:only-of-type {\n",
       "        vertical-align: middle;\n",
       "    }\n",
       "\n",
       "    .dataframe tbody tr th {\n",
       "        vertical-align: top;\n",
       "    }\n",
       "\n",
       "    .dataframe thead th {\n",
       "        text-align: right;\n",
       "    }\n",
       "</style>\n",
       "<table border=\"1\" class=\"dataframe\">\n",
       "  <thead>\n",
       "    <tr style=\"text-align: right;\">\n",
       "      <th></th>\n",
       "      <th>listing_id</th>\n",
       "      <th>month</th>\n",
       "      <th>day_of_week</th>\n",
       "      <th>price</th>\n",
       "    </tr>\n",
       "  </thead>\n",
       "  <tbody>\n",
       "    <tr>\n",
       "      <th>0</th>\n",
       "      <td>958</td>\n",
       "      <td>1</td>\n",
       "      <td>0</td>\n",
       "      <td>180.0</td>\n",
       "    </tr>\n",
       "    <tr>\n",
       "      <th>1</th>\n",
       "      <td>958</td>\n",
       "      <td>1</td>\n",
       "      <td>1</td>\n",
       "      <td>179.5</td>\n",
       "    </tr>\n",
       "    <tr>\n",
       "      <th>2</th>\n",
       "      <td>958</td>\n",
       "      <td>1</td>\n",
       "      <td>2</td>\n",
       "      <td>179.5</td>\n",
       "    </tr>\n",
       "    <tr>\n",
       "      <th>3</th>\n",
       "      <td>958</td>\n",
       "      <td>1</td>\n",
       "      <td>3</td>\n",
       "      <td>179.0</td>\n",
       "    </tr>\n",
       "    <tr>\n",
       "      <th>4</th>\n",
       "      <td>958</td>\n",
       "      <td>1</td>\n",
       "      <td>4</td>\n",
       "      <td>183.0</td>\n",
       "    </tr>\n",
       "    <tr>\n",
       "      <th>5</th>\n",
       "      <td>958</td>\n",
       "      <td>1</td>\n",
       "      <td>5</td>\n",
       "      <td>185.0</td>\n",
       "    </tr>\n",
       "    <tr>\n",
       "      <th>6</th>\n",
       "      <td>958</td>\n",
       "      <td>1</td>\n",
       "      <td>6</td>\n",
       "      <td>180.0</td>\n",
       "    </tr>\n",
       "    <tr>\n",
       "      <th>7</th>\n",
       "      <td>958</td>\n",
       "      <td>2</td>\n",
       "      <td>0</td>\n",
       "      <td>179.0</td>\n",
       "    </tr>\n",
       "    <tr>\n",
       "      <th>8</th>\n",
       "      <td>958</td>\n",
       "      <td>2</td>\n",
       "      <td>1</td>\n",
       "      <td>179.0</td>\n",
       "    </tr>\n",
       "    <tr>\n",
       "      <th>9</th>\n",
       "      <td>958</td>\n",
       "      <td>2</td>\n",
       "      <td>2</td>\n",
       "      <td>179.0</td>\n",
       "    </tr>\n",
       "    <tr>\n",
       "      <th>10</th>\n",
       "      <td>958</td>\n",
       "      <td>2</td>\n",
       "      <td>3</td>\n",
       "      <td>179.0</td>\n",
       "    </tr>\n",
       "    <tr>\n",
       "      <th>11</th>\n",
       "      <td>958</td>\n",
       "      <td>2</td>\n",
       "      <td>4</td>\n",
       "      <td>188.5</td>\n",
       "    </tr>\n",
       "    <tr>\n",
       "      <th>12</th>\n",
       "      <td>958</td>\n",
       "      <td>2</td>\n",
       "      <td>5</td>\n",
       "      <td>188.0</td>\n",
       "    </tr>\n",
       "    <tr>\n",
       "      <th>13</th>\n",
       "      <td>958</td>\n",
       "      <td>2</td>\n",
       "      <td>6</td>\n",
       "      <td>179.0</td>\n",
       "    </tr>\n",
       "    <tr>\n",
       "      <th>14</th>\n",
       "      <td>958</td>\n",
       "      <td>3</td>\n",
       "      <td>0</td>\n",
       "      <td>181.0</td>\n",
       "    </tr>\n",
       "    <tr>\n",
       "      <th>15</th>\n",
       "      <td>958</td>\n",
       "      <td>3</td>\n",
       "      <td>1</td>\n",
       "      <td>181.0</td>\n",
       "    </tr>\n",
       "    <tr>\n",
       "      <th>16</th>\n",
       "      <td>958</td>\n",
       "      <td>3</td>\n",
       "      <td>2</td>\n",
       "      <td>181.0</td>\n",
       "    </tr>\n",
       "    <tr>\n",
       "      <th>17</th>\n",
       "      <td>958</td>\n",
       "      <td>3</td>\n",
       "      <td>3</td>\n",
       "      <td>181.0</td>\n",
       "    </tr>\n",
       "    <tr>\n",
       "      <th>18</th>\n",
       "      <td>958</td>\n",
       "      <td>3</td>\n",
       "      <td>4</td>\n",
       "      <td>191.0</td>\n",
       "    </tr>\n",
       "    <tr>\n",
       "      <th>19</th>\n",
       "      <td>958</td>\n",
       "      <td>3</td>\n",
       "      <td>5</td>\n",
       "      <td>191.0</td>\n",
       "    </tr>\n",
       "    <tr>\n",
       "      <th>20</th>\n",
       "      <td>958</td>\n",
       "      <td>3</td>\n",
       "      <td>6</td>\n",
       "      <td>181.0</td>\n",
       "    </tr>\n",
       "    <tr>\n",
       "      <th>21</th>\n",
       "      <td>958</td>\n",
       "      <td>4</td>\n",
       "      <td>0</td>\n",
       "      <td>181.0</td>\n",
       "    </tr>\n",
       "    <tr>\n",
       "      <th>22</th>\n",
       "      <td>958</td>\n",
       "      <td>4</td>\n",
       "      <td>1</td>\n",
       "      <td>181.0</td>\n",
       "    </tr>\n",
       "    <tr>\n",
       "      <th>23</th>\n",
       "      <td>958</td>\n",
       "      <td>4</td>\n",
       "      <td>2</td>\n",
       "      <td>181.0</td>\n",
       "    </tr>\n",
       "    <tr>\n",
       "      <th>24</th>\n",
       "      <td>958</td>\n",
       "      <td>4</td>\n",
       "      <td>3</td>\n",
       "      <td>181.0</td>\n",
       "    </tr>\n",
       "    <tr>\n",
       "      <th>25</th>\n",
       "      <td>958</td>\n",
       "      <td>4</td>\n",
       "      <td>4</td>\n",
       "      <td>191.0</td>\n",
       "    </tr>\n",
       "    <tr>\n",
       "      <th>26</th>\n",
       "      <td>958</td>\n",
       "      <td>4</td>\n",
       "      <td>5</td>\n",
       "      <td>191.0</td>\n",
       "    </tr>\n",
       "    <tr>\n",
       "      <th>27</th>\n",
       "      <td>958</td>\n",
       "      <td>4</td>\n",
       "      <td>6</td>\n",
       "      <td>181.0</td>\n",
       "    </tr>\n",
       "    <tr>\n",
       "      <th>28</th>\n",
       "      <td>958</td>\n",
       "      <td>5</td>\n",
       "      <td>2</td>\n",
       "      <td>181.0</td>\n",
       "    </tr>\n",
       "    <tr>\n",
       "      <th>29</th>\n",
       "      <td>958</td>\n",
       "      <td>5</td>\n",
       "      <td>3</td>\n",
       "      <td>181.0</td>\n",
       "    </tr>\n",
       "    <tr>\n",
       "      <th>...</th>\n",
       "      <td>...</td>\n",
       "      <td>...</td>\n",
       "      <td>...</td>\n",
       "      <td>...</td>\n",
       "    </tr>\n",
       "    <tr>\n",
       "      <th>70</th>\n",
       "      <td>3083</td>\n",
       "      <td>11</td>\n",
       "      <td>1</td>\n",
       "      <td>65.0</td>\n",
       "    </tr>\n",
       "    <tr>\n",
       "      <th>71</th>\n",
       "      <td>3083</td>\n",
       "      <td>11</td>\n",
       "      <td>2</td>\n",
       "      <td>65.0</td>\n",
       "    </tr>\n",
       "    <tr>\n",
       "      <th>72</th>\n",
       "      <td>3083</td>\n",
       "      <td>11</td>\n",
       "      <td>3</td>\n",
       "      <td>65.0</td>\n",
       "    </tr>\n",
       "    <tr>\n",
       "      <th>73</th>\n",
       "      <td>3083</td>\n",
       "      <td>11</td>\n",
       "      <td>4</td>\n",
       "      <td>65.0</td>\n",
       "    </tr>\n",
       "    <tr>\n",
       "      <th>74</th>\n",
       "      <td>3083</td>\n",
       "      <td>11</td>\n",
       "      <td>5</td>\n",
       "      <td>65.0</td>\n",
       "    </tr>\n",
       "    <tr>\n",
       "      <th>75</th>\n",
       "      <td>3083</td>\n",
       "      <td>11</td>\n",
       "      <td>6</td>\n",
       "      <td>65.0</td>\n",
       "    </tr>\n",
       "    <tr>\n",
       "      <th>76</th>\n",
       "      <td>3083</td>\n",
       "      <td>12</td>\n",
       "      <td>0</td>\n",
       "      <td>65.0</td>\n",
       "    </tr>\n",
       "    <tr>\n",
       "      <th>77</th>\n",
       "      <td>3083</td>\n",
       "      <td>12</td>\n",
       "      <td>1</td>\n",
       "      <td>65.0</td>\n",
       "    </tr>\n",
       "    <tr>\n",
       "      <th>78</th>\n",
       "      <td>3083</td>\n",
       "      <td>12</td>\n",
       "      <td>2</td>\n",
       "      <td>65.0</td>\n",
       "    </tr>\n",
       "    <tr>\n",
       "      <th>79</th>\n",
       "      <td>3083</td>\n",
       "      <td>12</td>\n",
       "      <td>3</td>\n",
       "      <td>65.0</td>\n",
       "    </tr>\n",
       "    <tr>\n",
       "      <th>80</th>\n",
       "      <td>3083</td>\n",
       "      <td>12</td>\n",
       "      <td>4</td>\n",
       "      <td>65.0</td>\n",
       "    </tr>\n",
       "    <tr>\n",
       "      <th>81</th>\n",
       "      <td>3083</td>\n",
       "      <td>12</td>\n",
       "      <td>5</td>\n",
       "      <td>65.0</td>\n",
       "    </tr>\n",
       "    <tr>\n",
       "      <th>82</th>\n",
       "      <td>3083</td>\n",
       "      <td>12</td>\n",
       "      <td>6</td>\n",
       "      <td>65.0</td>\n",
       "    </tr>\n",
       "    <tr>\n",
       "      <th>83</th>\n",
       "      <td>3264</td>\n",
       "      <td>9</td>\n",
       "      <td>0</td>\n",
       "      <td>53.0</td>\n",
       "    </tr>\n",
       "    <tr>\n",
       "      <th>84</th>\n",
       "      <td>3264</td>\n",
       "      <td>9</td>\n",
       "      <td>1</td>\n",
       "      <td>53.0</td>\n",
       "    </tr>\n",
       "    <tr>\n",
       "      <th>85</th>\n",
       "      <td>3264</td>\n",
       "      <td>9</td>\n",
       "      <td>2</td>\n",
       "      <td>53.0</td>\n",
       "    </tr>\n",
       "    <tr>\n",
       "      <th>86</th>\n",
       "      <td>3264</td>\n",
       "      <td>9</td>\n",
       "      <td>3</td>\n",
       "      <td>53.0</td>\n",
       "    </tr>\n",
       "    <tr>\n",
       "      <th>87</th>\n",
       "      <td>3264</td>\n",
       "      <td>9</td>\n",
       "      <td>4</td>\n",
       "      <td>63.0</td>\n",
       "    </tr>\n",
       "    <tr>\n",
       "      <th>88</th>\n",
       "      <td>3264</td>\n",
       "      <td>9</td>\n",
       "      <td>5</td>\n",
       "      <td>63.0</td>\n",
       "    </tr>\n",
       "    <tr>\n",
       "      <th>89</th>\n",
       "      <td>3264</td>\n",
       "      <td>9</td>\n",
       "      <td>6</td>\n",
       "      <td>53.0</td>\n",
       "    </tr>\n",
       "    <tr>\n",
       "      <th>90</th>\n",
       "      <td>3264</td>\n",
       "      <td>10</td>\n",
       "      <td>0</td>\n",
       "      <td>53.0</td>\n",
       "    </tr>\n",
       "    <tr>\n",
       "      <th>91</th>\n",
       "      <td>3264</td>\n",
       "      <td>10</td>\n",
       "      <td>1</td>\n",
       "      <td>53.0</td>\n",
       "    </tr>\n",
       "    <tr>\n",
       "      <th>92</th>\n",
       "      <td>3264</td>\n",
       "      <td>10</td>\n",
       "      <td>2</td>\n",
       "      <td>53.0</td>\n",
       "    </tr>\n",
       "    <tr>\n",
       "      <th>93</th>\n",
       "      <td>3264</td>\n",
       "      <td>10</td>\n",
       "      <td>3</td>\n",
       "      <td>53.0</td>\n",
       "    </tr>\n",
       "    <tr>\n",
       "      <th>94</th>\n",
       "      <td>3264</td>\n",
       "      <td>10</td>\n",
       "      <td>4</td>\n",
       "      <td>63.0</td>\n",
       "    </tr>\n",
       "    <tr>\n",
       "      <th>95</th>\n",
       "      <td>3264</td>\n",
       "      <td>10</td>\n",
       "      <td>5</td>\n",
       "      <td>63.0</td>\n",
       "    </tr>\n",
       "    <tr>\n",
       "      <th>96</th>\n",
       "      <td>3264</td>\n",
       "      <td>10</td>\n",
       "      <td>6</td>\n",
       "      <td>53.0</td>\n",
       "    </tr>\n",
       "    <tr>\n",
       "      <th>97</th>\n",
       "      <td>3264</td>\n",
       "      <td>11</td>\n",
       "      <td>0</td>\n",
       "      <td>53.0</td>\n",
       "    </tr>\n",
       "    <tr>\n",
       "      <th>98</th>\n",
       "      <td>3264</td>\n",
       "      <td>11</td>\n",
       "      <td>1</td>\n",
       "      <td>53.0</td>\n",
       "    </tr>\n",
       "    <tr>\n",
       "      <th>99</th>\n",
       "      <td>3264</td>\n",
       "      <td>11</td>\n",
       "      <td>2</td>\n",
       "      <td>53.0</td>\n",
       "    </tr>\n",
       "  </tbody>\n",
       "</table>\n",
       "<p>100 rows × 4 columns</p>\n",
       "</div>"
      ],
      "text/plain": [
       "    listing_id  month  day_of_week  price\n",
       "0          958      1            0  180.0\n",
       "1          958      1            1  179.5\n",
       "2          958      1            2  179.5\n",
       "3          958      1            3  179.0\n",
       "4          958      1            4  183.0\n",
       "5          958      1            5  185.0\n",
       "6          958      1            6  180.0\n",
       "7          958      2            0  179.0\n",
       "8          958      2            1  179.0\n",
       "9          958      2            2  179.0\n",
       "10         958      2            3  179.0\n",
       "11         958      2            4  188.5\n",
       "12         958      2            5  188.0\n",
       "13         958      2            6  179.0\n",
       "14         958      3            0  181.0\n",
       "15         958      3            1  181.0\n",
       "16         958      3            2  181.0\n",
       "17         958      3            3  181.0\n",
       "18         958      3            4  191.0\n",
       "19         958      3            5  191.0\n",
       "20         958      3            6  181.0\n",
       "21         958      4            0  181.0\n",
       "22         958      4            1  181.0\n",
       "23         958      4            2  181.0\n",
       "24         958      4            3  181.0\n",
       "25         958      4            4  191.0\n",
       "26         958      4            5  191.0\n",
       "27         958      4            6  181.0\n",
       "28         958      5            2  181.0\n",
       "29         958      5            3  181.0\n",
       "..         ...    ...          ...    ...\n",
       "70        3083     11            1   65.0\n",
       "71        3083     11            2   65.0\n",
       "72        3083     11            3   65.0\n",
       "73        3083     11            4   65.0\n",
       "74        3083     11            5   65.0\n",
       "75        3083     11            6   65.0\n",
       "76        3083     12            0   65.0\n",
       "77        3083     12            1   65.0\n",
       "78        3083     12            2   65.0\n",
       "79        3083     12            3   65.0\n",
       "80        3083     12            4   65.0\n",
       "81        3083     12            5   65.0\n",
       "82        3083     12            6   65.0\n",
       "83        3264      9            0   53.0\n",
       "84        3264      9            1   53.0\n",
       "85        3264      9            2   53.0\n",
       "86        3264      9            3   53.0\n",
       "87        3264      9            4   63.0\n",
       "88        3264      9            5   63.0\n",
       "89        3264      9            6   53.0\n",
       "90        3264     10            0   53.0\n",
       "91        3264     10            1   53.0\n",
       "92        3264     10            2   53.0\n",
       "93        3264     10            3   53.0\n",
       "94        3264     10            4   63.0\n",
       "95        3264     10            5   63.0\n",
       "96        3264     10            6   53.0\n",
       "97        3264     11            0   53.0\n",
       "98        3264     11            1   53.0\n",
       "99        3264     11            2   53.0\n",
       "\n",
       "[100 rows x 4 columns]"
      ]
     },
     "execution_count": 37,
     "metadata": {},
     "output_type": "execute_result"
    }
   ],
   "source": [
    "# Group by month by weekday, and calculate an average pricing\n",
    "\n",
    "df_pricing_by_month_weekday = df_pricing_available.groupby(  \\\n",
    "                              ['listing_id', 'month', 'day_of_week']) \\\n",
    "                              .price.mean()  \\\n",
    "                              .reset_index()\n",
    "df_pricing_by_month_weekday.head(100)"
   ]
  },
  {
   "cell_type": "code",
   "execution_count": 38,
   "metadata": {
    "ExecuteTime": {
     "end_time": "2019-02-18T00:59:53.636812Z",
     "start_time": "2019-02-18T00:59:53.468007Z"
    }
   },
   "outputs": [
    {
     "data": {
      "text/html": [
       "<div>\n",
       "<style scoped>\n",
       "    .dataframe tbody tr th:only-of-type {\n",
       "        vertical-align: middle;\n",
       "    }\n",
       "\n",
       "    .dataframe tbody tr th {\n",
       "        vertical-align: top;\n",
       "    }\n",
       "\n",
       "    .dataframe thead th {\n",
       "        text-align: right;\n",
       "    }\n",
       "</style>\n",
       "<table border=\"1\" class=\"dataframe\">\n",
       "  <thead>\n",
       "    <tr style=\"text-align: right;\">\n",
       "      <th></th>\n",
       "      <th>listing_id</th>\n",
       "      <th>month</th>\n",
       "      <th>day_of_week</th>\n",
       "      <th>price</th>\n",
       "    </tr>\n",
       "  </thead>\n",
       "  <tbody>\n",
       "    <tr>\n",
       "      <th>count</th>\n",
       "      <td>6.848440e+05</td>\n",
       "      <td>684844.000000</td>\n",
       "      <td>684844.000000</td>\n",
       "      <td>684844.000000</td>\n",
       "    </tr>\n",
       "    <tr>\n",
       "      <th>mean</th>\n",
       "      <td>1.420659e+07</td>\n",
       "      <td>6.762311</td>\n",
       "      <td>3.006374</td>\n",
       "      <td>164.325133</td>\n",
       "    </tr>\n",
       "    <tr>\n",
       "      <th>std</th>\n",
       "      <td>8.618231e+06</td>\n",
       "      <td>3.577188</td>\n",
       "      <td>1.999795</td>\n",
       "      <td>105.814563</td>\n",
       "    </tr>\n",
       "    <tr>\n",
       "      <th>min</th>\n",
       "      <td>9.580000e+02</td>\n",
       "      <td>1.000000</td>\n",
       "      <td>0.000000</td>\n",
       "      <td>41.000000</td>\n",
       "    </tr>\n",
       "    <tr>\n",
       "      <th>25%</th>\n",
       "      <td>6.466473e+06</td>\n",
       "      <td>4.000000</td>\n",
       "      <td>1.000000</td>\n",
       "      <td>85.000000</td>\n",
       "    </tr>\n",
       "    <tr>\n",
       "      <th>50%</th>\n",
       "      <td>1.499315e+07</td>\n",
       "      <td>7.000000</td>\n",
       "      <td>3.000000</td>\n",
       "      <td>135.000000</td>\n",
       "    </tr>\n",
       "    <tr>\n",
       "      <th>75%</th>\n",
       "      <td>2.183853e+07</td>\n",
       "      <td>10.000000</td>\n",
       "      <td>5.000000</td>\n",
       "      <td>210.000000</td>\n",
       "    </tr>\n",
       "    <tr>\n",
       "      <th>max</th>\n",
       "      <td>2.815247e+07</td>\n",
       "      <td>12.000000</td>\n",
       "      <td>6.000000</td>\n",
       "      <td>550.000000</td>\n",
       "    </tr>\n",
       "  </tbody>\n",
       "</table>\n",
       "</div>"
      ],
      "text/plain": [
       "         listing_id          month    day_of_week          price\n",
       "count  6.848440e+05  684844.000000  684844.000000  684844.000000\n",
       "mean   1.420659e+07       6.762311       3.006374     164.325133\n",
       "std    8.618231e+06       3.577188       1.999795     105.814563\n",
       "min    9.580000e+02       1.000000       0.000000      41.000000\n",
       "25%    6.466473e+06       4.000000       1.000000      85.000000\n",
       "50%    1.499315e+07       7.000000       3.000000     135.000000\n",
       "75%    2.183853e+07      10.000000       5.000000     210.000000\n",
       "max    2.815247e+07      12.000000       6.000000     550.000000"
      ]
     },
     "execution_count": 38,
     "metadata": {},
     "output_type": "execute_result"
    }
   ],
   "source": [
    "df_pricing_by_month_weekday.describe(include='all')"
   ]
  },
  {
   "cell_type": "code",
   "execution_count": 39,
   "metadata": {
    "ExecuteTime": {
     "end_time": "2019-02-18T00:59:57.959605Z",
     "start_time": "2019-02-18T00:59:57.850870Z"
    }
   },
   "outputs": [
    {
     "data": {
      "text/plain": [
       "listing_id     0\n",
       "month          0\n",
       "day_of_week    0\n",
       "price          0\n",
       "dtype: int64"
      ]
     },
     "execution_count": 39,
     "metadata": {},
     "output_type": "execute_result"
    }
   ],
   "source": [
    "# Check for null values if any\n",
    "\n",
    "df_pricing_by_month_weekday.isnull().sum()"
   ]
  },
  {
   "cell_type": "code",
   "execution_count": 40,
   "metadata": {
    "ExecuteTime": {
     "end_time": "2019-02-18T01:00:07.438240Z",
     "start_time": "2019-02-18T01:00:07.422928Z"
    }
   },
   "outputs": [],
   "source": [
    "# Rename the average price column to avoid confusion\n",
    "\n",
    "df_pricing_by_month_weekday.rename(columns={'price':'price_by_month_week'}, inplace=True)"
   ]
  },
  {
   "cell_type": "code",
   "execution_count": 41,
   "metadata": {
    "ExecuteTime": {
     "end_time": "2019-02-18T01:00:08.206529Z",
     "start_time": "2019-02-18T01:00:08.201202Z"
    }
   },
   "outputs": [
    {
     "data": {
      "text/plain": [
       "(684844, 4)"
      ]
     },
     "execution_count": 41,
     "metadata": {},
     "output_type": "execute_result"
    }
   ],
   "source": [
    "df_pricing_by_month_weekday.shape"
   ]
  },
  {
   "cell_type": "code",
   "execution_count": 42,
   "metadata": {
    "ExecuteTime": {
     "end_time": "2019-02-18T01:00:09.779754Z",
     "start_time": "2019-02-18T01:00:09.769152Z"
    }
   },
   "outputs": [
    {
     "data": {
      "text/html": [
       "<div>\n",
       "<style scoped>\n",
       "    .dataframe tbody tr th:only-of-type {\n",
       "        vertical-align: middle;\n",
       "    }\n",
       "\n",
       "    .dataframe tbody tr th {\n",
       "        vertical-align: top;\n",
       "    }\n",
       "\n",
       "    .dataframe thead th {\n",
       "        text-align: right;\n",
       "    }\n",
       "</style>\n",
       "<table border=\"1\" class=\"dataframe\">\n",
       "  <thead>\n",
       "    <tr style=\"text-align: right;\">\n",
       "      <th></th>\n",
       "      <th>listing_id</th>\n",
       "      <th>month</th>\n",
       "      <th>day_of_week</th>\n",
       "      <th>price_by_month_week</th>\n",
       "    </tr>\n",
       "  </thead>\n",
       "  <tbody>\n",
       "    <tr>\n",
       "      <th>0</th>\n",
       "      <td>958</td>\n",
       "      <td>1</td>\n",
       "      <td>0</td>\n",
       "      <td>180.0</td>\n",
       "    </tr>\n",
       "    <tr>\n",
       "      <th>1</th>\n",
       "      <td>958</td>\n",
       "      <td>1</td>\n",
       "      <td>1</td>\n",
       "      <td>179.5</td>\n",
       "    </tr>\n",
       "    <tr>\n",
       "      <th>2</th>\n",
       "      <td>958</td>\n",
       "      <td>1</td>\n",
       "      <td>2</td>\n",
       "      <td>179.5</td>\n",
       "    </tr>\n",
       "    <tr>\n",
       "      <th>3</th>\n",
       "      <td>958</td>\n",
       "      <td>1</td>\n",
       "      <td>3</td>\n",
       "      <td>179.0</td>\n",
       "    </tr>\n",
       "    <tr>\n",
       "      <th>4</th>\n",
       "      <td>958</td>\n",
       "      <td>1</td>\n",
       "      <td>4</td>\n",
       "      <td>183.0</td>\n",
       "    </tr>\n",
       "  </tbody>\n",
       "</table>\n",
       "</div>"
      ],
      "text/plain": [
       "   listing_id  month  day_of_week  price_by_month_week\n",
       "0         958      1            0                180.0\n",
       "1         958      1            1                179.5\n",
       "2         958      1            2                179.5\n",
       "3         958      1            3                179.0\n",
       "4         958      1            4                183.0"
      ]
     },
     "execution_count": 42,
     "metadata": {},
     "output_type": "execute_result"
    }
   ],
   "source": [
    "df_pricing_by_month_weekday.head()"
   ]
  },
  {
   "cell_type": "code",
   "execution_count": null,
   "metadata": {},
   "outputs": [],
   "source": []
  },
  {
   "cell_type": "markdown",
   "metadata": {
    "ExecuteTime": {
     "end_time": "2019-02-17T23:54:06.544353Z",
     "start_time": "2019-02-17T23:54:06.541120Z"
    }
   },
   "source": [
    "### Filter down to right data"
   ]
  },
  {
   "cell_type": "code",
   "execution_count": 43,
   "metadata": {
    "ExecuteTime": {
     "end_time": "2019-02-18T01:00:19.906447Z",
     "start_time": "2019-02-18T01:00:19.902202Z"
    }
   },
   "outputs": [],
   "source": [
    "def get_month(number):\n",
    "    \"\"\"\n",
    "    Given a number, return the name of month.\n",
    "    \n",
    "    \"\"\"\n",
    "    month_lookup = {1:'Jan.', 2:'Feb.', 3:'Mar.', 4:'Apr.', 5:'May.', 6:'Jun.',\n",
    "                    7:'Jul.', 8:'Aug.', 9:'Sep.', 10:'Oct.', 11:'Nov.', 12:'Dec.'}\n",
    "    \n",
    "    return month_lookup[number]"
   ]
  },
  {
   "cell_type": "code",
   "execution_count": 44,
   "metadata": {
    "ExecuteTime": {
     "end_time": "2019-02-18T01:00:26.695091Z",
     "start_time": "2019-02-18T01:00:26.691216Z"
    }
   },
   "outputs": [],
   "source": [
    "def get_weekdays(number):\n",
    "    \"\"\"\n",
    "    Given a number, return the name of month.\n",
    "    \n",
    "    \"\"\"\n",
    "    weekday_lookup = {0:'Monday', 1:'Tuesday', 2:'Wednesday', 3:'Thursday', \n",
    "                      4:'Friday', 5:'Saturday', 6:'Sunday'}\n",
    "    \n",
    "    return weekday_lookup[number]"
   ]
  },
  {
   "cell_type": "code",
   "execution_count": 45,
   "metadata": {
    "ExecuteTime": {
     "end_time": "2019-02-18T01:00:38.931961Z",
     "start_time": "2019-02-18T01:00:38.366776Z"
    }
   },
   "outputs": [],
   "source": [
    "df_pricing_by_month_weekday['month'] = df_pricing_by_month_weekday['month']  \\\n",
    "                                       .apply(lambda x: get_month(x))"
   ]
  },
  {
   "cell_type": "code",
   "execution_count": 46,
   "metadata": {
    "ExecuteTime": {
     "end_time": "2019-02-18T01:00:40.084513Z",
     "start_time": "2019-02-18T01:00:39.703015Z"
    }
   },
   "outputs": [],
   "source": [
    "df_pricing_by_month_weekday['day_of_week'] = df_pricing_by_month_weekday['day_of_week']  \\\n",
    "                                             .apply(lambda x: get_weekdays(x))"
   ]
  },
  {
   "cell_type": "code",
   "execution_count": null,
   "metadata": {},
   "outputs": [],
   "source": []
  },
  {
   "cell_type": "code",
   "execution_count": 47,
   "metadata": {
    "ExecuteTime": {
     "end_time": "2019-02-18T01:00:44.879654Z",
     "start_time": "2019-02-18T01:00:44.678474Z"
    }
   },
   "outputs": [],
   "source": [
    "df_pricing_final = pd.get_dummies(df_pricing_by_month_weekday, \n",
    "                                  prefix='',\n",
    "                                  prefix_sep='',\n",
    "                                  columns=['month', 'day_of_week'])"
   ]
  },
  {
   "cell_type": "code",
   "execution_count": 48,
   "metadata": {
    "ExecuteTime": {
     "end_time": "2019-02-18T01:00:45.714321Z",
     "start_time": "2019-02-18T01:00:45.707637Z"
    }
   },
   "outputs": [
    {
     "data": {
      "text/plain": [
       "Index(['listing_id', 'price_by_month_week', 'Apr.', 'Aug.', 'Dec.', 'Feb.',\n",
       "       'Jan.', 'Jul.', 'Jun.', 'Mar.', 'May.', 'Nov.', 'Oct.', 'Sep.',\n",
       "       'Friday', 'Monday', 'Saturday', 'Sunday', 'Thursday', 'Tuesday',\n",
       "       'Wednesday'],\n",
       "      dtype='object')"
      ]
     },
     "execution_count": 48,
     "metadata": {},
     "output_type": "execute_result"
    }
   ],
   "source": [
    "df_pricing_final.columns"
   ]
  },
  {
   "cell_type": "code",
   "execution_count": 49,
   "metadata": {
    "ExecuteTime": {
     "end_time": "2019-02-18T01:01:11.997545Z",
     "start_time": "2019-02-18T01:01:11.991753Z"
    }
   },
   "outputs": [
    {
     "data": {
      "text/plain": [
       "(684844, 21)"
      ]
     },
     "execution_count": 49,
     "metadata": {},
     "output_type": "execute_result"
    }
   ],
   "source": [
    "df_pricing_final.shape"
   ]
  },
  {
   "cell_type": "code",
   "execution_count": 52,
   "metadata": {
    "ExecuteTime": {
     "end_time": "2019-02-18T01:02:10.374355Z",
     "start_time": "2019-02-18T01:02:10.337404Z"
    }
   },
   "outputs": [
    {
     "data": {
      "text/html": [
       "<div>\n",
       "<style scoped>\n",
       "    .dataframe tbody tr th:only-of-type {\n",
       "        vertical-align: middle;\n",
       "    }\n",
       "\n",
       "    .dataframe tbody tr th {\n",
       "        vertical-align: top;\n",
       "    }\n",
       "\n",
       "    .dataframe thead th {\n",
       "        text-align: right;\n",
       "    }\n",
       "</style>\n",
       "<table border=\"1\" class=\"dataframe\">\n",
       "  <thead>\n",
       "    <tr style=\"text-align: right;\">\n",
       "      <th></th>\n",
       "      <th>id</th>\n",
       "      <th>bedrooms</th>\n",
       "      <th>cleaning_fee</th>\n",
       "      <th>room_type_Entire home/apt</th>\n",
       "      <th>city_Oakland</th>\n",
       "      <th>reviews_per_month</th>\n",
       "      <th>accommodates</th>\n",
       "      <th>bathrooms</th>\n",
       "      <th>city_San Francisco</th>\n",
       "      <th>number_of_reviews</th>\n",
       "      <th>...</th>\n",
       "      <th>amenities_Kitchen</th>\n",
       "      <th>amenities_Essentials</th>\n",
       "      <th>amenities_Stepfree access</th>\n",
       "      <th>amenities_Pets live on this property</th>\n",
       "      <th>amenities_Host greets you</th>\n",
       "      <th>neighbourhood_cleansed_Unincorporated Areas</th>\n",
       "      <th>neighbourhood_cleansed_Noe Valley</th>\n",
       "      <th>amenities_Coffee maker</th>\n",
       "      <th>ref_dist</th>\n",
       "      <th>ref_juri</th>\n",
       "    </tr>\n",
       "  </thead>\n",
       "  <tbody>\n",
       "    <tr>\n",
       "      <th>0</th>\n",
       "      <td>958</td>\n",
       "      <td>1.0</td>\n",
       "      <td>100.0</td>\n",
       "      <td>1</td>\n",
       "      <td>0</td>\n",
       "      <td>1.38</td>\n",
       "      <td>3</td>\n",
       "      <td>1.0</td>\n",
       "      <td>1</td>\n",
       "      <td>152</td>\n",
       "      <td>...</td>\n",
       "      <td>1</td>\n",
       "      <td>1</td>\n",
       "      <td>0</td>\n",
       "      <td>1</td>\n",
       "      <td>0</td>\n",
       "      <td>0</td>\n",
       "      <td>0</td>\n",
       "      <td>0</td>\n",
       "      <td>San Francisco</td>\n",
       "      <td>SAN FRANCISCO</td>\n",
       "    </tr>\n",
       "    <tr>\n",
       "      <th>1</th>\n",
       "      <td>5858</td>\n",
       "      <td>2.0</td>\n",
       "      <td>100.0</td>\n",
       "      <td>1</td>\n",
       "      <td>0</td>\n",
       "      <td>0.99</td>\n",
       "      <td>5</td>\n",
       "      <td>1.0</td>\n",
       "      <td>1</td>\n",
       "      <td>112</td>\n",
       "      <td>...</td>\n",
       "      <td>1</td>\n",
       "      <td>1</td>\n",
       "      <td>0</td>\n",
       "      <td>0</td>\n",
       "      <td>0</td>\n",
       "      <td>0</td>\n",
       "      <td>0</td>\n",
       "      <td>0</td>\n",
       "      <td>San Francisco</td>\n",
       "      <td>SAN FRANCISCO</td>\n",
       "    </tr>\n",
       "    <tr>\n",
       "      <th>2</th>\n",
       "      <td>7918</td>\n",
       "      <td>1.0</td>\n",
       "      <td>50.0</td>\n",
       "      <td>0</td>\n",
       "      <td>0</td>\n",
       "      <td>0.16</td>\n",
       "      <td>2</td>\n",
       "      <td>4.0</td>\n",
       "      <td>1</td>\n",
       "      <td>17</td>\n",
       "      <td>...</td>\n",
       "      <td>1</td>\n",
       "      <td>0</td>\n",
       "      <td>0</td>\n",
       "      <td>0</td>\n",
       "      <td>1</td>\n",
       "      <td>0</td>\n",
       "      <td>0</td>\n",
       "      <td>0</td>\n",
       "      <td>San Francisco</td>\n",
       "      <td>SAN FRANCISCO</td>\n",
       "    </tr>\n",
       "    <tr>\n",
       "      <th>3</th>\n",
       "      <td>8142</td>\n",
       "      <td>1.0</td>\n",
       "      <td>50.0</td>\n",
       "      <td>0</td>\n",
       "      <td>0</td>\n",
       "      <td>0.15</td>\n",
       "      <td>2</td>\n",
       "      <td>4.0</td>\n",
       "      <td>1</td>\n",
       "      <td>7</td>\n",
       "      <td>...</td>\n",
       "      <td>1</td>\n",
       "      <td>0</td>\n",
       "      <td>0</td>\n",
       "      <td>0</td>\n",
       "      <td>1</td>\n",
       "      <td>0</td>\n",
       "      <td>0</td>\n",
       "      <td>0</td>\n",
       "      <td>San Francisco</td>\n",
       "      <td>SAN FRANCISCO</td>\n",
       "    </tr>\n",
       "    <tr>\n",
       "      <th>4</th>\n",
       "      <td>8567</td>\n",
       "      <td>2.0</td>\n",
       "      <td>125.0</td>\n",
       "      <td>1</td>\n",
       "      <td>0</td>\n",
       "      <td>0.27</td>\n",
       "      <td>6</td>\n",
       "      <td>1.0</td>\n",
       "      <td>1</td>\n",
       "      <td>30</td>\n",
       "      <td>...</td>\n",
       "      <td>1</td>\n",
       "      <td>1</td>\n",
       "      <td>0</td>\n",
       "      <td>0</td>\n",
       "      <td>0</td>\n",
       "      <td>0</td>\n",
       "      <td>0</td>\n",
       "      <td>1</td>\n",
       "      <td>San Francisco</td>\n",
       "      <td>SAN FRANCISCO</td>\n",
       "    </tr>\n",
       "  </tbody>\n",
       "</table>\n",
       "<p>5 rows × 103 columns</p>\n",
       "</div>"
      ],
      "text/plain": [
       "     id  bedrooms  cleaning_fee  room_type_Entire home/apt  city_Oakland  \\\n",
       "0   958       1.0         100.0                          1             0   \n",
       "1  5858       2.0         100.0                          1             0   \n",
       "2  7918       1.0          50.0                          0             0   \n",
       "3  8142       1.0          50.0                          0             0   \n",
       "4  8567       2.0         125.0                          1             0   \n",
       "\n",
       "   reviews_per_month  accommodates  bathrooms  city_San Francisco  \\\n",
       "0               1.38             3        1.0                   1   \n",
       "1               0.99             5        1.0                   1   \n",
       "2               0.16             2        4.0                   1   \n",
       "3               0.15             2        4.0                   1   \n",
       "4               0.27             6        1.0                   1   \n",
       "\n",
       "   number_of_reviews      ...        amenities_Kitchen  amenities_Essentials  \\\n",
       "0                152      ...                        1                     1   \n",
       "1                112      ...                        1                     1   \n",
       "2                 17      ...                        1                     0   \n",
       "3                  7      ...                        1                     0   \n",
       "4                 30      ...                        1                     1   \n",
       "\n",
       "   amenities_Stepfree access  amenities_Pets live on this property  \\\n",
       "0                          0                                     1   \n",
       "1                          0                                     0   \n",
       "2                          0                                     0   \n",
       "3                          0                                     0   \n",
       "4                          0                                     0   \n",
       "\n",
       "   amenities_Host greets you  neighbourhood_cleansed_Unincorporated Areas  \\\n",
       "0                          0                                            0   \n",
       "1                          0                                            0   \n",
       "2                          1                                            0   \n",
       "3                          1                                            0   \n",
       "4                          0                                            0   \n",
       "\n",
       "   neighbourhood_cleansed_Noe Valley  amenities_Coffee maker       ref_dist  \\\n",
       "0                                  0                       0  San Francisco   \n",
       "1                                  0                       0  San Francisco   \n",
       "2                                  0                       0  San Francisco   \n",
       "3                                  0                       0  San Francisco   \n",
       "4                                  0                       1  San Francisco   \n",
       "\n",
       "        ref_juri  \n",
       "0  SAN FRANCISCO  \n",
       "1  SAN FRANCISCO  \n",
       "2  SAN FRANCISCO  \n",
       "3  SAN FRANCISCO  \n",
       "4  SAN FRANCISCO  \n",
       "\n",
       "[5 rows x 103 columns]"
      ]
     },
     "execution_count": 52,
     "metadata": {},
     "output_type": "execute_result"
    }
   ],
   "source": [
    "pkl_file = '/Users/xzhou/github/project_archives/files_airbnb/{}.pkl'\n",
    "\n",
    "listings = pkl_file.format('df_listings_selected_features')\n",
    "\n",
    "df_listings_features = pd.read_pickle(listings)\n",
    "df_listings_features.head()"
   ]
  },
  {
   "cell_type": "code",
   "execution_count": 53,
   "metadata": {
    "ExecuteTime": {
     "end_time": "2019-02-18T01:02:11.628460Z",
     "start_time": "2019-02-18T01:02:11.622243Z"
    }
   },
   "outputs": [
    {
     "data": {
      "text/plain": [
       "(10106, 103)"
      ]
     },
     "execution_count": 53,
     "metadata": {},
     "output_type": "execute_result"
    }
   ],
   "source": [
    "df_listings_features.shape"
   ]
  },
  {
   "cell_type": "code",
   "execution_count": 54,
   "metadata": {
    "ExecuteTime": {
     "end_time": "2019-02-18T01:02:21.720318Z",
     "start_time": "2019-02-18T01:02:21.713251Z"
    }
   },
   "outputs": [
    {
     "data": {
      "text/plain": [
       "Index(['id', 'bedrooms', 'cleaning_fee', 'room_type_Entire home/apt',\n",
       "       'city_Oakland', 'reviews_per_month', 'accommodates', 'bathrooms',\n",
       "       'city_San Francisco', 'number_of_reviews',\n",
       "       ...\n",
       "       'amenities_Kitchen', 'amenities_Essentials',\n",
       "       'amenities_Stepfree access', 'amenities_Pets live on this property',\n",
       "       'amenities_Host greets you',\n",
       "       'neighbourhood_cleansed_Unincorporated Areas',\n",
       "       'neighbourhood_cleansed_Noe Valley', 'amenities_Coffee maker',\n",
       "       'ref_dist', 'ref_juri'],\n",
       "      dtype='object', length=103)"
      ]
     },
     "execution_count": 54,
     "metadata": {},
     "output_type": "execute_result"
    }
   ],
   "source": [
    "df_listings_features.columns"
   ]
  },
  {
   "cell_type": "code",
   "execution_count": 55,
   "metadata": {
    "ExecuteTime": {
     "end_time": "2019-02-18T01:02:40.056362Z",
     "start_time": "2019-02-18T01:02:34.165286Z"
    }
   },
   "outputs": [],
   "source": [
    "df_final = pd.merge(left=df_pricing_final, \n",
    "                    right=df_listings_features,\n",
    "                    how='inner',\n",
    "                    left_on='listing_id',\n",
    "                    right_on='id')"
   ]
  },
  {
   "cell_type": "code",
   "execution_count": 56,
   "metadata": {
    "ExecuteTime": {
     "end_time": "2019-02-18T01:03:10.357929Z",
     "start_time": "2019-02-18T01:03:10.352315Z"
    }
   },
   "outputs": [
    {
     "data": {
      "text/plain": [
       "(456817, 124)"
      ]
     },
     "execution_count": 56,
     "metadata": {},
     "output_type": "execute_result"
    }
   ],
   "source": [
    "df_final.shape"
   ]
  },
  {
   "cell_type": "code",
   "execution_count": null,
   "metadata": {
    "ExecuteTime": {
     "end_time": "2019-02-18T00:28:00.160850Z",
     "start_time": "2019-02-18T00:28:00.154564Z"
    }
   },
   "outputs": [],
   "source": [
    "df_final.columns"
   ]
  },
  {
   "cell_type": "code",
   "execution_count": 58,
   "metadata": {
    "ExecuteTime": {
     "end_time": "2019-02-18T01:03:42.513262Z",
     "start_time": "2019-02-18T01:03:42.220868Z"
    }
   },
   "outputs": [],
   "source": [
    "# Drop duplicate columns\n",
    "\n",
    "df_final.drop(['id'], axis=1, inplace=True)"
   ]
  },
  {
   "cell_type": "code",
   "execution_count": 59,
   "metadata": {
    "ExecuteTime": {
     "end_time": "2019-02-18T01:03:44.116482Z",
     "start_time": "2019-02-18T01:03:44.110895Z"
    }
   },
   "outputs": [
    {
     "data": {
      "text/plain": [
       "(456817, 123)"
      ]
     },
     "execution_count": 59,
     "metadata": {},
     "output_type": "execute_result"
    }
   ],
   "source": [
    "df_final.shape"
   ]
  },
  {
   "cell_type": "markdown",
   "metadata": {
    "ExecuteTime": {
     "end_time": "2019-02-18T00:26:16.558136Z",
     "start_time": "2019-02-18T00:26:16.554923Z"
    }
   },
   "source": [
    "### Features with High Correlation"
   ]
  },
  {
   "cell_type": "code",
   "execution_count": 60,
   "metadata": {
    "ExecuteTime": {
     "end_time": "2019-02-18T01:04:10.182769Z",
     "start_time": "2019-02-18T01:03:57.730641Z"
    }
   },
   "outputs": [],
   "source": [
    "# Create correlation matrix\n",
    "# Select upper triangle of correlation matrix\n",
    "\n",
    "corr_matrix = df_final.corr().abs()\n",
    "upper = corr_matrix.where(np.triu(np.ones(corr_matrix.shape), k=1).astype(np.bool))"
   ]
  },
  {
   "cell_type": "code",
   "execution_count": 61,
   "metadata": {
    "ExecuteTime": {
     "end_time": "2019-02-18T01:04:11.999689Z",
     "start_time": "2019-02-18T01:04:11.967786Z"
    }
   },
   "outputs": [
    {
     "data": {
      "text/plain": [
       "[]"
      ]
     },
     "execution_count": 61,
     "metadata": {},
     "output_type": "execute_result"
    }
   ],
   "source": [
    "# Find index of feature columns with correlation greater than 0.90\n",
    "\n",
    "thresold = 0.90\n",
    "to_drop = [column for column in upper.columns if any(upper[column] >= thresold)]\n",
    "\n",
    "to_drop"
   ]
  },
  {
   "cell_type": "code",
   "execution_count": 62,
   "metadata": {
    "ExecuteTime": {
     "end_time": "2019-02-18T01:04:13.973638Z",
     "start_time": "2019-02-18T01:04:13.801740Z"
    }
   },
   "outputs": [],
   "source": [
    "# Drop features that have high correlation\n",
    "\n",
    "df_final.drop(to_drop, axis=1, inplace=True)"
   ]
  },
  {
   "cell_type": "code",
   "execution_count": 63,
   "metadata": {
    "ExecuteTime": {
     "end_time": "2019-02-18T01:04:15.781114Z",
     "start_time": "2019-02-18T01:04:15.775431Z"
    }
   },
   "outputs": [
    {
     "data": {
      "text/plain": [
       "(456817, 123)"
      ]
     },
     "execution_count": 63,
     "metadata": {},
     "output_type": "execute_result"
    }
   ],
   "source": [
    "df_final.shape"
   ]
  },
  {
   "cell_type": "markdown",
   "metadata": {
    "ExecuteTime": {
     "end_time": "2019-02-18T01:07:21.117262Z",
     "start_time": "2019-02-18T01:07:21.112111Z"
    }
   },
   "source": [
    "## Combined Seasonality Data with Previously Identified Features"
   ]
  },
  {
   "cell_type": "code",
   "execution_count": 64,
   "metadata": {
    "ExecuteTime": {
     "end_time": "2019-02-18T01:05:49.788511Z",
     "start_time": "2019-02-18T01:05:48.793950Z"
    }
   },
   "outputs": [],
   "source": [
    "file_updated = True\n",
    "pkl_file = '/Users/xzhou/github/project_archives/files_airbnb/{}.pkl'\n",
    "pkl_path = pkl_file.format('listings_seasonality')\n",
    "\n",
    "\n",
    "if file_updated:\n",
    "    with open(pkl_path, 'wb') as file:\n",
    "        pd.to_pickle(df_final, file)\n",
    "else:\n",
    "    try: \n",
    "        with open(pkl_path, 'rb') as file:\n",
    "            df_final = pd.read_pickle(file)\n",
    "    except:\n",
    "        with open(pkl_path, 'wb') as file:\n",
    "            pd.to_pickle(df_final, file)"
   ]
  },
  {
   "cell_type": "markdown",
   "metadata": {},
   "source": [
    "# Modeling"
   ]
  },
  {
   "cell_type": "code",
   "execution_count": 68,
   "metadata": {
    "ExecuteTime": {
     "end_time": "2019-02-18T01:08:26.787054Z",
     "start_time": "2019-02-18T01:08:26.780688Z"
    }
   },
   "outputs": [
    {
     "data": {
      "text/plain": [
       "Index(['listing_id', 'price_by_month_week', 'Apr.', 'Aug.', 'Dec.', 'Feb.',\n",
       "       'Jan.', 'Jul.', 'Jun.', 'Mar.',\n",
       "       ...\n",
       "       'amenities_Kitchen', 'amenities_Essentials',\n",
       "       'amenities_Stepfree access', 'amenities_Pets live on this property',\n",
       "       'amenities_Host greets you',\n",
       "       'neighbourhood_cleansed_Unincorporated Areas',\n",
       "       'neighbourhood_cleansed_Noe Valley', 'amenities_Coffee maker',\n",
       "       'ref_dist', 'ref_juri'],\n",
       "      dtype='object', length=123)"
      ]
     },
     "execution_count": 68,
     "metadata": {},
     "output_type": "execute_result"
    }
   ],
   "source": [
    "df_final.columns"
   ]
  },
  {
   "cell_type": "code",
   "execution_count": 84,
   "metadata": {
    "ExecuteTime": {
     "end_time": "2019-02-18T01:14:28.917422Z",
     "start_time": "2019-02-18T01:14:28.884178Z"
    }
   },
   "outputs": [
    {
     "data": {
      "text/plain": [
       "Index(['ref_dist', 'ref_juri'], dtype='object')"
      ]
     },
     "execution_count": 84,
     "metadata": {},
     "output_type": "execute_result"
    }
   ],
   "source": [
    "df_final.select_dtypes(include =['object']).columns"
   ]
  },
  {
   "cell_type": "code",
   "execution_count": 97,
   "metadata": {
    "ExecuteTime": {
     "end_time": "2019-02-18T01:17:18.319751Z",
     "start_time": "2019-02-18T01:17:17.850586Z"
    }
   },
   "outputs": [],
   "source": [
    "# Perform multiple modelings for price prediction\n",
    "# This include 'listing_id', which will be used for sampling\n",
    "\n",
    "X = df_final.drop(['price_by_month_week', 'ref_dist', 'ref_juri'], axis=1)\n",
    "y = df_final.loc[:, ['listing_id', 'price_by_month_week']]"
   ]
  },
  {
   "cell_type": "markdown",
   "metadata": {
    "ExecuteTime": {
     "end_time": "2019-02-18T01:18:22.084154Z",
     "start_time": "2019-02-18T01:18:22.081097Z"
    }
   },
   "source": [
    "## Model Preprocessing"
   ]
  },
  {
   "cell_type": "markdown",
   "metadata": {
    "ExecuteTime": {
     "end_time": "2019-02-18T01:08:15.234738Z",
     "start_time": "2019-02-18T01:08:15.231675Z"
    }
   },
   "source": [
    "### Train and Test Sets Splits"
   ]
  },
  {
   "cell_type": "code",
   "execution_count": 98,
   "metadata": {
    "ExecuteTime": {
     "end_time": "2019-02-18T01:17:22.062946Z",
     "start_time": "2019-02-18T01:17:21.039377Z"
    }
   },
   "outputs": [],
   "source": [
    "grp_by_listing_ids = df_final.groupby('listing_id').first().reset_index().listing_id"
   ]
  },
  {
   "cell_type": "code",
   "execution_count": 99,
   "metadata": {
    "ExecuteTime": {
     "end_time": "2019-02-18T01:17:24.689912Z",
     "start_time": "2019-02-18T01:17:24.683046Z"
    }
   },
   "outputs": [],
   "source": [
    "listing_ids = list (grp_by_listing_ids)"
   ]
  },
  {
   "cell_type": "code",
   "execution_count": 100,
   "metadata": {
    "ExecuteTime": {
     "end_time": "2019-02-18T01:17:29.334957Z",
     "start_time": "2019-02-18T01:17:29.324431Z"
    }
   },
   "outputs": [
    {
     "name": "stdout",
     "output_type": "stream",
     "text": [
      "6957\n"
     ]
    },
    {
     "data": {
      "text/plain": [
       "array([16206116,  3279918,  4581743, ...,  4719139, 21382535, 16406043])"
      ]
     },
     "execution_count": 100,
     "metadata": {},
     "output_type": "execute_result"
    }
   ],
   "source": [
    "num_of_grps = len(grp_by_listing_ids)\n",
    "\n",
    "training_ids = np.random.choice(listing_ids, int(num_of_grps*0.75), replace=False)\n",
    "print(len(training_ids))\n",
    "training_ids"
   ]
  },
  {
   "cell_type": "code",
   "execution_count": 101,
   "metadata": {
    "ExecuteTime": {
     "end_time": "2019-02-18T01:17:32.157375Z",
     "start_time": "2019-02-18T01:17:32.146369Z"
    }
   },
   "outputs": [
    {
     "data": {
      "text/plain": [
       "2319"
      ]
     },
     "execution_count": 101,
     "metadata": {},
     "output_type": "execute_result"
    }
   ],
   "source": [
    "testing_ids = set(grp_by_listing_ids) - set (training_ids)\n",
    "len(testing_ids)"
   ]
  },
  {
   "cell_type": "code",
   "execution_count": 102,
   "metadata": {
    "ExecuteTime": {
     "end_time": "2019-02-18T01:17:35.568507Z",
     "start_time": "2019-02-18T01:17:34.989408Z"
    }
   },
   "outputs": [
    {
     "name": "stdout",
     "output_type": "stream",
     "text": [
      "343410 113407 343410 113407\n"
     ]
    }
   ],
   "source": [
    "X_train = X[X['listing_id'].isin(training_ids)].drop('listing_id', axis=1)\n",
    "X_test = X[X['listing_id'].isin(testing_ids)].drop('listing_id', axis=1)\n",
    "y_train = y[y['listing_id'].isin(training_ids)].drop('listing_id', axis=1).values.ravel()\n",
    "y_test = y[y['listing_id'].isin(testing_ids)].drop('listing_id', axis=1).values.ravel()\n",
    "\n",
    "print(len(X_train), len(X_test), len(y_train), len(y_test))"
   ]
  },
  {
   "cell_type": "markdown",
   "metadata": {
    "ExecuteTime": {
     "end_time": "2019-02-18T01:17:48.722476Z",
     "start_time": "2019-02-18T01:17:48.718285Z"
    }
   },
   "source": [
    "### Feature Normalization"
   ]
  },
  {
   "cell_type": "code",
   "execution_count": 103,
   "metadata": {
    "ExecuteTime": {
     "end_time": "2019-02-18T01:17:41.522369Z",
     "start_time": "2019-02-18T01:17:38.473790Z"
    }
   },
   "outputs": [],
   "source": [
    "ss = StandardScaler()\n",
    "X_train_trans = ss.fit_transform(X_train)\n",
    "X_test_trans = ss.transform (X_test)"
   ]
  },
  {
   "cell_type": "markdown",
   "metadata": {},
   "source": [
    "## Linear Regression"
   ]
  },
  {
   "cell_type": "code",
   "execution_count": 106,
   "metadata": {
    "ExecuteTime": {
     "end_time": "2019-02-18T01:19:13.489775Z",
     "start_time": "2019-02-18T01:19:06.128214Z"
    }
   },
   "outputs": [
    {
     "data": {
      "text/html": [
       "<table class=\"simpletable\">\n",
       "<caption>OLS Regression Results</caption>\n",
       "<tr>\n",
       "  <th>Dep. Variable:</th>            <td>y</td>        <th>  R-squared:         </th>  <td>   0.672</td>  \n",
       "</tr>\n",
       "<tr>\n",
       "  <th>Model:</th>                   <td>OLS</td>       <th>  Adj. R-squared:    </th>  <td>   0.672</td>  \n",
       "</tr>\n",
       "<tr>\n",
       "  <th>Method:</th>             <td>Least Squares</td>  <th>  F-statistic:       </th>  <td>   5958.</td>  \n",
       "</tr>\n",
       "<tr>\n",
       "  <th>Date:</th>             <td>Sun, 17 Feb 2019</td> <th>  Prob (F-statistic):</th>   <td>  0.00</td>   \n",
       "</tr>\n",
       "<tr>\n",
       "  <th>Time:</th>                 <td>17:19:13</td>     <th>  Log-Likelihood:    </th> <td>-1.8786e+06</td>\n",
       "</tr>\n",
       "<tr>\n",
       "  <th>No. Observations:</th>      <td>343410</td>      <th>  AIC:               </th>  <td>3.757e+06</td> \n",
       "</tr>\n",
       "<tr>\n",
       "  <th>Df Residuals:</th>          <td>343291</td>      <th>  BIC:               </th>  <td>3.759e+06</td> \n",
       "</tr>\n",
       "<tr>\n",
       "  <th>Df Model:</th>              <td>   118</td>      <th>                     </th>      <td> </td>     \n",
       "</tr>\n",
       "<tr>\n",
       "  <th>Covariance Type:</th>      <td>nonrobust</td>    <th>                     </th>      <td> </td>     \n",
       "</tr>\n",
       "</table>\n",
       "<table class=\"simpletable\">\n",
       "<tr>\n",
       "    <td></td>       <th>coef</th>     <th>std err</th>      <th>t</th>      <th>P>|t|</th>  <th>[0.025</th>    <th>0.975]</th>  \n",
       "</tr>\n",
       "<tr>\n",
       "  <th>const</th> <td>  159.6497</td> <td>    0.098</td> <td> 1626.402</td> <td> 0.000</td> <td>  159.457</td> <td>  159.842</td>\n",
       "</tr>\n",
       "<tr>\n",
       "  <th>x1</th>    <td>  7.77e+09</td> <td> 2.66e+11</td> <td>    0.029</td> <td> 0.977</td> <td>-5.13e+11</td> <td> 5.29e+11</td>\n",
       "</tr>\n",
       "<tr>\n",
       "  <th>x2</th>    <td> 8.754e+09</td> <td>    3e+11</td> <td>    0.029</td> <td> 0.977</td> <td>-5.78e+11</td> <td> 5.96e+11</td>\n",
       "</tr>\n",
       "<tr>\n",
       "  <th>x3</th>    <td> 8.816e+09</td> <td> 3.02e+11</td> <td>    0.029</td> <td> 0.977</td> <td>-5.82e+11</td> <td>    6e+11</td>\n",
       "</tr>\n",
       "<tr>\n",
       "  <th>x4</th>    <td> 8.481e+09</td> <td>  2.9e+11</td> <td>    0.029</td> <td> 0.977</td> <td> -5.6e+11</td> <td> 5.77e+11</td>\n",
       "</tr>\n",
       "<tr>\n",
       "  <th>x5</th>    <td> 8.854e+09</td> <td> 3.03e+11</td> <td>    0.029</td> <td> 0.977</td> <td>-5.85e+11</td> <td> 6.03e+11</td>\n",
       "</tr>\n",
       "<tr>\n",
       "  <th>x6</th>    <td> 7.467e+09</td> <td> 2.56e+11</td> <td>    0.029</td> <td> 0.977</td> <td>-4.93e+11</td> <td> 5.08e+11</td>\n",
       "</tr>\n",
       "<tr>\n",
       "  <th>x7</th>    <td>  7.46e+09</td> <td> 2.55e+11</td> <td>    0.029</td> <td> 0.977</td> <td>-4.93e+11</td> <td> 5.08e+11</td>\n",
       "</tr>\n",
       "<tr>\n",
       "  <th>x8</th>    <td> 7.758e+09</td> <td> 2.65e+11</td> <td>    0.029</td> <td> 0.977</td> <td>-5.13e+11</td> <td> 5.28e+11</td>\n",
       "</tr>\n",
       "<tr>\n",
       "  <th>x9</th>    <td> 7.681e+09</td> <td> 2.63e+11</td> <td>    0.029</td> <td> 0.977</td> <td>-5.07e+11</td> <td> 5.23e+11</td>\n",
       "</tr>\n",
       "<tr>\n",
       "  <th>x10</th>   <td> 9.258e+09</td> <td> 3.17e+11</td> <td>    0.029</td> <td> 0.977</td> <td>-6.12e+11</td> <td>  6.3e+11</td>\n",
       "</tr>\n",
       "<tr>\n",
       "  <th>x11</th>   <td> 9.217e+09</td> <td> 3.15e+11</td> <td>    0.029</td> <td> 0.977</td> <td>-6.09e+11</td> <td> 6.27e+11</td>\n",
       "</tr>\n",
       "<tr>\n",
       "  <th>x12</th>   <td> 8.784e+09</td> <td> 3.01e+11</td> <td>    0.029</td> <td> 0.977</td> <td> -5.8e+11</td> <td> 5.98e+11</td>\n",
       "</tr>\n",
       "<tr>\n",
       "  <th>x13</th>   <td> 1.626e+11</td> <td> 2.06e+12</td> <td>    0.079</td> <td> 0.937</td> <td>-3.88e+12</td> <td> 4.21e+12</td>\n",
       "</tr>\n",
       "<tr>\n",
       "  <th>x14</th>   <td> 1.623e+11</td> <td> 2.06e+12</td> <td>    0.079</td> <td> 0.937</td> <td>-3.88e+12</td> <td>  4.2e+12</td>\n",
       "</tr>\n",
       "<tr>\n",
       "  <th>x15</th>   <td> 1.615e+11</td> <td> 2.05e+12</td> <td>    0.079</td> <td> 0.937</td> <td>-3.86e+12</td> <td> 4.18e+12</td>\n",
       "</tr>\n",
       "<tr>\n",
       "  <th>x16</th>   <td> 1.623e+11</td> <td> 2.06e+12</td> <td>    0.079</td> <td> 0.937</td> <td>-3.88e+12</td> <td>  4.2e+12</td>\n",
       "</tr>\n",
       "<tr>\n",
       "  <th>x17</th>   <td> 1.626e+11</td> <td> 2.06e+12</td> <td>    0.079</td> <td> 0.937</td> <td>-3.88e+12</td> <td> 4.21e+12</td>\n",
       "</tr>\n",
       "<tr>\n",
       "  <th>x18</th>   <td> 1.612e+11</td> <td> 2.05e+12</td> <td>    0.079</td> <td> 0.937</td> <td>-3.85e+12</td> <td> 4.17e+12</td>\n",
       "</tr>\n",
       "<tr>\n",
       "  <th>x19</th>   <td> 1.613e+11</td> <td> 2.05e+12</td> <td>    0.079</td> <td> 0.937</td> <td>-3.85e+12</td> <td> 4.18e+12</td>\n",
       "</tr>\n",
       "<tr>\n",
       "  <th>x20</th>   <td>   24.2569</td> <td>    0.177</td> <td>  137.031</td> <td> 0.000</td> <td>   23.910</td> <td>   24.604</td>\n",
       "</tr>\n",
       "<tr>\n",
       "  <th>x21</th>   <td>   12.3285</td> <td>    0.141</td> <td>   87.593</td> <td> 0.000</td> <td>   12.053</td> <td>   12.604</td>\n",
       "</tr>\n",
       "<tr>\n",
       "  <th>x22</th>   <td>   25.1768</td> <td>    0.155</td> <td>  162.792</td> <td> 0.000</td> <td>   24.874</td> <td>   25.480</td>\n",
       "</tr>\n",
       "<tr>\n",
       "  <th>x23</th>   <td>    1.2809</td> <td>    0.436</td> <td>    2.938</td> <td> 0.003</td> <td>    0.426</td> <td>    2.135</td>\n",
       "</tr>\n",
       "<tr>\n",
       "  <th>x24</th>   <td>   -7.6837</td> <td>    0.177</td> <td>  -43.409</td> <td> 0.000</td> <td>   -8.031</td> <td>   -7.337</td>\n",
       "</tr>\n",
       "<tr>\n",
       "  <th>x25</th>   <td>   26.5091</td> <td>    0.228</td> <td>  116.163</td> <td> 0.000</td> <td>   26.062</td> <td>   26.956</td>\n",
       "</tr>\n",
       "<tr>\n",
       "  <th>x26</th>   <td>    3.3912</td> <td>    0.119</td> <td>   28.615</td> <td> 0.000</td> <td>    3.159</td> <td>    3.624</td>\n",
       "</tr>\n",
       "<tr>\n",
       "  <th>x27</th>   <td>   20.0273</td> <td>    0.606</td> <td>   33.047</td> <td> 0.000</td> <td>   18.840</td> <td>   21.215</td>\n",
       "</tr>\n",
       "<tr>\n",
       "  <th>x28</th>   <td>   -0.5846</td> <td>    0.184</td> <td>   -3.184</td> <td> 0.001</td> <td>   -0.945</td> <td>   -0.225</td>\n",
       "</tr>\n",
       "<tr>\n",
       "  <th>x29</th>   <td>    5.0917</td> <td>    0.146</td> <td>   34.773</td> <td> 0.000</td> <td>    4.805</td> <td>    5.379</td>\n",
       "</tr>\n",
       "<tr>\n",
       "  <th>x30</th>   <td>    7.5970</td> <td>    0.210</td> <td>   36.162</td> <td> 0.000</td> <td>    7.185</td> <td>    8.009</td>\n",
       "</tr>\n",
       "<tr>\n",
       "  <th>x31</th>   <td>   -0.1428</td> <td>    0.131</td> <td>   -1.094</td> <td> 0.274</td> <td>   -0.399</td> <td>    0.113</td>\n",
       "</tr>\n",
       "<tr>\n",
       "  <th>x32</th>   <td>    4.9808</td> <td>    0.127</td> <td>   39.292</td> <td> 0.000</td> <td>    4.732</td> <td>    5.229</td>\n",
       "</tr>\n",
       "<tr>\n",
       "  <th>x33</th>   <td>    6.8538</td> <td>    0.130</td> <td>   52.546</td> <td> 0.000</td> <td>    6.598</td> <td>    7.109</td>\n",
       "</tr>\n",
       "<tr>\n",
       "  <th>x34</th>   <td>   -9.8371</td> <td>    0.150</td> <td>  -65.546</td> <td> 0.000</td> <td>  -10.131</td> <td>   -9.543</td>\n",
       "</tr>\n",
       "<tr>\n",
       "  <th>x35</th>   <td>   -2.8543</td> <td>    0.171</td> <td>  -16.667</td> <td> 0.000</td> <td>   -3.190</td> <td>   -2.519</td>\n",
       "</tr>\n",
       "<tr>\n",
       "  <th>x36</th>   <td>   -6.2538</td> <td>    0.197</td> <td>  -31.744</td> <td> 0.000</td> <td>   -6.640</td> <td>   -5.868</td>\n",
       "</tr>\n",
       "<tr>\n",
       "  <th>x37</th>   <td>   -1.7983</td> <td>    0.173</td> <td>  -10.368</td> <td> 0.000</td> <td>   -2.138</td> <td>   -1.458</td>\n",
       "</tr>\n",
       "<tr>\n",
       "  <th>x38</th>   <td>    2.8266</td> <td>    0.104</td> <td>   27.264</td> <td> 0.000</td> <td>    2.623</td> <td>    3.030</td>\n",
       "</tr>\n",
       "<tr>\n",
       "  <th>x39</th>   <td>    4.2356</td> <td>    0.110</td> <td>   38.665</td> <td> 0.000</td> <td>    4.021</td> <td>    4.450</td>\n",
       "</tr>\n",
       "<tr>\n",
       "  <th>x40</th>   <td>   -9.3801</td> <td>    0.159</td> <td>  -59.036</td> <td> 0.000</td> <td>   -9.691</td> <td>   -9.069</td>\n",
       "</tr>\n",
       "<tr>\n",
       "  <th>x41</th>   <td>    4.7448</td> <td>    0.117</td> <td>   40.486</td> <td> 0.000</td> <td>    4.515</td> <td>    4.975</td>\n",
       "</tr>\n",
       "<tr>\n",
       "  <th>x42</th>   <td>    5.0994</td> <td>    0.145</td> <td>   35.056</td> <td> 0.000</td> <td>    4.814</td> <td>    5.384</td>\n",
       "</tr>\n",
       "<tr>\n",
       "  <th>x43</th>   <td>   18.4818</td> <td>    0.417</td> <td>   44.337</td> <td> 0.000</td> <td>   17.665</td> <td>   19.299</td>\n",
       "</tr>\n",
       "<tr>\n",
       "  <th>x44</th>   <td>    4.7897</td> <td>    0.582</td> <td>    8.227</td> <td> 0.000</td> <td>    3.649</td> <td>    5.931</td>\n",
       "</tr>\n",
       "<tr>\n",
       "  <th>x45</th>   <td>   -2.4907</td> <td>    0.142</td> <td>  -17.533</td> <td> 0.000</td> <td>   -2.769</td> <td>   -2.212</td>\n",
       "</tr>\n",
       "<tr>\n",
       "  <th>x46</th>   <td>    7.9577</td> <td>    0.120</td> <td>   66.176</td> <td> 0.000</td> <td>    7.722</td> <td>    8.193</td>\n",
       "</tr>\n",
       "<tr>\n",
       "  <th>x47</th>   <td>    1.2694</td> <td>    0.120</td> <td>   10.565</td> <td> 0.000</td> <td>    1.034</td> <td>    1.505</td>\n",
       "</tr>\n",
       "<tr>\n",
       "  <th>x48</th>   <td>    4.2513</td> <td>    0.151</td> <td>   28.079</td> <td> 0.000</td> <td>    3.955</td> <td>    4.548</td>\n",
       "</tr>\n",
       "<tr>\n",
       "  <th>x49</th>   <td>    4.8550</td> <td>    0.127</td> <td>   38.213</td> <td> 0.000</td> <td>    4.606</td> <td>    5.104</td>\n",
       "</tr>\n",
       "<tr>\n",
       "  <th>x50</th>   <td>    0.2158</td> <td>    0.129</td> <td>    1.679</td> <td> 0.093</td> <td>   -0.036</td> <td>    0.468</td>\n",
       "</tr>\n",
       "<tr>\n",
       "  <th>x51</th>   <td>   -3.8891</td> <td>    0.116</td> <td>  -33.442</td> <td> 0.000</td> <td>   -4.117</td> <td>   -3.661</td>\n",
       "</tr>\n",
       "<tr>\n",
       "  <th>x52</th>   <td>   -0.2240</td> <td>    0.119</td> <td>   -1.881</td> <td> 0.060</td> <td>   -0.458</td> <td>    0.009</td>\n",
       "</tr>\n",
       "<tr>\n",
       "  <th>x53</th>   <td>    0.7862</td> <td>    0.114</td> <td>    6.908</td> <td> 0.000</td> <td>    0.563</td> <td>    1.009</td>\n",
       "</tr>\n",
       "<tr>\n",
       "  <th>x54</th>   <td>   -2.0636</td> <td>    0.113</td> <td>  -18.254</td> <td> 0.000</td> <td>   -2.285</td> <td>   -1.842</td>\n",
       "</tr>\n",
       "<tr>\n",
       "  <th>x55</th>   <td>   -3.6810</td> <td>    0.127</td> <td>  -29.059</td> <td> 0.000</td> <td>   -3.929</td> <td>   -3.433</td>\n",
       "</tr>\n",
       "<tr>\n",
       "  <th>x56</th>   <td>   -0.8966</td> <td>    0.126</td> <td>   -7.126</td> <td> 0.000</td> <td>   -1.143</td> <td>   -0.650</td>\n",
       "</tr>\n",
       "<tr>\n",
       "  <th>x57</th>   <td>    2.4038</td> <td>    0.151</td> <td>   15.967</td> <td> 0.000</td> <td>    2.109</td> <td>    2.699</td>\n",
       "</tr>\n",
       "<tr>\n",
       "  <th>x58</th>   <td>    2.2809</td> <td>    0.125</td> <td>   18.230</td> <td> 0.000</td> <td>    2.036</td> <td>    2.526</td>\n",
       "</tr>\n",
       "<tr>\n",
       "  <th>x59</th>   <td>    0.7254</td> <td>    0.130</td> <td>    5.583</td> <td> 0.000</td> <td>    0.471</td> <td>    0.980</td>\n",
       "</tr>\n",
       "<tr>\n",
       "  <th>x60</th>   <td>    2.1473</td> <td>    0.124</td> <td>   17.258</td> <td> 0.000</td> <td>    1.903</td> <td>    2.391</td>\n",
       "</tr>\n",
       "<tr>\n",
       "  <th>x61</th>   <td>    3.3418</td> <td>    0.113</td> <td>   29.606</td> <td> 0.000</td> <td>    3.121</td> <td>    3.563</td>\n",
       "</tr>\n",
       "<tr>\n",
       "  <th>x62</th>   <td>   -0.3282</td> <td>    0.112</td> <td>   -2.935</td> <td> 0.003</td> <td>   -0.547</td> <td>   -0.109</td>\n",
       "</tr>\n",
       "<tr>\n",
       "  <th>x63</th>   <td>   -4.5434</td> <td>    0.163</td> <td>  -27.811</td> <td> 0.000</td> <td>   -4.864</td> <td>   -4.223</td>\n",
       "</tr>\n",
       "<tr>\n",
       "  <th>x64</th>   <td>   -3.2518</td> <td>    0.116</td> <td>  -27.925</td> <td> 0.000</td> <td>   -3.480</td> <td>   -3.024</td>\n",
       "</tr>\n",
       "<tr>\n",
       "  <th>x65</th>   <td>    2.8630</td> <td>    0.111</td> <td>   25.849</td> <td> 0.000</td> <td>    2.646</td> <td>    3.080</td>\n",
       "</tr>\n",
       "<tr>\n",
       "  <th>x66</th>   <td>    2.5925</td> <td>    0.104</td> <td>   24.970</td> <td> 0.000</td> <td>    2.389</td> <td>    2.796</td>\n",
       "</tr>\n",
       "<tr>\n",
       "  <th>x67</th>   <td>   -1.5044</td> <td>    0.104</td> <td>  -14.444</td> <td> 0.000</td> <td>   -1.709</td> <td>   -1.300</td>\n",
       "</tr>\n",
       "<tr>\n",
       "  <th>x68</th>   <td>    4.9536</td> <td>    0.105</td> <td>   47.181</td> <td> 0.000</td> <td>    4.748</td> <td>    5.159</td>\n",
       "</tr>\n",
       "<tr>\n",
       "  <th>x69</th>   <td>    1.6769</td> <td>    0.120</td> <td>   13.961</td> <td> 0.000</td> <td>    1.441</td> <td>    1.912</td>\n",
       "</tr>\n",
       "<tr>\n",
       "  <th>x70</th>   <td>   -0.1494</td> <td>    0.119</td> <td>   -1.250</td> <td> 0.211</td> <td>   -0.384</td> <td>    0.085</td>\n",
       "</tr>\n",
       "<tr>\n",
       "  <th>x71</th>   <td>   -0.2089</td> <td>    0.119</td> <td>   -1.755</td> <td> 0.079</td> <td>   -0.442</td> <td>    0.024</td>\n",
       "</tr>\n",
       "<tr>\n",
       "  <th>x72</th>   <td>    4.2404</td> <td>    0.195</td> <td>   21.775</td> <td> 0.000</td> <td>    3.859</td> <td>    4.622</td>\n",
       "</tr>\n",
       "<tr>\n",
       "  <th>x73</th>   <td>    3.1955</td> <td>    0.166</td> <td>   19.254</td> <td> 0.000</td> <td>    2.870</td> <td>    3.521</td>\n",
       "</tr>\n",
       "<tr>\n",
       "  <th>x74</th>   <td>   -0.6423</td> <td>    0.146</td> <td>   -4.412</td> <td> 0.000</td> <td>   -0.928</td> <td>   -0.357</td>\n",
       "</tr>\n",
       "<tr>\n",
       "  <th>x75</th>   <td>    2.5866</td> <td>    0.103</td> <td>   24.999</td> <td> 0.000</td> <td>    2.384</td> <td>    2.789</td>\n",
       "</tr>\n",
       "<tr>\n",
       "  <th>x76</th>   <td>  -18.2726</td> <td>    0.454</td> <td>  -40.287</td> <td> 0.000</td> <td>  -19.162</td> <td>  -17.384</td>\n",
       "</tr>\n",
       "<tr>\n",
       "  <th>x77</th>   <td>   -1.5883</td> <td>    0.116</td> <td>  -13.658</td> <td> 0.000</td> <td>   -1.816</td> <td>   -1.360</td>\n",
       "</tr>\n",
       "<tr>\n",
       "  <th>x78</th>   <td>    3.7321</td> <td>    0.105</td> <td>   35.474</td> <td> 0.000</td> <td>    3.526</td> <td>    3.938</td>\n",
       "</tr>\n",
       "<tr>\n",
       "  <th>x79</th>   <td>   -0.6945</td> <td>    0.166</td> <td>   -4.180</td> <td> 0.000</td> <td>   -1.020</td> <td>   -0.369</td>\n",
       "</tr>\n",
       "<tr>\n",
       "  <th>x80</th>   <td>   -1.6350</td> <td>    0.106</td> <td>  -15.416</td> <td> 0.000</td> <td>   -1.843</td> <td>   -1.427</td>\n",
       "</tr>\n",
       "<tr>\n",
       "  <th>x81</th>   <td>    7.2782</td> <td>    0.801</td> <td>    9.086</td> <td> 0.000</td> <td>    5.708</td> <td>    8.848</td>\n",
       "</tr>\n",
       "<tr>\n",
       "  <th>x82</th>   <td>  -19.6231</td> <td>    0.454</td> <td>  -43.248</td> <td> 0.000</td> <td>  -20.512</td> <td>  -18.734</td>\n",
       "</tr>\n",
       "<tr>\n",
       "  <th>x83</th>   <td>    4.2145</td> <td>    0.115</td> <td>   36.493</td> <td> 0.000</td> <td>    3.988</td> <td>    4.441</td>\n",
       "</tr>\n",
       "<tr>\n",
       "  <th>x84</th>   <td>    1.0939</td> <td>    0.114</td> <td>    9.573</td> <td> 0.000</td> <td>    0.870</td> <td>    1.318</td>\n",
       "</tr>\n",
       "<tr>\n",
       "  <th>x85</th>   <td>    1.5794</td> <td>    0.196</td> <td>    8.071</td> <td> 0.000</td> <td>    1.196</td> <td>    1.963</td>\n",
       "</tr>\n",
       "<tr>\n",
       "  <th>x86</th>   <td>   -1.4968</td> <td>    0.145</td> <td>  -10.340</td> <td> 0.000</td> <td>   -1.780</td> <td>   -1.213</td>\n",
       "</tr>\n",
       "<tr>\n",
       "  <th>x87</th>   <td>    3.3235</td> <td>    0.106</td> <td>   31.349</td> <td> 0.000</td> <td>    3.116</td> <td>    3.531</td>\n",
       "</tr>\n",
       "<tr>\n",
       "  <th>x88</th>   <td>   -4.4200</td> <td>    0.159</td> <td>  -27.848</td> <td> 0.000</td> <td>   -4.731</td> <td>   -4.109</td>\n",
       "</tr>\n",
       "<tr>\n",
       "  <th>x89</th>   <td>    2.7323</td> <td>    0.691</td> <td>    3.957</td> <td> 0.000</td> <td>    1.379</td> <td>    4.086</td>\n",
       "</tr>\n",
       "<tr>\n",
       "  <th>x90</th>   <td>    3.8533</td> <td>    0.101</td> <td>   38.176</td> <td> 0.000</td> <td>    3.656</td> <td>    4.051</td>\n",
       "</tr>\n",
       "<tr>\n",
       "  <th>x91</th>   <td>    0.5921</td> <td>    0.104</td> <td>    5.695</td> <td> 0.000</td> <td>    0.388</td> <td>    0.796</td>\n",
       "</tr>\n",
       "<tr>\n",
       "  <th>x92</th>   <td>   -1.2225</td> <td>    0.161</td> <td>   -7.612</td> <td> 0.000</td> <td>   -1.537</td> <td>   -0.908</td>\n",
       "</tr>\n",
       "<tr>\n",
       "  <th>x93</th>   <td>   -0.2022</td> <td>    0.111</td> <td>   -1.822</td> <td> 0.068</td> <td>   -0.420</td> <td>    0.015</td>\n",
       "</tr>\n",
       "<tr>\n",
       "  <th>x94</th>   <td>    4.3306</td> <td>    0.109</td> <td>   39.837</td> <td> 0.000</td> <td>    4.118</td> <td>    4.544</td>\n",
       "</tr>\n",
       "<tr>\n",
       "  <th>x95</th>   <td>   -0.4825</td> <td>    0.112</td> <td>   -4.323</td> <td> 0.000</td> <td>   -0.701</td> <td>   -0.264</td>\n",
       "</tr>\n",
       "<tr>\n",
       "  <th>x96</th>   <td>    4.2251</td> <td>    0.102</td> <td>   41.467</td> <td> 0.000</td> <td>    4.025</td> <td>    4.425</td>\n",
       "</tr>\n",
       "<tr>\n",
       "  <th>x97</th>   <td>   -1.5293</td> <td>    0.170</td> <td>   -9.011</td> <td> 0.000</td> <td>   -1.862</td> <td>   -1.197</td>\n",
       "</tr>\n",
       "<tr>\n",
       "  <th>x98</th>   <td>    5.3843</td> <td>    0.107</td> <td>   50.500</td> <td> 0.000</td> <td>    5.175</td> <td>    5.593</td>\n",
       "</tr>\n",
       "<tr>\n",
       "  <th>x99</th>   <td>  -15.8167</td> <td>    0.354</td> <td>  -44.630</td> <td> 0.000</td> <td>  -16.511</td> <td>  -15.122</td>\n",
       "</tr>\n",
       "<tr>\n",
       "  <th>x100</th>  <td>    6.4313</td> <td>    0.115</td> <td>   56.129</td> <td> 0.000</td> <td>    6.207</td> <td>    6.656</td>\n",
       "</tr>\n",
       "<tr>\n",
       "  <th>x101</th>  <td>    0.5831</td> <td>    0.183</td> <td>    3.178</td> <td> 0.001</td> <td>    0.223</td> <td>    0.943</td>\n",
       "</tr>\n",
       "<tr>\n",
       "  <th>x102</th>  <td>    0.8407</td> <td>    0.102</td> <td>    8.228</td> <td> 0.000</td> <td>    0.640</td> <td>    1.041</td>\n",
       "</tr>\n",
       "<tr>\n",
       "  <th>x103</th>  <td>   -0.8052</td> <td>    0.131</td> <td>   -6.157</td> <td> 0.000</td> <td>   -1.062</td> <td>   -0.549</td>\n",
       "</tr>\n",
       "<tr>\n",
       "  <th>x104</th>  <td>    2.9778</td> <td>    0.128</td> <td>   23.353</td> <td> 0.000</td> <td>    2.728</td> <td>    3.228</td>\n",
       "</tr>\n",
       "<tr>\n",
       "  <th>x105</th>  <td>    0.0942</td> <td>    0.137</td> <td>    0.689</td> <td> 0.491</td> <td>   -0.174</td> <td>    0.362</td>\n",
       "</tr>\n",
       "<tr>\n",
       "  <th>x106</th>  <td>   -0.2138</td> <td>    0.121</td> <td>   -1.771</td> <td> 0.077</td> <td>   -0.450</td> <td>    0.023</td>\n",
       "</tr>\n",
       "<tr>\n",
       "  <th>x107</th>  <td>    1.7162</td> <td>    0.493</td> <td>    3.479</td> <td> 0.001</td> <td>    0.749</td> <td>    2.683</td>\n",
       "</tr>\n",
       "<tr>\n",
       "  <th>x108</th>  <td>   -3.9672</td> <td>    0.134</td> <td>  -29.496</td> <td> 0.000</td> <td>   -4.231</td> <td>   -3.704</td>\n",
       "</tr>\n",
       "<tr>\n",
       "  <th>x109</th>  <td>   -1.6551</td> <td>    0.152</td> <td>  -10.919</td> <td> 0.000</td> <td>   -1.952</td> <td>   -1.358</td>\n",
       "</tr>\n",
       "<tr>\n",
       "  <th>x110</th>  <td>    0.5934</td> <td>    0.130</td> <td>    4.557</td> <td> 0.000</td> <td>    0.338</td> <td>    0.849</td>\n",
       "</tr>\n",
       "<tr>\n",
       "  <th>x111</th>  <td>    1.6178</td> <td>    0.105</td> <td>   15.427</td> <td> 0.000</td> <td>    1.412</td> <td>    1.823</td>\n",
       "</tr>\n",
       "<tr>\n",
       "  <th>x112</th>  <td>   -0.7284</td> <td>    0.115</td> <td>   -6.353</td> <td> 0.000</td> <td>   -0.953</td> <td>   -0.504</td>\n",
       "</tr>\n",
       "<tr>\n",
       "  <th>x113</th>  <td>   -0.2652</td> <td>    0.114</td> <td>   -2.330</td> <td> 0.020</td> <td>   -0.488</td> <td>   -0.042</td>\n",
       "</tr>\n",
       "<tr>\n",
       "  <th>x114</th>  <td>   -3.7113</td> <td>    0.113</td> <td>  -32.873</td> <td> 0.000</td> <td>   -3.933</td> <td>   -3.490</td>\n",
       "</tr>\n",
       "<tr>\n",
       "  <th>x115</th>  <td>   -1.0185</td> <td>    0.108</td> <td>   -9.439</td> <td> 0.000</td> <td>   -1.230</td> <td>   -0.807</td>\n",
       "</tr>\n",
       "<tr>\n",
       "  <th>x116</th>  <td>   -0.9006</td> <td>    0.118</td> <td>   -7.624</td> <td> 0.000</td> <td>   -1.132</td> <td>   -0.669</td>\n",
       "</tr>\n",
       "<tr>\n",
       "  <th>x117</th>  <td>   -3.6084</td> <td>    0.148</td> <td>  -24.386</td> <td> 0.000</td> <td>   -3.898</td> <td>   -3.318</td>\n",
       "</tr>\n",
       "<tr>\n",
       "  <th>x118</th>  <td>    3.7470</td> <td>    0.103</td> <td>   36.215</td> <td> 0.000</td> <td>    3.544</td> <td>    3.950</td>\n",
       "</tr>\n",
       "<tr>\n",
       "  <th>x119</th>  <td>   -0.0368</td> <td>    0.158</td> <td>   -0.233</td> <td> 0.816</td> <td>   -0.347</td> <td>    0.273</td>\n",
       "</tr>\n",
       "</table>\n",
       "<table class=\"simpletable\">\n",
       "<tr>\n",
       "  <th>Omnibus:</th>       <td>64347.102</td> <th>  Durbin-Watson:     </th>  <td>   0.102</td> \n",
       "</tr>\n",
       "<tr>\n",
       "  <th>Prob(Omnibus):</th>  <td> 0.000</td>   <th>  Jarque-Bera (JB):  </th> <td>218397.284</td>\n",
       "</tr>\n",
       "<tr>\n",
       "  <th>Skew:</th>           <td> 0.940</td>   <th>  Prob(JB):          </th>  <td>    0.00</td> \n",
       "</tr>\n",
       "<tr>\n",
       "  <th>Kurtosis:</th>       <td> 6.424</td>   <th>  Cond. No.          </th>  <td>1.53e+14</td> \n",
       "</tr>\n",
       "</table><br/><br/>Warnings:<br/>[1] Standard Errors assume that the covariance matrix of the errors is correctly specified.<br/>[2] The smallest eigenvalue is 1.12e-22. This might indicate that there are<br/>strong multicollinearity problems or that the design matrix is singular."
      ],
      "text/plain": [
       "<class 'statsmodels.iolib.summary.Summary'>\n",
       "\"\"\"\n",
       "                            OLS Regression Results                            \n",
       "==============================================================================\n",
       "Dep. Variable:                      y   R-squared:                       0.672\n",
       "Model:                            OLS   Adj. R-squared:                  0.672\n",
       "Method:                 Least Squares   F-statistic:                     5958.\n",
       "Date:                Sun, 17 Feb 2019   Prob (F-statistic):               0.00\n",
       "Time:                        17:19:13   Log-Likelihood:            -1.8786e+06\n",
       "No. Observations:              343410   AIC:                         3.757e+06\n",
       "Df Residuals:                  343291   BIC:                         3.759e+06\n",
       "Df Model:                         118                                         \n",
       "Covariance Type:            nonrobust                                         \n",
       "==============================================================================\n",
       "                 coef    std err          t      P>|t|      [0.025      0.975]\n",
       "------------------------------------------------------------------------------\n",
       "const        159.6497      0.098   1626.402      0.000     159.457     159.842\n",
       "x1           7.77e+09   2.66e+11      0.029      0.977   -5.13e+11    5.29e+11\n",
       "x2          8.754e+09      3e+11      0.029      0.977   -5.78e+11    5.96e+11\n",
       "x3          8.816e+09   3.02e+11      0.029      0.977   -5.82e+11       6e+11\n",
       "x4          8.481e+09    2.9e+11      0.029      0.977    -5.6e+11    5.77e+11\n",
       "x5          8.854e+09   3.03e+11      0.029      0.977   -5.85e+11    6.03e+11\n",
       "x6          7.467e+09   2.56e+11      0.029      0.977   -4.93e+11    5.08e+11\n",
       "x7           7.46e+09   2.55e+11      0.029      0.977   -4.93e+11    5.08e+11\n",
       "x8          7.758e+09   2.65e+11      0.029      0.977   -5.13e+11    5.28e+11\n",
       "x9          7.681e+09   2.63e+11      0.029      0.977   -5.07e+11    5.23e+11\n",
       "x10         9.258e+09   3.17e+11      0.029      0.977   -6.12e+11     6.3e+11\n",
       "x11         9.217e+09   3.15e+11      0.029      0.977   -6.09e+11    6.27e+11\n",
       "x12         8.784e+09   3.01e+11      0.029      0.977    -5.8e+11    5.98e+11\n",
       "x13         1.626e+11   2.06e+12      0.079      0.937   -3.88e+12    4.21e+12\n",
       "x14         1.623e+11   2.06e+12      0.079      0.937   -3.88e+12     4.2e+12\n",
       "x15         1.615e+11   2.05e+12      0.079      0.937   -3.86e+12    4.18e+12\n",
       "x16         1.623e+11   2.06e+12      0.079      0.937   -3.88e+12     4.2e+12\n",
       "x17         1.626e+11   2.06e+12      0.079      0.937   -3.88e+12    4.21e+12\n",
       "x18         1.612e+11   2.05e+12      0.079      0.937   -3.85e+12    4.17e+12\n",
       "x19         1.613e+11   2.05e+12      0.079      0.937   -3.85e+12    4.18e+12\n",
       "x20           24.2569      0.177    137.031      0.000      23.910      24.604\n",
       "x21           12.3285      0.141     87.593      0.000      12.053      12.604\n",
       "x22           25.1768      0.155    162.792      0.000      24.874      25.480\n",
       "x23            1.2809      0.436      2.938      0.003       0.426       2.135\n",
       "x24           -7.6837      0.177    -43.409      0.000      -8.031      -7.337\n",
       "x25           26.5091      0.228    116.163      0.000      26.062      26.956\n",
       "x26            3.3912      0.119     28.615      0.000       3.159       3.624\n",
       "x27           20.0273      0.606     33.047      0.000      18.840      21.215\n",
       "x28           -0.5846      0.184     -3.184      0.001      -0.945      -0.225\n",
       "x29            5.0917      0.146     34.773      0.000       4.805       5.379\n",
       "x30            7.5970      0.210     36.162      0.000       7.185       8.009\n",
       "x31           -0.1428      0.131     -1.094      0.274      -0.399       0.113\n",
       "x32            4.9808      0.127     39.292      0.000       4.732       5.229\n",
       "x33            6.8538      0.130     52.546      0.000       6.598       7.109\n",
       "x34           -9.8371      0.150    -65.546      0.000     -10.131      -9.543\n",
       "x35           -2.8543      0.171    -16.667      0.000      -3.190      -2.519\n",
       "x36           -6.2538      0.197    -31.744      0.000      -6.640      -5.868\n",
       "x37           -1.7983      0.173    -10.368      0.000      -2.138      -1.458\n",
       "x38            2.8266      0.104     27.264      0.000       2.623       3.030\n",
       "x39            4.2356      0.110     38.665      0.000       4.021       4.450\n",
       "x40           -9.3801      0.159    -59.036      0.000      -9.691      -9.069\n",
       "x41            4.7448      0.117     40.486      0.000       4.515       4.975\n",
       "x42            5.0994      0.145     35.056      0.000       4.814       5.384\n",
       "x43           18.4818      0.417     44.337      0.000      17.665      19.299\n",
       "x44            4.7897      0.582      8.227      0.000       3.649       5.931\n",
       "x45           -2.4907      0.142    -17.533      0.000      -2.769      -2.212\n",
       "x46            7.9577      0.120     66.176      0.000       7.722       8.193\n",
       "x47            1.2694      0.120     10.565      0.000       1.034       1.505\n",
       "x48            4.2513      0.151     28.079      0.000       3.955       4.548\n",
       "x49            4.8550      0.127     38.213      0.000       4.606       5.104\n",
       "x50            0.2158      0.129      1.679      0.093      -0.036       0.468\n",
       "x51           -3.8891      0.116    -33.442      0.000      -4.117      -3.661\n",
       "x52           -0.2240      0.119     -1.881      0.060      -0.458       0.009\n",
       "x53            0.7862      0.114      6.908      0.000       0.563       1.009\n",
       "x54           -2.0636      0.113    -18.254      0.000      -2.285      -1.842\n",
       "x55           -3.6810      0.127    -29.059      0.000      -3.929      -3.433\n",
       "x56           -0.8966      0.126     -7.126      0.000      -1.143      -0.650\n",
       "x57            2.4038      0.151     15.967      0.000       2.109       2.699\n",
       "x58            2.2809      0.125     18.230      0.000       2.036       2.526\n",
       "x59            0.7254      0.130      5.583      0.000       0.471       0.980\n",
       "x60            2.1473      0.124     17.258      0.000       1.903       2.391\n",
       "x61            3.3418      0.113     29.606      0.000       3.121       3.563\n",
       "x62           -0.3282      0.112     -2.935      0.003      -0.547      -0.109\n",
       "x63           -4.5434      0.163    -27.811      0.000      -4.864      -4.223\n",
       "x64           -3.2518      0.116    -27.925      0.000      -3.480      -3.024\n",
       "x65            2.8630      0.111     25.849      0.000       2.646       3.080\n",
       "x66            2.5925      0.104     24.970      0.000       2.389       2.796\n",
       "x67           -1.5044      0.104    -14.444      0.000      -1.709      -1.300\n",
       "x68            4.9536      0.105     47.181      0.000       4.748       5.159\n",
       "x69            1.6769      0.120     13.961      0.000       1.441       1.912\n",
       "x70           -0.1494      0.119     -1.250      0.211      -0.384       0.085\n",
       "x71           -0.2089      0.119     -1.755      0.079      -0.442       0.024\n",
       "x72            4.2404      0.195     21.775      0.000       3.859       4.622\n",
       "x73            3.1955      0.166     19.254      0.000       2.870       3.521\n",
       "x74           -0.6423      0.146     -4.412      0.000      -0.928      -0.357\n",
       "x75            2.5866      0.103     24.999      0.000       2.384       2.789\n",
       "x76          -18.2726      0.454    -40.287      0.000     -19.162     -17.384\n",
       "x77           -1.5883      0.116    -13.658      0.000      -1.816      -1.360\n",
       "x78            3.7321      0.105     35.474      0.000       3.526       3.938\n",
       "x79           -0.6945      0.166     -4.180      0.000      -1.020      -0.369\n",
       "x80           -1.6350      0.106    -15.416      0.000      -1.843      -1.427\n",
       "x81            7.2782      0.801      9.086      0.000       5.708       8.848\n",
       "x82          -19.6231      0.454    -43.248      0.000     -20.512     -18.734\n",
       "x83            4.2145      0.115     36.493      0.000       3.988       4.441\n",
       "x84            1.0939      0.114      9.573      0.000       0.870       1.318\n",
       "x85            1.5794      0.196      8.071      0.000       1.196       1.963\n",
       "x86           -1.4968      0.145    -10.340      0.000      -1.780      -1.213\n",
       "x87            3.3235      0.106     31.349      0.000       3.116       3.531\n",
       "x88           -4.4200      0.159    -27.848      0.000      -4.731      -4.109\n",
       "x89            2.7323      0.691      3.957      0.000       1.379       4.086\n",
       "x90            3.8533      0.101     38.176      0.000       3.656       4.051\n",
       "x91            0.5921      0.104      5.695      0.000       0.388       0.796\n",
       "x92           -1.2225      0.161     -7.612      0.000      -1.537      -0.908\n",
       "x93           -0.2022      0.111     -1.822      0.068      -0.420       0.015\n",
       "x94            4.3306      0.109     39.837      0.000       4.118       4.544\n",
       "x95           -0.4825      0.112     -4.323      0.000      -0.701      -0.264\n",
       "x96            4.2251      0.102     41.467      0.000       4.025       4.425\n",
       "x97           -1.5293      0.170     -9.011      0.000      -1.862      -1.197\n",
       "x98            5.3843      0.107     50.500      0.000       5.175       5.593\n",
       "x99          -15.8167      0.354    -44.630      0.000     -16.511     -15.122\n",
       "x100           6.4313      0.115     56.129      0.000       6.207       6.656\n",
       "x101           0.5831      0.183      3.178      0.001       0.223       0.943\n",
       "x102           0.8407      0.102      8.228      0.000       0.640       1.041\n",
       "x103          -0.8052      0.131     -6.157      0.000      -1.062      -0.549\n",
       "x104           2.9778      0.128     23.353      0.000       2.728       3.228\n",
       "x105           0.0942      0.137      0.689      0.491      -0.174       0.362\n",
       "x106          -0.2138      0.121     -1.771      0.077      -0.450       0.023\n",
       "x107           1.7162      0.493      3.479      0.001       0.749       2.683\n",
       "x108          -3.9672      0.134    -29.496      0.000      -4.231      -3.704\n",
       "x109          -1.6551      0.152    -10.919      0.000      -1.952      -1.358\n",
       "x110           0.5934      0.130      4.557      0.000       0.338       0.849\n",
       "x111           1.6178      0.105     15.427      0.000       1.412       1.823\n",
       "x112          -0.7284      0.115     -6.353      0.000      -0.953      -0.504\n",
       "x113          -0.2652      0.114     -2.330      0.020      -0.488      -0.042\n",
       "x114          -3.7113      0.113    -32.873      0.000      -3.933      -3.490\n",
       "x115          -1.0185      0.108     -9.439      0.000      -1.230      -0.807\n",
       "x116          -0.9006      0.118     -7.624      0.000      -1.132      -0.669\n",
       "x117          -3.6084      0.148    -24.386      0.000      -3.898      -3.318\n",
       "x118           3.7470      0.103     36.215      0.000       3.544       3.950\n",
       "x119          -0.0368      0.158     -0.233      0.816      -0.347       0.273\n",
       "==============================================================================\n",
       "Omnibus:                    64347.102   Durbin-Watson:                   0.102\n",
       "Prob(Omnibus):                  0.000   Jarque-Bera (JB):           218397.284\n",
       "Skew:                           0.940   Prob(JB):                         0.00\n",
       "Kurtosis:                       6.424   Cond. No.                     1.53e+14\n",
       "==============================================================================\n",
       "\n",
       "Warnings:\n",
       "[1] Standard Errors assume that the covariance matrix of the errors is correctly specified.\n",
       "[2] The smallest eigenvalue is 1.12e-22. This might indicate that there are\n",
       "strong multicollinearity problems or that the design matrix is singular.\n",
       "\"\"\""
      ]
     },
     "execution_count": 106,
     "metadata": {},
     "output_type": "execute_result"
    }
   ],
   "source": [
    "# Model-LR\n",
    "\n",
    "model=sm.OLS(y_train, sm.add_constant(X_train_trans))\n",
    "fit=model.fit()\n",
    "fit.summary()"
   ]
  },
  {
   "cell_type": "markdown",
   "metadata": {},
   "source": [
    "## Random Forest"
   ]
  },
  {
   "cell_type": "code",
   "execution_count": null,
   "metadata": {
    "ExecuteTime": {
     "start_time": "2019-02-18T01:19:47.296Z"
    }
   },
   "outputs": [],
   "source": [
    "# Model-Random Forest\n",
    "\n",
    "rf = RandomForestRegressor(n_estimators=100, \n",
    "                           criterion='mse', \n",
    "                           random_state=42, \n",
    "                           verbose=1,\n",
    "                           n_jobs=-1)\n",
    "rf.fit(X_train_trans, y_train.ravel())\n",
    "\n",
    "y_train_pred = rf.predict(X_train_trans)\n",
    "y_test_pred = rf.predict(X_test_trans)\n",
    "\n",
    "print('MSE train: %.3f, test: %.3f' % (\n",
    "        mean_squared_error(y_train, y_train_pred),\n",
    "        mean_squared_error(y_test, y_test_pred)))\n",
    "print('R^2 train: %.3f, test: %.3f' % (\n",
    "        r2_score(y_train, y_train_pred),\n",
    "        r2_score(y_test, y_test_pred)))"
   ]
  },
  {
   "cell_type": "code",
   "execution_count": null,
   "metadata": {
    "ExecuteTime": {
     "end_time": "2019-02-17T07:15:30.418928Z",
     "start_time": "2019-02-17T07:15:30.396856Z"
    }
   },
   "outputs": [],
   "source": [
    "RMSE = 1043.202**0.5\n",
    "RMSE"
   ]
  },
  {
   "cell_type": "code",
   "execution_count": null,
   "metadata": {
    "ExecuteTime": {
     "end_time": "2019-02-17T07:15:35.687639Z",
     "start_time": "2019-02-17T07:15:35.661859Z"
    }
   },
   "outputs": [],
   "source": [
    "df_final.listing_id.nunique()"
   ]
  },
  {
   "cell_type": "code",
   "execution_count": null,
   "metadata": {
    "ExecuteTime": {
     "end_time": "2019-02-17T07:15:41.038373Z",
     "start_time": "2019-02-17T07:15:40.753802Z"
    }
   },
   "outputs": [],
   "source": [
    "# Double check on price range. The range is as expected\n",
    "\n",
    "y.describe(include='all')"
   ]
  },
  {
   "cell_type": "code",
   "execution_count": null,
   "metadata": {
    "ExecuteTime": {
     "end_time": "2019-02-17T07:15:48.972377Z",
     "start_time": "2019-02-17T07:15:48.450764Z"
    }
   },
   "outputs": [],
   "source": [
    "# Map feature importance with labels\n",
    "\n",
    "feature_labels = X.columns\n",
    "feature_tuples = zip (feature_labels, rf.feature_importances_)\n",
    "feature_lists = [list(feature_tuple) for feature_tuple in feature_tuples]"
   ]
  },
  {
   "cell_type": "code",
   "execution_count": null,
   "metadata": {
    "ExecuteTime": {
     "end_time": "2019-02-17T07:15:54.227605Z",
     "start_time": "2019-02-17T07:15:54.215380Z"
    }
   },
   "outputs": [],
   "source": [
    "# Order features based on importance\n",
    "\n",
    "feature_lists.sort(key=lambda x: abs(x[1]), reverse=True)\n",
    "feature_lists"
   ]
  },
  {
   "cell_type": "code",
   "execution_count": null,
   "metadata": {
    "ExecuteTime": {
     "end_time": "2019-02-17T07:16:07.190231Z",
     "start_time": "2019-02-17T07:16:07.181677Z"
    }
   },
   "outputs": [],
   "source": [
    "features = [list_[0] for list_ in feature_lists]\n",
    "features"
   ]
  },
  {
   "cell_type": "code",
   "execution_count": null,
   "metadata": {
    "ExecuteTime": {
     "end_time": "2019-02-17T07:16:20.056458Z",
     "start_time": "2019-02-17T07:16:20.052548Z"
    }
   },
   "outputs": [],
   "source": [
    "columns =['listing_id']\n",
    "columns.extend(features)\n",
    "columns.extend(['ref_district', 'ref_jurisdiction', 'price_by_month_week'])"
   ]
  },
  {
   "cell_type": "code",
   "execution_count": null,
   "metadata": {
    "ExecuteTime": {
     "end_time": "2019-02-17T07:16:25.297070Z",
     "start_time": "2019-02-17T07:16:25.230294Z"
    }
   },
   "outputs": [],
   "source": [
    "df_data = df_final[columns]\n",
    "df_data.head()"
   ]
  },
  {
   "cell_type": "code",
   "execution_count": null,
   "metadata": {
    "ExecuteTime": {
     "end_time": "2018-09-17T22:38:53.449764Z",
     "start_time": "2018-09-17T22:38:53.442621Z"
    }
   },
   "outputs": [],
   "source": [
    "df_data.shape"
   ]
  },
  {
   "cell_type": "code",
   "execution_count": null,
   "metadata": {
    "ExecuteTime": {
     "end_time": "2018-09-17T22:38:56.566129Z",
     "start_time": "2018-09-17T22:38:56.288147Z"
    }
   },
   "outputs": [],
   "source": [
    "df_data.rename(columns={'price_by_month_week':'price'}, inplace=True)"
   ]
  },
  {
   "cell_type": "code",
   "execution_count": null,
   "metadata": {
    "ExecuteTime": {
     "end_time": "2018-09-17T22:38:59.578990Z",
     "start_time": "2018-09-17T22:38:59.287780Z"
    }
   },
   "outputs": [],
   "source": [
    "df_data.isnull().sum()"
   ]
  },
  {
   "cell_type": "code",
   "execution_count": null,
   "metadata": {
    "ExecuteTime": {
     "end_time": "2018-09-17T22:47:55.787349Z",
     "start_time": "2018-09-17T22:47:38.185171Z"
    },
    "scrolled": false
   },
   "outputs": [],
   "source": [
    "temp_df = df_data[['Monday', 'Tuesday', 'Wednesday', 'Thursday', 'Friday', 'Saturday', 'Sunday']].copy()\n",
    "\n",
    "days = temp_df.apply(lambda x: x.idxmax(), axis=1)\n",
    "days"
   ]
  },
  {
   "cell_type": "code",
   "execution_count": null,
   "metadata": {
    "ExecuteTime": {
     "end_time": "2018-09-17T22:12:55.258059Z",
     "start_time": "2018-09-17T22:12:27.019Z"
    }
   },
   "outputs": [],
   "source": [
    "csv_file = '/Users/xzhou/github/project_archives/files_airbnb/{}.csv'\n",
    "\n",
    "csv_path = csv_file.format('airbnb_data')\n",
    "\n",
    "df_data.to_csv(csv_path)"
   ]
  },
  {
   "cell_type": "code",
   "execution_count": null,
   "metadata": {},
   "outputs": [],
   "source": []
  },
  {
   "cell_type": "code",
   "execution_count": null,
   "metadata": {
    "ExecuteTime": {
     "end_time": "2019-02-16T06:17:06.744029Z",
     "start_time": "2019-02-16T06:17:06.527886Z"
    }
   },
   "outputs": [],
   "source": [
    "# This is to create visual to show seasonality\n",
    "\n",
    "df_visual = pd.merge(left=df_pricing_by_month_weekday, \n",
    "                    right=df_listings_reviews,\n",
    "                    how='inner',\n",
    "                    left_on='listing_id',\n",
    "                    right_on='id')"
   ]
  },
  {
   "cell_type": "code",
   "execution_count": null,
   "metadata": {
    "ExecuteTime": {
     "end_time": "2019-02-16T06:17:07.585839Z",
     "start_time": "2019-02-16T06:17:07.580166Z"
    }
   },
   "outputs": [],
   "source": [
    "df_visual.shape"
   ]
  },
  {
   "cell_type": "code",
   "execution_count": null,
   "metadata": {
    "ExecuteTime": {
     "end_time": "2019-02-16T06:17:08.338245Z",
     "start_time": "2019-02-16T06:17:08.332513Z"
    }
   },
   "outputs": [],
   "source": [
    "df_visual.columns"
   ]
  },
  {
   "cell_type": "code",
   "execution_count": null,
   "metadata": {},
   "outputs": [],
   "source": []
  },
  {
   "cell_type": "code",
   "execution_count": null,
   "metadata": {
    "ExecuteTime": {
     "end_time": "2019-02-16T06:17:15.308923Z",
     "start_time": "2019-02-16T06:17:15.045878Z"
    }
   },
   "outputs": [],
   "source": [
    "df_visual_entire_apartment = df_visual[df_visual['room_type_Entire home/apt']==1 ]\n",
    "df_visual_single_room = df_visual[df_visual['room_type_Entire home/apt']!=1 ]\n",
    "\n",
    "print(df_visual_entire_apartment.shape, df_visual_single_room.shape )"
   ]
  },
  {
   "cell_type": "code",
   "execution_count": null,
   "metadata": {
    "ExecuteTime": {
     "end_time": "2019-02-16T06:17:15.881772Z",
     "start_time": "2019-02-16T06:17:15.873422Z"
    }
   },
   "outputs": [],
   "source": [
    "df_visual_entire_apartment.ref_district.describe"
   ]
  },
  {
   "cell_type": "code",
   "execution_count": null,
   "metadata": {
    "ExecuteTime": {
     "end_time": "2019-02-16T06:17:18.344646Z",
     "start_time": "2019-02-16T06:17:18.297939Z"
    }
   },
   "outputs": [],
   "source": [
    "df_visual_entire_apartment_sf = df_visual_entire_apartment[df_visual_entire_apartment['ref_district']=='San Francisco']\n",
    "df_visual_entire_apartment_scz = df_visual_entire_apartment[df_visual_entire_apartment['ref_district']=='Santa Clara']\n",
    "\n",
    "print(df_visual_entire_apartment_sf.shape, df_visual_entire_apartment_scz.shape )"
   ]
  },
  {
   "cell_type": "code",
   "execution_count": null,
   "metadata": {
    "ExecuteTime": {
     "end_time": "2019-02-16T06:17:19.184677Z",
     "start_time": "2019-02-16T06:17:19.177815Z"
    }
   },
   "outputs": [],
   "source": [
    "df_visual_entire_apartment_sf.id.nunique()"
   ]
  },
  {
   "cell_type": "code",
   "execution_count": null,
   "metadata": {
    "ExecuteTime": {
     "end_time": "2019-02-16T06:17:19.951679Z",
     "start_time": "2019-02-16T06:17:19.945768Z"
    }
   },
   "outputs": [],
   "source": [
    "df_visual_entire_apartment_scz.id.nunique()"
   ]
  },
  {
   "cell_type": "code",
   "execution_count": null,
   "metadata": {
    "ExecuteTime": {
     "end_time": "2019-02-16T06:17:21.157330Z",
     "start_time": "2019-02-16T06:17:21.129605Z"
    }
   },
   "outputs": [],
   "source": [
    "# Weekly pattern for entire apartment\n",
    "\n",
    "df_week_entire_apartment = df_visual_entire_apartment.groupby(['ref_district', 'day_of_week'])  \\\n",
    "                                                     .price_by_month_week.mean()\n",
    "df_week_entire_apartment"
   ]
  },
  {
   "cell_type": "code",
   "execution_count": null,
   "metadata": {
    "ExecuteTime": {
     "end_time": "2019-02-16T06:17:28.799186Z",
     "start_time": "2019-02-16T06:17:28.775249Z"
    }
   },
   "outputs": [],
   "source": [
    "# Weekly pattern for single room\n",
    "\n",
    "df_week_single_room = df_visual_single_room.groupby(['ref_district', 'day_of_week'])  \\\n",
    "                                           .price_by_month_week.mean()\n",
    "df_week_single_room"
   ]
  },
  {
   "cell_type": "code",
   "execution_count": null,
   "metadata": {
    "ExecuteTime": {
     "end_time": "2019-02-16T06:17:38.353352Z",
     "start_time": "2019-02-16T06:17:38.324980Z"
    }
   },
   "outputs": [],
   "source": [
    "# Montly Pattern for entire apartment\n",
    "\n",
    "df_visual_entire_apartment.groupby(['ref_district', 'month']).price_by_month_week.mean()"
   ]
  },
  {
   "cell_type": "code",
   "execution_count": null,
   "metadata": {
    "ExecuteTime": {
     "end_time": "2019-02-16T06:17:40.819982Z",
     "start_time": "2019-02-16T06:17:40.796677Z"
    }
   },
   "outputs": [],
   "source": [
    "# Montly Pattern for single room\n",
    "\n",
    "df_visual_single_room.groupby(['ref_district', 'month']).price_by_month_week.mean()"
   ]
  }
 ],
 "metadata": {
  "kernelspec": {
   "display_name": "Python 3",
   "language": "python",
   "name": "python3"
  },
  "language_info": {
   "codemirror_mode": {
    "name": "ipython",
    "version": 3
   },
   "file_extension": ".py",
   "mimetype": "text/x-python",
   "name": "python",
   "nbconvert_exporter": "python",
   "pygments_lexer": "ipython3",
   "version": "3.6.6"
  },
  "toc": {
   "base_numbering": 1,
   "nav_menu": {},
   "number_sections": true,
   "sideBar": true,
   "skip_h1_title": false,
   "title_cell": "Table of Contents",
   "title_sidebar": "Contents",
   "toc_cell": false,
   "toc_position": {},
   "toc_section_display": true,
   "toc_window_display": true
  },
  "varInspector": {
   "cols": {
    "lenName": 16,
    "lenType": 16,
    "lenVar": 40
   },
   "kernels_config": {
    "python": {
     "delete_cmd_postfix": "",
     "delete_cmd_prefix": "del ",
     "library": "var_list.py",
     "varRefreshCmd": "print(var_dic_list())"
    },
    "r": {
     "delete_cmd_postfix": ") ",
     "delete_cmd_prefix": "rm(",
     "library": "var_list.r",
     "varRefreshCmd": "cat(var_dic_list()) "
    }
   },
   "types_to_exclude": [
    "module",
    "function",
    "builtin_function_or_method",
    "instance",
    "_Feature"
   ],
   "window_display": false
  }
 },
 "nbformat": 4,
 "nbformat_minor": 2
}
