{
 "cells": [
  {
   "cell_type": "markdown",
   "metadata": {},
   "source": [
    "# Data Retrieval"
   ]
  },
  {
   "cell_type": "code",
   "execution_count": 2,
   "metadata": {
    "ExecuteTime": {
     "end_time": "2019-02-19T10:08:29.610252Z",
     "start_time": "2019-02-19T10:08:27.629950Z"
    }
   },
   "outputs": [],
   "source": [
    "import pandas as pd\n",
    "import csv\n",
    "import re\n",
    "import statsmodels.api as sm\n",
    "from datetime import datetime\n",
    "import matplotlib.pyplot as plt\n",
    "import numpy as np\n",
    "\n",
    "from sklearn import datasets, linear_model\n",
    "from sklearn.metrics import mean_squared_error, r2_score\n",
    "from sklearn.preprocessing import StandardScaler\n",
    "from sklearn.model_selection import train_test_split, GroupShuffleSplit\n",
    "from sklearn.ensemble import RandomForestRegressor"
   ]
  },
  {
   "cell_type": "code",
   "execution_count": 3,
   "metadata": {
    "ExecuteTime": {
     "end_time": "2019-02-19T10:08:29.632022Z",
     "start_time": "2019-02-19T10:08:29.627914Z"
    }
   },
   "outputs": [],
   "source": [
    "# File path for cities: San Francisco(sf), Okaland(ok), and Santa Clara(sc)\n",
    "\n",
    "file_url = '/Users/xzhou/github/project_archives/files_airbnb/{}/calendar.csv'\n",
    "\n",
    "sf_file = file_url.format('sf_airbnb')\n",
    "ok_file = file_url.format('ok_airbnb')\n",
    "sc_file = file_url.format('sc_airbnb')"
   ]
  },
  {
   "cell_type": "code",
   "execution_count": 4,
   "metadata": {
    "ExecuteTime": {
     "end_time": "2019-02-19T10:08:35.883746Z",
     "start_time": "2019-02-19T10:08:29.651360Z"
    }
   },
   "outputs": [
    {
     "name": "stdout",
     "output_type": "stream",
     "text": [
      "(2420680, 4) (1057770, 4) (2068820, 4)\n"
     ]
    }
   ],
   "source": [
    "# Loaded price by date information for each city\n",
    "\n",
    "pricing_sf = pd.read_csv(sf_file, parse_dates=['date'])\n",
    "pricing_ok = pd.read_csv(ok_file, parse_dates=['date'])\n",
    "pricing_sc = pd.read_csv(sc_file, parse_dates=['date'])\n",
    "\n",
    "print(pricing_sf.shape, pricing_ok.shape, pricing_sc.shape)"
   ]
  },
  {
   "cell_type": "code",
   "execution_count": 5,
   "metadata": {
    "ExecuteTime": {
     "end_time": "2019-02-19T10:08:37.159948Z",
     "start_time": "2019-02-19T10:08:36.024761Z"
    }
   },
   "outputs": [
    {
     "data": {
      "text/html": [
       "<div>\n",
       "<style scoped>\n",
       "    .dataframe tbody tr th:only-of-type {\n",
       "        vertical-align: middle;\n",
       "    }\n",
       "\n",
       "    .dataframe tbody tr th {\n",
       "        vertical-align: top;\n",
       "    }\n",
       "\n",
       "    .dataframe thead th {\n",
       "        text-align: right;\n",
       "    }\n",
       "</style>\n",
       "<table border=\"1\" class=\"dataframe\">\n",
       "  <thead>\n",
       "    <tr style=\"text-align: right;\">\n",
       "      <th></th>\n",
       "      <th></th>\n",
       "      <th>listing_id</th>\n",
       "      <th>date</th>\n",
       "      <th>available</th>\n",
       "      <th>price</th>\n",
       "    </tr>\n",
       "  </thead>\n",
       "  <tbody>\n",
       "    <tr>\n",
       "      <th rowspan=\"10\" valign=\"top\">pricing_sf</th>\n",
       "      <th>0</th>\n",
       "      <td>958</td>\n",
       "      <td>2019-08-05</td>\n",
       "      <td>f</td>\n",
       "      <td>NaN</td>\n",
       "    </tr>\n",
       "    <tr>\n",
       "      <th>1</th>\n",
       "      <td>958</td>\n",
       "      <td>2019-08-04</td>\n",
       "      <td>f</td>\n",
       "      <td>NaN</td>\n",
       "    </tr>\n",
       "    <tr>\n",
       "      <th>2</th>\n",
       "      <td>958</td>\n",
       "      <td>2019-08-03</td>\n",
       "      <td>f</td>\n",
       "      <td>NaN</td>\n",
       "    </tr>\n",
       "    <tr>\n",
       "      <th>3</th>\n",
       "      <td>958</td>\n",
       "      <td>2019-08-02</td>\n",
       "      <td>f</td>\n",
       "      <td>NaN</td>\n",
       "    </tr>\n",
       "    <tr>\n",
       "      <th>4</th>\n",
       "      <td>958</td>\n",
       "      <td>2019-08-01</td>\n",
       "      <td>f</td>\n",
       "      <td>NaN</td>\n",
       "    </tr>\n",
       "    <tr>\n",
       "      <th>5</th>\n",
       "      <td>958</td>\n",
       "      <td>2019-07-31</td>\n",
       "      <td>f</td>\n",
       "      <td>NaN</td>\n",
       "    </tr>\n",
       "    <tr>\n",
       "      <th>6</th>\n",
       "      <td>958</td>\n",
       "      <td>2019-07-30</td>\n",
       "      <td>f</td>\n",
       "      <td>NaN</td>\n",
       "    </tr>\n",
       "    <tr>\n",
       "      <th>7</th>\n",
       "      <td>958</td>\n",
       "      <td>2019-07-29</td>\n",
       "      <td>f</td>\n",
       "      <td>NaN</td>\n",
       "    </tr>\n",
       "    <tr>\n",
       "      <th>8</th>\n",
       "      <td>958</td>\n",
       "      <td>2019-07-28</td>\n",
       "      <td>f</td>\n",
       "      <td>NaN</td>\n",
       "    </tr>\n",
       "    <tr>\n",
       "      <th>9</th>\n",
       "      <td>958</td>\n",
       "      <td>2019-07-27</td>\n",
       "      <td>f</td>\n",
       "      <td>NaN</td>\n",
       "    </tr>\n",
       "  </tbody>\n",
       "</table>\n",
       "</div>"
      ],
      "text/plain": [
       "              listing_id       date available price\n",
       "pricing_sf 0         958 2019-08-05         f   NaN\n",
       "           1         958 2019-08-04         f   NaN\n",
       "           2         958 2019-08-03         f   NaN\n",
       "           3         958 2019-08-02         f   NaN\n",
       "           4         958 2019-08-01         f   NaN\n",
       "           5         958 2019-07-31         f   NaN\n",
       "           6         958 2019-07-30         f   NaN\n",
       "           7         958 2019-07-29         f   NaN\n",
       "           8         958 2019-07-28         f   NaN\n",
       "           9         958 2019-07-27         f   NaN"
      ]
     },
     "execution_count": 5,
     "metadata": {},
     "output_type": "execute_result"
    }
   ],
   "source": [
    "# Concatenated all files into one\n",
    "# Created keys for each file for future references\n",
    "\n",
    "frames = [pricing_sf, pricing_ok, pricing_sc]\n",
    "keys = ['pricing_sf', 'pricing_ok', 'pricing_sc']\n",
    "\n",
    "df_pricing = pd.concat(frames, keys=keys)\n",
    "\n",
    "df_pricing.head(10)"
   ]
  },
  {
   "cell_type": "markdown",
   "metadata": {},
   "source": [
    "# Data Exploration"
   ]
  },
  {
   "cell_type": "markdown",
   "metadata": {
    "ExecuteTime": {
     "end_time": "2019-02-16T06:04:55.761610Z",
     "start_time": "2019-02-16T06:04:55.757951Z"
    }
   },
   "source": [
    "## Smaller Set of Data"
   ]
  },
  {
   "cell_type": "code",
   "execution_count": 6,
   "metadata": {
    "ExecuteTime": {
     "end_time": "2019-02-19T10:08:38.303689Z",
     "start_time": "2019-02-19T10:08:37.541642Z"
    }
   },
   "outputs": [
    {
     "name": "stdout",
     "output_type": "stream",
     "text": [
      "Dimension for df_pricing_smaller:  (2588352, 4)\n",
      "\n",
      "Number of Unique ids:  13452\n"
     ]
    }
   ],
   "source": [
    "# Filter to houses that are available and have listing prices\n",
    "\n",
    "df_pricing_smaller = df_pricing[df_pricing['available']=='t']\n",
    "df_pricing_smaller = df_pricing_smaller.copy()\n",
    "\n",
    "print('Dimension for df_pricing_smaller: ', df_pricing_smaller.shape)\n",
    "print ('\\nNumber of Unique ids: ', df_pricing_smaller.listing_id.nunique())"
   ]
  },
  {
   "cell_type": "code",
   "execution_count": 7,
   "metadata": {
    "ExecuteTime": {
     "end_time": "2019-02-19T10:08:38.566023Z",
     "start_time": "2019-02-19T10:08:38.559329Z"
    }
   },
   "outputs": [
    {
     "data": {
      "text/plain": [
       "Index(['listing_id', 'date', 'available', 'price'], dtype='object')"
      ]
     },
     "execution_count": 7,
     "metadata": {},
     "output_type": "execute_result"
    }
   ],
   "source": [
    "df_pricing_smaller.columns"
   ]
  },
  {
   "cell_type": "markdown",
   "metadata": {},
   "source": [
    "## Data Format"
   ]
  },
  {
   "cell_type": "code",
   "execution_count": 8,
   "metadata": {
    "ExecuteTime": {
     "end_time": "2019-02-19T10:08:38.732889Z",
     "start_time": "2019-02-19T10:08:38.728610Z"
    }
   },
   "outputs": [],
   "source": [
    "def apply2df(df, column_names, function):\n",
    "    \"\"\"\n",
    "    This enables various functions to be applied to multiple columns of dataframe.\n",
    "    Input: dataframe, columns to apply function to (list), function\n",
    "    Return: updated dataframe\n",
    "    \"\"\"\n",
    "    for column in column_names:\n",
    "        df[column] = df[column].apply(lambda x: function(x))\n",
    "    return df"
   ]
  },
  {
   "cell_type": "markdown",
   "metadata": {
    "ExecuteTime": {
     "end_time": "2019-02-17T20:54:05.091473Z",
     "start_time": "2019-02-17T20:54:05.088212Z"
    }
   },
   "source": [
    "### Currency"
   ]
  },
  {
   "cell_type": "code",
   "execution_count": 9,
   "metadata": {
    "ExecuteTime": {
     "end_time": "2019-02-19T10:08:38.896911Z",
     "start_time": "2019-02-19T10:08:38.892602Z"
    }
   },
   "outputs": [],
   "source": [
    "# Noted currencies are formated as strings and need to be converted to float\n",
    "\n",
    "def currency2float(string):\n",
    "    \"\"\"\n",
    "    Convert currency to float\n",
    "    \"\"\"\n",
    "    float_ = float(str(string).strip('$').replace(',',''))\n",
    "    return float_"
   ]
  },
  {
   "cell_type": "code",
   "execution_count": 10,
   "metadata": {
    "ExecuteTime": {
     "end_time": "2019-02-19T10:08:41.666071Z",
     "start_time": "2019-02-19T10:08:39.052804Z"
    }
   },
   "outputs": [],
   "source": [
    "# Converted price to float format\n",
    "\n",
    "curriencies = ['price']\n",
    "\n",
    "df_pricing_smaller = apply2df(df_pricing_smaller, curriencies, currency2float)"
   ]
  },
  {
   "cell_type": "markdown",
   "metadata": {},
   "source": [
    "## Outliers"
   ]
  },
  {
   "cell_type": "code",
   "execution_count": 11,
   "metadata": {
    "ExecuteTime": {
     "end_time": "2019-02-19T10:08:42.094073Z",
     "start_time": "2019-02-19T10:08:41.841050Z"
    }
   },
   "outputs": [
    {
     "data": {
      "text/plain": [
       "count    2.588352e+06\n",
       "mean     2.056189e+02\n",
       "std      7.335415e+02\n",
       "min      1.000000e+01\n",
       "5%       4.000000e+01\n",
       "10%      5.000000e+01\n",
       "25%      7.800000e+01\n",
       "50%      1.290000e+02\n",
       "75%      2.090000e+02\n",
       "90%      3.500000e+02\n",
       "95%      5.000000e+02\n",
       "max      1.024520e+05\n",
       "Name: price, dtype: float64"
      ]
     },
     "execution_count": 11,
     "metadata": {},
     "output_type": "execute_result"
    }
   ],
   "source": [
    "percentiles = [0.05, 0.10, 0.25, 0.50, 0.75, 0.90, 0.95]\n",
    "\n",
    "df_pricing_smaller.price.describe(percentiles=percentiles)"
   ]
  },
  {
   "cell_type": "code",
   "execution_count": 12,
   "metadata": {
    "ExecuteTime": {
     "end_time": "2019-02-19T10:08:42.506595Z",
     "start_time": "2019-02-19T10:08:42.280513Z"
    }
   },
   "outputs": [],
   "source": [
    "# Removed outliers based on 'price'. Use 5% and 95% percentiles as cutoff\n",
    "\n",
    "five_percentile = np.percentile(df_pricing_smaller.price, 5)\n",
    "ninety_five_percentile = np.percentile(df_pricing_smaller.price, 95)\n",
    "\n",
    "df_pricing_smaller = df_pricing_smaller[(\n",
    "                        df_pricing_smaller.price>=five_percentile)\n",
    "                        & (df_pricing_smaller.price<=ninety_five_percentile)]"
   ]
  },
  {
   "cell_type": "code",
   "execution_count": 13,
   "metadata": {
    "ExecuteTime": {
     "end_time": "2019-02-19T10:08:42.694098Z",
     "start_time": "2019-02-19T10:08:42.689586Z"
    }
   },
   "outputs": [
    {
     "name": "stdout",
     "output_type": "stream",
     "text": [
      "df_pricing_smaller dimensions:  (2346265, 4)\n"
     ]
    }
   ],
   "source": [
    "print ('df_pricing_smaller dimensions: ', df_pricing_smaller.shape)"
   ]
  },
  {
   "cell_type": "markdown",
   "metadata": {
    "ExecuteTime": {
     "end_time": "2019-02-18T00:50:22.129335Z",
     "start_time": "2019-02-18T00:50:22.113843Z"
    }
   },
   "source": [
    "## Null Values"
   ]
  },
  {
   "cell_type": "code",
   "execution_count": 14,
   "metadata": {
    "ExecuteTime": {
     "end_time": "2019-02-19T10:08:43.195674Z",
     "start_time": "2019-02-19T10:08:42.857348Z"
    }
   },
   "outputs": [
    {
     "data": {
      "text/plain": [
       "listing_id    0\n",
       "date          0\n",
       "available     0\n",
       "price         0\n",
       "dtype: int64"
      ]
     },
     "execution_count": 14,
     "metadata": {},
     "output_type": "execute_result"
    }
   ],
   "source": [
    "df_pricing_smaller.isnull().sum()"
   ]
  },
  {
   "cell_type": "code",
   "execution_count": 15,
   "metadata": {
    "ExecuteTime": {
     "end_time": "2019-02-19T10:08:43.342941Z",
     "start_time": "2019-02-19T10:08:43.335784Z"
    }
   },
   "outputs": [
    {
     "data": {
      "text/plain": [
       "(2346265, 4)"
      ]
     },
     "execution_count": 15,
     "metadata": {},
     "output_type": "execute_result"
    }
   ],
   "source": [
    "df_pricing_smaller.shape"
   ]
  },
  {
   "cell_type": "code",
   "execution_count": 16,
   "metadata": {
    "ExecuteTime": {
     "end_time": "2019-02-19T10:08:43.712183Z",
     "start_time": "2019-02-19T10:08:43.490837Z"
    }
   },
   "outputs": [
    {
     "data": {
      "text/html": [
       "<div>\n",
       "<style scoped>\n",
       "    .dataframe tbody tr th:only-of-type {\n",
       "        vertical-align: middle;\n",
       "    }\n",
       "\n",
       "    .dataframe tbody tr th {\n",
       "        vertical-align: top;\n",
       "    }\n",
       "\n",
       "    .dataframe thead th {\n",
       "        text-align: right;\n",
       "    }\n",
       "</style>\n",
       "<table border=\"1\" class=\"dataframe\">\n",
       "  <thead>\n",
       "    <tr style=\"text-align: right;\">\n",
       "      <th></th>\n",
       "      <th>date</th>\n",
       "      <th>price</th>\n",
       "    </tr>\n",
       "  </thead>\n",
       "  <tbody>\n",
       "    <tr>\n",
       "      <th>count</th>\n",
       "      <td>2346265</td>\n",
       "      <td>2.346265e+06</td>\n",
       "    </tr>\n",
       "    <tr>\n",
       "      <th>unique</th>\n",
       "      <td>375</td>\n",
       "      <td>NaN</td>\n",
       "    </tr>\n",
       "    <tr>\n",
       "      <th>top</th>\n",
       "      <td>2018-11-03 00:00:00</td>\n",
       "      <td>NaN</td>\n",
       "    </tr>\n",
       "    <tr>\n",
       "      <th>freq</th>\n",
       "      <td>8671</td>\n",
       "      <td>NaN</td>\n",
       "    </tr>\n",
       "    <tr>\n",
       "      <th>first</th>\n",
       "      <td>2018-08-06 00:00:00</td>\n",
       "      <td>NaN</td>\n",
       "    </tr>\n",
       "    <tr>\n",
       "      <th>last</th>\n",
       "      <td>2019-08-15 00:00:00</td>\n",
       "      <td>NaN</td>\n",
       "    </tr>\n",
       "    <tr>\n",
       "      <th>mean</th>\n",
       "      <td>NaN</td>\n",
       "      <td>1.537473e+02</td>\n",
       "    </tr>\n",
       "    <tr>\n",
       "      <th>std</th>\n",
       "      <td>NaN</td>\n",
       "      <td>9.694863e+01</td>\n",
       "    </tr>\n",
       "    <tr>\n",
       "      <th>min</th>\n",
       "      <td>NaN</td>\n",
       "      <td>4.000000e+01</td>\n",
       "    </tr>\n",
       "    <tr>\n",
       "      <th>25%</th>\n",
       "      <td>NaN</td>\n",
       "      <td>8.000000e+01</td>\n",
       "    </tr>\n",
       "    <tr>\n",
       "      <th>50%</th>\n",
       "      <td>NaN</td>\n",
       "      <td>1.280000e+02</td>\n",
       "    </tr>\n",
       "    <tr>\n",
       "      <th>75%</th>\n",
       "      <td>NaN</td>\n",
       "      <td>1.990000e+02</td>\n",
       "    </tr>\n",
       "    <tr>\n",
       "      <th>max</th>\n",
       "      <td>NaN</td>\n",
       "      <td>5.000000e+02</td>\n",
       "    </tr>\n",
       "  </tbody>\n",
       "</table>\n",
       "</div>"
      ],
      "text/plain": [
       "                       date         price\n",
       "count               2346265  2.346265e+06\n",
       "unique                  375           NaN\n",
       "top     2018-11-03 00:00:00           NaN\n",
       "freq                   8671           NaN\n",
       "first   2018-08-06 00:00:00           NaN\n",
       "last    2019-08-15 00:00:00           NaN\n",
       "mean                    NaN  1.537473e+02\n",
       "std                     NaN  9.694863e+01\n",
       "min                     NaN  4.000000e+01\n",
       "25%                     NaN  8.000000e+01\n",
       "50%                     NaN  1.280000e+02\n",
       "75%                     NaN  1.990000e+02\n",
       "max                     NaN  5.000000e+02"
      ]
     },
     "execution_count": 16,
     "metadata": {},
     "output_type": "execute_result"
    }
   ],
   "source": [
    "columns2display = ['date', 'price']\n",
    "\n",
    "df_pricing_smaller[columns2display].describe(include='all')"
   ]
  },
  {
   "cell_type": "markdown",
   "metadata": {
    "ExecuteTime": {
     "end_time": "2019-02-16T06:10:40.512514Z",
     "start_time": "2019-02-16T06:10:40.509754Z"
    }
   },
   "source": [
    "## Seasonality Data"
   ]
  },
  {
   "cell_type": "markdown",
   "metadata": {},
   "source": [
    "### Added Month and Day-of-Week(DOW) Features"
   ]
  },
  {
   "cell_type": "code",
   "execution_count": 17,
   "metadata": {
    "ExecuteTime": {
     "end_time": "2019-02-19T10:08:44.305080Z",
     "start_time": "2019-02-19T10:08:43.891787Z"
    }
   },
   "outputs": [
    {
     "name": "stdout",
     "output_type": "stream",
     "text": [
      "df_pricing_smaller dimensions (2346265, 6)\n"
     ]
    },
    {
     "data": {
      "text/html": [
       "<div>\n",
       "<style scoped>\n",
       "    .dataframe tbody tr th:only-of-type {\n",
       "        vertical-align: middle;\n",
       "    }\n",
       "\n",
       "    .dataframe tbody tr th {\n",
       "        vertical-align: top;\n",
       "    }\n",
       "\n",
       "    .dataframe thead th {\n",
       "        text-align: right;\n",
       "    }\n",
       "</style>\n",
       "<table border=\"1\" class=\"dataframe\">\n",
       "  <thead>\n",
       "    <tr style=\"text-align: right;\">\n",
       "      <th></th>\n",
       "      <th></th>\n",
       "      <th>listing_id</th>\n",
       "      <th>date</th>\n",
       "      <th>available</th>\n",
       "      <th>price</th>\n",
       "      <th>month</th>\n",
       "      <th>day_of_week</th>\n",
       "    </tr>\n",
       "  </thead>\n",
       "  <tbody>\n",
       "    <tr>\n",
       "      <th rowspan=\"5\" valign=\"top\">pricing_sf</th>\n",
       "      <th>63</th>\n",
       "      <td>958</td>\n",
       "      <td>2019-05-02</td>\n",
       "      <td>t</td>\n",
       "      <td>181.0</td>\n",
       "      <td>5</td>\n",
       "      <td>3</td>\n",
       "    </tr>\n",
       "    <tr>\n",
       "      <th>64</th>\n",
       "      <td>958</td>\n",
       "      <td>2019-05-01</td>\n",
       "      <td>t</td>\n",
       "      <td>181.0</td>\n",
       "      <td>5</td>\n",
       "      <td>2</td>\n",
       "    </tr>\n",
       "    <tr>\n",
       "      <th>65</th>\n",
       "      <td>958</td>\n",
       "      <td>2019-04-30</td>\n",
       "      <td>t</td>\n",
       "      <td>181.0</td>\n",
       "      <td>4</td>\n",
       "      <td>1</td>\n",
       "    </tr>\n",
       "    <tr>\n",
       "      <th>66</th>\n",
       "      <td>958</td>\n",
       "      <td>2019-04-29</td>\n",
       "      <td>t</td>\n",
       "      <td>181.0</td>\n",
       "      <td>4</td>\n",
       "      <td>0</td>\n",
       "    </tr>\n",
       "    <tr>\n",
       "      <th>67</th>\n",
       "      <td>958</td>\n",
       "      <td>2019-04-28</td>\n",
       "      <td>t</td>\n",
       "      <td>181.0</td>\n",
       "      <td>4</td>\n",
       "      <td>6</td>\n",
       "    </tr>\n",
       "  </tbody>\n",
       "</table>\n",
       "</div>"
      ],
      "text/plain": [
       "               listing_id       date available  price  month  day_of_week\n",
       "pricing_sf 63         958 2019-05-02         t  181.0      5            3\n",
       "           64         958 2019-05-01         t  181.0      5            2\n",
       "           65         958 2019-04-30         t  181.0      4            1\n",
       "           66         958 2019-04-29         t  181.0      4            0\n",
       "           67         958 2019-04-28         t  181.0      4            6"
      ]
     },
     "metadata": {},
     "output_type": "display_data"
    }
   ],
   "source": [
    "# Added 'month' column to extract month of date\n",
    "# Added 'day_of_week' column to extact day of week. \n",
    "# Default format: Monday=0, Sunday=6\n",
    "\n",
    "df_pricing_smaller['month'] = df_pricing_smaller['date'].dt.month\n",
    "df_pricing_smaller['day_of_week'] = df_pricing_smaller['date'].dt.weekday\n",
    "\n",
    "\n",
    "print('df_pricing_smaller dimensions', df_pricing_smaller.shape)\n",
    "display(df_pricing_smaller.head())"
   ]
  },
  {
   "cell_type": "code",
   "execution_count": 18,
   "metadata": {
    "ExecuteTime": {
     "end_time": "2019-02-19T10:08:44.781618Z",
     "start_time": "2019-02-19T10:08:44.487540Z"
    }
   },
   "outputs": [
    {
     "data": {
      "text/plain": [
       "<matplotlib.axes._subplots.AxesSubplot at 0x1c1a6087b8>"
      ]
     },
     "execution_count": 18,
     "metadata": {},
     "output_type": "execute_result"
    },
    {
     "data": {
      "image/png": "[encoded data removed]",
      "text/plain": [
       "<Figure size 432x288 with 1 Axes>"
      ]
     },
     "metadata": {},
     "output_type": "display_data"
    }
   ],
   "source": [
    "# Checked the price distribution by month\n",
    "\n",
    "df_pricing_smaller.month.hist(bins=12)"
   ]
  },
  {
   "cell_type": "code",
   "execution_count": 19,
   "metadata": {
    "ExecuteTime": {
     "end_time": "2019-02-19T10:08:45.189246Z",
     "start_time": "2019-02-19T10:08:44.961589Z"
    }
   },
   "outputs": [
    {
     "data": {
      "text/plain": [
       "<matplotlib.axes._subplots.AxesSubplot at 0x1c1a597fd0>"
      ]
     },
     "execution_count": 19,
     "metadata": {},
     "output_type": "execute_result"
    },
    {
     "data": {
      "image/png": "[encoded data removed]",
      "text/plain": [
       "<Figure size 432x288 with 1 Axes>"
      ]
     },
     "metadata": {},
     "output_type": "display_data"
    }
   ],
   "source": [
    "# Checked the price distribution by day of week\n",
    "\n",
    "df_pricing_smaller.day_of_week.hist(bins=7)"
   ]
  },
  {
   "cell_type": "markdown",
   "metadata": {},
   "source": [
    "### Pricing By Month by DOW"
   ]
  },
  {
   "cell_type": "code",
   "execution_count": 20,
   "metadata": {
    "ExecuteTime": {
     "end_time": "2019-02-19T10:08:45.883386Z",
     "start_time": "2019-02-19T10:08:45.335608Z"
    }
   },
   "outputs": [
    {
     "data": {
      "text/html": [
       "<div>\n",
       "<style scoped>\n",
       "    .dataframe tbody tr th:only-of-type {\n",
       "        vertical-align: middle;\n",
       "    }\n",
       "\n",
       "    .dataframe tbody tr th {\n",
       "        vertical-align: top;\n",
       "    }\n",
       "\n",
       "    .dataframe thead th {\n",
       "        text-align: right;\n",
       "    }\n",
       "</style>\n",
       "<table border=\"1\" class=\"dataframe\">\n",
       "  <thead>\n",
       "    <tr style=\"text-align: right;\">\n",
       "      <th></th>\n",
       "      <th>listing_id</th>\n",
       "      <th>month</th>\n",
       "      <th>day_of_week</th>\n",
       "      <th>price</th>\n",
       "    </tr>\n",
       "  </thead>\n",
       "  <tbody>\n",
       "    <tr>\n",
       "      <th>0</th>\n",
       "      <td>958</td>\n",
       "      <td>1</td>\n",
       "      <td>0</td>\n",
       "      <td>180.0</td>\n",
       "    </tr>\n",
       "    <tr>\n",
       "      <th>1</th>\n",
       "      <td>958</td>\n",
       "      <td>1</td>\n",
       "      <td>1</td>\n",
       "      <td>179.5</td>\n",
       "    </tr>\n",
       "    <tr>\n",
       "      <th>2</th>\n",
       "      <td>958</td>\n",
       "      <td>1</td>\n",
       "      <td>2</td>\n",
       "      <td>179.5</td>\n",
       "    </tr>\n",
       "    <tr>\n",
       "      <th>3</th>\n",
       "      <td>958</td>\n",
       "      <td>1</td>\n",
       "      <td>3</td>\n",
       "      <td>179.0</td>\n",
       "    </tr>\n",
       "    <tr>\n",
       "      <th>4</th>\n",
       "      <td>958</td>\n",
       "      <td>1</td>\n",
       "      <td>4</td>\n",
       "      <td>183.0</td>\n",
       "    </tr>\n",
       "    <tr>\n",
       "      <th>5</th>\n",
       "      <td>958</td>\n",
       "      <td>1</td>\n",
       "      <td>5</td>\n",
       "      <td>185.0</td>\n",
       "    </tr>\n",
       "    <tr>\n",
       "      <th>6</th>\n",
       "      <td>958</td>\n",
       "      <td>1</td>\n",
       "      <td>6</td>\n",
       "      <td>180.0</td>\n",
       "    </tr>\n",
       "    <tr>\n",
       "      <th>7</th>\n",
       "      <td>958</td>\n",
       "      <td>2</td>\n",
       "      <td>0</td>\n",
       "      <td>179.0</td>\n",
       "    </tr>\n",
       "    <tr>\n",
       "      <th>8</th>\n",
       "      <td>958</td>\n",
       "      <td>2</td>\n",
       "      <td>1</td>\n",
       "      <td>179.0</td>\n",
       "    </tr>\n",
       "    <tr>\n",
       "      <th>9</th>\n",
       "      <td>958</td>\n",
       "      <td>2</td>\n",
       "      <td>2</td>\n",
       "      <td>179.0</td>\n",
       "    </tr>\n",
       "    <tr>\n",
       "      <th>10</th>\n",
       "      <td>958</td>\n",
       "      <td>2</td>\n",
       "      <td>3</td>\n",
       "      <td>179.0</td>\n",
       "    </tr>\n",
       "    <tr>\n",
       "      <th>11</th>\n",
       "      <td>958</td>\n",
       "      <td>2</td>\n",
       "      <td>4</td>\n",
       "      <td>188.5</td>\n",
       "    </tr>\n",
       "    <tr>\n",
       "      <th>12</th>\n",
       "      <td>958</td>\n",
       "      <td>2</td>\n",
       "      <td>5</td>\n",
       "      <td>188.0</td>\n",
       "    </tr>\n",
       "    <tr>\n",
       "      <th>13</th>\n",
       "      <td>958</td>\n",
       "      <td>2</td>\n",
       "      <td>6</td>\n",
       "      <td>179.0</td>\n",
       "    </tr>\n",
       "    <tr>\n",
       "      <th>14</th>\n",
       "      <td>958</td>\n",
       "      <td>3</td>\n",
       "      <td>0</td>\n",
       "      <td>181.0</td>\n",
       "    </tr>\n",
       "    <tr>\n",
       "      <th>15</th>\n",
       "      <td>958</td>\n",
       "      <td>3</td>\n",
       "      <td>1</td>\n",
       "      <td>181.0</td>\n",
       "    </tr>\n",
       "    <tr>\n",
       "      <th>16</th>\n",
       "      <td>958</td>\n",
       "      <td>3</td>\n",
       "      <td>2</td>\n",
       "      <td>181.0</td>\n",
       "    </tr>\n",
       "    <tr>\n",
       "      <th>17</th>\n",
       "      <td>958</td>\n",
       "      <td>3</td>\n",
       "      <td>3</td>\n",
       "      <td>181.0</td>\n",
       "    </tr>\n",
       "    <tr>\n",
       "      <th>18</th>\n",
       "      <td>958</td>\n",
       "      <td>3</td>\n",
       "      <td>4</td>\n",
       "      <td>191.0</td>\n",
       "    </tr>\n",
       "    <tr>\n",
       "      <th>19</th>\n",
       "      <td>958</td>\n",
       "      <td>3</td>\n",
       "      <td>5</td>\n",
       "      <td>191.0</td>\n",
       "    </tr>\n",
       "    <tr>\n",
       "      <th>20</th>\n",
       "      <td>958</td>\n",
       "      <td>3</td>\n",
       "      <td>6</td>\n",
       "      <td>181.0</td>\n",
       "    </tr>\n",
       "    <tr>\n",
       "      <th>21</th>\n",
       "      <td>958</td>\n",
       "      <td>4</td>\n",
       "      <td>0</td>\n",
       "      <td>181.0</td>\n",
       "    </tr>\n",
       "    <tr>\n",
       "      <th>22</th>\n",
       "      <td>958</td>\n",
       "      <td>4</td>\n",
       "      <td>1</td>\n",
       "      <td>181.0</td>\n",
       "    </tr>\n",
       "    <tr>\n",
       "      <th>23</th>\n",
       "      <td>958</td>\n",
       "      <td>4</td>\n",
       "      <td>2</td>\n",
       "      <td>181.0</td>\n",
       "    </tr>\n",
       "    <tr>\n",
       "      <th>24</th>\n",
       "      <td>958</td>\n",
       "      <td>4</td>\n",
       "      <td>3</td>\n",
       "      <td>181.0</td>\n",
       "    </tr>\n",
       "    <tr>\n",
       "      <th>25</th>\n",
       "      <td>958</td>\n",
       "      <td>4</td>\n",
       "      <td>4</td>\n",
       "      <td>191.0</td>\n",
       "    </tr>\n",
       "    <tr>\n",
       "      <th>26</th>\n",
       "      <td>958</td>\n",
       "      <td>4</td>\n",
       "      <td>5</td>\n",
       "      <td>191.0</td>\n",
       "    </tr>\n",
       "    <tr>\n",
       "      <th>27</th>\n",
       "      <td>958</td>\n",
       "      <td>4</td>\n",
       "      <td>6</td>\n",
       "      <td>181.0</td>\n",
       "    </tr>\n",
       "    <tr>\n",
       "      <th>28</th>\n",
       "      <td>958</td>\n",
       "      <td>5</td>\n",
       "      <td>2</td>\n",
       "      <td>181.0</td>\n",
       "    </tr>\n",
       "    <tr>\n",
       "      <th>29</th>\n",
       "      <td>958</td>\n",
       "      <td>5</td>\n",
       "      <td>3</td>\n",
       "      <td>181.0</td>\n",
       "    </tr>\n",
       "    <tr>\n",
       "      <th>...</th>\n",
       "      <td>...</td>\n",
       "      <td>...</td>\n",
       "      <td>...</td>\n",
       "      <td>...</td>\n",
       "    </tr>\n",
       "    <tr>\n",
       "      <th>70</th>\n",
       "      <td>3083</td>\n",
       "      <td>11</td>\n",
       "      <td>1</td>\n",
       "      <td>65.0</td>\n",
       "    </tr>\n",
       "    <tr>\n",
       "      <th>71</th>\n",
       "      <td>3083</td>\n",
       "      <td>11</td>\n",
       "      <td>2</td>\n",
       "      <td>65.0</td>\n",
       "    </tr>\n",
       "    <tr>\n",
       "      <th>72</th>\n",
       "      <td>3083</td>\n",
       "      <td>11</td>\n",
       "      <td>3</td>\n",
       "      <td>65.0</td>\n",
       "    </tr>\n",
       "    <tr>\n",
       "      <th>73</th>\n",
       "      <td>3083</td>\n",
       "      <td>11</td>\n",
       "      <td>4</td>\n",
       "      <td>65.0</td>\n",
       "    </tr>\n",
       "    <tr>\n",
       "      <th>74</th>\n",
       "      <td>3083</td>\n",
       "      <td>11</td>\n",
       "      <td>5</td>\n",
       "      <td>65.0</td>\n",
       "    </tr>\n",
       "    <tr>\n",
       "      <th>75</th>\n",
       "      <td>3083</td>\n",
       "      <td>11</td>\n",
       "      <td>6</td>\n",
       "      <td>65.0</td>\n",
       "    </tr>\n",
       "    <tr>\n",
       "      <th>76</th>\n",
       "      <td>3083</td>\n",
       "      <td>12</td>\n",
       "      <td>0</td>\n",
       "      <td>65.0</td>\n",
       "    </tr>\n",
       "    <tr>\n",
       "      <th>77</th>\n",
       "      <td>3083</td>\n",
       "      <td>12</td>\n",
       "      <td>1</td>\n",
       "      <td>65.0</td>\n",
       "    </tr>\n",
       "    <tr>\n",
       "      <th>78</th>\n",
       "      <td>3083</td>\n",
       "      <td>12</td>\n",
       "      <td>2</td>\n",
       "      <td>65.0</td>\n",
       "    </tr>\n",
       "    <tr>\n",
       "      <th>79</th>\n",
       "      <td>3083</td>\n",
       "      <td>12</td>\n",
       "      <td>3</td>\n",
       "      <td>65.0</td>\n",
       "    </tr>\n",
       "    <tr>\n",
       "      <th>80</th>\n",
       "      <td>3083</td>\n",
       "      <td>12</td>\n",
       "      <td>4</td>\n",
       "      <td>65.0</td>\n",
       "    </tr>\n",
       "    <tr>\n",
       "      <th>81</th>\n",
       "      <td>3083</td>\n",
       "      <td>12</td>\n",
       "      <td>5</td>\n",
       "      <td>65.0</td>\n",
       "    </tr>\n",
       "    <tr>\n",
       "      <th>82</th>\n",
       "      <td>3083</td>\n",
       "      <td>12</td>\n",
       "      <td>6</td>\n",
       "      <td>65.0</td>\n",
       "    </tr>\n",
       "    <tr>\n",
       "      <th>83</th>\n",
       "      <td>3264</td>\n",
       "      <td>9</td>\n",
       "      <td>0</td>\n",
       "      <td>53.0</td>\n",
       "    </tr>\n",
       "    <tr>\n",
       "      <th>84</th>\n",
       "      <td>3264</td>\n",
       "      <td>9</td>\n",
       "      <td>1</td>\n",
       "      <td>53.0</td>\n",
       "    </tr>\n",
       "    <tr>\n",
       "      <th>85</th>\n",
       "      <td>3264</td>\n",
       "      <td>9</td>\n",
       "      <td>2</td>\n",
       "      <td>53.0</td>\n",
       "    </tr>\n",
       "    <tr>\n",
       "      <th>86</th>\n",
       "      <td>3264</td>\n",
       "      <td>9</td>\n",
       "      <td>3</td>\n",
       "      <td>53.0</td>\n",
       "    </tr>\n",
       "    <tr>\n",
       "      <th>87</th>\n",
       "      <td>3264</td>\n",
       "      <td>9</td>\n",
       "      <td>4</td>\n",
       "      <td>63.0</td>\n",
       "    </tr>\n",
       "    <tr>\n",
       "      <th>88</th>\n",
       "      <td>3264</td>\n",
       "      <td>9</td>\n",
       "      <td>5</td>\n",
       "      <td>63.0</td>\n",
       "    </tr>\n",
       "    <tr>\n",
       "      <th>89</th>\n",
       "      <td>3264</td>\n",
       "      <td>9</td>\n",
       "      <td>6</td>\n",
       "      <td>53.0</td>\n",
       "    </tr>\n",
       "    <tr>\n",
       "      <th>90</th>\n",
       "      <td>3264</td>\n",
       "      <td>10</td>\n",
       "      <td>0</td>\n",
       "      <td>53.0</td>\n",
       "    </tr>\n",
       "    <tr>\n",
       "      <th>91</th>\n",
       "      <td>3264</td>\n",
       "      <td>10</td>\n",
       "      <td>1</td>\n",
       "      <td>53.0</td>\n",
       "    </tr>\n",
       "    <tr>\n",
       "      <th>92</th>\n",
       "      <td>3264</td>\n",
       "      <td>10</td>\n",
       "      <td>2</td>\n",
       "      <td>53.0</td>\n",
       "    </tr>\n",
       "    <tr>\n",
       "      <th>93</th>\n",
       "      <td>3264</td>\n",
       "      <td>10</td>\n",
       "      <td>3</td>\n",
       "      <td>53.0</td>\n",
       "    </tr>\n",
       "    <tr>\n",
       "      <th>94</th>\n",
       "      <td>3264</td>\n",
       "      <td>10</td>\n",
       "      <td>4</td>\n",
       "      <td>63.0</td>\n",
       "    </tr>\n",
       "    <tr>\n",
       "      <th>95</th>\n",
       "      <td>3264</td>\n",
       "      <td>10</td>\n",
       "      <td>5</td>\n",
       "      <td>63.0</td>\n",
       "    </tr>\n",
       "    <tr>\n",
       "      <th>96</th>\n",
       "      <td>3264</td>\n",
       "      <td>10</td>\n",
       "      <td>6</td>\n",
       "      <td>53.0</td>\n",
       "    </tr>\n",
       "    <tr>\n",
       "      <th>97</th>\n",
       "      <td>3264</td>\n",
       "      <td>11</td>\n",
       "      <td>0</td>\n",
       "      <td>53.0</td>\n",
       "    </tr>\n",
       "    <tr>\n",
       "      <th>98</th>\n",
       "      <td>3264</td>\n",
       "      <td>11</td>\n",
       "      <td>1</td>\n",
       "      <td>53.0</td>\n",
       "    </tr>\n",
       "    <tr>\n",
       "      <th>99</th>\n",
       "      <td>3264</td>\n",
       "      <td>11</td>\n",
       "      <td>2</td>\n",
       "      <td>53.0</td>\n",
       "    </tr>\n",
       "  </tbody>\n",
       "</table>\n",
       "<p>100 rows × 4 columns</p>\n",
       "</div>"
      ],
      "text/plain": [
       "    listing_id  month  day_of_week  price\n",
       "0          958      1            0  180.0\n",
       "1          958      1            1  179.5\n",
       "2          958      1            2  179.5\n",
       "3          958      1            3  179.0\n",
       "4          958      1            4  183.0\n",
       "5          958      1            5  185.0\n",
       "6          958      1            6  180.0\n",
       "7          958      2            0  179.0\n",
       "8          958      2            1  179.0\n",
       "9          958      2            2  179.0\n",
       "10         958      2            3  179.0\n",
       "11         958      2            4  188.5\n",
       "12         958      2            5  188.0\n",
       "13         958      2            6  179.0\n",
       "14         958      3            0  181.0\n",
       "15         958      3            1  181.0\n",
       "16         958      3            2  181.0\n",
       "17         958      3            3  181.0\n",
       "18         958      3            4  191.0\n",
       "19         958      3            5  191.0\n",
       "20         958      3            6  181.0\n",
       "21         958      4            0  181.0\n",
       "22         958      4            1  181.0\n",
       "23         958      4            2  181.0\n",
       "24         958      4            3  181.0\n",
       "25         958      4            4  191.0\n",
       "26         958      4            5  191.0\n",
       "27         958      4            6  181.0\n",
       "28         958      5            2  181.0\n",
       "29         958      5            3  181.0\n",
       "..         ...    ...          ...    ...\n",
       "70        3083     11            1   65.0\n",
       "71        3083     11            2   65.0\n",
       "72        3083     11            3   65.0\n",
       "73        3083     11            4   65.0\n",
       "74        3083     11            5   65.0\n",
       "75        3083     11            6   65.0\n",
       "76        3083     12            0   65.0\n",
       "77        3083     12            1   65.0\n",
       "78        3083     12            2   65.0\n",
       "79        3083     12            3   65.0\n",
       "80        3083     12            4   65.0\n",
       "81        3083     12            5   65.0\n",
       "82        3083     12            6   65.0\n",
       "83        3264      9            0   53.0\n",
       "84        3264      9            1   53.0\n",
       "85        3264      9            2   53.0\n",
       "86        3264      9            3   53.0\n",
       "87        3264      9            4   63.0\n",
       "88        3264      9            5   63.0\n",
       "89        3264      9            6   53.0\n",
       "90        3264     10            0   53.0\n",
       "91        3264     10            1   53.0\n",
       "92        3264     10            2   53.0\n",
       "93        3264     10            3   53.0\n",
       "94        3264     10            4   63.0\n",
       "95        3264     10            5   63.0\n",
       "96        3264     10            6   53.0\n",
       "97        3264     11            0   53.0\n",
       "98        3264     11            1   53.0\n",
       "99        3264     11            2   53.0\n",
       "\n",
       "[100 rows x 4 columns]"
      ]
     },
     "execution_count": 20,
     "metadata": {},
     "output_type": "execute_result"
    }
   ],
   "source": [
    "# Group by month by day of week, and calculate an average pricing\n",
    "\n",
    "df_pricing_by_mon_dow = df_pricing_smaller  \\\n",
    "                            .groupby(['listing_id', 'month', 'day_of_week'])  \\\n",
    "                            .price.mean()  \\\n",
    "                            .reset_index()\n",
    "df_pricing_by_mon_dow.head(100)"
   ]
  },
  {
   "cell_type": "code",
   "execution_count": 21,
   "metadata": {
    "ExecuteTime": {
     "end_time": "2019-02-19T10:08:45.982920Z",
     "start_time": "2019-02-19T10:08:45.886488Z"
    }
   },
   "outputs": [
    {
     "data": {
      "text/plain": [
       "listing_id     0\n",
       "month          0\n",
       "day_of_week    0\n",
       "price          0\n",
       "dtype: int64"
      ]
     },
     "execution_count": 21,
     "metadata": {},
     "output_type": "execute_result"
    }
   ],
   "source": [
    "# Check for null values if any\n",
    "\n",
    "df_pricing_by_mon_dow.isnull().sum()"
   ]
  },
  {
   "cell_type": "code",
   "execution_count": 22,
   "metadata": {
    "ExecuteTime": {
     "end_time": "2019-02-19T10:08:46.356056Z",
     "start_time": "2019-02-19T10:08:46.344056Z"
    }
   },
   "outputs": [],
   "source": [
    "# Rename the average price column to avoid confusion\n",
    "\n",
    "df_pricing_by_mon_dow.rename(columns={'price':'price_by_mon_dow'}, inplace=True)"
   ]
  },
  {
   "cell_type": "code",
   "execution_count": 23,
   "metadata": {
    "ExecuteTime": {
     "end_time": "2019-02-19T10:08:46.566902Z",
     "start_time": "2019-02-19T10:08:46.560403Z"
    }
   },
   "outputs": [
    {
     "data": {
      "text/plain": [
       "(625086, 4)"
      ]
     },
     "execution_count": 23,
     "metadata": {},
     "output_type": "execute_result"
    }
   ],
   "source": [
    "df_pricing_by_mon_dow.shape"
   ]
  },
  {
   "cell_type": "code",
   "execution_count": 24,
   "metadata": {
    "ExecuteTime": {
     "end_time": "2019-02-19T10:08:46.747852Z",
     "start_time": "2019-02-19T10:08:46.736970Z"
    }
   },
   "outputs": [
    {
     "data": {
      "text/html": [
       "<div>\n",
       "<style scoped>\n",
       "    .dataframe tbody tr th:only-of-type {\n",
       "        vertical-align: middle;\n",
       "    }\n",
       "\n",
       "    .dataframe tbody tr th {\n",
       "        vertical-align: top;\n",
       "    }\n",
       "\n",
       "    .dataframe thead th {\n",
       "        text-align: right;\n",
       "    }\n",
       "</style>\n",
       "<table border=\"1\" class=\"dataframe\">\n",
       "  <thead>\n",
       "    <tr style=\"text-align: right;\">\n",
       "      <th></th>\n",
       "      <th>listing_id</th>\n",
       "      <th>month</th>\n",
       "      <th>day_of_week</th>\n",
       "      <th>price_by_mon_dow</th>\n",
       "    </tr>\n",
       "  </thead>\n",
       "  <tbody>\n",
       "    <tr>\n",
       "      <th>0</th>\n",
       "      <td>958</td>\n",
       "      <td>1</td>\n",
       "      <td>0</td>\n",
       "      <td>180.0</td>\n",
       "    </tr>\n",
       "    <tr>\n",
       "      <th>1</th>\n",
       "      <td>958</td>\n",
       "      <td>1</td>\n",
       "      <td>1</td>\n",
       "      <td>179.5</td>\n",
       "    </tr>\n",
       "    <tr>\n",
       "      <th>2</th>\n",
       "      <td>958</td>\n",
       "      <td>1</td>\n",
       "      <td>2</td>\n",
       "      <td>179.5</td>\n",
       "    </tr>\n",
       "    <tr>\n",
       "      <th>3</th>\n",
       "      <td>958</td>\n",
       "      <td>1</td>\n",
       "      <td>3</td>\n",
       "      <td>179.0</td>\n",
       "    </tr>\n",
       "    <tr>\n",
       "      <th>4</th>\n",
       "      <td>958</td>\n",
       "      <td>1</td>\n",
       "      <td>4</td>\n",
       "      <td>183.0</td>\n",
       "    </tr>\n",
       "  </tbody>\n",
       "</table>\n",
       "</div>"
      ],
      "text/plain": [
       "   listing_id  month  day_of_week  price_by_mon_dow\n",
       "0         958      1            0             180.0\n",
       "1         958      1            1             179.5\n",
       "2         958      1            2             179.5\n",
       "3         958      1            3             179.0\n",
       "4         958      1            4             183.0"
      ]
     },
     "execution_count": 24,
     "metadata": {},
     "output_type": "execute_result"
    }
   ],
   "source": [
    "df_pricing_by_mon_dow.head()"
   ]
  },
  {
   "cell_type": "code",
   "execution_count": 25,
   "metadata": {
    "ExecuteTime": {
     "end_time": "2019-02-19T10:08:46.955182Z",
     "start_time": "2019-02-19T10:08:46.900844Z"
    }
   },
   "outputs": [
    {
     "data": {
      "text/html": [
       "<div>\n",
       "<style scoped>\n",
       "    .dataframe tbody tr th:only-of-type {\n",
       "        vertical-align: middle;\n",
       "    }\n",
       "\n",
       "    .dataframe tbody tr th {\n",
       "        vertical-align: top;\n",
       "    }\n",
       "\n",
       "    .dataframe thead th {\n",
       "        text-align: right;\n",
       "    }\n",
       "</style>\n",
       "<table border=\"1\" class=\"dataframe\">\n",
       "  <thead>\n",
       "    <tr style=\"text-align: right;\">\n",
       "      <th></th>\n",
       "      <th>price_by_mon_dow</th>\n",
       "    </tr>\n",
       "  </thead>\n",
       "  <tbody>\n",
       "    <tr>\n",
       "      <th>count</th>\n",
       "      <td>625086.000000</td>\n",
       "    </tr>\n",
       "    <tr>\n",
       "      <th>mean</th>\n",
       "      <td>154.025145</td>\n",
       "    </tr>\n",
       "    <tr>\n",
       "      <th>std</th>\n",
       "      <td>97.041053</td>\n",
       "    </tr>\n",
       "    <tr>\n",
       "      <th>min</th>\n",
       "      <td>40.000000</td>\n",
       "    </tr>\n",
       "    <tr>\n",
       "      <th>25%</th>\n",
       "      <td>80.000000</td>\n",
       "    </tr>\n",
       "    <tr>\n",
       "      <th>50%</th>\n",
       "      <td>128.000000</td>\n",
       "    </tr>\n",
       "    <tr>\n",
       "      <th>75%</th>\n",
       "      <td>199.000000</td>\n",
       "    </tr>\n",
       "    <tr>\n",
       "      <th>max</th>\n",
       "      <td>500.000000</td>\n",
       "    </tr>\n",
       "  </tbody>\n",
       "</table>\n",
       "</div>"
      ],
      "text/plain": [
       "       price_by_mon_dow\n",
       "count     625086.000000\n",
       "mean         154.025145\n",
       "std           97.041053\n",
       "min           40.000000\n",
       "25%           80.000000\n",
       "50%          128.000000\n",
       "75%          199.000000\n",
       "max          500.000000"
      ]
     },
     "execution_count": 25,
     "metadata": {},
     "output_type": "execute_result"
    }
   ],
   "source": [
    "columns2display = ['price_by_mon_dow']\n",
    "\n",
    "df_pricing_by_mon_dow[columns2display].describe()"
   ]
  },
  {
   "cell_type": "markdown",
   "metadata": {
    "ExecuteTime": {
     "end_time": "2019-02-17T23:54:06.544353Z",
     "start_time": "2019-02-17T23:54:06.541120Z"
    }
   },
   "source": [
    "### Convert Month, DOW Info to Dummy Variables"
   ]
  },
  {
   "cell_type": "code",
   "execution_count": 26,
   "metadata": {
    "ExecuteTime": {
     "end_time": "2019-02-19T10:08:47.155987Z",
     "start_time": "2019-02-19T10:08:47.152150Z"
    }
   },
   "outputs": [],
   "source": [
    "def get_month(number):\n",
    "    \"\"\"\n",
    "    Given a number, return the name of month.\n",
    "    \n",
    "    \"\"\"\n",
    "    month_lookup = {1:'Jan.', 2:'Feb.', 3:'Mar.', 4:'Apr.', 5:'May.', 6:'Jun.',\n",
    "                    7:'Jul.', 8:'Aug.', 9:'Sep.', 10:'Oct.', 11:'Nov.', 12:'Dec.'}\n",
    "    \n",
    "    return month_lookup[number]"
   ]
  },
  {
   "cell_type": "code",
   "execution_count": 27,
   "metadata": {
    "ExecuteTime": {
     "end_time": "2019-02-19T10:08:47.312597Z",
     "start_time": "2019-02-19T10:08:47.307645Z"
    }
   },
   "outputs": [],
   "source": [
    "def get_dow(number):\n",
    "    \"\"\"\n",
    "    Given a number, return the day of week (dow)\n",
    "    \n",
    "    \"\"\"\n",
    "    weekday_lookup = {0:'Monday', 1:'Tuesday', 2:'Wednesday', 3:'Thursday', \n",
    "                      4:'Friday', 5:'Saturday', 6:'Sunday'}\n",
    "    \n",
    "    return weekday_lookup[number]"
   ]
  },
  {
   "cell_type": "code",
   "execution_count": 28,
   "metadata": {
    "ExecuteTime": {
     "end_time": "2019-02-19T10:08:48.357730Z",
     "start_time": "2019-02-19T10:08:47.507736Z"
    }
   },
   "outputs": [],
   "source": [
    "# Added names for month, and day of week(dow) informaiton\n",
    "\n",
    "df_pricing_by_mon_dow = apply2df(df_pricing_by_mon_dow, ['month'], get_month )\n",
    "df_pricing_by_mon_dow = apply2df(df_pricing_by_mon_dow, ['day_of_week'], get_dow )"
   ]
  },
  {
   "cell_type": "code",
   "execution_count": 29,
   "metadata": {
    "ExecuteTime": {
     "end_time": "2019-02-19T10:08:48.775420Z",
     "start_time": "2019-02-19T10:08:48.564799Z"
    }
   },
   "outputs": [
    {
     "name": "stdout",
     "output_type": "stream",
     "text": [
      "df_pricing_final dimensions:  (625086, 21)\n"
     ]
    },
    {
     "data": {
      "text/html": [
       "<div>\n",
       "<style scoped>\n",
       "    .dataframe tbody tr th:only-of-type {\n",
       "        vertical-align: middle;\n",
       "    }\n",
       "\n",
       "    .dataframe tbody tr th {\n",
       "        vertical-align: top;\n",
       "    }\n",
       "\n",
       "    .dataframe thead th {\n",
       "        text-align: right;\n",
       "    }\n",
       "</style>\n",
       "<table border=\"1\" class=\"dataframe\">\n",
       "  <thead>\n",
       "    <tr style=\"text-align: right;\">\n",
       "      <th></th>\n",
       "      <th>listing_id</th>\n",
       "      <th>price_by_mon_dow</th>\n",
       "      <th>Apr.</th>\n",
       "      <th>Aug.</th>\n",
       "      <th>Dec.</th>\n",
       "      <th>Feb.</th>\n",
       "      <th>Jan.</th>\n",
       "      <th>Jul.</th>\n",
       "      <th>Jun.</th>\n",
       "      <th>Mar.</th>\n",
       "      <th>...</th>\n",
       "      <th>Nov.</th>\n",
       "      <th>Oct.</th>\n",
       "      <th>Sep.</th>\n",
       "      <th>Friday</th>\n",
       "      <th>Monday</th>\n",
       "      <th>Saturday</th>\n",
       "      <th>Sunday</th>\n",
       "      <th>Thursday</th>\n",
       "      <th>Tuesday</th>\n",
       "      <th>Wednesday</th>\n",
       "    </tr>\n",
       "  </thead>\n",
       "  <tbody>\n",
       "    <tr>\n",
       "      <th>0</th>\n",
       "      <td>958</td>\n",
       "      <td>180.0</td>\n",
       "      <td>0</td>\n",
       "      <td>0</td>\n",
       "      <td>0</td>\n",
       "      <td>0</td>\n",
       "      <td>1</td>\n",
       "      <td>0</td>\n",
       "      <td>0</td>\n",
       "      <td>0</td>\n",
       "      <td>...</td>\n",
       "      <td>0</td>\n",
       "      <td>0</td>\n",
       "      <td>0</td>\n",
       "      <td>0</td>\n",
       "      <td>1</td>\n",
       "      <td>0</td>\n",
       "      <td>0</td>\n",
       "      <td>0</td>\n",
       "      <td>0</td>\n",
       "      <td>0</td>\n",
       "    </tr>\n",
       "    <tr>\n",
       "      <th>1</th>\n",
       "      <td>958</td>\n",
       "      <td>179.5</td>\n",
       "      <td>0</td>\n",
       "      <td>0</td>\n",
       "      <td>0</td>\n",
       "      <td>0</td>\n",
       "      <td>1</td>\n",
       "      <td>0</td>\n",
       "      <td>0</td>\n",
       "      <td>0</td>\n",
       "      <td>...</td>\n",
       "      <td>0</td>\n",
       "      <td>0</td>\n",
       "      <td>0</td>\n",
       "      <td>0</td>\n",
       "      <td>0</td>\n",
       "      <td>0</td>\n",
       "      <td>0</td>\n",
       "      <td>0</td>\n",
       "      <td>1</td>\n",
       "      <td>0</td>\n",
       "    </tr>\n",
       "    <tr>\n",
       "      <th>2</th>\n",
       "      <td>958</td>\n",
       "      <td>179.5</td>\n",
       "      <td>0</td>\n",
       "      <td>0</td>\n",
       "      <td>0</td>\n",
       "      <td>0</td>\n",
       "      <td>1</td>\n",
       "      <td>0</td>\n",
       "      <td>0</td>\n",
       "      <td>0</td>\n",
       "      <td>...</td>\n",
       "      <td>0</td>\n",
       "      <td>0</td>\n",
       "      <td>0</td>\n",
       "      <td>0</td>\n",
       "      <td>0</td>\n",
       "      <td>0</td>\n",
       "      <td>0</td>\n",
       "      <td>0</td>\n",
       "      <td>0</td>\n",
       "      <td>1</td>\n",
       "    </tr>\n",
       "    <tr>\n",
       "      <th>3</th>\n",
       "      <td>958</td>\n",
       "      <td>179.0</td>\n",
       "      <td>0</td>\n",
       "      <td>0</td>\n",
       "      <td>0</td>\n",
       "      <td>0</td>\n",
       "      <td>1</td>\n",
       "      <td>0</td>\n",
       "      <td>0</td>\n",
       "      <td>0</td>\n",
       "      <td>...</td>\n",
       "      <td>0</td>\n",
       "      <td>0</td>\n",
       "      <td>0</td>\n",
       "      <td>0</td>\n",
       "      <td>0</td>\n",
       "      <td>0</td>\n",
       "      <td>0</td>\n",
       "      <td>1</td>\n",
       "      <td>0</td>\n",
       "      <td>0</td>\n",
       "    </tr>\n",
       "    <tr>\n",
       "      <th>4</th>\n",
       "      <td>958</td>\n",
       "      <td>183.0</td>\n",
       "      <td>0</td>\n",
       "      <td>0</td>\n",
       "      <td>0</td>\n",
       "      <td>0</td>\n",
       "      <td>1</td>\n",
       "      <td>0</td>\n",
       "      <td>0</td>\n",
       "      <td>0</td>\n",
       "      <td>...</td>\n",
       "      <td>0</td>\n",
       "      <td>0</td>\n",
       "      <td>0</td>\n",
       "      <td>1</td>\n",
       "      <td>0</td>\n",
       "      <td>0</td>\n",
       "      <td>0</td>\n",
       "      <td>0</td>\n",
       "      <td>0</td>\n",
       "      <td>0</td>\n",
       "    </tr>\n",
       "  </tbody>\n",
       "</table>\n",
       "<p>5 rows × 21 columns</p>\n",
       "</div>"
      ],
      "text/plain": [
       "   listing_id  price_by_mon_dow  Apr.  Aug.  Dec.  Feb.  Jan.  Jul.  Jun.  \\\n",
       "0         958             180.0     0     0     0     0     1     0     0   \n",
       "1         958             179.5     0     0     0     0     1     0     0   \n",
       "2         958             179.5     0     0     0     0     1     0     0   \n",
       "3         958             179.0     0     0     0     0     1     0     0   \n",
       "4         958             183.0     0     0     0     0     1     0     0   \n",
       "\n",
       "   Mar.    ...      Nov.  Oct.  Sep.  Friday  Monday  Saturday  Sunday  \\\n",
       "0     0    ...         0     0     0       0       1         0       0   \n",
       "1     0    ...         0     0     0       0       0         0       0   \n",
       "2     0    ...         0     0     0       0       0         0       0   \n",
       "3     0    ...         0     0     0       0       0         0       0   \n",
       "4     0    ...         0     0     0       1       0         0       0   \n",
       "\n",
       "   Thursday  Tuesday  Wednesday  \n",
       "0         0        0          0  \n",
       "1         0        1          0  \n",
       "2         0        0          1  \n",
       "3         1        0          0  \n",
       "4         0        0          0  \n",
       "\n",
       "[5 rows x 21 columns]"
      ]
     },
     "execution_count": 29,
     "metadata": {},
     "output_type": "execute_result"
    }
   ],
   "source": [
    "# Converted month, and dow information to dummy variables\n",
    "\n",
    "df_pricing_final = pd.get_dummies(df_pricing_by_mon_dow, \n",
    "                                  prefix='',\n",
    "                                  prefix_sep='',\n",
    "                                  columns=['month', 'day_of_week'])\n",
    "\n",
    "print ('df_pricing_final dimensions: ', df_pricing_final.shape)\n",
    "df_pricing_final.head()"
   ]
  },
  {
   "cell_type": "code",
   "execution_count": 30,
   "metadata": {
    "ExecuteTime": {
     "end_time": "2019-02-19T10:08:49.134713Z",
     "start_time": "2019-02-19T10:08:49.127061Z"
    }
   },
   "outputs": [
    {
     "data": {
      "text/plain": [
       "Index(['listing_id', 'price_by_mon_dow', 'Apr.', 'Aug.', 'Dec.', 'Feb.',\n",
       "       'Jan.', 'Jul.', 'Jun.', 'Mar.', 'May.', 'Nov.', 'Oct.', 'Sep.',\n",
       "       'Friday', 'Monday', 'Saturday', 'Sunday', 'Thursday', 'Tuesday',\n",
       "       'Wednesday'],\n",
       "      dtype='object')"
      ]
     },
     "execution_count": 30,
     "metadata": {},
     "output_type": "execute_result"
    }
   ],
   "source": [
    "df_pricing_final.columns"
   ]
  },
  {
   "cell_type": "markdown",
   "metadata": {
    "ExecuteTime": {
     "end_time": "2019-02-18T22:31:54.284100Z",
     "start_time": "2019-02-18T22:31:54.280699Z"
    }
   },
   "source": [
    "## test"
   ]
  },
  {
   "cell_type": "code",
   "execution_count": 31,
   "metadata": {
    "ExecuteTime": {
     "end_time": "2019-02-19T10:08:49.642878Z",
     "start_time": "2019-02-19T10:08:49.452332Z"
    }
   },
   "outputs": [
    {
     "data": {
      "text/plain": [
       "<matplotlib.axes._subplots.AxesSubplot at 0x1c1aee05c0>"
      ]
     },
     "execution_count": 31,
     "metadata": {},
     "output_type": "execute_result"
    },
    {
     "data": {
      "image/png": "[encoded data removed]",
      "text/plain": [
       "<Figure size 432x288 with 1 Axes>"
      ]
     },
     "metadata": {},
     "output_type": "display_data"
    }
   ],
   "source": [
    "df_pricing_final.price_by_mon_dow.hist()"
   ]
  },
  {
   "cell_type": "code",
   "execution_count": 32,
   "metadata": {
    "ExecuteTime": {
     "end_time": "2019-02-19T10:08:50.782709Z",
     "start_time": "2019-02-19T10:08:49.926320Z"
    }
   },
   "outputs": [],
   "source": [
    "df_pricing_final['price_by_mon_dow'] = df_pricing_final['price_by_mon_dow'].apply(lambda x: np.log(x))"
   ]
  },
  {
   "cell_type": "code",
   "execution_count": 33,
   "metadata": {
    "ExecuteTime": {
     "end_time": "2019-02-19T10:08:51.230847Z",
     "start_time": "2019-02-19T10:08:51.057366Z"
    }
   },
   "outputs": [
    {
     "data": {
      "text/plain": [
       "<matplotlib.axes._subplots.AxesSubplot at 0x1c1a510ba8>"
      ]
     },
     "execution_count": 33,
     "metadata": {},
     "output_type": "execute_result"
    },
    {
     "data": {
      "image/png": "[encoded data removed]",
      "text/plain": [
       "<Figure size 432x288 with 1 Axes>"
      ]
     },
     "metadata": {},
     "output_type": "display_data"
    }
   ],
   "source": [
    "df_pricing_final.price_by_mon_dow.hist()"
   ]
  },
  {
   "cell_type": "markdown",
   "metadata": {
    "ExecuteTime": {
     "end_time": "2019-02-18T03:10:45.869630Z",
     "start_time": "2019-02-18T03:10:45.866430Z"
    }
   },
   "source": [
    "## Combined Seasonality Data with Previously Identified Features"
   ]
  },
  {
   "cell_type": "code",
   "execution_count": 34,
   "metadata": {
    "ExecuteTime": {
     "end_time": "2019-02-19T10:08:51.552701Z",
     "start_time": "2019-02-19T10:08:51.501622Z"
    }
   },
   "outputs": [
    {
     "name": "stdout",
     "output_type": "stream",
     "text": [
      "df_listings_features dimensions:  (9062, 314)\n"
     ]
    },
    {
     "data": {
      "text/html": [
       "<div>\n",
       "<style scoped>\n",
       "    .dataframe tbody tr th:only-of-type {\n",
       "        vertical-align: middle;\n",
       "    }\n",
       "\n",
       "    .dataframe tbody tr th {\n",
       "        vertical-align: top;\n",
       "    }\n",
       "\n",
       "    .dataframe thead th {\n",
       "        text-align: right;\n",
       "    }\n",
       "</style>\n",
       "<table border=\"1\" class=\"dataframe\">\n",
       "  <thead>\n",
       "    <tr style=\"text-align: right;\">\n",
       "      <th></th>\n",
       "      <th>id</th>\n",
       "      <th>host_yrs</th>\n",
       "      <th>host_response_rate</th>\n",
       "      <th>host_listings_count</th>\n",
       "      <th>accommodates</th>\n",
       "      <th>bathrooms</th>\n",
       "      <th>bedrooms</th>\n",
       "      <th>beds</th>\n",
       "      <th>price</th>\n",
       "      <th>security_deposit</th>\n",
       "      <th>...</th>\n",
       "      <th>amenities_Shampoo</th>\n",
       "      <th>amenities_Single level home</th>\n",
       "      <th>amenities_Smoke detector</th>\n",
       "      <th>amenities_Stepfree access</th>\n",
       "      <th>amenities_TV</th>\n",
       "      <th>amenities_Wifi</th>\n",
       "      <th>amenities_translation missing enhosting_amenity_49</th>\n",
       "      <th>amenities_translation missing enhosting_amenity_50</th>\n",
       "      <th>ref_district</th>\n",
       "      <th>ref_jurisdiction</th>\n",
       "    </tr>\n",
       "  </thead>\n",
       "  <tbody>\n",
       "    <tr>\n",
       "      <th>0</th>\n",
       "      <td>958</td>\n",
       "      <td>12</td>\n",
       "      <td>0.92</td>\n",
       "      <td>1</td>\n",
       "      <td>3</td>\n",
       "      <td>1.0</td>\n",
       "      <td>1.0</td>\n",
       "      <td>2.0</td>\n",
       "      <td>5.135798</td>\n",
       "      <td>1</td>\n",
       "      <td>...</td>\n",
       "      <td>1</td>\n",
       "      <td>0</td>\n",
       "      <td>1</td>\n",
       "      <td>0</td>\n",
       "      <td>1</td>\n",
       "      <td>1</td>\n",
       "      <td>0</td>\n",
       "      <td>0</td>\n",
       "      <td>San Francisco</td>\n",
       "      <td>SAN FRANCISCO</td>\n",
       "    </tr>\n",
       "    <tr>\n",
       "      <th>1</th>\n",
       "      <td>5858</td>\n",
       "      <td>11</td>\n",
       "      <td>1.00</td>\n",
       "      <td>2</td>\n",
       "      <td>5</td>\n",
       "      <td>1.0</td>\n",
       "      <td>2.0</td>\n",
       "      <td>3.0</td>\n",
       "      <td>5.459586</td>\n",
       "      <td>1</td>\n",
       "      <td>...</td>\n",
       "      <td>1</td>\n",
       "      <td>0</td>\n",
       "      <td>1</td>\n",
       "      <td>0</td>\n",
       "      <td>0</td>\n",
       "      <td>1</td>\n",
       "      <td>0</td>\n",
       "      <td>0</td>\n",
       "      <td>San Francisco</td>\n",
       "      <td>SAN FRANCISCO</td>\n",
       "    </tr>\n",
       "    <tr>\n",
       "      <th>2</th>\n",
       "      <td>7918</td>\n",
       "      <td>11</td>\n",
       "      <td>1.00</td>\n",
       "      <td>10</td>\n",
       "      <td>2</td>\n",
       "      <td>4.0</td>\n",
       "      <td>1.0</td>\n",
       "      <td>1.0</td>\n",
       "      <td>4.174387</td>\n",
       "      <td>1</td>\n",
       "      <td>...</td>\n",
       "      <td>0</td>\n",
       "      <td>0</td>\n",
       "      <td>1</td>\n",
       "      <td>0</td>\n",
       "      <td>1</td>\n",
       "      <td>1</td>\n",
       "      <td>1</td>\n",
       "      <td>1</td>\n",
       "      <td>San Francisco</td>\n",
       "      <td>SAN FRANCISCO</td>\n",
       "    </tr>\n",
       "    <tr>\n",
       "      <th>3</th>\n",
       "      <td>8142</td>\n",
       "      <td>11</td>\n",
       "      <td>1.00</td>\n",
       "      <td>10</td>\n",
       "      <td>2</td>\n",
       "      <td>4.0</td>\n",
       "      <td>1.0</td>\n",
       "      <td>1.0</td>\n",
       "      <td>4.174387</td>\n",
       "      <td>1</td>\n",
       "      <td>...</td>\n",
       "      <td>0</td>\n",
       "      <td>0</td>\n",
       "      <td>1</td>\n",
       "      <td>0</td>\n",
       "      <td>1</td>\n",
       "      <td>1</td>\n",
       "      <td>0</td>\n",
       "      <td>0</td>\n",
       "      <td>San Francisco</td>\n",
       "      <td>SAN FRANCISCO</td>\n",
       "    </tr>\n",
       "    <tr>\n",
       "      <th>4</th>\n",
       "      <td>8567</td>\n",
       "      <td>11</td>\n",
       "      <td>0.80</td>\n",
       "      <td>1</td>\n",
       "      <td>6</td>\n",
       "      <td>1.0</td>\n",
       "      <td>2.0</td>\n",
       "      <td>3.0</td>\n",
       "      <td>5.541264</td>\n",
       "      <td>0</td>\n",
       "      <td>...</td>\n",
       "      <td>1</td>\n",
       "      <td>0</td>\n",
       "      <td>1</td>\n",
       "      <td>0</td>\n",
       "      <td>1</td>\n",
       "      <td>1</td>\n",
       "      <td>0</td>\n",
       "      <td>0</td>\n",
       "      <td>San Francisco</td>\n",
       "      <td>SAN FRANCISCO</td>\n",
       "    </tr>\n",
       "  </tbody>\n",
       "</table>\n",
       "<p>5 rows × 314 columns</p>\n",
       "</div>"
      ],
      "text/plain": [
       "     id  host_yrs  host_response_rate  host_listings_count  accommodates  \\\n",
       "0   958        12                0.92                    1             3   \n",
       "1  5858        11                1.00                    2             5   \n",
       "2  7918        11                1.00                   10             2   \n",
       "3  8142        11                1.00                   10             2   \n",
       "4  8567        11                0.80                    1             6   \n",
       "\n",
       "   bathrooms  bedrooms  beds     price  security_deposit        ...         \\\n",
       "0        1.0       1.0   2.0  5.135798                 1        ...          \n",
       "1        1.0       2.0   3.0  5.459586                 1        ...          \n",
       "2        4.0       1.0   1.0  4.174387                 1        ...          \n",
       "3        4.0       1.0   1.0  4.174387                 1        ...          \n",
       "4        1.0       2.0   3.0  5.541264                 0        ...          \n",
       "\n",
       "   amenities_Shampoo  amenities_Single level home  amenities_Smoke detector  \\\n",
       "0                  1                            0                         1   \n",
       "1                  1                            0                         1   \n",
       "2                  0                            0                         1   \n",
       "3                  0                            0                         1   \n",
       "4                  1                            0                         1   \n",
       "\n",
       "   amenities_Stepfree access  amenities_TV  amenities_Wifi  \\\n",
       "0                          0             1               1   \n",
       "1                          0             0               1   \n",
       "2                          0             1               1   \n",
       "3                          0             1               1   \n",
       "4                          0             1               1   \n",
       "\n",
       "   amenities_translation missing enhosting_amenity_49  \\\n",
       "0                                                  0    \n",
       "1                                                  0    \n",
       "2                                                  1    \n",
       "3                                                  0    \n",
       "4                                                  0    \n",
       "\n",
       "   amenities_translation missing enhosting_amenity_50   ref_district  \\\n",
       "0                                                  0   San Francisco   \n",
       "1                                                  0   San Francisco   \n",
       "2                                                  1   San Francisco   \n",
       "3                                                  0   San Francisco   \n",
       "4                                                  0   San Francisco   \n",
       "\n",
       "   ref_jurisdiction  \n",
       "0     SAN FRANCISCO  \n",
       "1     SAN FRANCISCO  \n",
       "2     SAN FRANCISCO  \n",
       "3     SAN FRANCISCO  \n",
       "4     SAN FRANCISCO  \n",
       "\n",
       "[5 rows x 314 columns]"
      ]
     },
     "execution_count": 34,
     "metadata": {},
     "output_type": "execute_result"
    }
   ],
   "source": [
    "# Loaded listings with identified important features\n",
    "\n",
    "pkl_file = '/Users/xzhou/github/project_archives/files_airbnb/{}.pkl'\n",
    "listings = pkl_file.format('df_listings_selected_features')\n",
    "\n",
    "df_listings_features = pd.read_pickle(listings)\n",
    "\n",
    "print ('df_listings_features dimensions: ', df_listings_features.shape)\n",
    "df_listings_features.head()"
   ]
  },
  {
   "cell_type": "code",
   "execution_count": 35,
   "metadata": {
    "ExecuteTime": {
     "end_time": "2019-02-19T10:08:51.958227Z",
     "start_time": "2019-02-19T10:08:51.950529Z"
    }
   },
   "outputs": [
    {
     "data": {
      "text/plain": [
       "Index(['id', 'host_yrs', 'host_response_rate', 'host_listings_count',\n",
       "       'accommodates', 'bathrooms', 'bedrooms', 'beds', 'price',\n",
       "       'security_deposit',\n",
       "       ...\n",
       "       'amenities_Shampoo', 'amenities_Single level home',\n",
       "       'amenities_Smoke detector', 'amenities_Stepfree access', 'amenities_TV',\n",
       "       'amenities_Wifi', 'amenities_translation missing enhosting_amenity_49',\n",
       "       'amenities_translation missing enhosting_amenity_50', 'ref_district',\n",
       "       'ref_jurisdiction'],\n",
       "      dtype='object', length=314)"
      ]
     },
     "execution_count": 35,
     "metadata": {},
     "output_type": "execute_result"
    }
   ],
   "source": [
    "df_listings_features.columns"
   ]
  },
  {
   "cell_type": "code",
   "execution_count": 36,
   "metadata": {
    "ExecuteTime": {
     "end_time": "2019-02-19T10:08:54.317059Z",
     "start_time": "2019-02-19T10:08:52.320051Z"
    }
   },
   "outputs": [],
   "source": [
    "# Combined listing data with seaonality information we just created\n",
    "\n",
    "df_final = pd.merge(left=df_pricing_final, \n",
    "                    right=df_listings_features,\n",
    "                    how='inner',\n",
    "                    left_on='listing_id',\n",
    "                    right_on='id')"
   ]
  },
  {
   "cell_type": "code",
   "execution_count": 37,
   "metadata": {
    "ExecuteTime": {
     "end_time": "2019-02-19T10:08:54.904984Z",
     "start_time": "2019-02-19T10:08:54.897819Z"
    }
   },
   "outputs": [
    {
     "data": {
      "text/plain": [
       "Index(['listing_id', 'price_by_mon_dow', 'Apr.', 'Aug.', 'Dec.', 'Feb.',\n",
       "       'Jan.', 'Jul.', 'Jun.', 'Mar.',\n",
       "       ...\n",
       "       'amenities_Shampoo', 'amenities_Single level home',\n",
       "       'amenities_Smoke detector', 'amenities_Stepfree access', 'amenities_TV',\n",
       "       'amenities_Wifi', 'amenities_translation missing enhosting_amenity_49',\n",
       "       'amenities_translation missing enhosting_amenity_50', 'ref_district',\n",
       "       'ref_jurisdiction'],\n",
       "      dtype='object', length=335)"
      ]
     },
     "execution_count": 37,
     "metadata": {},
     "output_type": "execute_result"
    }
   ],
   "source": [
    "df_final.columns"
   ]
  },
  {
   "cell_type": "code",
   "execution_count": 38,
   "metadata": {
    "ExecuteTime": {
     "end_time": "2019-02-19T10:08:56.921843Z",
     "start_time": "2019-02-19T10:08:55.524814Z"
    }
   },
   "outputs": [
    {
     "data": {
      "text/plain": [
       "(407498, 334)"
      ]
     },
     "execution_count": 38,
     "metadata": {},
     "output_type": "execute_result"
    }
   ],
   "source": [
    "# Dropped duplicate columns\n",
    "\n",
    "duplicate_columns = ['id']\n",
    "df_final.drop(duplicate_columns, axis=1, inplace=True)\n",
    "\n",
    "df_final.shape"
   ]
  },
  {
   "cell_type": "markdown",
   "metadata": {
    "ExecuteTime": {
     "end_time": "2019-02-18T00:26:16.558136Z",
     "start_time": "2019-02-18T00:26:16.554923Z"
    }
   },
   "source": [
    "### Features with High Correlation"
   ]
  },
  {
   "cell_type": "code",
   "execution_count": 39,
   "metadata": {
    "ExecuteTime": {
     "end_time": "2019-02-19T10:10:44.475747Z",
     "start_time": "2019-02-19T10:08:57.506249Z"
    }
   },
   "outputs": [],
   "source": [
    "# Create correlation matrix\n",
    "# Select upper triangle of correlation matrix\n",
    "\n",
    "corr_matrix = df_final.corr().abs()\n",
    "upper = corr_matrix.where(np.triu(np.ones(corr_matrix.shape), k=1).astype(np.bool))"
   ]
  },
  {
   "cell_type": "code",
   "execution_count": 40,
   "metadata": {
    "ExecuteTime": {
     "end_time": "2019-02-19T10:10:45.220183Z",
     "start_time": "2019-02-19T10:10:45.143100Z"
    }
   },
   "outputs": [
    {
     "data": {
      "text/plain": [
       "['price']"
      ]
     },
     "execution_count": 40,
     "metadata": {},
     "output_type": "execute_result"
    }
   ],
   "source": [
    "# Find index of feature columns with correlation greater than 0.90\n",
    "\n",
    "thresold = 0.90\n",
    "to_drop = [column for column in upper.columns if any(upper[column] >= thresold)]\n",
    "\n",
    "to_drop"
   ]
  },
  {
   "cell_type": "code",
   "execution_count": 41,
   "metadata": {
    "ExecuteTime": {
     "end_time": "2019-02-19T10:10:46.240268Z",
     "start_time": "2019-02-19T10:10:45.777138Z"
    }
   },
   "outputs": [],
   "source": [
    "# Drop features that have high correlation\n",
    "\n",
    "df_final.drop(to_drop, axis=1, inplace=True)"
   ]
  },
  {
   "cell_type": "code",
   "execution_count": 42,
   "metadata": {
    "ExecuteTime": {
     "end_time": "2019-02-19T10:10:46.850472Z",
     "start_time": "2019-02-19T10:10:46.843226Z"
    }
   },
   "outputs": [
    {
     "data": {
      "text/plain": [
       "(407498, 333)"
      ]
     },
     "execution_count": 42,
     "metadata": {},
     "output_type": "execute_result"
    }
   ],
   "source": [
    "df_final.shape"
   ]
  },
  {
   "cell_type": "code",
   "execution_count": 42,
   "metadata": {
    "ExecuteTime": {
     "end_time": "2019-02-18T22:51:58.912592Z",
     "start_time": "2019-02-18T22:51:57.861912Z"
    }
   },
   "outputs": [],
   "source": [
    "# Store the data prior to modeling\n",
    "# When there're changes, mark file_updated as true. Changes'll be written to local files\n",
    "# Otherwise, mark file_updated as false. Data will be loaded from existing files\n",
    "\n",
    "file_updated = True\n",
    "pkl_file = '/Users/xzhou/github/project_archives/files_airbnb/{}.pkl'\n",
    "listings_seasonality = pkl_file.format('listings_seasonality')\n",
    "\n",
    "\n",
    "if file_updated:\n",
    "    with open(listings_seasonality, 'wb') as file:\n",
    "        pd.to_pickle(df_final, file)\n",
    "else:\n",
    "    try: \n",
    "        with open(listings_seasonality, 'rb') as file:\n",
    "            df_final = pd.read_pickle(file)\n",
    "    except:\n",
    "        with open(listings_seasonality, 'wb') as file:\n",
    "            pd.to_pickle(df_final, file)"
   ]
  },
  {
   "cell_type": "markdown",
   "metadata": {},
   "source": [
    "# Modeling"
   ]
  },
  {
   "cell_type": "code",
   "execution_count": 43,
   "metadata": {
    "ExecuteTime": {
     "end_time": "2019-02-19T10:10:47.418995Z",
     "start_time": "2019-02-19T10:10:47.412766Z"
    }
   },
   "outputs": [
    {
     "data": {
      "text/plain": [
       "Index(['listing_id', 'price_by_mon_dow', 'Apr.', 'Aug.', 'Dec.', 'Feb.',\n",
       "       'Jan.', 'Jul.', 'Jun.', 'Mar.',\n",
       "       ...\n",
       "       'amenities_Shampoo', 'amenities_Single level home',\n",
       "       'amenities_Smoke detector', 'amenities_Stepfree access', 'amenities_TV',\n",
       "       'amenities_Wifi', 'amenities_translation missing enhosting_amenity_49',\n",
       "       'amenities_translation missing enhosting_amenity_50', 'ref_district',\n",
       "       'ref_jurisdiction'],\n",
       "      dtype='object', length=333)"
      ]
     },
     "execution_count": 43,
     "metadata": {},
     "output_type": "execute_result"
    }
   ],
   "source": [
    "df_final.columns"
   ]
  },
  {
   "cell_type": "code",
   "execution_count": 44,
   "metadata": {
    "ExecuteTime": {
     "end_time": "2019-02-19T10:10:48.050965Z",
     "start_time": "2019-02-19T10:10:47.982774Z"
    }
   },
   "outputs": [
    {
     "data": {
      "text/plain": [
       "Index(['ref_district', 'ref_jurisdiction'], dtype='object')"
      ]
     },
     "execution_count": 44,
     "metadata": {},
     "output_type": "execute_result"
    }
   ],
   "source": [
    "df_final.select_dtypes(include =['object']).columns"
   ]
  },
  {
   "cell_type": "code",
   "execution_count": 45,
   "metadata": {
    "ExecuteTime": {
     "end_time": "2019-02-19T10:10:49.561347Z",
     "start_time": "2019-02-19T10:10:49.266992Z"
    }
   },
   "outputs": [],
   "source": [
    "# Multiple modelings will be performed for price prediction\n",
    "# Data include 'listing_id', which will be used for stratified sampling\n",
    "\n",
    "X = df_final.drop(['price_by_mon_dow', 'ref_district', 'ref_jurisdiction'], axis=1)\n",
    "y = df_final.loc[:, ['listing_id', 'price_by_mon_dow']]"
   ]
  },
  {
   "cell_type": "markdown",
   "metadata": {
    "ExecuteTime": {
     "end_time": "2019-02-18T01:18:22.084154Z",
     "start_time": "2019-02-18T01:18:22.081097Z"
    }
   },
   "source": [
    "## Model Preprocessing"
   ]
  },
  {
   "cell_type": "markdown",
   "metadata": {
    "ExecuteTime": {
     "end_time": "2019-02-18T01:08:15.234738Z",
     "start_time": "2019-02-18T01:08:15.231675Z"
    }
   },
   "source": [
    "### Train and Test Sets Splits"
   ]
  },
  {
   "cell_type": "code",
   "execution_count": 46,
   "metadata": {
    "ExecuteTime": {
     "end_time": "2019-02-19T10:10:54.350254Z",
     "start_time": "2019-02-19T10:10:50.260278Z"
    }
   },
   "outputs": [],
   "source": [
    "# Stratified sampling to prevent information leakage\n",
    "# Identified all available listing_ids and split by listing_ids\n",
    "\n",
    "grp_by_listing_ids = df_final.groupby('listing_id').first().reset_index().listing_id\n",
    "listing_ids = list(grp_by_listing_ids)"
   ]
  },
  {
   "cell_type": "code",
   "execution_count": 47,
   "metadata": {
    "ExecuteTime": {
     "end_time": "2019-02-19T10:10:55.056602Z",
     "start_time": "2019-02-19T10:10:55.044370Z"
    }
   },
   "outputs": [
    {
     "name": "stdout",
     "output_type": "stream",
     "text": [
      "5814\n"
     ]
    },
    {
     "data": {
      "text/plain": [
       "array([ 7439160, 24063472,  8411606, ..., 27260835, 20019232,  8132693])"
      ]
     },
     "execution_count": 47,
     "metadata": {},
     "output_type": "execute_result"
    }
   ],
   "source": [
    "num_of_grps = len(grp_by_listing_ids)\n",
    "training_ids = np.random.choice(listing_ids, int(num_of_grps*0.7),\n",
    "                                replace=False)\n",
    "\n",
    "print(len(training_ids))\n",
    "training_ids"
   ]
  },
  {
   "cell_type": "code",
   "execution_count": 48,
   "metadata": {
    "ExecuteTime": {
     "end_time": "2019-02-19T10:10:55.717475Z",
     "start_time": "2019-02-19T10:10:55.707888Z"
    }
   },
   "outputs": [
    {
     "data": {
      "text/plain": [
       "2493"
      ]
     },
     "execution_count": 48,
     "metadata": {},
     "output_type": "execute_result"
    }
   ],
   "source": [
    "testing_ids = set(grp_by_listing_ids) - set (training_ids)\n",
    "\n",
    "len(testing_ids)"
   ]
  },
  {
   "cell_type": "code",
   "execution_count": 49,
   "metadata": {
    "ExecuteTime": {
     "end_time": "2019-02-19T10:10:57.059396Z",
     "start_time": "2019-02-19T10:10:56.372138Z"
    }
   },
   "outputs": [
    {
     "name": "stdout",
     "output_type": "stream",
     "text": [
      "283936 123562 283936 123562\n"
     ]
    }
   ],
   "source": [
    "# Stratified sampling: splited train and test sets. \n",
    "# Dropped 'listing_id' column\n",
    "\n",
    "X_train = X[X['listing_id'].isin(training_ids)].drop('listing_id', axis=1)\n",
    "X_test = X[X['listing_id'].isin(testing_ids)].drop('listing_id', axis=1)\n",
    "\n",
    "y_train = y[y['listing_id'].isin(training_ids)].drop('listing_id', axis=1).values.ravel()\n",
    "y_test = y[y['listing_id'].isin(testing_ids)].drop('listing_id', axis=1).values.ravel()\n",
    "\n",
    "print(len(X_train), len(X_test), len(y_train), len(y_test))"
   ]
  },
  {
   "cell_type": "markdown",
   "metadata": {
    "ExecuteTime": {
     "end_time": "2019-02-18T01:17:48.722476Z",
     "start_time": "2019-02-18T01:17:48.718285Z"
    }
   },
   "source": [
    "### Feature Normalization"
   ]
  },
  {
   "cell_type": "code",
   "execution_count": 50,
   "metadata": {
    "ExecuteTime": {
     "end_time": "2019-02-19T10:11:03.271081Z",
     "start_time": "2019-02-19T10:10:57.872380Z"
    }
   },
   "outputs": [],
   "source": [
    "ss = StandardScaler()\n",
    "X_train_trans = ss.fit_transform(X_train)\n",
    "X_test_trans = ss.transform (X_test)"
   ]
  },
  {
   "cell_type": "markdown",
   "metadata": {},
   "source": [
    "## Simple Linear Regression"
   ]
  },
  {
   "cell_type": "code",
   "execution_count": 51,
   "metadata": {
    "ExecuteTime": {
     "end_time": "2019-02-19T10:11:34.279677Z",
     "start_time": "2019-02-19T10:11:04.290435Z"
    }
   },
   "outputs": [
    {
     "data": {
      "text/html": [
       "<table class=\"simpletable\">\n",
       "<caption>OLS Regression Results</caption>\n",
       "<tr>\n",
       "  <th>Dep. Variable:</th>            <td>y</td>        <th>  R-squared:         </th> <td>   0.743</td> \n",
       "</tr>\n",
       "<tr>\n",
       "  <th>Model:</th>                   <td>OLS</td>       <th>  Adj. R-squared:    </th> <td>   0.743</td> \n",
       "</tr>\n",
       "<tr>\n",
       "  <th>Method:</th>             <td>Least Squares</td>  <th>  F-statistic:       </th> <td>   2678.</td> \n",
       "</tr>\n",
       "<tr>\n",
       "  <th>Date:</th>             <td>Tue, 19 Feb 2019</td> <th>  Prob (F-statistic):</th>  <td>  0.00</td>  \n",
       "</tr>\n",
       "<tr>\n",
       "  <th>Time:</th>                 <td>02:11:33</td>     <th>  Log-Likelihood:    </th> <td> -50824.</td> \n",
       "</tr>\n",
       "<tr>\n",
       "  <th>No. Observations:</th>      <td>283936</td>      <th>  AIC:               </th> <td>1.023e+05</td>\n",
       "</tr>\n",
       "<tr>\n",
       "  <th>Df Residuals:</th>          <td>283629</td>      <th>  BIC:               </th> <td>1.055e+05</td>\n",
       "</tr>\n",
       "<tr>\n",
       "  <th>Df Model:</th>              <td>   306</td>      <th>                     </th>     <td> </td>    \n",
       "</tr>\n",
       "<tr>\n",
       "  <th>Covariance Type:</th>      <td>nonrobust</td>    <th>                     </th>     <td> </td>    \n",
       "</tr>\n",
       "</table>\n",
       "<table class=\"simpletable\">\n",
       "<tr>\n",
       "    <td></td>       <th>coef</th>     <th>std err</th>      <th>t</th>      <th>P>|t|</th>  <th>[0.025</th>    <th>0.975]</th>  \n",
       "</tr>\n",
       "<tr>\n",
       "  <th>const</th> <td>    4.8156</td> <td>    0.001</td> <td> 8859.474</td> <td> 0.000</td> <td>    4.815</td> <td>    4.817</td>\n",
       "</tr>\n",
       "<tr>\n",
       "  <th>x1</th>    <td> 8.187e+08</td> <td> 1.99e+09</td> <td>    0.411</td> <td> 0.681</td> <td>-3.09e+09</td> <td> 4.73e+09</td>\n",
       "</tr>\n",
       "<tr>\n",
       "  <th>x2</th>    <td> 9.402e+08</td> <td> 2.29e+09</td> <td>    0.411</td> <td> 0.681</td> <td>-3.55e+09</td> <td> 5.43e+09</td>\n",
       "</tr>\n",
       "<tr>\n",
       "  <th>x3</th>    <td> 9.272e+08</td> <td> 2.26e+09</td> <td>    0.411</td> <td> 0.681</td> <td> -3.5e+09</td> <td> 5.35e+09</td>\n",
       "</tr>\n",
       "<tr>\n",
       "  <th>x4</th>    <td> 8.894e+08</td> <td> 2.17e+09</td> <td>    0.411</td> <td> 0.681</td> <td>-3.35e+09</td> <td> 5.13e+09</td>\n",
       "</tr>\n",
       "<tr>\n",
       "  <th>x5</th>    <td> 9.327e+08</td> <td> 2.27e+09</td> <td>    0.411</td> <td> 0.681</td> <td>-3.52e+09</td> <td> 5.38e+09</td>\n",
       "</tr>\n",
       "<tr>\n",
       "  <th>x6</th>    <td> 7.877e+08</td> <td> 1.92e+09</td> <td>    0.411</td> <td> 0.681</td> <td>-2.97e+09</td> <td> 4.55e+09</td>\n",
       "</tr>\n",
       "<tr>\n",
       "  <th>x7</th>    <td> 7.863e+08</td> <td> 1.91e+09</td> <td>    0.411</td> <td> 0.681</td> <td>-2.97e+09</td> <td> 4.54e+09</td>\n",
       "</tr>\n",
       "<tr>\n",
       "  <th>x8</th>    <td> 8.177e+08</td> <td> 1.99e+09</td> <td>    0.411</td> <td> 0.681</td> <td>-3.08e+09</td> <td> 4.72e+09</td>\n",
       "</tr>\n",
       "<tr>\n",
       "  <th>x9</th>    <td> 8.072e+08</td> <td> 1.97e+09</td> <td>    0.411</td> <td> 0.681</td> <td>-3.04e+09</td> <td> 4.66e+09</td>\n",
       "</tr>\n",
       "<tr>\n",
       "  <th>x10</th>   <td> 9.729e+08</td> <td> 2.37e+09</td> <td>    0.411</td> <td> 0.681</td> <td>-3.67e+09</td> <td> 5.62e+09</td>\n",
       "</tr>\n",
       "<tr>\n",
       "  <th>x11</th>   <td> 9.712e+08</td> <td> 2.36e+09</td> <td>    0.411</td> <td> 0.681</td> <td>-3.66e+09</td> <td> 5.61e+09</td>\n",
       "</tr>\n",
       "<tr>\n",
       "  <th>x12</th>   <td> 9.261e+08</td> <td> 2.25e+09</td> <td>    0.411</td> <td> 0.681</td> <td>-3.49e+09</td> <td> 5.35e+09</td>\n",
       "</tr>\n",
       "<tr>\n",
       "  <th>x13</th>   <td> -7.34e+09</td> <td> 1.11e+10</td> <td>   -0.661</td> <td> 0.509</td> <td>-2.91e+10</td> <td> 1.44e+10</td>\n",
       "</tr>\n",
       "<tr>\n",
       "  <th>x14</th>   <td>-7.308e+09</td> <td> 1.11e+10</td> <td>   -0.661</td> <td> 0.509</td> <td> -2.9e+10</td> <td> 1.44e+10</td>\n",
       "</tr>\n",
       "<tr>\n",
       "  <th>x15</th>   <td>-7.288e+09</td> <td>  1.1e+10</td> <td>   -0.661</td> <td> 0.509</td> <td>-2.89e+10</td> <td> 1.43e+10</td>\n",
       "</tr>\n",
       "<tr>\n",
       "  <th>x16</th>   <td>-7.316e+09</td> <td> 1.11e+10</td> <td>   -0.661</td> <td> 0.509</td> <td> -2.9e+10</td> <td> 1.44e+10</td>\n",
       "</tr>\n",
       "<tr>\n",
       "  <th>x17</th>   <td>-7.323e+09</td> <td> 1.11e+10</td> <td>   -0.661</td> <td> 0.509</td> <td> -2.9e+10</td> <td> 1.44e+10</td>\n",
       "</tr>\n",
       "<tr>\n",
       "  <th>x18</th>   <td>-7.257e+09</td> <td>  1.1e+10</td> <td>   -0.661</td> <td> 0.509</td> <td>-2.88e+10</td> <td> 1.43e+10</td>\n",
       "</tr>\n",
       "<tr>\n",
       "  <th>x19</th>   <td>-7.263e+09</td> <td>  1.1e+10</td> <td>   -0.661</td> <td> 0.509</td> <td>-2.88e+10</td> <td> 1.43e+10</td>\n",
       "</tr>\n",
       "<tr>\n",
       "  <th>x20</th>   <td>    0.0087</td> <td>    0.001</td> <td>   11.458</td> <td> 0.000</td> <td>    0.007</td> <td>    0.010</td>\n",
       "</tr>\n",
       "<tr>\n",
       "  <th>x21</th>   <td>    0.0018</td> <td>    0.001</td> <td>    1.742</td> <td> 0.082</td> <td>   -0.000</td> <td>    0.004</td>\n",
       "</tr>\n",
       "<tr>\n",
       "  <th>x22</th>   <td>    0.0249</td> <td>    0.001</td> <td>   27.950</td> <td> 0.000</td> <td>    0.023</td> <td>    0.027</td>\n",
       "</tr>\n",
       "<tr>\n",
       "  <th>x23</th>   <td>    0.1406</td> <td>    0.001</td> <td>  113.942</td> <td> 0.000</td> <td>    0.138</td> <td>    0.143</td>\n",
       "</tr>\n",
       "<tr>\n",
       "  <th>x24</th>   <td>   -0.0081</td> <td>    0.001</td> <td>  -12.039</td> <td> 0.000</td> <td>   -0.009</td> <td>   -0.007</td>\n",
       "</tr>\n",
       "<tr>\n",
       "  <th>x25</th>   <td>    0.1145</td> <td>    0.001</td> <td>  115.287</td> <td> 0.000</td> <td>    0.113</td> <td>    0.116</td>\n",
       "</tr>\n",
       "<tr>\n",
       "  <th>x26</th>   <td>   -0.0196</td> <td>    0.001</td> <td>  -18.278</td> <td> 0.000</td> <td>   -0.022</td> <td>   -0.017</td>\n",
       "</tr>\n",
       "<tr>\n",
       "  <th>x27</th>   <td>   -0.0020</td> <td>    0.001</td> <td>   -3.310</td> <td> 0.001</td> <td>   -0.003</td> <td>   -0.001</td>\n",
       "</tr>\n",
       "<tr>\n",
       "  <th>x28</th>   <td>    0.0415</td> <td>    0.001</td> <td>   53.158</td> <td> 0.000</td> <td>    0.040</td> <td>    0.043</td>\n",
       "</tr>\n",
       "<tr>\n",
       "  <th>x29</th>   <td>    0.0282</td> <td>    0.001</td> <td>   37.133</td> <td> 0.000</td> <td>    0.027</td> <td>    0.030</td>\n",
       "</tr>\n",
       "<tr>\n",
       "  <th>x30</th>   <td>   -0.0231</td> <td>    0.001</td> <td>  -34.910</td> <td> 0.000</td> <td>   -0.024</td> <td>   -0.022</td>\n",
       "</tr>\n",
       "<tr>\n",
       "  <th>x31</th>   <td>   -0.0014</td> <td>    0.001</td> <td>   -1.332</td> <td> 0.183</td> <td>   -0.003</td> <td>    0.001</td>\n",
       "</tr>\n",
       "<tr>\n",
       "  <th>x32</th>   <td>   -0.0178</td> <td>    0.001</td> <td>  -17.771</td> <td> 0.000</td> <td>   -0.020</td> <td>   -0.016</td>\n",
       "</tr>\n",
       "<tr>\n",
       "  <th>x33</th>   <td>    0.0235</td> <td>    0.001</td> <td>   20.445</td> <td> 0.000</td> <td>    0.021</td> <td>    0.026</td>\n",
       "</tr>\n",
       "<tr>\n",
       "  <th>x34</th>   <td>    0.0118</td> <td>    0.001</td> <td>   12.140</td> <td> 0.000</td> <td>    0.010</td> <td>    0.014</td>\n",
       "</tr>\n",
       "<tr>\n",
       "  <th>x35</th>   <td>    0.0479</td> <td>    0.001</td> <td>   55.632</td> <td> 0.000</td> <td>    0.046</td> <td>    0.050</td>\n",
       "</tr>\n",
       "<tr>\n",
       "  <th>x36</th>   <td>    0.0027</td> <td>    0.001</td> <td>    3.410</td> <td> 0.001</td> <td>    0.001</td> <td>    0.004</td>\n",
       "</tr>\n",
       "<tr>\n",
       "  <th>x37</th>   <td>    0.0029</td> <td>    0.001</td> <td>    3.450</td> <td> 0.001</td> <td>    0.001</td> <td>    0.005</td>\n",
       "</tr>\n",
       "<tr>\n",
       "  <th>x38</th>   <td>    0.0214</td> <td>    0.001</td> <td>   27.379</td> <td> 0.000</td> <td>    0.020</td> <td>    0.023</td>\n",
       "</tr>\n",
       "<tr>\n",
       "  <th>x39</th>   <td>   -0.0356</td> <td>    0.001</td> <td>  -39.120</td> <td> 0.000</td> <td>   -0.037</td> <td>   -0.034</td>\n",
       "</tr>\n",
       "<tr>\n",
       "  <th>x40</th>   <td>   -0.0536</td> <td>    0.001</td> <td>  -59.672</td> <td> 0.000</td> <td>   -0.055</td> <td>   -0.052</td>\n",
       "</tr>\n",
       "<tr>\n",
       "  <th>x41</th>   <td>   -0.0240</td> <td>    0.001</td> <td>  -23.726</td> <td> 0.000</td> <td>   -0.026</td> <td>   -0.022</td>\n",
       "</tr>\n",
       "<tr>\n",
       "  <th>x42</th>   <td> 4.965e+06</td> <td>  7.5e+06</td> <td>    0.662</td> <td> 0.508</td> <td>-9.74e+06</td> <td> 1.97e+07</td>\n",
       "</tr>\n",
       "<tr>\n",
       "  <th>x43</th>   <td> 1.491e+07</td> <td> 2.25e+07</td> <td>    0.662</td> <td> 0.508</td> <td>-2.92e+07</td> <td> 5.91e+07</td>\n",
       "</tr>\n",
       "<tr>\n",
       "  <th>x44</th>   <td> 2.013e+07</td> <td> 3.04e+07</td> <td>    0.662</td> <td> 0.508</td> <td>-3.95e+07</td> <td> 7.97e+07</td>\n",
       "</tr>\n",
       "<tr>\n",
       "  <th>x45</th>   <td> 2.301e+07</td> <td> 3.48e+07</td> <td>    0.662</td> <td> 0.508</td> <td>-4.51e+07</td> <td> 9.11e+07</td>\n",
       "</tr>\n",
       "<tr>\n",
       "  <th>x46</th>   <td>   -0.0206</td> <td>    0.001</td> <td>  -30.794</td> <td> 0.000</td> <td>   -0.022</td> <td>   -0.019</td>\n",
       "</tr>\n",
       "<tr>\n",
       "  <th>x47</th>   <td>    0.0064</td> <td>    0.001</td> <td>   11.511</td> <td> 0.000</td> <td>    0.005</td> <td>    0.008</td>\n",
       "</tr>\n",
       "<tr>\n",
       "  <th>x48</th>   <td>   -0.0105</td> <td>    0.001</td> <td>  -16.162</td> <td> 0.000</td> <td>   -0.012</td> <td>   -0.009</td>\n",
       "</tr>\n",
       "<tr>\n",
       "  <th>x49</th>   <td> 1.327e+08</td> <td> 1.98e+08</td> <td>    0.670</td> <td> 0.503</td> <td>-2.56e+08</td> <td> 5.21e+08</td>\n",
       "</tr>\n",
       "<tr>\n",
       "  <th>x50</th>   <td>  4.31e+06</td> <td> 6.59e+06</td> <td>    0.654</td> <td> 0.513</td> <td>-8.61e+06</td> <td> 1.72e+07</td>\n",
       "</tr>\n",
       "<tr>\n",
       "  <th>x51</th>   <td> 1.959e+06</td> <td>    3e+06</td> <td>    0.654</td> <td> 0.513</td> <td>-3.91e+06</td> <td> 7.83e+06</td>\n",
       "</tr>\n",
       "<tr>\n",
       "  <th>x52</th>   <td> 2.319e+06</td> <td> 3.55e+06</td> <td>    0.654</td> <td> 0.513</td> <td>-4.63e+06</td> <td> 9.27e+06</td>\n",
       "</tr>\n",
       "<tr>\n",
       "  <th>x53</th>   <td> 1.137e+06</td> <td> 1.74e+06</td> <td>    0.654</td> <td> 0.513</td> <td>-2.27e+06</td> <td> 4.55e+06</td>\n",
       "</tr>\n",
       "<tr>\n",
       "  <th>x54</th>   <td> -5.08e+07</td> <td> 8.04e+07</td> <td>   -0.632</td> <td> 0.527</td> <td>-2.08e+08</td> <td> 1.07e+08</td>\n",
       "</tr>\n",
       "<tr>\n",
       "  <th>x55</th>   <td> 6.717e+06</td> <td> 1.03e+07</td> <td>    0.654</td> <td> 0.513</td> <td>-1.34e+07</td> <td> 2.69e+07</td>\n",
       "</tr>\n",
       "<tr>\n",
       "  <th>x56</th>   <td>  7.32e+05</td> <td> 1.12e+06</td> <td>    0.654</td> <td> 0.513</td> <td>-1.46e+06</td> <td> 2.93e+06</td>\n",
       "</tr>\n",
       "<tr>\n",
       "  <th>x57</th>   <td> 9.823e+06</td> <td>  1.5e+07</td> <td>    0.654</td> <td> 0.513</td> <td>-1.96e+07</td> <td> 3.93e+07</td>\n",
       "</tr>\n",
       "<tr>\n",
       "  <th>x58</th>   <td> 2.221e+06</td> <td>  3.4e+06</td> <td>    0.654</td> <td> 0.513</td> <td>-4.44e+06</td> <td> 8.88e+06</td>\n",
       "</tr>\n",
       "<tr>\n",
       "  <th>x59</th>   <td> 5.496e+06</td> <td> 8.41e+06</td> <td>    0.654</td> <td> 0.513</td> <td> -1.1e+07</td> <td>  2.2e+07</td>\n",
       "</tr>\n",
       "<tr>\n",
       "  <th>x60</th>   <td> 2.156e+06</td> <td>  3.3e+06</td> <td>    0.654</td> <td> 0.513</td> <td>-4.31e+06</td> <td> 8.62e+06</td>\n",
       "</tr>\n",
       "<tr>\n",
       "  <th>x61</th>   <td>-1.781e+06</td> <td> 2.44e+06</td> <td>   -0.730</td> <td> 0.465</td> <td>-6.56e+06</td> <td>    3e+06</td>\n",
       "</tr>\n",
       "<tr>\n",
       "  <th>x62</th>   <td> 1.912e+06</td> <td> 2.92e+06</td> <td>    0.654</td> <td> 0.513</td> <td>-3.82e+06</td> <td> 7.64e+06</td>\n",
       "</tr>\n",
       "<tr>\n",
       "  <th>x63</th>   <td> 9.796e+06</td> <td>  1.5e+07</td> <td>    0.654</td> <td> 0.513</td> <td>-1.96e+07</td> <td> 3.92e+07</td>\n",
       "</tr>\n",
       "<tr>\n",
       "  <th>x64</th>   <td> 2.063e+06</td> <td> 3.16e+06</td> <td>    0.654</td> <td> 0.513</td> <td>-4.12e+06</td> <td> 8.25e+06</td>\n",
       "</tr>\n",
       "<tr>\n",
       "  <th>x65</th>   <td> 4.909e+06</td> <td> 7.51e+06</td> <td>    0.654</td> <td> 0.513</td> <td>-9.81e+06</td> <td> 1.96e+07</td>\n",
       "</tr>\n",
       "<tr>\n",
       "  <th>x66</th>   <td> 1.814e+06</td> <td> 2.77e+06</td> <td>    0.654</td> <td> 0.513</td> <td>-3.62e+06</td> <td> 7.25e+06</td>\n",
       "</tr>\n",
       "<tr>\n",
       "  <th>x67</th>   <td> 3.309e+06</td> <td> 5.06e+06</td> <td>    0.654</td> <td> 0.513</td> <td>-6.61e+06</td> <td> 1.32e+07</td>\n",
       "</tr>\n",
       "<tr>\n",
       "  <th>x68</th>   <td> 4.334e+06</td> <td> 6.63e+06</td> <td>    0.654</td> <td> 0.513</td> <td>-8.66e+06</td> <td> 1.73e+07</td>\n",
       "</tr>\n",
       "<tr>\n",
       "  <th>x69</th>   <td> 2.575e+06</td> <td> 3.94e+06</td> <td>    0.654</td> <td> 0.513</td> <td>-5.14e+06</td> <td> 1.03e+07</td>\n",
       "</tr>\n",
       "<tr>\n",
       "  <th>x70</th>   <td> 4.278e+05</td> <td> 6.54e+05</td> <td>    0.654</td> <td> 0.513</td> <td>-8.55e+05</td> <td> 1.71e+06</td>\n",
       "</tr>\n",
       "<tr>\n",
       "  <th>x71</th>   <td> 3.878e+06</td> <td> 5.93e+06</td> <td>    0.654</td> <td> 0.513</td> <td>-7.75e+06</td> <td> 1.55e+07</td>\n",
       "</tr>\n",
       "<tr>\n",
       "  <th>x72</th>   <td>  2.62e+06</td> <td> 4.01e+06</td> <td>    0.654</td> <td> 0.513</td> <td>-5.23e+06</td> <td> 1.05e+07</td>\n",
       "</tr>\n",
       "<tr>\n",
       "  <th>x73</th>   <td>-8.845e+06</td> <td> 1.21e+07</td> <td>   -0.730</td> <td> 0.465</td> <td>-3.26e+07</td> <td> 1.49e+07</td>\n",
       "</tr>\n",
       "<tr>\n",
       "  <th>x74</th>   <td> 1.796e+06</td> <td> 2.75e+06</td> <td>    0.654</td> <td> 0.513</td> <td>-3.59e+06</td> <td> 7.18e+06</td>\n",
       "</tr>\n",
       "<tr>\n",
       "  <th>x75</th>   <td> 1.512e+06</td> <td> 2.31e+06</td> <td>    0.654</td> <td> 0.513</td> <td>-3.02e+06</td> <td> 6.04e+06</td>\n",
       "</tr>\n",
       "<tr>\n",
       "  <th>x76</th>   <td> 9.966e+05</td> <td> 1.52e+06</td> <td>    0.654</td> <td> 0.513</td> <td>-1.99e+06</td> <td> 3.98e+06</td>\n",
       "</tr>\n",
       "<tr>\n",
       "  <th>x77</th>   <td> 1.002e+07</td> <td> 1.53e+07</td> <td>    0.654</td> <td> 0.513</td> <td>   -2e+07</td> <td> 4.01e+07</td>\n",
       "</tr>\n",
       "<tr>\n",
       "  <th>x78</th>   <td> 1.652e+06</td> <td> 2.53e+06</td> <td>    0.654</td> <td> 0.513</td> <td> -3.3e+06</td> <td> 6.61e+06</td>\n",
       "</tr>\n",
       "<tr>\n",
       "  <th>x79</th>   <td> 1.283e+06</td> <td> 1.96e+06</td> <td>    0.654</td> <td> 0.513</td> <td>-2.56e+06</td> <td> 5.13e+06</td>\n",
       "</tr>\n",
       "<tr>\n",
       "  <th>x80</th>   <td> 1.303e+06</td> <td> 1.99e+06</td> <td>    0.654</td> <td> 0.513</td> <td> -2.6e+06</td> <td> 5.21e+06</td>\n",
       "</tr>\n",
       "<tr>\n",
       "  <th>x81</th>   <td> 3.166e+06</td> <td> 4.84e+06</td> <td>    0.654</td> <td> 0.513</td> <td>-6.33e+06</td> <td> 1.27e+07</td>\n",
       "</tr>\n",
       "<tr>\n",
       "  <th>x82</th>   <td> 7.669e+05</td> <td> 1.17e+06</td> <td>    0.654</td> <td> 0.513</td> <td>-1.53e+06</td> <td> 3.07e+06</td>\n",
       "</tr>\n",
       "<tr>\n",
       "  <th>x83</th>   <td> 6.094e+06</td> <td> 9.32e+06</td> <td>    0.654</td> <td> 0.513</td> <td>-1.22e+07</td> <td> 2.44e+07</td>\n",
       "</tr>\n",
       "<tr>\n",
       "  <th>x84</th>   <td> 1.624e+06</td> <td> 2.48e+06</td> <td>    0.654</td> <td> 0.513</td> <td>-3.25e+06</td> <td> 6.49e+06</td>\n",
       "</tr>\n",
       "<tr>\n",
       "  <th>x85</th>   <td> 1.372e+06</td> <td>  2.1e+06</td> <td>    0.654</td> <td> 0.513</td> <td>-2.74e+06</td> <td> 5.48e+06</td>\n",
       "</tr>\n",
       "<tr>\n",
       "  <th>x86</th>   <td> 4.211e+06</td> <td> 6.44e+06</td> <td>    0.654</td> <td> 0.513</td> <td>-8.41e+06</td> <td> 1.68e+07</td>\n",
       "</tr>\n",
       "<tr>\n",
       "  <th>x87</th>   <td>  4.64e+06</td> <td>  7.1e+06</td> <td>    0.654</td> <td> 0.513</td> <td>-9.27e+06</td> <td> 1.86e+07</td>\n",
       "</tr>\n",
       "<tr>\n",
       "  <th>x88</th>   <td> 1.166e+06</td> <td> 1.78e+06</td> <td>    0.654</td> <td> 0.513</td> <td>-2.33e+06</td> <td> 4.66e+06</td>\n",
       "</tr>\n",
       "<tr>\n",
       "  <th>x89</th>   <td> 2.189e+06</td> <td> 3.35e+06</td> <td>    0.654</td> <td> 0.513</td> <td>-4.37e+06</td> <td> 8.75e+06</td>\n",
       "</tr>\n",
       "<tr>\n",
       "  <th>x90</th>   <td> 7.669e+05</td> <td> 1.17e+06</td> <td>    0.654</td> <td> 0.513</td> <td>-1.53e+06</td> <td> 3.07e+06</td>\n",
       "</tr>\n",
       "<tr>\n",
       "  <th>x91</th>   <td>  2.63e+06</td> <td> 4.02e+06</td> <td>    0.654</td> <td> 0.513</td> <td>-5.25e+06</td> <td> 1.05e+07</td>\n",
       "</tr>\n",
       "<tr>\n",
       "  <th>x92</th>   <td> 7.838e+05</td> <td>  1.2e+06</td> <td>    0.654</td> <td> 0.513</td> <td>-1.57e+06</td> <td> 3.13e+06</td>\n",
       "</tr>\n",
       "<tr>\n",
       "  <th>x93</th>   <td> 1.828e+06</td> <td>  2.8e+06</td> <td>    0.654</td> <td> 0.513</td> <td>-3.65e+06</td> <td> 7.31e+06</td>\n",
       "</tr>\n",
       "<tr>\n",
       "  <th>x94</th>   <td> 2.268e+06</td> <td> 3.47e+06</td> <td>    0.654</td> <td> 0.513</td> <td>-4.53e+06</td> <td> 9.07e+06</td>\n",
       "</tr>\n",
       "<tr>\n",
       "  <th>x95</th>   <td>  3.06e+06</td> <td> 4.68e+06</td> <td>    0.654</td> <td> 0.513</td> <td>-6.11e+06</td> <td> 1.22e+07</td>\n",
       "</tr>\n",
       "<tr>\n",
       "  <th>x96</th>   <td> 3.618e+06</td> <td> 5.53e+06</td> <td>    0.654</td> <td> 0.513</td> <td>-7.23e+06</td> <td> 1.45e+07</td>\n",
       "</tr>\n",
       "<tr>\n",
       "  <th>x97</th>   <td>  3.17e+06</td> <td> 4.85e+06</td> <td>    0.654</td> <td> 0.513</td> <td>-6.33e+06</td> <td> 1.27e+07</td>\n",
       "</tr>\n",
       "<tr>\n",
       "  <th>x98</th>   <td> 1.236e+06</td> <td> 1.89e+06</td> <td>    0.654</td> <td> 0.513</td> <td>-2.47e+06</td> <td> 4.94e+06</td>\n",
       "</tr>\n",
       "<tr>\n",
       "  <th>x99</th>   <td> 1.516e+06</td> <td> 2.32e+06</td> <td>    0.654</td> <td> 0.513</td> <td>-3.03e+06</td> <td> 6.06e+06</td>\n",
       "</tr>\n",
       "<tr>\n",
       "  <th>x100</th>  <td> 3.698e+06</td> <td> 5.66e+06</td> <td>    0.654</td> <td> 0.513</td> <td>-7.39e+06</td> <td> 1.48e+07</td>\n",
       "</tr>\n",
       "<tr>\n",
       "  <th>x101</th>  <td> 9.655e+06</td> <td> 1.48e+07</td> <td>    0.654</td> <td> 0.513</td> <td>-1.93e+07</td> <td> 3.86e+07</td>\n",
       "</tr>\n",
       "<tr>\n",
       "  <th>x102</th>  <td> 6.764e+05</td> <td> 1.03e+06</td> <td>    0.654</td> <td> 0.513</td> <td>-1.35e+06</td> <td>  2.7e+06</td>\n",
       "</tr>\n",
       "<tr>\n",
       "  <th>x103</th>  <td> 9.217e+05</td> <td> 1.41e+06</td> <td>    0.654</td> <td> 0.513</td> <td>-1.84e+06</td> <td> 3.68e+06</td>\n",
       "</tr>\n",
       "<tr>\n",
       "  <th>x104</th>  <td>-1.307e+08</td> <td> 1.98e+08</td> <td>   -0.661</td> <td> 0.509</td> <td>-5.19e+08</td> <td> 2.57e+08</td>\n",
       "</tr>\n",
       "<tr>\n",
       "  <th>x105</th>  <td> 3.157e+07</td> <td> 4.78e+07</td> <td>    0.660</td> <td> 0.509</td> <td>-6.22e+07</td> <td> 1.25e+08</td>\n",
       "</tr>\n",
       "<tr>\n",
       "  <th>x106</th>  <td> 1.298e+06</td> <td> 1.99e+06</td> <td>    0.654</td> <td> 0.513</td> <td>-2.59e+06</td> <td> 5.19e+06</td>\n",
       "</tr>\n",
       "<tr>\n",
       "  <th>x107</th>  <td> 5.716e+05</td> <td> 8.74e+05</td> <td>    0.654</td> <td> 0.513</td> <td>-1.14e+06</td> <td> 2.29e+06</td>\n",
       "</tr>\n",
       "<tr>\n",
       "  <th>x108</th>  <td> 3.783e+06</td> <td> 5.79e+06</td> <td>    0.654</td> <td> 0.513</td> <td>-7.56e+06</td> <td> 1.51e+07</td>\n",
       "</tr>\n",
       "<tr>\n",
       "  <th>x109</th>  <td> 8.335e+06</td> <td> 1.27e+07</td> <td>    0.654</td> <td> 0.513</td> <td>-1.67e+07</td> <td> 3.33e+07</td>\n",
       "</tr>\n",
       "<tr>\n",
       "  <th>x110</th>  <td> 5.888e+06</td> <td> 9.01e+06</td> <td>    0.654</td> <td> 0.513</td> <td>-1.18e+07</td> <td> 2.35e+07</td>\n",
       "</tr>\n",
       "<tr>\n",
       "  <th>x111</th>  <td> 2.751e+06</td> <td> 4.21e+06</td> <td>    0.654</td> <td> 0.513</td> <td> -5.5e+06</td> <td>  1.1e+07</td>\n",
       "</tr>\n",
       "<tr>\n",
       "  <th>x112</th>  <td> 1.409e+06</td> <td> 2.16e+06</td> <td>    0.654</td> <td> 0.513</td> <td>-2.82e+06</td> <td> 5.63e+06</td>\n",
       "</tr>\n",
       "<tr>\n",
       "  <th>x113</th>  <td> 1.215e+06</td> <td> 1.86e+06</td> <td>    0.654</td> <td> 0.513</td> <td>-2.43e+06</td> <td> 4.86e+06</td>\n",
       "</tr>\n",
       "<tr>\n",
       "  <th>x114</th>  <td> 6.317e+06</td> <td> 9.66e+06</td> <td>    0.654</td> <td> 0.513</td> <td>-1.26e+07</td> <td> 2.53e+07</td>\n",
       "</tr>\n",
       "<tr>\n",
       "  <th>x115</th>  <td> 1.983e+06</td> <td> 3.03e+06</td> <td>    0.654</td> <td> 0.513</td> <td>-3.96e+06</td> <td> 7.93e+06</td>\n",
       "</tr>\n",
       "<tr>\n",
       "  <th>x116</th>  <td> 2.171e+07</td> <td> 3.28e+07</td> <td>    0.661</td> <td> 0.508</td> <td>-4.26e+07</td> <td> 8.61e+07</td>\n",
       "</tr>\n",
       "<tr>\n",
       "  <th>x117</th>  <td> 1.048e+06</td> <td>  1.6e+06</td> <td>    0.654</td> <td> 0.513</td> <td>-2.09e+06</td> <td> 4.19e+06</td>\n",
       "</tr>\n",
       "<tr>\n",
       "  <th>x118</th>  <td>-4.628e+07</td> <td> 7.01e+07</td> <td>   -0.661</td> <td> 0.509</td> <td>-1.84e+08</td> <td>  9.1e+07</td>\n",
       "</tr>\n",
       "<tr>\n",
       "  <th>x119</th>  <td> 2.777e+06</td> <td> 4.25e+06</td> <td>    0.654</td> <td> 0.513</td> <td>-5.55e+06</td> <td> 1.11e+07</td>\n",
       "</tr>\n",
       "<tr>\n",
       "  <th>x120</th>  <td> 1.029e+06</td> <td> 1.57e+06</td> <td>    0.654</td> <td> 0.513</td> <td>-2.06e+06</td> <td> 4.11e+06</td>\n",
       "</tr>\n",
       "<tr>\n",
       "  <th>x121</th>  <td> 5.082e+06</td> <td> 7.77e+06</td> <td>    0.654</td> <td> 0.513</td> <td>-1.02e+07</td> <td> 2.03e+07</td>\n",
       "</tr>\n",
       "<tr>\n",
       "  <th>x122</th>  <td>-1.217e+06</td> <td> 1.67e+06</td> <td>   -0.730</td> <td> 0.465</td> <td>-4.48e+06</td> <td> 2.05e+06</td>\n",
       "</tr>\n",
       "<tr>\n",
       "  <th>x123</th>  <td> 2.147e+06</td> <td> 3.28e+06</td> <td>    0.654</td> <td> 0.513</td> <td>-4.29e+06</td> <td> 8.58e+06</td>\n",
       "</tr>\n",
       "<tr>\n",
       "  <th>x124</th>  <td> 6.193e+06</td> <td> 9.47e+06</td> <td>    0.654</td> <td> 0.513</td> <td>-1.24e+07</td> <td> 2.48e+07</td>\n",
       "</tr>\n",
       "<tr>\n",
       "  <th>x125</th>  <td> 1.969e+06</td> <td> 3.01e+06</td> <td>    0.654</td> <td> 0.513</td> <td>-3.93e+06</td> <td> 7.87e+06</td>\n",
       "</tr>\n",
       "<tr>\n",
       "  <th>x126</th>  <td> 2.518e+06</td> <td> 3.85e+06</td> <td>    0.654</td> <td> 0.513</td> <td>-5.03e+06</td> <td> 1.01e+07</td>\n",
       "</tr>\n",
       "<tr>\n",
       "  <th>x127</th>  <td> 1.309e+07</td> <td> 1.98e+07</td> <td>    0.661</td> <td> 0.509</td> <td>-2.57e+07</td> <td> 5.19e+07</td>\n",
       "</tr>\n",
       "<tr>\n",
       "  <th>x128</th>  <td> 1.288e+06</td> <td> 1.97e+06</td> <td>    0.654</td> <td> 0.513</td> <td>-2.57e+06</td> <td> 5.15e+06</td>\n",
       "</tr>\n",
       "<tr>\n",
       "  <th>x129</th>  <td>  3.49e+06</td> <td> 5.34e+06</td> <td>    0.654</td> <td> 0.513</td> <td>-6.97e+06</td> <td>  1.4e+07</td>\n",
       "</tr>\n",
       "<tr>\n",
       "  <th>x130</th>  <td> 8.555e+05</td> <td> 1.31e+06</td> <td>    0.654</td> <td> 0.513</td> <td>-1.71e+06</td> <td> 3.42e+06</td>\n",
       "</tr>\n",
       "<tr>\n",
       "  <th>x131</th>  <td> 2.976e+06</td> <td> 4.55e+06</td> <td>    0.654</td> <td> 0.513</td> <td>-5.95e+06</td> <td> 1.19e+07</td>\n",
       "</tr>\n",
       "<tr>\n",
       "  <th>x132</th>  <td> 1.302e+07</td> <td> 1.99e+07</td> <td>    0.654</td> <td> 0.513</td> <td> -2.6e+07</td> <td> 5.21e+07</td>\n",
       "</tr>\n",
       "<tr>\n",
       "  <th>x133</th>  <td> 4.111e+06</td> <td> 6.29e+06</td> <td>    0.654</td> <td> 0.513</td> <td>-8.21e+06</td> <td> 1.64e+07</td>\n",
       "</tr>\n",
       "<tr>\n",
       "  <th>x134</th>  <td> 9.834e+05</td> <td>  1.5e+06</td> <td>    0.654</td> <td> 0.513</td> <td>-1.96e+06</td> <td> 3.93e+06</td>\n",
       "</tr>\n",
       "<tr>\n",
       "  <th>x135</th>  <td> 1.226e+06</td> <td> 1.87e+06</td> <td>    0.654</td> <td> 0.513</td> <td>-2.45e+06</td> <td>  4.9e+06</td>\n",
       "</tr>\n",
       "<tr>\n",
       "  <th>x136</th>  <td>-6.668e+05</td> <td> 9.13e+05</td> <td>   -0.730</td> <td> 0.465</td> <td>-2.46e+06</td> <td> 1.12e+06</td>\n",
       "</tr>\n",
       "<tr>\n",
       "  <th>x137</th>  <td> 5.716e+05</td> <td> 8.74e+05</td> <td>    0.654</td> <td> 0.513</td> <td>-1.14e+06</td> <td> 2.29e+06</td>\n",
       "</tr>\n",
       "<tr>\n",
       "  <th>x138</th>  <td> 7.516e+06</td> <td> 1.15e+07</td> <td>    0.654</td> <td> 0.513</td> <td> -1.5e+07</td> <td>    3e+07</td>\n",
       "</tr>\n",
       "<tr>\n",
       "  <th>x139</th>  <td> 8.837e+06</td> <td> 1.35e+07</td> <td>    0.654</td> <td> 0.513</td> <td>-1.77e+07</td> <td> 3.53e+07</td>\n",
       "</tr>\n",
       "<tr>\n",
       "  <th>x140</th>  <td> 5.547e+06</td> <td> 8.48e+06</td> <td>    0.654</td> <td> 0.513</td> <td>-1.11e+07</td> <td> 2.22e+07</td>\n",
       "</tr>\n",
       "<tr>\n",
       "  <th>x141</th>  <td> 1.352e+06</td> <td> 2.07e+06</td> <td>    0.654</td> <td> 0.513</td> <td> -2.7e+06</td> <td> 5.41e+06</td>\n",
       "</tr>\n",
       "<tr>\n",
       "  <th>x142</th>  <td> 3.271e+06</td> <td>    5e+06</td> <td>    0.654</td> <td> 0.513</td> <td>-6.54e+06</td> <td> 1.31e+07</td>\n",
       "</tr>\n",
       "<tr>\n",
       "  <th>x143</th>  <td> 1.048e+06</td> <td>  1.6e+06</td> <td>    0.654</td> <td> 0.513</td> <td>-2.09e+06</td> <td> 4.19e+06</td>\n",
       "</tr>\n",
       "<tr>\n",
       "  <th>x144</th>  <td> 2.679e+06</td> <td>  4.1e+06</td> <td>    0.654</td> <td> 0.513</td> <td>-5.35e+06</td> <td> 1.07e+07</td>\n",
       "</tr>\n",
       "<tr>\n",
       "  <th>x145</th>  <td> 3.468e+06</td> <td>  5.3e+06</td> <td>    0.654</td> <td> 0.513</td> <td>-6.93e+06</td> <td> 1.39e+07</td>\n",
       "</tr>\n",
       "<tr>\n",
       "  <th>x146</th>  <td> 5.292e+06</td> <td> 8.09e+06</td> <td>    0.654</td> <td> 0.513</td> <td>-1.06e+07</td> <td> 2.12e+07</td>\n",
       "</tr>\n",
       "<tr>\n",
       "  <th>x147</th>  <td> 1.898e+06</td> <td>  2.9e+06</td> <td>    0.654</td> <td> 0.513</td> <td>-3.79e+06</td> <td> 7.59e+06</td>\n",
       "</tr>\n",
       "<tr>\n",
       "  <th>x148</th>  <td> 7.157e+06</td> <td> 1.09e+07</td> <td>    0.654</td> <td> 0.513</td> <td>-1.43e+07</td> <td> 2.86e+07</td>\n",
       "</tr>\n",
       "<tr>\n",
       "  <th>x149</th>  <td> 6.436e+06</td> <td> 9.84e+06</td> <td>    0.654</td> <td> 0.513</td> <td>-1.29e+07</td> <td> 2.57e+07</td>\n",
       "</tr>\n",
       "<tr>\n",
       "  <th>x150</th>  <td> 8.478e+06</td> <td>  1.3e+07</td> <td>    0.654</td> <td> 0.513</td> <td>-1.69e+07</td> <td> 3.39e+07</td>\n",
       "</tr>\n",
       "<tr>\n",
       "  <th>x151</th>  <td> 5.521e+06</td> <td> 8.44e+06</td> <td>    0.654</td> <td> 0.513</td> <td> -1.1e+07</td> <td> 2.21e+07</td>\n",
       "</tr>\n",
       "<tr>\n",
       "  <th>x152</th>  <td>-1.314e+07</td> <td>  1.8e+07</td> <td>   -0.730</td> <td> 0.465</td> <td>-4.84e+07</td> <td> 2.21e+07</td>\n",
       "</tr>\n",
       "<tr>\n",
       "  <th>x153</th>  <td> 2.082e+06</td> <td> 3.18e+06</td> <td>    0.654</td> <td> 0.513</td> <td>-4.16e+06</td> <td> 8.32e+06</td>\n",
       "</tr>\n",
       "<tr>\n",
       "  <th>x154</th>  <td> 2.256e+06</td> <td> 3.45e+06</td> <td>    0.654</td> <td> 0.513</td> <td>-4.51e+06</td> <td> 9.02e+06</td>\n",
       "</tr>\n",
       "<tr>\n",
       "  <th>x155</th>  <td> 5.589e+06</td> <td> 8.55e+06</td> <td>    0.654</td> <td> 0.513</td> <td>-1.12e+07</td> <td> 2.23e+07</td>\n",
       "</tr>\n",
       "<tr>\n",
       "  <th>x156</th>  <td> 1.376e+06</td> <td> 2.11e+06</td> <td>    0.654</td> <td> 0.513</td> <td>-2.75e+06</td> <td>  5.5e+06</td>\n",
       "</tr>\n",
       "<tr>\n",
       "  <th>x157</th>  <td> 7.409e+05</td> <td> 1.13e+06</td> <td>    0.654</td> <td> 0.513</td> <td>-1.48e+06</td> <td> 2.96e+06</td>\n",
       "</tr>\n",
       "<tr>\n",
       "  <th>x158</th>  <td> 6.365e+05</td> <td> 9.74e+05</td> <td>    0.654</td> <td> 0.513</td> <td>-1.27e+06</td> <td> 2.54e+06</td>\n",
       "</tr>\n",
       "<tr>\n",
       "  <th>x159</th>  <td> 4.027e+06</td> <td> 6.16e+06</td> <td>    0.654</td> <td> 0.513</td> <td>-8.05e+06</td> <td> 1.61e+07</td>\n",
       "</tr>\n",
       "<tr>\n",
       "  <th>x160</th>  <td> 3.075e+06</td> <td>  4.7e+06</td> <td>    0.654</td> <td> 0.513</td> <td>-6.14e+06</td> <td> 1.23e+07</td>\n",
       "</tr>\n",
       "<tr>\n",
       "  <th>x161</th>  <td> 1.814e+06</td> <td> 2.77e+06</td> <td>    0.654</td> <td> 0.513</td> <td>-3.62e+06</td> <td> 7.25e+06</td>\n",
       "</tr>\n",
       "<tr>\n",
       "  <th>x162</th>  <td> 6.972e+06</td> <td> 1.07e+07</td> <td>    0.654</td> <td> 0.513</td> <td>-1.39e+07</td> <td> 2.79e+07</td>\n",
       "</tr>\n",
       "<tr>\n",
       "  <th>x163</th>  <td> 4.446e+06</td> <td>  6.8e+06</td> <td>    0.654</td> <td> 0.513</td> <td>-8.88e+06</td> <td> 1.78e+07</td>\n",
       "</tr>\n",
       "<tr>\n",
       "  <th>x164</th>  <td> 3.385e+06</td> <td> 5.12e+06</td> <td>    0.661</td> <td> 0.509</td> <td>-6.66e+06</td> <td> 1.34e+07</td>\n",
       "</tr>\n",
       "<tr>\n",
       "  <th>x165</th>  <td> 2.025e+06</td> <td>  3.1e+06</td> <td>    0.654</td> <td> 0.513</td> <td>-4.05e+06</td> <td>  8.1e+06</td>\n",
       "</tr>\n",
       "<tr>\n",
       "  <th>x166</th>  <td> 2.159e+06</td> <td>  3.3e+06</td> <td>    0.654</td> <td> 0.513</td> <td>-4.31e+06</td> <td> 8.63e+06</td>\n",
       "</tr>\n",
       "<tr>\n",
       "  <th>x167</th>  <td> 2.015e+06</td> <td> 3.08e+06</td> <td>    0.654</td> <td> 0.513</td> <td>-4.03e+06</td> <td> 8.06e+06</td>\n",
       "</tr>\n",
       "<tr>\n",
       "  <th>x168</th>  <td> 1.521e+06</td> <td> 2.33e+06</td> <td>    0.654</td> <td> 0.513</td> <td>-3.04e+06</td> <td> 6.08e+06</td>\n",
       "</tr>\n",
       "<tr>\n",
       "  <th>x169</th>  <td> 3.913e+06</td> <td> 5.98e+06</td> <td>    0.654</td> <td> 0.513</td> <td>-7.82e+06</td> <td> 1.56e+07</td>\n",
       "</tr>\n",
       "<tr>\n",
       "  <th>x170</th>  <td> 2.415e+06</td> <td> 3.69e+06</td> <td>    0.654</td> <td> 0.513</td> <td>-4.83e+06</td> <td> 9.66e+06</td>\n",
       "</tr>\n",
       "<tr>\n",
       "  <th>x171</th>  <td> 4.272e+06</td> <td> 6.53e+06</td> <td>    0.654</td> <td> 0.513</td> <td>-8.53e+06</td> <td> 1.71e+07</td>\n",
       "</tr>\n",
       "<tr>\n",
       "  <th>x172</th>  <td> 4.671e+06</td> <td> 7.14e+06</td> <td>    0.654</td> <td> 0.513</td> <td>-9.33e+06</td> <td> 1.87e+07</td>\n",
       "</tr>\n",
       "<tr>\n",
       "  <th>x173</th>  <td>  1.09e+06</td> <td> 1.67e+06</td> <td>    0.654</td> <td> 0.513</td> <td>-2.18e+06</td> <td> 4.36e+06</td>\n",
       "</tr>\n",
       "<tr>\n",
       "  <th>x174</th>  <td>-2.072e+07</td> <td> 2.84e+07</td> <td>   -0.730</td> <td> 0.465</td> <td>-7.63e+07</td> <td> 3.49e+07</td>\n",
       "</tr>\n",
       "<tr>\n",
       "  <th>x175</th>  <td> 1.171e+06</td> <td> 1.79e+06</td> <td>    0.654</td> <td> 0.513</td> <td>-2.34e+06</td> <td> 4.68e+06</td>\n",
       "</tr>\n",
       "<tr>\n",
       "  <th>x176</th>  <td>-1.158e+07</td> <td> 1.59e+07</td> <td>   -0.730</td> <td> 0.465</td> <td>-4.27e+07</td> <td> 1.95e+07</td>\n",
       "</tr>\n",
       "<tr>\n",
       "  <th>x177</th>  <td> 4.053e+06</td> <td>  6.2e+06</td> <td>    0.654</td> <td> 0.513</td> <td> -8.1e+06</td> <td> 1.62e+07</td>\n",
       "</tr>\n",
       "<tr>\n",
       "  <th>x178</th>  <td>  1.16e+06</td> <td> 1.77e+06</td> <td>    0.654</td> <td> 0.513</td> <td>-2.32e+06</td> <td> 4.64e+06</td>\n",
       "</tr>\n",
       "<tr>\n",
       "  <th>x179</th>  <td> 1.084e+06</td> <td> 1.66e+06</td> <td>    0.654</td> <td> 0.513</td> <td>-2.17e+06</td> <td> 4.34e+06</td>\n",
       "</tr>\n",
       "<tr>\n",
       "  <th>x180</th>  <td> 2.727e+06</td> <td> 4.17e+06</td> <td>    0.654</td> <td> 0.513</td> <td>-5.45e+06</td> <td> 1.09e+07</td>\n",
       "</tr>\n",
       "<tr>\n",
       "  <th>x181</th>  <td>-4.206e+07</td> <td> 6.37e+07</td> <td>   -0.661</td> <td> 0.509</td> <td>-1.67e+08</td> <td> 8.27e+07</td>\n",
       "</tr>\n",
       "<tr>\n",
       "  <th>x182</th>  <td> 2.162e+06</td> <td> 3.31e+06</td> <td>    0.654</td> <td> 0.513</td> <td>-4.32e+06</td> <td> 8.64e+06</td>\n",
       "</tr>\n",
       "<tr>\n",
       "  <th>x183</th>  <td> 4.235e+06</td> <td> 6.48e+06</td> <td>    0.654</td> <td> 0.513</td> <td>-8.46e+06</td> <td> 1.69e+07</td>\n",
       "</tr>\n",
       "<tr>\n",
       "  <th>x184</th>  <td> 5.601e+05</td> <td> 8.57e+05</td> <td>    0.654</td> <td> 0.513</td> <td>-1.12e+06</td> <td> 2.24e+06</td>\n",
       "</tr>\n",
       "<tr>\n",
       "  <th>x185</th>  <td> 2.186e+06</td> <td> 3.34e+06</td> <td>    0.654</td> <td> 0.513</td> <td>-4.37e+06</td> <td> 8.74e+06</td>\n",
       "</tr>\n",
       "<tr>\n",
       "  <th>x186</th>  <td> 1.575e+06</td> <td> 2.41e+06</td> <td>    0.654</td> <td> 0.513</td> <td>-3.15e+06</td> <td>  6.3e+06</td>\n",
       "</tr>\n",
       "<tr>\n",
       "  <th>x187</th>  <td> 1.959e+06</td> <td>    3e+06</td> <td>    0.654</td> <td> 0.513</td> <td>-3.91e+06</td> <td> 7.83e+06</td>\n",
       "</tr>\n",
       "<tr>\n",
       "  <th>x188</th>  <td> 1.867e+06</td> <td> 2.86e+06</td> <td>    0.654</td> <td> 0.513</td> <td>-3.73e+06</td> <td> 7.47e+06</td>\n",
       "</tr>\n",
       "<tr>\n",
       "  <th>x189</th>  <td>  1.04e+07</td> <td> 1.59e+07</td> <td>    0.654</td> <td> 0.513</td> <td>-2.08e+07</td> <td> 4.16e+07</td>\n",
       "</tr>\n",
       "<tr>\n",
       "  <th>x190</th>  <td>-1.187e+07</td> <td> 1.63e+07</td> <td>   -0.730</td> <td> 0.465</td> <td>-4.37e+07</td> <td>    2e+07</td>\n",
       "</tr>\n",
       "<tr>\n",
       "  <th>x191</th>  <td> 4.149e+06</td> <td> 6.35e+06</td> <td>    0.654</td> <td> 0.513</td> <td>-8.29e+06</td> <td> 1.66e+07</td>\n",
       "</tr>\n",
       "<tr>\n",
       "  <th>x192</th>  <td> 1.617e+05</td> <td> 2.47e+05</td> <td>    0.654</td> <td> 0.513</td> <td>-3.23e+05</td> <td> 6.46e+05</td>\n",
       "</tr>\n",
       "<tr>\n",
       "  <th>x193</th>  <td> 2.526e+06</td> <td> 3.86e+06</td> <td>    0.654</td> <td> 0.513</td> <td>-5.05e+06</td> <td> 1.01e+07</td>\n",
       "</tr>\n",
       "<tr>\n",
       "  <th>x194</th>  <td> 1.707e+06</td> <td> 2.61e+06</td> <td>    0.654</td> <td> 0.513</td> <td>-3.41e+06</td> <td> 6.82e+06</td>\n",
       "</tr>\n",
       "<tr>\n",
       "  <th>x195</th>  <td> 4.302e+06</td> <td> 6.58e+06</td> <td>    0.654</td> <td> 0.513</td> <td> -8.6e+06</td> <td> 1.72e+07</td>\n",
       "</tr>\n",
       "<tr>\n",
       "  <th>x196</th>  <td>-2.166e+06</td> <td> 2.97e+06</td> <td>   -0.730</td> <td> 0.465</td> <td>-7.98e+06</td> <td> 3.65e+06</td>\n",
       "</tr>\n",
       "<tr>\n",
       "  <th>x197</th>  <td> 2.839e+06</td> <td> 4.34e+06</td> <td>    0.654</td> <td> 0.513</td> <td>-5.67e+06</td> <td> 1.14e+07</td>\n",
       "</tr>\n",
       "<tr>\n",
       "  <th>x198</th>  <td> 2.605e+06</td> <td> 3.98e+06</td> <td>    0.654</td> <td> 0.513</td> <td> -5.2e+06</td> <td> 1.04e+07</td>\n",
       "</tr>\n",
       "<tr>\n",
       "  <th>x199</th>  <td> 1.546e+06</td> <td> 2.36e+06</td> <td>    0.654</td> <td> 0.513</td> <td>-3.09e+06</td> <td> 6.18e+06</td>\n",
       "</tr>\n",
       "<tr>\n",
       "  <th>x200</th>  <td> 3.591e+06</td> <td> 5.49e+06</td> <td>    0.654</td> <td> 0.513</td> <td>-7.17e+06</td> <td> 1.44e+07</td>\n",
       "</tr>\n",
       "<tr>\n",
       "  <th>x201</th>  <td> 4.387e+06</td> <td> 6.71e+06</td> <td>    0.654</td> <td> 0.513</td> <td>-8.76e+06</td> <td> 1.75e+07</td>\n",
       "</tr>\n",
       "<tr>\n",
       "  <th>x202</th>  <td> 1.149e+06</td> <td> 1.76e+06</td> <td>    0.654</td> <td> 0.513</td> <td> -2.3e+06</td> <td> 4.59e+06</td>\n",
       "</tr>\n",
       "<tr>\n",
       "  <th>x203</th>  <td> 6.764e+05</td> <td> 1.03e+06</td> <td>    0.654</td> <td> 0.513</td> <td>-1.35e+06</td> <td>  2.7e+06</td>\n",
       "</tr>\n",
       "<tr>\n",
       "  <th>x204</th>  <td> 6.458e+06</td> <td> 9.88e+06</td> <td>    0.654</td> <td> 0.513</td> <td>-1.29e+07</td> <td> 2.58e+07</td>\n",
       "</tr>\n",
       "<tr>\n",
       "  <th>x205</th>  <td> 1.133e+07</td> <td> 1.73e+07</td> <td>    0.654</td> <td> 0.513</td> <td>-2.26e+07</td> <td> 4.53e+07</td>\n",
       "</tr>\n",
       "<tr>\n",
       "  <th>x206</th>  <td> 1.048e+06</td> <td>  1.6e+06</td> <td>    0.654</td> <td> 0.513</td> <td>-2.09e+06</td> <td> 4.19e+06</td>\n",
       "</tr>\n",
       "<tr>\n",
       "  <th>x207</th>  <td> 1.242e+06</td> <td>  1.9e+06</td> <td>    0.654</td> <td> 0.513</td> <td>-2.48e+06</td> <td> 4.96e+06</td>\n",
       "</tr>\n",
       "<tr>\n",
       "  <th>x208</th>  <td>-6.696e+06</td> <td> 1.01e+07</td> <td>   -0.661</td> <td> 0.509</td> <td>-2.66e+07</td> <td> 1.32e+07</td>\n",
       "</tr>\n",
       "<tr>\n",
       "  <th>x209</th>  <td>-4.987e+06</td> <td>  7.9e+06</td> <td>   -0.632</td> <td> 0.528</td> <td>-2.05e+07</td> <td> 1.05e+07</td>\n",
       "</tr>\n",
       "<tr>\n",
       "  <th>x210</th>  <td> 5.827e+06</td> <td> 8.82e+06</td> <td>    0.661</td> <td> 0.509</td> <td>-1.15e+07</td> <td> 2.31e+07</td>\n",
       "</tr>\n",
       "<tr>\n",
       "  <th>x211</th>  <td>    0.0017</td> <td>    0.001</td> <td>    3.111</td> <td> 0.002</td> <td>    0.001</td> <td>    0.003</td>\n",
       "</tr>\n",
       "<tr>\n",
       "  <th>x212</th>  <td>   -0.0004</td> <td>    0.001</td> <td>   -0.713</td> <td> 0.476</td> <td>   -0.001</td> <td>    0.001</td>\n",
       "</tr>\n",
       "<tr>\n",
       "  <th>x213</th>  <td>-3.787e+06</td> <td>    6e+06</td> <td>   -0.632</td> <td> 0.528</td> <td>-1.55e+07</td> <td> 7.97e+06</td>\n",
       "</tr>\n",
       "<tr>\n",
       "  <th>x214</th>  <td> 1.986e+06</td> <td> 3.01e+06</td> <td>    0.661</td> <td> 0.509</td> <td>-3.91e+06</td> <td> 7.88e+06</td>\n",
       "</tr>\n",
       "<tr>\n",
       "  <th>x215</th>  <td>    0.0052</td> <td>    0.001</td> <td>    8.965</td> <td> 0.000</td> <td>    0.004</td> <td>    0.006</td>\n",
       "</tr>\n",
       "<tr>\n",
       "  <th>x216</th>  <td>-1.414e+06</td> <td> 2.24e+06</td> <td>   -0.632</td> <td> 0.528</td> <td> -5.8e+06</td> <td> 2.97e+06</td>\n",
       "</tr>\n",
       "<tr>\n",
       "  <th>x217</th>  <td>-3.106e+07</td> <td> 4.92e+07</td> <td>   -0.632</td> <td> 0.528</td> <td>-1.27e+08</td> <td> 6.53e+07</td>\n",
       "</tr>\n",
       "<tr>\n",
       "  <th>x218</th>  <td>-2.214e+06</td> <td> 3.51e+06</td> <td>   -0.632</td> <td> 0.528</td> <td>-9.08e+06</td> <td> 4.66e+06</td>\n",
       "</tr>\n",
       "<tr>\n",
       "  <th>x219</th>  <td>-1.196e+04</td> <td> 1.81e+04</td> <td>   -0.661</td> <td> 0.509</td> <td>-4.74e+04</td> <td> 2.35e+04</td>\n",
       "</tr>\n",
       "<tr>\n",
       "  <th>x220</th>  <td>-4.152e+07</td> <td> 6.57e+07</td> <td>   -0.632</td> <td> 0.528</td> <td> -1.7e+08</td> <td> 8.73e+07</td>\n",
       "</tr>\n",
       "<tr>\n",
       "  <th>x221</th>  <td>-1.024e+06</td> <td> 1.62e+06</td> <td>   -0.632</td> <td> 0.528</td> <td> -4.2e+06</td> <td> 2.15e+06</td>\n",
       "</tr>\n",
       "<tr>\n",
       "  <th>x222</th>  <td>   -0.0005</td> <td>    0.001</td> <td>   -0.981</td> <td> 0.327</td> <td>   -0.002</td> <td>    0.001</td>\n",
       "</tr>\n",
       "<tr>\n",
       "  <th>x223</th>  <td>   -0.0072</td> <td>    0.001</td> <td>  -12.963</td> <td> 0.000</td> <td>   -0.008</td> <td>   -0.006</td>\n",
       "</tr>\n",
       "<tr>\n",
       "  <th>x224</th>  <td>    0.0007</td> <td>    0.001</td> <td>    1.303</td> <td> 0.192</td> <td>   -0.000</td> <td>    0.002</td>\n",
       "</tr>\n",
       "<tr>\n",
       "  <th>x225</th>  <td>    0.0017</td> <td>    0.001</td> <td>    3.153</td> <td> 0.002</td> <td>    0.001</td> <td>    0.003</td>\n",
       "</tr>\n",
       "<tr>\n",
       "  <th>x226</th>  <td>   -0.0008</td> <td>    0.001</td> <td>   -1.298</td> <td> 0.194</td> <td>   -0.002</td> <td>    0.000</td>\n",
       "</tr>\n",
       "<tr>\n",
       "  <th>x227</th>  <td>-4.948e+06</td> <td>  7.3e+06</td> <td>   -0.677</td> <td> 0.498</td> <td>-1.93e+07</td> <td> 9.37e+06</td>\n",
       "</tr>\n",
       "<tr>\n",
       "  <th>x228</th>  <td>-6.765e+07</td> <td> 9.99e+07</td> <td>   -0.677</td> <td> 0.498</td> <td>-2.63e+08</td> <td> 1.28e+08</td>\n",
       "</tr>\n",
       "<tr>\n",
       "  <th>x229</th>  <td>-2.464e+06</td> <td> 3.64e+06</td> <td>   -0.677</td> <td> 0.498</td> <td>-9.59e+06</td> <td> 4.66e+06</td>\n",
       "</tr>\n",
       "<tr>\n",
       "  <th>x230</th>  <td>-1.032e+07</td> <td> 1.52e+07</td> <td>   -0.677</td> <td> 0.498</td> <td>-4.02e+07</td> <td> 1.95e+07</td>\n",
       "</tr>\n",
       "<tr>\n",
       "  <th>x231</th>  <td>-4.292e+06</td> <td> 6.34e+06</td> <td>   -0.677</td> <td> 0.498</td> <td>-1.67e+07</td> <td> 8.13e+06</td>\n",
       "</tr>\n",
       "<tr>\n",
       "  <th>x232</th>  <td>-1.078e+07</td> <td> 1.59e+07</td> <td>   -0.677</td> <td> 0.498</td> <td> -4.2e+07</td> <td> 2.04e+07</td>\n",
       "</tr>\n",
       "<tr>\n",
       "  <th>x233</th>  <td>-1.504e+07</td> <td> 2.22e+07</td> <td>   -0.677</td> <td> 0.498</td> <td>-5.86e+07</td> <td> 2.85e+07</td>\n",
       "</tr>\n",
       "<tr>\n",
       "  <th>x234</th>  <td>-2.479e+06</td> <td> 3.66e+06</td> <td>   -0.677</td> <td> 0.498</td> <td>-9.65e+06</td> <td> 4.69e+06</td>\n",
       "</tr>\n",
       "<tr>\n",
       "  <th>x235</th>  <td>-3.431e+06</td> <td> 5.06e+06</td> <td>   -0.677</td> <td> 0.498</td> <td>-1.34e+07</td> <td>  6.5e+06</td>\n",
       "</tr>\n",
       "<tr>\n",
       "  <th>x236</th>  <td>-5.637e+06</td> <td> 8.32e+06</td> <td>   -0.677</td> <td> 0.498</td> <td>-2.19e+07</td> <td> 1.07e+07</td>\n",
       "</tr>\n",
       "<tr>\n",
       "  <th>x237</th>  <td>-2.373e+06</td> <td>  3.5e+06</td> <td>   -0.677</td> <td> 0.498</td> <td>-9.24e+06</td> <td> 4.49e+06</td>\n",
       "</tr>\n",
       "<tr>\n",
       "  <th>x238</th>  <td>-3.628e+06</td> <td> 5.36e+06</td> <td>   -0.677</td> <td> 0.498</td> <td>-1.41e+07</td> <td> 6.87e+06</td>\n",
       "</tr>\n",
       "<tr>\n",
       "  <th>x239</th>  <td>-3.208e+07</td> <td> 4.74e+07</td> <td>   -0.677</td> <td> 0.498</td> <td>-1.25e+08</td> <td> 6.07e+07</td>\n",
       "</tr>\n",
       "<tr>\n",
       "  <th>x240</th>  <td>-9.115e+06</td> <td> 1.35e+07</td> <td>   -0.677</td> <td> 0.498</td> <td>-3.55e+07</td> <td> 1.73e+07</td>\n",
       "</tr>\n",
       "<tr>\n",
       "  <th>x241</th>  <td>-3.725e+07</td> <td>  5.5e+07</td> <td>   -0.677</td> <td> 0.498</td> <td>-1.45e+08</td> <td> 7.05e+07</td>\n",
       "</tr>\n",
       "<tr>\n",
       "  <th>x242</th>  <td>-2.499e+07</td> <td> 3.69e+07</td> <td>   -0.677</td> <td> 0.498</td> <td>-9.73e+07</td> <td> 4.73e+07</td>\n",
       "</tr>\n",
       "<tr>\n",
       "  <th>x243</th>  <td>-9.347e+06</td> <td> 1.38e+07</td> <td>   -0.677</td> <td> 0.498</td> <td>-3.64e+07</td> <td> 1.77e+07</td>\n",
       "</tr>\n",
       "<tr>\n",
       "  <th>x244</th>  <td>-8.156e+06</td> <td>  1.2e+07</td> <td>   -0.677</td> <td> 0.498</td> <td>-3.18e+07</td> <td> 1.54e+07</td>\n",
       "</tr>\n",
       "<tr>\n",
       "  <th>x245</th>  <td> -7.08e+07</td> <td> 1.05e+08</td> <td>   -0.677</td> <td> 0.498</td> <td>-2.76e+08</td> <td> 1.34e+08</td>\n",
       "</tr>\n",
       "<tr>\n",
       "  <th>x246</th>  <td>-1.645e+06</td> <td> 2.43e+06</td> <td>   -0.677</td> <td> 0.498</td> <td>-6.41e+06</td> <td> 3.11e+06</td>\n",
       "</tr>\n",
       "<tr>\n",
       "  <th>x247</th>  <td>-1.893e+06</td> <td> 2.79e+06</td> <td>   -0.677</td> <td> 0.498</td> <td>-7.37e+06</td> <td> 3.58e+06</td>\n",
       "</tr>\n",
       "<tr>\n",
       "  <th>x248</th>  <td>-1.668e+07</td> <td> 2.46e+07</td> <td>   -0.677</td> <td> 0.498</td> <td>-6.49e+07</td> <td> 3.16e+07</td>\n",
       "</tr>\n",
       "<tr>\n",
       "  <th>x249</th>  <td>-6.739e+06</td> <td> 9.95e+06</td> <td>   -0.677</td> <td> 0.498</td> <td>-2.62e+07</td> <td> 1.28e+07</td>\n",
       "</tr>\n",
       "<tr>\n",
       "  <th>x250</th>  <td>-5.657e+06</td> <td> 8.35e+06</td> <td>   -0.677</td> <td> 0.498</td> <td> -2.2e+07</td> <td> 1.07e+07</td>\n",
       "</tr>\n",
       "<tr>\n",
       "  <th>x251</th>  <td>-1.803e+07</td> <td> 2.66e+07</td> <td>   -0.677</td> <td> 0.498</td> <td>-7.02e+07</td> <td> 3.41e+07</td>\n",
       "</tr>\n",
       "<tr>\n",
       "  <th>x252</th>  <td>-3.815e+06</td> <td> 5.63e+06</td> <td>   -0.677</td> <td> 0.498</td> <td>-1.49e+07</td> <td> 7.22e+06</td>\n",
       "</tr>\n",
       "<tr>\n",
       "  <th>x253</th>  <td>-2.623e+07</td> <td> 3.87e+07</td> <td>   -0.677</td> <td> 0.498</td> <td>-1.02e+08</td> <td> 4.97e+07</td>\n",
       "</tr>\n",
       "<tr>\n",
       "  <th>x254</th>  <td>-1.711e+06</td> <td> 2.53e+06</td> <td>   -0.677</td> <td> 0.498</td> <td>-6.66e+06</td> <td> 3.24e+06</td>\n",
       "</tr>\n",
       "<tr>\n",
       "  <th>x255</th>  <td>-7.568e+06</td> <td> 1.12e+07</td> <td>   -0.677</td> <td> 0.498</td> <td>-2.95e+07</td> <td> 1.43e+07</td>\n",
       "</tr>\n",
       "<tr>\n",
       "  <th>x256</th>  <td>-2.479e+06</td> <td> 3.66e+06</td> <td>   -0.677</td> <td> 0.498</td> <td>-9.65e+06</td> <td> 4.69e+06</td>\n",
       "</tr>\n",
       "<tr>\n",
       "  <th>x257</th>  <td>    0.1828</td> <td>    0.001</td> <td>  195.992</td> <td> 0.000</td> <td>    0.181</td> <td>    0.185</td>\n",
       "</tr>\n",
       "<tr>\n",
       "  <th>x258</th>  <td>   -0.0567</td> <td>    0.001</td> <td>  -90.318</td> <td> 0.000</td> <td>   -0.058</td> <td>   -0.055</td>\n",
       "</tr>\n",
       "<tr>\n",
       "  <th>x259</th>  <td>-1.956e+07</td> <td> 2.99e+07</td> <td>   -0.655</td> <td> 0.512</td> <td>-7.81e+07</td> <td>  3.9e+07</td>\n",
       "</tr>\n",
       "<tr>\n",
       "  <th>x260</th>  <td>-1.263e+07</td> <td> 1.93e+07</td> <td>   -0.655</td> <td> 0.512</td> <td>-5.04e+07</td> <td> 2.52e+07</td>\n",
       "</tr>\n",
       "<tr>\n",
       "  <th>x261</th>  <td> -3.65e+07</td> <td> 5.57e+07</td> <td>   -0.655</td> <td> 0.512</td> <td>-1.46e+08</td> <td> 7.27e+07</td>\n",
       "</tr>\n",
       "<tr>\n",
       "  <th>x262</th>  <td>-2.457e+07</td> <td> 3.75e+07</td> <td>   -0.655</td> <td> 0.512</td> <td>-9.81e+07</td> <td>  4.9e+07</td>\n",
       "</tr>\n",
       "<tr>\n",
       "  <th>x263</th>  <td>-4.951e+07</td> <td> 7.56e+07</td> <td>   -0.655</td> <td> 0.512</td> <td>-1.98e+08</td> <td> 9.87e+07</td>\n",
       "</tr>\n",
       "<tr>\n",
       "  <th>x264</th>  <td>   -0.0083</td> <td>    0.001</td> <td>   -9.776</td> <td> 0.000</td> <td>   -0.010</td> <td>   -0.007</td>\n",
       "</tr>\n",
       "<tr>\n",
       "  <th>x265</th>  <td>    0.0059</td> <td>    0.001</td> <td>    9.174</td> <td> 0.000</td> <td>    0.005</td> <td>    0.007</td>\n",
       "</tr>\n",
       "<tr>\n",
       "  <th>x266</th>  <td>-2.426e-13</td> <td>  3.2e-13</td> <td>   -0.758</td> <td> 0.448</td> <td> -8.7e-13</td> <td> 3.84e-13</td>\n",
       "</tr>\n",
       "<tr>\n",
       "  <th>x267</th>  <td>-6.236e+06</td> <td> 1.27e+07</td> <td>   -0.489</td> <td> 0.625</td> <td>-3.12e+07</td> <td> 1.88e+07</td>\n",
       "</tr>\n",
       "<tr>\n",
       "  <th>x268</th>  <td>-7.921e+06</td> <td> 1.62e+07</td> <td>   -0.489</td> <td> 0.625</td> <td>-3.97e+07</td> <td> 2.38e+07</td>\n",
       "</tr>\n",
       "<tr>\n",
       "  <th>x269</th>  <td>-2.781e+05</td> <td> 5.68e+05</td> <td>   -0.489</td> <td> 0.625</td> <td>-1.39e+06</td> <td> 8.36e+05</td>\n",
       "</tr>\n",
       "<tr>\n",
       "  <th>x270</th>  <td>-8.034e+06</td> <td> 1.64e+07</td> <td>   -0.489</td> <td> 0.625</td> <td>-4.02e+07</td> <td> 2.42e+07</td>\n",
       "</tr>\n",
       "<tr>\n",
       "  <th>x271</th>  <td>-1.706e+06</td> <td> 3.49e+06</td> <td>   -0.489</td> <td> 0.625</td> <td>-8.54e+06</td> <td> 5.13e+06</td>\n",
       "</tr>\n",
       "<tr>\n",
       "  <th>x272</th>  <td>-2.384e+05</td> <td> 4.87e+05</td> <td>   -0.489</td> <td> 0.625</td> <td>-1.19e+06</td> <td> 7.17e+05</td>\n",
       "</tr>\n",
       "<tr>\n",
       "  <th>x273</th>  <td>   -0.0269</td> <td>    0.001</td> <td>  -29.417</td> <td> 0.000</td> <td>   -0.029</td> <td>   -0.025</td>\n",
       "</tr>\n",
       "<tr>\n",
       "  <th>x274</th>  <td>    0.0171</td> <td>    0.001</td> <td>   18.686</td> <td> 0.000</td> <td>    0.015</td> <td>    0.019</td>\n",
       "</tr>\n",
       "<tr>\n",
       "  <th>x275</th>  <td>  1.56e+07</td> <td>    2e+07</td> <td>    0.780</td> <td> 0.435</td> <td>-2.36e+07</td> <td> 5.48e+07</td>\n",
       "</tr>\n",
       "<tr>\n",
       "  <th>x276</th>  <td>   -0.0050</td> <td>    0.001</td> <td>   -7.280</td> <td> 0.000</td> <td>   -0.006</td> <td>   -0.004</td>\n",
       "</tr>\n",
       "<tr>\n",
       "  <th>x277</th>  <td>    0.0343</td> <td>    0.001</td> <td>   46.337</td> <td> 0.000</td> <td>    0.033</td> <td>    0.036</td>\n",
       "</tr>\n",
       "<tr>\n",
       "  <th>x278</th>  <td>    0.0047</td> <td>    0.001</td> <td>    6.558</td> <td> 0.000</td> <td>    0.003</td> <td>    0.006</td>\n",
       "</tr>\n",
       "<tr>\n",
       "  <th>x279</th>  <td>    0.0004</td> <td>    0.001</td> <td>    0.638</td> <td> 0.523</td> <td>   -0.001</td> <td>    0.002</td>\n",
       "</tr>\n",
       "<tr>\n",
       "  <th>x280</th>  <td>    0.0051</td> <td>    0.001</td> <td>    4.521</td> <td> 0.000</td> <td>    0.003</td> <td>    0.007</td>\n",
       "</tr>\n",
       "<tr>\n",
       "  <th>x281</th>  <td>    0.0029</td> <td>    0.001</td> <td>    4.854</td> <td> 0.000</td> <td>    0.002</td> <td>    0.004</td>\n",
       "</tr>\n",
       "<tr>\n",
       "  <th>x282</th>  <td>    0.0041</td> <td>    0.001</td> <td>    6.063</td> <td> 0.000</td> <td>    0.003</td> <td>    0.005</td>\n",
       "</tr>\n",
       "<tr>\n",
       "  <th>x283</th>  <td>   -0.0003</td> <td>    0.001</td> <td>   -0.458</td> <td> 0.647</td> <td>   -0.002</td> <td>    0.001</td>\n",
       "</tr>\n",
       "<tr>\n",
       "  <th>x284</th>  <td>    0.0222</td> <td>    0.001</td> <td>   18.558</td> <td> 0.000</td> <td>    0.020</td> <td>    0.025</td>\n",
       "</tr>\n",
       "<tr>\n",
       "  <th>x285</th>  <td>   -0.0138</td> <td>    0.001</td> <td>   -9.571</td> <td> 0.000</td> <td>   -0.017</td> <td>   -0.011</td>\n",
       "</tr>\n",
       "<tr>\n",
       "  <th>x286</th>  <td>    0.0063</td> <td>    0.002</td> <td>    3.865</td> <td> 0.000</td> <td>    0.003</td> <td>    0.009</td>\n",
       "</tr>\n",
       "<tr>\n",
       "  <th>x287</th>  <td>    0.0223</td> <td>    0.001</td> <td>   23.453</td> <td> 0.000</td> <td>    0.020</td> <td>    0.024</td>\n",
       "</tr>\n",
       "<tr>\n",
       "  <th>x288</th>  <td>   -0.0128</td> <td>    0.001</td> <td>  -19.657</td> <td> 0.000</td> <td>   -0.014</td> <td>   -0.012</td>\n",
       "</tr>\n",
       "<tr>\n",
       "  <th>x289</th>  <td>    0.0492</td> <td>    0.001</td> <td>   65.207</td> <td> 0.000</td> <td>    0.048</td> <td>    0.051</td>\n",
       "</tr>\n",
       "<tr>\n",
       "  <th>x290</th>  <td>   -0.0012</td> <td>    0.001</td> <td>   -1.894</td> <td> 0.058</td> <td>   -0.003</td> <td>  4.3e-05</td>\n",
       "</tr>\n",
       "<tr>\n",
       "  <th>x291</th>  <td>   -0.0043</td> <td>    0.001</td> <td>   -4.132</td> <td> 0.000</td> <td>   -0.006</td> <td>   -0.002</td>\n",
       "</tr>\n",
       "<tr>\n",
       "  <th>x292</th>  <td>    0.0016</td> <td>    0.001</td> <td>    2.310</td> <td> 0.021</td> <td>    0.000</td> <td>    0.003</td>\n",
       "</tr>\n",
       "<tr>\n",
       "  <th>x293</th>  <td>   -0.0088</td> <td>    0.001</td> <td>  -12.910</td> <td> 0.000</td> <td>   -0.010</td> <td>   -0.007</td>\n",
       "</tr>\n",
       "<tr>\n",
       "  <th>x294</th>  <td>   -0.0080</td> <td>    0.001</td> <td>  -11.618</td> <td> 0.000</td> <td>   -0.009</td> <td>   -0.007</td>\n",
       "</tr>\n",
       "<tr>\n",
       "  <th>x295</th>  <td>    0.0074</td> <td>    0.001</td> <td>   10.063</td> <td> 0.000</td> <td>    0.006</td> <td>    0.009</td>\n",
       "</tr>\n",
       "<tr>\n",
       "  <th>x296</th>  <td>    0.0120</td> <td>    0.001</td> <td>   15.463</td> <td> 0.000</td> <td>    0.010</td> <td>    0.014</td>\n",
       "</tr>\n",
       "<tr>\n",
       "  <th>x297</th>  <td>   -0.0017</td> <td>    0.001</td> <td>   -2.105</td> <td> 0.035</td> <td>   -0.003</td> <td>   -0.000</td>\n",
       "</tr>\n",
       "<tr>\n",
       "  <th>x298</th>  <td>    0.0227</td> <td>    0.001</td> <td>   29.690</td> <td> 0.000</td> <td>    0.021</td> <td>    0.024</td>\n",
       "</tr>\n",
       "<tr>\n",
       "  <th>x299</th>  <td>   -0.0129</td> <td>    0.001</td> <td>  -16.337</td> <td> 0.000</td> <td>   -0.014</td> <td>   -0.011</td>\n",
       "</tr>\n",
       "<tr>\n",
       "  <th>x300</th>  <td>   -0.0080</td> <td>    0.001</td> <td>  -13.135</td> <td> 0.000</td> <td>   -0.009</td> <td>   -0.007</td>\n",
       "</tr>\n",
       "<tr>\n",
       "  <th>x301</th>  <td>   -0.0041</td> <td>    0.001</td> <td>   -5.928</td> <td> 0.000</td> <td>   -0.005</td> <td>   -0.003</td>\n",
       "</tr>\n",
       "<tr>\n",
       "  <th>x302</th>  <td>   -0.0185</td> <td>    0.001</td> <td>  -21.733</td> <td> 0.000</td> <td>   -0.020</td> <td>   -0.017</td>\n",
       "</tr>\n",
       "<tr>\n",
       "  <th>x303</th>  <td>    0.0115</td> <td>    0.001</td> <td>   18.876</td> <td> 0.000</td> <td>    0.010</td> <td>    0.013</td>\n",
       "</tr>\n",
       "<tr>\n",
       "  <th>x304</th>  <td>    0.0193</td> <td>    0.001</td> <td>   26.887</td> <td> 0.000</td> <td>    0.018</td> <td>    0.021</td>\n",
       "</tr>\n",
       "<tr>\n",
       "  <th>x305</th>  <td>   -0.0042</td> <td>    0.001</td> <td>   -5.313</td> <td> 0.000</td> <td>   -0.006</td> <td>   -0.003</td>\n",
       "</tr>\n",
       "<tr>\n",
       "  <th>x306</th>  <td>   -0.0093</td> <td>    0.001</td> <td>  -10.442</td> <td> 0.000</td> <td>   -0.011</td> <td>   -0.008</td>\n",
       "</tr>\n",
       "<tr>\n",
       "  <th>x307</th>  <td>   -0.0003</td> <td>    0.001</td> <td>   -0.501</td> <td> 0.616</td> <td>   -0.002</td> <td>    0.001</td>\n",
       "</tr>\n",
       "<tr>\n",
       "  <th>x308</th>  <td>    0.0048</td> <td>    0.001</td> <td>    6.712</td> <td> 0.000</td> <td>    0.003</td> <td>    0.006</td>\n",
       "</tr>\n",
       "<tr>\n",
       "  <th>x309</th>  <td>   -0.0088</td> <td>    0.001</td> <td>  -12.725</td> <td> 0.000</td> <td>   -0.010</td> <td>   -0.007</td>\n",
       "</tr>\n",
       "<tr>\n",
       "  <th>x310</th>  <td>   -0.0178</td> <td>    0.001</td> <td>  -18.910</td> <td> 0.000</td> <td>   -0.020</td> <td>   -0.016</td>\n",
       "</tr>\n",
       "<tr>\n",
       "  <th>x311</th>  <td>   -0.0155</td> <td>    0.001</td> <td>  -20.952</td> <td> 0.000</td> <td>   -0.017</td> <td>   -0.014</td>\n",
       "</tr>\n",
       "<tr>\n",
       "  <th>x312</th>  <td>    0.0154</td> <td>    0.001</td> <td>   21.153</td> <td> 0.000</td> <td>    0.014</td> <td>    0.017</td>\n",
       "</tr>\n",
       "<tr>\n",
       "  <th>x313</th>  <td>   -0.0314</td> <td>    0.001</td> <td>  -23.066</td> <td> 0.000</td> <td>   -0.034</td> <td>   -0.029</td>\n",
       "</tr>\n",
       "<tr>\n",
       "  <th>x314</th>  <td>   -0.0046</td> <td>    0.001</td> <td>   -3.403</td> <td> 0.001</td> <td>   -0.007</td> <td>   -0.002</td>\n",
       "</tr>\n",
       "<tr>\n",
       "  <th>x315</th>  <td>    0.0133</td> <td>    0.001</td> <td>   17.328</td> <td> 0.000</td> <td>    0.012</td> <td>    0.015</td>\n",
       "</tr>\n",
       "<tr>\n",
       "  <th>x316</th>  <td>   -0.0019</td> <td>    0.001</td> <td>   -3.136</td> <td> 0.002</td> <td>   -0.003</td> <td>   -0.001</td>\n",
       "</tr>\n",
       "<tr>\n",
       "  <th>x317</th>  <td>    0.0038</td> <td>    0.001</td> <td>    6.208</td> <td> 0.000</td> <td>    0.003</td> <td>    0.005</td>\n",
       "</tr>\n",
       "<tr>\n",
       "  <th>x318</th>  <td>    0.0077</td> <td>    0.001</td> <td>   11.640</td> <td> 0.000</td> <td>    0.006</td> <td>    0.009</td>\n",
       "</tr>\n",
       "<tr>\n",
       "  <th>x319</th>  <td>    0.0200</td> <td>    0.001</td> <td>   33.293</td> <td> 0.000</td> <td>    0.019</td> <td>    0.021</td>\n",
       "</tr>\n",
       "<tr>\n",
       "  <th>x320</th>  <td>    0.0209</td> <td>    0.001</td> <td>   32.943</td> <td> 0.000</td> <td>    0.020</td> <td>    0.022</td>\n",
       "</tr>\n",
       "<tr>\n",
       "  <th>x321</th>  <td>    0.0194</td> <td>    0.001</td> <td>   17.425</td> <td> 0.000</td> <td>    0.017</td> <td>    0.022</td>\n",
       "</tr>\n",
       "<tr>\n",
       "  <th>x322</th>  <td>    0.0328</td> <td>    0.001</td> <td>   47.810</td> <td> 0.000</td> <td>    0.031</td> <td>    0.034</td>\n",
       "</tr>\n",
       "<tr>\n",
       "  <th>x323</th>  <td>   -0.0048</td> <td>    0.001</td> <td>   -7.060</td> <td> 0.000</td> <td>   -0.006</td> <td>   -0.003</td>\n",
       "</tr>\n",
       "<tr>\n",
       "  <th>x324</th>  <td>    0.0036</td> <td>    0.001</td> <td>    5.006</td> <td> 0.000</td> <td>    0.002</td> <td>    0.005</td>\n",
       "</tr>\n",
       "<tr>\n",
       "  <th>x325</th>  <td>   -0.0046</td> <td>    0.001</td> <td>   -6.798</td> <td> 0.000</td> <td>   -0.006</td> <td>   -0.003</td>\n",
       "</tr>\n",
       "<tr>\n",
       "  <th>x326</th>  <td>    0.0194</td> <td>    0.001</td> <td>   28.214</td> <td> 0.000</td> <td>    0.018</td> <td>    0.021</td>\n",
       "</tr>\n",
       "<tr>\n",
       "  <th>x327</th>  <td>   -0.0172</td> <td>    0.001</td> <td>  -28.872</td> <td> 0.000</td> <td>   -0.018</td> <td>   -0.016</td>\n",
       "</tr>\n",
       "<tr>\n",
       "  <th>x328</th>  <td>   -0.0191</td> <td>    0.001</td> <td>  -19.491</td> <td> 0.000</td> <td>   -0.021</td> <td>   -0.017</td>\n",
       "</tr>\n",
       "<tr>\n",
       "  <th>x329</th>  <td>   -0.0017</td> <td>    0.001</td> <td>   -1.889</td> <td> 0.059</td> <td>   -0.004</td> <td> 6.47e-05</td>\n",
       "</tr>\n",
       "</table>\n",
       "<table class=\"simpletable\">\n",
       "<tr>\n",
       "  <th>Omnibus:</th>       <td>14095.138</td> <th>  Durbin-Watson:     </th> <td>   0.084</td> \n",
       "</tr>\n",
       "<tr>\n",
       "  <th>Prob(Omnibus):</th>  <td> 0.000</td>   <th>  Jarque-Bera (JB):  </th> <td>33931.974</td>\n",
       "</tr>\n",
       "<tr>\n",
       "  <th>Skew:</th>           <td> 0.301</td>   <th>  Prob(JB):          </th> <td>    0.00</td> \n",
       "</tr>\n",
       "<tr>\n",
       "  <th>Kurtosis:</th>       <td> 4.583</td>   <th>  Cond. No.          </th> <td>4.42e+16</td> \n",
       "</tr>\n",
       "</table><br/><br/>Warnings:<br/>[1] Standard Errors assume that the covariance matrix of the errors is correctly specified.<br/>[2] The smallest eigenvalue is 1.53e-27. This might indicate that there are<br/>strong multicollinearity problems or that the design matrix is singular."
      ],
      "text/plain": [
       "<class 'statsmodels.iolib.summary.Summary'>\n",
       "\"\"\"\n",
       "                            OLS Regression Results                            \n",
       "==============================================================================\n",
       "Dep. Variable:                      y   R-squared:                       0.743\n",
       "Model:                            OLS   Adj. R-squared:                  0.743\n",
       "Method:                 Least Squares   F-statistic:                     2678.\n",
       "Date:                Tue, 19 Feb 2019   Prob (F-statistic):               0.00\n",
       "Time:                        02:11:33   Log-Likelihood:                -50824.\n",
       "No. Observations:              283936   AIC:                         1.023e+05\n",
       "Df Residuals:                  283629   BIC:                         1.055e+05\n",
       "Df Model:                         306                                         \n",
       "Covariance Type:            nonrobust                                         \n",
       "==============================================================================\n",
       "                 coef    std err          t      P>|t|      [0.025      0.975]\n",
       "------------------------------------------------------------------------------\n",
       "const          4.8156      0.001   8859.474      0.000       4.815       4.817\n",
       "x1          8.187e+08   1.99e+09      0.411      0.681   -3.09e+09    4.73e+09\n",
       "x2          9.402e+08   2.29e+09      0.411      0.681   -3.55e+09    5.43e+09\n",
       "x3          9.272e+08   2.26e+09      0.411      0.681    -3.5e+09    5.35e+09\n",
       "x4          8.894e+08   2.17e+09      0.411      0.681   -3.35e+09    5.13e+09\n",
       "x5          9.327e+08   2.27e+09      0.411      0.681   -3.52e+09    5.38e+09\n",
       "x6          7.877e+08   1.92e+09      0.411      0.681   -2.97e+09    4.55e+09\n",
       "x7          7.863e+08   1.91e+09      0.411      0.681   -2.97e+09    4.54e+09\n",
       "x8          8.177e+08   1.99e+09      0.411      0.681   -3.08e+09    4.72e+09\n",
       "x9          8.072e+08   1.97e+09      0.411      0.681   -3.04e+09    4.66e+09\n",
       "x10         9.729e+08   2.37e+09      0.411      0.681   -3.67e+09    5.62e+09\n",
       "x11         9.712e+08   2.36e+09      0.411      0.681   -3.66e+09    5.61e+09\n",
       "x12         9.261e+08   2.25e+09      0.411      0.681   -3.49e+09    5.35e+09\n",
       "x13         -7.34e+09   1.11e+10     -0.661      0.509   -2.91e+10    1.44e+10\n",
       "x14        -7.308e+09   1.11e+10     -0.661      0.509    -2.9e+10    1.44e+10\n",
       "x15        -7.288e+09    1.1e+10     -0.661      0.509   -2.89e+10    1.43e+10\n",
       "x16        -7.316e+09   1.11e+10     -0.661      0.509    -2.9e+10    1.44e+10\n",
       "x17        -7.323e+09   1.11e+10     -0.661      0.509    -2.9e+10    1.44e+10\n",
       "x18        -7.257e+09    1.1e+10     -0.661      0.509   -2.88e+10    1.43e+10\n",
       "x19        -7.263e+09    1.1e+10     -0.661      0.509   -2.88e+10    1.43e+10\n",
       "x20            0.0087      0.001     11.458      0.000       0.007       0.010\n",
       "x21            0.0018      0.001      1.742      0.082      -0.000       0.004\n",
       "x22            0.0249      0.001     27.950      0.000       0.023       0.027\n",
       "x23            0.1406      0.001    113.942      0.000       0.138       0.143\n",
       "x24           -0.0081      0.001    -12.039      0.000      -0.009      -0.007\n",
       "x25            0.1145      0.001    115.287      0.000       0.113       0.116\n",
       "x26           -0.0196      0.001    -18.278      0.000      -0.022      -0.017\n",
       "x27           -0.0020      0.001     -3.310      0.001      -0.003      -0.001\n",
       "x28            0.0415      0.001     53.158      0.000       0.040       0.043\n",
       "x29            0.0282      0.001     37.133      0.000       0.027       0.030\n",
       "x30           -0.0231      0.001    -34.910      0.000      -0.024      -0.022\n",
       "x31           -0.0014      0.001     -1.332      0.183      -0.003       0.001\n",
       "x32           -0.0178      0.001    -17.771      0.000      -0.020      -0.016\n",
       "x33            0.0235      0.001     20.445      0.000       0.021       0.026\n",
       "x34            0.0118      0.001     12.140      0.000       0.010       0.014\n",
       "x35            0.0479      0.001     55.632      0.000       0.046       0.050\n",
       "x36            0.0027      0.001      3.410      0.001       0.001       0.004\n",
       "x37            0.0029      0.001      3.450      0.001       0.001       0.005\n",
       "x38            0.0214      0.001     27.379      0.000       0.020       0.023\n",
       "x39           -0.0356      0.001    -39.120      0.000      -0.037      -0.034\n",
       "x40           -0.0536      0.001    -59.672      0.000      -0.055      -0.052\n",
       "x41           -0.0240      0.001    -23.726      0.000      -0.026      -0.022\n",
       "x42         4.965e+06    7.5e+06      0.662      0.508   -9.74e+06    1.97e+07\n",
       "x43         1.491e+07   2.25e+07      0.662      0.508   -2.92e+07    5.91e+07\n",
       "x44         2.013e+07   3.04e+07      0.662      0.508   -3.95e+07    7.97e+07\n",
       "x45         2.301e+07   3.48e+07      0.662      0.508   -4.51e+07    9.11e+07\n",
       "x46           -0.0206      0.001    -30.794      0.000      -0.022      -0.019\n",
       "x47            0.0064      0.001     11.511      0.000       0.005       0.008\n",
       "x48           -0.0105      0.001    -16.162      0.000      -0.012      -0.009\n",
       "x49         1.327e+08   1.98e+08      0.670      0.503   -2.56e+08    5.21e+08\n",
       "x50          4.31e+06   6.59e+06      0.654      0.513   -8.61e+06    1.72e+07\n",
       "x51         1.959e+06      3e+06      0.654      0.513   -3.91e+06    7.83e+06\n",
       "x52         2.319e+06   3.55e+06      0.654      0.513   -4.63e+06    9.27e+06\n",
       "x53         1.137e+06   1.74e+06      0.654      0.513   -2.27e+06    4.55e+06\n",
       "x54         -5.08e+07   8.04e+07     -0.632      0.527   -2.08e+08    1.07e+08\n",
       "x55         6.717e+06   1.03e+07      0.654      0.513   -1.34e+07    2.69e+07\n",
       "x56          7.32e+05   1.12e+06      0.654      0.513   -1.46e+06    2.93e+06\n",
       "x57         9.823e+06    1.5e+07      0.654      0.513   -1.96e+07    3.93e+07\n",
       "x58         2.221e+06    3.4e+06      0.654      0.513   -4.44e+06    8.88e+06\n",
       "x59         5.496e+06   8.41e+06      0.654      0.513    -1.1e+07     2.2e+07\n",
       "x60         2.156e+06    3.3e+06      0.654      0.513   -4.31e+06    8.62e+06\n",
       "x61        -1.781e+06   2.44e+06     -0.730      0.465   -6.56e+06       3e+06\n",
       "x62         1.912e+06   2.92e+06      0.654      0.513   -3.82e+06    7.64e+06\n",
       "x63         9.796e+06    1.5e+07      0.654      0.513   -1.96e+07    3.92e+07\n",
       "x64         2.063e+06   3.16e+06      0.654      0.513   -4.12e+06    8.25e+06\n",
       "x65         4.909e+06   7.51e+06      0.654      0.513   -9.81e+06    1.96e+07\n",
       "x66         1.814e+06   2.77e+06      0.654      0.513   -3.62e+06    7.25e+06\n",
       "x67         3.309e+06   5.06e+06      0.654      0.513   -6.61e+06    1.32e+07\n",
       "x68         4.334e+06   6.63e+06      0.654      0.513   -8.66e+06    1.73e+07\n",
       "x69         2.575e+06   3.94e+06      0.654      0.513   -5.14e+06    1.03e+07\n",
       "x70         4.278e+05   6.54e+05      0.654      0.513   -8.55e+05    1.71e+06\n",
       "x71         3.878e+06   5.93e+06      0.654      0.513   -7.75e+06    1.55e+07\n",
       "x72          2.62e+06   4.01e+06      0.654      0.513   -5.23e+06    1.05e+07\n",
       "x73        -8.845e+06   1.21e+07     -0.730      0.465   -3.26e+07    1.49e+07\n",
       "x74         1.796e+06   2.75e+06      0.654      0.513   -3.59e+06    7.18e+06\n",
       "x75         1.512e+06   2.31e+06      0.654      0.513   -3.02e+06    6.04e+06\n",
       "x76         9.966e+05   1.52e+06      0.654      0.513   -1.99e+06    3.98e+06\n",
       "x77         1.002e+07   1.53e+07      0.654      0.513      -2e+07    4.01e+07\n",
       "x78         1.652e+06   2.53e+06      0.654      0.513    -3.3e+06    6.61e+06\n",
       "x79         1.283e+06   1.96e+06      0.654      0.513   -2.56e+06    5.13e+06\n",
       "x80         1.303e+06   1.99e+06      0.654      0.513    -2.6e+06    5.21e+06\n",
       "x81         3.166e+06   4.84e+06      0.654      0.513   -6.33e+06    1.27e+07\n",
       "x82         7.669e+05   1.17e+06      0.654      0.513   -1.53e+06    3.07e+06\n",
       "x83         6.094e+06   9.32e+06      0.654      0.513   -1.22e+07    2.44e+07\n",
       "x84         1.624e+06   2.48e+06      0.654      0.513   -3.25e+06    6.49e+06\n",
       "x85         1.372e+06    2.1e+06      0.654      0.513   -2.74e+06    5.48e+06\n",
       "x86         4.211e+06   6.44e+06      0.654      0.513   -8.41e+06    1.68e+07\n",
       "x87          4.64e+06    7.1e+06      0.654      0.513   -9.27e+06    1.86e+07\n",
       "x88         1.166e+06   1.78e+06      0.654      0.513   -2.33e+06    4.66e+06\n",
       "x89         2.189e+06   3.35e+06      0.654      0.513   -4.37e+06    8.75e+06\n",
       "x90         7.669e+05   1.17e+06      0.654      0.513   -1.53e+06    3.07e+06\n",
       "x91          2.63e+06   4.02e+06      0.654      0.513   -5.25e+06    1.05e+07\n",
       "x92         7.838e+05    1.2e+06      0.654      0.513   -1.57e+06    3.13e+06\n",
       "x93         1.828e+06    2.8e+06      0.654      0.513   -3.65e+06    7.31e+06\n",
       "x94         2.268e+06   3.47e+06      0.654      0.513   -4.53e+06    9.07e+06\n",
       "x95          3.06e+06   4.68e+06      0.654      0.513   -6.11e+06    1.22e+07\n",
       "x96         3.618e+06   5.53e+06      0.654      0.513   -7.23e+06    1.45e+07\n",
       "x97          3.17e+06   4.85e+06      0.654      0.513   -6.33e+06    1.27e+07\n",
       "x98         1.236e+06   1.89e+06      0.654      0.513   -2.47e+06    4.94e+06\n",
       "x99         1.516e+06   2.32e+06      0.654      0.513   -3.03e+06    6.06e+06\n",
       "x100        3.698e+06   5.66e+06      0.654      0.513   -7.39e+06    1.48e+07\n",
       "x101        9.655e+06   1.48e+07      0.654      0.513   -1.93e+07    3.86e+07\n",
       "x102        6.764e+05   1.03e+06      0.654      0.513   -1.35e+06     2.7e+06\n",
       "x103        9.217e+05   1.41e+06      0.654      0.513   -1.84e+06    3.68e+06\n",
       "x104       -1.307e+08   1.98e+08     -0.661      0.509   -5.19e+08    2.57e+08\n",
       "x105        3.157e+07   4.78e+07      0.660      0.509   -6.22e+07    1.25e+08\n",
       "x106        1.298e+06   1.99e+06      0.654      0.513   -2.59e+06    5.19e+06\n",
       "x107        5.716e+05   8.74e+05      0.654      0.513   -1.14e+06    2.29e+06\n",
       "x108        3.783e+06   5.79e+06      0.654      0.513   -7.56e+06    1.51e+07\n",
       "x109        8.335e+06   1.27e+07      0.654      0.513   -1.67e+07    3.33e+07\n",
       "x110        5.888e+06   9.01e+06      0.654      0.513   -1.18e+07    2.35e+07\n",
       "x111        2.751e+06   4.21e+06      0.654      0.513    -5.5e+06     1.1e+07\n",
       "x112        1.409e+06   2.16e+06      0.654      0.513   -2.82e+06    5.63e+06\n",
       "x113        1.215e+06   1.86e+06      0.654      0.513   -2.43e+06    4.86e+06\n",
       "x114        6.317e+06   9.66e+06      0.654      0.513   -1.26e+07    2.53e+07\n",
       "x115        1.983e+06   3.03e+06      0.654      0.513   -3.96e+06    7.93e+06\n",
       "x116        2.171e+07   3.28e+07      0.661      0.508   -4.26e+07    8.61e+07\n",
       "x117        1.048e+06    1.6e+06      0.654      0.513   -2.09e+06    4.19e+06\n",
       "x118       -4.628e+07   7.01e+07     -0.661      0.509   -1.84e+08     9.1e+07\n",
       "x119        2.777e+06   4.25e+06      0.654      0.513   -5.55e+06    1.11e+07\n",
       "x120        1.029e+06   1.57e+06      0.654      0.513   -2.06e+06    4.11e+06\n",
       "x121        5.082e+06   7.77e+06      0.654      0.513   -1.02e+07    2.03e+07\n",
       "x122       -1.217e+06   1.67e+06     -0.730      0.465   -4.48e+06    2.05e+06\n",
       "x123        2.147e+06   3.28e+06      0.654      0.513   -4.29e+06    8.58e+06\n",
       "x124        6.193e+06   9.47e+06      0.654      0.513   -1.24e+07    2.48e+07\n",
       "x125        1.969e+06   3.01e+06      0.654      0.513   -3.93e+06    7.87e+06\n",
       "x126        2.518e+06   3.85e+06      0.654      0.513   -5.03e+06    1.01e+07\n",
       "x127        1.309e+07   1.98e+07      0.661      0.509   -2.57e+07    5.19e+07\n",
       "x128        1.288e+06   1.97e+06      0.654      0.513   -2.57e+06    5.15e+06\n",
       "x129         3.49e+06   5.34e+06      0.654      0.513   -6.97e+06     1.4e+07\n",
       "x130        8.555e+05   1.31e+06      0.654      0.513   -1.71e+06    3.42e+06\n",
       "x131        2.976e+06   4.55e+06      0.654      0.513   -5.95e+06    1.19e+07\n",
       "x132        1.302e+07   1.99e+07      0.654      0.513    -2.6e+07    5.21e+07\n",
       "x133        4.111e+06   6.29e+06      0.654      0.513   -8.21e+06    1.64e+07\n",
       "x134        9.834e+05    1.5e+06      0.654      0.513   -1.96e+06    3.93e+06\n",
       "x135        1.226e+06   1.87e+06      0.654      0.513   -2.45e+06     4.9e+06\n",
       "x136       -6.668e+05   9.13e+05     -0.730      0.465   -2.46e+06    1.12e+06\n",
       "x137        5.716e+05   8.74e+05      0.654      0.513   -1.14e+06    2.29e+06\n",
       "x138        7.516e+06   1.15e+07      0.654      0.513    -1.5e+07       3e+07\n",
       "x139        8.837e+06   1.35e+07      0.654      0.513   -1.77e+07    3.53e+07\n",
       "x140        5.547e+06   8.48e+06      0.654      0.513   -1.11e+07    2.22e+07\n",
       "x141        1.352e+06   2.07e+06      0.654      0.513    -2.7e+06    5.41e+06\n",
       "x142        3.271e+06      5e+06      0.654      0.513   -6.54e+06    1.31e+07\n",
       "x143        1.048e+06    1.6e+06      0.654      0.513   -2.09e+06    4.19e+06\n",
       "x144        2.679e+06    4.1e+06      0.654      0.513   -5.35e+06    1.07e+07\n",
       "x145        3.468e+06    5.3e+06      0.654      0.513   -6.93e+06    1.39e+07\n",
       "x146        5.292e+06   8.09e+06      0.654      0.513   -1.06e+07    2.12e+07\n",
       "x147        1.898e+06    2.9e+06      0.654      0.513   -3.79e+06    7.59e+06\n",
       "x148        7.157e+06   1.09e+07      0.654      0.513   -1.43e+07    2.86e+07\n",
       "x149        6.436e+06   9.84e+06      0.654      0.513   -1.29e+07    2.57e+07\n",
       "x150        8.478e+06    1.3e+07      0.654      0.513   -1.69e+07    3.39e+07\n",
       "x151        5.521e+06   8.44e+06      0.654      0.513    -1.1e+07    2.21e+07\n",
       "x152       -1.314e+07    1.8e+07     -0.730      0.465   -4.84e+07    2.21e+07\n",
       "x153        2.082e+06   3.18e+06      0.654      0.513   -4.16e+06    8.32e+06\n",
       "x154        2.256e+06   3.45e+06      0.654      0.513   -4.51e+06    9.02e+06\n",
       "x155        5.589e+06   8.55e+06      0.654      0.513   -1.12e+07    2.23e+07\n",
       "x156        1.376e+06   2.11e+06      0.654      0.513   -2.75e+06     5.5e+06\n",
       "x157        7.409e+05   1.13e+06      0.654      0.513   -1.48e+06    2.96e+06\n",
       "x158        6.365e+05   9.74e+05      0.654      0.513   -1.27e+06    2.54e+06\n",
       "x159        4.027e+06   6.16e+06      0.654      0.513   -8.05e+06    1.61e+07\n",
       "x160        3.075e+06    4.7e+06      0.654      0.513   -6.14e+06    1.23e+07\n",
       "x161        1.814e+06   2.77e+06      0.654      0.513   -3.62e+06    7.25e+06\n",
       "x162        6.972e+06   1.07e+07      0.654      0.513   -1.39e+07    2.79e+07\n",
       "x163        4.446e+06    6.8e+06      0.654      0.513   -8.88e+06    1.78e+07\n",
       "x164        3.385e+06   5.12e+06      0.661      0.509   -6.66e+06    1.34e+07\n",
       "x165        2.025e+06    3.1e+06      0.654      0.513   -4.05e+06     8.1e+06\n",
       "x166        2.159e+06    3.3e+06      0.654      0.513   -4.31e+06    8.63e+06\n",
       "x167        2.015e+06   3.08e+06      0.654      0.513   -4.03e+06    8.06e+06\n",
       "x168        1.521e+06   2.33e+06      0.654      0.513   -3.04e+06    6.08e+06\n",
       "x169        3.913e+06   5.98e+06      0.654      0.513   -7.82e+06    1.56e+07\n",
       "x170        2.415e+06   3.69e+06      0.654      0.513   -4.83e+06    9.66e+06\n",
       "x171        4.272e+06   6.53e+06      0.654      0.513   -8.53e+06    1.71e+07\n",
       "x172        4.671e+06   7.14e+06      0.654      0.513   -9.33e+06    1.87e+07\n",
       "x173         1.09e+06   1.67e+06      0.654      0.513   -2.18e+06    4.36e+06\n",
       "x174       -2.072e+07   2.84e+07     -0.730      0.465   -7.63e+07    3.49e+07\n",
       "x175        1.171e+06   1.79e+06      0.654      0.513   -2.34e+06    4.68e+06\n",
       "x176       -1.158e+07   1.59e+07     -0.730      0.465   -4.27e+07    1.95e+07\n",
       "x177        4.053e+06    6.2e+06      0.654      0.513    -8.1e+06    1.62e+07\n",
       "x178         1.16e+06   1.77e+06      0.654      0.513   -2.32e+06    4.64e+06\n",
       "x179        1.084e+06   1.66e+06      0.654      0.513   -2.17e+06    4.34e+06\n",
       "x180        2.727e+06   4.17e+06      0.654      0.513   -5.45e+06    1.09e+07\n",
       "x181       -4.206e+07   6.37e+07     -0.661      0.509   -1.67e+08    8.27e+07\n",
       "x182        2.162e+06   3.31e+06      0.654      0.513   -4.32e+06    8.64e+06\n",
       "x183        4.235e+06   6.48e+06      0.654      0.513   -8.46e+06    1.69e+07\n",
       "x184        5.601e+05   8.57e+05      0.654      0.513   -1.12e+06    2.24e+06\n",
       "x185        2.186e+06   3.34e+06      0.654      0.513   -4.37e+06    8.74e+06\n",
       "x186        1.575e+06   2.41e+06      0.654      0.513   -3.15e+06     6.3e+06\n",
       "x187        1.959e+06      3e+06      0.654      0.513   -3.91e+06    7.83e+06\n",
       "x188        1.867e+06   2.86e+06      0.654      0.513   -3.73e+06    7.47e+06\n",
       "x189         1.04e+07   1.59e+07      0.654      0.513   -2.08e+07    4.16e+07\n",
       "x190       -1.187e+07   1.63e+07     -0.730      0.465   -4.37e+07       2e+07\n",
       "x191        4.149e+06   6.35e+06      0.654      0.513   -8.29e+06    1.66e+07\n",
       "x192        1.617e+05   2.47e+05      0.654      0.513   -3.23e+05    6.46e+05\n",
       "x193        2.526e+06   3.86e+06      0.654      0.513   -5.05e+06    1.01e+07\n",
       "x194        1.707e+06   2.61e+06      0.654      0.513   -3.41e+06    6.82e+06\n",
       "x195        4.302e+06   6.58e+06      0.654      0.513    -8.6e+06    1.72e+07\n",
       "x196       -2.166e+06   2.97e+06     -0.730      0.465   -7.98e+06    3.65e+06\n",
       "x197        2.839e+06   4.34e+06      0.654      0.513   -5.67e+06    1.14e+07\n",
       "x198        2.605e+06   3.98e+06      0.654      0.513    -5.2e+06    1.04e+07\n",
       "x199        1.546e+06   2.36e+06      0.654      0.513   -3.09e+06    6.18e+06\n",
       "x200        3.591e+06   5.49e+06      0.654      0.513   -7.17e+06    1.44e+07\n",
       "x201        4.387e+06   6.71e+06      0.654      0.513   -8.76e+06    1.75e+07\n",
       "x202        1.149e+06   1.76e+06      0.654      0.513    -2.3e+06    4.59e+06\n",
       "x203        6.764e+05   1.03e+06      0.654      0.513   -1.35e+06     2.7e+06\n",
       "x204        6.458e+06   9.88e+06      0.654      0.513   -1.29e+07    2.58e+07\n",
       "x205        1.133e+07   1.73e+07      0.654      0.513   -2.26e+07    4.53e+07\n",
       "x206        1.048e+06    1.6e+06      0.654      0.513   -2.09e+06    4.19e+06\n",
       "x207        1.242e+06    1.9e+06      0.654      0.513   -2.48e+06    4.96e+06\n",
       "x208       -6.696e+06   1.01e+07     -0.661      0.509   -2.66e+07    1.32e+07\n",
       "x209       -4.987e+06    7.9e+06     -0.632      0.528   -2.05e+07    1.05e+07\n",
       "x210        5.827e+06   8.82e+06      0.661      0.509   -1.15e+07    2.31e+07\n",
       "x211           0.0017      0.001      3.111      0.002       0.001       0.003\n",
       "x212          -0.0004      0.001     -0.713      0.476      -0.001       0.001\n",
       "x213       -3.787e+06      6e+06     -0.632      0.528   -1.55e+07    7.97e+06\n",
       "x214        1.986e+06   3.01e+06      0.661      0.509   -3.91e+06    7.88e+06\n",
       "x215           0.0052      0.001      8.965      0.000       0.004       0.006\n",
       "x216       -1.414e+06   2.24e+06     -0.632      0.528    -5.8e+06    2.97e+06\n",
       "x217       -3.106e+07   4.92e+07     -0.632      0.528   -1.27e+08    6.53e+07\n",
       "x218       -2.214e+06   3.51e+06     -0.632      0.528   -9.08e+06    4.66e+06\n",
       "x219       -1.196e+04   1.81e+04     -0.661      0.509   -4.74e+04    2.35e+04\n",
       "x220       -4.152e+07   6.57e+07     -0.632      0.528    -1.7e+08    8.73e+07\n",
       "x221       -1.024e+06   1.62e+06     -0.632      0.528    -4.2e+06    2.15e+06\n",
       "x222          -0.0005      0.001     -0.981      0.327      -0.002       0.001\n",
       "x223          -0.0072      0.001    -12.963      0.000      -0.008      -0.006\n",
       "x224           0.0007      0.001      1.303      0.192      -0.000       0.002\n",
       "x225           0.0017      0.001      3.153      0.002       0.001       0.003\n",
       "x226          -0.0008      0.001     -1.298      0.194      -0.002       0.000\n",
       "x227       -4.948e+06    7.3e+06     -0.677      0.498   -1.93e+07    9.37e+06\n",
       "x228       -6.765e+07   9.99e+07     -0.677      0.498   -2.63e+08    1.28e+08\n",
       "x229       -2.464e+06   3.64e+06     -0.677      0.498   -9.59e+06    4.66e+06\n",
       "x230       -1.032e+07   1.52e+07     -0.677      0.498   -4.02e+07    1.95e+07\n",
       "x231       -4.292e+06   6.34e+06     -0.677      0.498   -1.67e+07    8.13e+06\n",
       "x232       -1.078e+07   1.59e+07     -0.677      0.498    -4.2e+07    2.04e+07\n",
       "x233       -1.504e+07   2.22e+07     -0.677      0.498   -5.86e+07    2.85e+07\n",
       "x234       -2.479e+06   3.66e+06     -0.677      0.498   -9.65e+06    4.69e+06\n",
       "x235       -3.431e+06   5.06e+06     -0.677      0.498   -1.34e+07     6.5e+06\n",
       "x236       -5.637e+06   8.32e+06     -0.677      0.498   -2.19e+07    1.07e+07\n",
       "x237       -2.373e+06    3.5e+06     -0.677      0.498   -9.24e+06    4.49e+06\n",
       "x238       -3.628e+06   5.36e+06     -0.677      0.498   -1.41e+07    6.87e+06\n",
       "x239       -3.208e+07   4.74e+07     -0.677      0.498   -1.25e+08    6.07e+07\n",
       "x240       -9.115e+06   1.35e+07     -0.677      0.498   -3.55e+07    1.73e+07\n",
       "x241       -3.725e+07    5.5e+07     -0.677      0.498   -1.45e+08    7.05e+07\n",
       "x242       -2.499e+07   3.69e+07     -0.677      0.498   -9.73e+07    4.73e+07\n",
       "x243       -9.347e+06   1.38e+07     -0.677      0.498   -3.64e+07    1.77e+07\n",
       "x244       -8.156e+06    1.2e+07     -0.677      0.498   -3.18e+07    1.54e+07\n",
       "x245        -7.08e+07   1.05e+08     -0.677      0.498   -2.76e+08    1.34e+08\n",
       "x246       -1.645e+06   2.43e+06     -0.677      0.498   -6.41e+06    3.11e+06\n",
       "x247       -1.893e+06   2.79e+06     -0.677      0.498   -7.37e+06    3.58e+06\n",
       "x248       -1.668e+07   2.46e+07     -0.677      0.498   -6.49e+07    3.16e+07\n",
       "x249       -6.739e+06   9.95e+06     -0.677      0.498   -2.62e+07    1.28e+07\n",
       "x250       -5.657e+06   8.35e+06     -0.677      0.498    -2.2e+07    1.07e+07\n",
       "x251       -1.803e+07   2.66e+07     -0.677      0.498   -7.02e+07    3.41e+07\n",
       "x252       -3.815e+06   5.63e+06     -0.677      0.498   -1.49e+07    7.22e+06\n",
       "x253       -2.623e+07   3.87e+07     -0.677      0.498   -1.02e+08    4.97e+07\n",
       "x254       -1.711e+06   2.53e+06     -0.677      0.498   -6.66e+06    3.24e+06\n",
       "x255       -7.568e+06   1.12e+07     -0.677      0.498   -2.95e+07    1.43e+07\n",
       "x256       -2.479e+06   3.66e+06     -0.677      0.498   -9.65e+06    4.69e+06\n",
       "x257           0.1828      0.001    195.992      0.000       0.181       0.185\n",
       "x258          -0.0567      0.001    -90.318      0.000      -0.058      -0.055\n",
       "x259       -1.956e+07   2.99e+07     -0.655      0.512   -7.81e+07     3.9e+07\n",
       "x260       -1.263e+07   1.93e+07     -0.655      0.512   -5.04e+07    2.52e+07\n",
       "x261        -3.65e+07   5.57e+07     -0.655      0.512   -1.46e+08    7.27e+07\n",
       "x262       -2.457e+07   3.75e+07     -0.655      0.512   -9.81e+07     4.9e+07\n",
       "x263       -4.951e+07   7.56e+07     -0.655      0.512   -1.98e+08    9.87e+07\n",
       "x264          -0.0083      0.001     -9.776      0.000      -0.010      -0.007\n",
       "x265           0.0059      0.001      9.174      0.000       0.005       0.007\n",
       "x266       -2.426e-13    3.2e-13     -0.758      0.448    -8.7e-13    3.84e-13\n",
       "x267       -6.236e+06   1.27e+07     -0.489      0.625   -3.12e+07    1.88e+07\n",
       "x268       -7.921e+06   1.62e+07     -0.489      0.625   -3.97e+07    2.38e+07\n",
       "x269       -2.781e+05   5.68e+05     -0.489      0.625   -1.39e+06    8.36e+05\n",
       "x270       -8.034e+06   1.64e+07     -0.489      0.625   -4.02e+07    2.42e+07\n",
       "x271       -1.706e+06   3.49e+06     -0.489      0.625   -8.54e+06    5.13e+06\n",
       "x272       -2.384e+05   4.87e+05     -0.489      0.625   -1.19e+06    7.17e+05\n",
       "x273          -0.0269      0.001    -29.417      0.000      -0.029      -0.025\n",
       "x274           0.0171      0.001     18.686      0.000       0.015       0.019\n",
       "x275         1.56e+07      2e+07      0.780      0.435   -2.36e+07    5.48e+07\n",
       "x276          -0.0050      0.001     -7.280      0.000      -0.006      -0.004\n",
       "x277           0.0343      0.001     46.337      0.000       0.033       0.036\n",
       "x278           0.0047      0.001      6.558      0.000       0.003       0.006\n",
       "x279           0.0004      0.001      0.638      0.523      -0.001       0.002\n",
       "x280           0.0051      0.001      4.521      0.000       0.003       0.007\n",
       "x281           0.0029      0.001      4.854      0.000       0.002       0.004\n",
       "x282           0.0041      0.001      6.063      0.000       0.003       0.005\n",
       "x283          -0.0003      0.001     -0.458      0.647      -0.002       0.001\n",
       "x284           0.0222      0.001     18.558      0.000       0.020       0.025\n",
       "x285          -0.0138      0.001     -9.571      0.000      -0.017      -0.011\n",
       "x286           0.0063      0.002      3.865      0.000       0.003       0.009\n",
       "x287           0.0223      0.001     23.453      0.000       0.020       0.024\n",
       "x288          -0.0128      0.001    -19.657      0.000      -0.014      -0.012\n",
       "x289           0.0492      0.001     65.207      0.000       0.048       0.051\n",
       "x290          -0.0012      0.001     -1.894      0.058      -0.003     4.3e-05\n",
       "x291          -0.0043      0.001     -4.132      0.000      -0.006      -0.002\n",
       "x292           0.0016      0.001      2.310      0.021       0.000       0.003\n",
       "x293          -0.0088      0.001    -12.910      0.000      -0.010      -0.007\n",
       "x294          -0.0080      0.001    -11.618      0.000      -0.009      -0.007\n",
       "x295           0.0074      0.001     10.063      0.000       0.006       0.009\n",
       "x296           0.0120      0.001     15.463      0.000       0.010       0.014\n",
       "x297          -0.0017      0.001     -2.105      0.035      -0.003      -0.000\n",
       "x298           0.0227      0.001     29.690      0.000       0.021       0.024\n",
       "x299          -0.0129      0.001    -16.337      0.000      -0.014      -0.011\n",
       "x300          -0.0080      0.001    -13.135      0.000      -0.009      -0.007\n",
       "x301          -0.0041      0.001     -5.928      0.000      -0.005      -0.003\n",
       "x302          -0.0185      0.001    -21.733      0.000      -0.020      -0.017\n",
       "x303           0.0115      0.001     18.876      0.000       0.010       0.013\n",
       "x304           0.0193      0.001     26.887      0.000       0.018       0.021\n",
       "x305          -0.0042      0.001     -5.313      0.000      -0.006      -0.003\n",
       "x306          -0.0093      0.001    -10.442      0.000      -0.011      -0.008\n",
       "x307          -0.0003      0.001     -0.501      0.616      -0.002       0.001\n",
       "x308           0.0048      0.001      6.712      0.000       0.003       0.006\n",
       "x309          -0.0088      0.001    -12.725      0.000      -0.010      -0.007\n",
       "x310          -0.0178      0.001    -18.910      0.000      -0.020      -0.016\n",
       "x311          -0.0155      0.001    -20.952      0.000      -0.017      -0.014\n",
       "x312           0.0154      0.001     21.153      0.000       0.014       0.017\n",
       "x313          -0.0314      0.001    -23.066      0.000      -0.034      -0.029\n",
       "x314          -0.0046      0.001     -3.403      0.001      -0.007      -0.002\n",
       "x315           0.0133      0.001     17.328      0.000       0.012       0.015\n",
       "x316          -0.0019      0.001     -3.136      0.002      -0.003      -0.001\n",
       "x317           0.0038      0.001      6.208      0.000       0.003       0.005\n",
       "x318           0.0077      0.001     11.640      0.000       0.006       0.009\n",
       "x319           0.0200      0.001     33.293      0.000       0.019       0.021\n",
       "x320           0.0209      0.001     32.943      0.000       0.020       0.022\n",
       "x321           0.0194      0.001     17.425      0.000       0.017       0.022\n",
       "x322           0.0328      0.001     47.810      0.000       0.031       0.034\n",
       "x323          -0.0048      0.001     -7.060      0.000      -0.006      -0.003\n",
       "x324           0.0036      0.001      5.006      0.000       0.002       0.005\n",
       "x325          -0.0046      0.001     -6.798      0.000      -0.006      -0.003\n",
       "x326           0.0194      0.001     28.214      0.000       0.018       0.021\n",
       "x327          -0.0172      0.001    -28.872      0.000      -0.018      -0.016\n",
       "x328          -0.0191      0.001    -19.491      0.000      -0.021      -0.017\n",
       "x329          -0.0017      0.001     -1.889      0.059      -0.004    6.47e-05\n",
       "==============================================================================\n",
       "Omnibus:                    14095.138   Durbin-Watson:                   0.084\n",
       "Prob(Omnibus):                  0.000   Jarque-Bera (JB):            33931.974\n",
       "Skew:                           0.301   Prob(JB):                         0.00\n",
       "Kurtosis:                       4.583   Cond. No.                     4.42e+16\n",
       "==============================================================================\n",
       "\n",
       "Warnings:\n",
       "[1] Standard Errors assume that the covariance matrix of the errors is correctly specified.\n",
       "[2] The smallest eigenvalue is 1.53e-27. This might indicate that there are\n",
       "strong multicollinearity problems or that the design matrix is singular.\n",
       "\"\"\""
      ]
     },
     "execution_count": 51,
     "metadata": {},
     "output_type": "execute_result"
    }
   ],
   "source": [
    "# Model-LR\n",
    "\n",
    "model=sm.OLS(y_train, sm.add_constant(X_train_trans))\n",
    "fit=model.fit()\n",
    "fit.summary()"
   ]
  },
  {
   "cell_type": "markdown",
   "metadata": {
    "ExecuteTime": {
     "end_time": "2019-02-18T09:53:22.993706Z",
     "start_time": "2019-02-18T09:53:22.963032Z"
    }
   },
   "source": [
    "## Lasso"
   ]
  },
  {
   "cell_type": "code",
   "execution_count": 52,
   "metadata": {
    "ExecuteTime": {
     "end_time": "2019-02-18T22:52:33.428681Z",
     "start_time": "2019-02-18T22:52:33.417027Z"
    }
   },
   "outputs": [],
   "source": [
    "from sklearn.pipeline import make_pipeline\n",
    "from sklearn.model_selection import RandomizedSearchCV\n",
    "from sklearn.model_selection import GridSearchCV\n",
    "from sklearn.preprocessing import PolynomialFeatures\n",
    "from sklearn.linear_model import Lasso"
   ]
  },
  {
   "cell_type": "code",
   "execution_count": 53,
   "metadata": {
    "ExecuteTime": {
     "end_time": "2019-02-18T22:52:34.309655Z",
     "start_time": "2019-02-18T22:52:34.305480Z"
    }
   },
   "outputs": [],
   "source": [
    "est = make_pipeline(PolynomialFeatures(), Lasso())"
   ]
  },
  {
   "cell_type": "code",
   "execution_count": 54,
   "metadata": {
    "ExecuteTime": {
     "end_time": "2019-02-18T22:52:35.255258Z",
     "start_time": "2019-02-18T22:52:35.248514Z"
    }
   },
   "outputs": [
    {
     "data": {
      "text/plain": [
       "dict_keys(['memory', 'steps', 'polynomialfeatures', 'lasso', 'polynomialfeatures__degree', 'polynomialfeatures__include_bias', 'polynomialfeatures__interaction_only', 'lasso__alpha', 'lasso__copy_X', 'lasso__fit_intercept', 'lasso__max_iter', 'lasso__normalize', 'lasso__positive', 'lasso__precompute', 'lasso__random_state', 'lasso__selection', 'lasso__tol', 'lasso__warm_start'])"
      ]
     },
     "execution_count": 54,
     "metadata": {},
     "output_type": "execute_result"
    }
   ],
   "source": [
    "est.get_params().keys()"
   ]
  },
  {
   "cell_type": "code",
   "execution_count": 55,
   "metadata": {
    "ExecuteTime": {
     "end_time": "2019-02-18T22:52:36.250388Z",
     "start_time": "2019-02-18T22:52:36.239024Z"
    }
   },
   "outputs": [],
   "source": [
    "params ={'polynomialfeatures__degree':[1], \n",
    "         'lasso__alpha': [1e-4, 1e-3, 1e-2, 1e-1, 1],\n",
    "        }"
   ]
  },
  {
   "cell_type": "code",
   "execution_count": 56,
   "metadata": {
    "ExecuteTime": {
     "end_time": "2019-02-18T23:05:53.352535Z",
     "start_time": "2019-02-18T22:52:37.294775Z"
    }
   },
   "outputs": [
    {
     "name": "stderr",
     "output_type": "stream",
     "text": [
      "/Users/xzhou/anaconda3/lib/python3.6/site-packages/sklearn/linear_model/coordinate_descent.py:491: ConvergenceWarning: Objective did not converge. You might want to increase the number of iterations. Fitting data with very small alpha may cause precision problems.\n",
      "  ConvergenceWarning)\n",
      "/Users/xzhou/anaconda3/lib/python3.6/site-packages/sklearn/linear_model/coordinate_descent.py:491: ConvergenceWarning: Objective did not converge. You might want to increase the number of iterations. Fitting data with very small alpha may cause precision problems.\n",
      "  ConvergenceWarning)\n"
     ]
    },
    {
     "data": {
      "text/plain": [
       "GridSearchCV(cv=3, error_score='raise',\n",
       "       estimator=Pipeline(memory=None,\n",
       "     steps=[('polynomialfeatures', PolynomialFeatures(degree=2, include_bias=True, interaction_only=False)), ('lasso', Lasso(alpha=1.0, copy_X=True, fit_intercept=True, max_iter=1000,\n",
       "   normalize=False, positive=False, precompute=False, random_state=None,\n",
       "   selection='cyclic', tol=0.0001, warm_start=False))]),\n",
       "       fit_params=None, iid=True, n_jobs=-1,\n",
       "       param_grid={'polynomialfeatures__degree': [1], 'lasso__alpha': [0.0001, 0.001, 0.01, 0.1, 1]},\n",
       "       pre_dispatch='2*n_jobs', refit=True, return_train_score=True,\n",
       "       scoring=None, verbose=0)"
      ]
     },
     "execution_count": 56,
     "metadata": {},
     "output_type": "execute_result"
    }
   ],
   "source": [
    "grid = GridSearchCV(est, param_grid=params, cv=3, \n",
    "                    return_train_score=True,  n_jobs =-1)\n",
    "grid.fit(X_train_trans, y_train)"
   ]
  },
  {
   "cell_type": "code",
   "execution_count": 57,
   "metadata": {
    "ExecuteTime": {
     "end_time": "2019-02-18T23:05:54.517376Z",
     "start_time": "2019-02-18T23:05:54.507494Z"
    }
   },
   "outputs": [
    {
     "data": {
      "text/plain": [
       "array([3, 2, 1, 4, 5], dtype=int32)"
      ]
     },
     "execution_count": 57,
     "metadata": {},
     "output_type": "execute_result"
    }
   ],
   "source": [
    "grid.cv_results_\n",
    "\n",
    "grid.cv_results_['params']\n",
    "grid.cv_results_['mean_train_score']\n",
    "grid.cv_results_['rank_test_score']"
   ]
  },
  {
   "cell_type": "code",
   "execution_count": 59,
   "metadata": {
    "ExecuteTime": {
     "end_time": "2019-02-18T23:37:28.985992Z",
     "start_time": "2019-02-18T23:37:28.975572Z"
    }
   },
   "outputs": [
    {
     "data": {
      "text/plain": [
       "{'mean_fit_time': array([729.25215634, 139.87562998,  38.10073352,  31.7764833 ,\n",
       "         25.62171427]),\n",
       " 'std_fit_time': array([46.1202774 , 14.00060987,  1.63774755,  1.4471135 ,  1.50080164]),\n",
       " 'mean_score_time': array([5.42387605, 5.24939338, 3.68755277, 3.64754534, 3.24543802]),\n",
       " 'std_score_time': array([1.63998501, 1.53607755, 0.13390015, 0.25831258, 0.68700066]),\n",
       " 'param_lasso__alpha': masked_array(data=[0.0001, 0.001, 0.01, 0.1, 1],\n",
       "              mask=[False, False, False, False, False],\n",
       "        fill_value='?',\n",
       "             dtype=object),\n",
       " 'param_polynomialfeatures__degree': masked_array(data=[1, 1, 1, 1, 1],\n",
       "              mask=[False, False, False, False, False],\n",
       "        fill_value='?',\n",
       "             dtype=object),\n",
       " 'params': [{'lasso__alpha': 0.0001, 'polynomialfeatures__degree': 1},\n",
       "  {'lasso__alpha': 0.001, 'polynomialfeatures__degree': 1},\n",
       "  {'lasso__alpha': 0.01, 'polynomialfeatures__degree': 1},\n",
       "  {'lasso__alpha': 0.1, 'polynomialfeatures__degree': 1},\n",
       "  {'lasso__alpha': 1, 'polynomialfeatures__degree': 1}],\n",
       " 'split0_test_score': array([ 0.64787062,  0.66032144,  0.65532404,  0.50300506, -0.01864206]),\n",
       " 'split1_test_score': array([ 0.6933446 ,  0.70050678,  0.69197548,  0.51204919, -0.00105554]),\n",
       " 'split2_test_score': array([ 0.63850037,  0.65535482,  0.68179425,  0.50700073, -0.00888188]),\n",
       " 'mean_test_score': array([ 0.65990515,  0.67206097,  0.67636452,  0.50735165, -0.00952653]),\n",
       " 'std_test_score': array([0.02395264, 0.02021611, 0.01544763, 0.00370058, 0.00719413]),\n",
       " 'rank_test_score': array([3, 2, 1, 4, 5], dtype=int32),\n",
       " 'split0_train_score': array([0.75954257, 0.75786057, 0.72262905, 0.53182564, 0.        ]),\n",
       " 'split1_train_score': array([0.75001117, 0.74823118, 0.709739  , 0.51365815, 0.        ]),\n",
       " 'split2_train_score': array([0.75449225, 0.75294573, 0.71181577, 0.50979184, 0.        ]),\n",
       " 'mean_train_score': array([0.75468199, 0.75301249, 0.71472794, 0.51842521, 0.        ]),\n",
       " 'std_train_score': array([0.00389349, 0.00393147, 0.00565089, 0.0096061 , 0.        ])}"
      ]
     },
     "execution_count": 59,
     "metadata": {},
     "output_type": "execute_result"
    }
   ],
   "source": [
    "grid.cv_results_"
   ]
  },
  {
   "cell_type": "code",
   "execution_count": 60,
   "metadata": {
    "ExecuteTime": {
     "end_time": "2019-02-18T23:37:29.949403Z",
     "start_time": "2019-02-18T23:37:29.941166Z"
    }
   },
   "outputs": [
    {
     "data": {
      "text/plain": [
       "{'lasso__alpha': 0.01, 'polynomialfeatures__degree': 1}"
      ]
     },
     "execution_count": 60,
     "metadata": {},
     "output_type": "execute_result"
    }
   ],
   "source": [
    "grid.best_params_"
   ]
  },
  {
   "cell_type": "code",
   "execution_count": 61,
   "metadata": {
    "ExecuteTime": {
     "end_time": "2019-02-18T23:37:30.902051Z",
     "start_time": "2019-02-18T23:37:30.894844Z"
    }
   },
   "outputs": [
    {
     "data": {
      "text/plain": [
       "[{'lasso__alpha': 0.0001, 'polynomialfeatures__degree': 1},\n",
       " {'lasso__alpha': 0.001, 'polynomialfeatures__degree': 1},\n",
       " {'lasso__alpha': 0.01, 'polynomialfeatures__degree': 1},\n",
       " {'lasso__alpha': 0.1, 'polynomialfeatures__degree': 1},\n",
       " {'lasso__alpha': 1, 'polynomialfeatures__degree': 1}]"
      ]
     },
     "execution_count": 61,
     "metadata": {},
     "output_type": "execute_result"
    }
   ],
   "source": [
    "grid.cv_results_['params']"
   ]
  },
  {
   "cell_type": "code",
   "execution_count": 62,
   "metadata": {
    "ExecuteTime": {
     "end_time": "2019-02-18T23:37:35.629060Z",
     "start_time": "2019-02-18T23:37:35.623257Z"
    }
   },
   "outputs": [
    {
     "data": {
      "text/plain": [
       "0.6763645169928125"
      ]
     },
     "execution_count": 62,
     "metadata": {},
     "output_type": "execute_result"
    }
   ],
   "source": [
    "grid.best_score_"
   ]
  },
  {
   "cell_type": "markdown",
   "metadata": {},
   "source": [
    "## Boosting Tree"
   ]
  },
  {
   "cell_type": "code",
   "execution_count": 1,
   "metadata": {
    "ExecuteTime": {
     "end_time": "2019-02-19T10:28:35.478797Z",
     "start_time": "2019-02-19T10:28:34.168415Z"
    }
   },
   "outputs": [],
   "source": [
    "import xgboost"
   ]
  },
  {
   "cell_type": "code",
   "execution_count": null,
   "metadata": {
    "ExecuteTime": {
     "start_time": "2019-02-19T10:27:56.159Z"
    }
   },
   "outputs": [],
   "source": [
    "xg = xgboost.XGBRegressor(random_state=42, n_jobs=-1 )\n",
    "xg.fit(X_train_trans, y_train.ravel())"
   ]
  },
  {
   "cell_type": "code",
   "execution_count": null,
   "metadata": {
    "ExecuteTime": {
     "end_time": "2019-02-18T22:47:27.303230Z",
     "start_time": "2019-02-18T22:36:36.355Z"
    }
   },
   "outputs": [],
   "source": [
    "grid.b"
   ]
  },
  {
   "cell_type": "markdown",
   "metadata": {},
   "source": [
    "## Random Forest"
   ]
  },
  {
   "cell_type": "code",
   "execution_count": 58,
   "metadata": {
    "ExecuteTime": {
     "end_time": "2019-02-18T23:09:11.379401Z",
     "start_time": "2019-02-18T23:05:55.288132Z"
    }
   },
   "outputs": [
    {
     "name": "stderr",
     "output_type": "stream",
     "text": [
      "[Parallel(n_jobs=-1)]: Done  42 tasks      | elapsed:  1.4min\n",
      "[Parallel(n_jobs=-1)]: Done 100 out of 100 | elapsed:  3.2min finished\n",
      "[Parallel(n_jobs=4)]: Done  42 tasks      | elapsed:    0.7s\n",
      "[Parallel(n_jobs=4)]: Done 100 out of 100 | elapsed:    1.6s finished\n",
      "[Parallel(n_jobs=4)]: Done  42 tasks      | elapsed:    0.2s\n"
     ]
    },
    {
     "name": "stdout",
     "output_type": "stream",
     "text": [
      "MSE train: 0.000, test: 0.099\n",
      "R^2 train: 1.000, test: 0.695\n"
     ]
    },
    {
     "name": "stderr",
     "output_type": "stream",
     "text": [
      "[Parallel(n_jobs=4)]: Done 100 out of 100 | elapsed:    0.5s finished\n"
     ]
    }
   ],
   "source": [
    "# Model-Random Forest\n",
    "\n",
    "rf = RandomForestRegressor(n_estimators=100, \n",
    "                           criterion='mse', \n",
    "                           random_state=42, \n",
    "                           verbose=1,\n",
    "                           n_jobs=-1)\n",
    "rf.fit(X_train_trans, y_train.ravel())\n",
    "\n",
    "y_train_pred = rf.predict(X_train_trans)\n",
    "y_test_pred = rf.predict(X_test_trans)\n",
    "\n",
    "print('MSE train: %.3f, test: %.3f' % (\n",
    "        mean_squared_error(y_train, y_train_pred),\n",
    "        mean_squared_error(y_test, y_test_pred)))\n",
    "print('R^2 train: %.3f, test: %.3f' % (\n",
    "        r2_score(y_train, y_train_pred),\n",
    "        r2_score(y_test, y_test_pred)))"
   ]
  },
  {
   "cell_type": "code",
   "execution_count": null,
   "metadata": {
    "ExecuteTime": {
     "end_time": "2019-02-18T22:47:27.340734Z",
     "start_time": "2019-02-18T22:36:47.926Z"
    }
   },
   "outputs": [],
   "source": [
    "df_final.listing_id.nunique()"
   ]
  },
  {
   "cell_type": "code",
   "execution_count": null,
   "metadata": {
    "ExecuteTime": {
     "end_time": "2019-02-18T03:37:12.175804Z",
     "start_time": "2019-02-18T03:37:12.130344Z"
    }
   },
   "outputs": [],
   "source": [
    "# Double check on price range. The range is as expected\n",
    "\n",
    "y.describe(include='all')"
   ]
  },
  {
   "cell_type": "code",
   "execution_count": null,
   "metadata": {
    "ExecuteTime": {
     "end_time": "2019-02-18T03:37:17.200153Z",
     "start_time": "2019-02-18T03:37:17.092252Z"
    }
   },
   "outputs": [],
   "source": [
    "# Map feature importance with labels\n",
    "\n",
    "feature_labels = X.columns\n",
    "feature_tuples = zip (feature_labels, rf.feature_importances_)\n",
    "feature_lists = [list(feature_tuple) for feature_tuple in feature_tuples]"
   ]
  },
  {
   "cell_type": "code",
   "execution_count": null,
   "metadata": {
    "ExecuteTime": {
     "end_time": "2019-02-18T03:37:22.160740Z",
     "start_time": "2019-02-18T03:37:22.146719Z"
    }
   },
   "outputs": [],
   "source": [
    "# Order features based on importance\n",
    "\n",
    "feature_lists.sort(key=lambda x: abs(x[1]), reverse=True)\n",
    "feature_lists"
   ]
  },
  {
   "cell_type": "code",
   "execution_count": null,
   "metadata": {
    "ExecuteTime": {
     "end_time": "2019-02-18T03:37:27.099467Z",
     "start_time": "2019-02-18T03:37:27.090834Z"
    }
   },
   "outputs": [],
   "source": [
    "features = [list_[0] for list_ in feature_lists]\n",
    "features"
   ]
  },
  {
   "cell_type": "code",
   "execution_count": null,
   "metadata": {
    "ExecuteTime": {
     "end_time": "2019-02-18T03:37:32.044883Z",
     "start_time": "2019-02-18T03:37:32.040090Z"
    }
   },
   "outputs": [],
   "source": [
    "# 'ref_dist', 'ref_juri', 'ref_jurisdiction', 'price_by_month_week'\n",
    "\n",
    "\n",
    "columns =['listing_id']\n",
    "columns.extend(features)\n",
    "columns.extend(['ref_district', 'ref_jurisdiction', 'price_by_month_dow'])"
   ]
  },
  {
   "cell_type": "code",
   "execution_count": null,
   "metadata": {
    "ExecuteTime": {
     "end_time": "2019-02-18T03:37:37.095412Z",
     "start_time": "2019-02-18T03:37:36.442344Z"
    }
   },
   "outputs": [],
   "source": [
    "df_data = df_final[columns]\n",
    "df_data.head()"
   ]
  },
  {
   "cell_type": "code",
   "execution_count": null,
   "metadata": {
    "ExecuteTime": {
     "end_time": "2019-02-18T03:37:43.055535Z",
     "start_time": "2019-02-18T03:37:43.049803Z"
    }
   },
   "outputs": [],
   "source": [
    "df_data.shape"
   ]
  },
  {
   "cell_type": "code",
   "execution_count": null,
   "metadata": {
    "ExecuteTime": {
     "end_time": "2019-02-18T03:37:49.818311Z",
     "start_time": "2019-02-18T03:37:49.216337Z"
    }
   },
   "outputs": [],
   "source": [
    "df_data.rename(columns={'price_by_month_dow':'price'}, inplace=True)"
   ]
  },
  {
   "cell_type": "code",
   "execution_count": null,
   "metadata": {
    "ExecuteTime": {
     "end_time": "2019-02-18T03:37:56.497520Z",
     "start_time": "2019-02-18T03:37:55.318891Z"
    }
   },
   "outputs": [],
   "source": [
    "df_data.isnull().sum()"
   ]
  },
  {
   "cell_type": "code",
   "execution_count": null,
   "metadata": {
    "ExecuteTime": {
     "end_time": "2019-02-18T02:14:17.220412Z",
     "start_time": "2019-02-18T02:13:52.014089Z"
    },
    "scrolled": false
   },
   "outputs": [],
   "source": [
    "temp_df = df_data[['Monday', 'Tuesday', 'Wednesday', 'Thursday', 'Friday', 'Saturday', 'Sunday']].copy()\n",
    "\n",
    "days = temp_df.apply(lambda x: x.idxmax(), axis=1)\n",
    "days"
   ]
  },
  {
   "cell_type": "code",
   "execution_count": null,
   "metadata": {
    "ExecuteTime": {
     "end_time": "2018-09-17T22:12:55.258059Z",
     "start_time": "2018-09-17T22:12:27.019Z"
    }
   },
   "outputs": [],
   "source": [
    "csv_file = '/Users/xzhou/github/project_archives/files_airbnb/{}.csv'\n",
    "\n",
    "csv_path = csv_file.format('airbnb_data')\n",
    "\n",
    "df_data.to_csv(csv_path)"
   ]
  },
  {
   "cell_type": "code",
   "execution_count": null,
   "metadata": {},
   "outputs": [],
   "source": []
  },
  {
   "cell_type": "code",
   "execution_count": null,
   "metadata": {
    "ExecuteTime": {
     "end_time": "2019-02-18T03:38:51.267141Z",
     "start_time": "2019-02-18T03:38:45.434760Z"
    }
   },
   "outputs": [],
   "source": [
    "# This is to create visual to show seasonality\n",
    "\n",
    "df_visual = pd.merge(left=df_pricing_by_mon_dow, \n",
    "                    right=df_listings_features,\n",
    "                    how='inner',\n",
    "                    left_on='listing_id',\n",
    "                    right_on='id')"
   ]
  },
  {
   "cell_type": "code",
   "execution_count": null,
   "metadata": {
    "ExecuteTime": {
     "end_time": "2019-02-18T02:14:31.142864Z",
     "start_time": "2019-02-18T02:14:31.137080Z"
    }
   },
   "outputs": [],
   "source": [
    "# df_visual = df_final.copy()"
   ]
  },
  {
   "cell_type": "code",
   "execution_count": null,
   "metadata": {
    "ExecuteTime": {
     "end_time": "2019-02-18T03:38:03.335205Z",
     "start_time": "2019-02-18T03:35:42.959Z"
    }
   },
   "outputs": [],
   "source": [
    "df_visual.shape"
   ]
  },
  {
   "cell_type": "code",
   "execution_count": null,
   "metadata": {
    "ExecuteTime": {
     "end_time": "2019-02-18T03:42:57.279222Z",
     "start_time": "2019-02-18T03:42:57.272733Z"
    }
   },
   "outputs": [],
   "source": [
    "df_visual.columns"
   ]
  },
  {
   "cell_type": "code",
   "execution_count": null,
   "metadata": {
    "ExecuteTime": {
     "end_time": "2019-02-18T03:50:37.560728Z",
     "start_time": "2019-02-18T03:50:37.479608Z"
    }
   },
   "outputs": [],
   "source": [
    "df_by_dow = df_visual  \\\n",
    "                          .groupby(['ref_district', 'day_of_week'])  \\\n",
    "                          .price_by_month_dow.mean()\n",
    "df_by_dow"
   ]
  },
  {
   "cell_type": "code",
   "execution_count": null,
   "metadata": {
    "ExecuteTime": {
     "end_time": "2019-02-18T03:51:15.288718Z",
     "start_time": "2019-02-18T03:51:15.215199Z"
    }
   },
   "outputs": [],
   "source": [
    "df_by_dow = df_visual  \\\n",
    "                          .groupby(['ref_district', 'month'])  \\\n",
    "                          .price_by_month_dow.mean()\n",
    "df_by_dow"
   ]
  },
  {
   "cell_type": "code",
   "execution_count": null,
   "metadata": {
    "ExecuteTime": {
     "end_time": "2019-02-18T03:39:36.492597Z",
     "start_time": "2019-02-18T03:39:35.354521Z"
    }
   },
   "outputs": [],
   "source": [
    "df_visual_ent_apart = df_visual[df_visual['room_type_Entire home/apt']==1 ]\n",
    "df_visual_sing_room = df_visual[df_visual['room_type_Entire home/apt']!=1 ]\n",
    "\n",
    "print(df_visual_ent_apart.shape, df_visual_sing_room.shape )"
   ]
  },
  {
   "cell_type": "code",
   "execution_count": null,
   "metadata": {
    "ExecuteTime": {
     "end_time": "2019-02-18T03:40:45.656273Z",
     "start_time": "2019-02-18T03:40:45.648104Z"
    }
   },
   "outputs": [],
   "source": [
    "df_visual_ent_apart.ref_district.describe"
   ]
  },
  {
   "cell_type": "code",
   "execution_count": null,
   "metadata": {
    "ExecuteTime": {
     "end_time": "2019-02-18T02:14:58.880705Z",
     "start_time": "2019-02-18T02:14:58.747358Z"
    }
   },
   "outputs": [],
   "source": [
    "# df_visual_entire_apartment_sf = df_visual_entire_apartment[\n",
    "#                            df_visual_entire_apartment['ref_district']=='San Francisco']\n",
    "# df_visual_entire_apartment_scz = df_visual_entire_apartment[df_visual_entire_apartment['ref_district']=='Santa Clara']\n",
    "\n",
    "# print(df_visual_entire_apartment_sf.shape, df_visual_entire_apartment_scz.shape )"
   ]
  },
  {
   "cell_type": "code",
   "execution_count": null,
   "metadata": {
    "ExecuteTime": {
     "end_time": "2019-02-18T02:15:05.436739Z",
     "start_time": "2019-02-18T02:15:05.429732Z"
    }
   },
   "outputs": [],
   "source": [
    "# df_visual_entire_apartment_sf.listing_id.nunique()"
   ]
  },
  {
   "cell_type": "code",
   "execution_count": null,
   "metadata": {
    "ExecuteTime": {
     "end_time": "2019-02-18T02:15:11.884816Z",
     "start_time": "2019-02-18T02:15:11.878206Z"
    }
   },
   "outputs": [],
   "source": [
    "# df_visual_entire_apartment_scz.listing_id.nunique()"
   ]
  },
  {
   "cell_type": "code",
   "execution_count": null,
   "metadata": {
    "ExecuteTime": {
     "end_time": "2019-02-18T03:44:29.009085Z",
     "start_time": "2019-02-18T03:44:28.964443Z"
    }
   },
   "outputs": [],
   "source": [
    "# Weekly pattern for entire apartment\n",
    "\n",
    "df_ent_apart_by_dow = df_visual_ent_apart  \\\n",
    "                          .groupby(['ref_district', 'day_of_week'])  \\\n",
    "                          .price_by_month_dow.mean()\n",
    "df_ent_apart_by_dow"
   ]
  },
  {
   "cell_type": "code",
   "execution_count": null,
   "metadata": {
    "ExecuteTime": {
     "end_time": "2019-02-18T03:45:36.536523Z",
     "start_time": "2019-02-18T03:45:36.503871Z"
    }
   },
   "outputs": [],
   "source": [
    "# Weekly pattern for single room\n",
    "\n",
    "df_sing_room_by_dow = df_visual_sing_room  \\\n",
    "                          .groupby(['ref_district', 'day_of_week'])  \\\n",
    "                          .price_by_month_dow.mean()\n",
    "df_sing_room_by_dow"
   ]
  },
  {
   "cell_type": "code",
   "execution_count": null,
   "metadata": {
    "ExecuteTime": {
     "end_time": "2019-02-18T03:46:30.677978Z",
     "start_time": "2019-02-18T03:46:30.641259Z"
    }
   },
   "outputs": [],
   "source": [
    "# Montly Pattern for entire apartment\n",
    "\n",
    "df_visual_ent_apart.groupby(['ref_district', 'month']).price_by_month_dow.mean()"
   ]
  },
  {
   "cell_type": "code",
   "execution_count": null,
   "metadata": {
    "ExecuteTime": {
     "end_time": "2019-02-18T03:46:38.946129Z",
     "start_time": "2019-02-18T03:46:38.913688Z"
    }
   },
   "outputs": [],
   "source": [
    "# Montly Pattern for single room\n",
    "\n",
    "df_visual_sing_room.groupby(['ref_district', 'month']).price_by_month_dow.mean()"
   ]
  }
 ],
 "metadata": {
  "kernelspec": {
   "display_name": "Python 3",
   "language": "python",
   "name": "python3"
  },
  "language_info": {
   "codemirror_mode": {
    "name": "ipython",
    "version": 3
   },
   "file_extension": ".py",
   "mimetype": "text/x-python",
   "name": "python",
   "nbconvert_exporter": "python",
   "pygments_lexer": "ipython3",
   "version": "3.6.6"
  },
  "toc": {
   "base_numbering": 1,
   "nav_menu": {},
   "number_sections": true,
   "sideBar": true,
   "skip_h1_title": false,
   "title_cell": "Table of Contents",
   "title_sidebar": "Contents",
   "toc_cell": false,
   "toc_position": {},
   "toc_section_display": true,
   "toc_window_display": true
  },
  "varInspector": {
   "cols": {
    "lenName": 16,
    "lenType": 16,
    "lenVar": 40
   },
   "kernels_config": {
    "python": {
     "delete_cmd_postfix": "",
     "delete_cmd_prefix": "del ",
     "library": "var_list.py",
     "varRefreshCmd": "print(var_dic_list())"
    },
    "r": {
     "delete_cmd_postfix": ") ",
     "delete_cmd_prefix": "rm(",
     "library": "var_list.r",
     "varRefreshCmd": "cat(var_dic_list()) "
    }
   },
   "types_to_exclude": [
    "module",
    "function",
    "builtin_function_or_method",
    "instance",
    "_Feature"
   ],
   "window_display": false
  }
 },
 "nbformat": 4,
 "nbformat_minor": 2
}
