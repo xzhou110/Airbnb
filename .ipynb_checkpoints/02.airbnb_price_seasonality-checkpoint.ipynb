{
 "cells": [
  {
   "cell_type": "code",
   "execution_count": 1,
   "metadata": {
    "ExecuteTime": {
     "end_time": "2018-09-19T05:19:56.214662Z",
     "start_time": "2018-09-19T05:19:55.196617Z"
    }
   },
   "outputs": [],
   "source": [
    "import pandas as pd\n",
    "import csv\n",
    "import re\n",
    "import statsmodels.api as sm\n",
    "from datetime import datetime\n",
    "import matplotlib.pyplot as plt\n",
    "import numpy as np\n",
    "\n",
    "from sklearn import datasets, linear_model\n",
    "from sklearn.metrics import mean_squared_error, r2_score\n",
    "from sklearn.preprocessing import StandardScaler\n",
    "from sklearn.model_selection import train_test_split\n",
    "from sklearn.ensemble import RandomForestRegressor"
   ]
  },
  {
   "cell_type": "code",
   "execution_count": 2,
   "metadata": {
    "ExecuteTime": {
     "end_time": "2018-09-19T05:19:56.234560Z",
     "start_time": "2018-09-19T05:19:56.229472Z"
    }
   },
   "outputs": [],
   "source": [
    "file_url = '/Users/xzhou/github/project_archives/files_airbnb/{}/calendar.csv'\n",
    "\n",
    "sf_file = file_url.format('sf_airbnb')\n",
    "ok_file = file_url.format('ok_airbnb')\n",
    "sc_file = file_url.format('sc_airbnb')\n",
    "scz_file = file_url.format('scz_airbnb')"
   ]
  },
  {
   "cell_type": "code",
   "execution_count": 3,
   "metadata": {
    "ExecuteTime": {
     "end_time": "2018-09-19T05:20:02.268784Z",
     "start_time": "2018-09-19T05:19:56.253534Z"
    }
   },
   "outputs": [],
   "source": [
    "pricing_sf = pd.read_csv(sf_file, parse_dates=['date'])\n",
    "pricing_ok = pd.read_csv(ok_file, parse_dates=['date'])\n",
    "pricing_sc = pd.read_csv(sc_file, parse_dates=['date'])\n",
    "pricing_scz = pd.read_csv(scz_file, parse_dates=['date'])"
   ]
  },
  {
   "cell_type": "code",
   "execution_count": 4,
   "metadata": {
    "ExecuteTime": {
     "end_time": "2018-09-19T05:20:02.373974Z",
     "start_time": "2018-09-19T05:20:02.369322Z"
    }
   },
   "outputs": [
    {
     "name": "stdout",
     "output_type": "stream",
     "text": [
      "(2420680, 4) (1057770, 4) (2068820, 4) (573050, 4)\n"
     ]
    }
   ],
   "source": [
    "print(pricing_sf.shape, pricing_ok.shape, pricing_sc.shape, pricing_scz.shape)"
   ]
  },
  {
   "cell_type": "code",
   "execution_count": 5,
   "metadata": {
    "ExecuteTime": {
     "end_time": "2018-09-19T05:20:02.480249Z",
     "start_time": "2018-09-19T05:20:02.475703Z"
    }
   },
   "outputs": [],
   "source": [
    "frames = [pricing_sf, pricing_ok, pricing_sc, pricing_scz]\n",
    "keys = ['pricing_sf', 'pricing_ok', 'pricing_sc', 'pricing_scz']"
   ]
  },
  {
   "cell_type": "code",
   "execution_count": 6,
   "metadata": {
    "ExecuteTime": {
     "end_time": "2018-09-19T05:20:03.804339Z",
     "start_time": "2018-09-19T05:20:02.628870Z"
    }
   },
   "outputs": [],
   "source": [
    "df_pricing = pd.concat(frames, keys=keys)"
   ]
  },
  {
   "cell_type": "code",
   "execution_count": 7,
   "metadata": {
    "ExecuteTime": {
     "end_time": "2018-09-19T05:20:04.279871Z",
     "start_time": "2018-09-19T05:20:04.214500Z"
    }
   },
   "outputs": [
    {
     "data": {
      "text/plain": [
       "16768"
      ]
     },
     "execution_count": 7,
     "metadata": {},
     "output_type": "execute_result"
    }
   ],
   "source": [
    "df_pricing.listing_id.nunique()"
   ]
  },
  {
   "cell_type": "code",
   "execution_count": 8,
   "metadata": {
    "ExecuteTime": {
     "end_time": "2018-09-19T05:20:04.472682Z",
     "start_time": "2018-09-19T05:20:04.454408Z"
    }
   },
   "outputs": [
    {
     "data": {
      "text/html": [
       "<div>\n",
       "<style scoped>\n",
       "    .dataframe tbody tr th:only-of-type {\n",
       "        vertical-align: middle;\n",
       "    }\n",
       "\n",
       "    .dataframe tbody tr th {\n",
       "        vertical-align: top;\n",
       "    }\n",
       "\n",
       "    .dataframe thead th {\n",
       "        text-align: right;\n",
       "    }\n",
       "</style>\n",
       "<table border=\"1\" class=\"dataframe\">\n",
       "  <thead>\n",
       "    <tr style=\"text-align: right;\">\n",
       "      <th></th>\n",
       "      <th></th>\n",
       "      <th>listing_id</th>\n",
       "      <th>date</th>\n",
       "      <th>available</th>\n",
       "      <th>price</th>\n",
       "    </tr>\n",
       "  </thead>\n",
       "  <tbody>\n",
       "    <tr>\n",
       "      <th rowspan=\"20\" valign=\"top\">pricing_sf</th>\n",
       "      <th>0</th>\n",
       "      <td>958</td>\n",
       "      <td>2019-08-05</td>\n",
       "      <td>f</td>\n",
       "      <td>NaN</td>\n",
       "    </tr>\n",
       "    <tr>\n",
       "      <th>1</th>\n",
       "      <td>958</td>\n",
       "      <td>2019-08-04</td>\n",
       "      <td>f</td>\n",
       "      <td>NaN</td>\n",
       "    </tr>\n",
       "    <tr>\n",
       "      <th>2</th>\n",
       "      <td>958</td>\n",
       "      <td>2019-08-03</td>\n",
       "      <td>f</td>\n",
       "      <td>NaN</td>\n",
       "    </tr>\n",
       "    <tr>\n",
       "      <th>3</th>\n",
       "      <td>958</td>\n",
       "      <td>2019-08-02</td>\n",
       "      <td>f</td>\n",
       "      <td>NaN</td>\n",
       "    </tr>\n",
       "    <tr>\n",
       "      <th>4</th>\n",
       "      <td>958</td>\n",
       "      <td>2019-08-01</td>\n",
       "      <td>f</td>\n",
       "      <td>NaN</td>\n",
       "    </tr>\n",
       "    <tr>\n",
       "      <th>5</th>\n",
       "      <td>958</td>\n",
       "      <td>2019-07-31</td>\n",
       "      <td>f</td>\n",
       "      <td>NaN</td>\n",
       "    </tr>\n",
       "    <tr>\n",
       "      <th>6</th>\n",
       "      <td>958</td>\n",
       "      <td>2019-07-30</td>\n",
       "      <td>f</td>\n",
       "      <td>NaN</td>\n",
       "    </tr>\n",
       "    <tr>\n",
       "      <th>7</th>\n",
       "      <td>958</td>\n",
       "      <td>2019-07-29</td>\n",
       "      <td>f</td>\n",
       "      <td>NaN</td>\n",
       "    </tr>\n",
       "    <tr>\n",
       "      <th>8</th>\n",
       "      <td>958</td>\n",
       "      <td>2019-07-28</td>\n",
       "      <td>f</td>\n",
       "      <td>NaN</td>\n",
       "    </tr>\n",
       "    <tr>\n",
       "      <th>9</th>\n",
       "      <td>958</td>\n",
       "      <td>2019-07-27</td>\n",
       "      <td>f</td>\n",
       "      <td>NaN</td>\n",
       "    </tr>\n",
       "    <tr>\n",
       "      <th>10</th>\n",
       "      <td>958</td>\n",
       "      <td>2019-07-26</td>\n",
       "      <td>f</td>\n",
       "      <td>NaN</td>\n",
       "    </tr>\n",
       "    <tr>\n",
       "      <th>11</th>\n",
       "      <td>958</td>\n",
       "      <td>2019-07-25</td>\n",
       "      <td>f</td>\n",
       "      <td>NaN</td>\n",
       "    </tr>\n",
       "    <tr>\n",
       "      <th>12</th>\n",
       "      <td>958</td>\n",
       "      <td>2019-07-24</td>\n",
       "      <td>f</td>\n",
       "      <td>NaN</td>\n",
       "    </tr>\n",
       "    <tr>\n",
       "      <th>13</th>\n",
       "      <td>958</td>\n",
       "      <td>2019-07-23</td>\n",
       "      <td>f</td>\n",
       "      <td>NaN</td>\n",
       "    </tr>\n",
       "    <tr>\n",
       "      <th>14</th>\n",
       "      <td>958</td>\n",
       "      <td>2019-07-22</td>\n",
       "      <td>f</td>\n",
       "      <td>NaN</td>\n",
       "    </tr>\n",
       "    <tr>\n",
       "      <th>15</th>\n",
       "      <td>958</td>\n",
       "      <td>2019-07-21</td>\n",
       "      <td>f</td>\n",
       "      <td>NaN</td>\n",
       "    </tr>\n",
       "    <tr>\n",
       "      <th>16</th>\n",
       "      <td>958</td>\n",
       "      <td>2019-07-20</td>\n",
       "      <td>f</td>\n",
       "      <td>NaN</td>\n",
       "    </tr>\n",
       "    <tr>\n",
       "      <th>17</th>\n",
       "      <td>958</td>\n",
       "      <td>2019-07-19</td>\n",
       "      <td>f</td>\n",
       "      <td>NaN</td>\n",
       "    </tr>\n",
       "    <tr>\n",
       "      <th>18</th>\n",
       "      <td>958</td>\n",
       "      <td>2019-07-18</td>\n",
       "      <td>f</td>\n",
       "      <td>NaN</td>\n",
       "    </tr>\n",
       "    <tr>\n",
       "      <th>19</th>\n",
       "      <td>958</td>\n",
       "      <td>2019-07-17</td>\n",
       "      <td>f</td>\n",
       "      <td>NaN</td>\n",
       "    </tr>\n",
       "  </tbody>\n",
       "</table>\n",
       "</div>"
      ],
      "text/plain": [
       "               listing_id       date available price\n",
       "pricing_sf 0          958 2019-08-05         f   NaN\n",
       "           1          958 2019-08-04         f   NaN\n",
       "           2          958 2019-08-03         f   NaN\n",
       "           3          958 2019-08-02         f   NaN\n",
       "           4          958 2019-08-01         f   NaN\n",
       "           5          958 2019-07-31         f   NaN\n",
       "           6          958 2019-07-30         f   NaN\n",
       "           7          958 2019-07-29         f   NaN\n",
       "           8          958 2019-07-28         f   NaN\n",
       "           9          958 2019-07-27         f   NaN\n",
       "           10         958 2019-07-26         f   NaN\n",
       "           11         958 2019-07-25         f   NaN\n",
       "           12         958 2019-07-24         f   NaN\n",
       "           13         958 2019-07-23         f   NaN\n",
       "           14         958 2019-07-22         f   NaN\n",
       "           15         958 2019-07-21         f   NaN\n",
       "           16         958 2019-07-20         f   NaN\n",
       "           17         958 2019-07-19         f   NaN\n",
       "           18         958 2019-07-18         f   NaN\n",
       "           19         958 2019-07-17         f   NaN"
      ]
     },
     "execution_count": 8,
     "metadata": {},
     "output_type": "execute_result"
    }
   ],
   "source": [
    "df_pricing.head(20)"
   ]
  },
  {
   "cell_type": "code",
   "execution_count": 9,
   "metadata": {
    "ExecuteTime": {
     "end_time": "2018-09-19T05:20:05.338133Z",
     "start_time": "2018-09-19T05:20:04.607963Z"
    }
   },
   "outputs": [],
   "source": [
    "# Filter down to houses that are available and have listing prices\n",
    "\n",
    "df_pricing_smaller = df_pricing[df_pricing['available']=='t']\n",
    "df_pricing_smaller = df_pricing_smaller.copy()"
   ]
  },
  {
   "cell_type": "code",
   "execution_count": 10,
   "metadata": {
    "ExecuteTime": {
     "end_time": "2018-09-19T05:20:05.583227Z",
     "start_time": "2018-09-19T05:20:05.578031Z"
    }
   },
   "outputs": [
    {
     "data": {
      "text/plain": [
       "(2853357, 4)"
      ]
     },
     "execution_count": 10,
     "metadata": {},
     "output_type": "execute_result"
    }
   ],
   "source": [
    "df_pricing_smaller.shape"
   ]
  },
  {
   "cell_type": "code",
   "execution_count": 11,
   "metadata": {
    "ExecuteTime": {
     "end_time": "2018-09-19T05:20:05.788369Z",
     "start_time": "2018-09-19T05:20:05.762014Z"
    }
   },
   "outputs": [
    {
     "data": {
      "text/plain": [
       "14770"
      ]
     },
     "execution_count": 11,
     "metadata": {},
     "output_type": "execute_result"
    }
   ],
   "source": [
    "df_pricing_smaller.listing_id.nunique()"
   ]
  },
  {
   "cell_type": "code",
   "execution_count": 12,
   "metadata": {
    "ExecuteTime": {
     "end_time": "2018-09-19T05:20:06.040489Z",
     "start_time": "2018-09-19T05:20:05.962437Z"
    }
   },
   "outputs": [
    {
     "data": {
      "text/plain": [
       "count                 2853357\n",
       "unique                    389\n",
       "top       2018-11-03 00:00:00\n",
       "freq                    10393\n",
       "first     2018-08-06 00:00:00\n",
       "last      2019-08-29 00:00:00\n",
       "Name: date, dtype: object"
      ]
     },
     "execution_count": 12,
     "metadata": {},
     "output_type": "execute_result"
    }
   ],
   "source": [
    "df_pricing_smaller.date.describe(include='all')"
   ]
  },
  {
   "cell_type": "code",
   "execution_count": 13,
   "metadata": {
    "ExecuteTime": {
     "end_time": "2018-09-19T05:20:06.253234Z",
     "start_time": "2018-09-19T05:20:06.246855Z"
    }
   },
   "outputs": [
    {
     "data": {
      "text/plain": [
       "Index(['listing_id', 'date', 'available', 'price'], dtype='object')"
      ]
     },
     "execution_count": 13,
     "metadata": {},
     "output_type": "execute_result"
    }
   ],
   "source": [
    "df_pricing_smaller.columns"
   ]
  },
  {
   "cell_type": "code",
   "execution_count": 14,
   "metadata": {
    "ExecuteTime": {
     "end_time": "2018-09-19T05:20:06.453558Z",
     "start_time": "2018-09-19T05:20:06.449838Z"
    }
   },
   "outputs": [],
   "source": [
    "def currency_to_float(string):\n",
    "    \"\"\"\n",
    "    Convert currency to float\n",
    "    \"\"\"\n",
    "    float_ = float(str(string).strip('$').replace(',',''))\n",
    "    return float_"
   ]
  },
  {
   "cell_type": "code",
   "execution_count": 15,
   "metadata": {
    "ExecuteTime": {
     "end_time": "2018-09-19T05:20:09.806710Z",
     "start_time": "2018-09-19T05:20:06.639468Z"
    }
   },
   "outputs": [],
   "source": [
    "# Convert price to float format\n",
    "\n",
    "df_pricing_smaller['price'] = df_pricing_smaller['price'].apply(lambda x: currency_to_float(x))"
   ]
  },
  {
   "cell_type": "code",
   "execution_count": 16,
   "metadata": {
    "ExecuteTime": {
     "end_time": "2018-09-19T05:20:10.207171Z",
     "start_time": "2018-09-19T05:20:10.050240Z"
    }
   },
   "outputs": [],
   "source": [
    "# Add a month column based on date\n",
    "\n",
    "df_pricing_smaller['month'] = df_pricing_smaller['date'].dt.month"
   ]
  },
  {
   "cell_type": "code",
   "execution_count": 17,
   "metadata": {
    "ExecuteTime": {
     "end_time": "2018-09-19T05:20:10.577986Z",
     "start_time": "2018-09-19T05:20:10.420165Z"
    }
   },
   "outputs": [],
   "source": [
    "# Add a day_of_week column based on Date. Use default format: Monday=0, Sunday=6\n",
    "\n",
    "df_pricing_smaller['day_of_week'] = df_pricing_smaller['date'].dt.weekday"
   ]
  },
  {
   "cell_type": "code",
   "execution_count": 18,
   "metadata": {
    "ExecuteTime": {
     "end_time": "2018-09-19T05:20:10.807126Z",
     "start_time": "2018-09-19T05:20:10.790244Z"
    }
   },
   "outputs": [
    {
     "data": {
      "text/html": [
       "<div>\n",
       "<style scoped>\n",
       "    .dataframe tbody tr th:only-of-type {\n",
       "        vertical-align: middle;\n",
       "    }\n",
       "\n",
       "    .dataframe tbody tr th {\n",
       "        vertical-align: top;\n",
       "    }\n",
       "\n",
       "    .dataframe thead th {\n",
       "        text-align: right;\n",
       "    }\n",
       "</style>\n",
       "<table border=\"1\" class=\"dataframe\">\n",
       "  <thead>\n",
       "    <tr style=\"text-align: right;\">\n",
       "      <th></th>\n",
       "      <th></th>\n",
       "      <th>listing_id</th>\n",
       "      <th>date</th>\n",
       "      <th>available</th>\n",
       "      <th>price</th>\n",
       "      <th>month</th>\n",
       "      <th>day_of_week</th>\n",
       "    </tr>\n",
       "  </thead>\n",
       "  <tbody>\n",
       "    <tr>\n",
       "      <th rowspan=\"5\" valign=\"top\">pricing_sf</th>\n",
       "      <th>63</th>\n",
       "      <td>958</td>\n",
       "      <td>2019-05-02</td>\n",
       "      <td>t</td>\n",
       "      <td>181.0</td>\n",
       "      <td>5</td>\n",
       "      <td>3</td>\n",
       "    </tr>\n",
       "    <tr>\n",
       "      <th>64</th>\n",
       "      <td>958</td>\n",
       "      <td>2019-05-01</td>\n",
       "      <td>t</td>\n",
       "      <td>181.0</td>\n",
       "      <td>5</td>\n",
       "      <td>2</td>\n",
       "    </tr>\n",
       "    <tr>\n",
       "      <th>65</th>\n",
       "      <td>958</td>\n",
       "      <td>2019-04-30</td>\n",
       "      <td>t</td>\n",
       "      <td>181.0</td>\n",
       "      <td>4</td>\n",
       "      <td>1</td>\n",
       "    </tr>\n",
       "    <tr>\n",
       "      <th>66</th>\n",
       "      <td>958</td>\n",
       "      <td>2019-04-29</td>\n",
       "      <td>t</td>\n",
       "      <td>181.0</td>\n",
       "      <td>4</td>\n",
       "      <td>0</td>\n",
       "    </tr>\n",
       "    <tr>\n",
       "      <th>67</th>\n",
       "      <td>958</td>\n",
       "      <td>2019-04-28</td>\n",
       "      <td>t</td>\n",
       "      <td>181.0</td>\n",
       "      <td>4</td>\n",
       "      <td>6</td>\n",
       "    </tr>\n",
       "  </tbody>\n",
       "</table>\n",
       "</div>"
      ],
      "text/plain": [
       "               listing_id       date available  price  month  day_of_week\n",
       "pricing_sf 63         958 2019-05-02         t  181.0      5            3\n",
       "           64         958 2019-05-01         t  181.0      5            2\n",
       "           65         958 2019-04-30         t  181.0      4            1\n",
       "           66         958 2019-04-29         t  181.0      4            0\n",
       "           67         958 2019-04-28         t  181.0      4            6"
      ]
     },
     "execution_count": 18,
     "metadata": {},
     "output_type": "execute_result"
    }
   ],
   "source": [
    "df_pricing_smaller.head()"
   ]
  },
  {
   "cell_type": "code",
   "execution_count": 19,
   "metadata": {
    "ExecuteTime": {
     "end_time": "2018-09-19T05:20:11.496272Z",
     "start_time": "2018-09-19T05:20:11.490940Z"
    }
   },
   "outputs": [
    {
     "data": {
      "text/plain": [
       "(2853357, 6)"
      ]
     },
     "execution_count": 19,
     "metadata": {},
     "output_type": "execute_result"
    }
   ],
   "source": [
    "df_pricing_smaller.shape"
   ]
  },
  {
   "cell_type": "code",
   "execution_count": 20,
   "metadata": {
    "ExecuteTime": {
     "end_time": "2018-09-19T05:20:16.102246Z",
     "start_time": "2018-09-19T05:20:15.069834Z"
    }
   },
   "outputs": [
    {
     "data": {
      "text/html": [
       "<div>\n",
       "<style scoped>\n",
       "    .dataframe tbody tr th:only-of-type {\n",
       "        vertical-align: middle;\n",
       "    }\n",
       "\n",
       "    .dataframe tbody tr th {\n",
       "        vertical-align: top;\n",
       "    }\n",
       "\n",
       "    .dataframe thead th {\n",
       "        text-align: right;\n",
       "    }\n",
       "</style>\n",
       "<table border=\"1\" class=\"dataframe\">\n",
       "  <thead>\n",
       "    <tr style=\"text-align: right;\">\n",
       "      <th></th>\n",
       "      <th>listing_id</th>\n",
       "      <th>date</th>\n",
       "      <th>available</th>\n",
       "      <th>price</th>\n",
       "      <th>month</th>\n",
       "      <th>day_of_week</th>\n",
       "    </tr>\n",
       "  </thead>\n",
       "  <tbody>\n",
       "    <tr>\n",
       "      <th>count</th>\n",
       "      <td>2.853357e+06</td>\n",
       "      <td>2853357</td>\n",
       "      <td>2853357</td>\n",
       "      <td>2.853357e+06</td>\n",
       "      <td>2.853357e+06</td>\n",
       "      <td>2.853357e+06</td>\n",
       "    </tr>\n",
       "    <tr>\n",
       "      <th>unique</th>\n",
       "      <td>NaN</td>\n",
       "      <td>389</td>\n",
       "      <td>1</td>\n",
       "      <td>NaN</td>\n",
       "      <td>NaN</td>\n",
       "      <td>NaN</td>\n",
       "    </tr>\n",
       "    <tr>\n",
       "      <th>top</th>\n",
       "      <td>NaN</td>\n",
       "      <td>2018-11-03 00:00:00</td>\n",
       "      <td>t</td>\n",
       "      <td>NaN</td>\n",
       "      <td>NaN</td>\n",
       "      <td>NaN</td>\n",
       "    </tr>\n",
       "    <tr>\n",
       "      <th>freq</th>\n",
       "      <td>NaN</td>\n",
       "      <td>10393</td>\n",
       "      <td>2853357</td>\n",
       "      <td>NaN</td>\n",
       "      <td>NaN</td>\n",
       "      <td>NaN</td>\n",
       "    </tr>\n",
       "    <tr>\n",
       "      <th>first</th>\n",
       "      <td>NaN</td>\n",
       "      <td>2018-08-06 00:00:00</td>\n",
       "      <td>NaN</td>\n",
       "      <td>NaN</td>\n",
       "      <td>NaN</td>\n",
       "      <td>NaN</td>\n",
       "    </tr>\n",
       "    <tr>\n",
       "      <th>last</th>\n",
       "      <td>NaN</td>\n",
       "      <td>2019-08-29 00:00:00</td>\n",
       "      <td>NaN</td>\n",
       "      <td>NaN</td>\n",
       "      <td>NaN</td>\n",
       "      <td>NaN</td>\n",
       "    </tr>\n",
       "    <tr>\n",
       "      <th>mean</th>\n",
       "      <td>1.405523e+07</td>\n",
       "      <td>NaN</td>\n",
       "      <td>NaN</td>\n",
       "      <td>2.132333e+02</td>\n",
       "      <td>6.571592e+00</td>\n",
       "      <td>2.988646e+00</td>\n",
       "    </tr>\n",
       "    <tr>\n",
       "      <th>std</th>\n",
       "      <td>8.563144e+06</td>\n",
       "      <td>NaN</td>\n",
       "      <td>NaN</td>\n",
       "      <td>7.035042e+02</td>\n",
       "      <td>3.629179e+00</td>\n",
       "      <td>2.003061e+00</td>\n",
       "    </tr>\n",
       "    <tr>\n",
       "      <th>min</th>\n",
       "      <td>9.580000e+02</td>\n",
       "      <td>NaN</td>\n",
       "      <td>NaN</td>\n",
       "      <td>1.000000e+01</td>\n",
       "      <td>1.000000e+00</td>\n",
       "      <td>0.000000e+00</td>\n",
       "    </tr>\n",
       "    <tr>\n",
       "      <th>25%</th>\n",
       "      <td>6.453774e+06</td>\n",
       "      <td>NaN</td>\n",
       "      <td>NaN</td>\n",
       "      <td>8.000000e+01</td>\n",
       "      <td>3.000000e+00</td>\n",
       "      <td>1.000000e+00</td>\n",
       "    </tr>\n",
       "    <tr>\n",
       "      <th>50%</th>\n",
       "      <td>1.469887e+07</td>\n",
       "      <td>NaN</td>\n",
       "      <td>NaN</td>\n",
       "      <td>1.350000e+02</td>\n",
       "      <td>7.000000e+00</td>\n",
       "      <td>3.000000e+00</td>\n",
       "    </tr>\n",
       "    <tr>\n",
       "      <th>75%</th>\n",
       "      <td>2.164699e+07</td>\n",
       "      <td>NaN</td>\n",
       "      <td>NaN</td>\n",
       "      <td>2.250000e+02</td>\n",
       "      <td>1.000000e+01</td>\n",
       "      <td>5.000000e+00</td>\n",
       "    </tr>\n",
       "    <tr>\n",
       "      <th>max</th>\n",
       "      <td>2.815247e+07</td>\n",
       "      <td>NaN</td>\n",
       "      <td>NaN</td>\n",
       "      <td>1.024520e+05</td>\n",
       "      <td>1.200000e+01</td>\n",
       "      <td>6.000000e+00</td>\n",
       "    </tr>\n",
       "  </tbody>\n",
       "</table>\n",
       "</div>"
      ],
      "text/plain": [
       "          listing_id                 date available         price  \\\n",
       "count   2.853357e+06              2853357   2853357  2.853357e+06   \n",
       "unique           NaN                  389         1           NaN   \n",
       "top              NaN  2018-11-03 00:00:00         t           NaN   \n",
       "freq             NaN                10393   2853357           NaN   \n",
       "first            NaN  2018-08-06 00:00:00       NaN           NaN   \n",
       "last             NaN  2019-08-29 00:00:00       NaN           NaN   \n",
       "mean    1.405523e+07                  NaN       NaN  2.132333e+02   \n",
       "std     8.563144e+06                  NaN       NaN  7.035042e+02   \n",
       "min     9.580000e+02                  NaN       NaN  1.000000e+01   \n",
       "25%     6.453774e+06                  NaN       NaN  8.000000e+01   \n",
       "50%     1.469887e+07                  NaN       NaN  1.350000e+02   \n",
       "75%     2.164699e+07                  NaN       NaN  2.250000e+02   \n",
       "max     2.815247e+07                  NaN       NaN  1.024520e+05   \n",
       "\n",
       "               month   day_of_week  \n",
       "count   2.853357e+06  2.853357e+06  \n",
       "unique           NaN           NaN  \n",
       "top              NaN           NaN  \n",
       "freq             NaN           NaN  \n",
       "first            NaN           NaN  \n",
       "last             NaN           NaN  \n",
       "mean    6.571592e+00  2.988646e+00  \n",
       "std     3.629179e+00  2.003061e+00  \n",
       "min     1.000000e+00  0.000000e+00  \n",
       "25%     3.000000e+00  1.000000e+00  \n",
       "50%     7.000000e+00  3.000000e+00  \n",
       "75%     1.000000e+01  5.000000e+00  \n",
       "max     1.200000e+01  6.000000e+00  "
      ]
     },
     "execution_count": 20,
     "metadata": {},
     "output_type": "execute_result"
    }
   ],
   "source": [
    "df_pricing_smaller.describe(include ='all')"
   ]
  },
  {
   "cell_type": "code",
   "execution_count": 21,
   "metadata": {
    "ExecuteTime": {
     "end_time": "2018-09-19T05:20:16.835770Z",
     "start_time": "2018-09-19T05:20:16.310908Z"
    }
   },
   "outputs": [
    {
     "data": {
      "text/html": [
       "<div>\n",
       "<style scoped>\n",
       "    .dataframe tbody tr th:only-of-type {\n",
       "        vertical-align: middle;\n",
       "    }\n",
       "\n",
       "    .dataframe tbody tr th {\n",
       "        vertical-align: top;\n",
       "    }\n",
       "\n",
       "    .dataframe thead th {\n",
       "        text-align: right;\n",
       "    }\n",
       "</style>\n",
       "<table border=\"1\" class=\"dataframe\">\n",
       "  <thead>\n",
       "    <tr style=\"text-align: right;\">\n",
       "      <th></th>\n",
       "      <th>listing_id</th>\n",
       "      <th>month_count</th>\n",
       "    </tr>\n",
       "  </thead>\n",
       "  <tbody>\n",
       "    <tr>\n",
       "      <th>0</th>\n",
       "      <td>958</td>\n",
       "      <td>10</td>\n",
       "    </tr>\n",
       "    <tr>\n",
       "      <th>1</th>\n",
       "      <td>3083</td>\n",
       "      <td>5</td>\n",
       "    </tr>\n",
       "    <tr>\n",
       "      <th>2</th>\n",
       "      <td>3264</td>\n",
       "      <td>3</td>\n",
       "    </tr>\n",
       "    <tr>\n",
       "      <th>3</th>\n",
       "      <td>5739</td>\n",
       "      <td>2</td>\n",
       "    </tr>\n",
       "    <tr>\n",
       "      <th>4</th>\n",
       "      <td>5858</td>\n",
       "      <td>12</td>\n",
       "    </tr>\n",
       "  </tbody>\n",
       "</table>\n",
       "</div>"
      ],
      "text/plain": [
       "   listing_id  month_count\n",
       "0         958           10\n",
       "1        3083            5\n",
       "2        3264            3\n",
       "3        5739            2\n",
       "4        5858           12"
      ]
     },
     "execution_count": 21,
     "metadata": {},
     "output_type": "execute_result"
    }
   ],
   "source": [
    "# Count how many months each house was listed in the last year\n",
    "\n",
    "df_month_count = df_pricing_smaller.groupby(['listing_id']).month.nunique().reset_index()\n",
    "df_month_count.rename(columns={'month':'month_count'}, inplace=True)\n",
    "df_month_count.head()"
   ]
  },
  {
   "cell_type": "code",
   "execution_count": 22,
   "metadata": {
    "ExecuteTime": {
     "end_time": "2018-09-19T05:20:17.517924Z",
     "start_time": "2018-09-19T05:20:17.119731Z"
    }
   },
   "outputs": [
    {
     "data": {
      "text/html": [
       "<div>\n",
       "<style scoped>\n",
       "    .dataframe tbody tr th:only-of-type {\n",
       "        vertical-align: middle;\n",
       "    }\n",
       "\n",
       "    .dataframe tbody tr th {\n",
       "        vertical-align: top;\n",
       "    }\n",
       "\n",
       "    .dataframe thead th {\n",
       "        text-align: right;\n",
       "    }\n",
       "</style>\n",
       "<table border=\"1\" class=\"dataframe\">\n",
       "  <thead>\n",
       "    <tr style=\"text-align: right;\">\n",
       "      <th></th>\n",
       "      <th>listing_id</th>\n",
       "      <th>day_of_week_count</th>\n",
       "    </tr>\n",
       "  </thead>\n",
       "  <tbody>\n",
       "    <tr>\n",
       "      <th>0</th>\n",
       "      <td>958</td>\n",
       "      <td>7</td>\n",
       "    </tr>\n",
       "    <tr>\n",
       "      <th>1</th>\n",
       "      <td>3083</td>\n",
       "      <td>7</td>\n",
       "    </tr>\n",
       "    <tr>\n",
       "      <th>2</th>\n",
       "      <td>3264</td>\n",
       "      <td>7</td>\n",
       "    </tr>\n",
       "    <tr>\n",
       "      <th>3</th>\n",
       "      <td>5739</td>\n",
       "      <td>7</td>\n",
       "    </tr>\n",
       "    <tr>\n",
       "      <th>4</th>\n",
       "      <td>5858</td>\n",
       "      <td>7</td>\n",
       "    </tr>\n",
       "  </tbody>\n",
       "</table>\n",
       "</div>"
      ],
      "text/plain": [
       "   listing_id  day_of_week_count\n",
       "0         958                  7\n",
       "1        3083                  7\n",
       "2        3264                  7\n",
       "3        5739                  7\n",
       "4        5858                  7"
      ]
     },
     "execution_count": 22,
     "metadata": {},
     "output_type": "execute_result"
    }
   ],
   "source": [
    "# Count how many days of week each house was listed in the last year\n",
    "\n",
    "df_day_of_week_count = df_pricing_smaller.groupby(['listing_id']).day_of_week.nunique().reset_index()\n",
    "df_day_of_week_count.rename(columns={'day_of_week':'day_of_week_count'}, inplace=True)\n",
    "df_day_of_week_count.head()"
   ]
  },
  {
   "cell_type": "code",
   "execution_count": 23,
   "metadata": {
    "ExecuteTime": {
     "end_time": "2018-09-19T05:20:30.482742Z",
     "start_time": "2018-09-19T05:20:29.933190Z"
    }
   },
   "outputs": [
    {
     "data": {
      "text/html": [
       "<div>\n",
       "<style scoped>\n",
       "    .dataframe tbody tr th:only-of-type {\n",
       "        vertical-align: middle;\n",
       "    }\n",
       "\n",
       "    .dataframe tbody tr th {\n",
       "        vertical-align: top;\n",
       "    }\n",
       "\n",
       "    .dataframe thead th {\n",
       "        text-align: right;\n",
       "    }\n",
       "</style>\n",
       "<table border=\"1\" class=\"dataframe\">\n",
       "  <thead>\n",
       "    <tr style=\"text-align: right;\">\n",
       "      <th></th>\n",
       "      <th>listing_id</th>\n",
       "      <th>date</th>\n",
       "      <th>available</th>\n",
       "      <th>price</th>\n",
       "      <th>month</th>\n",
       "      <th>day_of_week</th>\n",
       "      <th>month_count</th>\n",
       "    </tr>\n",
       "  </thead>\n",
       "  <tbody>\n",
       "    <tr>\n",
       "      <th>0</th>\n",
       "      <td>958</td>\n",
       "      <td>2019-05-02</td>\n",
       "      <td>t</td>\n",
       "      <td>181.0</td>\n",
       "      <td>5</td>\n",
       "      <td>3</td>\n",
       "      <td>10</td>\n",
       "    </tr>\n",
       "    <tr>\n",
       "      <th>1</th>\n",
       "      <td>958</td>\n",
       "      <td>2019-05-01</td>\n",
       "      <td>t</td>\n",
       "      <td>181.0</td>\n",
       "      <td>5</td>\n",
       "      <td>2</td>\n",
       "      <td>10</td>\n",
       "    </tr>\n",
       "    <tr>\n",
       "      <th>2</th>\n",
       "      <td>958</td>\n",
       "      <td>2019-04-30</td>\n",
       "      <td>t</td>\n",
       "      <td>181.0</td>\n",
       "      <td>4</td>\n",
       "      <td>1</td>\n",
       "      <td>10</td>\n",
       "    </tr>\n",
       "    <tr>\n",
       "      <th>3</th>\n",
       "      <td>958</td>\n",
       "      <td>2019-04-29</td>\n",
       "      <td>t</td>\n",
       "      <td>181.0</td>\n",
       "      <td>4</td>\n",
       "      <td>0</td>\n",
       "      <td>10</td>\n",
       "    </tr>\n",
       "    <tr>\n",
       "      <th>4</th>\n",
       "      <td>958</td>\n",
       "      <td>2019-04-28</td>\n",
       "      <td>t</td>\n",
       "      <td>181.0</td>\n",
       "      <td>4</td>\n",
       "      <td>6</td>\n",
       "      <td>10</td>\n",
       "    </tr>\n",
       "  </tbody>\n",
       "</table>\n",
       "</div>"
      ],
      "text/plain": [
       "   listing_id       date available  price  month  day_of_week  month_count\n",
       "0         958 2019-05-02         t  181.0      5            3           10\n",
       "1         958 2019-05-01         t  181.0      5            2           10\n",
       "2         958 2019-04-30         t  181.0      4            1           10\n",
       "3         958 2019-04-29         t  181.0      4            0           10\n",
       "4         958 2019-04-28         t  181.0      4            6           10"
      ]
     },
     "execution_count": 23,
     "metadata": {},
     "output_type": "execute_result"
    }
   ],
   "source": [
    "df_pricing_with_counts = pd.merge(left=df_pricing_smaller, \n",
    "                                  right=df_month_count,\n",
    "                                  how='left', \n",
    "                                  left_on='listing_id', \n",
    "                                  right_on='listing_id')\n",
    "df_pricing_with_counts.head()"
   ]
  },
  {
   "cell_type": "code",
   "execution_count": 24,
   "metadata": {
    "ExecuteTime": {
     "end_time": "2018-09-19T05:20:32.271606Z",
     "start_time": "2018-09-19T05:20:31.668120Z"
    }
   },
   "outputs": [
    {
     "data": {
      "text/html": [
       "<div>\n",
       "<style scoped>\n",
       "    .dataframe tbody tr th:only-of-type {\n",
       "        vertical-align: middle;\n",
       "    }\n",
       "\n",
       "    .dataframe tbody tr th {\n",
       "        vertical-align: top;\n",
       "    }\n",
       "\n",
       "    .dataframe thead th {\n",
       "        text-align: right;\n",
       "    }\n",
       "</style>\n",
       "<table border=\"1\" class=\"dataframe\">\n",
       "  <thead>\n",
       "    <tr style=\"text-align: right;\">\n",
       "      <th></th>\n",
       "      <th>listing_id</th>\n",
       "      <th>date</th>\n",
       "      <th>available</th>\n",
       "      <th>price</th>\n",
       "      <th>month</th>\n",
       "      <th>day_of_week</th>\n",
       "      <th>month_count</th>\n",
       "      <th>day_of_week_count</th>\n",
       "    </tr>\n",
       "  </thead>\n",
       "  <tbody>\n",
       "    <tr>\n",
       "      <th>0</th>\n",
       "      <td>958</td>\n",
       "      <td>2019-05-02</td>\n",
       "      <td>t</td>\n",
       "      <td>181.0</td>\n",
       "      <td>5</td>\n",
       "      <td>3</td>\n",
       "      <td>10</td>\n",
       "      <td>7</td>\n",
       "    </tr>\n",
       "    <tr>\n",
       "      <th>1</th>\n",
       "      <td>958</td>\n",
       "      <td>2019-05-01</td>\n",
       "      <td>t</td>\n",
       "      <td>181.0</td>\n",
       "      <td>5</td>\n",
       "      <td>2</td>\n",
       "      <td>10</td>\n",
       "      <td>7</td>\n",
       "    </tr>\n",
       "    <tr>\n",
       "      <th>2</th>\n",
       "      <td>958</td>\n",
       "      <td>2019-04-30</td>\n",
       "      <td>t</td>\n",
       "      <td>181.0</td>\n",
       "      <td>4</td>\n",
       "      <td>1</td>\n",
       "      <td>10</td>\n",
       "      <td>7</td>\n",
       "    </tr>\n",
       "    <tr>\n",
       "      <th>3</th>\n",
       "      <td>958</td>\n",
       "      <td>2019-04-29</td>\n",
       "      <td>t</td>\n",
       "      <td>181.0</td>\n",
       "      <td>4</td>\n",
       "      <td>0</td>\n",
       "      <td>10</td>\n",
       "      <td>7</td>\n",
       "    </tr>\n",
       "    <tr>\n",
       "      <th>4</th>\n",
       "      <td>958</td>\n",
       "      <td>2019-04-28</td>\n",
       "      <td>t</td>\n",
       "      <td>181.0</td>\n",
       "      <td>4</td>\n",
       "      <td>6</td>\n",
       "      <td>10</td>\n",
       "      <td>7</td>\n",
       "    </tr>\n",
       "  </tbody>\n",
       "</table>\n",
       "</div>"
      ],
      "text/plain": [
       "   listing_id       date available  price  month  day_of_week  month_count  \\\n",
       "0         958 2019-05-02         t  181.0      5            3           10   \n",
       "1         958 2019-05-01         t  181.0      5            2           10   \n",
       "2         958 2019-04-30         t  181.0      4            1           10   \n",
       "3         958 2019-04-29         t  181.0      4            0           10   \n",
       "4         958 2019-04-28         t  181.0      4            6           10   \n",
       "\n",
       "   day_of_week_count  \n",
       "0                  7  \n",
       "1                  7  \n",
       "2                  7  \n",
       "3                  7  \n",
       "4                  7  "
      ]
     },
     "execution_count": 24,
     "metadata": {},
     "output_type": "execute_result"
    }
   ],
   "source": [
    "df_pricing_with_counts = pd.merge(left=df_pricing_with_counts, \n",
    "                                  right=df_day_of_week_count,\n",
    "                                  how='left', \n",
    "                                  left_on='listing_id', \n",
    "                                  right_on='listing_id')\n",
    "df_pricing_with_counts.head()"
   ]
  },
  {
   "cell_type": "code",
   "execution_count": 25,
   "metadata": {
    "ExecuteTime": {
     "end_time": "2018-09-19T05:20:35.220041Z",
     "start_time": "2018-09-19T05:20:33.748582Z"
    }
   },
   "outputs": [
    {
     "data": {
      "text/html": [
       "<div>\n",
       "<style scoped>\n",
       "    .dataframe tbody tr th:only-of-type {\n",
       "        vertical-align: middle;\n",
       "    }\n",
       "\n",
       "    .dataframe tbody tr th {\n",
       "        vertical-align: top;\n",
       "    }\n",
       "\n",
       "    .dataframe thead th {\n",
       "        text-align: right;\n",
       "    }\n",
       "</style>\n",
       "<table border=\"1\" class=\"dataframe\">\n",
       "  <thead>\n",
       "    <tr style=\"text-align: right;\">\n",
       "      <th></th>\n",
       "      <th>listing_id</th>\n",
       "      <th>date</th>\n",
       "      <th>available</th>\n",
       "      <th>price</th>\n",
       "      <th>month</th>\n",
       "      <th>day_of_week</th>\n",
       "      <th>month_count</th>\n",
       "      <th>day_of_week_count</th>\n",
       "    </tr>\n",
       "  </thead>\n",
       "  <tbody>\n",
       "    <tr>\n",
       "      <th>count</th>\n",
       "      <td>2.853357e+06</td>\n",
       "      <td>2853357</td>\n",
       "      <td>2853357</td>\n",
       "      <td>2.853357e+06</td>\n",
       "      <td>2.853357e+06</td>\n",
       "      <td>2.853357e+06</td>\n",
       "      <td>2.853357e+06</td>\n",
       "      <td>2.853357e+06</td>\n",
       "    </tr>\n",
       "    <tr>\n",
       "      <th>unique</th>\n",
       "      <td>NaN</td>\n",
       "      <td>389</td>\n",
       "      <td>1</td>\n",
       "      <td>NaN</td>\n",
       "      <td>NaN</td>\n",
       "      <td>NaN</td>\n",
       "      <td>NaN</td>\n",
       "      <td>NaN</td>\n",
       "    </tr>\n",
       "    <tr>\n",
       "      <th>top</th>\n",
       "      <td>NaN</td>\n",
       "      <td>2018-11-03 00:00:00</td>\n",
       "      <td>t</td>\n",
       "      <td>NaN</td>\n",
       "      <td>NaN</td>\n",
       "      <td>NaN</td>\n",
       "      <td>NaN</td>\n",
       "      <td>NaN</td>\n",
       "    </tr>\n",
       "    <tr>\n",
       "      <th>freq</th>\n",
       "      <td>NaN</td>\n",
       "      <td>10393</td>\n",
       "      <td>2853357</td>\n",
       "      <td>NaN</td>\n",
       "      <td>NaN</td>\n",
       "      <td>NaN</td>\n",
       "      <td>NaN</td>\n",
       "      <td>NaN</td>\n",
       "    </tr>\n",
       "    <tr>\n",
       "      <th>first</th>\n",
       "      <td>NaN</td>\n",
       "      <td>2018-08-06 00:00:00</td>\n",
       "      <td>NaN</td>\n",
       "      <td>NaN</td>\n",
       "      <td>NaN</td>\n",
       "      <td>NaN</td>\n",
       "      <td>NaN</td>\n",
       "      <td>NaN</td>\n",
       "    </tr>\n",
       "    <tr>\n",
       "      <th>last</th>\n",
       "      <td>NaN</td>\n",
       "      <td>2019-08-29 00:00:00</td>\n",
       "      <td>NaN</td>\n",
       "      <td>NaN</td>\n",
       "      <td>NaN</td>\n",
       "      <td>NaN</td>\n",
       "      <td>NaN</td>\n",
       "      <td>NaN</td>\n",
       "    </tr>\n",
       "    <tr>\n",
       "      <th>mean</th>\n",
       "      <td>1.405523e+07</td>\n",
       "      <td>NaN</td>\n",
       "      <td>NaN</td>\n",
       "      <td>2.132333e+02</td>\n",
       "      <td>6.571592e+00</td>\n",
       "      <td>2.988646e+00</td>\n",
       "      <td>1.020866e+01</td>\n",
       "      <td>6.995392e+00</td>\n",
       "    </tr>\n",
       "    <tr>\n",
       "      <th>std</th>\n",
       "      <td>8.563144e+06</td>\n",
       "      <td>NaN</td>\n",
       "      <td>NaN</td>\n",
       "      <td>7.035042e+02</td>\n",
       "      <td>3.629179e+00</td>\n",
       "      <td>2.003061e+00</td>\n",
       "      <td>2.696574e+00</td>\n",
       "      <td>1.206497e-01</td>\n",
       "    </tr>\n",
       "    <tr>\n",
       "      <th>min</th>\n",
       "      <td>9.580000e+02</td>\n",
       "      <td>NaN</td>\n",
       "      <td>NaN</td>\n",
       "      <td>1.000000e+01</td>\n",
       "      <td>1.000000e+00</td>\n",
       "      <td>0.000000e+00</td>\n",
       "      <td>1.000000e+00</td>\n",
       "      <td>1.000000e+00</td>\n",
       "    </tr>\n",
       "    <tr>\n",
       "      <th>25%</th>\n",
       "      <td>6.453774e+06</td>\n",
       "      <td>NaN</td>\n",
       "      <td>NaN</td>\n",
       "      <td>8.000000e+01</td>\n",
       "      <td>3.000000e+00</td>\n",
       "      <td>1.000000e+00</td>\n",
       "      <td>9.000000e+00</td>\n",
       "      <td>7.000000e+00</td>\n",
       "    </tr>\n",
       "    <tr>\n",
       "      <th>50%</th>\n",
       "      <td>1.469887e+07</td>\n",
       "      <td>NaN</td>\n",
       "      <td>NaN</td>\n",
       "      <td>1.350000e+02</td>\n",
       "      <td>7.000000e+00</td>\n",
       "      <td>3.000000e+00</td>\n",
       "      <td>1.200000e+01</td>\n",
       "      <td>7.000000e+00</td>\n",
       "    </tr>\n",
       "    <tr>\n",
       "      <th>75%</th>\n",
       "      <td>2.164699e+07</td>\n",
       "      <td>NaN</td>\n",
       "      <td>NaN</td>\n",
       "      <td>2.250000e+02</td>\n",
       "      <td>1.000000e+01</td>\n",
       "      <td>5.000000e+00</td>\n",
       "      <td>1.200000e+01</td>\n",
       "      <td>7.000000e+00</td>\n",
       "    </tr>\n",
       "    <tr>\n",
       "      <th>max</th>\n",
       "      <td>2.815247e+07</td>\n",
       "      <td>NaN</td>\n",
       "      <td>NaN</td>\n",
       "      <td>1.024520e+05</td>\n",
       "      <td>1.200000e+01</td>\n",
       "      <td>6.000000e+00</td>\n",
       "      <td>1.200000e+01</td>\n",
       "      <td>7.000000e+00</td>\n",
       "    </tr>\n",
       "  </tbody>\n",
       "</table>\n",
       "</div>"
      ],
      "text/plain": [
       "          listing_id                 date available         price  \\\n",
       "count   2.853357e+06              2853357   2853357  2.853357e+06   \n",
       "unique           NaN                  389         1           NaN   \n",
       "top              NaN  2018-11-03 00:00:00         t           NaN   \n",
       "freq             NaN                10393   2853357           NaN   \n",
       "first            NaN  2018-08-06 00:00:00       NaN           NaN   \n",
       "last             NaN  2019-08-29 00:00:00       NaN           NaN   \n",
       "mean    1.405523e+07                  NaN       NaN  2.132333e+02   \n",
       "std     8.563144e+06                  NaN       NaN  7.035042e+02   \n",
       "min     9.580000e+02                  NaN       NaN  1.000000e+01   \n",
       "25%     6.453774e+06                  NaN       NaN  8.000000e+01   \n",
       "50%     1.469887e+07                  NaN       NaN  1.350000e+02   \n",
       "75%     2.164699e+07                  NaN       NaN  2.250000e+02   \n",
       "max     2.815247e+07                  NaN       NaN  1.024520e+05   \n",
       "\n",
       "               month   day_of_week   month_count  day_of_week_count  \n",
       "count   2.853357e+06  2.853357e+06  2.853357e+06       2.853357e+06  \n",
       "unique           NaN           NaN           NaN                NaN  \n",
       "top              NaN           NaN           NaN                NaN  \n",
       "freq             NaN           NaN           NaN                NaN  \n",
       "first            NaN           NaN           NaN                NaN  \n",
       "last             NaN           NaN           NaN                NaN  \n",
       "mean    6.571592e+00  2.988646e+00  1.020866e+01       6.995392e+00  \n",
       "std     3.629179e+00  2.003061e+00  2.696574e+00       1.206497e-01  \n",
       "min     1.000000e+00  0.000000e+00  1.000000e+00       1.000000e+00  \n",
       "25%     3.000000e+00  1.000000e+00  9.000000e+00       7.000000e+00  \n",
       "50%     7.000000e+00  3.000000e+00  1.200000e+01       7.000000e+00  \n",
       "75%     1.000000e+01  5.000000e+00  1.200000e+01       7.000000e+00  \n",
       "max     1.200000e+01  6.000000e+00  1.200000e+01       7.000000e+00  "
      ]
     },
     "execution_count": 25,
     "metadata": {},
     "output_type": "execute_result"
    }
   ],
   "source": [
    "df_pricing_with_counts.describe(include='all')"
   ]
  },
  {
   "cell_type": "code",
   "execution_count": 26,
   "metadata": {
    "ExecuteTime": {
     "end_time": "2018-09-19T05:20:36.539463Z",
     "start_time": "2018-09-19T05:20:36.293074Z"
    }
   },
   "outputs": [
    {
     "data": {
      "text/plain": [
       "count    2.853357e+06\n",
       "mean     2.132333e+02\n",
       "std      7.035042e+02\n",
       "min      1.000000e+01\n",
       "5%       4.100000e+01\n",
       "10%      5.400000e+01\n",
       "25%      8.000000e+01\n",
       "50%      1.350000e+02\n",
       "75%      2.250000e+02\n",
       "90%      3.850000e+02\n",
       "95%      5.500000e+02\n",
       "max      1.024520e+05\n",
       "Name: price, dtype: float64"
      ]
     },
     "execution_count": 26,
     "metadata": {},
     "output_type": "execute_result"
    }
   ],
   "source": [
    "df_pricing_with_counts.price.describe(percentiles=[0.05, 0.1, 0.25, 0.5, 0.75, 0.9, 0.95])"
   ]
  },
  {
   "cell_type": "code",
   "execution_count": 27,
   "metadata": {
    "ExecuteTime": {
     "end_time": "2018-09-19T05:20:39.113766Z",
     "start_time": "2018-09-19T05:20:38.787332Z"
    }
   },
   "outputs": [],
   "source": [
    "# Remove outliers for pricing. Use 5% and 95% percentiles as cutoff\n",
    "\n",
    "df_pricing_with_counts = df_pricing_with_counts[(df_pricing_with_counts.price>=40)\n",
    "                                                & (df_pricing_with_counts.price<=550)]"
   ]
  },
  {
   "cell_type": "code",
   "execution_count": 28,
   "metadata": {
    "ExecuteTime": {
     "end_time": "2018-09-19T05:20:39.362371Z",
     "start_time": "2018-09-19T05:20:39.355174Z"
    }
   },
   "outputs": [
    {
     "data": {
      "text/plain": [
       "(2599154, 8)"
      ]
     },
     "execution_count": 28,
     "metadata": {},
     "output_type": "execute_result"
    }
   ],
   "source": [
    "df_pricing_with_counts.shape"
   ]
  },
  {
   "cell_type": "code",
   "execution_count": 29,
   "metadata": {
    "ExecuteTime": {
     "end_time": "2018-09-19T05:20:42.747417Z",
     "start_time": "2018-09-19T05:20:42.619061Z"
    }
   },
   "outputs": [],
   "source": [
    "# Drill down to houses that price available in 12 months and 7 days a week\n",
    "\n",
    "df_pricing_available = df_pricing_with_counts[\n",
    "                                              (df_pricing_with_counts['month_count']==12)\n",
    "                                              & (df_pricing_with_counts['day_of_week_count']==7)\n",
    "                                             ]"
   ]
  },
  {
   "cell_type": "code",
   "execution_count": 30,
   "metadata": {
    "ExecuteTime": {
     "end_time": "2018-09-19T05:20:43.039151Z",
     "start_time": "2018-09-19T05:20:43.034094Z"
    }
   },
   "outputs": [
    {
     "data": {
      "text/plain": [
       "(1497091, 8)"
      ]
     },
     "execution_count": 30,
     "metadata": {},
     "output_type": "execute_result"
    }
   ],
   "source": [
    "df_pricing_available.shape"
   ]
  },
  {
   "cell_type": "code",
   "execution_count": 62,
   "metadata": {
    "ExecuteTime": {
     "end_time": "2018-09-19T06:31:47.635233Z",
     "start_time": "2018-09-19T06:31:47.534558Z"
    }
   },
   "outputs": [
    {
     "data": {
      "text/plain": [
       "count    1.497091e+06\n",
       "mean     1.652814e+02\n",
       "std      1.077519e+02\n",
       "min      4.000000e+01\n",
       "25%      8.500000e+01\n",
       "50%      1.350000e+02\n",
       "75%      2.130000e+02\n",
       "max      5.500000e+02\n",
       "Name: price, dtype: float64"
      ]
     },
     "execution_count": 62,
     "metadata": {},
     "output_type": "execute_result"
    }
   ],
   "source": [
    "df_pricing_available.price.describe()"
   ]
  },
  {
   "cell_type": "code",
   "execution_count": 32,
   "metadata": {
    "ExecuteTime": {
     "end_time": "2018-09-19T05:20:44.646073Z",
     "start_time": "2018-09-19T05:20:44.331470Z"
    }
   },
   "outputs": [
    {
     "data": {
      "text/plain": [
       "listing_id           0\n",
       "date                 0\n",
       "available            0\n",
       "price                0\n",
       "month                0\n",
       "day_of_week          0\n",
       "month_count          0\n",
       "day_of_week_count    0\n",
       "dtype: int64"
      ]
     },
     "execution_count": 32,
     "metadata": {},
     "output_type": "execute_result"
    }
   ],
   "source": [
    "df_pricing_available.isnull().sum()"
   ]
  },
  {
   "cell_type": "code",
   "execution_count": 33,
   "metadata": {
    "ExecuteTime": {
     "end_time": "2018-09-19T05:20:47.658298Z",
     "start_time": "2018-09-19T05:20:47.340490Z"
    }
   },
   "outputs": [
    {
     "data": {
      "text/html": [
       "<div>\n",
       "<style scoped>\n",
       "    .dataframe tbody tr th:only-of-type {\n",
       "        vertical-align: middle;\n",
       "    }\n",
       "\n",
       "    .dataframe tbody tr th {\n",
       "        vertical-align: top;\n",
       "    }\n",
       "\n",
       "    .dataframe thead th {\n",
       "        text-align: right;\n",
       "    }\n",
       "</style>\n",
       "<table border=\"1\" class=\"dataframe\">\n",
       "  <thead>\n",
       "    <tr style=\"text-align: right;\">\n",
       "      <th></th>\n",
       "      <th>listing_id</th>\n",
       "      <th>month</th>\n",
       "      <th>day_of_week</th>\n",
       "      <th>price</th>\n",
       "    </tr>\n",
       "  </thead>\n",
       "  <tbody>\n",
       "    <tr>\n",
       "      <th>0</th>\n",
       "      <td>5858</td>\n",
       "      <td>1</td>\n",
       "      <td>0</td>\n",
       "      <td>235.0</td>\n",
       "    </tr>\n",
       "    <tr>\n",
       "      <th>1</th>\n",
       "      <td>5858</td>\n",
       "      <td>1</td>\n",
       "      <td>1</td>\n",
       "      <td>235.0</td>\n",
       "    </tr>\n",
       "    <tr>\n",
       "      <th>2</th>\n",
       "      <td>5858</td>\n",
       "      <td>1</td>\n",
       "      <td>2</td>\n",
       "      <td>235.0</td>\n",
       "    </tr>\n",
       "    <tr>\n",
       "      <th>3</th>\n",
       "      <td>5858</td>\n",
       "      <td>1</td>\n",
       "      <td>3</td>\n",
       "      <td>235.0</td>\n",
       "    </tr>\n",
       "    <tr>\n",
       "      <th>4</th>\n",
       "      <td>5858</td>\n",
       "      <td>1</td>\n",
       "      <td>4</td>\n",
       "      <td>235.0</td>\n",
       "    </tr>\n",
       "  </tbody>\n",
       "</table>\n",
       "</div>"
      ],
      "text/plain": [
       "   listing_id  month  day_of_week  price\n",
       "0        5858      1            0  235.0\n",
       "1        5858      1            1  235.0\n",
       "2        5858      1            2  235.0\n",
       "3        5858      1            3  235.0\n",
       "4        5858      1            4  235.0"
      ]
     },
     "execution_count": 33,
     "metadata": {},
     "output_type": "execute_result"
    }
   ],
   "source": [
    "# Group by month by weekday, and calculate an average pricing\n",
    "\n",
    "df_pricing_by_month_weekday = df_pricing_available.groupby(['listing_id', 'month', 'day_of_week']) \\\n",
    "                              .price.mean()  \\\n",
    "                              .reset_index()\n",
    "df_pricing_by_month_weekday.head()"
   ]
  },
  {
   "cell_type": "code",
   "execution_count": 34,
   "metadata": {
    "ExecuteTime": {
     "end_time": "2018-09-19T05:20:48.315579Z",
     "start_time": "2018-09-19T05:20:48.196234Z"
    }
   },
   "outputs": [
    {
     "data": {
      "text/html": [
       "<div>\n",
       "<style scoped>\n",
       "    .dataframe tbody tr th:only-of-type {\n",
       "        vertical-align: middle;\n",
       "    }\n",
       "\n",
       "    .dataframe tbody tr th {\n",
       "        vertical-align: top;\n",
       "    }\n",
       "\n",
       "    .dataframe thead th {\n",
       "        text-align: right;\n",
       "    }\n",
       "</style>\n",
       "<table border=\"1\" class=\"dataframe\">\n",
       "  <thead>\n",
       "    <tr style=\"text-align: right;\">\n",
       "      <th></th>\n",
       "      <th>listing_id</th>\n",
       "      <th>month</th>\n",
       "      <th>day_of_week</th>\n",
       "      <th>price</th>\n",
       "    </tr>\n",
       "  </thead>\n",
       "  <tbody>\n",
       "    <tr>\n",
       "      <th>count</th>\n",
       "      <td>3.708570e+05</td>\n",
       "      <td>370857.000000</td>\n",
       "      <td>370857.000000</td>\n",
       "      <td>370857.000000</td>\n",
       "    </tr>\n",
       "    <tr>\n",
       "      <th>mean</th>\n",
       "      <td>1.350731e+07</td>\n",
       "      <td>6.455588</td>\n",
       "      <td>3.004762</td>\n",
       "      <td>165.770394</td>\n",
       "    </tr>\n",
       "    <tr>\n",
       "      <th>std</th>\n",
       "      <td>8.696651e+06</td>\n",
       "      <td>3.462933</td>\n",
       "      <td>2.003016</td>\n",
       "      <td>107.889496</td>\n",
       "    </tr>\n",
       "    <tr>\n",
       "      <th>min</th>\n",
       "      <td>5.858000e+03</td>\n",
       "      <td>1.000000</td>\n",
       "      <td>0.000000</td>\n",
       "      <td>40.000000</td>\n",
       "    </tr>\n",
       "    <tr>\n",
       "      <th>25%</th>\n",
       "      <td>5.632672e+06</td>\n",
       "      <td>3.000000</td>\n",
       "      <td>1.000000</td>\n",
       "      <td>85.000000</td>\n",
       "    </tr>\n",
       "    <tr>\n",
       "      <th>50%</th>\n",
       "      <td>1.378224e+07</td>\n",
       "      <td>6.000000</td>\n",
       "      <td>3.000000</td>\n",
       "      <td>135.000000</td>\n",
       "    </tr>\n",
       "    <tr>\n",
       "      <th>75%</th>\n",
       "      <td>2.126187e+07</td>\n",
       "      <td>10.000000</td>\n",
       "      <td>5.000000</td>\n",
       "      <td>215.000000</td>\n",
       "    </tr>\n",
       "    <tr>\n",
       "      <th>max</th>\n",
       "      <td>2.815247e+07</td>\n",
       "      <td>12.000000</td>\n",
       "      <td>6.000000</td>\n",
       "      <td>550.000000</td>\n",
       "    </tr>\n",
       "  </tbody>\n",
       "</table>\n",
       "</div>"
      ],
      "text/plain": [
       "         listing_id          month    day_of_week          price\n",
       "count  3.708570e+05  370857.000000  370857.000000  370857.000000\n",
       "mean   1.350731e+07       6.455588       3.004762     165.770394\n",
       "std    8.696651e+06       3.462933       2.003016     107.889496\n",
       "min    5.858000e+03       1.000000       0.000000      40.000000\n",
       "25%    5.632672e+06       3.000000       1.000000      85.000000\n",
       "50%    1.378224e+07       6.000000       3.000000     135.000000\n",
       "75%    2.126187e+07      10.000000       5.000000     215.000000\n",
       "max    2.815247e+07      12.000000       6.000000     550.000000"
      ]
     },
     "execution_count": 34,
     "metadata": {},
     "output_type": "execute_result"
    }
   ],
   "source": [
    "df_pricing_by_month_weekday.describe(include='all')"
   ]
  },
  {
   "cell_type": "code",
   "execution_count": 35,
   "metadata": {
    "ExecuteTime": {
     "end_time": "2018-09-19T05:20:51.877730Z",
     "start_time": "2018-09-19T05:20:51.826363Z"
    }
   },
   "outputs": [
    {
     "data": {
      "text/plain": [
       "listing_id     0\n",
       "month          0\n",
       "day_of_week    0\n",
       "price          0\n",
       "dtype: int64"
      ]
     },
     "execution_count": 35,
     "metadata": {},
     "output_type": "execute_result"
    }
   ],
   "source": [
    "# Check for null values if any\n",
    "\n",
    "df_pricing_by_month_weekday.isnull().sum()"
   ]
  },
  {
   "cell_type": "code",
   "execution_count": 36,
   "metadata": {
    "ExecuteTime": {
     "end_time": "2018-09-19T05:20:52.317108Z",
     "start_time": "2018-09-19T05:20:52.304912Z"
    }
   },
   "outputs": [],
   "source": [
    "# Rename the average price column to avoid confusion\n",
    "\n",
    "df_pricing_by_month_weekday.rename(columns={'price':'price_by_month_week'}, inplace=True)"
   ]
  },
  {
   "cell_type": "code",
   "execution_count": 37,
   "metadata": {
    "ExecuteTime": {
     "end_time": "2018-09-19T05:20:54.625019Z",
     "start_time": "2018-09-19T05:20:54.619342Z"
    }
   },
   "outputs": [
    {
     "data": {
      "text/plain": [
       "(370857, 4)"
      ]
     },
     "execution_count": 37,
     "metadata": {},
     "output_type": "execute_result"
    }
   ],
   "source": [
    "df_pricing_by_month_weekday.shape"
   ]
  },
  {
   "cell_type": "code",
   "execution_count": 38,
   "metadata": {
    "ExecuteTime": {
     "end_time": "2018-09-19T05:20:55.047170Z",
     "start_time": "2018-09-19T05:20:55.043303Z"
    }
   },
   "outputs": [],
   "source": [
    "def get_month(number):\n",
    "    \"\"\"\n",
    "    Given a number, return the name of month.\n",
    "    \n",
    "    \"\"\"\n",
    "    month_lookup = {1:'Jan.', 2:'Feb.', 3:'Mar.', 4:'Apr.', 5:'May.', 6:'Jun.',\n",
    "                    7:'Jul.', 8:'Aug.', 9:'Sep.', 10:'Oct.', 11:'Nov.', 12:'Dec.'}\n",
    "    \n",
    "    return month_lookup[number]"
   ]
  },
  {
   "cell_type": "code",
   "execution_count": 39,
   "metadata": {
    "ExecuteTime": {
     "end_time": "2018-09-19T05:20:55.424230Z",
     "start_time": "2018-09-19T05:20:55.420366Z"
    }
   },
   "outputs": [],
   "source": [
    "def get_weekdays(number):\n",
    "    \"\"\"\n",
    "    Given a number, return the name of month.\n",
    "    \n",
    "    \"\"\"\n",
    "    weekday_lookup = {0:'Monday', 1:'Tuesday', 2:'Wednesday', 3:'Thursday', \n",
    "                      4:'Friday', 5:'Saturday', 6:'Sunday'}\n",
    "    \n",
    "    return weekday_lookup[number]"
   ]
  },
  {
   "cell_type": "code",
   "execution_count": 40,
   "metadata": {
    "ExecuteTime": {
     "end_time": "2018-09-19T05:20:56.252095Z",
     "start_time": "2018-09-19T05:20:55.915870Z"
    }
   },
   "outputs": [],
   "source": [
    "df_pricing_by_month_weekday['month'] = df_pricing_by_month_weekday['month']  \\\n",
    "                                       .apply(lambda x: get_month(x))"
   ]
  },
  {
   "cell_type": "code",
   "execution_count": 41,
   "metadata": {
    "ExecuteTime": {
     "end_time": "2018-09-19T05:20:57.964634Z",
     "start_time": "2018-09-19T05:20:57.755191Z"
    }
   },
   "outputs": [],
   "source": [
    "df_pricing_by_month_weekday['day_of_week'] = df_pricing_by_month_weekday['day_of_week']  \\\n",
    "                                             .apply(lambda x: get_weekdays(x))"
   ]
  },
  {
   "cell_type": "code",
   "execution_count": null,
   "metadata": {},
   "outputs": [],
   "source": []
  },
  {
   "cell_type": "code",
   "execution_count": 52,
   "metadata": {
    "ExecuteTime": {
     "end_time": "2018-09-19T06:23:14.006830Z",
     "start_time": "2018-09-19T06:23:13.755788Z"
    }
   },
   "outputs": [],
   "source": [
    "# This is to create visual to show seasonality\n",
    "\n",
    "df_visual = pd.merge(left=df_pricing_by_month_weekday, \n",
    "                    right=df_listings_reviews,\n",
    "                    how='inner',\n",
    "                    left_on='listing_id',\n",
    "                    right_on='id')"
   ]
  },
  {
   "cell_type": "code",
   "execution_count": 53,
   "metadata": {
    "ExecuteTime": {
     "end_time": "2018-09-19T06:23:14.851926Z",
     "start_time": "2018-09-19T06:23:14.845609Z"
    }
   },
   "outputs": [
    {
     "data": {
      "text/plain": [
       "(245629, 37)"
      ]
     },
     "execution_count": 53,
     "metadata": {},
     "output_type": "execute_result"
    }
   ],
   "source": [
    "df_visual.shape"
   ]
  },
  {
   "cell_type": "code",
   "execution_count": 54,
   "metadata": {
    "ExecuteTime": {
     "end_time": "2018-09-19T06:23:17.211165Z",
     "start_time": "2018-09-19T06:23:17.203250Z"
    }
   },
   "outputs": [
    {
     "data": {
      "text/plain": [
       "Index(['listing_id', 'month', 'day_of_week', 'price_by_month_week', 'id',\n",
       "       'bedrooms', 'cleaning_fee', 'room_type_Entire home/apt',\n",
       "       'reviews_per_month', 'city_San Francisco', 'city_Oakland', 'bathrooms',\n",
       "       'accommodates', 'number_of_reviews', 'host_listings_count',\n",
       "       'review_scores_rating_log10', 'host_yrs', 'guests_included',\n",
       "       'calculated_host_listings_count', 'review_scores_location_log10',\n",
       "       'beds', 'yrs_since_first_review', 'host_response_rate',\n",
       "       'amenities_Air conditioning', 'review_scores_value_log10',\n",
       "       'jurisdiction_names_Santa Cruz County, CA', 'amenities_Cable TV',\n",
       "       'neighbourhood_cleansed_Palo Alto', 'host_is_superhost_f',\n",
       "       'amenities_Lock on bedroom door', 'amenities_Private entrance',\n",
       "       'amenities_Familykid friendly', 'district_Santa Clara',\n",
       "       'neighbourhood_cleansed_San Jose', 'host_identity_verified_f',\n",
       "       'ref_district', 'ref_jurisdiction'],\n",
       "      dtype='object')"
      ]
     },
     "execution_count": 54,
     "metadata": {},
     "output_type": "execute_result"
    }
   ],
   "source": [
    "df_visual.columns"
   ]
  },
  {
   "cell_type": "code",
   "execution_count": null,
   "metadata": {},
   "outputs": [],
   "source": []
  },
  {
   "cell_type": "code",
   "execution_count": 65,
   "metadata": {
    "ExecuteTime": {
     "end_time": "2018-09-19T06:36:59.769956Z",
     "start_time": "2018-09-19T06:36:59.707199Z"
    }
   },
   "outputs": [
    {
     "name": "stdout",
     "output_type": "stream",
     "text": [
      "(135866, 37) (109763, 37)\n"
     ]
    }
   ],
   "source": [
    "df_visual_entire_apartment = df_visual[df_visual['room_type_Entire home/apt']==1 ]\n",
    "df_visual_single_room = df_visual[df_visual['room_type_Entire home/apt']!=1 ]\n",
    "\n",
    "print(df_visual_entire_apartment.shape, df_visual_single_room.shape )"
   ]
  },
  {
   "cell_type": "code",
   "execution_count": 79,
   "metadata": {
    "ExecuteTime": {
     "end_time": "2018-09-19T15:41:58.662521Z",
     "start_time": "2018-09-19T15:41:58.650589Z"
    }
   },
   "outputs": [
    {
     "data": {
      "text/plain": [
       "<bound method NDFrame.describe of 0         San Francisco\n",
       "1         San Francisco\n",
       "2         San Francisco\n",
       "3         San Francisco\n",
       "4         San Francisco\n",
       "5         San Francisco\n",
       "6         San Francisco\n",
       "7         San Francisco\n",
       "8         San Francisco\n",
       "9         San Francisco\n",
       "10        San Francisco\n",
       "11        San Francisco\n",
       "12        San Francisco\n",
       "13        San Francisco\n",
       "14        San Francisco\n",
       "15        San Francisco\n",
       "16        San Francisco\n",
       "17        San Francisco\n",
       "18        San Francisco\n",
       "19        San Francisco\n",
       "20        San Francisco\n",
       "21        San Francisco\n",
       "22        San Francisco\n",
       "23        San Francisco\n",
       "24        San Francisco\n",
       "25        San Francisco\n",
       "26        San Francisco\n",
       "27        San Francisco\n",
       "28        San Francisco\n",
       "29        San Francisco\n",
       "              ...      \n",
       "245599      Santa Clara\n",
       "245600      Santa Clara\n",
       "245601      Santa Clara\n",
       "245602      Santa Clara\n",
       "245603      Santa Clara\n",
       "245604      Santa Clara\n",
       "245605      Santa Clara\n",
       "245606      Santa Clara\n",
       "245607      Santa Clara\n",
       "245608      Santa Clara\n",
       "245609      Santa Clara\n",
       "245610      Santa Clara\n",
       "245611      Santa Clara\n",
       "245612      Santa Clara\n",
       "245613      Santa Clara\n",
       "245614      Santa Clara\n",
       "245615      Santa Clara\n",
       "245616      Santa Clara\n",
       "245617      Santa Clara\n",
       "245618      Santa Clara\n",
       "245619      Santa Clara\n",
       "245620      Santa Clara\n",
       "245621      Santa Clara\n",
       "245622      Santa Clara\n",
       "245623      Santa Clara\n",
       "245624      Santa Clara\n",
       "245625      Santa Clara\n",
       "245626      Santa Clara\n",
       "245627      Santa Clara\n",
       "245628      Santa Clara\n",
       "Name: ref_district, Length: 135866, dtype: object>"
      ]
     },
     "execution_count": 79,
     "metadata": {},
     "output_type": "execute_result"
    }
   ],
   "source": [
    "df_visual_entire_apartment.ref_district.describe"
   ]
  },
  {
   "cell_type": "code",
   "execution_count": 80,
   "metadata": {
    "ExecuteTime": {
     "end_time": "2018-09-19T15:42:23.240254Z",
     "start_time": "2018-09-19T15:42:23.155425Z"
    }
   },
   "outputs": [
    {
     "name": "stdout",
     "output_type": "stream",
     "text": [
      "(56047, 37) (35034, 37)\n"
     ]
    }
   ],
   "source": [
    "df_visual_entire_apartment_sf = df_visual_entire_apartment[df_visual_entire_apartment['ref_district']=='San Francisco']\n",
    "df_visual_entire_apartment_scz = df_visual_entire_apartment[df_visual_entire_apartment['ref_district']=='Santa Clara']\n",
    "\n",
    "print(df_visual_entire_apartment_sf.shape, df_visual_entire_apartment_scz.shape )"
   ]
  },
  {
   "cell_type": "code",
   "execution_count": 81,
   "metadata": {
    "ExecuteTime": {
     "end_time": "2018-09-19T15:43:01.803767Z",
     "start_time": "2018-09-19T15:43:01.796729Z"
    }
   },
   "outputs": [
    {
     "data": {
      "text/plain": [
       "695"
      ]
     },
     "execution_count": 81,
     "metadata": {},
     "output_type": "execute_result"
    }
   ],
   "source": [
    "df_visual_entire_apartment_sf.id.nunique()"
   ]
  },
  {
   "cell_type": "code",
   "execution_count": 82,
   "metadata": {
    "ExecuteTime": {
     "end_time": "2018-09-19T15:43:14.779328Z",
     "start_time": "2018-09-19T15:43:14.772428Z"
    }
   },
   "outputs": [
    {
     "data": {
      "text/plain": [
       "422"
      ]
     },
     "execution_count": 82,
     "metadata": {},
     "output_type": "execute_result"
    }
   ],
   "source": [
    "df_visual_entire_apartment_scz.id.nunique()"
   ]
  },
  {
   "cell_type": "code",
   "execution_count": 84,
   "metadata": {
    "ExecuteTime": {
     "end_time": "2018-09-19T15:44:10.059138Z",
     "start_time": "2018-09-19T15:44:10.027594Z"
    }
   },
   "outputs": [
    {
     "data": {
      "text/plain": [
       "ref_district   day_of_week\n",
       "Oakland        Friday         159.474027\n",
       "               Monday         154.944938\n",
       "               Saturday       159.725316\n",
       "               Sunday         155.161974\n",
       "               Thursday       155.060959\n",
       "               Tuesday        154.571370\n",
       "               Wednesday      154.744414\n",
       "San Francisco  Friday         211.870899\n",
       "               Monday         204.897288\n",
       "               Saturday       211.966729\n",
       "               Sunday         205.295141\n",
       "               Thursday       204.853625\n",
       "               Tuesday        205.165253\n",
       "               Wednesday      205.049197\n",
       "Santa Clara    Friday         209.905996\n",
       "               Monday         208.723240\n",
       "               Saturday       209.942656\n",
       "               Sunday         208.205175\n",
       "               Thursday       209.189709\n",
       "               Tuesday        209.198270\n",
       "               Wednesday      209.493972\n",
       "Santa Cruz     Friday         279.173827\n",
       "               Monday         265.707357\n",
       "               Saturday       280.419909\n",
       "               Sunday         266.653638\n",
       "               Thursday       265.329843\n",
       "               Tuesday        265.339350\n",
       "               Wednesday      265.592032\n",
       "Name: price_by_month_week, dtype: float64"
      ]
     },
     "execution_count": 84,
     "metadata": {},
     "output_type": "execute_result"
    }
   ],
   "source": [
    "# Weekly pattern for entire apartment\n",
    "\n",
    "df_week_entire_apartment = df_visual_entire_apartment.groupby(['ref_district', 'day_of_week'])  \\\n",
    "                                                     .price_by_month_week.mean()\n",
    "df_week_entire_apartment"
   ]
  },
  {
   "cell_type": "code",
   "execution_count": 69,
   "metadata": {
    "ExecuteTime": {
     "end_time": "2018-09-19T06:39:34.871885Z",
     "start_time": "2018-09-19T06:39:34.846230Z"
    }
   },
   "outputs": [
    {
     "data": {
      "text/plain": [
       "ref_district   day_of_week\n",
       "Oakland        Friday          77.408285\n",
       "               Monday          75.695416\n",
       "               Saturday        77.407270\n",
       "               Sunday          75.643985\n",
       "               Thursday        75.771951\n",
       "               Tuesday         75.718651\n",
       "               Wednesday       75.716536\n",
       "San Francisco  Friday         121.290236\n",
       "               Monday         115.501022\n",
       "               Saturday       121.449297\n",
       "               Sunday         115.908191\n",
       "               Thursday       115.840256\n",
       "               Tuesday        115.686374\n",
       "               Wednesday      115.818529\n",
       "Santa Clara    Friday          82.181104\n",
       "               Monday          80.824664\n",
       "               Saturday        82.253229\n",
       "               Sunday          80.811711\n",
       "               Thursday        80.821351\n",
       "               Tuesday         80.761868\n",
       "               Wednesday       80.724975\n",
       "Santa Cruz     Friday         127.845906\n",
       "               Monday         122.235648\n",
       "               Saturday       128.892064\n",
       "               Sunday         123.190817\n",
       "               Thursday       122.751159\n",
       "               Tuesday        121.899535\n",
       "               Wednesday      121.920808\n",
       "Name: price_by_month_week, dtype: float64"
      ]
     },
     "execution_count": 69,
     "metadata": {},
     "output_type": "execute_result"
    }
   ],
   "source": [
    "# Weekly pattern for single room\n",
    "\n",
    "df_week_single_room = df_visual_single_room.groupby(['ref_district', 'day_of_week'])  \\\n",
    "                                           .price_by_month_week.mean()\n",
    "df_week_single_room"
   ]
  },
  {
   "cell_type": "code",
   "execution_count": 70,
   "metadata": {
    "ExecuteTime": {
     "end_time": "2018-09-19T06:40:13.813195Z",
     "start_time": "2018-09-19T06:40:13.783898Z"
    }
   },
   "outputs": [
    {
     "data": {
      "text/plain": [
       "ref_district   month\n",
       "Oakland        Apr.     158.153970\n",
       "               Aug.     157.264184\n",
       "               Dec.     153.305877\n",
       "               Feb.     156.082218\n",
       "               Jan.     153.080845\n",
       "               Jul.     159.672266\n",
       "               Jun.     159.677606\n",
       "               Mar.     157.705606\n",
       "               May.     159.250697\n",
       "               Nov.     151.698238\n",
       "               Oct.     151.726567\n",
       "               Sep.     156.919118\n",
       "San Francisco  Apr.     207.472221\n",
       "               Aug.     209.898199\n",
       "               Dec.     203.178067\n",
       "               Feb.     207.013189\n",
       "               Jan.     205.855001\n",
       "               Jul.     209.035882\n",
       "               Jun.     208.817503\n",
       "               Mar.     207.347120\n",
       "               May.     207.832853\n",
       "               Nov.     202.567577\n",
       "               Oct.     206.984157\n",
       "               Sep.     208.986456\n",
       "Santa Clara    Apr.     211.766231\n",
       "               Aug.     208.364194\n",
       "               Dec.     205.188419\n",
       "               Feb.     210.138842\n",
       "               Jan.     206.241129\n",
       "               Jul.     214.093682\n",
       "               Jun.     215.467367\n",
       "               Mar.     212.893363\n",
       "               May.     212.017283\n",
       "               Nov.     203.628861\n",
       "               Oct.     204.437419\n",
       "               Sep.     206.146818\n",
       "Santa Cruz     Apr.     270.031285\n",
       "               Aug.     278.904073\n",
       "               Dec.     264.985747\n",
       "               Feb.     266.174305\n",
       "               Jan.     263.962838\n",
       "               Jul.     279.533961\n",
       "               Jun.     279.025323\n",
       "               Mar.     269.530300\n",
       "               May.     270.359035\n",
       "               Nov.     264.427710\n",
       "               Oct.     260.387191\n",
       "               Sep.     268.069659\n",
       "Name: price_by_month_week, dtype: float64"
      ]
     },
     "execution_count": 70,
     "metadata": {},
     "output_type": "execute_result"
    }
   ],
   "source": [
    "# Montly Pattern for entire apartment\n",
    "\n",
    "df_visual_entire_apartment.groupby(['ref_district', 'month']).price_by_month_week.mean()"
   ]
  },
  {
   "cell_type": "code",
   "execution_count": 71,
   "metadata": {
    "ExecuteTime": {
     "end_time": "2018-09-19T06:41:03.178141Z",
     "start_time": "2018-09-19T06:41:03.149318Z"
    }
   },
   "outputs": [
    {
     "data": {
      "text/plain": [
       "ref_district   month\n",
       "Oakland        Apr.      77.677205\n",
       "               Aug.      76.846752\n",
       "               Dec.      74.175045\n",
       "               Feb.      76.617210\n",
       "               Jan.      74.548583\n",
       "               Jul.      77.792769\n",
       "               Jun.      77.792769\n",
       "               Mar.      77.669665\n",
       "               May.      77.878307\n",
       "               Nov.      73.508439\n",
       "               Oct.      74.034876\n",
       "               Sep.      75.448894\n",
       "San Francisco  Apr.     118.221302\n",
       "               Aug.     120.163396\n",
       "               Dec.     112.868533\n",
       "               Feb.     116.927029\n",
       "               Jan.     114.475622\n",
       "               Jul.     120.691553\n",
       "               Jun.     120.156573\n",
       "               Mar.     118.046094\n",
       "               May.     119.168788\n",
       "               Nov.     113.456209\n",
       "               Oct.     116.937953\n",
       "               Sep.     117.467900\n",
       "Santa Clara    Apr.      82.440170\n",
       "               Aug.      80.775148\n",
       "               Dec.      79.769163\n",
       "               Feb.      82.211255\n",
       "               Jan.      81.786879\n",
       "               Jul.      82.675175\n",
       "               Jun.      82.683913\n",
       "               Mar.      82.468199\n",
       "               May.      82.565992\n",
       "               Nov.      78.506909\n",
       "               Oct.      79.098400\n",
       "               Sep.      79.085351\n",
       "Santa Cruz     Apr.     124.341615\n",
       "               Aug.     130.347101\n",
       "               Dec.     119.864622\n",
       "               Feb.     122.551070\n",
       "               Jan.     121.912266\n",
       "               Jul.     130.271118\n",
       "               Jun.     128.581366\n",
       "               Mar.     123.483747\n",
       "               May.     124.649689\n",
       "               Nov.     120.632708\n",
       "               Oct.     121.569343\n",
       "               Sep.     120.051600\n",
       "Name: price_by_month_week, dtype: float64"
      ]
     },
     "execution_count": 71,
     "metadata": {},
     "output_type": "execute_result"
    }
   ],
   "source": [
    "# Montly Pattern for single room\n",
    "\n",
    "df_visual_single_room.groupby(['ref_district', 'month']).price_by_month_week.mean()"
   ]
  },
  {
   "cell_type": "code",
   "execution_count": 42,
   "metadata": {
    "ExecuteTime": {
     "end_time": "2018-09-19T05:23:37.679989Z",
     "start_time": "2018-09-19T05:23:37.555672Z"
    }
   },
   "outputs": [],
   "source": [
    "df_pricing_final = pd.get_dummies(df_pricing_by_month_weekday, \n",
    "                                  prefix='',\n",
    "                                  prefix_sep='',\n",
    "                                  columns=['month', 'day_of_week'])"
   ]
  },
  {
   "cell_type": "code",
   "execution_count": 43,
   "metadata": {
    "ExecuteTime": {
     "end_time": "2018-09-19T05:23:38.066230Z",
     "start_time": "2018-09-19T05:23:38.059106Z"
    }
   },
   "outputs": [
    {
     "data": {
      "text/plain": [
       "Index(['listing_id', 'price_by_month_week', 'Apr.', 'Aug.', 'Dec.', 'Feb.',\n",
       "       'Jan.', 'Jul.', 'Jun.', 'Mar.', 'May.', 'Nov.', 'Oct.', 'Sep.',\n",
       "       'Friday', 'Monday', 'Saturday', 'Sunday', 'Thursday', 'Tuesday',\n",
       "       'Wednesday'],\n",
       "      dtype='object')"
      ]
     },
     "execution_count": 43,
     "metadata": {},
     "output_type": "execute_result"
    }
   ],
   "source": [
    "df_pricing_final.columns"
   ]
  },
  {
   "cell_type": "code",
   "execution_count": 44,
   "metadata": {
    "ExecuteTime": {
     "end_time": "2018-09-19T05:23:38.662015Z",
     "start_time": "2018-09-19T05:23:38.656718Z"
    }
   },
   "outputs": [
    {
     "data": {
      "text/plain": [
       "(370857, 21)"
      ]
     },
     "execution_count": 44,
     "metadata": {},
     "output_type": "execute_result"
    }
   ],
   "source": [
    "df_pricing_final.shape"
   ]
  },
  {
   "cell_type": "code",
   "execution_count": 45,
   "metadata": {
    "ExecuteTime": {
     "end_time": "2018-09-19T05:23:40.422523Z",
     "start_time": "2018-09-19T05:23:40.387254Z"
    }
   },
   "outputs": [
    {
     "data": {
      "text/html": [
       "<div>\n",
       "<style scoped>\n",
       "    .dataframe tbody tr th:only-of-type {\n",
       "        vertical-align: middle;\n",
       "    }\n",
       "\n",
       "    .dataframe tbody tr th {\n",
       "        vertical-align: top;\n",
       "    }\n",
       "\n",
       "    .dataframe thead th {\n",
       "        text-align: right;\n",
       "    }\n",
       "</style>\n",
       "<table border=\"1\" class=\"dataframe\">\n",
       "  <thead>\n",
       "    <tr style=\"text-align: right;\">\n",
       "      <th></th>\n",
       "      <th>id</th>\n",
       "      <th>bedrooms</th>\n",
       "      <th>cleaning_fee</th>\n",
       "      <th>room_type_Entire home/apt</th>\n",
       "      <th>reviews_per_month</th>\n",
       "      <th>city_San Francisco</th>\n",
       "      <th>city_Oakland</th>\n",
       "      <th>bathrooms</th>\n",
       "      <th>accommodates</th>\n",
       "      <th>number_of_reviews</th>\n",
       "      <th>...</th>\n",
       "      <th>neighbourhood_cleansed_Palo Alto</th>\n",
       "      <th>host_is_superhost_f</th>\n",
       "      <th>amenities_Lock on bedroom door</th>\n",
       "      <th>amenities_Private entrance</th>\n",
       "      <th>amenities_Familykid friendly</th>\n",
       "      <th>district_Santa Clara</th>\n",
       "      <th>neighbourhood_cleansed_San Jose</th>\n",
       "      <th>host_identity_verified_f</th>\n",
       "      <th>ref_district</th>\n",
       "      <th>ref_jurisdiction</th>\n",
       "    </tr>\n",
       "  </thead>\n",
       "  <tbody>\n",
       "    <tr>\n",
       "      <th>0</th>\n",
       "      <td>958</td>\n",
       "      <td>1.0</td>\n",
       "      <td>2.00000</td>\n",
       "      <td>1</td>\n",
       "      <td>1.38</td>\n",
       "      <td>1</td>\n",
       "      <td>0</td>\n",
       "      <td>1.0</td>\n",
       "      <td>3</td>\n",
       "      <td>152</td>\n",
       "      <td>...</td>\n",
       "      <td>0</td>\n",
       "      <td>0</td>\n",
       "      <td>0</td>\n",
       "      <td>1</td>\n",
       "      <td>1</td>\n",
       "      <td>0</td>\n",
       "      <td>0</td>\n",
       "      <td>0</td>\n",
       "      <td>San Francisco</td>\n",
       "      <td>SAN FRANCISCO</td>\n",
       "    </tr>\n",
       "    <tr>\n",
       "      <th>1</th>\n",
       "      <td>5858</td>\n",
       "      <td>2.0</td>\n",
       "      <td>2.00000</td>\n",
       "      <td>1</td>\n",
       "      <td>0.99</td>\n",
       "      <td>1</td>\n",
       "      <td>0</td>\n",
       "      <td>1.0</td>\n",
       "      <td>5</td>\n",
       "      <td>112</td>\n",
       "      <td>...</td>\n",
       "      <td>0</td>\n",
       "      <td>1</td>\n",
       "      <td>0</td>\n",
       "      <td>1</td>\n",
       "      <td>1</td>\n",
       "      <td>0</td>\n",
       "      <td>0</td>\n",
       "      <td>0</td>\n",
       "      <td>San Francisco</td>\n",
       "      <td>SAN FRANCISCO</td>\n",
       "    </tr>\n",
       "    <tr>\n",
       "      <th>2</th>\n",
       "      <td>7918</td>\n",
       "      <td>1.0</td>\n",
       "      <td>1.69897</td>\n",
       "      <td>0</td>\n",
       "      <td>0.16</td>\n",
       "      <td>1</td>\n",
       "      <td>0</td>\n",
       "      <td>4.0</td>\n",
       "      <td>2</td>\n",
       "      <td>17</td>\n",
       "      <td>...</td>\n",
       "      <td>0</td>\n",
       "      <td>1</td>\n",
       "      <td>1</td>\n",
       "      <td>1</td>\n",
       "      <td>0</td>\n",
       "      <td>0</td>\n",
       "      <td>0</td>\n",
       "      <td>0</td>\n",
       "      <td>San Francisco</td>\n",
       "      <td>SAN FRANCISCO</td>\n",
       "    </tr>\n",
       "    <tr>\n",
       "      <th>3</th>\n",
       "      <td>8142</td>\n",
       "      <td>1.0</td>\n",
       "      <td>1.69897</td>\n",
       "      <td>0</td>\n",
       "      <td>0.15</td>\n",
       "      <td>1</td>\n",
       "      <td>0</td>\n",
       "      <td>4.0</td>\n",
       "      <td>2</td>\n",
       "      <td>7</td>\n",
       "      <td>...</td>\n",
       "      <td>0</td>\n",
       "      <td>1</td>\n",
       "      <td>1</td>\n",
       "      <td>1</td>\n",
       "      <td>1</td>\n",
       "      <td>0</td>\n",
       "      <td>0</td>\n",
       "      <td>0</td>\n",
       "      <td>San Francisco</td>\n",
       "      <td>SAN FRANCISCO</td>\n",
       "    </tr>\n",
       "    <tr>\n",
       "      <th>4</th>\n",
       "      <td>8567</td>\n",
       "      <td>2.0</td>\n",
       "      <td>2.09691</td>\n",
       "      <td>1</td>\n",
       "      <td>0.27</td>\n",
       "      <td>1</td>\n",
       "      <td>0</td>\n",
       "      <td>1.0</td>\n",
       "      <td>6</td>\n",
       "      <td>30</td>\n",
       "      <td>...</td>\n",
       "      <td>0</td>\n",
       "      <td>1</td>\n",
       "      <td>0</td>\n",
       "      <td>0</td>\n",
       "      <td>1</td>\n",
       "      <td>0</td>\n",
       "      <td>0</td>\n",
       "      <td>1</td>\n",
       "      <td>San Francisco</td>\n",
       "      <td>SAN FRANCISCO</td>\n",
       "    </tr>\n",
       "  </tbody>\n",
       "</table>\n",
       "<p>5 rows × 33 columns</p>\n",
       "</div>"
      ],
      "text/plain": [
       "     id  bedrooms  cleaning_fee  room_type_Entire home/apt  reviews_per_month  \\\n",
       "0   958       1.0       2.00000                          1               1.38   \n",
       "1  5858       2.0       2.00000                          1               0.99   \n",
       "2  7918       1.0       1.69897                          0               0.16   \n",
       "3  8142       1.0       1.69897                          0               0.15   \n",
       "4  8567       2.0       2.09691                          1               0.27   \n",
       "\n",
       "   city_San Francisco  city_Oakland  bathrooms  accommodates  \\\n",
       "0                   1             0        1.0             3   \n",
       "1                   1             0        1.0             5   \n",
       "2                   1             0        4.0             2   \n",
       "3                   1             0        4.0             2   \n",
       "4                   1             0        1.0             6   \n",
       "\n",
       "   number_of_reviews        ...         neighbourhood_cleansed_Palo Alto  \\\n",
       "0                152        ...                                        0   \n",
       "1                112        ...                                        0   \n",
       "2                 17        ...                                        0   \n",
       "3                  7        ...                                        0   \n",
       "4                 30        ...                                        0   \n",
       "\n",
       "   host_is_superhost_f  amenities_Lock on bedroom door  \\\n",
       "0                    0                               0   \n",
       "1                    1                               0   \n",
       "2                    1                               1   \n",
       "3                    1                               1   \n",
       "4                    1                               0   \n",
       "\n",
       "   amenities_Private entrance  amenities_Familykid friendly  \\\n",
       "0                           1                             1   \n",
       "1                           1                             1   \n",
       "2                           1                             0   \n",
       "3                           1                             1   \n",
       "4                           0                             1   \n",
       "\n",
       "   district_Santa Clara  neighbourhood_cleansed_San Jose  \\\n",
       "0                     0                                0   \n",
       "1                     0                                0   \n",
       "2                     0                                0   \n",
       "3                     0                                0   \n",
       "4                     0                                0   \n",
       "\n",
       "   host_identity_verified_f   ref_district  ref_jurisdiction  \n",
       "0                         0  San Francisco     SAN FRANCISCO  \n",
       "1                         0  San Francisco     SAN FRANCISCO  \n",
       "2                         0  San Francisco     SAN FRANCISCO  \n",
       "3                         0  San Francisco     SAN FRANCISCO  \n",
       "4                         1  San Francisco     SAN FRANCISCO  \n",
       "\n",
       "[5 rows x 33 columns]"
      ]
     },
     "execution_count": 45,
     "metadata": {},
     "output_type": "execute_result"
    }
   ],
   "source": [
    "pkl_file = '/Users/xzhou/github/project_archives/files_airbnb/{}.pkl'\n",
    "\n",
    "pkl_path = pkl_file.format('listings_with_selected_features')\n",
    "\n",
    "df_listings_reviews = pd.read_pickle(pkl_path)\n",
    "df_listings_reviews.head()"
   ]
  },
  {
   "cell_type": "code",
   "execution_count": 46,
   "metadata": {
    "ExecuteTime": {
     "end_time": "2018-09-19T05:23:43.910127Z",
     "start_time": "2018-09-19T05:23:43.904684Z"
    }
   },
   "outputs": [
    {
     "data": {
      "text/plain": [
       "(10352, 33)"
      ]
     },
     "execution_count": 46,
     "metadata": {},
     "output_type": "execute_result"
    }
   ],
   "source": [
    "df_listings_reviews.shape"
   ]
  },
  {
   "cell_type": "code",
   "execution_count": 47,
   "metadata": {
    "ExecuteTime": {
     "end_time": "2018-09-19T05:23:44.628442Z",
     "start_time": "2018-09-19T05:23:44.416449Z"
    }
   },
   "outputs": [],
   "source": [
    "df_final = pd.merge(left=df_pricing_final, \n",
    "                    right=df_listings_reviews,\n",
    "                    how='inner',\n",
    "                    left_on='listing_id',\n",
    "                    right_on='id')"
   ]
  },
  {
   "cell_type": "code",
   "execution_count": 48,
   "metadata": {
    "ExecuteTime": {
     "end_time": "2018-09-19T05:23:46.351437Z",
     "start_time": "2018-09-19T05:23:46.345011Z"
    }
   },
   "outputs": [
    {
     "data": {
      "text/plain": [
       "(245629, 54)"
      ]
     },
     "execution_count": 48,
     "metadata": {},
     "output_type": "execute_result"
    }
   ],
   "source": [
    "df_final.shape"
   ]
  },
  {
   "cell_type": "code",
   "execution_count": 49,
   "metadata": {
    "ExecuteTime": {
     "end_time": "2018-09-19T05:23:51.659475Z",
     "start_time": "2018-09-19T05:23:51.281564Z"
    }
   },
   "outputs": [
    {
     "data": {
      "text/plain": [
       "listing_id                                  0\n",
       "price_by_month_week                         0\n",
       "Apr.                                        0\n",
       "Aug.                                        0\n",
       "Dec.                                        0\n",
       "Feb.                                        0\n",
       "Jan.                                        0\n",
       "Jul.                                        0\n",
       "Jun.                                        0\n",
       "Mar.                                        0\n",
       "May.                                        0\n",
       "Nov.                                        0\n",
       "Oct.                                        0\n",
       "Sep.                                        0\n",
       "Friday                                      0\n",
       "Monday                                      0\n",
       "Saturday                                    0\n",
       "Sunday                                      0\n",
       "Thursday                                    0\n",
       "Tuesday                                     0\n",
       "Wednesday                                   0\n",
       "id                                          0\n",
       "bedrooms                                    0\n",
       "cleaning_fee                                0\n",
       "room_type_Entire home/apt                   0\n",
       "reviews_per_month                           0\n",
       "city_San Francisco                          0\n",
       "city_Oakland                                0\n",
       "bathrooms                                   0\n",
       "accommodates                                0\n",
       "number_of_reviews                           0\n",
       "host_listings_count                         0\n",
       "review_scores_rating_log10                  0\n",
       "host_yrs                                    0\n",
       "guests_included                             0\n",
       "calculated_host_listings_count              0\n",
       "review_scores_location_log10                0\n",
       "beds                                        0\n",
       "yrs_since_first_review                      0\n",
       "host_response_rate                          0\n",
       "amenities_Air conditioning                  0\n",
       "review_scores_value_log10                   0\n",
       "jurisdiction_names_Santa Cruz County, CA    0\n",
       "amenities_Cable TV                          0\n",
       "neighbourhood_cleansed_Palo Alto            0\n",
       "host_is_superhost_f                         0\n",
       "amenities_Lock on bedroom door              0\n",
       "amenities_Private entrance                  0\n",
       "amenities_Familykid friendly                0\n",
       "district_Santa Clara                        0\n",
       "neighbourhood_cleansed_San Jose             0\n",
       "host_identity_verified_f                    0\n",
       "ref_district                                0\n",
       "ref_jurisdiction                            0\n",
       "dtype: int64"
      ]
     },
     "execution_count": 49,
     "metadata": {},
     "output_type": "execute_result"
    }
   ],
   "source": [
    "df_final.isnull().sum()"
   ]
  },
  {
   "cell_type": "code",
   "execution_count": 50,
   "metadata": {
    "ExecuteTime": {
     "end_time": "2018-09-19T05:23:52.207762Z",
     "start_time": "2018-09-19T05:23:52.200607Z"
    }
   },
   "outputs": [
    {
     "data": {
      "text/plain": [
       "(245629, 54)"
      ]
     },
     "execution_count": 50,
     "metadata": {},
     "output_type": "execute_result"
    }
   ],
   "source": [
    "df_final.shape"
   ]
  },
  {
   "cell_type": "code",
   "execution_count": 52,
   "metadata": {
    "ExecuteTime": {
     "end_time": "2018-09-17T22:15:05.278142Z",
     "start_time": "2018-09-17T22:15:05.270295Z"
    }
   },
   "outputs": [
    {
     "data": {
      "text/plain": [
       "Index(['listing_id', 'price_by_month_week', 'Apr.', 'Aug.', 'Dec.', 'Feb.',\n",
       "       'Jan.', 'Jul.', 'Jun.', 'Mar.', 'May.', 'Nov.', 'Oct.', 'Sep.',\n",
       "       'Friday', 'Monday', 'Saturday', 'Sunday', 'Thursday', 'Tuesday',\n",
       "       'Wednesday', 'id', 'bedrooms', 'cleaning_fee',\n",
       "       'room_type_Entire home/apt', 'reviews_per_month', 'city_San Francisco',\n",
       "       'city_Oakland', 'bathrooms', 'accommodates', 'number_of_reviews',\n",
       "       'host_listings_count', 'review_scores_rating_log10', 'host_yrs',\n",
       "       'guests_included', 'calculated_host_listings_count',\n",
       "       'review_scores_location_log10', 'beds', 'yrs_since_first_review',\n",
       "       'host_response_rate', 'amenities_Air conditioning',\n",
       "       'review_scores_value_log10', 'jurisdiction_names_Santa Cruz County, CA',\n",
       "       'amenities_Cable TV', 'neighbourhood_cleansed_Palo Alto',\n",
       "       'host_is_superhost_f', 'amenities_Lock on bedroom door',\n",
       "       'amenities_Private entrance', 'amenities_Familykid friendly',\n",
       "       'district_Santa Clara', 'neighbourhood_cleansed_San Jose',\n",
       "       'host_identity_verified_f', 'ref_district', 'ref_jurisdiction'],\n",
       "      dtype='object')"
      ]
     },
     "execution_count": 52,
     "metadata": {},
     "output_type": "execute_result"
    }
   ],
   "source": [
    "df_final.columns"
   ]
  },
  {
   "cell_type": "code",
   "execution_count": 53,
   "metadata": {
    "ExecuteTime": {
     "end_time": "2018-09-17T22:15:06.873341Z",
     "start_time": "2018-09-17T22:15:06.744132Z"
    }
   },
   "outputs": [],
   "source": [
    "# Drop duplicate columns\n",
    "\n",
    "df_final.drop(['id'], axis=1, inplace=True)"
   ]
  },
  {
   "cell_type": "code",
   "execution_count": 54,
   "metadata": {
    "ExecuteTime": {
     "end_time": "2018-09-17T22:15:08.182504Z",
     "start_time": "2018-09-17T22:15:08.176750Z"
    }
   },
   "outputs": [
    {
     "data": {
      "text/plain": [
       "(245629, 53)"
      ]
     },
     "execution_count": 54,
     "metadata": {},
     "output_type": "execute_result"
    }
   ],
   "source": [
    "df_final.shape"
   ]
  },
  {
   "cell_type": "code",
   "execution_count": 55,
   "metadata": {
    "ExecuteTime": {
     "end_time": "2018-09-17T22:15:11.147593Z",
     "start_time": "2018-09-17T22:15:09.586826Z"
    }
   },
   "outputs": [
    {
     "data": {
      "text/plain": [
       "[]"
      ]
     },
     "execution_count": 55,
     "metadata": {},
     "output_type": "execute_result"
    }
   ],
   "source": [
    "# Create correlation matrix\n",
    "corr_matrix = df_final.corr().abs()\n",
    "\n",
    "# Select upper triangle of correlation matrix\n",
    "upper = corr_matrix.where(np.triu(np.ones(corr_matrix.shape), k=1).astype(np.bool))\n",
    "\n",
    "# Find index of feature columns with correlation greater than 0.90\n",
    "to_drop = [column for column in upper.columns if any(upper[column] > 0.90)]\n",
    "\n",
    "to_drop"
   ]
  },
  {
   "cell_type": "code",
   "execution_count": 56,
   "metadata": {
    "ExecuteTime": {
     "end_time": "2018-09-17T22:15:12.722702Z",
     "start_time": "2018-09-17T22:15:12.676116Z"
    }
   },
   "outputs": [],
   "source": [
    "# Drop features that have high correlation\n",
    "\n",
    "df_final.drop(to_drop, axis=1, inplace=True)"
   ]
  },
  {
   "cell_type": "code",
   "execution_count": 57,
   "metadata": {
    "ExecuteTime": {
     "end_time": "2018-09-17T22:15:14.429653Z",
     "start_time": "2018-09-17T22:15:14.423324Z"
    }
   },
   "outputs": [
    {
     "data": {
      "text/plain": [
       "(245629, 53)"
      ]
     },
     "execution_count": 57,
     "metadata": {},
     "output_type": "execute_result"
    }
   ],
   "source": [
    "df_final.shape"
   ]
  },
  {
   "cell_type": "code",
   "execution_count": 58,
   "metadata": {
    "ExecuteTime": {
     "end_time": "2018-09-17T22:15:16.184217Z",
     "start_time": "2018-09-17T22:15:16.030213Z"
    }
   },
   "outputs": [],
   "source": [
    "pkl_file = '/Users/xzhou/github/project_archives/files_airbnb/{}.pkl'\n",
    "pkl_path = pkl_file.format('listings_seasonality')\n",
    "\n",
    "try: \n",
    "    with open(pkl_path, 'rb') as file:\n",
    "        df_final = pd.read_pickle(file)\n",
    "except:\n",
    "    with open(pkl_path, 'wb') as file:\n",
    "        pd.to_pickle(df_final, file)"
   ]
  },
  {
   "cell_type": "code",
   "execution_count": 59,
   "metadata": {
    "ExecuteTime": {
     "end_time": "2018-09-17T22:15:17.629963Z",
     "start_time": "2018-09-17T22:15:17.580300Z"
    }
   },
   "outputs": [],
   "source": [
    "# Perform multiple modeling for price prediction\n",
    "\n",
    "X = df_final.drop(['listing_id', 'price_by_month_week', 'ref_district', 'ref_jurisdiction'], axis=1)\n",
    "y = df_final['price_by_month_week']"
   ]
  },
  {
   "cell_type": "code",
   "execution_count": 60,
   "metadata": {
    "ExecuteTime": {
     "end_time": "2018-09-17T22:15:19.385729Z",
     "start_time": "2018-09-17T22:15:19.228773Z"
    }
   },
   "outputs": [],
   "source": [
    "X_train, X_test, y_train, y_test = train_test_split(X, y, test_size =0.3, random_state=42)"
   ]
  },
  {
   "cell_type": "code",
   "execution_count": 61,
   "metadata": {
    "ExecuteTime": {
     "end_time": "2018-09-17T22:15:22.235241Z",
     "start_time": "2018-09-17T22:15:21.704083Z"
    }
   },
   "outputs": [],
   "source": [
    "ss = StandardScaler()\n",
    "X_train_trans = ss.fit_transform(X_train)\n",
    "X_test_trans = ss.transform (X_test)"
   ]
  },
  {
   "cell_type": "code",
   "execution_count": 67,
   "metadata": {
    "ExecuteTime": {
     "end_time": "2018-09-17T22:15:42.225510Z",
     "start_time": "2018-09-17T22:15:41.120910Z"
    }
   },
   "outputs": [
    {
     "data": {
      "text/html": [
       "<table class=\"simpletable\">\n",
       "<caption>OLS Regression Results</caption>\n",
       "<tr>\n",
       "  <th>Dep. Variable:</th>    <td>price_by_month_week</td> <th>  R-squared:         </th>  <td>   0.615</td>  \n",
       "</tr>\n",
       "<tr>\n",
       "  <th>Model:</th>                    <td>OLS</td>         <th>  Adj. R-squared:    </th>  <td>   0.615</td>  \n",
       "</tr>\n",
       "<tr>\n",
       "  <th>Method:</th>              <td>Least Squares</td>    <th>  F-statistic:       </th>  <td>   5724.</td>  \n",
       "</tr>\n",
       "<tr>\n",
       "  <th>Date:</th>              <td>Mon, 17 Sep 2018</td>   <th>  Prob (F-statistic):</th>   <td>  0.00</td>   \n",
       "</tr>\n",
       "<tr>\n",
       "  <th>Time:</th>                  <td>15:15:42</td>       <th>  Log-Likelihood:    </th> <td>-9.6040e+05</td>\n",
       "</tr>\n",
       "<tr>\n",
       "  <th>No. Observations:</th>       <td>171940</td>        <th>  AIC:               </th>  <td>1.921e+06</td> \n",
       "</tr>\n",
       "<tr>\n",
       "  <th>Df Residuals:</th>           <td>171891</td>        <th>  BIC:               </th>  <td>1.921e+06</td> \n",
       "</tr>\n",
       "<tr>\n",
       "  <th>Df Model:</th>               <td>    48</td>        <th>                     </th>      <td> </td>     \n",
       "</tr>\n",
       "<tr>\n",
       "  <th>Covariance Type:</th>       <td>nonrobust</td>      <th>                     </th>      <td> </td>     \n",
       "</tr>\n",
       "</table>\n",
       "<table class=\"simpletable\">\n",
       "<tr>\n",
       "    <td></td>       <th>coef</th>     <th>std err</th>      <th>t</th>      <th>P>|t|</th>  <th>[0.025</th>    <th>0.975]</th>  \n",
       "</tr>\n",
       "<tr>\n",
       "  <th>const</th> <td>  160.9641</td> <td>    0.156</td> <td> 1032.325</td> <td> 0.000</td> <td>  160.658</td> <td>  161.270</td>\n",
       "</tr>\n",
       "<tr>\n",
       "  <th>x1</th>    <td> 3.084e+10</td> <td> 5.97e+11</td> <td>    0.052</td> <td> 0.959</td> <td>-1.14e+12</td> <td>  1.2e+12</td>\n",
       "</tr>\n",
       "<tr>\n",
       "  <th>x2</th>    <td> 3.013e+10</td> <td> 5.83e+11</td> <td>    0.052</td> <td> 0.959</td> <td>-1.11e+12</td> <td> 1.17e+12</td>\n",
       "</tr>\n",
       "<tr>\n",
       "  <th>x3</th>    <td> 3.085e+10</td> <td> 5.97e+11</td> <td>    0.052</td> <td> 0.959</td> <td>-1.14e+12</td> <td>  1.2e+12</td>\n",
       "</tr>\n",
       "<tr>\n",
       "  <th>x4</th>    <td> 3.102e+10</td> <td>    6e+11</td> <td>    0.052</td> <td> 0.959</td> <td>-1.15e+12</td> <td> 1.21e+12</td>\n",
       "</tr>\n",
       "<tr>\n",
       "  <th>x5</th>    <td> 3.091e+10</td> <td> 5.98e+11</td> <td>    0.052</td> <td> 0.959</td> <td>-1.14e+12</td> <td>  1.2e+12</td>\n",
       "</tr>\n",
       "<tr>\n",
       "  <th>x6</th>    <td> 3.097e+10</td> <td> 5.99e+11</td> <td>    0.052</td> <td> 0.959</td> <td>-1.14e+12</td> <td> 1.21e+12</td>\n",
       "</tr>\n",
       "<tr>\n",
       "  <th>x7</th>    <td> 3.102e+10</td> <td>    6e+11</td> <td>    0.052</td> <td> 0.959</td> <td>-1.15e+12</td> <td> 1.21e+12</td>\n",
       "</tr>\n",
       "<tr>\n",
       "  <th>x8</th>    <td>  3.09e+10</td> <td> 5.98e+11</td> <td>    0.052</td> <td> 0.959</td> <td>-1.14e+12</td> <td>  1.2e+12</td>\n",
       "</tr>\n",
       "<tr>\n",
       "  <th>x9</th>    <td> 3.098e+10</td> <td>    6e+11</td> <td>    0.052</td> <td> 0.959</td> <td>-1.14e+12</td> <td> 1.21e+12</td>\n",
       "</tr>\n",
       "<tr>\n",
       "  <th>x10</th>   <td> 3.064e+10</td> <td> 5.93e+11</td> <td>    0.052</td> <td> 0.959</td> <td>-1.13e+12</td> <td> 1.19e+12</td>\n",
       "</tr>\n",
       "<tr>\n",
       "  <th>x11</th>   <td> 3.034e+10</td> <td> 5.87e+11</td> <td>    0.052</td> <td> 0.959</td> <td>-1.12e+12</td> <td> 1.18e+12</td>\n",
       "</tr>\n",
       "<tr>\n",
       "  <th>x12</th>   <td> 2.898e+10</td> <td> 5.61e+11</td> <td>    0.052</td> <td> 0.959</td> <td>-1.07e+12</td> <td> 1.13e+12</td>\n",
       "</tr>\n",
       "<tr>\n",
       "  <th>x13</th>   <td> 2.947e+13</td> <td> 1.43e+13</td> <td>    2.066</td> <td> 0.039</td> <td> 1.51e+12</td> <td> 5.74e+13</td>\n",
       "</tr>\n",
       "<tr>\n",
       "  <th>x14</th>   <td> 2.964e+13</td> <td> 1.43e+13</td> <td>    2.066</td> <td> 0.039</td> <td> 1.52e+12</td> <td> 5.78e+13</td>\n",
       "</tr>\n",
       "<tr>\n",
       "  <th>x15</th>   <td> 2.953e+13</td> <td> 1.43e+13</td> <td>    2.066</td> <td> 0.039</td> <td> 1.51e+12</td> <td> 5.76e+13</td>\n",
       "</tr>\n",
       "<tr>\n",
       "  <th>x16</th>   <td> 2.962e+13</td> <td> 1.43e+13</td> <td>    2.066</td> <td> 0.039</td> <td> 1.52e+12</td> <td> 5.77e+13</td>\n",
       "</tr>\n",
       "<tr>\n",
       "  <th>x17</th>   <td> 2.955e+13</td> <td> 1.43e+13</td> <td>    2.066</td> <td> 0.039</td> <td> 1.51e+12</td> <td> 5.76e+13</td>\n",
       "</tr>\n",
       "<tr>\n",
       "  <th>x18</th>   <td> 2.948e+13</td> <td> 1.43e+13</td> <td>    2.066</td> <td> 0.039</td> <td> 1.51e+12</td> <td> 5.75e+13</td>\n",
       "</tr>\n",
       "<tr>\n",
       "  <th>x19</th>   <td> 2.939e+13</td> <td> 1.42e+13</td> <td>    2.066</td> <td> 0.039</td> <td> 1.51e+12</td> <td> 5.73e+13</td>\n",
       "</tr>\n",
       "<tr>\n",
       "  <th>x20</th>   <td>   29.7703</td> <td>    0.258</td> <td>  115.487</td> <td> 0.000</td> <td>   29.265</td> <td>   30.276</td>\n",
       "</tr>\n",
       "<tr>\n",
       "  <th>x21</th>   <td>    5.8784</td> <td>    0.192</td> <td>   30.681</td> <td> 0.000</td> <td>    5.503</td> <td>    6.254</td>\n",
       "</tr>\n",
       "<tr>\n",
       "  <th>x22</th>   <td>   26.0485</td> <td>    0.217</td> <td>  120.240</td> <td> 0.000</td> <td>   25.624</td> <td>   26.473</td>\n",
       "</tr>\n",
       "<tr>\n",
       "  <th>x23</th>   <td>   -9.3136</td> <td>    0.274</td> <td>  -33.952</td> <td> 0.000</td> <td>   -9.851</td> <td>   -8.776</td>\n",
       "</tr>\n",
       "<tr>\n",
       "  <th>x24</th>   <td>   20.5460</td> <td>    0.882</td> <td>   23.296</td> <td> 0.000</td> <td>   18.817</td> <td>   22.275</td>\n",
       "</tr>\n",
       "<tr>\n",
       "  <th>x25</th>   <td>   -2.1887</td> <td>    0.606</td> <td>   -3.612</td> <td> 0.000</td> <td>   -3.376</td> <td>   -1.001</td>\n",
       "</tr>\n",
       "<tr>\n",
       "  <th>x26</th>   <td>   -0.4454</td> <td>    0.182</td> <td>   -2.450</td> <td> 0.014</td> <td>   -0.802</td> <td>   -0.089</td>\n",
       "</tr>\n",
       "<tr>\n",
       "  <th>x27</th>   <td>   32.2288</td> <td>    0.350</td> <td>   92.098</td> <td> 0.000</td> <td>   31.543</td> <td>   32.915</td>\n",
       "</tr>\n",
       "<tr>\n",
       "  <th>x28</th>   <td>   -1.4237</td> <td>    0.299</td> <td>   -4.766</td> <td> 0.000</td> <td>   -2.009</td> <td>   -0.838</td>\n",
       "</tr>\n",
       "<tr>\n",
       "  <th>x29</th>   <td>    4.3824</td> <td>    0.222</td> <td>   19.734</td> <td> 0.000</td> <td>    3.947</td> <td>    4.818</td>\n",
       "</tr>\n",
       "<tr>\n",
       "  <th>x30</th>   <td>   -0.1583</td> <td>    0.338</td> <td>   -0.468</td> <td> 0.640</td> <td>   -0.822</td> <td>    0.505</td>\n",
       "</tr>\n",
       "<tr>\n",
       "  <th>x31</th>   <td>   -2.2453</td> <td>    0.207</td> <td>  -10.838</td> <td> 0.000</td> <td>   -2.651</td> <td>   -1.839</td>\n",
       "</tr>\n",
       "<tr>\n",
       "  <th>x32</th>   <td>    4.0290</td> <td>    0.196</td> <td>   20.603</td> <td> 0.000</td> <td>    3.646</td> <td>    4.412</td>\n",
       "</tr>\n",
       "<tr>\n",
       "  <th>x33</th>   <td>   -8.7025</td> <td>    0.228</td> <td>  -38.221</td> <td> 0.000</td> <td>   -9.149</td> <td>   -8.256</td>\n",
       "</tr>\n",
       "<tr>\n",
       "  <th>x34</th>   <td>   11.0738</td> <td>    0.351</td> <td>   31.511</td> <td> 0.000</td> <td>   10.385</td> <td>   11.763</td>\n",
       "</tr>\n",
       "<tr>\n",
       "  <th>x35</th>   <td>   -8.8916</td> <td>    0.314</td> <td>  -28.337</td> <td> 0.000</td> <td>   -9.507</td> <td>   -8.277</td>\n",
       "</tr>\n",
       "<tr>\n",
       "  <th>x36</th>   <td>   -4.4666</td> <td>    0.259</td> <td>  -17.228</td> <td> 0.000</td> <td>   -4.975</td> <td>   -3.958</td>\n",
       "</tr>\n",
       "<tr>\n",
       "  <th>x37</th>   <td>   -0.8056</td> <td>    0.163</td> <td>   -4.942</td> <td> 0.000</td> <td>   -1.125</td> <td>   -0.486</td>\n",
       "</tr>\n",
       "<tr>\n",
       "  <th>x38</th>   <td>    8.2710</td> <td>    0.200</td> <td>   41.409</td> <td> 0.000</td> <td>    7.880</td> <td>    8.662</td>\n",
       "</tr>\n",
       "<tr>\n",
       "  <th>x39</th>   <td>   -6.6257</td> <td>    0.363</td> <td>  -18.259</td> <td> 0.000</td> <td>   -7.337</td> <td>   -5.914</td>\n",
       "</tr>\n",
       "<tr>\n",
       "  <th>x40</th>   <td>   19.2497</td> <td>    0.610</td> <td>   31.574</td> <td> 0.000</td> <td>   18.055</td> <td>   20.445</td>\n",
       "</tr>\n",
       "<tr>\n",
       "  <th>x41</th>   <td>    5.5861</td> <td>    0.168</td> <td>   33.255</td> <td> 0.000</td> <td>    5.257</td> <td>    5.915</td>\n",
       "</tr>\n",
       "<tr>\n",
       "  <th>x42</th>   <td>    9.3778</td> <td>    0.183</td> <td>   51.219</td> <td> 0.000</td> <td>    9.019</td> <td>    9.737</td>\n",
       "</tr>\n",
       "<tr>\n",
       "  <th>x43</th>   <td>   -8.8135</td> <td>    0.176</td> <td>  -50.206</td> <td> 0.000</td> <td>   -9.158</td> <td>   -8.469</td>\n",
       "</tr>\n",
       "<tr>\n",
       "  <th>x44</th>   <td>    0.1968</td> <td>    0.179</td> <td>    1.097</td> <td> 0.272</td> <td>   -0.155</td> <td>    0.548</td>\n",
       "</tr>\n",
       "<tr>\n",
       "  <th>x45</th>   <td>   -1.5858</td> <td>    0.172</td> <td>   -9.226</td> <td> 0.000</td> <td>   -1.923</td> <td>   -1.249</td>\n",
       "</tr>\n",
       "<tr>\n",
       "  <th>x46</th>   <td>    1.8945</td> <td>    0.175</td> <td>   10.835</td> <td> 0.000</td> <td>    1.552</td> <td>    2.237</td>\n",
       "</tr>\n",
       "<tr>\n",
       "  <th>x47</th>   <td>   -1.5556</td> <td>    0.862</td> <td>   -1.805</td> <td> 0.071</td> <td>   -3.244</td> <td>    0.133</td>\n",
       "</tr>\n",
       "<tr>\n",
       "  <th>x48</th>   <td>   -1.0440</td> <td>    0.219</td> <td>   -4.775</td> <td> 0.000</td> <td>   -1.473</td> <td>   -0.615</td>\n",
       "</tr>\n",
       "<tr>\n",
       "  <th>x49</th>   <td>   -2.5662</td> <td>    0.175</td> <td>  -14.670</td> <td> 0.000</td> <td>   -2.909</td> <td>   -2.223</td>\n",
       "</tr>\n",
       "</table>\n",
       "<table class=\"simpletable\">\n",
       "<tr>\n",
       "  <th>Omnibus:</th>       <td>35179.688</td> <th>  Durbin-Watson:     </th>  <td>   2.003</td> \n",
       "</tr>\n",
       "<tr>\n",
       "  <th>Prob(Omnibus):</th>  <td> 0.000</td>   <th>  Jarque-Bera (JB):  </th> <td>107463.168</td>\n",
       "</tr>\n",
       "<tr>\n",
       "  <th>Skew:</th>           <td> 1.059</td>   <th>  Prob(JB):          </th>  <td>    0.00</td> \n",
       "</tr>\n",
       "<tr>\n",
       "  <th>Kurtosis:</th>       <td> 6.242</td>   <th>  Cond. No.          </th>  <td>4.95e+14</td> \n",
       "</tr>\n",
       "</table><br/><br/>Warnings:<br/>[1] Standard Errors assume that the covariance matrix of the errors is correctly specified.<br/>[2] The smallest eigenvalue is 2.91e-24. This might indicate that there are<br/>strong multicollinearity problems or that the design matrix is singular."
      ],
      "text/plain": [
       "<class 'statsmodels.iolib.summary.Summary'>\n",
       "\"\"\"\n",
       "                             OLS Regression Results                            \n",
       "===============================================================================\n",
       "Dep. Variable:     price_by_month_week   R-squared:                       0.615\n",
       "Model:                             OLS   Adj. R-squared:                  0.615\n",
       "Method:                  Least Squares   F-statistic:                     5724.\n",
       "Date:                 Mon, 17 Sep 2018   Prob (F-statistic):               0.00\n",
       "Time:                         15:15:42   Log-Likelihood:            -9.6040e+05\n",
       "No. Observations:               171940   AIC:                         1.921e+06\n",
       "Df Residuals:                   171891   BIC:                         1.921e+06\n",
       "Df Model:                           48                                         \n",
       "Covariance Type:             nonrobust                                         \n",
       "==============================================================================\n",
       "                 coef    std err          t      P>|t|      [0.025      0.975]\n",
       "------------------------------------------------------------------------------\n",
       "const        160.9641      0.156   1032.325      0.000     160.658     161.270\n",
       "x1          3.084e+10   5.97e+11      0.052      0.959   -1.14e+12     1.2e+12\n",
       "x2          3.013e+10   5.83e+11      0.052      0.959   -1.11e+12    1.17e+12\n",
       "x3          3.085e+10   5.97e+11      0.052      0.959   -1.14e+12     1.2e+12\n",
       "x4          3.102e+10      6e+11      0.052      0.959   -1.15e+12    1.21e+12\n",
       "x5          3.091e+10   5.98e+11      0.052      0.959   -1.14e+12     1.2e+12\n",
       "x6          3.097e+10   5.99e+11      0.052      0.959   -1.14e+12    1.21e+12\n",
       "x7          3.102e+10      6e+11      0.052      0.959   -1.15e+12    1.21e+12\n",
       "x8           3.09e+10   5.98e+11      0.052      0.959   -1.14e+12     1.2e+12\n",
       "x9          3.098e+10      6e+11      0.052      0.959   -1.14e+12    1.21e+12\n",
       "x10         3.064e+10   5.93e+11      0.052      0.959   -1.13e+12    1.19e+12\n",
       "x11         3.034e+10   5.87e+11      0.052      0.959   -1.12e+12    1.18e+12\n",
       "x12         2.898e+10   5.61e+11      0.052      0.959   -1.07e+12    1.13e+12\n",
       "x13         2.947e+13   1.43e+13      2.066      0.039    1.51e+12    5.74e+13\n",
       "x14         2.964e+13   1.43e+13      2.066      0.039    1.52e+12    5.78e+13\n",
       "x15         2.953e+13   1.43e+13      2.066      0.039    1.51e+12    5.76e+13\n",
       "x16         2.962e+13   1.43e+13      2.066      0.039    1.52e+12    5.77e+13\n",
       "x17         2.955e+13   1.43e+13      2.066      0.039    1.51e+12    5.76e+13\n",
       "x18         2.948e+13   1.43e+13      2.066      0.039    1.51e+12    5.75e+13\n",
       "x19         2.939e+13   1.42e+13      2.066      0.039    1.51e+12    5.73e+13\n",
       "x20           29.7703      0.258    115.487      0.000      29.265      30.276\n",
       "x21            5.8784      0.192     30.681      0.000       5.503       6.254\n",
       "x22           26.0485      0.217    120.240      0.000      25.624      26.473\n",
       "x23           -9.3136      0.274    -33.952      0.000      -9.851      -8.776\n",
       "x24           20.5460      0.882     23.296      0.000      18.817      22.275\n",
       "x25           -2.1887      0.606     -3.612      0.000      -3.376      -1.001\n",
       "x26           -0.4454      0.182     -2.450      0.014      -0.802      -0.089\n",
       "x27           32.2288      0.350     92.098      0.000      31.543      32.915\n",
       "x28           -1.4237      0.299     -4.766      0.000      -2.009      -0.838\n",
       "x29            4.3824      0.222     19.734      0.000       3.947       4.818\n",
       "x30           -0.1583      0.338     -0.468      0.640      -0.822       0.505\n",
       "x31           -2.2453      0.207    -10.838      0.000      -2.651      -1.839\n",
       "x32            4.0290      0.196     20.603      0.000       3.646       4.412\n",
       "x33           -8.7025      0.228    -38.221      0.000      -9.149      -8.256\n",
       "x34           11.0738      0.351     31.511      0.000      10.385      11.763\n",
       "x35           -8.8916      0.314    -28.337      0.000      -9.507      -8.277\n",
       "x36           -4.4666      0.259    -17.228      0.000      -4.975      -3.958\n",
       "x37           -0.8056      0.163     -4.942      0.000      -1.125      -0.486\n",
       "x38            8.2710      0.200     41.409      0.000       7.880       8.662\n",
       "x39           -6.6257      0.363    -18.259      0.000      -7.337      -5.914\n",
       "x40           19.2497      0.610     31.574      0.000      18.055      20.445\n",
       "x41            5.5861      0.168     33.255      0.000       5.257       5.915\n",
       "x42            9.3778      0.183     51.219      0.000       9.019       9.737\n",
       "x43           -8.8135      0.176    -50.206      0.000      -9.158      -8.469\n",
       "x44            0.1968      0.179      1.097      0.272      -0.155       0.548\n",
       "x45           -1.5858      0.172     -9.226      0.000      -1.923      -1.249\n",
       "x46            1.8945      0.175     10.835      0.000       1.552       2.237\n",
       "x47           -1.5556      0.862     -1.805      0.071      -3.244       0.133\n",
       "x48           -1.0440      0.219     -4.775      0.000      -1.473      -0.615\n",
       "x49           -2.5662      0.175    -14.670      0.000      -2.909      -2.223\n",
       "==============================================================================\n",
       "Omnibus:                    35179.688   Durbin-Watson:                   2.003\n",
       "Prob(Omnibus):                  0.000   Jarque-Bera (JB):           107463.168\n",
       "Skew:                           1.059   Prob(JB):                         0.00\n",
       "Kurtosis:                       6.242   Cond. No.                     4.95e+14\n",
       "==============================================================================\n",
       "\n",
       "Warnings:\n",
       "[1] Standard Errors assume that the covariance matrix of the errors is correctly specified.\n",
       "[2] The smallest eigenvalue is 2.91e-24. This might indicate that there are\n",
       "strong multicollinearity problems or that the design matrix is singular.\n",
       "\"\"\""
      ]
     },
     "execution_count": 67,
     "metadata": {},
     "output_type": "execute_result"
    }
   ],
   "source": [
    "# Model-LR\n",
    "\n",
    "model=sm.OLS(y_train, sm.add_constant(X_train_trans))\n",
    "fit=model.fit()\n",
    "fit.summary()"
   ]
  },
  {
   "cell_type": "code",
   "execution_count": 68,
   "metadata": {
    "ExecuteTime": {
     "end_time": "2018-09-17T22:18:50.447844Z",
     "start_time": "2018-09-17T22:15:44.317547Z"
    }
   },
   "outputs": [
    {
     "name": "stdout",
     "output_type": "stream",
     "text": [
      "MSE train: 6.404, test: 46.639\n",
      "R^2 train: 0.999, test: 0.996\n"
     ]
    }
   ],
   "source": [
    "# Model-Random Forest\n",
    "\n",
    "rf = RandomForestRegressor(n_estimators=200, \n",
    "                           criterion='mse', \n",
    "                           random_state=3, \n",
    "                           n_jobs=-1)\n",
    "rf.fit(X_train_trans, y_train)\n",
    "\n",
    "y_train_pred = rf.predict(X_train_trans)\n",
    "y_test_pred = rf.predict(X_test_trans)\n",
    "\n",
    "print('MSE train: %.3f, test: %.3f' % (\n",
    "        mean_squared_error(y_train, y_train_pred),\n",
    "        mean_squared_error(y_test, y_test_pred)))\n",
    "print('R^2 train: %.3f, test: %.3f' % (\n",
    "        r2_score(y_train, y_train_pred),\n",
    "        r2_score(y_test, y_test_pred)))"
   ]
  },
  {
   "cell_type": "code",
   "execution_count": 69,
   "metadata": {
    "ExecuteTime": {
     "end_time": "2018-09-17T22:18:53.730289Z",
     "start_time": "2018-09-17T22:18:53.719404Z"
    }
   },
   "outputs": [
    {
     "data": {
      "text/plain": [
       "3006"
      ]
     },
     "execution_count": 69,
     "metadata": {},
     "output_type": "execute_result"
    }
   ],
   "source": [
    "df_final.listing_id.nunique()"
   ]
  },
  {
   "cell_type": "code",
   "execution_count": 70,
   "metadata": {
    "ExecuteTime": {
     "end_time": "2018-09-17T22:18:56.294686Z",
     "start_time": "2018-09-17T22:18:56.269275Z"
    }
   },
   "outputs": [
    {
     "data": {
      "text/plain": [
       "count    245629.000000\n",
       "mean        161.184664\n",
       "std         104.196466\n",
       "min          40.000000\n",
       "25%          85.000000\n",
       "50%         129.000000\n",
       "75%         210.000000\n",
       "max         550.000000\n",
       "Name: price_by_month_week, dtype: float64"
      ]
     },
     "execution_count": 70,
     "metadata": {},
     "output_type": "execute_result"
    }
   ],
   "source": [
    "# Double check on price range. The range is as expected\n",
    "\n",
    "y.describe(include='all')"
   ]
  },
  {
   "cell_type": "code",
   "execution_count": 71,
   "metadata": {
    "ExecuteTime": {
     "end_time": "2018-09-17T22:19:00.246519Z",
     "start_time": "2018-09-17T22:19:00.133934Z"
    }
   },
   "outputs": [],
   "source": [
    "# Map feature importance with labels\n",
    "\n",
    "feature_labels = X.columns\n",
    "feature_tuples = zip (feature_labels, rf.feature_importances_)\n",
    "feature_lists = [list(feature_tuple) for feature_tuple in feature_tuples]"
   ]
  },
  {
   "cell_type": "code",
   "execution_count": 72,
   "metadata": {
    "ExecuteTime": {
     "end_time": "2018-09-17T22:19:03.088950Z",
     "start_time": "2018-09-17T22:19:03.070937Z"
    }
   },
   "outputs": [
    {
     "data": {
      "text/plain": [
       "[['bedrooms', 0.4156324736485746],\n",
       " ['cleaning_fee', 0.07034290324560516],\n",
       " ['room_type_Entire home/apt', 0.06705745536425838],\n",
       " ['accommodates', 0.061629916824698594],\n",
       " ['reviews_per_month', 0.04828570528371509],\n",
       " ['host_listings_count', 0.04310400183024202],\n",
       " ['number_of_reviews', 0.030599769313474728],\n",
       " ['bathrooms', 0.026573235736360914],\n",
       " ['review_scores_rating_log10', 0.02514303952043061],\n",
       " ['calculated_host_listings_count', 0.02201171941033038],\n",
       " ['host_yrs', 0.01789310282225505],\n",
       " ['city_San Francisco', 0.017425373050930167],\n",
       " ['host_response_rate', 0.01506220643000437],\n",
       " ['yrs_since_first_review', 0.011552273510368243],\n",
       " ['guests_included', 0.010881599402600497],\n",
       " ['jurisdiction_names_Santa Cruz County, CA', 0.010464262456094046],\n",
       " ['beds', 0.009429364298248035],\n",
       " ['city_Oakland', 0.009412498980338828],\n",
       " ['host_is_superhost_f', 0.008795707369316634],\n",
       " ['host_identity_verified_f', 0.007822633962941604],\n",
       " ['review_scores_location_log10', 0.0075009318936435695],\n",
       " ['review_scores_value_log10', 0.007478134776576773],\n",
       " ['amenities_Cable TV', 0.006223694182691581],\n",
       " ['amenities_Lock on bedroom door', 0.004591747159883562],\n",
       " ['amenities_Familykid friendly', 0.004489138653436457],\n",
       " ['amenities_Air conditioning', 0.004274463569205315],\n",
       " ['neighbourhood_cleansed_San Jose', 0.003958643101365988],\n",
       " ['amenities_Private entrance', 0.0036910325667132045],\n",
       " ['Saturday', 0.003687499867281508],\n",
       " ['Friday', 0.0036836220108917967],\n",
       " ['Sep.', 0.002252284096394991],\n",
       " ['Nov.', 0.0021414787588232152],\n",
       " ['neighbourhood_cleansed_Palo Alto', 0.0021231912123304696],\n",
       " ['Dec.', 0.002007861350659765],\n",
       " ['Oct.', 0.0020059908539035486],\n",
       " ['Aug.', 0.0020022770980949525],\n",
       " ['Jul.', 0.001752299242803867],\n",
       " ['Jun.', 0.0016384936151919726],\n",
       " ['district_Santa Clara', 0.0014611741010273935],\n",
       " ['Jan.', 0.001155432454700609],\n",
       " ['May.', 0.0006815512488232485],\n",
       " ['Feb.', 0.0004105828819614383],\n",
       " ['Mar.', 0.000378529578341488],\n",
       " ['Apr.', 0.00036953138505956386],\n",
       " ['Sunday', 0.00028094931366532305],\n",
       " ['Tuesday', 0.00016756069994195477],\n",
       " ['Thursday', 0.0001652562783552092],\n",
       " ['Monday', 0.0001560006563493619],\n",
       " ['Wednesday', 0.00015140493109366577]]"
      ]
     },
     "execution_count": 72,
     "metadata": {},
     "output_type": "execute_result"
    }
   ],
   "source": [
    "# Order features based on importance\n",
    "\n",
    "feature_lists.sort(key=lambda x: abs(x[1]), reverse=True)\n",
    "feature_lists"
   ]
  },
  {
   "cell_type": "code",
   "execution_count": 73,
   "metadata": {
    "ExecuteTime": {
     "end_time": "2018-09-17T22:19:05.609546Z",
     "start_time": "2018-09-17T22:19:05.601585Z"
    }
   },
   "outputs": [
    {
     "data": {
      "text/plain": [
       "['bedrooms',\n",
       " 'cleaning_fee',\n",
       " 'room_type_Entire home/apt',\n",
       " 'accommodates',\n",
       " 'reviews_per_month',\n",
       " 'host_listings_count',\n",
       " 'number_of_reviews',\n",
       " 'bathrooms',\n",
       " 'review_scores_rating_log10',\n",
       " 'calculated_host_listings_count',\n",
       " 'host_yrs',\n",
       " 'city_San Francisco',\n",
       " 'host_response_rate',\n",
       " 'yrs_since_first_review',\n",
       " 'guests_included',\n",
       " 'jurisdiction_names_Santa Cruz County, CA',\n",
       " 'beds',\n",
       " 'city_Oakland',\n",
       " 'host_is_superhost_f',\n",
       " 'host_identity_verified_f',\n",
       " 'review_scores_location_log10',\n",
       " 'review_scores_value_log10',\n",
       " 'amenities_Cable TV',\n",
       " 'amenities_Lock on bedroom door',\n",
       " 'amenities_Familykid friendly',\n",
       " 'amenities_Air conditioning',\n",
       " 'neighbourhood_cleansed_San Jose',\n",
       " 'amenities_Private entrance',\n",
       " 'Saturday',\n",
       " 'Friday',\n",
       " 'Sep.',\n",
       " 'Nov.',\n",
       " 'neighbourhood_cleansed_Palo Alto',\n",
       " 'Dec.',\n",
       " 'Oct.',\n",
       " 'Aug.',\n",
       " 'Jul.',\n",
       " 'Jun.',\n",
       " 'district_Santa Clara',\n",
       " 'Jan.',\n",
       " 'May.',\n",
       " 'Feb.',\n",
       " 'Mar.',\n",
       " 'Apr.',\n",
       " 'Sunday',\n",
       " 'Tuesday',\n",
       " 'Thursday',\n",
       " 'Monday',\n",
       " 'Wednesday']"
      ]
     },
     "execution_count": 73,
     "metadata": {},
     "output_type": "execute_result"
    }
   ],
   "source": [
    "features = [list_[0] for list_ in feature_lists]\n",
    "features"
   ]
  },
  {
   "cell_type": "code",
   "execution_count": 74,
   "metadata": {
    "ExecuteTime": {
     "end_time": "2018-09-17T22:19:08.887821Z",
     "start_time": "2018-09-17T22:19:08.882994Z"
    }
   },
   "outputs": [],
   "source": [
    "columns =['listing_id']\n",
    "columns.extend(features)\n",
    "columns.extend(['ref_district', 'ref_jurisdiction', 'price_by_month_week'])"
   ]
  },
  {
   "cell_type": "code",
   "execution_count": 76,
   "metadata": {
    "ExecuteTime": {
     "end_time": "2018-09-17T22:38:50.477720Z",
     "start_time": "2018-09-17T22:38:50.197772Z"
    }
   },
   "outputs": [
    {
     "data": {
      "text/html": [
       "<div>\n",
       "<style scoped>\n",
       "    .dataframe tbody tr th:only-of-type {\n",
       "        vertical-align: middle;\n",
       "    }\n",
       "\n",
       "    .dataframe tbody tr th {\n",
       "        vertical-align: top;\n",
       "    }\n",
       "\n",
       "    .dataframe thead th {\n",
       "        text-align: right;\n",
       "    }\n",
       "</style>\n",
       "<table border=\"1\" class=\"dataframe\">\n",
       "  <thead>\n",
       "    <tr style=\"text-align: right;\">\n",
       "      <th></th>\n",
       "      <th>listing_id</th>\n",
       "      <th>bedrooms</th>\n",
       "      <th>cleaning_fee</th>\n",
       "      <th>room_type_Entire home/apt</th>\n",
       "      <th>accommodates</th>\n",
       "      <th>reviews_per_month</th>\n",
       "      <th>host_listings_count</th>\n",
       "      <th>number_of_reviews</th>\n",
       "      <th>bathrooms</th>\n",
       "      <th>review_scores_rating_log10</th>\n",
       "      <th>...</th>\n",
       "      <th>Mar.</th>\n",
       "      <th>Apr.</th>\n",
       "      <th>Sunday</th>\n",
       "      <th>Tuesday</th>\n",
       "      <th>Thursday</th>\n",
       "      <th>Monday</th>\n",
       "      <th>Wednesday</th>\n",
       "      <th>ref_district</th>\n",
       "      <th>ref_jurisdiction</th>\n",
       "      <th>price_by_month_week</th>\n",
       "    </tr>\n",
       "  </thead>\n",
       "  <tbody>\n",
       "    <tr>\n",
       "      <th>0</th>\n",
       "      <td>5858</td>\n",
       "      <td>2.0</td>\n",
       "      <td>2.0</td>\n",
       "      <td>1</td>\n",
       "      <td>5</td>\n",
       "      <td>0.99</td>\n",
       "      <td>2</td>\n",
       "      <td>112</td>\n",
       "      <td>1.0</td>\n",
       "      <td>1.991226</td>\n",
       "      <td>...</td>\n",
       "      <td>0</td>\n",
       "      <td>0</td>\n",
       "      <td>0</td>\n",
       "      <td>0</td>\n",
       "      <td>0</td>\n",
       "      <td>1</td>\n",
       "      <td>0</td>\n",
       "      <td>San Francisco</td>\n",
       "      <td>SAN FRANCISCO</td>\n",
       "      <td>235.0</td>\n",
       "    </tr>\n",
       "    <tr>\n",
       "      <th>1</th>\n",
       "      <td>5858</td>\n",
       "      <td>2.0</td>\n",
       "      <td>2.0</td>\n",
       "      <td>1</td>\n",
       "      <td>5</td>\n",
       "      <td>0.99</td>\n",
       "      <td>2</td>\n",
       "      <td>112</td>\n",
       "      <td>1.0</td>\n",
       "      <td>1.991226</td>\n",
       "      <td>...</td>\n",
       "      <td>0</td>\n",
       "      <td>0</td>\n",
       "      <td>0</td>\n",
       "      <td>1</td>\n",
       "      <td>0</td>\n",
       "      <td>0</td>\n",
       "      <td>0</td>\n",
       "      <td>San Francisco</td>\n",
       "      <td>SAN FRANCISCO</td>\n",
       "      <td>235.0</td>\n",
       "    </tr>\n",
       "    <tr>\n",
       "      <th>2</th>\n",
       "      <td>5858</td>\n",
       "      <td>2.0</td>\n",
       "      <td>2.0</td>\n",
       "      <td>1</td>\n",
       "      <td>5</td>\n",
       "      <td>0.99</td>\n",
       "      <td>2</td>\n",
       "      <td>112</td>\n",
       "      <td>1.0</td>\n",
       "      <td>1.991226</td>\n",
       "      <td>...</td>\n",
       "      <td>0</td>\n",
       "      <td>0</td>\n",
       "      <td>0</td>\n",
       "      <td>0</td>\n",
       "      <td>0</td>\n",
       "      <td>0</td>\n",
       "      <td>1</td>\n",
       "      <td>San Francisco</td>\n",
       "      <td>SAN FRANCISCO</td>\n",
       "      <td>235.0</td>\n",
       "    </tr>\n",
       "    <tr>\n",
       "      <th>3</th>\n",
       "      <td>5858</td>\n",
       "      <td>2.0</td>\n",
       "      <td>2.0</td>\n",
       "      <td>1</td>\n",
       "      <td>5</td>\n",
       "      <td>0.99</td>\n",
       "      <td>2</td>\n",
       "      <td>112</td>\n",
       "      <td>1.0</td>\n",
       "      <td>1.991226</td>\n",
       "      <td>...</td>\n",
       "      <td>0</td>\n",
       "      <td>0</td>\n",
       "      <td>0</td>\n",
       "      <td>0</td>\n",
       "      <td>1</td>\n",
       "      <td>0</td>\n",
       "      <td>0</td>\n",
       "      <td>San Francisco</td>\n",
       "      <td>SAN FRANCISCO</td>\n",
       "      <td>235.0</td>\n",
       "    </tr>\n",
       "    <tr>\n",
       "      <th>4</th>\n",
       "      <td>5858</td>\n",
       "      <td>2.0</td>\n",
       "      <td>2.0</td>\n",
       "      <td>1</td>\n",
       "      <td>5</td>\n",
       "      <td>0.99</td>\n",
       "      <td>2</td>\n",
       "      <td>112</td>\n",
       "      <td>1.0</td>\n",
       "      <td>1.991226</td>\n",
       "      <td>...</td>\n",
       "      <td>0</td>\n",
       "      <td>0</td>\n",
       "      <td>0</td>\n",
       "      <td>0</td>\n",
       "      <td>0</td>\n",
       "      <td>0</td>\n",
       "      <td>0</td>\n",
       "      <td>San Francisco</td>\n",
       "      <td>SAN FRANCISCO</td>\n",
       "      <td>235.0</td>\n",
       "    </tr>\n",
       "  </tbody>\n",
       "</table>\n",
       "<p>5 rows × 53 columns</p>\n",
       "</div>"
      ],
      "text/plain": [
       "   listing_id  bedrooms  cleaning_fee  room_type_Entire home/apt  \\\n",
       "0        5858       2.0           2.0                          1   \n",
       "1        5858       2.0           2.0                          1   \n",
       "2        5858       2.0           2.0                          1   \n",
       "3        5858       2.0           2.0                          1   \n",
       "4        5858       2.0           2.0                          1   \n",
       "\n",
       "   accommodates  reviews_per_month  host_listings_count  number_of_reviews  \\\n",
       "0             5               0.99                    2                112   \n",
       "1             5               0.99                    2                112   \n",
       "2             5               0.99                    2                112   \n",
       "3             5               0.99                    2                112   \n",
       "4             5               0.99                    2                112   \n",
       "\n",
       "   bathrooms  review_scores_rating_log10         ...           Mar.  Apr.  \\\n",
       "0        1.0                    1.991226         ...              0     0   \n",
       "1        1.0                    1.991226         ...              0     0   \n",
       "2        1.0                    1.991226         ...              0     0   \n",
       "3        1.0                    1.991226         ...              0     0   \n",
       "4        1.0                    1.991226         ...              0     0   \n",
       "\n",
       "   Sunday  Tuesday  Thursday  Monday  Wednesday   ref_district  \\\n",
       "0       0        0         0       1          0  San Francisco   \n",
       "1       0        1         0       0          0  San Francisco   \n",
       "2       0        0         0       0          1  San Francisco   \n",
       "3       0        0         1       0          0  San Francisco   \n",
       "4       0        0         0       0          0  San Francisco   \n",
       "\n",
       "   ref_jurisdiction  price_by_month_week  \n",
       "0     SAN FRANCISCO                235.0  \n",
       "1     SAN FRANCISCO                235.0  \n",
       "2     SAN FRANCISCO                235.0  \n",
       "3     SAN FRANCISCO                235.0  \n",
       "4     SAN FRANCISCO                235.0  \n",
       "\n",
       "[5 rows x 53 columns]"
      ]
     },
     "execution_count": 76,
     "metadata": {},
     "output_type": "execute_result"
    }
   ],
   "source": [
    "df_data = df_final[columns]\n",
    "df_data.head()"
   ]
  },
  {
   "cell_type": "code",
   "execution_count": 77,
   "metadata": {
    "ExecuteTime": {
     "end_time": "2018-09-17T22:38:53.449764Z",
     "start_time": "2018-09-17T22:38:53.442621Z"
    }
   },
   "outputs": [
    {
     "data": {
      "text/plain": [
       "(245629, 53)"
      ]
     },
     "execution_count": 77,
     "metadata": {},
     "output_type": "execute_result"
    }
   ],
   "source": [
    "df_data.shape"
   ]
  },
  {
   "cell_type": "code",
   "execution_count": 78,
   "metadata": {
    "ExecuteTime": {
     "end_time": "2018-09-17T22:38:56.566129Z",
     "start_time": "2018-09-17T22:38:56.288147Z"
    }
   },
   "outputs": [],
   "source": [
    "df_data.rename(columns={'price_by_month_week':'price'}, inplace=True)"
   ]
  },
  {
   "cell_type": "code",
   "execution_count": 79,
   "metadata": {
    "ExecuteTime": {
     "end_time": "2018-09-17T22:38:59.578990Z",
     "start_time": "2018-09-17T22:38:59.287780Z"
    }
   },
   "outputs": [
    {
     "data": {
      "text/plain": [
       "listing_id                                  0\n",
       "bedrooms                                    0\n",
       "cleaning_fee                                0\n",
       "room_type_Entire home/apt                   0\n",
       "accommodates                                0\n",
       "reviews_per_month                           0\n",
       "host_listings_count                         0\n",
       "number_of_reviews                           0\n",
       "bathrooms                                   0\n",
       "review_scores_rating_log10                  0\n",
       "calculated_host_listings_count              0\n",
       "host_yrs                                    0\n",
       "city_San Francisco                          0\n",
       "host_response_rate                          0\n",
       "yrs_since_first_review                      0\n",
       "guests_included                             0\n",
       "jurisdiction_names_Santa Cruz County, CA    0\n",
       "beds                                        0\n",
       "city_Oakland                                0\n",
       "host_is_superhost_f                         0\n",
       "host_identity_verified_f                    0\n",
       "review_scores_location_log10                0\n",
       "review_scores_value_log10                   0\n",
       "amenities_Cable TV                          0\n",
       "amenities_Lock on bedroom door              0\n",
       "amenities_Familykid friendly                0\n",
       "amenities_Air conditioning                  0\n",
       "neighbourhood_cleansed_San Jose             0\n",
       "amenities_Private entrance                  0\n",
       "Saturday                                    0\n",
       "Friday                                      0\n",
       "Sep.                                        0\n",
       "Nov.                                        0\n",
       "neighbourhood_cleansed_Palo Alto            0\n",
       "Dec.                                        0\n",
       "Oct.                                        0\n",
       "Aug.                                        0\n",
       "Jul.                                        0\n",
       "Jun.                                        0\n",
       "district_Santa Clara                        0\n",
       "Jan.                                        0\n",
       "May.                                        0\n",
       "Feb.                                        0\n",
       "Mar.                                        0\n",
       "Apr.                                        0\n",
       "Sunday                                      0\n",
       "Tuesday                                     0\n",
       "Thursday                                    0\n",
       "Monday                                      0\n",
       "Wednesday                                   0\n",
       "ref_district                                0\n",
       "ref_jurisdiction                            0\n",
       "price                                       0\n",
       "dtype: int64"
      ]
     },
     "execution_count": 79,
     "metadata": {},
     "output_type": "execute_result"
    }
   ],
   "source": [
    "df_data.isnull().sum()"
   ]
  },
  {
   "cell_type": "code",
   "execution_count": 93,
   "metadata": {
    "ExecuteTime": {
     "end_time": "2018-09-17T22:47:55.787349Z",
     "start_time": "2018-09-17T22:47:38.185171Z"
    },
    "scrolled": false
   },
   "outputs": [
    {
     "data": {
      "text/plain": [
       "0            Monday\n",
       "1           Tuesday\n",
       "2         Wednesday\n",
       "3          Thursday\n",
       "4            Friday\n",
       "5          Saturday\n",
       "6            Sunday\n",
       "7            Monday\n",
       "8           Tuesday\n",
       "9         Wednesday\n",
       "10         Thursday\n",
       "11           Friday\n",
       "12         Saturday\n",
       "13           Sunday\n",
       "14           Monday\n",
       "15          Tuesday\n",
       "16        Wednesday\n",
       "17         Thursday\n",
       "18           Friday\n",
       "19         Saturday\n",
       "20           Sunday\n",
       "21           Monday\n",
       "22          Tuesday\n",
       "23        Wednesday\n",
       "24         Thursday\n",
       "25           Friday\n",
       "26         Saturday\n",
       "27           Sunday\n",
       "28           Monday\n",
       "29          Tuesday\n",
       "            ...    \n",
       "245599     Saturday\n",
       "245600       Sunday\n",
       "245601       Monday\n",
       "245602      Tuesday\n",
       "245603    Wednesday\n",
       "245604     Thursday\n",
       "245605       Friday\n",
       "245606     Saturday\n",
       "245607       Sunday\n",
       "245608       Monday\n",
       "245609      Tuesday\n",
       "245610    Wednesday\n",
       "245611     Thursday\n",
       "245612       Friday\n",
       "245613     Saturday\n",
       "245614       Sunday\n",
       "245615       Monday\n",
       "245616      Tuesday\n",
       "245617    Wednesday\n",
       "245618     Thursday\n",
       "245619       Friday\n",
       "245620     Saturday\n",
       "245621       Sunday\n",
       "245622       Monday\n",
       "245623      Tuesday\n",
       "245624    Wednesday\n",
       "245625     Thursday\n",
       "245626       Friday\n",
       "245627     Saturday\n",
       "245628       Sunday\n",
       "Length: 245629, dtype: object"
      ]
     },
     "execution_count": 93,
     "metadata": {},
     "output_type": "execute_result"
    }
   ],
   "source": [
    "temp_df = df_data[['Monday', 'Tuesday', 'Wednesday', 'Thursday', 'Friday', 'Saturday', 'Sunday']].copy()\n",
    "\n",
    "days = temp_df.apply(lambda x: x.idxmax(), axis=1)\n",
    "days"
   ]
  },
  {
   "cell_type": "code",
   "execution_count": null,
   "metadata": {
    "ExecuteTime": {
     "end_time": "2018-09-17T22:12:55.258059Z",
     "start_time": "2018-09-17T22:12:27.019Z"
    }
   },
   "outputs": [],
   "source": [
    "csv_file = '/Users/xzhou/github/project_archives/files_airbnb/{}.csv'\n",
    "\n",
    "csv_path = csv_file.format('airbnb_data')\n",
    "\n",
    "df_data.to_csv(csv_path)"
   ]
  },
  {
   "cell_type": "code",
   "execution_count": null,
   "metadata": {},
   "outputs": [],
   "source": []
  }
 ],
 "metadata": {
  "kernelspec": {
   "display_name": "Python 3",
   "language": "python",
   "name": "python3"
  },
  "language_info": {
   "codemirror_mode": {
    "name": "ipython",
    "version": 3
   },
   "file_extension": ".py",
   "mimetype": "text/x-python",
   "name": "python",
   "nbconvert_exporter": "python",
   "pygments_lexer": "ipython3",
   "version": "3.6.6"
  },
  "varInspector": {
   "cols": {
    "lenName": 16,
    "lenType": 16,
    "lenVar": 40
   },
   "kernels_config": {
    "python": {
     "delete_cmd_postfix": "",
     "delete_cmd_prefix": "del ",
     "library": "var_list.py",
     "varRefreshCmd": "print(var_dic_list())"
    },
    "r": {
     "delete_cmd_postfix": ") ",
     "delete_cmd_prefix": "rm(",
     "library": "var_list.r",
     "varRefreshCmd": "cat(var_dic_list()) "
    }
   },
   "types_to_exclude": [
    "module",
    "function",
    "builtin_function_or_method",
    "instance",
    "_Feature"
   ],
   "window_display": false
  }
 },
 "nbformat": 4,
 "nbformat_minor": 2
}
