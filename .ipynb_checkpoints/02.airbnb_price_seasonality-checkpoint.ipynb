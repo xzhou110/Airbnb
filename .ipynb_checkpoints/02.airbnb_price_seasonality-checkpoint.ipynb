{
 "cells": [
  {
   "cell_type": "code",
   "execution_count": 3,
   "metadata": {
    "ExecuteTime": {
     "end_time": "2018-09-17T08:19:12.298486Z",
     "start_time": "2018-09-17T08:19:12.292212Z"
    }
   },
   "outputs": [],
   "source": [
    "import pandas as pd\n",
    "import csv\n",
    "import re\n",
    "import statsmodels.api as sm\n",
    "from datetime import datetime\n",
    "import matplotlib.pyplot as plt\n",
    "import numpy as np\n",
    "\n",
    "from sklearn import datasets, linear_model\n",
    "from sklearn.metrics import mean_squared_error, r2_score\n",
    "from sklearn.preprocessing import StandardScaler\n",
    "from sklearn.model_selection import train_test_split\n",
    "from sklearn.ensemble import RandomForestRegressor"
   ]
  },
  {
   "cell_type": "code",
   "execution_count": 4,
   "metadata": {
    "ExecuteTime": {
     "end_time": "2018-09-17T08:19:15.366371Z",
     "start_time": "2018-09-17T08:19:15.361811Z"
    }
   },
   "outputs": [],
   "source": [
    "file_url = '/Users/xzhou/github/project_archives/files_airbnb/{}/calendar.csv'\n",
    "\n",
    "sf_file = file_url.format('sf_airbnb')\n",
    "ok_file = file_url.format('ok_airbnb')\n",
    "sc_file = file_url.format('sc_airbnb')\n",
    "scz_file = file_url.format('scz_airbnb')"
   ]
  },
  {
   "cell_type": "code",
   "execution_count": 5,
   "metadata": {
    "ExecuteTime": {
     "end_time": "2018-09-17T08:19:27.724172Z",
     "start_time": "2018-09-17T08:19:20.923206Z"
    }
   },
   "outputs": [],
   "source": [
    "pricing_sf = pd.read_csv(sf_file, parse_dates=['date'])\n",
    "pricing_ok = pd.read_csv(ok_file, parse_dates=['date'])\n",
    "pricing_sc = pd.read_csv(sc_file, parse_dates=['date'])\n",
    "pricing_scz = pd.read_csv(scz_file, parse_dates=['date'])"
   ]
  },
  {
   "cell_type": "code",
   "execution_count": 6,
   "metadata": {
    "ExecuteTime": {
     "end_time": "2018-09-17T08:19:27.863976Z",
     "start_time": "2018-09-17T08:19:27.855601Z"
    }
   },
   "outputs": [
    {
     "name": "stdout",
     "output_type": "stream",
     "text": [
      "(2420680, 4) (1057770, 4) (2068820, 4) (573050, 4)\n"
     ]
    }
   ],
   "source": [
    "print(pricing_sf.shape, pricing_ok.shape, pricing_sc.shape, pricing_scz.shape)"
   ]
  },
  {
   "cell_type": "code",
   "execution_count": 7,
   "metadata": {
    "ExecuteTime": {
     "end_time": "2018-09-17T08:19:27.977316Z",
     "start_time": "2018-09-17T08:19:27.971774Z"
    }
   },
   "outputs": [],
   "source": [
    "frames = [pricing_sf, pricing_ok, pricing_sc, pricing_scz]\n",
    "keys = ['pricing_sf', 'pricing_ok', 'pricing_sc', 'pricing_scz']"
   ]
  },
  {
   "cell_type": "code",
   "execution_count": 8,
   "metadata": {
    "ExecuteTime": {
     "end_time": "2018-09-17T08:19:29.948862Z",
     "start_time": "2018-09-17T08:19:28.164038Z"
    }
   },
   "outputs": [],
   "source": [
    "df_pricing = pd.concat(frames, keys=keys)"
   ]
  },
  {
   "cell_type": "code",
   "execution_count": 9,
   "metadata": {
    "ExecuteTime": {
     "end_time": "2018-09-17T08:19:32.322609Z",
     "start_time": "2018-09-17T08:19:32.197690Z"
    }
   },
   "outputs": [
    {
     "data": {
      "text/plain": [
       "16768"
      ]
     },
     "execution_count": 9,
     "metadata": {},
     "output_type": "execute_result"
    }
   ],
   "source": [
    "df_pricing.listing_id.nunique()"
   ]
  },
  {
   "cell_type": "code",
   "execution_count": 10,
   "metadata": {
    "ExecuteTime": {
     "end_time": "2018-09-17T08:19:44.246437Z",
     "start_time": "2018-09-17T08:19:44.227343Z"
    }
   },
   "outputs": [
    {
     "data": {
      "text/html": [
       "<div>\n",
       "<style scoped>\n",
       "    .dataframe tbody tr th:only-of-type {\n",
       "        vertical-align: middle;\n",
       "    }\n",
       "\n",
       "    .dataframe tbody tr th {\n",
       "        vertical-align: top;\n",
       "    }\n",
       "\n",
       "    .dataframe thead th {\n",
       "        text-align: right;\n",
       "    }\n",
       "</style>\n",
       "<table border=\"1\" class=\"dataframe\">\n",
       "  <thead>\n",
       "    <tr style=\"text-align: right;\">\n",
       "      <th></th>\n",
       "      <th></th>\n",
       "      <th>listing_id</th>\n",
       "      <th>date</th>\n",
       "      <th>available</th>\n",
       "      <th>price</th>\n",
       "    </tr>\n",
       "  </thead>\n",
       "  <tbody>\n",
       "    <tr>\n",
       "      <th rowspan=\"20\" valign=\"top\">pricing_sf</th>\n",
       "      <th>0</th>\n",
       "      <td>958</td>\n",
       "      <td>2019-08-05</td>\n",
       "      <td>f</td>\n",
       "      <td>NaN</td>\n",
       "    </tr>\n",
       "    <tr>\n",
       "      <th>1</th>\n",
       "      <td>958</td>\n",
       "      <td>2019-08-04</td>\n",
       "      <td>f</td>\n",
       "      <td>NaN</td>\n",
       "    </tr>\n",
       "    <tr>\n",
       "      <th>2</th>\n",
       "      <td>958</td>\n",
       "      <td>2019-08-03</td>\n",
       "      <td>f</td>\n",
       "      <td>NaN</td>\n",
       "    </tr>\n",
       "    <tr>\n",
       "      <th>3</th>\n",
       "      <td>958</td>\n",
       "      <td>2019-08-02</td>\n",
       "      <td>f</td>\n",
       "      <td>NaN</td>\n",
       "    </tr>\n",
       "    <tr>\n",
       "      <th>4</th>\n",
       "      <td>958</td>\n",
       "      <td>2019-08-01</td>\n",
       "      <td>f</td>\n",
       "      <td>NaN</td>\n",
       "    </tr>\n",
       "    <tr>\n",
       "      <th>5</th>\n",
       "      <td>958</td>\n",
       "      <td>2019-07-31</td>\n",
       "      <td>f</td>\n",
       "      <td>NaN</td>\n",
       "    </tr>\n",
       "    <tr>\n",
       "      <th>6</th>\n",
       "      <td>958</td>\n",
       "      <td>2019-07-30</td>\n",
       "      <td>f</td>\n",
       "      <td>NaN</td>\n",
       "    </tr>\n",
       "    <tr>\n",
       "      <th>7</th>\n",
       "      <td>958</td>\n",
       "      <td>2019-07-29</td>\n",
       "      <td>f</td>\n",
       "      <td>NaN</td>\n",
       "    </tr>\n",
       "    <tr>\n",
       "      <th>8</th>\n",
       "      <td>958</td>\n",
       "      <td>2019-07-28</td>\n",
       "      <td>f</td>\n",
       "      <td>NaN</td>\n",
       "    </tr>\n",
       "    <tr>\n",
       "      <th>9</th>\n",
       "      <td>958</td>\n",
       "      <td>2019-07-27</td>\n",
       "      <td>f</td>\n",
       "      <td>NaN</td>\n",
       "    </tr>\n",
       "    <tr>\n",
       "      <th>10</th>\n",
       "      <td>958</td>\n",
       "      <td>2019-07-26</td>\n",
       "      <td>f</td>\n",
       "      <td>NaN</td>\n",
       "    </tr>\n",
       "    <tr>\n",
       "      <th>11</th>\n",
       "      <td>958</td>\n",
       "      <td>2019-07-25</td>\n",
       "      <td>f</td>\n",
       "      <td>NaN</td>\n",
       "    </tr>\n",
       "    <tr>\n",
       "      <th>12</th>\n",
       "      <td>958</td>\n",
       "      <td>2019-07-24</td>\n",
       "      <td>f</td>\n",
       "      <td>NaN</td>\n",
       "    </tr>\n",
       "    <tr>\n",
       "      <th>13</th>\n",
       "      <td>958</td>\n",
       "      <td>2019-07-23</td>\n",
       "      <td>f</td>\n",
       "      <td>NaN</td>\n",
       "    </tr>\n",
       "    <tr>\n",
       "      <th>14</th>\n",
       "      <td>958</td>\n",
       "      <td>2019-07-22</td>\n",
       "      <td>f</td>\n",
       "      <td>NaN</td>\n",
       "    </tr>\n",
       "    <tr>\n",
       "      <th>15</th>\n",
       "      <td>958</td>\n",
       "      <td>2019-07-21</td>\n",
       "      <td>f</td>\n",
       "      <td>NaN</td>\n",
       "    </tr>\n",
       "    <tr>\n",
       "      <th>16</th>\n",
       "      <td>958</td>\n",
       "      <td>2019-07-20</td>\n",
       "      <td>f</td>\n",
       "      <td>NaN</td>\n",
       "    </tr>\n",
       "    <tr>\n",
       "      <th>17</th>\n",
       "      <td>958</td>\n",
       "      <td>2019-07-19</td>\n",
       "      <td>f</td>\n",
       "      <td>NaN</td>\n",
       "    </tr>\n",
       "    <tr>\n",
       "      <th>18</th>\n",
       "      <td>958</td>\n",
       "      <td>2019-07-18</td>\n",
       "      <td>f</td>\n",
       "      <td>NaN</td>\n",
       "    </tr>\n",
       "    <tr>\n",
       "      <th>19</th>\n",
       "      <td>958</td>\n",
       "      <td>2019-07-17</td>\n",
       "      <td>f</td>\n",
       "      <td>NaN</td>\n",
       "    </tr>\n",
       "  </tbody>\n",
       "</table>\n",
       "</div>"
      ],
      "text/plain": [
       "               listing_id       date available price\n",
       "pricing_sf 0          958 2019-08-05         f   NaN\n",
       "           1          958 2019-08-04         f   NaN\n",
       "           2          958 2019-08-03         f   NaN\n",
       "           3          958 2019-08-02         f   NaN\n",
       "           4          958 2019-08-01         f   NaN\n",
       "           5          958 2019-07-31         f   NaN\n",
       "           6          958 2019-07-30         f   NaN\n",
       "           7          958 2019-07-29         f   NaN\n",
       "           8          958 2019-07-28         f   NaN\n",
       "           9          958 2019-07-27         f   NaN\n",
       "           10         958 2019-07-26         f   NaN\n",
       "           11         958 2019-07-25         f   NaN\n",
       "           12         958 2019-07-24         f   NaN\n",
       "           13         958 2019-07-23         f   NaN\n",
       "           14         958 2019-07-22         f   NaN\n",
       "           15         958 2019-07-21         f   NaN\n",
       "           16         958 2019-07-20         f   NaN\n",
       "           17         958 2019-07-19         f   NaN\n",
       "           18         958 2019-07-18         f   NaN\n",
       "           19         958 2019-07-17         f   NaN"
      ]
     },
     "execution_count": 10,
     "metadata": {},
     "output_type": "execute_result"
    }
   ],
   "source": [
    "df_pricing.head(20)"
   ]
  },
  {
   "cell_type": "code",
   "execution_count": 11,
   "metadata": {
    "ExecuteTime": {
     "end_time": "2018-09-17T08:20:28.130563Z",
     "start_time": "2018-09-17T08:20:27.108171Z"
    }
   },
   "outputs": [],
   "source": [
    "# Filter down to houses that are available and have listing prices\n",
    "\n",
    "df_pricing_smaller = df_pricing[df_pricing['available']=='t']"
   ]
  },
  {
   "cell_type": "code",
   "execution_count": 12,
   "metadata": {
    "ExecuteTime": {
     "end_time": "2018-09-17T08:20:28.600362Z",
     "start_time": "2018-09-17T08:20:28.589203Z"
    }
   },
   "outputs": [
    {
     "data": {
      "text/plain": [
       "(2853357, 4)"
      ]
     },
     "execution_count": 12,
     "metadata": {},
     "output_type": "execute_result"
    }
   ],
   "source": [
    "df_pricing_smaller.shape"
   ]
  },
  {
   "cell_type": "code",
   "execution_count": 13,
   "metadata": {
    "ExecuteTime": {
     "end_time": "2018-09-17T08:20:29.936663Z",
     "start_time": "2018-09-17T08:20:29.890814Z"
    }
   },
   "outputs": [
    {
     "data": {
      "text/plain": [
       "14770"
      ]
     },
     "execution_count": 13,
     "metadata": {},
     "output_type": "execute_result"
    }
   ],
   "source": [
    "df_pricing_smaller.listing_id.nunique()"
   ]
  },
  {
   "cell_type": "code",
   "execution_count": 14,
   "metadata": {
    "ExecuteTime": {
     "end_time": "2018-09-17T08:20:35.568644Z",
     "start_time": "2018-09-17T08:20:35.425826Z"
    }
   },
   "outputs": [
    {
     "data": {
      "text/plain": [
       "count                 2853357\n",
       "unique                    389\n",
       "top       2018-11-03 00:00:00\n",
       "freq                    10393\n",
       "first     2018-08-06 00:00:00\n",
       "last      2019-08-29 00:00:00\n",
       "Name: date, dtype: object"
      ]
     },
     "execution_count": 14,
     "metadata": {},
     "output_type": "execute_result"
    }
   ],
   "source": [
    "df_pricing_smaller.date.describe(include='all')"
   ]
  },
  {
   "cell_type": "code",
   "execution_count": 15,
   "metadata": {
    "ExecuteTime": {
     "end_time": "2018-09-17T08:20:45.575239Z",
     "start_time": "2018-09-17T08:20:45.568703Z"
    }
   },
   "outputs": [
    {
     "data": {
      "text/plain": [
       "Index(['listing_id', 'date', 'available', 'price'], dtype='object')"
      ]
     },
     "execution_count": 15,
     "metadata": {},
     "output_type": "execute_result"
    }
   ],
   "source": [
    "df_pricing_smaller.columns"
   ]
  },
  {
   "cell_type": "code",
   "execution_count": 16,
   "metadata": {
    "ExecuteTime": {
     "end_time": "2018-09-17T08:20:46.237000Z",
     "start_time": "2018-09-17T08:20:46.231952Z"
    }
   },
   "outputs": [],
   "source": [
    "def currency_to_float(string):\n",
    "    \"\"\"\n",
    "    Convert currency to float\n",
    "    \"\"\"\n",
    "    float_ = float(str(string).strip('$').replace(',',''))\n",
    "    return float_"
   ]
  },
  {
   "cell_type": "code",
   "execution_count": 17,
   "metadata": {
    "ExecuteTime": {
     "end_time": "2018-09-17T08:20:53.006540Z",
     "start_time": "2018-09-17T08:20:47.879922Z"
    }
   },
   "outputs": [
    {
     "name": "stderr",
     "output_type": "stream",
     "text": [
      "/Users/xzhou/anaconda3/lib/python3.6/site-packages/ipykernel_launcher.py:3: SettingWithCopyWarning: \n",
      "A value is trying to be set on a copy of a slice from a DataFrame.\n",
      "Try using .loc[row_indexer,col_indexer] = value instead\n",
      "\n",
      "See the caveats in the documentation: http://pandas.pydata.org/pandas-docs/stable/indexing.html#indexing-view-versus-copy\n",
      "  This is separate from the ipykernel package so we can avoid doing imports until\n"
     ]
    }
   ],
   "source": [
    "# Convert price to float format\n",
    "\n",
    "df_pricing_smaller['price'] = df_pricing_smaller['price'].apply(lambda x: currency_to_float(x))"
   ]
  },
  {
   "cell_type": "code",
   "execution_count": 18,
   "metadata": {
    "ExecuteTime": {
     "end_time": "2018-09-17T08:20:55.818703Z",
     "start_time": "2018-09-17T08:20:55.516136Z"
    }
   },
   "outputs": [
    {
     "name": "stderr",
     "output_type": "stream",
     "text": [
      "/Users/xzhou/anaconda3/lib/python3.6/site-packages/ipykernel_launcher.py:3: SettingWithCopyWarning: \n",
      "A value is trying to be set on a copy of a slice from a DataFrame.\n",
      "Try using .loc[row_indexer,col_indexer] = value instead\n",
      "\n",
      "See the caveats in the documentation: http://pandas.pydata.org/pandas-docs/stable/indexing.html#indexing-view-versus-copy\n",
      "  This is separate from the ipykernel package so we can avoid doing imports until\n"
     ]
    }
   ],
   "source": [
    "# Add a month column based on date\n",
    "\n",
    "df_pricing_smaller['month'] = df_pricing_smaller['date'].dt.month"
   ]
  },
  {
   "cell_type": "code",
   "execution_count": 19,
   "metadata": {
    "ExecuteTime": {
     "end_time": "2018-09-17T08:20:56.657971Z",
     "start_time": "2018-09-17T08:20:56.341160Z"
    }
   },
   "outputs": [
    {
     "name": "stderr",
     "output_type": "stream",
     "text": [
      "/Users/xzhou/anaconda3/lib/python3.6/site-packages/ipykernel_launcher.py:3: SettingWithCopyWarning: \n",
      "A value is trying to be set on a copy of a slice from a DataFrame.\n",
      "Try using .loc[row_indexer,col_indexer] = value instead\n",
      "\n",
      "See the caveats in the documentation: http://pandas.pydata.org/pandas-docs/stable/indexing.html#indexing-view-versus-copy\n",
      "  This is separate from the ipykernel package so we can avoid doing imports until\n"
     ]
    }
   ],
   "source": [
    "# Add a day_of_week column based on Date. Use default format: Monday=0, Sunday=6\n",
    "\n",
    "df_pricing_smaller['day_of_week'] = df_pricing_smaller['date'].dt.weekday"
   ]
  },
  {
   "cell_type": "code",
   "execution_count": 20,
   "metadata": {
    "ExecuteTime": {
     "end_time": "2018-09-17T08:21:00.960262Z",
     "start_time": "2018-09-17T08:21:00.940824Z"
    }
   },
   "outputs": [
    {
     "data": {
      "text/html": [
       "<div>\n",
       "<style scoped>\n",
       "    .dataframe tbody tr th:only-of-type {\n",
       "        vertical-align: middle;\n",
       "    }\n",
       "\n",
       "    .dataframe tbody tr th {\n",
       "        vertical-align: top;\n",
       "    }\n",
       "\n",
       "    .dataframe thead th {\n",
       "        text-align: right;\n",
       "    }\n",
       "</style>\n",
       "<table border=\"1\" class=\"dataframe\">\n",
       "  <thead>\n",
       "    <tr style=\"text-align: right;\">\n",
       "      <th></th>\n",
       "      <th></th>\n",
       "      <th>listing_id</th>\n",
       "      <th>date</th>\n",
       "      <th>available</th>\n",
       "      <th>price</th>\n",
       "      <th>month</th>\n",
       "      <th>day_of_week</th>\n",
       "    </tr>\n",
       "  </thead>\n",
       "  <tbody>\n",
       "    <tr>\n",
       "      <th rowspan=\"5\" valign=\"top\">pricing_sf</th>\n",
       "      <th>63</th>\n",
       "      <td>958</td>\n",
       "      <td>2019-05-02</td>\n",
       "      <td>t</td>\n",
       "      <td>181.0</td>\n",
       "      <td>5</td>\n",
       "      <td>3</td>\n",
       "    </tr>\n",
       "    <tr>\n",
       "      <th>64</th>\n",
       "      <td>958</td>\n",
       "      <td>2019-05-01</td>\n",
       "      <td>t</td>\n",
       "      <td>181.0</td>\n",
       "      <td>5</td>\n",
       "      <td>2</td>\n",
       "    </tr>\n",
       "    <tr>\n",
       "      <th>65</th>\n",
       "      <td>958</td>\n",
       "      <td>2019-04-30</td>\n",
       "      <td>t</td>\n",
       "      <td>181.0</td>\n",
       "      <td>4</td>\n",
       "      <td>1</td>\n",
       "    </tr>\n",
       "    <tr>\n",
       "      <th>66</th>\n",
       "      <td>958</td>\n",
       "      <td>2019-04-29</td>\n",
       "      <td>t</td>\n",
       "      <td>181.0</td>\n",
       "      <td>4</td>\n",
       "      <td>0</td>\n",
       "    </tr>\n",
       "    <tr>\n",
       "      <th>67</th>\n",
       "      <td>958</td>\n",
       "      <td>2019-04-28</td>\n",
       "      <td>t</td>\n",
       "      <td>181.0</td>\n",
       "      <td>4</td>\n",
       "      <td>6</td>\n",
       "    </tr>\n",
       "  </tbody>\n",
       "</table>\n",
       "</div>"
      ],
      "text/plain": [
       "               listing_id       date available  price  month  day_of_week\n",
       "pricing_sf 63         958 2019-05-02         t  181.0      5            3\n",
       "           64         958 2019-05-01         t  181.0      5            2\n",
       "           65         958 2019-04-30         t  181.0      4            1\n",
       "           66         958 2019-04-29         t  181.0      4            0\n",
       "           67         958 2019-04-28         t  181.0      4            6"
      ]
     },
     "execution_count": 20,
     "metadata": {},
     "output_type": "execute_result"
    }
   ],
   "source": [
    "df_pricing_smaller.head()"
   ]
  },
  {
   "cell_type": "code",
   "execution_count": 21,
   "metadata": {
    "ExecuteTime": {
     "end_time": "2018-09-17T08:21:12.631976Z",
     "start_time": "2018-09-17T08:21:12.626042Z"
    }
   },
   "outputs": [
    {
     "data": {
      "text/plain": [
       "(2853357, 6)"
      ]
     },
     "execution_count": 21,
     "metadata": {},
     "output_type": "execute_result"
    }
   ],
   "source": [
    "df_pricing_smaller.shape"
   ]
  },
  {
   "cell_type": "code",
   "execution_count": 22,
   "metadata": {
    "ExecuteTime": {
     "end_time": "2018-09-17T08:21:16.042116Z",
     "start_time": "2018-09-17T08:21:14.210903Z"
    }
   },
   "outputs": [
    {
     "data": {
      "text/html": [
       "<div>\n",
       "<style scoped>\n",
       "    .dataframe tbody tr th:only-of-type {\n",
       "        vertical-align: middle;\n",
       "    }\n",
       "\n",
       "    .dataframe tbody tr th {\n",
       "        vertical-align: top;\n",
       "    }\n",
       "\n",
       "    .dataframe thead th {\n",
       "        text-align: right;\n",
       "    }\n",
       "</style>\n",
       "<table border=\"1\" class=\"dataframe\">\n",
       "  <thead>\n",
       "    <tr style=\"text-align: right;\">\n",
       "      <th></th>\n",
       "      <th>listing_id</th>\n",
       "      <th>date</th>\n",
       "      <th>available</th>\n",
       "      <th>price</th>\n",
       "      <th>month</th>\n",
       "      <th>day_of_week</th>\n",
       "    </tr>\n",
       "  </thead>\n",
       "  <tbody>\n",
       "    <tr>\n",
       "      <th>count</th>\n",
       "      <td>2.853357e+06</td>\n",
       "      <td>2853357</td>\n",
       "      <td>2853357</td>\n",
       "      <td>2.853357e+06</td>\n",
       "      <td>2.853357e+06</td>\n",
       "      <td>2.853357e+06</td>\n",
       "    </tr>\n",
       "    <tr>\n",
       "      <th>unique</th>\n",
       "      <td>NaN</td>\n",
       "      <td>389</td>\n",
       "      <td>1</td>\n",
       "      <td>NaN</td>\n",
       "      <td>NaN</td>\n",
       "      <td>NaN</td>\n",
       "    </tr>\n",
       "    <tr>\n",
       "      <th>top</th>\n",
       "      <td>NaN</td>\n",
       "      <td>2018-11-03 00:00:00</td>\n",
       "      <td>t</td>\n",
       "      <td>NaN</td>\n",
       "      <td>NaN</td>\n",
       "      <td>NaN</td>\n",
       "    </tr>\n",
       "    <tr>\n",
       "      <th>freq</th>\n",
       "      <td>NaN</td>\n",
       "      <td>10393</td>\n",
       "      <td>2853357</td>\n",
       "      <td>NaN</td>\n",
       "      <td>NaN</td>\n",
       "      <td>NaN</td>\n",
       "    </tr>\n",
       "    <tr>\n",
       "      <th>first</th>\n",
       "      <td>NaN</td>\n",
       "      <td>2018-08-06 00:00:00</td>\n",
       "      <td>NaN</td>\n",
       "      <td>NaN</td>\n",
       "      <td>NaN</td>\n",
       "      <td>NaN</td>\n",
       "    </tr>\n",
       "    <tr>\n",
       "      <th>last</th>\n",
       "      <td>NaN</td>\n",
       "      <td>2019-08-29 00:00:00</td>\n",
       "      <td>NaN</td>\n",
       "      <td>NaN</td>\n",
       "      <td>NaN</td>\n",
       "      <td>NaN</td>\n",
       "    </tr>\n",
       "    <tr>\n",
       "      <th>mean</th>\n",
       "      <td>1.405523e+07</td>\n",
       "      <td>NaN</td>\n",
       "      <td>NaN</td>\n",
       "      <td>2.132333e+02</td>\n",
       "      <td>6.571592e+00</td>\n",
       "      <td>2.988646e+00</td>\n",
       "    </tr>\n",
       "    <tr>\n",
       "      <th>std</th>\n",
       "      <td>8.563144e+06</td>\n",
       "      <td>NaN</td>\n",
       "      <td>NaN</td>\n",
       "      <td>7.035042e+02</td>\n",
       "      <td>3.629179e+00</td>\n",
       "      <td>2.003061e+00</td>\n",
       "    </tr>\n",
       "    <tr>\n",
       "      <th>min</th>\n",
       "      <td>9.580000e+02</td>\n",
       "      <td>NaN</td>\n",
       "      <td>NaN</td>\n",
       "      <td>1.000000e+01</td>\n",
       "      <td>1.000000e+00</td>\n",
       "      <td>0.000000e+00</td>\n",
       "    </tr>\n",
       "    <tr>\n",
       "      <th>25%</th>\n",
       "      <td>6.453774e+06</td>\n",
       "      <td>NaN</td>\n",
       "      <td>NaN</td>\n",
       "      <td>8.000000e+01</td>\n",
       "      <td>3.000000e+00</td>\n",
       "      <td>1.000000e+00</td>\n",
       "    </tr>\n",
       "    <tr>\n",
       "      <th>50%</th>\n",
       "      <td>1.469887e+07</td>\n",
       "      <td>NaN</td>\n",
       "      <td>NaN</td>\n",
       "      <td>1.350000e+02</td>\n",
       "      <td>7.000000e+00</td>\n",
       "      <td>3.000000e+00</td>\n",
       "    </tr>\n",
       "    <tr>\n",
       "      <th>75%</th>\n",
       "      <td>2.164699e+07</td>\n",
       "      <td>NaN</td>\n",
       "      <td>NaN</td>\n",
       "      <td>2.250000e+02</td>\n",
       "      <td>1.000000e+01</td>\n",
       "      <td>5.000000e+00</td>\n",
       "    </tr>\n",
       "    <tr>\n",
       "      <th>max</th>\n",
       "      <td>2.815247e+07</td>\n",
       "      <td>NaN</td>\n",
       "      <td>NaN</td>\n",
       "      <td>1.024520e+05</td>\n",
       "      <td>1.200000e+01</td>\n",
       "      <td>6.000000e+00</td>\n",
       "    </tr>\n",
       "  </tbody>\n",
       "</table>\n",
       "</div>"
      ],
      "text/plain": [
       "          listing_id                 date available         price  \\\n",
       "count   2.853357e+06              2853357   2853357  2.853357e+06   \n",
       "unique           NaN                  389         1           NaN   \n",
       "top              NaN  2018-11-03 00:00:00         t           NaN   \n",
       "freq             NaN                10393   2853357           NaN   \n",
       "first            NaN  2018-08-06 00:00:00       NaN           NaN   \n",
       "last             NaN  2019-08-29 00:00:00       NaN           NaN   \n",
       "mean    1.405523e+07                  NaN       NaN  2.132333e+02   \n",
       "std     8.563144e+06                  NaN       NaN  7.035042e+02   \n",
       "min     9.580000e+02                  NaN       NaN  1.000000e+01   \n",
       "25%     6.453774e+06                  NaN       NaN  8.000000e+01   \n",
       "50%     1.469887e+07                  NaN       NaN  1.350000e+02   \n",
       "75%     2.164699e+07                  NaN       NaN  2.250000e+02   \n",
       "max     2.815247e+07                  NaN       NaN  1.024520e+05   \n",
       "\n",
       "               month   day_of_week  \n",
       "count   2.853357e+06  2.853357e+06  \n",
       "unique           NaN           NaN  \n",
       "top              NaN           NaN  \n",
       "freq             NaN           NaN  \n",
       "first            NaN           NaN  \n",
       "last             NaN           NaN  \n",
       "mean    6.571592e+00  2.988646e+00  \n",
       "std     3.629179e+00  2.003061e+00  \n",
       "min     1.000000e+00  0.000000e+00  \n",
       "25%     3.000000e+00  1.000000e+00  \n",
       "50%     7.000000e+00  3.000000e+00  \n",
       "75%     1.000000e+01  5.000000e+00  \n",
       "max     1.200000e+01  6.000000e+00  "
      ]
     },
     "execution_count": 22,
     "metadata": {},
     "output_type": "execute_result"
    }
   ],
   "source": [
    "df_pricing_smaller.describe(include ='all')"
   ]
  },
  {
   "cell_type": "code",
   "execution_count": 23,
   "metadata": {
    "ExecuteTime": {
     "end_time": "2018-09-17T08:21:40.387129Z",
     "start_time": "2018-09-17T08:21:39.781859Z"
    }
   },
   "outputs": [
    {
     "data": {
      "text/html": [
       "<div>\n",
       "<style scoped>\n",
       "    .dataframe tbody tr th:only-of-type {\n",
       "        vertical-align: middle;\n",
       "    }\n",
       "\n",
       "    .dataframe tbody tr th {\n",
       "        vertical-align: top;\n",
       "    }\n",
       "\n",
       "    .dataframe thead th {\n",
       "        text-align: right;\n",
       "    }\n",
       "</style>\n",
       "<table border=\"1\" class=\"dataframe\">\n",
       "  <thead>\n",
       "    <tr style=\"text-align: right;\">\n",
       "      <th></th>\n",
       "      <th>listing_id</th>\n",
       "      <th>month_count</th>\n",
       "    </tr>\n",
       "  </thead>\n",
       "  <tbody>\n",
       "    <tr>\n",
       "      <th>0</th>\n",
       "      <td>958</td>\n",
       "      <td>10</td>\n",
       "    </tr>\n",
       "    <tr>\n",
       "      <th>1</th>\n",
       "      <td>3083</td>\n",
       "      <td>5</td>\n",
       "    </tr>\n",
       "    <tr>\n",
       "      <th>2</th>\n",
       "      <td>3264</td>\n",
       "      <td>3</td>\n",
       "    </tr>\n",
       "    <tr>\n",
       "      <th>3</th>\n",
       "      <td>5739</td>\n",
       "      <td>2</td>\n",
       "    </tr>\n",
       "    <tr>\n",
       "      <th>4</th>\n",
       "      <td>5858</td>\n",
       "      <td>12</td>\n",
       "    </tr>\n",
       "  </tbody>\n",
       "</table>\n",
       "</div>"
      ],
      "text/plain": [
       "   listing_id  month_count\n",
       "0         958           10\n",
       "1        3083            5\n",
       "2        3264            3\n",
       "3        5739            2\n",
       "4        5858           12"
      ]
     },
     "execution_count": 23,
     "metadata": {},
     "output_type": "execute_result"
    }
   ],
   "source": [
    "# Count how many months each house was listed in the last year\n",
    "\n",
    "df_month_count = df_pricing_smaller.groupby(['listing_id']).month.nunique().reset_index()\n",
    "df_month_count.rename(columns={'month':'month_count'}, inplace=True)\n",
    "df_month_count.head()"
   ]
  },
  {
   "cell_type": "code",
   "execution_count": 24,
   "metadata": {
    "ExecuteTime": {
     "end_time": "2018-09-17T08:21:50.027495Z",
     "start_time": "2018-09-17T08:21:49.593252Z"
    }
   },
   "outputs": [
    {
     "data": {
      "text/html": [
       "<div>\n",
       "<style scoped>\n",
       "    .dataframe tbody tr th:only-of-type {\n",
       "        vertical-align: middle;\n",
       "    }\n",
       "\n",
       "    .dataframe tbody tr th {\n",
       "        vertical-align: top;\n",
       "    }\n",
       "\n",
       "    .dataframe thead th {\n",
       "        text-align: right;\n",
       "    }\n",
       "</style>\n",
       "<table border=\"1\" class=\"dataframe\">\n",
       "  <thead>\n",
       "    <tr style=\"text-align: right;\">\n",
       "      <th></th>\n",
       "      <th>listing_id</th>\n",
       "      <th>day_of_week_count</th>\n",
       "    </tr>\n",
       "  </thead>\n",
       "  <tbody>\n",
       "    <tr>\n",
       "      <th>0</th>\n",
       "      <td>958</td>\n",
       "      <td>7</td>\n",
       "    </tr>\n",
       "    <tr>\n",
       "      <th>1</th>\n",
       "      <td>3083</td>\n",
       "      <td>7</td>\n",
       "    </tr>\n",
       "    <tr>\n",
       "      <th>2</th>\n",
       "      <td>3264</td>\n",
       "      <td>7</td>\n",
       "    </tr>\n",
       "    <tr>\n",
       "      <th>3</th>\n",
       "      <td>5739</td>\n",
       "      <td>7</td>\n",
       "    </tr>\n",
       "    <tr>\n",
       "      <th>4</th>\n",
       "      <td>5858</td>\n",
       "      <td>7</td>\n",
       "    </tr>\n",
       "  </tbody>\n",
       "</table>\n",
       "</div>"
      ],
      "text/plain": [
       "   listing_id  day_of_week_count\n",
       "0         958                  7\n",
       "1        3083                  7\n",
       "2        3264                  7\n",
       "3        5739                  7\n",
       "4        5858                  7"
      ]
     },
     "execution_count": 24,
     "metadata": {},
     "output_type": "execute_result"
    }
   ],
   "source": [
    "# Count how many days of week each house was listed in the last year\n",
    "\n",
    "df_day_of_week_count = df_pricing_smaller.groupby(['listing_id']).day_of_week.nunique().reset_index()\n",
    "df_day_of_week_count.rename(columns={'day_of_week':'day_of_week_count'}, inplace=True)\n",
    "df_day_of_week_count.head()"
   ]
  },
  {
   "cell_type": "code",
   "execution_count": 25,
   "metadata": {
    "ExecuteTime": {
     "end_time": "2018-09-17T08:22:06.647802Z",
     "start_time": "2018-09-17T08:22:06.047113Z"
    }
   },
   "outputs": [
    {
     "data": {
      "text/html": [
       "<div>\n",
       "<style scoped>\n",
       "    .dataframe tbody tr th:only-of-type {\n",
       "        vertical-align: middle;\n",
       "    }\n",
       "\n",
       "    .dataframe tbody tr th {\n",
       "        vertical-align: top;\n",
       "    }\n",
       "\n",
       "    .dataframe thead th {\n",
       "        text-align: right;\n",
       "    }\n",
       "</style>\n",
       "<table border=\"1\" class=\"dataframe\">\n",
       "  <thead>\n",
       "    <tr style=\"text-align: right;\">\n",
       "      <th></th>\n",
       "      <th>listing_id</th>\n",
       "      <th>date</th>\n",
       "      <th>available</th>\n",
       "      <th>price</th>\n",
       "      <th>month</th>\n",
       "      <th>day_of_week</th>\n",
       "      <th>month_count</th>\n",
       "    </tr>\n",
       "  </thead>\n",
       "  <tbody>\n",
       "    <tr>\n",
       "      <th>0</th>\n",
       "      <td>958</td>\n",
       "      <td>2019-05-02</td>\n",
       "      <td>t</td>\n",
       "      <td>181.0</td>\n",
       "      <td>5</td>\n",
       "      <td>3</td>\n",
       "      <td>10</td>\n",
       "    </tr>\n",
       "    <tr>\n",
       "      <th>1</th>\n",
       "      <td>958</td>\n",
       "      <td>2019-05-01</td>\n",
       "      <td>t</td>\n",
       "      <td>181.0</td>\n",
       "      <td>5</td>\n",
       "      <td>2</td>\n",
       "      <td>10</td>\n",
       "    </tr>\n",
       "    <tr>\n",
       "      <th>2</th>\n",
       "      <td>958</td>\n",
       "      <td>2019-04-30</td>\n",
       "      <td>t</td>\n",
       "      <td>181.0</td>\n",
       "      <td>4</td>\n",
       "      <td>1</td>\n",
       "      <td>10</td>\n",
       "    </tr>\n",
       "    <tr>\n",
       "      <th>3</th>\n",
       "      <td>958</td>\n",
       "      <td>2019-04-29</td>\n",
       "      <td>t</td>\n",
       "      <td>181.0</td>\n",
       "      <td>4</td>\n",
       "      <td>0</td>\n",
       "      <td>10</td>\n",
       "    </tr>\n",
       "    <tr>\n",
       "      <th>4</th>\n",
       "      <td>958</td>\n",
       "      <td>2019-04-28</td>\n",
       "      <td>t</td>\n",
       "      <td>181.0</td>\n",
       "      <td>4</td>\n",
       "      <td>6</td>\n",
       "      <td>10</td>\n",
       "    </tr>\n",
       "  </tbody>\n",
       "</table>\n",
       "</div>"
      ],
      "text/plain": [
       "   listing_id       date available  price  month  day_of_week  month_count\n",
       "0         958 2019-05-02         t  181.0      5            3           10\n",
       "1         958 2019-05-01         t  181.0      5            2           10\n",
       "2         958 2019-04-30         t  181.0      4            1           10\n",
       "3         958 2019-04-29         t  181.0      4            0           10\n",
       "4         958 2019-04-28         t  181.0      4            6           10"
      ]
     },
     "execution_count": 25,
     "metadata": {},
     "output_type": "execute_result"
    }
   ],
   "source": [
    "df_pricing_with_counts = pd.merge(left=df_pricing_smaller, \n",
    "                                  right=df_month_count,\n",
    "                                  how='left', \n",
    "                                  left_on='listing_id', \n",
    "                                  right_on='listing_id')\n",
    "df_pricing_with_counts.head()"
   ]
  },
  {
   "cell_type": "code",
   "execution_count": 27,
   "metadata": {
    "ExecuteTime": {
     "end_time": "2018-09-17T08:22:13.200971Z",
     "start_time": "2018-09-17T08:22:12.472872Z"
    }
   },
   "outputs": [
    {
     "data": {
      "text/html": [
       "<div>\n",
       "<style scoped>\n",
       "    .dataframe tbody tr th:only-of-type {\n",
       "        vertical-align: middle;\n",
       "    }\n",
       "\n",
       "    .dataframe tbody tr th {\n",
       "        vertical-align: top;\n",
       "    }\n",
       "\n",
       "    .dataframe thead th {\n",
       "        text-align: right;\n",
       "    }\n",
       "</style>\n",
       "<table border=\"1\" class=\"dataframe\">\n",
       "  <thead>\n",
       "    <tr style=\"text-align: right;\">\n",
       "      <th></th>\n",
       "      <th>listing_id</th>\n",
       "      <th>date</th>\n",
       "      <th>available</th>\n",
       "      <th>price</th>\n",
       "      <th>month</th>\n",
       "      <th>day_of_week</th>\n",
       "      <th>month_count</th>\n",
       "      <th>day_of_week_count</th>\n",
       "    </tr>\n",
       "  </thead>\n",
       "  <tbody>\n",
       "    <tr>\n",
       "      <th>0</th>\n",
       "      <td>958</td>\n",
       "      <td>2019-05-02</td>\n",
       "      <td>t</td>\n",
       "      <td>181.0</td>\n",
       "      <td>5</td>\n",
       "      <td>3</td>\n",
       "      <td>10</td>\n",
       "      <td>7</td>\n",
       "    </tr>\n",
       "    <tr>\n",
       "      <th>1</th>\n",
       "      <td>958</td>\n",
       "      <td>2019-05-01</td>\n",
       "      <td>t</td>\n",
       "      <td>181.0</td>\n",
       "      <td>5</td>\n",
       "      <td>2</td>\n",
       "      <td>10</td>\n",
       "      <td>7</td>\n",
       "    </tr>\n",
       "    <tr>\n",
       "      <th>2</th>\n",
       "      <td>958</td>\n",
       "      <td>2019-04-30</td>\n",
       "      <td>t</td>\n",
       "      <td>181.0</td>\n",
       "      <td>4</td>\n",
       "      <td>1</td>\n",
       "      <td>10</td>\n",
       "      <td>7</td>\n",
       "    </tr>\n",
       "    <tr>\n",
       "      <th>3</th>\n",
       "      <td>958</td>\n",
       "      <td>2019-04-29</td>\n",
       "      <td>t</td>\n",
       "      <td>181.0</td>\n",
       "      <td>4</td>\n",
       "      <td>0</td>\n",
       "      <td>10</td>\n",
       "      <td>7</td>\n",
       "    </tr>\n",
       "    <tr>\n",
       "      <th>4</th>\n",
       "      <td>958</td>\n",
       "      <td>2019-04-28</td>\n",
       "      <td>t</td>\n",
       "      <td>181.0</td>\n",
       "      <td>4</td>\n",
       "      <td>6</td>\n",
       "      <td>10</td>\n",
       "      <td>7</td>\n",
       "    </tr>\n",
       "  </tbody>\n",
       "</table>\n",
       "</div>"
      ],
      "text/plain": [
       "   listing_id       date available  price  month  day_of_week  month_count  \\\n",
       "0         958 2019-05-02         t  181.0      5            3           10   \n",
       "1         958 2019-05-01         t  181.0      5            2           10   \n",
       "2         958 2019-04-30         t  181.0      4            1           10   \n",
       "3         958 2019-04-29         t  181.0      4            0           10   \n",
       "4         958 2019-04-28         t  181.0      4            6           10   \n",
       "\n",
       "   day_of_week_count  \n",
       "0                  7  \n",
       "1                  7  \n",
       "2                  7  \n",
       "3                  7  \n",
       "4                  7  "
      ]
     },
     "execution_count": 27,
     "metadata": {},
     "output_type": "execute_result"
    }
   ],
   "source": [
    "df_pricing_with_counts = pd.merge(left=df_pricing_with_counts, \n",
    "                                  right=df_day_of_week_count,\n",
    "                                  how='left', \n",
    "                                  left_on='listing_id', \n",
    "                                  right_on='listing_id')\n",
    "df_pricing_with_counts.head()"
   ]
  },
  {
   "cell_type": "code",
   "execution_count": 29,
   "metadata": {
    "ExecuteTime": {
     "end_time": "2018-09-17T08:22:23.817358Z",
     "start_time": "2018-09-17T08:22:22.544659Z"
    }
   },
   "outputs": [
    {
     "data": {
      "text/html": [
       "<div>\n",
       "<style scoped>\n",
       "    .dataframe tbody tr th:only-of-type {\n",
       "        vertical-align: middle;\n",
       "    }\n",
       "\n",
       "    .dataframe tbody tr th {\n",
       "        vertical-align: top;\n",
       "    }\n",
       "\n",
       "    .dataframe thead th {\n",
       "        text-align: right;\n",
       "    }\n",
       "</style>\n",
       "<table border=\"1\" class=\"dataframe\">\n",
       "  <thead>\n",
       "    <tr style=\"text-align: right;\">\n",
       "      <th></th>\n",
       "      <th>listing_id</th>\n",
       "      <th>date</th>\n",
       "      <th>available</th>\n",
       "      <th>price</th>\n",
       "      <th>month</th>\n",
       "      <th>day_of_week</th>\n",
       "      <th>month_count</th>\n",
       "      <th>day_of_week_count</th>\n",
       "    </tr>\n",
       "  </thead>\n",
       "  <tbody>\n",
       "    <tr>\n",
       "      <th>count</th>\n",
       "      <td>2.853357e+06</td>\n",
       "      <td>2853357</td>\n",
       "      <td>2853357</td>\n",
       "      <td>2.853357e+06</td>\n",
       "      <td>2.853357e+06</td>\n",
       "      <td>2.853357e+06</td>\n",
       "      <td>2.853357e+06</td>\n",
       "      <td>2.853357e+06</td>\n",
       "    </tr>\n",
       "    <tr>\n",
       "      <th>unique</th>\n",
       "      <td>NaN</td>\n",
       "      <td>389</td>\n",
       "      <td>1</td>\n",
       "      <td>NaN</td>\n",
       "      <td>NaN</td>\n",
       "      <td>NaN</td>\n",
       "      <td>NaN</td>\n",
       "      <td>NaN</td>\n",
       "    </tr>\n",
       "    <tr>\n",
       "      <th>top</th>\n",
       "      <td>NaN</td>\n",
       "      <td>2018-11-03 00:00:00</td>\n",
       "      <td>t</td>\n",
       "      <td>NaN</td>\n",
       "      <td>NaN</td>\n",
       "      <td>NaN</td>\n",
       "      <td>NaN</td>\n",
       "      <td>NaN</td>\n",
       "    </tr>\n",
       "    <tr>\n",
       "      <th>freq</th>\n",
       "      <td>NaN</td>\n",
       "      <td>10393</td>\n",
       "      <td>2853357</td>\n",
       "      <td>NaN</td>\n",
       "      <td>NaN</td>\n",
       "      <td>NaN</td>\n",
       "      <td>NaN</td>\n",
       "      <td>NaN</td>\n",
       "    </tr>\n",
       "    <tr>\n",
       "      <th>first</th>\n",
       "      <td>NaN</td>\n",
       "      <td>2018-08-06 00:00:00</td>\n",
       "      <td>NaN</td>\n",
       "      <td>NaN</td>\n",
       "      <td>NaN</td>\n",
       "      <td>NaN</td>\n",
       "      <td>NaN</td>\n",
       "      <td>NaN</td>\n",
       "    </tr>\n",
       "    <tr>\n",
       "      <th>last</th>\n",
       "      <td>NaN</td>\n",
       "      <td>2019-08-29 00:00:00</td>\n",
       "      <td>NaN</td>\n",
       "      <td>NaN</td>\n",
       "      <td>NaN</td>\n",
       "      <td>NaN</td>\n",
       "      <td>NaN</td>\n",
       "      <td>NaN</td>\n",
       "    </tr>\n",
       "    <tr>\n",
       "      <th>mean</th>\n",
       "      <td>1.405523e+07</td>\n",
       "      <td>NaN</td>\n",
       "      <td>NaN</td>\n",
       "      <td>2.132333e+02</td>\n",
       "      <td>6.571592e+00</td>\n",
       "      <td>2.988646e+00</td>\n",
       "      <td>1.020866e+01</td>\n",
       "      <td>6.995392e+00</td>\n",
       "    </tr>\n",
       "    <tr>\n",
       "      <th>std</th>\n",
       "      <td>8.563144e+06</td>\n",
       "      <td>NaN</td>\n",
       "      <td>NaN</td>\n",
       "      <td>7.035042e+02</td>\n",
       "      <td>3.629179e+00</td>\n",
       "      <td>2.003061e+00</td>\n",
       "      <td>2.696574e+00</td>\n",
       "      <td>1.206497e-01</td>\n",
       "    </tr>\n",
       "    <tr>\n",
       "      <th>min</th>\n",
       "      <td>9.580000e+02</td>\n",
       "      <td>NaN</td>\n",
       "      <td>NaN</td>\n",
       "      <td>1.000000e+01</td>\n",
       "      <td>1.000000e+00</td>\n",
       "      <td>0.000000e+00</td>\n",
       "      <td>1.000000e+00</td>\n",
       "      <td>1.000000e+00</td>\n",
       "    </tr>\n",
       "    <tr>\n",
       "      <th>25%</th>\n",
       "      <td>6.453774e+06</td>\n",
       "      <td>NaN</td>\n",
       "      <td>NaN</td>\n",
       "      <td>8.000000e+01</td>\n",
       "      <td>3.000000e+00</td>\n",
       "      <td>1.000000e+00</td>\n",
       "      <td>9.000000e+00</td>\n",
       "      <td>7.000000e+00</td>\n",
       "    </tr>\n",
       "    <tr>\n",
       "      <th>50%</th>\n",
       "      <td>1.469887e+07</td>\n",
       "      <td>NaN</td>\n",
       "      <td>NaN</td>\n",
       "      <td>1.350000e+02</td>\n",
       "      <td>7.000000e+00</td>\n",
       "      <td>3.000000e+00</td>\n",
       "      <td>1.200000e+01</td>\n",
       "      <td>7.000000e+00</td>\n",
       "    </tr>\n",
       "    <tr>\n",
       "      <th>75%</th>\n",
       "      <td>2.164699e+07</td>\n",
       "      <td>NaN</td>\n",
       "      <td>NaN</td>\n",
       "      <td>2.250000e+02</td>\n",
       "      <td>1.000000e+01</td>\n",
       "      <td>5.000000e+00</td>\n",
       "      <td>1.200000e+01</td>\n",
       "      <td>7.000000e+00</td>\n",
       "    </tr>\n",
       "    <tr>\n",
       "      <th>max</th>\n",
       "      <td>2.815247e+07</td>\n",
       "      <td>NaN</td>\n",
       "      <td>NaN</td>\n",
       "      <td>1.024520e+05</td>\n",
       "      <td>1.200000e+01</td>\n",
       "      <td>6.000000e+00</td>\n",
       "      <td>1.200000e+01</td>\n",
       "      <td>7.000000e+00</td>\n",
       "    </tr>\n",
       "  </tbody>\n",
       "</table>\n",
       "</div>"
      ],
      "text/plain": [
       "          listing_id                 date available         price  \\\n",
       "count   2.853357e+06              2853357   2853357  2.853357e+06   \n",
       "unique           NaN                  389         1           NaN   \n",
       "top              NaN  2018-11-03 00:00:00         t           NaN   \n",
       "freq             NaN                10393   2853357           NaN   \n",
       "first            NaN  2018-08-06 00:00:00       NaN           NaN   \n",
       "last             NaN  2019-08-29 00:00:00       NaN           NaN   \n",
       "mean    1.405523e+07                  NaN       NaN  2.132333e+02   \n",
       "std     8.563144e+06                  NaN       NaN  7.035042e+02   \n",
       "min     9.580000e+02                  NaN       NaN  1.000000e+01   \n",
       "25%     6.453774e+06                  NaN       NaN  8.000000e+01   \n",
       "50%     1.469887e+07                  NaN       NaN  1.350000e+02   \n",
       "75%     2.164699e+07                  NaN       NaN  2.250000e+02   \n",
       "max     2.815247e+07                  NaN       NaN  1.024520e+05   \n",
       "\n",
       "               month   day_of_week   month_count  day_of_week_count  \n",
       "count   2.853357e+06  2.853357e+06  2.853357e+06       2.853357e+06  \n",
       "unique           NaN           NaN           NaN                NaN  \n",
       "top              NaN           NaN           NaN                NaN  \n",
       "freq             NaN           NaN           NaN                NaN  \n",
       "first            NaN           NaN           NaN                NaN  \n",
       "last             NaN           NaN           NaN                NaN  \n",
       "mean    6.571592e+00  2.988646e+00  1.020866e+01       6.995392e+00  \n",
       "std     3.629179e+00  2.003061e+00  2.696574e+00       1.206497e-01  \n",
       "min     1.000000e+00  0.000000e+00  1.000000e+00       1.000000e+00  \n",
       "25%     3.000000e+00  1.000000e+00  9.000000e+00       7.000000e+00  \n",
       "50%     7.000000e+00  3.000000e+00  1.200000e+01       7.000000e+00  \n",
       "75%     1.000000e+01  5.000000e+00  1.200000e+01       7.000000e+00  \n",
       "max     1.200000e+01  6.000000e+00  1.200000e+01       7.000000e+00  "
      ]
     },
     "execution_count": 29,
     "metadata": {},
     "output_type": "execute_result"
    }
   ],
   "source": [
    "df_pricing_with_counts.describe(include='all')"
   ]
  },
  {
   "cell_type": "code",
   "execution_count": 30,
   "metadata": {
    "ExecuteTime": {
     "end_time": "2018-09-17T08:22:28.067654Z",
     "start_time": "2018-09-17T08:22:27.815783Z"
    }
   },
   "outputs": [
    {
     "data": {
      "text/plain": [
       "count    2.853357e+06\n",
       "mean     2.132333e+02\n",
       "std      7.035042e+02\n",
       "min      1.000000e+01\n",
       "5%       4.100000e+01\n",
       "10%      5.400000e+01\n",
       "25%      8.000000e+01\n",
       "50%      1.350000e+02\n",
       "75%      2.250000e+02\n",
       "90%      3.850000e+02\n",
       "95%      5.500000e+02\n",
       "max      1.024520e+05\n",
       "Name: price, dtype: float64"
      ]
     },
     "execution_count": 30,
     "metadata": {},
     "output_type": "execute_result"
    }
   ],
   "source": [
    "df_pricing_with_counts.price.describe(percentiles=[0.05, 0.1, 0.25, 0.5, 0.75, 0.9, 0.95])"
   ]
  },
  {
   "cell_type": "code",
   "execution_count": 31,
   "metadata": {
    "ExecuteTime": {
     "end_time": "2018-09-17T08:23:22.082882Z",
     "start_time": "2018-09-17T08:23:21.633723Z"
    }
   },
   "outputs": [],
   "source": [
    "# Remove outliers for pricing. Use 5% and 95% percentiles as cutoff\n",
    "\n",
    "df_pricing_with_counts = df_pricing_with_counts[(df_pricing_with_counts.price>=40)\n",
    "                                                & (df_pricing_with_counts.price<=550)]"
   ]
  },
  {
   "cell_type": "code",
   "execution_count": 32,
   "metadata": {
    "ExecuteTime": {
     "end_time": "2018-09-17T08:23:23.694245Z",
     "start_time": "2018-09-17T08:23:23.688710Z"
    }
   },
   "outputs": [
    {
     "data": {
      "text/plain": [
       "(2599154, 8)"
      ]
     },
     "execution_count": 32,
     "metadata": {},
     "output_type": "execute_result"
    }
   ],
   "source": [
    "df_pricing_with_counts.shape"
   ]
  },
  {
   "cell_type": "code",
   "execution_count": 33,
   "metadata": {
    "ExecuteTime": {
     "end_time": "2018-09-17T08:24:42.489366Z",
     "start_time": "2018-09-17T08:24:42.327310Z"
    }
   },
   "outputs": [],
   "source": [
    "# Drill down to houses that price available in 12 months and 7 days a week\n",
    "\n",
    "df_pricing_available = df_pricing_with_counts[\n",
    "                                              (df_pricing_with_counts['month_count']==12)\n",
    "                                              & (df_pricing_with_counts['day_of_week_count']==7)\n",
    "                                             ]"
   ]
  },
  {
   "cell_type": "code",
   "execution_count": 34,
   "metadata": {
    "ExecuteTime": {
     "end_time": "2018-09-17T08:24:43.044955Z",
     "start_time": "2018-09-17T08:24:43.039773Z"
    }
   },
   "outputs": [
    {
     "data": {
      "text/plain": [
       "(1497091, 8)"
      ]
     },
     "execution_count": 34,
     "metadata": {},
     "output_type": "execute_result"
    }
   ],
   "source": [
    "df_pricing_available.shape"
   ]
  },
  {
   "cell_type": "code",
   "execution_count": 35,
   "metadata": {
    "ExecuteTime": {
     "end_time": "2018-09-17T08:24:48.004915Z",
     "start_time": "2018-09-17T08:24:47.987352Z"
    }
   },
   "outputs": [
    {
     "data": {
      "text/plain": [
       "4582"
      ]
     },
     "execution_count": 35,
     "metadata": {},
     "output_type": "execute_result"
    }
   ],
   "source": [
    "df_pricing_available.listing_id.nunique()"
   ]
  },
  {
   "cell_type": "code",
   "execution_count": 36,
   "metadata": {
    "ExecuteTime": {
     "end_time": "2018-09-17T08:24:51.986212Z",
     "start_time": "2018-09-17T08:24:51.663323Z"
    }
   },
   "outputs": [
    {
     "data": {
      "text/plain": [
       "listing_id           0\n",
       "date                 0\n",
       "available            0\n",
       "price                0\n",
       "month                0\n",
       "day_of_week          0\n",
       "month_count          0\n",
       "day_of_week_count    0\n",
       "dtype: int64"
      ]
     },
     "execution_count": 36,
     "metadata": {},
     "output_type": "execute_result"
    }
   ],
   "source": [
    "df_pricing_available.isnull().sum()"
   ]
  },
  {
   "cell_type": "code",
   "execution_count": 37,
   "metadata": {
    "ExecuteTime": {
     "end_time": "2018-09-17T08:26:07.704921Z",
     "start_time": "2018-09-17T08:26:07.375655Z"
    }
   },
   "outputs": [
    {
     "data": {
      "text/html": [
       "<div>\n",
       "<style scoped>\n",
       "    .dataframe tbody tr th:only-of-type {\n",
       "        vertical-align: middle;\n",
       "    }\n",
       "\n",
       "    .dataframe tbody tr th {\n",
       "        vertical-align: top;\n",
       "    }\n",
       "\n",
       "    .dataframe thead th {\n",
       "        text-align: right;\n",
       "    }\n",
       "</style>\n",
       "<table border=\"1\" class=\"dataframe\">\n",
       "  <thead>\n",
       "    <tr style=\"text-align: right;\">\n",
       "      <th></th>\n",
       "      <th>listing_id</th>\n",
       "      <th>month</th>\n",
       "      <th>day_of_week</th>\n",
       "      <th>price</th>\n",
       "    </tr>\n",
       "  </thead>\n",
       "  <tbody>\n",
       "    <tr>\n",
       "      <th>0</th>\n",
       "      <td>5858</td>\n",
       "      <td>1</td>\n",
       "      <td>0</td>\n",
       "      <td>235.0</td>\n",
       "    </tr>\n",
       "    <tr>\n",
       "      <th>1</th>\n",
       "      <td>5858</td>\n",
       "      <td>1</td>\n",
       "      <td>1</td>\n",
       "      <td>235.0</td>\n",
       "    </tr>\n",
       "    <tr>\n",
       "      <th>2</th>\n",
       "      <td>5858</td>\n",
       "      <td>1</td>\n",
       "      <td>2</td>\n",
       "      <td>235.0</td>\n",
       "    </tr>\n",
       "    <tr>\n",
       "      <th>3</th>\n",
       "      <td>5858</td>\n",
       "      <td>1</td>\n",
       "      <td>3</td>\n",
       "      <td>235.0</td>\n",
       "    </tr>\n",
       "    <tr>\n",
       "      <th>4</th>\n",
       "      <td>5858</td>\n",
       "      <td>1</td>\n",
       "      <td>4</td>\n",
       "      <td>235.0</td>\n",
       "    </tr>\n",
       "  </tbody>\n",
       "</table>\n",
       "</div>"
      ],
      "text/plain": [
       "   listing_id  month  day_of_week  price\n",
       "0        5858      1            0  235.0\n",
       "1        5858      1            1  235.0\n",
       "2        5858      1            2  235.0\n",
       "3        5858      1            3  235.0\n",
       "4        5858      1            4  235.0"
      ]
     },
     "execution_count": 37,
     "metadata": {},
     "output_type": "execute_result"
    }
   ],
   "source": [
    "# Group by month by weekday, and calculate an average pricing\n",
    "\n",
    "df_pricing_by_month_weekday = df_pricing_available.groupby(['listing_id', 'month', 'day_of_week']) \\\n",
    "                              .price.mean()  \\\n",
    "                              .reset_index()\n",
    "df_pricing_by_month_weekday.head()"
   ]
  },
  {
   "cell_type": "code",
   "execution_count": 38,
   "metadata": {
    "ExecuteTime": {
     "end_time": "2018-09-17T08:26:18.434517Z",
     "start_time": "2018-09-17T08:26:18.320102Z"
    }
   },
   "outputs": [
    {
     "data": {
      "text/html": [
       "<div>\n",
       "<style scoped>\n",
       "    .dataframe tbody tr th:only-of-type {\n",
       "        vertical-align: middle;\n",
       "    }\n",
       "\n",
       "    .dataframe tbody tr th {\n",
       "        vertical-align: top;\n",
       "    }\n",
       "\n",
       "    .dataframe thead th {\n",
       "        text-align: right;\n",
       "    }\n",
       "</style>\n",
       "<table border=\"1\" class=\"dataframe\">\n",
       "  <thead>\n",
       "    <tr style=\"text-align: right;\">\n",
       "      <th></th>\n",
       "      <th>listing_id</th>\n",
       "      <th>month</th>\n",
       "      <th>day_of_week</th>\n",
       "      <th>price</th>\n",
       "    </tr>\n",
       "  </thead>\n",
       "  <tbody>\n",
       "    <tr>\n",
       "      <th>count</th>\n",
       "      <td>3.708570e+05</td>\n",
       "      <td>370857.000000</td>\n",
       "      <td>370857.000000</td>\n",
       "      <td>370857.000000</td>\n",
       "    </tr>\n",
       "    <tr>\n",
       "      <th>mean</th>\n",
       "      <td>1.350731e+07</td>\n",
       "      <td>6.455588</td>\n",
       "      <td>3.004762</td>\n",
       "      <td>165.770394</td>\n",
       "    </tr>\n",
       "    <tr>\n",
       "      <th>std</th>\n",
       "      <td>8.696651e+06</td>\n",
       "      <td>3.462933</td>\n",
       "      <td>2.003016</td>\n",
       "      <td>107.889496</td>\n",
       "    </tr>\n",
       "    <tr>\n",
       "      <th>min</th>\n",
       "      <td>5.858000e+03</td>\n",
       "      <td>1.000000</td>\n",
       "      <td>0.000000</td>\n",
       "      <td>40.000000</td>\n",
       "    </tr>\n",
       "    <tr>\n",
       "      <th>25%</th>\n",
       "      <td>5.632672e+06</td>\n",
       "      <td>3.000000</td>\n",
       "      <td>1.000000</td>\n",
       "      <td>85.000000</td>\n",
       "    </tr>\n",
       "    <tr>\n",
       "      <th>50%</th>\n",
       "      <td>1.378224e+07</td>\n",
       "      <td>6.000000</td>\n",
       "      <td>3.000000</td>\n",
       "      <td>135.000000</td>\n",
       "    </tr>\n",
       "    <tr>\n",
       "      <th>75%</th>\n",
       "      <td>2.126187e+07</td>\n",
       "      <td>10.000000</td>\n",
       "      <td>5.000000</td>\n",
       "      <td>215.000000</td>\n",
       "    </tr>\n",
       "    <tr>\n",
       "      <th>max</th>\n",
       "      <td>2.815247e+07</td>\n",
       "      <td>12.000000</td>\n",
       "      <td>6.000000</td>\n",
       "      <td>550.000000</td>\n",
       "    </tr>\n",
       "  </tbody>\n",
       "</table>\n",
       "</div>"
      ],
      "text/plain": [
       "         listing_id          month    day_of_week          price\n",
       "count  3.708570e+05  370857.000000  370857.000000  370857.000000\n",
       "mean   1.350731e+07       6.455588       3.004762     165.770394\n",
       "std    8.696651e+06       3.462933       2.003016     107.889496\n",
       "min    5.858000e+03       1.000000       0.000000      40.000000\n",
       "25%    5.632672e+06       3.000000       1.000000      85.000000\n",
       "50%    1.378224e+07       6.000000       3.000000     135.000000\n",
       "75%    2.126187e+07      10.000000       5.000000     215.000000\n",
       "max    2.815247e+07      12.000000       6.000000     550.000000"
      ]
     },
     "execution_count": 38,
     "metadata": {},
     "output_type": "execute_result"
    }
   ],
   "source": [
    "df_pricing_by_month_weekday.describe(include='all')"
   ]
  },
  {
   "cell_type": "code",
   "execution_count": 39,
   "metadata": {
    "ExecuteTime": {
     "end_time": "2018-09-17T08:26:39.240162Z",
     "start_time": "2018-09-17T08:26:39.186013Z"
    }
   },
   "outputs": [
    {
     "data": {
      "text/plain": [
       "listing_id     0\n",
       "month          0\n",
       "day_of_week    0\n",
       "price          0\n",
       "dtype: int64"
      ]
     },
     "execution_count": 39,
     "metadata": {},
     "output_type": "execute_result"
    }
   ],
   "source": [
    "# Check for null values if any\n",
    "\n",
    "df_pricing_by_month_weekday.isnull().sum()"
   ]
  },
  {
   "cell_type": "code",
   "execution_count": 40,
   "metadata": {
    "ExecuteTime": {
     "end_time": "2018-09-17T08:27:12.859113Z",
     "start_time": "2018-09-17T08:27:12.848192Z"
    }
   },
   "outputs": [],
   "source": [
    "# Rename the average price column to avoid confusion\n",
    "\n",
    "df_pricing_by_month_weekday.rename(columns={'price':'price_by_month_week'}, inplace=True)"
   ]
  },
  {
   "cell_type": "code",
   "execution_count": 41,
   "metadata": {
    "ExecuteTime": {
     "end_time": "2018-09-17T08:27:13.486034Z",
     "start_time": "2018-09-17T08:27:13.479966Z"
    }
   },
   "outputs": [
    {
     "data": {
      "text/plain": [
       "(370857, 4)"
      ]
     },
     "execution_count": 41,
     "metadata": {},
     "output_type": "execute_result"
    }
   ],
   "source": [
    "df_pricing_by_month_weekday.shape"
   ]
  },
  {
   "cell_type": "code",
   "execution_count": 99,
   "metadata": {
    "ExecuteTime": {
     "end_time": "2018-09-17T09:36:17.156927Z",
     "start_time": "2018-09-17T09:36:17.149852Z"
    }
   },
   "outputs": [],
   "source": [
    "def get_month(number):\n",
    "    \"\"\"\n",
    "    Given a number, return the name of month.\n",
    "    \n",
    "    \"\"\"\n",
    "    month_lookup = {1:'Jan.', 2:'Feb.', 3:'Mar.', 4:'Apr.', 5:'May.', 6:'Jun.',\n",
    "                    7:'Jul.', 8:'Aug.', 9:'Sep.', 10:'Oct.', 11:'Nov.', 12:'Dec.'}\n",
    "    \n",
    "    return month_lookup[number]"
   ]
  },
  {
   "cell_type": "code",
   "execution_count": 100,
   "metadata": {
    "ExecuteTime": {
     "end_time": "2018-09-17T09:36:18.048206Z",
     "start_time": "2018-09-17T09:36:18.042732Z"
    }
   },
   "outputs": [],
   "source": [
    "def get_weekdays(number):\n",
    "    \"\"\"\n",
    "    Given a number, return the name of month.\n",
    "    \n",
    "    \"\"\"\n",
    "    weekday_lookup = {0:'Monday', 1:'Tuesday', 2:'Wednesday', 3:'Thursday', \n",
    "                      4:'Friday', 5:'Saturday', 6:'Sunday'}\n",
    "    \n",
    "    return weekday_lookup[number]"
   ]
  },
  {
   "cell_type": "code",
   "execution_count": 102,
   "metadata": {
    "ExecuteTime": {
     "end_time": "2018-09-17T09:37:42.366568Z",
     "start_time": "2018-09-17T09:37:42.001365Z"
    }
   },
   "outputs": [],
   "source": [
    "df_pricing_by_month_weekday['month'] = df_pricing_by_month_weekday['month']  \\\n",
    "                                       .apply(lambda x: get_month(x))"
   ]
  },
  {
   "cell_type": "code",
   "execution_count": 103,
   "metadata": {
    "ExecuteTime": {
     "end_time": "2018-09-17T09:38:27.023185Z",
     "start_time": "2018-09-17T09:38:26.792341Z"
    }
   },
   "outputs": [],
   "source": [
    "df_pricing_by_month_weekday['day_of_week'] = df_pricing_by_month_weekday['day_of_week']  \\\n",
    "                                             .apply(lambda x: get_weekdays(x))"
   ]
  },
  {
   "cell_type": "code",
   "execution_count": 112,
   "metadata": {
    "ExecuteTime": {
     "end_time": "2018-09-17T09:43:20.916795Z",
     "start_time": "2018-09-17T09:43:20.782990Z"
    }
   },
   "outputs": [],
   "source": [
    "df_pricing_final = pd.get_dummies(df_pricing_by_month_weekday, \n",
    "                                  prefix='',\n",
    "                                  prefix_sep='',\n",
    "                                  columns=['month', 'day_of_week'])"
   ]
  },
  {
   "cell_type": "code",
   "execution_count": 113,
   "metadata": {
    "ExecuteTime": {
     "end_time": "2018-09-17T09:43:22.172526Z",
     "start_time": "2018-09-17T09:43:22.165539Z"
    }
   },
   "outputs": [
    {
     "data": {
      "text/plain": [
       "Index(['listing_id', 'price_by_month_week', 'Apr', 'Aug', 'Dec', 'Feb', 'Jan',\n",
       "       'Jul', 'Jun', 'Mar', 'May', 'Nov', 'Oct', 'Sep', 'Friday', 'Monday',\n",
       "       'Saturday', 'Sunday', 'Thursday', 'Tuesday', 'Wednesday'],\n",
       "      dtype='object')"
      ]
     },
     "execution_count": 113,
     "metadata": {},
     "output_type": "execute_result"
    }
   ],
   "source": [
    "df_pricing_final.columns"
   ]
  },
  {
   "cell_type": "code",
   "execution_count": 44,
   "metadata": {
    "ExecuteTime": {
     "end_time": "2018-09-17T08:28:02.896550Z",
     "start_time": "2018-09-17T08:28:02.891261Z"
    }
   },
   "outputs": [
    {
     "data": {
      "text/plain": [
       "(370857, 21)"
      ]
     },
     "execution_count": 44,
     "metadata": {},
     "output_type": "execute_result"
    }
   ],
   "source": [
    "df_pricing_final.shape"
   ]
  },
  {
   "cell_type": "code",
   "execution_count": 46,
   "metadata": {
    "ExecuteTime": {
     "end_time": "2018-09-17T08:28:59.159627Z",
     "start_time": "2018-09-17T08:28:59.124615Z"
    }
   },
   "outputs": [
    {
     "data": {
      "text/html": [
       "<div>\n",
       "<style scoped>\n",
       "    .dataframe tbody tr th:only-of-type {\n",
       "        vertical-align: middle;\n",
       "    }\n",
       "\n",
       "    .dataframe tbody tr th {\n",
       "        vertical-align: top;\n",
       "    }\n",
       "\n",
       "    .dataframe thead th {\n",
       "        text-align: right;\n",
       "    }\n",
       "</style>\n",
       "<table border=\"1\" class=\"dataframe\">\n",
       "  <thead>\n",
       "    <tr style=\"text-align: right;\">\n",
       "      <th></th>\n",
       "      <th>id</th>\n",
       "      <th>bedrooms</th>\n",
       "      <th>cleaning_fee</th>\n",
       "      <th>room_type_Entire home/apt</th>\n",
       "      <th>reviews_per_month</th>\n",
       "      <th>city_San Francisco</th>\n",
       "      <th>city_Oakland</th>\n",
       "      <th>bathrooms</th>\n",
       "      <th>accommodates</th>\n",
       "      <th>number_of_reviews</th>\n",
       "      <th>...</th>\n",
       "      <th>neighbourhood_cleansed_Palo Alto</th>\n",
       "      <th>host_is_superhost_f</th>\n",
       "      <th>amenities_Lock on bedroom door</th>\n",
       "      <th>amenities_Private entrance</th>\n",
       "      <th>amenities_Familykid friendly</th>\n",
       "      <th>district_Santa Clara</th>\n",
       "      <th>neighbourhood_cleansed_San Jose</th>\n",
       "      <th>host_identity_verified_f</th>\n",
       "      <th>ref_district</th>\n",
       "      <th>ref_jurisdiction</th>\n",
       "    </tr>\n",
       "  </thead>\n",
       "  <tbody>\n",
       "    <tr>\n",
       "      <th>0</th>\n",
       "      <td>958</td>\n",
       "      <td>1.0</td>\n",
       "      <td>2.00000</td>\n",
       "      <td>1</td>\n",
       "      <td>1.38</td>\n",
       "      <td>1</td>\n",
       "      <td>0</td>\n",
       "      <td>1.0</td>\n",
       "      <td>3</td>\n",
       "      <td>152</td>\n",
       "      <td>...</td>\n",
       "      <td>0</td>\n",
       "      <td>0</td>\n",
       "      <td>0</td>\n",
       "      <td>1</td>\n",
       "      <td>1</td>\n",
       "      <td>0</td>\n",
       "      <td>0</td>\n",
       "      <td>0</td>\n",
       "      <td>San Francisco</td>\n",
       "      <td>SAN FRANCISCO</td>\n",
       "    </tr>\n",
       "    <tr>\n",
       "      <th>1</th>\n",
       "      <td>5858</td>\n",
       "      <td>2.0</td>\n",
       "      <td>2.00000</td>\n",
       "      <td>1</td>\n",
       "      <td>0.99</td>\n",
       "      <td>1</td>\n",
       "      <td>0</td>\n",
       "      <td>1.0</td>\n",
       "      <td>5</td>\n",
       "      <td>112</td>\n",
       "      <td>...</td>\n",
       "      <td>0</td>\n",
       "      <td>1</td>\n",
       "      <td>0</td>\n",
       "      <td>1</td>\n",
       "      <td>1</td>\n",
       "      <td>0</td>\n",
       "      <td>0</td>\n",
       "      <td>0</td>\n",
       "      <td>San Francisco</td>\n",
       "      <td>SAN FRANCISCO</td>\n",
       "    </tr>\n",
       "    <tr>\n",
       "      <th>2</th>\n",
       "      <td>7918</td>\n",
       "      <td>1.0</td>\n",
       "      <td>1.69897</td>\n",
       "      <td>0</td>\n",
       "      <td>0.16</td>\n",
       "      <td>1</td>\n",
       "      <td>0</td>\n",
       "      <td>4.0</td>\n",
       "      <td>2</td>\n",
       "      <td>17</td>\n",
       "      <td>...</td>\n",
       "      <td>0</td>\n",
       "      <td>1</td>\n",
       "      <td>1</td>\n",
       "      <td>1</td>\n",
       "      <td>0</td>\n",
       "      <td>0</td>\n",
       "      <td>0</td>\n",
       "      <td>0</td>\n",
       "      <td>San Francisco</td>\n",
       "      <td>SAN FRANCISCO</td>\n",
       "    </tr>\n",
       "    <tr>\n",
       "      <th>3</th>\n",
       "      <td>8142</td>\n",
       "      <td>1.0</td>\n",
       "      <td>1.69897</td>\n",
       "      <td>0</td>\n",
       "      <td>0.15</td>\n",
       "      <td>1</td>\n",
       "      <td>0</td>\n",
       "      <td>4.0</td>\n",
       "      <td>2</td>\n",
       "      <td>7</td>\n",
       "      <td>...</td>\n",
       "      <td>0</td>\n",
       "      <td>1</td>\n",
       "      <td>1</td>\n",
       "      <td>1</td>\n",
       "      <td>1</td>\n",
       "      <td>0</td>\n",
       "      <td>0</td>\n",
       "      <td>0</td>\n",
       "      <td>San Francisco</td>\n",
       "      <td>SAN FRANCISCO</td>\n",
       "    </tr>\n",
       "    <tr>\n",
       "      <th>4</th>\n",
       "      <td>8567</td>\n",
       "      <td>2.0</td>\n",
       "      <td>2.09691</td>\n",
       "      <td>1</td>\n",
       "      <td>0.27</td>\n",
       "      <td>1</td>\n",
       "      <td>0</td>\n",
       "      <td>1.0</td>\n",
       "      <td>6</td>\n",
       "      <td>30</td>\n",
       "      <td>...</td>\n",
       "      <td>0</td>\n",
       "      <td>1</td>\n",
       "      <td>0</td>\n",
       "      <td>0</td>\n",
       "      <td>1</td>\n",
       "      <td>0</td>\n",
       "      <td>0</td>\n",
       "      <td>1</td>\n",
       "      <td>San Francisco</td>\n",
       "      <td>SAN FRANCISCO</td>\n",
       "    </tr>\n",
       "  </tbody>\n",
       "</table>\n",
       "<p>5 rows × 33 columns</p>\n",
       "</div>"
      ],
      "text/plain": [
       "     id  bedrooms  cleaning_fee  room_type_Entire home/apt  reviews_per_month  \\\n",
       "0   958       1.0       2.00000                          1               1.38   \n",
       "1  5858       2.0       2.00000                          1               0.99   \n",
       "2  7918       1.0       1.69897                          0               0.16   \n",
       "3  8142       1.0       1.69897                          0               0.15   \n",
       "4  8567       2.0       2.09691                          1               0.27   \n",
       "\n",
       "   city_San Francisco  city_Oakland  bathrooms  accommodates  \\\n",
       "0                   1             0        1.0             3   \n",
       "1                   1             0        1.0             5   \n",
       "2                   1             0        4.0             2   \n",
       "3                   1             0        4.0             2   \n",
       "4                   1             0        1.0             6   \n",
       "\n",
       "   number_of_reviews        ...         neighbourhood_cleansed_Palo Alto  \\\n",
       "0                152        ...                                        0   \n",
       "1                112        ...                                        0   \n",
       "2                 17        ...                                        0   \n",
       "3                  7        ...                                        0   \n",
       "4                 30        ...                                        0   \n",
       "\n",
       "   host_is_superhost_f  amenities_Lock on bedroom door  \\\n",
       "0                    0                               0   \n",
       "1                    1                               0   \n",
       "2                    1                               1   \n",
       "3                    1                               1   \n",
       "4                    1                               0   \n",
       "\n",
       "   amenities_Private entrance  amenities_Familykid friendly  \\\n",
       "0                           1                             1   \n",
       "1                           1                             1   \n",
       "2                           1                             0   \n",
       "3                           1                             1   \n",
       "4                           0                             1   \n",
       "\n",
       "   district_Santa Clara  neighbourhood_cleansed_San Jose  \\\n",
       "0                     0                                0   \n",
       "1                     0                                0   \n",
       "2                     0                                0   \n",
       "3                     0                                0   \n",
       "4                     0                                0   \n",
       "\n",
       "   host_identity_verified_f   ref_district  ref_jurisdiction  \n",
       "0                         0  San Francisco     SAN FRANCISCO  \n",
       "1                         0  San Francisco     SAN FRANCISCO  \n",
       "2                         0  San Francisco     SAN FRANCISCO  \n",
       "3                         0  San Francisco     SAN FRANCISCO  \n",
       "4                         1  San Francisco     SAN FRANCISCO  \n",
       "\n",
       "[5 rows x 33 columns]"
      ]
     },
     "execution_count": 46,
     "metadata": {},
     "output_type": "execute_result"
    }
   ],
   "source": [
    "pkl_file = '/Users/xzhou/github/project_archives/files_airbnb/{}.pkl'\n",
    "\n",
    "pkl_path = pkl_file.format('listings_with_selected_features')\n",
    "\n",
    "df_listings_reviews = pd.read_pickle(pkl_path)\n",
    "df_listings_reviews.head()"
   ]
  },
  {
   "cell_type": "code",
   "execution_count": 47,
   "metadata": {
    "ExecuteTime": {
     "end_time": "2018-09-17T08:29:08.325397Z",
     "start_time": "2018-09-17T08:29:08.320379Z"
    }
   },
   "outputs": [
    {
     "data": {
      "text/plain": [
       "(10352, 33)"
      ]
     },
     "execution_count": 47,
     "metadata": {},
     "output_type": "execute_result"
    }
   ],
   "source": [
    "df_listings_reviews.shape"
   ]
  },
  {
   "cell_type": "code",
   "execution_count": 60,
   "metadata": {
    "ExecuteTime": {
     "end_time": "2018-09-17T08:32:47.085029Z",
     "start_time": "2018-09-17T08:32:46.827399Z"
    }
   },
   "outputs": [],
   "source": [
    "df_final = pd.merge(left=df_pricing_final, \n",
    "                    right=df_listings_reviews,\n",
    "                    how='inner',\n",
    "                    left_on='listing_id',\n",
    "                    right_on='id')"
   ]
  },
  {
   "cell_type": "code",
   "execution_count": 61,
   "metadata": {
    "ExecuteTime": {
     "end_time": "2018-09-17T08:32:47.832773Z",
     "start_time": "2018-09-17T08:32:47.825959Z"
    }
   },
   "outputs": [
    {
     "data": {
      "text/plain": [
       "(245629, 54)"
      ]
     },
     "execution_count": 61,
     "metadata": {},
     "output_type": "execute_result"
    }
   ],
   "source": [
    "df_final.shape"
   ]
  },
  {
   "cell_type": "code",
   "execution_count": 62,
   "metadata": {
    "ExecuteTime": {
     "end_time": "2018-09-17T08:32:50.581384Z",
     "start_time": "2018-09-17T08:32:50.122332Z"
    }
   },
   "outputs": [
    {
     "data": {
      "text/plain": [
       "listing_id                                  0\n",
       "price_by_month_week                         0\n",
       "month_1                                     0\n",
       "month_2                                     0\n",
       "month_3                                     0\n",
       "month_4                                     0\n",
       "month_5                                     0\n",
       "month_6                                     0\n",
       "month_7                                     0\n",
       "month_8                                     0\n",
       "month_9                                     0\n",
       "month_10                                    0\n",
       "month_11                                    0\n",
       "month_12                                    0\n",
       "day_of_week_0                               0\n",
       "day_of_week_1                               0\n",
       "day_of_week_2                               0\n",
       "day_of_week_3                               0\n",
       "day_of_week_4                               0\n",
       "day_of_week_5                               0\n",
       "day_of_week_6                               0\n",
       "id                                          0\n",
       "bedrooms                                    0\n",
       "cleaning_fee                                0\n",
       "room_type_Entire home/apt                   0\n",
       "reviews_per_month                           0\n",
       "city_San Francisco                          0\n",
       "city_Oakland                                0\n",
       "bathrooms                                   0\n",
       "accommodates                                0\n",
       "number_of_reviews                           0\n",
       "host_listings_count                         0\n",
       "review_scores_rating_log10                  0\n",
       "host_yrs                                    0\n",
       "guests_included                             0\n",
       "calculated_host_listings_count              0\n",
       "review_scores_location_log10                0\n",
       "beds                                        0\n",
       "yrs_since_first_review                      0\n",
       "host_response_rate                          0\n",
       "amenities_Air conditioning                  0\n",
       "review_scores_value_log10                   0\n",
       "jurisdiction_names_Santa Cruz County, CA    0\n",
       "amenities_Cable TV                          0\n",
       "neighbourhood_cleansed_Palo Alto            0\n",
       "host_is_superhost_f                         0\n",
       "amenities_Lock on bedroom door              0\n",
       "amenities_Private entrance                  0\n",
       "amenities_Familykid friendly                0\n",
       "district_Santa Clara                        0\n",
       "neighbourhood_cleansed_San Jose             0\n",
       "host_identity_verified_f                    0\n",
       "ref_district                                0\n",
       "ref_jurisdiction                            0\n",
       "dtype: int64"
      ]
     },
     "execution_count": 62,
     "metadata": {},
     "output_type": "execute_result"
    }
   ],
   "source": [
    "df_final.isnull().sum()"
   ]
  },
  {
   "cell_type": "code",
   "execution_count": 63,
   "metadata": {
    "ExecuteTime": {
     "end_time": "2018-09-17T08:32:53.023130Z",
     "start_time": "2018-09-17T08:32:53.017665Z"
    }
   },
   "outputs": [
    {
     "data": {
      "text/plain": [
       "(245629, 54)"
      ]
     },
     "execution_count": 63,
     "metadata": {},
     "output_type": "execute_result"
    }
   ],
   "source": [
    "df_final.shape"
   ]
  },
  {
   "cell_type": "code",
   "execution_count": 64,
   "metadata": {
    "ExecuteTime": {
     "end_time": "2018-09-17T08:32:53.785030Z",
     "start_time": "2018-09-17T08:32:53.778426Z"
    }
   },
   "outputs": [
    {
     "data": {
      "text/plain": [
       "Index(['listing_id', 'price_by_month_week', 'month_1', 'month_2', 'month_3',\n",
       "       'month_4', 'month_5', 'month_6', 'month_7', 'month_8', 'month_9',\n",
       "       'month_10', 'month_11', 'month_12', 'day_of_week_0', 'day_of_week_1',\n",
       "       'day_of_week_2', 'day_of_week_3', 'day_of_week_4', 'day_of_week_5',\n",
       "       'day_of_week_6', 'id', 'bedrooms', 'cleaning_fee',\n",
       "       'room_type_Entire home/apt', 'reviews_per_month', 'city_San Francisco',\n",
       "       'city_Oakland', 'bathrooms', 'accommodates', 'number_of_reviews',\n",
       "       'host_listings_count', 'review_scores_rating_log10', 'host_yrs',\n",
       "       'guests_included', 'calculated_host_listings_count',\n",
       "       'review_scores_location_log10', 'beds', 'yrs_since_first_review',\n",
       "       'host_response_rate', 'amenities_Air conditioning',\n",
       "       'review_scores_value_log10', 'jurisdiction_names_Santa Cruz County, CA',\n",
       "       'amenities_Cable TV', 'neighbourhood_cleansed_Palo Alto',\n",
       "       'host_is_superhost_f', 'amenities_Lock on bedroom door',\n",
       "       'amenities_Private entrance', 'amenities_Familykid friendly',\n",
       "       'district_Santa Clara', 'neighbourhood_cleansed_San Jose',\n",
       "       'host_identity_verified_f', 'ref_district', 'ref_jurisdiction'],\n",
       "      dtype='object')"
      ]
     },
     "execution_count": 64,
     "metadata": {},
     "output_type": "execute_result"
    }
   ],
   "source": [
    "df_final.columns"
   ]
  },
  {
   "cell_type": "code",
   "execution_count": 65,
   "metadata": {
    "ExecuteTime": {
     "end_time": "2018-09-17T08:33:12.560867Z",
     "start_time": "2018-09-17T08:33:12.492243Z"
    }
   },
   "outputs": [],
   "source": [
    "# Drop duplicate and reference columns\n",
    "\n",
    "df_final.drop(['id','ref_district', 'ref_jurisdiction' ], axis=1, inplace=True)"
   ]
  },
  {
   "cell_type": "code",
   "execution_count": 66,
   "metadata": {
    "ExecuteTime": {
     "end_time": "2018-09-17T08:33:13.254059Z",
     "start_time": "2018-09-17T08:33:13.249240Z"
    }
   },
   "outputs": [
    {
     "data": {
      "text/plain": [
       "(245629, 51)"
      ]
     },
     "execution_count": 66,
     "metadata": {},
     "output_type": "execute_result"
    }
   ],
   "source": [
    "df_final.shape"
   ]
  },
  {
   "cell_type": "code",
   "execution_count": 67,
   "metadata": {
    "ExecuteTime": {
     "end_time": "2018-09-17T08:33:17.496138Z",
     "start_time": "2018-09-17T08:33:16.163126Z"
    }
   },
   "outputs": [
    {
     "data": {
      "text/plain": [
       "[]"
      ]
     },
     "execution_count": 67,
     "metadata": {},
     "output_type": "execute_result"
    }
   ],
   "source": [
    "# Create correlation matrix\n",
    "corr_matrix = df_final.corr().abs()\n",
    "\n",
    "# Select upper triangle of correlation matrix\n",
    "upper = corr_matrix.where(np.triu(np.ones(corr_matrix.shape), k=1).astype(np.bool))\n",
    "\n",
    "# Find index of feature columns with correlation greater than 0.90\n",
    "to_drop = [column for column in upper.columns if any(upper[column] > 0.90)]\n",
    "\n",
    "to_drop"
   ]
  },
  {
   "cell_type": "code",
   "execution_count": 68,
   "metadata": {
    "ExecuteTime": {
     "end_time": "2018-09-17T08:33:19.139602Z",
     "start_time": "2018-09-17T08:33:19.099298Z"
    }
   },
   "outputs": [],
   "source": [
    "# Drop features that have high correlation\n",
    "\n",
    "df_final.drop(to_drop, axis=1, inplace=True)"
   ]
  },
  {
   "cell_type": "code",
   "execution_count": 69,
   "metadata": {
    "ExecuteTime": {
     "end_time": "2018-09-17T08:33:19.828460Z",
     "start_time": "2018-09-17T08:33:19.822633Z"
    }
   },
   "outputs": [
    {
     "data": {
      "text/plain": [
       "(245629, 51)"
      ]
     },
     "execution_count": 69,
     "metadata": {},
     "output_type": "execute_result"
    }
   ],
   "source": [
    "df_final.shape"
   ]
  },
  {
   "cell_type": "code",
   "execution_count": 70,
   "metadata": {
    "ExecuteTime": {
     "end_time": "2018-09-17T08:33:56.479059Z",
     "start_time": "2018-09-17T08:33:56.270263Z"
    }
   },
   "outputs": [],
   "source": [
    "pkl_file = '/Users/xzhou/github/project_archives/files_airbnb/{}.pkl'\n",
    "pkl_path = pkl_file.format('listings_seasonality')\n",
    "\n",
    "try: \n",
    "    with open(pkl_path, 'rb') as file:\n",
    "        df_final = pd.read_pickle(file)\n",
    "except:\n",
    "    with open(pkl_path, 'wb') as file:\n",
    "        pd.to_pickle(df_final, file)"
   ]
  },
  {
   "cell_type": "code",
   "execution_count": 72,
   "metadata": {
    "ExecuteTime": {
     "end_time": "2018-09-17T08:34:41.472786Z",
     "start_time": "2018-09-17T08:34:41.423536Z"
    }
   },
   "outputs": [],
   "source": [
    "# Perform multiple modeling for price prediction\n",
    "\n",
    "X = df_final.drop(['listing_id', 'price_by_month_week'], axis=1)\n",
    "y = df_final['price_by_month_week']"
   ]
  },
  {
   "cell_type": "code",
   "execution_count": 73,
   "metadata": {
    "ExecuteTime": {
     "end_time": "2018-09-17T08:34:42.344631Z",
     "start_time": "2018-09-17T08:34:42.212072Z"
    }
   },
   "outputs": [],
   "source": [
    "X_train, X_test, y_train, y_test = train_test_split(X, y, test_size =0.3, random_state=42)"
   ]
  },
  {
   "cell_type": "code",
   "execution_count": 74,
   "metadata": {
    "ExecuteTime": {
     "end_time": "2018-09-17T08:34:43.622765Z",
     "start_time": "2018-09-17T08:34:43.173711Z"
    }
   },
   "outputs": [],
   "source": [
    "ss = StandardScaler()\n",
    "X_train_trans = ss.fit_transform(X_train)\n",
    "X_test_trans = ss.transform (X_test)"
   ]
  },
  {
   "cell_type": "code",
   "execution_count": 77,
   "metadata": {
    "ExecuteTime": {
     "end_time": "2018-09-17T08:34:55.069457Z",
     "start_time": "2018-09-17T08:34:54.681962Z"
    }
   },
   "outputs": [
    {
     "data": {
      "text/plain": [
       "LinearRegression(copy_X=True, fit_intercept=True, n_jobs=1, normalize=False)"
      ]
     },
     "execution_count": 77,
     "metadata": {},
     "output_type": "execute_result"
    }
   ],
   "source": [
    "lr = linear_model.LinearRegression()\n",
    "lr.fit(X_train_trans, y_train)"
   ]
  },
  {
   "cell_type": "code",
   "execution_count": 78,
   "metadata": {
    "ExecuteTime": {
     "end_time": "2018-09-17T08:34:55.920409Z",
     "start_time": "2018-09-17T08:34:55.905908Z"
    }
   },
   "outputs": [
    {
     "data": {
      "text/plain": [
       "0.6211990071126822"
      ]
     },
     "execution_count": 78,
     "metadata": {},
     "output_type": "execute_result"
    }
   ],
   "source": [
    "lr.score(X_test_trans, y_test)"
   ]
  },
  {
   "cell_type": "code",
   "execution_count": 79,
   "metadata": {
    "ExecuteTime": {
     "end_time": "2018-09-17T08:35:00.012673Z",
     "start_time": "2018-09-17T08:35:00.002671Z"
    }
   },
   "outputs": [],
   "source": [
    "y_predict = lr.predict(X_test_trans)"
   ]
  },
  {
   "cell_type": "code",
   "execution_count": 80,
   "metadata": {
    "ExecuteTime": {
     "end_time": "2018-09-17T08:35:01.161662Z",
     "start_time": "2018-09-17T08:35:01.154937Z"
    }
   },
   "outputs": [
    {
     "data": {
      "text/plain": [
       "0.38097753560682224"
      ]
     },
     "execution_count": 80,
     "metadata": {},
     "output_type": "execute_result"
    }
   ],
   "source": [
    "r2_score(y_predict, y_test)"
   ]
  },
  {
   "cell_type": "code",
   "execution_count": 81,
   "metadata": {
    "ExecuteTime": {
     "end_time": "2018-09-17T08:35:03.754419Z",
     "start_time": "2018-09-17T08:35:03.747275Z"
    }
   },
   "outputs": [
    {
     "data": {
      "text/plain": [
       "4152.883413095962"
      ]
     },
     "execution_count": 81,
     "metadata": {},
     "output_type": "execute_result"
    }
   ],
   "source": [
    "mean_squared_error(y_predict, y_test)"
   ]
  },
  {
   "cell_type": "code",
   "execution_count": 82,
   "metadata": {
    "ExecuteTime": {
     "end_time": "2018-09-17T08:35:10.228235Z",
     "start_time": "2018-09-17T08:35:09.290932Z"
    }
   },
   "outputs": [
    {
     "data": {
      "text/html": [
       "<table class=\"simpletable\">\n",
       "<caption>OLS Regression Results</caption>\n",
       "<tr>\n",
       "  <th>Dep. Variable:</th>    <td>price_by_month_week</td> <th>  R-squared:         </th>  <td>   0.615</td>  \n",
       "</tr>\n",
       "<tr>\n",
       "  <th>Model:</th>                    <td>OLS</td>         <th>  Adj. R-squared:    </th>  <td>   0.615</td>  \n",
       "</tr>\n",
       "<tr>\n",
       "  <th>Method:</th>              <td>Least Squares</td>    <th>  F-statistic:       </th>  <td>   5726.</td>  \n",
       "</tr>\n",
       "<tr>\n",
       "  <th>Date:</th>              <td>Mon, 17 Sep 2018</td>   <th>  Prob (F-statistic):</th>   <td>  0.00</td>   \n",
       "</tr>\n",
       "<tr>\n",
       "  <th>Time:</th>                  <td>01:35:10</td>       <th>  Log-Likelihood:    </th> <td>-9.6038e+05</td>\n",
       "</tr>\n",
       "<tr>\n",
       "  <th>No. Observations:</th>       <td>171940</td>        <th>  AIC:               </th>  <td>1.921e+06</td> \n",
       "</tr>\n",
       "<tr>\n",
       "  <th>Df Residuals:</th>           <td>171891</td>        <th>  BIC:               </th>  <td>1.921e+06</td> \n",
       "</tr>\n",
       "<tr>\n",
       "  <th>Df Model:</th>               <td>    48</td>        <th>                     </th>      <td> </td>     \n",
       "</tr>\n",
       "<tr>\n",
       "  <th>Covariance Type:</th>       <td>nonrobust</td>      <th>                     </th>      <td> </td>     \n",
       "</tr>\n",
       "</table>\n",
       "<table class=\"simpletable\">\n",
       "<tr>\n",
       "    <td></td>       <th>coef</th>     <th>std err</th>      <th>t</th>      <th>P>|t|</th>  <th>[0.025</th>    <th>0.975]</th>  \n",
       "</tr>\n",
       "<tr>\n",
       "  <th>const</th> <td>  160.9735</td> <td>    0.156</td> <td> 1032.138</td> <td> 0.000</td> <td>  160.668</td> <td>  161.279</td>\n",
       "</tr>\n",
       "<tr>\n",
       "  <th>x1</th>    <td>-6.923e+11</td> <td> 8.62e+11</td> <td>   -0.803</td> <td> 0.422</td> <td>-2.38e+12</td> <td> 9.97e+11</td>\n",
       "</tr>\n",
       "<tr>\n",
       "  <th>x2</th>    <td>-6.947e+11</td> <td> 8.65e+11</td> <td>   -0.803</td> <td> 0.422</td> <td>-2.39e+12</td> <td>    1e+12</td>\n",
       "</tr>\n",
       "<tr>\n",
       "  <th>x3</th>    <td>-6.921e+11</td> <td> 8.61e+11</td> <td>   -0.803</td> <td> 0.422</td> <td>-2.38e+12</td> <td> 9.96e+11</td>\n",
       "</tr>\n",
       "<tr>\n",
       "  <th>x4</th>    <td>-6.906e+11</td> <td>  8.6e+11</td> <td>   -0.803</td> <td> 0.422</td> <td>-2.38e+12</td> <td> 9.94e+11</td>\n",
       "</tr>\n",
       "<tr>\n",
       "  <th>x5</th>    <td>-6.938e+11</td> <td> 8.64e+11</td> <td>   -0.803</td> <td> 0.422</td> <td>-2.39e+12</td> <td> 9.99e+11</td>\n",
       "</tr>\n",
       "<tr>\n",
       "  <th>x6</th>    <td>-6.947e+11</td> <td> 8.65e+11</td> <td>   -0.803</td> <td> 0.422</td> <td>-2.39e+12</td> <td>    1e+12</td>\n",
       "</tr>\n",
       "<tr>\n",
       "  <th>x7</th>    <td>-6.935e+11</td> <td> 8.63e+11</td> <td>   -0.803</td> <td> 0.422</td> <td>-2.39e+12</td> <td> 9.98e+11</td>\n",
       "</tr>\n",
       "<tr>\n",
       "  <th>x8</th>    <td>-6.747e+11</td> <td>  8.4e+11</td> <td>   -0.803</td> <td> 0.422</td> <td>-2.32e+12</td> <td> 9.71e+11</td>\n",
       "</tr>\n",
       "<tr>\n",
       "  <th>x9</th>    <td>-6.489e+11</td> <td> 8.08e+11</td> <td>   -0.803</td> <td> 0.422</td> <td>-2.23e+12</td> <td> 9.34e+11</td>\n",
       "</tr>\n",
       "<tr>\n",
       "  <th>x10</th>   <td>-6.795e+11</td> <td> 8.46e+11</td> <td>   -0.803</td> <td> 0.422</td> <td>-2.34e+12</td> <td> 9.78e+11</td>\n",
       "</tr>\n",
       "<tr>\n",
       "  <th>x11</th>   <td>-6.862e+11</td> <td> 8.54e+11</td> <td>   -0.803</td> <td> 0.422</td> <td>-2.36e+12</td> <td> 9.88e+11</td>\n",
       "</tr>\n",
       "<tr>\n",
       "  <th>x12</th>   <td>-6.909e+11</td> <td>  8.6e+11</td> <td>   -0.803</td> <td> 0.422</td> <td>-2.38e+12</td> <td> 9.95e+11</td>\n",
       "</tr>\n",
       "<tr>\n",
       "  <th>x13</th>   <td> 1.658e+13</td> <td> 1.39e+13</td> <td>    1.190</td> <td> 0.234</td> <td>-1.07e+13</td> <td> 4.39e+13</td>\n",
       "</tr>\n",
       "<tr>\n",
       "  <th>x14</th>   <td> 1.649e+13</td> <td> 1.39e+13</td> <td>    1.190</td> <td> 0.234</td> <td>-1.07e+13</td> <td> 4.36e+13</td>\n",
       "</tr>\n",
       "<tr>\n",
       "  <th>x15</th>   <td> 1.644e+13</td> <td> 1.38e+13</td> <td>    1.190</td> <td> 0.234</td> <td>-1.06e+13</td> <td> 4.35e+13</td>\n",
       "</tr>\n",
       "<tr>\n",
       "  <th>x16</th>   <td> 1.653e+13</td> <td> 1.39e+13</td> <td>    1.190</td> <td> 0.234</td> <td>-1.07e+13</td> <td> 4.37e+13</td>\n",
       "</tr>\n",
       "<tr>\n",
       "  <th>x17</th>   <td> 1.648e+13</td> <td> 1.38e+13</td> <td>    1.190</td> <td> 0.234</td> <td>-1.07e+13</td> <td> 4.36e+13</td>\n",
       "</tr>\n",
       "<tr>\n",
       "  <th>x18</th>   <td> 1.652e+13</td> <td> 1.39e+13</td> <td>    1.190</td> <td> 0.234</td> <td>-1.07e+13</td> <td> 4.37e+13</td>\n",
       "</tr>\n",
       "<tr>\n",
       "  <th>x19</th>   <td> 1.657e+13</td> <td> 1.39e+13</td> <td>    1.190</td> <td> 0.234</td> <td>-1.07e+13</td> <td> 4.39e+13</td>\n",
       "</tr>\n",
       "<tr>\n",
       "  <th>x20</th>   <td>   29.7779</td> <td>    0.258</td> <td>  115.486</td> <td> 0.000</td> <td>   29.273</td> <td>   30.283</td>\n",
       "</tr>\n",
       "<tr>\n",
       "  <th>x21</th>   <td>    5.8699</td> <td>    0.192</td> <td>   30.639</td> <td> 0.000</td> <td>    5.494</td> <td>    6.245</td>\n",
       "</tr>\n",
       "<tr>\n",
       "  <th>x22</th>   <td>   26.0286</td> <td>    0.217</td> <td>  120.216</td> <td> 0.000</td> <td>   25.604</td> <td>   26.453</td>\n",
       "</tr>\n",
       "<tr>\n",
       "  <th>x23</th>   <td>   -9.3309</td> <td>    0.274</td> <td>  -34.044</td> <td> 0.000</td> <td>   -9.868</td> <td>   -8.794</td>\n",
       "</tr>\n",
       "<tr>\n",
       "  <th>x24</th>   <td>   20.5497</td> <td>    0.882</td> <td>   23.302</td> <td> 0.000</td> <td>   18.821</td> <td>   22.278</td>\n",
       "</tr>\n",
       "<tr>\n",
       "  <th>x25</th>   <td>   -2.1788</td> <td>    0.606</td> <td>   -3.596</td> <td> 0.000</td> <td>   -3.366</td> <td>   -0.991</td>\n",
       "</tr>\n",
       "<tr>\n",
       "  <th>x26</th>   <td>   -0.4556</td> <td>    0.182</td> <td>   -2.508</td> <td> 0.012</td> <td>   -0.812</td> <td>   -0.100</td>\n",
       "</tr>\n",
       "<tr>\n",
       "  <th>x27</th>   <td>   32.2420</td> <td>    0.350</td> <td>   92.124</td> <td> 0.000</td> <td>   31.556</td> <td>   32.928</td>\n",
       "</tr>\n",
       "<tr>\n",
       "  <th>x28</th>   <td>   -1.4094</td> <td>    0.299</td> <td>   -4.720</td> <td> 0.000</td> <td>   -1.995</td> <td>   -0.824</td>\n",
       "</tr>\n",
       "<tr>\n",
       "  <th>x29</th>   <td>    4.3982</td> <td>    0.222</td> <td>   19.810</td> <td> 0.000</td> <td>    3.963</td> <td>    4.833</td>\n",
       "</tr>\n",
       "<tr>\n",
       "  <th>x30</th>   <td>   -0.1431</td> <td>    0.338</td> <td>   -0.423</td> <td> 0.672</td> <td>   -0.806</td> <td>    0.520</td>\n",
       "</tr>\n",
       "<tr>\n",
       "  <th>x31</th>   <td>   -2.2506</td> <td>    0.207</td> <td>  -10.865</td> <td> 0.000</td> <td>   -2.657</td> <td>   -1.845</td>\n",
       "</tr>\n",
       "<tr>\n",
       "  <th>x32</th>   <td>    4.0271</td> <td>    0.196</td> <td>   20.594</td> <td> 0.000</td> <td>    3.644</td> <td>    4.410</td>\n",
       "</tr>\n",
       "<tr>\n",
       "  <th>x33</th>   <td>   -8.6996</td> <td>    0.228</td> <td>  -38.213</td> <td> 0.000</td> <td>   -9.146</td> <td>   -8.253</td>\n",
       "</tr>\n",
       "<tr>\n",
       "  <th>x34</th>   <td>   11.0612</td> <td>    0.351</td> <td>   31.481</td> <td> 0.000</td> <td>   10.373</td> <td>   11.750</td>\n",
       "</tr>\n",
       "<tr>\n",
       "  <th>x35</th>   <td>   -8.9023</td> <td>    0.314</td> <td>  -28.336</td> <td> 0.000</td> <td>   -9.518</td> <td>   -8.286</td>\n",
       "</tr>\n",
       "<tr>\n",
       "  <th>x36</th>   <td>   -4.4733</td> <td>    0.259</td> <td>  -17.257</td> <td> 0.000</td> <td>   -4.981</td> <td>   -3.965</td>\n",
       "</tr>\n",
       "<tr>\n",
       "  <th>x37</th>   <td>   -0.7918</td> <td>    0.163</td> <td>   -4.855</td> <td> 0.000</td> <td>   -1.111</td> <td>   -0.472</td>\n",
       "</tr>\n",
       "<tr>\n",
       "  <th>x38</th>   <td>    8.2895</td> <td>    0.200</td> <td>   41.505</td> <td> 0.000</td> <td>    7.898</td> <td>    8.681</td>\n",
       "</tr>\n",
       "<tr>\n",
       "  <th>x39</th>   <td>   -6.6295</td> <td>    0.363</td> <td>  -18.271</td> <td> 0.000</td> <td>   -7.341</td> <td>   -5.918</td>\n",
       "</tr>\n",
       "<tr>\n",
       "  <th>x40</th>   <td>   19.2286</td> <td>    0.610</td> <td>   31.533</td> <td> 0.000</td> <td>   18.033</td> <td>   20.424</td>\n",
       "</tr>\n",
       "<tr>\n",
       "  <th>x41</th>   <td>    5.5951</td> <td>    0.168</td> <td>   33.323</td> <td> 0.000</td> <td>    5.266</td> <td>    5.924</td>\n",
       "</tr>\n",
       "<tr>\n",
       "  <th>x42</th>   <td>    9.3783</td> <td>    0.183</td> <td>   51.227</td> <td> 0.000</td> <td>    9.019</td> <td>    9.737</td>\n",
       "</tr>\n",
       "<tr>\n",
       "  <th>x43</th>   <td>   -8.8205</td> <td>    0.176</td> <td>  -50.254</td> <td> 0.000</td> <td>   -9.164</td> <td>   -8.476</td>\n",
       "</tr>\n",
       "<tr>\n",
       "  <th>x44</th>   <td>    0.2111</td> <td>    0.179</td> <td>    1.178</td> <td> 0.239</td> <td>   -0.140</td> <td>    0.562</td>\n",
       "</tr>\n",
       "<tr>\n",
       "  <th>x45</th>   <td>   -1.5992</td> <td>    0.172</td> <td>   -9.314</td> <td> 0.000</td> <td>   -1.936</td> <td>   -1.263</td>\n",
       "</tr>\n",
       "<tr>\n",
       "  <th>x46</th>   <td>    1.9074</td> <td>    0.175</td> <td>   10.906</td> <td> 0.000</td> <td>    1.565</td> <td>    2.250</td>\n",
       "</tr>\n",
       "<tr>\n",
       "  <th>x47</th>   <td>   -1.5727</td> <td>    0.862</td> <td>   -1.825</td> <td> 0.068</td> <td>   -3.262</td> <td>    0.116</td>\n",
       "</tr>\n",
       "<tr>\n",
       "  <th>x48</th>   <td>   -1.0506</td> <td>    0.219</td> <td>   -4.806</td> <td> 0.000</td> <td>   -1.479</td> <td>   -0.622</td>\n",
       "</tr>\n",
       "<tr>\n",
       "  <th>x49</th>   <td>   -2.5596</td> <td>    0.175</td> <td>  -14.631</td> <td> 0.000</td> <td>   -2.902</td> <td>   -2.217</td>\n",
       "</tr>\n",
       "</table>\n",
       "<table class=\"simpletable\">\n",
       "<tr>\n",
       "  <th>Omnibus:</th>       <td>35245.586</td> <th>  Durbin-Watson:     </th>  <td>   2.003</td> \n",
       "</tr>\n",
       "<tr>\n",
       "  <th>Prob(Omnibus):</th>  <td> 0.000</td>   <th>  Jarque-Bera (JB):  </th> <td>107792.697</td>\n",
       "</tr>\n",
       "<tr>\n",
       "  <th>Skew:</th>           <td> 1.061</td>   <th>  Prob(JB):          </th>  <td>    0.00</td> \n",
       "</tr>\n",
       "<tr>\n",
       "  <th>Kurtosis:</th>       <td> 6.247</td>   <th>  Cond. No.          </th>  <td>4.81e+14</td> \n",
       "</tr>\n",
       "</table><br/><br/>Warnings:<br/>[1] Standard Errors assume that the covariance matrix of the errors is correctly specified.<br/>[2] The smallest eigenvalue is 3.09e-24. This might indicate that there are<br/>strong multicollinearity problems or that the design matrix is singular."
      ],
      "text/plain": [
       "<class 'statsmodels.iolib.summary.Summary'>\n",
       "\"\"\"\n",
       "                             OLS Regression Results                            \n",
       "===============================================================================\n",
       "Dep. Variable:     price_by_month_week   R-squared:                       0.615\n",
       "Model:                             OLS   Adj. R-squared:                  0.615\n",
       "Method:                  Least Squares   F-statistic:                     5726.\n",
       "Date:                 Mon, 17 Sep 2018   Prob (F-statistic):               0.00\n",
       "Time:                         01:35:10   Log-Likelihood:            -9.6038e+05\n",
       "No. Observations:               171940   AIC:                         1.921e+06\n",
       "Df Residuals:                   171891   BIC:                         1.921e+06\n",
       "Df Model:                           48                                         \n",
       "Covariance Type:             nonrobust                                         \n",
       "==============================================================================\n",
       "                 coef    std err          t      P>|t|      [0.025      0.975]\n",
       "------------------------------------------------------------------------------\n",
       "const        160.9735      0.156   1032.138      0.000     160.668     161.279\n",
       "x1         -6.923e+11   8.62e+11     -0.803      0.422   -2.38e+12    9.97e+11\n",
       "x2         -6.947e+11   8.65e+11     -0.803      0.422   -2.39e+12       1e+12\n",
       "x3         -6.921e+11   8.61e+11     -0.803      0.422   -2.38e+12    9.96e+11\n",
       "x4         -6.906e+11    8.6e+11     -0.803      0.422   -2.38e+12    9.94e+11\n",
       "x5         -6.938e+11   8.64e+11     -0.803      0.422   -2.39e+12    9.99e+11\n",
       "x6         -6.947e+11   8.65e+11     -0.803      0.422   -2.39e+12       1e+12\n",
       "x7         -6.935e+11   8.63e+11     -0.803      0.422   -2.39e+12    9.98e+11\n",
       "x8         -6.747e+11    8.4e+11     -0.803      0.422   -2.32e+12    9.71e+11\n",
       "x9         -6.489e+11   8.08e+11     -0.803      0.422   -2.23e+12    9.34e+11\n",
       "x10        -6.795e+11   8.46e+11     -0.803      0.422   -2.34e+12    9.78e+11\n",
       "x11        -6.862e+11   8.54e+11     -0.803      0.422   -2.36e+12    9.88e+11\n",
       "x12        -6.909e+11    8.6e+11     -0.803      0.422   -2.38e+12    9.95e+11\n",
       "x13         1.658e+13   1.39e+13      1.190      0.234   -1.07e+13    4.39e+13\n",
       "x14         1.649e+13   1.39e+13      1.190      0.234   -1.07e+13    4.36e+13\n",
       "x15         1.644e+13   1.38e+13      1.190      0.234   -1.06e+13    4.35e+13\n",
       "x16         1.653e+13   1.39e+13      1.190      0.234   -1.07e+13    4.37e+13\n",
       "x17         1.648e+13   1.38e+13      1.190      0.234   -1.07e+13    4.36e+13\n",
       "x18         1.652e+13   1.39e+13      1.190      0.234   -1.07e+13    4.37e+13\n",
       "x19         1.657e+13   1.39e+13      1.190      0.234   -1.07e+13    4.39e+13\n",
       "x20           29.7779      0.258    115.486      0.000      29.273      30.283\n",
       "x21            5.8699      0.192     30.639      0.000       5.494       6.245\n",
       "x22           26.0286      0.217    120.216      0.000      25.604      26.453\n",
       "x23           -9.3309      0.274    -34.044      0.000      -9.868      -8.794\n",
       "x24           20.5497      0.882     23.302      0.000      18.821      22.278\n",
       "x25           -2.1788      0.606     -3.596      0.000      -3.366      -0.991\n",
       "x26           -0.4556      0.182     -2.508      0.012      -0.812      -0.100\n",
       "x27           32.2420      0.350     92.124      0.000      31.556      32.928\n",
       "x28           -1.4094      0.299     -4.720      0.000      -1.995      -0.824\n",
       "x29            4.3982      0.222     19.810      0.000       3.963       4.833\n",
       "x30           -0.1431      0.338     -0.423      0.672      -0.806       0.520\n",
       "x31           -2.2506      0.207    -10.865      0.000      -2.657      -1.845\n",
       "x32            4.0271      0.196     20.594      0.000       3.644       4.410\n",
       "x33           -8.6996      0.228    -38.213      0.000      -9.146      -8.253\n",
       "x34           11.0612      0.351     31.481      0.000      10.373      11.750\n",
       "x35           -8.9023      0.314    -28.336      0.000      -9.518      -8.286\n",
       "x36           -4.4733      0.259    -17.257      0.000      -4.981      -3.965\n",
       "x37           -0.7918      0.163     -4.855      0.000      -1.111      -0.472\n",
       "x38            8.2895      0.200     41.505      0.000       7.898       8.681\n",
       "x39           -6.6295      0.363    -18.271      0.000      -7.341      -5.918\n",
       "x40           19.2286      0.610     31.533      0.000      18.033      20.424\n",
       "x41            5.5951      0.168     33.323      0.000       5.266       5.924\n",
       "x42            9.3783      0.183     51.227      0.000       9.019       9.737\n",
       "x43           -8.8205      0.176    -50.254      0.000      -9.164      -8.476\n",
       "x44            0.2111      0.179      1.178      0.239      -0.140       0.562\n",
       "x45           -1.5992      0.172     -9.314      0.000      -1.936      -1.263\n",
       "x46            1.9074      0.175     10.906      0.000       1.565       2.250\n",
       "x47           -1.5727      0.862     -1.825      0.068      -3.262       0.116\n",
       "x48           -1.0506      0.219     -4.806      0.000      -1.479      -0.622\n",
       "x49           -2.5596      0.175    -14.631      0.000      -2.902      -2.217\n",
       "==============================================================================\n",
       "Omnibus:                    35245.586   Durbin-Watson:                   2.003\n",
       "Prob(Omnibus):                  0.000   Jarque-Bera (JB):           107792.697\n",
       "Skew:                           1.061   Prob(JB):                         0.00\n",
       "Kurtosis:                       6.247   Cond. No.                     4.81e+14\n",
       "==============================================================================\n",
       "\n",
       "Warnings:\n",
       "[1] Standard Errors assume that the covariance matrix of the errors is correctly specified.\n",
       "[2] The smallest eigenvalue is 3.09e-24. This might indicate that there are\n",
       "strong multicollinearity problems or that the design matrix is singular.\n",
       "\"\"\""
      ]
     },
     "execution_count": 82,
     "metadata": {},
     "output_type": "execute_result"
    }
   ],
   "source": [
    "model=sm.OLS(y_train, sm.add_constant(X_train_trans))\n",
    "fit=model.fit()\n",
    "fit.summary()"
   ]
  },
  {
   "cell_type": "code",
   "execution_count": 84,
   "metadata": {
    "ExecuteTime": {
     "end_time": "2018-09-17T08:43:33.214880Z",
     "start_time": "2018-09-17T08:36:55.105711Z"
    }
   },
   "outputs": [
    {
     "name": "stdout",
     "output_type": "stream",
     "text": [
      "MSE train: 6.275, test: 46.334\n",
      "R^2 train: 0.999, test: 0.996\n"
     ]
    }
   ],
   "source": [
    "rf = RandomForestRegressor(n_estimators=500, \n",
    "                           criterion='mse', \n",
    "                           random_state=3, \n",
    "                           n_jobs=-1)\n",
    "rf.fit(X_train_trans, y_train)\n",
    "\n",
    "y_train_pred = rf.predict(X_train_trans)\n",
    "y_test_pred = rf.predict(X_test_trans)\n",
    "\n",
    "print('MSE train: %.3f, test: %.3f' % (\n",
    "        mean_squared_error(y_train, y_train_pred),\n",
    "        mean_squared_error(y_test, y_test_pred)))\n",
    "print('R^2 train: %.3f, test: %.3f' % (\n",
    "        r2_score(y_train, y_train_pred),\n",
    "        r2_score(y_test, y_test_pred)))"
   ]
  },
  {
   "cell_type": "code",
   "execution_count": 85,
   "metadata": {
    "ExecuteTime": {
     "end_time": "2018-09-17T08:43:34.254090Z",
     "start_time": "2018-09-17T08:43:34.238853Z"
    }
   },
   "outputs": [
    {
     "data": {
      "text/plain": [
       "3006"
      ]
     },
     "execution_count": 85,
     "metadata": {},
     "output_type": "execute_result"
    }
   ],
   "source": [
    "df_final.listing_id.nunique()"
   ]
  },
  {
   "cell_type": "code",
   "execution_count": 86,
   "metadata": {
    "ExecuteTime": {
     "end_time": "2018-09-17T08:43:35.186541Z",
     "start_time": "2018-09-17T08:43:35.164602Z"
    }
   },
   "outputs": [
    {
     "data": {
      "text/plain": [
       "count    245629.000000\n",
       "mean        161.184664\n",
       "std         104.196466\n",
       "min          40.000000\n",
       "25%          85.000000\n",
       "50%         129.000000\n",
       "75%         210.000000\n",
       "max         550.000000\n",
       "Name: price_by_month_week, dtype: float64"
      ]
     },
     "execution_count": 86,
     "metadata": {},
     "output_type": "execute_result"
    }
   ],
   "source": [
    "# Double check on price range. The range is as expected\n",
    "\n",
    "y.describe(include='all')"
   ]
  },
  {
   "cell_type": "code",
   "execution_count": 93,
   "metadata": {
    "ExecuteTime": {
     "end_time": "2018-09-17T08:49:24.394538Z",
     "start_time": "2018-09-17T08:49:23.054784Z"
    }
   },
   "outputs": [],
   "source": [
    "# Map feature importance with labels\n",
    "\n",
    "feature_labels = X.columns\n",
    "feature_tuples = zip (feature_labels, rf.feature_importances_)\n",
    "feature_lists = [list(feature_tuple) for feature_tuple in feature_tuples]"
   ]
  },
  {
   "cell_type": "code",
   "execution_count": 94,
   "metadata": {
    "ExecuteTime": {
     "end_time": "2018-09-17T08:49:25.405963Z",
     "start_time": "2018-09-17T08:49:25.396236Z"
    }
   },
   "outputs": [
    {
     "data": {
      "text/plain": [
       "[['bedrooms', 0.41539271239871695],\n",
       " ['cleaning_fee', 0.07056349520807106],\n",
       " ['room_type_Entire home/apt', 0.06710217614155958],\n",
       " ['accommodates', 0.06152756207677519],\n",
       " ['reviews_per_month', 0.04820969602586177],\n",
       " ['host_listings_count', 0.04268704680364848],\n",
       " ['number_of_reviews', 0.030449019423465874],\n",
       " ['bathrooms', 0.026738801666754766],\n",
       " ['review_scores_rating_log10', 0.025195363282753944],\n",
       " ['calculated_host_listings_count', 0.022218468730701723],\n",
       " ['host_yrs', 0.017645781474501483],\n",
       " ['city_San Francisco', 0.01761570948821343],\n",
       " ['host_response_rate', 0.015216314152970763],\n",
       " ['yrs_since_first_review', 0.011592553554916004],\n",
       " ['guests_included', 0.0108933618394976],\n",
       " ['jurisdiction_names_Santa Cruz County, CA', 0.010732405026194698],\n",
       " ['beds', 0.00936549182893976],\n",
       " ['city_Oakland', 0.009356596426260801],\n",
       " ['host_is_superhost_f', 0.008670821525023869],\n",
       " ['host_identity_verified_f', 0.00781472157957092],\n",
       " ['review_scores_value_log10', 0.007519074342685424],\n",
       " ['review_scores_location_log10', 0.0075096767037659915],\n",
       " ['amenities_Cable TV', 0.006264408357444257],\n",
       " ['amenities_Lock on bedroom door', 0.0045946347036647265],\n",
       " ['amenities_Familykid friendly', 0.004534598261154696],\n",
       " ['amenities_Air conditioning', 0.004207876655850017],\n",
       " ['neighbourhood_cleansed_San Jose', 0.003984895259427282],\n",
       " ['day_of_week_5', 0.0037023633434970066],\n",
       " ['day_of_week_4', 0.003691608651839468],\n",
       " ['amenities_Private entrance', 0.003655302473071826],\n",
       " ['month_9', 0.0022549192309190523],\n",
       " ['neighbourhood_cleansed_Palo Alto', 0.0022081077249906603],\n",
       " ['month_11', 0.00213335319391905],\n",
       " ['month_10', 0.00201351414554342],\n",
       " ['month_8', 0.0020037613588046767],\n",
       " ['month_12', 0.0019970774308440105],\n",
       " ['month_7', 0.001762101346347628],\n",
       " ['month_6', 0.0016426890639843021],\n",
       " ['district_Santa Clara', 0.001416141320010072],\n",
       " ['month_1', 0.0011504079269506304],\n",
       " ['month_5', 0.0006809785022901225],\n",
       " ['month_2', 0.00041105106638957413],\n",
       " ['month_3', 0.0003847006915942873],\n",
       " ['month_4', 0.0003721327548790676],\n",
       " ['day_of_week_6', 0.00028004434402386513],\n",
       " ['day_of_week_3', 0.00016615593541141504],\n",
       " ['day_of_week_1', 0.00016567655188413056],\n",
       " ['day_of_week_0', 0.00015574372574556747],\n",
       " ['day_of_week_2', 0.00014890627866901094]]"
      ]
     },
     "execution_count": 94,
     "metadata": {},
     "output_type": "execute_result"
    }
   ],
   "source": [
    "# Order features based on importance\n",
    "\n",
    "feature_lists.sort(key=lambda x: abs(x[1]), reverse=True)\n",
    "feature_lists"
   ]
  },
  {
   "cell_type": "code",
   "execution_count": 96,
   "metadata": {
    "ExecuteTime": {
     "end_time": "2018-09-17T09:26:59.393820Z",
     "start_time": "2018-09-17T09:26:59.382939Z"
    }
   },
   "outputs": [
    {
     "data": {
      "text/plain": [
       "['bedrooms',\n",
       " 'cleaning_fee',\n",
       " 'room_type_Entire home/apt',\n",
       " 'accommodates',\n",
       " 'reviews_per_month',\n",
       " 'host_listings_count',\n",
       " 'number_of_reviews',\n",
       " 'bathrooms',\n",
       " 'review_scores_rating_log10',\n",
       " 'calculated_host_listings_count',\n",
       " 'host_yrs',\n",
       " 'city_San Francisco',\n",
       " 'host_response_rate',\n",
       " 'yrs_since_first_review',\n",
       " 'guests_included',\n",
       " 'jurisdiction_names_Santa Cruz County, CA',\n",
       " 'beds',\n",
       " 'city_Oakland',\n",
       " 'host_is_superhost_f',\n",
       " 'host_identity_verified_f',\n",
       " 'review_scores_value_log10',\n",
       " 'review_scores_location_log10',\n",
       " 'amenities_Cable TV',\n",
       " 'amenities_Lock on bedroom door',\n",
       " 'amenities_Familykid friendly',\n",
       " 'amenities_Air conditioning',\n",
       " 'neighbourhood_cleansed_San Jose',\n",
       " 'day_of_week_5',\n",
       " 'day_of_week_4',\n",
       " 'amenities_Private entrance',\n",
       " 'month_9',\n",
       " 'neighbourhood_cleansed_Palo Alto',\n",
       " 'month_11',\n",
       " 'month_10',\n",
       " 'month_8',\n",
       " 'month_12',\n",
       " 'month_7',\n",
       " 'month_6',\n",
       " 'district_Santa Clara',\n",
       " 'month_1',\n",
       " 'month_5',\n",
       " 'month_2',\n",
       " 'month_3',\n",
       " 'month_4',\n",
       " 'day_of_week_6',\n",
       " 'day_of_week_3',\n",
       " 'day_of_week_1',\n",
       " 'day_of_week_0',\n",
       " 'day_of_week_2']"
      ]
     },
     "execution_count": 96,
     "metadata": {},
     "output_type": "execute_result"
    }
   ],
   "source": [
    "features = [list_[0] for list_ in feature_lists]\n",
    "features"
   ]
  },
  {
   "cell_type": "code",
   "execution_count": 95,
   "metadata": {
    "ExecuteTime": {
     "end_time": "2018-09-17T09:23:50.818099Z",
     "start_time": "2018-09-17T09:23:50.796517Z"
    }
   },
   "outputs": [],
   "source": [
    "columns =['listing_id']\n",
    "columns.extend"
   ]
  },
  {
   "cell_type": "code",
   "execution_count": null,
   "metadata": {},
   "outputs": [],
   "source": []
  }
 ],
 "metadata": {
  "kernelspec": {
   "display_name": "Python 3",
   "language": "python",
   "name": "python3"
  },
  "language_info": {
   "codemirror_mode": {
    "name": "ipython",
    "version": 3
   },
   "file_extension": ".py",
   "mimetype": "text/x-python",
   "name": "python",
   "nbconvert_exporter": "python",
   "pygments_lexer": "ipython3",
   "version": "3.6.6"
  },
  "varInspector": {
   "cols": {
    "lenName": 16,
    "lenType": 16,
    "lenVar": 40
   },
   "kernels_config": {
    "python": {
     "delete_cmd_postfix": "",
     "delete_cmd_prefix": "del ",
     "library": "var_list.py",
     "varRefreshCmd": "print(var_dic_list())"
    },
    "r": {
     "delete_cmd_postfix": ") ",
     "delete_cmd_prefix": "rm(",
     "library": "var_list.r",
     "varRefreshCmd": "cat(var_dic_list()) "
    }
   },
   "types_to_exclude": [
    "module",
    "function",
    "builtin_function_or_method",
    "instance",
    "_Feature"
   ],
   "window_display": false
  }
 },
 "nbformat": 4,
 "nbformat_minor": 2
}
