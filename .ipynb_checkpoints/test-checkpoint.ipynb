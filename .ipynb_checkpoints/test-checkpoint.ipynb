{
 "cells": [
  {
   "cell_type": "markdown",
   "metadata": {},
   "source": [
    "# Data Retrieval"
   ]
  },
  {
   "cell_type": "code",
   "execution_count": 1,
   "metadata": {
    "ExecuteTime": {
     "end_time": "2019-02-27T03:07:11.186838Z",
     "start_time": "2019-02-27T03:07:11.183804Z"
    }
   },
   "outputs": [],
   "source": [
    "import warnings\n",
    "warnings.simplefilter(action='ignore', category=Warning)"
   ]
  },
  {
   "cell_type": "code",
   "execution_count": 2,
   "metadata": {
    "ExecuteTime": {
     "end_time": "2019-02-27T03:07:14.126293Z",
     "start_time": "2019-02-27T03:07:11.701121Z"
    }
   },
   "outputs": [],
   "source": [
    "import pandas as pd\n",
    "import IPython.display\n",
    "import matplotlib.pyplot as plt\n",
    "import csv\n",
    "import re\n",
    "import numpy as np\n",
    "from datetime import datetime\n",
    "import statsmodels.api as sm\n",
    "\n",
    "from sklearn import datasets, linear_model\n",
    "from sklearn.metrics import mean_squared_error, r2_score\n",
    "from sklearn.preprocessing import StandardScaler\n",
    "from sklearn.model_selection import train_test_split\n",
    "from sklearn.ensemble import RandomForestRegressor\n",
    "from sklearn.ensemble import GradientBoostingRegressor"
   ]
  },
  {
   "cell_type": "code",
   "execution_count": 3,
   "metadata": {
    "ExecuteTime": {
     "end_time": "2019-02-27T03:07:14.160818Z",
     "start_time": "2019-02-27T03:07:14.157334Z"
    }
   },
   "outputs": [],
   "source": [
    "plt.style.use('seaborn')"
   ]
  },
  {
   "cell_type": "code",
   "execution_count": 4,
   "metadata": {
    "ExecuteTime": {
     "end_time": "2019-02-27T03:07:14.204890Z",
     "start_time": "2019-02-27T03:07:14.200154Z"
    }
   },
   "outputs": [],
   "source": [
    "# Listing files for cities: San Francisco(sf), Okaland(ok), and Santa Clara(sc)\n",
    "\n",
    "listing_url = '/Users/xzhou/github/project_archives/files_airbnb/{}.csv'\n",
    "\n",
    "sf_file = listing_url.format('sf_airbnb/listings_details')\n",
    "ok_file = listing_url.format('ok_airbnb/listings_details')\n",
    "sc_file = listing_url.format('sc_airbnb/listings_details')"
   ]
  },
  {
   "cell_type": "code",
   "execution_count": 5,
   "metadata": {
    "ExecuteTime": {
     "end_time": "2019-02-27T03:07:18.528456Z",
     "start_time": "2019-02-27T03:07:15.268900Z"
    }
   },
   "outputs": [
    {
     "name": "stdout",
     "output_type": "stream",
     "text": [
      "sf file dimensions:  (6633, 96)\n",
      "ok file dimensions:  (2898, 96)\n",
      "sc file dimensions:  (5668, 96)\n"
     ]
    }
   ],
   "source": [
    "# Loaded files as DataFrame\n",
    "\n",
    "date_to_parse = ['last_scraped','host_since', 'first_review', 'last_review']\n",
    "\n",
    "listings_sf = pd.read_csv(sf_file, parse_dates=date_to_parse)\n",
    "listings_ok = pd.read_csv(ok_file, parse_dates=date_to_parse)\n",
    "listings_sc = pd.read_csv(sc_file, parse_dates=date_to_parse)\n",
    "\n",
    "print('sf file dimensions: ', listings_sf.shape) \n",
    "print('ok file dimensions: ', listings_ok.shape) \n",
    "print('sc file dimensions: ', listings_sc.shape) "
   ]
  },
  {
   "cell_type": "code",
   "execution_count": 6,
   "metadata": {
    "ExecuteTime": {
     "end_time": "2019-02-27T03:07:33.893201Z",
     "start_time": "2019-02-27T03:07:33.623616Z"
    },
    "scrolled": true
   },
   "outputs": [
    {
     "data": {
      "text/html": [
       "<div>\n",
       "<style scoped>\n",
       "    .dataframe tbody tr th:only-of-type {\n",
       "        vertical-align: middle;\n",
       "    }\n",
       "\n",
       "    .dataframe tbody tr th {\n",
       "        vertical-align: top;\n",
       "    }\n",
       "\n",
       "    .dataframe thead th {\n",
       "        text-align: right;\n",
       "    }\n",
       "</style>\n",
       "<table border=\"1\" class=\"dataframe\">\n",
       "  <thead>\n",
       "    <tr style=\"text-align: right;\">\n",
       "      <th></th>\n",
       "      <th></th>\n",
       "      <th>id</th>\n",
       "      <th>listing_url</th>\n",
       "      <th>scrape_id</th>\n",
       "      <th>last_scraped</th>\n",
       "      <th>name</th>\n",
       "      <th>summary</th>\n",
       "      <th>space</th>\n",
       "      <th>description</th>\n",
       "      <th>experiences_offered</th>\n",
       "      <th>neighborhood_overview</th>\n",
       "      <th>...</th>\n",
       "      <th>requires_license</th>\n",
       "      <th>license</th>\n",
       "      <th>jurisdiction_names</th>\n",
       "      <th>instant_bookable</th>\n",
       "      <th>is_business_travel_ready</th>\n",
       "      <th>cancellation_policy</th>\n",
       "      <th>require_guest_profile_picture</th>\n",
       "      <th>require_guest_phone_verification</th>\n",
       "      <th>calculated_host_listings_count</th>\n",
       "      <th>reviews_per_month</th>\n",
       "    </tr>\n",
       "  </thead>\n",
       "  <tbody>\n",
       "    <tr>\n",
       "      <th rowspan=\"5\" valign=\"top\">sf</th>\n",
       "      <th>0</th>\n",
       "      <td>958</td>\n",
       "      <td>https://www.airbnb.com/rooms/958</td>\n",
       "      <td>2.018080e+13</td>\n",
       "      <td>2018-08-06</td>\n",
       "      <td>Bright, Modern Garden Unit - 1BR/1B</td>\n",
       "      <td>Our bright garden unit overlooks a grassy back...</td>\n",
       "      <td>Newly remodeled, modern, and bright garden uni...</td>\n",
       "      <td>Our bright garden unit overlooks a grassy back...</td>\n",
       "      <td>none</td>\n",
       "      <td>*Quiet cul de sac in friendly neighborhood *St...</td>\n",
       "      <td>...</td>\n",
       "      <td>t</td>\n",
       "      <td>STR-0001256</td>\n",
       "      <td>{\"SAN FRANCISCO\"}</td>\n",
       "      <td>f</td>\n",
       "      <td>f</td>\n",
       "      <td>moderate</td>\n",
       "      <td>f</td>\n",
       "      <td>f</td>\n",
       "      <td>1</td>\n",
       "      <td>1.38</td>\n",
       "    </tr>\n",
       "    <tr>\n",
       "      <th>1</th>\n",
       "      <td>5858</td>\n",
       "      <td>https://www.airbnb.com/rooms/5858</td>\n",
       "      <td>2.018080e+13</td>\n",
       "      <td>2018-08-06</td>\n",
       "      <td>Creative Sanctuary</td>\n",
       "      <td>NaN</td>\n",
       "      <td>We live in a large Victorian house on a quiet ...</td>\n",
       "      <td>We live in a large Victorian house on a quiet ...</td>\n",
       "      <td>none</td>\n",
       "      <td>I love how our neighborhood feels quiet but is...</td>\n",
       "      <td>...</td>\n",
       "      <td>t</td>\n",
       "      <td>NaN</td>\n",
       "      <td>{\"SAN FRANCISCO\"}</td>\n",
       "      <td>f</td>\n",
       "      <td>f</td>\n",
       "      <td>strict_14_with_grace_period</td>\n",
       "      <td>f</td>\n",
       "      <td>f</td>\n",
       "      <td>1</td>\n",
       "      <td>0.99</td>\n",
       "    </tr>\n",
       "    <tr>\n",
       "      <th>2</th>\n",
       "      <td>7918</td>\n",
       "      <td>https://www.airbnb.com/rooms/7918</td>\n",
       "      <td>2.018080e+13</td>\n",
       "      <td>2018-08-06</td>\n",
       "      <td>A Friendly Room - UCSF/USF - San Francisco</td>\n",
       "      <td>Nice and good public transportation.  7 minute...</td>\n",
       "      <td>Room rental-sunny view room/sink/Wi Fi (inner ...</td>\n",
       "      <td>Nice and good public transportation.  7 minute...</td>\n",
       "      <td>none</td>\n",
       "      <td>Shopping old town, restaurants, McDonald, Whol...</td>\n",
       "      <td>...</td>\n",
       "      <td>t</td>\n",
       "      <td>NaN</td>\n",
       "      <td>{\"SAN FRANCISCO\"}</td>\n",
       "      <td>f</td>\n",
       "      <td>f</td>\n",
       "      <td>strict_14_with_grace_period</td>\n",
       "      <td>f</td>\n",
       "      <td>f</td>\n",
       "      <td>9</td>\n",
       "      <td>0.16</td>\n",
       "    </tr>\n",
       "    <tr>\n",
       "      <th>3</th>\n",
       "      <td>8142</td>\n",
       "      <td>https://www.airbnb.com/rooms/8142</td>\n",
       "      <td>2.018080e+13</td>\n",
       "      <td>2018-08-06</td>\n",
       "      <td>Friendly Room Apt. Style -UCSF/USF - San Franc...</td>\n",
       "      <td>Nice and good public transportation.  7 minute...</td>\n",
       "      <td>Room rental Sunny view Rm/Wi-Fi/TV/sink/large ...</td>\n",
       "      <td>Nice and good public transportation.  7 minute...</td>\n",
       "      <td>none</td>\n",
       "      <td>NaN</td>\n",
       "      <td>...</td>\n",
       "      <td>t</td>\n",
       "      <td>NaN</td>\n",
       "      <td>{\"SAN FRANCISCO\"}</td>\n",
       "      <td>f</td>\n",
       "      <td>f</td>\n",
       "      <td>strict_14_with_grace_period</td>\n",
       "      <td>f</td>\n",
       "      <td>f</td>\n",
       "      <td>9</td>\n",
       "      <td>0.15</td>\n",
       "    </tr>\n",
       "    <tr>\n",
       "      <th>4</th>\n",
       "      <td>8339</td>\n",
       "      <td>https://www.airbnb.com/rooms/8339</td>\n",
       "      <td>2.018080e+13</td>\n",
       "      <td>2018-08-06</td>\n",
       "      <td>Historic Alamo Square Victorian</td>\n",
       "      <td>Pls email before booking.  Interior featured i...</td>\n",
       "      <td>Please send us a quick message before booking ...</td>\n",
       "      <td>Pls email before booking.  Interior featured i...</td>\n",
       "      <td>none</td>\n",
       "      <td>NaN</td>\n",
       "      <td>...</td>\n",
       "      <td>t</td>\n",
       "      <td>STR-0000264</td>\n",
       "      <td>{\"SAN FRANCISCO\"}</td>\n",
       "      <td>f</td>\n",
       "      <td>f</td>\n",
       "      <td>strict_14_with_grace_period</td>\n",
       "      <td>t</td>\n",
       "      <td>t</td>\n",
       "      <td>2</td>\n",
       "      <td>0.24</td>\n",
       "    </tr>\n",
       "  </tbody>\n",
       "</table>\n",
       "<p>5 rows × 96 columns</p>\n",
       "</div>"
      ],
      "text/plain": [
       "        id                        listing_url     scrape_id last_scraped  \\\n",
       "sf 0   958   https://www.airbnb.com/rooms/958  2.018080e+13   2018-08-06   \n",
       "   1  5858  https://www.airbnb.com/rooms/5858  2.018080e+13   2018-08-06   \n",
       "   2  7918  https://www.airbnb.com/rooms/7918  2.018080e+13   2018-08-06   \n",
       "   3  8142  https://www.airbnb.com/rooms/8142  2.018080e+13   2018-08-06   \n",
       "   4  8339  https://www.airbnb.com/rooms/8339  2.018080e+13   2018-08-06   \n",
       "\n",
       "                                                   name  \\\n",
       "sf 0                Bright, Modern Garden Unit - 1BR/1B   \n",
       "   1                                 Creative Sanctuary   \n",
       "   2         A Friendly Room - UCSF/USF - San Francisco   \n",
       "   3  Friendly Room Apt. Style -UCSF/USF - San Franc...   \n",
       "   4                    Historic Alamo Square Victorian   \n",
       "\n",
       "                                                summary  \\\n",
       "sf 0  Our bright garden unit overlooks a grassy back...   \n",
       "   1                                                NaN   \n",
       "   2  Nice and good public transportation.  7 minute...   \n",
       "   3  Nice and good public transportation.  7 minute...   \n",
       "   4  Pls email before booking.  Interior featured i...   \n",
       "\n",
       "                                                  space  \\\n",
       "sf 0  Newly remodeled, modern, and bright garden uni...   \n",
       "   1  We live in a large Victorian house on a quiet ...   \n",
       "   2  Room rental-sunny view room/sink/Wi Fi (inner ...   \n",
       "   3  Room rental Sunny view Rm/Wi-Fi/TV/sink/large ...   \n",
       "   4  Please send us a quick message before booking ...   \n",
       "\n",
       "                                            description experiences_offered  \\\n",
       "sf 0  Our bright garden unit overlooks a grassy back...                none   \n",
       "   1  We live in a large Victorian house on a quiet ...                none   \n",
       "   2  Nice and good public transportation.  7 minute...                none   \n",
       "   3  Nice and good public transportation.  7 minute...                none   \n",
       "   4  Pls email before booking.  Interior featured i...                none   \n",
       "\n",
       "                                  neighborhood_overview        ...          \\\n",
       "sf 0  *Quiet cul de sac in friendly neighborhood *St...        ...           \n",
       "   1  I love how our neighborhood feels quiet but is...        ...           \n",
       "   2  Shopping old town, restaurants, McDonald, Whol...        ...           \n",
       "   3                                                NaN        ...           \n",
       "   4                                                NaN        ...           \n",
       "\n",
       "     requires_license      license jurisdiction_names instant_bookable  \\\n",
       "sf 0                t  STR-0001256  {\"SAN FRANCISCO\"}                f   \n",
       "   1                t          NaN  {\"SAN FRANCISCO\"}                f   \n",
       "   2                t          NaN  {\"SAN FRANCISCO\"}                f   \n",
       "   3                t          NaN  {\"SAN FRANCISCO\"}                f   \n",
       "   4                t  STR-0000264  {\"SAN FRANCISCO\"}                f   \n",
       "\n",
       "     is_business_travel_ready          cancellation_policy  \\\n",
       "sf 0                        f                     moderate   \n",
       "   1                        f  strict_14_with_grace_period   \n",
       "   2                        f  strict_14_with_grace_period   \n",
       "   3                        f  strict_14_with_grace_period   \n",
       "   4                        f  strict_14_with_grace_period   \n",
       "\n",
       "      require_guest_profile_picture require_guest_phone_verification  \\\n",
       "sf 0                              f                                f   \n",
       "   1                              f                                f   \n",
       "   2                              f                                f   \n",
       "   3                              f                                f   \n",
       "   4                              t                                t   \n",
       "\n",
       "      calculated_host_listings_count  reviews_per_month  \n",
       "sf 0                               1               1.38  \n",
       "   1                               1               0.99  \n",
       "   2                               9               0.16  \n",
       "   3                               9               0.15  \n",
       "   4                               2               0.24  \n",
       "\n",
       "[5 rows x 96 columns]"
      ]
     },
     "execution_count": 6,
     "metadata": {},
     "output_type": "execute_result"
    }
   ],
   "source": [
    "# Concatenated four files into one\n",
    "# Created keys for each file for future references\n",
    "\n",
    "frames = [listings_sf, listings_ok, listings_sc]\n",
    "keys = ['sf', 'ok', 'sc']\n",
    "\n",
    "df_listings = pd.concat(frames, keys=keys)\n",
    "df_listings.reset_index()\n",
    "\n",
    "df_listings.head()"
   ]
  },
  {
   "cell_type": "code",
   "execution_count": 7,
   "metadata": {
    "ExecuteTime": {
     "end_time": "2019-02-27T03:07:48.011417Z",
     "start_time": "2019-02-27T03:07:47.778565Z"
    }
   },
   "outputs": [],
   "source": [
    "# Added additional column to keep track of original district\n",
    "\n",
    "df_listings['district'] = ''\n",
    "\n",
    "df_listings.loc['sf']['district'] = 'San Francisco'\n",
    "df_listings.loc['ok']['district'] = 'Oakland'\n",
    "df_listings.loc['sc']['district'] = 'Santa Clara'\n",
    "# df_listings.loc['scz']['district'] = 'Santa Cruz'"
   ]
  },
  {
   "cell_type": "code",
   "execution_count": 8,
   "metadata": {
    "ExecuteTime": {
     "end_time": "2019-02-27T03:07:49.113990Z",
     "start_time": "2019-02-27T03:07:49.099776Z"
    }
   },
   "outputs": [
    {
     "data": {
      "text/html": [
       "<div>\n",
       "<style scoped>\n",
       "    .dataframe tbody tr th:only-of-type {\n",
       "        vertical-align: middle;\n",
       "    }\n",
       "\n",
       "    .dataframe tbody tr th {\n",
       "        vertical-align: top;\n",
       "    }\n",
       "\n",
       "    .dataframe thead th {\n",
       "        text-align: right;\n",
       "    }\n",
       "</style>\n",
       "<table border=\"1\" class=\"dataframe\">\n",
       "  <thead>\n",
       "    <tr style=\"text-align: right;\">\n",
       "      <th></th>\n",
       "      <th></th>\n",
       "      <th>id</th>\n",
       "      <th>district</th>\n",
       "    </tr>\n",
       "  </thead>\n",
       "  <tbody>\n",
       "    <tr>\n",
       "      <th rowspan=\"5\" valign=\"top\">sf</th>\n",
       "      <th>0</th>\n",
       "      <td>958</td>\n",
       "      <td>San Francisco</td>\n",
       "    </tr>\n",
       "    <tr>\n",
       "      <th>1</th>\n",
       "      <td>5858</td>\n",
       "      <td>San Francisco</td>\n",
       "    </tr>\n",
       "    <tr>\n",
       "      <th>2</th>\n",
       "      <td>7918</td>\n",
       "      <td>San Francisco</td>\n",
       "    </tr>\n",
       "    <tr>\n",
       "      <th>3</th>\n",
       "      <td>8142</td>\n",
       "      <td>San Francisco</td>\n",
       "    </tr>\n",
       "    <tr>\n",
       "      <th>4</th>\n",
       "      <td>8339</td>\n",
       "      <td>San Francisco</td>\n",
       "    </tr>\n",
       "  </tbody>\n",
       "</table>\n",
       "</div>"
      ],
      "text/plain": [
       "        id       district\n",
       "sf 0   958  San Francisco\n",
       "   1  5858  San Francisco\n",
       "   2  7918  San Francisco\n",
       "   3  8142  San Francisco\n",
       "   4  8339  San Francisco"
      ]
     },
     "execution_count": 8,
     "metadata": {},
     "output_type": "execute_result"
    }
   ],
   "source": [
    "# Created a separate dataframe to keep track of district\n",
    "# The data frame will be used in later stage\n",
    "\n",
    "df_district =  df_listings.loc[:, ['id', 'district']]\n",
    "df_district.head()"
   ]
  },
  {
   "cell_type": "code",
   "execution_count": 9,
   "metadata": {
    "ExecuteTime": {
     "end_time": "2019-02-27T03:07:54.189860Z",
     "start_time": "2019-02-27T03:07:54.186183Z"
    }
   },
   "outputs": [],
   "source": [
    "# Pricing files for cities: San Francisco(sf), Okaland(ok), and Santa Clara(sc)\n",
    "\n",
    "pricing_url = '/Users/xzhou/github/project_archives/files_airbnb/{}/calendar.csv'\n",
    "\n",
    "sf_file = pricing_url.format('sf_airbnb')\n",
    "ok_file = pricing_url.format('ok_airbnb')\n",
    "sc_file = pricing_url.format('sc_airbnb')"
   ]
  },
  {
   "cell_type": "code",
   "execution_count": 10,
   "metadata": {
    "ExecuteTime": {
     "end_time": "2019-02-27T03:08:01.103084Z",
     "start_time": "2019-02-27T03:07:55.842085Z"
    }
   },
   "outputs": [
    {
     "name": "stdout",
     "output_type": "stream",
     "text": [
      "(2420680, 4) (1057770, 4) (2068820, 4)\n"
     ]
    }
   ],
   "source": [
    "# Loaded price by date information for each city\n",
    "\n",
    "pricing_sf = pd.read_csv(sf_file, parse_dates=['date'])\n",
    "pricing_ok = pd.read_csv(ok_file, parse_dates=['date'])\n",
    "pricing_sc = pd.read_csv(sc_file, parse_dates=['date'])\n",
    "\n",
    "print(pricing_sf.shape, pricing_ok.shape, pricing_sc.shape)"
   ]
  },
  {
   "cell_type": "code",
   "execution_count": 11,
   "metadata": {
    "ExecuteTime": {
     "end_time": "2019-02-27T03:08:03.364802Z",
     "start_time": "2019-02-27T03:08:02.227271Z"
    }
   },
   "outputs": [
    {
     "data": {
      "text/html": [
       "<div>\n",
       "<style scoped>\n",
       "    .dataframe tbody tr th:only-of-type {\n",
       "        vertical-align: middle;\n",
       "    }\n",
       "\n",
       "    .dataframe tbody tr th {\n",
       "        vertical-align: top;\n",
       "    }\n",
       "\n",
       "    .dataframe thead th {\n",
       "        text-align: right;\n",
       "    }\n",
       "</style>\n",
       "<table border=\"1\" class=\"dataframe\">\n",
       "  <thead>\n",
       "    <tr style=\"text-align: right;\">\n",
       "      <th></th>\n",
       "      <th></th>\n",
       "      <th>listing_id</th>\n",
       "      <th>date</th>\n",
       "      <th>available</th>\n",
       "      <th>price</th>\n",
       "    </tr>\n",
       "  </thead>\n",
       "  <tbody>\n",
       "    <tr>\n",
       "      <th rowspan=\"10\" valign=\"top\">pricing_sf</th>\n",
       "      <th>0</th>\n",
       "      <td>958</td>\n",
       "      <td>2019-08-05</td>\n",
       "      <td>f</td>\n",
       "      <td>NaN</td>\n",
       "    </tr>\n",
       "    <tr>\n",
       "      <th>1</th>\n",
       "      <td>958</td>\n",
       "      <td>2019-08-04</td>\n",
       "      <td>f</td>\n",
       "      <td>NaN</td>\n",
       "    </tr>\n",
       "    <tr>\n",
       "      <th>2</th>\n",
       "      <td>958</td>\n",
       "      <td>2019-08-03</td>\n",
       "      <td>f</td>\n",
       "      <td>NaN</td>\n",
       "    </tr>\n",
       "    <tr>\n",
       "      <th>3</th>\n",
       "      <td>958</td>\n",
       "      <td>2019-08-02</td>\n",
       "      <td>f</td>\n",
       "      <td>NaN</td>\n",
       "    </tr>\n",
       "    <tr>\n",
       "      <th>4</th>\n",
       "      <td>958</td>\n",
       "      <td>2019-08-01</td>\n",
       "      <td>f</td>\n",
       "      <td>NaN</td>\n",
       "    </tr>\n",
       "    <tr>\n",
       "      <th>5</th>\n",
       "      <td>958</td>\n",
       "      <td>2019-07-31</td>\n",
       "      <td>f</td>\n",
       "      <td>NaN</td>\n",
       "    </tr>\n",
       "    <tr>\n",
       "      <th>6</th>\n",
       "      <td>958</td>\n",
       "      <td>2019-07-30</td>\n",
       "      <td>f</td>\n",
       "      <td>NaN</td>\n",
       "    </tr>\n",
       "    <tr>\n",
       "      <th>7</th>\n",
       "      <td>958</td>\n",
       "      <td>2019-07-29</td>\n",
       "      <td>f</td>\n",
       "      <td>NaN</td>\n",
       "    </tr>\n",
       "    <tr>\n",
       "      <th>8</th>\n",
       "      <td>958</td>\n",
       "      <td>2019-07-28</td>\n",
       "      <td>f</td>\n",
       "      <td>NaN</td>\n",
       "    </tr>\n",
       "    <tr>\n",
       "      <th>9</th>\n",
       "      <td>958</td>\n",
       "      <td>2019-07-27</td>\n",
       "      <td>f</td>\n",
       "      <td>NaN</td>\n",
       "    </tr>\n",
       "  </tbody>\n",
       "</table>\n",
       "</div>"
      ],
      "text/plain": [
       "              listing_id       date available price\n",
       "pricing_sf 0         958 2019-08-05         f   NaN\n",
       "           1         958 2019-08-04         f   NaN\n",
       "           2         958 2019-08-03         f   NaN\n",
       "           3         958 2019-08-02         f   NaN\n",
       "           4         958 2019-08-01         f   NaN\n",
       "           5         958 2019-07-31         f   NaN\n",
       "           6         958 2019-07-30         f   NaN\n",
       "           7         958 2019-07-29         f   NaN\n",
       "           8         958 2019-07-28         f   NaN\n",
       "           9         958 2019-07-27         f   NaN"
      ]
     },
     "execution_count": 11,
     "metadata": {},
     "output_type": "execute_result"
    }
   ],
   "source": [
    "# Concatenated all files into one\n",
    "# Created keys for each file for future references\n",
    "\n",
    "frames = [pricing_sf, pricing_ok, pricing_sc]\n",
    "keys = ['pricing_sf', 'pricing_ok', 'pricing_sc']\n",
    "\n",
    "df_pricing = pd.concat(frames, keys=keys)\n",
    "\n",
    "df_pricing.head(10)"
   ]
  },
  {
   "cell_type": "code",
   "execution_count": 14,
   "metadata": {
    "ExecuteTime": {
     "end_time": "2019-02-27T03:16:04.158081Z",
     "start_time": "2019-02-27T03:16:03.451987Z"
    }
   },
   "outputs": [
    {
     "name": "stdout",
     "output_type": "stream",
     "text": [
      "Dimension for df_pricing_smaller:  (2588352, 4)\n",
      "\n",
      "Number of Unique ids:  13452\n"
     ]
    }
   ],
   "source": [
    "# Filter to houses that have pricing information available\n",
    "\n",
    "df_pricing_smaller = df_pricing[df_pricing['available']=='t']\n",
    "df_pricing_smaller = df_pricing_smaller.copy()\n",
    "\n",
    "print('Dimension for df_pricing_smaller: ', df_pricing_smaller.shape)\n",
    "print ('\\nNumber of Unique ids: ', df_pricing_smaller.listing_id.nunique())"
   ]
  },
  {
   "cell_type": "code",
   "execution_count": 15,
   "metadata": {
    "ExecuteTime": {
     "end_time": "2019-02-27T03:17:12.777094Z",
     "start_time": "2019-02-27T03:16:29.445994Z"
    }
   },
   "outputs": [
    {
     "data": {
      "text/plain": [
       "(2588352, 101)"
      ]
     },
     "execution_count": 15,
     "metadata": {},
     "output_type": "execute_result"
    }
   ],
   "source": [
    "df_merge = pd.merge(left=df_listings, right=df_pricing_smaller,\n",
    "                    how ='inner', left_on='id', right_on='listing_id')\n",
    "df_merge.shape"
   ]
  },
  {
   "cell_type": "markdown",
   "metadata": {
    "ExecuteTime": {
     "end_time": "2019-02-17T07:21:58.910805Z",
     "start_time": "2019-02-17T07:21:58.906832Z"
    }
   },
   "source": [
    "# Data Exploration"
   ]
  },
  {
   "cell_type": "markdown",
   "metadata": {
    "ExecuteTime": {
     "end_time": "2019-02-17T07:23:36.535268Z",
     "start_time": "2019-02-17T07:23:36.531980Z"
    }
   },
   "source": [
    "## Smaller Set of Features"
   ]
  },
  {
   "cell_type": "code",
   "execution_count": 16,
   "metadata": {
    "ExecuteTime": {
     "end_time": "2019-02-27T03:18:16.903150Z",
     "start_time": "2019-02-27T03:17:50.879430Z"
    }
   },
   "outputs": [
    {
     "data": {
      "text/plain": [
       "id                                        0\n",
       "listing_url                               0\n",
       "scrape_id                                 0\n",
       "last_scraped                              0\n",
       "name                                    537\n",
       "summary                               94150\n",
       "space                                516566\n",
       "description                           22358\n",
       "experiences_offered                       0\n",
       "neighborhood_overview                902675\n",
       "notes                               1156877\n",
       "transit                              914406\n",
       "access                               896923\n",
       "interaction                          979988\n",
       "house_rules                          769216\n",
       "thumbnail_url                       2588352\n",
       "medium_url                          2588352\n",
       "picture_url                               0\n",
       "xl_picture_url                      2588352\n",
       "host_id                                   0\n",
       "host_url                                  0\n",
       "host_name                                 0\n",
       "host_since                                0\n",
       "host_location                          5023\n",
       "host_about                           739664\n",
       "host_response_time                   195083\n",
       "host_response_rate                   195083\n",
       "host_acceptance_rate                2588352\n",
       "host_is_superhost                         0\n",
       "host_thumbnail_url                        0\n",
       "                                     ...   \n",
       "availability_30                           0\n",
       "availability_60                           0\n",
       "availability_90                           0\n",
       "availability_365                          0\n",
       "calendar_last_scraped                     0\n",
       "number_of_reviews                         0\n",
       "first_review                         531257\n",
       "last_review                          531257\n",
       "review_scores_rating                 551086\n",
       "review_scores_accuracy               551678\n",
       "review_scores_cleanliness            551313\n",
       "review_scores_checkin                552330\n",
       "review_scores_communication          551013\n",
       "review_scores_location               551357\n",
       "review_scores_value                  551617\n",
       "requires_license                          0\n",
       "license                             2061289\n",
       "jurisdiction_names                   389352\n",
       "instant_bookable                          0\n",
       "is_business_travel_ready                  0\n",
       "cancellation_policy                       0\n",
       "require_guest_profile_picture             0\n",
       "require_guest_phone_verification          0\n",
       "calculated_host_listings_count            0\n",
       "reviews_per_month                    531257\n",
       "district                                  0\n",
       "listing_id                                0\n",
       "date                                      0\n",
       "available                                 0\n",
       "price_y                                   0\n",
       "Length: 101, dtype: int64"
      ]
     },
     "metadata": {},
     "output_type": "display_data"
    }
   ],
   "source": [
    "# Checked for Null vales within data\n",
    "\n",
    "display(df_merge.isnull().sum())"
   ]
  },
  {
   "cell_type": "code",
   "execution_count": 18,
   "metadata": {
    "ExecuteTime": {
     "end_time": "2019-02-27T03:22:51.771937Z",
     "start_time": "2019-02-27T03:22:50.321120Z"
    }
   },
   "outputs": [
    {
     "data": {
      "text/plain": [
       "'Dimensions after drilling down: '"
      ]
     },
     "metadata": {},
     "output_type": "display_data"
    },
    {
     "data": {
      "text/plain": [
       "(2588352, 44)"
      ]
     },
     "metadata": {},
     "output_type": "display_data"
    },
    {
     "data": {
      "text/html": [
       "<div>\n",
       "<style scoped>\n",
       "    .dataframe tbody tr th:only-of-type {\n",
       "        vertical-align: middle;\n",
       "    }\n",
       "\n",
       "    .dataframe tbody tr th {\n",
       "        vertical-align: top;\n",
       "    }\n",
       "\n",
       "    .dataframe thead th {\n",
       "        text-align: right;\n",
       "    }\n",
       "</style>\n",
       "<table border=\"1\" class=\"dataframe\">\n",
       "  <thead>\n",
       "    <tr style=\"text-align: right;\">\n",
       "      <th></th>\n",
       "      <th>id</th>\n",
       "      <th>host_since</th>\n",
       "      <th>host_response_time</th>\n",
       "      <th>host_response_rate</th>\n",
       "      <th>host_is_superhost</th>\n",
       "      <th>host_listings_count</th>\n",
       "      <th>host_total_listings_count</th>\n",
       "      <th>host_has_profile_pic</th>\n",
       "      <th>host_identity_verified</th>\n",
       "      <th>neighbourhood_cleansed</th>\n",
       "      <th>...</th>\n",
       "      <th>instant_bookable</th>\n",
       "      <th>is_business_travel_ready</th>\n",
       "      <th>cancellation_policy</th>\n",
       "      <th>require_guest_profile_picture</th>\n",
       "      <th>require_guest_phone_verification</th>\n",
       "      <th>calculated_host_listings_count</th>\n",
       "      <th>reviews_per_month</th>\n",
       "      <th>district</th>\n",
       "      <th>date</th>\n",
       "      <th>price_y</th>\n",
       "    </tr>\n",
       "  </thead>\n",
       "  <tbody>\n",
       "    <tr>\n",
       "      <th>0</th>\n",
       "      <td>958</td>\n",
       "      <td>2008-07-31</td>\n",
       "      <td>within an hour</td>\n",
       "      <td>92%</td>\n",
       "      <td>t</td>\n",
       "      <td>1</td>\n",
       "      <td>1</td>\n",
       "      <td>t</td>\n",
       "      <td>t</td>\n",
       "      <td>Western Addition</td>\n",
       "      <td>...</td>\n",
       "      <td>f</td>\n",
       "      <td>f</td>\n",
       "      <td>moderate</td>\n",
       "      <td>f</td>\n",
       "      <td>f</td>\n",
       "      <td>1</td>\n",
       "      <td>1.38</td>\n",
       "      <td>San Francisco</td>\n",
       "      <td>2019-05-02</td>\n",
       "      <td>$181.00</td>\n",
       "    </tr>\n",
       "    <tr>\n",
       "      <th>1</th>\n",
       "      <td>958</td>\n",
       "      <td>2008-07-31</td>\n",
       "      <td>within an hour</td>\n",
       "      <td>92%</td>\n",
       "      <td>t</td>\n",
       "      <td>1</td>\n",
       "      <td>1</td>\n",
       "      <td>t</td>\n",
       "      <td>t</td>\n",
       "      <td>Western Addition</td>\n",
       "      <td>...</td>\n",
       "      <td>f</td>\n",
       "      <td>f</td>\n",
       "      <td>moderate</td>\n",
       "      <td>f</td>\n",
       "      <td>f</td>\n",
       "      <td>1</td>\n",
       "      <td>1.38</td>\n",
       "      <td>San Francisco</td>\n",
       "      <td>2019-05-01</td>\n",
       "      <td>$181.00</td>\n",
       "    </tr>\n",
       "    <tr>\n",
       "      <th>2</th>\n",
       "      <td>958</td>\n",
       "      <td>2008-07-31</td>\n",
       "      <td>within an hour</td>\n",
       "      <td>92%</td>\n",
       "      <td>t</td>\n",
       "      <td>1</td>\n",
       "      <td>1</td>\n",
       "      <td>t</td>\n",
       "      <td>t</td>\n",
       "      <td>Western Addition</td>\n",
       "      <td>...</td>\n",
       "      <td>f</td>\n",
       "      <td>f</td>\n",
       "      <td>moderate</td>\n",
       "      <td>f</td>\n",
       "      <td>f</td>\n",
       "      <td>1</td>\n",
       "      <td>1.38</td>\n",
       "      <td>San Francisco</td>\n",
       "      <td>2019-04-30</td>\n",
       "      <td>$181.00</td>\n",
       "    </tr>\n",
       "    <tr>\n",
       "      <th>3</th>\n",
       "      <td>958</td>\n",
       "      <td>2008-07-31</td>\n",
       "      <td>within an hour</td>\n",
       "      <td>92%</td>\n",
       "      <td>t</td>\n",
       "      <td>1</td>\n",
       "      <td>1</td>\n",
       "      <td>t</td>\n",
       "      <td>t</td>\n",
       "      <td>Western Addition</td>\n",
       "      <td>...</td>\n",
       "      <td>f</td>\n",
       "      <td>f</td>\n",
       "      <td>moderate</td>\n",
       "      <td>f</td>\n",
       "      <td>f</td>\n",
       "      <td>1</td>\n",
       "      <td>1.38</td>\n",
       "      <td>San Francisco</td>\n",
       "      <td>2019-04-29</td>\n",
       "      <td>$181.00</td>\n",
       "    </tr>\n",
       "    <tr>\n",
       "      <th>4</th>\n",
       "      <td>958</td>\n",
       "      <td>2008-07-31</td>\n",
       "      <td>within an hour</td>\n",
       "      <td>92%</td>\n",
       "      <td>t</td>\n",
       "      <td>1</td>\n",
       "      <td>1</td>\n",
       "      <td>t</td>\n",
       "      <td>t</td>\n",
       "      <td>Western Addition</td>\n",
       "      <td>...</td>\n",
       "      <td>f</td>\n",
       "      <td>f</td>\n",
       "      <td>moderate</td>\n",
       "      <td>f</td>\n",
       "      <td>f</td>\n",
       "      <td>1</td>\n",
       "      <td>1.38</td>\n",
       "      <td>San Francisco</td>\n",
       "      <td>2019-04-28</td>\n",
       "      <td>$181.00</td>\n",
       "    </tr>\n",
       "  </tbody>\n",
       "</table>\n",
       "<p>5 rows × 44 columns</p>\n",
       "</div>"
      ],
      "text/plain": [
       "    id host_since host_response_time host_response_rate host_is_superhost  \\\n",
       "0  958 2008-07-31     within an hour                92%                 t   \n",
       "1  958 2008-07-31     within an hour                92%                 t   \n",
       "2  958 2008-07-31     within an hour                92%                 t   \n",
       "3  958 2008-07-31     within an hour                92%                 t   \n",
       "4  958 2008-07-31     within an hour                92%                 t   \n",
       "\n",
       "   host_listings_count  host_total_listings_count host_has_profile_pic  \\\n",
       "0                    1                          1                    t   \n",
       "1                    1                          1                    t   \n",
       "2                    1                          1                    t   \n",
       "3                    1                          1                    t   \n",
       "4                    1                          1                    t   \n",
       "\n",
       "  host_identity_verified neighbourhood_cleansed   ...    instant_bookable  \\\n",
       "0                      t       Western Addition   ...                   f   \n",
       "1                      t       Western Addition   ...                   f   \n",
       "2                      t       Western Addition   ...                   f   \n",
       "3                      t       Western Addition   ...                   f   \n",
       "4                      t       Western Addition   ...                   f   \n",
       "\n",
       "  is_business_travel_ready cancellation_policy require_guest_profile_picture  \\\n",
       "0                        f            moderate                             f   \n",
       "1                        f            moderate                             f   \n",
       "2                        f            moderate                             f   \n",
       "3                        f            moderate                             f   \n",
       "4                        f            moderate                             f   \n",
       "\n",
       "   require_guest_phone_verification  calculated_host_listings_count  \\\n",
       "0                                 f                               1   \n",
       "1                                 f                               1   \n",
       "2                                 f                               1   \n",
       "3                                 f                               1   \n",
       "4                                 f                               1   \n",
       "\n",
       "   reviews_per_month       district       date  price_y  \n",
       "0               1.38  San Francisco 2019-05-02  $181.00  \n",
       "1               1.38  San Francisco 2019-05-01  $181.00  \n",
       "2               1.38  San Francisco 2019-04-30  $181.00  \n",
       "3               1.38  San Francisco 2019-04-29  $181.00  \n",
       "4               1.38  San Francisco 2019-04-28  $181.00  \n",
       "\n",
       "[5 rows x 44 columns]"
      ]
     },
     "execution_count": 18,
     "metadata": {},
     "output_type": "execute_result"
    }
   ],
   "source": [
    "# Columns removed/dropped:\n",
    "# Removed columns with >90% null values: 'experience_offered', 'host_acceptance_rate', \\ \n",
    "#'neighbourhood_group_cleansed', 'square_feet'\n",
    "# Removed 'jurisdiction_names', 'neighbourhood', kept'neighbourhood_cleansed'\n",
    "# Noted'city' and 'smart location' provide duplicate information, removed 'smart location'\n",
    "# Removed 'Country code' and 'country', as all instances locate within US\n",
    "\n",
    "\n",
    "columns_to_keep =[\n",
    "       'id','host_since','host_response_time', 'host_response_rate',\n",
    "        'host_is_superhost', 'host_listings_count',\n",
    "       'host_total_listings_count', \n",
    "       'host_has_profile_pic', 'host_identity_verified', \n",
    "        'neighbourhood_cleansed',\n",
    "       'city', \n",
    "       'is_location_exact', 'property_type', 'room_type', 'accommodates',\n",
    "       'bathrooms', 'bedrooms', 'beds', 'bed_type','amenities', \n",
    "        'security_deposit',\n",
    "       'cleaning_fee', 'guests_included',  'minimum_nights','number_of_reviews',\n",
    "       'first_review', 'review_scores_rating',\n",
    "       'review_scores_accuracy', 'review_scores_cleanliness',\n",
    "       'review_scores_checkin', 'review_scores_communication',\n",
    "       'review_scores_location', 'review_scores_value', 'jurisdiction_names', 'instant_bookable',\n",
    "       'is_business_travel_ready', 'cancellation_policy',\n",
    "       'require_guest_profile_picture', 'require_guest_phone_verification',\n",
    "       'calculated_host_listings_count', 'reviews_per_month', 'district', 'date', 'price_y']\n",
    "\n",
    "\n",
    "df_smaller = df_merge[columns_to_keep]\n",
    "display ('Dimensions after drilling down: ' ,df_smaller.shape)\n",
    "df_smaller.head()"
   ]
  },
  {
   "cell_type": "markdown",
   "metadata": {},
   "source": [
    "## Data Format"
   ]
  },
  {
   "cell_type": "code",
   "execution_count": 19,
   "metadata": {
    "ExecuteTime": {
     "end_time": "2019-02-27T03:23:13.029757Z",
     "start_time": "2019-02-27T03:23:13.023681Z"
    }
   },
   "outputs": [],
   "source": [
    "def apply2df(df, column_names, function):\n",
    "    \"\"\"\n",
    "    This enables various functions to be applied to multiple columns of dataframe.\n",
    "    Input: dataframe, columns to apply function to(list), function\n",
    "    Return: updated dataframe\n",
    "    \"\"\"\n",
    "    for column in column_names:\n",
    "        df[column] = df[column].apply(lambda x: function(x))\n",
    "    return df"
   ]
  },
  {
   "cell_type": "markdown",
   "metadata": {
    "ExecuteTime": {
     "end_time": "2019-02-17T08:45:45.634174Z",
     "start_time": "2019-02-17T08:45:45.630559Z"
    }
   },
   "source": [
    "### Percentage"
   ]
  },
  {
   "cell_type": "code",
   "execution_count": 20,
   "metadata": {
    "ExecuteTime": {
     "end_time": "2019-02-27T03:23:21.710752Z",
     "start_time": "2019-02-27T03:23:21.705599Z"
    }
   },
   "outputs": [],
   "source": [
    "# Noted percentage features are formated as strings, and need to be converted\n",
    "# to float format\n",
    "\n",
    "def percent2float(string):\n",
    "    \"\"\"\n",
    "    Convert strings with percentage sign to float\n",
    "    \"\"\"\n",
    "    percentage = float(str(string).strip('%'))/100.0\n",
    "    return percentage"
   ]
  },
  {
   "cell_type": "code",
   "execution_count": 21,
   "metadata": {
    "ExecuteTime": {
     "end_time": "2019-02-27T03:23:43.811680Z",
     "start_time": "2019-02-27T03:23:43.736268Z"
    }
   },
   "outputs": [
    {
     "name": "stdout",
     "output_type": "stream",
     "text": [
      "Type:  <class 'str'>\n"
     ]
    },
    {
     "data": {
      "text/plain": [
       "0    92%\n",
       "1    92%\n",
       "2    92%\n",
       "3    92%\n",
       "4    92%\n",
       "Name: host_response_rate, dtype: object"
      ]
     },
     "execution_count": 21,
     "metadata": {},
     "output_type": "execute_result"
    }
   ],
   "source": [
    "print ('Type: ', type(df_smaller.host_response_rate[0]))\n",
    "df_smaller.host_response_rate[0:5]"
   ]
  },
  {
   "cell_type": "code",
   "execution_count": 22,
   "metadata": {
    "ExecuteTime": {
     "end_time": "2019-02-27T03:23:56.371013Z",
     "start_time": "2019-02-27T03:23:52.713551Z"
    }
   },
   "outputs": [],
   "source": [
    "# Converted percentage features to float format\n",
    "\n",
    "percents = ['host_response_rate']\n",
    "\n",
    "df_smaller = apply2df(df_smaller, percents, percent2float)"
   ]
  },
  {
   "cell_type": "code",
   "execution_count": 23,
   "metadata": {
    "ExecuteTime": {
     "end_time": "2019-02-27T03:24:05.260374Z",
     "start_time": "2019-02-27T03:24:05.253770Z"
    }
   },
   "outputs": [
    {
     "data": {
      "text/plain": [
       "0    0.92\n",
       "1    0.92\n",
       "2    0.92\n",
       "3    0.92\n",
       "4    0.92\n",
       "Name: host_response_rate, dtype: float64"
      ]
     },
     "execution_count": 23,
     "metadata": {},
     "output_type": "execute_result"
    }
   ],
   "source": [
    "df_smaller.host_response_rate[0:5]"
   ]
  },
  {
   "cell_type": "markdown",
   "metadata": {
    "ExecuteTime": {
     "end_time": "2019-02-17T08:53:41.153251Z",
     "start_time": "2019-02-17T08:53:41.150357Z"
    }
   },
   "source": [
    "### Currency"
   ]
  },
  {
   "cell_type": "code",
   "execution_count": 24,
   "metadata": {
    "ExecuteTime": {
     "end_time": "2019-02-27T03:24:14.404868Z",
     "start_time": "2019-02-27T03:24:14.401089Z"
    }
   },
   "outputs": [],
   "source": [
    "# Noted currency features are formated as strings, and need to be converted \n",
    "# to float format\n",
    "\n",
    "def currency2float(string):\n",
    "    \"\"\"\n",
    "    Convert currency to float\n",
    "    \"\"\"\n",
    "    string = str(string).strip(' ').replace(' \\\\n', '')\n",
    "    float_ = float(string.strip('$').replace(',',''))\n",
    "    return float_"
   ]
  },
  {
   "cell_type": "code",
   "execution_count": 27,
   "metadata": {
    "ExecuteTime": {
     "end_time": "2019-02-27T03:25:11.317707Z",
     "start_time": "2019-02-27T03:25:11.300855Z"
    }
   },
   "outputs": [
    {
     "name": "stdout",
     "output_type": "stream",
     "text": [
      "Type of price:  <class 'str'>\n"
     ]
    },
    {
     "data": {
      "text/plain": [
       "0    $181.00\n",
       "1    $181.00\n",
       "2    $181.00\n",
       "3    $181.00\n",
       "4    $181.00\n",
       "Name: price_y, dtype: object"
      ]
     },
     "metadata": {},
     "output_type": "display_data"
    },
    {
     "name": "stdout",
     "output_type": "stream",
     "text": [
      "Type of security deposit:  <class 'str'>\n"
     ]
    },
    {
     "data": {
      "text/plain": [
       "0    $100.00 \n",
       "1    $100.00 \n",
       "2    $100.00 \n",
       "3    $100.00 \n",
       "4    $100.00 \n",
       "Name: security_deposit, dtype: object"
      ]
     },
     "metadata": {},
     "output_type": "display_data"
    },
    {
     "name": "stdout",
     "output_type": "stream",
     "text": [
      "Type of security deposit:  <class 'str'>\n"
     ]
    },
    {
     "data": {
      "text/plain": [
       "0    $100.00 \n",
       "1    $100.00 \n",
       "2    $100.00 \n",
       "3    $100.00 \n",
       "4    $100.00 \n",
       "Name: cleaning_fee, dtype: object"
      ]
     },
     "metadata": {},
     "output_type": "display_data"
    }
   ],
   "source": [
    "print ('Type of price: ', type(df_smaller.price_y[0]))\n",
    "display (df_smaller.price_y[0:5])\n",
    "\n",
    "print ('Type of security deposit: ', type(df_smaller.security_deposit[0]))\n",
    "display(df_smaller.security_deposit[0:5])\n",
    "\n",
    "print ('Type of security deposit: ', type(df_smaller.cleaning_fee[0]))\n",
    "display(df_smaller.cleaning_fee[0:5])"
   ]
  },
  {
   "cell_type": "code",
   "execution_count": 29,
   "metadata": {
    "ExecuteTime": {
     "end_time": "2019-02-27T03:25:44.681914Z",
     "start_time": "2019-02-27T03:25:30.357891Z"
    }
   },
   "outputs": [],
   "source": [
    "# Converted currency features to float\n",
    "\n",
    "curriencies = ['price_y', 'security_deposit', 'cleaning_fee']\n",
    "\n",
    "df_smaller = apply2df(df_smaller, curriencies, currency2float)"
   ]
  },
  {
   "cell_type": "markdown",
   "metadata": {},
   "source": [
    "### Timestamp"
   ]
  },
  {
   "cell_type": "code",
   "execution_count": 30,
   "metadata": {
    "ExecuteTime": {
     "end_time": "2019-02-27T03:28:25.912761Z",
     "start_time": "2019-02-27T03:28:25.908445Z"
    }
   },
   "outputs": [],
   "source": [
    "# This is to convert timestamp features to duration\n",
    "# Duration is calculated by: \n",
    "# number of years between original timestamp and current year\n",
    "\n",
    "def duration(starting_time):\n",
    "    \"\"\"\n",
    "    Calculate duration or number of years between current year and starting_time\n",
    "    \"\"\"\n",
    "    starting_year = starting_time.year\n",
    "    current_year = datetime.now().year\n",
    "    duration = current_year - starting_year + 1\n",
    "    \n",
    "    return duration"
   ]
  },
  {
   "cell_type": "code",
   "execution_count": 31,
   "metadata": {
    "ExecuteTime": {
     "end_time": "2019-02-27T03:28:59.504889Z",
     "start_time": "2019-02-27T03:28:35.042192Z"
    }
   },
   "outputs": [],
   "source": [
    "# Converted timestamp features to duration\n",
    "\n",
    "timestamps = ['host_since', 'first_review']\n",
    "\n",
    "df_smaller = apply2df(df_smaller, timestamps, duration)"
   ]
  },
  {
   "cell_type": "code",
   "execution_count": 32,
   "metadata": {
    "ExecuteTime": {
     "end_time": "2019-02-27T03:29:11.541250Z",
     "start_time": "2019-02-27T03:29:08.619132Z"
    }
   },
   "outputs": [],
   "source": [
    "# Rename columns to reflect duration nature\n",
    "\n",
    "mapper = {'host_since' : 'host_yrs', 'first_review': 'yrs_since_1st_review'}\n",
    "\n",
    "df_smaller.rename(columns=mapper, inplace=True)"
   ]
  },
  {
   "cell_type": "code",
   "execution_count": 33,
   "metadata": {
    "ExecuteTime": {
     "end_time": "2019-02-27T03:29:21.078479Z",
     "start_time": "2019-02-27T03:29:21.070743Z"
    }
   },
   "outputs": [
    {
     "data": {
      "text/plain": [
       "Index(['id', 'host_yrs', 'host_response_time', 'host_response_rate',\n",
       "       'host_is_superhost', 'host_listings_count', 'host_total_listings_count',\n",
       "       'host_has_profile_pic', 'host_identity_verified',\n",
       "       'neighbourhood_cleansed', 'city', 'is_location_exact', 'property_type',\n",
       "       'room_type', 'accommodates', 'bathrooms', 'bedrooms', 'beds',\n",
       "       'bed_type', 'amenities', 'security_deposit', 'cleaning_fee',\n",
       "       'guests_included', 'minimum_nights', 'number_of_reviews',\n",
       "       'yrs_since_1st_review', 'review_scores_rating',\n",
       "       'review_scores_accuracy', 'review_scores_cleanliness',\n",
       "       'review_scores_checkin', 'review_scores_communication',\n",
       "       'review_scores_location', 'review_scores_value', 'jurisdiction_names',\n",
       "       'instant_bookable', 'is_business_travel_ready', 'cancellation_policy',\n",
       "       'require_guest_profile_picture', 'require_guest_phone_verification',\n",
       "       'calculated_host_listings_count', 'reviews_per_month', 'district',\n",
       "       'date', 'price_y'],\n",
       "      dtype='object')"
      ]
     },
     "execution_count": 33,
     "metadata": {},
     "output_type": "execute_result"
    }
   ],
   "source": [
    "df_smaller.columns"
   ]
  },
  {
   "cell_type": "markdown",
   "metadata": {
    "ExecuteTime": {
     "end_time": "2019-02-17T07:25:29.888261Z",
     "start_time": "2019-02-17T07:25:29.885574Z"
    }
   },
   "source": [
    "## Outliers"
   ]
  },
  {
   "cell_type": "code",
   "execution_count": 34,
   "metadata": {
    "ExecuteTime": {
     "end_time": "2019-02-27T03:29:32.429042Z",
     "start_time": "2019-02-27T03:29:32.202448Z"
    }
   },
   "outputs": [
    {
     "data": {
      "text/plain": [
       "count    2.588352e+06\n",
       "mean     2.056189e+02\n",
       "std      7.335415e+02\n",
       "min      1.000000e+01\n",
       "5%       4.000000e+01\n",
       "10%      5.000000e+01\n",
       "25%      7.800000e+01\n",
       "50%      1.290000e+02\n",
       "75%      2.090000e+02\n",
       "90%      3.500000e+02\n",
       "95%      5.000000e+02\n",
       "max      1.024520e+05\n",
       "Name: price_y, dtype: float64"
      ]
     },
     "execution_count": 34,
     "metadata": {},
     "output_type": "execute_result"
    }
   ],
   "source": [
    "df_smaller.price_y.describe(percentiles=[.05, .10, .25, .50, .75, .90, .95])"
   ]
  },
  {
   "cell_type": "code",
   "execution_count": 35,
   "metadata": {
    "ExecuteTime": {
     "end_time": "2019-02-27T03:29:43.390234Z",
     "start_time": "2019-02-27T03:29:41.497982Z"
    }
   },
   "outputs": [
    {
     "data": {
      "text/plain": [
       "(2346265, 44)"
      ]
     },
     "metadata": {},
     "output_type": "display_data"
    }
   ],
   "source": [
    "# Outliers removal. Kept only values between 5% and 95% percentiles\n",
    "\n",
    "five_percentitle = np.percentile(df_smaller['price_y'], 5)\n",
    "ninety_five_percentitle = np.percentile(df_smaller['price_y'], 95)\n",
    "\n",
    "df_smaller = df_smaller[\n",
    "                     (df_smaller['price_y']<=ninety_five_percentitle) \n",
    "                      & (df_smaller['price_y']>=five_percentitle)]\n",
    "\n",
    "display(df_smaller.shape)"
   ]
  },
  {
   "cell_type": "code",
   "execution_count": 36,
   "metadata": {
    "ExecuteTime": {
     "end_time": "2019-02-27T03:29:53.147291Z",
     "start_time": "2019-02-27T03:29:53.037778Z"
    }
   },
   "outputs": [
    {
     "data": {
      "text/plain": [
       "count    2.346265e+06\n",
       "mean     1.537473e+02\n",
       "std      9.694863e+01\n",
       "min      4.000000e+01\n",
       "25%      8.000000e+01\n",
       "50%      1.280000e+02\n",
       "75%      1.990000e+02\n",
       "max      5.000000e+02\n",
       "Name: price_y, dtype: float64"
      ]
     },
     "execution_count": 36,
     "metadata": {},
     "output_type": "execute_result"
    }
   ],
   "source": [
    "df_smaller.price_y.describe()"
   ]
  },
  {
   "cell_type": "markdown",
   "metadata": {},
   "source": [
    "## Null Values"
   ]
  },
  {
   "cell_type": "code",
   "execution_count": 37,
   "metadata": {
    "ExecuteTime": {
     "end_time": "2019-02-27T03:30:25.020284Z",
     "start_time": "2019-02-27T03:30:21.609738Z"
    }
   },
   "outputs": [
    {
     "data": {
      "text/plain": [
       "id                                       0\n",
       "host_yrs                                 0\n",
       "host_response_time                  155379\n",
       "host_response_rate                  155379\n",
       "host_is_superhost                        0\n",
       "host_listings_count                      0\n",
       "host_total_listings_count                0\n",
       "host_has_profile_pic                     0\n",
       "host_identity_verified                   0\n",
       "neighbourhood_cleansed                   0\n",
       "city                                  4281\n",
       "is_location_exact                        0\n",
       "property_type                            0\n",
       "room_type                                0\n",
       "accommodates                             0\n",
       "bathrooms                             5443\n",
       "bedrooms                               671\n",
       "beds                                  3315\n",
       "bed_type                                 0\n",
       "amenities                                0\n",
       "security_deposit                    539631\n",
       "cleaning_fee                        291396\n",
       "guests_included                          0\n",
       "minimum_nights                           0\n",
       "number_of_reviews                        0\n",
       "yrs_since_1st_review                456886\n",
       "review_scores_rating                474077\n",
       "review_scores_accuracy              474669\n",
       "review_scores_cleanliness           474304\n",
       "review_scores_checkin               475318\n",
       "review_scores_communication         474001\n",
       "review_scores_location              474348\n",
       "review_scores_value                 474605\n",
       "jurisdiction_names                  351508\n",
       "instant_bookable                         0\n",
       "is_business_travel_ready                 0\n",
       "cancellation_policy                      0\n",
       "require_guest_profile_picture            0\n",
       "require_guest_phone_verification         0\n",
       "calculated_host_listings_count           0\n",
       "reviews_per_month                   456886\n",
       "district                                 0\n",
       "date                                     0\n",
       "price_y                                  0\n",
       "dtype: int64"
      ]
     },
     "execution_count": 37,
     "metadata": {},
     "output_type": "execute_result"
    }
   ],
   "source": [
    "# Checked for null values\n",
    "\n",
    "df_smaller.isnull().sum()"
   ]
  },
  {
   "cell_type": "code",
   "execution_count": 38,
   "metadata": {
    "ExecuteTime": {
     "end_time": "2019-02-27T03:30:35.229761Z",
     "start_time": "2019-02-27T03:30:34.935395Z"
    }
   },
   "outputs": [],
   "source": [
    "# Filled null values with average\n",
    "\n",
    "df_smaller['security_deposit'].fillna(\n",
    "                    value=df_smaller['security_deposit'].mean(),\n",
    "                    inplace=True)\n",
    "\n",
    "df_smaller['cleaning_fee'].fillna(\n",
    "                    value=df_smaller['cleaning_fee'].mean(),\n",
    "                    inplace=True)"
   ]
  },
  {
   "cell_type": "code",
   "execution_count": 39,
   "metadata": {
    "ExecuteTime": {
     "end_time": "2019-02-27T03:30:58.184111Z",
     "start_time": "2019-02-27T03:30:52.278276Z"
    }
   },
   "outputs": [
    {
     "data": {
      "text/plain": [
       "'Dimensions after dropping null values: '"
      ]
     },
     "metadata": {},
     "output_type": "display_data"
    },
    {
     "data": {
      "text/plain": [
       "(1528373, 44)"
      ]
     },
     "metadata": {},
     "output_type": "display_data"
    },
    {
     "data": {
      "text/plain": [
       "id                                  0\n",
       "host_yrs                            0\n",
       "host_response_time                  0\n",
       "host_response_rate                  0\n",
       "host_is_superhost                   0\n",
       "host_listings_count                 0\n",
       "host_total_listings_count           0\n",
       "host_has_profile_pic                0\n",
       "host_identity_verified              0\n",
       "neighbourhood_cleansed              0\n",
       "city                                0\n",
       "is_location_exact                   0\n",
       "property_type                       0\n",
       "room_type                           0\n",
       "accommodates                        0\n",
       "bathrooms                           0\n",
       "bedrooms                            0\n",
       "beds                                0\n",
       "bed_type                            0\n",
       "amenities                           0\n",
       "security_deposit                    0\n",
       "cleaning_fee                        0\n",
       "guests_included                     0\n",
       "minimum_nights                      0\n",
       "number_of_reviews                   0\n",
       "yrs_since_1st_review                0\n",
       "review_scores_rating                0\n",
       "review_scores_accuracy              0\n",
       "review_scores_cleanliness           0\n",
       "review_scores_checkin               0\n",
       "review_scores_communication         0\n",
       "review_scores_location              0\n",
       "review_scores_value                 0\n",
       "jurisdiction_names                  0\n",
       "instant_bookable                    0\n",
       "is_business_travel_ready            0\n",
       "cancellation_policy                 0\n",
       "require_guest_profile_picture       0\n",
       "require_guest_phone_verification    0\n",
       "calculated_host_listings_count      0\n",
       "reviews_per_month                   0\n",
       "district                            0\n",
       "date                                0\n",
       "price_y                             0\n",
       "dtype: int64"
      ]
     },
     "execution_count": 39,
     "metadata": {},
     "output_type": "execute_result"
    }
   ],
   "source": [
    "# Dropped remaining null values\n",
    "\n",
    "df_clean = df_smaller.dropna()\n",
    "\n",
    "display('Dimensions after dropping null values: ', df_clean.shape)\n",
    "df_clean.isnull().sum()"
   ]
  },
  {
   "cell_type": "code",
   "execution_count": 40,
   "metadata": {
    "ExecuteTime": {
     "end_time": "2019-02-27T03:31:12.798478Z",
     "start_time": "2019-02-27T03:31:10.068519Z"
    }
   },
   "outputs": [],
   "source": [
    "# Removed special characters within jurisdiction\n",
    "# Created a separate dataframe to keep track of juristiction info\n",
    "# The dataframe will be used in later stage\n",
    "\n",
    "df_clean['jurisdiction_names'] = df_clean['jurisdiction_names']  \\\n",
    "                                            .str.replace('[^\\w\\s,]', '')\n",
    "df_jurisdiction = df_clean.loc[:, ['id', 'jurisdiction_names']]"
   ]
  },
  {
   "cell_type": "markdown",
   "metadata": {
    "ExecuteTime": {
     "end_time": "2019-02-16T06:10:40.512514Z",
     "start_time": "2019-02-16T06:10:40.509754Z"
    }
   },
   "source": [
    "## Seasonality Data"
   ]
  },
  {
   "cell_type": "markdown",
   "metadata": {},
   "source": [
    "### Month and DOW Features"
   ]
  },
  {
   "cell_type": "code",
   "execution_count": 17,
   "metadata": {
    "ExecuteTime": {
     "end_time": "2019-02-24T10:13:44.561337Z",
     "start_time": "2019-02-24T10:13:44.189154Z"
    }
   },
   "outputs": [
    {
     "name": "stdout",
     "output_type": "stream",
     "text": [
      "df_pricing_smaller dimensions (2346265, 6)\n"
     ]
    },
    {
     "data": {
      "text/html": [
       "<div>\n",
       "<style scoped>\n",
       "    .dataframe tbody tr th:only-of-type {\n",
       "        vertical-align: middle;\n",
       "    }\n",
       "\n",
       "    .dataframe tbody tr th {\n",
       "        vertical-align: top;\n",
       "    }\n",
       "\n",
       "    .dataframe thead th {\n",
       "        text-align: right;\n",
       "    }\n",
       "</style>\n",
       "<table border=\"1\" class=\"dataframe\">\n",
       "  <thead>\n",
       "    <tr style=\"text-align: right;\">\n",
       "      <th></th>\n",
       "      <th></th>\n",
       "      <th>listing_id</th>\n",
       "      <th>date</th>\n",
       "      <th>available</th>\n",
       "      <th>price</th>\n",
       "      <th>month</th>\n",
       "      <th>day_of_week</th>\n",
       "    </tr>\n",
       "  </thead>\n",
       "  <tbody>\n",
       "    <tr>\n",
       "      <th rowspan=\"5\" valign=\"top\">pricing_sf</th>\n",
       "      <th>63</th>\n",
       "      <td>958</td>\n",
       "      <td>2019-05-02</td>\n",
       "      <td>t</td>\n",
       "      <td>181.0</td>\n",
       "      <td>5</td>\n",
       "      <td>3</td>\n",
       "    </tr>\n",
       "    <tr>\n",
       "      <th>64</th>\n",
       "      <td>958</td>\n",
       "      <td>2019-05-01</td>\n",
       "      <td>t</td>\n",
       "      <td>181.0</td>\n",
       "      <td>5</td>\n",
       "      <td>2</td>\n",
       "    </tr>\n",
       "    <tr>\n",
       "      <th>65</th>\n",
       "      <td>958</td>\n",
       "      <td>2019-04-30</td>\n",
       "      <td>t</td>\n",
       "      <td>181.0</td>\n",
       "      <td>4</td>\n",
       "      <td>1</td>\n",
       "    </tr>\n",
       "    <tr>\n",
       "      <th>66</th>\n",
       "      <td>958</td>\n",
       "      <td>2019-04-29</td>\n",
       "      <td>t</td>\n",
       "      <td>181.0</td>\n",
       "      <td>4</td>\n",
       "      <td>0</td>\n",
       "    </tr>\n",
       "    <tr>\n",
       "      <th>67</th>\n",
       "      <td>958</td>\n",
       "      <td>2019-04-28</td>\n",
       "      <td>t</td>\n",
       "      <td>181.0</td>\n",
       "      <td>4</td>\n",
       "      <td>6</td>\n",
       "    </tr>\n",
       "  </tbody>\n",
       "</table>\n",
       "</div>"
      ],
      "text/plain": [
       "               listing_id       date available  price  month  day_of_week\n",
       "pricing_sf 63         958 2019-05-02         t  181.0      5            3\n",
       "           64         958 2019-05-01         t  181.0      5            2\n",
       "           65         958 2019-04-30         t  181.0      4            1\n",
       "           66         958 2019-04-29         t  181.0      4            0\n",
       "           67         958 2019-04-28         t  181.0      4            6"
      ]
     },
     "metadata": {},
     "output_type": "display_data"
    }
   ],
   "source": [
    "# Added 'month' column to extract month of date\n",
    "# Added 'day_of_week' column to extact day of week. \n",
    "# Default format: Monday=0, Sunday=6\n",
    "\n",
    "df_pricing_smaller['month'] = df_pricing_smaller['date'].dt.month\n",
    "df_pricing_smaller['day_of_week'] = df_pricing_smaller['date'].dt.weekday\n",
    "\n",
    "\n",
    "print('df_pricing_smaller dimensions', df_pricing_smaller.shape)\n",
    "display(df_pricing_smaller.head())"
   ]
  },
  {
   "cell_type": "code",
   "execution_count": 18,
   "metadata": {
    "ExecuteTime": {
     "end_time": "2019-02-24T10:13:44.817682Z",
     "start_time": "2019-02-24T10:13:44.564357Z"
    }
   },
   "outputs": [
    {
     "data": {
      "text/plain": [
       "<matplotlib.axes._subplots.AxesSubplot at 0x11a908a58>"
      ]
     },
     "execution_count": 18,
     "metadata": {},
     "output_type": "execute_result"
    },
    {
     "data": {
      "image/png": "[encoded data removed]",
      "text/plain": [
       "<Figure size 576x396 with 1 Axes>"
      ]
     },
     "metadata": {},
     "output_type": "display_data"
    }
   ],
   "source": [
    "# Checked the price distribution by month\n",
    "\n",
    "df_pricing_smaller.month.hist(bins=12)"
   ]
  },
  {
   "cell_type": "code",
   "execution_count": 19,
   "metadata": {
    "ExecuteTime": {
     "end_time": "2019-02-24T10:13:45.089973Z",
     "start_time": "2019-02-24T10:13:44.820580Z"
    }
   },
   "outputs": [
    {
     "data": {
      "text/plain": [
       "<matplotlib.axes._subplots.AxesSubplot at 0x1c23043710>"
      ]
     },
     "execution_count": 19,
     "metadata": {},
     "output_type": "execute_result"
    },
    {
     "data": {
      "image/png": "[encoded data removed]",
      "text/plain": [
       "<Figure size 576x396 with 1 Axes>"
      ]
     },
     "metadata": {},
     "output_type": "display_data"
    }
   ],
   "source": [
    "# Checked the price distribution by day of week\n",
    "\n",
    "df_pricing_smaller.day_of_week.hist(bins=7)"
   ]
  },
  {
   "cell_type": "markdown",
   "metadata": {},
   "source": [
    "### Pricing By Month by DOW"
   ]
  },
  {
   "cell_type": "code",
   "execution_count": 20,
   "metadata": {
    "ExecuteTime": {
     "end_time": "2019-02-24T10:13:45.531594Z",
     "start_time": "2019-02-24T10:13:45.092695Z"
    }
   },
   "outputs": [
    {
     "data": {
      "text/html": [
       "<div>\n",
       "<style scoped>\n",
       "    .dataframe tbody tr th:only-of-type {\n",
       "        vertical-align: middle;\n",
       "    }\n",
       "\n",
       "    .dataframe tbody tr th {\n",
       "        vertical-align: top;\n",
       "    }\n",
       "\n",
       "    .dataframe thead th {\n",
       "        text-align: right;\n",
       "    }\n",
       "</style>\n",
       "<table border=\"1\" class=\"dataframe\">\n",
       "  <thead>\n",
       "    <tr style=\"text-align: right;\">\n",
       "      <th></th>\n",
       "      <th>listing_id</th>\n",
       "      <th>month</th>\n",
       "      <th>day_of_week</th>\n",
       "      <th>price</th>\n",
       "    </tr>\n",
       "  </thead>\n",
       "  <tbody>\n",
       "    <tr>\n",
       "      <th>0</th>\n",
       "      <td>958</td>\n",
       "      <td>1</td>\n",
       "      <td>0</td>\n",
       "      <td>180.0</td>\n",
       "    </tr>\n",
       "    <tr>\n",
       "      <th>1</th>\n",
       "      <td>958</td>\n",
       "      <td>1</td>\n",
       "      <td>1</td>\n",
       "      <td>179.5</td>\n",
       "    </tr>\n",
       "    <tr>\n",
       "      <th>2</th>\n",
       "      <td>958</td>\n",
       "      <td>1</td>\n",
       "      <td>2</td>\n",
       "      <td>179.5</td>\n",
       "    </tr>\n",
       "    <tr>\n",
       "      <th>3</th>\n",
       "      <td>958</td>\n",
       "      <td>1</td>\n",
       "      <td>3</td>\n",
       "      <td>179.0</td>\n",
       "    </tr>\n",
       "    <tr>\n",
       "      <th>4</th>\n",
       "      <td>958</td>\n",
       "      <td>1</td>\n",
       "      <td>4</td>\n",
       "      <td>183.0</td>\n",
       "    </tr>\n",
       "  </tbody>\n",
       "</table>\n",
       "</div>"
      ],
      "text/plain": [
       "   listing_id  month  day_of_week  price\n",
       "0         958      1            0  180.0\n",
       "1         958      1            1  179.5\n",
       "2         958      1            2  179.5\n",
       "3         958      1            3  179.0\n",
       "4         958      1            4  183.0"
      ]
     },
     "execution_count": 20,
     "metadata": {},
     "output_type": "execute_result"
    }
   ],
   "source": [
    "# Group by month by day of week, and calculate an average pricing\n",
    "\n",
    "df_pricing_by_mon_dow = df_pricing_smaller  \\\n",
    "                            .groupby(['listing_id', 'month', 'day_of_week'])  \\\n",
    "                            .price.mean()  \\\n",
    "                            .reset_index()\n",
    "df_pricing_by_mon_dow.head()"
   ]
  },
  {
   "cell_type": "code",
   "execution_count": 21,
   "metadata": {
    "ExecuteTime": {
     "end_time": "2019-02-24T10:13:45.625344Z",
     "start_time": "2019-02-24T10:13:45.534680Z"
    }
   },
   "outputs": [
    {
     "data": {
      "text/plain": [
       "listing_id     0\n",
       "month          0\n",
       "day_of_week    0\n",
       "price          0\n",
       "dtype: int64"
      ]
     },
     "execution_count": 21,
     "metadata": {},
     "output_type": "execute_result"
    }
   ],
   "source": [
    "# Check for null values if any\n",
    "\n",
    "df_pricing_by_mon_dow.isnull().sum()"
   ]
  },
  {
   "cell_type": "code",
   "execution_count": 22,
   "metadata": {
    "ExecuteTime": {
     "end_time": "2019-02-24T10:13:45.637348Z",
     "start_time": "2019-02-24T10:13:45.628320Z"
    }
   },
   "outputs": [],
   "source": [
    "# Rename the average price column to avoid confusion\n",
    "\n",
    "df_pricing_by_mon_dow.rename(columns={'price':'price_by_mon_dow'}, inplace=True)"
   ]
  },
  {
   "cell_type": "code",
   "execution_count": 23,
   "metadata": {
    "ExecuteTime": {
     "end_time": "2019-02-24T10:13:45.646902Z",
     "start_time": "2019-02-24T10:13:45.640468Z"
    }
   },
   "outputs": [
    {
     "data": {
      "text/plain": [
       "(625086, 4)"
      ]
     },
     "execution_count": 23,
     "metadata": {},
     "output_type": "execute_result"
    }
   ],
   "source": [
    "df_pricing_by_mon_dow.shape"
   ]
  },
  {
   "cell_type": "code",
   "execution_count": 24,
   "metadata": {
    "ExecuteTime": {
     "end_time": "2019-02-24T10:13:45.661120Z",
     "start_time": "2019-02-24T10:13:45.649757Z"
    }
   },
   "outputs": [
    {
     "data": {
      "text/html": [
       "<div>\n",
       "<style scoped>\n",
       "    .dataframe tbody tr th:only-of-type {\n",
       "        vertical-align: middle;\n",
       "    }\n",
       "\n",
       "    .dataframe tbody tr th {\n",
       "        vertical-align: top;\n",
       "    }\n",
       "\n",
       "    .dataframe thead th {\n",
       "        text-align: right;\n",
       "    }\n",
       "</style>\n",
       "<table border=\"1\" class=\"dataframe\">\n",
       "  <thead>\n",
       "    <tr style=\"text-align: right;\">\n",
       "      <th></th>\n",
       "      <th>listing_id</th>\n",
       "      <th>month</th>\n",
       "      <th>day_of_week</th>\n",
       "      <th>price_by_mon_dow</th>\n",
       "    </tr>\n",
       "  </thead>\n",
       "  <tbody>\n",
       "    <tr>\n",
       "      <th>0</th>\n",
       "      <td>958</td>\n",
       "      <td>1</td>\n",
       "      <td>0</td>\n",
       "      <td>180.0</td>\n",
       "    </tr>\n",
       "    <tr>\n",
       "      <th>1</th>\n",
       "      <td>958</td>\n",
       "      <td>1</td>\n",
       "      <td>1</td>\n",
       "      <td>179.5</td>\n",
       "    </tr>\n",
       "    <tr>\n",
       "      <th>2</th>\n",
       "      <td>958</td>\n",
       "      <td>1</td>\n",
       "      <td>2</td>\n",
       "      <td>179.5</td>\n",
       "    </tr>\n",
       "    <tr>\n",
       "      <th>3</th>\n",
       "      <td>958</td>\n",
       "      <td>1</td>\n",
       "      <td>3</td>\n",
       "      <td>179.0</td>\n",
       "    </tr>\n",
       "    <tr>\n",
       "      <th>4</th>\n",
       "      <td>958</td>\n",
       "      <td>1</td>\n",
       "      <td>4</td>\n",
       "      <td>183.0</td>\n",
       "    </tr>\n",
       "  </tbody>\n",
       "</table>\n",
       "</div>"
      ],
      "text/plain": [
       "   listing_id  month  day_of_week  price_by_mon_dow\n",
       "0         958      1            0             180.0\n",
       "1         958      1            1             179.5\n",
       "2         958      1            2             179.5\n",
       "3         958      1            3             179.0\n",
       "4         958      1            4             183.0"
      ]
     },
     "execution_count": 24,
     "metadata": {},
     "output_type": "execute_result"
    }
   ],
   "source": [
    "df_pricing_by_mon_dow.head()"
   ]
  },
  {
   "cell_type": "code",
   "execution_count": 25,
   "metadata": {
    "ExecuteTime": {
     "end_time": "2019-02-24T10:13:45.722537Z",
     "start_time": "2019-02-24T10:13:45.664544Z"
    }
   },
   "outputs": [
    {
     "data": {
      "text/html": [
       "<div>\n",
       "<style scoped>\n",
       "    .dataframe tbody tr th:only-of-type {\n",
       "        vertical-align: middle;\n",
       "    }\n",
       "\n",
       "    .dataframe tbody tr th {\n",
       "        vertical-align: top;\n",
       "    }\n",
       "\n",
       "    .dataframe thead th {\n",
       "        text-align: right;\n",
       "    }\n",
       "</style>\n",
       "<table border=\"1\" class=\"dataframe\">\n",
       "  <thead>\n",
       "    <tr style=\"text-align: right;\">\n",
       "      <th></th>\n",
       "      <th>price_by_mon_dow</th>\n",
       "    </tr>\n",
       "  </thead>\n",
       "  <tbody>\n",
       "    <tr>\n",
       "      <th>count</th>\n",
       "      <td>625086.000000</td>\n",
       "    </tr>\n",
       "    <tr>\n",
       "      <th>mean</th>\n",
       "      <td>154.025145</td>\n",
       "    </tr>\n",
       "    <tr>\n",
       "      <th>std</th>\n",
       "      <td>97.041053</td>\n",
       "    </tr>\n",
       "    <tr>\n",
       "      <th>min</th>\n",
       "      <td>40.000000</td>\n",
       "    </tr>\n",
       "    <tr>\n",
       "      <th>25%</th>\n",
       "      <td>80.000000</td>\n",
       "    </tr>\n",
       "    <tr>\n",
       "      <th>50%</th>\n",
       "      <td>128.000000</td>\n",
       "    </tr>\n",
       "    <tr>\n",
       "      <th>75%</th>\n",
       "      <td>199.000000</td>\n",
       "    </tr>\n",
       "    <tr>\n",
       "      <th>max</th>\n",
       "      <td>500.000000</td>\n",
       "    </tr>\n",
       "  </tbody>\n",
       "</table>\n",
       "</div>"
      ],
      "text/plain": [
       "       price_by_mon_dow\n",
       "count     625086.000000\n",
       "mean         154.025145\n",
       "std           97.041053\n",
       "min           40.000000\n",
       "25%           80.000000\n",
       "50%          128.000000\n",
       "75%          199.000000\n",
       "max          500.000000"
      ]
     },
     "execution_count": 25,
     "metadata": {},
     "output_type": "execute_result"
    }
   ],
   "source": [
    "columns2display = ['price_by_mon_dow']\n",
    "\n",
    "df_pricing_by_mon_dow[columns2display].describe()"
   ]
  },
  {
   "cell_type": "markdown",
   "metadata": {
    "ExecuteTime": {
     "end_time": "2019-02-17T23:54:06.544353Z",
     "start_time": "2019-02-17T23:54:06.541120Z"
    }
   },
   "source": [
    "### Month & DOW to Dummy Variables"
   ]
  },
  {
   "cell_type": "code",
   "execution_count": 26,
   "metadata": {
    "ExecuteTime": {
     "end_time": "2019-02-24T10:13:45.731173Z",
     "start_time": "2019-02-24T10:13:45.726026Z"
    }
   },
   "outputs": [],
   "source": [
    "def get_month(number):\n",
    "    \"\"\"\n",
    "    Given a number, return the name of month.\n",
    "    \n",
    "    \"\"\"\n",
    "    month_lookup = {1:'Jan.', 2:'Feb.', 3:'Mar.', 4:'Apr.', 5:'May.', 6:'Jun.',\n",
    "                    7:'Jul.', 8:'Aug.', 9:'Sep.', 10:'Oct.', 11:'Nov.', 12:'Dec.'}\n",
    "    \n",
    "    return month_lookup[number]"
   ]
  },
  {
   "cell_type": "code",
   "execution_count": 27,
   "metadata": {
    "ExecuteTime": {
     "end_time": "2019-02-24T10:13:45.740303Z",
     "start_time": "2019-02-24T10:13:45.734453Z"
    }
   },
   "outputs": [],
   "source": [
    "def get_dow(number):\n",
    "    \"\"\"\n",
    "    Given a number, return the day of week (dow)\n",
    "    \n",
    "    \"\"\"\n",
    "    weekday_lookup = {0:'Monday', 1:'Tuesday', 2:'Wednesday', 3:'Thursday', \n",
    "                      4:'Friday', 5:'Saturday', 6:'Sunday'}\n",
    "    \n",
    "    return weekday_lookup[number]"
   ]
  },
  {
   "cell_type": "code",
   "execution_count": 28,
   "metadata": {
    "ExecuteTime": {
     "end_time": "2019-02-24T10:13:46.739987Z",
     "start_time": "2019-02-24T10:13:45.743173Z"
    }
   },
   "outputs": [],
   "source": [
    "# Added names for month, and day of week(dow) informaiton\n",
    "\n",
    "df_pricing_by_mon_dow = apply2df(df_pricing_by_mon_dow, ['month'], get_month )\n",
    "df_pricing_by_mon_dow = apply2df(df_pricing_by_mon_dow, ['day_of_week'], get_dow )"
   ]
  },
  {
   "cell_type": "code",
   "execution_count": 29,
   "metadata": {
    "ExecuteTime": {
     "end_time": "2019-02-24T10:13:46.949574Z",
     "start_time": "2019-02-24T10:13:46.742016Z"
    }
   },
   "outputs": [
    {
     "name": "stdout",
     "output_type": "stream",
     "text": [
      "df_pricing_final dimensions:  (625086, 21)\n"
     ]
    },
    {
     "data": {
      "text/html": [
       "<div>\n",
       "<style scoped>\n",
       "    .dataframe tbody tr th:only-of-type {\n",
       "        vertical-align: middle;\n",
       "    }\n",
       "\n",
       "    .dataframe tbody tr th {\n",
       "        vertical-align: top;\n",
       "    }\n",
       "\n",
       "    .dataframe thead th {\n",
       "        text-align: right;\n",
       "    }\n",
       "</style>\n",
       "<table border=\"1\" class=\"dataframe\">\n",
       "  <thead>\n",
       "    <tr style=\"text-align: right;\">\n",
       "      <th></th>\n",
       "      <th>listing_id</th>\n",
       "      <th>price_by_mon_dow</th>\n",
       "      <th>Apr.</th>\n",
       "      <th>Aug.</th>\n",
       "      <th>Dec.</th>\n",
       "      <th>Feb.</th>\n",
       "      <th>Jan.</th>\n",
       "      <th>Jul.</th>\n",
       "      <th>Jun.</th>\n",
       "      <th>Mar.</th>\n",
       "      <th>...</th>\n",
       "      <th>Nov.</th>\n",
       "      <th>Oct.</th>\n",
       "      <th>Sep.</th>\n",
       "      <th>Friday</th>\n",
       "      <th>Monday</th>\n",
       "      <th>Saturday</th>\n",
       "      <th>Sunday</th>\n",
       "      <th>Thursday</th>\n",
       "      <th>Tuesday</th>\n",
       "      <th>Wednesday</th>\n",
       "    </tr>\n",
       "  </thead>\n",
       "  <tbody>\n",
       "    <tr>\n",
       "      <th>0</th>\n",
       "      <td>958</td>\n",
       "      <td>180.0</td>\n",
       "      <td>0</td>\n",
       "      <td>0</td>\n",
       "      <td>0</td>\n",
       "      <td>0</td>\n",
       "      <td>1</td>\n",
       "      <td>0</td>\n",
       "      <td>0</td>\n",
       "      <td>0</td>\n",
       "      <td>...</td>\n",
       "      <td>0</td>\n",
       "      <td>0</td>\n",
       "      <td>0</td>\n",
       "      <td>0</td>\n",
       "      <td>1</td>\n",
       "      <td>0</td>\n",
       "      <td>0</td>\n",
       "      <td>0</td>\n",
       "      <td>0</td>\n",
       "      <td>0</td>\n",
       "    </tr>\n",
       "    <tr>\n",
       "      <th>1</th>\n",
       "      <td>958</td>\n",
       "      <td>179.5</td>\n",
       "      <td>0</td>\n",
       "      <td>0</td>\n",
       "      <td>0</td>\n",
       "      <td>0</td>\n",
       "      <td>1</td>\n",
       "      <td>0</td>\n",
       "      <td>0</td>\n",
       "      <td>0</td>\n",
       "      <td>...</td>\n",
       "      <td>0</td>\n",
       "      <td>0</td>\n",
       "      <td>0</td>\n",
       "      <td>0</td>\n",
       "      <td>0</td>\n",
       "      <td>0</td>\n",
       "      <td>0</td>\n",
       "      <td>0</td>\n",
       "      <td>1</td>\n",
       "      <td>0</td>\n",
       "    </tr>\n",
       "    <tr>\n",
       "      <th>2</th>\n",
       "      <td>958</td>\n",
       "      <td>179.5</td>\n",
       "      <td>0</td>\n",
       "      <td>0</td>\n",
       "      <td>0</td>\n",
       "      <td>0</td>\n",
       "      <td>1</td>\n",
       "      <td>0</td>\n",
       "      <td>0</td>\n",
       "      <td>0</td>\n",
       "      <td>...</td>\n",
       "      <td>0</td>\n",
       "      <td>0</td>\n",
       "      <td>0</td>\n",
       "      <td>0</td>\n",
       "      <td>0</td>\n",
       "      <td>0</td>\n",
       "      <td>0</td>\n",
       "      <td>0</td>\n",
       "      <td>0</td>\n",
       "      <td>1</td>\n",
       "    </tr>\n",
       "    <tr>\n",
       "      <th>3</th>\n",
       "      <td>958</td>\n",
       "      <td>179.0</td>\n",
       "      <td>0</td>\n",
       "      <td>0</td>\n",
       "      <td>0</td>\n",
       "      <td>0</td>\n",
       "      <td>1</td>\n",
       "      <td>0</td>\n",
       "      <td>0</td>\n",
       "      <td>0</td>\n",
       "      <td>...</td>\n",
       "      <td>0</td>\n",
       "      <td>0</td>\n",
       "      <td>0</td>\n",
       "      <td>0</td>\n",
       "      <td>0</td>\n",
       "      <td>0</td>\n",
       "      <td>0</td>\n",
       "      <td>1</td>\n",
       "      <td>0</td>\n",
       "      <td>0</td>\n",
       "    </tr>\n",
       "    <tr>\n",
       "      <th>4</th>\n",
       "      <td>958</td>\n",
       "      <td>183.0</td>\n",
       "      <td>0</td>\n",
       "      <td>0</td>\n",
       "      <td>0</td>\n",
       "      <td>0</td>\n",
       "      <td>1</td>\n",
       "      <td>0</td>\n",
       "      <td>0</td>\n",
       "      <td>0</td>\n",
       "      <td>...</td>\n",
       "      <td>0</td>\n",
       "      <td>0</td>\n",
       "      <td>0</td>\n",
       "      <td>1</td>\n",
       "      <td>0</td>\n",
       "      <td>0</td>\n",
       "      <td>0</td>\n",
       "      <td>0</td>\n",
       "      <td>0</td>\n",
       "      <td>0</td>\n",
       "    </tr>\n",
       "  </tbody>\n",
       "</table>\n",
       "<p>5 rows × 21 columns</p>\n",
       "</div>"
      ],
      "text/plain": [
       "   listing_id  price_by_mon_dow  Apr.  Aug.  Dec.  Feb.  Jan.  Jul.  Jun.  \\\n",
       "0         958             180.0     0     0     0     0     1     0     0   \n",
       "1         958             179.5     0     0     0     0     1     0     0   \n",
       "2         958             179.5     0     0     0     0     1     0     0   \n",
       "3         958             179.0     0     0     0     0     1     0     0   \n",
       "4         958             183.0     0     0     0     0     1     0     0   \n",
       "\n",
       "   Mar.    ...      Nov.  Oct.  Sep.  Friday  Monday  Saturday  Sunday  \\\n",
       "0     0    ...         0     0     0       0       1         0       0   \n",
       "1     0    ...         0     0     0       0       0         0       0   \n",
       "2     0    ...         0     0     0       0       0         0       0   \n",
       "3     0    ...         0     0     0       0       0         0       0   \n",
       "4     0    ...         0     0     0       1       0         0       0   \n",
       "\n",
       "   Thursday  Tuesday  Wednesday  \n",
       "0         0        0          0  \n",
       "1         0        1          0  \n",
       "2         0        0          1  \n",
       "3         1        0          0  \n",
       "4         0        0          0  \n",
       "\n",
       "[5 rows x 21 columns]"
      ]
     },
     "execution_count": 29,
     "metadata": {},
     "output_type": "execute_result"
    }
   ],
   "source": [
    "# Converted month, and dow information to dummy variables\n",
    "\n",
    "df_pricing_final = pd.get_dummies(df_pricing_by_mon_dow, \n",
    "                                  prefix='',\n",
    "                                  prefix_sep='',\n",
    "                                  columns=['month', 'day_of_week'])\n",
    "\n",
    "print ('df_pricing_final dimensions: ', df_pricing_final.shape)\n",
    "df_pricing_final.head()"
   ]
  },
  {
   "cell_type": "code",
   "execution_count": 30,
   "metadata": {
    "ExecuteTime": {
     "end_time": "2019-02-24T10:13:46.958673Z",
     "start_time": "2019-02-24T10:13:46.952573Z"
    }
   },
   "outputs": [
    {
     "data": {
      "text/plain": [
       "Index(['listing_id', 'price_by_mon_dow', 'Apr.', 'Aug.', 'Dec.', 'Feb.',\n",
       "       'Jan.', 'Jul.', 'Jun.', 'Mar.', 'May.', 'Nov.', 'Oct.', 'Sep.',\n",
       "       'Friday', 'Monday', 'Saturday', 'Sunday', 'Thursday', 'Tuesday',\n",
       "       'Wednesday'],\n",
       "      dtype='object')"
      ]
     },
     "execution_count": 30,
     "metadata": {},
     "output_type": "execute_result"
    }
   ],
   "source": [
    "df_pricing_final.columns"
   ]
  },
  {
   "cell_type": "markdown",
   "metadata": {
    "ExecuteTime": {
     "end_time": "2019-02-17T07:30:53.891861Z",
     "start_time": "2019-02-17T07:30:53.889164Z"
    }
   },
   "source": [
    "## Categorical Data"
   ]
  },
  {
   "cell_type": "code",
   "execution_count": null,
   "metadata": {
    "ExecuteTime": {
     "end_time": "2019-02-22T00:42:54.518607Z",
     "start_time": "2019-02-22T00:42:54.478387Z"
    }
   },
   "outputs": [],
   "source": [
    "# Selected categorical variables\n",
    "# Amenities feature contains a long list of amenties and will be handled separately\n",
    "\n",
    "categorical_variables = list(df_listings_clean\n",
    "                             .select_dtypes(include=['object']).columns)\n",
    "categorical_variables.remove('amenities')\n",
    "\n",
    "print ('Categorical data dimensions: ', len(categorical_variables))\n",
    "df_listings_clean[categorical_variables].head()"
   ]
  },
  {
   "cell_type": "code",
   "execution_count": null,
   "metadata": {
    "ExecuteTime": {
     "end_time": "2019-02-22T00:42:54.572037Z",
     "start_time": "2019-02-22T00:42:54.521186Z"
    }
   },
   "outputs": [],
   "source": [
    "# Converted categorical data to dummy variables\n",
    "\n",
    "df_refined = pd.get_dummies(data=df_listings_clean,columns=categorical_variables)"
   ]
  },
  {
   "cell_type": "code",
   "execution_count": null,
   "metadata": {
    "ExecuteTime": {
     "end_time": "2019-02-22T00:42:54.581202Z",
     "start_time": "2019-02-22T00:42:54.574403Z"
    }
   },
   "outputs": [],
   "source": [
    "print('df_refined dimensions :', df_refined.shape)\n",
    "display(df_refined.columns)"
   ]
  },
  {
   "cell_type": "markdown",
   "metadata": {},
   "source": [
    "## Data Transformation"
   ]
  },
  {
   "cell_type": "code",
   "execution_count": null,
   "metadata": {
    "ExecuteTime": {
     "end_time": "2019-02-22T00:42:54.765012Z",
     "start_time": "2019-02-22T00:42:54.584426Z"
    }
   },
   "outputs": [],
   "source": [
    "df_refined.price.hist()"
   ]
  },
  {
   "cell_type": "code",
   "execution_count": null,
   "metadata": {
    "ExecuteTime": {
     "end_time": "2019-02-22T00:42:54.789259Z",
     "start_time": "2019-02-22T00:42:54.768283Z"
    }
   },
   "outputs": [],
   "source": [
    "df_refined['price_log'] = df_refined['price'].apply(lambda x: np.log(x))"
   ]
  },
  {
   "cell_type": "code",
   "execution_count": null,
   "metadata": {
    "ExecuteTime": {
     "end_time": "2019-02-22T00:42:54.965303Z",
     "start_time": "2019-02-22T00:42:54.792015Z"
    }
   },
   "outputs": [],
   "source": [
    "df_refined.price_log.hist()"
   ]
  },
  {
   "cell_type": "markdown",
   "metadata": {
    "ExecuteTime": {
     "end_time": "2019-02-17T10:32:00.559412Z",
     "start_time": "2019-02-17T10:32:00.556219Z"
    }
   },
   "source": [
    "## Other Feature Engineering"
   ]
  },
  {
   "cell_type": "markdown",
   "metadata": {},
   "source": [
    "### List of Amenities"
   ]
  },
  {
   "cell_type": "code",
   "execution_count": null,
   "metadata": {
    "ExecuteTime": {
     "end_time": "2019-02-22T00:42:55.137807Z",
     "start_time": "2019-02-22T00:42:54.969406Z"
    }
   },
   "outputs": [],
   "source": [
    "# Removed special characters within amenities\n",
    "\n",
    "df_refined['amenities'] = df_refined['amenities'].str.replace('[^\\w\\s,]', '')"
   ]
  },
  {
   "cell_type": "code",
   "execution_count": null,
   "metadata": {
    "ExecuteTime": {
     "end_time": "2019-02-22T00:42:55.150457Z",
     "start_time": "2019-02-22T00:42:55.141252Z"
    }
   },
   "outputs": [],
   "source": [
    "# Converted list of amenities to a dataframe\n",
    "\n",
    "print ('Original list of amenities: ')\n",
    "df_refined.amenities.head()"
   ]
  },
  {
   "cell_type": "code",
   "execution_count": null,
   "metadata": {
    "ExecuteTime": {
     "end_time": "2019-02-22T00:43:00.904414Z",
     "start_time": "2019-02-22T00:42:55.154577Z"
    }
   },
   "outputs": [],
   "source": [
    "# Created a list captures every single amenities\n",
    "# Built a dataframe based on the list\n",
    "# Converted amenities to dummy variables\n",
    "\n",
    "df_amenities = df_refined  \\\n",
    "               .amenities  \\\n",
    "               .str.get_dummies(sep = \",\")  \\\n",
    "               .add_prefix('amenities_')\n",
    "\n",
    "print('df_ammenities dimension: ', df_amenities.shape)\n",
    "display(df_amenities.head())"
   ]
  },
  {
   "cell_type": "code",
   "execution_count": null,
   "metadata": {
    "ExecuteTime": {
     "end_time": "2019-02-22T00:43:01.029914Z",
     "start_time": "2019-02-22T00:43:00.907398Z"
    }
   },
   "outputs": [],
   "source": [
    "# There are over 150+ types of amenities. \n",
    "# This is to filter down to common owned amenities.\n",
    "\n",
    "common_amenities = []\n",
    "filter_percentile = 0.90\n",
    "\n",
    "for column in df_amenities.columns:\n",
    "    value = df_amenities[column].quantile(filter_percentile)\n",
    "    if value > 0:\n",
    "        common_amenities.append(column)\n",
    "\n",
    "df_common_amenities = df_amenities[common_amenities]\n",
    "\n",
    "print (common_amenities)"
   ]
  },
  {
   "cell_type": "code",
   "execution_count": null,
   "metadata": {
    "ExecuteTime": {
     "end_time": "2019-02-22T00:43:01.061521Z",
     "start_time": "2019-02-22T00:43:01.033498Z"
    }
   },
   "outputs": [],
   "source": [
    "display (df_common_amenities.head())"
   ]
  },
  {
   "cell_type": "code",
   "execution_count": null,
   "metadata": {
    "ExecuteTime": {
     "end_time": "2019-02-22T00:43:01.086458Z",
     "start_time": "2019-02-22T00:43:01.065414Z"
    }
   },
   "outputs": [],
   "source": [
    "# Concatenated common amenities dataframe with original dataframe\n",
    "\n",
    "df_refined = pd.concat([df_refined, df_common_amenities], axis=1)"
   ]
  },
  {
   "cell_type": "code",
   "execution_count": null,
   "metadata": {
    "ExecuteTime": {
     "end_time": "2019-02-22T00:43:01.113992Z",
     "start_time": "2019-02-22T00:43:01.089536Z"
    }
   },
   "outputs": [],
   "source": [
    "# Dropped original amenities feature, which is a list of amenities\n",
    "\n",
    "df_refined.drop('amenities', axis=1, inplace=True)\n",
    "df_refined.shape"
   ]
  },
  {
   "cell_type": "markdown",
   "metadata": {},
   "source": [
    "### Boolean Variables"
   ]
  },
  {
   "cell_type": "code",
   "execution_count": null,
   "metadata": {
    "ExecuteTime": {
     "end_time": "2019-02-22T00:43:01.326107Z",
     "start_time": "2019-02-22T00:43:01.117608Z"
    }
   },
   "outputs": [],
   "source": [
    "# Noted security_deposite amount can vary considerably among postings\n",
    "\n",
    "df_model = df_refined.copy()\n",
    "df_model.security_deposit.hist()"
   ]
  },
  {
   "cell_type": "code",
   "execution_count": null,
   "metadata": {
    "ExecuteTime": {
     "end_time": "2019-02-22T00:43:01.479300Z",
     "start_time": "2019-02-22T00:43:01.328934Z"
    }
   },
   "outputs": [],
   "source": [
    "# Noted minimum night amount can vary considerably among postings\n",
    "\n",
    "df_model.minimum_nights.hist()"
   ]
  },
  {
   "cell_type": "code",
   "execution_count": null,
   "metadata": {
    "ExecuteTime": {
     "end_time": "2019-02-22T00:43:01.490411Z",
     "start_time": "2019-02-22T00:43:01.483074Z"
    }
   },
   "outputs": [],
   "source": [
    "# Their numerical values do not provide meaningful information for price prediction\n",
    "# Converted to boolean variables instead\n",
    "\n",
    "df_model['security_deposit'] = (df_model['security_deposit']>0) \\\n",
    "                                          .astype(int)\n",
    "\n",
    "df_model['minimum_nights'] = (df_model['minimum_nights']>1)  \\\n",
    "                                        .astype(int)"
   ]
  },
  {
   "cell_type": "code",
   "execution_count": null,
   "metadata": {
    "ExecuteTime": {
     "end_time": "2019-02-22T00:43:01.508247Z",
     "start_time": "2019-02-22T00:43:01.493176Z"
    }
   },
   "outputs": [],
   "source": [
    "df_model.shape"
   ]
  },
  {
   "cell_type": "markdown",
   "metadata": {
    "ExecuteTime": {
     "end_time": "2019-02-17T07:31:21.291326Z",
     "start_time": "2019-02-17T07:31:21.288223Z"
    }
   },
   "source": [
    "## Features with High Correlation"
   ]
  },
  {
   "cell_type": "code",
   "execution_count": null,
   "metadata": {
    "ExecuteTime": {
     "end_time": "2019-02-22T00:43:03.261574Z",
     "start_time": "2019-02-22T00:43:01.514279Z"
    }
   },
   "outputs": [],
   "source": [
    "# Created correlation matrix\n",
    "# Selected upper triangle of correlation matrix\n",
    "\n",
    "corr_matrix = df_model.corr().abs()\n",
    "upper = corr_matrix.where(np.triu(np.ones(corr_matrix.shape), k=1).astype(np.bool))"
   ]
  },
  {
   "cell_type": "code",
   "execution_count": null,
   "metadata": {
    "ExecuteTime": {
     "end_time": "2019-02-22T00:45:29.580143Z",
     "start_time": "2019-02-22T00:45:29.489236Z"
    }
   },
   "outputs": [],
   "source": [
    "# Identified index of feature columns with correlation greater than 0.90\n",
    "# Excluded 'price_log'and 'price'\n",
    "\n",
    "cor_thresold = 0.90\n",
    "exclusion = ['price_log', 'price']\n",
    "\n",
    "to_drop = [column for column in upper.columns if any(upper[column] >= cor_thresold)\n",
    "           and (column not in exclusion)]\n",
    "\n",
    "display (to_drop)"
   ]
  },
  {
   "cell_type": "code",
   "execution_count": null,
   "metadata": {
    "ExecuteTime": {
     "end_time": "2019-02-22T00:45:43.874995Z",
     "start_time": "2019-02-22T00:45:43.857759Z"
    }
   },
   "outputs": [],
   "source": [
    "# Dropped features with high corrleation \n",
    "\n",
    "df_model.drop(columns = to_drop, inplace = True)\n",
    "\n",
    "df_model = df_model.copy()\n",
    "display('Dimensions after dropping high correlated features', df_model.shape)"
   ]
  },
  {
   "cell_type": "code",
   "execution_count": null,
   "metadata": {
    "ExecuteTime": {
     "end_time": "2019-02-22T00:45:44.087745Z",
     "start_time": "2019-02-22T00:45:44.073Z"
    }
   },
   "outputs": [],
   "source": [
    "# Stored the complete set of features\n",
    "\n",
    "pkl_file = '/Users/xzhou/github/project_archives/files_airbnb/{}.pkl'\n",
    "\n",
    "pkl_file_name = pkl_file.format('listings_all_features')\n",
    "\n",
    "df_model.to_pickle(pkl_file_name)"
   ]
  },
  {
   "cell_type": "markdown",
   "metadata": {
    "ExecuteTime": {
     "end_time": "2019-02-17T07:31:56.178971Z",
     "start_time": "2019-02-17T07:31:56.176281Z"
    }
   },
   "source": [
    "# Initial Modeling"
   ]
  },
  {
   "cell_type": "markdown",
   "metadata": {
    "ExecuteTime": {
     "end_time": "2019-02-17T10:39:49.812357Z",
     "start_time": "2019-02-17T10:39:49.809411Z"
    }
   },
   "source": [
    "## Model Preprocessing"
   ]
  },
  {
   "cell_type": "markdown",
   "metadata": {
    "ExecuteTime": {
     "end_time": "2019-02-17T07:32:32.978891Z",
     "start_time": "2019-02-17T07:32:32.975749Z"
    }
   },
   "source": [
    "### Train and Test Splits"
   ]
  },
  {
   "cell_type": "code",
   "execution_count": null,
   "metadata": {
    "ExecuteTime": {
     "end_time": "2019-02-22T00:45:45.207183Z",
     "start_time": "2019-02-22T00:45:45.199206Z"
    }
   },
   "outputs": [],
   "source": [
    "# Performed quick regression models to get a big picture of performance, \n",
    "# and prepare for feature slections\n",
    "\n",
    "X = df_model.drop(['id', 'price', 'price_log'], axis=1)\n",
    "y = df_model['price_log']"
   ]
  },
  {
   "cell_type": "code",
   "execution_count": null,
   "metadata": {
    "ExecuteTime": {
     "end_time": "2019-02-22T00:45:51.802100Z",
     "start_time": "2019-02-22T00:45:51.783526Z"
    }
   },
   "outputs": [],
   "source": [
    "X_train, X_test, y_train, y_test = train_test_split(\n",
    "                                   X, y, test_size =0.3, random_state=42)"
   ]
  },
  {
   "cell_type": "markdown",
   "metadata": {
    "ExecuteTime": {
     "end_time": "2019-02-17T10:40:37.567774Z",
     "start_time": "2019-02-17T10:40:37.561499Z"
    }
   },
   "source": [
    "### Feature Normalization"
   ]
  },
  {
   "cell_type": "code",
   "execution_count": null,
   "metadata": {
    "ExecuteTime": {
     "end_time": "2019-02-22T00:45:52.927814Z",
     "start_time": "2019-02-22T00:45:52.831109Z"
    }
   },
   "outputs": [],
   "source": [
    "# Normalize features \n",
    "\n",
    "ss = StandardScaler()\n",
    "X_train_trans = ss.fit_transform(X_train)\n",
    "X_test_trans = ss.transform (X_test)"
   ]
  },
  {
   "cell_type": "markdown",
   "metadata": {
    "ExecuteTime": {
     "end_time": "2019-02-17T07:32:54.344320Z",
     "start_time": "2019-02-17T07:32:54.340034Z"
    }
   },
   "source": [
    "## Linear Regression"
   ]
  },
  {
   "cell_type": "code",
   "execution_count": null,
   "metadata": {
    "ExecuteTime": {
     "end_time": "2019-02-22T00:45:54.309137Z",
     "start_time": "2019-02-22T00:45:53.656070Z"
    }
   },
   "outputs": [],
   "source": [
    "model = sm.OLS(y_train, sm.add_constant(X_train_trans))\n",
    "fit = model.fit()\n",
    "fit.summary()"
   ]
  },
  {
   "cell_type": "markdown",
   "metadata": {
    "ExecuteTime": {
     "end_time": "2019-02-22T00:09:03.613676Z",
     "start_time": "2019-02-22T00:09:03.555192Z"
    }
   },
   "source": [
    "## Tree Based Regression"
   ]
  },
  {
   "cell_type": "markdown",
   "metadata": {},
   "source": [
    "### Random Forest"
   ]
  },
  {
   "cell_type": "code",
   "execution_count": null,
   "metadata": {
    "ExecuteTime": {
     "end_time": "2019-02-22T00:46:26.305850Z",
     "start_time": "2019-02-22T00:45:55.956143Z"
    }
   },
   "outputs": [],
   "source": [
    "rf = RandomForestRegressor(n_estimators=500, \n",
    "                               criterion='mse', \n",
    "                               random_state=42, \n",
    "                               n_jobs=-1)\n",
    "rf.fit(X_train_trans, y_train)\n",
    "y_train_pred = rf.predict(X_train_trans)\n",
    "y_test_pred = rf.predict(X_test_trans)\n",
    "\n",
    "print('MSE train: %.3f, test: %.3f' % (\n",
    "        mean_squared_error(y_train, y_train_pred),\n",
    "        mean_squared_error(y_test, y_test_pred)))\n",
    "print('R^2 train: %.3f, test: %.3f' % (\n",
    "        r2_score(y_train, y_train_pred),\n",
    "        r2_score(y_test, y_test_pred)))"
   ]
  },
  {
   "cell_type": "markdown",
   "metadata": {
    "ExecuteTime": {
     "end_time": "2019-02-22T00:10:32.506451Z",
     "start_time": "2019-02-22T00:10:32.503109Z"
    }
   },
   "source": [
    "### Boosting Tree"
   ]
  },
  {
   "cell_type": "code",
   "execution_count": null,
   "metadata": {
    "ExecuteTime": {
     "end_time": "2019-02-22T00:46:57.765420Z",
     "start_time": "2019-02-22T00:46:46.084912Z"
    }
   },
   "outputs": [],
   "source": [
    "gbr = GradientBoostingRegressor(random_state=42, max_depth=5)\n",
    "gbr.fit(X_train_trans, y_train)"
   ]
  },
  {
   "cell_type": "code",
   "execution_count": null,
   "metadata": {
    "ExecuteTime": {
     "end_time": "2019-02-22T00:47:22.398154Z",
     "start_time": "2019-02-22T00:47:22.317981Z"
    }
   },
   "outputs": [],
   "source": [
    "y_train_pred = gbr.predict(X_train_trans)\n",
    "y_test_pred = gbr.predict(X_test_trans)\n",
    "\n",
    "\n",
    "print('MSE train: %.3f, test: %.3f' % (\n",
    "        mean_squared_error(y_train, y_train_pred),\n",
    "        mean_squared_error(y_test, y_test_pred)))\n",
    "print('R^2 train: %.3f, test: %.3f' % (\n",
    "        r2_score(y_train, y_train_pred),\n",
    "        r2_score(y_test, y_test_pred)))"
   ]
  },
  {
   "cell_type": "markdown",
   "metadata": {
    "ExecuteTime": {
     "end_time": "2019-02-17T07:34:35.723451Z",
     "start_time": "2019-02-17T07:34:35.720778Z"
    }
   },
   "source": [
    "# Data Storage"
   ]
  },
  {
   "cell_type": "code",
   "execution_count": null,
   "metadata": {
    "ExecuteTime": {
     "end_time": "2019-02-22T00:51:09.673933Z",
     "start_time": "2019-02-22T00:51:09.479071Z"
    }
   },
   "outputs": [],
   "source": [
    "# Added District and jurisdiction informaiton for future use\n",
    "\n",
    "df_data = pd.merge(left=df_model, right=df_district, \n",
    "                    how ='left', left_on='id', right_on='id')\n",
    "\n",
    "\n",
    "df_data = pd.merge(left=df_data, right=df_jurisdiction, \n",
    "                   how ='left', left_on='id', right_on='id')\n",
    "\n",
    "\n",
    "# Renamed columns used for furture reference\n",
    "\n",
    "df_data.rename(columns={'district':'ref_district',\n",
    "                        'jurisdiction_names': 'ref_jurisdiction'},\n",
    "                        inplace=True)\n",
    "\n",
    "print('df_data dimensions: ',  df_data.shape)\n",
    "display(df_data.head())"
   ]
  },
  {
   "cell_type": "code",
   "execution_count": null,
   "metadata": {
    "ExecuteTime": {
     "end_time": "2019-02-22T00:51:42.242753Z",
     "start_time": "2019-02-22T00:51:42.238539Z"
    }
   },
   "outputs": [],
   "source": [
    "# Checked for null values before data storage\n",
    "\n",
    "# df_data.isnull().sum()"
   ]
  },
  {
   "cell_type": "code",
   "execution_count": null,
   "metadata": {
    "ExecuteTime": {
     "end_time": "2019-02-22T00:52:09.580121Z",
     "start_time": "2019-02-22T00:52:09.536577Z"
    }
   },
   "outputs": [],
   "source": [
    "# Stored data post feature selection\n",
    "\n",
    "pkl_file = '/Users/xzhou/github/project_archives/files_airbnb/{}.pkl'\n",
    "\n",
    "pkl_path = pkl_file.format('df_data')\n",
    "\n",
    "df_data.to_pickle(pkl_path)"
   ]
  }
 ],
 "metadata": {
  "kernelspec": {
   "display_name": "Python 3",
   "language": "python",
   "name": "python3"
  },
  "language_info": {
   "codemirror_mode": {
    "name": "ipython",
    "version": 3
   },
   "file_extension": ".py",
   "mimetype": "text/x-python",
   "name": "python",
   "nbconvert_exporter": "python",
   "pygments_lexer": "ipython3",
   "version": "3.6.8"
  },
  "toc": {
   "base_numbering": 1,
   "nav_menu": {},
   "number_sections": true,
   "sideBar": true,
   "skip_h1_title": false,
   "title_cell": "Table of Contents",
   "title_sidebar": "Contents",
   "toc_cell": false,
   "toc_position": {
    "height": "946px",
    "left": "568px",
    "top": "199px",
    "width": "268px"
   },
   "toc_section_display": true,
   "toc_window_display": true
  },
  "varInspector": {
   "cols": {
    "lenName": 16,
    "lenType": 16,
    "lenVar": 40
   },
   "kernels_config": {
    "python": {
     "delete_cmd_postfix": "",
     "delete_cmd_prefix": "del ",
     "library": "var_list.py",
     "varRefreshCmd": "print(var_dic_list())"
    },
    "r": {
     "delete_cmd_postfix": ") ",
     "delete_cmd_prefix": "rm(",
     "library": "var_list.r",
     "varRefreshCmd": "cat(var_dic_list()) "
    }
   },
   "types_to_exclude": [
    "module",
    "function",
    "builtin_function_or_method",
    "instance",
    "_Feature"
   ],
   "window_display": false
  }
 },
 "nbformat": 4,
 "nbformat_minor": 2
}
