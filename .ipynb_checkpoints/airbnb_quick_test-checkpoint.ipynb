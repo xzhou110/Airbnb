{
 "cells": [
  {
   "cell_type": "code",
   "execution_count": 1,
   "metadata": {
    "ExecuteTime": {
     "end_time": "2018-09-13T15:17:56.084156Z",
     "start_time": "2018-09-13T15:17:54.782540Z"
    }
   },
   "outputs": [],
   "source": [
    "import pandas as pd\n",
    "import csv\n",
    "from datetime import datetime\n",
    "import matplotlib.pyplot as plt\n",
    "import numpy as np\n",
    "from sklearn import datasets, linear_model\n",
    "from sklearn.metrics import mean_squared_error, r2_score\n",
    "from sklearn.preprocessing import StandardScaler\n",
    "from sklearn.model_selection import train_test_split"
   ]
  },
  {
   "cell_type": "code",
   "execution_count": 2,
   "metadata": {
    "ExecuteTime": {
     "end_time": "2018-09-13T15:17:56.133853Z",
     "start_time": "2018-09-13T15:17:56.127241Z"
    }
   },
   "outputs": [],
   "source": [
    "file_url = '/Users/xzhou/github/project_archives/files_airbnb/sf_airbnb/{}.csv'\n",
    "\n",
    "listings_summary = file_url.format('listings_summary')\n",
    "reviews_file = file_url.format('reviews_details')\n",
    "calendar_file = file_url.format('calendar_details')"
   ]
  },
  {
   "cell_type": "code",
   "execution_count": 3,
   "metadata": {
    "ExecuteTime": {
     "end_time": "2018-09-13T15:17:56.301435Z",
     "start_time": "2018-09-13T15:17:56.177649Z"
    }
   },
   "outputs": [],
   "source": [
    "df_listings = pd.read_csv(listings_summary, parse_dates=['last_review'])"
   ]
  },
  {
   "cell_type": "code",
   "execution_count": 4,
   "metadata": {
    "ExecuteTime": {
     "end_time": "2018-09-13T15:17:56.479188Z",
     "start_time": "2018-09-13T15:17:56.467220Z"
    }
   },
   "outputs": [
    {
     "data": {
      "text/plain": [
       "(6633, 16)"
      ]
     },
     "execution_count": 4,
     "metadata": {},
     "output_type": "execute_result"
    }
   ],
   "source": [
    "df_listings.shape"
   ]
  },
  {
   "cell_type": "code",
   "execution_count": 5,
   "metadata": {
    "ExecuteTime": {
     "end_time": "2018-09-13T15:17:56.694410Z",
     "start_time": "2018-09-13T15:17:56.670369Z"
    }
   },
   "outputs": [
    {
     "data": {
      "text/html": [
       "<div>\n",
       "<style scoped>\n",
       "    .dataframe tbody tr th:only-of-type {\n",
       "        vertical-align: middle;\n",
       "    }\n",
       "\n",
       "    .dataframe tbody tr th {\n",
       "        vertical-align: top;\n",
       "    }\n",
       "\n",
       "    .dataframe thead th {\n",
       "        text-align: right;\n",
       "    }\n",
       "</style>\n",
       "<table border=\"1\" class=\"dataframe\">\n",
       "  <thead>\n",
       "    <tr style=\"text-align: right;\">\n",
       "      <th></th>\n",
       "      <th>id</th>\n",
       "      <th>name</th>\n",
       "      <th>host_id</th>\n",
       "      <th>host_name</th>\n",
       "      <th>neighbourhood_group</th>\n",
       "      <th>neighbourhood</th>\n",
       "      <th>latitude</th>\n",
       "      <th>longitude</th>\n",
       "      <th>room_type</th>\n",
       "      <th>price</th>\n",
       "      <th>minimum_nights</th>\n",
       "      <th>number_of_reviews</th>\n",
       "      <th>last_review</th>\n",
       "      <th>reviews_per_month</th>\n",
       "      <th>calculated_host_listings_count</th>\n",
       "      <th>availability_365</th>\n",
       "    </tr>\n",
       "  </thead>\n",
       "  <tbody>\n",
       "    <tr>\n",
       "      <th>0</th>\n",
       "      <td>958</td>\n",
       "      <td>Bright, Modern Garden Unit - 1BR/1B</td>\n",
       "      <td>1169</td>\n",
       "      <td>Holly</td>\n",
       "      <td>NaN</td>\n",
       "      <td>Western Addition</td>\n",
       "      <td>37.769310</td>\n",
       "      <td>-122.433856</td>\n",
       "      <td>Entire home/apt</td>\n",
       "      <td>170</td>\n",
       "      <td>1</td>\n",
       "      <td>152</td>\n",
       "      <td>2018-07-29</td>\n",
       "      <td>1.38</td>\n",
       "      <td>1</td>\n",
       "      <td>122</td>\n",
       "    </tr>\n",
       "    <tr>\n",
       "      <th>1</th>\n",
       "      <td>5858</td>\n",
       "      <td>Creative Sanctuary</td>\n",
       "      <td>8904</td>\n",
       "      <td>Philip And Tania</td>\n",
       "      <td>NaN</td>\n",
       "      <td>Bernal Heights</td>\n",
       "      <td>37.745112</td>\n",
       "      <td>-122.421018</td>\n",
       "      <td>Entire home/apt</td>\n",
       "      <td>235</td>\n",
       "      <td>30</td>\n",
       "      <td>112</td>\n",
       "      <td>2017-08-06</td>\n",
       "      <td>0.99</td>\n",
       "      <td>1</td>\n",
       "      <td>365</td>\n",
       "    </tr>\n",
       "    <tr>\n",
       "      <th>2</th>\n",
       "      <td>7918</td>\n",
       "      <td>A Friendly Room - UCSF/USF - San Francisco</td>\n",
       "      <td>21994</td>\n",
       "      <td>Aaron</td>\n",
       "      <td>NaN</td>\n",
       "      <td>Haight Ashbury</td>\n",
       "      <td>37.766690</td>\n",
       "      <td>-122.452505</td>\n",
       "      <td>Private room</td>\n",
       "      <td>65</td>\n",
       "      <td>32</td>\n",
       "      <td>17</td>\n",
       "      <td>2016-11-21</td>\n",
       "      <td>0.16</td>\n",
       "      <td>9</td>\n",
       "      <td>365</td>\n",
       "    </tr>\n",
       "    <tr>\n",
       "      <th>3</th>\n",
       "      <td>8142</td>\n",
       "      <td>Friendly Room Apt. Style -UCSF/USF - San Franc...</td>\n",
       "      <td>21994</td>\n",
       "      <td>Aaron</td>\n",
       "      <td>NaN</td>\n",
       "      <td>Haight Ashbury</td>\n",
       "      <td>37.764872</td>\n",
       "      <td>-122.451828</td>\n",
       "      <td>Private room</td>\n",
       "      <td>65</td>\n",
       "      <td>32</td>\n",
       "      <td>7</td>\n",
       "      <td>2017-08-12</td>\n",
       "      <td>0.15</td>\n",
       "      <td>9</td>\n",
       "      <td>328</td>\n",
       "    </tr>\n",
       "    <tr>\n",
       "      <th>4</th>\n",
       "      <td>8339</td>\n",
       "      <td>Historic Alamo Square Victorian</td>\n",
       "      <td>24215</td>\n",
       "      <td>Rosy</td>\n",
       "      <td>NaN</td>\n",
       "      <td>Western Addition</td>\n",
       "      <td>37.775249</td>\n",
       "      <td>-122.436374</td>\n",
       "      <td>Entire home/apt</td>\n",
       "      <td>675</td>\n",
       "      <td>7</td>\n",
       "      <td>26</td>\n",
       "      <td>2017-11-10</td>\n",
       "      <td>0.24</td>\n",
       "      <td>2</td>\n",
       "      <td>78</td>\n",
       "    </tr>\n",
       "  </tbody>\n",
       "</table>\n",
       "</div>"
      ],
      "text/plain": [
       "     id                                               name  host_id  \\\n",
       "0   958                Bright, Modern Garden Unit - 1BR/1B     1169   \n",
       "1  5858                                 Creative Sanctuary     8904   \n",
       "2  7918         A Friendly Room - UCSF/USF - San Francisco    21994   \n",
       "3  8142  Friendly Room Apt. Style -UCSF/USF - San Franc...    21994   \n",
       "4  8339                    Historic Alamo Square Victorian    24215   \n",
       "\n",
       "          host_name  neighbourhood_group     neighbourhood   latitude  \\\n",
       "0             Holly                  NaN  Western Addition  37.769310   \n",
       "1  Philip And Tania                  NaN    Bernal Heights  37.745112   \n",
       "2             Aaron                  NaN    Haight Ashbury  37.766690   \n",
       "3             Aaron                  NaN    Haight Ashbury  37.764872   \n",
       "4              Rosy                  NaN  Western Addition  37.775249   \n",
       "\n",
       "    longitude        room_type  price  minimum_nights  number_of_reviews  \\\n",
       "0 -122.433856  Entire home/apt    170               1                152   \n",
       "1 -122.421018  Entire home/apt    235              30                112   \n",
       "2 -122.452505     Private room     65              32                 17   \n",
       "3 -122.451828     Private room     65              32                  7   \n",
       "4 -122.436374  Entire home/apt    675               7                 26   \n",
       "\n",
       "  last_review  reviews_per_month  calculated_host_listings_count  \\\n",
       "0  2018-07-29               1.38                               1   \n",
       "1  2017-08-06               0.99                               1   \n",
       "2  2016-11-21               0.16                               9   \n",
       "3  2017-08-12               0.15                               9   \n",
       "4  2017-11-10               0.24                               2   \n",
       "\n",
       "   availability_365  \n",
       "0               122  \n",
       "1               365  \n",
       "2               365  \n",
       "3               328  \n",
       "4                78  "
      ]
     },
     "execution_count": 5,
     "metadata": {},
     "output_type": "execute_result"
    }
   ],
   "source": [
    "df_listings.head()"
   ]
  },
  {
   "cell_type": "code",
   "execution_count": 6,
   "metadata": {
    "ExecuteTime": {
     "end_time": "2018-09-13T15:17:59.773792Z",
     "start_time": "2018-09-13T15:17:59.767470Z"
    }
   },
   "outputs": [
    {
     "data": {
      "text/plain": [
       "Index(['id', 'name', 'host_id', 'host_name', 'neighbourhood_group',\n",
       "       'neighbourhood', 'latitude', 'longitude', 'room_type', 'price',\n",
       "       'minimum_nights', 'number_of_reviews', 'last_review',\n",
       "       'reviews_per_month', 'calculated_host_listings_count',\n",
       "       'availability_365'],\n",
       "      dtype='object')"
      ]
     },
     "execution_count": 6,
     "metadata": {},
     "output_type": "execute_result"
    }
   ],
   "source": [
    "df_listings.columns"
   ]
  },
  {
   "cell_type": "code",
   "execution_count": 7,
   "metadata": {
    "ExecuteTime": {
     "end_time": "2018-09-13T15:17:59.985590Z",
     "start_time": "2018-09-13T15:17:59.981996Z"
    }
   },
   "outputs": [],
   "source": [
    "irrlevant_columns_to_drop = ['name', 'host_id', 'host_name', 'neighbourhood_group']"
   ]
  },
  {
   "cell_type": "code",
   "execution_count": 8,
   "metadata": {
    "ExecuteTime": {
     "end_time": "2018-09-13T15:18:00.882369Z",
     "start_time": "2018-09-13T15:18:00.877130Z"
    }
   },
   "outputs": [],
   "source": [
    "df_listings_smaller = df_listings.drop(irrlevant_columns_to_drop, axis=1)"
   ]
  },
  {
   "cell_type": "code",
   "execution_count": 9,
   "metadata": {
    "ExecuteTime": {
     "end_time": "2018-09-13T15:18:01.420890Z",
     "start_time": "2018-09-13T15:18:01.413397Z"
    }
   },
   "outputs": [
    {
     "data": {
      "text/plain": [
       "id                                         int64\n",
       "neighbourhood                             object\n",
       "latitude                                 float64\n",
       "longitude                                float64\n",
       "room_type                                 object\n",
       "price                                      int64\n",
       "minimum_nights                             int64\n",
       "number_of_reviews                          int64\n",
       "last_review                       datetime64[ns]\n",
       "reviews_per_month                        float64\n",
       "calculated_host_listings_count             int64\n",
       "availability_365                           int64\n",
       "dtype: object"
      ]
     },
     "execution_count": 9,
     "metadata": {},
     "output_type": "execute_result"
    }
   ],
   "source": [
    "df_listings_smaller.dtypes"
   ]
  },
  {
   "cell_type": "code",
   "execution_count": 10,
   "metadata": {
    "ExecuteTime": {
     "end_time": "2018-09-13T15:18:05.652112Z",
     "start_time": "2018-09-13T15:18:05.645601Z"
    }
   },
   "outputs": [
    {
     "data": {
      "text/plain": [
       "2018"
      ]
     },
     "execution_count": 10,
     "metadata": {},
     "output_type": "execute_result"
    }
   ],
   "source": [
    "datetime.now().year"
   ]
  },
  {
   "cell_type": "code",
   "execution_count": 11,
   "metadata": {
    "ExecuteTime": {
     "end_time": "2018-09-13T15:18:05.938483Z",
     "start_time": "2018-09-13T15:18:05.934419Z"
    }
   },
   "outputs": [],
   "source": [
    "def duration(starting_time):\n",
    "    duration =0\n",
    "    starting_year = starting_time.year\n",
    "    duration = datetime.now().year - starting_year + 1\n",
    "    return duration"
   ]
  },
  {
   "cell_type": "code",
   "execution_count": 12,
   "metadata": {
    "ExecuteTime": {
     "end_time": "2018-09-13T15:18:06.468806Z",
     "start_time": "2018-09-13T15:18:06.422889Z"
    }
   },
   "outputs": [],
   "source": [
    "df_listings_smaller['yrs_since_last_review'] = df_listings_smaller.last_review.apply(lambda x: duration(x))"
   ]
  },
  {
   "cell_type": "code",
   "execution_count": 13,
   "metadata": {
    "ExecuteTime": {
     "end_time": "2018-09-13T15:18:09.425273Z",
     "start_time": "2018-09-13T15:18:09.404956Z"
    }
   },
   "outputs": [
    {
     "data": {
      "text/html": [
       "<div>\n",
       "<style scoped>\n",
       "    .dataframe tbody tr th:only-of-type {\n",
       "        vertical-align: middle;\n",
       "    }\n",
       "\n",
       "    .dataframe tbody tr th {\n",
       "        vertical-align: top;\n",
       "    }\n",
       "\n",
       "    .dataframe thead th {\n",
       "        text-align: right;\n",
       "    }\n",
       "</style>\n",
       "<table border=\"1\" class=\"dataframe\">\n",
       "  <thead>\n",
       "    <tr style=\"text-align: right;\">\n",
       "      <th></th>\n",
       "      <th>id</th>\n",
       "      <th>neighbourhood</th>\n",
       "      <th>latitude</th>\n",
       "      <th>longitude</th>\n",
       "      <th>room_type</th>\n",
       "      <th>price</th>\n",
       "      <th>minimum_nights</th>\n",
       "      <th>number_of_reviews</th>\n",
       "      <th>last_review</th>\n",
       "      <th>reviews_per_month</th>\n",
       "      <th>calculated_host_listings_count</th>\n",
       "      <th>availability_365</th>\n",
       "      <th>yrs_since_last_review</th>\n",
       "    </tr>\n",
       "  </thead>\n",
       "  <tbody>\n",
       "    <tr>\n",
       "      <th>0</th>\n",
       "      <td>958</td>\n",
       "      <td>Western Addition</td>\n",
       "      <td>37.769310</td>\n",
       "      <td>-122.433856</td>\n",
       "      <td>Entire home/apt</td>\n",
       "      <td>170</td>\n",
       "      <td>1</td>\n",
       "      <td>152</td>\n",
       "      <td>2018-07-29</td>\n",
       "      <td>1.38</td>\n",
       "      <td>1</td>\n",
       "      <td>122</td>\n",
       "      <td>1.0</td>\n",
       "    </tr>\n",
       "    <tr>\n",
       "      <th>1</th>\n",
       "      <td>5858</td>\n",
       "      <td>Bernal Heights</td>\n",
       "      <td>37.745112</td>\n",
       "      <td>-122.421018</td>\n",
       "      <td>Entire home/apt</td>\n",
       "      <td>235</td>\n",
       "      <td>30</td>\n",
       "      <td>112</td>\n",
       "      <td>2017-08-06</td>\n",
       "      <td>0.99</td>\n",
       "      <td>1</td>\n",
       "      <td>365</td>\n",
       "      <td>2.0</td>\n",
       "    </tr>\n",
       "    <tr>\n",
       "      <th>2</th>\n",
       "      <td>7918</td>\n",
       "      <td>Haight Ashbury</td>\n",
       "      <td>37.766690</td>\n",
       "      <td>-122.452505</td>\n",
       "      <td>Private room</td>\n",
       "      <td>65</td>\n",
       "      <td>32</td>\n",
       "      <td>17</td>\n",
       "      <td>2016-11-21</td>\n",
       "      <td>0.16</td>\n",
       "      <td>9</td>\n",
       "      <td>365</td>\n",
       "      <td>3.0</td>\n",
       "    </tr>\n",
       "    <tr>\n",
       "      <th>3</th>\n",
       "      <td>8142</td>\n",
       "      <td>Haight Ashbury</td>\n",
       "      <td>37.764872</td>\n",
       "      <td>-122.451828</td>\n",
       "      <td>Private room</td>\n",
       "      <td>65</td>\n",
       "      <td>32</td>\n",
       "      <td>7</td>\n",
       "      <td>2017-08-12</td>\n",
       "      <td>0.15</td>\n",
       "      <td>9</td>\n",
       "      <td>328</td>\n",
       "      <td>2.0</td>\n",
       "    </tr>\n",
       "    <tr>\n",
       "      <th>4</th>\n",
       "      <td>8339</td>\n",
       "      <td>Western Addition</td>\n",
       "      <td>37.775249</td>\n",
       "      <td>-122.436374</td>\n",
       "      <td>Entire home/apt</td>\n",
       "      <td>675</td>\n",
       "      <td>7</td>\n",
       "      <td>26</td>\n",
       "      <td>2017-11-10</td>\n",
       "      <td>0.24</td>\n",
       "      <td>2</td>\n",
       "      <td>78</td>\n",
       "      <td>2.0</td>\n",
       "    </tr>\n",
       "  </tbody>\n",
       "</table>\n",
       "</div>"
      ],
      "text/plain": [
       "     id     neighbourhood   latitude   longitude        room_type  price  \\\n",
       "0   958  Western Addition  37.769310 -122.433856  Entire home/apt    170   \n",
       "1  5858    Bernal Heights  37.745112 -122.421018  Entire home/apt    235   \n",
       "2  7918    Haight Ashbury  37.766690 -122.452505     Private room     65   \n",
       "3  8142    Haight Ashbury  37.764872 -122.451828     Private room     65   \n",
       "4  8339  Western Addition  37.775249 -122.436374  Entire home/apt    675   \n",
       "\n",
       "   minimum_nights  number_of_reviews last_review  reviews_per_month  \\\n",
       "0               1                152  2018-07-29               1.38   \n",
       "1              30                112  2017-08-06               0.99   \n",
       "2              32                 17  2016-11-21               0.16   \n",
       "3              32                  7  2017-08-12               0.15   \n",
       "4               7                 26  2017-11-10               0.24   \n",
       "\n",
       "   calculated_host_listings_count  availability_365  yrs_since_last_review  \n",
       "0                               1               122                    1.0  \n",
       "1                               1               365                    2.0  \n",
       "2                               9               365                    3.0  \n",
       "3                               9               328                    2.0  \n",
       "4                               2                78                    2.0  "
      ]
     },
     "execution_count": 13,
     "metadata": {},
     "output_type": "execute_result"
    }
   ],
   "source": [
    "df_listings_smaller.head()"
   ]
  },
  {
   "cell_type": "code",
   "execution_count": 14,
   "metadata": {
    "ExecuteTime": {
     "end_time": "2018-09-13T15:18:10.011617Z",
     "start_time": "2018-09-13T15:18:10.005547Z"
    }
   },
   "outputs": [],
   "source": [
    "df_listings_smaller.drop('last_review', axis=1, inplace=True)"
   ]
  },
  {
   "cell_type": "code",
   "execution_count": 15,
   "metadata": {
    "ExecuteTime": {
     "end_time": "2018-09-13T15:18:11.951955Z",
     "start_time": "2018-09-13T15:18:11.941576Z"
    }
   },
   "outputs": [
    {
     "data": {
      "text/plain": [
       "id                                   0\n",
       "neighbourhood                        0\n",
       "latitude                             0\n",
       "longitude                            0\n",
       "room_type                            0\n",
       "price                                0\n",
       "minimum_nights                       0\n",
       "number_of_reviews                    0\n",
       "reviews_per_month                 1142\n",
       "calculated_host_listings_count       0\n",
       "availability_365                     0\n",
       "yrs_since_last_review             1142\n",
       "dtype: int64"
      ]
     },
     "execution_count": 15,
     "metadata": {},
     "output_type": "execute_result"
    }
   ],
   "source": [
    "df_listings_smaller.isnull().sum()"
   ]
  },
  {
   "cell_type": "code",
   "execution_count": 16,
   "metadata": {
    "ExecuteTime": {
     "end_time": "2018-09-13T15:18:12.217378Z",
     "start_time": "2018-09-13T15:18:12.207540Z"
    }
   },
   "outputs": [],
   "source": [
    "df_listings_smaller.dropna(inplace=True)"
   ]
  },
  {
   "cell_type": "code",
   "execution_count": 17,
   "metadata": {
    "ExecuteTime": {
     "end_time": "2018-09-13T15:18:12.447563Z",
     "start_time": "2018-09-13T15:18:12.439236Z"
    }
   },
   "outputs": [
    {
     "data": {
      "text/plain": [
       "(5491, 12)"
      ]
     },
     "execution_count": 17,
     "metadata": {},
     "output_type": "execute_result"
    }
   ],
   "source": [
    "df_listings_smaller.shape"
   ]
  },
  {
   "cell_type": "code",
   "execution_count": 18,
   "metadata": {
    "ExecuteTime": {
     "end_time": "2018-09-13T15:18:14.667330Z",
     "start_time": "2018-09-13T15:18:14.660592Z"
    }
   },
   "outputs": [
    {
     "data": {
      "text/plain": [
       "id                                  int64\n",
       "neighbourhood                      object\n",
       "latitude                          float64\n",
       "longitude                         float64\n",
       "room_type                          object\n",
       "price                               int64\n",
       "minimum_nights                      int64\n",
       "number_of_reviews                   int64\n",
       "reviews_per_month                 float64\n",
       "calculated_host_listings_count      int64\n",
       "availability_365                    int64\n",
       "yrs_since_last_review             float64\n",
       "dtype: object"
      ]
     },
     "execution_count": 18,
     "metadata": {},
     "output_type": "execute_result"
    }
   ],
   "source": [
    "df_listings_smaller.dtypes"
   ]
  },
  {
   "cell_type": "code",
   "execution_count": 19,
   "metadata": {
    "ExecuteTime": {
     "end_time": "2018-09-13T15:18:14.923557Z",
     "start_time": "2018-09-13T15:18:14.919367Z"
    }
   },
   "outputs": [],
   "source": [
    "categorical_data = ['neighbourhood', 'room_type']"
   ]
  },
  {
   "cell_type": "code",
   "execution_count": 20,
   "metadata": {
    "ExecuteTime": {
     "end_time": "2018-09-13T15:18:24.095910Z",
     "start_time": "2018-09-13T15:18:24.084390Z"
    }
   },
   "outputs": [],
   "source": [
    "df_listings_cleaned = pd.get_dummies(df_listings_smaller, prefix=categorical_data, columns=categorical_data,)"
   ]
  },
  {
   "cell_type": "code",
   "execution_count": 21,
   "metadata": {
    "ExecuteTime": {
     "end_time": "2018-09-13T15:18:24.684795Z",
     "start_time": "2018-09-13T15:18:24.677919Z"
    }
   },
   "outputs": [
    {
     "data": {
      "text/plain": [
       "Index(['id', 'latitude', 'longitude', 'price', 'minimum_nights',\n",
       "       'number_of_reviews', 'reviews_per_month',\n",
       "       'calculated_host_listings_count', 'availability_365',\n",
       "       'yrs_since_last_review', 'neighbourhood_Bayview',\n",
       "       'neighbourhood_Bernal Heights', 'neighbourhood_Castro/Upper Market',\n",
       "       'neighbourhood_Chinatown', 'neighbourhood_Crocker Amazon',\n",
       "       'neighbourhood_Diamond Heights', 'neighbourhood_Downtown/Civic Center',\n",
       "       'neighbourhood_Excelsior', 'neighbourhood_Financial District',\n",
       "       'neighbourhood_Glen Park', 'neighbourhood_Golden Gate Park',\n",
       "       'neighbourhood_Haight Ashbury', 'neighbourhood_Inner Richmond',\n",
       "       'neighbourhood_Inner Sunset', 'neighbourhood_Lakeshore',\n",
       "       'neighbourhood_Marina', 'neighbourhood_Mission',\n",
       "       'neighbourhood_Nob Hill', 'neighbourhood_Noe Valley',\n",
       "       'neighbourhood_North Beach', 'neighbourhood_Ocean View',\n",
       "       'neighbourhood_Outer Mission', 'neighbourhood_Outer Richmond',\n",
       "       'neighbourhood_Outer Sunset', 'neighbourhood_Pacific Heights',\n",
       "       'neighbourhood_Parkside', 'neighbourhood_Potrero Hill',\n",
       "       'neighbourhood_Presidio', 'neighbourhood_Presidio Heights',\n",
       "       'neighbourhood_Russian Hill', 'neighbourhood_Seacliff',\n",
       "       'neighbourhood_South of Market', 'neighbourhood_Twin Peaks',\n",
       "       'neighbourhood_Visitacion Valley', 'neighbourhood_West of Twin Peaks',\n",
       "       'neighbourhood_Western Addition', 'room_type_Entire home/apt',\n",
       "       'room_type_Private room', 'room_type_Shared room'],\n",
       "      dtype='object')"
      ]
     },
     "execution_count": 21,
     "metadata": {},
     "output_type": "execute_result"
    }
   ],
   "source": [
    "df_listings_cleaned.columns"
   ]
  },
  {
   "cell_type": "code",
   "execution_count": 22,
   "metadata": {
    "ExecuteTime": {
     "end_time": "2018-09-13T15:18:25.775838Z",
     "start_time": "2018-09-13T15:18:25.749838Z"
    }
   },
   "outputs": [
    {
     "data": {
      "text/html": [
       "<div>\n",
       "<style scoped>\n",
       "    .dataframe tbody tr th:only-of-type {\n",
       "        vertical-align: middle;\n",
       "    }\n",
       "\n",
       "    .dataframe tbody tr th {\n",
       "        vertical-align: top;\n",
       "    }\n",
       "\n",
       "    .dataframe thead th {\n",
       "        text-align: right;\n",
       "    }\n",
       "</style>\n",
       "<table border=\"1\" class=\"dataframe\">\n",
       "  <thead>\n",
       "    <tr style=\"text-align: right;\">\n",
       "      <th></th>\n",
       "      <th>id</th>\n",
       "      <th>latitude</th>\n",
       "      <th>longitude</th>\n",
       "      <th>price</th>\n",
       "      <th>minimum_nights</th>\n",
       "      <th>number_of_reviews</th>\n",
       "      <th>reviews_per_month</th>\n",
       "      <th>calculated_host_listings_count</th>\n",
       "      <th>availability_365</th>\n",
       "      <th>yrs_since_last_review</th>\n",
       "      <th>...</th>\n",
       "      <th>neighbourhood_Russian Hill</th>\n",
       "      <th>neighbourhood_Seacliff</th>\n",
       "      <th>neighbourhood_South of Market</th>\n",
       "      <th>neighbourhood_Twin Peaks</th>\n",
       "      <th>neighbourhood_Visitacion Valley</th>\n",
       "      <th>neighbourhood_West of Twin Peaks</th>\n",
       "      <th>neighbourhood_Western Addition</th>\n",
       "      <th>room_type_Entire home/apt</th>\n",
       "      <th>room_type_Private room</th>\n",
       "      <th>room_type_Shared room</th>\n",
       "    </tr>\n",
       "  </thead>\n",
       "  <tbody>\n",
       "    <tr>\n",
       "      <th>0</th>\n",
       "      <td>958</td>\n",
       "      <td>37.769310</td>\n",
       "      <td>-122.433856</td>\n",
       "      <td>170</td>\n",
       "      <td>1</td>\n",
       "      <td>152</td>\n",
       "      <td>1.38</td>\n",
       "      <td>1</td>\n",
       "      <td>122</td>\n",
       "      <td>1.0</td>\n",
       "      <td>...</td>\n",
       "      <td>0</td>\n",
       "      <td>0</td>\n",
       "      <td>0</td>\n",
       "      <td>0</td>\n",
       "      <td>0</td>\n",
       "      <td>0</td>\n",
       "      <td>1</td>\n",
       "      <td>1</td>\n",
       "      <td>0</td>\n",
       "      <td>0</td>\n",
       "    </tr>\n",
       "    <tr>\n",
       "      <th>1</th>\n",
       "      <td>5858</td>\n",
       "      <td>37.745112</td>\n",
       "      <td>-122.421018</td>\n",
       "      <td>235</td>\n",
       "      <td>30</td>\n",
       "      <td>112</td>\n",
       "      <td>0.99</td>\n",
       "      <td>1</td>\n",
       "      <td>365</td>\n",
       "      <td>2.0</td>\n",
       "      <td>...</td>\n",
       "      <td>0</td>\n",
       "      <td>0</td>\n",
       "      <td>0</td>\n",
       "      <td>0</td>\n",
       "      <td>0</td>\n",
       "      <td>0</td>\n",
       "      <td>0</td>\n",
       "      <td>1</td>\n",
       "      <td>0</td>\n",
       "      <td>0</td>\n",
       "    </tr>\n",
       "    <tr>\n",
       "      <th>2</th>\n",
       "      <td>7918</td>\n",
       "      <td>37.766690</td>\n",
       "      <td>-122.452505</td>\n",
       "      <td>65</td>\n",
       "      <td>32</td>\n",
       "      <td>17</td>\n",
       "      <td>0.16</td>\n",
       "      <td>9</td>\n",
       "      <td>365</td>\n",
       "      <td>3.0</td>\n",
       "      <td>...</td>\n",
       "      <td>0</td>\n",
       "      <td>0</td>\n",
       "      <td>0</td>\n",
       "      <td>0</td>\n",
       "      <td>0</td>\n",
       "      <td>0</td>\n",
       "      <td>0</td>\n",
       "      <td>0</td>\n",
       "      <td>1</td>\n",
       "      <td>0</td>\n",
       "    </tr>\n",
       "    <tr>\n",
       "      <th>3</th>\n",
       "      <td>8142</td>\n",
       "      <td>37.764872</td>\n",
       "      <td>-122.451828</td>\n",
       "      <td>65</td>\n",
       "      <td>32</td>\n",
       "      <td>7</td>\n",
       "      <td>0.15</td>\n",
       "      <td>9</td>\n",
       "      <td>328</td>\n",
       "      <td>2.0</td>\n",
       "      <td>...</td>\n",
       "      <td>0</td>\n",
       "      <td>0</td>\n",
       "      <td>0</td>\n",
       "      <td>0</td>\n",
       "      <td>0</td>\n",
       "      <td>0</td>\n",
       "      <td>0</td>\n",
       "      <td>0</td>\n",
       "      <td>1</td>\n",
       "      <td>0</td>\n",
       "    </tr>\n",
       "    <tr>\n",
       "      <th>4</th>\n",
       "      <td>8339</td>\n",
       "      <td>37.775249</td>\n",
       "      <td>-122.436374</td>\n",
       "      <td>675</td>\n",
       "      <td>7</td>\n",
       "      <td>26</td>\n",
       "      <td>0.24</td>\n",
       "      <td>2</td>\n",
       "      <td>78</td>\n",
       "      <td>2.0</td>\n",
       "      <td>...</td>\n",
       "      <td>0</td>\n",
       "      <td>0</td>\n",
       "      <td>0</td>\n",
       "      <td>0</td>\n",
       "      <td>0</td>\n",
       "      <td>0</td>\n",
       "      <td>1</td>\n",
       "      <td>1</td>\n",
       "      <td>0</td>\n",
       "      <td>0</td>\n",
       "    </tr>\n",
       "  </tbody>\n",
       "</table>\n",
       "<p>5 rows × 49 columns</p>\n",
       "</div>"
      ],
      "text/plain": [
       "     id   latitude   longitude  price  minimum_nights  number_of_reviews  \\\n",
       "0   958  37.769310 -122.433856    170               1                152   \n",
       "1  5858  37.745112 -122.421018    235              30                112   \n",
       "2  7918  37.766690 -122.452505     65              32                 17   \n",
       "3  8142  37.764872 -122.451828     65              32                  7   \n",
       "4  8339  37.775249 -122.436374    675               7                 26   \n",
       "\n",
       "   reviews_per_month  calculated_host_listings_count  availability_365  \\\n",
       "0               1.38                               1               122   \n",
       "1               0.99                               1               365   \n",
       "2               0.16                               9               365   \n",
       "3               0.15                               9               328   \n",
       "4               0.24                               2                78   \n",
       "\n",
       "   yrs_since_last_review          ...            neighbourhood_Russian Hill  \\\n",
       "0                    1.0          ...                                     0   \n",
       "1                    2.0          ...                                     0   \n",
       "2                    3.0          ...                                     0   \n",
       "3                    2.0          ...                                     0   \n",
       "4                    2.0          ...                                     0   \n",
       "\n",
       "   neighbourhood_Seacliff  neighbourhood_South of Market  \\\n",
       "0                       0                              0   \n",
       "1                       0                              0   \n",
       "2                       0                              0   \n",
       "3                       0                              0   \n",
       "4                       0                              0   \n",
       "\n",
       "   neighbourhood_Twin Peaks  neighbourhood_Visitacion Valley  \\\n",
       "0                         0                                0   \n",
       "1                         0                                0   \n",
       "2                         0                                0   \n",
       "3                         0                                0   \n",
       "4                         0                                0   \n",
       "\n",
       "   neighbourhood_West of Twin Peaks  neighbourhood_Western Addition  \\\n",
       "0                                 0                               1   \n",
       "1                                 0                               0   \n",
       "2                                 0                               0   \n",
       "3                                 0                               0   \n",
       "4                                 0                               1   \n",
       "\n",
       "   room_type_Entire home/apt  room_type_Private room  room_type_Shared room  \n",
       "0                          1                       0                      0  \n",
       "1                          1                       0                      0  \n",
       "2                          0                       1                      0  \n",
       "3                          0                       1                      0  \n",
       "4                          1                       0                      0  \n",
       "\n",
       "[5 rows x 49 columns]"
      ]
     },
     "execution_count": 22,
     "metadata": {},
     "output_type": "execute_result"
    }
   ],
   "source": [
    "df_listings_cleaned.head()"
   ]
  },
  {
   "cell_type": "code",
   "execution_count": 23,
   "metadata": {
    "ExecuteTime": {
     "end_time": "2018-09-13T15:18:29.499565Z",
     "start_time": "2018-09-13T15:18:29.429763Z"
    }
   },
   "outputs": [],
   "source": [
    "# Create correlation matrix\n",
    "corr_matrix = df_listings_cleaned.corr().abs()\n",
    "\n",
    "# Select upper triangle of correlation matrix\n",
    "upper = corr_matrix.where(np.triu(np.ones(corr_matrix.shape), k=1).astype(np.bool))\n",
    "\n",
    "# Find index of feature columns with correlation greater than 0.95\n",
    "to_drop = [column for column in upper.columns if any(upper[column] > 0.95)]"
   ]
  },
  {
   "cell_type": "code",
   "execution_count": 24,
   "metadata": {
    "ExecuteTime": {
     "end_time": "2018-09-13T15:18:32.243890Z",
     "start_time": "2018-09-13T15:18:32.238746Z"
    }
   },
   "outputs": [
    {
     "data": {
      "text/plain": [
       "['room_type_Private room']"
      ]
     },
     "execution_count": 24,
     "metadata": {},
     "output_type": "execute_result"
    }
   ],
   "source": [
    "to_drop"
   ]
  },
  {
   "cell_type": "code",
   "execution_count": 26,
   "metadata": {
    "ExecuteTime": {
     "end_time": "2018-09-13T15:18:51.653688Z",
     "start_time": "2018-09-13T15:18:51.648360Z"
    }
   },
   "outputs": [],
   "source": [
    "# Drop features \n",
    "df_listings_cleaned.drop(to_drop, axis=1, inplace=True)"
   ]
  },
  {
   "cell_type": "code",
   "execution_count": 27,
   "metadata": {
    "ExecuteTime": {
     "end_time": "2018-09-13T15:18:57.375555Z",
     "start_time": "2018-09-13T15:18:57.367790Z"
    }
   },
   "outputs": [
    {
     "data": {
      "text/plain": [
       "Index(['id', 'latitude', 'longitude', 'price', 'minimum_nights',\n",
       "       'number_of_reviews', 'reviews_per_month',\n",
       "       'calculated_host_listings_count', 'availability_365',\n",
       "       'yrs_since_last_review', 'neighbourhood_Bayview',\n",
       "       'neighbourhood_Bernal Heights', 'neighbourhood_Castro/Upper Market',\n",
       "       'neighbourhood_Chinatown', 'neighbourhood_Crocker Amazon',\n",
       "       'neighbourhood_Diamond Heights', 'neighbourhood_Downtown/Civic Center',\n",
       "       'neighbourhood_Excelsior', 'neighbourhood_Financial District',\n",
       "       'neighbourhood_Glen Park', 'neighbourhood_Golden Gate Park',\n",
       "       'neighbourhood_Haight Ashbury', 'neighbourhood_Inner Richmond',\n",
       "       'neighbourhood_Inner Sunset', 'neighbourhood_Lakeshore',\n",
       "       'neighbourhood_Marina', 'neighbourhood_Mission',\n",
       "       'neighbourhood_Nob Hill', 'neighbourhood_Noe Valley',\n",
       "       'neighbourhood_North Beach', 'neighbourhood_Ocean View',\n",
       "       'neighbourhood_Outer Mission', 'neighbourhood_Outer Richmond',\n",
       "       'neighbourhood_Outer Sunset', 'neighbourhood_Pacific Heights',\n",
       "       'neighbourhood_Parkside', 'neighbourhood_Potrero Hill',\n",
       "       'neighbourhood_Presidio', 'neighbourhood_Presidio Heights',\n",
       "       'neighbourhood_Russian Hill', 'neighbourhood_Seacliff',\n",
       "       'neighbourhood_South of Market', 'neighbourhood_Twin Peaks',\n",
       "       'neighbourhood_Visitacion Valley', 'neighbourhood_West of Twin Peaks',\n",
       "       'neighbourhood_Western Addition', 'room_type_Entire home/apt',\n",
       "       'room_type_Shared room'],\n",
       "      dtype='object')"
      ]
     },
     "execution_count": 27,
     "metadata": {},
     "output_type": "execute_result"
    }
   ],
   "source": [
    "df_listings_cleaned.columns"
   ]
  },
  {
   "cell_type": "code",
   "execution_count": 59,
   "metadata": {
    "ExecuteTime": {
     "end_time": "2018-09-13T15:23:28.677941Z",
     "start_time": "2018-09-13T15:23:28.674092Z"
    }
   },
   "outputs": [],
   "source": [
    "test=['id', 'latitude', 'longitude', 'price','minimum_nights']"
   ]
  },
  {
   "cell_type": "code",
   "execution_count": 60,
   "metadata": {
    "ExecuteTime": {
     "end_time": "2018-09-13T15:23:29.436394Z",
     "start_time": "2018-09-13T15:23:29.430375Z"
    }
   },
   "outputs": [],
   "source": [
    "X = df_listings_cleaned.drop(test, axis=1)\n",
    "y = df_listings_cleaned['price']"
   ]
  },
  {
   "cell_type": "code",
   "execution_count": 61,
   "metadata": {
    "ExecuteTime": {
     "end_time": "2018-09-13T15:23:30.214538Z",
     "start_time": "2018-09-13T15:23:30.207394Z"
    }
   },
   "outputs": [],
   "source": [
    "X_train, X_test, y_train, y_test = train_test_split(X, y, test_size=0.3, random_state=42)"
   ]
  },
  {
   "cell_type": "code",
   "execution_count": 62,
   "metadata": {
    "ExecuteTime": {
     "end_time": "2018-09-13T15:23:31.115665Z",
     "start_time": "2018-09-13T15:23:31.099577Z"
    }
   },
   "outputs": [],
   "source": [
    "ss = StandardScaler()\n",
    "X_train_trans = ss.fit_transform(X_train)\n",
    "X_test_trans = ss.transform(X_test)"
   ]
  },
  {
   "cell_type": "code",
   "execution_count": 63,
   "metadata": {
    "ExecuteTime": {
     "end_time": "2018-09-13T15:23:32.003564Z",
     "start_time": "2018-09-13T15:23:31.986029Z"
    }
   },
   "outputs": [
    {
     "data": {
      "text/plain": [
       "LinearRegression(copy_X=True, fit_intercept=True, n_jobs=1, normalize=False)"
      ]
     },
     "execution_count": 63,
     "metadata": {},
     "output_type": "execute_result"
    }
   ],
   "source": [
    "lm = linear_model.LinearRegression()\n",
    "lm.fit(X_train_trans, y_train)"
   ]
  },
  {
   "cell_type": "code",
   "execution_count": 64,
   "metadata": {
    "ExecuteTime": {
     "end_time": "2018-09-13T15:23:32.924614Z",
     "start_time": "2018-09-13T15:23:32.914012Z"
    }
   },
   "outputs": [
    {
     "data": {
      "text/plain": [
       "0.15319359258089005"
      ]
     },
     "execution_count": 64,
     "metadata": {},
     "output_type": "execute_result"
    }
   ],
   "source": [
    "lm.score(X_test_trans, y_test)"
   ]
  },
  {
   "cell_type": "code",
   "execution_count": null,
   "metadata": {},
   "outputs": [],
   "source": []
  }
 ],
 "metadata": {
  "kernelspec": {
   "display_name": "Python 3",
   "language": "python",
   "name": "python3"
  },
  "language_info": {
   "codemirror_mode": {
    "name": "ipython",
    "version": 3
   },
   "file_extension": ".py",
   "mimetype": "text/x-python",
   "name": "python",
   "nbconvert_exporter": "python",
   "pygments_lexer": "ipython3",
   "version": "3.6.6"
  },
  "varInspector": {
   "cols": {
    "lenName": 16,
    "lenType": 16,
    "lenVar": 40
   },
   "kernels_config": {
    "python": {
     "delete_cmd_postfix": "",
     "delete_cmd_prefix": "del ",
     "library": "var_list.py",
     "varRefreshCmd": "print(var_dic_list())"
    },
    "r": {
     "delete_cmd_postfix": ") ",
     "delete_cmd_prefix": "rm(",
     "library": "var_list.r",
     "varRefreshCmd": "cat(var_dic_list()) "
    }
   },
   "types_to_exclude": [
    "module",
    "function",
    "builtin_function_or_method",
    "instance",
    "_Feature"
   ],
   "window_display": false
  }
 },
 "nbformat": 4,
 "nbformat_minor": 2
}
