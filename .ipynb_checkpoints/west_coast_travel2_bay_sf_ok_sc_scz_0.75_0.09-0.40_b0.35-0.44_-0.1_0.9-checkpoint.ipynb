{
 "cells": [
  {
   "cell_type": "code",
   "execution_count": 1,
   "metadata": {
    "ExecuteTime": {
     "end_time": "2018-09-16T06:02:31.577132Z",
     "start_time": "2018-09-16T06:02:28.650924Z"
    }
   },
   "outputs": [],
   "source": [
    "import pandas as pd\n",
    "import csv\n",
    "import statsmodels.api as sm\n",
    "from datetime import datetime\n",
    "import matplotlib.pyplot as plt\n",
    "import numpy as np\n",
    "from sklearn import datasets, linear_model\n",
    "from sklearn.metrics import mean_squared_error, r2_score\n",
    "from sklearn.preprocessing import StandardScaler\n",
    "from sklearn.model_selection import train_test_split"
   ]
  },
  {
   "cell_type": "code",
   "execution_count": 2,
   "metadata": {
    "ExecuteTime": {
     "end_time": "2018-09-16T06:02:31.589022Z",
     "start_time": "2018-09-16T06:02:31.581540Z"
    }
   },
   "outputs": [],
   "source": [
    "file_url = '/Users/xzhou/github/project_archives/files_airbnb/la_airbnb/{}.csv'\n",
    "\n",
    "listings_file = file_url.format('listings_details')\n",
    "reviews_file = file_url.format('reviews_details')\n",
    "calendar_file = file_url.format('calendar_details')"
   ]
  },
  {
   "cell_type": "code",
   "execution_count": 3,
   "metadata": {
    "ExecuteTime": {
     "end_time": "2018-09-16T06:02:31.600204Z",
     "start_time": "2018-09-16T06:02:31.593750Z"
    }
   },
   "outputs": [],
   "source": [
    "file_url = '/Users/xzhou/github/project_archives/files_airbnb/{}.csv'\n",
    "\n",
    "sf_file = file_url.format('sf_airbnb/listings_details')\n",
    "ok_file = file_url.format('ok_airbnb/listings_details')\n",
    "sc_file = file_url.format('sc_airbnb/listings_details')\n",
    "scz_file = file_url.format('scz_airbnb/listings_details')\n",
    "pg_file = file_url.format('pg_airbnb/listings_details')\n",
    "sd_file = file_url.format('sd_airbnb/listings_details')\n",
    "la_file = file_url.format('la_airbnb/listings_details')\n",
    "\n",
    "sea_file = file_url.format('sea_airbnb/listings_details')"
   ]
  },
  {
   "cell_type": "code",
   "execution_count": 4,
   "metadata": {
    "ExecuteTime": {
     "end_time": "2018-09-16T06:02:40.627730Z",
     "start_time": "2018-09-16T06:02:31.606904Z"
    }
   },
   "outputs": [],
   "source": [
    "listings_sf = pd.read_csv(sf_file, parse_dates=['last_scraped','host_since', 'first_review', 'last_review'])\n",
    "listings_ok = pd.read_csv(ok_file, parse_dates=['last_scraped','host_since', 'first_review', 'last_review'])\n",
    "listings_sc = pd.read_csv(sc_file, parse_dates=['last_scraped','host_since', 'first_review', 'last_review'])\n",
    "listings_scz = pd.read_csv(scz_file, parse_dates=['last_scraped','host_since', 'first_review', 'last_review'])\n",
    "listings_sd = pd.read_csv(sd_file, parse_dates=['last_scraped','host_since', 'first_review', 'last_review'])\n",
    "listings_la = pd.read_csv(la_file, parse_dates=['last_scraped','host_since', 'first_review', 'last_review'])\n",
    "\n",
    "listings_sea = pd.read_csv(sea_file, parse_dates=['last_scraped','host_since', 'first_review', 'last_review'])"
   ]
  },
  {
   "cell_type": "code",
   "execution_count": 5,
   "metadata": {
    "ExecuteTime": {
     "end_time": "2018-09-16T06:02:40.635256Z",
     "start_time": "2018-09-16T06:02:40.630011Z"
    }
   },
   "outputs": [
    {
     "name": "stdout",
     "output_type": "stream",
     "text": [
      "(6633, 96) (2898, 96) (5668, 96) (1570, 96) (3818, 92) (42337, 96)\n"
     ]
    }
   ],
   "source": [
    "print (listings_sf.shape, listings_ok.shape, listings_sc.shape, listings_scz.shape, listings_sea.shape,listings_la.shape)"
   ]
  },
  {
   "cell_type": "code",
   "execution_count": 6,
   "metadata": {
    "ExecuteTime": {
     "end_time": "2018-09-16T06:02:40.642739Z",
     "start_time": "2018-09-16T06:02:40.638459Z"
    }
   },
   "outputs": [],
   "source": [
    "frames = [listings_sf, listings_ok, listings_sc, listings_scz]"
   ]
  },
  {
   "cell_type": "code",
   "execution_count": 7,
   "metadata": {
    "ExecuteTime": {
     "end_time": "2018-09-16T06:02:40.769704Z",
     "start_time": "2018-09-16T06:02:40.645935Z"
    }
   },
   "outputs": [],
   "source": [
    "listings = pd.concat(frames)"
   ]
  },
  {
   "cell_type": "code",
   "execution_count": 8,
   "metadata": {
    "ExecuteTime": {
     "end_time": "2018-09-16T06:02:40.778759Z",
     "start_time": "2018-09-16T06:02:40.771834Z"
    }
   },
   "outputs": [
    {
     "data": {
      "text/plain": [
       "array(['id', 'listing_url', 'scrape_id', 'last_scraped', 'name',\n",
       "       'summary', 'space', 'description', 'experiences_offered',\n",
       "       'neighborhood_overview', 'notes', 'transit', 'access',\n",
       "       'interaction', 'house_rules', 'thumbnail_url', 'medium_url',\n",
       "       'picture_url', 'xl_picture_url', 'host_id', 'host_url',\n",
       "       'host_name', 'host_since', 'host_location', 'host_about',\n",
       "       'host_response_time', 'host_response_rate', 'host_acceptance_rate',\n",
       "       'host_is_superhost', 'host_thumbnail_url', 'host_picture_url',\n",
       "       'host_neighbourhood', 'host_listings_count',\n",
       "       'host_total_listings_count', 'host_verifications',\n",
       "       'host_has_profile_pic', 'host_identity_verified', 'street',\n",
       "       'neighbourhood', 'neighbourhood_cleansed',\n",
       "       'neighbourhood_group_cleansed', 'city', 'state', 'zipcode',\n",
       "       'market', 'smart_location', 'country_code', 'country', 'latitude',\n",
       "       'longitude', 'is_location_exact', 'property_type', 'room_type',\n",
       "       'accommodates', 'bathrooms', 'bedrooms', 'beds', 'bed_type',\n",
       "       'amenities', 'square_feet', 'price', 'weekly_price',\n",
       "       'monthly_price', 'security_deposit', 'cleaning_fee',\n",
       "       'guests_included', 'extra_people', 'minimum_nights',\n",
       "       'maximum_nights', 'calendar_updated', 'has_availability',\n",
       "       'availability_30', 'availability_60', 'availability_90',\n",
       "       'availability_365', 'calendar_last_scraped', 'number_of_reviews',\n",
       "       'first_review', 'last_review', 'review_scores_rating',\n",
       "       'review_scores_accuracy', 'review_scores_cleanliness',\n",
       "       'review_scores_checkin', 'review_scores_communication',\n",
       "       'review_scores_location', 'review_scores_value',\n",
       "       'requires_license', 'license', 'jurisdiction_names',\n",
       "       'instant_bookable', 'is_business_travel_ready',\n",
       "       'cancellation_policy', 'require_guest_profile_picture',\n",
       "       'require_guest_phone_verification',\n",
       "       'calculated_host_listings_count', 'reviews_per_month'],\n",
       "      dtype=object)"
      ]
     },
     "execution_count": 8,
     "metadata": {},
     "output_type": "execute_result"
    }
   ],
   "source": [
    "listings.columns.values"
   ]
  },
  {
   "cell_type": "code",
   "execution_count": 9,
   "metadata": {
    "ExecuteTime": {
     "end_time": "2018-09-16T06:02:40.890539Z",
     "start_time": "2018-09-16T06:02:40.781262Z"
    }
   },
   "outputs": [],
   "source": [
    "df = listings[[\"host_response_rate\", \"host_acceptance_rate\", \"host_is_superhost\",\n",
    "               \"host_listings_count\", \"zipcode\", \"property_type\",\"room_type\", \"accommodates\", \"bathrooms\", \"bedrooms\", \n",
    "               \"beds\", \"price\", \"number_of_reviews\", \"review_scores_rating\", \"cancellation_policy\", \n",
    "               \"reviews_per_month\"]]"
   ]
  },
  {
   "cell_type": "code",
   "execution_count": 10,
   "metadata": {
    "ExecuteTime": {
     "end_time": "2018-09-16T06:02:40.926380Z",
     "start_time": "2018-09-16T06:02:40.893232Z"
    }
   },
   "outputs": [
    {
     "data": {
      "text/html": [
       "<div>\n",
       "<style scoped>\n",
       "    .dataframe tbody tr th:only-of-type {\n",
       "        vertical-align: middle;\n",
       "    }\n",
       "\n",
       "    .dataframe tbody tr th {\n",
       "        vertical-align: top;\n",
       "    }\n",
       "\n",
       "    .dataframe thead th {\n",
       "        text-align: right;\n",
       "    }\n",
       "</style>\n",
       "<table border=\"1\" class=\"dataframe\">\n",
       "  <thead>\n",
       "    <tr style=\"text-align: right;\">\n",
       "      <th></th>\n",
       "      <th>host_response_rate</th>\n",
       "      <th>host_acceptance_rate</th>\n",
       "      <th>host_is_superhost</th>\n",
       "      <th>host_listings_count</th>\n",
       "      <th>zipcode</th>\n",
       "      <th>property_type</th>\n",
       "      <th>room_type</th>\n",
       "      <th>accommodates</th>\n",
       "      <th>bathrooms</th>\n",
       "      <th>bedrooms</th>\n",
       "      <th>beds</th>\n",
       "      <th>price</th>\n",
       "      <th>number_of_reviews</th>\n",
       "      <th>review_scores_rating</th>\n",
       "      <th>cancellation_policy</th>\n",
       "      <th>reviews_per_month</th>\n",
       "    </tr>\n",
       "  </thead>\n",
       "  <tbody>\n",
       "    <tr>\n",
       "      <th>0</th>\n",
       "      <td>92%</td>\n",
       "      <td>NaN</td>\n",
       "      <td>t</td>\n",
       "      <td>1</td>\n",
       "      <td>94117</td>\n",
       "      <td>Apartment</td>\n",
       "      <td>Entire home/apt</td>\n",
       "      <td>3</td>\n",
       "      <td>1.0</td>\n",
       "      <td>1.0</td>\n",
       "      <td>2.0</td>\n",
       "      <td>$170.00</td>\n",
       "      <td>152</td>\n",
       "      <td>97.0</td>\n",
       "      <td>moderate</td>\n",
       "      <td>1.38</td>\n",
       "    </tr>\n",
       "    <tr>\n",
       "      <th>1</th>\n",
       "      <td>100%</td>\n",
       "      <td>NaN</td>\n",
       "      <td>f</td>\n",
       "      <td>2</td>\n",
       "      <td>94110</td>\n",
       "      <td>Apartment</td>\n",
       "      <td>Entire home/apt</td>\n",
       "      <td>5</td>\n",
       "      <td>1.0</td>\n",
       "      <td>2.0</td>\n",
       "      <td>3.0</td>\n",
       "      <td>$235.00</td>\n",
       "      <td>112</td>\n",
       "      <td>98.0</td>\n",
       "      <td>strict_14_with_grace_period</td>\n",
       "      <td>0.99</td>\n",
       "    </tr>\n",
       "    <tr>\n",
       "      <th>2</th>\n",
       "      <td>100%</td>\n",
       "      <td>NaN</td>\n",
       "      <td>f</td>\n",
       "      <td>10</td>\n",
       "      <td>94117</td>\n",
       "      <td>Apartment</td>\n",
       "      <td>Private room</td>\n",
       "      <td>2</td>\n",
       "      <td>4.0</td>\n",
       "      <td>1.0</td>\n",
       "      <td>1.0</td>\n",
       "      <td>$65.00</td>\n",
       "      <td>17</td>\n",
       "      <td>85.0</td>\n",
       "      <td>strict_14_with_grace_period</td>\n",
       "      <td>0.16</td>\n",
       "    </tr>\n",
       "    <tr>\n",
       "      <th>3</th>\n",
       "      <td>100%</td>\n",
       "      <td>NaN</td>\n",
       "      <td>f</td>\n",
       "      <td>10</td>\n",
       "      <td>94117</td>\n",
       "      <td>Apartment</td>\n",
       "      <td>Private room</td>\n",
       "      <td>2</td>\n",
       "      <td>4.0</td>\n",
       "      <td>1.0</td>\n",
       "      <td>1.0</td>\n",
       "      <td>$65.00</td>\n",
       "      <td>7</td>\n",
       "      <td>91.0</td>\n",
       "      <td>strict_14_with_grace_period</td>\n",
       "      <td>0.15</td>\n",
       "    </tr>\n",
       "    <tr>\n",
       "      <th>4</th>\n",
       "      <td>100%</td>\n",
       "      <td>NaN</td>\n",
       "      <td>f</td>\n",
       "      <td>2</td>\n",
       "      <td>94117</td>\n",
       "      <td>House</td>\n",
       "      <td>Entire home/apt</td>\n",
       "      <td>5</td>\n",
       "      <td>1.5</td>\n",
       "      <td>2.0</td>\n",
       "      <td>2.0</td>\n",
       "      <td>$675.00</td>\n",
       "      <td>26</td>\n",
       "      <td>97.0</td>\n",
       "      <td>strict_14_with_grace_period</td>\n",
       "      <td>0.24</td>\n",
       "    </tr>\n",
       "  </tbody>\n",
       "</table>\n",
       "</div>"
      ],
      "text/plain": [
       "  host_response_rate  host_acceptance_rate host_is_superhost  \\\n",
       "0                92%                   NaN                 t   \n",
       "1               100%                   NaN                 f   \n",
       "2               100%                   NaN                 f   \n",
       "3               100%                   NaN                 f   \n",
       "4               100%                   NaN                 f   \n",
       "\n",
       "   host_listings_count zipcode property_type        room_type  accommodates  \\\n",
       "0                    1   94117     Apartment  Entire home/apt             3   \n",
       "1                    2   94110     Apartment  Entire home/apt             5   \n",
       "2                   10   94117     Apartment     Private room             2   \n",
       "3                   10   94117     Apartment     Private room             2   \n",
       "4                    2   94117         House  Entire home/apt             5   \n",
       "\n",
       "   bathrooms  bedrooms  beds     price  number_of_reviews  \\\n",
       "0        1.0       1.0   2.0  $170.00                 152   \n",
       "1        1.0       2.0   3.0  $235.00                 112   \n",
       "2        4.0       1.0   1.0   $65.00                  17   \n",
       "3        4.0       1.0   1.0   $65.00                   7   \n",
       "4        1.5       2.0   2.0  $675.00                  26   \n",
       "\n",
       "   review_scores_rating          cancellation_policy  reviews_per_month  \n",
       "0                  97.0                     moderate               1.38  \n",
       "1                  98.0  strict_14_with_grace_period               0.99  \n",
       "2                  85.0  strict_14_with_grace_period               0.16  \n",
       "3                  91.0  strict_14_with_grace_period               0.15  \n",
       "4                  97.0  strict_14_with_grace_period               0.24  "
      ]
     },
     "execution_count": 10,
     "metadata": {},
     "output_type": "execute_result"
    }
   ],
   "source": [
    "df.head()"
   ]
  },
  {
   "cell_type": "code",
   "execution_count": 11,
   "metadata": {
    "ExecuteTime": {
     "end_time": "2018-09-16T06:02:40.971099Z",
     "start_time": "2018-09-16T06:02:40.932024Z"
    }
   },
   "outputs": [
    {
     "data": {
      "text/plain": [
       "host_response_rate       11.902916\n",
       "host_acceptance_rate    100.000000\n",
       "host_is_superhost         0.000000\n",
       "host_listings_count       0.000000\n",
       "zipcode                   2.266086\n",
       "property_type             0.000000\n",
       "room_type                 0.000000\n",
       "accommodates              0.000000\n",
       "bathrooms                 0.220645\n",
       "bedrooms                  0.029817\n",
       "beds                      0.125231\n",
       "price                     0.000000\n",
       "number_of_reviews         0.000000\n",
       "review_scores_rating     17.943825\n",
       "cancellation_policy       0.000000\n",
       "reviews_per_month        17.186475\n",
       "dtype: float64"
      ]
     },
     "execution_count": 11,
     "metadata": {},
     "output_type": "execute_result"
    }
   ],
   "source": [
    "# % of NaN values\n",
    "(len(df)-df.count())/len(df)*100"
   ]
  },
  {
   "cell_type": "code",
   "execution_count": 12,
   "metadata": {
    "ExecuteTime": {
     "end_time": "2018-09-16T06:02:40.983906Z",
     "start_time": "2018-09-16T06:02:40.975646Z"
    }
   },
   "outputs": [],
   "source": [
    "df = df.drop(['host_acceptance_rate'], axis=1)"
   ]
  },
  {
   "cell_type": "code",
   "execution_count": 13,
   "metadata": {
    "ExecuteTime": {
     "end_time": "2018-09-16T06:02:41.007140Z",
     "start_time": "2018-09-16T06:02:40.986618Z"
    }
   },
   "outputs": [],
   "source": [
    "# drop NaN rows\n",
    "df2=df.dropna(axis=0)"
   ]
  },
  {
   "cell_type": "code",
   "execution_count": 14,
   "metadata": {
    "ExecuteTime": {
     "end_time": "2018-09-16T06:02:41.016968Z",
     "start_time": "2018-09-16T06:02:41.009751Z"
    }
   },
   "outputs": [
    {
     "data": {
      "text/plain": [
       "26.059991651261257"
      ]
     },
     "execution_count": 14,
     "metadata": {},
     "output_type": "execute_result"
    }
   ],
   "source": [
    "# % of rows droppped\n",
    "(len(df)-len(df2))/len(df)*100"
   ]
  },
  {
   "cell_type": "code",
   "execution_count": 15,
   "metadata": {
    "ExecuteTime": {
     "end_time": "2018-09-16T06:02:41.026189Z",
     "start_time": "2018-09-16T06:02:41.019759Z"
    }
   },
   "outputs": [
    {
     "data": {
      "text/plain": [
       "(12399, 15)"
      ]
     },
     "execution_count": 15,
     "metadata": {},
     "output_type": "execute_result"
    }
   ],
   "source": [
    "df2.shape"
   ]
  },
  {
   "cell_type": "code",
   "execution_count": 16,
   "metadata": {
    "ExecuteTime": {
     "end_time": "2018-09-16T06:02:41.040870Z",
     "start_time": "2018-09-16T06:02:41.029050Z"
    }
   },
   "outputs": [],
   "source": [
    "pd.options.mode.chained_assignment = None  # default='warn'\n",
    "\n",
    "df2['host_response_rate'] = df2['host_response_rate'].astype(str)\n",
    "df2['price'] = df2['price'].astype(str)"
   ]
  },
  {
   "cell_type": "code",
   "execution_count": 17,
   "metadata": {
    "ExecuteTime": {
     "end_time": "2018-09-16T06:02:41.081635Z",
     "start_time": "2018-09-16T06:02:41.043278Z"
    }
   },
   "outputs": [],
   "source": [
    "# clean data\n",
    "pd.options.mode.chained_assignment = None  # default='warn'\n",
    "\n",
    "df2['price'] = df2['price'].str.replace(\"[$, ]\", \"\").astype(\"float\")\n",
    "df2['host_response_rate'] = df2['host_response_rate'].str.replace(\"%\", \"\").astype(\"float\")"
   ]
  },
  {
   "cell_type": "code",
   "execution_count": 18,
   "metadata": {
    "ExecuteTime": {
     "end_time": "2018-09-16T06:02:41.094432Z",
     "start_time": "2018-09-16T06:02:41.084023Z"
    }
   },
   "outputs": [],
   "source": [
    "df2['superhost']=np.where(df2['host_is_superhost']=='t',1,0)\n",
    "del df2['host_is_superhost']"
   ]
  },
  {
   "cell_type": "code",
   "execution_count": 19,
   "metadata": {
    "ExecuteTime": {
     "end_time": "2018-09-16T06:02:41.121952Z",
     "start_time": "2018-09-16T06:02:41.097628Z"
    }
   },
   "outputs": [
    {
     "data": {
      "text/html": [
       "<div>\n",
       "<style scoped>\n",
       "    .dataframe tbody tr th:only-of-type {\n",
       "        vertical-align: middle;\n",
       "    }\n",
       "\n",
       "    .dataframe tbody tr th {\n",
       "        vertical-align: top;\n",
       "    }\n",
       "\n",
       "    .dataframe thead th {\n",
       "        text-align: right;\n",
       "    }\n",
       "</style>\n",
       "<table border=\"1\" class=\"dataframe\">\n",
       "  <thead>\n",
       "    <tr style=\"text-align: right;\">\n",
       "      <th></th>\n",
       "      <th>zipcode</th>\n",
       "      <th>property_type</th>\n",
       "      <th>room_type</th>\n",
       "      <th>cancellation_policy</th>\n",
       "    </tr>\n",
       "  </thead>\n",
       "  <tbody>\n",
       "    <tr>\n",
       "      <th>0</th>\n",
       "      <td>94117</td>\n",
       "      <td>Apartment</td>\n",
       "      <td>Entire home/apt</td>\n",
       "      <td>moderate</td>\n",
       "    </tr>\n",
       "    <tr>\n",
       "      <th>1</th>\n",
       "      <td>94110</td>\n",
       "      <td>Apartment</td>\n",
       "      <td>Entire home/apt</td>\n",
       "      <td>strict_14_with_grace_period</td>\n",
       "    </tr>\n",
       "    <tr>\n",
       "      <th>2</th>\n",
       "      <td>94117</td>\n",
       "      <td>Apartment</td>\n",
       "      <td>Private room</td>\n",
       "      <td>strict_14_with_grace_period</td>\n",
       "    </tr>\n",
       "    <tr>\n",
       "      <th>3</th>\n",
       "      <td>94117</td>\n",
       "      <td>Apartment</td>\n",
       "      <td>Private room</td>\n",
       "      <td>strict_14_with_grace_period</td>\n",
       "    </tr>\n",
       "    <tr>\n",
       "      <th>4</th>\n",
       "      <td>94117</td>\n",
       "      <td>House</td>\n",
       "      <td>Entire home/apt</td>\n",
       "      <td>strict_14_with_grace_period</td>\n",
       "    </tr>\n",
       "  </tbody>\n",
       "</table>\n",
       "</div>"
      ],
      "text/plain": [
       "  zipcode property_type        room_type          cancellation_policy\n",
       "0   94117     Apartment  Entire home/apt                     moderate\n",
       "1   94110     Apartment  Entire home/apt  strict_14_with_grace_period\n",
       "2   94117     Apartment     Private room  strict_14_with_grace_period\n",
       "3   94117     Apartment     Private room  strict_14_with_grace_period\n",
       "4   94117         House  Entire home/apt  strict_14_with_grace_period"
      ]
     },
     "execution_count": 19,
     "metadata": {},
     "output_type": "execute_result"
    }
   ],
   "source": [
    "# select non-numeric variables and create dummies\n",
    "non_num_vars = df2.select_dtypes(include=['object']).columns\n",
    "df2[non_num_vars].head()"
   ]
  },
  {
   "cell_type": "code",
   "execution_count": 20,
   "metadata": {
    "ExecuteTime": {
     "end_time": "2018-09-16T06:02:41.217851Z",
     "start_time": "2018-09-16T06:02:41.124922Z"
    }
   },
   "outputs": [
    {
     "data": {
      "text/html": [
       "<div>\n",
       "<style scoped>\n",
       "    .dataframe tbody tr th:only-of-type {\n",
       "        vertical-align: middle;\n",
       "    }\n",
       "\n",
       "    .dataframe tbody tr th {\n",
       "        vertical-align: top;\n",
       "    }\n",
       "\n",
       "    .dataframe thead th {\n",
       "        text-align: right;\n",
       "    }\n",
       "</style>\n",
       "<table border=\"1\" class=\"dataframe\">\n",
       "  <thead>\n",
       "    <tr style=\"text-align: right;\">\n",
       "      <th></th>\n",
       "      <th>host_response_rate</th>\n",
       "      <th>host_listings_count</th>\n",
       "      <th>zipcode</th>\n",
       "      <th>property_type</th>\n",
       "      <th>room_type</th>\n",
       "      <th>accommodates</th>\n",
       "      <th>bathrooms</th>\n",
       "      <th>bedrooms</th>\n",
       "      <th>beds</th>\n",
       "      <th>price</th>\n",
       "      <th>number_of_reviews</th>\n",
       "      <th>review_scores_rating</th>\n",
       "      <th>cancellation_policy</th>\n",
       "      <th>reviews_per_month</th>\n",
       "      <th>superhost</th>\n",
       "    </tr>\n",
       "  </thead>\n",
       "  <tbody>\n",
       "    <tr>\n",
       "      <th>count</th>\n",
       "      <td>12399.000000</td>\n",
       "      <td>12399.000000</td>\n",
       "      <td>12399.0</td>\n",
       "      <td>12399</td>\n",
       "      <td>12399</td>\n",
       "      <td>12399.000000</td>\n",
       "      <td>12399.000000</td>\n",
       "      <td>12399.000000</td>\n",
       "      <td>12399.000000</td>\n",
       "      <td>12399.000000</td>\n",
       "      <td>12399.000000</td>\n",
       "      <td>12399.000000</td>\n",
       "      <td>12399</td>\n",
       "      <td>12399.000000</td>\n",
       "      <td>12399.000000</td>\n",
       "    </tr>\n",
       "    <tr>\n",
       "      <th>unique</th>\n",
       "      <td>NaN</td>\n",
       "      <td>NaN</td>\n",
       "      <td>131.0</td>\n",
       "      <td>37</td>\n",
       "      <td>3</td>\n",
       "      <td>NaN</td>\n",
       "      <td>NaN</td>\n",
       "      <td>NaN</td>\n",
       "      <td>NaN</td>\n",
       "      <td>NaN</td>\n",
       "      <td>NaN</td>\n",
       "      <td>NaN</td>\n",
       "      <td>6</td>\n",
       "      <td>NaN</td>\n",
       "      <td>NaN</td>\n",
       "    </tr>\n",
       "    <tr>\n",
       "      <th>top</th>\n",
       "      <td>NaN</td>\n",
       "      <td>NaN</td>\n",
       "      <td>94110.0</td>\n",
       "      <td>House</td>\n",
       "      <td>Entire home/apt</td>\n",
       "      <td>NaN</td>\n",
       "      <td>NaN</td>\n",
       "      <td>NaN</td>\n",
       "      <td>NaN</td>\n",
       "      <td>NaN</td>\n",
       "      <td>NaN</td>\n",
       "      <td>NaN</td>\n",
       "      <td>strict_14_with_grace_period</td>\n",
       "      <td>NaN</td>\n",
       "      <td>NaN</td>\n",
       "    </tr>\n",
       "    <tr>\n",
       "      <th>freq</th>\n",
       "      <td>NaN</td>\n",
       "      <td>NaN</td>\n",
       "      <td>736.0</td>\n",
       "      <td>5409</td>\n",
       "      <td>6709</td>\n",
       "      <td>NaN</td>\n",
       "      <td>NaN</td>\n",
       "      <td>NaN</td>\n",
       "      <td>NaN</td>\n",
       "      <td>NaN</td>\n",
       "      <td>NaN</td>\n",
       "      <td>NaN</td>\n",
       "      <td>4971</td>\n",
       "      <td>NaN</td>\n",
       "      <td>NaN</td>\n",
       "    </tr>\n",
       "    <tr>\n",
       "      <th>mean</th>\n",
       "      <td>96.948947</td>\n",
       "      <td>14.567707</td>\n",
       "      <td>NaN</td>\n",
       "      <td>NaN</td>\n",
       "      <td>NaN</td>\n",
       "      <td>3.291959</td>\n",
       "      <td>1.348093</td>\n",
       "      <td>1.396806</td>\n",
       "      <td>1.892895</td>\n",
       "      <td>170.660698</td>\n",
       "      <td>43.969191</td>\n",
       "      <td>95.374466</td>\n",
       "      <td>NaN</td>\n",
       "      <td>2.061660</td>\n",
       "      <td>0.414792</td>\n",
       "    </tr>\n",
       "    <tr>\n",
       "      <th>std</th>\n",
       "      <td>10.266283</td>\n",
       "      <td>84.250916</td>\n",
       "      <td>NaN</td>\n",
       "      <td>NaN</td>\n",
       "      <td>NaN</td>\n",
       "      <td>2.271269</td>\n",
       "      <td>0.720672</td>\n",
       "      <td>0.975904</td>\n",
       "      <td>1.492838</td>\n",
       "      <td>211.663573</td>\n",
       "      <td>62.965705</td>\n",
       "      <td>6.828909</td>\n",
       "      <td>NaN</td>\n",
       "      <td>2.082577</td>\n",
       "      <td>0.492706</td>\n",
       "    </tr>\n",
       "    <tr>\n",
       "      <th>min</th>\n",
       "      <td>0.000000</td>\n",
       "      <td>0.000000</td>\n",
       "      <td>NaN</td>\n",
       "      <td>NaN</td>\n",
       "      <td>NaN</td>\n",
       "      <td>1.000000</td>\n",
       "      <td>0.000000</td>\n",
       "      <td>0.000000</td>\n",
       "      <td>0.000000</td>\n",
       "      <td>0.000000</td>\n",
       "      <td>1.000000</td>\n",
       "      <td>20.000000</td>\n",
       "      <td>NaN</td>\n",
       "      <td>0.010000</td>\n",
       "      <td>0.000000</td>\n",
       "    </tr>\n",
       "    <tr>\n",
       "      <th>25%</th>\n",
       "      <td>100.000000</td>\n",
       "      <td>1.000000</td>\n",
       "      <td>NaN</td>\n",
       "      <td>NaN</td>\n",
       "      <td>NaN</td>\n",
       "      <td>2.000000</td>\n",
       "      <td>1.000000</td>\n",
       "      <td>1.000000</td>\n",
       "      <td>1.000000</td>\n",
       "      <td>75.000000</td>\n",
       "      <td>6.000000</td>\n",
       "      <td>94.000000</td>\n",
       "      <td>NaN</td>\n",
       "      <td>0.510000</td>\n",
       "      <td>0.000000</td>\n",
       "    </tr>\n",
       "    <tr>\n",
       "      <th>50%</th>\n",
       "      <td>100.000000</td>\n",
       "      <td>2.000000</td>\n",
       "      <td>NaN</td>\n",
       "      <td>NaN</td>\n",
       "      <td>NaN</td>\n",
       "      <td>2.000000</td>\n",
       "      <td>1.000000</td>\n",
       "      <td>1.000000</td>\n",
       "      <td>1.000000</td>\n",
       "      <td>120.000000</td>\n",
       "      <td>20.000000</td>\n",
       "      <td>97.000000</td>\n",
       "      <td>NaN</td>\n",
       "      <td>1.340000</td>\n",
       "      <td>0.000000</td>\n",
       "    </tr>\n",
       "    <tr>\n",
       "      <th>75%</th>\n",
       "      <td>100.000000</td>\n",
       "      <td>5.000000</td>\n",
       "      <td>NaN</td>\n",
       "      <td>NaN</td>\n",
       "      <td>NaN</td>\n",
       "      <td>4.000000</td>\n",
       "      <td>1.500000</td>\n",
       "      <td>2.000000</td>\n",
       "      <td>2.000000</td>\n",
       "      <td>200.000000</td>\n",
       "      <td>55.000000</td>\n",
       "      <td>100.000000</td>\n",
       "      <td>NaN</td>\n",
       "      <td>3.000000</td>\n",
       "      <td>1.000000</td>\n",
       "    </tr>\n",
       "    <tr>\n",
       "      <th>max</th>\n",
       "      <td>100.000000</td>\n",
       "      <td>1305.000000</td>\n",
       "      <td>NaN</td>\n",
       "      <td>NaN</td>\n",
       "      <td>NaN</td>\n",
       "      <td>16.000000</td>\n",
       "      <td>10.000000</td>\n",
       "      <td>12.000000</td>\n",
       "      <td>35.000000</td>\n",
       "      <td>10000.000000</td>\n",
       "      <td>610.000000</td>\n",
       "      <td>100.000000</td>\n",
       "      <td>NaN</td>\n",
       "      <td>16.900000</td>\n",
       "      <td>1.000000</td>\n",
       "    </tr>\n",
       "  </tbody>\n",
       "</table>\n",
       "</div>"
      ],
      "text/plain": [
       "        host_response_rate  host_listings_count  zipcode property_type  \\\n",
       "count         12399.000000         12399.000000  12399.0         12399   \n",
       "unique                 NaN                  NaN    131.0            37   \n",
       "top                    NaN                  NaN  94110.0         House   \n",
       "freq                   NaN                  NaN    736.0          5409   \n",
       "mean             96.948947            14.567707      NaN           NaN   \n",
       "std              10.266283            84.250916      NaN           NaN   \n",
       "min               0.000000             0.000000      NaN           NaN   \n",
       "25%             100.000000             1.000000      NaN           NaN   \n",
       "50%             100.000000             2.000000      NaN           NaN   \n",
       "75%             100.000000             5.000000      NaN           NaN   \n",
       "max             100.000000          1305.000000      NaN           NaN   \n",
       "\n",
       "              room_type  accommodates     bathrooms      bedrooms  \\\n",
       "count             12399  12399.000000  12399.000000  12399.000000   \n",
       "unique                3           NaN           NaN           NaN   \n",
       "top     Entire home/apt           NaN           NaN           NaN   \n",
       "freq               6709           NaN           NaN           NaN   \n",
       "mean                NaN      3.291959      1.348093      1.396806   \n",
       "std                 NaN      2.271269      0.720672      0.975904   \n",
       "min                 NaN      1.000000      0.000000      0.000000   \n",
       "25%                 NaN      2.000000      1.000000      1.000000   \n",
       "50%                 NaN      2.000000      1.000000      1.000000   \n",
       "75%                 NaN      4.000000      1.500000      2.000000   \n",
       "max                 NaN     16.000000     10.000000     12.000000   \n",
       "\n",
       "                beds         price  number_of_reviews  review_scores_rating  \\\n",
       "count   12399.000000  12399.000000       12399.000000          12399.000000   \n",
       "unique           NaN           NaN                NaN                   NaN   \n",
       "top              NaN           NaN                NaN                   NaN   \n",
       "freq             NaN           NaN                NaN                   NaN   \n",
       "mean        1.892895    170.660698          43.969191             95.374466   \n",
       "std         1.492838    211.663573          62.965705              6.828909   \n",
       "min         0.000000      0.000000           1.000000             20.000000   \n",
       "25%         1.000000     75.000000           6.000000             94.000000   \n",
       "50%         1.000000    120.000000          20.000000             97.000000   \n",
       "75%         2.000000    200.000000          55.000000            100.000000   \n",
       "max        35.000000  10000.000000         610.000000            100.000000   \n",
       "\n",
       "                cancellation_policy  reviews_per_month     superhost  \n",
       "count                         12399       12399.000000  12399.000000  \n",
       "unique                            6                NaN           NaN  \n",
       "top     strict_14_with_grace_period                NaN           NaN  \n",
       "freq                           4971                NaN           NaN  \n",
       "mean                            NaN           2.061660      0.414792  \n",
       "std                             NaN           2.082577      0.492706  \n",
       "min                             NaN           0.010000      0.000000  \n",
       "25%                             NaN           0.510000      0.000000  \n",
       "50%                             NaN           1.340000      0.000000  \n",
       "75%                             NaN           3.000000      1.000000  \n",
       "max                             NaN          16.900000      1.000000  "
      ]
     },
     "execution_count": 20,
     "metadata": {},
     "output_type": "execute_result"
    }
   ],
   "source": [
    "df2.describe(include='all')"
   ]
  },
  {
   "cell_type": "code",
   "execution_count": 21,
   "metadata": {
    "ExecuteTime": {
     "end_time": "2018-09-16T06:02:41.227490Z",
     "start_time": "2018-09-16T06:02:41.220487Z"
    }
   },
   "outputs": [],
   "source": [
    "df4 = df2[(df2['price']<=500)\n",
    "         & (df2['price']>=40)]"
   ]
  },
  {
   "cell_type": "code",
   "execution_count": 22,
   "metadata": {
    "ExecuteTime": {
     "end_time": "2018-09-16T06:02:41.236181Z",
     "start_time": "2018-09-16T06:02:41.230122Z"
    }
   },
   "outputs": [
    {
     "data": {
      "text/plain": [
       "(11468, 15)"
      ]
     },
     "execution_count": 22,
     "metadata": {},
     "output_type": "execute_result"
    }
   ],
   "source": [
    "df4.shape"
   ]
  },
  {
   "cell_type": "code",
   "execution_count": 23,
   "metadata": {
    "ExecuteTime": {
     "end_time": "2018-09-16T06:02:41.272143Z",
     "start_time": "2018-09-16T06:02:41.238744Z"
    }
   },
   "outputs": [
    {
     "data": {
      "text/plain": [
       "(11468, 184)"
      ]
     },
     "execution_count": 23,
     "metadata": {},
     "output_type": "execute_result"
    }
   ],
   "source": [
    "df4 = pd.get_dummies(df4, prefix=non_num_vars, columns=non_num_vars)\n",
    "df4.shape"
   ]
  },
  {
   "cell_type": "code",
   "execution_count": 24,
   "metadata": {
    "ExecuteTime": {
     "end_time": "2018-09-16T06:02:41.283227Z",
     "start_time": "2018-09-16T06:02:41.275189Z"
    }
   },
   "outputs": [
    {
     "data": {
      "text/plain": [
       "(11468, 184)"
      ]
     },
     "execution_count": 24,
     "metadata": {},
     "output_type": "execute_result"
    }
   ],
   "source": [
    "df4.shape"
   ]
  },
  {
   "cell_type": "code",
   "execution_count": 25,
   "metadata": {
    "ExecuteTime": {
     "end_time": "2018-09-16T06:02:41.293426Z",
     "start_time": "2018-09-16T06:02:41.286295Z"
    }
   },
   "outputs": [
    {
     "data": {
      "text/plain": [
       "Index(['host_response_rate', 'host_listings_count', 'accommodates',\n",
       "       'bathrooms', 'bedrooms', 'beds', 'price', 'number_of_reviews',\n",
       "       'review_scores_rating', 'reviews_per_month',\n",
       "       ...\n",
       "       'property_type_Yurt', 'room_type_Entire home/apt',\n",
       "       'room_type_Private room', 'room_type_Shared room',\n",
       "       'cancellation_policy_flexible', 'cancellation_policy_moderate',\n",
       "       'cancellation_policy_strict',\n",
       "       'cancellation_policy_strict_14_with_grace_period',\n",
       "       'cancellation_policy_super_strict_30',\n",
       "       'cancellation_policy_super_strict_60'],\n",
       "      dtype='object', length=184)"
      ]
     },
     "execution_count": 25,
     "metadata": {},
     "output_type": "execute_result"
    }
   ],
   "source": [
    "df4.columns"
   ]
  },
  {
   "cell_type": "code",
   "execution_count": 26,
   "metadata": {
    "ExecuteTime": {
     "end_time": "2018-09-16T06:02:41.315947Z",
     "start_time": "2018-09-16T06:02:41.296545Z"
    }
   },
   "outputs": [],
   "source": [
    "df5 = df4[df4['room_type_Entire home/apt']==1]\n",
    "df6 = df4[df4['room_type_Private room']==1]\n",
    "df7 = df4[df4['room_type_Shared room']==1]"
   ]
  },
  {
   "cell_type": "code",
   "execution_count": 27,
   "metadata": {
    "ExecuteTime": {
     "end_time": "2018-09-16T06:02:41.327130Z",
     "start_time": "2018-09-16T06:02:41.318873Z"
    }
   },
   "outputs": [],
   "source": [
    "df8 = df4[df4['room_type_Entire home/apt']!=1]"
   ]
  },
  {
   "cell_type": "code",
   "execution_count": 28,
   "metadata": {
    "ExecuteTime": {
     "end_time": "2018-09-16T06:02:41.335356Z",
     "start_time": "2018-09-16T06:02:41.329594Z"
    }
   },
   "outputs": [
    {
     "data": {
      "text/plain": [
       "(6300, 184)"
      ]
     },
     "execution_count": 28,
     "metadata": {},
     "output_type": "execute_result"
    }
   ],
   "source": [
    "df5.shape"
   ]
  },
  {
   "cell_type": "code",
   "execution_count": 29,
   "metadata": {
    "ExecuteTime": {
     "end_time": "2018-09-16T06:02:41.343651Z",
     "start_time": "2018-09-16T06:02:41.337651Z"
    }
   },
   "outputs": [
    {
     "data": {
      "text/plain": [
       "(4943, 184)"
      ]
     },
     "execution_count": 29,
     "metadata": {},
     "output_type": "execute_result"
    }
   ],
   "source": [
    "df6.shape"
   ]
  },
  {
   "cell_type": "code",
   "execution_count": 30,
   "metadata": {
    "ExecuteTime": {
     "end_time": "2018-09-16T06:02:41.354470Z",
     "start_time": "2018-09-16T06:02:41.348467Z"
    }
   },
   "outputs": [
    {
     "data": {
      "text/plain": [
       "(225, 184)"
      ]
     },
     "execution_count": 30,
     "metadata": {},
     "output_type": "execute_result"
    }
   ],
   "source": [
    "df7.shape"
   ]
  },
  {
   "cell_type": "code",
   "execution_count": 31,
   "metadata": {
    "ExecuteTime": {
     "end_time": "2018-09-16T06:02:41.383165Z",
     "start_time": "2018-09-16T06:02:41.357143Z"
    }
   },
   "outputs": [],
   "source": [
    "dummy_vars = pd.get_dummies(df2[non_num_vars])"
   ]
  },
  {
   "cell_type": "code",
   "execution_count": 32,
   "metadata": {
    "ExecuteTime": {
     "end_time": "2018-09-16T06:02:41.409779Z",
     "start_time": "2018-09-16T06:02:41.386643Z"
    }
   },
   "outputs": [
    {
     "data": {
      "text/html": [
       "<div>\n",
       "<style scoped>\n",
       "    .dataframe tbody tr th:only-of-type {\n",
       "        vertical-align: middle;\n",
       "    }\n",
       "\n",
       "    .dataframe tbody tr th {\n",
       "        vertical-align: top;\n",
       "    }\n",
       "\n",
       "    .dataframe thead th {\n",
       "        text-align: right;\n",
       "    }\n",
       "</style>\n",
       "<table border=\"1\" class=\"dataframe\">\n",
       "  <thead>\n",
       "    <tr style=\"text-align: right;\">\n",
       "      <th></th>\n",
       "      <th>zipcode_94014.0</th>\n",
       "      <th>zipcode_94102.0</th>\n",
       "      <th>zipcode_94103.0</th>\n",
       "      <th>zipcode_94104.0</th>\n",
       "      <th>zipcode_94105.0</th>\n",
       "      <th>zipcode_94106.0</th>\n",
       "      <th>zipcode_94107.0</th>\n",
       "      <th>zipcode_94108.0</th>\n",
       "      <th>zipcode_94109.0</th>\n",
       "      <th>zipcode_94110.0</th>\n",
       "      <th>...</th>\n",
       "      <th>property_type_Yurt</th>\n",
       "      <th>room_type_Entire home/apt</th>\n",
       "      <th>room_type_Private room</th>\n",
       "      <th>room_type_Shared room</th>\n",
       "      <th>cancellation_policy_flexible</th>\n",
       "      <th>cancellation_policy_moderate</th>\n",
       "      <th>cancellation_policy_strict</th>\n",
       "      <th>cancellation_policy_strict_14_with_grace_period</th>\n",
       "      <th>cancellation_policy_super_strict_30</th>\n",
       "      <th>cancellation_policy_super_strict_60</th>\n",
       "    </tr>\n",
       "  </thead>\n",
       "  <tbody>\n",
       "    <tr>\n",
       "      <th>0</th>\n",
       "      <td>0</td>\n",
       "      <td>0</td>\n",
       "      <td>0</td>\n",
       "      <td>0</td>\n",
       "      <td>0</td>\n",
       "      <td>0</td>\n",
       "      <td>0</td>\n",
       "      <td>0</td>\n",
       "      <td>0</td>\n",
       "      <td>0</td>\n",
       "      <td>...</td>\n",
       "      <td>0</td>\n",
       "      <td>1</td>\n",
       "      <td>0</td>\n",
       "      <td>0</td>\n",
       "      <td>0</td>\n",
       "      <td>1</td>\n",
       "      <td>0</td>\n",
       "      <td>0</td>\n",
       "      <td>0</td>\n",
       "      <td>0</td>\n",
       "    </tr>\n",
       "    <tr>\n",
       "      <th>1</th>\n",
       "      <td>0</td>\n",
       "      <td>0</td>\n",
       "      <td>0</td>\n",
       "      <td>0</td>\n",
       "      <td>0</td>\n",
       "      <td>0</td>\n",
       "      <td>0</td>\n",
       "      <td>0</td>\n",
       "      <td>0</td>\n",
       "      <td>1</td>\n",
       "      <td>...</td>\n",
       "      <td>0</td>\n",
       "      <td>1</td>\n",
       "      <td>0</td>\n",
       "      <td>0</td>\n",
       "      <td>0</td>\n",
       "      <td>0</td>\n",
       "      <td>0</td>\n",
       "      <td>1</td>\n",
       "      <td>0</td>\n",
       "      <td>0</td>\n",
       "    </tr>\n",
       "    <tr>\n",
       "      <th>2</th>\n",
       "      <td>0</td>\n",
       "      <td>0</td>\n",
       "      <td>0</td>\n",
       "      <td>0</td>\n",
       "      <td>0</td>\n",
       "      <td>0</td>\n",
       "      <td>0</td>\n",
       "      <td>0</td>\n",
       "      <td>0</td>\n",
       "      <td>0</td>\n",
       "      <td>...</td>\n",
       "      <td>0</td>\n",
       "      <td>0</td>\n",
       "      <td>1</td>\n",
       "      <td>0</td>\n",
       "      <td>0</td>\n",
       "      <td>0</td>\n",
       "      <td>0</td>\n",
       "      <td>1</td>\n",
       "      <td>0</td>\n",
       "      <td>0</td>\n",
       "    </tr>\n",
       "    <tr>\n",
       "      <th>3</th>\n",
       "      <td>0</td>\n",
       "      <td>0</td>\n",
       "      <td>0</td>\n",
       "      <td>0</td>\n",
       "      <td>0</td>\n",
       "      <td>0</td>\n",
       "      <td>0</td>\n",
       "      <td>0</td>\n",
       "      <td>0</td>\n",
       "      <td>0</td>\n",
       "      <td>...</td>\n",
       "      <td>0</td>\n",
       "      <td>0</td>\n",
       "      <td>1</td>\n",
       "      <td>0</td>\n",
       "      <td>0</td>\n",
       "      <td>0</td>\n",
       "      <td>0</td>\n",
       "      <td>1</td>\n",
       "      <td>0</td>\n",
       "      <td>0</td>\n",
       "    </tr>\n",
       "    <tr>\n",
       "      <th>4</th>\n",
       "      <td>0</td>\n",
       "      <td>0</td>\n",
       "      <td>0</td>\n",
       "      <td>0</td>\n",
       "      <td>0</td>\n",
       "      <td>0</td>\n",
       "      <td>0</td>\n",
       "      <td>0</td>\n",
       "      <td>0</td>\n",
       "      <td>0</td>\n",
       "      <td>...</td>\n",
       "      <td>0</td>\n",
       "      <td>1</td>\n",
       "      <td>0</td>\n",
       "      <td>0</td>\n",
       "      <td>0</td>\n",
       "      <td>0</td>\n",
       "      <td>0</td>\n",
       "      <td>1</td>\n",
       "      <td>0</td>\n",
       "      <td>0</td>\n",
       "    </tr>\n",
       "  </tbody>\n",
       "</table>\n",
       "<p>5 rows × 177 columns</p>\n",
       "</div>"
      ],
      "text/plain": [
       "   zipcode_94014.0  zipcode_94102.0  zipcode_94103.0  zipcode_94104.0  \\\n",
       "0                0                0                0                0   \n",
       "1                0                0                0                0   \n",
       "2                0                0                0                0   \n",
       "3                0                0                0                0   \n",
       "4                0                0                0                0   \n",
       "\n",
       "   zipcode_94105.0  zipcode_94106.0  zipcode_94107.0  zipcode_94108.0  \\\n",
       "0                0                0                0                0   \n",
       "1                0                0                0                0   \n",
       "2                0                0                0                0   \n",
       "3                0                0                0                0   \n",
       "4                0                0                0                0   \n",
       "\n",
       "   zipcode_94109.0  zipcode_94110.0                 ...                   \\\n",
       "0                0                0                 ...                    \n",
       "1                0                1                 ...                    \n",
       "2                0                0                 ...                    \n",
       "3                0                0                 ...                    \n",
       "4                0                0                 ...                    \n",
       "\n",
       "   property_type_Yurt  room_type_Entire home/apt  room_type_Private room  \\\n",
       "0                   0                          1                       0   \n",
       "1                   0                          1                       0   \n",
       "2                   0                          0                       1   \n",
       "3                   0                          0                       1   \n",
       "4                   0                          1                       0   \n",
       "\n",
       "   room_type_Shared room  cancellation_policy_flexible  \\\n",
       "0                      0                             0   \n",
       "1                      0                             0   \n",
       "2                      0                             0   \n",
       "3                      0                             0   \n",
       "4                      0                             0   \n",
       "\n",
       "   cancellation_policy_moderate  cancellation_policy_strict  \\\n",
       "0                             1                           0   \n",
       "1                             0                           0   \n",
       "2                             0                           0   \n",
       "3                             0                           0   \n",
       "4                             0                           0   \n",
       "\n",
       "   cancellation_policy_strict_14_with_grace_period  \\\n",
       "0                                                0   \n",
       "1                                                1   \n",
       "2                                                1   \n",
       "3                                                1   \n",
       "4                                                1   \n",
       "\n",
       "   cancellation_policy_super_strict_30  cancellation_policy_super_strict_60  \n",
       "0                                    0                                    0  \n",
       "1                                    0                                    0  \n",
       "2                                    0                                    0  \n",
       "3                                    0                                    0  \n",
       "4                                    0                                    0  \n",
       "\n",
       "[5 rows x 177 columns]"
      ]
     },
     "execution_count": 32,
     "metadata": {},
     "output_type": "execute_result"
    }
   ],
   "source": [
    "dummy_vars.head()"
   ]
  },
  {
   "cell_type": "code",
   "execution_count": 33,
   "metadata": {
    "ExecuteTime": {
     "end_time": "2018-09-16T06:02:41.487921Z",
     "start_time": "2018-09-16T06:02:41.412314Z"
    }
   },
   "outputs": [
    {
     "data": {
      "text/html": [
       "<div>\n",
       "<style scoped>\n",
       "    .dataframe tbody tr th:only-of-type {\n",
       "        vertical-align: middle;\n",
       "    }\n",
       "\n",
       "    .dataframe tbody tr th {\n",
       "        vertical-align: top;\n",
       "    }\n",
       "\n",
       "    .dataframe thead th {\n",
       "        text-align: right;\n",
       "    }\n",
       "</style>\n",
       "<table border=\"1\" class=\"dataframe\">\n",
       "  <thead>\n",
       "    <tr style=\"text-align: right;\">\n",
       "      <th></th>\n",
       "      <th>host_response_rate</th>\n",
       "      <th>host_listings_count</th>\n",
       "      <th>accommodates</th>\n",
       "      <th>bathrooms</th>\n",
       "      <th>bedrooms</th>\n",
       "      <th>beds</th>\n",
       "      <th>price</th>\n",
       "      <th>number_of_reviews</th>\n",
       "      <th>review_scores_rating</th>\n",
       "      <th>reviews_per_month</th>\n",
       "      <th>...</th>\n",
       "      <th>property_type_Yurt</th>\n",
       "      <th>room_type_Entire home/apt</th>\n",
       "      <th>room_type_Private room</th>\n",
       "      <th>room_type_Shared room</th>\n",
       "      <th>cancellation_policy_flexible</th>\n",
       "      <th>cancellation_policy_moderate</th>\n",
       "      <th>cancellation_policy_strict</th>\n",
       "      <th>cancellation_policy_strict_14_with_grace_period</th>\n",
       "      <th>cancellation_policy_super_strict_30</th>\n",
       "      <th>cancellation_policy_super_strict_60</th>\n",
       "    </tr>\n",
       "  </thead>\n",
       "  <tbody>\n",
       "    <tr>\n",
       "      <th>0</th>\n",
       "      <td>92.0</td>\n",
       "      <td>1</td>\n",
       "      <td>3</td>\n",
       "      <td>1.0</td>\n",
       "      <td>1.0</td>\n",
       "      <td>2.0</td>\n",
       "      <td>170.0</td>\n",
       "      <td>152</td>\n",
       "      <td>97.0</td>\n",
       "      <td>1.38</td>\n",
       "      <td>...</td>\n",
       "      <td>0</td>\n",
       "      <td>1</td>\n",
       "      <td>0</td>\n",
       "      <td>0</td>\n",
       "      <td>0</td>\n",
       "      <td>1</td>\n",
       "      <td>0</td>\n",
       "      <td>0</td>\n",
       "      <td>0</td>\n",
       "      <td>0</td>\n",
       "    </tr>\n",
       "    <tr>\n",
       "      <th>0</th>\n",
       "      <td>92.0</td>\n",
       "      <td>1</td>\n",
       "      <td>3</td>\n",
       "      <td>1.0</td>\n",
       "      <td>1.0</td>\n",
       "      <td>2.0</td>\n",
       "      <td>170.0</td>\n",
       "      <td>152</td>\n",
       "      <td>97.0</td>\n",
       "      <td>1.38</td>\n",
       "      <td>...</td>\n",
       "      <td>0</td>\n",
       "      <td>0</td>\n",
       "      <td>1</td>\n",
       "      <td>0</td>\n",
       "      <td>0</td>\n",
       "      <td>0</td>\n",
       "      <td>0</td>\n",
       "      <td>1</td>\n",
       "      <td>0</td>\n",
       "      <td>0</td>\n",
       "    </tr>\n",
       "    <tr>\n",
       "      <th>0</th>\n",
       "      <td>92.0</td>\n",
       "      <td>1</td>\n",
       "      <td>3</td>\n",
       "      <td>1.0</td>\n",
       "      <td>1.0</td>\n",
       "      <td>2.0</td>\n",
       "      <td>170.0</td>\n",
       "      <td>152</td>\n",
       "      <td>97.0</td>\n",
       "      <td>1.38</td>\n",
       "      <td>...</td>\n",
       "      <td>0</td>\n",
       "      <td>0</td>\n",
       "      <td>1</td>\n",
       "      <td>0</td>\n",
       "      <td>0</td>\n",
       "      <td>1</td>\n",
       "      <td>0</td>\n",
       "      <td>0</td>\n",
       "      <td>0</td>\n",
       "      <td>0</td>\n",
       "    </tr>\n",
       "    <tr>\n",
       "      <th>0</th>\n",
       "      <td>100.0</td>\n",
       "      <td>6</td>\n",
       "      <td>2</td>\n",
       "      <td>1.0</td>\n",
       "      <td>1.0</td>\n",
       "      <td>1.0</td>\n",
       "      <td>65.0</td>\n",
       "      <td>25</td>\n",
       "      <td>91.0</td>\n",
       "      <td>0.51</td>\n",
       "      <td>...</td>\n",
       "      <td>0</td>\n",
       "      <td>1</td>\n",
       "      <td>0</td>\n",
       "      <td>0</td>\n",
       "      <td>0</td>\n",
       "      <td>1</td>\n",
       "      <td>0</td>\n",
       "      <td>0</td>\n",
       "      <td>0</td>\n",
       "      <td>0</td>\n",
       "    </tr>\n",
       "    <tr>\n",
       "      <th>0</th>\n",
       "      <td>100.0</td>\n",
       "      <td>6</td>\n",
       "      <td>2</td>\n",
       "      <td>1.0</td>\n",
       "      <td>1.0</td>\n",
       "      <td>1.0</td>\n",
       "      <td>65.0</td>\n",
       "      <td>25</td>\n",
       "      <td>91.0</td>\n",
       "      <td>0.51</td>\n",
       "      <td>...</td>\n",
       "      <td>0</td>\n",
       "      <td>0</td>\n",
       "      <td>1</td>\n",
       "      <td>0</td>\n",
       "      <td>0</td>\n",
       "      <td>0</td>\n",
       "      <td>0</td>\n",
       "      <td>1</td>\n",
       "      <td>0</td>\n",
       "      <td>0</td>\n",
       "    </tr>\n",
       "  </tbody>\n",
       "</table>\n",
       "<p>5 rows × 188 columns</p>\n",
       "</div>"
      ],
      "text/plain": [
       "   host_response_rate  host_listings_count  accommodates  bathrooms  bedrooms  \\\n",
       "0                92.0                    1             3        1.0       1.0   \n",
       "0                92.0                    1             3        1.0       1.0   \n",
       "0                92.0                    1             3        1.0       1.0   \n",
       "0               100.0                    6             2        1.0       1.0   \n",
       "0               100.0                    6             2        1.0       1.0   \n",
       "\n",
       "   beds  price  number_of_reviews  review_scores_rating  reviews_per_month  \\\n",
       "0   2.0  170.0                152                  97.0               1.38   \n",
       "0   2.0  170.0                152                  97.0               1.38   \n",
       "0   2.0  170.0                152                  97.0               1.38   \n",
       "0   1.0   65.0                 25                  91.0               0.51   \n",
       "0   1.0   65.0                 25                  91.0               0.51   \n",
       "\n",
       "                  ...                   property_type_Yurt  \\\n",
       "0                 ...                                    0   \n",
       "0                 ...                                    0   \n",
       "0                 ...                                    0   \n",
       "0                 ...                                    0   \n",
       "0                 ...                                    0   \n",
       "\n",
       "   room_type_Entire home/apt  room_type_Private room  room_type_Shared room  \\\n",
       "0                          1                       0                      0   \n",
       "0                          0                       1                      0   \n",
       "0                          0                       1                      0   \n",
       "0                          1                       0                      0   \n",
       "0                          0                       1                      0   \n",
       "\n",
       "   cancellation_policy_flexible  cancellation_policy_moderate  \\\n",
       "0                             0                             1   \n",
       "0                             0                             0   \n",
       "0                             0                             1   \n",
       "0                             0                             1   \n",
       "0                             0                             0   \n",
       "\n",
       "   cancellation_policy_strict  \\\n",
       "0                           0   \n",
       "0                           0   \n",
       "0                           0   \n",
       "0                           0   \n",
       "0                           0   \n",
       "\n",
       "   cancellation_policy_strict_14_with_grace_period  \\\n",
       "0                                                0   \n",
       "0                                                1   \n",
       "0                                                0   \n",
       "0                                                0   \n",
       "0                                                1   \n",
       "\n",
       "   cancellation_policy_super_strict_30  cancellation_policy_super_strict_60  \n",
       "0                                    0                                    0  \n",
       "0                                    0                                    0  \n",
       "0                                    0                                    0  \n",
       "0                                    0                                    0  \n",
       "0                                    0                                    0  \n",
       "\n",
       "[5 rows x 188 columns]"
      ]
     },
     "execution_count": 33,
     "metadata": {},
     "output_type": "execute_result"
    }
   ],
   "source": [
    "# drop non-numeric variables from df2 and add the dummies\n",
    "df3=df2.drop(non_num_vars,axis=1)\n",
    "df3 = pd.merge(df3,dummy_vars, left_index=True, right_index=True)\n",
    "df3.head()"
   ]
  },
  {
   "cell_type": "code",
   "execution_count": 34,
   "metadata": {
    "ExecuteTime": {
     "end_time": "2018-09-16T06:02:41.496380Z",
     "start_time": "2018-09-16T06:02:41.490700Z"
    }
   },
   "outputs": [
    {
     "data": {
      "text/plain": [
       "(31573, 188)"
      ]
     },
     "execution_count": 34,
     "metadata": {},
     "output_type": "execute_result"
    }
   ],
   "source": [
    "df3.shape"
   ]
  },
  {
   "cell_type": "code",
   "execution_count": 35,
   "metadata": {
    "ExecuteTime": {
     "end_time": "2018-09-16T06:02:41.535953Z",
     "start_time": "2018-09-16T06:02:41.499031Z"
    }
   },
   "outputs": [
    {
     "name": "stderr",
     "output_type": "stream",
     "text": [
      "/Users/xzhou/anaconda3/lib/python3.6/site-packages/ipykernel_launcher.py:10: UserWarning: Pandas doesn't allow columns to be created via a new attribute name - see https://pandas.pydata.org/pandas-docs/stable/indexing.html#attribute-access\n",
      "  # Remove the CWD from sys.path while we load stuff.\n",
      "/Users/xzhou/anaconda3/lib/python3.6/site-packages/ipykernel_launcher.py:12: UserWarning: Pandas doesn't allow columns to be created via a new attribute name - see https://pandas.pydata.org/pandas-docs/stable/indexing.html#attribute-access\n",
      "  if sys.path[0] == '':\n",
      "/Users/xzhou/anaconda3/lib/python3.6/site-packages/ipykernel_launcher.py:15: FutureWarning: Method .as_matrix will be removed in a future version. Use .values instead.\n",
      "  from ipykernel import kernelapp as app\n",
      "/Users/xzhou/anaconda3/lib/python3.6/site-packages/ipykernel_launcher.py:16: FutureWarning: Method .as_matrix will be removed in a future version. Use .values instead.\n",
      "  app.launch_new_instance()\n"
     ]
    }
   ],
   "source": [
    "# split into test and training data\n",
    "np.random.seed(1)\n",
    "indices = np.random.permutation(len(df4))\n",
    "train_size = int(round(0.8*len(df4)))\n",
    "test_size = len(df4)-train_size\n",
    "\n",
    "y = df4['price']\n",
    "x = df4.drop('price', axis =1)\n",
    "\n",
    "x.train = x.iloc[indices[0:train_size]]\n",
    "y.train = y.iloc[indices[0:train_size]]\n",
    "x.test = x.iloc[indices[train_size+1:]]\n",
    "y.test = y.iloc[indices[train_size+1:]]\n",
    "\n",
    "x2 = x.train.as_matrix()\n",
    "y2 = y.train.as_matrix()"
   ]
  },
  {
   "cell_type": "code",
   "execution_count": 36,
   "metadata": {
    "ExecuteTime": {
     "end_time": "2018-09-16T06:02:42.263546Z",
     "start_time": "2018-09-16T06:02:41.538876Z"
    }
   },
   "outputs": [
    {
     "name": "stdout",
     "output_type": "stream",
     "text": [
      "                            OLS Regression Results                            \n",
      "==============================================================================\n",
      "Dep. Variable:                      y   R-squared:                       0.651\n",
      "Model:                            OLS   Adj. R-squared:                  0.644\n",
      "Method:                 Least Squares   F-statistic:                     94.37\n",
      "Date:                Sat, 15 Sep 2018   Prob (F-statistic):               0.00\n",
      "Time:                        23:02:42   Log-Likelihood:                -50198.\n",
      "No. Observations:                9174   AIC:                         1.008e+05\n",
      "Df Residuals:                    8995   BIC:                         1.020e+05\n",
      "Df Model:                         178                                         \n",
      "Covariance Type:            nonrobust                                         \n",
      "==============================================================================\n",
      "                 coef    std err          t      P>|t|      [0.025      0.975]\n",
      "------------------------------------------------------------------------------\n",
      "x1             0.0632      0.061      1.037      0.300      -0.056       0.183\n",
      "x2             0.0079      0.007      1.051      0.293      -0.007       0.023\n",
      "x3            13.3753      0.656     20.394      0.000      12.090      14.661\n",
      "x4             7.2963      1.201      6.074      0.000       4.941       9.651\n",
      "x5            31.9143      1.233     25.884      0.000      29.497      34.331\n",
      "x6            -1.4626      0.951     -1.538      0.124      -3.326       0.401\n",
      "x7            -0.0727      0.012     -5.965      0.000      -0.097      -0.049\n",
      "x8             1.0222      0.095     10.726      0.000       0.835       1.209\n",
      "x9            -2.4927      0.378     -6.599      0.000      -3.233      -1.752\n",
      "x10            8.6467      1.399      6.181      0.000       5.904      11.389\n",
      "x11           -1.5656     20.540     -0.076      0.939     -41.829      38.698\n",
      "x12           52.6581      5.137     10.251      0.000      42.589      62.727\n",
      "x13           31.7745      4.723      6.728      0.000      22.516      41.033\n",
      "x14           34.6322     33.769      1.026      0.305     -31.563     100.827\n",
      "x15           36.6871      9.559      3.838      0.000      17.948      55.426\n",
      "x16          -27.8546     57.748     -0.482      0.630    -141.053      85.344\n",
      "x17           47.8866      4.904      9.765      0.000      38.274      57.499\n",
      "x18           53.9925      7.790      6.931      0.000      38.722      69.263\n",
      "x19           31.3993      4.707      6.670      0.000      22.172      40.627\n",
      "x20           35.4389      3.167     11.189      0.000      29.230      41.648\n",
      "x21           33.7315     14.031      2.404      0.016       6.227      61.236\n",
      "x22           -7.2424      4.495     -1.611      0.107     -16.054       1.569\n",
      "x23           51.2108      3.764     13.606      0.000      43.833      58.589\n",
      "x24           65.1124      5.136     12.678      0.000      55.045      75.180\n",
      "x25           -0.7157      5.623     -0.127      0.899     -11.739      10.307\n",
      "x26           50.2569      4.001     12.560      0.000      42.414      58.100\n",
      "x27           27.1253      5.233      5.184      0.000      16.868      37.382\n",
      "x28           24.7471      5.952      4.158      0.000      13.080      36.414\n",
      "x29           13.3314      4.720      2.825      0.005       4.080      22.583\n",
      "x30           80.6226      6.166     13.074      0.000      68.535      92.710\n",
      "x31           -3.9548      6.658     -0.594      0.553     -17.005       9.096\n",
      "x32           13.4936      6.854      1.969      0.049       0.058      26.929\n",
      "x33           37.5499      4.997      7.514      0.000      27.754      47.346\n",
      "x34          -16.5086      8.175     -2.020      0.043     -32.533      -0.485\n",
      "x35           59.1283      6.135      9.639      0.000      47.103      71.154\n",
      "x36           -7.7134      7.368     -1.047      0.295     -22.157       6.730\n",
      "x37           79.5999     18.524      4.297      0.000      43.289     115.911\n",
      "const       7.505e-14   1.24e-13      0.604      0.546   -1.69e-13    3.19e-13\n",
      "x38          -43.1865      7.830     -5.515      0.000     -58.535     -27.838\n",
      "x39          -40.5032      5.862     -6.910      0.000     -51.994     -29.013\n",
      "x40          -40.0375     14.603     -2.742      0.006     -68.662     -11.413\n",
      "x41          -34.9779      6.009     -5.821      0.000     -46.757     -23.199\n",
      "x42          -38.3643      6.347     -6.045      0.000     -50.805     -25.924\n",
      "x43          -19.0516      5.704     -3.340      0.001     -30.233      -7.870\n",
      "x44          -29.5954      4.997     -5.922      0.000     -39.391     -19.799\n",
      "x45          -32.0359      4.925     -6.505      0.000     -41.689     -22.382\n",
      "x46          -17.2801      5.216     -3.313      0.001     -27.506      -7.055\n",
      "x47          -24.5713      4.910     -5.004      0.000     -34.197     -14.946\n",
      "x48          -17.9428      8.870     -2.023      0.043     -35.330      -0.556\n",
      "x49           -9.4741      5.844     -1.621      0.105     -20.929       1.981\n",
      "x50          -33.3735      7.451     -4.479      0.000     -47.979     -18.768\n",
      "x51          -54.1243     17.550     -3.084      0.002     -88.526     -19.723\n",
      "x52          -83.3761     57.746     -1.444      0.149    -196.571      29.819\n",
      "x53            0.7713     57.742      0.013      0.989    -112.416     113.959\n",
      "x54           24.2685     28.937      0.839      0.402     -32.454      80.991\n",
      "x55          -36.9731     17.523     -2.110      0.035     -71.322      -2.624\n",
      "x56           12.3550     57.747      0.214      0.831    -100.842     125.551\n",
      "x57           12.3789      8.362      1.480      0.139      -4.012      28.769\n",
      "x58           19.7277     10.573      1.866      0.062      -0.998      40.454\n",
      "x59           56.7287     20.556      2.760      0.006      16.434      97.024\n",
      "x60          -13.1171     40.861     -0.321      0.748     -93.214      66.979\n",
      "x61            0.2696      5.353      0.050      0.960     -10.224      10.763\n",
      "x62            6.7059      5.451      1.230      0.219      -3.979      17.391\n",
      "x63            8.7104      4.754      1.832      0.067      -0.609      18.030\n",
      "x64          -21.5040      7.253     -2.965      0.003     -35.722      -7.286\n",
      "x65           -8.8887      6.007     -1.480      0.139     -20.664       2.887\n",
      "x66            4.1427      6.729      0.616      0.538      -9.047      17.332\n",
      "x67           -3.5212      8.067     -0.437      0.662     -19.334      12.291\n",
      "x68           34.6836      5.251      6.605      0.000      24.390      44.977\n",
      "x69           11.8602      7.460      1.590      0.112      -2.763      26.484\n",
      "x70           19.1371     33.385      0.573      0.567     -46.305      84.579\n",
      "x71         -138.6295     57.739     -2.401      0.016    -251.811     -25.448\n",
      "x72           26.0454      4.849      5.371      0.000      16.540      35.551\n",
      "x73          -24.7929     57.731     -0.429      0.668    -137.959      88.373\n",
      "x74           21.4321     21.932      0.977      0.328     -21.560      64.424\n",
      "x75           24.4993      5.243      4.673      0.000      14.223      34.776\n",
      "x76           -0.6787     12.865     -0.053      0.958     -25.897      24.540\n",
      "x77          -23.2135     10.407     -2.231      0.026     -43.613      -2.814\n",
      "x78          -22.3292     41.154     -0.543      0.587    -103.000      58.341\n",
      "x79          -17.4681      7.404     -2.359      0.018     -31.982      -2.954\n",
      "x80           32.9876     11.119      2.967      0.003      11.193      54.782\n",
      "x81           -5.1267      5.053     -1.015      0.310     -15.032       4.779\n",
      "x82           20.6749     20.592      1.004      0.315     -19.690      61.040\n",
      "x83          -16.8119     10.058     -1.672      0.095     -36.527       2.903\n",
      "x84          -47.7910     14.611     -3.271      0.001     -76.431     -19.151\n",
      "x85           -3.6413     41.275     -0.088      0.930     -84.551      77.268\n",
      "x86           37.8111     11.010      3.434      0.001      16.228      59.394\n",
      "x87           -6.0845     11.506     -0.529      0.597     -28.638      16.469\n",
      "x88           22.4968     57.727      0.390      0.697     -90.661     135.655\n",
      "x89           -4.9730     10.851     -0.458      0.647     -26.244      16.298\n",
      "x90          -28.4478      6.041     -4.709      0.000     -40.290     -16.606\n",
      "x91          -16.5389     10.023     -1.650      0.099     -36.185       3.108\n",
      "x92            1.8151     18.807      0.097      0.923     -35.052      38.682\n",
      "x93          -25.4119     28.926     -0.879      0.380     -82.114      31.290\n",
      "x94          -25.7189      8.663     -2.969      0.003     -42.700      -8.738\n",
      "x95          -27.6653      5.677     -4.873      0.000     -38.793     -16.538\n",
      "x96            5.2638      5.928      0.888      0.375      -6.355      16.883\n",
      "x97           19.2886      4.452      4.333      0.000      10.562      28.016\n",
      "x98           38.5240      4.462      8.634      0.000      29.777      47.271\n",
      "x99         -101.0415     57.781     -1.749      0.080    -214.305      12.222\n",
      "x100           6.8241     14.284      0.478      0.633     -21.176      34.825\n",
      "x101          -4.7686     12.176     -0.392      0.695     -28.637      19.100\n",
      "x102           3.5575     10.519      0.338      0.735     -17.061      24.176\n",
      "x103          15.8350      8.772      1.805      0.071      -1.360      33.030\n",
      "x104          49.5788      7.026      7.057      0.000      35.807      63.350\n",
      "x105         127.3491     58.272      2.185      0.029      13.124     241.575\n",
      "x106         -18.0905      8.421     -2.148      0.032     -34.597      -1.584\n",
      "x107         -25.6523     16.791     -1.528      0.127     -58.567       7.262\n",
      "x108         -12.9995      5.001     -2.599      0.009     -22.803      -3.196\n",
      "x109          64.5604     18.426      3.504      0.000      28.442     100.679\n",
      "x110         -28.5091     10.910     -2.613      0.009     -49.895      -7.123\n",
      "x111         -21.8291      8.667     -2.519      0.012     -38.818      -4.840\n",
      "x112         -21.7994     15.048     -1.449      0.147     -51.297       7.699\n",
      "x113         -36.5679     25.892     -1.412      0.158     -87.323      14.187\n",
      "x114          -4.2162     12.775     -0.330      0.741     -29.259      20.826\n",
      "x115         -47.6897     13.428     -3.551      0.000     -74.012     -21.367\n",
      "x116         -30.3039     12.931     -2.344      0.019     -55.651      -4.957\n",
      "x117         -36.8782      9.203     -4.007      0.000     -54.918     -18.839\n",
      "x118         -23.4162     10.126     -2.312      0.021     -43.265      -3.567\n",
      "x119         -16.7634      7.303     -2.296      0.022     -31.078      -2.449\n",
      "x120          -6.0634      6.799     -0.892      0.373     -19.392       7.265\n",
      "x121         -27.0814      9.149     -2.960      0.003     -45.016      -9.147\n",
      "x122          -8.6316      6.440     -1.340      0.180     -21.256       3.993\n",
      "x123         -27.0579      8.669     -3.121      0.002     -44.051     -10.065\n",
      "x124         -27.7764     13.070     -2.125      0.034     -53.396      -2.156\n",
      "x125         -29.2504      9.004     -3.249      0.001     -46.900     -11.600\n",
      "x126         -15.6486      7.802     -2.006      0.045     -30.943      -0.354\n",
      "x127         -26.1098     12.478     -2.093      0.036     -50.569      -1.651\n",
      "x128          22.8675      6.411      3.567      0.000      10.301      35.434\n",
      "x129         -20.6161     19.355     -1.065      0.287     -58.556      17.324\n",
      "x130         -28.5131      8.602     -3.315      0.001     -45.375     -11.651\n",
      "x131           1.2275     19.372      0.063      0.949     -36.745      39.200\n",
      "x132         -20.2600     28.926     -0.700      0.484     -76.961      36.441\n",
      "x133          71.7152     42.129      1.702      0.089     -10.867     154.298\n",
      "x134         -23.2462     11.299     -2.057      0.040     -45.394      -1.098\n",
      "x135          -1.8017     57.796     -0.031      0.975    -115.094     111.491\n",
      "x136         -38.0840     57.738     -0.660      0.510    -151.263      75.095\n",
      "x137          30.6322     58.855      0.520      0.603     -84.737     146.002\n",
      "x138          87.7837     18.795      4.671      0.000      50.941     124.627\n",
      "x139         -14.0125      4.644     -3.017      0.003     -23.116      -4.909\n",
      "x140           6.2791     28.983      0.217      0.828     -50.534      63.092\n",
      "x141          18.9900      9.537      1.991      0.046       0.296      37.684\n",
      "x142         -14.5172     24.080     -0.603      0.547     -61.720      32.685\n",
      "x143           0.1696      7.917      0.021      0.983     -15.349      15.688\n",
      "x144          -6.4138      6.674     -0.961      0.337     -19.497       6.669\n",
      "x145         -15.3436     40.821     -0.376      0.707     -95.362      64.675\n",
      "x146         -13.8868     10.618     -1.308      0.191     -34.700       6.926\n",
      "x147         -54.0415     12.064     -4.479      0.000     -77.691     -30.392\n",
      "x148        -108.2039     33.556     -3.225      0.001    -173.981     -42.427\n",
      "x149         -21.8610     56.953     -0.384      0.701    -133.503      89.781\n",
      "x150           4.7729     25.839      0.185      0.853     -45.877      55.423\n",
      "x151           7.1464      5.161      1.385      0.166      -2.971      17.264\n",
      "x152          -0.3099      8.670     -0.036      0.971     -17.305      16.686\n",
      "x153         -77.0993     40.801     -1.890      0.059    -157.078       2.879\n",
      "x154          -4.8369     25.926     -0.187      0.852     -55.658      45.984\n",
      "x155         -13.9489      5.047     -2.764      0.006     -23.843      -4.055\n",
      "x156          -9.4287      5.474     -1.722      0.085     -20.159       1.302\n",
      "x157         -41.9149     10.803     -3.880      0.000     -63.091     -20.739\n",
      "x158          13.3273      9.756      1.366      0.172      -5.798      32.452\n",
      "x159          -3.4375      4.644     -0.740      0.459     -12.541       5.666\n",
      "x160         -60.5626     56.954     -1.063      0.288    -172.205      51.080\n",
      "x161         -85.9693     60.706     -1.416      0.157    -204.967      33.028\n",
      "x162          19.6737      7.370      2.669      0.008       5.227      34.121\n",
      "x163          73.5744     41.023      1.793      0.073      -6.841     153.990\n",
      "x164          11.5485     11.858      0.974      0.330     -11.696      34.793\n",
      "x165         131.6334     17.966      7.327      0.000      96.416     166.851\n",
      "x166           4.1791      7.533      0.555      0.579     -10.588      18.946\n",
      "x167         -17.8458     33.429     -0.534      0.593     -83.375      47.683\n",
      "x168           2.7460     13.894      0.198      0.843     -24.490      29.982\n",
      "x169          -2.9459      5.453     -0.540      0.589     -13.635       7.743\n",
      "x170          43.1956     56.993      0.758      0.449     -68.523     154.914\n",
      "x171          53.0379     20.080      2.641      0.008      13.676      92.400\n",
      "x172           5.5406      9.599      0.577      0.564     -13.276      24.357\n",
      "x173         -33.3569     20.020     -1.666      0.096     -72.601       5.887\n",
      "x174           8.5860      9.816      0.875      0.382     -10.656      27.828\n",
      "x175         -42.4562      9.729     -4.364      0.000     -61.528     -23.384\n",
      "x176         -82.4683     10.444     -7.896      0.000    -102.941     -61.996\n",
      "x177         -31.5889      8.019     -3.939      0.000     -47.309     -15.869\n",
      "x178         -29.8060      7.997     -3.727      0.000     -45.483     -14.129\n",
      "x179         -64.6029     51.981     -1.243      0.214    -166.498      37.292\n",
      "x180         -27.8638      7.969     -3.496      0.000     -43.485     -12.242\n",
      "x181          -3.8681     10.451     -0.370      0.711     -24.355      16.619\n",
      "x182          41.3912     16.402      2.524      0.012       9.239      73.543\n",
      "==============================================================================\n",
      "Omnibus:                     1960.698   Durbin-Watson:                   2.018\n",
      "Prob(Omnibus):                  0.000   Jarque-Bera (JB):             8479.991\n",
      "Skew:                           0.988   Prob(JB):                         0.00\n",
      "Kurtosis:                       7.275   Cond. No.                     2.02e+18\n",
      "==============================================================================\n",
      "\n",
      "Warnings:\n",
      "[1] Standard Errors assume that the covariance matrix of the errors is correctly specified.\n",
      "[2] The smallest eigenvalue is 4.81e-29. This might indicate that there are\n",
      "strong multicollinearity problems or that the design matrix is singular.\n"
     ]
    }
   ],
   "source": [
    "import statsmodels.api as sm\n",
    "olsmod = sm.OLS(y2,x2)\n",
    "olsres = olsmod.fit()\n",
    "print(olsres.summary())"
   ]
  },
  {
   "cell_type": "code",
   "execution_count": 37,
   "metadata": {
    "ExecuteTime": {
     "end_time": "2018-09-16T06:02:42.290060Z",
     "start_time": "2018-09-16T06:02:42.267074Z"
    }
   },
   "outputs": [],
   "source": [
    "# different method\n",
    "from sklearn import linear_model\n",
    "from sklearn.model_selection import train_test_split\n",
    "X_train, X_test, y_train, y_test = train_test_split(x, y, test_size = 0.25, random_state=1)"
   ]
  },
  {
   "cell_type": "code",
   "execution_count": 38,
   "metadata": {
    "ExecuteTime": {
     "end_time": "2018-09-16T06:02:57.329269Z",
     "start_time": "2018-09-16T06:02:42.292567Z"
    }
   },
   "outputs": [
    {
     "name": "stdout",
     "output_type": "stream",
     "text": [
      "MSE train: 457.273, test: 3108.754\n",
      "R^2 train: 0.953, test: 0.669\n"
     ]
    }
   ],
   "source": [
    "from sklearn.ensemble import RandomForestRegressor\n",
    "forest = RandomForestRegressor(n_estimators=200, \n",
    "                               criterion='mse', \n",
    "                               random_state=3, \n",
    "                               n_jobs=-1)\n",
    "forest.fit(X_train, y_train)\n",
    "y_train_pred = forest.predict(X_train)\n",
    "y_test_pred = forest.predict(X_test)\n",
    "\n",
    "print('MSE train: %.3f, test: %.3f' % (\n",
    "        mean_squared_error(y_train, y_train_pred),\n",
    "        mean_squared_error(y_test, y_test_pred)))\n",
    "print('R^2 train: %.3f, test: %.3f' % (\n",
    "        r2_score(y_train, y_train_pred),\n",
    "        r2_score(y_test, y_test_pred)))"
   ]
  },
  {
   "cell_type": "code",
   "execution_count": null,
   "metadata": {},
   "outputs": [],
   "source": []
  },
  {
   "cell_type": "code",
   "execution_count": null,
   "metadata": {},
   "outputs": [],
   "source": []
  },
  {
   "cell_type": "code",
   "execution_count": 39,
   "metadata": {
    "ExecuteTime": {
     "end_time": "2018-09-16T06:02:57.358893Z",
     "start_time": "2018-09-16T06:02:57.332353Z"
    }
   },
   "outputs": [
    {
     "name": "stderr",
     "output_type": "stream",
     "text": [
      "/Users/xzhou/anaconda3/lib/python3.6/site-packages/ipykernel_launcher.py:10: UserWarning: Pandas doesn't allow columns to be created via a new attribute name - see https://pandas.pydata.org/pandas-docs/stable/indexing.html#attribute-access\n",
      "  # Remove the CWD from sys.path while we load stuff.\n",
      "/Users/xzhou/anaconda3/lib/python3.6/site-packages/ipykernel_launcher.py:12: UserWarning: Pandas doesn't allow columns to be created via a new attribute name - see https://pandas.pydata.org/pandas-docs/stable/indexing.html#attribute-access\n",
      "  if sys.path[0] == '':\n",
      "/Users/xzhou/anaconda3/lib/python3.6/site-packages/ipykernel_launcher.py:15: FutureWarning: Method .as_matrix will be removed in a future version. Use .values instead.\n",
      "  from ipykernel import kernelapp as app\n",
      "/Users/xzhou/anaconda3/lib/python3.6/site-packages/ipykernel_launcher.py:16: FutureWarning: Method .as_matrix will be removed in a future version. Use .values instead.\n",
      "  app.launch_new_instance()\n"
     ]
    }
   ],
   "source": [
    "# split into test and training data\n",
    "np.random.seed(1)\n",
    "indices = np.random.permutation(len(df5))\n",
    "train_size = int(round(0.8*len(df5)))\n",
    "test_size = len(df5)-train_size\n",
    "\n",
    "y = df5['price']\n",
    "x = df5.drop('price', axis =1)\n",
    "\n",
    "x.train = x.iloc[indices[0:train_size]]\n",
    "y.train = y.iloc[indices[0:train_size]]\n",
    "x.test = x.iloc[indices[train_size+1:]]\n",
    "y.test = y.iloc[indices[train_size+1:]]\n",
    "\n",
    "x2 = x.train.as_matrix()\n",
    "y2 = y.train.as_matrix()"
   ]
  },
  {
   "cell_type": "code",
   "execution_count": 40,
   "metadata": {
    "ExecuteTime": {
     "end_time": "2018-09-16T06:02:57.587724Z",
     "start_time": "2018-09-16T06:02:57.363216Z"
    }
   },
   "outputs": [
    {
     "name": "stderr",
     "output_type": "stream",
     "text": [
      "/Users/xzhou/anaconda3/lib/python3.6/site-packages/statsmodels/base/model.py:1100: RuntimeWarning: invalid value encountered in true_divide\n",
      "  return self.params / self.bse\n",
      "/Users/xzhou/anaconda3/lib/python3.6/site-packages/scipy/stats/_distn_infrastructure.py:879: RuntimeWarning: invalid value encountered in greater\n",
      "  return (self.a < x) & (x < self.b)\n",
      "/Users/xzhou/anaconda3/lib/python3.6/site-packages/scipy/stats/_distn_infrastructure.py:879: RuntimeWarning: invalid value encountered in less\n",
      "  return (self.a < x) & (x < self.b)\n",
      "/Users/xzhou/anaconda3/lib/python3.6/site-packages/scipy/stats/_distn_infrastructure.py:1821: RuntimeWarning: invalid value encountered in less_equal\n",
      "  cond2 = cond0 & (x <= self.a)\n"
     ]
    },
    {
     "name": "stdout",
     "output_type": "stream",
     "text": [
      "                            OLS Regression Results                            \n",
      "==============================================================================\n",
      "Dep. Variable:                      y   R-squared:                       0.583\n",
      "Model:                            OLS   Adj. R-squared:                  0.569\n",
      "Method:                 Least Squares   F-statistic:                     41.60\n",
      "Date:                Sat, 15 Sep 2018   Prob (F-statistic):               0.00\n",
      "Time:                        23:02:57   Log-Likelihood:                -28189.\n",
      "No. Observations:                5040   AIC:                         5.671e+04\n",
      "Df Residuals:                    4875   BIC:                         5.779e+04\n",
      "Df Model:                         164                                         \n",
      "Covariance Type:            nonrobust                                         \n",
      "==============================================================================\n",
      "                 coef    std err          t      P>|t|      [0.025      0.975]\n",
      "------------------------------------------------------------------------------\n",
      "x1            -0.0667      0.093     -0.720      0.472      -0.249       0.115\n",
      "x2             0.0039      0.009      0.432      0.665      -0.014       0.022\n",
      "x3            11.6890      0.906     12.901      0.000       9.913      13.465\n",
      "x4            37.2392      2.416     15.415      0.000      32.503      41.975\n",
      "x5            25.3775      1.717     14.778      0.000      22.011      28.744\n",
      "x6            -2.8459      1.262     -2.254      0.024      -5.321      -0.371\n",
      "x7            -0.0587      0.019     -3.047      0.002      -0.096      -0.021\n",
      "x8             1.2316      0.161      7.645      0.000       0.916       1.547\n",
      "x9            -2.6459      0.611     -4.331      0.000      -3.844      -1.448\n",
      "x10           11.6056      2.167      5.355      0.000       7.357      15.854\n",
      "x11           20.2221     46.465      0.435      0.663     -70.871     111.315\n",
      "x12           58.1603      7.707      7.546      0.000      43.051      73.269\n",
      "x13           47.8544      7.385      6.480      0.000      33.376      62.333\n",
      "x14          102.0333     65.700      1.553      0.120     -26.768     230.834\n",
      "x15           61.8048     12.943      4.775      0.000      36.431      87.178\n",
      "x16          -23.7086     65.635     -0.361      0.718    -152.382     104.965\n",
      "x17           52.3929      7.015      7.469      0.000      38.641      66.145\n",
      "x18           38.5489     13.256      2.908      0.004      12.562      64.536\n",
      "x19           43.9215      6.746      6.511      0.000      30.696      57.147\n",
      "x20           38.3590      4.373      8.771      0.000      29.785      46.933\n",
      "x21           41.5986     20.079      2.072      0.038       2.234      80.963\n",
      "x22           -3.4337      6.814     -0.504      0.614     -16.792       9.925\n",
      "x23           60.5483      5.195     11.655      0.000      50.363      70.733\n",
      "x24           70.9367      7.399      9.587      0.000      56.431      85.443\n",
      "x25            6.4055      9.173      0.698      0.485     -11.578      24.389\n",
      "x26           57.6524      5.865      9.829      0.000      46.153      69.151\n",
      "x27           41.5994      7.677      5.419      0.000      26.549      56.650\n",
      "x28           27.4800      8.601      3.195      0.001      10.618      44.342\n",
      "x29           15.2207      6.662      2.285      0.022       2.161      28.280\n",
      "x30           90.5344      9.460      9.571      0.000      71.989     109.079\n",
      "x31          -13.3413     11.252     -1.186      0.236     -35.400       8.717\n",
      "x32           13.1598     10.366      1.270      0.204      -7.162      33.482\n",
      "x33           42.3738      6.760      6.268      0.000      29.120      55.627\n",
      "x34          -27.5403     19.125     -1.440      0.150     -65.035       9.954\n",
      "x35           84.2396      8.653      9.735      0.000      67.275     101.204\n",
      "x36          -25.1985     10.516     -2.396      0.017     -45.814      -4.583\n",
      "x37           90.0377     22.630      3.979      0.000      45.673     134.402\n",
      "x38          121.6352     65.705      1.851      0.064      -7.177     250.448\n",
      "x39          -65.1066     14.943     -4.357      0.000     -94.401     -35.812\n",
      "x40          -46.9014      7.809     -6.006      0.000     -62.210     -31.593\n",
      "x41          -82.2585     38.062     -2.161      0.031    -156.876      -7.641\n",
      "x42          -43.3189      9.314     -4.651      0.000     -61.579     -25.059\n",
      "x43          -40.9262      9.555     -4.283      0.000     -59.658     -22.194\n",
      "x44          -36.7433     10.497     -3.500      0.000     -57.323     -16.164\n",
      "x45          -38.3351      7.463     -5.136      0.000     -52.967     -23.703\n",
      "x46          -35.9822      6.959     -5.170      0.000     -49.625     -22.339\n",
      "x47          -21.9747      7.141     -3.077      0.002     -35.974      -7.976\n",
      "x48          -24.4348      6.514     -3.751      0.000     -37.205     -11.665\n",
      "x49          -20.4880     12.155     -1.686      0.092     -44.318       3.342\n",
      "x50           -6.0794      7.790     -0.780      0.435     -21.351       9.193\n",
      "x51          -46.0502     10.737     -4.289      0.000     -67.100     -25.001\n",
      "x52          -70.6244     27.009     -2.615      0.009    -123.575     -17.674\n",
      "x53          -65.3153     65.651     -0.995      0.320    -194.021      63.390\n",
      "x54            1.6040     65.624      0.024      0.981    -127.049     130.257\n",
      "x55           14.1758     46.503      0.305      0.761     -76.991     105.343\n",
      "x56          -40.2868     20.910     -1.927      0.054     -81.280       0.706\n",
      "const       6.233e-14   9.54e-14      0.653      0.514   -1.25e-13    2.49e-13\n",
      "x57           33.1515     16.202      2.046      0.041       1.388      64.915\n",
      "x58           20.6461     16.148      1.279      0.201     -11.012      52.304\n",
      "x59           53.7439     25.010      2.149      0.032       4.712     102.775\n",
      "x60        -3.793e-13   1.28e-13     -2.972      0.003   -6.29e-13   -1.29e-13\n",
      "x61           14.9717      8.796      1.702      0.089      -2.272      32.216\n",
      "x62           25.5763      7.925      3.227      0.001      10.039      41.114\n",
      "x63           25.6557      7.363      3.484      0.000      11.221      40.090\n",
      "x64          -15.7234     14.269     -1.102      0.271     -43.697      12.250\n",
      "x65           -3.3236     10.814     -0.307      0.759     -24.523      17.876\n",
      "x66           10.4199     11.391      0.915      0.360     -11.912      32.752\n",
      "x67            1.0304     15.008      0.069      0.945     -28.393      30.453\n",
      "x68           45.5558      7.048      6.464      0.000      31.739      59.372\n",
      "x69           30.8196     10.998      2.802      0.005       9.259      52.380\n",
      "x70          -21.7704     46.481     -0.468      0.640    -112.895      69.354\n",
      "x71         -126.3104     65.633     -1.924      0.054    -254.981       2.360\n",
      "x72           25.7584      7.450      3.457      0.001      11.153      40.364\n",
      "x73        -9.058e-14   1.09e-13     -0.828      0.407   -3.05e-13    1.24e-13\n",
      "x74          -24.3882     32.623     -0.748      0.455     -88.343      39.567\n",
      "x75           19.1757      6.588      2.911      0.004       6.261      32.091\n",
      "x76          -13.4690     20.033     -0.672      0.501     -52.742      25.804\n",
      "x77          -19.7573     13.993     -1.412      0.158     -47.190       7.675\n",
      "x78           3.1e-13   9.38e-14      3.305      0.001    1.26e-13    4.94e-13\n",
      "x79          -16.4675     12.112     -1.360      0.174     -40.212       7.277\n",
      "x80           43.6570     11.736      3.720      0.000      20.650      66.664\n",
      "x81           -0.3131      8.256     -0.038      0.970     -16.499      15.872\n",
      "x82           -0.4490     27.021     -0.017      0.987     -53.423      52.524\n",
      "x83          -23.4583     13.238     -1.772      0.076     -49.411       2.495\n",
      "x84          -78.0967     33.011     -2.366      0.018    -142.813     -13.380\n",
      "x85           39.5826     66.265      0.597      0.550     -90.327     169.492\n",
      "x86           22.5587     15.747      1.433      0.152      -8.313      53.431\n",
      "x87            0.1748     22.019      0.008      0.994     -42.992      43.342\n",
      "x88         -1.33e-14   8.02e-14     -0.166      0.868   -1.71e-13    1.44e-13\n",
      "x89          -26.8569     14.202     -1.891      0.059     -54.700       0.986\n",
      "x90          -63.9272     13.879     -4.606      0.000     -91.136     -36.719\n",
      "x91          -14.0518     20.220     -0.695      0.487     -53.692      25.588\n",
      "x92            0.4543     25.103      0.018      0.986     -48.759      49.668\n",
      "x93          -20.1417     65.696     -0.307      0.759    -148.935     108.652\n",
      "x94          -31.5678     13.166     -2.398      0.017     -57.378      -5.757\n",
      "x95          -28.0748      8.846     -3.174      0.002     -45.416     -10.733\n",
      "x96           -0.4879     11.309     -0.043      0.966     -22.659      21.683\n",
      "x97           24.9563      6.222      4.011      0.000      12.759      37.153\n",
      "x98           42.7119      5.697      7.497      0.000      31.543      53.880\n",
      "x99          -98.4357     65.695     -1.498      0.134    -227.228      30.357\n",
      "x100          13.3802     28.598      0.468      0.640     -42.684      69.445\n",
      "x101          -4.6389     19.439     -0.239      0.811     -42.748      33.470\n",
      "x102           0.5640     16.832      0.034      0.973     -32.434      33.562\n",
      "x103          10.5306     12.612      0.835      0.404     -14.195      35.257\n",
      "x104          71.0613      8.758      8.114      0.000      53.892      88.231\n",
      "x105         120.7747     66.310      1.821      0.069      -9.223     250.773\n",
      "x106         -33.5254     13.169     -2.546      0.011     -59.343      -7.708\n",
      "x107         -49.7059     29.494     -1.685      0.092    -107.528       8.116\n",
      "x108         -15.7891      7.582     -2.082      0.037     -30.653      -0.925\n",
      "x109          60.7193     20.985      2.893      0.004      19.579     101.860\n",
      "x110         -35.3104     20.048     -1.761      0.078     -74.613       3.992\n",
      "x111         -21.0315     22.035     -0.954      0.340     -64.231      22.168\n",
      "x112         -66.9128     37.960     -1.763      0.078    -141.332       7.507\n",
      "x113       -1.416e-15   8.88e-14     -0.016      0.987   -1.76e-13    1.73e-13\n",
      "x114         -29.0618     27.007     -1.076      0.282     -82.007      23.884\n",
      "x115         -77.6842     24.993     -3.108      0.002    -126.682     -28.686\n",
      "x116         -38.9810     32.941     -1.183      0.237    -103.560      25.598\n",
      "x117         -57.4261     21.087     -2.723      0.006     -98.765     -16.087\n",
      "x118           5.7671     20.963      0.275      0.783     -35.330      46.864\n",
      "x119         -18.6825     12.512     -1.493      0.135     -43.211       5.846\n",
      "x120          -2.8280     11.536     -0.245      0.806     -25.443      19.787\n",
      "x121         -36.3127     15.727     -2.309      0.021     -67.144      -5.481\n",
      "x122          -4.5675     10.559     -0.433      0.665     -25.268      16.133\n",
      "x123         -34.7582     15.689     -2.215      0.027     -65.515      -4.001\n",
      "x124         -51.8351     32.964     -1.572      0.116    -116.460      12.790\n",
      "x125         -45.7717     15.518     -2.950      0.003     -76.193     -15.350\n",
      "x126         -22.8062     20.908     -1.091      0.275     -63.796      18.183\n",
      "x127         -46.5628     19.981     -2.330      0.020     -85.735      -7.391\n",
      "x128          21.8834      8.564      2.555      0.011       5.094      38.673\n",
      "x129         -46.2912     46.486     -0.996      0.319    -137.425      44.842\n",
      "x130         -48.7725     19.171     -2.544      0.011     -86.356     -11.189\n",
      "x131           1.4793     29.503      0.050      0.960     -56.361      59.319\n",
      "x132        9.386e-14   4.43e-14      2.119      0.034    7.02e-15    1.81e-13\n",
      "x133          86.2412     48.422      1.781      0.075      -8.688     181.171\n",
      "x134          13.8085     32.982      0.419      0.675     -50.852      78.469\n",
      "x135       -7.322e-14   5.73e-14     -1.277      0.202   -1.86e-13    3.92e-14\n",
      "x136       -3.321e-14   4.37e-14     -0.761      0.447   -1.19e-13    5.24e-14\n",
      "x137          38.5076     66.902      0.576      0.565     -92.650     169.666\n",
      "x138        2.778e-14   4.17e-14      0.666      0.505    -5.4e-14     1.1e-13\n",
      "x139          -5.7785      7.042     -0.821      0.412     -19.584       8.027\n",
      "x140         -39.2323     64.771     -0.606      0.545    -166.212      87.748\n",
      "x141         -72.6580     64.729     -1.122      0.262    -199.557      54.241\n",
      "x142          -7.6187     28.101     -0.271      0.786     -62.710      47.472\n",
      "x143         -31.3458     22.114     -1.417      0.156     -74.700      12.008\n",
      "x144           2.2429     10.069      0.223      0.824     -17.496      21.982\n",
      "x145          23.4734     65.843      0.357      0.721    -105.608     152.554\n",
      "x146           1.5011     13.334      0.113      0.910     -24.639      27.641\n",
      "x147         -36.4673     14.449     -2.524      0.012     -64.794      -8.140\n",
      "x148         -80.4643     30.393     -2.647      0.008    -140.049     -20.879\n",
      "x149        4.674e-14   3.92e-14      1.191      0.234   -3.02e-14    1.24e-13\n",
      "x150          20.6445     37.907      0.545      0.586     -53.669      94.958\n",
      "x151          14.4328      7.752      1.862      0.063      -0.765      29.631\n",
      "x152          14.8155     11.244      1.318      0.188      -7.228      36.859\n",
      "x153          93.3895     66.753      1.399      0.162     -37.476     224.255\n",
      "x154          -3.9183     30.126     -0.130      0.897     -62.979      55.143\n",
      "x155          -6.2241      7.409     -0.840      0.401     -20.749       8.301\n",
      "x156           2.4162      7.756      0.312      0.755     -12.789      17.621\n",
      "x157         -59.1811     64.827     -0.913      0.361    -186.271      67.909\n",
      "x158          62.0889     64.810      0.958      0.338     -64.968     189.146\n",
      "x159          11.2879      7.214      1.565      0.118      -2.855      25.431\n",
      "x160         -63.4345     64.879     -0.978      0.328    -190.626      63.757\n",
      "x161         -24.3882     32.623     -0.748      0.455     -88.343      39.567\n",
      "x162          26.3861     10.374      2.543      0.011       6.048      46.724\n",
      "x163       -6.657e-15   5.35e-15     -1.243      0.214   -1.72e-14    3.84e-15\n",
      "x164          16.1725     20.650      0.783      0.434     -24.311      56.656\n",
      "x165          19.6192     46.375      0.423      0.672     -71.296     110.534\n",
      "x166           5.8284      9.987      0.584      0.560     -13.751      25.408\n",
      "x167         -30.5651     48.054     -0.636      0.525    -124.772      63.641\n",
      "x168          12.4426     17.674      0.704      0.481     -22.207      47.092\n",
      "x169          -9.5554      8.930     -1.070      0.285     -27.062       7.951\n",
      "x170          52.4895     64.988      0.808      0.419     -74.916     179.895\n",
      "x171          47.3126     26.685      1.773      0.076      -5.003      99.628\n",
      "x172          28.7091     22.831      1.257      0.209     -16.050      73.468\n",
      "x173         -10.9790     30.418     -0.361      0.718     -70.612      48.654\n",
      "x174         -26.5576     17.469     -1.520      0.129     -60.805       7.690\n",
      "x175                0          0        nan        nan           0           0\n",
      "x176                0          0        nan        nan           0           0\n",
      "x177         -40.3559      8.234     -4.901      0.000     -56.498     -24.214\n",
      "x178         -32.7856      8.035     -4.081      0.000     -48.537     -17.034\n",
      "x179          48.2964     40.857      1.182      0.237     -31.802     128.395\n",
      "x180         -33.3256      7.983     -4.174      0.000     -48.977     -17.675\n",
      "x181         -19.9104     10.976     -1.814      0.070     -41.428       1.608\n",
      "x182          51.5235     17.621      2.924      0.003      16.979      86.068\n",
      "==============================================================================\n",
      "Omnibus:                      471.283   Durbin-Watson:                   2.008\n",
      "Prob(Omnibus):                  0.000   Jarque-Bera (JB):             1558.588\n",
      "Skew:                           0.462   Prob(JB):                         0.00\n",
      "Kurtosis:                       5.563   Cond. No.                     2.77e+18\n",
      "==============================================================================\n",
      "\n",
      "Warnings:\n",
      "[1] Standard Errors assume that the covariance matrix of the errors is correctly specified.\n",
      "[2] The smallest eigenvalue is 1.43e-29. This might indicate that there are\n",
      "strong multicollinearity problems or that the design matrix is singular.\n"
     ]
    }
   ],
   "source": [
    "import statsmodels.api as sm\n",
    "olsmod = sm.OLS(y2,x2)\n",
    "olsres = olsmod.fit()\n",
    "print(olsres.summary())"
   ]
  },
  {
   "cell_type": "code",
   "execution_count": 41,
   "metadata": {
    "ExecuteTime": {
     "end_time": "2018-09-16T06:02:57.604375Z",
     "start_time": "2018-09-16T06:02:57.591353Z"
    }
   },
   "outputs": [],
   "source": [
    "# different method\n",
    "from sklearn import linear_model\n",
    "from sklearn.model_selection import train_test_split\n",
    "X_train, X_test, y_train, y_test = train_test_split(x, y, test_size = 0.25, random_state=1)"
   ]
  },
  {
   "cell_type": "code",
   "execution_count": 42,
   "metadata": {
    "ExecuteTime": {
     "end_time": "2018-09-16T06:03:03.206234Z",
     "start_time": "2018-09-16T06:02:57.607531Z"
    }
   },
   "outputs": [
    {
     "name": "stdout",
     "output_type": "stream",
     "text": [
      "MSE train: 638.123, test: 4859.705\n",
      "R^2 train: 0.936, test: 0.529\n"
     ]
    }
   ],
   "source": [
    "from sklearn.ensemble import RandomForestRegressor\n",
    "forest = RandomForestRegressor(n_estimators=200, \n",
    "                               criterion='mse', \n",
    "                               random_state=3, \n",
    "                               n_jobs=-1)\n",
    "forest.fit(X_train, y_train)\n",
    "y_train_pred = forest.predict(X_train)\n",
    "y_test_pred = forest.predict(X_test)\n",
    "\n",
    "print('MSE train: %.3f, test: %.3f' % (\n",
    "        mean_squared_error(y_train, y_train_pred),\n",
    "        mean_squared_error(y_test, y_test_pred)))\n",
    "print('R^2 train: %.3f, test: %.3f' % (\n",
    "        r2_score(y_train, y_train_pred),\n",
    "        r2_score(y_test, y_test_pred)))"
   ]
  },
  {
   "cell_type": "code",
   "execution_count": null,
   "metadata": {},
   "outputs": [],
   "source": []
  },
  {
   "cell_type": "code",
   "execution_count": null,
   "metadata": {},
   "outputs": [],
   "source": []
  },
  {
   "cell_type": "code",
   "execution_count": 43,
   "metadata": {
    "ExecuteTime": {
     "end_time": "2018-09-16T06:03:03.227847Z",
     "start_time": "2018-09-16T06:03:03.209436Z"
    }
   },
   "outputs": [
    {
     "name": "stderr",
     "output_type": "stream",
     "text": [
      "/Users/xzhou/anaconda3/lib/python3.6/site-packages/ipykernel_launcher.py:10: UserWarning: Pandas doesn't allow columns to be created via a new attribute name - see https://pandas.pydata.org/pandas-docs/stable/indexing.html#attribute-access\n",
      "  # Remove the CWD from sys.path while we load stuff.\n",
      "/Users/xzhou/anaconda3/lib/python3.6/site-packages/ipykernel_launcher.py:12: UserWarning: Pandas doesn't allow columns to be created via a new attribute name - see https://pandas.pydata.org/pandas-docs/stable/indexing.html#attribute-access\n",
      "  if sys.path[0] == '':\n",
      "/Users/xzhou/anaconda3/lib/python3.6/site-packages/ipykernel_launcher.py:15: FutureWarning: Method .as_matrix will be removed in a future version. Use .values instead.\n",
      "  from ipykernel import kernelapp as app\n",
      "/Users/xzhou/anaconda3/lib/python3.6/site-packages/ipykernel_launcher.py:16: FutureWarning: Method .as_matrix will be removed in a future version. Use .values instead.\n",
      "  app.launch_new_instance()\n"
     ]
    }
   ],
   "source": [
    "# split into test and training data\n",
    "np.random.seed(1)\n",
    "indices = np.random.permutation(len(df6))\n",
    "train_size = int(round(0.8*len(df6)))\n",
    "test_size = len(df6)-train_size\n",
    "\n",
    "y = df6['price']\n",
    "x = df6.drop('price', axis =1)\n",
    "\n",
    "x.train = x.iloc[indices[0:train_size]]\n",
    "y.train = y.iloc[indices[0:train_size]]\n",
    "x.test = x.iloc[indices[train_size+1:]]\n",
    "y.test = y.iloc[indices[train_size+1:]]\n",
    "\n",
    "x2 = x.train.as_matrix()\n",
    "y2 = y.train.as_matrix()"
   ]
  },
  {
   "cell_type": "code",
   "execution_count": 44,
   "metadata": {
    "ExecuteTime": {
     "end_time": "2018-09-16T06:03:03.390274Z",
     "start_time": "2018-09-16T06:03:03.230597Z"
    }
   },
   "outputs": [
    {
     "name": "stdout",
     "output_type": "stream",
     "text": [
      "                            OLS Regression Results                            \n",
      "==============================================================================\n",
      "Dep. Variable:                      y   R-squared:                       0.455\n",
      "Model:                            OLS   Adj. R-squared:                  0.433\n",
      "Method:                 Least Squares   F-statistic:                     21.13\n",
      "Date:                Sat, 15 Sep 2018   Prob (F-statistic):               0.00\n",
      "Time:                        23:03:03   Log-Likelihood:                -20298.\n",
      "No. Observations:                3954   AIC:                         4.090e+04\n",
      "Df Residuals:                    3803   BIC:                         4.185e+04\n",
      "Df Model:                         150                                         \n",
      "Covariance Type:            nonrobust                                         \n",
      "==============================================================================\n",
      "                 coef    std err          t      P>|t|      [0.025      0.975]\n",
      "------------------------------------------------------------------------------\n",
      "x1             0.2443      0.073      3.367      0.001       0.102       0.387\n",
      "x2            -0.1713      0.067     -2.560      0.011      -0.303      -0.040\n",
      "x3            14.6719      0.995     14.744      0.000      12.721      16.623\n",
      "x4            -5.7172      1.229     -4.653      0.000      -8.126      -3.308\n",
      "x5            23.5701      2.282     10.327      0.000      19.095      28.045\n",
      "x6             5.6375      1.723      3.273      0.001       2.260       9.015\n",
      "x7            -0.0644      0.013     -5.022      0.000      -0.090      -0.039\n",
      "x8             0.8287      0.112      7.395      0.000       0.609       1.048\n",
      "x9            -2.4200      0.401     -6.033      0.000      -3.207      -1.634\n",
      "x10            5.7925      1.549      3.739      0.000       2.755       8.830\n",
      "x11            3.5481     20.926      0.170      0.865     -37.478      44.574\n",
      "x12           43.7615      6.327      6.917      0.000      31.358      56.165\n",
      "x13           35.2021      5.010      7.027      0.000      25.380      45.024\n",
      "const      -2.184e-14   9.26e-14     -0.236      0.814   -2.03e-13     1.6e-13\n",
      "x14           22.9232     15.124      1.516      0.130      -6.729      52.576\n",
      "x15        -1.985e-13   5.35e-14     -3.709      0.000   -3.03e-13   -9.36e-14\n",
      "x16           46.5327      5.427      8.575      0.000      35.893      57.172\n",
      "x17           85.0675      8.637      9.850      0.000      68.135     102.001\n",
      "x18           27.6098      5.137      5.375      0.000      17.538      37.681\n",
      "x19           27.1169      3.316      8.178      0.000      20.616      33.618\n",
      "x20          103.1340     41.601      2.479      0.013      21.572     184.696\n",
      "x21           -3.8004      4.387     -0.866      0.386     -12.401       4.800\n",
      "x22           41.0312      4.129      9.936      0.000      32.935      49.127\n",
      "x23           63.9521      5.528     11.569      0.000      53.114      74.790\n",
      "x24           -0.2783      5.659     -0.049      0.961     -11.373      10.816\n",
      "x25           40.7933      4.305      9.475      0.000      32.352      49.235\n",
      "x26           12.4136      5.694      2.180      0.029       1.249      23.578\n",
      "x27           26.5915      6.780      3.922      0.000      13.299      39.885\n",
      "x28           12.1581      5.113      2.378      0.017       2.134      22.182\n",
      "x29           40.5358      7.201      5.629      0.000      26.417      54.655\n",
      "x30           -2.9459      6.232     -0.473      0.636     -15.164       9.272\n",
      "x31           16.7528      7.436      2.253      0.024       2.174      31.332\n",
      "x32           33.7622      5.997      5.630      0.000      22.004      45.520\n",
      "x33          -14.8930      7.890     -1.888      0.059     -30.363       0.576\n",
      "x34           44.3152      6.949      6.377      0.000      30.690      57.940\n",
      "x35           12.1844      7.233      1.684      0.092      -1.997      26.366\n",
      "x36           58.5534     24.106      2.429      0.015      11.292     105.815\n",
      "x37        -3.815e-14   6.57e-14     -0.581      0.561   -1.67e-13    9.06e-14\n",
      "x38          -28.0902      8.865     -3.169      0.002     -45.471     -10.709\n",
      "x39          -24.8495      8.310     -2.990      0.003     -41.141      -8.558\n",
      "x40          -30.8784     12.192     -2.533      0.011     -54.782      -6.975\n",
      "x41          -27.4301      6.228     -4.404      0.000     -39.641     -15.219\n",
      "x42          -24.6725      6.785     -3.637      0.000     -37.974     -11.371\n",
      "x43          -13.7454      5.375     -2.557      0.011     -24.284      -3.207\n",
      "x44          -17.5464      5.075     -3.457      0.001     -27.497      -7.595\n",
      "x45          -25.8447      6.324     -4.087      0.000     -38.243     -13.446\n",
      "x46          -14.3667      5.846     -2.458      0.014     -25.828      -2.906\n",
      "x47           -6.6215      6.365     -1.040      0.298     -19.101       5.858\n",
      "x48          -10.4783      9.931     -1.055      0.291     -29.948       8.991\n",
      "x49           -3.9126      7.766     -0.504      0.614     -19.139      11.314\n",
      "x50          -13.5567      8.302     -1.633      0.103     -29.834       2.720\n",
      "x51          -27.1824     18.652     -1.457      0.145     -63.752       9.387\n",
      "x52         8.638e-15   5.11e-14      0.169      0.866   -9.16e-14    1.09e-13\n",
      "x53         1.108e-13    5.9e-14      1.877      0.061   -4.94e-15    2.27e-13\n",
      "x54         2.181e-14   6.17e-14      0.353      0.724   -9.92e-14    1.43e-13\n",
      "x55           -3.0048     24.029     -0.125      0.900     -50.116      44.107\n",
      "x56            4.2274     41.569      0.102      0.919     -77.273      85.727\n",
      "x57           18.6313      7.527      2.475      0.013       3.873      33.390\n",
      "x58           -6.0478     11.237     -0.538      0.590     -28.079      15.983\n",
      "x59         8.592e-15   8.91e-14      0.096      0.923   -1.66e-13    1.83e-13\n",
      "x60          -32.9482     41.545     -0.793      0.428    -114.401      48.505\n",
      "x61           -0.5110      5.078     -0.101      0.920     -10.466       9.444\n",
      "x62            5.3905      5.683      0.948      0.343      -5.752      16.533\n",
      "x63           12.5140      5.108      2.450      0.014       2.499      22.529\n",
      "x64          -17.4960      6.692     -2.615      0.009     -30.615      -4.377\n",
      "x65           -8.9883      5.205     -1.727      0.084     -19.192       1.216\n",
      "x66          -12.3788      6.481     -1.910      0.056     -25.085       0.327\n",
      "x67          -12.7171      7.904     -1.609      0.108     -28.213       2.779\n",
      "x68           22.8249      6.871      3.322      0.001       9.353      36.297\n",
      "x69           12.1840      7.649      1.593      0.111      -2.813      27.181\n",
      "x70           96.6264     41.574      2.324      0.020      15.116     178.136\n",
      "x71        -6.467e-14   3.97e-14     -1.631      0.103   -1.42e-13    1.31e-14\n",
      "x72           27.1134      5.031      5.390      0.000      17.251      36.976\n",
      "x73         9.716e-14   7.14e-14      1.360      0.174   -4.29e-14    2.37e-13\n",
      "x74            7.4903     13.972      0.536      0.592     -19.903      34.884\n",
      "x75           17.2377      7.552      2.282      0.023       2.430      32.045\n",
      "x76           36.9713     13.478      2.743      0.006      10.546      63.396\n",
      "x77            8.8844     19.691      0.451      0.652     -29.722      47.491\n",
      "x78           16.2939     41.669      0.391      0.696     -65.401      97.989\n",
      "x79          -13.6177      7.887     -1.727      0.084     -29.080       1.845\n",
      "x80           -3.8294     29.440     -0.130      0.897     -61.550      53.891\n",
      "x81          -10.7128      4.811     -2.227      0.026     -20.146      -1.279\n",
      "x82            3.2511     41.813      0.078      0.938     -78.727      85.229\n",
      "x83            0.8244     15.556      0.053      0.958     -29.675      31.324\n",
      "x84          -78.8511     16.076     -4.905      0.000    -110.370     -47.332\n",
      "x85        -1.248e-13   6.24e-14     -2.000      0.046   -2.47e-13   -2.45e-15\n",
      "x86           40.6064     17.407      2.333      0.020       6.479      74.734\n",
      "x87          -18.1290     10.210     -1.776      0.076     -38.147       1.889\n",
      "x88        -1.582e-14   7.05e-14     -0.224      0.822   -1.54e-13    1.22e-13\n",
      "x89           62.3811     17.490      3.567      0.000      28.090      96.672\n",
      "x90          -22.8536      5.068     -4.509      0.000     -32.790     -12.917\n",
      "x91          -13.7910      8.848     -1.559      0.119     -31.139       3.557\n",
      "x92          -22.8613     41.546     -0.550      0.582    -104.316      58.594\n",
      "x93          -36.6428     20.821     -1.760      0.079     -77.464       4.178\n",
      "x94          -18.1434      8.318     -2.181      0.029     -34.452      -1.835\n",
      "x95          -16.3010      5.436     -2.999      0.003     -26.958      -5.644\n",
      "x96            5.6617      6.196      0.914      0.361      -6.487      17.810\n",
      "x97           14.1171      5.066      2.786      0.005       4.184      24.050\n",
      "x98           11.8786      7.093      1.675      0.094      -2.028      25.785\n",
      "x99        -3.054e-14   3.59e-14     -0.852      0.394   -1.01e-13    3.98e-14\n",
      "x100          -9.2421     17.024     -0.543      0.587     -42.620      24.136\n",
      "x101         -24.9757     12.455     -2.005      0.045     -49.396      -0.556\n",
      "x102           0.8623     10.603      0.081      0.935     -19.926      21.651\n",
      "x103           7.4464     11.092      0.671      0.502     -14.301      29.194\n",
      "x104           3.9094     14.776      0.265      0.791     -25.059      32.878\n",
      "x105       -1.331e-14   3.64e-14     -0.366      0.715   -8.47e-14    5.81e-14\n",
      "x106          -9.0517      8.835     -1.025      0.306     -26.374       8.270\n",
      "x107         -19.0878     15.819     -1.207      0.228     -50.103      11.927\n",
      "x108          -2.6066      5.075     -0.514      0.608     -12.556       7.343\n",
      "x109         -26.0204     41.592     -0.626      0.532    -107.566      55.525\n",
      "x110         -22.5700     11.651     -1.937      0.053     -45.412       0.272\n",
      "x111         -22.1744      6.843     -3.240      0.001     -35.591      -8.758\n",
      "x112          -8.3272     12.624     -0.660      0.510     -33.078      16.423\n",
      "x113         -29.2926     24.024     -1.219      0.223     -76.394      17.808\n",
      "x114          -8.8157     12.164     -0.725      0.469     -32.665      15.034\n",
      "x115         -44.6974     10.308     -4.336      0.000     -64.907     -24.488\n",
      "x116         -19.0521     10.851     -1.756      0.079     -40.327       2.223\n",
      "x117         -25.0369      8.175     -3.062      0.002     -41.065      -9.008\n",
      "x118         -24.3461      8.347     -2.917      0.004     -40.711      -7.982\n",
      "x119          -7.6196      7.764     -0.981      0.326     -22.841       7.602\n",
      "x120          -6.2017      6.356     -0.976      0.329     -18.664       6.260\n",
      "x121         -20.3914      9.244     -2.206      0.027     -38.516      -2.267\n",
      "x122         -15.2350      6.200     -2.457      0.014     -27.390      -3.080\n",
      "x123         -17.2464      8.464     -2.038      0.042     -33.841      -0.652\n",
      "x124         -16.4293     12.152     -1.352      0.176     -40.254       7.396\n",
      "x125         -15.8990      7.939     -2.003      0.045     -31.463      -0.334\n",
      "x126         -14.2713      6.224     -2.293      0.022     -26.474      -2.069\n",
      "x127         -21.8637     10.211     -2.141      0.032     -41.882      -1.845\n",
      "x128          -2.4476      8.516     -0.287      0.774     -19.145      14.250\n",
      "x129         -17.9296     13.253     -1.353      0.176     -43.914       8.054\n",
      "x130         -17.9638      6.807     -2.639      0.008     -31.309      -4.618\n",
      "x131         -48.2432     29.405     -1.641      0.101    -105.895       9.409\n",
      "x132         -16.3339     18.635     -0.877      0.381     -52.869      20.201\n",
      "x133       -3.317e-14    3.9e-14     -0.849      0.396    -1.1e-13    4.34e-14\n",
      "x134         -32.8273      8.821     -3.721      0.000     -50.122     -15.532\n",
      "x135          -1.1448     41.685     -0.027      0.978     -82.871      80.582\n",
      "x136         -37.2862     41.568     -0.897      0.370    -118.784      44.212\n",
      "x137       -6.489e-15   3.97e-14     -0.163      0.870   -8.44e-14    7.14e-14\n",
      "x138          62.5254     13.453      4.648      0.000      36.151      88.900\n",
      "x139         -25.5112      4.383     -5.821      0.000     -34.104     -16.918\n",
      "x140          14.6189     24.671      0.593      0.554     -33.751      62.989\n",
      "x141          -5.5395      7.316     -0.757      0.449     -19.883       8.804\n",
      "x142        1.457e-14    2.2e-14      0.663      0.508   -2.85e-14    5.77e-14\n",
      "x143         -10.4000      7.801     -1.333      0.183     -25.695       4.895\n",
      "x144         -30.1946      6.599     -4.575      0.000     -43.133     -17.256\n",
      "x145       -1.437e-14   1.39e-14     -1.036      0.300   -4.15e-14    1.28e-14\n",
      "x146         -40.3402     21.349     -1.890      0.059     -82.196       1.516\n",
      "x147         8.08e-15   7.19e-15      1.124      0.261   -6.01e-15    2.22e-14\n",
      "x148        1.098e-14   9.76e-15      1.125      0.261   -8.16e-15    3.01e-14\n",
      "x149       -5.979e-15   1.02e-14     -0.587      0.557   -2.59e-14     1.4e-14\n",
      "x150         -25.3215     24.004     -1.055      0.292     -72.384      21.741\n",
      "x151         -14.8510      5.104     -2.910      0.004     -24.858      -4.844\n",
      "x152         -10.7013     15.915     -0.672      0.501     -41.904      20.502\n",
      "x153                0          0        nan        nan           0           0\n",
      "x154          97.2158     40.755      2.385      0.017      17.312     177.120\n",
      "x155         -13.3455      5.644     -2.365      0.018     -24.410      -2.281\n",
      "x156         -23.4204      9.120     -2.568      0.010     -41.300      -5.540\n",
      "x157         -34.4139      9.789     -3.516      0.000     -53.606     -15.222\n",
      "x158          12.9992      8.543      1.522      0.128      -3.750      29.749\n",
      "x159         -23.0542      4.186     -5.507      0.000     -31.262     -14.847\n",
      "x160                0          0        nan        nan           0           0\n",
      "x161                0          0        nan        nan           0           0\n",
      "x162          -0.4204     10.533     -0.040      0.968     -21.072      20.231\n",
      "x163          24.0586     31.216      0.771      0.441     -37.143      85.260\n",
      "x164          12.4725     11.922      1.046      0.296     -10.901      35.846\n",
      "x165         122.6888     13.735      8.932      0.000      95.759     149.618\n",
      "x166           8.4103     21.111      0.398      0.690     -32.980      49.801\n",
      "x167         -43.1371     29.789     -1.448      0.148    -101.542      15.267\n",
      "x168          13.3672     41.186      0.325      0.746     -67.382      94.117\n",
      "x169         -18.2656      4.957     -3.685      0.000     -27.985      -8.547\n",
      "x170                0          0        nan        nan           0           0\n",
      "x171                0          0        nan        nan           0           0\n",
      "x172         -27.3780      7.993     -3.425      0.001     -43.049     -11.707\n",
      "x173         -32.3432     43.801     -0.738      0.460    -118.219      53.532\n",
      "x174                0          0        nan        nan           0           0\n",
      "x175         -10.2810     13.478     -0.763      0.446     -36.707      16.145\n",
      "x176                0          0        nan        nan           0           0\n",
      "x177         -29.8967      8.963     -3.335      0.001     -47.470     -12.323\n",
      "x178         -29.8234      8.958     -3.329      0.001     -47.387     -12.260\n",
      "x179                0          0        nan        nan           0           0\n",
      "x180         -27.8785      8.921     -3.125      0.002     -45.369     -10.388\n",
      "x181          77.3176     34.112      2.267      0.023      10.439     144.196\n",
      "x182                0          0        nan        nan           0           0\n",
      "==============================================================================\n",
      "Omnibus:                     2526.322   Durbin-Watson:                   1.991\n",
      "Prob(Omnibus):                  0.000   Jarque-Bera (JB):            54986.465\n",
      "Skew:                           2.680   Prob(JB):                         0.00\n",
      "Kurtosis:                      20.465   Cond. No.                     2.40e+17\n",
      "==============================================================================\n",
      "\n",
      "Warnings:\n",
      "[1] Standard Errors assume that the covariance matrix of the errors is correctly specified.\n",
      "[2] The smallest eigenvalue is 1.49e-27. This might indicate that there are\n",
      "strong multicollinearity problems or that the design matrix is singular.\n"
     ]
    },
    {
     "name": "stderr",
     "output_type": "stream",
     "text": [
      "/Users/xzhou/anaconda3/lib/python3.6/site-packages/statsmodels/base/model.py:1100: RuntimeWarning: invalid value encountered in true_divide\n",
      "  return self.params / self.bse\n",
      "/Users/xzhou/anaconda3/lib/python3.6/site-packages/scipy/stats/_distn_infrastructure.py:879: RuntimeWarning: invalid value encountered in greater\n",
      "  return (self.a < x) & (x < self.b)\n",
      "/Users/xzhou/anaconda3/lib/python3.6/site-packages/scipy/stats/_distn_infrastructure.py:879: RuntimeWarning: invalid value encountered in less\n",
      "  return (self.a < x) & (x < self.b)\n",
      "/Users/xzhou/anaconda3/lib/python3.6/site-packages/scipy/stats/_distn_infrastructure.py:1821: RuntimeWarning: invalid value encountered in less_equal\n",
      "  cond2 = cond0 & (x <= self.a)\n"
     ]
    }
   ],
   "source": [
    "import statsmodels.api as sm\n",
    "olsmod = sm.OLS(y2,x2)\n",
    "olsres = olsmod.fit()\n",
    "print(olsres.summary())"
   ]
  },
  {
   "cell_type": "code",
   "execution_count": 45,
   "metadata": {
    "ExecuteTime": {
     "end_time": "2018-09-16T06:03:03.403718Z",
     "start_time": "2018-09-16T06:03:03.393551Z"
    }
   },
   "outputs": [],
   "source": [
    "# different method\n",
    "from sklearn import linear_model\n",
    "from sklearn.model_selection import train_test_split\n",
    "X_train, X_test, y_train, y_test = train_test_split(x, y, test_size = 0.25, random_state=1)"
   ]
  },
  {
   "cell_type": "code",
   "execution_count": 46,
   "metadata": {
    "ExecuteTime": {
     "end_time": "2018-09-16T06:03:08.174909Z",
     "start_time": "2018-09-16T06:03:03.406747Z"
    }
   },
   "outputs": [
    {
     "name": "stdout",
     "output_type": "stream",
     "text": [
      "MSE train: 232.728, test: 1420.896\n",
      "R^2 train: 0.922, test: 0.515\n"
     ]
    }
   ],
   "source": [
    "from sklearn.ensemble import RandomForestRegressor\n",
    "forest = RandomForestRegressor(n_estimators=200, \n",
    "                               criterion='mse', \n",
    "                               random_state=3, \n",
    "                               n_jobs=-1)\n",
    "forest.fit(X_train, y_train)\n",
    "y_train_pred = forest.predict(X_train)\n",
    "y_test_pred = forest.predict(X_test)\n",
    "\n",
    "print('MSE train: %.3f, test: %.3f' % (\n",
    "        mean_squared_error(y_train, y_train_pred),\n",
    "        mean_squared_error(y_test, y_test_pred)))\n",
    "print('R^2 train: %.3f, test: %.3f' % (\n",
    "        r2_score(y_train, y_train_pred),\n",
    "        r2_score(y_test, y_test_pred)))"
   ]
  },
  {
   "cell_type": "code",
   "execution_count": null,
   "metadata": {},
   "outputs": [],
   "source": []
  },
  {
   "cell_type": "code",
   "execution_count": null,
   "metadata": {},
   "outputs": [],
   "source": []
  },
  {
   "cell_type": "code",
   "execution_count": 47,
   "metadata": {
    "ExecuteTime": {
     "end_time": "2018-09-16T06:03:08.192238Z",
     "start_time": "2018-09-16T06:03:08.178138Z"
    }
   },
   "outputs": [
    {
     "name": "stderr",
     "output_type": "stream",
     "text": [
      "/Users/xzhou/anaconda3/lib/python3.6/site-packages/ipykernel_launcher.py:10: UserWarning: Pandas doesn't allow columns to be created via a new attribute name - see https://pandas.pydata.org/pandas-docs/stable/indexing.html#attribute-access\n",
      "  # Remove the CWD from sys.path while we load stuff.\n",
      "/Users/xzhou/anaconda3/lib/python3.6/site-packages/ipykernel_launcher.py:12: UserWarning: Pandas doesn't allow columns to be created via a new attribute name - see https://pandas.pydata.org/pandas-docs/stable/indexing.html#attribute-access\n",
      "  if sys.path[0] == '':\n",
      "/Users/xzhou/anaconda3/lib/python3.6/site-packages/ipykernel_launcher.py:15: FutureWarning: Method .as_matrix will be removed in a future version. Use .values instead.\n",
      "  from ipykernel import kernelapp as app\n",
      "/Users/xzhou/anaconda3/lib/python3.6/site-packages/ipykernel_launcher.py:16: FutureWarning: Method .as_matrix will be removed in a future version. Use .values instead.\n",
      "  app.launch_new_instance()\n"
     ]
    }
   ],
   "source": [
    "# split into test and training data\n",
    "np.random.seed(1)\n",
    "indices = np.random.permutation(len(df7))\n",
    "train_size = int(round(0.8*len(df7)))\n",
    "test_size = len(df7)-train_size\n",
    "\n",
    "y = df7['price']\n",
    "x = df7.drop('price', axis =1)\n",
    "\n",
    "x.train = x.iloc[indices[0:train_size]]\n",
    "y.train = y.iloc[indices[0:train_size]]\n",
    "x.test = x.iloc[indices[train_size+1:]]\n",
    "y.test = y.iloc[indices[train_size+1:]]\n",
    "\n",
    "x2 = x.train.as_matrix()\n",
    "y2 = y.train.as_matrix()"
   ]
  },
  {
   "cell_type": "code",
   "execution_count": 48,
   "metadata": {
    "ExecuteTime": {
     "end_time": "2018-09-16T06:03:08.357614Z",
     "start_time": "2018-09-16T06:03:08.199764Z"
    }
   },
   "outputs": [
    {
     "name": "stdout",
     "output_type": "stream",
     "text": [
      "                            OLS Regression Results                            \n",
      "==============================================================================\n",
      "Dep. Variable:                      y   R-squared:                       0.744\n",
      "Model:                            OLS   Adj. R-squared:                  0.611\n",
      "Method:                 Least Squares   F-statistic:                     5.616\n",
      "Date:                Sat, 15 Sep 2018   Prob (F-statistic):           6.46e-16\n",
      "Time:                        23:03:08   Log-Likelihood:                -834.96\n",
      "No. Observations:                 180   AIC:                             1794.\n",
      "Df Residuals:                     118   BIC:                             1992.\n",
      "Df Model:                          61                                         \n",
      "Covariance Type:            nonrobust                                         \n",
      "==============================================================================\n",
      "                 coef    std err          t      P>|t|      [0.025      0.975]\n",
      "------------------------------------------------------------------------------\n",
      "x1            -0.2619      0.476     -0.550      0.583      -1.205       0.681\n",
      "x2             0.1135      0.225      0.505      0.614      -0.331       0.558\n",
      "x3             4.4484      2.234      1.992      0.049       0.025       8.871\n",
      "x4            -7.6470      4.416     -1.732      0.086     -16.392       1.098\n",
      "const         47.5919     22.412      2.123      0.036       3.209      91.974\n",
      "x5             3.9807      2.559      1.555      0.123      -1.087       9.048\n",
      "x6             0.1322      0.135      0.981      0.329      -0.135       0.399\n",
      "x7            -0.5163      0.274     -1.885      0.062      -1.059       0.026\n",
      "x8            10.2484      2.851      3.594      0.000       4.602      15.895\n",
      "x9           -26.6853     15.271     -1.747      0.083     -56.926       3.555\n",
      "x10         -4.91e-13   9.87e-14     -4.974      0.000   -6.87e-13   -2.96e-13\n",
      "x11        -4.694e-13   9.64e-14     -4.867      0.000    -6.6e-13   -2.78e-13\n",
      "x12          -29.7395     18.149     -1.639      0.104     -65.679       6.200\n",
      "x13        -4.793e-13   6.16e-14     -7.783      0.000   -6.01e-13   -3.57e-13\n",
      "x14           25.1753     46.569      0.541      0.590     -67.045     117.395\n",
      "x15        -6.688e-13   1.56e-13     -4.276      0.000   -9.79e-13   -3.59e-13\n",
      "x16          130.7268     35.219      3.712      0.000      60.984     200.470\n",
      "x17          2.73e-14   1.83e-14      1.490      0.139   -8.97e-15    6.36e-14\n",
      "x18           36.4474     19.804      1.840      0.068      -2.771      75.666\n",
      "x19           17.2697     34.364      0.503      0.616     -50.781      85.320\n",
      "x20            4.9902     31.760      0.157      0.875     -57.903      67.884\n",
      "x21          -17.1424     32.013     -0.535      0.593     -80.537      46.253\n",
      "x22        -1.019e-13   4.47e-14     -2.277      0.025    -1.9e-13   -1.33e-14\n",
      "x23         1.555e-13   3.64e-14      4.266      0.000    8.33e-14    2.28e-13\n",
      "x24          -20.2594     26.369     -0.768      0.444     -72.478      31.959\n",
      "x25           63.3064     30.206      2.096      0.038       3.491     123.122\n",
      "x26           1.1e-13   4.29e-14      2.566      0.012    2.51e-14    1.95e-13\n",
      "x27        -1.117e-13   3.17e-14     -3.527      0.001   -1.74e-13    -4.9e-14\n",
      "x28         -131.0774     39.893     -3.286      0.001    -210.077     -52.078\n",
      "x29         6.044e-14   4.27e-14      1.415      0.160   -2.41e-14    1.45e-13\n",
      "x30          -56.1508     32.772     -1.713      0.089    -121.048       8.746\n",
      "x31        -1.488e-13   4.32e-14     -3.441      0.001   -2.34e-13   -6.31e-14\n",
      "x32         6.029e-14   2.89e-14      2.085      0.039    3.02e-15    1.18e-13\n",
      "x33           -4.2837     16.936     -0.253      0.801     -37.821      29.254\n",
      "x34           -5.0933     13.129     -0.388      0.699     -31.092      20.905\n",
      "x35         4.398e-14   1.91e-14      2.306      0.023    6.21e-15    8.18e-14\n",
      "x36          104.8135     37.496      2.795      0.006      30.560     179.067\n",
      "x37         -1.58e-13   3.53e-14     -4.483      0.000   -2.28e-13   -8.82e-14\n",
      "x38          -28.6028     17.688     -1.617      0.109     -63.629       6.424\n",
      "x39        -2.803e-14   2.27e-14     -1.233      0.220   -7.31e-14     1.7e-14\n",
      "x40         6.289e-14   2.03e-14      3.094      0.002    2.26e-14    1.03e-13\n",
      "x41           64.4671     27.505      2.344      0.021       9.999     118.935\n",
      "x42            5.6970     32.158      0.177      0.860     -57.985      69.379\n",
      "x43           17.6644     12.126      1.457      0.148      -6.348      41.676\n",
      "x44           79.8254     33.483      2.384      0.019      13.520     146.131\n",
      "x45            1.1153     34.202      0.033      0.974     -66.614      68.845\n",
      "x46        -7.844e-14   1.96e-14     -4.007      0.000   -1.17e-13   -3.97e-14\n",
      "x47         -3.57e-15    1.6e-14     -0.223      0.824   -3.53e-14    2.81e-14\n",
      "x48         1.292e-14   1.82e-14      0.711      0.478    -2.3e-14    4.89e-14\n",
      "x49         -1.92e-14   1.06e-14     -1.809      0.073   -4.02e-14    1.81e-15\n",
      "x50         1.189e-14   1.16e-14      1.025      0.307   -1.11e-14    3.49e-14\n",
      "x51        -3.657e-14   9.42e-15     -3.882      0.000   -5.52e-14   -1.79e-14\n",
      "x52        -1.927e-14   9.13e-15     -2.111      0.037   -3.73e-14   -1.19e-15\n",
      "x53         2.341e-14   1.25e-14      1.874      0.063   -1.32e-15    4.82e-14\n",
      "x54        -1.333e-14   9.28e-15     -1.435      0.154   -3.17e-14    5.06e-15\n",
      "x55        -3.966e-14   1.06e-14     -3.742      0.000   -6.06e-14   -1.87e-14\n",
      "x56         2.956e-14   1.19e-14      2.485      0.014    6.01e-15    5.31e-14\n",
      "x57           -0.7568     19.206     -0.039      0.969     -38.789      37.276\n",
      "x58         3.608e-14   6.66e-15      5.415      0.000    2.29e-14    4.93e-14\n",
      "x59        -2.841e-14   6.39e-15     -4.449      0.000   -4.11e-14   -1.58e-14\n",
      "x60         1.284e-14   1.38e-14      0.931      0.354   -1.45e-14    4.01e-14\n",
      "x61          -25.0086     34.516     -0.725      0.470     -93.360      43.343\n",
      "x62           23.2637     16.705      1.393      0.166      -9.817      56.345\n",
      "x63          -42.9957     19.658     -2.187      0.031     -81.923      -4.068\n",
      "x64           23.0211     25.335      0.909      0.365     -27.149      73.191\n",
      "x65           -8.0314     18.306     -0.439      0.662     -44.283      28.220\n",
      "x66          -16.4579     16.647     -0.989      0.325     -49.423      16.507\n",
      "x67                 0          0        nan        nan           0           0\n",
      "x68          -33.4417     22.205     -1.506      0.135     -77.413      10.529\n",
      "x69           35.1768     14.522      2.422      0.017       6.420      63.934\n",
      "x70                 0          0        nan        nan           0           0\n",
      "x71                 0          0        nan        nan           0           0\n",
      "x72          -31.9070     18.907     -1.688      0.094     -69.348       5.535\n",
      "x73                 0          0        nan        nan           0           0\n",
      "x74                 0          0        nan        nan           0           0\n",
      "x75                 0          0        nan        nan           0           0\n",
      "x76                 0          0        nan        nan           0           0\n",
      "x77                 0          0        nan        nan           0           0\n",
      "x78                 0          0        nan        nan           0           0\n",
      "x79                 0          0        nan        nan           0           0\n",
      "x80                 0          0        nan        nan           0           0\n",
      "x81                 0          0        nan        nan           0           0\n",
      "x82                 0          0        nan        nan           0           0\n",
      "x83                 0          0        nan        nan           0           0\n",
      "x84                 0          0        nan        nan           0           0\n",
      "x85                 0          0        nan        nan           0           0\n",
      "x86                 0          0        nan        nan           0           0\n",
      "x87                 0          0        nan        nan           0           0\n",
      "x88                 0          0        nan        nan           0           0\n",
      "x89           28.3570     33.043      0.858      0.393     -37.078      93.792\n",
      "x90          -40.8003     22.241     -1.834      0.069     -84.844       3.244\n",
      "x91            9.2947     18.308      0.508      0.613     -26.959      45.549\n",
      "x92                 0          0        nan        nan           0           0\n",
      "x93                 0          0        nan        nan           0           0\n",
      "x94                 0          0        nan        nan           0           0\n",
      "x95          -38.6964     21.233     -1.822      0.071     -80.743       3.351\n",
      "x96           -1.9256     12.448     -0.155      0.877     -26.576      22.725\n",
      "x97          -11.4108     24.591     -0.464      0.643     -60.107      37.285\n",
      "x98                 0          0        nan        nan           0           0\n",
      "x99                 0          0        nan        nan           0           0\n",
      "x100                0          0        nan        nan           0           0\n",
      "x101                0          0        nan        nan           0           0\n",
      "x102                0          0        nan        nan           0           0\n",
      "x103                0          0        nan        nan           0           0\n",
      "x104                0          0        nan        nan           0           0\n",
      "x105                0          0        nan        nan           0           0\n",
      "x106                0          0        nan        nan           0           0\n",
      "x107                0          0        nan        nan           0           0\n",
      "x108         -48.6378     20.315     -2.394      0.018     -88.868      -8.408\n",
      "x109                0          0        nan        nan           0           0\n",
      "x110                0          0        nan        nan           0           0\n",
      "x111                0          0        nan        nan           0           0\n",
      "x112                0          0        nan        nan           0           0\n",
      "x113                0          0        nan        nan           0           0\n",
      "x114                0          0        nan        nan           0           0\n",
      "x115                0          0        nan        nan           0           0\n",
      "x116                0          0        nan        nan           0           0\n",
      "x117                0          0        nan        nan           0           0\n",
      "x118                0          0        nan        nan           0           0\n",
      "x119                0          0        nan        nan           0           0\n",
      "x120                0          0        nan        nan           0           0\n",
      "x121                0          0        nan        nan           0           0\n",
      "x122                0          0        nan        nan           0           0\n",
      "x123          22.6255     32.354      0.699      0.486     -41.444      86.695\n",
      "x124                0          0        nan        nan           0           0\n",
      "x125                0          0        nan        nan           0           0\n",
      "x126         -11.0641     19.445     -0.569      0.570     -49.570      27.442\n",
      "x127         -14.7160     33.340     -0.441      0.660     -80.737      51.305\n",
      "x128         -15.8474     20.390     -0.777      0.439     -56.225      24.530\n",
      "x129                0          0        nan        nan           0           0\n",
      "x130                0          0        nan        nan           0           0\n",
      "x131                0          0        nan        nan           0           0\n",
      "x132                0          0        nan        nan           0           0\n",
      "x133                0          0        nan        nan           0           0\n",
      "x134         -11.5987     32.519     -0.357      0.722     -75.995      52.797\n",
      "x135                0          0        nan        nan           0           0\n",
      "x136                0          0        nan        nan           0           0\n",
      "x137                0          0        nan        nan           0           0\n",
      "x138                0          0        nan        nan           0           0\n",
      "x139          31.6408     17.507      1.807      0.073      -3.027      66.309\n",
      "x140                0          0        nan        nan           0           0\n",
      "x141          -5.0933     13.129     -0.388      0.699     -31.092      20.905\n",
      "x142                0          0        nan        nan           0           0\n",
      "x143                0          0        nan        nan           0           0\n",
      "x144                0          0        nan        nan           0           0\n",
      "x145        -227.1496     46.225     -4.914      0.000    -318.688    -135.611\n",
      "x146                0          0        nan        nan           0           0\n",
      "x147                0          0        nan        nan           0           0\n",
      "x148                0          0        nan        nan           0           0\n",
      "x149                0          0        nan        nan           0           0\n",
      "x150                0          0        nan        nan           0           0\n",
      "x151         -68.7855     29.325     -2.346      0.021    -126.856     -10.715\n",
      "x152                0          0        nan        nan           0           0\n",
      "x153                0          0        nan        nan           0           0\n",
      "x154                0          0        nan        nan           0           0\n",
      "x155                0          0        nan        nan           0           0\n",
      "x156         107.2548     48.687      2.203      0.030      10.842     203.668\n",
      "x157         -59.7815     23.734     -2.519      0.013    -106.782     -12.781\n",
      "x158         -84.1223     50.049     -1.681      0.095    -183.234      14.989\n",
      "x159           4.8388     15.716      0.308      0.759     -26.283      35.961\n",
      "x160                0          0        nan        nan           0           0\n",
      "x161                0          0        nan        nan           0           0\n",
      "x162          -6.3371     30.850     -0.205      0.838     -67.428      54.754\n",
      "x163                0          0        nan        nan           0           0\n",
      "x164                0          0        nan        nan           0           0\n",
      "x165                0          0        nan        nan           0           0\n",
      "x166         355.8285     40.523      8.781      0.000     275.581     436.076\n",
      "x167                0          0        nan        nan           0           0\n",
      "x168                0          0        nan        nan           0           0\n",
      "x169           9.2947     18.308      0.508      0.613     -26.959      45.549\n",
      "x170                0          0        nan        nan           0           0\n",
      "x171                0          0        nan        nan           0           0\n",
      "x172          -9.9966     37.891     -0.264      0.792     -85.031      65.038\n",
      "x173                0          0        nan        nan           0           0\n",
      "x174                0          0        nan        nan           0           0\n",
      "x175                0          0        nan        nan           0           0\n",
      "x176          47.5919     22.412      2.123      0.036       3.209      91.974\n",
      "x177          12.4874      8.602      1.452      0.149      -4.546      29.521\n",
      "x178          15.3111     10.465      1.463      0.146      -5.413      36.036\n",
      "x179                0          0        nan        nan           0           0\n",
      "x180          19.7933      9.338      2.120      0.036       1.302      38.285\n",
      "x181                0          0        nan        nan           0           0\n",
      "x182                0          0        nan        nan           0           0\n",
      "==============================================================================\n",
      "Omnibus:                       88.302   Durbin-Watson:                   2.089\n",
      "Prob(Omnibus):                  0.000   Jarque-Bera (JB):              852.253\n",
      "Skew:                           1.548   Prob(JB):                    8.62e-186\n",
      "Kurtosis:                      13.200   Cond. No.                     1.04e+16\n",
      "==============================================================================\n",
      "\n",
      "Warnings:\n",
      "[1] Standard Errors assume that the covariance matrix of the errors is correctly specified.\n",
      "[2] The input rank is higher than the number of observations.\n",
      "[3] The smallest eigenvalue is 3.07e-26. This might indicate that there are\n",
      "strong multicollinearity problems or that the design matrix is singular.\n"
     ]
    },
    {
     "name": "stderr",
     "output_type": "stream",
     "text": [
      "/Users/xzhou/anaconda3/lib/python3.6/site-packages/statsmodels/base/model.py:1100: RuntimeWarning: invalid value encountered in true_divide\n",
      "  return self.params / self.bse\n",
      "/Users/xzhou/anaconda3/lib/python3.6/site-packages/scipy/stats/_distn_infrastructure.py:879: RuntimeWarning: invalid value encountered in greater\n",
      "  return (self.a < x) & (x < self.b)\n",
      "/Users/xzhou/anaconda3/lib/python3.6/site-packages/scipy/stats/_distn_infrastructure.py:879: RuntimeWarning: invalid value encountered in less\n",
      "  return (self.a < x) & (x < self.b)\n",
      "/Users/xzhou/anaconda3/lib/python3.6/site-packages/scipy/stats/_distn_infrastructure.py:1821: RuntimeWarning: invalid value encountered in less_equal\n",
      "  cond2 = cond0 & (x <= self.a)\n"
     ]
    }
   ],
   "source": [
    "import statsmodels.api as sm\n",
    "olsmod = sm.OLS(y2,x2)\n",
    "olsres = olsmod.fit()\n",
    "print(olsres.summary())"
   ]
  },
  {
   "cell_type": "code",
   "execution_count": 49,
   "metadata": {
    "ExecuteTime": {
     "end_time": "2018-09-16T06:03:08.374064Z",
     "start_time": "2018-09-16T06:03:08.363995Z"
    }
   },
   "outputs": [],
   "source": [
    "# different method\n",
    "from sklearn import linear_model\n",
    "from sklearn.model_selection import train_test_split\n",
    "X_train, X_test, y_train, y_test = train_test_split(x, y, test_size = 0.25, random_state=1)"
   ]
  },
  {
   "cell_type": "code",
   "execution_count": 50,
   "metadata": {
    "ExecuteTime": {
     "end_time": "2018-09-16T06:03:09.161661Z",
     "start_time": "2018-09-16T06:03:08.379682Z"
    }
   },
   "outputs": [
    {
     "name": "stdout",
     "output_type": "stream",
     "text": [
      "MSE train: 192.256, test: 3844.724\n",
      "R^2 train: 0.857, test: 0.033\n"
     ]
    }
   ],
   "source": [
    "from sklearn.ensemble import RandomForestRegressor\n",
    "forest = RandomForestRegressor(n_estimators=200, \n",
    "                               criterion='mse', \n",
    "                               random_state=3, \n",
    "                               n_jobs=-1)\n",
    "forest.fit(X_train, y_train)\n",
    "y_train_pred = forest.predict(X_train)\n",
    "y_test_pred = forest.predict(X_test)\n",
    "\n",
    "print('MSE train: %.3f, test: %.3f' % (\n",
    "        mean_squared_error(y_train, y_train_pred),\n",
    "        mean_squared_error(y_test, y_test_pred)))\n",
    "print('R^2 train: %.3f, test: %.3f' % (\n",
    "        r2_score(y_train, y_train_pred),\n",
    "        r2_score(y_test, y_test_pred)))"
   ]
  },
  {
   "cell_type": "code",
   "execution_count": null,
   "metadata": {},
   "outputs": [],
   "source": []
  },
  {
   "cell_type": "code",
   "execution_count": null,
   "metadata": {},
   "outputs": [],
   "source": []
  },
  {
   "cell_type": "code",
   "execution_count": 51,
   "metadata": {
    "ExecuteTime": {
     "end_time": "2018-09-16T06:03:09.191293Z",
     "start_time": "2018-09-16T06:03:09.164340Z"
    }
   },
   "outputs": [
    {
     "name": "stderr",
     "output_type": "stream",
     "text": [
      "/Users/xzhou/anaconda3/lib/python3.6/site-packages/ipykernel_launcher.py:10: UserWarning: Pandas doesn't allow columns to be created via a new attribute name - see https://pandas.pydata.org/pandas-docs/stable/indexing.html#attribute-access\n",
      "  # Remove the CWD from sys.path while we load stuff.\n",
      "/Users/xzhou/anaconda3/lib/python3.6/site-packages/ipykernel_launcher.py:12: UserWarning: Pandas doesn't allow columns to be created via a new attribute name - see https://pandas.pydata.org/pandas-docs/stable/indexing.html#attribute-access\n",
      "  if sys.path[0] == '':\n",
      "/Users/xzhou/anaconda3/lib/python3.6/site-packages/ipykernel_launcher.py:15: FutureWarning: Method .as_matrix will be removed in a future version. Use .values instead.\n",
      "  from ipykernel import kernelapp as app\n",
      "/Users/xzhou/anaconda3/lib/python3.6/site-packages/ipykernel_launcher.py:16: FutureWarning: Method .as_matrix will be removed in a future version. Use .values instead.\n",
      "  app.launch_new_instance()\n"
     ]
    }
   ],
   "source": [
    "# split into test and training data\n",
    "np.random.seed(1)\n",
    "indices = np.random.permutation(len(df8))\n",
    "train_size = int(round(0.8*len(df8)))\n",
    "test_size = len(df8)-train_size\n",
    "\n",
    "y = df8['price']\n",
    "x = df8.drop('price', axis =1)\n",
    "\n",
    "x.train = x.iloc[indices[0:train_size]]\n",
    "y.train = y.iloc[indices[0:train_size]]\n",
    "x.test = x.iloc[indices[train_size+1:]]\n",
    "y.test = y.iloc[indices[train_size+1:]]\n",
    "\n",
    "x2 = x.train.as_matrix()\n",
    "y2 = y.train.as_matrix()"
   ]
  },
  {
   "cell_type": "code",
   "execution_count": 52,
   "metadata": {
    "ExecuteTime": {
     "end_time": "2018-09-16T06:03:09.540218Z",
     "start_time": "2018-09-16T06:03:09.193856Z"
    }
   },
   "outputs": [
    {
     "name": "stdout",
     "output_type": "stream",
     "text": [
      "                            OLS Regression Results                            \n",
      "==============================================================================\n",
      "Dep. Variable:                      y   R-squared:                       0.436\n",
      "Model:                            OLS   Adj. R-squared:                  0.414\n",
      "Method:                 Least Squares   F-statistic:                     19.95\n",
      "Date:                Sat, 15 Sep 2018   Prob (F-statistic):               0.00\n",
      "Time:                        23:03:09   Log-Likelihood:                -21262.\n",
      "No. Observations:                4134   AIC:                         4.283e+04\n",
      "Df Residuals:                    3979   BIC:                         4.381e+04\n",
      "Df Model:                         154                                         \n",
      "Covariance Type:            nonrobust                                         \n",
      "==============================================================================\n",
      "                 coef    std err          t      P>|t|      [0.025      0.975]\n",
      "------------------------------------------------------------------------------\n",
      "x1             0.1547      0.070      2.209      0.027       0.017       0.292\n",
      "x2            -0.2054      0.069     -2.973      0.003      -0.341      -0.070\n",
      "x3            14.0283      0.920     15.244      0.000      12.224      15.832\n",
      "x4            -5.5538      1.100     -5.049      0.000      -7.710      -3.397\n",
      "x5            23.4479      2.124     11.041      0.000      19.284      27.612\n",
      "x6            -1.1987      1.370     -0.875      0.382      -3.884       1.487\n",
      "x7            -0.0667      0.013     -5.125      0.000      -0.092      -0.041\n",
      "x8             0.6563      0.098      6.685      0.000       0.464       0.849\n",
      "x9            -2.0402      0.408     -4.997      0.000      -2.841      -1.240\n",
      "x10            6.6384      1.529      4.342      0.000       3.641       9.636\n",
      "x11           -3.5309     14.962     -0.236      0.813     -32.865      25.803\n",
      "x12           45.4195      6.024      7.540      0.000      33.609      57.230\n",
      "x13           32.0768      4.749      6.754      0.000      22.765      41.388\n",
      "const      -1.583e-13   3.54e-13     -0.448      0.654   -8.52e-13    5.35e-13\n",
      "x14           16.4500     16.186      1.016      0.310     -15.284      48.184\n",
      "x15         1.398e-13   1.19e-13      1.172      0.241   -9.41e-14    3.74e-13\n",
      "x16           46.9161      5.576      8.415      0.000      35.985      57.847\n",
      "x17           90.0818      8.527     10.565      0.000      73.365     106.799\n",
      "x18           29.6650      4.969      5.970      0.000      19.923      39.407\n",
      "x19           33.2747      3.289     10.116      0.000      26.826      39.724\n",
      "x20            0.7589     18.816      0.040      0.968     -36.132      37.649\n",
      "x21           -4.0305      4.336     -0.930      0.353     -12.531       4.470\n",
      "x22           42.3432      4.194     10.097      0.000      34.121      50.565\n",
      "x23           64.5132      5.414     11.916      0.000      53.898      75.128\n",
      "x24           -3.1879      5.649     -0.564      0.573     -14.263       7.887\n",
      "x25           42.3706      4.336      9.771      0.000      33.869      50.872\n",
      "x26           20.3197      5.636      3.605      0.000       9.270      31.369\n",
      "x27           19.5840      6.651      2.945      0.003       6.545      32.623\n",
      "x28           12.3279      5.095      2.420      0.016       2.339      22.317\n",
      "x29           34.4474      7.384      4.665      0.000      19.971      48.924\n",
      "x30            2.0130      6.388      0.315      0.753     -10.511      14.537\n",
      "x31           16.2426      7.699      2.110      0.035       1.148      31.337\n",
      "x32           32.9403      6.156      5.351      0.000      20.872      45.009\n",
      "x33           -8.7559      6.696     -1.308      0.191     -21.884       4.373\n",
      "x34           25.5637      6.707      3.811      0.000      12.414      38.714\n",
      "x35            5.3216      7.839      0.679      0.497     -10.047      20.690\n",
      "x36           72.4512     21.115      3.431      0.001      31.054     113.848\n",
      "x37        -6.048e-14    6.3e-14     -0.960      0.337   -1.84e-13     6.3e-14\n",
      "x38          -13.9211      7.225     -1.927      0.054     -28.087       0.245\n",
      "x39          -20.1874      8.363     -2.414      0.016     -36.584      -3.791\n",
      "x40          -25.5840     10.361     -2.469      0.014     -45.898      -5.270\n",
      "x41          -24.1305      6.149     -3.925      0.000     -36.185     -12.076\n",
      "x42          -16.0665      6.907     -2.326      0.020     -29.609      -2.524\n",
      "x43           -2.5395      5.057     -0.502      0.616     -12.453       7.374\n",
      "x44          -11.7698      5.234     -2.249      0.025     -22.032      -1.507\n",
      "x45          -18.7537      6.054     -3.098      0.002     -30.623      -6.884\n",
      "x46           -9.6911      5.973     -1.623      0.105     -21.401       2.019\n",
      "x47           -9.7440      6.220     -1.567      0.117     -21.938       2.450\n",
      "x48          -10.7016      9.179     -1.166      0.244     -28.698       7.294\n",
      "x49           -7.0926      7.570     -0.937      0.349     -21.934       7.749\n",
      "x50          -11.2503      8.355     -1.347      0.178     -27.630       5.130\n",
      "x51          -34.8278     21.038     -1.655      0.098     -76.074       6.419\n",
      "x52        -3.065e-14   4.65e-14     -0.659      0.510   -1.22e-13    6.05e-14\n",
      "x53         9.441e-15   4.71e-14      0.200      0.841    -8.3e-14    1.02e-13\n",
      "x54         8.683e-14   7.06e-14      1.230      0.219   -5.16e-14    2.25e-13\n",
      "x55            9.7341     18.818      0.517      0.605     -27.160      46.628\n",
      "x56        -4.424e-14   3.92e-14     -1.128      0.260   -1.21e-13    3.27e-14\n",
      "x57            8.8053      7.373      1.194      0.232      -5.649      23.260\n",
      "x58            9.9360     10.614      0.936      0.349     -10.874      30.746\n",
      "x59         5.236e-15   4.89e-14      0.107      0.915   -9.06e-14    1.01e-13\n",
      "x60           -8.9678     29.682     -0.302      0.763     -67.162      49.226\n",
      "x61           -1.7852      5.136     -0.348      0.728     -11.854       8.284\n",
      "x62            6.6243      5.837      1.135      0.257      -4.820      18.069\n",
      "x63            1.3464      4.912      0.274      0.784      -8.284      10.976\n",
      "x64          -16.5572      6.225     -2.660      0.008     -28.761      -4.353\n",
      "x65           -7.0060      5.350     -1.310      0.190     -17.495       3.483\n",
      "x66           -6.6289      6.123     -1.083      0.279     -18.633       5.375\n",
      "x67          -11.6262      7.822     -1.486      0.137     -26.962       3.710\n",
      "x68           20.8802      6.391      3.267      0.001       8.350      33.411\n",
      "x69           15.9851      6.707      2.383      0.017       2.836      29.134\n",
      "x70           97.2197     41.951      2.317      0.021      14.972     179.468\n",
      "x71        -4.913e-14    4.6e-14     -1.069      0.285   -1.39e-13     4.1e-14\n",
      "x72           22.7518      4.761      4.779      0.000      13.418      32.086\n",
      "x73          -21.7510     41.920     -0.519      0.604    -103.937      60.435\n",
      "x74            9.6641     17.212      0.561      0.575     -24.082      43.410\n",
      "x75           19.6187      7.440      2.637      0.008       5.032      34.205\n",
      "x76           26.7322     13.440      1.989      0.047       0.381      53.083\n",
      "x77           24.5635     22.089      1.112      0.266     -18.743      67.870\n",
      "x78           13.3278     42.032      0.317      0.751     -69.078      95.734\n",
      "x79          -16.3752      8.360     -1.959      0.050     -32.765       0.015\n",
      "x80           -2.7040     29.706     -0.091      0.927     -60.944      55.536\n",
      "x81           -6.2957      4.994     -1.261      0.207     -16.087       3.495\n",
      "x82           -8.2663     42.190     -0.196      0.845     -90.983      74.450\n",
      "x83           -1.0731     17.012     -0.063      0.950     -34.426      32.280\n",
      "x84          -62.2983     15.116     -4.121      0.000     -91.934     -32.662\n",
      "x85         5.384e-14   3.68e-14      1.463      0.144   -1.83e-14    1.26e-13\n",
      "x86           44.7391     15.339      2.917      0.004      14.666      74.813\n",
      "x87          -14.7350      9.996     -1.474      0.141     -34.333       4.863\n",
      "x88        -1.027e-13   5.31e-14     -1.931      0.053   -2.07e-13    1.54e-15\n",
      "x89           21.5262     18.750      1.148      0.251     -15.235      58.287\n",
      "x90          -19.1723      5.202     -3.685      0.000     -29.372      -8.973\n",
      "x91          -10.1469      8.535     -1.189      0.235     -26.880       6.586\n",
      "x92          -22.5168     41.924     -0.537      0.591    -104.711      59.678\n",
      "x93          -27.2840     24.234     -1.126      0.260     -74.796      20.228\n",
      "x94          -13.3714      8.241     -1.623      0.105     -29.528       2.786\n",
      "x95          -13.4217      5.662     -2.371      0.018     -24.522      -2.321\n",
      "x96            4.3046      5.446      0.790      0.429      -6.372      14.981\n",
      "x97           18.1896      5.186      3.508      0.000       8.023      28.356\n",
      "x98           15.2920      6.629      2.307      0.021       2.296      28.288\n",
      "x99         8.147e-14   3.87e-14      2.108      0.035    5.69e-15    1.57e-13\n",
      "x100          -3.7134     15.908     -0.233      0.815     -34.903      27.476\n",
      "x101         -28.3624     13.663     -2.076      0.038     -55.149      -1.576\n",
      "x102          -3.6885     10.067     -0.366      0.714     -23.425      16.048\n",
      "x103           7.0391     11.891      0.592      0.554     -16.274      30.352\n",
      "x104          -3.6496     11.744     -0.311      0.756     -26.675      19.375\n",
      "x105        4.719e-14   4.47e-14      1.055      0.291   -4.05e-14    1.35e-13\n",
      "x106          -7.1654      9.520     -0.753      0.452     -25.830      11.499\n",
      "x107         -23.6076     13.340     -1.770      0.077     -49.762       2.547\n",
      "x108          -5.1846      4.923     -1.053      0.292     -14.836       4.467\n",
      "x109        5.983e-14   3.48e-14      1.720      0.085   -8.36e-15    1.28e-13\n",
      "x110         -20.5992     10.604     -1.943      0.052     -41.388       0.190\n",
      "x111         -23.7018      7.250     -3.269      0.001     -37.915      -9.489\n",
      "x112         -15.9568     12.206     -1.307      0.191     -39.888       7.974\n",
      "x113         -32.1127     17.168     -1.870      0.061     -65.772       1.547\n",
      "x114          -2.0229     10.302     -0.196      0.844     -22.220      18.174\n",
      "x115         -35.1068     10.080     -3.483      0.001     -54.869     -15.345\n",
      "x116         -18.8778     10.876     -1.736      0.083     -40.201       2.446\n",
      "x117         -23.5857      7.365     -3.202      0.001     -38.025      -9.146\n",
      "x118         -25.4209      8.275     -3.072      0.002     -41.644      -9.198\n",
      "x119          -1.8467      7.466     -0.247      0.805     -16.484      12.791\n",
      "x120           0.5021      7.189      0.070      0.944     -13.592      14.596\n",
      "x121         -22.8914      8.228     -2.782      0.005     -39.022      -6.761\n",
      "x122         -15.1523      6.285     -2.411      0.016     -27.475      -2.830\n",
      "x123         -12.2607      7.796     -1.573      0.116     -27.544       3.023\n",
      "x124         -20.1174     11.734     -1.714      0.087     -43.123       2.888\n",
      "x125         -14.0285      8.278     -1.695      0.090     -30.259       2.202\n",
      "x126         -10.6225      6.133     -1.732      0.083     -22.646       1.401\n",
      "x127         -24.9716     10.586     -2.359      0.018     -45.726      -4.217\n",
      "x128          -3.8999      8.574     -0.455      0.649     -20.710      12.910\n",
      "x129         -15.6386     13.356     -1.171      0.242     -41.823      10.546\n",
      "x130         -18.2719      6.751     -2.706      0.007     -31.508      -5.036\n",
      "x131         -43.9351     29.670     -1.481      0.139    -102.105      14.235\n",
      "x132         -16.0781     21.002     -0.766      0.444     -57.253      25.097\n",
      "x133        1.669e-16   1.62e-14      0.010      0.992   -3.15e-14    3.19e-14\n",
      "x134         -29.2867      9.074     -3.228      0.001     -47.077     -11.496\n",
      "x135           2.2549     42.043      0.054      0.957     -80.172      84.682\n",
      "x136         -27.8256     41.937     -0.664      0.507    -110.045      54.394\n",
      "x137       -3.063e-14   2.14e-14     -1.433      0.152   -7.25e-14    1.13e-14\n",
      "x138          65.1812     13.139      4.961      0.000      39.421      90.941\n",
      "x139         -23.0535      4.532     -5.087      0.000     -31.939     -14.168\n",
      "x140          15.9634     25.001      0.639      0.523     -33.052      64.979\n",
      "x141          -2.2994      7.352     -0.313      0.754     -16.714      12.115\n",
      "x142       -7.499e-15    2.4e-14     -0.312      0.755   -5.46e-14    3.96e-14\n",
      "x143          -8.6564      7.707     -1.123      0.261     -23.766       6.453\n",
      "x144         -25.2499      6.793     -3.717      0.000     -38.569     -11.931\n",
      "x145        -100.2928     30.877     -3.248      0.001    -160.828     -39.757\n",
      "x146         -26.2858     25.411     -1.034      0.301     -76.106      23.535\n",
      "x147          69.4489     44.124      1.574      0.116     -17.058     155.956\n",
      "x148         -43.9973     42.712     -1.030      0.303    -127.737      39.742\n",
      "x149         -35.5328     41.362     -0.859      0.390    -116.626      45.560\n",
      "x150         -17.1274     24.347     -0.703      0.482     -64.862      30.607\n",
      "x151         -13.5436      5.233     -2.588      0.010     -23.802      -3.285\n",
      "x152         -12.0990     16.163     -0.749      0.454     -43.788      19.590\n",
      "x153       -1.054e-15   3.62e-15     -0.291      0.771   -8.15e-15    6.04e-15\n",
      "x154          88.6961     29.638      2.993      0.003      30.589     146.803\n",
      "x155          -4.2727      5.805     -0.736      0.462     -15.655       7.109\n",
      "x156         -28.7732     10.441     -2.756      0.006     -49.244      -8.302\n",
      "x157         -28.5123      8.804     -3.239      0.001     -45.773     -11.252\n",
      "x158          23.5138      8.272      2.843      0.004       7.296      39.731\n",
      "x159         -21.4913      4.333     -4.959      0.000     -29.987     -12.995\n",
      "x160                0          0        nan        nan           0           0\n",
      "x161                0          0        nan        nan           0           0\n",
      "x162          -5.7372      8.929     -0.643      0.521     -23.243      11.768\n",
      "x163          20.5463     26.905      0.764      0.445     -32.203      73.296\n",
      "x164          31.3851     12.040      2.607      0.009       7.780      54.990\n",
      "x165         136.1565     12.940     10.522      0.000     110.786     161.527\n",
      "x166          45.9342     16.394      2.802      0.005      13.793      78.075\n",
      "x167         -41.8680     30.257     -1.384      0.167    -101.188      17.452\n",
      "x168          -6.8772     29.789     -0.231      0.817     -65.280      51.526\n",
      "x169         -17.6486      5.123     -3.445      0.001     -27.693      -7.604\n",
      "x170                0          0        nan        nan           0           0\n",
      "x171                0          0        nan        nan           0           0\n",
      "x172         -19.4687      7.669     -2.539      0.011     -34.504      -4.433\n",
      "x173          -5.2516     31.436     -0.167      0.867     -66.885      56.381\n",
      "x174                0          0        nan        nan           0           0\n",
      "x175          18.3462      9.385      1.955      0.051      -0.054      36.746\n",
      "x176          -9.5593      9.885     -0.967      0.334     -28.940       9.821\n",
      "x177         -27.3541      6.446     -4.243      0.000     -39.993     -14.716\n",
      "x178         -28.4398      6.489     -4.383      0.000     -41.162     -15.717\n",
      "x179                0          0        nan        nan           0           0\n",
      "x180         -26.6637      6.440     -4.140      0.000     -39.290     -14.037\n",
      "x181          91.2445     26.010      3.508      0.000      40.250     142.238\n",
      "x182                0          0        nan        nan           0           0\n",
      "==============================================================================\n",
      "Omnibus:                     2602.350   Durbin-Watson:                   2.081\n",
      "Prob(Omnibus):                  0.000   Jarque-Bera (JB):            51920.163\n",
      "Skew:                           2.658   Prob(JB):                         0.00\n",
      "Kurtosis:                      19.528   Cond. No.                     1.38e+16\n",
      "==============================================================================\n",
      "\n",
      "Warnings:\n",
      "[1] Standard Errors assume that the covariance matrix of the errors is correctly specified.\n",
      "[2] The smallest eigenvalue is 4.68e-25. This might indicate that there are\n",
      "strong multicollinearity problems or that the design matrix is singular.\n"
     ]
    },
    {
     "name": "stderr",
     "output_type": "stream",
     "text": [
      "/Users/xzhou/anaconda3/lib/python3.6/site-packages/statsmodels/base/model.py:1100: RuntimeWarning: invalid value encountered in true_divide\n",
      "  return self.params / self.bse\n",
      "/Users/xzhou/anaconda3/lib/python3.6/site-packages/scipy/stats/_distn_infrastructure.py:879: RuntimeWarning: invalid value encountered in greater\n",
      "  return (self.a < x) & (x < self.b)\n",
      "/Users/xzhou/anaconda3/lib/python3.6/site-packages/scipy/stats/_distn_infrastructure.py:879: RuntimeWarning: invalid value encountered in less\n",
      "  return (self.a < x) & (x < self.b)\n",
      "/Users/xzhou/anaconda3/lib/python3.6/site-packages/scipy/stats/_distn_infrastructure.py:1821: RuntimeWarning: invalid value encountered in less_equal\n",
      "  cond2 = cond0 & (x <= self.a)\n"
     ]
    }
   ],
   "source": [
    "import statsmodels.api as sm\n",
    "olsmod = sm.OLS(y2,x2)\n",
    "olsres = olsmod.fit()\n",
    "print(olsres.summary())"
   ]
  },
  {
   "cell_type": "code",
   "execution_count": 53,
   "metadata": {
    "ExecuteTime": {
     "end_time": "2018-09-16T06:03:09.562366Z",
     "start_time": "2018-09-16T06:03:09.545264Z"
    }
   },
   "outputs": [],
   "source": [
    "# different method\n",
    "from sklearn import linear_model\n",
    "from sklearn.model_selection import train_test_split\n",
    "X_train, X_test, y_train, y_test = train_test_split(x, y, test_size = 0.25, random_state=1)"
   ]
  },
  {
   "cell_type": "code",
   "execution_count": 54,
   "metadata": {
    "ExecuteTime": {
     "end_time": "2018-09-16T06:03:15.931701Z",
     "start_time": "2018-09-16T06:03:09.565490Z"
    }
   },
   "outputs": [
    {
     "name": "stdout",
     "output_type": "stream",
     "text": [
      "MSE train: 225.361, test: 1448.770\n",
      "R^2 train: 0.927, test: 0.466\n"
     ]
    }
   ],
   "source": [
    "from sklearn.ensemble import RandomForestRegressor\n",
    "forest = RandomForestRegressor(n_estimators=200, \n",
    "                               criterion='mse', \n",
    "                               random_state=3, \n",
    "                               n_jobs=-1)\n",
    "forest.fit(X_train, y_train)\n",
    "y_train_pred = forest.predict(X_train)\n",
    "y_test_pred = forest.predict(X_test)\n",
    "\n",
    "print('MSE train: %.3f, test: %.3f' % (\n",
    "        mean_squared_error(y_train, y_train_pred),\n",
    "        mean_squared_error(y_test, y_test_pred)))\n",
    "print('R^2 train: %.3f, test: %.3f' % (\n",
    "        r2_score(y_train, y_train_pred),\n",
    "        r2_score(y_test, y_test_pred)))"
   ]
  },
  {
   "cell_type": "code",
   "execution_count": null,
   "metadata": {},
   "outputs": [],
   "source": []
  }
 ],
 "metadata": {
  "kernelspec": {
   "display_name": "Python 3",
   "language": "python",
   "name": "python3"
  },
  "language_info": {
   "codemirror_mode": {
    "name": "ipython",
    "version": 3
   },
   "file_extension": ".py",
   "mimetype": "text/x-python",
   "name": "python",
   "nbconvert_exporter": "python",
   "pygments_lexer": "ipython3",
   "version": "3.6.6"
  },
  "varInspector": {
   "cols": {
    "lenName": 16,
    "lenType": 16,
    "lenVar": 40
   },
   "kernels_config": {
    "python": {
     "delete_cmd_postfix": "",
     "delete_cmd_prefix": "del ",
     "library": "var_list.py",
     "varRefreshCmd": "print(var_dic_list())"
    },
    "r": {
     "delete_cmd_postfix": ") ",
     "delete_cmd_prefix": "rm(",
     "library": "var_list.r",
     "varRefreshCmd": "cat(var_dic_list()) "
    }
   },
   "types_to_exclude": [
    "module",
    "function",
    "builtin_function_or_method",
    "instance",
    "_Feature"
   ],
   "window_display": false
  }
 },
 "nbformat": 4,
 "nbformat_minor": 2
}
