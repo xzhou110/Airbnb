{
 "cells": [
  {
   "cell_type": "code",
   "execution_count": 1,
   "metadata": {
    "ExecuteTime": {
     "end_time": "2018-09-13T20:26:27.105552Z",
     "start_time": "2018-09-13T20:26:25.612513Z"
    }
   },
   "outputs": [],
   "source": [
    "import pandas as pd\n",
    "import csv\n",
    "import statsmodels.api as sm\n",
    "from datetime import datetime\n",
    "import matplotlib.pyplot as plt\n",
    "import numpy as np\n",
    "from sklearn import datasets, linear_model\n",
    "from sklearn.metrics import mean_squared_error, r2_score\n",
    "from sklearn.preprocessing import StandardScaler\n",
    "from sklearn.model_selection import train_test_split"
   ]
  },
  {
   "cell_type": "code",
   "execution_count": 2,
   "metadata": {
    "ExecuteTime": {
     "end_time": "2018-09-13T20:26:27.120612Z",
     "start_time": "2018-09-13T20:26:27.108600Z"
    }
   },
   "outputs": [],
   "source": [
    "file_url = '/Users/xzhou/github/project_archives/files_airbnb/la_airbnb/{}.csv'\n",
    "\n",
    "listings_file = file_url.format('listings_details')\n",
    "reviews_file = file_url.format('reviews_details')\n",
    "calendar_file = file_url.format('calendar_details')"
   ]
  },
  {
   "cell_type": "code",
   "execution_count": 3,
   "metadata": {
    "ExecuteTime": {
     "end_time": "2018-09-13T20:26:27.128150Z",
     "start_time": "2018-09-13T20:26:27.123240Z"
    }
   },
   "outputs": [],
   "source": [
    "file_url = '/Users/xzhou/github/project_archives/files_airbnb/{}.csv'\n",
    "\n",
    "sf_file = file_url.format('sf_airbnb/listings_details')\n",
    "ok_file = file_url.format('ok_airbnb/listings_details')\n",
    "sc_file = file_url.format('sc_airbnb/listings_details')\n",
    "scz_file = file_url.format('scz_airbnb/listings_details')\n",
    "pg_file = file_url.format('pg_airbnb/listings_details')\n",
    "sd_file = file_url.format('sd_airbnb/listings_details')\n",
    "la_file = file_url.format('la_airbnb/listings_details')\n",
    "\n",
    "sea_file = file_url.format('sea_airbnb/listings_details')"
   ]
  },
  {
   "cell_type": "code",
   "execution_count": 4,
   "metadata": {
    "ExecuteTime": {
     "end_time": "2018-09-13T20:26:37.642257Z",
     "start_time": "2018-09-13T20:26:27.131735Z"
    }
   },
   "outputs": [],
   "source": [
    "listings_sf = pd.read_csv(sf_file, parse_dates=['last_scraped','host_since', 'first_review', 'last_review'])\n",
    "listings_ok = pd.read_csv(ok_file, parse_dates=['last_scraped','host_since', 'first_review', 'last_review'])\n",
    "listings_sc = pd.read_csv(sc_file, parse_dates=['last_scraped','host_since', 'first_review', 'last_review'])\n",
    "listings_scz = pd.read_csv(scz_file, parse_dates=['last_scraped','host_since', 'first_review', 'last_review'])\n",
    "listings_sd = pd.read_csv(sd_file, parse_dates=['last_scraped','host_since', 'first_review', 'last_review'])\n",
    "listings_la = pd.read_csv(la_file, parse_dates=['last_scraped','host_since', 'first_review', 'last_review'])\n",
    "\n",
    "listings_sea = pd.read_csv(sea_file, parse_dates=['last_scraped','host_since', 'first_review', 'last_review'])"
   ]
  },
  {
   "cell_type": "code",
   "execution_count": 5,
   "metadata": {
    "ExecuteTime": {
     "end_time": "2018-09-13T20:26:37.980438Z",
     "start_time": "2018-09-13T20:26:37.645079Z"
    }
   },
   "outputs": [
    {
     "ename": "NameError",
     "evalue": "name 'listings_pg' is not defined",
     "output_type": "error",
     "traceback": [
      "\u001b[0;31m---------------------------------------------------------------------------\u001b[0m",
      "\u001b[0;31mNameError\u001b[0m                                 Traceback (most recent call last)",
      "\u001b[0;32m<ipython-input-5-803aa28a18ae>\u001b[0m in \u001b[0;36m<module>\u001b[0;34m()\u001b[0m\n\u001b[0;32m----> 1\u001b[0;31m \u001b[0mprint\u001b[0m \u001b[0;34m(\u001b[0m\u001b[0mlistings_sf\u001b[0m\u001b[0;34m.\u001b[0m\u001b[0mshape\u001b[0m\u001b[0;34m,\u001b[0m \u001b[0mlistings_ok\u001b[0m\u001b[0;34m.\u001b[0m\u001b[0mshape\u001b[0m\u001b[0;34m,\u001b[0m \u001b[0mlistings_sc\u001b[0m\u001b[0;34m.\u001b[0m\u001b[0mshape\u001b[0m\u001b[0;34m,\u001b[0m \u001b[0mlistings_scz\u001b[0m\u001b[0;34m.\u001b[0m\u001b[0mshape\u001b[0m\u001b[0;34m,\u001b[0m \u001b[0mlistings_pg\u001b[0m\u001b[0;34m.\u001b[0m\u001b[0mshape\u001b[0m\u001b[0;34m,\u001b[0m \u001b[0mlistings_sea\u001b[0m\u001b[0;34m.\u001b[0m\u001b[0mshape\u001b[0m\u001b[0;34m,\u001b[0m\u001b[0mlistings_la\u001b[0m\u001b[0;34m.\u001b[0m\u001b[0mshape\u001b[0m\u001b[0;34m)\u001b[0m\u001b[0;34m\u001b[0m\u001b[0m\n\u001b[0m",
      "\u001b[0;31mNameError\u001b[0m: name 'listings_pg' is not defined"
     ]
    }
   ],
   "source": [
    "print (listings_sf.shape, listings_ok.shape, listings_sc.shape, listings_scz.shape, listings_sea.shape,listings_la.shape)"
   ]
  },
  {
   "cell_type": "code",
   "execution_count": null,
   "metadata": {
    "ExecuteTime": {
     "end_time": "2018-09-13T20:26:37.981832Z",
     "start_time": "2018-09-13T20:26:25.589Z"
    }
   },
   "outputs": [],
   "source": [
    "frames = [listings_sf, listings_sd, listings_la, listings_sea]"
   ]
  },
  {
   "cell_type": "code",
   "execution_count": null,
   "metadata": {
    "ExecuteTime": {
     "end_time": "2018-09-13T20:26:37.983810Z",
     "start_time": "2018-09-13T20:26:25.592Z"
    }
   },
   "outputs": [],
   "source": [
    "listings = pd.concat(frames)"
   ]
  },
  {
   "cell_type": "code",
   "execution_count": null,
   "metadata": {
    "ExecuteTime": {
     "end_time": "2018-09-13T20:26:37.987602Z",
     "start_time": "2018-09-13T20:26:25.596Z"
    }
   },
   "outputs": [],
   "source": [
    "listings.columns.values"
   ]
  },
  {
   "cell_type": "code",
   "execution_count": null,
   "metadata": {
    "ExecuteTime": {
     "end_time": "2018-09-13T20:26:37.990186Z",
     "start_time": "2018-09-13T20:26:25.599Z"
    }
   },
   "outputs": [],
   "source": [
    "df = listings[[\"host_response_rate\", \"host_acceptance_rate\", \"host_is_superhost\",\n",
    "               \"host_listings_count\", \"zipcode\", \"property_type\",\"room_type\", \"accommodates\", \"bathrooms\", \"bedrooms\", \n",
    "               \"beds\", \"price\", \"number_of_reviews\", \"review_scores_rating\", \"cancellation_policy\", \n",
    "               \"reviews_per_month\"]]"
   ]
  },
  {
   "cell_type": "code",
   "execution_count": null,
   "metadata": {
    "ExecuteTime": {
     "end_time": "2018-09-13T20:26:37.992732Z",
     "start_time": "2018-09-13T20:26:25.601Z"
    }
   },
   "outputs": [],
   "source": [
    "df.head()"
   ]
  },
  {
   "cell_type": "code",
   "execution_count": null,
   "metadata": {
    "ExecuteTime": {
     "end_time": "2018-09-13T20:26:37.994850Z",
     "start_time": "2018-09-13T20:26:25.604Z"
    }
   },
   "outputs": [],
   "source": [
    "# % of NaN values\n",
    "(len(df)-df.count())/len(df)*100"
   ]
  },
  {
   "cell_type": "code",
   "execution_count": null,
   "metadata": {
    "ExecuteTime": {
     "end_time": "2018-09-13T20:26:37.997146Z",
     "start_time": "2018-09-13T20:26:25.606Z"
    }
   },
   "outputs": [],
   "source": [
    "df = df.drop(['host_acceptance_rate'], axis=1)"
   ]
  },
  {
   "cell_type": "code",
   "execution_count": null,
   "metadata": {
    "ExecuteTime": {
     "end_time": "2018-09-13T20:26:38.000929Z",
     "start_time": "2018-09-13T20:26:25.608Z"
    }
   },
   "outputs": [],
   "source": [
    "# drop NaN rows\n",
    "df2=df.dropna(axis=0)"
   ]
  },
  {
   "cell_type": "code",
   "execution_count": null,
   "metadata": {
    "ExecuteTime": {
     "end_time": "2018-09-13T20:26:38.018032Z",
     "start_time": "2018-09-13T20:26:25.610Z"
    }
   },
   "outputs": [],
   "source": [
    "# % of rows droppped\n",
    "(len(df)-len(df2))/len(df)*100"
   ]
  },
  {
   "cell_type": "code",
   "execution_count": null,
   "metadata": {
    "ExecuteTime": {
     "end_time": "2018-09-13T20:26:38.022373Z",
     "start_time": "2018-09-13T20:26:25.612Z"
    }
   },
   "outputs": [],
   "source": [
    "df2.shape"
   ]
  },
  {
   "cell_type": "code",
   "execution_count": null,
   "metadata": {
    "ExecuteTime": {
     "end_time": "2018-09-13T20:26:38.025173Z",
     "start_time": "2018-09-13T20:26:25.615Z"
    }
   },
   "outputs": [],
   "source": [
    "pd.options.mode.chained_assignment = None  # default='warn'\n",
    "\n",
    "df2['host_response_rate'] = df2['host_response_rate'].astype(str)\n",
    "df2['price'] = df2['price'].astype(str)"
   ]
  },
  {
   "cell_type": "code",
   "execution_count": null,
   "metadata": {
    "ExecuteTime": {
     "end_time": "2018-09-13T20:26:38.028089Z",
     "start_time": "2018-09-13T20:26:25.617Z"
    }
   },
   "outputs": [],
   "source": [
    "# clean data\n",
    "pd.options.mode.chained_assignment = None  # default='warn'\n",
    "\n",
    "df2['price'] = df2['price'].str.replace(\"[$, ]\", \"\").astype(\"float\")\n",
    "df2['host_response_rate'] = df2['host_response_rate'].str.replace(\"%\", \"\").astype(\"float\")"
   ]
  },
  {
   "cell_type": "code",
   "execution_count": null,
   "metadata": {
    "ExecuteTime": {
     "end_time": "2018-09-13T20:26:38.036418Z",
     "start_time": "2018-09-13T20:26:25.621Z"
    }
   },
   "outputs": [],
   "source": [
    "df2['superhost']=np.where(df2['host_is_superhost']=='t',1,0)\n",
    "del df2['host_is_superhost']"
   ]
  },
  {
   "cell_type": "code",
   "execution_count": null,
   "metadata": {
    "ExecuteTime": {
     "end_time": "2018-09-13T20:26:38.040480Z",
     "start_time": "2018-09-13T20:26:25.624Z"
    }
   },
   "outputs": [],
   "source": [
    "# select non-numeric variables and create dummies\n",
    "non_num_vars = df2.select_dtypes(include=['object']).columns\n",
    "df2[non_num_vars].head()"
   ]
  },
  {
   "cell_type": "code",
   "execution_count": null,
   "metadata": {
    "ExecuteTime": {
     "end_time": "2018-09-13T20:26:38.042441Z",
     "start_time": "2018-09-13T20:26:25.627Z"
    }
   },
   "outputs": [],
   "source": [
    "dummy_vars = pd.get_dummies(df2[non_num_vars])"
   ]
  },
  {
   "cell_type": "code",
   "execution_count": null,
   "metadata": {
    "ExecuteTime": {
     "end_time": "2018-09-13T20:26:38.046655Z",
     "start_time": "2018-09-13T20:26:25.629Z"
    }
   },
   "outputs": [],
   "source": [
    "dummy_vars.head()"
   ]
  },
  {
   "cell_type": "code",
   "execution_count": null,
   "metadata": {
    "ExecuteTime": {
     "end_time": "2018-09-13T20:26:38.055079Z",
     "start_time": "2018-09-13T20:26:25.631Z"
    }
   },
   "outputs": [],
   "source": [
    "# drop non-numeric variables from df2 and add the dummies\n",
    "df3=df2.drop(non_num_vars,axis=1)\n",
    "df3 = pd.merge(df3,dummy_vars, left_index=True, right_index=True)\n",
    "df3.head()"
   ]
  },
  {
   "cell_type": "code",
   "execution_count": null,
   "metadata": {
    "ExecuteTime": {
     "end_time": "2018-09-13T20:26:38.057180Z",
     "start_time": "2018-09-13T20:26:25.633Z"
    }
   },
   "outputs": [],
   "source": [
    "# split into test and training data\n",
    "np.random.seed(1)\n",
    "indices = np.random.permutation(len(df3))\n",
    "train_size = int(round(0.8*len(df3)))\n",
    "test_size = len(df3)-train_size\n",
    "\n",
    "y = df3['price']\n",
    "x = df3.drop('price', axis =1)\n",
    "\n",
    "x.train = x.iloc[indices[0:train_size]]\n",
    "y.train = y.iloc[indices[0:train_size]]\n",
    "x.test = x.iloc[indices[train_size+1:]]\n",
    "y.test = y.iloc[indices[train_size+1:]]\n",
    "\n",
    "x2 = x.train.as_matrix()\n",
    "y2 = y.train.as_matrix()"
   ]
  },
  {
   "cell_type": "code",
   "execution_count": null,
   "metadata": {
    "ExecuteTime": {
     "end_time": "2018-09-13T20:26:38.059828Z",
     "start_time": "2018-09-13T20:26:25.635Z"
    }
   },
   "outputs": [],
   "source": [
    "import statsmodels.api as sm\n",
    "olsmod = sm.OLS(y2,x2)\n",
    "olsres = olsmod.fit()\n",
    "print(olsres.summary())"
   ]
  },
  {
   "cell_type": "code",
   "execution_count": null,
   "metadata": {
    "ExecuteTime": {
     "end_time": "2018-09-13T20:26:38.063614Z",
     "start_time": "2018-09-13T20:26:25.638Z"
    }
   },
   "outputs": [],
   "source": [
    "# different method\n",
    "from sklearn import linear_model\n",
    "from sklearn.model_selection import train_test_split\n",
    "X_train, X_test, y_train, y_test = train_test_split(x, y, test_size = 0.25, random_state=1)"
   ]
  },
  {
   "cell_type": "code",
   "execution_count": null,
   "metadata": {
    "ExecuteTime": {
     "end_time": "2018-09-13T20:26:38.066172Z",
     "start_time": "2018-09-13T20:26:25.640Z"
    }
   },
   "outputs": [],
   "source": [
    "from sklearn.ensemble import RandomForestRegressor\n",
    "forest = RandomForestRegressor(n_estimators=500, \n",
    "                               criterion='mse', \n",
    "                               random_state=3, \n",
    "                               n_jobs=-1)\n",
    "forest.fit(X_train, y_train)\n",
    "y_train_pred = forest.predict(X_train)\n",
    "y_test_pred = forest.predict(X_test)\n",
    "\n",
    "print('MSE train: %.3f, test: %.3f' % (\n",
    "        mean_squared_error(y_train, y_train_pred),\n",
    "        mean_squared_error(y_test, y_test_pred)))\n",
    "print('R^2 train: %.3f, test: %.3f' % (\n",
    "        r2_score(y_train, y_train_pred),\n",
    "        r2_score(y_test, y_test_pred)))"
   ]
  },
  {
   "cell_type": "code",
   "execution_count": null,
   "metadata": {},
   "outputs": [],
   "source": []
  },
  {
   "cell_type": "code",
   "execution_count": null,
   "metadata": {},
   "outputs": [],
   "source": []
  },
  {
   "cell_type": "code",
   "execution_count": null,
   "metadata": {},
   "outputs": [],
   "source": []
  }
 ],
 "metadata": {
  "kernelspec": {
   "display_name": "Python 3",
   "language": "python",
   "name": "python3"
  },
  "language_info": {
   "codemirror_mode": {
    "name": "ipython",
    "version": 3
   },
   "file_extension": ".py",
   "mimetype": "text/x-python",
   "name": "python",
   "nbconvert_exporter": "python",
   "pygments_lexer": "ipython3",
   "version": "3.6.6"
  },
  "varInspector": {
   "cols": {
    "lenName": 16,
    "lenType": 16,
    "lenVar": 40
   },
   "kernels_config": {
    "python": {
     "delete_cmd_postfix": "",
     "delete_cmd_prefix": "del ",
     "library": "var_list.py",
     "varRefreshCmd": "print(var_dic_list())"
    },
    "r": {
     "delete_cmd_postfix": ") ",
     "delete_cmd_prefix": "rm(",
     "library": "var_list.r",
     "varRefreshCmd": "cat(var_dic_list()) "
    }
   },
   "types_to_exclude": [
    "module",
    "function",
    "builtin_function_or_method",
    "instance",
    "_Feature"
   ],
   "window_display": false
  }
 },
 "nbformat": 4,
 "nbformat_minor": 2
}
