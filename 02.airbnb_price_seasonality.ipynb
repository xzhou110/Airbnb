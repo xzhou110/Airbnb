{
 "cells": [
  {
   "cell_type": "markdown",
   "metadata": {},
   "source": [
    "# Data Retrieval"
   ]
  },
  {
   "cell_type": "code",
   "execution_count": 1,
   "metadata": {
    "ExecuteTime": {
     "end_time": "2019-02-16T07:41:26.418231Z",
     "start_time": "2019-02-16T07:41:24.422796Z"
    }
   },
   "outputs": [],
   "source": [
    "import pandas as pd\n",
    "import csv\n",
    "import re\n",
    "import statsmodels.api as sm\n",
    "from datetime import datetime\n",
    "import matplotlib.pyplot as plt\n",
    "import numpy as np\n",
    "\n",
    "from sklearn import datasets, linear_model\n",
    "from sklearn.metrics import mean_squared_error, r2_score\n",
    "from sklearn.preprocessing import StandardScaler\n",
    "from sklearn.model_selection import train_test_split, GroupShuffleSplit\n",
    "from sklearn.ensemble import RandomForestRegressor"
   ]
  },
  {
   "cell_type": "code",
   "execution_count": 2,
   "metadata": {
    "ExecuteTime": {
     "end_time": "2019-02-16T07:41:26.457440Z",
     "start_time": "2019-02-16T07:41:26.453768Z"
    }
   },
   "outputs": [],
   "source": [
    "# File path for cities: San Francisco(sf), \n",
    "# Okaland(ok), Santa Clara(sc), Santa Cruze(scz)\n",
    "\n",
    "file_url = '/Users/xzhou/github/project_archives/files_airbnb/{}/calendar.csv'\n",
    "\n",
    "sf_file = file_url.format('sf_airbnb')\n",
    "ok_file = file_url.format('ok_airbnb')\n",
    "sc_file = file_url.format('sc_airbnb')\n",
    "scz_file = file_url.format('scz_airbnb')"
   ]
  },
  {
   "cell_type": "code",
   "execution_count": 3,
   "metadata": {
    "ExecuteTime": {
     "end_time": "2019-02-16T07:41:33.328263Z",
     "start_time": "2019-02-16T07:41:27.582913Z"
    }
   },
   "outputs": [
    {
     "name": "stdout",
     "output_type": "stream",
     "text": [
      "(2420680, 4) (1057770, 4) (2068820, 4) (573050, 4)\n"
     ]
    }
   ],
   "source": [
    "# Loaded price by date information for each city\n",
    "\n",
    "pricing_sf = pd.read_csv(sf_file, parse_dates=['date'])\n",
    "pricing_ok = pd.read_csv(ok_file, parse_dates=['date'])\n",
    "pricing_sc = pd.read_csv(sc_file, parse_dates=['date'])\n",
    "pricing_scz = pd.read_csv(scz_file, parse_dates=['date'])\n",
    "\n",
    "print(pricing_sf.shape, pricing_ok.shape, pricing_sc.shape, pricing_scz.shape)"
   ]
  },
  {
   "cell_type": "code",
   "execution_count": 4,
   "metadata": {
    "ExecuteTime": {
     "end_time": "2019-02-16T07:41:37.135276Z",
     "start_time": "2019-02-16T07:41:35.820786Z"
    }
   },
   "outputs": [
    {
     "data": {
      "text/html": [
       "<div>\n",
       "<style scoped>\n",
       "    .dataframe tbody tr th:only-of-type {\n",
       "        vertical-align: middle;\n",
       "    }\n",
       "\n",
       "    .dataframe tbody tr th {\n",
       "        vertical-align: top;\n",
       "    }\n",
       "\n",
       "    .dataframe thead th {\n",
       "        text-align: right;\n",
       "    }\n",
       "</style>\n",
       "<table border=\"1\" class=\"dataframe\">\n",
       "  <thead>\n",
       "    <tr style=\"text-align: right;\">\n",
       "      <th></th>\n",
       "      <th></th>\n",
       "      <th>listing_id</th>\n",
       "      <th>date</th>\n",
       "      <th>available</th>\n",
       "      <th>price</th>\n",
       "    </tr>\n",
       "  </thead>\n",
       "  <tbody>\n",
       "    <tr>\n",
       "      <th rowspan=\"10\" valign=\"top\">pricing_sf</th>\n",
       "      <th>0</th>\n",
       "      <td>958</td>\n",
       "      <td>2019-08-05</td>\n",
       "      <td>f</td>\n",
       "      <td>NaN</td>\n",
       "    </tr>\n",
       "    <tr>\n",
       "      <th>1</th>\n",
       "      <td>958</td>\n",
       "      <td>2019-08-04</td>\n",
       "      <td>f</td>\n",
       "      <td>NaN</td>\n",
       "    </tr>\n",
       "    <tr>\n",
       "      <th>2</th>\n",
       "      <td>958</td>\n",
       "      <td>2019-08-03</td>\n",
       "      <td>f</td>\n",
       "      <td>NaN</td>\n",
       "    </tr>\n",
       "    <tr>\n",
       "      <th>3</th>\n",
       "      <td>958</td>\n",
       "      <td>2019-08-02</td>\n",
       "      <td>f</td>\n",
       "      <td>NaN</td>\n",
       "    </tr>\n",
       "    <tr>\n",
       "      <th>4</th>\n",
       "      <td>958</td>\n",
       "      <td>2019-08-01</td>\n",
       "      <td>f</td>\n",
       "      <td>NaN</td>\n",
       "    </tr>\n",
       "    <tr>\n",
       "      <th>5</th>\n",
       "      <td>958</td>\n",
       "      <td>2019-07-31</td>\n",
       "      <td>f</td>\n",
       "      <td>NaN</td>\n",
       "    </tr>\n",
       "    <tr>\n",
       "      <th>6</th>\n",
       "      <td>958</td>\n",
       "      <td>2019-07-30</td>\n",
       "      <td>f</td>\n",
       "      <td>NaN</td>\n",
       "    </tr>\n",
       "    <tr>\n",
       "      <th>7</th>\n",
       "      <td>958</td>\n",
       "      <td>2019-07-29</td>\n",
       "      <td>f</td>\n",
       "      <td>NaN</td>\n",
       "    </tr>\n",
       "    <tr>\n",
       "      <th>8</th>\n",
       "      <td>958</td>\n",
       "      <td>2019-07-28</td>\n",
       "      <td>f</td>\n",
       "      <td>NaN</td>\n",
       "    </tr>\n",
       "    <tr>\n",
       "      <th>9</th>\n",
       "      <td>958</td>\n",
       "      <td>2019-07-27</td>\n",
       "      <td>f</td>\n",
       "      <td>NaN</td>\n",
       "    </tr>\n",
       "  </tbody>\n",
       "</table>\n",
       "</div>"
      ],
      "text/plain": [
       "              listing_id       date available price\n",
       "pricing_sf 0         958 2019-08-05         f   NaN\n",
       "           1         958 2019-08-04         f   NaN\n",
       "           2         958 2019-08-03         f   NaN\n",
       "           3         958 2019-08-02         f   NaN\n",
       "           4         958 2019-08-01         f   NaN\n",
       "           5         958 2019-07-31         f   NaN\n",
       "           6         958 2019-07-30         f   NaN\n",
       "           7         958 2019-07-29         f   NaN\n",
       "           8         958 2019-07-28         f   NaN\n",
       "           9         958 2019-07-27         f   NaN"
      ]
     },
     "execution_count": 4,
     "metadata": {},
     "output_type": "execute_result"
    }
   ],
   "source": [
    "# Concatenate four files into one\n",
    "# Created keys for each file for future references\n",
    "\n",
    "frames = [pricing_sf, pricing_ok, pricing_sc, pricing_scz]\n",
    "keys = ['pricing_sf', 'pricing_ok', 'pricing_sc', 'pricing_scz']\n",
    "\n",
    "df_pricing = pd.concat(frames, keys=keys)\n",
    "\n",
    "df_pricing.head(10)"
   ]
  },
  {
   "cell_type": "markdown",
   "metadata": {},
   "source": [
    "# Data Exploration"
   ]
  },
  {
   "cell_type": "markdown",
   "metadata": {
    "ExecuteTime": {
     "end_time": "2019-02-16T06:04:55.761610Z",
     "start_time": "2019-02-16T06:04:55.757951Z"
    }
   },
   "source": [
    "## Filter down to data with pricing information"
   ]
  },
  {
   "cell_type": "code",
   "execution_count": 5,
   "metadata": {
    "ExecuteTime": {
     "end_time": "2019-02-16T07:42:42.105354Z",
     "start_time": "2019-02-16T07:42:41.120387Z"
    }
   },
   "outputs": [
    {
     "name": "stdout",
     "output_type": "stream",
     "text": [
      "Dimension for df_pricing_smaller:  (2853357, 4)\n",
      "\n",
      "Number of Unique ids:  14770\n"
     ]
    }
   ],
   "source": [
    "# Filter to houses that are available and have listing prices\n",
    "\n",
    "df_pricing_smaller = df_pricing[df_pricing['available']=='t']\n",
    "df_pricing_smaller = df_pricing_smaller.copy()\n",
    "\n",
    "print('Dimension for df_pricing_smaller: ', df_pricing_smaller.shape)\n",
    "print ('\\nNumber of Unique ids: ', df_pricing_smaller.listing_id.nunique())"
   ]
  },
  {
   "cell_type": "code",
   "execution_count": 6,
   "metadata": {
    "ExecuteTime": {
     "end_time": "2019-02-16T07:42:44.950612Z",
     "start_time": "2019-02-16T07:42:44.944736Z"
    }
   },
   "outputs": [
    {
     "data": {
      "text/plain": [
       "Index(['listing_id', 'date', 'available', 'price'], dtype='object')"
      ]
     },
     "execution_count": 6,
     "metadata": {},
     "output_type": "execute_result"
    }
   ],
   "source": [
    "df_pricing_smaller.columns"
   ]
  },
  {
   "cell_type": "code",
   "execution_count": 7,
   "metadata": {
    "ExecuteTime": {
     "end_time": "2019-02-16T07:42:45.504638Z",
     "start_time": "2019-02-16T07:42:45.438252Z"
    }
   },
   "outputs": [
    {
     "data": {
      "text/plain": [
       "count                 2853357\n",
       "unique                    389\n",
       "top       2018-11-03 00:00:00\n",
       "freq                    10393\n",
       "first     2018-08-06 00:00:00\n",
       "last      2019-08-29 00:00:00\n",
       "Name: date, dtype: object"
      ]
     },
     "metadata": {},
     "output_type": "display_data"
    }
   ],
   "source": [
    "display( df_pricing_smaller.date.describe(include='all'))"
   ]
  },
  {
   "cell_type": "markdown",
   "metadata": {},
   "source": [
    "## Format Conversion and Outlier Removal"
   ]
  },
  {
   "cell_type": "code",
   "execution_count": 8,
   "metadata": {
    "ExecuteTime": {
     "end_time": "2019-02-16T07:42:59.509751Z",
     "start_time": "2019-02-16T07:42:59.505261Z"
    }
   },
   "outputs": [],
   "source": [
    "# Noted currencies are formated as strings and need to convert to float\n",
    "\n",
    "def currency2float(string):\n",
    "    \"\"\"\n",
    "    Convert currency to float\n",
    "    \"\"\"\n",
    "    float_ = float(str(string).strip('$').replace(',',''))\n",
    "    return float_"
   ]
  },
  {
   "cell_type": "code",
   "execution_count": 9,
   "metadata": {
    "ExecuteTime": {
     "end_time": "2019-02-16T07:43:07.749002Z",
     "start_time": "2019-02-16T07:43:04.693414Z"
    }
   },
   "outputs": [],
   "source": [
    "# Converted price to float format\n",
    "\n",
    "df_pricing_smaller['price'] = df_pricing_smaller['price'].apply(\n",
    "                              lambda x: currency2float(x))"
   ]
  },
  {
   "cell_type": "code",
   "execution_count": 10,
   "metadata": {
    "ExecuteTime": {
     "end_time": "2019-02-16T07:43:08.453381Z",
     "start_time": "2019-02-16T07:43:08.249605Z"
    }
   },
   "outputs": [
    {
     "name": "stdout",
     "output_type": "stream",
     "text": [
      "df_pricing_smaller dimensions:  (2573002, 4)\n"
     ]
    }
   ],
   "source": [
    "# Removed outliers based on 'price'. Use 5% and 95% percentiles as cutoff\n",
    "\n",
    "five_percentile = np.percentile(df_pricing_smaller.price, 5)\n",
    "ninety_five_percentile = np.percentile(df_pricing_smaller.price, 95)\n",
    "\n",
    "df_pricing_smaller = df_pricing_smaller[(\n",
    "                         df_pricing_smaller.price>=five_percentile)\n",
    "                        & (df_pricing_smaller.price<=ninety_five_percentile)]\n",
    "\n",
    "print ('df_pricing_smaller dimensions: ', df_pricing_smaller.shape)"
   ]
  },
  {
   "cell_type": "markdown",
   "metadata": {
    "ExecuteTime": {
     "end_time": "2019-02-16T06:10:40.512514Z",
     "start_time": "2019-02-16T06:10:40.509754Z"
    }
   },
   "source": [
    "## Filter Data"
   ]
  },
  {
   "cell_type": "code",
   "execution_count": 11,
   "metadata": {
    "ExecuteTime": {
     "end_time": "2019-02-16T07:43:21.947996Z",
     "start_time": "2019-02-16T07:43:21.652014Z"
    }
   },
   "outputs": [
    {
     "name": "stdout",
     "output_type": "stream",
     "text": [
      "df_pricing_smaller dimensions (2573002, 6)\n"
     ]
    },
    {
     "data": {
      "text/html": [
       "<div>\n",
       "<style scoped>\n",
       "    .dataframe tbody tr th:only-of-type {\n",
       "        vertical-align: middle;\n",
       "    }\n",
       "\n",
       "    .dataframe tbody tr th {\n",
       "        vertical-align: top;\n",
       "    }\n",
       "\n",
       "    .dataframe thead th {\n",
       "        text-align: right;\n",
       "    }\n",
       "</style>\n",
       "<table border=\"1\" class=\"dataframe\">\n",
       "  <thead>\n",
       "    <tr style=\"text-align: right;\">\n",
       "      <th></th>\n",
       "      <th></th>\n",
       "      <th>listing_id</th>\n",
       "      <th>date</th>\n",
       "      <th>available</th>\n",
       "      <th>price</th>\n",
       "      <th>month</th>\n",
       "      <th>day_of_week</th>\n",
       "    </tr>\n",
       "  </thead>\n",
       "  <tbody>\n",
       "    <tr>\n",
       "      <th rowspan=\"5\" valign=\"top\">pricing_sf</th>\n",
       "      <th>63</th>\n",
       "      <td>958</td>\n",
       "      <td>2019-05-02</td>\n",
       "      <td>t</td>\n",
       "      <td>181.0</td>\n",
       "      <td>5</td>\n",
       "      <td>3</td>\n",
       "    </tr>\n",
       "    <tr>\n",
       "      <th>64</th>\n",
       "      <td>958</td>\n",
       "      <td>2019-05-01</td>\n",
       "      <td>t</td>\n",
       "      <td>181.0</td>\n",
       "      <td>5</td>\n",
       "      <td>2</td>\n",
       "    </tr>\n",
       "    <tr>\n",
       "      <th>65</th>\n",
       "      <td>958</td>\n",
       "      <td>2019-04-30</td>\n",
       "      <td>t</td>\n",
       "      <td>181.0</td>\n",
       "      <td>4</td>\n",
       "      <td>1</td>\n",
       "    </tr>\n",
       "    <tr>\n",
       "      <th>66</th>\n",
       "      <td>958</td>\n",
       "      <td>2019-04-29</td>\n",
       "      <td>t</td>\n",
       "      <td>181.0</td>\n",
       "      <td>4</td>\n",
       "      <td>0</td>\n",
       "    </tr>\n",
       "    <tr>\n",
       "      <th>67</th>\n",
       "      <td>958</td>\n",
       "      <td>2019-04-28</td>\n",
       "      <td>t</td>\n",
       "      <td>181.0</td>\n",
       "      <td>4</td>\n",
       "      <td>6</td>\n",
       "    </tr>\n",
       "  </tbody>\n",
       "</table>\n",
       "</div>"
      ],
      "text/plain": [
       "               listing_id       date available  price  month  day_of_week\n",
       "pricing_sf 63         958 2019-05-02         t  181.0      5            3\n",
       "           64         958 2019-05-01         t  181.0      5            2\n",
       "           65         958 2019-04-30         t  181.0      4            1\n",
       "           66         958 2019-04-29         t  181.0      4            0\n",
       "           67         958 2019-04-28         t  181.0      4            6"
      ]
     },
     "metadata": {},
     "output_type": "display_data"
    }
   ],
   "source": [
    "# Added 'month' column to extract of month of date\n",
    "# Added 'day_of_week' column to extact day of week. \n",
    "# Default format: Monday=0, ..., Sunday=6\n",
    "\n",
    "df_pricing_smaller['month'] = df_pricing_smaller['date'].dt.month\n",
    "df_pricing_smaller['day_of_week'] = df_pricing_smaller['date'].dt.weekday\n",
    "\n",
    "\n",
    "print('df_pricing_smaller dimensions', df_pricing_smaller.shape)\n",
    "display(df_pricing_smaller.head())"
   ]
  },
  {
   "cell_type": "code",
   "execution_count": 12,
   "metadata": {
    "ExecuteTime": {
     "end_time": "2019-02-16T07:44:17.855137Z",
     "start_time": "2019-02-16T07:44:17.360535Z"
    }
   },
   "outputs": [
    {
     "data": {
      "text/plain": [
       "listing_id     0\n",
       "date           0\n",
       "available      0\n",
       "price          0\n",
       "month          0\n",
       "day_of_week    0\n",
       "dtype: int64"
      ]
     },
     "execution_count": 12,
     "metadata": {},
     "output_type": "execute_result"
    }
   ],
   "source": [
    "df_pricing_smaller.isnull().sum()"
   ]
  },
  {
   "cell_type": "code",
   "execution_count": null,
   "metadata": {
    "ExecuteTime": {
     "end_time": "2019-02-16T06:45:14.872540Z",
     "start_time": "2019-02-16T06:45:14.221150Z"
    }
   },
   "outputs": [],
   "source": [
    "display(df_pricing_smaller.describe(include ='all'))"
   ]
  },
  {
   "cell_type": "code",
   "execution_count": null,
   "metadata": {
    "ExecuteTime": {
     "end_time": "2019-02-16T07:11:42.303703Z",
     "start_time": "2019-02-16T07:11:41.753359Z"
    }
   },
   "outputs": [],
   "source": [
    "df_by_month_day = df_pricing_smaller.groupby(['listing_id', 'month', 'day_of_week'])  \\\n",
    "                                    .price.mean()  \\\n",
    "                                    .reset_index()\n",
    "df_by_month_day.head()"
   ]
  },
  {
   "cell_type": "code",
   "execution_count": null,
   "metadata": {
    "ExecuteTime": {
     "end_time": "2019-02-16T07:26:13.465169Z",
     "start_time": "2019-02-16T07:26:13.431591Z"
    }
   },
   "outputs": [],
   "source": [
    "df_month_day_counts = df_by_month_day.groupby(['listing_id'])  \\\n",
    "                                     .price.count()  \\\n",
    "                                 .reset_index()\n",
    "df_month_day_counts.rename(columns = {'price':'counts'}, inplace=True)\n",
    "df_month_day_counts.head()"
   ]
  },
  {
   "cell_type": "code",
   "execution_count": null,
   "metadata": {
    "ExecuteTime": {
     "end_time": "2019-02-16T07:26:28.545195Z",
     "start_time": "2019-02-16T07:26:28.539247Z"
    }
   },
   "outputs": [],
   "source": [
    "# Find out listings that have full price information (12 months and 7 days/week)\n",
    "\n",
    "listing_with_12m_7d_price = list(df_month_day_counts[\n",
    "                                df_month_day_counts.counts==12*7]\n",
    "                                .listing_id)"
   ]
  },
  {
   "cell_type": "code",
   "execution_count": null,
   "metadata": {
    "ExecuteTime": {
     "end_time": "2019-02-16T07:26:35.799012Z",
     "start_time": "2019-02-16T07:26:35.513532Z"
    }
   },
   "outputs": [],
   "source": [
    "df_pricing_available = df_pricing_smaller[df_pricing_smaller.listing_id.isin(\n",
    "                                          listing_with_12m_7d_price)]\n",
    "df_pricing_available.shape"
   ]
  },
  {
   "cell_type": "code",
   "execution_count": null,
   "metadata": {
    "ExecuteTime": {
     "end_time": "2019-02-16T07:27:15.110138Z",
     "start_time": "2019-02-16T07:27:14.777887Z"
    }
   },
   "outputs": [],
   "source": [
    "df_pricing_available.describe(include='all')"
   ]
  },
  {
   "cell_type": "code",
   "execution_count": null,
   "metadata": {
    "ExecuteTime": {
     "end_time": "2019-02-16T07:29:43.774615Z",
     "start_time": "2019-02-16T07:29:43.619042Z"
    }
   },
   "outputs": [],
   "source": [
    "# Group by month by weekday, and calculate an average pricing\n",
    "\n",
    "df_pricing_by_month_weekday = df_pricing_available.groupby(  \\\n",
    "                              ['listing_id', 'month', 'day_of_week']) \\\n",
    "                              .price.mean()  \\\n",
    "                              .reset_index()\n",
    "df_pricing_by_month_weekday.head()"
   ]
  },
  {
   "cell_type": "code",
   "execution_count": null,
   "metadata": {
    "ExecuteTime": {
     "end_time": "2019-02-16T07:29:50.919024Z",
     "start_time": "2019-02-16T07:29:50.875727Z"
    }
   },
   "outputs": [],
   "source": [
    "df_pricing_by_month_weekday.describe(include='all')"
   ]
  },
  {
   "cell_type": "code",
   "execution_count": null,
   "metadata": {
    "ExecuteTime": {
     "end_time": "2019-02-16T07:29:53.908670Z",
     "start_time": "2019-02-16T07:29:53.884060Z"
    }
   },
   "outputs": [],
   "source": [
    "# Check for null values if any\n",
    "\n",
    "df_pricing_by_month_weekday.isnull().sum()"
   ]
  },
  {
   "cell_type": "code",
   "execution_count": null,
   "metadata": {
    "ExecuteTime": {
     "end_time": "2019-02-16T07:30:07.170803Z",
     "start_time": "2019-02-16T07:30:07.164788Z"
    }
   },
   "outputs": [],
   "source": [
    "# Rename the average price column to avoid confusion\n",
    "\n",
    "df_pricing_by_month_weekday.rename(columns={'price':'price_by_month_week'}, inplace=True)"
   ]
  },
  {
   "cell_type": "code",
   "execution_count": null,
   "metadata": {
    "ExecuteTime": {
     "end_time": "2019-02-16T07:30:08.165994Z",
     "start_time": "2019-02-16T07:30:08.159699Z"
    }
   },
   "outputs": [],
   "source": [
    "df_pricing_by_month_weekday.shape"
   ]
  },
  {
   "cell_type": "code",
   "execution_count": null,
   "metadata": {
    "ExecuteTime": {
     "end_time": "2019-02-16T07:30:15.780429Z",
     "start_time": "2019-02-16T07:30:15.770848Z"
    }
   },
   "outputs": [],
   "source": [
    "df_pricing_by_month_weekday.head()"
   ]
  },
  {
   "cell_type": "code",
   "execution_count": null,
   "metadata": {},
   "outputs": [],
   "source": []
  },
  {
   "cell_type": "code",
   "execution_count": null,
   "metadata": {},
   "outputs": [],
   "source": []
  },
  {
   "cell_type": "code",
   "execution_count": 13,
   "metadata": {
    "ExecuteTime": {
     "end_time": "2019-02-16T07:45:21.494853Z",
     "start_time": "2019-02-16T07:45:21.492056Z"
    }
   },
   "outputs": [],
   "source": [
    "df_pricing_by_month_weekday = df_pricing_smaller"
   ]
  },
  {
   "cell_type": "code",
   "execution_count": 14,
   "metadata": {
    "ExecuteTime": {
     "end_time": "2019-02-16T07:45:22.970556Z",
     "start_time": "2019-02-16T07:45:22.965833Z"
    }
   },
   "outputs": [],
   "source": [
    "def get_month(number):\n",
    "    \"\"\"\n",
    "    Given a number, return the name of month.\n",
    "    \n",
    "    \"\"\"\n",
    "    month_lookup = {1:'Jan.', 2:'Feb.', 3:'Mar.', 4:'Apr.', 5:'May.', 6:'Jun.',\n",
    "                    7:'Jul.', 8:'Aug.', 9:'Sep.', 10:'Oct.', 11:'Nov.', 12:'Dec.'}\n",
    "    \n",
    "    return month_lookup[number]"
   ]
  },
  {
   "cell_type": "code",
   "execution_count": 15,
   "metadata": {
    "ExecuteTime": {
     "end_time": "2019-02-16T07:45:24.281255Z",
     "start_time": "2019-02-16T07:45:24.277002Z"
    }
   },
   "outputs": [],
   "source": [
    "def get_weekdays(number):\n",
    "    \"\"\"\n",
    "    Given a number, return the name of month.\n",
    "    \n",
    "    \"\"\"\n",
    "    weekday_lookup = {0:'Monday', 1:'Tuesday', 2:'Wednesday', 3:'Thursday', \n",
    "                      4:'Friday', 5:'Saturday', 6:'Sunday'}\n",
    "    \n",
    "    return weekday_lookup[number]"
   ]
  },
  {
   "cell_type": "code",
   "execution_count": 16,
   "metadata": {
    "ExecuteTime": {
     "end_time": "2019-02-16T07:45:31.611002Z",
     "start_time": "2019-02-16T07:45:29.482959Z"
    }
   },
   "outputs": [],
   "source": [
    "df_pricing_by_month_weekday['month'] = df_pricing_by_month_weekday['month']  \\\n",
    "                                       .apply(lambda x: get_month(x))"
   ]
  },
  {
   "cell_type": "code",
   "execution_count": 17,
   "metadata": {
    "ExecuteTime": {
     "end_time": "2019-02-16T07:45:34.201269Z",
     "start_time": "2019-02-16T07:45:32.827042Z"
    }
   },
   "outputs": [],
   "source": [
    "df_pricing_by_month_weekday['day_of_week'] = df_pricing_by_month_weekday['day_of_week']  \\\n",
    "                                             .apply(lambda x: get_weekdays(x))"
   ]
  },
  {
   "cell_type": "code",
   "execution_count": null,
   "metadata": {},
   "outputs": [],
   "source": []
  },
  {
   "cell_type": "code",
   "execution_count": 18,
   "metadata": {
    "ExecuteTime": {
     "end_time": "2019-02-16T07:45:43.034388Z",
     "start_time": "2019-02-16T07:45:42.131415Z"
    }
   },
   "outputs": [],
   "source": [
    "df_pricing_final = pd.get_dummies(df_pricing_by_month_weekday, \n",
    "                                  prefix='',\n",
    "                                  prefix_sep='',\n",
    "                                  columns=['month', 'day_of_week'])"
   ]
  },
  {
   "cell_type": "code",
   "execution_count": 19,
   "metadata": {
    "ExecuteTime": {
     "end_time": "2019-02-16T07:45:44.620243Z",
     "start_time": "2019-02-16T07:45:44.613612Z"
    }
   },
   "outputs": [
    {
     "data": {
      "text/plain": [
       "Index(['listing_id', 'date', 'available', 'price', 'Apr.', 'Aug.', 'Dec.',\n",
       "       'Feb.', 'Jan.', 'Jul.', 'Jun.', 'Mar.', 'May.', 'Nov.', 'Oct.', 'Sep.',\n",
       "       'Friday', 'Monday', 'Saturday', 'Sunday', 'Thursday', 'Tuesday',\n",
       "       'Wednesday'],\n",
       "      dtype='object')"
      ]
     },
     "execution_count": 19,
     "metadata": {},
     "output_type": "execute_result"
    }
   ],
   "source": [
    "df_pricing_final.columns"
   ]
  },
  {
   "cell_type": "code",
   "execution_count": 20,
   "metadata": {
    "ExecuteTime": {
     "end_time": "2019-02-16T07:45:46.169647Z",
     "start_time": "2019-02-16T07:45:46.163194Z"
    }
   },
   "outputs": [
    {
     "data": {
      "text/plain": [
       "(2573002, 23)"
      ]
     },
     "execution_count": 20,
     "metadata": {},
     "output_type": "execute_result"
    }
   ],
   "source": [
    "df_pricing_final.shape"
   ]
  },
  {
   "cell_type": "code",
   "execution_count": 21,
   "metadata": {
    "ExecuteTime": {
     "end_time": "2019-02-16T07:47:08.364726Z",
     "start_time": "2019-02-16T07:47:08.322366Z"
    }
   },
   "outputs": [
    {
     "data": {
      "text/html": [
       "<div>\n",
       "<style scoped>\n",
       "    .dataframe tbody tr th:only-of-type {\n",
       "        vertical-align: middle;\n",
       "    }\n",
       "\n",
       "    .dataframe tbody tr th {\n",
       "        vertical-align: top;\n",
       "    }\n",
       "\n",
       "    .dataframe thead th {\n",
       "        text-align: right;\n",
       "    }\n",
       "</style>\n",
       "<table border=\"1\" class=\"dataframe\">\n",
       "  <thead>\n",
       "    <tr style=\"text-align: right;\">\n",
       "      <th></th>\n",
       "      <th>id</th>\n",
       "      <th>bedrooms</th>\n",
       "      <th>cleaning_fee</th>\n",
       "      <th>room_type_Entire home/apt</th>\n",
       "      <th>reviews_per_month</th>\n",
       "      <th>city_San Francisco</th>\n",
       "      <th>city_Oakland</th>\n",
       "      <th>bathrooms</th>\n",
       "      <th>accommodates</th>\n",
       "      <th>number_of_reviews</th>\n",
       "      <th>...</th>\n",
       "      <th>neighbourhood_cleansed_Palo Alto</th>\n",
       "      <th>host_is_superhost_f</th>\n",
       "      <th>amenities_Lock on bedroom door</th>\n",
       "      <th>amenities_Private entrance</th>\n",
       "      <th>amenities_Familykid friendly</th>\n",
       "      <th>district_Santa Clara</th>\n",
       "      <th>neighbourhood_cleansed_San Jose</th>\n",
       "      <th>host_identity_verified_f</th>\n",
       "      <th>ref_district</th>\n",
       "      <th>ref_jurisdiction</th>\n",
       "    </tr>\n",
       "  </thead>\n",
       "  <tbody>\n",
       "    <tr>\n",
       "      <th>0</th>\n",
       "      <td>958</td>\n",
       "      <td>1.0</td>\n",
       "      <td>2.00000</td>\n",
       "      <td>1</td>\n",
       "      <td>1.38</td>\n",
       "      <td>1</td>\n",
       "      <td>0</td>\n",
       "      <td>1.0</td>\n",
       "      <td>3</td>\n",
       "      <td>152</td>\n",
       "      <td>...</td>\n",
       "      <td>0</td>\n",
       "      <td>0</td>\n",
       "      <td>0</td>\n",
       "      <td>1</td>\n",
       "      <td>1</td>\n",
       "      <td>0</td>\n",
       "      <td>0</td>\n",
       "      <td>0</td>\n",
       "      <td>San Francisco</td>\n",
       "      <td>SAN FRANCISCO</td>\n",
       "    </tr>\n",
       "    <tr>\n",
       "      <th>1</th>\n",
       "      <td>5858</td>\n",
       "      <td>2.0</td>\n",
       "      <td>2.00000</td>\n",
       "      <td>1</td>\n",
       "      <td>0.99</td>\n",
       "      <td>1</td>\n",
       "      <td>0</td>\n",
       "      <td>1.0</td>\n",
       "      <td>5</td>\n",
       "      <td>112</td>\n",
       "      <td>...</td>\n",
       "      <td>0</td>\n",
       "      <td>1</td>\n",
       "      <td>0</td>\n",
       "      <td>1</td>\n",
       "      <td>1</td>\n",
       "      <td>0</td>\n",
       "      <td>0</td>\n",
       "      <td>0</td>\n",
       "      <td>San Francisco</td>\n",
       "      <td>SAN FRANCISCO</td>\n",
       "    </tr>\n",
       "    <tr>\n",
       "      <th>2</th>\n",
       "      <td>7918</td>\n",
       "      <td>1.0</td>\n",
       "      <td>1.69897</td>\n",
       "      <td>0</td>\n",
       "      <td>0.16</td>\n",
       "      <td>1</td>\n",
       "      <td>0</td>\n",
       "      <td>4.0</td>\n",
       "      <td>2</td>\n",
       "      <td>17</td>\n",
       "      <td>...</td>\n",
       "      <td>0</td>\n",
       "      <td>1</td>\n",
       "      <td>1</td>\n",
       "      <td>1</td>\n",
       "      <td>0</td>\n",
       "      <td>0</td>\n",
       "      <td>0</td>\n",
       "      <td>0</td>\n",
       "      <td>San Francisco</td>\n",
       "      <td>SAN FRANCISCO</td>\n",
       "    </tr>\n",
       "    <tr>\n",
       "      <th>3</th>\n",
       "      <td>8142</td>\n",
       "      <td>1.0</td>\n",
       "      <td>1.69897</td>\n",
       "      <td>0</td>\n",
       "      <td>0.15</td>\n",
       "      <td>1</td>\n",
       "      <td>0</td>\n",
       "      <td>4.0</td>\n",
       "      <td>2</td>\n",
       "      <td>7</td>\n",
       "      <td>...</td>\n",
       "      <td>0</td>\n",
       "      <td>1</td>\n",
       "      <td>1</td>\n",
       "      <td>1</td>\n",
       "      <td>1</td>\n",
       "      <td>0</td>\n",
       "      <td>0</td>\n",
       "      <td>0</td>\n",
       "      <td>San Francisco</td>\n",
       "      <td>SAN FRANCISCO</td>\n",
       "    </tr>\n",
       "    <tr>\n",
       "      <th>4</th>\n",
       "      <td>8567</td>\n",
       "      <td>2.0</td>\n",
       "      <td>2.09691</td>\n",
       "      <td>1</td>\n",
       "      <td>0.27</td>\n",
       "      <td>1</td>\n",
       "      <td>0</td>\n",
       "      <td>1.0</td>\n",
       "      <td>6</td>\n",
       "      <td>30</td>\n",
       "      <td>...</td>\n",
       "      <td>0</td>\n",
       "      <td>1</td>\n",
       "      <td>0</td>\n",
       "      <td>0</td>\n",
       "      <td>1</td>\n",
       "      <td>0</td>\n",
       "      <td>0</td>\n",
       "      <td>1</td>\n",
       "      <td>San Francisco</td>\n",
       "      <td>SAN FRANCISCO</td>\n",
       "    </tr>\n",
       "  </tbody>\n",
       "</table>\n",
       "<p>5 rows × 33 columns</p>\n",
       "</div>"
      ],
      "text/plain": [
       "     id  bedrooms  cleaning_fee  room_type_Entire home/apt  reviews_per_month  \\\n",
       "0   958       1.0       2.00000                          1               1.38   \n",
       "1  5858       2.0       2.00000                          1               0.99   \n",
       "2  7918       1.0       1.69897                          0               0.16   \n",
       "3  8142       1.0       1.69897                          0               0.15   \n",
       "4  8567       2.0       2.09691                          1               0.27   \n",
       "\n",
       "   city_San Francisco  city_Oakland  bathrooms  accommodates  \\\n",
       "0                   1             0        1.0             3   \n",
       "1                   1             0        1.0             5   \n",
       "2                   1             0        4.0             2   \n",
       "3                   1             0        4.0             2   \n",
       "4                   1             0        1.0             6   \n",
       "\n",
       "   number_of_reviews        ...         neighbourhood_cleansed_Palo Alto  \\\n",
       "0                152        ...                                        0   \n",
       "1                112        ...                                        0   \n",
       "2                 17        ...                                        0   \n",
       "3                  7        ...                                        0   \n",
       "4                 30        ...                                        0   \n",
       "\n",
       "   host_is_superhost_f  amenities_Lock on bedroom door  \\\n",
       "0                    0                               0   \n",
       "1                    1                               0   \n",
       "2                    1                               1   \n",
       "3                    1                               1   \n",
       "4                    1                               0   \n",
       "\n",
       "   amenities_Private entrance  amenities_Familykid friendly  \\\n",
       "0                           1                             1   \n",
       "1                           1                             1   \n",
       "2                           1                             0   \n",
       "3                           1                             1   \n",
       "4                           0                             1   \n",
       "\n",
       "   district_Santa Clara  neighbourhood_cleansed_San Jose  \\\n",
       "0                     0                                0   \n",
       "1                     0                                0   \n",
       "2                     0                                0   \n",
       "3                     0                                0   \n",
       "4                     0                                0   \n",
       "\n",
       "   host_identity_verified_f   ref_district  ref_jurisdiction  \n",
       "0                         0  San Francisco     SAN FRANCISCO  \n",
       "1                         0  San Francisco     SAN FRANCISCO  \n",
       "2                         0  San Francisco     SAN FRANCISCO  \n",
       "3                         0  San Francisco     SAN FRANCISCO  \n",
       "4                         1  San Francisco     SAN FRANCISCO  \n",
       "\n",
       "[5 rows x 33 columns]"
      ]
     },
     "execution_count": 21,
     "metadata": {},
     "output_type": "execute_result"
    }
   ],
   "source": [
    "pkl_file = '/Users/xzhou/github/project_archives/files_airbnb/{}.pkl'\n",
    "\n",
    "pkl_path = pkl_file.format('listings_with_selected_features')\n",
    "\n",
    "df_listings_reviews = pd.read_pickle(pkl_path)\n",
    "df_listings_reviews.head()"
   ]
  },
  {
   "cell_type": "code",
   "execution_count": 22,
   "metadata": {
    "ExecuteTime": {
     "end_time": "2019-02-16T07:47:10.272627Z",
     "start_time": "2019-02-16T07:47:10.266869Z"
    }
   },
   "outputs": [
    {
     "data": {
      "text/plain": [
       "(10352, 33)"
      ]
     },
     "execution_count": 22,
     "metadata": {},
     "output_type": "execute_result"
    }
   ],
   "source": [
    "df_listings_reviews.shape"
   ]
  },
  {
   "cell_type": "code",
   "execution_count": 23,
   "metadata": {
    "ExecuteTime": {
     "end_time": "2019-02-16T07:47:16.310937Z",
     "start_time": "2019-02-16T07:47:13.938067Z"
    }
   },
   "outputs": [],
   "source": [
    "df_final = pd.merge(left=df_pricing_final, \n",
    "                    right=df_listings_reviews,\n",
    "                    how='inner',\n",
    "                    left_on='listing_id',\n",
    "                    right_on='id')"
   ]
  },
  {
   "cell_type": "code",
   "execution_count": 24,
   "metadata": {
    "ExecuteTime": {
     "end_time": "2019-02-16T07:47:21.011811Z",
     "start_time": "2019-02-16T07:47:21.006176Z"
    }
   },
   "outputs": [
    {
     "data": {
      "text/plain": [
       "(1721991, 56)"
      ]
     },
     "execution_count": 24,
     "metadata": {},
     "output_type": "execute_result"
    }
   ],
   "source": [
    "df_final.shape"
   ]
  },
  {
   "cell_type": "code",
   "execution_count": 25,
   "metadata": {
    "ExecuteTime": {
     "end_time": "2019-02-16T07:47:29.146421Z",
     "start_time": "2019-02-16T07:47:25.714195Z"
    }
   },
   "outputs": [
    {
     "data": {
      "text/plain": [
       "listing_id                                  0\n",
       "date                                        0\n",
       "available                                   0\n",
       "price                                       0\n",
       "Apr.                                        0\n",
       "Aug.                                        0\n",
       "Dec.                                        0\n",
       "Feb.                                        0\n",
       "Jan.                                        0\n",
       "Jul.                                        0\n",
       "Jun.                                        0\n",
       "Mar.                                        0\n",
       "May.                                        0\n",
       "Nov.                                        0\n",
       "Oct.                                        0\n",
       "Sep.                                        0\n",
       "Friday                                      0\n",
       "Monday                                      0\n",
       "Saturday                                    0\n",
       "Sunday                                      0\n",
       "Thursday                                    0\n",
       "Tuesday                                     0\n",
       "Wednesday                                   0\n",
       "id                                          0\n",
       "bedrooms                                    0\n",
       "cleaning_fee                                0\n",
       "room_type_Entire home/apt                   0\n",
       "reviews_per_month                           0\n",
       "city_San Francisco                          0\n",
       "city_Oakland                                0\n",
       "bathrooms                                   0\n",
       "accommodates                                0\n",
       "number_of_reviews                           0\n",
       "host_listings_count                         0\n",
       "review_scores_rating_log10                  0\n",
       "host_yrs                                    0\n",
       "guests_included                             0\n",
       "calculated_host_listings_count              0\n",
       "review_scores_location_log10                0\n",
       "beds                                        0\n",
       "yrs_since_first_review                      0\n",
       "host_response_rate                          0\n",
       "amenities_Air conditioning                  0\n",
       "review_scores_value_log10                   0\n",
       "jurisdiction_names_Santa Cruz County, CA    0\n",
       "amenities_Cable TV                          0\n",
       "neighbourhood_cleansed_Palo Alto            0\n",
       "host_is_superhost_f                         0\n",
       "amenities_Lock on bedroom door              0\n",
       "amenities_Private entrance                  0\n",
       "amenities_Familykid friendly                0\n",
       "district_Santa Clara                        0\n",
       "neighbourhood_cleansed_San Jose             0\n",
       "host_identity_verified_f                    0\n",
       "ref_district                                0\n",
       "ref_jurisdiction                            0\n",
       "dtype: int64"
      ]
     },
     "execution_count": 25,
     "metadata": {},
     "output_type": "execute_result"
    }
   ],
   "source": [
    "df_final.isnull().sum()"
   ]
  },
  {
   "cell_type": "code",
   "execution_count": 26,
   "metadata": {
    "ExecuteTime": {
     "end_time": "2019-02-16T07:47:33.350053Z",
     "start_time": "2019-02-16T07:47:33.343189Z"
    }
   },
   "outputs": [
    {
     "data": {
      "text/plain": [
       "(1721991, 56)"
      ]
     },
     "execution_count": 26,
     "metadata": {},
     "output_type": "execute_result"
    }
   ],
   "source": [
    "df_final.shape"
   ]
  },
  {
   "cell_type": "code",
   "execution_count": 27,
   "metadata": {
    "ExecuteTime": {
     "end_time": "2019-02-16T07:47:36.732213Z",
     "start_time": "2019-02-16T07:47:36.725104Z"
    }
   },
   "outputs": [
    {
     "data": {
      "text/plain": [
       "Index(['listing_id', 'date', 'available', 'price', 'Apr.', 'Aug.', 'Dec.',\n",
       "       'Feb.', 'Jan.', 'Jul.', 'Jun.', 'Mar.', 'May.', 'Nov.', 'Oct.', 'Sep.',\n",
       "       'Friday', 'Monday', 'Saturday', 'Sunday', 'Thursday', 'Tuesday',\n",
       "       'Wednesday', 'id', 'bedrooms', 'cleaning_fee',\n",
       "       'room_type_Entire home/apt', 'reviews_per_month', 'city_San Francisco',\n",
       "       'city_Oakland', 'bathrooms', 'accommodates', 'number_of_reviews',\n",
       "       'host_listings_count', 'review_scores_rating_log10', 'host_yrs',\n",
       "       'guests_included', 'calculated_host_listings_count',\n",
       "       'review_scores_location_log10', 'beds', 'yrs_since_first_review',\n",
       "       'host_response_rate', 'amenities_Air conditioning',\n",
       "       'review_scores_value_log10', 'jurisdiction_names_Santa Cruz County, CA',\n",
       "       'amenities_Cable TV', 'neighbourhood_cleansed_Palo Alto',\n",
       "       'host_is_superhost_f', 'amenities_Lock on bedroom door',\n",
       "       'amenities_Private entrance', 'amenities_Familykid friendly',\n",
       "       'district_Santa Clara', 'neighbourhood_cleansed_San Jose',\n",
       "       'host_identity_verified_f', 'ref_district', 'ref_jurisdiction'],\n",
       "      dtype='object')"
      ]
     },
     "execution_count": 27,
     "metadata": {},
     "output_type": "execute_result"
    }
   ],
   "source": [
    "df_final.columns"
   ]
  },
  {
   "cell_type": "code",
   "execution_count": 28,
   "metadata": {
    "ExecuteTime": {
     "end_time": "2019-02-16T07:47:43.951214Z",
     "start_time": "2019-02-16T07:47:43.156057Z"
    }
   },
   "outputs": [],
   "source": [
    "# Drop duplicate columns\n",
    "\n",
    "df_final.drop(['id'], axis=1, inplace=True)"
   ]
  },
  {
   "cell_type": "code",
   "execution_count": 29,
   "metadata": {
    "ExecuteTime": {
     "end_time": "2019-02-16T07:47:47.572552Z",
     "start_time": "2019-02-16T07:47:47.566937Z"
    }
   },
   "outputs": [
    {
     "data": {
      "text/plain": [
       "(1721991, 55)"
      ]
     },
     "execution_count": 29,
     "metadata": {},
     "output_type": "execute_result"
    }
   ],
   "source": [
    "df_final.shape"
   ]
  },
  {
   "cell_type": "code",
   "execution_count": 30,
   "metadata": {
    "ExecuteTime": {
     "end_time": "2019-02-16T07:47:59.985169Z",
     "start_time": "2019-02-16T07:47:50.863493Z"
    }
   },
   "outputs": [
    {
     "data": {
      "text/plain": [
       "['review_scores_value_log10']"
      ]
     },
     "execution_count": 30,
     "metadata": {},
     "output_type": "execute_result"
    }
   ],
   "source": [
    "# Create correlation matrix\n",
    "corr_matrix = df_final.corr().abs()\n",
    "\n",
    "# Select upper triangle of correlation matrix\n",
    "upper = corr_matrix.where(np.triu(np.ones(corr_matrix.shape), k=1).astype(np.bool))\n",
    "\n",
    "# Find index of feature columns with correlation greater than 0.90\n",
    "to_drop = [column for column in upper.columns if any(upper[column] > 0.90)]\n",
    "\n",
    "to_drop"
   ]
  },
  {
   "cell_type": "code",
   "execution_count": 31,
   "metadata": {
    "ExecuteTime": {
     "end_time": "2019-02-16T07:48:03.992432Z",
     "start_time": "2019-02-16T07:48:03.640556Z"
    }
   },
   "outputs": [],
   "source": [
    "# Drop features that have high correlation\n",
    "\n",
    "df_final.drop(to_drop, axis=1, inplace=True)"
   ]
  },
  {
   "cell_type": "code",
   "execution_count": 32,
   "metadata": {
    "ExecuteTime": {
     "end_time": "2019-02-16T07:48:07.740269Z",
     "start_time": "2019-02-16T07:48:07.734165Z"
    }
   },
   "outputs": [
    {
     "data": {
      "text/plain": [
       "(1721991, 54)"
      ]
     },
     "execution_count": 32,
     "metadata": {},
     "output_type": "execute_result"
    }
   ],
   "source": [
    "df_final.shape"
   ]
  },
  {
   "cell_type": "code",
   "execution_count": null,
   "metadata": {
    "ExecuteTime": {
     "end_time": "2019-02-16T07:32:20.939087Z",
     "start_time": "2019-02-16T07:32:20.849015Z"
    }
   },
   "outputs": [],
   "source": [
    "pkl_file = '/Users/xzhou/github/project_archives/files_airbnb/{}.pkl'\n",
    "pkl_path = pkl_file.format('listings_seasonality')\n",
    "\n",
    "with open(pkl_path, 'wb') as file:\n",
    "        pd.to_pickle(df_final, file)"
   ]
  },
  {
   "cell_type": "code",
   "execution_count": null,
   "metadata": {
    "ExecuteTime": {
     "end_time": "2018-09-17T22:15:16.184217Z",
     "start_time": "2018-09-17T22:15:16.030213Z"
    }
   },
   "outputs": [],
   "source": [
    "file_updated = True\n",
    "pkl_file = '/Users/xzhou/github/project_archives/files_airbnb/{}.pkl'\n",
    "pkl_path = pkl_file.format('listings_seasonality')\n",
    "\n",
    "\n",
    "if file_updated:\n",
    "    with open(pkl_path, 'wb') as file:\n",
    "        pd.to_pickle(df_final, file)\n",
    "else:\n",
    "    try: \n",
    "        with open(pkl_path, 'rb') as file:\n",
    "            df_final = pd.read_pickle(file)\n",
    "    except:\n",
    "        with open(pkl_path, 'wb') as file:\n",
    "            pd.to_pickle(df_final, file)"
   ]
  },
  {
   "cell_type": "code",
   "execution_count": 42,
   "metadata": {
    "ExecuteTime": {
     "end_time": "2019-02-16T07:51:14.499858Z",
     "start_time": "2019-02-16T07:51:14.046915Z"
    }
   },
   "outputs": [],
   "source": [
    "# Perform multiple modeling for price prediction\n",
    "\n",
    "X = df_final.drop(['price', 'date', 'available','ref_district', 'ref_jurisdiction'], axis=1)\n",
    "y = df_final.loc[:, ['listing_id', 'price']]"
   ]
  },
  {
   "cell_type": "code",
   "execution_count": 43,
   "metadata": {
    "ExecuteTime": {
     "end_time": "2019-02-16T07:51:21.439098Z",
     "start_time": "2019-02-16T07:51:20.184537Z"
    }
   },
   "outputs": [],
   "source": [
    "grp_by_listing_ids = df_final.groupby('listing_id').first().reset_index().listing_id"
   ]
  },
  {
   "cell_type": "code",
   "execution_count": 44,
   "metadata": {
    "ExecuteTime": {
     "end_time": "2019-02-16T07:51:27.547401Z",
     "start_time": "2019-02-16T07:51:27.542973Z"
    }
   },
   "outputs": [],
   "source": [
    "listing_ids = list (grp_by_listing_ids)"
   ]
  },
  {
   "cell_type": "code",
   "execution_count": 45,
   "metadata": {
    "ExecuteTime": {
     "end_time": "2019-02-16T07:51:33.173083Z",
     "start_time": "2019-02-16T07:51:33.163705Z"
    }
   },
   "outputs": [
    {
     "name": "stdout",
     "output_type": "stream",
     "text": [
      "7097\n"
     ]
    },
    {
     "data": {
      "text/plain": [
       "array([16327454, 13031597, 24202800, ..., 12432125, 17509000, 18614096])"
      ]
     },
     "execution_count": 45,
     "metadata": {},
     "output_type": "execute_result"
    }
   ],
   "source": [
    "num_of_grps = len(grp_by_listing_ids)\n",
    "\n",
    "training_ids = np.random.choice(listing_ids, int(num_of_grps*0.75), replace=False)\n",
    "print(len(training_ids))\n",
    "training_ids"
   ]
  },
  {
   "cell_type": "code",
   "execution_count": 46,
   "metadata": {
    "ExecuteTime": {
     "end_time": "2019-02-16T07:51:38.822931Z",
     "start_time": "2019-02-16T07:51:38.807263Z"
    }
   },
   "outputs": [
    {
     "data": {
      "text/plain": [
       "2366"
      ]
     },
     "execution_count": 46,
     "metadata": {},
     "output_type": "execute_result"
    }
   ],
   "source": [
    "testing_ids = set(grp_by_listing_ids) - set (training_ids)\n",
    "len(testing_ids)"
   ]
  },
  {
   "cell_type": "code",
   "execution_count": 47,
   "metadata": {
    "ExecuteTime": {
     "end_time": "2019-02-16T07:51:45.599694Z",
     "start_time": "2019-02-16T07:51:44.636313Z"
    }
   },
   "outputs": [
    {
     "name": "stdout",
     "output_type": "stream",
     "text": [
      "1288054 433937 1288054 433937\n"
     ]
    }
   ],
   "source": [
    "X_train = X[X['listing_id'].isin(training_ids)].drop('listing_id', axis=1)\n",
    "X_test = X[X['listing_id'].isin(testing_ids)].drop('listing_id', axis=1)\n",
    "y_train = y[y['listing_id'].isin(training_ids)].drop('listing_id', axis=1).values.ravel()\n",
    "y_test = y[y['listing_id'].isin(testing_ids)].drop('listing_id', axis=1).values.ravel()\n",
    "\n",
    "print(len(X_train), len(X_test), len(y_train), len(y_test))"
   ]
  },
  {
   "cell_type": "code",
   "execution_count": 48,
   "metadata": {
    "ExecuteTime": {
     "end_time": "2019-02-16T07:51:54.518811Z",
     "start_time": "2019-02-16T07:51:50.711872Z"
    }
   },
   "outputs": [],
   "source": [
    "ss = StandardScaler()\n",
    "X_train_trans = ss.fit_transform(X_train)\n",
    "X_test_trans = ss.transform (X_test)"
   ]
  },
  {
   "cell_type": "code",
   "execution_count": 49,
   "metadata": {
    "ExecuteTime": {
     "end_time": "2019-02-16T07:52:07.438286Z",
     "start_time": "2019-02-16T07:51:59.762819Z"
    }
   },
   "outputs": [
    {
     "data": {
      "text/html": [
       "<table class=\"simpletable\">\n",
       "<caption>OLS Regression Results</caption>\n",
       "<tr>\n",
       "  <th>Dep. Variable:</th>            <td>y</td>        <th>  R-squared:         </th>  <td>   0.598</td>  \n",
       "</tr>\n",
       "<tr>\n",
       "  <th>Model:</th>                   <td>OLS</td>       <th>  Adj. R-squared:    </th>  <td>   0.598</td>  \n",
       "</tr>\n",
       "<tr>\n",
       "  <th>Method:</th>             <td>Least Squares</td>  <th>  F-statistic:       </th>  <td>3.999e+04</td> \n",
       "</tr>\n",
       "<tr>\n",
       "  <th>Date:</th>             <td>Fri, 15 Feb 2019</td> <th>  Prob (F-statistic):</th>   <td>  0.00</td>   \n",
       "</tr>\n",
       "<tr>\n",
       "  <th>Time:</th>                 <td>23:52:06</td>     <th>  Log-Likelihood:    </th> <td>-7.1903e+06</td>\n",
       "</tr>\n",
       "<tr>\n",
       "  <th>No. Observations:</th>      <td>1288054</td>     <th>  AIC:               </th>  <td>1.438e+07</td> \n",
       "</tr>\n",
       "<tr>\n",
       "  <th>Df Residuals:</th>          <td>1288005</td>     <th>  BIC:               </th>  <td>1.438e+07</td> \n",
       "</tr>\n",
       "<tr>\n",
       "  <th>Df Model:</th>              <td>    48</td>      <th>                     </th>      <td> </td>     \n",
       "</tr>\n",
       "<tr>\n",
       "  <th>Covariance Type:</th>      <td>nonrobust</td>    <th>                     </th>      <td> </td>     \n",
       "</tr>\n",
       "</table>\n",
       "<table class=\"simpletable\">\n",
       "<tr>\n",
       "    <td></td>       <th>coef</th>     <th>std err</th>      <th>t</th>      <th>P>|t|</th>  <th>[0.025</th>    <th>0.975]</th>  \n",
       "</tr>\n",
       "<tr>\n",
       "  <th>const</th> <td>  159.6386</td> <td>    0.057</td> <td> 2817.985</td> <td> 0.000</td> <td>  159.528</td> <td>  159.750</td>\n",
       "</tr>\n",
       "<tr>\n",
       "  <th>x1</th>    <td> -4.29e+09</td> <td> 2.89e+10</td> <td>   -0.149</td> <td> 0.882</td> <td>-6.09e+10</td> <td> 5.23e+10</td>\n",
       "</tr>\n",
       "<tr>\n",
       "  <th>x2</th>    <td>-3.583e+09</td> <td> 2.41e+10</td> <td>   -0.149</td> <td> 0.882</td> <td>-5.08e+10</td> <td> 4.37e+10</td>\n",
       "</tr>\n",
       "<tr>\n",
       "  <th>x3</th>    <td>-4.716e+09</td> <td> 3.17e+10</td> <td>   -0.149</td> <td> 0.882</td> <td>-6.69e+10</td> <td> 5.75e+10</td>\n",
       "</tr>\n",
       "<tr>\n",
       "  <th>x4</th>    <td>  -4.3e+09</td> <td> 2.89e+10</td> <td>   -0.149</td> <td> 0.882</td> <td> -6.1e+10</td> <td> 5.24e+10</td>\n",
       "</tr>\n",
       "<tr>\n",
       "  <th>x5</th>    <td>-4.865e+09</td> <td> 3.27e+10</td> <td>   -0.149</td> <td> 0.882</td> <td> -6.9e+10</td> <td> 5.93e+10</td>\n",
       "</tr>\n",
       "<tr>\n",
       "  <th>x6</th>    <td>-4.191e+09</td> <td> 2.82e+10</td> <td>   -0.149</td> <td> 0.882</td> <td>-5.94e+10</td> <td> 5.11e+10</td>\n",
       "</tr>\n",
       "<tr>\n",
       "  <th>x7</th>    <td>  -4.1e+09</td> <td> 2.76e+10</td> <td>   -0.149</td> <td> 0.882</td> <td>-5.82e+10</td> <td>    5e+10</td>\n",
       "</tr>\n",
       "<tr>\n",
       "  <th>x8</th>    <td>-4.345e+09</td> <td> 2.92e+10</td> <td>   -0.149</td> <td> 0.882</td> <td>-6.16e+10</td> <td> 5.29e+10</td>\n",
       "</tr>\n",
       "<tr>\n",
       "  <th>x9</th>    <td>-4.235e+09</td> <td> 2.85e+10</td> <td>   -0.149</td> <td> 0.882</td> <td>-6.01e+10</td> <td> 5.16e+10</td>\n",
       "</tr>\n",
       "<tr>\n",
       "  <th>x10</th>   <td>-4.679e+09</td> <td> 3.15e+10</td> <td>   -0.149</td> <td> 0.882</td> <td>-6.64e+10</td> <td>  5.7e+10</td>\n",
       "</tr>\n",
       "<tr>\n",
       "  <th>x11</th>   <td>-4.685e+09</td> <td> 3.15e+10</td> <td>   -0.149</td> <td> 0.882</td> <td>-6.65e+10</td> <td> 5.71e+10</td>\n",
       "</tr>\n",
       "<tr>\n",
       "  <th>x12</th>   <td>-4.029e+09</td> <td> 2.71e+10</td> <td>   -0.149</td> <td> 0.882</td> <td>-5.72e+10</td> <td> 4.91e+10</td>\n",
       "</tr>\n",
       "<tr>\n",
       "  <th>x13</th>   <td>-9.125e+10</td> <td> 3.83e+11</td> <td>   -0.238</td> <td> 0.812</td> <td>-8.42e+11</td> <td>  6.6e+11</td>\n",
       "</tr>\n",
       "<tr>\n",
       "  <th>x14</th>   <td>-9.236e+10</td> <td> 3.88e+11</td> <td>   -0.238</td> <td> 0.812</td> <td>-8.52e+11</td> <td> 6.68e+11</td>\n",
       "</tr>\n",
       "<tr>\n",
       "  <th>x15</th>   <td>-9.109e+10</td> <td> 3.82e+11</td> <td>   -0.238</td> <td> 0.812</td> <td>-8.41e+11</td> <td> 6.59e+11</td>\n",
       "</tr>\n",
       "<tr>\n",
       "  <th>x16</th>   <td>-9.181e+10</td> <td> 3.85e+11</td> <td>   -0.238</td> <td> 0.812</td> <td>-8.47e+11</td> <td> 6.64e+11</td>\n",
       "</tr>\n",
       "<tr>\n",
       "  <th>x17</th>   <td>-9.175e+10</td> <td> 3.85e+11</td> <td>   -0.238</td> <td> 0.812</td> <td>-8.47e+11</td> <td> 6.63e+11</td>\n",
       "</tr>\n",
       "<tr>\n",
       "  <th>x18</th>   <td> -9.22e+10</td> <td> 3.87e+11</td> <td>   -0.238</td> <td> 0.812</td> <td>-8.51e+11</td> <td> 6.67e+11</td>\n",
       "</tr>\n",
       "<tr>\n",
       "  <th>x19</th>   <td>-9.197e+10</td> <td> 3.86e+11</td> <td>   -0.238</td> <td> 0.812</td> <td>-8.49e+11</td> <td> 6.65e+11</td>\n",
       "</tr>\n",
       "<tr>\n",
       "  <th>x20</th>   <td>   24.9587</td> <td>    0.097</td> <td>  258.098</td> <td> 0.000</td> <td>   24.769</td> <td>   25.148</td>\n",
       "</tr>\n",
       "<tr>\n",
       "  <th>x21</th>   <td>    8.7204</td> <td>    0.070</td> <td>  124.730</td> <td> 0.000</td> <td>    8.583</td> <td>    8.857</td>\n",
       "</tr>\n",
       "<tr>\n",
       "  <th>x22</th>   <td>   23.8970</td> <td>    0.078</td> <td>  306.560</td> <td> 0.000</td> <td>   23.744</td> <td>   24.050</td>\n",
       "</tr>\n",
       "<tr>\n",
       "  <th>x23</th>   <td>   -6.5713</td> <td>    0.095</td> <td>  -69.185</td> <td> 0.000</td> <td>   -6.757</td> <td>   -6.385</td>\n",
       "</tr>\n",
       "<tr>\n",
       "  <th>x24</th>   <td>   22.5663</td> <td>    0.348</td> <td>   64.881</td> <td> 0.000</td> <td>   21.885</td> <td>   23.248</td>\n",
       "</tr>\n",
       "<tr>\n",
       "  <th>x25</th>   <td>   -1.7973</td> <td>    0.250</td> <td>   -7.196</td> <td> 0.000</td> <td>   -2.287</td> <td>   -1.308</td>\n",
       "</tr>\n",
       "<tr>\n",
       "  <th>x26</th>   <td>    3.5621</td> <td>    0.067</td> <td>   53.322</td> <td> 0.000</td> <td>    3.431</td> <td>    3.693</td>\n",
       "</tr>\n",
       "<tr>\n",
       "  <th>x27</th>   <td>   30.3882</td> <td>    0.125</td> <td>  242.165</td> <td> 0.000</td> <td>   30.142</td> <td>   30.634</td>\n",
       "</tr>\n",
       "<tr>\n",
       "  <th>x28</th>   <td>   -2.3398</td> <td>    0.102</td> <td>  -22.830</td> <td> 0.000</td> <td>   -2.541</td> <td>   -2.139</td>\n",
       "</tr>\n",
       "<tr>\n",
       "  <th>x29</th>   <td>    5.4296</td> <td>    0.079</td> <td>   68.746</td> <td> 0.000</td> <td>    5.275</td> <td>    5.584</td>\n",
       "</tr>\n",
       "<tr>\n",
       "  <th>x30</th>   <td>   -4.0693</td> <td>    0.114</td> <td>  -35.713</td> <td> 0.000</td> <td>   -4.293</td> <td>   -3.846</td>\n",
       "</tr>\n",
       "<tr>\n",
       "  <th>x31</th>   <td>   -0.2759</td> <td>    0.073</td> <td>   -3.760</td> <td> 0.000</td> <td>   -0.420</td> <td>   -0.132</td>\n",
       "</tr>\n",
       "<tr>\n",
       "  <th>x32</th>   <td>    1.8303</td> <td>    0.072</td> <td>   25.567</td> <td> 0.000</td> <td>    1.690</td> <td>    1.971</td>\n",
       "</tr>\n",
       "<tr>\n",
       "  <th>x33</th>   <td>   -8.2803</td> <td>    0.081</td> <td> -102.356</td> <td> 0.000</td> <td>   -8.439</td> <td>   -8.122</td>\n",
       "</tr>\n",
       "<tr>\n",
       "  <th>x34</th>   <td>    7.3543</td> <td>    0.115</td> <td>   64.224</td> <td> 0.000</td> <td>    7.130</td> <td>    7.579</td>\n",
       "</tr>\n",
       "<tr>\n",
       "  <th>x35</th>   <td>   -3.6480</td> <td>    0.112</td> <td>  -32.544</td> <td> 0.000</td> <td>   -3.868</td> <td>   -3.428</td>\n",
       "</tr>\n",
       "<tr>\n",
       "  <th>x36</th>   <td>   -3.3694</td> <td>    0.092</td> <td>  -36.648</td> <td> 0.000</td> <td>   -3.550</td> <td>   -3.189</td>\n",
       "</tr>\n",
       "<tr>\n",
       "  <th>x37</th>   <td>    0.7387</td> <td>    0.059</td> <td>   12.545</td> <td> 0.000</td> <td>    0.623</td> <td>    0.854</td>\n",
       "</tr>\n",
       "<tr>\n",
       "  <th>x38</th>   <td>    8.5129</td> <td>    0.071</td> <td>  120.099</td> <td> 0.000</td> <td>    8.374</td> <td>    8.652</td>\n",
       "</tr>\n",
       "<tr>\n",
       "  <th>x39</th>   <td>   17.9771</td> <td>    0.234</td> <td>   76.832</td> <td> 0.000</td> <td>   17.518</td> <td>   18.436</td>\n",
       "</tr>\n",
       "<tr>\n",
       "  <th>x40</th>   <td>    5.1100</td> <td>    0.061</td> <td>   83.818</td> <td> 0.000</td> <td>    4.990</td> <td>    5.229</td>\n",
       "</tr>\n",
       "<tr>\n",
       "  <th>x41</th>   <td>    8.4836</td> <td>    0.068</td> <td>  125.668</td> <td> 0.000</td> <td>    8.351</td> <td>    8.616</td>\n",
       "</tr>\n",
       "<tr>\n",
       "  <th>x42</th>   <td>   -7.6100</td> <td>    0.063</td> <td> -121.475</td> <td> 0.000</td> <td>   -7.733</td> <td>   -7.487</td>\n",
       "</tr>\n",
       "<tr>\n",
       "  <th>x43</th>   <td>    0.1350</td> <td>    0.065</td> <td>    2.078</td> <td> 0.038</td> <td>    0.008</td> <td>    0.262</td>\n",
       "</tr>\n",
       "<tr>\n",
       "  <th>x44</th>   <td>    0.0345</td> <td>    0.062</td> <td>    0.552</td> <td> 0.581</td> <td>   -0.088</td> <td>    0.157</td>\n",
       "</tr>\n",
       "<tr>\n",
       "  <th>x45</th>   <td>    0.5371</td> <td>    0.063</td> <td>    8.549</td> <td> 0.000</td> <td>    0.414</td> <td>    0.660</td>\n",
       "</tr>\n",
       "<tr>\n",
       "  <th>x46</th>   <td>   -0.8312</td> <td>    0.338</td> <td>   -2.459</td> <td> 0.014</td> <td>   -1.494</td> <td>   -0.169</td>\n",
       "</tr>\n",
       "<tr>\n",
       "  <th>x47</th>   <td>   -0.3946</td> <td>    0.081</td> <td>   -4.880</td> <td> 0.000</td> <td>   -0.553</td> <td>   -0.236</td>\n",
       "</tr>\n",
       "<tr>\n",
       "  <th>x48</th>   <td>   -2.6967</td> <td>    0.063</td> <td>  -42.630</td> <td> 0.000</td> <td>   -2.821</td> <td>   -2.573</td>\n",
       "</tr>\n",
       "</table>\n",
       "<table class=\"simpletable\">\n",
       "<tr>\n",
       "  <th>Omnibus:</th>       <td>314736.816</td> <th>  Durbin-Watson:     </th>  <td>   0.056</td>  \n",
       "</tr>\n",
       "<tr>\n",
       "  <th>Prob(Omnibus):</th>   <td> 0.000</td>   <th>  Jarque-Bera (JB):  </th> <td>1160312.117</td>\n",
       "</tr>\n",
       "<tr>\n",
       "  <th>Skew:</th>            <td> 1.195</td>   <th>  Prob(JB):          </th>  <td>    0.00</td>  \n",
       "</tr>\n",
       "<tr>\n",
       "  <th>Kurtosis:</th>        <td> 6.988</td>   <th>  Cond. No.          </th>  <td>3.68e+13</td>  \n",
       "</tr>\n",
       "</table><br/><br/>Warnings:<br/>[1] Standard Errors assume that the covariance matrix of the errors is correctly specified.<br/>[2] The smallest eigenvalue is 3.98e-21. This might indicate that there are<br/>strong multicollinearity problems or that the design matrix is singular."
      ],
      "text/plain": [
       "<class 'statsmodels.iolib.summary.Summary'>\n",
       "\"\"\"\n",
       "                            OLS Regression Results                            \n",
       "==============================================================================\n",
       "Dep. Variable:                      y   R-squared:                       0.598\n",
       "Model:                            OLS   Adj. R-squared:                  0.598\n",
       "Method:                 Least Squares   F-statistic:                 3.999e+04\n",
       "Date:                Fri, 15 Feb 2019   Prob (F-statistic):               0.00\n",
       "Time:                        23:52:06   Log-Likelihood:            -7.1903e+06\n",
       "No. Observations:             1288054   AIC:                         1.438e+07\n",
       "Df Residuals:                 1288005   BIC:                         1.438e+07\n",
       "Df Model:                          48                                         \n",
       "Covariance Type:            nonrobust                                         \n",
       "==============================================================================\n",
       "                 coef    std err          t      P>|t|      [0.025      0.975]\n",
       "------------------------------------------------------------------------------\n",
       "const        159.6386      0.057   2817.985      0.000     159.528     159.750\n",
       "x1          -4.29e+09   2.89e+10     -0.149      0.882   -6.09e+10    5.23e+10\n",
       "x2         -3.583e+09   2.41e+10     -0.149      0.882   -5.08e+10    4.37e+10\n",
       "x3         -4.716e+09   3.17e+10     -0.149      0.882   -6.69e+10    5.75e+10\n",
       "x4           -4.3e+09   2.89e+10     -0.149      0.882    -6.1e+10    5.24e+10\n",
       "x5         -4.865e+09   3.27e+10     -0.149      0.882    -6.9e+10    5.93e+10\n",
       "x6         -4.191e+09   2.82e+10     -0.149      0.882   -5.94e+10    5.11e+10\n",
       "x7           -4.1e+09   2.76e+10     -0.149      0.882   -5.82e+10       5e+10\n",
       "x8         -4.345e+09   2.92e+10     -0.149      0.882   -6.16e+10    5.29e+10\n",
       "x9         -4.235e+09   2.85e+10     -0.149      0.882   -6.01e+10    5.16e+10\n",
       "x10        -4.679e+09   3.15e+10     -0.149      0.882   -6.64e+10     5.7e+10\n",
       "x11        -4.685e+09   3.15e+10     -0.149      0.882   -6.65e+10    5.71e+10\n",
       "x12        -4.029e+09   2.71e+10     -0.149      0.882   -5.72e+10    4.91e+10\n",
       "x13        -9.125e+10   3.83e+11     -0.238      0.812   -8.42e+11     6.6e+11\n",
       "x14        -9.236e+10   3.88e+11     -0.238      0.812   -8.52e+11    6.68e+11\n",
       "x15        -9.109e+10   3.82e+11     -0.238      0.812   -8.41e+11    6.59e+11\n",
       "x16        -9.181e+10   3.85e+11     -0.238      0.812   -8.47e+11    6.64e+11\n",
       "x17        -9.175e+10   3.85e+11     -0.238      0.812   -8.47e+11    6.63e+11\n",
       "x18         -9.22e+10   3.87e+11     -0.238      0.812   -8.51e+11    6.67e+11\n",
       "x19        -9.197e+10   3.86e+11     -0.238      0.812   -8.49e+11    6.65e+11\n",
       "x20           24.9587      0.097    258.098      0.000      24.769      25.148\n",
       "x21            8.7204      0.070    124.730      0.000       8.583       8.857\n",
       "x22           23.8970      0.078    306.560      0.000      23.744      24.050\n",
       "x23           -6.5713      0.095    -69.185      0.000      -6.757      -6.385\n",
       "x24           22.5663      0.348     64.881      0.000      21.885      23.248\n",
       "x25           -1.7973      0.250     -7.196      0.000      -2.287      -1.308\n",
       "x26            3.5621      0.067     53.322      0.000       3.431       3.693\n",
       "x27           30.3882      0.125    242.165      0.000      30.142      30.634\n",
       "x28           -2.3398      0.102    -22.830      0.000      -2.541      -2.139\n",
       "x29            5.4296      0.079     68.746      0.000       5.275       5.584\n",
       "x30           -4.0693      0.114    -35.713      0.000      -4.293      -3.846\n",
       "x31           -0.2759      0.073     -3.760      0.000      -0.420      -0.132\n",
       "x32            1.8303      0.072     25.567      0.000       1.690       1.971\n",
       "x33           -8.2803      0.081   -102.356      0.000      -8.439      -8.122\n",
       "x34            7.3543      0.115     64.224      0.000       7.130       7.579\n",
       "x35           -3.6480      0.112    -32.544      0.000      -3.868      -3.428\n",
       "x36           -3.3694      0.092    -36.648      0.000      -3.550      -3.189\n",
       "x37            0.7387      0.059     12.545      0.000       0.623       0.854\n",
       "x38            8.5129      0.071    120.099      0.000       8.374       8.652\n",
       "x39           17.9771      0.234     76.832      0.000      17.518      18.436\n",
       "x40            5.1100      0.061     83.818      0.000       4.990       5.229\n",
       "x41            8.4836      0.068    125.668      0.000       8.351       8.616\n",
       "x42           -7.6100      0.063   -121.475      0.000      -7.733      -7.487\n",
       "x43            0.1350      0.065      2.078      0.038       0.008       0.262\n",
       "x44            0.0345      0.062      0.552      0.581      -0.088       0.157\n",
       "x45            0.5371      0.063      8.549      0.000       0.414       0.660\n",
       "x46           -0.8312      0.338     -2.459      0.014      -1.494      -0.169\n",
       "x47           -0.3946      0.081     -4.880      0.000      -0.553      -0.236\n",
       "x48           -2.6967      0.063    -42.630      0.000      -2.821      -2.573\n",
       "==============================================================================\n",
       "Omnibus:                   314736.816   Durbin-Watson:                   0.056\n",
       "Prob(Omnibus):                  0.000   Jarque-Bera (JB):          1160312.117\n",
       "Skew:                           1.195   Prob(JB):                         0.00\n",
       "Kurtosis:                       6.988   Cond. No.                     3.68e+13\n",
       "==============================================================================\n",
       "\n",
       "Warnings:\n",
       "[1] Standard Errors assume that the covariance matrix of the errors is correctly specified.\n",
       "[2] The smallest eigenvalue is 3.98e-21. This might indicate that there are\n",
       "strong multicollinearity problems or that the design matrix is singular.\n",
       "\"\"\""
      ]
     },
     "execution_count": 49,
     "metadata": {},
     "output_type": "execute_result"
    }
   ],
   "source": [
    "# Model-LR\n",
    "\n",
    "model=sm.OLS(y_train, sm.add_constant(X_train_trans))\n",
    "fit=model.fit()\n",
    "fit.summary()"
   ]
  },
  {
   "cell_type": "code",
   "execution_count": null,
   "metadata": {
    "ExecuteTime": {
     "start_time": "2019-02-16T08:03:49.680Z"
    }
   },
   "outputs": [],
   "source": [
    "# Model-Random Forest\n",
    "\n",
    "rf = RandomForestRegressor(n_estimators=50, \n",
    "                           criterion='mse', \n",
    "                           random_state=42, \n",
    "                           n_jobs=-1)\n",
    "rf.fit(X_train_trans, y_train.ravel())\n",
    "\n",
    "y_train_pred = rf.predict(X_train_trans)\n",
    "y_test_pred = rf.predict(X_test_trans)\n",
    "\n",
    "print('MSE train: %.3f, test: %.3f' % (\n",
    "        mean_squared_error(y_train, y_train_pred),\n",
    "        mean_squared_error(y_test, y_test_pred)))\n",
    "print('R^2 train: %.3f, test: %.3f' % (\n",
    "        r2_score(y_train, y_train_pred),\n",
    "        r2_score(y_test, y_test_pred)))"
   ]
  },
  {
   "cell_type": "code",
   "execution_count": null,
   "metadata": {
    "ExecuteTime": {
     "end_time": "2018-09-19T23:43:19.559412Z",
     "start_time": "2018-09-19T23:43:19.553602Z"
    }
   },
   "outputs": [],
   "source": [
    "RMSE = 1043.202**0.5\n",
    "RMSE"
   ]
  },
  {
   "cell_type": "code",
   "execution_count": null,
   "metadata": {
    "ExecuteTime": {
     "end_time": "2018-09-17T22:18:53.730289Z",
     "start_time": "2018-09-17T22:18:53.719404Z"
    }
   },
   "outputs": [],
   "source": [
    "df_final.listing_id.nunique()"
   ]
  },
  {
   "cell_type": "code",
   "execution_count": null,
   "metadata": {
    "ExecuteTime": {
     "end_time": "2018-09-17T22:18:56.294686Z",
     "start_time": "2018-09-17T22:18:56.269275Z"
    }
   },
   "outputs": [],
   "source": [
    "# Double check on price range. The range is as expected\n",
    "\n",
    "y.describe(include='all')"
   ]
  },
  {
   "cell_type": "code",
   "execution_count": null,
   "metadata": {
    "ExecuteTime": {
     "end_time": "2018-09-17T22:19:00.246519Z",
     "start_time": "2018-09-17T22:19:00.133934Z"
    }
   },
   "outputs": [],
   "source": [
    "# Map feature importance with labels\n",
    "\n",
    "feature_labels = X.columns\n",
    "feature_tuples = zip (feature_labels, rf.feature_importances_)\n",
    "feature_lists = [list(feature_tuple) for feature_tuple in feature_tuples]"
   ]
  },
  {
   "cell_type": "code",
   "execution_count": null,
   "metadata": {
    "ExecuteTime": {
     "end_time": "2018-09-17T22:19:03.088950Z",
     "start_time": "2018-09-17T22:19:03.070937Z"
    }
   },
   "outputs": [],
   "source": [
    "# Order features based on importance\n",
    "\n",
    "feature_lists.sort(key=lambda x: abs(x[1]), reverse=True)\n",
    "feature_lists"
   ]
  },
  {
   "cell_type": "code",
   "execution_count": null,
   "metadata": {
    "ExecuteTime": {
     "end_time": "2018-09-17T22:19:05.609546Z",
     "start_time": "2018-09-17T22:19:05.601585Z"
    }
   },
   "outputs": [],
   "source": [
    "features = [list_[0] for list_ in feature_lists]\n",
    "features"
   ]
  },
  {
   "cell_type": "code",
   "execution_count": null,
   "metadata": {
    "ExecuteTime": {
     "end_time": "2018-09-17T22:19:08.887821Z",
     "start_time": "2018-09-17T22:19:08.882994Z"
    }
   },
   "outputs": [],
   "source": [
    "columns =['listing_id']\n",
    "columns.extend(features)\n",
    "columns.extend(['ref_district', 'ref_jurisdiction', 'price_by_month_week'])"
   ]
  },
  {
   "cell_type": "code",
   "execution_count": null,
   "metadata": {
    "ExecuteTime": {
     "end_time": "2018-09-17T22:38:50.477720Z",
     "start_time": "2018-09-17T22:38:50.197772Z"
    }
   },
   "outputs": [],
   "source": [
    "df_data = df_final[columns]\n",
    "df_data.head()"
   ]
  },
  {
   "cell_type": "code",
   "execution_count": null,
   "metadata": {
    "ExecuteTime": {
     "end_time": "2018-09-17T22:38:53.449764Z",
     "start_time": "2018-09-17T22:38:53.442621Z"
    }
   },
   "outputs": [],
   "source": [
    "df_data.shape"
   ]
  },
  {
   "cell_type": "code",
   "execution_count": null,
   "metadata": {
    "ExecuteTime": {
     "end_time": "2018-09-17T22:38:56.566129Z",
     "start_time": "2018-09-17T22:38:56.288147Z"
    }
   },
   "outputs": [],
   "source": [
    "df_data.rename(columns={'price_by_month_week':'price'}, inplace=True)"
   ]
  },
  {
   "cell_type": "code",
   "execution_count": null,
   "metadata": {
    "ExecuteTime": {
     "end_time": "2018-09-17T22:38:59.578990Z",
     "start_time": "2018-09-17T22:38:59.287780Z"
    }
   },
   "outputs": [],
   "source": [
    "df_data.isnull().sum()"
   ]
  },
  {
   "cell_type": "code",
   "execution_count": null,
   "metadata": {
    "ExecuteTime": {
     "end_time": "2018-09-17T22:47:55.787349Z",
     "start_time": "2018-09-17T22:47:38.185171Z"
    },
    "scrolled": false
   },
   "outputs": [],
   "source": [
    "temp_df = df_data[['Monday', 'Tuesday', 'Wednesday', 'Thursday', 'Friday', 'Saturday', 'Sunday']].copy()\n",
    "\n",
    "days = temp_df.apply(lambda x: x.idxmax(), axis=1)\n",
    "days"
   ]
  },
  {
   "cell_type": "code",
   "execution_count": null,
   "metadata": {
    "ExecuteTime": {
     "end_time": "2018-09-17T22:12:55.258059Z",
     "start_time": "2018-09-17T22:12:27.019Z"
    }
   },
   "outputs": [],
   "source": [
    "csv_file = '/Users/xzhou/github/project_archives/files_airbnb/{}.csv'\n",
    "\n",
    "csv_path = csv_file.format('airbnb_data')\n",
    "\n",
    "df_data.to_csv(csv_path)"
   ]
  },
  {
   "cell_type": "code",
   "execution_count": null,
   "metadata": {},
   "outputs": [],
   "source": []
  },
  {
   "cell_type": "code",
   "execution_count": null,
   "metadata": {
    "ExecuteTime": {
     "end_time": "2019-02-16T06:17:06.744029Z",
     "start_time": "2019-02-16T06:17:06.527886Z"
    }
   },
   "outputs": [],
   "source": [
    "# This is to create visual to show seasonality\n",
    "\n",
    "df_visual = pd.merge(left=df_pricing_by_month_weekday, \n",
    "                    right=df_listings_reviews,\n",
    "                    how='inner',\n",
    "                    left_on='listing_id',\n",
    "                    right_on='id')"
   ]
  },
  {
   "cell_type": "code",
   "execution_count": null,
   "metadata": {
    "ExecuteTime": {
     "end_time": "2019-02-16T06:17:07.585839Z",
     "start_time": "2019-02-16T06:17:07.580166Z"
    }
   },
   "outputs": [],
   "source": [
    "df_visual.shape"
   ]
  },
  {
   "cell_type": "code",
   "execution_count": null,
   "metadata": {
    "ExecuteTime": {
     "end_time": "2019-02-16T06:17:08.338245Z",
     "start_time": "2019-02-16T06:17:08.332513Z"
    }
   },
   "outputs": [],
   "source": [
    "df_visual.columns"
   ]
  },
  {
   "cell_type": "code",
   "execution_count": null,
   "metadata": {},
   "outputs": [],
   "source": []
  },
  {
   "cell_type": "code",
   "execution_count": null,
   "metadata": {
    "ExecuteTime": {
     "end_time": "2019-02-16T06:17:15.308923Z",
     "start_time": "2019-02-16T06:17:15.045878Z"
    }
   },
   "outputs": [],
   "source": [
    "df_visual_entire_apartment = df_visual[df_visual['room_type_Entire home/apt']==1 ]\n",
    "df_visual_single_room = df_visual[df_visual['room_type_Entire home/apt']!=1 ]\n",
    "\n",
    "print(df_visual_entire_apartment.shape, df_visual_single_room.shape )"
   ]
  },
  {
   "cell_type": "code",
   "execution_count": null,
   "metadata": {
    "ExecuteTime": {
     "end_time": "2019-02-16T06:17:15.881772Z",
     "start_time": "2019-02-16T06:17:15.873422Z"
    }
   },
   "outputs": [],
   "source": [
    "df_visual_entire_apartment.ref_district.describe"
   ]
  },
  {
   "cell_type": "code",
   "execution_count": null,
   "metadata": {
    "ExecuteTime": {
     "end_time": "2019-02-16T06:17:18.344646Z",
     "start_time": "2019-02-16T06:17:18.297939Z"
    }
   },
   "outputs": [],
   "source": [
    "df_visual_entire_apartment_sf = df_visual_entire_apartment[df_visual_entire_apartment['ref_district']=='San Francisco']\n",
    "df_visual_entire_apartment_scz = df_visual_entire_apartment[df_visual_entire_apartment['ref_district']=='Santa Clara']\n",
    "\n",
    "print(df_visual_entire_apartment_sf.shape, df_visual_entire_apartment_scz.shape )"
   ]
  },
  {
   "cell_type": "code",
   "execution_count": null,
   "metadata": {
    "ExecuteTime": {
     "end_time": "2019-02-16T06:17:19.184677Z",
     "start_time": "2019-02-16T06:17:19.177815Z"
    }
   },
   "outputs": [],
   "source": [
    "df_visual_entire_apartment_sf.id.nunique()"
   ]
  },
  {
   "cell_type": "code",
   "execution_count": null,
   "metadata": {
    "ExecuteTime": {
     "end_time": "2019-02-16T06:17:19.951679Z",
     "start_time": "2019-02-16T06:17:19.945768Z"
    }
   },
   "outputs": [],
   "source": [
    "df_visual_entire_apartment_scz.id.nunique()"
   ]
  },
  {
   "cell_type": "code",
   "execution_count": null,
   "metadata": {
    "ExecuteTime": {
     "end_time": "2019-02-16T06:17:21.157330Z",
     "start_time": "2019-02-16T06:17:21.129605Z"
    }
   },
   "outputs": [],
   "source": [
    "# Weekly pattern for entire apartment\n",
    "\n",
    "df_week_entire_apartment = df_visual_entire_apartment.groupby(['ref_district', 'day_of_week'])  \\\n",
    "                                                     .price_by_month_week.mean()\n",
    "df_week_entire_apartment"
   ]
  },
  {
   "cell_type": "code",
   "execution_count": null,
   "metadata": {
    "ExecuteTime": {
     "end_time": "2019-02-16T06:17:28.799186Z",
     "start_time": "2019-02-16T06:17:28.775249Z"
    }
   },
   "outputs": [],
   "source": [
    "# Weekly pattern for single room\n",
    "\n",
    "df_week_single_room = df_visual_single_room.groupby(['ref_district', 'day_of_week'])  \\\n",
    "                                           .price_by_month_week.mean()\n",
    "df_week_single_room"
   ]
  },
  {
   "cell_type": "code",
   "execution_count": null,
   "metadata": {
    "ExecuteTime": {
     "end_time": "2019-02-16T06:17:38.353352Z",
     "start_time": "2019-02-16T06:17:38.324980Z"
    }
   },
   "outputs": [],
   "source": [
    "# Montly Pattern for entire apartment\n",
    "\n",
    "df_visual_entire_apartment.groupby(['ref_district', 'month']).price_by_month_week.mean()"
   ]
  },
  {
   "cell_type": "code",
   "execution_count": null,
   "metadata": {
    "ExecuteTime": {
     "end_time": "2019-02-16T06:17:40.819982Z",
     "start_time": "2019-02-16T06:17:40.796677Z"
    }
   },
   "outputs": [],
   "source": [
    "# Montly Pattern for single room\n",
    "\n",
    "df_visual_single_room.groupby(['ref_district', 'month']).price_by_month_week.mean()"
   ]
  }
 ],
 "metadata": {
  "kernelspec": {
   "display_name": "Python 3",
   "language": "python",
   "name": "python3"
  },
  "language_info": {
   "codemirror_mode": {
    "name": "ipython",
    "version": 3
   },
   "file_extension": ".py",
   "mimetype": "text/x-python",
   "name": "python",
   "nbconvert_exporter": "python",
   "pygments_lexer": "ipython3",
   "version": "3.6.6"
  },
  "toc": {
   "base_numbering": 1,
   "nav_menu": {},
   "number_sections": true,
   "sideBar": true,
   "skip_h1_title": false,
   "title_cell": "Table of Contents",
   "title_sidebar": "Contents",
   "toc_cell": false,
   "toc_position": {},
   "toc_section_display": true,
   "toc_window_display": true
  },
  "varInspector": {
   "cols": {
    "lenName": 16,
    "lenType": 16,
    "lenVar": 40
   },
   "kernels_config": {
    "python": {
     "delete_cmd_postfix": "",
     "delete_cmd_prefix": "del ",
     "library": "var_list.py",
     "varRefreshCmd": "print(var_dic_list())"
    },
    "r": {
     "delete_cmd_postfix": ") ",
     "delete_cmd_prefix": "rm(",
     "library": "var_list.r",
     "varRefreshCmd": "cat(var_dic_list()) "
    }
   },
   "types_to_exclude": [
    "module",
    "function",
    "builtin_function_or_method",
    "instance",
    "_Feature"
   ],
   "window_display": false
  }
 },
 "nbformat": 4,
 "nbformat_minor": 2
}
