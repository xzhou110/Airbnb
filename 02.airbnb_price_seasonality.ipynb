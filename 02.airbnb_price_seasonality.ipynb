{
 "cells": [
  {
   "cell_type": "markdown",
   "metadata": {},
   "source": [
    "# Data Retrieval"
   ]
  },
  {
   "cell_type": "code",
   "execution_count": 1,
   "metadata": {
    "ExecuteTime": {
     "end_time": "2019-02-16T06:37:59.875349Z",
     "start_time": "2019-02-16T06:37:57.846286Z"
    }
   },
   "outputs": [],
   "source": [
    "import pandas as pd\n",
    "import csv\n",
    "import re\n",
    "import statsmodels.api as sm\n",
    "from datetime import datetime\n",
    "import matplotlib.pyplot as plt\n",
    "import numpy as np\n",
    "\n",
    "from sklearn import datasets, linear_model\n",
    "from sklearn.metrics import mean_squared_error, r2_score\n",
    "from sklearn.preprocessing import StandardScaler\n",
    "from sklearn.model_selection import train_test_split, GroupShuffleSplit\n",
    "from sklearn.ensemble import RandomForestRegressor"
   ]
  },
  {
   "cell_type": "code",
   "execution_count": 2,
   "metadata": {
    "ExecuteTime": {
     "end_time": "2019-02-16T06:38:00.577059Z",
     "start_time": "2019-02-16T06:38:00.573343Z"
    }
   },
   "outputs": [],
   "source": [
    "# File path for cities: San Francisco(sf), \n",
    "# Okaland(ok), Santa Clara(sc), Santa Cruze(scz)\n",
    "\n",
    "file_url = '/Users/xzhou/github/project_archives/files_airbnb/{}/calendar.csv'\n",
    "\n",
    "sf_file = file_url.format('sf_airbnb')\n",
    "ok_file = file_url.format('ok_airbnb')\n",
    "sc_file = file_url.format('sc_airbnb')\n",
    "scz_file = file_url.format('scz_airbnb')"
   ]
  },
  {
   "cell_type": "code",
   "execution_count": 3,
   "metadata": {
    "ExecuteTime": {
     "end_time": "2019-02-16T06:38:07.433692Z",
     "start_time": "2019-02-16T06:38:01.725144Z"
    }
   },
   "outputs": [
    {
     "name": "stdout",
     "output_type": "stream",
     "text": [
      "(2420680, 4) (1057770, 4) (2068820, 4) (573050, 4)\n"
     ]
    }
   ],
   "source": [
    "# Loaded price by date information for each city\n",
    "\n",
    "pricing_sf = pd.read_csv(sf_file, parse_dates=['date'])\n",
    "pricing_ok = pd.read_csv(ok_file, parse_dates=['date'])\n",
    "pricing_sc = pd.read_csv(sc_file, parse_dates=['date'])\n",
    "pricing_scz = pd.read_csv(scz_file, parse_dates=['date'])\n",
    "\n",
    "print(pricing_sf.shape, pricing_ok.shape, pricing_sc.shape, pricing_scz.shape)"
   ]
  },
  {
   "cell_type": "code",
   "execution_count": 4,
   "metadata": {
    "ExecuteTime": {
     "end_time": "2019-02-16T06:38:09.903297Z",
     "start_time": "2019-02-16T06:38:07.594436Z"
    }
   },
   "outputs": [
    {
     "data": {
      "text/html": [
       "<div>\n",
       "<style scoped>\n",
       "    .dataframe tbody tr th:only-of-type {\n",
       "        vertical-align: middle;\n",
       "    }\n",
       "\n",
       "    .dataframe tbody tr th {\n",
       "        vertical-align: top;\n",
       "    }\n",
       "\n",
       "    .dataframe thead th {\n",
       "        text-align: right;\n",
       "    }\n",
       "</style>\n",
       "<table border=\"1\" class=\"dataframe\">\n",
       "  <thead>\n",
       "    <tr style=\"text-align: right;\">\n",
       "      <th></th>\n",
       "      <th></th>\n",
       "      <th>listing_id</th>\n",
       "      <th>date</th>\n",
       "      <th>available</th>\n",
       "      <th>price</th>\n",
       "    </tr>\n",
       "  </thead>\n",
       "  <tbody>\n",
       "    <tr>\n",
       "      <th rowspan=\"10\" valign=\"top\">pricing_sf</th>\n",
       "      <th>0</th>\n",
       "      <td>958</td>\n",
       "      <td>2019-08-05</td>\n",
       "      <td>f</td>\n",
       "      <td>NaN</td>\n",
       "    </tr>\n",
       "    <tr>\n",
       "      <th>1</th>\n",
       "      <td>958</td>\n",
       "      <td>2019-08-04</td>\n",
       "      <td>f</td>\n",
       "      <td>NaN</td>\n",
       "    </tr>\n",
       "    <tr>\n",
       "      <th>2</th>\n",
       "      <td>958</td>\n",
       "      <td>2019-08-03</td>\n",
       "      <td>f</td>\n",
       "      <td>NaN</td>\n",
       "    </tr>\n",
       "    <tr>\n",
       "      <th>3</th>\n",
       "      <td>958</td>\n",
       "      <td>2019-08-02</td>\n",
       "      <td>f</td>\n",
       "      <td>NaN</td>\n",
       "    </tr>\n",
       "    <tr>\n",
       "      <th>4</th>\n",
       "      <td>958</td>\n",
       "      <td>2019-08-01</td>\n",
       "      <td>f</td>\n",
       "      <td>NaN</td>\n",
       "    </tr>\n",
       "    <tr>\n",
       "      <th>5</th>\n",
       "      <td>958</td>\n",
       "      <td>2019-07-31</td>\n",
       "      <td>f</td>\n",
       "      <td>NaN</td>\n",
       "    </tr>\n",
       "    <tr>\n",
       "      <th>6</th>\n",
       "      <td>958</td>\n",
       "      <td>2019-07-30</td>\n",
       "      <td>f</td>\n",
       "      <td>NaN</td>\n",
       "    </tr>\n",
       "    <tr>\n",
       "      <th>7</th>\n",
       "      <td>958</td>\n",
       "      <td>2019-07-29</td>\n",
       "      <td>f</td>\n",
       "      <td>NaN</td>\n",
       "    </tr>\n",
       "    <tr>\n",
       "      <th>8</th>\n",
       "      <td>958</td>\n",
       "      <td>2019-07-28</td>\n",
       "      <td>f</td>\n",
       "      <td>NaN</td>\n",
       "    </tr>\n",
       "    <tr>\n",
       "      <th>9</th>\n",
       "      <td>958</td>\n",
       "      <td>2019-07-27</td>\n",
       "      <td>f</td>\n",
       "      <td>NaN</td>\n",
       "    </tr>\n",
       "  </tbody>\n",
       "</table>\n",
       "</div>"
      ],
      "text/plain": [
       "              listing_id       date available price\n",
       "pricing_sf 0         958 2019-08-05         f   NaN\n",
       "           1         958 2019-08-04         f   NaN\n",
       "           2         958 2019-08-03         f   NaN\n",
       "           3         958 2019-08-02         f   NaN\n",
       "           4         958 2019-08-01         f   NaN\n",
       "           5         958 2019-07-31         f   NaN\n",
       "           6         958 2019-07-30         f   NaN\n",
       "           7         958 2019-07-29         f   NaN\n",
       "           8         958 2019-07-28         f   NaN\n",
       "           9         958 2019-07-27         f   NaN"
      ]
     },
     "execution_count": 4,
     "metadata": {},
     "output_type": "execute_result"
    }
   ],
   "source": [
    "# Concatenate four files into one\n",
    "# Created keys for each file for future references\n",
    "\n",
    "frames = [pricing_sf, pricing_ok, pricing_sc, pricing_scz]\n",
    "keys = ['pricing_sf', 'pricing_ok', 'pricing_sc', 'pricing_scz']\n",
    "\n",
    "df_pricing = pd.concat(frames, keys=keys)\n",
    "\n",
    "df_pricing.head(10)"
   ]
  },
  {
   "cell_type": "markdown",
   "metadata": {},
   "source": [
    "# Data Clean up"
   ]
  },
  {
   "cell_type": "markdown",
   "metadata": {
    "ExecuteTime": {
     "end_time": "2019-02-16T06:04:55.761610Z",
     "start_time": "2019-02-16T06:04:55.757951Z"
    }
   },
   "source": [
    "## Filter down to data with pricing information"
   ]
  },
  {
   "cell_type": "code",
   "execution_count": 7,
   "metadata": {
    "ExecuteTime": {
     "end_time": "2019-02-16T06:39:10.616007Z",
     "start_time": "2019-02-16T06:39:09.922101Z"
    }
   },
   "outputs": [
    {
     "name": "stdout",
     "output_type": "stream",
     "text": [
      "Dimension for df_pricing_smaller:  (2853357, 4)\n",
      "\n",
      "Number of Unique ids:  14770\n"
     ]
    }
   ],
   "source": [
    "# Filter to houses that are available and have listing prices\n",
    "\n",
    "df_pricing_smaller = df_pricing[df_pricing['available']=='t']\n",
    "df_pricing_smaller = df_pricing_smaller.copy()\n",
    "\n",
    "print('Dimension for df_pricing_smaller: ', df_pricing_smaller.shape)\n",
    "print ('\\nNumber of Unique ids: ', df_pricing_smaller.listing_id.nunique())"
   ]
  },
  {
   "cell_type": "code",
   "execution_count": 8,
   "metadata": {
    "ExecuteTime": {
     "end_time": "2019-02-16T06:39:11.319305Z",
     "start_time": "2019-02-16T06:39:11.313065Z"
    }
   },
   "outputs": [
    {
     "data": {
      "text/plain": [
       "Index(['listing_id', 'date', 'available', 'price'], dtype='object')"
      ]
     },
     "execution_count": 8,
     "metadata": {},
     "output_type": "execute_result"
    }
   ],
   "source": [
    "df_pricing_smaller.columns"
   ]
  },
  {
   "cell_type": "code",
   "execution_count": 9,
   "metadata": {
    "ExecuteTime": {
     "end_time": "2019-02-16T06:39:12.675877Z",
     "start_time": "2019-02-16T06:39:12.601211Z"
    }
   },
   "outputs": [
    {
     "data": {
      "text/plain": [
       "count                 2853357\n",
       "unique                    389\n",
       "top       2018-11-03 00:00:00\n",
       "freq                    10393\n",
       "first     2018-08-06 00:00:00\n",
       "last      2019-08-29 00:00:00\n",
       "Name: date, dtype: object"
      ]
     },
     "metadata": {},
     "output_type": "display_data"
    }
   ],
   "source": [
    "display( df_pricing_smaller.date.describe(include='all'))"
   ]
  },
  {
   "cell_type": "markdown",
   "metadata": {},
   "source": [
    "## Format Conversion and Outlier Removal"
   ]
  },
  {
   "cell_type": "code",
   "execution_count": 11,
   "metadata": {
    "ExecuteTime": {
     "end_time": "2019-02-16T06:39:48.655134Z",
     "start_time": "2019-02-16T06:39:48.651488Z"
    }
   },
   "outputs": [],
   "source": [
    "# Noted currencies are formated as strings and need to convert to float\n",
    "\n",
    "def currency2float(string):\n",
    "    \"\"\"\n",
    "    Convert currency to float\n",
    "    \"\"\"\n",
    "    float_ = float(str(string).strip('$').replace(',',''))\n",
    "    return float_"
   ]
  },
  {
   "cell_type": "code",
   "execution_count": 12,
   "metadata": {
    "ExecuteTime": {
     "end_time": "2019-02-16T06:39:56.408566Z",
     "start_time": "2019-02-16T06:39:53.282869Z"
    }
   },
   "outputs": [],
   "source": [
    "# Converted price to float format\n",
    "\n",
    "df_pricing_smaller['price'] = df_pricing_smaller['price'].apply(\n",
    "                              lambda x: currency2float(x))"
   ]
  },
  {
   "cell_type": "code",
   "execution_count": 17,
   "metadata": {
    "ExecuteTime": {
     "end_time": "2019-02-16T06:44:55.088350Z",
     "start_time": "2019-02-16T06:44:54.885582Z"
    }
   },
   "outputs": [
    {
     "name": "stdout",
     "output_type": "stream",
     "text": [
      "df_pricing_smaller dimensions:  (1931274, 4)\n"
     ]
    }
   ],
   "source": [
    "# Removed outliers based on 'price'. Use 5% and 95% percentiles as cutoff\n",
    "\n",
    "five_percentile = np.percentile(df_pricing_smaller.price, 5)\n",
    "ninety_five_percentile = np.percentile(df_pricing_smaller.price, 95)\n",
    "\n",
    "df_pricing_smaller = df_pricing_smaller[(\n",
    "                         df_pricing_smaller.price>=five_percentile)\n",
    "                        & (df_pricing_smaller.price<=ninety_five_percentile)]\n",
    "\n",
    "print ('df_pricing_smaller dimensions: ', df_pricing_smaller.shape)"
   ]
  },
  {
   "cell_type": "markdown",
   "metadata": {
    "ExecuteTime": {
     "end_time": "2019-02-16T06:10:40.512514Z",
     "start_time": "2019-02-16T06:10:40.509754Z"
    }
   },
   "source": [
    "## Filter Data"
   ]
  },
  {
   "cell_type": "code",
   "execution_count": 18,
   "metadata": {
    "ExecuteTime": {
     "end_time": "2019-02-16T06:45:08.302253Z",
     "start_time": "2019-02-16T06:45:07.957411Z"
    }
   },
   "outputs": [
    {
     "name": "stdout",
     "output_type": "stream",
     "text": [
      "df_pricing_smaller dimensions (1931274, 6)\n"
     ]
    },
    {
     "data": {
      "text/html": [
       "<div>\n",
       "<style scoped>\n",
       "    .dataframe tbody tr th:only-of-type {\n",
       "        vertical-align: middle;\n",
       "    }\n",
       "\n",
       "    .dataframe tbody tr th {\n",
       "        vertical-align: top;\n",
       "    }\n",
       "\n",
       "    .dataframe thead th {\n",
       "        text-align: right;\n",
       "    }\n",
       "</style>\n",
       "<table border=\"1\" class=\"dataframe\">\n",
       "  <thead>\n",
       "    <tr style=\"text-align: right;\">\n",
       "      <th></th>\n",
       "      <th></th>\n",
       "      <th>listing_id</th>\n",
       "      <th>date</th>\n",
       "      <th>available</th>\n",
       "      <th>price</th>\n",
       "      <th>month</th>\n",
       "      <th>day_of_week</th>\n",
       "    </tr>\n",
       "  </thead>\n",
       "  <tbody>\n",
       "    <tr>\n",
       "      <th rowspan=\"5\" valign=\"top\">pricing_sf</th>\n",
       "      <th>63</th>\n",
       "      <td>958</td>\n",
       "      <td>2019-05-02</td>\n",
       "      <td>t</td>\n",
       "      <td>181.0</td>\n",
       "      <td>5</td>\n",
       "      <td>3</td>\n",
       "    </tr>\n",
       "    <tr>\n",
       "      <th>64</th>\n",
       "      <td>958</td>\n",
       "      <td>2019-05-01</td>\n",
       "      <td>t</td>\n",
       "      <td>181.0</td>\n",
       "      <td>5</td>\n",
       "      <td>2</td>\n",
       "    </tr>\n",
       "    <tr>\n",
       "      <th>65</th>\n",
       "      <td>958</td>\n",
       "      <td>2019-04-30</td>\n",
       "      <td>t</td>\n",
       "      <td>181.0</td>\n",
       "      <td>4</td>\n",
       "      <td>1</td>\n",
       "    </tr>\n",
       "    <tr>\n",
       "      <th>66</th>\n",
       "      <td>958</td>\n",
       "      <td>2019-04-29</td>\n",
       "      <td>t</td>\n",
       "      <td>181.0</td>\n",
       "      <td>4</td>\n",
       "      <td>0</td>\n",
       "    </tr>\n",
       "    <tr>\n",
       "      <th>67</th>\n",
       "      <td>958</td>\n",
       "      <td>2019-04-28</td>\n",
       "      <td>t</td>\n",
       "      <td>181.0</td>\n",
       "      <td>4</td>\n",
       "      <td>6</td>\n",
       "    </tr>\n",
       "  </tbody>\n",
       "</table>\n",
       "</div>"
      ],
      "text/plain": [
       "               listing_id       date available  price  month  day_of_week\n",
       "pricing_sf 63         958 2019-05-02         t  181.0      5            3\n",
       "           64         958 2019-05-01         t  181.0      5            2\n",
       "           65         958 2019-04-30         t  181.0      4            1\n",
       "           66         958 2019-04-29         t  181.0      4            0\n",
       "           67         958 2019-04-28         t  181.0      4            6"
      ]
     },
     "metadata": {},
     "output_type": "display_data"
    }
   ],
   "source": [
    "# Added 'month' column to extract of month of date\n",
    "# Added 'day_of_week' column to extact day of week. \n",
    "# Default format: Monday=0, ..., Sunday=6\n",
    "\n",
    "df_pricing_smaller['month'] = df_pricing_smaller['date'].dt.month\n",
    "df_pricing_smaller['day_of_week'] = df_pricing_smaller['date'].dt.weekday\n",
    "\n",
    "\n",
    "print('df_pricing_smaller dimensions', df_pricing_smaller.shape)\n",
    "display(df_pricing_smaller.head())"
   ]
  },
  {
   "cell_type": "code",
   "execution_count": 19,
   "metadata": {
    "ExecuteTime": {
     "end_time": "2019-02-16T06:45:14.872540Z",
     "start_time": "2019-02-16T06:45:14.221150Z"
    }
   },
   "outputs": [
    {
     "data": {
      "text/html": [
       "<div>\n",
       "<style scoped>\n",
       "    .dataframe tbody tr th:only-of-type {\n",
       "        vertical-align: middle;\n",
       "    }\n",
       "\n",
       "    .dataframe tbody tr th {\n",
       "        vertical-align: top;\n",
       "    }\n",
       "\n",
       "    .dataframe thead th {\n",
       "        text-align: right;\n",
       "    }\n",
       "</style>\n",
       "<table border=\"1\" class=\"dataframe\">\n",
       "  <thead>\n",
       "    <tr style=\"text-align: right;\">\n",
       "      <th></th>\n",
       "      <th>listing_id</th>\n",
       "      <th>date</th>\n",
       "      <th>available</th>\n",
       "      <th>price</th>\n",
       "      <th>month</th>\n",
       "      <th>day_of_week</th>\n",
       "    </tr>\n",
       "  </thead>\n",
       "  <tbody>\n",
       "    <tr>\n",
       "      <th>count</th>\n",
       "      <td>1.931274e+06</td>\n",
       "      <td>1931274</td>\n",
       "      <td>1931274</td>\n",
       "      <td>1.931274e+06</td>\n",
       "      <td>1.931274e+06</td>\n",
       "      <td>1.931274e+06</td>\n",
       "    </tr>\n",
       "    <tr>\n",
       "      <th>unique</th>\n",
       "      <td>NaN</td>\n",
       "      <td>389</td>\n",
       "      <td>1</td>\n",
       "      <td>NaN</td>\n",
       "      <td>NaN</td>\n",
       "      <td>NaN</td>\n",
       "    </tr>\n",
       "    <tr>\n",
       "      <th>top</th>\n",
       "      <td>NaN</td>\n",
       "      <td>2018-11-03 00:00:00</td>\n",
       "      <td>t</td>\n",
       "      <td>NaN</td>\n",
       "      <td>NaN</td>\n",
       "      <td>NaN</td>\n",
       "    </tr>\n",
       "    <tr>\n",
       "      <th>freq</th>\n",
       "      <td>NaN</td>\n",
       "      <td>7096</td>\n",
       "      <td>1931274</td>\n",
       "      <td>NaN</td>\n",
       "      <td>NaN</td>\n",
       "      <td>NaN</td>\n",
       "    </tr>\n",
       "    <tr>\n",
       "      <th>first</th>\n",
       "      <td>NaN</td>\n",
       "      <td>2018-08-06 00:00:00</td>\n",
       "      <td>NaN</td>\n",
       "      <td>NaN</td>\n",
       "      <td>NaN</td>\n",
       "      <td>NaN</td>\n",
       "    </tr>\n",
       "    <tr>\n",
       "      <th>last</th>\n",
       "      <td>NaN</td>\n",
       "      <td>2019-08-29 00:00:00</td>\n",
       "      <td>NaN</td>\n",
       "      <td>NaN</td>\n",
       "      <td>NaN</td>\n",
       "      <td>NaN</td>\n",
       "    </tr>\n",
       "    <tr>\n",
       "      <th>mean</th>\n",
       "      <td>1.389968e+07</td>\n",
       "      <td>NaN</td>\n",
       "      <td>NaN</td>\n",
       "      <td>1.433284e+02</td>\n",
       "      <td>6.550739e+00</td>\n",
       "      <td>2.986810e+00</td>\n",
       "    </tr>\n",
       "    <tr>\n",
       "      <th>std</th>\n",
       "      <td>8.724262e+06</td>\n",
       "      <td>NaN</td>\n",
       "      <td>NaN</td>\n",
       "      <td>5.813113e+01</td>\n",
       "      <td>3.647660e+00</td>\n",
       "      <td>2.003891e+00</td>\n",
       "    </tr>\n",
       "    <tr>\n",
       "      <th>min</th>\n",
       "      <td>9.580000e+02</td>\n",
       "      <td>NaN</td>\n",
       "      <td>NaN</td>\n",
       "      <td>6.500000e+01</td>\n",
       "      <td>1.000000e+00</td>\n",
       "      <td>0.000000e+00</td>\n",
       "    </tr>\n",
       "    <tr>\n",
       "      <th>25%</th>\n",
       "      <td>5.914638e+06</td>\n",
       "      <td>NaN</td>\n",
       "      <td>NaN</td>\n",
       "      <td>9.400000e+01</td>\n",
       "      <td>3.000000e+00</td>\n",
       "      <td>1.000000e+00</td>\n",
       "    </tr>\n",
       "    <tr>\n",
       "      <th>50%</th>\n",
       "      <td>1.460646e+07</td>\n",
       "      <td>NaN</td>\n",
       "      <td>NaN</td>\n",
       "      <td>1.310000e+02</td>\n",
       "      <td>7.000000e+00</td>\n",
       "      <td>3.000000e+00</td>\n",
       "    </tr>\n",
       "    <tr>\n",
       "      <th>75%</th>\n",
       "      <td>2.173651e+07</td>\n",
       "      <td>NaN</td>\n",
       "      <td>NaN</td>\n",
       "      <td>1.860000e+02</td>\n",
       "      <td>1.000000e+01</td>\n",
       "      <td>5.000000e+00</td>\n",
       "    </tr>\n",
       "    <tr>\n",
       "      <th>max</th>\n",
       "      <td>2.815247e+07</td>\n",
       "      <td>NaN</td>\n",
       "      <td>NaN</td>\n",
       "      <td>2.890000e+02</td>\n",
       "      <td>1.200000e+01</td>\n",
       "      <td>6.000000e+00</td>\n",
       "    </tr>\n",
       "  </tbody>\n",
       "</table>\n",
       "</div>"
      ],
      "text/plain": [
       "          listing_id                 date available         price  \\\n",
       "count   1.931274e+06              1931274   1931274  1.931274e+06   \n",
       "unique           NaN                  389         1           NaN   \n",
       "top              NaN  2018-11-03 00:00:00         t           NaN   \n",
       "freq             NaN                 7096   1931274           NaN   \n",
       "first            NaN  2018-08-06 00:00:00       NaN           NaN   \n",
       "last             NaN  2019-08-29 00:00:00       NaN           NaN   \n",
       "mean    1.389968e+07                  NaN       NaN  1.433284e+02   \n",
       "std     8.724262e+06                  NaN       NaN  5.813113e+01   \n",
       "min     9.580000e+02                  NaN       NaN  6.500000e+01   \n",
       "25%     5.914638e+06                  NaN       NaN  9.400000e+01   \n",
       "50%     1.460646e+07                  NaN       NaN  1.310000e+02   \n",
       "75%     2.173651e+07                  NaN       NaN  1.860000e+02   \n",
       "max     2.815247e+07                  NaN       NaN  2.890000e+02   \n",
       "\n",
       "               month   day_of_week  \n",
       "count   1.931274e+06  1.931274e+06  \n",
       "unique           NaN           NaN  \n",
       "top              NaN           NaN  \n",
       "freq             NaN           NaN  \n",
       "first            NaN           NaN  \n",
       "last             NaN           NaN  \n",
       "mean    6.550739e+00  2.986810e+00  \n",
       "std     3.647660e+00  2.003891e+00  \n",
       "min     1.000000e+00  0.000000e+00  \n",
       "25%     3.000000e+00  1.000000e+00  \n",
       "50%     7.000000e+00  3.000000e+00  \n",
       "75%     1.000000e+01  5.000000e+00  \n",
       "max     1.200000e+01  6.000000e+00  "
      ]
     },
     "metadata": {},
     "output_type": "display_data"
    }
   ],
   "source": [
    "display(df_pricing_smaller.describe(include ='all'))"
   ]
  },
  {
   "cell_type": "code",
   "execution_count": 69,
   "metadata": {
    "ExecuteTime": {
     "end_time": "2019-02-16T07:11:42.303703Z",
     "start_time": "2019-02-16T07:11:41.753359Z"
    }
   },
   "outputs": [
    {
     "data": {
      "text/html": [
       "<div>\n",
       "<style scoped>\n",
       "    .dataframe tbody tr th:only-of-type {\n",
       "        vertical-align: middle;\n",
       "    }\n",
       "\n",
       "    .dataframe tbody tr th {\n",
       "        vertical-align: top;\n",
       "    }\n",
       "\n",
       "    .dataframe thead th {\n",
       "        text-align: right;\n",
       "    }\n",
       "</style>\n",
       "<table border=\"1\" class=\"dataframe\">\n",
       "  <thead>\n",
       "    <tr style=\"text-align: right;\">\n",
       "      <th></th>\n",
       "      <th>listing_id</th>\n",
       "      <th>month</th>\n",
       "      <th>day_of_week</th>\n",
       "      <th>price</th>\n",
       "    </tr>\n",
       "  </thead>\n",
       "  <tbody>\n",
       "    <tr>\n",
       "      <th>0</th>\n",
       "      <td>958</td>\n",
       "      <td>1</td>\n",
       "      <td>0</td>\n",
       "      <td>180.0</td>\n",
       "    </tr>\n",
       "    <tr>\n",
       "      <th>1</th>\n",
       "      <td>958</td>\n",
       "      <td>1</td>\n",
       "      <td>1</td>\n",
       "      <td>179.5</td>\n",
       "    </tr>\n",
       "    <tr>\n",
       "      <th>2</th>\n",
       "      <td>958</td>\n",
       "      <td>1</td>\n",
       "      <td>2</td>\n",
       "      <td>179.5</td>\n",
       "    </tr>\n",
       "    <tr>\n",
       "      <th>3</th>\n",
       "      <td>958</td>\n",
       "      <td>1</td>\n",
       "      <td>3</td>\n",
       "      <td>179.0</td>\n",
       "    </tr>\n",
       "    <tr>\n",
       "      <th>4</th>\n",
       "      <td>958</td>\n",
       "      <td>1</td>\n",
       "      <td>4</td>\n",
       "      <td>183.0</td>\n",
       "    </tr>\n",
       "  </tbody>\n",
       "</table>\n",
       "</div>"
      ],
      "text/plain": [
       "   listing_id  month  day_of_week  price\n",
       "0         958      1            0  180.0\n",
       "1         958      1            1  179.5\n",
       "2         958      1            2  179.5\n",
       "3         958      1            3  179.0\n",
       "4         958      1            4  183.0"
      ]
     },
     "execution_count": 69,
     "metadata": {},
     "output_type": "execute_result"
    }
   ],
   "source": [
    "df_by_month_day = df_pricing_smaller.groupby(['listing_id', 'month', 'day_of_week'])  \\\n",
    "                                    .price.mean()  \\\n",
    "                                    .reset_index()\n",
    "df_by_month_day.head()"
   ]
  },
  {
   "cell_type": "code",
   "execution_count": 80,
   "metadata": {
    "ExecuteTime": {
     "end_time": "2019-02-16T07:26:13.465169Z",
     "start_time": "2019-02-16T07:26:13.431591Z"
    }
   },
   "outputs": [
    {
     "data": {
      "text/html": [
       "<div>\n",
       "<style scoped>\n",
       "    .dataframe tbody tr th:only-of-type {\n",
       "        vertical-align: middle;\n",
       "    }\n",
       "\n",
       "    .dataframe tbody tr th {\n",
       "        vertical-align: top;\n",
       "    }\n",
       "\n",
       "    .dataframe thead th {\n",
       "        text-align: right;\n",
       "    }\n",
       "</style>\n",
       "<table border=\"1\" class=\"dataframe\">\n",
       "  <thead>\n",
       "    <tr style=\"text-align: right;\">\n",
       "      <th></th>\n",
       "      <th>listing_id</th>\n",
       "      <th>counts</th>\n",
       "    </tr>\n",
       "  </thead>\n",
       "  <tbody>\n",
       "    <tr>\n",
       "      <th>0</th>\n",
       "      <td>958</td>\n",
       "      <td>48</td>\n",
       "    </tr>\n",
       "    <tr>\n",
       "      <th>1</th>\n",
       "      <td>3083</td>\n",
       "      <td>28</td>\n",
       "    </tr>\n",
       "    <tr>\n",
       "      <th>2</th>\n",
       "      <td>5739</td>\n",
       "      <td>12</td>\n",
       "    </tr>\n",
       "    <tr>\n",
       "      <th>3</th>\n",
       "      <td>5858</td>\n",
       "      <td>84</td>\n",
       "    </tr>\n",
       "    <tr>\n",
       "      <th>4</th>\n",
       "      <td>7918</td>\n",
       "      <td>63</td>\n",
       "    </tr>\n",
       "  </tbody>\n",
       "</table>\n",
       "</div>"
      ],
      "text/plain": [
       "   listing_id  counts\n",
       "0         958      48\n",
       "1        3083      28\n",
       "2        5739      12\n",
       "3        5858      84\n",
       "4        7918      63"
      ]
     },
     "execution_count": 80,
     "metadata": {},
     "output_type": "execute_result"
    }
   ],
   "source": [
    "df_month_day_counts = df_by_month_day.groupby(['listing_id'])  \\\n",
    "                                     .price.count()  \\\n",
    "                                 .reset_index()\n",
    "df_month_day_counts.rename(columns = {'price':'counts'}, inplace=True)\n",
    "df_month_day_counts.head()"
   ]
  },
  {
   "cell_type": "code",
   "execution_count": 81,
   "metadata": {
    "ExecuteTime": {
     "end_time": "2019-02-16T07:26:28.545195Z",
     "start_time": "2019-02-16T07:26:28.539247Z"
    }
   },
   "outputs": [],
   "source": [
    "# Find out listings that have full price information (12 months and 7 days/week)\n",
    "\n",
    "listing_with_12m_7d_price = list(df_month_day_counts[\n",
    "                                df_month_day_counts.counts==12*7]\n",
    "                                .listing_id)"
   ]
  },
  {
   "cell_type": "code",
   "execution_count": 83,
   "metadata": {
    "ExecuteTime": {
     "end_time": "2019-02-16T07:26:35.799012Z",
     "start_time": "2019-02-16T07:26:35.513532Z"
    }
   },
   "outputs": [
    {
     "data": {
      "text/plain": [
       "(655132, 6)"
      ]
     },
     "execution_count": 83,
     "metadata": {},
     "output_type": "execute_result"
    }
   ],
   "source": [
    "df_pricing_available = df_pricing_smaller[df_pricing_smaller.listing_id.isin(\n",
    "                                          listing_with_12m_7d_price)]\n",
    "df_pricing_available.shape"
   ]
  },
  {
   "cell_type": "code",
   "execution_count": 85,
   "metadata": {
    "ExecuteTime": {
     "end_time": "2019-02-16T07:27:15.110138Z",
     "start_time": "2019-02-16T07:27:14.777887Z"
    }
   },
   "outputs": [
    {
     "data": {
      "text/html": [
       "<div>\n",
       "<style scoped>\n",
       "    .dataframe tbody tr th:only-of-type {\n",
       "        vertical-align: middle;\n",
       "    }\n",
       "\n",
       "    .dataframe tbody tr th {\n",
       "        vertical-align: top;\n",
       "    }\n",
       "\n",
       "    .dataframe thead th {\n",
       "        text-align: right;\n",
       "    }\n",
       "</style>\n",
       "<table border=\"1\" class=\"dataframe\">\n",
       "  <thead>\n",
       "    <tr style=\"text-align: right;\">\n",
       "      <th></th>\n",
       "      <th>listing_id</th>\n",
       "      <th>date</th>\n",
       "      <th>available</th>\n",
       "      <th>price</th>\n",
       "      <th>month</th>\n",
       "      <th>day_of_week</th>\n",
       "    </tr>\n",
       "  </thead>\n",
       "  <tbody>\n",
       "    <tr>\n",
       "      <th>count</th>\n",
       "      <td>6.551320e+05</td>\n",
       "      <td>655132</td>\n",
       "      <td>655132</td>\n",
       "      <td>655132.000000</td>\n",
       "      <td>655132.000000</td>\n",
       "      <td>655132.000000</td>\n",
       "    </tr>\n",
       "    <tr>\n",
       "      <th>unique</th>\n",
       "      <td>NaN</td>\n",
       "      <td>389</td>\n",
       "      <td>1</td>\n",
       "      <td>NaN</td>\n",
       "      <td>NaN</td>\n",
       "      <td>NaN</td>\n",
       "    </tr>\n",
       "    <tr>\n",
       "      <th>top</th>\n",
       "      <td>NaN</td>\n",
       "      <td>2019-05-06 00:00:00</td>\n",
       "      <td>t</td>\n",
       "      <td>NaN</td>\n",
       "      <td>NaN</td>\n",
       "      <td>NaN</td>\n",
       "    </tr>\n",
       "    <tr>\n",
       "      <th>freq</th>\n",
       "      <td>NaN</td>\n",
       "      <td>1883</td>\n",
       "      <td>655132</td>\n",
       "      <td>NaN</td>\n",
       "      <td>NaN</td>\n",
       "      <td>NaN</td>\n",
       "    </tr>\n",
       "    <tr>\n",
       "      <th>first</th>\n",
       "      <td>NaN</td>\n",
       "      <td>2018-08-06 00:00:00</td>\n",
       "      <td>NaN</td>\n",
       "      <td>NaN</td>\n",
       "      <td>NaN</td>\n",
       "      <td>NaN</td>\n",
       "    </tr>\n",
       "    <tr>\n",
       "      <th>last</th>\n",
       "      <td>NaN</td>\n",
       "      <td>2019-08-29 00:00:00</td>\n",
       "      <td>NaN</td>\n",
       "      <td>NaN</td>\n",
       "      <td>NaN</td>\n",
       "      <td>NaN</td>\n",
       "    </tr>\n",
       "    <tr>\n",
       "      <th>mean</th>\n",
       "      <td>1.362489e+07</td>\n",
       "      <td>NaN</td>\n",
       "      <td>NaN</td>\n",
       "      <td>139.006151</td>\n",
       "      <td>6.426778</td>\n",
       "      <td>2.993769</td>\n",
       "    </tr>\n",
       "    <tr>\n",
       "      <th>std</th>\n",
       "      <td>8.822227e+06</td>\n",
       "      <td>NaN</td>\n",
       "      <td>NaN</td>\n",
       "      <td>55.700680</td>\n",
       "      <td>3.488229</td>\n",
       "      <td>2.003698</td>\n",
       "    </tr>\n",
       "    <tr>\n",
       "      <th>min</th>\n",
       "      <td>5.858000e+03</td>\n",
       "      <td>NaN</td>\n",
       "      <td>NaN</td>\n",
       "      <td>65.000000</td>\n",
       "      <td>1.000000</td>\n",
       "      <td>0.000000</td>\n",
       "    </tr>\n",
       "    <tr>\n",
       "      <th>25%</th>\n",
       "      <td>5.721902e+06</td>\n",
       "      <td>NaN</td>\n",
       "      <td>NaN</td>\n",
       "      <td>90.000000</td>\n",
       "      <td>3.000000</td>\n",
       "      <td>1.000000</td>\n",
       "    </tr>\n",
       "    <tr>\n",
       "      <th>50%</th>\n",
       "      <td>1.341834e+07</td>\n",
       "      <td>NaN</td>\n",
       "      <td>NaN</td>\n",
       "      <td>128.000000</td>\n",
       "      <td>6.000000</td>\n",
       "      <td>3.000000</td>\n",
       "    </tr>\n",
       "    <tr>\n",
       "      <th>75%</th>\n",
       "      <td>2.173730e+07</td>\n",
       "      <td>NaN</td>\n",
       "      <td>NaN</td>\n",
       "      <td>179.000000</td>\n",
       "      <td>10.000000</td>\n",
       "      <td>5.000000</td>\n",
       "    </tr>\n",
       "    <tr>\n",
       "      <th>max</th>\n",
       "      <td>2.815247e+07</td>\n",
       "      <td>NaN</td>\n",
       "      <td>NaN</td>\n",
       "      <td>289.000000</td>\n",
       "      <td>12.000000</td>\n",
       "      <td>6.000000</td>\n",
       "    </tr>\n",
       "  </tbody>\n",
       "</table>\n",
       "</div>"
      ],
      "text/plain": [
       "          listing_id                 date available          price  \\\n",
       "count   6.551320e+05               655132    655132  655132.000000   \n",
       "unique           NaN                  389         1            NaN   \n",
       "top              NaN  2019-05-06 00:00:00         t            NaN   \n",
       "freq             NaN                 1883    655132            NaN   \n",
       "first            NaN  2018-08-06 00:00:00       NaN            NaN   \n",
       "last             NaN  2019-08-29 00:00:00       NaN            NaN   \n",
       "mean    1.362489e+07                  NaN       NaN     139.006151   \n",
       "std     8.822227e+06                  NaN       NaN      55.700680   \n",
       "min     5.858000e+03                  NaN       NaN      65.000000   \n",
       "25%     5.721902e+06                  NaN       NaN      90.000000   \n",
       "50%     1.341834e+07                  NaN       NaN     128.000000   \n",
       "75%     2.173730e+07                  NaN       NaN     179.000000   \n",
       "max     2.815247e+07                  NaN       NaN     289.000000   \n",
       "\n",
       "                month    day_of_week  \n",
       "count   655132.000000  655132.000000  \n",
       "unique            NaN            NaN  \n",
       "top               NaN            NaN  \n",
       "freq              NaN            NaN  \n",
       "first             NaN            NaN  \n",
       "last              NaN            NaN  \n",
       "mean         6.426778       2.993769  \n",
       "std          3.488229       2.003698  \n",
       "min          1.000000       0.000000  \n",
       "25%          3.000000       1.000000  \n",
       "50%          6.000000       3.000000  \n",
       "75%         10.000000       5.000000  \n",
       "max         12.000000       6.000000  "
      ]
     },
     "execution_count": 85,
     "metadata": {},
     "output_type": "execute_result"
    }
   ],
   "source": [
    "df_pricing_available.describe(include='all')"
   ]
  },
  {
   "cell_type": "code",
   "execution_count": 87,
   "metadata": {
    "ExecuteTime": {
     "end_time": "2019-02-16T07:29:43.774615Z",
     "start_time": "2019-02-16T07:29:43.619042Z"
    }
   },
   "outputs": [
    {
     "data": {
      "text/html": [
       "<div>\n",
       "<style scoped>\n",
       "    .dataframe tbody tr th:only-of-type {\n",
       "        vertical-align: middle;\n",
       "    }\n",
       "\n",
       "    .dataframe tbody tr th {\n",
       "        vertical-align: top;\n",
       "    }\n",
       "\n",
       "    .dataframe thead th {\n",
       "        text-align: right;\n",
       "    }\n",
       "</style>\n",
       "<table border=\"1\" class=\"dataframe\">\n",
       "  <thead>\n",
       "    <tr style=\"text-align: right;\">\n",
       "      <th></th>\n",
       "      <th>listing_id</th>\n",
       "      <th>month</th>\n",
       "      <th>day_of_week</th>\n",
       "      <th>price</th>\n",
       "    </tr>\n",
       "  </thead>\n",
       "  <tbody>\n",
       "    <tr>\n",
       "      <th>0</th>\n",
       "      <td>5858</td>\n",
       "      <td>1</td>\n",
       "      <td>0</td>\n",
       "      <td>235.0</td>\n",
       "    </tr>\n",
       "    <tr>\n",
       "      <th>1</th>\n",
       "      <td>5858</td>\n",
       "      <td>1</td>\n",
       "      <td>1</td>\n",
       "      <td>235.0</td>\n",
       "    </tr>\n",
       "    <tr>\n",
       "      <th>2</th>\n",
       "      <td>5858</td>\n",
       "      <td>1</td>\n",
       "      <td>2</td>\n",
       "      <td>235.0</td>\n",
       "    </tr>\n",
       "    <tr>\n",
       "      <th>3</th>\n",
       "      <td>5858</td>\n",
       "      <td>1</td>\n",
       "      <td>3</td>\n",
       "      <td>235.0</td>\n",
       "    </tr>\n",
       "    <tr>\n",
       "      <th>4</th>\n",
       "      <td>5858</td>\n",
       "      <td>1</td>\n",
       "      <td>4</td>\n",
       "      <td>235.0</td>\n",
       "    </tr>\n",
       "  </tbody>\n",
       "</table>\n",
       "</div>"
      ],
      "text/plain": [
       "   listing_id  month  day_of_week  price\n",
       "0        5858      1            0  235.0\n",
       "1        5858      1            1  235.0\n",
       "2        5858      1            2  235.0\n",
       "3        5858      1            3  235.0\n",
       "4        5858      1            4  235.0"
      ]
     },
     "execution_count": 87,
     "metadata": {},
     "output_type": "execute_result"
    }
   ],
   "source": [
    "# Group by month by weekday, and calculate an average pricing\n",
    "\n",
    "df_pricing_by_month_weekday = df_pricing_available.groupby(  \\\n",
    "                              ['listing_id', 'month', 'day_of_week']) \\\n",
    "                              .price.mean()  \\\n",
    "                              .reset_index()\n",
    "df_pricing_by_month_weekday.head()"
   ]
  },
  {
   "cell_type": "code",
   "execution_count": 88,
   "metadata": {
    "ExecuteTime": {
     "end_time": "2019-02-16T07:29:50.919024Z",
     "start_time": "2019-02-16T07:29:50.875727Z"
    }
   },
   "outputs": [
    {
     "data": {
      "text/html": [
       "<div>\n",
       "<style scoped>\n",
       "    .dataframe tbody tr th:only-of-type {\n",
       "        vertical-align: middle;\n",
       "    }\n",
       "\n",
       "    .dataframe tbody tr th {\n",
       "        vertical-align: top;\n",
       "    }\n",
       "\n",
       "    .dataframe thead th {\n",
       "        text-align: right;\n",
       "    }\n",
       "</style>\n",
       "<table border=\"1\" class=\"dataframe\">\n",
       "  <thead>\n",
       "    <tr style=\"text-align: right;\">\n",
       "      <th></th>\n",
       "      <th>listing_id</th>\n",
       "      <th>month</th>\n",
       "      <th>day_of_week</th>\n",
       "      <th>price</th>\n",
       "    </tr>\n",
       "  </thead>\n",
       "  <tbody>\n",
       "    <tr>\n",
       "      <th>count</th>\n",
       "      <td>1.581720e+05</td>\n",
       "      <td>158172.000000</td>\n",
       "      <td>158172.000000</td>\n",
       "      <td>158172.000000</td>\n",
       "    </tr>\n",
       "    <tr>\n",
       "      <th>mean</th>\n",
       "      <td>1.360873e+07</td>\n",
       "      <td>6.500000</td>\n",
       "      <td>3.000000</td>\n",
       "      <td>138.868869</td>\n",
       "    </tr>\n",
       "    <tr>\n",
       "      <th>std</th>\n",
       "      <td>8.823256e+06</td>\n",
       "      <td>3.452063</td>\n",
       "      <td>2.000006</td>\n",
       "      <td>55.536787</td>\n",
       "    </tr>\n",
       "    <tr>\n",
       "      <th>min</th>\n",
       "      <td>5.858000e+03</td>\n",
       "      <td>1.000000</td>\n",
       "      <td>0.000000</td>\n",
       "      <td>65.000000</td>\n",
       "    </tr>\n",
       "    <tr>\n",
       "      <th>25%</th>\n",
       "      <td>5.641077e+06</td>\n",
       "      <td>3.750000</td>\n",
       "      <td>1.000000</td>\n",
       "      <td>90.000000</td>\n",
       "    </tr>\n",
       "    <tr>\n",
       "      <th>50%</th>\n",
       "      <td>1.341834e+07</td>\n",
       "      <td>6.500000</td>\n",
       "      <td>3.000000</td>\n",
       "      <td>127.000000</td>\n",
       "    </tr>\n",
       "    <tr>\n",
       "      <th>75%</th>\n",
       "      <td>2.173651e+07</td>\n",
       "      <td>9.250000</td>\n",
       "      <td>5.000000</td>\n",
       "      <td>179.000000</td>\n",
       "    </tr>\n",
       "    <tr>\n",
       "      <th>max</th>\n",
       "      <td>2.815247e+07</td>\n",
       "      <td>12.000000</td>\n",
       "      <td>6.000000</td>\n",
       "      <td>289.000000</td>\n",
       "    </tr>\n",
       "  </tbody>\n",
       "</table>\n",
       "</div>"
      ],
      "text/plain": [
       "         listing_id          month    day_of_week          price\n",
       "count  1.581720e+05  158172.000000  158172.000000  158172.000000\n",
       "mean   1.360873e+07       6.500000       3.000000     138.868869\n",
       "std    8.823256e+06       3.452063       2.000006      55.536787\n",
       "min    5.858000e+03       1.000000       0.000000      65.000000\n",
       "25%    5.641077e+06       3.750000       1.000000      90.000000\n",
       "50%    1.341834e+07       6.500000       3.000000     127.000000\n",
       "75%    2.173651e+07       9.250000       5.000000     179.000000\n",
       "max    2.815247e+07      12.000000       6.000000     289.000000"
      ]
     },
     "execution_count": 88,
     "metadata": {},
     "output_type": "execute_result"
    }
   ],
   "source": [
    "df_pricing_by_month_weekday.describe(include='all')"
   ]
  },
  {
   "cell_type": "code",
   "execution_count": 89,
   "metadata": {
    "ExecuteTime": {
     "end_time": "2019-02-16T07:29:53.908670Z",
     "start_time": "2019-02-16T07:29:53.884060Z"
    }
   },
   "outputs": [
    {
     "data": {
      "text/plain": [
       "listing_id     0\n",
       "month          0\n",
       "day_of_week    0\n",
       "price          0\n",
       "dtype: int64"
      ]
     },
     "execution_count": 89,
     "metadata": {},
     "output_type": "execute_result"
    }
   ],
   "source": [
    "# Check for null values if any\n",
    "\n",
    "df_pricing_by_month_weekday.isnull().sum()"
   ]
  },
  {
   "cell_type": "code",
   "execution_count": 90,
   "metadata": {
    "ExecuteTime": {
     "end_time": "2019-02-16T07:30:07.170803Z",
     "start_time": "2019-02-16T07:30:07.164788Z"
    }
   },
   "outputs": [],
   "source": [
    "# Rename the average price column to avoid confusion\n",
    "\n",
    "df_pricing_by_month_weekday.rename(columns={'price':'price_by_month_week'}, inplace=True)"
   ]
  },
  {
   "cell_type": "code",
   "execution_count": 91,
   "metadata": {
    "ExecuteTime": {
     "end_time": "2019-02-16T07:30:08.165994Z",
     "start_time": "2019-02-16T07:30:08.159699Z"
    }
   },
   "outputs": [
    {
     "data": {
      "text/plain": [
       "(158172, 4)"
      ]
     },
     "execution_count": 91,
     "metadata": {},
     "output_type": "execute_result"
    }
   ],
   "source": [
    "df_pricing_by_month_weekday.shape"
   ]
  },
  {
   "cell_type": "code",
   "execution_count": 92,
   "metadata": {
    "ExecuteTime": {
     "end_time": "2019-02-16T07:30:15.780429Z",
     "start_time": "2019-02-16T07:30:15.770848Z"
    }
   },
   "outputs": [
    {
     "data": {
      "text/html": [
       "<div>\n",
       "<style scoped>\n",
       "    .dataframe tbody tr th:only-of-type {\n",
       "        vertical-align: middle;\n",
       "    }\n",
       "\n",
       "    .dataframe tbody tr th {\n",
       "        vertical-align: top;\n",
       "    }\n",
       "\n",
       "    .dataframe thead th {\n",
       "        text-align: right;\n",
       "    }\n",
       "</style>\n",
       "<table border=\"1\" class=\"dataframe\">\n",
       "  <thead>\n",
       "    <tr style=\"text-align: right;\">\n",
       "      <th></th>\n",
       "      <th>listing_id</th>\n",
       "      <th>month</th>\n",
       "      <th>day_of_week</th>\n",
       "      <th>price_by_month_week</th>\n",
       "    </tr>\n",
       "  </thead>\n",
       "  <tbody>\n",
       "    <tr>\n",
       "      <th>0</th>\n",
       "      <td>5858</td>\n",
       "      <td>1</td>\n",
       "      <td>0</td>\n",
       "      <td>235.0</td>\n",
       "    </tr>\n",
       "    <tr>\n",
       "      <th>1</th>\n",
       "      <td>5858</td>\n",
       "      <td>1</td>\n",
       "      <td>1</td>\n",
       "      <td>235.0</td>\n",
       "    </tr>\n",
       "    <tr>\n",
       "      <th>2</th>\n",
       "      <td>5858</td>\n",
       "      <td>1</td>\n",
       "      <td>2</td>\n",
       "      <td>235.0</td>\n",
       "    </tr>\n",
       "    <tr>\n",
       "      <th>3</th>\n",
       "      <td>5858</td>\n",
       "      <td>1</td>\n",
       "      <td>3</td>\n",
       "      <td>235.0</td>\n",
       "    </tr>\n",
       "    <tr>\n",
       "      <th>4</th>\n",
       "      <td>5858</td>\n",
       "      <td>1</td>\n",
       "      <td>4</td>\n",
       "      <td>235.0</td>\n",
       "    </tr>\n",
       "  </tbody>\n",
       "</table>\n",
       "</div>"
      ],
      "text/plain": [
       "   listing_id  month  day_of_week  price_by_month_week\n",
       "0        5858      1            0                235.0\n",
       "1        5858      1            1                235.0\n",
       "2        5858      1            2                235.0\n",
       "3        5858      1            3                235.0\n",
       "4        5858      1            4                235.0"
      ]
     },
     "execution_count": 92,
     "metadata": {},
     "output_type": "execute_result"
    }
   ],
   "source": [
    "df_pricing_by_month_weekday.head()"
   ]
  },
  {
   "cell_type": "code",
   "execution_count": 93,
   "metadata": {
    "ExecuteTime": {
     "end_time": "2019-02-16T07:30:19.956408Z",
     "start_time": "2019-02-16T07:30:19.951693Z"
    }
   },
   "outputs": [],
   "source": [
    "def get_month(number):\n",
    "    \"\"\"\n",
    "    Given a number, return the name of month.\n",
    "    \n",
    "    \"\"\"\n",
    "    month_lookup = {1:'Jan.', 2:'Feb.', 3:'Mar.', 4:'Apr.', 5:'May.', 6:'Jun.',\n",
    "                    7:'Jul.', 8:'Aug.', 9:'Sep.', 10:'Oct.', 11:'Nov.', 12:'Dec.'}\n",
    "    \n",
    "    return month_lookup[number]"
   ]
  },
  {
   "cell_type": "code",
   "execution_count": 94,
   "metadata": {
    "ExecuteTime": {
     "end_time": "2019-02-16T07:30:20.917218Z",
     "start_time": "2019-02-16T07:30:20.912870Z"
    }
   },
   "outputs": [],
   "source": [
    "def get_weekdays(number):\n",
    "    \"\"\"\n",
    "    Given a number, return the name of month.\n",
    "    \n",
    "    \"\"\"\n",
    "    weekday_lookup = {0:'Monday', 1:'Tuesday', 2:'Wednesday', 3:'Thursday', \n",
    "                      4:'Friday', 5:'Saturday', 6:'Sunday'}\n",
    "    \n",
    "    return weekday_lookup[number]"
   ]
  },
  {
   "cell_type": "code",
   "execution_count": 95,
   "metadata": {
    "ExecuteTime": {
     "end_time": "2019-02-16T07:30:23.519553Z",
     "start_time": "2019-02-16T07:30:23.378491Z"
    }
   },
   "outputs": [],
   "source": [
    "df_pricing_by_month_weekday['month'] = df_pricing_by_month_weekday['month']  \\\n",
    "                                       .apply(lambda x: get_month(x))"
   ]
  },
  {
   "cell_type": "code",
   "execution_count": 96,
   "metadata": {
    "ExecuteTime": {
     "end_time": "2019-02-16T07:30:24.522700Z",
     "start_time": "2019-02-16T07:30:24.431237Z"
    }
   },
   "outputs": [],
   "source": [
    "df_pricing_by_month_weekday['day_of_week'] = df_pricing_by_month_weekday['day_of_week']  \\\n",
    "                                             .apply(lambda x: get_weekdays(x))"
   ]
  },
  {
   "cell_type": "code",
   "execution_count": null,
   "metadata": {},
   "outputs": [],
   "source": []
  },
  {
   "cell_type": "code",
   "execution_count": 97,
   "metadata": {
    "ExecuteTime": {
     "end_time": "2019-02-16T07:30:28.121345Z",
     "start_time": "2019-02-16T07:30:28.066391Z"
    }
   },
   "outputs": [],
   "source": [
    "df_pricing_final = pd.get_dummies(df_pricing_by_month_weekday, \n",
    "                                  prefix='',\n",
    "                                  prefix_sep='',\n",
    "                                  columns=['month', 'day_of_week'])"
   ]
  },
  {
   "cell_type": "code",
   "execution_count": 98,
   "metadata": {
    "ExecuteTime": {
     "end_time": "2019-02-16T07:30:29.032758Z",
     "start_time": "2019-02-16T07:30:29.026851Z"
    }
   },
   "outputs": [
    {
     "data": {
      "text/plain": [
       "Index(['listing_id', 'price_by_month_week', 'Apr.', 'Aug.', 'Dec.', 'Feb.',\n",
       "       'Jan.', 'Jul.', 'Jun.', 'Mar.', 'May.', 'Nov.', 'Oct.', 'Sep.',\n",
       "       'Friday', 'Monday', 'Saturday', 'Sunday', 'Thursday', 'Tuesday',\n",
       "       'Wednesday'],\n",
       "      dtype='object')"
      ]
     },
     "execution_count": 98,
     "metadata": {},
     "output_type": "execute_result"
    }
   ],
   "source": [
    "df_pricing_final.columns"
   ]
  },
  {
   "cell_type": "code",
   "execution_count": 99,
   "metadata": {
    "ExecuteTime": {
     "end_time": "2019-02-16T07:30:31.168490Z",
     "start_time": "2019-02-16T07:30:31.162848Z"
    }
   },
   "outputs": [
    {
     "data": {
      "text/plain": [
       "(158172, 21)"
      ]
     },
     "execution_count": 99,
     "metadata": {},
     "output_type": "execute_result"
    }
   ],
   "source": [
    "df_pricing_final.shape"
   ]
  },
  {
   "cell_type": "code",
   "execution_count": 100,
   "metadata": {
    "ExecuteTime": {
     "end_time": "2019-02-16T07:30:42.459247Z",
     "start_time": "2019-02-16T07:30:42.426843Z"
    }
   },
   "outputs": [
    {
     "data": {
      "text/html": [
       "<div>\n",
       "<style scoped>\n",
       "    .dataframe tbody tr th:only-of-type {\n",
       "        vertical-align: middle;\n",
       "    }\n",
       "\n",
       "    .dataframe tbody tr th {\n",
       "        vertical-align: top;\n",
       "    }\n",
       "\n",
       "    .dataframe thead th {\n",
       "        text-align: right;\n",
       "    }\n",
       "</style>\n",
       "<table border=\"1\" class=\"dataframe\">\n",
       "  <thead>\n",
       "    <tr style=\"text-align: right;\">\n",
       "      <th></th>\n",
       "      <th>id</th>\n",
       "      <th>bedrooms</th>\n",
       "      <th>cleaning_fee</th>\n",
       "      <th>room_type_Entire home/apt</th>\n",
       "      <th>reviews_per_month</th>\n",
       "      <th>city_San Francisco</th>\n",
       "      <th>city_Oakland</th>\n",
       "      <th>bathrooms</th>\n",
       "      <th>accommodates</th>\n",
       "      <th>number_of_reviews</th>\n",
       "      <th>...</th>\n",
       "      <th>neighbourhood_cleansed_Palo Alto</th>\n",
       "      <th>host_is_superhost_f</th>\n",
       "      <th>amenities_Lock on bedroom door</th>\n",
       "      <th>amenities_Private entrance</th>\n",
       "      <th>amenities_Familykid friendly</th>\n",
       "      <th>district_Santa Clara</th>\n",
       "      <th>neighbourhood_cleansed_San Jose</th>\n",
       "      <th>host_identity_verified_f</th>\n",
       "      <th>ref_district</th>\n",
       "      <th>ref_jurisdiction</th>\n",
       "    </tr>\n",
       "  </thead>\n",
       "  <tbody>\n",
       "    <tr>\n",
       "      <th>0</th>\n",
       "      <td>958</td>\n",
       "      <td>1.0</td>\n",
       "      <td>2.00000</td>\n",
       "      <td>1</td>\n",
       "      <td>1.38</td>\n",
       "      <td>1</td>\n",
       "      <td>0</td>\n",
       "      <td>1.0</td>\n",
       "      <td>3</td>\n",
       "      <td>152</td>\n",
       "      <td>...</td>\n",
       "      <td>0</td>\n",
       "      <td>0</td>\n",
       "      <td>0</td>\n",
       "      <td>1</td>\n",
       "      <td>1</td>\n",
       "      <td>0</td>\n",
       "      <td>0</td>\n",
       "      <td>0</td>\n",
       "      <td>San Francisco</td>\n",
       "      <td>SAN FRANCISCO</td>\n",
       "    </tr>\n",
       "    <tr>\n",
       "      <th>1</th>\n",
       "      <td>5858</td>\n",
       "      <td>2.0</td>\n",
       "      <td>2.00000</td>\n",
       "      <td>1</td>\n",
       "      <td>0.99</td>\n",
       "      <td>1</td>\n",
       "      <td>0</td>\n",
       "      <td>1.0</td>\n",
       "      <td>5</td>\n",
       "      <td>112</td>\n",
       "      <td>...</td>\n",
       "      <td>0</td>\n",
       "      <td>1</td>\n",
       "      <td>0</td>\n",
       "      <td>1</td>\n",
       "      <td>1</td>\n",
       "      <td>0</td>\n",
       "      <td>0</td>\n",
       "      <td>0</td>\n",
       "      <td>San Francisco</td>\n",
       "      <td>SAN FRANCISCO</td>\n",
       "    </tr>\n",
       "    <tr>\n",
       "      <th>2</th>\n",
       "      <td>7918</td>\n",
       "      <td>1.0</td>\n",
       "      <td>1.69897</td>\n",
       "      <td>0</td>\n",
       "      <td>0.16</td>\n",
       "      <td>1</td>\n",
       "      <td>0</td>\n",
       "      <td>4.0</td>\n",
       "      <td>2</td>\n",
       "      <td>17</td>\n",
       "      <td>...</td>\n",
       "      <td>0</td>\n",
       "      <td>1</td>\n",
       "      <td>1</td>\n",
       "      <td>1</td>\n",
       "      <td>0</td>\n",
       "      <td>0</td>\n",
       "      <td>0</td>\n",
       "      <td>0</td>\n",
       "      <td>San Francisco</td>\n",
       "      <td>SAN FRANCISCO</td>\n",
       "    </tr>\n",
       "    <tr>\n",
       "      <th>3</th>\n",
       "      <td>8142</td>\n",
       "      <td>1.0</td>\n",
       "      <td>1.69897</td>\n",
       "      <td>0</td>\n",
       "      <td>0.15</td>\n",
       "      <td>1</td>\n",
       "      <td>0</td>\n",
       "      <td>4.0</td>\n",
       "      <td>2</td>\n",
       "      <td>7</td>\n",
       "      <td>...</td>\n",
       "      <td>0</td>\n",
       "      <td>1</td>\n",
       "      <td>1</td>\n",
       "      <td>1</td>\n",
       "      <td>1</td>\n",
       "      <td>0</td>\n",
       "      <td>0</td>\n",
       "      <td>0</td>\n",
       "      <td>San Francisco</td>\n",
       "      <td>SAN FRANCISCO</td>\n",
       "    </tr>\n",
       "    <tr>\n",
       "      <th>4</th>\n",
       "      <td>8567</td>\n",
       "      <td>2.0</td>\n",
       "      <td>2.09691</td>\n",
       "      <td>1</td>\n",
       "      <td>0.27</td>\n",
       "      <td>1</td>\n",
       "      <td>0</td>\n",
       "      <td>1.0</td>\n",
       "      <td>6</td>\n",
       "      <td>30</td>\n",
       "      <td>...</td>\n",
       "      <td>0</td>\n",
       "      <td>1</td>\n",
       "      <td>0</td>\n",
       "      <td>0</td>\n",
       "      <td>1</td>\n",
       "      <td>0</td>\n",
       "      <td>0</td>\n",
       "      <td>1</td>\n",
       "      <td>San Francisco</td>\n",
       "      <td>SAN FRANCISCO</td>\n",
       "    </tr>\n",
       "  </tbody>\n",
       "</table>\n",
       "<p>5 rows × 33 columns</p>\n",
       "</div>"
      ],
      "text/plain": [
       "     id  bedrooms  cleaning_fee  room_type_Entire home/apt  reviews_per_month  \\\n",
       "0   958       1.0       2.00000                          1               1.38   \n",
       "1  5858       2.0       2.00000                          1               0.99   \n",
       "2  7918       1.0       1.69897                          0               0.16   \n",
       "3  8142       1.0       1.69897                          0               0.15   \n",
       "4  8567       2.0       2.09691                          1               0.27   \n",
       "\n",
       "   city_San Francisco  city_Oakland  bathrooms  accommodates  \\\n",
       "0                   1             0        1.0             3   \n",
       "1                   1             0        1.0             5   \n",
       "2                   1             0        4.0             2   \n",
       "3                   1             0        4.0             2   \n",
       "4                   1             0        1.0             6   \n",
       "\n",
       "   number_of_reviews        ...         neighbourhood_cleansed_Palo Alto  \\\n",
       "0                152        ...                                        0   \n",
       "1                112        ...                                        0   \n",
       "2                 17        ...                                        0   \n",
       "3                  7        ...                                        0   \n",
       "4                 30        ...                                        0   \n",
       "\n",
       "   host_is_superhost_f  amenities_Lock on bedroom door  \\\n",
       "0                    0                               0   \n",
       "1                    1                               0   \n",
       "2                    1                               1   \n",
       "3                    1                               1   \n",
       "4                    1                               0   \n",
       "\n",
       "   amenities_Private entrance  amenities_Familykid friendly  \\\n",
       "0                           1                             1   \n",
       "1                           1                             1   \n",
       "2                           1                             0   \n",
       "3                           1                             1   \n",
       "4                           0                             1   \n",
       "\n",
       "   district_Santa Clara  neighbourhood_cleansed_San Jose  \\\n",
       "0                     0                                0   \n",
       "1                     0                                0   \n",
       "2                     0                                0   \n",
       "3                     0                                0   \n",
       "4                     0                                0   \n",
       "\n",
       "   host_identity_verified_f   ref_district  ref_jurisdiction  \n",
       "0                         0  San Francisco     SAN FRANCISCO  \n",
       "1                         0  San Francisco     SAN FRANCISCO  \n",
       "2                         0  San Francisco     SAN FRANCISCO  \n",
       "3                         0  San Francisco     SAN FRANCISCO  \n",
       "4                         1  San Francisco     SAN FRANCISCO  \n",
       "\n",
       "[5 rows x 33 columns]"
      ]
     },
     "execution_count": 100,
     "metadata": {},
     "output_type": "execute_result"
    }
   ],
   "source": [
    "pkl_file = '/Users/xzhou/github/project_archives/files_airbnb/{}.pkl'\n",
    "\n",
    "pkl_path = pkl_file.format('listings_with_selected_features')\n",
    "\n",
    "df_listings_reviews = pd.read_pickle(pkl_path)\n",
    "df_listings_reviews.head()"
   ]
  },
  {
   "cell_type": "code",
   "execution_count": 101,
   "metadata": {
    "ExecuteTime": {
     "end_time": "2019-02-16T07:30:45.759748Z",
     "start_time": "2019-02-16T07:30:45.753872Z"
    }
   },
   "outputs": [
    {
     "data": {
      "text/plain": [
       "(10352, 33)"
      ]
     },
     "execution_count": 101,
     "metadata": {},
     "output_type": "execute_result"
    }
   ],
   "source": [
    "df_listings_reviews.shape"
   ]
  },
  {
   "cell_type": "code",
   "execution_count": 102,
   "metadata": {
    "ExecuteTime": {
     "end_time": "2019-02-16T07:30:48.896969Z",
     "start_time": "2019-02-16T07:30:48.793642Z"
    }
   },
   "outputs": [],
   "source": [
    "df_final = pd.merge(left=df_pricing_final, \n",
    "                    right=df_listings_reviews,\n",
    "                    how='inner',\n",
    "                    left_on='listing_id',\n",
    "                    right_on='id')"
   ]
  },
  {
   "cell_type": "code",
   "execution_count": 103,
   "metadata": {
    "ExecuteTime": {
     "end_time": "2019-02-16T07:30:49.787554Z",
     "start_time": "2019-02-16T07:30:49.782059Z"
    }
   },
   "outputs": [
    {
     "data": {
      "text/plain": [
       "(95424, 54)"
      ]
     },
     "execution_count": 103,
     "metadata": {},
     "output_type": "execute_result"
    }
   ],
   "source": [
    "df_final.shape"
   ]
  },
  {
   "cell_type": "code",
   "execution_count": 104,
   "metadata": {
    "ExecuteTime": {
     "end_time": "2019-02-16T07:31:00.400859Z",
     "start_time": "2019-02-16T07:31:00.233809Z"
    }
   },
   "outputs": [
    {
     "data": {
      "text/plain": [
       "listing_id                                  0\n",
       "price_by_month_week                         0\n",
       "Apr.                                        0\n",
       "Aug.                                        0\n",
       "Dec.                                        0\n",
       "Feb.                                        0\n",
       "Jan.                                        0\n",
       "Jul.                                        0\n",
       "Jun.                                        0\n",
       "Mar.                                        0\n",
       "May.                                        0\n",
       "Nov.                                        0\n",
       "Oct.                                        0\n",
       "Sep.                                        0\n",
       "Friday                                      0\n",
       "Monday                                      0\n",
       "Saturday                                    0\n",
       "Sunday                                      0\n",
       "Thursday                                    0\n",
       "Tuesday                                     0\n",
       "Wednesday                                   0\n",
       "id                                          0\n",
       "bedrooms                                    0\n",
       "cleaning_fee                                0\n",
       "room_type_Entire home/apt                   0\n",
       "reviews_per_month                           0\n",
       "city_San Francisco                          0\n",
       "city_Oakland                                0\n",
       "bathrooms                                   0\n",
       "accommodates                                0\n",
       "number_of_reviews                           0\n",
       "host_listings_count                         0\n",
       "review_scores_rating_log10                  0\n",
       "host_yrs                                    0\n",
       "guests_included                             0\n",
       "calculated_host_listings_count              0\n",
       "review_scores_location_log10                0\n",
       "beds                                        0\n",
       "yrs_since_first_review                      0\n",
       "host_response_rate                          0\n",
       "amenities_Air conditioning                  0\n",
       "review_scores_value_log10                   0\n",
       "jurisdiction_names_Santa Cruz County, CA    0\n",
       "amenities_Cable TV                          0\n",
       "neighbourhood_cleansed_Palo Alto            0\n",
       "host_is_superhost_f                         0\n",
       "amenities_Lock on bedroom door              0\n",
       "amenities_Private entrance                  0\n",
       "amenities_Familykid friendly                0\n",
       "district_Santa Clara                        0\n",
       "neighbourhood_cleansed_San Jose             0\n",
       "host_identity_verified_f                    0\n",
       "ref_district                                0\n",
       "ref_jurisdiction                            0\n",
       "dtype: int64"
      ]
     },
     "execution_count": 104,
     "metadata": {},
     "output_type": "execute_result"
    }
   ],
   "source": [
    "df_final.isnull().sum()"
   ]
  },
  {
   "cell_type": "code",
   "execution_count": 105,
   "metadata": {
    "ExecuteTime": {
     "end_time": "2019-02-16T07:31:03.368201Z",
     "start_time": "2019-02-16T07:31:03.362365Z"
    }
   },
   "outputs": [
    {
     "data": {
      "text/plain": [
       "(95424, 54)"
      ]
     },
     "execution_count": 105,
     "metadata": {},
     "output_type": "execute_result"
    }
   ],
   "source": [
    "df_final.shape"
   ]
  },
  {
   "cell_type": "code",
   "execution_count": 106,
   "metadata": {
    "ExecuteTime": {
     "end_time": "2019-02-16T07:31:04.281831Z",
     "start_time": "2019-02-16T07:31:04.275023Z"
    }
   },
   "outputs": [
    {
     "data": {
      "text/plain": [
       "Index(['listing_id', 'price_by_month_week', 'Apr.', 'Aug.', 'Dec.', 'Feb.',\n",
       "       'Jan.', 'Jul.', 'Jun.', 'Mar.', 'May.', 'Nov.', 'Oct.', 'Sep.',\n",
       "       'Friday', 'Monday', 'Saturday', 'Sunday', 'Thursday', 'Tuesday',\n",
       "       'Wednesday', 'id', 'bedrooms', 'cleaning_fee',\n",
       "       'room_type_Entire home/apt', 'reviews_per_month', 'city_San Francisco',\n",
       "       'city_Oakland', 'bathrooms', 'accommodates', 'number_of_reviews',\n",
       "       'host_listings_count', 'review_scores_rating_log10', 'host_yrs',\n",
       "       'guests_included', 'calculated_host_listings_count',\n",
       "       'review_scores_location_log10', 'beds', 'yrs_since_first_review',\n",
       "       'host_response_rate', 'amenities_Air conditioning',\n",
       "       'review_scores_value_log10', 'jurisdiction_names_Santa Cruz County, CA',\n",
       "       'amenities_Cable TV', 'neighbourhood_cleansed_Palo Alto',\n",
       "       'host_is_superhost_f', 'amenities_Lock on bedroom door',\n",
       "       'amenities_Private entrance', 'amenities_Familykid friendly',\n",
       "       'district_Santa Clara', 'neighbourhood_cleansed_San Jose',\n",
       "       'host_identity_verified_f', 'ref_district', 'ref_jurisdiction'],\n",
       "      dtype='object')"
      ]
     },
     "execution_count": 106,
     "metadata": {},
     "output_type": "execute_result"
    }
   ],
   "source": [
    "df_final.columns"
   ]
  },
  {
   "cell_type": "code",
   "execution_count": 107,
   "metadata": {
    "ExecuteTime": {
     "end_time": "2019-02-16T07:31:11.097230Z",
     "start_time": "2019-02-16T07:31:11.063468Z"
    }
   },
   "outputs": [],
   "source": [
    "# Drop duplicate columns\n",
    "\n",
    "df_final.drop(['id'], axis=1, inplace=True)"
   ]
  },
  {
   "cell_type": "code",
   "execution_count": 108,
   "metadata": {
    "ExecuteTime": {
     "end_time": "2019-02-16T07:31:11.991849Z",
     "start_time": "2019-02-16T07:31:11.986185Z"
    }
   },
   "outputs": [
    {
     "data": {
      "text/plain": [
       "(95424, 53)"
      ]
     },
     "execution_count": 108,
     "metadata": {},
     "output_type": "execute_result"
    }
   ],
   "source": [
    "df_final.shape"
   ]
  },
  {
   "cell_type": "code",
   "execution_count": 109,
   "metadata": {
    "ExecuteTime": {
     "end_time": "2019-02-16T07:31:15.011951Z",
     "start_time": "2019-02-16T07:31:14.522640Z"
    }
   },
   "outputs": [
    {
     "data": {
      "text/plain": [
       "['review_scores_value_log10']"
      ]
     },
     "execution_count": 109,
     "metadata": {},
     "output_type": "execute_result"
    }
   ],
   "source": [
    "# Create correlation matrix\n",
    "corr_matrix = df_final.corr().abs()\n",
    "\n",
    "# Select upper triangle of correlation matrix\n",
    "upper = corr_matrix.where(np.triu(np.ones(corr_matrix.shape), k=1).astype(np.bool))\n",
    "\n",
    "# Find index of feature columns with correlation greater than 0.90\n",
    "to_drop = [column for column in upper.columns if any(upper[column] > 0.90)]\n",
    "\n",
    "to_drop"
   ]
  },
  {
   "cell_type": "code",
   "execution_count": 110,
   "metadata": {
    "ExecuteTime": {
     "end_time": "2019-02-16T07:31:19.287211Z",
     "start_time": "2019-02-16T07:31:19.261207Z"
    }
   },
   "outputs": [],
   "source": [
    "# Drop features that have high correlation\n",
    "\n",
    "df_final.drop(to_drop, axis=1, inplace=True)"
   ]
  },
  {
   "cell_type": "code",
   "execution_count": 111,
   "metadata": {
    "ExecuteTime": {
     "end_time": "2019-02-16T07:31:20.428056Z",
     "start_time": "2019-02-16T07:31:20.421941Z"
    }
   },
   "outputs": [
    {
     "data": {
      "text/plain": [
       "(95424, 52)"
      ]
     },
     "execution_count": 111,
     "metadata": {},
     "output_type": "execute_result"
    }
   ],
   "source": [
    "df_final.shape"
   ]
  },
  {
   "cell_type": "code",
   "execution_count": 112,
   "metadata": {
    "ExecuteTime": {
     "end_time": "2019-02-16T07:32:20.939087Z",
     "start_time": "2019-02-16T07:32:20.849015Z"
    }
   },
   "outputs": [],
   "source": [
    "pkl_file = '/Users/xzhou/github/project_archives/files_airbnb/{}.pkl'\n",
    "pkl_path = pkl_file.format('listings_seasonality')\n",
    "\n",
    "with open(pkl_path, 'wb') as file:\n",
    "        pd.to_pickle(df_final, file)"
   ]
  },
  {
   "cell_type": "code",
   "execution_count": null,
   "metadata": {
    "ExecuteTime": {
     "end_time": "2018-09-17T22:15:16.184217Z",
     "start_time": "2018-09-17T22:15:16.030213Z"
    }
   },
   "outputs": [],
   "source": [
    "pkl_file = '/Users/xzhou/github/project_archives/files_airbnb/{}.pkl'\n",
    "pkl_path = pkl_file.format('listings_seasonality')\n",
    "\n",
    "try: \n",
    "    with open(pkl_path, 'rb') as file:\n",
    "        df_final = pd.read_pickle(file)\n",
    "except:\n",
    "    with open(pkl_path, 'wb') as file:\n",
    "        pd.to_pickle(df_final, file)"
   ]
  },
  {
   "cell_type": "code",
   "execution_count": 113,
   "metadata": {
    "ExecuteTime": {
     "end_time": "2019-02-16T07:32:24.931149Z",
     "start_time": "2019-02-16T07:32:24.904571Z"
    }
   },
   "outputs": [],
   "source": [
    "# Perform multiple modeling for price prediction\n",
    "\n",
    "X = df_final.drop(['price_by_month_week', 'ref_district', 'ref_jurisdiction'], axis=1)\n",
    "y = df_final.loc[:, ['listing_id', 'price_by_month_week']]"
   ]
  },
  {
   "cell_type": "code",
   "execution_count": 114,
   "metadata": {
    "ExecuteTime": {
     "end_time": "2019-02-16T07:32:36.838003Z",
     "start_time": "2019-02-16T07:32:36.550108Z"
    }
   },
   "outputs": [],
   "source": [
    "grp_by_listing_ids = df_final.groupby('listing_id').first().reset_index().listing_id"
   ]
  },
  {
   "cell_type": "code",
   "execution_count": 118,
   "metadata": {
    "ExecuteTime": {
     "end_time": "2019-02-16T07:34:10.212871Z",
     "start_time": "2019-02-16T07:34:10.209655Z"
    }
   },
   "outputs": [],
   "source": [
    "listing_ids = list (grp_by_listing_ids)"
   ]
  },
  {
   "cell_type": "code",
   "execution_count": 119,
   "metadata": {
    "ExecuteTime": {
     "end_time": "2019-02-16T07:34:11.695490Z",
     "start_time": "2019-02-16T07:34:11.681119Z"
    }
   },
   "outputs": [
    {
     "name": "stdout",
     "output_type": "stream",
     "text": [
      "852\n"
     ]
    },
    {
     "data": {
      "text/plain": [
       "array([25628339,  5193718,   717000,  5861266,    69410, 20695034,\n",
       "       10912061, 10233191,  8192494,  2182169,  7636885, 20716986,\n",
       "        4251101,  4032327,  5005798,   427707,  1241029, 15194320,\n",
       "         307827,  2008590,  2829131, 18022892, 12872051, 11983474,\n",
       "        7459204,  7887588, 15939487,  1914602,  7858199,  6214853,\n",
       "        3541007,   745925, 24470284,  4297189,  5058777,  3890704,\n",
       "       21345876,  1442027,  1722167,  5116060,  5008287,  3022391,\n",
       "       24783410, 24100944,  4120530, 13359333, 10595590,  3238531,\n",
       "        2465868,   443908, 14534564, 19725513, 17026443,  4119973,\n",
       "       21295356, 22112477,  7887030,  1349884,  1162640, 17076076,\n",
       "       25580922, 11591266, 26171011, 26631967,   226594, 10413713,\n",
       "       12212126,    39174, 13014186, 15624712, 14885810, 10316398,\n",
       "        1459083, 10886381, 23672681, 26316944,  6186641, 14311906,\n",
       "       20148137, 13465756,  4580381, 21647837, 11372655,  3706161,\n",
       "        1873261, 17301015, 13360872,  8764158,  7844355, 22534560,\n",
       "        4896087,   472901,  1479769, 22029318,  4457530,   923987,\n",
       "       19865320, 20092181, 15471316,  1203526,  5259279, 24948046,\n",
       "        7902889, 12739048,  9149812, 23075539,   791279,  9463114,\n",
       "       15066037,  7341076, 23147212, 15072431,   256176,  1122250,\n",
       "       17247487,  8423124,  3449103,  8646463,  8193716, 20230859,\n",
       "        2072133,  6337298, 21020071, 15071646, 25165680, 24627580,\n",
       "       14202383,  8005452, 24776227, 20308554,  6349421, 16005353,\n",
       "       15943499, 19789445, 14929304, 14758546, 23375904,  7053486,\n",
       "       13395285,  4902063, 13042210,   301971,  4909117,  1836896,\n",
       "       15776727, 24182769, 25234139,  6156661,  3475515,  6754197,\n",
       "        4074117,  2337552,  4440015,   656780,   187730,   779109,\n",
       "        7998278, 15073270, 21864049,  2927103,  7311722, 14610008,\n",
       "        2928311,  8070474, 10710282, 27554168, 22887097,  8554434,\n",
       "       16040678, 23941195, 21597772,  3672198,  4822641, 20717553,\n",
       "       16570342, 26384803, 23734350,  9738539,  9372025, 18125930,\n",
       "       16921134,  8328410,  9098317, 14374783, 21838532,   674934,\n",
       "       18705941, 17384834,  6499980,  7681348, 19576566, 24783808,\n",
       "       14967505,  3936343,  4476390,    59314,  2022861,  6494663,\n",
       "       19934941,  7345170, 26329548,  7290465, 11417125,  2241035,\n",
       "       11038453,  2817021, 20308685, 20502622, 25170927,   126046,\n",
       "        7828828, 13233712, 14383718,   931520,  5173754, 26956719,\n",
       "        4832436,   191867,  9420385,  1641978, 27106116, 27263966,\n",
       "       19654100,  8226171, 13660572, 24405590, 11463606,  2131622,\n",
       "         743260, 25265212,  9513866, 17367074, 10282144, 15767976,\n",
       "       10001457, 15831877, 20704455, 22150560,  1999524, 15179189,\n",
       "       18895672, 26365545, 13135353,  3283447, 18931048,    63405,\n",
       "        1511274,  8306384, 10597190,  7602066,  2817214, 14936042,\n",
       "         727926,  8468482, 16724190,   902635, 11461771, 10614605,\n",
       "       22191540,  1959776, 10135902, 26429616, 12682595,  1466344,\n",
       "       26110655, 23981407,  1584470, 25189932,  4549651, 23313532,\n",
       "        2188308, 21827805, 26335670, 17363608,  7681228, 20775102,\n",
       "       13170662, 25203207, 17979358,    73011, 13126240, 24790559,\n",
       "       24335598,  1117813,  2186905, 11010620,   166771,  5641077,\n",
       "       19954337, 19035187,  3689632, 18878623,  1339473,  8411611,\n",
       "         493889, 13578465, 21520861, 21255883,  8647513, 21014346,\n",
       "        1807493, 10417667,   757745,  3655811, 12311518,  1399217,\n",
       "         769734,   592850, 16672664, 24557562, 13999942,  6103971,\n",
       "        9183782,  7803043,  7966574,   383002,  1189971, 14057062,\n",
       "       16190202, 15722690,    57676, 10926307,  1006392,   263356,\n",
       "       18706768,  5406477,  8886022, 10454502,    59313, 20716757,\n",
       "        5863674, 18636693,  7401136, 17976589,  9150423, 14311890,\n",
       "        9944669, 26916514, 19315898, 20367610, 22215064, 25539671,\n",
       "       22942197,   415498, 20966756, 16727361, 23202750, 24087763,\n",
       "        8759787,  1579670,  8797785,  1919711, 15284761, 23522824,\n",
       "       19860636, 25490781, 15412358, 15521441, 12010548,  2776338,\n",
       "       19863843,  1870059, 14732197,  3395770, 21091720,  7535249,\n",
       "        5213768,  5784888,  4322842,  6591359, 12018171, 19367413,\n",
       "        5826983,  3416695, 24783098,  4365392,  8551443,  6102300,\n",
       "        7555372,  9532943,  8975330, 10551548,  1892611,  1412372,\n",
       "        9909627, 11230189,  3033398,  7985260, 25056108,  8420709,\n",
       "         238204,   604843, 13128357,  4061282,  5196116,  5090998,\n",
       "        1299242,  8295055, 11041028,  3273246,   105497, 14576746,\n",
       "       18733708,  3504131,  4412661, 24452697,  1281203, 21582543,\n",
       "        1056992, 17667965,  6272291, 18348686,  9197655,  5076251,\n",
       "        1117786, 24678255, 25873383, 23399888, 18547920,  7162627,\n",
       "       24040457, 23941748, 21790309, 17685999, 24785138, 11493791,\n",
       "       24250302,  8595304, 24525045, 13576904,   298368,  1547477,\n",
       "        9364688, 23701233, 12455372,  7323097,  9296524, 15313698,\n",
       "       18108225,  3310586,  6934874, 19380763, 20156650, 15101204,\n",
       "       19752144,  7885139,  5007358,  6688454, 19223278,  5196233,\n",
       "        5893488, 21462489, 10023120, 23235125,  2189514, 20794544,\n",
       "       23121061, 14126923,  3139633, 21620072,   229219,  6604799,\n",
       "       10787814, 22190418, 11066272, 22084599, 12266059,  6874013,\n",
       "         510280,  5376278, 16352039,  5709514,  5047650,  5039206,\n",
       "       14575557,  6744521,  4614069, 15166141,  1326553, 25181913,\n",
       "       15115729,  1606292, 24788438, 15870673, 22412096, 10838816,\n",
       "       24064126,  8805264,    43732,   806104, 16725126, 22848818,\n",
       "       16910795, 17043136, 22319044,  7914711,   583395, 15939264,\n",
       "       17172420, 16331804, 11166003, 20214953,    23637, 18199042,\n",
       "        8339500, 15401372,  5757805, 16395500,   583689, 11241809,\n",
       "       22655395,  8577308,  6210440, 24873576, 23217998, 16145881,\n",
       "        5721902, 15347782,  9596600,  1135287, 17030830, 24293574,\n",
       "        5106391,  8286798,  4902565, 27426966,   264341,  1676460,\n",
       "       17996610,  1364189,  8286942,  7579214, 19572542,  6506494,\n",
       "        9477894,  7826545, 14927816, 18949513,  7876128,  6475531,\n",
       "       20211607,  4268481, 26475610, 14031603, 23204146, 10970822,\n",
       "       23941368, 25407023,  7481391, 26033065,  4708889,  3544603,\n",
       "         530857, 17445405,   269371, 10804733, 10528664,  7001647,\n",
       "       22944965,  1615942, 12203499,  2710372,  1067085,    11879,\n",
       "         645238, 23005826, 16986456,  7389911,  3550391, 18228255,\n",
       "       11659923, 21206729, 17247215, 19827115, 18274764,    66119,\n",
       "       13138651, 21926713,  1645172, 21737296, 24019856,  6272816,\n",
       "       24942572,  9242011,   571115, 20799585,  2521327, 22079262,\n",
       "       14475808,  9962672, 25298210,  8592609, 19142350, 11442093,\n",
       "       22403752,  7397337,  2442776, 15322496, 26865877, 26336886,\n",
       "        7811386,  7823069,  9805697,  8634099,  1995676,   720801,\n",
       "          57031, 11089250,  7734880, 20461610, 18278072,    10832,\n",
       "        6072767, 25805358, 11798814, 24310421, 12737555, 22466624,\n",
       "        6447391, 22603366, 10632869,  6482511,  9097082,   413663,\n",
       "        8155106, 19413538, 26671477,  2620371,  9048750, 25914423,\n",
       "       17449584, 16545567,  2515292, 20522622,  7719365, 24649989,\n",
       "        2310765, 11011129, 10996467, 25317523,  2804417, 11258529,\n",
       "       16839850, 20365435,   715754, 16727547,  6287990,  1442755,\n",
       "        5761415,  6020989,  8506934,   706286, 13771621,  5212418,\n",
       "       20560534,  1645712,  1038324,  6916093, 12432084,  8926150,\n",
       "        5154242, 21717294, 17029166,  1264430, 14698394, 13975443,\n",
       "       15207940, 16898505,  4774742,  7180185,  3439173,  1925206,\n",
       "       18771120,  1364787, 17237096, 13732535,  2931587,  2959856,\n",
       "        4500244, 12913802,   593060,  3273482, 13298914, 20717189,\n",
       "       23615447, 21399941,  1945508,  5335433,  3637609, 15551821,\n",
       "        1701997,  5048831,   108535,  4174539, 20121980, 26307380,\n",
       "        2501305, 14739372,  6676499, 24782776, 18143232,  1412799,\n",
       "       26476595,  5354662,  6490623,  4097700,   925646, 12797680,\n",
       "        9005789,   712426, 15718115,   437385, 12797002, 22176888,\n",
       "       19098530, 14358722,  7027139, 19413966,  5932678,  9546252,\n",
       "        5249098, 12324893, 25893502,  6453398,  1349898, 20478752,\n",
       "       20069803, 12093517, 15446815,  5039986,  8865930,  8053292,\n",
       "        2887719,   279037,  5958736, 16727690, 10768157,  1984709,\n",
       "        5031745,  4318893, 21936873, 25084622,  8674455, 12736724,\n",
       "       13614280, 16962560, 22847509,   387039,  4457662,  7900344,\n",
       "        2791549, 22484318,  9901093,  8908249, 14697748,  1201404,\n",
       "       21768899, 14806884, 10886231, 26100586,  1168338,  4053780,\n",
       "        3225725, 20286264, 21503199, 17565098, 21123508, 24788146,\n",
       "       17360895,  2587269, 14246901, 10773949,  7787513,  3360688,\n",
       "       10825311,   504137, 25975627, 12432136, 23580835, 11041098,\n",
       "        2919297, 21736508,  4902855, 14113236,   743297,  1043314,\n",
       "        7389541,  7591031, 23091657, 10862977,  5751333, 24831670,\n",
       "        8971307, 10140239, 23789809, 17794205, 19849892, 16620785,\n",
       "          83553, 20500014,  1484136,   962126, 20709388, 15500119,\n",
       "       15915784,  6119086, 18204951,  9524831,  9525911, 16727224,\n",
       "          33578,  9926588,   215631, 13127880,  7305266,   164951,\n",
       "        7949668, 10790717,  1321057,  2027943, 26818635,   334886,\n",
       "       14553088, 22504534,  6691866, 24839902,  1614622,  3476601,\n",
       "        1499843, 26334159,   900393,  8336822,   923807,  1659839,\n",
       "       19164071, 13512158,  4454201, 23914311, 10538035, 17176878,\n",
       "       10832838,  9414399, 11720074, 14268731, 24420688, 19752612,\n",
       "        6934867,  5395253, 17406770,  2657854,  3301330,  6716133])"
      ]
     },
     "execution_count": 119,
     "metadata": {},
     "output_type": "execute_result"
    }
   ],
   "source": [
    "num_of_grps = len(grp_by_listing_ids)\n",
    "\n",
    "training_ids = np.random.choice(listing_ids, int(num_of_grps*0.75), replace=False)\n",
    "print(len(training_ids))\n",
    "training_ids"
   ]
  },
  {
   "cell_type": "code",
   "execution_count": 120,
   "metadata": {
    "ExecuteTime": {
     "end_time": "2019-02-16T07:34:17.536310Z",
     "start_time": "2019-02-16T07:34:17.528731Z"
    }
   },
   "outputs": [
    {
     "data": {
      "text/plain": [
       "284"
      ]
     },
     "execution_count": 120,
     "metadata": {},
     "output_type": "execute_result"
    }
   ],
   "source": [
    "testing_ids = set(grp_by_listing_ids) - set (training_ids)\n",
    "len(testing_ids)"
   ]
  },
  {
   "cell_type": "code",
   "execution_count": 121,
   "metadata": {
    "ExecuteTime": {
     "end_time": "2019-02-16T07:34:40.875947Z",
     "start_time": "2019-02-16T07:34:40.801517Z"
    }
   },
   "outputs": [
    {
     "name": "stdout",
     "output_type": "stream",
     "text": [
      "71568 23856 71568 23856\n"
     ]
    }
   ],
   "source": [
    "X_train = X[X['listing_id'].isin(training_ids)].drop('listing_id', axis=1)\n",
    "X_test = X[X['listing_id'].isin(testing_ids)].drop('listing_id', axis=1)\n",
    "y_train = y[y['listing_id'].isin(training_ids)].drop('listing_id', axis=1).values.ravel()\n",
    "y_test = y[y['listing_id'].isin(testing_ids)].drop('listing_id', axis=1).values.ravel()\n",
    "\n",
    "print(len(X_train), len(X_test), len(y_train), len(y_test))"
   ]
  },
  {
   "cell_type": "code",
   "execution_count": 122,
   "metadata": {
    "ExecuteTime": {
     "end_time": "2019-02-16T07:34:43.903282Z",
     "start_time": "2019-02-16T07:34:43.737925Z"
    }
   },
   "outputs": [],
   "source": [
    "ss = StandardScaler()\n",
    "X_train_trans = ss.fit_transform(X_train)\n",
    "X_test_trans = ss.transform (X_test)"
   ]
  },
  {
   "cell_type": "code",
   "execution_count": 123,
   "metadata": {
    "ExecuteTime": {
     "end_time": "2019-02-16T07:34:47.351565Z",
     "start_time": "2019-02-16T07:34:46.890061Z"
    }
   },
   "outputs": [
    {
     "data": {
      "text/html": [
       "<table class=\"simpletable\">\n",
       "<caption>OLS Regression Results</caption>\n",
       "<tr>\n",
       "  <th>Dep. Variable:</th>            <td>y</td>        <th>  R-squared:         </th>  <td>   0.475</td>  \n",
       "</tr>\n",
       "<tr>\n",
       "  <th>Model:</th>                   <td>OLS</td>       <th>  Adj. R-squared:    </th>  <td>   0.474</td>  \n",
       "</tr>\n",
       "<tr>\n",
       "  <th>Method:</th>             <td>Least Squares</td>  <th>  F-statistic:       </th>  <td>   1404.</td>  \n",
       "</tr>\n",
       "<tr>\n",
       "  <th>Date:</th>             <td>Fri, 15 Feb 2019</td> <th>  Prob (F-statistic):</th>   <td>  0.00</td>   \n",
       "</tr>\n",
       "<tr>\n",
       "  <th>Time:</th>                 <td>23:34:47</td>     <th>  Log-Likelihood:    </th> <td>-3.6753e+05</td>\n",
       "</tr>\n",
       "<tr>\n",
       "  <th>No. Observations:</th>      <td> 71568</td>      <th>  AIC:               </th>  <td>7.351e+05</td> \n",
       "</tr>\n",
       "<tr>\n",
       "  <th>Df Residuals:</th>          <td> 71521</td>      <th>  BIC:               </th>  <td>7.356e+05</td> \n",
       "</tr>\n",
       "<tr>\n",
       "  <th>Df Model:</th>              <td>    46</td>      <th>                     </th>      <td> </td>     \n",
       "</tr>\n",
       "<tr>\n",
       "  <th>Covariance Type:</th>      <td>nonrobust</td>    <th>                     </th>      <td> </td>     \n",
       "</tr>\n",
       "</table>\n",
       "<table class=\"simpletable\">\n",
       "<tr>\n",
       "    <td></td>       <th>coef</th>     <th>std err</th>      <th>t</th>      <th>P>|t|</th>  <th>[0.025</th>    <th>0.975]</th>  \n",
       "</tr>\n",
       "<tr>\n",
       "  <th>const</th> <td>  135.7346</td> <td>    0.156</td> <td>  868.907</td> <td> 0.000</td> <td>  135.428</td> <td>  136.041</td>\n",
       "</tr>\n",
       "<tr>\n",
       "  <th>x1</th>    <td>-4.823e+11</td> <td> 3.07e+12</td> <td>   -0.157</td> <td> 0.875</td> <td>-6.49e+12</td> <td> 5.53e+12</td>\n",
       "</tr>\n",
       "<tr>\n",
       "  <th>x2</th>    <td>-4.823e+11</td> <td> 3.07e+12</td> <td>   -0.157</td> <td> 0.875</td> <td>-6.49e+12</td> <td> 5.53e+12</td>\n",
       "</tr>\n",
       "<tr>\n",
       "  <th>x3</th>    <td>-4.823e+11</td> <td> 3.07e+12</td> <td>   -0.157</td> <td> 0.875</td> <td>-6.49e+12</td> <td> 5.53e+12</td>\n",
       "</tr>\n",
       "<tr>\n",
       "  <th>x4</th>    <td>-4.823e+11</td> <td> 3.07e+12</td> <td>   -0.157</td> <td> 0.875</td> <td>-6.49e+12</td> <td> 5.53e+12</td>\n",
       "</tr>\n",
       "<tr>\n",
       "  <th>x5</th>    <td>-4.823e+11</td> <td> 3.07e+12</td> <td>   -0.157</td> <td> 0.875</td> <td>-6.49e+12</td> <td> 5.53e+12</td>\n",
       "</tr>\n",
       "<tr>\n",
       "  <th>x6</th>    <td>-4.823e+11</td> <td> 3.07e+12</td> <td>   -0.157</td> <td> 0.875</td> <td>-6.49e+12</td> <td> 5.53e+12</td>\n",
       "</tr>\n",
       "<tr>\n",
       "  <th>x7</th>    <td>-4.823e+11</td> <td> 3.07e+12</td> <td>   -0.157</td> <td> 0.875</td> <td>-6.49e+12</td> <td> 5.53e+12</td>\n",
       "</tr>\n",
       "<tr>\n",
       "  <th>x8</th>    <td>-4.823e+11</td> <td> 3.07e+12</td> <td>   -0.157</td> <td> 0.875</td> <td>-6.49e+12</td> <td> 5.53e+12</td>\n",
       "</tr>\n",
       "<tr>\n",
       "  <th>x9</th>    <td>-4.823e+11</td> <td> 3.07e+12</td> <td>   -0.157</td> <td> 0.875</td> <td>-6.49e+12</td> <td> 5.53e+12</td>\n",
       "</tr>\n",
       "<tr>\n",
       "  <th>x10</th>   <td>-4.823e+11</td> <td> 3.07e+12</td> <td>   -0.157</td> <td> 0.875</td> <td>-6.49e+12</td> <td> 5.53e+12</td>\n",
       "</tr>\n",
       "<tr>\n",
       "  <th>x11</th>   <td>-4.823e+11</td> <td> 3.07e+12</td> <td>   -0.157</td> <td> 0.875</td> <td>-6.49e+12</td> <td> 5.53e+12</td>\n",
       "</tr>\n",
       "<tr>\n",
       "  <th>x12</th>   <td>-4.823e+11</td> <td> 3.07e+12</td> <td>   -0.157</td> <td> 0.875</td> <td>-6.49e+12</td> <td> 5.53e+12</td>\n",
       "</tr>\n",
       "<tr>\n",
       "  <th>x13</th>   <td> 1.472e+12</td> <td> 6.56e+12</td> <td>    0.224</td> <td> 0.823</td> <td>-1.14e+13</td> <td> 1.43e+13</td>\n",
       "</tr>\n",
       "<tr>\n",
       "  <th>x14</th>   <td> 1.472e+12</td> <td> 6.56e+12</td> <td>    0.224</td> <td> 0.823</td> <td>-1.14e+13</td> <td> 1.43e+13</td>\n",
       "</tr>\n",
       "<tr>\n",
       "  <th>x15</th>   <td> 1.472e+12</td> <td> 6.56e+12</td> <td>    0.224</td> <td> 0.823</td> <td>-1.14e+13</td> <td> 1.43e+13</td>\n",
       "</tr>\n",
       "<tr>\n",
       "  <th>x16</th>   <td> 1.472e+12</td> <td> 6.56e+12</td> <td>    0.224</td> <td> 0.823</td> <td>-1.14e+13</td> <td> 1.43e+13</td>\n",
       "</tr>\n",
       "<tr>\n",
       "  <th>x17</th>   <td> 1.472e+12</td> <td> 6.56e+12</td> <td>    0.224</td> <td> 0.823</td> <td>-1.14e+13</td> <td> 1.43e+13</td>\n",
       "</tr>\n",
       "<tr>\n",
       "  <th>x18</th>   <td> 1.472e+12</td> <td> 6.56e+12</td> <td>    0.224</td> <td> 0.823</td> <td>-1.14e+13</td> <td> 1.43e+13</td>\n",
       "</tr>\n",
       "<tr>\n",
       "  <th>x19</th>   <td> 1.472e+12</td> <td> 6.56e+12</td> <td>    0.224</td> <td> 0.823</td> <td>-1.14e+13</td> <td> 1.43e+13</td>\n",
       "</tr>\n",
       "<tr>\n",
       "  <th>x20</th>   <td>   11.2099</td> <td>    0.218</td> <td>   51.508</td> <td> 0.000</td> <td>   10.783</td> <td>   11.636</td>\n",
       "</tr>\n",
       "<tr>\n",
       "  <th>x21</th>   <td>    5.2482</td> <td>    0.188</td> <td>   27.944</td> <td> 0.000</td> <td>    4.880</td> <td>    5.616</td>\n",
       "</tr>\n",
       "<tr>\n",
       "  <th>x22</th>   <td>   16.4571</td> <td>    0.215</td> <td>   76.410</td> <td> 0.000</td> <td>   16.035</td> <td>   16.879</td>\n",
       "</tr>\n",
       "<tr>\n",
       "  <th>x23</th>   <td>   -1.4396</td> <td>    0.281</td> <td>   -5.124</td> <td> 0.000</td> <td>   -1.990</td> <td>   -0.889</td>\n",
       "</tr>\n",
       "<tr>\n",
       "  <th>x24</th>   <td>   10.0298</td> <td>    0.709</td> <td>   14.138</td> <td> 0.000</td> <td>    8.639</td> <td>   11.420</td>\n",
       "</tr>\n",
       "<tr>\n",
       "  <th>x25</th>   <td>   -1.3050</td> <td>    0.545</td> <td>   -2.395</td> <td> 0.017</td> <td>   -2.373</td> <td>   -0.237</td>\n",
       "</tr>\n",
       "<tr>\n",
       "  <th>x26</th>   <td>   -2.5827</td> <td>    0.191</td> <td>  -13.523</td> <td> 0.000</td> <td>   -2.957</td> <td>   -2.208</td>\n",
       "</tr>\n",
       "<tr>\n",
       "  <th>x27</th>   <td>   14.9466</td> <td>    0.320</td> <td>   46.666</td> <td> 0.000</td> <td>   14.319</td> <td>   15.574</td>\n",
       "</tr>\n",
       "<tr>\n",
       "  <th>x28</th>   <td>   -0.8375</td> <td>    0.298</td> <td>   -2.815</td> <td> 0.005</td> <td>   -1.421</td> <td>   -0.254</td>\n",
       "</tr>\n",
       "<tr>\n",
       "  <th>x29</th>   <td>    4.1191</td> <td>    0.222</td> <td>   18.542</td> <td> 0.000</td> <td>    3.684</td> <td>    4.554</td>\n",
       "</tr>\n",
       "<tr>\n",
       "  <th>x30</th>   <td>   -1.8471</td> <td>    0.382</td> <td>   -4.833</td> <td> 0.000</td> <td>   -2.596</td> <td>   -1.098</td>\n",
       "</tr>\n",
       "<tr>\n",
       "  <th>x31</th>   <td>   -0.5683</td> <td>    0.206</td> <td>   -2.763</td> <td> 0.006</td> <td>   -0.971</td> <td>   -0.165</td>\n",
       "</tr>\n",
       "<tr>\n",
       "  <th>x32</th>   <td>    5.1689</td> <td>    0.186</td> <td>   27.802</td> <td> 0.000</td> <td>    4.805</td> <td>    5.533</td>\n",
       "</tr>\n",
       "<tr>\n",
       "  <th>x33</th>   <td>   -1.3291</td> <td>    0.226</td> <td>   -5.869</td> <td> 0.000</td> <td>   -1.773</td> <td>   -0.885</td>\n",
       "</tr>\n",
       "<tr>\n",
       "  <th>x34</th>   <td>    5.2560</td> <td>    0.381</td> <td>   13.792</td> <td> 0.000</td> <td>    4.509</td> <td>    6.003</td>\n",
       "</tr>\n",
       "<tr>\n",
       "  <th>x35</th>   <td>   -4.8797</td> <td>    0.305</td> <td>  -15.976</td> <td> 0.000</td> <td>   -5.478</td> <td>   -4.281</td>\n",
       "</tr>\n",
       "<tr>\n",
       "  <th>x36</th>   <td>   -2.9976</td> <td>    0.257</td> <td>  -11.678</td> <td> 0.000</td> <td>   -3.501</td> <td>   -2.495</td>\n",
       "</tr>\n",
       "<tr>\n",
       "  <th>x37</th>   <td>   -2.7967</td> <td>    0.163</td> <td>  -17.206</td> <td> 0.000</td> <td>   -3.115</td> <td>   -2.478</td>\n",
       "</tr>\n",
       "<tr>\n",
       "  <th>x38</th>   <td>    1.0247</td> <td>    0.204</td> <td>    5.031</td> <td> 0.000</td> <td>    0.625</td> <td>    1.424</td>\n",
       "</tr>\n",
       "<tr>\n",
       "  <th>x39</th>   <td>    7.2273</td> <td>    0.441</td> <td>   16.394</td> <td> 0.000</td> <td>    6.363</td> <td>    8.091</td>\n",
       "</tr>\n",
       "<tr>\n",
       "  <th>x40</th>   <td>    3.1382</td> <td>    0.166</td> <td>   18.943</td> <td> 0.000</td> <td>    2.814</td> <td>    3.463</td>\n",
       "</tr>\n",
       "<tr>\n",
       "  <th>x41</th>   <td>    5.2260</td> <td>    0.179</td> <td>   29.214</td> <td> 0.000</td> <td>    4.875</td> <td>    5.577</td>\n",
       "</tr>\n",
       "<tr>\n",
       "  <th>x42</th>   <td>   -7.6225</td> <td>    0.172</td> <td>  -44.274</td> <td> 0.000</td> <td>   -7.960</td> <td>   -7.285</td>\n",
       "</tr>\n",
       "<tr>\n",
       "  <th>x43</th>   <td>   -1.4083</td> <td>    0.180</td> <td>   -7.837</td> <td> 0.000</td> <td>   -1.761</td> <td>   -1.056</td>\n",
       "</tr>\n",
       "<tr>\n",
       "  <th>x44</th>   <td>    1.0789</td> <td>    0.176</td> <td>    6.137</td> <td> 0.000</td> <td>    0.734</td> <td>    1.423</td>\n",
       "</tr>\n",
       "<tr>\n",
       "  <th>x45</th>   <td>    0.5988</td> <td>    0.165</td> <td>    3.620</td> <td> 0.000</td> <td>    0.275</td> <td>    0.923</td>\n",
       "</tr>\n",
       "<tr>\n",
       "  <th>x46</th>   <td>    1.1590</td> <td>    0.793</td> <td>    1.462</td> <td> 0.144</td> <td>   -0.395</td> <td>    2.713</td>\n",
       "</tr>\n",
       "<tr>\n",
       "  <th>x47</th>   <td>    1.2901</td> <td>    0.210</td> <td>    6.147</td> <td> 0.000</td> <td>    0.879</td> <td>    1.702</td>\n",
       "</tr>\n",
       "<tr>\n",
       "  <th>x48</th>   <td>   -2.0450</td> <td>    0.178</td> <td>  -11.487</td> <td> 0.000</td> <td>   -2.394</td> <td>   -1.696</td>\n",
       "</tr>\n",
       "</table>\n",
       "<table class=\"simpletable\">\n",
       "<tr>\n",
       "  <th>Omnibus:</th>       <td>4943.324</td> <th>  Durbin-Watson:     </th> <td>   0.048</td>\n",
       "</tr>\n",
       "<tr>\n",
       "  <th>Prob(Omnibus):</th>  <td> 0.000</td>  <th>  Jarque-Bera (JB):  </th> <td>6049.199</td>\n",
       "</tr>\n",
       "<tr>\n",
       "  <th>Skew:</th>           <td> 0.682</td>  <th>  Prob(JB):          </th> <td>    0.00</td>\n",
       "</tr>\n",
       "<tr>\n",
       "  <th>Kurtosis:</th>       <td> 3.410</td>  <th>  Cond. No.          </th> <td>2.15e+14</td>\n",
       "</tr>\n",
       "</table><br/><br/>Warnings:<br/>[1] Standard Errors assume that the covariance matrix of the errors is correctly specified.<br/>[2] The smallest eigenvalue is 5.61e-24. This might indicate that there are<br/>strong multicollinearity problems or that the design matrix is singular."
      ],
      "text/plain": [
       "<class 'statsmodels.iolib.summary.Summary'>\n",
       "\"\"\"\n",
       "                            OLS Regression Results                            \n",
       "==============================================================================\n",
       "Dep. Variable:                      y   R-squared:                       0.475\n",
       "Model:                            OLS   Adj. R-squared:                  0.474\n",
       "Method:                 Least Squares   F-statistic:                     1404.\n",
       "Date:                Fri, 15 Feb 2019   Prob (F-statistic):               0.00\n",
       "Time:                        23:34:47   Log-Likelihood:            -3.6753e+05\n",
       "No. Observations:               71568   AIC:                         7.351e+05\n",
       "Df Residuals:                   71521   BIC:                         7.356e+05\n",
       "Df Model:                          46                                         \n",
       "Covariance Type:            nonrobust                                         \n",
       "==============================================================================\n",
       "                 coef    std err          t      P>|t|      [0.025      0.975]\n",
       "------------------------------------------------------------------------------\n",
       "const        135.7346      0.156    868.907      0.000     135.428     136.041\n",
       "x1         -4.823e+11   3.07e+12     -0.157      0.875   -6.49e+12    5.53e+12\n",
       "x2         -4.823e+11   3.07e+12     -0.157      0.875   -6.49e+12    5.53e+12\n",
       "x3         -4.823e+11   3.07e+12     -0.157      0.875   -6.49e+12    5.53e+12\n",
       "x4         -4.823e+11   3.07e+12     -0.157      0.875   -6.49e+12    5.53e+12\n",
       "x5         -4.823e+11   3.07e+12     -0.157      0.875   -6.49e+12    5.53e+12\n",
       "x6         -4.823e+11   3.07e+12     -0.157      0.875   -6.49e+12    5.53e+12\n",
       "x7         -4.823e+11   3.07e+12     -0.157      0.875   -6.49e+12    5.53e+12\n",
       "x8         -4.823e+11   3.07e+12     -0.157      0.875   -6.49e+12    5.53e+12\n",
       "x9         -4.823e+11   3.07e+12     -0.157      0.875   -6.49e+12    5.53e+12\n",
       "x10        -4.823e+11   3.07e+12     -0.157      0.875   -6.49e+12    5.53e+12\n",
       "x11        -4.823e+11   3.07e+12     -0.157      0.875   -6.49e+12    5.53e+12\n",
       "x12        -4.823e+11   3.07e+12     -0.157      0.875   -6.49e+12    5.53e+12\n",
       "x13         1.472e+12   6.56e+12      0.224      0.823   -1.14e+13    1.43e+13\n",
       "x14         1.472e+12   6.56e+12      0.224      0.823   -1.14e+13    1.43e+13\n",
       "x15         1.472e+12   6.56e+12      0.224      0.823   -1.14e+13    1.43e+13\n",
       "x16         1.472e+12   6.56e+12      0.224      0.823   -1.14e+13    1.43e+13\n",
       "x17         1.472e+12   6.56e+12      0.224      0.823   -1.14e+13    1.43e+13\n",
       "x18         1.472e+12   6.56e+12      0.224      0.823   -1.14e+13    1.43e+13\n",
       "x19         1.472e+12   6.56e+12      0.224      0.823   -1.14e+13    1.43e+13\n",
       "x20           11.2099      0.218     51.508      0.000      10.783      11.636\n",
       "x21            5.2482      0.188     27.944      0.000       4.880       5.616\n",
       "x22           16.4571      0.215     76.410      0.000      16.035      16.879\n",
       "x23           -1.4396      0.281     -5.124      0.000      -1.990      -0.889\n",
       "x24           10.0298      0.709     14.138      0.000       8.639      11.420\n",
       "x25           -1.3050      0.545     -2.395      0.017      -2.373      -0.237\n",
       "x26           -2.5827      0.191    -13.523      0.000      -2.957      -2.208\n",
       "x27           14.9466      0.320     46.666      0.000      14.319      15.574\n",
       "x28           -0.8375      0.298     -2.815      0.005      -1.421      -0.254\n",
       "x29            4.1191      0.222     18.542      0.000       3.684       4.554\n",
       "x30           -1.8471      0.382     -4.833      0.000      -2.596      -1.098\n",
       "x31           -0.5683      0.206     -2.763      0.006      -0.971      -0.165\n",
       "x32            5.1689      0.186     27.802      0.000       4.805       5.533\n",
       "x33           -1.3291      0.226     -5.869      0.000      -1.773      -0.885\n",
       "x34            5.2560      0.381     13.792      0.000       4.509       6.003\n",
       "x35           -4.8797      0.305    -15.976      0.000      -5.478      -4.281\n",
       "x36           -2.9976      0.257    -11.678      0.000      -3.501      -2.495\n",
       "x37           -2.7967      0.163    -17.206      0.000      -3.115      -2.478\n",
       "x38            1.0247      0.204      5.031      0.000       0.625       1.424\n",
       "x39            7.2273      0.441     16.394      0.000       6.363       8.091\n",
       "x40            3.1382      0.166     18.943      0.000       2.814       3.463\n",
       "x41            5.2260      0.179     29.214      0.000       4.875       5.577\n",
       "x42           -7.6225      0.172    -44.274      0.000      -7.960      -7.285\n",
       "x43           -1.4083      0.180     -7.837      0.000      -1.761      -1.056\n",
       "x44            1.0789      0.176      6.137      0.000       0.734       1.423\n",
       "x45            0.5988      0.165      3.620      0.000       0.275       0.923\n",
       "x46            1.1590      0.793      1.462      0.144      -0.395       2.713\n",
       "x47            1.2901      0.210      6.147      0.000       0.879       1.702\n",
       "x48           -2.0450      0.178    -11.487      0.000      -2.394      -1.696\n",
       "==============================================================================\n",
       "Omnibus:                     4943.324   Durbin-Watson:                   0.048\n",
       "Prob(Omnibus):                  0.000   Jarque-Bera (JB):             6049.199\n",
       "Skew:                           0.682   Prob(JB):                         0.00\n",
       "Kurtosis:                       3.410   Cond. No.                     2.15e+14\n",
       "==============================================================================\n",
       "\n",
       "Warnings:\n",
       "[1] Standard Errors assume that the covariance matrix of the errors is correctly specified.\n",
       "[2] The smallest eigenvalue is 5.61e-24. This might indicate that there are\n",
       "strong multicollinearity problems or that the design matrix is singular.\n",
       "\"\"\""
      ]
     },
     "execution_count": 123,
     "metadata": {},
     "output_type": "execute_result"
    }
   ],
   "source": [
    "# Model-LR\n",
    "\n",
    "model=sm.OLS(y_train, sm.add_constant(X_train_trans))\n",
    "fit=model.fit()\n",
    "fit.summary()"
   ]
  },
  {
   "cell_type": "code",
   "execution_count": 124,
   "metadata": {
    "ExecuteTime": {
     "end_time": "2019-02-16T07:35:53.598119Z",
     "start_time": "2019-02-16T07:34:50.737917Z"
    }
   },
   "outputs": [
    {
     "name": "stdout",
     "output_type": "stream",
     "text": [
      "MSE train: 1.428, test: 1694.647\n",
      "R^2 train: 1.000, test: 0.414\n"
     ]
    }
   ],
   "source": [
    "# Model-Random Forest\n",
    "\n",
    "rf = RandomForestRegressor(n_estimators=500, \n",
    "                           criterion='mse', \n",
    "                           random_state=42, \n",
    "                           n_jobs=-1)\n",
    "rf.fit(X_train_trans, y_train.ravel())\n",
    "\n",
    "y_train_pred = rf.predict(X_train_trans)\n",
    "y_test_pred = rf.predict(X_test_trans)\n",
    "\n",
    "print('MSE train: %.3f, test: %.3f' % (\n",
    "        mean_squared_error(y_train, y_train_pred),\n",
    "        mean_squared_error(y_test, y_test_pred)))\n",
    "print('R^2 train: %.3f, test: %.3f' % (\n",
    "        r2_score(y_train, y_train_pred),\n",
    "        r2_score(y_test, y_test_pred)))"
   ]
  },
  {
   "cell_type": "code",
   "execution_count": null,
   "metadata": {
    "ExecuteTime": {
     "end_time": "2018-09-19T23:43:19.559412Z",
     "start_time": "2018-09-19T23:43:19.553602Z"
    }
   },
   "outputs": [],
   "source": [
    "RMSE = 1043.202**0.5\n",
    "RMSE"
   ]
  },
  {
   "cell_type": "code",
   "execution_count": null,
   "metadata": {
    "ExecuteTime": {
     "end_time": "2018-09-17T22:18:53.730289Z",
     "start_time": "2018-09-17T22:18:53.719404Z"
    }
   },
   "outputs": [],
   "source": [
    "df_final.listing_id.nunique()"
   ]
  },
  {
   "cell_type": "code",
   "execution_count": null,
   "metadata": {
    "ExecuteTime": {
     "end_time": "2018-09-17T22:18:56.294686Z",
     "start_time": "2018-09-17T22:18:56.269275Z"
    }
   },
   "outputs": [],
   "source": [
    "# Double check on price range. The range is as expected\n",
    "\n",
    "y.describe(include='all')"
   ]
  },
  {
   "cell_type": "code",
   "execution_count": null,
   "metadata": {
    "ExecuteTime": {
     "end_time": "2018-09-17T22:19:00.246519Z",
     "start_time": "2018-09-17T22:19:00.133934Z"
    }
   },
   "outputs": [],
   "source": [
    "# Map feature importance with labels\n",
    "\n",
    "feature_labels = X.columns\n",
    "feature_tuples = zip (feature_labels, rf.feature_importances_)\n",
    "feature_lists = [list(feature_tuple) for feature_tuple in feature_tuples]"
   ]
  },
  {
   "cell_type": "code",
   "execution_count": null,
   "metadata": {
    "ExecuteTime": {
     "end_time": "2018-09-17T22:19:03.088950Z",
     "start_time": "2018-09-17T22:19:03.070937Z"
    }
   },
   "outputs": [],
   "source": [
    "# Order features based on importance\n",
    "\n",
    "feature_lists.sort(key=lambda x: abs(x[1]), reverse=True)\n",
    "feature_lists"
   ]
  },
  {
   "cell_type": "code",
   "execution_count": null,
   "metadata": {
    "ExecuteTime": {
     "end_time": "2018-09-17T22:19:05.609546Z",
     "start_time": "2018-09-17T22:19:05.601585Z"
    }
   },
   "outputs": [],
   "source": [
    "features = [list_[0] for list_ in feature_lists]\n",
    "features"
   ]
  },
  {
   "cell_type": "code",
   "execution_count": null,
   "metadata": {
    "ExecuteTime": {
     "end_time": "2018-09-17T22:19:08.887821Z",
     "start_time": "2018-09-17T22:19:08.882994Z"
    }
   },
   "outputs": [],
   "source": [
    "columns =['listing_id']\n",
    "columns.extend(features)\n",
    "columns.extend(['ref_district', 'ref_jurisdiction', 'price_by_month_week'])"
   ]
  },
  {
   "cell_type": "code",
   "execution_count": null,
   "metadata": {
    "ExecuteTime": {
     "end_time": "2018-09-17T22:38:50.477720Z",
     "start_time": "2018-09-17T22:38:50.197772Z"
    }
   },
   "outputs": [],
   "source": [
    "df_data = df_final[columns]\n",
    "df_data.head()"
   ]
  },
  {
   "cell_type": "code",
   "execution_count": null,
   "metadata": {
    "ExecuteTime": {
     "end_time": "2018-09-17T22:38:53.449764Z",
     "start_time": "2018-09-17T22:38:53.442621Z"
    }
   },
   "outputs": [],
   "source": [
    "df_data.shape"
   ]
  },
  {
   "cell_type": "code",
   "execution_count": null,
   "metadata": {
    "ExecuteTime": {
     "end_time": "2018-09-17T22:38:56.566129Z",
     "start_time": "2018-09-17T22:38:56.288147Z"
    }
   },
   "outputs": [],
   "source": [
    "df_data.rename(columns={'price_by_month_week':'price'}, inplace=True)"
   ]
  },
  {
   "cell_type": "code",
   "execution_count": null,
   "metadata": {
    "ExecuteTime": {
     "end_time": "2018-09-17T22:38:59.578990Z",
     "start_time": "2018-09-17T22:38:59.287780Z"
    }
   },
   "outputs": [],
   "source": [
    "df_data.isnull().sum()"
   ]
  },
  {
   "cell_type": "code",
   "execution_count": null,
   "metadata": {
    "ExecuteTime": {
     "end_time": "2018-09-17T22:47:55.787349Z",
     "start_time": "2018-09-17T22:47:38.185171Z"
    },
    "scrolled": false
   },
   "outputs": [],
   "source": [
    "temp_df = df_data[['Monday', 'Tuesday', 'Wednesday', 'Thursday', 'Friday', 'Saturday', 'Sunday']].copy()\n",
    "\n",
    "days = temp_df.apply(lambda x: x.idxmax(), axis=1)\n",
    "days"
   ]
  },
  {
   "cell_type": "code",
   "execution_count": null,
   "metadata": {
    "ExecuteTime": {
     "end_time": "2018-09-17T22:12:55.258059Z",
     "start_time": "2018-09-17T22:12:27.019Z"
    }
   },
   "outputs": [],
   "source": [
    "csv_file = '/Users/xzhou/github/project_archives/files_airbnb/{}.csv'\n",
    "\n",
    "csv_path = csv_file.format('airbnb_data')\n",
    "\n",
    "df_data.to_csv(csv_path)"
   ]
  },
  {
   "cell_type": "code",
   "execution_count": null,
   "metadata": {},
   "outputs": [],
   "source": []
  },
  {
   "cell_type": "code",
   "execution_count": null,
   "metadata": {
    "ExecuteTime": {
     "end_time": "2019-02-16T06:17:06.744029Z",
     "start_time": "2019-02-16T06:17:06.527886Z"
    }
   },
   "outputs": [],
   "source": [
    "# This is to create visual to show seasonality\n",
    "\n",
    "df_visual = pd.merge(left=df_pricing_by_month_weekday, \n",
    "                    right=df_listings_reviews,\n",
    "                    how='inner',\n",
    "                    left_on='listing_id',\n",
    "                    right_on='id')"
   ]
  },
  {
   "cell_type": "code",
   "execution_count": null,
   "metadata": {
    "ExecuteTime": {
     "end_time": "2019-02-16T06:17:07.585839Z",
     "start_time": "2019-02-16T06:17:07.580166Z"
    }
   },
   "outputs": [],
   "source": [
    "df_visual.shape"
   ]
  },
  {
   "cell_type": "code",
   "execution_count": null,
   "metadata": {
    "ExecuteTime": {
     "end_time": "2019-02-16T06:17:08.338245Z",
     "start_time": "2019-02-16T06:17:08.332513Z"
    }
   },
   "outputs": [],
   "source": [
    "df_visual.columns"
   ]
  },
  {
   "cell_type": "code",
   "execution_count": null,
   "metadata": {},
   "outputs": [],
   "source": []
  },
  {
   "cell_type": "code",
   "execution_count": null,
   "metadata": {
    "ExecuteTime": {
     "end_time": "2019-02-16T06:17:15.308923Z",
     "start_time": "2019-02-16T06:17:15.045878Z"
    }
   },
   "outputs": [],
   "source": [
    "df_visual_entire_apartment = df_visual[df_visual['room_type_Entire home/apt']==1 ]\n",
    "df_visual_single_room = df_visual[df_visual['room_type_Entire home/apt']!=1 ]\n",
    "\n",
    "print(df_visual_entire_apartment.shape, df_visual_single_room.shape )"
   ]
  },
  {
   "cell_type": "code",
   "execution_count": null,
   "metadata": {
    "ExecuteTime": {
     "end_time": "2019-02-16T06:17:15.881772Z",
     "start_time": "2019-02-16T06:17:15.873422Z"
    }
   },
   "outputs": [],
   "source": [
    "df_visual_entire_apartment.ref_district.describe"
   ]
  },
  {
   "cell_type": "code",
   "execution_count": null,
   "metadata": {
    "ExecuteTime": {
     "end_time": "2019-02-16T06:17:18.344646Z",
     "start_time": "2019-02-16T06:17:18.297939Z"
    }
   },
   "outputs": [],
   "source": [
    "df_visual_entire_apartment_sf = df_visual_entire_apartment[df_visual_entire_apartment['ref_district']=='San Francisco']\n",
    "df_visual_entire_apartment_scz = df_visual_entire_apartment[df_visual_entire_apartment['ref_district']=='Santa Clara']\n",
    "\n",
    "print(df_visual_entire_apartment_sf.shape, df_visual_entire_apartment_scz.shape )"
   ]
  },
  {
   "cell_type": "code",
   "execution_count": null,
   "metadata": {
    "ExecuteTime": {
     "end_time": "2019-02-16T06:17:19.184677Z",
     "start_time": "2019-02-16T06:17:19.177815Z"
    }
   },
   "outputs": [],
   "source": [
    "df_visual_entire_apartment_sf.id.nunique()"
   ]
  },
  {
   "cell_type": "code",
   "execution_count": null,
   "metadata": {
    "ExecuteTime": {
     "end_time": "2019-02-16T06:17:19.951679Z",
     "start_time": "2019-02-16T06:17:19.945768Z"
    }
   },
   "outputs": [],
   "source": [
    "df_visual_entire_apartment_scz.id.nunique()"
   ]
  },
  {
   "cell_type": "code",
   "execution_count": null,
   "metadata": {
    "ExecuteTime": {
     "end_time": "2019-02-16T06:17:21.157330Z",
     "start_time": "2019-02-16T06:17:21.129605Z"
    }
   },
   "outputs": [],
   "source": [
    "# Weekly pattern for entire apartment\n",
    "\n",
    "df_week_entire_apartment = df_visual_entire_apartment.groupby(['ref_district', 'day_of_week'])  \\\n",
    "                                                     .price_by_month_week.mean()\n",
    "df_week_entire_apartment"
   ]
  },
  {
   "cell_type": "code",
   "execution_count": null,
   "metadata": {
    "ExecuteTime": {
     "end_time": "2019-02-16T06:17:28.799186Z",
     "start_time": "2019-02-16T06:17:28.775249Z"
    }
   },
   "outputs": [],
   "source": [
    "# Weekly pattern for single room\n",
    "\n",
    "df_week_single_room = df_visual_single_room.groupby(['ref_district', 'day_of_week'])  \\\n",
    "                                           .price_by_month_week.mean()\n",
    "df_week_single_room"
   ]
  },
  {
   "cell_type": "code",
   "execution_count": null,
   "metadata": {
    "ExecuteTime": {
     "end_time": "2019-02-16T06:17:38.353352Z",
     "start_time": "2019-02-16T06:17:38.324980Z"
    }
   },
   "outputs": [],
   "source": [
    "# Montly Pattern for entire apartment\n",
    "\n",
    "df_visual_entire_apartment.groupby(['ref_district', 'month']).price_by_month_week.mean()"
   ]
  },
  {
   "cell_type": "code",
   "execution_count": null,
   "metadata": {
    "ExecuteTime": {
     "end_time": "2019-02-16T06:17:40.819982Z",
     "start_time": "2019-02-16T06:17:40.796677Z"
    }
   },
   "outputs": [],
   "source": [
    "# Montly Pattern for single room\n",
    "\n",
    "df_visual_single_room.groupby(['ref_district', 'month']).price_by_month_week.mean()"
   ]
  }
 ],
 "metadata": {
  "kernelspec": {
   "display_name": "Python 3",
   "language": "python",
   "name": "python3"
  },
  "language_info": {
   "codemirror_mode": {
    "name": "ipython",
    "version": 3
   },
   "file_extension": ".py",
   "mimetype": "text/x-python",
   "name": "python",
   "nbconvert_exporter": "python",
   "pygments_lexer": "ipython3",
   "version": "3.6.6"
  },
  "toc": {
   "base_numbering": 1,
   "nav_menu": {},
   "number_sections": true,
   "sideBar": true,
   "skip_h1_title": false,
   "title_cell": "Table of Contents",
   "title_sidebar": "Contents",
   "toc_cell": false,
   "toc_position": {},
   "toc_section_display": true,
   "toc_window_display": true
  },
  "varInspector": {
   "cols": {
    "lenName": 16,
    "lenType": 16,
    "lenVar": 40
   },
   "kernels_config": {
    "python": {
     "delete_cmd_postfix": "",
     "delete_cmd_prefix": "del ",
     "library": "var_list.py",
     "varRefreshCmd": "print(var_dic_list())"
    },
    "r": {
     "delete_cmd_postfix": ") ",
     "delete_cmd_prefix": "rm(",
     "library": "var_list.r",
     "varRefreshCmd": "cat(var_dic_list()) "
    }
   },
   "types_to_exclude": [
    "module",
    "function",
    "builtin_function_or_method",
    "instance",
    "_Feature"
   ],
   "window_display": false
  }
 },
 "nbformat": 4,
 "nbformat_minor": 2
}
