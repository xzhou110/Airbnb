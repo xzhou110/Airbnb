{
 "cells": [
  {
   "cell_type": "markdown",
   "metadata": {},
   "source": [
    "# Data Retrieval"
   ]
  },
  {
   "cell_type": "code",
   "execution_count": 1,
   "metadata": {
    "ExecuteTime": {
     "end_time": "2019-02-18T02:53:04.793607Z",
     "start_time": "2019-02-18T02:53:02.831460Z"
    }
   },
   "outputs": [],
   "source": [
    "import pandas as pd\n",
    "import csv\n",
    "import re\n",
    "import statsmodels.api as sm\n",
    "from datetime import datetime\n",
    "import matplotlib.pyplot as plt\n",
    "import numpy as np\n",
    "\n",
    "from sklearn import datasets, linear_model\n",
    "from sklearn.metrics import mean_squared_error, r2_score\n",
    "from sklearn.preprocessing import StandardScaler\n",
    "from sklearn.model_selection import train_test_split, GroupShuffleSplit\n",
    "from sklearn.ensemble import RandomForestRegressor"
   ]
  },
  {
   "cell_type": "code",
   "execution_count": 2,
   "metadata": {
    "ExecuteTime": {
     "end_time": "2019-02-18T02:53:04.871732Z",
     "start_time": "2019-02-18T02:53:04.864469Z"
    }
   },
   "outputs": [],
   "source": [
    "# File path for cities: San Francisco(sf), Okaland(ok), and Santa Clara(sc)\n",
    "\n",
    "file_url = '/Users/xzhou/github/project_archives/files_airbnb/{}/calendar.csv'\n",
    "\n",
    "sf_file = file_url.format('sf_airbnb')\n",
    "ok_file = file_url.format('ok_airbnb')\n",
    "sc_file = file_url.format('sc_airbnb')"
   ]
  },
  {
   "cell_type": "code",
   "execution_count": 3,
   "metadata": {
    "ExecuteTime": {
     "end_time": "2019-02-18T02:53:10.689497Z",
     "start_time": "2019-02-18T02:53:04.954699Z"
    }
   },
   "outputs": [
    {
     "name": "stdout",
     "output_type": "stream",
     "text": [
      "(2420680, 4) (1057770, 4) (2068820, 4)\n"
     ]
    }
   ],
   "source": [
    "# Loaded price by date information for each city\n",
    "\n",
    "pricing_sf = pd.read_csv(sf_file, parse_dates=['date'])\n",
    "pricing_ok = pd.read_csv(ok_file, parse_dates=['date'])\n",
    "pricing_sc = pd.read_csv(sc_file, parse_dates=['date'])\n",
    "\n",
    "print(pricing_sf.shape, pricing_ok.shape, pricing_sc.shape)"
   ]
  },
  {
   "cell_type": "code",
   "execution_count": 4,
   "metadata": {
    "ExecuteTime": {
     "end_time": "2019-02-18T02:53:12.932655Z",
     "start_time": "2019-02-18T02:53:11.132635Z"
    }
   },
   "outputs": [
    {
     "data": {
      "text/html": [
       "<div>\n",
       "<style scoped>\n",
       "    .dataframe tbody tr th:only-of-type {\n",
       "        vertical-align: middle;\n",
       "    }\n",
       "\n",
       "    .dataframe tbody tr th {\n",
       "        vertical-align: top;\n",
       "    }\n",
       "\n",
       "    .dataframe thead th {\n",
       "        text-align: right;\n",
       "    }\n",
       "</style>\n",
       "<table border=\"1\" class=\"dataframe\">\n",
       "  <thead>\n",
       "    <tr style=\"text-align: right;\">\n",
       "      <th></th>\n",
       "      <th></th>\n",
       "      <th>listing_id</th>\n",
       "      <th>date</th>\n",
       "      <th>available</th>\n",
       "      <th>price</th>\n",
       "    </tr>\n",
       "  </thead>\n",
       "  <tbody>\n",
       "    <tr>\n",
       "      <th rowspan=\"10\" valign=\"top\">pricing_sf</th>\n",
       "      <th>0</th>\n",
       "      <td>958</td>\n",
       "      <td>2019-08-05</td>\n",
       "      <td>f</td>\n",
       "      <td>NaN</td>\n",
       "    </tr>\n",
       "    <tr>\n",
       "      <th>1</th>\n",
       "      <td>958</td>\n",
       "      <td>2019-08-04</td>\n",
       "      <td>f</td>\n",
       "      <td>NaN</td>\n",
       "    </tr>\n",
       "    <tr>\n",
       "      <th>2</th>\n",
       "      <td>958</td>\n",
       "      <td>2019-08-03</td>\n",
       "      <td>f</td>\n",
       "      <td>NaN</td>\n",
       "    </tr>\n",
       "    <tr>\n",
       "      <th>3</th>\n",
       "      <td>958</td>\n",
       "      <td>2019-08-02</td>\n",
       "      <td>f</td>\n",
       "      <td>NaN</td>\n",
       "    </tr>\n",
       "    <tr>\n",
       "      <th>4</th>\n",
       "      <td>958</td>\n",
       "      <td>2019-08-01</td>\n",
       "      <td>f</td>\n",
       "      <td>NaN</td>\n",
       "    </tr>\n",
       "    <tr>\n",
       "      <th>5</th>\n",
       "      <td>958</td>\n",
       "      <td>2019-07-31</td>\n",
       "      <td>f</td>\n",
       "      <td>NaN</td>\n",
       "    </tr>\n",
       "    <tr>\n",
       "      <th>6</th>\n",
       "      <td>958</td>\n",
       "      <td>2019-07-30</td>\n",
       "      <td>f</td>\n",
       "      <td>NaN</td>\n",
       "    </tr>\n",
       "    <tr>\n",
       "      <th>7</th>\n",
       "      <td>958</td>\n",
       "      <td>2019-07-29</td>\n",
       "      <td>f</td>\n",
       "      <td>NaN</td>\n",
       "    </tr>\n",
       "    <tr>\n",
       "      <th>8</th>\n",
       "      <td>958</td>\n",
       "      <td>2019-07-28</td>\n",
       "      <td>f</td>\n",
       "      <td>NaN</td>\n",
       "    </tr>\n",
       "    <tr>\n",
       "      <th>9</th>\n",
       "      <td>958</td>\n",
       "      <td>2019-07-27</td>\n",
       "      <td>f</td>\n",
       "      <td>NaN</td>\n",
       "    </tr>\n",
       "  </tbody>\n",
       "</table>\n",
       "</div>"
      ],
      "text/plain": [
       "              listing_id       date available price\n",
       "pricing_sf 0         958 2019-08-05         f   NaN\n",
       "           1         958 2019-08-04         f   NaN\n",
       "           2         958 2019-08-03         f   NaN\n",
       "           3         958 2019-08-02         f   NaN\n",
       "           4         958 2019-08-01         f   NaN\n",
       "           5         958 2019-07-31         f   NaN\n",
       "           6         958 2019-07-30         f   NaN\n",
       "           7         958 2019-07-29         f   NaN\n",
       "           8         958 2019-07-28         f   NaN\n",
       "           9         958 2019-07-27         f   NaN"
      ]
     },
     "execution_count": 4,
     "metadata": {},
     "output_type": "execute_result"
    }
   ],
   "source": [
    "# Concatenated all files into one\n",
    "# Created keys for each file for future references\n",
    "\n",
    "frames = [pricing_sf, pricing_ok, pricing_sc]\n",
    "keys = ['pricing_sf', 'pricing_ok', 'pricing_sc']\n",
    "\n",
    "df_pricing = pd.concat(frames, keys=keys)\n",
    "\n",
    "df_pricing.head(10)"
   ]
  },
  {
   "cell_type": "markdown",
   "metadata": {},
   "source": [
    "# Data Exploration"
   ]
  },
  {
   "cell_type": "markdown",
   "metadata": {
    "ExecuteTime": {
     "end_time": "2019-02-16T06:04:55.761610Z",
     "start_time": "2019-02-16T06:04:55.757951Z"
    }
   },
   "source": [
    "## Smaller Set of Data"
   ]
  },
  {
   "cell_type": "code",
   "execution_count": 5,
   "metadata": {
    "ExecuteTime": {
     "end_time": "2019-02-18T02:53:14.845345Z",
     "start_time": "2019-02-18T02:53:14.023866Z"
    }
   },
   "outputs": [
    {
     "name": "stdout",
     "output_type": "stream",
     "text": [
      "Dimension for df_pricing_smaller:  (2588352, 4)\n",
      "\n",
      "Number of Unique ids:  13452\n"
     ]
    }
   ],
   "source": [
    "# Filter to houses that are available and have listing prices\n",
    "\n",
    "df_pricing_smaller = df_pricing[df_pricing['available']=='t']\n",
    "df_pricing_smaller = df_pricing_smaller.copy()\n",
    "\n",
    "print('Dimension for df_pricing_smaller: ', df_pricing_smaller.shape)\n",
    "print ('\\nNumber of Unique ids: ', df_pricing_smaller.listing_id.nunique())"
   ]
  },
  {
   "cell_type": "code",
   "execution_count": 6,
   "metadata": {
    "ExecuteTime": {
     "end_time": "2019-02-18T02:53:15.697890Z",
     "start_time": "2019-02-18T02:53:15.691640Z"
    }
   },
   "outputs": [
    {
     "data": {
      "text/plain": [
       "Index(['listing_id', 'date', 'available', 'price'], dtype='object')"
      ]
     },
     "execution_count": 6,
     "metadata": {},
     "output_type": "execute_result"
    }
   ],
   "source": [
    "df_pricing_smaller.columns"
   ]
  },
  {
   "cell_type": "markdown",
   "metadata": {},
   "source": [
    "## Data Format"
   ]
  },
  {
   "cell_type": "code",
   "execution_count": 7,
   "metadata": {
    "ExecuteTime": {
     "end_time": "2019-02-18T02:53:16.421245Z",
     "start_time": "2019-02-18T02:53:16.416162Z"
    }
   },
   "outputs": [],
   "source": [
    "def apply2df(df, column_names, function):\n",
    "    \"\"\"\n",
    "    This enables various functions to be applied to multiple columns of dataframe.\n",
    "    Input: dataframe, columns to apply function to (list), function\n",
    "    Return: updated dataframe\n",
    "    \"\"\"\n",
    "    for column in column_names:\n",
    "        df[column] = df[column].apply(lambda x: function(x))\n",
    "    return df"
   ]
  },
  {
   "cell_type": "markdown",
   "metadata": {
    "ExecuteTime": {
     "end_time": "2019-02-17T20:54:05.091473Z",
     "start_time": "2019-02-17T20:54:05.088212Z"
    }
   },
   "source": [
    "### Currency"
   ]
  },
  {
   "cell_type": "code",
   "execution_count": 8,
   "metadata": {
    "ExecuteTime": {
     "end_time": "2019-02-18T02:53:17.260201Z",
     "start_time": "2019-02-18T02:53:17.253369Z"
    }
   },
   "outputs": [],
   "source": [
    "# Noted currencies are formated as strings and need to be converted to float\n",
    "\n",
    "def currency2float(string):\n",
    "    \"\"\"\n",
    "    Convert currency to float\n",
    "    \"\"\"\n",
    "    float_ = float(str(string).strip('$').replace(',',''))\n",
    "    return float_"
   ]
  },
  {
   "cell_type": "code",
   "execution_count": 9,
   "metadata": {
    "ExecuteTime": {
     "end_time": "2019-02-18T02:53:20.809557Z",
     "start_time": "2019-02-18T02:53:18.038384Z"
    }
   },
   "outputs": [],
   "source": [
    "# Converted price to float format\n",
    "\n",
    "curriencies = ['price']\n",
    "\n",
    "df_pricing_smaller = apply2df(df_pricing_smaller, curriencies, currency2float)"
   ]
  },
  {
   "cell_type": "markdown",
   "metadata": {},
   "source": [
    "## Outliers"
   ]
  },
  {
   "cell_type": "code",
   "execution_count": 10,
   "metadata": {
    "ExecuteTime": {
     "end_time": "2019-02-18T02:53:27.524532Z",
     "start_time": "2019-02-18T02:53:27.295802Z"
    }
   },
   "outputs": [
    {
     "data": {
      "text/plain": [
       "count    2.588352e+06\n",
       "mean     2.056189e+02\n",
       "std      7.335415e+02\n",
       "min      1.000000e+01\n",
       "5%       4.000000e+01\n",
       "10%      5.000000e+01\n",
       "25%      7.800000e+01\n",
       "50%      1.290000e+02\n",
       "75%      2.090000e+02\n",
       "90%      3.500000e+02\n",
       "95%      5.000000e+02\n",
       "max      1.024520e+05\n",
       "Name: price, dtype: float64"
      ]
     },
     "execution_count": 10,
     "metadata": {},
     "output_type": "execute_result"
    }
   ],
   "source": [
    "percentiles = [0.05, 0.10, 0.25, 0.50, 0.75, 0.90, 0.95]\n",
    "\n",
    "df_pricing_smaller.price.describe(percentiles=percentiles)"
   ]
  },
  {
   "cell_type": "code",
   "execution_count": 11,
   "metadata": {
    "ExecuteTime": {
     "end_time": "2019-02-18T02:53:28.535443Z",
     "start_time": "2019-02-18T02:53:28.300283Z"
    }
   },
   "outputs": [],
   "source": [
    "# Removed outliers based on 'price'. Use 5% and 95% percentiles as cutoff\n",
    "\n",
    "five_percentile = np.percentile(df_pricing_smaller.price, 5)\n",
    "ninety_five_percentile = np.percentile(df_pricing_smaller.price, 95)\n",
    "\n",
    "df_pricing_smaller = df_pricing_smaller[(\n",
    "                        df_pricing_smaller.price>=five_percentile)\n",
    "                        & (df_pricing_smaller.price<=ninety_five_percentile)]"
   ]
  },
  {
   "cell_type": "code",
   "execution_count": 12,
   "metadata": {
    "ExecuteTime": {
     "end_time": "2019-02-18T02:53:32.099385Z",
     "start_time": "2019-02-18T02:53:32.095341Z"
    }
   },
   "outputs": [
    {
     "name": "stdout",
     "output_type": "stream",
     "text": [
      "df_pricing_smaller dimensions:  (2346265, 4)\n"
     ]
    }
   ],
   "source": [
    "print ('df_pricing_smaller dimensions: ', df_pricing_smaller.shape)"
   ]
  },
  {
   "cell_type": "markdown",
   "metadata": {
    "ExecuteTime": {
     "end_time": "2019-02-18T00:50:22.129335Z",
     "start_time": "2019-02-18T00:50:22.113843Z"
    }
   },
   "source": [
    "## Null Values"
   ]
  },
  {
   "cell_type": "code",
   "execution_count": 13,
   "metadata": {
    "ExecuteTime": {
     "end_time": "2019-02-18T02:53:35.307361Z",
     "start_time": "2019-02-18T02:53:34.999464Z"
    }
   },
   "outputs": [
    {
     "data": {
      "text/plain": [
       "listing_id    0\n",
       "date          0\n",
       "available     0\n",
       "price         0\n",
       "dtype: int64"
      ]
     },
     "execution_count": 13,
     "metadata": {},
     "output_type": "execute_result"
    }
   ],
   "source": [
    "df_pricing_smaller.isnull().sum()"
   ]
  },
  {
   "cell_type": "code",
   "execution_count": 14,
   "metadata": {
    "ExecuteTime": {
     "end_time": "2019-02-18T02:53:36.078506Z",
     "start_time": "2019-02-18T02:53:36.072681Z"
    }
   },
   "outputs": [
    {
     "data": {
      "text/plain": [
       "(2346265, 4)"
      ]
     },
     "execution_count": 14,
     "metadata": {},
     "output_type": "execute_result"
    }
   ],
   "source": [
    "df_pricing_smaller.shape"
   ]
  },
  {
   "cell_type": "code",
   "execution_count": 15,
   "metadata": {
    "ExecuteTime": {
     "end_time": "2019-02-18T02:53:36.978795Z",
     "start_time": "2019-02-18T02:53:36.777147Z"
    }
   },
   "outputs": [
    {
     "data": {
      "text/html": [
       "<div>\n",
       "<style scoped>\n",
       "    .dataframe tbody tr th:only-of-type {\n",
       "        vertical-align: middle;\n",
       "    }\n",
       "\n",
       "    .dataframe tbody tr th {\n",
       "        vertical-align: top;\n",
       "    }\n",
       "\n",
       "    .dataframe thead th {\n",
       "        text-align: right;\n",
       "    }\n",
       "</style>\n",
       "<table border=\"1\" class=\"dataframe\">\n",
       "  <thead>\n",
       "    <tr style=\"text-align: right;\">\n",
       "      <th></th>\n",
       "      <th>date</th>\n",
       "      <th>price</th>\n",
       "    </tr>\n",
       "  </thead>\n",
       "  <tbody>\n",
       "    <tr>\n",
       "      <th>count</th>\n",
       "      <td>2346265</td>\n",
       "      <td>2.346265e+06</td>\n",
       "    </tr>\n",
       "    <tr>\n",
       "      <th>unique</th>\n",
       "      <td>375</td>\n",
       "      <td>NaN</td>\n",
       "    </tr>\n",
       "    <tr>\n",
       "      <th>top</th>\n",
       "      <td>2018-11-03 00:00:00</td>\n",
       "      <td>NaN</td>\n",
       "    </tr>\n",
       "    <tr>\n",
       "      <th>freq</th>\n",
       "      <td>8671</td>\n",
       "      <td>NaN</td>\n",
       "    </tr>\n",
       "    <tr>\n",
       "      <th>first</th>\n",
       "      <td>2018-08-06 00:00:00</td>\n",
       "      <td>NaN</td>\n",
       "    </tr>\n",
       "    <tr>\n",
       "      <th>last</th>\n",
       "      <td>2019-08-15 00:00:00</td>\n",
       "      <td>NaN</td>\n",
       "    </tr>\n",
       "    <tr>\n",
       "      <th>mean</th>\n",
       "      <td>NaN</td>\n",
       "      <td>1.537473e+02</td>\n",
       "    </tr>\n",
       "    <tr>\n",
       "      <th>std</th>\n",
       "      <td>NaN</td>\n",
       "      <td>9.694863e+01</td>\n",
       "    </tr>\n",
       "    <tr>\n",
       "      <th>min</th>\n",
       "      <td>NaN</td>\n",
       "      <td>4.000000e+01</td>\n",
       "    </tr>\n",
       "    <tr>\n",
       "      <th>25%</th>\n",
       "      <td>NaN</td>\n",
       "      <td>8.000000e+01</td>\n",
       "    </tr>\n",
       "    <tr>\n",
       "      <th>50%</th>\n",
       "      <td>NaN</td>\n",
       "      <td>1.280000e+02</td>\n",
       "    </tr>\n",
       "    <tr>\n",
       "      <th>75%</th>\n",
       "      <td>NaN</td>\n",
       "      <td>1.990000e+02</td>\n",
       "    </tr>\n",
       "    <tr>\n",
       "      <th>max</th>\n",
       "      <td>NaN</td>\n",
       "      <td>5.000000e+02</td>\n",
       "    </tr>\n",
       "  </tbody>\n",
       "</table>\n",
       "</div>"
      ],
      "text/plain": [
       "                       date         price\n",
       "count               2346265  2.346265e+06\n",
       "unique                  375           NaN\n",
       "top     2018-11-03 00:00:00           NaN\n",
       "freq                   8671           NaN\n",
       "first   2018-08-06 00:00:00           NaN\n",
       "last    2019-08-15 00:00:00           NaN\n",
       "mean                    NaN  1.537473e+02\n",
       "std                     NaN  9.694863e+01\n",
       "min                     NaN  4.000000e+01\n",
       "25%                     NaN  8.000000e+01\n",
       "50%                     NaN  1.280000e+02\n",
       "75%                     NaN  1.990000e+02\n",
       "max                     NaN  5.000000e+02"
      ]
     },
     "execution_count": 15,
     "metadata": {},
     "output_type": "execute_result"
    }
   ],
   "source": [
    "columns2display = ['date', 'price']\n",
    "\n",
    "df_pricing_smaller[columns2display].describe(include='all')"
   ]
  },
  {
   "cell_type": "markdown",
   "metadata": {
    "ExecuteTime": {
     "end_time": "2019-02-16T06:10:40.512514Z",
     "start_time": "2019-02-16T06:10:40.509754Z"
    }
   },
   "source": [
    "## Seasonality Data"
   ]
  },
  {
   "cell_type": "markdown",
   "metadata": {},
   "source": [
    "### Added Month and Day-of-Week(DOW) Features"
   ]
  },
  {
   "cell_type": "code",
   "execution_count": 16,
   "metadata": {
    "ExecuteTime": {
     "end_time": "2019-02-18T02:54:09.494299Z",
     "start_time": "2019-02-18T02:54:09.046139Z"
    }
   },
   "outputs": [
    {
     "name": "stdout",
     "output_type": "stream",
     "text": [
      "df_pricing_smaller dimensions (2346265, 6)\n"
     ]
    },
    {
     "data": {
      "text/html": [
       "<div>\n",
       "<style scoped>\n",
       "    .dataframe tbody tr th:only-of-type {\n",
       "        vertical-align: middle;\n",
       "    }\n",
       "\n",
       "    .dataframe tbody tr th {\n",
       "        vertical-align: top;\n",
       "    }\n",
       "\n",
       "    .dataframe thead th {\n",
       "        text-align: right;\n",
       "    }\n",
       "</style>\n",
       "<table border=\"1\" class=\"dataframe\">\n",
       "  <thead>\n",
       "    <tr style=\"text-align: right;\">\n",
       "      <th></th>\n",
       "      <th></th>\n",
       "      <th>listing_id</th>\n",
       "      <th>date</th>\n",
       "      <th>available</th>\n",
       "      <th>price</th>\n",
       "      <th>month</th>\n",
       "      <th>day_of_week</th>\n",
       "    </tr>\n",
       "  </thead>\n",
       "  <tbody>\n",
       "    <tr>\n",
       "      <th rowspan=\"5\" valign=\"top\">pricing_sf</th>\n",
       "      <th>63</th>\n",
       "      <td>958</td>\n",
       "      <td>2019-05-02</td>\n",
       "      <td>t</td>\n",
       "      <td>181.0</td>\n",
       "      <td>5</td>\n",
       "      <td>3</td>\n",
       "    </tr>\n",
       "    <tr>\n",
       "      <th>64</th>\n",
       "      <td>958</td>\n",
       "      <td>2019-05-01</td>\n",
       "      <td>t</td>\n",
       "      <td>181.0</td>\n",
       "      <td>5</td>\n",
       "      <td>2</td>\n",
       "    </tr>\n",
       "    <tr>\n",
       "      <th>65</th>\n",
       "      <td>958</td>\n",
       "      <td>2019-04-30</td>\n",
       "      <td>t</td>\n",
       "      <td>181.0</td>\n",
       "      <td>4</td>\n",
       "      <td>1</td>\n",
       "    </tr>\n",
       "    <tr>\n",
       "      <th>66</th>\n",
       "      <td>958</td>\n",
       "      <td>2019-04-29</td>\n",
       "      <td>t</td>\n",
       "      <td>181.0</td>\n",
       "      <td>4</td>\n",
       "      <td>0</td>\n",
       "    </tr>\n",
       "    <tr>\n",
       "      <th>67</th>\n",
       "      <td>958</td>\n",
       "      <td>2019-04-28</td>\n",
       "      <td>t</td>\n",
       "      <td>181.0</td>\n",
       "      <td>4</td>\n",
       "      <td>6</td>\n",
       "    </tr>\n",
       "  </tbody>\n",
       "</table>\n",
       "</div>"
      ],
      "text/plain": [
       "               listing_id       date available  price  month  day_of_week\n",
       "pricing_sf 63         958 2019-05-02         t  181.0      5            3\n",
       "           64         958 2019-05-01         t  181.0      5            2\n",
       "           65         958 2019-04-30         t  181.0      4            1\n",
       "           66         958 2019-04-29         t  181.0      4            0\n",
       "           67         958 2019-04-28         t  181.0      4            6"
      ]
     },
     "metadata": {},
     "output_type": "display_data"
    }
   ],
   "source": [
    "# Added 'month' column to extract month of date\n",
    "# Added 'day_of_week' column to extact day of week. \n",
    "# Default format: Monday=0, Sunday=6\n",
    "\n",
    "df_pricing_smaller['month'] = df_pricing_smaller['date'].dt.month\n",
    "df_pricing_smaller['day_of_week'] = df_pricing_smaller['date'].dt.weekday\n",
    "\n",
    "\n",
    "print('df_pricing_smaller dimensions', df_pricing_smaller.shape)\n",
    "display(df_pricing_smaller.head())"
   ]
  },
  {
   "cell_type": "code",
   "execution_count": 17,
   "metadata": {
    "ExecuteTime": {
     "end_time": "2019-02-18T02:54:11.943039Z",
     "start_time": "2019-02-18T02:54:11.678144Z"
    }
   },
   "outputs": [
    {
     "data": {
      "text/plain": [
       "<matplotlib.axes._subplots.AxesSubplot at 0x1119f7748>"
      ]
     },
     "execution_count": 17,
     "metadata": {},
     "output_type": "execute_result"
    },
    {
     "data": {
      "image/png": "[encoded data removed]",
      "text/plain": [
       "<Figure size 432x288 with 1 Axes>"
      ]
     },
     "metadata": {},
     "output_type": "display_data"
    }
   ],
   "source": [
    "# Checked the price distribution by month\n",
    "\n",
    "df_pricing_smaller.month.hist(bins=12)"
   ]
  },
  {
   "cell_type": "code",
   "execution_count": 18,
   "metadata": {
    "ExecuteTime": {
     "end_time": "2019-02-18T02:54:12.914791Z",
     "start_time": "2019-02-18T02:54:12.681666Z"
    }
   },
   "outputs": [
    {
     "data": {
      "text/plain": [
       "<matplotlib.axes._subplots.AxesSubplot at 0x1c2101a588>"
      ]
     },
     "execution_count": 18,
     "metadata": {},
     "output_type": "execute_result"
    },
    {
     "data": {
      "image/png": "[encoded data removed]",
      "text/plain": [
       "<Figure size 432x288 with 1 Axes>"
      ]
     },
     "metadata": {},
     "output_type": "display_data"
    }
   ],
   "source": [
    "# Checked the price distribution by day of week\n",
    "\n",
    "df_pricing_smaller.day_of_week.hist(bins=7)"
   ]
  },
  {
   "cell_type": "markdown",
   "metadata": {},
   "source": [
    "### Pricing By Month by DOW"
   ]
  },
  {
   "cell_type": "code",
   "execution_count": 19,
   "metadata": {
    "ExecuteTime": {
     "end_time": "2019-02-18T02:55:32.503045Z",
     "start_time": "2019-02-18T02:55:31.813720Z"
    }
   },
   "outputs": [
    {
     "data": {
      "text/html": [
       "<div>\n",
       "<style scoped>\n",
       "    .dataframe tbody tr th:only-of-type {\n",
       "        vertical-align: middle;\n",
       "    }\n",
       "\n",
       "    .dataframe tbody tr th {\n",
       "        vertical-align: top;\n",
       "    }\n",
       "\n",
       "    .dataframe thead th {\n",
       "        text-align: right;\n",
       "    }\n",
       "</style>\n",
       "<table border=\"1\" class=\"dataframe\">\n",
       "  <thead>\n",
       "    <tr style=\"text-align: right;\">\n",
       "      <th></th>\n",
       "      <th>listing_id</th>\n",
       "      <th>month</th>\n",
       "      <th>day_of_week</th>\n",
       "      <th>price</th>\n",
       "    </tr>\n",
       "  </thead>\n",
       "  <tbody>\n",
       "    <tr>\n",
       "      <th>0</th>\n",
       "      <td>958</td>\n",
       "      <td>1</td>\n",
       "      <td>0</td>\n",
       "      <td>180.0</td>\n",
       "    </tr>\n",
       "    <tr>\n",
       "      <th>1</th>\n",
       "      <td>958</td>\n",
       "      <td>1</td>\n",
       "      <td>1</td>\n",
       "      <td>179.5</td>\n",
       "    </tr>\n",
       "    <tr>\n",
       "      <th>2</th>\n",
       "      <td>958</td>\n",
       "      <td>1</td>\n",
       "      <td>2</td>\n",
       "      <td>179.5</td>\n",
       "    </tr>\n",
       "    <tr>\n",
       "      <th>3</th>\n",
       "      <td>958</td>\n",
       "      <td>1</td>\n",
       "      <td>3</td>\n",
       "      <td>179.0</td>\n",
       "    </tr>\n",
       "    <tr>\n",
       "      <th>4</th>\n",
       "      <td>958</td>\n",
       "      <td>1</td>\n",
       "      <td>4</td>\n",
       "      <td>183.0</td>\n",
       "    </tr>\n",
       "    <tr>\n",
       "      <th>5</th>\n",
       "      <td>958</td>\n",
       "      <td>1</td>\n",
       "      <td>5</td>\n",
       "      <td>185.0</td>\n",
       "    </tr>\n",
       "    <tr>\n",
       "      <th>6</th>\n",
       "      <td>958</td>\n",
       "      <td>1</td>\n",
       "      <td>6</td>\n",
       "      <td>180.0</td>\n",
       "    </tr>\n",
       "    <tr>\n",
       "      <th>7</th>\n",
       "      <td>958</td>\n",
       "      <td>2</td>\n",
       "      <td>0</td>\n",
       "      <td>179.0</td>\n",
       "    </tr>\n",
       "    <tr>\n",
       "      <th>8</th>\n",
       "      <td>958</td>\n",
       "      <td>2</td>\n",
       "      <td>1</td>\n",
       "      <td>179.0</td>\n",
       "    </tr>\n",
       "    <tr>\n",
       "      <th>9</th>\n",
       "      <td>958</td>\n",
       "      <td>2</td>\n",
       "      <td>2</td>\n",
       "      <td>179.0</td>\n",
       "    </tr>\n",
       "    <tr>\n",
       "      <th>10</th>\n",
       "      <td>958</td>\n",
       "      <td>2</td>\n",
       "      <td>3</td>\n",
       "      <td>179.0</td>\n",
       "    </tr>\n",
       "    <tr>\n",
       "      <th>11</th>\n",
       "      <td>958</td>\n",
       "      <td>2</td>\n",
       "      <td>4</td>\n",
       "      <td>188.5</td>\n",
       "    </tr>\n",
       "    <tr>\n",
       "      <th>12</th>\n",
       "      <td>958</td>\n",
       "      <td>2</td>\n",
       "      <td>5</td>\n",
       "      <td>188.0</td>\n",
       "    </tr>\n",
       "    <tr>\n",
       "      <th>13</th>\n",
       "      <td>958</td>\n",
       "      <td>2</td>\n",
       "      <td>6</td>\n",
       "      <td>179.0</td>\n",
       "    </tr>\n",
       "    <tr>\n",
       "      <th>14</th>\n",
       "      <td>958</td>\n",
       "      <td>3</td>\n",
       "      <td>0</td>\n",
       "      <td>181.0</td>\n",
       "    </tr>\n",
       "    <tr>\n",
       "      <th>15</th>\n",
       "      <td>958</td>\n",
       "      <td>3</td>\n",
       "      <td>1</td>\n",
       "      <td>181.0</td>\n",
       "    </tr>\n",
       "    <tr>\n",
       "      <th>16</th>\n",
       "      <td>958</td>\n",
       "      <td>3</td>\n",
       "      <td>2</td>\n",
       "      <td>181.0</td>\n",
       "    </tr>\n",
       "    <tr>\n",
       "      <th>17</th>\n",
       "      <td>958</td>\n",
       "      <td>3</td>\n",
       "      <td>3</td>\n",
       "      <td>181.0</td>\n",
       "    </tr>\n",
       "    <tr>\n",
       "      <th>18</th>\n",
       "      <td>958</td>\n",
       "      <td>3</td>\n",
       "      <td>4</td>\n",
       "      <td>191.0</td>\n",
       "    </tr>\n",
       "    <tr>\n",
       "      <th>19</th>\n",
       "      <td>958</td>\n",
       "      <td>3</td>\n",
       "      <td>5</td>\n",
       "      <td>191.0</td>\n",
       "    </tr>\n",
       "    <tr>\n",
       "      <th>20</th>\n",
       "      <td>958</td>\n",
       "      <td>3</td>\n",
       "      <td>6</td>\n",
       "      <td>181.0</td>\n",
       "    </tr>\n",
       "    <tr>\n",
       "      <th>21</th>\n",
       "      <td>958</td>\n",
       "      <td>4</td>\n",
       "      <td>0</td>\n",
       "      <td>181.0</td>\n",
       "    </tr>\n",
       "    <tr>\n",
       "      <th>22</th>\n",
       "      <td>958</td>\n",
       "      <td>4</td>\n",
       "      <td>1</td>\n",
       "      <td>181.0</td>\n",
       "    </tr>\n",
       "    <tr>\n",
       "      <th>23</th>\n",
       "      <td>958</td>\n",
       "      <td>4</td>\n",
       "      <td>2</td>\n",
       "      <td>181.0</td>\n",
       "    </tr>\n",
       "    <tr>\n",
       "      <th>24</th>\n",
       "      <td>958</td>\n",
       "      <td>4</td>\n",
       "      <td>3</td>\n",
       "      <td>181.0</td>\n",
       "    </tr>\n",
       "    <tr>\n",
       "      <th>25</th>\n",
       "      <td>958</td>\n",
       "      <td>4</td>\n",
       "      <td>4</td>\n",
       "      <td>191.0</td>\n",
       "    </tr>\n",
       "    <tr>\n",
       "      <th>26</th>\n",
       "      <td>958</td>\n",
       "      <td>4</td>\n",
       "      <td>5</td>\n",
       "      <td>191.0</td>\n",
       "    </tr>\n",
       "    <tr>\n",
       "      <th>27</th>\n",
       "      <td>958</td>\n",
       "      <td>4</td>\n",
       "      <td>6</td>\n",
       "      <td>181.0</td>\n",
       "    </tr>\n",
       "    <tr>\n",
       "      <th>28</th>\n",
       "      <td>958</td>\n",
       "      <td>5</td>\n",
       "      <td>2</td>\n",
       "      <td>181.0</td>\n",
       "    </tr>\n",
       "    <tr>\n",
       "      <th>29</th>\n",
       "      <td>958</td>\n",
       "      <td>5</td>\n",
       "      <td>3</td>\n",
       "      <td>181.0</td>\n",
       "    </tr>\n",
       "    <tr>\n",
       "      <th>...</th>\n",
       "      <td>...</td>\n",
       "      <td>...</td>\n",
       "      <td>...</td>\n",
       "      <td>...</td>\n",
       "    </tr>\n",
       "    <tr>\n",
       "      <th>70</th>\n",
       "      <td>3083</td>\n",
       "      <td>11</td>\n",
       "      <td>1</td>\n",
       "      <td>65.0</td>\n",
       "    </tr>\n",
       "    <tr>\n",
       "      <th>71</th>\n",
       "      <td>3083</td>\n",
       "      <td>11</td>\n",
       "      <td>2</td>\n",
       "      <td>65.0</td>\n",
       "    </tr>\n",
       "    <tr>\n",
       "      <th>72</th>\n",
       "      <td>3083</td>\n",
       "      <td>11</td>\n",
       "      <td>3</td>\n",
       "      <td>65.0</td>\n",
       "    </tr>\n",
       "    <tr>\n",
       "      <th>73</th>\n",
       "      <td>3083</td>\n",
       "      <td>11</td>\n",
       "      <td>4</td>\n",
       "      <td>65.0</td>\n",
       "    </tr>\n",
       "    <tr>\n",
       "      <th>74</th>\n",
       "      <td>3083</td>\n",
       "      <td>11</td>\n",
       "      <td>5</td>\n",
       "      <td>65.0</td>\n",
       "    </tr>\n",
       "    <tr>\n",
       "      <th>75</th>\n",
       "      <td>3083</td>\n",
       "      <td>11</td>\n",
       "      <td>6</td>\n",
       "      <td>65.0</td>\n",
       "    </tr>\n",
       "    <tr>\n",
       "      <th>76</th>\n",
       "      <td>3083</td>\n",
       "      <td>12</td>\n",
       "      <td>0</td>\n",
       "      <td>65.0</td>\n",
       "    </tr>\n",
       "    <tr>\n",
       "      <th>77</th>\n",
       "      <td>3083</td>\n",
       "      <td>12</td>\n",
       "      <td>1</td>\n",
       "      <td>65.0</td>\n",
       "    </tr>\n",
       "    <tr>\n",
       "      <th>78</th>\n",
       "      <td>3083</td>\n",
       "      <td>12</td>\n",
       "      <td>2</td>\n",
       "      <td>65.0</td>\n",
       "    </tr>\n",
       "    <tr>\n",
       "      <th>79</th>\n",
       "      <td>3083</td>\n",
       "      <td>12</td>\n",
       "      <td>3</td>\n",
       "      <td>65.0</td>\n",
       "    </tr>\n",
       "    <tr>\n",
       "      <th>80</th>\n",
       "      <td>3083</td>\n",
       "      <td>12</td>\n",
       "      <td>4</td>\n",
       "      <td>65.0</td>\n",
       "    </tr>\n",
       "    <tr>\n",
       "      <th>81</th>\n",
       "      <td>3083</td>\n",
       "      <td>12</td>\n",
       "      <td>5</td>\n",
       "      <td>65.0</td>\n",
       "    </tr>\n",
       "    <tr>\n",
       "      <th>82</th>\n",
       "      <td>3083</td>\n",
       "      <td>12</td>\n",
       "      <td>6</td>\n",
       "      <td>65.0</td>\n",
       "    </tr>\n",
       "    <tr>\n",
       "      <th>83</th>\n",
       "      <td>3264</td>\n",
       "      <td>9</td>\n",
       "      <td>0</td>\n",
       "      <td>53.0</td>\n",
       "    </tr>\n",
       "    <tr>\n",
       "      <th>84</th>\n",
       "      <td>3264</td>\n",
       "      <td>9</td>\n",
       "      <td>1</td>\n",
       "      <td>53.0</td>\n",
       "    </tr>\n",
       "    <tr>\n",
       "      <th>85</th>\n",
       "      <td>3264</td>\n",
       "      <td>9</td>\n",
       "      <td>2</td>\n",
       "      <td>53.0</td>\n",
       "    </tr>\n",
       "    <tr>\n",
       "      <th>86</th>\n",
       "      <td>3264</td>\n",
       "      <td>9</td>\n",
       "      <td>3</td>\n",
       "      <td>53.0</td>\n",
       "    </tr>\n",
       "    <tr>\n",
       "      <th>87</th>\n",
       "      <td>3264</td>\n",
       "      <td>9</td>\n",
       "      <td>4</td>\n",
       "      <td>63.0</td>\n",
       "    </tr>\n",
       "    <tr>\n",
       "      <th>88</th>\n",
       "      <td>3264</td>\n",
       "      <td>9</td>\n",
       "      <td>5</td>\n",
       "      <td>63.0</td>\n",
       "    </tr>\n",
       "    <tr>\n",
       "      <th>89</th>\n",
       "      <td>3264</td>\n",
       "      <td>9</td>\n",
       "      <td>6</td>\n",
       "      <td>53.0</td>\n",
       "    </tr>\n",
       "    <tr>\n",
       "      <th>90</th>\n",
       "      <td>3264</td>\n",
       "      <td>10</td>\n",
       "      <td>0</td>\n",
       "      <td>53.0</td>\n",
       "    </tr>\n",
       "    <tr>\n",
       "      <th>91</th>\n",
       "      <td>3264</td>\n",
       "      <td>10</td>\n",
       "      <td>1</td>\n",
       "      <td>53.0</td>\n",
       "    </tr>\n",
       "    <tr>\n",
       "      <th>92</th>\n",
       "      <td>3264</td>\n",
       "      <td>10</td>\n",
       "      <td>2</td>\n",
       "      <td>53.0</td>\n",
       "    </tr>\n",
       "    <tr>\n",
       "      <th>93</th>\n",
       "      <td>3264</td>\n",
       "      <td>10</td>\n",
       "      <td>3</td>\n",
       "      <td>53.0</td>\n",
       "    </tr>\n",
       "    <tr>\n",
       "      <th>94</th>\n",
       "      <td>3264</td>\n",
       "      <td>10</td>\n",
       "      <td>4</td>\n",
       "      <td>63.0</td>\n",
       "    </tr>\n",
       "    <tr>\n",
       "      <th>95</th>\n",
       "      <td>3264</td>\n",
       "      <td>10</td>\n",
       "      <td>5</td>\n",
       "      <td>63.0</td>\n",
       "    </tr>\n",
       "    <tr>\n",
       "      <th>96</th>\n",
       "      <td>3264</td>\n",
       "      <td>10</td>\n",
       "      <td>6</td>\n",
       "      <td>53.0</td>\n",
       "    </tr>\n",
       "    <tr>\n",
       "      <th>97</th>\n",
       "      <td>3264</td>\n",
       "      <td>11</td>\n",
       "      <td>0</td>\n",
       "      <td>53.0</td>\n",
       "    </tr>\n",
       "    <tr>\n",
       "      <th>98</th>\n",
       "      <td>3264</td>\n",
       "      <td>11</td>\n",
       "      <td>1</td>\n",
       "      <td>53.0</td>\n",
       "    </tr>\n",
       "    <tr>\n",
       "      <th>99</th>\n",
       "      <td>3264</td>\n",
       "      <td>11</td>\n",
       "      <td>2</td>\n",
       "      <td>53.0</td>\n",
       "    </tr>\n",
       "  </tbody>\n",
       "</table>\n",
       "<p>100 rows × 4 columns</p>\n",
       "</div>"
      ],
      "text/plain": [
       "    listing_id  month  day_of_week  price\n",
       "0          958      1            0  180.0\n",
       "1          958      1            1  179.5\n",
       "2          958      1            2  179.5\n",
       "3          958      1            3  179.0\n",
       "4          958      1            4  183.0\n",
       "5          958      1            5  185.0\n",
       "6          958      1            6  180.0\n",
       "7          958      2            0  179.0\n",
       "8          958      2            1  179.0\n",
       "9          958      2            2  179.0\n",
       "10         958      2            3  179.0\n",
       "11         958      2            4  188.5\n",
       "12         958      2            5  188.0\n",
       "13         958      2            6  179.0\n",
       "14         958      3            0  181.0\n",
       "15         958      3            1  181.0\n",
       "16         958      3            2  181.0\n",
       "17         958      3            3  181.0\n",
       "18         958      3            4  191.0\n",
       "19         958      3            5  191.0\n",
       "20         958      3            6  181.0\n",
       "21         958      4            0  181.0\n",
       "22         958      4            1  181.0\n",
       "23         958      4            2  181.0\n",
       "24         958      4            3  181.0\n",
       "25         958      4            4  191.0\n",
       "26         958      4            5  191.0\n",
       "27         958      4            6  181.0\n",
       "28         958      5            2  181.0\n",
       "29         958      5            3  181.0\n",
       "..         ...    ...          ...    ...\n",
       "70        3083     11            1   65.0\n",
       "71        3083     11            2   65.0\n",
       "72        3083     11            3   65.0\n",
       "73        3083     11            4   65.0\n",
       "74        3083     11            5   65.0\n",
       "75        3083     11            6   65.0\n",
       "76        3083     12            0   65.0\n",
       "77        3083     12            1   65.0\n",
       "78        3083     12            2   65.0\n",
       "79        3083     12            3   65.0\n",
       "80        3083     12            4   65.0\n",
       "81        3083     12            5   65.0\n",
       "82        3083     12            6   65.0\n",
       "83        3264      9            0   53.0\n",
       "84        3264      9            1   53.0\n",
       "85        3264      9            2   53.0\n",
       "86        3264      9            3   53.0\n",
       "87        3264      9            4   63.0\n",
       "88        3264      9            5   63.0\n",
       "89        3264      9            6   53.0\n",
       "90        3264     10            0   53.0\n",
       "91        3264     10            1   53.0\n",
       "92        3264     10            2   53.0\n",
       "93        3264     10            3   53.0\n",
       "94        3264     10            4   63.0\n",
       "95        3264     10            5   63.0\n",
       "96        3264     10            6   53.0\n",
       "97        3264     11            0   53.0\n",
       "98        3264     11            1   53.0\n",
       "99        3264     11            2   53.0\n",
       "\n",
       "[100 rows x 4 columns]"
      ]
     },
     "execution_count": 19,
     "metadata": {},
     "output_type": "execute_result"
    }
   ],
   "source": [
    "# Group by month by day of week, and calculate an average pricing\n",
    "\n",
    "df_pricing_by_mon_dow = df_pricing_smaller  \\\n",
    "                            .groupby(['listing_id', 'month', 'day_of_week'])  \\\n",
    "                            .price.mean()  \\\n",
    "                            .reset_index()\n",
    "df_pricing_by_mon_dow.head(100)"
   ]
  },
  {
   "cell_type": "code",
   "execution_count": 21,
   "metadata": {
    "ExecuteTime": {
     "end_time": "2019-02-18T02:55:43.041120Z",
     "start_time": "2019-02-18T02:55:42.977795Z"
    }
   },
   "outputs": [
    {
     "data": {
      "text/plain": [
       "listing_id     0\n",
       "month          0\n",
       "day_of_week    0\n",
       "price          0\n",
       "dtype: int64"
      ]
     },
     "execution_count": 21,
     "metadata": {},
     "output_type": "execute_result"
    }
   ],
   "source": [
    "# Check for null values if any\n",
    "\n",
    "df_pricing_by_mon_dow.isnull().sum()"
   ]
  },
  {
   "cell_type": "code",
   "execution_count": 22,
   "metadata": {
    "ExecuteTime": {
     "end_time": "2019-02-18T02:55:57.371650Z",
     "start_time": "2019-02-18T02:55:57.360651Z"
    }
   },
   "outputs": [],
   "source": [
    "# Rename the average price column to avoid confusion\n",
    "\n",
    "df_pricing_by_mon_dow.rename(columns={'price':'price_by_month_dow'}, inplace=True)"
   ]
  },
  {
   "cell_type": "code",
   "execution_count": 23,
   "metadata": {
    "ExecuteTime": {
     "end_time": "2019-02-18T02:56:03.387857Z",
     "start_time": "2019-02-18T02:56:03.382552Z"
    }
   },
   "outputs": [
    {
     "data": {
      "text/plain": [
       "(625086, 4)"
      ]
     },
     "execution_count": 23,
     "metadata": {},
     "output_type": "execute_result"
    }
   ],
   "source": [
    "df_pricing_by_mon_dow.shape"
   ]
  },
  {
   "cell_type": "code",
   "execution_count": 24,
   "metadata": {
    "ExecuteTime": {
     "end_time": "2019-02-18T02:56:04.218990Z",
     "start_time": "2019-02-18T02:56:04.209307Z"
    }
   },
   "outputs": [
    {
     "data": {
      "text/html": [
       "<div>\n",
       "<style scoped>\n",
       "    .dataframe tbody tr th:only-of-type {\n",
       "        vertical-align: middle;\n",
       "    }\n",
       "\n",
       "    .dataframe tbody tr th {\n",
       "        vertical-align: top;\n",
       "    }\n",
       "\n",
       "    .dataframe thead th {\n",
       "        text-align: right;\n",
       "    }\n",
       "</style>\n",
       "<table border=\"1\" class=\"dataframe\">\n",
       "  <thead>\n",
       "    <tr style=\"text-align: right;\">\n",
       "      <th></th>\n",
       "      <th>listing_id</th>\n",
       "      <th>month</th>\n",
       "      <th>day_of_week</th>\n",
       "      <th>price_by_month_dow</th>\n",
       "    </tr>\n",
       "  </thead>\n",
       "  <tbody>\n",
       "    <tr>\n",
       "      <th>0</th>\n",
       "      <td>958</td>\n",
       "      <td>1</td>\n",
       "      <td>0</td>\n",
       "      <td>180.0</td>\n",
       "    </tr>\n",
       "    <tr>\n",
       "      <th>1</th>\n",
       "      <td>958</td>\n",
       "      <td>1</td>\n",
       "      <td>1</td>\n",
       "      <td>179.5</td>\n",
       "    </tr>\n",
       "    <tr>\n",
       "      <th>2</th>\n",
       "      <td>958</td>\n",
       "      <td>1</td>\n",
       "      <td>2</td>\n",
       "      <td>179.5</td>\n",
       "    </tr>\n",
       "    <tr>\n",
       "      <th>3</th>\n",
       "      <td>958</td>\n",
       "      <td>1</td>\n",
       "      <td>3</td>\n",
       "      <td>179.0</td>\n",
       "    </tr>\n",
       "    <tr>\n",
       "      <th>4</th>\n",
       "      <td>958</td>\n",
       "      <td>1</td>\n",
       "      <td>4</td>\n",
       "      <td>183.0</td>\n",
       "    </tr>\n",
       "  </tbody>\n",
       "</table>\n",
       "</div>"
      ],
      "text/plain": [
       "   listing_id  month  day_of_week  price_by_month_dow\n",
       "0         958      1            0               180.0\n",
       "1         958      1            1               179.5\n",
       "2         958      1            2               179.5\n",
       "3         958      1            3               179.0\n",
       "4         958      1            4               183.0"
      ]
     },
     "execution_count": 24,
     "metadata": {},
     "output_type": "execute_result"
    }
   ],
   "source": [
    "df_pricing_by_mon_dow.head()"
   ]
  },
  {
   "cell_type": "markdown",
   "metadata": {
    "ExecuteTime": {
     "end_time": "2019-02-17T23:54:06.544353Z",
     "start_time": "2019-02-17T23:54:06.541120Z"
    }
   },
   "source": [
    "### Convert Month, DOW Info to Dummy Variables"
   ]
  },
  {
   "cell_type": "code",
   "execution_count": 27,
   "metadata": {
    "ExecuteTime": {
     "end_time": "2019-02-18T02:59:27.484744Z",
     "start_time": "2019-02-18T02:59:27.480864Z"
    }
   },
   "outputs": [],
   "source": [
    "def get_month(number):\n",
    "    \"\"\"\n",
    "    Given a number, return the name of month.\n",
    "    \n",
    "    \"\"\"\n",
    "    month_lookup = {1:'Jan.', 2:'Feb.', 3:'Mar.', 4:'Apr.', 5:'May.', 6:'Jun.',\n",
    "                    7:'Jul.', 8:'Aug.', 9:'Sep.', 10:'Oct.', 11:'Nov.', 12:'Dec.'}\n",
    "    \n",
    "    return month_lookup[number]"
   ]
  },
  {
   "cell_type": "code",
   "execution_count": 28,
   "metadata": {
    "ExecuteTime": {
     "end_time": "2019-02-18T02:59:28.314898Z",
     "start_time": "2019-02-18T02:59:28.311254Z"
    }
   },
   "outputs": [],
   "source": [
    "def get_dow(number):\n",
    "    \"\"\"\n",
    "    Given a number, return the day of week (dow)\n",
    "    \n",
    "    \"\"\"\n",
    "    weekday_lookup = {0:'Monday', 1:'Tuesday', 2:'Wednesday', 3:'Thursday', \n",
    "                      4:'Friday', 5:'Saturday', 6:'Sunday'}\n",
    "    \n",
    "    return weekday_lookup[number]"
   ]
  },
  {
   "cell_type": "code",
   "execution_count": 31,
   "metadata": {
    "ExecuteTime": {
     "end_time": "2019-02-18T03:03:56.650456Z",
     "start_time": "2019-02-18T03:03:55.758213Z"
    }
   },
   "outputs": [],
   "source": [
    "# Added names for month, and day of week(dow) informaiton\n",
    "\n",
    "df_pricing_by_mon_dow = apply2df(df_pricing_by_mon_dow, ['month'], get_month )\n",
    "df_pricing_by_mon_dow = apply2df(df_pricing_by_mon_dow, ['day_of_week'], get_dow )"
   ]
  },
  {
   "cell_type": "code",
   "execution_count": 35,
   "metadata": {
    "ExecuteTime": {
     "end_time": "2019-02-18T03:09:44.299060Z",
     "start_time": "2019-02-18T03:09:44.153379Z"
    }
   },
   "outputs": [
    {
     "name": "stdout",
     "output_type": "stream",
     "text": [
      "df_pricing_final dimensions:  (625086, 21)\n"
     ]
    },
    {
     "data": {
      "text/html": [
       "<div>\n",
       "<style scoped>\n",
       "    .dataframe tbody tr th:only-of-type {\n",
       "        vertical-align: middle;\n",
       "    }\n",
       "\n",
       "    .dataframe tbody tr th {\n",
       "        vertical-align: top;\n",
       "    }\n",
       "\n",
       "    .dataframe thead th {\n",
       "        text-align: right;\n",
       "    }\n",
       "</style>\n",
       "<table border=\"1\" class=\"dataframe\">\n",
       "  <thead>\n",
       "    <tr style=\"text-align: right;\">\n",
       "      <th></th>\n",
       "      <th>listing_id</th>\n",
       "      <th>price_by_month_dow</th>\n",
       "      <th>Apr.</th>\n",
       "      <th>Aug.</th>\n",
       "      <th>Dec.</th>\n",
       "      <th>Feb.</th>\n",
       "      <th>Jan.</th>\n",
       "      <th>Jul.</th>\n",
       "      <th>Jun.</th>\n",
       "      <th>Mar.</th>\n",
       "      <th>...</th>\n",
       "      <th>Nov.</th>\n",
       "      <th>Oct.</th>\n",
       "      <th>Sep.</th>\n",
       "      <th>Friday</th>\n",
       "      <th>Monday</th>\n",
       "      <th>Saturday</th>\n",
       "      <th>Sunday</th>\n",
       "      <th>Thursday</th>\n",
       "      <th>Tuesday</th>\n",
       "      <th>Wednesday</th>\n",
       "    </tr>\n",
       "  </thead>\n",
       "  <tbody>\n",
       "    <tr>\n",
       "      <th>0</th>\n",
       "      <td>958</td>\n",
       "      <td>180.0</td>\n",
       "      <td>0</td>\n",
       "      <td>0</td>\n",
       "      <td>0</td>\n",
       "      <td>0</td>\n",
       "      <td>1</td>\n",
       "      <td>0</td>\n",
       "      <td>0</td>\n",
       "      <td>0</td>\n",
       "      <td>...</td>\n",
       "      <td>0</td>\n",
       "      <td>0</td>\n",
       "      <td>0</td>\n",
       "      <td>0</td>\n",
       "      <td>1</td>\n",
       "      <td>0</td>\n",
       "      <td>0</td>\n",
       "      <td>0</td>\n",
       "      <td>0</td>\n",
       "      <td>0</td>\n",
       "    </tr>\n",
       "    <tr>\n",
       "      <th>1</th>\n",
       "      <td>958</td>\n",
       "      <td>179.5</td>\n",
       "      <td>0</td>\n",
       "      <td>0</td>\n",
       "      <td>0</td>\n",
       "      <td>0</td>\n",
       "      <td>1</td>\n",
       "      <td>0</td>\n",
       "      <td>0</td>\n",
       "      <td>0</td>\n",
       "      <td>...</td>\n",
       "      <td>0</td>\n",
       "      <td>0</td>\n",
       "      <td>0</td>\n",
       "      <td>0</td>\n",
       "      <td>0</td>\n",
       "      <td>0</td>\n",
       "      <td>0</td>\n",
       "      <td>0</td>\n",
       "      <td>1</td>\n",
       "      <td>0</td>\n",
       "    </tr>\n",
       "    <tr>\n",
       "      <th>2</th>\n",
       "      <td>958</td>\n",
       "      <td>179.5</td>\n",
       "      <td>0</td>\n",
       "      <td>0</td>\n",
       "      <td>0</td>\n",
       "      <td>0</td>\n",
       "      <td>1</td>\n",
       "      <td>0</td>\n",
       "      <td>0</td>\n",
       "      <td>0</td>\n",
       "      <td>...</td>\n",
       "      <td>0</td>\n",
       "      <td>0</td>\n",
       "      <td>0</td>\n",
       "      <td>0</td>\n",
       "      <td>0</td>\n",
       "      <td>0</td>\n",
       "      <td>0</td>\n",
       "      <td>0</td>\n",
       "      <td>0</td>\n",
       "      <td>1</td>\n",
       "    </tr>\n",
       "    <tr>\n",
       "      <th>3</th>\n",
       "      <td>958</td>\n",
       "      <td>179.0</td>\n",
       "      <td>0</td>\n",
       "      <td>0</td>\n",
       "      <td>0</td>\n",
       "      <td>0</td>\n",
       "      <td>1</td>\n",
       "      <td>0</td>\n",
       "      <td>0</td>\n",
       "      <td>0</td>\n",
       "      <td>...</td>\n",
       "      <td>0</td>\n",
       "      <td>0</td>\n",
       "      <td>0</td>\n",
       "      <td>0</td>\n",
       "      <td>0</td>\n",
       "      <td>0</td>\n",
       "      <td>0</td>\n",
       "      <td>1</td>\n",
       "      <td>0</td>\n",
       "      <td>0</td>\n",
       "    </tr>\n",
       "    <tr>\n",
       "      <th>4</th>\n",
       "      <td>958</td>\n",
       "      <td>183.0</td>\n",
       "      <td>0</td>\n",
       "      <td>0</td>\n",
       "      <td>0</td>\n",
       "      <td>0</td>\n",
       "      <td>1</td>\n",
       "      <td>0</td>\n",
       "      <td>0</td>\n",
       "      <td>0</td>\n",
       "      <td>...</td>\n",
       "      <td>0</td>\n",
       "      <td>0</td>\n",
       "      <td>0</td>\n",
       "      <td>1</td>\n",
       "      <td>0</td>\n",
       "      <td>0</td>\n",
       "      <td>0</td>\n",
       "      <td>0</td>\n",
       "      <td>0</td>\n",
       "      <td>0</td>\n",
       "    </tr>\n",
       "  </tbody>\n",
       "</table>\n",
       "<p>5 rows × 21 columns</p>\n",
       "</div>"
      ],
      "text/plain": [
       "   listing_id  price_by_month_dow  Apr.  Aug.  Dec.  Feb.  Jan.  Jul.  Jun.  \\\n",
       "0         958               180.0     0     0     0     0     1     0     0   \n",
       "1         958               179.5     0     0     0     0     1     0     0   \n",
       "2         958               179.5     0     0     0     0     1     0     0   \n",
       "3         958               179.0     0     0     0     0     1     0     0   \n",
       "4         958               183.0     0     0     0     0     1     0     0   \n",
       "\n",
       "   Mar.    ...      Nov.  Oct.  Sep.  Friday  Monday  Saturday  Sunday  \\\n",
       "0     0    ...         0     0     0       0       1         0       0   \n",
       "1     0    ...         0     0     0       0       0         0       0   \n",
       "2     0    ...         0     0     0       0       0         0       0   \n",
       "3     0    ...         0     0     0       0       0         0       0   \n",
       "4     0    ...         0     0     0       1       0         0       0   \n",
       "\n",
       "   Thursday  Tuesday  Wednesday  \n",
       "0         0        0          0  \n",
       "1         0        1          0  \n",
       "2         0        0          1  \n",
       "3         1        0          0  \n",
       "4         0        0          0  \n",
       "\n",
       "[5 rows x 21 columns]"
      ]
     },
     "execution_count": 35,
     "metadata": {},
     "output_type": "execute_result"
    }
   ],
   "source": [
    "# Converted month, and dow information to dummy variables\n",
    "\n",
    "df_pricing_final = pd.get_dummies(df_pricing_by_mon_dow, \n",
    "                                  prefix='',\n",
    "                                  prefix_sep='',\n",
    "                                  columns=['month', 'day_of_week'])\n",
    "\n",
    "print ('df_pricing_final dimensions: ', df_pricing_final.shape)\n",
    "df_pricing_final.head()"
   ]
  },
  {
   "cell_type": "code",
   "execution_count": 36,
   "metadata": {
    "ExecuteTime": {
     "end_time": "2019-02-18T03:09:48.733741Z",
     "start_time": "2019-02-18T03:09:48.727210Z"
    }
   },
   "outputs": [
    {
     "data": {
      "text/plain": [
       "Index(['listing_id', 'price_by_month_dow', 'Apr.', 'Aug.', 'Dec.', 'Feb.',\n",
       "       'Jan.', 'Jul.', 'Jun.', 'Mar.', 'May.', 'Nov.', 'Oct.', 'Sep.',\n",
       "       'Friday', 'Monday', 'Saturday', 'Sunday', 'Thursday', 'Tuesday',\n",
       "       'Wednesday'],\n",
       "      dtype='object')"
      ]
     },
     "execution_count": 36,
     "metadata": {},
     "output_type": "execute_result"
    }
   ],
   "source": [
    "df_pricing_final.columns"
   ]
  },
  {
   "cell_type": "markdown",
   "metadata": {
    "ExecuteTime": {
     "end_time": "2019-02-18T03:10:45.869630Z",
     "start_time": "2019-02-18T03:10:45.866430Z"
    }
   },
   "source": [
    "## Combined Seasonality Data with Previously Identified Features"
   ]
  },
  {
   "cell_type": "code",
   "execution_count": 39,
   "metadata": {
    "ExecuteTime": {
     "end_time": "2019-02-18T03:11:41.216168Z",
     "start_time": "2019-02-18T03:11:41.182786Z"
    }
   },
   "outputs": [
    {
     "name": "stdout",
     "output_type": "stream",
     "text": [
      "df_listings_features dimensions:  (9062, 108)\n"
     ]
    },
    {
     "data": {
      "text/html": [
       "<div>\n",
       "<style scoped>\n",
       "    .dataframe tbody tr th:only-of-type {\n",
       "        vertical-align: middle;\n",
       "    }\n",
       "\n",
       "    .dataframe tbody tr th {\n",
       "        vertical-align: top;\n",
       "    }\n",
       "\n",
       "    .dataframe thead th {\n",
       "        text-align: right;\n",
       "    }\n",
       "</style>\n",
       "<table border=\"1\" class=\"dataframe\">\n",
       "  <thead>\n",
       "    <tr style=\"text-align: right;\">\n",
       "      <th></th>\n",
       "      <th>id</th>\n",
       "      <th>bedrooms</th>\n",
       "      <th>cleaning_fee</th>\n",
       "      <th>room_type_Entire home/apt</th>\n",
       "      <th>city_San Francisco</th>\n",
       "      <th>accommodates</th>\n",
       "      <th>city_Oakland</th>\n",
       "      <th>reviews_per_month</th>\n",
       "      <th>bathrooms</th>\n",
       "      <th>host_listings_count</th>\n",
       "      <th>...</th>\n",
       "      <th>amenities_Pets live on this property</th>\n",
       "      <th>is_location_exact_f</th>\n",
       "      <th>room_type_Shared room</th>\n",
       "      <th>amenities_Coffee maker</th>\n",
       "      <th>neighbourhood_cleansed_Potrero Hill</th>\n",
       "      <th>amenities_Heating</th>\n",
       "      <th>property_type_Townhouse</th>\n",
       "      <th>amenities_Microwave</th>\n",
       "      <th>ref_district</th>\n",
       "      <th>ref_jurisdiction</th>\n",
       "    </tr>\n",
       "  </thead>\n",
       "  <tbody>\n",
       "    <tr>\n",
       "      <th>0</th>\n",
       "      <td>958</td>\n",
       "      <td>1.0</td>\n",
       "      <td>100.0</td>\n",
       "      <td>1</td>\n",
       "      <td>1</td>\n",
       "      <td>3</td>\n",
       "      <td>0</td>\n",
       "      <td>1.38</td>\n",
       "      <td>1.0</td>\n",
       "      <td>1</td>\n",
       "      <td>...</td>\n",
       "      <td>1</td>\n",
       "      <td>0</td>\n",
       "      <td>0</td>\n",
       "      <td>0</td>\n",
       "      <td>0</td>\n",
       "      <td>1</td>\n",
       "      <td>0</td>\n",
       "      <td>0</td>\n",
       "      <td>San Francisco</td>\n",
       "      <td>SAN FRANCISCO</td>\n",
       "    </tr>\n",
       "    <tr>\n",
       "      <th>1</th>\n",
       "      <td>5858</td>\n",
       "      <td>2.0</td>\n",
       "      <td>100.0</td>\n",
       "      <td>1</td>\n",
       "      <td>1</td>\n",
       "      <td>5</td>\n",
       "      <td>0</td>\n",
       "      <td>0.99</td>\n",
       "      <td>1.0</td>\n",
       "      <td>2</td>\n",
       "      <td>...</td>\n",
       "      <td>0</td>\n",
       "      <td>0</td>\n",
       "      <td>0</td>\n",
       "      <td>0</td>\n",
       "      <td>0</td>\n",
       "      <td>1</td>\n",
       "      <td>0</td>\n",
       "      <td>0</td>\n",
       "      <td>San Francisco</td>\n",
       "      <td>SAN FRANCISCO</td>\n",
       "    </tr>\n",
       "    <tr>\n",
       "      <th>2</th>\n",
       "      <td>7918</td>\n",
       "      <td>1.0</td>\n",
       "      <td>50.0</td>\n",
       "      <td>0</td>\n",
       "      <td>1</td>\n",
       "      <td>2</td>\n",
       "      <td>0</td>\n",
       "      <td>0.16</td>\n",
       "      <td>4.0</td>\n",
       "      <td>10</td>\n",
       "      <td>...</td>\n",
       "      <td>0</td>\n",
       "      <td>0</td>\n",
       "      <td>0</td>\n",
       "      <td>0</td>\n",
       "      <td>0</td>\n",
       "      <td>1</td>\n",
       "      <td>0</td>\n",
       "      <td>0</td>\n",
       "      <td>San Francisco</td>\n",
       "      <td>SAN FRANCISCO</td>\n",
       "    </tr>\n",
       "    <tr>\n",
       "      <th>3</th>\n",
       "      <td>8142</td>\n",
       "      <td>1.0</td>\n",
       "      <td>50.0</td>\n",
       "      <td>0</td>\n",
       "      <td>1</td>\n",
       "      <td>2</td>\n",
       "      <td>0</td>\n",
       "      <td>0.15</td>\n",
       "      <td>4.0</td>\n",
       "      <td>10</td>\n",
       "      <td>...</td>\n",
       "      <td>0</td>\n",
       "      <td>0</td>\n",
       "      <td>0</td>\n",
       "      <td>0</td>\n",
       "      <td>0</td>\n",
       "      <td>1</td>\n",
       "      <td>0</td>\n",
       "      <td>0</td>\n",
       "      <td>San Francisco</td>\n",
       "      <td>SAN FRANCISCO</td>\n",
       "    </tr>\n",
       "    <tr>\n",
       "      <th>4</th>\n",
       "      <td>8567</td>\n",
       "      <td>2.0</td>\n",
       "      <td>125.0</td>\n",
       "      <td>1</td>\n",
       "      <td>1</td>\n",
       "      <td>6</td>\n",
       "      <td>0</td>\n",
       "      <td>0.27</td>\n",
       "      <td>1.0</td>\n",
       "      <td>1</td>\n",
       "      <td>...</td>\n",
       "      <td>0</td>\n",
       "      <td>0</td>\n",
       "      <td>0</td>\n",
       "      <td>1</td>\n",
       "      <td>0</td>\n",
       "      <td>1</td>\n",
       "      <td>0</td>\n",
       "      <td>1</td>\n",
       "      <td>San Francisco</td>\n",
       "      <td>SAN FRANCISCO</td>\n",
       "    </tr>\n",
       "  </tbody>\n",
       "</table>\n",
       "<p>5 rows × 108 columns</p>\n",
       "</div>"
      ],
      "text/plain": [
       "     id  bedrooms  cleaning_fee  room_type_Entire home/apt  \\\n",
       "0   958       1.0         100.0                          1   \n",
       "1  5858       2.0         100.0                          1   \n",
       "2  7918       1.0          50.0                          0   \n",
       "3  8142       1.0          50.0                          0   \n",
       "4  8567       2.0         125.0                          1   \n",
       "\n",
       "   city_San Francisco  accommodates  city_Oakland  reviews_per_month  \\\n",
       "0                   1             3             0               1.38   \n",
       "1                   1             5             0               0.99   \n",
       "2                   1             2             0               0.16   \n",
       "3                   1             2             0               0.15   \n",
       "4                   1             6             0               0.27   \n",
       "\n",
       "   bathrooms  host_listings_count        ...         \\\n",
       "0        1.0                    1        ...          \n",
       "1        1.0                    2        ...          \n",
       "2        4.0                   10        ...          \n",
       "3        4.0                   10        ...          \n",
       "4        1.0                    1        ...          \n",
       "\n",
       "   amenities_Pets live on this property  is_location_exact_f  \\\n",
       "0                                     1                    0   \n",
       "1                                     0                    0   \n",
       "2                                     0                    0   \n",
       "3                                     0                    0   \n",
       "4                                     0                    0   \n",
       "\n",
       "   room_type_Shared room  amenities_Coffee maker  \\\n",
       "0                      0                       0   \n",
       "1                      0                       0   \n",
       "2                      0                       0   \n",
       "3                      0                       0   \n",
       "4                      0                       1   \n",
       "\n",
       "   neighbourhood_cleansed_Potrero Hill  amenities_Heating  \\\n",
       "0                                    0                  1   \n",
       "1                                    0                  1   \n",
       "2                                    0                  1   \n",
       "3                                    0                  1   \n",
       "4                                    0                  1   \n",
       "\n",
       "   property_type_Townhouse  amenities_Microwave   ref_district  \\\n",
       "0                        0                    0  San Francisco   \n",
       "1                        0                    0  San Francisco   \n",
       "2                        0                    0  San Francisco   \n",
       "3                        0                    0  San Francisco   \n",
       "4                        0                    1  San Francisco   \n",
       "\n",
       "   ref_jurisdiction  \n",
       "0     SAN FRANCISCO  \n",
       "1     SAN FRANCISCO  \n",
       "2     SAN FRANCISCO  \n",
       "3     SAN FRANCISCO  \n",
       "4     SAN FRANCISCO  \n",
       "\n",
       "[5 rows x 108 columns]"
      ]
     },
     "execution_count": 39,
     "metadata": {},
     "output_type": "execute_result"
    }
   ],
   "source": [
    "# Loaded listings with identified important features\n",
    "\n",
    "pkl_file = '/Users/xzhou/github/project_archives/files_airbnb/{}.pkl'\n",
    "\n",
    "listings = pkl_file.format('df_listings_selected_features')\n",
    "\n",
    "df_listings_features = pd.read_pickle(listings)\n",
    "\n",
    "print ('df_listings_features dimensions: ', df_listings_features.shape)\n",
    "df_listings_features.head()"
   ]
  },
  {
   "cell_type": "code",
   "execution_count": 40,
   "metadata": {
    "ExecuteTime": {
     "end_time": "2019-02-18T03:11:47.594169Z",
     "start_time": "2019-02-18T03:11:47.588068Z"
    }
   },
   "outputs": [
    {
     "data": {
      "text/plain": [
       "Index(['id', 'bedrooms', 'cleaning_fee', 'room_type_Entire home/apt',\n",
       "       'city_San Francisco', 'accommodates', 'city_Oakland',\n",
       "       'reviews_per_month', 'bathrooms', 'host_listings_count',\n",
       "       ...\n",
       "       'amenities_Pets live on this property', 'is_location_exact_f',\n",
       "       'room_type_Shared room', 'amenities_Coffee maker',\n",
       "       'neighbourhood_cleansed_Potrero Hill', 'amenities_Heating',\n",
       "       'property_type_Townhouse', 'amenities_Microwave', 'ref_district',\n",
       "       'ref_jurisdiction'],\n",
       "      dtype='object', length=108)"
      ]
     },
     "execution_count": 40,
     "metadata": {},
     "output_type": "execute_result"
    }
   ],
   "source": [
    "df_listings_features.columns"
   ]
  },
  {
   "cell_type": "code",
   "execution_count": 41,
   "metadata": {
    "ExecuteTime": {
     "end_time": "2019-02-18T03:12:00.593948Z",
     "start_time": "2019-02-18T03:11:55.833975Z"
    }
   },
   "outputs": [],
   "source": [
    "# Combined listing data with seaonality information we just created\n",
    "\n",
    "df_final = pd.merge(left=df_pricing_final, \n",
    "                    right=df_listings_features,\n",
    "                    how='inner',\n",
    "                    left_on='listing_id',\n",
    "                    right_on='id')"
   ]
  },
  {
   "cell_type": "code",
   "execution_count": 43,
   "metadata": {
    "ExecuteTime": {
     "end_time": "2019-02-18T03:12:05.869901Z",
     "start_time": "2019-02-18T03:12:05.862310Z"
    }
   },
   "outputs": [
    {
     "data": {
      "text/plain": [
       "Index(['listing_id', 'price_by_month_dow', 'Apr.', 'Aug.', 'Dec.', 'Feb.',\n",
       "       'Jan.', 'Jul.', 'Jun.', 'Mar.',\n",
       "       ...\n",
       "       'amenities_Pets live on this property', 'is_location_exact_f',\n",
       "       'room_type_Shared room', 'amenities_Coffee maker',\n",
       "       'neighbourhood_cleansed_Potrero Hill', 'amenities_Heating',\n",
       "       'property_type_Townhouse', 'amenities_Microwave', 'ref_district',\n",
       "       'ref_jurisdiction'],\n",
       "      dtype='object', length=129)"
      ]
     },
     "execution_count": 43,
     "metadata": {},
     "output_type": "execute_result"
    }
   ],
   "source": [
    "df_final.columns"
   ]
  },
  {
   "cell_type": "code",
   "execution_count": 44,
   "metadata": {
    "ExecuteTime": {
     "end_time": "2019-02-18T03:13:03.568744Z",
     "start_time": "2019-02-18T03:13:02.728048Z"
    }
   },
   "outputs": [],
   "source": [
    "# Dropped duplicate columns\n",
    "\n",
    "duplicate_columns = ['id']\n",
    "df_final.drop(duplicate_columns, axis=1, inplace=True)\n",
    "\n",
    "df_final.shape"
   ]
  },
  {
   "cell_type": "markdown",
   "metadata": {
    "ExecuteTime": {
     "end_time": "2019-02-18T00:26:16.558136Z",
     "start_time": "2019-02-18T00:26:16.554923Z"
    }
   },
   "source": [
    "### Features with High Correlation"
   ]
  },
  {
   "cell_type": "code",
   "execution_count": 45,
   "metadata": {
    "ExecuteTime": {
     "end_time": "2019-02-18T03:15:22.569777Z",
     "start_time": "2019-02-18T03:15:10.140598Z"
    }
   },
   "outputs": [],
   "source": [
    "# Create correlation matrix\n",
    "# Select upper triangle of correlation matrix\n",
    "\n",
    "corr_matrix = df_final.corr().abs()\n",
    "upper = corr_matrix.where(np.triu(np.ones(corr_matrix.shape), k=1).astype(np.bool))"
   ]
  },
  {
   "cell_type": "code",
   "execution_count": 46,
   "metadata": {
    "ExecuteTime": {
     "end_time": "2019-02-18T03:15:25.662424Z",
     "start_time": "2019-02-18T03:15:25.631295Z"
    }
   },
   "outputs": [
    {
     "data": {
      "text/plain": [
       "[]"
      ]
     },
     "execution_count": 46,
     "metadata": {},
     "output_type": "execute_result"
    }
   ],
   "source": [
    "# Find index of feature columns with correlation greater than 0.90\n",
    "\n",
    "thresold = 0.90\n",
    "to_drop = [column for column in upper.columns if any(upper[column] >= thresold)]\n",
    "\n",
    "to_drop"
   ]
  },
  {
   "cell_type": "code",
   "execution_count": 47,
   "metadata": {
    "ExecuteTime": {
     "end_time": "2019-02-18T03:15:28.778068Z",
     "start_time": "2019-02-18T03:15:28.598840Z"
    }
   },
   "outputs": [],
   "source": [
    "# Drop features that have high correlation\n",
    "\n",
    "df_final.drop(to_drop, axis=1, inplace=True)"
   ]
  },
  {
   "cell_type": "code",
   "execution_count": 48,
   "metadata": {
    "ExecuteTime": {
     "end_time": "2019-02-18T03:15:31.939641Z",
     "start_time": "2019-02-18T03:15:31.933514Z"
    }
   },
   "outputs": [
    {
     "data": {
      "text/plain": [
       "(407498, 128)"
      ]
     },
     "execution_count": 48,
     "metadata": {},
     "output_type": "execute_result"
    }
   ],
   "source": [
    "df_final.shape"
   ]
  },
  {
   "cell_type": "code",
   "execution_count": 49,
   "metadata": {
    "ExecuteTime": {
     "end_time": "2019-02-18T03:18:32.078173Z",
     "start_time": "2019-02-18T03:18:31.079492Z"
    }
   },
   "outputs": [],
   "source": [
    "# Store the data prior to modeling\n",
    "# When there're changes, mark file_updated as true. Changes'll be written to local files\n",
    "# Otherwise, mark file_updated as false. Data will be loaded from existing files\n",
    "\n",
    "file_updated = True\n",
    "pkl_file = '/Users/xzhou/github/project_archives/files_airbnb/{}.pkl'\n",
    "listings_seasonality = pkl_file.format('listings_seasonality')\n",
    "\n",
    "\n",
    "if file_updated:\n",
    "    with open(listings_seasonality, 'wb') as file:\n",
    "        pd.to_pickle(df_final, file)\n",
    "else:\n",
    "    try: \n",
    "        with open(listings_seasonality, 'rb') as file:\n",
    "            df_final = pd.read_pickle(file)\n",
    "    except:\n",
    "        with open(listings_seasonality, 'wb') as file:\n",
    "            pd.to_pickle(df_final, file)"
   ]
  },
  {
   "cell_type": "markdown",
   "metadata": {},
   "source": [
    "# Modeling"
   ]
  },
  {
   "cell_type": "code",
   "execution_count": 50,
   "metadata": {
    "ExecuteTime": {
     "end_time": "2019-02-18T03:18:39.493668Z",
     "start_time": "2019-02-18T03:18:39.486897Z"
    }
   },
   "outputs": [
    {
     "data": {
      "text/plain": [
       "Index(['listing_id', 'price_by_month_dow', 'Apr.', 'Aug.', 'Dec.', 'Feb.',\n",
       "       'Jan.', 'Jul.', 'Jun.', 'Mar.',\n",
       "       ...\n",
       "       'amenities_Pets live on this property', 'is_location_exact_f',\n",
       "       'room_type_Shared room', 'amenities_Coffee maker',\n",
       "       'neighbourhood_cleansed_Potrero Hill', 'amenities_Heating',\n",
       "       'property_type_Townhouse', 'amenities_Microwave', 'ref_district',\n",
       "       'ref_jurisdiction'],\n",
       "      dtype='object', length=128)"
      ]
     },
     "execution_count": 50,
     "metadata": {},
     "output_type": "execute_result"
    }
   ],
   "source": [
    "df_final.columns"
   ]
  },
  {
   "cell_type": "code",
   "execution_count": 51,
   "metadata": {
    "ExecuteTime": {
     "end_time": "2019-02-18T03:18:42.480333Z",
     "start_time": "2019-02-18T03:18:42.443002Z"
    }
   },
   "outputs": [
    {
     "data": {
      "text/plain": [
       "Index(['ref_district', 'ref_jurisdiction'], dtype='object')"
      ]
     },
     "execution_count": 51,
     "metadata": {},
     "output_type": "execute_result"
    }
   ],
   "source": [
    "df_final.select_dtypes(include =['object']).columns"
   ]
  },
  {
   "cell_type": "code",
   "execution_count": 53,
   "metadata": {
    "ExecuteTime": {
     "end_time": "2019-02-18T03:21:00.766887Z",
     "start_time": "2019-02-18T03:21:00.533239Z"
    }
   },
   "outputs": [],
   "source": [
    "# Multiple modelings will be performed for price prediction\n",
    "# Data include 'listing_id', which will be used for stratified sampling\n",
    "\n",
    "X = df_final.drop(['price_by_month_dow', 'ref_district', 'ref_jurisdiction'], axis=1)\n",
    "y = df_final.loc[:, ['listing_id', 'price_by_month_dow']]"
   ]
  },
  {
   "cell_type": "markdown",
   "metadata": {
    "ExecuteTime": {
     "end_time": "2019-02-18T01:18:22.084154Z",
     "start_time": "2019-02-18T01:18:22.081097Z"
    }
   },
   "source": [
    "## Model Preprocessing"
   ]
  },
  {
   "cell_type": "markdown",
   "metadata": {
    "ExecuteTime": {
     "end_time": "2019-02-18T01:08:15.234738Z",
     "start_time": "2019-02-18T01:08:15.231675Z"
    }
   },
   "source": [
    "### Train and Test Sets Splits"
   ]
  },
  {
   "cell_type": "code",
   "execution_count": 54,
   "metadata": {
    "ExecuteTime": {
     "end_time": "2019-02-18T03:22:24.709114Z",
     "start_time": "2019-02-18T03:22:23.656451Z"
    }
   },
   "outputs": [],
   "source": [
    "# Stratified sampling to prevent information leakage\n",
    "# Identified all available listing_ids and split by listing_ids\n",
    "\n",
    "grp_by_listing_ids = df_final.groupby('listing_id').first().reset_index().listing_id\n",
    "listing_ids = list(grp_by_listing_ids)"
   ]
  },
  {
   "cell_type": "code",
   "execution_count": 64,
   "metadata": {
    "ExecuteTime": {
     "end_time": "2019-02-18T03:33:53.380274Z",
     "start_time": "2019-02-18T03:33:53.368992Z"
    }
   },
   "outputs": [
    {
     "name": "stdout",
     "output_type": "stream",
     "text": [
      "5814\n"
     ]
    },
    {
     "data": {
      "text/plain": [
       "array([24181120, 26918300, 23560384, ..., 20211607, 22866082,   676228])"
      ]
     },
     "execution_count": 64,
     "metadata": {},
     "output_type": "execute_result"
    }
   ],
   "source": [
    "num_of_grps = len(grp_by_listing_ids)\n",
    "training_ids = np.random.choice(listing_ids, int(num_of_grps*0.7),\n",
    "                                replace=False)\n",
    "\n",
    "print(len(training_ids))\n",
    "training_ids"
   ]
  },
  {
   "cell_type": "code",
   "execution_count": 65,
   "metadata": {
    "ExecuteTime": {
     "end_time": "2019-02-18T03:33:58.645487Z",
     "start_time": "2019-02-18T03:33:58.631780Z"
    }
   },
   "outputs": [
    {
     "data": {
      "text/plain": [
       "2493"
      ]
     },
     "execution_count": 65,
     "metadata": {},
     "output_type": "execute_result"
    }
   ],
   "source": [
    "testing_ids = set(grp_by_listing_ids) - set (training_ids)\n",
    "\n",
    "len(testing_ids)"
   ]
  },
  {
   "cell_type": "code",
   "execution_count": 66,
   "metadata": {
    "ExecuteTime": {
     "end_time": "2019-02-18T03:34:04.556123Z",
     "start_time": "2019-02-18T03:34:03.423173Z"
    }
   },
   "outputs": [
    {
     "name": "stdout",
     "output_type": "stream",
     "text": [
      "285018 122480 285018 122480\n"
     ]
    }
   ],
   "source": [
    "# Stratified sampling: splited train and test sets. \n",
    "# Dropped 'listing_id' column\n",
    "\n",
    "X_train = X[X['listing_id'].isin(training_ids)].drop('listing_id', axis=1)\n",
    "X_test = X[X['listing_id'].isin(testing_ids)].drop('listing_id', axis=1)\n",
    "\n",
    "y_train = y[y['listing_id'].isin(training_ids)].drop('listing_id', axis=1).values.ravel()\n",
    "y_test = y[y['listing_id'].isin(testing_ids)].drop('listing_id', axis=1).values.ravel()\n",
    "\n",
    "print(len(X_train), len(X_test), len(y_train), len(y_test))"
   ]
  },
  {
   "cell_type": "markdown",
   "metadata": {
    "ExecuteTime": {
     "end_time": "2019-02-18T01:17:48.722476Z",
     "start_time": "2019-02-18T01:17:48.718285Z"
    }
   },
   "source": [
    "### Feature Normalization"
   ]
  },
  {
   "cell_type": "code",
   "execution_count": 67,
   "metadata": {
    "ExecuteTime": {
     "end_time": "2019-02-18T03:34:12.031866Z",
     "start_time": "2019-02-18T03:34:09.451056Z"
    }
   },
   "outputs": [],
   "source": [
    "ss = StandardScaler()\n",
    "X_train_trans = ss.fit_transform(X_train)\n",
    "X_test_trans = ss.transform (X_test)"
   ]
  },
  {
   "cell_type": "markdown",
   "metadata": {},
   "source": [
    "## Linear Regression"
   ]
  },
  {
   "cell_type": "code",
   "execution_count": 68,
   "metadata": {
    "ExecuteTime": {
     "end_time": "2019-02-18T03:34:22.463625Z",
     "start_time": "2019-02-18T03:34:16.442773Z"
    }
   },
   "outputs": [
    {
     "data": {
      "text/html": [
       "<table class=\"simpletable\">\n",
       "<caption>OLS Regression Results</caption>\n",
       "<tr>\n",
       "  <th>Dep. Variable:</th>            <td>y</td>        <th>  R-squared:         </th>  <td>   0.670</td>  \n",
       "</tr>\n",
       "<tr>\n",
       "  <th>Model:</th>                   <td>OLS</td>       <th>  Adj. R-squared:    </th>  <td>   0.670</td>  \n",
       "</tr>\n",
       "<tr>\n",
       "  <th>Method:</th>             <td>Least Squares</td>  <th>  F-statistic:       </th>  <td>   4707.</td>  \n",
       "</tr>\n",
       "<tr>\n",
       "  <th>Date:</th>             <td>Sun, 17 Feb 2019</td> <th>  Prob (F-statistic):</th>   <td>  0.00</td>   \n",
       "</tr>\n",
       "<tr>\n",
       "  <th>Time:</th>                 <td>19:34:22</td>     <th>  Log-Likelihood:    </th> <td>-1.5307e+06</td>\n",
       "</tr>\n",
       "<tr>\n",
       "  <th>No. Observations:</th>      <td>285018</td>      <th>  AIC:               </th>  <td>3.062e+06</td> \n",
       "</tr>\n",
       "<tr>\n",
       "  <th>Df Residuals:</th>          <td>284894</td>      <th>  BIC:               </th>  <td>3.063e+06</td> \n",
       "</tr>\n",
       "<tr>\n",
       "  <th>Df Model:</th>              <td>   123</td>      <th>                     </th>      <td> </td>     \n",
       "</tr>\n",
       "<tr>\n",
       "  <th>Covariance Type:</th>      <td>nonrobust</td>    <th>                     </th>      <td> </td>     \n",
       "</tr>\n",
       "</table>\n",
       "<table class=\"simpletable\">\n",
       "<tr>\n",
       "    <td></td>       <th>coef</th>     <th>std err</th>      <th>t</th>      <th>P>|t|</th>  <th>[0.025</th>    <th>0.975]</th>  \n",
       "</tr>\n",
       "<tr>\n",
       "  <th>const</th> <td>  147.0815</td> <td>    0.098</td> <td> 1506.873</td> <td> 0.000</td> <td>  146.890</td> <td>  147.273</td>\n",
       "</tr>\n",
       "<tr>\n",
       "  <th>x1</th>    <td> -7.75e+10</td> <td> 2.67e+11</td> <td>   -0.291</td> <td> 0.771</td> <td>   -6e+11</td> <td> 4.45e+11</td>\n",
       "</tr>\n",
       "<tr>\n",
       "  <th>x2</th>    <td> -8.91e+10</td> <td> 3.06e+11</td> <td>   -0.291</td> <td> 0.771</td> <td> -6.9e+11</td> <td> 5.12e+11</td>\n",
       "</tr>\n",
       "<tr>\n",
       "  <th>x3</th>    <td>-8.801e+10</td> <td> 3.03e+11</td> <td>   -0.291</td> <td> 0.771</td> <td>-6.81e+11</td> <td> 5.05e+11</td>\n",
       "</tr>\n",
       "<tr>\n",
       "  <th>x4</th>    <td>-8.424e+10</td> <td>  2.9e+11</td> <td>   -0.291</td> <td> 0.771</td> <td>-6.52e+11</td> <td> 4.84e+11</td>\n",
       "</tr>\n",
       "<tr>\n",
       "  <th>x5</th>    <td>-8.829e+10</td> <td> 3.04e+11</td> <td>   -0.291</td> <td> 0.771</td> <td>-6.83e+11</td> <td> 5.07e+11</td>\n",
       "</tr>\n",
       "<tr>\n",
       "  <th>x6</th>    <td>-7.464e+10</td> <td> 2.57e+11</td> <td>   -0.291</td> <td> 0.771</td> <td>-5.78e+11</td> <td> 4.28e+11</td>\n",
       "</tr>\n",
       "<tr>\n",
       "  <th>x7</th>    <td>-7.448e+10</td> <td> 2.56e+11</td> <td>   -0.291</td> <td> 0.771</td> <td>-5.77e+11</td> <td> 4.28e+11</td>\n",
       "</tr>\n",
       "<tr>\n",
       "  <th>x8</th>    <td>-7.748e+10</td> <td> 2.66e+11</td> <td>   -0.291</td> <td> 0.771</td> <td>   -6e+11</td> <td> 4.45e+11</td>\n",
       "</tr>\n",
       "<tr>\n",
       "  <th>x9</th>    <td>-7.649e+10</td> <td> 2.63e+11</td> <td>   -0.291</td> <td> 0.771</td> <td>-5.92e+11</td> <td> 4.39e+11</td>\n",
       "</tr>\n",
       "<tr>\n",
       "  <th>x10</th>   <td>-9.223e+10</td> <td> 3.17e+11</td> <td>   -0.291</td> <td> 0.771</td> <td>-7.14e+11</td> <td> 5.29e+11</td>\n",
       "</tr>\n",
       "<tr>\n",
       "  <th>x11</th>   <td>-9.185e+10</td> <td> 3.16e+11</td> <td>   -0.291</td> <td> 0.771</td> <td>-7.11e+11</td> <td> 5.27e+11</td>\n",
       "</tr>\n",
       "<tr>\n",
       "  <th>x12</th>   <td>-8.728e+10</td> <td>    3e+11</td> <td>   -0.291</td> <td> 0.771</td> <td>-6.76e+11</td> <td> 5.01e+11</td>\n",
       "</tr>\n",
       "<tr>\n",
       "  <th>x13</th>   <td> -1.57e+12</td> <td> 1.83e+12</td> <td>   -0.859</td> <td> 0.390</td> <td>-5.15e+12</td> <td> 2.01e+12</td>\n",
       "</tr>\n",
       "<tr>\n",
       "  <th>x14</th>   <td>-1.561e+12</td> <td> 1.82e+12</td> <td>   -0.859</td> <td> 0.390</td> <td>-5.12e+12</td> <td>    2e+12</td>\n",
       "</tr>\n",
       "<tr>\n",
       "  <th>x15</th>   <td>-1.559e+12</td> <td> 1.82e+12</td> <td>   -0.859</td> <td> 0.390</td> <td>-5.12e+12</td> <td>    2e+12</td>\n",
       "</tr>\n",
       "<tr>\n",
       "  <th>x16</th>   <td>-1.563e+12</td> <td> 1.82e+12</td> <td>   -0.859</td> <td> 0.390</td> <td>-5.13e+12</td> <td>    2e+12</td>\n",
       "</tr>\n",
       "<tr>\n",
       "  <th>x17</th>   <td>-1.565e+12</td> <td> 1.82e+12</td> <td>   -0.859</td> <td> 0.390</td> <td>-5.14e+12</td> <td> 2.01e+12</td>\n",
       "</tr>\n",
       "<tr>\n",
       "  <th>x18</th>   <td>-1.549e+12</td> <td>  1.8e+12</td> <td>   -0.859</td> <td> 0.390</td> <td>-5.09e+12</td> <td> 1.99e+12</td>\n",
       "</tr>\n",
       "<tr>\n",
       "  <th>x19</th>   <td>-1.551e+12</td> <td> 1.81e+12</td> <td>   -0.859</td> <td> 0.390</td> <td>-5.09e+12</td> <td> 1.99e+12</td>\n",
       "</tr>\n",
       "<tr>\n",
       "  <th>x20</th>   <td>   23.1303</td> <td>    0.173</td> <td>  133.781</td> <td> 0.000</td> <td>   22.791</td> <td>   23.469</td>\n",
       "</tr>\n",
       "<tr>\n",
       "  <th>x21</th>   <td>    7.6427</td> <td>    0.138</td> <td>   55.363</td> <td> 0.000</td> <td>    7.372</td> <td>    7.913</td>\n",
       "</tr>\n",
       "<tr>\n",
       "  <th>x22</th>   <td>   22.7497</td> <td>    0.158</td> <td>  144.043</td> <td> 0.000</td> <td>   22.440</td> <td>   23.059</td>\n",
       "</tr>\n",
       "<tr>\n",
       "  <th>x23</th>   <td>   16.8160</td> <td>    0.638</td> <td>   26.374</td> <td> 0.000</td> <td>   15.566</td> <td>   18.066</td>\n",
       "</tr>\n",
       "<tr>\n",
       "  <th>x24</th>   <td>   23.2155</td> <td>    0.219</td> <td>  105.900</td> <td> 0.000</td> <td>   22.786</td> <td>   23.645</td>\n",
       "</tr>\n",
       "<tr>\n",
       "  <th>x25</th>   <td>   -0.2454</td> <td>    0.474</td> <td>   -0.518</td> <td> 0.604</td> <td>   -1.174</td> <td>    0.683</td>\n",
       "</tr>\n",
       "<tr>\n",
       "  <th>x26</th>   <td>   -3.9935</td> <td>    0.176</td> <td>  -22.710</td> <td> 0.000</td> <td>   -4.338</td> <td>   -3.649</td>\n",
       "</tr>\n",
       "<tr>\n",
       "  <th>x27</th>   <td>    1.9299</td> <td>    0.116</td> <td>   16.681</td> <td> 0.000</td> <td>    1.703</td> <td>    2.157</td>\n",
       "</tr>\n",
       "<tr>\n",
       "  <th>x28</th>   <td>    4.8355</td> <td>    0.149</td> <td>   32.381</td> <td> 0.000</td> <td>    4.543</td> <td>    5.128</td>\n",
       "</tr>\n",
       "<tr>\n",
       "  <th>x29</th>   <td>   -2.6082</td> <td>    0.181</td> <td>  -14.444</td> <td> 0.000</td> <td>   -2.962</td> <td>   -2.254</td>\n",
       "</tr>\n",
       "<tr>\n",
       "  <th>x30</th>   <td>    1.2659</td> <td>    0.129</td> <td>    9.776</td> <td> 0.000</td> <td>    1.012</td> <td>    1.520</td>\n",
       "</tr>\n",
       "<tr>\n",
       "  <th>x31</th>   <td>    4.2227</td> <td>    0.215</td> <td>   19.606</td> <td> 0.000</td> <td>    3.801</td> <td>    4.645</td>\n",
       "</tr>\n",
       "<tr>\n",
       "  <th>x32</th>   <td>    3.6095</td> <td>    0.132</td> <td>   27.311</td> <td> 0.000</td> <td>    3.351</td> <td>    3.869</td>\n",
       "</tr>\n",
       "<tr>\n",
       "  <th>x33</th>   <td>    6.3596</td> <td>    0.125</td> <td>   50.733</td> <td> 0.000</td> <td>    6.114</td> <td>    6.605</td>\n",
       "</tr>\n",
       "<tr>\n",
       "  <th>x34</th>   <td>  -11.0105</td> <td>    0.153</td> <td>  -72.082</td> <td> 0.000</td> <td>  -11.310</td> <td>  -10.711</td>\n",
       "</tr>\n",
       "<tr>\n",
       "  <th>x35</th>   <td>   -1.5356</td> <td>    0.169</td> <td>   -9.076</td> <td> 0.000</td> <td>   -1.867</td> <td>   -1.204</td>\n",
       "</tr>\n",
       "<tr>\n",
       "  <th>x36</th>   <td>   -1.3445</td> <td>    0.185</td> <td>   -7.275</td> <td> 0.000</td> <td>   -1.707</td> <td>   -0.982</td>\n",
       "</tr>\n",
       "<tr>\n",
       "  <th>x37</th>   <td>    2.6345</td> <td>    0.104</td> <td>   25.263</td> <td> 0.000</td> <td>    2.430</td> <td>    2.839</td>\n",
       "</tr>\n",
       "<tr>\n",
       "  <th>x38</th>   <td>   -1.9697</td> <td>    0.184</td> <td>  -10.683</td> <td> 0.000</td> <td>   -2.331</td> <td>   -1.608</td>\n",
       "</tr>\n",
       "<tr>\n",
       "  <th>x39</th>   <td>    8.3453</td> <td>    0.126</td> <td>   66.170</td> <td> 0.000</td> <td>    8.098</td> <td>    8.592</td>\n",
       "</tr>\n",
       "<tr>\n",
       "  <th>x40</th>   <td>    4.4243</td> <td>    0.116</td> <td>   38.265</td> <td> 0.000</td> <td>    4.198</td> <td>    4.651</td>\n",
       "</tr>\n",
       "<tr>\n",
       "  <th>x41</th>   <td>    7.9350</td> <td>    0.118</td> <td>   67.189</td> <td> 0.000</td> <td>    7.703</td> <td>    8.166</td>\n",
       "</tr>\n",
       "<tr>\n",
       "  <th>x42</th>   <td>    6.2331</td> <td>    0.155</td> <td>   40.139</td> <td> 0.000</td> <td>    5.929</td> <td>    6.537</td>\n",
       "</tr>\n",
       "<tr>\n",
       "  <th>x43</th>   <td>   -8.1684</td> <td>    0.169</td> <td>  -48.384</td> <td> 0.000</td> <td>   -8.499</td> <td>   -7.837</td>\n",
       "</tr>\n",
       "<tr>\n",
       "  <th>x44</th>   <td>    0.0246</td> <td>    0.118</td> <td>    0.209</td> <td> 0.834</td> <td>   -0.206</td> <td>    0.255</td>\n",
       "</tr>\n",
       "<tr>\n",
       "  <th>x45</th>   <td>    4.0929</td> <td>    0.127</td> <td>   32.227</td> <td> 0.000</td> <td>    3.844</td> <td>    4.342</td>\n",
       "</tr>\n",
       "<tr>\n",
       "  <th>x46</th>   <td>    2.5588</td> <td>    0.124</td> <td>   20.582</td> <td> 0.000</td> <td>    2.315</td> <td>    2.802</td>\n",
       "</tr>\n",
       "<tr>\n",
       "  <th>x47</th>   <td>    3.1747</td> <td>    0.106</td> <td>   29.858</td> <td> 0.000</td> <td>    2.966</td> <td>    3.383</td>\n",
       "</tr>\n",
       "<tr>\n",
       "  <th>x48</th>   <td>   -4.8806</td> <td>    0.116</td> <td>  -41.976</td> <td> 0.000</td> <td>   -5.109</td> <td>   -4.653</td>\n",
       "</tr>\n",
       "<tr>\n",
       "  <th>x49</th>   <td>    4.7542</td> <td>    0.105</td> <td>   45.322</td> <td> 0.000</td> <td>    4.549</td> <td>    4.960</td>\n",
       "</tr>\n",
       "<tr>\n",
       "  <th>x50</th>   <td>    4.3735</td> <td>    0.149</td> <td>   29.303</td> <td> 0.000</td> <td>    4.081</td> <td>    4.666</td>\n",
       "</tr>\n",
       "<tr>\n",
       "  <th>x51</th>   <td>    0.0387</td> <td>    0.124</td> <td>    0.312</td> <td> 0.755</td> <td>   -0.204</td> <td>    0.281</td>\n",
       "</tr>\n",
       "<tr>\n",
       "  <th>x52</th>   <td>    0.7180</td> <td>    0.121</td> <td>    5.922</td> <td> 0.000</td> <td>    0.480</td> <td>    0.956</td>\n",
       "</tr>\n",
       "<tr>\n",
       "  <th>x53</th>   <td>   -0.4149</td> <td>    0.167</td> <td>   -2.480</td> <td> 0.013</td> <td>   -0.743</td> <td>   -0.087</td>\n",
       "</tr>\n",
       "<tr>\n",
       "  <th>x54</th>   <td>   -0.8762</td> <td>    0.125</td> <td>   -6.982</td> <td> 0.000</td> <td>   -1.122</td> <td>   -0.630</td>\n",
       "</tr>\n",
       "<tr>\n",
       "  <th>x55</th>   <td>   -3.6081</td> <td>    0.156</td> <td>  -23.080</td> <td> 0.000</td> <td>   -3.915</td> <td>   -3.302</td>\n",
       "</tr>\n",
       "<tr>\n",
       "  <th>x56</th>   <td>    0.2431</td> <td>    0.121</td> <td>    2.007</td> <td> 0.045</td> <td>    0.006</td> <td>    0.480</td>\n",
       "</tr>\n",
       "<tr>\n",
       "  <th>x57</th>   <td>    0.9943</td> <td>    0.114</td> <td>    8.726</td> <td> 0.000</td> <td>    0.771</td> <td>    1.218</td>\n",
       "</tr>\n",
       "<tr>\n",
       "  <th>x58</th>   <td>   -0.9914</td> <td>    0.112</td> <td>   -8.814</td> <td> 0.000</td> <td>   -1.212</td> <td>   -0.771</td>\n",
       "</tr>\n",
       "<tr>\n",
       "  <th>x59</th>   <td>    2.3816</td> <td>    0.126</td> <td>   18.869</td> <td> 0.000</td> <td>    2.134</td> <td>    2.629</td>\n",
       "</tr>\n",
       "<tr>\n",
       "  <th>x60</th>   <td>   -2.1412</td> <td>    0.129</td> <td>  -16.656</td> <td> 0.000</td> <td>   -2.393</td> <td>   -1.889</td>\n",
       "</tr>\n",
       "<tr>\n",
       "  <th>x61</th>   <td>   -0.4260</td> <td>    0.104</td> <td>   -4.093</td> <td> 0.000</td> <td>   -0.630</td> <td>   -0.222</td>\n",
       "</tr>\n",
       "<tr>\n",
       "  <th>x62</th>   <td>    0.4866</td> <td>    0.113</td> <td>    4.317</td> <td> 0.000</td> <td>    0.266</td> <td>    0.707</td>\n",
       "</tr>\n",
       "<tr>\n",
       "  <th>x63</th>   <td>   -0.7256</td> <td>    0.133</td> <td>   -5.462</td> <td> 0.000</td> <td>   -0.986</td> <td>   -0.465</td>\n",
       "</tr>\n",
       "<tr>\n",
       "  <th>x64</th>   <td>   -0.1707</td> <td>    0.148</td> <td>   -1.155</td> <td> 0.248</td> <td>   -0.460</td> <td>    0.119</td>\n",
       "</tr>\n",
       "<tr>\n",
       "  <th>x65</th>   <td>  -14.9658</td> <td>    0.483</td> <td>  -30.976</td> <td> 0.000</td> <td>  -15.913</td> <td>  -14.019</td>\n",
       "</tr>\n",
       "<tr>\n",
       "  <th>x66</th>   <td>    2.2898</td> <td>    0.171</td> <td>   13.380</td> <td> 0.000</td> <td>    1.954</td> <td>    2.625</td>\n",
       "</tr>\n",
       "<tr>\n",
       "  <th>x67</th>   <td>   -4.2475</td> <td>    0.163</td> <td>  -26.050</td> <td> 0.000</td> <td>   -4.567</td> <td>   -3.928</td>\n",
       "</tr>\n",
       "<tr>\n",
       "  <th>x68</th>   <td>    4.5997</td> <td>    0.101</td> <td>   45.388</td> <td> 0.000</td> <td>    4.401</td> <td>    4.798</td>\n",
       "</tr>\n",
       "<tr>\n",
       "  <th>x69</th>   <td>    4.8989</td> <td>    0.107</td> <td>   45.932</td> <td> 0.000</td> <td>    4.690</td> <td>    5.108</td>\n",
       "</tr>\n",
       "<tr>\n",
       "  <th>x70</th>   <td>   -2.3258</td> <td>    0.120</td> <td>  -19.422</td> <td> 0.000</td> <td>   -2.561</td> <td>   -2.091</td>\n",
       "</tr>\n",
       "<tr>\n",
       "  <th>x71</th>   <td>   -0.7499</td> <td>    0.116</td> <td>   -6.481</td> <td> 0.000</td> <td>   -0.977</td> <td>   -0.523</td>\n",
       "</tr>\n",
       "<tr>\n",
       "  <th>x72</th>   <td>    3.6004</td> <td>    0.111</td> <td>   32.290</td> <td> 0.000</td> <td>    3.382</td> <td>    3.819</td>\n",
       "</tr>\n",
       "<tr>\n",
       "  <th>x73</th>   <td>    3.9590</td> <td>    0.194</td> <td>   20.410</td> <td> 0.000</td> <td>    3.579</td> <td>    4.339</td>\n",
       "</tr>\n",
       "<tr>\n",
       "  <th>x74</th>   <td>    3.3235</td> <td>    0.104</td> <td>   31.852</td> <td> 0.000</td> <td>    3.119</td> <td>    3.528</td>\n",
       "</tr>\n",
       "<tr>\n",
       "  <th>x75</th>   <td>    2.7832</td> <td>    0.102</td> <td>   27.312</td> <td> 0.000</td> <td>    2.584</td> <td>    2.983</td>\n",
       "</tr>\n",
       "<tr>\n",
       "  <th>x76</th>   <td>    0.6152</td> <td>    0.171</td> <td>    3.589</td> <td> 0.000</td> <td>    0.279</td> <td>    0.951</td>\n",
       "</tr>\n",
       "<tr>\n",
       "  <th>x77</th>   <td>    0.4637</td> <td>    0.814</td> <td>    0.570</td> <td> 0.569</td> <td>   -1.132</td> <td>    2.059</td>\n",
       "</tr>\n",
       "<tr>\n",
       "  <th>x78</th>   <td>  -16.3012</td> <td>    0.482</td> <td>  -33.789</td> <td> 0.000</td> <td>  -17.247</td> <td>  -15.356</td>\n",
       "</tr>\n",
       "<tr>\n",
       "  <th>x79</th>   <td>    3.8467</td> <td>    0.115</td> <td>   33.593</td> <td> 0.000</td> <td>    3.622</td> <td>    4.071</td>\n",
       "</tr>\n",
       "<tr>\n",
       "  <th>x80</th>   <td>   -3.6886</td> <td>    0.117</td> <td>  -31.548</td> <td> 0.000</td> <td>   -3.918</td> <td>   -3.459</td>\n",
       "</tr>\n",
       "<tr>\n",
       "  <th>x81</th>   <td>   -0.8845</td> <td>    0.111</td> <td>   -7.992</td> <td> 0.000</td> <td>   -1.101</td> <td>   -0.668</td>\n",
       "</tr>\n",
       "<tr>\n",
       "  <th>x82</th>   <td>   -1.1693</td> <td>    0.120</td> <td>   -9.756</td> <td> 0.000</td> <td>   -1.404</td> <td>   -0.934</td>\n",
       "</tr>\n",
       "<tr>\n",
       "  <th>x83</th>   <td>   -0.4954</td> <td>    0.113</td> <td>   -4.393</td> <td> 0.000</td> <td>   -0.716</td> <td>   -0.274</td>\n",
       "</tr>\n",
       "<tr>\n",
       "  <th>x84</th>   <td>    3.0236</td> <td>    0.100</td> <td>   30.221</td> <td> 0.000</td> <td>    2.827</td> <td>    3.220</td>\n",
       "</tr>\n",
       "<tr>\n",
       "  <th>x85</th>   <td>    3.2749</td> <td>    0.625</td> <td>    5.236</td> <td> 0.000</td> <td>    2.049</td> <td>    4.501</td>\n",
       "</tr>\n",
       "<tr>\n",
       "  <th>x86</th>   <td>   -2.1759</td> <td>    0.141</td> <td>  -15.478</td> <td> 0.000</td> <td>   -2.451</td> <td>   -1.900</td>\n",
       "</tr>\n",
       "<tr>\n",
       "  <th>x87</th>   <td>    2.1756</td> <td>    0.119</td> <td>   18.295</td> <td> 0.000</td> <td>    1.943</td> <td>    2.409</td>\n",
       "</tr>\n",
       "<tr>\n",
       "  <th>x88</th>   <td>   -2.3740</td> <td>    0.707</td> <td>   -3.355</td> <td> 0.001</td> <td>   -3.761</td> <td>   -0.987</td>\n",
       "</tr>\n",
       "<tr>\n",
       "  <th>x89</th>   <td>   -1.6767</td> <td>    0.106</td> <td>  -15.876</td> <td> 0.000</td> <td>   -1.884</td> <td>   -1.470</td>\n",
       "</tr>\n",
       "<tr>\n",
       "  <th>x90</th>   <td>   -1.5603</td> <td>    0.111</td> <td>  -14.012</td> <td> 0.000</td> <td>   -1.779</td> <td>   -1.342</td>\n",
       "</tr>\n",
       "<tr>\n",
       "  <th>x91</th>   <td>    5.6557</td> <td>    0.119</td> <td>   47.435</td> <td> 0.000</td> <td>    5.422</td> <td>    5.889</td>\n",
       "</tr>\n",
       "<tr>\n",
       "  <th>x92</th>   <td>    1.2546</td> <td>    0.106</td> <td>   11.879</td> <td> 0.000</td> <td>    1.048</td> <td>    1.462</td>\n",
       "</tr>\n",
       "<tr>\n",
       "  <th>x93</th>   <td>   -2.8900</td> <td>    0.488</td> <td>   -5.918</td> <td> 0.000</td> <td>   -3.847</td> <td>   -1.933</td>\n",
       "</tr>\n",
       "<tr>\n",
       "  <th>x94</th>   <td>    4.0779</td> <td>    0.103</td> <td>   39.470</td> <td> 0.000</td> <td>    3.875</td> <td>    4.280</td>\n",
       "</tr>\n",
       "<tr>\n",
       "  <th>x95</th>   <td>   -0.8470</td> <td>    0.114</td> <td>   -7.402</td> <td> 0.000</td> <td>   -1.071</td> <td>   -0.623</td>\n",
       "</tr>\n",
       "<tr>\n",
       "  <th>x96</th>   <td>   -3.9499</td> <td>    0.156</td> <td>  -25.302</td> <td> 0.000</td> <td>   -4.256</td> <td>   -3.644</td>\n",
       "</tr>\n",
       "<tr>\n",
       "  <th>x97</th>   <td>    4.3266</td> <td>    0.107</td> <td>   40.340</td> <td> 0.000</td> <td>    4.116</td> <td>    4.537</td>\n",
       "</tr>\n",
       "<tr>\n",
       "  <th>x98</th>   <td>  -12.0835</td> <td>    0.379</td> <td>  -31.901</td> <td> 0.000</td> <td>  -12.826</td> <td>  -11.341</td>\n",
       "</tr>\n",
       "<tr>\n",
       "  <th>x99</th>   <td>    4.5889</td> <td>    0.110</td> <td>   41.758</td> <td> 0.000</td> <td>    4.373</td> <td>    4.804</td>\n",
       "</tr>\n",
       "<tr>\n",
       "  <th>x100</th>  <td>    2.5104</td> <td>    0.196</td> <td>   12.813</td> <td> 0.000</td> <td>    2.126</td> <td>    2.894</td>\n",
       "</tr>\n",
       "<tr>\n",
       "  <th>x101</th>  <td>    2.6918</td> <td>    0.106</td> <td>   25.466</td> <td> 0.000</td> <td>    2.485</td> <td>    2.899</td>\n",
       "</tr>\n",
       "<tr>\n",
       "  <th>x102</th>  <td>   -0.7239</td> <td>    0.163</td> <td>   -4.436</td> <td> 0.000</td> <td>   -1.044</td> <td>   -0.404</td>\n",
       "</tr>\n",
       "<tr>\n",
       "  <th>x103</th>  <td>   -0.6462</td> <td>    0.139</td> <td>   -4.663</td> <td> 0.000</td> <td>   -0.918</td> <td>   -0.375</td>\n",
       "</tr>\n",
       "<tr>\n",
       "  <th>x104</th>  <td>   -2.2073</td> <td>    0.117</td> <td>  -18.851</td> <td> 0.000</td> <td>   -2.437</td> <td>   -1.978</td>\n",
       "</tr>\n",
       "<tr>\n",
       "  <th>x105</th>  <td>   -0.8603</td> <td>    0.180</td> <td>   -4.784</td> <td> 0.000</td> <td>   -1.213</td> <td>   -0.508</td>\n",
       "</tr>\n",
       "<tr>\n",
       "  <th>x106</th>  <td>   -2.3467</td> <td>    0.159</td> <td>  -14.743</td> <td> 0.000</td> <td>   -2.659</td> <td>   -2.035</td>\n",
       "</tr>\n",
       "<tr>\n",
       "  <th>x107</th>  <td>    1.6581</td> <td>    0.123</td> <td>   13.520</td> <td> 0.000</td> <td>    1.418</td> <td>    1.898</td>\n",
       "</tr>\n",
       "<tr>\n",
       "  <th>x108</th>  <td>    1.5542</td> <td>    0.127</td> <td>   12.271</td> <td> 0.000</td> <td>    1.306</td> <td>    1.802</td>\n",
       "</tr>\n",
       "<tr>\n",
       "  <th>x109</th>  <td>   -0.2514</td> <td>    0.134</td> <td>   -1.878</td> <td> 0.060</td> <td>   -0.514</td> <td>    0.011</td>\n",
       "</tr>\n",
       "<tr>\n",
       "  <th>x110</th>  <td>   -1.8972</td> <td>    0.172</td> <td>  -11.036</td> <td> 0.000</td> <td>   -2.234</td> <td>   -1.560</td>\n",
       "</tr>\n",
       "<tr>\n",
       "  <th>x111</th>  <td>   -1.0196</td> <td>    0.119</td> <td>   -8.587</td> <td> 0.000</td> <td>   -1.252</td> <td>   -0.787</td>\n",
       "</tr>\n",
       "<tr>\n",
       "  <th>x112</th>  <td>   -0.6300</td> <td>    0.132</td> <td>   -4.769</td> <td> 0.000</td> <td>   -0.889</td> <td>   -0.371</td>\n",
       "</tr>\n",
       "<tr>\n",
       "  <th>x113</th>  <td>   -0.1035</td> <td>    0.137</td> <td>   -0.754</td> <td> 0.451</td> <td>   -0.373</td> <td>    0.166</td>\n",
       "</tr>\n",
       "<tr>\n",
       "  <th>x114</th>  <td>    0.8718</td> <td>    0.103</td> <td>    8.482</td> <td> 0.000</td> <td>    0.670</td> <td>    1.073</td>\n",
       "</tr>\n",
       "<tr>\n",
       "  <th>x115</th>  <td>   -0.6361</td> <td>    0.139</td> <td>   -4.562</td> <td> 0.000</td> <td>   -0.909</td> <td>   -0.363</td>\n",
       "</tr>\n",
       "<tr>\n",
       "  <th>x116</th>  <td>    0.1635</td> <td>    0.117</td> <td>    1.403</td> <td> 0.161</td> <td>   -0.065</td> <td>    0.392</td>\n",
       "</tr>\n",
       "<tr>\n",
       "  <th>x117</th>  <td>    0.0129</td> <td>    0.106</td> <td>    0.122</td> <td> 0.903</td> <td>   -0.195</td> <td>    0.221</td>\n",
       "</tr>\n",
       "<tr>\n",
       "  <th>x118</th>  <td>    1.3101</td> <td>    0.102</td> <td>   12.839</td> <td> 0.000</td> <td>    1.110</td> <td>    1.510</td>\n",
       "</tr>\n",
       "<tr>\n",
       "  <th>x119</th>  <td>   -4.9821</td> <td>    0.108</td> <td>  -46.100</td> <td> 0.000</td> <td>   -5.194</td> <td>   -4.770</td>\n",
       "</tr>\n",
       "<tr>\n",
       "  <th>x120</th>  <td>    4.1433</td> <td>    0.198</td> <td>   20.886</td> <td> 0.000</td> <td>    3.754</td> <td>    4.532</td>\n",
       "</tr>\n",
       "<tr>\n",
       "  <th>x121</th>  <td>    3.7177</td> <td>    0.102</td> <td>   36.365</td> <td> 0.000</td> <td>    3.517</td> <td>    3.918</td>\n",
       "</tr>\n",
       "<tr>\n",
       "  <th>x122</th>  <td>   -1.8040</td> <td>    0.104</td> <td>  -17.411</td> <td> 0.000</td> <td>   -2.007</td> <td>   -1.601</td>\n",
       "</tr>\n",
       "<tr>\n",
       "  <th>x123</th>  <td>   -0.2436</td> <td>    0.113</td> <td>   -2.154</td> <td> 0.031</td> <td>   -0.465</td> <td>   -0.022</td>\n",
       "</tr>\n",
       "<tr>\n",
       "  <th>x124</th>  <td>   -6.4320</td> <td>    0.202</td> <td>  -31.898</td> <td> 0.000</td> <td>   -6.827</td> <td>   -6.037</td>\n",
       "</tr>\n",
       "</table>\n",
       "<table class=\"simpletable\">\n",
       "<tr>\n",
       "  <th>Omnibus:</th>       <td>73293.798</td> <th>  Durbin-Watson:     </th>  <td>   0.100</td> \n",
       "</tr>\n",
       "<tr>\n",
       "  <th>Prob(Omnibus):</th>  <td> 0.000</td>   <th>  Jarque-Bera (JB):  </th> <td>278519.071</td>\n",
       "</tr>\n",
       "<tr>\n",
       "  <th>Skew:</th>           <td> 1.249</td>   <th>  Prob(JB):          </th>  <td>    0.00</td> \n",
       "</tr>\n",
       "<tr>\n",
       "  <th>Kurtosis:</th>       <td> 7.149</td>   <th>  Cond. No.          </th>  <td>1.43e+14</td> \n",
       "</tr>\n",
       "</table><br/><br/>Warnings:<br/>[1] Standard Errors assume that the covariance matrix of the errors is correctly specified.<br/>[2] The smallest eigenvalue is 1.17e-22. This might indicate that there are<br/>strong multicollinearity problems or that the design matrix is singular."
      ],
      "text/plain": [
       "<class 'statsmodels.iolib.summary.Summary'>\n",
       "\"\"\"\n",
       "                            OLS Regression Results                            \n",
       "==============================================================================\n",
       "Dep. Variable:                      y   R-squared:                       0.670\n",
       "Model:                            OLS   Adj. R-squared:                  0.670\n",
       "Method:                 Least Squares   F-statistic:                     4707.\n",
       "Date:                Sun, 17 Feb 2019   Prob (F-statistic):               0.00\n",
       "Time:                        19:34:22   Log-Likelihood:            -1.5307e+06\n",
       "No. Observations:              285018   AIC:                         3.062e+06\n",
       "Df Residuals:                  284894   BIC:                         3.063e+06\n",
       "Df Model:                         123                                         \n",
       "Covariance Type:            nonrobust                                         \n",
       "==============================================================================\n",
       "                 coef    std err          t      P>|t|      [0.025      0.975]\n",
       "------------------------------------------------------------------------------\n",
       "const        147.0815      0.098   1506.873      0.000     146.890     147.273\n",
       "x1          -7.75e+10   2.67e+11     -0.291      0.771      -6e+11    4.45e+11\n",
       "x2          -8.91e+10   3.06e+11     -0.291      0.771    -6.9e+11    5.12e+11\n",
       "x3         -8.801e+10   3.03e+11     -0.291      0.771   -6.81e+11    5.05e+11\n",
       "x4         -8.424e+10    2.9e+11     -0.291      0.771   -6.52e+11    4.84e+11\n",
       "x5         -8.829e+10   3.04e+11     -0.291      0.771   -6.83e+11    5.07e+11\n",
       "x6         -7.464e+10   2.57e+11     -0.291      0.771   -5.78e+11    4.28e+11\n",
       "x7         -7.448e+10   2.56e+11     -0.291      0.771   -5.77e+11    4.28e+11\n",
       "x8         -7.748e+10   2.66e+11     -0.291      0.771      -6e+11    4.45e+11\n",
       "x9         -7.649e+10   2.63e+11     -0.291      0.771   -5.92e+11    4.39e+11\n",
       "x10        -9.223e+10   3.17e+11     -0.291      0.771   -7.14e+11    5.29e+11\n",
       "x11        -9.185e+10   3.16e+11     -0.291      0.771   -7.11e+11    5.27e+11\n",
       "x12        -8.728e+10      3e+11     -0.291      0.771   -6.76e+11    5.01e+11\n",
       "x13         -1.57e+12   1.83e+12     -0.859      0.390   -5.15e+12    2.01e+12\n",
       "x14        -1.561e+12   1.82e+12     -0.859      0.390   -5.12e+12       2e+12\n",
       "x15        -1.559e+12   1.82e+12     -0.859      0.390   -5.12e+12       2e+12\n",
       "x16        -1.563e+12   1.82e+12     -0.859      0.390   -5.13e+12       2e+12\n",
       "x17        -1.565e+12   1.82e+12     -0.859      0.390   -5.14e+12    2.01e+12\n",
       "x18        -1.549e+12    1.8e+12     -0.859      0.390   -5.09e+12    1.99e+12\n",
       "x19        -1.551e+12   1.81e+12     -0.859      0.390   -5.09e+12    1.99e+12\n",
       "x20           23.1303      0.173    133.781      0.000      22.791      23.469\n",
       "x21            7.6427      0.138     55.363      0.000       7.372       7.913\n",
       "x22           22.7497      0.158    144.043      0.000      22.440      23.059\n",
       "x23           16.8160      0.638     26.374      0.000      15.566      18.066\n",
       "x24           23.2155      0.219    105.900      0.000      22.786      23.645\n",
       "x25           -0.2454      0.474     -0.518      0.604      -1.174       0.683\n",
       "x26           -3.9935      0.176    -22.710      0.000      -4.338      -3.649\n",
       "x27            1.9299      0.116     16.681      0.000       1.703       2.157\n",
       "x28            4.8355      0.149     32.381      0.000       4.543       5.128\n",
       "x29           -2.6082      0.181    -14.444      0.000      -2.962      -2.254\n",
       "x30            1.2659      0.129      9.776      0.000       1.012       1.520\n",
       "x31            4.2227      0.215     19.606      0.000       3.801       4.645\n",
       "x32            3.6095      0.132     27.311      0.000       3.351       3.869\n",
       "x33            6.3596      0.125     50.733      0.000       6.114       6.605\n",
       "x34          -11.0105      0.153    -72.082      0.000     -11.310     -10.711\n",
       "x35           -1.5356      0.169     -9.076      0.000      -1.867      -1.204\n",
       "x36           -1.3445      0.185     -7.275      0.000      -1.707      -0.982\n",
       "x37            2.6345      0.104     25.263      0.000       2.430       2.839\n",
       "x38           -1.9697      0.184    -10.683      0.000      -2.331      -1.608\n",
       "x39            8.3453      0.126     66.170      0.000       8.098       8.592\n",
       "x40            4.4243      0.116     38.265      0.000       4.198       4.651\n",
       "x41            7.9350      0.118     67.189      0.000       7.703       8.166\n",
       "x42            6.2331      0.155     40.139      0.000       5.929       6.537\n",
       "x43           -8.1684      0.169    -48.384      0.000      -8.499      -7.837\n",
       "x44            0.0246      0.118      0.209      0.834      -0.206       0.255\n",
       "x45            4.0929      0.127     32.227      0.000       3.844       4.342\n",
       "x46            2.5588      0.124     20.582      0.000       2.315       2.802\n",
       "x47            3.1747      0.106     29.858      0.000       2.966       3.383\n",
       "x48           -4.8806      0.116    -41.976      0.000      -5.109      -4.653\n",
       "x49            4.7542      0.105     45.322      0.000       4.549       4.960\n",
       "x50            4.3735      0.149     29.303      0.000       4.081       4.666\n",
       "x51            0.0387      0.124      0.312      0.755      -0.204       0.281\n",
       "x52            0.7180      0.121      5.922      0.000       0.480       0.956\n",
       "x53           -0.4149      0.167     -2.480      0.013      -0.743      -0.087\n",
       "x54           -0.8762      0.125     -6.982      0.000      -1.122      -0.630\n",
       "x55           -3.6081      0.156    -23.080      0.000      -3.915      -3.302\n",
       "x56            0.2431      0.121      2.007      0.045       0.006       0.480\n",
       "x57            0.9943      0.114      8.726      0.000       0.771       1.218\n",
       "x58           -0.9914      0.112     -8.814      0.000      -1.212      -0.771\n",
       "x59            2.3816      0.126     18.869      0.000       2.134       2.629\n",
       "x60           -2.1412      0.129    -16.656      0.000      -2.393      -1.889\n",
       "x61           -0.4260      0.104     -4.093      0.000      -0.630      -0.222\n",
       "x62            0.4866      0.113      4.317      0.000       0.266       0.707\n",
       "x63           -0.7256      0.133     -5.462      0.000      -0.986      -0.465\n",
       "x64           -0.1707      0.148     -1.155      0.248      -0.460       0.119\n",
       "x65          -14.9658      0.483    -30.976      0.000     -15.913     -14.019\n",
       "x66            2.2898      0.171     13.380      0.000       1.954       2.625\n",
       "x67           -4.2475      0.163    -26.050      0.000      -4.567      -3.928\n",
       "x68            4.5997      0.101     45.388      0.000       4.401       4.798\n",
       "x69            4.8989      0.107     45.932      0.000       4.690       5.108\n",
       "x70           -2.3258      0.120    -19.422      0.000      -2.561      -2.091\n",
       "x71           -0.7499      0.116     -6.481      0.000      -0.977      -0.523\n",
       "x72            3.6004      0.111     32.290      0.000       3.382       3.819\n",
       "x73            3.9590      0.194     20.410      0.000       3.579       4.339\n",
       "x74            3.3235      0.104     31.852      0.000       3.119       3.528\n",
       "x75            2.7832      0.102     27.312      0.000       2.584       2.983\n",
       "x76            0.6152      0.171      3.589      0.000       0.279       0.951\n",
       "x77            0.4637      0.814      0.570      0.569      -1.132       2.059\n",
       "x78          -16.3012      0.482    -33.789      0.000     -17.247     -15.356\n",
       "x79            3.8467      0.115     33.593      0.000       3.622       4.071\n",
       "x80           -3.6886      0.117    -31.548      0.000      -3.918      -3.459\n",
       "x81           -0.8845      0.111     -7.992      0.000      -1.101      -0.668\n",
       "x82           -1.1693      0.120     -9.756      0.000      -1.404      -0.934\n",
       "x83           -0.4954      0.113     -4.393      0.000      -0.716      -0.274\n",
       "x84            3.0236      0.100     30.221      0.000       2.827       3.220\n",
       "x85            3.2749      0.625      5.236      0.000       2.049       4.501\n",
       "x86           -2.1759      0.141    -15.478      0.000      -2.451      -1.900\n",
       "x87            2.1756      0.119     18.295      0.000       1.943       2.409\n",
       "x88           -2.3740      0.707     -3.355      0.001      -3.761      -0.987\n",
       "x89           -1.6767      0.106    -15.876      0.000      -1.884      -1.470\n",
       "x90           -1.5603      0.111    -14.012      0.000      -1.779      -1.342\n",
       "x91            5.6557      0.119     47.435      0.000       5.422       5.889\n",
       "x92            1.2546      0.106     11.879      0.000       1.048       1.462\n",
       "x93           -2.8900      0.488     -5.918      0.000      -3.847      -1.933\n",
       "x94            4.0779      0.103     39.470      0.000       3.875       4.280\n",
       "x95           -0.8470      0.114     -7.402      0.000      -1.071      -0.623\n",
       "x96           -3.9499      0.156    -25.302      0.000      -4.256      -3.644\n",
       "x97            4.3266      0.107     40.340      0.000       4.116       4.537\n",
       "x98          -12.0835      0.379    -31.901      0.000     -12.826     -11.341\n",
       "x99            4.5889      0.110     41.758      0.000       4.373       4.804\n",
       "x100           2.5104      0.196     12.813      0.000       2.126       2.894\n",
       "x101           2.6918      0.106     25.466      0.000       2.485       2.899\n",
       "x102          -0.7239      0.163     -4.436      0.000      -1.044      -0.404\n",
       "x103          -0.6462      0.139     -4.663      0.000      -0.918      -0.375\n",
       "x104          -2.2073      0.117    -18.851      0.000      -2.437      -1.978\n",
       "x105          -0.8603      0.180     -4.784      0.000      -1.213      -0.508\n",
       "x106          -2.3467      0.159    -14.743      0.000      -2.659      -2.035\n",
       "x107           1.6581      0.123     13.520      0.000       1.418       1.898\n",
       "x108           1.5542      0.127     12.271      0.000       1.306       1.802\n",
       "x109          -0.2514      0.134     -1.878      0.060      -0.514       0.011\n",
       "x110          -1.8972      0.172    -11.036      0.000      -2.234      -1.560\n",
       "x111          -1.0196      0.119     -8.587      0.000      -1.252      -0.787\n",
       "x112          -0.6300      0.132     -4.769      0.000      -0.889      -0.371\n",
       "x113          -0.1035      0.137     -0.754      0.451      -0.373       0.166\n",
       "x114           0.8718      0.103      8.482      0.000       0.670       1.073\n",
       "x115          -0.6361      0.139     -4.562      0.000      -0.909      -0.363\n",
       "x116           0.1635      0.117      1.403      0.161      -0.065       0.392\n",
       "x117           0.0129      0.106      0.122      0.903      -0.195       0.221\n",
       "x118           1.3101      0.102     12.839      0.000       1.110       1.510\n",
       "x119          -4.9821      0.108    -46.100      0.000      -5.194      -4.770\n",
       "x120           4.1433      0.198     20.886      0.000       3.754       4.532\n",
       "x121           3.7177      0.102     36.365      0.000       3.517       3.918\n",
       "x122          -1.8040      0.104    -17.411      0.000      -2.007      -1.601\n",
       "x123          -0.2436      0.113     -2.154      0.031      -0.465      -0.022\n",
       "x124          -6.4320      0.202    -31.898      0.000      -6.827      -6.037\n",
       "==============================================================================\n",
       "Omnibus:                    73293.798   Durbin-Watson:                   0.100\n",
       "Prob(Omnibus):                  0.000   Jarque-Bera (JB):           278519.071\n",
       "Skew:                           1.249   Prob(JB):                         0.00\n",
       "Kurtosis:                       7.149   Cond. No.                     1.43e+14\n",
       "==============================================================================\n",
       "\n",
       "Warnings:\n",
       "[1] Standard Errors assume that the covariance matrix of the errors is correctly specified.\n",
       "[2] The smallest eigenvalue is 1.17e-22. This might indicate that there are\n",
       "strong multicollinearity problems or that the design matrix is singular.\n",
       "\"\"\""
      ]
     },
     "execution_count": 68,
     "metadata": {},
     "output_type": "execute_result"
    }
   ],
   "source": [
    "# Model-LR\n",
    "\n",
    "model=sm.OLS(y_train, sm.add_constant(X_train_trans))\n",
    "fit=model.fit()\n",
    "fit.summary()"
   ]
  },
  {
   "cell_type": "markdown",
   "metadata": {},
   "source": [
    "## Random Forest"
   ]
  },
  {
   "cell_type": "code",
   "execution_count": 69,
   "metadata": {
    "ExecuteTime": {
     "end_time": "2019-02-18T03:37:02.571222Z",
     "start_time": "2019-02-18T03:34:30.226605Z"
    }
   },
   "outputs": [
    {
     "name": "stderr",
     "output_type": "stream",
     "text": [
      "[Parallel(n_jobs=-1)]: Done  42 tasks      | elapsed:  1.1min\n",
      "[Parallel(n_jobs=-1)]: Done 100 out of 100 | elapsed:  2.5min finished\n",
      "[Parallel(n_jobs=4)]: Done  42 tasks      | elapsed:    0.9s\n",
      "[Parallel(n_jobs=4)]: Done 100 out of 100 | elapsed:    1.9s finished\n",
      "[Parallel(n_jobs=4)]: Done  42 tasks      | elapsed:    0.2s\n"
     ]
    },
    {
     "name": "stdout",
     "output_type": "stream",
     "text": [
      "MSE train: 6.267, test: 3792.467\n",
      "R^2 train: 0.999, test: 0.573\n"
     ]
    },
    {
     "name": "stderr",
     "output_type": "stream",
     "text": [
      "[Parallel(n_jobs=4)]: Done 100 out of 100 | elapsed:    0.5s finished\n"
     ]
    }
   ],
   "source": [
    "# Model-Random Forest\n",
    "\n",
    "rf = RandomForestRegressor(n_estimators=100, \n",
    "                           criterion='mse', \n",
    "                           random_state=42, \n",
    "                           verbose=1,\n",
    "                           n_jobs=-1)\n",
    "rf.fit(X_train_trans, y_train.ravel())\n",
    "\n",
    "y_train_pred = rf.predict(X_train_trans)\n",
    "y_test_pred = rf.predict(X_test_trans)\n",
    "\n",
    "print('MSE train: %.3f, test: %.3f' % (\n",
    "        mean_squared_error(y_train, y_train_pred),\n",
    "        mean_squared_error(y_test, y_test_pred)))\n",
    "print('R^2 train: %.3f, test: %.3f' % (\n",
    "        r2_score(y_train, y_train_pred),\n",
    "        r2_score(y_test, y_test_pred)))"
   ]
  },
  {
   "cell_type": "code",
   "execution_count": 70,
   "metadata": {
    "ExecuteTime": {
     "end_time": "2019-02-18T03:37:07.328875Z",
     "start_time": "2019-02-18T03:37:07.318684Z"
    }
   },
   "outputs": [
    {
     "data": {
      "text/plain": [
       "8307"
      ]
     },
     "execution_count": 70,
     "metadata": {},
     "output_type": "execute_result"
    }
   ],
   "source": [
    "df_final.listing_id.nunique()"
   ]
  },
  {
   "cell_type": "code",
   "execution_count": 71,
   "metadata": {
    "ExecuteTime": {
     "end_time": "2019-02-18T03:37:12.175804Z",
     "start_time": "2019-02-18T03:37:12.130344Z"
    }
   },
   "outputs": [
    {
     "data": {
      "text/html": [
       "<div>\n",
       "<style scoped>\n",
       "    .dataframe tbody tr th:only-of-type {\n",
       "        vertical-align: middle;\n",
       "    }\n",
       "\n",
       "    .dataframe tbody tr th {\n",
       "        vertical-align: top;\n",
       "    }\n",
       "\n",
       "    .dataframe thead th {\n",
       "        text-align: right;\n",
       "    }\n",
       "</style>\n",
       "<table border=\"1\" class=\"dataframe\">\n",
       "  <thead>\n",
       "    <tr style=\"text-align: right;\">\n",
       "      <th></th>\n",
       "      <th>listing_id</th>\n",
       "      <th>price_by_month_dow</th>\n",
       "    </tr>\n",
       "  </thead>\n",
       "  <tbody>\n",
       "    <tr>\n",
       "      <th>count</th>\n",
       "      <td>4.074980e+05</td>\n",
       "      <td>407498.000000</td>\n",
       "    </tr>\n",
       "    <tr>\n",
       "      <th>mean</th>\n",
       "      <td>1.244814e+07</td>\n",
       "      <td>148.773985</td>\n",
       "    </tr>\n",
       "    <tr>\n",
       "      <th>std</th>\n",
       "      <td>8.175362e+06</td>\n",
       "      <td>91.755807</td>\n",
       "    </tr>\n",
       "    <tr>\n",
       "      <th>min</th>\n",
       "      <td>9.580000e+02</td>\n",
       "      <td>40.000000</td>\n",
       "    </tr>\n",
       "    <tr>\n",
       "      <th>25%</th>\n",
       "      <td>4.718531e+06</td>\n",
       "      <td>80.000000</td>\n",
       "    </tr>\n",
       "    <tr>\n",
       "      <th>50%</th>\n",
       "      <td>1.276166e+07</td>\n",
       "      <td>122.000000</td>\n",
       "    </tr>\n",
       "    <tr>\n",
       "      <th>75%</th>\n",
       "      <td>1.983121e+07</td>\n",
       "      <td>195.000000</td>\n",
       "    </tr>\n",
       "    <tr>\n",
       "      <th>max</th>\n",
       "      <td>2.770097e+07</td>\n",
       "      <td>500.000000</td>\n",
       "    </tr>\n",
       "  </tbody>\n",
       "</table>\n",
       "</div>"
      ],
      "text/plain": [
       "         listing_id  price_by_month_dow\n",
       "count  4.074980e+05       407498.000000\n",
       "mean   1.244814e+07          148.773985\n",
       "std    8.175362e+06           91.755807\n",
       "min    9.580000e+02           40.000000\n",
       "25%    4.718531e+06           80.000000\n",
       "50%    1.276166e+07          122.000000\n",
       "75%    1.983121e+07          195.000000\n",
       "max    2.770097e+07          500.000000"
      ]
     },
     "execution_count": 71,
     "metadata": {},
     "output_type": "execute_result"
    }
   ],
   "source": [
    "# Double check on price range. The range is as expected\n",
    "\n",
    "y.describe(include='all')"
   ]
  },
  {
   "cell_type": "code",
   "execution_count": 72,
   "metadata": {
    "ExecuteTime": {
     "end_time": "2019-02-18T03:37:17.200153Z",
     "start_time": "2019-02-18T03:37:17.092252Z"
    }
   },
   "outputs": [],
   "source": [
    "# Map feature importance with labels\n",
    "\n",
    "feature_labels = X.columns\n",
    "feature_tuples = zip (feature_labels, rf.feature_importances_)\n",
    "feature_lists = [list(feature_tuple) for feature_tuple in feature_tuples]"
   ]
  },
  {
   "cell_type": "code",
   "execution_count": 73,
   "metadata": {
    "ExecuteTime": {
     "end_time": "2019-02-18T03:37:22.160740Z",
     "start_time": "2019-02-18T03:37:22.146719Z"
    }
   },
   "outputs": [
    {
     "data": {
      "text/plain": [
       "[['Wednesday', 0.37971569408383465],\n",
       " ['cleaning_fee', 0.08110699081912717],\n",
       " ['bedrooms', 0.04511645307412085],\n",
       " ['city_Oakland', 0.03990042697837719],\n",
       " ['room_type_Entire home/apt', 0.034789240607198374],\n",
       " ['city_San Francisco', 0.03437000621493019],\n",
       " ['reviews_per_month', 0.034328754064099375],\n",
       " ['bathrooms', 0.02111020820475603],\n",
       " ['host_listings_count', 0.016822318218640248],\n",
       " ['accommodates', 0.016749182903555992],\n",
       " ['beds', 0.015683046885371067],\n",
       " ['review_scores_location', 0.014083632935195933],\n",
       " ['number_of_reviews', 0.01283095532215107],\n",
       " ['guests_included', 0.012348330226083577],\n",
       " ['host_yrs', 0.012253101298910224],\n",
       " ['review_scores_rating', 0.012136089917745339],\n",
       " ['neighbourhood_cleansed_Chinatown', 0.009635217719861235],\n",
       " ['amenities_Shampoo', 0.009082293547920367],\n",
       " ['amenities_Carbon monoxide detector', 0.00792961777173564],\n",
       " ['calculated_host_listings_count', 0.0069972550574293165],\n",
       " ['yrs_since_1st_review', 0.005495577450376576],\n",
       " ['amenities_Indoor fireplace', 0.004663954747366396],\n",
       " ['review_scores_communication', 0.004226178680163312],\n",
       " ['amenities_Self checkin', 0.003767557055957026],\n",
       " ['neighbourhood_cleansed_Haight Ashbury', 0.0037598412399087737],\n",
       " ['neighbourhood_cleansed_San Jose', 0.0037425586722451476],\n",
       " ['host_response_time_within a few hours', 0.0036999199703261804],\n",
       " ['Sep.', 0.0034215114713416965],\n",
       " ['Monday', 0.0031800130083333763],\n",
       " ['amenities_Free parking on premises', 0.003071140137526664],\n",
       " ['amenities_Private entrance', 0.003043507812846152],\n",
       " ['amenities_Pets live on this property', 0.00289685854814863],\n",
       " ['host_identity_verified_f', 0.00285564987876641],\n",
       " ['Oct.', 0.002827262868375603],\n",
       " ['amenities_Cable TV', 0.0027581406594882176],\n",
       " ['Apr.', 0.0026988897651495287],\n",
       " ['amenities_Lock on bedroom door', 0.002588357418502385],\n",
       " ['property_type_Apartment', 0.0025524913442919123],\n",
       " ['property_type_House', 0.0025451924360170254],\n",
       " ['amenities_First aid kit', 0.002511959688776542],\n",
       " ['amenities_Bathtub', 0.0024258570528416044],\n",
       " ['Aug.', 0.0024205290840596753],\n",
       " ['May.', 0.002418363368054362],\n",
       " ['neighbourhood_cleansed_Palo Alto', 0.0024129742469057606],\n",
       " ['cancellation_policy_flexible', 0.002352867332211757],\n",
       " ['amenities_Internet', 0.0023379997260024976],\n",
       " ['review_scores_cleanliness', 0.002306780923025205],\n",
       " ['amenities_Patio or balcony', 0.0022893545096195093],\n",
       " ['amenities_Free street parking', 0.0022573100437666732],\n",
       " ['amenities_Fire extinguisher', 0.0022530289028642146],\n",
       " ['cancellation_policy_moderate', 0.0022172764823722353],\n",
       " ['review_scores_value', 0.002165014621599149],\n",
       " ['Nov.', 0.00216425986019164],\n",
       " ['amenities_Lockbox', 0.0021578484284725226],\n",
       " ['review_scores_accuracy', 0.0021337544971737205],\n",
       " ['cancellation_policy_strict_14_with_grace_period', 0.0021157223346116765],\n",
       " ['amenities_Luggage dropoff allowed', 0.0021127109965658852],\n",
       " ['property_type_Condominium', 0.0020941366080468905],\n",
       " ['amenities_Safety card', 0.0020537275231926905],\n",
       " ['security_deposit', 0.002034340611990387],\n",
       " ['amenities_Single level home', 0.001959657800746817],\n",
       " ['review_scores_checkin', 0.00194020318135983],\n",
       " ['amenities_Pets allowed', 0.0018761578298008255],\n",
       " ['amenities_translation missing enhosting_amenity_49', 0.0017682577257880333],\n",
       " ['amenities_BBQ grill', 0.0017638191386234858],\n",
       " ['neighbourhood_cleansed_South of Market', 0.0017477213170171719],\n",
       " ['neighbourhood_cleansed_Western Addition', 0.0016692773890936334],\n",
       " ['neighbourhood_cleansed_Castro/Upper Market', 0.001647681359446983],\n",
       " ['property_type_Boutique hotel', 0.0016280321595653078],\n",
       " ['Feb.', 0.0016273664860852021],\n",
       " ['amenities_Hot water', 0.0016200816570880363],\n",
       " ['amenities_Familykid friendly', 0.0016126269764411263],\n",
       " ['neighbourhood_cleansed_Pacific Heights', 0.0016097467749010223],\n",
       " ['property_type_Townhouse', 0.001570726601185259],\n",
       " ['minimum_nights', 0.001560996840082925],\n",
       " ['instant_bookable_f', 0.0015468035478558046],\n",
       " ['amenities_24hour checkin', 0.001545939947494214],\n",
       " ['district_Santa Clara', 0.0015313284044095748],\n",
       " ['amenities_Air conditioning', 0.0015199309915124644],\n",
       " ['is_location_exact_f', 0.0014922027897233483],\n",
       " ['amenities_Long term stays allowed', 0.001473595342091952],\n",
       " ['amenities_Dishwasher', 0.0014253864907706761],\n",
       " ['amenities_Kitchen', 0.0013688005517812185],\n",
       " ['amenities_TV', 0.0013360115734466545],\n",
       " ['host_response_time_within an hour', 0.0013249922974464296],\n",
       " ['amenities_Garden or backyard', 0.0012611261705513155],\n",
       " ['amenities_Breakfast', 0.0012585512352186168],\n",
       " ['Jan.', 0.0012375689703660812],\n",
       " ['amenities_Laptop friendly workspace', 0.0012319957876541158],\n",
       " ['amenities_Coffee maker', 0.0012182398201293564],\n",
       " ['host_response_time_within a day', 0.0011808756919486868],\n",
       " ['neighbourhood_cleansed_Noe Valley', 0.001157421966506305],\n",
       " ['host_is_superhost_f', 0.001111081910783735],\n",
       " ['neighbourhood_cleansed_Mission', 0.0011087474826726215],\n",
       " ['room_type_Shared room', 0.001107234448495992],\n",
       " ['amenities_Extra pillows and blankets', 0.001106782071658894],\n",
       " ['amenities_Stepfree access', 0.0010678269138355697],\n",
       " ['amenities_Iron', 0.0010527456548147292],\n",
       " ['Jul.', 0.0010304179194250665],\n",
       " ['Mar.', 0.0010175882317043179],\n",
       " ['amenities_Hair dryer', 0.0010133074038230843],\n",
       " ['amenities_Host greets you', 0.000982493325085293],\n",
       " ['neighbourhood_cleansed_North Beach', 0.0009529952930227882],\n",
       " ['property_type_Loft', 0.0009055683432450032],\n",
       " ['amenities_translation missing enhosting_amenity_50', 0.0008941786678266762],\n",
       " ['amenities_Heating', 0.0008812429623096872],\n",
       " ['amenities_Elevator', 0.0008595903688434809],\n",
       " ['amenities_Dryer', 0.0008302236286048449],\n",
       " ['amenities_Private living room', 0.0007568314870335066],\n",
       " ['amenities_Hangers', 0.0007410221400601634],\n",
       " ['neighbourhood_cleansed_Russian Hill', 0.0007270406477267957],\n",
       " ['Dec.', 0.0007077940961721356],\n",
       " ['neighbourhood_cleansed_Potrero Hill', 0.0006384347737795558],\n",
       " ['listing_id', 0.0005999043649339468],\n",
       " ['amenities_Keypad', 0.0004739672988343373],\n",
       " ['Jun.', 0.00046250496238340883],\n",
       " ['amenities_Bed linens', 0.0004361050397590658],\n",
       " ['Saturday', 0.0003832202343029657],\n",
       " ['neighbourhood_cleansed_Downtown/Civic Center', 0.000280470945877742],\n",
       " ['Sunday', 0.00026775090475736183],\n",
       " ['Thursday', 0.0002356611047486229],\n",
       " ['Tuesday', 0.00021785209858230748],\n",
       " ['host_response_rate', 0.00021169769294359633],\n",
       " ['Friday', 0.0002053569073006653]]"
      ]
     },
     "execution_count": 73,
     "metadata": {},
     "output_type": "execute_result"
    }
   ],
   "source": [
    "# Order features based on importance\n",
    "\n",
    "feature_lists.sort(key=lambda x: abs(x[1]), reverse=True)\n",
    "feature_lists"
   ]
  },
  {
   "cell_type": "code",
   "execution_count": 74,
   "metadata": {
    "ExecuteTime": {
     "end_time": "2019-02-18T03:37:27.099467Z",
     "start_time": "2019-02-18T03:37:27.090834Z"
    }
   },
   "outputs": [
    {
     "data": {
      "text/plain": [
       "['Wednesday',\n",
       " 'cleaning_fee',\n",
       " 'bedrooms',\n",
       " 'city_Oakland',\n",
       " 'room_type_Entire home/apt',\n",
       " 'city_San Francisco',\n",
       " 'reviews_per_month',\n",
       " 'bathrooms',\n",
       " 'host_listings_count',\n",
       " 'accommodates',\n",
       " 'beds',\n",
       " 'review_scores_location',\n",
       " 'number_of_reviews',\n",
       " 'guests_included',\n",
       " 'host_yrs',\n",
       " 'review_scores_rating',\n",
       " 'neighbourhood_cleansed_Chinatown',\n",
       " 'amenities_Shampoo',\n",
       " 'amenities_Carbon monoxide detector',\n",
       " 'calculated_host_listings_count',\n",
       " 'yrs_since_1st_review',\n",
       " 'amenities_Indoor fireplace',\n",
       " 'review_scores_communication',\n",
       " 'amenities_Self checkin',\n",
       " 'neighbourhood_cleansed_Haight Ashbury',\n",
       " 'neighbourhood_cleansed_San Jose',\n",
       " 'host_response_time_within a few hours',\n",
       " 'Sep.',\n",
       " 'Monday',\n",
       " 'amenities_Free parking on premises',\n",
       " 'amenities_Private entrance',\n",
       " 'amenities_Pets live on this property',\n",
       " 'host_identity_verified_f',\n",
       " 'Oct.',\n",
       " 'amenities_Cable TV',\n",
       " 'Apr.',\n",
       " 'amenities_Lock on bedroom door',\n",
       " 'property_type_Apartment',\n",
       " 'property_type_House',\n",
       " 'amenities_First aid kit',\n",
       " 'amenities_Bathtub',\n",
       " 'Aug.',\n",
       " 'May.',\n",
       " 'neighbourhood_cleansed_Palo Alto',\n",
       " 'cancellation_policy_flexible',\n",
       " 'amenities_Internet',\n",
       " 'review_scores_cleanliness',\n",
       " 'amenities_Patio or balcony',\n",
       " 'amenities_Free street parking',\n",
       " 'amenities_Fire extinguisher',\n",
       " 'cancellation_policy_moderate',\n",
       " 'review_scores_value',\n",
       " 'Nov.',\n",
       " 'amenities_Lockbox',\n",
       " 'review_scores_accuracy',\n",
       " 'cancellation_policy_strict_14_with_grace_period',\n",
       " 'amenities_Luggage dropoff allowed',\n",
       " 'property_type_Condominium',\n",
       " 'amenities_Safety card',\n",
       " 'security_deposit',\n",
       " 'amenities_Single level home',\n",
       " 'review_scores_checkin',\n",
       " 'amenities_Pets allowed',\n",
       " 'amenities_translation missing enhosting_amenity_49',\n",
       " 'amenities_BBQ grill',\n",
       " 'neighbourhood_cleansed_South of Market',\n",
       " 'neighbourhood_cleansed_Western Addition',\n",
       " 'neighbourhood_cleansed_Castro/Upper Market',\n",
       " 'property_type_Boutique hotel',\n",
       " 'Feb.',\n",
       " 'amenities_Hot water',\n",
       " 'amenities_Familykid friendly',\n",
       " 'neighbourhood_cleansed_Pacific Heights',\n",
       " 'property_type_Townhouse',\n",
       " 'minimum_nights',\n",
       " 'instant_bookable_f',\n",
       " 'amenities_24hour checkin',\n",
       " 'district_Santa Clara',\n",
       " 'amenities_Air conditioning',\n",
       " 'is_location_exact_f',\n",
       " 'amenities_Long term stays allowed',\n",
       " 'amenities_Dishwasher',\n",
       " 'amenities_Kitchen',\n",
       " 'amenities_TV',\n",
       " 'host_response_time_within an hour',\n",
       " 'amenities_Garden or backyard',\n",
       " 'amenities_Breakfast',\n",
       " 'Jan.',\n",
       " 'amenities_Laptop friendly workspace',\n",
       " 'amenities_Coffee maker',\n",
       " 'host_response_time_within a day',\n",
       " 'neighbourhood_cleansed_Noe Valley',\n",
       " 'host_is_superhost_f',\n",
       " 'neighbourhood_cleansed_Mission',\n",
       " 'room_type_Shared room',\n",
       " 'amenities_Extra pillows and blankets',\n",
       " 'amenities_Stepfree access',\n",
       " 'amenities_Iron',\n",
       " 'Jul.',\n",
       " 'Mar.',\n",
       " 'amenities_Hair dryer',\n",
       " 'amenities_Host greets you',\n",
       " 'neighbourhood_cleansed_North Beach',\n",
       " 'property_type_Loft',\n",
       " 'amenities_translation missing enhosting_amenity_50',\n",
       " 'amenities_Heating',\n",
       " 'amenities_Elevator',\n",
       " 'amenities_Dryer',\n",
       " 'amenities_Private living room',\n",
       " 'amenities_Hangers',\n",
       " 'neighbourhood_cleansed_Russian Hill',\n",
       " 'Dec.',\n",
       " 'neighbourhood_cleansed_Potrero Hill',\n",
       " 'listing_id',\n",
       " 'amenities_Keypad',\n",
       " 'Jun.',\n",
       " 'amenities_Bed linens',\n",
       " 'Saturday',\n",
       " 'neighbourhood_cleansed_Downtown/Civic Center',\n",
       " 'Sunday',\n",
       " 'Thursday',\n",
       " 'Tuesday',\n",
       " 'host_response_rate',\n",
       " 'Friday']"
      ]
     },
     "execution_count": 74,
     "metadata": {},
     "output_type": "execute_result"
    }
   ],
   "source": [
    "features = [list_[0] for list_ in feature_lists]\n",
    "features"
   ]
  },
  {
   "cell_type": "code",
   "execution_count": 75,
   "metadata": {
    "ExecuteTime": {
     "end_time": "2019-02-18T03:37:32.044883Z",
     "start_time": "2019-02-18T03:37:32.040090Z"
    }
   },
   "outputs": [],
   "source": [
    "# 'ref_dist', 'ref_juri', 'ref_jurisdiction', 'price_by_month_week'\n",
    "\n",
    "\n",
    "columns =['listing_id']\n",
    "columns.extend(features)\n",
    "columns.extend(['ref_district', 'ref_jurisdiction', 'price_by_month_dow'])"
   ]
  },
  {
   "cell_type": "code",
   "execution_count": 76,
   "metadata": {
    "ExecuteTime": {
     "end_time": "2019-02-18T03:37:37.095412Z",
     "start_time": "2019-02-18T03:37:36.442344Z"
    }
   },
   "outputs": [
    {
     "data": {
      "text/html": [
       "<div>\n",
       "<style scoped>\n",
       "    .dataframe tbody tr th:only-of-type {\n",
       "        vertical-align: middle;\n",
       "    }\n",
       "\n",
       "    .dataframe tbody tr th {\n",
       "        vertical-align: top;\n",
       "    }\n",
       "\n",
       "    .dataframe thead th {\n",
       "        text-align: right;\n",
       "    }\n",
       "</style>\n",
       "<table border=\"1\" class=\"dataframe\">\n",
       "  <thead>\n",
       "    <tr style=\"text-align: right;\">\n",
       "      <th></th>\n",
       "      <th>listing_id</th>\n",
       "      <th>Wednesday</th>\n",
       "      <th>cleaning_fee</th>\n",
       "      <th>bedrooms</th>\n",
       "      <th>city_Oakland</th>\n",
       "      <th>room_type_Entire home/apt</th>\n",
       "      <th>city_San Francisco</th>\n",
       "      <th>reviews_per_month</th>\n",
       "      <th>bathrooms</th>\n",
       "      <th>host_listings_count</th>\n",
       "      <th>...</th>\n",
       "      <th>Saturday</th>\n",
       "      <th>neighbourhood_cleansed_Downtown/Civic Center</th>\n",
       "      <th>Sunday</th>\n",
       "      <th>Thursday</th>\n",
       "      <th>Tuesday</th>\n",
       "      <th>host_response_rate</th>\n",
       "      <th>Friday</th>\n",
       "      <th>ref_district</th>\n",
       "      <th>ref_jurisdiction</th>\n",
       "      <th>price_by_month_dow</th>\n",
       "    </tr>\n",
       "  </thead>\n",
       "  <tbody>\n",
       "    <tr>\n",
       "      <th>0</th>\n",
       "      <td>958</td>\n",
       "      <td>0</td>\n",
       "      <td>100.0</td>\n",
       "      <td>1.0</td>\n",
       "      <td>0</td>\n",
       "      <td>1</td>\n",
       "      <td>1</td>\n",
       "      <td>1.38</td>\n",
       "      <td>1.0</td>\n",
       "      <td>1</td>\n",
       "      <td>...</td>\n",
       "      <td>0</td>\n",
       "      <td>0</td>\n",
       "      <td>0</td>\n",
       "      <td>0</td>\n",
       "      <td>0</td>\n",
       "      <td>0.92</td>\n",
       "      <td>0</td>\n",
       "      <td>San Francisco</td>\n",
       "      <td>SAN FRANCISCO</td>\n",
       "      <td>180.0</td>\n",
       "    </tr>\n",
       "    <tr>\n",
       "      <th>1</th>\n",
       "      <td>958</td>\n",
       "      <td>0</td>\n",
       "      <td>100.0</td>\n",
       "      <td>1.0</td>\n",
       "      <td>0</td>\n",
       "      <td>1</td>\n",
       "      <td>1</td>\n",
       "      <td>1.38</td>\n",
       "      <td>1.0</td>\n",
       "      <td>1</td>\n",
       "      <td>...</td>\n",
       "      <td>0</td>\n",
       "      <td>0</td>\n",
       "      <td>0</td>\n",
       "      <td>0</td>\n",
       "      <td>1</td>\n",
       "      <td>0.92</td>\n",
       "      <td>0</td>\n",
       "      <td>San Francisco</td>\n",
       "      <td>SAN FRANCISCO</td>\n",
       "      <td>179.5</td>\n",
       "    </tr>\n",
       "    <tr>\n",
       "      <th>2</th>\n",
       "      <td>958</td>\n",
       "      <td>1</td>\n",
       "      <td>100.0</td>\n",
       "      <td>1.0</td>\n",
       "      <td>0</td>\n",
       "      <td>1</td>\n",
       "      <td>1</td>\n",
       "      <td>1.38</td>\n",
       "      <td>1.0</td>\n",
       "      <td>1</td>\n",
       "      <td>...</td>\n",
       "      <td>0</td>\n",
       "      <td>0</td>\n",
       "      <td>0</td>\n",
       "      <td>0</td>\n",
       "      <td>0</td>\n",
       "      <td>0.92</td>\n",
       "      <td>0</td>\n",
       "      <td>San Francisco</td>\n",
       "      <td>SAN FRANCISCO</td>\n",
       "      <td>179.5</td>\n",
       "    </tr>\n",
       "    <tr>\n",
       "      <th>3</th>\n",
       "      <td>958</td>\n",
       "      <td>0</td>\n",
       "      <td>100.0</td>\n",
       "      <td>1.0</td>\n",
       "      <td>0</td>\n",
       "      <td>1</td>\n",
       "      <td>1</td>\n",
       "      <td>1.38</td>\n",
       "      <td>1.0</td>\n",
       "      <td>1</td>\n",
       "      <td>...</td>\n",
       "      <td>0</td>\n",
       "      <td>0</td>\n",
       "      <td>0</td>\n",
       "      <td>1</td>\n",
       "      <td>0</td>\n",
       "      <td>0.92</td>\n",
       "      <td>0</td>\n",
       "      <td>San Francisco</td>\n",
       "      <td>SAN FRANCISCO</td>\n",
       "      <td>179.0</td>\n",
       "    </tr>\n",
       "    <tr>\n",
       "      <th>4</th>\n",
       "      <td>958</td>\n",
       "      <td>0</td>\n",
       "      <td>100.0</td>\n",
       "      <td>1.0</td>\n",
       "      <td>0</td>\n",
       "      <td>1</td>\n",
       "      <td>1</td>\n",
       "      <td>1.38</td>\n",
       "      <td>1.0</td>\n",
       "      <td>1</td>\n",
       "      <td>...</td>\n",
       "      <td>0</td>\n",
       "      <td>0</td>\n",
       "      <td>0</td>\n",
       "      <td>0</td>\n",
       "      <td>0</td>\n",
       "      <td>0.92</td>\n",
       "      <td>1</td>\n",
       "      <td>San Francisco</td>\n",
       "      <td>SAN FRANCISCO</td>\n",
       "      <td>183.0</td>\n",
       "    </tr>\n",
       "  </tbody>\n",
       "</table>\n",
       "<p>5 rows × 128 columns</p>\n",
       "</div>"
      ],
      "text/plain": [
       "   listing_id  Wednesday  cleaning_fee  bedrooms  city_Oakland  \\\n",
       "0         958          0         100.0       1.0             0   \n",
       "1         958          0         100.0       1.0             0   \n",
       "2         958          1         100.0       1.0             0   \n",
       "3         958          0         100.0       1.0             0   \n",
       "4         958          0         100.0       1.0             0   \n",
       "\n",
       "   room_type_Entire home/apt  city_San Francisco  reviews_per_month  \\\n",
       "0                          1                   1               1.38   \n",
       "1                          1                   1               1.38   \n",
       "2                          1                   1               1.38   \n",
       "3                          1                   1               1.38   \n",
       "4                          1                   1               1.38   \n",
       "\n",
       "   bathrooms  host_listings_count         ...          Saturday  \\\n",
       "0        1.0                    1         ...                 0   \n",
       "1        1.0                    1         ...                 0   \n",
       "2        1.0                    1         ...                 0   \n",
       "3        1.0                    1         ...                 0   \n",
       "4        1.0                    1         ...                 0   \n",
       "\n",
       "   neighbourhood_cleansed_Downtown/Civic Center  Sunday  Thursday  Tuesday  \\\n",
       "0                                             0       0         0        0   \n",
       "1                                             0       0         0        1   \n",
       "2                                             0       0         0        0   \n",
       "3                                             0       0         1        0   \n",
       "4                                             0       0         0        0   \n",
       "\n",
       "   host_response_rate  Friday   ref_district  ref_jurisdiction  \\\n",
       "0                0.92       0  San Francisco     SAN FRANCISCO   \n",
       "1                0.92       0  San Francisco     SAN FRANCISCO   \n",
       "2                0.92       0  San Francisco     SAN FRANCISCO   \n",
       "3                0.92       0  San Francisco     SAN FRANCISCO   \n",
       "4                0.92       1  San Francisco     SAN FRANCISCO   \n",
       "\n",
       "   price_by_month_dow  \n",
       "0               180.0  \n",
       "1               179.5  \n",
       "2               179.5  \n",
       "3               179.0  \n",
       "4               183.0  \n",
       "\n",
       "[5 rows x 128 columns]"
      ]
     },
     "execution_count": 76,
     "metadata": {},
     "output_type": "execute_result"
    }
   ],
   "source": [
    "df_data = df_final[columns]\n",
    "df_data.head()"
   ]
  },
  {
   "cell_type": "code",
   "execution_count": 77,
   "metadata": {
    "ExecuteTime": {
     "end_time": "2019-02-18T03:37:43.055535Z",
     "start_time": "2019-02-18T03:37:43.049803Z"
    }
   },
   "outputs": [
    {
     "data": {
      "text/plain": [
       "(407498, 128)"
      ]
     },
     "execution_count": 77,
     "metadata": {},
     "output_type": "execute_result"
    }
   ],
   "source": [
    "df_data.shape"
   ]
  },
  {
   "cell_type": "code",
   "execution_count": 78,
   "metadata": {
    "ExecuteTime": {
     "end_time": "2019-02-18T03:37:49.818311Z",
     "start_time": "2019-02-18T03:37:49.216337Z"
    }
   },
   "outputs": [],
   "source": [
    "df_data.rename(columns={'price_by_month_dow':'price'}, inplace=True)"
   ]
  },
  {
   "cell_type": "code",
   "execution_count": 79,
   "metadata": {
    "ExecuteTime": {
     "end_time": "2019-02-18T03:37:56.497520Z",
     "start_time": "2019-02-18T03:37:55.318891Z"
    }
   },
   "outputs": [
    {
     "data": {
      "text/plain": [
       "listing_id                                            0\n",
       "Wednesday                                             0\n",
       "cleaning_fee                                          0\n",
       "bedrooms                                              0\n",
       "city_Oakland                                          0\n",
       "room_type_Entire home/apt                             0\n",
       "city_San Francisco                                    0\n",
       "reviews_per_month                                     0\n",
       "bathrooms                                             0\n",
       "host_listings_count                                   0\n",
       "accommodates                                          0\n",
       "beds                                                  0\n",
       "review_scores_location                                0\n",
       "number_of_reviews                                     0\n",
       "guests_included                                       0\n",
       "host_yrs                                              0\n",
       "review_scores_rating                                  0\n",
       "neighbourhood_cleansed_Chinatown                      0\n",
       "amenities_Shampoo                                     0\n",
       "amenities_Carbon monoxide detector                    0\n",
       "calculated_host_listings_count                        0\n",
       "yrs_since_1st_review                                  0\n",
       "amenities_Indoor fireplace                            0\n",
       "review_scores_communication                           0\n",
       "amenities_Self checkin                                0\n",
       "neighbourhood_cleansed_Haight Ashbury                 0\n",
       "neighbourhood_cleansed_San Jose                       0\n",
       "host_response_time_within a few hours                 0\n",
       "Sep.                                                  0\n",
       "Monday                                                0\n",
       "                                                     ..\n",
       "amenities_Iron                                        0\n",
       "Jul.                                                  0\n",
       "Mar.                                                  0\n",
       "amenities_Hair dryer                                  0\n",
       "amenities_Host greets you                             0\n",
       "neighbourhood_cleansed_North Beach                    0\n",
       "property_type_Loft                                    0\n",
       "amenities_translation missing enhosting_amenity_50    0\n",
       "amenities_Heating                                     0\n",
       "amenities_Elevator                                    0\n",
       "amenities_Dryer                                       0\n",
       "amenities_Private living room                         0\n",
       "amenities_Hangers                                     0\n",
       "neighbourhood_cleansed_Russian Hill                   0\n",
       "Dec.                                                  0\n",
       "neighbourhood_cleansed_Potrero Hill                   0\n",
       "listing_id                                            0\n",
       "amenities_Keypad                                      0\n",
       "Jun.                                                  0\n",
       "amenities_Bed linens                                  0\n",
       "Saturday                                              0\n",
       "neighbourhood_cleansed_Downtown/Civic Center          0\n",
       "Sunday                                                0\n",
       "Thursday                                              0\n",
       "Tuesday                                               0\n",
       "host_response_rate                                    0\n",
       "Friday                                                0\n",
       "ref_district                                          0\n",
       "ref_jurisdiction                                      0\n",
       "price                                                 0\n",
       "Length: 128, dtype: int64"
      ]
     },
     "execution_count": 79,
     "metadata": {},
     "output_type": "execute_result"
    }
   ],
   "source": [
    "df_data.isnull().sum()"
   ]
  },
  {
   "cell_type": "code",
   "execution_count": null,
   "metadata": {
    "ExecuteTime": {
     "end_time": "2019-02-18T02:14:17.220412Z",
     "start_time": "2019-02-18T02:13:52.014089Z"
    },
    "scrolled": false
   },
   "outputs": [],
   "source": [
    "temp_df = df_data[['Monday', 'Tuesday', 'Wednesday', 'Thursday', 'Friday', 'Saturday', 'Sunday']].copy()\n",
    "\n",
    "days = temp_df.apply(lambda x: x.idxmax(), axis=1)\n",
    "days"
   ]
  },
  {
   "cell_type": "code",
   "execution_count": null,
   "metadata": {
    "ExecuteTime": {
     "end_time": "2018-09-17T22:12:55.258059Z",
     "start_time": "2018-09-17T22:12:27.019Z"
    }
   },
   "outputs": [],
   "source": [
    "csv_file = '/Users/xzhou/github/project_archives/files_airbnb/{}.csv'\n",
    "\n",
    "csv_path = csv_file.format('airbnb_data')\n",
    "\n",
    "df_data.to_csv(csv_path)"
   ]
  },
  {
   "cell_type": "code",
   "execution_count": null,
   "metadata": {},
   "outputs": [],
   "source": []
  },
  {
   "cell_type": "code",
   "execution_count": 81,
   "metadata": {
    "ExecuteTime": {
     "end_time": "2019-02-18T03:38:51.267141Z",
     "start_time": "2019-02-18T03:38:45.434760Z"
    }
   },
   "outputs": [],
   "source": [
    "# This is to create visual to show seasonality\n",
    "\n",
    "df_visual = pd.merge(left=df_pricing_by_mon_dow, \n",
    "                    right=df_listings_features,\n",
    "                    how='inner',\n",
    "                    left_on='listing_id',\n",
    "                    right_on='id')"
   ]
  },
  {
   "cell_type": "code",
   "execution_count": null,
   "metadata": {
    "ExecuteTime": {
     "end_time": "2019-02-18T02:14:31.142864Z",
     "start_time": "2019-02-18T02:14:31.137080Z"
    }
   },
   "outputs": [],
   "source": [
    "# df_visual = df_final.copy()"
   ]
  },
  {
   "cell_type": "code",
   "execution_count": null,
   "metadata": {
    "ExecuteTime": {
     "end_time": "2019-02-18T03:38:03.335205Z",
     "start_time": "2019-02-18T03:35:42.959Z"
    }
   },
   "outputs": [],
   "source": [
    "df_visual.shape"
   ]
  },
  {
   "cell_type": "code",
   "execution_count": 88,
   "metadata": {
    "ExecuteTime": {
     "end_time": "2019-02-18T03:42:57.279222Z",
     "start_time": "2019-02-18T03:42:57.272733Z"
    }
   },
   "outputs": [
    {
     "data": {
      "text/plain": [
       "Index(['listing_id', 'month', 'day_of_week', 'price_by_month_dow', 'id',\n",
       "       'bedrooms', 'cleaning_fee', 'room_type_Entire home/apt',\n",
       "       'city_San Francisco', 'accommodates',\n",
       "       ...\n",
       "       'amenities_Pets live on this property', 'is_location_exact_f',\n",
       "       'room_type_Shared room', 'amenities_Coffee maker',\n",
       "       'neighbourhood_cleansed_Potrero Hill', 'amenities_Heating',\n",
       "       'property_type_Townhouse', 'amenities_Microwave', 'ref_district',\n",
       "       'ref_jurisdiction'],\n",
       "      dtype='object', length=112)"
      ]
     },
     "execution_count": 88,
     "metadata": {},
     "output_type": "execute_result"
    }
   ],
   "source": [
    "df_visual.columns"
   ]
  },
  {
   "cell_type": "code",
   "execution_count": null,
   "metadata": {},
   "outputs": [],
   "source": []
  },
  {
   "cell_type": "code",
   "execution_count": 82,
   "metadata": {
    "ExecuteTime": {
     "end_time": "2019-02-18T03:39:36.492597Z",
     "start_time": "2019-02-18T03:39:35.354521Z"
    }
   },
   "outputs": [
    {
     "name": "stdout",
     "output_type": "stream",
     "text": [
      "(216975, 112) (190523, 112)\n"
     ]
    }
   ],
   "source": [
    "df_visual_ent_apart = df_visual[df_visual['room_type_Entire home/apt']==1 ]\n",
    "df_visual_sing_room = df_visual[df_visual['room_type_Entire home/apt']!=1 ]\n",
    "\n",
    "print(df_visual_ent_apart.shape, df_visual_sing_room.shape )"
   ]
  },
  {
   "cell_type": "code",
   "execution_count": 83,
   "metadata": {
    "ExecuteTime": {
     "end_time": "2019-02-18T03:40:45.656273Z",
     "start_time": "2019-02-18T03:40:45.648104Z"
    }
   },
   "outputs": [
    {
     "data": {
      "text/plain": [
       "<bound method NDFrame.describe of 0         San Francisco\n",
       "1         San Francisco\n",
       "2         San Francisco\n",
       "3         San Francisco\n",
       "4         San Francisco\n",
       "5         San Francisco\n",
       "6         San Francisco\n",
       "7         San Francisco\n",
       "8         San Francisco\n",
       "9         San Francisco\n",
       "10        San Francisco\n",
       "11        San Francisco\n",
       "12        San Francisco\n",
       "13        San Francisco\n",
       "14        San Francisco\n",
       "15        San Francisco\n",
       "16        San Francisco\n",
       "17        San Francisco\n",
       "18        San Francisco\n",
       "19        San Francisco\n",
       "20        San Francisco\n",
       "21        San Francisco\n",
       "22        San Francisco\n",
       "23        San Francisco\n",
       "24        San Francisco\n",
       "25        San Francisco\n",
       "26        San Francisco\n",
       "27        San Francisco\n",
       "28        San Francisco\n",
       "29        San Francisco\n",
       "              ...      \n",
       "407467      Santa Clara\n",
       "407468      Santa Clara\n",
       "407469      Santa Clara\n",
       "407470      Santa Clara\n",
       "407471      Santa Clara\n",
       "407472      Santa Clara\n",
       "407473      Santa Clara\n",
       "407474      Santa Clara\n",
       "407475      Santa Clara\n",
       "407476      Santa Clara\n",
       "407477      Santa Clara\n",
       "407478      Santa Clara\n",
       "407479      Santa Clara\n",
       "407480      Santa Clara\n",
       "407481      Santa Clara\n",
       "407482      Santa Clara\n",
       "407483      Santa Clara\n",
       "407484      Santa Clara\n",
       "407485      Santa Clara\n",
       "407486      Santa Clara\n",
       "407487      Santa Clara\n",
       "407488      Santa Clara\n",
       "407489      Santa Clara\n",
       "407490      Santa Clara\n",
       "407491      Santa Clara\n",
       "407492      Santa Clara\n",
       "407493      Santa Clara\n",
       "407494      Santa Clara\n",
       "407495      Santa Clara\n",
       "407496      Santa Clara\n",
       "Name: ref_district, Length: 216975, dtype: object>"
      ]
     },
     "execution_count": 83,
     "metadata": {},
     "output_type": "execute_result"
    }
   ],
   "source": [
    "df_visual_ent_apart.ref_district.describe"
   ]
  },
  {
   "cell_type": "code",
   "execution_count": null,
   "metadata": {
    "ExecuteTime": {
     "end_time": "2019-02-18T02:14:58.880705Z",
     "start_time": "2019-02-18T02:14:58.747358Z"
    }
   },
   "outputs": [],
   "source": [
    "# df_visual_entire_apartment_sf = df_visual_entire_apartment[\n",
    "#                            df_visual_entire_apartment['ref_district']=='San Francisco']\n",
    "# df_visual_entire_apartment_scz = df_visual_entire_apartment[df_visual_entire_apartment['ref_district']=='Santa Clara']\n",
    "\n",
    "# print(df_visual_entire_apartment_sf.shape, df_visual_entire_apartment_scz.shape )"
   ]
  },
  {
   "cell_type": "code",
   "execution_count": null,
   "metadata": {
    "ExecuteTime": {
     "end_time": "2019-02-18T02:15:05.436739Z",
     "start_time": "2019-02-18T02:15:05.429732Z"
    }
   },
   "outputs": [],
   "source": [
    "# df_visual_entire_apartment_sf.listing_id.nunique()"
   ]
  },
  {
   "cell_type": "code",
   "execution_count": null,
   "metadata": {
    "ExecuteTime": {
     "end_time": "2019-02-18T02:15:11.884816Z",
     "start_time": "2019-02-18T02:15:11.878206Z"
    }
   },
   "outputs": [],
   "source": [
    "# df_visual_entire_apartment_scz.listing_id.nunique()"
   ]
  },
  {
   "cell_type": "code",
   "execution_count": 91,
   "metadata": {
    "ExecuteTime": {
     "end_time": "2019-02-18T03:44:29.009085Z",
     "start_time": "2019-02-18T03:44:28.964443Z"
    }
   },
   "outputs": [
    {
     "data": {
      "text/plain": [
       "ref_district   day_of_week\n",
       "Oakland        Friday         151.028933\n",
       "               Monday         146.200905\n",
       "               Saturday       151.393272\n",
       "               Sunday         147.249513\n",
       "               Thursday       146.529586\n",
       "               Tuesday        145.668259\n",
       "               Wednesday      146.044186\n",
       "San Francisco  Friday         211.177964\n",
       "               Monday         204.813449\n",
       "               Saturday       211.109980\n",
       "               Sunday         205.917327\n",
       "               Thursday       205.669198\n",
       "               Tuesday        205.042800\n",
       "               Wednesday      204.863768\n",
       "Santa Clara    Friday         204.755467\n",
       "               Monday         203.117403\n",
       "               Saturday       204.360394\n",
       "               Sunday         202.663630\n",
       "               Thursday       203.922394\n",
       "               Tuesday        203.767863\n",
       "               Wednesday      204.424058\n",
       "Name: price_by_month_dow, dtype: float64"
      ]
     },
     "execution_count": 91,
     "metadata": {},
     "output_type": "execute_result"
    }
   ],
   "source": [
    "# Weekly pattern for entire apartment\n",
    "\n",
    "df_ent_apart_by_dow = df_visual_ent_apart  \\\n",
    "                          .groupby(['ref_district', 'day_of_week'])  \\\n",
    "                          .price_by_month_dow.mean()\n",
    "df_ent_apart_by_dow"
   ]
  },
  {
   "cell_type": "code",
   "execution_count": 92,
   "metadata": {
    "ExecuteTime": {
     "end_time": "2019-02-18T03:45:36.536523Z",
     "start_time": "2019-02-18T03:45:36.503871Z"
    }
   },
   "outputs": [
    {
     "data": {
      "text/plain": [
       "ref_district   day_of_week\n",
       "Oakland        Friday          75.503706\n",
       "               Monday          73.765381\n",
       "               Saturday        75.507196\n",
       "               Sunday          73.547569\n",
       "               Thursday        73.802102\n",
       "               Tuesday         73.691687\n",
       "               Wednesday       73.764326\n",
       "San Francisco  Friday         124.724201\n",
       "               Monday         119.657800\n",
       "               Saturday       124.368007\n",
       "               Sunday         120.494809\n",
       "               Thursday       120.571680\n",
       "               Tuesday        119.798881\n",
       "               Wednesday      120.029255\n",
       "Santa Clara    Friday          79.822268\n",
       "               Monday          78.567982\n",
       "               Saturday        79.825026\n",
       "               Sunday          78.528311\n",
       "               Thursday        78.618272\n",
       "               Tuesday         78.595941\n",
       "               Wednesday       78.560329\n",
       "Name: price_by_month_dow, dtype: float64"
      ]
     },
     "execution_count": 92,
     "metadata": {},
     "output_type": "execute_result"
    }
   ],
   "source": [
    "# Weekly pattern for single room\n",
    "\n",
    "df_sing_room_by_dow = df_visual_sing_room  \\\n",
    "                          .groupby(['ref_district', 'day_of_week'])  \\\n",
    "                          .price_by_month_dow.mean()\n",
    "df_sing_room_by_dow"
   ]
  },
  {
   "cell_type": "code",
   "execution_count": 93,
   "metadata": {
    "ExecuteTime": {
     "end_time": "2019-02-18T03:46:30.677978Z",
     "start_time": "2019-02-18T03:46:30.641259Z"
    }
   },
   "outputs": [
    {
     "data": {
      "text/plain": [
       "ref_district   month\n",
       "Oakland        Apr.     152.970769\n",
       "               Aug.     148.046702\n",
       "               Dec.     147.074091\n",
       "               Feb.     144.675173\n",
       "               Jan.     145.036679\n",
       "               Jul.     153.580032\n",
       "               Jun.     154.348160\n",
       "               Mar.     152.671308\n",
       "               May.     153.089479\n",
       "               Nov.     140.798115\n",
       "               Oct.     144.104286\n",
       "               Sep.     145.338658\n",
       "San Francisco  Apr.     204.427314\n",
       "               Aug.     214.192272\n",
       "               Dec.     203.903778\n",
       "               Feb.     203.842070\n",
       "               Jan.     206.127438\n",
       "               Jul.     206.556149\n",
       "               Jun.     206.050272\n",
       "               Mar.     205.269812\n",
       "               May.     203.235148\n",
       "               Nov.     201.374033\n",
       "               Oct.     210.140963\n",
       "               Sep.     218.031384\n",
       "Santa Clara    Apr.     211.881164\n",
       "               Aug.     204.718970\n",
       "               Dec.     198.585578\n",
       "               Feb.     202.676910\n",
       "               Jan.     200.407934\n",
       "               Jul.     204.713007\n",
       "               Jun.     204.740635\n",
       "               Mar.     209.669686\n",
       "               May.     211.012020\n",
       "               Nov.     196.971787\n",
       "               Oct.     202.268277\n",
       "               Sep.     205.054480\n",
       "Name: price_by_month_dow, dtype: float64"
      ]
     },
     "execution_count": 93,
     "metadata": {},
     "output_type": "execute_result"
    }
   ],
   "source": [
    "# Montly Pattern for entire apartment\n",
    "\n",
    "df_visual_ent_apart.groupby(['ref_district', 'month']).price_by_month_dow.mean()"
   ]
  },
  {
   "cell_type": "code",
   "execution_count": 94,
   "metadata": {
    "ExecuteTime": {
     "end_time": "2019-02-18T03:46:38.946129Z",
     "start_time": "2019-02-18T03:46:38.913688Z"
    }
   },
   "outputs": [
    {
     "data": {
      "text/plain": [
       "ref_district   month\n",
       "Oakland        Apr.      74.916126\n",
       "               Aug.      75.835302\n",
       "               Dec.      73.145327\n",
       "               Feb.      74.318976\n",
       "               Jan.      73.073431\n",
       "               Jul.      74.663438\n",
       "               Jun.      74.567812\n",
       "               Mar.      75.157040\n",
       "               May.      74.674819\n",
       "               Nov.      72.251279\n",
       "               Oct.      73.197049\n",
       "               Sep.      76.137786\n",
       "San Francisco  Apr.     118.745724\n",
       "               Aug.     127.420532\n",
       "               Dec.     118.117639\n",
       "               Feb.     117.829924\n",
       "               Jan.     119.175408\n",
       "               Jul.     118.703700\n",
       "               Jun.     118.634880\n",
       "               Mar.     118.176623\n",
       "               May.     118.150702\n",
       "               Nov.     118.061622\n",
       "               Oct.     124.222997\n",
       "               Sep.     133.589617\n",
       "Santa Clara    Apr.      80.019167\n",
       "               Aug.      78.932060\n",
       "               Dec.      76.965656\n",
       "               Feb.      79.407598\n",
       "               Jan.      78.906921\n",
       "               Jul.      80.078005\n",
       "               Jun.      80.276243\n",
       "               Mar.      80.114026\n",
       "               May.      79.997793\n",
       "               Nov.      77.793442\n",
       "               Oct.      78.280250\n",
       "               Sep.      78.084808\n",
       "Name: price_by_month_dow, dtype: float64"
      ]
     },
     "execution_count": 94,
     "metadata": {},
     "output_type": "execute_result"
    }
   ],
   "source": [
    "# Montly Pattern for single room\n",
    "\n",
    "df_visual_sing_room.groupby(['ref_district', 'month']).price_by_month_dow.mean()"
   ]
  },
  {
   "cell_type": "code",
   "execution_count": null,
   "metadata": {},
   "outputs": [],
   "source": []
  }
 ],
 "metadata": {
  "kernelspec": {
   "display_name": "Python 3",
   "language": "python",
   "name": "python3"
  },
  "language_info": {
   "codemirror_mode": {
    "name": "ipython",
    "version": 3
   },
   "file_extension": ".py",
   "mimetype": "text/x-python",
   "name": "python",
   "nbconvert_exporter": "python",
   "pygments_lexer": "ipython3",
   "version": "3.6.6"
  },
  "toc": {
   "base_numbering": 1,
   "nav_menu": {},
   "number_sections": true,
   "sideBar": true,
   "skip_h1_title": false,
   "title_cell": "Table of Contents",
   "title_sidebar": "Contents",
   "toc_cell": false,
   "toc_position": {},
   "toc_section_display": true,
   "toc_window_display": true
  },
  "varInspector": {
   "cols": {
    "lenName": 16,
    "lenType": 16,
    "lenVar": 40
   },
   "kernels_config": {
    "python": {
     "delete_cmd_postfix": "",
     "delete_cmd_prefix": "del ",
     "library": "var_list.py",
     "varRefreshCmd": "print(var_dic_list())"
    },
    "r": {
     "delete_cmd_postfix": ") ",
     "delete_cmd_prefix": "rm(",
     "library": "var_list.r",
     "varRefreshCmd": "cat(var_dic_list()) "
    }
   },
   "types_to_exclude": [
    "module",
    "function",
    "builtin_function_or_method",
    "instance",
    "_Feature"
   ],
   "window_display": false
  }
 },
 "nbformat": 4,
 "nbformat_minor": 2
}
