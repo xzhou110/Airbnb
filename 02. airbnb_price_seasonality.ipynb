{
 "cells": [
  {
   "cell_type": "markdown",
   "metadata": {},
   "source": [
    "# Data Retrieval"
   ]
  },
  {
   "cell_type": "code",
   "execution_count": 1,
   "metadata": {
    "ExecuteTime": {
     "end_time": "2019-02-18T20:40:07.121004Z",
     "start_time": "2019-02-18T20:40:04.842521Z"
    }
   },
   "outputs": [],
   "source": [
    "import pandas as pd\n",
    "import csv\n",
    "import re\n",
    "import statsmodels.api as sm\n",
    "from datetime import datetime\n",
    "import matplotlib.pyplot as plt\n",
    "import numpy as np\n",
    "\n",
    "from sklearn import datasets, linear_model\n",
    "from sklearn.metrics import mean_squared_error, r2_score\n",
    "from sklearn.preprocessing import StandardScaler\n",
    "from sklearn.model_selection import train_test_split, GroupShuffleSplit\n",
    "from sklearn.ensemble import RandomForestRegressor"
   ]
  },
  {
   "cell_type": "code",
   "execution_count": 2,
   "metadata": {
    "ExecuteTime": {
     "end_time": "2019-02-18T20:40:07.151273Z",
     "start_time": "2019-02-18T20:40:07.144955Z"
    }
   },
   "outputs": [],
   "source": [
    "# File path for cities: San Francisco(sf), Okaland(ok), and Santa Clara(sc)\n",
    "\n",
    "file_url = '/Users/xzhou/github/project_archives/files_airbnb/{}/calendar.csv'\n",
    "\n",
    "sf_file = file_url.format('sf_airbnb')\n",
    "ok_file = file_url.format('ok_airbnb')\n",
    "sc_file = file_url.format('sc_airbnb')"
   ]
  },
  {
   "cell_type": "code",
   "execution_count": 3,
   "metadata": {
    "ExecuteTime": {
     "end_time": "2019-02-18T20:40:12.627319Z",
     "start_time": "2019-02-18T20:40:07.176035Z"
    }
   },
   "outputs": [
    {
     "name": "stdout",
     "output_type": "stream",
     "text": [
      "(2420680, 4) (1057770, 4) (2068820, 4)\n"
     ]
    }
   ],
   "source": [
    "# Loaded price by date information for each city\n",
    "\n",
    "pricing_sf = pd.read_csv(sf_file, parse_dates=['date'])\n",
    "pricing_ok = pd.read_csv(ok_file, parse_dates=['date'])\n",
    "pricing_sc = pd.read_csv(sc_file, parse_dates=['date'])\n",
    "\n",
    "print(pricing_sf.shape, pricing_ok.shape, pricing_sc.shape)"
   ]
  },
  {
   "cell_type": "code",
   "execution_count": 4,
   "metadata": {
    "ExecuteTime": {
     "end_time": "2019-02-18T20:40:14.060961Z",
     "start_time": "2019-02-18T20:40:12.753199Z"
    }
   },
   "outputs": [
    {
     "data": {
      "text/html": [
       "<div>\n",
       "<style scoped>\n",
       "    .dataframe tbody tr th:only-of-type {\n",
       "        vertical-align: middle;\n",
       "    }\n",
       "\n",
       "    .dataframe tbody tr th {\n",
       "        vertical-align: top;\n",
       "    }\n",
       "\n",
       "    .dataframe thead th {\n",
       "        text-align: right;\n",
       "    }\n",
       "</style>\n",
       "<table border=\"1\" class=\"dataframe\">\n",
       "  <thead>\n",
       "    <tr style=\"text-align: right;\">\n",
       "      <th></th>\n",
       "      <th></th>\n",
       "      <th>listing_id</th>\n",
       "      <th>date</th>\n",
       "      <th>available</th>\n",
       "      <th>price</th>\n",
       "    </tr>\n",
       "  </thead>\n",
       "  <tbody>\n",
       "    <tr>\n",
       "      <th rowspan=\"10\" valign=\"top\">pricing_sf</th>\n",
       "      <th>0</th>\n",
       "      <td>958</td>\n",
       "      <td>2019-08-05</td>\n",
       "      <td>f</td>\n",
       "      <td>NaN</td>\n",
       "    </tr>\n",
       "    <tr>\n",
       "      <th>1</th>\n",
       "      <td>958</td>\n",
       "      <td>2019-08-04</td>\n",
       "      <td>f</td>\n",
       "      <td>NaN</td>\n",
       "    </tr>\n",
       "    <tr>\n",
       "      <th>2</th>\n",
       "      <td>958</td>\n",
       "      <td>2019-08-03</td>\n",
       "      <td>f</td>\n",
       "      <td>NaN</td>\n",
       "    </tr>\n",
       "    <tr>\n",
       "      <th>3</th>\n",
       "      <td>958</td>\n",
       "      <td>2019-08-02</td>\n",
       "      <td>f</td>\n",
       "      <td>NaN</td>\n",
       "    </tr>\n",
       "    <tr>\n",
       "      <th>4</th>\n",
       "      <td>958</td>\n",
       "      <td>2019-08-01</td>\n",
       "      <td>f</td>\n",
       "      <td>NaN</td>\n",
       "    </tr>\n",
       "    <tr>\n",
       "      <th>5</th>\n",
       "      <td>958</td>\n",
       "      <td>2019-07-31</td>\n",
       "      <td>f</td>\n",
       "      <td>NaN</td>\n",
       "    </tr>\n",
       "    <tr>\n",
       "      <th>6</th>\n",
       "      <td>958</td>\n",
       "      <td>2019-07-30</td>\n",
       "      <td>f</td>\n",
       "      <td>NaN</td>\n",
       "    </tr>\n",
       "    <tr>\n",
       "      <th>7</th>\n",
       "      <td>958</td>\n",
       "      <td>2019-07-29</td>\n",
       "      <td>f</td>\n",
       "      <td>NaN</td>\n",
       "    </tr>\n",
       "    <tr>\n",
       "      <th>8</th>\n",
       "      <td>958</td>\n",
       "      <td>2019-07-28</td>\n",
       "      <td>f</td>\n",
       "      <td>NaN</td>\n",
       "    </tr>\n",
       "    <tr>\n",
       "      <th>9</th>\n",
       "      <td>958</td>\n",
       "      <td>2019-07-27</td>\n",
       "      <td>f</td>\n",
       "      <td>NaN</td>\n",
       "    </tr>\n",
       "  </tbody>\n",
       "</table>\n",
       "</div>"
      ],
      "text/plain": [
       "              listing_id       date available price\n",
       "pricing_sf 0         958 2019-08-05         f   NaN\n",
       "           1         958 2019-08-04         f   NaN\n",
       "           2         958 2019-08-03         f   NaN\n",
       "           3         958 2019-08-02         f   NaN\n",
       "           4         958 2019-08-01         f   NaN\n",
       "           5         958 2019-07-31         f   NaN\n",
       "           6         958 2019-07-30         f   NaN\n",
       "           7         958 2019-07-29         f   NaN\n",
       "           8         958 2019-07-28         f   NaN\n",
       "           9         958 2019-07-27         f   NaN"
      ]
     },
     "execution_count": 4,
     "metadata": {},
     "output_type": "execute_result"
    }
   ],
   "source": [
    "# Concatenated all files into one\n",
    "# Created keys for each file for future references\n",
    "\n",
    "frames = [pricing_sf, pricing_ok, pricing_sc]\n",
    "keys = ['pricing_sf', 'pricing_ok', 'pricing_sc']\n",
    "\n",
    "df_pricing = pd.concat(frames, keys=keys)\n",
    "\n",
    "df_pricing.head(10)"
   ]
  },
  {
   "cell_type": "markdown",
   "metadata": {},
   "source": [
    "# Data Exploration"
   ]
  },
  {
   "cell_type": "markdown",
   "metadata": {
    "ExecuteTime": {
     "end_time": "2019-02-16T06:04:55.761610Z",
     "start_time": "2019-02-16T06:04:55.757951Z"
    }
   },
   "source": [
    "## Smaller Set of Data"
   ]
  },
  {
   "cell_type": "code",
   "execution_count": 5,
   "metadata": {
    "ExecuteTime": {
     "end_time": "2019-02-18T20:40:15.122139Z",
     "start_time": "2019-02-18T20:40:14.444150Z"
    }
   },
   "outputs": [
    {
     "name": "stdout",
     "output_type": "stream",
     "text": [
      "Dimension for df_pricing_smaller:  (2588352, 4)\n",
      "\n",
      "Number of Unique ids:  13452\n"
     ]
    }
   ],
   "source": [
    "# Filter to houses that are available and have listing prices\n",
    "\n",
    "df_pricing_smaller = df_pricing[df_pricing['available']=='t']\n",
    "df_pricing_smaller = df_pricing_smaller.copy()\n",
    "\n",
    "print('Dimension for df_pricing_smaller: ', df_pricing_smaller.shape)\n",
    "print ('\\nNumber of Unique ids: ', df_pricing_smaller.listing_id.nunique())"
   ]
  },
  {
   "cell_type": "code",
   "execution_count": 6,
   "metadata": {
    "ExecuteTime": {
     "end_time": "2019-02-18T20:40:15.395261Z",
     "start_time": "2019-02-18T20:40:15.388439Z"
    }
   },
   "outputs": [
    {
     "data": {
      "text/plain": [
       "Index(['listing_id', 'date', 'available', 'price'], dtype='object')"
      ]
     },
     "execution_count": 6,
     "metadata": {},
     "output_type": "execute_result"
    }
   ],
   "source": [
    "df_pricing_smaller.columns"
   ]
  },
  {
   "cell_type": "markdown",
   "metadata": {},
   "source": [
    "## Data Format"
   ]
  },
  {
   "cell_type": "code",
   "execution_count": 7,
   "metadata": {
    "ExecuteTime": {
     "end_time": "2019-02-18T20:40:15.635336Z",
     "start_time": "2019-02-18T20:40:15.631597Z"
    }
   },
   "outputs": [],
   "source": [
    "def apply2df(df, column_names, function):\n",
    "    \"\"\"\n",
    "    This enables various functions to be applied to multiple columns of dataframe.\n",
    "    Input: dataframe, columns to apply function to (list), function\n",
    "    Return: updated dataframe\n",
    "    \"\"\"\n",
    "    for column in column_names:\n",
    "        df[column] = df[column].apply(lambda x: function(x))\n",
    "    return df"
   ]
  },
  {
   "cell_type": "markdown",
   "metadata": {
    "ExecuteTime": {
     "end_time": "2019-02-17T20:54:05.091473Z",
     "start_time": "2019-02-17T20:54:05.088212Z"
    }
   },
   "source": [
    "### Currency"
   ]
  },
  {
   "cell_type": "code",
   "execution_count": 8,
   "metadata": {
    "ExecuteTime": {
     "end_time": "2019-02-18T20:40:15.844050Z",
     "start_time": "2019-02-18T20:40:15.840044Z"
    }
   },
   "outputs": [],
   "source": [
    "# Noted currencies are formated as strings and need to be converted to float\n",
    "\n",
    "def currency2float(string):\n",
    "    \"\"\"\n",
    "    Convert currency to float\n",
    "    \"\"\"\n",
    "    float_ = float(str(string).strip('$').replace(',',''))\n",
    "    return float_"
   ]
  },
  {
   "cell_type": "code",
   "execution_count": 9,
   "metadata": {
    "ExecuteTime": {
     "end_time": "2019-02-18T20:40:18.749818Z",
     "start_time": "2019-02-18T20:40:16.056268Z"
    }
   },
   "outputs": [],
   "source": [
    "# Converted price to float format\n",
    "\n",
    "curriencies = ['price']\n",
    "\n",
    "df_pricing_smaller = apply2df(df_pricing_smaller, curriencies, currency2float)"
   ]
  },
  {
   "cell_type": "markdown",
   "metadata": {},
   "source": [
    "## Outliers"
   ]
  },
  {
   "cell_type": "code",
   "execution_count": 10,
   "metadata": {
    "ExecuteTime": {
     "end_time": "2019-02-18T20:40:19.141642Z",
     "start_time": "2019-02-18T20:40:18.939756Z"
    }
   },
   "outputs": [
    {
     "data": {
      "text/plain": [
       "count    2.588352e+06\n",
       "mean     2.056189e+02\n",
       "std      7.335415e+02\n",
       "min      1.000000e+01\n",
       "5%       4.000000e+01\n",
       "10%      5.000000e+01\n",
       "25%      7.800000e+01\n",
       "50%      1.290000e+02\n",
       "75%      2.090000e+02\n",
       "90%      3.500000e+02\n",
       "95%      5.000000e+02\n",
       "max      1.024520e+05\n",
       "Name: price, dtype: float64"
      ]
     },
     "execution_count": 10,
     "metadata": {},
     "output_type": "execute_result"
    }
   ],
   "source": [
    "percentiles = [0.05, 0.10, 0.25, 0.50, 0.75, 0.90, 0.95]\n",
    "\n",
    "df_pricing_smaller.price.describe(percentiles=percentiles)"
   ]
  },
  {
   "cell_type": "code",
   "execution_count": 11,
   "metadata": {
    "ExecuteTime": {
     "end_time": "2019-02-18T20:40:19.520899Z",
     "start_time": "2019-02-18T20:40:19.339115Z"
    }
   },
   "outputs": [],
   "source": [
    "# Removed outliers based on 'price'. Use 5% and 95% percentiles as cutoff\n",
    "\n",
    "five_percentile = np.percentile(df_pricing_smaller.price, 5)\n",
    "ninety_five_percentile = np.percentile(df_pricing_smaller.price, 95)\n",
    "\n",
    "df_pricing_smaller = df_pricing_smaller[(\n",
    "                        df_pricing_smaller.price>=five_percentile)\n",
    "                        & (df_pricing_smaller.price<=ninety_five_percentile)]"
   ]
  },
  {
   "cell_type": "code",
   "execution_count": 12,
   "metadata": {
    "ExecuteTime": {
     "end_time": "2019-02-18T20:40:19.765202Z",
     "start_time": "2019-02-18T20:40:19.761045Z"
    }
   },
   "outputs": [
    {
     "name": "stdout",
     "output_type": "stream",
     "text": [
      "df_pricing_smaller dimensions:  (2346265, 4)\n"
     ]
    }
   ],
   "source": [
    "print ('df_pricing_smaller dimensions: ', df_pricing_smaller.shape)"
   ]
  },
  {
   "cell_type": "markdown",
   "metadata": {
    "ExecuteTime": {
     "end_time": "2019-02-18T00:50:22.129335Z",
     "start_time": "2019-02-18T00:50:22.113843Z"
    }
   },
   "source": [
    "## Null Values"
   ]
  },
  {
   "cell_type": "code",
   "execution_count": 13,
   "metadata": {
    "ExecuteTime": {
     "end_time": "2019-02-18T20:40:20.228873Z",
     "start_time": "2019-02-18T20:40:19.966609Z"
    }
   },
   "outputs": [
    {
     "data": {
      "text/plain": [
       "listing_id    0\n",
       "date          0\n",
       "available     0\n",
       "price         0\n",
       "dtype: int64"
      ]
     },
     "execution_count": 13,
     "metadata": {},
     "output_type": "execute_result"
    }
   ],
   "source": [
    "df_pricing_smaller.isnull().sum()"
   ]
  },
  {
   "cell_type": "code",
   "execution_count": 14,
   "metadata": {
    "ExecuteTime": {
     "end_time": "2019-02-18T20:40:20.453470Z",
     "start_time": "2019-02-18T20:40:20.448479Z"
    }
   },
   "outputs": [
    {
     "data": {
      "text/plain": [
       "(2346265, 4)"
      ]
     },
     "execution_count": 14,
     "metadata": {},
     "output_type": "execute_result"
    }
   ],
   "source": [
    "df_pricing_smaller.shape"
   ]
  },
  {
   "cell_type": "code",
   "execution_count": 15,
   "metadata": {
    "ExecuteTime": {
     "end_time": "2019-02-18T20:40:20.853409Z",
     "start_time": "2019-02-18T20:40:20.676886Z"
    }
   },
   "outputs": [
    {
     "data": {
      "text/html": [
       "<div>\n",
       "<style scoped>\n",
       "    .dataframe tbody tr th:only-of-type {\n",
       "        vertical-align: middle;\n",
       "    }\n",
       "\n",
       "    .dataframe tbody tr th {\n",
       "        vertical-align: top;\n",
       "    }\n",
       "\n",
       "    .dataframe thead th {\n",
       "        text-align: right;\n",
       "    }\n",
       "</style>\n",
       "<table border=\"1\" class=\"dataframe\">\n",
       "  <thead>\n",
       "    <tr style=\"text-align: right;\">\n",
       "      <th></th>\n",
       "      <th>date</th>\n",
       "      <th>price</th>\n",
       "    </tr>\n",
       "  </thead>\n",
       "  <tbody>\n",
       "    <tr>\n",
       "      <th>count</th>\n",
       "      <td>2346265</td>\n",
       "      <td>2.346265e+06</td>\n",
       "    </tr>\n",
       "    <tr>\n",
       "      <th>unique</th>\n",
       "      <td>375</td>\n",
       "      <td>NaN</td>\n",
       "    </tr>\n",
       "    <tr>\n",
       "      <th>top</th>\n",
       "      <td>2018-11-03 00:00:00</td>\n",
       "      <td>NaN</td>\n",
       "    </tr>\n",
       "    <tr>\n",
       "      <th>freq</th>\n",
       "      <td>8671</td>\n",
       "      <td>NaN</td>\n",
       "    </tr>\n",
       "    <tr>\n",
       "      <th>first</th>\n",
       "      <td>2018-08-06 00:00:00</td>\n",
       "      <td>NaN</td>\n",
       "    </tr>\n",
       "    <tr>\n",
       "      <th>last</th>\n",
       "      <td>2019-08-15 00:00:00</td>\n",
       "      <td>NaN</td>\n",
       "    </tr>\n",
       "    <tr>\n",
       "      <th>mean</th>\n",
       "      <td>NaN</td>\n",
       "      <td>1.537473e+02</td>\n",
       "    </tr>\n",
       "    <tr>\n",
       "      <th>std</th>\n",
       "      <td>NaN</td>\n",
       "      <td>9.694863e+01</td>\n",
       "    </tr>\n",
       "    <tr>\n",
       "      <th>min</th>\n",
       "      <td>NaN</td>\n",
       "      <td>4.000000e+01</td>\n",
       "    </tr>\n",
       "    <tr>\n",
       "      <th>25%</th>\n",
       "      <td>NaN</td>\n",
       "      <td>8.000000e+01</td>\n",
       "    </tr>\n",
       "    <tr>\n",
       "      <th>50%</th>\n",
       "      <td>NaN</td>\n",
       "      <td>1.280000e+02</td>\n",
       "    </tr>\n",
       "    <tr>\n",
       "      <th>75%</th>\n",
       "      <td>NaN</td>\n",
       "      <td>1.990000e+02</td>\n",
       "    </tr>\n",
       "    <tr>\n",
       "      <th>max</th>\n",
       "      <td>NaN</td>\n",
       "      <td>5.000000e+02</td>\n",
       "    </tr>\n",
       "  </tbody>\n",
       "</table>\n",
       "</div>"
      ],
      "text/plain": [
       "                       date         price\n",
       "count               2346265  2.346265e+06\n",
       "unique                  375           NaN\n",
       "top     2018-11-03 00:00:00           NaN\n",
       "freq                   8671           NaN\n",
       "first   2018-08-06 00:00:00           NaN\n",
       "last    2019-08-15 00:00:00           NaN\n",
       "mean                    NaN  1.537473e+02\n",
       "std                     NaN  9.694863e+01\n",
       "min                     NaN  4.000000e+01\n",
       "25%                     NaN  8.000000e+01\n",
       "50%                     NaN  1.280000e+02\n",
       "75%                     NaN  1.990000e+02\n",
       "max                     NaN  5.000000e+02"
      ]
     },
     "execution_count": 15,
     "metadata": {},
     "output_type": "execute_result"
    }
   ],
   "source": [
    "columns2display = ['date', 'price']\n",
    "\n",
    "df_pricing_smaller[columns2display].describe(include='all')"
   ]
  },
  {
   "cell_type": "markdown",
   "metadata": {
    "ExecuteTime": {
     "end_time": "2019-02-16T06:10:40.512514Z",
     "start_time": "2019-02-16T06:10:40.509754Z"
    }
   },
   "source": [
    "## Seasonality Data"
   ]
  },
  {
   "cell_type": "markdown",
   "metadata": {},
   "source": [
    "### Added Month and Day-of-Week(DOW) Features"
   ]
  },
  {
   "cell_type": "code",
   "execution_count": 16,
   "metadata": {
    "ExecuteTime": {
     "end_time": "2019-02-18T20:40:21.356292Z",
     "start_time": "2019-02-18T20:40:21.053196Z"
    }
   },
   "outputs": [
    {
     "name": "stdout",
     "output_type": "stream",
     "text": [
      "df_pricing_smaller dimensions (2346265, 6)\n"
     ]
    },
    {
     "data": {
      "text/html": [
       "<div>\n",
       "<style scoped>\n",
       "    .dataframe tbody tr th:only-of-type {\n",
       "        vertical-align: middle;\n",
       "    }\n",
       "\n",
       "    .dataframe tbody tr th {\n",
       "        vertical-align: top;\n",
       "    }\n",
       "\n",
       "    .dataframe thead th {\n",
       "        text-align: right;\n",
       "    }\n",
       "</style>\n",
       "<table border=\"1\" class=\"dataframe\">\n",
       "  <thead>\n",
       "    <tr style=\"text-align: right;\">\n",
       "      <th></th>\n",
       "      <th></th>\n",
       "      <th>listing_id</th>\n",
       "      <th>date</th>\n",
       "      <th>available</th>\n",
       "      <th>price</th>\n",
       "      <th>month</th>\n",
       "      <th>day_of_week</th>\n",
       "    </tr>\n",
       "  </thead>\n",
       "  <tbody>\n",
       "    <tr>\n",
       "      <th rowspan=\"5\" valign=\"top\">pricing_sf</th>\n",
       "      <th>63</th>\n",
       "      <td>958</td>\n",
       "      <td>2019-05-02</td>\n",
       "      <td>t</td>\n",
       "      <td>181.0</td>\n",
       "      <td>5</td>\n",
       "      <td>3</td>\n",
       "    </tr>\n",
       "    <tr>\n",
       "      <th>64</th>\n",
       "      <td>958</td>\n",
       "      <td>2019-05-01</td>\n",
       "      <td>t</td>\n",
       "      <td>181.0</td>\n",
       "      <td>5</td>\n",
       "      <td>2</td>\n",
       "    </tr>\n",
       "    <tr>\n",
       "      <th>65</th>\n",
       "      <td>958</td>\n",
       "      <td>2019-04-30</td>\n",
       "      <td>t</td>\n",
       "      <td>181.0</td>\n",
       "      <td>4</td>\n",
       "      <td>1</td>\n",
       "    </tr>\n",
       "    <tr>\n",
       "      <th>66</th>\n",
       "      <td>958</td>\n",
       "      <td>2019-04-29</td>\n",
       "      <td>t</td>\n",
       "      <td>181.0</td>\n",
       "      <td>4</td>\n",
       "      <td>0</td>\n",
       "    </tr>\n",
       "    <tr>\n",
       "      <th>67</th>\n",
       "      <td>958</td>\n",
       "      <td>2019-04-28</td>\n",
       "      <td>t</td>\n",
       "      <td>181.0</td>\n",
       "      <td>4</td>\n",
       "      <td>6</td>\n",
       "    </tr>\n",
       "  </tbody>\n",
       "</table>\n",
       "</div>"
      ],
      "text/plain": [
       "               listing_id       date available  price  month  day_of_week\n",
       "pricing_sf 63         958 2019-05-02         t  181.0      5            3\n",
       "           64         958 2019-05-01         t  181.0      5            2\n",
       "           65         958 2019-04-30         t  181.0      4            1\n",
       "           66         958 2019-04-29         t  181.0      4            0\n",
       "           67         958 2019-04-28         t  181.0      4            6"
      ]
     },
     "metadata": {},
     "output_type": "display_data"
    }
   ],
   "source": [
    "# Added 'month' column to extract month of date\n",
    "# Added 'day_of_week' column to extact day of week. \n",
    "# Default format: Monday=0, Sunday=6\n",
    "\n",
    "df_pricing_smaller['month'] = df_pricing_smaller['date'].dt.month\n",
    "df_pricing_smaller['day_of_week'] = df_pricing_smaller['date'].dt.weekday\n",
    "\n",
    "\n",
    "print('df_pricing_smaller dimensions', df_pricing_smaller.shape)\n",
    "display(df_pricing_smaller.head())"
   ]
  },
  {
   "cell_type": "code",
   "execution_count": 17,
   "metadata": {
    "ExecuteTime": {
     "end_time": "2019-02-18T20:40:21.855479Z",
     "start_time": "2019-02-18T20:40:21.569743Z"
    }
   },
   "outputs": [
    {
     "data": {
      "text/plain": [
       "<matplotlib.axes._subplots.AxesSubplot at 0x1c20a4e6a0>"
      ]
     },
     "execution_count": 17,
     "metadata": {},
     "output_type": "execute_result"
    },
    {
     "data": {
      "image/png": "[encoded data removed]",
      "text/plain": [
       "<Figure size 432x288 with 1 Axes>"
      ]
     },
     "metadata": {},
     "output_type": "display_data"
    }
   ],
   "source": [
    "# Checked the price distribution by month\n",
    "\n",
    "df_pricing_smaller.month.hist(bins=12)"
   ]
  },
  {
   "cell_type": "code",
   "execution_count": 18,
   "metadata": {
    "ExecuteTime": {
     "end_time": "2019-02-18T20:40:22.304280Z",
     "start_time": "2019-02-18T20:40:22.071665Z"
    }
   },
   "outputs": [
    {
     "data": {
      "text/plain": [
       "<matplotlib.axes._subplots.AxesSubplot at 0x1c1f8e4978>"
      ]
     },
     "execution_count": 18,
     "metadata": {},
     "output_type": "execute_result"
    },
    {
     "data": {
      "image/png": "[encoded data removed]",
      "text/plain": [
       "<Figure size 432x288 with 1 Axes>"
      ]
     },
     "metadata": {},
     "output_type": "display_data"
    }
   ],
   "source": [
    "# Checked the price distribution by day of week\n",
    "\n",
    "df_pricing_smaller.day_of_week.hist(bins=7)"
   ]
  },
  {
   "cell_type": "markdown",
   "metadata": {},
   "source": [
    "### Pricing By Month by DOW"
   ]
  },
  {
   "cell_type": "code",
   "execution_count": 19,
   "metadata": {
    "ExecuteTime": {
     "end_time": "2019-02-18T20:40:22.964731Z",
     "start_time": "2019-02-18T20:40:22.540914Z"
    }
   },
   "outputs": [
    {
     "data": {
      "text/html": [
       "<div>\n",
       "<style scoped>\n",
       "    .dataframe tbody tr th:only-of-type {\n",
       "        vertical-align: middle;\n",
       "    }\n",
       "\n",
       "    .dataframe tbody tr th {\n",
       "        vertical-align: top;\n",
       "    }\n",
       "\n",
       "    .dataframe thead th {\n",
       "        text-align: right;\n",
       "    }\n",
       "</style>\n",
       "<table border=\"1\" class=\"dataframe\">\n",
       "  <thead>\n",
       "    <tr style=\"text-align: right;\">\n",
       "      <th></th>\n",
       "      <th>listing_id</th>\n",
       "      <th>month</th>\n",
       "      <th>day_of_week</th>\n",
       "      <th>price</th>\n",
       "    </tr>\n",
       "  </thead>\n",
       "  <tbody>\n",
       "    <tr>\n",
       "      <th>0</th>\n",
       "      <td>958</td>\n",
       "      <td>1</td>\n",
       "      <td>0</td>\n",
       "      <td>180.0</td>\n",
       "    </tr>\n",
       "    <tr>\n",
       "      <th>1</th>\n",
       "      <td>958</td>\n",
       "      <td>1</td>\n",
       "      <td>1</td>\n",
       "      <td>179.5</td>\n",
       "    </tr>\n",
       "    <tr>\n",
       "      <th>2</th>\n",
       "      <td>958</td>\n",
       "      <td>1</td>\n",
       "      <td>2</td>\n",
       "      <td>179.5</td>\n",
       "    </tr>\n",
       "    <tr>\n",
       "      <th>3</th>\n",
       "      <td>958</td>\n",
       "      <td>1</td>\n",
       "      <td>3</td>\n",
       "      <td>179.0</td>\n",
       "    </tr>\n",
       "    <tr>\n",
       "      <th>4</th>\n",
       "      <td>958</td>\n",
       "      <td>1</td>\n",
       "      <td>4</td>\n",
       "      <td>183.0</td>\n",
       "    </tr>\n",
       "    <tr>\n",
       "      <th>5</th>\n",
       "      <td>958</td>\n",
       "      <td>1</td>\n",
       "      <td>5</td>\n",
       "      <td>185.0</td>\n",
       "    </tr>\n",
       "    <tr>\n",
       "      <th>6</th>\n",
       "      <td>958</td>\n",
       "      <td>1</td>\n",
       "      <td>6</td>\n",
       "      <td>180.0</td>\n",
       "    </tr>\n",
       "    <tr>\n",
       "      <th>7</th>\n",
       "      <td>958</td>\n",
       "      <td>2</td>\n",
       "      <td>0</td>\n",
       "      <td>179.0</td>\n",
       "    </tr>\n",
       "    <tr>\n",
       "      <th>8</th>\n",
       "      <td>958</td>\n",
       "      <td>2</td>\n",
       "      <td>1</td>\n",
       "      <td>179.0</td>\n",
       "    </tr>\n",
       "    <tr>\n",
       "      <th>9</th>\n",
       "      <td>958</td>\n",
       "      <td>2</td>\n",
       "      <td>2</td>\n",
       "      <td>179.0</td>\n",
       "    </tr>\n",
       "    <tr>\n",
       "      <th>10</th>\n",
       "      <td>958</td>\n",
       "      <td>2</td>\n",
       "      <td>3</td>\n",
       "      <td>179.0</td>\n",
       "    </tr>\n",
       "    <tr>\n",
       "      <th>11</th>\n",
       "      <td>958</td>\n",
       "      <td>2</td>\n",
       "      <td>4</td>\n",
       "      <td>188.5</td>\n",
       "    </tr>\n",
       "    <tr>\n",
       "      <th>12</th>\n",
       "      <td>958</td>\n",
       "      <td>2</td>\n",
       "      <td>5</td>\n",
       "      <td>188.0</td>\n",
       "    </tr>\n",
       "    <tr>\n",
       "      <th>13</th>\n",
       "      <td>958</td>\n",
       "      <td>2</td>\n",
       "      <td>6</td>\n",
       "      <td>179.0</td>\n",
       "    </tr>\n",
       "    <tr>\n",
       "      <th>14</th>\n",
       "      <td>958</td>\n",
       "      <td>3</td>\n",
       "      <td>0</td>\n",
       "      <td>181.0</td>\n",
       "    </tr>\n",
       "    <tr>\n",
       "      <th>15</th>\n",
       "      <td>958</td>\n",
       "      <td>3</td>\n",
       "      <td>1</td>\n",
       "      <td>181.0</td>\n",
       "    </tr>\n",
       "    <tr>\n",
       "      <th>16</th>\n",
       "      <td>958</td>\n",
       "      <td>3</td>\n",
       "      <td>2</td>\n",
       "      <td>181.0</td>\n",
       "    </tr>\n",
       "    <tr>\n",
       "      <th>17</th>\n",
       "      <td>958</td>\n",
       "      <td>3</td>\n",
       "      <td>3</td>\n",
       "      <td>181.0</td>\n",
       "    </tr>\n",
       "    <tr>\n",
       "      <th>18</th>\n",
       "      <td>958</td>\n",
       "      <td>3</td>\n",
       "      <td>4</td>\n",
       "      <td>191.0</td>\n",
       "    </tr>\n",
       "    <tr>\n",
       "      <th>19</th>\n",
       "      <td>958</td>\n",
       "      <td>3</td>\n",
       "      <td>5</td>\n",
       "      <td>191.0</td>\n",
       "    </tr>\n",
       "    <tr>\n",
       "      <th>20</th>\n",
       "      <td>958</td>\n",
       "      <td>3</td>\n",
       "      <td>6</td>\n",
       "      <td>181.0</td>\n",
       "    </tr>\n",
       "    <tr>\n",
       "      <th>21</th>\n",
       "      <td>958</td>\n",
       "      <td>4</td>\n",
       "      <td>0</td>\n",
       "      <td>181.0</td>\n",
       "    </tr>\n",
       "    <tr>\n",
       "      <th>22</th>\n",
       "      <td>958</td>\n",
       "      <td>4</td>\n",
       "      <td>1</td>\n",
       "      <td>181.0</td>\n",
       "    </tr>\n",
       "    <tr>\n",
       "      <th>23</th>\n",
       "      <td>958</td>\n",
       "      <td>4</td>\n",
       "      <td>2</td>\n",
       "      <td>181.0</td>\n",
       "    </tr>\n",
       "    <tr>\n",
       "      <th>24</th>\n",
       "      <td>958</td>\n",
       "      <td>4</td>\n",
       "      <td>3</td>\n",
       "      <td>181.0</td>\n",
       "    </tr>\n",
       "    <tr>\n",
       "      <th>25</th>\n",
       "      <td>958</td>\n",
       "      <td>4</td>\n",
       "      <td>4</td>\n",
       "      <td>191.0</td>\n",
       "    </tr>\n",
       "    <tr>\n",
       "      <th>26</th>\n",
       "      <td>958</td>\n",
       "      <td>4</td>\n",
       "      <td>5</td>\n",
       "      <td>191.0</td>\n",
       "    </tr>\n",
       "    <tr>\n",
       "      <th>27</th>\n",
       "      <td>958</td>\n",
       "      <td>4</td>\n",
       "      <td>6</td>\n",
       "      <td>181.0</td>\n",
       "    </tr>\n",
       "    <tr>\n",
       "      <th>28</th>\n",
       "      <td>958</td>\n",
       "      <td>5</td>\n",
       "      <td>2</td>\n",
       "      <td>181.0</td>\n",
       "    </tr>\n",
       "    <tr>\n",
       "      <th>29</th>\n",
       "      <td>958</td>\n",
       "      <td>5</td>\n",
       "      <td>3</td>\n",
       "      <td>181.0</td>\n",
       "    </tr>\n",
       "    <tr>\n",
       "      <th>...</th>\n",
       "      <td>...</td>\n",
       "      <td>...</td>\n",
       "      <td>...</td>\n",
       "      <td>...</td>\n",
       "    </tr>\n",
       "    <tr>\n",
       "      <th>70</th>\n",
       "      <td>3083</td>\n",
       "      <td>11</td>\n",
       "      <td>1</td>\n",
       "      <td>65.0</td>\n",
       "    </tr>\n",
       "    <tr>\n",
       "      <th>71</th>\n",
       "      <td>3083</td>\n",
       "      <td>11</td>\n",
       "      <td>2</td>\n",
       "      <td>65.0</td>\n",
       "    </tr>\n",
       "    <tr>\n",
       "      <th>72</th>\n",
       "      <td>3083</td>\n",
       "      <td>11</td>\n",
       "      <td>3</td>\n",
       "      <td>65.0</td>\n",
       "    </tr>\n",
       "    <tr>\n",
       "      <th>73</th>\n",
       "      <td>3083</td>\n",
       "      <td>11</td>\n",
       "      <td>4</td>\n",
       "      <td>65.0</td>\n",
       "    </tr>\n",
       "    <tr>\n",
       "      <th>74</th>\n",
       "      <td>3083</td>\n",
       "      <td>11</td>\n",
       "      <td>5</td>\n",
       "      <td>65.0</td>\n",
       "    </tr>\n",
       "    <tr>\n",
       "      <th>75</th>\n",
       "      <td>3083</td>\n",
       "      <td>11</td>\n",
       "      <td>6</td>\n",
       "      <td>65.0</td>\n",
       "    </tr>\n",
       "    <tr>\n",
       "      <th>76</th>\n",
       "      <td>3083</td>\n",
       "      <td>12</td>\n",
       "      <td>0</td>\n",
       "      <td>65.0</td>\n",
       "    </tr>\n",
       "    <tr>\n",
       "      <th>77</th>\n",
       "      <td>3083</td>\n",
       "      <td>12</td>\n",
       "      <td>1</td>\n",
       "      <td>65.0</td>\n",
       "    </tr>\n",
       "    <tr>\n",
       "      <th>78</th>\n",
       "      <td>3083</td>\n",
       "      <td>12</td>\n",
       "      <td>2</td>\n",
       "      <td>65.0</td>\n",
       "    </tr>\n",
       "    <tr>\n",
       "      <th>79</th>\n",
       "      <td>3083</td>\n",
       "      <td>12</td>\n",
       "      <td>3</td>\n",
       "      <td>65.0</td>\n",
       "    </tr>\n",
       "    <tr>\n",
       "      <th>80</th>\n",
       "      <td>3083</td>\n",
       "      <td>12</td>\n",
       "      <td>4</td>\n",
       "      <td>65.0</td>\n",
       "    </tr>\n",
       "    <tr>\n",
       "      <th>81</th>\n",
       "      <td>3083</td>\n",
       "      <td>12</td>\n",
       "      <td>5</td>\n",
       "      <td>65.0</td>\n",
       "    </tr>\n",
       "    <tr>\n",
       "      <th>82</th>\n",
       "      <td>3083</td>\n",
       "      <td>12</td>\n",
       "      <td>6</td>\n",
       "      <td>65.0</td>\n",
       "    </tr>\n",
       "    <tr>\n",
       "      <th>83</th>\n",
       "      <td>3264</td>\n",
       "      <td>9</td>\n",
       "      <td>0</td>\n",
       "      <td>53.0</td>\n",
       "    </tr>\n",
       "    <tr>\n",
       "      <th>84</th>\n",
       "      <td>3264</td>\n",
       "      <td>9</td>\n",
       "      <td>1</td>\n",
       "      <td>53.0</td>\n",
       "    </tr>\n",
       "    <tr>\n",
       "      <th>85</th>\n",
       "      <td>3264</td>\n",
       "      <td>9</td>\n",
       "      <td>2</td>\n",
       "      <td>53.0</td>\n",
       "    </tr>\n",
       "    <tr>\n",
       "      <th>86</th>\n",
       "      <td>3264</td>\n",
       "      <td>9</td>\n",
       "      <td>3</td>\n",
       "      <td>53.0</td>\n",
       "    </tr>\n",
       "    <tr>\n",
       "      <th>87</th>\n",
       "      <td>3264</td>\n",
       "      <td>9</td>\n",
       "      <td>4</td>\n",
       "      <td>63.0</td>\n",
       "    </tr>\n",
       "    <tr>\n",
       "      <th>88</th>\n",
       "      <td>3264</td>\n",
       "      <td>9</td>\n",
       "      <td>5</td>\n",
       "      <td>63.0</td>\n",
       "    </tr>\n",
       "    <tr>\n",
       "      <th>89</th>\n",
       "      <td>3264</td>\n",
       "      <td>9</td>\n",
       "      <td>6</td>\n",
       "      <td>53.0</td>\n",
       "    </tr>\n",
       "    <tr>\n",
       "      <th>90</th>\n",
       "      <td>3264</td>\n",
       "      <td>10</td>\n",
       "      <td>0</td>\n",
       "      <td>53.0</td>\n",
       "    </tr>\n",
       "    <tr>\n",
       "      <th>91</th>\n",
       "      <td>3264</td>\n",
       "      <td>10</td>\n",
       "      <td>1</td>\n",
       "      <td>53.0</td>\n",
       "    </tr>\n",
       "    <tr>\n",
       "      <th>92</th>\n",
       "      <td>3264</td>\n",
       "      <td>10</td>\n",
       "      <td>2</td>\n",
       "      <td>53.0</td>\n",
       "    </tr>\n",
       "    <tr>\n",
       "      <th>93</th>\n",
       "      <td>3264</td>\n",
       "      <td>10</td>\n",
       "      <td>3</td>\n",
       "      <td>53.0</td>\n",
       "    </tr>\n",
       "    <tr>\n",
       "      <th>94</th>\n",
       "      <td>3264</td>\n",
       "      <td>10</td>\n",
       "      <td>4</td>\n",
       "      <td>63.0</td>\n",
       "    </tr>\n",
       "    <tr>\n",
       "      <th>95</th>\n",
       "      <td>3264</td>\n",
       "      <td>10</td>\n",
       "      <td>5</td>\n",
       "      <td>63.0</td>\n",
       "    </tr>\n",
       "    <tr>\n",
       "      <th>96</th>\n",
       "      <td>3264</td>\n",
       "      <td>10</td>\n",
       "      <td>6</td>\n",
       "      <td>53.0</td>\n",
       "    </tr>\n",
       "    <tr>\n",
       "      <th>97</th>\n",
       "      <td>3264</td>\n",
       "      <td>11</td>\n",
       "      <td>0</td>\n",
       "      <td>53.0</td>\n",
       "    </tr>\n",
       "    <tr>\n",
       "      <th>98</th>\n",
       "      <td>3264</td>\n",
       "      <td>11</td>\n",
       "      <td>1</td>\n",
       "      <td>53.0</td>\n",
       "    </tr>\n",
       "    <tr>\n",
       "      <th>99</th>\n",
       "      <td>3264</td>\n",
       "      <td>11</td>\n",
       "      <td>2</td>\n",
       "      <td>53.0</td>\n",
       "    </tr>\n",
       "  </tbody>\n",
       "</table>\n",
       "<p>100 rows × 4 columns</p>\n",
       "</div>"
      ],
      "text/plain": [
       "    listing_id  month  day_of_week  price\n",
       "0          958      1            0  180.0\n",
       "1          958      1            1  179.5\n",
       "2          958      1            2  179.5\n",
       "3          958      1            3  179.0\n",
       "4          958      1            4  183.0\n",
       "5          958      1            5  185.0\n",
       "6          958      1            6  180.0\n",
       "7          958      2            0  179.0\n",
       "8          958      2            1  179.0\n",
       "9          958      2            2  179.0\n",
       "10         958      2            3  179.0\n",
       "11         958      2            4  188.5\n",
       "12         958      2            5  188.0\n",
       "13         958      2            6  179.0\n",
       "14         958      3            0  181.0\n",
       "15         958      3            1  181.0\n",
       "16         958      3            2  181.0\n",
       "17         958      3            3  181.0\n",
       "18         958      3            4  191.0\n",
       "19         958      3            5  191.0\n",
       "20         958      3            6  181.0\n",
       "21         958      4            0  181.0\n",
       "22         958      4            1  181.0\n",
       "23         958      4            2  181.0\n",
       "24         958      4            3  181.0\n",
       "25         958      4            4  191.0\n",
       "26         958      4            5  191.0\n",
       "27         958      4            6  181.0\n",
       "28         958      5            2  181.0\n",
       "29         958      5            3  181.0\n",
       "..         ...    ...          ...    ...\n",
       "70        3083     11            1   65.0\n",
       "71        3083     11            2   65.0\n",
       "72        3083     11            3   65.0\n",
       "73        3083     11            4   65.0\n",
       "74        3083     11            5   65.0\n",
       "75        3083     11            6   65.0\n",
       "76        3083     12            0   65.0\n",
       "77        3083     12            1   65.0\n",
       "78        3083     12            2   65.0\n",
       "79        3083     12            3   65.0\n",
       "80        3083     12            4   65.0\n",
       "81        3083     12            5   65.0\n",
       "82        3083     12            6   65.0\n",
       "83        3264      9            0   53.0\n",
       "84        3264      9            1   53.0\n",
       "85        3264      9            2   53.0\n",
       "86        3264      9            3   53.0\n",
       "87        3264      9            4   63.0\n",
       "88        3264      9            5   63.0\n",
       "89        3264      9            6   53.0\n",
       "90        3264     10            0   53.0\n",
       "91        3264     10            1   53.0\n",
       "92        3264     10            2   53.0\n",
       "93        3264     10            3   53.0\n",
       "94        3264     10            4   63.0\n",
       "95        3264     10            5   63.0\n",
       "96        3264     10            6   53.0\n",
       "97        3264     11            0   53.0\n",
       "98        3264     11            1   53.0\n",
       "99        3264     11            2   53.0\n",
       "\n",
       "[100 rows x 4 columns]"
      ]
     },
     "execution_count": 19,
     "metadata": {},
     "output_type": "execute_result"
    }
   ],
   "source": [
    "# Group by month by day of week, and calculate an average pricing\n",
    "\n",
    "df_pricing_by_mon_dow = df_pricing_smaller  \\\n",
    "                            .groupby(['listing_id', 'month', 'day_of_week'])  \\\n",
    "                            .price.mean()  \\\n",
    "                            .reset_index()\n",
    "df_pricing_by_mon_dow.head(100)"
   ]
  },
  {
   "cell_type": "code",
   "execution_count": 20,
   "metadata": {
    "ExecuteTime": {
     "end_time": "2019-02-18T20:40:23.272606Z",
     "start_time": "2019-02-18T20:40:23.200111Z"
    }
   },
   "outputs": [
    {
     "data": {
      "text/plain": [
       "listing_id     0\n",
       "month          0\n",
       "day_of_week    0\n",
       "price          0\n",
       "dtype: int64"
      ]
     },
     "execution_count": 20,
     "metadata": {},
     "output_type": "execute_result"
    }
   ],
   "source": [
    "# Check for null values if any\n",
    "\n",
    "df_pricing_by_mon_dow.isnull().sum()"
   ]
  },
  {
   "cell_type": "code",
   "execution_count": 21,
   "metadata": {
    "ExecuteTime": {
     "end_time": "2019-02-18T20:40:23.523490Z",
     "start_time": "2019-02-18T20:40:23.509246Z"
    }
   },
   "outputs": [],
   "source": [
    "# Rename the average price column to avoid confusion\n",
    "\n",
    "df_pricing_by_mon_dow.rename(columns={'price':'price_by_mon_dow'}, inplace=True)"
   ]
  },
  {
   "cell_type": "code",
   "execution_count": 22,
   "metadata": {
    "ExecuteTime": {
     "end_time": "2019-02-18T20:40:23.756058Z",
     "start_time": "2019-02-18T20:40:23.748149Z"
    }
   },
   "outputs": [
    {
     "data": {
      "text/plain": [
       "(625086, 4)"
      ]
     },
     "execution_count": 22,
     "metadata": {},
     "output_type": "execute_result"
    }
   ],
   "source": [
    "df_pricing_by_mon_dow.shape"
   ]
  },
  {
   "cell_type": "code",
   "execution_count": 23,
   "metadata": {
    "ExecuteTime": {
     "end_time": "2019-02-18T20:40:24.026739Z",
     "start_time": "2019-02-18T20:40:24.014568Z"
    }
   },
   "outputs": [
    {
     "data": {
      "text/html": [
       "<div>\n",
       "<style scoped>\n",
       "    .dataframe tbody tr th:only-of-type {\n",
       "        vertical-align: middle;\n",
       "    }\n",
       "\n",
       "    .dataframe tbody tr th {\n",
       "        vertical-align: top;\n",
       "    }\n",
       "\n",
       "    .dataframe thead th {\n",
       "        text-align: right;\n",
       "    }\n",
       "</style>\n",
       "<table border=\"1\" class=\"dataframe\">\n",
       "  <thead>\n",
       "    <tr style=\"text-align: right;\">\n",
       "      <th></th>\n",
       "      <th>listing_id</th>\n",
       "      <th>month</th>\n",
       "      <th>day_of_week</th>\n",
       "      <th>price_by_mon_dow</th>\n",
       "    </tr>\n",
       "  </thead>\n",
       "  <tbody>\n",
       "    <tr>\n",
       "      <th>0</th>\n",
       "      <td>958</td>\n",
       "      <td>1</td>\n",
       "      <td>0</td>\n",
       "      <td>180.0</td>\n",
       "    </tr>\n",
       "    <tr>\n",
       "      <th>1</th>\n",
       "      <td>958</td>\n",
       "      <td>1</td>\n",
       "      <td>1</td>\n",
       "      <td>179.5</td>\n",
       "    </tr>\n",
       "    <tr>\n",
       "      <th>2</th>\n",
       "      <td>958</td>\n",
       "      <td>1</td>\n",
       "      <td>2</td>\n",
       "      <td>179.5</td>\n",
       "    </tr>\n",
       "    <tr>\n",
       "      <th>3</th>\n",
       "      <td>958</td>\n",
       "      <td>1</td>\n",
       "      <td>3</td>\n",
       "      <td>179.0</td>\n",
       "    </tr>\n",
       "    <tr>\n",
       "      <th>4</th>\n",
       "      <td>958</td>\n",
       "      <td>1</td>\n",
       "      <td>4</td>\n",
       "      <td>183.0</td>\n",
       "    </tr>\n",
       "  </tbody>\n",
       "</table>\n",
       "</div>"
      ],
      "text/plain": [
       "   listing_id  month  day_of_week  price_by_mon_dow\n",
       "0         958      1            0             180.0\n",
       "1         958      1            1             179.5\n",
       "2         958      1            2             179.5\n",
       "3         958      1            3             179.0\n",
       "4         958      1            4             183.0"
      ]
     },
     "execution_count": 23,
     "metadata": {},
     "output_type": "execute_result"
    }
   ],
   "source": [
    "df_pricing_by_mon_dow.head()"
   ]
  },
  {
   "cell_type": "code",
   "execution_count": 24,
   "metadata": {
    "ExecuteTime": {
     "end_time": "2019-02-18T20:40:24.322258Z",
     "start_time": "2019-02-18T20:40:24.271090Z"
    }
   },
   "outputs": [
    {
     "data": {
      "text/html": [
       "<div>\n",
       "<style scoped>\n",
       "    .dataframe tbody tr th:only-of-type {\n",
       "        vertical-align: middle;\n",
       "    }\n",
       "\n",
       "    .dataframe tbody tr th {\n",
       "        vertical-align: top;\n",
       "    }\n",
       "\n",
       "    .dataframe thead th {\n",
       "        text-align: right;\n",
       "    }\n",
       "</style>\n",
       "<table border=\"1\" class=\"dataframe\">\n",
       "  <thead>\n",
       "    <tr style=\"text-align: right;\">\n",
       "      <th></th>\n",
       "      <th>price_by_mon_dow</th>\n",
       "    </tr>\n",
       "  </thead>\n",
       "  <tbody>\n",
       "    <tr>\n",
       "      <th>count</th>\n",
       "      <td>625086.000000</td>\n",
       "    </tr>\n",
       "    <tr>\n",
       "      <th>mean</th>\n",
       "      <td>154.025145</td>\n",
       "    </tr>\n",
       "    <tr>\n",
       "      <th>std</th>\n",
       "      <td>97.041053</td>\n",
       "    </tr>\n",
       "    <tr>\n",
       "      <th>min</th>\n",
       "      <td>40.000000</td>\n",
       "    </tr>\n",
       "    <tr>\n",
       "      <th>25%</th>\n",
       "      <td>80.000000</td>\n",
       "    </tr>\n",
       "    <tr>\n",
       "      <th>50%</th>\n",
       "      <td>128.000000</td>\n",
       "    </tr>\n",
       "    <tr>\n",
       "      <th>75%</th>\n",
       "      <td>199.000000</td>\n",
       "    </tr>\n",
       "    <tr>\n",
       "      <th>max</th>\n",
       "      <td>500.000000</td>\n",
       "    </tr>\n",
       "  </tbody>\n",
       "</table>\n",
       "</div>"
      ],
      "text/plain": [
       "       price_by_mon_dow\n",
       "count     625086.000000\n",
       "mean         154.025145\n",
       "std           97.041053\n",
       "min           40.000000\n",
       "25%           80.000000\n",
       "50%          128.000000\n",
       "75%          199.000000\n",
       "max          500.000000"
      ]
     },
     "execution_count": 24,
     "metadata": {},
     "output_type": "execute_result"
    }
   ],
   "source": [
    "columns2display = ['price_by_mon_dow']\n",
    "\n",
    "df_pricing_by_mon_dow[columns2display].describe()"
   ]
  },
  {
   "cell_type": "markdown",
   "metadata": {
    "ExecuteTime": {
     "end_time": "2019-02-17T23:54:06.544353Z",
     "start_time": "2019-02-17T23:54:06.541120Z"
    }
   },
   "source": [
    "### Convert Month, DOW Info to Dummy Variables"
   ]
  },
  {
   "cell_type": "code",
   "execution_count": 25,
   "metadata": {
    "ExecuteTime": {
     "end_time": "2019-02-18T20:40:24.557868Z",
     "start_time": "2019-02-18T20:40:24.553962Z"
    }
   },
   "outputs": [],
   "source": [
    "def get_month(number):\n",
    "    \"\"\"\n",
    "    Given a number, return the name of month.\n",
    "    \n",
    "    \"\"\"\n",
    "    month_lookup = {1:'Jan.', 2:'Feb.', 3:'Mar.', 4:'Apr.', 5:'May.', 6:'Jun.',\n",
    "                    7:'Jul.', 8:'Aug.', 9:'Sep.', 10:'Oct.', 11:'Nov.', 12:'Dec.'}\n",
    "    \n",
    "    return month_lookup[number]"
   ]
  },
  {
   "cell_type": "code",
   "execution_count": 26,
   "metadata": {
    "ExecuteTime": {
     "end_time": "2019-02-18T20:40:24.791258Z",
     "start_time": "2019-02-18T20:40:24.786176Z"
    }
   },
   "outputs": [],
   "source": [
    "def get_dow(number):\n",
    "    \"\"\"\n",
    "    Given a number, return the day of week (dow)\n",
    "    \n",
    "    \"\"\"\n",
    "    weekday_lookup = {0:'Monday', 1:'Tuesday', 2:'Wednesday', 3:'Thursday', \n",
    "                      4:'Friday', 5:'Saturday', 6:'Sunday'}\n",
    "    \n",
    "    return weekday_lookup[number]"
   ]
  },
  {
   "cell_type": "code",
   "execution_count": 27,
   "metadata": {
    "ExecuteTime": {
     "end_time": "2019-02-18T20:40:25.850371Z",
     "start_time": "2019-02-18T20:40:25.016402Z"
    }
   },
   "outputs": [],
   "source": [
    "# Added names for month, and day of week(dow) informaiton\n",
    "\n",
    "df_pricing_by_mon_dow = apply2df(df_pricing_by_mon_dow, ['month'], get_month )\n",
    "df_pricing_by_mon_dow = apply2df(df_pricing_by_mon_dow, ['day_of_week'], get_dow )"
   ]
  },
  {
   "cell_type": "code",
   "execution_count": 28,
   "metadata": {
    "ExecuteTime": {
     "end_time": "2019-02-18T20:40:26.253003Z",
     "start_time": "2019-02-18T20:40:26.069934Z"
    }
   },
   "outputs": [
    {
     "name": "stdout",
     "output_type": "stream",
     "text": [
      "df_pricing_final dimensions:  (625086, 21)\n"
     ]
    },
    {
     "data": {
      "text/html": [
       "<div>\n",
       "<style scoped>\n",
       "    .dataframe tbody tr th:only-of-type {\n",
       "        vertical-align: middle;\n",
       "    }\n",
       "\n",
       "    .dataframe tbody tr th {\n",
       "        vertical-align: top;\n",
       "    }\n",
       "\n",
       "    .dataframe thead th {\n",
       "        text-align: right;\n",
       "    }\n",
       "</style>\n",
       "<table border=\"1\" class=\"dataframe\">\n",
       "  <thead>\n",
       "    <tr style=\"text-align: right;\">\n",
       "      <th></th>\n",
       "      <th>listing_id</th>\n",
       "      <th>price_by_mon_dow</th>\n",
       "      <th>Apr.</th>\n",
       "      <th>Aug.</th>\n",
       "      <th>Dec.</th>\n",
       "      <th>Feb.</th>\n",
       "      <th>Jan.</th>\n",
       "      <th>Jul.</th>\n",
       "      <th>Jun.</th>\n",
       "      <th>Mar.</th>\n",
       "      <th>...</th>\n",
       "      <th>Nov.</th>\n",
       "      <th>Oct.</th>\n",
       "      <th>Sep.</th>\n",
       "      <th>Friday</th>\n",
       "      <th>Monday</th>\n",
       "      <th>Saturday</th>\n",
       "      <th>Sunday</th>\n",
       "      <th>Thursday</th>\n",
       "      <th>Tuesday</th>\n",
       "      <th>Wednesday</th>\n",
       "    </tr>\n",
       "  </thead>\n",
       "  <tbody>\n",
       "    <tr>\n",
       "      <th>0</th>\n",
       "      <td>958</td>\n",
       "      <td>180.0</td>\n",
       "      <td>0</td>\n",
       "      <td>0</td>\n",
       "      <td>0</td>\n",
       "      <td>0</td>\n",
       "      <td>1</td>\n",
       "      <td>0</td>\n",
       "      <td>0</td>\n",
       "      <td>0</td>\n",
       "      <td>...</td>\n",
       "      <td>0</td>\n",
       "      <td>0</td>\n",
       "      <td>0</td>\n",
       "      <td>0</td>\n",
       "      <td>1</td>\n",
       "      <td>0</td>\n",
       "      <td>0</td>\n",
       "      <td>0</td>\n",
       "      <td>0</td>\n",
       "      <td>0</td>\n",
       "    </tr>\n",
       "    <tr>\n",
       "      <th>1</th>\n",
       "      <td>958</td>\n",
       "      <td>179.5</td>\n",
       "      <td>0</td>\n",
       "      <td>0</td>\n",
       "      <td>0</td>\n",
       "      <td>0</td>\n",
       "      <td>1</td>\n",
       "      <td>0</td>\n",
       "      <td>0</td>\n",
       "      <td>0</td>\n",
       "      <td>...</td>\n",
       "      <td>0</td>\n",
       "      <td>0</td>\n",
       "      <td>0</td>\n",
       "      <td>0</td>\n",
       "      <td>0</td>\n",
       "      <td>0</td>\n",
       "      <td>0</td>\n",
       "      <td>0</td>\n",
       "      <td>1</td>\n",
       "      <td>0</td>\n",
       "    </tr>\n",
       "    <tr>\n",
       "      <th>2</th>\n",
       "      <td>958</td>\n",
       "      <td>179.5</td>\n",
       "      <td>0</td>\n",
       "      <td>0</td>\n",
       "      <td>0</td>\n",
       "      <td>0</td>\n",
       "      <td>1</td>\n",
       "      <td>0</td>\n",
       "      <td>0</td>\n",
       "      <td>0</td>\n",
       "      <td>...</td>\n",
       "      <td>0</td>\n",
       "      <td>0</td>\n",
       "      <td>0</td>\n",
       "      <td>0</td>\n",
       "      <td>0</td>\n",
       "      <td>0</td>\n",
       "      <td>0</td>\n",
       "      <td>0</td>\n",
       "      <td>0</td>\n",
       "      <td>1</td>\n",
       "    </tr>\n",
       "    <tr>\n",
       "      <th>3</th>\n",
       "      <td>958</td>\n",
       "      <td>179.0</td>\n",
       "      <td>0</td>\n",
       "      <td>0</td>\n",
       "      <td>0</td>\n",
       "      <td>0</td>\n",
       "      <td>1</td>\n",
       "      <td>0</td>\n",
       "      <td>0</td>\n",
       "      <td>0</td>\n",
       "      <td>...</td>\n",
       "      <td>0</td>\n",
       "      <td>0</td>\n",
       "      <td>0</td>\n",
       "      <td>0</td>\n",
       "      <td>0</td>\n",
       "      <td>0</td>\n",
       "      <td>0</td>\n",
       "      <td>1</td>\n",
       "      <td>0</td>\n",
       "      <td>0</td>\n",
       "    </tr>\n",
       "    <tr>\n",
       "      <th>4</th>\n",
       "      <td>958</td>\n",
       "      <td>183.0</td>\n",
       "      <td>0</td>\n",
       "      <td>0</td>\n",
       "      <td>0</td>\n",
       "      <td>0</td>\n",
       "      <td>1</td>\n",
       "      <td>0</td>\n",
       "      <td>0</td>\n",
       "      <td>0</td>\n",
       "      <td>...</td>\n",
       "      <td>0</td>\n",
       "      <td>0</td>\n",
       "      <td>0</td>\n",
       "      <td>1</td>\n",
       "      <td>0</td>\n",
       "      <td>0</td>\n",
       "      <td>0</td>\n",
       "      <td>0</td>\n",
       "      <td>0</td>\n",
       "      <td>0</td>\n",
       "    </tr>\n",
       "  </tbody>\n",
       "</table>\n",
       "<p>5 rows × 21 columns</p>\n",
       "</div>"
      ],
      "text/plain": [
       "   listing_id  price_by_mon_dow  Apr.  Aug.  Dec.  Feb.  Jan.  Jul.  Jun.  \\\n",
       "0         958             180.0     0     0     0     0     1     0     0   \n",
       "1         958             179.5     0     0     0     0     1     0     0   \n",
       "2         958             179.5     0     0     0     0     1     0     0   \n",
       "3         958             179.0     0     0     0     0     1     0     0   \n",
       "4         958             183.0     0     0     0     0     1     0     0   \n",
       "\n",
       "   Mar.    ...      Nov.  Oct.  Sep.  Friday  Monday  Saturday  Sunday  \\\n",
       "0     0    ...         0     0     0       0       1         0       0   \n",
       "1     0    ...         0     0     0       0       0         0       0   \n",
       "2     0    ...         0     0     0       0       0         0       0   \n",
       "3     0    ...         0     0     0       0       0         0       0   \n",
       "4     0    ...         0     0     0       1       0         0       0   \n",
       "\n",
       "   Thursday  Tuesday  Wednesday  \n",
       "0         0        0          0  \n",
       "1         0        1          0  \n",
       "2         0        0          1  \n",
       "3         1        0          0  \n",
       "4         0        0          0  \n",
       "\n",
       "[5 rows x 21 columns]"
      ]
     },
     "execution_count": 28,
     "metadata": {},
     "output_type": "execute_result"
    }
   ],
   "source": [
    "# Converted month, and dow information to dummy variables\n",
    "\n",
    "df_pricing_final = pd.get_dummies(df_pricing_by_mon_dow, \n",
    "                                  prefix='',\n",
    "                                  prefix_sep='',\n",
    "                                  columns=['month', 'day_of_week'])\n",
    "\n",
    "print ('df_pricing_final dimensions: ', df_pricing_final.shape)\n",
    "df_pricing_final.head()"
   ]
  },
  {
   "cell_type": "code",
   "execution_count": 29,
   "metadata": {
    "ExecuteTime": {
     "end_time": "2019-02-18T20:40:26.637093Z",
     "start_time": "2019-02-18T20:40:26.631090Z"
    }
   },
   "outputs": [
    {
     "data": {
      "text/plain": [
       "Index(['listing_id', 'price_by_mon_dow', 'Apr.', 'Aug.', 'Dec.', 'Feb.',\n",
       "       'Jan.', 'Jul.', 'Jun.', 'Mar.', 'May.', 'Nov.', 'Oct.', 'Sep.',\n",
       "       'Friday', 'Monday', 'Saturday', 'Sunday', 'Thursday', 'Tuesday',\n",
       "       'Wednesday'],\n",
       "      dtype='object')"
      ]
     },
     "execution_count": 29,
     "metadata": {},
     "output_type": "execute_result"
    }
   ],
   "source": [
    "df_pricing_final.columns"
   ]
  },
  {
   "cell_type": "markdown",
   "metadata": {
    "ExecuteTime": {
     "end_time": "2019-02-18T03:10:45.869630Z",
     "start_time": "2019-02-18T03:10:45.866430Z"
    }
   },
   "source": [
    "## Combined Seasonality Data with Previously Identified Features"
   ]
  },
  {
   "cell_type": "code",
   "execution_count": 30,
   "metadata": {
    "ExecuteTime": {
     "end_time": "2019-02-18T20:40:27.056380Z",
     "start_time": "2019-02-18T20:40:27.010620Z"
    }
   },
   "outputs": [
    {
     "name": "stdout",
     "output_type": "stream",
     "text": [
      "df_listings_features dimensions:  (9062, 108)\n"
     ]
    },
    {
     "data": {
      "text/html": [
       "<div>\n",
       "<style scoped>\n",
       "    .dataframe tbody tr th:only-of-type {\n",
       "        vertical-align: middle;\n",
       "    }\n",
       "\n",
       "    .dataframe tbody tr th {\n",
       "        vertical-align: top;\n",
       "    }\n",
       "\n",
       "    .dataframe thead th {\n",
       "        text-align: right;\n",
       "    }\n",
       "</style>\n",
       "<table border=\"1\" class=\"dataframe\">\n",
       "  <thead>\n",
       "    <tr style=\"text-align: right;\">\n",
       "      <th></th>\n",
       "      <th>id</th>\n",
       "      <th>bedrooms</th>\n",
       "      <th>cleaning_fee</th>\n",
       "      <th>room_type_Entire home/apt</th>\n",
       "      <th>city_San Francisco</th>\n",
       "      <th>accommodates</th>\n",
       "      <th>city_Oakland</th>\n",
       "      <th>reviews_per_month</th>\n",
       "      <th>bathrooms</th>\n",
       "      <th>host_listings_count</th>\n",
       "      <th>...</th>\n",
       "      <th>amenities_Pets live on this property</th>\n",
       "      <th>is_location_exact_f</th>\n",
       "      <th>room_type_Shared room</th>\n",
       "      <th>amenities_Coffee maker</th>\n",
       "      <th>neighbourhood_cleansed_Potrero Hill</th>\n",
       "      <th>amenities_Heating</th>\n",
       "      <th>property_type_Townhouse</th>\n",
       "      <th>amenities_Microwave</th>\n",
       "      <th>ref_district</th>\n",
       "      <th>ref_jurisdiction</th>\n",
       "    </tr>\n",
       "  </thead>\n",
       "  <tbody>\n",
       "    <tr>\n",
       "      <th>0</th>\n",
       "      <td>958</td>\n",
       "      <td>1.0</td>\n",
       "      <td>100.0</td>\n",
       "      <td>1</td>\n",
       "      <td>1</td>\n",
       "      <td>3</td>\n",
       "      <td>0</td>\n",
       "      <td>1.38</td>\n",
       "      <td>1.0</td>\n",
       "      <td>1</td>\n",
       "      <td>...</td>\n",
       "      <td>1</td>\n",
       "      <td>0</td>\n",
       "      <td>0</td>\n",
       "      <td>0</td>\n",
       "      <td>0</td>\n",
       "      <td>1</td>\n",
       "      <td>0</td>\n",
       "      <td>0</td>\n",
       "      <td>San Francisco</td>\n",
       "      <td>SAN FRANCISCO</td>\n",
       "    </tr>\n",
       "    <tr>\n",
       "      <th>1</th>\n",
       "      <td>5858</td>\n",
       "      <td>2.0</td>\n",
       "      <td>100.0</td>\n",
       "      <td>1</td>\n",
       "      <td>1</td>\n",
       "      <td>5</td>\n",
       "      <td>0</td>\n",
       "      <td>0.99</td>\n",
       "      <td>1.0</td>\n",
       "      <td>2</td>\n",
       "      <td>...</td>\n",
       "      <td>0</td>\n",
       "      <td>0</td>\n",
       "      <td>0</td>\n",
       "      <td>0</td>\n",
       "      <td>0</td>\n",
       "      <td>1</td>\n",
       "      <td>0</td>\n",
       "      <td>0</td>\n",
       "      <td>San Francisco</td>\n",
       "      <td>SAN FRANCISCO</td>\n",
       "    </tr>\n",
       "    <tr>\n",
       "      <th>2</th>\n",
       "      <td>7918</td>\n",
       "      <td>1.0</td>\n",
       "      <td>50.0</td>\n",
       "      <td>0</td>\n",
       "      <td>1</td>\n",
       "      <td>2</td>\n",
       "      <td>0</td>\n",
       "      <td>0.16</td>\n",
       "      <td>4.0</td>\n",
       "      <td>10</td>\n",
       "      <td>...</td>\n",
       "      <td>0</td>\n",
       "      <td>0</td>\n",
       "      <td>0</td>\n",
       "      <td>0</td>\n",
       "      <td>0</td>\n",
       "      <td>1</td>\n",
       "      <td>0</td>\n",
       "      <td>0</td>\n",
       "      <td>San Francisco</td>\n",
       "      <td>SAN FRANCISCO</td>\n",
       "    </tr>\n",
       "    <tr>\n",
       "      <th>3</th>\n",
       "      <td>8142</td>\n",
       "      <td>1.0</td>\n",
       "      <td>50.0</td>\n",
       "      <td>0</td>\n",
       "      <td>1</td>\n",
       "      <td>2</td>\n",
       "      <td>0</td>\n",
       "      <td>0.15</td>\n",
       "      <td>4.0</td>\n",
       "      <td>10</td>\n",
       "      <td>...</td>\n",
       "      <td>0</td>\n",
       "      <td>0</td>\n",
       "      <td>0</td>\n",
       "      <td>0</td>\n",
       "      <td>0</td>\n",
       "      <td>1</td>\n",
       "      <td>0</td>\n",
       "      <td>0</td>\n",
       "      <td>San Francisco</td>\n",
       "      <td>SAN FRANCISCO</td>\n",
       "    </tr>\n",
       "    <tr>\n",
       "      <th>4</th>\n",
       "      <td>8567</td>\n",
       "      <td>2.0</td>\n",
       "      <td>125.0</td>\n",
       "      <td>1</td>\n",
       "      <td>1</td>\n",
       "      <td>6</td>\n",
       "      <td>0</td>\n",
       "      <td>0.27</td>\n",
       "      <td>1.0</td>\n",
       "      <td>1</td>\n",
       "      <td>...</td>\n",
       "      <td>0</td>\n",
       "      <td>0</td>\n",
       "      <td>0</td>\n",
       "      <td>1</td>\n",
       "      <td>0</td>\n",
       "      <td>1</td>\n",
       "      <td>0</td>\n",
       "      <td>1</td>\n",
       "      <td>San Francisco</td>\n",
       "      <td>SAN FRANCISCO</td>\n",
       "    </tr>\n",
       "  </tbody>\n",
       "</table>\n",
       "<p>5 rows × 108 columns</p>\n",
       "</div>"
      ],
      "text/plain": [
       "     id  bedrooms  cleaning_fee  room_type_Entire home/apt  \\\n",
       "0   958       1.0         100.0                          1   \n",
       "1  5858       2.0         100.0                          1   \n",
       "2  7918       1.0          50.0                          0   \n",
       "3  8142       1.0          50.0                          0   \n",
       "4  8567       2.0         125.0                          1   \n",
       "\n",
       "   city_San Francisco  accommodates  city_Oakland  reviews_per_month  \\\n",
       "0                   1             3             0               1.38   \n",
       "1                   1             5             0               0.99   \n",
       "2                   1             2             0               0.16   \n",
       "3                   1             2             0               0.15   \n",
       "4                   1             6             0               0.27   \n",
       "\n",
       "   bathrooms  host_listings_count        ...         \\\n",
       "0        1.0                    1        ...          \n",
       "1        1.0                    2        ...          \n",
       "2        4.0                   10        ...          \n",
       "3        4.0                   10        ...          \n",
       "4        1.0                    1        ...          \n",
       "\n",
       "   amenities_Pets live on this property  is_location_exact_f  \\\n",
       "0                                     1                    0   \n",
       "1                                     0                    0   \n",
       "2                                     0                    0   \n",
       "3                                     0                    0   \n",
       "4                                     0                    0   \n",
       "\n",
       "   room_type_Shared room  amenities_Coffee maker  \\\n",
       "0                      0                       0   \n",
       "1                      0                       0   \n",
       "2                      0                       0   \n",
       "3                      0                       0   \n",
       "4                      0                       1   \n",
       "\n",
       "   neighbourhood_cleansed_Potrero Hill  amenities_Heating  \\\n",
       "0                                    0                  1   \n",
       "1                                    0                  1   \n",
       "2                                    0                  1   \n",
       "3                                    0                  1   \n",
       "4                                    0                  1   \n",
       "\n",
       "   property_type_Townhouse  amenities_Microwave   ref_district  \\\n",
       "0                        0                    0  San Francisco   \n",
       "1                        0                    0  San Francisco   \n",
       "2                        0                    0  San Francisco   \n",
       "3                        0                    0  San Francisco   \n",
       "4                        0                    1  San Francisco   \n",
       "\n",
       "   ref_jurisdiction  \n",
       "0     SAN FRANCISCO  \n",
       "1     SAN FRANCISCO  \n",
       "2     SAN FRANCISCO  \n",
       "3     SAN FRANCISCO  \n",
       "4     SAN FRANCISCO  \n",
       "\n",
       "[5 rows x 108 columns]"
      ]
     },
     "execution_count": 30,
     "metadata": {},
     "output_type": "execute_result"
    }
   ],
   "source": [
    "# Loaded listings with identified important features\n",
    "\n",
    "pkl_file = '/Users/xzhou/github/project_archives/files_airbnb/{}.pkl'\n",
    "\n",
    "listings = pkl_file.format('df_listings_selected_features')\n",
    "\n",
    "df_listings_features = pd.read_pickle(listings)\n",
    "\n",
    "print ('df_listings_features dimensions: ', df_listings_features.shape)\n",
    "df_listings_features.head()"
   ]
  },
  {
   "cell_type": "code",
   "execution_count": 31,
   "metadata": {
    "ExecuteTime": {
     "end_time": "2019-02-18T20:40:27.530461Z",
     "start_time": "2019-02-18T20:40:27.524657Z"
    }
   },
   "outputs": [
    {
     "data": {
      "text/plain": [
       "Index(['id', 'bedrooms', 'cleaning_fee', 'room_type_Entire home/apt',\n",
       "       'city_San Francisco', 'accommodates', 'city_Oakland',\n",
       "       'reviews_per_month', 'bathrooms', 'host_listings_count',\n",
       "       ...\n",
       "       'amenities_Pets live on this property', 'is_location_exact_f',\n",
       "       'room_type_Shared room', 'amenities_Coffee maker',\n",
       "       'neighbourhood_cleansed_Potrero Hill', 'amenities_Heating',\n",
       "       'property_type_Townhouse', 'amenities_Microwave', 'ref_district',\n",
       "       'ref_jurisdiction'],\n",
       "      dtype='object', length=108)"
      ]
     },
     "execution_count": 31,
     "metadata": {},
     "output_type": "execute_result"
    }
   ],
   "source": [
    "df_listings_features.columns"
   ]
  },
  {
   "cell_type": "code",
   "execution_count": 32,
   "metadata": {
    "ExecuteTime": {
     "end_time": "2019-02-18T20:40:32.283555Z",
     "start_time": "2019-02-18T20:40:27.952947Z"
    }
   },
   "outputs": [],
   "source": [
    "# Combined listing data with seaonality information we just created\n",
    "\n",
    "df_final = pd.merge(left=df_pricing_final, \n",
    "                    right=df_listings_features,\n",
    "                    how='inner',\n",
    "                    left_on='listing_id',\n",
    "                    right_on='id')"
   ]
  },
  {
   "cell_type": "code",
   "execution_count": 33,
   "metadata": {
    "ExecuteTime": {
     "end_time": "2019-02-18T20:40:32.990257Z",
     "start_time": "2019-02-18T20:40:32.981412Z"
    }
   },
   "outputs": [
    {
     "data": {
      "text/plain": [
       "Index(['listing_id', 'price_by_mon_dow', 'Apr.', 'Aug.', 'Dec.', 'Feb.',\n",
       "       'Jan.', 'Jul.', 'Jun.', 'Mar.',\n",
       "       ...\n",
       "       'amenities_Pets live on this property', 'is_location_exact_f',\n",
       "       'room_type_Shared room', 'amenities_Coffee maker',\n",
       "       'neighbourhood_cleansed_Potrero Hill', 'amenities_Heating',\n",
       "       'property_type_Townhouse', 'amenities_Microwave', 'ref_district',\n",
       "       'ref_jurisdiction'],\n",
       "      dtype='object', length=129)"
      ]
     },
     "execution_count": 33,
     "metadata": {},
     "output_type": "execute_result"
    }
   ],
   "source": [
    "df_final.columns"
   ]
  },
  {
   "cell_type": "code",
   "execution_count": 34,
   "metadata": {
    "ExecuteTime": {
     "end_time": "2019-02-18T20:40:34.355711Z",
     "start_time": "2019-02-18T20:40:33.727441Z"
    }
   },
   "outputs": [
    {
     "data": {
      "text/plain": [
       "(407498, 128)"
      ]
     },
     "execution_count": 34,
     "metadata": {},
     "output_type": "execute_result"
    }
   ],
   "source": [
    "# Dropped duplicate columns\n",
    "\n",
    "duplicate_columns = ['id']\n",
    "df_final.drop(duplicate_columns, axis=1, inplace=True)\n",
    "\n",
    "df_final.shape"
   ]
  },
  {
   "cell_type": "markdown",
   "metadata": {
    "ExecuteTime": {
     "end_time": "2019-02-18T00:26:16.558136Z",
     "start_time": "2019-02-18T00:26:16.554923Z"
    }
   },
   "source": [
    "### Features with High Correlation"
   ]
  },
  {
   "cell_type": "code",
   "execution_count": 35,
   "metadata": {
    "ExecuteTime": {
     "end_time": "2019-02-18T20:40:47.545415Z",
     "start_time": "2019-02-18T20:40:35.033472Z"
    }
   },
   "outputs": [],
   "source": [
    "# Create correlation matrix\n",
    "# Select upper triangle of correlation matrix\n",
    "\n",
    "corr_matrix = df_final.corr().abs()\n",
    "upper = corr_matrix.where(np.triu(np.ones(corr_matrix.shape), k=1).astype(np.bool))"
   ]
  },
  {
   "cell_type": "code",
   "execution_count": 36,
   "metadata": {
    "ExecuteTime": {
     "end_time": "2019-02-18T20:40:48.711440Z",
     "start_time": "2019-02-18T20:40:48.676592Z"
    }
   },
   "outputs": [
    {
     "data": {
      "text/plain": [
       "[]"
      ]
     },
     "execution_count": 36,
     "metadata": {},
     "output_type": "execute_result"
    }
   ],
   "source": [
    "# Find index of feature columns with correlation greater than 0.90\n",
    "\n",
    "thresold = 0.90\n",
    "to_drop = [column for column in upper.columns if any(upper[column] >= thresold)]\n",
    "\n",
    "to_drop"
   ]
  },
  {
   "cell_type": "code",
   "execution_count": 37,
   "metadata": {
    "ExecuteTime": {
     "end_time": "2019-02-18T20:40:49.701643Z",
     "start_time": "2019-02-18T20:40:49.551624Z"
    }
   },
   "outputs": [],
   "source": [
    "# Drop features that have high correlation\n",
    "\n",
    "df_final.drop(to_drop, axis=1, inplace=True)"
   ]
  },
  {
   "cell_type": "code",
   "execution_count": 38,
   "metadata": {
    "ExecuteTime": {
     "end_time": "2019-02-18T20:40:50.526980Z",
     "start_time": "2019-02-18T20:40:50.521222Z"
    }
   },
   "outputs": [
    {
     "data": {
      "text/plain": [
       "(407498, 128)"
      ]
     },
     "execution_count": 38,
     "metadata": {},
     "output_type": "execute_result"
    }
   ],
   "source": [
    "df_final.shape"
   ]
  },
  {
   "cell_type": "code",
   "execution_count": 39,
   "metadata": {
    "ExecuteTime": {
     "end_time": "2019-02-18T20:40:52.304467Z",
     "start_time": "2019-02-18T20:40:51.443484Z"
    }
   },
   "outputs": [],
   "source": [
    "# Store the data prior to modeling\n",
    "# When there're changes, mark file_updated as true. Changes'll be written to local files\n",
    "# Otherwise, mark file_updated as false. Data will be loaded from existing files\n",
    "\n",
    "file_updated = True\n",
    "pkl_file = '/Users/xzhou/github/project_archives/files_airbnb/{}.pkl'\n",
    "listings_seasonality = pkl_file.format('listings_seasonality')\n",
    "\n",
    "\n",
    "if file_updated:\n",
    "    with open(listings_seasonality, 'wb') as file:\n",
    "        pd.to_pickle(df_final, file)\n",
    "else:\n",
    "    try: \n",
    "        with open(listings_seasonality, 'rb') as file:\n",
    "            df_final = pd.read_pickle(file)\n",
    "    except:\n",
    "        with open(listings_seasonality, 'wb') as file:\n",
    "            pd.to_pickle(df_final, file)"
   ]
  },
  {
   "cell_type": "markdown",
   "metadata": {},
   "source": [
    "# Modeling"
   ]
  },
  {
   "cell_type": "code",
   "execution_count": 40,
   "metadata": {
    "ExecuteTime": {
     "end_time": "2019-02-18T20:40:53.176275Z",
     "start_time": "2019-02-18T20:40:53.170510Z"
    }
   },
   "outputs": [
    {
     "data": {
      "text/plain": [
       "Index(['listing_id', 'price_by_mon_dow', 'Apr.', 'Aug.', 'Dec.', 'Feb.',\n",
       "       'Jan.', 'Jul.', 'Jun.', 'Mar.',\n",
       "       ...\n",
       "       'amenities_Pets live on this property', 'is_location_exact_f',\n",
       "       'room_type_Shared room', 'amenities_Coffee maker',\n",
       "       'neighbourhood_cleansed_Potrero Hill', 'amenities_Heating',\n",
       "       'property_type_Townhouse', 'amenities_Microwave', 'ref_district',\n",
       "       'ref_jurisdiction'],\n",
       "      dtype='object', length=128)"
      ]
     },
     "execution_count": 40,
     "metadata": {},
     "output_type": "execute_result"
    }
   ],
   "source": [
    "df_final.columns"
   ]
  },
  {
   "cell_type": "code",
   "execution_count": 41,
   "metadata": {
    "ExecuteTime": {
     "end_time": "2019-02-18T20:40:54.075954Z",
     "start_time": "2019-02-18T20:40:54.039829Z"
    }
   },
   "outputs": [
    {
     "data": {
      "text/plain": [
       "Index(['ref_district', 'ref_jurisdiction'], dtype='object')"
      ]
     },
     "execution_count": 41,
     "metadata": {},
     "output_type": "execute_result"
    }
   ],
   "source": [
    "df_final.select_dtypes(include =['object']).columns"
   ]
  },
  {
   "cell_type": "code",
   "execution_count": 42,
   "metadata": {
    "ExecuteTime": {
     "end_time": "2019-02-18T20:40:55.207910Z",
     "start_time": "2019-02-18T20:40:55.001419Z"
    }
   },
   "outputs": [],
   "source": [
    "# Multiple modelings will be performed for price prediction\n",
    "# Data include 'listing_id', which will be used for stratified sampling\n",
    "\n",
    "X = df_final.drop(['price_by_mon_dow', 'ref_district', 'ref_jurisdiction'], axis=1)\n",
    "y = df_final.loc[:, ['listing_id', 'price_by_mon_dow']]"
   ]
  },
  {
   "cell_type": "markdown",
   "metadata": {
    "ExecuteTime": {
     "end_time": "2019-02-18T01:18:22.084154Z",
     "start_time": "2019-02-18T01:18:22.081097Z"
    }
   },
   "source": [
    "## Model Preprocessing"
   ]
  },
  {
   "cell_type": "markdown",
   "metadata": {
    "ExecuteTime": {
     "end_time": "2019-02-18T01:08:15.234738Z",
     "start_time": "2019-02-18T01:08:15.231675Z"
    }
   },
   "source": [
    "### Train and Test Sets Splits"
   ]
  },
  {
   "cell_type": "code",
   "execution_count": 43,
   "metadata": {
    "ExecuteTime": {
     "end_time": "2019-02-18T20:40:57.307800Z",
     "start_time": "2019-02-18T20:40:56.329090Z"
    }
   },
   "outputs": [],
   "source": [
    "# Stratified sampling to prevent information leakage\n",
    "# Identified all available listing_ids and split by listing_ids\n",
    "\n",
    "grp_by_listing_ids = df_final.groupby('listing_id').first().reset_index().listing_id\n",
    "listing_ids = list(grp_by_listing_ids)"
   ]
  },
  {
   "cell_type": "code",
   "execution_count": 44,
   "metadata": {
    "ExecuteTime": {
     "end_time": "2019-02-18T20:40:58.290505Z",
     "start_time": "2019-02-18T20:40:58.278458Z"
    }
   },
   "outputs": [
    {
     "name": "stdout",
     "output_type": "stream",
     "text": [
      "5814\n"
     ]
    },
    {
     "data": {
      "text/plain": [
       "array([17590102,  9196933, 12525362, ..., 11636621,  1740537, 16454916])"
      ]
     },
     "execution_count": 44,
     "metadata": {},
     "output_type": "execute_result"
    }
   ],
   "source": [
    "num_of_grps = len(grp_by_listing_ids)\n",
    "training_ids = np.random.choice(listing_ids, int(num_of_grps*0.7),\n",
    "                                replace=False)\n",
    "\n",
    "print(len(training_ids))\n",
    "training_ids"
   ]
  },
  {
   "cell_type": "code",
   "execution_count": 45,
   "metadata": {
    "ExecuteTime": {
     "end_time": "2019-02-18T20:40:59.295731Z",
     "start_time": "2019-02-18T20:40:59.285308Z"
    }
   },
   "outputs": [
    {
     "data": {
      "text/plain": [
       "2493"
      ]
     },
     "execution_count": 45,
     "metadata": {},
     "output_type": "execute_result"
    }
   ],
   "source": [
    "testing_ids = set(grp_by_listing_ids) - set (training_ids)\n",
    "\n",
    "len(testing_ids)"
   ]
  },
  {
   "cell_type": "code",
   "execution_count": 46,
   "metadata": {
    "ExecuteTime": {
     "end_time": "2019-02-18T20:41:00.799940Z",
     "start_time": "2019-02-18T20:41:00.309243Z"
    }
   },
   "outputs": [
    {
     "name": "stdout",
     "output_type": "stream",
     "text": [
      "284923 122575 284923 122575\n"
     ]
    }
   ],
   "source": [
    "# Stratified sampling: splited train and test sets. \n",
    "# Dropped 'listing_id' column\n",
    "\n",
    "X_train = X[X['listing_id'].isin(training_ids)].drop('listing_id', axis=1)\n",
    "X_test = X[X['listing_id'].isin(testing_ids)].drop('listing_id', axis=1)\n",
    "\n",
    "y_train = y[y['listing_id'].isin(training_ids)].drop('listing_id', axis=1).values.ravel()\n",
    "y_test = y[y['listing_id'].isin(testing_ids)].drop('listing_id', axis=1).values.ravel()\n",
    "\n",
    "print(len(X_train), len(X_test), len(y_train), len(y_test))"
   ]
  },
  {
   "cell_type": "markdown",
   "metadata": {
    "ExecuteTime": {
     "end_time": "2019-02-18T01:17:48.722476Z",
     "start_time": "2019-02-18T01:17:48.718285Z"
    }
   },
   "source": [
    "### Feature Normalization"
   ]
  },
  {
   "cell_type": "code",
   "execution_count": 47,
   "metadata": {
    "ExecuteTime": {
     "end_time": "2019-02-18T20:41:03.894166Z",
     "start_time": "2019-02-18T20:41:02.081904Z"
    }
   },
   "outputs": [],
   "source": [
    "ss = StandardScaler()\n",
    "X_train_trans = ss.fit_transform(X_train)\n",
    "X_test_trans = ss.transform (X_test)"
   ]
  },
  {
   "cell_type": "markdown",
   "metadata": {},
   "source": [
    "## Simple Linear Regression"
   ]
  },
  {
   "cell_type": "code",
   "execution_count": 48,
   "metadata": {
    "ExecuteTime": {
     "end_time": "2019-02-18T20:41:10.702306Z",
     "start_time": "2019-02-18T20:41:05.194789Z"
    }
   },
   "outputs": [
    {
     "data": {
      "text/html": [
       "<table class=\"simpletable\">\n",
       "<caption>OLS Regression Results</caption>\n",
       "<tr>\n",
       "  <th>Dep. Variable:</th>            <td>y</td>        <th>  R-squared:         </th>  <td>   0.663</td>  \n",
       "</tr>\n",
       "<tr>\n",
       "  <th>Model:</th>                   <td>OLS</td>       <th>  Adj. R-squared:    </th>  <td>   0.663</td>  \n",
       "</tr>\n",
       "<tr>\n",
       "  <th>Method:</th>             <td>Least Squares</td>  <th>  F-statistic:       </th>  <td>   4551.</td>  \n",
       "</tr>\n",
       "<tr>\n",
       "  <th>Date:</th>             <td>Mon, 18 Feb 2019</td> <th>  Prob (F-statistic):</th>   <td>  0.00</td>   \n",
       "</tr>\n",
       "<tr>\n",
       "  <th>Time:</th>                 <td>12:41:10</td>     <th>  Log-Likelihood:    </th> <td>-1.5352e+06</td>\n",
       "</tr>\n",
       "<tr>\n",
       "  <th>No. Observations:</th>      <td>284923</td>      <th>  AIC:               </th>  <td>3.071e+06</td> \n",
       "</tr>\n",
       "<tr>\n",
       "  <th>Df Residuals:</th>          <td>284799</td>      <th>  BIC:               </th>  <td>3.072e+06</td> \n",
       "</tr>\n",
       "<tr>\n",
       "  <th>Df Model:</th>              <td>   123</td>      <th>                     </th>      <td> </td>     \n",
       "</tr>\n",
       "<tr>\n",
       "  <th>Covariance Type:</th>      <td>nonrobust</td>    <th>                     </th>      <td> </td>     \n",
       "</tr>\n",
       "</table>\n",
       "<table class=\"simpletable\">\n",
       "<tr>\n",
       "    <td></td>       <th>coef</th>     <th>std err</th>      <th>t</th>      <th>P>|t|</th>  <th>[0.025</th>    <th>0.975]</th>  \n",
       "</tr>\n",
       "<tr>\n",
       "  <th>const</th> <td>  147.9623</td> <td>    0.099</td> <td> 1491.611</td> <td> 0.000</td> <td>  147.768</td> <td>  148.157</td>\n",
       "</tr>\n",
       "<tr>\n",
       "  <th>x1</th>    <td>-7.446e+10</td> <td> 1.67e+11</td> <td>   -0.446</td> <td> 0.656</td> <td>-4.02e+11</td> <td> 2.53e+11</td>\n",
       "</tr>\n",
       "<tr>\n",
       "  <th>x2</th>    <td>-8.534e+10</td> <td> 1.91e+11</td> <td>   -0.446</td> <td> 0.656</td> <td>-4.61e+11</td> <td>  2.9e+11</td>\n",
       "</tr>\n",
       "<tr>\n",
       "  <th>x3</th>    <td>-8.461e+10</td> <td>  1.9e+11</td> <td>   -0.446</td> <td> 0.656</td> <td>-4.57e+11</td> <td> 2.87e+11</td>\n",
       "</tr>\n",
       "<tr>\n",
       "  <th>x4</th>    <td>-8.116e+10</td> <td> 1.82e+11</td> <td>   -0.446</td> <td> 0.656</td> <td>-4.38e+11</td> <td> 2.76e+11</td>\n",
       "</tr>\n",
       "<tr>\n",
       "  <th>x5</th>    <td>-8.496e+10</td> <td> 1.91e+11</td> <td>   -0.446</td> <td> 0.656</td> <td>-4.59e+11</td> <td> 2.89e+11</td>\n",
       "</tr>\n",
       "<tr>\n",
       "  <th>x6</th>    <td>-7.166e+10</td> <td> 1.61e+11</td> <td>   -0.446</td> <td> 0.656</td> <td>-3.87e+11</td> <td> 2.43e+11</td>\n",
       "</tr>\n",
       "<tr>\n",
       "  <th>x7</th>    <td>-7.164e+10</td> <td> 1.61e+11</td> <td>   -0.446</td> <td> 0.656</td> <td>-3.87e+11</td> <td> 2.43e+11</td>\n",
       "</tr>\n",
       "<tr>\n",
       "  <th>x8</th>    <td> -7.45e+10</td> <td> 1.67e+11</td> <td>   -0.446</td> <td> 0.656</td> <td>-4.02e+11</td> <td> 2.53e+11</td>\n",
       "</tr>\n",
       "<tr>\n",
       "  <th>x9</th>    <td>-7.357e+10</td> <td> 1.65e+11</td> <td>   -0.446</td> <td> 0.656</td> <td>-3.97e+11</td> <td>  2.5e+11</td>\n",
       "</tr>\n",
       "<tr>\n",
       "  <th>x10</th>   <td>-8.878e+10</td> <td> 1.99e+11</td> <td>   -0.446</td> <td> 0.656</td> <td>-4.79e+11</td> <td> 3.02e+11</td>\n",
       "</tr>\n",
       "<tr>\n",
       "  <th>x11</th>   <td>-8.846e+10</td> <td> 1.98e+11</td> <td>   -0.446</td> <td> 0.656</td> <td>-4.77e+11</td> <td>    3e+11</td>\n",
       "</tr>\n",
       "<tr>\n",
       "  <th>x12</th>   <td>-8.428e+10</td> <td> 1.89e+11</td> <td>   -0.446</td> <td> 0.656</td> <td>-4.55e+11</td> <td> 2.86e+11</td>\n",
       "</tr>\n",
       "<tr>\n",
       "  <th>x13</th>   <td> 2.286e+11</td> <td> 1.44e+12</td> <td>    0.159</td> <td> 0.874</td> <td> -2.6e+12</td> <td> 3.05e+12</td>\n",
       "</tr>\n",
       "<tr>\n",
       "  <th>x14</th>   <td> 2.275e+11</td> <td> 1.43e+12</td> <td>    0.159</td> <td> 0.874</td> <td>-2.58e+12</td> <td> 3.04e+12</td>\n",
       "</tr>\n",
       "<tr>\n",
       "  <th>x15</th>   <td>  2.27e+11</td> <td> 1.43e+12</td> <td>    0.159</td> <td> 0.874</td> <td>-2.58e+12</td> <td> 3.03e+12</td>\n",
       "</tr>\n",
       "<tr>\n",
       "  <th>x16</th>   <td> 2.277e+11</td> <td> 1.44e+12</td> <td>    0.159</td> <td> 0.874</td> <td>-2.59e+12</td> <td> 3.04e+12</td>\n",
       "</tr>\n",
       "<tr>\n",
       "  <th>x17</th>   <td> 2.279e+11</td> <td> 1.44e+12</td> <td>    0.159</td> <td> 0.874</td> <td>-2.59e+12</td> <td> 3.05e+12</td>\n",
       "</tr>\n",
       "<tr>\n",
       "  <th>x18</th>   <td> 2.259e+11</td> <td> 1.42e+12</td> <td>    0.159</td> <td> 0.874</td> <td>-2.57e+12</td> <td> 3.02e+12</td>\n",
       "</tr>\n",
       "<tr>\n",
       "  <th>x19</th>   <td> 2.261e+11</td> <td> 1.43e+12</td> <td>    0.159</td> <td> 0.874</td> <td>-2.57e+12</td> <td> 3.02e+12</td>\n",
       "</tr>\n",
       "<tr>\n",
       "  <th>x20</th>   <td>   21.2841</td> <td>    0.175</td> <td>  121.335</td> <td> 0.000</td> <td>   20.940</td> <td>   21.628</td>\n",
       "</tr>\n",
       "<tr>\n",
       "  <th>x21</th>   <td>    8.4280</td> <td>    0.141</td> <td>   59.721</td> <td> 0.000</td> <td>    8.151</td> <td>    8.705</td>\n",
       "</tr>\n",
       "<tr>\n",
       "  <th>x22</th>   <td>   23.3773</td> <td>    0.161</td> <td>  144.760</td> <td> 0.000</td> <td>   23.061</td> <td>   23.694</td>\n",
       "</tr>\n",
       "<tr>\n",
       "  <th>x23</th>   <td>    9.0659</td> <td>    0.599</td> <td>   15.140</td> <td> 0.000</td> <td>    7.892</td> <td>   10.240</td>\n",
       "</tr>\n",
       "<tr>\n",
       "  <th>x24</th>   <td>   22.9003</td> <td>    0.222</td> <td>  103.345</td> <td> 0.000</td> <td>   22.466</td> <td>   23.335</td>\n",
       "</tr>\n",
       "<tr>\n",
       "  <th>x25</th>   <td>   -7.6070</td> <td>    0.446</td> <td>  -17.065</td> <td> 0.000</td> <td>   -8.481</td> <td>   -6.733</td>\n",
       "</tr>\n",
       "<tr>\n",
       "  <th>x26</th>   <td>   -3.7059</td> <td>    0.180</td> <td>  -20.553</td> <td> 0.000</td> <td>   -4.059</td> <td>   -3.353</td>\n",
       "</tr>\n",
       "<tr>\n",
       "  <th>x27</th>   <td>    3.4365</td> <td>    0.119</td> <td>   28.932</td> <td> 0.000</td> <td>    3.204</td> <td>    3.669</td>\n",
       "</tr>\n",
       "<tr>\n",
       "  <th>x28</th>   <td>    5.4829</td> <td>    0.155</td> <td>   35.289</td> <td> 0.000</td> <td>    5.178</td> <td>    5.787</td>\n",
       "</tr>\n",
       "<tr>\n",
       "  <th>x29</th>   <td>   -3.0022</td> <td>    0.187</td> <td>  -16.040</td> <td> 0.000</td> <td>   -3.369</td> <td>   -2.635</td>\n",
       "</tr>\n",
       "<tr>\n",
       "  <th>x30</th>   <td>    0.2740</td> <td>    0.131</td> <td>    2.087</td> <td> 0.037</td> <td>    0.017</td> <td>    0.531</td>\n",
       "</tr>\n",
       "<tr>\n",
       "  <th>x31</th>   <td>    4.8926</td> <td>    0.224</td> <td>   21.890</td> <td> 0.000</td> <td>    4.454</td> <td>    5.331</td>\n",
       "</tr>\n",
       "<tr>\n",
       "  <th>x32</th>   <td>    2.9824</td> <td>    0.136</td> <td>   21.898</td> <td> 0.000</td> <td>    2.715</td> <td>    3.249</td>\n",
       "</tr>\n",
       "<tr>\n",
       "  <th>x33</th>   <td>    5.2002</td> <td>    0.133</td> <td>   39.124</td> <td> 0.000</td> <td>    4.940</td> <td>    5.461</td>\n",
       "</tr>\n",
       "<tr>\n",
       "  <th>x34</th>   <td>  -11.2602</td> <td>    0.157</td> <td>  -71.638</td> <td> 0.000</td> <td>  -11.568</td> <td>  -10.952</td>\n",
       "</tr>\n",
       "<tr>\n",
       "  <th>x35</th>   <td>   -0.5198</td> <td>    0.174</td> <td>   -2.982</td> <td> 0.003</td> <td>   -0.861</td> <td>   -0.178</td>\n",
       "</tr>\n",
       "<tr>\n",
       "  <th>x36</th>   <td>   -2.2620</td> <td>    0.185</td> <td>  -12.251</td> <td> 0.000</td> <td>   -2.624</td> <td>   -1.900</td>\n",
       "</tr>\n",
       "<tr>\n",
       "  <th>x37</th>   <td>    2.7792</td> <td>    0.108</td> <td>   25.739</td> <td> 0.000</td> <td>    2.568</td> <td>    2.991</td>\n",
       "</tr>\n",
       "<tr>\n",
       "  <th>x38</th>   <td>   -0.9498</td> <td>    0.189</td> <td>   -5.018</td> <td> 0.000</td> <td>   -1.321</td> <td>   -0.579</td>\n",
       "</tr>\n",
       "<tr>\n",
       "  <th>x39</th>   <td>    7.6364</td> <td>    0.129</td> <td>   59.112</td> <td> 0.000</td> <td>    7.383</td> <td>    7.890</td>\n",
       "</tr>\n",
       "<tr>\n",
       "  <th>x40</th>   <td>    4.9339</td> <td>    0.118</td> <td>   41.813</td> <td> 0.000</td> <td>    4.703</td> <td>    5.165</td>\n",
       "</tr>\n",
       "<tr>\n",
       "  <th>x41</th>   <td>    9.5361</td> <td>    0.120</td> <td>   79.756</td> <td> 0.000</td> <td>    9.302</td> <td>    9.770</td>\n",
       "</tr>\n",
       "<tr>\n",
       "  <th>x42</th>   <td>    5.6603</td> <td>    0.160</td> <td>   35.281</td> <td> 0.000</td> <td>    5.346</td> <td>    5.975</td>\n",
       "</tr>\n",
       "<tr>\n",
       "  <th>x43</th>   <td>   -7.1106</td> <td>    0.170</td> <td>  -41.716</td> <td> 0.000</td> <td>   -7.445</td> <td>   -6.777</td>\n",
       "</tr>\n",
       "<tr>\n",
       "  <th>x44</th>   <td>   -0.0218</td> <td>    0.120</td> <td>   -0.181</td> <td> 0.856</td> <td>   -0.258</td> <td>    0.214</td>\n",
       "</tr>\n",
       "<tr>\n",
       "  <th>x45</th>   <td>    5.1985</td> <td>    0.130</td> <td>   39.856</td> <td> 0.000</td> <td>    4.943</td> <td>    5.454</td>\n",
       "</tr>\n",
       "<tr>\n",
       "  <th>x46</th>   <td>    0.6860</td> <td>    0.127</td> <td>    5.390</td> <td> 0.000</td> <td>    0.437</td> <td>    0.935</td>\n",
       "</tr>\n",
       "<tr>\n",
       "  <th>x47</th>   <td>    2.2799</td> <td>    0.108</td> <td>   21.088</td> <td> 0.000</td> <td>    2.068</td> <td>    2.492</td>\n",
       "</tr>\n",
       "<tr>\n",
       "  <th>x48</th>   <td>   -4.1588</td> <td>    0.118</td> <td>  -35.114</td> <td> 0.000</td> <td>   -4.391</td> <td>   -3.927</td>\n",
       "</tr>\n",
       "<tr>\n",
       "  <th>x49</th>   <td>    5.5244</td> <td>    0.107</td> <td>   51.691</td> <td> 0.000</td> <td>    5.315</td> <td>    5.734</td>\n",
       "</tr>\n",
       "<tr>\n",
       "  <th>x50</th>   <td>    3.4760</td> <td>    0.151</td> <td>   22.949</td> <td> 0.000</td> <td>    3.179</td> <td>    3.773</td>\n",
       "</tr>\n",
       "<tr>\n",
       "  <th>x51</th>   <td>   -0.3479</td> <td>    0.127</td> <td>   -2.731</td> <td> 0.006</td> <td>   -0.598</td> <td>   -0.098</td>\n",
       "</tr>\n",
       "<tr>\n",
       "  <th>x52</th>   <td>    1.4980</td> <td>    0.123</td> <td>   12.158</td> <td> 0.000</td> <td>    1.257</td> <td>    1.739</td>\n",
       "</tr>\n",
       "<tr>\n",
       "  <th>x53</th>   <td>    0.8441</td> <td>    0.171</td> <td>    4.937</td> <td> 0.000</td> <td>    0.509</td> <td>    1.179</td>\n",
       "</tr>\n",
       "<tr>\n",
       "  <th>x54</th>   <td>    1.0464</td> <td>    0.127</td> <td>    8.210</td> <td> 0.000</td> <td>    0.797</td> <td>    1.296</td>\n",
       "</tr>\n",
       "<tr>\n",
       "  <th>x55</th>   <td>   -2.2372</td> <td>    0.160</td> <td>  -14.020</td> <td> 0.000</td> <td>   -2.550</td> <td>   -1.924</td>\n",
       "</tr>\n",
       "<tr>\n",
       "  <th>x56</th>   <td>    1.6106</td> <td>    0.123</td> <td>   13.125</td> <td> 0.000</td> <td>    1.370</td> <td>    1.851</td>\n",
       "</tr>\n",
       "<tr>\n",
       "  <th>x57</th>   <td>    0.0615</td> <td>    0.116</td> <td>    0.528</td> <td> 0.597</td> <td>   -0.167</td> <td>    0.290</td>\n",
       "</tr>\n",
       "<tr>\n",
       "  <th>x58</th>   <td>   -1.2771</td> <td>    0.115</td> <td>  -11.134</td> <td> 0.000</td> <td>   -1.502</td> <td>   -1.052</td>\n",
       "</tr>\n",
       "<tr>\n",
       "  <th>x59</th>   <td>    1.7345</td> <td>    0.128</td> <td>   13.505</td> <td> 0.000</td> <td>    1.483</td> <td>    1.986</td>\n",
       "</tr>\n",
       "<tr>\n",
       "  <th>x60</th>   <td>   -2.6044</td> <td>    0.130</td> <td>  -19.976</td> <td> 0.000</td> <td>   -2.860</td> <td>   -2.349</td>\n",
       "</tr>\n",
       "<tr>\n",
       "  <th>x61</th>   <td>    0.5816</td> <td>    0.106</td> <td>    5.503</td> <td> 0.000</td> <td>    0.374</td> <td>    0.789</td>\n",
       "</tr>\n",
       "<tr>\n",
       "  <th>x62</th>   <td>    1.0899</td> <td>    0.114</td> <td>    9.568</td> <td> 0.000</td> <td>    0.867</td> <td>    1.313</td>\n",
       "</tr>\n",
       "<tr>\n",
       "  <th>x63</th>   <td>    0.6719</td> <td>    0.136</td> <td>    4.943</td> <td> 0.000</td> <td>    0.406</td> <td>    0.938</td>\n",
       "</tr>\n",
       "<tr>\n",
       "  <th>x64</th>   <td>   -1.8506</td> <td>    0.152</td> <td>  -12.165</td> <td> 0.000</td> <td>   -2.149</td> <td>   -1.552</td>\n",
       "</tr>\n",
       "<tr>\n",
       "  <th>x65</th>   <td>  -17.8829</td> <td>    0.494</td> <td>  -36.228</td> <td> 0.000</td> <td>  -18.850</td> <td>  -16.915</td>\n",
       "</tr>\n",
       "<tr>\n",
       "  <th>x66</th>   <td>    2.8408</td> <td>    0.181</td> <td>   15.657</td> <td> 0.000</td> <td>    2.485</td> <td>    3.196</td>\n",
       "</tr>\n",
       "<tr>\n",
       "  <th>x67</th>   <td>   -2.0090</td> <td>    0.168</td> <td>  -11.925</td> <td> 0.000</td> <td>   -2.339</td> <td>   -1.679</td>\n",
       "</tr>\n",
       "<tr>\n",
       "  <th>x68</th>   <td>    5.5745</td> <td>    0.103</td> <td>   54.163</td> <td> 0.000</td> <td>    5.373</td> <td>    5.776</td>\n",
       "</tr>\n",
       "<tr>\n",
       "  <th>x69</th>   <td>    5.5513</td> <td>    0.109</td> <td>   51.117</td> <td> 0.000</td> <td>    5.338</td> <td>    5.764</td>\n",
       "</tr>\n",
       "<tr>\n",
       "  <th>x70</th>   <td>   -1.5631</td> <td>    0.122</td> <td>  -12.770</td> <td> 0.000</td> <td>   -1.803</td> <td>   -1.323</td>\n",
       "</tr>\n",
       "<tr>\n",
       "  <th>x71</th>   <td>   -1.7273</td> <td>    0.119</td> <td>  -14.547</td> <td> 0.000</td> <td>   -1.960</td> <td>   -1.495</td>\n",
       "</tr>\n",
       "<tr>\n",
       "  <th>x72</th>   <td>    2.5839</td> <td>    0.113</td> <td>   22.796</td> <td> 0.000</td> <td>    2.362</td> <td>    2.806</td>\n",
       "</tr>\n",
       "<tr>\n",
       "  <th>x73</th>   <td>    2.3365</td> <td>    0.199</td> <td>   11.714</td> <td> 0.000</td> <td>    1.946</td> <td>    2.727</td>\n",
       "</tr>\n",
       "<tr>\n",
       "  <th>x74</th>   <td>    3.3049</td> <td>    0.106</td> <td>   31.034</td> <td> 0.000</td> <td>    3.096</td> <td>    3.514</td>\n",
       "</tr>\n",
       "<tr>\n",
       "  <th>x75</th>   <td>    2.4487</td> <td>    0.104</td> <td>   23.633</td> <td> 0.000</td> <td>    2.246</td> <td>    2.652</td>\n",
       "</tr>\n",
       "<tr>\n",
       "  <th>x76</th>   <td>    0.8144</td> <td>    0.171</td> <td>    4.752</td> <td> 0.000</td> <td>    0.479</td> <td>    1.150</td>\n",
       "</tr>\n",
       "<tr>\n",
       "  <th>x77</th>   <td>    8.2235</td> <td>    0.796</td> <td>   10.333</td> <td> 0.000</td> <td>    6.664</td> <td>    9.783</td>\n",
       "</tr>\n",
       "<tr>\n",
       "  <th>x78</th>   <td>  -19.0331</td> <td>    0.493</td> <td>  -38.635</td> <td> 0.000</td> <td>  -19.999</td> <td>  -18.068</td>\n",
       "</tr>\n",
       "<tr>\n",
       "  <th>x79</th>   <td>    2.0526</td> <td>    0.117</td> <td>   17.482</td> <td> 0.000</td> <td>    1.822</td> <td>    2.283</td>\n",
       "</tr>\n",
       "<tr>\n",
       "  <th>x80</th>   <td>   -3.7276</td> <td>    0.120</td> <td>  -31.190</td> <td> 0.000</td> <td>   -3.962</td> <td>   -3.493</td>\n",
       "</tr>\n",
       "<tr>\n",
       "  <th>x81</th>   <td>    0.1931</td> <td>    0.112</td> <td>    1.720</td> <td> 0.085</td> <td>   -0.027</td> <td>    0.413</td>\n",
       "</tr>\n",
       "<tr>\n",
       "  <th>x82</th>   <td>    0.3101</td> <td>    0.121</td> <td>    2.563</td> <td> 0.010</td> <td>    0.073</td> <td>    0.547</td>\n",
       "</tr>\n",
       "<tr>\n",
       "  <th>x83</th>   <td>   -0.3742</td> <td>    0.115</td> <td>   -3.251</td> <td> 0.001</td> <td>   -0.600</td> <td>   -0.149</td>\n",
       "</tr>\n",
       "<tr>\n",
       "  <th>x84</th>   <td>    1.5925</td> <td>    0.102</td> <td>   15.627</td> <td> 0.000</td> <td>    1.393</td> <td>    1.792</td>\n",
       "</tr>\n",
       "<tr>\n",
       "  <th>x85</th>   <td>   -6.1077</td> <td>    0.588</td> <td>  -10.388</td> <td> 0.000</td> <td>   -7.260</td> <td>   -4.955</td>\n",
       "</tr>\n",
       "<tr>\n",
       "  <th>x86</th>   <td>   -2.4554</td> <td>    0.141</td> <td>  -17.383</td> <td> 0.000</td> <td>   -2.732</td> <td>   -2.179</td>\n",
       "</tr>\n",
       "<tr>\n",
       "  <th>x87</th>   <td>    2.3354</td> <td>    0.122</td> <td>   19.202</td> <td> 0.000</td> <td>    2.097</td> <td>    2.574</td>\n",
       "</tr>\n",
       "<tr>\n",
       "  <th>x88</th>   <td>    3.7578</td> <td>    0.689</td> <td>    5.454</td> <td> 0.000</td> <td>    2.407</td> <td>    5.108</td>\n",
       "</tr>\n",
       "<tr>\n",
       "  <th>x89</th>   <td>   -2.8817</td> <td>    0.107</td> <td>  -26.810</td> <td> 0.000</td> <td>   -3.092</td> <td>   -2.671</td>\n",
       "</tr>\n",
       "<tr>\n",
       "  <th>x90</th>   <td>   -1.3307</td> <td>    0.114</td> <td>  -11.652</td> <td> 0.000</td> <td>   -1.555</td> <td>   -1.107</td>\n",
       "</tr>\n",
       "<tr>\n",
       "  <th>x91</th>   <td>    5.9382</td> <td>    0.121</td> <td>   48.881</td> <td> 0.000</td> <td>    5.700</td> <td>    6.176</td>\n",
       "</tr>\n",
       "<tr>\n",
       "  <th>x92</th>   <td>    2.0557</td> <td>    0.107</td> <td>   19.189</td> <td> 0.000</td> <td>    1.846</td> <td>    2.266</td>\n",
       "</tr>\n",
       "<tr>\n",
       "  <th>x93</th>   <td>    1.9763</td> <td>    0.485</td> <td>    4.079</td> <td> 0.000</td> <td>    1.027</td> <td>    2.926</td>\n",
       "</tr>\n",
       "<tr>\n",
       "  <th>x94</th>   <td>    4.6756</td> <td>    0.105</td> <td>   44.387</td> <td> 0.000</td> <td>    4.469</td> <td>    4.882</td>\n",
       "</tr>\n",
       "<tr>\n",
       "  <th>x95</th>   <td>   -0.5927</td> <td>    0.116</td> <td>   -5.100</td> <td> 0.000</td> <td>   -0.820</td> <td>   -0.365</td>\n",
       "</tr>\n",
       "<tr>\n",
       "  <th>x96</th>   <td>   -2.5609</td> <td>    0.160</td> <td>  -16.016</td> <td> 0.000</td> <td>   -2.874</td> <td>   -2.248</td>\n",
       "</tr>\n",
       "<tr>\n",
       "  <th>x97</th>   <td>    6.0510</td> <td>    0.113</td> <td>   53.438</td> <td> 0.000</td> <td>    5.829</td> <td>    6.273</td>\n",
       "</tr>\n",
       "<tr>\n",
       "  <th>x98</th>   <td>  -14.5257</td> <td>    0.390</td> <td>  -37.232</td> <td> 0.000</td> <td>  -15.290</td> <td>  -13.761</td>\n",
       "</tr>\n",
       "<tr>\n",
       "  <th>x99</th>   <td>    4.4339</td> <td>    0.112</td> <td>   39.446</td> <td> 0.000</td> <td>    4.214</td> <td>    4.654</td>\n",
       "</tr>\n",
       "<tr>\n",
       "  <th>x100</th>  <td>    3.3406</td> <td>    0.199</td> <td>   16.753</td> <td> 0.000</td> <td>    2.950</td> <td>    3.731</td>\n",
       "</tr>\n",
       "<tr>\n",
       "  <th>x101</th>  <td>    2.3972</td> <td>    0.107</td> <td>   22.453</td> <td> 0.000</td> <td>    2.188</td> <td>    2.606</td>\n",
       "</tr>\n",
       "<tr>\n",
       "  <th>x102</th>  <td>   -0.7840</td> <td>    0.165</td> <td>   -4.756</td> <td> 0.000</td> <td>   -1.107</td> <td>   -0.461</td>\n",
       "</tr>\n",
       "<tr>\n",
       "  <th>x103</th>  <td>   -1.0934</td> <td>    0.141</td> <td>   -7.734</td> <td> 0.000</td> <td>   -1.370</td> <td>   -0.816</td>\n",
       "</tr>\n",
       "<tr>\n",
       "  <th>x104</th>  <td>   -1.6126</td> <td>    0.119</td> <td>  -13.589</td> <td> 0.000</td> <td>   -1.845</td> <td>   -1.380</td>\n",
       "</tr>\n",
       "<tr>\n",
       "  <th>x105</th>  <td>   -1.4490</td> <td>    0.184</td> <td>   -7.858</td> <td> 0.000</td> <td>   -1.810</td> <td>   -1.088</td>\n",
       "</tr>\n",
       "<tr>\n",
       "  <th>x106</th>  <td>   -2.7866</td> <td>    0.155</td> <td>  -17.969</td> <td> 0.000</td> <td>   -3.091</td> <td>   -2.483</td>\n",
       "</tr>\n",
       "<tr>\n",
       "  <th>x107</th>  <td>    1.0764</td> <td>    0.126</td> <td>    8.526</td> <td> 0.000</td> <td>    0.829</td> <td>    1.324</td>\n",
       "</tr>\n",
       "<tr>\n",
       "  <th>x108</th>  <td>    2.3370</td> <td>    0.129</td> <td>   18.054</td> <td> 0.000</td> <td>    2.083</td> <td>    2.591</td>\n",
       "</tr>\n",
       "<tr>\n",
       "  <th>x109</th>  <td>    0.0240</td> <td>    0.136</td> <td>    0.177</td> <td> 0.859</td> <td>   -0.242</td> <td>    0.290</td>\n",
       "</tr>\n",
       "<tr>\n",
       "  <th>x110</th>  <td>   -0.7939</td> <td>    0.174</td> <td>   -4.563</td> <td> 0.000</td> <td>   -1.135</td> <td>   -0.453</td>\n",
       "</tr>\n",
       "<tr>\n",
       "  <th>x111</th>  <td>   -0.5873</td> <td>    0.121</td> <td>   -4.857</td> <td> 0.000</td> <td>   -0.824</td> <td>   -0.350</td>\n",
       "</tr>\n",
       "<tr>\n",
       "  <th>x112</th>  <td>    0.1170</td> <td>    0.137</td> <td>    0.856</td> <td> 0.392</td> <td>   -0.151</td> <td>    0.385</td>\n",
       "</tr>\n",
       "<tr>\n",
       "  <th>x113</th>  <td>   -0.4259</td> <td>    0.141</td> <td>   -3.017</td> <td> 0.003</td> <td>   -0.703</td> <td>   -0.149</td>\n",
       "</tr>\n",
       "<tr>\n",
       "  <th>x114</th>  <td>    1.1253</td> <td>    0.104</td> <td>   10.771</td> <td> 0.000</td> <td>    0.921</td> <td>    1.330</td>\n",
       "</tr>\n",
       "<tr>\n",
       "  <th>x115</th>  <td>   -1.6422</td> <td>    0.142</td> <td>  -11.533</td> <td> 0.000</td> <td>   -1.921</td> <td>   -1.363</td>\n",
       "</tr>\n",
       "<tr>\n",
       "  <th>x116</th>  <td>   -0.9409</td> <td>    0.121</td> <td>   -7.766</td> <td> 0.000</td> <td>   -1.178</td> <td>   -0.703</td>\n",
       "</tr>\n",
       "<tr>\n",
       "  <th>x117</th>  <td>   -0.4700</td> <td>    0.107</td> <td>   -4.376</td> <td> 0.000</td> <td>   -0.680</td> <td>   -0.259</td>\n",
       "</tr>\n",
       "<tr>\n",
       "  <th>x118</th>  <td>    0.9890</td> <td>    0.104</td> <td>    9.478</td> <td> 0.000</td> <td>    0.785</td> <td>    1.194</td>\n",
       "</tr>\n",
       "<tr>\n",
       "  <th>x119</th>  <td>   -5.0492</td> <td>    0.110</td> <td>  -45.757</td> <td> 0.000</td> <td>   -5.265</td> <td>   -4.833</td>\n",
       "</tr>\n",
       "<tr>\n",
       "  <th>x120</th>  <td>    3.5349</td> <td>    0.201</td> <td>   17.594</td> <td> 0.000</td> <td>    3.141</td> <td>    3.929</td>\n",
       "</tr>\n",
       "<tr>\n",
       "  <th>x121</th>  <td>    3.9143</td> <td>    0.104</td> <td>   37.761</td> <td> 0.000</td> <td>    3.711</td> <td>    4.117</td>\n",
       "</tr>\n",
       "<tr>\n",
       "  <th>x122</th>  <td>   -1.5842</td> <td>    0.106</td> <td>  -14.966</td> <td> 0.000</td> <td>   -1.792</td> <td>   -1.377</td>\n",
       "</tr>\n",
       "<tr>\n",
       "  <th>x123</th>  <td>    0.2797</td> <td>    0.114</td> <td>    2.455</td> <td> 0.014</td> <td>    0.056</td> <td>    0.503</td>\n",
       "</tr>\n",
       "<tr>\n",
       "  <th>x124</th>  <td>   -5.8162</td> <td>    0.206</td> <td>  -28.182</td> <td> 0.000</td> <td>   -6.221</td> <td>   -5.412</td>\n",
       "</tr>\n",
       "</table>\n",
       "<table class=\"simpletable\">\n",
       "<tr>\n",
       "  <th>Omnibus:</th>       <td>80772.263</td> <th>  Durbin-Watson:     </th>  <td>   0.099</td> \n",
       "</tr>\n",
       "<tr>\n",
       "  <th>Prob(Omnibus):</th>  <td> 0.000</td>   <th>  Jarque-Bera (JB):  </th> <td>355424.222</td>\n",
       "</tr>\n",
       "<tr>\n",
       "  <th>Skew:</th>           <td> 1.331</td>   <th>  Prob(JB):          </th>  <td>    0.00</td> \n",
       "</tr>\n",
       "<tr>\n",
       "  <th>Kurtosis:</th>       <td> 7.780</td>   <th>  Cond. No.          </th>  <td>1.13e+14</td> \n",
       "</tr>\n",
       "</table><br/><br/>Warnings:<br/>[1] Standard Errors assume that the covariance matrix of the errors is correctly specified.<br/>[2] The smallest eigenvalue is 1.95e-22. This might indicate that there are<br/>strong multicollinearity problems or that the design matrix is singular."
      ],
      "text/plain": [
       "<class 'statsmodels.iolib.summary.Summary'>\n",
       "\"\"\"\n",
       "                            OLS Regression Results                            \n",
       "==============================================================================\n",
       "Dep. Variable:                      y   R-squared:                       0.663\n",
       "Model:                            OLS   Adj. R-squared:                  0.663\n",
       "Method:                 Least Squares   F-statistic:                     4551.\n",
       "Date:                Mon, 18 Feb 2019   Prob (F-statistic):               0.00\n",
       "Time:                        12:41:10   Log-Likelihood:            -1.5352e+06\n",
       "No. Observations:              284923   AIC:                         3.071e+06\n",
       "Df Residuals:                  284799   BIC:                         3.072e+06\n",
       "Df Model:                         123                                         \n",
       "Covariance Type:            nonrobust                                         \n",
       "==============================================================================\n",
       "                 coef    std err          t      P>|t|      [0.025      0.975]\n",
       "------------------------------------------------------------------------------\n",
       "const        147.9623      0.099   1491.611      0.000     147.768     148.157\n",
       "x1         -7.446e+10   1.67e+11     -0.446      0.656   -4.02e+11    2.53e+11\n",
       "x2         -8.534e+10   1.91e+11     -0.446      0.656   -4.61e+11     2.9e+11\n",
       "x3         -8.461e+10    1.9e+11     -0.446      0.656   -4.57e+11    2.87e+11\n",
       "x4         -8.116e+10   1.82e+11     -0.446      0.656   -4.38e+11    2.76e+11\n",
       "x5         -8.496e+10   1.91e+11     -0.446      0.656   -4.59e+11    2.89e+11\n",
       "x6         -7.166e+10   1.61e+11     -0.446      0.656   -3.87e+11    2.43e+11\n",
       "x7         -7.164e+10   1.61e+11     -0.446      0.656   -3.87e+11    2.43e+11\n",
       "x8          -7.45e+10   1.67e+11     -0.446      0.656   -4.02e+11    2.53e+11\n",
       "x9         -7.357e+10   1.65e+11     -0.446      0.656   -3.97e+11     2.5e+11\n",
       "x10        -8.878e+10   1.99e+11     -0.446      0.656   -4.79e+11    3.02e+11\n",
       "x11        -8.846e+10   1.98e+11     -0.446      0.656   -4.77e+11       3e+11\n",
       "x12        -8.428e+10   1.89e+11     -0.446      0.656   -4.55e+11    2.86e+11\n",
       "x13         2.286e+11   1.44e+12      0.159      0.874    -2.6e+12    3.05e+12\n",
       "x14         2.275e+11   1.43e+12      0.159      0.874   -2.58e+12    3.04e+12\n",
       "x15          2.27e+11   1.43e+12      0.159      0.874   -2.58e+12    3.03e+12\n",
       "x16         2.277e+11   1.44e+12      0.159      0.874   -2.59e+12    3.04e+12\n",
       "x17         2.279e+11   1.44e+12      0.159      0.874   -2.59e+12    3.05e+12\n",
       "x18         2.259e+11   1.42e+12      0.159      0.874   -2.57e+12    3.02e+12\n",
       "x19         2.261e+11   1.43e+12      0.159      0.874   -2.57e+12    3.02e+12\n",
       "x20           21.2841      0.175    121.335      0.000      20.940      21.628\n",
       "x21            8.4280      0.141     59.721      0.000       8.151       8.705\n",
       "x22           23.3773      0.161    144.760      0.000      23.061      23.694\n",
       "x23            9.0659      0.599     15.140      0.000       7.892      10.240\n",
       "x24           22.9003      0.222    103.345      0.000      22.466      23.335\n",
       "x25           -7.6070      0.446    -17.065      0.000      -8.481      -6.733\n",
       "x26           -3.7059      0.180    -20.553      0.000      -4.059      -3.353\n",
       "x27            3.4365      0.119     28.932      0.000       3.204       3.669\n",
       "x28            5.4829      0.155     35.289      0.000       5.178       5.787\n",
       "x29           -3.0022      0.187    -16.040      0.000      -3.369      -2.635\n",
       "x30            0.2740      0.131      2.087      0.037       0.017       0.531\n",
       "x31            4.8926      0.224     21.890      0.000       4.454       5.331\n",
       "x32            2.9824      0.136     21.898      0.000       2.715       3.249\n",
       "x33            5.2002      0.133     39.124      0.000       4.940       5.461\n",
       "x34          -11.2602      0.157    -71.638      0.000     -11.568     -10.952\n",
       "x35           -0.5198      0.174     -2.982      0.003      -0.861      -0.178\n",
       "x36           -2.2620      0.185    -12.251      0.000      -2.624      -1.900\n",
       "x37            2.7792      0.108     25.739      0.000       2.568       2.991\n",
       "x38           -0.9498      0.189     -5.018      0.000      -1.321      -0.579\n",
       "x39            7.6364      0.129     59.112      0.000       7.383       7.890\n",
       "x40            4.9339      0.118     41.813      0.000       4.703       5.165\n",
       "x41            9.5361      0.120     79.756      0.000       9.302       9.770\n",
       "x42            5.6603      0.160     35.281      0.000       5.346       5.975\n",
       "x43           -7.1106      0.170    -41.716      0.000      -7.445      -6.777\n",
       "x44           -0.0218      0.120     -0.181      0.856      -0.258       0.214\n",
       "x45            5.1985      0.130     39.856      0.000       4.943       5.454\n",
       "x46            0.6860      0.127      5.390      0.000       0.437       0.935\n",
       "x47            2.2799      0.108     21.088      0.000       2.068       2.492\n",
       "x48           -4.1588      0.118    -35.114      0.000      -4.391      -3.927\n",
       "x49            5.5244      0.107     51.691      0.000       5.315       5.734\n",
       "x50            3.4760      0.151     22.949      0.000       3.179       3.773\n",
       "x51           -0.3479      0.127     -2.731      0.006      -0.598      -0.098\n",
       "x52            1.4980      0.123     12.158      0.000       1.257       1.739\n",
       "x53            0.8441      0.171      4.937      0.000       0.509       1.179\n",
       "x54            1.0464      0.127      8.210      0.000       0.797       1.296\n",
       "x55           -2.2372      0.160    -14.020      0.000      -2.550      -1.924\n",
       "x56            1.6106      0.123     13.125      0.000       1.370       1.851\n",
       "x57            0.0615      0.116      0.528      0.597      -0.167       0.290\n",
       "x58           -1.2771      0.115    -11.134      0.000      -1.502      -1.052\n",
       "x59            1.7345      0.128     13.505      0.000       1.483       1.986\n",
       "x60           -2.6044      0.130    -19.976      0.000      -2.860      -2.349\n",
       "x61            0.5816      0.106      5.503      0.000       0.374       0.789\n",
       "x62            1.0899      0.114      9.568      0.000       0.867       1.313\n",
       "x63            0.6719      0.136      4.943      0.000       0.406       0.938\n",
       "x64           -1.8506      0.152    -12.165      0.000      -2.149      -1.552\n",
       "x65          -17.8829      0.494    -36.228      0.000     -18.850     -16.915\n",
       "x66            2.8408      0.181     15.657      0.000       2.485       3.196\n",
       "x67           -2.0090      0.168    -11.925      0.000      -2.339      -1.679\n",
       "x68            5.5745      0.103     54.163      0.000       5.373       5.776\n",
       "x69            5.5513      0.109     51.117      0.000       5.338       5.764\n",
       "x70           -1.5631      0.122    -12.770      0.000      -1.803      -1.323\n",
       "x71           -1.7273      0.119    -14.547      0.000      -1.960      -1.495\n",
       "x72            2.5839      0.113     22.796      0.000       2.362       2.806\n",
       "x73            2.3365      0.199     11.714      0.000       1.946       2.727\n",
       "x74            3.3049      0.106     31.034      0.000       3.096       3.514\n",
       "x75            2.4487      0.104     23.633      0.000       2.246       2.652\n",
       "x76            0.8144      0.171      4.752      0.000       0.479       1.150\n",
       "x77            8.2235      0.796     10.333      0.000       6.664       9.783\n",
       "x78          -19.0331      0.493    -38.635      0.000     -19.999     -18.068\n",
       "x79            2.0526      0.117     17.482      0.000       1.822       2.283\n",
       "x80           -3.7276      0.120    -31.190      0.000      -3.962      -3.493\n",
       "x81            0.1931      0.112      1.720      0.085      -0.027       0.413\n",
       "x82            0.3101      0.121      2.563      0.010       0.073       0.547\n",
       "x83           -0.3742      0.115     -3.251      0.001      -0.600      -0.149\n",
       "x84            1.5925      0.102     15.627      0.000       1.393       1.792\n",
       "x85           -6.1077      0.588    -10.388      0.000      -7.260      -4.955\n",
       "x86           -2.4554      0.141    -17.383      0.000      -2.732      -2.179\n",
       "x87            2.3354      0.122     19.202      0.000       2.097       2.574\n",
       "x88            3.7578      0.689      5.454      0.000       2.407       5.108\n",
       "x89           -2.8817      0.107    -26.810      0.000      -3.092      -2.671\n",
       "x90           -1.3307      0.114    -11.652      0.000      -1.555      -1.107\n",
       "x91            5.9382      0.121     48.881      0.000       5.700       6.176\n",
       "x92            2.0557      0.107     19.189      0.000       1.846       2.266\n",
       "x93            1.9763      0.485      4.079      0.000       1.027       2.926\n",
       "x94            4.6756      0.105     44.387      0.000       4.469       4.882\n",
       "x95           -0.5927      0.116     -5.100      0.000      -0.820      -0.365\n",
       "x96           -2.5609      0.160    -16.016      0.000      -2.874      -2.248\n",
       "x97            6.0510      0.113     53.438      0.000       5.829       6.273\n",
       "x98          -14.5257      0.390    -37.232      0.000     -15.290     -13.761\n",
       "x99            4.4339      0.112     39.446      0.000       4.214       4.654\n",
       "x100           3.3406      0.199     16.753      0.000       2.950       3.731\n",
       "x101           2.3972      0.107     22.453      0.000       2.188       2.606\n",
       "x102          -0.7840      0.165     -4.756      0.000      -1.107      -0.461\n",
       "x103          -1.0934      0.141     -7.734      0.000      -1.370      -0.816\n",
       "x104          -1.6126      0.119    -13.589      0.000      -1.845      -1.380\n",
       "x105          -1.4490      0.184     -7.858      0.000      -1.810      -1.088\n",
       "x106          -2.7866      0.155    -17.969      0.000      -3.091      -2.483\n",
       "x107           1.0764      0.126      8.526      0.000       0.829       1.324\n",
       "x108           2.3370      0.129     18.054      0.000       2.083       2.591\n",
       "x109           0.0240      0.136      0.177      0.859      -0.242       0.290\n",
       "x110          -0.7939      0.174     -4.563      0.000      -1.135      -0.453\n",
       "x111          -0.5873      0.121     -4.857      0.000      -0.824      -0.350\n",
       "x112           0.1170      0.137      0.856      0.392      -0.151       0.385\n",
       "x113          -0.4259      0.141     -3.017      0.003      -0.703      -0.149\n",
       "x114           1.1253      0.104     10.771      0.000       0.921       1.330\n",
       "x115          -1.6422      0.142    -11.533      0.000      -1.921      -1.363\n",
       "x116          -0.9409      0.121     -7.766      0.000      -1.178      -0.703\n",
       "x117          -0.4700      0.107     -4.376      0.000      -0.680      -0.259\n",
       "x118           0.9890      0.104      9.478      0.000       0.785       1.194\n",
       "x119          -5.0492      0.110    -45.757      0.000      -5.265      -4.833\n",
       "x120           3.5349      0.201     17.594      0.000       3.141       3.929\n",
       "x121           3.9143      0.104     37.761      0.000       3.711       4.117\n",
       "x122          -1.5842      0.106    -14.966      0.000      -1.792      -1.377\n",
       "x123           0.2797      0.114      2.455      0.014       0.056       0.503\n",
       "x124          -5.8162      0.206    -28.182      0.000      -6.221      -5.412\n",
       "==============================================================================\n",
       "Omnibus:                    80772.263   Durbin-Watson:                   0.099\n",
       "Prob(Omnibus):                  0.000   Jarque-Bera (JB):           355424.222\n",
       "Skew:                           1.331   Prob(JB):                         0.00\n",
       "Kurtosis:                       7.780   Cond. No.                     1.13e+14\n",
       "==============================================================================\n",
       "\n",
       "Warnings:\n",
       "[1] Standard Errors assume that the covariance matrix of the errors is correctly specified.\n",
       "[2] The smallest eigenvalue is 1.95e-22. This might indicate that there are\n",
       "strong multicollinearity problems or that the design matrix is singular.\n",
       "\"\"\""
      ]
     },
     "execution_count": 48,
     "metadata": {},
     "output_type": "execute_result"
    }
   ],
   "source": [
    "# Model-LR\n",
    "\n",
    "model=sm.OLS(y_train, sm.add_constant(X_train_trans))\n",
    "fit=model.fit()\n",
    "fit.summary()"
   ]
  },
  {
   "cell_type": "markdown",
   "metadata": {
    "ExecuteTime": {
     "end_time": "2019-02-18T09:53:22.993706Z",
     "start_time": "2019-02-18T09:53:22.963032Z"
    }
   },
   "source": [
    "## Lasso"
   ]
  },
  {
   "cell_type": "code",
   "execution_count": 49,
   "metadata": {
    "ExecuteTime": {
     "end_time": "2019-02-18T20:41:12.118171Z",
     "start_time": "2019-02-18T20:41:12.108186Z"
    }
   },
   "outputs": [],
   "source": [
    "from sklearn.pipeline import make_pipeline\n",
    "from sklearn.model_selection import RandomizedSearchCV\n",
    "from sklearn.model_selection import GridSearchCV\n",
    "from sklearn.preprocessing import PolynomialFeatures\n",
    "from sklearn.linear_model import Lasso"
   ]
  },
  {
   "cell_type": "code",
   "execution_count": 50,
   "metadata": {
    "ExecuteTime": {
     "end_time": "2019-02-18T20:41:20.267598Z",
     "start_time": "2019-02-18T20:41:20.263983Z"
    }
   },
   "outputs": [],
   "source": [
    "est = make_pipeline(PolynomialFeatures(), Lasso())"
   ]
  },
  {
   "cell_type": "code",
   "execution_count": 51,
   "metadata": {
    "ExecuteTime": {
     "end_time": "2019-02-18T20:41:21.984215Z",
     "start_time": "2019-02-18T20:41:21.978028Z"
    }
   },
   "outputs": [
    {
     "data": {
      "text/plain": [
       "dict_keys(['memory', 'steps', 'polynomialfeatures', 'lasso', 'polynomialfeatures__degree', 'polynomialfeatures__include_bias', 'polynomialfeatures__interaction_only', 'lasso__alpha', 'lasso__copy_X', 'lasso__fit_intercept', 'lasso__max_iter', 'lasso__normalize', 'lasso__positive', 'lasso__precompute', 'lasso__random_state', 'lasso__selection', 'lasso__tol', 'lasso__warm_start'])"
      ]
     },
     "execution_count": 51,
     "metadata": {},
     "output_type": "execute_result"
    }
   ],
   "source": [
    "est.get_params().keys()"
   ]
  },
  {
   "cell_type": "code",
   "execution_count": 63,
   "metadata": {
    "ExecuteTime": {
     "end_time": "2019-02-18T21:13:39.004637Z",
     "start_time": "2019-02-18T21:13:39.000962Z"
    }
   },
   "outputs": [],
   "source": [
    "params ={'polynomialfeatures__degree':[1], \n",
    "         'lasso__alpha': [1e-4, 1e-3, 1e-2, 1e-1, 1],\n",
    "        }"
   ]
  },
  {
   "cell_type": "code",
   "execution_count": 64,
   "metadata": {
    "ExecuteTime": {
     "end_time": "2019-02-18T21:48:14.092953Z",
     "start_time": "2019-02-18T21:13:40.356893Z"
    }
   },
   "outputs": [
    {
     "name": "stderr",
     "output_type": "stream",
     "text": [
      "/Users/xzhou/anaconda3/lib/python3.6/site-packages/sklearn/linear_model/coordinate_descent.py:491: ConvergenceWarning: Objective did not converge. You might want to increase the number of iterations. Fitting data with very small alpha may cause precision problems.\n",
      "  ConvergenceWarning)\n",
      "/Users/xzhou/anaconda3/lib/python3.6/site-packages/sklearn/linear_model/coordinate_descent.py:491: ConvergenceWarning: Objective did not converge. You might want to increase the number of iterations. Fitting data with very small alpha may cause precision problems.\n",
      "  ConvergenceWarning)\n",
      "/Users/xzhou/anaconda3/lib/python3.6/site-packages/sklearn/linear_model/coordinate_descent.py:491: ConvergenceWarning: Objective did not converge. You might want to increase the number of iterations. Fitting data with very small alpha may cause precision problems.\n",
      "  ConvergenceWarning)\n"
     ]
    },
    {
     "ename": "KeyboardInterrupt",
     "evalue": "",
     "output_type": "error",
     "traceback": [
      "\u001b[0;31m---------------------------------------------------------------------------\u001b[0m",
      "\u001b[0;31mKeyboardInterrupt\u001b[0m                         Traceback (most recent call last)",
      "\u001b[0;32m<ipython-input-64-eca96397ffaf>\u001b[0m in \u001b[0;36m<module>\u001b[0;34m()\u001b[0m\n\u001b[1;32m      1\u001b[0m grid = GridSearchCV(est, param_grid=params, cv=3, \n\u001b[1;32m      2\u001b[0m                     return_train_score=True,  n_jobs =-1)\n\u001b[0;32m----> 3\u001b[0;31m \u001b[0mgrid\u001b[0m\u001b[0;34m.\u001b[0m\u001b[0mfit\u001b[0m\u001b[0;34m(\u001b[0m\u001b[0mX_train_trans\u001b[0m\u001b[0;34m,\u001b[0m \u001b[0my_train\u001b[0m\u001b[0;34m)\u001b[0m\u001b[0;34m\u001b[0m\u001b[0m\n\u001b[0m",
      "\u001b[0;32m~/anaconda3/lib/python3.6/site-packages/sklearn/model_selection/_search.py\u001b[0m in \u001b[0;36mfit\u001b[0;34m(self, X, y, groups, **fit_params)\u001b[0m\n\u001b[1;32m    637\u001b[0m                                   error_score=self.error_score)\n\u001b[1;32m    638\u001b[0m           for parameters, (train, test) in product(candidate_params,\n\u001b[0;32m--> 639\u001b[0;31m                                                    cv.split(X, y, groups)))\n\u001b[0m\u001b[1;32m    640\u001b[0m \u001b[0;34m\u001b[0m\u001b[0m\n\u001b[1;32m    641\u001b[0m         \u001b[0;31m# if one choose to see train score, \"out\" will contain train score info\u001b[0m\u001b[0;34m\u001b[0m\u001b[0;34m\u001b[0m\u001b[0m\n",
      "\u001b[0;32m~/anaconda3/lib/python3.6/site-packages/sklearn/externals/joblib/parallel.py\u001b[0m in \u001b[0;36m__call__\u001b[0;34m(self, iterable)\u001b[0m\n\u001b[1;32m    787\u001b[0m                 \u001b[0;31m# consumption.\u001b[0m\u001b[0;34m\u001b[0m\u001b[0;34m\u001b[0m\u001b[0m\n\u001b[1;32m    788\u001b[0m                 \u001b[0mself\u001b[0m\u001b[0;34m.\u001b[0m\u001b[0m_iterating\u001b[0m \u001b[0;34m=\u001b[0m \u001b[0;32mFalse\u001b[0m\u001b[0;34m\u001b[0m\u001b[0m\n\u001b[0;32m--> 789\u001b[0;31m             \u001b[0mself\u001b[0m\u001b[0;34m.\u001b[0m\u001b[0mretrieve\u001b[0m\u001b[0;34m(\u001b[0m\u001b[0;34m)\u001b[0m\u001b[0;34m\u001b[0m\u001b[0m\n\u001b[0m\u001b[1;32m    790\u001b[0m             \u001b[0;31m# Make sure that we get a last message telling us we are done\u001b[0m\u001b[0;34m\u001b[0m\u001b[0;34m\u001b[0m\u001b[0m\n\u001b[1;32m    791\u001b[0m             \u001b[0melapsed_time\u001b[0m \u001b[0;34m=\u001b[0m \u001b[0mtime\u001b[0m\u001b[0;34m.\u001b[0m\u001b[0mtime\u001b[0m\u001b[0;34m(\u001b[0m\u001b[0;34m)\u001b[0m \u001b[0;34m-\u001b[0m \u001b[0mself\u001b[0m\u001b[0;34m.\u001b[0m\u001b[0m_start_time\u001b[0m\u001b[0;34m\u001b[0m\u001b[0m\n",
      "\u001b[0;32m~/anaconda3/lib/python3.6/site-packages/sklearn/externals/joblib/parallel.py\u001b[0m in \u001b[0;36mretrieve\u001b[0;34m(self)\u001b[0m\n\u001b[1;32m    697\u001b[0m             \u001b[0;32mtry\u001b[0m\u001b[0;34m:\u001b[0m\u001b[0;34m\u001b[0m\u001b[0m\n\u001b[1;32m    698\u001b[0m                 \u001b[0;32mif\u001b[0m \u001b[0mgetattr\u001b[0m\u001b[0;34m(\u001b[0m\u001b[0mself\u001b[0m\u001b[0;34m.\u001b[0m\u001b[0m_backend\u001b[0m\u001b[0;34m,\u001b[0m \u001b[0;34m'supports_timeout'\u001b[0m\u001b[0;34m,\u001b[0m \u001b[0;32mFalse\u001b[0m\u001b[0;34m)\u001b[0m\u001b[0;34m:\u001b[0m\u001b[0;34m\u001b[0m\u001b[0m\n\u001b[0;32m--> 699\u001b[0;31m                     \u001b[0mself\u001b[0m\u001b[0;34m.\u001b[0m\u001b[0m_output\u001b[0m\u001b[0;34m.\u001b[0m\u001b[0mextend\u001b[0m\u001b[0;34m(\u001b[0m\u001b[0mjob\u001b[0m\u001b[0;34m.\u001b[0m\u001b[0mget\u001b[0m\u001b[0;34m(\u001b[0m\u001b[0mtimeout\u001b[0m\u001b[0;34m=\u001b[0m\u001b[0mself\u001b[0m\u001b[0;34m.\u001b[0m\u001b[0mtimeout\u001b[0m\u001b[0;34m)\u001b[0m\u001b[0;34m)\u001b[0m\u001b[0;34m\u001b[0m\u001b[0m\n\u001b[0m\u001b[1;32m    700\u001b[0m                 \u001b[0;32melse\u001b[0m\u001b[0;34m:\u001b[0m\u001b[0;34m\u001b[0m\u001b[0m\n\u001b[1;32m    701\u001b[0m                     \u001b[0mself\u001b[0m\u001b[0;34m.\u001b[0m\u001b[0m_output\u001b[0m\u001b[0;34m.\u001b[0m\u001b[0mextend\u001b[0m\u001b[0;34m(\u001b[0m\u001b[0mjob\u001b[0m\u001b[0;34m.\u001b[0m\u001b[0mget\u001b[0m\u001b[0;34m(\u001b[0m\u001b[0;34m)\u001b[0m\u001b[0;34m)\u001b[0m\u001b[0;34m\u001b[0m\u001b[0m\n",
      "\u001b[0;32m~/anaconda3/lib/python3.6/multiprocessing/pool.py\u001b[0m in \u001b[0;36mget\u001b[0;34m(self, timeout)\u001b[0m\n\u001b[1;32m    636\u001b[0m \u001b[0;34m\u001b[0m\u001b[0m\n\u001b[1;32m    637\u001b[0m     \u001b[0;32mdef\u001b[0m \u001b[0mget\u001b[0m\u001b[0;34m(\u001b[0m\u001b[0mself\u001b[0m\u001b[0;34m,\u001b[0m \u001b[0mtimeout\u001b[0m\u001b[0;34m=\u001b[0m\u001b[0;32mNone\u001b[0m\u001b[0;34m)\u001b[0m\u001b[0;34m:\u001b[0m\u001b[0;34m\u001b[0m\u001b[0m\n\u001b[0;32m--> 638\u001b[0;31m         \u001b[0mself\u001b[0m\u001b[0;34m.\u001b[0m\u001b[0mwait\u001b[0m\u001b[0;34m(\u001b[0m\u001b[0mtimeout\u001b[0m\u001b[0;34m)\u001b[0m\u001b[0;34m\u001b[0m\u001b[0m\n\u001b[0m\u001b[1;32m    639\u001b[0m         \u001b[0;32mif\u001b[0m \u001b[0;32mnot\u001b[0m \u001b[0mself\u001b[0m\u001b[0;34m.\u001b[0m\u001b[0mready\u001b[0m\u001b[0;34m(\u001b[0m\u001b[0;34m)\u001b[0m\u001b[0;34m:\u001b[0m\u001b[0;34m\u001b[0m\u001b[0m\n\u001b[1;32m    640\u001b[0m             \u001b[0;32mraise\u001b[0m \u001b[0mTimeoutError\u001b[0m\u001b[0;34m\u001b[0m\u001b[0m\n",
      "\u001b[0;32m~/anaconda3/lib/python3.6/multiprocessing/pool.py\u001b[0m in \u001b[0;36mwait\u001b[0;34m(self, timeout)\u001b[0m\n\u001b[1;32m    633\u001b[0m \u001b[0;34m\u001b[0m\u001b[0m\n\u001b[1;32m    634\u001b[0m     \u001b[0;32mdef\u001b[0m \u001b[0mwait\u001b[0m\u001b[0;34m(\u001b[0m\u001b[0mself\u001b[0m\u001b[0;34m,\u001b[0m \u001b[0mtimeout\u001b[0m\u001b[0;34m=\u001b[0m\u001b[0;32mNone\u001b[0m\u001b[0;34m)\u001b[0m\u001b[0;34m:\u001b[0m\u001b[0;34m\u001b[0m\u001b[0m\n\u001b[0;32m--> 635\u001b[0;31m         \u001b[0mself\u001b[0m\u001b[0;34m.\u001b[0m\u001b[0m_event\u001b[0m\u001b[0;34m.\u001b[0m\u001b[0mwait\u001b[0m\u001b[0;34m(\u001b[0m\u001b[0mtimeout\u001b[0m\u001b[0;34m)\u001b[0m\u001b[0;34m\u001b[0m\u001b[0m\n\u001b[0m\u001b[1;32m    636\u001b[0m \u001b[0;34m\u001b[0m\u001b[0m\n\u001b[1;32m    637\u001b[0m     \u001b[0;32mdef\u001b[0m \u001b[0mget\u001b[0m\u001b[0;34m(\u001b[0m\u001b[0mself\u001b[0m\u001b[0;34m,\u001b[0m \u001b[0mtimeout\u001b[0m\u001b[0;34m=\u001b[0m\u001b[0;32mNone\u001b[0m\u001b[0;34m)\u001b[0m\u001b[0;34m:\u001b[0m\u001b[0;34m\u001b[0m\u001b[0m\n",
      "\u001b[0;32m~/anaconda3/lib/python3.6/threading.py\u001b[0m in \u001b[0;36mwait\u001b[0;34m(self, timeout)\u001b[0m\n\u001b[1;32m    549\u001b[0m             \u001b[0msignaled\u001b[0m \u001b[0;34m=\u001b[0m \u001b[0mself\u001b[0m\u001b[0;34m.\u001b[0m\u001b[0m_flag\u001b[0m\u001b[0;34m\u001b[0m\u001b[0m\n\u001b[1;32m    550\u001b[0m             \u001b[0;32mif\u001b[0m \u001b[0;32mnot\u001b[0m \u001b[0msignaled\u001b[0m\u001b[0;34m:\u001b[0m\u001b[0;34m\u001b[0m\u001b[0m\n\u001b[0;32m--> 551\u001b[0;31m                 \u001b[0msignaled\u001b[0m \u001b[0;34m=\u001b[0m \u001b[0mself\u001b[0m\u001b[0;34m.\u001b[0m\u001b[0m_cond\u001b[0m\u001b[0;34m.\u001b[0m\u001b[0mwait\u001b[0m\u001b[0;34m(\u001b[0m\u001b[0mtimeout\u001b[0m\u001b[0;34m)\u001b[0m\u001b[0;34m\u001b[0m\u001b[0m\n\u001b[0m\u001b[1;32m    552\u001b[0m             \u001b[0;32mreturn\u001b[0m \u001b[0msignaled\u001b[0m\u001b[0;34m\u001b[0m\u001b[0m\n\u001b[1;32m    553\u001b[0m \u001b[0;34m\u001b[0m\u001b[0m\n",
      "\u001b[0;32m~/anaconda3/lib/python3.6/threading.py\u001b[0m in \u001b[0;36mwait\u001b[0;34m(self, timeout)\u001b[0m\n\u001b[1;32m    293\u001b[0m         \u001b[0;32mtry\u001b[0m\u001b[0;34m:\u001b[0m    \u001b[0;31m# restore state no matter what (e.g., KeyboardInterrupt)\u001b[0m\u001b[0;34m\u001b[0m\u001b[0m\n\u001b[1;32m    294\u001b[0m             \u001b[0;32mif\u001b[0m \u001b[0mtimeout\u001b[0m \u001b[0;32mis\u001b[0m \u001b[0;32mNone\u001b[0m\u001b[0;34m:\u001b[0m\u001b[0;34m\u001b[0m\u001b[0m\n\u001b[0;32m--> 295\u001b[0;31m                 \u001b[0mwaiter\u001b[0m\u001b[0;34m.\u001b[0m\u001b[0macquire\u001b[0m\u001b[0;34m(\u001b[0m\u001b[0;34m)\u001b[0m\u001b[0;34m\u001b[0m\u001b[0m\n\u001b[0m\u001b[1;32m    296\u001b[0m                 \u001b[0mgotit\u001b[0m \u001b[0;34m=\u001b[0m \u001b[0;32mTrue\u001b[0m\u001b[0;34m\u001b[0m\u001b[0m\n\u001b[1;32m    297\u001b[0m             \u001b[0;32melse\u001b[0m\u001b[0;34m:\u001b[0m\u001b[0;34m\u001b[0m\u001b[0m\n",
      "\u001b[0;31mKeyboardInterrupt\u001b[0m: "
     ]
    }
   ],
   "source": [
    "grid = GridSearchCV(est, param_grid=params, cv=3, \n",
    "                    return_train_score=True,  n_jobs =-1)\n",
    "grid.fit(X_train_trans, y_train)"
   ]
  },
  {
   "cell_type": "code",
   "execution_count": 54,
   "metadata": {
    "ExecuteTime": {
     "end_time": "2019-02-18T20:54:28.800714Z",
     "start_time": "2019-02-18T20:54:28.793305Z"
    }
   },
   "outputs": [
    {
     "data": {
      "text/plain": [
       "array([5, 4, 3, 2, 1], dtype=int32)"
      ]
     },
     "execution_count": 54,
     "metadata": {},
     "output_type": "execute_result"
    }
   ],
   "source": [
    "grid.cv_results_\n",
    "\n",
    "grid.cv_results_['params']\n",
    "grid.cv_results_['mean_train_score']\n",
    "grid.cv_results_['rank_test_score']"
   ]
  },
  {
   "cell_type": "code",
   "execution_count": 55,
   "metadata": {
    "ExecuteTime": {
     "end_time": "2019-02-18T20:54:30.021505Z",
     "start_time": "2019-02-18T20:54:30.008513Z"
    }
   },
   "outputs": [
    {
     "data": {
      "text/plain": [
       "{'mean_fit_time': array([414.61723828, 271.4545234 , 150.57445598,  51.64999437,\n",
       "         14.81380002]),\n",
       " 'std_fit_time': array([ 2.9682512 , 78.87036126, 26.36167191, 13.54234327,  0.64767319]),\n",
       " 'mean_score_time': array([1.2023836 , 1.13117639, 0.95420694, 0.90907502, 1.04631472]),\n",
       " 'std_score_time': array([0.26466895, 0.16094203, 0.39435332, 0.1141736 , 0.09591292]),\n",
       " 'param_lasso__alpha': masked_array(data=[0.0001, 0.001, 0.01, 0.1, 1],\n",
       "              mask=[False, False, False, False, False],\n",
       "        fill_value='?',\n",
       "             dtype=object),\n",
       " 'param_polynomialfeatures__degree': masked_array(data=[1, 1, 1, 1, 1],\n",
       "              mask=[False, False, False, False, False],\n",
       "        fill_value='?',\n",
       "             dtype=object),\n",
       " 'params': [{'lasso__alpha': 0.0001, 'polynomialfeatures__degree': 1},\n",
       "  {'lasso__alpha': 0.001, 'polynomialfeatures__degree': 1},\n",
       "  {'lasso__alpha': 0.01, 'polynomialfeatures__degree': 1},\n",
       "  {'lasso__alpha': 0.1, 'polynomialfeatures__degree': 1},\n",
       "  {'lasso__alpha': 1, 'polynomialfeatures__degree': 1}],\n",
       " 'split0_test_score': array([0.58586824, 0.58594713, 0.58672056, 0.59186695, 0.59185142]),\n",
       " 'split1_test_score': array([0.63578153, 0.63575811, 0.63549986, 0.63277667, 0.62087465]),\n",
       " 'split2_test_score': array([0.56047689, 0.56058349, 0.56164249, 0.57128139, 0.61526079]),\n",
       " 'mean_test_score': array([0.59404219, 0.59409621, 0.59462094, 0.59864165, 0.60932889]),\n",
       " 'std_test_score': array([0.03128155, 0.03122613, 0.03066524, 0.02555826, 0.01256922]),\n",
       " 'rank_test_score': array([5, 4, 3, 2, 1], dtype=int32),\n",
       " 'split0_train_score': array([0.68359615, 0.68359604, 0.6835847 , 0.6830427 , 0.66714953]),\n",
       " 'split1_train_score': array([0.66615287, 0.66615275, 0.66614024, 0.66561642, 0.65143968]),\n",
       " 'split2_train_score': array([0.66696337, 0.66696327, 0.66695257, 0.66600052, 0.64789749]),\n",
       " 'mean_train_score': array([0.67223746, 0.67223735, 0.67222584, 0.67155321, 0.65549557]),\n",
       " 'std_train_score': array([0.00803862, 0.00803862, 0.00803877, 0.0081258 , 0.00836652])}"
      ]
     },
     "execution_count": 55,
     "metadata": {},
     "output_type": "execute_result"
    }
   ],
   "source": [
    "grid.cv_results_"
   ]
  },
  {
   "cell_type": "code",
   "execution_count": 56,
   "metadata": {
    "ExecuteTime": {
     "end_time": "2019-02-18T20:54:31.227908Z",
     "start_time": "2019-02-18T20:54:31.222790Z"
    }
   },
   "outputs": [
    {
     "data": {
      "text/plain": [
       "{'lasso__alpha': 1, 'polynomialfeatures__degree': 1}"
      ]
     },
     "execution_count": 56,
     "metadata": {},
     "output_type": "execute_result"
    }
   ],
   "source": [
    "grid.best_params_"
   ]
  },
  {
   "cell_type": "code",
   "execution_count": 57,
   "metadata": {
    "ExecuteTime": {
     "end_time": "2019-02-18T20:55:36.258143Z",
     "start_time": "2019-02-18T20:55:36.252391Z"
    }
   },
   "outputs": [
    {
     "data": {
      "text/plain": [
       "[{'lasso__alpha': 0.0001, 'polynomialfeatures__degree': 1},\n",
       " {'lasso__alpha': 0.001, 'polynomialfeatures__degree': 1},\n",
       " {'lasso__alpha': 0.01, 'polynomialfeatures__degree': 1},\n",
       " {'lasso__alpha': 0.1, 'polynomialfeatures__degree': 1},\n",
       " {'lasso__alpha': 1, 'polynomialfeatures__degree': 1}]"
      ]
     },
     "execution_count": 57,
     "metadata": {},
     "output_type": "execute_result"
    }
   ],
   "source": [
    "grid.cv_results_['params']"
   ]
  },
  {
   "cell_type": "code",
   "execution_count": 58,
   "metadata": {
    "ExecuteTime": {
     "end_time": "2019-02-18T21:04:30.176699Z",
     "start_time": "2019-02-18T21:04:30.170978Z"
    }
   },
   "outputs": [
    {
     "data": {
      "text/plain": [
       "0.6093288889137937"
      ]
     },
     "execution_count": 58,
     "metadata": {},
     "output_type": "execute_result"
    }
   ],
   "source": [
    "grid.best_score_"
   ]
  },
  {
   "cell_type": "code",
   "execution_count": null,
   "metadata": {},
   "outputs": [],
   "source": [
    "grid.b"
   ]
  },
  {
   "cell_type": "code",
   "execution_count": null,
   "metadata": {},
   "outputs": [],
   "source": [
    "rand = GridSearchCV(est, param_distribution=params, cv=5)\n",
    "grid.fit(X_train_trans, y_train)"
   ]
  },
  {
   "cell_type": "markdown",
   "metadata": {},
   "source": [
    "## Random Forest"
   ]
  },
  {
   "cell_type": "code",
   "execution_count": null,
   "metadata": {
    "ExecuteTime": {
     "end_time": "2019-02-18T03:37:02.571222Z",
     "start_time": "2019-02-18T03:34:30.226605Z"
    }
   },
   "outputs": [],
   "source": [
    "# Model-Random Forest\n",
    "\n",
    "rf = RandomForestRegressor(n_estimators=100, \n",
    "                           criterion='mse', \n",
    "                           random_state=42, \n",
    "                           verbose=1,\n",
    "                           n_jobs=-1)\n",
    "rf.fit(X_train_trans, y_train.ravel())\n",
    "\n",
    "y_train_pred = rf.predict(X_train_trans)\n",
    "y_test_pred = rf.predict(X_test_trans)\n",
    "\n",
    "print('MSE train: %.3f, test: %.3f' % (\n",
    "        mean_squared_error(y_train, y_train_pred),\n",
    "        mean_squared_error(y_test, y_test_pred)))\n",
    "print('R^2 train: %.3f, test: %.3f' % (\n",
    "        r2_score(y_train, y_train_pred),\n",
    "        r2_score(y_test, y_test_pred)))"
   ]
  },
  {
   "cell_type": "code",
   "execution_count": null,
   "metadata": {
    "ExecuteTime": {
     "end_time": "2019-02-18T03:37:07.328875Z",
     "start_time": "2019-02-18T03:37:07.318684Z"
    }
   },
   "outputs": [],
   "source": [
    "df_final.listing_id.nunique()"
   ]
  },
  {
   "cell_type": "code",
   "execution_count": null,
   "metadata": {
    "ExecuteTime": {
     "end_time": "2019-02-18T03:37:12.175804Z",
     "start_time": "2019-02-18T03:37:12.130344Z"
    }
   },
   "outputs": [],
   "source": [
    "# Double check on price range. The range is as expected\n",
    "\n",
    "y.describe(include='all')"
   ]
  },
  {
   "cell_type": "code",
   "execution_count": null,
   "metadata": {
    "ExecuteTime": {
     "end_time": "2019-02-18T03:37:17.200153Z",
     "start_time": "2019-02-18T03:37:17.092252Z"
    }
   },
   "outputs": [],
   "source": [
    "# Map feature importance with labels\n",
    "\n",
    "feature_labels = X.columns\n",
    "feature_tuples = zip (feature_labels, rf.feature_importances_)\n",
    "feature_lists = [list(feature_tuple) for feature_tuple in feature_tuples]"
   ]
  },
  {
   "cell_type": "code",
   "execution_count": null,
   "metadata": {
    "ExecuteTime": {
     "end_time": "2019-02-18T03:37:22.160740Z",
     "start_time": "2019-02-18T03:37:22.146719Z"
    }
   },
   "outputs": [],
   "source": [
    "# Order features based on importance\n",
    "\n",
    "feature_lists.sort(key=lambda x: abs(x[1]), reverse=True)\n",
    "feature_lists"
   ]
  },
  {
   "cell_type": "code",
   "execution_count": null,
   "metadata": {
    "ExecuteTime": {
     "end_time": "2019-02-18T03:37:27.099467Z",
     "start_time": "2019-02-18T03:37:27.090834Z"
    }
   },
   "outputs": [],
   "source": [
    "features = [list_[0] for list_ in feature_lists]\n",
    "features"
   ]
  },
  {
   "cell_type": "code",
   "execution_count": null,
   "metadata": {
    "ExecuteTime": {
     "end_time": "2019-02-18T03:37:32.044883Z",
     "start_time": "2019-02-18T03:37:32.040090Z"
    }
   },
   "outputs": [],
   "source": [
    "# 'ref_dist', 'ref_juri', 'ref_jurisdiction', 'price_by_month_week'\n",
    "\n",
    "\n",
    "columns =['listing_id']\n",
    "columns.extend(features)\n",
    "columns.extend(['ref_district', 'ref_jurisdiction', 'price_by_month_dow'])"
   ]
  },
  {
   "cell_type": "code",
   "execution_count": null,
   "metadata": {
    "ExecuteTime": {
     "end_time": "2019-02-18T03:37:37.095412Z",
     "start_time": "2019-02-18T03:37:36.442344Z"
    }
   },
   "outputs": [],
   "source": [
    "df_data = df_final[columns]\n",
    "df_data.head()"
   ]
  },
  {
   "cell_type": "code",
   "execution_count": null,
   "metadata": {
    "ExecuteTime": {
     "end_time": "2019-02-18T03:37:43.055535Z",
     "start_time": "2019-02-18T03:37:43.049803Z"
    }
   },
   "outputs": [],
   "source": [
    "df_data.shape"
   ]
  },
  {
   "cell_type": "code",
   "execution_count": null,
   "metadata": {
    "ExecuteTime": {
     "end_time": "2019-02-18T03:37:49.818311Z",
     "start_time": "2019-02-18T03:37:49.216337Z"
    }
   },
   "outputs": [],
   "source": [
    "df_data.rename(columns={'price_by_month_dow':'price'}, inplace=True)"
   ]
  },
  {
   "cell_type": "code",
   "execution_count": null,
   "metadata": {
    "ExecuteTime": {
     "end_time": "2019-02-18T03:37:56.497520Z",
     "start_time": "2019-02-18T03:37:55.318891Z"
    }
   },
   "outputs": [],
   "source": [
    "df_data.isnull().sum()"
   ]
  },
  {
   "cell_type": "code",
   "execution_count": null,
   "metadata": {
    "ExecuteTime": {
     "end_time": "2019-02-18T02:14:17.220412Z",
     "start_time": "2019-02-18T02:13:52.014089Z"
    },
    "scrolled": false
   },
   "outputs": [],
   "source": [
    "temp_df = df_data[['Monday', 'Tuesday', 'Wednesday', 'Thursday', 'Friday', 'Saturday', 'Sunday']].copy()\n",
    "\n",
    "days = temp_df.apply(lambda x: x.idxmax(), axis=1)\n",
    "days"
   ]
  },
  {
   "cell_type": "code",
   "execution_count": null,
   "metadata": {
    "ExecuteTime": {
     "end_time": "2018-09-17T22:12:55.258059Z",
     "start_time": "2018-09-17T22:12:27.019Z"
    }
   },
   "outputs": [],
   "source": [
    "csv_file = '/Users/xzhou/github/project_archives/files_airbnb/{}.csv'\n",
    "\n",
    "csv_path = csv_file.format('airbnb_data')\n",
    "\n",
    "df_data.to_csv(csv_path)"
   ]
  },
  {
   "cell_type": "code",
   "execution_count": null,
   "metadata": {},
   "outputs": [],
   "source": []
  },
  {
   "cell_type": "code",
   "execution_count": null,
   "metadata": {
    "ExecuteTime": {
     "end_time": "2019-02-18T03:38:51.267141Z",
     "start_time": "2019-02-18T03:38:45.434760Z"
    }
   },
   "outputs": [],
   "source": [
    "# This is to create visual to show seasonality\n",
    "\n",
    "df_visual = pd.merge(left=df_pricing_by_mon_dow, \n",
    "                    right=df_listings_features,\n",
    "                    how='inner',\n",
    "                    left_on='listing_id',\n",
    "                    right_on='id')"
   ]
  },
  {
   "cell_type": "code",
   "execution_count": null,
   "metadata": {
    "ExecuteTime": {
     "end_time": "2019-02-18T02:14:31.142864Z",
     "start_time": "2019-02-18T02:14:31.137080Z"
    }
   },
   "outputs": [],
   "source": [
    "# df_visual = df_final.copy()"
   ]
  },
  {
   "cell_type": "code",
   "execution_count": null,
   "metadata": {
    "ExecuteTime": {
     "end_time": "2019-02-18T03:38:03.335205Z",
     "start_time": "2019-02-18T03:35:42.959Z"
    }
   },
   "outputs": [],
   "source": [
    "df_visual.shape"
   ]
  },
  {
   "cell_type": "code",
   "execution_count": null,
   "metadata": {
    "ExecuteTime": {
     "end_time": "2019-02-18T03:42:57.279222Z",
     "start_time": "2019-02-18T03:42:57.272733Z"
    }
   },
   "outputs": [],
   "source": [
    "df_visual.columns"
   ]
  },
  {
   "cell_type": "code",
   "execution_count": null,
   "metadata": {
    "ExecuteTime": {
     "end_time": "2019-02-18T03:50:37.560728Z",
     "start_time": "2019-02-18T03:50:37.479608Z"
    }
   },
   "outputs": [],
   "source": [
    "df_by_dow = df_visual  \\\n",
    "                          .groupby(['ref_district', 'day_of_week'])  \\\n",
    "                          .price_by_month_dow.mean()\n",
    "df_by_dow"
   ]
  },
  {
   "cell_type": "code",
   "execution_count": null,
   "metadata": {
    "ExecuteTime": {
     "end_time": "2019-02-18T03:51:15.288718Z",
     "start_time": "2019-02-18T03:51:15.215199Z"
    }
   },
   "outputs": [],
   "source": [
    "df_by_dow = df_visual  \\\n",
    "                          .groupby(['ref_district', 'month'])  \\\n",
    "                          .price_by_month_dow.mean()\n",
    "df_by_dow"
   ]
  },
  {
   "cell_type": "code",
   "execution_count": null,
   "metadata": {
    "ExecuteTime": {
     "end_time": "2019-02-18T03:39:36.492597Z",
     "start_time": "2019-02-18T03:39:35.354521Z"
    }
   },
   "outputs": [],
   "source": [
    "df_visual_ent_apart = df_visual[df_visual['room_type_Entire home/apt']==1 ]\n",
    "df_visual_sing_room = df_visual[df_visual['room_type_Entire home/apt']!=1 ]\n",
    "\n",
    "print(df_visual_ent_apart.shape, df_visual_sing_room.shape )"
   ]
  },
  {
   "cell_type": "code",
   "execution_count": null,
   "metadata": {
    "ExecuteTime": {
     "end_time": "2019-02-18T03:40:45.656273Z",
     "start_time": "2019-02-18T03:40:45.648104Z"
    }
   },
   "outputs": [],
   "source": [
    "df_visual_ent_apart.ref_district.describe"
   ]
  },
  {
   "cell_type": "code",
   "execution_count": null,
   "metadata": {
    "ExecuteTime": {
     "end_time": "2019-02-18T02:14:58.880705Z",
     "start_time": "2019-02-18T02:14:58.747358Z"
    }
   },
   "outputs": [],
   "source": [
    "# df_visual_entire_apartment_sf = df_visual_entire_apartment[\n",
    "#                            df_visual_entire_apartment['ref_district']=='San Francisco']\n",
    "# df_visual_entire_apartment_scz = df_visual_entire_apartment[df_visual_entire_apartment['ref_district']=='Santa Clara']\n",
    "\n",
    "# print(df_visual_entire_apartment_sf.shape, df_visual_entire_apartment_scz.shape )"
   ]
  },
  {
   "cell_type": "code",
   "execution_count": null,
   "metadata": {
    "ExecuteTime": {
     "end_time": "2019-02-18T02:15:05.436739Z",
     "start_time": "2019-02-18T02:15:05.429732Z"
    }
   },
   "outputs": [],
   "source": [
    "# df_visual_entire_apartment_sf.listing_id.nunique()"
   ]
  },
  {
   "cell_type": "code",
   "execution_count": null,
   "metadata": {
    "ExecuteTime": {
     "end_time": "2019-02-18T02:15:11.884816Z",
     "start_time": "2019-02-18T02:15:11.878206Z"
    }
   },
   "outputs": [],
   "source": [
    "# df_visual_entire_apartment_scz.listing_id.nunique()"
   ]
  },
  {
   "cell_type": "code",
   "execution_count": null,
   "metadata": {
    "ExecuteTime": {
     "end_time": "2019-02-18T03:44:29.009085Z",
     "start_time": "2019-02-18T03:44:28.964443Z"
    }
   },
   "outputs": [],
   "source": [
    "# Weekly pattern for entire apartment\n",
    "\n",
    "df_ent_apart_by_dow = df_visual_ent_apart  \\\n",
    "                          .groupby(['ref_district', 'day_of_week'])  \\\n",
    "                          .price_by_month_dow.mean()\n",
    "df_ent_apart_by_dow"
   ]
  },
  {
   "cell_type": "code",
   "execution_count": null,
   "metadata": {
    "ExecuteTime": {
     "end_time": "2019-02-18T03:45:36.536523Z",
     "start_time": "2019-02-18T03:45:36.503871Z"
    }
   },
   "outputs": [],
   "source": [
    "# Weekly pattern for single room\n",
    "\n",
    "df_sing_room_by_dow = df_visual_sing_room  \\\n",
    "                          .groupby(['ref_district', 'day_of_week'])  \\\n",
    "                          .price_by_month_dow.mean()\n",
    "df_sing_room_by_dow"
   ]
  },
  {
   "cell_type": "code",
   "execution_count": null,
   "metadata": {
    "ExecuteTime": {
     "end_time": "2019-02-18T03:46:30.677978Z",
     "start_time": "2019-02-18T03:46:30.641259Z"
    }
   },
   "outputs": [],
   "source": [
    "# Montly Pattern for entire apartment\n",
    "\n",
    "df_visual_ent_apart.groupby(['ref_district', 'month']).price_by_month_dow.mean()"
   ]
  },
  {
   "cell_type": "code",
   "execution_count": null,
   "metadata": {
    "ExecuteTime": {
     "end_time": "2019-02-18T03:46:38.946129Z",
     "start_time": "2019-02-18T03:46:38.913688Z"
    }
   },
   "outputs": [],
   "source": [
    "# Montly Pattern for single room\n",
    "\n",
    "df_visual_sing_room.groupby(['ref_district', 'month']).price_by_month_dow.mean()"
   ]
  }
 ],
 "metadata": {
  "kernelspec": {
   "display_name": "Python 3",
   "language": "python",
   "name": "python3"
  },
  "language_info": {
   "codemirror_mode": {
    "name": "ipython",
    "version": 3
   },
   "file_extension": ".py",
   "mimetype": "text/x-python",
   "name": "python",
   "nbconvert_exporter": "python",
   "pygments_lexer": "ipython3",
   "version": "3.6.6"
  },
  "toc": {
   "base_numbering": 1,
   "nav_menu": {},
   "number_sections": true,
   "sideBar": true,
   "skip_h1_title": false,
   "title_cell": "Table of Contents",
   "title_sidebar": "Contents",
   "toc_cell": false,
   "toc_position": {},
   "toc_section_display": true,
   "toc_window_display": true
  },
  "varInspector": {
   "cols": {
    "lenName": 16,
    "lenType": 16,
    "lenVar": 40
   },
   "kernels_config": {
    "python": {
     "delete_cmd_postfix": "",
     "delete_cmd_prefix": "del ",
     "library": "var_list.py",
     "varRefreshCmd": "print(var_dic_list())"
    },
    "r": {
     "delete_cmd_postfix": ") ",
     "delete_cmd_prefix": "rm(",
     "library": "var_list.r",
     "varRefreshCmd": "cat(var_dic_list()) "
    }
   },
   "types_to_exclude": [
    "module",
    "function",
    "builtin_function_or_method",
    "instance",
    "_Feature"
   ],
   "window_display": false
  }
 },
 "nbformat": 4,
 "nbformat_minor": 2
}
