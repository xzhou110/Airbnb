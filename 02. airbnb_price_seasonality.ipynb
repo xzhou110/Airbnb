{
 "cells": [
  {
   "cell_type": "markdown",
   "metadata": {},
   "source": [
    "# Data Retrieval"
   ]
  },
  {
   "cell_type": "code",
   "execution_count": 1,
   "metadata": {
    "ExecuteTime": {
     "end_time": "2019-02-24T10:13:33.815779Z",
     "start_time": "2019-02-24T10:13:31.599664Z"
    }
   },
   "outputs": [],
   "source": [
    "import pandas as pd\n",
    "import csv\n",
    "import re\n",
    "import statsmodels.api as sm\n",
    "from datetime import datetime\n",
    "import matplotlib.pyplot as plt\n",
    "import numpy as np\n",
    "\n",
    "from sklearn import datasets, linear_model\n",
    "from sklearn.metrics import mean_squared_error, r2_score\n",
    "from sklearn.preprocessing import StandardScaler\n",
    "from sklearn.model_selection import train_test_split, GroupShuffleSplit\n",
    "from sklearn.ensemble import RandomForestRegressor\n",
    "from sklearn.pipeline import make_pipeline\n",
    "from sklearn.model_selection import RandomizedSearchCV\n",
    "from sklearn.model_selection import GridSearchCV\n",
    "from sklearn.preprocessing import PolynomialFeatures\n",
    "from sklearn.linear_model import Lasso\n",
    "from sklearn.ensemble import GradientBoostingRegressor"
   ]
  },
  {
   "cell_type": "code",
   "execution_count": 2,
   "metadata": {
    "ExecuteTime": {
     "end_time": "2019-02-24T10:13:33.822127Z",
     "start_time": "2019-02-24T10:13:33.818167Z"
    }
   },
   "outputs": [],
   "source": [
    "plt.style.use('seaborn')"
   ]
  },
  {
   "cell_type": "code",
   "execution_count": 3,
   "metadata": {
    "ExecuteTime": {
     "end_time": "2019-02-24T10:13:33.829312Z",
     "start_time": "2019-02-24T10:13:33.824738Z"
    }
   },
   "outputs": [],
   "source": [
    "# File path for cities: San Francisco(sf), Okaland(ok), and Santa Clara(sc)\n",
    "\n",
    "file_url = '/Users/xzhou/github/project_archives/files_airbnb/{}/calendar.csv'\n",
    "\n",
    "sf_file = file_url.format('sf_airbnb')\n",
    "ok_file = file_url.format('ok_airbnb')\n",
    "sc_file = file_url.format('sc_airbnb')"
   ]
  },
  {
   "cell_type": "code",
   "execution_count": 4,
   "metadata": {
    "ExecuteTime": {
     "end_time": "2019-02-24T10:13:38.839916Z",
     "start_time": "2019-02-24T10:13:33.832401Z"
    }
   },
   "outputs": [
    {
     "name": "stdout",
     "output_type": "stream",
     "text": [
      "(2420680, 4) (1057770, 4) (2068820, 4)\n"
     ]
    }
   ],
   "source": [
    "# Loaded price by date information for each city\n",
    "\n",
    "pricing_sf = pd.read_csv(sf_file, parse_dates=['date'])\n",
    "pricing_ok = pd.read_csv(ok_file, parse_dates=['date'])\n",
    "pricing_sc = pd.read_csv(sc_file, parse_dates=['date'])\n",
    "\n",
    "print(pricing_sf.shape, pricing_ok.shape, pricing_sc.shape)"
   ]
  },
  {
   "cell_type": "code",
   "execution_count": 5,
   "metadata": {
    "ExecuteTime": {
     "end_time": "2019-02-24T10:13:39.852803Z",
     "start_time": "2019-02-24T10:13:38.846205Z"
    }
   },
   "outputs": [
    {
     "data": {
      "text/html": [
       "<div>\n",
       "<style scoped>\n",
       "    .dataframe tbody tr th:only-of-type {\n",
       "        vertical-align: middle;\n",
       "    }\n",
       "\n",
       "    .dataframe tbody tr th {\n",
       "        vertical-align: top;\n",
       "    }\n",
       "\n",
       "    .dataframe thead th {\n",
       "        text-align: right;\n",
       "    }\n",
       "</style>\n",
       "<table border=\"1\" class=\"dataframe\">\n",
       "  <thead>\n",
       "    <tr style=\"text-align: right;\">\n",
       "      <th></th>\n",
       "      <th></th>\n",
       "      <th>listing_id</th>\n",
       "      <th>date</th>\n",
       "      <th>available</th>\n",
       "      <th>price</th>\n",
       "    </tr>\n",
       "  </thead>\n",
       "  <tbody>\n",
       "    <tr>\n",
       "      <th rowspan=\"10\" valign=\"top\">pricing_sf</th>\n",
       "      <th>0</th>\n",
       "      <td>958</td>\n",
       "      <td>2019-08-05</td>\n",
       "      <td>f</td>\n",
       "      <td>NaN</td>\n",
       "    </tr>\n",
       "    <tr>\n",
       "      <th>1</th>\n",
       "      <td>958</td>\n",
       "      <td>2019-08-04</td>\n",
       "      <td>f</td>\n",
       "      <td>NaN</td>\n",
       "    </tr>\n",
       "    <tr>\n",
       "      <th>2</th>\n",
       "      <td>958</td>\n",
       "      <td>2019-08-03</td>\n",
       "      <td>f</td>\n",
       "      <td>NaN</td>\n",
       "    </tr>\n",
       "    <tr>\n",
       "      <th>3</th>\n",
       "      <td>958</td>\n",
       "      <td>2019-08-02</td>\n",
       "      <td>f</td>\n",
       "      <td>NaN</td>\n",
       "    </tr>\n",
       "    <tr>\n",
       "      <th>4</th>\n",
       "      <td>958</td>\n",
       "      <td>2019-08-01</td>\n",
       "      <td>f</td>\n",
       "      <td>NaN</td>\n",
       "    </tr>\n",
       "    <tr>\n",
       "      <th>5</th>\n",
       "      <td>958</td>\n",
       "      <td>2019-07-31</td>\n",
       "      <td>f</td>\n",
       "      <td>NaN</td>\n",
       "    </tr>\n",
       "    <tr>\n",
       "      <th>6</th>\n",
       "      <td>958</td>\n",
       "      <td>2019-07-30</td>\n",
       "      <td>f</td>\n",
       "      <td>NaN</td>\n",
       "    </tr>\n",
       "    <tr>\n",
       "      <th>7</th>\n",
       "      <td>958</td>\n",
       "      <td>2019-07-29</td>\n",
       "      <td>f</td>\n",
       "      <td>NaN</td>\n",
       "    </tr>\n",
       "    <tr>\n",
       "      <th>8</th>\n",
       "      <td>958</td>\n",
       "      <td>2019-07-28</td>\n",
       "      <td>f</td>\n",
       "      <td>NaN</td>\n",
       "    </tr>\n",
       "    <tr>\n",
       "      <th>9</th>\n",
       "      <td>958</td>\n",
       "      <td>2019-07-27</td>\n",
       "      <td>f</td>\n",
       "      <td>NaN</td>\n",
       "    </tr>\n",
       "  </tbody>\n",
       "</table>\n",
       "</div>"
      ],
      "text/plain": [
       "              listing_id       date available price\n",
       "pricing_sf 0         958 2019-08-05         f   NaN\n",
       "           1         958 2019-08-04         f   NaN\n",
       "           2         958 2019-08-03         f   NaN\n",
       "           3         958 2019-08-02         f   NaN\n",
       "           4         958 2019-08-01         f   NaN\n",
       "           5         958 2019-07-31         f   NaN\n",
       "           6         958 2019-07-30         f   NaN\n",
       "           7         958 2019-07-29         f   NaN\n",
       "           8         958 2019-07-28         f   NaN\n",
       "           9         958 2019-07-27         f   NaN"
      ]
     },
     "execution_count": 5,
     "metadata": {},
     "output_type": "execute_result"
    }
   ],
   "source": [
    "# Concatenated all files into one\n",
    "# Created keys for each file for future references\n",
    "\n",
    "frames = [pricing_sf, pricing_ok, pricing_sc]\n",
    "keys = ['pricing_sf', 'pricing_ok', 'pricing_sc']\n",
    "\n",
    "df_pricing = pd.concat(frames, keys=keys)\n",
    "\n",
    "df_pricing.head(10)"
   ]
  },
  {
   "cell_type": "markdown",
   "metadata": {},
   "source": [
    "# Data Exploration"
   ]
  },
  {
   "cell_type": "markdown",
   "metadata": {
    "ExecuteTime": {
     "end_time": "2019-02-16T06:04:55.761610Z",
     "start_time": "2019-02-16T06:04:55.757951Z"
    }
   },
   "source": [
    "## Smaller Set of Data"
   ]
  },
  {
   "cell_type": "code",
   "execution_count": 6,
   "metadata": {
    "ExecuteTime": {
     "end_time": "2019-02-24T10:13:40.515124Z",
     "start_time": "2019-02-24T10:13:39.856184Z"
    }
   },
   "outputs": [
    {
     "name": "stdout",
     "output_type": "stream",
     "text": [
      "Dimension for df_pricing_smaller:  (2588352, 4)\n",
      "\n",
      "Number of Unique ids:  13452\n"
     ]
    }
   ],
   "source": [
    "# Filter to houses that are available and have listing prices\n",
    "\n",
    "df_pricing_smaller = df_pricing[df_pricing['available']=='t']\n",
    "df_pricing_smaller = df_pricing_smaller.copy()\n",
    "\n",
    "print('Dimension for df_pricing_smaller: ', df_pricing_smaller.shape)\n",
    "print ('\\nNumber of Unique ids: ', df_pricing_smaller.listing_id.nunique())"
   ]
  },
  {
   "cell_type": "code",
   "execution_count": 7,
   "metadata": {
    "ExecuteTime": {
     "end_time": "2019-02-24T10:13:40.523845Z",
     "start_time": "2019-02-24T10:13:40.517981Z"
    }
   },
   "outputs": [
    {
     "data": {
      "text/plain": [
       "Index(['listing_id', 'date', 'available', 'price'], dtype='object')"
      ]
     },
     "execution_count": 7,
     "metadata": {},
     "output_type": "execute_result"
    }
   ],
   "source": [
    "df_pricing_smaller.columns"
   ]
  },
  {
   "cell_type": "markdown",
   "metadata": {},
   "source": [
    "## Data Format"
   ]
  },
  {
   "cell_type": "code",
   "execution_count": 8,
   "metadata": {
    "ExecuteTime": {
     "end_time": "2019-02-24T10:13:40.533073Z",
     "start_time": "2019-02-24T10:13:40.526849Z"
    }
   },
   "outputs": [],
   "source": [
    "def apply2df(df, column_names, function):\n",
    "    \"\"\"\n",
    "    This enables various functions to be applied to multiple columns of dataframe.\n",
    "    Input: dataframe, columns to apply function to (list), function\n",
    "    Return: updated dataframe\n",
    "    \"\"\"\n",
    "    for column in column_names:\n",
    "        df[column] = df[column].apply(lambda x: function(x))\n",
    "    return df"
   ]
  },
  {
   "cell_type": "markdown",
   "metadata": {
    "ExecuteTime": {
     "end_time": "2019-02-17T20:54:05.091473Z",
     "start_time": "2019-02-17T20:54:05.088212Z"
    }
   },
   "source": [
    "### Currency"
   ]
  },
  {
   "cell_type": "code",
   "execution_count": 9,
   "metadata": {
    "ExecuteTime": {
     "end_time": "2019-02-24T10:13:40.541742Z",
     "start_time": "2019-02-24T10:13:40.536239Z"
    }
   },
   "outputs": [],
   "source": [
    "# Noted currencies are formated as strings and need to be converted to float\n",
    "\n",
    "def currency2float(string):\n",
    "    \"\"\"\n",
    "    Convert currency to float\n",
    "    \"\"\"\n",
    "    float_ = float(str(string).strip('$').replace(',',''))\n",
    "    return float_"
   ]
  },
  {
   "cell_type": "code",
   "execution_count": 10,
   "metadata": {
    "ExecuteTime": {
     "end_time": "2019-02-24T10:13:43.157978Z",
     "start_time": "2019-02-24T10:13:40.544884Z"
    }
   },
   "outputs": [],
   "source": [
    "# Converted price to float format\n",
    "\n",
    "curriencies = ['price']\n",
    "\n",
    "df_pricing_smaller = apply2df(df_pricing_smaller, curriencies, currency2float)"
   ]
  },
  {
   "cell_type": "markdown",
   "metadata": {},
   "source": [
    "## Outliers"
   ]
  },
  {
   "cell_type": "code",
   "execution_count": 11,
   "metadata": {
    "ExecuteTime": {
     "end_time": "2019-02-24T10:13:43.371208Z",
     "start_time": "2019-02-24T10:13:43.160200Z"
    }
   },
   "outputs": [
    {
     "data": {
      "text/plain": [
       "count    2.588352e+06\n",
       "mean     2.056189e+02\n",
       "std      7.335415e+02\n",
       "min      1.000000e+01\n",
       "5%       4.000000e+01\n",
       "10%      5.000000e+01\n",
       "25%      7.800000e+01\n",
       "50%      1.290000e+02\n",
       "75%      2.090000e+02\n",
       "90%      3.500000e+02\n",
       "95%      5.000000e+02\n",
       "max      1.024520e+05\n",
       "Name: price, dtype: float64"
      ]
     },
     "execution_count": 11,
     "metadata": {},
     "output_type": "execute_result"
    }
   ],
   "source": [
    "percentiles = [0.05, 0.10, 0.25, 0.50, 0.75, 0.90, 0.95]\n",
    "\n",
    "df_pricing_smaller.price.describe(percentiles=percentiles)"
   ]
  },
  {
   "cell_type": "code",
   "execution_count": 12,
   "metadata": {
    "ExecuteTime": {
     "end_time": "2019-02-24T10:13:43.569888Z",
     "start_time": "2019-02-24T10:13:43.374136Z"
    }
   },
   "outputs": [],
   "source": [
    "# Removed outliers based on 'price'. Use 5% and 95% percentiles as cutoff\n",
    "\n",
    "five_percentile = np.percentile(df_pricing_smaller.price, 5)\n",
    "ninety_five_percentile = np.percentile(df_pricing_smaller.price, 95)\n",
    "\n",
    "df_pricing_smaller = df_pricing_smaller[(\n",
    "                     df_pricing_smaller.price>=five_percentile)\n",
    "                     & (df_pricing_smaller.price<=ninety_five_percentile)]"
   ]
  },
  {
   "cell_type": "code",
   "execution_count": 13,
   "metadata": {
    "ExecuteTime": {
     "end_time": "2019-02-24T10:13:43.577433Z",
     "start_time": "2019-02-24T10:13:43.572734Z"
    }
   },
   "outputs": [
    {
     "name": "stdout",
     "output_type": "stream",
     "text": [
      "df_pricing_smaller dimensions:  (2346265, 4)\n"
     ]
    }
   ],
   "source": [
    "print ('df_pricing_smaller dimensions: ', df_pricing_smaller.shape)"
   ]
  },
  {
   "cell_type": "markdown",
   "metadata": {
    "ExecuteTime": {
     "end_time": "2019-02-18T00:50:22.129335Z",
     "start_time": "2019-02-18T00:50:22.113843Z"
    }
   },
   "source": [
    "## Null Values"
   ]
  },
  {
   "cell_type": "code",
   "execution_count": 14,
   "metadata": {
    "ExecuteTime": {
     "end_time": "2019-02-24T10:13:43.893550Z",
     "start_time": "2019-02-24T10:13:43.580769Z"
    }
   },
   "outputs": [
    {
     "data": {
      "text/plain": [
       "listing_id    0\n",
       "date          0\n",
       "available     0\n",
       "price         0\n",
       "dtype: int64"
      ]
     },
     "execution_count": 14,
     "metadata": {},
     "output_type": "execute_result"
    }
   ],
   "source": [
    "df_pricing_smaller.isnull().sum()"
   ]
  },
  {
   "cell_type": "code",
   "execution_count": 15,
   "metadata": {
    "ExecuteTime": {
     "end_time": "2019-02-24T10:13:43.901693Z",
     "start_time": "2019-02-24T10:13:43.896701Z"
    }
   },
   "outputs": [
    {
     "data": {
      "text/plain": [
       "(2346265, 4)"
      ]
     },
     "execution_count": 15,
     "metadata": {},
     "output_type": "execute_result"
    }
   ],
   "source": [
    "df_pricing_smaller.shape"
   ]
  },
  {
   "cell_type": "code",
   "execution_count": 16,
   "metadata": {
    "ExecuteTime": {
     "end_time": "2019-02-24T10:13:44.186349Z",
     "start_time": "2019-02-24T10:13:43.904669Z"
    }
   },
   "outputs": [
    {
     "data": {
      "text/html": [
       "<div>\n",
       "<style scoped>\n",
       "    .dataframe tbody tr th:only-of-type {\n",
       "        vertical-align: middle;\n",
       "    }\n",
       "\n",
       "    .dataframe tbody tr th {\n",
       "        vertical-align: top;\n",
       "    }\n",
       "\n",
       "    .dataframe thead th {\n",
       "        text-align: right;\n",
       "    }\n",
       "</style>\n",
       "<table border=\"1\" class=\"dataframe\">\n",
       "  <thead>\n",
       "    <tr style=\"text-align: right;\">\n",
       "      <th></th>\n",
       "      <th>date</th>\n",
       "      <th>price</th>\n",
       "    </tr>\n",
       "  </thead>\n",
       "  <tbody>\n",
       "    <tr>\n",
       "      <th>count</th>\n",
       "      <td>2346265</td>\n",
       "      <td>2.346265e+06</td>\n",
       "    </tr>\n",
       "    <tr>\n",
       "      <th>unique</th>\n",
       "      <td>375</td>\n",
       "      <td>NaN</td>\n",
       "    </tr>\n",
       "    <tr>\n",
       "      <th>top</th>\n",
       "      <td>2018-11-03 00:00:00</td>\n",
       "      <td>NaN</td>\n",
       "    </tr>\n",
       "    <tr>\n",
       "      <th>freq</th>\n",
       "      <td>8671</td>\n",
       "      <td>NaN</td>\n",
       "    </tr>\n",
       "    <tr>\n",
       "      <th>first</th>\n",
       "      <td>2018-08-06 00:00:00</td>\n",
       "      <td>NaN</td>\n",
       "    </tr>\n",
       "    <tr>\n",
       "      <th>last</th>\n",
       "      <td>2019-08-15 00:00:00</td>\n",
       "      <td>NaN</td>\n",
       "    </tr>\n",
       "    <tr>\n",
       "      <th>mean</th>\n",
       "      <td>NaN</td>\n",
       "      <td>1.537473e+02</td>\n",
       "    </tr>\n",
       "    <tr>\n",
       "      <th>std</th>\n",
       "      <td>NaN</td>\n",
       "      <td>9.694863e+01</td>\n",
       "    </tr>\n",
       "    <tr>\n",
       "      <th>min</th>\n",
       "      <td>NaN</td>\n",
       "      <td>4.000000e+01</td>\n",
       "    </tr>\n",
       "    <tr>\n",
       "      <th>25%</th>\n",
       "      <td>NaN</td>\n",
       "      <td>8.000000e+01</td>\n",
       "    </tr>\n",
       "    <tr>\n",
       "      <th>50%</th>\n",
       "      <td>NaN</td>\n",
       "      <td>1.280000e+02</td>\n",
       "    </tr>\n",
       "    <tr>\n",
       "      <th>75%</th>\n",
       "      <td>NaN</td>\n",
       "      <td>1.990000e+02</td>\n",
       "    </tr>\n",
       "    <tr>\n",
       "      <th>max</th>\n",
       "      <td>NaN</td>\n",
       "      <td>5.000000e+02</td>\n",
       "    </tr>\n",
       "  </tbody>\n",
       "</table>\n",
       "</div>"
      ],
      "text/plain": [
       "                       date         price\n",
       "count               2346265  2.346265e+06\n",
       "unique                  375           NaN\n",
       "top     2018-11-03 00:00:00           NaN\n",
       "freq                   8671           NaN\n",
       "first   2018-08-06 00:00:00           NaN\n",
       "last    2019-08-15 00:00:00           NaN\n",
       "mean                    NaN  1.537473e+02\n",
       "std                     NaN  9.694863e+01\n",
       "min                     NaN  4.000000e+01\n",
       "25%                     NaN  8.000000e+01\n",
       "50%                     NaN  1.280000e+02\n",
       "75%                     NaN  1.990000e+02\n",
       "max                     NaN  5.000000e+02"
      ]
     },
     "execution_count": 16,
     "metadata": {},
     "output_type": "execute_result"
    }
   ],
   "source": [
    "columns2display = ['date', 'price']\n",
    "\n",
    "df_pricing_smaller[columns2display].describe(include = 'all')"
   ]
  },
  {
   "cell_type": "markdown",
   "metadata": {
    "ExecuteTime": {
     "end_time": "2019-02-16T06:10:40.512514Z",
     "start_time": "2019-02-16T06:10:40.509754Z"
    }
   },
   "source": [
    "## Seasonality Data"
   ]
  },
  {
   "cell_type": "markdown",
   "metadata": {},
   "source": [
    "### Month and DOW Features"
   ]
  },
  {
   "cell_type": "code",
   "execution_count": 17,
   "metadata": {
    "ExecuteTime": {
     "end_time": "2019-02-24T10:13:44.561337Z",
     "start_time": "2019-02-24T10:13:44.189154Z"
    }
   },
   "outputs": [
    {
     "name": "stdout",
     "output_type": "stream",
     "text": [
      "df_pricing_smaller dimensions (2346265, 6)\n"
     ]
    },
    {
     "data": {
      "text/html": [
       "<div>\n",
       "<style scoped>\n",
       "    .dataframe tbody tr th:only-of-type {\n",
       "        vertical-align: middle;\n",
       "    }\n",
       "\n",
       "    .dataframe tbody tr th {\n",
       "        vertical-align: top;\n",
       "    }\n",
       "\n",
       "    .dataframe thead th {\n",
       "        text-align: right;\n",
       "    }\n",
       "</style>\n",
       "<table border=\"1\" class=\"dataframe\">\n",
       "  <thead>\n",
       "    <tr style=\"text-align: right;\">\n",
       "      <th></th>\n",
       "      <th></th>\n",
       "      <th>listing_id</th>\n",
       "      <th>date</th>\n",
       "      <th>available</th>\n",
       "      <th>price</th>\n",
       "      <th>month</th>\n",
       "      <th>day_of_week</th>\n",
       "    </tr>\n",
       "  </thead>\n",
       "  <tbody>\n",
       "    <tr>\n",
       "      <th rowspan=\"5\" valign=\"top\">pricing_sf</th>\n",
       "      <th>63</th>\n",
       "      <td>958</td>\n",
       "      <td>2019-05-02</td>\n",
       "      <td>t</td>\n",
       "      <td>181.0</td>\n",
       "      <td>5</td>\n",
       "      <td>3</td>\n",
       "    </tr>\n",
       "    <tr>\n",
       "      <th>64</th>\n",
       "      <td>958</td>\n",
       "      <td>2019-05-01</td>\n",
       "      <td>t</td>\n",
       "      <td>181.0</td>\n",
       "      <td>5</td>\n",
       "      <td>2</td>\n",
       "    </tr>\n",
       "    <tr>\n",
       "      <th>65</th>\n",
       "      <td>958</td>\n",
       "      <td>2019-04-30</td>\n",
       "      <td>t</td>\n",
       "      <td>181.0</td>\n",
       "      <td>4</td>\n",
       "      <td>1</td>\n",
       "    </tr>\n",
       "    <tr>\n",
       "      <th>66</th>\n",
       "      <td>958</td>\n",
       "      <td>2019-04-29</td>\n",
       "      <td>t</td>\n",
       "      <td>181.0</td>\n",
       "      <td>4</td>\n",
       "      <td>0</td>\n",
       "    </tr>\n",
       "    <tr>\n",
       "      <th>67</th>\n",
       "      <td>958</td>\n",
       "      <td>2019-04-28</td>\n",
       "      <td>t</td>\n",
       "      <td>181.0</td>\n",
       "      <td>4</td>\n",
       "      <td>6</td>\n",
       "    </tr>\n",
       "  </tbody>\n",
       "</table>\n",
       "</div>"
      ],
      "text/plain": [
       "               listing_id       date available  price  month  day_of_week\n",
       "pricing_sf 63         958 2019-05-02         t  181.0      5            3\n",
       "           64         958 2019-05-01         t  181.0      5            2\n",
       "           65         958 2019-04-30         t  181.0      4            1\n",
       "           66         958 2019-04-29         t  181.0      4            0\n",
       "           67         958 2019-04-28         t  181.0      4            6"
      ]
     },
     "metadata": {},
     "output_type": "display_data"
    }
   ],
   "source": [
    "# Added 'month' column to extract month of date\n",
    "# Added 'day_of_week' column to extact day of week. \n",
    "# Default format: Monday=0, Sunday=6\n",
    "\n",
    "df_pricing_smaller['month'] = df_pricing_smaller['date'].dt.month\n",
    "df_pricing_smaller['day_of_week'] = df_pricing_smaller['date'].dt.weekday\n",
    "\n",
    "\n",
    "print('df_pricing_smaller dimensions', df_pricing_smaller.shape)\n",
    "display(df_pricing_smaller.head())"
   ]
  },
  {
   "cell_type": "code",
   "execution_count": 18,
   "metadata": {
    "ExecuteTime": {
     "end_time": "2019-02-24T10:13:44.817682Z",
     "start_time": "2019-02-24T10:13:44.564357Z"
    }
   },
   "outputs": [
    {
     "data": {
      "text/plain": [
       "<matplotlib.axes._subplots.AxesSubplot at 0x11a908a58>"
      ]
     },
     "execution_count": 18,
     "metadata": {},
     "output_type": "execute_result"
    },
    {
     "data": {
      "image/png": "[encoded data removed]",
      "text/plain": [
       "<Figure size 576x396 with 1 Axes>"
      ]
     },
     "metadata": {},
     "output_type": "display_data"
    }
   ],
   "source": [
    "# Checked the price distribution by month\n",
    "\n",
    "df_pricing_smaller.month.hist(bins=12)"
   ]
  },
  {
   "cell_type": "code",
   "execution_count": 19,
   "metadata": {
    "ExecuteTime": {
     "end_time": "2019-02-24T10:13:45.089973Z",
     "start_time": "2019-02-24T10:13:44.820580Z"
    }
   },
   "outputs": [
    {
     "data": {
      "text/plain": [
       "<matplotlib.axes._subplots.AxesSubplot at 0x1c23043710>"
      ]
     },
     "execution_count": 19,
     "metadata": {},
     "output_type": "execute_result"
    },
    {
     "data": {
      "image/png": "[encoded data removed]",
      "text/plain": [
       "<Figure size 576x396 with 1 Axes>"
      ]
     },
     "metadata": {},
     "output_type": "display_data"
    }
   ],
   "source": [
    "# Checked the price distribution by day of week\n",
    "\n",
    "df_pricing_smaller.day_of_week.hist(bins=7)"
   ]
  },
  {
   "cell_type": "markdown",
   "metadata": {},
   "source": [
    "### Pricing By Month by DOW"
   ]
  },
  {
   "cell_type": "code",
   "execution_count": 20,
   "metadata": {
    "ExecuteTime": {
     "end_time": "2019-02-24T10:13:45.531594Z",
     "start_time": "2019-02-24T10:13:45.092695Z"
    }
   },
   "outputs": [
    {
     "data": {
      "text/html": [
       "<div>\n",
       "<style scoped>\n",
       "    .dataframe tbody tr th:only-of-type {\n",
       "        vertical-align: middle;\n",
       "    }\n",
       "\n",
       "    .dataframe tbody tr th {\n",
       "        vertical-align: top;\n",
       "    }\n",
       "\n",
       "    .dataframe thead th {\n",
       "        text-align: right;\n",
       "    }\n",
       "</style>\n",
       "<table border=\"1\" class=\"dataframe\">\n",
       "  <thead>\n",
       "    <tr style=\"text-align: right;\">\n",
       "      <th></th>\n",
       "      <th>listing_id</th>\n",
       "      <th>month</th>\n",
       "      <th>day_of_week</th>\n",
       "      <th>price</th>\n",
       "    </tr>\n",
       "  </thead>\n",
       "  <tbody>\n",
       "    <tr>\n",
       "      <th>0</th>\n",
       "      <td>958</td>\n",
       "      <td>1</td>\n",
       "      <td>0</td>\n",
       "      <td>180.0</td>\n",
       "    </tr>\n",
       "    <tr>\n",
       "      <th>1</th>\n",
       "      <td>958</td>\n",
       "      <td>1</td>\n",
       "      <td>1</td>\n",
       "      <td>179.5</td>\n",
       "    </tr>\n",
       "    <tr>\n",
       "      <th>2</th>\n",
       "      <td>958</td>\n",
       "      <td>1</td>\n",
       "      <td>2</td>\n",
       "      <td>179.5</td>\n",
       "    </tr>\n",
       "    <tr>\n",
       "      <th>3</th>\n",
       "      <td>958</td>\n",
       "      <td>1</td>\n",
       "      <td>3</td>\n",
       "      <td>179.0</td>\n",
       "    </tr>\n",
       "    <tr>\n",
       "      <th>4</th>\n",
       "      <td>958</td>\n",
       "      <td>1</td>\n",
       "      <td>4</td>\n",
       "      <td>183.0</td>\n",
       "    </tr>\n",
       "  </tbody>\n",
       "</table>\n",
       "</div>"
      ],
      "text/plain": [
       "   listing_id  month  day_of_week  price\n",
       "0         958      1            0  180.0\n",
       "1         958      1            1  179.5\n",
       "2         958      1            2  179.5\n",
       "3         958      1            3  179.0\n",
       "4         958      1            4  183.0"
      ]
     },
     "execution_count": 20,
     "metadata": {},
     "output_type": "execute_result"
    }
   ],
   "source": [
    "# Group by month by day of week, and calculate an average pricing\n",
    "\n",
    "df_pricing_by_mon_dow = df_pricing_smaller  \\\n",
    "                            .groupby(['listing_id', 'month', 'day_of_week'])  \\\n",
    "                            .price.mean()  \\\n",
    "                            .reset_index()\n",
    "df_pricing_by_mon_dow.head()"
   ]
  },
  {
   "cell_type": "code",
   "execution_count": 21,
   "metadata": {
    "ExecuteTime": {
     "end_time": "2019-02-24T10:13:45.625344Z",
     "start_time": "2019-02-24T10:13:45.534680Z"
    }
   },
   "outputs": [
    {
     "data": {
      "text/plain": [
       "listing_id     0\n",
       "month          0\n",
       "day_of_week    0\n",
       "price          0\n",
       "dtype: int64"
      ]
     },
     "execution_count": 21,
     "metadata": {},
     "output_type": "execute_result"
    }
   ],
   "source": [
    "# Check for null values if any\n",
    "\n",
    "df_pricing_by_mon_dow.isnull().sum()"
   ]
  },
  {
   "cell_type": "code",
   "execution_count": 22,
   "metadata": {
    "ExecuteTime": {
     "end_time": "2019-02-24T10:13:45.637348Z",
     "start_time": "2019-02-24T10:13:45.628320Z"
    }
   },
   "outputs": [],
   "source": [
    "# Rename the average price column to avoid confusion\n",
    "\n",
    "df_pricing_by_mon_dow.rename(columns={'price':'price_by_mon_dow'}, inplace=True)"
   ]
  },
  {
   "cell_type": "code",
   "execution_count": 23,
   "metadata": {
    "ExecuteTime": {
     "end_time": "2019-02-24T10:13:45.646902Z",
     "start_time": "2019-02-24T10:13:45.640468Z"
    }
   },
   "outputs": [
    {
     "data": {
      "text/plain": [
       "(625086, 4)"
      ]
     },
     "execution_count": 23,
     "metadata": {},
     "output_type": "execute_result"
    }
   ],
   "source": [
    "df_pricing_by_mon_dow.shape"
   ]
  },
  {
   "cell_type": "code",
   "execution_count": 24,
   "metadata": {
    "ExecuteTime": {
     "end_time": "2019-02-24T10:13:45.661120Z",
     "start_time": "2019-02-24T10:13:45.649757Z"
    }
   },
   "outputs": [
    {
     "data": {
      "text/html": [
       "<div>\n",
       "<style scoped>\n",
       "    .dataframe tbody tr th:only-of-type {\n",
       "        vertical-align: middle;\n",
       "    }\n",
       "\n",
       "    .dataframe tbody tr th {\n",
       "        vertical-align: top;\n",
       "    }\n",
       "\n",
       "    .dataframe thead th {\n",
       "        text-align: right;\n",
       "    }\n",
       "</style>\n",
       "<table border=\"1\" class=\"dataframe\">\n",
       "  <thead>\n",
       "    <tr style=\"text-align: right;\">\n",
       "      <th></th>\n",
       "      <th>listing_id</th>\n",
       "      <th>month</th>\n",
       "      <th>day_of_week</th>\n",
       "      <th>price_by_mon_dow</th>\n",
       "    </tr>\n",
       "  </thead>\n",
       "  <tbody>\n",
       "    <tr>\n",
       "      <th>0</th>\n",
       "      <td>958</td>\n",
       "      <td>1</td>\n",
       "      <td>0</td>\n",
       "      <td>180.0</td>\n",
       "    </tr>\n",
       "    <tr>\n",
       "      <th>1</th>\n",
       "      <td>958</td>\n",
       "      <td>1</td>\n",
       "      <td>1</td>\n",
       "      <td>179.5</td>\n",
       "    </tr>\n",
       "    <tr>\n",
       "      <th>2</th>\n",
       "      <td>958</td>\n",
       "      <td>1</td>\n",
       "      <td>2</td>\n",
       "      <td>179.5</td>\n",
       "    </tr>\n",
       "    <tr>\n",
       "      <th>3</th>\n",
       "      <td>958</td>\n",
       "      <td>1</td>\n",
       "      <td>3</td>\n",
       "      <td>179.0</td>\n",
       "    </tr>\n",
       "    <tr>\n",
       "      <th>4</th>\n",
       "      <td>958</td>\n",
       "      <td>1</td>\n",
       "      <td>4</td>\n",
       "      <td>183.0</td>\n",
       "    </tr>\n",
       "  </tbody>\n",
       "</table>\n",
       "</div>"
      ],
      "text/plain": [
       "   listing_id  month  day_of_week  price_by_mon_dow\n",
       "0         958      1            0             180.0\n",
       "1         958      1            1             179.5\n",
       "2         958      1            2             179.5\n",
       "3         958      1            3             179.0\n",
       "4         958      1            4             183.0"
      ]
     },
     "execution_count": 24,
     "metadata": {},
     "output_type": "execute_result"
    }
   ],
   "source": [
    "df_pricing_by_mon_dow.head()"
   ]
  },
  {
   "cell_type": "code",
   "execution_count": 25,
   "metadata": {
    "ExecuteTime": {
     "end_time": "2019-02-24T10:13:45.722537Z",
     "start_time": "2019-02-24T10:13:45.664544Z"
    }
   },
   "outputs": [
    {
     "data": {
      "text/html": [
       "<div>\n",
       "<style scoped>\n",
       "    .dataframe tbody tr th:only-of-type {\n",
       "        vertical-align: middle;\n",
       "    }\n",
       "\n",
       "    .dataframe tbody tr th {\n",
       "        vertical-align: top;\n",
       "    }\n",
       "\n",
       "    .dataframe thead th {\n",
       "        text-align: right;\n",
       "    }\n",
       "</style>\n",
       "<table border=\"1\" class=\"dataframe\">\n",
       "  <thead>\n",
       "    <tr style=\"text-align: right;\">\n",
       "      <th></th>\n",
       "      <th>price_by_mon_dow</th>\n",
       "    </tr>\n",
       "  </thead>\n",
       "  <tbody>\n",
       "    <tr>\n",
       "      <th>count</th>\n",
       "      <td>625086.000000</td>\n",
       "    </tr>\n",
       "    <tr>\n",
       "      <th>mean</th>\n",
       "      <td>154.025145</td>\n",
       "    </tr>\n",
       "    <tr>\n",
       "      <th>std</th>\n",
       "      <td>97.041053</td>\n",
       "    </tr>\n",
       "    <tr>\n",
       "      <th>min</th>\n",
       "      <td>40.000000</td>\n",
       "    </tr>\n",
       "    <tr>\n",
       "      <th>25%</th>\n",
       "      <td>80.000000</td>\n",
       "    </tr>\n",
       "    <tr>\n",
       "      <th>50%</th>\n",
       "      <td>128.000000</td>\n",
       "    </tr>\n",
       "    <tr>\n",
       "      <th>75%</th>\n",
       "      <td>199.000000</td>\n",
       "    </tr>\n",
       "    <tr>\n",
       "      <th>max</th>\n",
       "      <td>500.000000</td>\n",
       "    </tr>\n",
       "  </tbody>\n",
       "</table>\n",
       "</div>"
      ],
      "text/plain": [
       "       price_by_mon_dow\n",
       "count     625086.000000\n",
       "mean         154.025145\n",
       "std           97.041053\n",
       "min           40.000000\n",
       "25%           80.000000\n",
       "50%          128.000000\n",
       "75%          199.000000\n",
       "max          500.000000"
      ]
     },
     "execution_count": 25,
     "metadata": {},
     "output_type": "execute_result"
    }
   ],
   "source": [
    "columns2display = ['price_by_mon_dow']\n",
    "\n",
    "df_pricing_by_mon_dow[columns2display].describe()"
   ]
  },
  {
   "cell_type": "markdown",
   "metadata": {
    "ExecuteTime": {
     "end_time": "2019-02-17T23:54:06.544353Z",
     "start_time": "2019-02-17T23:54:06.541120Z"
    }
   },
   "source": [
    "### Month & DOW to Dummy Variables"
   ]
  },
  {
   "cell_type": "code",
   "execution_count": 26,
   "metadata": {
    "ExecuteTime": {
     "end_time": "2019-02-24T10:13:45.731173Z",
     "start_time": "2019-02-24T10:13:45.726026Z"
    }
   },
   "outputs": [],
   "source": [
    "def get_month(number):\n",
    "    \"\"\"\n",
    "    Given a number, return the name of month.\n",
    "    \n",
    "    \"\"\"\n",
    "    month_lookup = {1:'Jan.', 2:'Feb.', 3:'Mar.', 4:'Apr.', 5:'May.', 6:'Jun.',\n",
    "                    7:'Jul.', 8:'Aug.', 9:'Sep.', 10:'Oct.', 11:'Nov.', 12:'Dec.'}\n",
    "    \n",
    "    return month_lookup[number]"
   ]
  },
  {
   "cell_type": "code",
   "execution_count": 27,
   "metadata": {
    "ExecuteTime": {
     "end_time": "2019-02-24T10:13:45.740303Z",
     "start_time": "2019-02-24T10:13:45.734453Z"
    }
   },
   "outputs": [],
   "source": [
    "def get_dow(number):\n",
    "    \"\"\"\n",
    "    Given a number, return the day of week (dow)\n",
    "    \n",
    "    \"\"\"\n",
    "    weekday_lookup = {0:'Monday', 1:'Tuesday', 2:'Wednesday', 3:'Thursday', \n",
    "                      4:'Friday', 5:'Saturday', 6:'Sunday'}\n",
    "    \n",
    "    return weekday_lookup[number]"
   ]
  },
  {
   "cell_type": "code",
   "execution_count": 28,
   "metadata": {
    "ExecuteTime": {
     "end_time": "2019-02-24T10:13:46.739987Z",
     "start_time": "2019-02-24T10:13:45.743173Z"
    }
   },
   "outputs": [],
   "source": [
    "# Added names for month, and day of week(dow) informaiton\n",
    "\n",
    "df_pricing_by_mon_dow = apply2df(df_pricing_by_mon_dow, ['month'], get_month )\n",
    "df_pricing_by_mon_dow = apply2df(df_pricing_by_mon_dow, ['day_of_week'], get_dow )"
   ]
  },
  {
   "cell_type": "code",
   "execution_count": 29,
   "metadata": {
    "ExecuteTime": {
     "end_time": "2019-02-24T10:13:46.949574Z",
     "start_time": "2019-02-24T10:13:46.742016Z"
    }
   },
   "outputs": [
    {
     "name": "stdout",
     "output_type": "stream",
     "text": [
      "df_pricing_final dimensions:  (625086, 21)\n"
     ]
    },
    {
     "data": {
      "text/html": [
       "<div>\n",
       "<style scoped>\n",
       "    .dataframe tbody tr th:only-of-type {\n",
       "        vertical-align: middle;\n",
       "    }\n",
       "\n",
       "    .dataframe tbody tr th {\n",
       "        vertical-align: top;\n",
       "    }\n",
       "\n",
       "    .dataframe thead th {\n",
       "        text-align: right;\n",
       "    }\n",
       "</style>\n",
       "<table border=\"1\" class=\"dataframe\">\n",
       "  <thead>\n",
       "    <tr style=\"text-align: right;\">\n",
       "      <th></th>\n",
       "      <th>listing_id</th>\n",
       "      <th>price_by_mon_dow</th>\n",
       "      <th>Apr.</th>\n",
       "      <th>Aug.</th>\n",
       "      <th>Dec.</th>\n",
       "      <th>Feb.</th>\n",
       "      <th>Jan.</th>\n",
       "      <th>Jul.</th>\n",
       "      <th>Jun.</th>\n",
       "      <th>Mar.</th>\n",
       "      <th>...</th>\n",
       "      <th>Nov.</th>\n",
       "      <th>Oct.</th>\n",
       "      <th>Sep.</th>\n",
       "      <th>Friday</th>\n",
       "      <th>Monday</th>\n",
       "      <th>Saturday</th>\n",
       "      <th>Sunday</th>\n",
       "      <th>Thursday</th>\n",
       "      <th>Tuesday</th>\n",
       "      <th>Wednesday</th>\n",
       "    </tr>\n",
       "  </thead>\n",
       "  <tbody>\n",
       "    <tr>\n",
       "      <th>0</th>\n",
       "      <td>958</td>\n",
       "      <td>180.0</td>\n",
       "      <td>0</td>\n",
       "      <td>0</td>\n",
       "      <td>0</td>\n",
       "      <td>0</td>\n",
       "      <td>1</td>\n",
       "      <td>0</td>\n",
       "      <td>0</td>\n",
       "      <td>0</td>\n",
       "      <td>...</td>\n",
       "      <td>0</td>\n",
       "      <td>0</td>\n",
       "      <td>0</td>\n",
       "      <td>0</td>\n",
       "      <td>1</td>\n",
       "      <td>0</td>\n",
       "      <td>0</td>\n",
       "      <td>0</td>\n",
       "      <td>0</td>\n",
       "      <td>0</td>\n",
       "    </tr>\n",
       "    <tr>\n",
       "      <th>1</th>\n",
       "      <td>958</td>\n",
       "      <td>179.5</td>\n",
       "      <td>0</td>\n",
       "      <td>0</td>\n",
       "      <td>0</td>\n",
       "      <td>0</td>\n",
       "      <td>1</td>\n",
       "      <td>0</td>\n",
       "      <td>0</td>\n",
       "      <td>0</td>\n",
       "      <td>...</td>\n",
       "      <td>0</td>\n",
       "      <td>0</td>\n",
       "      <td>0</td>\n",
       "      <td>0</td>\n",
       "      <td>0</td>\n",
       "      <td>0</td>\n",
       "      <td>0</td>\n",
       "      <td>0</td>\n",
       "      <td>1</td>\n",
       "      <td>0</td>\n",
       "    </tr>\n",
       "    <tr>\n",
       "      <th>2</th>\n",
       "      <td>958</td>\n",
       "      <td>179.5</td>\n",
       "      <td>0</td>\n",
       "      <td>0</td>\n",
       "      <td>0</td>\n",
       "      <td>0</td>\n",
       "      <td>1</td>\n",
       "      <td>0</td>\n",
       "      <td>0</td>\n",
       "      <td>0</td>\n",
       "      <td>...</td>\n",
       "      <td>0</td>\n",
       "      <td>0</td>\n",
       "      <td>0</td>\n",
       "      <td>0</td>\n",
       "      <td>0</td>\n",
       "      <td>0</td>\n",
       "      <td>0</td>\n",
       "      <td>0</td>\n",
       "      <td>0</td>\n",
       "      <td>1</td>\n",
       "    </tr>\n",
       "    <tr>\n",
       "      <th>3</th>\n",
       "      <td>958</td>\n",
       "      <td>179.0</td>\n",
       "      <td>0</td>\n",
       "      <td>0</td>\n",
       "      <td>0</td>\n",
       "      <td>0</td>\n",
       "      <td>1</td>\n",
       "      <td>0</td>\n",
       "      <td>0</td>\n",
       "      <td>0</td>\n",
       "      <td>...</td>\n",
       "      <td>0</td>\n",
       "      <td>0</td>\n",
       "      <td>0</td>\n",
       "      <td>0</td>\n",
       "      <td>0</td>\n",
       "      <td>0</td>\n",
       "      <td>0</td>\n",
       "      <td>1</td>\n",
       "      <td>0</td>\n",
       "      <td>0</td>\n",
       "    </tr>\n",
       "    <tr>\n",
       "      <th>4</th>\n",
       "      <td>958</td>\n",
       "      <td>183.0</td>\n",
       "      <td>0</td>\n",
       "      <td>0</td>\n",
       "      <td>0</td>\n",
       "      <td>0</td>\n",
       "      <td>1</td>\n",
       "      <td>0</td>\n",
       "      <td>0</td>\n",
       "      <td>0</td>\n",
       "      <td>...</td>\n",
       "      <td>0</td>\n",
       "      <td>0</td>\n",
       "      <td>0</td>\n",
       "      <td>1</td>\n",
       "      <td>0</td>\n",
       "      <td>0</td>\n",
       "      <td>0</td>\n",
       "      <td>0</td>\n",
       "      <td>0</td>\n",
       "      <td>0</td>\n",
       "    </tr>\n",
       "  </tbody>\n",
       "</table>\n",
       "<p>5 rows × 21 columns</p>\n",
       "</div>"
      ],
      "text/plain": [
       "   listing_id  price_by_mon_dow  Apr.  Aug.  Dec.  Feb.  Jan.  Jul.  Jun.  \\\n",
       "0         958             180.0     0     0     0     0     1     0     0   \n",
       "1         958             179.5     0     0     0     0     1     0     0   \n",
       "2         958             179.5     0     0     0     0     1     0     0   \n",
       "3         958             179.0     0     0     0     0     1     0     0   \n",
       "4         958             183.0     0     0     0     0     1     0     0   \n",
       "\n",
       "   Mar.    ...      Nov.  Oct.  Sep.  Friday  Monday  Saturday  Sunday  \\\n",
       "0     0    ...         0     0     0       0       1         0       0   \n",
       "1     0    ...         0     0     0       0       0         0       0   \n",
       "2     0    ...         0     0     0       0       0         0       0   \n",
       "3     0    ...         0     0     0       0       0         0       0   \n",
       "4     0    ...         0     0     0       1       0         0       0   \n",
       "\n",
       "   Thursday  Tuesday  Wednesday  \n",
       "0         0        0          0  \n",
       "1         0        1          0  \n",
       "2         0        0          1  \n",
       "3         1        0          0  \n",
       "4         0        0          0  \n",
       "\n",
       "[5 rows x 21 columns]"
      ]
     },
     "execution_count": 29,
     "metadata": {},
     "output_type": "execute_result"
    }
   ],
   "source": [
    "# Converted month, and dow information to dummy variables\n",
    "\n",
    "df_pricing_final = pd.get_dummies(df_pricing_by_mon_dow, \n",
    "                                  prefix='',\n",
    "                                  prefix_sep='',\n",
    "                                  columns=['month', 'day_of_week'])\n",
    "\n",
    "print ('df_pricing_final dimensions: ', df_pricing_final.shape)\n",
    "df_pricing_final.head()"
   ]
  },
  {
   "cell_type": "code",
   "execution_count": 30,
   "metadata": {
    "ExecuteTime": {
     "end_time": "2019-02-24T10:13:46.958673Z",
     "start_time": "2019-02-24T10:13:46.952573Z"
    }
   },
   "outputs": [
    {
     "data": {
      "text/plain": [
       "Index(['listing_id', 'price_by_mon_dow', 'Apr.', 'Aug.', 'Dec.', 'Feb.',\n",
       "       'Jan.', 'Jul.', 'Jun.', 'Mar.', 'May.', 'Nov.', 'Oct.', 'Sep.',\n",
       "       'Friday', 'Monday', 'Saturday', 'Sunday', 'Thursday', 'Tuesday',\n",
       "       'Wednesday'],\n",
       "      dtype='object')"
      ]
     },
     "execution_count": 30,
     "metadata": {},
     "output_type": "execute_result"
    }
   ],
   "source": [
    "df_pricing_final.columns"
   ]
  },
  {
   "cell_type": "markdown",
   "metadata": {
    "ExecuteTime": {
     "end_time": "2019-02-18T22:31:54.284100Z",
     "start_time": "2019-02-18T22:31:54.280699Z"
    }
   },
   "source": [
    "## Data Transformation"
   ]
  },
  {
   "cell_type": "code",
   "execution_count": 31,
   "metadata": {
    "ExecuteTime": {
     "end_time": "2019-02-24T10:13:47.187702Z",
     "start_time": "2019-02-24T10:13:46.961955Z"
    }
   },
   "outputs": [
    {
     "data": {
      "text/plain": [
       "<matplotlib.axes._subplots.AxesSubplot at 0x1c268e3f98>"
      ]
     },
     "execution_count": 31,
     "metadata": {},
     "output_type": "execute_result"
    },
    {
     "data": {
      "image/png": "[encoded data removed]",
      "text/plain": [
       "<Figure size 576x396 with 1 Axes>"
      ]
     },
     "metadata": {},
     "output_type": "display_data"
    }
   ],
   "source": [
    "df_pricing_final.price_by_mon_dow.hist()"
   ]
  },
  {
   "cell_type": "code",
   "execution_count": 32,
   "metadata": {
    "ExecuteTime": {
     "end_time": "2019-02-24T10:13:48.005788Z",
     "start_time": "2019-02-24T10:13:47.190654Z"
    }
   },
   "outputs": [],
   "source": [
    "df_pricing_final['price_by_mon_dow_log'] = df_pricing_final['price_by_mon_dow']  \\\n",
    "                                           .apply(lambda x: np.log(x))"
   ]
  },
  {
   "cell_type": "code",
   "execution_count": 33,
   "metadata": {
    "ExecuteTime": {
     "end_time": "2019-02-24T10:13:48.218593Z",
     "start_time": "2019-02-24T10:13:48.008034Z"
    }
   },
   "outputs": [
    {
     "data": {
      "text/plain": [
       "<matplotlib.axes._subplots.AxesSubplot at 0x10fc7c630>"
      ]
     },
     "execution_count": 33,
     "metadata": {},
     "output_type": "execute_result"
    },
    {
     "data": {
      "image/png": "[encoded data removed]",
      "text/plain": [
       "<Figure size 576x396 with 1 Axes>"
      ]
     },
     "metadata": {},
     "output_type": "display_data"
    }
   ],
   "source": [
    "df_pricing_final.price_by_mon_dow_log.hist()"
   ]
  },
  {
   "cell_type": "markdown",
   "metadata": {
    "ExecuteTime": {
     "end_time": "2019-02-18T03:10:45.869630Z",
     "start_time": "2019-02-18T03:10:45.866430Z"
    }
   },
   "source": [
    "## Combined Seasonality Data with Previously Identified Features"
   ]
  },
  {
   "cell_type": "code",
   "execution_count": 34,
   "metadata": {
    "ExecuteTime": {
     "end_time": "2019-02-24T10:13:48.271913Z",
     "start_time": "2019-02-24T10:13:48.221480Z"
    }
   },
   "outputs": [
    {
     "name": "stdout",
     "output_type": "stream",
     "text": [
      "df_listings_features dimensions:  (9062, 315)\n"
     ]
    },
    {
     "data": {
      "text/html": [
       "<div>\n",
       "<style scoped>\n",
       "    .dataframe tbody tr th:only-of-type {\n",
       "        vertical-align: middle;\n",
       "    }\n",
       "\n",
       "    .dataframe tbody tr th {\n",
       "        vertical-align: top;\n",
       "    }\n",
       "\n",
       "    .dataframe thead th {\n",
       "        text-align: right;\n",
       "    }\n",
       "</style>\n",
       "<table border=\"1\" class=\"dataframe\">\n",
       "  <thead>\n",
       "    <tr style=\"text-align: right;\">\n",
       "      <th></th>\n",
       "      <th>id</th>\n",
       "      <th>host_yrs</th>\n",
       "      <th>host_response_rate</th>\n",
       "      <th>host_listings_count</th>\n",
       "      <th>accommodates</th>\n",
       "      <th>bathrooms</th>\n",
       "      <th>bedrooms</th>\n",
       "      <th>beds</th>\n",
       "      <th>price</th>\n",
       "      <th>security_deposit</th>\n",
       "      <th>...</th>\n",
       "      <th>amenities_Shampoo</th>\n",
       "      <th>amenities_Single level home</th>\n",
       "      <th>amenities_Smoke detector</th>\n",
       "      <th>amenities_Stepfree access</th>\n",
       "      <th>amenities_TV</th>\n",
       "      <th>amenities_Wifi</th>\n",
       "      <th>amenities_translation missing enhosting_amenity_49</th>\n",
       "      <th>amenities_translation missing enhosting_amenity_50</th>\n",
       "      <th>ref_district</th>\n",
       "      <th>ref_jurisdiction</th>\n",
       "    </tr>\n",
       "  </thead>\n",
       "  <tbody>\n",
       "    <tr>\n",
       "      <th>0</th>\n",
       "      <td>958</td>\n",
       "      <td>12</td>\n",
       "      <td>0.92</td>\n",
       "      <td>1</td>\n",
       "      <td>3</td>\n",
       "      <td>1.0</td>\n",
       "      <td>1.0</td>\n",
       "      <td>2.0</td>\n",
       "      <td>170.0</td>\n",
       "      <td>1</td>\n",
       "      <td>...</td>\n",
       "      <td>1</td>\n",
       "      <td>0</td>\n",
       "      <td>1</td>\n",
       "      <td>0</td>\n",
       "      <td>1</td>\n",
       "      <td>1</td>\n",
       "      <td>0</td>\n",
       "      <td>0</td>\n",
       "      <td>San Francisco</td>\n",
       "      <td>SAN FRANCISCO</td>\n",
       "    </tr>\n",
       "    <tr>\n",
       "      <th>1</th>\n",
       "      <td>5858</td>\n",
       "      <td>11</td>\n",
       "      <td>1.00</td>\n",
       "      <td>2</td>\n",
       "      <td>5</td>\n",
       "      <td>1.0</td>\n",
       "      <td>2.0</td>\n",
       "      <td>3.0</td>\n",
       "      <td>235.0</td>\n",
       "      <td>1</td>\n",
       "      <td>...</td>\n",
       "      <td>1</td>\n",
       "      <td>0</td>\n",
       "      <td>1</td>\n",
       "      <td>0</td>\n",
       "      <td>0</td>\n",
       "      <td>1</td>\n",
       "      <td>0</td>\n",
       "      <td>0</td>\n",
       "      <td>San Francisco</td>\n",
       "      <td>SAN FRANCISCO</td>\n",
       "    </tr>\n",
       "    <tr>\n",
       "      <th>2</th>\n",
       "      <td>7918</td>\n",
       "      <td>11</td>\n",
       "      <td>1.00</td>\n",
       "      <td>10</td>\n",
       "      <td>2</td>\n",
       "      <td>4.0</td>\n",
       "      <td>1.0</td>\n",
       "      <td>1.0</td>\n",
       "      <td>65.0</td>\n",
       "      <td>1</td>\n",
       "      <td>...</td>\n",
       "      <td>0</td>\n",
       "      <td>0</td>\n",
       "      <td>1</td>\n",
       "      <td>0</td>\n",
       "      <td>1</td>\n",
       "      <td>1</td>\n",
       "      <td>1</td>\n",
       "      <td>1</td>\n",
       "      <td>San Francisco</td>\n",
       "      <td>SAN FRANCISCO</td>\n",
       "    </tr>\n",
       "    <tr>\n",
       "      <th>3</th>\n",
       "      <td>8142</td>\n",
       "      <td>11</td>\n",
       "      <td>1.00</td>\n",
       "      <td>10</td>\n",
       "      <td>2</td>\n",
       "      <td>4.0</td>\n",
       "      <td>1.0</td>\n",
       "      <td>1.0</td>\n",
       "      <td>65.0</td>\n",
       "      <td>1</td>\n",
       "      <td>...</td>\n",
       "      <td>0</td>\n",
       "      <td>0</td>\n",
       "      <td>1</td>\n",
       "      <td>0</td>\n",
       "      <td>1</td>\n",
       "      <td>1</td>\n",
       "      <td>0</td>\n",
       "      <td>0</td>\n",
       "      <td>San Francisco</td>\n",
       "      <td>SAN FRANCISCO</td>\n",
       "    </tr>\n",
       "    <tr>\n",
       "      <th>4</th>\n",
       "      <td>8567</td>\n",
       "      <td>11</td>\n",
       "      <td>0.80</td>\n",
       "      <td>1</td>\n",
       "      <td>6</td>\n",
       "      <td>1.0</td>\n",
       "      <td>2.0</td>\n",
       "      <td>3.0</td>\n",
       "      <td>255.0</td>\n",
       "      <td>0</td>\n",
       "      <td>...</td>\n",
       "      <td>1</td>\n",
       "      <td>0</td>\n",
       "      <td>1</td>\n",
       "      <td>0</td>\n",
       "      <td>1</td>\n",
       "      <td>1</td>\n",
       "      <td>0</td>\n",
       "      <td>0</td>\n",
       "      <td>San Francisco</td>\n",
       "      <td>SAN FRANCISCO</td>\n",
       "    </tr>\n",
       "  </tbody>\n",
       "</table>\n",
       "<p>5 rows × 315 columns</p>\n",
       "</div>"
      ],
      "text/plain": [
       "     id  host_yrs  host_response_rate  host_listings_count  accommodates  \\\n",
       "0   958        12                0.92                    1             3   \n",
       "1  5858        11                1.00                    2             5   \n",
       "2  7918        11                1.00                   10             2   \n",
       "3  8142        11                1.00                   10             2   \n",
       "4  8567        11                0.80                    1             6   \n",
       "\n",
       "   bathrooms  bedrooms  beds  price  security_deposit        ...         \\\n",
       "0        1.0       1.0   2.0  170.0                 1        ...          \n",
       "1        1.0       2.0   3.0  235.0                 1        ...          \n",
       "2        4.0       1.0   1.0   65.0                 1        ...          \n",
       "3        4.0       1.0   1.0   65.0                 1        ...          \n",
       "4        1.0       2.0   3.0  255.0                 0        ...          \n",
       "\n",
       "   amenities_Shampoo  amenities_Single level home  amenities_Smoke detector  \\\n",
       "0                  1                            0                         1   \n",
       "1                  1                            0                         1   \n",
       "2                  0                            0                         1   \n",
       "3                  0                            0                         1   \n",
       "4                  1                            0                         1   \n",
       "\n",
       "   amenities_Stepfree access  amenities_TV  amenities_Wifi  \\\n",
       "0                          0             1               1   \n",
       "1                          0             0               1   \n",
       "2                          0             1               1   \n",
       "3                          0             1               1   \n",
       "4                          0             1               1   \n",
       "\n",
       "   amenities_translation missing enhosting_amenity_49  \\\n",
       "0                                                  0    \n",
       "1                                                  0    \n",
       "2                                                  1    \n",
       "3                                                  0    \n",
       "4                                                  0    \n",
       "\n",
       "   amenities_translation missing enhosting_amenity_50   ref_district  \\\n",
       "0                                                  0   San Francisco   \n",
       "1                                                  0   San Francisco   \n",
       "2                                                  1   San Francisco   \n",
       "3                                                  0   San Francisco   \n",
       "4                                                  0   San Francisco   \n",
       "\n",
       "   ref_jurisdiction  \n",
       "0     SAN FRANCISCO  \n",
       "1     SAN FRANCISCO  \n",
       "2     SAN FRANCISCO  \n",
       "3     SAN FRANCISCO  \n",
       "4     SAN FRANCISCO  \n",
       "\n",
       "[5 rows x 315 columns]"
      ]
     },
     "execution_count": 34,
     "metadata": {},
     "output_type": "execute_result"
    }
   ],
   "source": [
    "# Loaded listings with identified important features\n",
    "\n",
    "pkl_file = '/Users/xzhou/github/project_archives/files_airbnb/{}.pkl'\n",
    "listings = pkl_file.format('df_listings_selected_features')\n",
    "\n",
    "df_listings_features = pd.read_pickle(listings)\n",
    "\n",
    "print ('df_listings_features dimensions: ', df_listings_features.shape)\n",
    "df_listings_features.head()"
   ]
  },
  {
   "cell_type": "code",
   "execution_count": 35,
   "metadata": {
    "ExecuteTime": {
     "end_time": "2019-02-24T10:13:48.282782Z",
     "start_time": "2019-02-24T10:13:48.275197Z"
    }
   },
   "outputs": [
    {
     "data": {
      "text/plain": [
       "Index(['id', 'host_yrs', 'host_response_rate', 'host_listings_count',\n",
       "       'accommodates', 'bathrooms', 'bedrooms', 'beds', 'price',\n",
       "       'security_deposit',\n",
       "       ...\n",
       "       'amenities_Shampoo', 'amenities_Single level home',\n",
       "       'amenities_Smoke detector', 'amenities_Stepfree access', 'amenities_TV',\n",
       "       'amenities_Wifi', 'amenities_translation missing enhosting_amenity_49',\n",
       "       'amenities_translation missing enhosting_amenity_50', 'ref_district',\n",
       "       'ref_jurisdiction'],\n",
       "      dtype='object', length=315)"
      ]
     },
     "execution_count": 35,
     "metadata": {},
     "output_type": "execute_result"
    }
   ],
   "source": [
    "df_listings_features.columns"
   ]
  },
  {
   "cell_type": "code",
   "execution_count": 36,
   "metadata": {
    "ExecuteTime": {
     "end_time": "2019-02-24T10:13:49.830995Z",
     "start_time": "2019-02-24T10:13:48.285726Z"
    }
   },
   "outputs": [],
   "source": [
    "# Combined listing data with seaonality information we just created\n",
    "\n",
    "df_final = pd.merge(left=df_pricing_final, \n",
    "                    right=df_listings_features,\n",
    "                    how='inner',\n",
    "                    left_on='listing_id',\n",
    "                    right_on='id')"
   ]
  },
  {
   "cell_type": "code",
   "execution_count": 37,
   "metadata": {
    "ExecuteTime": {
     "end_time": "2019-02-24T10:13:49.839439Z",
     "start_time": "2019-02-24T10:13:49.833154Z"
    }
   },
   "outputs": [
    {
     "data": {
      "text/plain": [
       "Index(['listing_id', 'price_by_mon_dow', 'Apr.', 'Aug.', 'Dec.', 'Feb.',\n",
       "       'Jan.', 'Jul.', 'Jun.', 'Mar.',\n",
       "       ...\n",
       "       'amenities_Shampoo', 'amenities_Single level home',\n",
       "       'amenities_Smoke detector', 'amenities_Stepfree access', 'amenities_TV',\n",
       "       'amenities_Wifi', 'amenities_translation missing enhosting_amenity_49',\n",
       "       'amenities_translation missing enhosting_amenity_50', 'ref_district',\n",
       "       'ref_jurisdiction'],\n",
       "      dtype='object', length=337)"
      ]
     },
     "execution_count": 37,
     "metadata": {},
     "output_type": "execute_result"
    }
   ],
   "source": [
    "df_final.columns"
   ]
  },
  {
   "cell_type": "code",
   "execution_count": 38,
   "metadata": {
    "ExecuteTime": {
     "end_time": "2019-02-24T10:13:50.623057Z",
     "start_time": "2019-02-24T10:13:49.842891Z"
    }
   },
   "outputs": [
    {
     "data": {
      "text/plain": [
       "(407498, 336)"
      ]
     },
     "execution_count": 38,
     "metadata": {},
     "output_type": "execute_result"
    }
   ],
   "source": [
    "# Dropped duplicate columns\n",
    "\n",
    "duplicate_columns = ['id']\n",
    "df_final.drop(duplicate_columns, axis=1, inplace=True)\n",
    "\n",
    "df_final.shape"
   ]
  },
  {
   "cell_type": "markdown",
   "metadata": {
    "ExecuteTime": {
     "end_time": "2019-02-18T00:26:16.558136Z",
     "start_time": "2019-02-18T00:26:16.554923Z"
    }
   },
   "source": [
    "## Features with High Correlation"
   ]
  },
  {
   "cell_type": "code",
   "execution_count": 39,
   "metadata": {
    "ExecuteTime": {
     "end_time": "2019-02-24T10:15:13.308289Z",
     "start_time": "2019-02-24T10:13:50.625728Z"
    }
   },
   "outputs": [],
   "source": [
    "# Create correlation matrix\n",
    "# Select upper triangle of correlation matrix\n",
    "\n",
    "corr_matrix = df_final.corr().abs()\n",
    "upper = corr_matrix.where(np.triu(np.ones(corr_matrix.shape), k=1).astype(np.bool))"
   ]
  },
  {
   "cell_type": "code",
   "execution_count": 40,
   "metadata": {
    "ExecuteTime": {
     "end_time": "2019-02-24T10:15:13.390831Z",
     "start_time": "2019-02-24T10:15:13.310876Z"
    }
   },
   "outputs": [
    {
     "data": {
      "text/plain": [
       "['price', 'price_log']"
      ]
     },
     "execution_count": 40,
     "metadata": {},
     "output_type": "execute_result"
    }
   ],
   "source": [
    "# Find index of feature columns with correlation greater than 0.90\n",
    "\n",
    "thresold = 0.90\n",
    "exclusion = ['price_by_mon_dow_log', 'price_by_mon_dow']\n",
    "\n",
    "to_drop = [column for column in upper.columns if any(upper[column] >= thresold)\n",
    "           and (column not in exclusion)]\n",
    "\n",
    "to_drop"
   ]
  },
  {
   "cell_type": "code",
   "execution_count": 41,
   "metadata": {
    "ExecuteTime": {
     "end_time": "2019-02-24T10:15:13.661954Z",
     "start_time": "2019-02-24T10:15:13.393726Z"
    }
   },
   "outputs": [],
   "source": [
    "# Drop features that have high correlation\n",
    "\n",
    "df_final.drop(to_drop, axis=1, inplace=True)"
   ]
  },
  {
   "cell_type": "code",
   "execution_count": 42,
   "metadata": {
    "ExecuteTime": {
     "end_time": "2019-02-24T10:15:13.670246Z",
     "start_time": "2019-02-24T10:15:13.664026Z"
    }
   },
   "outputs": [
    {
     "data": {
      "text/plain": [
       "(407498, 334)"
      ]
     },
     "execution_count": 42,
     "metadata": {},
     "output_type": "execute_result"
    }
   ],
   "source": [
    "df_final.shape"
   ]
  },
  {
   "cell_type": "code",
   "execution_count": 43,
   "metadata": {
    "ExecuteTime": {
     "end_time": "2019-02-24T10:15:14.694111Z",
     "start_time": "2019-02-24T10:15:13.672973Z"
    }
   },
   "outputs": [],
   "source": [
    "# Store the data prior to modeling\n",
    "# When there're changes, mark file_updated as true. Changes'll be written to local files\n",
    "# Otherwise, mark file_updated as false. Data will be loaded from existing files\n",
    "\n",
    "file_updated = True\n",
    "pkl_file = '/Users/xzhou/github/project_archives/files_airbnb/{}.pkl'\n",
    "listings_seasonality = pkl_file.format('listings_seasonality')\n",
    "\n",
    "\n",
    "if file_updated:\n",
    "    with open(listings_seasonality, 'wb') as file:\n",
    "        pd.to_pickle(df_final, file)\n",
    "else:\n",
    "    try: \n",
    "        with open(listings_seasonality, 'rb') as file:\n",
    "            df_final = pd.read_pickle(file)\n",
    "    except:\n",
    "        with open(listings_seasonality, 'wb') as file:\n",
    "            pd.to_pickle(df_final, file)"
   ]
  },
  {
   "cell_type": "markdown",
   "metadata": {},
   "source": [
    "# Modeling"
   ]
  },
  {
   "cell_type": "code",
   "execution_count": 44,
   "metadata": {
    "ExecuteTime": {
     "end_time": "2019-02-24T10:15:14.702510Z",
     "start_time": "2019-02-24T10:15:14.696600Z"
    }
   },
   "outputs": [
    {
     "data": {
      "text/plain": [
       "Index(['listing_id', 'price_by_mon_dow', 'Apr.', 'Aug.', 'Dec.', 'Feb.',\n",
       "       'Jan.', 'Jul.', 'Jun.', 'Mar.',\n",
       "       ...\n",
       "       'amenities_Shampoo', 'amenities_Single level home',\n",
       "       'amenities_Smoke detector', 'amenities_Stepfree access', 'amenities_TV',\n",
       "       'amenities_Wifi', 'amenities_translation missing enhosting_amenity_49',\n",
       "       'amenities_translation missing enhosting_amenity_50', 'ref_district',\n",
       "       'ref_jurisdiction'],\n",
       "      dtype='object', length=334)"
      ]
     },
     "execution_count": 44,
     "metadata": {},
     "output_type": "execute_result"
    }
   ],
   "source": [
    "df_final.columns"
   ]
  },
  {
   "cell_type": "code",
   "execution_count": 45,
   "metadata": {
    "ExecuteTime": {
     "end_time": "2019-02-24T10:15:14.778629Z",
     "start_time": "2019-02-24T10:15:14.705266Z"
    }
   },
   "outputs": [
    {
     "data": {
      "text/plain": [
       "Index(['ref_district', 'ref_jurisdiction'], dtype='object')"
      ]
     },
     "execution_count": 45,
     "metadata": {},
     "output_type": "execute_result"
    }
   ],
   "source": [
    "df_final.select_dtypes(include =['object']).columns"
   ]
  },
  {
   "cell_type": "code",
   "execution_count": 46,
   "metadata": {
    "ExecuteTime": {
     "end_time": "2019-02-24T10:15:15.030335Z",
     "start_time": "2019-02-24T10:15:14.782058Z"
    }
   },
   "outputs": [],
   "source": [
    "# Multiple modelings will be performed for price prediction\n",
    "# Data include 'listing_id', which will be used for stratified sampling\n",
    "\n",
    "X = df_final.drop(['price_by_mon_dow_log', 'price_by_mon_dow', \n",
    "                   'ref_district', 'ref_jurisdiction'], axis=1)\n",
    "y = df_final.loc[:, ['listing_id', 'price_by_mon_dow_log']]"
   ]
  },
  {
   "cell_type": "markdown",
   "metadata": {
    "ExecuteTime": {
     "end_time": "2019-02-18T01:18:22.084154Z",
     "start_time": "2019-02-18T01:18:22.081097Z"
    }
   },
   "source": [
    "## Model Preprocessing"
   ]
  },
  {
   "cell_type": "markdown",
   "metadata": {
    "ExecuteTime": {
     "end_time": "2019-02-18T01:08:15.234738Z",
     "start_time": "2019-02-18T01:08:15.231675Z"
    }
   },
   "source": [
    "### Train and Test Sets Splits"
   ]
  },
  {
   "cell_type": "code",
   "execution_count": 47,
   "metadata": {
    "ExecuteTime": {
     "end_time": "2019-02-24T10:15:17.082698Z",
     "start_time": "2019-02-24T10:15:15.032639Z"
    }
   },
   "outputs": [],
   "source": [
    "# Stratified sampling to prevent information leakage\n",
    "# Identified all available listing_ids and split by listing_ids\n",
    "\n",
    "grp_by_listing_ids = df_final.groupby('listing_id').first().reset_index().listing_id\n",
    "listing_ids = list(grp_by_listing_ids)"
   ]
  },
  {
   "cell_type": "code",
   "execution_count": 48,
   "metadata": {
    "ExecuteTime": {
     "end_time": "2019-02-24T10:15:17.094174Z",
     "start_time": "2019-02-24T10:15:17.085156Z"
    }
   },
   "outputs": [
    {
     "name": "stdout",
     "output_type": "stream",
     "text": [
      "5814\n"
     ]
    },
    {
     "data": {
      "text/plain": [
       "array([25809348,    62214,  6810714, ..., 12025202, 20311264, 22108513])"
      ]
     },
     "execution_count": 48,
     "metadata": {},
     "output_type": "execute_result"
    }
   ],
   "source": [
    "num_of_grps = len(grp_by_listing_ids)\n",
    "training_ids = np.random.choice(listing_ids, int(num_of_grps*0.7),\n",
    "                                replace=False)\n",
    "\n",
    "print(len(training_ids))\n",
    "training_ids"
   ]
  },
  {
   "cell_type": "code",
   "execution_count": 49,
   "metadata": {
    "ExecuteTime": {
     "end_time": "2019-02-24T10:15:17.109282Z",
     "start_time": "2019-02-24T10:15:17.097558Z"
    }
   },
   "outputs": [
    {
     "data": {
      "text/plain": [
       "2493"
      ]
     },
     "execution_count": 49,
     "metadata": {},
     "output_type": "execute_result"
    }
   ],
   "source": [
    "testing_ids = set(grp_by_listing_ids) - set (training_ids)\n",
    "\n",
    "len(testing_ids)"
   ]
  },
  {
   "cell_type": "code",
   "execution_count": 50,
   "metadata": {
    "ExecuteTime": {
     "end_time": "2019-02-24T10:15:17.879344Z",
     "start_time": "2019-02-24T10:15:17.112665Z"
    }
   },
   "outputs": [
    {
     "name": "stdout",
     "output_type": "stream",
     "text": [
      "284420 123078 284420 123078\n"
     ]
    }
   ],
   "source": [
    "# Stratified sampling: splited train and test sets. \n",
    "# Dropped 'listing_id' column\n",
    "\n",
    "X_train = X[X['listing_id'].isin(training_ids)].drop('listing_id', axis=1)\n",
    "X_test = X[X['listing_id'].isin(testing_ids)].drop('listing_id', axis=1)\n",
    "\n",
    "y_train = y[y['listing_id'].isin(training_ids)].drop('listing_id', axis=1).values.ravel()\n",
    "y_test = y[y['listing_id'].isin(testing_ids)].drop('listing_id', axis=1).values.ravel()\n",
    "\n",
    "print(len(X_train), len(X_test), len(y_train), len(y_test))"
   ]
  },
  {
   "cell_type": "markdown",
   "metadata": {
    "ExecuteTime": {
     "end_time": "2019-02-18T01:17:48.722476Z",
     "start_time": "2019-02-18T01:17:48.718285Z"
    }
   },
   "source": [
    "### Feature Normalization"
   ]
  },
  {
   "cell_type": "code",
   "execution_count": 51,
   "metadata": {
    "ExecuteTime": {
     "end_time": "2019-02-24T10:15:22.398950Z",
     "start_time": "2019-02-24T10:15:17.882495Z"
    }
   },
   "outputs": [],
   "source": [
    "ss = StandardScaler()\n",
    "X_train_trans = ss.fit_transform(X_train)\n",
    "X_test_trans = ss.transform (X_test)"
   ]
  },
  {
   "cell_type": "markdown",
   "metadata": {},
   "source": [
    "## Linear Regression"
   ]
  },
  {
   "cell_type": "markdown",
   "metadata": {},
   "source": [
    "### Simple Linear Regression"
   ]
  },
  {
   "cell_type": "code",
   "execution_count": 52,
   "metadata": {
    "ExecuteTime": {
     "end_time": "2019-02-24T10:15:40.954914Z",
     "start_time": "2019-02-24T10:15:22.401266Z"
    }
   },
   "outputs": [
    {
     "data": {
      "text/html": [
       "<table class=\"simpletable\">\n",
       "<caption>OLS Regression Results</caption>\n",
       "<tr>\n",
       "  <th>Dep. Variable:</th>            <td>y</td>        <th>  R-squared:         </th> <td>   0.739</td> \n",
       "</tr>\n",
       "<tr>\n",
       "  <th>Model:</th>                   <td>OLS</td>       <th>  Adj. R-squared:    </th> <td>   0.739</td> \n",
       "</tr>\n",
       "<tr>\n",
       "  <th>Method:</th>             <td>Least Squares</td>  <th>  F-statistic:       </th> <td>   2652.</td> \n",
       "</tr>\n",
       "<tr>\n",
       "  <th>Date:</th>             <td>Sun, 24 Feb 2019</td> <th>  Prob (F-statistic):</th>  <td>  0.00</td>  \n",
       "</tr>\n",
       "<tr>\n",
       "  <th>Time:</th>                 <td>02:15:40</td>     <th>  Log-Likelihood:    </th> <td> -58087.</td> \n",
       "</tr>\n",
       "<tr>\n",
       "  <th>No. Observations:</th>      <td>284420</td>      <th>  AIC:               </th> <td>1.168e+05</td>\n",
       "</tr>\n",
       "<tr>\n",
       "  <th>Df Residuals:</th>          <td>284116</td>      <th>  BIC:               </th> <td>1.200e+05</td>\n",
       "</tr>\n",
       "<tr>\n",
       "  <th>Df Model:</th>              <td>   303</td>      <th>                     </th>     <td> </td>    \n",
       "</tr>\n",
       "<tr>\n",
       "  <th>Covariance Type:</th>      <td>nonrobust</td>    <th>                     </th>     <td> </td>    \n",
       "</tr>\n",
       "</table>\n",
       "<table class=\"simpletable\">\n",
       "<tr>\n",
       "    <td></td>       <th>coef</th>     <th>std err</th>      <th>t</th>      <th>P>|t|</th>  <th>[0.025</th>    <th>0.975]</th>  \n",
       "</tr>\n",
       "<tr>\n",
       "  <th>const</th> <td>    4.8287</td> <td>    0.001</td> <td> 8669.368</td> <td> 0.000</td> <td>    4.828</td> <td>    4.830</td>\n",
       "</tr>\n",
       "<tr>\n",
       "  <th>x1</th>    <td>-1.676e+08</td> <td> 1.23e+09</td> <td>   -0.136</td> <td> 0.892</td> <td>-2.58e+09</td> <td> 2.24e+09</td>\n",
       "</tr>\n",
       "<tr>\n",
       "  <th>x2</th>    <td>-1.924e+08</td> <td> 1.41e+09</td> <td>   -0.136</td> <td> 0.892</td> <td>-2.96e+09</td> <td> 2.57e+09</td>\n",
       "</tr>\n",
       "<tr>\n",
       "  <th>x3</th>    <td>-1.896e+08</td> <td> 1.39e+09</td> <td>   -0.136</td> <td> 0.892</td> <td>-2.91e+09</td> <td> 2.54e+09</td>\n",
       "</tr>\n",
       "<tr>\n",
       "  <th>x4</th>    <td> -1.82e+08</td> <td> 1.34e+09</td> <td>   -0.136</td> <td> 0.892</td> <td> -2.8e+09</td> <td> 2.43e+09</td>\n",
       "</tr>\n",
       "<tr>\n",
       "  <th>x5</th>    <td>-1.905e+08</td> <td>  1.4e+09</td> <td>   -0.136</td> <td> 0.892</td> <td>-2.93e+09</td> <td> 2.55e+09</td>\n",
       "</tr>\n",
       "<tr>\n",
       "  <th>x6</th>    <td>-1.616e+08</td> <td> 1.19e+09</td> <td>   -0.136</td> <td> 0.892</td> <td>-2.48e+09</td> <td> 2.16e+09</td>\n",
       "</tr>\n",
       "<tr>\n",
       "  <th>x7</th>    <td>-1.613e+08</td> <td> 1.18e+09</td> <td>   -0.136</td> <td> 0.892</td> <td>-2.48e+09</td> <td> 2.16e+09</td>\n",
       "</tr>\n",
       "<tr>\n",
       "  <th>x8</th>    <td>-1.675e+08</td> <td> 1.23e+09</td> <td>   -0.136</td> <td> 0.892</td> <td>-2.58e+09</td> <td> 2.24e+09</td>\n",
       "</tr>\n",
       "<tr>\n",
       "  <th>x9</th>    <td>-1.657e+08</td> <td> 1.22e+09</td> <td>   -0.136</td> <td> 0.892</td> <td>-2.55e+09</td> <td> 2.22e+09</td>\n",
       "</tr>\n",
       "<tr>\n",
       "  <th>x10</th>   <td>-1.995e+08</td> <td> 1.46e+09</td> <td>   -0.136</td> <td> 0.892</td> <td>-3.07e+09</td> <td> 2.67e+09</td>\n",
       "</tr>\n",
       "<tr>\n",
       "  <th>x11</th>   <td>-1.989e+08</td> <td> 1.46e+09</td> <td>   -0.136</td> <td> 0.892</td> <td>-3.06e+09</td> <td> 2.66e+09</td>\n",
       "</tr>\n",
       "<tr>\n",
       "  <th>x12</th>   <td>-1.894e+08</td> <td> 1.39e+09</td> <td>   -0.136</td> <td> 0.892</td> <td>-2.91e+09</td> <td> 2.53e+09</td>\n",
       "</tr>\n",
       "<tr>\n",
       "  <th>x13</th>   <td> 5.505e+08</td> <td> 9.22e+09</td> <td>    0.060</td> <td> 0.952</td> <td>-1.75e+10</td> <td> 1.86e+10</td>\n",
       "</tr>\n",
       "<tr>\n",
       "  <th>x14</th>   <td> 5.482e+08</td> <td> 9.18e+09</td> <td>    0.060</td> <td> 0.952</td> <td>-1.75e+10</td> <td> 1.85e+10</td>\n",
       "</tr>\n",
       "<tr>\n",
       "  <th>x15</th>   <td> 5.467e+08</td> <td> 9.16e+09</td> <td>    0.060</td> <td> 0.952</td> <td>-1.74e+10</td> <td> 1.85e+10</td>\n",
       "</tr>\n",
       "<tr>\n",
       "  <th>x16</th>   <td> 5.487e+08</td> <td> 9.19e+09</td> <td>    0.060</td> <td> 0.952</td> <td>-1.75e+10</td> <td> 1.86e+10</td>\n",
       "</tr>\n",
       "<tr>\n",
       "  <th>x17</th>   <td> 5.496e+08</td> <td> 9.21e+09</td> <td>    0.060</td> <td> 0.952</td> <td>-1.75e+10</td> <td> 1.86e+10</td>\n",
       "</tr>\n",
       "<tr>\n",
       "  <th>x18</th>   <td> 5.444e+08</td> <td> 9.12e+09</td> <td>    0.060</td> <td> 0.952</td> <td>-1.73e+10</td> <td> 1.84e+10</td>\n",
       "</tr>\n",
       "<tr>\n",
       "  <th>x19</th>   <td>  5.45e+08</td> <td> 9.13e+09</td> <td>    0.060</td> <td> 0.952</td> <td>-1.73e+10</td> <td> 1.84e+10</td>\n",
       "</tr>\n",
       "<tr>\n",
       "  <th>x20</th>   <td>    0.0043</td> <td>    0.001</td> <td>    5.469</td> <td> 0.000</td> <td>    0.003</td> <td>    0.006</td>\n",
       "</tr>\n",
       "<tr>\n",
       "  <th>x21</th>   <td>    0.0044</td> <td>    0.001</td> <td>    4.190</td> <td> 0.000</td> <td>    0.002</td> <td>    0.007</td>\n",
       "</tr>\n",
       "<tr>\n",
       "  <th>x22</th>   <td>    0.0273</td> <td>    0.001</td> <td>   30.756</td> <td> 0.000</td> <td>    0.026</td> <td>    0.029</td>\n",
       "</tr>\n",
       "<tr>\n",
       "  <th>x23</th>   <td>    0.1327</td> <td>    0.001</td> <td>  104.272</td> <td> 0.000</td> <td>    0.130</td> <td>    0.135</td>\n",
       "</tr>\n",
       "<tr>\n",
       "  <th>x24</th>   <td>   -0.0111</td> <td>    0.001</td> <td>  -15.690</td> <td> 0.000</td> <td>   -0.012</td> <td>   -0.010</td>\n",
       "</tr>\n",
       "<tr>\n",
       "  <th>x25</th>   <td>    0.1122</td> <td>    0.001</td> <td>  111.113</td> <td> 0.000</td> <td>    0.110</td> <td>    0.114</td>\n",
       "</tr>\n",
       "<tr>\n",
       "  <th>x26</th>   <td>   -0.0111</td> <td>    0.001</td> <td>  -10.158</td> <td> 0.000</td> <td>   -0.013</td> <td>   -0.009</td>\n",
       "</tr>\n",
       "<tr>\n",
       "  <th>x27</th>   <td>    0.0027</td> <td>    0.001</td> <td>    4.372</td> <td> 0.000</td> <td>    0.001</td> <td>    0.004</td>\n",
       "</tr>\n",
       "<tr>\n",
       "  <th>x28</th>   <td>    0.0384</td> <td>    0.001</td> <td>   47.136</td> <td> 0.000</td> <td>    0.037</td> <td>    0.040</td>\n",
       "</tr>\n",
       "<tr>\n",
       "  <th>x29</th>   <td>    0.0307</td> <td>    0.001</td> <td>   39.601</td> <td> 0.000</td> <td>    0.029</td> <td>    0.032</td>\n",
       "</tr>\n",
       "<tr>\n",
       "  <th>x30</th>   <td>   -0.0262</td> <td>    0.001</td> <td>  -38.364</td> <td> 0.000</td> <td>   -0.028</td> <td>   -0.025</td>\n",
       "</tr>\n",
       "<tr>\n",
       "  <th>x31</th>   <td>   -0.0016</td> <td>    0.001</td> <td>   -1.505</td> <td> 0.132</td> <td>   -0.004</td> <td>    0.000</td>\n",
       "</tr>\n",
       "<tr>\n",
       "  <th>x32</th>   <td>   -0.0192</td> <td>    0.001</td> <td>  -18.695</td> <td> 0.000</td> <td>   -0.021</td> <td>   -0.017</td>\n",
       "</tr>\n",
       "<tr>\n",
       "  <th>x33</th>   <td>    0.0253</td> <td>    0.001</td> <td>   20.236</td> <td> 0.000</td> <td>    0.023</td> <td>    0.028</td>\n",
       "</tr>\n",
       "<tr>\n",
       "  <th>x34</th>   <td>    0.0050</td> <td>    0.001</td> <td>    5.034</td> <td> 0.000</td> <td>    0.003</td> <td>    0.007</td>\n",
       "</tr>\n",
       "<tr>\n",
       "  <th>x35</th>   <td>    0.0535</td> <td>    0.001</td> <td>   58.761</td> <td> 0.000</td> <td>    0.052</td> <td>    0.055</td>\n",
       "</tr>\n",
       "<tr>\n",
       "  <th>x36</th>   <td>    0.0008</td> <td>    0.001</td> <td>    0.972</td> <td> 0.331</td> <td>   -0.001</td> <td>    0.003</td>\n",
       "</tr>\n",
       "<tr>\n",
       "  <th>x37</th>   <td>   -0.0012</td> <td>    0.001</td> <td>   -1.191</td> <td> 0.234</td> <td>   -0.003</td> <td>    0.001</td>\n",
       "</tr>\n",
       "<tr>\n",
       "  <th>x38</th>   <td>    0.0186</td> <td>    0.001</td> <td>   22.491</td> <td> 0.000</td> <td>    0.017</td> <td>    0.020</td>\n",
       "</tr>\n",
       "<tr>\n",
       "  <th>x39</th>   <td>   -0.0403</td> <td>    0.001</td> <td>  -42.055</td> <td> 0.000</td> <td>   -0.042</td> <td>   -0.038</td>\n",
       "</tr>\n",
       "<tr>\n",
       "  <th>x40</th>   <td>   -0.0558</td> <td>    0.001</td> <td>  -61.380</td> <td> 0.000</td> <td>   -0.058</td> <td>   -0.054</td>\n",
       "</tr>\n",
       "<tr>\n",
       "  <th>x41</th>   <td>   -0.0252</td> <td>    0.001</td> <td>  -24.647</td> <td> 0.000</td> <td>   -0.027</td> <td>   -0.023</td>\n",
       "</tr>\n",
       "<tr>\n",
       "  <th>x42</th>   <td>  3.83e+04</td> <td>  1.7e+06</td> <td>    0.023</td> <td> 0.982</td> <td>-3.29e+06</td> <td> 3.37e+06</td>\n",
       "</tr>\n",
       "<tr>\n",
       "  <th>x43</th>   <td> 1.146e+05</td> <td> 5.08e+06</td> <td>    0.023</td> <td> 0.982</td> <td>-9.84e+06</td> <td> 1.01e+07</td>\n",
       "</tr>\n",
       "<tr>\n",
       "  <th>x44</th>   <td> 1.541e+05</td> <td> 6.83e+06</td> <td>    0.023</td> <td> 0.982</td> <td>-1.32e+07</td> <td> 1.35e+07</td>\n",
       "</tr>\n",
       "<tr>\n",
       "  <th>x45</th>   <td>  1.76e+05</td> <td>  7.8e+06</td> <td>    0.023</td> <td> 0.982</td> <td>-1.51e+07</td> <td> 1.55e+07</td>\n",
       "</tr>\n",
       "<tr>\n",
       "  <th>x46</th>   <td>   -0.0299</td> <td>    0.001</td> <td>  -43.821</td> <td> 0.000</td> <td>   -0.031</td> <td>   -0.029</td>\n",
       "</tr>\n",
       "<tr>\n",
       "  <th>x47</th>   <td>    0.0076</td> <td>    0.001</td> <td>   13.063</td> <td> 0.000</td> <td>    0.007</td> <td>    0.009</td>\n",
       "</tr>\n",
       "<tr>\n",
       "  <th>x48</th>   <td>   -0.0162</td> <td>    0.001</td> <td>  -24.436</td> <td> 0.000</td> <td>   -0.018</td> <td>   -0.015</td>\n",
       "</tr>\n",
       "<tr>\n",
       "  <th>x49</th>   <td> 1.581e+06</td> <td> 2.29e+07</td> <td>    0.069</td> <td> 0.945</td> <td>-4.33e+07</td> <td> 4.65e+07</td>\n",
       "</tr>\n",
       "<tr>\n",
       "  <th>x50</th>   <td> 3.999e+04</td> <td> 8.53e+05</td> <td>    0.047</td> <td> 0.963</td> <td>-1.63e+06</td> <td> 1.71e+06</td>\n",
       "</tr>\n",
       "<tr>\n",
       "  <th>x51</th>   <td> 1.679e+04</td> <td> 3.58e+05</td> <td>    0.047</td> <td> 0.963</td> <td>-6.85e+05</td> <td> 7.19e+05</td>\n",
       "</tr>\n",
       "<tr>\n",
       "  <th>x52</th>   <td> 1.522e+04</td> <td> 3.25e+05</td> <td>    0.047</td> <td> 0.963</td> <td>-6.21e+05</td> <td> 6.52e+05</td>\n",
       "</tr>\n",
       "<tr>\n",
       "  <th>x53</th>   <td> 8551.3298</td> <td> 1.82e+05</td> <td>    0.047</td> <td> 0.963</td> <td>-3.49e+05</td> <td> 3.66e+05</td>\n",
       "</tr>\n",
       "<tr>\n",
       "  <th>x54</th>   <td> 7.049e+05</td> <td> 6.66e+06</td> <td>    0.106</td> <td> 0.916</td> <td>-1.23e+07</td> <td> 1.38e+07</td>\n",
       "</tr>\n",
       "<tr>\n",
       "  <th>x55</th>   <td> 5.401e+04</td> <td> 1.15e+06</td> <td>    0.047</td> <td> 0.963</td> <td> -2.2e+06</td> <td> 2.31e+06</td>\n",
       "</tr>\n",
       "<tr>\n",
       "  <th>x56</th>   <td> 6089.5149</td> <td>  1.3e+05</td> <td>    0.047</td> <td> 0.963</td> <td>-2.49e+05</td> <td> 2.61e+05</td>\n",
       "</tr>\n",
       "<tr>\n",
       "  <th>x57</th>   <td> 8.476e+04</td> <td> 1.81e+06</td> <td>    0.047</td> <td> 0.963</td> <td>-3.46e+06</td> <td> 3.63e+06</td>\n",
       "</tr>\n",
       "<tr>\n",
       "  <th>x58</th>   <td> 1.495e+04</td> <td> 3.19e+05</td> <td>    0.047</td> <td> 0.963</td> <td> -6.1e+05</td> <td>  6.4e+05</td>\n",
       "</tr>\n",
       "<tr>\n",
       "  <th>x59</th>   <td> 5.344e+04</td> <td> 1.14e+06</td> <td>    0.047</td> <td> 0.963</td> <td>-2.18e+06</td> <td> 2.29e+06</td>\n",
       "</tr>\n",
       "<tr>\n",
       "  <th>x60</th>   <td> 1.636e+04</td> <td> 3.49e+05</td> <td>    0.047</td> <td> 0.963</td> <td>-6.68e+05</td> <td>    7e+05</td>\n",
       "</tr>\n",
       "<tr>\n",
       "  <th>x61</th>   <td>-7.754e+04</td> <td> 1.28e+06</td> <td>   -0.060</td> <td> 0.952</td> <td>-2.59e+06</td> <td> 2.44e+06</td>\n",
       "</tr>\n",
       "<tr>\n",
       "  <th>x62</th>   <td> 1.698e+04</td> <td> 3.62e+05</td> <td>    0.047</td> <td> 0.963</td> <td>-6.93e+05</td> <td> 7.27e+05</td>\n",
       "</tr>\n",
       "<tr>\n",
       "  <th>x63</th>   <td> 8.198e+04</td> <td> 1.75e+06</td> <td>    0.047</td> <td> 0.963</td> <td>-3.35e+06</td> <td> 3.51e+06</td>\n",
       "</tr>\n",
       "<tr>\n",
       "  <th>x64</th>   <td> 1.834e+04</td> <td> 3.91e+05</td> <td>    0.047</td> <td> 0.963</td> <td>-7.49e+05</td> <td> 7.85e+05</td>\n",
       "</tr>\n",
       "<tr>\n",
       "  <th>x65</th>   <td>  4.52e+04</td> <td> 9.64e+05</td> <td>    0.047</td> <td> 0.963</td> <td>-1.84e+06</td> <td> 1.94e+06</td>\n",
       "</tr>\n",
       "<tr>\n",
       "  <th>x66</th>   <td> 1.438e+04</td> <td> 3.07e+05</td> <td>    0.047</td> <td> 0.963</td> <td>-5.87e+05</td> <td> 6.16e+05</td>\n",
       "</tr>\n",
       "<tr>\n",
       "  <th>x67</th>   <td> 3.055e+04</td> <td> 6.52e+05</td> <td>    0.047</td> <td> 0.963</td> <td>-1.25e+06</td> <td> 1.31e+06</td>\n",
       "</tr>\n",
       "<tr>\n",
       "  <th>x68</th>   <td> 3.956e+04</td> <td> 8.44e+05</td> <td>    0.047</td> <td> 0.963</td> <td>-1.61e+06</td> <td> 1.69e+06</td>\n",
       "</tr>\n",
       "<tr>\n",
       "  <th>x69</th>   <td> 1.777e+04</td> <td> 3.79e+05</td> <td>    0.047</td> <td> 0.963</td> <td>-7.25e+05</td> <td> 7.61e+05</td>\n",
       "</tr>\n",
       "<tr>\n",
       "  <th>x70</th>   <td> 5.574e+05</td> <td>  7.8e+06</td> <td>    0.071</td> <td> 0.943</td> <td>-1.47e+07</td> <td> 1.58e+07</td>\n",
       "</tr>\n",
       "<tr>\n",
       "  <th>x71</th>   <td> 3.441e+04</td> <td> 7.34e+05</td> <td>    0.047</td> <td> 0.963</td> <td> -1.4e+06</td> <td> 1.47e+06</td>\n",
       "</tr>\n",
       "<tr>\n",
       "  <th>x72</th>   <td> 2.459e+04</td> <td> 5.25e+05</td> <td>    0.047</td> <td> 0.963</td> <td>   -1e+06</td> <td> 1.05e+06</td>\n",
       "</tr>\n",
       "<tr>\n",
       "  <th>x73</th>   <td>-4.079e+05</td> <td> 6.75e+06</td> <td>   -0.060</td> <td> 0.952</td> <td>-1.36e+07</td> <td> 1.28e+07</td>\n",
       "</tr>\n",
       "<tr>\n",
       "  <th>x74</th>   <td> 1.967e+04</td> <td>  4.2e+05</td> <td>    0.047</td> <td> 0.963</td> <td>-8.03e+05</td> <td> 8.42e+05</td>\n",
       "</tr>\n",
       "<tr>\n",
       "  <th>x75</th>   <td>  1.35e+04</td> <td> 2.88e+05</td> <td>    0.047</td> <td> 0.963</td> <td>-5.51e+05</td> <td> 5.78e+05</td>\n",
       "</tr>\n",
       "<tr>\n",
       "  <th>x76</th>   <td> 1.035e+04</td> <td> 2.21e+05</td> <td>    0.047</td> <td> 0.963</td> <td>-4.22e+05</td> <td> 4.43e+05</td>\n",
       "</tr>\n",
       "<tr>\n",
       "  <th>x77</th>   <td> 8.956e+04</td> <td> 1.91e+06</td> <td>    0.047</td> <td> 0.963</td> <td>-3.66e+06</td> <td> 3.83e+06</td>\n",
       "</tr>\n",
       "<tr>\n",
       "  <th>x78</th>   <td> 1.196e+04</td> <td> 2.55e+05</td> <td>    0.047</td> <td> 0.963</td> <td>-4.88e+05</td> <td> 5.12e+05</td>\n",
       "</tr>\n",
       "<tr>\n",
       "  <th>x79</th>   <td> 1.179e+04</td> <td> 2.52e+05</td> <td>    0.047</td> <td> 0.963</td> <td>-4.81e+05</td> <td> 5.05e+05</td>\n",
       "</tr>\n",
       "<tr>\n",
       "  <th>x80</th>   <td> 1.157e+04</td> <td> 2.47e+05</td> <td>    0.047</td> <td> 0.963</td> <td>-4.72e+05</td> <td> 4.95e+05</td>\n",
       "</tr>\n",
       "<tr>\n",
       "  <th>x81</th>   <td> 2.785e+04</td> <td> 5.94e+05</td> <td>    0.047</td> <td> 0.963</td> <td>-1.14e+06</td> <td> 1.19e+06</td>\n",
       "</tr>\n",
       "<tr>\n",
       "  <th>x82</th>   <td>-4.466e+05</td> <td> 7.51e+06</td> <td>   -0.059</td> <td> 0.953</td> <td>-1.52e+07</td> <td> 1.43e+07</td>\n",
       "</tr>\n",
       "<tr>\n",
       "  <th>x83</th>   <td> 5.886e+04</td> <td> 1.26e+06</td> <td>    0.047</td> <td> 0.963</td> <td> -2.4e+06</td> <td> 2.52e+06</td>\n",
       "</tr>\n",
       "<tr>\n",
       "  <th>x84</th>   <td> 1.442e+04</td> <td> 3.08e+05</td> <td>    0.047</td> <td> 0.963</td> <td>-5.89e+05</td> <td> 6.17e+05</td>\n",
       "</tr>\n",
       "<tr>\n",
       "  <th>x85</th>   <td> 1.218e+04</td> <td>  2.6e+05</td> <td>    0.047</td> <td> 0.963</td> <td>-4.97e+05</td> <td> 5.21e+05</td>\n",
       "</tr>\n",
       "<tr>\n",
       "  <th>x86</th>   <td> 3.386e+04</td> <td> 7.22e+05</td> <td>    0.047</td> <td> 0.963</td> <td>-1.38e+06</td> <td> 1.45e+06</td>\n",
       "</tr>\n",
       "<tr>\n",
       "  <th>x87</th>   <td> 4.343e+04</td> <td> 9.27e+05</td> <td>    0.047</td> <td> 0.963</td> <td>-1.77e+06</td> <td> 1.86e+06</td>\n",
       "</tr>\n",
       "<tr>\n",
       "  <th>x88</th>   <td> 1.315e+04</td> <td> 2.81e+05</td> <td>    0.047</td> <td> 0.963</td> <td>-5.37e+05</td> <td> 5.63e+05</td>\n",
       "</tr>\n",
       "<tr>\n",
       "  <th>x89</th>   <td> 2.151e+04</td> <td> 4.59e+05</td> <td>    0.047</td> <td> 0.963</td> <td>-8.78e+05</td> <td> 9.21e+05</td>\n",
       "</tr>\n",
       "<tr>\n",
       "  <th>x90</th>   <td> 6808.1688</td> <td> 1.45e+05</td> <td>    0.047</td> <td> 0.963</td> <td>-2.78e+05</td> <td> 2.91e+05</td>\n",
       "</tr>\n",
       "<tr>\n",
       "  <th>x91</th>   <td> 2.516e+04</td> <td> 5.37e+05</td> <td>    0.047</td> <td> 0.963</td> <td>-1.03e+06</td> <td> 1.08e+06</td>\n",
       "</tr>\n",
       "<tr>\n",
       "  <th>x92</th>   <td> 6957.7951</td> <td> 1.48e+05</td> <td>    0.047</td> <td> 0.963</td> <td>-2.84e+05</td> <td> 2.98e+05</td>\n",
       "</tr>\n",
       "<tr>\n",
       "  <th>x93</th>   <td>  1.42e+04</td> <td> 3.03e+05</td> <td>    0.047</td> <td> 0.963</td> <td> -5.8e+05</td> <td> 6.08e+05</td>\n",
       "</tr>\n",
       "<tr>\n",
       "  <th>x94</th>   <td> 1.868e+04</td> <td> 3.98e+05</td> <td>    0.047</td> <td> 0.963</td> <td>-7.62e+05</td> <td>    8e+05</td>\n",
       "</tr>\n",
       "<tr>\n",
       "  <th>x95</th>   <td>  3.39e+04</td> <td> 7.23e+05</td> <td>    0.047</td> <td> 0.963</td> <td>-1.38e+06</td> <td> 1.45e+06</td>\n",
       "</tr>\n",
       "<tr>\n",
       "  <th>x96</th>   <td> 3.355e+04</td> <td> 7.16e+05</td> <td>    0.047</td> <td> 0.963</td> <td>-1.37e+06</td> <td> 1.44e+06</td>\n",
       "</tr>\n",
       "<tr>\n",
       "  <th>x97</th>   <td> 2.876e+04</td> <td> 6.14e+05</td> <td>    0.047</td> <td> 0.963</td> <td>-1.17e+06</td> <td> 1.23e+06</td>\n",
       "</tr>\n",
       "<tr>\n",
       "  <th>x98</th>   <td> 1.192e+04</td> <td> 2.54e+05</td> <td>    0.047</td> <td> 0.963</td> <td>-4.87e+05</td> <td>  5.1e+05</td>\n",
       "</tr>\n",
       "<tr>\n",
       "  <th>x99</th>   <td> 1.941e+04</td> <td> 4.14e+05</td> <td>    0.047</td> <td> 0.963</td> <td>-7.92e+05</td> <td> 8.31e+05</td>\n",
       "</tr>\n",
       "<tr>\n",
       "  <th>x100</th>  <td> 3.472e+04</td> <td> 7.41e+05</td> <td>    0.047</td> <td> 0.963</td> <td>-1.42e+06</td> <td> 1.49e+06</td>\n",
       "</tr>\n",
       "<tr>\n",
       "  <th>x101</th>  <td> 8.013e+04</td> <td> 1.71e+06</td> <td>    0.047</td> <td> 0.963</td> <td>-3.27e+06</td> <td> 3.43e+06</td>\n",
       "</tr>\n",
       "<tr>\n",
       "  <th>x102</th>  <td>-2.659e+06</td> <td> 4.45e+07</td> <td>   -0.060</td> <td> 0.952</td> <td>   -9e+07</td> <td> 8.46e+07</td>\n",
       "</tr>\n",
       "<tr>\n",
       "  <th>x103</th>  <td> 8182.1203</td> <td> 1.75e+05</td> <td>    0.047</td> <td> 0.963</td> <td>-3.34e+05</td> <td>  3.5e+05</td>\n",
       "</tr>\n",
       "<tr>\n",
       "  <th>x104</th>  <td> 2486.1642</td> <td>  5.3e+04</td> <td>    0.047</td> <td> 0.963</td> <td>-1.01e+05</td> <td> 1.06e+05</td>\n",
       "</tr>\n",
       "<tr>\n",
       "  <th>x105</th>  <td> 9301.0991</td> <td> 1.98e+05</td> <td>    0.047</td> <td> 0.963</td> <td> -3.8e+05</td> <td> 3.98e+05</td>\n",
       "</tr>\n",
       "<tr>\n",
       "  <th>x106</th>  <td>  1.01e+04</td> <td> 2.15e+05</td> <td>    0.047</td> <td> 0.963</td> <td>-4.12e+05</td> <td> 4.32e+05</td>\n",
       "</tr>\n",
       "<tr>\n",
       "  <th>x107</th>  <td> 5074.6915</td> <td> 1.08e+05</td> <td>    0.047</td> <td> 0.963</td> <td>-2.07e+05</td> <td> 2.17e+05</td>\n",
       "</tr>\n",
       "<tr>\n",
       "  <th>x108</th>  <td> 3.177e+04</td> <td> 6.78e+05</td> <td>    0.047</td> <td> 0.963</td> <td> -1.3e+06</td> <td> 1.36e+06</td>\n",
       "</tr>\n",
       "<tr>\n",
       "  <th>x109</th>  <td> 7.365e+04</td> <td> 1.57e+06</td> <td>    0.047</td> <td> 0.963</td> <td>-3.01e+06</td> <td> 3.15e+06</td>\n",
       "</tr>\n",
       "<tr>\n",
       "  <th>x110</th>  <td>  5.58e+04</td> <td> 1.19e+06</td> <td>    0.047</td> <td> 0.963</td> <td>-2.28e+06</td> <td> 2.39e+06</td>\n",
       "</tr>\n",
       "<tr>\n",
       "  <th>x111</th>  <td>  2.31e+04</td> <td> 4.93e+05</td> <td>    0.047</td> <td> 0.963</td> <td>-9.43e+05</td> <td> 9.89e+05</td>\n",
       "</tr>\n",
       "<tr>\n",
       "  <th>x112</th>  <td> 1.417e+04</td> <td> 3.02e+05</td> <td>    0.047</td> <td> 0.963</td> <td>-5.78e+05</td> <td> 6.07e+05</td>\n",
       "</tr>\n",
       "<tr>\n",
       "  <th>x113</th>  <td> 9627.4575</td> <td> 2.05e+05</td> <td>    0.047</td> <td> 0.963</td> <td>-3.93e+05</td> <td> 4.12e+05</td>\n",
       "</tr>\n",
       "<tr>\n",
       "  <th>x114</th>  <td> 5.524e+04</td> <td> 1.18e+06</td> <td>    0.047</td> <td> 0.963</td> <td>-2.25e+06</td> <td> 2.36e+06</td>\n",
       "</tr>\n",
       "<tr>\n",
       "  <th>x115</th>  <td> 1.948e+04</td> <td> 4.16e+05</td> <td>    0.047</td> <td> 0.963</td> <td>-7.95e+05</td> <td> 8.34e+05</td>\n",
       "</tr>\n",
       "<tr>\n",
       "  <th>x116</th>  <td> 2.365e+06</td> <td> 3.96e+07</td> <td>    0.060</td> <td> 0.952</td> <td>-7.53e+07</td> <td>    8e+07</td>\n",
       "</tr>\n",
       "<tr>\n",
       "  <th>x117</th>  <td> 9301.1057</td> <td> 1.98e+05</td> <td>    0.047</td> <td> 0.963</td> <td> -3.8e+05</td> <td> 3.98e+05</td>\n",
       "</tr>\n",
       "<tr>\n",
       "  <th>x118</th>  <td> 1.025e+04</td> <td> 2.19e+05</td> <td>    0.047</td> <td> 0.963</td> <td>-4.18e+05</td> <td> 4.39e+05</td>\n",
       "</tr>\n",
       "<tr>\n",
       "  <th>x119</th>  <td> 2.215e+04</td> <td> 4.73e+05</td> <td>    0.047</td> <td> 0.963</td> <td>-9.04e+05</td> <td> 9.48e+05</td>\n",
       "</tr>\n",
       "<tr>\n",
       "  <th>x120</th>  <td> 9133.5408</td> <td> 1.95e+05</td> <td>    0.047</td> <td> 0.963</td> <td>-3.73e+05</td> <td> 3.91e+05</td>\n",
       "</tr>\n",
       "<tr>\n",
       "  <th>x121</th>  <td>  4.44e+04</td> <td> 9.47e+05</td> <td>    0.047</td> <td> 0.963</td> <td>-1.81e+06</td> <td>  1.9e+06</td>\n",
       "</tr>\n",
       "<tr>\n",
       "  <th>x122</th>  <td>-4.402e+04</td> <td> 7.28e+05</td> <td>   -0.060</td> <td> 0.952</td> <td>-1.47e+06</td> <td> 1.38e+06</td>\n",
       "</tr>\n",
       "<tr>\n",
       "  <th>x123</th>  <td> 1.731e+04</td> <td> 3.69e+05</td> <td>    0.047</td> <td> 0.963</td> <td>-7.06e+05</td> <td> 7.41e+05</td>\n",
       "</tr>\n",
       "<tr>\n",
       "  <th>x124</th>  <td> 5.931e+04</td> <td> 1.27e+06</td> <td>    0.047</td> <td> 0.963</td> <td>-2.42e+06</td> <td> 2.54e+06</td>\n",
       "</tr>\n",
       "<tr>\n",
       "  <th>x125</th>  <td> 1.854e+04</td> <td> 3.96e+05</td> <td>    0.047</td> <td> 0.963</td> <td>-7.57e+05</td> <td> 7.94e+05</td>\n",
       "</tr>\n",
       "<tr>\n",
       "  <th>x126</th>  <td> 1.903e+04</td> <td> 4.06e+05</td> <td>    0.047</td> <td> 0.963</td> <td>-7.77e+05</td> <td> 8.15e+05</td>\n",
       "</tr>\n",
       "<tr>\n",
       "  <th>x127</th>  <td> 4651.0626</td> <td> 9.92e+04</td> <td>    0.047</td> <td> 0.963</td> <td> -1.9e+05</td> <td> 1.99e+05</td>\n",
       "</tr>\n",
       "<tr>\n",
       "  <th>x128</th>  <td> 1.725e+04</td> <td> 3.68e+05</td> <td>    0.047</td> <td> 0.963</td> <td>-7.04e+05</td> <td> 7.38e+05</td>\n",
       "</tr>\n",
       "<tr>\n",
       "  <th>x129</th>  <td> 3.395e+04</td> <td> 7.24e+05</td> <td>    0.047</td> <td> 0.963</td> <td>-1.39e+06</td> <td> 1.45e+06</td>\n",
       "</tr>\n",
       "<tr>\n",
       "  <th>x130</th>  <td> 9189.7369</td> <td> 1.96e+05</td> <td>    0.047</td> <td> 0.963</td> <td>-3.75e+05</td> <td> 3.93e+05</td>\n",
       "</tr>\n",
       "<tr>\n",
       "  <th>x131</th>  <td> 2.925e+04</td> <td> 6.24e+05</td> <td>    0.047</td> <td> 0.963</td> <td>-1.19e+06</td> <td> 1.25e+06</td>\n",
       "</tr>\n",
       "<tr>\n",
       "  <th>x132</th>  <td> 1.185e+05</td> <td> 2.53e+06</td> <td>    0.047</td> <td> 0.963</td> <td>-4.84e+06</td> <td> 5.07e+06</td>\n",
       "</tr>\n",
       "<tr>\n",
       "  <th>x133</th>  <td> 2.955e+04</td> <td>  6.3e+05</td> <td>    0.047</td> <td> 0.963</td> <td>-1.21e+06</td> <td> 1.27e+06</td>\n",
       "</tr>\n",
       "<tr>\n",
       "  <th>x134</th>  <td> 2029.9527</td> <td> 4.33e+04</td> <td>    0.047</td> <td> 0.963</td> <td>-8.29e+04</td> <td> 8.69e+04</td>\n",
       "</tr>\n",
       "<tr>\n",
       "  <th>x135</th>  <td> 1.719e+04</td> <td> 3.67e+05</td> <td>    0.047</td> <td> 0.963</td> <td>-7.01e+05</td> <td> 7.36e+05</td>\n",
       "</tr>\n",
       "<tr>\n",
       "  <th>x136</th>  <td>-3.252e+04</td> <td> 5.38e+05</td> <td>   -0.060</td> <td> 0.952</td> <td>-1.09e+06</td> <td> 1.02e+06</td>\n",
       "</tr>\n",
       "<tr>\n",
       "  <th>x137</th>  <td> 1.045e+04</td> <td> 2.23e+05</td> <td>    0.047</td> <td> 0.963</td> <td>-4.26e+05</td> <td> 4.47e+05</td>\n",
       "</tr>\n",
       "<tr>\n",
       "  <th>x138</th>  <td> 7.132e+04</td> <td> 1.52e+06</td> <td>    0.047</td> <td> 0.963</td> <td>-2.91e+06</td> <td> 3.05e+06</td>\n",
       "</tr>\n",
       "<tr>\n",
       "  <th>x139</th>  <td>  8.03e+04</td> <td> 1.71e+06</td> <td>    0.047</td> <td> 0.963</td> <td>-3.28e+06</td> <td> 3.44e+06</td>\n",
       "</tr>\n",
       "<tr>\n",
       "  <th>x140</th>  <td> 5.317e+04</td> <td> 1.13e+06</td> <td>    0.047</td> <td> 0.963</td> <td>-2.17e+06</td> <td> 2.28e+06</td>\n",
       "</tr>\n",
       "<tr>\n",
       "  <th>x141</th>  <td> 1.201e+04</td> <td> 2.56e+05</td> <td>    0.047</td> <td> 0.963</td> <td> -4.9e+05</td> <td> 5.14e+05</td>\n",
       "</tr>\n",
       "<tr>\n",
       "  <th>x142</th>  <td>  2.41e+04</td> <td> 5.14e+05</td> <td>    0.047</td> <td> 0.963</td> <td>-9.84e+05</td> <td> 1.03e+06</td>\n",
       "</tr>\n",
       "<tr>\n",
       "  <th>x143</th>  <td> 2.416e+06</td> <td> 4.05e+07</td> <td>    0.060</td> <td> 0.952</td> <td>-7.69e+07</td> <td> 8.17e+07</td>\n",
       "</tr>\n",
       "<tr>\n",
       "  <th>x144</th>  <td> 2.956e+04</td> <td> 6.31e+05</td> <td>    0.047</td> <td> 0.963</td> <td>-1.21e+06</td> <td> 1.27e+06</td>\n",
       "</tr>\n",
       "<tr>\n",
       "  <th>x145</th>  <td> 3.062e+04</td> <td> 6.53e+05</td> <td>    0.047</td> <td> 0.963</td> <td>-1.25e+06</td> <td> 1.31e+06</td>\n",
       "</tr>\n",
       "<tr>\n",
       "  <th>x146</th>  <td> 4.252e+04</td> <td> 9.07e+05</td> <td>    0.047</td> <td> 0.963</td> <td>-1.74e+06</td> <td> 1.82e+06</td>\n",
       "</tr>\n",
       "<tr>\n",
       "  <th>x147</th>  <td> 1.906e+04</td> <td> 4.07e+05</td> <td>    0.047</td> <td> 0.963</td> <td>-7.78e+05</td> <td> 8.16e+05</td>\n",
       "</tr>\n",
       "<tr>\n",
       "  <th>x148</th>  <td> 6.471e+04</td> <td> 1.38e+06</td> <td>    0.047</td> <td> 0.963</td> <td>-2.64e+06</td> <td> 2.77e+06</td>\n",
       "</tr>\n",
       "<tr>\n",
       "  <th>x149</th>  <td> 5.648e+04</td> <td>  1.2e+06</td> <td>    0.047</td> <td> 0.963</td> <td>-2.31e+06</td> <td> 2.42e+06</td>\n",
       "</tr>\n",
       "<tr>\n",
       "  <th>x150</th>  <td> 7.571e+04</td> <td> 1.62e+06</td> <td>    0.047</td> <td> 0.963</td> <td>-3.09e+06</td> <td> 3.24e+06</td>\n",
       "</tr>\n",
       "<tr>\n",
       "  <th>x151</th>  <td> 4.878e+04</td> <td> 1.04e+06</td> <td>    0.047</td> <td> 0.963</td> <td>-1.99e+06</td> <td> 2.09e+06</td>\n",
       "</tr>\n",
       "<tr>\n",
       "  <th>x152</th>  <td>-6.368e+05</td> <td> 1.05e+07</td> <td>   -0.060</td> <td> 0.952</td> <td>-2.13e+07</td> <td>    2e+07</td>\n",
       "</tr>\n",
       "<tr>\n",
       "  <th>x153</th>  <td> 1.307e+04</td> <td> 2.79e+05</td> <td>    0.047</td> <td> 0.963</td> <td>-5.34e+05</td> <td>  5.6e+05</td>\n",
       "</tr>\n",
       "<tr>\n",
       "  <th>x154</th>  <td> 2.387e+04</td> <td> 5.09e+05</td> <td>    0.047</td> <td> 0.963</td> <td>-9.74e+05</td> <td> 1.02e+06</td>\n",
       "</tr>\n",
       "<tr>\n",
       "  <th>x155</th>  <td>  5.24e+04</td> <td> 1.12e+06</td> <td>    0.047</td> <td> 0.963</td> <td>-2.14e+06</td> <td> 2.24e+06</td>\n",
       "</tr>\n",
       "<tr>\n",
       "  <th>x156</th>  <td> 1.535e+04</td> <td> 3.28e+05</td> <td>    0.047</td> <td> 0.963</td> <td>-6.27e+05</td> <td> 6.57e+05</td>\n",
       "</tr>\n",
       "<tr>\n",
       "  <th>x157</th>  <td> 6577.3537</td> <td>  1.4e+05</td> <td>    0.047</td> <td> 0.963</td> <td>-2.68e+05</td> <td> 2.82e+05</td>\n",
       "</tr>\n",
       "<tr>\n",
       "  <th>x158</th>  <td> 5650.8817</td> <td> 1.21e+05</td> <td>    0.047</td> <td> 0.963</td> <td>-2.31e+05</td> <td> 2.42e+05</td>\n",
       "</tr>\n",
       "<tr>\n",
       "  <th>x159</th>  <td> 3.906e+04</td> <td> 8.33e+05</td> <td>    0.047</td> <td> 0.963</td> <td>-1.59e+06</td> <td> 1.67e+06</td>\n",
       "</tr>\n",
       "<tr>\n",
       "  <th>x160</th>  <td> 2.909e+04</td> <td> 6.21e+05</td> <td>    0.047</td> <td> 0.963</td> <td>-1.19e+06</td> <td> 1.25e+06</td>\n",
       "</tr>\n",
       "<tr>\n",
       "  <th>x161</th>  <td> 1.315e+04</td> <td> 2.81e+05</td> <td>    0.047</td> <td> 0.963</td> <td>-5.37e+05</td> <td> 5.63e+05</td>\n",
       "</tr>\n",
       "<tr>\n",
       "  <th>x162</th>  <td> 6.639e+04</td> <td> 1.42e+06</td> <td>    0.047</td> <td> 0.963</td> <td>-2.71e+06</td> <td> 2.84e+06</td>\n",
       "</tr>\n",
       "<tr>\n",
       "  <th>x163</th>  <td> 4.038e+04</td> <td> 8.62e+05</td> <td>    0.047</td> <td> 0.963</td> <td>-1.65e+06</td> <td> 1.73e+06</td>\n",
       "</tr>\n",
       "<tr>\n",
       "  <th>x164</th>  <td>-3.614e+06</td> <td> 6.06e+07</td> <td>   -0.060</td> <td> 0.952</td> <td>-1.22e+08</td> <td> 1.15e+08</td>\n",
       "</tr>\n",
       "<tr>\n",
       "  <th>x165</th>  <td> 1.903e+04</td> <td> 4.06e+05</td> <td>    0.047</td> <td> 0.963</td> <td>-7.77e+05</td> <td> 8.15e+05</td>\n",
       "</tr>\n",
       "<tr>\n",
       "  <th>x166</th>  <td> 1.859e+04</td> <td> 3.97e+05</td> <td>    0.047</td> <td> 0.963</td> <td>-7.59e+05</td> <td> 7.96e+05</td>\n",
       "</tr>\n",
       "<tr>\n",
       "  <th>x167</th>  <td> 1.739e+04</td> <td> 3.71e+05</td> <td>    0.047</td> <td> 0.963</td> <td> -7.1e+05</td> <td> 7.45e+05</td>\n",
       "</tr>\n",
       "<tr>\n",
       "  <th>x168</th>  <td> 1.315e+04</td> <td> 2.81e+05</td> <td>    0.047</td> <td> 0.963</td> <td>-5.37e+05</td> <td> 5.63e+05</td>\n",
       "</tr>\n",
       "<tr>\n",
       "  <th>x169</th>  <td> 3.395e+04</td> <td> 7.24e+05</td> <td>    0.047</td> <td> 0.963</td> <td>-1.39e+06</td> <td> 1.45e+06</td>\n",
       "</tr>\n",
       "<tr>\n",
       "  <th>x170</th>  <td> 2.382e+04</td> <td> 5.08e+05</td> <td>    0.047</td> <td> 0.963</td> <td>-9.72e+05</td> <td> 1.02e+06</td>\n",
       "</tr>\n",
       "<tr>\n",
       "  <th>x171</th>  <td> 2.876e+04</td> <td> 6.14e+05</td> <td>    0.047</td> <td> 0.963</td> <td>-1.17e+06</td> <td> 1.23e+06</td>\n",
       "</tr>\n",
       "<tr>\n",
       "  <th>x172</th>  <td> 4.172e+04</td> <td>  8.9e+05</td> <td>    0.047</td> <td> 0.963</td> <td> -1.7e+06</td> <td> 1.79e+06</td>\n",
       "</tr>\n",
       "<tr>\n",
       "  <th>x173</th>  <td> 1.209e+04</td> <td> 2.58e+05</td> <td>    0.047</td> <td> 0.963</td> <td>-4.94e+05</td> <td> 5.18e+05</td>\n",
       "</tr>\n",
       "<tr>\n",
       "  <th>x174</th>  <td>-1.014e+06</td> <td> 1.68e+07</td> <td>   -0.060</td> <td> 0.952</td> <td>-3.39e+07</td> <td> 3.19e+07</td>\n",
       "</tr>\n",
       "<tr>\n",
       "  <th>x175</th>  <td> 1.064e+04</td> <td> 2.27e+05</td> <td>    0.047</td> <td> 0.963</td> <td>-4.34e+05</td> <td> 4.56e+05</td>\n",
       "</tr>\n",
       "<tr>\n",
       "  <th>x176</th>  <td>-5.536e+05</td> <td> 9.16e+06</td> <td>   -0.060</td> <td> 0.952</td> <td>-1.85e+07</td> <td> 1.74e+07</td>\n",
       "</tr>\n",
       "<tr>\n",
       "  <th>x177</th>  <td> 3.384e+04</td> <td> 7.22e+05</td> <td>    0.047</td> <td> 0.963</td> <td>-1.38e+06</td> <td> 1.45e+06</td>\n",
       "</tr>\n",
       "<tr>\n",
       "  <th>x178</th>  <td> 7594.6851</td> <td> 1.62e+05</td> <td>    0.047</td> <td> 0.963</td> <td> -3.1e+05</td> <td> 3.25e+05</td>\n",
       "</tr>\n",
       "<tr>\n",
       "  <th>x179</th>  <td> 2.919e+06</td> <td> 4.89e+07</td> <td>    0.060</td> <td> 0.952</td> <td> -9.3e+07</td> <td> 9.88e+07</td>\n",
       "</tr>\n",
       "<tr>\n",
       "  <th>x180</th>  <td> 2.573e+04</td> <td> 5.49e+05</td> <td>    0.047</td> <td> 0.963</td> <td>-1.05e+06</td> <td>  1.1e+06</td>\n",
       "</tr>\n",
       "<tr>\n",
       "  <th>x181</th>  <td> 5830.2995</td> <td> 1.24e+05</td> <td>    0.047</td> <td> 0.963</td> <td>-2.38e+05</td> <td>  2.5e+05</td>\n",
       "</tr>\n",
       "<tr>\n",
       "  <th>x182</th>  <td> 1.848e+04</td> <td> 3.94e+05</td> <td>    0.047</td> <td> 0.963</td> <td>-7.54e+05</td> <td> 7.91e+05</td>\n",
       "</tr>\n",
       "<tr>\n",
       "  <th>x183</th>  <td> 3.405e+04</td> <td> 7.26e+05</td> <td>    0.047</td> <td> 0.963</td> <td>-1.39e+06</td> <td> 1.46e+06</td>\n",
       "</tr>\n",
       "<tr>\n",
       "  <th>x184</th>  <td> 1.005e+04</td> <td> 2.14e+05</td> <td>    0.047</td> <td> 0.963</td> <td> -4.1e+05</td> <td>  4.3e+05</td>\n",
       "</tr>\n",
       "<tr>\n",
       "  <th>x185</th>  <td> 2.243e+04</td> <td> 4.78e+05</td> <td>    0.047</td> <td> 0.963</td> <td>-9.15e+05</td> <td>  9.6e+05</td>\n",
       "</tr>\n",
       "<tr>\n",
       "  <th>x186</th>  <td> 1.673e+04</td> <td> 3.57e+05</td> <td>    0.047</td> <td> 0.963</td> <td>-6.83e+05</td> <td> 7.16e+05</td>\n",
       "</tr>\n",
       "<tr>\n",
       "  <th>x187</th>  <td> 1.763e+04</td> <td> 3.76e+05</td> <td>    0.047</td> <td> 0.963</td> <td> -7.2e+05</td> <td> 7.55e+05</td>\n",
       "</tr>\n",
       "<tr>\n",
       "  <th>x188</th>  <td> 1.376e+04</td> <td> 2.94e+05</td> <td>    0.047</td> <td> 0.963</td> <td>-5.62e+05</td> <td> 5.89e+05</td>\n",
       "</tr>\n",
       "<tr>\n",
       "  <th>x189</th>  <td> 9.576e+04</td> <td> 2.04e+06</td> <td>    0.047</td> <td> 0.963</td> <td>-3.91e+06</td> <td>  4.1e+06</td>\n",
       "</tr>\n",
       "<tr>\n",
       "  <th>x190</th>  <td> -5.81e+05</td> <td> 9.61e+06</td> <td>   -0.060</td> <td> 0.952</td> <td>-1.94e+07</td> <td> 1.83e+07</td>\n",
       "</tr>\n",
       "<tr>\n",
       "  <th>x191</th>  <td>  4.04e+04</td> <td> 8.62e+05</td> <td>    0.047</td> <td> 0.963</td> <td>-1.65e+06</td> <td> 1.73e+06</td>\n",
       "</tr>\n",
       "<tr>\n",
       "  <th>x192</th>  <td> 9573.8239</td> <td> 2.04e+05</td> <td>    0.047</td> <td> 0.963</td> <td>-3.91e+05</td> <td>  4.1e+05</td>\n",
       "</tr>\n",
       "<tr>\n",
       "  <th>x193</th>  <td>   1.8e+04</td> <td> 3.84e+05</td> <td>    0.047</td> <td> 0.963</td> <td>-7.35e+05</td> <td> 7.71e+05</td>\n",
       "</tr>\n",
       "<tr>\n",
       "  <th>x194</th>  <td> 1.135e+04</td> <td> 2.42e+05</td> <td>    0.047</td> <td> 0.963</td> <td>-4.63e+05</td> <td> 4.86e+05</td>\n",
       "</tr>\n",
       "<tr>\n",
       "  <th>x195</th>  <td> 4.136e+04</td> <td> 8.82e+05</td> <td>    0.047</td> <td> 0.963</td> <td>-1.69e+06</td> <td> 1.77e+06</td>\n",
       "</tr>\n",
       "<tr>\n",
       "  <th>x196</th>  <td>-1.004e+05</td> <td> 1.66e+06</td> <td>   -0.060</td> <td> 0.952</td> <td>-3.36e+06</td> <td> 3.15e+06</td>\n",
       "</tr>\n",
       "<tr>\n",
       "  <th>x197</th>  <td> 2.144e+04</td> <td> 4.57e+05</td> <td>    0.047</td> <td> 0.963</td> <td>-8.75e+05</td> <td> 9.18e+05</td>\n",
       "</tr>\n",
       "<tr>\n",
       "  <th>x198</th>  <td> 2.299e+04</td> <td>  4.9e+05</td> <td>    0.047</td> <td> 0.963</td> <td>-9.38e+05</td> <td> 9.84e+05</td>\n",
       "</tr>\n",
       "<tr>\n",
       "  <th>x199</th>  <td> 1.474e+04</td> <td> 3.14e+05</td> <td>    0.047</td> <td> 0.963</td> <td>-6.02e+05</td> <td> 6.31e+05</td>\n",
       "</tr>\n",
       "<tr>\n",
       "  <th>x200</th>  <td> 3.613e+04</td> <td> 7.71e+05</td> <td>    0.047</td> <td> 0.963</td> <td>-1.47e+06</td> <td> 1.55e+06</td>\n",
       "</tr>\n",
       "<tr>\n",
       "  <th>x201</th>  <td> 3.315e+04</td> <td> 7.07e+05</td> <td>    0.047</td> <td> 0.963</td> <td>-1.35e+06</td> <td> 1.42e+06</td>\n",
       "</tr>\n",
       "<tr>\n",
       "  <th>x202</th>  <td> 1.327e+04</td> <td> 2.83e+05</td> <td>    0.047</td> <td> 0.963</td> <td>-5.42e+05</td> <td> 5.68e+05</td>\n",
       "</tr>\n",
       "<tr>\n",
       "  <th>x203</th>  <td> 7247.7860</td> <td> 1.55e+05</td> <td>    0.047</td> <td> 0.963</td> <td>-2.96e+05</td> <td>  3.1e+05</td>\n",
       "</tr>\n",
       "<tr>\n",
       "  <th>x204</th>  <td> 5.341e+04</td> <td> 1.14e+06</td> <td>    0.047</td> <td> 0.963</td> <td>-2.18e+06</td> <td> 2.29e+06</td>\n",
       "</tr>\n",
       "<tr>\n",
       "  <th>x205</th>  <td> 9.772e+04</td> <td> 2.08e+06</td> <td>    0.047</td> <td> 0.963</td> <td>-3.99e+06</td> <td> 4.18e+06</td>\n",
       "</tr>\n",
       "<tr>\n",
       "  <th>x206</th>  <td> 9301.0958</td> <td> 1.98e+05</td> <td>    0.047</td> <td> 0.963</td> <td> -3.8e+05</td> <td> 3.98e+05</td>\n",
       "</tr>\n",
       "<tr>\n",
       "  <th>x207</th>  <td> 5273.7571</td> <td> 1.13e+05</td> <td>    0.047</td> <td> 0.963</td> <td>-2.15e+05</td> <td> 2.26e+05</td>\n",
       "</tr>\n",
       "<tr>\n",
       "  <th>x208</th>  <td> 2.421e+04</td> <td> 2.89e+05</td> <td>    0.084</td> <td> 0.933</td> <td>-5.43e+05</td> <td> 5.92e+05</td>\n",
       "</tr>\n",
       "<tr>\n",
       "  <th>x209</th>  <td> 9.705e+04</td> <td> 1.16e+06</td> <td>    0.084</td> <td> 0.933</td> <td>-2.18e+06</td> <td> 2.37e+06</td>\n",
       "</tr>\n",
       "<tr>\n",
       "  <th>x210</th>  <td> 2.123e+04</td> <td> 3.56e+05</td> <td>    0.060</td> <td> 0.952</td> <td>-6.76e+05</td> <td> 7.18e+05</td>\n",
       "</tr>\n",
       "<tr>\n",
       "  <th>x211</th>  <td>   -0.0009</td> <td>    0.001</td> <td>   -1.682</td> <td> 0.093</td> <td>   -0.002</td> <td>    0.000</td>\n",
       "</tr>\n",
       "<tr>\n",
       "  <th>x212</th>  <td>   -0.0003</td> <td>    0.001</td> <td>   -0.477</td> <td> 0.633</td> <td>   -0.001</td> <td>    0.001</td>\n",
       "</tr>\n",
       "<tr>\n",
       "  <th>x213</th>  <td> 7.437e+04</td> <td> 8.89e+05</td> <td>    0.084</td> <td> 0.933</td> <td>-1.67e+06</td> <td> 1.82e+06</td>\n",
       "</tr>\n",
       "<tr>\n",
       "  <th>x214</th>  <td> 2.865e+04</td> <td> 3.42e+05</td> <td>    0.084</td> <td> 0.933</td> <td>-6.43e+05</td> <td>    7e+05</td>\n",
       "</tr>\n",
       "<tr>\n",
       "  <th>x215</th>  <td>    0.0037</td> <td>    0.001</td> <td>    6.154</td> <td> 0.000</td> <td>    0.003</td> <td>    0.005</td>\n",
       "</tr>\n",
       "<tr>\n",
       "  <th>x216</th>  <td>-1.474e+04</td> <td> 2.47e+05</td> <td>   -0.060</td> <td> 0.952</td> <td>-4.99e+05</td> <td> 4.69e+05</td>\n",
       "</tr>\n",
       "<tr>\n",
       "  <th>x217</th>  <td> 6.226e+05</td> <td> 7.44e+06</td> <td>    0.084</td> <td> 0.933</td> <td> -1.4e+07</td> <td> 1.52e+07</td>\n",
       "</tr>\n",
       "<tr>\n",
       "  <th>x218</th>  <td> 5.172e+04</td> <td> 6.18e+05</td> <td>    0.084</td> <td> 0.933</td> <td>-1.16e+06</td> <td> 1.26e+06</td>\n",
       "</tr>\n",
       "<tr>\n",
       "  <th>x219</th>  <td>  -61.3368</td> <td> 1027.728</td> <td>   -0.060</td> <td> 0.952</td> <td>-2075.656</td> <td> 1952.982</td>\n",
       "</tr>\n",
       "<tr>\n",
       "  <th>x220</th>  <td> 8.322e+05</td> <td> 9.95e+06</td> <td>    0.084</td> <td> 0.933</td> <td>-1.87e+07</td> <td> 2.03e+07</td>\n",
       "</tr>\n",
       "<tr>\n",
       "  <th>x221</th>  <td>  2.05e+04</td> <td> 2.45e+05</td> <td>    0.084</td> <td> 0.933</td> <td> -4.6e+05</td> <td> 5.01e+05</td>\n",
       "</tr>\n",
       "<tr>\n",
       "  <th>x222</th>  <td>   -0.0004</td> <td>    0.001</td> <td>   -0.644</td> <td> 0.520</td> <td>   -0.001</td> <td>    0.001</td>\n",
       "</tr>\n",
       "<tr>\n",
       "  <th>x223</th>  <td>   -0.0069</td> <td>    0.001</td> <td>  -12.153</td> <td> 0.000</td> <td>   -0.008</td> <td>   -0.006</td>\n",
       "</tr>\n",
       "<tr>\n",
       "  <th>x224</th>  <td>    0.0020</td> <td>    0.001</td> <td>    3.491</td> <td> 0.000</td> <td>    0.001</td> <td>    0.003</td>\n",
       "</tr>\n",
       "<tr>\n",
       "  <th>x225</th>  <td>    0.0011</td> <td>    0.001</td> <td>    1.848</td> <td> 0.065</td> <td> -6.4e-05</td> <td>    0.002</td>\n",
       "</tr>\n",
       "<tr>\n",
       "  <th>x226</th>  <td>    0.0005</td> <td>    0.001</td> <td>    0.867</td> <td> 0.386</td> <td>   -0.001</td> <td>    0.002</td>\n",
       "</tr>\n",
       "<tr>\n",
       "  <th>x227</th>  <td> 4.027e+04</td> <td>  3.3e+05</td> <td>    0.122</td> <td> 0.903</td> <td>-6.06e+05</td> <td> 6.87e+05</td>\n",
       "</tr>\n",
       "<tr>\n",
       "  <th>x228</th>  <td> 6.952e+05</td> <td> 5.69e+06</td> <td>    0.122</td> <td> 0.903</td> <td>-1.05e+07</td> <td> 1.19e+07</td>\n",
       "</tr>\n",
       "<tr>\n",
       "  <th>x229</th>  <td>  594.7531</td> <td> 9965.377</td> <td>    0.060</td> <td> 0.952</td> <td>-1.89e+04</td> <td> 2.01e+04</td>\n",
       "</tr>\n",
       "<tr>\n",
       "  <th>x230</th>  <td> 1.051e+05</td> <td> 8.61e+05</td> <td>    0.122</td> <td> 0.903</td> <td>-1.58e+06</td> <td> 1.79e+06</td>\n",
       "</tr>\n",
       "<tr>\n",
       "  <th>x231</th>  <td> 5.012e+04</td> <td>  4.1e+05</td> <td>    0.122</td> <td> 0.903</td> <td>-7.54e+05</td> <td> 8.55e+05</td>\n",
       "</tr>\n",
       "<tr>\n",
       "  <th>x232</th>  <td> 1.157e+05</td> <td> 9.48e+05</td> <td>    0.122</td> <td> 0.903</td> <td>-1.74e+06</td> <td> 1.97e+06</td>\n",
       "</tr>\n",
       "<tr>\n",
       "  <th>x233</th>  <td> 1.613e+05</td> <td> 1.32e+06</td> <td>    0.122</td> <td> 0.903</td> <td>-2.43e+06</td> <td> 2.75e+06</td>\n",
       "</tr>\n",
       "<tr>\n",
       "  <th>x234</th>  <td>  2.53e+04</td> <td> 2.07e+05</td> <td>    0.122</td> <td> 0.903</td> <td>-3.81e+05</td> <td> 4.31e+05</td>\n",
       "</tr>\n",
       "<tr>\n",
       "  <th>x235</th>  <td> 4.683e+04</td> <td> 3.83e+05</td> <td>    0.122</td> <td> 0.903</td> <td>-7.05e+05</td> <td> 7.98e+05</td>\n",
       "</tr>\n",
       "<tr>\n",
       "  <th>x236</th>  <td> 6.415e+04</td> <td> 5.25e+05</td> <td>    0.122</td> <td> 0.903</td> <td>-9.65e+05</td> <td> 1.09e+06</td>\n",
       "</tr>\n",
       "<tr>\n",
       "  <th>x237</th>  <td>  632.3068</td> <td> 1.06e+04</td> <td>    0.060</td> <td> 0.952</td> <td>-2.01e+04</td> <td> 2.14e+04</td>\n",
       "</tr>\n",
       "<tr>\n",
       "  <th>x238</th>  <td> 3.824e+04</td> <td> 3.13e+05</td> <td>    0.122</td> <td> 0.903</td> <td>-5.76e+05</td> <td> 6.52e+05</td>\n",
       "</tr>\n",
       "<tr>\n",
       "  <th>x239</th>  <td> 3.382e+05</td> <td> 2.77e+06</td> <td>    0.122</td> <td> 0.903</td> <td>-5.09e+06</td> <td> 5.77e+06</td>\n",
       "</tr>\n",
       "<tr>\n",
       "  <th>x240</th>  <td> 7.846e+04</td> <td> 6.43e+05</td> <td>    0.122</td> <td> 0.903</td> <td>-1.18e+06</td> <td> 1.34e+06</td>\n",
       "</tr>\n",
       "<tr>\n",
       "  <th>x241</th>  <td> 3.776e+05</td> <td> 3.09e+06</td> <td>    0.122</td> <td> 0.903</td> <td>-5.68e+06</td> <td> 6.44e+06</td>\n",
       "</tr>\n",
       "<tr>\n",
       "  <th>x242</th>  <td> 2.552e+05</td> <td> 2.09e+06</td> <td>    0.122</td> <td> 0.903</td> <td>-3.84e+06</td> <td> 4.35e+06</td>\n",
       "</tr>\n",
       "<tr>\n",
       "  <th>x243</th>  <td> 8.436e+04</td> <td> 6.91e+05</td> <td>    0.122</td> <td> 0.903</td> <td>-1.27e+06</td> <td> 1.44e+06</td>\n",
       "</tr>\n",
       "<tr>\n",
       "  <th>x244</th>  <td> 8.912e+04</td> <td>  7.3e+05</td> <td>    0.122</td> <td> 0.903</td> <td>-1.34e+06</td> <td> 1.52e+06</td>\n",
       "</tr>\n",
       "<tr>\n",
       "  <th>x245</th>  <td> 7.209e+05</td> <td>  5.9e+06</td> <td>    0.122</td> <td> 0.903</td> <td>-1.09e+07</td> <td> 1.23e+07</td>\n",
       "</tr>\n",
       "<tr>\n",
       "  <th>x246</th>  <td>-4.755e-12</td> <td> 7.97e-11</td> <td>   -0.060</td> <td> 0.952</td> <td>-1.61e-10</td> <td> 1.51e-10</td>\n",
       "</tr>\n",
       "<tr>\n",
       "  <th>x247</th>  <td> 2.442e-19</td> <td> 4.84e-19</td> <td>    0.504</td> <td> 0.614</td> <td>-7.05e-19</td> <td> 1.19e-18</td>\n",
       "</tr>\n",
       "<tr>\n",
       "  <th>x248</th>  <td> 1.662e+05</td> <td> 1.36e+06</td> <td>    0.122</td> <td> 0.903</td> <td> -2.5e+06</td> <td> 2.83e+06</td>\n",
       "</tr>\n",
       "<tr>\n",
       "  <th>x249</th>  <td> 6.932e+04</td> <td> 5.68e+05</td> <td>    0.122</td> <td> 0.903</td> <td>-1.04e+06</td> <td> 1.18e+06</td>\n",
       "</tr>\n",
       "<tr>\n",
       "  <th>x250</th>  <td> 6.024e+04</td> <td> 4.93e+05</td> <td>    0.122</td> <td> 0.903</td> <td>-9.07e+05</td> <td> 1.03e+06</td>\n",
       "</tr>\n",
       "<tr>\n",
       "  <th>x251</th>  <td> 1.828e+05</td> <td>  1.5e+06</td> <td>    0.122</td> <td> 0.903</td> <td>-2.75e+06</td> <td> 3.12e+06</td>\n",
       "</tr>\n",
       "<tr>\n",
       "  <th>x252</th>  <td> 4.466e+04</td> <td> 3.66e+05</td> <td>    0.122</td> <td> 0.903</td> <td>-6.72e+05</td> <td> 7.62e+05</td>\n",
       "</tr>\n",
       "<tr>\n",
       "  <th>x253</th>  <td> 2.592e+05</td> <td> 2.12e+06</td> <td>    0.122</td> <td> 0.903</td> <td> -3.9e+06</td> <td> 4.42e+06</td>\n",
       "</tr>\n",
       "<tr>\n",
       "  <th>x254</th>  <td> 1.746e+04</td> <td> 1.43e+05</td> <td>    0.122</td> <td> 0.903</td> <td>-2.63e+05</td> <td> 2.98e+05</td>\n",
       "</tr>\n",
       "<tr>\n",
       "  <th>x255</th>  <td> 8.018e+04</td> <td> 6.57e+05</td> <td>    0.122</td> <td> 0.903</td> <td>-1.21e+06</td> <td> 1.37e+06</td>\n",
       "</tr>\n",
       "<tr>\n",
       "  <th>x256</th>  <td>  2.53e+04</td> <td> 2.07e+05</td> <td>    0.122</td> <td> 0.903</td> <td>-3.81e+05</td> <td> 4.31e+05</td>\n",
       "</tr>\n",
       "<tr>\n",
       "  <th>x257</th>  <td>    0.1857</td> <td>    0.001</td> <td>  194.564</td> <td> 0.000</td> <td>    0.184</td> <td>    0.188</td>\n",
       "</tr>\n",
       "<tr>\n",
       "  <th>x258</th>  <td>   -0.0606</td> <td>    0.001</td> <td>  -92.896</td> <td> 0.000</td> <td>   -0.062</td> <td>   -0.059</td>\n",
       "</tr>\n",
       "<tr>\n",
       "  <th>x259</th>  <td>  1.32e+06</td> <td> 2.19e+07</td> <td>    0.060</td> <td> 0.952</td> <td>-4.16e+07</td> <td> 4.43e+07</td>\n",
       "</tr>\n",
       "<tr>\n",
       "  <th>x260</th>  <td> 7.376e+05</td> <td> 1.23e+07</td> <td>    0.060</td> <td> 0.952</td> <td>-2.33e+07</td> <td> 2.47e+07</td>\n",
       "</tr>\n",
       "<tr>\n",
       "  <th>x261</th>  <td> 1.966e+06</td> <td> 3.26e+07</td> <td>    0.060</td> <td> 0.952</td> <td> -6.2e+07</td> <td>  6.6e+07</td>\n",
       "</tr>\n",
       "<tr>\n",
       "  <th>x262</th>  <td> 1.482e+06</td> <td> 2.46e+07</td> <td>    0.060</td> <td> 0.952</td> <td>-4.68e+07</td> <td> 4.97e+07</td>\n",
       "</tr>\n",
       "<tr>\n",
       "  <th>x263</th>  <td> 2.873e+06</td> <td> 4.77e+07</td> <td>    0.060</td> <td> 0.952</td> <td>-9.07e+07</td> <td> 9.64e+07</td>\n",
       "</tr>\n",
       "<tr>\n",
       "  <th>x264</th>  <td>   -0.0024</td> <td>    0.001</td> <td>   -3.017</td> <td> 0.003</td> <td>   -0.004</td> <td>   -0.001</td>\n",
       "</tr>\n",
       "<tr>\n",
       "  <th>x265</th>  <td>    0.0013</td> <td>    0.001</td> <td>    1.890</td> <td> 0.059</td> <td>-4.64e-05</td> <td>    0.003</td>\n",
       "</tr>\n",
       "<tr>\n",
       "  <th>x266</th>  <td> 2.331e-14</td> <td>  3.9e-13</td> <td>    0.060</td> <td> 0.952</td> <td>-7.42e-13</td> <td> 7.89e-13</td>\n",
       "</tr>\n",
       "<tr>\n",
       "  <th>x267</th>  <td> 6.442e+05</td> <td> 8.57e+06</td> <td>    0.075</td> <td> 0.940</td> <td>-1.61e+07</td> <td> 1.74e+07</td>\n",
       "</tr>\n",
       "<tr>\n",
       "  <th>x268</th>  <td> 8.339e+05</td> <td> 1.11e+07</td> <td>    0.075</td> <td> 0.940</td> <td>-2.09e+07</td> <td> 2.26e+07</td>\n",
       "</tr>\n",
       "<tr>\n",
       "  <th>x269</th>  <td> 4.117e+04</td> <td> 5.47e+05</td> <td>    0.075</td> <td> 0.940</td> <td>-1.03e+06</td> <td> 1.11e+06</td>\n",
       "</tr>\n",
       "<tr>\n",
       "  <th>x270</th>  <td> 8.451e+05</td> <td> 1.12e+07</td> <td>    0.075</td> <td> 0.940</td> <td>-2.12e+07</td> <td> 2.29e+07</td>\n",
       "</tr>\n",
       "<tr>\n",
       "  <th>x271</th>  <td> 1.929e+05</td> <td> 2.56e+06</td> <td>    0.075</td> <td> 0.940</td> <td>-4.83e+06</td> <td> 5.22e+06</td>\n",
       "</tr>\n",
       "<tr>\n",
       "  <th>x272</th>  <td> 2.504e+04</td> <td> 3.33e+05</td> <td>    0.075</td> <td> 0.940</td> <td>-6.27e+05</td> <td> 6.77e+05</td>\n",
       "</tr>\n",
       "<tr>\n",
       "  <th>x273</th>  <td>   -0.0267</td> <td>    0.001</td> <td>  -28.450</td> <td> 0.000</td> <td>   -0.029</td> <td>   -0.025</td>\n",
       "</tr>\n",
       "<tr>\n",
       "  <th>x274</th>  <td>    0.0196</td> <td>    0.001</td> <td>   20.642</td> <td> 0.000</td> <td>    0.018</td> <td>    0.021</td>\n",
       "</tr>\n",
       "<tr>\n",
       "  <th>x275</th>  <td> 2.337e+06</td> <td> 3.61e+07</td> <td>    0.065</td> <td> 0.948</td> <td>-6.84e+07</td> <td> 7.31e+07</td>\n",
       "</tr>\n",
       "<tr>\n",
       "  <th>x276</th>  <td>   -0.0089</td> <td>    0.001</td> <td>  -12.682</td> <td> 0.000</td> <td>   -0.010</td> <td>   -0.007</td>\n",
       "</tr>\n",
       "<tr>\n",
       "  <th>x277</th>  <td>    0.0332</td> <td>    0.001</td> <td>   43.814</td> <td> 0.000</td> <td>    0.032</td> <td>    0.035</td>\n",
       "</tr>\n",
       "<tr>\n",
       "  <th>x278</th>  <td>    0.0073</td> <td>    0.001</td> <td>    9.953</td> <td> 0.000</td> <td>    0.006</td> <td>    0.009</td>\n",
       "</tr>\n",
       "<tr>\n",
       "  <th>x279</th>  <td>    0.0035</td> <td>    0.001</td> <td>    5.357</td> <td> 0.000</td> <td>    0.002</td> <td>    0.005</td>\n",
       "</tr>\n",
       "<tr>\n",
       "  <th>x280</th>  <td>    0.0103</td> <td>    0.001</td> <td>    9.076</td> <td> 0.000</td> <td>    0.008</td> <td>    0.012</td>\n",
       "</tr>\n",
       "<tr>\n",
       "  <th>x281</th>  <td>    0.0011</td> <td>    0.001</td> <td>    1.743</td> <td> 0.081</td> <td>   -0.000</td> <td>    0.002</td>\n",
       "</tr>\n",
       "<tr>\n",
       "  <th>x282</th>  <td>    0.0062</td> <td>    0.001</td> <td>    9.045</td> <td> 0.000</td> <td>    0.005</td> <td>    0.008</td>\n",
       "</tr>\n",
       "<tr>\n",
       "  <th>x283</th>  <td>   -0.0046</td> <td>    0.001</td> <td>   -6.389</td> <td> 0.000</td> <td>   -0.006</td> <td>   -0.003</td>\n",
       "</tr>\n",
       "<tr>\n",
       "  <th>x284</th>  <td>    0.0364</td> <td>    0.001</td> <td>   29.453</td> <td> 0.000</td> <td>    0.034</td> <td>    0.039</td>\n",
       "</tr>\n",
       "<tr>\n",
       "  <th>x285</th>  <td>    0.0002</td> <td>    0.002</td> <td>    0.143</td> <td> 0.886</td> <td>   -0.003</td> <td>    0.003</td>\n",
       "</tr>\n",
       "<tr>\n",
       "  <th>x286</th>  <td>   -0.0038</td> <td>    0.002</td> <td>   -2.322</td> <td> 0.020</td> <td>   -0.007</td> <td>   -0.001</td>\n",
       "</tr>\n",
       "<tr>\n",
       "  <th>x287</th>  <td>    0.0293</td> <td>    0.001</td> <td>   30.154</td> <td> 0.000</td> <td>    0.027</td> <td>    0.031</td>\n",
       "</tr>\n",
       "<tr>\n",
       "  <th>x288</th>  <td>   -0.0090</td> <td>    0.001</td> <td>  -13.475</td> <td> 0.000</td> <td>   -0.010</td> <td>   -0.008</td>\n",
       "</tr>\n",
       "<tr>\n",
       "  <th>x289</th>  <td>    0.0476</td> <td>    0.001</td> <td>   61.041</td> <td> 0.000</td> <td>    0.046</td> <td>    0.049</td>\n",
       "</tr>\n",
       "<tr>\n",
       "  <th>x290</th>  <td>   -0.0081</td> <td>    0.001</td> <td>  -11.698</td> <td> 0.000</td> <td>   -0.009</td> <td>   -0.007</td>\n",
       "</tr>\n",
       "<tr>\n",
       "  <th>x291</th>  <td>   -0.0092</td> <td>    0.001</td> <td>   -8.882</td> <td> 0.000</td> <td>   -0.011</td> <td>   -0.007</td>\n",
       "</tr>\n",
       "<tr>\n",
       "  <th>x292</th>  <td>    0.0078</td> <td>    0.001</td> <td>   10.740</td> <td> 0.000</td> <td>    0.006</td> <td>    0.009</td>\n",
       "</tr>\n",
       "<tr>\n",
       "  <th>x293</th>  <td>    0.0014</td> <td>    0.001</td> <td>    1.980</td> <td> 0.048</td> <td>  1.4e-05</td> <td>    0.003</td>\n",
       "</tr>\n",
       "<tr>\n",
       "  <th>x294</th>  <td>   -0.0021</td> <td>    0.001</td> <td>   -2.988</td> <td> 0.003</td> <td>   -0.003</td> <td>   -0.001</td>\n",
       "</tr>\n",
       "<tr>\n",
       "  <th>x295</th>  <td>    0.0149</td> <td>    0.001</td> <td>   19.619</td> <td> 0.000</td> <td>    0.013</td> <td>    0.016</td>\n",
       "</tr>\n",
       "<tr>\n",
       "  <th>x296</th>  <td>    0.0124</td> <td>    0.001</td> <td>   15.635</td> <td> 0.000</td> <td>    0.011</td> <td>    0.014</td>\n",
       "</tr>\n",
       "<tr>\n",
       "  <th>x297</th>  <td>   -0.0102</td> <td>    0.001</td> <td>  -12.189</td> <td> 0.000</td> <td>   -0.012</td> <td>   -0.009</td>\n",
       "</tr>\n",
       "<tr>\n",
       "  <th>x298</th>  <td>    0.0215</td> <td>    0.001</td> <td>   27.273</td> <td> 0.000</td> <td>    0.020</td> <td>    0.023</td>\n",
       "</tr>\n",
       "<tr>\n",
       "  <th>x299</th>  <td>   -0.0117</td> <td>    0.001</td> <td>  -13.896</td> <td> 0.000</td> <td>   -0.013</td> <td>   -0.010</td>\n",
       "</tr>\n",
       "<tr>\n",
       "  <th>x300</th>  <td>   -0.0093</td> <td>    0.001</td> <td>  -14.853</td> <td> 0.000</td> <td>   -0.010</td> <td>   -0.008</td>\n",
       "</tr>\n",
       "<tr>\n",
       "  <th>x301</th>  <td>   -0.0074</td> <td>    0.001</td> <td>  -10.650</td> <td> 0.000</td> <td>   -0.009</td> <td>   -0.006</td>\n",
       "</tr>\n",
       "<tr>\n",
       "  <th>x302</th>  <td>   -0.0206</td> <td>    0.001</td> <td>  -23.600</td> <td> 0.000</td> <td>   -0.022</td> <td>   -0.019</td>\n",
       "</tr>\n",
       "<tr>\n",
       "  <th>x303</th>  <td>    0.0188</td> <td>    0.001</td> <td>   30.237</td> <td> 0.000</td> <td>    0.018</td> <td>    0.020</td>\n",
       "</tr>\n",
       "<tr>\n",
       "  <th>x304</th>  <td>    0.0163</td> <td>    0.001</td> <td>   22.201</td> <td> 0.000</td> <td>    0.015</td> <td>    0.018</td>\n",
       "</tr>\n",
       "<tr>\n",
       "  <th>x305</th>  <td>   -0.0030</td> <td>    0.001</td> <td>   -3.663</td> <td> 0.000</td> <td>   -0.005</td> <td>   -0.001</td>\n",
       "</tr>\n",
       "<tr>\n",
       "  <th>x306</th>  <td>   -0.0125</td> <td>    0.001</td> <td>  -13.356</td> <td> 0.000</td> <td>   -0.014</td> <td>   -0.011</td>\n",
       "</tr>\n",
       "<tr>\n",
       "  <th>x307</th>  <td>   -0.0027</td> <td>    0.001</td> <td>   -3.787</td> <td> 0.000</td> <td>   -0.004</td> <td>   -0.001</td>\n",
       "</tr>\n",
       "<tr>\n",
       "  <th>x308</th>  <td>    0.0106</td> <td>    0.001</td> <td>   14.193</td> <td> 0.000</td> <td>    0.009</td> <td>    0.012</td>\n",
       "</tr>\n",
       "<tr>\n",
       "  <th>x309</th>  <td>   -0.0124</td> <td>    0.001</td> <td>  -17.605</td> <td> 0.000</td> <td>   -0.014</td> <td>   -0.011</td>\n",
       "</tr>\n",
       "<tr>\n",
       "  <th>x310</th>  <td>   -0.0108</td> <td>    0.001</td> <td>  -10.953</td> <td> 0.000</td> <td>   -0.013</td> <td>   -0.009</td>\n",
       "</tr>\n",
       "<tr>\n",
       "  <th>x311</th>  <td>   -0.0157</td> <td>    0.001</td> <td>  -20.669</td> <td> 0.000</td> <td>   -0.017</td> <td>   -0.014</td>\n",
       "</tr>\n",
       "<tr>\n",
       "  <th>x312</th>  <td>    0.0182</td> <td>    0.001</td> <td>   24.296</td> <td> 0.000</td> <td>    0.017</td> <td>    0.020</td>\n",
       "</tr>\n",
       "<tr>\n",
       "  <th>x313</th>  <td>   -0.0351</td> <td>    0.001</td> <td>  -24.903</td> <td> 0.000</td> <td>   -0.038</td> <td>   -0.032</td>\n",
       "</tr>\n",
       "<tr>\n",
       "  <th>x314</th>  <td>   -0.0164</td> <td>    0.001</td> <td>  -11.878</td> <td> 0.000</td> <td>   -0.019</td> <td>   -0.014</td>\n",
       "</tr>\n",
       "<tr>\n",
       "  <th>x315</th>  <td>    0.0100</td> <td>    0.001</td> <td>   12.702</td> <td> 0.000</td> <td>    0.008</td> <td>    0.012</td>\n",
       "</tr>\n",
       "<tr>\n",
       "  <th>x316</th>  <td>   -0.0042</td> <td>    0.001</td> <td>   -6.903</td> <td> 0.000</td> <td>   -0.005</td> <td>   -0.003</td>\n",
       "</tr>\n",
       "<tr>\n",
       "  <th>x317</th>  <td>    0.0022</td> <td>    0.001</td> <td>    3.502</td> <td> 0.000</td> <td>    0.001</td> <td>    0.003</td>\n",
       "</tr>\n",
       "<tr>\n",
       "  <th>x318</th>  <td>    0.0092</td> <td>    0.001</td> <td>   13.740</td> <td> 0.000</td> <td>    0.008</td> <td>    0.011</td>\n",
       "</tr>\n",
       "<tr>\n",
       "  <th>x319</th>  <td>    0.0229</td> <td>    0.001</td> <td>   37.318</td> <td> 0.000</td> <td>    0.022</td> <td>    0.024</td>\n",
       "</tr>\n",
       "<tr>\n",
       "  <th>x320</th>  <td>    0.0166</td> <td>    0.001</td> <td>   25.236</td> <td> 0.000</td> <td>    0.015</td> <td>    0.018</td>\n",
       "</tr>\n",
       "<tr>\n",
       "  <th>x321</th>  <td>    0.0130</td> <td>    0.001</td> <td>   11.208</td> <td> 0.000</td> <td>    0.011</td> <td>    0.015</td>\n",
       "</tr>\n",
       "<tr>\n",
       "  <th>x322</th>  <td>    0.0347</td> <td>    0.001</td> <td>   49.275</td> <td> 0.000</td> <td>    0.033</td> <td>    0.036</td>\n",
       "</tr>\n",
       "<tr>\n",
       "  <th>x323</th>  <td>   -0.0062</td> <td>    0.001</td> <td>   -8.959</td> <td> 0.000</td> <td>   -0.008</td> <td>   -0.005</td>\n",
       "</tr>\n",
       "<tr>\n",
       "  <th>x324</th>  <td>    0.0017</td> <td>    0.001</td> <td>    2.304</td> <td> 0.021</td> <td>    0.000</td> <td>    0.003</td>\n",
       "</tr>\n",
       "<tr>\n",
       "  <th>x325</th>  <td>   -0.0085</td> <td>    0.001</td> <td>  -12.511</td> <td> 0.000</td> <td>   -0.010</td> <td>   -0.007</td>\n",
       "</tr>\n",
       "<tr>\n",
       "  <th>x326</th>  <td>    0.0130</td> <td>    0.001</td> <td>   18.626</td> <td> 0.000</td> <td>    0.012</td> <td>    0.014</td>\n",
       "</tr>\n",
       "<tr>\n",
       "  <th>x327</th>  <td>   -0.0235</td> <td>    0.001</td> <td>  -37.963</td> <td> 0.000</td> <td>   -0.025</td> <td>   -0.022</td>\n",
       "</tr>\n",
       "<tr>\n",
       "  <th>x328</th>  <td>   -0.0176</td> <td>    0.001</td> <td>  -17.717</td> <td> 0.000</td> <td>   -0.020</td> <td>   -0.016</td>\n",
       "</tr>\n",
       "<tr>\n",
       "  <th>x329</th>  <td>   -0.0042</td> <td>    0.001</td> <td>   -4.449</td> <td> 0.000</td> <td>   -0.006</td> <td>   -0.002</td>\n",
       "</tr>\n",
       "</table>\n",
       "<table class=\"simpletable\">\n",
       "<tr>\n",
       "  <th>Omnibus:</th>       <td>13399.944</td> <th>  Durbin-Watson:     </th> <td>   0.081</td> \n",
       "</tr>\n",
       "<tr>\n",
       "  <th>Prob(Omnibus):</th>  <td> 0.000</td>   <th>  Jarque-Bera (JB):  </th> <td>25662.269</td>\n",
       "</tr>\n",
       "<tr>\n",
       "  <th>Skew:</th>           <td> 0.357</td>   <th>  Prob(JB):          </th> <td>    0.00</td> \n",
       "</tr>\n",
       "<tr>\n",
       "  <th>Kurtosis:</th>       <td> 4.287</td>   <th>  Cond. No.          </th> <td>9.05e+16</td> \n",
       "</tr>\n",
       "</table><br/><br/>Warnings:<br/>[1] Standard Errors assume that the covariance matrix of the errors is correctly specified.<br/>[2] The smallest eigenvalue is 3.62e-28. This might indicate that there are<br/>strong multicollinearity problems or that the design matrix is singular."
      ],
      "text/plain": [
       "<class 'statsmodels.iolib.summary.Summary'>\n",
       "\"\"\"\n",
       "                            OLS Regression Results                            \n",
       "==============================================================================\n",
       "Dep. Variable:                      y   R-squared:                       0.739\n",
       "Model:                            OLS   Adj. R-squared:                  0.739\n",
       "Method:                 Least Squares   F-statistic:                     2652.\n",
       "Date:                Sun, 24 Feb 2019   Prob (F-statistic):               0.00\n",
       "Time:                        02:15:40   Log-Likelihood:                -58087.\n",
       "No. Observations:              284420   AIC:                         1.168e+05\n",
       "Df Residuals:                  284116   BIC:                         1.200e+05\n",
       "Df Model:                         303                                         \n",
       "Covariance Type:            nonrobust                                         \n",
       "==============================================================================\n",
       "                 coef    std err          t      P>|t|      [0.025      0.975]\n",
       "------------------------------------------------------------------------------\n",
       "const          4.8287      0.001   8669.368      0.000       4.828       4.830\n",
       "x1         -1.676e+08   1.23e+09     -0.136      0.892   -2.58e+09    2.24e+09\n",
       "x2         -1.924e+08   1.41e+09     -0.136      0.892   -2.96e+09    2.57e+09\n",
       "x3         -1.896e+08   1.39e+09     -0.136      0.892   -2.91e+09    2.54e+09\n",
       "x4          -1.82e+08   1.34e+09     -0.136      0.892    -2.8e+09    2.43e+09\n",
       "x5         -1.905e+08    1.4e+09     -0.136      0.892   -2.93e+09    2.55e+09\n",
       "x6         -1.616e+08   1.19e+09     -0.136      0.892   -2.48e+09    2.16e+09\n",
       "x7         -1.613e+08   1.18e+09     -0.136      0.892   -2.48e+09    2.16e+09\n",
       "x8         -1.675e+08   1.23e+09     -0.136      0.892   -2.58e+09    2.24e+09\n",
       "x9         -1.657e+08   1.22e+09     -0.136      0.892   -2.55e+09    2.22e+09\n",
       "x10        -1.995e+08   1.46e+09     -0.136      0.892   -3.07e+09    2.67e+09\n",
       "x11        -1.989e+08   1.46e+09     -0.136      0.892   -3.06e+09    2.66e+09\n",
       "x12        -1.894e+08   1.39e+09     -0.136      0.892   -2.91e+09    2.53e+09\n",
       "x13         5.505e+08   9.22e+09      0.060      0.952   -1.75e+10    1.86e+10\n",
       "x14         5.482e+08   9.18e+09      0.060      0.952   -1.75e+10    1.85e+10\n",
       "x15         5.467e+08   9.16e+09      0.060      0.952   -1.74e+10    1.85e+10\n",
       "x16         5.487e+08   9.19e+09      0.060      0.952   -1.75e+10    1.86e+10\n",
       "x17         5.496e+08   9.21e+09      0.060      0.952   -1.75e+10    1.86e+10\n",
       "x18         5.444e+08   9.12e+09      0.060      0.952   -1.73e+10    1.84e+10\n",
       "x19          5.45e+08   9.13e+09      0.060      0.952   -1.73e+10    1.84e+10\n",
       "x20            0.0043      0.001      5.469      0.000       0.003       0.006\n",
       "x21            0.0044      0.001      4.190      0.000       0.002       0.007\n",
       "x22            0.0273      0.001     30.756      0.000       0.026       0.029\n",
       "x23            0.1327      0.001    104.272      0.000       0.130       0.135\n",
       "x24           -0.0111      0.001    -15.690      0.000      -0.012      -0.010\n",
       "x25            0.1122      0.001    111.113      0.000       0.110       0.114\n",
       "x26           -0.0111      0.001    -10.158      0.000      -0.013      -0.009\n",
       "x27            0.0027      0.001      4.372      0.000       0.001       0.004\n",
       "x28            0.0384      0.001     47.136      0.000       0.037       0.040\n",
       "x29            0.0307      0.001     39.601      0.000       0.029       0.032\n",
       "x30           -0.0262      0.001    -38.364      0.000      -0.028      -0.025\n",
       "x31           -0.0016      0.001     -1.505      0.132      -0.004       0.000\n",
       "x32           -0.0192      0.001    -18.695      0.000      -0.021      -0.017\n",
       "x33            0.0253      0.001     20.236      0.000       0.023       0.028\n",
       "x34            0.0050      0.001      5.034      0.000       0.003       0.007\n",
       "x35            0.0535      0.001     58.761      0.000       0.052       0.055\n",
       "x36            0.0008      0.001      0.972      0.331      -0.001       0.003\n",
       "x37           -0.0012      0.001     -1.191      0.234      -0.003       0.001\n",
       "x38            0.0186      0.001     22.491      0.000       0.017       0.020\n",
       "x39           -0.0403      0.001    -42.055      0.000      -0.042      -0.038\n",
       "x40           -0.0558      0.001    -61.380      0.000      -0.058      -0.054\n",
       "x41           -0.0252      0.001    -24.647      0.000      -0.027      -0.023\n",
       "x42          3.83e+04    1.7e+06      0.023      0.982   -3.29e+06    3.37e+06\n",
       "x43         1.146e+05   5.08e+06      0.023      0.982   -9.84e+06    1.01e+07\n",
       "x44         1.541e+05   6.83e+06      0.023      0.982   -1.32e+07    1.35e+07\n",
       "x45          1.76e+05    7.8e+06      0.023      0.982   -1.51e+07    1.55e+07\n",
       "x46           -0.0299      0.001    -43.821      0.000      -0.031      -0.029\n",
       "x47            0.0076      0.001     13.063      0.000       0.007       0.009\n",
       "x48           -0.0162      0.001    -24.436      0.000      -0.018      -0.015\n",
       "x49         1.581e+06   2.29e+07      0.069      0.945   -4.33e+07    4.65e+07\n",
       "x50         3.999e+04   8.53e+05      0.047      0.963   -1.63e+06    1.71e+06\n",
       "x51         1.679e+04   3.58e+05      0.047      0.963   -6.85e+05    7.19e+05\n",
       "x52         1.522e+04   3.25e+05      0.047      0.963   -6.21e+05    6.52e+05\n",
       "x53         8551.3298   1.82e+05      0.047      0.963   -3.49e+05    3.66e+05\n",
       "x54         7.049e+05   6.66e+06      0.106      0.916   -1.23e+07    1.38e+07\n",
       "x55         5.401e+04   1.15e+06      0.047      0.963    -2.2e+06    2.31e+06\n",
       "x56         6089.5149    1.3e+05      0.047      0.963   -2.49e+05    2.61e+05\n",
       "x57         8.476e+04   1.81e+06      0.047      0.963   -3.46e+06    3.63e+06\n",
       "x58         1.495e+04   3.19e+05      0.047      0.963    -6.1e+05     6.4e+05\n",
       "x59         5.344e+04   1.14e+06      0.047      0.963   -2.18e+06    2.29e+06\n",
       "x60         1.636e+04   3.49e+05      0.047      0.963   -6.68e+05       7e+05\n",
       "x61        -7.754e+04   1.28e+06     -0.060      0.952   -2.59e+06    2.44e+06\n",
       "x62         1.698e+04   3.62e+05      0.047      0.963   -6.93e+05    7.27e+05\n",
       "x63         8.198e+04   1.75e+06      0.047      0.963   -3.35e+06    3.51e+06\n",
       "x64         1.834e+04   3.91e+05      0.047      0.963   -7.49e+05    7.85e+05\n",
       "x65          4.52e+04   9.64e+05      0.047      0.963   -1.84e+06    1.94e+06\n",
       "x66         1.438e+04   3.07e+05      0.047      0.963   -5.87e+05    6.16e+05\n",
       "x67         3.055e+04   6.52e+05      0.047      0.963   -1.25e+06    1.31e+06\n",
       "x68         3.956e+04   8.44e+05      0.047      0.963   -1.61e+06    1.69e+06\n",
       "x69         1.777e+04   3.79e+05      0.047      0.963   -7.25e+05    7.61e+05\n",
       "x70         5.574e+05    7.8e+06      0.071      0.943   -1.47e+07    1.58e+07\n",
       "x71         3.441e+04   7.34e+05      0.047      0.963    -1.4e+06    1.47e+06\n",
       "x72         2.459e+04   5.25e+05      0.047      0.963      -1e+06    1.05e+06\n",
       "x73        -4.079e+05   6.75e+06     -0.060      0.952   -1.36e+07    1.28e+07\n",
       "x74         1.967e+04    4.2e+05      0.047      0.963   -8.03e+05    8.42e+05\n",
       "x75          1.35e+04   2.88e+05      0.047      0.963   -5.51e+05    5.78e+05\n",
       "x76         1.035e+04   2.21e+05      0.047      0.963   -4.22e+05    4.43e+05\n",
       "x77         8.956e+04   1.91e+06      0.047      0.963   -3.66e+06    3.83e+06\n",
       "x78         1.196e+04   2.55e+05      0.047      0.963   -4.88e+05    5.12e+05\n",
       "x79         1.179e+04   2.52e+05      0.047      0.963   -4.81e+05    5.05e+05\n",
       "x80         1.157e+04   2.47e+05      0.047      0.963   -4.72e+05    4.95e+05\n",
       "x81         2.785e+04   5.94e+05      0.047      0.963   -1.14e+06    1.19e+06\n",
       "x82        -4.466e+05   7.51e+06     -0.059      0.953   -1.52e+07    1.43e+07\n",
       "x83         5.886e+04   1.26e+06      0.047      0.963    -2.4e+06    2.52e+06\n",
       "x84         1.442e+04   3.08e+05      0.047      0.963   -5.89e+05    6.17e+05\n",
       "x85         1.218e+04    2.6e+05      0.047      0.963   -4.97e+05    5.21e+05\n",
       "x86         3.386e+04   7.22e+05      0.047      0.963   -1.38e+06    1.45e+06\n",
       "x87         4.343e+04   9.27e+05      0.047      0.963   -1.77e+06    1.86e+06\n",
       "x88         1.315e+04   2.81e+05      0.047      0.963   -5.37e+05    5.63e+05\n",
       "x89         2.151e+04   4.59e+05      0.047      0.963   -8.78e+05    9.21e+05\n",
       "x90         6808.1688   1.45e+05      0.047      0.963   -2.78e+05    2.91e+05\n",
       "x91         2.516e+04   5.37e+05      0.047      0.963   -1.03e+06    1.08e+06\n",
       "x92         6957.7951   1.48e+05      0.047      0.963   -2.84e+05    2.98e+05\n",
       "x93          1.42e+04   3.03e+05      0.047      0.963    -5.8e+05    6.08e+05\n",
       "x94         1.868e+04   3.98e+05      0.047      0.963   -7.62e+05       8e+05\n",
       "x95          3.39e+04   7.23e+05      0.047      0.963   -1.38e+06    1.45e+06\n",
       "x96         3.355e+04   7.16e+05      0.047      0.963   -1.37e+06    1.44e+06\n",
       "x97         2.876e+04   6.14e+05      0.047      0.963   -1.17e+06    1.23e+06\n",
       "x98         1.192e+04   2.54e+05      0.047      0.963   -4.87e+05     5.1e+05\n",
       "x99         1.941e+04   4.14e+05      0.047      0.963   -7.92e+05    8.31e+05\n",
       "x100        3.472e+04   7.41e+05      0.047      0.963   -1.42e+06    1.49e+06\n",
       "x101        8.013e+04   1.71e+06      0.047      0.963   -3.27e+06    3.43e+06\n",
       "x102       -2.659e+06   4.45e+07     -0.060      0.952      -9e+07    8.46e+07\n",
       "x103        8182.1203   1.75e+05      0.047      0.963   -3.34e+05     3.5e+05\n",
       "x104        2486.1642    5.3e+04      0.047      0.963   -1.01e+05    1.06e+05\n",
       "x105        9301.0991   1.98e+05      0.047      0.963    -3.8e+05    3.98e+05\n",
       "x106         1.01e+04   2.15e+05      0.047      0.963   -4.12e+05    4.32e+05\n",
       "x107        5074.6915   1.08e+05      0.047      0.963   -2.07e+05    2.17e+05\n",
       "x108        3.177e+04   6.78e+05      0.047      0.963    -1.3e+06    1.36e+06\n",
       "x109        7.365e+04   1.57e+06      0.047      0.963   -3.01e+06    3.15e+06\n",
       "x110         5.58e+04   1.19e+06      0.047      0.963   -2.28e+06    2.39e+06\n",
       "x111         2.31e+04   4.93e+05      0.047      0.963   -9.43e+05    9.89e+05\n",
       "x112        1.417e+04   3.02e+05      0.047      0.963   -5.78e+05    6.07e+05\n",
       "x113        9627.4575   2.05e+05      0.047      0.963   -3.93e+05    4.12e+05\n",
       "x114        5.524e+04   1.18e+06      0.047      0.963   -2.25e+06    2.36e+06\n",
       "x115        1.948e+04   4.16e+05      0.047      0.963   -7.95e+05    8.34e+05\n",
       "x116        2.365e+06   3.96e+07      0.060      0.952   -7.53e+07       8e+07\n",
       "x117        9301.1057   1.98e+05      0.047      0.963    -3.8e+05    3.98e+05\n",
       "x118        1.025e+04   2.19e+05      0.047      0.963   -4.18e+05    4.39e+05\n",
       "x119        2.215e+04   4.73e+05      0.047      0.963   -9.04e+05    9.48e+05\n",
       "x120        9133.5408   1.95e+05      0.047      0.963   -3.73e+05    3.91e+05\n",
       "x121         4.44e+04   9.47e+05      0.047      0.963   -1.81e+06     1.9e+06\n",
       "x122       -4.402e+04   7.28e+05     -0.060      0.952   -1.47e+06    1.38e+06\n",
       "x123        1.731e+04   3.69e+05      0.047      0.963   -7.06e+05    7.41e+05\n",
       "x124        5.931e+04   1.27e+06      0.047      0.963   -2.42e+06    2.54e+06\n",
       "x125        1.854e+04   3.96e+05      0.047      0.963   -7.57e+05    7.94e+05\n",
       "x126        1.903e+04   4.06e+05      0.047      0.963   -7.77e+05    8.15e+05\n",
       "x127        4651.0626   9.92e+04      0.047      0.963    -1.9e+05    1.99e+05\n",
       "x128        1.725e+04   3.68e+05      0.047      0.963   -7.04e+05    7.38e+05\n",
       "x129        3.395e+04   7.24e+05      0.047      0.963   -1.39e+06    1.45e+06\n",
       "x130        9189.7369   1.96e+05      0.047      0.963   -3.75e+05    3.93e+05\n",
       "x131        2.925e+04   6.24e+05      0.047      0.963   -1.19e+06    1.25e+06\n",
       "x132        1.185e+05   2.53e+06      0.047      0.963   -4.84e+06    5.07e+06\n",
       "x133        2.955e+04    6.3e+05      0.047      0.963   -1.21e+06    1.27e+06\n",
       "x134        2029.9527   4.33e+04      0.047      0.963   -8.29e+04    8.69e+04\n",
       "x135        1.719e+04   3.67e+05      0.047      0.963   -7.01e+05    7.36e+05\n",
       "x136       -3.252e+04   5.38e+05     -0.060      0.952   -1.09e+06    1.02e+06\n",
       "x137        1.045e+04   2.23e+05      0.047      0.963   -4.26e+05    4.47e+05\n",
       "x138        7.132e+04   1.52e+06      0.047      0.963   -2.91e+06    3.05e+06\n",
       "x139         8.03e+04   1.71e+06      0.047      0.963   -3.28e+06    3.44e+06\n",
       "x140        5.317e+04   1.13e+06      0.047      0.963   -2.17e+06    2.28e+06\n",
       "x141        1.201e+04   2.56e+05      0.047      0.963    -4.9e+05    5.14e+05\n",
       "x142         2.41e+04   5.14e+05      0.047      0.963   -9.84e+05    1.03e+06\n",
       "x143        2.416e+06   4.05e+07      0.060      0.952   -7.69e+07    8.17e+07\n",
       "x144        2.956e+04   6.31e+05      0.047      0.963   -1.21e+06    1.27e+06\n",
       "x145        3.062e+04   6.53e+05      0.047      0.963   -1.25e+06    1.31e+06\n",
       "x146        4.252e+04   9.07e+05      0.047      0.963   -1.74e+06    1.82e+06\n",
       "x147        1.906e+04   4.07e+05      0.047      0.963   -7.78e+05    8.16e+05\n",
       "x148        6.471e+04   1.38e+06      0.047      0.963   -2.64e+06    2.77e+06\n",
       "x149        5.648e+04    1.2e+06      0.047      0.963   -2.31e+06    2.42e+06\n",
       "x150        7.571e+04   1.62e+06      0.047      0.963   -3.09e+06    3.24e+06\n",
       "x151        4.878e+04   1.04e+06      0.047      0.963   -1.99e+06    2.09e+06\n",
       "x152       -6.368e+05   1.05e+07     -0.060      0.952   -2.13e+07       2e+07\n",
       "x153        1.307e+04   2.79e+05      0.047      0.963   -5.34e+05     5.6e+05\n",
       "x154        2.387e+04   5.09e+05      0.047      0.963   -9.74e+05    1.02e+06\n",
       "x155         5.24e+04   1.12e+06      0.047      0.963   -2.14e+06    2.24e+06\n",
       "x156        1.535e+04   3.28e+05      0.047      0.963   -6.27e+05    6.57e+05\n",
       "x157        6577.3537    1.4e+05      0.047      0.963   -2.68e+05    2.82e+05\n",
       "x158        5650.8817   1.21e+05      0.047      0.963   -2.31e+05    2.42e+05\n",
       "x159        3.906e+04   8.33e+05      0.047      0.963   -1.59e+06    1.67e+06\n",
       "x160        2.909e+04   6.21e+05      0.047      0.963   -1.19e+06    1.25e+06\n",
       "x161        1.315e+04   2.81e+05      0.047      0.963   -5.37e+05    5.63e+05\n",
       "x162        6.639e+04   1.42e+06      0.047      0.963   -2.71e+06    2.84e+06\n",
       "x163        4.038e+04   8.62e+05      0.047      0.963   -1.65e+06    1.73e+06\n",
       "x164       -3.614e+06   6.06e+07     -0.060      0.952   -1.22e+08    1.15e+08\n",
       "x165        1.903e+04   4.06e+05      0.047      0.963   -7.77e+05    8.15e+05\n",
       "x166        1.859e+04   3.97e+05      0.047      0.963   -7.59e+05    7.96e+05\n",
       "x167        1.739e+04   3.71e+05      0.047      0.963    -7.1e+05    7.45e+05\n",
       "x168        1.315e+04   2.81e+05      0.047      0.963   -5.37e+05    5.63e+05\n",
       "x169        3.395e+04   7.24e+05      0.047      0.963   -1.39e+06    1.45e+06\n",
       "x170        2.382e+04   5.08e+05      0.047      0.963   -9.72e+05    1.02e+06\n",
       "x171        2.876e+04   6.14e+05      0.047      0.963   -1.17e+06    1.23e+06\n",
       "x172        4.172e+04    8.9e+05      0.047      0.963    -1.7e+06    1.79e+06\n",
       "x173        1.209e+04   2.58e+05      0.047      0.963   -4.94e+05    5.18e+05\n",
       "x174       -1.014e+06   1.68e+07     -0.060      0.952   -3.39e+07    3.19e+07\n",
       "x175        1.064e+04   2.27e+05      0.047      0.963   -4.34e+05    4.56e+05\n",
       "x176       -5.536e+05   9.16e+06     -0.060      0.952   -1.85e+07    1.74e+07\n",
       "x177        3.384e+04   7.22e+05      0.047      0.963   -1.38e+06    1.45e+06\n",
       "x178        7594.6851   1.62e+05      0.047      0.963    -3.1e+05    3.25e+05\n",
       "x179        2.919e+06   4.89e+07      0.060      0.952    -9.3e+07    9.88e+07\n",
       "x180        2.573e+04   5.49e+05      0.047      0.963   -1.05e+06     1.1e+06\n",
       "x181        5830.2995   1.24e+05      0.047      0.963   -2.38e+05     2.5e+05\n",
       "x182        1.848e+04   3.94e+05      0.047      0.963   -7.54e+05    7.91e+05\n",
       "x183        3.405e+04   7.26e+05      0.047      0.963   -1.39e+06    1.46e+06\n",
       "x184        1.005e+04   2.14e+05      0.047      0.963    -4.1e+05     4.3e+05\n",
       "x185        2.243e+04   4.78e+05      0.047      0.963   -9.15e+05     9.6e+05\n",
       "x186        1.673e+04   3.57e+05      0.047      0.963   -6.83e+05    7.16e+05\n",
       "x187        1.763e+04   3.76e+05      0.047      0.963    -7.2e+05    7.55e+05\n",
       "x188        1.376e+04   2.94e+05      0.047      0.963   -5.62e+05    5.89e+05\n",
       "x189        9.576e+04   2.04e+06      0.047      0.963   -3.91e+06     4.1e+06\n",
       "x190        -5.81e+05   9.61e+06     -0.060      0.952   -1.94e+07    1.83e+07\n",
       "x191         4.04e+04   8.62e+05      0.047      0.963   -1.65e+06    1.73e+06\n",
       "x192        9573.8239   2.04e+05      0.047      0.963   -3.91e+05     4.1e+05\n",
       "x193          1.8e+04   3.84e+05      0.047      0.963   -7.35e+05    7.71e+05\n",
       "x194        1.135e+04   2.42e+05      0.047      0.963   -4.63e+05    4.86e+05\n",
       "x195        4.136e+04   8.82e+05      0.047      0.963   -1.69e+06    1.77e+06\n",
       "x196       -1.004e+05   1.66e+06     -0.060      0.952   -3.36e+06    3.15e+06\n",
       "x197        2.144e+04   4.57e+05      0.047      0.963   -8.75e+05    9.18e+05\n",
       "x198        2.299e+04    4.9e+05      0.047      0.963   -9.38e+05    9.84e+05\n",
       "x199        1.474e+04   3.14e+05      0.047      0.963   -6.02e+05    6.31e+05\n",
       "x200        3.613e+04   7.71e+05      0.047      0.963   -1.47e+06    1.55e+06\n",
       "x201        3.315e+04   7.07e+05      0.047      0.963   -1.35e+06    1.42e+06\n",
       "x202        1.327e+04   2.83e+05      0.047      0.963   -5.42e+05    5.68e+05\n",
       "x203        7247.7860   1.55e+05      0.047      0.963   -2.96e+05     3.1e+05\n",
       "x204        5.341e+04   1.14e+06      0.047      0.963   -2.18e+06    2.29e+06\n",
       "x205        9.772e+04   2.08e+06      0.047      0.963   -3.99e+06    4.18e+06\n",
       "x206        9301.0958   1.98e+05      0.047      0.963    -3.8e+05    3.98e+05\n",
       "x207        5273.7571   1.13e+05      0.047      0.963   -2.15e+05    2.26e+05\n",
       "x208        2.421e+04   2.89e+05      0.084      0.933   -5.43e+05    5.92e+05\n",
       "x209        9.705e+04   1.16e+06      0.084      0.933   -2.18e+06    2.37e+06\n",
       "x210        2.123e+04   3.56e+05      0.060      0.952   -6.76e+05    7.18e+05\n",
       "x211          -0.0009      0.001     -1.682      0.093      -0.002       0.000\n",
       "x212          -0.0003      0.001     -0.477      0.633      -0.001       0.001\n",
       "x213        7.437e+04   8.89e+05      0.084      0.933   -1.67e+06    1.82e+06\n",
       "x214        2.865e+04   3.42e+05      0.084      0.933   -6.43e+05       7e+05\n",
       "x215           0.0037      0.001      6.154      0.000       0.003       0.005\n",
       "x216       -1.474e+04   2.47e+05     -0.060      0.952   -4.99e+05    4.69e+05\n",
       "x217        6.226e+05   7.44e+06      0.084      0.933    -1.4e+07    1.52e+07\n",
       "x218        5.172e+04   6.18e+05      0.084      0.933   -1.16e+06    1.26e+06\n",
       "x219         -61.3368   1027.728     -0.060      0.952   -2075.656    1952.982\n",
       "x220        8.322e+05   9.95e+06      0.084      0.933   -1.87e+07    2.03e+07\n",
       "x221         2.05e+04   2.45e+05      0.084      0.933    -4.6e+05    5.01e+05\n",
       "x222          -0.0004      0.001     -0.644      0.520      -0.001       0.001\n",
       "x223          -0.0069      0.001    -12.153      0.000      -0.008      -0.006\n",
       "x224           0.0020      0.001      3.491      0.000       0.001       0.003\n",
       "x225           0.0011      0.001      1.848      0.065    -6.4e-05       0.002\n",
       "x226           0.0005      0.001      0.867      0.386      -0.001       0.002\n",
       "x227        4.027e+04    3.3e+05      0.122      0.903   -6.06e+05    6.87e+05\n",
       "x228        6.952e+05   5.69e+06      0.122      0.903   -1.05e+07    1.19e+07\n",
       "x229         594.7531   9965.377      0.060      0.952   -1.89e+04    2.01e+04\n",
       "x230        1.051e+05   8.61e+05      0.122      0.903   -1.58e+06    1.79e+06\n",
       "x231        5.012e+04    4.1e+05      0.122      0.903   -7.54e+05    8.55e+05\n",
       "x232        1.157e+05   9.48e+05      0.122      0.903   -1.74e+06    1.97e+06\n",
       "x233        1.613e+05   1.32e+06      0.122      0.903   -2.43e+06    2.75e+06\n",
       "x234         2.53e+04   2.07e+05      0.122      0.903   -3.81e+05    4.31e+05\n",
       "x235        4.683e+04   3.83e+05      0.122      0.903   -7.05e+05    7.98e+05\n",
       "x236        6.415e+04   5.25e+05      0.122      0.903   -9.65e+05    1.09e+06\n",
       "x237         632.3068   1.06e+04      0.060      0.952   -2.01e+04    2.14e+04\n",
       "x238        3.824e+04   3.13e+05      0.122      0.903   -5.76e+05    6.52e+05\n",
       "x239        3.382e+05   2.77e+06      0.122      0.903   -5.09e+06    5.77e+06\n",
       "x240        7.846e+04   6.43e+05      0.122      0.903   -1.18e+06    1.34e+06\n",
       "x241        3.776e+05   3.09e+06      0.122      0.903   -5.68e+06    6.44e+06\n",
       "x242        2.552e+05   2.09e+06      0.122      0.903   -3.84e+06    4.35e+06\n",
       "x243        8.436e+04   6.91e+05      0.122      0.903   -1.27e+06    1.44e+06\n",
       "x244        8.912e+04    7.3e+05      0.122      0.903   -1.34e+06    1.52e+06\n",
       "x245        7.209e+05    5.9e+06      0.122      0.903   -1.09e+07    1.23e+07\n",
       "x246       -4.755e-12   7.97e-11     -0.060      0.952   -1.61e-10    1.51e-10\n",
       "x247        2.442e-19   4.84e-19      0.504      0.614   -7.05e-19    1.19e-18\n",
       "x248        1.662e+05   1.36e+06      0.122      0.903    -2.5e+06    2.83e+06\n",
       "x249        6.932e+04   5.68e+05      0.122      0.903   -1.04e+06    1.18e+06\n",
       "x250        6.024e+04   4.93e+05      0.122      0.903   -9.07e+05    1.03e+06\n",
       "x251        1.828e+05    1.5e+06      0.122      0.903   -2.75e+06    3.12e+06\n",
       "x252        4.466e+04   3.66e+05      0.122      0.903   -6.72e+05    7.62e+05\n",
       "x253        2.592e+05   2.12e+06      0.122      0.903    -3.9e+06    4.42e+06\n",
       "x254        1.746e+04   1.43e+05      0.122      0.903   -2.63e+05    2.98e+05\n",
       "x255        8.018e+04   6.57e+05      0.122      0.903   -1.21e+06    1.37e+06\n",
       "x256         2.53e+04   2.07e+05      0.122      0.903   -3.81e+05    4.31e+05\n",
       "x257           0.1857      0.001    194.564      0.000       0.184       0.188\n",
       "x258          -0.0606      0.001    -92.896      0.000      -0.062      -0.059\n",
       "x259         1.32e+06   2.19e+07      0.060      0.952   -4.16e+07    4.43e+07\n",
       "x260        7.376e+05   1.23e+07      0.060      0.952   -2.33e+07    2.47e+07\n",
       "x261        1.966e+06   3.26e+07      0.060      0.952    -6.2e+07     6.6e+07\n",
       "x262        1.482e+06   2.46e+07      0.060      0.952   -4.68e+07    4.97e+07\n",
       "x263        2.873e+06   4.77e+07      0.060      0.952   -9.07e+07    9.64e+07\n",
       "x264          -0.0024      0.001     -3.017      0.003      -0.004      -0.001\n",
       "x265           0.0013      0.001      1.890      0.059   -4.64e-05       0.003\n",
       "x266        2.331e-14    3.9e-13      0.060      0.952   -7.42e-13    7.89e-13\n",
       "x267        6.442e+05   8.57e+06      0.075      0.940   -1.61e+07    1.74e+07\n",
       "x268        8.339e+05   1.11e+07      0.075      0.940   -2.09e+07    2.26e+07\n",
       "x269        4.117e+04   5.47e+05      0.075      0.940   -1.03e+06    1.11e+06\n",
       "x270        8.451e+05   1.12e+07      0.075      0.940   -2.12e+07    2.29e+07\n",
       "x271        1.929e+05   2.56e+06      0.075      0.940   -4.83e+06    5.22e+06\n",
       "x272        2.504e+04   3.33e+05      0.075      0.940   -6.27e+05    6.77e+05\n",
       "x273          -0.0267      0.001    -28.450      0.000      -0.029      -0.025\n",
       "x274           0.0196      0.001     20.642      0.000       0.018       0.021\n",
       "x275        2.337e+06   3.61e+07      0.065      0.948   -6.84e+07    7.31e+07\n",
       "x276          -0.0089      0.001    -12.682      0.000      -0.010      -0.007\n",
       "x277           0.0332      0.001     43.814      0.000       0.032       0.035\n",
       "x278           0.0073      0.001      9.953      0.000       0.006       0.009\n",
       "x279           0.0035      0.001      5.357      0.000       0.002       0.005\n",
       "x280           0.0103      0.001      9.076      0.000       0.008       0.012\n",
       "x281           0.0011      0.001      1.743      0.081      -0.000       0.002\n",
       "x282           0.0062      0.001      9.045      0.000       0.005       0.008\n",
       "x283          -0.0046      0.001     -6.389      0.000      -0.006      -0.003\n",
       "x284           0.0364      0.001     29.453      0.000       0.034       0.039\n",
       "x285           0.0002      0.002      0.143      0.886      -0.003       0.003\n",
       "x286          -0.0038      0.002     -2.322      0.020      -0.007      -0.001\n",
       "x287           0.0293      0.001     30.154      0.000       0.027       0.031\n",
       "x288          -0.0090      0.001    -13.475      0.000      -0.010      -0.008\n",
       "x289           0.0476      0.001     61.041      0.000       0.046       0.049\n",
       "x290          -0.0081      0.001    -11.698      0.000      -0.009      -0.007\n",
       "x291          -0.0092      0.001     -8.882      0.000      -0.011      -0.007\n",
       "x292           0.0078      0.001     10.740      0.000       0.006       0.009\n",
       "x293           0.0014      0.001      1.980      0.048     1.4e-05       0.003\n",
       "x294          -0.0021      0.001     -2.988      0.003      -0.003      -0.001\n",
       "x295           0.0149      0.001     19.619      0.000       0.013       0.016\n",
       "x296           0.0124      0.001     15.635      0.000       0.011       0.014\n",
       "x297          -0.0102      0.001    -12.189      0.000      -0.012      -0.009\n",
       "x298           0.0215      0.001     27.273      0.000       0.020       0.023\n",
       "x299          -0.0117      0.001    -13.896      0.000      -0.013      -0.010\n",
       "x300          -0.0093      0.001    -14.853      0.000      -0.010      -0.008\n",
       "x301          -0.0074      0.001    -10.650      0.000      -0.009      -0.006\n",
       "x302          -0.0206      0.001    -23.600      0.000      -0.022      -0.019\n",
       "x303           0.0188      0.001     30.237      0.000       0.018       0.020\n",
       "x304           0.0163      0.001     22.201      0.000       0.015       0.018\n",
       "x305          -0.0030      0.001     -3.663      0.000      -0.005      -0.001\n",
       "x306          -0.0125      0.001    -13.356      0.000      -0.014      -0.011\n",
       "x307          -0.0027      0.001     -3.787      0.000      -0.004      -0.001\n",
       "x308           0.0106      0.001     14.193      0.000       0.009       0.012\n",
       "x309          -0.0124      0.001    -17.605      0.000      -0.014      -0.011\n",
       "x310          -0.0108      0.001    -10.953      0.000      -0.013      -0.009\n",
       "x311          -0.0157      0.001    -20.669      0.000      -0.017      -0.014\n",
       "x312           0.0182      0.001     24.296      0.000       0.017       0.020\n",
       "x313          -0.0351      0.001    -24.903      0.000      -0.038      -0.032\n",
       "x314          -0.0164      0.001    -11.878      0.000      -0.019      -0.014\n",
       "x315           0.0100      0.001     12.702      0.000       0.008       0.012\n",
       "x316          -0.0042      0.001     -6.903      0.000      -0.005      -0.003\n",
       "x317           0.0022      0.001      3.502      0.000       0.001       0.003\n",
       "x318           0.0092      0.001     13.740      0.000       0.008       0.011\n",
       "x319           0.0229      0.001     37.318      0.000       0.022       0.024\n",
       "x320           0.0166      0.001     25.236      0.000       0.015       0.018\n",
       "x321           0.0130      0.001     11.208      0.000       0.011       0.015\n",
       "x322           0.0347      0.001     49.275      0.000       0.033       0.036\n",
       "x323          -0.0062      0.001     -8.959      0.000      -0.008      -0.005\n",
       "x324           0.0017      0.001      2.304      0.021       0.000       0.003\n",
       "x325          -0.0085      0.001    -12.511      0.000      -0.010      -0.007\n",
       "x326           0.0130      0.001     18.626      0.000       0.012       0.014\n",
       "x327          -0.0235      0.001    -37.963      0.000      -0.025      -0.022\n",
       "x328          -0.0176      0.001    -17.717      0.000      -0.020      -0.016\n",
       "x329          -0.0042      0.001     -4.449      0.000      -0.006      -0.002\n",
       "==============================================================================\n",
       "Omnibus:                    13399.944   Durbin-Watson:                   0.081\n",
       "Prob(Omnibus):                  0.000   Jarque-Bera (JB):            25662.269\n",
       "Skew:                           0.357   Prob(JB):                         0.00\n",
       "Kurtosis:                       4.287   Cond. No.                     9.05e+16\n",
       "==============================================================================\n",
       "\n",
       "Warnings:\n",
       "[1] Standard Errors assume that the covariance matrix of the errors is correctly specified.\n",
       "[2] The smallest eigenvalue is 3.62e-28. This might indicate that there are\n",
       "strong multicollinearity problems or that the design matrix is singular.\n",
       "\"\"\""
      ]
     },
     "execution_count": 52,
     "metadata": {},
     "output_type": "execute_result"
    }
   ],
   "source": [
    "# Model-LR\n",
    "\n",
    "model=sm.OLS(y_train, sm.add_constant(X_train_trans))\n",
    "fit=model.fit()\n",
    "fit.summary()"
   ]
  },
  {
   "cell_type": "markdown",
   "metadata": {
    "ExecuteTime": {
     "end_time": "2019-02-18T09:53:22.993706Z",
     "start_time": "2019-02-18T09:53:22.963032Z"
    }
   },
   "source": [
    "### Lasso"
   ]
  },
  {
   "cell_type": "code",
   "execution_count": 53,
   "metadata": {
    "ExecuteTime": {
     "end_time": "2019-02-24T10:15:40.960111Z",
     "start_time": "2019-02-24T10:15:40.957259Z"
    }
   },
   "outputs": [],
   "source": [
    "est = make_pipeline(PolynomialFeatures(), Lasso())"
   ]
  },
  {
   "cell_type": "code",
   "execution_count": 54,
   "metadata": {
    "ExecuteTime": {
     "end_time": "2019-02-24T10:15:40.969602Z",
     "start_time": "2019-02-24T10:15:40.963592Z"
    }
   },
   "outputs": [
    {
     "data": {
      "text/plain": [
       "dict_keys(['memory', 'steps', 'polynomialfeatures', 'lasso', 'polynomialfeatures__degree', 'polynomialfeatures__include_bias', 'polynomialfeatures__interaction_only', 'lasso__alpha', 'lasso__copy_X', 'lasso__fit_intercept', 'lasso__max_iter', 'lasso__normalize', 'lasso__positive', 'lasso__precompute', 'lasso__random_state', 'lasso__selection', 'lasso__tol', 'lasso__warm_start'])"
      ]
     },
     "execution_count": 54,
     "metadata": {},
     "output_type": "execute_result"
    }
   ],
   "source": [
    "est.get_params().keys()"
   ]
  },
  {
   "cell_type": "code",
   "execution_count": 55,
   "metadata": {
    "ExecuteTime": {
     "end_time": "2019-02-24T10:15:40.975795Z",
     "start_time": "2019-02-24T10:15:40.972351Z"
    }
   },
   "outputs": [],
   "source": [
    "params ={'polynomialfeatures__degree':[1], \n",
    "         'lasso__alpha': [1e-4, 1e-3, 1e-2, 1e-1, 1],\n",
    "        }"
   ]
  },
  {
   "cell_type": "code",
   "execution_count": 56,
   "metadata": {
    "ExecuteTime": {
     "end_time": "2019-02-24T10:28:37.083916Z",
     "start_time": "2019-02-24T10:15:40.978503Z"
    }
   },
   "outputs": [
    {
     "name": "stderr",
     "output_type": "stream",
     "text": [
      "/Users/xzhou/anaconda3/lib/python3.6/site-packages/sklearn/linear_model/coordinate_descent.py:491: ConvergenceWarning: Objective did not converge. You might want to increase the number of iterations. Fitting data with very small alpha may cause precision problems.\n",
      "  ConvergenceWarning)\n",
      "/Users/xzhou/anaconda3/lib/python3.6/site-packages/sklearn/linear_model/coordinate_descent.py:491: ConvergenceWarning: Objective did not converge. You might want to increase the number of iterations. Fitting data with very small alpha may cause precision problems.\n",
      "  ConvergenceWarning)\n"
     ]
    },
    {
     "data": {
      "text/plain": [
       "GridSearchCV(cv=3, error_score='raise',\n",
       "       estimator=Pipeline(memory=None,\n",
       "     steps=[('polynomialfeatures', PolynomialFeatures(degree=2, include_bias=True, interaction_only=False)), ('lasso', Lasso(alpha=1.0, copy_X=True, fit_intercept=True, max_iter=1000,\n",
       "   normalize=False, positive=False, precompute=False, random_state=None,\n",
       "   selection='cyclic', tol=0.0001, warm_start=False))]),\n",
       "       fit_params=None, iid=True, n_jobs=-1,\n",
       "       param_grid={'polynomialfeatures__degree': [1], 'lasso__alpha': [0.0001, 0.001, 0.01, 0.1, 1]},\n",
       "       pre_dispatch='2*n_jobs', refit=True, return_train_score=True,\n",
       "       scoring=None, verbose=0)"
      ]
     },
     "execution_count": 56,
     "metadata": {},
     "output_type": "execute_result"
    }
   ],
   "source": [
    "grid = GridSearchCV(est, param_grid=params, cv=3, \n",
    "                    return_train_score=True,  n_jobs =-1)\n",
    "grid.fit(X_train_trans, y_train)"
   ]
  },
  {
   "cell_type": "code",
   "execution_count": 57,
   "metadata": {
    "ExecuteTime": {
     "end_time": "2019-02-24T10:28:37.111479Z",
     "start_time": "2019-02-24T10:28:37.095649Z"
    }
   },
   "outputs": [
    {
     "data": {
      "text/plain": [
       "{'lasso__alpha': 0.01, 'polynomialfeatures__degree': 1}"
      ]
     },
     "execution_count": 57,
     "metadata": {},
     "output_type": "execute_result"
    }
   ],
   "source": [
    "grid.best_params_"
   ]
  },
  {
   "cell_type": "code",
   "execution_count": 58,
   "metadata": {
    "ExecuteTime": {
     "end_time": "2019-02-24T10:28:37.122336Z",
     "start_time": "2019-02-24T10:28:37.115235Z"
    }
   },
   "outputs": [
    {
     "data": {
      "text/plain": [
       "[{'lasso__alpha': 0.0001, 'polynomialfeatures__degree': 1},\n",
       " {'lasso__alpha': 0.001, 'polynomialfeatures__degree': 1},\n",
       " {'lasso__alpha': 0.01, 'polynomialfeatures__degree': 1},\n",
       " {'lasso__alpha': 0.1, 'polynomialfeatures__degree': 1},\n",
       " {'lasso__alpha': 1, 'polynomialfeatures__degree': 1}]"
      ]
     },
     "execution_count": 58,
     "metadata": {},
     "output_type": "execute_result"
    }
   ],
   "source": [
    "grid.cv_results_['params']"
   ]
  },
  {
   "cell_type": "code",
   "execution_count": 59,
   "metadata": {
    "ExecuteTime": {
     "end_time": "2019-02-24T10:28:37.131195Z",
     "start_time": "2019-02-24T10:28:37.124848Z"
    }
   },
   "outputs": [
    {
     "data": {
      "text/plain": [
       "0.6702445004315492"
      ]
     },
     "execution_count": 59,
     "metadata": {},
     "output_type": "execute_result"
    }
   ],
   "source": [
    "grid.best_score_"
   ]
  },
  {
   "cell_type": "markdown",
   "metadata": {},
   "source": [
    "## Tree Based Regression"
   ]
  },
  {
   "cell_type": "markdown",
   "metadata": {},
   "source": [
    "### Boosting Tree"
   ]
  },
  {
   "cell_type": "code",
   "execution_count": 60,
   "metadata": {
    "ExecuteTime": {
     "end_time": "2019-02-24T13:18:08.768933Z",
     "start_time": "2019-02-24T10:28:37.133671Z"
    }
   },
   "outputs": [],
   "source": [
    "estimators = [100, 200]\n",
    "depth = [3, 5, 8, 10]\n",
    "\n",
    "r2_scores_gbr = []\n",
    "MSEs_gbr = []\n",
    "gbrs = []\n",
    "\n",
    "\n",
    "for e in estimators:\n",
    "    for d in depth:\n",
    "\n",
    "        gbr = GradientBoostingRegressor(random_state=42, n_estimators=e, max_depth=d)\n",
    "        gbr.fit(X_train_trans, y_train.ravel())\n",
    "\n",
    "        preds = gbr.predict(X_test_trans)\n",
    "        score = r2_score(y_test, preds)\n",
    "        mse = mean_squared_error(y_test, preds)\n",
    "        \n",
    "        gbrs.append([e, d, gbr]) \n",
    "        r2_scores_gbr.append([e, d, score])\n",
    "        MSEs_gbr.append([e, d, mse])"
   ]
  },
  {
   "cell_type": "code",
   "execution_count": 61,
   "metadata": {
    "ExecuteTime": {
     "end_time": "2019-02-24T13:18:08.781166Z",
     "start_time": "2019-02-24T13:18:08.771543Z"
    }
   },
   "outputs": [
    {
     "name": "stdout",
     "output_type": "stream",
     "text": [
      "Estimator: 100 , max_depth: 3 , R2 score: 0.754 MSE: 0.081\n",
      "Estimator: 100 , max_depth: 5 , R2 score: 0.768 MSE: 0.076\n",
      "Estimator: 100 , max_depth: 8 , R2 score: 0.776 MSE: 0.074\n",
      "Estimator: 100 , max_depth: 10 , R2 score: 0.776 MSE: 0.074\n",
      "Estimator: 200 , max_depth: 3 , R2 score: 0.767 MSE: 0.077\n",
      "Estimator: 200 , max_depth: 5 , R2 score: 0.777 MSE: 0.073\n",
      "Estimator: 200 , max_depth: 8 , R2 score: 0.779 MSE: 0.073\n",
      "Estimator: 200 , max_depth: 10 , R2 score: 0.778 MSE: 0.073\n"
     ]
    }
   ],
   "source": [
    "for index, value in enumerate(r2_scores_gbr):\n",
    "    print ('Estimator:', value[0], ', max_depth:', value[1], \n",
    "           ', R2 score:', '%.3f'%(value[2]),\n",
    "           'MSE:', '%.3f'%(MSEs_gbr[index][2]) )"
   ]
  },
  {
   "cell_type": "markdown",
   "metadata": {},
   "source": [
    "### Random Forest"
   ]
  },
  {
   "cell_type": "code",
   "execution_count": 62,
   "metadata": {
    "ExecuteTime": {
     "end_time": "2019-02-24T13:46:17.267336Z",
     "start_time": "2019-02-24T13:18:08.783931Z"
    }
   },
   "outputs": [],
   "source": [
    "estimators = [100, 200, 300]\n",
    "depth = [3, 5, 10]\n",
    "rfs = []\n",
    "r2_scores_rf = []\n",
    "MSEs_rf = []\n",
    "\n",
    "\n",
    "# Model-Random Forest\n",
    "\n",
    "for e in estimators:\n",
    "    for d in depth:\n",
    "        rf = RandomForestRegressor(n_estimators=e, \n",
    "                                   max_depth=d,\n",
    "                                   criterion='mse', \n",
    "                                   random_state=42, \n",
    "                                   n_jobs=-1)\n",
    "        rf.fit(X_train_trans, y_train.ravel())\n",
    "\n",
    "        preds = rf.predict(X_test_trans)\n",
    "        score = r2_score(y_test, preds)\n",
    "        mse = mean_squared_error(y_test, preds)\n",
    "        \n",
    "        rfs.append([e, d, rf])\n",
    "        r2_scores_rf.append([e, d, score])\n",
    "        MSEs_rf.append([e, d, mse])"
   ]
  },
  {
   "cell_type": "code",
   "execution_count": 63,
   "metadata": {
    "ExecuteTime": {
     "end_time": "2019-02-24T13:46:17.276582Z",
     "start_time": "2019-02-24T13:46:17.270041Z"
    }
   },
   "outputs": [
    {
     "name": "stdout",
     "output_type": "stream",
     "text": [
      "Estimator: 100 , max_depth: 3 , R2 score: 0.579 MSE: 0.139\n",
      "Estimator: 100 , max_depth: 5 , R2 score: 0.649 MSE: 0.115\n",
      "Estimator: 100 , max_depth: 10 , R2 score: 0.707 MSE: 0.097\n",
      "Estimator: 200 , max_depth: 3 , R2 score: 0.579 MSE: 0.139\n",
      "Estimator: 200 , max_depth: 5 , R2 score: 0.650 MSE: 0.115\n",
      "Estimator: 200 , max_depth: 10 , R2 score: 0.707 MSE: 0.097\n",
      "Estimator: 300 , max_depth: 3 , R2 score: 0.580 MSE: 0.138\n",
      "Estimator: 300 , max_depth: 5 , R2 score: 0.650 MSE: 0.115\n",
      "Estimator: 300 , max_depth: 10 , R2 score: 0.707 MSE: 0.096\n"
     ]
    }
   ],
   "source": [
    "for index, value in enumerate(r2_scores_rf):\n",
    "    print ('Estimator:', value[0], ', max_depth:', value[1], \n",
    "           ', R2 score:', '%.3f'%(value[2]),\n",
    "           'MSE:', '%.3f'%(MSEs_rf[index][2]) )"
   ]
  },
  {
   "cell_type": "markdown",
   "metadata": {
    "ExecuteTime": {
     "end_time": "2019-02-24T06:40:14.784207Z",
     "start_time": "2019-02-24T06:40:14.780992Z"
    }
   },
   "source": [
    "## Feature Selection"
   ]
  },
  {
   "cell_type": "code",
   "execution_count": 79,
   "metadata": {
    "ExecuteTime": {
     "end_time": "2019-02-24T20:53:26.296227Z",
     "start_time": "2019-02-24T20:53:26.292860Z"
    }
   },
   "outputs": [],
   "source": [
    "# Noted boosting tree with 200 estimators and 8 max_depth produces best result\n",
    "\n",
    "gbr_e200_d8 = gbrs[6][2]"
   ]
  },
  {
   "cell_type": "code",
   "execution_count": 80,
   "metadata": {
    "ExecuteTime": {
     "end_time": "2019-02-24T20:54:01.838245Z",
     "start_time": "2019-02-24T20:54:01.822567Z"
    }
   },
   "outputs": [
    {
     "data": {
      "text/plain": [
       "[['reviews_per_month', 0.06004200141891048],\n",
       " ['number_of_reviews', 0.045429855172575945],\n",
       " ['cleaning_fee', 0.04501802378948796],\n",
       " ['room_type_Entire home/apt', 0.034049276429660595],\n",
       " ['accommodates', 0.030531050598067055]]"
      ]
     },
     "metadata": {},
     "output_type": "display_data"
    }
   ],
   "source": [
    "# Sorted feature by importance\n",
    "\n",
    "feature_labels = X_train.columns\n",
    "feature_tuples = zip (feature_labels, gbr_e200_d8.feature_importances_)\n",
    "feature_lists = [list(feature_tuple) for feature_tuple in feature_tuples]\n",
    "feature_lists.sort(key=lambda x: abs(x[1]), reverse=True)\n",
    "\n",
    "display (feature_lists[0:5])"
   ]
  },
  {
   "cell_type": "code",
   "execution_count": 67,
   "metadata": {
    "ExecuteTime": {
     "end_time": "2019-02-24T14:17:43.255977Z",
     "start_time": "2019-02-24T14:17:43.250534Z"
    }
   },
   "outputs": [
    {
     "name": "stdout",
     "output_type": "stream",
     "text": [
      "Number of features kept:  196\n"
     ]
    }
   ],
   "source": [
    "# Kept features that are above 0.001 thresold\n",
    "\n",
    "thres = 0.001\n",
    "\n",
    "features_selected = [feature for feature, importance in feature_lists\n",
    "                    if importance >= thres]\n",
    "nums_features_selected = len(features_selected)\n",
    "\n",
    "print ('Number of features kept: ', nums_features_selected)"
   ]
  },
  {
   "cell_type": "markdown",
   "metadata": {
    "ExecuteTime": {
     "end_time": "2019-02-24T07:22:53.323401Z",
     "start_time": "2019-02-24T06:49:09.140Z"
    }
   },
   "source": [
    "## Updated Model with Selected Features"
   ]
  },
  {
   "cell_type": "code",
   "execution_count": 68,
   "metadata": {
    "ExecuteTime": {
     "end_time": "2019-02-24T14:17:43.899646Z",
     "start_time": "2019-02-24T14:17:43.258421Z"
    }
   },
   "outputs": [],
   "source": [
    "# Performed another model(Random Forest) based on selected features\n",
    "\n",
    "X_train_updated = X_train[features_selected]\n",
    "X_test_updated = X_test[features_selected]"
   ]
  },
  {
   "cell_type": "code",
   "execution_count": 69,
   "metadata": {
    "ExecuteTime": {
     "end_time": "2019-02-24T14:17:46.645150Z",
     "start_time": "2019-02-24T14:17:43.901764Z"
    }
   },
   "outputs": [],
   "source": [
    "ss2 = StandardScaler()\n",
    "X_train_trans_updated = ss.fit_transform(X_train_updated)\n",
    "X_test_trans_updated = ss.transform(X_test_updated)"
   ]
  },
  {
   "cell_type": "code",
   "execution_count": 70,
   "metadata": {
    "ExecuteTime": {
     "end_time": "2019-02-24T14:42:47.704084Z",
     "start_time": "2019-02-24T14:17:46.648135Z"
    }
   },
   "outputs": [
    {
     "data": {
      "text/plain": [
       "GradientBoostingRegressor(alpha=0.9, criterion='friedman_mse', init=None,\n",
       "             learning_rate=0.1, loss='ls', max_depth=8, max_features=None,\n",
       "             max_leaf_nodes=None, min_impurity_decrease=0.0,\n",
       "             min_impurity_split=None, min_samples_leaf=1,\n",
       "             min_samples_split=2, min_weight_fraction_leaf=0.0,\n",
       "             n_estimators=200, presort='auto', random_state=42,\n",
       "             subsample=1.0, verbose=0, warm_start=False)"
      ]
     },
     "execution_count": 70,
     "metadata": {},
     "output_type": "execute_result"
    }
   ],
   "source": [
    "# Updated boosting tree model with selected features\n",
    "\n",
    "gbr_updated = GradientBoostingRegressor(\n",
    "              random_state=42, n_estimators=200, max_depth=8)\n",
    "gbr_updated.fit(X_train_trans_updated, y_train.ravel())"
   ]
  },
  {
   "cell_type": "code",
   "execution_count": 81,
   "metadata": {
    "ExecuteTime": {
     "end_time": "2019-02-24T20:55:16.123101Z",
     "start_time": "2019-02-24T20:55:14.733937Z"
    }
   },
   "outputs": [
    {
     "name": "stdout",
     "output_type": "stream",
     "text": [
      "R2s score: 0.779 , MSE: 0.073\n"
     ]
    }
   ],
   "source": [
    "preds_updated = gbr_updated.predict(X_test_trans_updated)\n",
    "score_updated = r2_score(y_test, preds_updated)\n",
    "mse_updated = mean_squared_error(y_test, preds_updated)\n",
    "\n",
    "print ('R2s score: %.3f'%(score_updated), ', MSE: %.3f'%(mse_updated))"
   ]
  },
  {
   "cell_type": "markdown",
   "metadata": {},
   "source": [
    "# Data Storage"
   ]
  },
  {
   "cell_type": "code",
   "execution_count": 83,
   "metadata": {
    "ExecuteTime": {
     "end_time": "2019-02-24T20:56:26.904399Z",
     "start_time": "2019-02-24T20:56:26.901181Z"
    }
   },
   "outputs": [],
   "source": [
    "# 'ref_dist', 'ref_juri', 'ref_jurisdiction', 'price_by_month_week'\n",
    "\n",
    "\n",
    "columns =['listing_id', 'ref_district', 'ref_jurisdiction', 'price_by_mon_dow']\n",
    "columns.extend(features_selected)"
   ]
  },
  {
   "cell_type": "code",
   "execution_count": 84,
   "metadata": {
    "ExecuteTime": {
     "end_time": "2019-02-24T20:56:31.089979Z",
     "start_time": "2019-02-24T20:56:30.234109Z"
    }
   },
   "outputs": [
    {
     "data": {
      "text/html": [
       "<div>\n",
       "<style scoped>\n",
       "    .dataframe tbody tr th:only-of-type {\n",
       "        vertical-align: middle;\n",
       "    }\n",
       "\n",
       "    .dataframe tbody tr th {\n",
       "        vertical-align: top;\n",
       "    }\n",
       "\n",
       "    .dataframe thead th {\n",
       "        text-align: right;\n",
       "    }\n",
       "</style>\n",
       "<table border=\"1\" class=\"dataframe\">\n",
       "  <thead>\n",
       "    <tr style=\"text-align: right;\">\n",
       "      <th></th>\n",
       "      <th>listing_id</th>\n",
       "      <th>ref_district</th>\n",
       "      <th>ref_jurisdiction</th>\n",
       "      <th>price_by_mon_dow</th>\n",
       "      <th>reviews_per_month</th>\n",
       "      <th>number_of_reviews</th>\n",
       "      <th>cleaning_fee</th>\n",
       "      <th>room_type_Entire home/apt</th>\n",
       "      <th>accommodates</th>\n",
       "      <th>host_listings_count</th>\n",
       "      <th>...</th>\n",
       "      <th>neighbourhood_cleansed_Highland Terrace</th>\n",
       "      <th>neighbourhood_cleansed_Shafter</th>\n",
       "      <th>neighbourhood_cleansed_Fremont</th>\n",
       "      <th>neighbourhood_cleansed_Webster</th>\n",
       "      <th>neighbourhood_cleansed_Caballo Hills</th>\n",
       "      <th>neighbourhood_cleansed_Durant Manor</th>\n",
       "      <th>neighbourhood_cleansed_Golf Links</th>\n",
       "      <th>neighbourhood_cleansed_San Pablo Gateway</th>\n",
       "      <th>neighbourhood_cleansed_Lynn-Highland Park</th>\n",
       "      <th>neighbourhood_cleansed_Fitchburg</th>\n",
       "    </tr>\n",
       "  </thead>\n",
       "  <tbody>\n",
       "    <tr>\n",
       "      <th>0</th>\n",
       "      <td>958</td>\n",
       "      <td>San Francisco</td>\n",
       "      <td>SAN FRANCISCO</td>\n",
       "      <td>180.0</td>\n",
       "      <td>1.38</td>\n",
       "      <td>152</td>\n",
       "      <td>100.0</td>\n",
       "      <td>1</td>\n",
       "      <td>3</td>\n",
       "      <td>1</td>\n",
       "      <td>...</td>\n",
       "      <td>0</td>\n",
       "      <td>0</td>\n",
       "      <td>0</td>\n",
       "      <td>0</td>\n",
       "      <td>0</td>\n",
       "      <td>0</td>\n",
       "      <td>0</td>\n",
       "      <td>0</td>\n",
       "      <td>0</td>\n",
       "      <td>0</td>\n",
       "    </tr>\n",
       "    <tr>\n",
       "      <th>1</th>\n",
       "      <td>958</td>\n",
       "      <td>San Francisco</td>\n",
       "      <td>SAN FRANCISCO</td>\n",
       "      <td>179.5</td>\n",
       "      <td>1.38</td>\n",
       "      <td>152</td>\n",
       "      <td>100.0</td>\n",
       "      <td>1</td>\n",
       "      <td>3</td>\n",
       "      <td>1</td>\n",
       "      <td>...</td>\n",
       "      <td>0</td>\n",
       "      <td>0</td>\n",
       "      <td>0</td>\n",
       "      <td>0</td>\n",
       "      <td>0</td>\n",
       "      <td>0</td>\n",
       "      <td>0</td>\n",
       "      <td>0</td>\n",
       "      <td>0</td>\n",
       "      <td>0</td>\n",
       "    </tr>\n",
       "    <tr>\n",
       "      <th>2</th>\n",
       "      <td>958</td>\n",
       "      <td>San Francisco</td>\n",
       "      <td>SAN FRANCISCO</td>\n",
       "      <td>179.5</td>\n",
       "      <td>1.38</td>\n",
       "      <td>152</td>\n",
       "      <td>100.0</td>\n",
       "      <td>1</td>\n",
       "      <td>3</td>\n",
       "      <td>1</td>\n",
       "      <td>...</td>\n",
       "      <td>0</td>\n",
       "      <td>0</td>\n",
       "      <td>0</td>\n",
       "      <td>0</td>\n",
       "      <td>0</td>\n",
       "      <td>0</td>\n",
       "      <td>0</td>\n",
       "      <td>0</td>\n",
       "      <td>0</td>\n",
       "      <td>0</td>\n",
       "    </tr>\n",
       "    <tr>\n",
       "      <th>3</th>\n",
       "      <td>958</td>\n",
       "      <td>San Francisco</td>\n",
       "      <td>SAN FRANCISCO</td>\n",
       "      <td>179.0</td>\n",
       "      <td>1.38</td>\n",
       "      <td>152</td>\n",
       "      <td>100.0</td>\n",
       "      <td>1</td>\n",
       "      <td>3</td>\n",
       "      <td>1</td>\n",
       "      <td>...</td>\n",
       "      <td>0</td>\n",
       "      <td>0</td>\n",
       "      <td>0</td>\n",
       "      <td>0</td>\n",
       "      <td>0</td>\n",
       "      <td>0</td>\n",
       "      <td>0</td>\n",
       "      <td>0</td>\n",
       "      <td>0</td>\n",
       "      <td>0</td>\n",
       "    </tr>\n",
       "    <tr>\n",
       "      <th>4</th>\n",
       "      <td>958</td>\n",
       "      <td>San Francisco</td>\n",
       "      <td>SAN FRANCISCO</td>\n",
       "      <td>183.0</td>\n",
       "      <td>1.38</td>\n",
       "      <td>152</td>\n",
       "      <td>100.0</td>\n",
       "      <td>1</td>\n",
       "      <td>3</td>\n",
       "      <td>1</td>\n",
       "      <td>...</td>\n",
       "      <td>0</td>\n",
       "      <td>0</td>\n",
       "      <td>0</td>\n",
       "      <td>0</td>\n",
       "      <td>0</td>\n",
       "      <td>0</td>\n",
       "      <td>0</td>\n",
       "      <td>0</td>\n",
       "      <td>0</td>\n",
       "      <td>0</td>\n",
       "    </tr>\n",
       "  </tbody>\n",
       "</table>\n",
       "<p>5 rows × 200 columns</p>\n",
       "</div>"
      ],
      "text/plain": [
       "   listing_id   ref_district ref_jurisdiction  price_by_mon_dow  \\\n",
       "0         958  San Francisco    SAN FRANCISCO             180.0   \n",
       "1         958  San Francisco    SAN FRANCISCO             179.5   \n",
       "2         958  San Francisco    SAN FRANCISCO             179.5   \n",
       "3         958  San Francisco    SAN FRANCISCO             179.0   \n",
       "4         958  San Francisco    SAN FRANCISCO             183.0   \n",
       "\n",
       "   reviews_per_month  number_of_reviews  cleaning_fee  \\\n",
       "0               1.38                152         100.0   \n",
       "1               1.38                152         100.0   \n",
       "2               1.38                152         100.0   \n",
       "3               1.38                152         100.0   \n",
       "4               1.38                152         100.0   \n",
       "\n",
       "   room_type_Entire home/apt  accommodates  host_listings_count  \\\n",
       "0                          1             3                    1   \n",
       "1                          1             3                    1   \n",
       "2                          1             3                    1   \n",
       "3                          1             3                    1   \n",
       "4                          1             3                    1   \n",
       "\n",
       "                 ...                 neighbourhood_cleansed_Highland Terrace  \\\n",
       "0                ...                                                       0   \n",
       "1                ...                                                       0   \n",
       "2                ...                                                       0   \n",
       "3                ...                                                       0   \n",
       "4                ...                                                       0   \n",
       "\n",
       "   neighbourhood_cleansed_Shafter  neighbourhood_cleansed_Fremont  \\\n",
       "0                               0                               0   \n",
       "1                               0                               0   \n",
       "2                               0                               0   \n",
       "3                               0                               0   \n",
       "4                               0                               0   \n",
       "\n",
       "   neighbourhood_cleansed_Webster  neighbourhood_cleansed_Caballo Hills  \\\n",
       "0                               0                                     0   \n",
       "1                               0                                     0   \n",
       "2                               0                                     0   \n",
       "3                               0                                     0   \n",
       "4                               0                                     0   \n",
       "\n",
       "   neighbourhood_cleansed_Durant Manor  neighbourhood_cleansed_Golf Links  \\\n",
       "0                                    0                                  0   \n",
       "1                                    0                                  0   \n",
       "2                                    0                                  0   \n",
       "3                                    0                                  0   \n",
       "4                                    0                                  0   \n",
       "\n",
       "   neighbourhood_cleansed_San Pablo Gateway  \\\n",
       "0                                         0   \n",
       "1                                         0   \n",
       "2                                         0   \n",
       "3                                         0   \n",
       "4                                         0   \n",
       "\n",
       "   neighbourhood_cleansed_Lynn-Highland Park  neighbourhood_cleansed_Fitchburg  \n",
       "0                                          0                                 0  \n",
       "1                                          0                                 0  \n",
       "2                                          0                                 0  \n",
       "3                                          0                                 0  \n",
       "4                                          0                                 0  \n",
       "\n",
       "[5 rows x 200 columns]"
      ]
     },
     "execution_count": 84,
     "metadata": {},
     "output_type": "execute_result"
    }
   ],
   "source": [
    "df_data = df_final[columns]\n",
    "df_data.head()"
   ]
  },
  {
   "cell_type": "code",
   "execution_count": 85,
   "metadata": {
    "ExecuteTime": {
     "end_time": "2019-02-24T20:56:37.501477Z",
     "start_time": "2019-02-24T20:56:37.495986Z"
    }
   },
   "outputs": [
    {
     "data": {
      "text/plain": [
       "(407498, 200)"
      ]
     },
     "execution_count": 85,
     "metadata": {},
     "output_type": "execute_result"
    }
   ],
   "source": [
    "df_data.shape"
   ]
  },
  {
   "cell_type": "code",
   "execution_count": 87,
   "metadata": {
    "ExecuteTime": {
     "end_time": "2019-02-24T20:58:12.671812Z",
     "start_time": "2019-02-24T20:56:57.127542Z"
    }
   },
   "outputs": [],
   "source": [
    "csv_file = '/Users/xzhou/github/project_archives/files_airbnb/{}.csv'\n",
    "\n",
    "csv_path = csv_file.format('airbnb_data')\n",
    "\n",
    "df_data.to_csv(csv_path)"
   ]
  },
  {
   "cell_type": "code",
   "execution_count": null,
   "metadata": {},
   "outputs": [],
   "source": []
  },
  {
   "cell_type": "code",
   "execution_count": 89,
   "metadata": {
    "ExecuteTime": {
     "end_time": "2019-02-24T20:58:30.786375Z",
     "start_time": "2019-02-24T20:58:30.783197Z"
    },
    "scrolled": false
   },
   "outputs": [],
   "source": [
    "# temp_df = df_data[['Monday', 'Tuesday', 'Wednesday', 'Thursday', 'Friday', 'Saturday', 'Sunday']].copy()\n",
    "\n",
    "# days = temp_df.apply(lambda x: x.idxmax(), axis=1)\n",
    "# days"
   ]
  },
  {
   "cell_type": "markdown",
   "metadata": {
    "ExecuteTime": {
     "end_time": "2019-02-24T21:11:36.774604Z",
     "start_time": "2019-02-24T21:11:36.769969Z"
    }
   },
   "source": [
    "# P.S. Pricie Seasonality"
   ]
  },
  {
   "cell_type": "code",
   "execution_count": 90,
   "metadata": {
    "ExecuteTime": {
     "end_time": "2019-02-24T20:58:37.540561Z",
     "start_time": "2019-02-24T20:58:35.706504Z"
    }
   },
   "outputs": [],
   "source": [
    "# This is to identify seasonality pattern\n",
    "\n",
    "df_visual = pd.merge(left=df_pricing_by_mon_dow, \n",
    "                    right=df_listings_features,\n",
    "                    how='inner',\n",
    "                    left_on='listing_id',\n",
    "                    right_on='id')"
   ]
  },
  {
   "cell_type": "code",
   "execution_count": 92,
   "metadata": {
    "ExecuteTime": {
     "end_time": "2019-02-24T20:58:48.219001Z",
     "start_time": "2019-02-24T20:58:48.213424Z"
    }
   },
   "outputs": [
    {
     "data": {
      "text/plain": [
       "(407498, 319)"
      ]
     },
     "execution_count": 92,
     "metadata": {},
     "output_type": "execute_result"
    }
   ],
   "source": [
    "df_visual.shape"
   ]
  },
  {
   "cell_type": "code",
   "execution_count": 95,
   "metadata": {
    "ExecuteTime": {
     "end_time": "2019-02-24T20:59:40.874105Z",
     "start_time": "2019-02-24T20:59:40.807303Z"
    }
   },
   "outputs": [
    {
     "data": {
      "text/plain": [
       "ref_district   day_of_week\n",
       "Oakland        Friday         120.767372\n",
       "               Monday         117.471899\n",
       "               Saturday       121.058804\n",
       "               Sunday         118.008274\n",
       "               Thursday       117.556023\n",
       "               Tuesday        117.142522\n",
       "               Wednesday      117.344513\n",
       "San Francisco  Friday         173.806462\n",
       "               Monday         167.981110\n",
       "               Saturday       173.784742\n",
       "               Sunday         169.095354\n",
       "               Thursday       168.670277\n",
       "               Tuesday        168.104305\n",
       "               Wednesday      168.052583\n",
       "Santa Clara    Friday         136.325082\n",
       "               Monday         134.858146\n",
       "               Saturday       136.225450\n",
       "               Sunday         134.766806\n",
       "               Thursday       135.357829\n",
       "               Tuesday        135.305526\n",
       "               Wednesday      135.605740\n",
       "Name: price_by_mon_dow, dtype: float64"
      ]
     },
     "execution_count": 95,
     "metadata": {},
     "output_type": "execute_result"
    }
   ],
   "source": [
    "# Price by dow for all apartment types\n",
    "\n",
    "df_by_dow = df_visual.groupby(['ref_district', 'day_of_week'])  \\\n",
    "                     .price_by_mon_dow.mean()\n",
    "df_by_dow"
   ]
  },
  {
   "cell_type": "code",
   "execution_count": 96,
   "metadata": {
    "ExecuteTime": {
     "end_time": "2019-02-24T21:00:26.766914Z",
     "start_time": "2019-02-24T21:00:26.694586Z"
    }
   },
   "outputs": [
    {
     "data": {
      "text/plain": [
       "ref_district   month\n",
       "Oakland        Apr.     123.011585\n",
       "               Aug.     118.333182\n",
       "               Dec.     119.472456\n",
       "               Feb.     118.060416\n",
       "               Jan.     118.714664\n",
       "               Jul.     123.801546\n",
       "               Jun.     124.109276\n",
       "               Mar.     122.657703\n",
       "               May.     123.081401\n",
       "               Nov.     111.351815\n",
       "               Oct.     113.503525\n",
       "               Sep.     115.025610\n",
       "San Francisco  Apr.     168.868004\n",
       "               Aug.     175.033169\n",
       "               Dec.     167.503836\n",
       "               Feb.     167.903980\n",
       "               Jan.     169.889133\n",
       "               Jul.     170.565861\n",
       "               Jun.     169.988888\n",
       "               Mar.     168.965796\n",
       "               May.     167.865573\n",
       "               Nov.     164.750004\n",
       "               Oct.     170.017649\n",
       "               Sep.     177.789215\n",
       "Santa Clara    Apr.     140.837415\n",
       "               Aug.     134.163078\n",
       "               Dec.     134.828051\n",
       "               Feb.     136.617036\n",
       "               Jan.     135.969579\n",
       "               Jul.     133.872581\n",
       "               Jun.     132.998351\n",
       "               Mar.     140.221916\n",
       "               May.     139.984313\n",
       "               Nov.     131.188038\n",
       "               Oct.     133.070053\n",
       "               Sep.     135.171524\n",
       "Name: price_by_mon_dow, dtype: float64"
      ]
     },
     "execution_count": 96,
     "metadata": {},
     "output_type": "execute_result"
    }
   ],
   "source": [
    "df_by_mon = df_visual.groupby(['ref_district', 'month'])  \\\n",
    "                     .price_by_mon_dow.mean()\n",
    "df_by_mon"
   ]
  },
  {
   "cell_type": "code",
   "execution_count": 97,
   "metadata": {
    "ExecuteTime": {
     "end_time": "2019-02-24T21:01:04.544453Z",
     "start_time": "2019-02-24T21:01:04.083880Z"
    }
   },
   "outputs": [
    {
     "name": "stdout",
     "output_type": "stream",
     "text": [
      "(216975, 319) (190523, 319)\n"
     ]
    }
   ],
   "source": [
    "df_visual_ent_apart = df_visual[df_visual['room_type_Entire home/apt']==1 ]\n",
    "df_visual_sing_room = df_visual[df_visual['room_type_Entire home/apt']!=1 ]\n",
    "\n",
    "print(df_visual_ent_apart.shape, df_visual_sing_room.shape )"
   ]
  },
  {
   "cell_type": "code",
   "execution_count": 100,
   "metadata": {
    "ExecuteTime": {
     "end_time": "2019-02-24T21:04:53.627600Z",
     "start_time": "2019-02-24T21:04:53.588185Z"
    }
   },
   "outputs": [
    {
     "data": {
      "text/plain": [
       "ref_district   day_of_week\n",
       "Oakland        Friday         151.028933\n",
       "               Monday         146.200905\n",
       "               Saturday       151.393272\n",
       "               Sunday         147.249513\n",
       "               Thursday       146.529586\n",
       "               Tuesday        145.668259\n",
       "               Wednesday      146.044186\n",
       "San Francisco  Friday         211.177964\n",
       "               Monday         204.813449\n",
       "               Saturday       211.109980\n",
       "               Sunday         205.917327\n",
       "               Thursday       205.669198\n",
       "               Tuesday        205.042800\n",
       "               Wednesday      204.863768\n",
       "Santa Clara    Friday         204.755467\n",
       "               Monday         203.117403\n",
       "               Saturday       204.360394\n",
       "               Sunday         202.663630\n",
       "               Thursday       203.922394\n",
       "               Tuesday        203.767863\n",
       "               Wednesday      204.424058\n",
       "Name: price_by_mon_dow, dtype: float64"
      ]
     },
     "execution_count": 100,
     "metadata": {},
     "output_type": "execute_result"
    }
   ],
   "source": [
    "# Weekly pattern for entire apartment\n",
    "\n",
    "df_ent_apart_by_dow = df_visual_ent_apart.groupby(['ref_district', 'day_of_week'])  \\\n",
    "                                         .price_by_mon_dow.mean()\n",
    "df_ent_apart_by_dow"
   ]
  },
  {
   "cell_type": "code",
   "execution_count": 101,
   "metadata": {
    "ExecuteTime": {
     "end_time": "2019-02-24T21:04:59.871301Z",
     "start_time": "2019-02-24T21:04:59.824501Z"
    }
   },
   "outputs": [
    {
     "data": {
      "text/plain": [
       "ref_district   day_of_week\n",
       "Oakland        Friday          75.503706\n",
       "               Monday          73.765381\n",
       "               Saturday        75.507196\n",
       "               Sunday          73.547569\n",
       "               Thursday        73.802102\n",
       "               Tuesday         73.691687\n",
       "               Wednesday       73.764326\n",
       "San Francisco  Friday         124.724201\n",
       "               Monday         119.657800\n",
       "               Saturday       124.368007\n",
       "               Sunday         120.494809\n",
       "               Thursday       120.571680\n",
       "               Tuesday        119.798881\n",
       "               Wednesday      120.029255\n",
       "Santa Clara    Friday          79.822268\n",
       "               Monday          78.567982\n",
       "               Saturday        79.825026\n",
       "               Sunday          78.528311\n",
       "               Thursday        78.618272\n",
       "               Tuesday         78.595941\n",
       "               Wednesday       78.560329\n",
       "Name: price_by_mon_dow, dtype: float64"
      ]
     },
     "execution_count": 101,
     "metadata": {},
     "output_type": "execute_result"
    }
   ],
   "source": [
    "# Weekly pattern for single room\n",
    "\n",
    "df_sing_room_by_dow = df_visual_sing_room.groupby(['ref_district', 'day_of_week'])  \\\n",
    "                                         .price_by_mon_dow.mean()\n",
    "df_sing_room_by_dow"
   ]
  },
  {
   "cell_type": "code",
   "execution_count": 103,
   "metadata": {
    "ExecuteTime": {
     "end_time": "2019-02-24T21:05:17.846004Z",
     "start_time": "2019-02-24T21:05:17.806995Z"
    }
   },
   "outputs": [
    {
     "data": {
      "text/plain": [
       "ref_district   month\n",
       "Oakland        Apr.     152.970769\n",
       "               Aug.     148.046702\n",
       "               Dec.     147.074091\n",
       "               Feb.     144.675173\n",
       "               Jan.     145.036679\n",
       "               Jul.     153.580032\n",
       "               Jun.     154.348160\n",
       "               Mar.     152.671308\n",
       "               May.     153.089479\n",
       "               Nov.     140.798115\n",
       "               Oct.     144.104286\n",
       "               Sep.     145.338658\n",
       "San Francisco  Apr.     204.427314\n",
       "               Aug.     214.192272\n",
       "               Dec.     203.903778\n",
       "               Feb.     203.842070\n",
       "               Jan.     206.127438\n",
       "               Jul.     206.556149\n",
       "               Jun.     206.050272\n",
       "               Mar.     205.269812\n",
       "               May.     203.235148\n",
       "               Nov.     201.374033\n",
       "               Oct.     210.140963\n",
       "               Sep.     218.031384\n",
       "Santa Clara    Apr.     211.881164\n",
       "               Aug.     204.718970\n",
       "               Dec.     198.585578\n",
       "               Feb.     202.676910\n",
       "               Jan.     200.407934\n",
       "               Jul.     204.713007\n",
       "               Jun.     204.740635\n",
       "               Mar.     209.669686\n",
       "               May.     211.012020\n",
       "               Nov.     196.971787\n",
       "               Oct.     202.268277\n",
       "               Sep.     205.054480\n",
       "Name: price_by_mon_dow, dtype: float64"
      ]
     },
     "execution_count": 103,
     "metadata": {},
     "output_type": "execute_result"
    }
   ],
   "source": [
    "# Monthly Pattern for entire apartment\n",
    "\n",
    "df_ent_apart_by_mon = df_visual_ent_apart.groupby(['ref_district', 'month'])  \\\n",
    "                                         .price_by_mon_dow.mean()\n",
    "df_ent_apart_by_mon"
   ]
  },
  {
   "cell_type": "code",
   "execution_count": 105,
   "metadata": {
    "ExecuteTime": {
     "end_time": "2019-02-24T21:05:56.827228Z",
     "start_time": "2019-02-24T21:05:56.788415Z"
    }
   },
   "outputs": [
    {
     "data": {
      "text/plain": [
       "ref_district   month\n",
       "Oakland        Apr.      74.916126\n",
       "               Aug.      75.835302\n",
       "               Dec.      73.145327\n",
       "               Feb.      74.318976\n",
       "               Jan.      73.073431\n",
       "               Jul.      74.663438\n",
       "               Jun.      74.567812\n",
       "               Mar.      75.157040\n",
       "               May.      74.674819\n",
       "               Nov.      72.251279\n",
       "               Oct.      73.197049\n",
       "               Sep.      76.137786\n",
       "San Francisco  Apr.     118.745724\n",
       "               Aug.     127.420532\n",
       "               Dec.     118.117639\n",
       "               Feb.     117.829924\n",
       "               Jan.     119.175408\n",
       "               Jul.     118.703700\n",
       "               Jun.     118.634880\n",
       "               Mar.     118.176623\n",
       "               May.     118.150702\n",
       "               Nov.     118.061622\n",
       "               Oct.     124.222997\n",
       "               Sep.     133.589617\n",
       "Santa Clara    Apr.      80.019167\n",
       "               Aug.      78.932060\n",
       "               Dec.      76.965656\n",
       "               Feb.      79.407598\n",
       "               Jan.      78.906921\n",
       "               Jul.      80.078005\n",
       "               Jun.      80.276243\n",
       "               Mar.      80.114026\n",
       "               May.      79.997793\n",
       "               Nov.      77.793442\n",
       "               Oct.      78.280250\n",
       "               Sep.      78.084808\n",
       "Name: price_by_mon_dow, dtype: float64"
      ]
     },
     "execution_count": 105,
     "metadata": {},
     "output_type": "execute_result"
    }
   ],
   "source": [
    "# Monthly Pattern for single room\n",
    "\n",
    "df_sing_room_by_mon = df_visual_sing_room.groupby(['ref_district', 'month'])  \\\n",
    "                                         .price_by_mon_dow.mean()\n",
    "\n",
    "df_sing_room_by_mon"
   ]
  }
 ],
 "metadata": {
  "kernelspec": {
   "display_name": "Python 3",
   "language": "python",
   "name": "python3"
  },
  "language_info": {
   "codemirror_mode": {
    "name": "ipython",
    "version": 3
   },
   "file_extension": ".py",
   "mimetype": "text/x-python",
   "name": "python",
   "nbconvert_exporter": "python",
   "pygments_lexer": "ipython3",
   "version": "3.6.8"
  },
  "toc": {
   "base_numbering": 1,
   "nav_menu": {},
   "number_sections": true,
   "sideBar": true,
   "skip_h1_title": false,
   "title_cell": "Table of Contents",
   "title_sidebar": "Contents",
   "toc_cell": false,
   "toc_position": {
    "height": "946px",
    "left": "22px",
    "top": "134px",
    "width": "386px"
   },
   "toc_section_display": true,
   "toc_window_display": true
  },
  "varInspector": {
   "cols": {
    "lenName": 16,
    "lenType": 16,
    "lenVar": 40
   },
   "kernels_config": {
    "python": {
     "delete_cmd_postfix": "",
     "delete_cmd_prefix": "del ",
     "library": "var_list.py",
     "varRefreshCmd": "print(var_dic_list())"
    },
    "r": {
     "delete_cmd_postfix": ") ",
     "delete_cmd_prefix": "rm(",
     "library": "var_list.r",
     "varRefreshCmd": "cat(var_dic_list()) "
    }
   },
   "types_to_exclude": [
    "module",
    "function",
    "builtin_function_or_method",
    "instance",
    "_Feature"
   ],
   "window_display": false
  }
 },
 "nbformat": 4,
 "nbformat_minor": 2
}
