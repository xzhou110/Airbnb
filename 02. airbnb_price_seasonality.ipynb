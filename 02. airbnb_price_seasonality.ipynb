{
 "cells": [
  {
   "cell_type": "markdown",
   "metadata": {},
   "source": [
    "# Data Retrieval"
   ]
  },
  {
   "cell_type": "code",
   "execution_count": 2,
   "metadata": {
    "ExecuteTime": {
     "end_time": "2019-02-19T10:35:06.237460Z",
     "start_time": "2019-02-19T10:35:05.373585Z"
    }
   },
   "outputs": [],
   "source": [
    "import pandas as pd\n",
    "import csv\n",
    "import re\n",
    "import statsmodels.api as sm\n",
    "from datetime import datetime\n",
    "import matplotlib.pyplot as plt\n",
    "import numpy as np\n",
    "\n",
    "from sklearn import datasets, linear_model\n",
    "from sklearn.metrics import mean_squared_error, r2_score\n",
    "from sklearn.preprocessing import StandardScaler\n",
    "from sklearn.model_selection import train_test_split, GroupShuffleSplit\n",
    "from sklearn.ensemble import RandomForestRegressor"
   ]
  },
  {
   "cell_type": "code",
   "execution_count": 3,
   "metadata": {
    "ExecuteTime": {
     "end_time": "2019-02-19T10:35:06.317661Z",
     "start_time": "2019-02-19T10:35:06.313387Z"
    }
   },
   "outputs": [],
   "source": [
    "# File path for cities: San Francisco(sf), Okaland(ok), and Santa Clara(sc)\n",
    "\n",
    "file_url = '/Users/xzhou/github/project_archives/files_airbnb/{}/calendar.csv'\n",
    "\n",
    "sf_file = file_url.format('sf_airbnb')\n",
    "ok_file = file_url.format('ok_airbnb')\n",
    "sc_file = file_url.format('sc_airbnb')"
   ]
  },
  {
   "cell_type": "code",
   "execution_count": 4,
   "metadata": {
    "ExecuteTime": {
     "end_time": "2019-02-19T10:35:11.981790Z",
     "start_time": "2019-02-19T10:35:06.397994Z"
    }
   },
   "outputs": [
    {
     "name": "stdout",
     "output_type": "stream",
     "text": [
      "(2420680, 4) (1057770, 4) (2068820, 4)\n"
     ]
    }
   ],
   "source": [
    "# Loaded price by date information for each city\n",
    "\n",
    "pricing_sf = pd.read_csv(sf_file, parse_dates=['date'])\n",
    "pricing_ok = pd.read_csv(ok_file, parse_dates=['date'])\n",
    "pricing_sc = pd.read_csv(sc_file, parse_dates=['date'])\n",
    "\n",
    "print(pricing_sf.shape, pricing_ok.shape, pricing_sc.shape)"
   ]
  },
  {
   "cell_type": "code",
   "execution_count": 5,
   "metadata": {
    "ExecuteTime": {
     "end_time": "2019-02-19T10:35:13.450721Z",
     "start_time": "2019-02-19T10:35:12.346958Z"
    }
   },
   "outputs": [
    {
     "data": {
      "text/html": [
       "<div>\n",
       "<style scoped>\n",
       "    .dataframe tbody tr th:only-of-type {\n",
       "        vertical-align: middle;\n",
       "    }\n",
       "\n",
       "    .dataframe tbody tr th {\n",
       "        vertical-align: top;\n",
       "    }\n",
       "\n",
       "    .dataframe thead th {\n",
       "        text-align: right;\n",
       "    }\n",
       "</style>\n",
       "<table border=\"1\" class=\"dataframe\">\n",
       "  <thead>\n",
       "    <tr style=\"text-align: right;\">\n",
       "      <th></th>\n",
       "      <th></th>\n",
       "      <th>listing_id</th>\n",
       "      <th>date</th>\n",
       "      <th>available</th>\n",
       "      <th>price</th>\n",
       "    </tr>\n",
       "  </thead>\n",
       "  <tbody>\n",
       "    <tr>\n",
       "      <th rowspan=\"10\" valign=\"top\">pricing_sf</th>\n",
       "      <th>0</th>\n",
       "      <td>958</td>\n",
       "      <td>2019-08-05</td>\n",
       "      <td>f</td>\n",
       "      <td>NaN</td>\n",
       "    </tr>\n",
       "    <tr>\n",
       "      <th>1</th>\n",
       "      <td>958</td>\n",
       "      <td>2019-08-04</td>\n",
       "      <td>f</td>\n",
       "      <td>NaN</td>\n",
       "    </tr>\n",
       "    <tr>\n",
       "      <th>2</th>\n",
       "      <td>958</td>\n",
       "      <td>2019-08-03</td>\n",
       "      <td>f</td>\n",
       "      <td>NaN</td>\n",
       "    </tr>\n",
       "    <tr>\n",
       "      <th>3</th>\n",
       "      <td>958</td>\n",
       "      <td>2019-08-02</td>\n",
       "      <td>f</td>\n",
       "      <td>NaN</td>\n",
       "    </tr>\n",
       "    <tr>\n",
       "      <th>4</th>\n",
       "      <td>958</td>\n",
       "      <td>2019-08-01</td>\n",
       "      <td>f</td>\n",
       "      <td>NaN</td>\n",
       "    </tr>\n",
       "    <tr>\n",
       "      <th>5</th>\n",
       "      <td>958</td>\n",
       "      <td>2019-07-31</td>\n",
       "      <td>f</td>\n",
       "      <td>NaN</td>\n",
       "    </tr>\n",
       "    <tr>\n",
       "      <th>6</th>\n",
       "      <td>958</td>\n",
       "      <td>2019-07-30</td>\n",
       "      <td>f</td>\n",
       "      <td>NaN</td>\n",
       "    </tr>\n",
       "    <tr>\n",
       "      <th>7</th>\n",
       "      <td>958</td>\n",
       "      <td>2019-07-29</td>\n",
       "      <td>f</td>\n",
       "      <td>NaN</td>\n",
       "    </tr>\n",
       "    <tr>\n",
       "      <th>8</th>\n",
       "      <td>958</td>\n",
       "      <td>2019-07-28</td>\n",
       "      <td>f</td>\n",
       "      <td>NaN</td>\n",
       "    </tr>\n",
       "    <tr>\n",
       "      <th>9</th>\n",
       "      <td>958</td>\n",
       "      <td>2019-07-27</td>\n",
       "      <td>f</td>\n",
       "      <td>NaN</td>\n",
       "    </tr>\n",
       "  </tbody>\n",
       "</table>\n",
       "</div>"
      ],
      "text/plain": [
       "              listing_id       date available price\n",
       "pricing_sf 0         958 2019-08-05         f   NaN\n",
       "           1         958 2019-08-04         f   NaN\n",
       "           2         958 2019-08-03         f   NaN\n",
       "           3         958 2019-08-02         f   NaN\n",
       "           4         958 2019-08-01         f   NaN\n",
       "           5         958 2019-07-31         f   NaN\n",
       "           6         958 2019-07-30         f   NaN\n",
       "           7         958 2019-07-29         f   NaN\n",
       "           8         958 2019-07-28         f   NaN\n",
       "           9         958 2019-07-27         f   NaN"
      ]
     },
     "execution_count": 5,
     "metadata": {},
     "output_type": "execute_result"
    }
   ],
   "source": [
    "# Concatenated all files into one\n",
    "# Created keys for each file for future references\n",
    "\n",
    "frames = [pricing_sf, pricing_ok, pricing_sc]\n",
    "keys = ['pricing_sf', 'pricing_ok', 'pricing_sc']\n",
    "\n",
    "df_pricing = pd.concat(frames, keys=keys)\n",
    "\n",
    "df_pricing.head(10)"
   ]
  },
  {
   "cell_type": "markdown",
   "metadata": {},
   "source": [
    "# Data Exploration"
   ]
  },
  {
   "cell_type": "markdown",
   "metadata": {
    "ExecuteTime": {
     "end_time": "2019-02-16T06:04:55.761610Z",
     "start_time": "2019-02-16T06:04:55.757951Z"
    }
   },
   "source": [
    "## Smaller Set of Data"
   ]
  },
  {
   "cell_type": "code",
   "execution_count": 6,
   "metadata": {
    "ExecuteTime": {
     "end_time": "2019-02-19T10:35:14.963196Z",
     "start_time": "2019-02-19T10:35:14.255635Z"
    }
   },
   "outputs": [
    {
     "name": "stdout",
     "output_type": "stream",
     "text": [
      "Dimension for df_pricing_smaller:  (2588352, 4)\n",
      "\n",
      "Number of Unique ids:  13452\n"
     ]
    }
   ],
   "source": [
    "# Filter to houses that are available and have listing prices\n",
    "\n",
    "df_pricing_smaller = df_pricing[df_pricing['available']=='t']\n",
    "df_pricing_smaller = df_pricing_smaller.copy()\n",
    "\n",
    "print('Dimension for df_pricing_smaller: ', df_pricing_smaller.shape)\n",
    "print ('\\nNumber of Unique ids: ', df_pricing_smaller.listing_id.nunique())"
   ]
  },
  {
   "cell_type": "code",
   "execution_count": 7,
   "metadata": {
    "ExecuteTime": {
     "end_time": "2019-02-19T10:35:15.771019Z",
     "start_time": "2019-02-19T10:35:15.764316Z"
    }
   },
   "outputs": [
    {
     "data": {
      "text/plain": [
       "Index(['listing_id', 'date', 'available', 'price'], dtype='object')"
      ]
     },
     "execution_count": 7,
     "metadata": {},
     "output_type": "execute_result"
    }
   ],
   "source": [
    "df_pricing_smaller.columns"
   ]
  },
  {
   "cell_type": "markdown",
   "metadata": {},
   "source": [
    "## Data Format"
   ]
  },
  {
   "cell_type": "code",
   "execution_count": 8,
   "metadata": {
    "ExecuteTime": {
     "end_time": "2019-02-19T10:35:16.495355Z",
     "start_time": "2019-02-19T10:35:16.490792Z"
    }
   },
   "outputs": [],
   "source": [
    "def apply2df(df, column_names, function):\n",
    "    \"\"\"\n",
    "    This enables various functions to be applied to multiple columns of dataframe.\n",
    "    Input: dataframe, columns to apply function to (list), function\n",
    "    Return: updated dataframe\n",
    "    \"\"\"\n",
    "    for column in column_names:\n",
    "        df[column] = df[column].apply(lambda x: function(x))\n",
    "    return df"
   ]
  },
  {
   "cell_type": "markdown",
   "metadata": {
    "ExecuteTime": {
     "end_time": "2019-02-17T20:54:05.091473Z",
     "start_time": "2019-02-17T20:54:05.088212Z"
    }
   },
   "source": [
    "### Currency"
   ]
  },
  {
   "cell_type": "code",
   "execution_count": 9,
   "metadata": {
    "ExecuteTime": {
     "end_time": "2019-02-19T10:35:17.260409Z",
     "start_time": "2019-02-19T10:35:17.255793Z"
    }
   },
   "outputs": [],
   "source": [
    "# Noted currencies are formated as strings and need to be converted to float\n",
    "\n",
    "def currency2float(string):\n",
    "    \"\"\"\n",
    "    Convert currency to float\n",
    "    \"\"\"\n",
    "    float_ = float(str(string).strip('$').replace(',',''))\n",
    "    return float_"
   ]
  },
  {
   "cell_type": "code",
   "execution_count": 10,
   "metadata": {
    "ExecuteTime": {
     "end_time": "2019-02-19T10:35:20.614661Z",
     "start_time": "2019-02-19T10:35:17.956502Z"
    }
   },
   "outputs": [],
   "source": [
    "# Converted price to float format\n",
    "\n",
    "curriencies = ['price']\n",
    "\n",
    "df_pricing_smaller = apply2df(df_pricing_smaller, curriencies, currency2float)"
   ]
  },
  {
   "cell_type": "markdown",
   "metadata": {},
   "source": [
    "## Outliers"
   ]
  },
  {
   "cell_type": "code",
   "execution_count": 11,
   "metadata": {
    "ExecuteTime": {
     "end_time": "2019-02-19T10:35:21.492694Z",
     "start_time": "2019-02-19T10:35:21.300071Z"
    }
   },
   "outputs": [
    {
     "data": {
      "text/plain": [
       "count    2.588352e+06\n",
       "mean     2.056189e+02\n",
       "std      7.335415e+02\n",
       "min      1.000000e+01\n",
       "5%       4.000000e+01\n",
       "10%      5.000000e+01\n",
       "25%      7.800000e+01\n",
       "50%      1.290000e+02\n",
       "75%      2.090000e+02\n",
       "90%      3.500000e+02\n",
       "95%      5.000000e+02\n",
       "max      1.024520e+05\n",
       "Name: price, dtype: float64"
      ]
     },
     "execution_count": 11,
     "metadata": {},
     "output_type": "execute_result"
    }
   ],
   "source": [
    "percentiles = [0.05, 0.10, 0.25, 0.50, 0.75, 0.90, 0.95]\n",
    "\n",
    "df_pricing_smaller.price.describe(percentiles=percentiles)"
   ]
  },
  {
   "cell_type": "code",
   "execution_count": 12,
   "metadata": {
    "ExecuteTime": {
     "end_time": "2019-02-19T10:35:22.377319Z",
     "start_time": "2019-02-19T10:35:22.189323Z"
    }
   },
   "outputs": [],
   "source": [
    "# Removed outliers based on 'price'. Use 5% and 95% percentiles as cutoff\n",
    "\n",
    "five_percentile = np.percentile(df_pricing_smaller.price, 5)\n",
    "ninety_five_percentile = np.percentile(df_pricing_smaller.price, 95)\n",
    "\n",
    "df_pricing_smaller = df_pricing_smaller[(\n",
    "                        df_pricing_smaller.price>=five_percentile)\n",
    "                        & (df_pricing_smaller.price<=ninety_five_percentile)]"
   ]
  },
  {
   "cell_type": "code",
   "execution_count": 13,
   "metadata": {
    "ExecuteTime": {
     "end_time": "2019-02-19T10:35:23.064585Z",
     "start_time": "2019-02-19T10:35:23.059887Z"
    }
   },
   "outputs": [
    {
     "name": "stdout",
     "output_type": "stream",
     "text": [
      "df_pricing_smaller dimensions:  (2346265, 4)\n"
     ]
    }
   ],
   "source": [
    "print ('df_pricing_smaller dimensions: ', df_pricing_smaller.shape)"
   ]
  },
  {
   "cell_type": "markdown",
   "metadata": {
    "ExecuteTime": {
     "end_time": "2019-02-18T00:50:22.129335Z",
     "start_time": "2019-02-18T00:50:22.113843Z"
    }
   },
   "source": [
    "## Null Values"
   ]
  },
  {
   "cell_type": "code",
   "execution_count": 14,
   "metadata": {
    "ExecuteTime": {
     "end_time": "2019-02-19T10:35:24.077792Z",
     "start_time": "2019-02-19T10:35:23.758651Z"
    }
   },
   "outputs": [
    {
     "data": {
      "text/plain": [
       "listing_id    0\n",
       "date          0\n",
       "available     0\n",
       "price         0\n",
       "dtype: int64"
      ]
     },
     "execution_count": 14,
     "metadata": {},
     "output_type": "execute_result"
    }
   ],
   "source": [
    "df_pricing_smaller.isnull().sum()"
   ]
  },
  {
   "cell_type": "code",
   "execution_count": 15,
   "metadata": {
    "ExecuteTime": {
     "end_time": "2019-02-19T10:35:24.751606Z",
     "start_time": "2019-02-19T10:35:24.746080Z"
    }
   },
   "outputs": [
    {
     "data": {
      "text/plain": [
       "(2346265, 4)"
      ]
     },
     "execution_count": 15,
     "metadata": {},
     "output_type": "execute_result"
    }
   ],
   "source": [
    "df_pricing_smaller.shape"
   ]
  },
  {
   "cell_type": "code",
   "execution_count": 16,
   "metadata": {
    "ExecuteTime": {
     "end_time": "2019-02-19T10:35:25.603682Z",
     "start_time": "2019-02-19T10:35:25.429468Z"
    }
   },
   "outputs": [
    {
     "data": {
      "text/html": [
       "<div>\n",
       "<style scoped>\n",
       "    .dataframe tbody tr th:only-of-type {\n",
       "        vertical-align: middle;\n",
       "    }\n",
       "\n",
       "    .dataframe tbody tr th {\n",
       "        vertical-align: top;\n",
       "    }\n",
       "\n",
       "    .dataframe thead th {\n",
       "        text-align: right;\n",
       "    }\n",
       "</style>\n",
       "<table border=\"1\" class=\"dataframe\">\n",
       "  <thead>\n",
       "    <tr style=\"text-align: right;\">\n",
       "      <th></th>\n",
       "      <th>date</th>\n",
       "      <th>price</th>\n",
       "    </tr>\n",
       "  </thead>\n",
       "  <tbody>\n",
       "    <tr>\n",
       "      <th>count</th>\n",
       "      <td>2346265</td>\n",
       "      <td>2.346265e+06</td>\n",
       "    </tr>\n",
       "    <tr>\n",
       "      <th>unique</th>\n",
       "      <td>375</td>\n",
       "      <td>NaN</td>\n",
       "    </tr>\n",
       "    <tr>\n",
       "      <th>top</th>\n",
       "      <td>2018-11-03 00:00:00</td>\n",
       "      <td>NaN</td>\n",
       "    </tr>\n",
       "    <tr>\n",
       "      <th>freq</th>\n",
       "      <td>8671</td>\n",
       "      <td>NaN</td>\n",
       "    </tr>\n",
       "    <tr>\n",
       "      <th>first</th>\n",
       "      <td>2018-08-06 00:00:00</td>\n",
       "      <td>NaN</td>\n",
       "    </tr>\n",
       "    <tr>\n",
       "      <th>last</th>\n",
       "      <td>2019-08-15 00:00:00</td>\n",
       "      <td>NaN</td>\n",
       "    </tr>\n",
       "    <tr>\n",
       "      <th>mean</th>\n",
       "      <td>NaN</td>\n",
       "      <td>1.537473e+02</td>\n",
       "    </tr>\n",
       "    <tr>\n",
       "      <th>std</th>\n",
       "      <td>NaN</td>\n",
       "      <td>9.694863e+01</td>\n",
       "    </tr>\n",
       "    <tr>\n",
       "      <th>min</th>\n",
       "      <td>NaN</td>\n",
       "      <td>4.000000e+01</td>\n",
       "    </tr>\n",
       "    <tr>\n",
       "      <th>25%</th>\n",
       "      <td>NaN</td>\n",
       "      <td>8.000000e+01</td>\n",
       "    </tr>\n",
       "    <tr>\n",
       "      <th>50%</th>\n",
       "      <td>NaN</td>\n",
       "      <td>1.280000e+02</td>\n",
       "    </tr>\n",
       "    <tr>\n",
       "      <th>75%</th>\n",
       "      <td>NaN</td>\n",
       "      <td>1.990000e+02</td>\n",
       "    </tr>\n",
       "    <tr>\n",
       "      <th>max</th>\n",
       "      <td>NaN</td>\n",
       "      <td>5.000000e+02</td>\n",
       "    </tr>\n",
       "  </tbody>\n",
       "</table>\n",
       "</div>"
      ],
      "text/plain": [
       "                       date         price\n",
       "count               2346265  2.346265e+06\n",
       "unique                  375           NaN\n",
       "top     2018-11-03 00:00:00           NaN\n",
       "freq                   8671           NaN\n",
       "first   2018-08-06 00:00:00           NaN\n",
       "last    2019-08-15 00:00:00           NaN\n",
       "mean                    NaN  1.537473e+02\n",
       "std                     NaN  9.694863e+01\n",
       "min                     NaN  4.000000e+01\n",
       "25%                     NaN  8.000000e+01\n",
       "50%                     NaN  1.280000e+02\n",
       "75%                     NaN  1.990000e+02\n",
       "max                     NaN  5.000000e+02"
      ]
     },
     "execution_count": 16,
     "metadata": {},
     "output_type": "execute_result"
    }
   ],
   "source": [
    "columns2display = ['date', 'price']\n",
    "\n",
    "df_pricing_smaller[columns2display].describe(include='all')"
   ]
  },
  {
   "cell_type": "markdown",
   "metadata": {
    "ExecuteTime": {
     "end_time": "2019-02-16T06:10:40.512514Z",
     "start_time": "2019-02-16T06:10:40.509754Z"
    }
   },
   "source": [
    "## Seasonality Data"
   ]
  },
  {
   "cell_type": "markdown",
   "metadata": {},
   "source": [
    "### Added Month and Day-of-Week(DOW) Features"
   ]
  },
  {
   "cell_type": "code",
   "execution_count": 17,
   "metadata": {
    "ExecuteTime": {
     "end_time": "2019-02-19T10:35:26.628851Z",
     "start_time": "2019-02-19T10:35:26.361885Z"
    }
   },
   "outputs": [
    {
     "name": "stdout",
     "output_type": "stream",
     "text": [
      "df_pricing_smaller dimensions (2346265, 6)\n"
     ]
    },
    {
     "data": {
      "text/html": [
       "<div>\n",
       "<style scoped>\n",
       "    .dataframe tbody tr th:only-of-type {\n",
       "        vertical-align: middle;\n",
       "    }\n",
       "\n",
       "    .dataframe tbody tr th {\n",
       "        vertical-align: top;\n",
       "    }\n",
       "\n",
       "    .dataframe thead th {\n",
       "        text-align: right;\n",
       "    }\n",
       "</style>\n",
       "<table border=\"1\" class=\"dataframe\">\n",
       "  <thead>\n",
       "    <tr style=\"text-align: right;\">\n",
       "      <th></th>\n",
       "      <th></th>\n",
       "      <th>listing_id</th>\n",
       "      <th>date</th>\n",
       "      <th>available</th>\n",
       "      <th>price</th>\n",
       "      <th>month</th>\n",
       "      <th>day_of_week</th>\n",
       "    </tr>\n",
       "  </thead>\n",
       "  <tbody>\n",
       "    <tr>\n",
       "      <th rowspan=\"5\" valign=\"top\">pricing_sf</th>\n",
       "      <th>63</th>\n",
       "      <td>958</td>\n",
       "      <td>2019-05-02</td>\n",
       "      <td>t</td>\n",
       "      <td>181.0</td>\n",
       "      <td>5</td>\n",
       "      <td>3</td>\n",
       "    </tr>\n",
       "    <tr>\n",
       "      <th>64</th>\n",
       "      <td>958</td>\n",
       "      <td>2019-05-01</td>\n",
       "      <td>t</td>\n",
       "      <td>181.0</td>\n",
       "      <td>5</td>\n",
       "      <td>2</td>\n",
       "    </tr>\n",
       "    <tr>\n",
       "      <th>65</th>\n",
       "      <td>958</td>\n",
       "      <td>2019-04-30</td>\n",
       "      <td>t</td>\n",
       "      <td>181.0</td>\n",
       "      <td>4</td>\n",
       "      <td>1</td>\n",
       "    </tr>\n",
       "    <tr>\n",
       "      <th>66</th>\n",
       "      <td>958</td>\n",
       "      <td>2019-04-29</td>\n",
       "      <td>t</td>\n",
       "      <td>181.0</td>\n",
       "      <td>4</td>\n",
       "      <td>0</td>\n",
       "    </tr>\n",
       "    <tr>\n",
       "      <th>67</th>\n",
       "      <td>958</td>\n",
       "      <td>2019-04-28</td>\n",
       "      <td>t</td>\n",
       "      <td>181.0</td>\n",
       "      <td>4</td>\n",
       "      <td>6</td>\n",
       "    </tr>\n",
       "  </tbody>\n",
       "</table>\n",
       "</div>"
      ],
      "text/plain": [
       "               listing_id       date available  price  month  day_of_week\n",
       "pricing_sf 63         958 2019-05-02         t  181.0      5            3\n",
       "           64         958 2019-05-01         t  181.0      5            2\n",
       "           65         958 2019-04-30         t  181.0      4            1\n",
       "           66         958 2019-04-29         t  181.0      4            0\n",
       "           67         958 2019-04-28         t  181.0      4            6"
      ]
     },
     "metadata": {},
     "output_type": "display_data"
    }
   ],
   "source": [
    "# Added 'month' column to extract month of date\n",
    "# Added 'day_of_week' column to extact day of week. \n",
    "# Default format: Monday=0, Sunday=6\n",
    "\n",
    "df_pricing_smaller['month'] = df_pricing_smaller['date'].dt.month\n",
    "df_pricing_smaller['day_of_week'] = df_pricing_smaller['date'].dt.weekday\n",
    "\n",
    "\n",
    "print('df_pricing_smaller dimensions', df_pricing_smaller.shape)\n",
    "display(df_pricing_smaller.head())"
   ]
  },
  {
   "cell_type": "code",
   "execution_count": 18,
   "metadata": {
    "ExecuteTime": {
     "end_time": "2019-02-19T10:35:27.589147Z",
     "start_time": "2019-02-19T10:35:27.362537Z"
    }
   },
   "outputs": [
    {
     "data": {
      "text/plain": [
       "<matplotlib.axes._subplots.AxesSubplot at 0x1c2117c128>"
      ]
     },
     "execution_count": 18,
     "metadata": {},
     "output_type": "execute_result"
    },
    {
     "data": {
      "image/png": "[encoded data removed]",
      "text/plain": [
       "<Figure size 432x288 with 1 Axes>"
      ]
     },
     "metadata": {},
     "output_type": "display_data"
    }
   ],
   "source": [
    "# Checked the price distribution by month\n",
    "\n",
    "df_pricing_smaller.month.hist(bins=12)"
   ]
  },
  {
   "cell_type": "code",
   "execution_count": 19,
   "metadata": {
    "ExecuteTime": {
     "end_time": "2019-02-19T10:35:28.507217Z",
     "start_time": "2019-02-19T10:35:28.279428Z"
    }
   },
   "outputs": [
    {
     "data": {
      "text/plain": [
       "<matplotlib.axes._subplots.AxesSubplot at 0x1c24a994e0>"
      ]
     },
     "execution_count": 19,
     "metadata": {},
     "output_type": "execute_result"
    },
    {
     "data": {
      "image/png": "[encoded data removed]",
      "text/plain": [
       "<Figure size 432x288 with 1 Axes>"
      ]
     },
     "metadata": {},
     "output_type": "display_data"
    }
   ],
   "source": [
    "# Checked the price distribution by day of week\n",
    "\n",
    "df_pricing_smaller.day_of_week.hist(bins=7)"
   ]
  },
  {
   "cell_type": "markdown",
   "metadata": {},
   "source": [
    "### Pricing By Month by DOW"
   ]
  },
  {
   "cell_type": "code",
   "execution_count": 20,
   "metadata": {
    "ExecuteTime": {
     "end_time": "2019-02-19T10:35:29.581654Z",
     "start_time": "2019-02-19T10:35:29.169951Z"
    }
   },
   "outputs": [
    {
     "data": {
      "text/html": [
       "<div>\n",
       "<style scoped>\n",
       "    .dataframe tbody tr th:only-of-type {\n",
       "        vertical-align: middle;\n",
       "    }\n",
       "\n",
       "    .dataframe tbody tr th {\n",
       "        vertical-align: top;\n",
       "    }\n",
       "\n",
       "    .dataframe thead th {\n",
       "        text-align: right;\n",
       "    }\n",
       "</style>\n",
       "<table border=\"1\" class=\"dataframe\">\n",
       "  <thead>\n",
       "    <tr style=\"text-align: right;\">\n",
       "      <th></th>\n",
       "      <th>listing_id</th>\n",
       "      <th>month</th>\n",
       "      <th>day_of_week</th>\n",
       "      <th>price</th>\n",
       "    </tr>\n",
       "  </thead>\n",
       "  <tbody>\n",
       "    <tr>\n",
       "      <th>0</th>\n",
       "      <td>958</td>\n",
       "      <td>1</td>\n",
       "      <td>0</td>\n",
       "      <td>180.0</td>\n",
       "    </tr>\n",
       "    <tr>\n",
       "      <th>1</th>\n",
       "      <td>958</td>\n",
       "      <td>1</td>\n",
       "      <td>1</td>\n",
       "      <td>179.5</td>\n",
       "    </tr>\n",
       "    <tr>\n",
       "      <th>2</th>\n",
       "      <td>958</td>\n",
       "      <td>1</td>\n",
       "      <td>2</td>\n",
       "      <td>179.5</td>\n",
       "    </tr>\n",
       "    <tr>\n",
       "      <th>3</th>\n",
       "      <td>958</td>\n",
       "      <td>1</td>\n",
       "      <td>3</td>\n",
       "      <td>179.0</td>\n",
       "    </tr>\n",
       "    <tr>\n",
       "      <th>4</th>\n",
       "      <td>958</td>\n",
       "      <td>1</td>\n",
       "      <td>4</td>\n",
       "      <td>183.0</td>\n",
       "    </tr>\n",
       "    <tr>\n",
       "      <th>5</th>\n",
       "      <td>958</td>\n",
       "      <td>1</td>\n",
       "      <td>5</td>\n",
       "      <td>185.0</td>\n",
       "    </tr>\n",
       "    <tr>\n",
       "      <th>6</th>\n",
       "      <td>958</td>\n",
       "      <td>1</td>\n",
       "      <td>6</td>\n",
       "      <td>180.0</td>\n",
       "    </tr>\n",
       "    <tr>\n",
       "      <th>7</th>\n",
       "      <td>958</td>\n",
       "      <td>2</td>\n",
       "      <td>0</td>\n",
       "      <td>179.0</td>\n",
       "    </tr>\n",
       "    <tr>\n",
       "      <th>8</th>\n",
       "      <td>958</td>\n",
       "      <td>2</td>\n",
       "      <td>1</td>\n",
       "      <td>179.0</td>\n",
       "    </tr>\n",
       "    <tr>\n",
       "      <th>9</th>\n",
       "      <td>958</td>\n",
       "      <td>2</td>\n",
       "      <td>2</td>\n",
       "      <td>179.0</td>\n",
       "    </tr>\n",
       "    <tr>\n",
       "      <th>10</th>\n",
       "      <td>958</td>\n",
       "      <td>2</td>\n",
       "      <td>3</td>\n",
       "      <td>179.0</td>\n",
       "    </tr>\n",
       "    <tr>\n",
       "      <th>11</th>\n",
       "      <td>958</td>\n",
       "      <td>2</td>\n",
       "      <td>4</td>\n",
       "      <td>188.5</td>\n",
       "    </tr>\n",
       "    <tr>\n",
       "      <th>12</th>\n",
       "      <td>958</td>\n",
       "      <td>2</td>\n",
       "      <td>5</td>\n",
       "      <td>188.0</td>\n",
       "    </tr>\n",
       "    <tr>\n",
       "      <th>13</th>\n",
       "      <td>958</td>\n",
       "      <td>2</td>\n",
       "      <td>6</td>\n",
       "      <td>179.0</td>\n",
       "    </tr>\n",
       "    <tr>\n",
       "      <th>14</th>\n",
       "      <td>958</td>\n",
       "      <td>3</td>\n",
       "      <td>0</td>\n",
       "      <td>181.0</td>\n",
       "    </tr>\n",
       "    <tr>\n",
       "      <th>15</th>\n",
       "      <td>958</td>\n",
       "      <td>3</td>\n",
       "      <td>1</td>\n",
       "      <td>181.0</td>\n",
       "    </tr>\n",
       "    <tr>\n",
       "      <th>16</th>\n",
       "      <td>958</td>\n",
       "      <td>3</td>\n",
       "      <td>2</td>\n",
       "      <td>181.0</td>\n",
       "    </tr>\n",
       "    <tr>\n",
       "      <th>17</th>\n",
       "      <td>958</td>\n",
       "      <td>3</td>\n",
       "      <td>3</td>\n",
       "      <td>181.0</td>\n",
       "    </tr>\n",
       "    <tr>\n",
       "      <th>18</th>\n",
       "      <td>958</td>\n",
       "      <td>3</td>\n",
       "      <td>4</td>\n",
       "      <td>191.0</td>\n",
       "    </tr>\n",
       "    <tr>\n",
       "      <th>19</th>\n",
       "      <td>958</td>\n",
       "      <td>3</td>\n",
       "      <td>5</td>\n",
       "      <td>191.0</td>\n",
       "    </tr>\n",
       "    <tr>\n",
       "      <th>20</th>\n",
       "      <td>958</td>\n",
       "      <td>3</td>\n",
       "      <td>6</td>\n",
       "      <td>181.0</td>\n",
       "    </tr>\n",
       "    <tr>\n",
       "      <th>21</th>\n",
       "      <td>958</td>\n",
       "      <td>4</td>\n",
       "      <td>0</td>\n",
       "      <td>181.0</td>\n",
       "    </tr>\n",
       "    <tr>\n",
       "      <th>22</th>\n",
       "      <td>958</td>\n",
       "      <td>4</td>\n",
       "      <td>1</td>\n",
       "      <td>181.0</td>\n",
       "    </tr>\n",
       "    <tr>\n",
       "      <th>23</th>\n",
       "      <td>958</td>\n",
       "      <td>4</td>\n",
       "      <td>2</td>\n",
       "      <td>181.0</td>\n",
       "    </tr>\n",
       "    <tr>\n",
       "      <th>24</th>\n",
       "      <td>958</td>\n",
       "      <td>4</td>\n",
       "      <td>3</td>\n",
       "      <td>181.0</td>\n",
       "    </tr>\n",
       "    <tr>\n",
       "      <th>25</th>\n",
       "      <td>958</td>\n",
       "      <td>4</td>\n",
       "      <td>4</td>\n",
       "      <td>191.0</td>\n",
       "    </tr>\n",
       "    <tr>\n",
       "      <th>26</th>\n",
       "      <td>958</td>\n",
       "      <td>4</td>\n",
       "      <td>5</td>\n",
       "      <td>191.0</td>\n",
       "    </tr>\n",
       "    <tr>\n",
       "      <th>27</th>\n",
       "      <td>958</td>\n",
       "      <td>4</td>\n",
       "      <td>6</td>\n",
       "      <td>181.0</td>\n",
       "    </tr>\n",
       "    <tr>\n",
       "      <th>28</th>\n",
       "      <td>958</td>\n",
       "      <td>5</td>\n",
       "      <td>2</td>\n",
       "      <td>181.0</td>\n",
       "    </tr>\n",
       "    <tr>\n",
       "      <th>29</th>\n",
       "      <td>958</td>\n",
       "      <td>5</td>\n",
       "      <td>3</td>\n",
       "      <td>181.0</td>\n",
       "    </tr>\n",
       "    <tr>\n",
       "      <th>...</th>\n",
       "      <td>...</td>\n",
       "      <td>...</td>\n",
       "      <td>...</td>\n",
       "      <td>...</td>\n",
       "    </tr>\n",
       "    <tr>\n",
       "      <th>70</th>\n",
       "      <td>3083</td>\n",
       "      <td>11</td>\n",
       "      <td>1</td>\n",
       "      <td>65.0</td>\n",
       "    </tr>\n",
       "    <tr>\n",
       "      <th>71</th>\n",
       "      <td>3083</td>\n",
       "      <td>11</td>\n",
       "      <td>2</td>\n",
       "      <td>65.0</td>\n",
       "    </tr>\n",
       "    <tr>\n",
       "      <th>72</th>\n",
       "      <td>3083</td>\n",
       "      <td>11</td>\n",
       "      <td>3</td>\n",
       "      <td>65.0</td>\n",
       "    </tr>\n",
       "    <tr>\n",
       "      <th>73</th>\n",
       "      <td>3083</td>\n",
       "      <td>11</td>\n",
       "      <td>4</td>\n",
       "      <td>65.0</td>\n",
       "    </tr>\n",
       "    <tr>\n",
       "      <th>74</th>\n",
       "      <td>3083</td>\n",
       "      <td>11</td>\n",
       "      <td>5</td>\n",
       "      <td>65.0</td>\n",
       "    </tr>\n",
       "    <tr>\n",
       "      <th>75</th>\n",
       "      <td>3083</td>\n",
       "      <td>11</td>\n",
       "      <td>6</td>\n",
       "      <td>65.0</td>\n",
       "    </tr>\n",
       "    <tr>\n",
       "      <th>76</th>\n",
       "      <td>3083</td>\n",
       "      <td>12</td>\n",
       "      <td>0</td>\n",
       "      <td>65.0</td>\n",
       "    </tr>\n",
       "    <tr>\n",
       "      <th>77</th>\n",
       "      <td>3083</td>\n",
       "      <td>12</td>\n",
       "      <td>1</td>\n",
       "      <td>65.0</td>\n",
       "    </tr>\n",
       "    <tr>\n",
       "      <th>78</th>\n",
       "      <td>3083</td>\n",
       "      <td>12</td>\n",
       "      <td>2</td>\n",
       "      <td>65.0</td>\n",
       "    </tr>\n",
       "    <tr>\n",
       "      <th>79</th>\n",
       "      <td>3083</td>\n",
       "      <td>12</td>\n",
       "      <td>3</td>\n",
       "      <td>65.0</td>\n",
       "    </tr>\n",
       "    <tr>\n",
       "      <th>80</th>\n",
       "      <td>3083</td>\n",
       "      <td>12</td>\n",
       "      <td>4</td>\n",
       "      <td>65.0</td>\n",
       "    </tr>\n",
       "    <tr>\n",
       "      <th>81</th>\n",
       "      <td>3083</td>\n",
       "      <td>12</td>\n",
       "      <td>5</td>\n",
       "      <td>65.0</td>\n",
       "    </tr>\n",
       "    <tr>\n",
       "      <th>82</th>\n",
       "      <td>3083</td>\n",
       "      <td>12</td>\n",
       "      <td>6</td>\n",
       "      <td>65.0</td>\n",
       "    </tr>\n",
       "    <tr>\n",
       "      <th>83</th>\n",
       "      <td>3264</td>\n",
       "      <td>9</td>\n",
       "      <td>0</td>\n",
       "      <td>53.0</td>\n",
       "    </tr>\n",
       "    <tr>\n",
       "      <th>84</th>\n",
       "      <td>3264</td>\n",
       "      <td>9</td>\n",
       "      <td>1</td>\n",
       "      <td>53.0</td>\n",
       "    </tr>\n",
       "    <tr>\n",
       "      <th>85</th>\n",
       "      <td>3264</td>\n",
       "      <td>9</td>\n",
       "      <td>2</td>\n",
       "      <td>53.0</td>\n",
       "    </tr>\n",
       "    <tr>\n",
       "      <th>86</th>\n",
       "      <td>3264</td>\n",
       "      <td>9</td>\n",
       "      <td>3</td>\n",
       "      <td>53.0</td>\n",
       "    </tr>\n",
       "    <tr>\n",
       "      <th>87</th>\n",
       "      <td>3264</td>\n",
       "      <td>9</td>\n",
       "      <td>4</td>\n",
       "      <td>63.0</td>\n",
       "    </tr>\n",
       "    <tr>\n",
       "      <th>88</th>\n",
       "      <td>3264</td>\n",
       "      <td>9</td>\n",
       "      <td>5</td>\n",
       "      <td>63.0</td>\n",
       "    </tr>\n",
       "    <tr>\n",
       "      <th>89</th>\n",
       "      <td>3264</td>\n",
       "      <td>9</td>\n",
       "      <td>6</td>\n",
       "      <td>53.0</td>\n",
       "    </tr>\n",
       "    <tr>\n",
       "      <th>90</th>\n",
       "      <td>3264</td>\n",
       "      <td>10</td>\n",
       "      <td>0</td>\n",
       "      <td>53.0</td>\n",
       "    </tr>\n",
       "    <tr>\n",
       "      <th>91</th>\n",
       "      <td>3264</td>\n",
       "      <td>10</td>\n",
       "      <td>1</td>\n",
       "      <td>53.0</td>\n",
       "    </tr>\n",
       "    <tr>\n",
       "      <th>92</th>\n",
       "      <td>3264</td>\n",
       "      <td>10</td>\n",
       "      <td>2</td>\n",
       "      <td>53.0</td>\n",
       "    </tr>\n",
       "    <tr>\n",
       "      <th>93</th>\n",
       "      <td>3264</td>\n",
       "      <td>10</td>\n",
       "      <td>3</td>\n",
       "      <td>53.0</td>\n",
       "    </tr>\n",
       "    <tr>\n",
       "      <th>94</th>\n",
       "      <td>3264</td>\n",
       "      <td>10</td>\n",
       "      <td>4</td>\n",
       "      <td>63.0</td>\n",
       "    </tr>\n",
       "    <tr>\n",
       "      <th>95</th>\n",
       "      <td>3264</td>\n",
       "      <td>10</td>\n",
       "      <td>5</td>\n",
       "      <td>63.0</td>\n",
       "    </tr>\n",
       "    <tr>\n",
       "      <th>96</th>\n",
       "      <td>3264</td>\n",
       "      <td>10</td>\n",
       "      <td>6</td>\n",
       "      <td>53.0</td>\n",
       "    </tr>\n",
       "    <tr>\n",
       "      <th>97</th>\n",
       "      <td>3264</td>\n",
       "      <td>11</td>\n",
       "      <td>0</td>\n",
       "      <td>53.0</td>\n",
       "    </tr>\n",
       "    <tr>\n",
       "      <th>98</th>\n",
       "      <td>3264</td>\n",
       "      <td>11</td>\n",
       "      <td>1</td>\n",
       "      <td>53.0</td>\n",
       "    </tr>\n",
       "    <tr>\n",
       "      <th>99</th>\n",
       "      <td>3264</td>\n",
       "      <td>11</td>\n",
       "      <td>2</td>\n",
       "      <td>53.0</td>\n",
       "    </tr>\n",
       "  </tbody>\n",
       "</table>\n",
       "<p>100 rows × 4 columns</p>\n",
       "</div>"
      ],
      "text/plain": [
       "    listing_id  month  day_of_week  price\n",
       "0          958      1            0  180.0\n",
       "1          958      1            1  179.5\n",
       "2          958      1            2  179.5\n",
       "3          958      1            3  179.0\n",
       "4          958      1            4  183.0\n",
       "5          958      1            5  185.0\n",
       "6          958      1            6  180.0\n",
       "7          958      2            0  179.0\n",
       "8          958      2            1  179.0\n",
       "9          958      2            2  179.0\n",
       "10         958      2            3  179.0\n",
       "11         958      2            4  188.5\n",
       "12         958      2            5  188.0\n",
       "13         958      2            6  179.0\n",
       "14         958      3            0  181.0\n",
       "15         958      3            1  181.0\n",
       "16         958      3            2  181.0\n",
       "17         958      3            3  181.0\n",
       "18         958      3            4  191.0\n",
       "19         958      3            5  191.0\n",
       "20         958      3            6  181.0\n",
       "21         958      4            0  181.0\n",
       "22         958      4            1  181.0\n",
       "23         958      4            2  181.0\n",
       "24         958      4            3  181.0\n",
       "25         958      4            4  191.0\n",
       "26         958      4            5  191.0\n",
       "27         958      4            6  181.0\n",
       "28         958      5            2  181.0\n",
       "29         958      5            3  181.0\n",
       "..         ...    ...          ...    ...\n",
       "70        3083     11            1   65.0\n",
       "71        3083     11            2   65.0\n",
       "72        3083     11            3   65.0\n",
       "73        3083     11            4   65.0\n",
       "74        3083     11            5   65.0\n",
       "75        3083     11            6   65.0\n",
       "76        3083     12            0   65.0\n",
       "77        3083     12            1   65.0\n",
       "78        3083     12            2   65.0\n",
       "79        3083     12            3   65.0\n",
       "80        3083     12            4   65.0\n",
       "81        3083     12            5   65.0\n",
       "82        3083     12            6   65.0\n",
       "83        3264      9            0   53.0\n",
       "84        3264      9            1   53.0\n",
       "85        3264      9            2   53.0\n",
       "86        3264      9            3   53.0\n",
       "87        3264      9            4   63.0\n",
       "88        3264      9            5   63.0\n",
       "89        3264      9            6   53.0\n",
       "90        3264     10            0   53.0\n",
       "91        3264     10            1   53.0\n",
       "92        3264     10            2   53.0\n",
       "93        3264     10            3   53.0\n",
       "94        3264     10            4   63.0\n",
       "95        3264     10            5   63.0\n",
       "96        3264     10            6   53.0\n",
       "97        3264     11            0   53.0\n",
       "98        3264     11            1   53.0\n",
       "99        3264     11            2   53.0\n",
       "\n",
       "[100 rows x 4 columns]"
      ]
     },
     "execution_count": 20,
     "metadata": {},
     "output_type": "execute_result"
    }
   ],
   "source": [
    "# Group by month by day of week, and calculate an average pricing\n",
    "\n",
    "df_pricing_by_mon_dow = df_pricing_smaller  \\\n",
    "                            .groupby(['listing_id', 'month', 'day_of_week'])  \\\n",
    "                            .price.mean()  \\\n",
    "                            .reset_index()\n",
    "df_pricing_by_mon_dow.head(100)"
   ]
  },
  {
   "cell_type": "code",
   "execution_count": 21,
   "metadata": {
    "ExecuteTime": {
     "end_time": "2019-02-19T10:35:30.438593Z",
     "start_time": "2019-02-19T10:35:30.376881Z"
    }
   },
   "outputs": [
    {
     "data": {
      "text/plain": [
       "listing_id     0\n",
       "month          0\n",
       "day_of_week    0\n",
       "price          0\n",
       "dtype: int64"
      ]
     },
     "execution_count": 21,
     "metadata": {},
     "output_type": "execute_result"
    }
   ],
   "source": [
    "# Check for null values if any\n",
    "\n",
    "df_pricing_by_mon_dow.isnull().sum()"
   ]
  },
  {
   "cell_type": "code",
   "execution_count": 22,
   "metadata": {
    "ExecuteTime": {
     "end_time": "2019-02-19T10:35:31.191645Z",
     "start_time": "2019-02-19T10:35:31.178489Z"
    }
   },
   "outputs": [],
   "source": [
    "# Rename the average price column to avoid confusion\n",
    "\n",
    "df_pricing_by_mon_dow.rename(columns={'price':'price_by_mon_dow'}, inplace=True)"
   ]
  },
  {
   "cell_type": "code",
   "execution_count": 23,
   "metadata": {
    "ExecuteTime": {
     "end_time": "2019-02-19T10:35:31.941241Z",
     "start_time": "2019-02-19T10:35:31.935727Z"
    }
   },
   "outputs": [
    {
     "data": {
      "text/plain": [
       "(625086, 4)"
      ]
     },
     "execution_count": 23,
     "metadata": {},
     "output_type": "execute_result"
    }
   ],
   "source": [
    "df_pricing_by_mon_dow.shape"
   ]
  },
  {
   "cell_type": "code",
   "execution_count": 24,
   "metadata": {
    "ExecuteTime": {
     "end_time": "2019-02-19T10:35:32.685800Z",
     "start_time": "2019-02-19T10:35:32.675238Z"
    }
   },
   "outputs": [
    {
     "data": {
      "text/html": [
       "<div>\n",
       "<style scoped>\n",
       "    .dataframe tbody tr th:only-of-type {\n",
       "        vertical-align: middle;\n",
       "    }\n",
       "\n",
       "    .dataframe tbody tr th {\n",
       "        vertical-align: top;\n",
       "    }\n",
       "\n",
       "    .dataframe thead th {\n",
       "        text-align: right;\n",
       "    }\n",
       "</style>\n",
       "<table border=\"1\" class=\"dataframe\">\n",
       "  <thead>\n",
       "    <tr style=\"text-align: right;\">\n",
       "      <th></th>\n",
       "      <th>listing_id</th>\n",
       "      <th>month</th>\n",
       "      <th>day_of_week</th>\n",
       "      <th>price_by_mon_dow</th>\n",
       "    </tr>\n",
       "  </thead>\n",
       "  <tbody>\n",
       "    <tr>\n",
       "      <th>0</th>\n",
       "      <td>958</td>\n",
       "      <td>1</td>\n",
       "      <td>0</td>\n",
       "      <td>180.0</td>\n",
       "    </tr>\n",
       "    <tr>\n",
       "      <th>1</th>\n",
       "      <td>958</td>\n",
       "      <td>1</td>\n",
       "      <td>1</td>\n",
       "      <td>179.5</td>\n",
       "    </tr>\n",
       "    <tr>\n",
       "      <th>2</th>\n",
       "      <td>958</td>\n",
       "      <td>1</td>\n",
       "      <td>2</td>\n",
       "      <td>179.5</td>\n",
       "    </tr>\n",
       "    <tr>\n",
       "      <th>3</th>\n",
       "      <td>958</td>\n",
       "      <td>1</td>\n",
       "      <td>3</td>\n",
       "      <td>179.0</td>\n",
       "    </tr>\n",
       "    <tr>\n",
       "      <th>4</th>\n",
       "      <td>958</td>\n",
       "      <td>1</td>\n",
       "      <td>4</td>\n",
       "      <td>183.0</td>\n",
       "    </tr>\n",
       "  </tbody>\n",
       "</table>\n",
       "</div>"
      ],
      "text/plain": [
       "   listing_id  month  day_of_week  price_by_mon_dow\n",
       "0         958      1            0             180.0\n",
       "1         958      1            1             179.5\n",
       "2         958      1            2             179.5\n",
       "3         958      1            3             179.0\n",
       "4         958      1            4             183.0"
      ]
     },
     "execution_count": 24,
     "metadata": {},
     "output_type": "execute_result"
    }
   ],
   "source": [
    "df_pricing_by_mon_dow.head()"
   ]
  },
  {
   "cell_type": "code",
   "execution_count": 25,
   "metadata": {
    "ExecuteTime": {
     "end_time": "2019-02-19T10:35:33.491826Z",
     "start_time": "2019-02-19T10:35:33.443848Z"
    }
   },
   "outputs": [
    {
     "data": {
      "text/html": [
       "<div>\n",
       "<style scoped>\n",
       "    .dataframe tbody tr th:only-of-type {\n",
       "        vertical-align: middle;\n",
       "    }\n",
       "\n",
       "    .dataframe tbody tr th {\n",
       "        vertical-align: top;\n",
       "    }\n",
       "\n",
       "    .dataframe thead th {\n",
       "        text-align: right;\n",
       "    }\n",
       "</style>\n",
       "<table border=\"1\" class=\"dataframe\">\n",
       "  <thead>\n",
       "    <tr style=\"text-align: right;\">\n",
       "      <th></th>\n",
       "      <th>price_by_mon_dow</th>\n",
       "    </tr>\n",
       "  </thead>\n",
       "  <tbody>\n",
       "    <tr>\n",
       "      <th>count</th>\n",
       "      <td>625086.000000</td>\n",
       "    </tr>\n",
       "    <tr>\n",
       "      <th>mean</th>\n",
       "      <td>154.025145</td>\n",
       "    </tr>\n",
       "    <tr>\n",
       "      <th>std</th>\n",
       "      <td>97.041053</td>\n",
       "    </tr>\n",
       "    <tr>\n",
       "      <th>min</th>\n",
       "      <td>40.000000</td>\n",
       "    </tr>\n",
       "    <tr>\n",
       "      <th>25%</th>\n",
       "      <td>80.000000</td>\n",
       "    </tr>\n",
       "    <tr>\n",
       "      <th>50%</th>\n",
       "      <td>128.000000</td>\n",
       "    </tr>\n",
       "    <tr>\n",
       "      <th>75%</th>\n",
       "      <td>199.000000</td>\n",
       "    </tr>\n",
       "    <tr>\n",
       "      <th>max</th>\n",
       "      <td>500.000000</td>\n",
       "    </tr>\n",
       "  </tbody>\n",
       "</table>\n",
       "</div>"
      ],
      "text/plain": [
       "       price_by_mon_dow\n",
       "count     625086.000000\n",
       "mean         154.025145\n",
       "std           97.041053\n",
       "min           40.000000\n",
       "25%           80.000000\n",
       "50%          128.000000\n",
       "75%          199.000000\n",
       "max          500.000000"
      ]
     },
     "execution_count": 25,
     "metadata": {},
     "output_type": "execute_result"
    }
   ],
   "source": [
    "columns2display = ['price_by_mon_dow']\n",
    "\n",
    "df_pricing_by_mon_dow[columns2display].describe()"
   ]
  },
  {
   "cell_type": "markdown",
   "metadata": {
    "ExecuteTime": {
     "end_time": "2019-02-17T23:54:06.544353Z",
     "start_time": "2019-02-17T23:54:06.541120Z"
    }
   },
   "source": [
    "### Convert Month, DOW Info to Dummy Variables"
   ]
  },
  {
   "cell_type": "code",
   "execution_count": 26,
   "metadata": {
    "ExecuteTime": {
     "end_time": "2019-02-19T10:35:34.282840Z",
     "start_time": "2019-02-19T10:35:34.277916Z"
    }
   },
   "outputs": [],
   "source": [
    "def get_month(number):\n",
    "    \"\"\"\n",
    "    Given a number, return the name of month.\n",
    "    \n",
    "    \"\"\"\n",
    "    month_lookup = {1:'Jan.', 2:'Feb.', 3:'Mar.', 4:'Apr.', 5:'May.', 6:'Jun.',\n",
    "                    7:'Jul.', 8:'Aug.', 9:'Sep.', 10:'Oct.', 11:'Nov.', 12:'Dec.'}\n",
    "    \n",
    "    return month_lookup[number]"
   ]
  },
  {
   "cell_type": "code",
   "execution_count": 27,
   "metadata": {
    "ExecuteTime": {
     "end_time": "2019-02-19T10:35:35.023845Z",
     "start_time": "2019-02-19T10:35:35.019193Z"
    }
   },
   "outputs": [],
   "source": [
    "def get_dow(number):\n",
    "    \"\"\"\n",
    "    Given a number, return the day of week (dow)\n",
    "    \n",
    "    \"\"\"\n",
    "    weekday_lookup = {0:'Monday', 1:'Tuesday', 2:'Wednesday', 3:'Thursday', \n",
    "                      4:'Friday', 5:'Saturday', 6:'Sunday'}\n",
    "    \n",
    "    return weekday_lookup[number]"
   ]
  },
  {
   "cell_type": "code",
   "execution_count": 28,
   "metadata": {
    "ExecuteTime": {
     "end_time": "2019-02-19T10:35:36.595900Z",
     "start_time": "2019-02-19T10:35:35.744341Z"
    }
   },
   "outputs": [],
   "source": [
    "# Added names for month, and day of week(dow) informaiton\n",
    "\n",
    "df_pricing_by_mon_dow = apply2df(df_pricing_by_mon_dow, ['month'], get_month )\n",
    "df_pricing_by_mon_dow = apply2df(df_pricing_by_mon_dow, ['day_of_week'], get_dow )"
   ]
  },
  {
   "cell_type": "code",
   "execution_count": 29,
   "metadata": {
    "ExecuteTime": {
     "end_time": "2019-02-19T10:35:37.518300Z",
     "start_time": "2019-02-19T10:35:37.336145Z"
    }
   },
   "outputs": [
    {
     "name": "stdout",
     "output_type": "stream",
     "text": [
      "df_pricing_final dimensions:  (625086, 21)\n"
     ]
    },
    {
     "data": {
      "text/html": [
       "<div>\n",
       "<style scoped>\n",
       "    .dataframe tbody tr th:only-of-type {\n",
       "        vertical-align: middle;\n",
       "    }\n",
       "\n",
       "    .dataframe tbody tr th {\n",
       "        vertical-align: top;\n",
       "    }\n",
       "\n",
       "    .dataframe thead th {\n",
       "        text-align: right;\n",
       "    }\n",
       "</style>\n",
       "<table border=\"1\" class=\"dataframe\">\n",
       "  <thead>\n",
       "    <tr style=\"text-align: right;\">\n",
       "      <th></th>\n",
       "      <th>listing_id</th>\n",
       "      <th>price_by_mon_dow</th>\n",
       "      <th>Apr.</th>\n",
       "      <th>Aug.</th>\n",
       "      <th>Dec.</th>\n",
       "      <th>Feb.</th>\n",
       "      <th>Jan.</th>\n",
       "      <th>Jul.</th>\n",
       "      <th>Jun.</th>\n",
       "      <th>Mar.</th>\n",
       "      <th>...</th>\n",
       "      <th>Nov.</th>\n",
       "      <th>Oct.</th>\n",
       "      <th>Sep.</th>\n",
       "      <th>Friday</th>\n",
       "      <th>Monday</th>\n",
       "      <th>Saturday</th>\n",
       "      <th>Sunday</th>\n",
       "      <th>Thursday</th>\n",
       "      <th>Tuesday</th>\n",
       "      <th>Wednesday</th>\n",
       "    </tr>\n",
       "  </thead>\n",
       "  <tbody>\n",
       "    <tr>\n",
       "      <th>0</th>\n",
       "      <td>958</td>\n",
       "      <td>180.0</td>\n",
       "      <td>0</td>\n",
       "      <td>0</td>\n",
       "      <td>0</td>\n",
       "      <td>0</td>\n",
       "      <td>1</td>\n",
       "      <td>0</td>\n",
       "      <td>0</td>\n",
       "      <td>0</td>\n",
       "      <td>...</td>\n",
       "      <td>0</td>\n",
       "      <td>0</td>\n",
       "      <td>0</td>\n",
       "      <td>0</td>\n",
       "      <td>1</td>\n",
       "      <td>0</td>\n",
       "      <td>0</td>\n",
       "      <td>0</td>\n",
       "      <td>0</td>\n",
       "      <td>0</td>\n",
       "    </tr>\n",
       "    <tr>\n",
       "      <th>1</th>\n",
       "      <td>958</td>\n",
       "      <td>179.5</td>\n",
       "      <td>0</td>\n",
       "      <td>0</td>\n",
       "      <td>0</td>\n",
       "      <td>0</td>\n",
       "      <td>1</td>\n",
       "      <td>0</td>\n",
       "      <td>0</td>\n",
       "      <td>0</td>\n",
       "      <td>...</td>\n",
       "      <td>0</td>\n",
       "      <td>0</td>\n",
       "      <td>0</td>\n",
       "      <td>0</td>\n",
       "      <td>0</td>\n",
       "      <td>0</td>\n",
       "      <td>0</td>\n",
       "      <td>0</td>\n",
       "      <td>1</td>\n",
       "      <td>0</td>\n",
       "    </tr>\n",
       "    <tr>\n",
       "      <th>2</th>\n",
       "      <td>958</td>\n",
       "      <td>179.5</td>\n",
       "      <td>0</td>\n",
       "      <td>0</td>\n",
       "      <td>0</td>\n",
       "      <td>0</td>\n",
       "      <td>1</td>\n",
       "      <td>0</td>\n",
       "      <td>0</td>\n",
       "      <td>0</td>\n",
       "      <td>...</td>\n",
       "      <td>0</td>\n",
       "      <td>0</td>\n",
       "      <td>0</td>\n",
       "      <td>0</td>\n",
       "      <td>0</td>\n",
       "      <td>0</td>\n",
       "      <td>0</td>\n",
       "      <td>0</td>\n",
       "      <td>0</td>\n",
       "      <td>1</td>\n",
       "    </tr>\n",
       "    <tr>\n",
       "      <th>3</th>\n",
       "      <td>958</td>\n",
       "      <td>179.0</td>\n",
       "      <td>0</td>\n",
       "      <td>0</td>\n",
       "      <td>0</td>\n",
       "      <td>0</td>\n",
       "      <td>1</td>\n",
       "      <td>0</td>\n",
       "      <td>0</td>\n",
       "      <td>0</td>\n",
       "      <td>...</td>\n",
       "      <td>0</td>\n",
       "      <td>0</td>\n",
       "      <td>0</td>\n",
       "      <td>0</td>\n",
       "      <td>0</td>\n",
       "      <td>0</td>\n",
       "      <td>0</td>\n",
       "      <td>1</td>\n",
       "      <td>0</td>\n",
       "      <td>0</td>\n",
       "    </tr>\n",
       "    <tr>\n",
       "      <th>4</th>\n",
       "      <td>958</td>\n",
       "      <td>183.0</td>\n",
       "      <td>0</td>\n",
       "      <td>0</td>\n",
       "      <td>0</td>\n",
       "      <td>0</td>\n",
       "      <td>1</td>\n",
       "      <td>0</td>\n",
       "      <td>0</td>\n",
       "      <td>0</td>\n",
       "      <td>...</td>\n",
       "      <td>0</td>\n",
       "      <td>0</td>\n",
       "      <td>0</td>\n",
       "      <td>1</td>\n",
       "      <td>0</td>\n",
       "      <td>0</td>\n",
       "      <td>0</td>\n",
       "      <td>0</td>\n",
       "      <td>0</td>\n",
       "      <td>0</td>\n",
       "    </tr>\n",
       "  </tbody>\n",
       "</table>\n",
       "<p>5 rows × 21 columns</p>\n",
       "</div>"
      ],
      "text/plain": [
       "   listing_id  price_by_mon_dow  Apr.  Aug.  Dec.  Feb.  Jan.  Jul.  Jun.  \\\n",
       "0         958             180.0     0     0     0     0     1     0     0   \n",
       "1         958             179.5     0     0     0     0     1     0     0   \n",
       "2         958             179.5     0     0     0     0     1     0     0   \n",
       "3         958             179.0     0     0     0     0     1     0     0   \n",
       "4         958             183.0     0     0     0     0     1     0     0   \n",
       "\n",
       "   Mar.    ...      Nov.  Oct.  Sep.  Friday  Monday  Saturday  Sunday  \\\n",
       "0     0    ...         0     0     0       0       1         0       0   \n",
       "1     0    ...         0     0     0       0       0         0       0   \n",
       "2     0    ...         0     0     0       0       0         0       0   \n",
       "3     0    ...         0     0     0       0       0         0       0   \n",
       "4     0    ...         0     0     0       1       0         0       0   \n",
       "\n",
       "   Thursday  Tuesday  Wednesday  \n",
       "0         0        0          0  \n",
       "1         0        1          0  \n",
       "2         0        0          1  \n",
       "3         1        0          0  \n",
       "4         0        0          0  \n",
       "\n",
       "[5 rows x 21 columns]"
      ]
     },
     "execution_count": 29,
     "metadata": {},
     "output_type": "execute_result"
    }
   ],
   "source": [
    "# Converted month, and dow information to dummy variables\n",
    "\n",
    "df_pricing_final = pd.get_dummies(df_pricing_by_mon_dow, \n",
    "                                  prefix='',\n",
    "                                  prefix_sep='',\n",
    "                                  columns=['month', 'day_of_week'])\n",
    "\n",
    "print ('df_pricing_final dimensions: ', df_pricing_final.shape)\n",
    "df_pricing_final.head()"
   ]
  },
  {
   "cell_type": "code",
   "execution_count": 30,
   "metadata": {
    "ExecuteTime": {
     "end_time": "2019-02-19T10:35:38.760744Z",
     "start_time": "2019-02-19T10:35:38.754611Z"
    }
   },
   "outputs": [
    {
     "data": {
      "text/plain": [
       "Index(['listing_id', 'price_by_mon_dow', 'Apr.', 'Aug.', 'Dec.', 'Feb.',\n",
       "       'Jan.', 'Jul.', 'Jun.', 'Mar.', 'May.', 'Nov.', 'Oct.', 'Sep.',\n",
       "       'Friday', 'Monday', 'Saturday', 'Sunday', 'Thursday', 'Tuesday',\n",
       "       'Wednesday'],\n",
       "      dtype='object')"
      ]
     },
     "execution_count": 30,
     "metadata": {},
     "output_type": "execute_result"
    }
   ],
   "source": [
    "df_pricing_final.columns"
   ]
  },
  {
   "cell_type": "markdown",
   "metadata": {
    "ExecuteTime": {
     "end_time": "2019-02-18T22:31:54.284100Z",
     "start_time": "2019-02-18T22:31:54.280699Z"
    }
   },
   "source": [
    "## test"
   ]
  },
  {
   "cell_type": "code",
   "execution_count": 31,
   "metadata": {
    "ExecuteTime": {
     "end_time": "2019-02-19T10:35:40.155544Z",
     "start_time": "2019-02-19T10:35:39.962885Z"
    }
   },
   "outputs": [
    {
     "data": {
      "text/plain": [
       "<matplotlib.axes._subplots.AxesSubplot at 0x1c221a0a58>"
      ]
     },
     "execution_count": 31,
     "metadata": {},
     "output_type": "execute_result"
    },
    {
     "data": {
      "image/png": "[encoded data removed]",
      "text/plain": [
       "<Figure size 432x288 with 1 Axes>"
      ]
     },
     "metadata": {},
     "output_type": "display_data"
    }
   ],
   "source": [
    "df_pricing_final.price_by_mon_dow.hist()"
   ]
  },
  {
   "cell_type": "code",
   "execution_count": 32,
   "metadata": {
    "ExecuteTime": {
     "end_time": "2019-02-19T10:35:42.152202Z",
     "start_time": "2019-02-19T10:35:41.308996Z"
    }
   },
   "outputs": [],
   "source": [
    "df_pricing_final['price_by_mon_dow'] = df_pricing_final['price_by_mon_dow'].apply(lambda x: np.log(x))"
   ]
  },
  {
   "cell_type": "code",
   "execution_count": 33,
   "metadata": {
    "ExecuteTime": {
     "end_time": "2019-02-19T10:35:43.528091Z",
     "start_time": "2019-02-19T10:35:43.360789Z"
    }
   },
   "outputs": [
    {
     "data": {
      "text/plain": [
       "<matplotlib.axes._subplots.AxesSubplot at 0x1c230528d0>"
      ]
     },
     "execution_count": 33,
     "metadata": {},
     "output_type": "execute_result"
    },
    {
     "data": {
      "image/png": "[encoded data removed]",
      "text/plain": [
       "<Figure size 432x288 with 1 Axes>"
      ]
     },
     "metadata": {},
     "output_type": "display_data"
    }
   ],
   "source": [
    "df_pricing_final.price_by_mon_dow.hist()"
   ]
  },
  {
   "cell_type": "markdown",
   "metadata": {
    "ExecuteTime": {
     "end_time": "2019-02-18T03:10:45.869630Z",
     "start_time": "2019-02-18T03:10:45.866430Z"
    }
   },
   "source": [
    "## Combined Seasonality Data with Previously Identified Features"
   ]
  },
  {
   "cell_type": "code",
   "execution_count": 34,
   "metadata": {
    "ExecuteTime": {
     "end_time": "2019-02-19T10:35:44.754419Z",
     "start_time": "2019-02-19T10:35:44.707187Z"
    }
   },
   "outputs": [
    {
     "name": "stdout",
     "output_type": "stream",
     "text": [
      "df_listings_features dimensions:  (9062, 314)\n"
     ]
    },
    {
     "data": {
      "text/html": [
       "<div>\n",
       "<style scoped>\n",
       "    .dataframe tbody tr th:only-of-type {\n",
       "        vertical-align: middle;\n",
       "    }\n",
       "\n",
       "    .dataframe tbody tr th {\n",
       "        vertical-align: top;\n",
       "    }\n",
       "\n",
       "    .dataframe thead th {\n",
       "        text-align: right;\n",
       "    }\n",
       "</style>\n",
       "<table border=\"1\" class=\"dataframe\">\n",
       "  <thead>\n",
       "    <tr style=\"text-align: right;\">\n",
       "      <th></th>\n",
       "      <th>id</th>\n",
       "      <th>host_yrs</th>\n",
       "      <th>host_response_rate</th>\n",
       "      <th>host_listings_count</th>\n",
       "      <th>accommodates</th>\n",
       "      <th>bathrooms</th>\n",
       "      <th>bedrooms</th>\n",
       "      <th>beds</th>\n",
       "      <th>price</th>\n",
       "      <th>security_deposit</th>\n",
       "      <th>...</th>\n",
       "      <th>amenities_Shampoo</th>\n",
       "      <th>amenities_Single level home</th>\n",
       "      <th>amenities_Smoke detector</th>\n",
       "      <th>amenities_Stepfree access</th>\n",
       "      <th>amenities_TV</th>\n",
       "      <th>amenities_Wifi</th>\n",
       "      <th>amenities_translation missing enhosting_amenity_49</th>\n",
       "      <th>amenities_translation missing enhosting_amenity_50</th>\n",
       "      <th>ref_district</th>\n",
       "      <th>ref_jurisdiction</th>\n",
       "    </tr>\n",
       "  </thead>\n",
       "  <tbody>\n",
       "    <tr>\n",
       "      <th>0</th>\n",
       "      <td>958</td>\n",
       "      <td>12</td>\n",
       "      <td>0.92</td>\n",
       "      <td>1</td>\n",
       "      <td>3</td>\n",
       "      <td>1.0</td>\n",
       "      <td>1.0</td>\n",
       "      <td>2.0</td>\n",
       "      <td>5.135798</td>\n",
       "      <td>1</td>\n",
       "      <td>...</td>\n",
       "      <td>1</td>\n",
       "      <td>0</td>\n",
       "      <td>1</td>\n",
       "      <td>0</td>\n",
       "      <td>1</td>\n",
       "      <td>1</td>\n",
       "      <td>0</td>\n",
       "      <td>0</td>\n",
       "      <td>San Francisco</td>\n",
       "      <td>SAN FRANCISCO</td>\n",
       "    </tr>\n",
       "    <tr>\n",
       "      <th>1</th>\n",
       "      <td>5858</td>\n",
       "      <td>11</td>\n",
       "      <td>1.00</td>\n",
       "      <td>2</td>\n",
       "      <td>5</td>\n",
       "      <td>1.0</td>\n",
       "      <td>2.0</td>\n",
       "      <td>3.0</td>\n",
       "      <td>5.459586</td>\n",
       "      <td>1</td>\n",
       "      <td>...</td>\n",
       "      <td>1</td>\n",
       "      <td>0</td>\n",
       "      <td>1</td>\n",
       "      <td>0</td>\n",
       "      <td>0</td>\n",
       "      <td>1</td>\n",
       "      <td>0</td>\n",
       "      <td>0</td>\n",
       "      <td>San Francisco</td>\n",
       "      <td>SAN FRANCISCO</td>\n",
       "    </tr>\n",
       "    <tr>\n",
       "      <th>2</th>\n",
       "      <td>7918</td>\n",
       "      <td>11</td>\n",
       "      <td>1.00</td>\n",
       "      <td>10</td>\n",
       "      <td>2</td>\n",
       "      <td>4.0</td>\n",
       "      <td>1.0</td>\n",
       "      <td>1.0</td>\n",
       "      <td>4.174387</td>\n",
       "      <td>1</td>\n",
       "      <td>...</td>\n",
       "      <td>0</td>\n",
       "      <td>0</td>\n",
       "      <td>1</td>\n",
       "      <td>0</td>\n",
       "      <td>1</td>\n",
       "      <td>1</td>\n",
       "      <td>1</td>\n",
       "      <td>1</td>\n",
       "      <td>San Francisco</td>\n",
       "      <td>SAN FRANCISCO</td>\n",
       "    </tr>\n",
       "    <tr>\n",
       "      <th>3</th>\n",
       "      <td>8142</td>\n",
       "      <td>11</td>\n",
       "      <td>1.00</td>\n",
       "      <td>10</td>\n",
       "      <td>2</td>\n",
       "      <td>4.0</td>\n",
       "      <td>1.0</td>\n",
       "      <td>1.0</td>\n",
       "      <td>4.174387</td>\n",
       "      <td>1</td>\n",
       "      <td>...</td>\n",
       "      <td>0</td>\n",
       "      <td>0</td>\n",
       "      <td>1</td>\n",
       "      <td>0</td>\n",
       "      <td>1</td>\n",
       "      <td>1</td>\n",
       "      <td>0</td>\n",
       "      <td>0</td>\n",
       "      <td>San Francisco</td>\n",
       "      <td>SAN FRANCISCO</td>\n",
       "    </tr>\n",
       "    <tr>\n",
       "      <th>4</th>\n",
       "      <td>8567</td>\n",
       "      <td>11</td>\n",
       "      <td>0.80</td>\n",
       "      <td>1</td>\n",
       "      <td>6</td>\n",
       "      <td>1.0</td>\n",
       "      <td>2.0</td>\n",
       "      <td>3.0</td>\n",
       "      <td>5.541264</td>\n",
       "      <td>0</td>\n",
       "      <td>...</td>\n",
       "      <td>1</td>\n",
       "      <td>0</td>\n",
       "      <td>1</td>\n",
       "      <td>0</td>\n",
       "      <td>1</td>\n",
       "      <td>1</td>\n",
       "      <td>0</td>\n",
       "      <td>0</td>\n",
       "      <td>San Francisco</td>\n",
       "      <td>SAN FRANCISCO</td>\n",
       "    </tr>\n",
       "  </tbody>\n",
       "</table>\n",
       "<p>5 rows × 314 columns</p>\n",
       "</div>"
      ],
      "text/plain": [
       "     id  host_yrs  host_response_rate  host_listings_count  accommodates  \\\n",
       "0   958        12                0.92                    1             3   \n",
       "1  5858        11                1.00                    2             5   \n",
       "2  7918        11                1.00                   10             2   \n",
       "3  8142        11                1.00                   10             2   \n",
       "4  8567        11                0.80                    1             6   \n",
       "\n",
       "   bathrooms  bedrooms  beds     price  security_deposit        ...         \\\n",
       "0        1.0       1.0   2.0  5.135798                 1        ...          \n",
       "1        1.0       2.0   3.0  5.459586                 1        ...          \n",
       "2        4.0       1.0   1.0  4.174387                 1        ...          \n",
       "3        4.0       1.0   1.0  4.174387                 1        ...          \n",
       "4        1.0       2.0   3.0  5.541264                 0        ...          \n",
       "\n",
       "   amenities_Shampoo  amenities_Single level home  amenities_Smoke detector  \\\n",
       "0                  1                            0                         1   \n",
       "1                  1                            0                         1   \n",
       "2                  0                            0                         1   \n",
       "3                  0                            0                         1   \n",
       "4                  1                            0                         1   \n",
       "\n",
       "   amenities_Stepfree access  amenities_TV  amenities_Wifi  \\\n",
       "0                          0             1               1   \n",
       "1                          0             0               1   \n",
       "2                          0             1               1   \n",
       "3                          0             1               1   \n",
       "4                          0             1               1   \n",
       "\n",
       "   amenities_translation missing enhosting_amenity_49  \\\n",
       "0                                                  0    \n",
       "1                                                  0    \n",
       "2                                                  1    \n",
       "3                                                  0    \n",
       "4                                                  0    \n",
       "\n",
       "   amenities_translation missing enhosting_amenity_50   ref_district  \\\n",
       "0                                                  0   San Francisco   \n",
       "1                                                  0   San Francisco   \n",
       "2                                                  1   San Francisco   \n",
       "3                                                  0   San Francisco   \n",
       "4                                                  0   San Francisco   \n",
       "\n",
       "   ref_jurisdiction  \n",
       "0     SAN FRANCISCO  \n",
       "1     SAN FRANCISCO  \n",
       "2     SAN FRANCISCO  \n",
       "3     SAN FRANCISCO  \n",
       "4     SAN FRANCISCO  \n",
       "\n",
       "[5 rows x 314 columns]"
      ]
     },
     "execution_count": 34,
     "metadata": {},
     "output_type": "execute_result"
    }
   ],
   "source": [
    "# Loaded listings with identified important features\n",
    "\n",
    "pkl_file = '/Users/xzhou/github/project_archives/files_airbnb/{}.pkl'\n",
    "listings = pkl_file.format('df_listings_selected_features')\n",
    "\n",
    "df_listings_features = pd.read_pickle(listings)\n",
    "\n",
    "print ('df_listings_features dimensions: ', df_listings_features.shape)\n",
    "df_listings_features.head()"
   ]
  },
  {
   "cell_type": "code",
   "execution_count": 35,
   "metadata": {
    "ExecuteTime": {
     "end_time": "2019-02-19T10:35:46.414974Z",
     "start_time": "2019-02-19T10:35:46.407385Z"
    }
   },
   "outputs": [
    {
     "data": {
      "text/plain": [
       "Index(['id', 'host_yrs', 'host_response_rate', 'host_listings_count',\n",
       "       'accommodates', 'bathrooms', 'bedrooms', 'beds', 'price',\n",
       "       'security_deposit',\n",
       "       ...\n",
       "       'amenities_Shampoo', 'amenities_Single level home',\n",
       "       'amenities_Smoke detector', 'amenities_Stepfree access', 'amenities_TV',\n",
       "       'amenities_Wifi', 'amenities_translation missing enhosting_amenity_49',\n",
       "       'amenities_translation missing enhosting_amenity_50', 'ref_district',\n",
       "       'ref_jurisdiction'],\n",
       "      dtype='object', length=314)"
      ]
     },
     "execution_count": 35,
     "metadata": {},
     "output_type": "execute_result"
    }
   ],
   "source": [
    "df_listings_features.columns"
   ]
  },
  {
   "cell_type": "code",
   "execution_count": 36,
   "metadata": {
    "ExecuteTime": {
     "end_time": "2019-02-19T10:35:49.309280Z",
     "start_time": "2019-02-19T10:35:47.833404Z"
    }
   },
   "outputs": [],
   "source": [
    "# Combined listing data with seaonality information we just created\n",
    "\n",
    "df_final = pd.merge(left=df_pricing_final, \n",
    "                    right=df_listings_features,\n",
    "                    how='inner',\n",
    "                    left_on='listing_id',\n",
    "                    right_on='id')"
   ]
  },
  {
   "cell_type": "code",
   "execution_count": 37,
   "metadata": {
    "ExecuteTime": {
     "end_time": "2019-02-19T10:35:51.692368Z",
     "start_time": "2019-02-19T10:35:51.685416Z"
    }
   },
   "outputs": [
    {
     "data": {
      "text/plain": [
       "Index(['listing_id', 'price_by_mon_dow', 'Apr.', 'Aug.', 'Dec.', 'Feb.',\n",
       "       'Jan.', 'Jul.', 'Jun.', 'Mar.',\n",
       "       ...\n",
       "       'amenities_Shampoo', 'amenities_Single level home',\n",
       "       'amenities_Smoke detector', 'amenities_Stepfree access', 'amenities_TV',\n",
       "       'amenities_Wifi', 'amenities_translation missing enhosting_amenity_49',\n",
       "       'amenities_translation missing enhosting_amenity_50', 'ref_district',\n",
       "       'ref_jurisdiction'],\n",
       "      dtype='object', length=335)"
      ]
     },
     "execution_count": 37,
     "metadata": {},
     "output_type": "execute_result"
    }
   ],
   "source": [
    "df_final.columns"
   ]
  },
  {
   "cell_type": "code",
   "execution_count": 38,
   "metadata": {
    "ExecuteTime": {
     "end_time": "2019-02-19T10:35:54.721889Z",
     "start_time": "2019-02-19T10:35:54.021425Z"
    }
   },
   "outputs": [
    {
     "data": {
      "text/plain": [
       "(407498, 334)"
      ]
     },
     "execution_count": 38,
     "metadata": {},
     "output_type": "execute_result"
    }
   ],
   "source": [
    "# Dropped duplicate columns\n",
    "\n",
    "duplicate_columns = ['id']\n",
    "df_final.drop(duplicate_columns, axis=1, inplace=True)\n",
    "\n",
    "df_final.shape"
   ]
  },
  {
   "cell_type": "markdown",
   "metadata": {
    "ExecuteTime": {
     "end_time": "2019-02-18T00:26:16.558136Z",
     "start_time": "2019-02-18T00:26:16.554923Z"
    }
   },
   "source": [
    "### Features with High Correlation"
   ]
  },
  {
   "cell_type": "code",
   "execution_count": 39,
   "metadata": {
    "ExecuteTime": {
     "end_time": "2019-02-19T10:37:18.720622Z",
     "start_time": "2019-02-19T10:35:57.071268Z"
    }
   },
   "outputs": [],
   "source": [
    "# Create correlation matrix\n",
    "# Select upper triangle of correlation matrix\n",
    "\n",
    "corr_matrix = df_final.corr().abs()\n",
    "upper = corr_matrix.where(np.triu(np.ones(corr_matrix.shape), k=1).astype(np.bool))"
   ]
  },
  {
   "cell_type": "code",
   "execution_count": 40,
   "metadata": {
    "ExecuteTime": {
     "end_time": "2019-02-19T10:37:21.705860Z",
     "start_time": "2019-02-19T10:37:21.640903Z"
    }
   },
   "outputs": [
    {
     "data": {
      "text/plain": [
       "['price']"
      ]
     },
     "execution_count": 40,
     "metadata": {},
     "output_type": "execute_result"
    }
   ],
   "source": [
    "# Find index of feature columns with correlation greater than 0.90\n",
    "\n",
    "thresold = 0.90\n",
    "to_drop = [column for column in upper.columns if any(upper[column] >= thresold)]\n",
    "\n",
    "to_drop"
   ]
  },
  {
   "cell_type": "code",
   "execution_count": 41,
   "metadata": {
    "ExecuteTime": {
     "end_time": "2019-02-19T10:37:24.938609Z",
     "start_time": "2019-02-19T10:37:24.608263Z"
    }
   },
   "outputs": [],
   "source": [
    "# Drop features that have high correlation\n",
    "\n",
    "df_final.drop(to_drop, axis=1, inplace=True)"
   ]
  },
  {
   "cell_type": "code",
   "execution_count": 42,
   "metadata": {
    "ExecuteTime": {
     "end_time": "2019-02-19T10:37:27.859991Z",
     "start_time": "2019-02-19T10:37:27.853864Z"
    }
   },
   "outputs": [
    {
     "data": {
      "text/plain": [
       "(407498, 333)"
      ]
     },
     "execution_count": 42,
     "metadata": {},
     "output_type": "execute_result"
    }
   ],
   "source": [
    "df_final.shape"
   ]
  },
  {
   "cell_type": "code",
   "execution_count": 43,
   "metadata": {
    "ExecuteTime": {
     "end_time": "2019-02-19T10:37:31.823093Z",
     "start_time": "2019-02-19T10:37:30.741121Z"
    }
   },
   "outputs": [],
   "source": [
    "# Store the data prior to modeling\n",
    "# When there're changes, mark file_updated as true. Changes'll be written to local files\n",
    "# Otherwise, mark file_updated as false. Data will be loaded from existing files\n",
    "\n",
    "file_updated = True\n",
    "pkl_file = '/Users/xzhou/github/project_archives/files_airbnb/{}.pkl'\n",
    "listings_seasonality = pkl_file.format('listings_seasonality')\n",
    "\n",
    "\n",
    "if file_updated:\n",
    "    with open(listings_seasonality, 'wb') as file:\n",
    "        pd.to_pickle(df_final, file)\n",
    "else:\n",
    "    try: \n",
    "        with open(listings_seasonality, 'rb') as file:\n",
    "            df_final = pd.read_pickle(file)\n",
    "    except:\n",
    "        with open(listings_seasonality, 'wb') as file:\n",
    "            pd.to_pickle(df_final, file)"
   ]
  },
  {
   "cell_type": "markdown",
   "metadata": {},
   "source": [
    "# Modeling"
   ]
  },
  {
   "cell_type": "code",
   "execution_count": 44,
   "metadata": {
    "ExecuteTime": {
     "end_time": "2019-02-19T10:37:34.703913Z",
     "start_time": "2019-02-19T10:37:34.697319Z"
    }
   },
   "outputs": [
    {
     "data": {
      "text/plain": [
       "Index(['listing_id', 'price_by_mon_dow', 'Apr.', 'Aug.', 'Dec.', 'Feb.',\n",
       "       'Jan.', 'Jul.', 'Jun.', 'Mar.',\n",
       "       ...\n",
       "       'amenities_Shampoo', 'amenities_Single level home',\n",
       "       'amenities_Smoke detector', 'amenities_Stepfree access', 'amenities_TV',\n",
       "       'amenities_Wifi', 'amenities_translation missing enhosting_amenity_49',\n",
       "       'amenities_translation missing enhosting_amenity_50', 'ref_district',\n",
       "       'ref_jurisdiction'],\n",
       "      dtype='object', length=333)"
      ]
     },
     "execution_count": 44,
     "metadata": {},
     "output_type": "execute_result"
    }
   ],
   "source": [
    "df_final.columns"
   ]
  },
  {
   "cell_type": "code",
   "execution_count": 45,
   "metadata": {
    "ExecuteTime": {
     "end_time": "2019-02-19T10:37:37.653772Z",
     "start_time": "2019-02-19T10:37:37.585185Z"
    }
   },
   "outputs": [
    {
     "data": {
      "text/plain": [
       "Index(['ref_district', 'ref_jurisdiction'], dtype='object')"
      ]
     },
     "execution_count": 45,
     "metadata": {},
     "output_type": "execute_result"
    }
   ],
   "source": [
    "df_final.select_dtypes(include =['object']).columns"
   ]
  },
  {
   "cell_type": "code",
   "execution_count": 46,
   "metadata": {
    "ExecuteTime": {
     "end_time": "2019-02-19T10:37:40.863040Z",
     "start_time": "2019-02-19T10:37:40.577320Z"
    }
   },
   "outputs": [],
   "source": [
    "# Multiple modelings will be performed for price prediction\n",
    "# Data include 'listing_id', which will be used for stratified sampling\n",
    "\n",
    "X = df_final.drop(['price_by_mon_dow', 'ref_district', 'ref_jurisdiction'], axis=1)\n",
    "y = df_final.loc[:, ['listing_id', 'price_by_mon_dow']]"
   ]
  },
  {
   "cell_type": "markdown",
   "metadata": {
    "ExecuteTime": {
     "end_time": "2019-02-18T01:18:22.084154Z",
     "start_time": "2019-02-18T01:18:22.081097Z"
    }
   },
   "source": [
    "## Model Preprocessing"
   ]
  },
  {
   "cell_type": "markdown",
   "metadata": {
    "ExecuteTime": {
     "end_time": "2019-02-18T01:08:15.234738Z",
     "start_time": "2019-02-18T01:08:15.231675Z"
    }
   },
   "source": [
    "### Train and Test Sets Splits"
   ]
  },
  {
   "cell_type": "code",
   "execution_count": 47,
   "metadata": {
    "ExecuteTime": {
     "end_time": "2019-02-19T10:37:46.220869Z",
     "start_time": "2019-02-19T10:37:44.176927Z"
    }
   },
   "outputs": [],
   "source": [
    "# Stratified sampling to prevent information leakage\n",
    "# Identified all available listing_ids and split by listing_ids\n",
    "\n",
    "grp_by_listing_ids = df_final.groupby('listing_id').first().reset_index().listing_id\n",
    "listing_ids = list(grp_by_listing_ids)"
   ]
  },
  {
   "cell_type": "code",
   "execution_count": 48,
   "metadata": {
    "ExecuteTime": {
     "end_time": "2019-02-19T10:37:49.541409Z",
     "start_time": "2019-02-19T10:37:49.531754Z"
    }
   },
   "outputs": [
    {
     "name": "stdout",
     "output_type": "stream",
     "text": [
      "5814\n"
     ]
    },
    {
     "data": {
      "text/plain": [
       "array([ 4968468, 15732801,  4896087, ..., 10690241, 13828670, 10676501])"
      ]
     },
     "execution_count": 48,
     "metadata": {},
     "output_type": "execute_result"
    }
   ],
   "source": [
    "num_of_grps = len(grp_by_listing_ids)\n",
    "training_ids = np.random.choice(listing_ids, int(num_of_grps*0.7),\n",
    "                                replace=False)\n",
    "\n",
    "print(len(training_ids))\n",
    "training_ids"
   ]
  },
  {
   "cell_type": "code",
   "execution_count": 49,
   "metadata": {
    "ExecuteTime": {
     "end_time": "2019-02-19T10:37:52.909312Z",
     "start_time": "2019-02-19T10:37:52.897132Z"
    }
   },
   "outputs": [
    {
     "data": {
      "text/plain": [
       "2493"
      ]
     },
     "execution_count": 49,
     "metadata": {},
     "output_type": "execute_result"
    }
   ],
   "source": [
    "testing_ids = set(grp_by_listing_ids) - set (training_ids)\n",
    "\n",
    "len(testing_ids)"
   ]
  },
  {
   "cell_type": "code",
   "execution_count": 50,
   "metadata": {
    "ExecuteTime": {
     "end_time": "2019-02-19T10:37:56.947670Z",
     "start_time": "2019-02-19T10:37:56.268517Z"
    }
   },
   "outputs": [
    {
     "name": "stdout",
     "output_type": "stream",
     "text": [
      "284477 123021 284477 123021\n"
     ]
    }
   ],
   "source": [
    "# Stratified sampling: splited train and test sets. \n",
    "# Dropped 'listing_id' column\n",
    "\n",
    "X_train = X[X['listing_id'].isin(training_ids)].drop('listing_id', axis=1)\n",
    "X_test = X[X['listing_id'].isin(testing_ids)].drop('listing_id', axis=1)\n",
    "\n",
    "y_train = y[y['listing_id'].isin(training_ids)].drop('listing_id', axis=1).values.ravel()\n",
    "y_test = y[y['listing_id'].isin(testing_ids)].drop('listing_id', axis=1).values.ravel()\n",
    "\n",
    "print(len(X_train), len(X_test), len(y_train), len(y_test))"
   ]
  },
  {
   "cell_type": "markdown",
   "metadata": {
    "ExecuteTime": {
     "end_time": "2019-02-18T01:17:48.722476Z",
     "start_time": "2019-02-18T01:17:48.718285Z"
    }
   },
   "source": [
    "### Feature Normalization"
   ]
  },
  {
   "cell_type": "code",
   "execution_count": 51,
   "metadata": {
    "ExecuteTime": {
     "end_time": "2019-02-19T10:38:05.413706Z",
     "start_time": "2019-02-19T10:38:00.877158Z"
    }
   },
   "outputs": [],
   "source": [
    "ss = StandardScaler()\n",
    "X_train_trans = ss.fit_transform(X_train)\n",
    "X_test_trans = ss.transform (X_test)"
   ]
  },
  {
   "cell_type": "markdown",
   "metadata": {},
   "source": [
    "## Linear Regression"
   ]
  },
  {
   "cell_type": "markdown",
   "metadata": {},
   "source": [
    "## Simple Linear Regression"
   ]
  },
  {
   "cell_type": "code",
   "execution_count": 52,
   "metadata": {
    "ExecuteTime": {
     "end_time": "2019-02-19T10:38:30.167003Z",
     "start_time": "2019-02-19T10:38:09.457628Z"
    }
   },
   "outputs": [
    {
     "data": {
      "text/html": [
       "<table class=\"simpletable\">\n",
       "<caption>OLS Regression Results</caption>\n",
       "<tr>\n",
       "  <th>Dep. Variable:</th>            <td>y</td>        <th>  R-squared:         </th> <td>   0.745</td> \n",
       "</tr>\n",
       "<tr>\n",
       "  <th>Model:</th>                   <td>OLS</td>       <th>  Adj. R-squared:    </th> <td>   0.745</td> \n",
       "</tr>\n",
       "<tr>\n",
       "  <th>Method:</th>             <td>Least Squares</td>  <th>  F-statistic:       </th> <td>   2732.</td> \n",
       "</tr>\n",
       "<tr>\n",
       "  <th>Date:</th>             <td>Tue, 19 Feb 2019</td> <th>  Prob (F-statistic):</th>  <td>  0.00</td>  \n",
       "</tr>\n",
       "<tr>\n",
       "  <th>Time:</th>                 <td>02:38:28</td>     <th>  Log-Likelihood:    </th> <td> -54321.</td> \n",
       "</tr>\n",
       "<tr>\n",
       "  <th>No. Observations:</th>      <td>284477</td>      <th>  AIC:               </th> <td>1.093e+05</td>\n",
       "</tr>\n",
       "<tr>\n",
       "  <th>Df Residuals:</th>          <td>284172</td>      <th>  BIC:               </th> <td>1.125e+05</td>\n",
       "</tr>\n",
       "<tr>\n",
       "  <th>Df Model:</th>              <td>   304</td>      <th>                     </th>     <td> </td>    \n",
       "</tr>\n",
       "<tr>\n",
       "  <th>Covariance Type:</th>      <td>nonrobust</td>    <th>                     </th>     <td> </td>    \n",
       "</tr>\n",
       "</table>\n",
       "<table class=\"simpletable\">\n",
       "<tr>\n",
       "    <td></td>       <th>coef</th>     <th>std err</th>      <th>t</th>      <th>P>|t|</th>  <th>[0.025</th>    <th>0.975]</th>  \n",
       "</tr>\n",
       "<tr>\n",
       "  <th>const</th> <td>    4.8240</td> <td>    0.001</td> <td> 8740.451</td> <td> 0.000</td> <td>    4.823</td> <td>    4.825</td>\n",
       "</tr>\n",
       "<tr>\n",
       "  <th>x1</th>    <td>-5.293e+07</td> <td> 1.23e+09</td> <td>   -0.043</td> <td> 0.966</td> <td>-2.46e+09</td> <td> 2.36e+09</td>\n",
       "</tr>\n",
       "<tr>\n",
       "  <th>x2</th>    <td>-6.077e+07</td> <td> 1.41e+09</td> <td>   -0.043</td> <td> 0.966</td> <td>-2.83e+09</td> <td> 2.71e+09</td>\n",
       "</tr>\n",
       "<tr>\n",
       "  <th>x3</th>    <td>-6.002e+07</td> <td> 1.39e+09</td> <td>   -0.043</td> <td> 0.966</td> <td>-2.79e+09</td> <td> 2.67e+09</td>\n",
       "</tr>\n",
       "<tr>\n",
       "  <th>x4</th>    <td>-5.752e+07</td> <td> 1.34e+09</td> <td>   -0.043</td> <td> 0.966</td> <td>-2.68e+09</td> <td> 2.56e+09</td>\n",
       "</tr>\n",
       "<tr>\n",
       "  <th>x5</th>    <td>-6.036e+07</td> <td>  1.4e+09</td> <td>   -0.043</td> <td> 0.966</td> <td>-2.81e+09</td> <td> 2.69e+09</td>\n",
       "</tr>\n",
       "<tr>\n",
       "  <th>x6</th>    <td> -5.11e+07</td> <td> 1.19e+09</td> <td>   -0.043</td> <td> 0.966</td> <td>-2.38e+09</td> <td> 2.28e+09</td>\n",
       "</tr>\n",
       "<tr>\n",
       "  <th>x7</th>    <td>-5.103e+07</td> <td> 1.19e+09</td> <td>   -0.043</td> <td> 0.966</td> <td>-2.37e+09</td> <td> 2.27e+09</td>\n",
       "</tr>\n",
       "<tr>\n",
       "  <th>x8</th>    <td>-5.288e+07</td> <td> 1.23e+09</td> <td>   -0.043</td> <td> 0.966</td> <td>-2.46e+09</td> <td> 2.35e+09</td>\n",
       "</tr>\n",
       "<tr>\n",
       "  <th>x9</th>    <td>-5.228e+07</td> <td> 1.21e+09</td> <td>   -0.043</td> <td> 0.966</td> <td>-2.43e+09</td> <td> 2.33e+09</td>\n",
       "</tr>\n",
       "<tr>\n",
       "  <th>x10</th>   <td>-6.299e+07</td> <td> 1.46e+09</td> <td>   -0.043</td> <td> 0.966</td> <td>-2.93e+09</td> <td> 2.81e+09</td>\n",
       "</tr>\n",
       "<tr>\n",
       "  <th>x11</th>   <td>-6.299e+07</td> <td> 1.46e+09</td> <td>   -0.043</td> <td> 0.966</td> <td>-2.93e+09</td> <td> 2.81e+09</td>\n",
       "</tr>\n",
       "<tr>\n",
       "  <th>x12</th>   <td>-5.998e+07</td> <td> 1.39e+09</td> <td>   -0.043</td> <td> 0.966</td> <td>-2.79e+09</td> <td> 2.67e+09</td>\n",
       "</tr>\n",
       "<tr>\n",
       "  <th>x13</th>   <td> -1.97e+08</td> <td>  6.4e+09</td> <td>   -0.031</td> <td> 0.975</td> <td>-1.27e+10</td> <td> 1.23e+10</td>\n",
       "</tr>\n",
       "<tr>\n",
       "  <th>x14</th>   <td>-1.961e+08</td> <td> 6.37e+09</td> <td>   -0.031</td> <td> 0.975</td> <td>-1.27e+10</td> <td> 1.23e+10</td>\n",
       "</tr>\n",
       "<tr>\n",
       "  <th>x15</th>   <td>-1.957e+08</td> <td> 6.36e+09</td> <td>   -0.031</td> <td> 0.975</td> <td>-1.27e+10</td> <td> 1.23e+10</td>\n",
       "</tr>\n",
       "<tr>\n",
       "  <th>x16</th>   <td>-1.964e+08</td> <td> 6.38e+09</td> <td>   -0.031</td> <td> 0.975</td> <td>-1.27e+10</td> <td> 1.23e+10</td>\n",
       "</tr>\n",
       "<tr>\n",
       "  <th>x17</th>   <td>-1.965e+08</td> <td> 6.38e+09</td> <td>   -0.031</td> <td> 0.975</td> <td>-1.27e+10</td> <td> 1.23e+10</td>\n",
       "</tr>\n",
       "<tr>\n",
       "  <th>x18</th>   <td>-1.947e+08</td> <td> 6.33e+09</td> <td>   -0.031</td> <td> 0.975</td> <td>-1.26e+10</td> <td> 1.22e+10</td>\n",
       "</tr>\n",
       "<tr>\n",
       "  <th>x19</th>   <td>-1.949e+08</td> <td> 6.33e+09</td> <td>   -0.031</td> <td> 0.975</td> <td>-1.26e+10</td> <td> 1.22e+10</td>\n",
       "</tr>\n",
       "<tr>\n",
       "  <th>x20</th>   <td>    0.0132</td> <td>    0.001</td> <td>   17.206</td> <td> 0.000</td> <td>    0.012</td> <td>    0.015</td>\n",
       "</tr>\n",
       "<tr>\n",
       "  <th>x21</th>   <td>    0.0002</td> <td>    0.001</td> <td>    0.168</td> <td> 0.867</td> <td>   -0.002</td> <td>    0.002</td>\n",
       "</tr>\n",
       "<tr>\n",
       "  <th>x22</th>   <td>    0.0295</td> <td>    0.001</td> <td>   34.009</td> <td> 0.000</td> <td>    0.028</td> <td>    0.031</td>\n",
       "</tr>\n",
       "<tr>\n",
       "  <th>x23</th>   <td>    0.1511</td> <td>    0.001</td> <td>  117.007</td> <td> 0.000</td> <td>    0.149</td> <td>    0.154</td>\n",
       "</tr>\n",
       "<tr>\n",
       "  <th>x24</th>   <td>   -0.0120</td> <td>    0.001</td> <td>  -17.376</td> <td> 0.000</td> <td>   -0.013</td> <td>   -0.011</td>\n",
       "</tr>\n",
       "<tr>\n",
       "  <th>x25</th>   <td>    0.1019</td> <td>    0.001</td> <td>   99.188</td> <td> 0.000</td> <td>    0.100</td> <td>    0.104</td>\n",
       "</tr>\n",
       "<tr>\n",
       "  <th>x26</th>   <td>   -0.0186</td> <td>    0.001</td> <td>  -16.641</td> <td> 0.000</td> <td>   -0.021</td> <td>   -0.016</td>\n",
       "</tr>\n",
       "<tr>\n",
       "  <th>x27</th>   <td>   -0.0034</td> <td>    0.001</td> <td>   -5.724</td> <td> 0.000</td> <td>   -0.005</td> <td>   -0.002</td>\n",
       "</tr>\n",
       "<tr>\n",
       "  <th>x28</th>   <td>    0.0431</td> <td>    0.001</td> <td>   54.443</td> <td> 0.000</td> <td>    0.042</td> <td>    0.045</td>\n",
       "</tr>\n",
       "<tr>\n",
       "  <th>x29</th>   <td>    0.0285</td> <td>    0.001</td> <td>   36.631</td> <td> 0.000</td> <td>    0.027</td> <td>    0.030</td>\n",
       "</tr>\n",
       "<tr>\n",
       "  <th>x30</th>   <td>   -0.0243</td> <td>    0.001</td> <td>  -36.191</td> <td> 0.000</td> <td>   -0.026</td> <td>   -0.023</td>\n",
       "</tr>\n",
       "<tr>\n",
       "  <th>x31</th>   <td>   -0.0057</td> <td>    0.001</td> <td>   -5.481</td> <td> 0.000</td> <td>   -0.008</td> <td>   -0.004</td>\n",
       "</tr>\n",
       "<tr>\n",
       "  <th>x32</th>   <td>   -0.0209</td> <td>    0.001</td> <td>  -20.863</td> <td> 0.000</td> <td>   -0.023</td> <td>   -0.019</td>\n",
       "</tr>\n",
       "<tr>\n",
       "  <th>x33</th>   <td>    0.0267</td> <td>    0.001</td> <td>   22.349</td> <td> 0.000</td> <td>    0.024</td> <td>    0.029</td>\n",
       "</tr>\n",
       "<tr>\n",
       "  <th>x34</th>   <td>    0.0075</td> <td>    0.001</td> <td>    7.837</td> <td> 0.000</td> <td>    0.006</td> <td>    0.009</td>\n",
       "</tr>\n",
       "<tr>\n",
       "  <th>x35</th>   <td>    0.0452</td> <td>    0.001</td> <td>   52.171</td> <td> 0.000</td> <td>    0.043</td> <td>    0.047</td>\n",
       "</tr>\n",
       "<tr>\n",
       "  <th>x36</th>   <td>   -0.0008</td> <td>    0.001</td> <td>   -1.049</td> <td> 0.294</td> <td>   -0.002</td> <td>    0.001</td>\n",
       "</tr>\n",
       "<tr>\n",
       "  <th>x37</th>   <td>    0.0048</td> <td>    0.001</td> <td>    5.322</td> <td> 0.000</td> <td>    0.003</td> <td>    0.007</td>\n",
       "</tr>\n",
       "<tr>\n",
       "  <th>x38</th>   <td>    0.0165</td> <td>    0.001</td> <td>   21.250</td> <td> 0.000</td> <td>    0.015</td> <td>    0.018</td>\n",
       "</tr>\n",
       "<tr>\n",
       "  <th>x39</th>   <td>   -0.0370</td> <td>    0.001</td> <td>  -39.709</td> <td> 0.000</td> <td>   -0.039</td> <td>   -0.035</td>\n",
       "</tr>\n",
       "<tr>\n",
       "  <th>x40</th>   <td>   -0.0584</td> <td>    0.001</td> <td>  -65.790</td> <td> 0.000</td> <td>   -0.060</td> <td>   -0.057</td>\n",
       "</tr>\n",
       "<tr>\n",
       "  <th>x41</th>   <td>   -0.0272</td> <td>    0.001</td> <td>  -26.943</td> <td> 0.000</td> <td>   -0.029</td> <td>   -0.025</td>\n",
       "</tr>\n",
       "<tr>\n",
       "  <th>x42</th>   <td> 3.602e+05</td> <td> 9.19e+06</td> <td>    0.039</td> <td> 0.969</td> <td>-1.77e+07</td> <td> 1.84e+07</td>\n",
       "</tr>\n",
       "<tr>\n",
       "  <th>x43</th>   <td> 1.034e+06</td> <td> 2.64e+07</td> <td>    0.039</td> <td> 0.969</td> <td>-5.07e+07</td> <td> 5.28e+07</td>\n",
       "</tr>\n",
       "<tr>\n",
       "  <th>x44</th>   <td> 1.433e+06</td> <td> 3.66e+07</td> <td>    0.039</td> <td> 0.969</td> <td>-7.02e+07</td> <td> 7.31e+07</td>\n",
       "</tr>\n",
       "<tr>\n",
       "  <th>x45</th>   <td> 1.628e+06</td> <td> 4.15e+07</td> <td>    0.039</td> <td> 0.969</td> <td>-7.98e+07</td> <td>  8.3e+07</td>\n",
       "</tr>\n",
       "<tr>\n",
       "  <th>x46</th>   <td>   -0.0366</td> <td>    0.001</td> <td>  -54.647</td> <td> 0.000</td> <td>   -0.038</td> <td>   -0.035</td>\n",
       "</tr>\n",
       "<tr>\n",
       "  <th>x47</th>   <td>    0.0055</td> <td>    0.001</td> <td>    9.500</td> <td> 0.000</td> <td>    0.004</td> <td>    0.007</td>\n",
       "</tr>\n",
       "<tr>\n",
       "  <th>x48</th>   <td>   -0.0074</td> <td>    0.001</td> <td>  -11.311</td> <td> 0.000</td> <td>   -0.009</td> <td>   -0.006</td>\n",
       "</tr>\n",
       "<tr>\n",
       "  <th>x49</th>   <td> 3.435e+05</td> <td> 9.46e+06</td> <td>    0.036</td> <td> 0.971</td> <td>-1.82e+07</td> <td> 1.89e+07</td>\n",
       "</tr>\n",
       "<tr>\n",
       "  <th>x50</th>   <td>-6.567e+04</td> <td> 2.19e+06</td> <td>   -0.030</td> <td> 0.976</td> <td>-4.35e+06</td> <td> 4.22e+06</td>\n",
       "</tr>\n",
       "<tr>\n",
       "  <th>x51</th>   <td>-2.447e+04</td> <td> 8.15e+05</td> <td>   -0.030</td> <td> 0.976</td> <td>-1.62e+06</td> <td> 1.57e+06</td>\n",
       "</tr>\n",
       "<tr>\n",
       "  <th>x52</th>   <td>-2.614e+04</td> <td>  8.7e+05</td> <td>   -0.030</td> <td> 0.976</td> <td>-1.73e+06</td> <td> 1.68e+06</td>\n",
       "</tr>\n",
       "<tr>\n",
       "  <th>x53</th>   <td>-9764.5292</td> <td> 3.25e+05</td> <td>   -0.030</td> <td> 0.976</td> <td>-6.47e+05</td> <td> 6.28e+05</td>\n",
       "</tr>\n",
       "<tr>\n",
       "  <th>x54</th>   <td> 1.383e+06</td> <td> 4.48e+07</td> <td>    0.031</td> <td> 0.975</td> <td>-8.65e+07</td> <td> 8.92e+07</td>\n",
       "</tr>\n",
       "<tr>\n",
       "  <th>x55</th>   <td>-9.014e+04</td> <td>    3e+06</td> <td>   -0.030</td> <td> 0.976</td> <td>-5.97e+06</td> <td> 5.79e+06</td>\n",
       "</tr>\n",
       "<tr>\n",
       "  <th>x56</th>   <td>-1.057e+04</td> <td> 3.52e+05</td> <td>   -0.030</td> <td> 0.976</td> <td>   -7e+05</td> <td> 6.79e+05</td>\n",
       "</tr>\n",
       "<tr>\n",
       "  <th>x57</th>   <td>-1.296e+05</td> <td> 4.32e+06</td> <td>   -0.030</td> <td> 0.976</td> <td>-8.59e+06</td> <td> 8.33e+06</td>\n",
       "</tr>\n",
       "<tr>\n",
       "  <th>x58</th>   <td>-3.728e+04</td> <td> 1.24e+06</td> <td>   -0.030</td> <td> 0.976</td> <td>-2.47e+06</td> <td>  2.4e+06</td>\n",
       "</tr>\n",
       "<tr>\n",
       "  <th>x59</th>   <td>-8.283e+04</td> <td> 2.76e+06</td> <td>   -0.030</td> <td> 0.976</td> <td>-5.49e+06</td> <td> 5.32e+06</td>\n",
       "</tr>\n",
       "<tr>\n",
       "  <th>x60</th>   <td>-3.779e+04</td> <td> 1.26e+06</td> <td>   -0.030</td> <td> 0.976</td> <td> -2.5e+06</td> <td> 2.43e+06</td>\n",
       "</tr>\n",
       "<tr>\n",
       "  <th>x61</th>   <td> 4.118e+04</td> <td> 1.64e+06</td> <td>    0.025</td> <td> 0.980</td> <td>-3.18e+06</td> <td> 3.26e+06</td>\n",
       "</tr>\n",
       "<tr>\n",
       "  <th>x62</th>   <td> -2.31e+04</td> <td> 7.69e+05</td> <td>   -0.030</td> <td> 0.976</td> <td>-1.53e+06</td> <td> 1.48e+06</td>\n",
       "</tr>\n",
       "<tr>\n",
       "  <th>x63</th>   <td>-1.414e+05</td> <td> 4.71e+06</td> <td>   -0.030</td> <td> 0.976</td> <td>-9.37e+06</td> <td> 9.09e+06</td>\n",
       "</tr>\n",
       "<tr>\n",
       "  <th>x64</th>   <td>-3.138e+04</td> <td> 1.05e+06</td> <td>   -0.030</td> <td> 0.976</td> <td>-2.08e+06</td> <td> 2.02e+06</td>\n",
       "</tr>\n",
       "<tr>\n",
       "  <th>x65</th>   <td>-6.452e+04</td> <td> 2.15e+06</td> <td>   -0.030</td> <td> 0.976</td> <td>-4.28e+06</td> <td> 4.15e+06</td>\n",
       "</tr>\n",
       "<tr>\n",
       "  <th>x66</th>   <td>-2.107e+04</td> <td> 7.02e+05</td> <td>   -0.030</td> <td> 0.976</td> <td> -1.4e+06</td> <td> 1.35e+06</td>\n",
       "</tr>\n",
       "<tr>\n",
       "  <th>x67</th>   <td>-4.861e+04</td> <td> 1.62e+06</td> <td>   -0.030</td> <td> 0.976</td> <td>-3.22e+06</td> <td> 3.12e+06</td>\n",
       "</tr>\n",
       "<tr>\n",
       "  <th>x68</th>   <td>-5.722e+04</td> <td> 1.91e+06</td> <td>   -0.030</td> <td> 0.976</td> <td>-3.79e+06</td> <td> 3.68e+06</td>\n",
       "</tr>\n",
       "<tr>\n",
       "  <th>x69</th>   <td>-3.636e+04</td> <td> 1.21e+06</td> <td>   -0.030</td> <td> 0.976</td> <td>-2.41e+06</td> <td> 2.34e+06</td>\n",
       "</tr>\n",
       "<tr>\n",
       "  <th>x70</th>   <td>-6175.8559</td> <td> 2.06e+05</td> <td>   -0.030</td> <td> 0.976</td> <td>-4.09e+05</td> <td> 3.97e+05</td>\n",
       "</tr>\n",
       "<tr>\n",
       "  <th>x71</th>   <td>-5.242e+04</td> <td> 1.75e+06</td> <td>   -0.030</td> <td> 0.976</td> <td>-3.47e+06</td> <td> 3.37e+06</td>\n",
       "</tr>\n",
       "<tr>\n",
       "  <th>x72</th>   <td>-3.617e+04</td> <td>  1.2e+06</td> <td>   -0.030</td> <td> 0.976</td> <td> -2.4e+06</td> <td> 2.32e+06</td>\n",
       "</tr>\n",
       "<tr>\n",
       "  <th>x73</th>   <td> 1.986e+05</td> <td> 7.93e+06</td> <td>    0.025</td> <td> 0.980</td> <td>-1.53e+07</td> <td> 1.57e+07</td>\n",
       "</tr>\n",
       "<tr>\n",
       "  <th>x74</th>   <td> -3.06e+04</td> <td> 1.02e+06</td> <td>   -0.030</td> <td> 0.976</td> <td>-2.03e+06</td> <td> 1.97e+06</td>\n",
       "</tr>\n",
       "<tr>\n",
       "  <th>x75</th>   <td>-2.419e+04</td> <td> 8.06e+05</td> <td>   -0.030</td> <td> 0.976</td> <td> -1.6e+06</td> <td> 1.55e+06</td>\n",
       "</tr>\n",
       "<tr>\n",
       "  <th>x76</th>   <td>-1.494e+04</td> <td> 4.98e+05</td> <td>   -0.030</td> <td> 0.976</td> <td> -9.9e+05</td> <td> 9.61e+05</td>\n",
       "</tr>\n",
       "<tr>\n",
       "  <th>x77</th>   <td>-1.473e+05</td> <td> 4.91e+06</td> <td>   -0.030</td> <td> 0.976</td> <td>-9.76e+06</td> <td> 9.47e+06</td>\n",
       "</tr>\n",
       "<tr>\n",
       "  <th>x78</th>   <td>-2.502e+04</td> <td> 8.33e+05</td> <td>   -0.030</td> <td> 0.976</td> <td>-1.66e+06</td> <td> 1.61e+06</td>\n",
       "</tr>\n",
       "<tr>\n",
       "  <th>x79</th>   <td> -2.28e+04</td> <td> 7.59e+05</td> <td>   -0.030</td> <td> 0.976</td> <td>-1.51e+06</td> <td> 1.47e+06</td>\n",
       "</tr>\n",
       "<tr>\n",
       "  <th>x80</th>   <td>-1.882e+04</td> <td> 6.27e+05</td> <td>   -0.030</td> <td> 0.976</td> <td>-1.25e+06</td> <td> 1.21e+06</td>\n",
       "</tr>\n",
       "<tr>\n",
       "  <th>x81</th>   <td>-4.318e+04</td> <td> 1.44e+06</td> <td>   -0.030</td> <td> 0.976</td> <td>-2.86e+06</td> <td> 2.78e+06</td>\n",
       "</tr>\n",
       "<tr>\n",
       "  <th>x82</th>   <td>-1.107e+04</td> <td> 3.69e+05</td> <td>   -0.030</td> <td> 0.976</td> <td>-7.34e+05</td> <td> 7.12e+05</td>\n",
       "</tr>\n",
       "<tr>\n",
       "  <th>x83</th>   <td>-9.272e+04</td> <td> 3.09e+06</td> <td>   -0.030</td> <td> 0.976</td> <td>-6.14e+06</td> <td> 5.96e+06</td>\n",
       "</tr>\n",
       "<tr>\n",
       "  <th>x84</th>   <td>-1.953e+04</td> <td>  6.5e+05</td> <td>   -0.030</td> <td> 0.976</td> <td>-1.29e+06</td> <td> 1.25e+06</td>\n",
       "</tr>\n",
       "<tr>\n",
       "  <th>x85</th>   <td>-1.903e+04</td> <td> 6.34e+05</td> <td>   -0.030</td> <td> 0.976</td> <td>-1.26e+06</td> <td> 1.22e+06</td>\n",
       "</tr>\n",
       "<tr>\n",
       "  <th>x86</th>   <td>-5.899e+04</td> <td> 1.96e+06</td> <td>   -0.030</td> <td> 0.976</td> <td>-3.91e+06</td> <td> 3.79e+06</td>\n",
       "</tr>\n",
       "<tr>\n",
       "  <th>x87</th>   <td>-6.549e+04</td> <td> 2.18e+06</td> <td>   -0.030</td> <td> 0.976</td> <td>-4.34e+06</td> <td> 4.21e+06</td>\n",
       "</tr>\n",
       "<tr>\n",
       "  <th>x88</th>   <td> 1.569e+06</td> <td> 5.09e+07</td> <td>    0.031</td> <td> 0.975</td> <td>-9.83e+07</td> <td> 1.01e+08</td>\n",
       "</tr>\n",
       "<tr>\n",
       "  <th>x89</th>   <td>-4.069e+04</td> <td> 1.36e+06</td> <td>   -0.030</td> <td> 0.976</td> <td> -2.7e+06</td> <td> 2.62e+06</td>\n",
       "</tr>\n",
       "<tr>\n",
       "  <th>x90</th>   <td> 1.302e+06</td> <td> 4.23e+07</td> <td>    0.031</td> <td> 0.975</td> <td>-8.15e+07</td> <td> 8.41e+07</td>\n",
       "</tr>\n",
       "<tr>\n",
       "  <th>x91</th>   <td>-4.086e+04</td> <td> 1.36e+06</td> <td>   -0.030</td> <td> 0.976</td> <td>-2.71e+06</td> <td> 2.63e+06</td>\n",
       "</tr>\n",
       "<tr>\n",
       "  <th>x92</th>   <td>-7381.4864</td> <td> 2.46e+05</td> <td>   -0.030</td> <td> 0.976</td> <td>-4.89e+05</td> <td> 4.74e+05</td>\n",
       "</tr>\n",
       "<tr>\n",
       "  <th>x93</th>   <td>-2.588e+04</td> <td> 8.62e+05</td> <td>   -0.030</td> <td> 0.976</td> <td>-1.71e+06</td> <td> 1.66e+06</td>\n",
       "</tr>\n",
       "<tr>\n",
       "  <th>x94</th>   <td>-3.108e+04</td> <td> 1.04e+06</td> <td>   -0.030</td> <td> 0.976</td> <td>-2.06e+06</td> <td>    2e+06</td>\n",
       "</tr>\n",
       "<tr>\n",
       "  <th>x95</th>   <td>-5.779e+04</td> <td> 1.92e+06</td> <td>   -0.030</td> <td> 0.976</td> <td>-3.83e+06</td> <td> 3.71e+06</td>\n",
       "</tr>\n",
       "<tr>\n",
       "  <th>x96</th>   <td> -5.67e+04</td> <td> 1.89e+06</td> <td>   -0.030</td> <td> 0.976</td> <td>-3.76e+06</td> <td> 3.64e+06</td>\n",
       "</tr>\n",
       "<tr>\n",
       "  <th>x97</th>   <td>-4.475e+04</td> <td> 1.49e+06</td> <td>   -0.030</td> <td> 0.976</td> <td>-2.97e+06</td> <td> 2.88e+06</td>\n",
       "</tr>\n",
       "<tr>\n",
       "  <th>x98</th>   <td>-1.973e+04</td> <td> 6.57e+05</td> <td>   -0.030</td> <td> 0.976</td> <td>-1.31e+06</td> <td> 1.27e+06</td>\n",
       "</tr>\n",
       "<tr>\n",
       "  <th>x99</th>   <td>-3.464e+04</td> <td> 1.15e+06</td> <td>   -0.030</td> <td> 0.976</td> <td> -2.3e+06</td> <td> 2.23e+06</td>\n",
       "</tr>\n",
       "<tr>\n",
       "  <th>x100</th>  <td>-5.692e+04</td> <td>  1.9e+06</td> <td>   -0.030</td> <td> 0.976</td> <td>-3.77e+06</td> <td> 3.66e+06</td>\n",
       "</tr>\n",
       "<tr>\n",
       "  <th>x101</th>  <td>-1.267e+05</td> <td> 4.22e+06</td> <td>   -0.030</td> <td> 0.976</td> <td> -8.4e+06</td> <td> 8.14e+06</td>\n",
       "</tr>\n",
       "<tr>\n",
       "  <th>x102</th>  <td>-9764.5317</td> <td> 3.25e+05</td> <td>   -0.030</td> <td> 0.976</td> <td>-6.47e+05</td> <td> 6.28e+05</td>\n",
       "</tr>\n",
       "<tr>\n",
       "  <th>x103</th>  <td>-1.331e+04</td> <td> 4.43e+05</td> <td>   -0.030</td> <td> 0.976</td> <td>-8.82e+05</td> <td> 8.55e+05</td>\n",
       "</tr>\n",
       "<tr>\n",
       "  <th>x104</th>  <td>-5.064e+05</td> <td> 1.64e+07</td> <td>   -0.031</td> <td> 0.975</td> <td>-3.27e+07</td> <td> 3.17e+07</td>\n",
       "</tr>\n",
       "<tr>\n",
       "  <th>x105</th>  <td>-1.513e+04</td> <td> 5.04e+05</td> <td>   -0.030</td> <td> 0.976</td> <td>   -1e+06</td> <td> 9.72e+05</td>\n",
       "</tr>\n",
       "<tr>\n",
       "  <th>x106</th>  <td> -1.07e+04</td> <td> 3.56e+05</td> <td>   -0.030</td> <td> 0.976</td> <td>-7.09e+05</td> <td> 6.87e+05</td>\n",
       "</tr>\n",
       "<tr>\n",
       "  <th>x107</th>  <td>-8252.6780</td> <td> 2.75e+05</td> <td>   -0.030</td> <td> 0.976</td> <td>-5.47e+05</td> <td>  5.3e+05</td>\n",
       "</tr>\n",
       "<tr>\n",
       "  <th>x108</th>  <td>-4.797e+04</td> <td>  1.6e+06</td> <td>   -0.030</td> <td> 0.976</td> <td>-3.18e+06</td> <td> 3.08e+06</td>\n",
       "</tr>\n",
       "<tr>\n",
       "  <th>x109</th>  <td>-1.205e+05</td> <td> 4.01e+06</td> <td>   -0.030</td> <td> 0.976</td> <td>-7.99e+06</td> <td> 7.74e+06</td>\n",
       "</tr>\n",
       "<tr>\n",
       "  <th>x110</th>  <td>-8.869e+04</td> <td> 2.95e+06</td> <td>   -0.030</td> <td> 0.976</td> <td>-5.88e+06</td> <td>  5.7e+06</td>\n",
       "</tr>\n",
       "<tr>\n",
       "  <th>x111</th>  <td>-3.372e+04</td> <td> 1.12e+06</td> <td>   -0.030</td> <td> 0.976</td> <td>-2.23e+06</td> <td> 2.17e+06</td>\n",
       "</tr>\n",
       "<tr>\n",
       "  <th>x112</th>  <td>-1.777e+04</td> <td> 5.92e+05</td> <td>   -0.030</td> <td> 0.976</td> <td>-1.18e+06</td> <td> 1.14e+06</td>\n",
       "</tr>\n",
       "<tr>\n",
       "  <th>x113</th>  <td>-1.754e+04</td> <td> 5.84e+05</td> <td>   -0.030</td> <td> 0.976</td> <td>-1.16e+06</td> <td> 1.13e+06</td>\n",
       "</tr>\n",
       "<tr>\n",
       "  <th>x114</th>  <td>-9.527e+04</td> <td> 3.17e+06</td> <td>   -0.030</td> <td> 0.976</td> <td>-6.31e+06</td> <td> 6.12e+06</td>\n",
       "</tr>\n",
       "<tr>\n",
       "  <th>x115</th>  <td>-2.391e+04</td> <td> 7.96e+05</td> <td>   -0.030</td> <td> 0.976</td> <td>-1.58e+06</td> <td> 1.54e+06</td>\n",
       "</tr>\n",
       "<tr>\n",
       "  <th>x116</th>  <td>-1.478e+06</td> <td>  4.8e+07</td> <td>   -0.031</td> <td> 0.975</td> <td>-9.55e+07</td> <td> 9.26e+07</td>\n",
       "</tr>\n",
       "<tr>\n",
       "  <th>x117</th>  <td> 2.972e+05</td> <td> 9.65e+06</td> <td>    0.031</td> <td> 0.975</td> <td>-1.86e+07</td> <td> 1.92e+07</td>\n",
       "</tr>\n",
       "<tr>\n",
       "  <th>x118</th>  <td>-1.667e+04</td> <td> 5.55e+05</td> <td>   -0.030</td> <td> 0.976</td> <td> -1.1e+06</td> <td> 1.07e+06</td>\n",
       "</tr>\n",
       "<tr>\n",
       "  <th>x119</th>  <td>-4.553e+04</td> <td> 1.52e+06</td> <td>   -0.030</td> <td> 0.976</td> <td>-3.02e+06</td> <td> 2.93e+06</td>\n",
       "</tr>\n",
       "<tr>\n",
       "  <th>x120</th>  <td> 2.402e+04</td> <td>  7.7e+05</td> <td>    0.031</td> <td> 0.975</td> <td>-1.48e+06</td> <td> 1.53e+06</td>\n",
       "</tr>\n",
       "<tr>\n",
       "  <th>x121</th>  <td>-6.897e+04</td> <td>  2.3e+06</td> <td>   -0.030</td> <td> 0.976</td> <td>-4.57e+06</td> <td> 4.43e+06</td>\n",
       "</tr>\n",
       "<tr>\n",
       "  <th>x122</th>  <td> 2.814e+04</td> <td> 1.12e+06</td> <td>    0.025</td> <td> 0.980</td> <td>-2.17e+06</td> <td> 2.23e+06</td>\n",
       "</tr>\n",
       "<tr>\n",
       "  <th>x123</th>  <td>-3.051e+04</td> <td> 1.02e+06</td> <td>   -0.030</td> <td> 0.976</td> <td>-2.02e+06</td> <td> 1.96e+06</td>\n",
       "</tr>\n",
       "<tr>\n",
       "  <th>x124</th>  <td>-9.434e+04</td> <td> 3.14e+06</td> <td>   -0.030</td> <td> 0.976</td> <td>-6.25e+06</td> <td> 6.06e+06</td>\n",
       "</tr>\n",
       "<tr>\n",
       "  <th>x125</th>  <td>-3.388e+04</td> <td> 1.13e+06</td> <td>   -0.030</td> <td> 0.976</td> <td>-2.25e+06</td> <td> 2.18e+06</td>\n",
       "</tr>\n",
       "<tr>\n",
       "  <th>x126</th>  <td>-3.684e+04</td> <td> 1.23e+06</td> <td>   -0.030</td> <td> 0.976</td> <td>-2.44e+06</td> <td> 2.37e+06</td>\n",
       "</tr>\n",
       "<tr>\n",
       "  <th>x127</th>  <td>-7563.7590</td> <td> 2.52e+05</td> <td>   -0.030</td> <td> 0.976</td> <td>-5.01e+05</td> <td> 4.86e+05</td>\n",
       "</tr>\n",
       "<tr>\n",
       "  <th>x128</th>  <td> -2.65e+04</td> <td> 8.83e+05</td> <td>   -0.030</td> <td> 0.976</td> <td>-1.76e+06</td> <td>  1.7e+06</td>\n",
       "</tr>\n",
       "<tr>\n",
       "  <th>x129</th>  <td>-5.384e+04</td> <td> 1.79e+06</td> <td>   -0.030</td> <td> 0.976</td> <td>-3.57e+06</td> <td> 3.46e+06</td>\n",
       "</tr>\n",
       "<tr>\n",
       "  <th>x130</th>  <td>-1.731e+04</td> <td> 5.76e+05</td> <td>   -0.030</td> <td> 0.976</td> <td>-1.15e+06</td> <td> 1.11e+06</td>\n",
       "</tr>\n",
       "<tr>\n",
       "  <th>x131</th>  <td>-4.583e+04</td> <td> 1.53e+06</td> <td>   -0.030</td> <td> 0.976</td> <td>-3.04e+06</td> <td> 2.95e+06</td>\n",
       "</tr>\n",
       "<tr>\n",
       "  <th>x132</th>  <td>-1.806e+05</td> <td> 6.01e+06</td> <td>   -0.030</td> <td> 0.976</td> <td> -1.2e+07</td> <td> 1.16e+07</td>\n",
       "</tr>\n",
       "<tr>\n",
       "  <th>x133</th>  <td>-5.713e+04</td> <td>  1.9e+06</td> <td>   -0.030</td> <td> 0.976</td> <td>-3.79e+06</td> <td> 3.67e+06</td>\n",
       "</tr>\n",
       "<tr>\n",
       "  <th>x134</th>  <td>-3301.1919</td> <td>  1.1e+05</td> <td>   -0.030</td> <td> 0.976</td> <td>-2.19e+05</td> <td> 2.12e+05</td>\n",
       "</tr>\n",
       "<tr>\n",
       "  <th>x135</th>  <td>-2.551e+04</td> <td> 8.49e+05</td> <td>   -0.030</td> <td> 0.976</td> <td>-1.69e+06</td> <td> 1.64e+06</td>\n",
       "</tr>\n",
       "<tr>\n",
       "  <th>x136</th>  <td>  7.45e+05</td> <td> 2.42e+07</td> <td>    0.031</td> <td> 0.975</td> <td>-4.67e+07</td> <td> 4.81e+07</td>\n",
       "</tr>\n",
       "<tr>\n",
       "  <th>x137</th>  <td>-1.699e+04</td> <td> 5.66e+05</td> <td>   -0.030</td> <td> 0.976</td> <td>-1.13e+06</td> <td> 1.09e+06</td>\n",
       "</tr>\n",
       "<tr>\n",
       "  <th>x138</th>  <td>-1.119e+05</td> <td> 3.73e+06</td> <td>   -0.030</td> <td> 0.976</td> <td>-7.42e+06</td> <td> 7.19e+06</td>\n",
       "</tr>\n",
       "<tr>\n",
       "  <th>x139</th>  <td>-1.263e+05</td> <td> 4.21e+06</td> <td>   -0.030</td> <td> 0.976</td> <td>-8.37e+06</td> <td> 8.12e+06</td>\n",
       "</tr>\n",
       "<tr>\n",
       "  <th>x140</th>  <td>-9.017e+04</td> <td>    3e+06</td> <td>   -0.030</td> <td> 0.976</td> <td>-5.98e+06</td> <td>  5.8e+06</td>\n",
       "</tr>\n",
       "<tr>\n",
       "  <th>x141</th>  <td>-1.953e+04</td> <td>  6.5e+05</td> <td>   -0.030</td> <td> 0.976</td> <td>-1.29e+06</td> <td> 1.25e+06</td>\n",
       "</tr>\n",
       "<tr>\n",
       "  <th>x142</th>  <td>-4.454e+04</td> <td> 1.48e+06</td> <td>   -0.030</td> <td> 0.976</td> <td>-2.95e+06</td> <td> 2.86e+06</td>\n",
       "</tr>\n",
       "<tr>\n",
       "  <th>x143</th>  <td>-9764.5271</td> <td> 3.25e+05</td> <td>   -0.030</td> <td> 0.976</td> <td>-6.47e+05</td> <td> 6.28e+05</td>\n",
       "</tr>\n",
       "<tr>\n",
       "  <th>x144</th>  <td>-4.802e+04</td> <td>  1.6e+06</td> <td>   -0.030</td> <td> 0.976</td> <td>-3.18e+06</td> <td> 3.09e+06</td>\n",
       "</tr>\n",
       "<tr>\n",
       "  <th>x145</th>  <td>-5.354e+04</td> <td> 1.78e+06</td> <td>   -0.030</td> <td> 0.976</td> <td>-3.55e+06</td> <td> 3.44e+06</td>\n",
       "</tr>\n",
       "<tr>\n",
       "  <th>x146</th>  <td> -7.23e+04</td> <td> 2.41e+06</td> <td>   -0.030</td> <td> 0.976</td> <td>-4.79e+06</td> <td> 4.65e+06</td>\n",
       "</tr>\n",
       "<tr>\n",
       "  <th>x147</th>  <td>-2.711e+04</td> <td> 9.03e+05</td> <td>   -0.030</td> <td> 0.976</td> <td> -1.8e+06</td> <td> 1.74e+06</td>\n",
       "</tr>\n",
       "<tr>\n",
       "  <th>x148</th>  <td>-1.048e+05</td> <td> 3.49e+06</td> <td>   -0.030</td> <td> 0.976</td> <td>-6.95e+06</td> <td> 6.74e+06</td>\n",
       "</tr>\n",
       "<tr>\n",
       "  <th>x149</th>  <td>-9.749e+04</td> <td> 3.25e+06</td> <td>   -0.030</td> <td> 0.976</td> <td>-6.46e+06</td> <td> 6.27e+06</td>\n",
       "</tr>\n",
       "<tr>\n",
       "  <th>x150</th>  <td> -1.33e+05</td> <td> 4.43e+06</td> <td>   -0.030</td> <td> 0.976</td> <td>-8.82e+06</td> <td> 8.55e+06</td>\n",
       "</tr>\n",
       "<tr>\n",
       "  <th>x151</th>  <td> -7.97e+04</td> <td> 2.65e+06</td> <td>   -0.030</td> <td> 0.976</td> <td>-5.28e+06</td> <td> 5.12e+06</td>\n",
       "</tr>\n",
       "<tr>\n",
       "  <th>x152</th>  <td> 2.999e+05</td> <td>  1.2e+07</td> <td>    0.025</td> <td> 0.980</td> <td>-2.32e+07</td> <td> 2.38e+07</td>\n",
       "</tr>\n",
       "<tr>\n",
       "  <th>x153</th>  <td>-2.609e+04</td> <td> 8.69e+05</td> <td>   -0.030</td> <td> 0.976</td> <td>-1.73e+06</td> <td> 1.68e+06</td>\n",
       "</tr>\n",
       "<tr>\n",
       "  <th>x154</th>  <td>-4.012e+04</td> <td> 1.34e+06</td> <td>   -0.030</td> <td> 0.976</td> <td>-2.66e+06</td> <td> 2.58e+06</td>\n",
       "</tr>\n",
       "<tr>\n",
       "  <th>x155</th>  <td>-8.207e+04</td> <td> 2.73e+06</td> <td>   -0.030</td> <td> 0.976</td> <td>-5.44e+06</td> <td> 5.27e+06</td>\n",
       "</tr>\n",
       "<tr>\n",
       "  <th>x156</th>  <td>-2.486e+04</td> <td> 8.28e+05</td> <td>   -0.030</td> <td> 0.976</td> <td>-1.65e+06</td> <td>  1.6e+06</td>\n",
       "</tr>\n",
       "<tr>\n",
       "  <th>x157</th>  <td>-9481.4736</td> <td> 3.16e+05</td> <td>   -0.030</td> <td> 0.976</td> <td>-6.28e+05</td> <td> 6.09e+05</td>\n",
       "</tr>\n",
       "<tr>\n",
       "  <th>x158</th>  <td>-9189.6935</td> <td> 3.06e+05</td> <td>   -0.030</td> <td> 0.976</td> <td>-6.09e+05</td> <td> 5.91e+05</td>\n",
       "</tr>\n",
       "<tr>\n",
       "  <th>x159</th>  <td>-5.933e+04</td> <td> 1.98e+06</td> <td>   -0.030</td> <td> 0.976</td> <td>-3.93e+06</td> <td> 3.81e+06</td>\n",
       "</tr>\n",
       "<tr>\n",
       "  <th>x160</th>  <td>-3.572e+04</td> <td> 1.19e+06</td> <td>   -0.030</td> <td> 0.976</td> <td>-2.37e+06</td> <td>  2.3e+06</td>\n",
       "</tr>\n",
       "<tr>\n",
       "  <th>x161</th>  <td>-2.928e+04</td> <td> 9.75e+05</td> <td>   -0.030</td> <td> 0.976</td> <td>-1.94e+06</td> <td> 1.88e+06</td>\n",
       "</tr>\n",
       "<tr>\n",
       "  <th>x162</th>  <td>-1.033e+05</td> <td> 3.44e+06</td> <td>   -0.030</td> <td> 0.976</td> <td>-6.85e+06</td> <td> 6.64e+06</td>\n",
       "</tr>\n",
       "<tr>\n",
       "  <th>x163</th>  <td>-6.852e+04</td> <td> 2.28e+06</td> <td>   -0.030</td> <td> 0.976</td> <td>-4.54e+06</td> <td>  4.4e+06</td>\n",
       "</tr>\n",
       "<tr>\n",
       "  <th>x164</th>  <td>-1.381e+04</td> <td>  4.6e+05</td> <td>   -0.030</td> <td> 0.976</td> <td>-9.15e+05</td> <td> 8.87e+05</td>\n",
       "</tr>\n",
       "<tr>\n",
       "  <th>x165</th>  <td> -3.38e+04</td> <td> 1.13e+06</td> <td>   -0.030</td> <td> 0.976</td> <td>-2.24e+06</td> <td> 2.17e+06</td>\n",
       "</tr>\n",
       "<tr>\n",
       "  <th>x166</th>  <td>-2.756e+04</td> <td> 9.18e+05</td> <td>   -0.030</td> <td> 0.976</td> <td>-1.83e+06</td> <td> 1.77e+06</td>\n",
       "</tr>\n",
       "<tr>\n",
       "  <th>x167</th>  <td>-3.583e+04</td> <td> 1.19e+06</td> <td>   -0.030</td> <td> 0.976</td> <td>-2.37e+06</td> <td>  2.3e+06</td>\n",
       "</tr>\n",
       "<tr>\n",
       "  <th>x168</th>  <td>-2.195e+04</td> <td> 7.31e+05</td> <td>   -0.030</td> <td> 0.976</td> <td>-1.45e+06</td> <td> 1.41e+06</td>\n",
       "</tr>\n",
       "<tr>\n",
       "  <th>x169</th>  <td>-5.523e+04</td> <td> 1.84e+06</td> <td>   -0.030</td> <td> 0.976</td> <td>-3.66e+06</td> <td> 3.55e+06</td>\n",
       "</tr>\n",
       "<tr>\n",
       "  <th>x170</th>  <td>-3.775e+04</td> <td> 1.26e+06</td> <td>   -0.030</td> <td> 0.976</td> <td> -2.5e+06</td> <td> 2.43e+06</td>\n",
       "</tr>\n",
       "<tr>\n",
       "  <th>x171</th>  <td>-5.498e+04</td> <td> 1.83e+06</td> <td>   -0.030</td> <td> 0.976</td> <td>-3.64e+06</td> <td> 3.53e+06</td>\n",
       "</tr>\n",
       "<tr>\n",
       "  <th>x172</th>  <td>-7.454e+04</td> <td> 2.48e+06</td> <td>   -0.030</td> <td> 0.976</td> <td>-4.94e+06</td> <td> 4.79e+06</td>\n",
       "</tr>\n",
       "<tr>\n",
       "  <th>x173</th>  <td>-1.917e+04</td> <td> 6.39e+05</td> <td>   -0.030</td> <td> 0.976</td> <td>-1.27e+06</td> <td> 1.23e+06</td>\n",
       "</tr>\n",
       "<tr>\n",
       "  <th>x174</th>  <td> 4.826e+05</td> <td> 1.93e+07</td> <td>    0.025</td> <td> 0.980</td> <td>-3.73e+07</td> <td> 3.82e+07</td>\n",
       "</tr>\n",
       "<tr>\n",
       "  <th>x175</th>  <td>-1.467e+04</td> <td> 4.89e+05</td> <td>   -0.030</td> <td> 0.976</td> <td>-9.72e+05</td> <td> 9.43e+05</td>\n",
       "</tr>\n",
       "<tr>\n",
       "  <th>x176</th>  <td>  2.67e+05</td> <td> 1.07e+07</td> <td>    0.025</td> <td> 0.980</td> <td>-2.06e+07</td> <td> 2.12e+07</td>\n",
       "</tr>\n",
       "<tr>\n",
       "  <th>x177</th>  <td>-5.997e+04</td> <td>    2e+06</td> <td>   -0.030</td> <td> 0.976</td> <td>-3.97e+06</td> <td> 3.85e+06</td>\n",
       "</tr>\n",
       "<tr>\n",
       "  <th>x178</th>  <td>-8252.6790</td> <td> 2.75e+05</td> <td>   -0.030</td> <td> 0.976</td> <td>-5.47e+05</td> <td>  5.3e+05</td>\n",
       "</tr>\n",
       "<tr>\n",
       "  <th>x179</th>  <td>-1.566e+04</td> <td> 5.21e+05</td> <td>   -0.030</td> <td> 0.976</td> <td>-1.04e+06</td> <td> 1.01e+06</td>\n",
       "</tr>\n",
       "<tr>\n",
       "  <th>x180</th>  <td>-2.867e+04</td> <td> 9.55e+05</td> <td>   -0.030</td> <td> 0.976</td> <td> -1.9e+06</td> <td> 1.84e+06</td>\n",
       "</tr>\n",
       "<tr>\n",
       "  <th>x181</th>  <td> -4.82e+05</td> <td> 1.56e+07</td> <td>   -0.031</td> <td> 0.975</td> <td>-3.12e+07</td> <td> 3.02e+07</td>\n",
       "</tr>\n",
       "<tr>\n",
       "  <th>x182</th>  <td>-3.215e+04</td> <td> 1.07e+06</td> <td>   -0.030</td> <td> 0.976</td> <td>-2.13e+06</td> <td> 2.07e+06</td>\n",
       "</tr>\n",
       "<tr>\n",
       "  <th>x183</th>  <td>-6.093e+04</td> <td> 2.03e+06</td> <td>   -0.030</td> <td> 0.976</td> <td>-4.04e+06</td> <td> 3.92e+06</td>\n",
       "</tr>\n",
       "<tr>\n",
       "  <th>x184</th>  <td>-1.634e+04</td> <td> 5.44e+05</td> <td>   -0.030</td> <td> 0.976</td> <td>-1.08e+06</td> <td> 1.05e+06</td>\n",
       "</tr>\n",
       "<tr>\n",
       "  <th>x185</th>  <td>-2.814e+04</td> <td> 9.37e+05</td> <td>   -0.030</td> <td> 0.976</td> <td>-1.87e+06</td> <td> 1.81e+06</td>\n",
       "</tr>\n",
       "<tr>\n",
       "  <th>x186</th>  <td>-2.721e+04</td> <td> 9.06e+05</td> <td>   -0.030</td> <td> 0.976</td> <td> -1.8e+06</td> <td> 1.75e+06</td>\n",
       "</tr>\n",
       "<tr>\n",
       "  <th>x187</th>  <td>-2.458e+04</td> <td> 8.19e+05</td> <td>   -0.030</td> <td> 0.976</td> <td>-1.63e+06</td> <td> 1.58e+06</td>\n",
       "</tr>\n",
       "<tr>\n",
       "  <th>x188</th>  <td>-2.164e+04</td> <td> 7.21e+05</td> <td>   -0.030</td> <td> 0.976</td> <td>-1.43e+06</td> <td> 1.39e+06</td>\n",
       "</tr>\n",
       "<tr>\n",
       "  <th>x189</th>  <td>-1.527e+05</td> <td> 5.09e+06</td> <td>   -0.030</td> <td> 0.976</td> <td>-1.01e+07</td> <td> 9.82e+06</td>\n",
       "</tr>\n",
       "<tr>\n",
       "  <th>x190</th>  <td> 2.794e+05</td> <td> 1.12e+07</td> <td>    0.025</td> <td> 0.980</td> <td>-2.16e+07</td> <td> 2.21e+07</td>\n",
       "</tr>\n",
       "<tr>\n",
       "  <th>x191</th>  <td>-5.718e+04</td> <td>  1.9e+06</td> <td>   -0.030</td> <td> 0.976</td> <td>-3.79e+06</td> <td> 3.67e+06</td>\n",
       "</tr>\n",
       "<tr>\n",
       "  <th>x192</th>  <td>-1.179e+04</td> <td> 3.93e+05</td> <td>   -0.030</td> <td> 0.976</td> <td>-7.81e+05</td> <td> 7.58e+05</td>\n",
       "</tr>\n",
       "<tr>\n",
       "  <th>x193</th>  <td>-3.782e+04</td> <td> 1.26e+06</td> <td>   -0.030</td> <td> 0.976</td> <td>-2.51e+06</td> <td> 2.43e+06</td>\n",
       "</tr>\n",
       "<tr>\n",
       "  <th>x194</th>  <td>-2.464e+04</td> <td> 8.21e+05</td> <td>   -0.030</td> <td> 0.976</td> <td>-1.63e+06</td> <td> 1.58e+06</td>\n",
       "</tr>\n",
       "<tr>\n",
       "  <th>x195</th>  <td>-6.567e+04</td> <td> 2.19e+06</td> <td>   -0.030</td> <td> 0.976</td> <td>-4.35e+06</td> <td> 4.22e+06</td>\n",
       "</tr>\n",
       "<tr>\n",
       "  <th>x196</th>  <td> 4.504e+04</td> <td>  1.8e+06</td> <td>    0.025</td> <td> 0.980</td> <td>-3.48e+06</td> <td> 3.57e+06</td>\n",
       "</tr>\n",
       "<tr>\n",
       "  <th>x197</th>  <td>-3.821e+04</td> <td> 1.27e+06</td> <td>   -0.030</td> <td> 0.976</td> <td>-2.53e+06</td> <td> 2.46e+06</td>\n",
       "</tr>\n",
       "<tr>\n",
       "  <th>x198</th>  <td>-3.706e+04</td> <td> 1.23e+06</td> <td>   -0.030</td> <td> 0.976</td> <td>-2.46e+06</td> <td> 2.38e+06</td>\n",
       "</tr>\n",
       "<tr>\n",
       "  <th>x199</th>  <td>-1.994e+04</td> <td> 6.64e+05</td> <td>   -0.030</td> <td> 0.976</td> <td>-1.32e+06</td> <td> 1.28e+06</td>\n",
       "</tr>\n",
       "<tr>\n",
       "  <th>x200</th>  <td>-6.095e+04</td> <td> 2.03e+06</td> <td>   -0.030</td> <td> 0.976</td> <td>-4.04e+06</td> <td> 3.92e+06</td>\n",
       "</tr>\n",
       "<tr>\n",
       "  <th>x201</th>  <td>-5.979e+04</td> <td> 1.99e+06</td> <td>   -0.030</td> <td> 0.976</td> <td>-3.96e+06</td> <td> 3.84e+06</td>\n",
       "</tr>\n",
       "<tr>\n",
       "  <th>x202</th>  <td>-2.158e+04</td> <td> 7.19e+05</td> <td>   -0.030</td> <td> 0.976</td> <td>-1.43e+06</td> <td> 1.39e+06</td>\n",
       "</tr>\n",
       "<tr>\n",
       "  <th>x203</th>  <td>-1.179e+04</td> <td> 3.93e+05</td> <td>   -0.030</td> <td> 0.976</td> <td>-7.81e+05</td> <td> 7.58e+05</td>\n",
       "</tr>\n",
       "<tr>\n",
       "  <th>x204</th>  <td>-8.508e+04</td> <td> 2.83e+06</td> <td>   -0.030</td> <td> 0.976</td> <td>-5.64e+06</td> <td> 5.47e+06</td>\n",
       "</tr>\n",
       "<tr>\n",
       "  <th>x205</th>  <td> -1.58e+05</td> <td> 5.26e+06</td> <td>   -0.030</td> <td> 0.976</td> <td>-1.05e+07</td> <td> 1.02e+07</td>\n",
       "</tr>\n",
       "<tr>\n",
       "  <th>x206</th>  <td>-1.513e+04</td> <td> 5.04e+05</td> <td>   -0.030</td> <td> 0.976</td> <td>   -1e+06</td> <td> 9.72e+05</td>\n",
       "</tr>\n",
       "<tr>\n",
       "  <th>x207</th>  <td>-1.793e+04</td> <td> 5.97e+05</td> <td>   -0.030</td> <td> 0.976</td> <td>-1.19e+06</td> <td> 1.15e+06</td>\n",
       "</tr>\n",
       "<tr>\n",
       "  <th>x208</th>  <td> 1.532e+04</td> <td> 3.19e+05</td> <td>    0.048</td> <td> 0.962</td> <td> -6.1e+05</td> <td>  6.4e+05</td>\n",
       "</tr>\n",
       "<tr>\n",
       "  <th>x209</th>  <td> 5.926e+04</td> <td> 1.23e+06</td> <td>    0.048</td> <td> 0.962</td> <td>-2.36e+06</td> <td> 2.48e+06</td>\n",
       "</tr>\n",
       "<tr>\n",
       "  <th>x210</th>  <td>  448.5080</td> <td> 1.46e+04</td> <td>    0.031</td> <td> 0.975</td> <td>-2.81e+04</td> <td>  2.9e+04</td>\n",
       "</tr>\n",
       "<tr>\n",
       "  <th>x211</th>  <td>    0.0014</td> <td>    0.001</td> <td>    2.473</td> <td> 0.013</td> <td>    0.000</td> <td>    0.002</td>\n",
       "</tr>\n",
       "<tr>\n",
       "  <th>x212</th>  <td>   -0.0005</td> <td>    0.001</td> <td>   -0.821</td> <td> 0.412</td> <td>   -0.002</td> <td>    0.001</td>\n",
       "</tr>\n",
       "<tr>\n",
       "  <th>x213</th>  <td> 4.682e+04</td> <td> 9.74e+05</td> <td>    0.048</td> <td> 0.962</td> <td>-1.86e+06</td> <td> 1.96e+06</td>\n",
       "</tr>\n",
       "<tr>\n",
       "  <th>x214</th>  <td> 1.813e+04</td> <td> 3.77e+05</td> <td>    0.048</td> <td> 0.962</td> <td>-7.21e+05</td> <td> 7.58e+05</td>\n",
       "</tr>\n",
       "<tr>\n",
       "  <th>x215</th>  <td>    0.0043</td> <td>    0.001</td> <td>    7.141</td> <td> 0.000</td> <td>    0.003</td> <td>    0.005</td>\n",
       "</tr>\n",
       "<tr>\n",
       "  <th>x216</th>  <td> 1.791e+04</td> <td> 3.73e+05</td> <td>    0.048</td> <td> 0.962</td> <td>-7.13e+05</td> <td> 7.49e+05</td>\n",
       "</tr>\n",
       "<tr>\n",
       "  <th>x217</th>  <td> 3.968e+05</td> <td> 8.26e+06</td> <td>    0.048</td> <td> 0.962</td> <td>-1.58e+07</td> <td> 1.66e+07</td>\n",
       "</tr>\n",
       "<tr>\n",
       "  <th>x218</th>  <td> 2.455e+04</td> <td> 5.11e+05</td> <td>    0.048</td> <td> 0.962</td> <td>-9.77e+05</td> <td> 1.03e+06</td>\n",
       "</tr>\n",
       "<tr>\n",
       "  <th>x219</th>  <td>   -4.6458</td> <td>  150.828</td> <td>   -0.031</td> <td> 0.975</td> <td> -300.265</td> <td>  290.973</td>\n",
       "</tr>\n",
       "<tr>\n",
       "  <th>x220</th>  <td> 5.261e+05</td> <td> 1.09e+07</td> <td>    0.048</td> <td> 0.962</td> <td>-2.09e+07</td> <td>  2.2e+07</td>\n",
       "</tr>\n",
       "<tr>\n",
       "  <th>x221</th>  <td> 1.297e+04</td> <td>  2.7e+05</td> <td>    0.048</td> <td> 0.962</td> <td>-5.16e+05</td> <td> 5.42e+05</td>\n",
       "</tr>\n",
       "<tr>\n",
       "  <th>x222</th>  <td>   -0.0005</td> <td>    0.001</td> <td>   -0.953</td> <td> 0.341</td> <td>   -0.002</td> <td>    0.001</td>\n",
       "</tr>\n",
       "<tr>\n",
       "  <th>x223</th>  <td>   -0.0077</td> <td>    0.001</td> <td>  -13.700</td> <td> 0.000</td> <td>   -0.009</td> <td>   -0.007</td>\n",
       "</tr>\n",
       "<tr>\n",
       "  <th>x224</th>  <td>    0.0016</td> <td>    0.001</td> <td>    2.888</td> <td> 0.004</td> <td>    0.001</td> <td>    0.003</td>\n",
       "</tr>\n",
       "<tr>\n",
       "  <th>x225</th>  <td>    0.0002</td> <td>    0.001</td> <td>    0.347</td> <td> 0.729</td> <td>   -0.001</td> <td>    0.001</td>\n",
       "</tr>\n",
       "<tr>\n",
       "  <th>x226</th>  <td>    0.0010</td> <td>    0.001</td> <td>    1.758</td> <td> 0.079</td> <td>   -0.000</td> <td>    0.002</td>\n",
       "</tr>\n",
       "<tr>\n",
       "  <th>x227</th>  <td>-1481.8738</td> <td> 2.85e+04</td> <td>   -0.052</td> <td> 0.959</td> <td>-5.74e+04</td> <td> 5.44e+04</td>\n",
       "</tr>\n",
       "<tr>\n",
       "  <th>x228</th>  <td>-2.635e+04</td> <td> 5.07e+05</td> <td>   -0.052</td> <td> 0.959</td> <td>-1.02e+06</td> <td> 9.68e+05</td>\n",
       "</tr>\n",
       "<tr>\n",
       "  <th>x229</th>  <td> -964.5268</td> <td> 1.86e+04</td> <td>   -0.052</td> <td> 0.959</td> <td>-3.74e+04</td> <td> 3.54e+04</td>\n",
       "</tr>\n",
       "<tr>\n",
       "  <th>x230</th>  <td>-3926.7432</td> <td> 7.56e+04</td> <td>   -0.052</td> <td> 0.959</td> <td>-1.52e+05</td> <td> 1.44e+05</td>\n",
       "</tr>\n",
       "<tr>\n",
       "  <th>x231</th>  <td>-1693.3983</td> <td> 3.26e+04</td> <td>   -0.052</td> <td> 0.959</td> <td>-6.56e+04</td> <td> 6.22e+04</td>\n",
       "</tr>\n",
       "<tr>\n",
       "  <th>x232</th>  <td>-4364.1097</td> <td>  8.4e+04</td> <td>   -0.052</td> <td> 0.959</td> <td>-1.69e+05</td> <td>  1.6e+05</td>\n",
       "</tr>\n",
       "<tr>\n",
       "  <th>x233</th>  <td>-6208.9062</td> <td>  1.2e+05</td> <td>   -0.052</td> <td> 0.959</td> <td> -2.4e+05</td> <td> 2.28e+05</td>\n",
       "</tr>\n",
       "<tr>\n",
       "  <th>x234</th>  <td>   -3.0771</td> <td>   99.898</td> <td>   -0.031</td> <td> 0.975</td> <td> -198.874</td> <td>  192.720</td>\n",
       "</tr>\n",
       "<tr>\n",
       "  <th>x235</th>  <td>-1796.0330</td> <td> 3.46e+04</td> <td>   -0.052</td> <td> 0.959</td> <td>-6.96e+04</td> <td>  6.6e+04</td>\n",
       "</tr>\n",
       "<tr>\n",
       "  <th>x236</th>  <td>-2327.5075</td> <td> 4.48e+04</td> <td>   -0.052</td> <td> 0.959</td> <td>-9.02e+04</td> <td> 8.55e+04</td>\n",
       "</tr>\n",
       "<tr>\n",
       "  <th>x237</th>  <td>    2.9272</td> <td>   95.034</td> <td>    0.031</td> <td> 0.975</td> <td> -183.337</td> <td>  189.191</td>\n",
       "</tr>\n",
       "<tr>\n",
       "  <th>x238</th>  <td>-1100.1825</td> <td> 2.12e+04</td> <td>   -0.052</td> <td> 0.959</td> <td>-4.26e+04</td> <td> 4.04e+04</td>\n",
       "</tr>\n",
       "<tr>\n",
       "  <th>x239</th>  <td>-1.296e+04</td> <td> 2.49e+05</td> <td>   -0.052</td> <td> 0.959</td> <td>-5.02e+05</td> <td> 4.76e+05</td>\n",
       "</tr>\n",
       "<tr>\n",
       "  <th>x240</th>  <td>-3431.2422</td> <td> 6.61e+04</td> <td>   -0.052</td> <td> 0.959</td> <td>-1.33e+05</td> <td> 1.26e+05</td>\n",
       "</tr>\n",
       "<tr>\n",
       "  <th>x241</th>  <td>-1.466e+04</td> <td> 2.82e+05</td> <td>   -0.052</td> <td> 0.959</td> <td>-5.68e+05</td> <td> 5.39e+05</td>\n",
       "</tr>\n",
       "<tr>\n",
       "  <th>x242</th>  <td>-9761.4227</td> <td> 1.88e+05</td> <td>   -0.052</td> <td> 0.959</td> <td>-3.78e+05</td> <td> 3.59e+05</td>\n",
       "</tr>\n",
       "<tr>\n",
       "  <th>x243</th>  <td>-3527.1812</td> <td> 6.79e+04</td> <td>   -0.052</td> <td> 0.959</td> <td>-1.37e+05</td> <td>  1.3e+05</td>\n",
       "</tr>\n",
       "<tr>\n",
       "  <th>x244</th>  <td>-2932.3148</td> <td> 5.65e+04</td> <td>   -0.052</td> <td> 0.959</td> <td>-1.14e+05</td> <td> 1.08e+05</td>\n",
       "</tr>\n",
       "<tr>\n",
       "  <th>x245</th>  <td>-2.778e+04</td> <td> 5.35e+05</td> <td>   -0.052</td> <td> 0.959</td> <td>-1.08e+06</td> <td> 1.02e+06</td>\n",
       "</tr>\n",
       "<tr>\n",
       "  <th>x246</th>  <td> -644.0399</td> <td> 1.24e+04</td> <td>   -0.052</td> <td> 0.959</td> <td>-2.49e+04</td> <td> 2.37e+04</td>\n",
       "</tr>\n",
       "<tr>\n",
       "  <th>x247</th>  <td>-1.236e-13</td> <td> 4.01e-12</td> <td>   -0.031</td> <td> 0.975</td> <td>-7.99e-12</td> <td> 7.74e-12</td>\n",
       "</tr>\n",
       "<tr>\n",
       "  <th>x248</th>  <td>-6096.8659</td> <td> 1.17e+05</td> <td>   -0.052</td> <td> 0.959</td> <td>-2.36e+05</td> <td> 2.24e+05</td>\n",
       "</tr>\n",
       "<tr>\n",
       "  <th>x249</th>  <td>-3424.7438</td> <td> 6.59e+04</td> <td>   -0.052</td> <td> 0.959</td> <td>-1.33e+05</td> <td> 1.26e+05</td>\n",
       "</tr>\n",
       "<tr>\n",
       "  <th>x250</th>  <td>-2398.4089</td> <td> 4.62e+04</td> <td>   -0.052</td> <td> 0.959</td> <td>-9.29e+04</td> <td> 8.81e+04</td>\n",
       "</tr>\n",
       "<tr>\n",
       "  <th>x251</th>  <td>-7055.8455</td> <td> 1.36e+05</td> <td>   -0.052</td> <td> 0.959</td> <td>-2.73e+05</td> <td> 2.59e+05</td>\n",
       "</tr>\n",
       "<tr>\n",
       "  <th>x252</th>  <td>-1580.5940</td> <td> 3.04e+04</td> <td>   -0.052</td> <td> 0.959</td> <td>-6.12e+04</td> <td> 5.81e+04</td>\n",
       "</tr>\n",
       "<tr>\n",
       "  <th>x253</th>  <td> -1.02e+04</td> <td> 1.96e+05</td> <td>   -0.052</td> <td> 0.959</td> <td>-3.95e+05</td> <td> 3.75e+05</td>\n",
       "</tr>\n",
       "<tr>\n",
       "  <th>x254</th>  <td> -669.6349</td> <td> 1.29e+04</td> <td>   -0.052</td> <td> 0.959</td> <td>-2.59e+04</td> <td> 2.46e+04</td>\n",
       "</tr>\n",
       "<tr>\n",
       "  <th>x255</th>  <td>-3180.3154</td> <td> 6.12e+04</td> <td>   -0.052</td> <td> 0.959</td> <td>-1.23e+05</td> <td> 1.17e+05</td>\n",
       "</tr>\n",
       "<tr>\n",
       "  <th>x256</th>  <td> -970.3182</td> <td> 1.87e+04</td> <td>   -0.052</td> <td> 0.959</td> <td>-3.76e+04</td> <td> 3.56e+04</td>\n",
       "</tr>\n",
       "<tr>\n",
       "  <th>x257</th>  <td>    0.1891</td> <td>    0.001</td> <td>  202.853</td> <td> 0.000</td> <td>    0.187</td> <td>    0.191</td>\n",
       "</tr>\n",
       "<tr>\n",
       "  <th>x258</th>  <td>   -0.0581</td> <td>    0.001</td> <td>  -90.608</td> <td> 0.000</td> <td>   -0.059</td> <td>   -0.057</td>\n",
       "</tr>\n",
       "<tr>\n",
       "  <th>x259</th>  <td> 1112.2591</td> <td> 1.81e+05</td> <td>    0.006</td> <td> 0.995</td> <td>-3.53e+05</td> <td> 3.56e+05</td>\n",
       "</tr>\n",
       "<tr>\n",
       "  <th>x260</th>  <td>  686.1208</td> <td> 1.12e+05</td> <td>    0.006</td> <td> 0.995</td> <td>-2.18e+05</td> <td> 2.19e+05</td>\n",
       "</tr>\n",
       "<tr>\n",
       "  <th>x261</th>  <td> 1945.0373</td> <td> 3.16e+05</td> <td>    0.006</td> <td> 0.995</td> <td>-6.18e+05</td> <td> 6.22e+05</td>\n",
       "</tr>\n",
       "<tr>\n",
       "  <th>x262</th>  <td> 1534.9926</td> <td>  2.5e+05</td> <td>    0.006</td> <td> 0.995</td> <td>-4.88e+05</td> <td> 4.91e+05</td>\n",
       "</tr>\n",
       "<tr>\n",
       "  <th>x263</th>  <td> 2786.2047</td> <td> 4.53e+05</td> <td>    0.006</td> <td> 0.995</td> <td>-8.85e+05</td> <td> 8.91e+05</td>\n",
       "</tr>\n",
       "<tr>\n",
       "  <th>x264</th>  <td>   -0.0095</td> <td>    0.001</td> <td>   -9.521</td> <td> 0.000</td> <td>   -0.012</td> <td>   -0.008</td>\n",
       "</tr>\n",
       "<tr>\n",
       "  <th>x265</th>  <td>    0.0056</td> <td>    0.001</td> <td>    8.598</td> <td> 0.000</td> <td>    0.004</td> <td>    0.007</td>\n",
       "</tr>\n",
       "<tr>\n",
       "  <th>x266</th>  <td> 1.332e-16</td> <td> 4.27e-15</td> <td>    0.031</td> <td> 0.975</td> <td>-8.24e-15</td> <td>  8.5e-15</td>\n",
       "</tr>\n",
       "<tr>\n",
       "  <th>x267</th>  <td>-7.251e+04</td> <td> 1.62e+06</td> <td>   -0.045</td> <td> 0.964</td> <td>-3.25e+06</td> <td> 3.11e+06</td>\n",
       "</tr>\n",
       "<tr>\n",
       "  <th>x268</th>  <td>-9.294e+04</td> <td> 2.08e+06</td> <td>   -0.045</td> <td> 0.964</td> <td>-4.17e+06</td> <td> 3.98e+06</td>\n",
       "</tr>\n",
       "<tr>\n",
       "  <th>x269</th>  <td>-4580.1420</td> <td> 1.03e+05</td> <td>   -0.045</td> <td> 0.964</td> <td>-2.05e+05</td> <td> 1.96e+05</td>\n",
       "</tr>\n",
       "<tr>\n",
       "  <th>x270</th>  <td>-9.384e+04</td> <td>  2.1e+06</td> <td>   -0.045</td> <td> 0.964</td> <td>-4.21e+06</td> <td> 4.02e+06</td>\n",
       "</tr>\n",
       "<tr>\n",
       "  <th>x271</th>  <td>-1.951e+04</td> <td> 4.37e+05</td> <td>   -0.045</td> <td> 0.964</td> <td>-8.75e+05</td> <td> 8.36e+05</td>\n",
       "</tr>\n",
       "<tr>\n",
       "  <th>x272</th>  <td>-2785.3616</td> <td> 6.23e+04</td> <td>   -0.045</td> <td> 0.964</td> <td>-1.25e+05</td> <td> 1.19e+05</td>\n",
       "</tr>\n",
       "<tr>\n",
       "  <th>x273</th>  <td>   -0.0254</td> <td>    0.001</td> <td>  -27.021</td> <td> 0.000</td> <td>   -0.027</td> <td>   -0.024</td>\n",
       "</tr>\n",
       "<tr>\n",
       "  <th>x274</th>  <td>    0.0161</td> <td>    0.001</td> <td>   17.121</td> <td> 0.000</td> <td>    0.014</td> <td>    0.018</td>\n",
       "</tr>\n",
       "<tr>\n",
       "  <th>x275</th>  <td>-5.251e+05</td> <td> 3.03e+07</td> <td>   -0.017</td> <td> 0.986</td> <td>-5.99e+07</td> <td> 5.89e+07</td>\n",
       "</tr>\n",
       "<tr>\n",
       "  <th>x276</th>  <td>   -0.0110</td> <td>    0.001</td> <td>  -16.062</td> <td> 0.000</td> <td>   -0.012</td> <td>   -0.010</td>\n",
       "</tr>\n",
       "<tr>\n",
       "  <th>x277</th>  <td>    0.0299</td> <td>    0.001</td> <td>   40.800</td> <td> 0.000</td> <td>    0.028</td> <td>    0.031</td>\n",
       "</tr>\n",
       "<tr>\n",
       "  <th>x278</th>  <td>    0.0022</td> <td>    0.001</td> <td>    3.012</td> <td> 0.003</td> <td>    0.001</td> <td>    0.004</td>\n",
       "</tr>\n",
       "<tr>\n",
       "  <th>x279</th>  <td>   -0.0036</td> <td>    0.001</td> <td>   -5.697</td> <td> 0.000</td> <td>   -0.005</td> <td>   -0.002</td>\n",
       "</tr>\n",
       "<tr>\n",
       "  <th>x280</th>  <td>    0.0166</td> <td>    0.001</td> <td>   14.775</td> <td> 0.000</td> <td>    0.014</td> <td>    0.019</td>\n",
       "</tr>\n",
       "<tr>\n",
       "  <th>x281</th>  <td>    0.0095</td> <td>    0.001</td> <td>   15.998</td> <td> 0.000</td> <td>    0.008</td> <td>    0.011</td>\n",
       "</tr>\n",
       "<tr>\n",
       "  <th>x282</th>  <td>    0.0059</td> <td>    0.001</td> <td>    8.627</td> <td> 0.000</td> <td>    0.005</td> <td>    0.007</td>\n",
       "</tr>\n",
       "<tr>\n",
       "  <th>x283</th>  <td>    0.0004</td> <td>    0.001</td> <td>    0.505</td> <td> 0.614</td> <td>   -0.001</td> <td>    0.002</td>\n",
       "</tr>\n",
       "<tr>\n",
       "  <th>x284</th>  <td>    0.0267</td> <td>    0.001</td> <td>   21.983</td> <td> 0.000</td> <td>    0.024</td> <td>    0.029</td>\n",
       "</tr>\n",
       "<tr>\n",
       "  <th>x285</th>  <td>   -0.0046</td> <td>    0.001</td> <td>   -3.140</td> <td> 0.002</td> <td>   -0.007</td> <td>   -0.002</td>\n",
       "</tr>\n",
       "<tr>\n",
       "  <th>x286</th>  <td>   -0.0046</td> <td>    0.002</td> <td>   -2.830</td> <td> 0.005</td> <td>   -0.008</td> <td>   -0.001</td>\n",
       "</tr>\n",
       "<tr>\n",
       "  <th>x287</th>  <td>    0.0283</td> <td>    0.001</td> <td>   29.119</td> <td> 0.000</td> <td>    0.026</td> <td>    0.030</td>\n",
       "</tr>\n",
       "<tr>\n",
       "  <th>x288</th>  <td>   -0.0043</td> <td>    0.001</td> <td>   -6.581</td> <td> 0.000</td> <td>   -0.006</td> <td>   -0.003</td>\n",
       "</tr>\n",
       "<tr>\n",
       "  <th>x289</th>  <td>    0.0460</td> <td>    0.001</td> <td>   58.985</td> <td> 0.000</td> <td>    0.044</td> <td>    0.048</td>\n",
       "</tr>\n",
       "<tr>\n",
       "  <th>x290</th>  <td>   -0.0051</td> <td>    0.001</td> <td>   -7.670</td> <td> 0.000</td> <td>   -0.006</td> <td>   -0.004</td>\n",
       "</tr>\n",
       "<tr>\n",
       "  <th>x291</th>  <td>   -0.0154</td> <td>    0.001</td> <td>  -14.671</td> <td> 0.000</td> <td>   -0.017</td> <td>   -0.013</td>\n",
       "</tr>\n",
       "<tr>\n",
       "  <th>x292</th>  <td>    0.0028</td> <td>    0.001</td> <td>    3.934</td> <td> 0.000</td> <td>    0.001</td> <td>    0.004</td>\n",
       "</tr>\n",
       "<tr>\n",
       "  <th>x293</th>  <td>   -0.0047</td> <td>    0.001</td> <td>   -6.862</td> <td> 0.000</td> <td>   -0.006</td> <td>   -0.003</td>\n",
       "</tr>\n",
       "<tr>\n",
       "  <th>x294</th>  <td>    0.0015</td> <td>    0.001</td> <td>    2.079</td> <td> 0.038</td> <td> 8.32e-05</td> <td>    0.003</td>\n",
       "</tr>\n",
       "<tr>\n",
       "  <th>x295</th>  <td>    0.0137</td> <td>    0.001</td> <td>   18.461</td> <td> 0.000</td> <td>    0.012</td> <td>    0.015</td>\n",
       "</tr>\n",
       "<tr>\n",
       "  <th>x296</th>  <td>    0.0124</td> <td>    0.001</td> <td>   16.055</td> <td> 0.000</td> <td>    0.011</td> <td>    0.014</td>\n",
       "</tr>\n",
       "<tr>\n",
       "  <th>x297</th>  <td>    0.0018</td> <td>    0.001</td> <td>    2.176</td> <td> 0.030</td> <td>    0.000</td> <td>    0.003</td>\n",
       "</tr>\n",
       "<tr>\n",
       "  <th>x298</th>  <td>    0.0185</td> <td>    0.001</td> <td>   23.281</td> <td> 0.000</td> <td>    0.017</td> <td>    0.020</td>\n",
       "</tr>\n",
       "<tr>\n",
       "  <th>x299</th>  <td>   -0.0138</td> <td>    0.001</td> <td>  -17.166</td> <td> 0.000</td> <td>   -0.015</td> <td>   -0.012</td>\n",
       "</tr>\n",
       "<tr>\n",
       "  <th>x300</th>  <td>   -0.0031</td> <td>    0.001</td> <td>   -5.128</td> <td> 0.000</td> <td>   -0.004</td> <td>   -0.002</td>\n",
       "</tr>\n",
       "<tr>\n",
       "  <th>x301</th>  <td>   -0.0082</td> <td>    0.001</td> <td>  -11.947</td> <td> 0.000</td> <td>   -0.010</td> <td>   -0.007</td>\n",
       "</tr>\n",
       "<tr>\n",
       "  <th>x302</th>  <td>   -0.0139</td> <td>    0.001</td> <td>  -16.094</td> <td> 0.000</td> <td>   -0.016</td> <td>   -0.012</td>\n",
       "</tr>\n",
       "<tr>\n",
       "  <th>x303</th>  <td>    0.0147</td> <td>    0.001</td> <td>   23.793</td> <td> 0.000</td> <td>    0.014</td> <td>    0.016</td>\n",
       "</tr>\n",
       "<tr>\n",
       "  <th>x304</th>  <td>    0.0158</td> <td>    0.001</td> <td>   21.683</td> <td> 0.000</td> <td>    0.014</td> <td>    0.017</td>\n",
       "</tr>\n",
       "<tr>\n",
       "  <th>x305</th>  <td>   -0.0084</td> <td>    0.001</td> <td>  -10.414</td> <td> 0.000</td> <td>   -0.010</td> <td>   -0.007</td>\n",
       "</tr>\n",
       "<tr>\n",
       "  <th>x306</th>  <td>   -0.0101</td> <td>    0.001</td> <td>  -11.335</td> <td> 0.000</td> <td>   -0.012</td> <td>   -0.008</td>\n",
       "</tr>\n",
       "<tr>\n",
       "  <th>x307</th>  <td>   -0.0096</td> <td>    0.001</td> <td>  -13.822</td> <td> 0.000</td> <td>   -0.011</td> <td>   -0.008</td>\n",
       "</tr>\n",
       "<tr>\n",
       "  <th>x308</th>  <td>    0.0078</td> <td>    0.001</td> <td>   10.774</td> <td> 0.000</td> <td>    0.006</td> <td>    0.009</td>\n",
       "</tr>\n",
       "<tr>\n",
       "  <th>x309</th>  <td>   -0.0093</td> <td>    0.001</td> <td>  -13.264</td> <td> 0.000</td> <td>   -0.011</td> <td>   -0.008</td>\n",
       "</tr>\n",
       "<tr>\n",
       "  <th>x310</th>  <td>   -0.0106</td> <td>    0.001</td> <td>  -11.452</td> <td> 0.000</td> <td>   -0.012</td> <td>   -0.009</td>\n",
       "</tr>\n",
       "<tr>\n",
       "  <th>x311</th>  <td>   -0.0159</td> <td>    0.001</td> <td>  -21.337</td> <td> 0.000</td> <td>   -0.017</td> <td>   -0.014</td>\n",
       "</tr>\n",
       "<tr>\n",
       "  <th>x312</th>  <td>    0.0153</td> <td>    0.001</td> <td>   20.522</td> <td> 0.000</td> <td>    0.014</td> <td>    0.017</td>\n",
       "</tr>\n",
       "<tr>\n",
       "  <th>x313</th>  <td>   -0.0312</td> <td>    0.001</td> <td>  -22.947</td> <td> 0.000</td> <td>   -0.034</td> <td>   -0.029</td>\n",
       "</tr>\n",
       "<tr>\n",
       "  <th>x314</th>  <td>   -0.0070</td> <td>    0.001</td> <td>   -5.292</td> <td> 0.000</td> <td>   -0.010</td> <td>   -0.004</td>\n",
       "</tr>\n",
       "<tr>\n",
       "  <th>x315</th>  <td>    0.0035</td> <td>    0.001</td> <td>    4.575</td> <td> 0.000</td> <td>    0.002</td> <td>    0.005</td>\n",
       "</tr>\n",
       "<tr>\n",
       "  <th>x316</th>  <td>   -0.0050</td> <td>    0.001</td> <td>   -8.337</td> <td> 0.000</td> <td>   -0.006</td> <td>   -0.004</td>\n",
       "</tr>\n",
       "<tr>\n",
       "  <th>x317</th>  <td>    0.0060</td> <td>    0.001</td> <td>    9.723</td> <td> 0.000</td> <td>    0.005</td> <td>    0.007</td>\n",
       "</tr>\n",
       "<tr>\n",
       "  <th>x318</th>  <td>    0.0125</td> <td>    0.001</td> <td>   18.786</td> <td> 0.000</td> <td>    0.011</td> <td>    0.014</td>\n",
       "</tr>\n",
       "<tr>\n",
       "  <th>x319</th>  <td>    0.0185</td> <td>    0.001</td> <td>   30.423</td> <td> 0.000</td> <td>    0.017</td> <td>    0.020</td>\n",
       "</tr>\n",
       "<tr>\n",
       "  <th>x320</th>  <td>    0.0239</td> <td>    0.001</td> <td>   37.024</td> <td> 0.000</td> <td>    0.023</td> <td>    0.025</td>\n",
       "</tr>\n",
       "<tr>\n",
       "  <th>x321</th>  <td>    0.0104</td> <td>    0.001</td> <td>    9.340</td> <td> 0.000</td> <td>    0.008</td> <td>    0.013</td>\n",
       "</tr>\n",
       "<tr>\n",
       "  <th>x322</th>  <td>    0.0356</td> <td>    0.001</td> <td>   51.321</td> <td> 0.000</td> <td>    0.034</td> <td>    0.037</td>\n",
       "</tr>\n",
       "<tr>\n",
       "  <th>x323</th>  <td>   -0.0056</td> <td>    0.001</td> <td>   -8.087</td> <td> 0.000</td> <td>   -0.007</td> <td>   -0.004</td>\n",
       "</tr>\n",
       "<tr>\n",
       "  <th>x324</th>  <td>   -0.0006</td> <td>    0.001</td> <td>   -0.823</td> <td> 0.410</td> <td>   -0.002</td> <td>    0.001</td>\n",
       "</tr>\n",
       "<tr>\n",
       "  <th>x325</th>  <td>   -0.0093</td> <td>    0.001</td> <td>  -13.921</td> <td> 0.000</td> <td>   -0.011</td> <td>   -0.008</td>\n",
       "</tr>\n",
       "<tr>\n",
       "  <th>x326</th>  <td>    0.0187</td> <td>    0.001</td> <td>   27.000</td> <td> 0.000</td> <td>    0.017</td> <td>    0.020</td>\n",
       "</tr>\n",
       "<tr>\n",
       "  <th>x327</th>  <td>   -0.0186</td> <td>    0.001</td> <td>  -31.789</td> <td> 0.000</td> <td>   -0.020</td> <td>   -0.017</td>\n",
       "</tr>\n",
       "<tr>\n",
       "  <th>x328</th>  <td>   -0.0151</td> <td>    0.001</td> <td>  -15.077</td> <td> 0.000</td> <td>   -0.017</td> <td>   -0.013</td>\n",
       "</tr>\n",
       "<tr>\n",
       "  <th>x329</th>  <td>   -0.0079</td> <td>    0.001</td> <td>   -8.431</td> <td> 0.000</td> <td>   -0.010</td> <td>   -0.006</td>\n",
       "</tr>\n",
       "</table>\n",
       "<table class=\"simpletable\">\n",
       "<tr>\n",
       "  <th>Omnibus:</th>       <td>12400.250</td> <th>  Durbin-Watson:     </th> <td>   0.084</td> \n",
       "</tr>\n",
       "<tr>\n",
       "  <th>Prob(Omnibus):</th>  <td> 0.000</td>   <th>  Jarque-Bera (JB):  </th> <td>24215.879</td>\n",
       "</tr>\n",
       "<tr>\n",
       "  <th>Skew:</th>           <td> 0.327</td>   <th>  Prob(JB):          </th> <td>    0.00</td> \n",
       "</tr>\n",
       "<tr>\n",
       "  <th>Kurtosis:</th>       <td> 4.271</td>   <th>  Cond. No.          </th> <td>4.18e+16</td> \n",
       "</tr>\n",
       "</table><br/><br/>Warnings:<br/>[1] Standard Errors assume that the covariance matrix of the errors is correctly specified.<br/>[2] The smallest eigenvalue is 1.71e-27. This might indicate that there are<br/>strong multicollinearity problems or that the design matrix is singular."
      ],
      "text/plain": [
       "<class 'statsmodels.iolib.summary.Summary'>\n",
       "\"\"\"\n",
       "                            OLS Regression Results                            \n",
       "==============================================================================\n",
       "Dep. Variable:                      y   R-squared:                       0.745\n",
       "Model:                            OLS   Adj. R-squared:                  0.745\n",
       "Method:                 Least Squares   F-statistic:                     2732.\n",
       "Date:                Tue, 19 Feb 2019   Prob (F-statistic):               0.00\n",
       "Time:                        02:38:28   Log-Likelihood:                -54321.\n",
       "No. Observations:              284477   AIC:                         1.093e+05\n",
       "Df Residuals:                  284172   BIC:                         1.125e+05\n",
       "Df Model:                         304                                         \n",
       "Covariance Type:            nonrobust                                         \n",
       "==============================================================================\n",
       "                 coef    std err          t      P>|t|      [0.025      0.975]\n",
       "------------------------------------------------------------------------------\n",
       "const          4.8240      0.001   8740.451      0.000       4.823       4.825\n",
       "x1         -5.293e+07   1.23e+09     -0.043      0.966   -2.46e+09    2.36e+09\n",
       "x2         -6.077e+07   1.41e+09     -0.043      0.966   -2.83e+09    2.71e+09\n",
       "x3         -6.002e+07   1.39e+09     -0.043      0.966   -2.79e+09    2.67e+09\n",
       "x4         -5.752e+07   1.34e+09     -0.043      0.966   -2.68e+09    2.56e+09\n",
       "x5         -6.036e+07    1.4e+09     -0.043      0.966   -2.81e+09    2.69e+09\n",
       "x6          -5.11e+07   1.19e+09     -0.043      0.966   -2.38e+09    2.28e+09\n",
       "x7         -5.103e+07   1.19e+09     -0.043      0.966   -2.37e+09    2.27e+09\n",
       "x8         -5.288e+07   1.23e+09     -0.043      0.966   -2.46e+09    2.35e+09\n",
       "x9         -5.228e+07   1.21e+09     -0.043      0.966   -2.43e+09    2.33e+09\n",
       "x10        -6.299e+07   1.46e+09     -0.043      0.966   -2.93e+09    2.81e+09\n",
       "x11        -6.299e+07   1.46e+09     -0.043      0.966   -2.93e+09    2.81e+09\n",
       "x12        -5.998e+07   1.39e+09     -0.043      0.966   -2.79e+09    2.67e+09\n",
       "x13         -1.97e+08    6.4e+09     -0.031      0.975   -1.27e+10    1.23e+10\n",
       "x14        -1.961e+08   6.37e+09     -0.031      0.975   -1.27e+10    1.23e+10\n",
       "x15        -1.957e+08   6.36e+09     -0.031      0.975   -1.27e+10    1.23e+10\n",
       "x16        -1.964e+08   6.38e+09     -0.031      0.975   -1.27e+10    1.23e+10\n",
       "x17        -1.965e+08   6.38e+09     -0.031      0.975   -1.27e+10    1.23e+10\n",
       "x18        -1.947e+08   6.33e+09     -0.031      0.975   -1.26e+10    1.22e+10\n",
       "x19        -1.949e+08   6.33e+09     -0.031      0.975   -1.26e+10    1.22e+10\n",
       "x20            0.0132      0.001     17.206      0.000       0.012       0.015\n",
       "x21            0.0002      0.001      0.168      0.867      -0.002       0.002\n",
       "x22            0.0295      0.001     34.009      0.000       0.028       0.031\n",
       "x23            0.1511      0.001    117.007      0.000       0.149       0.154\n",
       "x24           -0.0120      0.001    -17.376      0.000      -0.013      -0.011\n",
       "x25            0.1019      0.001     99.188      0.000       0.100       0.104\n",
       "x26           -0.0186      0.001    -16.641      0.000      -0.021      -0.016\n",
       "x27           -0.0034      0.001     -5.724      0.000      -0.005      -0.002\n",
       "x28            0.0431      0.001     54.443      0.000       0.042       0.045\n",
       "x29            0.0285      0.001     36.631      0.000       0.027       0.030\n",
       "x30           -0.0243      0.001    -36.191      0.000      -0.026      -0.023\n",
       "x31           -0.0057      0.001     -5.481      0.000      -0.008      -0.004\n",
       "x32           -0.0209      0.001    -20.863      0.000      -0.023      -0.019\n",
       "x33            0.0267      0.001     22.349      0.000       0.024       0.029\n",
       "x34            0.0075      0.001      7.837      0.000       0.006       0.009\n",
       "x35            0.0452      0.001     52.171      0.000       0.043       0.047\n",
       "x36           -0.0008      0.001     -1.049      0.294      -0.002       0.001\n",
       "x37            0.0048      0.001      5.322      0.000       0.003       0.007\n",
       "x38            0.0165      0.001     21.250      0.000       0.015       0.018\n",
       "x39           -0.0370      0.001    -39.709      0.000      -0.039      -0.035\n",
       "x40           -0.0584      0.001    -65.790      0.000      -0.060      -0.057\n",
       "x41           -0.0272      0.001    -26.943      0.000      -0.029      -0.025\n",
       "x42         3.602e+05   9.19e+06      0.039      0.969   -1.77e+07    1.84e+07\n",
       "x43         1.034e+06   2.64e+07      0.039      0.969   -5.07e+07    5.28e+07\n",
       "x44         1.433e+06   3.66e+07      0.039      0.969   -7.02e+07    7.31e+07\n",
       "x45         1.628e+06   4.15e+07      0.039      0.969   -7.98e+07     8.3e+07\n",
       "x46           -0.0366      0.001    -54.647      0.000      -0.038      -0.035\n",
       "x47            0.0055      0.001      9.500      0.000       0.004       0.007\n",
       "x48           -0.0074      0.001    -11.311      0.000      -0.009      -0.006\n",
       "x49         3.435e+05   9.46e+06      0.036      0.971   -1.82e+07    1.89e+07\n",
       "x50        -6.567e+04   2.19e+06     -0.030      0.976   -4.35e+06    4.22e+06\n",
       "x51        -2.447e+04   8.15e+05     -0.030      0.976   -1.62e+06    1.57e+06\n",
       "x52        -2.614e+04    8.7e+05     -0.030      0.976   -1.73e+06    1.68e+06\n",
       "x53        -9764.5292   3.25e+05     -0.030      0.976   -6.47e+05    6.28e+05\n",
       "x54         1.383e+06   4.48e+07      0.031      0.975   -8.65e+07    8.92e+07\n",
       "x55        -9.014e+04      3e+06     -0.030      0.976   -5.97e+06    5.79e+06\n",
       "x56        -1.057e+04   3.52e+05     -0.030      0.976      -7e+05    6.79e+05\n",
       "x57        -1.296e+05   4.32e+06     -0.030      0.976   -8.59e+06    8.33e+06\n",
       "x58        -3.728e+04   1.24e+06     -0.030      0.976   -2.47e+06     2.4e+06\n",
       "x59        -8.283e+04   2.76e+06     -0.030      0.976   -5.49e+06    5.32e+06\n",
       "x60        -3.779e+04   1.26e+06     -0.030      0.976    -2.5e+06    2.43e+06\n",
       "x61         4.118e+04   1.64e+06      0.025      0.980   -3.18e+06    3.26e+06\n",
       "x62         -2.31e+04   7.69e+05     -0.030      0.976   -1.53e+06    1.48e+06\n",
       "x63        -1.414e+05   4.71e+06     -0.030      0.976   -9.37e+06    9.09e+06\n",
       "x64        -3.138e+04   1.05e+06     -0.030      0.976   -2.08e+06    2.02e+06\n",
       "x65        -6.452e+04   2.15e+06     -0.030      0.976   -4.28e+06    4.15e+06\n",
       "x66        -2.107e+04   7.02e+05     -0.030      0.976    -1.4e+06    1.35e+06\n",
       "x67        -4.861e+04   1.62e+06     -0.030      0.976   -3.22e+06    3.12e+06\n",
       "x68        -5.722e+04   1.91e+06     -0.030      0.976   -3.79e+06    3.68e+06\n",
       "x69        -3.636e+04   1.21e+06     -0.030      0.976   -2.41e+06    2.34e+06\n",
       "x70        -6175.8559   2.06e+05     -0.030      0.976   -4.09e+05    3.97e+05\n",
       "x71        -5.242e+04   1.75e+06     -0.030      0.976   -3.47e+06    3.37e+06\n",
       "x72        -3.617e+04    1.2e+06     -0.030      0.976    -2.4e+06    2.32e+06\n",
       "x73         1.986e+05   7.93e+06      0.025      0.980   -1.53e+07    1.57e+07\n",
       "x74         -3.06e+04   1.02e+06     -0.030      0.976   -2.03e+06    1.97e+06\n",
       "x75        -2.419e+04   8.06e+05     -0.030      0.976    -1.6e+06    1.55e+06\n",
       "x76        -1.494e+04   4.98e+05     -0.030      0.976    -9.9e+05    9.61e+05\n",
       "x77        -1.473e+05   4.91e+06     -0.030      0.976   -9.76e+06    9.47e+06\n",
       "x78        -2.502e+04   8.33e+05     -0.030      0.976   -1.66e+06    1.61e+06\n",
       "x79         -2.28e+04   7.59e+05     -0.030      0.976   -1.51e+06    1.47e+06\n",
       "x80        -1.882e+04   6.27e+05     -0.030      0.976   -1.25e+06    1.21e+06\n",
       "x81        -4.318e+04   1.44e+06     -0.030      0.976   -2.86e+06    2.78e+06\n",
       "x82        -1.107e+04   3.69e+05     -0.030      0.976   -7.34e+05    7.12e+05\n",
       "x83        -9.272e+04   3.09e+06     -0.030      0.976   -6.14e+06    5.96e+06\n",
       "x84        -1.953e+04    6.5e+05     -0.030      0.976   -1.29e+06    1.25e+06\n",
       "x85        -1.903e+04   6.34e+05     -0.030      0.976   -1.26e+06    1.22e+06\n",
       "x86        -5.899e+04   1.96e+06     -0.030      0.976   -3.91e+06    3.79e+06\n",
       "x87        -6.549e+04   2.18e+06     -0.030      0.976   -4.34e+06    4.21e+06\n",
       "x88         1.569e+06   5.09e+07      0.031      0.975   -9.83e+07    1.01e+08\n",
       "x89        -4.069e+04   1.36e+06     -0.030      0.976    -2.7e+06    2.62e+06\n",
       "x90         1.302e+06   4.23e+07      0.031      0.975   -8.15e+07    8.41e+07\n",
       "x91        -4.086e+04   1.36e+06     -0.030      0.976   -2.71e+06    2.63e+06\n",
       "x92        -7381.4864   2.46e+05     -0.030      0.976   -4.89e+05    4.74e+05\n",
       "x93        -2.588e+04   8.62e+05     -0.030      0.976   -1.71e+06    1.66e+06\n",
       "x94        -3.108e+04   1.04e+06     -0.030      0.976   -2.06e+06       2e+06\n",
       "x95        -5.779e+04   1.92e+06     -0.030      0.976   -3.83e+06    3.71e+06\n",
       "x96         -5.67e+04   1.89e+06     -0.030      0.976   -3.76e+06    3.64e+06\n",
       "x97        -4.475e+04   1.49e+06     -0.030      0.976   -2.97e+06    2.88e+06\n",
       "x98        -1.973e+04   6.57e+05     -0.030      0.976   -1.31e+06    1.27e+06\n",
       "x99        -3.464e+04   1.15e+06     -0.030      0.976    -2.3e+06    2.23e+06\n",
       "x100       -5.692e+04    1.9e+06     -0.030      0.976   -3.77e+06    3.66e+06\n",
       "x101       -1.267e+05   4.22e+06     -0.030      0.976    -8.4e+06    8.14e+06\n",
       "x102       -9764.5317   3.25e+05     -0.030      0.976   -6.47e+05    6.28e+05\n",
       "x103       -1.331e+04   4.43e+05     -0.030      0.976   -8.82e+05    8.55e+05\n",
       "x104       -5.064e+05   1.64e+07     -0.031      0.975   -3.27e+07    3.17e+07\n",
       "x105       -1.513e+04   5.04e+05     -0.030      0.976      -1e+06    9.72e+05\n",
       "x106        -1.07e+04   3.56e+05     -0.030      0.976   -7.09e+05    6.87e+05\n",
       "x107       -8252.6780   2.75e+05     -0.030      0.976   -5.47e+05     5.3e+05\n",
       "x108       -4.797e+04    1.6e+06     -0.030      0.976   -3.18e+06    3.08e+06\n",
       "x109       -1.205e+05   4.01e+06     -0.030      0.976   -7.99e+06    7.74e+06\n",
       "x110       -8.869e+04   2.95e+06     -0.030      0.976   -5.88e+06     5.7e+06\n",
       "x111       -3.372e+04   1.12e+06     -0.030      0.976   -2.23e+06    2.17e+06\n",
       "x112       -1.777e+04   5.92e+05     -0.030      0.976   -1.18e+06    1.14e+06\n",
       "x113       -1.754e+04   5.84e+05     -0.030      0.976   -1.16e+06    1.13e+06\n",
       "x114       -9.527e+04   3.17e+06     -0.030      0.976   -6.31e+06    6.12e+06\n",
       "x115       -2.391e+04   7.96e+05     -0.030      0.976   -1.58e+06    1.54e+06\n",
       "x116       -1.478e+06    4.8e+07     -0.031      0.975   -9.55e+07    9.26e+07\n",
       "x117        2.972e+05   9.65e+06      0.031      0.975   -1.86e+07    1.92e+07\n",
       "x118       -1.667e+04   5.55e+05     -0.030      0.976    -1.1e+06    1.07e+06\n",
       "x119       -4.553e+04   1.52e+06     -0.030      0.976   -3.02e+06    2.93e+06\n",
       "x120        2.402e+04    7.7e+05      0.031      0.975   -1.48e+06    1.53e+06\n",
       "x121       -6.897e+04    2.3e+06     -0.030      0.976   -4.57e+06    4.43e+06\n",
       "x122        2.814e+04   1.12e+06      0.025      0.980   -2.17e+06    2.23e+06\n",
       "x123       -3.051e+04   1.02e+06     -0.030      0.976   -2.02e+06    1.96e+06\n",
       "x124       -9.434e+04   3.14e+06     -0.030      0.976   -6.25e+06    6.06e+06\n",
       "x125       -3.388e+04   1.13e+06     -0.030      0.976   -2.25e+06    2.18e+06\n",
       "x126       -3.684e+04   1.23e+06     -0.030      0.976   -2.44e+06    2.37e+06\n",
       "x127       -7563.7590   2.52e+05     -0.030      0.976   -5.01e+05    4.86e+05\n",
       "x128        -2.65e+04   8.83e+05     -0.030      0.976   -1.76e+06     1.7e+06\n",
       "x129       -5.384e+04   1.79e+06     -0.030      0.976   -3.57e+06    3.46e+06\n",
       "x130       -1.731e+04   5.76e+05     -0.030      0.976   -1.15e+06    1.11e+06\n",
       "x131       -4.583e+04   1.53e+06     -0.030      0.976   -3.04e+06    2.95e+06\n",
       "x132       -1.806e+05   6.01e+06     -0.030      0.976    -1.2e+07    1.16e+07\n",
       "x133       -5.713e+04    1.9e+06     -0.030      0.976   -3.79e+06    3.67e+06\n",
       "x134       -3301.1919    1.1e+05     -0.030      0.976   -2.19e+05    2.12e+05\n",
       "x135       -2.551e+04   8.49e+05     -0.030      0.976   -1.69e+06    1.64e+06\n",
       "x136         7.45e+05   2.42e+07      0.031      0.975   -4.67e+07    4.81e+07\n",
       "x137       -1.699e+04   5.66e+05     -0.030      0.976   -1.13e+06    1.09e+06\n",
       "x138       -1.119e+05   3.73e+06     -0.030      0.976   -7.42e+06    7.19e+06\n",
       "x139       -1.263e+05   4.21e+06     -0.030      0.976   -8.37e+06    8.12e+06\n",
       "x140       -9.017e+04      3e+06     -0.030      0.976   -5.98e+06     5.8e+06\n",
       "x141       -1.953e+04    6.5e+05     -0.030      0.976   -1.29e+06    1.25e+06\n",
       "x142       -4.454e+04   1.48e+06     -0.030      0.976   -2.95e+06    2.86e+06\n",
       "x143       -9764.5271   3.25e+05     -0.030      0.976   -6.47e+05    6.28e+05\n",
       "x144       -4.802e+04    1.6e+06     -0.030      0.976   -3.18e+06    3.09e+06\n",
       "x145       -5.354e+04   1.78e+06     -0.030      0.976   -3.55e+06    3.44e+06\n",
       "x146        -7.23e+04   2.41e+06     -0.030      0.976   -4.79e+06    4.65e+06\n",
       "x147       -2.711e+04   9.03e+05     -0.030      0.976    -1.8e+06    1.74e+06\n",
       "x148       -1.048e+05   3.49e+06     -0.030      0.976   -6.95e+06    6.74e+06\n",
       "x149       -9.749e+04   3.25e+06     -0.030      0.976   -6.46e+06    6.27e+06\n",
       "x150        -1.33e+05   4.43e+06     -0.030      0.976   -8.82e+06    8.55e+06\n",
       "x151        -7.97e+04   2.65e+06     -0.030      0.976   -5.28e+06    5.12e+06\n",
       "x152        2.999e+05    1.2e+07      0.025      0.980   -2.32e+07    2.38e+07\n",
       "x153       -2.609e+04   8.69e+05     -0.030      0.976   -1.73e+06    1.68e+06\n",
       "x154       -4.012e+04   1.34e+06     -0.030      0.976   -2.66e+06    2.58e+06\n",
       "x155       -8.207e+04   2.73e+06     -0.030      0.976   -5.44e+06    5.27e+06\n",
       "x156       -2.486e+04   8.28e+05     -0.030      0.976   -1.65e+06     1.6e+06\n",
       "x157       -9481.4736   3.16e+05     -0.030      0.976   -6.28e+05    6.09e+05\n",
       "x158       -9189.6935   3.06e+05     -0.030      0.976   -6.09e+05    5.91e+05\n",
       "x159       -5.933e+04   1.98e+06     -0.030      0.976   -3.93e+06    3.81e+06\n",
       "x160       -3.572e+04   1.19e+06     -0.030      0.976   -2.37e+06     2.3e+06\n",
       "x161       -2.928e+04   9.75e+05     -0.030      0.976   -1.94e+06    1.88e+06\n",
       "x162       -1.033e+05   3.44e+06     -0.030      0.976   -6.85e+06    6.64e+06\n",
       "x163       -6.852e+04   2.28e+06     -0.030      0.976   -4.54e+06     4.4e+06\n",
       "x164       -1.381e+04    4.6e+05     -0.030      0.976   -9.15e+05    8.87e+05\n",
       "x165        -3.38e+04   1.13e+06     -0.030      0.976   -2.24e+06    2.17e+06\n",
       "x166       -2.756e+04   9.18e+05     -0.030      0.976   -1.83e+06    1.77e+06\n",
       "x167       -3.583e+04   1.19e+06     -0.030      0.976   -2.37e+06     2.3e+06\n",
       "x168       -2.195e+04   7.31e+05     -0.030      0.976   -1.45e+06    1.41e+06\n",
       "x169       -5.523e+04   1.84e+06     -0.030      0.976   -3.66e+06    3.55e+06\n",
       "x170       -3.775e+04   1.26e+06     -0.030      0.976    -2.5e+06    2.43e+06\n",
       "x171       -5.498e+04   1.83e+06     -0.030      0.976   -3.64e+06    3.53e+06\n",
       "x172       -7.454e+04   2.48e+06     -0.030      0.976   -4.94e+06    4.79e+06\n",
       "x173       -1.917e+04   6.39e+05     -0.030      0.976   -1.27e+06    1.23e+06\n",
       "x174        4.826e+05   1.93e+07      0.025      0.980   -3.73e+07    3.82e+07\n",
       "x175       -1.467e+04   4.89e+05     -0.030      0.976   -9.72e+05    9.43e+05\n",
       "x176         2.67e+05   1.07e+07      0.025      0.980   -2.06e+07    2.12e+07\n",
       "x177       -5.997e+04      2e+06     -0.030      0.976   -3.97e+06    3.85e+06\n",
       "x178       -8252.6790   2.75e+05     -0.030      0.976   -5.47e+05     5.3e+05\n",
       "x179       -1.566e+04   5.21e+05     -0.030      0.976   -1.04e+06    1.01e+06\n",
       "x180       -2.867e+04   9.55e+05     -0.030      0.976    -1.9e+06    1.84e+06\n",
       "x181        -4.82e+05   1.56e+07     -0.031      0.975   -3.12e+07    3.02e+07\n",
       "x182       -3.215e+04   1.07e+06     -0.030      0.976   -2.13e+06    2.07e+06\n",
       "x183       -6.093e+04   2.03e+06     -0.030      0.976   -4.04e+06    3.92e+06\n",
       "x184       -1.634e+04   5.44e+05     -0.030      0.976   -1.08e+06    1.05e+06\n",
       "x185       -2.814e+04   9.37e+05     -0.030      0.976   -1.87e+06    1.81e+06\n",
       "x186       -2.721e+04   9.06e+05     -0.030      0.976    -1.8e+06    1.75e+06\n",
       "x187       -2.458e+04   8.19e+05     -0.030      0.976   -1.63e+06    1.58e+06\n",
       "x188       -2.164e+04   7.21e+05     -0.030      0.976   -1.43e+06    1.39e+06\n",
       "x189       -1.527e+05   5.09e+06     -0.030      0.976   -1.01e+07    9.82e+06\n",
       "x190        2.794e+05   1.12e+07      0.025      0.980   -2.16e+07    2.21e+07\n",
       "x191       -5.718e+04    1.9e+06     -0.030      0.976   -3.79e+06    3.67e+06\n",
       "x192       -1.179e+04   3.93e+05     -0.030      0.976   -7.81e+05    7.58e+05\n",
       "x193       -3.782e+04   1.26e+06     -0.030      0.976   -2.51e+06    2.43e+06\n",
       "x194       -2.464e+04   8.21e+05     -0.030      0.976   -1.63e+06    1.58e+06\n",
       "x195       -6.567e+04   2.19e+06     -0.030      0.976   -4.35e+06    4.22e+06\n",
       "x196        4.504e+04    1.8e+06      0.025      0.980   -3.48e+06    3.57e+06\n",
       "x197       -3.821e+04   1.27e+06     -0.030      0.976   -2.53e+06    2.46e+06\n",
       "x198       -3.706e+04   1.23e+06     -0.030      0.976   -2.46e+06    2.38e+06\n",
       "x199       -1.994e+04   6.64e+05     -0.030      0.976   -1.32e+06    1.28e+06\n",
       "x200       -6.095e+04   2.03e+06     -0.030      0.976   -4.04e+06    3.92e+06\n",
       "x201       -5.979e+04   1.99e+06     -0.030      0.976   -3.96e+06    3.84e+06\n",
       "x202       -2.158e+04   7.19e+05     -0.030      0.976   -1.43e+06    1.39e+06\n",
       "x203       -1.179e+04   3.93e+05     -0.030      0.976   -7.81e+05    7.58e+05\n",
       "x204       -8.508e+04   2.83e+06     -0.030      0.976   -5.64e+06    5.47e+06\n",
       "x205        -1.58e+05   5.26e+06     -0.030      0.976   -1.05e+07    1.02e+07\n",
       "x206       -1.513e+04   5.04e+05     -0.030      0.976      -1e+06    9.72e+05\n",
       "x207       -1.793e+04   5.97e+05     -0.030      0.976   -1.19e+06    1.15e+06\n",
       "x208        1.532e+04   3.19e+05      0.048      0.962    -6.1e+05     6.4e+05\n",
       "x209        5.926e+04   1.23e+06      0.048      0.962   -2.36e+06    2.48e+06\n",
       "x210         448.5080   1.46e+04      0.031      0.975   -2.81e+04     2.9e+04\n",
       "x211           0.0014      0.001      2.473      0.013       0.000       0.002\n",
       "x212          -0.0005      0.001     -0.821      0.412      -0.002       0.001\n",
       "x213        4.682e+04   9.74e+05      0.048      0.962   -1.86e+06    1.96e+06\n",
       "x214        1.813e+04   3.77e+05      0.048      0.962   -7.21e+05    7.58e+05\n",
       "x215           0.0043      0.001      7.141      0.000       0.003       0.005\n",
       "x216        1.791e+04   3.73e+05      0.048      0.962   -7.13e+05    7.49e+05\n",
       "x217        3.968e+05   8.26e+06      0.048      0.962   -1.58e+07    1.66e+07\n",
       "x218        2.455e+04   5.11e+05      0.048      0.962   -9.77e+05    1.03e+06\n",
       "x219          -4.6458    150.828     -0.031      0.975    -300.265     290.973\n",
       "x220        5.261e+05   1.09e+07      0.048      0.962   -2.09e+07     2.2e+07\n",
       "x221        1.297e+04    2.7e+05      0.048      0.962   -5.16e+05    5.42e+05\n",
       "x222          -0.0005      0.001     -0.953      0.341      -0.002       0.001\n",
       "x223          -0.0077      0.001    -13.700      0.000      -0.009      -0.007\n",
       "x224           0.0016      0.001      2.888      0.004       0.001       0.003\n",
       "x225           0.0002      0.001      0.347      0.729      -0.001       0.001\n",
       "x226           0.0010      0.001      1.758      0.079      -0.000       0.002\n",
       "x227       -1481.8738   2.85e+04     -0.052      0.959   -5.74e+04    5.44e+04\n",
       "x228       -2.635e+04   5.07e+05     -0.052      0.959   -1.02e+06    9.68e+05\n",
       "x229        -964.5268   1.86e+04     -0.052      0.959   -3.74e+04    3.54e+04\n",
       "x230       -3926.7432   7.56e+04     -0.052      0.959   -1.52e+05    1.44e+05\n",
       "x231       -1693.3983   3.26e+04     -0.052      0.959   -6.56e+04    6.22e+04\n",
       "x232       -4364.1097    8.4e+04     -0.052      0.959   -1.69e+05     1.6e+05\n",
       "x233       -6208.9062    1.2e+05     -0.052      0.959    -2.4e+05    2.28e+05\n",
       "x234          -3.0771     99.898     -0.031      0.975    -198.874     192.720\n",
       "x235       -1796.0330   3.46e+04     -0.052      0.959   -6.96e+04     6.6e+04\n",
       "x236       -2327.5075   4.48e+04     -0.052      0.959   -9.02e+04    8.55e+04\n",
       "x237           2.9272     95.034      0.031      0.975    -183.337     189.191\n",
       "x238       -1100.1825   2.12e+04     -0.052      0.959   -4.26e+04    4.04e+04\n",
       "x239       -1.296e+04   2.49e+05     -0.052      0.959   -5.02e+05    4.76e+05\n",
       "x240       -3431.2422   6.61e+04     -0.052      0.959   -1.33e+05    1.26e+05\n",
       "x241       -1.466e+04   2.82e+05     -0.052      0.959   -5.68e+05    5.39e+05\n",
       "x242       -9761.4227   1.88e+05     -0.052      0.959   -3.78e+05    3.59e+05\n",
       "x243       -3527.1812   6.79e+04     -0.052      0.959   -1.37e+05     1.3e+05\n",
       "x244       -2932.3148   5.65e+04     -0.052      0.959   -1.14e+05    1.08e+05\n",
       "x245       -2.778e+04   5.35e+05     -0.052      0.959   -1.08e+06    1.02e+06\n",
       "x246        -644.0399   1.24e+04     -0.052      0.959   -2.49e+04    2.37e+04\n",
       "x247       -1.236e-13   4.01e-12     -0.031      0.975   -7.99e-12    7.74e-12\n",
       "x248       -6096.8659   1.17e+05     -0.052      0.959   -2.36e+05    2.24e+05\n",
       "x249       -3424.7438   6.59e+04     -0.052      0.959   -1.33e+05    1.26e+05\n",
       "x250       -2398.4089   4.62e+04     -0.052      0.959   -9.29e+04    8.81e+04\n",
       "x251       -7055.8455   1.36e+05     -0.052      0.959   -2.73e+05    2.59e+05\n",
       "x252       -1580.5940   3.04e+04     -0.052      0.959   -6.12e+04    5.81e+04\n",
       "x253        -1.02e+04   1.96e+05     -0.052      0.959   -3.95e+05    3.75e+05\n",
       "x254        -669.6349   1.29e+04     -0.052      0.959   -2.59e+04    2.46e+04\n",
       "x255       -3180.3154   6.12e+04     -0.052      0.959   -1.23e+05    1.17e+05\n",
       "x256        -970.3182   1.87e+04     -0.052      0.959   -3.76e+04    3.56e+04\n",
       "x257           0.1891      0.001    202.853      0.000       0.187       0.191\n",
       "x258          -0.0581      0.001    -90.608      0.000      -0.059      -0.057\n",
       "x259        1112.2591   1.81e+05      0.006      0.995   -3.53e+05    3.56e+05\n",
       "x260         686.1208   1.12e+05      0.006      0.995   -2.18e+05    2.19e+05\n",
       "x261        1945.0373   3.16e+05      0.006      0.995   -6.18e+05    6.22e+05\n",
       "x262        1534.9926    2.5e+05      0.006      0.995   -4.88e+05    4.91e+05\n",
       "x263        2786.2047   4.53e+05      0.006      0.995   -8.85e+05    8.91e+05\n",
       "x264          -0.0095      0.001     -9.521      0.000      -0.012      -0.008\n",
       "x265           0.0056      0.001      8.598      0.000       0.004       0.007\n",
       "x266        1.332e-16   4.27e-15      0.031      0.975   -8.24e-15     8.5e-15\n",
       "x267       -7.251e+04   1.62e+06     -0.045      0.964   -3.25e+06    3.11e+06\n",
       "x268       -9.294e+04   2.08e+06     -0.045      0.964   -4.17e+06    3.98e+06\n",
       "x269       -4580.1420   1.03e+05     -0.045      0.964   -2.05e+05    1.96e+05\n",
       "x270       -9.384e+04    2.1e+06     -0.045      0.964   -4.21e+06    4.02e+06\n",
       "x271       -1.951e+04   4.37e+05     -0.045      0.964   -8.75e+05    8.36e+05\n",
       "x272       -2785.3616   6.23e+04     -0.045      0.964   -1.25e+05    1.19e+05\n",
       "x273          -0.0254      0.001    -27.021      0.000      -0.027      -0.024\n",
       "x274           0.0161      0.001     17.121      0.000       0.014       0.018\n",
       "x275       -5.251e+05   3.03e+07     -0.017      0.986   -5.99e+07    5.89e+07\n",
       "x276          -0.0110      0.001    -16.062      0.000      -0.012      -0.010\n",
       "x277           0.0299      0.001     40.800      0.000       0.028       0.031\n",
       "x278           0.0022      0.001      3.012      0.003       0.001       0.004\n",
       "x279          -0.0036      0.001     -5.697      0.000      -0.005      -0.002\n",
       "x280           0.0166      0.001     14.775      0.000       0.014       0.019\n",
       "x281           0.0095      0.001     15.998      0.000       0.008       0.011\n",
       "x282           0.0059      0.001      8.627      0.000       0.005       0.007\n",
       "x283           0.0004      0.001      0.505      0.614      -0.001       0.002\n",
       "x284           0.0267      0.001     21.983      0.000       0.024       0.029\n",
       "x285          -0.0046      0.001     -3.140      0.002      -0.007      -0.002\n",
       "x286          -0.0046      0.002     -2.830      0.005      -0.008      -0.001\n",
       "x287           0.0283      0.001     29.119      0.000       0.026       0.030\n",
       "x288          -0.0043      0.001     -6.581      0.000      -0.006      -0.003\n",
       "x289           0.0460      0.001     58.985      0.000       0.044       0.048\n",
       "x290          -0.0051      0.001     -7.670      0.000      -0.006      -0.004\n",
       "x291          -0.0154      0.001    -14.671      0.000      -0.017      -0.013\n",
       "x292           0.0028      0.001      3.934      0.000       0.001       0.004\n",
       "x293          -0.0047      0.001     -6.862      0.000      -0.006      -0.003\n",
       "x294           0.0015      0.001      2.079      0.038    8.32e-05       0.003\n",
       "x295           0.0137      0.001     18.461      0.000       0.012       0.015\n",
       "x296           0.0124      0.001     16.055      0.000       0.011       0.014\n",
       "x297           0.0018      0.001      2.176      0.030       0.000       0.003\n",
       "x298           0.0185      0.001     23.281      0.000       0.017       0.020\n",
       "x299          -0.0138      0.001    -17.166      0.000      -0.015      -0.012\n",
       "x300          -0.0031      0.001     -5.128      0.000      -0.004      -0.002\n",
       "x301          -0.0082      0.001    -11.947      0.000      -0.010      -0.007\n",
       "x302          -0.0139      0.001    -16.094      0.000      -0.016      -0.012\n",
       "x303           0.0147      0.001     23.793      0.000       0.014       0.016\n",
       "x304           0.0158      0.001     21.683      0.000       0.014       0.017\n",
       "x305          -0.0084      0.001    -10.414      0.000      -0.010      -0.007\n",
       "x306          -0.0101      0.001    -11.335      0.000      -0.012      -0.008\n",
       "x307          -0.0096      0.001    -13.822      0.000      -0.011      -0.008\n",
       "x308           0.0078      0.001     10.774      0.000       0.006       0.009\n",
       "x309          -0.0093      0.001    -13.264      0.000      -0.011      -0.008\n",
       "x310          -0.0106      0.001    -11.452      0.000      -0.012      -0.009\n",
       "x311          -0.0159      0.001    -21.337      0.000      -0.017      -0.014\n",
       "x312           0.0153      0.001     20.522      0.000       0.014       0.017\n",
       "x313          -0.0312      0.001    -22.947      0.000      -0.034      -0.029\n",
       "x314          -0.0070      0.001     -5.292      0.000      -0.010      -0.004\n",
       "x315           0.0035      0.001      4.575      0.000       0.002       0.005\n",
       "x316          -0.0050      0.001     -8.337      0.000      -0.006      -0.004\n",
       "x317           0.0060      0.001      9.723      0.000       0.005       0.007\n",
       "x318           0.0125      0.001     18.786      0.000       0.011       0.014\n",
       "x319           0.0185      0.001     30.423      0.000       0.017       0.020\n",
       "x320           0.0239      0.001     37.024      0.000       0.023       0.025\n",
       "x321           0.0104      0.001      9.340      0.000       0.008       0.013\n",
       "x322           0.0356      0.001     51.321      0.000       0.034       0.037\n",
       "x323          -0.0056      0.001     -8.087      0.000      -0.007      -0.004\n",
       "x324          -0.0006      0.001     -0.823      0.410      -0.002       0.001\n",
       "x325          -0.0093      0.001    -13.921      0.000      -0.011      -0.008\n",
       "x326           0.0187      0.001     27.000      0.000       0.017       0.020\n",
       "x327          -0.0186      0.001    -31.789      0.000      -0.020      -0.017\n",
       "x328          -0.0151      0.001    -15.077      0.000      -0.017      -0.013\n",
       "x329          -0.0079      0.001     -8.431      0.000      -0.010      -0.006\n",
       "==============================================================================\n",
       "Omnibus:                    12400.250   Durbin-Watson:                   0.084\n",
       "Prob(Omnibus):                  0.000   Jarque-Bera (JB):            24215.879\n",
       "Skew:                           0.327   Prob(JB):                         0.00\n",
       "Kurtosis:                       4.271   Cond. No.                     4.18e+16\n",
       "==============================================================================\n",
       "\n",
       "Warnings:\n",
       "[1] Standard Errors assume that the covariance matrix of the errors is correctly specified.\n",
       "[2] The smallest eigenvalue is 1.71e-27. This might indicate that there are\n",
       "strong multicollinearity problems or that the design matrix is singular.\n",
       "\"\"\""
      ]
     },
     "execution_count": 52,
     "metadata": {},
     "output_type": "execute_result"
    }
   ],
   "source": [
    "# Model-LR\n",
    "\n",
    "model=sm.OLS(y_train, sm.add_constant(X_train_trans))\n",
    "fit=model.fit()\n",
    "fit.summary()"
   ]
  },
  {
   "cell_type": "markdown",
   "metadata": {},
   "source": [
    "## Tree Based Regression"
   ]
  },
  {
   "cell_type": "markdown",
   "metadata": {},
   "source": [
    "### Boosting Tree"
   ]
  },
  {
   "cell_type": "code",
   "execution_count": 53,
   "metadata": {
    "ExecuteTime": {
     "end_time": "2019-02-19T10:38:36.619395Z",
     "start_time": "2019-02-19T10:38:36.614804Z"
    }
   },
   "outputs": [],
   "source": [
    "\n",
    "from sklearn.ensemble import GradientBoostingRegressor"
   ]
  },
  {
   "cell_type": "code",
   "execution_count": 55,
   "metadata": {
    "ExecuteTime": {
     "end_time": "2019-02-19T10:42:27.759218Z",
     "start_time": "2019-02-19T10:39:06.917234Z"
    }
   },
   "outputs": [
    {
     "name": "stdout",
     "output_type": "stream",
     "text": [
      "      Iter       Train Loss   Remaining Time \n",
      "         1           0.2995            3.30m\n",
      "         2           0.2695            3.27m\n",
      "         3           0.2451            3.21m\n",
      "         4           0.2250            3.16m\n",
      "         5           0.2084            3.13m\n",
      "         6           0.1934            3.09m\n",
      "         7           0.1812            3.04m\n",
      "         8           0.1711            3.00m\n",
      "         9           0.1628            2.97m\n",
      "        10           0.1556            2.93m\n",
      "        20           0.1170            2.60m\n",
      "        30           0.1018            2.28m\n",
      "        40           0.0935            1.95m\n",
      "        50           0.0879            1.60m\n",
      "        60           0.0842            1.26m\n",
      "        70           0.0813           57.24s\n",
      "        80           0.0788           38.18s\n",
      "        90           0.0764           19.20s\n",
      "       100           0.0747            0.00s\n"
     ]
    },
    {
     "data": {
      "text/plain": [
       "GradientBoostingRegressor(alpha=0.9, criterion='friedman_mse', init=None,\n",
       "             learning_rate=0.1, loss='ls', max_depth=3, max_features=None,\n",
       "             max_leaf_nodes=None, min_impurity_decrease=0.0,\n",
       "             min_impurity_split=None, min_samples_leaf=1,\n",
       "             min_samples_split=2, min_weight_fraction_leaf=0.0,\n",
       "             n_estimators=100, presort='auto', random_state=42,\n",
       "             subsample=1.0, verbose=1, warm_start=False)"
      ]
     },
     "execution_count": 55,
     "metadata": {},
     "output_type": "execute_result"
    }
   ],
   "source": [
    "xg = GradientBoostingRegressor(random_state=42, verbose=1, max_depth=5 )\n",
    "xg.fit(X_train_trans, y_train.ravel())"
   ]
  },
  {
   "cell_type": "code",
   "execution_count": 57,
   "metadata": {
    "ExecuteTime": {
     "end_time": "2019-02-19T10:44:13.928541Z",
     "start_time": "2019-02-19T10:44:12.572550Z"
    }
   },
   "outputs": [],
   "source": [
    "preds = xg.predict(X_test_trans)"
   ]
  },
  {
   "cell_type": "code",
   "execution_count": 58,
   "metadata": {
    "ExecuteTime": {
     "end_time": "2019-02-19T10:44:18.239332Z",
     "start_time": "2019-02-19T10:44:18.230600Z"
    }
   },
   "outputs": [],
   "source": [
    "r2 = r2_score(y_test, preds)"
   ]
  },
  {
   "cell_type": "code",
   "execution_count": 59,
   "metadata": {
    "ExecuteTime": {
     "end_time": "2019-02-19T10:44:27.563382Z",
     "start_time": "2019-02-19T10:44:27.557797Z"
    }
   },
   "outputs": [
    {
     "data": {
      "text/plain": [
       "0.7360893444223079"
      ]
     },
     "execution_count": 59,
     "metadata": {},
     "output_type": "execute_result"
    }
   ],
   "source": [
    "r2"
   ]
  },
  {
   "cell_type": "markdown",
   "metadata": {
    "ExecuteTime": {
     "end_time": "2019-02-19T10:45:21.509134Z",
     "start_time": "2019-02-19T10:45:21.505534Z"
    }
   },
   "source": [
    "### XGB"
   ]
  },
  {
   "cell_type": "code",
   "execution_count": 61,
   "metadata": {
    "ExecuteTime": {
     "end_time": "2019-02-19T10:45:48.878265Z",
     "start_time": "2019-02-19T10:45:48.874663Z"
    }
   },
   "outputs": [],
   "source": [
    "import os\n",
    "os.environ['KMP_DUPLICATE_LIB_OK']='True'\n",
    "from xgboost import XGBRegressor"
   ]
  },
  {
   "cell_type": "code",
   "execution_count": 63,
   "metadata": {
    "ExecuteTime": {
     "end_time": "2019-02-19T10:52:57.338181Z",
     "start_time": "2019-02-19T10:47:35.844377Z"
    }
   },
   "outputs": [
    {
     "data": {
      "text/plain": [
       "XGBRegressor(base_score=0.5, booster='gbtree', colsample_bylevel=1,\n",
       "       colsample_bytree=1, gamma=0, learning_rate=0.1, max_delta_step=0,\n",
       "       max_depth=3, min_child_weight=1, missing=None, n_estimators=100,\n",
       "       n_jobs=1, nthread=None, objective='reg:linear', random_state=42,\n",
       "       reg_alpha=0, reg_lambda=1, scale_pos_weight=1, seed=None,\n",
       "       silent=True, subsample=1)"
      ]
     },
     "execution_count": 63,
     "metadata": {},
     "output_type": "execute_result"
    }
   ],
   "source": [
    "xg = XGBRegressor(random_state=42)\n",
    "xg.fit(X_train_trans, y_train.ravel())"
   ]
  },
  {
   "cell_type": "code",
   "execution_count": 64,
   "metadata": {
    "ExecuteTime": {
     "end_time": "2019-02-19T10:53:04.346470Z",
     "start_time": "2019-02-19T10:53:01.772260Z"
    }
   },
   "outputs": [],
   "source": [
    "preds = xg.predict(X_test_trans)"
   ]
  },
  {
   "cell_type": "code",
   "execution_count": 65,
   "metadata": {
    "ExecuteTime": {
     "end_time": "2019-02-19T10:53:08.433615Z",
     "start_time": "2019-02-19T10:53:08.422697Z"
    }
   },
   "outputs": [],
   "source": [
    "r2 = r2_score(y_test, preds)"
   ]
  },
  {
   "cell_type": "code",
   "execution_count": 77,
   "metadata": {
    "ExecuteTime": {
     "end_time": "2019-02-19T11:09:33.689550Z",
     "start_time": "2019-02-19T11:09:33.683510Z"
    }
   },
   "outputs": [
    {
     "data": {
      "text/plain": [
       "0.7327698418900908"
      ]
     },
     "execution_count": 77,
     "metadata": {},
     "output_type": "execute_result"
    }
   ],
   "source": [
    "r2"
   ]
  },
  {
   "cell_type": "markdown",
   "metadata": {
    "ExecuteTime": {
     "end_time": "2019-02-18T09:53:22.993706Z",
     "start_time": "2019-02-18T09:53:22.963032Z"
    }
   },
   "source": [
    "### Lasso"
   ]
  },
  {
   "cell_type": "code",
   "execution_count": 66,
   "metadata": {
    "ExecuteTime": {
     "end_time": "2019-02-19T10:53:12.854662Z",
     "start_time": "2019-02-19T10:53:12.841494Z"
    }
   },
   "outputs": [],
   "source": [
    "from sklearn.pipeline import make_pipeline\n",
    "from sklearn.model_selection import RandomizedSearchCV\n",
    "from sklearn.model_selection import GridSearchCV\n",
    "from sklearn.preprocessing import PolynomialFeatures\n",
    "from sklearn.linear_model import Lasso"
   ]
  },
  {
   "cell_type": "code",
   "execution_count": 67,
   "metadata": {
    "ExecuteTime": {
     "end_time": "2019-02-19T10:53:17.215891Z",
     "start_time": "2019-02-19T10:53:17.210802Z"
    }
   },
   "outputs": [],
   "source": [
    "est = make_pipeline(PolynomialFeatures(), Lasso())"
   ]
  },
  {
   "cell_type": "code",
   "execution_count": 68,
   "metadata": {
    "ExecuteTime": {
     "end_time": "2019-02-19T10:53:21.226650Z",
     "start_time": "2019-02-19T10:53:21.219220Z"
    }
   },
   "outputs": [
    {
     "data": {
      "text/plain": [
       "dict_keys(['memory', 'steps', 'polynomialfeatures', 'lasso', 'polynomialfeatures__degree', 'polynomialfeatures__include_bias', 'polynomialfeatures__interaction_only', 'lasso__alpha', 'lasso__copy_X', 'lasso__fit_intercept', 'lasso__max_iter', 'lasso__normalize', 'lasso__positive', 'lasso__precompute', 'lasso__random_state', 'lasso__selection', 'lasso__tol', 'lasso__warm_start'])"
      ]
     },
     "execution_count": 68,
     "metadata": {},
     "output_type": "execute_result"
    }
   ],
   "source": [
    "est.get_params().keys()"
   ]
  },
  {
   "cell_type": "code",
   "execution_count": 69,
   "metadata": {
    "ExecuteTime": {
     "end_time": "2019-02-19T10:53:25.314811Z",
     "start_time": "2019-02-19T10:53:25.310130Z"
    }
   },
   "outputs": [],
   "source": [
    "params ={'polynomialfeatures__degree':[1], \n",
    "         'lasso__alpha': [1e-4, 1e-3, 1e-2, 1e-1, 1],\n",
    "        }"
   ]
  },
  {
   "cell_type": "code",
   "execution_count": 70,
   "metadata": {
    "ExecuteTime": {
     "end_time": "2019-02-19T11:05:55.133569Z",
     "start_time": "2019-02-19T10:53:29.972816Z"
    }
   },
   "outputs": [
    {
     "name": "stderr",
     "output_type": "stream",
     "text": [
      "/Users/xzhou/anaconda3/lib/python3.6/site-packages/sklearn/linear_model/coordinate_descent.py:491: ConvergenceWarning: Objective did not converge. You might want to increase the number of iterations. Fitting data with very small alpha may cause precision problems.\n",
      "  ConvergenceWarning)\n"
     ]
    },
    {
     "data": {
      "text/plain": [
       "GridSearchCV(cv=3, error_score='raise',\n",
       "       estimator=Pipeline(memory=None,\n",
       "     steps=[('polynomialfeatures', PolynomialFeatures(degree=2, include_bias=True, interaction_only=False)), ('lasso', Lasso(alpha=1.0, copy_X=True, fit_intercept=True, max_iter=1000,\n",
       "   normalize=False, positive=False, precompute=False, random_state=None,\n",
       "   selection='cyclic', tol=0.0001, warm_start=False))]),\n",
       "       fit_params=None, iid=True, n_jobs=-1,\n",
       "       param_grid={'polynomialfeatures__degree': [1], 'lasso__alpha': [0.0001, 0.001, 0.01, 0.1, 1]},\n",
       "       pre_dispatch='2*n_jobs', refit=True, return_train_score=True,\n",
       "       scoring=None, verbose=0)"
      ]
     },
     "execution_count": 70,
     "metadata": {},
     "output_type": "execute_result"
    }
   ],
   "source": [
    "grid = GridSearchCV(est, param_grid=params, cv=3, \n",
    "                    return_train_score=True,  n_jobs =-1)\n",
    "grid.fit(X_train_trans, y_train)"
   ]
  },
  {
   "cell_type": "code",
   "execution_count": 71,
   "metadata": {
    "ExecuteTime": {
     "end_time": "2019-02-19T11:05:59.403235Z",
     "start_time": "2019-02-19T11:05:59.393304Z"
    }
   },
   "outputs": [
    {
     "data": {
      "text/plain": [
       "array([3, 2, 1, 4, 5], dtype=int32)"
      ]
     },
     "execution_count": 71,
     "metadata": {},
     "output_type": "execute_result"
    }
   ],
   "source": [
    "grid.cv_results_\n",
    "\n",
    "grid.cv_results_['params']\n",
    "grid.cv_results_['mean_train_score']\n",
    "grid.cv_results_['rank_test_score']"
   ]
  },
  {
   "cell_type": "code",
   "execution_count": 72,
   "metadata": {
    "ExecuteTime": {
     "end_time": "2019-02-19T11:06:03.186055Z",
     "start_time": "2019-02-19T11:06:03.171284Z"
    }
   },
   "outputs": [
    {
     "data": {
      "text/plain": [
       "{'mean_fit_time': array([648.317487  , 144.41680336,  39.61655235,  34.74258304,\n",
       "         25.98952699]),\n",
       " 'std_fit_time': array([63.68963956, 12.89595492,  0.06832425,  0.44080358,  0.85835262]),\n",
       " 'mean_score_time': array([7.44018769, 5.25199135, 3.7829423 , 3.83136169, 4.36578902]),\n",
       " 'std_score_time': array([0.92971934, 2.09325976, 0.21156941, 0.86512447, 0.8849883 ]),\n",
       " 'param_lasso__alpha': masked_array(data=[0.0001, 0.001, 0.01, 0.1, 1],\n",
       "              mask=[False, False, False, False, False],\n",
       "        fill_value='?',\n",
       "             dtype=object),\n",
       " 'param_polynomialfeatures__degree': masked_array(data=[1, 1, 1, 1, 1],\n",
       "              mask=[False, False, False, False, False],\n",
       "        fill_value='?',\n",
       "             dtype=object),\n",
       " 'params': [{'lasso__alpha': 0.0001, 'polynomialfeatures__degree': 1},\n",
       "  {'lasso__alpha': 0.001, 'polynomialfeatures__degree': 1},\n",
       "  {'lasso__alpha': 0.01, 'polynomialfeatures__degree': 1},\n",
       "  {'lasso__alpha': 0.1, 'polynomialfeatures__degree': 1},\n",
       "  {'lasso__alpha': 1, 'polynomialfeatures__degree': 1}],\n",
       " 'split0_test_score': array([ 0.6531257 ,  0.65862657,  0.65398966,  0.49688224, -0.01636696]),\n",
       " 'split1_test_score': array([ 0.68878841,  0.69561746,  0.69437735,  0.51763656, -0.00506058]),\n",
       " 'split2_test_score': array([ 0.64447779,  0.65946557,  0.67965616,  0.49925541, -0.00218707]),\n",
       " 'mean_test_score': array([ 0.66213069,  0.67123657,  0.67600771,  0.50459142, -0.00787156]),\n",
       " 'std_test_score': array([0.01917767, 0.01724334, 0.01668884, 0.00927507, 0.00612065]),\n",
       " 'rank_test_score': array([3, 2, 1, 4, 5], dtype=int32),\n",
       " 'split0_train_score': array([0.76220963, 0.76050609, 0.72400587, 0.52297725, 0.        ]),\n",
       " 'split1_train_score': array([0.75242423, 0.75082254, 0.70979449, 0.50398958, 0.        ]),\n",
       " 'split2_train_score': array([0.75290336, 0.75137857, 0.70920904, 0.51083059, 0.        ]),\n",
       " 'mean_train_score': array([0.75584574, 0.75423573, 0.71433647, 0.51259914, 0.        ]),\n",
       " 'std_train_score': array([0.0045042 , 0.00443962, 0.00684148, 0.00785191, 0.        ])}"
      ]
     },
     "execution_count": 72,
     "metadata": {},
     "output_type": "execute_result"
    }
   ],
   "source": [
    "grid.cv_results_"
   ]
  },
  {
   "cell_type": "code",
   "execution_count": 73,
   "metadata": {
    "ExecuteTime": {
     "end_time": "2019-02-19T11:06:07.147435Z",
     "start_time": "2019-02-19T11:06:07.142728Z"
    }
   },
   "outputs": [
    {
     "data": {
      "text/plain": [
       "{'lasso__alpha': 0.01, 'polynomialfeatures__degree': 1}"
      ]
     },
     "execution_count": 73,
     "metadata": {},
     "output_type": "execute_result"
    }
   ],
   "source": [
    "grid.best_params_"
   ]
  },
  {
   "cell_type": "code",
   "execution_count": 74,
   "metadata": {
    "ExecuteTime": {
     "end_time": "2019-02-19T11:06:10.991276Z",
     "start_time": "2019-02-19T11:06:10.985125Z"
    }
   },
   "outputs": [
    {
     "data": {
      "text/plain": [
       "[{'lasso__alpha': 0.0001, 'polynomialfeatures__degree': 1},\n",
       " {'lasso__alpha': 0.001, 'polynomialfeatures__degree': 1},\n",
       " {'lasso__alpha': 0.01, 'polynomialfeatures__degree': 1},\n",
       " {'lasso__alpha': 0.1, 'polynomialfeatures__degree': 1},\n",
       " {'lasso__alpha': 1, 'polynomialfeatures__degree': 1}]"
      ]
     },
     "execution_count": 74,
     "metadata": {},
     "output_type": "execute_result"
    }
   ],
   "source": [
    "grid.cv_results_['params']"
   ]
  },
  {
   "cell_type": "code",
   "execution_count": 75,
   "metadata": {
    "ExecuteTime": {
     "end_time": "2019-02-19T11:06:14.771916Z",
     "start_time": "2019-02-19T11:06:14.763216Z"
    }
   },
   "outputs": [
    {
     "data": {
      "text/plain": [
       "0.6760077102943869"
      ]
     },
     "execution_count": 75,
     "metadata": {},
     "output_type": "execute_result"
    }
   ],
   "source": [
    "grid.best_score_"
   ]
  },
  {
   "cell_type": "markdown",
   "metadata": {},
   "source": [
    "### Random Forest"
   ]
  },
  {
   "cell_type": "code",
   "execution_count": 76,
   "metadata": {
    "ExecuteTime": {
     "end_time": "2019-02-19T11:09:29.758608Z",
     "start_time": "2019-02-19T11:06:18.542329Z"
    }
   },
   "outputs": [
    {
     "name": "stderr",
     "output_type": "stream",
     "text": [
      "[Parallel(n_jobs=-1)]: Done  42 tasks      | elapsed:  1.4min\n",
      "[Parallel(n_jobs=-1)]: Done 100 out of 100 | elapsed:  3.1min finished\n",
      "[Parallel(n_jobs=4)]: Done  42 tasks      | elapsed:    0.6s\n",
      "[Parallel(n_jobs=4)]: Done 100 out of 100 | elapsed:    1.4s finished\n",
      "[Parallel(n_jobs=4)]: Done  42 tasks      | elapsed:    0.2s\n"
     ]
    },
    {
     "name": "stdout",
     "output_type": "stream",
     "text": [
      "MSE train: 0.000, test: 0.106\n",
      "R^2 train: 1.000, test: 0.679\n"
     ]
    },
    {
     "name": "stderr",
     "output_type": "stream",
     "text": [
      "[Parallel(n_jobs=4)]: Done 100 out of 100 | elapsed:    0.6s finished\n"
     ]
    }
   ],
   "source": [
    "# Model-Random Forest\n",
    "\n",
    "rf = RandomForestRegressor(n_estimators=100, \n",
    "                           criterion='mse', \n",
    "                           random_state=42, \n",
    "                           verbose=1,\n",
    "                           n_jobs=-1)\n",
    "rf.fit(X_train_trans, y_train.ravel())\n",
    "\n",
    "y_train_pred = rf.predict(X_train_trans)\n",
    "y_test_pred = rf.predict(X_test_trans)\n",
    "\n",
    "print('MSE train: %.3f, test: %.3f' % (\n",
    "        mean_squared_error(y_train, y_train_pred),\n",
    "        mean_squared_error(y_test, y_test_pred)))\n",
    "print('R^2 train: %.3f, test: %.3f' % (\n",
    "        r2_score(y_train, y_train_pred),\n",
    "        r2_score(y_test, y_test_pred)))"
   ]
  },
  {
   "cell_type": "code",
   "execution_count": null,
   "metadata": {
    "ExecuteTime": {
     "end_time": "2019-02-18T22:47:27.340734Z",
     "start_time": "2019-02-18T22:36:47.926Z"
    }
   },
   "outputs": [],
   "source": [
    "df_final.listing_id.nunique()"
   ]
  },
  {
   "cell_type": "code",
   "execution_count": null,
   "metadata": {
    "ExecuteTime": {
     "end_time": "2019-02-18T03:37:12.175804Z",
     "start_time": "2019-02-18T03:37:12.130344Z"
    }
   },
   "outputs": [],
   "source": [
    "# Double check on price range. The range is as expected\n",
    "\n",
    "y.describe(include='all')"
   ]
  },
  {
   "cell_type": "code",
   "execution_count": null,
   "metadata": {
    "ExecuteTime": {
     "end_time": "2019-02-18T03:37:17.200153Z",
     "start_time": "2019-02-18T03:37:17.092252Z"
    }
   },
   "outputs": [],
   "source": [
    "# Map feature importance with labels\n",
    "\n",
    "feature_labels = X.columns\n",
    "feature_tuples = zip (feature_labels, rf.feature_importances_)\n",
    "feature_lists = [list(feature_tuple) for feature_tuple in feature_tuples]"
   ]
  },
  {
   "cell_type": "code",
   "execution_count": null,
   "metadata": {
    "ExecuteTime": {
     "end_time": "2019-02-18T03:37:22.160740Z",
     "start_time": "2019-02-18T03:37:22.146719Z"
    }
   },
   "outputs": [],
   "source": [
    "# Order features based on importance\n",
    "\n",
    "feature_lists.sort(key=lambda x: abs(x[1]), reverse=True)\n",
    "feature_lists"
   ]
  },
  {
   "cell_type": "code",
   "execution_count": null,
   "metadata": {
    "ExecuteTime": {
     "end_time": "2019-02-18T03:37:27.099467Z",
     "start_time": "2019-02-18T03:37:27.090834Z"
    }
   },
   "outputs": [],
   "source": [
    "features = [list_[0] for list_ in feature_lists]\n",
    "features"
   ]
  },
  {
   "cell_type": "code",
   "execution_count": null,
   "metadata": {
    "ExecuteTime": {
     "end_time": "2019-02-18T03:37:32.044883Z",
     "start_time": "2019-02-18T03:37:32.040090Z"
    }
   },
   "outputs": [],
   "source": [
    "# 'ref_dist', 'ref_juri', 'ref_jurisdiction', 'price_by_month_week'\n",
    "\n",
    "\n",
    "columns =['listing_id']\n",
    "columns.extend(features)\n",
    "columns.extend(['ref_district', 'ref_jurisdiction', 'price_by_month_dow'])"
   ]
  },
  {
   "cell_type": "code",
   "execution_count": null,
   "metadata": {
    "ExecuteTime": {
     "end_time": "2019-02-18T03:37:37.095412Z",
     "start_time": "2019-02-18T03:37:36.442344Z"
    }
   },
   "outputs": [],
   "source": [
    "df_data = df_final[columns]\n",
    "df_data.head()"
   ]
  },
  {
   "cell_type": "code",
   "execution_count": null,
   "metadata": {
    "ExecuteTime": {
     "end_time": "2019-02-18T03:37:43.055535Z",
     "start_time": "2019-02-18T03:37:43.049803Z"
    }
   },
   "outputs": [],
   "source": [
    "df_data.shape"
   ]
  },
  {
   "cell_type": "code",
   "execution_count": null,
   "metadata": {
    "ExecuteTime": {
     "end_time": "2019-02-18T03:37:49.818311Z",
     "start_time": "2019-02-18T03:37:49.216337Z"
    }
   },
   "outputs": [],
   "source": [
    "df_data.rename(columns={'price_by_month_dow':'price'}, inplace=True)"
   ]
  },
  {
   "cell_type": "code",
   "execution_count": null,
   "metadata": {
    "ExecuteTime": {
     "end_time": "2019-02-18T03:37:56.497520Z",
     "start_time": "2019-02-18T03:37:55.318891Z"
    }
   },
   "outputs": [],
   "source": [
    "df_data.isnull().sum()"
   ]
  },
  {
   "cell_type": "code",
   "execution_count": null,
   "metadata": {
    "ExecuteTime": {
     "end_time": "2019-02-18T02:14:17.220412Z",
     "start_time": "2019-02-18T02:13:52.014089Z"
    },
    "scrolled": false
   },
   "outputs": [],
   "source": [
    "temp_df = df_data[['Monday', 'Tuesday', 'Wednesday', 'Thursday', 'Friday', 'Saturday', 'Sunday']].copy()\n",
    "\n",
    "days = temp_df.apply(lambda x: x.idxmax(), axis=1)\n",
    "days"
   ]
  },
  {
   "cell_type": "code",
   "execution_count": null,
   "metadata": {
    "ExecuteTime": {
     "end_time": "2018-09-17T22:12:55.258059Z",
     "start_time": "2018-09-17T22:12:27.019Z"
    }
   },
   "outputs": [],
   "source": [
    "csv_file = '/Users/xzhou/github/project_archives/files_airbnb/{}.csv'\n",
    "\n",
    "csv_path = csv_file.format('airbnb_data')\n",
    "\n",
    "df_data.to_csv(csv_path)"
   ]
  },
  {
   "cell_type": "code",
   "execution_count": null,
   "metadata": {},
   "outputs": [],
   "source": []
  },
  {
   "cell_type": "code",
   "execution_count": null,
   "metadata": {
    "ExecuteTime": {
     "end_time": "2019-02-18T03:38:51.267141Z",
     "start_time": "2019-02-18T03:38:45.434760Z"
    }
   },
   "outputs": [],
   "source": [
    "# This is to create visual to show seasonality\n",
    "\n",
    "df_visual = pd.merge(left=df_pricing_by_mon_dow, \n",
    "                    right=df_listings_features,\n",
    "                    how='inner',\n",
    "                    left_on='listing_id',\n",
    "                    right_on='id')"
   ]
  },
  {
   "cell_type": "code",
   "execution_count": null,
   "metadata": {
    "ExecuteTime": {
     "end_time": "2019-02-18T02:14:31.142864Z",
     "start_time": "2019-02-18T02:14:31.137080Z"
    }
   },
   "outputs": [],
   "source": [
    "# df_visual = df_final.copy()"
   ]
  },
  {
   "cell_type": "code",
   "execution_count": null,
   "metadata": {
    "ExecuteTime": {
     "end_time": "2019-02-18T03:38:03.335205Z",
     "start_time": "2019-02-18T03:35:42.959Z"
    }
   },
   "outputs": [],
   "source": [
    "df_visual.shape"
   ]
  },
  {
   "cell_type": "code",
   "execution_count": null,
   "metadata": {
    "ExecuteTime": {
     "end_time": "2019-02-18T03:42:57.279222Z",
     "start_time": "2019-02-18T03:42:57.272733Z"
    }
   },
   "outputs": [],
   "source": [
    "df_visual.columns"
   ]
  },
  {
   "cell_type": "code",
   "execution_count": null,
   "metadata": {
    "ExecuteTime": {
     "end_time": "2019-02-18T03:50:37.560728Z",
     "start_time": "2019-02-18T03:50:37.479608Z"
    }
   },
   "outputs": [],
   "source": [
    "df_by_dow = df_visual  \\\n",
    "                          .groupby(['ref_district', 'day_of_week'])  \\\n",
    "                          .price_by_month_dow.mean()\n",
    "df_by_dow"
   ]
  },
  {
   "cell_type": "code",
   "execution_count": null,
   "metadata": {
    "ExecuteTime": {
     "end_time": "2019-02-18T03:51:15.288718Z",
     "start_time": "2019-02-18T03:51:15.215199Z"
    }
   },
   "outputs": [],
   "source": [
    "df_by_dow = df_visual  \\\n",
    "                          .groupby(['ref_district', 'month'])  \\\n",
    "                          .price_by_month_dow.mean()\n",
    "df_by_dow"
   ]
  },
  {
   "cell_type": "code",
   "execution_count": null,
   "metadata": {
    "ExecuteTime": {
     "end_time": "2019-02-18T03:39:36.492597Z",
     "start_time": "2019-02-18T03:39:35.354521Z"
    }
   },
   "outputs": [],
   "source": [
    "df_visual_ent_apart = df_visual[df_visual['room_type_Entire home/apt']==1 ]\n",
    "df_visual_sing_room = df_visual[df_visual['room_type_Entire home/apt']!=1 ]\n",
    "\n",
    "print(df_visual_ent_apart.shape, df_visual_sing_room.shape )"
   ]
  },
  {
   "cell_type": "code",
   "execution_count": null,
   "metadata": {
    "ExecuteTime": {
     "end_time": "2019-02-18T03:40:45.656273Z",
     "start_time": "2019-02-18T03:40:45.648104Z"
    }
   },
   "outputs": [],
   "source": [
    "df_visual_ent_apart.ref_district.describe"
   ]
  },
  {
   "cell_type": "code",
   "execution_count": null,
   "metadata": {
    "ExecuteTime": {
     "end_time": "2019-02-18T02:14:58.880705Z",
     "start_time": "2019-02-18T02:14:58.747358Z"
    }
   },
   "outputs": [],
   "source": [
    "# df_visual_entire_apartment_sf = df_visual_entire_apartment[\n",
    "#                            df_visual_entire_apartment['ref_district']=='San Francisco']\n",
    "# df_visual_entire_apartment_scz = df_visual_entire_apartment[df_visual_entire_apartment['ref_district']=='Santa Clara']\n",
    "\n",
    "# print(df_visual_entire_apartment_sf.shape, df_visual_entire_apartment_scz.shape )"
   ]
  },
  {
   "cell_type": "code",
   "execution_count": null,
   "metadata": {
    "ExecuteTime": {
     "end_time": "2019-02-18T02:15:05.436739Z",
     "start_time": "2019-02-18T02:15:05.429732Z"
    }
   },
   "outputs": [],
   "source": [
    "# df_visual_entire_apartment_sf.listing_id.nunique()"
   ]
  },
  {
   "cell_type": "code",
   "execution_count": null,
   "metadata": {
    "ExecuteTime": {
     "end_time": "2019-02-18T02:15:11.884816Z",
     "start_time": "2019-02-18T02:15:11.878206Z"
    }
   },
   "outputs": [],
   "source": [
    "# df_visual_entire_apartment_scz.listing_id.nunique()"
   ]
  },
  {
   "cell_type": "code",
   "execution_count": null,
   "metadata": {
    "ExecuteTime": {
     "end_time": "2019-02-18T03:44:29.009085Z",
     "start_time": "2019-02-18T03:44:28.964443Z"
    }
   },
   "outputs": [],
   "source": [
    "# Weekly pattern for entire apartment\n",
    "\n",
    "df_ent_apart_by_dow = df_visual_ent_apart  \\\n",
    "                          .groupby(['ref_district', 'day_of_week'])  \\\n",
    "                          .price_by_month_dow.mean()\n",
    "df_ent_apart_by_dow"
   ]
  },
  {
   "cell_type": "code",
   "execution_count": null,
   "metadata": {
    "ExecuteTime": {
     "end_time": "2019-02-18T03:45:36.536523Z",
     "start_time": "2019-02-18T03:45:36.503871Z"
    }
   },
   "outputs": [],
   "source": [
    "# Weekly pattern for single room\n",
    "\n",
    "df_sing_room_by_dow = df_visual_sing_room  \\\n",
    "                          .groupby(['ref_district', 'day_of_week'])  \\\n",
    "                          .price_by_month_dow.mean()\n",
    "df_sing_room_by_dow"
   ]
  },
  {
   "cell_type": "code",
   "execution_count": null,
   "metadata": {
    "ExecuteTime": {
     "end_time": "2019-02-18T03:46:30.677978Z",
     "start_time": "2019-02-18T03:46:30.641259Z"
    }
   },
   "outputs": [],
   "source": [
    "# Montly Pattern for entire apartment\n",
    "\n",
    "df_visual_ent_apart.groupby(['ref_district', 'month']).price_by_month_dow.mean()"
   ]
  },
  {
   "cell_type": "code",
   "execution_count": null,
   "metadata": {
    "ExecuteTime": {
     "end_time": "2019-02-18T03:46:38.946129Z",
     "start_time": "2019-02-18T03:46:38.913688Z"
    }
   },
   "outputs": [],
   "source": [
    "# Montly Pattern for single room\n",
    "\n",
    "df_visual_sing_room.groupby(['ref_district', 'month']).price_by_month_dow.mean()"
   ]
  }
 ],
 "metadata": {
  "kernelspec": {
   "display_name": "Python 3",
   "language": "python",
   "name": "python3"
  },
  "language_info": {
   "codemirror_mode": {
    "name": "ipython",
    "version": 3
   },
   "file_extension": ".py",
   "mimetype": "text/x-python",
   "name": "python",
   "nbconvert_exporter": "python",
   "pygments_lexer": "ipython3",
   "version": "3.6.8"
  },
  "toc": {
   "base_numbering": 1,
   "nav_menu": {},
   "number_sections": true,
   "sideBar": true,
   "skip_h1_title": false,
   "title_cell": "Table of Contents",
   "title_sidebar": "Contents",
   "toc_cell": false,
   "toc_position": {},
   "toc_section_display": true,
   "toc_window_display": true
  },
  "varInspector": {
   "cols": {
    "lenName": 16,
    "lenType": 16,
    "lenVar": 40
   },
   "kernels_config": {
    "python": {
     "delete_cmd_postfix": "",
     "delete_cmd_prefix": "del ",
     "library": "var_list.py",
     "varRefreshCmd": "print(var_dic_list())"
    },
    "r": {
     "delete_cmd_postfix": ") ",
     "delete_cmd_prefix": "rm(",
     "library": "var_list.r",
     "varRefreshCmd": "cat(var_dic_list()) "
    }
   },
   "types_to_exclude": [
    "module",
    "function",
    "builtin_function_or_method",
    "instance",
    "_Feature"
   ],
   "window_display": false
  }
 },
 "nbformat": 4,
 "nbformat_minor": 2
}
